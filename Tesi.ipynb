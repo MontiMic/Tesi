{
  "nbformat": 4,
  "nbformat_minor": 0,
  "metadata": {
    "colab": {
      "name": "Untitled0.ipynb",
      "provenance": [],
      "collapsed_sections": [],
      "authorship_tag": "ABX9TyO0pptNGK1bXIqBi7ZrQ5Ua",
      "include_colab_link": true
    },
    "kernelspec": {
      "name": "python3",
      "display_name": "Python 3"
    },
    "language_info": {
      "name": "python"
    },
    "accelerator": "GPU",
    "widgets": {
      "application/vnd.jupyter.widget-state+json": {
        "88aea370fbef45ea9aa9512c51821833": {
          "model_module": "@jupyter-widgets/controls",
          "model_name": "VBoxModel",
          "model_module_version": "1.5.0",
          "state": {
            "_view_name": "VBoxView",
            "_dom_classes": [
              "widget-interact"
            ],
            "_model_name": "VBoxModel",
            "_view_module": "@jupyter-widgets/controls",
            "_model_module_version": "1.5.0",
            "_view_count": null,
            "_view_module_version": "1.5.0",
            "box_style": "",
            "layout": "IPY_MODEL_b0d318d0e3b3449ea1d9fc9889eea143",
            "_model_module": "@jupyter-widgets/controls",
            "children": [
              "IPY_MODEL_2cf741079db24deb906b7adb46b0aefe",
              "IPY_MODEL_78f4ddac38ef4d3ba18a4663d1d575a1",
              "IPY_MODEL_6a55352892cf4e2392ca9da8d1c0489b"
            ]
          }
        },
        "b0d318d0e3b3449ea1d9fc9889eea143": {
          "model_module": "@jupyter-widgets/base",
          "model_name": "LayoutModel",
          "model_module_version": "1.2.0",
          "state": {
            "_view_name": "LayoutView",
            "grid_template_rows": null,
            "right": null,
            "justify_content": null,
            "_view_module": "@jupyter-widgets/base",
            "overflow": null,
            "_model_module_version": "1.2.0",
            "_view_count": null,
            "flex_flow": null,
            "width": null,
            "min_width": null,
            "border": null,
            "align_items": null,
            "bottom": null,
            "_model_module": "@jupyter-widgets/base",
            "top": null,
            "grid_column": null,
            "overflow_y": null,
            "overflow_x": null,
            "grid_auto_flow": null,
            "grid_area": null,
            "grid_template_columns": null,
            "flex": null,
            "_model_name": "LayoutModel",
            "justify_items": null,
            "grid_row": null,
            "max_height": null,
            "align_content": null,
            "visibility": null,
            "align_self": null,
            "height": null,
            "min_height": null,
            "padding": null,
            "grid_auto_rows": null,
            "grid_gap": null,
            "max_width": null,
            "order": null,
            "_view_module_version": "1.2.0",
            "grid_template_areas": null,
            "object_position": null,
            "object_fit": null,
            "grid_auto_columns": null,
            "margin": null,
            "display": null,
            "left": null
          }
        },
        "2cf741079db24deb906b7adb46b0aefe": {
          "model_module": "@jupyter-widgets/controls",
          "model_name": "IntSliderModel",
          "model_module_version": "1.5.0",
          "state": {
            "_view_name": "IntSliderView",
            "style": "IPY_MODEL_d2d8906fecc94fa8878f5e49b384d9c2",
            "_dom_classes": [],
            "description": "blue",
            "step": 1,
            "_model_name": "IntSliderModel",
            "orientation": "horizontal",
            "max": 100,
            "_view_module": "@jupyter-widgets/controls",
            "_model_module_version": "1.5.0",
            "value": 1,
            "_view_count": null,
            "disabled": false,
            "_view_module_version": "1.5.0",
            "min": 0,
            "continuous_update": true,
            "readout_format": "d",
            "description_tooltip": null,
            "readout": true,
            "_model_module": "@jupyter-widgets/controls",
            "layout": "IPY_MODEL_1d2be4aa1ade4338872b4b1f36785390"
          }
        },
        "78f4ddac38ef4d3ba18a4663d1d575a1": {
          "model_module": "@jupyter-widgets/controls",
          "model_name": "IntSliderModel",
          "model_module_version": "1.5.0",
          "state": {
            "_view_name": "IntSliderView",
            "style": "IPY_MODEL_b791a9d36fdc45d1bdf338e8c62e60dd",
            "_dom_classes": [],
            "description": "red",
            "step": 1,
            "_model_name": "IntSliderModel",
            "orientation": "horizontal",
            "max": 100,
            "_view_module": "@jupyter-widgets/controls",
            "_model_module_version": "1.5.0",
            "value": 1,
            "_view_count": null,
            "disabled": false,
            "_view_module_version": "1.5.0",
            "min": 0,
            "continuous_update": true,
            "readout_format": "d",
            "description_tooltip": null,
            "readout": true,
            "_model_module": "@jupyter-widgets/controls",
            "layout": "IPY_MODEL_78d468c186644d49bffc8a88b8c5defa"
          }
        },
        "6a55352892cf4e2392ca9da8d1c0489b": {
          "model_module": "@jupyter-widgets/output",
          "model_name": "OutputModel",
          "model_module_version": "1.0.0",
          "state": {
            "_view_name": "OutputView",
            "msg_id": "",
            "_dom_classes": [],
            "_model_name": "OutputModel",
            "outputs": [],
            "_view_module": "@jupyter-widgets/output",
            "_model_module_version": "1.0.0",
            "_view_count": null,
            "_view_module_version": "1.0.0",
            "layout": "IPY_MODEL_739947c9e39b4f5990f4639d3f7cd936",
            "_model_module": "@jupyter-widgets/output"
          }
        },
        "d2d8906fecc94fa8878f5e49b384d9c2": {
          "model_module": "@jupyter-widgets/controls",
          "model_name": "SliderStyleModel",
          "model_module_version": "1.5.0",
          "state": {
            "_view_name": "StyleView",
            "handle_color": null,
            "_model_name": "SliderStyleModel",
            "description_width": "",
            "_view_module": "@jupyter-widgets/base",
            "_model_module_version": "1.5.0",
            "_view_count": null,
            "_view_module_version": "1.2.0",
            "_model_module": "@jupyter-widgets/controls"
          }
        },
        "1d2be4aa1ade4338872b4b1f36785390": {
          "model_module": "@jupyter-widgets/base",
          "model_name": "LayoutModel",
          "model_module_version": "1.2.0",
          "state": {
            "_view_name": "LayoutView",
            "grid_template_rows": null,
            "right": null,
            "justify_content": null,
            "_view_module": "@jupyter-widgets/base",
            "overflow": null,
            "_model_module_version": "1.2.0",
            "_view_count": null,
            "flex_flow": null,
            "width": null,
            "min_width": null,
            "border": null,
            "align_items": null,
            "bottom": null,
            "_model_module": "@jupyter-widgets/base",
            "top": null,
            "grid_column": null,
            "overflow_y": null,
            "overflow_x": null,
            "grid_auto_flow": null,
            "grid_area": null,
            "grid_template_columns": null,
            "flex": null,
            "_model_name": "LayoutModel",
            "justify_items": null,
            "grid_row": null,
            "max_height": null,
            "align_content": null,
            "visibility": null,
            "align_self": null,
            "height": null,
            "min_height": null,
            "padding": null,
            "grid_auto_rows": null,
            "grid_gap": null,
            "max_width": null,
            "order": null,
            "_view_module_version": "1.2.0",
            "grid_template_areas": null,
            "object_position": null,
            "object_fit": null,
            "grid_auto_columns": null,
            "margin": null,
            "display": null,
            "left": null
          }
        },
        "b791a9d36fdc45d1bdf338e8c62e60dd": {
          "model_module": "@jupyter-widgets/controls",
          "model_name": "SliderStyleModel",
          "model_module_version": "1.5.0",
          "state": {
            "_view_name": "StyleView",
            "handle_color": null,
            "_model_name": "SliderStyleModel",
            "description_width": "",
            "_view_module": "@jupyter-widgets/base",
            "_model_module_version": "1.5.0",
            "_view_count": null,
            "_view_module_version": "1.2.0",
            "_model_module": "@jupyter-widgets/controls"
          }
        },
        "78d468c186644d49bffc8a88b8c5defa": {
          "model_module": "@jupyter-widgets/base",
          "model_name": "LayoutModel",
          "model_module_version": "1.2.0",
          "state": {
            "_view_name": "LayoutView",
            "grid_template_rows": null,
            "right": null,
            "justify_content": null,
            "_view_module": "@jupyter-widgets/base",
            "overflow": null,
            "_model_module_version": "1.2.0",
            "_view_count": null,
            "flex_flow": null,
            "width": null,
            "min_width": null,
            "border": null,
            "align_items": null,
            "bottom": null,
            "_model_module": "@jupyter-widgets/base",
            "top": null,
            "grid_column": null,
            "overflow_y": null,
            "overflow_x": null,
            "grid_auto_flow": null,
            "grid_area": null,
            "grid_template_columns": null,
            "flex": null,
            "_model_name": "LayoutModel",
            "justify_items": null,
            "grid_row": null,
            "max_height": null,
            "align_content": null,
            "visibility": null,
            "align_self": null,
            "height": null,
            "min_height": null,
            "padding": null,
            "grid_auto_rows": null,
            "grid_gap": null,
            "max_width": null,
            "order": null,
            "_view_module_version": "1.2.0",
            "grid_template_areas": null,
            "object_position": null,
            "object_fit": null,
            "grid_auto_columns": null,
            "margin": null,
            "display": null,
            "left": null
          }
        },
        "739947c9e39b4f5990f4639d3f7cd936": {
          "model_module": "@jupyter-widgets/base",
          "model_name": "LayoutModel",
          "model_module_version": "1.2.0",
          "state": {
            "_view_name": "LayoutView",
            "grid_template_rows": null,
            "right": null,
            "justify_content": null,
            "_view_module": "@jupyter-widgets/base",
            "overflow": null,
            "_model_module_version": "1.2.0",
            "_view_count": null,
            "flex_flow": null,
            "width": null,
            "min_width": null,
            "border": null,
            "align_items": null,
            "bottom": null,
            "_model_module": "@jupyter-widgets/base",
            "top": null,
            "grid_column": null,
            "overflow_y": null,
            "overflow_x": null,
            "grid_auto_flow": null,
            "grid_area": null,
            "grid_template_columns": null,
            "flex": null,
            "_model_name": "LayoutModel",
            "justify_items": null,
            "grid_row": null,
            "max_height": null,
            "align_content": null,
            "visibility": null,
            "align_self": null,
            "height": null,
            "min_height": null,
            "padding": null,
            "grid_auto_rows": null,
            "grid_gap": null,
            "max_width": null,
            "order": null,
            "_view_module_version": "1.2.0",
            "grid_template_areas": null,
            "object_position": null,
            "object_fit": null,
            "grid_auto_columns": null,
            "margin": null,
            "display": null,
            "left": null
          }
        },
        "dcf56c37d7804fb1a2ef810ef6a32c8e": {
          "model_module": "@jupyter-widgets/controls",
          "model_name": "VBoxModel",
          "model_module_version": "1.5.0",
          "state": {
            "_view_name": "VBoxView",
            "_dom_classes": [
              "widget-interact"
            ],
            "_model_name": "VBoxModel",
            "_view_module": "@jupyter-widgets/controls",
            "_model_module_version": "1.5.0",
            "_view_count": null,
            "_view_module_version": "1.5.0",
            "box_style": "",
            "layout": "IPY_MODEL_a9c4bb510598408986a483a9653a0115",
            "_model_module": "@jupyter-widgets/controls",
            "children": [
              "IPY_MODEL_a63f7ebd2497461f9a9cc2eddeb10b1a",
              "IPY_MODEL_824a644ae2094b1c87a1489bc273ac7b"
            ]
          }
        },
        "a9c4bb510598408986a483a9653a0115": {
          "model_module": "@jupyter-widgets/base",
          "model_name": "LayoutModel",
          "model_module_version": "1.2.0",
          "state": {
            "_view_name": "LayoutView",
            "grid_template_rows": null,
            "right": null,
            "justify_content": null,
            "_view_module": "@jupyter-widgets/base",
            "overflow": null,
            "_model_module_version": "1.2.0",
            "_view_count": null,
            "flex_flow": null,
            "width": null,
            "min_width": null,
            "border": null,
            "align_items": null,
            "bottom": null,
            "_model_module": "@jupyter-widgets/base",
            "top": null,
            "grid_column": null,
            "overflow_y": null,
            "overflow_x": null,
            "grid_auto_flow": null,
            "grid_area": null,
            "grid_template_columns": null,
            "flex": null,
            "_model_name": "LayoutModel",
            "justify_items": null,
            "grid_row": null,
            "max_height": null,
            "align_content": null,
            "visibility": null,
            "align_self": null,
            "height": null,
            "min_height": null,
            "padding": null,
            "grid_auto_rows": null,
            "grid_gap": null,
            "max_width": null,
            "order": null,
            "_view_module_version": "1.2.0",
            "grid_template_areas": null,
            "object_position": null,
            "object_fit": null,
            "grid_auto_columns": null,
            "margin": null,
            "display": null,
            "left": null
          }
        },
        "a63f7ebd2497461f9a9cc2eddeb10b1a": {
          "model_module": "@jupyter-widgets/controls",
          "model_name": "IntSliderModel",
          "model_module_version": "1.5.0",
          "state": {
            "_view_name": "IntSliderView",
            "style": "IPY_MODEL_974f86719cd247b3956f5da415ebbe9d",
            "_dom_classes": [],
            "description": "palline",
            "step": 1,
            "_model_name": "IntSliderModel",
            "orientation": "horizontal",
            "max": 50,
            "_view_module": "@jupyter-widgets/controls",
            "_model_module_version": "1.5.0",
            "value": 20,
            "_view_count": null,
            "disabled": false,
            "_view_module_version": "1.5.0",
            "min": 1,
            "continuous_update": true,
            "readout_format": "d",
            "description_tooltip": null,
            "readout": true,
            "_model_module": "@jupyter-widgets/controls",
            "layout": "IPY_MODEL_89b7349f6071435a827f31887f7c9bab"
          }
        },
        "824a644ae2094b1c87a1489bc273ac7b": {
          "model_module": "@jupyter-widgets/output",
          "model_name": "OutputModel",
          "model_module_version": "1.0.0",
          "state": {
            "_view_name": "OutputView",
            "msg_id": "",
            "_dom_classes": [],
            "_model_name": "OutputModel",
            "outputs": [
              {
                "output_type": "stream",
                "name": "stdout",
                "text": [
                  "[14]\n"
                ]
              }
            ],
            "_view_module": "@jupyter-widgets/output",
            "_model_module_version": "1.0.0",
            "_view_count": null,
            "_view_module_version": "1.0.0",
            "layout": "IPY_MODEL_e988303668fe4ee392d68e8030a63887",
            "_model_module": "@jupyter-widgets/output"
          }
        },
        "974f86719cd247b3956f5da415ebbe9d": {
          "model_module": "@jupyter-widgets/controls",
          "model_name": "SliderStyleModel",
          "model_module_version": "1.5.0",
          "state": {
            "_view_name": "StyleView",
            "handle_color": null,
            "_model_name": "SliderStyleModel",
            "description_width": "",
            "_view_module": "@jupyter-widgets/base",
            "_model_module_version": "1.5.0",
            "_view_count": null,
            "_view_module_version": "1.2.0",
            "_model_module": "@jupyter-widgets/controls"
          }
        },
        "89b7349f6071435a827f31887f7c9bab": {
          "model_module": "@jupyter-widgets/base",
          "model_name": "LayoutModel",
          "model_module_version": "1.2.0",
          "state": {
            "_view_name": "LayoutView",
            "grid_template_rows": null,
            "right": null,
            "justify_content": null,
            "_view_module": "@jupyter-widgets/base",
            "overflow": null,
            "_model_module_version": "1.2.0",
            "_view_count": null,
            "flex_flow": null,
            "width": null,
            "min_width": null,
            "border": null,
            "align_items": null,
            "bottom": null,
            "_model_module": "@jupyter-widgets/base",
            "top": null,
            "grid_column": null,
            "overflow_y": null,
            "overflow_x": null,
            "grid_auto_flow": null,
            "grid_area": null,
            "grid_template_columns": null,
            "flex": null,
            "_model_name": "LayoutModel",
            "justify_items": null,
            "grid_row": null,
            "max_height": null,
            "align_content": null,
            "visibility": null,
            "align_self": null,
            "height": null,
            "min_height": null,
            "padding": null,
            "grid_auto_rows": null,
            "grid_gap": null,
            "max_width": null,
            "order": null,
            "_view_module_version": "1.2.0",
            "grid_template_areas": null,
            "object_position": null,
            "object_fit": null,
            "grid_auto_columns": null,
            "margin": null,
            "display": null,
            "left": null
          }
        },
        "e988303668fe4ee392d68e8030a63887": {
          "model_module": "@jupyter-widgets/base",
          "model_name": "LayoutModel",
          "model_module_version": "1.2.0",
          "state": {
            "_view_name": "LayoutView",
            "grid_template_rows": null,
            "right": null,
            "justify_content": null,
            "_view_module": "@jupyter-widgets/base",
            "overflow": null,
            "_model_module_version": "1.2.0",
            "_view_count": null,
            "flex_flow": null,
            "width": null,
            "min_width": null,
            "border": null,
            "align_items": null,
            "bottom": null,
            "_model_module": "@jupyter-widgets/base",
            "top": null,
            "grid_column": null,
            "overflow_y": null,
            "overflow_x": null,
            "grid_auto_flow": null,
            "grid_area": null,
            "grid_template_columns": null,
            "flex": null,
            "_model_name": "LayoutModel",
            "justify_items": null,
            "grid_row": null,
            "max_height": null,
            "align_content": null,
            "visibility": null,
            "align_self": null,
            "height": null,
            "min_height": null,
            "padding": null,
            "grid_auto_rows": null,
            "grid_gap": null,
            "max_width": null,
            "order": null,
            "_view_module_version": "1.2.0",
            "grid_template_areas": null,
            "object_position": null,
            "object_fit": null,
            "grid_auto_columns": null,
            "margin": null,
            "display": null,
            "left": null
          }
        },
        "58d9ee29bdde4dc494bb351c58782192": {
          "model_module": "@jupyter-widgets/controls",
          "model_name": "VBoxModel",
          "model_module_version": "1.5.0",
          "state": {
            "_view_name": "VBoxView",
            "_dom_classes": [
              "widget-interact"
            ],
            "_model_name": "VBoxModel",
            "_view_module": "@jupyter-widgets/controls",
            "_model_module_version": "1.5.0",
            "_view_count": null,
            "_view_module_version": "1.5.0",
            "box_style": "",
            "layout": "IPY_MODEL_65bf088119514206b6c7a4abc23a3bc0",
            "_model_module": "@jupyter-widgets/controls",
            "children": [
              "IPY_MODEL_3fe6083717f84f0da303420e5f01edee",
              "IPY_MODEL_f5142997844f4e78a097287c6f41c651"
            ]
          }
        },
        "65bf088119514206b6c7a4abc23a3bc0": {
          "model_module": "@jupyter-widgets/base",
          "model_name": "LayoutModel",
          "model_module_version": "1.2.0",
          "state": {
            "_view_name": "LayoutView",
            "grid_template_rows": null,
            "right": null,
            "justify_content": null,
            "_view_module": "@jupyter-widgets/base",
            "overflow": null,
            "_model_module_version": "1.2.0",
            "_view_count": null,
            "flex_flow": null,
            "width": null,
            "min_width": null,
            "border": null,
            "align_items": null,
            "bottom": null,
            "_model_module": "@jupyter-widgets/base",
            "top": null,
            "grid_column": null,
            "overflow_y": null,
            "overflow_x": null,
            "grid_auto_flow": null,
            "grid_area": null,
            "grid_template_columns": null,
            "flex": null,
            "_model_name": "LayoutModel",
            "justify_items": null,
            "grid_row": null,
            "max_height": null,
            "align_content": null,
            "visibility": null,
            "align_self": null,
            "height": null,
            "min_height": null,
            "padding": null,
            "grid_auto_rows": null,
            "grid_gap": null,
            "max_width": null,
            "order": null,
            "_view_module_version": "1.2.0",
            "grid_template_areas": null,
            "object_position": null,
            "object_fit": null,
            "grid_auto_columns": null,
            "margin": null,
            "display": null,
            "left": null
          }
        },
        "3fe6083717f84f0da303420e5f01edee": {
          "model_module": "@jupyter-widgets/controls",
          "model_name": "IntSliderModel",
          "model_module_version": "1.5.0",
          "state": {
            "_view_name": "IntSliderView",
            "style": "IPY_MODEL_7459d600438145618f01df8c2b6f6d70",
            "_dom_classes": [],
            "description": "palline",
            "step": 1,
            "_model_name": "IntSliderModel",
            "orientation": "horizontal",
            "max": 50,
            "_view_module": "@jupyter-widgets/controls",
            "_model_module_version": "1.5.0",
            "value": 20,
            "_view_count": null,
            "disabled": false,
            "_view_module_version": "1.5.0",
            "min": 1,
            "continuous_update": true,
            "readout_format": "d",
            "description_tooltip": null,
            "readout": true,
            "_model_module": "@jupyter-widgets/controls",
            "layout": "IPY_MODEL_245786abe6384128a6c89de898554913"
          }
        },
        "f5142997844f4e78a097287c6f41c651": {
          "model_module": "@jupyter-widgets/output",
          "model_name": "OutputModel",
          "model_module_version": "1.0.0",
          "state": {
            "_view_name": "OutputView",
            "msg_id": "",
            "_dom_classes": [],
            "_model_name": "OutputModel",
            "outputs": [
              {
                "output_type": "display_data",
                "data": {
                  "image/png": "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\n",
                  "text/plain": "<Figure size 432x288 with 1 Axes>"
                },
                "metadata": {
                  "needs_background": "light"
                }
              }
            ],
            "_view_module": "@jupyter-widgets/output",
            "_model_module_version": "1.0.0",
            "_view_count": null,
            "_view_module_version": "1.0.0",
            "layout": "IPY_MODEL_c31c90d0357e42cfb51f3651a2e5d743",
            "_model_module": "@jupyter-widgets/output"
          }
        },
        "7459d600438145618f01df8c2b6f6d70": {
          "model_module": "@jupyter-widgets/controls",
          "model_name": "SliderStyleModel",
          "model_module_version": "1.5.0",
          "state": {
            "_view_name": "StyleView",
            "handle_color": null,
            "_model_name": "SliderStyleModel",
            "description_width": "",
            "_view_module": "@jupyter-widgets/base",
            "_model_module_version": "1.5.0",
            "_view_count": null,
            "_view_module_version": "1.2.0",
            "_model_module": "@jupyter-widgets/controls"
          }
        },
        "245786abe6384128a6c89de898554913": {
          "model_module": "@jupyter-widgets/base",
          "model_name": "LayoutModel",
          "model_module_version": "1.2.0",
          "state": {
            "_view_name": "LayoutView",
            "grid_template_rows": null,
            "right": null,
            "justify_content": null,
            "_view_module": "@jupyter-widgets/base",
            "overflow": null,
            "_model_module_version": "1.2.0",
            "_view_count": null,
            "flex_flow": null,
            "width": null,
            "min_width": null,
            "border": null,
            "align_items": null,
            "bottom": null,
            "_model_module": "@jupyter-widgets/base",
            "top": null,
            "grid_column": null,
            "overflow_y": null,
            "overflow_x": null,
            "grid_auto_flow": null,
            "grid_area": null,
            "grid_template_columns": null,
            "flex": null,
            "_model_name": "LayoutModel",
            "justify_items": null,
            "grid_row": null,
            "max_height": null,
            "align_content": null,
            "visibility": null,
            "align_self": null,
            "height": null,
            "min_height": null,
            "padding": null,
            "grid_auto_rows": null,
            "grid_gap": null,
            "max_width": null,
            "order": null,
            "_view_module_version": "1.2.0",
            "grid_template_areas": null,
            "object_position": null,
            "object_fit": null,
            "grid_auto_columns": null,
            "margin": null,
            "display": null,
            "left": null
          }
        },
        "c31c90d0357e42cfb51f3651a2e5d743": {
          "model_module": "@jupyter-widgets/base",
          "model_name": "LayoutModel",
          "model_module_version": "1.2.0",
          "state": {
            "_view_name": "LayoutView",
            "grid_template_rows": null,
            "right": null,
            "justify_content": null,
            "_view_module": "@jupyter-widgets/base",
            "overflow": null,
            "_model_module_version": "1.2.0",
            "_view_count": null,
            "flex_flow": null,
            "width": null,
            "min_width": null,
            "border": null,
            "align_items": null,
            "bottom": null,
            "_model_module": "@jupyter-widgets/base",
            "top": null,
            "grid_column": null,
            "overflow_y": null,
            "overflow_x": null,
            "grid_auto_flow": null,
            "grid_area": null,
            "grid_template_columns": null,
            "flex": null,
            "_model_name": "LayoutModel",
            "justify_items": null,
            "grid_row": null,
            "max_height": null,
            "align_content": null,
            "visibility": null,
            "align_self": null,
            "height": null,
            "min_height": null,
            "padding": null,
            "grid_auto_rows": null,
            "grid_gap": null,
            "max_width": null,
            "order": null,
            "_view_module_version": "1.2.0",
            "grid_template_areas": null,
            "object_position": null,
            "object_fit": null,
            "grid_auto_columns": null,
            "margin": null,
            "display": null,
            "left": null
          }
        }
      }
    }
  },
  "cells": [
    {
      "cell_type": "markdown",
      "metadata": {
        "id": "view-in-github",
        "colab_type": "text"
      },
      "source": [
        "<a href=\"https://colab.research.google.com/github/MontiMic/Tesi/blob/main/Tesi.ipynb\" target=\"_parent\"><img src=\"https://colab.research.google.com/assets/colab-badge.svg\" alt=\"Open In Colab\"/></a>"
      ]
    },
    {
      "cell_type": "code",
      "source": [
        "import numpy as np\n",
        "import pandas as pd\n",
        "from random import randint\n",
        "from ipywidgets import interact\n",
        "from matplotlib import pyplot as plt"
      ],
      "metadata": {
        "id": "MA41dvVAlHpA"
      },
      "execution_count": 15,
      "outputs": []
    },
    {
      "cell_type": "code",
      "source": [
        "@interact(blue=(0, 100), red=(0, 100), estrazione=())\n",
        "def geometrica(blue = 1, red = 1):\n",
        "  tot_balls= blue + red\n",
        "  urna = np.zeros((tot_balls,1), dtype=np.bool)\n",
        "  while(red>0):\n",
        "    tmp = np.random.randint(0, tot_balls)\n",
        "    if(urna[tmp] == False):\n",
        "      urna[tmp] = True\n",
        "      red = red - 1\n"
      ],
      "metadata": {
        "colab": {
          "base_uri": "https://localhost:8080/",
          "height": 81,
          "referenced_widgets": [
            "88aea370fbef45ea9aa9512c51821833",
            "b0d318d0e3b3449ea1d9fc9889eea143",
            "2cf741079db24deb906b7adb46b0aefe",
            "78f4ddac38ef4d3ba18a4663d1d575a1",
            "6a55352892cf4e2392ca9da8d1c0489b",
            "d2d8906fecc94fa8878f5e49b384d9c2",
            "1d2be4aa1ade4338872b4b1f36785390",
            "b791a9d36fdc45d1bdf338e8c62e60dd",
            "78d468c186644d49bffc8a88b8c5defa",
            "739947c9e39b4f5990f4639d3f7cd936"
          ]
        },
        "id": "qIJ5I41Ci3oY",
        "outputId": "6811d5ff-950f-452d-c867-7b567847dc74"
      },
      "execution_count": 2,
      "outputs": [
        {
          "output_type": "display_data",
          "data": {
            "application/vnd.jupyter.widget-view+json": {
              "model_id": "88aea370fbef45ea9aa9512c51821833",
              "version_minor": 0,
              "version_major": 2
            },
            "text/plain": [
              "interactive(children=(IntSlider(value=1, description='blue'), IntSlider(value=1, description='red'), Output())…"
            ]
          },
          "metadata": {}
        }
      ]
    },
    {
      "cell_type": "code",
      "source": [
        "@interact(palline=(1, 50))\n",
        "def prova(palline=20):\n",
        "  palle = np.zeros((palline, 1), dtype=np.bool)\n",
        "  palle[np.random.randint(0, palline)] = True\n",
        "  results = []\n",
        "  count = 0\n",
        "  while(len(results) == 0):\n",
        "    extr = np.random.randint(0, (palline-count))\n",
        "    if(palle[extr]):\n",
        "      results.append(count)\n",
        "      print(results)\n",
        "    else:\n",
        "      palle = np.delete(palle,extr)\n",
        "      count = count + 1"
      ],
      "metadata": {
        "colab": {
          "base_uri": "https://localhost:8080/",
          "height": 66,
          "referenced_widgets": [
            "dcf56c37d7804fb1a2ef810ef6a32c8e",
            "a9c4bb510598408986a483a9653a0115",
            "a63f7ebd2497461f9a9cc2eddeb10b1a",
            "824a644ae2094b1c87a1489bc273ac7b",
            "974f86719cd247b3956f5da415ebbe9d",
            "89b7349f6071435a827f31887f7c9bab",
            "e988303668fe4ee392d68e8030a63887"
          ]
        },
        "id": "J9vDVOiPnVds",
        "outputId": "d940491d-d8d0-4870-ddbd-bcca145e0005"
      },
      "execution_count": 3,
      "outputs": [
        {
          "output_type": "display_data",
          "data": {
            "application/vnd.jupyter.widget-view+json": {
              "model_id": "dcf56c37d7804fb1a2ef810ef6a32c8e",
              "version_minor": 0,
              "version_major": 2
            },
            "text/plain": [
              "interactive(children=(IntSlider(value=20, description='palline', max=50, min=1), Output()), _dom_classes=('wid…"
            ]
          },
          "metadata": {}
        }
      ]
    },
    {
      "cell_type": "code",
      "source": [
        "@interact(palline=(1, 50))\n",
        "def prova(palline=20):\n",
        "  palle = np.zeros((palline, 1), dtype=np.bool)\n",
        "  palle[np.random.randint(0, palline)] = True\n",
        "  results = []\n",
        "  count=0\n",
        "  while(len(results) < 1_000_000):\n",
        "    done = len(results)\n",
        "    tmp = palle\n",
        "    while(len(results) == done):\n",
        "      extr = np.random.randint(0, (palline-count))\n",
        "      if(tmp[extr]):\n",
        "        results.append(count)\n",
        "        count=0\n",
        "      else:\n",
        "        tmp = np.delete(tmp,extr)\n",
        "        count = count + 1\n",
        "  elem_count = []\n",
        "  for i in range(1, palline + 1):\n",
        "    elem_count.append(results.count(i - 1))\n",
        "  plt.bar(range(1, palline + 1), elem_count)"
      ],
      "metadata": {
        "id": "MkrsC8Np7kcP",
        "outputId": "513f2f7b-4de0-44e0-f4f8-1684ae9dde7a",
        "colab": {
          "base_uri": "https://localhost:8080/",
          "height": 297,
          "referenced_widgets": [
            "58d9ee29bdde4dc494bb351c58782192",
            "65bf088119514206b6c7a4abc23a3bc0",
            "3fe6083717f84f0da303420e5f01edee",
            "f5142997844f4e78a097287c6f41c651",
            "7459d600438145618f01df8c2b6f6d70",
            "245786abe6384128a6c89de898554913",
            "c31c90d0357e42cfb51f3651a2e5d743"
          ]
        }
      },
      "execution_count": 18,
      "outputs": [
        {
          "output_type": "display_data",
          "data": {
            "application/vnd.jupyter.widget-view+json": {
              "model_id": "58d9ee29bdde4dc494bb351c58782192",
              "version_minor": 0,
              "version_major": 2
            },
            "text/plain": [
              "interactive(children=(IntSlider(value=20, description='palline', max=50, min=1), Output()), _dom_classes=('wid…"
            ]
          },
          "metadata": {}
        }
      ]
    },
    {
      "cell_type": "code",
      "source": [
        ""
      ],
      "metadata": {
        "id": "7VVBoRjqEiH-"
      },
      "execution_count": null,
      "outputs": []
    }
  ]
}