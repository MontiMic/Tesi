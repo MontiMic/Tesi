{
  "nbformat": 4,
  "nbformat_minor": 0,
  "metadata": {
    "colab": {
      "name": "Untitled1.ipynb",
      "provenance": [],
      "toc_visible": true,
      "collapsed_sections": [],
      "authorship_tag": "ABX9TyMISy77PdIePaQHRPtBpiHO",
      "include_colab_link": true
    },
    "kernelspec": {
      "name": "python3",
      "display_name": "Python 3"
    },
    "language_info": {
      "name": "python"
    },
    "widgets": {
      "application/vnd.jupyter.widget-state+json": {
        "5ba75662de22486f8b4165536469d248": {
          "model_module": "@jupyter-widgets/controls",
          "model_name": "VBoxModel",
          "model_module_version": "1.5.0",
          "state": {
            "_view_name": "VBoxView",
            "_dom_classes": [
              "widget-interact"
            ],
            "_model_name": "VBoxModel",
            "_view_module": "@jupyter-widgets/controls",
            "_model_module_version": "1.5.0",
            "_view_count": null,
            "_view_module_version": "1.5.0",
            "box_style": "",
            "layout": "IPY_MODEL_e6c0f61012dc48edbfc4167147d78f05",
            "_model_module": "@jupyter-widgets/controls",
            "children": [
              "IPY_MODEL_5887293a1f6f4d5ebc8a13d440a1336c",
              "IPY_MODEL_04a531af8fa44d22942fadb6b56d34eb",
              "IPY_MODEL_65efa3a3c3d744ccb5a1cfdd641a8b1a",
              "IPY_MODEL_ce33c77d8bb041fe91b0d24e3011391d"
            ]
          }
        },
        "e6c0f61012dc48edbfc4167147d78f05": {
          "model_module": "@jupyter-widgets/base",
          "model_name": "LayoutModel",
          "model_module_version": "1.2.0",
          "state": {
            "_view_name": "LayoutView",
            "grid_template_rows": null,
            "right": null,
            "justify_content": null,
            "_view_module": "@jupyter-widgets/base",
            "overflow": null,
            "_model_module_version": "1.2.0",
            "_view_count": null,
            "flex_flow": null,
            "width": null,
            "min_width": null,
            "border": null,
            "align_items": null,
            "bottom": null,
            "_model_module": "@jupyter-widgets/base",
            "top": null,
            "grid_column": null,
            "overflow_y": null,
            "overflow_x": null,
            "grid_auto_flow": null,
            "grid_area": null,
            "grid_template_columns": null,
            "flex": null,
            "_model_name": "LayoutModel",
            "justify_items": null,
            "grid_row": null,
            "max_height": null,
            "align_content": null,
            "visibility": null,
            "align_self": null,
            "height": null,
            "min_height": null,
            "padding": null,
            "grid_auto_rows": null,
            "grid_gap": null,
            "max_width": null,
            "order": null,
            "_view_module_version": "1.2.0",
            "grid_template_areas": null,
            "object_position": null,
            "object_fit": null,
            "grid_auto_columns": null,
            "margin": null,
            "display": null,
            "left": null
          }
        },
        "5887293a1f6f4d5ebc8a13d440a1336c": {
          "model_module": "@jupyter-widgets/controls",
          "model_name": "IntSliderModel",
          "model_module_version": "1.5.0",
          "state": {
            "_view_name": "IntSliderView",
            "style": "IPY_MODEL_27809417299445c49c29ec308f852bb5",
            "_dom_classes": [],
            "description": "giocate",
            "step": 1,
            "_model_name": "IntSliderModel",
            "orientation": "horizontal",
            "max": 6,
            "_view_module": "@jupyter-widgets/controls",
            "_model_module_version": "1.5.0",
            "value": 3,
            "_view_count": null,
            "disabled": false,
            "_view_module_version": "1.5.0",
            "min": 1,
            "continuous_update": true,
            "readout_format": "d",
            "description_tooltip": null,
            "readout": true,
            "_model_module": "@jupyter-widgets/controls",
            "layout": "IPY_MODEL_908936956a194b42beeeab1e9fb5f858"
          }
        },
        "04a531af8fa44d22942fadb6b56d34eb": {
          "model_module": "@jupyter-widgets/controls",
          "model_name": "IntSliderModel",
          "model_module_version": "1.5.0",
          "state": {
            "_view_name": "IntSliderView",
            "style": "IPY_MODEL_fd8dcddb357144e3a5c0aa8d4e0f6e1b",
            "_dom_classes": [],
            "description": "puntata",
            "step": 5,
            "_model_name": "IntSliderModel",
            "orientation": "horizontal",
            "max": 100,
            "_view_module": "@jupyter-widgets/controls",
            "_model_module_version": "1.5.0",
            "value": 5,
            "_view_count": null,
            "disabled": false,
            "_view_module_version": "1.5.0",
            "min": 5,
            "continuous_update": true,
            "readout_format": "d",
            "description_tooltip": null,
            "readout": true,
            "_model_module": "@jupyter-widgets/controls",
            "layout": "IPY_MODEL_51e1c3cdcd44413c9bf9c84761de950c"
          }
        },
        "65efa3a3c3d744ccb5a1cfdd641a8b1a": {
          "model_module": "@jupyter-widgets/controls",
          "model_name": "ButtonModel",
          "model_module_version": "1.5.0",
          "state": {
            "_view_name": "ButtonView",
            "style": "IPY_MODEL_c3a4fd68a09d443f967d0df68c44b8b5",
            "_dom_classes": [],
            "description": "Run Interact",
            "_model_name": "ButtonModel",
            "button_style": "",
            "_view_module": "@jupyter-widgets/controls",
            "_model_module_version": "1.5.0",
            "tooltip": "",
            "_view_count": null,
            "disabled": false,
            "_view_module_version": "1.5.0",
            "layout": "IPY_MODEL_94849e5b7f0b4e5b864292ebda4807f4",
            "_model_module": "@jupyter-widgets/controls",
            "icon": ""
          }
        },
        "ce33c77d8bb041fe91b0d24e3011391d": {
          "model_module": "@jupyter-widgets/output",
          "model_name": "OutputModel",
          "model_module_version": "1.0.0",
          "state": {
            "_view_name": "OutputView",
            "msg_id": "",
            "_dom_classes": [],
            "_model_name": "OutputModel",
            "outputs": [
              {
                "output_type": "display_data",
                "data": {
                  "image/png": "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\n",
                  "text/plain": "<Figure size 432x288 with 1 Axes>"
                },
                "metadata": {}
              }
            ],
            "_view_module": "@jupyter-widgets/output",
            "_model_module_version": "1.0.0",
            "_view_count": null,
            "_view_module_version": "1.0.0",
            "layout": "IPY_MODEL_5aaf79e4da1e45ce874ddd429e1332a7",
            "_model_module": "@jupyter-widgets/output"
          }
        },
        "27809417299445c49c29ec308f852bb5": {
          "model_module": "@jupyter-widgets/controls",
          "model_name": "SliderStyleModel",
          "model_module_version": "1.5.0",
          "state": {
            "_view_name": "StyleView",
            "handle_color": null,
            "_model_name": "SliderStyleModel",
            "description_width": "",
            "_view_module": "@jupyter-widgets/base",
            "_model_module_version": "1.5.0",
            "_view_count": null,
            "_view_module_version": "1.2.0",
            "_model_module": "@jupyter-widgets/controls"
          }
        },
        "908936956a194b42beeeab1e9fb5f858": {
          "model_module": "@jupyter-widgets/base",
          "model_name": "LayoutModel",
          "model_module_version": "1.2.0",
          "state": {
            "_view_name": "LayoutView",
            "grid_template_rows": null,
            "right": null,
            "justify_content": null,
            "_view_module": "@jupyter-widgets/base",
            "overflow": null,
            "_model_module_version": "1.2.0",
            "_view_count": null,
            "flex_flow": null,
            "width": null,
            "min_width": null,
            "border": null,
            "align_items": null,
            "bottom": null,
            "_model_module": "@jupyter-widgets/base",
            "top": null,
            "grid_column": null,
            "overflow_y": null,
            "overflow_x": null,
            "grid_auto_flow": null,
            "grid_area": null,
            "grid_template_columns": null,
            "flex": null,
            "_model_name": "LayoutModel",
            "justify_items": null,
            "grid_row": null,
            "max_height": null,
            "align_content": null,
            "visibility": null,
            "align_self": null,
            "height": null,
            "min_height": null,
            "padding": null,
            "grid_auto_rows": null,
            "grid_gap": null,
            "max_width": null,
            "order": null,
            "_view_module_version": "1.2.0",
            "grid_template_areas": null,
            "object_position": null,
            "object_fit": null,
            "grid_auto_columns": null,
            "margin": null,
            "display": null,
            "left": null
          }
        },
        "fd8dcddb357144e3a5c0aa8d4e0f6e1b": {
          "model_module": "@jupyter-widgets/controls",
          "model_name": "SliderStyleModel",
          "model_module_version": "1.5.0",
          "state": {
            "_view_name": "StyleView",
            "handle_color": null,
            "_model_name": "SliderStyleModel",
            "description_width": "",
            "_view_module": "@jupyter-widgets/base",
            "_model_module_version": "1.5.0",
            "_view_count": null,
            "_view_module_version": "1.2.0",
            "_model_module": "@jupyter-widgets/controls"
          }
        },
        "51e1c3cdcd44413c9bf9c84761de950c": {
          "model_module": "@jupyter-widgets/base",
          "model_name": "LayoutModel",
          "model_module_version": "1.2.0",
          "state": {
            "_view_name": "LayoutView",
            "grid_template_rows": null,
            "right": null,
            "justify_content": null,
            "_view_module": "@jupyter-widgets/base",
            "overflow": null,
            "_model_module_version": "1.2.0",
            "_view_count": null,
            "flex_flow": null,
            "width": null,
            "min_width": null,
            "border": null,
            "align_items": null,
            "bottom": null,
            "_model_module": "@jupyter-widgets/base",
            "top": null,
            "grid_column": null,
            "overflow_y": null,
            "overflow_x": null,
            "grid_auto_flow": null,
            "grid_area": null,
            "grid_template_columns": null,
            "flex": null,
            "_model_name": "LayoutModel",
            "justify_items": null,
            "grid_row": null,
            "max_height": null,
            "align_content": null,
            "visibility": null,
            "align_self": null,
            "height": null,
            "min_height": null,
            "padding": null,
            "grid_auto_rows": null,
            "grid_gap": null,
            "max_width": null,
            "order": null,
            "_view_module_version": "1.2.0",
            "grid_template_areas": null,
            "object_position": null,
            "object_fit": null,
            "grid_auto_columns": null,
            "margin": null,
            "display": null,
            "left": null
          }
        },
        "c3a4fd68a09d443f967d0df68c44b8b5": {
          "model_module": "@jupyter-widgets/controls",
          "model_name": "ButtonStyleModel",
          "model_module_version": "1.5.0",
          "state": {
            "_view_name": "StyleView",
            "_model_name": "ButtonStyleModel",
            "_view_module": "@jupyter-widgets/base",
            "_model_module_version": "1.5.0",
            "_view_count": null,
            "button_color": null,
            "font_weight": "",
            "_view_module_version": "1.2.0",
            "_model_module": "@jupyter-widgets/controls"
          }
        },
        "94849e5b7f0b4e5b864292ebda4807f4": {
          "model_module": "@jupyter-widgets/base",
          "model_name": "LayoutModel",
          "model_module_version": "1.2.0",
          "state": {
            "_view_name": "LayoutView",
            "grid_template_rows": null,
            "right": null,
            "justify_content": null,
            "_view_module": "@jupyter-widgets/base",
            "overflow": null,
            "_model_module_version": "1.2.0",
            "_view_count": null,
            "flex_flow": null,
            "width": null,
            "min_width": null,
            "border": null,
            "align_items": null,
            "bottom": null,
            "_model_module": "@jupyter-widgets/base",
            "top": null,
            "grid_column": null,
            "overflow_y": null,
            "overflow_x": null,
            "grid_auto_flow": null,
            "grid_area": null,
            "grid_template_columns": null,
            "flex": null,
            "_model_name": "LayoutModel",
            "justify_items": null,
            "grid_row": null,
            "max_height": null,
            "align_content": null,
            "visibility": null,
            "align_self": null,
            "height": null,
            "min_height": null,
            "padding": null,
            "grid_auto_rows": null,
            "grid_gap": null,
            "max_width": null,
            "order": null,
            "_view_module_version": "1.2.0",
            "grid_template_areas": null,
            "object_position": null,
            "object_fit": null,
            "grid_auto_columns": null,
            "margin": null,
            "display": null,
            "left": null
          }
        },
        "5aaf79e4da1e45ce874ddd429e1332a7": {
          "model_module": "@jupyter-widgets/base",
          "model_name": "LayoutModel",
          "model_module_version": "1.2.0",
          "state": {
            "_view_name": "LayoutView",
            "grid_template_rows": null,
            "right": null,
            "justify_content": null,
            "_view_module": "@jupyter-widgets/base",
            "overflow": null,
            "_model_module_version": "1.2.0",
            "_view_count": null,
            "flex_flow": null,
            "width": null,
            "min_width": null,
            "border": null,
            "align_items": null,
            "bottom": null,
            "_model_module": "@jupyter-widgets/base",
            "top": null,
            "grid_column": null,
            "overflow_y": null,
            "overflow_x": null,
            "grid_auto_flow": null,
            "grid_area": null,
            "grid_template_columns": null,
            "flex": null,
            "_model_name": "LayoutModel",
            "justify_items": null,
            "grid_row": null,
            "max_height": null,
            "align_content": null,
            "visibility": null,
            "align_self": null,
            "height": null,
            "min_height": null,
            "padding": null,
            "grid_auto_rows": null,
            "grid_gap": null,
            "max_width": null,
            "order": null,
            "_view_module_version": "1.2.0",
            "grid_template_areas": null,
            "object_position": null,
            "object_fit": null,
            "grid_auto_columns": null,
            "margin": null,
            "display": null,
            "left": null
          }
        },
        "73d3dc7e8f8c4fdb837a8c78caf1d10c": {
          "model_module": "@jupyter-widgets/controls",
          "model_name": "VBoxModel",
          "model_module_version": "1.5.0",
          "state": {
            "_view_name": "VBoxView",
            "_dom_classes": [
              "widget-interact"
            ],
            "_model_name": "VBoxModel",
            "_view_module": "@jupyter-widgets/controls",
            "_model_module_version": "1.5.0",
            "_view_count": null,
            "_view_module_version": "1.5.0",
            "box_style": "",
            "layout": "IPY_MODEL_88fc3a863c574c1d9715d3716c5daad9",
            "_model_module": "@jupyter-widgets/controls",
            "children": [
              "IPY_MODEL_cf6e57b8c9644f03a1d9b13a0bfcd79c",
              "IPY_MODEL_0eb43605ac2d4a308e9924f60a55d7aa",
              "IPY_MODEL_3064d487d7fa49a79780ad80ad6cbe3b"
            ]
          }
        },
        "88fc3a863c574c1d9715d3716c5daad9": {
          "model_module": "@jupyter-widgets/base",
          "model_name": "LayoutModel",
          "model_module_version": "1.2.0",
          "state": {
            "_view_name": "LayoutView",
            "grid_template_rows": null,
            "right": null,
            "justify_content": null,
            "_view_module": "@jupyter-widgets/base",
            "overflow": null,
            "_model_module_version": "1.2.0",
            "_view_count": null,
            "flex_flow": null,
            "width": null,
            "min_width": null,
            "border": null,
            "align_items": null,
            "bottom": null,
            "_model_module": "@jupyter-widgets/base",
            "top": null,
            "grid_column": null,
            "overflow_y": null,
            "overflow_x": null,
            "grid_auto_flow": null,
            "grid_area": null,
            "grid_template_columns": null,
            "flex": null,
            "_model_name": "LayoutModel",
            "justify_items": null,
            "grid_row": null,
            "max_height": null,
            "align_content": null,
            "visibility": null,
            "align_self": null,
            "height": null,
            "min_height": null,
            "padding": null,
            "grid_auto_rows": null,
            "grid_gap": null,
            "max_width": null,
            "order": null,
            "_view_module_version": "1.2.0",
            "grid_template_areas": null,
            "object_position": null,
            "object_fit": null,
            "grid_auto_columns": null,
            "margin": null,
            "display": null,
            "left": null
          }
        },
        "cf6e57b8c9644f03a1d9b13a0bfcd79c": {
          "model_module": "@jupyter-widgets/controls",
          "model_name": "IntSliderModel",
          "model_module_version": "1.5.0",
          "state": {
            "_view_name": "IntSliderView",
            "style": "IPY_MODEL_a60c758abf594991b088edd0f63bc675",
            "_dom_classes": [],
            "description": "estrazioni",
            "step": 1,
            "_model_name": "IntSliderModel",
            "orientation": "horizontal",
            "max": 10,
            "_view_module": "@jupyter-widgets/controls",
            "_model_module_version": "1.5.0",
            "value": 3,
            "_view_count": null,
            "disabled": false,
            "_view_module_version": "1.5.0",
            "min": 1,
            "continuous_update": true,
            "readout_format": "d",
            "description_tooltip": null,
            "readout": true,
            "_model_module": "@jupyter-widgets/controls",
            "layout": "IPY_MODEL_4e741c51fcdc46d393a1fbfa9d894ec2"
          }
        },
        "0eb43605ac2d4a308e9924f60a55d7aa": {
          "model_module": "@jupyter-widgets/controls",
          "model_name": "ButtonModel",
          "model_module_version": "1.5.0",
          "state": {
            "_view_name": "ButtonView",
            "style": "IPY_MODEL_5ad38903eaab4e3ab3e734b44a9d7445",
            "_dom_classes": [],
            "description": "Run Interact",
            "_model_name": "ButtonModel",
            "button_style": "",
            "_view_module": "@jupyter-widgets/controls",
            "_model_module_version": "1.5.0",
            "tooltip": "",
            "_view_count": null,
            "disabled": false,
            "_view_module_version": "1.5.0",
            "layout": "IPY_MODEL_27b15a9dbf6a45018397d1969e6e8eb1",
            "_model_module": "@jupyter-widgets/controls",
            "icon": ""
          }
        },
        "3064d487d7fa49a79780ad80ad6cbe3b": {
          "model_module": "@jupyter-widgets/output",
          "model_name": "OutputModel",
          "model_module_version": "1.0.0",
          "state": {
            "_view_name": "OutputView",
            "msg_id": "",
            "_dom_classes": [],
            "_model_name": "OutputModel",
            "outputs": [
              {
                "output_type": "display_data",
                "data": {
                  "text/plain": "0.932"
                },
                "metadata": {}
              }
            ],
            "_view_module": "@jupyter-widgets/output",
            "_model_module_version": "1.0.0",
            "_view_count": null,
            "_view_module_version": "1.0.0",
            "layout": "IPY_MODEL_31e618163ce7429da7b1d0ddba5edf10",
            "_model_module": "@jupyter-widgets/output"
          }
        },
        "a60c758abf594991b088edd0f63bc675": {
          "model_module": "@jupyter-widgets/controls",
          "model_name": "SliderStyleModel",
          "model_module_version": "1.5.0",
          "state": {
            "_view_name": "StyleView",
            "handle_color": null,
            "_model_name": "SliderStyleModel",
            "description_width": "",
            "_view_module": "@jupyter-widgets/base",
            "_model_module_version": "1.5.0",
            "_view_count": null,
            "_view_module_version": "1.2.0",
            "_model_module": "@jupyter-widgets/controls"
          }
        },
        "4e741c51fcdc46d393a1fbfa9d894ec2": {
          "model_module": "@jupyter-widgets/base",
          "model_name": "LayoutModel",
          "model_module_version": "1.2.0",
          "state": {
            "_view_name": "LayoutView",
            "grid_template_rows": null,
            "right": null,
            "justify_content": null,
            "_view_module": "@jupyter-widgets/base",
            "overflow": null,
            "_model_module_version": "1.2.0",
            "_view_count": null,
            "flex_flow": null,
            "width": null,
            "min_width": null,
            "border": null,
            "align_items": null,
            "bottom": null,
            "_model_module": "@jupyter-widgets/base",
            "top": null,
            "grid_column": null,
            "overflow_y": null,
            "overflow_x": null,
            "grid_auto_flow": null,
            "grid_area": null,
            "grid_template_columns": null,
            "flex": null,
            "_model_name": "LayoutModel",
            "justify_items": null,
            "grid_row": null,
            "max_height": null,
            "align_content": null,
            "visibility": null,
            "align_self": null,
            "height": null,
            "min_height": null,
            "padding": null,
            "grid_auto_rows": null,
            "grid_gap": null,
            "max_width": null,
            "order": null,
            "_view_module_version": "1.2.0",
            "grid_template_areas": null,
            "object_position": null,
            "object_fit": null,
            "grid_auto_columns": null,
            "margin": null,
            "display": null,
            "left": null
          }
        },
        "5ad38903eaab4e3ab3e734b44a9d7445": {
          "model_module": "@jupyter-widgets/controls",
          "model_name": "ButtonStyleModel",
          "model_module_version": "1.5.0",
          "state": {
            "_view_name": "StyleView",
            "_model_name": "ButtonStyleModel",
            "_view_module": "@jupyter-widgets/base",
            "_model_module_version": "1.5.0",
            "_view_count": null,
            "button_color": null,
            "font_weight": "",
            "_view_module_version": "1.2.0",
            "_model_module": "@jupyter-widgets/controls"
          }
        },
        "27b15a9dbf6a45018397d1969e6e8eb1": {
          "model_module": "@jupyter-widgets/base",
          "model_name": "LayoutModel",
          "model_module_version": "1.2.0",
          "state": {
            "_view_name": "LayoutView",
            "grid_template_rows": null,
            "right": null,
            "justify_content": null,
            "_view_module": "@jupyter-widgets/base",
            "overflow": null,
            "_model_module_version": "1.2.0",
            "_view_count": null,
            "flex_flow": null,
            "width": null,
            "min_width": null,
            "border": null,
            "align_items": null,
            "bottom": null,
            "_model_module": "@jupyter-widgets/base",
            "top": null,
            "grid_column": null,
            "overflow_y": null,
            "overflow_x": null,
            "grid_auto_flow": null,
            "grid_area": null,
            "grid_template_columns": null,
            "flex": null,
            "_model_name": "LayoutModel",
            "justify_items": null,
            "grid_row": null,
            "max_height": null,
            "align_content": null,
            "visibility": null,
            "align_self": null,
            "height": null,
            "min_height": null,
            "padding": null,
            "grid_auto_rows": null,
            "grid_gap": null,
            "max_width": null,
            "order": null,
            "_view_module_version": "1.2.0",
            "grid_template_areas": null,
            "object_position": null,
            "object_fit": null,
            "grid_auto_columns": null,
            "margin": null,
            "display": null,
            "left": null
          }
        },
        "31e618163ce7429da7b1d0ddba5edf10": {
          "model_module": "@jupyter-widgets/base",
          "model_name": "LayoutModel",
          "model_module_version": "1.2.0",
          "state": {
            "_view_name": "LayoutView",
            "grid_template_rows": null,
            "right": null,
            "justify_content": null,
            "_view_module": "@jupyter-widgets/base",
            "overflow": null,
            "_model_module_version": "1.2.0",
            "_view_count": null,
            "flex_flow": null,
            "width": null,
            "min_width": null,
            "border": null,
            "align_items": null,
            "bottom": null,
            "_model_module": "@jupyter-widgets/base",
            "top": null,
            "grid_column": null,
            "overflow_y": null,
            "overflow_x": null,
            "grid_auto_flow": null,
            "grid_area": null,
            "grid_template_columns": null,
            "flex": null,
            "_model_name": "LayoutModel",
            "justify_items": null,
            "grid_row": null,
            "max_height": null,
            "align_content": null,
            "visibility": null,
            "align_self": null,
            "height": null,
            "min_height": null,
            "padding": null,
            "grid_auto_rows": null,
            "grid_gap": null,
            "max_width": null,
            "order": null,
            "_view_module_version": "1.2.0",
            "grid_template_areas": null,
            "object_position": null,
            "object_fit": null,
            "grid_auto_columns": null,
            "margin": null,
            "display": null,
            "left": null
          }
        },
        "dde6c4320f734f789685af6ce5cf8b3f": {
          "model_module": "@jupyter-widgets/controls",
          "model_name": "VBoxModel",
          "model_module_version": "1.5.0",
          "state": {
            "_view_name": "VBoxView",
            "_dom_classes": [
              "widget-interact"
            ],
            "_model_name": "VBoxModel",
            "_view_module": "@jupyter-widgets/controls",
            "_model_module_version": "1.5.0",
            "_view_count": null,
            "_view_module_version": "1.5.0",
            "box_style": "",
            "layout": "IPY_MODEL_d6817812eadd447cbf75018909e664e9",
            "_model_module": "@jupyter-widgets/controls",
            "children": [
              "IPY_MODEL_9530cd74da5c4514b9413553b8e7e5d4",
              "IPY_MODEL_f09feae7e2cd4867939ef02b22eed03c",
              "IPY_MODEL_e50f02f9e6564bbe800d64b6ec6954d7",
              "IPY_MODEL_9941327ff4934b38b3886b371da349ef"
            ]
          }
        },
        "d6817812eadd447cbf75018909e664e9": {
          "model_module": "@jupyter-widgets/base",
          "model_name": "LayoutModel",
          "model_module_version": "1.2.0",
          "state": {
            "_view_name": "LayoutView",
            "grid_template_rows": null,
            "right": null,
            "justify_content": null,
            "_view_module": "@jupyter-widgets/base",
            "overflow": null,
            "_model_module_version": "1.2.0",
            "_view_count": null,
            "flex_flow": null,
            "width": null,
            "min_width": null,
            "border": null,
            "align_items": null,
            "bottom": null,
            "_model_module": "@jupyter-widgets/base",
            "top": null,
            "grid_column": null,
            "overflow_y": null,
            "overflow_x": null,
            "grid_auto_flow": null,
            "grid_area": null,
            "grid_template_columns": null,
            "flex": null,
            "_model_name": "LayoutModel",
            "justify_items": null,
            "grid_row": null,
            "max_height": null,
            "align_content": null,
            "visibility": null,
            "align_self": null,
            "height": null,
            "min_height": null,
            "padding": null,
            "grid_auto_rows": null,
            "grid_gap": null,
            "max_width": null,
            "order": null,
            "_view_module_version": "1.2.0",
            "grid_template_areas": null,
            "object_position": null,
            "object_fit": null,
            "grid_auto_columns": null,
            "margin": null,
            "display": null,
            "left": null
          }
        },
        "9530cd74da5c4514b9413553b8e7e5d4": {
          "model_module": "@jupyter-widgets/controls",
          "model_name": "IntSliderModel",
          "model_module_version": "1.5.0",
          "state": {
            "_view_name": "IntSliderView",
            "style": "IPY_MODEL_42727f8b71224772ba77c38aa8554c9c",
            "_dom_classes": [],
            "description": "bianche",
            "step": 1,
            "_model_name": "IntSliderModel",
            "orientation": "horizontal",
            "max": 5,
            "_view_module": "@jupyter-widgets/controls",
            "_model_module_version": "1.5.0",
            "value": 2,
            "_view_count": null,
            "disabled": false,
            "_view_module_version": "1.5.0",
            "min": 1,
            "continuous_update": true,
            "readout_format": "d",
            "description_tooltip": null,
            "readout": true,
            "_model_module": "@jupyter-widgets/controls",
            "layout": "IPY_MODEL_3b659b229a304bd793ec8a281cc801b3"
          }
        },
        "f09feae7e2cd4867939ef02b22eed03c": {
          "model_module": "@jupyter-widgets/controls",
          "model_name": "IntSliderModel",
          "model_module_version": "1.5.0",
          "state": {
            "_view_name": "IntSliderView",
            "style": "IPY_MODEL_59ce5f8b6df84eec9ccda53efe492c35",
            "_dom_classes": [],
            "description": "rosse",
            "step": 1,
            "_model_name": "IntSliderModel",
            "orientation": "horizontal",
            "max": 5,
            "_view_module": "@jupyter-widgets/controls",
            "_model_module_version": "1.5.0",
            "value": 3,
            "_view_count": null,
            "disabled": false,
            "_view_module_version": "1.5.0",
            "min": 1,
            "continuous_update": true,
            "readout_format": "d",
            "description_tooltip": null,
            "readout": true,
            "_model_module": "@jupyter-widgets/controls",
            "layout": "IPY_MODEL_49bb176f2c9545fca1a07a34db33e728"
          }
        },
        "e50f02f9e6564bbe800d64b6ec6954d7": {
          "model_module": "@jupyter-widgets/controls",
          "model_name": "ButtonModel",
          "model_module_version": "1.5.0",
          "state": {
            "_view_name": "ButtonView",
            "style": "IPY_MODEL_fe7bc47ce1ea4c558ba98817a836d842",
            "_dom_classes": [],
            "description": "Run Interact",
            "_model_name": "ButtonModel",
            "button_style": "",
            "_view_module": "@jupyter-widgets/controls",
            "_model_module_version": "1.5.0",
            "tooltip": "",
            "_view_count": null,
            "disabled": false,
            "_view_module_version": "1.5.0",
            "layout": "IPY_MODEL_81b71f633b67413fa6166e0e949a9832",
            "_model_module": "@jupyter-widgets/controls",
            "icon": ""
          }
        },
        "9941327ff4934b38b3886b371da349ef": {
          "model_module": "@jupyter-widgets/output",
          "model_name": "OutputModel",
          "model_module_version": "1.0.0",
          "state": {
            "_view_name": "OutputView",
            "msg_id": "",
            "_dom_classes": [],
            "_model_name": "OutputModel",
            "outputs": [
              {
                "output_type": "display_data",
                "data": {
                  "image/png": "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\n",
                  "text/plain": "<Figure size 432x288 with 1 Axes>"
                },
                "metadata": {}
              }
            ],
            "_view_module": "@jupyter-widgets/output",
            "_model_module_version": "1.0.0",
            "_view_count": null,
            "_view_module_version": "1.0.0",
            "layout": "IPY_MODEL_d8d799a126894f88bea2940c03665ec2",
            "_model_module": "@jupyter-widgets/output"
          }
        },
        "42727f8b71224772ba77c38aa8554c9c": {
          "model_module": "@jupyter-widgets/controls",
          "model_name": "SliderStyleModel",
          "model_module_version": "1.5.0",
          "state": {
            "_view_name": "StyleView",
            "handle_color": null,
            "_model_name": "SliderStyleModel",
            "description_width": "",
            "_view_module": "@jupyter-widgets/base",
            "_model_module_version": "1.5.0",
            "_view_count": null,
            "_view_module_version": "1.2.0",
            "_model_module": "@jupyter-widgets/controls"
          }
        },
        "3b659b229a304bd793ec8a281cc801b3": {
          "model_module": "@jupyter-widgets/base",
          "model_name": "LayoutModel",
          "model_module_version": "1.2.0",
          "state": {
            "_view_name": "LayoutView",
            "grid_template_rows": null,
            "right": null,
            "justify_content": null,
            "_view_module": "@jupyter-widgets/base",
            "overflow": null,
            "_model_module_version": "1.2.0",
            "_view_count": null,
            "flex_flow": null,
            "width": null,
            "min_width": null,
            "border": null,
            "align_items": null,
            "bottom": null,
            "_model_module": "@jupyter-widgets/base",
            "top": null,
            "grid_column": null,
            "overflow_y": null,
            "overflow_x": null,
            "grid_auto_flow": null,
            "grid_area": null,
            "grid_template_columns": null,
            "flex": null,
            "_model_name": "LayoutModel",
            "justify_items": null,
            "grid_row": null,
            "max_height": null,
            "align_content": null,
            "visibility": null,
            "align_self": null,
            "height": null,
            "min_height": null,
            "padding": null,
            "grid_auto_rows": null,
            "grid_gap": null,
            "max_width": null,
            "order": null,
            "_view_module_version": "1.2.0",
            "grid_template_areas": null,
            "object_position": null,
            "object_fit": null,
            "grid_auto_columns": null,
            "margin": null,
            "display": null,
            "left": null
          }
        },
        "59ce5f8b6df84eec9ccda53efe492c35": {
          "model_module": "@jupyter-widgets/controls",
          "model_name": "SliderStyleModel",
          "model_module_version": "1.5.0",
          "state": {
            "_view_name": "StyleView",
            "handle_color": null,
            "_model_name": "SliderStyleModel",
            "description_width": "",
            "_view_module": "@jupyter-widgets/base",
            "_model_module_version": "1.5.0",
            "_view_count": null,
            "_view_module_version": "1.2.0",
            "_model_module": "@jupyter-widgets/controls"
          }
        },
        "49bb176f2c9545fca1a07a34db33e728": {
          "model_module": "@jupyter-widgets/base",
          "model_name": "LayoutModel",
          "model_module_version": "1.2.0",
          "state": {
            "_view_name": "LayoutView",
            "grid_template_rows": null,
            "right": null,
            "justify_content": null,
            "_view_module": "@jupyter-widgets/base",
            "overflow": null,
            "_model_module_version": "1.2.0",
            "_view_count": null,
            "flex_flow": null,
            "width": null,
            "min_width": null,
            "border": null,
            "align_items": null,
            "bottom": null,
            "_model_module": "@jupyter-widgets/base",
            "top": null,
            "grid_column": null,
            "overflow_y": null,
            "overflow_x": null,
            "grid_auto_flow": null,
            "grid_area": null,
            "grid_template_columns": null,
            "flex": null,
            "_model_name": "LayoutModel",
            "justify_items": null,
            "grid_row": null,
            "max_height": null,
            "align_content": null,
            "visibility": null,
            "align_self": null,
            "height": null,
            "min_height": null,
            "padding": null,
            "grid_auto_rows": null,
            "grid_gap": null,
            "max_width": null,
            "order": null,
            "_view_module_version": "1.2.0",
            "grid_template_areas": null,
            "object_position": null,
            "object_fit": null,
            "grid_auto_columns": null,
            "margin": null,
            "display": null,
            "left": null
          }
        },
        "fe7bc47ce1ea4c558ba98817a836d842": {
          "model_module": "@jupyter-widgets/controls",
          "model_name": "ButtonStyleModel",
          "model_module_version": "1.5.0",
          "state": {
            "_view_name": "StyleView",
            "_model_name": "ButtonStyleModel",
            "_view_module": "@jupyter-widgets/base",
            "_model_module_version": "1.5.0",
            "_view_count": null,
            "button_color": null,
            "font_weight": "",
            "_view_module_version": "1.2.0",
            "_model_module": "@jupyter-widgets/controls"
          }
        },
        "81b71f633b67413fa6166e0e949a9832": {
          "model_module": "@jupyter-widgets/base",
          "model_name": "LayoutModel",
          "model_module_version": "1.2.0",
          "state": {
            "_view_name": "LayoutView",
            "grid_template_rows": null,
            "right": null,
            "justify_content": null,
            "_view_module": "@jupyter-widgets/base",
            "overflow": null,
            "_model_module_version": "1.2.0",
            "_view_count": null,
            "flex_flow": null,
            "width": null,
            "min_width": null,
            "border": null,
            "align_items": null,
            "bottom": null,
            "_model_module": "@jupyter-widgets/base",
            "top": null,
            "grid_column": null,
            "overflow_y": null,
            "overflow_x": null,
            "grid_auto_flow": null,
            "grid_area": null,
            "grid_template_columns": null,
            "flex": null,
            "_model_name": "LayoutModel",
            "justify_items": null,
            "grid_row": null,
            "max_height": null,
            "align_content": null,
            "visibility": null,
            "align_self": null,
            "height": null,
            "min_height": null,
            "padding": null,
            "grid_auto_rows": null,
            "grid_gap": null,
            "max_width": null,
            "order": null,
            "_view_module_version": "1.2.0",
            "grid_template_areas": null,
            "object_position": null,
            "object_fit": null,
            "grid_auto_columns": null,
            "margin": null,
            "display": null,
            "left": null
          }
        },
        "d8d799a126894f88bea2940c03665ec2": {
          "model_module": "@jupyter-widgets/base",
          "model_name": "LayoutModel",
          "model_module_version": "1.2.0",
          "state": {
            "_view_name": "LayoutView",
            "grid_template_rows": null,
            "right": null,
            "justify_content": null,
            "_view_module": "@jupyter-widgets/base",
            "overflow": null,
            "_model_module_version": "1.2.0",
            "_view_count": null,
            "flex_flow": null,
            "width": null,
            "min_width": null,
            "border": null,
            "align_items": null,
            "bottom": null,
            "_model_module": "@jupyter-widgets/base",
            "top": null,
            "grid_column": null,
            "overflow_y": null,
            "overflow_x": null,
            "grid_auto_flow": null,
            "grid_area": null,
            "grid_template_columns": null,
            "flex": null,
            "_model_name": "LayoutModel",
            "justify_items": null,
            "grid_row": null,
            "max_height": null,
            "align_content": null,
            "visibility": null,
            "align_self": null,
            "height": null,
            "min_height": null,
            "padding": null,
            "grid_auto_rows": null,
            "grid_gap": null,
            "max_width": null,
            "order": null,
            "_view_module_version": "1.2.0",
            "grid_template_areas": null,
            "object_position": null,
            "object_fit": null,
            "grid_auto_columns": null,
            "margin": null,
            "display": null,
            "left": null
          }
        },
        "73c0083f12ca4250b2c698c03c9ce4bc": {
          "model_module": "@jupyter-widgets/controls",
          "model_name": "VBoxModel",
          "model_module_version": "1.5.0",
          "state": {
            "_view_name": "VBoxView",
            "_dom_classes": [
              "widget-interact"
            ],
            "_model_name": "VBoxModel",
            "_view_module": "@jupyter-widgets/controls",
            "_model_module_version": "1.5.0",
            "_view_count": null,
            "_view_module_version": "1.5.0",
            "box_style": "",
            "layout": "IPY_MODEL_ac3508740665438a9fdc01922a798ed5",
            "_model_module": "@jupyter-widgets/controls",
            "children": [
              "IPY_MODEL_cc43894222614f4299e6d9dc088f78ac",
              "IPY_MODEL_17ac178efc19417aa2d0287857edf174",
              "IPY_MODEL_03c851c99acb480a8a9663d53d6b753d",
              "IPY_MODEL_4744a03f266b49a68b3b88f47ddfd27b"
            ]
          }
        },
        "ac3508740665438a9fdc01922a798ed5": {
          "model_module": "@jupyter-widgets/base",
          "model_name": "LayoutModel",
          "model_module_version": "1.2.0",
          "state": {
            "_view_name": "LayoutView",
            "grid_template_rows": null,
            "right": null,
            "justify_content": null,
            "_view_module": "@jupyter-widgets/base",
            "overflow": null,
            "_model_module_version": "1.2.0",
            "_view_count": null,
            "flex_flow": null,
            "width": null,
            "min_width": null,
            "border": null,
            "align_items": null,
            "bottom": null,
            "_model_module": "@jupyter-widgets/base",
            "top": null,
            "grid_column": null,
            "overflow_y": null,
            "overflow_x": null,
            "grid_auto_flow": null,
            "grid_area": null,
            "grid_template_columns": null,
            "flex": null,
            "_model_name": "LayoutModel",
            "justify_items": null,
            "grid_row": null,
            "max_height": null,
            "align_content": null,
            "visibility": null,
            "align_self": null,
            "height": null,
            "min_height": null,
            "padding": null,
            "grid_auto_rows": null,
            "grid_gap": null,
            "max_width": null,
            "order": null,
            "_view_module_version": "1.2.0",
            "grid_template_areas": null,
            "object_position": null,
            "object_fit": null,
            "grid_auto_columns": null,
            "margin": null,
            "display": null,
            "left": null
          }
        },
        "cc43894222614f4299e6d9dc088f78ac": {
          "model_module": "@jupyter-widgets/controls",
          "model_name": "IntSliderModel",
          "model_module_version": "1.5.0",
          "state": {
            "_view_name": "IntSliderView",
            "style": "IPY_MODEL_f9b37ef8c7bf46e9a4dc0c52f3ece6e8",
            "_dom_classes": [],
            "description": "bianche",
            "step": 1,
            "_model_name": "IntSliderModel",
            "orientation": "horizontal",
            "max": 5,
            "_view_module": "@jupyter-widgets/controls",
            "_model_module_version": "1.5.0",
            "value": 2,
            "_view_count": null,
            "disabled": false,
            "_view_module_version": "1.5.0",
            "min": 1,
            "continuous_update": true,
            "readout_format": "d",
            "description_tooltip": null,
            "readout": true,
            "_model_module": "@jupyter-widgets/controls",
            "layout": "IPY_MODEL_d75cca7ae83945de8c237ab901779b9e"
          }
        },
        "17ac178efc19417aa2d0287857edf174": {
          "model_module": "@jupyter-widgets/controls",
          "model_name": "IntSliderModel",
          "model_module_version": "1.5.0",
          "state": {
            "_view_name": "IntSliderView",
            "style": "IPY_MODEL_f298633ce6b440298988c8c9d1f75312",
            "_dom_classes": [],
            "description": "rosse",
            "step": 1,
            "_model_name": "IntSliderModel",
            "orientation": "horizontal",
            "max": 5,
            "_view_module": "@jupyter-widgets/controls",
            "_model_module_version": "1.5.0",
            "value": 3,
            "_view_count": null,
            "disabled": false,
            "_view_module_version": "1.5.0",
            "min": 1,
            "continuous_update": true,
            "readout_format": "d",
            "description_tooltip": null,
            "readout": true,
            "_model_module": "@jupyter-widgets/controls",
            "layout": "IPY_MODEL_093cfac6de76469485bb459fbb4eba9c"
          }
        },
        "03c851c99acb480a8a9663d53d6b753d": {
          "model_module": "@jupyter-widgets/controls",
          "model_name": "ButtonModel",
          "model_module_version": "1.5.0",
          "state": {
            "_view_name": "ButtonView",
            "style": "IPY_MODEL_6684b30ae27249fe866cc2377d8e4f14",
            "_dom_classes": [],
            "description": "Run Interact",
            "_model_name": "ButtonModel",
            "button_style": "",
            "_view_module": "@jupyter-widgets/controls",
            "_model_module_version": "1.5.0",
            "tooltip": "",
            "_view_count": null,
            "disabled": false,
            "_view_module_version": "1.5.0",
            "layout": "IPY_MODEL_7d96c62c0b5448d99c6c09ff31d5ff4e",
            "_model_module": "@jupyter-widgets/controls",
            "icon": ""
          }
        },
        "4744a03f266b49a68b3b88f47ddfd27b": {
          "model_module": "@jupyter-widgets/output",
          "model_name": "OutputModel",
          "model_module_version": "1.0.0",
          "state": {
            "_view_name": "OutputView",
            "msg_id": "",
            "_dom_classes": [],
            "_model_name": "OutputModel",
            "outputs": [
              {
                "output_type": "display_data",
                "data": {
                  "image/png": "iVBORw0KGgoAAAANSUhEUgAAAX4AAAEGCAYAAABiq/5QAAAABHNCSVQICAgIfAhkiAAAAAlwSFlzAAALEgAACxIB0t1+/AAAADh0RVh0U29mdHdhcmUAbWF0cGxvdGxpYiB2ZXJzaW9uMy4yLjIsIGh0dHA6Ly9tYXRwbG90bGliLm9yZy+WH4yJAAATaklEQVR4nO3df7DddX3n8edrCYqi8jNmWDANVUaXugX0DgVxHSW1i0KF7ris2jpxy25mp1ZhdbZiu1PrzO4O7nZsbcfVyYKa2aJoqZQstkg2RanTLTUBRCAoyIYKDeRaUUBmJYH3/nG+qRdyk5yE8zk3l8/zMXPmfL/fc77f9/tA7ut+7+d8f6SqkCT14x8tdAOSpOky+CWpMwa/JHXG4Jekzhj8ktSZJQvdwDiOPvroWrFixUK3IUmLyqZNm75XVUufvnxRBP+KFSvYuHHjQrchSYtKknvnW+5QjyR1xuCXpM4Y/JLUGYNfkjpj8EtSZwx+SepM0+BPcniSK5PcmWRzktOTHJlkfZK7hucjWvYgSXqq1nv8HwOurapXACcBm4GLgQ1VdQKwYZiXJE1JsxO4khwGvA54F0BVPQ48nuRc4PXD29YCXwE+0KqPFRd/aeLb3HLJ2RPfpiRNS8s9/uOBWeDTSW5OcmmSQ4FlVbV1eM8DwLL5Vk6yOsnGJBtnZ2cbtilJfWkZ/EuAVwGfqKpTgB/xtGGdGt3+a95bgFXVmqqaqaqZpUt3udSEJGk/tQz++4D7qurGYf5KRr8IHkxyDMDwvK1hD5Kkp2kW/FX1APDdJC8fFq0E7gDWAauGZauAq1v1IEnaVeurc74HuDzJc4B7gH/N6JfNF5JcANwLnN+4B0nSHE2Dv6puAWbmeWlly7qSpN3zzF1J6ozBL0mdMfglqTMGvyR1xuCXpM4Y/JLUGYNfkjpj8EtSZwx+SeqMwS9JnTH4JakzBr8kdcbgl6TOGPyS1BmDX5I6Y/BLUmcMfknqjMEvSZ0x+CWpMwa/JHXG4Jekzhj8ktQZg1+SOmPwS1JnlrTceJItwCPAE8COqppJciTweWAFsAU4v6oeatmHJOknprHH/4aqOrmqZob5i4ENVXUCsGGYlyRNyUIM9ZwLrB2m1wLnLUAPktSt1sFfwHVJNiVZPSxbVlVbh+kHgGXzrZhkdZKNSTbOzs42blOS+tF0jB94bVXdn+TFwPokd859saoqSc23YlWtAdYAzMzMzPseSdK+a7rHX1X3D8/bgKuAU4EHkxwDMDxva9mDJOmpmgV/kkOTvHDnNPALwG3AOmDV8LZVwNWtepAk7arlUM8y4KokO+t8tqquTfJ14AtJLgDuBc5v2IMk6WmaBX9V3QOcNM/yvwdWtqorSdozz9yVpM4Y/JLUGYNfkjpj8EtSZwx+SeqMwS9JnTH4JakzBr8kdcbgl6TOGPyS1BmDX5I6Y/BLUmcMfknqjMEvSZ0x+CWpMwa/JHXG4Jekzhj8ktQZg1+SOmPwS1JnDH5J6ozBL0mdMfglqTPNgz/JQUluTnLNMH98khuT3J3k80me07oHSdJPTGOP/0Jg85z5jwC/V1UvAx4CLphCD5KkQdPgT3IccDZw6TAf4EzgyuEta4HzWvYgSXqq1nv8vw/8BvDkMH8U8IOq2jHM3wcc27gHSdIczYI/yTnAtqratJ/rr06yMcnG2dnZCXcnSf1qucd/BvCWJFuAKxgN8XwMODzJkuE9xwH3z7dyVa2pqpmqmlm6dGnDNiWpL82Cv6o+WFXHVdUK4G3AX1TVLwPXA28d3rYKuLpVD5KkXS3EcfwfAN6X5G5GY/6XLUAPktStJXt/yzNXVV8BvjJM3wOcOo26kqRdeeauJHXG4JekzowV/Bn5lSS/PcwvT+JwjSQtQuPu8f934HTg7cP8I8DHm3QkSWpq3C93f66qXpXkZoCqesiLq0nS4jTuHv/2JAcBBZBkKT+5DIMkaREZN/j/ALgKeHGS/wx8DfgvzbqSJDUz1lBPVV2eZBOwEghwXlVt3stqkqQD0FjBn+RIYBvwuTnLDq6q7a0akyS1Me5Qz03ALPBt4K5hekuSm5K8ulVzkqTJGzf41wNvrqqjq+oo4E3ANcCvMTrUU5K0SIwb/KdV1Zd3zlTVdcDpVfXXwHObdCZJamLc4/i3JvkAo+vqA/wr4MHhEE8P65SkRWTcPf53MLppyp8Oj+XDsoOA89u0JklqYdzDOb8HvGc3L989uXYkSa2NezjnUkY3Tf8Z4JCdy6vqzEZ9SZIaGXeo53LgTuB44MPAFuDrjXqSJDU0bvAfVVWXAdur6qtV9auMbp4uSVpkxj2qZ+cZuluTnA38HXBkm5YkSS2NG/z/KclhwPuBPwReBFzUrCtJUjPjBv9DVfVD4IfAGwCSnNGsK0lSM+OO8f/hmMskSQe4Pe7xJzkdeA2wNMn75rz0IkYnb0mSFpm9DfU8B3jB8L4Xzln+MPDWVk1JktrZY/BX1VeBryb5TFXduy8bTnIIcAOji7gtAa6sqg8lOZ7RNX+OAjYB76yqx/ere0nSPhv3y93nJlkDrJi7zl7O3P0xcGZVPZrkYOBrSf4ceB/we1V1RZJPAhcAn9iv7iVJ+2zc4P9j4JPApcAT46xQVQU8OswePDyK0Ylf7xiWrwV+B4NfkqZm3ODfUVX7HM7DZZs3AS8DPg58B/hBVe0Y3nIfcOxu1l0NrAZYvnz5vpaWJO3GuIdz/q8kv5bkmCRH7nzsbaWqeqKqTmZ0SedTgVeM21hVramqmaqaWbp06birSZL2Ytw9/lXD83+Ys6yAnx5n5ar6QZLrgdOBw5MsGfb6jwPuH7dZSdIzN+71+I/f1w0Pl3LePoT+84A3Ah8Brmd0KOgVjH6hXL2v25Yk7b+xhnqSPD/JfxyO7CHJCUnO2ctqxwDXJ7mV0SWc11fVNcAHgPcluZvRIZ2X7X/7kqR9Ne5Qz6cZfUn7mmH+fkZH+lyzuxWq6lbglHmW38NovF+StADG/XL3pVX1Xxkuz1xVjwFp1pUkqZlxg//xYZy+AJK8lNEJWpKkRWbcoZ4PAdcCL0lyOXAG8K5WTUmS2hn3qJ71SW4CTmM0xHNhVX2vaWeSpCbGParnlxidvful4cicHUnOa9uaJKmFccf4PzTcgQsYnZDFaPhHkrTIjBv8871v3O8HJEkHkHGDf2OSjyZ56fD4KKPj+iVJi8y4wf8e4HHg84wutfD/gHe3akqS1M5eh2uGSytfU1VvmEI/kqTG9rrHX1VPAE8mOWwK/UiSGhv3C9pHgW8mWQ/8aOfCqnpvk64kSc2MG/xfHB6SpEVu3DN31w7X6lleVd9q3JMkqaFxz9z9ReAWRtfrIcnJSda1bEyS1Ma4Qz2/w+ga+l8BqKpbkox128VerLj4SxPd3pZLzp7o9iRpp3GP498+95INgycn3Ywkqb1x9/hvT/IO4KAkJwDvBf6qXVuSpFb25czdn2F085XPAj8ELmrVlCSpnT3u8Sc5BPh3wMuAbwKnV9WOaTQmSWpjb3v8a4EZRqH/JuB3m3ckSWpqb2P8J1bVPwVIchnwN+1bkiS1tLc9/u07JxzikaRnh73t8Z+U5OFhOsDzhvkAVVUvatqdJGni9rjHX1UHVdWLhscLq2rJnOk9hn6SlyS5PskdSW5PcuGw/Mgk65PcNTwfMckPJEnas3EP59wfO4D3V9WJwGnAu5OcCFwMbKiqE4ANw7wkaUqaBX9Vba2qm4bpR4DNwLHAuYyOFmJ4Pq9VD5KkXbXc4/8HSVYApwA3Asuqauvw0gPAst2sszrJxiQbZ2dnp9GmJHWhefAneQHwJ8BFVfXw3NeqqoCab72qWlNVM1U1s3Tp0tZtSlI3mgZ/koMZhf7lVbXzRi4PJjlmeP0YYFvLHiRJT9Us+JMEuAzYXFUfnfPSOmDVML0KuLpVD5KkXY17dc79cQbwTkb36r1lWPabwCXAF5JcANwLnN+wB0nS0zQL/qr6GqMTveazslVdSdKeTeWoHknSgcPgl6TOGPyS1BmDX5I6Y/BLUmcMfknqjMEvSZ0x+CWpMwa/JHXG4Jekzhj8ktQZg1+SOmPwS1JnDH5J6ozBL0mdMfglqTMGvyR1xuCXpM4Y/JLUGYNfkjpj8EtSZwx+SeqMwS9JnTH4JakzzYI/yaeSbEty25xlRyZZn+Su4fmIVvUlSfNrucf/GeCspy27GNhQVScAG4Z5SdIUNQv+qroB+P7TFp8LrB2m1wLntaovSZrftMf4l1XV1mH6AWDZ7t6YZHWSjUk2zs7OTqc7SerAkoUqXFWVpPbw+hpgDcDMzMxu39ebFRd/aaLb23LJ2RPdnqQD37T3+B9McgzA8LxtyvUlqXvTDv51wKphehVw9ZTrS1L3Wh7O+Tng/wAvT3JfkguAS4A3JrkL+PlhXpI0Rc3G+Kvq7bt5aWWrmpKkvfPMXUnqjMEvSZ0x+CWpMwa/JHXG4Jekzhj8ktQZg1+SOmPwS1JnDH5J6ozBL0mdMfglqTMGvyR1xuCXpM4Y/JLUmQW79aIOXJO+vSN4i0fpQOIevyR1xuCXpM4Y/JLUGYNfkjpj8EtSZwx+SeqMwS9JnfE4fi0YzxeQFoZ7/JLUmQUJ/iRnJflWkruTXLwQPUhSr6Y+1JPkIODjwBuB+4CvJ1lXVXdMuxf1wSEl6akWYoz/VODuqroHIMkVwLmAwa9FbdK/YPzlolZSVdMtmLwVOKuq/s0w/07g56rq15/2vtXAaoDly5e/+t57751qn5K02CXZVFUzT19+wH65W1VrqmqmqmaWLl260O1I0rPGQgT//cBL5swfNyyTJE3BQgT/14ETkhyf5DnA24B1C9CHJHVp6l/uVtWOJL8OfBk4CPhUVd0+7T4kqVcLcuZuVf0Z8GcLUVuSenfAfrkrSWrD4Jekzhj8ktQZg1+SOjP1M3f3R5JZoPWpu0cD32tcwzoHdp1n02exzoFbY5p1fqqqdjkDdlEE/zQk2Tjfqc3W6afOs+mzWOfArTHNOrvjUI8kdcbgl6TOGPw/scY63dd5Nn0W6xy4NaZZZ16O8UtSZ9zjl6TOGPyS1Jnugz/Jp5JsS3Jb4zovSXJ9kjuS3J7kwkZ1DknyN0m+MdT5cIs6Q62Dktyc5JqGNbYk+WaSW5JsbFjn8CRXJrkzyeYkpzeo8fLhc+x8PJzkogZ1/v3w//62JJ9Lcsikawx1Lhxq3D7JzzHfz2SSI5OsT3LX8HxEozr/cvg8TyaZyOGWu6nz34Z/a7cmuSrJ4ZOoNa7ugx/4DHDWFOrsAN5fVScCpwHvTnJigzo/Bs6sqpOAk4GzkpzWoA7AhcDmRtue6w1VdXLj454/BlxbVa8ATqLB56qqbw2f42Tg1cBjwFWTrJHkWOC9wExVvZLRpc/fNskaQ51XAv+W0T20TwLOSfKyCW3+M+z6M3kxsKGqTgA2DPMt6twG/Avghglsf0911gOvrKqfBb4NfHCC9faq++CvqhuA70+hztaqummYfoRRsBzboE5V1aPD7MHDY+Lf4Cc5DjgbuHTS2562JIcBrwMuA6iqx6vqB43LrgS+U1UtzkhfAjwvyRLg+cDfNajxT4Abq+qxqtoBfJVRYD5ju/mZPBdYO0yvBc5rUaeqNlfVt57ptseoc93w3w3grxndiXBqug/+hZBkBXAKcGOj7R+U5BZgG7C+qlrU+X3gN4AnG2x7rgKuS7IpyepGNY4HZoFPD0NXlyY5tFGtnd4GfG7SG62q+4HfBf4W2Ar8sKqum3QdRnvG/yzJUUmeD7yZp95SddKWVdXWYfoBYFnDWtP2q8CfT7OgwT9lSV4A/AlwUVU93KJGVT0xDCccB5w6/Fk+MUnOAbZV1aZJbnc3XltVrwLexGh47HUNaiwBXgV8oqpOAX7EZIYS5jXccvQtwB832PYRjPaOjwf+MXBokl+ZdJ2q2gx8BLgOuBa4BXhi0nV2U7to8FfsQkjyW4yGgS+fZl2Df4qSHMwo9C+vqi+2rjcMV1zP5L/DOAN4S5ItwBXAmUn+aMI1gH/Yg6WqtjEaDz+1QZn7gPvm/GV0JaNfBK28Cbipqh5ssO2fB/5vVc1W1Xbgi8BrGtShqi6rqldX1euAhxiNVbfyYJJjAIbnbQ1rTUWSdwHnAL9cUz6hyuCfkiRhNIa8uao+2rDO0p1HCCR5HvBG4M5J1qiqD1bVcVW1gtGQxV9U1cT3KpMcmuSFO6eBX2A0xDBRVfUA8N0kLx8WrQTumHSdOd5Og2Gewd8CpyV5/vBvbiWNvoBP8uLheTmj8f3PtqgzWAesGqZXAVc3rNVckrMYDZW+paoem3oDVdX1g9EP4FZgO6M9vwsa1Xktoz9Pb2X0Z/EtwJsb1PlZ4Oahzm3Abzf+7/d64JpG2/5p4BvD43bgtxp+jpOBjcN/tz8FjmhU51Dg74HDGn6WDzP6ZX8b8D+B5zaq85eMfkF+A1g5we3u8jMJHMXoaJ67gP8NHNmozi8N0z8GHgS+3KjO3cB352TBJ1v9e5jv4SUbJKkzDvVIUmcMfknqjMEvSZ0x+CWpMwa/JHXG4Jf2Q5JH50y/Ocm3k/zUQvYkjWvJQjcgLWZJVgJ/APzzanPBNWniDH5pPw3XDfofjE7E+85C9yONyxO4pP2QZDvwCPD6qrp1ofuR9oVj/NL+2Q78FaPT76VFxeCX9s+TwPmMLnv9mwvdjLQvHOOX9lNVPZbkbOAvkzxYVZctdE/SOAx+6Rmoqu8Pl9i9IclsVa1b6J6kvfHLXUnqjGP8ktQZg1+SOmPwS1JnDH5J6ozBL0mdMfglqTMGvyR15v8DfMAeHrJ3N30AAAAASUVORK5CYII=\n",
                  "text/plain": "<Figure size 432x288 with 1 Axes>"
                },
                "metadata": {
                  "needs_background": "light"
                }
              }
            ],
            "_view_module": "@jupyter-widgets/output",
            "_model_module_version": "1.0.0",
            "_view_count": null,
            "_view_module_version": "1.0.0",
            "layout": "IPY_MODEL_19b1eaefa5754a089730be55640f753d",
            "_model_module": "@jupyter-widgets/output"
          }
        },
        "f9b37ef8c7bf46e9a4dc0c52f3ece6e8": {
          "model_module": "@jupyter-widgets/controls",
          "model_name": "SliderStyleModel",
          "model_module_version": "1.5.0",
          "state": {
            "_view_name": "StyleView",
            "handle_color": null,
            "_model_name": "SliderStyleModel",
            "description_width": "",
            "_view_module": "@jupyter-widgets/base",
            "_model_module_version": "1.5.0",
            "_view_count": null,
            "_view_module_version": "1.2.0",
            "_model_module": "@jupyter-widgets/controls"
          }
        },
        "d75cca7ae83945de8c237ab901779b9e": {
          "model_module": "@jupyter-widgets/base",
          "model_name": "LayoutModel",
          "model_module_version": "1.2.0",
          "state": {
            "_view_name": "LayoutView",
            "grid_template_rows": null,
            "right": null,
            "justify_content": null,
            "_view_module": "@jupyter-widgets/base",
            "overflow": null,
            "_model_module_version": "1.2.0",
            "_view_count": null,
            "flex_flow": null,
            "width": null,
            "min_width": null,
            "border": null,
            "align_items": null,
            "bottom": null,
            "_model_module": "@jupyter-widgets/base",
            "top": null,
            "grid_column": null,
            "overflow_y": null,
            "overflow_x": null,
            "grid_auto_flow": null,
            "grid_area": null,
            "grid_template_columns": null,
            "flex": null,
            "_model_name": "LayoutModel",
            "justify_items": null,
            "grid_row": null,
            "max_height": null,
            "align_content": null,
            "visibility": null,
            "align_self": null,
            "height": null,
            "min_height": null,
            "padding": null,
            "grid_auto_rows": null,
            "grid_gap": null,
            "max_width": null,
            "order": null,
            "_view_module_version": "1.2.0",
            "grid_template_areas": null,
            "object_position": null,
            "object_fit": null,
            "grid_auto_columns": null,
            "margin": null,
            "display": null,
            "left": null
          }
        },
        "f298633ce6b440298988c8c9d1f75312": {
          "model_module": "@jupyter-widgets/controls",
          "model_name": "SliderStyleModel",
          "model_module_version": "1.5.0",
          "state": {
            "_view_name": "StyleView",
            "handle_color": null,
            "_model_name": "SliderStyleModel",
            "description_width": "",
            "_view_module": "@jupyter-widgets/base",
            "_model_module_version": "1.5.0",
            "_view_count": null,
            "_view_module_version": "1.2.0",
            "_model_module": "@jupyter-widgets/controls"
          }
        },
        "093cfac6de76469485bb459fbb4eba9c": {
          "model_module": "@jupyter-widgets/base",
          "model_name": "LayoutModel",
          "model_module_version": "1.2.0",
          "state": {
            "_view_name": "LayoutView",
            "grid_template_rows": null,
            "right": null,
            "justify_content": null,
            "_view_module": "@jupyter-widgets/base",
            "overflow": null,
            "_model_module_version": "1.2.0",
            "_view_count": null,
            "flex_flow": null,
            "width": null,
            "min_width": null,
            "border": null,
            "align_items": null,
            "bottom": null,
            "_model_module": "@jupyter-widgets/base",
            "top": null,
            "grid_column": null,
            "overflow_y": null,
            "overflow_x": null,
            "grid_auto_flow": null,
            "grid_area": null,
            "grid_template_columns": null,
            "flex": null,
            "_model_name": "LayoutModel",
            "justify_items": null,
            "grid_row": null,
            "max_height": null,
            "align_content": null,
            "visibility": null,
            "align_self": null,
            "height": null,
            "min_height": null,
            "padding": null,
            "grid_auto_rows": null,
            "grid_gap": null,
            "max_width": null,
            "order": null,
            "_view_module_version": "1.2.0",
            "grid_template_areas": null,
            "object_position": null,
            "object_fit": null,
            "grid_auto_columns": null,
            "margin": null,
            "display": null,
            "left": null
          }
        },
        "6684b30ae27249fe866cc2377d8e4f14": {
          "model_module": "@jupyter-widgets/controls",
          "model_name": "ButtonStyleModel",
          "model_module_version": "1.5.0",
          "state": {
            "_view_name": "StyleView",
            "_model_name": "ButtonStyleModel",
            "_view_module": "@jupyter-widgets/base",
            "_model_module_version": "1.5.0",
            "_view_count": null,
            "button_color": null,
            "font_weight": "",
            "_view_module_version": "1.2.0",
            "_model_module": "@jupyter-widgets/controls"
          }
        },
        "7d96c62c0b5448d99c6c09ff31d5ff4e": {
          "model_module": "@jupyter-widgets/base",
          "model_name": "LayoutModel",
          "model_module_version": "1.2.0",
          "state": {
            "_view_name": "LayoutView",
            "grid_template_rows": null,
            "right": null,
            "justify_content": null,
            "_view_module": "@jupyter-widgets/base",
            "overflow": null,
            "_model_module_version": "1.2.0",
            "_view_count": null,
            "flex_flow": null,
            "width": null,
            "min_width": null,
            "border": null,
            "align_items": null,
            "bottom": null,
            "_model_module": "@jupyter-widgets/base",
            "top": null,
            "grid_column": null,
            "overflow_y": null,
            "overflow_x": null,
            "grid_auto_flow": null,
            "grid_area": null,
            "grid_template_columns": null,
            "flex": null,
            "_model_name": "LayoutModel",
            "justify_items": null,
            "grid_row": null,
            "max_height": null,
            "align_content": null,
            "visibility": null,
            "align_self": null,
            "height": null,
            "min_height": null,
            "padding": null,
            "grid_auto_rows": null,
            "grid_gap": null,
            "max_width": null,
            "order": null,
            "_view_module_version": "1.2.0",
            "grid_template_areas": null,
            "object_position": null,
            "object_fit": null,
            "grid_auto_columns": null,
            "margin": null,
            "display": null,
            "left": null
          }
        },
        "19b1eaefa5754a089730be55640f753d": {
          "model_module": "@jupyter-widgets/base",
          "model_name": "LayoutModel",
          "model_module_version": "1.2.0",
          "state": {
            "_view_name": "LayoutView",
            "grid_template_rows": null,
            "right": null,
            "justify_content": null,
            "_view_module": "@jupyter-widgets/base",
            "overflow": null,
            "_model_module_version": "1.2.0",
            "_view_count": null,
            "flex_flow": null,
            "width": null,
            "min_width": null,
            "border": null,
            "align_items": null,
            "bottom": null,
            "_model_module": "@jupyter-widgets/base",
            "top": null,
            "grid_column": null,
            "overflow_y": null,
            "overflow_x": null,
            "grid_auto_flow": null,
            "grid_area": null,
            "grid_template_columns": null,
            "flex": null,
            "_model_name": "LayoutModel",
            "justify_items": null,
            "grid_row": null,
            "max_height": null,
            "align_content": null,
            "visibility": null,
            "align_self": null,
            "height": null,
            "min_height": null,
            "padding": null,
            "grid_auto_rows": null,
            "grid_gap": null,
            "max_width": null,
            "order": null,
            "_view_module_version": "1.2.0",
            "grid_template_areas": null,
            "object_position": null,
            "object_fit": null,
            "grid_auto_columns": null,
            "margin": null,
            "display": null,
            "left": null
          }
        },
        "42082da4b8d043f5a5cbe8d50b92eaa3": {
          "model_module": "@jupyter-widgets/controls",
          "model_name": "VBoxModel",
          "model_module_version": "1.5.0",
          "state": {
            "_view_name": "VBoxView",
            "_dom_classes": [
              "widget-interact"
            ],
            "_model_name": "VBoxModel",
            "_view_module": "@jupyter-widgets/controls",
            "_model_module_version": "1.5.0",
            "_view_count": null,
            "_view_module_version": "1.5.0",
            "box_style": "",
            "layout": "IPY_MODEL_0665fa590a55415687421f02c8fb6533",
            "_model_module": "@jupyter-widgets/controls",
            "children": [
              "IPY_MODEL_489158cbd62345dbb089a00de3aec1ff",
              "IPY_MODEL_263e3e01b2ee40e4aeea51318a83034d",
              "IPY_MODEL_50b0fa9cc2d34828bcfa7ac5d6281425"
            ]
          }
        },
        "0665fa590a55415687421f02c8fb6533": {
          "model_module": "@jupyter-widgets/base",
          "model_name": "LayoutModel",
          "model_module_version": "1.2.0",
          "state": {
            "_view_name": "LayoutView",
            "grid_template_rows": null,
            "right": null,
            "justify_content": null,
            "_view_module": "@jupyter-widgets/base",
            "overflow": null,
            "_model_module_version": "1.2.0",
            "_view_count": null,
            "flex_flow": null,
            "width": null,
            "min_width": null,
            "border": null,
            "align_items": null,
            "bottom": null,
            "_model_module": "@jupyter-widgets/base",
            "top": null,
            "grid_column": null,
            "overflow_y": null,
            "overflow_x": null,
            "grid_auto_flow": null,
            "grid_area": null,
            "grid_template_columns": null,
            "flex": null,
            "_model_name": "LayoutModel",
            "justify_items": null,
            "grid_row": null,
            "max_height": null,
            "align_content": null,
            "visibility": null,
            "align_self": null,
            "height": null,
            "min_height": null,
            "padding": null,
            "grid_auto_rows": null,
            "grid_gap": null,
            "max_width": null,
            "order": null,
            "_view_module_version": "1.2.0",
            "grid_template_areas": null,
            "object_position": null,
            "object_fit": null,
            "grid_auto_columns": null,
            "margin": null,
            "display": null,
            "left": null
          }
        },
        "489158cbd62345dbb089a00de3aec1ff": {
          "model_module": "@jupyter-widgets/controls",
          "model_name": "IntSliderModel",
          "model_module_version": "1.5.0",
          "state": {
            "_view_name": "IntSliderView",
            "style": "IPY_MODEL_f6a1faae0018409d8bc492e9cae857df",
            "_dom_classes": [],
            "description": "vincita",
            "step": 1,
            "_model_name": "IntSliderModel",
            "orientation": "horizontal",
            "max": 30,
            "_view_module": "@jupyter-widgets/controls",
            "_model_module_version": "1.5.0",
            "value": 5,
            "_view_count": null,
            "disabled": false,
            "_view_module_version": "1.5.0",
            "min": 0,
            "continuous_update": true,
            "readout_format": "d",
            "description_tooltip": null,
            "readout": true,
            "_model_module": "@jupyter-widgets/controls",
            "layout": "IPY_MODEL_ac0a1d4a49e5489eabd2420bb501b8e4"
          }
        },
        "263e3e01b2ee40e4aeea51318a83034d": {
          "model_module": "@jupyter-widgets/controls",
          "model_name": "ButtonModel",
          "model_module_version": "1.5.0",
          "state": {
            "_view_name": "ButtonView",
            "style": "IPY_MODEL_a76bf21201554a2b9dccef7739ca144d",
            "_dom_classes": [],
            "description": "Run Interact",
            "_model_name": "ButtonModel",
            "button_style": "",
            "_view_module": "@jupyter-widgets/controls",
            "_model_module_version": "1.5.0",
            "tooltip": "",
            "_view_count": null,
            "disabled": false,
            "_view_module_version": "1.5.0",
            "layout": "IPY_MODEL_c6117759f35c4164a44821b14c7e8307",
            "_model_module": "@jupyter-widgets/controls",
            "icon": ""
          }
        },
        "50b0fa9cc2d34828bcfa7ac5d6281425": {
          "model_module": "@jupyter-widgets/output",
          "model_name": "OutputModel",
          "model_module_version": "1.0.0",
          "state": {
            "_view_name": "OutputView",
            "msg_id": "",
            "_dom_classes": [],
            "_model_name": "OutputModel",
            "outputs": [
              {
                "output_type": "display_data",
                "data": {
                  "text/plain": "0.48"
                },
                "metadata": {}
              }
            ],
            "_view_module": "@jupyter-widgets/output",
            "_model_module_version": "1.0.0",
            "_view_count": null,
            "_view_module_version": "1.0.0",
            "layout": "IPY_MODEL_0aad381efe5e45349d3006626a510dd7",
            "_model_module": "@jupyter-widgets/output"
          }
        },
        "f6a1faae0018409d8bc492e9cae857df": {
          "model_module": "@jupyter-widgets/controls",
          "model_name": "SliderStyleModel",
          "model_module_version": "1.5.0",
          "state": {
            "_view_name": "StyleView",
            "handle_color": null,
            "_model_name": "SliderStyleModel",
            "description_width": "",
            "_view_module": "@jupyter-widgets/base",
            "_model_module_version": "1.5.0",
            "_view_count": null,
            "_view_module_version": "1.2.0",
            "_model_module": "@jupyter-widgets/controls"
          }
        },
        "ac0a1d4a49e5489eabd2420bb501b8e4": {
          "model_module": "@jupyter-widgets/base",
          "model_name": "LayoutModel",
          "model_module_version": "1.2.0",
          "state": {
            "_view_name": "LayoutView",
            "grid_template_rows": null,
            "right": null,
            "justify_content": null,
            "_view_module": "@jupyter-widgets/base",
            "overflow": null,
            "_model_module_version": "1.2.0",
            "_view_count": null,
            "flex_flow": null,
            "width": null,
            "min_width": null,
            "border": null,
            "align_items": null,
            "bottom": null,
            "_model_module": "@jupyter-widgets/base",
            "top": null,
            "grid_column": null,
            "overflow_y": null,
            "overflow_x": null,
            "grid_auto_flow": null,
            "grid_area": null,
            "grid_template_columns": null,
            "flex": null,
            "_model_name": "LayoutModel",
            "justify_items": null,
            "grid_row": null,
            "max_height": null,
            "align_content": null,
            "visibility": null,
            "align_self": null,
            "height": null,
            "min_height": null,
            "padding": null,
            "grid_auto_rows": null,
            "grid_gap": null,
            "max_width": null,
            "order": null,
            "_view_module_version": "1.2.0",
            "grid_template_areas": null,
            "object_position": null,
            "object_fit": null,
            "grid_auto_columns": null,
            "margin": null,
            "display": null,
            "left": null
          }
        },
        "a76bf21201554a2b9dccef7739ca144d": {
          "model_module": "@jupyter-widgets/controls",
          "model_name": "ButtonStyleModel",
          "model_module_version": "1.5.0",
          "state": {
            "_view_name": "StyleView",
            "_model_name": "ButtonStyleModel",
            "_view_module": "@jupyter-widgets/base",
            "_model_module_version": "1.5.0",
            "_view_count": null,
            "button_color": null,
            "font_weight": "",
            "_view_module_version": "1.2.0",
            "_model_module": "@jupyter-widgets/controls"
          }
        },
        "c6117759f35c4164a44821b14c7e8307": {
          "model_module": "@jupyter-widgets/base",
          "model_name": "LayoutModel",
          "model_module_version": "1.2.0",
          "state": {
            "_view_name": "LayoutView",
            "grid_template_rows": null,
            "right": null,
            "justify_content": null,
            "_view_module": "@jupyter-widgets/base",
            "overflow": null,
            "_model_module_version": "1.2.0",
            "_view_count": null,
            "flex_flow": null,
            "width": null,
            "min_width": null,
            "border": null,
            "align_items": null,
            "bottom": null,
            "_model_module": "@jupyter-widgets/base",
            "top": null,
            "grid_column": null,
            "overflow_y": null,
            "overflow_x": null,
            "grid_auto_flow": null,
            "grid_area": null,
            "grid_template_columns": null,
            "flex": null,
            "_model_name": "LayoutModel",
            "justify_items": null,
            "grid_row": null,
            "max_height": null,
            "align_content": null,
            "visibility": null,
            "align_self": null,
            "height": null,
            "min_height": null,
            "padding": null,
            "grid_auto_rows": null,
            "grid_gap": null,
            "max_width": null,
            "order": null,
            "_view_module_version": "1.2.0",
            "grid_template_areas": null,
            "object_position": null,
            "object_fit": null,
            "grid_auto_columns": null,
            "margin": null,
            "display": null,
            "left": null
          }
        },
        "0aad381efe5e45349d3006626a510dd7": {
          "model_module": "@jupyter-widgets/base",
          "model_name": "LayoutModel",
          "model_module_version": "1.2.0",
          "state": {
            "_view_name": "LayoutView",
            "grid_template_rows": null,
            "right": null,
            "justify_content": null,
            "_view_module": "@jupyter-widgets/base",
            "overflow": null,
            "_model_module_version": "1.2.0",
            "_view_count": null,
            "flex_flow": null,
            "width": null,
            "min_width": null,
            "border": null,
            "align_items": null,
            "bottom": null,
            "_model_module": "@jupyter-widgets/base",
            "top": null,
            "grid_column": null,
            "overflow_y": null,
            "overflow_x": null,
            "grid_auto_flow": null,
            "grid_area": null,
            "grid_template_columns": null,
            "flex": null,
            "_model_name": "LayoutModel",
            "justify_items": null,
            "grid_row": null,
            "max_height": null,
            "align_content": null,
            "visibility": null,
            "align_self": null,
            "height": null,
            "min_height": null,
            "padding": null,
            "grid_auto_rows": null,
            "grid_gap": null,
            "max_width": null,
            "order": null,
            "_view_module_version": "1.2.0",
            "grid_template_areas": null,
            "object_position": null,
            "object_fit": null,
            "grid_auto_columns": null,
            "margin": null,
            "display": null,
            "left": null
          }
        },
        "89cc6a3211024f92aeb27c36f1d95a2c": {
          "model_module": "@jupyter-widgets/controls",
          "model_name": "VBoxModel",
          "model_module_version": "1.5.0",
          "state": {
            "_view_name": "VBoxView",
            "_dom_classes": [
              "widget-interact"
            ],
            "_model_name": "VBoxModel",
            "_view_module": "@jupyter-widgets/controls",
            "_model_module_version": "1.5.0",
            "_view_count": null,
            "_view_module_version": "1.5.0",
            "box_style": "",
            "layout": "IPY_MODEL_e86f6a4493a14582a8bc9de7c46b6270",
            "_model_module": "@jupyter-widgets/controls",
            "children": [
              "IPY_MODEL_10cba61d4d0f46bab9288ead5e59f32a",
              "IPY_MODEL_9b42f63de11341fd924ae326fb07a15e",
              "IPY_MODEL_839f1a7091154622ad52887761329f86",
              "IPY_MODEL_3bac1e23fd904b5596aee958438974e7"
            ]
          }
        },
        "e86f6a4493a14582a8bc9de7c46b6270": {
          "model_module": "@jupyter-widgets/base",
          "model_name": "LayoutModel",
          "model_module_version": "1.2.0",
          "state": {
            "_view_name": "LayoutView",
            "grid_template_rows": null,
            "right": null,
            "justify_content": null,
            "_view_module": "@jupyter-widgets/base",
            "overflow": null,
            "_model_module_version": "1.2.0",
            "_view_count": null,
            "flex_flow": null,
            "width": null,
            "min_width": null,
            "border": null,
            "align_items": null,
            "bottom": null,
            "_model_module": "@jupyter-widgets/base",
            "top": null,
            "grid_column": null,
            "overflow_y": null,
            "overflow_x": null,
            "grid_auto_flow": null,
            "grid_area": null,
            "grid_template_columns": null,
            "flex": null,
            "_model_name": "LayoutModel",
            "justify_items": null,
            "grid_row": null,
            "max_height": null,
            "align_content": null,
            "visibility": null,
            "align_self": null,
            "height": null,
            "min_height": null,
            "padding": null,
            "grid_auto_rows": null,
            "grid_gap": null,
            "max_width": null,
            "order": null,
            "_view_module_version": "1.2.0",
            "grid_template_areas": null,
            "object_position": null,
            "object_fit": null,
            "grid_auto_columns": null,
            "margin": null,
            "display": null,
            "left": null
          }
        },
        "10cba61d4d0f46bab9288ead5e59f32a": {
          "model_module": "@jupyter-widgets/controls",
          "model_name": "IntSliderModel",
          "model_module_version": "1.5.0",
          "state": {
            "_view_name": "IntSliderView",
            "style": "IPY_MODEL_a13383f4095d4f1b826ca894b62572b1",
            "_dom_classes": [],
            "description": "giocate",
            "step": 1,
            "_model_name": "IntSliderModel",
            "orientation": "horizontal",
            "max": 10,
            "_view_module": "@jupyter-widgets/controls",
            "_model_module_version": "1.5.0",
            "value": 3,
            "_view_count": null,
            "disabled": false,
            "_view_module_version": "1.5.0",
            "min": 1,
            "continuous_update": true,
            "readout_format": "d",
            "description_tooltip": null,
            "readout": true,
            "_model_module": "@jupyter-widgets/controls",
            "layout": "IPY_MODEL_a82140ebec4449baaeebcbfc192747a0"
          }
        },
        "9b42f63de11341fd924ae326fb07a15e": {
          "model_module": "@jupyter-widgets/controls",
          "model_name": "IntSliderModel",
          "model_module_version": "1.5.0",
          "state": {
            "_view_name": "IntSliderView",
            "style": "IPY_MODEL_aba0f14bfc8f4a588b2ad737b7ac50c0",
            "_dom_classes": [],
            "description": "puntata",
            "step": 5,
            "_model_name": "IntSliderModel",
            "orientation": "horizontal",
            "max": 100,
            "_view_module": "@jupyter-widgets/controls",
            "_model_module_version": "1.5.0",
            "value": 10,
            "_view_count": null,
            "disabled": false,
            "_view_module_version": "1.5.0",
            "min": 5,
            "continuous_update": true,
            "readout_format": "d",
            "description_tooltip": null,
            "readout": true,
            "_model_module": "@jupyter-widgets/controls",
            "layout": "IPY_MODEL_378cab46431f4c7489428df10886baf5"
          }
        },
        "839f1a7091154622ad52887761329f86": {
          "model_module": "@jupyter-widgets/controls",
          "model_name": "ButtonModel",
          "model_module_version": "1.5.0",
          "state": {
            "_view_name": "ButtonView",
            "style": "IPY_MODEL_2e29ba5d74a54bd3b317636f93aace8a",
            "_dom_classes": [],
            "description": "Run Interact",
            "_model_name": "ButtonModel",
            "button_style": "",
            "_view_module": "@jupyter-widgets/controls",
            "_model_module_version": "1.5.0",
            "tooltip": "",
            "_view_count": null,
            "disabled": false,
            "_view_module_version": "1.5.0",
            "layout": "IPY_MODEL_7e2c810d4d854639a41660092f7c205c",
            "_model_module": "@jupyter-widgets/controls",
            "icon": ""
          }
        },
        "3bac1e23fd904b5596aee958438974e7": {
          "model_module": "@jupyter-widgets/output",
          "model_name": "OutputModel",
          "model_module_version": "1.0.0",
          "state": {
            "_view_name": "OutputView",
            "msg_id": "",
            "_dom_classes": [],
            "_model_name": "OutputModel",
            "outputs": [],
            "_view_module": "@jupyter-widgets/output",
            "_model_module_version": "1.0.0",
            "_view_count": null,
            "_view_module_version": "1.0.0",
            "layout": "IPY_MODEL_5fb418a28e324d959fc028452445ee6d",
            "_model_module": "@jupyter-widgets/output"
          }
        },
        "a13383f4095d4f1b826ca894b62572b1": {
          "model_module": "@jupyter-widgets/controls",
          "model_name": "SliderStyleModel",
          "model_module_version": "1.5.0",
          "state": {
            "_view_name": "StyleView",
            "handle_color": null,
            "_model_name": "SliderStyleModel",
            "description_width": "",
            "_view_module": "@jupyter-widgets/base",
            "_model_module_version": "1.5.0",
            "_view_count": null,
            "_view_module_version": "1.2.0",
            "_model_module": "@jupyter-widgets/controls"
          }
        },
        "a82140ebec4449baaeebcbfc192747a0": {
          "model_module": "@jupyter-widgets/base",
          "model_name": "LayoutModel",
          "model_module_version": "1.2.0",
          "state": {
            "_view_name": "LayoutView",
            "grid_template_rows": null,
            "right": null,
            "justify_content": null,
            "_view_module": "@jupyter-widgets/base",
            "overflow": null,
            "_model_module_version": "1.2.0",
            "_view_count": null,
            "flex_flow": null,
            "width": null,
            "min_width": null,
            "border": null,
            "align_items": null,
            "bottom": null,
            "_model_module": "@jupyter-widgets/base",
            "top": null,
            "grid_column": null,
            "overflow_y": null,
            "overflow_x": null,
            "grid_auto_flow": null,
            "grid_area": null,
            "grid_template_columns": null,
            "flex": null,
            "_model_name": "LayoutModel",
            "justify_items": null,
            "grid_row": null,
            "max_height": null,
            "align_content": null,
            "visibility": null,
            "align_self": null,
            "height": null,
            "min_height": null,
            "padding": null,
            "grid_auto_rows": null,
            "grid_gap": null,
            "max_width": null,
            "order": null,
            "_view_module_version": "1.2.0",
            "grid_template_areas": null,
            "object_position": null,
            "object_fit": null,
            "grid_auto_columns": null,
            "margin": null,
            "display": null,
            "left": null
          }
        },
        "aba0f14bfc8f4a588b2ad737b7ac50c0": {
          "model_module": "@jupyter-widgets/controls",
          "model_name": "SliderStyleModel",
          "model_module_version": "1.5.0",
          "state": {
            "_view_name": "StyleView",
            "handle_color": null,
            "_model_name": "SliderStyleModel",
            "description_width": "",
            "_view_module": "@jupyter-widgets/base",
            "_model_module_version": "1.5.0",
            "_view_count": null,
            "_view_module_version": "1.2.0",
            "_model_module": "@jupyter-widgets/controls"
          }
        },
        "378cab46431f4c7489428df10886baf5": {
          "model_module": "@jupyter-widgets/base",
          "model_name": "LayoutModel",
          "model_module_version": "1.2.0",
          "state": {
            "_view_name": "LayoutView",
            "grid_template_rows": null,
            "right": null,
            "justify_content": null,
            "_view_module": "@jupyter-widgets/base",
            "overflow": null,
            "_model_module_version": "1.2.0",
            "_view_count": null,
            "flex_flow": null,
            "width": null,
            "min_width": null,
            "border": null,
            "align_items": null,
            "bottom": null,
            "_model_module": "@jupyter-widgets/base",
            "top": null,
            "grid_column": null,
            "overflow_y": null,
            "overflow_x": null,
            "grid_auto_flow": null,
            "grid_area": null,
            "grid_template_columns": null,
            "flex": null,
            "_model_name": "LayoutModel",
            "justify_items": null,
            "grid_row": null,
            "max_height": null,
            "align_content": null,
            "visibility": null,
            "align_self": null,
            "height": null,
            "min_height": null,
            "padding": null,
            "grid_auto_rows": null,
            "grid_gap": null,
            "max_width": null,
            "order": null,
            "_view_module_version": "1.2.0",
            "grid_template_areas": null,
            "object_position": null,
            "object_fit": null,
            "grid_auto_columns": null,
            "margin": null,
            "display": null,
            "left": null
          }
        },
        "2e29ba5d74a54bd3b317636f93aace8a": {
          "model_module": "@jupyter-widgets/controls",
          "model_name": "ButtonStyleModel",
          "model_module_version": "1.5.0",
          "state": {
            "_view_name": "StyleView",
            "_model_name": "ButtonStyleModel",
            "_view_module": "@jupyter-widgets/base",
            "_model_module_version": "1.5.0",
            "_view_count": null,
            "button_color": null,
            "font_weight": "",
            "_view_module_version": "1.2.0",
            "_model_module": "@jupyter-widgets/controls"
          }
        },
        "7e2c810d4d854639a41660092f7c205c": {
          "model_module": "@jupyter-widgets/base",
          "model_name": "LayoutModel",
          "model_module_version": "1.2.0",
          "state": {
            "_view_name": "LayoutView",
            "grid_template_rows": null,
            "right": null,
            "justify_content": null,
            "_view_module": "@jupyter-widgets/base",
            "overflow": null,
            "_model_module_version": "1.2.0",
            "_view_count": null,
            "flex_flow": null,
            "width": null,
            "min_width": null,
            "border": null,
            "align_items": null,
            "bottom": null,
            "_model_module": "@jupyter-widgets/base",
            "top": null,
            "grid_column": null,
            "overflow_y": null,
            "overflow_x": null,
            "grid_auto_flow": null,
            "grid_area": null,
            "grid_template_columns": null,
            "flex": null,
            "_model_name": "LayoutModel",
            "justify_items": null,
            "grid_row": null,
            "max_height": null,
            "align_content": null,
            "visibility": null,
            "align_self": null,
            "height": null,
            "min_height": null,
            "padding": null,
            "grid_auto_rows": null,
            "grid_gap": null,
            "max_width": null,
            "order": null,
            "_view_module_version": "1.2.0",
            "grid_template_areas": null,
            "object_position": null,
            "object_fit": null,
            "grid_auto_columns": null,
            "margin": null,
            "display": null,
            "left": null
          }
        },
        "5fb418a28e324d959fc028452445ee6d": {
          "model_module": "@jupyter-widgets/base",
          "model_name": "LayoutModel",
          "model_module_version": "1.2.0",
          "state": {
            "_view_name": "LayoutView",
            "grid_template_rows": null,
            "right": null,
            "justify_content": null,
            "_view_module": "@jupyter-widgets/base",
            "overflow": null,
            "_model_module_version": "1.2.0",
            "_view_count": null,
            "flex_flow": null,
            "width": null,
            "min_width": null,
            "border": null,
            "align_items": null,
            "bottom": null,
            "_model_module": "@jupyter-widgets/base",
            "top": null,
            "grid_column": null,
            "overflow_y": null,
            "overflow_x": null,
            "grid_auto_flow": null,
            "grid_area": null,
            "grid_template_columns": null,
            "flex": null,
            "_model_name": "LayoutModel",
            "justify_items": null,
            "grid_row": null,
            "max_height": null,
            "align_content": null,
            "visibility": null,
            "align_self": null,
            "height": null,
            "min_height": null,
            "padding": null,
            "grid_auto_rows": null,
            "grid_gap": null,
            "max_width": null,
            "order": null,
            "_view_module_version": "1.2.0",
            "grid_template_areas": null,
            "object_position": null,
            "object_fit": null,
            "grid_auto_columns": null,
            "margin": null,
            "display": null,
            "left": null
          }
        },
        "390f0af648374205b509b1ad66b3cefa": {
          "model_module": "@jupyter-widgets/controls",
          "model_name": "VBoxModel",
          "model_module_version": "1.5.0",
          "state": {
            "_view_name": "VBoxView",
            "_dom_classes": [
              "widget-interact"
            ],
            "_model_name": "VBoxModel",
            "_view_module": "@jupyter-widgets/controls",
            "_model_module_version": "1.5.0",
            "_view_count": null,
            "_view_module_version": "1.5.0",
            "box_style": "",
            "layout": "IPY_MODEL_47e6e88cb61244cb85e05c8f34c78432",
            "_model_module": "@jupyter-widgets/controls",
            "children": [
              "IPY_MODEL_5fb60f616fb24243bc915f9410caf794",
              "IPY_MODEL_ab41a3c1eb774bdaa4f84cbf052d53b9",
              "IPY_MODEL_c637e2ad8aca48f0aac5b56f35db1870"
            ]
          }
        },
        "47e6e88cb61244cb85e05c8f34c78432": {
          "model_module": "@jupyter-widgets/base",
          "model_name": "LayoutModel",
          "model_module_version": "1.2.0",
          "state": {
            "_view_name": "LayoutView",
            "grid_template_rows": null,
            "right": null,
            "justify_content": null,
            "_view_module": "@jupyter-widgets/base",
            "overflow": null,
            "_model_module_version": "1.2.0",
            "_view_count": null,
            "flex_flow": null,
            "width": null,
            "min_width": null,
            "border": null,
            "align_items": null,
            "bottom": null,
            "_model_module": "@jupyter-widgets/base",
            "top": null,
            "grid_column": null,
            "overflow_y": null,
            "overflow_x": null,
            "grid_auto_flow": null,
            "grid_area": null,
            "grid_template_columns": null,
            "flex": null,
            "_model_name": "LayoutModel",
            "justify_items": null,
            "grid_row": null,
            "max_height": null,
            "align_content": null,
            "visibility": null,
            "align_self": null,
            "height": null,
            "min_height": null,
            "padding": null,
            "grid_auto_rows": null,
            "grid_gap": null,
            "max_width": null,
            "order": null,
            "_view_module_version": "1.2.0",
            "grid_template_areas": null,
            "object_position": null,
            "object_fit": null,
            "grid_auto_columns": null,
            "margin": null,
            "display": null,
            "left": null
          }
        },
        "5fb60f616fb24243bc915f9410caf794": {
          "model_module": "@jupyter-widgets/controls",
          "model_name": "IntSliderModel",
          "model_module_version": "1.5.0",
          "state": {
            "_view_name": "IntSliderView",
            "style": "IPY_MODEL_cef8d002677543aab92229aa0fc503d9",
            "_dom_classes": [],
            "description": "malati",
            "step": 1,
            "_model_name": "IntSliderModel",
            "orientation": "horizontal",
            "max": 10,
            "_view_module": "@jupyter-widgets/controls",
            "_model_module_version": "1.5.0",
            "value": 5,
            "_view_count": null,
            "disabled": false,
            "_view_module_version": "1.5.0",
            "min": 1,
            "continuous_update": true,
            "readout_format": "d",
            "description_tooltip": null,
            "readout": true,
            "_model_module": "@jupyter-widgets/controls",
            "layout": "IPY_MODEL_9ebe5549e1284a19a0d5834c3372dd3d"
          }
        },
        "ab41a3c1eb774bdaa4f84cbf052d53b9": {
          "model_module": "@jupyter-widgets/controls",
          "model_name": "ButtonModel",
          "model_module_version": "1.5.0",
          "state": {
            "_view_name": "ButtonView",
            "style": "IPY_MODEL_13ac3354e8b646e9959c9b71cd27d246",
            "_dom_classes": [],
            "description": "Run Interact",
            "_model_name": "ButtonModel",
            "button_style": "",
            "_view_module": "@jupyter-widgets/controls",
            "_model_module_version": "1.5.0",
            "tooltip": "",
            "_view_count": null,
            "disabled": false,
            "_view_module_version": "1.5.0",
            "layout": "IPY_MODEL_184f1292089c49799a617c0e81d366e6",
            "_model_module": "@jupyter-widgets/controls",
            "icon": ""
          }
        },
        "c637e2ad8aca48f0aac5b56f35db1870": {
          "model_module": "@jupyter-widgets/output",
          "model_name": "OutputModel",
          "model_module_version": "1.0.0",
          "state": {
            "_view_name": "OutputView",
            "msg_id": "",
            "_dom_classes": [],
            "_model_name": "OutputModel",
            "outputs": [
              {
                "output_type": "display_data",
                "data": {
                  "text/plain": "0.336"
                },
                "metadata": {}
              }
            ],
            "_view_module": "@jupyter-widgets/output",
            "_model_module_version": "1.0.0",
            "_view_count": null,
            "_view_module_version": "1.0.0",
            "layout": "IPY_MODEL_8d5dc530690b4dd192ee08592d04adcb",
            "_model_module": "@jupyter-widgets/output"
          }
        },
        "cef8d002677543aab92229aa0fc503d9": {
          "model_module": "@jupyter-widgets/controls",
          "model_name": "SliderStyleModel",
          "model_module_version": "1.5.0",
          "state": {
            "_view_name": "StyleView",
            "handle_color": null,
            "_model_name": "SliderStyleModel",
            "description_width": "",
            "_view_module": "@jupyter-widgets/base",
            "_model_module_version": "1.5.0",
            "_view_count": null,
            "_view_module_version": "1.2.0",
            "_model_module": "@jupyter-widgets/controls"
          }
        },
        "9ebe5549e1284a19a0d5834c3372dd3d": {
          "model_module": "@jupyter-widgets/base",
          "model_name": "LayoutModel",
          "model_module_version": "1.2.0",
          "state": {
            "_view_name": "LayoutView",
            "grid_template_rows": null,
            "right": null,
            "justify_content": null,
            "_view_module": "@jupyter-widgets/base",
            "overflow": null,
            "_model_module_version": "1.2.0",
            "_view_count": null,
            "flex_flow": null,
            "width": null,
            "min_width": null,
            "border": null,
            "align_items": null,
            "bottom": null,
            "_model_module": "@jupyter-widgets/base",
            "top": null,
            "grid_column": null,
            "overflow_y": null,
            "overflow_x": null,
            "grid_auto_flow": null,
            "grid_area": null,
            "grid_template_columns": null,
            "flex": null,
            "_model_name": "LayoutModel",
            "justify_items": null,
            "grid_row": null,
            "max_height": null,
            "align_content": null,
            "visibility": null,
            "align_self": null,
            "height": null,
            "min_height": null,
            "padding": null,
            "grid_auto_rows": null,
            "grid_gap": null,
            "max_width": null,
            "order": null,
            "_view_module_version": "1.2.0",
            "grid_template_areas": null,
            "object_position": null,
            "object_fit": null,
            "grid_auto_columns": null,
            "margin": null,
            "display": null,
            "left": null
          }
        },
        "13ac3354e8b646e9959c9b71cd27d246": {
          "model_module": "@jupyter-widgets/controls",
          "model_name": "ButtonStyleModel",
          "model_module_version": "1.5.0",
          "state": {
            "_view_name": "StyleView",
            "_model_name": "ButtonStyleModel",
            "_view_module": "@jupyter-widgets/base",
            "_model_module_version": "1.5.0",
            "_view_count": null,
            "button_color": null,
            "font_weight": "",
            "_view_module_version": "1.2.0",
            "_model_module": "@jupyter-widgets/controls"
          }
        },
        "184f1292089c49799a617c0e81d366e6": {
          "model_module": "@jupyter-widgets/base",
          "model_name": "LayoutModel",
          "model_module_version": "1.2.0",
          "state": {
            "_view_name": "LayoutView",
            "grid_template_rows": null,
            "right": null,
            "justify_content": null,
            "_view_module": "@jupyter-widgets/base",
            "overflow": null,
            "_model_module_version": "1.2.0",
            "_view_count": null,
            "flex_flow": null,
            "width": null,
            "min_width": null,
            "border": null,
            "align_items": null,
            "bottom": null,
            "_model_module": "@jupyter-widgets/base",
            "top": null,
            "grid_column": null,
            "overflow_y": null,
            "overflow_x": null,
            "grid_auto_flow": null,
            "grid_area": null,
            "grid_template_columns": null,
            "flex": null,
            "_model_name": "LayoutModel",
            "justify_items": null,
            "grid_row": null,
            "max_height": null,
            "align_content": null,
            "visibility": null,
            "align_self": null,
            "height": null,
            "min_height": null,
            "padding": null,
            "grid_auto_rows": null,
            "grid_gap": null,
            "max_width": null,
            "order": null,
            "_view_module_version": "1.2.0",
            "grid_template_areas": null,
            "object_position": null,
            "object_fit": null,
            "grid_auto_columns": null,
            "margin": null,
            "display": null,
            "left": null
          }
        },
        "8d5dc530690b4dd192ee08592d04adcb": {
          "model_module": "@jupyter-widgets/base",
          "model_name": "LayoutModel",
          "model_module_version": "1.2.0",
          "state": {
            "_view_name": "LayoutView",
            "grid_template_rows": null,
            "right": null,
            "justify_content": null,
            "_view_module": "@jupyter-widgets/base",
            "overflow": null,
            "_model_module_version": "1.2.0",
            "_view_count": null,
            "flex_flow": null,
            "width": null,
            "min_width": null,
            "border": null,
            "align_items": null,
            "bottom": null,
            "_model_module": "@jupyter-widgets/base",
            "top": null,
            "grid_column": null,
            "overflow_y": null,
            "overflow_x": null,
            "grid_auto_flow": null,
            "grid_area": null,
            "grid_template_columns": null,
            "flex": null,
            "_model_name": "LayoutModel",
            "justify_items": null,
            "grid_row": null,
            "max_height": null,
            "align_content": null,
            "visibility": null,
            "align_self": null,
            "height": null,
            "min_height": null,
            "padding": null,
            "grid_auto_rows": null,
            "grid_gap": null,
            "max_width": null,
            "order": null,
            "_view_module_version": "1.2.0",
            "grid_template_areas": null,
            "object_position": null,
            "object_fit": null,
            "grid_auto_columns": null,
            "margin": null,
            "display": null,
            "left": null
          }
        }
      }
    }
  },
  "cells": [
    {
      "cell_type": "markdown",
      "metadata": {
        "id": "view-in-github",
        "colab_type": "text"
      },
      "source": [
        "<a href=\"https://colab.research.google.com/github/MontiMic/Tesi/blob/riordinato/Untitled1.ipynb\" target=\"_parent\"><img src=\"https://colab.research.google.com/assets/colab-badge.svg\" alt=\"Open In Colab\"/></a>"
      ]
    },
    {
      "cell_type": "markdown",
      "source": [
        "# Introduzione\n",
        "La seguente presentazione si propone di semplificare l'apprendimento di alcuni principi del calcolo probabilistico offrendo la possibilità di vedere applicare le leggi su grandi numeri e confrontando i risultati ottenuti con quelli attesi dalla teoria."
      ],
      "metadata": {
        "id": "yyLelI9l5lbc"
      }
    },
    {
      "cell_type": "markdown",
      "source": [
        "Di seguito includiamo le librerie che verranno utilizzate nel corso della presentazione:\n",
        "\n",
        "* **numpy** per la manipolazione dei dati\n",
        "\n",
        "* **interact** per rendere la presentazione interattiva offrendo la possibilità allo studente di scegliere gli input\n",
        "\n",
        "* **pyplot** per la rappresentazione grafica dei risultati"
      ],
      "metadata": {
        "id": "35yCw13F7Yam"
      }
    },
    {
      "cell_type": "code",
      "execution_count": 3,
      "metadata": {
        "id": "TAxUPZupC-qR"
      },
      "outputs": [],
      "source": [
        "import numpy as np\n",
        "from ipywidgets import interact, interact_manual\n",
        "from matplotlib import pyplot as plt"
      ]
    },
    {
      "cell_type": "markdown",
      "source": [
        "##Elementi di python"
      ],
      "metadata": {
        "id": "XN5Whz1Y9fiZ"
      }
    },
    {
      "cell_type": "markdown",
      "source": [
        "Questa sezione è rivolta unicamente a chi non avesse ancora mai visto il python, allo scopo di mostrare alcune pratiche peculiari a Python."
      ],
      "metadata": {
        "id": "yHNFMDrk9pHX"
      }
    },
    {
      "cell_type": "markdown",
      "source": [
        "La funzione np.zeros(n) restituisce un array di zeri lungo n"
      ],
      "metadata": {
        "id": "kXZd8nfHDkHj"
      }
    },
    {
      "cell_type": "code",
      "source": [
        "np.zeros(5)"
      ],
      "metadata": {
        "colab": {
          "base_uri": "https://localhost:8080/"
        },
        "id": "Pukdrzg7-ggY",
        "outputId": "651d93f6-1ffb-4680-937b-ca30c6386c3e"
      },
      "execution_count": 14,
      "outputs": [
        {
          "output_type": "execute_result",
          "data": {
            "text/plain": [
              "array([0., 0., 0., 0., 0.])"
            ]
          },
          "metadata": {},
          "execution_count": 14
        }
      ]
    },
    {
      "cell_type": "markdown",
      "source": [
        "Specificando anche il type booleano facciamo una conversione: \n",
        "\n",
        "*  Gli zeri diventano False\n",
        "\n",
        "* I valori diversi da zero diventano True"
      ],
      "metadata": {
        "id": "VyLCyWeYDvuh"
      }
    },
    {
      "cell_type": "code",
      "source": [
        "esempio = np.zeros(10, dtype=np.bool)\n",
        "print(esempio)"
      ],
      "metadata": {
        "colab": {
          "base_uri": "https://localhost:8080/"
        },
        "id": "lO-15LDEDZEP",
        "outputId": "7b139dbf-4dfc-4a03-eb4a-3bfb85ce9f17"
      },
      "execution_count": 15,
      "outputs": [
        {
          "output_type": "stream",
          "name": "stdout",
          "text": [
            "[False False False False False False False False False False]\n"
          ]
        }
      ]
    },
    {
      "cell_type": "markdown",
      "source": [
        "Useremo questo tipo di struttura dati per simulare praticamente tutto, dalla roulette (True = rosso, False = nero) ad un urna di palline (quando ci basteranno 2 soli colori delle palline)"
      ],
      "metadata": {
        "id": "t-fqP7KSEIUu"
      }
    },
    {
      "cell_type": "markdown",
      "source": [
        "Questa struttura dati ci offre inol"
      ],
      "metadata": {
        "id": "YS53XnBHNuxD"
      }
    },
    {
      "cell_type": "markdown",
      "source": [
        "Per modificare un array il python ci offre uno strumento molto potente: lo slicing. Questa funzionalità permette di intervenire su un qualunque sottoinsieme dell'array se usata correttamente. A noi basta sapere che in un caso come esempio[1:5:2], stiamo intervenendo sull'array esempio, prendendo gli elementi dalla posizione 1 (inclusa) alla posizione 5 (esclusa) con passo 2:"
      ],
      "metadata": {
        "id": "OEyj-K9iEeQa"
      }
    },
    {
      "cell_type": "code",
      "source": [
        "esempio = ['a', 'b', 'c', 'd', 'e']\n",
        "esempio[1:5:2]"
      ],
      "metadata": {
        "colab": {
          "base_uri": "https://localhost:8080/"
        },
        "id": "48oF9noGF3Np",
        "outputId": "ec13288c-906c-471c-8939-20c590d6f278"
      },
      "execution_count": 16,
      "outputs": [
        {
          "output_type": "execute_result",
          "data": {
            "text/plain": [
              "['b', 'd']"
            ]
          },
          "metadata": {},
          "execution_count": 16
        }
      ]
    },
    {
      "cell_type": "markdown",
      "source": [
        "Non specificare il primo parametro significa partire dall'elemento 0, omettere il secondo significa procedere fino all'ultimo (compreso) e non specificare il passo significa passo 1: non saltare nessun elemento."
      ],
      "metadata": {
        "id": "Rm-4oAaOGvIL"
      }
    },
    {
      "cell_type": "markdown",
      "source": [
        "La funzione range(n) restituisce un iterabile lungo n. In python è generalmente usata nel ciclo for."
      ],
      "metadata": {
        "id": "b6PzabLwIH1d"
      }
    },
    {
      "cell_type": "code",
      "source": [
        "for i in range(5):\n",
        "  print(i)"
      ],
      "metadata": {
        "colab": {
          "base_uri": "https://localhost:8080/"
        },
        "id": "fdFx5oZPIaf5",
        "outputId": "dba38d7b-ec38-4306-cdc4-9d5a7e9553ff"
      },
      "execution_count": 17,
      "outputs": [
        {
          "output_type": "stream",
          "name": "stdout",
          "text": [
            "0\n",
            "1\n",
            "2\n",
            "3\n",
            "4\n"
          ]
        }
      ]
    },
    {
      "cell_type": "markdown",
      "source": [
        "##Funzioni utili"
      ],
      "metadata": {
        "id": "UdZaaBfKzjzX"
      }
    },
    {
      "cell_type": "markdown",
      "source": [
        "Quelle che seguono sono funzioni utilizzate in più test del documento, per il corretto funzionamento dei test successivi è necessario eseguire queste celle una volta."
      ],
      "metadata": {
        "id": "iZFqSjhypj_Y"
      }
    },
    {
      "cell_type": "code",
      "source": [
        "#funzione che genera una roulette simulata da un array lungo 37 di cui 18 valori contano come \"vittoria\"\n",
        "def mk_roulette():\n",
        "  ruota = np.zeros(37, dtype=np.bool)\n",
        "  ruota[1::2] = True\n",
        "  return ruota"
      ],
      "metadata": {
        "id": "4LJOZHxd810N"
      },
      "execution_count": 18,
      "outputs": []
    },
    {
      "cell_type": "code",
      "source": [
        "#funzione che simula una singola partita alla roulette (1 o più puntate uguali) e, dato il portafogli di partenza, torno il nuovo conto\n",
        "def partita(ruota, giocate, puntata, portafogli):\n",
        "  while(giocate > 0):\n",
        "      giocate = giocate - 1\n",
        "      portafogli = portafogli - puntata #la puntata la considero sempre persa, in caso di vittoria vinco il doppio della puntata\n",
        "      if(ruota[np.random.randint(0, (37))]): #estraggo un elemento casuale della roulette e verifico se è rosso\n",
        "        portafogli = portafogli + (puntata * 2)\n",
        "  return portafogli  "
      ],
      "metadata": {
        "id": "fqGFfq_CT7Tv"
      },
      "execution_count": 19,
      "outputs": []
    },
    {
      "cell_type": "code",
      "source": [
        "#funzione che simula un dado ritornando un intero compreso tra 1 e 6\n",
        "def trow():\n",
        "  return np.random.randint(1, 7)"
      ],
      "metadata": {
        "id": "O7NiHEewS99d"
      },
      "execution_count": 20,
      "outputs": []
    },
    {
      "cell_type": "code",
      "source": [
        "#funzione che ritorna un'urna contenente palline di 2 colori in quanità scelta\n",
        "def mk_urna(bianche, rosse):\n",
        "  tot = bianche + rosse\n",
        "  urna = np.zeros((tot, 1), dtype=np.bool)\n",
        "  while(rosse > 0):\n",
        "    rnd = np.random.randint(0, (tot))\n",
        "    if (not urna[rnd]):\n",
        "      urna[rnd] = True\n",
        "      rosse = rosse - 1\n",
        "  return urna"
      ],
      "metadata": {
        "id": "R06bqIr8Ii4G"
      },
      "execution_count": 21,
      "outputs": []
    },
    {
      "cell_type": "markdown",
      "source": [
        "##Interpretazione dei risultati"
      ],
      "metadata": {
        "id": "EbFr-wXap_mS"
      }
    },
    {
      "cell_type": "markdown",
      "source": [
        "I test di questo documento hanno lo scopo di mostrare che le formule viste con la teoria del calcolo probabilistico hanno un riscontro nella realtà. \n",
        "Ogni test simulerà per un numero di volte a discrezione dello studente, lo scenario descritto dall'esempio in esame. Si noti che un numero più alto di ripetizioni porterà a risultati più precisi."
      ],
      "metadata": {
        "id": "Mp5-2IqZqDex"
      }
    },
    {
      "cell_type": "code",
      "source": [
        "def moneta(lanci):\n",
        "  results = []\n",
        "  for i in range(lanci): #lanciamo la moneta tante volte quante indicate dal parametro \"lanci\"\n",
        "    results.append(np.random.randint(2))\n",
        "  #grafico\n",
        "  labels = []\n",
        "  normalized = []\n",
        "  normalized.append(round(((results.count(0) / lanci) * 100), 2)) #conto le istanze dei risultati e le normalizzo\n",
        "  normalized.append(round(100 - sum(normalized), 2)) #per evitare che per errori di arrotondamento la somma dei risultati sia 99.9%, l'ultimo risultato lo calcolo come 100 - (la somma dei precedenti)\n",
        "  for i in range(len(normalized)):\n",
        "    labels.append(str(normalized[i]) + \"%\") # aggiungo le labels (i valori riportati all'esterno del grafico)\n",
        "  plt.pie(normalized, labels=labels)\n",
        "  legenda = [\"Testa\", \"Croce\"]\n",
        "  plt.legend(legenda,loc='upper center', bbox_to_anchor=(0.5, -0.05), fancybox=True, shadow=True, ncol=5)"
      ],
      "metadata": {
        "id": "pZxUQQ-_rGuz"
      },
      "execution_count": 22,
      "outputs": []
    },
    {
      "cell_type": "code",
      "source": [
        "moneta(100)"
      ],
      "metadata": {
        "id": "7rynuIn1ubs4",
        "outputId": "1a22fcbe-b903-4422-b3a4-4eb528022c5f",
        "colab": {
          "base_uri": "https://localhost:8080/",
          "height": 282
        }
      },
      "execution_count": 23,
      "outputs": [
        {
          "output_type": "display_data",
          "data": {
            "image/png": "[encoded data removed]",
            "text/plain": [
              "<Figure size 432x288 with 1 Axes>"
            ]
          },
          "metadata": {}
        }
      ]
    },
    {
      "cell_type": "code",
      "source": [
        "moneta(10_000)"
      ],
      "metadata": {
        "id": "E6dWQdxUud7o",
        "outputId": "3a65077e-114f-4d22-87d1-208eeb7708e4",
        "colab": {
          "base_uri": "https://localhost:8080/",
          "height": 282
        }
      },
      "execution_count": 24,
      "outputs": [
        {
          "output_type": "display_data",
          "data": {
            "image/png": "[encoded data removed]",
            "text/plain": [
              "<Figure size 432x288 with 1 Axes>"
            ]
          },
          "metadata": {}
        }
      ]
    },
    {
      "cell_type": "code",
      "source": [
        "moneta(1_000_000)"
      ],
      "metadata": {
        "id": "uNmo8_dXugoY",
        "outputId": "7ef4ea9d-30e4-49bd-80e2-ab729e23f0f0",
        "colab": {
          "base_uri": "https://localhost:8080/",
          "height": 282
        }
      },
      "execution_count": 25,
      "outputs": [
        {
          "output_type": "display_data",
          "data": {
            "image/png": "[encoded data removed]",
            "text/plain": [
              "<Figure size 432x288 with 1 Axes>"
            ]
          },
          "metadata": {}
        }
      ]
    },
    {
      "cell_type": "markdown",
      "source": [
        "Per un buon equilibrio tra accuratezza dei risultati e tempo di esecuzione impostiamo il numero di ripetizioni a 100 000 con la variabile \"precisione\"."
      ],
      "metadata": {
        "id": "0_jUagMkw72N"
      }
    },
    {
      "cell_type": "code",
      "source": [
        "precisione = 100_000"
      ],
      "metadata": {
        "id": "7YqOeAMoxunS"
      },
      "execution_count": 26,
      "outputs": []
    },
    {
      "cell_type": "markdown",
      "source": [
        "Si lascia allo studente la possibilità di incrementare questa variabile se desiderasse dei risultati più precisi."
      ],
      "metadata": {
        "id": "uH7_BXdBxvvq"
      }
    },
    {
      "cell_type": "markdown",
      "source": [
        "# Variabili aleatorie discrete"
      ],
      "metadata": {
        "id": "gQTrf-PK7FxE"
      }
    },
    {
      "cell_type": "markdown",
      "source": [
        "Una variabile aleatoria _X_ si dice discreta se i valori che assume sono finiti oppure numerabili.\n",
        "\n",
        "Nel caso siano numerabili molto spesso potremo pensare che siano semplicmente i numeri interi, ma non vogliamo escludere anche casi in cui abbiamo dei valori non interi."
      ],
      "metadata": {
        "id": "f7tQYrZgLgm2"
      }
    },
    {
      "cell_type": "markdown",
      "source": [
        "##Esempio 1.1 \n",
        "Faccio 3 puntate sul rosso alla roulette puntando 10 euro per volta, qual è la probabilità di vincere più di un certo valore _X_?\n",
        "\n",
        "(Le vincite possibili sono valori finiti ed è quindi una variabile discreta)"
      ],
      "metadata": {
        "id": "wO2wYqZ-DSZF"
      }
    },
    {
      "cell_type": "code",
      "source": [
        "@interact_manual(vincita=(0, 30))\n",
        "def roulette(vincita=5):\n",
        "  giocate = 3\n",
        "  puntata = 10\n",
        "  ruota = mk_roulette()\n",
        "  count = 0\n",
        "  for i in range(precisione):\n",
        "    portafogli = giocate * puntata\n",
        "    portafogli = partita(ruota, giocate, puntata, portafogli) #il portafogli viene aggiornato dopo aver simulato una partita\n",
        "    if((portafogli - 30) >= vincita): #se ho finito le 3 puntate con una vincita maggiore o uguale a quella sperata la aggiungo al conteggio\n",
        "      count = count + 1\n",
        "  return round(count / precisione, 3)"
      ],
      "metadata": {
        "colab": {
          "base_uri": "https://localhost:8080/",
          "height": 98,
          "referenced_widgets": [
            "42082da4b8d043f5a5cbe8d50b92eaa3",
            "0665fa590a55415687421f02c8fb6533",
            "489158cbd62345dbb089a00de3aec1ff",
            "263e3e01b2ee40e4aeea51318a83034d",
            "50b0fa9cc2d34828bcfa7ac5d6281425",
            "f6a1faae0018409d8bc492e9cae857df",
            "ac0a1d4a49e5489eabd2420bb501b8e4",
            "a76bf21201554a2b9dccef7739ca144d",
            "c6117759f35c4164a44821b14c7e8307",
            "0aad381efe5e45349d3006626a510dd7"
          ]
        },
        "id": "w2ugmhMy_cfa",
        "outputId": "2b834a2d-951f-41ba-8deb-3726fe3cc4a4"
      },
      "execution_count": 27,
      "outputs": [
        {
          "output_type": "display_data",
          "data": {
            "application/vnd.jupyter.widget-view+json": {
              "model_id": "42082da4b8d043f5a5cbe8d50b92eaa3",
              "version_minor": 0,
              "version_major": 2
            },
            "text/plain": [
              "interactive(children=(IntSlider(value=5, description='vincita', max=30), Button(description='Run Interact', st…"
            ]
          },
          "metadata": {}
        }
      ]
    },
    {
      "cell_type": "markdown",
      "source": [
        "##Esempio 1.2\n",
        "Dati il numero di puntate ed i soldi scommessi ogni volta, quanto mi dovrei aspettare di aver vinto alla fine? (risultato in euro)"
      ],
      "metadata": {
        "id": "tTOcRD2kD_zf"
      }
    },
    {
      "cell_type": "code",
      "source": [
        "@interact_manual(giocate=(1, 10), puntata=(5, 100, 5))\n",
        "def roulette(giocate = 3, puntata = 10):\n",
        "  portafogli = giocate * puntata * precisione\n",
        "  ruota = mk_roulette()\n",
        "  for i in range(precisione):\n",
        "    portafogli = partita(ruota, giocate, puntata, portafogli)\n",
        "  portafogli = portafogli / precisione\n",
        "  return round(portafogli - (giocate * puntata), 2)"
      ],
      "metadata": {
        "colab": {
          "base_uri": "https://localhost:8080/",
          "height": 113,
          "referenced_widgets": [
            "89cc6a3211024f92aeb27c36f1d95a2c",
            "e86f6a4493a14582a8bc9de7c46b6270",
            "10cba61d4d0f46bab9288ead5e59f32a",
            "9b42f63de11341fd924ae326fb07a15e",
            "839f1a7091154622ad52887761329f86",
            "3bac1e23fd904b5596aee958438974e7",
            "a13383f4095d4f1b826ca894b62572b1",
            "a82140ebec4449baaeebcbfc192747a0",
            "aba0f14bfc8f4a588b2ad737b7ac50c0",
            "378cab46431f4c7489428df10886baf5",
            "2e29ba5d74a54bd3b317636f93aace8a",
            "7e2c810d4d854639a41660092f7c205c",
            "5fb418a28e324d959fc028452445ee6d"
          ]
        },
        "id": "TR8QkEnHD-B2",
        "outputId": "fb8fc404-0127-42dd-d141-08e4f794eee9"
      },
      "execution_count": 28,
      "outputs": [
        {
          "output_type": "display_data",
          "data": {
            "application/vnd.jupyter.widget-view+json": {
              "model_id": "89cc6a3211024f92aeb27c36f1d95a2c",
              "version_minor": 0,
              "version_major": 2
            },
            "text/plain": [
              "interactive(children=(IntSlider(value=3, description='giocate', max=10, min=1), IntSlider(value=10, descriptio…"
            ]
          },
          "metadata": {}
        }
      ]
    },
    {
      "cell_type": "markdown",
      "source": [
        "# Distribuzione uniforme e non uniforme"
      ],
      "metadata": {
        "id": "qBnKgfwaLT9x"
      }
    },
    {
      "cell_type": "markdown",
      "source": [
        "Sia _A_ = {_x1_, . . . , _xn_}; una variabile _X_ che assume i valori in _A_ tutti con la stessa probabilità $\\frac{1}{n}$\n",
        "si dice _variabile uniforme_ su _A_. Scriviamo in questo caso _X_ ∼ _U_(_A_) oppure _X_ ∼ _U_(_x1_, . . . , _xn_).\n",
        "La densità è quindi:\n",
        "\n",
        "\\begin{equation}\n",
        "  px(h) =\n",
        "    \\begin{cases}\n",
        "           \\frac{1}{n} \\ se \\  h  \\ ∈ \\ ({x1}, {x2}, ..., {xn})\n",
        "          \\\\\n",
        "          0 \\ altrimenti\n",
        "        \\end{cases}\n",
        "\\end{equation}"
      ],
      "metadata": {
        "id": "GUQzPwZ8NK0Q"
      }
    },
    {
      "cell_type": "markdown",
      "source": [
        "##Esempio 2.1 \n",
        "Nel lancio di un dado sia Ω = {1, 2, 3, 4, 5, 6} l’insieme dei possibili risultati.\n",
        "Allora la funzione _X_(_n_) = n per ogni n ∈ Ω è una variabile aleatoria uniforme _X_ ∼ _U_(1, 2, 3, 4, 5, 6).\n"
      ],
      "metadata": {
        "id": "HJrqw0EbXj2l"
      }
    },
    {
      "cell_type": "code",
      "source": [
        "def dice():\n",
        "  results = []\n",
        "  for i in range(precisione):\n",
        "    results.append(trow()) #aggiungo il risultato del tiro alla lista dei risultati\n",
        "  #grafico\n",
        "  elem_count = []\n",
        "  labels = []\n",
        "  for i in range(len(set(results))): #conto le istanze di ogni risultato ottenuto ed aggiungo i totali a elem_count, poi lo metto a grafico\n",
        "    elem_count.append(results.count(i+1))\n",
        "    labels.append(str(i+1))\n",
        "  plt.bar(labels, elem_count)\n",
        "dice()"
      ],
      "metadata": {
        "colab": {
          "base_uri": "https://localhost:8080/",
          "height": 264
        },
        "id": "pO1ExmtATCeI",
        "outputId": "6ed360e6-0961-4eb7-9e12-ab6f8a6cac93"
      },
      "execution_count": null,
      "outputs": [
        {
          "output_type": "display_data",
          "data": {
            "image/png": "[encoded data removed]",
            "text/plain": [
              "<Figure size 432x288 with 1 Axes>"
            ]
          },
          "metadata": {
            "needs_background": "light"
          }
        }
      ]
    },
    {
      "cell_type": "markdown",
      "source": [
        "##Esempio 2.2\n",
        "Se invece lanciassimo due dadi, la variabile _X_ che assume un valore corrispondente al numero di risultati pari ottenuti dal lancio sarebbe una _variabile non uniforme_ siccome la sua densità sarebbe:\n",
        "\n",
        "\\begin{equation}\n",
        "  py(h) =\n",
        "    \\begin{cases}\n",
        "          \\frac{1}{4} \\  h={0},{2}\n",
        "          \\\\\n",
        "          \\frac{1}{2} \\ h={1}\n",
        "          \\\\\n",
        "          0 \\ altrimenti\n",
        "        \\end{cases}\n",
        "\\end{equation}"
      ],
      "metadata": {
        "id": "BZUNA1OvaQp6"
      }
    },
    {
      "cell_type": "code",
      "source": [
        "def even_dices():\n",
        "  results = []\n",
        "  for i in range(precisione):\n",
        "    a, b = trow(), trow() #lancio due dadi, poi conterò quanti sono pari per aggiungere il risultato alla lista\n",
        "    results.append(2-((a % 2)+(b % 2))) #conto i dadi pari come due meno i dadi dispari (n%2 = 1 per n dispari, 0 altrimenti)\n",
        "  valori = []\n",
        "  normalized = []\n",
        "  for i in range(3): #conto le istanze dei risultati e le divido per il numero di risultati totale (normalizzo)\n",
        "    normalized.append(results.count(i) / len(results)) #len(results) torna la lunghezza della lista results\n",
        "    valori.append(\"k=\" + str(i))\n",
        "  plt.pie(normalized, labels=valori)\n",
        "even_dices()"
      ],
      "metadata": {
        "colab": {
          "base_uri": "https://localhost:8080/",
          "height": 247
        },
        "id": "Ly_UKZkxZr2J",
        "outputId": "235e9e91-18e1-4903-d33d-495a982a2f50"
      },
      "execution_count": null,
      "outputs": [
        {
          "output_type": "display_data",
          "data": {
            "image/png": "[encoded data removed]",
            "text/plain": [
              "<Figure size 432x288 with 1 Axes>"
            ]
          },
          "metadata": {}
        }
      ]
    },
    {
      "cell_type": "markdown",
      "source": [
        "#Densità binomiale"
      ],
      "metadata": {
        "id": "qimeQspadWgq"
      }
    },
    {
      "cell_type": "markdown",
      "source": [
        "Consideriamo un fenomeno aleatorio e un certo evento ad esso associato. Per semplicità diciamo che se l’evento si realizza otteniamo un “successo”, viceversa che abbiamo ottenuto un “insuccesso\".\n",
        "Uno schema successo-insuccesso consiste nel ripetere questo fenomeno un certo fissato numero di volte, dette anche prove o tentativi, in cui siamo interessati unicamente al numero di successi ottenuti\n",
        "nelle varie prove.\n",
        "Supponiamo ora che le prove siano indipendenti l’una dall’altra, cioè vengono effettuate tuttevnelle medesime condizioni, indipendentemente dal risultato delle prove precedenti: parliamo in questo caso di schema successo-insuccesso con ripetizione o a prove indipendenti. Consideriamo\n",
        "quindi la variabile X data dal numero di successi in n tentativi.\n",
        "Nel caso in cui le prove siano indipendenti l’una dall’altra, la probabilità di ottenere una certa prefissata sequenza di successi e insuccessi dipende solo dal numero di questi ultimi e non dall’ordine con cui vogliamo che si succedano. La probabilità di ottenere una sequenza fissata in cui abbiamo k successi e n − k insuccessi è data da\n",
        "$p^k(1-p)^{n-k}$, dove p è la probabilità che ogni singolo tentativo abbia successo. Siccome i modi in cui possiamo scegliere le k posizioni per i successi sono date da ${n\\choose k}$ otteniamo per la variabile X la densità data da\n",
        "\n",
        "\\begin{equation}\n",
        "  px(k) =\n",
        "    \\begin{cases}\n",
        "          {n\\choose k} p^k(1-p)^{n-k} \\ se \\ k=1,2,...,n\n",
        "          \\\\\n",
        "          0 \\ altrimenti\n",
        "        \\end{cases}\n",
        "\\end{equation}\n",
        "\n",
        "\n",
        "Scriveremo in questo caso _X_ ∼ _B_(_n_, _p_) e diciamo che _X_ è una variabile binomiale."
      ],
      "metadata": {
        "id": "OUh7jiOk7WSD"
      }
    },
    {
      "cell_type": "markdown",
      "source": [
        "##Esempio 3.1\n",
        "\n",
        "Supponiamo di andare al casinò con 15 Euro e puntiamo 3 volte 5 Euro alla roulette sul rosso. Consideriamo la variabile aleatoria X data dai soldi che abbiamo in tasca alla fine delle 3 puntate. La probabilità di ottenere un numero rosso è di $\\frac{18}{37}$ ad ogni tentativo.\n",
        "Determinare la densità di X.\n",
        "La variabile X può assumere i valori 30, 20, 10, 0 a seconda di quanti rossi sono usciti. Abbiamo:\n",
        "\n",
        "P(X = 30) = $(\\frac{18}{37})^3$ = 0,115\n",
        "\n",
        "P(X = 20) = ${3\\choose 1}(\\frac{18}{37})^2 · \\frac{19}{37}$= 0, 365\n",
        "\n",
        "P(X = 10) = ${3\\choose 2}(\\frac{18}{37}) · (\\frac{19}{37})^2$ = 0,385\n",
        "\n",
        "P(X = 0) = $(\\frac{19}{37})^3$ = 0,135\n"
      ],
      "metadata": {
        "id": "O8PjzahWhrRr"
      }
    },
    {
      "cell_type": "code",
      "source": [
        "@interact_manual(giocate=(1, 6), puntata=(5, 100, 5))\n",
        "def roulette(giocate = 3, puntata = 5):\n",
        "  ruota = mk_roulette()\n",
        "  results = []\n",
        "  for i in range(precisione):\n",
        "    portafogli = giocate * puntata\n",
        "    portafogli = partita(ruota, giocate, puntata, portafogli)\n",
        "    results.append(portafogli)\n",
        "  #grafico\n",
        "  normalized = []\n",
        "  valori = []\n",
        "  for i in range(giocate):\n",
        "    normalized.append(round(((results.count(puntata*2*i) / precisione) * 100), 2)) #conto le istanze dei risultati e le normalizzo\n",
        "  normalized.append(round(100 - sum(normalized), 2)) #per evitare che per errori di arrotondamento la somma dei risultati sia 99.9%, l'ultimo risultato lo calcolo come 100 - (la somma dei precedenti)\n",
        "  labels = []\n",
        "  for i in range(len(normalized)):\n",
        "    labels.append(str(normalized[i]) + \"%\") # aggiungo le labels (i valori riportati all'esterno del grafico)\n",
        "  plt.pie(normalized, labels=labels)\n",
        "  legenda = []\n",
        "  for i in range(len(normalized)):\n",
        "    legenda.append(str(puntata*2*i))\n",
        "  plt.legend(legenda,loc='upper center', bbox_to_anchor=(0.5, -0.05), fancybox=True, shadow=True, ncol=5)"
      ],
      "metadata": {
        "id": "QDB96jXivO40",
        "outputId": "bff983c4-e40b-42f6-f37c-f49d33d8497d",
        "colab": {
          "base_uri": "https://localhost:8080/",
          "height": 377,
          "referenced_widgets": [
            "5ba75662de22486f8b4165536469d248",
            "e6c0f61012dc48edbfc4167147d78f05",
            "5887293a1f6f4d5ebc8a13d440a1336c",
            "04a531af8fa44d22942fadb6b56d34eb",
            "65efa3a3c3d744ccb5a1cfdd641a8b1a",
            "ce33c77d8bb041fe91b0d24e3011391d",
            "27809417299445c49c29ec308f852bb5",
            "908936956a194b42beeeab1e9fb5f858",
            "fd8dcddb357144e3a5c0aa8d4e0f6e1b",
            "51e1c3cdcd44413c9bf9c84761de950c",
            "c3a4fd68a09d443f967d0df68c44b8b5",
            "94849e5b7f0b4e5b864292ebda4807f4",
            "5aaf79e4da1e45ce874ddd429e1332a7"
          ]
        }
      },
      "execution_count": null,
      "outputs": [
        {
          "output_type": "display_data",
          "data": {
            "application/vnd.jupyter.widget-view+json": {
              "model_id": "5ba75662de22486f8b4165536469d248",
              "version_minor": 0,
              "version_major": 2
            },
            "text/plain": [
              "interactive(children=(IntSlider(value=3, description='giocate', max=6, min=1), IntSlider(value=5, description=…"
            ]
          },
          "metadata": {}
        }
      ]
    },
    {
      "cell_type": "markdown",
      "source": [
        "# Densità ipergeometrica"
      ],
      "metadata": {
        "id": "9PjQr8MmCUYu"
      }
    },
    {
      "cell_type": "markdown",
      "source": [
        "\n",
        "Un altro tipo di schema successo-insuccesso è il cosiddetto schema successo-insuccesso _senza ripetizione_. In questo caso il fenomeno aleatorio consiste nell’estrazione di n palline, senza rimpiazzare di volta in volta la pallina estratta, da un'urna contenente b palline bianche e r palline rosse.\n",
        "Diciamo che la prova (estrazione) dà successo se viene estratta una pallina bianca e consideriamo la variabile X data dal numero di successi ottenuti, cioè dal numero di palline bianche estratte.\n",
        "\n",
        "\n",
        "Osserviamo che X può assumere tutti i valori tra max(0, n − r) e min(n, b): infatti se n > r siamo sicuri di pescare almeno n−r palline bianche e chiaramente il numero di bianche estratte non può superare nè il numero estrazioni nè il numero di palline bianche.\n",
        "\n",
        "Lo spazio Ω è dato da tutti i possibili sottoinsiemi di n oggetti (le palline estratte) scelti da un insieme di b + r oggetti (le palline\n",
        "disponibili), con probabilità uniforme. L’evento “X = k” è dato quindi da tutti i sottoinsiemi delle b + r palline costituiti da k palline bianche e n − k palline rosse. Le k bianche le posso scegliere in ${b\\choose k}$ modi. Le n − k rosse in ${r \\choose {n - k}}$ modi. Abbiamo quindi che la densità di X è data da\n",
        "\n",
        "\\begin{equation}\n",
        "  px(k) =\n",
        "    \\begin{cases}\n",
        "          \\frac{{b \\choose k} · {r \\choose n - k}}{b + r \\choose n} \\ se \\ k=max(0, n-r),...,min(n,b)\n",
        "          \\\\\n",
        "          0 \\ altrimenti\n",
        "        \\end{cases}\n",
        "\\end{equation}\n",
        "\n",
        "Scriviamo in questo caso X ∼ H(n; b, r) e diciamo che X è una variabile ipergeometrica."
      ],
      "metadata": {
        "id": "OnLdbdQjCbyl"
      }
    },
    {
      "cell_type": "markdown",
      "source": [
        "##Esempio 4.1\n",
        "Un’urna contiene 8 palline bianche e 2 rosse. Ne estraiamo 3 senza rimpiazzo.\n",
        "Qual è la probabilità di estrarne al più una rossa? In questo caso, a differenza del precedente abbiamo che la variabile X = numero di rosse estratte è una ipergeometrica X ∼ H(3; 2, 8) per\n",
        "cui\n",
        "\n",
        "P(_X_ ≤ 1) = P(_X_ = 0) + P(_X_ = 1) = $\\frac{{2 \\choose 0}·{8 \\choose 3}}{10 \\choose 3}$ + $\\frac{{2 \\choose 1}·{8 \\choose 2}}{10 \\choose 3}$ = $\\frac{14}{15}$ = 0.933"
      ],
      "metadata": {
        "id": "mqqc2UiZGaIY"
      }
    },
    {
      "cell_type": "code",
      "source": [
        "@interact_manual(estrazioni=(1, 10))\n",
        "def ipergeometrica(estrazioni=3):\n",
        "  bianche = 8\n",
        "  rosse = 2\n",
        "  urna = mk_urna(bianche, rosse)\n",
        "  results = 0\n",
        "  for i in range(precisione):\n",
        "    tmp = urna\n",
        "    count = 0\n",
        "    for i in range(estrazioni):\n",
        "      extr = np.random.randint(0, ((bianche + rosse)-i))\n",
        "      if(tmp[extr]):\n",
        "        count = count + 1\n",
        "      tmp = np.delete(tmp, extr)\n",
        "    if(count < 2):\n",
        "      results = results + 1  \n",
        "  return round(results / precisione, 3)"
      ],
      "metadata": {
        "id": "R0SjK_tkMtDv",
        "colab": {
          "base_uri": "https://localhost:8080/",
          "height": 98,
          "referenced_widgets": [
            "73d3dc7e8f8c4fdb837a8c78caf1d10c",
            "88fc3a863c574c1d9715d3716c5daad9",
            "cf6e57b8c9644f03a1d9b13a0bfcd79c",
            "0eb43605ac2d4a308e9924f60a55d7aa",
            "3064d487d7fa49a79780ad80ad6cbe3b",
            "a60c758abf594991b088edd0f63bc675",
            "4e741c51fcdc46d393a1fbfa9d894ec2",
            "5ad38903eaab4e3ab3e734b44a9d7445",
            "27b15a9dbf6a45018397d1969e6e8eb1",
            "31e618163ce7429da7b1d0ddba5edf10"
          ]
        },
        "outputId": "75d060c2-4f22-4f33-e59d-fd35a12ff839"
      },
      "execution_count": null,
      "outputs": [
        {
          "output_type": "display_data",
          "data": {
            "application/vnd.jupyter.widget-view+json": {
              "model_id": "73d3dc7e8f8c4fdb837a8c78caf1d10c",
              "version_minor": 0,
              "version_major": 2
            },
            "text/plain": [
              "interactive(children=(IntSlider(value=3, description='estrazioni', max=10, min=1), Button(description='Run Int…"
            ]
          },
          "metadata": {}
        }
      ]
    },
    {
      "cell_type": "markdown",
      "source": [
        "#Densità geometrica - geometrica modificata"
      ],
      "metadata": {
        "id": "-GtoecXjUH1e"
      }
    },
    {
      "cell_type": "markdown",
      "source": [
        "In uno schema successo-insuccesso, anzichè al numero di successi ottenuti su n tentativi, potremmo essere interessati al numero di tentativi che devo effettuare prima di ottenere un successo."
      ],
      "metadata": {
        "id": "YBirGuNoUKbB"
      }
    },
    {
      "cell_type": "markdown",
      "source": [
        "##Esempio 5.1\n",
        "\n",
        "Consideriamo un’urna con 2 palline bianche e 3 rosse. Le estraggo senza\n",
        "rimpiazzo finchè non trovo una pallina rossa. Considero la variabile aleatoria X=numero di estrazioni per trovare una pallina rossa. X è una variabile finita in quanto assume solo i valori 1, 2, 3.\n",
        "La sua densità si determina facilmente ed è data da\n",
        "\n",
        "\\begin{equation}\n",
        "  px(k) =\n",
        "    \\begin{cases}\n",
        "          \\frac{6}{10} \\ se \\ k=1\n",
        "          \\\\\n",
        "          \\frac{3}{10} \\ se \\ k=2\n",
        "          \\\\\n",
        "          \\frac{1}{10} \\ se \\ k=3\n",
        "          \\\\\n",
        "          0 \\ altrimenti\n",
        "        \\end{cases}\n",
        "\\end{equation}\n",
        "\n"
      ],
      "metadata": {
        "id": "aXX1PJQLUX9Z"
      }
    },
    {
      "cell_type": "code",
      "source": [
        "@interact_manual(bianche=(1,5), rosse=(1, 5))\n",
        "def geometrica(bianche=2, rosse=3):\n",
        "  palle = mk_urna(bianche, rosse)\n",
        "  results = []\n",
        "  count=0\n",
        "  while(len(results) < precisione):\n",
        "    done = len(results)\n",
        "    tmp = palle\n",
        "    while(len(results) == done):\n",
        "      extr = np.random.randint(0, ((bianche+rosse)-count))\n",
        "      if(tmp[extr]):\n",
        "        results.append(count)\n",
        "        count=0\n",
        "      else:  \n",
        "        tmp = np.delete(tmp,extr)\n",
        "        count = count + 1\n",
        "  #grafico\n",
        "  labels = []\n",
        "  normalized = []\n",
        "  for i in range(len(set(results)) - 1): #len(set(n)) torna il numero di risultati distinti presenti in results\n",
        "    normalized.append(round(((results.count(i) / precisione) * 100), 2)) #conto le istanze dei risultati e le normalizzo\n",
        "  normalized.append(round(100 - sum(normalized), 2)) #per evitare che per errori di arrotondamento la somma dei risultati sia 99.9%, l'ultimo risultato lo calcolo come 100 - (la somma dei precedenti)\n",
        "  for i in range(len(normalized)):\n",
        "    labels.append(str(normalized[i]) + \"%\") # aggiungo le labels (i valori riportati all'esterno del grafico)\n",
        "  plt.pie(normalized, labels=labels)\n",
        "  legenda = []\n",
        "  for i in range(bianche + 1):\n",
        "    legenda.append(\"k=\"+str(i+1))\n",
        "  plt.legend(legenda,loc='upper center', bbox_to_anchor=(0.5, -0.05), fancybox=True, shadow=True, ncol=5)"
      ],
      "metadata": {
        "colab": {
          "base_uri": "https://localhost:8080/",
          "height": 377,
          "referenced_widgets": [
            "dde6c4320f734f789685af6ce5cf8b3f",
            "d6817812eadd447cbf75018909e664e9",
            "9530cd74da5c4514b9413553b8e7e5d4",
            "f09feae7e2cd4867939ef02b22eed03c",
            "e50f02f9e6564bbe800d64b6ec6954d7",
            "9941327ff4934b38b3886b371da349ef",
            "42727f8b71224772ba77c38aa8554c9c",
            "3b659b229a304bd793ec8a281cc801b3",
            "59ce5f8b6df84eec9ccda53efe492c35",
            "49bb176f2c9545fca1a07a34db33e728",
            "fe7bc47ce1ea4c558ba98817a836d842",
            "81b71f633b67413fa6166e0e949a9832",
            "d8d799a126894f88bea2940c03665ec2"
          ]
        },
        "id": "5tLgoNi7f2YM",
        "outputId": "337a529d-ec96-48ac-dc43-7adf61ec24cd"
      },
      "execution_count": null,
      "outputs": [
        {
          "output_type": "display_data",
          "data": {
            "application/vnd.jupyter.widget-view+json": {
              "model_id": "dde6c4320f734f789685af6ce5cf8b3f",
              "version_minor": 0,
              "version_major": 2
            },
            "text/plain": [
              "interactive(children=(IntSlider(value=2, description='bianche', max=5, min=1), IntSlider(value=3, description=…"
            ]
          },
          "metadata": {}
        }
      ]
    },
    {
      "cell_type": "markdown",
      "source": [
        "##Esempio 5.2\n",
        "\n",
        "Ripetiamo l'esperimento precedente, ma questa volta rimpiazziamo la pallina ad ogni estrazione. La variabile X diventa numerabile e si ha\n",
        "\n",
        "\\begin{equation}\n",
        "  px(k) =\n",
        "    \\begin{cases}\n",
        "          (\\frac{2}{5})^{k-1}\\frac{3}{5} \\ se \\ k=1,2,3,...\n",
        "          \\\\\n",
        "          0 \\ altrimenti\n",
        "        \\end{cases}\n",
        "\\end{equation}\n",
        "\n",
        "Infatti richiedere X = k vuol dire aver ottenuto k − 1 insuccessi nei primi k − 1 tenativi (ognuno con probabilità $\\frac{2}{5}$) per poi finalmente ottenere un successo al k-esimo tentativo (con probabilità $\\frac{3}{5}$)"
      ],
      "metadata": {
        "id": "DPSi8KkVKH60"
      }
    },
    {
      "cell_type": "code",
      "source": [
        "@interact_manual(bianche=(1,5), rosse=(1, 5))\n",
        "def geometrica_mod(bianche=2, rosse=3):\n",
        "  palle = mk_urna(bianche, rosse)\n",
        "  results = []\n",
        "  count=0\n",
        "  while(len(results) < precisione):\n",
        "    done = len(results)\n",
        "    tmp = palle\n",
        "    while(len(results) == done):\n",
        "      extr = np.random.randint(0, (bianche+rosse))\n",
        "      if(tmp[extr]):\n",
        "        results.append(count)\n",
        "        count=0\n",
        "      else:  \n",
        "        count = count + 1\n",
        "  #grafico\n",
        "  labels = []\n",
        "  normalized = []\n",
        "  for i in range(len(set(results)) - 1): \n",
        "    normalized.append(round(((results.count(i) / precisione) * 100), 2))\n",
        "  normalized.append(round(100 - sum(normalized), 2))\n",
        "  for i in range(len(set(results))):\n",
        "    labels.append(str(i+1))\n",
        "  plt.bar(labels, normalized)\n",
        "  plt.ylabel(\"Percentage\")\n",
        "  plt.xlabel(\"K\")"
      ],
      "metadata": {
        "id": "brXrWGO0hwig",
        "colab": {
          "base_uri": "https://localhost:8080/",
          "height": 374,
          "referenced_widgets": [
            "73c0083f12ca4250b2c698c03c9ce4bc",
            "ac3508740665438a9fdc01922a798ed5",
            "cc43894222614f4299e6d9dc088f78ac",
            "17ac178efc19417aa2d0287857edf174",
            "03c851c99acb480a8a9663d53d6b753d",
            "4744a03f266b49a68b3b88f47ddfd27b",
            "f9b37ef8c7bf46e9a4dc0c52f3ece6e8",
            "d75cca7ae83945de8c237ab901779b9e",
            "f298633ce6b440298988c8c9d1f75312",
            "093cfac6de76469485bb459fbb4eba9c",
            "6684b30ae27249fe866cc2377d8e4f14",
            "7d96c62c0b5448d99c6c09ff31d5ff4e",
            "19b1eaefa5754a089730be55640f753d"
          ]
        },
        "outputId": "df95978d-4f32-4150-de94-e003e9811604"
      },
      "execution_count": null,
      "outputs": [
        {
          "output_type": "display_data",
          "data": {
            "application/vnd.jupyter.widget-view+json": {
              "model_id": "73c0083f12ca4250b2c698c03c9ce4bc",
              "version_minor": 0,
              "version_major": 2
            },
            "text/plain": [
              "interactive(children=(IntSlider(value=2, description='bianche', max=5, min=1), IntSlider(value=3, description=…"
            ]
          },
          "metadata": {}
        }
      ]
    },
    {
      "cell_type": "markdown",
      "source": [
        "Quello appena visto è un esempio di _densità geometrica modificata_ che scriveremo come T ∼ Ḡ(_p_).\n",
        "\n",
        "Quando si parla di densità geometrica modificata? \n",
        "\n",
        "Si consideri uno schema successo-insuccesso con ripetizioni e prendiamo in esame la variabile T data dal tempo di primo successo. \n",
        "Se chiamiamo _Xi_ le variabili _B_(1, _p_) date da _Xi_ = 1 se l’i-esimo tentativo dà successo e _Xi_  = 0 altrimenti abbiamo come densità\n",
        "\n",
        "\\begin{equation}\n",
        "  px(k) =\n",
        "    \\begin{cases}\n",
        "          p(1-p)^{k-1} \\ se \\ k=1,2,3,...\n",
        "          \\\\\n",
        "          0 \\ altrimenti\n",
        "        \\end{cases}\n",
        "\\end{equation}"
      ],
      "metadata": {
        "id": "u9PHD5qa-xdK"
      }
    },
    {
      "cell_type": "markdown",
      "source": [
        "##Esempio 5.3\n",
        "\n",
        "Si lancino simultaneamente due dadi, uno rosso e uno blu. Ripetiamo questo\n",
        "esperimento finchè non otteniamo due 6. \n",
        "\n",
        "Poniamo X = primo lancio in cui il dado rosso ha dato 6,\n",
        "Y = primo lancio in cui il dado blu ha dato 6.\n",
        "\n",
        "\n",
        "Determinare inoltre la probabilità di ottenere 6 con il dado rosso prima di ottenere 6 con il dado blu.\n",
        "\n",
        "Abbiamo\n",
        "\n",
        "\\begin{equation}\n",
        "  1 = P(X < Y) + P(X > Y) + P(X = Y)\n",
        "\\end{equation}\n",
        "\n",
        "\\\\\n",
        "e chiaramente per simmetria del problema _P_(_X_ < _Y_) = _P_(_X_ > _Y_) da cui\n",
        "\n",
        "\\\\\n",
        "\n",
        "\\begin{equation}\n",
        "  P(X < Y)= \\frac {1-P(X = Y)}{2}\n",
        "\\end{equation}\n",
        "\n",
        "Ci basterà calcolare quindi _P_(_X_ =_Y_):\n",
        "\n",
        "\\\\\n",
        "\n",
        "\\begin{equation}\n",
        "  P(X = Y) = \\sum_{k=1}^\\infty P(X = Y = k) = \\sum_{k=1}^\\infty (\\frac{25}{36})^{k-1}·\\frac{1}{36} = \\frac{1}{1-\\frac{25}{36}}·\\frac{1}{36} = \\frac{1}{11}\n",
        "\\end{equation}\n",
        "\n",
        "\n",
        "dove abbiamo ancora utilizzato la somma di una serie geometrica, e quindi\n",
        "\n",
        "\\\\\n",
        "\n",
        "\\begin{equation}\n",
        "  P(X < Y) = \\frac{5}{11}\n",
        "\\end{equation}\n"
      ],
      "metadata": {
        "id": "yQRcoTTQmPxD"
      }
    },
    {
      "cell_type": "code",
      "source": [
        "def first_six():\n",
        "  num = 6\n",
        "  results = []\n",
        "  for i in range(precisione):\n",
        "    a, b = 0, 0\n",
        "    while a != num and b != num:\n",
        "      a, b = trow(), trow() \n",
        "      if a == num:\n",
        "        if b == num:\n",
        "          results.append(0)\n",
        "        else:\n",
        "          results.append(1)\n",
        "      if b == num:\n",
        "        results.append(2)  \n",
        "  #grafico\n",
        "  labels = []\n",
        "  normalized = []\n",
        "  myexplode = [0, 0.2, 0]\n",
        "  for i in range(len(set(results)) - 1): #len(set(n)) torna il numero di risultati distinti presenti in results\n",
        "    normalized.append(round(((results.count(i) / precisione) * 100), 2)) #conto le istanze dei risultati e le normalizzo\n",
        "  normalized.append(round(100 - sum(normalized), 2)) #per evitare che per errori di arrotondamento la somma dei risultati sia 99.9%, l'ultimo risultato lo calcolo come 100 - (la somma dei precedenti)\n",
        "  for i in range(len(normalized)):\n",
        "    labels.append(str(normalized[i]) + \"%\") # aggiungo le labels (i valori riportati all'esterno del grafico)\n",
        "  plt.pie(normalized, labels=labels,explode=myexplode, colors=[\"green\", \"red\", \"blue\"], shadow=True)\n",
        "  legenda = [\"X=Y\", \"X<Y\", \"X>Y\"]\n",
        "  plt.legend(legenda,loc='upper center', bbox_to_anchor=(0.5, -0.05), fancybox=True, shadow=True, ncol=5)\n",
        "first_six()"
      ],
      "metadata": {
        "id": "UZu1TQeqsduC",
        "outputId": "533c1fed-48f6-470d-d3b2-0456198895c2",
        "colab": {
          "base_uri": "https://localhost:8080/",
          "height": 282
        }
      },
      "execution_count": null,
      "outputs": [
        {
          "output_type": "display_data",
          "data": {
            "image/png": "[encoded data removed]",
            "text/plain": [
              "<Figure size 432x288 with 1 Axes>"
            ]
          },
          "metadata": {}
        }
      ]
    },
    {
      "cell_type": "markdown",
      "source": [
        "#Densità di Poisson"
      ],
      "metadata": {
        "id": "hPfoVQ4tzLLR"
      }
    },
    {
      "cell_type": "markdown",
      "source": [
        "Se consideriamo una variabile binomiale _X_ ∼ _B_(_n_, _p_) in cui il numero _n_ di tentativi è molto grande e il parametro _p_ molto piccolo fare i conti con la densità binomiale risulta essere computazionalmente dispendioso. \n",
        "\n",
        "Facciamo un esempio:"
      ],
      "metadata": {
        "id": "7WQ9L3IXzNQo"
      }
    },
    {
      "cell_type": "markdown",
      "source": [
        "##Esempio 6.1\n",
        "\n",
        "Supponiamo che in una città nascano 10 000 bambini ogni anno e che ci\n",
        "sia una malattia rara che colpisce un bambino su 2 mila. Qual è la probabilità che quest’anno nascano più di 5 bambini affetti da questa malattia? \n",
        "\n",
        "La variabile _X_ = ”numero di bambini nati con questa malattia quest’anno” è una variabile binomiale _X_ = _B_($10^4$, $\\frac{1}{2000}$). Tuttavia se\n",
        "proviamo ad effettuare il calcolo _P_(_X_ > 5), anche se abbiamo una formula esatta per effettuarlo, è inevitabilmente molto complesso.\n"
      ],
      "metadata": {
        "id": "VD0JenT7zaOx"
      }
    },
    {
      "cell_type": "markdown",
      "source": [
        "Per risolvere questo tipo di problema introduciamo la seguente\n",
        "\n",
        "\\\\\n",
        "\\begin{equation}\n",
        "  p(k) =\n",
        "    \\begin{cases}\n",
        "          e^{-λ} \\frac{λ^k}{k!} \\ se \\ k=0,1,2,...\n",
        "          \\\\\n",
        "          0 \\ altrimenti\n",
        "        \\end{cases}\n",
        "\\end{equation}\n",
        "\n",
        "\\\\\n",
        "\n",
        "dove λ è un parametro reale strettamente positivo."
      ],
      "metadata": {
        "id": "-07DvPlK0SRP"
      }
    },
    {
      "cell_type": "markdown",
      "source": [
        "Nel nostro esempio possiamo pensare alla variabile _X_ come ad una variabile di Poisson di parametro 5. \n",
        "\n",
        "Otteniamo:\n",
        "\n",
        "\\begin{equation}\n",
        "  P(X > 5) = 1 − P(X = 0) − P(X = 1) − P(X = 2) − P(X = 3) − P(X = 4) \n",
        "  \\\\\n",
        "  = 1 − e^{−5}(1 + 5 + \\frac{25}{2} + \\frac{125}{6} + \\frac{625}{24} + \\frac{3125}{120}) = 0, 384.\n",
        "\\end{equation}"
      ],
      "metadata": {
        "id": "fHA5WLXr2VKr"
      }
    },
    {
      "cell_type": "code",
      "source": [
        "@interact_manual(malati=(1, 10))\n",
        "def poisson(malati = 5):\n",
        "  bambini = 10_000\n",
        "  malattia = 2_000\n",
        "  total = 0\n",
        "  for i in range(1000):\n",
        "    count = 0\n",
        "    for i in range(bambini):\n",
        "      if np.random.randint(malattia) == 1:\n",
        "        count = count + 1\n",
        "    if count > 5:\n",
        "      total = total + 1\n",
        "    count = 0\n",
        "  return round(total / 1000, 3)"
      ],
      "metadata": {
        "id": "Hz_qNavg2Nab",
        "outputId": "9835ce93-bd0c-453a-e6fc-3dc28af069e1",
        "colab": {
          "base_uri": "https://localhost:8080/",
          "height": 98,
          "referenced_widgets": [
            "390f0af648374205b509b1ad66b3cefa",
            "47e6e88cb61244cb85e05c8f34c78432",
            "5fb60f616fb24243bc915f9410caf794",
            "ab41a3c1eb774bdaa4f84cbf052d53b9",
            "c637e2ad8aca48f0aac5b56f35db1870",
            "cef8d002677543aab92229aa0fc503d9",
            "9ebe5549e1284a19a0d5834c3372dd3d",
            "13ac3354e8b646e9959c9b71cd27d246",
            "184f1292089c49799a617c0e81d366e6",
            "8d5dc530690b4dd192ee08592d04adcb"
          ]
        }
      },
      "execution_count": 34,
      "outputs": [
        {
          "output_type": "display_data",
          "data": {
            "application/vnd.jupyter.widget-view+json": {
              "model_id": "390f0af648374205b509b1ad66b3cefa",
              "version_minor": 0,
              "version_major": 2
            },
            "text/plain": [
              "interactive(children=(IntSlider(value=5, description='malati', max=10, min=1), Button(description='Run Interac…"
            ]
          },
          "metadata": {}
        }
      ]
    },
    {
      "cell_type": "code",
      "source": [
        "def poisson():\n",
        "  bambini = 100_000\n",
        "  malattia = 20_000\n",
        "  results = []\n",
        "  for i in range(100):\n",
        "    count = 0\n",
        "    for i in range(bambini):\n",
        "      if np.random.randint(malattia) == 1:\n",
        "        count = count + 1\n",
        "    results.append(count)\n",
        "  #grafico\n",
        "  labels = []\n",
        "  set_res = list(set(results))\n",
        "  normalized = []\n",
        "  for i in set_res: \n",
        "    normalized.append(round(((results.count(i) / len(results)) * 100), 2))\n",
        "    labels.append(str(i+1)) \n",
        "  plt.bar(labels, normalized)\n",
        "  plt.ylabel(\"Percentage\")\n",
        "  plt.xlabel(\"K\")\n",
        "poisson()"
      ],
      "metadata": {
        "id": "fhhGib0Ux6Zu",
        "outputId": "5c5782a8-01a6-47f3-ff7d-eec3f607f036",
        "colab": {
          "base_uri": "https://localhost:8080/",
          "height": 279
        }
      },
      "execution_count": 30,
      "outputs": [
        {
          "output_type": "display_data",
          "data": {
            "image/png": "[encoded data removed]",
            "text/plain": [
              "<Figure size 432x288 with 1 Axes>"
            ]
          },
          "metadata": {
            "needs_background": "light"
          }
        }
      ]
    },
    {
      "cell_type": "code",
      "source": [
        ""
      ],
      "metadata": {
        "id": "H4CjxxyZ7Rxc"
      },
      "execution_count": null,
      "outputs": []
    }
  ]
}