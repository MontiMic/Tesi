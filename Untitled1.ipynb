{
  "nbformat": 4,
  "nbformat_minor": 0,
  "metadata": {
    "colab": {
      "name": "Untitled1.ipynb",
      "provenance": [],
      "toc_visible": true,
      "collapsed_sections": [],
      "authorship_tag": "ABX9TyMFrywwjuy0P8yhU0IybJ9Y",
      "include_colab_link": true
    },
    "kernelspec": {
      "name": "python3",
      "display_name": "Python 3"
    },
    "language_info": {
      "name": "python"
    },
    "widgets": {
      "application/vnd.jupyter.widget-state+json": {
        "a47b38f1b2704c65bdecbadb26a5686b": {
          "model_module": "@jupyter-widgets/controls",
          "model_name": "VBoxModel",
          "model_module_version": "1.5.0",
          "state": {
            "_view_name": "VBoxView",
            "_dom_classes": [
              "widget-interact"
            ],
            "_model_name": "VBoxModel",
            "_view_module": "@jupyter-widgets/controls",
            "_model_module_version": "1.5.0",
            "_view_count": null,
            "_view_module_version": "1.5.0",
            "box_style": "",
            "layout": "IPY_MODEL_30d7f7f0fcb34fba8c16f4a87a61ad95",
            "_model_module": "@jupyter-widgets/controls",
            "children": [
              "IPY_MODEL_8f91bb0636fd485bbb1948ce77608842",
              "IPY_MODEL_5b27b2b61af04ccfafcc31cdce2ca1b4",
              "IPY_MODEL_c071d9ccab0d4bcbaa167b633db6b6e3"
            ]
          }
        },
        "30d7f7f0fcb34fba8c16f4a87a61ad95": {
          "model_module": "@jupyter-widgets/base",
          "model_name": "LayoutModel",
          "model_module_version": "1.2.0",
          "state": {
            "_view_name": "LayoutView",
            "grid_template_rows": null,
            "right": null,
            "justify_content": null,
            "_view_module": "@jupyter-widgets/base",
            "overflow": null,
            "_model_module_version": "1.2.0",
            "_view_count": null,
            "flex_flow": null,
            "width": null,
            "min_width": null,
            "border": null,
            "align_items": null,
            "bottom": null,
            "_model_module": "@jupyter-widgets/base",
            "top": null,
            "grid_column": null,
            "overflow_y": null,
            "overflow_x": null,
            "grid_auto_flow": null,
            "grid_area": null,
            "grid_template_columns": null,
            "flex": null,
            "_model_name": "LayoutModel",
            "justify_items": null,
            "grid_row": null,
            "max_height": null,
            "align_content": null,
            "visibility": null,
            "align_self": null,
            "height": null,
            "min_height": null,
            "padding": null,
            "grid_auto_rows": null,
            "grid_gap": null,
            "max_width": null,
            "order": null,
            "_view_module_version": "1.2.0",
            "grid_template_areas": null,
            "object_position": null,
            "object_fit": null,
            "grid_auto_columns": null,
            "margin": null,
            "display": null,
            "left": null
          }
        },
        "8f91bb0636fd485bbb1948ce77608842": {
          "model_module": "@jupyter-widgets/controls",
          "model_name": "IntSliderModel",
          "model_module_version": "1.5.0",
          "state": {
            "_view_name": "IntSliderView",
            "style": "IPY_MODEL_fca23b3adeb147eea4d7de5a8b714909",
            "_dom_classes": [],
            "description": "vincita",
            "step": 1,
            "_model_name": "IntSliderModel",
            "orientation": "horizontal",
            "max": 30,
            "_view_module": "@jupyter-widgets/controls",
            "_model_module_version": "1.5.0",
            "value": 5,
            "_view_count": null,
            "disabled": false,
            "_view_module_version": "1.5.0",
            "min": 0,
            "continuous_update": true,
            "readout_format": "d",
            "description_tooltip": null,
            "readout": true,
            "_model_module": "@jupyter-widgets/controls",
            "layout": "IPY_MODEL_5dc002e59bdf4782b8ef0928651c27c8"
          }
        },
        "5b27b2b61af04ccfafcc31cdce2ca1b4": {
          "model_module": "@jupyter-widgets/controls",
          "model_name": "ButtonModel",
          "model_module_version": "1.5.0",
          "state": {
            "_view_name": "ButtonView",
            "style": "IPY_MODEL_dd3a80060be34dc896d8564f0092f446",
            "_dom_classes": [],
            "description": "Run Interact",
            "_model_name": "ButtonModel",
            "button_style": "",
            "_view_module": "@jupyter-widgets/controls",
            "_model_module_version": "1.5.0",
            "tooltip": "",
            "_view_count": null,
            "disabled": false,
            "_view_module_version": "1.5.0",
            "layout": "IPY_MODEL_e151ad6b7f8745ee8bd66c09c192e130",
            "_model_module": "@jupyter-widgets/controls",
            "icon": ""
          }
        },
        "c071d9ccab0d4bcbaa167b633db6b6e3": {
          "model_module": "@jupyter-widgets/output",
          "model_name": "OutputModel",
          "model_module_version": "1.0.0",
          "state": {
            "_view_name": "OutputView",
            "msg_id": "",
            "_dom_classes": [],
            "_model_name": "OutputModel",
            "outputs": [],
            "_view_module": "@jupyter-widgets/output",
            "_model_module_version": "1.0.0",
            "_view_count": null,
            "_view_module_version": "1.0.0",
            "layout": "IPY_MODEL_fae6b8f08d7142b288493b63866e7438",
            "_model_module": "@jupyter-widgets/output"
          }
        },
        "fca23b3adeb147eea4d7de5a8b714909": {
          "model_module": "@jupyter-widgets/controls",
          "model_name": "SliderStyleModel",
          "model_module_version": "1.5.0",
          "state": {
            "_view_name": "StyleView",
            "handle_color": null,
            "_model_name": "SliderStyleModel",
            "description_width": "",
            "_view_module": "@jupyter-widgets/base",
            "_model_module_version": "1.5.0",
            "_view_count": null,
            "_view_module_version": "1.2.0",
            "_model_module": "@jupyter-widgets/controls"
          }
        },
        "5dc002e59bdf4782b8ef0928651c27c8": {
          "model_module": "@jupyter-widgets/base",
          "model_name": "LayoutModel",
          "model_module_version": "1.2.0",
          "state": {
            "_view_name": "LayoutView",
            "grid_template_rows": null,
            "right": null,
            "justify_content": null,
            "_view_module": "@jupyter-widgets/base",
            "overflow": null,
            "_model_module_version": "1.2.0",
            "_view_count": null,
            "flex_flow": null,
            "width": null,
            "min_width": null,
            "border": null,
            "align_items": null,
            "bottom": null,
            "_model_module": "@jupyter-widgets/base",
            "top": null,
            "grid_column": null,
            "overflow_y": null,
            "overflow_x": null,
            "grid_auto_flow": null,
            "grid_area": null,
            "grid_template_columns": null,
            "flex": null,
            "_model_name": "LayoutModel",
            "justify_items": null,
            "grid_row": null,
            "max_height": null,
            "align_content": null,
            "visibility": null,
            "align_self": null,
            "height": null,
            "min_height": null,
            "padding": null,
            "grid_auto_rows": null,
            "grid_gap": null,
            "max_width": null,
            "order": null,
            "_view_module_version": "1.2.0",
            "grid_template_areas": null,
            "object_position": null,
            "object_fit": null,
            "grid_auto_columns": null,
            "margin": null,
            "display": null,
            "left": null
          }
        },
        "dd3a80060be34dc896d8564f0092f446": {
          "model_module": "@jupyter-widgets/controls",
          "model_name": "ButtonStyleModel",
          "model_module_version": "1.5.0",
          "state": {
            "_view_name": "StyleView",
            "_model_name": "ButtonStyleModel",
            "_view_module": "@jupyter-widgets/base",
            "_model_module_version": "1.5.0",
            "_view_count": null,
            "button_color": null,
            "font_weight": "",
            "_view_module_version": "1.2.0",
            "_model_module": "@jupyter-widgets/controls"
          }
        },
        "e151ad6b7f8745ee8bd66c09c192e130": {
          "model_module": "@jupyter-widgets/base",
          "model_name": "LayoutModel",
          "model_module_version": "1.2.0",
          "state": {
            "_view_name": "LayoutView",
            "grid_template_rows": null,
            "right": null,
            "justify_content": null,
            "_view_module": "@jupyter-widgets/base",
            "overflow": null,
            "_model_module_version": "1.2.0",
            "_view_count": null,
            "flex_flow": null,
            "width": null,
            "min_width": null,
            "border": null,
            "align_items": null,
            "bottom": null,
            "_model_module": "@jupyter-widgets/base",
            "top": null,
            "grid_column": null,
            "overflow_y": null,
            "overflow_x": null,
            "grid_auto_flow": null,
            "grid_area": null,
            "grid_template_columns": null,
            "flex": null,
            "_model_name": "LayoutModel",
            "justify_items": null,
            "grid_row": null,
            "max_height": null,
            "align_content": null,
            "visibility": null,
            "align_self": null,
            "height": null,
            "min_height": null,
            "padding": null,
            "grid_auto_rows": null,
            "grid_gap": null,
            "max_width": null,
            "order": null,
            "_view_module_version": "1.2.0",
            "grid_template_areas": null,
            "object_position": null,
            "object_fit": null,
            "grid_auto_columns": null,
            "margin": null,
            "display": null,
            "left": null
          }
        },
        "fae6b8f08d7142b288493b63866e7438": {
          "model_module": "@jupyter-widgets/base",
          "model_name": "LayoutModel",
          "model_module_version": "1.2.0",
          "state": {
            "_view_name": "LayoutView",
            "grid_template_rows": null,
            "right": null,
            "justify_content": null,
            "_view_module": "@jupyter-widgets/base",
            "overflow": null,
            "_model_module_version": "1.2.0",
            "_view_count": null,
            "flex_flow": null,
            "width": null,
            "min_width": null,
            "border": null,
            "align_items": null,
            "bottom": null,
            "_model_module": "@jupyter-widgets/base",
            "top": null,
            "grid_column": null,
            "overflow_y": null,
            "overflow_x": null,
            "grid_auto_flow": null,
            "grid_area": null,
            "grid_template_columns": null,
            "flex": null,
            "_model_name": "LayoutModel",
            "justify_items": null,
            "grid_row": null,
            "max_height": null,
            "align_content": null,
            "visibility": null,
            "align_self": null,
            "height": null,
            "min_height": null,
            "padding": null,
            "grid_auto_rows": null,
            "grid_gap": null,
            "max_width": null,
            "order": null,
            "_view_module_version": "1.2.0",
            "grid_template_areas": null,
            "object_position": null,
            "object_fit": null,
            "grid_auto_columns": null,
            "margin": null,
            "display": null,
            "left": null
          }
        },
        "f61e903644cd43e6943031684713a23f": {
          "model_module": "@jupyter-widgets/controls",
          "model_name": "VBoxModel",
          "model_module_version": "1.5.0",
          "state": {
            "_view_name": "VBoxView",
            "_dom_classes": [
              "widget-interact"
            ],
            "_model_name": "VBoxModel",
            "_view_module": "@jupyter-widgets/controls",
            "_model_module_version": "1.5.0",
            "_view_count": null,
            "_view_module_version": "1.5.0",
            "box_style": "",
            "layout": "IPY_MODEL_6a9a5e9f405f4476b3859b4d2f5164de",
            "_model_module": "@jupyter-widgets/controls",
            "children": [
              "IPY_MODEL_9f646fdf80ab4367b6cb0e916fa7e7e9",
              "IPY_MODEL_61b1d08489c2482b9f21c386047e1440",
              "IPY_MODEL_74f53bf67de04149bd8c7b6e5d089b46",
              "IPY_MODEL_46ca8a14f1624212809eef7d2033a592"
            ]
          }
        },
        "6a9a5e9f405f4476b3859b4d2f5164de": {
          "model_module": "@jupyter-widgets/base",
          "model_name": "LayoutModel",
          "model_module_version": "1.2.0",
          "state": {
            "_view_name": "LayoutView",
            "grid_template_rows": null,
            "right": null,
            "justify_content": null,
            "_view_module": "@jupyter-widgets/base",
            "overflow": null,
            "_model_module_version": "1.2.0",
            "_view_count": null,
            "flex_flow": null,
            "width": null,
            "min_width": null,
            "border": null,
            "align_items": null,
            "bottom": null,
            "_model_module": "@jupyter-widgets/base",
            "top": null,
            "grid_column": null,
            "overflow_y": null,
            "overflow_x": null,
            "grid_auto_flow": null,
            "grid_area": null,
            "grid_template_columns": null,
            "flex": null,
            "_model_name": "LayoutModel",
            "justify_items": null,
            "grid_row": null,
            "max_height": null,
            "align_content": null,
            "visibility": null,
            "align_self": null,
            "height": null,
            "min_height": null,
            "padding": null,
            "grid_auto_rows": null,
            "grid_gap": null,
            "max_width": null,
            "order": null,
            "_view_module_version": "1.2.0",
            "grid_template_areas": null,
            "object_position": null,
            "object_fit": null,
            "grid_auto_columns": null,
            "margin": null,
            "display": null,
            "left": null
          }
        },
        "9f646fdf80ab4367b6cb0e916fa7e7e9": {
          "model_module": "@jupyter-widgets/controls",
          "model_name": "IntSliderModel",
          "model_module_version": "1.5.0",
          "state": {
            "_view_name": "IntSliderView",
            "style": "IPY_MODEL_7f4a155f69984c898267897057e7a341",
            "_dom_classes": [],
            "description": "giocate",
            "step": 1,
            "_model_name": "IntSliderModel",
            "orientation": "horizontal",
            "max": 10,
            "_view_module": "@jupyter-widgets/controls",
            "_model_module_version": "1.5.0",
            "value": 3,
            "_view_count": null,
            "disabled": false,
            "_view_module_version": "1.5.0",
            "min": 1,
            "continuous_update": true,
            "readout_format": "d",
            "description_tooltip": null,
            "readout": true,
            "_model_module": "@jupyter-widgets/controls",
            "layout": "IPY_MODEL_a775ccebb9be42fc9ad8638c30805322"
          }
        },
        "61b1d08489c2482b9f21c386047e1440": {
          "model_module": "@jupyter-widgets/controls",
          "model_name": "IntSliderModel",
          "model_module_version": "1.5.0",
          "state": {
            "_view_name": "IntSliderView",
            "style": "IPY_MODEL_d4788036655d4acaa3278f279de81de4",
            "_dom_classes": [],
            "description": "puntata",
            "step": 5,
            "_model_name": "IntSliderModel",
            "orientation": "horizontal",
            "max": 100,
            "_view_module": "@jupyter-widgets/controls",
            "_model_module_version": "1.5.0",
            "value": 10,
            "_view_count": null,
            "disabled": false,
            "_view_module_version": "1.5.0",
            "min": 5,
            "continuous_update": true,
            "readout_format": "d",
            "description_tooltip": null,
            "readout": true,
            "_model_module": "@jupyter-widgets/controls",
            "layout": "IPY_MODEL_6a03bc3256bd408090d251d6dab091be"
          }
        },
        "74f53bf67de04149bd8c7b6e5d089b46": {
          "model_module": "@jupyter-widgets/controls",
          "model_name": "ButtonModel",
          "model_module_version": "1.5.0",
          "state": {
            "_view_name": "ButtonView",
            "style": "IPY_MODEL_d44669fd4a3d4576a78ec3a63d1c5ae8",
            "_dom_classes": [],
            "description": "Run Interact",
            "_model_name": "ButtonModel",
            "button_style": "",
            "_view_module": "@jupyter-widgets/controls",
            "_model_module_version": "1.5.0",
            "tooltip": "",
            "_view_count": null,
            "disabled": false,
            "_view_module_version": "1.5.0",
            "layout": "IPY_MODEL_7cc3a809ffdf48acb7511deda0740468",
            "_model_module": "@jupyter-widgets/controls",
            "icon": ""
          }
        },
        "46ca8a14f1624212809eef7d2033a592": {
          "model_module": "@jupyter-widgets/output",
          "model_name": "OutputModel",
          "model_module_version": "1.0.0",
          "state": {
            "_view_name": "OutputView",
            "msg_id": "",
            "_dom_classes": [],
            "_model_name": "OutputModel",
            "outputs": [],
            "_view_module": "@jupyter-widgets/output",
            "_model_module_version": "1.0.0",
            "_view_count": null,
            "_view_module_version": "1.0.0",
            "layout": "IPY_MODEL_b627733223ea4b64b4a072b8f117f532",
            "_model_module": "@jupyter-widgets/output"
          }
        },
        "7f4a155f69984c898267897057e7a341": {
          "model_module": "@jupyter-widgets/controls",
          "model_name": "SliderStyleModel",
          "model_module_version": "1.5.0",
          "state": {
            "_view_name": "StyleView",
            "handle_color": null,
            "_model_name": "SliderStyleModel",
            "description_width": "",
            "_view_module": "@jupyter-widgets/base",
            "_model_module_version": "1.5.0",
            "_view_count": null,
            "_view_module_version": "1.2.0",
            "_model_module": "@jupyter-widgets/controls"
          }
        },
        "a775ccebb9be42fc9ad8638c30805322": {
          "model_module": "@jupyter-widgets/base",
          "model_name": "LayoutModel",
          "model_module_version": "1.2.0",
          "state": {
            "_view_name": "LayoutView",
            "grid_template_rows": null,
            "right": null,
            "justify_content": null,
            "_view_module": "@jupyter-widgets/base",
            "overflow": null,
            "_model_module_version": "1.2.0",
            "_view_count": null,
            "flex_flow": null,
            "width": null,
            "min_width": null,
            "border": null,
            "align_items": null,
            "bottom": null,
            "_model_module": "@jupyter-widgets/base",
            "top": null,
            "grid_column": null,
            "overflow_y": null,
            "overflow_x": null,
            "grid_auto_flow": null,
            "grid_area": null,
            "grid_template_columns": null,
            "flex": null,
            "_model_name": "LayoutModel",
            "justify_items": null,
            "grid_row": null,
            "max_height": null,
            "align_content": null,
            "visibility": null,
            "align_self": null,
            "height": null,
            "min_height": null,
            "padding": null,
            "grid_auto_rows": null,
            "grid_gap": null,
            "max_width": null,
            "order": null,
            "_view_module_version": "1.2.0",
            "grid_template_areas": null,
            "object_position": null,
            "object_fit": null,
            "grid_auto_columns": null,
            "margin": null,
            "display": null,
            "left": null
          }
        },
        "d4788036655d4acaa3278f279de81de4": {
          "model_module": "@jupyter-widgets/controls",
          "model_name": "SliderStyleModel",
          "model_module_version": "1.5.0",
          "state": {
            "_view_name": "StyleView",
            "handle_color": null,
            "_model_name": "SliderStyleModel",
            "description_width": "",
            "_view_module": "@jupyter-widgets/base",
            "_model_module_version": "1.5.0",
            "_view_count": null,
            "_view_module_version": "1.2.0",
            "_model_module": "@jupyter-widgets/controls"
          }
        },
        "6a03bc3256bd408090d251d6dab091be": {
          "model_module": "@jupyter-widgets/base",
          "model_name": "LayoutModel",
          "model_module_version": "1.2.0",
          "state": {
            "_view_name": "LayoutView",
            "grid_template_rows": null,
            "right": null,
            "justify_content": null,
            "_view_module": "@jupyter-widgets/base",
            "overflow": null,
            "_model_module_version": "1.2.0",
            "_view_count": null,
            "flex_flow": null,
            "width": null,
            "min_width": null,
            "border": null,
            "align_items": null,
            "bottom": null,
            "_model_module": "@jupyter-widgets/base",
            "top": null,
            "grid_column": null,
            "overflow_y": null,
            "overflow_x": null,
            "grid_auto_flow": null,
            "grid_area": null,
            "grid_template_columns": null,
            "flex": null,
            "_model_name": "LayoutModel",
            "justify_items": null,
            "grid_row": null,
            "max_height": null,
            "align_content": null,
            "visibility": null,
            "align_self": null,
            "height": null,
            "min_height": null,
            "padding": null,
            "grid_auto_rows": null,
            "grid_gap": null,
            "max_width": null,
            "order": null,
            "_view_module_version": "1.2.0",
            "grid_template_areas": null,
            "object_position": null,
            "object_fit": null,
            "grid_auto_columns": null,
            "margin": null,
            "display": null,
            "left": null
          }
        },
        "d44669fd4a3d4576a78ec3a63d1c5ae8": {
          "model_module": "@jupyter-widgets/controls",
          "model_name": "ButtonStyleModel",
          "model_module_version": "1.5.0",
          "state": {
            "_view_name": "StyleView",
            "_model_name": "ButtonStyleModel",
            "_view_module": "@jupyter-widgets/base",
            "_model_module_version": "1.5.0",
            "_view_count": null,
            "button_color": null,
            "font_weight": "",
            "_view_module_version": "1.2.0",
            "_model_module": "@jupyter-widgets/controls"
          }
        },
        "7cc3a809ffdf48acb7511deda0740468": {
          "model_module": "@jupyter-widgets/base",
          "model_name": "LayoutModel",
          "model_module_version": "1.2.0",
          "state": {
            "_view_name": "LayoutView",
            "grid_template_rows": null,
            "right": null,
            "justify_content": null,
            "_view_module": "@jupyter-widgets/base",
            "overflow": null,
            "_model_module_version": "1.2.0",
            "_view_count": null,
            "flex_flow": null,
            "width": null,
            "min_width": null,
            "border": null,
            "align_items": null,
            "bottom": null,
            "_model_module": "@jupyter-widgets/base",
            "top": null,
            "grid_column": null,
            "overflow_y": null,
            "overflow_x": null,
            "grid_auto_flow": null,
            "grid_area": null,
            "grid_template_columns": null,
            "flex": null,
            "_model_name": "LayoutModel",
            "justify_items": null,
            "grid_row": null,
            "max_height": null,
            "align_content": null,
            "visibility": null,
            "align_self": null,
            "height": null,
            "min_height": null,
            "padding": null,
            "grid_auto_rows": null,
            "grid_gap": null,
            "max_width": null,
            "order": null,
            "_view_module_version": "1.2.0",
            "grid_template_areas": null,
            "object_position": null,
            "object_fit": null,
            "grid_auto_columns": null,
            "margin": null,
            "display": null,
            "left": null
          }
        },
        "b627733223ea4b64b4a072b8f117f532": {
          "model_module": "@jupyter-widgets/base",
          "model_name": "LayoutModel",
          "model_module_version": "1.2.0",
          "state": {
            "_view_name": "LayoutView",
            "grid_template_rows": null,
            "right": null,
            "justify_content": null,
            "_view_module": "@jupyter-widgets/base",
            "overflow": null,
            "_model_module_version": "1.2.0",
            "_view_count": null,
            "flex_flow": null,
            "width": null,
            "min_width": null,
            "border": null,
            "align_items": null,
            "bottom": null,
            "_model_module": "@jupyter-widgets/base",
            "top": null,
            "grid_column": null,
            "overflow_y": null,
            "overflow_x": null,
            "grid_auto_flow": null,
            "grid_area": null,
            "grid_template_columns": null,
            "flex": null,
            "_model_name": "LayoutModel",
            "justify_items": null,
            "grid_row": null,
            "max_height": null,
            "align_content": null,
            "visibility": null,
            "align_self": null,
            "height": null,
            "min_height": null,
            "padding": null,
            "grid_auto_rows": null,
            "grid_gap": null,
            "max_width": null,
            "order": null,
            "_view_module_version": "1.2.0",
            "grid_template_areas": null,
            "object_position": null,
            "object_fit": null,
            "grid_auto_columns": null,
            "margin": null,
            "display": null,
            "left": null
          }
        },
        "2c9bc0b96b8d4d40994e0b581aedd739": {
          "model_module": "@jupyter-widgets/controls",
          "model_name": "VBoxModel",
          "model_module_version": "1.5.0",
          "state": {
            "_view_name": "VBoxView",
            "_dom_classes": [
              "widget-interact"
            ],
            "_model_name": "VBoxModel",
            "_view_module": "@jupyter-widgets/controls",
            "_model_module_version": "1.5.0",
            "_view_count": null,
            "_view_module_version": "1.5.0",
            "box_style": "",
            "layout": "IPY_MODEL_8b24ede8344c456793064ae58d82e029",
            "_model_module": "@jupyter-widgets/controls",
            "children": [
              "IPY_MODEL_bcaa361ca38d4cca8b59fae23713f3ac",
              "IPY_MODEL_3c3683d3370b4c10aa7433bc7678e88c",
              "IPY_MODEL_392ca75f9b2340938364747d79feab46",
              "IPY_MODEL_ffbc0269ac17456b98e30abee1d45a8e"
            ]
          }
        },
        "8b24ede8344c456793064ae58d82e029": {
          "model_module": "@jupyter-widgets/base",
          "model_name": "LayoutModel",
          "model_module_version": "1.2.0",
          "state": {
            "_view_name": "LayoutView",
            "grid_template_rows": null,
            "right": null,
            "justify_content": null,
            "_view_module": "@jupyter-widgets/base",
            "overflow": null,
            "_model_module_version": "1.2.0",
            "_view_count": null,
            "flex_flow": null,
            "width": null,
            "min_width": null,
            "border": null,
            "align_items": null,
            "bottom": null,
            "_model_module": "@jupyter-widgets/base",
            "top": null,
            "grid_column": null,
            "overflow_y": null,
            "overflow_x": null,
            "grid_auto_flow": null,
            "grid_area": null,
            "grid_template_columns": null,
            "flex": null,
            "_model_name": "LayoutModel",
            "justify_items": null,
            "grid_row": null,
            "max_height": null,
            "align_content": null,
            "visibility": null,
            "align_self": null,
            "height": null,
            "min_height": null,
            "padding": null,
            "grid_auto_rows": null,
            "grid_gap": null,
            "max_width": null,
            "order": null,
            "_view_module_version": "1.2.0",
            "grid_template_areas": null,
            "object_position": null,
            "object_fit": null,
            "grid_auto_columns": null,
            "margin": null,
            "display": null,
            "left": null
          }
        },
        "bcaa361ca38d4cca8b59fae23713f3ac": {
          "model_module": "@jupyter-widgets/controls",
          "model_name": "IntSliderModel",
          "model_module_version": "1.5.0",
          "state": {
            "_view_name": "IntSliderView",
            "style": "IPY_MODEL_b5a1d17fef7741c68c806605b7f73b1d",
            "_dom_classes": [],
            "description": "giocate",
            "step": 1,
            "_model_name": "IntSliderModel",
            "orientation": "horizontal",
            "max": 6,
            "_view_module": "@jupyter-widgets/controls",
            "_model_module_version": "1.5.0",
            "value": 3,
            "_view_count": null,
            "disabled": false,
            "_view_module_version": "1.5.0",
            "min": 1,
            "continuous_update": true,
            "readout_format": "d",
            "description_tooltip": null,
            "readout": true,
            "_model_module": "@jupyter-widgets/controls",
            "layout": "IPY_MODEL_13c205a05f174b5aaf4d44f2d2fac87b"
          }
        },
        "3c3683d3370b4c10aa7433bc7678e88c": {
          "model_module": "@jupyter-widgets/controls",
          "model_name": "IntSliderModel",
          "model_module_version": "1.5.0",
          "state": {
            "_view_name": "IntSliderView",
            "style": "IPY_MODEL_7351dd0f0d3140bb9e8050970e526db5",
            "_dom_classes": [],
            "description": "puntata",
            "step": 5,
            "_model_name": "IntSliderModel",
            "orientation": "horizontal",
            "max": 100,
            "_view_module": "@jupyter-widgets/controls",
            "_model_module_version": "1.5.0",
            "value": 5,
            "_view_count": null,
            "disabled": false,
            "_view_module_version": "1.5.0",
            "min": 5,
            "continuous_update": true,
            "readout_format": "d",
            "description_tooltip": null,
            "readout": true,
            "_model_module": "@jupyter-widgets/controls",
            "layout": "IPY_MODEL_ba5fa055875240b9b31b2b003013dfb0"
          }
        },
        "392ca75f9b2340938364747d79feab46": {
          "model_module": "@jupyter-widgets/controls",
          "model_name": "ButtonModel",
          "model_module_version": "1.5.0",
          "state": {
            "_view_name": "ButtonView",
            "style": "IPY_MODEL_adbf8b7aea1449e8b1874aa3a27607e9",
            "_dom_classes": [],
            "description": "Run Interact",
            "_model_name": "ButtonModel",
            "button_style": "",
            "_view_module": "@jupyter-widgets/controls",
            "_model_module_version": "1.5.0",
            "tooltip": "",
            "_view_count": null,
            "disabled": false,
            "_view_module_version": "1.5.0",
            "layout": "IPY_MODEL_1b6d03f969a44f5fbd12736feb077527",
            "_model_module": "@jupyter-widgets/controls",
            "icon": ""
          }
        },
        "ffbc0269ac17456b98e30abee1d45a8e": {
          "model_module": "@jupyter-widgets/output",
          "model_name": "OutputModel",
          "model_module_version": "1.0.0",
          "state": {
            "_view_name": "OutputView",
            "msg_id": "",
            "_dom_classes": [],
            "_model_name": "OutputModel",
            "outputs": [],
            "_view_module": "@jupyter-widgets/output",
            "_model_module_version": "1.0.0",
            "_view_count": null,
            "_view_module_version": "1.0.0",
            "layout": "IPY_MODEL_2407884104ab4d11a9e3e56d84eb0bc7",
            "_model_module": "@jupyter-widgets/output"
          }
        },
        "b5a1d17fef7741c68c806605b7f73b1d": {
          "model_module": "@jupyter-widgets/controls",
          "model_name": "SliderStyleModel",
          "model_module_version": "1.5.0",
          "state": {
            "_view_name": "StyleView",
            "handle_color": null,
            "_model_name": "SliderStyleModel",
            "description_width": "",
            "_view_module": "@jupyter-widgets/base",
            "_model_module_version": "1.5.0",
            "_view_count": null,
            "_view_module_version": "1.2.0",
            "_model_module": "@jupyter-widgets/controls"
          }
        },
        "13c205a05f174b5aaf4d44f2d2fac87b": {
          "model_module": "@jupyter-widgets/base",
          "model_name": "LayoutModel",
          "model_module_version": "1.2.0",
          "state": {
            "_view_name": "LayoutView",
            "grid_template_rows": null,
            "right": null,
            "justify_content": null,
            "_view_module": "@jupyter-widgets/base",
            "overflow": null,
            "_model_module_version": "1.2.0",
            "_view_count": null,
            "flex_flow": null,
            "width": null,
            "min_width": null,
            "border": null,
            "align_items": null,
            "bottom": null,
            "_model_module": "@jupyter-widgets/base",
            "top": null,
            "grid_column": null,
            "overflow_y": null,
            "overflow_x": null,
            "grid_auto_flow": null,
            "grid_area": null,
            "grid_template_columns": null,
            "flex": null,
            "_model_name": "LayoutModel",
            "justify_items": null,
            "grid_row": null,
            "max_height": null,
            "align_content": null,
            "visibility": null,
            "align_self": null,
            "height": null,
            "min_height": null,
            "padding": null,
            "grid_auto_rows": null,
            "grid_gap": null,
            "max_width": null,
            "order": null,
            "_view_module_version": "1.2.0",
            "grid_template_areas": null,
            "object_position": null,
            "object_fit": null,
            "grid_auto_columns": null,
            "margin": null,
            "display": null,
            "left": null
          }
        },
        "7351dd0f0d3140bb9e8050970e526db5": {
          "model_module": "@jupyter-widgets/controls",
          "model_name": "SliderStyleModel",
          "model_module_version": "1.5.0",
          "state": {
            "_view_name": "StyleView",
            "handle_color": null,
            "_model_name": "SliderStyleModel",
            "description_width": "",
            "_view_module": "@jupyter-widgets/base",
            "_model_module_version": "1.5.0",
            "_view_count": null,
            "_view_module_version": "1.2.0",
            "_model_module": "@jupyter-widgets/controls"
          }
        },
        "ba5fa055875240b9b31b2b003013dfb0": {
          "model_module": "@jupyter-widgets/base",
          "model_name": "LayoutModel",
          "model_module_version": "1.2.0",
          "state": {
            "_view_name": "LayoutView",
            "grid_template_rows": null,
            "right": null,
            "justify_content": null,
            "_view_module": "@jupyter-widgets/base",
            "overflow": null,
            "_model_module_version": "1.2.0",
            "_view_count": null,
            "flex_flow": null,
            "width": null,
            "min_width": null,
            "border": null,
            "align_items": null,
            "bottom": null,
            "_model_module": "@jupyter-widgets/base",
            "top": null,
            "grid_column": null,
            "overflow_y": null,
            "overflow_x": null,
            "grid_auto_flow": null,
            "grid_area": null,
            "grid_template_columns": null,
            "flex": null,
            "_model_name": "LayoutModel",
            "justify_items": null,
            "grid_row": null,
            "max_height": null,
            "align_content": null,
            "visibility": null,
            "align_self": null,
            "height": null,
            "min_height": null,
            "padding": null,
            "grid_auto_rows": null,
            "grid_gap": null,
            "max_width": null,
            "order": null,
            "_view_module_version": "1.2.0",
            "grid_template_areas": null,
            "object_position": null,
            "object_fit": null,
            "grid_auto_columns": null,
            "margin": null,
            "display": null,
            "left": null
          }
        },
        "adbf8b7aea1449e8b1874aa3a27607e9": {
          "model_module": "@jupyter-widgets/controls",
          "model_name": "ButtonStyleModel",
          "model_module_version": "1.5.0",
          "state": {
            "_view_name": "StyleView",
            "_model_name": "ButtonStyleModel",
            "_view_module": "@jupyter-widgets/base",
            "_model_module_version": "1.5.0",
            "_view_count": null,
            "button_color": null,
            "font_weight": "",
            "_view_module_version": "1.2.0",
            "_model_module": "@jupyter-widgets/controls"
          }
        },
        "1b6d03f969a44f5fbd12736feb077527": {
          "model_module": "@jupyter-widgets/base",
          "model_name": "LayoutModel",
          "model_module_version": "1.2.0",
          "state": {
            "_view_name": "LayoutView",
            "grid_template_rows": null,
            "right": null,
            "justify_content": null,
            "_view_module": "@jupyter-widgets/base",
            "overflow": null,
            "_model_module_version": "1.2.0",
            "_view_count": null,
            "flex_flow": null,
            "width": null,
            "min_width": null,
            "border": null,
            "align_items": null,
            "bottom": null,
            "_model_module": "@jupyter-widgets/base",
            "top": null,
            "grid_column": null,
            "overflow_y": null,
            "overflow_x": null,
            "grid_auto_flow": null,
            "grid_area": null,
            "grid_template_columns": null,
            "flex": null,
            "_model_name": "LayoutModel",
            "justify_items": null,
            "grid_row": null,
            "max_height": null,
            "align_content": null,
            "visibility": null,
            "align_self": null,
            "height": null,
            "min_height": null,
            "padding": null,
            "grid_auto_rows": null,
            "grid_gap": null,
            "max_width": null,
            "order": null,
            "_view_module_version": "1.2.0",
            "grid_template_areas": null,
            "object_position": null,
            "object_fit": null,
            "grid_auto_columns": null,
            "margin": null,
            "display": null,
            "left": null
          }
        },
        "2407884104ab4d11a9e3e56d84eb0bc7": {
          "model_module": "@jupyter-widgets/base",
          "model_name": "LayoutModel",
          "model_module_version": "1.2.0",
          "state": {
            "_view_name": "LayoutView",
            "grid_template_rows": null,
            "right": null,
            "justify_content": null,
            "_view_module": "@jupyter-widgets/base",
            "overflow": null,
            "_model_module_version": "1.2.0",
            "_view_count": null,
            "flex_flow": null,
            "width": null,
            "min_width": null,
            "border": null,
            "align_items": null,
            "bottom": null,
            "_model_module": "@jupyter-widgets/base",
            "top": null,
            "grid_column": null,
            "overflow_y": null,
            "overflow_x": null,
            "grid_auto_flow": null,
            "grid_area": null,
            "grid_template_columns": null,
            "flex": null,
            "_model_name": "LayoutModel",
            "justify_items": null,
            "grid_row": null,
            "max_height": null,
            "align_content": null,
            "visibility": null,
            "align_self": null,
            "height": null,
            "min_height": null,
            "padding": null,
            "grid_auto_rows": null,
            "grid_gap": null,
            "max_width": null,
            "order": null,
            "_view_module_version": "1.2.0",
            "grid_template_areas": null,
            "object_position": null,
            "object_fit": null,
            "grid_auto_columns": null,
            "margin": null,
            "display": null,
            "left": null
          }
        },
        "6f0f06c0d2664a2395d9eddde5b2a5ac": {
          "model_module": "@jupyter-widgets/controls",
          "model_name": "VBoxModel",
          "model_module_version": "1.5.0",
          "state": {
            "_view_name": "VBoxView",
            "_dom_classes": [
              "widget-interact"
            ],
            "_model_name": "VBoxModel",
            "_view_module": "@jupyter-widgets/controls",
            "_model_module_version": "1.5.0",
            "_view_count": null,
            "_view_module_version": "1.5.0",
            "box_style": "",
            "layout": "IPY_MODEL_5cb6cb612e9b4f97b1a87fd34c0ded84",
            "_model_module": "@jupyter-widgets/controls",
            "children": [
              "IPY_MODEL_904ba35da721491e8002bc575587f5f5",
              "IPY_MODEL_46ddb322635a4f89ac1ae541617370a7",
              "IPY_MODEL_a7a88b85cc124ca2bc2ca36c98c98668"
            ]
          }
        },
        "5cb6cb612e9b4f97b1a87fd34c0ded84": {
          "model_module": "@jupyter-widgets/base",
          "model_name": "LayoutModel",
          "model_module_version": "1.2.0",
          "state": {
            "_view_name": "LayoutView",
            "grid_template_rows": null,
            "right": null,
            "justify_content": null,
            "_view_module": "@jupyter-widgets/base",
            "overflow": null,
            "_model_module_version": "1.2.0",
            "_view_count": null,
            "flex_flow": null,
            "width": null,
            "min_width": null,
            "border": null,
            "align_items": null,
            "bottom": null,
            "_model_module": "@jupyter-widgets/base",
            "top": null,
            "grid_column": null,
            "overflow_y": null,
            "overflow_x": null,
            "grid_auto_flow": null,
            "grid_area": null,
            "grid_template_columns": null,
            "flex": null,
            "_model_name": "LayoutModel",
            "justify_items": null,
            "grid_row": null,
            "max_height": null,
            "align_content": null,
            "visibility": null,
            "align_self": null,
            "height": null,
            "min_height": null,
            "padding": null,
            "grid_auto_rows": null,
            "grid_gap": null,
            "max_width": null,
            "order": null,
            "_view_module_version": "1.2.0",
            "grid_template_areas": null,
            "object_position": null,
            "object_fit": null,
            "grid_auto_columns": null,
            "margin": null,
            "display": null,
            "left": null
          }
        },
        "904ba35da721491e8002bc575587f5f5": {
          "model_module": "@jupyter-widgets/controls",
          "model_name": "IntSliderModel",
          "model_module_version": "1.5.0",
          "state": {
            "_view_name": "IntSliderView",
            "style": "IPY_MODEL_18fb2dfdb8744e84a913810fee8fae62",
            "_dom_classes": [],
            "description": "estrazioni",
            "step": 1,
            "_model_name": "IntSliderModel",
            "orientation": "horizontal",
            "max": 10,
            "_view_module": "@jupyter-widgets/controls",
            "_model_module_version": "1.5.0",
            "value": 3,
            "_view_count": null,
            "disabled": false,
            "_view_module_version": "1.5.0",
            "min": 1,
            "continuous_update": true,
            "readout_format": "d",
            "description_tooltip": null,
            "readout": true,
            "_model_module": "@jupyter-widgets/controls",
            "layout": "IPY_MODEL_d7e365f4edcf4bb9919083166c87a56a"
          }
        },
        "46ddb322635a4f89ac1ae541617370a7": {
          "model_module": "@jupyter-widgets/controls",
          "model_name": "ButtonModel",
          "model_module_version": "1.5.0",
          "state": {
            "_view_name": "ButtonView",
            "style": "IPY_MODEL_2bbbced909d64693a540fc9dfdee6182",
            "_dom_classes": [],
            "description": "Run Interact",
            "_model_name": "ButtonModel",
            "button_style": "",
            "_view_module": "@jupyter-widgets/controls",
            "_model_module_version": "1.5.0",
            "tooltip": "",
            "_view_count": null,
            "disabled": false,
            "_view_module_version": "1.5.0",
            "layout": "IPY_MODEL_bf01b4dbdf384335b501993f4b982589",
            "_model_module": "@jupyter-widgets/controls",
            "icon": ""
          }
        },
        "a7a88b85cc124ca2bc2ca36c98c98668": {
          "model_module": "@jupyter-widgets/output",
          "model_name": "OutputModel",
          "model_module_version": "1.0.0",
          "state": {
            "_view_name": "OutputView",
            "msg_id": "",
            "_dom_classes": [],
            "_model_name": "OutputModel",
            "outputs": [],
            "_view_module": "@jupyter-widgets/output",
            "_model_module_version": "1.0.0",
            "_view_count": null,
            "_view_module_version": "1.0.0",
            "layout": "IPY_MODEL_a40bdde6ae5c4625989a6c995160d64f",
            "_model_module": "@jupyter-widgets/output"
          }
        },
        "18fb2dfdb8744e84a913810fee8fae62": {
          "model_module": "@jupyter-widgets/controls",
          "model_name": "SliderStyleModel",
          "model_module_version": "1.5.0",
          "state": {
            "_view_name": "StyleView",
            "handle_color": null,
            "_model_name": "SliderStyleModel",
            "description_width": "",
            "_view_module": "@jupyter-widgets/base",
            "_model_module_version": "1.5.0",
            "_view_count": null,
            "_view_module_version": "1.2.0",
            "_model_module": "@jupyter-widgets/controls"
          }
        },
        "d7e365f4edcf4bb9919083166c87a56a": {
          "model_module": "@jupyter-widgets/base",
          "model_name": "LayoutModel",
          "model_module_version": "1.2.0",
          "state": {
            "_view_name": "LayoutView",
            "grid_template_rows": null,
            "right": null,
            "justify_content": null,
            "_view_module": "@jupyter-widgets/base",
            "overflow": null,
            "_model_module_version": "1.2.0",
            "_view_count": null,
            "flex_flow": null,
            "width": null,
            "min_width": null,
            "border": null,
            "align_items": null,
            "bottom": null,
            "_model_module": "@jupyter-widgets/base",
            "top": null,
            "grid_column": null,
            "overflow_y": null,
            "overflow_x": null,
            "grid_auto_flow": null,
            "grid_area": null,
            "grid_template_columns": null,
            "flex": null,
            "_model_name": "LayoutModel",
            "justify_items": null,
            "grid_row": null,
            "max_height": null,
            "align_content": null,
            "visibility": null,
            "align_self": null,
            "height": null,
            "min_height": null,
            "padding": null,
            "grid_auto_rows": null,
            "grid_gap": null,
            "max_width": null,
            "order": null,
            "_view_module_version": "1.2.0",
            "grid_template_areas": null,
            "object_position": null,
            "object_fit": null,
            "grid_auto_columns": null,
            "margin": null,
            "display": null,
            "left": null
          }
        },
        "2bbbced909d64693a540fc9dfdee6182": {
          "model_module": "@jupyter-widgets/controls",
          "model_name": "ButtonStyleModel",
          "model_module_version": "1.5.0",
          "state": {
            "_view_name": "StyleView",
            "_model_name": "ButtonStyleModel",
            "_view_module": "@jupyter-widgets/base",
            "_model_module_version": "1.5.0",
            "_view_count": null,
            "button_color": null,
            "font_weight": "",
            "_view_module_version": "1.2.0",
            "_model_module": "@jupyter-widgets/controls"
          }
        },
        "bf01b4dbdf384335b501993f4b982589": {
          "model_module": "@jupyter-widgets/base",
          "model_name": "LayoutModel",
          "model_module_version": "1.2.0",
          "state": {
            "_view_name": "LayoutView",
            "grid_template_rows": null,
            "right": null,
            "justify_content": null,
            "_view_module": "@jupyter-widgets/base",
            "overflow": null,
            "_model_module_version": "1.2.0",
            "_view_count": null,
            "flex_flow": null,
            "width": null,
            "min_width": null,
            "border": null,
            "align_items": null,
            "bottom": null,
            "_model_module": "@jupyter-widgets/base",
            "top": null,
            "grid_column": null,
            "overflow_y": null,
            "overflow_x": null,
            "grid_auto_flow": null,
            "grid_area": null,
            "grid_template_columns": null,
            "flex": null,
            "_model_name": "LayoutModel",
            "justify_items": null,
            "grid_row": null,
            "max_height": null,
            "align_content": null,
            "visibility": null,
            "align_self": null,
            "height": null,
            "min_height": null,
            "padding": null,
            "grid_auto_rows": null,
            "grid_gap": null,
            "max_width": null,
            "order": null,
            "_view_module_version": "1.2.0",
            "grid_template_areas": null,
            "object_position": null,
            "object_fit": null,
            "grid_auto_columns": null,
            "margin": null,
            "display": null,
            "left": null
          }
        },
        "a40bdde6ae5c4625989a6c995160d64f": {
          "model_module": "@jupyter-widgets/base",
          "model_name": "LayoutModel",
          "model_module_version": "1.2.0",
          "state": {
            "_view_name": "LayoutView",
            "grid_template_rows": null,
            "right": null,
            "justify_content": null,
            "_view_module": "@jupyter-widgets/base",
            "overflow": null,
            "_model_module_version": "1.2.0",
            "_view_count": null,
            "flex_flow": null,
            "width": null,
            "min_width": null,
            "border": null,
            "align_items": null,
            "bottom": null,
            "_model_module": "@jupyter-widgets/base",
            "top": null,
            "grid_column": null,
            "overflow_y": null,
            "overflow_x": null,
            "grid_auto_flow": null,
            "grid_area": null,
            "grid_template_columns": null,
            "flex": null,
            "_model_name": "LayoutModel",
            "justify_items": null,
            "grid_row": null,
            "max_height": null,
            "align_content": null,
            "visibility": null,
            "align_self": null,
            "height": null,
            "min_height": null,
            "padding": null,
            "grid_auto_rows": null,
            "grid_gap": null,
            "max_width": null,
            "order": null,
            "_view_module_version": "1.2.0",
            "grid_template_areas": null,
            "object_position": null,
            "object_fit": null,
            "grid_auto_columns": null,
            "margin": null,
            "display": null,
            "left": null
          }
        },
        "49db05ef4baf4a9a850f43db42534e50": {
          "model_module": "@jupyter-widgets/controls",
          "model_name": "VBoxModel",
          "model_module_version": "1.5.0",
          "state": {
            "_view_name": "VBoxView",
            "_dom_classes": [
              "widget-interact"
            ],
            "_model_name": "VBoxModel",
            "_view_module": "@jupyter-widgets/controls",
            "_model_module_version": "1.5.0",
            "_view_count": null,
            "_view_module_version": "1.5.0",
            "box_style": "",
            "layout": "IPY_MODEL_06a380a073d04e928d7c0573088b3267",
            "_model_module": "@jupyter-widgets/controls",
            "children": [
              "IPY_MODEL_be89b9ec5cd1469d841b19933e3925fa",
              "IPY_MODEL_d30915dee0f548c2b9a486b541085749",
              "IPY_MODEL_4c54f029f82048349cfbded225c628ab",
              "IPY_MODEL_fb1d9c9bfd7c4f9f868e0199ea3350f5"
            ]
          }
        },
        "06a380a073d04e928d7c0573088b3267": {
          "model_module": "@jupyter-widgets/base",
          "model_name": "LayoutModel",
          "model_module_version": "1.2.0",
          "state": {
            "_view_name": "LayoutView",
            "grid_template_rows": null,
            "right": null,
            "justify_content": null,
            "_view_module": "@jupyter-widgets/base",
            "overflow": null,
            "_model_module_version": "1.2.0",
            "_view_count": null,
            "flex_flow": null,
            "width": null,
            "min_width": null,
            "border": null,
            "align_items": null,
            "bottom": null,
            "_model_module": "@jupyter-widgets/base",
            "top": null,
            "grid_column": null,
            "overflow_y": null,
            "overflow_x": null,
            "grid_auto_flow": null,
            "grid_area": null,
            "grid_template_columns": null,
            "flex": null,
            "_model_name": "LayoutModel",
            "justify_items": null,
            "grid_row": null,
            "max_height": null,
            "align_content": null,
            "visibility": null,
            "align_self": null,
            "height": null,
            "min_height": null,
            "padding": null,
            "grid_auto_rows": null,
            "grid_gap": null,
            "max_width": null,
            "order": null,
            "_view_module_version": "1.2.0",
            "grid_template_areas": null,
            "object_position": null,
            "object_fit": null,
            "grid_auto_columns": null,
            "margin": null,
            "display": null,
            "left": null
          }
        },
        "be89b9ec5cd1469d841b19933e3925fa": {
          "model_module": "@jupyter-widgets/controls",
          "model_name": "IntSliderModel",
          "model_module_version": "1.5.0",
          "state": {
            "_view_name": "IntSliderView",
            "style": "IPY_MODEL_e923c57077a34abcb698a7621ef4f327",
            "_dom_classes": [],
            "description": "bianche",
            "step": 1,
            "_model_name": "IntSliderModel",
            "orientation": "horizontal",
            "max": 5,
            "_view_module": "@jupyter-widgets/controls",
            "_model_module_version": "1.5.0",
            "value": 2,
            "_view_count": null,
            "disabled": false,
            "_view_module_version": "1.5.0",
            "min": 1,
            "continuous_update": true,
            "readout_format": "d",
            "description_tooltip": null,
            "readout": true,
            "_model_module": "@jupyter-widgets/controls",
            "layout": "IPY_MODEL_e35de19cc7c04f39ba368b9ed4626f80"
          }
        },
        "d30915dee0f548c2b9a486b541085749": {
          "model_module": "@jupyter-widgets/controls",
          "model_name": "IntSliderModel",
          "model_module_version": "1.5.0",
          "state": {
            "_view_name": "IntSliderView",
            "style": "IPY_MODEL_11c555001479444d9e262aa606b8beb3",
            "_dom_classes": [],
            "description": "rosse",
            "step": 1,
            "_model_name": "IntSliderModel",
            "orientation": "horizontal",
            "max": 5,
            "_view_module": "@jupyter-widgets/controls",
            "_model_module_version": "1.5.0",
            "value": 3,
            "_view_count": null,
            "disabled": false,
            "_view_module_version": "1.5.0",
            "min": 1,
            "continuous_update": true,
            "readout_format": "d",
            "description_tooltip": null,
            "readout": true,
            "_model_module": "@jupyter-widgets/controls",
            "layout": "IPY_MODEL_84354ba0d2a24fad8a3280b82e3ecf91"
          }
        },
        "4c54f029f82048349cfbded225c628ab": {
          "model_module": "@jupyter-widgets/controls",
          "model_name": "ButtonModel",
          "model_module_version": "1.5.0",
          "state": {
            "_view_name": "ButtonView",
            "style": "IPY_MODEL_1338da91ec2649fd88c42314651fd51b",
            "_dom_classes": [],
            "description": "Run Interact",
            "_model_name": "ButtonModel",
            "button_style": "",
            "_view_module": "@jupyter-widgets/controls",
            "_model_module_version": "1.5.0",
            "tooltip": "",
            "_view_count": null,
            "disabled": false,
            "_view_module_version": "1.5.0",
            "layout": "IPY_MODEL_8552f5a41d914e2ca26ebfdd272fef82",
            "_model_module": "@jupyter-widgets/controls",
            "icon": ""
          }
        },
        "fb1d9c9bfd7c4f9f868e0199ea3350f5": {
          "model_module": "@jupyter-widgets/output",
          "model_name": "OutputModel",
          "model_module_version": "1.0.0",
          "state": {
            "_view_name": "OutputView",
            "msg_id": "",
            "_dom_classes": [],
            "_model_name": "OutputModel",
            "outputs": [],
            "_view_module": "@jupyter-widgets/output",
            "_model_module_version": "1.0.0",
            "_view_count": null,
            "_view_module_version": "1.0.0",
            "layout": "IPY_MODEL_3285e09fdb254801995319ab9ffab819",
            "_model_module": "@jupyter-widgets/output"
          }
        },
        "e923c57077a34abcb698a7621ef4f327": {
          "model_module": "@jupyter-widgets/controls",
          "model_name": "SliderStyleModel",
          "model_module_version": "1.5.0",
          "state": {
            "_view_name": "StyleView",
            "handle_color": null,
            "_model_name": "SliderStyleModel",
            "description_width": "",
            "_view_module": "@jupyter-widgets/base",
            "_model_module_version": "1.5.0",
            "_view_count": null,
            "_view_module_version": "1.2.0",
            "_model_module": "@jupyter-widgets/controls"
          }
        },
        "e35de19cc7c04f39ba368b9ed4626f80": {
          "model_module": "@jupyter-widgets/base",
          "model_name": "LayoutModel",
          "model_module_version": "1.2.0",
          "state": {
            "_view_name": "LayoutView",
            "grid_template_rows": null,
            "right": null,
            "justify_content": null,
            "_view_module": "@jupyter-widgets/base",
            "overflow": null,
            "_model_module_version": "1.2.0",
            "_view_count": null,
            "flex_flow": null,
            "width": null,
            "min_width": null,
            "border": null,
            "align_items": null,
            "bottom": null,
            "_model_module": "@jupyter-widgets/base",
            "top": null,
            "grid_column": null,
            "overflow_y": null,
            "overflow_x": null,
            "grid_auto_flow": null,
            "grid_area": null,
            "grid_template_columns": null,
            "flex": null,
            "_model_name": "LayoutModel",
            "justify_items": null,
            "grid_row": null,
            "max_height": null,
            "align_content": null,
            "visibility": null,
            "align_self": null,
            "height": null,
            "min_height": null,
            "padding": null,
            "grid_auto_rows": null,
            "grid_gap": null,
            "max_width": null,
            "order": null,
            "_view_module_version": "1.2.0",
            "grid_template_areas": null,
            "object_position": null,
            "object_fit": null,
            "grid_auto_columns": null,
            "margin": null,
            "display": null,
            "left": null
          }
        },
        "11c555001479444d9e262aa606b8beb3": {
          "model_module": "@jupyter-widgets/controls",
          "model_name": "SliderStyleModel",
          "model_module_version": "1.5.0",
          "state": {
            "_view_name": "StyleView",
            "handle_color": null,
            "_model_name": "SliderStyleModel",
            "description_width": "",
            "_view_module": "@jupyter-widgets/base",
            "_model_module_version": "1.5.0",
            "_view_count": null,
            "_view_module_version": "1.2.0",
            "_model_module": "@jupyter-widgets/controls"
          }
        },
        "84354ba0d2a24fad8a3280b82e3ecf91": {
          "model_module": "@jupyter-widgets/base",
          "model_name": "LayoutModel",
          "model_module_version": "1.2.0",
          "state": {
            "_view_name": "LayoutView",
            "grid_template_rows": null,
            "right": null,
            "justify_content": null,
            "_view_module": "@jupyter-widgets/base",
            "overflow": null,
            "_model_module_version": "1.2.0",
            "_view_count": null,
            "flex_flow": null,
            "width": null,
            "min_width": null,
            "border": null,
            "align_items": null,
            "bottom": null,
            "_model_module": "@jupyter-widgets/base",
            "top": null,
            "grid_column": null,
            "overflow_y": null,
            "overflow_x": null,
            "grid_auto_flow": null,
            "grid_area": null,
            "grid_template_columns": null,
            "flex": null,
            "_model_name": "LayoutModel",
            "justify_items": null,
            "grid_row": null,
            "max_height": null,
            "align_content": null,
            "visibility": null,
            "align_self": null,
            "height": null,
            "min_height": null,
            "padding": null,
            "grid_auto_rows": null,
            "grid_gap": null,
            "max_width": null,
            "order": null,
            "_view_module_version": "1.2.0",
            "grid_template_areas": null,
            "object_position": null,
            "object_fit": null,
            "grid_auto_columns": null,
            "margin": null,
            "display": null,
            "left": null
          }
        },
        "1338da91ec2649fd88c42314651fd51b": {
          "model_module": "@jupyter-widgets/controls",
          "model_name": "ButtonStyleModel",
          "model_module_version": "1.5.0",
          "state": {
            "_view_name": "StyleView",
            "_model_name": "ButtonStyleModel",
            "_view_module": "@jupyter-widgets/base",
            "_model_module_version": "1.5.0",
            "_view_count": null,
            "button_color": null,
            "font_weight": "",
            "_view_module_version": "1.2.0",
            "_model_module": "@jupyter-widgets/controls"
          }
        },
        "8552f5a41d914e2ca26ebfdd272fef82": {
          "model_module": "@jupyter-widgets/base",
          "model_name": "LayoutModel",
          "model_module_version": "1.2.0",
          "state": {
            "_view_name": "LayoutView",
            "grid_template_rows": null,
            "right": null,
            "justify_content": null,
            "_view_module": "@jupyter-widgets/base",
            "overflow": null,
            "_model_module_version": "1.2.0",
            "_view_count": null,
            "flex_flow": null,
            "width": null,
            "min_width": null,
            "border": null,
            "align_items": null,
            "bottom": null,
            "_model_module": "@jupyter-widgets/base",
            "top": null,
            "grid_column": null,
            "overflow_y": null,
            "overflow_x": null,
            "grid_auto_flow": null,
            "grid_area": null,
            "grid_template_columns": null,
            "flex": null,
            "_model_name": "LayoutModel",
            "justify_items": null,
            "grid_row": null,
            "max_height": null,
            "align_content": null,
            "visibility": null,
            "align_self": null,
            "height": null,
            "min_height": null,
            "padding": null,
            "grid_auto_rows": null,
            "grid_gap": null,
            "max_width": null,
            "order": null,
            "_view_module_version": "1.2.0",
            "grid_template_areas": null,
            "object_position": null,
            "object_fit": null,
            "grid_auto_columns": null,
            "margin": null,
            "display": null,
            "left": null
          }
        },
        "3285e09fdb254801995319ab9ffab819": {
          "model_module": "@jupyter-widgets/base",
          "model_name": "LayoutModel",
          "model_module_version": "1.2.0",
          "state": {
            "_view_name": "LayoutView",
            "grid_template_rows": null,
            "right": null,
            "justify_content": null,
            "_view_module": "@jupyter-widgets/base",
            "overflow": null,
            "_model_module_version": "1.2.0",
            "_view_count": null,
            "flex_flow": null,
            "width": null,
            "min_width": null,
            "border": null,
            "align_items": null,
            "bottom": null,
            "_model_module": "@jupyter-widgets/base",
            "top": null,
            "grid_column": null,
            "overflow_y": null,
            "overflow_x": null,
            "grid_auto_flow": null,
            "grid_area": null,
            "grid_template_columns": null,
            "flex": null,
            "_model_name": "LayoutModel",
            "justify_items": null,
            "grid_row": null,
            "max_height": null,
            "align_content": null,
            "visibility": null,
            "align_self": null,
            "height": null,
            "min_height": null,
            "padding": null,
            "grid_auto_rows": null,
            "grid_gap": null,
            "max_width": null,
            "order": null,
            "_view_module_version": "1.2.0",
            "grid_template_areas": null,
            "object_position": null,
            "object_fit": null,
            "grid_auto_columns": null,
            "margin": null,
            "display": null,
            "left": null
          }
        },
        "5a95a78998ff454baf82361fbea20b32": {
          "model_module": "@jupyter-widgets/controls",
          "model_name": "VBoxModel",
          "model_module_version": "1.5.0",
          "state": {
            "_view_name": "VBoxView",
            "_dom_classes": [
              "widget-interact"
            ],
            "_model_name": "VBoxModel",
            "_view_module": "@jupyter-widgets/controls",
            "_model_module_version": "1.5.0",
            "_view_count": null,
            "_view_module_version": "1.5.0",
            "box_style": "",
            "layout": "IPY_MODEL_d2fe2d1abb284945b1561c2f265b71bf",
            "_model_module": "@jupyter-widgets/controls",
            "children": [
              "IPY_MODEL_8428c2f07b46413fbb99d081ede67ee4",
              "IPY_MODEL_b465d0ee12084199a5b01c1210fa366f",
              "IPY_MODEL_c9b5d1c5d85a420ea73b28712578ec38",
              "IPY_MODEL_589228169b5c4fbabdb4899af9977192"
            ]
          }
        },
        "d2fe2d1abb284945b1561c2f265b71bf": {
          "model_module": "@jupyter-widgets/base",
          "model_name": "LayoutModel",
          "model_module_version": "1.2.0",
          "state": {
            "_view_name": "LayoutView",
            "grid_template_rows": null,
            "right": null,
            "justify_content": null,
            "_view_module": "@jupyter-widgets/base",
            "overflow": null,
            "_model_module_version": "1.2.0",
            "_view_count": null,
            "flex_flow": null,
            "width": null,
            "min_width": null,
            "border": null,
            "align_items": null,
            "bottom": null,
            "_model_module": "@jupyter-widgets/base",
            "top": null,
            "grid_column": null,
            "overflow_y": null,
            "overflow_x": null,
            "grid_auto_flow": null,
            "grid_area": null,
            "grid_template_columns": null,
            "flex": null,
            "_model_name": "LayoutModel",
            "justify_items": null,
            "grid_row": null,
            "max_height": null,
            "align_content": null,
            "visibility": null,
            "align_self": null,
            "height": null,
            "min_height": null,
            "padding": null,
            "grid_auto_rows": null,
            "grid_gap": null,
            "max_width": null,
            "order": null,
            "_view_module_version": "1.2.0",
            "grid_template_areas": null,
            "object_position": null,
            "object_fit": null,
            "grid_auto_columns": null,
            "margin": null,
            "display": null,
            "left": null
          }
        },
        "8428c2f07b46413fbb99d081ede67ee4": {
          "model_module": "@jupyter-widgets/controls",
          "model_name": "IntSliderModel",
          "model_module_version": "1.5.0",
          "state": {
            "_view_name": "IntSliderView",
            "style": "IPY_MODEL_76eba9e570a24d8cba0c30bb6b9c0fa1",
            "_dom_classes": [],
            "description": "bianche",
            "step": 1,
            "_model_name": "IntSliderModel",
            "orientation": "horizontal",
            "max": 5,
            "_view_module": "@jupyter-widgets/controls",
            "_model_module_version": "1.5.0",
            "value": 2,
            "_view_count": null,
            "disabled": false,
            "_view_module_version": "1.5.0",
            "min": 1,
            "continuous_update": true,
            "readout_format": "d",
            "description_tooltip": null,
            "readout": true,
            "_model_module": "@jupyter-widgets/controls",
            "layout": "IPY_MODEL_62a3aef3b7a4438485702c304f34dbc8"
          }
        },
        "b465d0ee12084199a5b01c1210fa366f": {
          "model_module": "@jupyter-widgets/controls",
          "model_name": "IntSliderModel",
          "model_module_version": "1.5.0",
          "state": {
            "_view_name": "IntSliderView",
            "style": "IPY_MODEL_3d7ebe9778da44cbac23f1929feb07a5",
            "_dom_classes": [],
            "description": "rosse",
            "step": 1,
            "_model_name": "IntSliderModel",
            "orientation": "horizontal",
            "max": 5,
            "_view_module": "@jupyter-widgets/controls",
            "_model_module_version": "1.5.0",
            "value": 3,
            "_view_count": null,
            "disabled": false,
            "_view_module_version": "1.5.0",
            "min": 1,
            "continuous_update": true,
            "readout_format": "d",
            "description_tooltip": null,
            "readout": true,
            "_model_module": "@jupyter-widgets/controls",
            "layout": "IPY_MODEL_5b18c0a0ad6141059a792a144c3009fa"
          }
        },
        "c9b5d1c5d85a420ea73b28712578ec38": {
          "model_module": "@jupyter-widgets/controls",
          "model_name": "ButtonModel",
          "model_module_version": "1.5.0",
          "state": {
            "_view_name": "ButtonView",
            "style": "IPY_MODEL_3fd3ff4d36d345f68b8ce36263c4dfbf",
            "_dom_classes": [],
            "description": "Run Interact",
            "_model_name": "ButtonModel",
            "button_style": "",
            "_view_module": "@jupyter-widgets/controls",
            "_model_module_version": "1.5.0",
            "tooltip": "",
            "_view_count": null,
            "disabled": false,
            "_view_module_version": "1.5.0",
            "layout": "IPY_MODEL_d904a9f7d5504341a3981cd9dedfde71",
            "_model_module": "@jupyter-widgets/controls",
            "icon": ""
          }
        },
        "589228169b5c4fbabdb4899af9977192": {
          "model_module": "@jupyter-widgets/output",
          "model_name": "OutputModel",
          "model_module_version": "1.0.0",
          "state": {
            "_view_name": "OutputView",
            "msg_id": "",
            "_dom_classes": [],
            "_model_name": "OutputModel",
            "outputs": [],
            "_view_module": "@jupyter-widgets/output",
            "_model_module_version": "1.0.0",
            "_view_count": null,
            "_view_module_version": "1.0.0",
            "layout": "IPY_MODEL_42b0e9f74c37467bad9bf3e393123743",
            "_model_module": "@jupyter-widgets/output"
          }
        },
        "76eba9e570a24d8cba0c30bb6b9c0fa1": {
          "model_module": "@jupyter-widgets/controls",
          "model_name": "SliderStyleModel",
          "model_module_version": "1.5.0",
          "state": {
            "_view_name": "StyleView",
            "handle_color": null,
            "_model_name": "SliderStyleModel",
            "description_width": "",
            "_view_module": "@jupyter-widgets/base",
            "_model_module_version": "1.5.0",
            "_view_count": null,
            "_view_module_version": "1.2.0",
            "_model_module": "@jupyter-widgets/controls"
          }
        },
        "62a3aef3b7a4438485702c304f34dbc8": {
          "model_module": "@jupyter-widgets/base",
          "model_name": "LayoutModel",
          "model_module_version": "1.2.0",
          "state": {
            "_view_name": "LayoutView",
            "grid_template_rows": null,
            "right": null,
            "justify_content": null,
            "_view_module": "@jupyter-widgets/base",
            "overflow": null,
            "_model_module_version": "1.2.0",
            "_view_count": null,
            "flex_flow": null,
            "width": null,
            "min_width": null,
            "border": null,
            "align_items": null,
            "bottom": null,
            "_model_module": "@jupyter-widgets/base",
            "top": null,
            "grid_column": null,
            "overflow_y": null,
            "overflow_x": null,
            "grid_auto_flow": null,
            "grid_area": null,
            "grid_template_columns": null,
            "flex": null,
            "_model_name": "LayoutModel",
            "justify_items": null,
            "grid_row": null,
            "max_height": null,
            "align_content": null,
            "visibility": null,
            "align_self": null,
            "height": null,
            "min_height": null,
            "padding": null,
            "grid_auto_rows": null,
            "grid_gap": null,
            "max_width": null,
            "order": null,
            "_view_module_version": "1.2.0",
            "grid_template_areas": null,
            "object_position": null,
            "object_fit": null,
            "grid_auto_columns": null,
            "margin": null,
            "display": null,
            "left": null
          }
        },
        "3d7ebe9778da44cbac23f1929feb07a5": {
          "model_module": "@jupyter-widgets/controls",
          "model_name": "SliderStyleModel",
          "model_module_version": "1.5.0",
          "state": {
            "_view_name": "StyleView",
            "handle_color": null,
            "_model_name": "SliderStyleModel",
            "description_width": "",
            "_view_module": "@jupyter-widgets/base",
            "_model_module_version": "1.5.0",
            "_view_count": null,
            "_view_module_version": "1.2.0",
            "_model_module": "@jupyter-widgets/controls"
          }
        },
        "5b18c0a0ad6141059a792a144c3009fa": {
          "model_module": "@jupyter-widgets/base",
          "model_name": "LayoutModel",
          "model_module_version": "1.2.0",
          "state": {
            "_view_name": "LayoutView",
            "grid_template_rows": null,
            "right": null,
            "justify_content": null,
            "_view_module": "@jupyter-widgets/base",
            "overflow": null,
            "_model_module_version": "1.2.0",
            "_view_count": null,
            "flex_flow": null,
            "width": null,
            "min_width": null,
            "border": null,
            "align_items": null,
            "bottom": null,
            "_model_module": "@jupyter-widgets/base",
            "top": null,
            "grid_column": null,
            "overflow_y": null,
            "overflow_x": null,
            "grid_auto_flow": null,
            "grid_area": null,
            "grid_template_columns": null,
            "flex": null,
            "_model_name": "LayoutModel",
            "justify_items": null,
            "grid_row": null,
            "max_height": null,
            "align_content": null,
            "visibility": null,
            "align_self": null,
            "height": null,
            "min_height": null,
            "padding": null,
            "grid_auto_rows": null,
            "grid_gap": null,
            "max_width": null,
            "order": null,
            "_view_module_version": "1.2.0",
            "grid_template_areas": null,
            "object_position": null,
            "object_fit": null,
            "grid_auto_columns": null,
            "margin": null,
            "display": null,
            "left": null
          }
        },
        "3fd3ff4d36d345f68b8ce36263c4dfbf": {
          "model_module": "@jupyter-widgets/controls",
          "model_name": "ButtonStyleModel",
          "model_module_version": "1.5.0",
          "state": {
            "_view_name": "StyleView",
            "_model_name": "ButtonStyleModel",
            "_view_module": "@jupyter-widgets/base",
            "_model_module_version": "1.5.0",
            "_view_count": null,
            "button_color": null,
            "font_weight": "",
            "_view_module_version": "1.2.0",
            "_model_module": "@jupyter-widgets/controls"
          }
        },
        "d904a9f7d5504341a3981cd9dedfde71": {
          "model_module": "@jupyter-widgets/base",
          "model_name": "LayoutModel",
          "model_module_version": "1.2.0",
          "state": {
            "_view_name": "LayoutView",
            "grid_template_rows": null,
            "right": null,
            "justify_content": null,
            "_view_module": "@jupyter-widgets/base",
            "overflow": null,
            "_model_module_version": "1.2.0",
            "_view_count": null,
            "flex_flow": null,
            "width": null,
            "min_width": null,
            "border": null,
            "align_items": null,
            "bottom": null,
            "_model_module": "@jupyter-widgets/base",
            "top": null,
            "grid_column": null,
            "overflow_y": null,
            "overflow_x": null,
            "grid_auto_flow": null,
            "grid_area": null,
            "grid_template_columns": null,
            "flex": null,
            "_model_name": "LayoutModel",
            "justify_items": null,
            "grid_row": null,
            "max_height": null,
            "align_content": null,
            "visibility": null,
            "align_self": null,
            "height": null,
            "min_height": null,
            "padding": null,
            "grid_auto_rows": null,
            "grid_gap": null,
            "max_width": null,
            "order": null,
            "_view_module_version": "1.2.0",
            "grid_template_areas": null,
            "object_position": null,
            "object_fit": null,
            "grid_auto_columns": null,
            "margin": null,
            "display": null,
            "left": null
          }
        },
        "42b0e9f74c37467bad9bf3e393123743": {
          "model_module": "@jupyter-widgets/base",
          "model_name": "LayoutModel",
          "model_module_version": "1.2.0",
          "state": {
            "_view_name": "LayoutView",
            "grid_template_rows": null,
            "right": null,
            "justify_content": null,
            "_view_module": "@jupyter-widgets/base",
            "overflow": null,
            "_model_module_version": "1.2.0",
            "_view_count": null,
            "flex_flow": null,
            "width": null,
            "min_width": null,
            "border": null,
            "align_items": null,
            "bottom": null,
            "_model_module": "@jupyter-widgets/base",
            "top": null,
            "grid_column": null,
            "overflow_y": null,
            "overflow_x": null,
            "grid_auto_flow": null,
            "grid_area": null,
            "grid_template_columns": null,
            "flex": null,
            "_model_name": "LayoutModel",
            "justify_items": null,
            "grid_row": null,
            "max_height": null,
            "align_content": null,
            "visibility": null,
            "align_self": null,
            "height": null,
            "min_height": null,
            "padding": null,
            "grid_auto_rows": null,
            "grid_gap": null,
            "max_width": null,
            "order": null,
            "_view_module_version": "1.2.0",
            "grid_template_areas": null,
            "object_position": null,
            "object_fit": null,
            "grid_auto_columns": null,
            "margin": null,
            "display": null,
            "left": null
          }
        },
        "ee03aad2c354407aabca07db614d2703": {
          "model_module": "@jupyter-widgets/controls",
          "model_name": "VBoxModel",
          "model_module_version": "1.5.0",
          "state": {
            "_view_name": "VBoxView",
            "_dom_classes": [
              "widget-interact"
            ],
            "_model_name": "VBoxModel",
            "_view_module": "@jupyter-widgets/controls",
            "_model_module_version": "1.5.0",
            "_view_count": null,
            "_view_module_version": "1.5.0",
            "box_style": "",
            "layout": "IPY_MODEL_12b896bce5074b0bbf34ad3ce9cd69d4",
            "_model_module": "@jupyter-widgets/controls",
            "children": [
              "IPY_MODEL_975fac20e38b4fb6969209f1501e32ce",
              "IPY_MODEL_8c32492e064e44618d737bb45841c68d",
              "IPY_MODEL_8fa66fc684914ad1bf9dbdc9a1d471b1"
            ]
          }
        },
        "12b896bce5074b0bbf34ad3ce9cd69d4": {
          "model_module": "@jupyter-widgets/base",
          "model_name": "LayoutModel",
          "model_module_version": "1.2.0",
          "state": {
            "_view_name": "LayoutView",
            "grid_template_rows": null,
            "right": null,
            "justify_content": null,
            "_view_module": "@jupyter-widgets/base",
            "overflow": null,
            "_model_module_version": "1.2.0",
            "_view_count": null,
            "flex_flow": null,
            "width": null,
            "min_width": null,
            "border": null,
            "align_items": null,
            "bottom": null,
            "_model_module": "@jupyter-widgets/base",
            "top": null,
            "grid_column": null,
            "overflow_y": null,
            "overflow_x": null,
            "grid_auto_flow": null,
            "grid_area": null,
            "grid_template_columns": null,
            "flex": null,
            "_model_name": "LayoutModel",
            "justify_items": null,
            "grid_row": null,
            "max_height": null,
            "align_content": null,
            "visibility": null,
            "align_self": null,
            "height": null,
            "min_height": null,
            "padding": null,
            "grid_auto_rows": null,
            "grid_gap": null,
            "max_width": null,
            "order": null,
            "_view_module_version": "1.2.0",
            "grid_template_areas": null,
            "object_position": null,
            "object_fit": null,
            "grid_auto_columns": null,
            "margin": null,
            "display": null,
            "left": null
          }
        },
        "975fac20e38b4fb6969209f1501e32ce": {
          "model_module": "@jupyter-widgets/controls",
          "model_name": "IntSliderModel",
          "model_module_version": "1.5.0",
          "state": {
            "_view_name": "IntSliderView",
            "style": "IPY_MODEL_d410d0b3832645d18d3f342cd9bbe2e7",
            "_dom_classes": [],
            "description": "tempo",
            "step": 1,
            "_model_name": "IntSliderModel",
            "orientation": "horizontal",
            "max": 20,
            "_view_module": "@jupyter-widgets/controls",
            "_model_module_version": "1.5.0",
            "value": 10,
            "_view_count": null,
            "disabled": false,
            "_view_module_version": "1.5.0",
            "min": 1,
            "continuous_update": true,
            "readout_format": "d",
            "description_tooltip": null,
            "readout": true,
            "_model_module": "@jupyter-widgets/controls",
            "layout": "IPY_MODEL_65cfb1634e9c4698904b81c053f3c980"
          }
        },
        "8c32492e064e44618d737bb45841c68d": {
          "model_module": "@jupyter-widgets/controls",
          "model_name": "ButtonModel",
          "model_module_version": "1.5.0",
          "state": {
            "_view_name": "ButtonView",
            "style": "IPY_MODEL_68d3b045a74c4f029312e1fbd7a1f2eb",
            "_dom_classes": [],
            "description": "Run Interact",
            "_model_name": "ButtonModel",
            "button_style": "",
            "_view_module": "@jupyter-widgets/controls",
            "_model_module_version": "1.5.0",
            "tooltip": "",
            "_view_count": null,
            "disabled": false,
            "_view_module_version": "1.5.0",
            "layout": "IPY_MODEL_8c08f680d7ac4450ad83ad2b313e1fce",
            "_model_module": "@jupyter-widgets/controls",
            "icon": ""
          }
        },
        "8fa66fc684914ad1bf9dbdc9a1d471b1": {
          "model_module": "@jupyter-widgets/output",
          "model_name": "OutputModel",
          "model_module_version": "1.0.0",
          "state": {
            "_view_name": "OutputView",
            "msg_id": "",
            "_dom_classes": [],
            "_model_name": "OutputModel",
            "outputs": [],
            "_view_module": "@jupyter-widgets/output",
            "_model_module_version": "1.0.0",
            "_view_count": null,
            "_view_module_version": "1.0.0",
            "layout": "IPY_MODEL_bce24d0f48fa4fd9a6dab9c4ebf7a4f0",
            "_model_module": "@jupyter-widgets/output"
          }
        },
        "d410d0b3832645d18d3f342cd9bbe2e7": {
          "model_module": "@jupyter-widgets/controls",
          "model_name": "SliderStyleModel",
          "model_module_version": "1.5.0",
          "state": {
            "_view_name": "StyleView",
            "handle_color": null,
            "_model_name": "SliderStyleModel",
            "description_width": "",
            "_view_module": "@jupyter-widgets/base",
            "_model_module_version": "1.5.0",
            "_view_count": null,
            "_view_module_version": "1.2.0",
            "_model_module": "@jupyter-widgets/controls"
          }
        },
        "65cfb1634e9c4698904b81c053f3c980": {
          "model_module": "@jupyter-widgets/base",
          "model_name": "LayoutModel",
          "model_module_version": "1.2.0",
          "state": {
            "_view_name": "LayoutView",
            "grid_template_rows": null,
            "right": null,
            "justify_content": null,
            "_view_module": "@jupyter-widgets/base",
            "overflow": null,
            "_model_module_version": "1.2.0",
            "_view_count": null,
            "flex_flow": null,
            "width": null,
            "min_width": null,
            "border": null,
            "align_items": null,
            "bottom": null,
            "_model_module": "@jupyter-widgets/base",
            "top": null,
            "grid_column": null,
            "overflow_y": null,
            "overflow_x": null,
            "grid_auto_flow": null,
            "grid_area": null,
            "grid_template_columns": null,
            "flex": null,
            "_model_name": "LayoutModel",
            "justify_items": null,
            "grid_row": null,
            "max_height": null,
            "align_content": null,
            "visibility": null,
            "align_self": null,
            "height": null,
            "min_height": null,
            "padding": null,
            "grid_auto_rows": null,
            "grid_gap": null,
            "max_width": null,
            "order": null,
            "_view_module_version": "1.2.0",
            "grid_template_areas": null,
            "object_position": null,
            "object_fit": null,
            "grid_auto_columns": null,
            "margin": null,
            "display": null,
            "left": null
          }
        },
        "68d3b045a74c4f029312e1fbd7a1f2eb": {
          "model_module": "@jupyter-widgets/controls",
          "model_name": "ButtonStyleModel",
          "model_module_version": "1.5.0",
          "state": {
            "_view_name": "StyleView",
            "_model_name": "ButtonStyleModel",
            "_view_module": "@jupyter-widgets/base",
            "_model_module_version": "1.5.0",
            "_view_count": null,
            "button_color": null,
            "font_weight": "",
            "_view_module_version": "1.2.0",
            "_model_module": "@jupyter-widgets/controls"
          }
        },
        "8c08f680d7ac4450ad83ad2b313e1fce": {
          "model_module": "@jupyter-widgets/base",
          "model_name": "LayoutModel",
          "model_module_version": "1.2.0",
          "state": {
            "_view_name": "LayoutView",
            "grid_template_rows": null,
            "right": null,
            "justify_content": null,
            "_view_module": "@jupyter-widgets/base",
            "overflow": null,
            "_model_module_version": "1.2.0",
            "_view_count": null,
            "flex_flow": null,
            "width": null,
            "min_width": null,
            "border": null,
            "align_items": null,
            "bottom": null,
            "_model_module": "@jupyter-widgets/base",
            "top": null,
            "grid_column": null,
            "overflow_y": null,
            "overflow_x": null,
            "grid_auto_flow": null,
            "grid_area": null,
            "grid_template_columns": null,
            "flex": null,
            "_model_name": "LayoutModel",
            "justify_items": null,
            "grid_row": null,
            "max_height": null,
            "align_content": null,
            "visibility": null,
            "align_self": null,
            "height": null,
            "min_height": null,
            "padding": null,
            "grid_auto_rows": null,
            "grid_gap": null,
            "max_width": null,
            "order": null,
            "_view_module_version": "1.2.0",
            "grid_template_areas": null,
            "object_position": null,
            "object_fit": null,
            "grid_auto_columns": null,
            "margin": null,
            "display": null,
            "left": null
          }
        },
        "bce24d0f48fa4fd9a6dab9c4ebf7a4f0": {
          "model_module": "@jupyter-widgets/base",
          "model_name": "LayoutModel",
          "model_module_version": "1.2.0",
          "state": {
            "_view_name": "LayoutView",
            "grid_template_rows": null,
            "right": null,
            "justify_content": null,
            "_view_module": "@jupyter-widgets/base",
            "overflow": null,
            "_model_module_version": "1.2.0",
            "_view_count": null,
            "flex_flow": null,
            "width": null,
            "min_width": null,
            "border": null,
            "align_items": null,
            "bottom": null,
            "_model_module": "@jupyter-widgets/base",
            "top": null,
            "grid_column": null,
            "overflow_y": null,
            "overflow_x": null,
            "grid_auto_flow": null,
            "grid_area": null,
            "grid_template_columns": null,
            "flex": null,
            "_model_name": "LayoutModel",
            "justify_items": null,
            "grid_row": null,
            "max_height": null,
            "align_content": null,
            "visibility": null,
            "align_self": null,
            "height": null,
            "min_height": null,
            "padding": null,
            "grid_auto_rows": null,
            "grid_gap": null,
            "max_width": null,
            "order": null,
            "_view_module_version": "1.2.0",
            "grid_template_areas": null,
            "object_position": null,
            "object_fit": null,
            "grid_auto_columns": null,
            "margin": null,
            "display": null,
            "left": null
          }
        },
        "6997319bbec848e6a9e1c0adb0c2f548": {
          "model_module": "@jupyter-widgets/controls",
          "model_name": "VBoxModel",
          "model_module_version": "1.5.0",
          "state": {
            "_view_name": "VBoxView",
            "_dom_classes": [
              "widget-interact"
            ],
            "_model_name": "VBoxModel",
            "_view_module": "@jupyter-widgets/controls",
            "_model_module_version": "1.5.0",
            "_view_count": null,
            "_view_module_version": "1.5.0",
            "box_style": "",
            "layout": "IPY_MODEL_5bc7e204740d473cbbbeadc1d88e84e2",
            "_model_module": "@jupyter-widgets/controls",
            "children": [
              "IPY_MODEL_6cf225b91e424f9fa21cefe72a5320a0",
              "IPY_MODEL_efc5079c7c4649ee89587f252086a2bd",
              "IPY_MODEL_760438eac24d4c10af4b7d44efbcb4a8",
              "IPY_MODEL_72cf2fad4ba14a478f6945831afb9b77"
            ]
          }
        },
        "5bc7e204740d473cbbbeadc1d88e84e2": {
          "model_module": "@jupyter-widgets/base",
          "model_name": "LayoutModel",
          "model_module_version": "1.2.0",
          "state": {
            "_view_name": "LayoutView",
            "grid_template_rows": null,
            "right": null,
            "justify_content": null,
            "_view_module": "@jupyter-widgets/base",
            "overflow": null,
            "_model_module_version": "1.2.0",
            "_view_count": null,
            "flex_flow": null,
            "width": null,
            "min_width": null,
            "border": null,
            "align_items": null,
            "bottom": null,
            "_model_module": "@jupyter-widgets/base",
            "top": null,
            "grid_column": null,
            "overflow_y": null,
            "overflow_x": null,
            "grid_auto_flow": null,
            "grid_area": null,
            "grid_template_columns": null,
            "flex": null,
            "_model_name": "LayoutModel",
            "justify_items": null,
            "grid_row": null,
            "max_height": null,
            "align_content": null,
            "visibility": null,
            "align_self": null,
            "height": null,
            "min_height": null,
            "padding": null,
            "grid_auto_rows": null,
            "grid_gap": null,
            "max_width": null,
            "order": null,
            "_view_module_version": "1.2.0",
            "grid_template_areas": null,
            "object_position": null,
            "object_fit": null,
            "grid_auto_columns": null,
            "margin": null,
            "display": null,
            "left": null
          }
        },
        "6cf225b91e424f9fa21cefe72a5320a0": {
          "model_module": "@jupyter-widgets/controls",
          "model_name": "IntSliderModel",
          "model_module_version": "1.5.0",
          "state": {
            "_view_name": "IntSliderView",
            "style": "IPY_MODEL_b9d19ed9d7a3490a8fa86179f57dcc33",
            "_dom_classes": [],
            "description": "a",
            "step": 1,
            "_model_name": "IntSliderModel",
            "orientation": "horizontal",
            "max": 10,
            "_view_module": "@jupyter-widgets/controls",
            "_model_module_version": "1.5.0",
            "value": 4,
            "_view_count": null,
            "disabled": false,
            "_view_module_version": "1.5.0",
            "min": 0,
            "continuous_update": true,
            "readout_format": "d",
            "description_tooltip": null,
            "readout": true,
            "_model_module": "@jupyter-widgets/controls",
            "layout": "IPY_MODEL_701ab8f68bb54c51ab4c6c1d8153f624"
          }
        },
        "efc5079c7c4649ee89587f252086a2bd": {
          "model_module": "@jupyter-widgets/controls",
          "model_name": "IntSliderModel",
          "model_module_version": "1.5.0",
          "state": {
            "_view_name": "IntSliderView",
            "style": "IPY_MODEL_9705511027c848119395ee87b570d82a",
            "_dom_classes": [],
            "description": "b",
            "step": 1,
            "_model_name": "IntSliderModel",
            "orientation": "horizontal",
            "max": 10,
            "_view_module": "@jupyter-widgets/controls",
            "_model_module_version": "1.5.0",
            "value": 6,
            "_view_count": null,
            "disabled": false,
            "_view_module_version": "1.5.0",
            "min": 0,
            "continuous_update": true,
            "readout_format": "d",
            "description_tooltip": null,
            "readout": true,
            "_model_module": "@jupyter-widgets/controls",
            "layout": "IPY_MODEL_fa57ca81b278412c897fcd1f3c324b2e"
          }
        },
        "760438eac24d4c10af4b7d44efbcb4a8": {
          "model_module": "@jupyter-widgets/controls",
          "model_name": "ButtonModel",
          "model_module_version": "1.5.0",
          "state": {
            "_view_name": "ButtonView",
            "style": "IPY_MODEL_db74d22dd7554a68a0a52d6c2672eeff",
            "_dom_classes": [],
            "description": "Run Interact",
            "_model_name": "ButtonModel",
            "button_style": "",
            "_view_module": "@jupyter-widgets/controls",
            "_model_module_version": "1.5.0",
            "tooltip": "",
            "_view_count": null,
            "disabled": false,
            "_view_module_version": "1.5.0",
            "layout": "IPY_MODEL_b62e6fb206b14c74ae0c71f0343c3fd3",
            "_model_module": "@jupyter-widgets/controls",
            "icon": ""
          }
        },
        "72cf2fad4ba14a478f6945831afb9b77": {
          "model_module": "@jupyter-widgets/output",
          "model_name": "OutputModel",
          "model_module_version": "1.0.0",
          "state": {
            "_view_name": "OutputView",
            "msg_id": "",
            "_dom_classes": [],
            "_model_name": "OutputModel",
            "outputs": [],
            "_view_module": "@jupyter-widgets/output",
            "_model_module_version": "1.0.0",
            "_view_count": null,
            "_view_module_version": "1.0.0",
            "layout": "IPY_MODEL_8d13ff3236f340a981cd3e80243ce43a",
            "_model_module": "@jupyter-widgets/output"
          }
        },
        "b9d19ed9d7a3490a8fa86179f57dcc33": {
          "model_module": "@jupyter-widgets/controls",
          "model_name": "SliderStyleModel",
          "model_module_version": "1.5.0",
          "state": {
            "_view_name": "StyleView",
            "handle_color": null,
            "_model_name": "SliderStyleModel",
            "description_width": "",
            "_view_module": "@jupyter-widgets/base",
            "_model_module_version": "1.5.0",
            "_view_count": null,
            "_view_module_version": "1.2.0",
            "_model_module": "@jupyter-widgets/controls"
          }
        },
        "701ab8f68bb54c51ab4c6c1d8153f624": {
          "model_module": "@jupyter-widgets/base",
          "model_name": "LayoutModel",
          "model_module_version": "1.2.0",
          "state": {
            "_view_name": "LayoutView",
            "grid_template_rows": null,
            "right": null,
            "justify_content": null,
            "_view_module": "@jupyter-widgets/base",
            "overflow": null,
            "_model_module_version": "1.2.0",
            "_view_count": null,
            "flex_flow": null,
            "width": null,
            "min_width": null,
            "border": null,
            "align_items": null,
            "bottom": null,
            "_model_module": "@jupyter-widgets/base",
            "top": null,
            "grid_column": null,
            "overflow_y": null,
            "overflow_x": null,
            "grid_auto_flow": null,
            "grid_area": null,
            "grid_template_columns": null,
            "flex": null,
            "_model_name": "LayoutModel",
            "justify_items": null,
            "grid_row": null,
            "max_height": null,
            "align_content": null,
            "visibility": null,
            "align_self": null,
            "height": null,
            "min_height": null,
            "padding": null,
            "grid_auto_rows": null,
            "grid_gap": null,
            "max_width": null,
            "order": null,
            "_view_module_version": "1.2.0",
            "grid_template_areas": null,
            "object_position": null,
            "object_fit": null,
            "grid_auto_columns": null,
            "margin": null,
            "display": null,
            "left": null
          }
        },
        "9705511027c848119395ee87b570d82a": {
          "model_module": "@jupyter-widgets/controls",
          "model_name": "SliderStyleModel",
          "model_module_version": "1.5.0",
          "state": {
            "_view_name": "StyleView",
            "handle_color": null,
            "_model_name": "SliderStyleModel",
            "description_width": "",
            "_view_module": "@jupyter-widgets/base",
            "_model_module_version": "1.5.0",
            "_view_count": null,
            "_view_module_version": "1.2.0",
            "_model_module": "@jupyter-widgets/controls"
          }
        },
        "fa57ca81b278412c897fcd1f3c324b2e": {
          "model_module": "@jupyter-widgets/base",
          "model_name": "LayoutModel",
          "model_module_version": "1.2.0",
          "state": {
            "_view_name": "LayoutView",
            "grid_template_rows": null,
            "right": null,
            "justify_content": null,
            "_view_module": "@jupyter-widgets/base",
            "overflow": null,
            "_model_module_version": "1.2.0",
            "_view_count": null,
            "flex_flow": null,
            "width": null,
            "min_width": null,
            "border": null,
            "align_items": null,
            "bottom": null,
            "_model_module": "@jupyter-widgets/base",
            "top": null,
            "grid_column": null,
            "overflow_y": null,
            "overflow_x": null,
            "grid_auto_flow": null,
            "grid_area": null,
            "grid_template_columns": null,
            "flex": null,
            "_model_name": "LayoutModel",
            "justify_items": null,
            "grid_row": null,
            "max_height": null,
            "align_content": null,
            "visibility": null,
            "align_self": null,
            "height": null,
            "min_height": null,
            "padding": null,
            "grid_auto_rows": null,
            "grid_gap": null,
            "max_width": null,
            "order": null,
            "_view_module_version": "1.2.0",
            "grid_template_areas": null,
            "object_position": null,
            "object_fit": null,
            "grid_auto_columns": null,
            "margin": null,
            "display": null,
            "left": null
          }
        },
        "db74d22dd7554a68a0a52d6c2672eeff": {
          "model_module": "@jupyter-widgets/controls",
          "model_name": "ButtonStyleModel",
          "model_module_version": "1.5.0",
          "state": {
            "_view_name": "StyleView",
            "_model_name": "ButtonStyleModel",
            "_view_module": "@jupyter-widgets/base",
            "_model_module_version": "1.5.0",
            "_view_count": null,
            "button_color": null,
            "font_weight": "",
            "_view_module_version": "1.2.0",
            "_model_module": "@jupyter-widgets/controls"
          }
        },
        "b62e6fb206b14c74ae0c71f0343c3fd3": {
          "model_module": "@jupyter-widgets/base",
          "model_name": "LayoutModel",
          "model_module_version": "1.2.0",
          "state": {
            "_view_name": "LayoutView",
            "grid_template_rows": null,
            "right": null,
            "justify_content": null,
            "_view_module": "@jupyter-widgets/base",
            "overflow": null,
            "_model_module_version": "1.2.0",
            "_view_count": null,
            "flex_flow": null,
            "width": null,
            "min_width": null,
            "border": null,
            "align_items": null,
            "bottom": null,
            "_model_module": "@jupyter-widgets/base",
            "top": null,
            "grid_column": null,
            "overflow_y": null,
            "overflow_x": null,
            "grid_auto_flow": null,
            "grid_area": null,
            "grid_template_columns": null,
            "flex": null,
            "_model_name": "LayoutModel",
            "justify_items": null,
            "grid_row": null,
            "max_height": null,
            "align_content": null,
            "visibility": null,
            "align_self": null,
            "height": null,
            "min_height": null,
            "padding": null,
            "grid_auto_rows": null,
            "grid_gap": null,
            "max_width": null,
            "order": null,
            "_view_module_version": "1.2.0",
            "grid_template_areas": null,
            "object_position": null,
            "object_fit": null,
            "grid_auto_columns": null,
            "margin": null,
            "display": null,
            "left": null
          }
        },
        "8d13ff3236f340a981cd3e80243ce43a": {
          "model_module": "@jupyter-widgets/base",
          "model_name": "LayoutModel",
          "model_module_version": "1.2.0",
          "state": {
            "_view_name": "LayoutView",
            "grid_template_rows": null,
            "right": null,
            "justify_content": null,
            "_view_module": "@jupyter-widgets/base",
            "overflow": null,
            "_model_module_version": "1.2.0",
            "_view_count": null,
            "flex_flow": null,
            "width": null,
            "min_width": null,
            "border": null,
            "align_items": null,
            "bottom": null,
            "_model_module": "@jupyter-widgets/base",
            "top": null,
            "grid_column": null,
            "overflow_y": null,
            "overflow_x": null,
            "grid_auto_flow": null,
            "grid_area": null,
            "grid_template_columns": null,
            "flex": null,
            "_model_name": "LayoutModel",
            "justify_items": null,
            "grid_row": null,
            "max_height": null,
            "align_content": null,
            "visibility": null,
            "align_self": null,
            "height": null,
            "min_height": null,
            "padding": null,
            "grid_auto_rows": null,
            "grid_gap": null,
            "max_width": null,
            "order": null,
            "_view_module_version": "1.2.0",
            "grid_template_areas": null,
            "object_position": null,
            "object_fit": null,
            "grid_auto_columns": null,
            "margin": null,
            "display": null,
            "left": null
          }
        },
        "6b5858f0966e49f8b52b012fe88d4ae5": {
          "model_module": "@jupyter-widgets/controls",
          "model_name": "VBoxModel",
          "model_module_version": "1.5.0",
          "state": {
            "_view_name": "VBoxView",
            "_dom_classes": [
              "widget-interact"
            ],
            "_model_name": "VBoxModel",
            "_view_module": "@jupyter-widgets/controls",
            "_model_module_version": "1.5.0",
            "_view_count": null,
            "_view_module_version": "1.5.0",
            "box_style": "",
            "layout": "IPY_MODEL_327daafeb9fe44b0b2faad610a8b2d81",
            "_model_module": "@jupyter-widgets/controls",
            "children": [
              "IPY_MODEL_d6bcec39134744b9911357537432a6c4",
              "IPY_MODEL_455043177ac8429ebd857507189cee68",
              "IPY_MODEL_61b714b9ddb141bb9a65b4c3763a2d5f"
            ]
          }
        },
        "327daafeb9fe44b0b2faad610a8b2d81": {
          "model_module": "@jupyter-widgets/base",
          "model_name": "LayoutModel",
          "model_module_version": "1.2.0",
          "state": {
            "_view_name": "LayoutView",
            "grid_template_rows": null,
            "right": null,
            "justify_content": null,
            "_view_module": "@jupyter-widgets/base",
            "overflow": null,
            "_model_module_version": "1.2.0",
            "_view_count": null,
            "flex_flow": null,
            "width": null,
            "min_width": null,
            "border": null,
            "align_items": null,
            "bottom": null,
            "_model_module": "@jupyter-widgets/base",
            "top": null,
            "grid_column": null,
            "overflow_y": null,
            "overflow_x": null,
            "grid_auto_flow": null,
            "grid_area": null,
            "grid_template_columns": null,
            "flex": null,
            "_model_name": "LayoutModel",
            "justify_items": null,
            "grid_row": null,
            "max_height": null,
            "align_content": null,
            "visibility": null,
            "align_self": null,
            "height": null,
            "min_height": null,
            "padding": null,
            "grid_auto_rows": null,
            "grid_gap": null,
            "max_width": null,
            "order": null,
            "_view_module_version": "1.2.0",
            "grid_template_areas": null,
            "object_position": null,
            "object_fit": null,
            "grid_auto_columns": null,
            "margin": null,
            "display": null,
            "left": null
          }
        },
        "d6bcec39134744b9911357537432a6c4": {
          "model_module": "@jupyter-widgets/controls",
          "model_name": "IntSliderModel",
          "model_module_version": "1.5.0",
          "state": {
            "_view_name": "IntSliderView",
            "style": "IPY_MODEL_fbed559dc6114f238f8f0c51553502c1",
            "_dom_classes": [],
            "description": "ore",
            "step": 1,
            "_model_name": "IntSliderModel",
            "orientation": "horizontal",
            "max": 72,
            "_view_module": "@jupyter-widgets/controls",
            "_model_module_version": "1.5.0",
            "value": 3,
            "_view_count": null,
            "disabled": false,
            "_view_module_version": "1.5.0",
            "min": 0,
            "continuous_update": true,
            "readout_format": "d",
            "description_tooltip": null,
            "readout": true,
            "_model_module": "@jupyter-widgets/controls",
            "layout": "IPY_MODEL_7469f4d9f28745729e496d3078d79712"
          }
        },
        "455043177ac8429ebd857507189cee68": {
          "model_module": "@jupyter-widgets/controls",
          "model_name": "ButtonModel",
          "model_module_version": "1.5.0",
          "state": {
            "_view_name": "ButtonView",
            "style": "IPY_MODEL_ff7b5e9e605e489d87f026bccd8b5e59",
            "_dom_classes": [],
            "description": "Run Interact",
            "_model_name": "ButtonModel",
            "button_style": "",
            "_view_module": "@jupyter-widgets/controls",
            "_model_module_version": "1.5.0",
            "tooltip": "",
            "_view_count": null,
            "disabled": false,
            "_view_module_version": "1.5.0",
            "layout": "IPY_MODEL_c91601c39dde4cfeadfb7572e9698382",
            "_model_module": "@jupyter-widgets/controls",
            "icon": ""
          }
        },
        "61b714b9ddb141bb9a65b4c3763a2d5f": {
          "model_module": "@jupyter-widgets/output",
          "model_name": "OutputModel",
          "model_module_version": "1.0.0",
          "state": {
            "_view_name": "OutputView",
            "msg_id": "",
            "_dom_classes": [],
            "_model_name": "OutputModel",
            "outputs": [
              {
                "output_type": "stream",
                "name": "stdout",
                "text": [
                  "Risultati ottenuti: 0.118\n",
                  "Risultati attesi: 0.118\n"
                ]
              }
            ],
            "_view_module": "@jupyter-widgets/output",
            "_model_module_version": "1.0.0",
            "_view_count": null,
            "_view_module_version": "1.0.0",
            "layout": "IPY_MODEL_d42e285a26094ca4a8ebe92ec78892f8",
            "_model_module": "@jupyter-widgets/output"
          }
        },
        "fbed559dc6114f238f8f0c51553502c1": {
          "model_module": "@jupyter-widgets/controls",
          "model_name": "SliderStyleModel",
          "model_module_version": "1.5.0",
          "state": {
            "_view_name": "StyleView",
            "handle_color": null,
            "_model_name": "SliderStyleModel",
            "description_width": "",
            "_view_module": "@jupyter-widgets/base",
            "_model_module_version": "1.5.0",
            "_view_count": null,
            "_view_module_version": "1.2.0",
            "_model_module": "@jupyter-widgets/controls"
          }
        },
        "7469f4d9f28745729e496d3078d79712": {
          "model_module": "@jupyter-widgets/base",
          "model_name": "LayoutModel",
          "model_module_version": "1.2.0",
          "state": {
            "_view_name": "LayoutView",
            "grid_template_rows": null,
            "right": null,
            "justify_content": null,
            "_view_module": "@jupyter-widgets/base",
            "overflow": null,
            "_model_module_version": "1.2.0",
            "_view_count": null,
            "flex_flow": null,
            "width": null,
            "min_width": null,
            "border": null,
            "align_items": null,
            "bottom": null,
            "_model_module": "@jupyter-widgets/base",
            "top": null,
            "grid_column": null,
            "overflow_y": null,
            "overflow_x": null,
            "grid_auto_flow": null,
            "grid_area": null,
            "grid_template_columns": null,
            "flex": null,
            "_model_name": "LayoutModel",
            "justify_items": null,
            "grid_row": null,
            "max_height": null,
            "align_content": null,
            "visibility": null,
            "align_self": null,
            "height": null,
            "min_height": null,
            "padding": null,
            "grid_auto_rows": null,
            "grid_gap": null,
            "max_width": null,
            "order": null,
            "_view_module_version": "1.2.0",
            "grid_template_areas": null,
            "object_position": null,
            "object_fit": null,
            "grid_auto_columns": null,
            "margin": null,
            "display": null,
            "left": null
          }
        },
        "ff7b5e9e605e489d87f026bccd8b5e59": {
          "model_module": "@jupyter-widgets/controls",
          "model_name": "ButtonStyleModel",
          "model_module_version": "1.5.0",
          "state": {
            "_view_name": "StyleView",
            "_model_name": "ButtonStyleModel",
            "_view_module": "@jupyter-widgets/base",
            "_model_module_version": "1.5.0",
            "_view_count": null,
            "button_color": null,
            "font_weight": "",
            "_view_module_version": "1.2.0",
            "_model_module": "@jupyter-widgets/controls"
          }
        },
        "c91601c39dde4cfeadfb7572e9698382": {
          "model_module": "@jupyter-widgets/base",
          "model_name": "LayoutModel",
          "model_module_version": "1.2.0",
          "state": {
            "_view_name": "LayoutView",
            "grid_template_rows": null,
            "right": null,
            "justify_content": null,
            "_view_module": "@jupyter-widgets/base",
            "overflow": null,
            "_model_module_version": "1.2.0",
            "_view_count": null,
            "flex_flow": null,
            "width": null,
            "min_width": null,
            "border": null,
            "align_items": null,
            "bottom": null,
            "_model_module": "@jupyter-widgets/base",
            "top": null,
            "grid_column": null,
            "overflow_y": null,
            "overflow_x": null,
            "grid_auto_flow": null,
            "grid_area": null,
            "grid_template_columns": null,
            "flex": null,
            "_model_name": "LayoutModel",
            "justify_items": null,
            "grid_row": null,
            "max_height": null,
            "align_content": null,
            "visibility": null,
            "align_self": null,
            "height": null,
            "min_height": null,
            "padding": null,
            "grid_auto_rows": null,
            "grid_gap": null,
            "max_width": null,
            "order": null,
            "_view_module_version": "1.2.0",
            "grid_template_areas": null,
            "object_position": null,
            "object_fit": null,
            "grid_auto_columns": null,
            "margin": null,
            "display": null,
            "left": null
          }
        },
        "d42e285a26094ca4a8ebe92ec78892f8": {
          "model_module": "@jupyter-widgets/base",
          "model_name": "LayoutModel",
          "model_module_version": "1.2.0",
          "state": {
            "_view_name": "LayoutView",
            "grid_template_rows": null,
            "right": null,
            "justify_content": null,
            "_view_module": "@jupyter-widgets/base",
            "overflow": null,
            "_model_module_version": "1.2.0",
            "_view_count": null,
            "flex_flow": null,
            "width": null,
            "min_width": null,
            "border": null,
            "align_items": null,
            "bottom": null,
            "_model_module": "@jupyter-widgets/base",
            "top": null,
            "grid_column": null,
            "overflow_y": null,
            "overflow_x": null,
            "grid_auto_flow": null,
            "grid_area": null,
            "grid_template_columns": null,
            "flex": null,
            "_model_name": "LayoutModel",
            "justify_items": null,
            "grid_row": null,
            "max_height": null,
            "align_content": null,
            "visibility": null,
            "align_self": null,
            "height": null,
            "min_height": null,
            "padding": null,
            "grid_auto_rows": null,
            "grid_gap": null,
            "max_width": null,
            "order": null,
            "_view_module_version": "1.2.0",
            "grid_template_areas": null,
            "object_position": null,
            "object_fit": null,
            "grid_auto_columns": null,
            "margin": null,
            "display": null,
            "left": null
          }
        },
        "079efbf20a4141aa8930d01d905bb235": {
          "model_module": "@jupyter-widgets/controls",
          "model_name": "VBoxModel",
          "model_module_version": "1.5.0",
          "state": {
            "_view_name": "VBoxView",
            "_dom_classes": [
              "widget-interact"
            ],
            "_model_name": "VBoxModel",
            "_view_module": "@jupyter-widgets/controls",
            "_model_module_version": "1.5.0",
            "_view_count": null,
            "_view_module_version": "1.5.0",
            "box_style": "",
            "layout": "IPY_MODEL_17bdcd18601c45e89324eb7ecb1e65ec",
            "_model_module": "@jupyter-widgets/controls",
            "children": [
              "IPY_MODEL_c633566afecc4e5bb4e91b44f9b9b8b2",
              "IPY_MODEL_80295e7466824983ae909810711dd93e",
              "IPY_MODEL_872eb2df58cf4ddd9b6c032a5d57a353"
            ]
          }
        },
        "17bdcd18601c45e89324eb7ecb1e65ec": {
          "model_module": "@jupyter-widgets/base",
          "model_name": "LayoutModel",
          "model_module_version": "1.2.0",
          "state": {
            "_view_name": "LayoutView",
            "grid_template_rows": null,
            "right": null,
            "justify_content": null,
            "_view_module": "@jupyter-widgets/base",
            "overflow": null,
            "_model_module_version": "1.2.0",
            "_view_count": null,
            "flex_flow": null,
            "width": null,
            "min_width": null,
            "border": null,
            "align_items": null,
            "bottom": null,
            "_model_module": "@jupyter-widgets/base",
            "top": null,
            "grid_column": null,
            "overflow_y": null,
            "overflow_x": null,
            "grid_auto_flow": null,
            "grid_area": null,
            "grid_template_columns": null,
            "flex": null,
            "_model_name": "LayoutModel",
            "justify_items": null,
            "grid_row": null,
            "max_height": null,
            "align_content": null,
            "visibility": null,
            "align_self": null,
            "height": null,
            "min_height": null,
            "padding": null,
            "grid_auto_rows": null,
            "grid_gap": null,
            "max_width": null,
            "order": null,
            "_view_module_version": "1.2.0",
            "grid_template_areas": null,
            "object_position": null,
            "object_fit": null,
            "grid_auto_columns": null,
            "margin": null,
            "display": null,
            "left": null
          }
        },
        "c633566afecc4e5bb4e91b44f9b9b8b2": {
          "model_module": "@jupyter-widgets/controls",
          "model_name": "IntSliderModel",
          "model_module_version": "1.5.0",
          "state": {
            "_view_name": "IntSliderView",
            "style": "IPY_MODEL_ae463684a62343a79e1b4582722807d8",
            "_dom_classes": [],
            "description": "λ",
            "step": 1,
            "_model_name": "IntSliderModel",
            "orientation": "horizontal",
            "max": 10,
            "_view_module": "@jupyter-widgets/controls",
            "_model_module_version": "1.5.0",
            "value": 6,
            "_view_count": null,
            "disabled": false,
            "_view_module_version": "1.5.0",
            "min": 2,
            "continuous_update": true,
            "readout_format": "d",
            "description_tooltip": null,
            "readout": true,
            "_model_module": "@jupyter-widgets/controls",
            "layout": "IPY_MODEL_13b67dc5dcfd4547afa84d1939796ef6"
          }
        },
        "80295e7466824983ae909810711dd93e": {
          "model_module": "@jupyter-widgets/controls",
          "model_name": "ButtonModel",
          "model_module_version": "1.5.0",
          "state": {
            "_view_name": "ButtonView",
            "style": "IPY_MODEL_781be2889ee946acbb045e70876e23ba",
            "_dom_classes": [],
            "description": "Run Interact",
            "_model_name": "ButtonModel",
            "button_style": "",
            "_view_module": "@jupyter-widgets/controls",
            "_model_module_version": "1.5.0",
            "tooltip": "",
            "_view_count": null,
            "disabled": false,
            "_view_module_version": "1.5.0",
            "layout": "IPY_MODEL_e83efd71e2b341cdb5086fd16614d128",
            "_model_module": "@jupyter-widgets/controls",
            "icon": ""
          }
        },
        "872eb2df58cf4ddd9b6c032a5d57a353": {
          "model_module": "@jupyter-widgets/output",
          "model_name": "OutputModel",
          "model_module_version": "1.0.0",
          "state": {
            "_view_name": "OutputView",
            "msg_id": "",
            "_dom_classes": [],
            "_model_name": "OutputModel",
            "outputs": [
              {
                "output_type": "display_data",
                "data": {
                  "image/png": "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\n",
                  "text/plain": "<Figure size 432x288 with 1 Axes>"
                },
                "metadata": {
                  "needs_background": "light"
                }
              }
            ],
            "_view_module": "@jupyter-widgets/output",
            "_model_module_version": "1.0.0",
            "_view_count": null,
            "_view_module_version": "1.0.0",
            "layout": "IPY_MODEL_c830a9fb71fb444685c94e920faa7f1b",
            "_model_module": "@jupyter-widgets/output"
          }
        },
        "ae463684a62343a79e1b4582722807d8": {
          "model_module": "@jupyter-widgets/controls",
          "model_name": "SliderStyleModel",
          "model_module_version": "1.5.0",
          "state": {
            "_view_name": "StyleView",
            "handle_color": null,
            "_model_name": "SliderStyleModel",
            "description_width": "",
            "_view_module": "@jupyter-widgets/base",
            "_model_module_version": "1.5.0",
            "_view_count": null,
            "_view_module_version": "1.2.0",
            "_model_module": "@jupyter-widgets/controls"
          }
        },
        "13b67dc5dcfd4547afa84d1939796ef6": {
          "model_module": "@jupyter-widgets/base",
          "model_name": "LayoutModel",
          "model_module_version": "1.2.0",
          "state": {
            "_view_name": "LayoutView",
            "grid_template_rows": null,
            "right": null,
            "justify_content": null,
            "_view_module": "@jupyter-widgets/base",
            "overflow": null,
            "_model_module_version": "1.2.0",
            "_view_count": null,
            "flex_flow": null,
            "width": null,
            "min_width": null,
            "border": null,
            "align_items": null,
            "bottom": null,
            "_model_module": "@jupyter-widgets/base",
            "top": null,
            "grid_column": null,
            "overflow_y": null,
            "overflow_x": null,
            "grid_auto_flow": null,
            "grid_area": null,
            "grid_template_columns": null,
            "flex": null,
            "_model_name": "LayoutModel",
            "justify_items": null,
            "grid_row": null,
            "max_height": null,
            "align_content": null,
            "visibility": null,
            "align_self": null,
            "height": null,
            "min_height": null,
            "padding": null,
            "grid_auto_rows": null,
            "grid_gap": null,
            "max_width": null,
            "order": null,
            "_view_module_version": "1.2.0",
            "grid_template_areas": null,
            "object_position": null,
            "object_fit": null,
            "grid_auto_columns": null,
            "margin": null,
            "display": null,
            "left": null
          }
        },
        "781be2889ee946acbb045e70876e23ba": {
          "model_module": "@jupyter-widgets/controls",
          "model_name": "ButtonStyleModel",
          "model_module_version": "1.5.0",
          "state": {
            "_view_name": "StyleView",
            "_model_name": "ButtonStyleModel",
            "_view_module": "@jupyter-widgets/base",
            "_model_module_version": "1.5.0",
            "_view_count": null,
            "button_color": null,
            "font_weight": "",
            "_view_module_version": "1.2.0",
            "_model_module": "@jupyter-widgets/controls"
          }
        },
        "e83efd71e2b341cdb5086fd16614d128": {
          "model_module": "@jupyter-widgets/base",
          "model_name": "LayoutModel",
          "model_module_version": "1.2.0",
          "state": {
            "_view_name": "LayoutView",
            "grid_template_rows": null,
            "right": null,
            "justify_content": null,
            "_view_module": "@jupyter-widgets/base",
            "overflow": null,
            "_model_module_version": "1.2.0",
            "_view_count": null,
            "flex_flow": null,
            "width": null,
            "min_width": null,
            "border": null,
            "align_items": null,
            "bottom": null,
            "_model_module": "@jupyter-widgets/base",
            "top": null,
            "grid_column": null,
            "overflow_y": null,
            "overflow_x": null,
            "grid_auto_flow": null,
            "grid_area": null,
            "grid_template_columns": null,
            "flex": null,
            "_model_name": "LayoutModel",
            "justify_items": null,
            "grid_row": null,
            "max_height": null,
            "align_content": null,
            "visibility": null,
            "align_self": null,
            "height": null,
            "min_height": null,
            "padding": null,
            "grid_auto_rows": null,
            "grid_gap": null,
            "max_width": null,
            "order": null,
            "_view_module_version": "1.2.0",
            "grid_template_areas": null,
            "object_position": null,
            "object_fit": null,
            "grid_auto_columns": null,
            "margin": null,
            "display": null,
            "left": null
          }
        },
        "c830a9fb71fb444685c94e920faa7f1b": {
          "model_module": "@jupyter-widgets/base",
          "model_name": "LayoutModel",
          "model_module_version": "1.2.0",
          "state": {
            "_view_name": "LayoutView",
            "grid_template_rows": null,
            "right": null,
            "justify_content": null,
            "_view_module": "@jupyter-widgets/base",
            "overflow": null,
            "_model_module_version": "1.2.0",
            "_view_count": null,
            "flex_flow": null,
            "width": null,
            "min_width": null,
            "border": null,
            "align_items": null,
            "bottom": null,
            "_model_module": "@jupyter-widgets/base",
            "top": null,
            "grid_column": null,
            "overflow_y": null,
            "overflow_x": null,
            "grid_auto_flow": null,
            "grid_area": null,
            "grid_template_columns": null,
            "flex": null,
            "_model_name": "LayoutModel",
            "justify_items": null,
            "grid_row": null,
            "max_height": null,
            "align_content": null,
            "visibility": null,
            "align_self": null,
            "height": null,
            "min_height": null,
            "padding": null,
            "grid_auto_rows": null,
            "grid_gap": null,
            "max_width": null,
            "order": null,
            "_view_module_version": "1.2.0",
            "grid_template_areas": null,
            "object_position": null,
            "object_fit": null,
            "grid_auto_columns": null,
            "margin": null,
            "display": null,
            "left": null
          }
        },
        "5bea3bc5a09a46cf9e219b3d8f968809": {
          "model_module": "@jupyter-widgets/controls",
          "model_name": "VBoxModel",
          "model_module_version": "1.5.0",
          "state": {
            "_view_name": "VBoxView",
            "_dom_classes": [
              "widget-interact"
            ],
            "_model_name": "VBoxModel",
            "_view_module": "@jupyter-widgets/controls",
            "_model_module_version": "1.5.0",
            "_view_count": null,
            "_view_module_version": "1.5.0",
            "box_style": "",
            "layout": "IPY_MODEL_4c3e5003caef4becbffddacac0c67b6d",
            "_model_module": "@jupyter-widgets/controls",
            "children": [
              "IPY_MODEL_9b454343915d4cd28ea520df9d310fbd",
              "IPY_MODEL_8e8d8607cdb54e10b5f38173022f45b5",
              "IPY_MODEL_fbd25c74e9eb42fda870bc6737fd28dc",
              "IPY_MODEL_d6f276044a5f4654a0f9435919b4f1cc"
            ]
          }
        },
        "4c3e5003caef4becbffddacac0c67b6d": {
          "model_module": "@jupyter-widgets/base",
          "model_name": "LayoutModel",
          "model_module_version": "1.2.0",
          "state": {
            "_view_name": "LayoutView",
            "grid_template_rows": null,
            "right": null,
            "justify_content": null,
            "_view_module": "@jupyter-widgets/base",
            "overflow": null,
            "_model_module_version": "1.2.0",
            "_view_count": null,
            "flex_flow": null,
            "width": null,
            "min_width": null,
            "border": null,
            "align_items": null,
            "bottom": null,
            "_model_module": "@jupyter-widgets/base",
            "top": null,
            "grid_column": null,
            "overflow_y": null,
            "overflow_x": null,
            "grid_auto_flow": null,
            "grid_area": null,
            "grid_template_columns": null,
            "flex": null,
            "_model_name": "LayoutModel",
            "justify_items": null,
            "grid_row": null,
            "max_height": null,
            "align_content": null,
            "visibility": null,
            "align_self": null,
            "height": null,
            "min_height": null,
            "padding": null,
            "grid_auto_rows": null,
            "grid_gap": null,
            "max_width": null,
            "order": null,
            "_view_module_version": "1.2.0",
            "grid_template_areas": null,
            "object_position": null,
            "object_fit": null,
            "grid_auto_columns": null,
            "margin": null,
            "display": null,
            "left": null
          }
        },
        "9b454343915d4cd28ea520df9d310fbd": {
          "model_module": "@jupyter-widgets/controls",
          "model_name": "IntSliderModel",
          "model_module_version": "1.5.0",
          "state": {
            "_view_name": "IntSliderView",
            "style": "IPY_MODEL_981dc6537dc040398fbbbc774f08e278",
            "_dom_classes": [],
            "description": "ore",
            "step": 1,
            "_model_name": "IntSliderModel",
            "orientation": "horizontal",
            "max": 72,
            "_view_module": "@jupyter-widgets/controls",
            "_model_module_version": "1.5.0",
            "value": 10,
            "_view_count": null,
            "disabled": false,
            "_view_module_version": "1.5.0",
            "min": 0,
            "continuous_update": true,
            "readout_format": "d",
            "description_tooltip": null,
            "readout": true,
            "_model_module": "@jupyter-widgets/controls",
            "layout": "IPY_MODEL_ed25f89ef907497aa02450c4312ab7e3"
          }
        },
        "8e8d8607cdb54e10b5f38173022f45b5": {
          "model_module": "@jupyter-widgets/controls",
          "model_name": "IntSliderModel",
          "model_module_version": "1.5.0",
          "state": {
            "_view_name": "IntSliderView",
            "style": "IPY_MODEL_e12ca4592fe14002926f381d267ed9b8",
            "_dom_classes": [],
            "description": "λ",
            "step": 1,
            "_model_name": "IntSliderModel",
            "orientation": "horizontal",
            "max": 10,
            "_view_module": "@jupyter-widgets/controls",
            "_model_module_version": "1.5.0",
            "value": 2,
            "_view_count": null,
            "disabled": false,
            "_view_module_version": "1.5.0",
            "min": 2,
            "continuous_update": true,
            "readout_format": "d",
            "description_tooltip": null,
            "readout": true,
            "_model_module": "@jupyter-widgets/controls",
            "layout": "IPY_MODEL_15a0913a16f94f1aa4c508af7509cd44"
          }
        },
        "fbd25c74e9eb42fda870bc6737fd28dc": {
          "model_module": "@jupyter-widgets/controls",
          "model_name": "ButtonModel",
          "model_module_version": "1.5.0",
          "state": {
            "_view_name": "ButtonView",
            "style": "IPY_MODEL_0dba1effbb234993957a3715211bf412",
            "_dom_classes": [],
            "description": "Run Interact",
            "_model_name": "ButtonModel",
            "button_style": "",
            "_view_module": "@jupyter-widgets/controls",
            "_model_module_version": "1.5.0",
            "tooltip": "",
            "_view_count": null,
            "disabled": false,
            "_view_module_version": "1.5.0",
            "layout": "IPY_MODEL_b4f7469641cd46788736a54dd1a2e223",
            "_model_module": "@jupyter-widgets/controls",
            "icon": ""
          }
        },
        "d6f276044a5f4654a0f9435919b4f1cc": {
          "model_module": "@jupyter-widgets/output",
          "model_name": "OutputModel",
          "model_module_version": "1.0.0",
          "state": {
            "_view_name": "OutputView",
            "msg_id": "",
            "_dom_classes": [],
            "_model_name": "OutputModel",
            "outputs": [
              {
                "output_type": "stream",
                "name": "stdout",
                "text": [
                  "Risultati ottenuti: 0.567\n",
                  "Risultati attesi: 0.565\n"
                ]
              }
            ],
            "_view_module": "@jupyter-widgets/output",
            "_model_module_version": "1.0.0",
            "_view_count": null,
            "_view_module_version": "1.0.0",
            "layout": "IPY_MODEL_00aa2a2a368040ffb1619e72bb76b314",
            "_model_module": "@jupyter-widgets/output"
          }
        },
        "981dc6537dc040398fbbbc774f08e278": {
          "model_module": "@jupyter-widgets/controls",
          "model_name": "SliderStyleModel",
          "model_module_version": "1.5.0",
          "state": {
            "_view_name": "StyleView",
            "handle_color": null,
            "_model_name": "SliderStyleModel",
            "description_width": "",
            "_view_module": "@jupyter-widgets/base",
            "_model_module_version": "1.5.0",
            "_view_count": null,
            "_view_module_version": "1.2.0",
            "_model_module": "@jupyter-widgets/controls"
          }
        },
        "ed25f89ef907497aa02450c4312ab7e3": {
          "model_module": "@jupyter-widgets/base",
          "model_name": "LayoutModel",
          "model_module_version": "1.2.0",
          "state": {
            "_view_name": "LayoutView",
            "grid_template_rows": null,
            "right": null,
            "justify_content": null,
            "_view_module": "@jupyter-widgets/base",
            "overflow": null,
            "_model_module_version": "1.2.0",
            "_view_count": null,
            "flex_flow": null,
            "width": null,
            "min_width": null,
            "border": null,
            "align_items": null,
            "bottom": null,
            "_model_module": "@jupyter-widgets/base",
            "top": null,
            "grid_column": null,
            "overflow_y": null,
            "overflow_x": null,
            "grid_auto_flow": null,
            "grid_area": null,
            "grid_template_columns": null,
            "flex": null,
            "_model_name": "LayoutModel",
            "justify_items": null,
            "grid_row": null,
            "max_height": null,
            "align_content": null,
            "visibility": null,
            "align_self": null,
            "height": null,
            "min_height": null,
            "padding": null,
            "grid_auto_rows": null,
            "grid_gap": null,
            "max_width": null,
            "order": null,
            "_view_module_version": "1.2.0",
            "grid_template_areas": null,
            "object_position": null,
            "object_fit": null,
            "grid_auto_columns": null,
            "margin": null,
            "display": null,
            "left": null
          }
        },
        "e12ca4592fe14002926f381d267ed9b8": {
          "model_module": "@jupyter-widgets/controls",
          "model_name": "SliderStyleModel",
          "model_module_version": "1.5.0",
          "state": {
            "_view_name": "StyleView",
            "handle_color": null,
            "_model_name": "SliderStyleModel",
            "description_width": "",
            "_view_module": "@jupyter-widgets/base",
            "_model_module_version": "1.5.0",
            "_view_count": null,
            "_view_module_version": "1.2.0",
            "_model_module": "@jupyter-widgets/controls"
          }
        },
        "15a0913a16f94f1aa4c508af7509cd44": {
          "model_module": "@jupyter-widgets/base",
          "model_name": "LayoutModel",
          "model_module_version": "1.2.0",
          "state": {
            "_view_name": "LayoutView",
            "grid_template_rows": null,
            "right": null,
            "justify_content": null,
            "_view_module": "@jupyter-widgets/base",
            "overflow": null,
            "_model_module_version": "1.2.0",
            "_view_count": null,
            "flex_flow": null,
            "width": null,
            "min_width": null,
            "border": null,
            "align_items": null,
            "bottom": null,
            "_model_module": "@jupyter-widgets/base",
            "top": null,
            "grid_column": null,
            "overflow_y": null,
            "overflow_x": null,
            "grid_auto_flow": null,
            "grid_area": null,
            "grid_template_columns": null,
            "flex": null,
            "_model_name": "LayoutModel",
            "justify_items": null,
            "grid_row": null,
            "max_height": null,
            "align_content": null,
            "visibility": null,
            "align_self": null,
            "height": null,
            "min_height": null,
            "padding": null,
            "grid_auto_rows": null,
            "grid_gap": null,
            "max_width": null,
            "order": null,
            "_view_module_version": "1.2.0",
            "grid_template_areas": null,
            "object_position": null,
            "object_fit": null,
            "grid_auto_columns": null,
            "margin": null,
            "display": null,
            "left": null
          }
        },
        "0dba1effbb234993957a3715211bf412": {
          "model_module": "@jupyter-widgets/controls",
          "model_name": "ButtonStyleModel",
          "model_module_version": "1.5.0",
          "state": {
            "_view_name": "StyleView",
            "_model_name": "ButtonStyleModel",
            "_view_module": "@jupyter-widgets/base",
            "_model_module_version": "1.5.0",
            "_view_count": null,
            "button_color": null,
            "font_weight": "",
            "_view_module_version": "1.2.0",
            "_model_module": "@jupyter-widgets/controls"
          }
        },
        "b4f7469641cd46788736a54dd1a2e223": {
          "model_module": "@jupyter-widgets/base",
          "model_name": "LayoutModel",
          "model_module_version": "1.2.0",
          "state": {
            "_view_name": "LayoutView",
            "grid_template_rows": null,
            "right": null,
            "justify_content": null,
            "_view_module": "@jupyter-widgets/base",
            "overflow": null,
            "_model_module_version": "1.2.0",
            "_view_count": null,
            "flex_flow": null,
            "width": null,
            "min_width": null,
            "border": null,
            "align_items": null,
            "bottom": null,
            "_model_module": "@jupyter-widgets/base",
            "top": null,
            "grid_column": null,
            "overflow_y": null,
            "overflow_x": null,
            "grid_auto_flow": null,
            "grid_area": null,
            "grid_template_columns": null,
            "flex": null,
            "_model_name": "LayoutModel",
            "justify_items": null,
            "grid_row": null,
            "max_height": null,
            "align_content": null,
            "visibility": null,
            "align_self": null,
            "height": null,
            "min_height": null,
            "padding": null,
            "grid_auto_rows": null,
            "grid_gap": null,
            "max_width": null,
            "order": null,
            "_view_module_version": "1.2.0",
            "grid_template_areas": null,
            "object_position": null,
            "object_fit": null,
            "grid_auto_columns": null,
            "margin": null,
            "display": null,
            "left": null
          }
        },
        "00aa2a2a368040ffb1619e72bb76b314": {
          "model_module": "@jupyter-widgets/base",
          "model_name": "LayoutModel",
          "model_module_version": "1.2.0",
          "state": {
            "_view_name": "LayoutView",
            "grid_template_rows": null,
            "right": null,
            "justify_content": null,
            "_view_module": "@jupyter-widgets/base",
            "overflow": null,
            "_model_module_version": "1.2.0",
            "_view_count": null,
            "flex_flow": null,
            "width": null,
            "min_width": null,
            "border": null,
            "align_items": null,
            "bottom": null,
            "_model_module": "@jupyter-widgets/base",
            "top": null,
            "grid_column": null,
            "overflow_y": null,
            "overflow_x": null,
            "grid_auto_flow": null,
            "grid_area": null,
            "grid_template_columns": null,
            "flex": null,
            "_model_name": "LayoutModel",
            "justify_items": null,
            "grid_row": null,
            "max_height": null,
            "align_content": null,
            "visibility": null,
            "align_self": null,
            "height": null,
            "min_height": null,
            "padding": null,
            "grid_auto_rows": null,
            "grid_gap": null,
            "max_width": null,
            "order": null,
            "_view_module_version": "1.2.0",
            "grid_template_areas": null,
            "object_position": null,
            "object_fit": null,
            "grid_auto_columns": null,
            "margin": null,
            "display": null,
            "left": null
          }
        },
        "e1dbb2587d7544b9befa14be6f8eeb24": {
          "model_module": "@jupyter-widgets/controls",
          "model_name": "VBoxModel",
          "model_module_version": "1.5.0",
          "state": {
            "_view_name": "VBoxView",
            "_dom_classes": [
              "widget-interact"
            ],
            "_model_name": "VBoxModel",
            "_view_module": "@jupyter-widgets/controls",
            "_model_module_version": "1.5.0",
            "_view_count": null,
            "_view_module_version": "1.5.0",
            "box_style": "",
            "layout": "IPY_MODEL_7057337433574dfaa87432ecd0f27d65",
            "_model_module": "@jupyter-widgets/controls",
            "children": [
              "IPY_MODEL_9aec3ef094824483bfaa55b5fdec4ece",
              "IPY_MODEL_5220f585da5b4ec5b64ee623482f9082",
              "IPY_MODEL_feb2413b6e11455ba543d87fda2bbb6a",
              "IPY_MODEL_a3c9b4feec8f4cd8b7427595f3cab742"
            ]
          }
        },
        "7057337433574dfaa87432ecd0f27d65": {
          "model_module": "@jupyter-widgets/base",
          "model_name": "LayoutModel",
          "model_module_version": "1.2.0",
          "state": {
            "_view_name": "LayoutView",
            "grid_template_rows": null,
            "right": null,
            "justify_content": null,
            "_view_module": "@jupyter-widgets/base",
            "overflow": null,
            "_model_module_version": "1.2.0",
            "_view_count": null,
            "flex_flow": null,
            "width": null,
            "min_width": null,
            "border": null,
            "align_items": null,
            "bottom": null,
            "_model_module": "@jupyter-widgets/base",
            "top": null,
            "grid_column": null,
            "overflow_y": null,
            "overflow_x": null,
            "grid_auto_flow": null,
            "grid_area": null,
            "grid_template_columns": null,
            "flex": null,
            "_model_name": "LayoutModel",
            "justify_items": null,
            "grid_row": null,
            "max_height": null,
            "align_content": null,
            "visibility": null,
            "align_self": null,
            "height": null,
            "min_height": null,
            "padding": null,
            "grid_auto_rows": null,
            "grid_gap": null,
            "max_width": null,
            "order": null,
            "_view_module_version": "1.2.0",
            "grid_template_areas": null,
            "object_position": null,
            "object_fit": null,
            "grid_auto_columns": null,
            "margin": null,
            "display": null,
            "left": null
          }
        },
        "9aec3ef094824483bfaa55b5fdec4ece": {
          "model_module": "@jupyter-widgets/controls",
          "model_name": "IntSliderModel",
          "model_module_version": "1.5.0",
          "state": {
            "_view_name": "IntSliderView",
            "style": "IPY_MODEL_667f0b7ddfdc48b697e3953a1f2df32c",
            "_dom_classes": [],
            "description": "t1",
            "step": 1,
            "_model_name": "IntSliderModel",
            "orientation": "horizontal",
            "max": 96,
            "_view_module": "@jupyter-widgets/controls",
            "_model_module_version": "1.5.0",
            "value": 3,
            "_view_count": null,
            "disabled": false,
            "_view_module_version": "1.5.0",
            "min": 0,
            "continuous_update": true,
            "readout_format": "d",
            "description_tooltip": null,
            "readout": true,
            "_model_module": "@jupyter-widgets/controls",
            "layout": "IPY_MODEL_d90cc3b6fb8e4751b8e716572bad314d"
          }
        },
        "5220f585da5b4ec5b64ee623482f9082": {
          "model_module": "@jupyter-widgets/controls",
          "model_name": "IntSliderModel",
          "model_module_version": "1.5.0",
          "state": {
            "_view_name": "IntSliderView",
            "style": "IPY_MODEL_1795d69311b244349537fd4382e073b8",
            "_dom_classes": [],
            "description": "t2",
            "step": 1,
            "_model_name": "IntSliderModel",
            "orientation": "horizontal",
            "max": 96,
            "_view_module": "@jupyter-widgets/controls",
            "_model_module_version": "1.5.0",
            "value": 10,
            "_view_count": null,
            "disabled": false,
            "_view_module_version": "1.5.0",
            "min": 0,
            "continuous_update": true,
            "readout_format": "d",
            "description_tooltip": null,
            "readout": true,
            "_model_module": "@jupyter-widgets/controls",
            "layout": "IPY_MODEL_836b9e7ff13844f5b4b5bc50fcabfe8f"
          }
        },
        "feb2413b6e11455ba543d87fda2bbb6a": {
          "model_module": "@jupyter-widgets/controls",
          "model_name": "ButtonModel",
          "model_module_version": "1.5.0",
          "state": {
            "_view_name": "ButtonView",
            "style": "IPY_MODEL_a4f35ec5289043d0ac6f7d7cd6acdc13",
            "_dom_classes": [],
            "description": "Run Interact",
            "_model_name": "ButtonModel",
            "button_style": "",
            "_view_module": "@jupyter-widgets/controls",
            "_model_module_version": "1.5.0",
            "tooltip": "",
            "_view_count": null,
            "disabled": false,
            "_view_module_version": "1.5.0",
            "layout": "IPY_MODEL_6067d35e1c734e3bad26a983465a6ae8",
            "_model_module": "@jupyter-widgets/controls",
            "icon": ""
          }
        },
        "a3c9b4feec8f4cd8b7427595f3cab742": {
          "model_module": "@jupyter-widgets/output",
          "model_name": "OutputModel",
          "model_module_version": "1.0.0",
          "state": {
            "_view_name": "OutputView",
            "msg_id": "",
            "_dom_classes": [],
            "_model_name": "OutputModel",
            "outputs": [
              {
                "output_type": "stream",
                "name": "stdout",
                "text": [
                  "Risultati attesi: 0.223\n",
                  "Risultati ottenuti: 0.224\n"
                ]
              },
              {
                "output_type": "display_data",
                "data": {
                  "image/png": "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\n",
                  "text/plain": "<Figure size 432x288 with 1 Axes>"
                },
                "metadata": {
                  "needs_background": "light"
                }
              }
            ],
            "_view_module": "@jupyter-widgets/output",
            "_model_module_version": "1.0.0",
            "_view_count": null,
            "_view_module_version": "1.0.0",
            "layout": "IPY_MODEL_f893ed8e1d494393ada5d517f1e0d415",
            "_model_module": "@jupyter-widgets/output"
          }
        },
        "667f0b7ddfdc48b697e3953a1f2df32c": {
          "model_module": "@jupyter-widgets/controls",
          "model_name": "SliderStyleModel",
          "model_module_version": "1.5.0",
          "state": {
            "_view_name": "StyleView",
            "handle_color": null,
            "_model_name": "SliderStyleModel",
            "description_width": "",
            "_view_module": "@jupyter-widgets/base",
            "_model_module_version": "1.5.0",
            "_view_count": null,
            "_view_module_version": "1.2.0",
            "_model_module": "@jupyter-widgets/controls"
          }
        },
        "d90cc3b6fb8e4751b8e716572bad314d": {
          "model_module": "@jupyter-widgets/base",
          "model_name": "LayoutModel",
          "model_module_version": "1.2.0",
          "state": {
            "_view_name": "LayoutView",
            "grid_template_rows": null,
            "right": null,
            "justify_content": null,
            "_view_module": "@jupyter-widgets/base",
            "overflow": null,
            "_model_module_version": "1.2.0",
            "_view_count": null,
            "flex_flow": null,
            "width": null,
            "min_width": null,
            "border": null,
            "align_items": null,
            "bottom": null,
            "_model_module": "@jupyter-widgets/base",
            "top": null,
            "grid_column": null,
            "overflow_y": null,
            "overflow_x": null,
            "grid_auto_flow": null,
            "grid_area": null,
            "grid_template_columns": null,
            "flex": null,
            "_model_name": "LayoutModel",
            "justify_items": null,
            "grid_row": null,
            "max_height": null,
            "align_content": null,
            "visibility": null,
            "align_self": null,
            "height": null,
            "min_height": null,
            "padding": null,
            "grid_auto_rows": null,
            "grid_gap": null,
            "max_width": null,
            "order": null,
            "_view_module_version": "1.2.0",
            "grid_template_areas": null,
            "object_position": null,
            "object_fit": null,
            "grid_auto_columns": null,
            "margin": null,
            "display": null,
            "left": null
          }
        },
        "1795d69311b244349537fd4382e073b8": {
          "model_module": "@jupyter-widgets/controls",
          "model_name": "SliderStyleModel",
          "model_module_version": "1.5.0",
          "state": {
            "_view_name": "StyleView",
            "handle_color": null,
            "_model_name": "SliderStyleModel",
            "description_width": "",
            "_view_module": "@jupyter-widgets/base",
            "_model_module_version": "1.5.0",
            "_view_count": null,
            "_view_module_version": "1.2.0",
            "_model_module": "@jupyter-widgets/controls"
          }
        },
        "836b9e7ff13844f5b4b5bc50fcabfe8f": {
          "model_module": "@jupyter-widgets/base",
          "model_name": "LayoutModel",
          "model_module_version": "1.2.0",
          "state": {
            "_view_name": "LayoutView",
            "grid_template_rows": null,
            "right": null,
            "justify_content": null,
            "_view_module": "@jupyter-widgets/base",
            "overflow": null,
            "_model_module_version": "1.2.0",
            "_view_count": null,
            "flex_flow": null,
            "width": null,
            "min_width": null,
            "border": null,
            "align_items": null,
            "bottom": null,
            "_model_module": "@jupyter-widgets/base",
            "top": null,
            "grid_column": null,
            "overflow_y": null,
            "overflow_x": null,
            "grid_auto_flow": null,
            "grid_area": null,
            "grid_template_columns": null,
            "flex": null,
            "_model_name": "LayoutModel",
            "justify_items": null,
            "grid_row": null,
            "max_height": null,
            "align_content": null,
            "visibility": null,
            "align_self": null,
            "height": null,
            "min_height": null,
            "padding": null,
            "grid_auto_rows": null,
            "grid_gap": null,
            "max_width": null,
            "order": null,
            "_view_module_version": "1.2.0",
            "grid_template_areas": null,
            "object_position": null,
            "object_fit": null,
            "grid_auto_columns": null,
            "margin": null,
            "display": null,
            "left": null
          }
        },
        "a4f35ec5289043d0ac6f7d7cd6acdc13": {
          "model_module": "@jupyter-widgets/controls",
          "model_name": "ButtonStyleModel",
          "model_module_version": "1.5.0",
          "state": {
            "_view_name": "StyleView",
            "_model_name": "ButtonStyleModel",
            "_view_module": "@jupyter-widgets/base",
            "_model_module_version": "1.5.0",
            "_view_count": null,
            "button_color": null,
            "font_weight": "",
            "_view_module_version": "1.2.0",
            "_model_module": "@jupyter-widgets/controls"
          }
        },
        "6067d35e1c734e3bad26a983465a6ae8": {
          "model_module": "@jupyter-widgets/base",
          "model_name": "LayoutModel",
          "model_module_version": "1.2.0",
          "state": {
            "_view_name": "LayoutView",
            "grid_template_rows": null,
            "right": null,
            "justify_content": null,
            "_view_module": "@jupyter-widgets/base",
            "overflow": null,
            "_model_module_version": "1.2.0",
            "_view_count": null,
            "flex_flow": null,
            "width": null,
            "min_width": null,
            "border": null,
            "align_items": null,
            "bottom": null,
            "_model_module": "@jupyter-widgets/base",
            "top": null,
            "grid_column": null,
            "overflow_y": null,
            "overflow_x": null,
            "grid_auto_flow": null,
            "grid_area": null,
            "grid_template_columns": null,
            "flex": null,
            "_model_name": "LayoutModel",
            "justify_items": null,
            "grid_row": null,
            "max_height": null,
            "align_content": null,
            "visibility": null,
            "align_self": null,
            "height": null,
            "min_height": null,
            "padding": null,
            "grid_auto_rows": null,
            "grid_gap": null,
            "max_width": null,
            "order": null,
            "_view_module_version": "1.2.0",
            "grid_template_areas": null,
            "object_position": null,
            "object_fit": null,
            "grid_auto_columns": null,
            "margin": null,
            "display": null,
            "left": null
          }
        },
        "f893ed8e1d494393ada5d517f1e0d415": {
          "model_module": "@jupyter-widgets/base",
          "model_name": "LayoutModel",
          "model_module_version": "1.2.0",
          "state": {
            "_view_name": "LayoutView",
            "grid_template_rows": null,
            "right": null,
            "justify_content": null,
            "_view_module": "@jupyter-widgets/base",
            "overflow": null,
            "_model_module_version": "1.2.0",
            "_view_count": null,
            "flex_flow": null,
            "width": null,
            "min_width": null,
            "border": null,
            "align_items": null,
            "bottom": null,
            "_model_module": "@jupyter-widgets/base",
            "top": null,
            "grid_column": null,
            "overflow_y": null,
            "overflow_x": null,
            "grid_auto_flow": null,
            "grid_area": null,
            "grid_template_columns": null,
            "flex": null,
            "_model_name": "LayoutModel",
            "justify_items": null,
            "grid_row": null,
            "max_height": null,
            "align_content": null,
            "visibility": null,
            "align_self": null,
            "height": null,
            "min_height": null,
            "padding": null,
            "grid_auto_rows": null,
            "grid_gap": null,
            "max_width": null,
            "order": null,
            "_view_module_version": "1.2.0",
            "grid_template_areas": null,
            "object_position": null,
            "object_fit": null,
            "grid_auto_columns": null,
            "margin": null,
            "display": null,
            "left": null
          }
        },
        "092836953eb54bf48d36ecc02f49e826": {
          "model_module": "@jupyter-widgets/controls",
          "model_name": "VBoxModel",
          "model_module_version": "1.5.0",
          "state": {
            "_view_name": "VBoxView",
            "_dom_classes": [
              "widget-interact"
            ],
            "_model_name": "VBoxModel",
            "_view_module": "@jupyter-widgets/controls",
            "_model_module_version": "1.5.0",
            "_view_count": null,
            "_view_module_version": "1.5.0",
            "box_style": "",
            "layout": "IPY_MODEL_af385926bcd649c0b4844685e397f649",
            "_model_module": "@jupyter-widgets/controls",
            "children": [
              "IPY_MODEL_c8d027e25fa8432e8f2423ac4f0e90d6",
              "IPY_MODEL_a38f7266aba6484a8423992d5df1a0c1",
              "IPY_MODEL_0c143a565dbe4580bd7ea4f1ded04dff"
            ]
          }
        },
        "af385926bcd649c0b4844685e397f649": {
          "model_module": "@jupyter-widgets/base",
          "model_name": "LayoutModel",
          "model_module_version": "1.2.0",
          "state": {
            "_view_name": "LayoutView",
            "grid_template_rows": null,
            "right": null,
            "justify_content": null,
            "_view_module": "@jupyter-widgets/base",
            "overflow": null,
            "_model_module_version": "1.2.0",
            "_view_count": null,
            "flex_flow": null,
            "width": null,
            "min_width": null,
            "border": null,
            "align_items": null,
            "bottom": null,
            "_model_module": "@jupyter-widgets/base",
            "top": null,
            "grid_column": null,
            "overflow_y": null,
            "overflow_x": null,
            "grid_auto_flow": null,
            "grid_area": null,
            "grid_template_columns": null,
            "flex": null,
            "_model_name": "LayoutModel",
            "justify_items": null,
            "grid_row": null,
            "max_height": null,
            "align_content": null,
            "visibility": null,
            "align_self": null,
            "height": null,
            "min_height": null,
            "padding": null,
            "grid_auto_rows": null,
            "grid_gap": null,
            "max_width": null,
            "order": null,
            "_view_module_version": "1.2.0",
            "grid_template_areas": null,
            "object_position": null,
            "object_fit": null,
            "grid_auto_columns": null,
            "margin": null,
            "display": null,
            "left": null
          }
        },
        "c8d027e25fa8432e8f2423ac4f0e90d6": {
          "model_module": "@jupyter-widgets/controls",
          "model_name": "IntSliderModel",
          "model_module_version": "1.5.0",
          "state": {
            "_view_name": "IntSliderView",
            "style": "IPY_MODEL_e30a6e4acb8b4889a8b8b37ffdba6d6f",
            "_dom_classes": [],
            "description": "mean",
            "step": 1,
            "_model_name": "IntSliderModel",
            "orientation": "horizontal",
            "max": 5,
            "_view_module": "@jupyter-widgets/controls",
            "_model_module_version": "1.5.0",
            "value": 0,
            "_view_count": null,
            "disabled": false,
            "_view_module_version": "1.5.0",
            "min": -5,
            "continuous_update": true,
            "readout_format": "d",
            "description_tooltip": null,
            "readout": true,
            "_model_module": "@jupyter-widgets/controls",
            "layout": "IPY_MODEL_7bfce12ee04740bbb70d689c59404078"
          }
        },
        "a38f7266aba6484a8423992d5df1a0c1": {
          "model_module": "@jupyter-widgets/controls",
          "model_name": "IntSliderModel",
          "model_module_version": "1.5.0",
          "state": {
            "_view_name": "IntSliderView",
            "style": "IPY_MODEL_59aab944fb2f461694baad440c2685f3",
            "_dom_classes": [],
            "description": "std_dev",
            "step": 1,
            "_model_name": "IntSliderModel",
            "orientation": "horizontal",
            "max": 5,
            "_view_module": "@jupyter-widgets/controls",
            "_model_module_version": "1.5.0",
            "value": 1,
            "_view_count": null,
            "disabled": false,
            "_view_module_version": "1.5.0",
            "min": 1,
            "continuous_update": true,
            "readout_format": "d",
            "description_tooltip": null,
            "readout": true,
            "_model_module": "@jupyter-widgets/controls",
            "layout": "IPY_MODEL_3a40d3387e764fb28839a4139a0663e6"
          }
        },
        "0c143a565dbe4580bd7ea4f1ded04dff": {
          "model_module": "@jupyter-widgets/output",
          "model_name": "OutputModel",
          "model_module_version": "1.0.0",
          "state": {
            "_view_name": "OutputView",
            "msg_id": "",
            "_dom_classes": [],
            "_model_name": "OutputModel",
            "outputs": [
              {
                "output_type": "display_data",
                "data": {
                  "image/png": "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\n",
                  "text/plain": "<Figure size 432x288 with 1 Axes>"
                },
                "metadata": {
                  "needs_background": "light"
                }
              }
            ],
            "_view_module": "@jupyter-widgets/output",
            "_model_module_version": "1.0.0",
            "_view_count": null,
            "_view_module_version": "1.0.0",
            "layout": "IPY_MODEL_c5c53afd41a144c98df8a0c453d19de5",
            "_model_module": "@jupyter-widgets/output"
          }
        },
        "e30a6e4acb8b4889a8b8b37ffdba6d6f": {
          "model_module": "@jupyter-widgets/controls",
          "model_name": "SliderStyleModel",
          "model_module_version": "1.5.0",
          "state": {
            "_view_name": "StyleView",
            "handle_color": null,
            "_model_name": "SliderStyleModel",
            "description_width": "",
            "_view_module": "@jupyter-widgets/base",
            "_model_module_version": "1.5.0",
            "_view_count": null,
            "_view_module_version": "1.2.0",
            "_model_module": "@jupyter-widgets/controls"
          }
        },
        "7bfce12ee04740bbb70d689c59404078": {
          "model_module": "@jupyter-widgets/base",
          "model_name": "LayoutModel",
          "model_module_version": "1.2.0",
          "state": {
            "_view_name": "LayoutView",
            "grid_template_rows": null,
            "right": null,
            "justify_content": null,
            "_view_module": "@jupyter-widgets/base",
            "overflow": null,
            "_model_module_version": "1.2.0",
            "_view_count": null,
            "flex_flow": null,
            "width": null,
            "min_width": null,
            "border": null,
            "align_items": null,
            "bottom": null,
            "_model_module": "@jupyter-widgets/base",
            "top": null,
            "grid_column": null,
            "overflow_y": null,
            "overflow_x": null,
            "grid_auto_flow": null,
            "grid_area": null,
            "grid_template_columns": null,
            "flex": null,
            "_model_name": "LayoutModel",
            "justify_items": null,
            "grid_row": null,
            "max_height": null,
            "align_content": null,
            "visibility": null,
            "align_self": null,
            "height": null,
            "min_height": null,
            "padding": null,
            "grid_auto_rows": null,
            "grid_gap": null,
            "max_width": null,
            "order": null,
            "_view_module_version": "1.2.0",
            "grid_template_areas": null,
            "object_position": null,
            "object_fit": null,
            "grid_auto_columns": null,
            "margin": null,
            "display": null,
            "left": null
          }
        },
        "59aab944fb2f461694baad440c2685f3": {
          "model_module": "@jupyter-widgets/controls",
          "model_name": "SliderStyleModel",
          "model_module_version": "1.5.0",
          "state": {
            "_view_name": "StyleView",
            "handle_color": null,
            "_model_name": "SliderStyleModel",
            "description_width": "",
            "_view_module": "@jupyter-widgets/base",
            "_model_module_version": "1.5.0",
            "_view_count": null,
            "_view_module_version": "1.2.0",
            "_model_module": "@jupyter-widgets/controls"
          }
        },
        "3a40d3387e764fb28839a4139a0663e6": {
          "model_module": "@jupyter-widgets/base",
          "model_name": "LayoutModel",
          "model_module_version": "1.2.0",
          "state": {
            "_view_name": "LayoutView",
            "grid_template_rows": null,
            "right": null,
            "justify_content": null,
            "_view_module": "@jupyter-widgets/base",
            "overflow": null,
            "_model_module_version": "1.2.0",
            "_view_count": null,
            "flex_flow": null,
            "width": null,
            "min_width": null,
            "border": null,
            "align_items": null,
            "bottom": null,
            "_model_module": "@jupyter-widgets/base",
            "top": null,
            "grid_column": null,
            "overflow_y": null,
            "overflow_x": null,
            "grid_auto_flow": null,
            "grid_area": null,
            "grid_template_columns": null,
            "flex": null,
            "_model_name": "LayoutModel",
            "justify_items": null,
            "grid_row": null,
            "max_height": null,
            "align_content": null,
            "visibility": null,
            "align_self": null,
            "height": null,
            "min_height": null,
            "padding": null,
            "grid_auto_rows": null,
            "grid_gap": null,
            "max_width": null,
            "order": null,
            "_view_module_version": "1.2.0",
            "grid_template_areas": null,
            "object_position": null,
            "object_fit": null,
            "grid_auto_columns": null,
            "margin": null,
            "display": null,
            "left": null
          }
        },
        "c5c53afd41a144c98df8a0c453d19de5": {
          "model_module": "@jupyter-widgets/base",
          "model_name": "LayoutModel",
          "model_module_version": "1.2.0",
          "state": {
            "_view_name": "LayoutView",
            "grid_template_rows": null,
            "right": null,
            "justify_content": null,
            "_view_module": "@jupyter-widgets/base",
            "overflow": null,
            "_model_module_version": "1.2.0",
            "_view_count": null,
            "flex_flow": null,
            "width": null,
            "min_width": null,
            "border": null,
            "align_items": null,
            "bottom": null,
            "_model_module": "@jupyter-widgets/base",
            "top": null,
            "grid_column": null,
            "overflow_y": null,
            "overflow_x": null,
            "grid_auto_flow": null,
            "grid_area": null,
            "grid_template_columns": null,
            "flex": null,
            "_model_name": "LayoutModel",
            "justify_items": null,
            "grid_row": null,
            "max_height": null,
            "align_content": null,
            "visibility": null,
            "align_self": null,
            "height": null,
            "min_height": null,
            "padding": null,
            "grid_auto_rows": null,
            "grid_gap": null,
            "max_width": null,
            "order": null,
            "_view_module_version": "1.2.0",
            "grid_template_areas": null,
            "object_position": null,
            "object_fit": null,
            "grid_auto_columns": null,
            "margin": null,
            "display": null,
            "left": null
          }
        },
        "557a488d41b144daa52563ba4ac51dec": {
          "model_module": "@jupyter-widgets/controls",
          "model_name": "VBoxModel",
          "model_module_version": "1.5.0",
          "state": {
            "_view_name": "VBoxView",
            "_dom_classes": [
              "widget-interact"
            ],
            "_model_name": "VBoxModel",
            "_view_module": "@jupyter-widgets/controls",
            "_model_module_version": "1.5.0",
            "_view_count": null,
            "_view_module_version": "1.5.0",
            "box_style": "",
            "layout": "IPY_MODEL_f9d6402707b94e6ba386fb7c6e4b8950",
            "_model_module": "@jupyter-widgets/controls",
            "children": [
              "IPY_MODEL_7d107174ac444b0aa278279544564150",
              "IPY_MODEL_9a813e0b0f20446f866863ca2f12f7d0",
              "IPY_MODEL_8c1e8a0bef03433eb1ba7efa89a2541a"
            ]
          }
        },
        "f9d6402707b94e6ba386fb7c6e4b8950": {
          "model_module": "@jupyter-widgets/base",
          "model_name": "LayoutModel",
          "model_module_version": "1.2.0",
          "state": {
            "_view_name": "LayoutView",
            "grid_template_rows": null,
            "right": null,
            "justify_content": null,
            "_view_module": "@jupyter-widgets/base",
            "overflow": null,
            "_model_module_version": "1.2.0",
            "_view_count": null,
            "flex_flow": null,
            "width": null,
            "min_width": null,
            "border": null,
            "align_items": null,
            "bottom": null,
            "_model_module": "@jupyter-widgets/base",
            "top": null,
            "grid_column": null,
            "overflow_y": null,
            "overflow_x": null,
            "grid_auto_flow": null,
            "grid_area": null,
            "grid_template_columns": null,
            "flex": null,
            "_model_name": "LayoutModel",
            "justify_items": null,
            "grid_row": null,
            "max_height": null,
            "align_content": null,
            "visibility": null,
            "align_self": null,
            "height": null,
            "min_height": null,
            "padding": null,
            "grid_auto_rows": null,
            "grid_gap": null,
            "max_width": null,
            "order": null,
            "_view_module_version": "1.2.0",
            "grid_template_areas": null,
            "object_position": null,
            "object_fit": null,
            "grid_auto_columns": null,
            "margin": null,
            "display": null,
            "left": null
          }
        },
        "7d107174ac444b0aa278279544564150": {
          "model_module": "@jupyter-widgets/controls",
          "model_name": "IntSliderModel",
          "model_module_version": "1.5.0",
          "state": {
            "_view_name": "IntSliderView",
            "style": "IPY_MODEL_78abbfca1f3f4b16a1732d83c232db9c",
            "_dom_classes": [],
            "description": "mean",
            "step": 1,
            "_model_name": "IntSliderModel",
            "orientation": "horizontal",
            "max": 5,
            "_view_module": "@jupyter-widgets/controls",
            "_model_module_version": "1.5.0",
            "value": 0,
            "_view_count": null,
            "disabled": false,
            "_view_module_version": "1.5.0",
            "min": -5,
            "continuous_update": true,
            "readout_format": "d",
            "description_tooltip": null,
            "readout": true,
            "_model_module": "@jupyter-widgets/controls",
            "layout": "IPY_MODEL_3afa1553ec81447189faabec37f0fb44"
          }
        },
        "9a813e0b0f20446f866863ca2f12f7d0": {
          "model_module": "@jupyter-widgets/controls",
          "model_name": "IntSliderModel",
          "model_module_version": "1.5.0",
          "state": {
            "_view_name": "IntSliderView",
            "style": "IPY_MODEL_3c39c9decf714947a57ea2b2ed2657fa",
            "_dom_classes": [],
            "description": "std_dev",
            "step": 1,
            "_model_name": "IntSliderModel",
            "orientation": "horizontal",
            "max": 5,
            "_view_module": "@jupyter-widgets/controls",
            "_model_module_version": "1.5.0",
            "value": 1,
            "_view_count": null,
            "disabled": false,
            "_view_module_version": "1.5.0",
            "min": 1,
            "continuous_update": true,
            "readout_format": "d",
            "description_tooltip": null,
            "readout": true,
            "_model_module": "@jupyter-widgets/controls",
            "layout": "IPY_MODEL_39f94631ea4a49d98f26e4fe97b204e6"
          }
        },
        "8c1e8a0bef03433eb1ba7efa89a2541a": {
          "model_module": "@jupyter-widgets/output",
          "model_name": "OutputModel",
          "model_module_version": "1.0.0",
          "state": {
            "_view_name": "OutputView",
            "msg_id": "",
            "_dom_classes": [],
            "_model_name": "OutputModel",
            "outputs": [
              {
                "output_type": "display_data",
                "data": {
                  "image/png": "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\n",
                  "text/plain": "<Figure size 432x288 with 1 Axes>"
                },
                "metadata": {
                  "needs_background": "light"
                }
              }
            ],
            "_view_module": "@jupyter-widgets/output",
            "_model_module_version": "1.0.0",
            "_view_count": null,
            "_view_module_version": "1.0.0",
            "layout": "IPY_MODEL_a74282983c734af8a60434d8b4144597",
            "_model_module": "@jupyter-widgets/output"
          }
        },
        "78abbfca1f3f4b16a1732d83c232db9c": {
          "model_module": "@jupyter-widgets/controls",
          "model_name": "SliderStyleModel",
          "model_module_version": "1.5.0",
          "state": {
            "_view_name": "StyleView",
            "handle_color": null,
            "_model_name": "SliderStyleModel",
            "description_width": "",
            "_view_module": "@jupyter-widgets/base",
            "_model_module_version": "1.5.0",
            "_view_count": null,
            "_view_module_version": "1.2.0",
            "_model_module": "@jupyter-widgets/controls"
          }
        },
        "3afa1553ec81447189faabec37f0fb44": {
          "model_module": "@jupyter-widgets/base",
          "model_name": "LayoutModel",
          "model_module_version": "1.2.0",
          "state": {
            "_view_name": "LayoutView",
            "grid_template_rows": null,
            "right": null,
            "justify_content": null,
            "_view_module": "@jupyter-widgets/base",
            "overflow": null,
            "_model_module_version": "1.2.0",
            "_view_count": null,
            "flex_flow": null,
            "width": null,
            "min_width": null,
            "border": null,
            "align_items": null,
            "bottom": null,
            "_model_module": "@jupyter-widgets/base",
            "top": null,
            "grid_column": null,
            "overflow_y": null,
            "overflow_x": null,
            "grid_auto_flow": null,
            "grid_area": null,
            "grid_template_columns": null,
            "flex": null,
            "_model_name": "LayoutModel",
            "justify_items": null,
            "grid_row": null,
            "max_height": null,
            "align_content": null,
            "visibility": null,
            "align_self": null,
            "height": null,
            "min_height": null,
            "padding": null,
            "grid_auto_rows": null,
            "grid_gap": null,
            "max_width": null,
            "order": null,
            "_view_module_version": "1.2.0",
            "grid_template_areas": null,
            "object_position": null,
            "object_fit": null,
            "grid_auto_columns": null,
            "margin": null,
            "display": null,
            "left": null
          }
        },
        "3c39c9decf714947a57ea2b2ed2657fa": {
          "model_module": "@jupyter-widgets/controls",
          "model_name": "SliderStyleModel",
          "model_module_version": "1.5.0",
          "state": {
            "_view_name": "StyleView",
            "handle_color": null,
            "_model_name": "SliderStyleModel",
            "description_width": "",
            "_view_module": "@jupyter-widgets/base",
            "_model_module_version": "1.5.0",
            "_view_count": null,
            "_view_module_version": "1.2.0",
            "_model_module": "@jupyter-widgets/controls"
          }
        },
        "39f94631ea4a49d98f26e4fe97b204e6": {
          "model_module": "@jupyter-widgets/base",
          "model_name": "LayoutModel",
          "model_module_version": "1.2.0",
          "state": {
            "_view_name": "LayoutView",
            "grid_template_rows": null,
            "right": null,
            "justify_content": null,
            "_view_module": "@jupyter-widgets/base",
            "overflow": null,
            "_model_module_version": "1.2.0",
            "_view_count": null,
            "flex_flow": null,
            "width": null,
            "min_width": null,
            "border": null,
            "align_items": null,
            "bottom": null,
            "_model_module": "@jupyter-widgets/base",
            "top": null,
            "grid_column": null,
            "overflow_y": null,
            "overflow_x": null,
            "grid_auto_flow": null,
            "grid_area": null,
            "grid_template_columns": null,
            "flex": null,
            "_model_name": "LayoutModel",
            "justify_items": null,
            "grid_row": null,
            "max_height": null,
            "align_content": null,
            "visibility": null,
            "align_self": null,
            "height": null,
            "min_height": null,
            "padding": null,
            "grid_auto_rows": null,
            "grid_gap": null,
            "max_width": null,
            "order": null,
            "_view_module_version": "1.2.0",
            "grid_template_areas": null,
            "object_position": null,
            "object_fit": null,
            "grid_auto_columns": null,
            "margin": null,
            "display": null,
            "left": null
          }
        },
        "a74282983c734af8a60434d8b4144597": {
          "model_module": "@jupyter-widgets/base",
          "model_name": "LayoutModel",
          "model_module_version": "1.2.0",
          "state": {
            "_view_name": "LayoutView",
            "grid_template_rows": null,
            "right": null,
            "justify_content": null,
            "_view_module": "@jupyter-widgets/base",
            "overflow": null,
            "_model_module_version": "1.2.0",
            "_view_count": null,
            "flex_flow": null,
            "width": null,
            "min_width": null,
            "border": null,
            "align_items": null,
            "bottom": null,
            "_model_module": "@jupyter-widgets/base",
            "top": null,
            "grid_column": null,
            "overflow_y": null,
            "overflow_x": null,
            "grid_auto_flow": null,
            "grid_area": null,
            "grid_template_columns": null,
            "flex": null,
            "_model_name": "LayoutModel",
            "justify_items": null,
            "grid_row": null,
            "max_height": null,
            "align_content": null,
            "visibility": null,
            "align_self": null,
            "height": null,
            "min_height": null,
            "padding": null,
            "grid_auto_rows": null,
            "grid_gap": null,
            "max_width": null,
            "order": null,
            "_view_module_version": "1.2.0",
            "grid_template_areas": null,
            "object_position": null,
            "object_fit": null,
            "grid_auto_columns": null,
            "margin": null,
            "display": null,
            "left": null
          }
        },
        "f84328c6843941ba9cfa44d61c6ab1f9": {
          "model_module": "@jupyter-widgets/controls",
          "model_name": "VBoxModel",
          "model_module_version": "1.5.0",
          "state": {
            "_view_name": "VBoxView",
            "_dom_classes": [
              "widget-interact"
            ],
            "_model_name": "VBoxModel",
            "_view_module": "@jupyter-widgets/controls",
            "_model_module_version": "1.5.0",
            "_view_count": null,
            "_view_module_version": "1.5.0",
            "box_style": "",
            "layout": "IPY_MODEL_d409f851cacd4fac87c6d4ff8d48159b",
            "_model_module": "@jupyter-widgets/controls",
            "children": [
              "IPY_MODEL_84341c6f20064ffdb327027d311569ea",
              "IPY_MODEL_b6f6d87b76954463a60a8a610cdcbc13",
              "IPY_MODEL_55282b93a41e4ab1b473bbe069188089"
            ]
          }
        },
        "d409f851cacd4fac87c6d4ff8d48159b": {
          "model_module": "@jupyter-widgets/base",
          "model_name": "LayoutModel",
          "model_module_version": "1.2.0",
          "state": {
            "_view_name": "LayoutView",
            "grid_template_rows": null,
            "right": null,
            "justify_content": null,
            "_view_module": "@jupyter-widgets/base",
            "overflow": null,
            "_model_module_version": "1.2.0",
            "_view_count": null,
            "flex_flow": null,
            "width": null,
            "min_width": null,
            "border": null,
            "align_items": null,
            "bottom": null,
            "_model_module": "@jupyter-widgets/base",
            "top": null,
            "grid_column": null,
            "overflow_y": null,
            "overflow_x": null,
            "grid_auto_flow": null,
            "grid_area": null,
            "grid_template_columns": null,
            "flex": null,
            "_model_name": "LayoutModel",
            "justify_items": null,
            "grid_row": null,
            "max_height": null,
            "align_content": null,
            "visibility": null,
            "align_self": null,
            "height": null,
            "min_height": null,
            "padding": null,
            "grid_auto_rows": null,
            "grid_gap": null,
            "max_width": null,
            "order": null,
            "_view_module_version": "1.2.0",
            "grid_template_areas": null,
            "object_position": null,
            "object_fit": null,
            "grid_auto_columns": null,
            "margin": null,
            "display": null,
            "left": null
          }
        },
        "84341c6f20064ffdb327027d311569ea": {
          "model_module": "@jupyter-widgets/controls",
          "model_name": "FloatSliderModel",
          "model_module_version": "1.5.0",
          "state": {
            "_view_name": "FloatSliderView",
            "style": "IPY_MODEL_1711861442964d61a4c839c9d524db5b",
            "_dom_classes": [],
            "description": "valore",
            "step": 0.1,
            "_model_name": "FloatSliderModel",
            "orientation": "horizontal",
            "max": 4,
            "_view_module": "@jupyter-widgets/controls",
            "_model_module_version": "1.5.0",
            "value": 1,
            "_view_count": null,
            "disabled": false,
            "_view_module_version": "1.5.0",
            "min": -4,
            "continuous_update": true,
            "readout_format": ".2f",
            "description_tooltip": null,
            "readout": true,
            "_model_module": "@jupyter-widgets/controls",
            "layout": "IPY_MODEL_770e30a332b440e584f32c823069385f"
          }
        },
        "b6f6d87b76954463a60a8a610cdcbc13": {
          "model_module": "@jupyter-widgets/controls",
          "model_name": "ButtonModel",
          "model_module_version": "1.5.0",
          "state": {
            "_view_name": "ButtonView",
            "style": "IPY_MODEL_a0e74c9eebbd439a9ce4af6c924c92da",
            "_dom_classes": [],
            "description": "Run Interact",
            "_model_name": "ButtonModel",
            "button_style": "",
            "_view_module": "@jupyter-widgets/controls",
            "_model_module_version": "1.5.0",
            "tooltip": "",
            "_view_count": null,
            "disabled": false,
            "_view_module_version": "1.5.0",
            "layout": "IPY_MODEL_649b56c20a374cce9717f5d7262c76d1",
            "_model_module": "@jupyter-widgets/controls",
            "icon": ""
          }
        },
        "55282b93a41e4ab1b473bbe069188089": {
          "model_module": "@jupyter-widgets/output",
          "model_name": "OutputModel",
          "model_module_version": "1.0.0",
          "state": {
            "_view_name": "OutputView",
            "msg_id": "",
            "_dom_classes": [],
            "_model_name": "OutputModel",
            "outputs": [
              {
                "output_type": "stream",
                "name": "stdout",
                "text": [
                  "Risultati attesi: 0.841\n",
                  "Risultati ottenuti: 0.84\n"
                ]
              },
              {
                "output_type": "display_data",
                "data": {
                  "image/png": "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\n",
                  "text/plain": "<Figure size 432x288 with 1 Axes>"
                },
                "metadata": {
                  "needs_background": "light"
                }
              }
            ],
            "_view_module": "@jupyter-widgets/output",
            "_model_module_version": "1.0.0",
            "_view_count": null,
            "_view_module_version": "1.0.0",
            "layout": "IPY_MODEL_ecc7280b75bf4e3aac45d165cad65dd9",
            "_model_module": "@jupyter-widgets/output"
          }
        },
        "1711861442964d61a4c839c9d524db5b": {
          "model_module": "@jupyter-widgets/controls",
          "model_name": "SliderStyleModel",
          "model_module_version": "1.5.0",
          "state": {
            "_view_name": "StyleView",
            "handle_color": null,
            "_model_name": "SliderStyleModel",
            "description_width": "",
            "_view_module": "@jupyter-widgets/base",
            "_model_module_version": "1.5.0",
            "_view_count": null,
            "_view_module_version": "1.2.0",
            "_model_module": "@jupyter-widgets/controls"
          }
        },
        "770e30a332b440e584f32c823069385f": {
          "model_module": "@jupyter-widgets/base",
          "model_name": "LayoutModel",
          "model_module_version": "1.2.0",
          "state": {
            "_view_name": "LayoutView",
            "grid_template_rows": null,
            "right": null,
            "justify_content": null,
            "_view_module": "@jupyter-widgets/base",
            "overflow": null,
            "_model_module_version": "1.2.0",
            "_view_count": null,
            "flex_flow": null,
            "width": null,
            "min_width": null,
            "border": null,
            "align_items": null,
            "bottom": null,
            "_model_module": "@jupyter-widgets/base",
            "top": null,
            "grid_column": null,
            "overflow_y": null,
            "overflow_x": null,
            "grid_auto_flow": null,
            "grid_area": null,
            "grid_template_columns": null,
            "flex": null,
            "_model_name": "LayoutModel",
            "justify_items": null,
            "grid_row": null,
            "max_height": null,
            "align_content": null,
            "visibility": null,
            "align_self": null,
            "height": null,
            "min_height": null,
            "padding": null,
            "grid_auto_rows": null,
            "grid_gap": null,
            "max_width": null,
            "order": null,
            "_view_module_version": "1.2.0",
            "grid_template_areas": null,
            "object_position": null,
            "object_fit": null,
            "grid_auto_columns": null,
            "margin": null,
            "display": null,
            "left": null
          }
        },
        "a0e74c9eebbd439a9ce4af6c924c92da": {
          "model_module": "@jupyter-widgets/controls",
          "model_name": "ButtonStyleModel",
          "model_module_version": "1.5.0",
          "state": {
            "_view_name": "StyleView",
            "_model_name": "ButtonStyleModel",
            "_view_module": "@jupyter-widgets/base",
            "_model_module_version": "1.5.0",
            "_view_count": null,
            "button_color": null,
            "font_weight": "",
            "_view_module_version": "1.2.0",
            "_model_module": "@jupyter-widgets/controls"
          }
        },
        "649b56c20a374cce9717f5d7262c76d1": {
          "model_module": "@jupyter-widgets/base",
          "model_name": "LayoutModel",
          "model_module_version": "1.2.0",
          "state": {
            "_view_name": "LayoutView",
            "grid_template_rows": null,
            "right": null,
            "justify_content": null,
            "_view_module": "@jupyter-widgets/base",
            "overflow": null,
            "_model_module_version": "1.2.0",
            "_view_count": null,
            "flex_flow": null,
            "width": null,
            "min_width": null,
            "border": null,
            "align_items": null,
            "bottom": null,
            "_model_module": "@jupyter-widgets/base",
            "top": null,
            "grid_column": null,
            "overflow_y": null,
            "overflow_x": null,
            "grid_auto_flow": null,
            "grid_area": null,
            "grid_template_columns": null,
            "flex": null,
            "_model_name": "LayoutModel",
            "justify_items": null,
            "grid_row": null,
            "max_height": null,
            "align_content": null,
            "visibility": null,
            "align_self": null,
            "height": null,
            "min_height": null,
            "padding": null,
            "grid_auto_rows": null,
            "grid_gap": null,
            "max_width": null,
            "order": null,
            "_view_module_version": "1.2.0",
            "grid_template_areas": null,
            "object_position": null,
            "object_fit": null,
            "grid_auto_columns": null,
            "margin": null,
            "display": null,
            "left": null
          }
        },
        "ecc7280b75bf4e3aac45d165cad65dd9": {
          "model_module": "@jupyter-widgets/base",
          "model_name": "LayoutModel",
          "model_module_version": "1.2.0",
          "state": {
            "_view_name": "LayoutView",
            "grid_template_rows": null,
            "right": null,
            "justify_content": null,
            "_view_module": "@jupyter-widgets/base",
            "overflow": null,
            "_model_module_version": "1.2.0",
            "_view_count": null,
            "flex_flow": null,
            "width": null,
            "min_width": null,
            "border": null,
            "align_items": null,
            "bottom": null,
            "_model_module": "@jupyter-widgets/base",
            "top": null,
            "grid_column": null,
            "overflow_y": null,
            "overflow_x": null,
            "grid_auto_flow": null,
            "grid_area": null,
            "grid_template_columns": null,
            "flex": null,
            "_model_name": "LayoutModel",
            "justify_items": null,
            "grid_row": null,
            "max_height": null,
            "align_content": null,
            "visibility": null,
            "align_self": null,
            "height": null,
            "min_height": null,
            "padding": null,
            "grid_auto_rows": null,
            "grid_gap": null,
            "max_width": null,
            "order": null,
            "_view_module_version": "1.2.0",
            "grid_template_areas": null,
            "object_position": null,
            "object_fit": null,
            "grid_auto_columns": null,
            "margin": null,
            "display": null,
            "left": null
          }
        },
        "56a6d20c81f7406c9e2acec0b8c083db": {
          "model_module": "@jupyter-widgets/controls",
          "model_name": "VBoxModel",
          "model_module_version": "1.5.0",
          "state": {
            "_view_name": "VBoxView",
            "_dom_classes": [
              "widget-interact"
            ],
            "_model_name": "VBoxModel",
            "_view_module": "@jupyter-widgets/controls",
            "_model_module_version": "1.5.0",
            "_view_count": null,
            "_view_module_version": "1.5.0",
            "box_style": "",
            "layout": "IPY_MODEL_51534da449f74854b9df5fadac9845a8",
            "_model_module": "@jupyter-widgets/controls",
            "children": [
              "IPY_MODEL_3e9e8f361b8147bab89458464c916184",
              "IPY_MODEL_c2975712862d49b8847e472bc8105e16",
              "IPY_MODEL_0790a9744a784856857339b297f659e1"
            ]
          }
        },
        "51534da449f74854b9df5fadac9845a8": {
          "model_module": "@jupyter-widgets/base",
          "model_name": "LayoutModel",
          "model_module_version": "1.2.0",
          "state": {
            "_view_name": "LayoutView",
            "grid_template_rows": null,
            "right": null,
            "justify_content": null,
            "_view_module": "@jupyter-widgets/base",
            "overflow": null,
            "_model_module_version": "1.2.0",
            "_view_count": null,
            "flex_flow": null,
            "width": null,
            "min_width": null,
            "border": null,
            "align_items": null,
            "bottom": null,
            "_model_module": "@jupyter-widgets/base",
            "top": null,
            "grid_column": null,
            "overflow_y": null,
            "overflow_x": null,
            "grid_auto_flow": null,
            "grid_area": null,
            "grid_template_columns": null,
            "flex": null,
            "_model_name": "LayoutModel",
            "justify_items": null,
            "grid_row": null,
            "max_height": null,
            "align_content": null,
            "visibility": null,
            "align_self": null,
            "height": null,
            "min_height": null,
            "padding": null,
            "grid_auto_rows": null,
            "grid_gap": null,
            "max_width": null,
            "order": null,
            "_view_module_version": "1.2.0",
            "grid_template_areas": null,
            "object_position": null,
            "object_fit": null,
            "grid_auto_columns": null,
            "margin": null,
            "display": null,
            "left": null
          }
        },
        "3e9e8f361b8147bab89458464c916184": {
          "model_module": "@jupyter-widgets/controls",
          "model_name": "DropdownModel",
          "model_module_version": "1.5.0",
          "state": {
            "_options_labels": [
              "S",
              "M",
              "L",
              "XL"
            ],
            "_view_name": "DropdownView",
            "style": "IPY_MODEL_c494371231df4b1fa6370d4f95bc236a",
            "_dom_classes": [],
            "description": "taglia",
            "_model_name": "DropdownModel",
            "index": 2,
            "_view_module": "@jupyter-widgets/controls",
            "_model_module_version": "1.5.0",
            "_view_count": null,
            "disabled": false,
            "_view_module_version": "1.5.0",
            "description_tooltip": null,
            "_model_module": "@jupyter-widgets/controls",
            "layout": "IPY_MODEL_5ddbb307695b469c910919981e540ef8"
          }
        },
        "c2975712862d49b8847e472bc8105e16": {
          "model_module": "@jupyter-widgets/controls",
          "model_name": "ButtonModel",
          "model_module_version": "1.5.0",
          "state": {
            "_view_name": "ButtonView",
            "style": "IPY_MODEL_48a759c1238f4f519278731389d8a224",
            "_dom_classes": [],
            "description": "Run Interact",
            "_model_name": "ButtonModel",
            "button_style": "",
            "_view_module": "@jupyter-widgets/controls",
            "_model_module_version": "1.5.0",
            "tooltip": "",
            "_view_count": null,
            "disabled": false,
            "_view_module_version": "1.5.0",
            "layout": "IPY_MODEL_0d25a412aa2a4dcb8fc9c40967d088f3",
            "_model_module": "@jupyter-widgets/controls",
            "icon": ""
          }
        },
        "0790a9744a784856857339b297f659e1": {
          "model_module": "@jupyter-widgets/output",
          "model_name": "OutputModel",
          "model_module_version": "1.0.0",
          "state": {
            "_view_name": "OutputView",
            "msg_id": "",
            "_dom_classes": [],
            "_model_name": "OutputModel",
            "outputs": [
              {
                "output_type": "stream",
                "name": "stdout",
                "text": [
                  "Risultati attesi: 0.445\n",
                  "Risultati ottenuti: 0.493\n"
                ]
              },
              {
                "output_type": "display_data",
                "data": {
                  "image/png": "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\n",
                  "text/plain": "<Figure size 432x288 with 1 Axes>"
                },
                "metadata": {
                  "needs_background": "light"
                }
              }
            ],
            "_view_module": "@jupyter-widgets/output",
            "_model_module_version": "1.0.0",
            "_view_count": null,
            "_view_module_version": "1.0.0",
            "layout": "IPY_MODEL_18d6960db9f24f8188c57d2eb7291abf",
            "_model_module": "@jupyter-widgets/output"
          }
        },
        "c494371231df4b1fa6370d4f95bc236a": {
          "model_module": "@jupyter-widgets/controls",
          "model_name": "DescriptionStyleModel",
          "model_module_version": "1.5.0",
          "state": {
            "_view_name": "StyleView",
            "_model_name": "DescriptionStyleModel",
            "description_width": "",
            "_view_module": "@jupyter-widgets/base",
            "_model_module_version": "1.5.0",
            "_view_count": null,
            "_view_module_version": "1.2.0",
            "_model_module": "@jupyter-widgets/controls"
          }
        },
        "5ddbb307695b469c910919981e540ef8": {
          "model_module": "@jupyter-widgets/base",
          "model_name": "LayoutModel",
          "model_module_version": "1.2.0",
          "state": {
            "_view_name": "LayoutView",
            "grid_template_rows": null,
            "right": null,
            "justify_content": null,
            "_view_module": "@jupyter-widgets/base",
            "overflow": null,
            "_model_module_version": "1.2.0",
            "_view_count": null,
            "flex_flow": null,
            "width": null,
            "min_width": null,
            "border": null,
            "align_items": null,
            "bottom": null,
            "_model_module": "@jupyter-widgets/base",
            "top": null,
            "grid_column": null,
            "overflow_y": null,
            "overflow_x": null,
            "grid_auto_flow": null,
            "grid_area": null,
            "grid_template_columns": null,
            "flex": null,
            "_model_name": "LayoutModel",
            "justify_items": null,
            "grid_row": null,
            "max_height": null,
            "align_content": null,
            "visibility": null,
            "align_self": null,
            "height": null,
            "min_height": null,
            "padding": null,
            "grid_auto_rows": null,
            "grid_gap": null,
            "max_width": null,
            "order": null,
            "_view_module_version": "1.2.0",
            "grid_template_areas": null,
            "object_position": null,
            "object_fit": null,
            "grid_auto_columns": null,
            "margin": null,
            "display": null,
            "left": null
          }
        },
        "48a759c1238f4f519278731389d8a224": {
          "model_module": "@jupyter-widgets/controls",
          "model_name": "ButtonStyleModel",
          "model_module_version": "1.5.0",
          "state": {
            "_view_name": "StyleView",
            "_model_name": "ButtonStyleModel",
            "_view_module": "@jupyter-widgets/base",
            "_model_module_version": "1.5.0",
            "_view_count": null,
            "button_color": null,
            "font_weight": "",
            "_view_module_version": "1.2.0",
            "_model_module": "@jupyter-widgets/controls"
          }
        },
        "0d25a412aa2a4dcb8fc9c40967d088f3": {
          "model_module": "@jupyter-widgets/base",
          "model_name": "LayoutModel",
          "model_module_version": "1.2.0",
          "state": {
            "_view_name": "LayoutView",
            "grid_template_rows": null,
            "right": null,
            "justify_content": null,
            "_view_module": "@jupyter-widgets/base",
            "overflow": null,
            "_model_module_version": "1.2.0",
            "_view_count": null,
            "flex_flow": null,
            "width": null,
            "min_width": null,
            "border": null,
            "align_items": null,
            "bottom": null,
            "_model_module": "@jupyter-widgets/base",
            "top": null,
            "grid_column": null,
            "overflow_y": null,
            "overflow_x": null,
            "grid_auto_flow": null,
            "grid_area": null,
            "grid_template_columns": null,
            "flex": null,
            "_model_name": "LayoutModel",
            "justify_items": null,
            "grid_row": null,
            "max_height": null,
            "align_content": null,
            "visibility": null,
            "align_self": null,
            "height": null,
            "min_height": null,
            "padding": null,
            "grid_auto_rows": null,
            "grid_gap": null,
            "max_width": null,
            "order": null,
            "_view_module_version": "1.2.0",
            "grid_template_areas": null,
            "object_position": null,
            "object_fit": null,
            "grid_auto_columns": null,
            "margin": null,
            "display": null,
            "left": null
          }
        },
        "18d6960db9f24f8188c57d2eb7291abf": {
          "model_module": "@jupyter-widgets/base",
          "model_name": "LayoutModel",
          "model_module_version": "1.2.0",
          "state": {
            "_view_name": "LayoutView",
            "grid_template_rows": null,
            "right": null,
            "justify_content": null,
            "_view_module": "@jupyter-widgets/base",
            "overflow": null,
            "_model_module_version": "1.2.0",
            "_view_count": null,
            "flex_flow": null,
            "width": null,
            "min_width": null,
            "border": null,
            "align_items": null,
            "bottom": null,
            "_model_module": "@jupyter-widgets/base",
            "top": null,
            "grid_column": null,
            "overflow_y": null,
            "overflow_x": null,
            "grid_auto_flow": null,
            "grid_area": null,
            "grid_template_columns": null,
            "flex": null,
            "_model_name": "LayoutModel",
            "justify_items": null,
            "grid_row": null,
            "max_height": null,
            "align_content": null,
            "visibility": null,
            "align_self": null,
            "height": null,
            "min_height": null,
            "padding": null,
            "grid_auto_rows": null,
            "grid_gap": null,
            "max_width": null,
            "order": null,
            "_view_module_version": "1.2.0",
            "grid_template_areas": null,
            "object_position": null,
            "object_fit": null,
            "grid_auto_columns": null,
            "margin": null,
            "display": null,
            "left": null
          }
        }
      }
    }
  },
  "cells": [
    {
      "cell_type": "markdown",
      "metadata": {
        "id": "view-in-github",
        "colab_type": "text"
      },
      "source": [
        "<a href=\"https://colab.research.google.com/github/MontiMic/Tesi/blob/riordinato/Untitled1.ipynb\" target=\"_parent\"><img src=\"https://colab.research.google.com/assets/colab-badge.svg\" alt=\"Open In Colab\"/></a>"
      ]
    },
    {
      "cell_type": "markdown",
      "source": [
        "# Introduzione\n",
        "La seguente presentazione si propone di semplificare l'apprendimento di alcuni principi del calcolo probabilistico offrendo la possibilità di vedere applicare le leggi su grandi numeri e confrontando i risultati ottenuti con quelli attesi dalla teoria."
      ],
      "metadata": {
        "id": "yyLelI9l5lbc"
      }
    },
    {
      "cell_type": "markdown",
      "source": [
        "Di seguito includiamo le librerie che verranno utilizzate nel corso della presentazione:\n",
        "\n",
        "* **numpy** per la manipolazione dei dati\n",
        "\n",
        "* **interact** per rendere la presentazione interattiva offrendo la possibilità allo studente di scegliere gli input\n",
        "\n",
        "* **pyplot** per la rappresentazione grafica dei risultati"
      ],
      "metadata": {
        "id": "35yCw13F7Yam"
      }
    },
    {
      "cell_type": "code",
      "execution_count": 175,
      "metadata": {
        "id": "TAxUPZupC-qR"
      },
      "outputs": [],
      "source": [
        "import numpy as np\n",
        "from ipywidgets import interact, interact_manual\n",
        "from matplotlib import pyplot as plt\n",
        "import math\n",
        "import seaborn as sns\n",
        "import random\n",
        "import scipy.stats\n",
        "import pandas as pd"
      ]
    },
    {
      "cell_type": "markdown",
      "source": [
        "##Elementi di python"
      ],
      "metadata": {
        "id": "XN5Whz1Y9fiZ"
      }
    },
    {
      "cell_type": "markdown",
      "source": [
        "Questa sezione è rivolta unicamente a chi non avesse ancora mai visto il python, allo scopo di mostrare alcune pratiche peculiari a Python."
      ],
      "metadata": {
        "id": "yHNFMDrk9pHX"
      }
    },
    {
      "cell_type": "markdown",
      "source": [
        "La funzione np.zeros(n) restituisce un array di zeri lungo n"
      ],
      "metadata": {
        "id": "kXZd8nfHDkHj"
      }
    },
    {
      "cell_type": "code",
      "source": [
        "np.zeros(5)"
      ],
      "metadata": {
        "colab": {
          "base_uri": "https://localhost:8080/"
        },
        "id": "Pukdrzg7-ggY",
        "outputId": "f3589907-3380-4cda-85c4-0a7dd988742f"
      },
      "execution_count": 176,
      "outputs": [
        {
          "output_type": "execute_result",
          "data": {
            "text/plain": [
              "array([0., 0., 0., 0., 0.])"
            ]
          },
          "metadata": {},
          "execution_count": 176
        }
      ]
    },
    {
      "cell_type": "markdown",
      "source": [
        "Specificando anche il type booleano facciamo una conversione: \n",
        "\n",
        "*  Gli zeri diventano False\n",
        "\n",
        "* I valori diversi da zero diventano True"
      ],
      "metadata": {
        "id": "VyLCyWeYDvuh"
      }
    },
    {
      "cell_type": "code",
      "source": [
        "esempio = np.zeros(10, dtype=np.bool_)\n",
        "print(esempio)"
      ],
      "metadata": {
        "colab": {
          "base_uri": "https://localhost:8080/"
        },
        "id": "lO-15LDEDZEP",
        "outputId": "7134eda4-0d21-4d3c-9c17-f08ad6692cea"
      },
      "execution_count": 177,
      "outputs": [
        {
          "output_type": "stream",
          "name": "stdout",
          "text": [
            "[False False False False False False False False False False]\n"
          ]
        }
      ]
    },
    {
      "cell_type": "markdown",
      "source": [
        "Useremo questo tipo di struttura dati per simulare praticamente tutto, dalla roulette (True = rosso, False = nero) ad un urna di palline (quando ci basteranno 2 soli colori delle palline)"
      ],
      "metadata": {
        "id": "t-fqP7KSEIUu"
      }
    },
    {
      "cell_type": "markdown",
      "source": [
        "Per modificare un array il python ci offre uno strumento molto potente: lo slicing. Questa funzionalità permette di intervenire su un qualunque sottoinsieme dell'array se usata correttamente. A noi basta sapere che in un caso come esempio[1:5:2], stiamo intervenendo sull'array esempio, prendendo gli elementi dalla posizione 1 (inclusa) alla posizione 5 (esclusa) con passo 2:"
      ],
      "metadata": {
        "id": "OEyj-K9iEeQa"
      }
    },
    {
      "cell_type": "code",
      "source": [
        "esempio = ['a', 'b', 'c', 'd', 'e']\n",
        "esempio[1:5:2]"
      ],
      "metadata": {
        "colab": {
          "base_uri": "https://localhost:8080/"
        },
        "id": "48oF9noGF3Np",
        "outputId": "29f147c9-9259-4fa6-fe1b-eb165104b29c"
      },
      "execution_count": 178,
      "outputs": [
        {
          "output_type": "execute_result",
          "data": {
            "text/plain": [
              "['b', 'd']"
            ]
          },
          "metadata": {},
          "execution_count": 178
        }
      ]
    },
    {
      "cell_type": "markdown",
      "source": [
        "Non specificare il primo parametro significa partire dall'elemento 0, omettere il secondo significa procedere fino all'ultimo (compreso) e non specificare il passo significa passo 1: non saltare nessun elemento."
      ],
      "metadata": {
        "id": "Rm-4oAaOGvIL"
      }
    },
    {
      "cell_type": "markdown",
      "source": [
        "La funzione range(n) restituisce un iterabile lungo n. In python è generalmente usata nel ciclo for."
      ],
      "metadata": {
        "id": "b6PzabLwIH1d"
      }
    },
    {
      "cell_type": "code",
      "source": [
        "for i in range(5):\n",
        "  print(i)"
      ],
      "metadata": {
        "colab": {
          "base_uri": "https://localhost:8080/"
        },
        "id": "fdFx5oZPIaf5",
        "outputId": "bcbd64b1-8b52-46b5-a5d3-4dbd40ff69a9"
      },
      "execution_count": 179,
      "outputs": [
        {
          "output_type": "stream",
          "name": "stdout",
          "text": [
            "0\n",
            "1\n",
            "2\n",
            "3\n",
            "4\n"
          ]
        }
      ]
    },
    {
      "cell_type": "markdown",
      "source": [
        "##Funzioni utili"
      ],
      "metadata": {
        "id": "UdZaaBfKzjzX"
      }
    },
    {
      "cell_type": "markdown",
      "source": [
        "Quelle che seguono sono funzioni utilizzate in più test del documento, per il corretto funzionamento dei test successivi è necessario eseguire queste celle una volta."
      ],
      "metadata": {
        "id": "iZFqSjhypj_Y"
      }
    },
    {
      "cell_type": "code",
      "source": [
        "#funzione che genera una roulette simulata da un array lungo 37 di cui 18 valori contano come \"vittoria\"\n",
        "def mk_roulette():\n",
        "  ruota = np.zeros(37, dtype=np.bool_)\n",
        "  ruota[1::2] = True\n",
        "  return ruota"
      ],
      "metadata": {
        "id": "4LJOZHxd810N"
      },
      "execution_count": 180,
      "outputs": []
    },
    {
      "cell_type": "code",
      "source": [
        "#funzione che simula una singola partita alla roulette (1 o più puntate uguali) e, dato il portafogli di partenza, torno il nuovo conto\n",
        "def partita(ruota, giocate, puntata, portafogli):\n",
        "  while(giocate > 0):\n",
        "      giocate = giocate - 1\n",
        "      portafogli = portafogli - puntata #la puntata la considero sempre persa, in caso di vittoria vinco il doppio della puntata\n",
        "      if(ruota[np.random.randint(0, (37))]): #estraggo un elemento casuale della roulette e verifico se è rosso\n",
        "        portafogli = portafogli + (puntata * 2)\n",
        "  return portafogli  "
      ],
      "metadata": {
        "id": "fqGFfq_CT7Tv"
      },
      "execution_count": 181,
      "outputs": []
    },
    {
      "cell_type": "code",
      "source": [
        "#funzione che simula un dado ritornando un intero compreso tra 1 e 6\n",
        "def trow():\n",
        "  return np.random.randint(1, 7)"
      ],
      "metadata": {
        "id": "O7NiHEewS99d"
      },
      "execution_count": 182,
      "outputs": []
    },
    {
      "cell_type": "code",
      "source": [
        "#funzione che ritorna un'urna contenente palline di 2 colori in quanità scelta\n",
        "def mk_urna(bianche, rosse):\n",
        "  tot = bianche + rosse\n",
        "  urna = np.zeros(tot, dtype=np.bool_)\n",
        "  while(rosse > 0):\n",
        "    rnd = np.random.randint(0, (tot))\n",
        "    if (not urna[rnd]):\n",
        "      urna[rnd] = True\n",
        "      rosse = rosse - 1\n",
        "  return urna"
      ],
      "metadata": {
        "id": "R06bqIr8Ii4G"
      },
      "execution_count": 183,
      "outputs": []
    },
    {
      "cell_type": "markdown",
      "source": [
        "##Interpretazione dei risultati"
      ],
      "metadata": {
        "id": "EbFr-wXap_mS"
      }
    },
    {
      "cell_type": "markdown",
      "source": [
        "I test di questo documento hanno lo scopo di mostrare che le formule viste con la teoria del calcolo probabilistico hanno un riscontro nella realtà. \n",
        "Ogni test simulerà per un numero di volte a discrezione dello studente, lo scenario descritto dall'esempio in esame. Si noti che un numero più alto di ripetizioni porterà a risultati più precisi."
      ],
      "metadata": {
        "id": "Mp5-2IqZqDex"
      }
    },
    {
      "cell_type": "code",
      "source": [
        "def moneta(lanci):\n",
        "  results = []\n",
        "  for i in range(lanci): #lanciamo la moneta tante volte quante indicate dal parametro \"lanci\"\n",
        "    results.append(np.random.randint(2))\n",
        "  #grafico\n",
        "  labels = []\n",
        "  normalized = []\n",
        "  normalized.append(round(((results.count(0) / lanci) * 100), 2)) #conto le istanze dei risultati e le normalizzo\n",
        "  normalized.append(round(100 - sum(normalized), 2)) #per evitare che per errori di arrotondamento la somma dei risultati sia 99.9%, l'ultimo risultato lo calcolo come 100 - (la somma dei precedenti)\n",
        "  for i in range(len(normalized)):\n",
        "    labels.append(str(normalized[i]) + \"%\") # aggiungo le labels (i valori riportati all'esterno del grafico)\n",
        "  plt.pie(normalized, labels=labels)\n",
        "  legenda = [\"Testa\", \"Croce\"]\n",
        "  plt.legend(legenda,loc='upper center', bbox_to_anchor=(0.5, -0.05), fancybox=True, shadow=True, ncol=5)"
      ],
      "metadata": {
        "id": "pZxUQQ-_rGuz"
      },
      "execution_count": 184,
      "outputs": []
    },
    {
      "cell_type": "code",
      "source": [
        "moneta(100)"
      ],
      "metadata": {
        "id": "7rynuIn1ubs4",
        "outputId": "7e215830-f2c7-4d5e-f72d-33fb316ade5b",
        "colab": {
          "base_uri": "https://localhost:8080/",
          "height": 282
        }
      },
      "execution_count": 185,
      "outputs": [
        {
          "output_type": "display_data",
          "data": {
            "image/png": "[encoded data removed]",
            "text/plain": [
              "<Figure size 432x288 with 1 Axes>"
            ]
          },
          "metadata": {}
        }
      ]
    },
    {
      "cell_type": "code",
      "source": [
        "moneta(10_000)"
      ],
      "metadata": {
        "id": "E6dWQdxUud7o",
        "outputId": "6f537f60-af6b-455e-9032-67244a7bd6b2",
        "colab": {
          "base_uri": "https://localhost:8080/",
          "height": 282
        }
      },
      "execution_count": 186,
      "outputs": [
        {
          "output_type": "display_data",
          "data": {
            "image/png": "[encoded data removed]",
            "text/plain": [
              "<Figure size 432x288 with 1 Axes>"
            ]
          },
          "metadata": {}
        }
      ]
    },
    {
      "cell_type": "code",
      "source": [
        "moneta(1_000_000)"
      ],
      "metadata": {
        "id": "uNmo8_dXugoY",
        "outputId": "aa23f549-5255-4710-e377-3e0ed48081f6",
        "colab": {
          "base_uri": "https://localhost:8080/",
          "height": 282
        }
      },
      "execution_count": 187,
      "outputs": [
        {
          "output_type": "display_data",
          "data": {
            "image/png": "[encoded data removed]",
            "text/plain": [
              "<Figure size 432x288 with 1 Axes>"
            ]
          },
          "metadata": {}
        }
      ]
    },
    {
      "cell_type": "markdown",
      "source": [
        "Per un buon equilibrio tra accuratezza dei risultati e tempo di esecuzione impostiamo il numero di ripetizioni a 100 000 con la variabile \"precisione\"."
      ],
      "metadata": {
        "id": "0_jUagMkw72N"
      }
    },
    {
      "cell_type": "code",
      "source": [
        "precisione = 100_000"
      ],
      "metadata": {
        "id": "7YqOeAMoxunS"
      },
      "execution_count": 188,
      "outputs": []
    },
    {
      "cell_type": "markdown",
      "source": [
        "Si lascia allo studente la possibilità di incrementare questa variabile se desiderasse dei risultati più precisi."
      ],
      "metadata": {
        "id": "uH7_BXdBxvvq"
      }
    },
    {
      "cell_type": "markdown",
      "source": [
        "# Variabili aleatorie discrete"
      ],
      "metadata": {
        "id": "gQTrf-PK7FxE"
      }
    },
    {
      "cell_type": "markdown",
      "source": [
        "Una variabile aleatoria _X_ si dice discreta se i valori che assume sono finiti oppure numerabili.\n",
        "\n",
        "Nel caso siano numerabili molto spesso potremo pensare che siano semplicmente i numeri interi, ma non vogliamo escludere anche casi in cui abbiamo dei valori non interi."
      ],
      "metadata": {
        "id": "f7tQYrZgLgm2"
      }
    },
    {
      "cell_type": "markdown",
      "source": [
        "##Esempio 1.1 \n",
        "Faccio 3 puntate sul rosso alla roulette puntando 10 euro per volta, qual è la probabilità di vincere più di un certo valore _X_?\n",
        "\n",
        "(Le vincite possibili sono valori finiti ed è quindi una variabile discreta)"
      ],
      "metadata": {
        "id": "wO2wYqZ-DSZF"
      }
    },
    {
      "cell_type": "code",
      "source": [
        "@interact_manual(vincita=(0, 30))\n",
        "def es11(vincita=5):\n",
        "  giocate = 3\n",
        "  puntata = 10\n",
        "  ruota = mk_roulette()\n",
        "  count = 0\n",
        "  for i in range(precisione):\n",
        "    portafogli = giocate * puntata\n",
        "    portafogli = partita(ruota, giocate, puntata, portafogli) #il portafogli viene aggiornato dopo aver simulato una partita\n",
        "    if((portafogli - (giocate*puntata)) >= vincita): #se ho finito le 3 puntate con una vincita maggiore o uguale a quella sperata la aggiungo al conteggio\n",
        "      count = count + 1\n",
        "  return round(count / precisione, 3)"
      ],
      "metadata": {
        "colab": {
          "base_uri": "https://localhost:8080/",
          "height": 81,
          "referenced_widgets": [
            "a47b38f1b2704c65bdecbadb26a5686b",
            "30d7f7f0fcb34fba8c16f4a87a61ad95",
            "8f91bb0636fd485bbb1948ce77608842",
            "5b27b2b61af04ccfafcc31cdce2ca1b4",
            "c071d9ccab0d4bcbaa167b633db6b6e3",
            "fca23b3adeb147eea4d7de5a8b714909",
            "5dc002e59bdf4782b8ef0928651c27c8",
            "dd3a80060be34dc896d8564f0092f446",
            "e151ad6b7f8745ee8bd66c09c192e130",
            "fae6b8f08d7142b288493b63866e7438"
          ]
        },
        "id": "w2ugmhMy_cfa",
        "outputId": "75e6d77e-dbe7-42b1-8674-7c9a4e96dfb3"
      },
      "execution_count": 189,
      "outputs": [
        {
          "output_type": "display_data",
          "data": {
            "application/vnd.jupyter.widget-view+json": {
              "model_id": "a47b38f1b2704c65bdecbadb26a5686b",
              "version_minor": 0,
              "version_major": 2
            },
            "text/plain": [
              "interactive(children=(IntSlider(value=5, description='vincita', max=30), Button(description='Run Interact', st…"
            ]
          },
          "metadata": {}
        }
      ]
    },
    {
      "cell_type": "markdown",
      "source": [
        "##Esempio 1.2\n",
        "Dati il numero di puntate ed i soldi scommessi ogni volta, quanto mi dovrei aspettare di aver vinto alla fine? (risultato in euro)"
      ],
      "metadata": {
        "id": "tTOcRD2kD_zf"
      }
    },
    {
      "cell_type": "code",
      "source": [
        "@interact_manual(giocate=(1, 10), puntata=(5, 100, 5))\n",
        "def es12(giocate = 3, puntata = 10):\n",
        "  portafogli = giocate * puntata * precisione\n",
        "  ruota = mk_roulette()\n",
        "  for i in range(precisione):\n",
        "    portafogli = partita(ruota, giocate, puntata, portafogli)\n",
        "  portafogli = portafogli / precisione\n",
        "  return round(portafogli - (giocate * puntata), 2)"
      ],
      "metadata": {
        "colab": {
          "base_uri": "https://localhost:8080/",
          "height": 113,
          "referenced_widgets": [
            "f61e903644cd43e6943031684713a23f",
            "6a9a5e9f405f4476b3859b4d2f5164de",
            "9f646fdf80ab4367b6cb0e916fa7e7e9",
            "61b1d08489c2482b9f21c386047e1440",
            "74f53bf67de04149bd8c7b6e5d089b46",
            "46ca8a14f1624212809eef7d2033a592",
            "7f4a155f69984c898267897057e7a341",
            "a775ccebb9be42fc9ad8638c30805322",
            "d4788036655d4acaa3278f279de81de4",
            "6a03bc3256bd408090d251d6dab091be",
            "d44669fd4a3d4576a78ec3a63d1c5ae8",
            "7cc3a809ffdf48acb7511deda0740468",
            "b627733223ea4b64b4a072b8f117f532"
          ]
        },
        "id": "TR8QkEnHD-B2",
        "outputId": "2eb74fd5-822a-4a5b-94ef-f20944a10dfe"
      },
      "execution_count": 190,
      "outputs": [
        {
          "output_type": "display_data",
          "data": {
            "application/vnd.jupyter.widget-view+json": {
              "model_id": "f61e903644cd43e6943031684713a23f",
              "version_minor": 0,
              "version_major": 2
            },
            "text/plain": [
              "interactive(children=(IntSlider(value=3, description='giocate', max=10, min=1), IntSlider(value=10, descriptio…"
            ]
          },
          "metadata": {}
        }
      ]
    },
    {
      "cell_type": "markdown",
      "source": [
        "# Distribuzione uniforme e non uniforme"
      ],
      "metadata": {
        "id": "qBnKgfwaLT9x"
      }
    },
    {
      "cell_type": "markdown",
      "source": [
        "Sia _A_ = {_x1_, . . . , _xn_}; una variabile _X_ che assume i valori in _A_ tutti con la stessa probabilità $\\frac{1}{n}$\n",
        "si dice _variabile uniforme_ su _A_. Scriviamo in questo caso _X_ ∼ _U_(_A_) oppure _X_ ∼ _U_(_x1_, . . . , _xn_).\n",
        "La densità è quindi:\n",
        "\n",
        "\\begin{equation}\n",
        "  px(h) =\n",
        "    \\begin{cases}\n",
        "           \\frac{1}{n} \\ se \\  h  \\ ∈ \\ ({x1}, {x2}, ..., {xn})\n",
        "          \\\\\n",
        "          0 \\ altrimenti\n",
        "        \\end{cases}\n",
        "\\end{equation}"
      ],
      "metadata": {
        "id": "GUQzPwZ8NK0Q"
      }
    },
    {
      "cell_type": "markdown",
      "source": [
        "##Esempio 2.1 \n",
        "Nel lancio di un dado sia Ω = {1, 2, 3, 4, 5, 6} l’insieme dei possibili risultati.\n",
        "Allora la funzione _X_(_n_) = n per ogni n ∈ Ω è una variabile aleatoria uniforme _X_ ∼ _U_(1, 2, 3, 4, 5, 6).\n"
      ],
      "metadata": {
        "id": "HJrqw0EbXj2l"
      }
    },
    {
      "cell_type": "code",
      "source": [
        "def es21():\n",
        "  results = []\n",
        "  for i in range(precisione):\n",
        "    results.append(trow()) #aggiungo il risultato del tiro alla lista dei risultati\n",
        "  #grafico\n",
        "  elem_count = []\n",
        "  labels = []\n",
        "  for i in range(len(set(results))): #conto le istanze di ogni risultato ottenuto ed aggiungo i totali a elem_count, poi lo metto a grafico\n",
        "    elem_count.append(results.count(i+1))\n",
        "    labels.append(str(i+1))\n",
        "  plt.bar(labels, elem_count)\n",
        "es21()"
      ],
      "metadata": {
        "colab": {
          "base_uri": "https://localhost:8080/",
          "height": 265
        },
        "id": "pO1ExmtATCeI",
        "outputId": "d94b589e-642b-4337-f155-b8180f1757bf"
      },
      "execution_count": 191,
      "outputs": [
        {
          "output_type": "display_data",
          "data": {
            "image/png": "[encoded data removed]",
            "text/plain": [
              "<Figure size 432x288 with 1 Axes>"
            ]
          },
          "metadata": {
            "needs_background": "light"
          }
        }
      ]
    },
    {
      "cell_type": "markdown",
      "source": [
        "##Esempio 2.2\n",
        "Se invece lanciassimo due dadi, la variabile _X_ che assume un valore corrispondente al numero di risultati pari ottenuti dal lancio sarebbe una _variabile non uniforme_ siccome la sua densità sarebbe:\n",
        "\n",
        "\\begin{equation}\n",
        "  py(h) =\n",
        "    \\begin{cases}\n",
        "          \\frac{1}{4} \\  h={0},{2}\n",
        "          \\\\\n",
        "          \\frac{1}{2} \\ h={1}\n",
        "          \\\\\n",
        "          0 \\ altrimenti\n",
        "        \\end{cases}\n",
        "\\end{equation}"
      ],
      "metadata": {
        "id": "BZUNA1OvaQp6"
      }
    },
    {
      "cell_type": "code",
      "source": [
        "def es22():\n",
        "  results = []\n",
        "  for i in range(precisione):\n",
        "    a, b = trow(), trow() #lancio due dadi, poi conterò quanti sono pari per aggiungere il risultato alla lista\n",
        "    results.append(2-((a % 2)+(b % 2))) #conto i dadi pari come due meno i dadi dispari (n%2 = 1 per n dispari, 0 altrimenti)\n",
        "  valori = []\n",
        "  normalized = []\n",
        "  for i in range(3): #conto le istanze dei risultati e le divido per il numero di risultati totale (normalizzo)\n",
        "    normalized.append(results.count(i) / len(results)) #len(results) torna la lunghezza della lista results\n",
        "    valori.append(\"k=\" + str(i))\n",
        "  plt.pie(normalized, labels=valori)\n",
        "es22()"
      ],
      "metadata": {
        "colab": {
          "base_uri": "https://localhost:8080/",
          "height": 248
        },
        "id": "Ly_UKZkxZr2J",
        "outputId": "70404a88-67a5-4986-9d0e-696cbf91b349"
      },
      "execution_count": 192,
      "outputs": [
        {
          "output_type": "display_data",
          "data": {
            "image/png": "[encoded data removed]",
            "text/plain": [
              "<Figure size 432x288 with 1 Axes>"
            ]
          },
          "metadata": {}
        }
      ]
    },
    {
      "cell_type": "markdown",
      "source": [
        "#Densità binomiale"
      ],
      "metadata": {
        "id": "qimeQspadWgq"
      }
    },
    {
      "cell_type": "markdown",
      "source": [
        "Consideriamo un fenomeno aleatorio e un certo evento ad esso associato. Per semplicità diciamo che se l’evento si realizza otteniamo un “successo”, viceversa che abbiamo ottenuto un “insuccesso\".\n",
        "Uno schema successo-insuccesso consiste nel ripetere questo fenomeno un certo fissato numero di volte, dette anche prove o tentativi, in cui siamo interessati unicamente al numero di successi ottenuti\n",
        "nelle varie prove.\n",
        "Supponiamo ora che le prove siano indipendenti l’una dall’altra, cioè vengono effettuate tuttevnelle medesime condizioni, indipendentemente dal risultato delle prove precedenti: parliamo in questo caso di schema successo-insuccesso con ripetizione o a prove indipendenti. Consideriamo\n",
        "quindi la variabile X data dal numero di successi in n tentativi.\n",
        "Nel caso in cui le prove siano indipendenti l’una dall’altra, la probabilità di ottenere una certa prefissata sequenza di successi e insuccessi dipende solo dal numero di questi ultimi e non dall’ordine con cui vogliamo che si succedano. La probabilità di ottenere una sequenza fissata in cui abbiamo k successi e n − k insuccessi è data da\n",
        "$p^k(1-p)^{n-k}$, dove p è la probabilità che ogni singolo tentativo abbia successo. Siccome i modi in cui possiamo scegliere le k posizioni per i successi sono date da ${n\\choose k}$ otteniamo per la variabile X la densità data da\n",
        "\n",
        "\\begin{equation}\n",
        "  px(k) =\n",
        "    \\begin{cases}\n",
        "          {n\\choose k} p^k(1-p)^{n-k} \\ se \\ k=1,2,...,n\n",
        "          \\\\\n",
        "          0 \\ altrimenti\n",
        "        \\end{cases}\n",
        "\\end{equation}\n",
        "\n",
        "\n",
        "Scriveremo in questo caso _X_ ∼ _B_(_n_, _p_) e diciamo che _X_ è una variabile binomiale."
      ],
      "metadata": {
        "id": "OUh7jiOk7WSD"
      }
    },
    {
      "cell_type": "markdown",
      "source": [
        "##Esempio 3.1\n",
        "\n",
        "Supponiamo di andare al casinò con 15 Euro e puntiamo 3 volte 5 Euro alla roulette sul rosso. Consideriamo la variabile aleatoria X data dai soldi che abbiamo in tasca alla fine delle 3 puntate. La probabilità di ottenere un numero rosso è di $\\frac{18}{37}$ ad ogni tentativo.\n",
        "Determinare la densità di X.\n",
        "La variabile X può assumere i valori 30, 20, 10, 0 a seconda di quanti rossi sono usciti. Abbiamo:\n",
        "\n",
        "P(X = 30) = $(\\frac{18}{37})^3$ = 0,115\n",
        "\n",
        "P(X = 20) = ${3\\choose 1}(\\frac{18}{37})^2 · \\frac{19}{37}$= 0, 365\n",
        "\n",
        "P(X = 10) = ${3\\choose 2}(\\frac{18}{37}) · (\\frac{19}{37})^2$ = 0,385\n",
        "\n",
        "P(X = 0) = $(\\frac{19}{37})^3$ = 0,135\n"
      ],
      "metadata": {
        "id": "O8PjzahWhrRr"
      }
    },
    {
      "cell_type": "code",
      "source": [
        "@interact_manual(giocate=(1, 6), puntata=(5, 100, 5))\n",
        "def es31(giocate = 3, puntata = 5):\n",
        "  ruota = mk_roulette()\n",
        "  results = []\n",
        "  for i in range(precisione):\n",
        "    portafogli = giocate * puntata\n",
        "    portafogli = partita(ruota, giocate, puntata, portafogli)\n",
        "    results.append(portafogli)\n",
        "  #grafico\n",
        "  normalized = []\n",
        "  valori = []\n",
        "  for i in range(giocate):\n",
        "    normalized.append(round(((results.count(puntata*2*i) / precisione) * 100), 2)) #conto le istanze dei risultati e le normalizzo\n",
        "  normalized.append(round(100 - sum(normalized), 2)) #per evitare che per errori di arrotondamento la somma dei risultati sia 99.9%, l'ultimo risultato lo calcolo come 100 - (la somma dei precedenti)\n",
        "  labels = []\n",
        "  for i in range(len(normalized)):\n",
        "    labels.append(str(normalized[i]) + \"%\") # aggiungo le labels (i valori riportati all'esterno del grafico)\n",
        "  plt.pie(normalized, labels=labels)\n",
        "  legenda = []\n",
        "  for i in range(len(normalized)):\n",
        "    legenda.append(str(puntata*2*i))\n",
        "  plt.legend(legenda,loc='upper center', bbox_to_anchor=(0.5, -0.05), fancybox=True, shadow=True, ncol=5)"
      ],
      "metadata": {
        "id": "QDB96jXivO40",
        "outputId": "c6636300-55df-45d3-a308-96784c51e4e6",
        "colab": {
          "base_uri": "https://localhost:8080/",
          "height": 113,
          "referenced_widgets": [
            "2c9bc0b96b8d4d40994e0b581aedd739",
            "8b24ede8344c456793064ae58d82e029",
            "bcaa361ca38d4cca8b59fae23713f3ac",
            "3c3683d3370b4c10aa7433bc7678e88c",
            "392ca75f9b2340938364747d79feab46",
            "ffbc0269ac17456b98e30abee1d45a8e",
            "b5a1d17fef7741c68c806605b7f73b1d",
            "13c205a05f174b5aaf4d44f2d2fac87b",
            "7351dd0f0d3140bb9e8050970e526db5",
            "ba5fa055875240b9b31b2b003013dfb0",
            "adbf8b7aea1449e8b1874aa3a27607e9",
            "1b6d03f969a44f5fbd12736feb077527",
            "2407884104ab4d11a9e3e56d84eb0bc7"
          ]
        }
      },
      "execution_count": 193,
      "outputs": [
        {
          "output_type": "display_data",
          "data": {
            "application/vnd.jupyter.widget-view+json": {
              "model_id": "2c9bc0b96b8d4d40994e0b581aedd739",
              "version_minor": 0,
              "version_major": 2
            },
            "text/plain": [
              "interactive(children=(IntSlider(value=3, description='giocate', max=6, min=1), IntSlider(value=5, description=…"
            ]
          },
          "metadata": {}
        }
      ]
    },
    {
      "cell_type": "markdown",
      "source": [
        "# Densità ipergeometrica"
      ],
      "metadata": {
        "id": "9PjQr8MmCUYu"
      }
    },
    {
      "cell_type": "markdown",
      "source": [
        "\n",
        "Un altro tipo di schema successo-insuccesso è il cosiddetto schema successo-insuccesso _senza ripetizione_. In questo caso il fenomeno aleatorio consiste nell’estrazione di n palline, senza rimpiazzare di volta in volta la pallina estratta, da un'urna contenente b palline bianche e r palline rosse.\n",
        "Diciamo che la prova (estrazione) dà successo se viene estratta una pallina bianca e consideriamo la variabile X data dal numero di successi ottenuti, cioè dal numero di palline bianche estratte.\n",
        "\n",
        "\n",
        "Osserviamo che X può assumere tutti i valori tra max(0, n − r) e min(n, b): infatti se n > r siamo sicuri di pescare almeno n−r palline bianche e chiaramente il numero di bianche estratte non può superare nè il numero estrazioni nè il numero di palline bianche.\n",
        "\n",
        "Lo spazio Ω è dato da tutti i possibili sottoinsiemi di n oggetti (le palline estratte) scelti da un insieme di b + r oggetti (le palline\n",
        "disponibili), con probabilità uniforme. L’evento “X = k” è dato quindi da tutti i sottoinsiemi delle b + r palline costituiti da k palline bianche e n − k palline rosse. Le k bianche le posso scegliere in ${b\\choose k}$ modi. Le n − k rosse in ${r \\choose {n - k}}$ modi. Abbiamo quindi che la densità di X è data da\n",
        "\n",
        "\\begin{equation}\n",
        "  px(k) =\n",
        "    \\begin{cases}\n",
        "          \\frac{{b \\choose k} · {r \\choose n - k}}{b + r \\choose n} \\ se \\ k=max(0, n-r),...,min(n,b)\n",
        "          \\\\\n",
        "          0 \\ altrimenti\n",
        "        \\end{cases}\n",
        "\\end{equation}\n",
        "\n",
        "Scriviamo in questo caso X ∼ H(n; b, r) e diciamo che X è una variabile ipergeometrica."
      ],
      "metadata": {
        "id": "OnLdbdQjCbyl"
      }
    },
    {
      "cell_type": "markdown",
      "source": [
        "##Esempio 4.1\n",
        "Un’urna contiene 8 palline bianche e 2 rosse. Ne estraiamo 3 senza rimpiazzo.\n",
        "Qual è la probabilità di estrarne al più una rossa? In questo caso, a differenza del precedente abbiamo che la variabile X = numero di rosse estratte è una ipergeometrica X ∼ H(3; 2, 8) per\n",
        "cui\n",
        "\n",
        "P(_X_ ≤ 1) = P(_X_ = 0) + P(_X_ = 1) = $\\frac{{2 \\choose 0}·{8 \\choose 3}}{10 \\choose 3}$ + $\\frac{{2 \\choose 1}·{8 \\choose 2}}{10 \\choose 3}$ = $\\frac{14}{15}$ = 0.933"
      ],
      "metadata": {
        "id": "mqqc2UiZGaIY"
      }
    },
    {
      "cell_type": "code",
      "source": [
        "@interact_manual(estrazioni=(1, 10))\n",
        "def es41(estrazioni=3):\n",
        "  bianche = 8\n",
        "  rosse = 2\n",
        "  urna = mk_urna(bianche, rosse)\n",
        "  results = 0\n",
        "  for i in range(precisione):\n",
        "    tmp = urna\n",
        "    for i in range(estrazioni):\n",
        "      tmp = np.delete(tmp, np.random.randint(0, ((bianche + rosse)-i)))\n",
        "    if(tmp.sum() > 0):\n",
        "      results = results + 1  \n",
        "  return round(results / precisione, 3)"
      ],
      "metadata": {
        "id": "R0SjK_tkMtDv",
        "colab": {
          "base_uri": "https://localhost:8080/",
          "height": 81,
          "referenced_widgets": [
            "6f0f06c0d2664a2395d9eddde5b2a5ac",
            "5cb6cb612e9b4f97b1a87fd34c0ded84",
            "904ba35da721491e8002bc575587f5f5",
            "46ddb322635a4f89ac1ae541617370a7",
            "a7a88b85cc124ca2bc2ca36c98c98668",
            "18fb2dfdb8744e84a913810fee8fae62",
            "d7e365f4edcf4bb9919083166c87a56a",
            "2bbbced909d64693a540fc9dfdee6182",
            "bf01b4dbdf384335b501993f4b982589",
            "a40bdde6ae5c4625989a6c995160d64f"
          ]
        },
        "outputId": "09f7ce86-807c-4920-e703-544575da0e0a"
      },
      "execution_count": 194,
      "outputs": [
        {
          "output_type": "display_data",
          "data": {
            "application/vnd.jupyter.widget-view+json": {
              "model_id": "6f0f06c0d2664a2395d9eddde5b2a5ac",
              "version_minor": 0,
              "version_major": 2
            },
            "text/plain": [
              "interactive(children=(IntSlider(value=3, description='estrazioni', max=10, min=1), Button(description='Run Int…"
            ]
          },
          "metadata": {}
        }
      ]
    },
    {
      "cell_type": "markdown",
      "source": [
        "#Densità geometrica - geometrica modificata"
      ],
      "metadata": {
        "id": "-GtoecXjUH1e"
      }
    },
    {
      "cell_type": "markdown",
      "source": [
        "In uno schema successo-insuccesso, anzichè al numero di successi ottenuti su n tentativi, potremmo essere interessati al numero di tentativi che devo effettuare prima di ottenere un successo."
      ],
      "metadata": {
        "id": "YBirGuNoUKbB"
      }
    },
    {
      "cell_type": "markdown",
      "source": [
        "##Esempio 5.1\n",
        "\n",
        "Consideriamo un’urna con 2 palline bianche e 3 rosse. Le estraggo senza\n",
        "rimpiazzo finchè non trovo una pallina rossa. Considero la variabile aleatoria X=numero di estrazioni per trovare una pallina rossa. X è una variabile finita in quanto assume solo i valori 1, 2, 3.\n",
        "La sua densità si determina facilmente ed è data da\n",
        "\n",
        "\\begin{equation}\n",
        "  px(k) =\n",
        "    \\begin{cases}\n",
        "          \\frac{6}{10} \\ se \\ k=1\n",
        "          \\\\\n",
        "          \\frac{3}{10} \\ se \\ k=2\n",
        "          \\\\\n",
        "          \\frac{1}{10} \\ se \\ k=3\n",
        "          \\\\\n",
        "          0 \\ altrimenti\n",
        "        \\end{cases}\n",
        "\\end{equation}\n",
        "\n"
      ],
      "metadata": {
        "id": "aXX1PJQLUX9Z"
      }
    },
    {
      "cell_type": "code",
      "source": [
        "@interact_manual(bianche=(1,5), rosse=(1, 5))\n",
        "def es51(bianche=2, rosse=3):\n",
        "  palle = mk_urna(bianche, rosse)\n",
        "  results = []\n",
        "  count=0\n",
        "  while(len(results) < precisione):\n",
        "    done = len(results)\n",
        "    tmp = palle\n",
        "    while(len(results) == done):\n",
        "      extr = np.random.randint(0, ((bianche+rosse)-count))\n",
        "      if(tmp[extr]):\n",
        "        results.append(count)\n",
        "        count=0\n",
        "      else:  \n",
        "        tmp = np.delete(tmp,extr)\n",
        "        count = count + 1\n",
        "  #grafico\n",
        "  labels = []\n",
        "  normalized = []\n",
        "  for i in range(len(set(results)) - 1): #len(set(n)) torna il numero di risultati distinti presenti in results\n",
        "    normalized.append(round(((results.count(i) / precisione) * 100), 2)) #conto le istanze dei risultati e le normalizzo\n",
        "  normalized.append(round(100 - sum(normalized), 2)) #per evitare che per errori di arrotondamento la somma dei risultati sia 99.9%, l'ultimo risultato lo calcolo come 100 - (la somma dei precedenti)\n",
        "  for i in range(len(normalized)):\n",
        "    labels.append(str(normalized[i]) + \"%\") # aggiungo le labels (i valori riportati all'esterno del grafico)\n",
        "  plt.pie(normalized, labels=labels)\n",
        "  legenda = []\n",
        "  for i in range(bianche + 1):\n",
        "    legenda.append(\"k=\"+str(i+1))\n",
        "  plt.legend(legenda,loc='upper center', bbox_to_anchor=(0.5, -0.05), fancybox=True, shadow=True, ncol=5)"
      ],
      "metadata": {
        "colab": {
          "base_uri": "https://localhost:8080/",
          "height": 113,
          "referenced_widgets": [
            "49db05ef4baf4a9a850f43db42534e50",
            "06a380a073d04e928d7c0573088b3267",
            "be89b9ec5cd1469d841b19933e3925fa",
            "d30915dee0f548c2b9a486b541085749",
            "4c54f029f82048349cfbded225c628ab",
            "fb1d9c9bfd7c4f9f868e0199ea3350f5",
            "e923c57077a34abcb698a7621ef4f327",
            "e35de19cc7c04f39ba368b9ed4626f80",
            "11c555001479444d9e262aa606b8beb3",
            "84354ba0d2a24fad8a3280b82e3ecf91",
            "1338da91ec2649fd88c42314651fd51b",
            "8552f5a41d914e2ca26ebfdd272fef82",
            "3285e09fdb254801995319ab9ffab819"
          ]
        },
        "id": "5tLgoNi7f2YM",
        "outputId": "bd31763f-63bd-4f60-cf8f-0e00b4042ba9"
      },
      "execution_count": 195,
      "outputs": [
        {
          "output_type": "display_data",
          "data": {
            "application/vnd.jupyter.widget-view+json": {
              "model_id": "49db05ef4baf4a9a850f43db42534e50",
              "version_minor": 0,
              "version_major": 2
            },
            "text/plain": [
              "interactive(children=(IntSlider(value=2, description='bianche', max=5, min=1), IntSlider(value=3, description=…"
            ]
          },
          "metadata": {}
        }
      ]
    },
    {
      "cell_type": "markdown",
      "source": [
        "Caso interessante:\n",
        "\n",
        "Nel caso di una sola pallina rossa ed _n_ palline bianche, non si ha un'estrazione in cui è più probabile trovare la rossa, hanno tutte probabilità $\\frac{1}{n+1}$ come si può verificare ri-lanciando l'esperimento precedente con una sola pallina rossa."
      ],
      "metadata": {
        "id": "Y5F358gdvcak"
      }
    },
    {
      "cell_type": "markdown",
      "source": [
        "##Esempio 5.2\n",
        "\n",
        "Ripetiamo l'esperimento precedente, ma questa volta rimpiazziamo la pallina ad ogni estrazione. La variabile X diventa numerabile e si ha\n",
        "\n",
        "\\begin{equation}\n",
        "  px(k) =\n",
        "    \\begin{cases}\n",
        "          (\\frac{2}{5})^{k-1}\\frac{3}{5} \\ se \\ k=1,2,3,...\n",
        "          \\\\\n",
        "          0 \\ altrimenti\n",
        "        \\end{cases}\n",
        "\\end{equation}\n",
        "\n",
        "Infatti richiedere X = k vuol dire aver ottenuto k − 1 insuccessi nei primi k − 1 tenativi (ognuno con probabilità $\\frac{2}{5}$) per poi finalmente ottenere un successo al k-esimo tentativo (con probabilità $\\frac{3}{5}$)"
      ],
      "metadata": {
        "id": "DPSi8KkVKH60"
      }
    },
    {
      "cell_type": "code",
      "source": [
        "@interact_manual(bianche=(1,5), rosse=(1, 5))\n",
        "def es52(bianche=2, rosse=3):\n",
        "  palle = mk_urna(bianche, rosse)\n",
        "  results = []\n",
        "  count=0\n",
        "  while(len(results) < precisione):\n",
        "    done = len(results)\n",
        "    tmp = palle\n",
        "    while(len(results) == done):\n",
        "      extr = np.random.randint(0, (bianche+rosse))\n",
        "      if(tmp[extr]):\n",
        "        results.append(count)\n",
        "        count=0\n",
        "      else:  \n",
        "        count = count + 1\n",
        "  \n",
        "  #grafico risultati\n",
        "  labels = []\n",
        "  normalized = []\n",
        "  for i in range(len(set(results))): \n",
        "    normalized.append(round(((results.count(i) / precisione) * 100), 2))\n",
        "  for i in range(len(set(results))):\n",
        "    labels.append(str(i+1))\n",
        "  \n",
        "  #grafico teorico\n",
        "  teoria = []\n",
        "  for i in range(len(set(results))):\n",
        "    teoria.append(((bianche / (bianche + rosse))**(i)) * (rosse / (bianche + rosse)) * 100)\n",
        "\n",
        "  lab_arr = np.arange(len(labels))\n",
        "\n",
        "  w=0.4\n",
        "  plt.bar(lab_arr-(w/2), normalized, width=w)\n",
        "  plt.bar(lab_arr+(w/2), teoria, width=w)\n",
        "  plt.ylabel(\"Percentage\")\n",
        "  plt.xlabel(\"K\")\n",
        "  legenda = [\"Risultati ottenuti\", \"Risultati attesi\"]\n",
        "  plt.legend(legenda,loc='upper center', bbox_to_anchor=(0.5, -0.05), fancybox=True, shadow=True, ncol=5)"
      ],
      "metadata": {
        "colab": {
          "base_uri": "https://localhost:8080/",
          "height": 113,
          "referenced_widgets": [
            "5a95a78998ff454baf82361fbea20b32",
            "d2fe2d1abb284945b1561c2f265b71bf",
            "8428c2f07b46413fbb99d081ede67ee4",
            "b465d0ee12084199a5b01c1210fa366f",
            "c9b5d1c5d85a420ea73b28712578ec38",
            "589228169b5c4fbabdb4899af9977192",
            "76eba9e570a24d8cba0c30bb6b9c0fa1",
            "62a3aef3b7a4438485702c304f34dbc8",
            "3d7ebe9778da44cbac23f1929feb07a5",
            "5b18c0a0ad6141059a792a144c3009fa",
            "3fd3ff4d36d345f68b8ce36263c4dfbf",
            "d904a9f7d5504341a3981cd9dedfde71",
            "42b0e9f74c37467bad9bf3e393123743"
          ]
        },
        "id": "p-e8XTgnsSgC",
        "outputId": "6db30e5d-d51d-40a3-b4ca-625366db3683"
      },
      "execution_count": 196,
      "outputs": [
        {
          "output_type": "display_data",
          "data": {
            "application/vnd.jupyter.widget-view+json": {
              "model_id": "5a95a78998ff454baf82361fbea20b32",
              "version_minor": 0,
              "version_major": 2
            },
            "text/plain": [
              "interactive(children=(IntSlider(value=2, description='bianche', max=5, min=1), IntSlider(value=3, description=…"
            ]
          },
          "metadata": {}
        }
      ]
    },
    {
      "cell_type": "markdown",
      "source": [
        "Quello appena visto è un esempio di _densità geometrica modificata_ che scriveremo come T ∼ Ḡ(_p_).\n",
        "\n",
        "Quando si parla di densità geometrica modificata? \n",
        "\n",
        "Si consideri uno schema successo-insuccesso con ripetizioni e prendiamo in esame la variabile T data dal tempo di primo successo. \n",
        "Se chiamiamo _Xi_ le variabili _B_(1, _p_) date da _Xi_ = 1 se l’i-esimo tentativo dà successo e _Xi_  = 0 altrimenti abbiamo come densità\n",
        "\n",
        "\\begin{equation}\n",
        "  px(k) =\n",
        "    \\begin{cases}\n",
        "          p(1-p)^{k-1} \\ se \\ k=1,2,3,...\n",
        "          \\\\\n",
        "          0 \\ altrimenti\n",
        "        \\end{cases}\n",
        "\\end{equation}\n",
        "\n",
        "La geometrica standard equivale invece alla modificata a cui viene applicato uno shift di 1. Più precisamente, una variabile geometrica standard la\n",
        "possiamo vedere come il numero di insuccessi ottenuti in uno schema successo-insuccesso prima di ottenere un successo. In particolare abbiamo che la densità è data da\n",
        "\n",
        "\\begin{equation}\n",
        "  p(k) =\n",
        "    \\begin{cases}\n",
        "          p(1-p)^{k} \\ se \\ k=1,2,3,...\n",
        "          \\\\\n",
        "          0 \\ altrimenti\n",
        "        \\end{cases}\n",
        "\\end{equation}"
      ],
      "metadata": {
        "id": "u9PHD5qa-xdK"
      }
    },
    {
      "cell_type": "markdown",
      "source": [
        "##Esempio 5.3\n",
        "\n",
        "Si lancino simultaneamente due dadi, uno rosso e uno blu. Ripetiamo questo\n",
        "esperimento finchè non otteniamo due 6. \n",
        "\n",
        "Poniamo X = primo lancio in cui il dado rosso ha dato 6,\n",
        "Y = primo lancio in cui il dado blu ha dato 6.\n",
        "\n",
        "\n",
        "Determinare inoltre la probabilità di ottenere 6 con il dado rosso prima di ottenere 6 con il dado blu.\n",
        "\n",
        "Abbiamo\n",
        "\n",
        "\\begin{equation}\n",
        "  1 = P(X < Y) + P(X > Y) + P(X = Y)\n",
        "\\end{equation}\n",
        "\n",
        "\\\\\n",
        "e chiaramente per simmetria del problema _P_(_X_ < _Y_) = _P_(_X_ > _Y_) da cui\n",
        "\n",
        "\\\\\n",
        "\n",
        "\\begin{equation}\n",
        "  P(X < Y)= \\frac {1-P(X = Y)}{2}\n",
        "\\end{equation}\n",
        "\n",
        "Ci basterà calcolare quindi _P_(_X_ =_Y_):\n",
        "\n",
        "\\\\\n",
        "\n",
        "\\begin{equation}\n",
        "  P(X = Y) = \\sum_{k=1}^\\infty P(X = Y = k) = \\sum_{k=1}^\\infty (\\frac{25}{36})^{k-1}·\\frac{1}{36} = \\frac{1}{1-\\frac{25}{36}}·\\frac{1}{36} = \\frac{1}{11}\n",
        "\\end{equation}\n",
        "\n",
        "\n",
        "dove abbiamo ancora utilizzato la somma di una serie geometrica, e quindi\n",
        "\n",
        "\\\\\n",
        "\n",
        "\\begin{equation}\n",
        "  P(X < Y) = \\frac{5}{11}\n",
        "\\end{equation}\n"
      ],
      "metadata": {
        "id": "yQRcoTTQmPxD"
      }
    },
    {
      "cell_type": "code",
      "source": [
        "def es53():\n",
        "  num = 6\n",
        "  results = []\n",
        "  for i in range(precisione):\n",
        "    a, b = 0, 0\n",
        "    while a != num and b != num:\n",
        "      a, b = trow(), trow() \n",
        "      if a == num:\n",
        "        if b == num:\n",
        "          results.append(0)\n",
        "        else:\n",
        "          results.append(1)\n",
        "      if b == num:\n",
        "        results.append(2)  \n",
        "  #grafico\n",
        "  labels = []\n",
        "  normalized = []\n",
        "  myexplode = [0, 0.2, 0]\n",
        "  for i in range(len(set(results)) - 1): #len(set(n)) torna il numero di risultati distinti presenti in results\n",
        "    normalized.append(round(((results.count(i) / precisione) * 100), 2)) #conto le istanze dei risultati e le normalizzo\n",
        "  normalized.append(round(100 - sum(normalized), 2)) #per evitare che per errori di arrotondamento la somma dei risultati sia 99.9%, l'ultimo risultato lo calcolo come 100 - (la somma dei precedenti)\n",
        "  for i in range(len(normalized)):\n",
        "    labels.append(str(normalized[i]) + \"%\") # aggiungo le labels (i valori riportati all'esterno del grafico)\n",
        "\n",
        "  teoria = [1/11, 5/11, 5/11]\n",
        "  lab_teoria = [\"9.09%\", \"45.45%\", \"45.45%\"]\n",
        "\n",
        "  f, (ax1, ax2) = plt.subplots(1, 2)\n",
        "  ax1.pie(normalized, labels=labels,explode=myexplode, colors=[\"green\", \"red\", \"blue\"], shadow=True)\n",
        "  ax1.set_title(\"Risultati ottenuti\")\n",
        "  ax2.pie(teoria, labels=lab_teoria,explode=myexplode, colors=[\"green\", \"red\", \"blue\"], shadow=True)\n",
        "  ax2.set_title(\"Risultati attesi\")\n",
        "  \n",
        "  legenda = [\"X=Y\", \"X<Y\", \"X>Y\"]\n",
        "  ax1.legend(legenda,loc='upper left', bbox_to_anchor=(0.5, -0.05), fancybox=True, shadow=True, ncol=5)\n",
        "\n",
        "es53()"
      ],
      "metadata": {
        "colab": {
          "base_uri": "https://localhost:8080/",
          "height": 230
        },
        "id": "6P-rc7pzfODB",
        "outputId": "188a112a-15c2-4e99-bd25-89804845956d"
      },
      "execution_count": 197,
      "outputs": [
        {
          "output_type": "display_data",
          "data": {
            "image/png": "[encoded data removed]",
            "text/plain": [
              "<Figure size 432x288 with 2 Axes>"
            ]
          },
          "metadata": {}
        }
      ]
    },
    {
      "cell_type": "markdown",
      "source": [
        "#Densità di Poisson"
      ],
      "metadata": {
        "id": "hPfoVQ4tzLLR"
      }
    },
    {
      "cell_type": "markdown",
      "source": [
        "Se consideriamo una variabile binomiale _X_ ∼ _B_(_n_, _p_) in cui il numero _n_ di tentativi è molto grande e il parametro _p_ molto piccolo fare i conti con la densità binomiale risulta essere computazionalmente dispendioso. \n",
        "\n",
        "Facciamo un esempio:"
      ],
      "metadata": {
        "id": "7WQ9L3IXzNQo"
      }
    },
    {
      "cell_type": "markdown",
      "source": [
        "##Esempio 6.1\n",
        "\n",
        "Supponiamo che in una città nascano 10 000 bambini ogni anno e che ci\n",
        "sia una malattia rara che colpisce un bambino su 2 mila. Qual è la probabilità che quest’anno nascano più di 5 bambini affetti da questa malattia? \n",
        "\n",
        "La variabile _X_ = ”numero di bambini nati con questa malattia quest’anno” è una variabile binomiale _X_ = _B_($10^4$, $\\frac{1}{2000}$). Tuttavia se\n",
        "proviamo ad effettuare il calcolo _P_(_X_ > 5), anche se abbiamo una formula esatta per effettuarlo, è inevitabilmente molto complesso.\n"
      ],
      "metadata": {
        "id": "VD0JenT7zaOx"
      }
    },
    {
      "cell_type": "markdown",
      "source": [
        "Per risolvere questo tipo di problema introduciamo la seguente\n",
        "\n",
        "\\\\\n",
        "\\begin{equation}\n",
        "  p(k) =\n",
        "    \\begin{cases}\n",
        "          e^{-λ} \\frac{λ^k}{k!} \\ se \\ k=0,1,2,...\n",
        "          \\\\\n",
        "          0 \\ altrimenti\n",
        "        \\end{cases}\n",
        "\\end{equation}\n",
        "\n",
        "\\\\\n",
        "\n",
        "dove λ è un parametro reale strettamente positivo."
      ],
      "metadata": {
        "id": "-07DvPlK0SRP"
      }
    },
    {
      "cell_type": "markdown",
      "source": [
        "Nel nostro esempio possiamo pensare alla variabile _X_ come ad una variabile di Poisson di parametro 5. \n",
        "\n",
        "Otteniamo:\n",
        "\n",
        "\\begin{equation}\n",
        "  P(X > 5) = 1 − P(X = 0) − P(X = 1) − P(X = 2) − P(X = 3) − P(X = 4) \n",
        "  \\\\\n",
        "  = 1 − e^{−5}(1 + 5 + \\frac{25}{2} + \\frac{125}{6} + \\frac{625}{24} + \\frac{3125}{120}) = 0, 384.\n",
        "\\end{equation}"
      ],
      "metadata": {
        "id": "fHA5WLXr2VKr"
      }
    },
    {
      "cell_type": "markdown",
      "source": [
        "Nella simulazione riportata sono simulati 100 anni, ripetendo l'esperimento si aggiungono i risultati dei test successivi e si può osservare come il grafico dei risultati ottenuti si avvicini a quello dei risultati attesi."
      ],
      "metadata": {
        "id": "aQ3YUomoewtG"
      }
    },
    {
      "cell_type": "code",
      "source": [
        "res_poisson = []"
      ],
      "metadata": {
        "id": "niF9fNy-AGHk"
      },
      "execution_count": 198,
      "outputs": []
    },
    {
      "cell_type": "code",
      "source": [
        "def es61():\n",
        "  bambini = 10_000\n",
        "  malattia = 2_000\n",
        "  for i in range(100):\n",
        "    count = 0\n",
        "    for i in range(bambini):\n",
        "      if np.random.randint(malattia) == 1:\n",
        "        count = count + 1\n",
        "    res_poisson.append(count)\n",
        "\n",
        "  #grafico risultati\n",
        "  set_res = list(set(res_poisson))\n",
        "  normalized = []\n",
        "  for i in set_res: \n",
        "    normalized.append(round(((res_poisson.count(i) / len(res_poisson)) * 100), 2))\n",
        " \n",
        "  #grafico teorico\n",
        "  teoria = []\n",
        "  lam = bambini / malattia\n",
        "  for i in set_res:\n",
        "    teoria.append((math.e**-lam)*((lam**i)/math.factorial(i)) * 100)\n",
        "\n",
        "  lab_arr = np.arange(len(set_res))\n",
        "\n",
        "  w=0.4\n",
        "  plt.bar(lab_arr-(w/2), normalized, width=w)\n",
        "  plt.bar(lab_arr+(w/2), teoria, width=w)\n",
        "\n",
        "  legenda = [\"Risultati ottenuti\", \"Risultati attesi\"]\n",
        "  plt.legend(legenda,loc='upper center', bbox_to_anchor=(0.5, -0.05), fancybox=True, shadow=True, ncol=5)\n",
        "  print(\"Anni simulati: \" + str(len(res_poisson)))"
      ],
      "metadata": {
        "id": "L8XSvxDZMGZe"
      },
      "execution_count": 199,
      "outputs": []
    },
    {
      "cell_type": "code",
      "source": [
        "es61()"
      ],
      "metadata": {
        "id": "H4CjxxyZ7Rxc",
        "colab": {
          "base_uri": "https://localhost:8080/",
          "height": 299
        },
        "outputId": "163d0d93-9c5f-4f69-97b1-43cd175e14f7"
      },
      "execution_count": 200,
      "outputs": [
        {
          "output_type": "stream",
          "name": "stdout",
          "text": [
            "Anni simulati: 100\n"
          ]
        },
        {
          "output_type": "display_data",
          "data": {
            "image/png": "[encoded data removed]",
            "text/plain": [
              "<Figure size 432x288 with 1 Axes>"
            ]
          },
          "metadata": {
            "needs_background": "light"
          }
        }
      ]
    },
    {
      "cell_type": "markdown",
      "source": [
        "#Densità continua uniforme"
      ],
      "metadata": {
        "id": "2HvnAmIq9-iV"
      }
    },
    {
      "cell_type": "markdown",
      "source": [
        "La variabile continua più semplice da studiare è quella che può assumere solo valori in un certo intervallo limitato e in modo ”uniforme”."
      ],
      "metadata": {
        "id": "q-CPgnYeAXnr"
      }
    },
    {
      "cell_type": "markdown",
      "source": [
        "## Esempio 7.1\n",
        "\n",
        "Un autobus passa da una fermata ogni 10 minuti. Noi arriviamo alla fermata in un momento casuale, chiamiamo T la variabile del tempo d'attesa che assume valori tra 0 e 10 minuti. Mediamente, quanto dovrò aspettare?\n",
        "\n",
        "Iniziamo prendendo l'autobus un po' di volte tenendo uno storico dei tempi di attesa:"
      ],
      "metadata": {
        "id": "AFabxKb1Ar4F"
      }
    },
    {
      "cell_type": "code",
      "source": [
        "uniforme = []\n",
        "tempo = 10\n",
        "for i in range(precisione):\n",
        "  uniforme.append(random.uniform(0, tempo))"
      ],
      "metadata": {
        "id": "A4ckSSdzDloY"
      },
      "execution_count": 201,
      "outputs": []
    },
    {
      "cell_type": "code",
      "source": [
        "#funzione che calcola il valore di x in ogni punto (densità continua uniforme)\n",
        "def densita(x, a, b):\n",
        "  res = []\n",
        "  for i in x:\n",
        "    if i < a:\n",
        "      res.append(0)\n",
        "    elif i > b:\n",
        "      res.append(0)\n",
        "    else:\n",
        "      res.append(1 / (b - a))\n",
        "  return res"
      ],
      "metadata": {
        "id": "G_5JWNvfHgIA"
      },
      "execution_count": 202,
      "outputs": []
    },
    {
      "cell_type": "markdown",
      "source": [
        "E mettiamo a grafico i risultati ottenuti"
      ],
      "metadata": {
        "id": "LfkzQQAmE_XV"
      }
    },
    {
      "cell_type": "code",
      "source": [
        "def es71():\n",
        "  points = (tempo + 2) * 10\n",
        "  \n",
        "  x = np.linspace(-1, tempo+1, points)\n",
        "\n",
        "  coord = []\n",
        "  for i in range(points):\n",
        "    count = 0\n",
        "    for item in uniforme:\n",
        "      if (item > -1 + (((tempo+2)/points)*i) and item <= -1 + (((tempo+2)/points)*(i+1))):\n",
        "        count = count + 1\n",
        "    coord.append((count / precisione) * (points / (tempo + 2)))\n",
        "  \n",
        "  p1 = plt.figure(1)\n",
        "  ax = plt.axes()\n",
        "  ax.plot(x, densita(x, 0, tempo))\n",
        "  ax.plot(x, coord)\n",
        "  ax.set_title(\"Densità\")\n",
        "  legenda = [\"Risultati attesi\", \"Risultati ottenuti\"]\n",
        "  plt.legend(legenda,loc='upper center', bbox_to_anchor=(0.5, -0.05), fancybox=True, shadow=True, ncol=5)\n",
        "  sns.displot(uniforme, kind=\"ecdf\").set(title=\"Ripartizione\") \n",
        "es71()"
      ],
      "metadata": {
        "id": "OTG0UQTfXbHD",
        "outputId": "cd94a12d-3db6-480f-9ec0-a32530153ce0",
        "colab": {
          "base_uri": "https://localhost:8080/",
          "height": 662
        }
      },
      "execution_count": 203,
      "outputs": [
        {
          "output_type": "display_data",
          "data": {
            "image/png": "[encoded data removed]",
            "text/plain": [
              "<Figure size 432x288 with 1 Axes>"
            ]
          },
          "metadata": {
            "needs_background": "light"
          }
        },
        {
          "output_type": "display_data",
          "data": {
            "image/png": "[encoded data removed]",
            "text/plain": [
              "<Figure size 360x360 with 1 Axes>"
            ]
          },
          "metadata": {
            "needs_background": "light"
          }
        }
      ]
    },
    {
      "cell_type": "markdown",
      "source": [
        "Per quanto riguarda la soluzione il valore atteso invece ci basta sapere che il valore atteso di una variabile uniforme è il punto medio dell'intervallo: 5 minuti."
      ],
      "metadata": {
        "id": "CO8fDJK3MDBv"
      }
    },
    {
      "cell_type": "code",
      "source": [
        "@interact_manual(tempo=(1, 20))\n",
        "def es71(tempo = 10):\n",
        "  results = []\n",
        "  for i in range(precisione):\n",
        "    results.append(random.uniform(0, tempo))\n",
        "  return round(np.mean(results), 2)"
      ],
      "metadata": {
        "colab": {
          "base_uri": "https://localhost:8080/",
          "height": 81,
          "referenced_widgets": [
            "ee03aad2c354407aabca07db614d2703",
            "12b896bce5074b0bbf34ad3ce9cd69d4",
            "975fac20e38b4fb6969209f1501e32ce",
            "8c32492e064e44618d737bb45841c68d",
            "8fa66fc684914ad1bf9dbdc9a1d471b1",
            "d410d0b3832645d18d3f342cd9bbe2e7",
            "65cfb1634e9c4698904b81c053f3c980",
            "68d3b045a74c4f029312e1fbd7a1f2eb",
            "8c08f680d7ac4450ad83ad2b313e1fce",
            "bce24d0f48fa4fd9a6dab9c4ebf7a4f0"
          ]
        },
        "id": "jG0a0YfTMiZi",
        "outputId": "843f1ded-d746-4413-fe98-dd8a39d358dd"
      },
      "execution_count": 204,
      "outputs": [
        {
          "output_type": "display_data",
          "data": {
            "application/vnd.jupyter.widget-view+json": {
              "model_id": "ee03aad2c354407aabca07db614d2703",
              "version_minor": 0,
              "version_major": 2
            },
            "text/plain": [
              "interactive(children=(IntSlider(value=10, description='tempo', max=20, min=1), Button(description='Run Interac…"
            ]
          },
          "metadata": {}
        }
      ]
    },
    {
      "cell_type": "markdown",
      "source": [
        "##Esercizio 7.2"
      ],
      "metadata": {
        "id": "suJKbVomvlw2"
      }
    },
    {
      "cell_type": "markdown",
      "source": [
        "Continuiamo con l'esempio del bus ma questa volta ci interessa sapere la probabilità che arrivi in un certo intervallo di tempo"
      ],
      "metadata": {
        "id": "Fr271Olzv2DY"
      }
    },
    {
      "cell_type": "code",
      "source": [
        "@interact_manual(a=(0, 10), b=(0, 10))\n",
        "def es72(a = 4, b = 6):\n",
        "  if a > b:\n",
        "    return (\"Intervallo non valido\")\n",
        "\n",
        "  unif1 = [x for x in uniforme if x >= a and x <= b]\n",
        "  \n",
        "  points = (tempo + 2) * 10\n",
        "\n",
        "  x = np.linspace(-1, tempo+1, points)\n",
        "\n",
        "  coord = []\n",
        "  for i in range(points):\n",
        "    count = 0\n",
        "    for item in uniforme:\n",
        "      if (item > -1 + (((tempo+2)/points)*i) and item <= -1 + (((tempo+2)/points)*(i+1))):\n",
        "        count = count + 1\n",
        "    coord.append((count / precisione) * (points / (tempo + 2)))\n",
        "\n",
        "  coord2 = []\n",
        "  for i in range(points):\n",
        "    count = 0\n",
        "    for item in unif1:\n",
        "      if (item > -1 + (((tempo+2)/points)*i) and item <= -1 + (((tempo+2)/points)*(i+1))):\n",
        "        count = count + 1\n",
        "    coord2.append((count / precisione) * (points / (tempo + 2)))\n",
        "\n",
        "  plt.plot(x, coord)\n",
        "  plt.fill_betweenx(coord2, x, alpha=0.30)\n",
        "  \n",
        "  ris1 = round((b-a) / tempo, 3)\n",
        "  print(\"Risultati attesi: \" + str(ris1))\n",
        "  ris2 = round(len(unif1) / precisione, 3)\n",
        "  print(\"Risultati ottenuti: \" + str(ris2))"
      ],
      "metadata": {
        "id": "0Gfo7zOovTuG",
        "outputId": "b266d4d7-bfcf-4cbd-b3c6-23994e828367",
        "colab": {
          "base_uri": "https://localhost:8080/",
          "height": 113,
          "referenced_widgets": [
            "6997319bbec848e6a9e1c0adb0c2f548",
            "5bc7e204740d473cbbbeadc1d88e84e2",
            "6cf225b91e424f9fa21cefe72a5320a0",
            "efc5079c7c4649ee89587f252086a2bd",
            "760438eac24d4c10af4b7d44efbcb4a8",
            "72cf2fad4ba14a478f6945831afb9b77",
            "b9d19ed9d7a3490a8fa86179f57dcc33",
            "701ab8f68bb54c51ab4c6c1d8153f624",
            "9705511027c848119395ee87b570d82a",
            "fa57ca81b278412c897fcd1f3c324b2e",
            "db74d22dd7554a68a0a52d6c2672eeff",
            "b62e6fb206b14c74ae0c71f0343c3fd3",
            "8d13ff3236f340a981cd3e80243ce43a"
          ]
        }
      },
      "execution_count": 205,
      "outputs": [
        {
          "output_type": "display_data",
          "data": {
            "application/vnd.jupyter.widget-view+json": {
              "model_id": "6997319bbec848e6a9e1c0adb0c2f548",
              "version_minor": 0,
              "version_major": 2
            },
            "text/plain": [
              "interactive(children=(IntSlider(value=4, description='a', max=10), IntSlider(value=6, description='b', max=10)…"
            ]
          },
          "metadata": {}
        }
      ]
    },
    {
      "cell_type": "markdown",
      "source": [
        "#Densità continua esponenziale"
      ],
      "metadata": {
        "id": "KzWvYabHHMQp"
      }
    },
    {
      "cell_type": "markdown",
      "source": [
        "Fissiamo un parametro _λ_ e ricordiamo che una primitiva della funzione $e^{−λt}$ è data da -$\\frac{1}{λ}e^{−λt}$ da cui abbiamo che:\n",
        "\n",
        "\\begin{equation}\n",
        "  \\int_{0}^{+ \\infty} e^{-λt} \\,dt = \\frac{1}{λ} \n",
        "\\end{equation}\n",
        "\n",
        "Proposizione:\n",
        "\n",
        "\\begin{equation}\n",
        "  f(s) =\n",
        "    \\begin{cases}\n",
        "          λ e^{-λs} \\ se \\ s \\geq 0\n",
        "          \\\\\n",
        "          0 \\ altrimenti\n",
        "        \\end{cases}\n",
        "\\end{equation}\n",
        "\n",
        "dove _λ_ è un parametro positivo con densità continua astratta.\n",
        "\n",
        "Una variabile _X_ che ammette tale densità si dice esponenziale di parametro _λ_ e scriveremo _X_ ∼ Exp(_λ_). Lo stesso calcolo mostra che la funzione di ripartizione di una variabile _X_ ∼ Exp(_λ_) è data da\n",
        "\n",
        "\\begin{equation}\n",
        "  Fx(t) =\n",
        "    \\begin{cases}\n",
        "          1-e^{-λt} \\ se \\ t \\ge 0\n",
        "          \\\\\n",
        "          0 \\ \\ \\ \\ \\ \\ \\ \\ \\ \\ \\ \\ \\ se \\ t \\le 0\n",
        "        \\end{cases}\n",
        "\\end{equation}"
      ],
      "metadata": {
        "id": "kDn_33f8UA9S"
      }
    },
    {
      "cell_type": "markdown",
      "source": [
        "##Esempio 8.1\n",
        "\n",
        "Il decadimento di una particella radioattiva segue una legge esponenziale di parametro λ = 1 (in giorni).\n",
        "\n",
        "Qual è la probabilità che dopo 3 ore sia già decaduta?"
      ],
      "metadata": {
        "id": "vdltBTAzbjNQ"
      }
    },
    {
      "cell_type": "markdown",
      "source": [
        "Usando un cambio di variabile simuliamo un set di valori di una variabile esponenziale con parametro _λ_ = 1 "
      ],
      "metadata": {
        "id": "KXHsGg67--dB"
      }
    },
    {
      "cell_type": "code",
      "source": [
        "exp = []\n",
        "for i in range(precisione):\n",
        "  exp.append(-math.log(random.uniform(0, 1)))"
      ],
      "metadata": {
        "id": "GrAEx7n-2V-2"
      },
      "execution_count": 206,
      "outputs": []
    },
    {
      "cell_type": "markdown",
      "source": [
        "E ne grafichiamo la densità e la partizione "
      ],
      "metadata": {
        "id": "xP2yQ4p9ACry"
      }
    },
    {
      "cell_type": "code",
      "source": [
        "def exp_plot():\n",
        "  points = 130\n",
        "  space = 6\n",
        "\n",
        "  x = np.linspace(-1, space - 1, points)\n",
        "\n",
        "  coord = []\n",
        "  for i in range(points):\n",
        "    count = 0\n",
        "    for item in exp:\n",
        "      if (item > -1 + (((space)/points)*i) and item <= -1 + (((space)/points)*(i+1))):\n",
        "        count = count + 1\n",
        "    coord.append((count / precisione) * (points / (space)))\n",
        "  \n",
        "  sns.displot(exp, kind=\"ecdf\")\n",
        "  plt.plot(x, coord)\n",
        "  plt.xlim(-1, 4)\n",
        "  plt.title(\"Densità e ripartizione della variabile in esame\")\n",
        "\n",
        "  legenda = [\"Funzione di ripartizione\", \"Densità\"]\n",
        "  plt.legend(legenda,loc='upper center', bbox_to_anchor=(0.5, -0.05), fancybox=True, shadow=True, ncol=5)\n",
        "\n",
        "exp_plot()"
      ],
      "metadata": {
        "colab": {
          "base_uri": "https://localhost:8080/",
          "height": 403
        },
        "id": "o6Bmu5FDMOPV",
        "outputId": "4d9f4e26-c300-43df-b707-96b1a5bf86fe"
      },
      "execution_count": 207,
      "outputs": [
        {
          "output_type": "display_data",
          "data": {
            "image/png": "[encoded data removed]",
            "text/plain": [
              "<Figure size 360x360 with 1 Axes>"
            ]
          },
          "metadata": {
            "needs_background": "light"
          }
        }
      ]
    },
    {
      "cell_type": "markdown",
      "source": [
        "Tornando alla domanda iniziale, contiamo quante volte abbiamo ottenuto un tempo minore di 3 ore e confrontiamolo coi risultati attesi dalla teoria."
      ],
      "metadata": {
        "id": "MrVxuxXhB-Dh"
      }
    },
    {
      "cell_type": "code",
      "source": [
        "@interact_manual(ore=(0, 72))\n",
        "def es81(ore = 3):\n",
        "  count = 0\n",
        "  for item in exp:\n",
        "    if (item * 24) <= ore:\n",
        "      count = count + 1\n",
        "  print(\"Risultati ottenuti: \" + str(round(count / precisione, 3)))\n",
        "  res = 1 - (math.e**(-1 * (ore / 24)))\n",
        "  print(\"Risultati attesi: \" + str(round(res, 3)))"
      ],
      "metadata": {
        "colab": {
          "base_uri": "https://localhost:8080/",
          "height": 116,
          "referenced_widgets": [
            "6b5858f0966e49f8b52b012fe88d4ae5",
            "327daafeb9fe44b0b2faad610a8b2d81",
            "d6bcec39134744b9911357537432a6c4",
            "455043177ac8429ebd857507189cee68",
            "61b714b9ddb141bb9a65b4c3763a2d5f",
            "fbed559dc6114f238f8f0c51553502c1",
            "7469f4d9f28745729e496d3078d79712",
            "ff7b5e9e605e489d87f026bccd8b5e59",
            "c91601c39dde4cfeadfb7572e9698382",
            "d42e285a26094ca4a8ebe92ec78892f8"
          ]
        },
        "id": "-nLD7XugV7iy",
        "outputId": "41a33a95-cc66-4fd6-ff77-07369f3ad459"
      },
      "execution_count": 208,
      "outputs": [
        {
          "output_type": "display_data",
          "data": {
            "application/vnd.jupyter.widget-view+json": {
              "model_id": "6b5858f0966e49f8b52b012fe88d4ae5",
              "version_minor": 0,
              "version_major": 2
            },
            "text/plain": [
              "interactive(children=(IntSlider(value=3, description='ore', max=72), Button(description='Run Interact', style=…"
            ]
          },
          "metadata": {}
        }
      ]
    },
    {
      "cell_type": "markdown",
      "source": [
        "Fin'ora abbiamo visto variabili esponenziali aventi _λ_ = 1, il caso base. Vediamo ora lo stesso esempio ma questa volta il tempo di decadimento della particella è segue una legge esponenziale di parametro _λ_ ≠ 1.\n",
        "\n",
        "Iniziamo vedendone il grafico della densità:"
      ],
      "metadata": {
        "id": "z8484TUNFyqT"
      }
    },
    {
      "cell_type": "code",
      "source": [
        "@interact_manual(λ=(2, 10))\n",
        "def exp_test(λ=2):\n",
        "  lamb = λ\n",
        "\n",
        "  test = []\n",
        "  for i in range(precisione):\n",
        "    test.append((-1/(lamb))*math.log(random.uniform(0, 1)))\n",
        "\n",
        "  b = max(test)/3\n",
        "  a = -b/10\n",
        "  points = 100\n",
        "  x = np.linspace(a, b, points)\n",
        "\n",
        "  coord = []\n",
        "  for i in range(points):\n",
        "    count = 0\n",
        "    for item in test:\n",
        "      if (item > a + (((abs(a) + b)/points)*i)) and (item <= a + (((abs(a) + b)/points)*(i+1))):\n",
        "        count = count + 1\n",
        "    coord.append((count / precisione) * (points / (abs(a) + b)))\n",
        "\n",
        "  plt.plot(x, coord)"
      ],
      "metadata": {
        "colab": {
          "base_uri": "https://localhost:8080/",
          "height": 329,
          "referenced_widgets": [
            "079efbf20a4141aa8930d01d905bb235",
            "17bdcd18601c45e89324eb7ecb1e65ec",
            "c633566afecc4e5bb4e91b44f9b9b8b2",
            "80295e7466824983ae909810711dd93e",
            "872eb2df58cf4ddd9b6c032a5d57a353",
            "ae463684a62343a79e1b4582722807d8",
            "13b67dc5dcfd4547afa84d1939796ef6",
            "781be2889ee946acbb045e70876e23ba",
            "e83efd71e2b341cdb5086fd16614d128",
            "c830a9fb71fb444685c94e920faa7f1b"
          ]
        },
        "id": "irnlB3MXGPPl",
        "outputId": "076d71fa-8263-4bf1-e37d-b51e929b1b0c"
      },
      "execution_count": 209,
      "outputs": [
        {
          "output_type": "display_data",
          "data": {
            "application/vnd.jupyter.widget-view+json": {
              "model_id": "079efbf20a4141aa8930d01d905bb235",
              "version_minor": 0,
              "version_major": 2
            },
            "text/plain": [
              "interactive(children=(IntSlider(value=2, description='λ', max=10, min=2), Button(description='Run Interact', s…"
            ]
          },
          "metadata": {}
        }
      ]
    },
    {
      "cell_type": "markdown",
      "source": [
        "E confrontiamo i risultati che abbiamo ottenuto con quelli attesi dalla teoria:"
      ],
      "metadata": {
        "id": "ySU20jIY7tkY"
      }
    },
    {
      "cell_type": "code",
      "source": [
        "@interact_manual(ore=(0, 72), λ=(2, 10))\n",
        "def exp_particella(ore = 10, λ = 2):\n",
        "  test = []\n",
        "  for i in range(precisione):\n",
        "    test.append((-1/λ)*math.log(random.uniform(0, 1)))\n",
        "  count = 0\n",
        "  for item in test:\n",
        "    if (item * 24) <= ore:\n",
        "      count = count + 1\n",
        "  print(\"Risultati ottenuti: \" + str(round(count / precisione, 3)))\n",
        "  res = 1 - (math.e**(-(λ * (ore / 24))))\n",
        "  print(\"Risultati attesi: \" + str(round(res, 3)))"
      ],
      "metadata": {
        "colab": {
          "base_uri": "https://localhost:8080/",
          "height": 148,
          "referenced_widgets": [
            "5bea3bc5a09a46cf9e219b3d8f968809",
            "4c3e5003caef4becbffddacac0c67b6d",
            "9b454343915d4cd28ea520df9d310fbd",
            "8e8d8607cdb54e10b5f38173022f45b5",
            "fbd25c74e9eb42fda870bc6737fd28dc",
            "d6f276044a5f4654a0f9435919b4f1cc",
            "981dc6537dc040398fbbbc774f08e278",
            "ed25f89ef907497aa02450c4312ab7e3",
            "e12ca4592fe14002926f381d267ed9b8",
            "15a0913a16f94f1aa4c508af7509cd44",
            "0dba1effbb234993957a3715211bf412",
            "b4f7469641cd46788736a54dd1a2e223",
            "00aa2a2a368040ffb1619e72bb76b314"
          ]
        },
        "id": "lew-nKK9KlQ0",
        "outputId": "f315aec1-7ab1-4a1e-f9f6-0374a7ec7647"
      },
      "execution_count": 210,
      "outputs": [
        {
          "output_type": "display_data",
          "data": {
            "application/vnd.jupyter.widget-view+json": {
              "model_id": "5bea3bc5a09a46cf9e219b3d8f968809",
              "version_minor": 0,
              "version_major": 2
            },
            "text/plain": [
              "interactive(children=(IntSlider(value=10, description='ore', max=72), IntSlider(value=2, description='λ', max=…"
            ]
          },
          "metadata": {}
        }
      ]
    },
    {
      "cell_type": "markdown",
      "source": [
        "## Esercizio 8.2"
      ],
      "metadata": {
        "id": "QdEbzDc5JVI8"
      }
    },
    {
      "cell_type": "markdown",
      "source": [
        "Continuiamo con l'esempio della particella ma questa volta ci interessa sapere la probabilità decada in un certo intervallo di tempo"
      ],
      "metadata": {
        "id": "sxmUgXSeJcYJ"
      }
    },
    {
      "cell_type": "code",
      "source": [
        "def bounds(x, a, b):\n",
        "  res = []\n",
        "  for i in x:\n",
        "    if i < a:\n",
        "      res.append(0)\n",
        "    elif i > b:\n",
        "      res.append(0)\n",
        "    else:\n",
        "      res.append(1)\n",
        "  return res"
      ],
      "metadata": {
        "id": "Iiln3yhVXChT"
      },
      "execution_count": 211,
      "outputs": []
    },
    {
      "cell_type": "code",
      "source": [
        "@interact_manual(t1=(0, 96), t2=(0, 96))\n",
        "def es82(t1=3, t2=10):\n",
        "  if t1 > t2:\n",
        "    return (\"Intervallo non valido\")\n",
        "  \n",
        "  points = 325\n",
        "  tempo = 4.5\n",
        "  a = -0.5\n",
        "\n",
        "  x = np.linspace(a, tempo + a, points)\n",
        "  \n",
        "  exp1 = []\n",
        "  for i in range(precisione):\n",
        "    exp1.append(-math.log(random.uniform(0, 1)))\n",
        "\n",
        "  exp2 = [x for x in exp1 if x >= t1/24 and x <= t2/24]\n",
        "\n",
        "  coord = [0]\n",
        "  for i in range(points-1):\n",
        "    count = 0\n",
        "    for item in exp1:\n",
        "      if (item > a + (((tempo)/(points-1))*i) and item <= a + (((tempo)/(points-1))*(i+1))):\n",
        "        count = count + 1\n",
        "    coord.append((count / precisione) * ((points-1) / (tempo)))\n",
        "  \n",
        "  y = np.minimum(bounds(x, t1/24, t2/24), coord)\n",
        "  \n",
        "  ris1 = round((1 - (math.e**(-(t2 / 24)))) - (1 - (math.e**(-(t1 / 24)))), 3)\n",
        "  print(\"Risultati attesi: \" + str(ris1))\n",
        "  ris2 = round(len(exp2) / precisione, 3)\n",
        "  print(\"Risultati ottenuti: \" + str(ris2))\n",
        "\n",
        "  plt.plot(x, coord)\n",
        "  plt.fill_between(x, y, alpha=0.30)"
      ],
      "metadata": {
        "colab": {
          "base_uri": "https://localhost:8080/",
          "height": 396,
          "referenced_widgets": [
            "e1dbb2587d7544b9befa14be6f8eeb24",
            "7057337433574dfaa87432ecd0f27d65",
            "9aec3ef094824483bfaa55b5fdec4ece",
            "5220f585da5b4ec5b64ee623482f9082",
            "feb2413b6e11455ba543d87fda2bbb6a",
            "a3c9b4feec8f4cd8b7427595f3cab742",
            "667f0b7ddfdc48b697e3953a1f2df32c",
            "d90cc3b6fb8e4751b8e716572bad314d",
            "1795d69311b244349537fd4382e073b8",
            "836b9e7ff13844f5b4b5bc50fcabfe8f",
            "a4f35ec5289043d0ac6f7d7cd6acdc13",
            "6067d35e1c734e3bad26a983465a6ae8",
            "f893ed8e1d494393ada5d517f1e0d415"
          ]
        },
        "id": "9jzvi4tr12nU",
        "outputId": "14529e20-4112-4b2c-ec88-bcda9f65fa8f"
      },
      "execution_count": 223,
      "outputs": [
        {
          "output_type": "display_data",
          "data": {
            "application/vnd.jupyter.widget-view+json": {
              "model_id": "e1dbb2587d7544b9befa14be6f8eeb24",
              "version_minor": 0,
              "version_major": 2
            },
            "text/plain": [
              "interactive(children=(IntSlider(value=3, description='t1', max=96), IntSlider(value=10, description='t2', max=…"
            ]
          },
          "metadata": {}
        }
      ]
    },
    {
      "cell_type": "markdown",
      "source": [
        "#Densità continua normale"
      ],
      "metadata": {
        "id": "YEVrCLb-MTAW"
      }
    },
    {
      "cell_type": "markdown",
      "source": [
        "Passiamo ora a considerare quelle che sono probabilmente le variabili aleatorie continue più rilevanti.\n",
        "Si può dimostrare (e Gauss lo ha fatto per primo) che\n",
        "\n",
        "\\begin{equation}\n",
        "  \\int_{- \\infty}^{+ \\infty} e^{-{\\frac{x^2}{2}}} \\,dx = \\sqrt{2 \\pi} \n",
        "\\end{equation}\n",
        "\n",
        "Ne segue che la funzione\n",
        "\n",
        "\\begin{equation}\n",
        "  f(s)= \\frac{1}{\\sqrt{2 \\pi}}e^{-{\\frac{x^2}{2}}}\n",
        "\\end{equation}\n",
        "\n",
        "è una densità. Questa densità viene detta normale standard o gaussiana standard e se una variabile _X_ che ammette questa densità scriveremo\n",
        "\n",
        "\\begin{equation} \n",
        "  X ∼ N(0, 1)\n",
        "\\end{equation}"
      ],
      "metadata": {
        "id": "VLVgu8loMhhb"
      }
    },
    {
      "cell_type": "markdown",
      "source": [
        "Il primo parametro è la media, ovvero il valore medio della distribuzione. Il secondo è la deviazione standard.\n",
        "\n",
        "Di seguito vediamo i grafici della funzione di ripartizione e della densità di una normale al variare di media e deviazione standard:"
      ],
      "metadata": {
        "id": "G54eY3HAS3AM"
      }
    },
    {
      "cell_type": "code",
      "source": [
        "@interact(mean=(-5, 5), std_dev=(1, 5))\n",
        "def std_norm(mean = 0, std_dev = 1):\n",
        "  a = -10\n",
        "  x = np.linspace(a, abs(a), 100)\n",
        "  dnd = []\n",
        "  for i in x:\n",
        "    dnd.append(scipy.stats.norm(mean, std_dev).pdf(i))\n",
        "  plt.plot(x, dnd)\n",
        "  legenda = [\"Densità\"]\n",
        "  plt.legend(legenda,loc='upper center', bbox_to_anchor=(0.5, -0.05), fancybox=True, shadow=True, ncol=5)"
      ],
      "metadata": {
        "id": "9eK-dNsZTJ3L",
        "colab": {
          "base_uri": "https://localhost:8080/",
          "height": 346,
          "referenced_widgets": [
            "092836953eb54bf48d36ecc02f49e826",
            "af385926bcd649c0b4844685e397f649",
            "c8d027e25fa8432e8f2423ac4f0e90d6",
            "a38f7266aba6484a8423992d5df1a0c1",
            "0c143a565dbe4580bd7ea4f1ded04dff",
            "e30a6e4acb8b4889a8b8b37ffdba6d6f",
            "7bfce12ee04740bbb70d689c59404078",
            "59aab944fb2f461694baad440c2685f3",
            "3a40d3387e764fb28839a4139a0663e6",
            "c5c53afd41a144c98df8a0c453d19de5"
          ]
        },
        "outputId": "2e7d0bf9-fee7-46d3-ebe1-f4d7ec3717b5"
      },
      "execution_count": 213,
      "outputs": [
        {
          "output_type": "display_data",
          "data": {
            "application/vnd.jupyter.widget-view+json": {
              "model_id": "092836953eb54bf48d36ecc02f49e826",
              "version_minor": 0,
              "version_major": 2
            },
            "text/plain": [
              "interactive(children=(IntSlider(value=0, description='mean', max=5, min=-5), IntSlider(value=1, description='s…"
            ]
          },
          "metadata": {}
        }
      ]
    },
    {
      "cell_type": "code",
      "source": [
        "@interact(mean=(-5, 5), std_dev=(1, 5))\n",
        "def std_norm(mean = 0, std_dev = 1):\n",
        "  a = -10\n",
        "  x = np.linspace(a, abs(a), 100)\n",
        "  pnd = []\n",
        "  for i in x:\n",
        "    pnd.append(scipy.stats.norm(mean, std_dev).cdf(i))\n",
        "  plt.plot(x, pnd)\n",
        "  legenda = [\"Funzione di ripartizione\"]\n",
        "  plt.legend(legenda,loc='upper center', bbox_to_anchor=(0.5, -0.05), fancybox=True, shadow=True, ncol=5)"
      ],
      "metadata": {
        "colab": {
          "base_uri": "https://localhost:8080/",
          "height": 346,
          "referenced_widgets": [
            "557a488d41b144daa52563ba4ac51dec",
            "f9d6402707b94e6ba386fb7c6e4b8950",
            "7d107174ac444b0aa278279544564150",
            "9a813e0b0f20446f866863ca2f12f7d0",
            "8c1e8a0bef03433eb1ba7efa89a2541a",
            "78abbfca1f3f4b16a1732d83c232db9c",
            "3afa1553ec81447189faabec37f0fb44",
            "3c39c9decf714947a57ea2b2ed2657fa",
            "39f94631ea4a49d98f26e4fe97b204e6",
            "a74282983c734af8a60434d8b4144597"
          ]
        },
        "id": "vZtFsBexR7UQ",
        "outputId": "21dde6f6-caa9-4bfe-afaf-d32ae84fabc0"
      },
      "execution_count": 214,
      "outputs": [
        {
          "output_type": "display_data",
          "data": {
            "application/vnd.jupyter.widget-view+json": {
              "model_id": "557a488d41b144daa52563ba4ac51dec",
              "version_minor": 0,
              "version_major": 2
            },
            "text/plain": [
              "interactive(children=(IntSlider(value=0, description='mean', max=5, min=-5), IntSlider(value=1, description='s…"
            ]
          },
          "metadata": {}
        }
      ]
    },
    {
      "cell_type": "markdown",
      "source": [
        "## Esempio 9.1"
      ],
      "metadata": {
        "id": "0WalWbwgLNDx"
      }
    },
    {
      "cell_type": "markdown",
      "source": [
        "Sia _X_ una variabile continua normale standard, determinare la probabilità che _X_ assuma un valore minore di 1."
      ],
      "metadata": {
        "id": "NLO8PiezLS_N"
      }
    },
    {
      "cell_type": "code",
      "source": [
        "@interact_manual(valore=(-4, 4, 0.1))\n",
        "def es91(valore = 1):\n",
        "  a = -4\n",
        "  points = 401\n",
        "\n",
        "  x = np.linspace(a, abs(a), points)\n",
        "\n",
        "  nd1 = []\n",
        "  for i in range(precisione):\n",
        "    nd1.append(np.random.normal(0, 1))\n",
        "\n",
        "  nd2 = [x for x in nd1 if x <= valore]\n",
        "\n",
        "  coord = [0]\n",
        "  for i in range(points - 1):\n",
        "    count = 0\n",
        "    for item in nd1:\n",
        "      if (item > a + (((-2*a)/points)*i)) and (item <= a + (((-2*a)/points)*(i+1))):\n",
        "        count = count + 1\n",
        "    coord.append((count / precisione) * (points / (-2*a)))\n",
        "  \n",
        "  y = np.minimum(bounds(x, -5, valore), coord)\n",
        "\n",
        "  ris1 = round(scipy.stats.norm(0, 1).cdf(valore), 3)\n",
        "  print(\"Risultati attesi: \" + str(ris1))\n",
        "  ris2 = round(len(nd2) / precisione, 3)\n",
        "  print(\"Risultati ottenuti: \" + str(ris2))\n",
        "\n",
        "  plt.fill_between(x, y, alpha=0.30)\n",
        "  plt.plot(x, coord)"
      ],
      "metadata": {
        "id": "0YLBeVSIL9qG",
        "outputId": "73dc4c8e-7674-4560-fcee-cba7124a13ae",
        "colab": {
          "base_uri": "https://localhost:8080/",
          "height": 364,
          "referenced_widgets": [
            "f84328c6843941ba9cfa44d61c6ab1f9",
            "d409f851cacd4fac87c6d4ff8d48159b",
            "84341c6f20064ffdb327027d311569ea",
            "b6f6d87b76954463a60a8a610cdcbc13",
            "55282b93a41e4ab1b473bbe069188089",
            "1711861442964d61a4c839c9d524db5b",
            "770e30a332b440e584f32c823069385f",
            "a0e74c9eebbd439a9ce4af6c924c92da",
            "649b56c20a374cce9717f5d7262c76d1",
            "ecc7280b75bf4e3aac45d165cad65dd9"
          ]
        }
      },
      "execution_count": 215,
      "outputs": [
        {
          "output_type": "display_data",
          "data": {
            "application/vnd.jupyter.widget-view+json": {
              "model_id": "f84328c6843941ba9cfa44d61c6ab1f9",
              "version_minor": 0,
              "version_major": 2
            },
            "text/plain": [
              "interactive(children=(FloatSlider(value=1.0, description='valore', max=4.0, min=-4.0), Button(description='Run…"
            ]
          },
          "metadata": {}
        }
      ]
    },
    {
      "cell_type": "markdown",
      "source": [
        "## Esempio 9.2"
      ],
      "metadata": {
        "id": "twGutUTVPnRX"
      }
    },
    {
      "cell_type": "markdown",
      "source": [
        "Uno studio su 100 000 diciottenni (reclutati dalle scuole e dal Maternal and Child Health Centres ad Hong Kong) ha mostrato che l'altezza di un'adulto ha una densità normale _N_ (172, 5).\n",
        "\n",
        " Una divisa per reclute è disponibile in 4 taglie:\n",
        " \n",
        "Taglia   | Altezza \n",
        "---------|------------------\n",
        "S        | h < 164\n",
        "M        | 164 < h < 172\n",
        "L        | 172 < h < 180\n",
        "XL       | h > 180\n",
        "\n",
        "Dovendo vestire 500 nuove reclute quante divise di ogni taglia comprereste?"
      ],
      "metadata": {
        "id": "edGsbSkpyUup"
      }
    },
    {
      "cell_type": "markdown",
      "source": [
        "Per validare i risultati che calcolati con le formule, li confronteremo con le altezze di 20 000 adulti che hanno partecipato all'esperimento ma le cui altezze non sono state usate per per definire la distribuzione, ma lasciate per validarla."
      ],
      "metadata": {
        "id": "V-0c_kiN1WlJ"
      }
    },
    {
      "cell_type": "code",
      "source": [
        "data_url = \"https://raw.githubusercontent.com/MontiMic/Tesi/riordinato/train.csv\" #importo il dataset\n",
        "data = pd.read_csv(data_url, sep=',', dtype={})\n",
        "lab = [\"id\", \"height\", \"weight\"]\n",
        "data.columns = [i for i in lab]\n",
        "data = data.drop(['id', 'weight'], axis=1) #scarto i dati riguardanti l'id ed il peso dei soggetti, non ci servono\n",
        "height = []\n",
        "for i in data[\"height\"]: #converto le altezze da pollici in centimetri\n",
        "  height.append(i*2.54)"
      ],
      "metadata": {
        "id": "wEK2CHWylV7L"
      },
      "execution_count": 216,
      "outputs": []
    },
    {
      "cell_type": "code",
      "source": [
        "x = np.linspace(151, 190, 40)\n",
        "coord = []\n",
        "for i in range(40):\n",
        "  count = 0\n",
        "  for item in height:\n",
        "    if (item > (151 + i) and item <= (151 + i + 1)):\n",
        "      count = count + 1\n",
        "  coord.append(count / len(height))\n",
        "dnd = []\n",
        "for i in x:\n",
        "  dnd.append(scipy.stats.norm(172, 5).pdf(i))\n",
        "plt.plot(x, dnd)\n",
        "plt.plot(x, coord)\n",
        "legenda = [\"Distribuzione teorica\", \"Distribuzione del campione\"]\n",
        "plt.legend(legenda,loc='upper center', bbox_to_anchor=(0.5, -0.05), fancybox=True, shadow=True, ncol=5)\n",
        "plt.show()"
      ],
      "metadata": {
        "colab": {
          "base_uri": "https://localhost:8080/",
          "height": 282
        },
        "id": "1j7e4b-jbImS",
        "outputId": "50fcc2a7-759b-47bb-ff17-bcceced901dc"
      },
      "execution_count": 217,
      "outputs": [
        {
          "output_type": "display_data",
          "data": {
            "image/png": "[encoded data removed]",
            "text/plain": [
              "<Figure size 432x288 with 1 Axes>"
            ]
          },
          "metadata": {
            "needs_background": "light"
          }
        }
      ]
    },
    {
      "cell_type": "code",
      "source": [
        "@interact_manual(taglia=[\"S\", \"M\", \"L\", \"XL\"])\n",
        "def es92(taglia = \"L\"):\n",
        "  a, b = 0, 0\n",
        "  #purtroppo questa versione di python non supporta gli switch case (nè il match case)\n",
        "  if taglia == \"S\":\n",
        "    a, b = 150, 164\n",
        "  elif taglia == \"M\":\n",
        "    a, b = 164, 172\n",
        "  elif taglia == \"L\":\n",
        "    a, b = 172, 180 \n",
        "  elif taglia == \"XL\":\n",
        "    a, b = 180, 191\n",
        "  \n",
        "  cm = 500\n",
        "  x = np.linspace(151, 200, cm)\n",
        "  \n",
        "  nd1 = []\n",
        "  for i in range(cm):\n",
        "    count = 0\n",
        "    for item in height:\n",
        "      if (item > (151 + i/10) and item <= (151 + i/10 + 1)):\n",
        "        count = count + 1\n",
        "    nd1.append(count / len(height))\n",
        "\n",
        "  nd2 = [x for x in height if x > a and x <= b]\n",
        "  \n",
        "  ris1 = round(scipy.stats.norm(172, 5).cdf(b) - scipy.stats.norm(172, 5).cdf(a), 3)\n",
        "  print(\"Risultati attesi: \" + str(ris1))\n",
        "  ris2 = round(len(nd2) / len(height), 3)\n",
        "  print(\"Risultati ottenuti: \" + str(ris2))\n",
        "\n",
        "  y = np.minimum(bounds(x, a, b), nd1)\n",
        "\n",
        "  plt.plot(x, nd1)\n",
        "  plt.fill_between(x, y, alpha=0.30)\n",
        "  plt.xlim(150, 200)"
      ],
      "metadata": {
        "colab": {
          "base_uri": "https://localhost:8080/",
          "height": 364,
          "referenced_widgets": [
            "56a6d20c81f7406c9e2acec0b8c083db",
            "51534da449f74854b9df5fadac9845a8",
            "3e9e8f361b8147bab89458464c916184",
            "c2975712862d49b8847e472bc8105e16",
            "0790a9744a784856857339b297f659e1",
            "c494371231df4b1fa6370d4f95bc236a",
            "5ddbb307695b469c910919981e540ef8",
            "48a759c1238f4f519278731389d8a224",
            "0d25a412aa2a4dcb8fc9c40967d088f3",
            "18d6960db9f24f8188c57d2eb7291abf"
          ]
        },
        "id": "j13iOPty-8h8",
        "outputId": "7e13e996-cdd8-4379-af62-fac782b03e86"
      },
      "execution_count": 218,
      "outputs": [
        {
          "output_type": "display_data",
          "data": {
            "application/vnd.jupyter.widget-view+json": {
              "model_id": "56a6d20c81f7406c9e2acec0b8c083db",
              "version_minor": 0,
              "version_major": 2
            },
            "text/plain": [
              "interactive(children=(Dropdown(description='taglia', index=2, options=('S', 'M', 'L', 'XL'), value='L'), Butto…"
            ]
          },
          "metadata": {}
        }
      ]
    }
  ]
}