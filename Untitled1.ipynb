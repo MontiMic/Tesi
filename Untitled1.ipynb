{
  "nbformat": 4,
  "nbformat_minor": 0,
  "metadata": {
    "colab": {
      "name": "Untitled1.ipynb",
      "provenance": [],
      "toc_visible": true,
      "collapsed_sections": [],
      "authorship_tag": "ABX9TyPhP/4ik/Fi8mgPMpUfJZsf",
      "include_colab_link": true
    },
    "kernelspec": {
      "name": "python3",
      "display_name": "Python 3"
    },
    "language_info": {
      "name": "python"
    },
    "widgets": {
      "application/vnd.jupyter.widget-state+json": {
        "d3df7ea4ea524a17a12617343e523493": {
          "model_module": "@jupyter-widgets/controls",
          "model_name": "VBoxModel",
          "model_module_version": "1.5.0",
          "state": {
            "_view_name": "VBoxView",
            "_dom_classes": [
              "widget-interact"
            ],
            "_model_name": "VBoxModel",
            "_view_module": "@jupyter-widgets/controls",
            "_model_module_version": "1.5.0",
            "_view_count": null,
            "_view_module_version": "1.5.0",
            "box_style": "",
            "layout": "IPY_MODEL_0321035f422b44a3b0d9972aebc843db",
            "_model_module": "@jupyter-widgets/controls",
            "children": [
              "IPY_MODEL_98d40c28959e4aef955fba45410d5b6c",
              "IPY_MODEL_f0bd3f6453ae42409640dabea15ddd05",
              "IPY_MODEL_0573191efa47478287b5d6eed1de3fdf"
            ]
          }
        },
        "0321035f422b44a3b0d9972aebc843db": {
          "model_module": "@jupyter-widgets/base",
          "model_name": "LayoutModel",
          "model_module_version": "1.2.0",
          "state": {
            "_view_name": "LayoutView",
            "grid_template_rows": null,
            "right": null,
            "justify_content": null,
            "_view_module": "@jupyter-widgets/base",
            "overflow": null,
            "_model_module_version": "1.2.0",
            "_view_count": null,
            "flex_flow": null,
            "width": null,
            "min_width": null,
            "border": null,
            "align_items": null,
            "bottom": null,
            "_model_module": "@jupyter-widgets/base",
            "top": null,
            "grid_column": null,
            "overflow_y": null,
            "overflow_x": null,
            "grid_auto_flow": null,
            "grid_area": null,
            "grid_template_columns": null,
            "flex": null,
            "_model_name": "LayoutModel",
            "justify_items": null,
            "grid_row": null,
            "max_height": null,
            "align_content": null,
            "visibility": null,
            "align_self": null,
            "height": null,
            "min_height": null,
            "padding": null,
            "grid_auto_rows": null,
            "grid_gap": null,
            "max_width": null,
            "order": null,
            "_view_module_version": "1.2.0",
            "grid_template_areas": null,
            "object_position": null,
            "object_fit": null,
            "grid_auto_columns": null,
            "margin": null,
            "display": null,
            "left": null
          }
        },
        "98d40c28959e4aef955fba45410d5b6c": {
          "model_module": "@jupyter-widgets/controls",
          "model_name": "IntSliderModel",
          "model_module_version": "1.5.0",
          "state": {
            "_view_name": "IntSliderView",
            "style": "IPY_MODEL_78fead3f19fc43b39ac4dc93137a2788",
            "_dom_classes": [],
            "description": "vincita",
            "step": 1,
            "_model_name": "IntSliderModel",
            "orientation": "horizontal",
            "max": 30,
            "_view_module": "@jupyter-widgets/controls",
            "_model_module_version": "1.5.0",
            "value": 5,
            "_view_count": null,
            "disabled": false,
            "_view_module_version": "1.5.0",
            "min": 0,
            "continuous_update": true,
            "readout_format": "d",
            "description_tooltip": null,
            "readout": true,
            "_model_module": "@jupyter-widgets/controls",
            "layout": "IPY_MODEL_1ecea92c28054abb93254f89190d4e81"
          }
        },
        "f0bd3f6453ae42409640dabea15ddd05": {
          "model_module": "@jupyter-widgets/controls",
          "model_name": "ButtonModel",
          "model_module_version": "1.5.0",
          "state": {
            "_view_name": "ButtonView",
            "style": "IPY_MODEL_60ecfe5854794bdcbabc1870b5480baa",
            "_dom_classes": [],
            "description": "Run Interact",
            "_model_name": "ButtonModel",
            "button_style": "",
            "_view_module": "@jupyter-widgets/controls",
            "_model_module_version": "1.5.0",
            "tooltip": "",
            "_view_count": null,
            "disabled": false,
            "_view_module_version": "1.5.0",
            "layout": "IPY_MODEL_f617265bd52544cd9ae5f6bace81df94",
            "_model_module": "@jupyter-widgets/controls",
            "icon": ""
          }
        },
        "0573191efa47478287b5d6eed1de3fdf": {
          "model_module": "@jupyter-widgets/output",
          "model_name": "OutputModel",
          "model_module_version": "1.0.0",
          "state": {
            "_view_name": "OutputView",
            "msg_id": "",
            "_dom_classes": [],
            "_model_name": "OutputModel",
            "outputs": [
              {
                "output_type": "display_data",
                "data": {
                  "text/plain": "0.481"
                },
                "metadata": {}
              }
            ],
            "_view_module": "@jupyter-widgets/output",
            "_model_module_version": "1.0.0",
            "_view_count": null,
            "_view_module_version": "1.0.0",
            "layout": "IPY_MODEL_c6f55cd407eb40d0adfe9673af53a292",
            "_model_module": "@jupyter-widgets/output"
          }
        },
        "78fead3f19fc43b39ac4dc93137a2788": {
          "model_module": "@jupyter-widgets/controls",
          "model_name": "SliderStyleModel",
          "model_module_version": "1.5.0",
          "state": {
            "_view_name": "StyleView",
            "handle_color": null,
            "_model_name": "SliderStyleModel",
            "description_width": "",
            "_view_module": "@jupyter-widgets/base",
            "_model_module_version": "1.5.0",
            "_view_count": null,
            "_view_module_version": "1.2.0",
            "_model_module": "@jupyter-widgets/controls"
          }
        },
        "1ecea92c28054abb93254f89190d4e81": {
          "model_module": "@jupyter-widgets/base",
          "model_name": "LayoutModel",
          "model_module_version": "1.2.0",
          "state": {
            "_view_name": "LayoutView",
            "grid_template_rows": null,
            "right": null,
            "justify_content": null,
            "_view_module": "@jupyter-widgets/base",
            "overflow": null,
            "_model_module_version": "1.2.0",
            "_view_count": null,
            "flex_flow": null,
            "width": null,
            "min_width": null,
            "border": null,
            "align_items": null,
            "bottom": null,
            "_model_module": "@jupyter-widgets/base",
            "top": null,
            "grid_column": null,
            "overflow_y": null,
            "overflow_x": null,
            "grid_auto_flow": null,
            "grid_area": null,
            "grid_template_columns": null,
            "flex": null,
            "_model_name": "LayoutModel",
            "justify_items": null,
            "grid_row": null,
            "max_height": null,
            "align_content": null,
            "visibility": null,
            "align_self": null,
            "height": null,
            "min_height": null,
            "padding": null,
            "grid_auto_rows": null,
            "grid_gap": null,
            "max_width": null,
            "order": null,
            "_view_module_version": "1.2.0",
            "grid_template_areas": null,
            "object_position": null,
            "object_fit": null,
            "grid_auto_columns": null,
            "margin": null,
            "display": null,
            "left": null
          }
        },
        "60ecfe5854794bdcbabc1870b5480baa": {
          "model_module": "@jupyter-widgets/controls",
          "model_name": "ButtonStyleModel",
          "model_module_version": "1.5.0",
          "state": {
            "_view_name": "StyleView",
            "_model_name": "ButtonStyleModel",
            "_view_module": "@jupyter-widgets/base",
            "_model_module_version": "1.5.0",
            "_view_count": null,
            "button_color": null,
            "font_weight": "",
            "_view_module_version": "1.2.0",
            "_model_module": "@jupyter-widgets/controls"
          }
        },
        "f617265bd52544cd9ae5f6bace81df94": {
          "model_module": "@jupyter-widgets/base",
          "model_name": "LayoutModel",
          "model_module_version": "1.2.0",
          "state": {
            "_view_name": "LayoutView",
            "grid_template_rows": null,
            "right": null,
            "justify_content": null,
            "_view_module": "@jupyter-widgets/base",
            "overflow": null,
            "_model_module_version": "1.2.0",
            "_view_count": null,
            "flex_flow": null,
            "width": null,
            "min_width": null,
            "border": null,
            "align_items": null,
            "bottom": null,
            "_model_module": "@jupyter-widgets/base",
            "top": null,
            "grid_column": null,
            "overflow_y": null,
            "overflow_x": null,
            "grid_auto_flow": null,
            "grid_area": null,
            "grid_template_columns": null,
            "flex": null,
            "_model_name": "LayoutModel",
            "justify_items": null,
            "grid_row": null,
            "max_height": null,
            "align_content": null,
            "visibility": null,
            "align_self": null,
            "height": null,
            "min_height": null,
            "padding": null,
            "grid_auto_rows": null,
            "grid_gap": null,
            "max_width": null,
            "order": null,
            "_view_module_version": "1.2.0",
            "grid_template_areas": null,
            "object_position": null,
            "object_fit": null,
            "grid_auto_columns": null,
            "margin": null,
            "display": null,
            "left": null
          }
        },
        "c6f55cd407eb40d0adfe9673af53a292": {
          "model_module": "@jupyter-widgets/base",
          "model_name": "LayoutModel",
          "model_module_version": "1.2.0",
          "state": {
            "_view_name": "LayoutView",
            "grid_template_rows": null,
            "right": null,
            "justify_content": null,
            "_view_module": "@jupyter-widgets/base",
            "overflow": null,
            "_model_module_version": "1.2.0",
            "_view_count": null,
            "flex_flow": null,
            "width": null,
            "min_width": null,
            "border": null,
            "align_items": null,
            "bottom": null,
            "_model_module": "@jupyter-widgets/base",
            "top": null,
            "grid_column": null,
            "overflow_y": null,
            "overflow_x": null,
            "grid_auto_flow": null,
            "grid_area": null,
            "grid_template_columns": null,
            "flex": null,
            "_model_name": "LayoutModel",
            "justify_items": null,
            "grid_row": null,
            "max_height": null,
            "align_content": null,
            "visibility": null,
            "align_self": null,
            "height": null,
            "min_height": null,
            "padding": null,
            "grid_auto_rows": null,
            "grid_gap": null,
            "max_width": null,
            "order": null,
            "_view_module_version": "1.2.0",
            "grid_template_areas": null,
            "object_position": null,
            "object_fit": null,
            "grid_auto_columns": null,
            "margin": null,
            "display": null,
            "left": null
          }
        },
        "7a7be7d1fe4c4814bf64c13e7c13abd6": {
          "model_module": "@jupyter-widgets/controls",
          "model_name": "VBoxModel",
          "model_module_version": "1.5.0",
          "state": {
            "_view_name": "VBoxView",
            "_dom_classes": [
              "widget-interact"
            ],
            "_model_name": "VBoxModel",
            "_view_module": "@jupyter-widgets/controls",
            "_model_module_version": "1.5.0",
            "_view_count": null,
            "_view_module_version": "1.5.0",
            "box_style": "",
            "layout": "IPY_MODEL_6a6cccd52c17405da0e9e13cfab850d1",
            "_model_module": "@jupyter-widgets/controls",
            "children": [
              "IPY_MODEL_ba1ce70213cc4f84b574e7d9f87900f5",
              "IPY_MODEL_08403ce5d44e4bd2b5b773dc81d43e52",
              "IPY_MODEL_645dc3c3eeba43da852ba25ad8d3fcff",
              "IPY_MODEL_aaf7f33f89f147a6909ea9449a3a1fb9"
            ]
          }
        },
        "6a6cccd52c17405da0e9e13cfab850d1": {
          "model_module": "@jupyter-widgets/base",
          "model_name": "LayoutModel",
          "model_module_version": "1.2.0",
          "state": {
            "_view_name": "LayoutView",
            "grid_template_rows": null,
            "right": null,
            "justify_content": null,
            "_view_module": "@jupyter-widgets/base",
            "overflow": null,
            "_model_module_version": "1.2.0",
            "_view_count": null,
            "flex_flow": null,
            "width": null,
            "min_width": null,
            "border": null,
            "align_items": null,
            "bottom": null,
            "_model_module": "@jupyter-widgets/base",
            "top": null,
            "grid_column": null,
            "overflow_y": null,
            "overflow_x": null,
            "grid_auto_flow": null,
            "grid_area": null,
            "grid_template_columns": null,
            "flex": null,
            "_model_name": "LayoutModel",
            "justify_items": null,
            "grid_row": null,
            "max_height": null,
            "align_content": null,
            "visibility": null,
            "align_self": null,
            "height": null,
            "min_height": null,
            "padding": null,
            "grid_auto_rows": null,
            "grid_gap": null,
            "max_width": null,
            "order": null,
            "_view_module_version": "1.2.0",
            "grid_template_areas": null,
            "object_position": null,
            "object_fit": null,
            "grid_auto_columns": null,
            "margin": null,
            "display": null,
            "left": null
          }
        },
        "ba1ce70213cc4f84b574e7d9f87900f5": {
          "model_module": "@jupyter-widgets/controls",
          "model_name": "IntSliderModel",
          "model_module_version": "1.5.0",
          "state": {
            "_view_name": "IntSliderView",
            "style": "IPY_MODEL_e878f1f1b8064071a60ec895e68f35e7",
            "_dom_classes": [],
            "description": "giocate",
            "step": 1,
            "_model_name": "IntSliderModel",
            "orientation": "horizontal",
            "max": 10,
            "_view_module": "@jupyter-widgets/controls",
            "_model_module_version": "1.5.0",
            "value": 3,
            "_view_count": null,
            "disabled": false,
            "_view_module_version": "1.5.0",
            "min": 1,
            "continuous_update": true,
            "readout_format": "d",
            "description_tooltip": null,
            "readout": true,
            "_model_module": "@jupyter-widgets/controls",
            "layout": "IPY_MODEL_4d1f9e6854ca44aa9e5295e075eca011"
          }
        },
        "08403ce5d44e4bd2b5b773dc81d43e52": {
          "model_module": "@jupyter-widgets/controls",
          "model_name": "IntSliderModel",
          "model_module_version": "1.5.0",
          "state": {
            "_view_name": "IntSliderView",
            "style": "IPY_MODEL_d86f0572a8ac489c94fb5cfda64a2037",
            "_dom_classes": [],
            "description": "puntata",
            "step": 5,
            "_model_name": "IntSliderModel",
            "orientation": "horizontal",
            "max": 100,
            "_view_module": "@jupyter-widgets/controls",
            "_model_module_version": "1.5.0",
            "value": 10,
            "_view_count": null,
            "disabled": false,
            "_view_module_version": "1.5.0",
            "min": 5,
            "continuous_update": true,
            "readout_format": "d",
            "description_tooltip": null,
            "readout": true,
            "_model_module": "@jupyter-widgets/controls",
            "layout": "IPY_MODEL_c156f49afe5b4e319272fff7290b88e2"
          }
        },
        "645dc3c3eeba43da852ba25ad8d3fcff": {
          "model_module": "@jupyter-widgets/controls",
          "model_name": "ButtonModel",
          "model_module_version": "1.5.0",
          "state": {
            "_view_name": "ButtonView",
            "style": "IPY_MODEL_13ba3d126e4d4dbf899146c96ffce2d1",
            "_dom_classes": [],
            "description": "Run Interact",
            "_model_name": "ButtonModel",
            "button_style": "",
            "_view_module": "@jupyter-widgets/controls",
            "_model_module_version": "1.5.0",
            "tooltip": "",
            "_view_count": null,
            "disabled": false,
            "_view_module_version": "1.5.0",
            "layout": "IPY_MODEL_a1ff607750e849d990da380d3fb00348",
            "_model_module": "@jupyter-widgets/controls",
            "icon": ""
          }
        },
        "aaf7f33f89f147a6909ea9449a3a1fb9": {
          "model_module": "@jupyter-widgets/output",
          "model_name": "OutputModel",
          "model_module_version": "1.0.0",
          "state": {
            "_view_name": "OutputView",
            "msg_id": "",
            "_dom_classes": [],
            "_model_name": "OutputModel",
            "outputs": [
              {
                "output_type": "display_data",
                "data": {
                  "text/plain": "-0.8"
                },
                "metadata": {}
              }
            ],
            "_view_module": "@jupyter-widgets/output",
            "_model_module_version": "1.0.0",
            "_view_count": null,
            "_view_module_version": "1.0.0",
            "layout": "IPY_MODEL_20de30a4f9db4f28bdcaffc911022eb9",
            "_model_module": "@jupyter-widgets/output"
          }
        },
        "e878f1f1b8064071a60ec895e68f35e7": {
          "model_module": "@jupyter-widgets/controls",
          "model_name": "SliderStyleModel",
          "model_module_version": "1.5.0",
          "state": {
            "_view_name": "StyleView",
            "handle_color": null,
            "_model_name": "SliderStyleModel",
            "description_width": "",
            "_view_module": "@jupyter-widgets/base",
            "_model_module_version": "1.5.0",
            "_view_count": null,
            "_view_module_version": "1.2.0",
            "_model_module": "@jupyter-widgets/controls"
          }
        },
        "4d1f9e6854ca44aa9e5295e075eca011": {
          "model_module": "@jupyter-widgets/base",
          "model_name": "LayoutModel",
          "model_module_version": "1.2.0",
          "state": {
            "_view_name": "LayoutView",
            "grid_template_rows": null,
            "right": null,
            "justify_content": null,
            "_view_module": "@jupyter-widgets/base",
            "overflow": null,
            "_model_module_version": "1.2.0",
            "_view_count": null,
            "flex_flow": null,
            "width": null,
            "min_width": null,
            "border": null,
            "align_items": null,
            "bottom": null,
            "_model_module": "@jupyter-widgets/base",
            "top": null,
            "grid_column": null,
            "overflow_y": null,
            "overflow_x": null,
            "grid_auto_flow": null,
            "grid_area": null,
            "grid_template_columns": null,
            "flex": null,
            "_model_name": "LayoutModel",
            "justify_items": null,
            "grid_row": null,
            "max_height": null,
            "align_content": null,
            "visibility": null,
            "align_self": null,
            "height": null,
            "min_height": null,
            "padding": null,
            "grid_auto_rows": null,
            "grid_gap": null,
            "max_width": null,
            "order": null,
            "_view_module_version": "1.2.0",
            "grid_template_areas": null,
            "object_position": null,
            "object_fit": null,
            "grid_auto_columns": null,
            "margin": null,
            "display": null,
            "left": null
          }
        },
        "d86f0572a8ac489c94fb5cfda64a2037": {
          "model_module": "@jupyter-widgets/controls",
          "model_name": "SliderStyleModel",
          "model_module_version": "1.5.0",
          "state": {
            "_view_name": "StyleView",
            "handle_color": null,
            "_model_name": "SliderStyleModel",
            "description_width": "",
            "_view_module": "@jupyter-widgets/base",
            "_model_module_version": "1.5.0",
            "_view_count": null,
            "_view_module_version": "1.2.0",
            "_model_module": "@jupyter-widgets/controls"
          }
        },
        "c156f49afe5b4e319272fff7290b88e2": {
          "model_module": "@jupyter-widgets/base",
          "model_name": "LayoutModel",
          "model_module_version": "1.2.0",
          "state": {
            "_view_name": "LayoutView",
            "grid_template_rows": null,
            "right": null,
            "justify_content": null,
            "_view_module": "@jupyter-widgets/base",
            "overflow": null,
            "_model_module_version": "1.2.0",
            "_view_count": null,
            "flex_flow": null,
            "width": null,
            "min_width": null,
            "border": null,
            "align_items": null,
            "bottom": null,
            "_model_module": "@jupyter-widgets/base",
            "top": null,
            "grid_column": null,
            "overflow_y": null,
            "overflow_x": null,
            "grid_auto_flow": null,
            "grid_area": null,
            "grid_template_columns": null,
            "flex": null,
            "_model_name": "LayoutModel",
            "justify_items": null,
            "grid_row": null,
            "max_height": null,
            "align_content": null,
            "visibility": null,
            "align_self": null,
            "height": null,
            "min_height": null,
            "padding": null,
            "grid_auto_rows": null,
            "grid_gap": null,
            "max_width": null,
            "order": null,
            "_view_module_version": "1.2.0",
            "grid_template_areas": null,
            "object_position": null,
            "object_fit": null,
            "grid_auto_columns": null,
            "margin": null,
            "display": null,
            "left": null
          }
        },
        "13ba3d126e4d4dbf899146c96ffce2d1": {
          "model_module": "@jupyter-widgets/controls",
          "model_name": "ButtonStyleModel",
          "model_module_version": "1.5.0",
          "state": {
            "_view_name": "StyleView",
            "_model_name": "ButtonStyleModel",
            "_view_module": "@jupyter-widgets/base",
            "_model_module_version": "1.5.0",
            "_view_count": null,
            "button_color": null,
            "font_weight": "",
            "_view_module_version": "1.2.0",
            "_model_module": "@jupyter-widgets/controls"
          }
        },
        "a1ff607750e849d990da380d3fb00348": {
          "model_module": "@jupyter-widgets/base",
          "model_name": "LayoutModel",
          "model_module_version": "1.2.0",
          "state": {
            "_view_name": "LayoutView",
            "grid_template_rows": null,
            "right": null,
            "justify_content": null,
            "_view_module": "@jupyter-widgets/base",
            "overflow": null,
            "_model_module_version": "1.2.0",
            "_view_count": null,
            "flex_flow": null,
            "width": null,
            "min_width": null,
            "border": null,
            "align_items": null,
            "bottom": null,
            "_model_module": "@jupyter-widgets/base",
            "top": null,
            "grid_column": null,
            "overflow_y": null,
            "overflow_x": null,
            "grid_auto_flow": null,
            "grid_area": null,
            "grid_template_columns": null,
            "flex": null,
            "_model_name": "LayoutModel",
            "justify_items": null,
            "grid_row": null,
            "max_height": null,
            "align_content": null,
            "visibility": null,
            "align_self": null,
            "height": null,
            "min_height": null,
            "padding": null,
            "grid_auto_rows": null,
            "grid_gap": null,
            "max_width": null,
            "order": null,
            "_view_module_version": "1.2.0",
            "grid_template_areas": null,
            "object_position": null,
            "object_fit": null,
            "grid_auto_columns": null,
            "margin": null,
            "display": null,
            "left": null
          }
        },
        "20de30a4f9db4f28bdcaffc911022eb9": {
          "model_module": "@jupyter-widgets/base",
          "model_name": "LayoutModel",
          "model_module_version": "1.2.0",
          "state": {
            "_view_name": "LayoutView",
            "grid_template_rows": null,
            "right": null,
            "justify_content": null,
            "_view_module": "@jupyter-widgets/base",
            "overflow": null,
            "_model_module_version": "1.2.0",
            "_view_count": null,
            "flex_flow": null,
            "width": null,
            "min_width": null,
            "border": null,
            "align_items": null,
            "bottom": null,
            "_model_module": "@jupyter-widgets/base",
            "top": null,
            "grid_column": null,
            "overflow_y": null,
            "overflow_x": null,
            "grid_auto_flow": null,
            "grid_area": null,
            "grid_template_columns": null,
            "flex": null,
            "_model_name": "LayoutModel",
            "justify_items": null,
            "grid_row": null,
            "max_height": null,
            "align_content": null,
            "visibility": null,
            "align_self": null,
            "height": null,
            "min_height": null,
            "padding": null,
            "grid_auto_rows": null,
            "grid_gap": null,
            "max_width": null,
            "order": null,
            "_view_module_version": "1.2.0",
            "grid_template_areas": null,
            "object_position": null,
            "object_fit": null,
            "grid_auto_columns": null,
            "margin": null,
            "display": null,
            "left": null
          }
        },
        "d11604e36cd9436d9f43aabb602ce684": {
          "model_module": "@jupyter-widgets/controls",
          "model_name": "VBoxModel",
          "model_module_version": "1.5.0",
          "state": {
            "_view_name": "VBoxView",
            "_dom_classes": [
              "widget-interact"
            ],
            "_model_name": "VBoxModel",
            "_view_module": "@jupyter-widgets/controls",
            "_model_module_version": "1.5.0",
            "_view_count": null,
            "_view_module_version": "1.5.0",
            "box_style": "",
            "layout": "IPY_MODEL_56fc6ef8f320424ba407695864b5dbf2",
            "_model_module": "@jupyter-widgets/controls",
            "children": [
              "IPY_MODEL_36255f67e4034d4a851879d50cf9382d",
              "IPY_MODEL_ffc90816621244e0b380ae5326253b88",
              "IPY_MODEL_2cf45e1ae98c4a99beca9212a3d23e68",
              "IPY_MODEL_fff89c72da174febb705a8d701e5cd82"
            ]
          }
        },
        "56fc6ef8f320424ba407695864b5dbf2": {
          "model_module": "@jupyter-widgets/base",
          "model_name": "LayoutModel",
          "model_module_version": "1.2.0",
          "state": {
            "_view_name": "LayoutView",
            "grid_template_rows": null,
            "right": null,
            "justify_content": null,
            "_view_module": "@jupyter-widgets/base",
            "overflow": null,
            "_model_module_version": "1.2.0",
            "_view_count": null,
            "flex_flow": null,
            "width": null,
            "min_width": null,
            "border": null,
            "align_items": null,
            "bottom": null,
            "_model_module": "@jupyter-widgets/base",
            "top": null,
            "grid_column": null,
            "overflow_y": null,
            "overflow_x": null,
            "grid_auto_flow": null,
            "grid_area": null,
            "grid_template_columns": null,
            "flex": null,
            "_model_name": "LayoutModel",
            "justify_items": null,
            "grid_row": null,
            "max_height": null,
            "align_content": null,
            "visibility": null,
            "align_self": null,
            "height": null,
            "min_height": null,
            "padding": null,
            "grid_auto_rows": null,
            "grid_gap": null,
            "max_width": null,
            "order": null,
            "_view_module_version": "1.2.0",
            "grid_template_areas": null,
            "object_position": null,
            "object_fit": null,
            "grid_auto_columns": null,
            "margin": null,
            "display": null,
            "left": null
          }
        },
        "36255f67e4034d4a851879d50cf9382d": {
          "model_module": "@jupyter-widgets/controls",
          "model_name": "IntSliderModel",
          "model_module_version": "1.5.0",
          "state": {
            "_view_name": "IntSliderView",
            "style": "IPY_MODEL_7bd0def7eb234a28953cd0ec99cbbbf8",
            "_dom_classes": [],
            "description": "giocate",
            "step": 1,
            "_model_name": "IntSliderModel",
            "orientation": "horizontal",
            "max": 6,
            "_view_module": "@jupyter-widgets/controls",
            "_model_module_version": "1.5.0",
            "value": 3,
            "_view_count": null,
            "disabled": false,
            "_view_module_version": "1.5.0",
            "min": 1,
            "continuous_update": true,
            "readout_format": "d",
            "description_tooltip": null,
            "readout": true,
            "_model_module": "@jupyter-widgets/controls",
            "layout": "IPY_MODEL_65268fe81efa47fcbf402f1657eb0c55"
          }
        },
        "ffc90816621244e0b380ae5326253b88": {
          "model_module": "@jupyter-widgets/controls",
          "model_name": "IntSliderModel",
          "model_module_version": "1.5.0",
          "state": {
            "_view_name": "IntSliderView",
            "style": "IPY_MODEL_1e44d451145c49f19c5acaad44fb00b2",
            "_dom_classes": [],
            "description": "puntata",
            "step": 5,
            "_model_name": "IntSliderModel",
            "orientation": "horizontal",
            "max": 100,
            "_view_module": "@jupyter-widgets/controls",
            "_model_module_version": "1.5.0",
            "value": 5,
            "_view_count": null,
            "disabled": false,
            "_view_module_version": "1.5.0",
            "min": 5,
            "continuous_update": true,
            "readout_format": "d",
            "description_tooltip": null,
            "readout": true,
            "_model_module": "@jupyter-widgets/controls",
            "layout": "IPY_MODEL_ee4a4840d5d14c0eb5fe70a2b07f65aa"
          }
        },
        "2cf45e1ae98c4a99beca9212a3d23e68": {
          "model_module": "@jupyter-widgets/controls",
          "model_name": "ButtonModel",
          "model_module_version": "1.5.0",
          "state": {
            "_view_name": "ButtonView",
            "style": "IPY_MODEL_38b909c90cb24316881360c4f56eb097",
            "_dom_classes": [],
            "description": "Run Interact",
            "_model_name": "ButtonModel",
            "button_style": "",
            "_view_module": "@jupyter-widgets/controls",
            "_model_module_version": "1.5.0",
            "tooltip": "",
            "_view_count": null,
            "disabled": false,
            "_view_module_version": "1.5.0",
            "layout": "IPY_MODEL_128504de64c84772860e22b64b74b4c0",
            "_model_module": "@jupyter-widgets/controls",
            "icon": ""
          }
        },
        "fff89c72da174febb705a8d701e5cd82": {
          "model_module": "@jupyter-widgets/output",
          "model_name": "OutputModel",
          "model_module_version": "1.0.0",
          "state": {
            "_view_name": "OutputView",
            "msg_id": "",
            "_dom_classes": [],
            "_model_name": "OutputModel",
            "outputs": [
              {
                "output_type": "display_data",
                "data": {
                  "image/png": "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\n",
                  "text/plain": "<Figure size 432x288 with 1 Axes>"
                },
                "metadata": {}
              }
            ],
            "_view_module": "@jupyter-widgets/output",
            "_model_module_version": "1.0.0",
            "_view_count": null,
            "_view_module_version": "1.0.0",
            "layout": "IPY_MODEL_ced1c19345a0449dbf94262b651c52d3",
            "_model_module": "@jupyter-widgets/output"
          }
        },
        "7bd0def7eb234a28953cd0ec99cbbbf8": {
          "model_module": "@jupyter-widgets/controls",
          "model_name": "SliderStyleModel",
          "model_module_version": "1.5.0",
          "state": {
            "_view_name": "StyleView",
            "handle_color": null,
            "_model_name": "SliderStyleModel",
            "description_width": "",
            "_view_module": "@jupyter-widgets/base",
            "_model_module_version": "1.5.0",
            "_view_count": null,
            "_view_module_version": "1.2.0",
            "_model_module": "@jupyter-widgets/controls"
          }
        },
        "65268fe81efa47fcbf402f1657eb0c55": {
          "model_module": "@jupyter-widgets/base",
          "model_name": "LayoutModel",
          "model_module_version": "1.2.0",
          "state": {
            "_view_name": "LayoutView",
            "grid_template_rows": null,
            "right": null,
            "justify_content": null,
            "_view_module": "@jupyter-widgets/base",
            "overflow": null,
            "_model_module_version": "1.2.0",
            "_view_count": null,
            "flex_flow": null,
            "width": null,
            "min_width": null,
            "border": null,
            "align_items": null,
            "bottom": null,
            "_model_module": "@jupyter-widgets/base",
            "top": null,
            "grid_column": null,
            "overflow_y": null,
            "overflow_x": null,
            "grid_auto_flow": null,
            "grid_area": null,
            "grid_template_columns": null,
            "flex": null,
            "_model_name": "LayoutModel",
            "justify_items": null,
            "grid_row": null,
            "max_height": null,
            "align_content": null,
            "visibility": null,
            "align_self": null,
            "height": null,
            "min_height": null,
            "padding": null,
            "grid_auto_rows": null,
            "grid_gap": null,
            "max_width": null,
            "order": null,
            "_view_module_version": "1.2.0",
            "grid_template_areas": null,
            "object_position": null,
            "object_fit": null,
            "grid_auto_columns": null,
            "margin": null,
            "display": null,
            "left": null
          }
        },
        "1e44d451145c49f19c5acaad44fb00b2": {
          "model_module": "@jupyter-widgets/controls",
          "model_name": "SliderStyleModel",
          "model_module_version": "1.5.0",
          "state": {
            "_view_name": "StyleView",
            "handle_color": null,
            "_model_name": "SliderStyleModel",
            "description_width": "",
            "_view_module": "@jupyter-widgets/base",
            "_model_module_version": "1.5.0",
            "_view_count": null,
            "_view_module_version": "1.2.0",
            "_model_module": "@jupyter-widgets/controls"
          }
        },
        "ee4a4840d5d14c0eb5fe70a2b07f65aa": {
          "model_module": "@jupyter-widgets/base",
          "model_name": "LayoutModel",
          "model_module_version": "1.2.0",
          "state": {
            "_view_name": "LayoutView",
            "grid_template_rows": null,
            "right": null,
            "justify_content": null,
            "_view_module": "@jupyter-widgets/base",
            "overflow": null,
            "_model_module_version": "1.2.0",
            "_view_count": null,
            "flex_flow": null,
            "width": null,
            "min_width": null,
            "border": null,
            "align_items": null,
            "bottom": null,
            "_model_module": "@jupyter-widgets/base",
            "top": null,
            "grid_column": null,
            "overflow_y": null,
            "overflow_x": null,
            "grid_auto_flow": null,
            "grid_area": null,
            "grid_template_columns": null,
            "flex": null,
            "_model_name": "LayoutModel",
            "justify_items": null,
            "grid_row": null,
            "max_height": null,
            "align_content": null,
            "visibility": null,
            "align_self": null,
            "height": null,
            "min_height": null,
            "padding": null,
            "grid_auto_rows": null,
            "grid_gap": null,
            "max_width": null,
            "order": null,
            "_view_module_version": "1.2.0",
            "grid_template_areas": null,
            "object_position": null,
            "object_fit": null,
            "grid_auto_columns": null,
            "margin": null,
            "display": null,
            "left": null
          }
        },
        "38b909c90cb24316881360c4f56eb097": {
          "model_module": "@jupyter-widgets/controls",
          "model_name": "ButtonStyleModel",
          "model_module_version": "1.5.0",
          "state": {
            "_view_name": "StyleView",
            "_model_name": "ButtonStyleModel",
            "_view_module": "@jupyter-widgets/base",
            "_model_module_version": "1.5.0",
            "_view_count": null,
            "button_color": null,
            "font_weight": "",
            "_view_module_version": "1.2.0",
            "_model_module": "@jupyter-widgets/controls"
          }
        },
        "128504de64c84772860e22b64b74b4c0": {
          "model_module": "@jupyter-widgets/base",
          "model_name": "LayoutModel",
          "model_module_version": "1.2.0",
          "state": {
            "_view_name": "LayoutView",
            "grid_template_rows": null,
            "right": null,
            "justify_content": null,
            "_view_module": "@jupyter-widgets/base",
            "overflow": null,
            "_model_module_version": "1.2.0",
            "_view_count": null,
            "flex_flow": null,
            "width": null,
            "min_width": null,
            "border": null,
            "align_items": null,
            "bottom": null,
            "_model_module": "@jupyter-widgets/base",
            "top": null,
            "grid_column": null,
            "overflow_y": null,
            "overflow_x": null,
            "grid_auto_flow": null,
            "grid_area": null,
            "grid_template_columns": null,
            "flex": null,
            "_model_name": "LayoutModel",
            "justify_items": null,
            "grid_row": null,
            "max_height": null,
            "align_content": null,
            "visibility": null,
            "align_self": null,
            "height": null,
            "min_height": null,
            "padding": null,
            "grid_auto_rows": null,
            "grid_gap": null,
            "max_width": null,
            "order": null,
            "_view_module_version": "1.2.0",
            "grid_template_areas": null,
            "object_position": null,
            "object_fit": null,
            "grid_auto_columns": null,
            "margin": null,
            "display": null,
            "left": null
          }
        },
        "ced1c19345a0449dbf94262b651c52d3": {
          "model_module": "@jupyter-widgets/base",
          "model_name": "LayoutModel",
          "model_module_version": "1.2.0",
          "state": {
            "_view_name": "LayoutView",
            "grid_template_rows": null,
            "right": null,
            "justify_content": null,
            "_view_module": "@jupyter-widgets/base",
            "overflow": null,
            "_model_module_version": "1.2.0",
            "_view_count": null,
            "flex_flow": null,
            "width": null,
            "min_width": null,
            "border": null,
            "align_items": null,
            "bottom": null,
            "_model_module": "@jupyter-widgets/base",
            "top": null,
            "grid_column": null,
            "overflow_y": null,
            "overflow_x": null,
            "grid_auto_flow": null,
            "grid_area": null,
            "grid_template_columns": null,
            "flex": null,
            "_model_name": "LayoutModel",
            "justify_items": null,
            "grid_row": null,
            "max_height": null,
            "align_content": null,
            "visibility": null,
            "align_self": null,
            "height": null,
            "min_height": null,
            "padding": null,
            "grid_auto_rows": null,
            "grid_gap": null,
            "max_width": null,
            "order": null,
            "_view_module_version": "1.2.0",
            "grid_template_areas": null,
            "object_position": null,
            "object_fit": null,
            "grid_auto_columns": null,
            "margin": null,
            "display": null,
            "left": null
          }
        },
        "90fb993b6668471a838f1ebf722e7f94": {
          "model_module": "@jupyter-widgets/controls",
          "model_name": "VBoxModel",
          "model_module_version": "1.5.0",
          "state": {
            "_view_name": "VBoxView",
            "_dom_classes": [
              "widget-interact"
            ],
            "_model_name": "VBoxModel",
            "_view_module": "@jupyter-widgets/controls",
            "_model_module_version": "1.5.0",
            "_view_count": null,
            "_view_module_version": "1.5.0",
            "box_style": "",
            "layout": "IPY_MODEL_5abae6e2bf1c419db61af669781ca1fa",
            "_model_module": "@jupyter-widgets/controls",
            "children": [
              "IPY_MODEL_a7d96d8bfe8746ada90bcf3ee8e86d47",
              "IPY_MODEL_6fdcb12997a94c879406701ebbe44456",
              "IPY_MODEL_c80be71f44df4ae2a39b02de13549d33"
            ]
          }
        },
        "5abae6e2bf1c419db61af669781ca1fa": {
          "model_module": "@jupyter-widgets/base",
          "model_name": "LayoutModel",
          "model_module_version": "1.2.0",
          "state": {
            "_view_name": "LayoutView",
            "grid_template_rows": null,
            "right": null,
            "justify_content": null,
            "_view_module": "@jupyter-widgets/base",
            "overflow": null,
            "_model_module_version": "1.2.0",
            "_view_count": null,
            "flex_flow": null,
            "width": null,
            "min_width": null,
            "border": null,
            "align_items": null,
            "bottom": null,
            "_model_module": "@jupyter-widgets/base",
            "top": null,
            "grid_column": null,
            "overflow_y": null,
            "overflow_x": null,
            "grid_auto_flow": null,
            "grid_area": null,
            "grid_template_columns": null,
            "flex": null,
            "_model_name": "LayoutModel",
            "justify_items": null,
            "grid_row": null,
            "max_height": null,
            "align_content": null,
            "visibility": null,
            "align_self": null,
            "height": null,
            "min_height": null,
            "padding": null,
            "grid_auto_rows": null,
            "grid_gap": null,
            "max_width": null,
            "order": null,
            "_view_module_version": "1.2.0",
            "grid_template_areas": null,
            "object_position": null,
            "object_fit": null,
            "grid_auto_columns": null,
            "margin": null,
            "display": null,
            "left": null
          }
        },
        "a7d96d8bfe8746ada90bcf3ee8e86d47": {
          "model_module": "@jupyter-widgets/controls",
          "model_name": "IntSliderModel",
          "model_module_version": "1.5.0",
          "state": {
            "_view_name": "IntSliderView",
            "style": "IPY_MODEL_8daa898181ce46de8925463ca8106f6f",
            "_dom_classes": [],
            "description": "estrazioni",
            "step": 1,
            "_model_name": "IntSliderModel",
            "orientation": "horizontal",
            "max": 10,
            "_view_module": "@jupyter-widgets/controls",
            "_model_module_version": "1.5.0",
            "value": 3,
            "_view_count": null,
            "disabled": false,
            "_view_module_version": "1.5.0",
            "min": 1,
            "continuous_update": true,
            "readout_format": "d",
            "description_tooltip": null,
            "readout": true,
            "_model_module": "@jupyter-widgets/controls",
            "layout": "IPY_MODEL_db7cfe96035343d1839058ad7cd2ffa6"
          }
        },
        "6fdcb12997a94c879406701ebbe44456": {
          "model_module": "@jupyter-widgets/controls",
          "model_name": "ButtonModel",
          "model_module_version": "1.5.0",
          "state": {
            "_view_name": "ButtonView",
            "style": "IPY_MODEL_fee5939a179f44d98181962531812ccd",
            "_dom_classes": [],
            "description": "Run Interact",
            "_model_name": "ButtonModel",
            "button_style": "",
            "_view_module": "@jupyter-widgets/controls",
            "_model_module_version": "1.5.0",
            "tooltip": "",
            "_view_count": null,
            "disabled": false,
            "_view_module_version": "1.5.0",
            "layout": "IPY_MODEL_b291b6c305154f0c87ef6034c390d090",
            "_model_module": "@jupyter-widgets/controls",
            "icon": ""
          }
        },
        "c80be71f44df4ae2a39b02de13549d33": {
          "model_module": "@jupyter-widgets/output",
          "model_name": "OutputModel",
          "model_module_version": "1.0.0",
          "state": {
            "_view_name": "OutputView",
            "msg_id": "",
            "_dom_classes": [],
            "_model_name": "OutputModel",
            "outputs": [
              {
                "output_type": "display_data",
                "data": {
                  "text/plain": "0.933"
                },
                "metadata": {}
              }
            ],
            "_view_module": "@jupyter-widgets/output",
            "_model_module_version": "1.0.0",
            "_view_count": null,
            "_view_module_version": "1.0.0",
            "layout": "IPY_MODEL_0c921994851c49c5a480fa22dda8bbe2",
            "_model_module": "@jupyter-widgets/output"
          }
        },
        "8daa898181ce46de8925463ca8106f6f": {
          "model_module": "@jupyter-widgets/controls",
          "model_name": "SliderStyleModel",
          "model_module_version": "1.5.0",
          "state": {
            "_view_name": "StyleView",
            "handle_color": null,
            "_model_name": "SliderStyleModel",
            "description_width": "",
            "_view_module": "@jupyter-widgets/base",
            "_model_module_version": "1.5.0",
            "_view_count": null,
            "_view_module_version": "1.2.0",
            "_model_module": "@jupyter-widgets/controls"
          }
        },
        "db7cfe96035343d1839058ad7cd2ffa6": {
          "model_module": "@jupyter-widgets/base",
          "model_name": "LayoutModel",
          "model_module_version": "1.2.0",
          "state": {
            "_view_name": "LayoutView",
            "grid_template_rows": null,
            "right": null,
            "justify_content": null,
            "_view_module": "@jupyter-widgets/base",
            "overflow": null,
            "_model_module_version": "1.2.0",
            "_view_count": null,
            "flex_flow": null,
            "width": null,
            "min_width": null,
            "border": null,
            "align_items": null,
            "bottom": null,
            "_model_module": "@jupyter-widgets/base",
            "top": null,
            "grid_column": null,
            "overflow_y": null,
            "overflow_x": null,
            "grid_auto_flow": null,
            "grid_area": null,
            "grid_template_columns": null,
            "flex": null,
            "_model_name": "LayoutModel",
            "justify_items": null,
            "grid_row": null,
            "max_height": null,
            "align_content": null,
            "visibility": null,
            "align_self": null,
            "height": null,
            "min_height": null,
            "padding": null,
            "grid_auto_rows": null,
            "grid_gap": null,
            "max_width": null,
            "order": null,
            "_view_module_version": "1.2.0",
            "grid_template_areas": null,
            "object_position": null,
            "object_fit": null,
            "grid_auto_columns": null,
            "margin": null,
            "display": null,
            "left": null
          }
        },
        "fee5939a179f44d98181962531812ccd": {
          "model_module": "@jupyter-widgets/controls",
          "model_name": "ButtonStyleModel",
          "model_module_version": "1.5.0",
          "state": {
            "_view_name": "StyleView",
            "_model_name": "ButtonStyleModel",
            "_view_module": "@jupyter-widgets/base",
            "_model_module_version": "1.5.0",
            "_view_count": null,
            "button_color": null,
            "font_weight": "",
            "_view_module_version": "1.2.0",
            "_model_module": "@jupyter-widgets/controls"
          }
        },
        "b291b6c305154f0c87ef6034c390d090": {
          "model_module": "@jupyter-widgets/base",
          "model_name": "LayoutModel",
          "model_module_version": "1.2.0",
          "state": {
            "_view_name": "LayoutView",
            "grid_template_rows": null,
            "right": null,
            "justify_content": null,
            "_view_module": "@jupyter-widgets/base",
            "overflow": null,
            "_model_module_version": "1.2.0",
            "_view_count": null,
            "flex_flow": null,
            "width": null,
            "min_width": null,
            "border": null,
            "align_items": null,
            "bottom": null,
            "_model_module": "@jupyter-widgets/base",
            "top": null,
            "grid_column": null,
            "overflow_y": null,
            "overflow_x": null,
            "grid_auto_flow": null,
            "grid_area": null,
            "grid_template_columns": null,
            "flex": null,
            "_model_name": "LayoutModel",
            "justify_items": null,
            "grid_row": null,
            "max_height": null,
            "align_content": null,
            "visibility": null,
            "align_self": null,
            "height": null,
            "min_height": null,
            "padding": null,
            "grid_auto_rows": null,
            "grid_gap": null,
            "max_width": null,
            "order": null,
            "_view_module_version": "1.2.0",
            "grid_template_areas": null,
            "object_position": null,
            "object_fit": null,
            "grid_auto_columns": null,
            "margin": null,
            "display": null,
            "left": null
          }
        },
        "0c921994851c49c5a480fa22dda8bbe2": {
          "model_module": "@jupyter-widgets/base",
          "model_name": "LayoutModel",
          "model_module_version": "1.2.0",
          "state": {
            "_view_name": "LayoutView",
            "grid_template_rows": null,
            "right": null,
            "justify_content": null,
            "_view_module": "@jupyter-widgets/base",
            "overflow": null,
            "_model_module_version": "1.2.0",
            "_view_count": null,
            "flex_flow": null,
            "width": null,
            "min_width": null,
            "border": null,
            "align_items": null,
            "bottom": null,
            "_model_module": "@jupyter-widgets/base",
            "top": null,
            "grid_column": null,
            "overflow_y": null,
            "overflow_x": null,
            "grid_auto_flow": null,
            "grid_area": null,
            "grid_template_columns": null,
            "flex": null,
            "_model_name": "LayoutModel",
            "justify_items": null,
            "grid_row": null,
            "max_height": null,
            "align_content": null,
            "visibility": null,
            "align_self": null,
            "height": null,
            "min_height": null,
            "padding": null,
            "grid_auto_rows": null,
            "grid_gap": null,
            "max_width": null,
            "order": null,
            "_view_module_version": "1.2.0",
            "grid_template_areas": null,
            "object_position": null,
            "object_fit": null,
            "grid_auto_columns": null,
            "margin": null,
            "display": null,
            "left": null
          }
        },
        "05e1949715a84759962b27dd9c7451bf": {
          "model_module": "@jupyter-widgets/controls",
          "model_name": "VBoxModel",
          "model_module_version": "1.5.0",
          "state": {
            "_view_name": "VBoxView",
            "_dom_classes": [
              "widget-interact"
            ],
            "_model_name": "VBoxModel",
            "_view_module": "@jupyter-widgets/controls",
            "_model_module_version": "1.5.0",
            "_view_count": null,
            "_view_module_version": "1.5.0",
            "box_style": "",
            "layout": "IPY_MODEL_261286f8b8664c268570ee22d72c466e",
            "_model_module": "@jupyter-widgets/controls",
            "children": [
              "IPY_MODEL_45f2db3a345e4a279f309bb7ef0798bc",
              "IPY_MODEL_f393c084525149738f855a3fd0987821",
              "IPY_MODEL_a97df153a003490f8175c89d5a53692a",
              "IPY_MODEL_af5d14f8b00c4b70834f1d979e8abbe8"
            ]
          }
        },
        "261286f8b8664c268570ee22d72c466e": {
          "model_module": "@jupyter-widgets/base",
          "model_name": "LayoutModel",
          "model_module_version": "1.2.0",
          "state": {
            "_view_name": "LayoutView",
            "grid_template_rows": null,
            "right": null,
            "justify_content": null,
            "_view_module": "@jupyter-widgets/base",
            "overflow": null,
            "_model_module_version": "1.2.0",
            "_view_count": null,
            "flex_flow": null,
            "width": null,
            "min_width": null,
            "border": null,
            "align_items": null,
            "bottom": null,
            "_model_module": "@jupyter-widgets/base",
            "top": null,
            "grid_column": null,
            "overflow_y": null,
            "overflow_x": null,
            "grid_auto_flow": null,
            "grid_area": null,
            "grid_template_columns": null,
            "flex": null,
            "_model_name": "LayoutModel",
            "justify_items": null,
            "grid_row": null,
            "max_height": null,
            "align_content": null,
            "visibility": null,
            "align_self": null,
            "height": null,
            "min_height": null,
            "padding": null,
            "grid_auto_rows": null,
            "grid_gap": null,
            "max_width": null,
            "order": null,
            "_view_module_version": "1.2.0",
            "grid_template_areas": null,
            "object_position": null,
            "object_fit": null,
            "grid_auto_columns": null,
            "margin": null,
            "display": null,
            "left": null
          }
        },
        "45f2db3a345e4a279f309bb7ef0798bc": {
          "model_module": "@jupyter-widgets/controls",
          "model_name": "IntSliderModel",
          "model_module_version": "1.5.0",
          "state": {
            "_view_name": "IntSliderView",
            "style": "IPY_MODEL_a6e84d7229764a5191535941047a8519",
            "_dom_classes": [],
            "description": "bianche",
            "step": 1,
            "_model_name": "IntSliderModel",
            "orientation": "horizontal",
            "max": 5,
            "_view_module": "@jupyter-widgets/controls",
            "_model_module_version": "1.5.0",
            "value": 2,
            "_view_count": null,
            "disabled": false,
            "_view_module_version": "1.5.0",
            "min": 1,
            "continuous_update": true,
            "readout_format": "d",
            "description_tooltip": null,
            "readout": true,
            "_model_module": "@jupyter-widgets/controls",
            "layout": "IPY_MODEL_911e9397e315406e849c9e0f013f6bac"
          }
        },
        "f393c084525149738f855a3fd0987821": {
          "model_module": "@jupyter-widgets/controls",
          "model_name": "IntSliderModel",
          "model_module_version": "1.5.0",
          "state": {
            "_view_name": "IntSliderView",
            "style": "IPY_MODEL_73840269c506443baca47a06a371a67b",
            "_dom_classes": [],
            "description": "rosse",
            "step": 1,
            "_model_name": "IntSliderModel",
            "orientation": "horizontal",
            "max": 5,
            "_view_module": "@jupyter-widgets/controls",
            "_model_module_version": "1.5.0",
            "value": 3,
            "_view_count": null,
            "disabled": false,
            "_view_module_version": "1.5.0",
            "min": 1,
            "continuous_update": true,
            "readout_format": "d",
            "description_tooltip": null,
            "readout": true,
            "_model_module": "@jupyter-widgets/controls",
            "layout": "IPY_MODEL_658b651feaea41c69f5d3da94c819b18"
          }
        },
        "a97df153a003490f8175c89d5a53692a": {
          "model_module": "@jupyter-widgets/controls",
          "model_name": "ButtonModel",
          "model_module_version": "1.5.0",
          "state": {
            "_view_name": "ButtonView",
            "style": "IPY_MODEL_7f9d4739a13f4b9a87426c60e7da9845",
            "_dom_classes": [],
            "description": "Run Interact",
            "_model_name": "ButtonModel",
            "button_style": "",
            "_view_module": "@jupyter-widgets/controls",
            "_model_module_version": "1.5.0",
            "tooltip": "",
            "_view_count": null,
            "disabled": false,
            "_view_module_version": "1.5.0",
            "layout": "IPY_MODEL_1929db1ca1bf437d9947a7f9fbd7cb7e",
            "_model_module": "@jupyter-widgets/controls",
            "icon": ""
          }
        },
        "af5d14f8b00c4b70834f1d979e8abbe8": {
          "model_module": "@jupyter-widgets/output",
          "model_name": "OutputModel",
          "model_module_version": "1.0.0",
          "state": {
            "_view_name": "OutputView",
            "msg_id": "",
            "_dom_classes": [],
            "_model_name": "OutputModel",
            "outputs": [
              {
                "output_type": "display_data",
                "data": {
                  "image/png": "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\n",
                  "text/plain": "<Figure size 432x288 with 1 Axes>"
                },
                "metadata": {}
              }
            ],
            "_view_module": "@jupyter-widgets/output",
            "_model_module_version": "1.0.0",
            "_view_count": null,
            "_view_module_version": "1.0.0",
            "layout": "IPY_MODEL_e5913bc7533b43d6b634043c55839d5b",
            "_model_module": "@jupyter-widgets/output"
          }
        },
        "a6e84d7229764a5191535941047a8519": {
          "model_module": "@jupyter-widgets/controls",
          "model_name": "SliderStyleModel",
          "model_module_version": "1.5.0",
          "state": {
            "_view_name": "StyleView",
            "handle_color": null,
            "_model_name": "SliderStyleModel",
            "description_width": "",
            "_view_module": "@jupyter-widgets/base",
            "_model_module_version": "1.5.0",
            "_view_count": null,
            "_view_module_version": "1.2.0",
            "_model_module": "@jupyter-widgets/controls"
          }
        },
        "911e9397e315406e849c9e0f013f6bac": {
          "model_module": "@jupyter-widgets/base",
          "model_name": "LayoutModel",
          "model_module_version": "1.2.0",
          "state": {
            "_view_name": "LayoutView",
            "grid_template_rows": null,
            "right": null,
            "justify_content": null,
            "_view_module": "@jupyter-widgets/base",
            "overflow": null,
            "_model_module_version": "1.2.0",
            "_view_count": null,
            "flex_flow": null,
            "width": null,
            "min_width": null,
            "border": null,
            "align_items": null,
            "bottom": null,
            "_model_module": "@jupyter-widgets/base",
            "top": null,
            "grid_column": null,
            "overflow_y": null,
            "overflow_x": null,
            "grid_auto_flow": null,
            "grid_area": null,
            "grid_template_columns": null,
            "flex": null,
            "_model_name": "LayoutModel",
            "justify_items": null,
            "grid_row": null,
            "max_height": null,
            "align_content": null,
            "visibility": null,
            "align_self": null,
            "height": null,
            "min_height": null,
            "padding": null,
            "grid_auto_rows": null,
            "grid_gap": null,
            "max_width": null,
            "order": null,
            "_view_module_version": "1.2.0",
            "grid_template_areas": null,
            "object_position": null,
            "object_fit": null,
            "grid_auto_columns": null,
            "margin": null,
            "display": null,
            "left": null
          }
        },
        "73840269c506443baca47a06a371a67b": {
          "model_module": "@jupyter-widgets/controls",
          "model_name": "SliderStyleModel",
          "model_module_version": "1.5.0",
          "state": {
            "_view_name": "StyleView",
            "handle_color": null,
            "_model_name": "SliderStyleModel",
            "description_width": "",
            "_view_module": "@jupyter-widgets/base",
            "_model_module_version": "1.5.0",
            "_view_count": null,
            "_view_module_version": "1.2.0",
            "_model_module": "@jupyter-widgets/controls"
          }
        },
        "658b651feaea41c69f5d3da94c819b18": {
          "model_module": "@jupyter-widgets/base",
          "model_name": "LayoutModel",
          "model_module_version": "1.2.0",
          "state": {
            "_view_name": "LayoutView",
            "grid_template_rows": null,
            "right": null,
            "justify_content": null,
            "_view_module": "@jupyter-widgets/base",
            "overflow": null,
            "_model_module_version": "1.2.0",
            "_view_count": null,
            "flex_flow": null,
            "width": null,
            "min_width": null,
            "border": null,
            "align_items": null,
            "bottom": null,
            "_model_module": "@jupyter-widgets/base",
            "top": null,
            "grid_column": null,
            "overflow_y": null,
            "overflow_x": null,
            "grid_auto_flow": null,
            "grid_area": null,
            "grid_template_columns": null,
            "flex": null,
            "_model_name": "LayoutModel",
            "justify_items": null,
            "grid_row": null,
            "max_height": null,
            "align_content": null,
            "visibility": null,
            "align_self": null,
            "height": null,
            "min_height": null,
            "padding": null,
            "grid_auto_rows": null,
            "grid_gap": null,
            "max_width": null,
            "order": null,
            "_view_module_version": "1.2.0",
            "grid_template_areas": null,
            "object_position": null,
            "object_fit": null,
            "grid_auto_columns": null,
            "margin": null,
            "display": null,
            "left": null
          }
        },
        "7f9d4739a13f4b9a87426c60e7da9845": {
          "model_module": "@jupyter-widgets/controls",
          "model_name": "ButtonStyleModel",
          "model_module_version": "1.5.0",
          "state": {
            "_view_name": "StyleView",
            "_model_name": "ButtonStyleModel",
            "_view_module": "@jupyter-widgets/base",
            "_model_module_version": "1.5.0",
            "_view_count": null,
            "button_color": null,
            "font_weight": "",
            "_view_module_version": "1.2.0",
            "_model_module": "@jupyter-widgets/controls"
          }
        },
        "1929db1ca1bf437d9947a7f9fbd7cb7e": {
          "model_module": "@jupyter-widgets/base",
          "model_name": "LayoutModel",
          "model_module_version": "1.2.0",
          "state": {
            "_view_name": "LayoutView",
            "grid_template_rows": null,
            "right": null,
            "justify_content": null,
            "_view_module": "@jupyter-widgets/base",
            "overflow": null,
            "_model_module_version": "1.2.0",
            "_view_count": null,
            "flex_flow": null,
            "width": null,
            "min_width": null,
            "border": null,
            "align_items": null,
            "bottom": null,
            "_model_module": "@jupyter-widgets/base",
            "top": null,
            "grid_column": null,
            "overflow_y": null,
            "overflow_x": null,
            "grid_auto_flow": null,
            "grid_area": null,
            "grid_template_columns": null,
            "flex": null,
            "_model_name": "LayoutModel",
            "justify_items": null,
            "grid_row": null,
            "max_height": null,
            "align_content": null,
            "visibility": null,
            "align_self": null,
            "height": null,
            "min_height": null,
            "padding": null,
            "grid_auto_rows": null,
            "grid_gap": null,
            "max_width": null,
            "order": null,
            "_view_module_version": "1.2.0",
            "grid_template_areas": null,
            "object_position": null,
            "object_fit": null,
            "grid_auto_columns": null,
            "margin": null,
            "display": null,
            "left": null
          }
        },
        "e5913bc7533b43d6b634043c55839d5b": {
          "model_module": "@jupyter-widgets/base",
          "model_name": "LayoutModel",
          "model_module_version": "1.2.0",
          "state": {
            "_view_name": "LayoutView",
            "grid_template_rows": null,
            "right": null,
            "justify_content": null,
            "_view_module": "@jupyter-widgets/base",
            "overflow": null,
            "_model_module_version": "1.2.0",
            "_view_count": null,
            "flex_flow": null,
            "width": null,
            "min_width": null,
            "border": null,
            "align_items": null,
            "bottom": null,
            "_model_module": "@jupyter-widgets/base",
            "top": null,
            "grid_column": null,
            "overflow_y": null,
            "overflow_x": null,
            "grid_auto_flow": null,
            "grid_area": null,
            "grid_template_columns": null,
            "flex": null,
            "_model_name": "LayoutModel",
            "justify_items": null,
            "grid_row": null,
            "max_height": null,
            "align_content": null,
            "visibility": null,
            "align_self": null,
            "height": null,
            "min_height": null,
            "padding": null,
            "grid_auto_rows": null,
            "grid_gap": null,
            "max_width": null,
            "order": null,
            "_view_module_version": "1.2.0",
            "grid_template_areas": null,
            "object_position": null,
            "object_fit": null,
            "grid_auto_columns": null,
            "margin": null,
            "display": null,
            "left": null
          }
        },
        "57a71be2803446d7b084149fcd4aef84": {
          "model_module": "@jupyter-widgets/controls",
          "model_name": "VBoxModel",
          "model_module_version": "1.5.0",
          "state": {
            "_view_name": "VBoxView",
            "_dom_classes": [
              "widget-interact"
            ],
            "_model_name": "VBoxModel",
            "_view_module": "@jupyter-widgets/controls",
            "_model_module_version": "1.5.0",
            "_view_count": null,
            "_view_module_version": "1.5.0",
            "box_style": "",
            "layout": "IPY_MODEL_68c219df1a3140d99a2fa31ca3f4ae7c",
            "_model_module": "@jupyter-widgets/controls",
            "children": [
              "IPY_MODEL_f3124ac51c094f1db6456ca2101d8b5c",
              "IPY_MODEL_730c73c180194fe39131aff75bba38f2",
              "IPY_MODEL_66d020dc34d149ae85f00d27a98295fc",
              "IPY_MODEL_5e05dfa9608e4053881d708b747cada7"
            ]
          }
        },
        "68c219df1a3140d99a2fa31ca3f4ae7c": {
          "model_module": "@jupyter-widgets/base",
          "model_name": "LayoutModel",
          "model_module_version": "1.2.0",
          "state": {
            "_view_name": "LayoutView",
            "grid_template_rows": null,
            "right": null,
            "justify_content": null,
            "_view_module": "@jupyter-widgets/base",
            "overflow": null,
            "_model_module_version": "1.2.0",
            "_view_count": null,
            "flex_flow": null,
            "width": null,
            "min_width": null,
            "border": null,
            "align_items": null,
            "bottom": null,
            "_model_module": "@jupyter-widgets/base",
            "top": null,
            "grid_column": null,
            "overflow_y": null,
            "overflow_x": null,
            "grid_auto_flow": null,
            "grid_area": null,
            "grid_template_columns": null,
            "flex": null,
            "_model_name": "LayoutModel",
            "justify_items": null,
            "grid_row": null,
            "max_height": null,
            "align_content": null,
            "visibility": null,
            "align_self": null,
            "height": null,
            "min_height": null,
            "padding": null,
            "grid_auto_rows": null,
            "grid_gap": null,
            "max_width": null,
            "order": null,
            "_view_module_version": "1.2.0",
            "grid_template_areas": null,
            "object_position": null,
            "object_fit": null,
            "grid_auto_columns": null,
            "margin": null,
            "display": null,
            "left": null
          }
        },
        "f3124ac51c094f1db6456ca2101d8b5c": {
          "model_module": "@jupyter-widgets/controls",
          "model_name": "IntSliderModel",
          "model_module_version": "1.5.0",
          "state": {
            "_view_name": "IntSliderView",
            "style": "IPY_MODEL_0637cfb9f8b7486e9809ec16c5f8c5d6",
            "_dom_classes": [],
            "description": "bianche",
            "step": 1,
            "_model_name": "IntSliderModel",
            "orientation": "horizontal",
            "max": 5,
            "_view_module": "@jupyter-widgets/controls",
            "_model_module_version": "1.5.0",
            "value": 2,
            "_view_count": null,
            "disabled": false,
            "_view_module_version": "1.5.0",
            "min": 1,
            "continuous_update": true,
            "readout_format": "d",
            "description_tooltip": null,
            "readout": true,
            "_model_module": "@jupyter-widgets/controls",
            "layout": "IPY_MODEL_d83bb1c98c3d43558acee54fb9238fb6"
          }
        },
        "730c73c180194fe39131aff75bba38f2": {
          "model_module": "@jupyter-widgets/controls",
          "model_name": "IntSliderModel",
          "model_module_version": "1.5.0",
          "state": {
            "_view_name": "IntSliderView",
            "style": "IPY_MODEL_948f89d705d5413f8a2142d6d69583bd",
            "_dom_classes": [],
            "description": "rosse",
            "step": 1,
            "_model_name": "IntSliderModel",
            "orientation": "horizontal",
            "max": 5,
            "_view_module": "@jupyter-widgets/controls",
            "_model_module_version": "1.5.0",
            "value": 3,
            "_view_count": null,
            "disabled": false,
            "_view_module_version": "1.5.0",
            "min": 1,
            "continuous_update": true,
            "readout_format": "d",
            "description_tooltip": null,
            "readout": true,
            "_model_module": "@jupyter-widgets/controls",
            "layout": "IPY_MODEL_101c69e3e5c9486d88bf8d39c1208257"
          }
        },
        "66d020dc34d149ae85f00d27a98295fc": {
          "model_module": "@jupyter-widgets/controls",
          "model_name": "ButtonModel",
          "model_module_version": "1.5.0",
          "state": {
            "_view_name": "ButtonView",
            "style": "IPY_MODEL_518660937e8143d19b20a85a3e56f259",
            "_dom_classes": [],
            "description": "Run Interact",
            "_model_name": "ButtonModel",
            "button_style": "",
            "_view_module": "@jupyter-widgets/controls",
            "_model_module_version": "1.5.0",
            "tooltip": "",
            "_view_count": null,
            "disabled": false,
            "_view_module_version": "1.5.0",
            "layout": "IPY_MODEL_2dc86927d4f544248e8dbcb75c36f319",
            "_model_module": "@jupyter-widgets/controls",
            "icon": ""
          }
        },
        "5e05dfa9608e4053881d708b747cada7": {
          "model_module": "@jupyter-widgets/output",
          "model_name": "OutputModel",
          "model_module_version": "1.0.0",
          "state": {
            "_view_name": "OutputView",
            "msg_id": "",
            "_dom_classes": [],
            "_model_name": "OutputModel",
            "outputs": [
              {
                "output_type": "display_data",
                "data": {
                  "image/png": "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\n",
                  "text/plain": "<Figure size 432x288 with 1 Axes>"
                },
                "metadata": {
                  "needs_background": "light"
                }
              }
            ],
            "_view_module": "@jupyter-widgets/output",
            "_model_module_version": "1.0.0",
            "_view_count": null,
            "_view_module_version": "1.0.0",
            "layout": "IPY_MODEL_e8311cf37b324783999772ba82204607",
            "_model_module": "@jupyter-widgets/output"
          }
        },
        "0637cfb9f8b7486e9809ec16c5f8c5d6": {
          "model_module": "@jupyter-widgets/controls",
          "model_name": "SliderStyleModel",
          "model_module_version": "1.5.0",
          "state": {
            "_view_name": "StyleView",
            "handle_color": null,
            "_model_name": "SliderStyleModel",
            "description_width": "",
            "_view_module": "@jupyter-widgets/base",
            "_model_module_version": "1.5.0",
            "_view_count": null,
            "_view_module_version": "1.2.0",
            "_model_module": "@jupyter-widgets/controls"
          }
        },
        "d83bb1c98c3d43558acee54fb9238fb6": {
          "model_module": "@jupyter-widgets/base",
          "model_name": "LayoutModel",
          "model_module_version": "1.2.0",
          "state": {
            "_view_name": "LayoutView",
            "grid_template_rows": null,
            "right": null,
            "justify_content": null,
            "_view_module": "@jupyter-widgets/base",
            "overflow": null,
            "_model_module_version": "1.2.0",
            "_view_count": null,
            "flex_flow": null,
            "width": null,
            "min_width": null,
            "border": null,
            "align_items": null,
            "bottom": null,
            "_model_module": "@jupyter-widgets/base",
            "top": null,
            "grid_column": null,
            "overflow_y": null,
            "overflow_x": null,
            "grid_auto_flow": null,
            "grid_area": null,
            "grid_template_columns": null,
            "flex": null,
            "_model_name": "LayoutModel",
            "justify_items": null,
            "grid_row": null,
            "max_height": null,
            "align_content": null,
            "visibility": null,
            "align_self": null,
            "height": null,
            "min_height": null,
            "padding": null,
            "grid_auto_rows": null,
            "grid_gap": null,
            "max_width": null,
            "order": null,
            "_view_module_version": "1.2.0",
            "grid_template_areas": null,
            "object_position": null,
            "object_fit": null,
            "grid_auto_columns": null,
            "margin": null,
            "display": null,
            "left": null
          }
        },
        "948f89d705d5413f8a2142d6d69583bd": {
          "model_module": "@jupyter-widgets/controls",
          "model_name": "SliderStyleModel",
          "model_module_version": "1.5.0",
          "state": {
            "_view_name": "StyleView",
            "handle_color": null,
            "_model_name": "SliderStyleModel",
            "description_width": "",
            "_view_module": "@jupyter-widgets/base",
            "_model_module_version": "1.5.0",
            "_view_count": null,
            "_view_module_version": "1.2.0",
            "_model_module": "@jupyter-widgets/controls"
          }
        },
        "101c69e3e5c9486d88bf8d39c1208257": {
          "model_module": "@jupyter-widgets/base",
          "model_name": "LayoutModel",
          "model_module_version": "1.2.0",
          "state": {
            "_view_name": "LayoutView",
            "grid_template_rows": null,
            "right": null,
            "justify_content": null,
            "_view_module": "@jupyter-widgets/base",
            "overflow": null,
            "_model_module_version": "1.2.0",
            "_view_count": null,
            "flex_flow": null,
            "width": null,
            "min_width": null,
            "border": null,
            "align_items": null,
            "bottom": null,
            "_model_module": "@jupyter-widgets/base",
            "top": null,
            "grid_column": null,
            "overflow_y": null,
            "overflow_x": null,
            "grid_auto_flow": null,
            "grid_area": null,
            "grid_template_columns": null,
            "flex": null,
            "_model_name": "LayoutModel",
            "justify_items": null,
            "grid_row": null,
            "max_height": null,
            "align_content": null,
            "visibility": null,
            "align_self": null,
            "height": null,
            "min_height": null,
            "padding": null,
            "grid_auto_rows": null,
            "grid_gap": null,
            "max_width": null,
            "order": null,
            "_view_module_version": "1.2.0",
            "grid_template_areas": null,
            "object_position": null,
            "object_fit": null,
            "grid_auto_columns": null,
            "margin": null,
            "display": null,
            "left": null
          }
        },
        "518660937e8143d19b20a85a3e56f259": {
          "model_module": "@jupyter-widgets/controls",
          "model_name": "ButtonStyleModel",
          "model_module_version": "1.5.0",
          "state": {
            "_view_name": "StyleView",
            "_model_name": "ButtonStyleModel",
            "_view_module": "@jupyter-widgets/base",
            "_model_module_version": "1.5.0",
            "_view_count": null,
            "button_color": null,
            "font_weight": "",
            "_view_module_version": "1.2.0",
            "_model_module": "@jupyter-widgets/controls"
          }
        },
        "2dc86927d4f544248e8dbcb75c36f319": {
          "model_module": "@jupyter-widgets/base",
          "model_name": "LayoutModel",
          "model_module_version": "1.2.0",
          "state": {
            "_view_name": "LayoutView",
            "grid_template_rows": null,
            "right": null,
            "justify_content": null,
            "_view_module": "@jupyter-widgets/base",
            "overflow": null,
            "_model_module_version": "1.2.0",
            "_view_count": null,
            "flex_flow": null,
            "width": null,
            "min_width": null,
            "border": null,
            "align_items": null,
            "bottom": null,
            "_model_module": "@jupyter-widgets/base",
            "top": null,
            "grid_column": null,
            "overflow_y": null,
            "overflow_x": null,
            "grid_auto_flow": null,
            "grid_area": null,
            "grid_template_columns": null,
            "flex": null,
            "_model_name": "LayoutModel",
            "justify_items": null,
            "grid_row": null,
            "max_height": null,
            "align_content": null,
            "visibility": null,
            "align_self": null,
            "height": null,
            "min_height": null,
            "padding": null,
            "grid_auto_rows": null,
            "grid_gap": null,
            "max_width": null,
            "order": null,
            "_view_module_version": "1.2.0",
            "grid_template_areas": null,
            "object_position": null,
            "object_fit": null,
            "grid_auto_columns": null,
            "margin": null,
            "display": null,
            "left": null
          }
        },
        "e8311cf37b324783999772ba82204607": {
          "model_module": "@jupyter-widgets/base",
          "model_name": "LayoutModel",
          "model_module_version": "1.2.0",
          "state": {
            "_view_name": "LayoutView",
            "grid_template_rows": null,
            "right": null,
            "justify_content": null,
            "_view_module": "@jupyter-widgets/base",
            "overflow": null,
            "_model_module_version": "1.2.0",
            "_view_count": null,
            "flex_flow": null,
            "width": null,
            "min_width": null,
            "border": null,
            "align_items": null,
            "bottom": null,
            "_model_module": "@jupyter-widgets/base",
            "top": null,
            "grid_column": null,
            "overflow_y": null,
            "overflow_x": null,
            "grid_auto_flow": null,
            "grid_area": null,
            "grid_template_columns": null,
            "flex": null,
            "_model_name": "LayoutModel",
            "justify_items": null,
            "grid_row": null,
            "max_height": null,
            "align_content": null,
            "visibility": null,
            "align_self": null,
            "height": null,
            "min_height": null,
            "padding": null,
            "grid_auto_rows": null,
            "grid_gap": null,
            "max_width": null,
            "order": null,
            "_view_module_version": "1.2.0",
            "grid_template_areas": null,
            "object_position": null,
            "object_fit": null,
            "grid_auto_columns": null,
            "margin": null,
            "display": null,
            "left": null
          }
        },
        "b017a4c6aa2641d2bba192e044900af1": {
          "model_module": "@jupyter-widgets/controls",
          "model_name": "VBoxModel",
          "model_module_version": "1.5.0",
          "state": {
            "_view_name": "VBoxView",
            "_dom_classes": [
              "widget-interact"
            ],
            "_model_name": "VBoxModel",
            "_view_module": "@jupyter-widgets/controls",
            "_model_module_version": "1.5.0",
            "_view_count": null,
            "_view_module_version": "1.5.0",
            "box_style": "",
            "layout": "IPY_MODEL_05f42866fcb741438bd76a763cc6a12f",
            "_model_module": "@jupyter-widgets/controls",
            "children": [
              "IPY_MODEL_bb9502357bfc4b578d20482e4d947169",
              "IPY_MODEL_2d06b9c4ee9b4631b5e2c4679b4bab72",
              "IPY_MODEL_8dfc5602336f4fdbae220c111b9115b0"
            ]
          }
        },
        "05f42866fcb741438bd76a763cc6a12f": {
          "model_module": "@jupyter-widgets/base",
          "model_name": "LayoutModel",
          "model_module_version": "1.2.0",
          "state": {
            "_view_name": "LayoutView",
            "grid_template_rows": null,
            "right": null,
            "justify_content": null,
            "_view_module": "@jupyter-widgets/base",
            "overflow": null,
            "_model_module_version": "1.2.0",
            "_view_count": null,
            "flex_flow": null,
            "width": null,
            "min_width": null,
            "border": null,
            "align_items": null,
            "bottom": null,
            "_model_module": "@jupyter-widgets/base",
            "top": null,
            "grid_column": null,
            "overflow_y": null,
            "overflow_x": null,
            "grid_auto_flow": null,
            "grid_area": null,
            "grid_template_columns": null,
            "flex": null,
            "_model_name": "LayoutModel",
            "justify_items": null,
            "grid_row": null,
            "max_height": null,
            "align_content": null,
            "visibility": null,
            "align_self": null,
            "height": null,
            "min_height": null,
            "padding": null,
            "grid_auto_rows": null,
            "grid_gap": null,
            "max_width": null,
            "order": null,
            "_view_module_version": "1.2.0",
            "grid_template_areas": null,
            "object_position": null,
            "object_fit": null,
            "grid_auto_columns": null,
            "margin": null,
            "display": null,
            "left": null
          }
        },
        "bb9502357bfc4b578d20482e4d947169": {
          "model_module": "@jupyter-widgets/controls",
          "model_name": "IntSliderModel",
          "model_module_version": "1.5.0",
          "state": {
            "_view_name": "IntSliderView",
            "style": "IPY_MODEL_df137e4a9a0f429b8c26860b2b765816",
            "_dom_classes": [],
            "description": "tempo",
            "step": 1,
            "_model_name": "IntSliderModel",
            "orientation": "horizontal",
            "max": 20,
            "_view_module": "@jupyter-widgets/controls",
            "_model_module_version": "1.5.0",
            "value": 10,
            "_view_count": null,
            "disabled": false,
            "_view_module_version": "1.5.0",
            "min": 1,
            "continuous_update": true,
            "readout_format": "d",
            "description_tooltip": null,
            "readout": true,
            "_model_module": "@jupyter-widgets/controls",
            "layout": "IPY_MODEL_5b7d121420a74cddbd19864bd13de697"
          }
        },
        "2d06b9c4ee9b4631b5e2c4679b4bab72": {
          "model_module": "@jupyter-widgets/controls",
          "model_name": "ButtonModel",
          "model_module_version": "1.5.0",
          "state": {
            "_view_name": "ButtonView",
            "style": "IPY_MODEL_1a78dec1d62b4aae9d749fa1fa3f856e",
            "_dom_classes": [],
            "description": "Run Interact",
            "_model_name": "ButtonModel",
            "button_style": "",
            "_view_module": "@jupyter-widgets/controls",
            "_model_module_version": "1.5.0",
            "tooltip": "",
            "_view_count": null,
            "disabled": false,
            "_view_module_version": "1.5.0",
            "layout": "IPY_MODEL_efc69b9e9c344baf867cb573eed09a69",
            "_model_module": "@jupyter-widgets/controls",
            "icon": ""
          }
        },
        "8dfc5602336f4fdbae220c111b9115b0": {
          "model_module": "@jupyter-widgets/output",
          "model_name": "OutputModel",
          "model_module_version": "1.0.0",
          "state": {
            "_view_name": "OutputView",
            "msg_id": "",
            "_dom_classes": [],
            "_model_name": "OutputModel",
            "outputs": [],
            "_view_module": "@jupyter-widgets/output",
            "_model_module_version": "1.0.0",
            "_view_count": null,
            "_view_module_version": "1.0.0",
            "layout": "IPY_MODEL_c8d11d0e004c41ccaaecc57c881cd490",
            "_model_module": "@jupyter-widgets/output"
          }
        },
        "df137e4a9a0f429b8c26860b2b765816": {
          "model_module": "@jupyter-widgets/controls",
          "model_name": "SliderStyleModel",
          "model_module_version": "1.5.0",
          "state": {
            "_view_name": "StyleView",
            "handle_color": null,
            "_model_name": "SliderStyleModel",
            "description_width": "",
            "_view_module": "@jupyter-widgets/base",
            "_model_module_version": "1.5.0",
            "_view_count": null,
            "_view_module_version": "1.2.0",
            "_model_module": "@jupyter-widgets/controls"
          }
        },
        "5b7d121420a74cddbd19864bd13de697": {
          "model_module": "@jupyter-widgets/base",
          "model_name": "LayoutModel",
          "model_module_version": "1.2.0",
          "state": {
            "_view_name": "LayoutView",
            "grid_template_rows": null,
            "right": null,
            "justify_content": null,
            "_view_module": "@jupyter-widgets/base",
            "overflow": null,
            "_model_module_version": "1.2.0",
            "_view_count": null,
            "flex_flow": null,
            "width": null,
            "min_width": null,
            "border": null,
            "align_items": null,
            "bottom": null,
            "_model_module": "@jupyter-widgets/base",
            "top": null,
            "grid_column": null,
            "overflow_y": null,
            "overflow_x": null,
            "grid_auto_flow": null,
            "grid_area": null,
            "grid_template_columns": null,
            "flex": null,
            "_model_name": "LayoutModel",
            "justify_items": null,
            "grid_row": null,
            "max_height": null,
            "align_content": null,
            "visibility": null,
            "align_self": null,
            "height": null,
            "min_height": null,
            "padding": null,
            "grid_auto_rows": null,
            "grid_gap": null,
            "max_width": null,
            "order": null,
            "_view_module_version": "1.2.0",
            "grid_template_areas": null,
            "object_position": null,
            "object_fit": null,
            "grid_auto_columns": null,
            "margin": null,
            "display": null,
            "left": null
          }
        },
        "1a78dec1d62b4aae9d749fa1fa3f856e": {
          "model_module": "@jupyter-widgets/controls",
          "model_name": "ButtonStyleModel",
          "model_module_version": "1.5.0",
          "state": {
            "_view_name": "StyleView",
            "_model_name": "ButtonStyleModel",
            "_view_module": "@jupyter-widgets/base",
            "_model_module_version": "1.5.0",
            "_view_count": null,
            "button_color": null,
            "font_weight": "",
            "_view_module_version": "1.2.0",
            "_model_module": "@jupyter-widgets/controls"
          }
        },
        "efc69b9e9c344baf867cb573eed09a69": {
          "model_module": "@jupyter-widgets/base",
          "model_name": "LayoutModel",
          "model_module_version": "1.2.0",
          "state": {
            "_view_name": "LayoutView",
            "grid_template_rows": null,
            "right": null,
            "justify_content": null,
            "_view_module": "@jupyter-widgets/base",
            "overflow": null,
            "_model_module_version": "1.2.0",
            "_view_count": null,
            "flex_flow": null,
            "width": null,
            "min_width": null,
            "border": null,
            "align_items": null,
            "bottom": null,
            "_model_module": "@jupyter-widgets/base",
            "top": null,
            "grid_column": null,
            "overflow_y": null,
            "overflow_x": null,
            "grid_auto_flow": null,
            "grid_area": null,
            "grid_template_columns": null,
            "flex": null,
            "_model_name": "LayoutModel",
            "justify_items": null,
            "grid_row": null,
            "max_height": null,
            "align_content": null,
            "visibility": null,
            "align_self": null,
            "height": null,
            "min_height": null,
            "padding": null,
            "grid_auto_rows": null,
            "grid_gap": null,
            "max_width": null,
            "order": null,
            "_view_module_version": "1.2.0",
            "grid_template_areas": null,
            "object_position": null,
            "object_fit": null,
            "grid_auto_columns": null,
            "margin": null,
            "display": null,
            "left": null
          }
        },
        "c8d11d0e004c41ccaaecc57c881cd490": {
          "model_module": "@jupyter-widgets/base",
          "model_name": "LayoutModel",
          "model_module_version": "1.2.0",
          "state": {
            "_view_name": "LayoutView",
            "grid_template_rows": null,
            "right": null,
            "justify_content": null,
            "_view_module": "@jupyter-widgets/base",
            "overflow": null,
            "_model_module_version": "1.2.0",
            "_view_count": null,
            "flex_flow": null,
            "width": null,
            "min_width": null,
            "border": null,
            "align_items": null,
            "bottom": null,
            "_model_module": "@jupyter-widgets/base",
            "top": null,
            "grid_column": null,
            "overflow_y": null,
            "overflow_x": null,
            "grid_auto_flow": null,
            "grid_area": null,
            "grid_template_columns": null,
            "flex": null,
            "_model_name": "LayoutModel",
            "justify_items": null,
            "grid_row": null,
            "max_height": null,
            "align_content": null,
            "visibility": null,
            "align_self": null,
            "height": null,
            "min_height": null,
            "padding": null,
            "grid_auto_rows": null,
            "grid_gap": null,
            "max_width": null,
            "order": null,
            "_view_module_version": "1.2.0",
            "grid_template_areas": null,
            "object_position": null,
            "object_fit": null,
            "grid_auto_columns": null,
            "margin": null,
            "display": null,
            "left": null
          }
        },
        "68f63bf5ac854191ae4471c2c0e56cde": {
          "model_module": "@jupyter-widgets/controls",
          "model_name": "VBoxModel",
          "model_module_version": "1.5.0",
          "state": {
            "_view_name": "VBoxView",
            "_dom_classes": [
              "widget-interact"
            ],
            "_model_name": "VBoxModel",
            "_view_module": "@jupyter-widgets/controls",
            "_model_module_version": "1.5.0",
            "_view_count": null,
            "_view_module_version": "1.5.0",
            "box_style": "",
            "layout": "IPY_MODEL_f79565ea405b4462ba700cf029a5b8a9",
            "_model_module": "@jupyter-widgets/controls",
            "children": [
              "IPY_MODEL_a0815e28c9814463a9b98c5e80cbe9a2",
              "IPY_MODEL_36c276eb9fb74dfc9c370409b29158a6",
              "IPY_MODEL_e1ec271ec6fe45d684d6fab5f8060f10",
              "IPY_MODEL_cf7587918d3149c8b8610e60dc693d45"
            ]
          }
        },
        "f79565ea405b4462ba700cf029a5b8a9": {
          "model_module": "@jupyter-widgets/base",
          "model_name": "LayoutModel",
          "model_module_version": "1.2.0",
          "state": {
            "_view_name": "LayoutView",
            "grid_template_rows": null,
            "right": null,
            "justify_content": null,
            "_view_module": "@jupyter-widgets/base",
            "overflow": null,
            "_model_module_version": "1.2.0",
            "_view_count": null,
            "flex_flow": null,
            "width": null,
            "min_width": null,
            "border": null,
            "align_items": null,
            "bottom": null,
            "_model_module": "@jupyter-widgets/base",
            "top": null,
            "grid_column": null,
            "overflow_y": null,
            "overflow_x": null,
            "grid_auto_flow": null,
            "grid_area": null,
            "grid_template_columns": null,
            "flex": null,
            "_model_name": "LayoutModel",
            "justify_items": null,
            "grid_row": null,
            "max_height": null,
            "align_content": null,
            "visibility": null,
            "align_self": null,
            "height": null,
            "min_height": null,
            "padding": null,
            "grid_auto_rows": null,
            "grid_gap": null,
            "max_width": null,
            "order": null,
            "_view_module_version": "1.2.0",
            "grid_template_areas": null,
            "object_position": null,
            "object_fit": null,
            "grid_auto_columns": null,
            "margin": null,
            "display": null,
            "left": null
          }
        },
        "a0815e28c9814463a9b98c5e80cbe9a2": {
          "model_module": "@jupyter-widgets/controls",
          "model_name": "IntSliderModel",
          "model_module_version": "1.5.0",
          "state": {
            "_view_name": "IntSliderView",
            "style": "IPY_MODEL_0bc01d845f0544138832e4cde14f1804",
            "_dom_classes": [],
            "description": "a",
            "step": 1,
            "_model_name": "IntSliderModel",
            "orientation": "horizontal",
            "max": 10,
            "_view_module": "@jupyter-widgets/controls",
            "_model_module_version": "1.5.0",
            "value": 4,
            "_view_count": null,
            "disabled": false,
            "_view_module_version": "1.5.0",
            "min": 0,
            "continuous_update": true,
            "readout_format": "d",
            "description_tooltip": null,
            "readout": true,
            "_model_module": "@jupyter-widgets/controls",
            "layout": "IPY_MODEL_37a74382edba45ba8b9b6866958c2219"
          }
        },
        "36c276eb9fb74dfc9c370409b29158a6": {
          "model_module": "@jupyter-widgets/controls",
          "model_name": "IntSliderModel",
          "model_module_version": "1.5.0",
          "state": {
            "_view_name": "IntSliderView",
            "style": "IPY_MODEL_36582342b406454792525b23b2e9f1a6",
            "_dom_classes": [],
            "description": "b",
            "step": 1,
            "_model_name": "IntSliderModel",
            "orientation": "horizontal",
            "max": 10,
            "_view_module": "@jupyter-widgets/controls",
            "_model_module_version": "1.5.0",
            "value": 6,
            "_view_count": null,
            "disabled": false,
            "_view_module_version": "1.5.0",
            "min": 0,
            "continuous_update": true,
            "readout_format": "d",
            "description_tooltip": null,
            "readout": true,
            "_model_module": "@jupyter-widgets/controls",
            "layout": "IPY_MODEL_f377be92c02641f89b6097928f6430ab"
          }
        },
        "e1ec271ec6fe45d684d6fab5f8060f10": {
          "model_module": "@jupyter-widgets/controls",
          "model_name": "ButtonModel",
          "model_module_version": "1.5.0",
          "state": {
            "_view_name": "ButtonView",
            "style": "IPY_MODEL_152744ea911b488fb665b8262fab0d95",
            "_dom_classes": [],
            "description": "Run Interact",
            "_model_name": "ButtonModel",
            "button_style": "",
            "_view_module": "@jupyter-widgets/controls",
            "_model_module_version": "1.5.0",
            "tooltip": "",
            "_view_count": null,
            "disabled": false,
            "_view_module_version": "1.5.0",
            "layout": "IPY_MODEL_67f0795348ba4446b6fe2eb4df78ef23",
            "_model_module": "@jupyter-widgets/controls",
            "icon": ""
          }
        },
        "cf7587918d3149c8b8610e60dc693d45": {
          "model_module": "@jupyter-widgets/output",
          "model_name": "OutputModel",
          "model_module_version": "1.0.0",
          "state": {
            "_view_name": "OutputView",
            "msg_id": "",
            "_dom_classes": [],
            "_model_name": "OutputModel",
            "outputs": [],
            "_view_module": "@jupyter-widgets/output",
            "_model_module_version": "1.0.0",
            "_view_count": null,
            "_view_module_version": "1.0.0",
            "layout": "IPY_MODEL_f55507b1cc584f50aaf09f7fc3294255",
            "_model_module": "@jupyter-widgets/output"
          }
        },
        "0bc01d845f0544138832e4cde14f1804": {
          "model_module": "@jupyter-widgets/controls",
          "model_name": "SliderStyleModel",
          "model_module_version": "1.5.0",
          "state": {
            "_view_name": "StyleView",
            "handle_color": null,
            "_model_name": "SliderStyleModel",
            "description_width": "",
            "_view_module": "@jupyter-widgets/base",
            "_model_module_version": "1.5.0",
            "_view_count": null,
            "_view_module_version": "1.2.0",
            "_model_module": "@jupyter-widgets/controls"
          }
        },
        "37a74382edba45ba8b9b6866958c2219": {
          "model_module": "@jupyter-widgets/base",
          "model_name": "LayoutModel",
          "model_module_version": "1.2.0",
          "state": {
            "_view_name": "LayoutView",
            "grid_template_rows": null,
            "right": null,
            "justify_content": null,
            "_view_module": "@jupyter-widgets/base",
            "overflow": null,
            "_model_module_version": "1.2.0",
            "_view_count": null,
            "flex_flow": null,
            "width": null,
            "min_width": null,
            "border": null,
            "align_items": null,
            "bottom": null,
            "_model_module": "@jupyter-widgets/base",
            "top": null,
            "grid_column": null,
            "overflow_y": null,
            "overflow_x": null,
            "grid_auto_flow": null,
            "grid_area": null,
            "grid_template_columns": null,
            "flex": null,
            "_model_name": "LayoutModel",
            "justify_items": null,
            "grid_row": null,
            "max_height": null,
            "align_content": null,
            "visibility": null,
            "align_self": null,
            "height": null,
            "min_height": null,
            "padding": null,
            "grid_auto_rows": null,
            "grid_gap": null,
            "max_width": null,
            "order": null,
            "_view_module_version": "1.2.0",
            "grid_template_areas": null,
            "object_position": null,
            "object_fit": null,
            "grid_auto_columns": null,
            "margin": null,
            "display": null,
            "left": null
          }
        },
        "36582342b406454792525b23b2e9f1a6": {
          "model_module": "@jupyter-widgets/controls",
          "model_name": "SliderStyleModel",
          "model_module_version": "1.5.0",
          "state": {
            "_view_name": "StyleView",
            "handle_color": null,
            "_model_name": "SliderStyleModel",
            "description_width": "",
            "_view_module": "@jupyter-widgets/base",
            "_model_module_version": "1.5.0",
            "_view_count": null,
            "_view_module_version": "1.2.0",
            "_model_module": "@jupyter-widgets/controls"
          }
        },
        "f377be92c02641f89b6097928f6430ab": {
          "model_module": "@jupyter-widgets/base",
          "model_name": "LayoutModel",
          "model_module_version": "1.2.0",
          "state": {
            "_view_name": "LayoutView",
            "grid_template_rows": null,
            "right": null,
            "justify_content": null,
            "_view_module": "@jupyter-widgets/base",
            "overflow": null,
            "_model_module_version": "1.2.0",
            "_view_count": null,
            "flex_flow": null,
            "width": null,
            "min_width": null,
            "border": null,
            "align_items": null,
            "bottom": null,
            "_model_module": "@jupyter-widgets/base",
            "top": null,
            "grid_column": null,
            "overflow_y": null,
            "overflow_x": null,
            "grid_auto_flow": null,
            "grid_area": null,
            "grid_template_columns": null,
            "flex": null,
            "_model_name": "LayoutModel",
            "justify_items": null,
            "grid_row": null,
            "max_height": null,
            "align_content": null,
            "visibility": null,
            "align_self": null,
            "height": null,
            "min_height": null,
            "padding": null,
            "grid_auto_rows": null,
            "grid_gap": null,
            "max_width": null,
            "order": null,
            "_view_module_version": "1.2.0",
            "grid_template_areas": null,
            "object_position": null,
            "object_fit": null,
            "grid_auto_columns": null,
            "margin": null,
            "display": null,
            "left": null
          }
        },
        "152744ea911b488fb665b8262fab0d95": {
          "model_module": "@jupyter-widgets/controls",
          "model_name": "ButtonStyleModel",
          "model_module_version": "1.5.0",
          "state": {
            "_view_name": "StyleView",
            "_model_name": "ButtonStyleModel",
            "_view_module": "@jupyter-widgets/base",
            "_model_module_version": "1.5.0",
            "_view_count": null,
            "button_color": null,
            "font_weight": "",
            "_view_module_version": "1.2.0",
            "_model_module": "@jupyter-widgets/controls"
          }
        },
        "67f0795348ba4446b6fe2eb4df78ef23": {
          "model_module": "@jupyter-widgets/base",
          "model_name": "LayoutModel",
          "model_module_version": "1.2.0",
          "state": {
            "_view_name": "LayoutView",
            "grid_template_rows": null,
            "right": null,
            "justify_content": null,
            "_view_module": "@jupyter-widgets/base",
            "overflow": null,
            "_model_module_version": "1.2.0",
            "_view_count": null,
            "flex_flow": null,
            "width": null,
            "min_width": null,
            "border": null,
            "align_items": null,
            "bottom": null,
            "_model_module": "@jupyter-widgets/base",
            "top": null,
            "grid_column": null,
            "overflow_y": null,
            "overflow_x": null,
            "grid_auto_flow": null,
            "grid_area": null,
            "grid_template_columns": null,
            "flex": null,
            "_model_name": "LayoutModel",
            "justify_items": null,
            "grid_row": null,
            "max_height": null,
            "align_content": null,
            "visibility": null,
            "align_self": null,
            "height": null,
            "min_height": null,
            "padding": null,
            "grid_auto_rows": null,
            "grid_gap": null,
            "max_width": null,
            "order": null,
            "_view_module_version": "1.2.0",
            "grid_template_areas": null,
            "object_position": null,
            "object_fit": null,
            "grid_auto_columns": null,
            "margin": null,
            "display": null,
            "left": null
          }
        },
        "f55507b1cc584f50aaf09f7fc3294255": {
          "model_module": "@jupyter-widgets/base",
          "model_name": "LayoutModel",
          "model_module_version": "1.2.0",
          "state": {
            "_view_name": "LayoutView",
            "grid_template_rows": null,
            "right": null,
            "justify_content": null,
            "_view_module": "@jupyter-widgets/base",
            "overflow": null,
            "_model_module_version": "1.2.0",
            "_view_count": null,
            "flex_flow": null,
            "width": null,
            "min_width": null,
            "border": null,
            "align_items": null,
            "bottom": null,
            "_model_module": "@jupyter-widgets/base",
            "top": null,
            "grid_column": null,
            "overflow_y": null,
            "overflow_x": null,
            "grid_auto_flow": null,
            "grid_area": null,
            "grid_template_columns": null,
            "flex": null,
            "_model_name": "LayoutModel",
            "justify_items": null,
            "grid_row": null,
            "max_height": null,
            "align_content": null,
            "visibility": null,
            "align_self": null,
            "height": null,
            "min_height": null,
            "padding": null,
            "grid_auto_rows": null,
            "grid_gap": null,
            "max_width": null,
            "order": null,
            "_view_module_version": "1.2.0",
            "grid_template_areas": null,
            "object_position": null,
            "object_fit": null,
            "grid_auto_columns": null,
            "margin": null,
            "display": null,
            "left": null
          }
        },
        "7eaf592e188c4e019da334b20649f4ff": {
          "model_module": "@jupyter-widgets/controls",
          "model_name": "VBoxModel",
          "model_module_version": "1.5.0",
          "state": {
            "_view_name": "VBoxView",
            "_dom_classes": [
              "widget-interact"
            ],
            "_model_name": "VBoxModel",
            "_view_module": "@jupyter-widgets/controls",
            "_model_module_version": "1.5.0",
            "_view_count": null,
            "_view_module_version": "1.5.0",
            "box_style": "",
            "layout": "IPY_MODEL_f845da584fa6406ab99a52c2f975ae32",
            "_model_module": "@jupyter-widgets/controls",
            "children": [
              "IPY_MODEL_928be51dfc234bbaa95619ba13149d8d",
              "IPY_MODEL_7cc05bc638fc4a5b96e5509f99d1ea75",
              "IPY_MODEL_514bd33ccb5e442e8eaf2452a76cf565"
            ]
          }
        },
        "f845da584fa6406ab99a52c2f975ae32": {
          "model_module": "@jupyter-widgets/base",
          "model_name": "LayoutModel",
          "model_module_version": "1.2.0",
          "state": {
            "_view_name": "LayoutView",
            "grid_template_rows": null,
            "right": null,
            "justify_content": null,
            "_view_module": "@jupyter-widgets/base",
            "overflow": null,
            "_model_module_version": "1.2.0",
            "_view_count": null,
            "flex_flow": null,
            "width": null,
            "min_width": null,
            "border": null,
            "align_items": null,
            "bottom": null,
            "_model_module": "@jupyter-widgets/base",
            "top": null,
            "grid_column": null,
            "overflow_y": null,
            "overflow_x": null,
            "grid_auto_flow": null,
            "grid_area": null,
            "grid_template_columns": null,
            "flex": null,
            "_model_name": "LayoutModel",
            "justify_items": null,
            "grid_row": null,
            "max_height": null,
            "align_content": null,
            "visibility": null,
            "align_self": null,
            "height": null,
            "min_height": null,
            "padding": null,
            "grid_auto_rows": null,
            "grid_gap": null,
            "max_width": null,
            "order": null,
            "_view_module_version": "1.2.0",
            "grid_template_areas": null,
            "object_position": null,
            "object_fit": null,
            "grid_auto_columns": null,
            "margin": null,
            "display": null,
            "left": null
          }
        },
        "928be51dfc234bbaa95619ba13149d8d": {
          "model_module": "@jupyter-widgets/controls",
          "model_name": "IntSliderModel",
          "model_module_version": "1.5.0",
          "state": {
            "_view_name": "IntSliderView",
            "style": "IPY_MODEL_b15a8a4a78c14502a37c00a821c7b07c",
            "_dom_classes": [],
            "description": "ore",
            "step": 1,
            "_model_name": "IntSliderModel",
            "orientation": "horizontal",
            "max": 72,
            "_view_module": "@jupyter-widgets/controls",
            "_model_module_version": "1.5.0",
            "value": 3,
            "_view_count": null,
            "disabled": false,
            "_view_module_version": "1.5.0",
            "min": 0,
            "continuous_update": true,
            "readout_format": "d",
            "description_tooltip": null,
            "readout": true,
            "_model_module": "@jupyter-widgets/controls",
            "layout": "IPY_MODEL_953b6eddb0b44acabfacb51178944ed9"
          }
        },
        "7cc05bc638fc4a5b96e5509f99d1ea75": {
          "model_module": "@jupyter-widgets/controls",
          "model_name": "ButtonModel",
          "model_module_version": "1.5.0",
          "state": {
            "_view_name": "ButtonView",
            "style": "IPY_MODEL_9943810524bd40ccb5f0420b8e8e3003",
            "_dom_classes": [],
            "description": "Run Interact",
            "_model_name": "ButtonModel",
            "button_style": "",
            "_view_module": "@jupyter-widgets/controls",
            "_model_module_version": "1.5.0",
            "tooltip": "",
            "_view_count": null,
            "disabled": false,
            "_view_module_version": "1.5.0",
            "layout": "IPY_MODEL_bba35795c8744af18ae5b04dc545f1b0",
            "_model_module": "@jupyter-widgets/controls",
            "icon": ""
          }
        },
        "514bd33ccb5e442e8eaf2452a76cf565": {
          "model_module": "@jupyter-widgets/output",
          "model_name": "OutputModel",
          "model_module_version": "1.0.0",
          "state": {
            "_view_name": "OutputView",
            "msg_id": "",
            "_dom_classes": [],
            "_model_name": "OutputModel",
            "outputs": [
              {
                "output_type": "stream",
                "name": "stdout",
                "text": [
                  "Risultati ottenuti: 0.119\n",
                  "Risultati attesi: 0.118\n"
                ]
              }
            ],
            "_view_module": "@jupyter-widgets/output",
            "_model_module_version": "1.0.0",
            "_view_count": null,
            "_view_module_version": "1.0.0",
            "layout": "IPY_MODEL_6e52579954354046ba582deeb98f8080",
            "_model_module": "@jupyter-widgets/output"
          }
        },
        "b15a8a4a78c14502a37c00a821c7b07c": {
          "model_module": "@jupyter-widgets/controls",
          "model_name": "SliderStyleModel",
          "model_module_version": "1.5.0",
          "state": {
            "_view_name": "StyleView",
            "handle_color": null,
            "_model_name": "SliderStyleModel",
            "description_width": "",
            "_view_module": "@jupyter-widgets/base",
            "_model_module_version": "1.5.0",
            "_view_count": null,
            "_view_module_version": "1.2.0",
            "_model_module": "@jupyter-widgets/controls"
          }
        },
        "953b6eddb0b44acabfacb51178944ed9": {
          "model_module": "@jupyter-widgets/base",
          "model_name": "LayoutModel",
          "model_module_version": "1.2.0",
          "state": {
            "_view_name": "LayoutView",
            "grid_template_rows": null,
            "right": null,
            "justify_content": null,
            "_view_module": "@jupyter-widgets/base",
            "overflow": null,
            "_model_module_version": "1.2.0",
            "_view_count": null,
            "flex_flow": null,
            "width": null,
            "min_width": null,
            "border": null,
            "align_items": null,
            "bottom": null,
            "_model_module": "@jupyter-widgets/base",
            "top": null,
            "grid_column": null,
            "overflow_y": null,
            "overflow_x": null,
            "grid_auto_flow": null,
            "grid_area": null,
            "grid_template_columns": null,
            "flex": null,
            "_model_name": "LayoutModel",
            "justify_items": null,
            "grid_row": null,
            "max_height": null,
            "align_content": null,
            "visibility": null,
            "align_self": null,
            "height": null,
            "min_height": null,
            "padding": null,
            "grid_auto_rows": null,
            "grid_gap": null,
            "max_width": null,
            "order": null,
            "_view_module_version": "1.2.0",
            "grid_template_areas": null,
            "object_position": null,
            "object_fit": null,
            "grid_auto_columns": null,
            "margin": null,
            "display": null,
            "left": null
          }
        },
        "9943810524bd40ccb5f0420b8e8e3003": {
          "model_module": "@jupyter-widgets/controls",
          "model_name": "ButtonStyleModel",
          "model_module_version": "1.5.0",
          "state": {
            "_view_name": "StyleView",
            "_model_name": "ButtonStyleModel",
            "_view_module": "@jupyter-widgets/base",
            "_model_module_version": "1.5.0",
            "_view_count": null,
            "button_color": null,
            "font_weight": "",
            "_view_module_version": "1.2.0",
            "_model_module": "@jupyter-widgets/controls"
          }
        },
        "bba35795c8744af18ae5b04dc545f1b0": {
          "model_module": "@jupyter-widgets/base",
          "model_name": "LayoutModel",
          "model_module_version": "1.2.0",
          "state": {
            "_view_name": "LayoutView",
            "grid_template_rows": null,
            "right": null,
            "justify_content": null,
            "_view_module": "@jupyter-widgets/base",
            "overflow": null,
            "_model_module_version": "1.2.0",
            "_view_count": null,
            "flex_flow": null,
            "width": null,
            "min_width": null,
            "border": null,
            "align_items": null,
            "bottom": null,
            "_model_module": "@jupyter-widgets/base",
            "top": null,
            "grid_column": null,
            "overflow_y": null,
            "overflow_x": null,
            "grid_auto_flow": null,
            "grid_area": null,
            "grid_template_columns": null,
            "flex": null,
            "_model_name": "LayoutModel",
            "justify_items": null,
            "grid_row": null,
            "max_height": null,
            "align_content": null,
            "visibility": null,
            "align_self": null,
            "height": null,
            "min_height": null,
            "padding": null,
            "grid_auto_rows": null,
            "grid_gap": null,
            "max_width": null,
            "order": null,
            "_view_module_version": "1.2.0",
            "grid_template_areas": null,
            "object_position": null,
            "object_fit": null,
            "grid_auto_columns": null,
            "margin": null,
            "display": null,
            "left": null
          }
        },
        "6e52579954354046ba582deeb98f8080": {
          "model_module": "@jupyter-widgets/base",
          "model_name": "LayoutModel",
          "model_module_version": "1.2.0",
          "state": {
            "_view_name": "LayoutView",
            "grid_template_rows": null,
            "right": null,
            "justify_content": null,
            "_view_module": "@jupyter-widgets/base",
            "overflow": null,
            "_model_module_version": "1.2.0",
            "_view_count": null,
            "flex_flow": null,
            "width": null,
            "min_width": null,
            "border": null,
            "align_items": null,
            "bottom": null,
            "_model_module": "@jupyter-widgets/base",
            "top": null,
            "grid_column": null,
            "overflow_y": null,
            "overflow_x": null,
            "grid_auto_flow": null,
            "grid_area": null,
            "grid_template_columns": null,
            "flex": null,
            "_model_name": "LayoutModel",
            "justify_items": null,
            "grid_row": null,
            "max_height": null,
            "align_content": null,
            "visibility": null,
            "align_self": null,
            "height": null,
            "min_height": null,
            "padding": null,
            "grid_auto_rows": null,
            "grid_gap": null,
            "max_width": null,
            "order": null,
            "_view_module_version": "1.2.0",
            "grid_template_areas": null,
            "object_position": null,
            "object_fit": null,
            "grid_auto_columns": null,
            "margin": null,
            "display": null,
            "left": null
          }
        },
        "7b228727e8f54ce1a2f6ee8d6343dabd": {
          "model_module": "@jupyter-widgets/controls",
          "model_name": "VBoxModel",
          "model_module_version": "1.5.0",
          "state": {
            "_view_name": "VBoxView",
            "_dom_classes": [
              "widget-interact"
            ],
            "_model_name": "VBoxModel",
            "_view_module": "@jupyter-widgets/controls",
            "_model_module_version": "1.5.0",
            "_view_count": null,
            "_view_module_version": "1.5.0",
            "box_style": "",
            "layout": "IPY_MODEL_f62b585a401749bf858411dacd71ec6b",
            "_model_module": "@jupyter-widgets/controls",
            "children": [
              "IPY_MODEL_6a000b5ce70e4cbea6311d6c532a7f5c",
              "IPY_MODEL_be62f8c43dc84dfebe5b607e23b8bffe",
              "IPY_MODEL_9b303989e3534a35bb5212383d631da0"
            ]
          }
        },
        "f62b585a401749bf858411dacd71ec6b": {
          "model_module": "@jupyter-widgets/base",
          "model_name": "LayoutModel",
          "model_module_version": "1.2.0",
          "state": {
            "_view_name": "LayoutView",
            "grid_template_rows": null,
            "right": null,
            "justify_content": null,
            "_view_module": "@jupyter-widgets/base",
            "overflow": null,
            "_model_module_version": "1.2.0",
            "_view_count": null,
            "flex_flow": null,
            "width": null,
            "min_width": null,
            "border": null,
            "align_items": null,
            "bottom": null,
            "_model_module": "@jupyter-widgets/base",
            "top": null,
            "grid_column": null,
            "overflow_y": null,
            "overflow_x": null,
            "grid_auto_flow": null,
            "grid_area": null,
            "grid_template_columns": null,
            "flex": null,
            "_model_name": "LayoutModel",
            "justify_items": null,
            "grid_row": null,
            "max_height": null,
            "align_content": null,
            "visibility": null,
            "align_self": null,
            "height": null,
            "min_height": null,
            "padding": null,
            "grid_auto_rows": null,
            "grid_gap": null,
            "max_width": null,
            "order": null,
            "_view_module_version": "1.2.0",
            "grid_template_areas": null,
            "object_position": null,
            "object_fit": null,
            "grid_auto_columns": null,
            "margin": null,
            "display": null,
            "left": null
          }
        },
        "6a000b5ce70e4cbea6311d6c532a7f5c": {
          "model_module": "@jupyter-widgets/controls",
          "model_name": "IntSliderModel",
          "model_module_version": "1.5.0",
          "state": {
            "_view_name": "IntSliderView",
            "style": "IPY_MODEL_90f0a60a204e4dfcab43593053bbd21c",
            "_dom_classes": [],
            "description": "λ",
            "step": 1,
            "_model_name": "IntSliderModel",
            "orientation": "horizontal",
            "max": 10,
            "_view_module": "@jupyter-widgets/controls",
            "_model_module_version": "1.5.0",
            "value": 2,
            "_view_count": null,
            "disabled": false,
            "_view_module_version": "1.5.0",
            "min": 2,
            "continuous_update": true,
            "readout_format": "d",
            "description_tooltip": null,
            "readout": true,
            "_model_module": "@jupyter-widgets/controls",
            "layout": "IPY_MODEL_5ab7d1aee05443e3a10cad372a21113f"
          }
        },
        "be62f8c43dc84dfebe5b607e23b8bffe": {
          "model_module": "@jupyter-widgets/controls",
          "model_name": "ButtonModel",
          "model_module_version": "1.5.0",
          "state": {
            "_view_name": "ButtonView",
            "style": "IPY_MODEL_472a47b730354de5b328ad2fcacf2e17",
            "_dom_classes": [],
            "description": "Run Interact",
            "_model_name": "ButtonModel",
            "button_style": "",
            "_view_module": "@jupyter-widgets/controls",
            "_model_module_version": "1.5.0",
            "tooltip": "",
            "_view_count": null,
            "disabled": false,
            "_view_module_version": "1.5.0",
            "layout": "IPY_MODEL_5ea60ed493e44fd3a8211fd8a567ec42",
            "_model_module": "@jupyter-widgets/controls",
            "icon": ""
          }
        },
        "9b303989e3534a35bb5212383d631da0": {
          "model_module": "@jupyter-widgets/output",
          "model_name": "OutputModel",
          "model_module_version": "1.0.0",
          "state": {
            "_view_name": "OutputView",
            "msg_id": "",
            "_dom_classes": [],
            "_model_name": "OutputModel",
            "outputs": [],
            "_view_module": "@jupyter-widgets/output",
            "_model_module_version": "1.0.0",
            "_view_count": null,
            "_view_module_version": "1.0.0",
            "layout": "IPY_MODEL_17c994f55f2e4208a5bcbe495fa269c1",
            "_model_module": "@jupyter-widgets/output"
          }
        },
        "90f0a60a204e4dfcab43593053bbd21c": {
          "model_module": "@jupyter-widgets/controls",
          "model_name": "SliderStyleModel",
          "model_module_version": "1.5.0",
          "state": {
            "_view_name": "StyleView",
            "handle_color": null,
            "_model_name": "SliderStyleModel",
            "description_width": "",
            "_view_module": "@jupyter-widgets/base",
            "_model_module_version": "1.5.0",
            "_view_count": null,
            "_view_module_version": "1.2.0",
            "_model_module": "@jupyter-widgets/controls"
          }
        },
        "5ab7d1aee05443e3a10cad372a21113f": {
          "model_module": "@jupyter-widgets/base",
          "model_name": "LayoutModel",
          "model_module_version": "1.2.0",
          "state": {
            "_view_name": "LayoutView",
            "grid_template_rows": null,
            "right": null,
            "justify_content": null,
            "_view_module": "@jupyter-widgets/base",
            "overflow": null,
            "_model_module_version": "1.2.0",
            "_view_count": null,
            "flex_flow": null,
            "width": null,
            "min_width": null,
            "border": null,
            "align_items": null,
            "bottom": null,
            "_model_module": "@jupyter-widgets/base",
            "top": null,
            "grid_column": null,
            "overflow_y": null,
            "overflow_x": null,
            "grid_auto_flow": null,
            "grid_area": null,
            "grid_template_columns": null,
            "flex": null,
            "_model_name": "LayoutModel",
            "justify_items": null,
            "grid_row": null,
            "max_height": null,
            "align_content": null,
            "visibility": null,
            "align_self": null,
            "height": null,
            "min_height": null,
            "padding": null,
            "grid_auto_rows": null,
            "grid_gap": null,
            "max_width": null,
            "order": null,
            "_view_module_version": "1.2.0",
            "grid_template_areas": null,
            "object_position": null,
            "object_fit": null,
            "grid_auto_columns": null,
            "margin": null,
            "display": null,
            "left": null
          }
        },
        "472a47b730354de5b328ad2fcacf2e17": {
          "model_module": "@jupyter-widgets/controls",
          "model_name": "ButtonStyleModel",
          "model_module_version": "1.5.0",
          "state": {
            "_view_name": "StyleView",
            "_model_name": "ButtonStyleModel",
            "_view_module": "@jupyter-widgets/base",
            "_model_module_version": "1.5.0",
            "_view_count": null,
            "button_color": null,
            "font_weight": "",
            "_view_module_version": "1.2.0",
            "_model_module": "@jupyter-widgets/controls"
          }
        },
        "5ea60ed493e44fd3a8211fd8a567ec42": {
          "model_module": "@jupyter-widgets/base",
          "model_name": "LayoutModel",
          "model_module_version": "1.2.0",
          "state": {
            "_view_name": "LayoutView",
            "grid_template_rows": null,
            "right": null,
            "justify_content": null,
            "_view_module": "@jupyter-widgets/base",
            "overflow": null,
            "_model_module_version": "1.2.0",
            "_view_count": null,
            "flex_flow": null,
            "width": null,
            "min_width": null,
            "border": null,
            "align_items": null,
            "bottom": null,
            "_model_module": "@jupyter-widgets/base",
            "top": null,
            "grid_column": null,
            "overflow_y": null,
            "overflow_x": null,
            "grid_auto_flow": null,
            "grid_area": null,
            "grid_template_columns": null,
            "flex": null,
            "_model_name": "LayoutModel",
            "justify_items": null,
            "grid_row": null,
            "max_height": null,
            "align_content": null,
            "visibility": null,
            "align_self": null,
            "height": null,
            "min_height": null,
            "padding": null,
            "grid_auto_rows": null,
            "grid_gap": null,
            "max_width": null,
            "order": null,
            "_view_module_version": "1.2.0",
            "grid_template_areas": null,
            "object_position": null,
            "object_fit": null,
            "grid_auto_columns": null,
            "margin": null,
            "display": null,
            "left": null
          }
        },
        "17c994f55f2e4208a5bcbe495fa269c1": {
          "model_module": "@jupyter-widgets/base",
          "model_name": "LayoutModel",
          "model_module_version": "1.2.0",
          "state": {
            "_view_name": "LayoutView",
            "grid_template_rows": null,
            "right": null,
            "justify_content": null,
            "_view_module": "@jupyter-widgets/base",
            "overflow": null,
            "_model_module_version": "1.2.0",
            "_view_count": null,
            "flex_flow": null,
            "width": null,
            "min_width": null,
            "border": null,
            "align_items": null,
            "bottom": null,
            "_model_module": "@jupyter-widgets/base",
            "top": null,
            "grid_column": null,
            "overflow_y": null,
            "overflow_x": null,
            "grid_auto_flow": null,
            "grid_area": null,
            "grid_template_columns": null,
            "flex": null,
            "_model_name": "LayoutModel",
            "justify_items": null,
            "grid_row": null,
            "max_height": null,
            "align_content": null,
            "visibility": null,
            "align_self": null,
            "height": null,
            "min_height": null,
            "padding": null,
            "grid_auto_rows": null,
            "grid_gap": null,
            "max_width": null,
            "order": null,
            "_view_module_version": "1.2.0",
            "grid_template_areas": null,
            "object_position": null,
            "object_fit": null,
            "grid_auto_columns": null,
            "margin": null,
            "display": null,
            "left": null
          }
        },
        "c31959c6fea944dcb23dea28db9ec272": {
          "model_module": "@jupyter-widgets/controls",
          "model_name": "VBoxModel",
          "model_module_version": "1.5.0",
          "state": {
            "_view_name": "VBoxView",
            "_dom_classes": [
              "widget-interact"
            ],
            "_model_name": "VBoxModel",
            "_view_module": "@jupyter-widgets/controls",
            "_model_module_version": "1.5.0",
            "_view_count": null,
            "_view_module_version": "1.5.0",
            "box_style": "",
            "layout": "IPY_MODEL_05927a26477945f8bbd0826e64f0040d",
            "_model_module": "@jupyter-widgets/controls",
            "children": [
              "IPY_MODEL_1b90fce06e7a49bb9e63598be98a5d50",
              "IPY_MODEL_bac8499a63a54af4aecc907b40bb00e7",
              "IPY_MODEL_801fc996761641b5b8ea5ceae377c2b9",
              "IPY_MODEL_dd5e453e29c74832950aea8b28c0ca35"
            ]
          }
        },
        "05927a26477945f8bbd0826e64f0040d": {
          "model_module": "@jupyter-widgets/base",
          "model_name": "LayoutModel",
          "model_module_version": "1.2.0",
          "state": {
            "_view_name": "LayoutView",
            "grid_template_rows": null,
            "right": null,
            "justify_content": null,
            "_view_module": "@jupyter-widgets/base",
            "overflow": null,
            "_model_module_version": "1.2.0",
            "_view_count": null,
            "flex_flow": null,
            "width": null,
            "min_width": null,
            "border": null,
            "align_items": null,
            "bottom": null,
            "_model_module": "@jupyter-widgets/base",
            "top": null,
            "grid_column": null,
            "overflow_y": null,
            "overflow_x": null,
            "grid_auto_flow": null,
            "grid_area": null,
            "grid_template_columns": null,
            "flex": null,
            "_model_name": "LayoutModel",
            "justify_items": null,
            "grid_row": null,
            "max_height": null,
            "align_content": null,
            "visibility": null,
            "align_self": null,
            "height": null,
            "min_height": null,
            "padding": null,
            "grid_auto_rows": null,
            "grid_gap": null,
            "max_width": null,
            "order": null,
            "_view_module_version": "1.2.0",
            "grid_template_areas": null,
            "object_position": null,
            "object_fit": null,
            "grid_auto_columns": null,
            "margin": null,
            "display": null,
            "left": null
          }
        },
        "1b90fce06e7a49bb9e63598be98a5d50": {
          "model_module": "@jupyter-widgets/controls",
          "model_name": "IntSliderModel",
          "model_module_version": "1.5.0",
          "state": {
            "_view_name": "IntSliderView",
            "style": "IPY_MODEL_6ccf4016310e4cfe8a7255546e39bb9d",
            "_dom_classes": [],
            "description": "ore",
            "step": 1,
            "_model_name": "IntSliderModel",
            "orientation": "horizontal",
            "max": 72,
            "_view_module": "@jupyter-widgets/controls",
            "_model_module_version": "1.5.0",
            "value": 10,
            "_view_count": null,
            "disabled": false,
            "_view_module_version": "1.5.0",
            "min": 0,
            "continuous_update": true,
            "readout_format": "d",
            "description_tooltip": null,
            "readout": true,
            "_model_module": "@jupyter-widgets/controls",
            "layout": "IPY_MODEL_b5426fef08544f7bb70e4315330af089"
          }
        },
        "bac8499a63a54af4aecc907b40bb00e7": {
          "model_module": "@jupyter-widgets/controls",
          "model_name": "IntSliderModel",
          "model_module_version": "1.5.0",
          "state": {
            "_view_name": "IntSliderView",
            "style": "IPY_MODEL_7d017ebb47a94e25ad53be8087a4e94c",
            "_dom_classes": [],
            "description": "λ",
            "step": 1,
            "_model_name": "IntSliderModel",
            "orientation": "horizontal",
            "max": 10,
            "_view_module": "@jupyter-widgets/controls",
            "_model_module_version": "1.5.0",
            "value": 2,
            "_view_count": null,
            "disabled": false,
            "_view_module_version": "1.5.0",
            "min": 2,
            "continuous_update": true,
            "readout_format": "d",
            "description_tooltip": null,
            "readout": true,
            "_model_module": "@jupyter-widgets/controls",
            "layout": "IPY_MODEL_50bb7919442e4a19982e40e9c6fc17c3"
          }
        },
        "801fc996761641b5b8ea5ceae377c2b9": {
          "model_module": "@jupyter-widgets/controls",
          "model_name": "ButtonModel",
          "model_module_version": "1.5.0",
          "state": {
            "_view_name": "ButtonView",
            "style": "IPY_MODEL_a14cb43f6bd8477fbd23e21dc3da6f21",
            "_dom_classes": [],
            "description": "Run Interact",
            "_model_name": "ButtonModel",
            "button_style": "",
            "_view_module": "@jupyter-widgets/controls",
            "_model_module_version": "1.5.0",
            "tooltip": "",
            "_view_count": null,
            "disabled": false,
            "_view_module_version": "1.5.0",
            "layout": "IPY_MODEL_4affa58246364682917a0f92d032b39d",
            "_model_module": "@jupyter-widgets/controls",
            "icon": ""
          }
        },
        "dd5e453e29c74832950aea8b28c0ca35": {
          "model_module": "@jupyter-widgets/output",
          "model_name": "OutputModel",
          "model_module_version": "1.0.0",
          "state": {
            "_view_name": "OutputView",
            "msg_id": "",
            "_dom_classes": [],
            "_model_name": "OutputModel",
            "outputs": [
              {
                "output_type": "stream",
                "name": "stdout",
                "text": [
                  "Risultati ottenuti: 0.563\n",
                  "Risultati attesi: 0.565\n"
                ]
              }
            ],
            "_view_module": "@jupyter-widgets/output",
            "_model_module_version": "1.0.0",
            "_view_count": null,
            "_view_module_version": "1.0.0",
            "layout": "IPY_MODEL_11a2e5155dcd45318d33b48b24823e17",
            "_model_module": "@jupyter-widgets/output"
          }
        },
        "6ccf4016310e4cfe8a7255546e39bb9d": {
          "model_module": "@jupyter-widgets/controls",
          "model_name": "SliderStyleModel",
          "model_module_version": "1.5.0",
          "state": {
            "_view_name": "StyleView",
            "handle_color": null,
            "_model_name": "SliderStyleModel",
            "description_width": "",
            "_view_module": "@jupyter-widgets/base",
            "_model_module_version": "1.5.0",
            "_view_count": null,
            "_view_module_version": "1.2.0",
            "_model_module": "@jupyter-widgets/controls"
          }
        },
        "b5426fef08544f7bb70e4315330af089": {
          "model_module": "@jupyter-widgets/base",
          "model_name": "LayoutModel",
          "model_module_version": "1.2.0",
          "state": {
            "_view_name": "LayoutView",
            "grid_template_rows": null,
            "right": null,
            "justify_content": null,
            "_view_module": "@jupyter-widgets/base",
            "overflow": null,
            "_model_module_version": "1.2.0",
            "_view_count": null,
            "flex_flow": null,
            "width": null,
            "min_width": null,
            "border": null,
            "align_items": null,
            "bottom": null,
            "_model_module": "@jupyter-widgets/base",
            "top": null,
            "grid_column": null,
            "overflow_y": null,
            "overflow_x": null,
            "grid_auto_flow": null,
            "grid_area": null,
            "grid_template_columns": null,
            "flex": null,
            "_model_name": "LayoutModel",
            "justify_items": null,
            "grid_row": null,
            "max_height": null,
            "align_content": null,
            "visibility": null,
            "align_self": null,
            "height": null,
            "min_height": null,
            "padding": null,
            "grid_auto_rows": null,
            "grid_gap": null,
            "max_width": null,
            "order": null,
            "_view_module_version": "1.2.0",
            "grid_template_areas": null,
            "object_position": null,
            "object_fit": null,
            "grid_auto_columns": null,
            "margin": null,
            "display": null,
            "left": null
          }
        },
        "7d017ebb47a94e25ad53be8087a4e94c": {
          "model_module": "@jupyter-widgets/controls",
          "model_name": "SliderStyleModel",
          "model_module_version": "1.5.0",
          "state": {
            "_view_name": "StyleView",
            "handle_color": null,
            "_model_name": "SliderStyleModel",
            "description_width": "",
            "_view_module": "@jupyter-widgets/base",
            "_model_module_version": "1.5.0",
            "_view_count": null,
            "_view_module_version": "1.2.0",
            "_model_module": "@jupyter-widgets/controls"
          }
        },
        "50bb7919442e4a19982e40e9c6fc17c3": {
          "model_module": "@jupyter-widgets/base",
          "model_name": "LayoutModel",
          "model_module_version": "1.2.0",
          "state": {
            "_view_name": "LayoutView",
            "grid_template_rows": null,
            "right": null,
            "justify_content": null,
            "_view_module": "@jupyter-widgets/base",
            "overflow": null,
            "_model_module_version": "1.2.0",
            "_view_count": null,
            "flex_flow": null,
            "width": null,
            "min_width": null,
            "border": null,
            "align_items": null,
            "bottom": null,
            "_model_module": "@jupyter-widgets/base",
            "top": null,
            "grid_column": null,
            "overflow_y": null,
            "overflow_x": null,
            "grid_auto_flow": null,
            "grid_area": null,
            "grid_template_columns": null,
            "flex": null,
            "_model_name": "LayoutModel",
            "justify_items": null,
            "grid_row": null,
            "max_height": null,
            "align_content": null,
            "visibility": null,
            "align_self": null,
            "height": null,
            "min_height": null,
            "padding": null,
            "grid_auto_rows": null,
            "grid_gap": null,
            "max_width": null,
            "order": null,
            "_view_module_version": "1.2.0",
            "grid_template_areas": null,
            "object_position": null,
            "object_fit": null,
            "grid_auto_columns": null,
            "margin": null,
            "display": null,
            "left": null
          }
        },
        "a14cb43f6bd8477fbd23e21dc3da6f21": {
          "model_module": "@jupyter-widgets/controls",
          "model_name": "ButtonStyleModel",
          "model_module_version": "1.5.0",
          "state": {
            "_view_name": "StyleView",
            "_model_name": "ButtonStyleModel",
            "_view_module": "@jupyter-widgets/base",
            "_model_module_version": "1.5.0",
            "_view_count": null,
            "button_color": null,
            "font_weight": "",
            "_view_module_version": "1.2.0",
            "_model_module": "@jupyter-widgets/controls"
          }
        },
        "4affa58246364682917a0f92d032b39d": {
          "model_module": "@jupyter-widgets/base",
          "model_name": "LayoutModel",
          "model_module_version": "1.2.0",
          "state": {
            "_view_name": "LayoutView",
            "grid_template_rows": null,
            "right": null,
            "justify_content": null,
            "_view_module": "@jupyter-widgets/base",
            "overflow": null,
            "_model_module_version": "1.2.0",
            "_view_count": null,
            "flex_flow": null,
            "width": null,
            "min_width": null,
            "border": null,
            "align_items": null,
            "bottom": null,
            "_model_module": "@jupyter-widgets/base",
            "top": null,
            "grid_column": null,
            "overflow_y": null,
            "overflow_x": null,
            "grid_auto_flow": null,
            "grid_area": null,
            "grid_template_columns": null,
            "flex": null,
            "_model_name": "LayoutModel",
            "justify_items": null,
            "grid_row": null,
            "max_height": null,
            "align_content": null,
            "visibility": null,
            "align_self": null,
            "height": null,
            "min_height": null,
            "padding": null,
            "grid_auto_rows": null,
            "grid_gap": null,
            "max_width": null,
            "order": null,
            "_view_module_version": "1.2.0",
            "grid_template_areas": null,
            "object_position": null,
            "object_fit": null,
            "grid_auto_columns": null,
            "margin": null,
            "display": null,
            "left": null
          }
        },
        "11a2e5155dcd45318d33b48b24823e17": {
          "model_module": "@jupyter-widgets/base",
          "model_name": "LayoutModel",
          "model_module_version": "1.2.0",
          "state": {
            "_view_name": "LayoutView",
            "grid_template_rows": null,
            "right": null,
            "justify_content": null,
            "_view_module": "@jupyter-widgets/base",
            "overflow": null,
            "_model_module_version": "1.2.0",
            "_view_count": null,
            "flex_flow": null,
            "width": null,
            "min_width": null,
            "border": null,
            "align_items": null,
            "bottom": null,
            "_model_module": "@jupyter-widgets/base",
            "top": null,
            "grid_column": null,
            "overflow_y": null,
            "overflow_x": null,
            "grid_auto_flow": null,
            "grid_area": null,
            "grid_template_columns": null,
            "flex": null,
            "_model_name": "LayoutModel",
            "justify_items": null,
            "grid_row": null,
            "max_height": null,
            "align_content": null,
            "visibility": null,
            "align_self": null,
            "height": null,
            "min_height": null,
            "padding": null,
            "grid_auto_rows": null,
            "grid_gap": null,
            "max_width": null,
            "order": null,
            "_view_module_version": "1.2.0",
            "grid_template_areas": null,
            "object_position": null,
            "object_fit": null,
            "grid_auto_columns": null,
            "margin": null,
            "display": null,
            "left": null
          }
        },
        "3ffff95d73624c11a79d5b439e3f5db6": {
          "model_module": "@jupyter-widgets/controls",
          "model_name": "VBoxModel",
          "model_module_version": "1.5.0",
          "state": {
            "_view_name": "VBoxView",
            "_dom_classes": [
              "widget-interact"
            ],
            "_model_name": "VBoxModel",
            "_view_module": "@jupyter-widgets/controls",
            "_model_module_version": "1.5.0",
            "_view_count": null,
            "_view_module_version": "1.5.0",
            "box_style": "",
            "layout": "IPY_MODEL_fd5b3d87ba0942cba65532048ed3518b",
            "_model_module": "@jupyter-widgets/controls",
            "children": [
              "IPY_MODEL_8326ae10cda4486cb54ce56e1da34b0f",
              "IPY_MODEL_850b69156d5a4709b6d909414b8a8c34",
              "IPY_MODEL_b2ecf82ac92b4ef8ad062a243d02fb14",
              "IPY_MODEL_8d41688fd9b14b4989de0eb0b3d27690"
            ]
          }
        },
        "fd5b3d87ba0942cba65532048ed3518b": {
          "model_module": "@jupyter-widgets/base",
          "model_name": "LayoutModel",
          "model_module_version": "1.2.0",
          "state": {
            "_view_name": "LayoutView",
            "grid_template_rows": null,
            "right": null,
            "justify_content": null,
            "_view_module": "@jupyter-widgets/base",
            "overflow": null,
            "_model_module_version": "1.2.0",
            "_view_count": null,
            "flex_flow": null,
            "width": null,
            "min_width": null,
            "border": null,
            "align_items": null,
            "bottom": null,
            "_model_module": "@jupyter-widgets/base",
            "top": null,
            "grid_column": null,
            "overflow_y": null,
            "overflow_x": null,
            "grid_auto_flow": null,
            "grid_area": null,
            "grid_template_columns": null,
            "flex": null,
            "_model_name": "LayoutModel",
            "justify_items": null,
            "grid_row": null,
            "max_height": null,
            "align_content": null,
            "visibility": null,
            "align_self": null,
            "height": null,
            "min_height": null,
            "padding": null,
            "grid_auto_rows": null,
            "grid_gap": null,
            "max_width": null,
            "order": null,
            "_view_module_version": "1.2.0",
            "grid_template_areas": null,
            "object_position": null,
            "object_fit": null,
            "grid_auto_columns": null,
            "margin": null,
            "display": null,
            "left": null
          }
        },
        "8326ae10cda4486cb54ce56e1da34b0f": {
          "model_module": "@jupyter-widgets/controls",
          "model_name": "IntSliderModel",
          "model_module_version": "1.5.0",
          "state": {
            "_view_name": "IntSliderView",
            "style": "IPY_MODEL_3af10977d25049a5aa013a50f501e82c",
            "_dom_classes": [],
            "description": "t1",
            "step": 1,
            "_model_name": "IntSliderModel",
            "orientation": "horizontal",
            "max": 96,
            "_view_module": "@jupyter-widgets/controls",
            "_model_module_version": "1.5.0",
            "value": 3,
            "_view_count": null,
            "disabled": false,
            "_view_module_version": "1.5.0",
            "min": 0,
            "continuous_update": true,
            "readout_format": "d",
            "description_tooltip": null,
            "readout": true,
            "_model_module": "@jupyter-widgets/controls",
            "layout": "IPY_MODEL_284852516fa44299bc85641998ed0e38"
          }
        },
        "850b69156d5a4709b6d909414b8a8c34": {
          "model_module": "@jupyter-widgets/controls",
          "model_name": "IntSliderModel",
          "model_module_version": "1.5.0",
          "state": {
            "_view_name": "IntSliderView",
            "style": "IPY_MODEL_e1608e88f05b4ee1a8e5312d448e020c",
            "_dom_classes": [],
            "description": "t2",
            "step": 1,
            "_model_name": "IntSliderModel",
            "orientation": "horizontal",
            "max": 96,
            "_view_module": "@jupyter-widgets/controls",
            "_model_module_version": "1.5.0",
            "value": 10,
            "_view_count": null,
            "disabled": false,
            "_view_module_version": "1.5.0",
            "min": 0,
            "continuous_update": true,
            "readout_format": "d",
            "description_tooltip": null,
            "readout": true,
            "_model_module": "@jupyter-widgets/controls",
            "layout": "IPY_MODEL_ddaa1806a54346299354454288cb5189"
          }
        },
        "b2ecf82ac92b4ef8ad062a243d02fb14": {
          "model_module": "@jupyter-widgets/controls",
          "model_name": "ButtonModel",
          "model_module_version": "1.5.0",
          "state": {
            "_view_name": "ButtonView",
            "style": "IPY_MODEL_b48c391b4d3341318362df5b13ceebbc",
            "_dom_classes": [],
            "description": "Run Interact",
            "_model_name": "ButtonModel",
            "button_style": "",
            "_view_module": "@jupyter-widgets/controls",
            "_model_module_version": "1.5.0",
            "tooltip": "",
            "_view_count": null,
            "disabled": false,
            "_view_module_version": "1.5.0",
            "layout": "IPY_MODEL_48e2190377684e3aa7b5e6f9aae4fc81",
            "_model_module": "@jupyter-widgets/controls",
            "icon": ""
          }
        },
        "8d41688fd9b14b4989de0eb0b3d27690": {
          "model_module": "@jupyter-widgets/output",
          "model_name": "OutputModel",
          "model_module_version": "1.0.0",
          "state": {
            "_view_name": "OutputView",
            "msg_id": "",
            "_dom_classes": [],
            "_model_name": "OutputModel",
            "outputs": [],
            "_view_module": "@jupyter-widgets/output",
            "_model_module_version": "1.0.0",
            "_view_count": null,
            "_view_module_version": "1.0.0",
            "layout": "IPY_MODEL_09cd414fc1e045a88e8de887676f6642",
            "_model_module": "@jupyter-widgets/output"
          }
        },
        "3af10977d25049a5aa013a50f501e82c": {
          "model_module": "@jupyter-widgets/controls",
          "model_name": "SliderStyleModel",
          "model_module_version": "1.5.0",
          "state": {
            "_view_name": "StyleView",
            "handle_color": null,
            "_model_name": "SliderStyleModel",
            "description_width": "",
            "_view_module": "@jupyter-widgets/base",
            "_model_module_version": "1.5.0",
            "_view_count": null,
            "_view_module_version": "1.2.0",
            "_model_module": "@jupyter-widgets/controls"
          }
        },
        "284852516fa44299bc85641998ed0e38": {
          "model_module": "@jupyter-widgets/base",
          "model_name": "LayoutModel",
          "model_module_version": "1.2.0",
          "state": {
            "_view_name": "LayoutView",
            "grid_template_rows": null,
            "right": null,
            "justify_content": null,
            "_view_module": "@jupyter-widgets/base",
            "overflow": null,
            "_model_module_version": "1.2.0",
            "_view_count": null,
            "flex_flow": null,
            "width": null,
            "min_width": null,
            "border": null,
            "align_items": null,
            "bottom": null,
            "_model_module": "@jupyter-widgets/base",
            "top": null,
            "grid_column": null,
            "overflow_y": null,
            "overflow_x": null,
            "grid_auto_flow": null,
            "grid_area": null,
            "grid_template_columns": null,
            "flex": null,
            "_model_name": "LayoutModel",
            "justify_items": null,
            "grid_row": null,
            "max_height": null,
            "align_content": null,
            "visibility": null,
            "align_self": null,
            "height": null,
            "min_height": null,
            "padding": null,
            "grid_auto_rows": null,
            "grid_gap": null,
            "max_width": null,
            "order": null,
            "_view_module_version": "1.2.0",
            "grid_template_areas": null,
            "object_position": null,
            "object_fit": null,
            "grid_auto_columns": null,
            "margin": null,
            "display": null,
            "left": null
          }
        },
        "e1608e88f05b4ee1a8e5312d448e020c": {
          "model_module": "@jupyter-widgets/controls",
          "model_name": "SliderStyleModel",
          "model_module_version": "1.5.0",
          "state": {
            "_view_name": "StyleView",
            "handle_color": null,
            "_model_name": "SliderStyleModel",
            "description_width": "",
            "_view_module": "@jupyter-widgets/base",
            "_model_module_version": "1.5.0",
            "_view_count": null,
            "_view_module_version": "1.2.0",
            "_model_module": "@jupyter-widgets/controls"
          }
        },
        "ddaa1806a54346299354454288cb5189": {
          "model_module": "@jupyter-widgets/base",
          "model_name": "LayoutModel",
          "model_module_version": "1.2.0",
          "state": {
            "_view_name": "LayoutView",
            "grid_template_rows": null,
            "right": null,
            "justify_content": null,
            "_view_module": "@jupyter-widgets/base",
            "overflow": null,
            "_model_module_version": "1.2.0",
            "_view_count": null,
            "flex_flow": null,
            "width": null,
            "min_width": null,
            "border": null,
            "align_items": null,
            "bottom": null,
            "_model_module": "@jupyter-widgets/base",
            "top": null,
            "grid_column": null,
            "overflow_y": null,
            "overflow_x": null,
            "grid_auto_flow": null,
            "grid_area": null,
            "grid_template_columns": null,
            "flex": null,
            "_model_name": "LayoutModel",
            "justify_items": null,
            "grid_row": null,
            "max_height": null,
            "align_content": null,
            "visibility": null,
            "align_self": null,
            "height": null,
            "min_height": null,
            "padding": null,
            "grid_auto_rows": null,
            "grid_gap": null,
            "max_width": null,
            "order": null,
            "_view_module_version": "1.2.0",
            "grid_template_areas": null,
            "object_position": null,
            "object_fit": null,
            "grid_auto_columns": null,
            "margin": null,
            "display": null,
            "left": null
          }
        },
        "b48c391b4d3341318362df5b13ceebbc": {
          "model_module": "@jupyter-widgets/controls",
          "model_name": "ButtonStyleModel",
          "model_module_version": "1.5.0",
          "state": {
            "_view_name": "StyleView",
            "_model_name": "ButtonStyleModel",
            "_view_module": "@jupyter-widgets/base",
            "_model_module_version": "1.5.0",
            "_view_count": null,
            "button_color": null,
            "font_weight": "",
            "_view_module_version": "1.2.0",
            "_model_module": "@jupyter-widgets/controls"
          }
        },
        "48e2190377684e3aa7b5e6f9aae4fc81": {
          "model_module": "@jupyter-widgets/base",
          "model_name": "LayoutModel",
          "model_module_version": "1.2.0",
          "state": {
            "_view_name": "LayoutView",
            "grid_template_rows": null,
            "right": null,
            "justify_content": null,
            "_view_module": "@jupyter-widgets/base",
            "overflow": null,
            "_model_module_version": "1.2.0",
            "_view_count": null,
            "flex_flow": null,
            "width": null,
            "min_width": null,
            "border": null,
            "align_items": null,
            "bottom": null,
            "_model_module": "@jupyter-widgets/base",
            "top": null,
            "grid_column": null,
            "overflow_y": null,
            "overflow_x": null,
            "grid_auto_flow": null,
            "grid_area": null,
            "grid_template_columns": null,
            "flex": null,
            "_model_name": "LayoutModel",
            "justify_items": null,
            "grid_row": null,
            "max_height": null,
            "align_content": null,
            "visibility": null,
            "align_self": null,
            "height": null,
            "min_height": null,
            "padding": null,
            "grid_auto_rows": null,
            "grid_gap": null,
            "max_width": null,
            "order": null,
            "_view_module_version": "1.2.0",
            "grid_template_areas": null,
            "object_position": null,
            "object_fit": null,
            "grid_auto_columns": null,
            "margin": null,
            "display": null,
            "left": null
          }
        },
        "09cd414fc1e045a88e8de887676f6642": {
          "model_module": "@jupyter-widgets/base",
          "model_name": "LayoutModel",
          "model_module_version": "1.2.0",
          "state": {
            "_view_name": "LayoutView",
            "grid_template_rows": null,
            "right": null,
            "justify_content": null,
            "_view_module": "@jupyter-widgets/base",
            "overflow": null,
            "_model_module_version": "1.2.0",
            "_view_count": null,
            "flex_flow": null,
            "width": null,
            "min_width": null,
            "border": null,
            "align_items": null,
            "bottom": null,
            "_model_module": "@jupyter-widgets/base",
            "top": null,
            "grid_column": null,
            "overflow_y": null,
            "overflow_x": null,
            "grid_auto_flow": null,
            "grid_area": null,
            "grid_template_columns": null,
            "flex": null,
            "_model_name": "LayoutModel",
            "justify_items": null,
            "grid_row": null,
            "max_height": null,
            "align_content": null,
            "visibility": null,
            "align_self": null,
            "height": null,
            "min_height": null,
            "padding": null,
            "grid_auto_rows": null,
            "grid_gap": null,
            "max_width": null,
            "order": null,
            "_view_module_version": "1.2.0",
            "grid_template_areas": null,
            "object_position": null,
            "object_fit": null,
            "grid_auto_columns": null,
            "margin": null,
            "display": null,
            "left": null
          }
        },
        "de42c9fd9a89426595f843becbc57190": {
          "model_module": "@jupyter-widgets/controls",
          "model_name": "VBoxModel",
          "model_module_version": "1.5.0",
          "state": {
            "_view_name": "VBoxView",
            "_dom_classes": [
              "widget-interact"
            ],
            "_model_name": "VBoxModel",
            "_view_module": "@jupyter-widgets/controls",
            "_model_module_version": "1.5.0",
            "_view_count": null,
            "_view_module_version": "1.5.0",
            "box_style": "",
            "layout": "IPY_MODEL_53efdb32b663467f86c590a032df560a",
            "_model_module": "@jupyter-widgets/controls",
            "children": [
              "IPY_MODEL_36d09e444a1f470c831c82a47bad4e89",
              "IPY_MODEL_53dc0fed575a486a982e0a6335dad13d",
              "IPY_MODEL_1cd8a583c4dd483493aa6d809053295e"
            ]
          }
        },
        "53efdb32b663467f86c590a032df560a": {
          "model_module": "@jupyter-widgets/base",
          "model_name": "LayoutModel",
          "model_module_version": "1.2.0",
          "state": {
            "_view_name": "LayoutView",
            "grid_template_rows": null,
            "right": null,
            "justify_content": null,
            "_view_module": "@jupyter-widgets/base",
            "overflow": null,
            "_model_module_version": "1.2.0",
            "_view_count": null,
            "flex_flow": null,
            "width": null,
            "min_width": null,
            "border": null,
            "align_items": null,
            "bottom": null,
            "_model_module": "@jupyter-widgets/base",
            "top": null,
            "grid_column": null,
            "overflow_y": null,
            "overflow_x": null,
            "grid_auto_flow": null,
            "grid_area": null,
            "grid_template_columns": null,
            "flex": null,
            "_model_name": "LayoutModel",
            "justify_items": null,
            "grid_row": null,
            "max_height": null,
            "align_content": null,
            "visibility": null,
            "align_self": null,
            "height": null,
            "min_height": null,
            "padding": null,
            "grid_auto_rows": null,
            "grid_gap": null,
            "max_width": null,
            "order": null,
            "_view_module_version": "1.2.0",
            "grid_template_areas": null,
            "object_position": null,
            "object_fit": null,
            "grid_auto_columns": null,
            "margin": null,
            "display": null,
            "left": null
          }
        },
        "36d09e444a1f470c831c82a47bad4e89": {
          "model_module": "@jupyter-widgets/controls",
          "model_name": "IntSliderModel",
          "model_module_version": "1.5.0",
          "state": {
            "_view_name": "IntSliderView",
            "style": "IPY_MODEL_bfd1bb527b61447c99548927aa91a66f",
            "_dom_classes": [],
            "description": "mean",
            "step": 1,
            "_model_name": "IntSliderModel",
            "orientation": "horizontal",
            "max": 5,
            "_view_module": "@jupyter-widgets/controls",
            "_model_module_version": "1.5.0",
            "value": 0,
            "_view_count": null,
            "disabled": false,
            "_view_module_version": "1.5.0",
            "min": -5,
            "continuous_update": true,
            "readout_format": "d",
            "description_tooltip": null,
            "readout": true,
            "_model_module": "@jupyter-widgets/controls",
            "layout": "IPY_MODEL_b886d768db594c33b80abfb787f1e5fd"
          }
        },
        "53dc0fed575a486a982e0a6335dad13d": {
          "model_module": "@jupyter-widgets/controls",
          "model_name": "IntSliderModel",
          "model_module_version": "1.5.0",
          "state": {
            "_view_name": "IntSliderView",
            "style": "IPY_MODEL_14b0acd5405b40aa87737e8ffe9ac1db",
            "_dom_classes": [],
            "description": "std_dev",
            "step": 1,
            "_model_name": "IntSliderModel",
            "orientation": "horizontal",
            "max": 5,
            "_view_module": "@jupyter-widgets/controls",
            "_model_module_version": "1.5.0",
            "value": 1,
            "_view_count": null,
            "disabled": false,
            "_view_module_version": "1.5.0",
            "min": 1,
            "continuous_update": true,
            "readout_format": "d",
            "description_tooltip": null,
            "readout": true,
            "_model_module": "@jupyter-widgets/controls",
            "layout": "IPY_MODEL_45d605efab934f81b69c90094c3c9a8a"
          }
        },
        "1cd8a583c4dd483493aa6d809053295e": {
          "model_module": "@jupyter-widgets/output",
          "model_name": "OutputModel",
          "model_module_version": "1.0.0",
          "state": {
            "_view_name": "OutputView",
            "msg_id": "",
            "_dom_classes": [],
            "_model_name": "OutputModel",
            "outputs": [
              {
                "output_type": "display_data",
                "data": {
                  "image/png": "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\n",
                  "text/plain": "<Figure size 432x288 with 1 Axes>"
                },
                "metadata": {
                  "needs_background": "light"
                }
              }
            ],
            "_view_module": "@jupyter-widgets/output",
            "_model_module_version": "1.0.0",
            "_view_count": null,
            "_view_module_version": "1.0.0",
            "layout": "IPY_MODEL_6e5f054ee5c443eb904b1fc1771f42d4",
            "_model_module": "@jupyter-widgets/output"
          }
        },
        "bfd1bb527b61447c99548927aa91a66f": {
          "model_module": "@jupyter-widgets/controls",
          "model_name": "SliderStyleModel",
          "model_module_version": "1.5.0",
          "state": {
            "_view_name": "StyleView",
            "handle_color": null,
            "_model_name": "SliderStyleModel",
            "description_width": "",
            "_view_module": "@jupyter-widgets/base",
            "_model_module_version": "1.5.0",
            "_view_count": null,
            "_view_module_version": "1.2.0",
            "_model_module": "@jupyter-widgets/controls"
          }
        },
        "b886d768db594c33b80abfb787f1e5fd": {
          "model_module": "@jupyter-widgets/base",
          "model_name": "LayoutModel",
          "model_module_version": "1.2.0",
          "state": {
            "_view_name": "LayoutView",
            "grid_template_rows": null,
            "right": null,
            "justify_content": null,
            "_view_module": "@jupyter-widgets/base",
            "overflow": null,
            "_model_module_version": "1.2.0",
            "_view_count": null,
            "flex_flow": null,
            "width": null,
            "min_width": null,
            "border": null,
            "align_items": null,
            "bottom": null,
            "_model_module": "@jupyter-widgets/base",
            "top": null,
            "grid_column": null,
            "overflow_y": null,
            "overflow_x": null,
            "grid_auto_flow": null,
            "grid_area": null,
            "grid_template_columns": null,
            "flex": null,
            "_model_name": "LayoutModel",
            "justify_items": null,
            "grid_row": null,
            "max_height": null,
            "align_content": null,
            "visibility": null,
            "align_self": null,
            "height": null,
            "min_height": null,
            "padding": null,
            "grid_auto_rows": null,
            "grid_gap": null,
            "max_width": null,
            "order": null,
            "_view_module_version": "1.2.0",
            "grid_template_areas": null,
            "object_position": null,
            "object_fit": null,
            "grid_auto_columns": null,
            "margin": null,
            "display": null,
            "left": null
          }
        },
        "14b0acd5405b40aa87737e8ffe9ac1db": {
          "model_module": "@jupyter-widgets/controls",
          "model_name": "SliderStyleModel",
          "model_module_version": "1.5.0",
          "state": {
            "_view_name": "StyleView",
            "handle_color": null,
            "_model_name": "SliderStyleModel",
            "description_width": "",
            "_view_module": "@jupyter-widgets/base",
            "_model_module_version": "1.5.0",
            "_view_count": null,
            "_view_module_version": "1.2.0",
            "_model_module": "@jupyter-widgets/controls"
          }
        },
        "45d605efab934f81b69c90094c3c9a8a": {
          "model_module": "@jupyter-widgets/base",
          "model_name": "LayoutModel",
          "model_module_version": "1.2.0",
          "state": {
            "_view_name": "LayoutView",
            "grid_template_rows": null,
            "right": null,
            "justify_content": null,
            "_view_module": "@jupyter-widgets/base",
            "overflow": null,
            "_model_module_version": "1.2.0",
            "_view_count": null,
            "flex_flow": null,
            "width": null,
            "min_width": null,
            "border": null,
            "align_items": null,
            "bottom": null,
            "_model_module": "@jupyter-widgets/base",
            "top": null,
            "grid_column": null,
            "overflow_y": null,
            "overflow_x": null,
            "grid_auto_flow": null,
            "grid_area": null,
            "grid_template_columns": null,
            "flex": null,
            "_model_name": "LayoutModel",
            "justify_items": null,
            "grid_row": null,
            "max_height": null,
            "align_content": null,
            "visibility": null,
            "align_self": null,
            "height": null,
            "min_height": null,
            "padding": null,
            "grid_auto_rows": null,
            "grid_gap": null,
            "max_width": null,
            "order": null,
            "_view_module_version": "1.2.0",
            "grid_template_areas": null,
            "object_position": null,
            "object_fit": null,
            "grid_auto_columns": null,
            "margin": null,
            "display": null,
            "left": null
          }
        },
        "6e5f054ee5c443eb904b1fc1771f42d4": {
          "model_module": "@jupyter-widgets/base",
          "model_name": "LayoutModel",
          "model_module_version": "1.2.0",
          "state": {
            "_view_name": "LayoutView",
            "grid_template_rows": null,
            "right": null,
            "justify_content": null,
            "_view_module": "@jupyter-widgets/base",
            "overflow": null,
            "_model_module_version": "1.2.0",
            "_view_count": null,
            "flex_flow": null,
            "width": null,
            "min_width": null,
            "border": null,
            "align_items": null,
            "bottom": null,
            "_model_module": "@jupyter-widgets/base",
            "top": null,
            "grid_column": null,
            "overflow_y": null,
            "overflow_x": null,
            "grid_auto_flow": null,
            "grid_area": null,
            "grid_template_columns": null,
            "flex": null,
            "_model_name": "LayoutModel",
            "justify_items": null,
            "grid_row": null,
            "max_height": null,
            "align_content": null,
            "visibility": null,
            "align_self": null,
            "height": null,
            "min_height": null,
            "padding": null,
            "grid_auto_rows": null,
            "grid_gap": null,
            "max_width": null,
            "order": null,
            "_view_module_version": "1.2.0",
            "grid_template_areas": null,
            "object_position": null,
            "object_fit": null,
            "grid_auto_columns": null,
            "margin": null,
            "display": null,
            "left": null
          }
        },
        "f7425df6e1ec423fb951f3bad9e804b1": {
          "model_module": "@jupyter-widgets/controls",
          "model_name": "VBoxModel",
          "model_module_version": "1.5.0",
          "state": {
            "_view_name": "VBoxView",
            "_dom_classes": [
              "widget-interact"
            ],
            "_model_name": "VBoxModel",
            "_view_module": "@jupyter-widgets/controls",
            "_model_module_version": "1.5.0",
            "_view_count": null,
            "_view_module_version": "1.5.0",
            "box_style": "",
            "layout": "IPY_MODEL_5080ec3003724c6491eafc867f6b3236",
            "_model_module": "@jupyter-widgets/controls",
            "children": [
              "IPY_MODEL_a1024aae30744ec78dbee7e513978836",
              "IPY_MODEL_648b089f248e4793ae2480a584dfa3d1",
              "IPY_MODEL_debd9677beb94864b7b0f84c13b0d3e9"
            ]
          }
        },
        "5080ec3003724c6491eafc867f6b3236": {
          "model_module": "@jupyter-widgets/base",
          "model_name": "LayoutModel",
          "model_module_version": "1.2.0",
          "state": {
            "_view_name": "LayoutView",
            "grid_template_rows": null,
            "right": null,
            "justify_content": null,
            "_view_module": "@jupyter-widgets/base",
            "overflow": null,
            "_model_module_version": "1.2.0",
            "_view_count": null,
            "flex_flow": null,
            "width": null,
            "min_width": null,
            "border": null,
            "align_items": null,
            "bottom": null,
            "_model_module": "@jupyter-widgets/base",
            "top": null,
            "grid_column": null,
            "overflow_y": null,
            "overflow_x": null,
            "grid_auto_flow": null,
            "grid_area": null,
            "grid_template_columns": null,
            "flex": null,
            "_model_name": "LayoutModel",
            "justify_items": null,
            "grid_row": null,
            "max_height": null,
            "align_content": null,
            "visibility": null,
            "align_self": null,
            "height": null,
            "min_height": null,
            "padding": null,
            "grid_auto_rows": null,
            "grid_gap": null,
            "max_width": null,
            "order": null,
            "_view_module_version": "1.2.0",
            "grid_template_areas": null,
            "object_position": null,
            "object_fit": null,
            "grid_auto_columns": null,
            "margin": null,
            "display": null,
            "left": null
          }
        },
        "a1024aae30744ec78dbee7e513978836": {
          "model_module": "@jupyter-widgets/controls",
          "model_name": "IntSliderModel",
          "model_module_version": "1.5.0",
          "state": {
            "_view_name": "IntSliderView",
            "style": "IPY_MODEL_ea3868eec74d4d7390748dc565e63b54",
            "_dom_classes": [],
            "description": "mean",
            "step": 1,
            "_model_name": "IntSliderModel",
            "orientation": "horizontal",
            "max": 5,
            "_view_module": "@jupyter-widgets/controls",
            "_model_module_version": "1.5.0",
            "value": 0,
            "_view_count": null,
            "disabled": false,
            "_view_module_version": "1.5.0",
            "min": -5,
            "continuous_update": true,
            "readout_format": "d",
            "description_tooltip": null,
            "readout": true,
            "_model_module": "@jupyter-widgets/controls",
            "layout": "IPY_MODEL_fab97a62a82345a08ee8057038d970f3"
          }
        },
        "648b089f248e4793ae2480a584dfa3d1": {
          "model_module": "@jupyter-widgets/controls",
          "model_name": "IntSliderModel",
          "model_module_version": "1.5.0",
          "state": {
            "_view_name": "IntSliderView",
            "style": "IPY_MODEL_83b19faab52d4096be40fb4a021c4bde",
            "_dom_classes": [],
            "description": "std_dev",
            "step": 1,
            "_model_name": "IntSliderModel",
            "orientation": "horizontal",
            "max": 5,
            "_view_module": "@jupyter-widgets/controls",
            "_model_module_version": "1.5.0",
            "value": 1,
            "_view_count": null,
            "disabled": false,
            "_view_module_version": "1.5.0",
            "min": 1,
            "continuous_update": true,
            "readout_format": "d",
            "description_tooltip": null,
            "readout": true,
            "_model_module": "@jupyter-widgets/controls",
            "layout": "IPY_MODEL_4ddc7e931634440e88fa1cef6fe42d61"
          }
        },
        "debd9677beb94864b7b0f84c13b0d3e9": {
          "model_module": "@jupyter-widgets/output",
          "model_name": "OutputModel",
          "model_module_version": "1.0.0",
          "state": {
            "_view_name": "OutputView",
            "msg_id": "",
            "_dom_classes": [],
            "_model_name": "OutputModel",
            "outputs": [
              {
                "output_type": "display_data",
                "data": {
                  "image/png": "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\n",
                  "text/plain": "<Figure size 432x288 with 1 Axes>"
                },
                "metadata": {
                  "needs_background": "light"
                }
              }
            ],
            "_view_module": "@jupyter-widgets/output",
            "_model_module_version": "1.0.0",
            "_view_count": null,
            "_view_module_version": "1.0.0",
            "layout": "IPY_MODEL_68ffd91c4e1641f29d84c385109e8590",
            "_model_module": "@jupyter-widgets/output"
          }
        },
        "ea3868eec74d4d7390748dc565e63b54": {
          "model_module": "@jupyter-widgets/controls",
          "model_name": "SliderStyleModel",
          "model_module_version": "1.5.0",
          "state": {
            "_view_name": "StyleView",
            "handle_color": null,
            "_model_name": "SliderStyleModel",
            "description_width": "",
            "_view_module": "@jupyter-widgets/base",
            "_model_module_version": "1.5.0",
            "_view_count": null,
            "_view_module_version": "1.2.0",
            "_model_module": "@jupyter-widgets/controls"
          }
        },
        "fab97a62a82345a08ee8057038d970f3": {
          "model_module": "@jupyter-widgets/base",
          "model_name": "LayoutModel",
          "model_module_version": "1.2.0",
          "state": {
            "_view_name": "LayoutView",
            "grid_template_rows": null,
            "right": null,
            "justify_content": null,
            "_view_module": "@jupyter-widgets/base",
            "overflow": null,
            "_model_module_version": "1.2.0",
            "_view_count": null,
            "flex_flow": null,
            "width": null,
            "min_width": null,
            "border": null,
            "align_items": null,
            "bottom": null,
            "_model_module": "@jupyter-widgets/base",
            "top": null,
            "grid_column": null,
            "overflow_y": null,
            "overflow_x": null,
            "grid_auto_flow": null,
            "grid_area": null,
            "grid_template_columns": null,
            "flex": null,
            "_model_name": "LayoutModel",
            "justify_items": null,
            "grid_row": null,
            "max_height": null,
            "align_content": null,
            "visibility": null,
            "align_self": null,
            "height": null,
            "min_height": null,
            "padding": null,
            "grid_auto_rows": null,
            "grid_gap": null,
            "max_width": null,
            "order": null,
            "_view_module_version": "1.2.0",
            "grid_template_areas": null,
            "object_position": null,
            "object_fit": null,
            "grid_auto_columns": null,
            "margin": null,
            "display": null,
            "left": null
          }
        },
        "83b19faab52d4096be40fb4a021c4bde": {
          "model_module": "@jupyter-widgets/controls",
          "model_name": "SliderStyleModel",
          "model_module_version": "1.5.0",
          "state": {
            "_view_name": "StyleView",
            "handle_color": null,
            "_model_name": "SliderStyleModel",
            "description_width": "",
            "_view_module": "@jupyter-widgets/base",
            "_model_module_version": "1.5.0",
            "_view_count": null,
            "_view_module_version": "1.2.0",
            "_model_module": "@jupyter-widgets/controls"
          }
        },
        "4ddc7e931634440e88fa1cef6fe42d61": {
          "model_module": "@jupyter-widgets/base",
          "model_name": "LayoutModel",
          "model_module_version": "1.2.0",
          "state": {
            "_view_name": "LayoutView",
            "grid_template_rows": null,
            "right": null,
            "justify_content": null,
            "_view_module": "@jupyter-widgets/base",
            "overflow": null,
            "_model_module_version": "1.2.0",
            "_view_count": null,
            "flex_flow": null,
            "width": null,
            "min_width": null,
            "border": null,
            "align_items": null,
            "bottom": null,
            "_model_module": "@jupyter-widgets/base",
            "top": null,
            "grid_column": null,
            "overflow_y": null,
            "overflow_x": null,
            "grid_auto_flow": null,
            "grid_area": null,
            "grid_template_columns": null,
            "flex": null,
            "_model_name": "LayoutModel",
            "justify_items": null,
            "grid_row": null,
            "max_height": null,
            "align_content": null,
            "visibility": null,
            "align_self": null,
            "height": null,
            "min_height": null,
            "padding": null,
            "grid_auto_rows": null,
            "grid_gap": null,
            "max_width": null,
            "order": null,
            "_view_module_version": "1.2.0",
            "grid_template_areas": null,
            "object_position": null,
            "object_fit": null,
            "grid_auto_columns": null,
            "margin": null,
            "display": null,
            "left": null
          }
        },
        "68ffd91c4e1641f29d84c385109e8590": {
          "model_module": "@jupyter-widgets/base",
          "model_name": "LayoutModel",
          "model_module_version": "1.2.0",
          "state": {
            "_view_name": "LayoutView",
            "grid_template_rows": null,
            "right": null,
            "justify_content": null,
            "_view_module": "@jupyter-widgets/base",
            "overflow": null,
            "_model_module_version": "1.2.0",
            "_view_count": null,
            "flex_flow": null,
            "width": null,
            "min_width": null,
            "border": null,
            "align_items": null,
            "bottom": null,
            "_model_module": "@jupyter-widgets/base",
            "top": null,
            "grid_column": null,
            "overflow_y": null,
            "overflow_x": null,
            "grid_auto_flow": null,
            "grid_area": null,
            "grid_template_columns": null,
            "flex": null,
            "_model_name": "LayoutModel",
            "justify_items": null,
            "grid_row": null,
            "max_height": null,
            "align_content": null,
            "visibility": null,
            "align_self": null,
            "height": null,
            "min_height": null,
            "padding": null,
            "grid_auto_rows": null,
            "grid_gap": null,
            "max_width": null,
            "order": null,
            "_view_module_version": "1.2.0",
            "grid_template_areas": null,
            "object_position": null,
            "object_fit": null,
            "grid_auto_columns": null,
            "margin": null,
            "display": null,
            "left": null
          }
        },
        "a5f4c802ca90479a86f101c66a80c4cf": {
          "model_module": "@jupyter-widgets/controls",
          "model_name": "VBoxModel",
          "model_module_version": "1.5.0",
          "state": {
            "_view_name": "VBoxView",
            "_dom_classes": [
              "widget-interact"
            ],
            "_model_name": "VBoxModel",
            "_view_module": "@jupyter-widgets/controls",
            "_model_module_version": "1.5.0",
            "_view_count": null,
            "_view_module_version": "1.5.0",
            "box_style": "",
            "layout": "IPY_MODEL_d4fd347bd42b4a7c8af387e42c7b2127",
            "_model_module": "@jupyter-widgets/controls",
            "children": [
              "IPY_MODEL_f427c4fd15914488a1138f1ffce44854",
              "IPY_MODEL_e706db2c05c44a5bb18dd418a9491635",
              "IPY_MODEL_f6f01bab7890421a956d0697dc1a19f4"
            ]
          }
        },
        "d4fd347bd42b4a7c8af387e42c7b2127": {
          "model_module": "@jupyter-widgets/base",
          "model_name": "LayoutModel",
          "model_module_version": "1.2.0",
          "state": {
            "_view_name": "LayoutView",
            "grid_template_rows": null,
            "right": null,
            "justify_content": null,
            "_view_module": "@jupyter-widgets/base",
            "overflow": null,
            "_model_module_version": "1.2.0",
            "_view_count": null,
            "flex_flow": null,
            "width": null,
            "min_width": null,
            "border": null,
            "align_items": null,
            "bottom": null,
            "_model_module": "@jupyter-widgets/base",
            "top": null,
            "grid_column": null,
            "overflow_y": null,
            "overflow_x": null,
            "grid_auto_flow": null,
            "grid_area": null,
            "grid_template_columns": null,
            "flex": null,
            "_model_name": "LayoutModel",
            "justify_items": null,
            "grid_row": null,
            "max_height": null,
            "align_content": null,
            "visibility": null,
            "align_self": null,
            "height": null,
            "min_height": null,
            "padding": null,
            "grid_auto_rows": null,
            "grid_gap": null,
            "max_width": null,
            "order": null,
            "_view_module_version": "1.2.0",
            "grid_template_areas": null,
            "object_position": null,
            "object_fit": null,
            "grid_auto_columns": null,
            "margin": null,
            "display": null,
            "left": null
          }
        },
        "f427c4fd15914488a1138f1ffce44854": {
          "model_module": "@jupyter-widgets/controls",
          "model_name": "FloatSliderModel",
          "model_module_version": "1.5.0",
          "state": {
            "_view_name": "FloatSliderView",
            "style": "IPY_MODEL_dc9a9947563e48228e96dd386371db72",
            "_dom_classes": [],
            "description": "valore",
            "step": 0.1,
            "_model_name": "FloatSliderModel",
            "orientation": "horizontal",
            "max": 4,
            "_view_module": "@jupyter-widgets/controls",
            "_model_module_version": "1.5.0",
            "value": 1,
            "_view_count": null,
            "disabled": false,
            "_view_module_version": "1.5.0",
            "min": -4,
            "continuous_update": true,
            "readout_format": ".2f",
            "description_tooltip": null,
            "readout": true,
            "_model_module": "@jupyter-widgets/controls",
            "layout": "IPY_MODEL_5e5f3c466d754954946d06f5cebc2139"
          }
        },
        "e706db2c05c44a5bb18dd418a9491635": {
          "model_module": "@jupyter-widgets/controls",
          "model_name": "ButtonModel",
          "model_module_version": "1.5.0",
          "state": {
            "_view_name": "ButtonView",
            "style": "IPY_MODEL_54f1034a2eb046a1afaf467733e4336b",
            "_dom_classes": [],
            "description": "Run Interact",
            "_model_name": "ButtonModel",
            "button_style": "",
            "_view_module": "@jupyter-widgets/controls",
            "_model_module_version": "1.5.0",
            "tooltip": "",
            "_view_count": null,
            "disabled": false,
            "_view_module_version": "1.5.0",
            "layout": "IPY_MODEL_10bd739b8e424c36b7e437094b6811b9",
            "_model_module": "@jupyter-widgets/controls",
            "icon": ""
          }
        },
        "f6f01bab7890421a956d0697dc1a19f4": {
          "model_module": "@jupyter-widgets/output",
          "model_name": "OutputModel",
          "model_module_version": "1.0.0",
          "state": {
            "_view_name": "OutputView",
            "msg_id": "",
            "_dom_classes": [],
            "_model_name": "OutputModel",
            "outputs": [],
            "_view_module": "@jupyter-widgets/output",
            "_model_module_version": "1.0.0",
            "_view_count": null,
            "_view_module_version": "1.0.0",
            "layout": "IPY_MODEL_baeac29ebe74488e96c697280fe7da87",
            "_model_module": "@jupyter-widgets/output"
          }
        },
        "dc9a9947563e48228e96dd386371db72": {
          "model_module": "@jupyter-widgets/controls",
          "model_name": "SliderStyleModel",
          "model_module_version": "1.5.0",
          "state": {
            "_view_name": "StyleView",
            "handle_color": null,
            "_model_name": "SliderStyleModel",
            "description_width": "",
            "_view_module": "@jupyter-widgets/base",
            "_model_module_version": "1.5.0",
            "_view_count": null,
            "_view_module_version": "1.2.0",
            "_model_module": "@jupyter-widgets/controls"
          }
        },
        "5e5f3c466d754954946d06f5cebc2139": {
          "model_module": "@jupyter-widgets/base",
          "model_name": "LayoutModel",
          "model_module_version": "1.2.0",
          "state": {
            "_view_name": "LayoutView",
            "grid_template_rows": null,
            "right": null,
            "justify_content": null,
            "_view_module": "@jupyter-widgets/base",
            "overflow": null,
            "_model_module_version": "1.2.0",
            "_view_count": null,
            "flex_flow": null,
            "width": null,
            "min_width": null,
            "border": null,
            "align_items": null,
            "bottom": null,
            "_model_module": "@jupyter-widgets/base",
            "top": null,
            "grid_column": null,
            "overflow_y": null,
            "overflow_x": null,
            "grid_auto_flow": null,
            "grid_area": null,
            "grid_template_columns": null,
            "flex": null,
            "_model_name": "LayoutModel",
            "justify_items": null,
            "grid_row": null,
            "max_height": null,
            "align_content": null,
            "visibility": null,
            "align_self": null,
            "height": null,
            "min_height": null,
            "padding": null,
            "grid_auto_rows": null,
            "grid_gap": null,
            "max_width": null,
            "order": null,
            "_view_module_version": "1.2.0",
            "grid_template_areas": null,
            "object_position": null,
            "object_fit": null,
            "grid_auto_columns": null,
            "margin": null,
            "display": null,
            "left": null
          }
        },
        "54f1034a2eb046a1afaf467733e4336b": {
          "model_module": "@jupyter-widgets/controls",
          "model_name": "ButtonStyleModel",
          "model_module_version": "1.5.0",
          "state": {
            "_view_name": "StyleView",
            "_model_name": "ButtonStyleModel",
            "_view_module": "@jupyter-widgets/base",
            "_model_module_version": "1.5.0",
            "_view_count": null,
            "button_color": null,
            "font_weight": "",
            "_view_module_version": "1.2.0",
            "_model_module": "@jupyter-widgets/controls"
          }
        },
        "10bd739b8e424c36b7e437094b6811b9": {
          "model_module": "@jupyter-widgets/base",
          "model_name": "LayoutModel",
          "model_module_version": "1.2.0",
          "state": {
            "_view_name": "LayoutView",
            "grid_template_rows": null,
            "right": null,
            "justify_content": null,
            "_view_module": "@jupyter-widgets/base",
            "overflow": null,
            "_model_module_version": "1.2.0",
            "_view_count": null,
            "flex_flow": null,
            "width": null,
            "min_width": null,
            "border": null,
            "align_items": null,
            "bottom": null,
            "_model_module": "@jupyter-widgets/base",
            "top": null,
            "grid_column": null,
            "overflow_y": null,
            "overflow_x": null,
            "grid_auto_flow": null,
            "grid_area": null,
            "grid_template_columns": null,
            "flex": null,
            "_model_name": "LayoutModel",
            "justify_items": null,
            "grid_row": null,
            "max_height": null,
            "align_content": null,
            "visibility": null,
            "align_self": null,
            "height": null,
            "min_height": null,
            "padding": null,
            "grid_auto_rows": null,
            "grid_gap": null,
            "max_width": null,
            "order": null,
            "_view_module_version": "1.2.0",
            "grid_template_areas": null,
            "object_position": null,
            "object_fit": null,
            "grid_auto_columns": null,
            "margin": null,
            "display": null,
            "left": null
          }
        },
        "baeac29ebe74488e96c697280fe7da87": {
          "model_module": "@jupyter-widgets/base",
          "model_name": "LayoutModel",
          "model_module_version": "1.2.0",
          "state": {
            "_view_name": "LayoutView",
            "grid_template_rows": null,
            "right": null,
            "justify_content": null,
            "_view_module": "@jupyter-widgets/base",
            "overflow": null,
            "_model_module_version": "1.2.0",
            "_view_count": null,
            "flex_flow": null,
            "width": null,
            "min_width": null,
            "border": null,
            "align_items": null,
            "bottom": null,
            "_model_module": "@jupyter-widgets/base",
            "top": null,
            "grid_column": null,
            "overflow_y": null,
            "overflow_x": null,
            "grid_auto_flow": null,
            "grid_area": null,
            "grid_template_columns": null,
            "flex": null,
            "_model_name": "LayoutModel",
            "justify_items": null,
            "grid_row": null,
            "max_height": null,
            "align_content": null,
            "visibility": null,
            "align_self": null,
            "height": null,
            "min_height": null,
            "padding": null,
            "grid_auto_rows": null,
            "grid_gap": null,
            "max_width": null,
            "order": null,
            "_view_module_version": "1.2.0",
            "grid_template_areas": null,
            "object_position": null,
            "object_fit": null,
            "grid_auto_columns": null,
            "margin": null,
            "display": null,
            "left": null
          }
        },
        "40653a32d1b845a8a1451332a706356c": {
          "model_module": "@jupyter-widgets/controls",
          "model_name": "VBoxModel",
          "model_module_version": "1.5.0",
          "state": {
            "_view_name": "VBoxView",
            "_dom_classes": [
              "widget-interact"
            ],
            "_model_name": "VBoxModel",
            "_view_module": "@jupyter-widgets/controls",
            "_model_module_version": "1.5.0",
            "_view_count": null,
            "_view_module_version": "1.5.0",
            "box_style": "",
            "layout": "IPY_MODEL_f6aadf5fcad14aa6ae64778714e52e0b",
            "_model_module": "@jupyter-widgets/controls",
            "children": [
              "IPY_MODEL_e6e52a5e1fa34402b1863ce4ed3b13f9",
              "IPY_MODEL_7426865f61f14b1497b9efdd20748630",
              "IPY_MODEL_3b791c2bce334fe5976a8076b97dfdee"
            ]
          }
        },
        "f6aadf5fcad14aa6ae64778714e52e0b": {
          "model_module": "@jupyter-widgets/base",
          "model_name": "LayoutModel",
          "model_module_version": "1.2.0",
          "state": {
            "_view_name": "LayoutView",
            "grid_template_rows": null,
            "right": null,
            "justify_content": null,
            "_view_module": "@jupyter-widgets/base",
            "overflow": null,
            "_model_module_version": "1.2.0",
            "_view_count": null,
            "flex_flow": null,
            "width": null,
            "min_width": null,
            "border": null,
            "align_items": null,
            "bottom": null,
            "_model_module": "@jupyter-widgets/base",
            "top": null,
            "grid_column": null,
            "overflow_y": null,
            "overflow_x": null,
            "grid_auto_flow": null,
            "grid_area": null,
            "grid_template_columns": null,
            "flex": null,
            "_model_name": "LayoutModel",
            "justify_items": null,
            "grid_row": null,
            "max_height": null,
            "align_content": null,
            "visibility": null,
            "align_self": null,
            "height": null,
            "min_height": null,
            "padding": null,
            "grid_auto_rows": null,
            "grid_gap": null,
            "max_width": null,
            "order": null,
            "_view_module_version": "1.2.0",
            "grid_template_areas": null,
            "object_position": null,
            "object_fit": null,
            "grid_auto_columns": null,
            "margin": null,
            "display": null,
            "left": null
          }
        },
        "e6e52a5e1fa34402b1863ce4ed3b13f9": {
          "model_module": "@jupyter-widgets/controls",
          "model_name": "DropdownModel",
          "model_module_version": "1.5.0",
          "state": {
            "_options_labels": [
              "S",
              "M",
              "L",
              "XL"
            ],
            "_view_name": "DropdownView",
            "style": "IPY_MODEL_6d2eb5e1030b487ba616798e85e55592",
            "_dom_classes": [],
            "description": "taglia",
            "_model_name": "DropdownModel",
            "index": 2,
            "_view_module": "@jupyter-widgets/controls",
            "_model_module_version": "1.5.0",
            "_view_count": null,
            "disabled": false,
            "_view_module_version": "1.5.0",
            "description_tooltip": null,
            "_model_module": "@jupyter-widgets/controls",
            "layout": "IPY_MODEL_616135bbdd52489fa3d266a12ee857e0"
          }
        },
        "7426865f61f14b1497b9efdd20748630": {
          "model_module": "@jupyter-widgets/controls",
          "model_name": "ButtonModel",
          "model_module_version": "1.5.0",
          "state": {
            "_view_name": "ButtonView",
            "style": "IPY_MODEL_c86775da6e8e4e7da650e110096339ed",
            "_dom_classes": [],
            "description": "Run Interact",
            "_model_name": "ButtonModel",
            "button_style": "",
            "_view_module": "@jupyter-widgets/controls",
            "_model_module_version": "1.5.0",
            "tooltip": "",
            "_view_count": null,
            "disabled": false,
            "_view_module_version": "1.5.0",
            "layout": "IPY_MODEL_fd060e1b5b624193a2f3d0a220b232be",
            "_model_module": "@jupyter-widgets/controls",
            "icon": ""
          }
        },
        "3b791c2bce334fe5976a8076b97dfdee": {
          "model_module": "@jupyter-widgets/output",
          "model_name": "OutputModel",
          "model_module_version": "1.0.0",
          "state": {
            "_view_name": "OutputView",
            "msg_id": "",
            "_dom_classes": [],
            "_model_name": "OutputModel",
            "outputs": [],
            "_view_module": "@jupyter-widgets/output",
            "_model_module_version": "1.0.0",
            "_view_count": null,
            "_view_module_version": "1.0.0",
            "layout": "IPY_MODEL_53dd60d8bbd8464683d5b91963364633",
            "_model_module": "@jupyter-widgets/output"
          }
        },
        "6d2eb5e1030b487ba616798e85e55592": {
          "model_module": "@jupyter-widgets/controls",
          "model_name": "DescriptionStyleModel",
          "model_module_version": "1.5.0",
          "state": {
            "_view_name": "StyleView",
            "_model_name": "DescriptionStyleModel",
            "description_width": "",
            "_view_module": "@jupyter-widgets/base",
            "_model_module_version": "1.5.0",
            "_view_count": null,
            "_view_module_version": "1.2.0",
            "_model_module": "@jupyter-widgets/controls"
          }
        },
        "616135bbdd52489fa3d266a12ee857e0": {
          "model_module": "@jupyter-widgets/base",
          "model_name": "LayoutModel",
          "model_module_version": "1.2.0",
          "state": {
            "_view_name": "LayoutView",
            "grid_template_rows": null,
            "right": null,
            "justify_content": null,
            "_view_module": "@jupyter-widgets/base",
            "overflow": null,
            "_model_module_version": "1.2.0",
            "_view_count": null,
            "flex_flow": null,
            "width": null,
            "min_width": null,
            "border": null,
            "align_items": null,
            "bottom": null,
            "_model_module": "@jupyter-widgets/base",
            "top": null,
            "grid_column": null,
            "overflow_y": null,
            "overflow_x": null,
            "grid_auto_flow": null,
            "grid_area": null,
            "grid_template_columns": null,
            "flex": null,
            "_model_name": "LayoutModel",
            "justify_items": null,
            "grid_row": null,
            "max_height": null,
            "align_content": null,
            "visibility": null,
            "align_self": null,
            "height": null,
            "min_height": null,
            "padding": null,
            "grid_auto_rows": null,
            "grid_gap": null,
            "max_width": null,
            "order": null,
            "_view_module_version": "1.2.0",
            "grid_template_areas": null,
            "object_position": null,
            "object_fit": null,
            "grid_auto_columns": null,
            "margin": null,
            "display": null,
            "left": null
          }
        },
        "c86775da6e8e4e7da650e110096339ed": {
          "model_module": "@jupyter-widgets/controls",
          "model_name": "ButtonStyleModel",
          "model_module_version": "1.5.0",
          "state": {
            "_view_name": "StyleView",
            "_model_name": "ButtonStyleModel",
            "_view_module": "@jupyter-widgets/base",
            "_model_module_version": "1.5.0",
            "_view_count": null,
            "button_color": null,
            "font_weight": "",
            "_view_module_version": "1.2.0",
            "_model_module": "@jupyter-widgets/controls"
          }
        },
        "fd060e1b5b624193a2f3d0a220b232be": {
          "model_module": "@jupyter-widgets/base",
          "model_name": "LayoutModel",
          "model_module_version": "1.2.0",
          "state": {
            "_view_name": "LayoutView",
            "grid_template_rows": null,
            "right": null,
            "justify_content": null,
            "_view_module": "@jupyter-widgets/base",
            "overflow": null,
            "_model_module_version": "1.2.0",
            "_view_count": null,
            "flex_flow": null,
            "width": null,
            "min_width": null,
            "border": null,
            "align_items": null,
            "bottom": null,
            "_model_module": "@jupyter-widgets/base",
            "top": null,
            "grid_column": null,
            "overflow_y": null,
            "overflow_x": null,
            "grid_auto_flow": null,
            "grid_area": null,
            "grid_template_columns": null,
            "flex": null,
            "_model_name": "LayoutModel",
            "justify_items": null,
            "grid_row": null,
            "max_height": null,
            "align_content": null,
            "visibility": null,
            "align_self": null,
            "height": null,
            "min_height": null,
            "padding": null,
            "grid_auto_rows": null,
            "grid_gap": null,
            "max_width": null,
            "order": null,
            "_view_module_version": "1.2.0",
            "grid_template_areas": null,
            "object_position": null,
            "object_fit": null,
            "grid_auto_columns": null,
            "margin": null,
            "display": null,
            "left": null
          }
        },
        "53dd60d8bbd8464683d5b91963364633": {
          "model_module": "@jupyter-widgets/base",
          "model_name": "LayoutModel",
          "model_module_version": "1.2.0",
          "state": {
            "_view_name": "LayoutView",
            "grid_template_rows": null,
            "right": null,
            "justify_content": null,
            "_view_module": "@jupyter-widgets/base",
            "overflow": null,
            "_model_module_version": "1.2.0",
            "_view_count": null,
            "flex_flow": null,
            "width": null,
            "min_width": null,
            "border": null,
            "align_items": null,
            "bottom": null,
            "_model_module": "@jupyter-widgets/base",
            "top": null,
            "grid_column": null,
            "overflow_y": null,
            "overflow_x": null,
            "grid_auto_flow": null,
            "grid_area": null,
            "grid_template_columns": null,
            "flex": null,
            "_model_name": "LayoutModel",
            "justify_items": null,
            "grid_row": null,
            "max_height": null,
            "align_content": null,
            "visibility": null,
            "align_self": null,
            "height": null,
            "min_height": null,
            "padding": null,
            "grid_auto_rows": null,
            "grid_gap": null,
            "max_width": null,
            "order": null,
            "_view_module_version": "1.2.0",
            "grid_template_areas": null,
            "object_position": null,
            "object_fit": null,
            "grid_auto_columns": null,
            "margin": null,
            "display": null,
            "left": null
          }
        }
      }
    }
  },
  "cells": [
    {
      "cell_type": "markdown",
      "metadata": {
        "id": "view-in-github",
        "colab_type": "text"
      },
      "source": [
        "<a href=\"https://colab.research.google.com/github/MontiMic/Tesi/blob/riordinato/Untitled1.ipynb\" target=\"_parent\"><img src=\"https://colab.research.google.com/assets/colab-badge.svg\" alt=\"Open In Colab\"/></a>"
      ]
    },
    {
      "cell_type": "markdown",
      "source": [
        "# Introduzione\n",
        "La seguente presentazione si propone di semplificare l'apprendimento di alcuni principi del calcolo probabilistico offrendo la possibilità di vedere applicare le leggi su grandi numeri e confrontando i risultati ottenuti con quelli attesi dalla teoria."
      ],
      "metadata": {
        "id": "yyLelI9l5lbc"
      }
    },
    {
      "cell_type": "markdown",
      "source": [
        "Di seguito includiamo le librerie che verranno utilizzate nel corso della presentazione:\n",
        "\n",
        "* **numpy** per la manipolazione dei dati\n",
        "\n",
        "* **interact** per rendere la presentazione interattiva offrendo la possibilità allo studente di scegliere gli input\n",
        "\n",
        "* **pyplot** per la rappresentazione grafica dei risultati"
      ],
      "metadata": {
        "id": "35yCw13F7Yam"
      }
    },
    {
      "cell_type": "code",
      "execution_count": 90,
      "metadata": {
        "id": "TAxUPZupC-qR"
      },
      "outputs": [],
      "source": [
        "import numpy as np\n",
        "from ipywidgets import interact, interact_manual\n",
        "from matplotlib import pyplot as plt\n",
        "import math\n",
        "import seaborn as sns\n",
        "import random\n",
        "import scipy.stats\n",
        "import pandas as pd"
      ]
    },
    {
      "cell_type": "markdown",
      "source": [
        "##Elementi di python"
      ],
      "metadata": {
        "id": "XN5Whz1Y9fiZ"
      }
    },
    {
      "cell_type": "markdown",
      "source": [
        "Questa sezione è rivolta unicamente a chi non avesse ancora mai visto il python, allo scopo di mostrare alcune pratiche peculiari a Python."
      ],
      "metadata": {
        "id": "yHNFMDrk9pHX"
      }
    },
    {
      "cell_type": "markdown",
      "source": [
        "La funzione np.zeros(n) restituisce un array di zeri lungo n"
      ],
      "metadata": {
        "id": "kXZd8nfHDkHj"
      }
    },
    {
      "cell_type": "code",
      "source": [
        "np.zeros(5)"
      ],
      "metadata": {
        "colab": {
          "base_uri": "https://localhost:8080/"
        },
        "id": "Pukdrzg7-ggY",
        "outputId": "2d083d6c-ba25-41bd-9646-30039ad1dff8"
      },
      "execution_count": 91,
      "outputs": [
        {
          "output_type": "execute_result",
          "data": {
            "text/plain": [
              "array([0., 0., 0., 0., 0.])"
            ]
          },
          "metadata": {},
          "execution_count": 91
        }
      ]
    },
    {
      "cell_type": "markdown",
      "source": [
        "Specificando anche il type booleano facciamo una conversione: \n",
        "\n",
        "*  Gli zeri diventano False\n",
        "\n",
        "* I valori diversi da zero diventano True"
      ],
      "metadata": {
        "id": "VyLCyWeYDvuh"
      }
    },
    {
      "cell_type": "code",
      "source": [
        "esempio = np.zeros(10, dtype=np.bool_)\n",
        "print(esempio)"
      ],
      "metadata": {
        "colab": {
          "base_uri": "https://localhost:8080/"
        },
        "id": "lO-15LDEDZEP",
        "outputId": "511e8d6e-f9e8-4938-9267-799b7761736a"
      },
      "execution_count": 92,
      "outputs": [
        {
          "output_type": "stream",
          "name": "stdout",
          "text": [
            "[False False False False False False False False False False]\n"
          ]
        }
      ]
    },
    {
      "cell_type": "markdown",
      "source": [
        "Useremo questo tipo di struttura dati per simulare praticamente tutto, dalla roulette (True = rosso, False = nero) ad un urna di palline (quando ci basteranno 2 soli colori delle palline)"
      ],
      "metadata": {
        "id": "t-fqP7KSEIUu"
      }
    },
    {
      "cell_type": "markdown",
      "source": [
        "Per modificare un array il python ci offre uno strumento molto potente: lo slicing. Questa funzionalità permette di intervenire su un qualunque sottoinsieme dell'array se usata correttamente. A noi basta sapere che in un caso come esempio[1:5:2], stiamo intervenendo sull'array esempio, prendendo gli elementi dalla posizione 1 (inclusa) alla posizione 5 (esclusa) con passo 2:"
      ],
      "metadata": {
        "id": "OEyj-K9iEeQa"
      }
    },
    {
      "cell_type": "code",
      "source": [
        "esempio = ['a', 'b', 'c', 'd', 'e']\n",
        "esempio[1:5:2]"
      ],
      "metadata": {
        "colab": {
          "base_uri": "https://localhost:8080/"
        },
        "id": "48oF9noGF3Np",
        "outputId": "fd789935-8527-4d4e-d337-bde7227be844"
      },
      "execution_count": 93,
      "outputs": [
        {
          "output_type": "execute_result",
          "data": {
            "text/plain": [
              "['b', 'd']"
            ]
          },
          "metadata": {},
          "execution_count": 93
        }
      ]
    },
    {
      "cell_type": "markdown",
      "source": [
        "Non specificare il primo parametro significa partire dall'elemento 0, omettere il secondo significa procedere fino all'ultimo (compreso) e non specificare il passo significa passo 1: non saltare nessun elemento."
      ],
      "metadata": {
        "id": "Rm-4oAaOGvIL"
      }
    },
    {
      "cell_type": "markdown",
      "source": [
        "La funzione range(n) restituisce un iterabile lungo n. In python è generalmente usata nel ciclo for."
      ],
      "metadata": {
        "id": "b6PzabLwIH1d"
      }
    },
    {
      "cell_type": "code",
      "source": [
        "for i in range(5):\n",
        "  print(i)"
      ],
      "metadata": {
        "colab": {
          "base_uri": "https://localhost:8080/"
        },
        "id": "fdFx5oZPIaf5",
        "outputId": "b5f80a74-1814-4956-abeb-590d7f4b6e7f"
      },
      "execution_count": 94,
      "outputs": [
        {
          "output_type": "stream",
          "name": "stdout",
          "text": [
            "0\n",
            "1\n",
            "2\n",
            "3\n",
            "4\n"
          ]
        }
      ]
    },
    {
      "cell_type": "markdown",
      "source": [
        "##Funzioni utili"
      ],
      "metadata": {
        "id": "UdZaaBfKzjzX"
      }
    },
    {
      "cell_type": "markdown",
      "source": [
        "Quelle che seguono sono funzioni utilizzate in più test del documento, per il corretto funzionamento dei test successivi è necessario eseguire queste celle una volta."
      ],
      "metadata": {
        "id": "iZFqSjhypj_Y"
      }
    },
    {
      "cell_type": "code",
      "source": [
        "#funzione che genera una roulette simulata da un array lungo 37 di cui 18 valori contano come \"vittoria\"\n",
        "def mk_roulette():\n",
        "  ruota = np.zeros(37, dtype=np.bool_)\n",
        "  ruota[1::2] = True\n",
        "  return ruota"
      ],
      "metadata": {
        "id": "4LJOZHxd810N"
      },
      "execution_count": 95,
      "outputs": []
    },
    {
      "cell_type": "code",
      "source": [
        "#funzione che simula una singola partita alla roulette (1 o più puntate uguali) e, dato il portafogli di partenza, torno il nuovo conto\n",
        "def partita(ruota, giocate, puntata, portafogli):\n",
        "  while(giocate > 0):\n",
        "      giocate = giocate - 1\n",
        "      portafogli = portafogli - puntata #la puntata la considero sempre persa, in caso di vittoria vinco il doppio della puntata\n",
        "      if(ruota[np.random.randint(0, (37))]): #estraggo un elemento casuale della roulette e verifico se è rosso\n",
        "        portafogli = portafogli + (puntata * 2)\n",
        "  return portafogli  "
      ],
      "metadata": {
        "id": "fqGFfq_CT7Tv"
      },
      "execution_count": 96,
      "outputs": []
    },
    {
      "cell_type": "code",
      "source": [
        "#funzione che simula un dado ritornando un intero compreso tra 1 e 6\n",
        "def trow():\n",
        "  return np.random.randint(1, 7)"
      ],
      "metadata": {
        "id": "O7NiHEewS99d"
      },
      "execution_count": 97,
      "outputs": []
    },
    {
      "cell_type": "code",
      "source": [
        "#funzione che ritorna un'urna contenente palline di 2 colori in quanità scelta\n",
        "def mk_urna(bianche, rosse):\n",
        "  tot = bianche + rosse\n",
        "  urna = np.zeros((tot, 1), dtype=np.bool_)\n",
        "  while(rosse > 0):\n",
        "    rnd = np.random.randint(0, (tot))\n",
        "    if (not urna[rnd]):\n",
        "      urna[rnd] = True\n",
        "      rosse = rosse - 1\n",
        "  return urna"
      ],
      "metadata": {
        "id": "R06bqIr8Ii4G"
      },
      "execution_count": 98,
      "outputs": []
    },
    {
      "cell_type": "markdown",
      "source": [
        "##Interpretazione dei risultati"
      ],
      "metadata": {
        "id": "EbFr-wXap_mS"
      }
    },
    {
      "cell_type": "markdown",
      "source": [
        "I test di questo documento hanno lo scopo di mostrare che le formule viste con la teoria del calcolo probabilistico hanno un riscontro nella realtà. \n",
        "Ogni test simulerà per un numero di volte a discrezione dello studente, lo scenario descritto dall'esempio in esame. Si noti che un numero più alto di ripetizioni porterà a risultati più precisi."
      ],
      "metadata": {
        "id": "Mp5-2IqZqDex"
      }
    },
    {
      "cell_type": "code",
      "source": [
        "def moneta(lanci):\n",
        "  results = []\n",
        "  for i in range(lanci): #lanciamo la moneta tante volte quante indicate dal parametro \"lanci\"\n",
        "    results.append(np.random.randint(2))\n",
        "  #grafico\n",
        "  labels = []\n",
        "  normalized = []\n",
        "  normalized.append(round(((results.count(0) / lanci) * 100), 2)) #conto le istanze dei risultati e le normalizzo\n",
        "  normalized.append(round(100 - sum(normalized), 2)) #per evitare che per errori di arrotondamento la somma dei risultati sia 99.9%, l'ultimo risultato lo calcolo come 100 - (la somma dei precedenti)\n",
        "  for i in range(len(normalized)):\n",
        "    labels.append(str(normalized[i]) + \"%\") # aggiungo le labels (i valori riportati all'esterno del grafico)\n",
        "  plt.pie(normalized, labels=labels)\n",
        "  legenda = [\"Testa\", \"Croce\"]\n",
        "  plt.legend(legenda,loc='upper center', bbox_to_anchor=(0.5, -0.05), fancybox=True, shadow=True, ncol=5)"
      ],
      "metadata": {
        "id": "pZxUQQ-_rGuz"
      },
      "execution_count": 99,
      "outputs": []
    },
    {
      "cell_type": "code",
      "source": [
        "moneta(100)"
      ],
      "metadata": {
        "id": "7rynuIn1ubs4",
        "outputId": "03f51506-8f34-4ce1-8521-e7e29dd83a68",
        "colab": {
          "base_uri": "https://localhost:8080/",
          "height": 282
        }
      },
      "execution_count": 100,
      "outputs": [
        {
          "output_type": "display_data",
          "data": {
            "image/png": "[encoded data removed]",
            "text/plain": [
              "<Figure size 432x288 with 1 Axes>"
            ]
          },
          "metadata": {}
        }
      ]
    },
    {
      "cell_type": "code",
      "source": [
        "moneta(10_000)"
      ],
      "metadata": {
        "id": "E6dWQdxUud7o",
        "outputId": "46dfc2e1-fd74-4994-d579-6a5e1716f5d4",
        "colab": {
          "base_uri": "https://localhost:8080/",
          "height": 282
        }
      },
      "execution_count": 101,
      "outputs": [
        {
          "output_type": "display_data",
          "data": {
            "image/png": "[encoded data removed]",
            "text/plain": [
              "<Figure size 432x288 with 1 Axes>"
            ]
          },
          "metadata": {}
        }
      ]
    },
    {
      "cell_type": "code",
      "source": [
        "moneta(1_000_000)"
      ],
      "metadata": {
        "id": "uNmo8_dXugoY",
        "outputId": "e428e1a9-99cb-4af9-ba7c-8f3b8237d342",
        "colab": {
          "base_uri": "https://localhost:8080/",
          "height": 282
        }
      },
      "execution_count": 102,
      "outputs": [
        {
          "output_type": "display_data",
          "data": {
            "image/png": "[encoded data removed]",
            "text/plain": [
              "<Figure size 432x288 with 1 Axes>"
            ]
          },
          "metadata": {}
        }
      ]
    },
    {
      "cell_type": "markdown",
      "source": [
        "Per un buon equilibrio tra accuratezza dei risultati e tempo di esecuzione impostiamo il numero di ripetizioni a 100 000 con la variabile \"precisione\"."
      ],
      "metadata": {
        "id": "0_jUagMkw72N"
      }
    },
    {
      "cell_type": "code",
      "source": [
        "precisione = 100_000"
      ],
      "metadata": {
        "id": "7YqOeAMoxunS"
      },
      "execution_count": 103,
      "outputs": []
    },
    {
      "cell_type": "markdown",
      "source": [
        "Si lascia allo studente la possibilità di incrementare questa variabile se desiderasse dei risultati più precisi."
      ],
      "metadata": {
        "id": "uH7_BXdBxvvq"
      }
    },
    {
      "cell_type": "markdown",
      "source": [
        "# Variabili aleatorie discrete"
      ],
      "metadata": {
        "id": "gQTrf-PK7FxE"
      }
    },
    {
      "cell_type": "markdown",
      "source": [
        "Una variabile aleatoria _X_ si dice discreta se i valori che assume sono finiti oppure numerabili.\n",
        "\n",
        "Nel caso siano numerabili molto spesso potremo pensare che siano semplicmente i numeri interi, ma non vogliamo escludere anche casi in cui abbiamo dei valori non interi."
      ],
      "metadata": {
        "id": "f7tQYrZgLgm2"
      }
    },
    {
      "cell_type": "markdown",
      "source": [
        "##Esempio 1.1 \n",
        "Faccio 3 puntate sul rosso alla roulette puntando 10 euro per volta, qual è la probabilità di vincere più di un certo valore _X_?\n",
        "\n",
        "(Le vincite possibili sono valori finiti ed è quindi una variabile discreta)"
      ],
      "metadata": {
        "id": "wO2wYqZ-DSZF"
      }
    },
    {
      "cell_type": "code",
      "source": [
        "@interact_manual(vincita=(0, 30))\n",
        "def es11(vincita=5):\n",
        "  giocate = 3\n",
        "  puntata = 10\n",
        "  ruota = mk_roulette()\n",
        "  count = 0\n",
        "  for i in range(precisione):\n",
        "    portafogli = giocate * puntata\n",
        "    portafogli = partita(ruota, giocate, puntata, portafogli) #il portafogli viene aggiornato dopo aver simulato una partita\n",
        "    if((portafogli - 30) >= vincita): #se ho finito le 3 puntate con una vincita maggiore o uguale a quella sperata la aggiungo al conteggio\n",
        "      count = count + 1\n",
        "  return round(count / precisione, 3)"
      ],
      "metadata": {
        "colab": {
          "base_uri": "https://localhost:8080/",
          "height": 98,
          "referenced_widgets": [
            "d3df7ea4ea524a17a12617343e523493",
            "0321035f422b44a3b0d9972aebc843db",
            "98d40c28959e4aef955fba45410d5b6c",
            "f0bd3f6453ae42409640dabea15ddd05",
            "0573191efa47478287b5d6eed1de3fdf",
            "78fead3f19fc43b39ac4dc93137a2788",
            "1ecea92c28054abb93254f89190d4e81",
            "60ecfe5854794bdcbabc1870b5480baa",
            "f617265bd52544cd9ae5f6bace81df94",
            "c6f55cd407eb40d0adfe9673af53a292"
          ]
        },
        "id": "w2ugmhMy_cfa",
        "outputId": "cbf65781-46f5-4dd5-dca3-92814471b7f9"
      },
      "execution_count": 104,
      "outputs": [
        {
          "output_type": "display_data",
          "data": {
            "application/vnd.jupyter.widget-view+json": {
              "model_id": "d3df7ea4ea524a17a12617343e523493",
              "version_minor": 0,
              "version_major": 2
            },
            "text/plain": [
              "interactive(children=(IntSlider(value=5, description='vincita', max=30), Button(description='Run Interact', st…"
            ]
          },
          "metadata": {}
        }
      ]
    },
    {
      "cell_type": "markdown",
      "source": [
        "##Esempio 1.2\n",
        "Dati il numero di puntate ed i soldi scommessi ogni volta, quanto mi dovrei aspettare di aver vinto alla fine? (risultato in euro)"
      ],
      "metadata": {
        "id": "tTOcRD2kD_zf"
      }
    },
    {
      "cell_type": "code",
      "source": [
        "@interact_manual(giocate=(1, 10), puntata=(5, 100, 5))\n",
        "def es12(giocate = 3, puntata = 10):\n",
        "  portafogli = giocate * puntata * precisione\n",
        "  ruota = mk_roulette()\n",
        "  for i in range(precisione):\n",
        "    portafogli = partita(ruota, giocate, puntata, portafogli)\n",
        "  portafogli = portafogli / precisione\n",
        "  return round(portafogli - (giocate * puntata), 2)"
      ],
      "metadata": {
        "colab": {
          "base_uri": "https://localhost:8080/",
          "height": 130,
          "referenced_widgets": [
            "7a7be7d1fe4c4814bf64c13e7c13abd6",
            "6a6cccd52c17405da0e9e13cfab850d1",
            "ba1ce70213cc4f84b574e7d9f87900f5",
            "08403ce5d44e4bd2b5b773dc81d43e52",
            "645dc3c3eeba43da852ba25ad8d3fcff",
            "aaf7f33f89f147a6909ea9449a3a1fb9",
            "e878f1f1b8064071a60ec895e68f35e7",
            "4d1f9e6854ca44aa9e5295e075eca011",
            "d86f0572a8ac489c94fb5cfda64a2037",
            "c156f49afe5b4e319272fff7290b88e2",
            "13ba3d126e4d4dbf899146c96ffce2d1",
            "a1ff607750e849d990da380d3fb00348",
            "20de30a4f9db4f28bdcaffc911022eb9"
          ]
        },
        "id": "TR8QkEnHD-B2",
        "outputId": "9cbaaa26-462c-4b7d-fce2-3ea3d5ea20ec"
      },
      "execution_count": 105,
      "outputs": [
        {
          "output_type": "display_data",
          "data": {
            "application/vnd.jupyter.widget-view+json": {
              "model_id": "7a7be7d1fe4c4814bf64c13e7c13abd6",
              "version_minor": 0,
              "version_major": 2
            },
            "text/plain": [
              "interactive(children=(IntSlider(value=3, description='giocate', max=10, min=1), IntSlider(value=10, descriptio…"
            ]
          },
          "metadata": {}
        }
      ]
    },
    {
      "cell_type": "markdown",
      "source": [
        "# Distribuzione uniforme e non uniforme"
      ],
      "metadata": {
        "id": "qBnKgfwaLT9x"
      }
    },
    {
      "cell_type": "markdown",
      "source": [
        "Sia _A_ = {_x1_, . . . , _xn_}; una variabile _X_ che assume i valori in _A_ tutti con la stessa probabilità $\\frac{1}{n}$\n",
        "si dice _variabile uniforme_ su _A_. Scriviamo in questo caso _X_ ∼ _U_(_A_) oppure _X_ ∼ _U_(_x1_, . . . , _xn_).\n",
        "La densità è quindi:\n",
        "\n",
        "\\begin{equation}\n",
        "  px(h) =\n",
        "    \\begin{cases}\n",
        "           \\frac{1}{n} \\ se \\  h  \\ ∈ \\ ({x1}, {x2}, ..., {xn})\n",
        "          \\\\\n",
        "          0 \\ altrimenti\n",
        "        \\end{cases}\n",
        "\\end{equation}"
      ],
      "metadata": {
        "id": "GUQzPwZ8NK0Q"
      }
    },
    {
      "cell_type": "markdown",
      "source": [
        "##Esempio 2.1 \n",
        "Nel lancio di un dado sia Ω = {1, 2, 3, 4, 5, 6} l’insieme dei possibili risultati.\n",
        "Allora la funzione _X_(_n_) = n per ogni n ∈ Ω è una variabile aleatoria uniforme _X_ ∼ _U_(1, 2, 3, 4, 5, 6).\n"
      ],
      "metadata": {
        "id": "HJrqw0EbXj2l"
      }
    },
    {
      "cell_type": "code",
      "source": [
        "def es21():\n",
        "  results = []\n",
        "  for i in range(precisione):\n",
        "    results.append(trow()) #aggiungo il risultato del tiro alla lista dei risultati\n",
        "  #grafico\n",
        "  elem_count = []\n",
        "  labels = []\n",
        "  for i in range(len(set(results))): #conto le istanze di ogni risultato ottenuto ed aggiungo i totali a elem_count, poi lo metto a grafico\n",
        "    elem_count.append(results.count(i+1))\n",
        "    labels.append(str(i+1))\n",
        "  plt.bar(labels, elem_count)\n",
        "es21()"
      ],
      "metadata": {
        "colab": {
          "base_uri": "https://localhost:8080/",
          "height": 265
        },
        "id": "pO1ExmtATCeI",
        "outputId": "30702924-9046-46c7-e4e9-bd0d6c12e1a8"
      },
      "execution_count": 106,
      "outputs": [
        {
          "output_type": "display_data",
          "data": {
            "image/png": "[encoded data removed]",
            "text/plain": [
              "<Figure size 432x288 with 1 Axes>"
            ]
          },
          "metadata": {
            "needs_background": "light"
          }
        }
      ]
    },
    {
      "cell_type": "markdown",
      "source": [
        "##Esempio 2.2\n",
        "Se invece lanciassimo due dadi, la variabile _X_ che assume un valore corrispondente al numero di risultati pari ottenuti dal lancio sarebbe una _variabile non uniforme_ siccome la sua densità sarebbe:\n",
        "\n",
        "\\begin{equation}\n",
        "  py(h) =\n",
        "    \\begin{cases}\n",
        "          \\frac{1}{4} \\  h={0},{2}\n",
        "          \\\\\n",
        "          \\frac{1}{2} \\ h={1}\n",
        "          \\\\\n",
        "          0 \\ altrimenti\n",
        "        \\end{cases}\n",
        "\\end{equation}"
      ],
      "metadata": {
        "id": "BZUNA1OvaQp6"
      }
    },
    {
      "cell_type": "code",
      "source": [
        "def es22():\n",
        "  results = []\n",
        "  for i in range(precisione):\n",
        "    a, b = trow(), trow() #lancio due dadi, poi conterò quanti sono pari per aggiungere il risultato alla lista\n",
        "    results.append(2-((a % 2)+(b % 2))) #conto i dadi pari come due meno i dadi dispari (n%2 = 1 per n dispari, 0 altrimenti)\n",
        "  valori = []\n",
        "  normalized = []\n",
        "  for i in range(3): #conto le istanze dei risultati e le divido per il numero di risultati totale (normalizzo)\n",
        "    normalized.append(results.count(i) / len(results)) #len(results) torna la lunghezza della lista results\n",
        "    valori.append(\"k=\" + str(i))\n",
        "  plt.pie(normalized, labels=valori)\n",
        "es22()"
      ],
      "metadata": {
        "colab": {
          "base_uri": "https://localhost:8080/",
          "height": 248
        },
        "id": "Ly_UKZkxZr2J",
        "outputId": "a45f2394-f6af-4539-8a34-6014f0372dca"
      },
      "execution_count": 63,
      "outputs": [
        {
          "output_type": "display_data",
          "data": {
            "image/png": "[encoded data removed]",
            "text/plain": [
              "<Figure size 432x288 with 1 Axes>"
            ]
          },
          "metadata": {}
        }
      ]
    },
    {
      "cell_type": "markdown",
      "source": [
        "#Densità binomiale"
      ],
      "metadata": {
        "id": "qimeQspadWgq"
      }
    },
    {
      "cell_type": "markdown",
      "source": [
        "Consideriamo un fenomeno aleatorio e un certo evento ad esso associato. Per semplicità diciamo che se l’evento si realizza otteniamo un “successo”, viceversa che abbiamo ottenuto un “insuccesso\".\n",
        "Uno schema successo-insuccesso consiste nel ripetere questo fenomeno un certo fissato numero di volte, dette anche prove o tentativi, in cui siamo interessati unicamente al numero di successi ottenuti\n",
        "nelle varie prove.\n",
        "Supponiamo ora che le prove siano indipendenti l’una dall’altra, cioè vengono effettuate tuttevnelle medesime condizioni, indipendentemente dal risultato delle prove precedenti: parliamo in questo caso di schema successo-insuccesso con ripetizione o a prove indipendenti. Consideriamo\n",
        "quindi la variabile X data dal numero di successi in n tentativi.\n",
        "Nel caso in cui le prove siano indipendenti l’una dall’altra, la probabilità di ottenere una certa prefissata sequenza di successi e insuccessi dipende solo dal numero di questi ultimi e non dall’ordine con cui vogliamo che si succedano. La probabilità di ottenere una sequenza fissata in cui abbiamo k successi e n − k insuccessi è data da\n",
        "$p^k(1-p)^{n-k}$, dove p è la probabilità che ogni singolo tentativo abbia successo. Siccome i modi in cui possiamo scegliere le k posizioni per i successi sono date da ${n\\choose k}$ otteniamo per la variabile X la densità data da\n",
        "\n",
        "\\begin{equation}\n",
        "  px(k) =\n",
        "    \\begin{cases}\n",
        "          {n\\choose k} p^k(1-p)^{n-k} \\ se \\ k=1,2,...,n\n",
        "          \\\\\n",
        "          0 \\ altrimenti\n",
        "        \\end{cases}\n",
        "\\end{equation}\n",
        "\n",
        "\n",
        "Scriveremo in questo caso _X_ ∼ _B_(_n_, _p_) e diciamo che _X_ è una variabile binomiale."
      ],
      "metadata": {
        "id": "OUh7jiOk7WSD"
      }
    },
    {
      "cell_type": "markdown",
      "source": [
        "##Esempio 3.1\n",
        "\n",
        "Supponiamo di andare al casinò con 15 Euro e puntiamo 3 volte 5 Euro alla roulette sul rosso. Consideriamo la variabile aleatoria X data dai soldi che abbiamo in tasca alla fine delle 3 puntate. La probabilità di ottenere un numero rosso è di $\\frac{18}{37}$ ad ogni tentativo.\n",
        "Determinare la densità di X.\n",
        "La variabile X può assumere i valori 30, 20, 10, 0 a seconda di quanti rossi sono usciti. Abbiamo:\n",
        "\n",
        "P(X = 30) = $(\\frac{18}{37})^3$ = 0,115\n",
        "\n",
        "P(X = 20) = ${3\\choose 1}(\\frac{18}{37})^2 · \\frac{19}{37}$= 0, 365\n",
        "\n",
        "P(X = 10) = ${3\\choose 2}(\\frac{18}{37}) · (\\frac{19}{37})^2$ = 0,385\n",
        "\n",
        "P(X = 0) = $(\\frac{19}{37})^3$ = 0,135\n"
      ],
      "metadata": {
        "id": "O8PjzahWhrRr"
      }
    },
    {
      "cell_type": "code",
      "source": [
        "@interact_manual(giocate=(1, 6), puntata=(5, 100, 5))\n",
        "def es31(giocate = 3, puntata = 5):\n",
        "  ruota = mk_roulette()\n",
        "  results = []\n",
        "  for i in range(precisione):\n",
        "    portafogli = giocate * puntata\n",
        "    portafogli = partita(ruota, giocate, puntata, portafogli)\n",
        "    results.append(portafogli)\n",
        "  #grafico\n",
        "  normalized = []\n",
        "  valori = []\n",
        "  for i in range(giocate):\n",
        "    normalized.append(round(((results.count(puntata*2*i) / precisione) * 100), 2)) #conto le istanze dei risultati e le normalizzo\n",
        "  normalized.append(round(100 - sum(normalized), 2)) #per evitare che per errori di arrotondamento la somma dei risultati sia 99.9%, l'ultimo risultato lo calcolo come 100 - (la somma dei precedenti)\n",
        "  labels = []\n",
        "  for i in range(len(normalized)):\n",
        "    labels.append(str(normalized[i]) + \"%\") # aggiungo le labels (i valori riportati all'esterno del grafico)\n",
        "  plt.pie(normalized, labels=labels)\n",
        "  legenda = []\n",
        "  for i in range(len(normalized)):\n",
        "    legenda.append(str(puntata*2*i))\n",
        "  plt.legend(legenda,loc='upper center', bbox_to_anchor=(0.5, -0.05), fancybox=True, shadow=True, ncol=5)"
      ],
      "metadata": {
        "id": "QDB96jXivO40",
        "outputId": "241aedfb-a5cc-4f45-d46e-bbd0feb9f8ce",
        "colab": {
          "base_uri": "https://localhost:8080/",
          "height": 378,
          "referenced_widgets": [
            "d11604e36cd9436d9f43aabb602ce684",
            "56fc6ef8f320424ba407695864b5dbf2",
            "36255f67e4034d4a851879d50cf9382d",
            "ffc90816621244e0b380ae5326253b88",
            "2cf45e1ae98c4a99beca9212a3d23e68",
            "fff89c72da174febb705a8d701e5cd82",
            "7bd0def7eb234a28953cd0ec99cbbbf8",
            "65268fe81efa47fcbf402f1657eb0c55",
            "1e44d451145c49f19c5acaad44fb00b2",
            "ee4a4840d5d14c0eb5fe70a2b07f65aa",
            "38b909c90cb24316881360c4f56eb097",
            "128504de64c84772860e22b64b74b4c0",
            "ced1c19345a0449dbf94262b651c52d3"
          ]
        }
      },
      "execution_count": 64,
      "outputs": [
        {
          "output_type": "display_data",
          "data": {
            "application/vnd.jupyter.widget-view+json": {
              "model_id": "d11604e36cd9436d9f43aabb602ce684",
              "version_minor": 0,
              "version_major": 2
            },
            "text/plain": [
              "interactive(children=(IntSlider(value=3, description='giocate', max=6, min=1), IntSlider(value=5, description=…"
            ]
          },
          "metadata": {}
        }
      ]
    },
    {
      "cell_type": "markdown",
      "source": [
        "# Densità ipergeometrica"
      ],
      "metadata": {
        "id": "9PjQr8MmCUYu"
      }
    },
    {
      "cell_type": "markdown",
      "source": [
        "\n",
        "Un altro tipo di schema successo-insuccesso è il cosiddetto schema successo-insuccesso _senza ripetizione_. In questo caso il fenomeno aleatorio consiste nell’estrazione di n palline, senza rimpiazzare di volta in volta la pallina estratta, da un'urna contenente b palline bianche e r palline rosse.\n",
        "Diciamo che la prova (estrazione) dà successo se viene estratta una pallina bianca e consideriamo la variabile X data dal numero di successi ottenuti, cioè dal numero di palline bianche estratte.\n",
        "\n",
        "\n",
        "Osserviamo che X può assumere tutti i valori tra max(0, n − r) e min(n, b): infatti se n > r siamo sicuri di pescare almeno n−r palline bianche e chiaramente il numero di bianche estratte non può superare nè il numero estrazioni nè il numero di palline bianche.\n",
        "\n",
        "Lo spazio Ω è dato da tutti i possibili sottoinsiemi di n oggetti (le palline estratte) scelti da un insieme di b + r oggetti (le palline\n",
        "disponibili), con probabilità uniforme. L’evento “X = k” è dato quindi da tutti i sottoinsiemi delle b + r palline costituiti da k palline bianche e n − k palline rosse. Le k bianche le posso scegliere in ${b\\choose k}$ modi. Le n − k rosse in ${r \\choose {n - k}}$ modi. Abbiamo quindi che la densità di X è data da\n",
        "\n",
        "\\begin{equation}\n",
        "  px(k) =\n",
        "    \\begin{cases}\n",
        "          \\frac{{b \\choose k} · {r \\choose n - k}}{b + r \\choose n} \\ se \\ k=max(0, n-r),...,min(n,b)\n",
        "          \\\\\n",
        "          0 \\ altrimenti\n",
        "        \\end{cases}\n",
        "\\end{equation}\n",
        "\n",
        "Scriviamo in questo caso X ∼ H(n; b, r) e diciamo che X è una variabile ipergeometrica."
      ],
      "metadata": {
        "id": "OnLdbdQjCbyl"
      }
    },
    {
      "cell_type": "markdown",
      "source": [
        "##Esempio 4.1\n",
        "Un’urna contiene 8 palline bianche e 2 rosse. Ne estraiamo 3 senza rimpiazzo.\n",
        "Qual è la probabilità di estrarne al più una rossa? In questo caso, a differenza del precedente abbiamo che la variabile X = numero di rosse estratte è una ipergeometrica X ∼ H(3; 2, 8) per\n",
        "cui\n",
        "\n",
        "P(_X_ ≤ 1) = P(_X_ = 0) + P(_X_ = 1) = $\\frac{{2 \\choose 0}·{8 \\choose 3}}{10 \\choose 3}$ + $\\frac{{2 \\choose 1}·{8 \\choose 2}}{10 \\choose 3}$ = $\\frac{14}{15}$ = 0.933"
      ],
      "metadata": {
        "id": "mqqc2UiZGaIY"
      }
    },
    {
      "cell_type": "code",
      "source": [
        "@interact_manual(estrazioni=(1, 10))\n",
        "def es41(estrazioni=3):\n",
        "  bianche = 8\n",
        "  rosse = 2\n",
        "  urna = mk_urna(bianche, rosse)\n",
        "  results = 0\n",
        "  for i in range(precisione):\n",
        "    tmp = urna\n",
        "    count = 0\n",
        "    for i in range(estrazioni):\n",
        "      extr = np.random.randint(0, ((bianche + rosse)-i))\n",
        "      if(tmp[extr]):\n",
        "        count = count + 1\n",
        "      tmp = np.delete(tmp, extr)\n",
        "    if(count < 2):\n",
        "      results = results + 1  \n",
        "  return round(results / precisione, 3)"
      ],
      "metadata": {
        "id": "R0SjK_tkMtDv",
        "colab": {
          "base_uri": "https://localhost:8080/",
          "height": 98,
          "referenced_widgets": [
            "90fb993b6668471a838f1ebf722e7f94",
            "5abae6e2bf1c419db61af669781ca1fa",
            "a7d96d8bfe8746ada90bcf3ee8e86d47",
            "6fdcb12997a94c879406701ebbe44456",
            "c80be71f44df4ae2a39b02de13549d33",
            "8daa898181ce46de8925463ca8106f6f",
            "db7cfe96035343d1839058ad7cd2ffa6",
            "fee5939a179f44d98181962531812ccd",
            "b291b6c305154f0c87ef6034c390d090",
            "0c921994851c49c5a480fa22dda8bbe2"
          ]
        },
        "outputId": "d13ca36c-153a-45ff-cd28-feaaf2291f6c"
      },
      "execution_count": 65,
      "outputs": [
        {
          "output_type": "display_data",
          "data": {
            "application/vnd.jupyter.widget-view+json": {
              "model_id": "90fb993b6668471a838f1ebf722e7f94",
              "version_minor": 0,
              "version_major": 2
            },
            "text/plain": [
              "interactive(children=(IntSlider(value=3, description='estrazioni', max=10, min=1), Button(description='Run Int…"
            ]
          },
          "metadata": {}
        }
      ]
    },
    {
      "cell_type": "markdown",
      "source": [
        "#Densità geometrica - geometrica modificata"
      ],
      "metadata": {
        "id": "-GtoecXjUH1e"
      }
    },
    {
      "cell_type": "markdown",
      "source": [
        "In uno schema successo-insuccesso, anzichè al numero di successi ottenuti su n tentativi, potremmo essere interessati al numero di tentativi che devo effettuare prima di ottenere un successo."
      ],
      "metadata": {
        "id": "YBirGuNoUKbB"
      }
    },
    {
      "cell_type": "markdown",
      "source": [
        "##Esempio 5.1\n",
        "\n",
        "Consideriamo un’urna con 2 palline bianche e 3 rosse. Le estraggo senza\n",
        "rimpiazzo finchè non trovo una pallina rossa. Considero la variabile aleatoria X=numero di estrazioni per trovare una pallina rossa. X è una variabile finita in quanto assume solo i valori 1, 2, 3.\n",
        "La sua densità si determina facilmente ed è data da\n",
        "\n",
        "\\begin{equation}\n",
        "  px(k) =\n",
        "    \\begin{cases}\n",
        "          \\frac{6}{10} \\ se \\ k=1\n",
        "          \\\\\n",
        "          \\frac{3}{10} \\ se \\ k=2\n",
        "          \\\\\n",
        "          \\frac{1}{10} \\ se \\ k=3\n",
        "          \\\\\n",
        "          0 \\ altrimenti\n",
        "        \\end{cases}\n",
        "\\end{equation}\n",
        "\n"
      ],
      "metadata": {
        "id": "aXX1PJQLUX9Z"
      }
    },
    {
      "cell_type": "code",
      "source": [
        "@interact_manual(bianche=(1,5), rosse=(1, 5))\n",
        "def es51(bianche=2, rosse=3):\n",
        "  palle = mk_urna(bianche, rosse)\n",
        "  results = []\n",
        "  count=0\n",
        "  while(len(results) < precisione):\n",
        "    done = len(results)\n",
        "    tmp = palle\n",
        "    while(len(results) == done):\n",
        "      extr = np.random.randint(0, ((bianche+rosse)-count))\n",
        "      if(tmp[extr]):\n",
        "        results.append(count)\n",
        "        count=0\n",
        "      else:  \n",
        "        tmp = np.delete(tmp,extr)\n",
        "        count = count + 1\n",
        "  #grafico\n",
        "  labels = []\n",
        "  normalized = []\n",
        "  for i in range(len(set(results)) - 1): #len(set(n)) torna il numero di risultati distinti presenti in results\n",
        "    normalized.append(round(((results.count(i) / precisione) * 100), 2)) #conto le istanze dei risultati e le normalizzo\n",
        "  normalized.append(round(100 - sum(normalized), 2)) #per evitare che per errori di arrotondamento la somma dei risultati sia 99.9%, l'ultimo risultato lo calcolo come 100 - (la somma dei precedenti)\n",
        "  for i in range(len(normalized)):\n",
        "    labels.append(str(normalized[i]) + \"%\") # aggiungo le labels (i valori riportati all'esterno del grafico)\n",
        "  plt.pie(normalized, labels=labels)\n",
        "  legenda = []\n",
        "  for i in range(bianche + 1):\n",
        "    legenda.append(\"k=\"+str(i+1))\n",
        "  plt.legend(legenda,loc='upper center', bbox_to_anchor=(0.5, -0.05), fancybox=True, shadow=True, ncol=5)"
      ],
      "metadata": {
        "colab": {
          "base_uri": "https://localhost:8080/",
          "height": 378,
          "referenced_widgets": [
            "05e1949715a84759962b27dd9c7451bf",
            "261286f8b8664c268570ee22d72c466e",
            "45f2db3a345e4a279f309bb7ef0798bc",
            "f393c084525149738f855a3fd0987821",
            "a97df153a003490f8175c89d5a53692a",
            "af5d14f8b00c4b70834f1d979e8abbe8",
            "a6e84d7229764a5191535941047a8519",
            "911e9397e315406e849c9e0f013f6bac",
            "73840269c506443baca47a06a371a67b",
            "658b651feaea41c69f5d3da94c819b18",
            "7f9d4739a13f4b9a87426c60e7da9845",
            "1929db1ca1bf437d9947a7f9fbd7cb7e",
            "e5913bc7533b43d6b634043c55839d5b"
          ]
        },
        "id": "5tLgoNi7f2YM",
        "outputId": "78255351-9cc7-45e3-fd3e-29c76baeea92"
      },
      "execution_count": 66,
      "outputs": [
        {
          "output_type": "display_data",
          "data": {
            "application/vnd.jupyter.widget-view+json": {
              "model_id": "05e1949715a84759962b27dd9c7451bf",
              "version_minor": 0,
              "version_major": 2
            },
            "text/plain": [
              "interactive(children=(IntSlider(value=2, description='bianche', max=5, min=1), IntSlider(value=3, description=…"
            ]
          },
          "metadata": {}
        }
      ]
    },
    {
      "cell_type": "markdown",
      "source": [
        "Caso interessante:\n",
        "\n",
        "Nel caso di una sola pallina rossa ed _n_ palline bianche, non si ha un'estrazione in cui è più probabile trovare la rossa, hanno tutte probabilità $\\frac{1}{n+1}$ come si può verificare ri-lanciando l'esperimento precedente con una sola pallina rossa."
      ],
      "metadata": {
        "id": "Y5F358gdvcak"
      }
    },
    {
      "cell_type": "markdown",
      "source": [
        "##Esempio 5.2\n",
        "\n",
        "Ripetiamo l'esperimento precedente, ma questa volta rimpiazziamo la pallina ad ogni estrazione. La variabile X diventa numerabile e si ha\n",
        "\n",
        "\\begin{equation}\n",
        "  px(k) =\n",
        "    \\begin{cases}\n",
        "          (\\frac{2}{5})^{k-1}\\frac{3}{5} \\ se \\ k=1,2,3,...\n",
        "          \\\\\n",
        "          0 \\ altrimenti\n",
        "        \\end{cases}\n",
        "\\end{equation}\n",
        "\n",
        "Infatti richiedere X = k vuol dire aver ottenuto k − 1 insuccessi nei primi k − 1 tenativi (ognuno con probabilità $\\frac{2}{5}$) per poi finalmente ottenere un successo al k-esimo tentativo (con probabilità $\\frac{3}{5}$)"
      ],
      "metadata": {
        "id": "DPSi8KkVKH60"
      }
    },
    {
      "cell_type": "code",
      "source": [
        "@interact_manual(bianche=(1,5), rosse=(1, 5))\n",
        "def es52(bianche=2, rosse=3):\n",
        "  palle = mk_urna(bianche, rosse)\n",
        "  results = []\n",
        "  count=0\n",
        "  while(len(results) < precisione):\n",
        "    done = len(results)\n",
        "    tmp = palle\n",
        "    while(len(results) == done):\n",
        "      extr = np.random.randint(0, (bianche+rosse))\n",
        "      if(tmp[extr]):\n",
        "        results.append(count)\n",
        "        count=0\n",
        "      else:  \n",
        "        count = count + 1\n",
        "  \n",
        "  #grafico risultati\n",
        "  labels = []\n",
        "  normalized = []\n",
        "  for i in range(len(set(results))): \n",
        "    normalized.append(round(((results.count(i) / precisione) * 100), 2))\n",
        "  for i in range(len(set(results))):\n",
        "    labels.append(str(i+1))\n",
        "  \n",
        "  #grafico teorico\n",
        "  teoria = []\n",
        "  for i in range(len(set(results))):\n",
        "    teoria.append(((bianche / (bianche + rosse))**(i)) * (rosse / (bianche + rosse)) * 100)\n",
        "\n",
        "  lab_arr = np.arange(len(labels))\n",
        "\n",
        "  w=0.4\n",
        "  plt.bar(lab_arr-(w/2), normalized, width=w)\n",
        "  plt.bar(lab_arr+(w/2), teoria, width=w)\n",
        "  plt.ylabel(\"Percentage\")\n",
        "  plt.xlabel(\"K\")\n",
        "  legenda = [\"Risultati ottenuti\", \"Risultati attesi\"]\n",
        "  plt.legend(legenda,loc='upper center', bbox_to_anchor=(0.5, -0.05), fancybox=True, shadow=True, ncol=5)"
      ],
      "metadata": {
        "colab": {
          "base_uri": "https://localhost:8080/",
          "height": 378,
          "referenced_widgets": [
            "57a71be2803446d7b084149fcd4aef84",
            "68c219df1a3140d99a2fa31ca3f4ae7c",
            "f3124ac51c094f1db6456ca2101d8b5c",
            "730c73c180194fe39131aff75bba38f2",
            "66d020dc34d149ae85f00d27a98295fc",
            "5e05dfa9608e4053881d708b747cada7",
            "0637cfb9f8b7486e9809ec16c5f8c5d6",
            "d83bb1c98c3d43558acee54fb9238fb6",
            "948f89d705d5413f8a2142d6d69583bd",
            "101c69e3e5c9486d88bf8d39c1208257",
            "518660937e8143d19b20a85a3e56f259",
            "2dc86927d4f544248e8dbcb75c36f319",
            "e8311cf37b324783999772ba82204607"
          ]
        },
        "id": "p-e8XTgnsSgC",
        "outputId": "09af3d5c-7a6a-4d6f-fadc-2538cd2c9349"
      },
      "execution_count": 67,
      "outputs": [
        {
          "output_type": "display_data",
          "data": {
            "application/vnd.jupyter.widget-view+json": {
              "model_id": "57a71be2803446d7b084149fcd4aef84",
              "version_minor": 0,
              "version_major": 2
            },
            "text/plain": [
              "interactive(children=(IntSlider(value=2, description='bianche', max=5, min=1), IntSlider(value=3, description=…"
            ]
          },
          "metadata": {}
        }
      ]
    },
    {
      "cell_type": "markdown",
      "source": [
        "Quello appena visto è un esempio di _densità geometrica modificata_ che scriveremo come T ∼ Ḡ(_p_).\n",
        "\n",
        "Quando si parla di densità geometrica modificata? \n",
        "\n",
        "Si consideri uno schema successo-insuccesso con ripetizioni e prendiamo in esame la variabile T data dal tempo di primo successo. \n",
        "Se chiamiamo _Xi_ le variabili _B_(1, _p_) date da _Xi_ = 1 se l’i-esimo tentativo dà successo e _Xi_  = 0 altrimenti abbiamo come densità\n",
        "\n",
        "\\begin{equation}\n",
        "  px(k) =\n",
        "    \\begin{cases}\n",
        "          p(1-p)^{k-1} \\ se \\ k=1,2,3,...\n",
        "          \\\\\n",
        "          0 \\ altrimenti\n",
        "        \\end{cases}\n",
        "\\end{equation}"
      ],
      "metadata": {
        "id": "u9PHD5qa-xdK"
      }
    },
    {
      "cell_type": "markdown",
      "source": [
        "##Esempio 5.3\n",
        "\n",
        "Si lancino simultaneamente due dadi, uno rosso e uno blu. Ripetiamo questo\n",
        "esperimento finchè non otteniamo due 6. \n",
        "\n",
        "Poniamo X = primo lancio in cui il dado rosso ha dato 6,\n",
        "Y = primo lancio in cui il dado blu ha dato 6.\n",
        "\n",
        "\n",
        "Determinare inoltre la probabilità di ottenere 6 con il dado rosso prima di ottenere 6 con il dado blu.\n",
        "\n",
        "Abbiamo\n",
        "\n",
        "\\begin{equation}\n",
        "  1 = P(X < Y) + P(X > Y) + P(X = Y)\n",
        "\\end{equation}\n",
        "\n",
        "\\\\\n",
        "e chiaramente per simmetria del problema _P_(_X_ < _Y_) = _P_(_X_ > _Y_) da cui\n",
        "\n",
        "\\\\\n",
        "\n",
        "\\begin{equation}\n",
        "  P(X < Y)= \\frac {1-P(X = Y)}{2}\n",
        "\\end{equation}\n",
        "\n",
        "Ci basterà calcolare quindi _P_(_X_ =_Y_):\n",
        "\n",
        "\\\\\n",
        "\n",
        "\\begin{equation}\n",
        "  P(X = Y) = \\sum_{k=1}^\\infty P(X = Y = k) = \\sum_{k=1}^\\infty (\\frac{25}{36})^{k-1}·\\frac{1}{36} = \\frac{1}{1-\\frac{25}{36}}·\\frac{1}{36} = \\frac{1}{11}\n",
        "\\end{equation}\n",
        "\n",
        "\n",
        "dove abbiamo ancora utilizzato la somma di una serie geometrica, e quindi\n",
        "\n",
        "\\\\\n",
        "\n",
        "\\begin{equation}\n",
        "  P(X < Y) = \\frac{5}{11}\n",
        "\\end{equation}\n"
      ],
      "metadata": {
        "id": "yQRcoTTQmPxD"
      }
    },
    {
      "cell_type": "code",
      "source": [
        "def es53():\n",
        "  num = 6\n",
        "  results = []\n",
        "  for i in range(precisione):\n",
        "    a, b = 0, 0\n",
        "    while a != num and b != num:\n",
        "      a, b = trow(), trow() \n",
        "      if a == num:\n",
        "        if b == num:\n",
        "          results.append(0)\n",
        "        else:\n",
        "          results.append(1)\n",
        "      if b == num:\n",
        "        results.append(2)  \n",
        "  #grafico\n",
        "  labels = []\n",
        "  normalized = []\n",
        "  myexplode = [0, 0.2, 0]\n",
        "  for i in range(len(set(results)) - 1): #len(set(n)) torna il numero di risultati distinti presenti in results\n",
        "    normalized.append(round(((results.count(i) / precisione) * 100), 2)) #conto le istanze dei risultati e le normalizzo\n",
        "  normalized.append(round(100 - sum(normalized), 2)) #per evitare che per errori di arrotondamento la somma dei risultati sia 99.9%, l'ultimo risultato lo calcolo come 100 - (la somma dei precedenti)\n",
        "  for i in range(len(normalized)):\n",
        "    labels.append(str(normalized[i]) + \"%\") # aggiungo le labels (i valori riportati all'esterno del grafico)\n",
        "\n",
        "  teoria = [1/11, 5/11, 5/11]\n",
        "  lab_teoria = [\"9.09%\", \"45.45%\", \"45.45%\"]\n",
        "\n",
        "  f, (ax1, ax2) = plt.subplots(1, 2)\n",
        "  ax1.pie(normalized, labels=labels,explode=myexplode, colors=[\"green\", \"red\", \"blue\"], shadow=True)\n",
        "  ax1.set_title(\"Risultati ottenuti\")\n",
        "  ax2.pie(teoria, labels=lab_teoria,explode=myexplode, colors=[\"green\", \"red\", \"blue\"], shadow=True)\n",
        "  ax2.set_title(\"Risultati attesi\")\n",
        "  \n",
        "  legenda = [\"X=Y\", \"X<Y\", \"X>Y\"]\n",
        "  ax1.legend(legenda,loc='upper left', bbox_to_anchor=(0.5, -0.05), fancybox=True, shadow=True, ncol=5)\n",
        "\n",
        "es53()"
      ],
      "metadata": {
        "colab": {
          "base_uri": "https://localhost:8080/",
          "height": 230
        },
        "id": "6P-rc7pzfODB",
        "outputId": "1341b7f2-4783-4f9b-abe0-551136ab2c05"
      },
      "execution_count": 68,
      "outputs": [
        {
          "output_type": "display_data",
          "data": {
            "image/png": "[encoded data removed]",
            "text/plain": [
              "<Figure size 432x288 with 2 Axes>"
            ]
          },
          "metadata": {}
        }
      ]
    },
    {
      "cell_type": "markdown",
      "source": [
        "#Densità di Poisson"
      ],
      "metadata": {
        "id": "hPfoVQ4tzLLR"
      }
    },
    {
      "cell_type": "markdown",
      "source": [
        "Se consideriamo una variabile binomiale _X_ ∼ _B_(_n_, _p_) in cui il numero _n_ di tentativi è molto grande e il parametro _p_ molto piccolo fare i conti con la densità binomiale risulta essere computazionalmente dispendioso. \n",
        "\n",
        "Facciamo un esempio:"
      ],
      "metadata": {
        "id": "7WQ9L3IXzNQo"
      }
    },
    {
      "cell_type": "markdown",
      "source": [
        "##Esempio 6.1\n",
        "\n",
        "Supponiamo che in una città nascano 10 000 bambini ogni anno e che ci\n",
        "sia una malattia rara che colpisce un bambino su 2 mila. Qual è la probabilità che quest’anno nascano più di 5 bambini affetti da questa malattia? \n",
        "\n",
        "La variabile _X_ = ”numero di bambini nati con questa malattia quest’anno” è una variabile binomiale _X_ = _B_($10^4$, $\\frac{1}{2000}$). Tuttavia se\n",
        "proviamo ad effettuare il calcolo _P_(_X_ > 5), anche se abbiamo una formula esatta per effettuarlo, è inevitabilmente molto complesso.\n"
      ],
      "metadata": {
        "id": "VD0JenT7zaOx"
      }
    },
    {
      "cell_type": "markdown",
      "source": [
        "Per risolvere questo tipo di problema introduciamo la seguente\n",
        "\n",
        "\\\\\n",
        "\\begin{equation}\n",
        "  p(k) =\n",
        "    \\begin{cases}\n",
        "          e^{-λ} \\frac{λ^k}{k!} \\ se \\ k=0,1,2,...\n",
        "          \\\\\n",
        "          0 \\ altrimenti\n",
        "        \\end{cases}\n",
        "\\end{equation}\n",
        "\n",
        "\\\\\n",
        "\n",
        "dove λ è un parametro reale strettamente positivo."
      ],
      "metadata": {
        "id": "-07DvPlK0SRP"
      }
    },
    {
      "cell_type": "markdown",
      "source": [
        "Nel nostro esempio possiamo pensare alla variabile _X_ come ad una variabile di Poisson di parametro 5. \n",
        "\n",
        "Otteniamo:\n",
        "\n",
        "\\begin{equation}\n",
        "  P(X > 5) = 1 − P(X = 0) − P(X = 1) − P(X = 2) − P(X = 3) − P(X = 4) \n",
        "  \\\\\n",
        "  = 1 − e^{−5}(1 + 5 + \\frac{25}{2} + \\frac{125}{6} + \\frac{625}{24} + \\frac{3125}{120}) = 0, 384.\n",
        "\\end{equation}"
      ],
      "metadata": {
        "id": "fHA5WLXr2VKr"
      }
    },
    {
      "cell_type": "markdown",
      "source": [
        "Nella simulazione riportata sono simulati 100 anni, ripetendo l'esperimento si aggiungono i risultati dei test successivi e si può osservare come il grafico dei risultati ottenuti si avvicini a quello dei risultati attesi."
      ],
      "metadata": {
        "id": "aQ3YUomoewtG"
      }
    },
    {
      "cell_type": "code",
      "source": [
        "res_poisson = []"
      ],
      "metadata": {
        "id": "niF9fNy-AGHk"
      },
      "execution_count": 69,
      "outputs": []
    },
    {
      "cell_type": "code",
      "source": [
        "def es61():\n",
        "  bambini = 10_000\n",
        "  malattia = 2_000\n",
        "  for i in range(100):\n",
        "    count = 0\n",
        "    for i in range(bambini):\n",
        "      if np.random.randint(malattia) == 1:\n",
        "        count = count + 1\n",
        "    res_poisson.append(count)\n",
        "\n",
        "  #grafico risultati\n",
        "  labels = []\n",
        "  set_res = list(set(res_poisson))\n",
        "  normalized = []\n",
        "  for i in set_res: \n",
        "    normalized.append(round(((res_poisson.count(i) / len(res_poisson)) * 100), 2))\n",
        "    labels.append(str(i+1)) \n",
        " \n",
        "  #grafico teorico\n",
        "  teoria = []\n",
        "  lam = bambini / malattia\n",
        "  for i in set_res:\n",
        "    teoria.append((math.e**-lam)*((lam**i)/math.factorial(i)) * 100)\n",
        "\n",
        "  lab_arr = np.arange(len(labels))\n",
        "\n",
        "  w=0.4\n",
        "  plt.bar(lab_arr-(w/2), normalized, width=w)\n",
        "  plt.bar(lab_arr+(w/2), teoria, width=w)\n",
        "\n",
        "  legenda = [\"Risultati ottenuti\", \"Risultati attesi\"]\n",
        "  plt.legend(legenda,loc='upper center', bbox_to_anchor=(0.5, -0.05), fancybox=True, shadow=True, ncol=5)\n",
        "  print(\"Anni simulati: \" + str(len(res_poisson)))"
      ],
      "metadata": {
        "id": "L8XSvxDZMGZe"
      },
      "execution_count": 70,
      "outputs": []
    },
    {
      "cell_type": "code",
      "source": [
        "es61()"
      ],
      "metadata": {
        "id": "H4CjxxyZ7Rxc",
        "colab": {
          "base_uri": "https://localhost:8080/",
          "height": 299
        },
        "outputId": "10ca8447-2334-46de-849b-c2173aca1c1f"
      },
      "execution_count": 71,
      "outputs": [
        {
          "output_type": "stream",
          "name": "stdout",
          "text": [
            "Anni simulati: 100\n"
          ]
        },
        {
          "output_type": "display_data",
          "data": {
            "image/png": "[encoded data removed]",
            "text/plain": [
              "<Figure size 432x288 with 1 Axes>"
            ]
          },
          "metadata": {
            "needs_background": "light"
          }
        }
      ]
    },
    {
      "cell_type": "markdown",
      "source": [
        "#Densità continua uniforme"
      ],
      "metadata": {
        "id": "2HvnAmIq9-iV"
      }
    },
    {
      "cell_type": "markdown",
      "source": [
        "La variabile continua più semplice da studiare è quella che può assumere solo valori in un certo intervallo limitato e in modo ”uniforme”."
      ],
      "metadata": {
        "id": "q-CPgnYeAXnr"
      }
    },
    {
      "cell_type": "markdown",
      "source": [
        "## Esempio 7.1\n",
        "\n",
        "Un autobus passa da una fermata ogni 10 minuti. Noi arriviamo alla fermata in un momento casuale, chiamiamo T la variabile del tempo d'attesa che assume valori tra 0 e 10 minuti. Mediamente, quanto dovrò aspettare?\n",
        "\n",
        "Iniziamo prendendo l'autobus un po' di volte tenendo uno storico dei tempi di attesa:"
      ],
      "metadata": {
        "id": "AFabxKb1Ar4F"
      }
    },
    {
      "cell_type": "code",
      "source": [
        "uniforme = []\n",
        "tempo = 10\n",
        "for i in range(precisione):\n",
        "  uniforme.append(random.uniform(0, tempo))"
      ],
      "metadata": {
        "id": "A4ckSSdzDloY"
      },
      "execution_count": 72,
      "outputs": []
    },
    {
      "cell_type": "code",
      "source": [
        "#funzione che calcola il valore di x in ogni punto (densità continua uniforme)\n",
        "def densita(x, a, b):\n",
        "  res = []\n",
        "  for i in x:\n",
        "    if i < a:\n",
        "      res.append(0)\n",
        "    elif i > b:\n",
        "      res.append(0)\n",
        "    else:\n",
        "      res.append(1 / (b - a))\n",
        "  return res"
      ],
      "metadata": {
        "id": "G_5JWNvfHgIA"
      },
      "execution_count": 73,
      "outputs": []
    },
    {
      "cell_type": "markdown",
      "source": [
        "E mettiamo a grafico i risultati ottenuti"
      ],
      "metadata": {
        "id": "LfkzQQAmE_XV"
      }
    },
    {
      "cell_type": "code",
      "source": [
        "def es71():\n",
        "  points = (tempo + 2) * 10\n",
        "  \n",
        "  x = np.linspace(-1, tempo+1, points)\n",
        "\n",
        "  coord = []\n",
        "  for i in range(points):\n",
        "    count = 0\n",
        "    for item in uniforme:\n",
        "      if (item > -1 + (((tempo+2)/points)*i) and item <= -1 + (((tempo+2)/points)*(i+1))):\n",
        "        count = count + 1\n",
        "    coord.append((count / precisione) * (points / (tempo + 2)))\n",
        "  \n",
        "  p1 = plt.figure(1)\n",
        "  ax = plt.axes()\n",
        "  ax.plot(x, densita(x, 0, tempo))\n",
        "  ax.set_title(\"Risultati attesi\")\n",
        "  p1.show()\n",
        "  p2 = plt.figure(2)\n",
        "  ax = plt.axes()\n",
        "  ax.plot(x, coord)\n",
        "  ax.set_title(\"Risultati ottenuti\")\n",
        "  p2.show() \n",
        "  p3 = plt.figure(2)\n",
        "  sns.displot(uniforme, kind=\"ecdf\").set(title=\"Ripartizione\")\n",
        "  p3.show() \n",
        "es71()"
      ],
      "metadata": {
        "colab": {
          "base_uri": "https://localhost:8080/",
          "height": 909
        },
        "id": "E_CdpJ9ENKE3",
        "outputId": "a64b7410-f754-4670-9d93-fcb030efb08a"
      },
      "execution_count": 74,
      "outputs": [
        {
          "output_type": "display_data",
          "data": {
            "image/png": "[encoded data removed]",
            "text/plain": [
              "<Figure size 432x288 with 1 Axes>"
            ]
          },
          "metadata": {
            "needs_background": "light"
          }
        },
        {
          "output_type": "display_data",
          "data": {
            "image/png": "[encoded data removed]",
            "text/plain": [
              "<Figure size 432x288 with 1 Axes>"
            ]
          },
          "metadata": {
            "needs_background": "light"
          }
        },
        {
          "output_type": "display_data",
          "data": {
            "image/png": "[encoded data removed]",
            "text/plain": [
              "<Figure size 360x360 with 1 Axes>"
            ]
          },
          "metadata": {
            "needs_background": "light"
          }
        }
      ]
    },
    {
      "cell_type": "markdown",
      "source": [
        "Per quanto riguarda la soluzione il valore atteso invece ci basta sapere che il valore atteso di una variabile uniforme è il punto medio dell'intervallo: 5 minuti."
      ],
      "metadata": {
        "id": "CO8fDJK3MDBv"
      }
    },
    {
      "cell_type": "code",
      "source": [
        "@interact_manual(tempo=(1, 20))\n",
        "def es71(tempo = 10):\n",
        "  results = []\n",
        "  for i in range(precisione):\n",
        "    results.append(random.uniform(0, tempo))\n",
        "  return round(np.mean(results), 2)"
      ],
      "metadata": {
        "colab": {
          "base_uri": "https://localhost:8080/",
          "height": 81,
          "referenced_widgets": [
            "b017a4c6aa2641d2bba192e044900af1",
            "05f42866fcb741438bd76a763cc6a12f",
            "bb9502357bfc4b578d20482e4d947169",
            "2d06b9c4ee9b4631b5e2c4679b4bab72",
            "8dfc5602336f4fdbae220c111b9115b0",
            "df137e4a9a0f429b8c26860b2b765816",
            "5b7d121420a74cddbd19864bd13de697",
            "1a78dec1d62b4aae9d749fa1fa3f856e",
            "efc69b9e9c344baf867cb573eed09a69",
            "c8d11d0e004c41ccaaecc57c881cd490"
          ]
        },
        "id": "jG0a0YfTMiZi",
        "outputId": "bbbba443-c614-49f1-d322-625abae595f9"
      },
      "execution_count": 75,
      "outputs": [
        {
          "output_type": "display_data",
          "data": {
            "application/vnd.jupyter.widget-view+json": {
              "model_id": "b017a4c6aa2641d2bba192e044900af1",
              "version_minor": 0,
              "version_major": 2
            },
            "text/plain": [
              "interactive(children=(IntSlider(value=10, description='tempo', max=20, min=1), Button(description='Run Interac…"
            ]
          },
          "metadata": {}
        }
      ]
    },
    {
      "cell_type": "markdown",
      "source": [
        "##Esercizio 7.2"
      ],
      "metadata": {
        "id": "suJKbVomvlw2"
      }
    },
    {
      "cell_type": "markdown",
      "source": [
        "Continuiamo con l'esempio del bus ma questa volta ci interessa sapere la probabilità che arrivi in un certo intervallo di tempo"
      ],
      "metadata": {
        "id": "Fr271Olzv2DY"
      }
    },
    {
      "cell_type": "code",
      "source": [
        "@interact_manual(a=(0, 10), b=(0, 10))\n",
        "def es72(a = 4, b = 6):\n",
        "  if a > b:\n",
        "    return (\"Intervallo non valido\")\n",
        "\n",
        "  unif1 = [x for x in uniforme if x >= a and x <= b]\n",
        "  \n",
        "  points = (tempo + 2) * 10\n",
        "\n",
        "  x = np.linspace(-1, tempo+1, points)\n",
        "\n",
        "  coord = []\n",
        "  for i in range(points):\n",
        "    count = 0\n",
        "    for item in uniforme:\n",
        "      if (item > -1 + (((tempo+2)/points)*i) and item <= -1 + (((tempo+2)/points)*(i+1))):\n",
        "        count = count + 1\n",
        "    coord.append((count / precisione) * (points / (tempo + 2)))\n",
        "\n",
        "  coord2 = []\n",
        "  for i in range(points):\n",
        "    count = 0\n",
        "    for item in unif1:\n",
        "      if (item > -1 + (((tempo+2)/points)*i) and item <= -1 + (((tempo+2)/points)*(i+1))):\n",
        "        count = count + 1\n",
        "    coord2.append((count / precisione) * (points / (tempo + 2)))\n",
        "\n",
        "  plt.plot(x, coord)\n",
        "  plt.fill_betweenx(coord2, x, alpha=0.30)\n",
        "  \n",
        "  ris1 = round((b-a) / tempo, 3)\n",
        "  print(\"Risultati attesi: \" + str(ris1))\n",
        "  ris2 = round(len(unif1) / precisione, 3)\n",
        "  print(\"Risultati ottenuti: \" + str(ris2))"
      ],
      "metadata": {
        "id": "0Gfo7zOovTuG",
        "outputId": "692990a4-04c7-42d1-e155-3035404837e2",
        "colab": {
          "base_uri": "https://localhost:8080/",
          "height": 113,
          "referenced_widgets": [
            "68f63bf5ac854191ae4471c2c0e56cde",
            "f79565ea405b4462ba700cf029a5b8a9",
            "a0815e28c9814463a9b98c5e80cbe9a2",
            "36c276eb9fb74dfc9c370409b29158a6",
            "e1ec271ec6fe45d684d6fab5f8060f10",
            "cf7587918d3149c8b8610e60dc693d45",
            "0bc01d845f0544138832e4cde14f1804",
            "37a74382edba45ba8b9b6866958c2219",
            "36582342b406454792525b23b2e9f1a6",
            "f377be92c02641f89b6097928f6430ab",
            "152744ea911b488fb665b8262fab0d95",
            "67f0795348ba4446b6fe2eb4df78ef23",
            "f55507b1cc584f50aaf09f7fc3294255"
          ]
        }
      },
      "execution_count": 76,
      "outputs": [
        {
          "output_type": "display_data",
          "data": {
            "application/vnd.jupyter.widget-view+json": {
              "model_id": "68f63bf5ac854191ae4471c2c0e56cde",
              "version_minor": 0,
              "version_major": 2
            },
            "text/plain": [
              "interactive(children=(IntSlider(value=4, description='a', max=10), IntSlider(value=6, description='b', max=10)…"
            ]
          },
          "metadata": {}
        }
      ]
    },
    {
      "cell_type": "markdown",
      "source": [
        "#Densità continua esponenziale"
      ],
      "metadata": {
        "id": "KzWvYabHHMQp"
      }
    },
    {
      "cell_type": "markdown",
      "source": [
        "Fissiamo un parametro _λ_ e ricordiamo che una primitiva della funzione $e^{−λt}$ è data da -$\\frac{1}{λ}e^{−λt}$ da cui abbiamo che:\n",
        "\n",
        "\\begin{equation}\n",
        "  \\int_{0}^{+ \\infty} e^{-λt} \\,dt = \\frac{1}{λ} \n",
        "\\end{equation}\n",
        "\n",
        "Proposizione:\n",
        "\n",
        "\\begin{equation}\n",
        "  f(s) =\n",
        "    \\begin{cases}\n",
        "          λ e^{-λs} \\ se \\ s \\geq 0\n",
        "          \\\\\n",
        "          0 \\ altrimenti\n",
        "        \\end{cases}\n",
        "\\end{equation}\n",
        "\n",
        "dove _λ_ è un parametro positivo con densità continua astratta.\n",
        "\n",
        "Una variabile _X_ che ammette tale densità si dice esponenziale di parametro _λ_ e scriveremo _X_ ∼ Exp(_λ_). Lo stesso calcolo mostra che la funzione di ripartizione di una variabile _X_ ∼ Exp(_λ_) è data da\n",
        "\n",
        "\\begin{equation}\n",
        "  Fx(t) =\n",
        "    \\begin{cases}\n",
        "          1-e^{-λt} \\ se \\ t \\ge 0\n",
        "          \\\\\n",
        "          0 \\ \\ \\ \\ \\ \\ \\ \\ \\ \\ \\ \\ \\ se \\ t \\le 0\n",
        "        \\end{cases}\n",
        "\\end{equation}"
      ],
      "metadata": {
        "id": "kDn_33f8UA9S"
      }
    },
    {
      "cell_type": "markdown",
      "source": [
        "##Esempio 8.1\n",
        "\n",
        "Il decadimento di una particella radioattiva segue una legge esponenziale di parametro λ = 1 (in giorni).\n",
        "\n",
        "Qual è la probabilità che dopo 3 ore sia già decaduta?"
      ],
      "metadata": {
        "id": "vdltBTAzbjNQ"
      }
    },
    {
      "cell_type": "markdown",
      "source": [
        "Usando un cambio di variabile simuliamo un set di valori di una variabile esponenziale con parametro _λ_ = 1 "
      ],
      "metadata": {
        "id": "KXHsGg67--dB"
      }
    },
    {
      "cell_type": "code",
      "source": [
        "exp = []\n",
        "for i in range(precisione):\n",
        "  exp.append(-math.log(random.uniform(0, 1)))"
      ],
      "metadata": {
        "id": "GrAEx7n-2V-2"
      },
      "execution_count": 77,
      "outputs": []
    },
    {
      "cell_type": "markdown",
      "source": [
        "E ne grafichiamo la densità e la partizione "
      ],
      "metadata": {
        "id": "xP2yQ4p9ACry"
      }
    },
    {
      "cell_type": "code",
      "source": [
        "def exp_plot():\n",
        "  points = 130\n",
        "  space = 6\n",
        "\n",
        "  x = np.linspace(-1, space - 1, points)\n",
        "\n",
        "  coord = []\n",
        "  for i in range(points):\n",
        "    count = 0\n",
        "    for item in exp:\n",
        "      if (item > -1 + (((space)/points)*i) and item <= -1 + (((space)/points)*(i+1))):\n",
        "        count = count + 1\n",
        "    coord.append((count / precisione) * (points / (space)))\n",
        "  \n",
        "  sns.displot(exp, kind=\"ecdf\")\n",
        "  plt.plot(x, coord)\n",
        "  plt.xlim(-1, 4)\n",
        "  plt.title(\"Densità e ripartizione della variabile in esame\")\n",
        "\n",
        "  legenda = [\"Funzione di ripartizione\", \"Densità\"]\n",
        "  plt.legend(legenda,loc='upper center', bbox_to_anchor=(0.5, -0.05), fancybox=True, shadow=True, ncol=5)\n",
        "\n",
        "exp_plot()"
      ],
      "metadata": {
        "colab": {
          "base_uri": "https://localhost:8080/",
          "height": 403
        },
        "id": "o6Bmu5FDMOPV",
        "outputId": "4753f69f-a839-44ce-e859-efd349b5cef6"
      },
      "execution_count": 78,
      "outputs": [
        {
          "output_type": "display_data",
          "data": {
            "image/png": "[encoded data removed]",
            "text/plain": [
              "<Figure size 360x360 with 1 Axes>"
            ]
          },
          "metadata": {
            "needs_background": "light"
          }
        }
      ]
    },
    {
      "cell_type": "markdown",
      "source": [
        "Tornando alla domanda iniziale, contiamo quante volte abbiamo ottenuto un tempo minore di 3 ore e confrontiamolo coi risultati attesi dalla teoria."
      ],
      "metadata": {
        "id": "MrVxuxXhB-Dh"
      }
    },
    {
      "cell_type": "code",
      "source": [
        "@interact_manual(ore=(0, 72))\n",
        "def es81(ore = 3):\n",
        "  count = 0\n",
        "  for item in exp:\n",
        "    if (item * 24) <= ore:\n",
        "      count = count + 1\n",
        "  print(\"Risultati ottenuti: \" + str(round(count / precisione, 3)))\n",
        "  res = 1 - (math.e**(-1 * (ore / 24)))\n",
        "  print(\"Risultati attesi: \" + str(round(res, 3)))"
      ],
      "metadata": {
        "colab": {
          "base_uri": "https://localhost:8080/",
          "height": 116,
          "referenced_widgets": [
            "7eaf592e188c4e019da334b20649f4ff",
            "f845da584fa6406ab99a52c2f975ae32",
            "928be51dfc234bbaa95619ba13149d8d",
            "7cc05bc638fc4a5b96e5509f99d1ea75",
            "514bd33ccb5e442e8eaf2452a76cf565",
            "b15a8a4a78c14502a37c00a821c7b07c",
            "953b6eddb0b44acabfacb51178944ed9",
            "9943810524bd40ccb5f0420b8e8e3003",
            "bba35795c8744af18ae5b04dc545f1b0",
            "6e52579954354046ba582deeb98f8080"
          ]
        },
        "id": "-nLD7XugV7iy",
        "outputId": "0d447c05-29ad-4523-b990-71bc0a7e18d4"
      },
      "execution_count": 79,
      "outputs": [
        {
          "output_type": "display_data",
          "data": {
            "application/vnd.jupyter.widget-view+json": {
              "model_id": "7eaf592e188c4e019da334b20649f4ff",
              "version_minor": 0,
              "version_major": 2
            },
            "text/plain": [
              "interactive(children=(IntSlider(value=3, description='ore', max=72), Button(description='Run Interact', style=…"
            ]
          },
          "metadata": {}
        }
      ]
    },
    {
      "cell_type": "markdown",
      "source": [
        "Fin'ora abbiamo visto variabili esponenziali aventi _λ_ = 1, il caso base. Vediamo ora lo stesso esempio ma questa volta il tempo di decadimento della particella è segue una legge esponenziale di parametro _λ_ ≠ 1.\n",
        "\n",
        "Iniziamo vedendone il grafico della densità:"
      ],
      "metadata": {
        "id": "z8484TUNFyqT"
      }
    },
    {
      "cell_type": "code",
      "source": [
        "@interact_manual(λ=(2, 10))\n",
        "def exp_test(λ=2):\n",
        "  lamb = λ\n",
        "\n",
        "  test = []\n",
        "  for i in range(precisione):\n",
        "    test.append((-1/(lamb))*math.log(random.uniform(0, 1)))\n",
        "\n",
        "  b = max(test)/3\n",
        "  a = -b/10\n",
        "  points = 100\n",
        "  x = np.linspace(a, b, points)\n",
        "\n",
        "  coord = []\n",
        "  for i in range(points):\n",
        "    count = 0\n",
        "    for item in test:\n",
        "      if (item > a + (((abs(a) + b)/points)*i)) and (item <= a + (((abs(a) + b)/points)*(i+1))):\n",
        "        count = count + 1\n",
        "    coord.append((count / precisione) * (points / (abs(a) + b)))\n",
        "\n",
        "  plt.plot(x, coord)"
      ],
      "metadata": {
        "colab": {
          "base_uri": "https://localhost:8080/",
          "height": 81,
          "referenced_widgets": [
            "7b228727e8f54ce1a2f6ee8d6343dabd",
            "f62b585a401749bf858411dacd71ec6b",
            "6a000b5ce70e4cbea6311d6c532a7f5c",
            "be62f8c43dc84dfebe5b607e23b8bffe",
            "9b303989e3534a35bb5212383d631da0",
            "90f0a60a204e4dfcab43593053bbd21c",
            "5ab7d1aee05443e3a10cad372a21113f",
            "472a47b730354de5b328ad2fcacf2e17",
            "5ea60ed493e44fd3a8211fd8a567ec42",
            "17c994f55f2e4208a5bcbe495fa269c1"
          ]
        },
        "id": "irnlB3MXGPPl",
        "outputId": "c098ff37-6e6f-4bb0-e125-482b3819bd51"
      },
      "execution_count": 80,
      "outputs": [
        {
          "output_type": "display_data",
          "data": {
            "application/vnd.jupyter.widget-view+json": {
              "model_id": "7b228727e8f54ce1a2f6ee8d6343dabd",
              "version_minor": 0,
              "version_major": 2
            },
            "text/plain": [
              "interactive(children=(IntSlider(value=2, description='λ', max=10, min=2), Button(description='Run Interact', s…"
            ]
          },
          "metadata": {}
        }
      ]
    },
    {
      "cell_type": "markdown",
      "source": [
        "E confrontiamo i risultati che abbiamo ottenuto con quelli attesi dalla teoria:"
      ],
      "metadata": {
        "id": "ySU20jIY7tkY"
      }
    },
    {
      "cell_type": "code",
      "source": [
        "@interact_manual(ore=(0, 72), λ=(2, 10))\n",
        "def exp_particella(ore = 10, λ = 2):\n",
        "  test = []\n",
        "  for i in range(precisione):\n",
        "    test.append((-1/λ)*math.log(random.uniform(0, 1)))\n",
        "  count = 0\n",
        "  for item in test:\n",
        "    if (item * 24) <= ore:\n",
        "      count = count + 1\n",
        "  print(\"Risultati ottenuti: \" + str(round(count / precisione, 3)))\n",
        "  res = 1 - (math.e**(-(λ * (ore / 24))))\n",
        "  print(\"Risultati attesi: \" + str(round(res, 3)))"
      ],
      "metadata": {
        "colab": {
          "base_uri": "https://localhost:8080/",
          "height": 148,
          "referenced_widgets": [
            "c31959c6fea944dcb23dea28db9ec272",
            "05927a26477945f8bbd0826e64f0040d",
            "1b90fce06e7a49bb9e63598be98a5d50",
            "bac8499a63a54af4aecc907b40bb00e7",
            "801fc996761641b5b8ea5ceae377c2b9",
            "dd5e453e29c74832950aea8b28c0ca35",
            "6ccf4016310e4cfe8a7255546e39bb9d",
            "b5426fef08544f7bb70e4315330af089",
            "7d017ebb47a94e25ad53be8087a4e94c",
            "50bb7919442e4a19982e40e9c6fc17c3",
            "a14cb43f6bd8477fbd23e21dc3da6f21",
            "4affa58246364682917a0f92d032b39d",
            "11a2e5155dcd45318d33b48b24823e17"
          ]
        },
        "id": "lew-nKK9KlQ0",
        "outputId": "2a9e8008-48a7-4cb5-e983-fc78aacd2265"
      },
      "execution_count": 81,
      "outputs": [
        {
          "output_type": "display_data",
          "data": {
            "application/vnd.jupyter.widget-view+json": {
              "model_id": "c31959c6fea944dcb23dea28db9ec272",
              "version_minor": 0,
              "version_major": 2
            },
            "text/plain": [
              "interactive(children=(IntSlider(value=10, description='ore', max=72), IntSlider(value=2, description='λ', max=…"
            ]
          },
          "metadata": {}
        }
      ]
    },
    {
      "cell_type": "markdown",
      "source": [
        "## Esercizio 8.2"
      ],
      "metadata": {
        "id": "QdEbzDc5JVI8"
      }
    },
    {
      "cell_type": "markdown",
      "source": [
        "Continuiamo con l'esempio della particella ma questa volta ci interessa sapere la probabilità decada in un certo intervallo di tempo"
      ],
      "metadata": {
        "id": "sxmUgXSeJcYJ"
      }
    },
    {
      "cell_type": "code",
      "source": [
        "@interact_manual(t1=(0, 96), t2=(0, 96))\n",
        "def es82(t1=3, t2=10):\n",
        "  if t1 > t2:\n",
        "    return (\"Intervallo non valido\")\n",
        "  \n",
        "  points = 325\n",
        "  tempo = 4.5\n",
        "  a = -0.5\n",
        "\n",
        "  x = np.linspace(a, tempo + a, points)\n",
        "  \n",
        "  exp1 = []\n",
        "  for i in range(precisione):\n",
        "    exp1.append(-math.log(random.uniform(0, 1)))\n",
        "\n",
        "  exp2 = [x for x in exp1 if x >= t1/24 and x <= t2/24]\n",
        "\n",
        "  coord = [0]\n",
        "  for i in range(points-1):\n",
        "    count = 0\n",
        "    for item in exp1:\n",
        "      if (item > a + (((tempo)/(points-1))*i) and item <= a + (((tempo)/(points-1))*(i+1))):\n",
        "        count = count + 1\n",
        "    coord.append((count / precisione) * ((points-1) / (tempo)))\n",
        "  \n",
        "  y = np.minimum(bounds(x, t1/24, t2/24), coord)\n",
        "  \n",
        "  ris1 = round((1 - (math.e**(-(t2 / 24)))) - (1 - (math.e**(-(t1 / 24)))), 3)\n",
        "  print(\"Risultati attesi: \" + str(ris1))\n",
        "  ris2 = round(len(exp2) / precisione, 3)\n",
        "  print(\"Risultati ottenuti: \" + str(ris2))\n",
        "\n",
        "  plt.plot(x, coord)\n",
        "  plt.fill_between(x, y, alpha=0.30)"
      ],
      "metadata": {
        "colab": {
          "base_uri": "https://localhost:8080/",
          "height": 113,
          "referenced_widgets": [
            "3ffff95d73624c11a79d5b439e3f5db6",
            "fd5b3d87ba0942cba65532048ed3518b",
            "8326ae10cda4486cb54ce56e1da34b0f",
            "850b69156d5a4709b6d909414b8a8c34",
            "b2ecf82ac92b4ef8ad062a243d02fb14",
            "8d41688fd9b14b4989de0eb0b3d27690",
            "3af10977d25049a5aa013a50f501e82c",
            "284852516fa44299bc85641998ed0e38",
            "e1608e88f05b4ee1a8e5312d448e020c",
            "ddaa1806a54346299354454288cb5189",
            "b48c391b4d3341318362df5b13ceebbc",
            "48e2190377684e3aa7b5e6f9aae4fc81",
            "09cd414fc1e045a88e8de887676f6642"
          ]
        },
        "id": "9jzvi4tr12nU",
        "outputId": "654d33cf-9a2c-465b-f831-ea0ee24d70b0"
      },
      "execution_count": 82,
      "outputs": [
        {
          "output_type": "display_data",
          "data": {
            "application/vnd.jupyter.widget-view+json": {
              "model_id": "3ffff95d73624c11a79d5b439e3f5db6",
              "version_minor": 0,
              "version_major": 2
            },
            "text/plain": [
              "interactive(children=(IntSlider(value=3, description='t1', max=96), IntSlider(value=10, description='t2', max=…"
            ]
          },
          "metadata": {}
        }
      ]
    },
    {
      "cell_type": "markdown",
      "source": [
        "#Densità continua normale"
      ],
      "metadata": {
        "id": "YEVrCLb-MTAW"
      }
    },
    {
      "cell_type": "markdown",
      "source": [
        "Passiamo ora a considerare quelle che sono probabilmente le variabili aleatorie continue più rilevanti.\n",
        "Si può dimostrare (e Gauss lo ha fatto per primo) che\n",
        "\n",
        "\\begin{equation}\n",
        "  \\int_{- \\infty}^{+ \\infty} e^{-{\\frac{x^2}{2}}} \\,dx = \\sqrt{2 \\pi} \n",
        "\\end{equation}\n",
        "\n",
        "Ne segue che la funzione\n",
        "\n",
        "\\begin{equation}\n",
        "  f(s)= \\frac{1}{\\sqrt{2 \\pi}}e^{-{\\frac{x^2}{2}}}\n",
        "\\end{equation}\n",
        "\n",
        "è una densità. Questa densità viene detta normale standard o gaussiana standard e se una variabile _X_ che ammette questa densità scriveremo\n",
        "\n",
        "\\begin{equation} \n",
        "  X ∼ N(0, 1)\n",
        "\\end{equation}"
      ],
      "metadata": {
        "id": "VLVgu8loMhhb"
      }
    },
    {
      "cell_type": "markdown",
      "source": [
        "Il primo parametro è la media, ovvero il valore medio della distribuzione. Il secondo è la deviazione standard.\n",
        "\n",
        "Di seguito vediamo i grafici della funzione di ripartizione e della densità di una normale al variare di media e deviazione standard:"
      ],
      "metadata": {
        "id": "G54eY3HAS3AM"
      }
    },
    {
      "cell_type": "code",
      "source": [
        "@interact(mean=(-5, 5), std_dev=(1, 5))\n",
        "def std_norm(mean = 0, std_dev = 1):\n",
        "  a = -10\n",
        "  x = np.linspace(a, abs(a), 100)\n",
        "  dnd = []\n",
        "  for i in x:\n",
        "    dnd.append(scipy.stats.norm(mean, std_dev).pdf(i))\n",
        "  plt.plot(x, dnd)\n",
        "  legenda = [\"Densità\"]\n",
        "  plt.legend(legenda,loc='upper center', bbox_to_anchor=(0.5, -0.05), fancybox=True, shadow=True, ncol=5)"
      ],
      "metadata": {
        "id": "9eK-dNsZTJ3L",
        "colab": {
          "base_uri": "https://localhost:8080/",
          "height": 346,
          "referenced_widgets": [
            "de42c9fd9a89426595f843becbc57190",
            "53efdb32b663467f86c590a032df560a",
            "36d09e444a1f470c831c82a47bad4e89",
            "53dc0fed575a486a982e0a6335dad13d",
            "1cd8a583c4dd483493aa6d809053295e",
            "bfd1bb527b61447c99548927aa91a66f",
            "b886d768db594c33b80abfb787f1e5fd",
            "14b0acd5405b40aa87737e8ffe9ac1db",
            "45d605efab934f81b69c90094c3c9a8a",
            "6e5f054ee5c443eb904b1fc1771f42d4"
          ]
        },
        "outputId": "809ecc4c-3837-45d7-9b6f-b155127eb3a5"
      },
      "execution_count": 83,
      "outputs": [
        {
          "output_type": "display_data",
          "data": {
            "application/vnd.jupyter.widget-view+json": {
              "model_id": "de42c9fd9a89426595f843becbc57190",
              "version_minor": 0,
              "version_major": 2
            },
            "text/plain": [
              "interactive(children=(IntSlider(value=0, description='mean', max=5, min=-5), IntSlider(value=1, description='s…"
            ]
          },
          "metadata": {}
        }
      ]
    },
    {
      "cell_type": "code",
      "source": [
        "@interact(mean=(-5, 5), std_dev=(1, 5))\n",
        "def std_norm(mean = 0, std_dev = 1):\n",
        "  a = -10\n",
        "  x = np.linspace(a, abs(a), 100)\n",
        "  pnd = []\n",
        "  for i in x:\n",
        "    pnd.append(scipy.stats.norm(mean, std_dev).cdf(i))\n",
        "  plt.plot(x, pnd)\n",
        "  legenda = [\"Funzione di ripartizione\"]\n",
        "  plt.legend(legenda,loc='upper center', bbox_to_anchor=(0.5, -0.05), fancybox=True, shadow=True, ncol=5)"
      ],
      "metadata": {
        "colab": {
          "base_uri": "https://localhost:8080/",
          "height": 346,
          "referenced_widgets": [
            "f7425df6e1ec423fb951f3bad9e804b1",
            "5080ec3003724c6491eafc867f6b3236",
            "a1024aae30744ec78dbee7e513978836",
            "648b089f248e4793ae2480a584dfa3d1",
            "debd9677beb94864b7b0f84c13b0d3e9",
            "ea3868eec74d4d7390748dc565e63b54",
            "fab97a62a82345a08ee8057038d970f3",
            "83b19faab52d4096be40fb4a021c4bde",
            "4ddc7e931634440e88fa1cef6fe42d61",
            "68ffd91c4e1641f29d84c385109e8590"
          ]
        },
        "id": "vZtFsBexR7UQ",
        "outputId": "d08ee7d3-e6b6-49f0-ad36-5cda09a9e606"
      },
      "execution_count": 84,
      "outputs": [
        {
          "output_type": "display_data",
          "data": {
            "application/vnd.jupyter.widget-view+json": {
              "model_id": "f7425df6e1ec423fb951f3bad9e804b1",
              "version_minor": 0,
              "version_major": 2
            },
            "text/plain": [
              "interactive(children=(IntSlider(value=0, description='mean', max=5, min=-5), IntSlider(value=1, description='s…"
            ]
          },
          "metadata": {}
        }
      ]
    },
    {
      "cell_type": "markdown",
      "source": [
        "## Esempio 9.1"
      ],
      "metadata": {
        "id": "0WalWbwgLNDx"
      }
    },
    {
      "cell_type": "markdown",
      "source": [
        "Sia _X_ una variabile continua normale standard, determinare la probabilità che _X_ assuma un valore minore di 1."
      ],
      "metadata": {
        "id": "NLO8PiezLS_N"
      }
    },
    {
      "cell_type": "code",
      "source": [
        "def bounds(x, a, b):\n",
        "  res = []\n",
        "  for i in x:\n",
        "    if i < a:\n",
        "      res.append(0)\n",
        "    elif i > b:\n",
        "      res.append(0)\n",
        "    else:\n",
        "      res.append(1)\n",
        "  return res"
      ],
      "metadata": {
        "id": "Iiln3yhVXChT"
      },
      "execution_count": 85,
      "outputs": []
    },
    {
      "cell_type": "code",
      "source": [
        "@interact_manual(valore=(-4, 4, 0.1))\n",
        "def es91(valore = 1):\n",
        "  a = -4\n",
        "  points = 401\n",
        "\n",
        "  x = np.linspace(a, abs(a), points)\n",
        "\n",
        "  nd1 = []\n",
        "  for i in range(precisione):\n",
        "    nd1.append(np.random.normal(0, 1))\n",
        "\n",
        "  nd2 = [x for x in nd1 if x <= valore]\n",
        "\n",
        "  coord = [0]\n",
        "  for i in range(points - 1):\n",
        "    count = 0\n",
        "    for item in nd1:\n",
        "      if (item > a + (((-2*a)/points)*i)) and (item <= a + (((-2*a)/points)*(i+1))):\n",
        "        count = count + 1\n",
        "    coord.append((count / precisione) * (points / (-2*a)))\n",
        "  \n",
        "  y = np.minimum(bounds(x, -5, valore), coord)\n",
        "\n",
        "  ris1 = round(scipy.stats.norm(0, 1).cdf(valore), 3)\n",
        "  print(\"Risultati attesi: \" + str(ris1))\n",
        "  ris2 = round(len(nd2) / precisione, 3)\n",
        "  print(\"Risultati ottenuti: \" + str(ris2))\n",
        "\n",
        "  plt.fill_between(x, y, alpha=0.30)\n",
        "  plt.plot(x, coord)"
      ],
      "metadata": {
        "id": "0YLBeVSIL9qG",
        "outputId": "58085f49-28d0-46c1-aef8-e2e0e886cf9a",
        "colab": {
          "base_uri": "https://localhost:8080/",
          "height": 81,
          "referenced_widgets": [
            "a5f4c802ca90479a86f101c66a80c4cf",
            "d4fd347bd42b4a7c8af387e42c7b2127",
            "f427c4fd15914488a1138f1ffce44854",
            "e706db2c05c44a5bb18dd418a9491635",
            "f6f01bab7890421a956d0697dc1a19f4",
            "dc9a9947563e48228e96dd386371db72",
            "5e5f3c466d754954946d06f5cebc2139",
            "54f1034a2eb046a1afaf467733e4336b",
            "10bd739b8e424c36b7e437094b6811b9",
            "baeac29ebe74488e96c697280fe7da87"
          ]
        }
      },
      "execution_count": 86,
      "outputs": [
        {
          "output_type": "display_data",
          "data": {
            "application/vnd.jupyter.widget-view+json": {
              "model_id": "a5f4c802ca90479a86f101c66a80c4cf",
              "version_minor": 0,
              "version_major": 2
            },
            "text/plain": [
              "interactive(children=(FloatSlider(value=1.0, description='valore', max=4.0, min=-4.0), Button(description='Run…"
            ]
          },
          "metadata": {}
        }
      ]
    },
    {
      "cell_type": "markdown",
      "source": [
        "## Esempio 9.2"
      ],
      "metadata": {
        "id": "twGutUTVPnRX"
      }
    },
    {
      "cell_type": "markdown",
      "source": [
        "Uno studio su 100 000 diciottenni (reclutati dalle scuole e dal Maternal and Child Health Centres ad Hong Kong) ha mostrato che l'altezza di un'adulto ha una densità normale _N_ (172, 5).\n",
        "\n",
        " Una divisa per reclute è disponibile in 4 taglie:\n",
        " \n",
        "Taglia   | Altezza \n",
        "---------|------------------\n",
        "S        | h < 164\n",
        "M        | 164 < h < 172\n",
        "L        | 172 < h < 180\n",
        "XL       | h > 180\n",
        "\n",
        "Dovendo vestire 500 nuove reclute quante divise di ogni taglia comprereste?"
      ],
      "metadata": {
        "id": "edGsbSkpyUup"
      }
    },
    {
      "cell_type": "markdown",
      "source": [
        "Per validare i risultati che calcolati con le formule, li confronteremo con le altezze di 20 000 adulti che hanno partecipato all'esperimento ma le cui altezze non sono state usate per per definire la distribuzione, ma lasciate per validarla."
      ],
      "metadata": {
        "id": "V-0c_kiN1WlJ"
      }
    },
    {
      "cell_type": "code",
      "source": [
        "data_url = \"https://raw.githubusercontent.com/MontiMic/Tesi/riordinato/train.csv\" #importo il dataset\n",
        "data = pd.read_csv(data_url, sep=',', dtype={})\n",
        "lab = [\"id\", \"height\", \"weight\"]\n",
        "data.columns = [i for i in lab]\n",
        "data = data.drop(['id', 'weight'], axis=1) #scarto i dati riguardanti l'id ed il peso dei soggetti, non ci servono\n",
        "height = []\n",
        "for i in data[\"height\"]: #converto le altezze da pollici in centimetri\n",
        "  height.append(i*2.54)"
      ],
      "metadata": {
        "id": "wEK2CHWylV7L"
      },
      "execution_count": 87,
      "outputs": []
    },
    {
      "cell_type": "code",
      "source": [
        "x = np.linspace(151, 190, 40)\n",
        "coord = []\n",
        "for i in range(40):\n",
        "  count = 0\n",
        "  for item in height:\n",
        "    if (item > (151 + i) and item <= (151 + i + 1)):\n",
        "      count = count + 1\n",
        "  coord.append(count / len(height))\n",
        "dnd = []\n",
        "for i in x:\n",
        "  dnd.append(scipy.stats.norm(172, 5).pdf(i))\n",
        "plt.plot(x, dnd)\n",
        "plt.plot(x, coord)\n",
        "legenda = [\"Distribuzione teorica\", \"Distribuzione del campione\"]\n",
        "plt.legend(legenda,loc='upper center', bbox_to_anchor=(0.5, -0.05), fancybox=True, shadow=True, ncol=5)\n",
        "plt.show()"
      ],
      "metadata": {
        "colab": {
          "base_uri": "https://localhost:8080/",
          "height": 282
        },
        "id": "1j7e4b-jbImS",
        "outputId": "8460947b-f9f2-49d2-c52d-964571332c0d"
      },
      "execution_count": 88,
      "outputs": [
        {
          "output_type": "display_data",
          "data": {
            "image/png": "[encoded data removed]",
            "text/plain": [
              "<Figure size 432x288 with 1 Axes>"
            ]
          },
          "metadata": {
            "needs_background": "light"
          }
        }
      ]
    },
    {
      "cell_type": "code",
      "source": [
        "@interact_manual(taglia=[\"S\", \"M\", \"L\", \"XL\"])\n",
        "def es92(taglia = \"L\"):\n",
        "  a, b = 0, 0\n",
        "  #purtroppo questa versione di python non supporta gli switch case (nè il match case)\n",
        "  if taglia == \"S\":\n",
        "    a, b = 150, 164\n",
        "  elif taglia == \"M\":\n",
        "    a, b = 164, 172\n",
        "  elif taglia == \"L\":\n",
        "    a, b = 172, 180 \n",
        "  elif taglia == \"XL\":\n",
        "    a, b = 180, 191\n",
        "  \n",
        "  cm = 500\n",
        "  x = np.linspace(151, 200, cm)\n",
        "  \n",
        "  nd1 = []\n",
        "  for i in range(cm):\n",
        "    count = 0\n",
        "    for item in height:\n",
        "      if (item > (151 + i/10) and item <= (151 + i/10 + 1)):\n",
        "        count = count + 1\n",
        "    nd1.append(count / len(height))\n",
        "\n",
        "  nd2 = [x for x in height if x > a and x <= b]\n",
        "  \n",
        "  ris1 = round(scipy.stats.norm(172, 5).cdf(b) - scipy.stats.norm(172, 5).cdf(a), 3)\n",
        "  print(\"Risultati attesi: \" + str(ris1))\n",
        "  ris2 = round(len(nd2) / len(height), 3)\n",
        "  print(\"Risultati ottenuti: \" + str(ris2))\n",
        "\n",
        "  y = np.minimum(bounds(x, a, b), nd1)\n",
        "\n",
        "  plt.plot(x, nd1)\n",
        "  plt.fill_between(x, y, alpha=0.30)\n",
        "  plt.xlim(150, 200)"
      ],
      "metadata": {
        "colab": {
          "base_uri": "https://localhost:8080/",
          "height": 81,
          "referenced_widgets": [
            "40653a32d1b845a8a1451332a706356c",
            "f6aadf5fcad14aa6ae64778714e52e0b",
            "e6e52a5e1fa34402b1863ce4ed3b13f9",
            "7426865f61f14b1497b9efdd20748630",
            "3b791c2bce334fe5976a8076b97dfdee",
            "6d2eb5e1030b487ba616798e85e55592",
            "616135bbdd52489fa3d266a12ee857e0",
            "c86775da6e8e4e7da650e110096339ed",
            "fd060e1b5b624193a2f3d0a220b232be",
            "53dd60d8bbd8464683d5b91963364633"
          ]
        },
        "id": "j13iOPty-8h8",
        "outputId": "482645b6-f8a1-4c8a-f600-9d35f9571540"
      },
      "execution_count": 89,
      "outputs": [
        {
          "output_type": "display_data",
          "data": {
            "application/vnd.jupyter.widget-view+json": {
              "model_id": "40653a32d1b845a8a1451332a706356c",
              "version_minor": 0,
              "version_major": 2
            },
            "text/plain": [
              "interactive(children=(Dropdown(description='taglia', index=2, options=('S', 'M', 'L', 'XL'), value='L'), Butto…"
            ]
          },
          "metadata": {}
        }
      ]
    }
  ]
}