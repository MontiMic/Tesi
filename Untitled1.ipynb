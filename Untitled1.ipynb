{
  "nbformat": 4,
  "nbformat_minor": 0,
  "metadata": {
    "colab": {
      "name": "Untitled1.ipynb",
      "provenance": [],
      "toc_visible": true,
      "collapsed_sections": [],
      "authorship_tag": "ABX9TyM3Zq1vStj6rNU9I4Drv3CH",
      "include_colab_link": true
    },
    "kernelspec": {
      "name": "python3",
      "display_name": "Python 3"
    },
    "language_info": {
      "name": "python"
    },
    "widgets": {
      "application/vnd.jupyter.widget-state+json": {
        "cf21774c350a476aa2db5ebc76b459ba": {
          "model_module": "@jupyter-widgets/controls",
          "model_name": "VBoxModel",
          "model_module_version": "1.5.0",
          "state": {
            "_view_name": "VBoxView",
            "_dom_classes": [
              "widget-interact"
            ],
            "_model_name": "VBoxModel",
            "_view_module": "@jupyter-widgets/controls",
            "_model_module_version": "1.5.0",
            "_view_count": null,
            "_view_module_version": "1.5.0",
            "box_style": "",
            "layout": "IPY_MODEL_aaaae5ff97184c688d294fd685bc5677",
            "_model_module": "@jupyter-widgets/controls",
            "children": [
              "IPY_MODEL_e3dc66b1768842d2bb3aa03bc35cc0fd",
              "IPY_MODEL_c73236bd027645f4808aa7c58a68a9d5",
              "IPY_MODEL_c0566d89eda64723a3ed48d048b6f3e3"
            ]
          }
        },
        "aaaae5ff97184c688d294fd685bc5677": {
          "model_module": "@jupyter-widgets/base",
          "model_name": "LayoutModel",
          "model_module_version": "1.2.0",
          "state": {
            "_view_name": "LayoutView",
            "grid_template_rows": null,
            "right": null,
            "justify_content": null,
            "_view_module": "@jupyter-widgets/base",
            "overflow": null,
            "_model_module_version": "1.2.0",
            "_view_count": null,
            "flex_flow": null,
            "width": null,
            "min_width": null,
            "border": null,
            "align_items": null,
            "bottom": null,
            "_model_module": "@jupyter-widgets/base",
            "top": null,
            "grid_column": null,
            "overflow_y": null,
            "overflow_x": null,
            "grid_auto_flow": null,
            "grid_area": null,
            "grid_template_columns": null,
            "flex": null,
            "_model_name": "LayoutModel",
            "justify_items": null,
            "grid_row": null,
            "max_height": null,
            "align_content": null,
            "visibility": null,
            "align_self": null,
            "height": null,
            "min_height": null,
            "padding": null,
            "grid_auto_rows": null,
            "grid_gap": null,
            "max_width": null,
            "order": null,
            "_view_module_version": "1.2.0",
            "grid_template_areas": null,
            "object_position": null,
            "object_fit": null,
            "grid_auto_columns": null,
            "margin": null,
            "display": null,
            "left": null
          }
        },
        "e3dc66b1768842d2bb3aa03bc35cc0fd": {
          "model_module": "@jupyter-widgets/controls",
          "model_name": "IntSliderModel",
          "model_module_version": "1.5.0",
          "state": {
            "_view_name": "IntSliderView",
            "style": "IPY_MODEL_8c90f56ac1a04256a74d90768a5142db",
            "_dom_classes": [],
            "description": "vincita",
            "step": 1,
            "_model_name": "IntSliderModel",
            "orientation": "horizontal",
            "max": 30,
            "_view_module": "@jupyter-widgets/controls",
            "_model_module_version": "1.5.0",
            "value": 5,
            "_view_count": null,
            "disabled": false,
            "_view_module_version": "1.5.0",
            "min": 0,
            "continuous_update": true,
            "readout_format": "d",
            "description_tooltip": null,
            "readout": true,
            "_model_module": "@jupyter-widgets/controls",
            "layout": "IPY_MODEL_069d286f0b864c25a49ee98b30cdb951"
          }
        },
        "c73236bd027645f4808aa7c58a68a9d5": {
          "model_module": "@jupyter-widgets/controls",
          "model_name": "ButtonModel",
          "model_module_version": "1.5.0",
          "state": {
            "_view_name": "ButtonView",
            "style": "IPY_MODEL_750b094c35a249339a310f0c17b8fceb",
            "_dom_classes": [],
            "description": "Run Interact",
            "_model_name": "ButtonModel",
            "button_style": "",
            "_view_module": "@jupyter-widgets/controls",
            "_model_module_version": "1.5.0",
            "tooltip": "",
            "_view_count": null,
            "disabled": false,
            "_view_module_version": "1.5.0",
            "layout": "IPY_MODEL_ef18555fd4b14019a79c4d4940137d63",
            "_model_module": "@jupyter-widgets/controls",
            "icon": ""
          }
        },
        "c0566d89eda64723a3ed48d048b6f3e3": {
          "model_module": "@jupyter-widgets/output",
          "model_name": "OutputModel",
          "model_module_version": "1.0.0",
          "state": {
            "_view_name": "OutputView",
            "msg_id": "",
            "_dom_classes": [],
            "_model_name": "OutputModel",
            "outputs": [],
            "_view_module": "@jupyter-widgets/output",
            "_model_module_version": "1.0.0",
            "_view_count": null,
            "_view_module_version": "1.0.0",
            "layout": "IPY_MODEL_b9c750a4ea5a46c4b90e748b03133e46",
            "_model_module": "@jupyter-widgets/output"
          }
        },
        "8c90f56ac1a04256a74d90768a5142db": {
          "model_module": "@jupyter-widgets/controls",
          "model_name": "SliderStyleModel",
          "model_module_version": "1.5.0",
          "state": {
            "_view_name": "StyleView",
            "handle_color": null,
            "_model_name": "SliderStyleModel",
            "description_width": "",
            "_view_module": "@jupyter-widgets/base",
            "_model_module_version": "1.5.0",
            "_view_count": null,
            "_view_module_version": "1.2.0",
            "_model_module": "@jupyter-widgets/controls"
          }
        },
        "069d286f0b864c25a49ee98b30cdb951": {
          "model_module": "@jupyter-widgets/base",
          "model_name": "LayoutModel",
          "model_module_version": "1.2.0",
          "state": {
            "_view_name": "LayoutView",
            "grid_template_rows": null,
            "right": null,
            "justify_content": null,
            "_view_module": "@jupyter-widgets/base",
            "overflow": null,
            "_model_module_version": "1.2.0",
            "_view_count": null,
            "flex_flow": null,
            "width": null,
            "min_width": null,
            "border": null,
            "align_items": null,
            "bottom": null,
            "_model_module": "@jupyter-widgets/base",
            "top": null,
            "grid_column": null,
            "overflow_y": null,
            "overflow_x": null,
            "grid_auto_flow": null,
            "grid_area": null,
            "grid_template_columns": null,
            "flex": null,
            "_model_name": "LayoutModel",
            "justify_items": null,
            "grid_row": null,
            "max_height": null,
            "align_content": null,
            "visibility": null,
            "align_self": null,
            "height": null,
            "min_height": null,
            "padding": null,
            "grid_auto_rows": null,
            "grid_gap": null,
            "max_width": null,
            "order": null,
            "_view_module_version": "1.2.0",
            "grid_template_areas": null,
            "object_position": null,
            "object_fit": null,
            "grid_auto_columns": null,
            "margin": null,
            "display": null,
            "left": null
          }
        },
        "750b094c35a249339a310f0c17b8fceb": {
          "model_module": "@jupyter-widgets/controls",
          "model_name": "ButtonStyleModel",
          "model_module_version": "1.5.0",
          "state": {
            "_view_name": "StyleView",
            "_model_name": "ButtonStyleModel",
            "_view_module": "@jupyter-widgets/base",
            "_model_module_version": "1.5.0",
            "_view_count": null,
            "button_color": null,
            "font_weight": "",
            "_view_module_version": "1.2.0",
            "_model_module": "@jupyter-widgets/controls"
          }
        },
        "ef18555fd4b14019a79c4d4940137d63": {
          "model_module": "@jupyter-widgets/base",
          "model_name": "LayoutModel",
          "model_module_version": "1.2.0",
          "state": {
            "_view_name": "LayoutView",
            "grid_template_rows": null,
            "right": null,
            "justify_content": null,
            "_view_module": "@jupyter-widgets/base",
            "overflow": null,
            "_model_module_version": "1.2.0",
            "_view_count": null,
            "flex_flow": null,
            "width": null,
            "min_width": null,
            "border": null,
            "align_items": null,
            "bottom": null,
            "_model_module": "@jupyter-widgets/base",
            "top": null,
            "grid_column": null,
            "overflow_y": null,
            "overflow_x": null,
            "grid_auto_flow": null,
            "grid_area": null,
            "grid_template_columns": null,
            "flex": null,
            "_model_name": "LayoutModel",
            "justify_items": null,
            "grid_row": null,
            "max_height": null,
            "align_content": null,
            "visibility": null,
            "align_self": null,
            "height": null,
            "min_height": null,
            "padding": null,
            "grid_auto_rows": null,
            "grid_gap": null,
            "max_width": null,
            "order": null,
            "_view_module_version": "1.2.0",
            "grid_template_areas": null,
            "object_position": null,
            "object_fit": null,
            "grid_auto_columns": null,
            "margin": null,
            "display": null,
            "left": null
          }
        },
        "b9c750a4ea5a46c4b90e748b03133e46": {
          "model_module": "@jupyter-widgets/base",
          "model_name": "LayoutModel",
          "model_module_version": "1.2.0",
          "state": {
            "_view_name": "LayoutView",
            "grid_template_rows": null,
            "right": null,
            "justify_content": null,
            "_view_module": "@jupyter-widgets/base",
            "overflow": null,
            "_model_module_version": "1.2.0",
            "_view_count": null,
            "flex_flow": null,
            "width": null,
            "min_width": null,
            "border": null,
            "align_items": null,
            "bottom": null,
            "_model_module": "@jupyter-widgets/base",
            "top": null,
            "grid_column": null,
            "overflow_y": null,
            "overflow_x": null,
            "grid_auto_flow": null,
            "grid_area": null,
            "grid_template_columns": null,
            "flex": null,
            "_model_name": "LayoutModel",
            "justify_items": null,
            "grid_row": null,
            "max_height": null,
            "align_content": null,
            "visibility": null,
            "align_self": null,
            "height": null,
            "min_height": null,
            "padding": null,
            "grid_auto_rows": null,
            "grid_gap": null,
            "max_width": null,
            "order": null,
            "_view_module_version": "1.2.0",
            "grid_template_areas": null,
            "object_position": null,
            "object_fit": null,
            "grid_auto_columns": null,
            "margin": null,
            "display": null,
            "left": null
          }
        },
        "55209b43be0c4784a96adee14acade08": {
          "model_module": "@jupyter-widgets/controls",
          "model_name": "VBoxModel",
          "model_module_version": "1.5.0",
          "state": {
            "_view_name": "VBoxView",
            "_dom_classes": [
              "widget-interact"
            ],
            "_model_name": "VBoxModel",
            "_view_module": "@jupyter-widgets/controls",
            "_model_module_version": "1.5.0",
            "_view_count": null,
            "_view_module_version": "1.5.0",
            "box_style": "",
            "layout": "IPY_MODEL_bc73e34ddae743e9a93774594365ef40",
            "_model_module": "@jupyter-widgets/controls",
            "children": [
              "IPY_MODEL_54ea807e174047a4bf074df69daa1a4f",
              "IPY_MODEL_85f8fcffed224e37b72d434fd6ef0582",
              "IPY_MODEL_a7f0848a74414f83929b10454d0e7fc8",
              "IPY_MODEL_f17703deb7c5492caf894dc5bfa73996"
            ]
          }
        },
        "bc73e34ddae743e9a93774594365ef40": {
          "model_module": "@jupyter-widgets/base",
          "model_name": "LayoutModel",
          "model_module_version": "1.2.0",
          "state": {
            "_view_name": "LayoutView",
            "grid_template_rows": null,
            "right": null,
            "justify_content": null,
            "_view_module": "@jupyter-widgets/base",
            "overflow": null,
            "_model_module_version": "1.2.0",
            "_view_count": null,
            "flex_flow": null,
            "width": null,
            "min_width": null,
            "border": null,
            "align_items": null,
            "bottom": null,
            "_model_module": "@jupyter-widgets/base",
            "top": null,
            "grid_column": null,
            "overflow_y": null,
            "overflow_x": null,
            "grid_auto_flow": null,
            "grid_area": null,
            "grid_template_columns": null,
            "flex": null,
            "_model_name": "LayoutModel",
            "justify_items": null,
            "grid_row": null,
            "max_height": null,
            "align_content": null,
            "visibility": null,
            "align_self": null,
            "height": null,
            "min_height": null,
            "padding": null,
            "grid_auto_rows": null,
            "grid_gap": null,
            "max_width": null,
            "order": null,
            "_view_module_version": "1.2.0",
            "grid_template_areas": null,
            "object_position": null,
            "object_fit": null,
            "grid_auto_columns": null,
            "margin": null,
            "display": null,
            "left": null
          }
        },
        "54ea807e174047a4bf074df69daa1a4f": {
          "model_module": "@jupyter-widgets/controls",
          "model_name": "IntSliderModel",
          "model_module_version": "1.5.0",
          "state": {
            "_view_name": "IntSliderView",
            "style": "IPY_MODEL_46a2807e4782442186e96cc2ff2c729f",
            "_dom_classes": [],
            "description": "giocate",
            "step": 1,
            "_model_name": "IntSliderModel",
            "orientation": "horizontal",
            "max": 10,
            "_view_module": "@jupyter-widgets/controls",
            "_model_module_version": "1.5.0",
            "value": 3,
            "_view_count": null,
            "disabled": false,
            "_view_module_version": "1.5.0",
            "min": 1,
            "continuous_update": true,
            "readout_format": "d",
            "description_tooltip": null,
            "readout": true,
            "_model_module": "@jupyter-widgets/controls",
            "layout": "IPY_MODEL_57b34406a15744af8281350d45d6fc14"
          }
        },
        "85f8fcffed224e37b72d434fd6ef0582": {
          "model_module": "@jupyter-widgets/controls",
          "model_name": "IntSliderModel",
          "model_module_version": "1.5.0",
          "state": {
            "_view_name": "IntSliderView",
            "style": "IPY_MODEL_866e48ff68114a469dd16948536eafd3",
            "_dom_classes": [],
            "description": "puntata",
            "step": 5,
            "_model_name": "IntSliderModel",
            "orientation": "horizontal",
            "max": 100,
            "_view_module": "@jupyter-widgets/controls",
            "_model_module_version": "1.5.0",
            "value": 10,
            "_view_count": null,
            "disabled": false,
            "_view_module_version": "1.5.0",
            "min": 5,
            "continuous_update": true,
            "readout_format": "d",
            "description_tooltip": null,
            "readout": true,
            "_model_module": "@jupyter-widgets/controls",
            "layout": "IPY_MODEL_5bcb8d9d73f7404183416cb83a9ba020"
          }
        },
        "a7f0848a74414f83929b10454d0e7fc8": {
          "model_module": "@jupyter-widgets/controls",
          "model_name": "ButtonModel",
          "model_module_version": "1.5.0",
          "state": {
            "_view_name": "ButtonView",
            "style": "IPY_MODEL_11cf8db53baf497fae28bde8c073d376",
            "_dom_classes": [],
            "description": "Run Interact",
            "_model_name": "ButtonModel",
            "button_style": "",
            "_view_module": "@jupyter-widgets/controls",
            "_model_module_version": "1.5.0",
            "tooltip": "",
            "_view_count": null,
            "disabled": false,
            "_view_module_version": "1.5.0",
            "layout": "IPY_MODEL_7f81500905dc4aec9740fd07b9023a74",
            "_model_module": "@jupyter-widgets/controls",
            "icon": ""
          }
        },
        "f17703deb7c5492caf894dc5bfa73996": {
          "model_module": "@jupyter-widgets/output",
          "model_name": "OutputModel",
          "model_module_version": "1.0.0",
          "state": {
            "_view_name": "OutputView",
            "msg_id": "",
            "_dom_classes": [],
            "_model_name": "OutputModel",
            "outputs": [],
            "_view_module": "@jupyter-widgets/output",
            "_model_module_version": "1.0.0",
            "_view_count": null,
            "_view_module_version": "1.0.0",
            "layout": "IPY_MODEL_96ae9c6394264a79a70b21714f4a9920",
            "_model_module": "@jupyter-widgets/output"
          }
        },
        "46a2807e4782442186e96cc2ff2c729f": {
          "model_module": "@jupyter-widgets/controls",
          "model_name": "SliderStyleModel",
          "model_module_version": "1.5.0",
          "state": {
            "_view_name": "StyleView",
            "handle_color": null,
            "_model_name": "SliderStyleModel",
            "description_width": "",
            "_view_module": "@jupyter-widgets/base",
            "_model_module_version": "1.5.0",
            "_view_count": null,
            "_view_module_version": "1.2.0",
            "_model_module": "@jupyter-widgets/controls"
          }
        },
        "57b34406a15744af8281350d45d6fc14": {
          "model_module": "@jupyter-widgets/base",
          "model_name": "LayoutModel",
          "model_module_version": "1.2.0",
          "state": {
            "_view_name": "LayoutView",
            "grid_template_rows": null,
            "right": null,
            "justify_content": null,
            "_view_module": "@jupyter-widgets/base",
            "overflow": null,
            "_model_module_version": "1.2.0",
            "_view_count": null,
            "flex_flow": null,
            "width": null,
            "min_width": null,
            "border": null,
            "align_items": null,
            "bottom": null,
            "_model_module": "@jupyter-widgets/base",
            "top": null,
            "grid_column": null,
            "overflow_y": null,
            "overflow_x": null,
            "grid_auto_flow": null,
            "grid_area": null,
            "grid_template_columns": null,
            "flex": null,
            "_model_name": "LayoutModel",
            "justify_items": null,
            "grid_row": null,
            "max_height": null,
            "align_content": null,
            "visibility": null,
            "align_self": null,
            "height": null,
            "min_height": null,
            "padding": null,
            "grid_auto_rows": null,
            "grid_gap": null,
            "max_width": null,
            "order": null,
            "_view_module_version": "1.2.0",
            "grid_template_areas": null,
            "object_position": null,
            "object_fit": null,
            "grid_auto_columns": null,
            "margin": null,
            "display": null,
            "left": null
          }
        },
        "866e48ff68114a469dd16948536eafd3": {
          "model_module": "@jupyter-widgets/controls",
          "model_name": "SliderStyleModel",
          "model_module_version": "1.5.0",
          "state": {
            "_view_name": "StyleView",
            "handle_color": null,
            "_model_name": "SliderStyleModel",
            "description_width": "",
            "_view_module": "@jupyter-widgets/base",
            "_model_module_version": "1.5.0",
            "_view_count": null,
            "_view_module_version": "1.2.0",
            "_model_module": "@jupyter-widgets/controls"
          }
        },
        "5bcb8d9d73f7404183416cb83a9ba020": {
          "model_module": "@jupyter-widgets/base",
          "model_name": "LayoutModel",
          "model_module_version": "1.2.0",
          "state": {
            "_view_name": "LayoutView",
            "grid_template_rows": null,
            "right": null,
            "justify_content": null,
            "_view_module": "@jupyter-widgets/base",
            "overflow": null,
            "_model_module_version": "1.2.0",
            "_view_count": null,
            "flex_flow": null,
            "width": null,
            "min_width": null,
            "border": null,
            "align_items": null,
            "bottom": null,
            "_model_module": "@jupyter-widgets/base",
            "top": null,
            "grid_column": null,
            "overflow_y": null,
            "overflow_x": null,
            "grid_auto_flow": null,
            "grid_area": null,
            "grid_template_columns": null,
            "flex": null,
            "_model_name": "LayoutModel",
            "justify_items": null,
            "grid_row": null,
            "max_height": null,
            "align_content": null,
            "visibility": null,
            "align_self": null,
            "height": null,
            "min_height": null,
            "padding": null,
            "grid_auto_rows": null,
            "grid_gap": null,
            "max_width": null,
            "order": null,
            "_view_module_version": "1.2.0",
            "grid_template_areas": null,
            "object_position": null,
            "object_fit": null,
            "grid_auto_columns": null,
            "margin": null,
            "display": null,
            "left": null
          }
        },
        "11cf8db53baf497fae28bde8c073d376": {
          "model_module": "@jupyter-widgets/controls",
          "model_name": "ButtonStyleModel",
          "model_module_version": "1.5.0",
          "state": {
            "_view_name": "StyleView",
            "_model_name": "ButtonStyleModel",
            "_view_module": "@jupyter-widgets/base",
            "_model_module_version": "1.5.0",
            "_view_count": null,
            "button_color": null,
            "font_weight": "",
            "_view_module_version": "1.2.0",
            "_model_module": "@jupyter-widgets/controls"
          }
        },
        "7f81500905dc4aec9740fd07b9023a74": {
          "model_module": "@jupyter-widgets/base",
          "model_name": "LayoutModel",
          "model_module_version": "1.2.0",
          "state": {
            "_view_name": "LayoutView",
            "grid_template_rows": null,
            "right": null,
            "justify_content": null,
            "_view_module": "@jupyter-widgets/base",
            "overflow": null,
            "_model_module_version": "1.2.0",
            "_view_count": null,
            "flex_flow": null,
            "width": null,
            "min_width": null,
            "border": null,
            "align_items": null,
            "bottom": null,
            "_model_module": "@jupyter-widgets/base",
            "top": null,
            "grid_column": null,
            "overflow_y": null,
            "overflow_x": null,
            "grid_auto_flow": null,
            "grid_area": null,
            "grid_template_columns": null,
            "flex": null,
            "_model_name": "LayoutModel",
            "justify_items": null,
            "grid_row": null,
            "max_height": null,
            "align_content": null,
            "visibility": null,
            "align_self": null,
            "height": null,
            "min_height": null,
            "padding": null,
            "grid_auto_rows": null,
            "grid_gap": null,
            "max_width": null,
            "order": null,
            "_view_module_version": "1.2.0",
            "grid_template_areas": null,
            "object_position": null,
            "object_fit": null,
            "grid_auto_columns": null,
            "margin": null,
            "display": null,
            "left": null
          }
        },
        "96ae9c6394264a79a70b21714f4a9920": {
          "model_module": "@jupyter-widgets/base",
          "model_name": "LayoutModel",
          "model_module_version": "1.2.0",
          "state": {
            "_view_name": "LayoutView",
            "grid_template_rows": null,
            "right": null,
            "justify_content": null,
            "_view_module": "@jupyter-widgets/base",
            "overflow": null,
            "_model_module_version": "1.2.0",
            "_view_count": null,
            "flex_flow": null,
            "width": null,
            "min_width": null,
            "border": null,
            "align_items": null,
            "bottom": null,
            "_model_module": "@jupyter-widgets/base",
            "top": null,
            "grid_column": null,
            "overflow_y": null,
            "overflow_x": null,
            "grid_auto_flow": null,
            "grid_area": null,
            "grid_template_columns": null,
            "flex": null,
            "_model_name": "LayoutModel",
            "justify_items": null,
            "grid_row": null,
            "max_height": null,
            "align_content": null,
            "visibility": null,
            "align_self": null,
            "height": null,
            "min_height": null,
            "padding": null,
            "grid_auto_rows": null,
            "grid_gap": null,
            "max_width": null,
            "order": null,
            "_view_module_version": "1.2.0",
            "grid_template_areas": null,
            "object_position": null,
            "object_fit": null,
            "grid_auto_columns": null,
            "margin": null,
            "display": null,
            "left": null
          }
        },
        "631b43261a94463d89558ab368c94de3": {
          "model_module": "@jupyter-widgets/controls",
          "model_name": "VBoxModel",
          "model_module_version": "1.5.0",
          "state": {
            "_view_name": "VBoxView",
            "_dom_classes": [
              "widget-interact"
            ],
            "_model_name": "VBoxModel",
            "_view_module": "@jupyter-widgets/controls",
            "_model_module_version": "1.5.0",
            "_view_count": null,
            "_view_module_version": "1.5.0",
            "box_style": "",
            "layout": "IPY_MODEL_ce439b3daa2847038f023ab175b290a2",
            "_model_module": "@jupyter-widgets/controls",
            "children": [
              "IPY_MODEL_76b65a608a20492999208ed83bb81bdf",
              "IPY_MODEL_c1402de1d0314e08b890a10483595187",
              "IPY_MODEL_3307fcc76b9d4e87a65bdd2f63dc9ff6",
              "IPY_MODEL_6148b91358f24feba4594619531b4f67"
            ]
          }
        },
        "ce439b3daa2847038f023ab175b290a2": {
          "model_module": "@jupyter-widgets/base",
          "model_name": "LayoutModel",
          "model_module_version": "1.2.0",
          "state": {
            "_view_name": "LayoutView",
            "grid_template_rows": null,
            "right": null,
            "justify_content": null,
            "_view_module": "@jupyter-widgets/base",
            "overflow": null,
            "_model_module_version": "1.2.0",
            "_view_count": null,
            "flex_flow": null,
            "width": null,
            "min_width": null,
            "border": null,
            "align_items": null,
            "bottom": null,
            "_model_module": "@jupyter-widgets/base",
            "top": null,
            "grid_column": null,
            "overflow_y": null,
            "overflow_x": null,
            "grid_auto_flow": null,
            "grid_area": null,
            "grid_template_columns": null,
            "flex": null,
            "_model_name": "LayoutModel",
            "justify_items": null,
            "grid_row": null,
            "max_height": null,
            "align_content": null,
            "visibility": null,
            "align_self": null,
            "height": null,
            "min_height": null,
            "padding": null,
            "grid_auto_rows": null,
            "grid_gap": null,
            "max_width": null,
            "order": null,
            "_view_module_version": "1.2.0",
            "grid_template_areas": null,
            "object_position": null,
            "object_fit": null,
            "grid_auto_columns": null,
            "margin": null,
            "display": null,
            "left": null
          }
        },
        "76b65a608a20492999208ed83bb81bdf": {
          "model_module": "@jupyter-widgets/controls",
          "model_name": "IntSliderModel",
          "model_module_version": "1.5.0",
          "state": {
            "_view_name": "IntSliderView",
            "style": "IPY_MODEL_f5c74b856f27411996f292243cccb88e",
            "_dom_classes": [],
            "description": "giocate",
            "step": 1,
            "_model_name": "IntSliderModel",
            "orientation": "horizontal",
            "max": 6,
            "_view_module": "@jupyter-widgets/controls",
            "_model_module_version": "1.5.0",
            "value": 3,
            "_view_count": null,
            "disabled": false,
            "_view_module_version": "1.5.0",
            "min": 1,
            "continuous_update": true,
            "readout_format": "d",
            "description_tooltip": null,
            "readout": true,
            "_model_module": "@jupyter-widgets/controls",
            "layout": "IPY_MODEL_61b2041ec3e04bfb97b6c4049dd04f53"
          }
        },
        "c1402de1d0314e08b890a10483595187": {
          "model_module": "@jupyter-widgets/controls",
          "model_name": "IntSliderModel",
          "model_module_version": "1.5.0",
          "state": {
            "_view_name": "IntSliderView",
            "style": "IPY_MODEL_b750fd4b26f04172b162b1606bb54b98",
            "_dom_classes": [],
            "description": "puntata",
            "step": 5,
            "_model_name": "IntSliderModel",
            "orientation": "horizontal",
            "max": 100,
            "_view_module": "@jupyter-widgets/controls",
            "_model_module_version": "1.5.0",
            "value": 5,
            "_view_count": null,
            "disabled": false,
            "_view_module_version": "1.5.0",
            "min": 5,
            "continuous_update": true,
            "readout_format": "d",
            "description_tooltip": null,
            "readout": true,
            "_model_module": "@jupyter-widgets/controls",
            "layout": "IPY_MODEL_c2132949e9b2432bad7545330d9e6133"
          }
        },
        "3307fcc76b9d4e87a65bdd2f63dc9ff6": {
          "model_module": "@jupyter-widgets/controls",
          "model_name": "ButtonModel",
          "model_module_version": "1.5.0",
          "state": {
            "_view_name": "ButtonView",
            "style": "IPY_MODEL_d6a319d6bc03464a959eff61cfecf334",
            "_dom_classes": [],
            "description": "Run Interact",
            "_model_name": "ButtonModel",
            "button_style": "",
            "_view_module": "@jupyter-widgets/controls",
            "_model_module_version": "1.5.0",
            "tooltip": "",
            "_view_count": null,
            "disabled": false,
            "_view_module_version": "1.5.0",
            "layout": "IPY_MODEL_f8d3604e960c4658bba1f240a892ccf2",
            "_model_module": "@jupyter-widgets/controls",
            "icon": ""
          }
        },
        "6148b91358f24feba4594619531b4f67": {
          "model_module": "@jupyter-widgets/output",
          "model_name": "OutputModel",
          "model_module_version": "1.0.0",
          "state": {
            "_view_name": "OutputView",
            "msg_id": "",
            "_dom_classes": [],
            "_model_name": "OutputModel",
            "outputs": [],
            "_view_module": "@jupyter-widgets/output",
            "_model_module_version": "1.0.0",
            "_view_count": null,
            "_view_module_version": "1.0.0",
            "layout": "IPY_MODEL_8f7ad2b42d694ffeaa6356e99553e431",
            "_model_module": "@jupyter-widgets/output"
          }
        },
        "f5c74b856f27411996f292243cccb88e": {
          "model_module": "@jupyter-widgets/controls",
          "model_name": "SliderStyleModel",
          "model_module_version": "1.5.0",
          "state": {
            "_view_name": "StyleView",
            "handle_color": null,
            "_model_name": "SliderStyleModel",
            "description_width": "",
            "_view_module": "@jupyter-widgets/base",
            "_model_module_version": "1.5.0",
            "_view_count": null,
            "_view_module_version": "1.2.0",
            "_model_module": "@jupyter-widgets/controls"
          }
        },
        "61b2041ec3e04bfb97b6c4049dd04f53": {
          "model_module": "@jupyter-widgets/base",
          "model_name": "LayoutModel",
          "model_module_version": "1.2.0",
          "state": {
            "_view_name": "LayoutView",
            "grid_template_rows": null,
            "right": null,
            "justify_content": null,
            "_view_module": "@jupyter-widgets/base",
            "overflow": null,
            "_model_module_version": "1.2.0",
            "_view_count": null,
            "flex_flow": null,
            "width": null,
            "min_width": null,
            "border": null,
            "align_items": null,
            "bottom": null,
            "_model_module": "@jupyter-widgets/base",
            "top": null,
            "grid_column": null,
            "overflow_y": null,
            "overflow_x": null,
            "grid_auto_flow": null,
            "grid_area": null,
            "grid_template_columns": null,
            "flex": null,
            "_model_name": "LayoutModel",
            "justify_items": null,
            "grid_row": null,
            "max_height": null,
            "align_content": null,
            "visibility": null,
            "align_self": null,
            "height": null,
            "min_height": null,
            "padding": null,
            "grid_auto_rows": null,
            "grid_gap": null,
            "max_width": null,
            "order": null,
            "_view_module_version": "1.2.0",
            "grid_template_areas": null,
            "object_position": null,
            "object_fit": null,
            "grid_auto_columns": null,
            "margin": null,
            "display": null,
            "left": null
          }
        },
        "b750fd4b26f04172b162b1606bb54b98": {
          "model_module": "@jupyter-widgets/controls",
          "model_name": "SliderStyleModel",
          "model_module_version": "1.5.0",
          "state": {
            "_view_name": "StyleView",
            "handle_color": null,
            "_model_name": "SliderStyleModel",
            "description_width": "",
            "_view_module": "@jupyter-widgets/base",
            "_model_module_version": "1.5.0",
            "_view_count": null,
            "_view_module_version": "1.2.0",
            "_model_module": "@jupyter-widgets/controls"
          }
        },
        "c2132949e9b2432bad7545330d9e6133": {
          "model_module": "@jupyter-widgets/base",
          "model_name": "LayoutModel",
          "model_module_version": "1.2.0",
          "state": {
            "_view_name": "LayoutView",
            "grid_template_rows": null,
            "right": null,
            "justify_content": null,
            "_view_module": "@jupyter-widgets/base",
            "overflow": null,
            "_model_module_version": "1.2.0",
            "_view_count": null,
            "flex_flow": null,
            "width": null,
            "min_width": null,
            "border": null,
            "align_items": null,
            "bottom": null,
            "_model_module": "@jupyter-widgets/base",
            "top": null,
            "grid_column": null,
            "overflow_y": null,
            "overflow_x": null,
            "grid_auto_flow": null,
            "grid_area": null,
            "grid_template_columns": null,
            "flex": null,
            "_model_name": "LayoutModel",
            "justify_items": null,
            "grid_row": null,
            "max_height": null,
            "align_content": null,
            "visibility": null,
            "align_self": null,
            "height": null,
            "min_height": null,
            "padding": null,
            "grid_auto_rows": null,
            "grid_gap": null,
            "max_width": null,
            "order": null,
            "_view_module_version": "1.2.0",
            "grid_template_areas": null,
            "object_position": null,
            "object_fit": null,
            "grid_auto_columns": null,
            "margin": null,
            "display": null,
            "left": null
          }
        },
        "d6a319d6bc03464a959eff61cfecf334": {
          "model_module": "@jupyter-widgets/controls",
          "model_name": "ButtonStyleModel",
          "model_module_version": "1.5.0",
          "state": {
            "_view_name": "StyleView",
            "_model_name": "ButtonStyleModel",
            "_view_module": "@jupyter-widgets/base",
            "_model_module_version": "1.5.0",
            "_view_count": null,
            "button_color": null,
            "font_weight": "",
            "_view_module_version": "1.2.0",
            "_model_module": "@jupyter-widgets/controls"
          }
        },
        "f8d3604e960c4658bba1f240a892ccf2": {
          "model_module": "@jupyter-widgets/base",
          "model_name": "LayoutModel",
          "model_module_version": "1.2.0",
          "state": {
            "_view_name": "LayoutView",
            "grid_template_rows": null,
            "right": null,
            "justify_content": null,
            "_view_module": "@jupyter-widgets/base",
            "overflow": null,
            "_model_module_version": "1.2.0",
            "_view_count": null,
            "flex_flow": null,
            "width": null,
            "min_width": null,
            "border": null,
            "align_items": null,
            "bottom": null,
            "_model_module": "@jupyter-widgets/base",
            "top": null,
            "grid_column": null,
            "overflow_y": null,
            "overflow_x": null,
            "grid_auto_flow": null,
            "grid_area": null,
            "grid_template_columns": null,
            "flex": null,
            "_model_name": "LayoutModel",
            "justify_items": null,
            "grid_row": null,
            "max_height": null,
            "align_content": null,
            "visibility": null,
            "align_self": null,
            "height": null,
            "min_height": null,
            "padding": null,
            "grid_auto_rows": null,
            "grid_gap": null,
            "max_width": null,
            "order": null,
            "_view_module_version": "1.2.0",
            "grid_template_areas": null,
            "object_position": null,
            "object_fit": null,
            "grid_auto_columns": null,
            "margin": null,
            "display": null,
            "left": null
          }
        },
        "8f7ad2b42d694ffeaa6356e99553e431": {
          "model_module": "@jupyter-widgets/base",
          "model_name": "LayoutModel",
          "model_module_version": "1.2.0",
          "state": {
            "_view_name": "LayoutView",
            "grid_template_rows": null,
            "right": null,
            "justify_content": null,
            "_view_module": "@jupyter-widgets/base",
            "overflow": null,
            "_model_module_version": "1.2.0",
            "_view_count": null,
            "flex_flow": null,
            "width": null,
            "min_width": null,
            "border": null,
            "align_items": null,
            "bottom": null,
            "_model_module": "@jupyter-widgets/base",
            "top": null,
            "grid_column": null,
            "overflow_y": null,
            "overflow_x": null,
            "grid_auto_flow": null,
            "grid_area": null,
            "grid_template_columns": null,
            "flex": null,
            "_model_name": "LayoutModel",
            "justify_items": null,
            "grid_row": null,
            "max_height": null,
            "align_content": null,
            "visibility": null,
            "align_self": null,
            "height": null,
            "min_height": null,
            "padding": null,
            "grid_auto_rows": null,
            "grid_gap": null,
            "max_width": null,
            "order": null,
            "_view_module_version": "1.2.0",
            "grid_template_areas": null,
            "object_position": null,
            "object_fit": null,
            "grid_auto_columns": null,
            "margin": null,
            "display": null,
            "left": null
          }
        },
        "81a27c3194604ecd8ea6d5473e62cdd3": {
          "model_module": "@jupyter-widgets/controls",
          "model_name": "VBoxModel",
          "model_module_version": "1.5.0",
          "state": {
            "_view_name": "VBoxView",
            "_dom_classes": [
              "widget-interact"
            ],
            "_model_name": "VBoxModel",
            "_view_module": "@jupyter-widgets/controls",
            "_model_module_version": "1.5.0",
            "_view_count": null,
            "_view_module_version": "1.5.0",
            "box_style": "",
            "layout": "IPY_MODEL_acf24df08a66470fad84e130bf791236",
            "_model_module": "@jupyter-widgets/controls",
            "children": [
              "IPY_MODEL_e5489c2c866044f48691c2e63c1d448a",
              "IPY_MODEL_b3b3ba44cd3243559911904e3f0aeee8",
              "IPY_MODEL_1cb3043361b143f6976786100a584f12"
            ]
          }
        },
        "acf24df08a66470fad84e130bf791236": {
          "model_module": "@jupyter-widgets/base",
          "model_name": "LayoutModel",
          "model_module_version": "1.2.0",
          "state": {
            "_view_name": "LayoutView",
            "grid_template_rows": null,
            "right": null,
            "justify_content": null,
            "_view_module": "@jupyter-widgets/base",
            "overflow": null,
            "_model_module_version": "1.2.0",
            "_view_count": null,
            "flex_flow": null,
            "width": null,
            "min_width": null,
            "border": null,
            "align_items": null,
            "bottom": null,
            "_model_module": "@jupyter-widgets/base",
            "top": null,
            "grid_column": null,
            "overflow_y": null,
            "overflow_x": null,
            "grid_auto_flow": null,
            "grid_area": null,
            "grid_template_columns": null,
            "flex": null,
            "_model_name": "LayoutModel",
            "justify_items": null,
            "grid_row": null,
            "max_height": null,
            "align_content": null,
            "visibility": null,
            "align_self": null,
            "height": null,
            "min_height": null,
            "padding": null,
            "grid_auto_rows": null,
            "grid_gap": null,
            "max_width": null,
            "order": null,
            "_view_module_version": "1.2.0",
            "grid_template_areas": null,
            "object_position": null,
            "object_fit": null,
            "grid_auto_columns": null,
            "margin": null,
            "display": null,
            "left": null
          }
        },
        "e5489c2c866044f48691c2e63c1d448a": {
          "model_module": "@jupyter-widgets/controls",
          "model_name": "IntSliderModel",
          "model_module_version": "1.5.0",
          "state": {
            "_view_name": "IntSliderView",
            "style": "IPY_MODEL_fb7bf43091684a4e9f822fcbad1f9bcd",
            "_dom_classes": [],
            "description": "estrazioni",
            "step": 1,
            "_model_name": "IntSliderModel",
            "orientation": "horizontal",
            "max": 10,
            "_view_module": "@jupyter-widgets/controls",
            "_model_module_version": "1.5.0",
            "value": 3,
            "_view_count": null,
            "disabled": false,
            "_view_module_version": "1.5.0",
            "min": 1,
            "continuous_update": true,
            "readout_format": "d",
            "description_tooltip": null,
            "readout": true,
            "_model_module": "@jupyter-widgets/controls",
            "layout": "IPY_MODEL_73474db6cb9349a8bd8b2ec199ff5beb"
          }
        },
        "b3b3ba44cd3243559911904e3f0aeee8": {
          "model_module": "@jupyter-widgets/controls",
          "model_name": "ButtonModel",
          "model_module_version": "1.5.0",
          "state": {
            "_view_name": "ButtonView",
            "style": "IPY_MODEL_39698fb6543b44828dca67a6cf831f70",
            "_dom_classes": [],
            "description": "Run Interact",
            "_model_name": "ButtonModel",
            "button_style": "",
            "_view_module": "@jupyter-widgets/controls",
            "_model_module_version": "1.5.0",
            "tooltip": "",
            "_view_count": null,
            "disabled": false,
            "_view_module_version": "1.5.0",
            "layout": "IPY_MODEL_64c0bf648696416e9a6344463fac912c",
            "_model_module": "@jupyter-widgets/controls",
            "icon": ""
          }
        },
        "1cb3043361b143f6976786100a584f12": {
          "model_module": "@jupyter-widgets/output",
          "model_name": "OutputModel",
          "model_module_version": "1.0.0",
          "state": {
            "_view_name": "OutputView",
            "msg_id": "",
            "_dom_classes": [],
            "_model_name": "OutputModel",
            "outputs": [],
            "_view_module": "@jupyter-widgets/output",
            "_model_module_version": "1.0.0",
            "_view_count": null,
            "_view_module_version": "1.0.0",
            "layout": "IPY_MODEL_88f333ce2fab46e28433120d629ec1a0",
            "_model_module": "@jupyter-widgets/output"
          }
        },
        "fb7bf43091684a4e9f822fcbad1f9bcd": {
          "model_module": "@jupyter-widgets/controls",
          "model_name": "SliderStyleModel",
          "model_module_version": "1.5.0",
          "state": {
            "_view_name": "StyleView",
            "handle_color": null,
            "_model_name": "SliderStyleModel",
            "description_width": "",
            "_view_module": "@jupyter-widgets/base",
            "_model_module_version": "1.5.0",
            "_view_count": null,
            "_view_module_version": "1.2.0",
            "_model_module": "@jupyter-widgets/controls"
          }
        },
        "73474db6cb9349a8bd8b2ec199ff5beb": {
          "model_module": "@jupyter-widgets/base",
          "model_name": "LayoutModel",
          "model_module_version": "1.2.0",
          "state": {
            "_view_name": "LayoutView",
            "grid_template_rows": null,
            "right": null,
            "justify_content": null,
            "_view_module": "@jupyter-widgets/base",
            "overflow": null,
            "_model_module_version": "1.2.0",
            "_view_count": null,
            "flex_flow": null,
            "width": null,
            "min_width": null,
            "border": null,
            "align_items": null,
            "bottom": null,
            "_model_module": "@jupyter-widgets/base",
            "top": null,
            "grid_column": null,
            "overflow_y": null,
            "overflow_x": null,
            "grid_auto_flow": null,
            "grid_area": null,
            "grid_template_columns": null,
            "flex": null,
            "_model_name": "LayoutModel",
            "justify_items": null,
            "grid_row": null,
            "max_height": null,
            "align_content": null,
            "visibility": null,
            "align_self": null,
            "height": null,
            "min_height": null,
            "padding": null,
            "grid_auto_rows": null,
            "grid_gap": null,
            "max_width": null,
            "order": null,
            "_view_module_version": "1.2.0",
            "grid_template_areas": null,
            "object_position": null,
            "object_fit": null,
            "grid_auto_columns": null,
            "margin": null,
            "display": null,
            "left": null
          }
        },
        "39698fb6543b44828dca67a6cf831f70": {
          "model_module": "@jupyter-widgets/controls",
          "model_name": "ButtonStyleModel",
          "model_module_version": "1.5.0",
          "state": {
            "_view_name": "StyleView",
            "_model_name": "ButtonStyleModel",
            "_view_module": "@jupyter-widgets/base",
            "_model_module_version": "1.5.0",
            "_view_count": null,
            "button_color": null,
            "font_weight": "",
            "_view_module_version": "1.2.0",
            "_model_module": "@jupyter-widgets/controls"
          }
        },
        "64c0bf648696416e9a6344463fac912c": {
          "model_module": "@jupyter-widgets/base",
          "model_name": "LayoutModel",
          "model_module_version": "1.2.0",
          "state": {
            "_view_name": "LayoutView",
            "grid_template_rows": null,
            "right": null,
            "justify_content": null,
            "_view_module": "@jupyter-widgets/base",
            "overflow": null,
            "_model_module_version": "1.2.0",
            "_view_count": null,
            "flex_flow": null,
            "width": null,
            "min_width": null,
            "border": null,
            "align_items": null,
            "bottom": null,
            "_model_module": "@jupyter-widgets/base",
            "top": null,
            "grid_column": null,
            "overflow_y": null,
            "overflow_x": null,
            "grid_auto_flow": null,
            "grid_area": null,
            "grid_template_columns": null,
            "flex": null,
            "_model_name": "LayoutModel",
            "justify_items": null,
            "grid_row": null,
            "max_height": null,
            "align_content": null,
            "visibility": null,
            "align_self": null,
            "height": null,
            "min_height": null,
            "padding": null,
            "grid_auto_rows": null,
            "grid_gap": null,
            "max_width": null,
            "order": null,
            "_view_module_version": "1.2.0",
            "grid_template_areas": null,
            "object_position": null,
            "object_fit": null,
            "grid_auto_columns": null,
            "margin": null,
            "display": null,
            "left": null
          }
        },
        "88f333ce2fab46e28433120d629ec1a0": {
          "model_module": "@jupyter-widgets/base",
          "model_name": "LayoutModel",
          "model_module_version": "1.2.0",
          "state": {
            "_view_name": "LayoutView",
            "grid_template_rows": null,
            "right": null,
            "justify_content": null,
            "_view_module": "@jupyter-widgets/base",
            "overflow": null,
            "_model_module_version": "1.2.0",
            "_view_count": null,
            "flex_flow": null,
            "width": null,
            "min_width": null,
            "border": null,
            "align_items": null,
            "bottom": null,
            "_model_module": "@jupyter-widgets/base",
            "top": null,
            "grid_column": null,
            "overflow_y": null,
            "overflow_x": null,
            "grid_auto_flow": null,
            "grid_area": null,
            "grid_template_columns": null,
            "flex": null,
            "_model_name": "LayoutModel",
            "justify_items": null,
            "grid_row": null,
            "max_height": null,
            "align_content": null,
            "visibility": null,
            "align_self": null,
            "height": null,
            "min_height": null,
            "padding": null,
            "grid_auto_rows": null,
            "grid_gap": null,
            "max_width": null,
            "order": null,
            "_view_module_version": "1.2.0",
            "grid_template_areas": null,
            "object_position": null,
            "object_fit": null,
            "grid_auto_columns": null,
            "margin": null,
            "display": null,
            "left": null
          }
        },
        "bc85f1ed70944525a07a1d351d71e142": {
          "model_module": "@jupyter-widgets/controls",
          "model_name": "VBoxModel",
          "model_module_version": "1.5.0",
          "state": {
            "_view_name": "VBoxView",
            "_dom_classes": [
              "widget-interact"
            ],
            "_model_name": "VBoxModel",
            "_view_module": "@jupyter-widgets/controls",
            "_model_module_version": "1.5.0",
            "_view_count": null,
            "_view_module_version": "1.5.0",
            "box_style": "",
            "layout": "IPY_MODEL_38efd26e7eb34eaa856795e2b686c7eb",
            "_model_module": "@jupyter-widgets/controls",
            "children": [
              "IPY_MODEL_225a5f838fc948deb727c1b73c46410b",
              "IPY_MODEL_76a4798a65954420a7b45d0cf12a57f3",
              "IPY_MODEL_a6b38a82f81944ed9ba85af078d5ee26",
              "IPY_MODEL_e8ccbfcfa3894f4982943c6ce99d4dc2"
            ]
          }
        },
        "38efd26e7eb34eaa856795e2b686c7eb": {
          "model_module": "@jupyter-widgets/base",
          "model_name": "LayoutModel",
          "model_module_version": "1.2.0",
          "state": {
            "_view_name": "LayoutView",
            "grid_template_rows": null,
            "right": null,
            "justify_content": null,
            "_view_module": "@jupyter-widgets/base",
            "overflow": null,
            "_model_module_version": "1.2.0",
            "_view_count": null,
            "flex_flow": null,
            "width": null,
            "min_width": null,
            "border": null,
            "align_items": null,
            "bottom": null,
            "_model_module": "@jupyter-widgets/base",
            "top": null,
            "grid_column": null,
            "overflow_y": null,
            "overflow_x": null,
            "grid_auto_flow": null,
            "grid_area": null,
            "grid_template_columns": null,
            "flex": null,
            "_model_name": "LayoutModel",
            "justify_items": null,
            "grid_row": null,
            "max_height": null,
            "align_content": null,
            "visibility": null,
            "align_self": null,
            "height": null,
            "min_height": null,
            "padding": null,
            "grid_auto_rows": null,
            "grid_gap": null,
            "max_width": null,
            "order": null,
            "_view_module_version": "1.2.0",
            "grid_template_areas": null,
            "object_position": null,
            "object_fit": null,
            "grid_auto_columns": null,
            "margin": null,
            "display": null,
            "left": null
          }
        },
        "225a5f838fc948deb727c1b73c46410b": {
          "model_module": "@jupyter-widgets/controls",
          "model_name": "IntSliderModel",
          "model_module_version": "1.5.0",
          "state": {
            "_view_name": "IntSliderView",
            "style": "IPY_MODEL_41921098c2fe4dd196cf05d7fd270f05",
            "_dom_classes": [],
            "description": "bianche",
            "step": 1,
            "_model_name": "IntSliderModel",
            "orientation": "horizontal",
            "max": 5,
            "_view_module": "@jupyter-widgets/controls",
            "_model_module_version": "1.5.0",
            "value": 2,
            "_view_count": null,
            "disabled": false,
            "_view_module_version": "1.5.0",
            "min": 1,
            "continuous_update": true,
            "readout_format": "d",
            "description_tooltip": null,
            "readout": true,
            "_model_module": "@jupyter-widgets/controls",
            "layout": "IPY_MODEL_dc7b920ca8ff4ca18d2ad3204d9b4f1a"
          }
        },
        "76a4798a65954420a7b45d0cf12a57f3": {
          "model_module": "@jupyter-widgets/controls",
          "model_name": "IntSliderModel",
          "model_module_version": "1.5.0",
          "state": {
            "_view_name": "IntSliderView",
            "style": "IPY_MODEL_dab445aac99a4fbbb34693a6fe1dadef",
            "_dom_classes": [],
            "description": "rosse",
            "step": 1,
            "_model_name": "IntSliderModel",
            "orientation": "horizontal",
            "max": 5,
            "_view_module": "@jupyter-widgets/controls",
            "_model_module_version": "1.5.0",
            "value": 3,
            "_view_count": null,
            "disabled": false,
            "_view_module_version": "1.5.0",
            "min": 1,
            "continuous_update": true,
            "readout_format": "d",
            "description_tooltip": null,
            "readout": true,
            "_model_module": "@jupyter-widgets/controls",
            "layout": "IPY_MODEL_779dad85f2f44fdf8da3efa13739f4e7"
          }
        },
        "a6b38a82f81944ed9ba85af078d5ee26": {
          "model_module": "@jupyter-widgets/controls",
          "model_name": "ButtonModel",
          "model_module_version": "1.5.0",
          "state": {
            "_view_name": "ButtonView",
            "style": "IPY_MODEL_58f10d0fb6fc441095c85dce7e849b92",
            "_dom_classes": [],
            "description": "Run Interact",
            "_model_name": "ButtonModel",
            "button_style": "",
            "_view_module": "@jupyter-widgets/controls",
            "_model_module_version": "1.5.0",
            "tooltip": "",
            "_view_count": null,
            "disabled": false,
            "_view_module_version": "1.5.0",
            "layout": "IPY_MODEL_e7b74e4488ec42b2a58ed82e42bf0e8f",
            "_model_module": "@jupyter-widgets/controls",
            "icon": ""
          }
        },
        "e8ccbfcfa3894f4982943c6ce99d4dc2": {
          "model_module": "@jupyter-widgets/output",
          "model_name": "OutputModel",
          "model_module_version": "1.0.0",
          "state": {
            "_view_name": "OutputView",
            "msg_id": "",
            "_dom_classes": [],
            "_model_name": "OutputModel",
            "outputs": [],
            "_view_module": "@jupyter-widgets/output",
            "_model_module_version": "1.0.0",
            "_view_count": null,
            "_view_module_version": "1.0.0",
            "layout": "IPY_MODEL_a0318e8167d844f28c11b093fa8f4725",
            "_model_module": "@jupyter-widgets/output"
          }
        },
        "41921098c2fe4dd196cf05d7fd270f05": {
          "model_module": "@jupyter-widgets/controls",
          "model_name": "SliderStyleModel",
          "model_module_version": "1.5.0",
          "state": {
            "_view_name": "StyleView",
            "handle_color": null,
            "_model_name": "SliderStyleModel",
            "description_width": "",
            "_view_module": "@jupyter-widgets/base",
            "_model_module_version": "1.5.0",
            "_view_count": null,
            "_view_module_version": "1.2.0",
            "_model_module": "@jupyter-widgets/controls"
          }
        },
        "dc7b920ca8ff4ca18d2ad3204d9b4f1a": {
          "model_module": "@jupyter-widgets/base",
          "model_name": "LayoutModel",
          "model_module_version": "1.2.0",
          "state": {
            "_view_name": "LayoutView",
            "grid_template_rows": null,
            "right": null,
            "justify_content": null,
            "_view_module": "@jupyter-widgets/base",
            "overflow": null,
            "_model_module_version": "1.2.0",
            "_view_count": null,
            "flex_flow": null,
            "width": null,
            "min_width": null,
            "border": null,
            "align_items": null,
            "bottom": null,
            "_model_module": "@jupyter-widgets/base",
            "top": null,
            "grid_column": null,
            "overflow_y": null,
            "overflow_x": null,
            "grid_auto_flow": null,
            "grid_area": null,
            "grid_template_columns": null,
            "flex": null,
            "_model_name": "LayoutModel",
            "justify_items": null,
            "grid_row": null,
            "max_height": null,
            "align_content": null,
            "visibility": null,
            "align_self": null,
            "height": null,
            "min_height": null,
            "padding": null,
            "grid_auto_rows": null,
            "grid_gap": null,
            "max_width": null,
            "order": null,
            "_view_module_version": "1.2.0",
            "grid_template_areas": null,
            "object_position": null,
            "object_fit": null,
            "grid_auto_columns": null,
            "margin": null,
            "display": null,
            "left": null
          }
        },
        "dab445aac99a4fbbb34693a6fe1dadef": {
          "model_module": "@jupyter-widgets/controls",
          "model_name": "SliderStyleModel",
          "model_module_version": "1.5.0",
          "state": {
            "_view_name": "StyleView",
            "handle_color": null,
            "_model_name": "SliderStyleModel",
            "description_width": "",
            "_view_module": "@jupyter-widgets/base",
            "_model_module_version": "1.5.0",
            "_view_count": null,
            "_view_module_version": "1.2.0",
            "_model_module": "@jupyter-widgets/controls"
          }
        },
        "779dad85f2f44fdf8da3efa13739f4e7": {
          "model_module": "@jupyter-widgets/base",
          "model_name": "LayoutModel",
          "model_module_version": "1.2.0",
          "state": {
            "_view_name": "LayoutView",
            "grid_template_rows": null,
            "right": null,
            "justify_content": null,
            "_view_module": "@jupyter-widgets/base",
            "overflow": null,
            "_model_module_version": "1.2.0",
            "_view_count": null,
            "flex_flow": null,
            "width": null,
            "min_width": null,
            "border": null,
            "align_items": null,
            "bottom": null,
            "_model_module": "@jupyter-widgets/base",
            "top": null,
            "grid_column": null,
            "overflow_y": null,
            "overflow_x": null,
            "grid_auto_flow": null,
            "grid_area": null,
            "grid_template_columns": null,
            "flex": null,
            "_model_name": "LayoutModel",
            "justify_items": null,
            "grid_row": null,
            "max_height": null,
            "align_content": null,
            "visibility": null,
            "align_self": null,
            "height": null,
            "min_height": null,
            "padding": null,
            "grid_auto_rows": null,
            "grid_gap": null,
            "max_width": null,
            "order": null,
            "_view_module_version": "1.2.0",
            "grid_template_areas": null,
            "object_position": null,
            "object_fit": null,
            "grid_auto_columns": null,
            "margin": null,
            "display": null,
            "left": null
          }
        },
        "58f10d0fb6fc441095c85dce7e849b92": {
          "model_module": "@jupyter-widgets/controls",
          "model_name": "ButtonStyleModel",
          "model_module_version": "1.5.0",
          "state": {
            "_view_name": "StyleView",
            "_model_name": "ButtonStyleModel",
            "_view_module": "@jupyter-widgets/base",
            "_model_module_version": "1.5.0",
            "_view_count": null,
            "button_color": null,
            "font_weight": "",
            "_view_module_version": "1.2.0",
            "_model_module": "@jupyter-widgets/controls"
          }
        },
        "e7b74e4488ec42b2a58ed82e42bf0e8f": {
          "model_module": "@jupyter-widgets/base",
          "model_name": "LayoutModel",
          "model_module_version": "1.2.0",
          "state": {
            "_view_name": "LayoutView",
            "grid_template_rows": null,
            "right": null,
            "justify_content": null,
            "_view_module": "@jupyter-widgets/base",
            "overflow": null,
            "_model_module_version": "1.2.0",
            "_view_count": null,
            "flex_flow": null,
            "width": null,
            "min_width": null,
            "border": null,
            "align_items": null,
            "bottom": null,
            "_model_module": "@jupyter-widgets/base",
            "top": null,
            "grid_column": null,
            "overflow_y": null,
            "overflow_x": null,
            "grid_auto_flow": null,
            "grid_area": null,
            "grid_template_columns": null,
            "flex": null,
            "_model_name": "LayoutModel",
            "justify_items": null,
            "grid_row": null,
            "max_height": null,
            "align_content": null,
            "visibility": null,
            "align_self": null,
            "height": null,
            "min_height": null,
            "padding": null,
            "grid_auto_rows": null,
            "grid_gap": null,
            "max_width": null,
            "order": null,
            "_view_module_version": "1.2.0",
            "grid_template_areas": null,
            "object_position": null,
            "object_fit": null,
            "grid_auto_columns": null,
            "margin": null,
            "display": null,
            "left": null
          }
        },
        "a0318e8167d844f28c11b093fa8f4725": {
          "model_module": "@jupyter-widgets/base",
          "model_name": "LayoutModel",
          "model_module_version": "1.2.0",
          "state": {
            "_view_name": "LayoutView",
            "grid_template_rows": null,
            "right": null,
            "justify_content": null,
            "_view_module": "@jupyter-widgets/base",
            "overflow": null,
            "_model_module_version": "1.2.0",
            "_view_count": null,
            "flex_flow": null,
            "width": null,
            "min_width": null,
            "border": null,
            "align_items": null,
            "bottom": null,
            "_model_module": "@jupyter-widgets/base",
            "top": null,
            "grid_column": null,
            "overflow_y": null,
            "overflow_x": null,
            "grid_auto_flow": null,
            "grid_area": null,
            "grid_template_columns": null,
            "flex": null,
            "_model_name": "LayoutModel",
            "justify_items": null,
            "grid_row": null,
            "max_height": null,
            "align_content": null,
            "visibility": null,
            "align_self": null,
            "height": null,
            "min_height": null,
            "padding": null,
            "grid_auto_rows": null,
            "grid_gap": null,
            "max_width": null,
            "order": null,
            "_view_module_version": "1.2.0",
            "grid_template_areas": null,
            "object_position": null,
            "object_fit": null,
            "grid_auto_columns": null,
            "margin": null,
            "display": null,
            "left": null
          }
        },
        "9f194c75ac21431881610b9536699174": {
          "model_module": "@jupyter-widgets/controls",
          "model_name": "VBoxModel",
          "model_module_version": "1.5.0",
          "state": {
            "_view_name": "VBoxView",
            "_dom_classes": [
              "widget-interact"
            ],
            "_model_name": "VBoxModel",
            "_view_module": "@jupyter-widgets/controls",
            "_model_module_version": "1.5.0",
            "_view_count": null,
            "_view_module_version": "1.5.0",
            "box_style": "",
            "layout": "IPY_MODEL_4a19d77fd0da4868b7306b1a8f6f8b0f",
            "_model_module": "@jupyter-widgets/controls",
            "children": [
              "IPY_MODEL_3639e1bb0a8b4c3a823a34dee996c212",
              "IPY_MODEL_67be52e89a9e4382bc3dfc0670fd5064",
              "IPY_MODEL_a58f4b4410fd4543b2ee831034b99f66",
              "IPY_MODEL_ee315db5cc8a4fbbadc6b23bc275fc38"
            ]
          }
        },
        "4a19d77fd0da4868b7306b1a8f6f8b0f": {
          "model_module": "@jupyter-widgets/base",
          "model_name": "LayoutModel",
          "model_module_version": "1.2.0",
          "state": {
            "_view_name": "LayoutView",
            "grid_template_rows": null,
            "right": null,
            "justify_content": null,
            "_view_module": "@jupyter-widgets/base",
            "overflow": null,
            "_model_module_version": "1.2.0",
            "_view_count": null,
            "flex_flow": null,
            "width": null,
            "min_width": null,
            "border": null,
            "align_items": null,
            "bottom": null,
            "_model_module": "@jupyter-widgets/base",
            "top": null,
            "grid_column": null,
            "overflow_y": null,
            "overflow_x": null,
            "grid_auto_flow": null,
            "grid_area": null,
            "grid_template_columns": null,
            "flex": null,
            "_model_name": "LayoutModel",
            "justify_items": null,
            "grid_row": null,
            "max_height": null,
            "align_content": null,
            "visibility": null,
            "align_self": null,
            "height": null,
            "min_height": null,
            "padding": null,
            "grid_auto_rows": null,
            "grid_gap": null,
            "max_width": null,
            "order": null,
            "_view_module_version": "1.2.0",
            "grid_template_areas": null,
            "object_position": null,
            "object_fit": null,
            "grid_auto_columns": null,
            "margin": null,
            "display": null,
            "left": null
          }
        },
        "3639e1bb0a8b4c3a823a34dee996c212": {
          "model_module": "@jupyter-widgets/controls",
          "model_name": "IntSliderModel",
          "model_module_version": "1.5.0",
          "state": {
            "_view_name": "IntSliderView",
            "style": "IPY_MODEL_7533932590604b6a98628b2db3c45e8b",
            "_dom_classes": [],
            "description": "bianche",
            "step": 1,
            "_model_name": "IntSliderModel",
            "orientation": "horizontal",
            "max": 5,
            "_view_module": "@jupyter-widgets/controls",
            "_model_module_version": "1.5.0",
            "value": 2,
            "_view_count": null,
            "disabled": false,
            "_view_module_version": "1.5.0",
            "min": 1,
            "continuous_update": true,
            "readout_format": "d",
            "description_tooltip": null,
            "readout": true,
            "_model_module": "@jupyter-widgets/controls",
            "layout": "IPY_MODEL_f765cea56b1d4b2bbabc65c6f048e682"
          }
        },
        "67be52e89a9e4382bc3dfc0670fd5064": {
          "model_module": "@jupyter-widgets/controls",
          "model_name": "IntSliderModel",
          "model_module_version": "1.5.0",
          "state": {
            "_view_name": "IntSliderView",
            "style": "IPY_MODEL_52840325a5d448d784421ededbfcffb7",
            "_dom_classes": [],
            "description": "rosse",
            "step": 1,
            "_model_name": "IntSliderModel",
            "orientation": "horizontal",
            "max": 5,
            "_view_module": "@jupyter-widgets/controls",
            "_model_module_version": "1.5.0",
            "value": 3,
            "_view_count": null,
            "disabled": false,
            "_view_module_version": "1.5.0",
            "min": 1,
            "continuous_update": true,
            "readout_format": "d",
            "description_tooltip": null,
            "readout": true,
            "_model_module": "@jupyter-widgets/controls",
            "layout": "IPY_MODEL_a8bd170b425044cbb538ab9c5fc4106b"
          }
        },
        "a58f4b4410fd4543b2ee831034b99f66": {
          "model_module": "@jupyter-widgets/controls",
          "model_name": "ButtonModel",
          "model_module_version": "1.5.0",
          "state": {
            "_view_name": "ButtonView",
            "style": "IPY_MODEL_d24f858aa53f4013b184fbedbf65553e",
            "_dom_classes": [],
            "description": "Run Interact",
            "_model_name": "ButtonModel",
            "button_style": "",
            "_view_module": "@jupyter-widgets/controls",
            "_model_module_version": "1.5.0",
            "tooltip": "",
            "_view_count": null,
            "disabled": false,
            "_view_module_version": "1.5.0",
            "layout": "IPY_MODEL_f2fa5a0ad1454408bde05a6a01e35ffe",
            "_model_module": "@jupyter-widgets/controls",
            "icon": ""
          }
        },
        "ee315db5cc8a4fbbadc6b23bc275fc38": {
          "model_module": "@jupyter-widgets/output",
          "model_name": "OutputModel",
          "model_module_version": "1.0.0",
          "state": {
            "_view_name": "OutputView",
            "msg_id": "",
            "_dom_classes": [],
            "_model_name": "OutputModel",
            "outputs": [],
            "_view_module": "@jupyter-widgets/output",
            "_model_module_version": "1.0.0",
            "_view_count": null,
            "_view_module_version": "1.0.0",
            "layout": "IPY_MODEL_2dedeb4a68994ea1aa902a667f934793",
            "_model_module": "@jupyter-widgets/output"
          }
        },
        "7533932590604b6a98628b2db3c45e8b": {
          "model_module": "@jupyter-widgets/controls",
          "model_name": "SliderStyleModel",
          "model_module_version": "1.5.0",
          "state": {
            "_view_name": "StyleView",
            "handle_color": null,
            "_model_name": "SliderStyleModel",
            "description_width": "",
            "_view_module": "@jupyter-widgets/base",
            "_model_module_version": "1.5.0",
            "_view_count": null,
            "_view_module_version": "1.2.0",
            "_model_module": "@jupyter-widgets/controls"
          }
        },
        "f765cea56b1d4b2bbabc65c6f048e682": {
          "model_module": "@jupyter-widgets/base",
          "model_name": "LayoutModel",
          "model_module_version": "1.2.0",
          "state": {
            "_view_name": "LayoutView",
            "grid_template_rows": null,
            "right": null,
            "justify_content": null,
            "_view_module": "@jupyter-widgets/base",
            "overflow": null,
            "_model_module_version": "1.2.0",
            "_view_count": null,
            "flex_flow": null,
            "width": null,
            "min_width": null,
            "border": null,
            "align_items": null,
            "bottom": null,
            "_model_module": "@jupyter-widgets/base",
            "top": null,
            "grid_column": null,
            "overflow_y": null,
            "overflow_x": null,
            "grid_auto_flow": null,
            "grid_area": null,
            "grid_template_columns": null,
            "flex": null,
            "_model_name": "LayoutModel",
            "justify_items": null,
            "grid_row": null,
            "max_height": null,
            "align_content": null,
            "visibility": null,
            "align_self": null,
            "height": null,
            "min_height": null,
            "padding": null,
            "grid_auto_rows": null,
            "grid_gap": null,
            "max_width": null,
            "order": null,
            "_view_module_version": "1.2.0",
            "grid_template_areas": null,
            "object_position": null,
            "object_fit": null,
            "grid_auto_columns": null,
            "margin": null,
            "display": null,
            "left": null
          }
        },
        "52840325a5d448d784421ededbfcffb7": {
          "model_module": "@jupyter-widgets/controls",
          "model_name": "SliderStyleModel",
          "model_module_version": "1.5.0",
          "state": {
            "_view_name": "StyleView",
            "handle_color": null,
            "_model_name": "SliderStyleModel",
            "description_width": "",
            "_view_module": "@jupyter-widgets/base",
            "_model_module_version": "1.5.0",
            "_view_count": null,
            "_view_module_version": "1.2.0",
            "_model_module": "@jupyter-widgets/controls"
          }
        },
        "a8bd170b425044cbb538ab9c5fc4106b": {
          "model_module": "@jupyter-widgets/base",
          "model_name": "LayoutModel",
          "model_module_version": "1.2.0",
          "state": {
            "_view_name": "LayoutView",
            "grid_template_rows": null,
            "right": null,
            "justify_content": null,
            "_view_module": "@jupyter-widgets/base",
            "overflow": null,
            "_model_module_version": "1.2.0",
            "_view_count": null,
            "flex_flow": null,
            "width": null,
            "min_width": null,
            "border": null,
            "align_items": null,
            "bottom": null,
            "_model_module": "@jupyter-widgets/base",
            "top": null,
            "grid_column": null,
            "overflow_y": null,
            "overflow_x": null,
            "grid_auto_flow": null,
            "grid_area": null,
            "grid_template_columns": null,
            "flex": null,
            "_model_name": "LayoutModel",
            "justify_items": null,
            "grid_row": null,
            "max_height": null,
            "align_content": null,
            "visibility": null,
            "align_self": null,
            "height": null,
            "min_height": null,
            "padding": null,
            "grid_auto_rows": null,
            "grid_gap": null,
            "max_width": null,
            "order": null,
            "_view_module_version": "1.2.0",
            "grid_template_areas": null,
            "object_position": null,
            "object_fit": null,
            "grid_auto_columns": null,
            "margin": null,
            "display": null,
            "left": null
          }
        },
        "d24f858aa53f4013b184fbedbf65553e": {
          "model_module": "@jupyter-widgets/controls",
          "model_name": "ButtonStyleModel",
          "model_module_version": "1.5.0",
          "state": {
            "_view_name": "StyleView",
            "_model_name": "ButtonStyleModel",
            "_view_module": "@jupyter-widgets/base",
            "_model_module_version": "1.5.0",
            "_view_count": null,
            "button_color": null,
            "font_weight": "",
            "_view_module_version": "1.2.0",
            "_model_module": "@jupyter-widgets/controls"
          }
        },
        "f2fa5a0ad1454408bde05a6a01e35ffe": {
          "model_module": "@jupyter-widgets/base",
          "model_name": "LayoutModel",
          "model_module_version": "1.2.0",
          "state": {
            "_view_name": "LayoutView",
            "grid_template_rows": null,
            "right": null,
            "justify_content": null,
            "_view_module": "@jupyter-widgets/base",
            "overflow": null,
            "_model_module_version": "1.2.0",
            "_view_count": null,
            "flex_flow": null,
            "width": null,
            "min_width": null,
            "border": null,
            "align_items": null,
            "bottom": null,
            "_model_module": "@jupyter-widgets/base",
            "top": null,
            "grid_column": null,
            "overflow_y": null,
            "overflow_x": null,
            "grid_auto_flow": null,
            "grid_area": null,
            "grid_template_columns": null,
            "flex": null,
            "_model_name": "LayoutModel",
            "justify_items": null,
            "grid_row": null,
            "max_height": null,
            "align_content": null,
            "visibility": null,
            "align_self": null,
            "height": null,
            "min_height": null,
            "padding": null,
            "grid_auto_rows": null,
            "grid_gap": null,
            "max_width": null,
            "order": null,
            "_view_module_version": "1.2.0",
            "grid_template_areas": null,
            "object_position": null,
            "object_fit": null,
            "grid_auto_columns": null,
            "margin": null,
            "display": null,
            "left": null
          }
        },
        "2dedeb4a68994ea1aa902a667f934793": {
          "model_module": "@jupyter-widgets/base",
          "model_name": "LayoutModel",
          "model_module_version": "1.2.0",
          "state": {
            "_view_name": "LayoutView",
            "grid_template_rows": null,
            "right": null,
            "justify_content": null,
            "_view_module": "@jupyter-widgets/base",
            "overflow": null,
            "_model_module_version": "1.2.0",
            "_view_count": null,
            "flex_flow": null,
            "width": null,
            "min_width": null,
            "border": null,
            "align_items": null,
            "bottom": null,
            "_model_module": "@jupyter-widgets/base",
            "top": null,
            "grid_column": null,
            "overflow_y": null,
            "overflow_x": null,
            "grid_auto_flow": null,
            "grid_area": null,
            "grid_template_columns": null,
            "flex": null,
            "_model_name": "LayoutModel",
            "justify_items": null,
            "grid_row": null,
            "max_height": null,
            "align_content": null,
            "visibility": null,
            "align_self": null,
            "height": null,
            "min_height": null,
            "padding": null,
            "grid_auto_rows": null,
            "grid_gap": null,
            "max_width": null,
            "order": null,
            "_view_module_version": "1.2.0",
            "grid_template_areas": null,
            "object_position": null,
            "object_fit": null,
            "grid_auto_columns": null,
            "margin": null,
            "display": null,
            "left": null
          }
        },
        "a6e6bff357684a9dbbfb0868963bf48a": {
          "model_module": "@jupyter-widgets/controls",
          "model_name": "VBoxModel",
          "model_module_version": "1.5.0",
          "state": {
            "_view_name": "VBoxView",
            "_dom_classes": [
              "widget-interact"
            ],
            "_model_name": "VBoxModel",
            "_view_module": "@jupyter-widgets/controls",
            "_model_module_version": "1.5.0",
            "_view_count": null,
            "_view_module_version": "1.5.0",
            "box_style": "",
            "layout": "IPY_MODEL_f7f63172205b44d0b616670a0cbb73ea",
            "_model_module": "@jupyter-widgets/controls",
            "children": [
              "IPY_MODEL_f75501d9b7ae41e19c79dd41c31baac0",
              "IPY_MODEL_74b6665ead06494f8ac5cbdb3366fa00",
              "IPY_MODEL_fc2a27b464d44253a7ba437517930e02"
            ]
          }
        },
        "f7f63172205b44d0b616670a0cbb73ea": {
          "model_module": "@jupyter-widgets/base",
          "model_name": "LayoutModel",
          "model_module_version": "1.2.0",
          "state": {
            "_view_name": "LayoutView",
            "grid_template_rows": null,
            "right": null,
            "justify_content": null,
            "_view_module": "@jupyter-widgets/base",
            "overflow": null,
            "_model_module_version": "1.2.0",
            "_view_count": null,
            "flex_flow": null,
            "width": null,
            "min_width": null,
            "border": null,
            "align_items": null,
            "bottom": null,
            "_model_module": "@jupyter-widgets/base",
            "top": null,
            "grid_column": null,
            "overflow_y": null,
            "overflow_x": null,
            "grid_auto_flow": null,
            "grid_area": null,
            "grid_template_columns": null,
            "flex": null,
            "_model_name": "LayoutModel",
            "justify_items": null,
            "grid_row": null,
            "max_height": null,
            "align_content": null,
            "visibility": null,
            "align_self": null,
            "height": null,
            "min_height": null,
            "padding": null,
            "grid_auto_rows": null,
            "grid_gap": null,
            "max_width": null,
            "order": null,
            "_view_module_version": "1.2.0",
            "grid_template_areas": null,
            "object_position": null,
            "object_fit": null,
            "grid_auto_columns": null,
            "margin": null,
            "display": null,
            "left": null
          }
        },
        "f75501d9b7ae41e19c79dd41c31baac0": {
          "model_module": "@jupyter-widgets/controls",
          "model_name": "IntSliderModel",
          "model_module_version": "1.5.0",
          "state": {
            "_view_name": "IntSliderView",
            "style": "IPY_MODEL_847f68a9f63a48a9a4e648895de414d5",
            "_dom_classes": [],
            "description": "tempo",
            "step": 1,
            "_model_name": "IntSliderModel",
            "orientation": "horizontal",
            "max": 20,
            "_view_module": "@jupyter-widgets/controls",
            "_model_module_version": "1.5.0",
            "value": 10,
            "_view_count": null,
            "disabled": false,
            "_view_module_version": "1.5.0",
            "min": 1,
            "continuous_update": true,
            "readout_format": "d",
            "description_tooltip": null,
            "readout": true,
            "_model_module": "@jupyter-widgets/controls",
            "layout": "IPY_MODEL_f07bd8fe01f74e0e80a2d5ae430b8e66"
          }
        },
        "74b6665ead06494f8ac5cbdb3366fa00": {
          "model_module": "@jupyter-widgets/controls",
          "model_name": "ButtonModel",
          "model_module_version": "1.5.0",
          "state": {
            "_view_name": "ButtonView",
            "style": "IPY_MODEL_9b651c5bc6ee4bc3897454b5417bf074",
            "_dom_classes": [],
            "description": "Run Interact",
            "_model_name": "ButtonModel",
            "button_style": "",
            "_view_module": "@jupyter-widgets/controls",
            "_model_module_version": "1.5.0",
            "tooltip": "",
            "_view_count": null,
            "disabled": false,
            "_view_module_version": "1.5.0",
            "layout": "IPY_MODEL_cd6b91330a6f40f2bee80841e0f09ce5",
            "_model_module": "@jupyter-widgets/controls",
            "icon": ""
          }
        },
        "fc2a27b464d44253a7ba437517930e02": {
          "model_module": "@jupyter-widgets/output",
          "model_name": "OutputModel",
          "model_module_version": "1.0.0",
          "state": {
            "_view_name": "OutputView",
            "msg_id": "",
            "_dom_classes": [],
            "_model_name": "OutputModel",
            "outputs": [
              {
                "output_type": "display_data",
                "data": {
                  "image/png": "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\n",
                  "text/plain": "<Figure size 432x288 with 1 Axes>"
                },
                "metadata": {
                  "needs_background": "light"
                }
              }
            ],
            "_view_module": "@jupyter-widgets/output",
            "_model_module_version": "1.0.0",
            "_view_count": null,
            "_view_module_version": "1.0.0",
            "layout": "IPY_MODEL_fec22295aac34773a0de8867c9c02aa5",
            "_model_module": "@jupyter-widgets/output"
          }
        },
        "847f68a9f63a48a9a4e648895de414d5": {
          "model_module": "@jupyter-widgets/controls",
          "model_name": "SliderStyleModel",
          "model_module_version": "1.5.0",
          "state": {
            "_view_name": "StyleView",
            "handle_color": null,
            "_model_name": "SliderStyleModel",
            "description_width": "",
            "_view_module": "@jupyter-widgets/base",
            "_model_module_version": "1.5.0",
            "_view_count": null,
            "_view_module_version": "1.2.0",
            "_model_module": "@jupyter-widgets/controls"
          }
        },
        "f07bd8fe01f74e0e80a2d5ae430b8e66": {
          "model_module": "@jupyter-widgets/base",
          "model_name": "LayoutModel",
          "model_module_version": "1.2.0",
          "state": {
            "_view_name": "LayoutView",
            "grid_template_rows": null,
            "right": null,
            "justify_content": null,
            "_view_module": "@jupyter-widgets/base",
            "overflow": null,
            "_model_module_version": "1.2.0",
            "_view_count": null,
            "flex_flow": null,
            "width": null,
            "min_width": null,
            "border": null,
            "align_items": null,
            "bottom": null,
            "_model_module": "@jupyter-widgets/base",
            "top": null,
            "grid_column": null,
            "overflow_y": null,
            "overflow_x": null,
            "grid_auto_flow": null,
            "grid_area": null,
            "grid_template_columns": null,
            "flex": null,
            "_model_name": "LayoutModel",
            "justify_items": null,
            "grid_row": null,
            "max_height": null,
            "align_content": null,
            "visibility": null,
            "align_self": null,
            "height": null,
            "min_height": null,
            "padding": null,
            "grid_auto_rows": null,
            "grid_gap": null,
            "max_width": null,
            "order": null,
            "_view_module_version": "1.2.0",
            "grid_template_areas": null,
            "object_position": null,
            "object_fit": null,
            "grid_auto_columns": null,
            "margin": null,
            "display": null,
            "left": null
          }
        },
        "9b651c5bc6ee4bc3897454b5417bf074": {
          "model_module": "@jupyter-widgets/controls",
          "model_name": "ButtonStyleModel",
          "model_module_version": "1.5.0",
          "state": {
            "_view_name": "StyleView",
            "_model_name": "ButtonStyleModel",
            "_view_module": "@jupyter-widgets/base",
            "_model_module_version": "1.5.0",
            "_view_count": null,
            "button_color": null,
            "font_weight": "",
            "_view_module_version": "1.2.0",
            "_model_module": "@jupyter-widgets/controls"
          }
        },
        "cd6b91330a6f40f2bee80841e0f09ce5": {
          "model_module": "@jupyter-widgets/base",
          "model_name": "LayoutModel",
          "model_module_version": "1.2.0",
          "state": {
            "_view_name": "LayoutView",
            "grid_template_rows": null,
            "right": null,
            "justify_content": null,
            "_view_module": "@jupyter-widgets/base",
            "overflow": null,
            "_model_module_version": "1.2.0",
            "_view_count": null,
            "flex_flow": null,
            "width": null,
            "min_width": null,
            "border": null,
            "align_items": null,
            "bottom": null,
            "_model_module": "@jupyter-widgets/base",
            "top": null,
            "grid_column": null,
            "overflow_y": null,
            "overflow_x": null,
            "grid_auto_flow": null,
            "grid_area": null,
            "grid_template_columns": null,
            "flex": null,
            "_model_name": "LayoutModel",
            "justify_items": null,
            "grid_row": null,
            "max_height": null,
            "align_content": null,
            "visibility": null,
            "align_self": null,
            "height": null,
            "min_height": null,
            "padding": null,
            "grid_auto_rows": null,
            "grid_gap": null,
            "max_width": null,
            "order": null,
            "_view_module_version": "1.2.0",
            "grid_template_areas": null,
            "object_position": null,
            "object_fit": null,
            "grid_auto_columns": null,
            "margin": null,
            "display": null,
            "left": null
          }
        },
        "fec22295aac34773a0de8867c9c02aa5": {
          "model_module": "@jupyter-widgets/base",
          "model_name": "LayoutModel",
          "model_module_version": "1.2.0",
          "state": {
            "_view_name": "LayoutView",
            "grid_template_rows": null,
            "right": null,
            "justify_content": null,
            "_view_module": "@jupyter-widgets/base",
            "overflow": null,
            "_model_module_version": "1.2.0",
            "_view_count": null,
            "flex_flow": null,
            "width": null,
            "min_width": null,
            "border": null,
            "align_items": null,
            "bottom": null,
            "_model_module": "@jupyter-widgets/base",
            "top": null,
            "grid_column": null,
            "overflow_y": null,
            "overflow_x": null,
            "grid_auto_flow": null,
            "grid_area": null,
            "grid_template_columns": null,
            "flex": null,
            "_model_name": "LayoutModel",
            "justify_items": null,
            "grid_row": null,
            "max_height": null,
            "align_content": null,
            "visibility": null,
            "align_self": null,
            "height": null,
            "min_height": null,
            "padding": null,
            "grid_auto_rows": null,
            "grid_gap": null,
            "max_width": null,
            "order": null,
            "_view_module_version": "1.2.0",
            "grid_template_areas": null,
            "object_position": null,
            "object_fit": null,
            "grid_auto_columns": null,
            "margin": null,
            "display": null,
            "left": null
          }
        },
        "94b92a9f37fb49d99f60da7f8558597d": {
          "model_module": "@jupyter-widgets/controls",
          "model_name": "VBoxModel",
          "model_module_version": "1.5.0",
          "state": {
            "_view_name": "VBoxView",
            "_dom_classes": [
              "widget-interact"
            ],
            "_model_name": "VBoxModel",
            "_view_module": "@jupyter-widgets/controls",
            "_model_module_version": "1.5.0",
            "_view_count": null,
            "_view_module_version": "1.5.0",
            "box_style": "",
            "layout": "IPY_MODEL_62c8fe513c514a7b9bdd8667f756a8a1",
            "_model_module": "@jupyter-widgets/controls",
            "children": [
              "IPY_MODEL_bcaefec76e6b4e97b28d097b4f995fc9",
              "IPY_MODEL_90df6c676bd046b68d826b30e0af5d8c",
              "IPY_MODEL_36a0000caaf04a719bf3182261b4c251"
            ]
          }
        },
        "62c8fe513c514a7b9bdd8667f756a8a1": {
          "model_module": "@jupyter-widgets/base",
          "model_name": "LayoutModel",
          "model_module_version": "1.2.0",
          "state": {
            "_view_name": "LayoutView",
            "grid_template_rows": null,
            "right": null,
            "justify_content": null,
            "_view_module": "@jupyter-widgets/base",
            "overflow": null,
            "_model_module_version": "1.2.0",
            "_view_count": null,
            "flex_flow": null,
            "width": null,
            "min_width": null,
            "border": null,
            "align_items": null,
            "bottom": null,
            "_model_module": "@jupyter-widgets/base",
            "top": null,
            "grid_column": null,
            "overflow_y": null,
            "overflow_x": null,
            "grid_auto_flow": null,
            "grid_area": null,
            "grid_template_columns": null,
            "flex": null,
            "_model_name": "LayoutModel",
            "justify_items": null,
            "grid_row": null,
            "max_height": null,
            "align_content": null,
            "visibility": null,
            "align_self": null,
            "height": null,
            "min_height": null,
            "padding": null,
            "grid_auto_rows": null,
            "grid_gap": null,
            "max_width": null,
            "order": null,
            "_view_module_version": "1.2.0",
            "grid_template_areas": null,
            "object_position": null,
            "object_fit": null,
            "grid_auto_columns": null,
            "margin": null,
            "display": null,
            "left": null
          }
        },
        "bcaefec76e6b4e97b28d097b4f995fc9": {
          "model_module": "@jupyter-widgets/controls",
          "model_name": "IntSliderModel",
          "model_module_version": "1.5.0",
          "state": {
            "_view_name": "IntSliderView",
            "style": "IPY_MODEL_0836e3cc4fa44ae6b2fb4d5152e2ba62",
            "_dom_classes": [],
            "description": "tempo",
            "step": 1,
            "_model_name": "IntSliderModel",
            "orientation": "horizontal",
            "max": 20,
            "_view_module": "@jupyter-widgets/controls",
            "_model_module_version": "1.5.0",
            "value": 10,
            "_view_count": null,
            "disabled": false,
            "_view_module_version": "1.5.0",
            "min": 1,
            "continuous_update": true,
            "readout_format": "d",
            "description_tooltip": null,
            "readout": true,
            "_model_module": "@jupyter-widgets/controls",
            "layout": "IPY_MODEL_7336e56936d44e4da03369d576862cc9"
          }
        },
        "90df6c676bd046b68d826b30e0af5d8c": {
          "model_module": "@jupyter-widgets/controls",
          "model_name": "ButtonModel",
          "model_module_version": "1.5.0",
          "state": {
            "_view_name": "ButtonView",
            "style": "IPY_MODEL_f27a3b880ef7480fa83059ff3049d1c2",
            "_dom_classes": [],
            "description": "Run Interact",
            "_model_name": "ButtonModel",
            "button_style": "",
            "_view_module": "@jupyter-widgets/controls",
            "_model_module_version": "1.5.0",
            "tooltip": "",
            "_view_count": null,
            "disabled": false,
            "_view_module_version": "1.5.0",
            "layout": "IPY_MODEL_439424191ef14dfb900becdfc59e14f5",
            "_model_module": "@jupyter-widgets/controls",
            "icon": ""
          }
        },
        "36a0000caaf04a719bf3182261b4c251": {
          "model_module": "@jupyter-widgets/output",
          "model_name": "OutputModel",
          "model_module_version": "1.0.0",
          "state": {
            "_view_name": "OutputView",
            "msg_id": "",
            "_dom_classes": [],
            "_model_name": "OutputModel",
            "outputs": [
              {
                "output_type": "display_data",
                "data": {
                  "image/png": "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\n",
                  "text/plain": "<Figure size 360x360 with 1 Axes>"
                },
                "metadata": {
                  "needs_background": "light"
                }
              }
            ],
            "_view_module": "@jupyter-widgets/output",
            "_model_module_version": "1.0.0",
            "_view_count": null,
            "_view_module_version": "1.0.0",
            "layout": "IPY_MODEL_cef9e5dfdc8d4cc8aa18041622992436",
            "_model_module": "@jupyter-widgets/output"
          }
        },
        "0836e3cc4fa44ae6b2fb4d5152e2ba62": {
          "model_module": "@jupyter-widgets/controls",
          "model_name": "SliderStyleModel",
          "model_module_version": "1.5.0",
          "state": {
            "_view_name": "StyleView",
            "handle_color": null,
            "_model_name": "SliderStyleModel",
            "description_width": "",
            "_view_module": "@jupyter-widgets/base",
            "_model_module_version": "1.5.0",
            "_view_count": null,
            "_view_module_version": "1.2.0",
            "_model_module": "@jupyter-widgets/controls"
          }
        },
        "7336e56936d44e4da03369d576862cc9": {
          "model_module": "@jupyter-widgets/base",
          "model_name": "LayoutModel",
          "model_module_version": "1.2.0",
          "state": {
            "_view_name": "LayoutView",
            "grid_template_rows": null,
            "right": null,
            "justify_content": null,
            "_view_module": "@jupyter-widgets/base",
            "overflow": null,
            "_model_module_version": "1.2.0",
            "_view_count": null,
            "flex_flow": null,
            "width": null,
            "min_width": null,
            "border": null,
            "align_items": null,
            "bottom": null,
            "_model_module": "@jupyter-widgets/base",
            "top": null,
            "grid_column": null,
            "overflow_y": null,
            "overflow_x": null,
            "grid_auto_flow": null,
            "grid_area": null,
            "grid_template_columns": null,
            "flex": null,
            "_model_name": "LayoutModel",
            "justify_items": null,
            "grid_row": null,
            "max_height": null,
            "align_content": null,
            "visibility": null,
            "align_self": null,
            "height": null,
            "min_height": null,
            "padding": null,
            "grid_auto_rows": null,
            "grid_gap": null,
            "max_width": null,
            "order": null,
            "_view_module_version": "1.2.0",
            "grid_template_areas": null,
            "object_position": null,
            "object_fit": null,
            "grid_auto_columns": null,
            "margin": null,
            "display": null,
            "left": null
          }
        },
        "f27a3b880ef7480fa83059ff3049d1c2": {
          "model_module": "@jupyter-widgets/controls",
          "model_name": "ButtonStyleModel",
          "model_module_version": "1.5.0",
          "state": {
            "_view_name": "StyleView",
            "_model_name": "ButtonStyleModel",
            "_view_module": "@jupyter-widgets/base",
            "_model_module_version": "1.5.0",
            "_view_count": null,
            "button_color": null,
            "font_weight": "",
            "_view_module_version": "1.2.0",
            "_model_module": "@jupyter-widgets/controls"
          }
        },
        "439424191ef14dfb900becdfc59e14f5": {
          "model_module": "@jupyter-widgets/base",
          "model_name": "LayoutModel",
          "model_module_version": "1.2.0",
          "state": {
            "_view_name": "LayoutView",
            "grid_template_rows": null,
            "right": null,
            "justify_content": null,
            "_view_module": "@jupyter-widgets/base",
            "overflow": null,
            "_model_module_version": "1.2.0",
            "_view_count": null,
            "flex_flow": null,
            "width": null,
            "min_width": null,
            "border": null,
            "align_items": null,
            "bottom": null,
            "_model_module": "@jupyter-widgets/base",
            "top": null,
            "grid_column": null,
            "overflow_y": null,
            "overflow_x": null,
            "grid_auto_flow": null,
            "grid_area": null,
            "grid_template_columns": null,
            "flex": null,
            "_model_name": "LayoutModel",
            "justify_items": null,
            "grid_row": null,
            "max_height": null,
            "align_content": null,
            "visibility": null,
            "align_self": null,
            "height": null,
            "min_height": null,
            "padding": null,
            "grid_auto_rows": null,
            "grid_gap": null,
            "max_width": null,
            "order": null,
            "_view_module_version": "1.2.0",
            "grid_template_areas": null,
            "object_position": null,
            "object_fit": null,
            "grid_auto_columns": null,
            "margin": null,
            "display": null,
            "left": null
          }
        },
        "cef9e5dfdc8d4cc8aa18041622992436": {
          "model_module": "@jupyter-widgets/base",
          "model_name": "LayoutModel",
          "model_module_version": "1.2.0",
          "state": {
            "_view_name": "LayoutView",
            "grid_template_rows": null,
            "right": null,
            "justify_content": null,
            "_view_module": "@jupyter-widgets/base",
            "overflow": null,
            "_model_module_version": "1.2.0",
            "_view_count": null,
            "flex_flow": null,
            "width": null,
            "min_width": null,
            "border": null,
            "align_items": null,
            "bottom": null,
            "_model_module": "@jupyter-widgets/base",
            "top": null,
            "grid_column": null,
            "overflow_y": null,
            "overflow_x": null,
            "grid_auto_flow": null,
            "grid_area": null,
            "grid_template_columns": null,
            "flex": null,
            "_model_name": "LayoutModel",
            "justify_items": null,
            "grid_row": null,
            "max_height": null,
            "align_content": null,
            "visibility": null,
            "align_self": null,
            "height": null,
            "min_height": null,
            "padding": null,
            "grid_auto_rows": null,
            "grid_gap": null,
            "max_width": null,
            "order": null,
            "_view_module_version": "1.2.0",
            "grid_template_areas": null,
            "object_position": null,
            "object_fit": null,
            "grid_auto_columns": null,
            "margin": null,
            "display": null,
            "left": null
          }
        },
        "4fc5cab4a4704c689dab5c6c498c1a6a": {
          "model_module": "@jupyter-widgets/controls",
          "model_name": "VBoxModel",
          "model_module_version": "1.5.0",
          "state": {
            "_view_name": "VBoxView",
            "_dom_classes": [
              "widget-interact"
            ],
            "_model_name": "VBoxModel",
            "_view_module": "@jupyter-widgets/controls",
            "_model_module_version": "1.5.0",
            "_view_count": null,
            "_view_module_version": "1.5.0",
            "box_style": "",
            "layout": "IPY_MODEL_83ac768de76745c79f0ef5560dfdf402",
            "_model_module": "@jupyter-widgets/controls",
            "children": [
              "IPY_MODEL_ac4b6d62d8c948ffa4d8c2a6e2ec86d9",
              "IPY_MODEL_05e532e5da0a4bfcb1747d7b2fc94862",
              "IPY_MODEL_76bdfa76a4c44ae3976ef7988eb1cce9"
            ]
          }
        },
        "83ac768de76745c79f0ef5560dfdf402": {
          "model_module": "@jupyter-widgets/base",
          "model_name": "LayoutModel",
          "model_module_version": "1.2.0",
          "state": {
            "_view_name": "LayoutView",
            "grid_template_rows": null,
            "right": null,
            "justify_content": null,
            "_view_module": "@jupyter-widgets/base",
            "overflow": null,
            "_model_module_version": "1.2.0",
            "_view_count": null,
            "flex_flow": null,
            "width": null,
            "min_width": null,
            "border": null,
            "align_items": null,
            "bottom": null,
            "_model_module": "@jupyter-widgets/base",
            "top": null,
            "grid_column": null,
            "overflow_y": null,
            "overflow_x": null,
            "grid_auto_flow": null,
            "grid_area": null,
            "grid_template_columns": null,
            "flex": null,
            "_model_name": "LayoutModel",
            "justify_items": null,
            "grid_row": null,
            "max_height": null,
            "align_content": null,
            "visibility": null,
            "align_self": null,
            "height": null,
            "min_height": null,
            "padding": null,
            "grid_auto_rows": null,
            "grid_gap": null,
            "max_width": null,
            "order": null,
            "_view_module_version": "1.2.0",
            "grid_template_areas": null,
            "object_position": null,
            "object_fit": null,
            "grid_auto_columns": null,
            "margin": null,
            "display": null,
            "left": null
          }
        },
        "ac4b6d62d8c948ffa4d8c2a6e2ec86d9": {
          "model_module": "@jupyter-widgets/controls",
          "model_name": "IntSliderModel",
          "model_module_version": "1.5.0",
          "state": {
            "_view_name": "IntSliderView",
            "style": "IPY_MODEL_964bde56a88d4b6eb6b6c1cf8eac4284",
            "_dom_classes": [],
            "description": "tempo",
            "step": 1,
            "_model_name": "IntSliderModel",
            "orientation": "horizontal",
            "max": 20,
            "_view_module": "@jupyter-widgets/controls",
            "_model_module_version": "1.5.0",
            "value": 10,
            "_view_count": null,
            "disabled": false,
            "_view_module_version": "1.5.0",
            "min": 1,
            "continuous_update": true,
            "readout_format": "d",
            "description_tooltip": null,
            "readout": true,
            "_model_module": "@jupyter-widgets/controls",
            "layout": "IPY_MODEL_85511210473e4671a7d4616e9f5492c7"
          }
        },
        "05e532e5da0a4bfcb1747d7b2fc94862": {
          "model_module": "@jupyter-widgets/controls",
          "model_name": "ButtonModel",
          "model_module_version": "1.5.0",
          "state": {
            "_view_name": "ButtonView",
            "style": "IPY_MODEL_4d4235dfbe22408f9cba6d046657b88e",
            "_dom_classes": [],
            "description": "Run Interact",
            "_model_name": "ButtonModel",
            "button_style": "",
            "_view_module": "@jupyter-widgets/controls",
            "_model_module_version": "1.5.0",
            "tooltip": "",
            "_view_count": null,
            "disabled": false,
            "_view_module_version": "1.5.0",
            "layout": "IPY_MODEL_d050874584c842789ed245dfe7c42501",
            "_model_module": "@jupyter-widgets/controls",
            "icon": ""
          }
        },
        "76bdfa76a4c44ae3976ef7988eb1cce9": {
          "model_module": "@jupyter-widgets/output",
          "model_name": "OutputModel",
          "model_module_version": "1.0.0",
          "state": {
            "_view_name": "OutputView",
            "msg_id": "",
            "_dom_classes": [],
            "_model_name": "OutputModel",
            "outputs": [
              {
                "output_type": "display_data",
                "data": {
                  "image/png": "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\n",
                  "text/plain": "<Figure size 360x360 with 1 Axes>"
                },
                "metadata": {
                  "needs_background": "light"
                }
              },
              {
                "output_type": "display_data",
                "data": {
                  "image/png": "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\n",
                  "text/plain": "<Figure size 432x288 with 1 Axes>"
                },
                "metadata": {
                  "needs_background": "light"
                }
              }
            ],
            "_view_module": "@jupyter-widgets/output",
            "_model_module_version": "1.0.0",
            "_view_count": null,
            "_view_module_version": "1.0.0",
            "layout": "IPY_MODEL_2e83ac05446f4f02998f8117dd1658fc",
            "_model_module": "@jupyter-widgets/output"
          }
        },
        "964bde56a88d4b6eb6b6c1cf8eac4284": {
          "model_module": "@jupyter-widgets/controls",
          "model_name": "SliderStyleModel",
          "model_module_version": "1.5.0",
          "state": {
            "_view_name": "StyleView",
            "handle_color": null,
            "_model_name": "SliderStyleModel",
            "description_width": "",
            "_view_module": "@jupyter-widgets/base",
            "_model_module_version": "1.5.0",
            "_view_count": null,
            "_view_module_version": "1.2.0",
            "_model_module": "@jupyter-widgets/controls"
          }
        },
        "85511210473e4671a7d4616e9f5492c7": {
          "model_module": "@jupyter-widgets/base",
          "model_name": "LayoutModel",
          "model_module_version": "1.2.0",
          "state": {
            "_view_name": "LayoutView",
            "grid_template_rows": null,
            "right": null,
            "justify_content": null,
            "_view_module": "@jupyter-widgets/base",
            "overflow": null,
            "_model_module_version": "1.2.0",
            "_view_count": null,
            "flex_flow": null,
            "width": null,
            "min_width": null,
            "border": null,
            "align_items": null,
            "bottom": null,
            "_model_module": "@jupyter-widgets/base",
            "top": null,
            "grid_column": null,
            "overflow_y": null,
            "overflow_x": null,
            "grid_auto_flow": null,
            "grid_area": null,
            "grid_template_columns": null,
            "flex": null,
            "_model_name": "LayoutModel",
            "justify_items": null,
            "grid_row": null,
            "max_height": null,
            "align_content": null,
            "visibility": null,
            "align_self": null,
            "height": null,
            "min_height": null,
            "padding": null,
            "grid_auto_rows": null,
            "grid_gap": null,
            "max_width": null,
            "order": null,
            "_view_module_version": "1.2.0",
            "grid_template_areas": null,
            "object_position": null,
            "object_fit": null,
            "grid_auto_columns": null,
            "margin": null,
            "display": null,
            "left": null
          }
        },
        "4d4235dfbe22408f9cba6d046657b88e": {
          "model_module": "@jupyter-widgets/controls",
          "model_name": "ButtonStyleModel",
          "model_module_version": "1.5.0",
          "state": {
            "_view_name": "StyleView",
            "_model_name": "ButtonStyleModel",
            "_view_module": "@jupyter-widgets/base",
            "_model_module_version": "1.5.0",
            "_view_count": null,
            "button_color": null,
            "font_weight": "",
            "_view_module_version": "1.2.0",
            "_model_module": "@jupyter-widgets/controls"
          }
        },
        "d050874584c842789ed245dfe7c42501": {
          "model_module": "@jupyter-widgets/base",
          "model_name": "LayoutModel",
          "model_module_version": "1.2.0",
          "state": {
            "_view_name": "LayoutView",
            "grid_template_rows": null,
            "right": null,
            "justify_content": null,
            "_view_module": "@jupyter-widgets/base",
            "overflow": null,
            "_model_module_version": "1.2.0",
            "_view_count": null,
            "flex_flow": null,
            "width": null,
            "min_width": null,
            "border": null,
            "align_items": null,
            "bottom": null,
            "_model_module": "@jupyter-widgets/base",
            "top": null,
            "grid_column": null,
            "overflow_y": null,
            "overflow_x": null,
            "grid_auto_flow": null,
            "grid_area": null,
            "grid_template_columns": null,
            "flex": null,
            "_model_name": "LayoutModel",
            "justify_items": null,
            "grid_row": null,
            "max_height": null,
            "align_content": null,
            "visibility": null,
            "align_self": null,
            "height": null,
            "min_height": null,
            "padding": null,
            "grid_auto_rows": null,
            "grid_gap": null,
            "max_width": null,
            "order": null,
            "_view_module_version": "1.2.0",
            "grid_template_areas": null,
            "object_position": null,
            "object_fit": null,
            "grid_auto_columns": null,
            "margin": null,
            "display": null,
            "left": null
          }
        },
        "2e83ac05446f4f02998f8117dd1658fc": {
          "model_module": "@jupyter-widgets/base",
          "model_name": "LayoutModel",
          "model_module_version": "1.2.0",
          "state": {
            "_view_name": "LayoutView",
            "grid_template_rows": null,
            "right": null,
            "justify_content": null,
            "_view_module": "@jupyter-widgets/base",
            "overflow": null,
            "_model_module_version": "1.2.0",
            "_view_count": null,
            "flex_flow": null,
            "width": null,
            "min_width": null,
            "border": null,
            "align_items": null,
            "bottom": null,
            "_model_module": "@jupyter-widgets/base",
            "top": null,
            "grid_column": null,
            "overflow_y": null,
            "overflow_x": null,
            "grid_auto_flow": null,
            "grid_area": null,
            "grid_template_columns": null,
            "flex": null,
            "_model_name": "LayoutModel",
            "justify_items": null,
            "grid_row": null,
            "max_height": null,
            "align_content": null,
            "visibility": null,
            "align_self": null,
            "height": null,
            "min_height": null,
            "padding": null,
            "grid_auto_rows": null,
            "grid_gap": null,
            "max_width": null,
            "order": null,
            "_view_module_version": "1.2.0",
            "grid_template_areas": null,
            "object_position": null,
            "object_fit": null,
            "grid_auto_columns": null,
            "margin": null,
            "display": null,
            "left": null
          }
        }
      }
    }
  },
  "cells": [
    {
      "cell_type": "markdown",
      "metadata": {
        "id": "view-in-github",
        "colab_type": "text"
      },
      "source": [
        "<a href=\"https://colab.research.google.com/github/MontiMic/Tesi/blob/riordinato/Untitled1.ipynb\" target=\"_parent\"><img src=\"https://colab.research.google.com/assets/colab-badge.svg\" alt=\"Open In Colab\"/></a>"
      ]
    },
    {
      "cell_type": "markdown",
      "source": [
        "# Introduzione\n",
        "La seguente presentazione si propone di semplificare l'apprendimento di alcuni principi del calcolo probabilistico offrendo la possibilità di vedere applicare le leggi su grandi numeri e confrontando i risultati ottenuti con quelli attesi dalla teoria."
      ],
      "metadata": {
        "id": "yyLelI9l5lbc"
      }
    },
    {
      "cell_type": "markdown",
      "source": [
        "Di seguito includiamo le librerie che verranno utilizzate nel corso della presentazione:\n",
        "\n",
        "* **numpy** per la manipolazione dei dati\n",
        "\n",
        "* **interact** per rendere la presentazione interattiva offrendo la possibilità allo studente di scegliere gli input\n",
        "\n",
        "* **pyplot** per la rappresentazione grafica dei risultati"
      ],
      "metadata": {
        "id": "35yCw13F7Yam"
      }
    },
    {
      "cell_type": "code",
      "execution_count": 5,
      "metadata": {
        "id": "TAxUPZupC-qR"
      },
      "outputs": [],
      "source": [
        "import numpy as np\n",
        "from ipywidgets import interact, interact_manual\n",
        "from matplotlib import pyplot as plt\n",
        "import math\n",
        "import seaborn as sns\n",
        "import random"
      ]
    },
    {
      "cell_type": "markdown",
      "source": [
        "##Elementi di python"
      ],
      "metadata": {
        "id": "XN5Whz1Y9fiZ"
      }
    },
    {
      "cell_type": "markdown",
      "source": [
        "Questa sezione è rivolta unicamente a chi non avesse ancora mai visto il python, allo scopo di mostrare alcune pratiche peculiari a Python."
      ],
      "metadata": {
        "id": "yHNFMDrk9pHX"
      }
    },
    {
      "cell_type": "markdown",
      "source": [
        "La funzione np.zeros(n) restituisce un array di zeri lungo n"
      ],
      "metadata": {
        "id": "kXZd8nfHDkHj"
      }
    },
    {
      "cell_type": "code",
      "source": [
        "np.zeros(5)"
      ],
      "metadata": {
        "colab": {
          "base_uri": "https://localhost:8080/"
        },
        "id": "Pukdrzg7-ggY",
        "outputId": "f208c924-ae01-4eb4-db8b-8acdd37c8a41"
      },
      "execution_count": null,
      "outputs": [
        {
          "output_type": "execute_result",
          "data": {
            "text/plain": [
              "array([0., 0., 0., 0., 0.])"
            ]
          },
          "metadata": {},
          "execution_count": 170
        }
      ]
    },
    {
      "cell_type": "markdown",
      "source": [
        "Specificando anche il type booleano facciamo una conversione: \n",
        "\n",
        "*  Gli zeri diventano False\n",
        "\n",
        "* I valori diversi da zero diventano True"
      ],
      "metadata": {
        "id": "VyLCyWeYDvuh"
      }
    },
    {
      "cell_type": "code",
      "source": [
        "esempio = np.zeros(10, dtype=np.bool)\n",
        "print(esempio)"
      ],
      "metadata": {
        "colab": {
          "base_uri": "https://localhost:8080/"
        },
        "id": "lO-15LDEDZEP",
        "outputId": "edf281f7-e14e-4bb1-db54-220f7faf28a6"
      },
      "execution_count": null,
      "outputs": [
        {
          "output_type": "stream",
          "name": "stdout",
          "text": [
            "[False False False False False False False False False False]\n"
          ]
        }
      ]
    },
    {
      "cell_type": "markdown",
      "source": [
        "Useremo questo tipo di struttura dati per simulare praticamente tutto, dalla roulette (True = rosso, False = nero) ad un urna di palline (quando ci basteranno 2 soli colori delle palline)"
      ],
      "metadata": {
        "id": "t-fqP7KSEIUu"
      }
    },
    {
      "cell_type": "markdown",
      "source": [
        "Questa struttura dati ci offre inol"
      ],
      "metadata": {
        "id": "YS53XnBHNuxD"
      }
    },
    {
      "cell_type": "markdown",
      "source": [
        "Per modificare un array il python ci offre uno strumento molto potente: lo slicing. Questa funzionalità permette di intervenire su un qualunque sottoinsieme dell'array se usata correttamente. A noi basta sapere che in un caso come esempio[1:5:2], stiamo intervenendo sull'array esempio, prendendo gli elementi dalla posizione 1 (inclusa) alla posizione 5 (esclusa) con passo 2:"
      ],
      "metadata": {
        "id": "OEyj-K9iEeQa"
      }
    },
    {
      "cell_type": "code",
      "source": [
        "esempio = ['a', 'b', 'c', 'd', 'e']\n",
        "esempio[1:5:2]"
      ],
      "metadata": {
        "colab": {
          "base_uri": "https://localhost:8080/"
        },
        "id": "48oF9noGF3Np",
        "outputId": "17682c17-9d21-4676-9020-255d455806cc"
      },
      "execution_count": null,
      "outputs": [
        {
          "output_type": "execute_result",
          "data": {
            "text/plain": [
              "['b', 'd']"
            ]
          },
          "metadata": {},
          "execution_count": 172
        }
      ]
    },
    {
      "cell_type": "markdown",
      "source": [
        "Non specificare il primo parametro significa partire dall'elemento 0, omettere il secondo significa procedere fino all'ultimo (compreso) e non specificare il passo significa passo 1: non saltare nessun elemento."
      ],
      "metadata": {
        "id": "Rm-4oAaOGvIL"
      }
    },
    {
      "cell_type": "markdown",
      "source": [
        "La funzione range(n) restituisce un iterabile lungo n. In python è generalmente usata nel ciclo for."
      ],
      "metadata": {
        "id": "b6PzabLwIH1d"
      }
    },
    {
      "cell_type": "code",
      "source": [
        "for i in range(5):\n",
        "  print(i)"
      ],
      "metadata": {
        "colab": {
          "base_uri": "https://localhost:8080/"
        },
        "id": "fdFx5oZPIaf5",
        "outputId": "a152933e-b3c3-43c6-b832-41c71d0bd939"
      },
      "execution_count": null,
      "outputs": [
        {
          "output_type": "stream",
          "name": "stdout",
          "text": [
            "0\n",
            "1\n",
            "2\n",
            "3\n",
            "4\n"
          ]
        }
      ]
    },
    {
      "cell_type": "markdown",
      "source": [
        "##Funzioni utili"
      ],
      "metadata": {
        "id": "UdZaaBfKzjzX"
      }
    },
    {
      "cell_type": "markdown",
      "source": [
        "Quelle che seguono sono funzioni utilizzate in più test del documento, per il corretto funzionamento dei test successivi è necessario eseguire queste celle una volta."
      ],
      "metadata": {
        "id": "iZFqSjhypj_Y"
      }
    },
    {
      "cell_type": "code",
      "source": [
        "#funzione che genera una roulette simulata da un array lungo 37 di cui 18 valori contano come \"vittoria\"\n",
        "def mk_roulette():\n",
        "  ruota = np.zeros(37, dtype=np.bool)\n",
        "  ruota[1::2] = True\n",
        "  return ruota"
      ],
      "metadata": {
        "id": "4LJOZHxd810N"
      },
      "execution_count": null,
      "outputs": []
    },
    {
      "cell_type": "code",
      "source": [
        "#funzione che simula una singola partita alla roulette (1 o più puntate uguali) e, dato il portafogli di partenza, torno il nuovo conto\n",
        "def partita(ruota, giocate, puntata, portafogli):\n",
        "  while(giocate > 0):\n",
        "      giocate = giocate - 1\n",
        "      portafogli = portafogli - puntata #la puntata la considero sempre persa, in caso di vittoria vinco il doppio della puntata\n",
        "      if(ruota[np.random.randint(0, (37))]): #estraggo un elemento casuale della roulette e verifico se è rosso\n",
        "        portafogli = portafogli + (puntata * 2)\n",
        "  return portafogli  "
      ],
      "metadata": {
        "id": "fqGFfq_CT7Tv"
      },
      "execution_count": null,
      "outputs": []
    },
    {
      "cell_type": "code",
      "source": [
        "#funzione che simula un dado ritornando un intero compreso tra 1 e 6\n",
        "def trow():\n",
        "  return np.random.randint(1, 7)"
      ],
      "metadata": {
        "id": "O7NiHEewS99d"
      },
      "execution_count": null,
      "outputs": []
    },
    {
      "cell_type": "code",
      "source": [
        "#funzione che ritorna un'urna contenente palline di 2 colori in quanità scelta\n",
        "def mk_urna(bianche, rosse):\n",
        "  tot = bianche + rosse\n",
        "  urna = np.zeros((tot, 1), dtype=np.bool)\n",
        "  while(rosse > 0):\n",
        "    rnd = np.random.randint(0, (tot))\n",
        "    if (not urna[rnd]):\n",
        "      urna[rnd] = True\n",
        "      rosse = rosse - 1\n",
        "  return urna"
      ],
      "metadata": {
        "id": "R06bqIr8Ii4G"
      },
      "execution_count": null,
      "outputs": []
    },
    {
      "cell_type": "markdown",
      "source": [
        "##Interpretazione dei risultati"
      ],
      "metadata": {
        "id": "EbFr-wXap_mS"
      }
    },
    {
      "cell_type": "markdown",
      "source": [
        "I test di questo documento hanno lo scopo di mostrare che le formule viste con la teoria del calcolo probabilistico hanno un riscontro nella realtà. \n",
        "Ogni test simulerà per un numero di volte a discrezione dello studente, lo scenario descritto dall'esempio in esame. Si noti che un numero più alto di ripetizioni porterà a risultati più precisi."
      ],
      "metadata": {
        "id": "Mp5-2IqZqDex"
      }
    },
    {
      "cell_type": "code",
      "source": [
        "def moneta(lanci):\n",
        "  results = []\n",
        "  for i in range(lanci): #lanciamo la moneta tante volte quante indicate dal parametro \"lanci\"\n",
        "    results.append(np.random.randint(2))\n",
        "  #grafico\n",
        "  labels = []\n",
        "  normalized = []\n",
        "  normalized.append(round(((results.count(0) / lanci) * 100), 2)) #conto le istanze dei risultati e le normalizzo\n",
        "  normalized.append(round(100 - sum(normalized), 2)) #per evitare che per errori di arrotondamento la somma dei risultati sia 99.9%, l'ultimo risultato lo calcolo come 100 - (la somma dei precedenti)\n",
        "  for i in range(len(normalized)):\n",
        "    labels.append(str(normalized[i]) + \"%\") # aggiungo le labels (i valori riportati all'esterno del grafico)\n",
        "  plt.pie(normalized, labels=labels)\n",
        "  legenda = [\"Testa\", \"Croce\"]\n",
        "  plt.legend(legenda,loc='upper center', bbox_to_anchor=(0.5, -0.05), fancybox=True, shadow=True, ncol=5)"
      ],
      "metadata": {
        "id": "pZxUQQ-_rGuz"
      },
      "execution_count": null,
      "outputs": []
    },
    {
      "cell_type": "code",
      "source": [
        "moneta(100)"
      ],
      "metadata": {
        "id": "7rynuIn1ubs4",
        "outputId": "22175c6d-6b15-4147-8a1d-1a9d1e91305e",
        "colab": {
          "base_uri": "https://localhost:8080/",
          "height": 282
        }
      },
      "execution_count": null,
      "outputs": [
        {
          "output_type": "display_data",
          "data": {
            "image/png": "[encoded data removed]",
            "text/plain": [
              "<Figure size 432x288 with 1 Axes>"
            ]
          },
          "metadata": {}
        }
      ]
    },
    {
      "cell_type": "code",
      "source": [
        "moneta(10_000)"
      ],
      "metadata": {
        "id": "E6dWQdxUud7o",
        "outputId": "e6ec2588-f9d4-4e2a-e1e3-bcf3c51219cf",
        "colab": {
          "base_uri": "https://localhost:8080/",
          "height": 282
        }
      },
      "execution_count": null,
      "outputs": [
        {
          "output_type": "display_data",
          "data": {
            "image/png": "[encoded data removed]",
            "text/plain": [
              "<Figure size 432x288 with 1 Axes>"
            ]
          },
          "metadata": {}
        }
      ]
    },
    {
      "cell_type": "code",
      "source": [
        "moneta(1_000_000)"
      ],
      "metadata": {
        "id": "uNmo8_dXugoY",
        "outputId": "d387300d-3b99-45a9-bce6-18643c22b68a",
        "colab": {
          "base_uri": "https://localhost:8080/",
          "height": 282
        }
      },
      "execution_count": null,
      "outputs": [
        {
          "output_type": "display_data",
          "data": {
            "image/png": "[encoded data removed]",
            "text/plain": [
              "<Figure size 432x288 with 1 Axes>"
            ]
          },
          "metadata": {}
        }
      ]
    },
    {
      "cell_type": "markdown",
      "source": [
        "Per un buon equilibrio tra accuratezza dei risultati e tempo di esecuzione impostiamo il numero di ripetizioni a 100 000 con la variabile \"precisione\"."
      ],
      "metadata": {
        "id": "0_jUagMkw72N"
      }
    },
    {
      "cell_type": "code",
      "source": [
        "precisione = 100_000"
      ],
      "metadata": {
        "id": "7YqOeAMoxunS"
      },
      "execution_count": 3,
      "outputs": []
    },
    {
      "cell_type": "markdown",
      "source": [
        "Si lascia allo studente la possibilità di incrementare questa variabile se desiderasse dei risultati più precisi."
      ],
      "metadata": {
        "id": "uH7_BXdBxvvq"
      }
    },
    {
      "cell_type": "markdown",
      "source": [
        "# Variabili aleatorie discrete"
      ],
      "metadata": {
        "id": "gQTrf-PK7FxE"
      }
    },
    {
      "cell_type": "markdown",
      "source": [
        "Una variabile aleatoria _X_ si dice discreta se i valori che assume sono finiti oppure numerabili.\n",
        "\n",
        "Nel caso siano numerabili molto spesso potremo pensare che siano semplicmente i numeri interi, ma non vogliamo escludere anche casi in cui abbiamo dei valori non interi."
      ],
      "metadata": {
        "id": "f7tQYrZgLgm2"
      }
    },
    {
      "cell_type": "markdown",
      "source": [
        "##Esempio 1.1 \n",
        "Faccio 3 puntate sul rosso alla roulette puntando 10 euro per volta, qual è la probabilità di vincere più di un certo valore _X_?\n",
        "\n",
        "(Le vincite possibili sono valori finiti ed è quindi una variabile discreta)"
      ],
      "metadata": {
        "id": "wO2wYqZ-DSZF"
      }
    },
    {
      "cell_type": "code",
      "source": [
        "@interact_manual(vincita=(0, 30))\n",
        "def roulette(vincita=5):\n",
        "  giocate = 3\n",
        "  puntata = 10\n",
        "  ruota = mk_roulette()\n",
        "  count = 0\n",
        "  for i in range(precisione):\n",
        "    portafogli = giocate * puntata\n",
        "    portafogli = partita(ruota, giocate, puntata, portafogli) #il portafogli viene aggiornato dopo aver simulato una partita\n",
        "    if((portafogli - 30) >= vincita): #se ho finito le 3 puntate con una vincita maggiore o uguale a quella sperata la aggiungo al conteggio\n",
        "      count = count + 1\n",
        "  return round(count / precisione, 3)"
      ],
      "metadata": {
        "colab": {
          "base_uri": "https://localhost:8080/",
          "height": 81,
          "referenced_widgets": [
            "cf21774c350a476aa2db5ebc76b459ba",
            "aaaae5ff97184c688d294fd685bc5677",
            "e3dc66b1768842d2bb3aa03bc35cc0fd",
            "c73236bd027645f4808aa7c58a68a9d5",
            "c0566d89eda64723a3ed48d048b6f3e3",
            "8c90f56ac1a04256a74d90768a5142db",
            "069d286f0b864c25a49ee98b30cdb951",
            "750b094c35a249339a310f0c17b8fceb",
            "ef18555fd4b14019a79c4d4940137d63",
            "b9c750a4ea5a46c4b90e748b03133e46"
          ]
        },
        "id": "w2ugmhMy_cfa",
        "outputId": "cfa85f2d-9fdb-4fbb-b82f-9f267b4b09b0"
      },
      "execution_count": null,
      "outputs": [
        {
          "output_type": "display_data",
          "data": {
            "application/vnd.jupyter.widget-view+json": {
              "model_id": "cf21774c350a476aa2db5ebc76b459ba",
              "version_minor": 0,
              "version_major": 2
            },
            "text/plain": [
              "interactive(children=(IntSlider(value=5, description='vincita', max=30), Button(description='Run Interact', st…"
            ]
          },
          "metadata": {}
        }
      ]
    },
    {
      "cell_type": "markdown",
      "source": [
        "##Esempio 1.2\n",
        "Dati il numero di puntate ed i soldi scommessi ogni volta, quanto mi dovrei aspettare di aver vinto alla fine? (risultato in euro)"
      ],
      "metadata": {
        "id": "tTOcRD2kD_zf"
      }
    },
    {
      "cell_type": "code",
      "source": [
        "@interact_manual(giocate=(1, 10), puntata=(5, 100, 5))\n",
        "def roulette(giocate = 3, puntata = 10):\n",
        "  portafogli = giocate * puntata * precisione\n",
        "  ruota = mk_roulette()\n",
        "  for i in range(precisione):\n",
        "    portafogli = partita(ruota, giocate, puntata, portafogli)\n",
        "  portafogli = portafogli / precisione\n",
        "  return round(portafogli - (giocate * puntata), 2)"
      ],
      "metadata": {
        "colab": {
          "base_uri": "https://localhost:8080/",
          "height": 113,
          "referenced_widgets": [
            "55209b43be0c4784a96adee14acade08",
            "bc73e34ddae743e9a93774594365ef40",
            "54ea807e174047a4bf074df69daa1a4f",
            "85f8fcffed224e37b72d434fd6ef0582",
            "a7f0848a74414f83929b10454d0e7fc8",
            "f17703deb7c5492caf894dc5bfa73996",
            "46a2807e4782442186e96cc2ff2c729f",
            "57b34406a15744af8281350d45d6fc14",
            "866e48ff68114a469dd16948536eafd3",
            "5bcb8d9d73f7404183416cb83a9ba020",
            "11cf8db53baf497fae28bde8c073d376",
            "7f81500905dc4aec9740fd07b9023a74",
            "96ae9c6394264a79a70b21714f4a9920"
          ]
        },
        "id": "TR8QkEnHD-B2",
        "outputId": "90782af4-4a0f-425e-fd6a-f738c67320bc"
      },
      "execution_count": null,
      "outputs": [
        {
          "output_type": "display_data",
          "data": {
            "application/vnd.jupyter.widget-view+json": {
              "model_id": "55209b43be0c4784a96adee14acade08",
              "version_minor": 0,
              "version_major": 2
            },
            "text/plain": [
              "interactive(children=(IntSlider(value=3, description='giocate', max=10, min=1), IntSlider(value=10, descriptio…"
            ]
          },
          "metadata": {}
        }
      ]
    },
    {
      "cell_type": "markdown",
      "source": [
        "# Distribuzione uniforme e non uniforme"
      ],
      "metadata": {
        "id": "qBnKgfwaLT9x"
      }
    },
    {
      "cell_type": "markdown",
      "source": [
        "Sia _A_ = {_x1_, . . . , _xn_}; una variabile _X_ che assume i valori in _A_ tutti con la stessa probabilità $\\frac{1}{n}$\n",
        "si dice _variabile uniforme_ su _A_. Scriviamo in questo caso _X_ ∼ _U_(_A_) oppure _X_ ∼ _U_(_x1_, . . . , _xn_).\n",
        "La densità è quindi:\n",
        "\n",
        "\\begin{equation}\n",
        "  px(h) =\n",
        "    \\begin{cases}\n",
        "           \\frac{1}{n} \\ se \\  h  \\ ∈ \\ ({x1}, {x2}, ..., {xn})\n",
        "          \\\\\n",
        "          0 \\ altrimenti\n",
        "        \\end{cases}\n",
        "\\end{equation}"
      ],
      "metadata": {
        "id": "GUQzPwZ8NK0Q"
      }
    },
    {
      "cell_type": "markdown",
      "source": [
        "##Esempio 2.1 \n",
        "Nel lancio di un dado sia Ω = {1, 2, 3, 4, 5, 6} l’insieme dei possibili risultati.\n",
        "Allora la funzione _X_(_n_) = n per ogni n ∈ Ω è una variabile aleatoria uniforme _X_ ∼ _U_(1, 2, 3, 4, 5, 6).\n"
      ],
      "metadata": {
        "id": "HJrqw0EbXj2l"
      }
    },
    {
      "cell_type": "code",
      "source": [
        "def dice():\n",
        "  results = []\n",
        "  for i in range(precisione):\n",
        "    results.append(trow()) #aggiungo il risultato del tiro alla lista dei risultati\n",
        "  #grafico\n",
        "  elem_count = []\n",
        "  labels = []\n",
        "  for i in range(len(set(results))): #conto le istanze di ogni risultato ottenuto ed aggiungo i totali a elem_count, poi lo metto a grafico\n",
        "    elem_count.append(results.count(i+1))\n",
        "    labels.append(str(i+1))\n",
        "  plt.bar(labels, elem_count)\n",
        "dice()"
      ],
      "metadata": {
        "colab": {
          "base_uri": "https://localhost:8080/",
          "height": 264
        },
        "id": "pO1ExmtATCeI",
        "outputId": "ca58def4-8619-46d5-dd58-7156dc0adec8"
      },
      "execution_count": null,
      "outputs": [
        {
          "output_type": "display_data",
          "data": {
            "image/png": "[encoded data removed]",
            "text/plain": [
              "<Figure size 432x288 with 1 Axes>"
            ]
          },
          "metadata": {
            "needs_background": "light"
          }
        }
      ]
    },
    {
      "cell_type": "markdown",
      "source": [
        "##Esempio 2.2\n",
        "Se invece lanciassimo due dadi, la variabile _X_ che assume un valore corrispondente al numero di risultati pari ottenuti dal lancio sarebbe una _variabile non uniforme_ siccome la sua densità sarebbe:\n",
        "\n",
        "\\begin{equation}\n",
        "  py(h) =\n",
        "    \\begin{cases}\n",
        "          \\frac{1}{4} \\  h={0},{2}\n",
        "          \\\\\n",
        "          \\frac{1}{2} \\ h={1}\n",
        "          \\\\\n",
        "          0 \\ altrimenti\n",
        "        \\end{cases}\n",
        "\\end{equation}"
      ],
      "metadata": {
        "id": "BZUNA1OvaQp6"
      }
    },
    {
      "cell_type": "code",
      "source": [
        "def even_dices():\n",
        "  results = []\n",
        "  for i in range(precisione):\n",
        "    a, b = trow(), trow() #lancio due dadi, poi conterò quanti sono pari per aggiungere il risultato alla lista\n",
        "    results.append(2-((a % 2)+(b % 2))) #conto i dadi pari come due meno i dadi dispari (n%2 = 1 per n dispari, 0 altrimenti)\n",
        "  valori = []\n",
        "  normalized = []\n",
        "  for i in range(3): #conto le istanze dei risultati e le divido per il numero di risultati totale (normalizzo)\n",
        "    normalized.append(results.count(i) / len(results)) #len(results) torna la lunghezza della lista results\n",
        "    valori.append(\"k=\" + str(i))\n",
        "  plt.pie(normalized, labels=valori)\n",
        "even_dices()"
      ],
      "metadata": {
        "colab": {
          "base_uri": "https://localhost:8080/",
          "height": 247
        },
        "id": "Ly_UKZkxZr2J",
        "outputId": "63059631-fd84-441a-b191-096ba75e0405"
      },
      "execution_count": null,
      "outputs": [
        {
          "output_type": "display_data",
          "data": {
            "image/png": "[encoded data removed]",
            "text/plain": [
              "<Figure size 432x288 with 1 Axes>"
            ]
          },
          "metadata": {}
        }
      ]
    },
    {
      "cell_type": "markdown",
      "source": [
        "#Densità binomiale"
      ],
      "metadata": {
        "id": "qimeQspadWgq"
      }
    },
    {
      "cell_type": "markdown",
      "source": [
        "Consideriamo un fenomeno aleatorio e un certo evento ad esso associato. Per semplicità diciamo che se l’evento si realizza otteniamo un “successo”, viceversa che abbiamo ottenuto un “insuccesso\".\n",
        "Uno schema successo-insuccesso consiste nel ripetere questo fenomeno un certo fissato numero di volte, dette anche prove o tentativi, in cui siamo interessati unicamente al numero di successi ottenuti\n",
        "nelle varie prove.\n",
        "Supponiamo ora che le prove siano indipendenti l’una dall’altra, cioè vengono effettuate tuttevnelle medesime condizioni, indipendentemente dal risultato delle prove precedenti: parliamo in questo caso di schema successo-insuccesso con ripetizione o a prove indipendenti. Consideriamo\n",
        "quindi la variabile X data dal numero di successi in n tentativi.\n",
        "Nel caso in cui le prove siano indipendenti l’una dall’altra, la probabilità di ottenere una certa prefissata sequenza di successi e insuccessi dipende solo dal numero di questi ultimi e non dall’ordine con cui vogliamo che si succedano. La probabilità di ottenere una sequenza fissata in cui abbiamo k successi e n − k insuccessi è data da\n",
        "$p^k(1-p)^{n-k}$, dove p è la probabilità che ogni singolo tentativo abbia successo. Siccome i modi in cui possiamo scegliere le k posizioni per i successi sono date da ${n\\choose k}$ otteniamo per la variabile X la densità data da\n",
        "\n",
        "\\begin{equation}\n",
        "  px(k) =\n",
        "    \\begin{cases}\n",
        "          {n\\choose k} p^k(1-p)^{n-k} \\ se \\ k=1,2,...,n\n",
        "          \\\\\n",
        "          0 \\ altrimenti\n",
        "        \\end{cases}\n",
        "\\end{equation}\n",
        "\n",
        "\n",
        "Scriveremo in questo caso _X_ ∼ _B_(_n_, _p_) e diciamo che _X_ è una variabile binomiale."
      ],
      "metadata": {
        "id": "OUh7jiOk7WSD"
      }
    },
    {
      "cell_type": "markdown",
      "source": [
        "##Esempio 3.1\n",
        "\n",
        "Supponiamo di andare al casinò con 15 Euro e puntiamo 3 volte 5 Euro alla roulette sul rosso. Consideriamo la variabile aleatoria X data dai soldi che abbiamo in tasca alla fine delle 3 puntate. La probabilità di ottenere un numero rosso è di $\\frac{18}{37}$ ad ogni tentativo.\n",
        "Determinare la densità di X.\n",
        "La variabile X può assumere i valori 30, 20, 10, 0 a seconda di quanti rossi sono usciti. Abbiamo:\n",
        "\n",
        "P(X = 30) = $(\\frac{18}{37})^3$ = 0,115\n",
        "\n",
        "P(X = 20) = ${3\\choose 1}(\\frac{18}{37})^2 · \\frac{19}{37}$= 0, 365\n",
        "\n",
        "P(X = 10) = ${3\\choose 2}(\\frac{18}{37}) · (\\frac{19}{37})^2$ = 0,385\n",
        "\n",
        "P(X = 0) = $(\\frac{19}{37})^3$ = 0,135\n"
      ],
      "metadata": {
        "id": "O8PjzahWhrRr"
      }
    },
    {
      "cell_type": "code",
      "source": [
        "@interact_manual(giocate=(1, 6), puntata=(5, 100, 5))\n",
        "def roulette(giocate = 3, puntata = 5):\n",
        "  ruota = mk_roulette()\n",
        "  results = []\n",
        "  for i in range(precisione):\n",
        "    portafogli = giocate * puntata\n",
        "    portafogli = partita(ruota, giocate, puntata, portafogli)\n",
        "    results.append(portafogli)\n",
        "  #grafico\n",
        "  normalized = []\n",
        "  valori = []\n",
        "  for i in range(giocate):\n",
        "    normalized.append(round(((results.count(puntata*2*i) / precisione) * 100), 2)) #conto le istanze dei risultati e le normalizzo\n",
        "  normalized.append(round(100 - sum(normalized), 2)) #per evitare che per errori di arrotondamento la somma dei risultati sia 99.9%, l'ultimo risultato lo calcolo come 100 - (la somma dei precedenti)\n",
        "  labels = []\n",
        "  for i in range(len(normalized)):\n",
        "    labels.append(str(normalized[i]) + \"%\") # aggiungo le labels (i valori riportati all'esterno del grafico)\n",
        "  plt.pie(normalized, labels=labels)\n",
        "  legenda = []\n",
        "  for i in range(len(normalized)):\n",
        "    legenda.append(str(puntata*2*i))\n",
        "  plt.legend(legenda,loc='upper center', bbox_to_anchor=(0.5, -0.05), fancybox=True, shadow=True, ncol=5)"
      ],
      "metadata": {
        "id": "QDB96jXivO40",
        "outputId": "cfcdfd0f-ea22-4579-955e-a8f9c92cc557",
        "colab": {
          "base_uri": "https://localhost:8080/",
          "height": 113,
          "referenced_widgets": [
            "631b43261a94463d89558ab368c94de3",
            "ce439b3daa2847038f023ab175b290a2",
            "76b65a608a20492999208ed83bb81bdf",
            "c1402de1d0314e08b890a10483595187",
            "3307fcc76b9d4e87a65bdd2f63dc9ff6",
            "6148b91358f24feba4594619531b4f67",
            "f5c74b856f27411996f292243cccb88e",
            "61b2041ec3e04bfb97b6c4049dd04f53",
            "b750fd4b26f04172b162b1606bb54b98",
            "c2132949e9b2432bad7545330d9e6133",
            "d6a319d6bc03464a959eff61cfecf334",
            "f8d3604e960c4658bba1f240a892ccf2",
            "8f7ad2b42d694ffeaa6356e99553e431"
          ]
        }
      },
      "execution_count": null,
      "outputs": [
        {
          "output_type": "display_data",
          "data": {
            "application/vnd.jupyter.widget-view+json": {
              "model_id": "631b43261a94463d89558ab368c94de3",
              "version_minor": 0,
              "version_major": 2
            },
            "text/plain": [
              "interactive(children=(IntSlider(value=3, description='giocate', max=6, min=1), IntSlider(value=5, description=…"
            ]
          },
          "metadata": {}
        }
      ]
    },
    {
      "cell_type": "markdown",
      "source": [
        "# Densità ipergeometrica"
      ],
      "metadata": {
        "id": "9PjQr8MmCUYu"
      }
    },
    {
      "cell_type": "markdown",
      "source": [
        "\n",
        "Un altro tipo di schema successo-insuccesso è il cosiddetto schema successo-insuccesso _senza ripetizione_. In questo caso il fenomeno aleatorio consiste nell’estrazione di n palline, senza rimpiazzare di volta in volta la pallina estratta, da un'urna contenente b palline bianche e r palline rosse.\n",
        "Diciamo che la prova (estrazione) dà successo se viene estratta una pallina bianca e consideriamo la variabile X data dal numero di successi ottenuti, cioè dal numero di palline bianche estratte.\n",
        "\n",
        "\n",
        "Osserviamo che X può assumere tutti i valori tra max(0, n − r) e min(n, b): infatti se n > r siamo sicuri di pescare almeno n−r palline bianche e chiaramente il numero di bianche estratte non può superare nè il numero estrazioni nè il numero di palline bianche.\n",
        "\n",
        "Lo spazio Ω è dato da tutti i possibili sottoinsiemi di n oggetti (le palline estratte) scelti da un insieme di b + r oggetti (le palline\n",
        "disponibili), con probabilità uniforme. L’evento “X = k” è dato quindi da tutti i sottoinsiemi delle b + r palline costituiti da k palline bianche e n − k palline rosse. Le k bianche le posso scegliere in ${b\\choose k}$ modi. Le n − k rosse in ${r \\choose {n - k}}$ modi. Abbiamo quindi che la densità di X è data da\n",
        "\n",
        "\\begin{equation}\n",
        "  px(k) =\n",
        "    \\begin{cases}\n",
        "          \\frac{{b \\choose k} · {r \\choose n - k}}{b + r \\choose n} \\ se \\ k=max(0, n-r),...,min(n,b)\n",
        "          \\\\\n",
        "          0 \\ altrimenti\n",
        "        \\end{cases}\n",
        "\\end{equation}\n",
        "\n",
        "Scriviamo in questo caso X ∼ H(n; b, r) e diciamo che X è una variabile ipergeometrica."
      ],
      "metadata": {
        "id": "OnLdbdQjCbyl"
      }
    },
    {
      "cell_type": "markdown",
      "source": [
        "##Esempio 4.1\n",
        "Un’urna contiene 8 palline bianche e 2 rosse. Ne estraiamo 3 senza rimpiazzo.\n",
        "Qual è la probabilità di estrarne al più una rossa? In questo caso, a differenza del precedente abbiamo che la variabile X = numero di rosse estratte è una ipergeometrica X ∼ H(3; 2, 8) per\n",
        "cui\n",
        "\n",
        "P(_X_ ≤ 1) = P(_X_ = 0) + P(_X_ = 1) = $\\frac{{2 \\choose 0}·{8 \\choose 3}}{10 \\choose 3}$ + $\\frac{{2 \\choose 1}·{8 \\choose 2}}{10 \\choose 3}$ = $\\frac{14}{15}$ = 0.933"
      ],
      "metadata": {
        "id": "mqqc2UiZGaIY"
      }
    },
    {
      "cell_type": "code",
      "source": [
        "@interact_manual(estrazioni=(1, 10))\n",
        "def ipergeometrica(estrazioni=3):\n",
        "  bianche = 8\n",
        "  rosse = 2\n",
        "  urna = mk_urna(bianche, rosse)\n",
        "  results = 0\n",
        "  for i in range(precisione):\n",
        "    tmp = urna\n",
        "    count = 0\n",
        "    for i in range(estrazioni):\n",
        "      extr = np.random.randint(0, ((bianche + rosse)-i))\n",
        "      if(tmp[extr]):\n",
        "        count = count + 1\n",
        "      tmp = np.delete(tmp, extr)\n",
        "    if(count < 2):\n",
        "      results = results + 1  \n",
        "  return round(results / precisione, 3)"
      ],
      "metadata": {
        "id": "R0SjK_tkMtDv",
        "colab": {
          "base_uri": "https://localhost:8080/",
          "height": 81,
          "referenced_widgets": [
            "81a27c3194604ecd8ea6d5473e62cdd3",
            "acf24df08a66470fad84e130bf791236",
            "e5489c2c866044f48691c2e63c1d448a",
            "b3b3ba44cd3243559911904e3f0aeee8",
            "1cb3043361b143f6976786100a584f12",
            "fb7bf43091684a4e9f822fcbad1f9bcd",
            "73474db6cb9349a8bd8b2ec199ff5beb",
            "39698fb6543b44828dca67a6cf831f70",
            "64c0bf648696416e9a6344463fac912c",
            "88f333ce2fab46e28433120d629ec1a0"
          ]
        },
        "outputId": "ef75a011-fc2c-4779-e53c-3c51600329bc"
      },
      "execution_count": null,
      "outputs": [
        {
          "output_type": "display_data",
          "data": {
            "application/vnd.jupyter.widget-view+json": {
              "model_id": "81a27c3194604ecd8ea6d5473e62cdd3",
              "version_minor": 0,
              "version_major": 2
            },
            "text/plain": [
              "interactive(children=(IntSlider(value=3, description='estrazioni', max=10, min=1), Button(description='Run Int…"
            ]
          },
          "metadata": {}
        }
      ]
    },
    {
      "cell_type": "markdown",
      "source": [
        "#Densità geometrica - geometrica modificata"
      ],
      "metadata": {
        "id": "-GtoecXjUH1e"
      }
    },
    {
      "cell_type": "markdown",
      "source": [
        "In uno schema successo-insuccesso, anzichè al numero di successi ottenuti su n tentativi, potremmo essere interessati al numero di tentativi che devo effettuare prima di ottenere un successo."
      ],
      "metadata": {
        "id": "YBirGuNoUKbB"
      }
    },
    {
      "cell_type": "markdown",
      "source": [
        "##Esempio 5.1\n",
        "\n",
        "Consideriamo un’urna con 2 palline bianche e 3 rosse. Le estraggo senza\n",
        "rimpiazzo finchè non trovo una pallina rossa. Considero la variabile aleatoria X=numero di estrazioni per trovare una pallina rossa. X è una variabile finita in quanto assume solo i valori 1, 2, 3.\n",
        "La sua densità si determina facilmente ed è data da\n",
        "\n",
        "\\begin{equation}\n",
        "  px(k) =\n",
        "    \\begin{cases}\n",
        "          \\frac{6}{10} \\ se \\ k=1\n",
        "          \\\\\n",
        "          \\frac{3}{10} \\ se \\ k=2\n",
        "          \\\\\n",
        "          \\frac{1}{10} \\ se \\ k=3\n",
        "          \\\\\n",
        "          0 \\ altrimenti\n",
        "        \\end{cases}\n",
        "\\end{equation}\n",
        "\n"
      ],
      "metadata": {
        "id": "aXX1PJQLUX9Z"
      }
    },
    {
      "cell_type": "code",
      "source": [
        "@interact_manual(bianche=(1,5), rosse=(1, 5))\n",
        "def geometrica(bianche=2, rosse=3):\n",
        "  palle = mk_urna(bianche, rosse)\n",
        "  results = []\n",
        "  count=0\n",
        "  while(len(results) < precisione):\n",
        "    done = len(results)\n",
        "    tmp = palle\n",
        "    while(len(results) == done):\n",
        "      extr = np.random.randint(0, ((bianche+rosse)-count))\n",
        "      if(tmp[extr]):\n",
        "        results.append(count)\n",
        "        count=0\n",
        "      else:  \n",
        "        tmp = np.delete(tmp,extr)\n",
        "        count = count + 1\n",
        "  #grafico\n",
        "  labels = []\n",
        "  normalized = []\n",
        "  for i in range(len(set(results)) - 1): #len(set(n)) torna il numero di risultati distinti presenti in results\n",
        "    normalized.append(round(((results.count(i) / precisione) * 100), 2)) #conto le istanze dei risultati e le normalizzo\n",
        "  normalized.append(round(100 - sum(normalized), 2)) #per evitare che per errori di arrotondamento la somma dei risultati sia 99.9%, l'ultimo risultato lo calcolo come 100 - (la somma dei precedenti)\n",
        "  for i in range(len(normalized)):\n",
        "    labels.append(str(normalized[i]) + \"%\") # aggiungo le labels (i valori riportati all'esterno del grafico)\n",
        "  plt.pie(normalized, labels=labels)\n",
        "  legenda = []\n",
        "  for i in range(bianche + 1):\n",
        "    legenda.append(\"k=\"+str(i+1))\n",
        "  plt.legend(legenda,loc='upper center', bbox_to_anchor=(0.5, -0.05), fancybox=True, shadow=True, ncol=5)"
      ],
      "metadata": {
        "colab": {
          "base_uri": "https://localhost:8080/",
          "height": 113,
          "referenced_widgets": [
            "bc85f1ed70944525a07a1d351d71e142",
            "38efd26e7eb34eaa856795e2b686c7eb",
            "225a5f838fc948deb727c1b73c46410b",
            "76a4798a65954420a7b45d0cf12a57f3",
            "a6b38a82f81944ed9ba85af078d5ee26",
            "e8ccbfcfa3894f4982943c6ce99d4dc2",
            "41921098c2fe4dd196cf05d7fd270f05",
            "dc7b920ca8ff4ca18d2ad3204d9b4f1a",
            "dab445aac99a4fbbb34693a6fe1dadef",
            "779dad85f2f44fdf8da3efa13739f4e7",
            "58f10d0fb6fc441095c85dce7e849b92",
            "e7b74e4488ec42b2a58ed82e42bf0e8f",
            "a0318e8167d844f28c11b093fa8f4725"
          ]
        },
        "id": "5tLgoNi7f2YM",
        "outputId": "5ab50157-5a81-4e72-f570-c25ae64f17d5"
      },
      "execution_count": null,
      "outputs": [
        {
          "output_type": "display_data",
          "data": {
            "application/vnd.jupyter.widget-view+json": {
              "model_id": "bc85f1ed70944525a07a1d351d71e142",
              "version_minor": 0,
              "version_major": 2
            },
            "text/plain": [
              "interactive(children=(IntSlider(value=2, description='bianche', max=5, min=1), IntSlider(value=3, description=…"
            ]
          },
          "metadata": {}
        }
      ]
    },
    {
      "cell_type": "markdown",
      "source": [
        "##Esempio 5.2\n",
        "\n",
        "Ripetiamo l'esperimento precedente, ma questa volta rimpiazziamo la pallina ad ogni estrazione. La variabile X diventa numerabile e si ha\n",
        "\n",
        "\\begin{equation}\n",
        "  px(k) =\n",
        "    \\begin{cases}\n",
        "          (\\frac{2}{5})^{k-1}\\frac{3}{5} \\ se \\ k=1,2,3,...\n",
        "          \\\\\n",
        "          0 \\ altrimenti\n",
        "        \\end{cases}\n",
        "\\end{equation}\n",
        "\n",
        "Infatti richiedere X = k vuol dire aver ottenuto k − 1 insuccessi nei primi k − 1 tenativi (ognuno con probabilità $\\frac{2}{5}$) per poi finalmente ottenere un successo al k-esimo tentativo (con probabilità $\\frac{3}{5}$)"
      ],
      "metadata": {
        "id": "DPSi8KkVKH60"
      }
    },
    {
      "cell_type": "code",
      "source": [
        "@interact_manual(bianche=(1,5), rosse=(1, 5))\n",
        "def geometrica_mod(bianche=2, rosse=3):\n",
        "  palle = mk_urna(bianche, rosse)\n",
        "  results = []\n",
        "  count=0\n",
        "  while(len(results) < precisione):\n",
        "    done = len(results)\n",
        "    tmp = palle\n",
        "    while(len(results) == done):\n",
        "      extr = np.random.randint(0, (bianche+rosse))\n",
        "      if(tmp[extr]):\n",
        "        results.append(count)\n",
        "        count=0\n",
        "      else:  \n",
        "        count = count + 1\n",
        "  \n",
        "  #grafico risultati\n",
        "  labels = []\n",
        "  normalized = []\n",
        "  for i in range(len(set(results))): \n",
        "    normalized.append(round(((results.count(i) / precisione) * 100), 2))\n",
        "  for i in range(len(set(results))):\n",
        "    labels.append(str(i+1))\n",
        "  \n",
        "  #grafico teorico\n",
        "  teoria = []\n",
        "  for i in range(len(set(results))):\n",
        "    teoria.append(((bianche / (bianche + rosse))**(i)) * (rosse / (bianche + rosse)) * 100)\n",
        "\n",
        "  lab_arr = np.arange(len(labels))\n",
        "\n",
        "  w=0.4\n",
        "  plt.bar(lab_arr-(w/2), normalized, width=w)\n",
        "  plt.bar(lab_arr+(w/2), teoria, width=w)\n",
        "  plt.ylabel(\"Percentage\")\n",
        "  plt.xlabel(\"K\")\n",
        "  legenda = [\"Risultati ottenuti\", \"Risultati attesi\"]\n",
        "  plt.legend(legenda,loc='upper center', bbox_to_anchor=(0.5, -0.05), fancybox=True, shadow=True, ncol=5)"
      ],
      "metadata": {
        "colab": {
          "base_uri": "https://localhost:8080/",
          "height": 113,
          "referenced_widgets": [
            "9f194c75ac21431881610b9536699174",
            "4a19d77fd0da4868b7306b1a8f6f8b0f",
            "3639e1bb0a8b4c3a823a34dee996c212",
            "67be52e89a9e4382bc3dfc0670fd5064",
            "a58f4b4410fd4543b2ee831034b99f66",
            "ee315db5cc8a4fbbadc6b23bc275fc38",
            "7533932590604b6a98628b2db3c45e8b",
            "f765cea56b1d4b2bbabc65c6f048e682",
            "52840325a5d448d784421ededbfcffb7",
            "a8bd170b425044cbb538ab9c5fc4106b",
            "d24f858aa53f4013b184fbedbf65553e",
            "f2fa5a0ad1454408bde05a6a01e35ffe",
            "2dedeb4a68994ea1aa902a667f934793"
          ]
        },
        "id": "p-e8XTgnsSgC",
        "outputId": "ecbefab6-7d0f-44db-bc26-32cbed31d539"
      },
      "execution_count": null,
      "outputs": [
        {
          "output_type": "display_data",
          "data": {
            "application/vnd.jupyter.widget-view+json": {
              "model_id": "9f194c75ac21431881610b9536699174",
              "version_minor": 0,
              "version_major": 2
            },
            "text/plain": [
              "interactive(children=(IntSlider(value=2, description='bianche', max=5, min=1), IntSlider(value=3, description=…"
            ]
          },
          "metadata": {}
        }
      ]
    },
    {
      "cell_type": "markdown",
      "source": [
        "Quello appena visto è un esempio di _densità geometrica modificata_ che scriveremo come T ∼ Ḡ(_p_).\n",
        "\n",
        "Quando si parla di densità geometrica modificata? \n",
        "\n",
        "Si consideri uno schema successo-insuccesso con ripetizioni e prendiamo in esame la variabile T data dal tempo di primo successo. \n",
        "Se chiamiamo _Xi_ le variabili _B_(1, _p_) date da _Xi_ = 1 se l’i-esimo tentativo dà successo e _Xi_  = 0 altrimenti abbiamo come densità\n",
        "\n",
        "\\begin{equation}\n",
        "  px(k) =\n",
        "    \\begin{cases}\n",
        "          p(1-p)^{k-1} \\ se \\ k=1,2,3,...\n",
        "          \\\\\n",
        "          0 \\ altrimenti\n",
        "        \\end{cases}\n",
        "\\end{equation}"
      ],
      "metadata": {
        "id": "u9PHD5qa-xdK"
      }
    },
    {
      "cell_type": "markdown",
      "source": [
        "##Esempio 5.3\n",
        "\n",
        "Si lancino simultaneamente due dadi, uno rosso e uno blu. Ripetiamo questo\n",
        "esperimento finchè non otteniamo due 6. \n",
        "\n",
        "Poniamo X = primo lancio in cui il dado rosso ha dato 6,\n",
        "Y = primo lancio in cui il dado blu ha dato 6.\n",
        "\n",
        "\n",
        "Determinare inoltre la probabilità di ottenere 6 con il dado rosso prima di ottenere 6 con il dado blu.\n",
        "\n",
        "Abbiamo\n",
        "\n",
        "\\begin{equation}\n",
        "  1 = P(X < Y) + P(X > Y) + P(X = Y)\n",
        "\\end{equation}\n",
        "\n",
        "\\\\\n",
        "e chiaramente per simmetria del problema _P_(_X_ < _Y_) = _P_(_X_ > _Y_) da cui\n",
        "\n",
        "\\\\\n",
        "\n",
        "\\begin{equation}\n",
        "  P(X < Y)= \\frac {1-P(X = Y)}{2}\n",
        "\\end{equation}\n",
        "\n",
        "Ci basterà calcolare quindi _P_(_X_ =_Y_):\n",
        "\n",
        "\\\\\n",
        "\n",
        "\\begin{equation}\n",
        "  P(X = Y) = \\sum_{k=1}^\\infty P(X = Y = k) = \\sum_{k=1}^\\infty (\\frac{25}{36})^{k-1}·\\frac{1}{36} = \\frac{1}{1-\\frac{25}{36}}·\\frac{1}{36} = \\frac{1}{11}\n",
        "\\end{equation}\n",
        "\n",
        "\n",
        "dove abbiamo ancora utilizzato la somma di una serie geometrica, e quindi\n",
        "\n",
        "\\\\\n",
        "\n",
        "\\begin{equation}\n",
        "  P(X < Y) = \\frac{5}{11}\n",
        "\\end{equation}\n"
      ],
      "metadata": {
        "id": "yQRcoTTQmPxD"
      }
    },
    {
      "cell_type": "code",
      "source": [
        "def first_six():\n",
        "  num = 6\n",
        "  results = []\n",
        "  for i in range(precisione):\n",
        "    a, b = 0, 0\n",
        "    while a != num and b != num:\n",
        "      a, b = trow(), trow() \n",
        "      if a == num:\n",
        "        if b == num:\n",
        "          results.append(0)\n",
        "        else:\n",
        "          results.append(1)\n",
        "      if b == num:\n",
        "        results.append(2)  \n",
        "  #grafico\n",
        "  labels = []\n",
        "  normalized = []\n",
        "  myexplode = [0, 0.2, 0]\n",
        "  for i in range(len(set(results)) - 1): #len(set(n)) torna il numero di risultati distinti presenti in results\n",
        "    normalized.append(round(((results.count(i) / precisione) * 100), 2)) #conto le istanze dei risultati e le normalizzo\n",
        "  normalized.append(round(100 - sum(normalized), 2)) #per evitare che per errori di arrotondamento la somma dei risultati sia 99.9%, l'ultimo risultato lo calcolo come 100 - (la somma dei precedenti)\n",
        "  for i in range(len(normalized)):\n",
        "    labels.append(str(normalized[i]) + \"%\") # aggiungo le labels (i valori riportati all'esterno del grafico)\n",
        "\n",
        "  teoria = [1/11, 5/11, 5/11]\n",
        "  lab_teoria = [\"9.09%\", \"45.45%\", \"45.45%\"]\n",
        "\n",
        "  f, (ax1, ax2) = plt.subplots(1, 2)\n",
        "  ax1.pie(normalized, labels=labels,explode=myexplode, colors=[\"green\", \"red\", \"blue\"], shadow=True)\n",
        "  ax1.set_title(\"Risultati ottenuti\")\n",
        "  ax2.pie(teoria, labels=lab_teoria,explode=myexplode, colors=[\"green\", \"red\", \"blue\"], shadow=True)\n",
        "  ax2.set_title(\"Risultati attesi\")\n",
        "  \n",
        "  legenda = [\"X=Y\", \"X<Y\", \"X>Y\"]\n",
        "  ax1.legend(legenda,loc='upper left', bbox_to_anchor=(0.5, -0.05), fancybox=True, shadow=True, ncol=5)\n",
        "\n",
        "first_six()"
      ],
      "metadata": {
        "colab": {
          "base_uri": "https://localhost:8080/",
          "height": 230
        },
        "id": "6P-rc7pzfODB",
        "outputId": "58a9c509-14f0-436f-fcbd-561f256f0ccf"
      },
      "execution_count": null,
      "outputs": [
        {
          "output_type": "display_data",
          "data": {
            "image/png": "[encoded data removed]",
            "text/plain": [
              "<Figure size 432x288 with 2 Axes>"
            ]
          },
          "metadata": {}
        }
      ]
    },
    {
      "cell_type": "markdown",
      "source": [
        "#Densità di Poisson"
      ],
      "metadata": {
        "id": "hPfoVQ4tzLLR"
      }
    },
    {
      "cell_type": "markdown",
      "source": [
        "Se consideriamo una variabile binomiale _X_ ∼ _B_(_n_, _p_) in cui il numero _n_ di tentativi è molto grande e il parametro _p_ molto piccolo fare i conti con la densità binomiale risulta essere computazionalmente dispendioso. \n",
        "\n",
        "Facciamo un esempio:"
      ],
      "metadata": {
        "id": "7WQ9L3IXzNQo"
      }
    },
    {
      "cell_type": "markdown",
      "source": [
        "##Esempio 6.1\n",
        "\n",
        "Supponiamo che in una città nascano 10 000 bambini ogni anno e che ci\n",
        "sia una malattia rara che colpisce un bambino su 2 mila. Qual è la probabilità che quest’anno nascano più di 5 bambini affetti da questa malattia? \n",
        "\n",
        "La variabile _X_ = ”numero di bambini nati con questa malattia quest’anno” è una variabile binomiale _X_ = _B_($10^4$, $\\frac{1}{2000}$). Tuttavia se\n",
        "proviamo ad effettuare il calcolo _P_(_X_ > 5), anche se abbiamo una formula esatta per effettuarlo, è inevitabilmente molto complesso.\n"
      ],
      "metadata": {
        "id": "VD0JenT7zaOx"
      }
    },
    {
      "cell_type": "markdown",
      "source": [
        "Per risolvere questo tipo di problema introduciamo la seguente\n",
        "\n",
        "\\\\\n",
        "\\begin{equation}\n",
        "  p(k) =\n",
        "    \\begin{cases}\n",
        "          e^{-λ} \\frac{λ^k}{k!} \\ se \\ k=0,1,2,...\n",
        "          \\\\\n",
        "          0 \\ altrimenti\n",
        "        \\end{cases}\n",
        "\\end{equation}\n",
        "\n",
        "\\\\\n",
        "\n",
        "dove λ è un parametro reale strettamente positivo."
      ],
      "metadata": {
        "id": "-07DvPlK0SRP"
      }
    },
    {
      "cell_type": "markdown",
      "source": [
        "Nel nostro esempio possiamo pensare alla variabile _X_ come ad una variabile di Poisson di parametro 5. \n",
        "\n",
        "Otteniamo:\n",
        "\n",
        "\\begin{equation}\n",
        "  P(X > 5) = 1 − P(X = 0) − P(X = 1) − P(X = 2) − P(X = 3) − P(X = 4) \n",
        "  \\\\\n",
        "  = 1 − e^{−5}(1 + 5 + \\frac{25}{2} + \\frac{125}{6} + \\frac{625}{24} + \\frac{3125}{120}) = 0, 384.\n",
        "\\end{equation}"
      ],
      "metadata": {
        "id": "fHA5WLXr2VKr"
      }
    },
    {
      "cell_type": "markdown",
      "source": [
        "Nella simulazione riportata sono simulati 100 anni, ripetendo l'esperimento si aggiungono i risultati dei test successivi e si può osservare come il grafico dei risultati ottenuti si avvicini a quello dei risultati attesi."
      ],
      "metadata": {
        "id": "aQ3YUomoewtG"
      }
    },
    {
      "cell_type": "code",
      "source": [
        "res_poisson = []"
      ],
      "metadata": {
        "id": "niF9fNy-AGHk"
      },
      "execution_count": 1,
      "outputs": []
    },
    {
      "cell_type": "code",
      "source": [
        "def poisson():\n",
        "  bambini = 10_000\n",
        "  malattia = 2_000\n",
        "  for i in range(1000):\n",
        "    count = 0\n",
        "    for i in range(bambini):\n",
        "      if np.random.randint(malattia) == 1:\n",
        "        count = count + 1\n",
        "    res_poisson.append(count)\n",
        "\n",
        "  #grafico risultati\n",
        "  labels = []\n",
        "  set_res = list(set(res_poisson))\n",
        "  normalized = []\n",
        "  for i in set_res: \n",
        "    normalized.append(round(((res_poisson.count(i) / len(res_poisson)) * 100), 2))\n",
        "    labels.append(str(i+1)) \n",
        " \n",
        "  #grafico teorico\n",
        "  teoria = []\n",
        "  lam = bambini / malattia\n",
        "  for i in set_res:\n",
        "    teoria.append((math.e**-lam)*((lam**i)/math.factorial(i)) * 100)\n",
        "\n",
        "  lab_arr = np.arange(len(labels))\n",
        "\n",
        "  w=0.4\n",
        "  plt.bar(lab_arr-(w/2), normalized, width=w)\n",
        "  plt.bar(lab_arr+(w/2), teoria, width=w)\n",
        "\n",
        "  legenda = [\"Risultati ottenuti\", \"Risultati attesi\"]\n",
        "  plt.legend(legenda,loc='upper center', bbox_to_anchor=(0.5, -0.05), fancybox=True, shadow=True, ncol=5)\n",
        "  print(\"Anni simulati: \" + str(len(res_poisson)))"
      ],
      "metadata": {
        "id": "L8XSvxDZMGZe"
      },
      "execution_count": 9,
      "outputs": []
    },
    {
      "cell_type": "code",
      "source": [
        "poisson()"
      ],
      "metadata": {
        "id": "H4CjxxyZ7Rxc",
        "colab": {
          "base_uri": "https://localhost:8080/",
          "height": 299
        },
        "outputId": "f67e0124-1c44-4205-e2c6-b6583d36d386"
      },
      "execution_count": 10,
      "outputs": [
        {
          "output_type": "stream",
          "name": "stdout",
          "text": [
            "Anni simulati: 1300\n"
          ]
        },
        {
          "output_type": "display_data",
          "data": {
            "image/png": "[encoded data removed]",
            "text/plain": [
              "<Figure size 432x288 with 1 Axes>"
            ]
          },
          "metadata": {
            "needs_background": "light"
          }
        }
      ]
    },
    {
      "cell_type": "code",
      "source": [
        "precisione = 1_000_000"
      ],
      "metadata": {
        "id": "h1WjDlfa-S1L"
      },
      "execution_count": 20,
      "outputs": []
    },
    {
      "cell_type": "code",
      "source": [
        "@interact_manual(tempo=(1, 20))\n",
        "def cont_unif(tempo = 10):\n",
        "  results = []\n",
        "  for i in range(precisione):\n",
        "    results.append(random.uniform(0, tempo))\n",
        "  sns.kdeplot(results,shade=True) \n",
        "  "
      ],
      "metadata": {
        "id": "0jzeXNlBHF0x",
        "outputId": "b3db60f6-b46a-4616-f080-2216b2caf555",
        "colab": {
          "base_uri": "https://localhost:8080/",
          "height": 329,
          "referenced_widgets": [
            "a6e6bff357684a9dbbfb0868963bf48a",
            "f7f63172205b44d0b616670a0cbb73ea",
            "f75501d9b7ae41e19c79dd41c31baac0",
            "74b6665ead06494f8ac5cbdb3366fa00",
            "fc2a27b464d44253a7ba437517930e02",
            "847f68a9f63a48a9a4e648895de414d5",
            "f07bd8fe01f74e0e80a2d5ae430b8e66",
            "9b651c5bc6ee4bc3897454b5417bf074",
            "cd6b91330a6f40f2bee80841e0f09ce5",
            "fec22295aac34773a0de8867c9c02aa5"
          ]
        }
      },
      "execution_count": 8,
      "outputs": [
        {
          "output_type": "display_data",
          "data": {
            "application/vnd.jupyter.widget-view+json": {
              "model_id": "a6e6bff357684a9dbbfb0868963bf48a",
              "version_minor": 0,
              "version_major": 2
            },
            "text/plain": [
              "interactive(children=(IntSlider(value=10, description='tempo', max=20, min=1), Button(description='Run Interac…"
            ]
          },
          "metadata": {}
        }
      ]
    },
    {
      "cell_type": "code",
      "source": [
        "@interact_manual(tempo=(1, 20))\n",
        "def cont_unif(tempo = 10):\n",
        "  results = []\n",
        "  for i in range(precisione):\n",
        "    results.append(random.uniform(0, tempo))\n",
        "  sns.displot(results, kind=\"ecdf\") "
      ],
      "metadata": {
        "id": "rowcBieR9mSD",
        "outputId": "436d4c41-6c4b-4e39-ae24-2753e306c70a",
        "colab": {
          "base_uri": "https://localhost:8080/",
          "height": 433,
          "referenced_widgets": [
            "94b92a9f37fb49d99f60da7f8558597d",
            "62c8fe513c514a7b9bdd8667f756a8a1",
            "bcaefec76e6b4e97b28d097b4f995fc9",
            "90df6c676bd046b68d826b30e0af5d8c",
            "36a0000caaf04a719bf3182261b4c251",
            "0836e3cc4fa44ae6b2fb4d5152e2ba62",
            "7336e56936d44e4da03369d576862cc9",
            "f27a3b880ef7480fa83059ff3049d1c2",
            "439424191ef14dfb900becdfc59e14f5",
            "cef9e5dfdc8d4cc8aa18041622992436"
          ]
        }
      },
      "execution_count": 15,
      "outputs": [
        {
          "output_type": "display_data",
          "data": {
            "application/vnd.jupyter.widget-view+json": {
              "model_id": "94b92a9f37fb49d99f60da7f8558597d",
              "version_minor": 0,
              "version_major": 2
            },
            "text/plain": [
              "interactive(children=(IntSlider(value=10, description='tempo', max=20, min=1), Button(description='Run Interac…"
            ]
          },
          "metadata": {}
        }
      ]
    },
    {
      "cell_type": "code",
      "source": [
        "@interact_manual(tempo=(1, 20))\n",
        "def cont_unif(tempo = 10):\n",
        "  results = []\n",
        "  for i in range(precisione):\n",
        "    results.append(random.uniform(0, tempo))\n",
        "  sns.displot(results, color=\"g\")\n",
        "  \n",
        "  fig = plt.figure()\n",
        "  ax = plt.axes()\n",
        "\n",
        "  x = np.linspace(-1, tempo + 1, 1000)\n",
        "  ax.plot(x, calcolo(x, tempo));"
      ],
      "metadata": {
        "id": "__y9sIEV_oKM",
        "outputId": "c6e31e2c-239d-4a49-aaa0-8ffed423e6c3",
        "colab": {
          "base_uri": "https://localhost:8080/",
          "height": 681,
          "referenced_widgets": [
            "4fc5cab4a4704c689dab5c6c498c1a6a",
            "83ac768de76745c79f0ef5560dfdf402",
            "ac4b6d62d8c948ffa4d8c2a6e2ec86d9",
            "05e532e5da0a4bfcb1747d7b2fc94862",
            "76bdfa76a4c44ae3976ef7988eb1cce9",
            "964bde56a88d4b6eb6b6c1cf8eac4284",
            "85511210473e4671a7d4616e9f5492c7",
            "4d4235dfbe22408f9cba6d046657b88e",
            "d050874584c842789ed245dfe7c42501",
            "2e83ac05446f4f02998f8117dd1658fc"
          ]
        }
      },
      "execution_count": 26,
      "outputs": [
        {
          "output_type": "display_data",
          "data": {
            "application/vnd.jupyter.widget-view+json": {
              "model_id": "4fc5cab4a4704c689dab5c6c498c1a6a",
              "version_minor": 0,
              "version_major": 2
            },
            "text/plain": [
              "interactive(children=(IntSlider(value=10, description='tempo', max=20, min=1), Button(description='Run Interac…"
            ]
          },
          "metadata": {}
        }
      ]
    },
    {
      "cell_type": "code",
      "source": [
        "def calcolo(x, b):\n",
        "  res = []\n",
        "  for i in x:\n",
        "    if i < 0:\n",
        "      res.append(0)\n",
        "    elif i > 10:\n",
        "      res.append(0)\n",
        "    else:\n",
        "      res.append(1 / b)\n",
        "  return res"
      ],
      "metadata": {
        "id": "G_5JWNvfHgIA"
      },
      "execution_count": 25,
      "outputs": []
    },
    {
      "cell_type": "code",
      "source": [
        ""
      ],
      "metadata": {
        "id": "Dop-HDg7JgeC"
      },
      "execution_count": null,
      "outputs": []
    }
  ]
}