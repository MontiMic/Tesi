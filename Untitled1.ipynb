{
  "nbformat": 4,
  "nbformat_minor": 0,
  "metadata": {
    "colab": {
      "name": "Untitled1.ipynb",
      "provenance": [],
      "toc_visible": true,
      "collapsed_sections": [],
      "authorship_tag": "ABX9TyMrfl7CKE8K4piqCOg5nGgP",
      "include_colab_link": true
    },
    "kernelspec": {
      "name": "python3",
      "display_name": "Python 3"
    },
    "language_info": {
      "name": "python"
    },
    "widgets": {
      "application/vnd.jupyter.widget-state+json": {
        "723a9f89daef49f186167039d39d7fe8": {
          "model_module": "@jupyter-widgets/controls",
          "model_name": "VBoxModel",
          "model_module_version": "1.5.0",
          "state": {
            "_view_name": "VBoxView",
            "_dom_classes": [
              "widget-interact"
            ],
            "_model_name": "VBoxModel",
            "_view_module": "@jupyter-widgets/controls",
            "_model_module_version": "1.5.0",
            "_view_count": null,
            "_view_module_version": "1.5.0",
            "box_style": "",
            "layout": "IPY_MODEL_1e20eaaa98064d1ea16477d5817607f2",
            "_model_module": "@jupyter-widgets/controls",
            "children": [
              "IPY_MODEL_facb9735abe14dc288003f29da414376",
              "IPY_MODEL_1c603d269ae34fd78c4fd38dc3f9cfae",
              "IPY_MODEL_e6355b66c36c4843acd20bc6595dfad8"
            ]
          }
        },
        "1e20eaaa98064d1ea16477d5817607f2": {
          "model_module": "@jupyter-widgets/base",
          "model_name": "LayoutModel",
          "model_module_version": "1.2.0",
          "state": {
            "_view_name": "LayoutView",
            "grid_template_rows": null,
            "right": null,
            "justify_content": null,
            "_view_module": "@jupyter-widgets/base",
            "overflow": null,
            "_model_module_version": "1.2.0",
            "_view_count": null,
            "flex_flow": null,
            "width": null,
            "min_width": null,
            "border": null,
            "align_items": null,
            "bottom": null,
            "_model_module": "@jupyter-widgets/base",
            "top": null,
            "grid_column": null,
            "overflow_y": null,
            "overflow_x": null,
            "grid_auto_flow": null,
            "grid_area": null,
            "grid_template_columns": null,
            "flex": null,
            "_model_name": "LayoutModel",
            "justify_items": null,
            "grid_row": null,
            "max_height": null,
            "align_content": null,
            "visibility": null,
            "align_self": null,
            "height": null,
            "min_height": null,
            "padding": null,
            "grid_auto_rows": null,
            "grid_gap": null,
            "max_width": null,
            "order": null,
            "_view_module_version": "1.2.0",
            "grid_template_areas": null,
            "object_position": null,
            "object_fit": null,
            "grid_auto_columns": null,
            "margin": null,
            "display": null,
            "left": null
          }
        },
        "facb9735abe14dc288003f29da414376": {
          "model_module": "@jupyter-widgets/controls",
          "model_name": "IntSliderModel",
          "model_module_version": "1.5.0",
          "state": {
            "_view_name": "IntSliderView",
            "style": "IPY_MODEL_b166e3b8721440b5ba9adbceff66e447",
            "_dom_classes": [],
            "description": "vincita",
            "step": 1,
            "_model_name": "IntSliderModel",
            "orientation": "horizontal",
            "max": 30,
            "_view_module": "@jupyter-widgets/controls",
            "_model_module_version": "1.5.0",
            "value": 5,
            "_view_count": null,
            "disabled": false,
            "_view_module_version": "1.5.0",
            "min": 0,
            "continuous_update": true,
            "readout_format": "d",
            "description_tooltip": null,
            "readout": true,
            "_model_module": "@jupyter-widgets/controls",
            "layout": "IPY_MODEL_061510947c07499ca83a675e3d8671a0"
          }
        },
        "1c603d269ae34fd78c4fd38dc3f9cfae": {
          "model_module": "@jupyter-widgets/controls",
          "model_name": "ButtonModel",
          "model_module_version": "1.5.0",
          "state": {
            "_view_name": "ButtonView",
            "style": "IPY_MODEL_f648a0d0d7e54d859677660d9c3d6047",
            "_dom_classes": [],
            "description": "Run Interact",
            "_model_name": "ButtonModel",
            "button_style": "",
            "_view_module": "@jupyter-widgets/controls",
            "_model_module_version": "1.5.0",
            "tooltip": "",
            "_view_count": null,
            "disabled": false,
            "_view_module_version": "1.5.0",
            "layout": "IPY_MODEL_9d8484fbe4a54b2db2b3713deccfcefd",
            "_model_module": "@jupyter-widgets/controls",
            "icon": ""
          }
        },
        "e6355b66c36c4843acd20bc6595dfad8": {
          "model_module": "@jupyter-widgets/output",
          "model_name": "OutputModel",
          "model_module_version": "1.0.0",
          "state": {
            "_view_name": "OutputView",
            "msg_id": "",
            "_dom_classes": [],
            "_model_name": "OutputModel",
            "outputs": [],
            "_view_module": "@jupyter-widgets/output",
            "_model_module_version": "1.0.0",
            "_view_count": null,
            "_view_module_version": "1.0.0",
            "layout": "IPY_MODEL_703c1ea2e6154beb9df177a1ca0cdc51",
            "_model_module": "@jupyter-widgets/output"
          }
        },
        "b166e3b8721440b5ba9adbceff66e447": {
          "model_module": "@jupyter-widgets/controls",
          "model_name": "SliderStyleModel",
          "model_module_version": "1.5.0",
          "state": {
            "_view_name": "StyleView",
            "handle_color": null,
            "_model_name": "SliderStyleModel",
            "description_width": "",
            "_view_module": "@jupyter-widgets/base",
            "_model_module_version": "1.5.0",
            "_view_count": null,
            "_view_module_version": "1.2.0",
            "_model_module": "@jupyter-widgets/controls"
          }
        },
        "061510947c07499ca83a675e3d8671a0": {
          "model_module": "@jupyter-widgets/base",
          "model_name": "LayoutModel",
          "model_module_version": "1.2.0",
          "state": {
            "_view_name": "LayoutView",
            "grid_template_rows": null,
            "right": null,
            "justify_content": null,
            "_view_module": "@jupyter-widgets/base",
            "overflow": null,
            "_model_module_version": "1.2.0",
            "_view_count": null,
            "flex_flow": null,
            "width": null,
            "min_width": null,
            "border": null,
            "align_items": null,
            "bottom": null,
            "_model_module": "@jupyter-widgets/base",
            "top": null,
            "grid_column": null,
            "overflow_y": null,
            "overflow_x": null,
            "grid_auto_flow": null,
            "grid_area": null,
            "grid_template_columns": null,
            "flex": null,
            "_model_name": "LayoutModel",
            "justify_items": null,
            "grid_row": null,
            "max_height": null,
            "align_content": null,
            "visibility": null,
            "align_self": null,
            "height": null,
            "min_height": null,
            "padding": null,
            "grid_auto_rows": null,
            "grid_gap": null,
            "max_width": null,
            "order": null,
            "_view_module_version": "1.2.0",
            "grid_template_areas": null,
            "object_position": null,
            "object_fit": null,
            "grid_auto_columns": null,
            "margin": null,
            "display": null,
            "left": null
          }
        },
        "f648a0d0d7e54d859677660d9c3d6047": {
          "model_module": "@jupyter-widgets/controls",
          "model_name": "ButtonStyleModel",
          "model_module_version": "1.5.0",
          "state": {
            "_view_name": "StyleView",
            "_model_name": "ButtonStyleModel",
            "_view_module": "@jupyter-widgets/base",
            "_model_module_version": "1.5.0",
            "_view_count": null,
            "button_color": null,
            "font_weight": "",
            "_view_module_version": "1.2.0",
            "_model_module": "@jupyter-widgets/controls"
          }
        },
        "9d8484fbe4a54b2db2b3713deccfcefd": {
          "model_module": "@jupyter-widgets/base",
          "model_name": "LayoutModel",
          "model_module_version": "1.2.0",
          "state": {
            "_view_name": "LayoutView",
            "grid_template_rows": null,
            "right": null,
            "justify_content": null,
            "_view_module": "@jupyter-widgets/base",
            "overflow": null,
            "_model_module_version": "1.2.0",
            "_view_count": null,
            "flex_flow": null,
            "width": null,
            "min_width": null,
            "border": null,
            "align_items": null,
            "bottom": null,
            "_model_module": "@jupyter-widgets/base",
            "top": null,
            "grid_column": null,
            "overflow_y": null,
            "overflow_x": null,
            "grid_auto_flow": null,
            "grid_area": null,
            "grid_template_columns": null,
            "flex": null,
            "_model_name": "LayoutModel",
            "justify_items": null,
            "grid_row": null,
            "max_height": null,
            "align_content": null,
            "visibility": null,
            "align_self": null,
            "height": null,
            "min_height": null,
            "padding": null,
            "grid_auto_rows": null,
            "grid_gap": null,
            "max_width": null,
            "order": null,
            "_view_module_version": "1.2.0",
            "grid_template_areas": null,
            "object_position": null,
            "object_fit": null,
            "grid_auto_columns": null,
            "margin": null,
            "display": null,
            "left": null
          }
        },
        "703c1ea2e6154beb9df177a1ca0cdc51": {
          "model_module": "@jupyter-widgets/base",
          "model_name": "LayoutModel",
          "model_module_version": "1.2.0",
          "state": {
            "_view_name": "LayoutView",
            "grid_template_rows": null,
            "right": null,
            "justify_content": null,
            "_view_module": "@jupyter-widgets/base",
            "overflow": null,
            "_model_module_version": "1.2.0",
            "_view_count": null,
            "flex_flow": null,
            "width": null,
            "min_width": null,
            "border": null,
            "align_items": null,
            "bottom": null,
            "_model_module": "@jupyter-widgets/base",
            "top": null,
            "grid_column": null,
            "overflow_y": null,
            "overflow_x": null,
            "grid_auto_flow": null,
            "grid_area": null,
            "grid_template_columns": null,
            "flex": null,
            "_model_name": "LayoutModel",
            "justify_items": null,
            "grid_row": null,
            "max_height": null,
            "align_content": null,
            "visibility": null,
            "align_self": null,
            "height": null,
            "min_height": null,
            "padding": null,
            "grid_auto_rows": null,
            "grid_gap": null,
            "max_width": null,
            "order": null,
            "_view_module_version": "1.2.0",
            "grid_template_areas": null,
            "object_position": null,
            "object_fit": null,
            "grid_auto_columns": null,
            "margin": null,
            "display": null,
            "left": null
          }
        },
        "92d3b71f3b4b467c99486b9ef1a0909e": {
          "model_module": "@jupyter-widgets/controls",
          "model_name": "VBoxModel",
          "model_module_version": "1.5.0",
          "state": {
            "_view_name": "VBoxView",
            "_dom_classes": [
              "widget-interact"
            ],
            "_model_name": "VBoxModel",
            "_view_module": "@jupyter-widgets/controls",
            "_model_module_version": "1.5.0",
            "_view_count": null,
            "_view_module_version": "1.5.0",
            "box_style": "",
            "layout": "IPY_MODEL_a4b663acd3044ee8a1264ee9a749b6c9",
            "_model_module": "@jupyter-widgets/controls",
            "children": [
              "IPY_MODEL_cf51f36db7b24e70987164b0a143c17e",
              "IPY_MODEL_0cc51f68bc7b488dab2bb8904870e84c",
              "IPY_MODEL_bd8052916d4045bf82825409ea565da7",
              "IPY_MODEL_f2408f90a8044475ad5851ed5e5f9e07"
            ]
          }
        },
        "a4b663acd3044ee8a1264ee9a749b6c9": {
          "model_module": "@jupyter-widgets/base",
          "model_name": "LayoutModel",
          "model_module_version": "1.2.0",
          "state": {
            "_view_name": "LayoutView",
            "grid_template_rows": null,
            "right": null,
            "justify_content": null,
            "_view_module": "@jupyter-widgets/base",
            "overflow": null,
            "_model_module_version": "1.2.0",
            "_view_count": null,
            "flex_flow": null,
            "width": null,
            "min_width": null,
            "border": null,
            "align_items": null,
            "bottom": null,
            "_model_module": "@jupyter-widgets/base",
            "top": null,
            "grid_column": null,
            "overflow_y": null,
            "overflow_x": null,
            "grid_auto_flow": null,
            "grid_area": null,
            "grid_template_columns": null,
            "flex": null,
            "_model_name": "LayoutModel",
            "justify_items": null,
            "grid_row": null,
            "max_height": null,
            "align_content": null,
            "visibility": null,
            "align_self": null,
            "height": null,
            "min_height": null,
            "padding": null,
            "grid_auto_rows": null,
            "grid_gap": null,
            "max_width": null,
            "order": null,
            "_view_module_version": "1.2.0",
            "grid_template_areas": null,
            "object_position": null,
            "object_fit": null,
            "grid_auto_columns": null,
            "margin": null,
            "display": null,
            "left": null
          }
        },
        "cf51f36db7b24e70987164b0a143c17e": {
          "model_module": "@jupyter-widgets/controls",
          "model_name": "IntSliderModel",
          "model_module_version": "1.5.0",
          "state": {
            "_view_name": "IntSliderView",
            "style": "IPY_MODEL_eba8ecd69dab4ceeab3d2157e05f6033",
            "_dom_classes": [],
            "description": "giocate",
            "step": 1,
            "_model_name": "IntSliderModel",
            "orientation": "horizontal",
            "max": 10,
            "_view_module": "@jupyter-widgets/controls",
            "_model_module_version": "1.5.0",
            "value": 3,
            "_view_count": null,
            "disabled": false,
            "_view_module_version": "1.5.0",
            "min": 1,
            "continuous_update": true,
            "readout_format": "d",
            "description_tooltip": null,
            "readout": true,
            "_model_module": "@jupyter-widgets/controls",
            "layout": "IPY_MODEL_74fc06b7418048869b7e42a3925654de"
          }
        },
        "0cc51f68bc7b488dab2bb8904870e84c": {
          "model_module": "@jupyter-widgets/controls",
          "model_name": "IntSliderModel",
          "model_module_version": "1.5.0",
          "state": {
            "_view_name": "IntSliderView",
            "style": "IPY_MODEL_43b2e07aaaea4230a75b65540a1f8036",
            "_dom_classes": [],
            "description": "puntata",
            "step": 5,
            "_model_name": "IntSliderModel",
            "orientation": "horizontal",
            "max": 100,
            "_view_module": "@jupyter-widgets/controls",
            "_model_module_version": "1.5.0",
            "value": 10,
            "_view_count": null,
            "disabled": false,
            "_view_module_version": "1.5.0",
            "min": 5,
            "continuous_update": true,
            "readout_format": "d",
            "description_tooltip": null,
            "readout": true,
            "_model_module": "@jupyter-widgets/controls",
            "layout": "IPY_MODEL_b5c48745901f4c78bd43f7011b19412b"
          }
        },
        "bd8052916d4045bf82825409ea565da7": {
          "model_module": "@jupyter-widgets/controls",
          "model_name": "ButtonModel",
          "model_module_version": "1.5.0",
          "state": {
            "_view_name": "ButtonView",
            "style": "IPY_MODEL_617771b65ed94554806318943a1efc7f",
            "_dom_classes": [],
            "description": "Run Interact",
            "_model_name": "ButtonModel",
            "button_style": "",
            "_view_module": "@jupyter-widgets/controls",
            "_model_module_version": "1.5.0",
            "tooltip": "",
            "_view_count": null,
            "disabled": false,
            "_view_module_version": "1.5.0",
            "layout": "IPY_MODEL_5180ea7cd12c49f6a75869e1cc4b6d41",
            "_model_module": "@jupyter-widgets/controls",
            "icon": ""
          }
        },
        "f2408f90a8044475ad5851ed5e5f9e07": {
          "model_module": "@jupyter-widgets/output",
          "model_name": "OutputModel",
          "model_module_version": "1.0.0",
          "state": {
            "_view_name": "OutputView",
            "msg_id": "",
            "_dom_classes": [],
            "_model_name": "OutputModel",
            "outputs": [],
            "_view_module": "@jupyter-widgets/output",
            "_model_module_version": "1.0.0",
            "_view_count": null,
            "_view_module_version": "1.0.0",
            "layout": "IPY_MODEL_12c8f9e38ae9440ca9a2a9b5a7443713",
            "_model_module": "@jupyter-widgets/output"
          }
        },
        "eba8ecd69dab4ceeab3d2157e05f6033": {
          "model_module": "@jupyter-widgets/controls",
          "model_name": "SliderStyleModel",
          "model_module_version": "1.5.0",
          "state": {
            "_view_name": "StyleView",
            "handle_color": null,
            "_model_name": "SliderStyleModel",
            "description_width": "",
            "_view_module": "@jupyter-widgets/base",
            "_model_module_version": "1.5.0",
            "_view_count": null,
            "_view_module_version": "1.2.0",
            "_model_module": "@jupyter-widgets/controls"
          }
        },
        "74fc06b7418048869b7e42a3925654de": {
          "model_module": "@jupyter-widgets/base",
          "model_name": "LayoutModel",
          "model_module_version": "1.2.0",
          "state": {
            "_view_name": "LayoutView",
            "grid_template_rows": null,
            "right": null,
            "justify_content": null,
            "_view_module": "@jupyter-widgets/base",
            "overflow": null,
            "_model_module_version": "1.2.0",
            "_view_count": null,
            "flex_flow": null,
            "width": null,
            "min_width": null,
            "border": null,
            "align_items": null,
            "bottom": null,
            "_model_module": "@jupyter-widgets/base",
            "top": null,
            "grid_column": null,
            "overflow_y": null,
            "overflow_x": null,
            "grid_auto_flow": null,
            "grid_area": null,
            "grid_template_columns": null,
            "flex": null,
            "_model_name": "LayoutModel",
            "justify_items": null,
            "grid_row": null,
            "max_height": null,
            "align_content": null,
            "visibility": null,
            "align_self": null,
            "height": null,
            "min_height": null,
            "padding": null,
            "grid_auto_rows": null,
            "grid_gap": null,
            "max_width": null,
            "order": null,
            "_view_module_version": "1.2.0",
            "grid_template_areas": null,
            "object_position": null,
            "object_fit": null,
            "grid_auto_columns": null,
            "margin": null,
            "display": null,
            "left": null
          }
        },
        "43b2e07aaaea4230a75b65540a1f8036": {
          "model_module": "@jupyter-widgets/controls",
          "model_name": "SliderStyleModel",
          "model_module_version": "1.5.0",
          "state": {
            "_view_name": "StyleView",
            "handle_color": null,
            "_model_name": "SliderStyleModel",
            "description_width": "",
            "_view_module": "@jupyter-widgets/base",
            "_model_module_version": "1.5.0",
            "_view_count": null,
            "_view_module_version": "1.2.0",
            "_model_module": "@jupyter-widgets/controls"
          }
        },
        "b5c48745901f4c78bd43f7011b19412b": {
          "model_module": "@jupyter-widgets/base",
          "model_name": "LayoutModel",
          "model_module_version": "1.2.0",
          "state": {
            "_view_name": "LayoutView",
            "grid_template_rows": null,
            "right": null,
            "justify_content": null,
            "_view_module": "@jupyter-widgets/base",
            "overflow": null,
            "_model_module_version": "1.2.0",
            "_view_count": null,
            "flex_flow": null,
            "width": null,
            "min_width": null,
            "border": null,
            "align_items": null,
            "bottom": null,
            "_model_module": "@jupyter-widgets/base",
            "top": null,
            "grid_column": null,
            "overflow_y": null,
            "overflow_x": null,
            "grid_auto_flow": null,
            "grid_area": null,
            "grid_template_columns": null,
            "flex": null,
            "_model_name": "LayoutModel",
            "justify_items": null,
            "grid_row": null,
            "max_height": null,
            "align_content": null,
            "visibility": null,
            "align_self": null,
            "height": null,
            "min_height": null,
            "padding": null,
            "grid_auto_rows": null,
            "grid_gap": null,
            "max_width": null,
            "order": null,
            "_view_module_version": "1.2.0",
            "grid_template_areas": null,
            "object_position": null,
            "object_fit": null,
            "grid_auto_columns": null,
            "margin": null,
            "display": null,
            "left": null
          }
        },
        "617771b65ed94554806318943a1efc7f": {
          "model_module": "@jupyter-widgets/controls",
          "model_name": "ButtonStyleModel",
          "model_module_version": "1.5.0",
          "state": {
            "_view_name": "StyleView",
            "_model_name": "ButtonStyleModel",
            "_view_module": "@jupyter-widgets/base",
            "_model_module_version": "1.5.0",
            "_view_count": null,
            "button_color": null,
            "font_weight": "",
            "_view_module_version": "1.2.0",
            "_model_module": "@jupyter-widgets/controls"
          }
        },
        "5180ea7cd12c49f6a75869e1cc4b6d41": {
          "model_module": "@jupyter-widgets/base",
          "model_name": "LayoutModel",
          "model_module_version": "1.2.0",
          "state": {
            "_view_name": "LayoutView",
            "grid_template_rows": null,
            "right": null,
            "justify_content": null,
            "_view_module": "@jupyter-widgets/base",
            "overflow": null,
            "_model_module_version": "1.2.0",
            "_view_count": null,
            "flex_flow": null,
            "width": null,
            "min_width": null,
            "border": null,
            "align_items": null,
            "bottom": null,
            "_model_module": "@jupyter-widgets/base",
            "top": null,
            "grid_column": null,
            "overflow_y": null,
            "overflow_x": null,
            "grid_auto_flow": null,
            "grid_area": null,
            "grid_template_columns": null,
            "flex": null,
            "_model_name": "LayoutModel",
            "justify_items": null,
            "grid_row": null,
            "max_height": null,
            "align_content": null,
            "visibility": null,
            "align_self": null,
            "height": null,
            "min_height": null,
            "padding": null,
            "grid_auto_rows": null,
            "grid_gap": null,
            "max_width": null,
            "order": null,
            "_view_module_version": "1.2.0",
            "grid_template_areas": null,
            "object_position": null,
            "object_fit": null,
            "grid_auto_columns": null,
            "margin": null,
            "display": null,
            "left": null
          }
        },
        "12c8f9e38ae9440ca9a2a9b5a7443713": {
          "model_module": "@jupyter-widgets/base",
          "model_name": "LayoutModel",
          "model_module_version": "1.2.0",
          "state": {
            "_view_name": "LayoutView",
            "grid_template_rows": null,
            "right": null,
            "justify_content": null,
            "_view_module": "@jupyter-widgets/base",
            "overflow": null,
            "_model_module_version": "1.2.0",
            "_view_count": null,
            "flex_flow": null,
            "width": null,
            "min_width": null,
            "border": null,
            "align_items": null,
            "bottom": null,
            "_model_module": "@jupyter-widgets/base",
            "top": null,
            "grid_column": null,
            "overflow_y": null,
            "overflow_x": null,
            "grid_auto_flow": null,
            "grid_area": null,
            "grid_template_columns": null,
            "flex": null,
            "_model_name": "LayoutModel",
            "justify_items": null,
            "grid_row": null,
            "max_height": null,
            "align_content": null,
            "visibility": null,
            "align_self": null,
            "height": null,
            "min_height": null,
            "padding": null,
            "grid_auto_rows": null,
            "grid_gap": null,
            "max_width": null,
            "order": null,
            "_view_module_version": "1.2.0",
            "grid_template_areas": null,
            "object_position": null,
            "object_fit": null,
            "grid_auto_columns": null,
            "margin": null,
            "display": null,
            "left": null
          }
        },
        "de351799ec3a4eef8684528ae2773644": {
          "model_module": "@jupyter-widgets/controls",
          "model_name": "VBoxModel",
          "model_module_version": "1.5.0",
          "state": {
            "_view_name": "VBoxView",
            "_dom_classes": [
              "widget-interact"
            ],
            "_model_name": "VBoxModel",
            "_view_module": "@jupyter-widgets/controls",
            "_model_module_version": "1.5.0",
            "_view_count": null,
            "_view_module_version": "1.5.0",
            "box_style": "",
            "layout": "IPY_MODEL_43ac04608ccc47308f4d4fb79a2a7e8f",
            "_model_module": "@jupyter-widgets/controls",
            "children": [
              "IPY_MODEL_71528104c3db423d841544c4868f933a",
              "IPY_MODEL_a3bfebac66ae4495bcaf30841985c744",
              "IPY_MODEL_ad948f20cefe4ea8ae6164936d8e2a0f",
              "IPY_MODEL_888803723169438692e051896eec79d1"
            ]
          }
        },
        "43ac04608ccc47308f4d4fb79a2a7e8f": {
          "model_module": "@jupyter-widgets/base",
          "model_name": "LayoutModel",
          "model_module_version": "1.2.0",
          "state": {
            "_view_name": "LayoutView",
            "grid_template_rows": null,
            "right": null,
            "justify_content": null,
            "_view_module": "@jupyter-widgets/base",
            "overflow": null,
            "_model_module_version": "1.2.0",
            "_view_count": null,
            "flex_flow": null,
            "width": null,
            "min_width": null,
            "border": null,
            "align_items": null,
            "bottom": null,
            "_model_module": "@jupyter-widgets/base",
            "top": null,
            "grid_column": null,
            "overflow_y": null,
            "overflow_x": null,
            "grid_auto_flow": null,
            "grid_area": null,
            "grid_template_columns": null,
            "flex": null,
            "_model_name": "LayoutModel",
            "justify_items": null,
            "grid_row": null,
            "max_height": null,
            "align_content": null,
            "visibility": null,
            "align_self": null,
            "height": null,
            "min_height": null,
            "padding": null,
            "grid_auto_rows": null,
            "grid_gap": null,
            "max_width": null,
            "order": null,
            "_view_module_version": "1.2.0",
            "grid_template_areas": null,
            "object_position": null,
            "object_fit": null,
            "grid_auto_columns": null,
            "margin": null,
            "display": null,
            "left": null
          }
        },
        "71528104c3db423d841544c4868f933a": {
          "model_module": "@jupyter-widgets/controls",
          "model_name": "IntSliderModel",
          "model_module_version": "1.5.0",
          "state": {
            "_view_name": "IntSliderView",
            "style": "IPY_MODEL_c59505632f014f36b6310f7da3de000f",
            "_dom_classes": [],
            "description": "giocate",
            "step": 1,
            "_model_name": "IntSliderModel",
            "orientation": "horizontal",
            "max": 6,
            "_view_module": "@jupyter-widgets/controls",
            "_model_module_version": "1.5.0",
            "value": 3,
            "_view_count": null,
            "disabled": false,
            "_view_module_version": "1.5.0",
            "min": 1,
            "continuous_update": true,
            "readout_format": "d",
            "description_tooltip": null,
            "readout": true,
            "_model_module": "@jupyter-widgets/controls",
            "layout": "IPY_MODEL_0a9b0fe50c5446acbe7f581a1b678fc4"
          }
        },
        "a3bfebac66ae4495bcaf30841985c744": {
          "model_module": "@jupyter-widgets/controls",
          "model_name": "IntSliderModel",
          "model_module_version": "1.5.0",
          "state": {
            "_view_name": "IntSliderView",
            "style": "IPY_MODEL_3054fceea16645aca1ef9cacd4baea6d",
            "_dom_classes": [],
            "description": "puntata",
            "step": 5,
            "_model_name": "IntSliderModel",
            "orientation": "horizontal",
            "max": 100,
            "_view_module": "@jupyter-widgets/controls",
            "_model_module_version": "1.5.0",
            "value": 5,
            "_view_count": null,
            "disabled": false,
            "_view_module_version": "1.5.0",
            "min": 5,
            "continuous_update": true,
            "readout_format": "d",
            "description_tooltip": null,
            "readout": true,
            "_model_module": "@jupyter-widgets/controls",
            "layout": "IPY_MODEL_2a1b46514d484a0f86b7545654d9ebcd"
          }
        },
        "ad948f20cefe4ea8ae6164936d8e2a0f": {
          "model_module": "@jupyter-widgets/controls",
          "model_name": "ButtonModel",
          "model_module_version": "1.5.0",
          "state": {
            "_view_name": "ButtonView",
            "style": "IPY_MODEL_a4dc83dbe9f24ee0a29138facb21ad69",
            "_dom_classes": [],
            "description": "Run Interact",
            "_model_name": "ButtonModel",
            "button_style": "",
            "_view_module": "@jupyter-widgets/controls",
            "_model_module_version": "1.5.0",
            "tooltip": "",
            "_view_count": null,
            "disabled": false,
            "_view_module_version": "1.5.0",
            "layout": "IPY_MODEL_e0a85c4e9a6a48feb195a5d997f92292",
            "_model_module": "@jupyter-widgets/controls",
            "icon": ""
          }
        },
        "888803723169438692e051896eec79d1": {
          "model_module": "@jupyter-widgets/output",
          "model_name": "OutputModel",
          "model_module_version": "1.0.0",
          "state": {
            "_view_name": "OutputView",
            "msg_id": "",
            "_dom_classes": [],
            "_model_name": "OutputModel",
            "outputs": [],
            "_view_module": "@jupyter-widgets/output",
            "_model_module_version": "1.0.0",
            "_view_count": null,
            "_view_module_version": "1.0.0",
            "layout": "IPY_MODEL_35ae260537494919be0f6c2399c695df",
            "_model_module": "@jupyter-widgets/output"
          }
        },
        "c59505632f014f36b6310f7da3de000f": {
          "model_module": "@jupyter-widgets/controls",
          "model_name": "SliderStyleModel",
          "model_module_version": "1.5.0",
          "state": {
            "_view_name": "StyleView",
            "handle_color": null,
            "_model_name": "SliderStyleModel",
            "description_width": "",
            "_view_module": "@jupyter-widgets/base",
            "_model_module_version": "1.5.0",
            "_view_count": null,
            "_view_module_version": "1.2.0",
            "_model_module": "@jupyter-widgets/controls"
          }
        },
        "0a9b0fe50c5446acbe7f581a1b678fc4": {
          "model_module": "@jupyter-widgets/base",
          "model_name": "LayoutModel",
          "model_module_version": "1.2.0",
          "state": {
            "_view_name": "LayoutView",
            "grid_template_rows": null,
            "right": null,
            "justify_content": null,
            "_view_module": "@jupyter-widgets/base",
            "overflow": null,
            "_model_module_version": "1.2.0",
            "_view_count": null,
            "flex_flow": null,
            "width": null,
            "min_width": null,
            "border": null,
            "align_items": null,
            "bottom": null,
            "_model_module": "@jupyter-widgets/base",
            "top": null,
            "grid_column": null,
            "overflow_y": null,
            "overflow_x": null,
            "grid_auto_flow": null,
            "grid_area": null,
            "grid_template_columns": null,
            "flex": null,
            "_model_name": "LayoutModel",
            "justify_items": null,
            "grid_row": null,
            "max_height": null,
            "align_content": null,
            "visibility": null,
            "align_self": null,
            "height": null,
            "min_height": null,
            "padding": null,
            "grid_auto_rows": null,
            "grid_gap": null,
            "max_width": null,
            "order": null,
            "_view_module_version": "1.2.0",
            "grid_template_areas": null,
            "object_position": null,
            "object_fit": null,
            "grid_auto_columns": null,
            "margin": null,
            "display": null,
            "left": null
          }
        },
        "3054fceea16645aca1ef9cacd4baea6d": {
          "model_module": "@jupyter-widgets/controls",
          "model_name": "SliderStyleModel",
          "model_module_version": "1.5.0",
          "state": {
            "_view_name": "StyleView",
            "handle_color": null,
            "_model_name": "SliderStyleModel",
            "description_width": "",
            "_view_module": "@jupyter-widgets/base",
            "_model_module_version": "1.5.0",
            "_view_count": null,
            "_view_module_version": "1.2.0",
            "_model_module": "@jupyter-widgets/controls"
          }
        },
        "2a1b46514d484a0f86b7545654d9ebcd": {
          "model_module": "@jupyter-widgets/base",
          "model_name": "LayoutModel",
          "model_module_version": "1.2.0",
          "state": {
            "_view_name": "LayoutView",
            "grid_template_rows": null,
            "right": null,
            "justify_content": null,
            "_view_module": "@jupyter-widgets/base",
            "overflow": null,
            "_model_module_version": "1.2.0",
            "_view_count": null,
            "flex_flow": null,
            "width": null,
            "min_width": null,
            "border": null,
            "align_items": null,
            "bottom": null,
            "_model_module": "@jupyter-widgets/base",
            "top": null,
            "grid_column": null,
            "overflow_y": null,
            "overflow_x": null,
            "grid_auto_flow": null,
            "grid_area": null,
            "grid_template_columns": null,
            "flex": null,
            "_model_name": "LayoutModel",
            "justify_items": null,
            "grid_row": null,
            "max_height": null,
            "align_content": null,
            "visibility": null,
            "align_self": null,
            "height": null,
            "min_height": null,
            "padding": null,
            "grid_auto_rows": null,
            "grid_gap": null,
            "max_width": null,
            "order": null,
            "_view_module_version": "1.2.0",
            "grid_template_areas": null,
            "object_position": null,
            "object_fit": null,
            "grid_auto_columns": null,
            "margin": null,
            "display": null,
            "left": null
          }
        },
        "a4dc83dbe9f24ee0a29138facb21ad69": {
          "model_module": "@jupyter-widgets/controls",
          "model_name": "ButtonStyleModel",
          "model_module_version": "1.5.0",
          "state": {
            "_view_name": "StyleView",
            "_model_name": "ButtonStyleModel",
            "_view_module": "@jupyter-widgets/base",
            "_model_module_version": "1.5.0",
            "_view_count": null,
            "button_color": null,
            "font_weight": "",
            "_view_module_version": "1.2.0",
            "_model_module": "@jupyter-widgets/controls"
          }
        },
        "e0a85c4e9a6a48feb195a5d997f92292": {
          "model_module": "@jupyter-widgets/base",
          "model_name": "LayoutModel",
          "model_module_version": "1.2.0",
          "state": {
            "_view_name": "LayoutView",
            "grid_template_rows": null,
            "right": null,
            "justify_content": null,
            "_view_module": "@jupyter-widgets/base",
            "overflow": null,
            "_model_module_version": "1.2.0",
            "_view_count": null,
            "flex_flow": null,
            "width": null,
            "min_width": null,
            "border": null,
            "align_items": null,
            "bottom": null,
            "_model_module": "@jupyter-widgets/base",
            "top": null,
            "grid_column": null,
            "overflow_y": null,
            "overflow_x": null,
            "grid_auto_flow": null,
            "grid_area": null,
            "grid_template_columns": null,
            "flex": null,
            "_model_name": "LayoutModel",
            "justify_items": null,
            "grid_row": null,
            "max_height": null,
            "align_content": null,
            "visibility": null,
            "align_self": null,
            "height": null,
            "min_height": null,
            "padding": null,
            "grid_auto_rows": null,
            "grid_gap": null,
            "max_width": null,
            "order": null,
            "_view_module_version": "1.2.0",
            "grid_template_areas": null,
            "object_position": null,
            "object_fit": null,
            "grid_auto_columns": null,
            "margin": null,
            "display": null,
            "left": null
          }
        },
        "35ae260537494919be0f6c2399c695df": {
          "model_module": "@jupyter-widgets/base",
          "model_name": "LayoutModel",
          "model_module_version": "1.2.0",
          "state": {
            "_view_name": "LayoutView",
            "grid_template_rows": null,
            "right": null,
            "justify_content": null,
            "_view_module": "@jupyter-widgets/base",
            "overflow": null,
            "_model_module_version": "1.2.0",
            "_view_count": null,
            "flex_flow": null,
            "width": null,
            "min_width": null,
            "border": null,
            "align_items": null,
            "bottom": null,
            "_model_module": "@jupyter-widgets/base",
            "top": null,
            "grid_column": null,
            "overflow_y": null,
            "overflow_x": null,
            "grid_auto_flow": null,
            "grid_area": null,
            "grid_template_columns": null,
            "flex": null,
            "_model_name": "LayoutModel",
            "justify_items": null,
            "grid_row": null,
            "max_height": null,
            "align_content": null,
            "visibility": null,
            "align_self": null,
            "height": null,
            "min_height": null,
            "padding": null,
            "grid_auto_rows": null,
            "grid_gap": null,
            "max_width": null,
            "order": null,
            "_view_module_version": "1.2.0",
            "grid_template_areas": null,
            "object_position": null,
            "object_fit": null,
            "grid_auto_columns": null,
            "margin": null,
            "display": null,
            "left": null
          }
        },
        "1a2c838645844ffdbc296876b5c4e430": {
          "model_module": "@jupyter-widgets/controls",
          "model_name": "VBoxModel",
          "model_module_version": "1.5.0",
          "state": {
            "_view_name": "VBoxView",
            "_dom_classes": [
              "widget-interact"
            ],
            "_model_name": "VBoxModel",
            "_view_module": "@jupyter-widgets/controls",
            "_model_module_version": "1.5.0",
            "_view_count": null,
            "_view_module_version": "1.5.0",
            "box_style": "",
            "layout": "IPY_MODEL_80f3cfe796114c68900755b89fe3f168",
            "_model_module": "@jupyter-widgets/controls",
            "children": [
              "IPY_MODEL_d2b538c46ba2436ebea3d7d9ab2d5a37",
              "IPY_MODEL_b9b0ed6b609341a684bf42ffa2f340eb",
              "IPY_MODEL_5b9540b2752a4f1bbe59ce23030e4f1a"
            ]
          }
        },
        "80f3cfe796114c68900755b89fe3f168": {
          "model_module": "@jupyter-widgets/base",
          "model_name": "LayoutModel",
          "model_module_version": "1.2.0",
          "state": {
            "_view_name": "LayoutView",
            "grid_template_rows": null,
            "right": null,
            "justify_content": null,
            "_view_module": "@jupyter-widgets/base",
            "overflow": null,
            "_model_module_version": "1.2.0",
            "_view_count": null,
            "flex_flow": null,
            "width": null,
            "min_width": null,
            "border": null,
            "align_items": null,
            "bottom": null,
            "_model_module": "@jupyter-widgets/base",
            "top": null,
            "grid_column": null,
            "overflow_y": null,
            "overflow_x": null,
            "grid_auto_flow": null,
            "grid_area": null,
            "grid_template_columns": null,
            "flex": null,
            "_model_name": "LayoutModel",
            "justify_items": null,
            "grid_row": null,
            "max_height": null,
            "align_content": null,
            "visibility": null,
            "align_self": null,
            "height": null,
            "min_height": null,
            "padding": null,
            "grid_auto_rows": null,
            "grid_gap": null,
            "max_width": null,
            "order": null,
            "_view_module_version": "1.2.0",
            "grid_template_areas": null,
            "object_position": null,
            "object_fit": null,
            "grid_auto_columns": null,
            "margin": null,
            "display": null,
            "left": null
          }
        },
        "d2b538c46ba2436ebea3d7d9ab2d5a37": {
          "model_module": "@jupyter-widgets/controls",
          "model_name": "IntSliderModel",
          "model_module_version": "1.5.0",
          "state": {
            "_view_name": "IntSliderView",
            "style": "IPY_MODEL_e61e3e2c581d49cebdd9f7450ffe6482",
            "_dom_classes": [],
            "description": "estrazioni",
            "step": 1,
            "_model_name": "IntSliderModel",
            "orientation": "horizontal",
            "max": 10,
            "_view_module": "@jupyter-widgets/controls",
            "_model_module_version": "1.5.0",
            "value": 3,
            "_view_count": null,
            "disabled": false,
            "_view_module_version": "1.5.0",
            "min": 1,
            "continuous_update": true,
            "readout_format": "d",
            "description_tooltip": null,
            "readout": true,
            "_model_module": "@jupyter-widgets/controls",
            "layout": "IPY_MODEL_0fcbf72b69c54d28ad45c2a6c65830f2"
          }
        },
        "b9b0ed6b609341a684bf42ffa2f340eb": {
          "model_module": "@jupyter-widgets/controls",
          "model_name": "ButtonModel",
          "model_module_version": "1.5.0",
          "state": {
            "_view_name": "ButtonView",
            "style": "IPY_MODEL_92be6476f814433fa4b04980ccc2f57b",
            "_dom_classes": [],
            "description": "Run Interact",
            "_model_name": "ButtonModel",
            "button_style": "",
            "_view_module": "@jupyter-widgets/controls",
            "_model_module_version": "1.5.0",
            "tooltip": "",
            "_view_count": null,
            "disabled": false,
            "_view_module_version": "1.5.0",
            "layout": "IPY_MODEL_37e7c81e0b844924b162a487969960ee",
            "_model_module": "@jupyter-widgets/controls",
            "icon": ""
          }
        },
        "5b9540b2752a4f1bbe59ce23030e4f1a": {
          "model_module": "@jupyter-widgets/output",
          "model_name": "OutputModel",
          "model_module_version": "1.0.0",
          "state": {
            "_view_name": "OutputView",
            "msg_id": "",
            "_dom_classes": [],
            "_model_name": "OutputModel",
            "outputs": [],
            "_view_module": "@jupyter-widgets/output",
            "_model_module_version": "1.0.0",
            "_view_count": null,
            "_view_module_version": "1.0.0",
            "layout": "IPY_MODEL_b83e25dc9f814ed988d3ec407e279c86",
            "_model_module": "@jupyter-widgets/output"
          }
        },
        "e61e3e2c581d49cebdd9f7450ffe6482": {
          "model_module": "@jupyter-widgets/controls",
          "model_name": "SliderStyleModel",
          "model_module_version": "1.5.0",
          "state": {
            "_view_name": "StyleView",
            "handle_color": null,
            "_model_name": "SliderStyleModel",
            "description_width": "",
            "_view_module": "@jupyter-widgets/base",
            "_model_module_version": "1.5.0",
            "_view_count": null,
            "_view_module_version": "1.2.0",
            "_model_module": "@jupyter-widgets/controls"
          }
        },
        "0fcbf72b69c54d28ad45c2a6c65830f2": {
          "model_module": "@jupyter-widgets/base",
          "model_name": "LayoutModel",
          "model_module_version": "1.2.0",
          "state": {
            "_view_name": "LayoutView",
            "grid_template_rows": null,
            "right": null,
            "justify_content": null,
            "_view_module": "@jupyter-widgets/base",
            "overflow": null,
            "_model_module_version": "1.2.0",
            "_view_count": null,
            "flex_flow": null,
            "width": null,
            "min_width": null,
            "border": null,
            "align_items": null,
            "bottom": null,
            "_model_module": "@jupyter-widgets/base",
            "top": null,
            "grid_column": null,
            "overflow_y": null,
            "overflow_x": null,
            "grid_auto_flow": null,
            "grid_area": null,
            "grid_template_columns": null,
            "flex": null,
            "_model_name": "LayoutModel",
            "justify_items": null,
            "grid_row": null,
            "max_height": null,
            "align_content": null,
            "visibility": null,
            "align_self": null,
            "height": null,
            "min_height": null,
            "padding": null,
            "grid_auto_rows": null,
            "grid_gap": null,
            "max_width": null,
            "order": null,
            "_view_module_version": "1.2.0",
            "grid_template_areas": null,
            "object_position": null,
            "object_fit": null,
            "grid_auto_columns": null,
            "margin": null,
            "display": null,
            "left": null
          }
        },
        "92be6476f814433fa4b04980ccc2f57b": {
          "model_module": "@jupyter-widgets/controls",
          "model_name": "ButtonStyleModel",
          "model_module_version": "1.5.0",
          "state": {
            "_view_name": "StyleView",
            "_model_name": "ButtonStyleModel",
            "_view_module": "@jupyter-widgets/base",
            "_model_module_version": "1.5.0",
            "_view_count": null,
            "button_color": null,
            "font_weight": "",
            "_view_module_version": "1.2.0",
            "_model_module": "@jupyter-widgets/controls"
          }
        },
        "37e7c81e0b844924b162a487969960ee": {
          "model_module": "@jupyter-widgets/base",
          "model_name": "LayoutModel",
          "model_module_version": "1.2.0",
          "state": {
            "_view_name": "LayoutView",
            "grid_template_rows": null,
            "right": null,
            "justify_content": null,
            "_view_module": "@jupyter-widgets/base",
            "overflow": null,
            "_model_module_version": "1.2.0",
            "_view_count": null,
            "flex_flow": null,
            "width": null,
            "min_width": null,
            "border": null,
            "align_items": null,
            "bottom": null,
            "_model_module": "@jupyter-widgets/base",
            "top": null,
            "grid_column": null,
            "overflow_y": null,
            "overflow_x": null,
            "grid_auto_flow": null,
            "grid_area": null,
            "grid_template_columns": null,
            "flex": null,
            "_model_name": "LayoutModel",
            "justify_items": null,
            "grid_row": null,
            "max_height": null,
            "align_content": null,
            "visibility": null,
            "align_self": null,
            "height": null,
            "min_height": null,
            "padding": null,
            "grid_auto_rows": null,
            "grid_gap": null,
            "max_width": null,
            "order": null,
            "_view_module_version": "1.2.0",
            "grid_template_areas": null,
            "object_position": null,
            "object_fit": null,
            "grid_auto_columns": null,
            "margin": null,
            "display": null,
            "left": null
          }
        },
        "b83e25dc9f814ed988d3ec407e279c86": {
          "model_module": "@jupyter-widgets/base",
          "model_name": "LayoutModel",
          "model_module_version": "1.2.0",
          "state": {
            "_view_name": "LayoutView",
            "grid_template_rows": null,
            "right": null,
            "justify_content": null,
            "_view_module": "@jupyter-widgets/base",
            "overflow": null,
            "_model_module_version": "1.2.0",
            "_view_count": null,
            "flex_flow": null,
            "width": null,
            "min_width": null,
            "border": null,
            "align_items": null,
            "bottom": null,
            "_model_module": "@jupyter-widgets/base",
            "top": null,
            "grid_column": null,
            "overflow_y": null,
            "overflow_x": null,
            "grid_auto_flow": null,
            "grid_area": null,
            "grid_template_columns": null,
            "flex": null,
            "_model_name": "LayoutModel",
            "justify_items": null,
            "grid_row": null,
            "max_height": null,
            "align_content": null,
            "visibility": null,
            "align_self": null,
            "height": null,
            "min_height": null,
            "padding": null,
            "grid_auto_rows": null,
            "grid_gap": null,
            "max_width": null,
            "order": null,
            "_view_module_version": "1.2.0",
            "grid_template_areas": null,
            "object_position": null,
            "object_fit": null,
            "grid_auto_columns": null,
            "margin": null,
            "display": null,
            "left": null
          }
        },
        "30d15d2f34ba418686b7dca6a887169a": {
          "model_module": "@jupyter-widgets/controls",
          "model_name": "VBoxModel",
          "model_module_version": "1.5.0",
          "state": {
            "_view_name": "VBoxView",
            "_dom_classes": [
              "widget-interact"
            ],
            "_model_name": "VBoxModel",
            "_view_module": "@jupyter-widgets/controls",
            "_model_module_version": "1.5.0",
            "_view_count": null,
            "_view_module_version": "1.5.0",
            "box_style": "",
            "layout": "IPY_MODEL_586640b4686941d2a97de9d50e5f8c51",
            "_model_module": "@jupyter-widgets/controls",
            "children": [
              "IPY_MODEL_a8e0ea56f80049999c1880b4f414fbbc",
              "IPY_MODEL_325f79671f0a4d4286935185a6965f33",
              "IPY_MODEL_1ba846c6cea749bb9e9664e1c14fc6b7",
              "IPY_MODEL_2f344f4e115c49949a2df608aa774a0d"
            ]
          }
        },
        "586640b4686941d2a97de9d50e5f8c51": {
          "model_module": "@jupyter-widgets/base",
          "model_name": "LayoutModel",
          "model_module_version": "1.2.0",
          "state": {
            "_view_name": "LayoutView",
            "grid_template_rows": null,
            "right": null,
            "justify_content": null,
            "_view_module": "@jupyter-widgets/base",
            "overflow": null,
            "_model_module_version": "1.2.0",
            "_view_count": null,
            "flex_flow": null,
            "width": null,
            "min_width": null,
            "border": null,
            "align_items": null,
            "bottom": null,
            "_model_module": "@jupyter-widgets/base",
            "top": null,
            "grid_column": null,
            "overflow_y": null,
            "overflow_x": null,
            "grid_auto_flow": null,
            "grid_area": null,
            "grid_template_columns": null,
            "flex": null,
            "_model_name": "LayoutModel",
            "justify_items": null,
            "grid_row": null,
            "max_height": null,
            "align_content": null,
            "visibility": null,
            "align_self": null,
            "height": null,
            "min_height": null,
            "padding": null,
            "grid_auto_rows": null,
            "grid_gap": null,
            "max_width": null,
            "order": null,
            "_view_module_version": "1.2.0",
            "grid_template_areas": null,
            "object_position": null,
            "object_fit": null,
            "grid_auto_columns": null,
            "margin": null,
            "display": null,
            "left": null
          }
        },
        "a8e0ea56f80049999c1880b4f414fbbc": {
          "model_module": "@jupyter-widgets/controls",
          "model_name": "IntSliderModel",
          "model_module_version": "1.5.0",
          "state": {
            "_view_name": "IntSliderView",
            "style": "IPY_MODEL_f44a83da1ec34688864719b2e9abb64e",
            "_dom_classes": [],
            "description": "bianche",
            "step": 1,
            "_model_name": "IntSliderModel",
            "orientation": "horizontal",
            "max": 5,
            "_view_module": "@jupyter-widgets/controls",
            "_model_module_version": "1.5.0",
            "value": 2,
            "_view_count": null,
            "disabled": false,
            "_view_module_version": "1.5.0",
            "min": 1,
            "continuous_update": true,
            "readout_format": "d",
            "description_tooltip": null,
            "readout": true,
            "_model_module": "@jupyter-widgets/controls",
            "layout": "IPY_MODEL_d6a88013436648cfa9ff7c1396874a32"
          }
        },
        "325f79671f0a4d4286935185a6965f33": {
          "model_module": "@jupyter-widgets/controls",
          "model_name": "IntSliderModel",
          "model_module_version": "1.5.0",
          "state": {
            "_view_name": "IntSliderView",
            "style": "IPY_MODEL_92abb9dde0004643a1f270e1a321feb6",
            "_dom_classes": [],
            "description": "rosse",
            "step": 1,
            "_model_name": "IntSliderModel",
            "orientation": "horizontal",
            "max": 5,
            "_view_module": "@jupyter-widgets/controls",
            "_model_module_version": "1.5.0",
            "value": 3,
            "_view_count": null,
            "disabled": false,
            "_view_module_version": "1.5.0",
            "min": 1,
            "continuous_update": true,
            "readout_format": "d",
            "description_tooltip": null,
            "readout": true,
            "_model_module": "@jupyter-widgets/controls",
            "layout": "IPY_MODEL_8d8d0f3a6b134be8a5ff66d3a70cc923"
          }
        },
        "1ba846c6cea749bb9e9664e1c14fc6b7": {
          "model_module": "@jupyter-widgets/controls",
          "model_name": "ButtonModel",
          "model_module_version": "1.5.0",
          "state": {
            "_view_name": "ButtonView",
            "style": "IPY_MODEL_961ee05d68ea4380b6311c3428091cb0",
            "_dom_classes": [],
            "description": "Run Interact",
            "_model_name": "ButtonModel",
            "button_style": "",
            "_view_module": "@jupyter-widgets/controls",
            "_model_module_version": "1.5.0",
            "tooltip": "",
            "_view_count": null,
            "disabled": false,
            "_view_module_version": "1.5.0",
            "layout": "IPY_MODEL_c0bc2cad1a5a447f834e1da1bfdff517",
            "_model_module": "@jupyter-widgets/controls",
            "icon": ""
          }
        },
        "2f344f4e115c49949a2df608aa774a0d": {
          "model_module": "@jupyter-widgets/output",
          "model_name": "OutputModel",
          "model_module_version": "1.0.0",
          "state": {
            "_view_name": "OutputView",
            "msg_id": "",
            "_dom_classes": [],
            "_model_name": "OutputModel",
            "outputs": [],
            "_view_module": "@jupyter-widgets/output",
            "_model_module_version": "1.0.0",
            "_view_count": null,
            "_view_module_version": "1.0.0",
            "layout": "IPY_MODEL_96202b4089564b90be99854a9abf6f9c",
            "_model_module": "@jupyter-widgets/output"
          }
        },
        "f44a83da1ec34688864719b2e9abb64e": {
          "model_module": "@jupyter-widgets/controls",
          "model_name": "SliderStyleModel",
          "model_module_version": "1.5.0",
          "state": {
            "_view_name": "StyleView",
            "handle_color": null,
            "_model_name": "SliderStyleModel",
            "description_width": "",
            "_view_module": "@jupyter-widgets/base",
            "_model_module_version": "1.5.0",
            "_view_count": null,
            "_view_module_version": "1.2.0",
            "_model_module": "@jupyter-widgets/controls"
          }
        },
        "d6a88013436648cfa9ff7c1396874a32": {
          "model_module": "@jupyter-widgets/base",
          "model_name": "LayoutModel",
          "model_module_version": "1.2.0",
          "state": {
            "_view_name": "LayoutView",
            "grid_template_rows": null,
            "right": null,
            "justify_content": null,
            "_view_module": "@jupyter-widgets/base",
            "overflow": null,
            "_model_module_version": "1.2.0",
            "_view_count": null,
            "flex_flow": null,
            "width": null,
            "min_width": null,
            "border": null,
            "align_items": null,
            "bottom": null,
            "_model_module": "@jupyter-widgets/base",
            "top": null,
            "grid_column": null,
            "overflow_y": null,
            "overflow_x": null,
            "grid_auto_flow": null,
            "grid_area": null,
            "grid_template_columns": null,
            "flex": null,
            "_model_name": "LayoutModel",
            "justify_items": null,
            "grid_row": null,
            "max_height": null,
            "align_content": null,
            "visibility": null,
            "align_self": null,
            "height": null,
            "min_height": null,
            "padding": null,
            "grid_auto_rows": null,
            "grid_gap": null,
            "max_width": null,
            "order": null,
            "_view_module_version": "1.2.0",
            "grid_template_areas": null,
            "object_position": null,
            "object_fit": null,
            "grid_auto_columns": null,
            "margin": null,
            "display": null,
            "left": null
          }
        },
        "92abb9dde0004643a1f270e1a321feb6": {
          "model_module": "@jupyter-widgets/controls",
          "model_name": "SliderStyleModel",
          "model_module_version": "1.5.0",
          "state": {
            "_view_name": "StyleView",
            "handle_color": null,
            "_model_name": "SliderStyleModel",
            "description_width": "",
            "_view_module": "@jupyter-widgets/base",
            "_model_module_version": "1.5.0",
            "_view_count": null,
            "_view_module_version": "1.2.0",
            "_model_module": "@jupyter-widgets/controls"
          }
        },
        "8d8d0f3a6b134be8a5ff66d3a70cc923": {
          "model_module": "@jupyter-widgets/base",
          "model_name": "LayoutModel",
          "model_module_version": "1.2.0",
          "state": {
            "_view_name": "LayoutView",
            "grid_template_rows": null,
            "right": null,
            "justify_content": null,
            "_view_module": "@jupyter-widgets/base",
            "overflow": null,
            "_model_module_version": "1.2.0",
            "_view_count": null,
            "flex_flow": null,
            "width": null,
            "min_width": null,
            "border": null,
            "align_items": null,
            "bottom": null,
            "_model_module": "@jupyter-widgets/base",
            "top": null,
            "grid_column": null,
            "overflow_y": null,
            "overflow_x": null,
            "grid_auto_flow": null,
            "grid_area": null,
            "grid_template_columns": null,
            "flex": null,
            "_model_name": "LayoutModel",
            "justify_items": null,
            "grid_row": null,
            "max_height": null,
            "align_content": null,
            "visibility": null,
            "align_self": null,
            "height": null,
            "min_height": null,
            "padding": null,
            "grid_auto_rows": null,
            "grid_gap": null,
            "max_width": null,
            "order": null,
            "_view_module_version": "1.2.0",
            "grid_template_areas": null,
            "object_position": null,
            "object_fit": null,
            "grid_auto_columns": null,
            "margin": null,
            "display": null,
            "left": null
          }
        },
        "961ee05d68ea4380b6311c3428091cb0": {
          "model_module": "@jupyter-widgets/controls",
          "model_name": "ButtonStyleModel",
          "model_module_version": "1.5.0",
          "state": {
            "_view_name": "StyleView",
            "_model_name": "ButtonStyleModel",
            "_view_module": "@jupyter-widgets/base",
            "_model_module_version": "1.5.0",
            "_view_count": null,
            "button_color": null,
            "font_weight": "",
            "_view_module_version": "1.2.0",
            "_model_module": "@jupyter-widgets/controls"
          }
        },
        "c0bc2cad1a5a447f834e1da1bfdff517": {
          "model_module": "@jupyter-widgets/base",
          "model_name": "LayoutModel",
          "model_module_version": "1.2.0",
          "state": {
            "_view_name": "LayoutView",
            "grid_template_rows": null,
            "right": null,
            "justify_content": null,
            "_view_module": "@jupyter-widgets/base",
            "overflow": null,
            "_model_module_version": "1.2.0",
            "_view_count": null,
            "flex_flow": null,
            "width": null,
            "min_width": null,
            "border": null,
            "align_items": null,
            "bottom": null,
            "_model_module": "@jupyter-widgets/base",
            "top": null,
            "grid_column": null,
            "overflow_y": null,
            "overflow_x": null,
            "grid_auto_flow": null,
            "grid_area": null,
            "grid_template_columns": null,
            "flex": null,
            "_model_name": "LayoutModel",
            "justify_items": null,
            "grid_row": null,
            "max_height": null,
            "align_content": null,
            "visibility": null,
            "align_self": null,
            "height": null,
            "min_height": null,
            "padding": null,
            "grid_auto_rows": null,
            "grid_gap": null,
            "max_width": null,
            "order": null,
            "_view_module_version": "1.2.0",
            "grid_template_areas": null,
            "object_position": null,
            "object_fit": null,
            "grid_auto_columns": null,
            "margin": null,
            "display": null,
            "left": null
          }
        },
        "96202b4089564b90be99854a9abf6f9c": {
          "model_module": "@jupyter-widgets/base",
          "model_name": "LayoutModel",
          "model_module_version": "1.2.0",
          "state": {
            "_view_name": "LayoutView",
            "grid_template_rows": null,
            "right": null,
            "justify_content": null,
            "_view_module": "@jupyter-widgets/base",
            "overflow": null,
            "_model_module_version": "1.2.0",
            "_view_count": null,
            "flex_flow": null,
            "width": null,
            "min_width": null,
            "border": null,
            "align_items": null,
            "bottom": null,
            "_model_module": "@jupyter-widgets/base",
            "top": null,
            "grid_column": null,
            "overflow_y": null,
            "overflow_x": null,
            "grid_auto_flow": null,
            "grid_area": null,
            "grid_template_columns": null,
            "flex": null,
            "_model_name": "LayoutModel",
            "justify_items": null,
            "grid_row": null,
            "max_height": null,
            "align_content": null,
            "visibility": null,
            "align_self": null,
            "height": null,
            "min_height": null,
            "padding": null,
            "grid_auto_rows": null,
            "grid_gap": null,
            "max_width": null,
            "order": null,
            "_view_module_version": "1.2.0",
            "grid_template_areas": null,
            "object_position": null,
            "object_fit": null,
            "grid_auto_columns": null,
            "margin": null,
            "display": null,
            "left": null
          }
        },
        "a4dd258189b9420ba0f926c3d2b2cb2a": {
          "model_module": "@jupyter-widgets/controls",
          "model_name": "VBoxModel",
          "model_module_version": "1.5.0",
          "state": {
            "_view_name": "VBoxView",
            "_dom_classes": [
              "widget-interact"
            ],
            "_model_name": "VBoxModel",
            "_view_module": "@jupyter-widgets/controls",
            "_model_module_version": "1.5.0",
            "_view_count": null,
            "_view_module_version": "1.5.0",
            "box_style": "",
            "layout": "IPY_MODEL_31f2233c022a44d9b09f6a2b3d5ddf07",
            "_model_module": "@jupyter-widgets/controls",
            "children": [
              "IPY_MODEL_2a0cbbbccad9413382b64e30cf22af66",
              "IPY_MODEL_77adf678eb3e4b6b83c9763e1a9d25b6",
              "IPY_MODEL_dc9eca5a81d94d41a3258b95021e9eb8"
            ]
          }
        },
        "31f2233c022a44d9b09f6a2b3d5ddf07": {
          "model_module": "@jupyter-widgets/base",
          "model_name": "LayoutModel",
          "model_module_version": "1.2.0",
          "state": {
            "_view_name": "LayoutView",
            "grid_template_rows": null,
            "right": null,
            "justify_content": null,
            "_view_module": "@jupyter-widgets/base",
            "overflow": null,
            "_model_module_version": "1.2.0",
            "_view_count": null,
            "flex_flow": null,
            "width": null,
            "min_width": null,
            "border": null,
            "align_items": null,
            "bottom": null,
            "_model_module": "@jupyter-widgets/base",
            "top": null,
            "grid_column": null,
            "overflow_y": null,
            "overflow_x": null,
            "grid_auto_flow": null,
            "grid_area": null,
            "grid_template_columns": null,
            "flex": null,
            "_model_name": "LayoutModel",
            "justify_items": null,
            "grid_row": null,
            "max_height": null,
            "align_content": null,
            "visibility": null,
            "align_self": null,
            "height": null,
            "min_height": null,
            "padding": null,
            "grid_auto_rows": null,
            "grid_gap": null,
            "max_width": null,
            "order": null,
            "_view_module_version": "1.2.0",
            "grid_template_areas": null,
            "object_position": null,
            "object_fit": null,
            "grid_auto_columns": null,
            "margin": null,
            "display": null,
            "left": null
          }
        },
        "2a0cbbbccad9413382b64e30cf22af66": {
          "model_module": "@jupyter-widgets/controls",
          "model_name": "IntSliderModel",
          "model_module_version": "1.5.0",
          "state": {
            "_view_name": "IntSliderView",
            "style": "IPY_MODEL_9392f7732dbb43c6a3b8fbd149a0266f",
            "_dom_classes": [],
            "description": "tempo",
            "step": 1,
            "_model_name": "IntSliderModel",
            "orientation": "horizontal",
            "max": 20,
            "_view_module": "@jupyter-widgets/controls",
            "_model_module_version": "1.5.0",
            "value": 10,
            "_view_count": null,
            "disabled": false,
            "_view_module_version": "1.5.0",
            "min": 1,
            "continuous_update": true,
            "readout_format": "d",
            "description_tooltip": null,
            "readout": true,
            "_model_module": "@jupyter-widgets/controls",
            "layout": "IPY_MODEL_a7f982a7236a46d4b7ca6885b8fc984a"
          }
        },
        "77adf678eb3e4b6b83c9763e1a9d25b6": {
          "model_module": "@jupyter-widgets/controls",
          "model_name": "ButtonModel",
          "model_module_version": "1.5.0",
          "state": {
            "_view_name": "ButtonView",
            "style": "IPY_MODEL_0f32df9a0c0b4e08bb5cb2af061afee6",
            "_dom_classes": [],
            "description": "Run Interact",
            "_model_name": "ButtonModel",
            "button_style": "",
            "_view_module": "@jupyter-widgets/controls",
            "_model_module_version": "1.5.0",
            "tooltip": "",
            "_view_count": null,
            "disabled": false,
            "_view_module_version": "1.5.0",
            "layout": "IPY_MODEL_da88502ab5fd46118a2f6a200a79df3b",
            "_model_module": "@jupyter-widgets/controls",
            "icon": ""
          }
        },
        "dc9eca5a81d94d41a3258b95021e9eb8": {
          "model_module": "@jupyter-widgets/output",
          "model_name": "OutputModel",
          "model_module_version": "1.0.0",
          "state": {
            "_view_name": "OutputView",
            "msg_id": "",
            "_dom_classes": [],
            "_model_name": "OutputModel",
            "outputs": [],
            "_view_module": "@jupyter-widgets/output",
            "_model_module_version": "1.0.0",
            "_view_count": null,
            "_view_module_version": "1.0.0",
            "layout": "IPY_MODEL_3e9ac4122608400ebe4f9d9683e2b68f",
            "_model_module": "@jupyter-widgets/output"
          }
        },
        "9392f7732dbb43c6a3b8fbd149a0266f": {
          "model_module": "@jupyter-widgets/controls",
          "model_name": "SliderStyleModel",
          "model_module_version": "1.5.0",
          "state": {
            "_view_name": "StyleView",
            "handle_color": null,
            "_model_name": "SliderStyleModel",
            "description_width": "",
            "_view_module": "@jupyter-widgets/base",
            "_model_module_version": "1.5.0",
            "_view_count": null,
            "_view_module_version": "1.2.0",
            "_model_module": "@jupyter-widgets/controls"
          }
        },
        "a7f982a7236a46d4b7ca6885b8fc984a": {
          "model_module": "@jupyter-widgets/base",
          "model_name": "LayoutModel",
          "model_module_version": "1.2.0",
          "state": {
            "_view_name": "LayoutView",
            "grid_template_rows": null,
            "right": null,
            "justify_content": null,
            "_view_module": "@jupyter-widgets/base",
            "overflow": null,
            "_model_module_version": "1.2.0",
            "_view_count": null,
            "flex_flow": null,
            "width": null,
            "min_width": null,
            "border": null,
            "align_items": null,
            "bottom": null,
            "_model_module": "@jupyter-widgets/base",
            "top": null,
            "grid_column": null,
            "overflow_y": null,
            "overflow_x": null,
            "grid_auto_flow": null,
            "grid_area": null,
            "grid_template_columns": null,
            "flex": null,
            "_model_name": "LayoutModel",
            "justify_items": null,
            "grid_row": null,
            "max_height": null,
            "align_content": null,
            "visibility": null,
            "align_self": null,
            "height": null,
            "min_height": null,
            "padding": null,
            "grid_auto_rows": null,
            "grid_gap": null,
            "max_width": null,
            "order": null,
            "_view_module_version": "1.2.0",
            "grid_template_areas": null,
            "object_position": null,
            "object_fit": null,
            "grid_auto_columns": null,
            "margin": null,
            "display": null,
            "left": null
          }
        },
        "0f32df9a0c0b4e08bb5cb2af061afee6": {
          "model_module": "@jupyter-widgets/controls",
          "model_name": "ButtonStyleModel",
          "model_module_version": "1.5.0",
          "state": {
            "_view_name": "StyleView",
            "_model_name": "ButtonStyleModel",
            "_view_module": "@jupyter-widgets/base",
            "_model_module_version": "1.5.0",
            "_view_count": null,
            "button_color": null,
            "font_weight": "",
            "_view_module_version": "1.2.0",
            "_model_module": "@jupyter-widgets/controls"
          }
        },
        "da88502ab5fd46118a2f6a200a79df3b": {
          "model_module": "@jupyter-widgets/base",
          "model_name": "LayoutModel",
          "model_module_version": "1.2.0",
          "state": {
            "_view_name": "LayoutView",
            "grid_template_rows": null,
            "right": null,
            "justify_content": null,
            "_view_module": "@jupyter-widgets/base",
            "overflow": null,
            "_model_module_version": "1.2.0",
            "_view_count": null,
            "flex_flow": null,
            "width": null,
            "min_width": null,
            "border": null,
            "align_items": null,
            "bottom": null,
            "_model_module": "@jupyter-widgets/base",
            "top": null,
            "grid_column": null,
            "overflow_y": null,
            "overflow_x": null,
            "grid_auto_flow": null,
            "grid_area": null,
            "grid_template_columns": null,
            "flex": null,
            "_model_name": "LayoutModel",
            "justify_items": null,
            "grid_row": null,
            "max_height": null,
            "align_content": null,
            "visibility": null,
            "align_self": null,
            "height": null,
            "min_height": null,
            "padding": null,
            "grid_auto_rows": null,
            "grid_gap": null,
            "max_width": null,
            "order": null,
            "_view_module_version": "1.2.0",
            "grid_template_areas": null,
            "object_position": null,
            "object_fit": null,
            "grid_auto_columns": null,
            "margin": null,
            "display": null,
            "left": null
          }
        },
        "3e9ac4122608400ebe4f9d9683e2b68f": {
          "model_module": "@jupyter-widgets/base",
          "model_name": "LayoutModel",
          "model_module_version": "1.2.0",
          "state": {
            "_view_name": "LayoutView",
            "grid_template_rows": null,
            "right": null,
            "justify_content": null,
            "_view_module": "@jupyter-widgets/base",
            "overflow": null,
            "_model_module_version": "1.2.0",
            "_view_count": null,
            "flex_flow": null,
            "width": null,
            "min_width": null,
            "border": null,
            "align_items": null,
            "bottom": null,
            "_model_module": "@jupyter-widgets/base",
            "top": null,
            "grid_column": null,
            "overflow_y": null,
            "overflow_x": null,
            "grid_auto_flow": null,
            "grid_area": null,
            "grid_template_columns": null,
            "flex": null,
            "_model_name": "LayoutModel",
            "justify_items": null,
            "grid_row": null,
            "max_height": null,
            "align_content": null,
            "visibility": null,
            "align_self": null,
            "height": null,
            "min_height": null,
            "padding": null,
            "grid_auto_rows": null,
            "grid_gap": null,
            "max_width": null,
            "order": null,
            "_view_module_version": "1.2.0",
            "grid_template_areas": null,
            "object_position": null,
            "object_fit": null,
            "grid_auto_columns": null,
            "margin": null,
            "display": null,
            "left": null
          }
        },
        "47c1cf0ca6c049868cd65bd0a8e7f6d8": {
          "model_module": "@jupyter-widgets/controls",
          "model_name": "VBoxModel",
          "model_module_version": "1.5.0",
          "state": {
            "_view_name": "VBoxView",
            "_dom_classes": [
              "widget-interact"
            ],
            "_model_name": "VBoxModel",
            "_view_module": "@jupyter-widgets/controls",
            "_model_module_version": "1.5.0",
            "_view_count": null,
            "_view_module_version": "1.5.0",
            "box_style": "",
            "layout": "IPY_MODEL_b53bdbba40ed4776a7ed0caec23224f2",
            "_model_module": "@jupyter-widgets/controls",
            "children": [
              "IPY_MODEL_8a2fba7e07044feca90d7dca47de64f5",
              "IPY_MODEL_4568196e2ff6479fb07cc468177855a8",
              "IPY_MODEL_a889d460f57241f6a205df448254b402",
              "IPY_MODEL_bbec73c0ff01421bb61bf697a95cb9a4"
            ]
          }
        },
        "b53bdbba40ed4776a7ed0caec23224f2": {
          "model_module": "@jupyter-widgets/base",
          "model_name": "LayoutModel",
          "model_module_version": "1.2.0",
          "state": {
            "_view_name": "LayoutView",
            "grid_template_rows": null,
            "right": null,
            "justify_content": null,
            "_view_module": "@jupyter-widgets/base",
            "overflow": null,
            "_model_module_version": "1.2.0",
            "_view_count": null,
            "flex_flow": null,
            "width": null,
            "min_width": null,
            "border": null,
            "align_items": null,
            "bottom": null,
            "_model_module": "@jupyter-widgets/base",
            "top": null,
            "grid_column": null,
            "overflow_y": null,
            "overflow_x": null,
            "grid_auto_flow": null,
            "grid_area": null,
            "grid_template_columns": null,
            "flex": null,
            "_model_name": "LayoutModel",
            "justify_items": null,
            "grid_row": null,
            "max_height": null,
            "align_content": null,
            "visibility": null,
            "align_self": null,
            "height": null,
            "min_height": null,
            "padding": null,
            "grid_auto_rows": null,
            "grid_gap": null,
            "max_width": null,
            "order": null,
            "_view_module_version": "1.2.0",
            "grid_template_areas": null,
            "object_position": null,
            "object_fit": null,
            "grid_auto_columns": null,
            "margin": null,
            "display": null,
            "left": null
          }
        },
        "8a2fba7e07044feca90d7dca47de64f5": {
          "model_module": "@jupyter-widgets/controls",
          "model_name": "IntSliderModel",
          "model_module_version": "1.5.0",
          "state": {
            "_view_name": "IntSliderView",
            "style": "IPY_MODEL_099c00f6d107455d86751efe38d2d43e",
            "_dom_classes": [],
            "description": "bianche",
            "step": 1,
            "_model_name": "IntSliderModel",
            "orientation": "horizontal",
            "max": 5,
            "_view_module": "@jupyter-widgets/controls",
            "_model_module_version": "1.5.0",
            "value": 4,
            "_view_count": null,
            "disabled": false,
            "_view_module_version": "1.5.0",
            "min": 1,
            "continuous_update": true,
            "readout_format": "d",
            "description_tooltip": null,
            "readout": true,
            "_model_module": "@jupyter-widgets/controls",
            "layout": "IPY_MODEL_0efb5f2a86a24b4b8c8c3cafc2dbd53c"
          }
        },
        "4568196e2ff6479fb07cc468177855a8": {
          "model_module": "@jupyter-widgets/controls",
          "model_name": "IntSliderModel",
          "model_module_version": "1.5.0",
          "state": {
            "_view_name": "IntSliderView",
            "style": "IPY_MODEL_09b0eeea57c64184bbfec95ca078c080",
            "_dom_classes": [],
            "description": "rosse",
            "step": 1,
            "_model_name": "IntSliderModel",
            "orientation": "horizontal",
            "max": 5,
            "_view_module": "@jupyter-widgets/controls",
            "_model_module_version": "1.5.0",
            "value": 1,
            "_view_count": null,
            "disabled": false,
            "_view_module_version": "1.5.0",
            "min": 1,
            "continuous_update": true,
            "readout_format": "d",
            "description_tooltip": null,
            "readout": true,
            "_model_module": "@jupyter-widgets/controls",
            "layout": "IPY_MODEL_31392b8a30d0494c8e3b9fe39af8dc6b"
          }
        },
        "a889d460f57241f6a205df448254b402": {
          "model_module": "@jupyter-widgets/controls",
          "model_name": "ButtonModel",
          "model_module_version": "1.5.0",
          "state": {
            "_view_name": "ButtonView",
            "style": "IPY_MODEL_d4747f3f755c4696bcb8f49ef8816aad",
            "_dom_classes": [],
            "description": "Run Interact",
            "_model_name": "ButtonModel",
            "button_style": "",
            "_view_module": "@jupyter-widgets/controls",
            "_model_module_version": "1.5.0",
            "tooltip": "",
            "_view_count": null,
            "disabled": false,
            "_view_module_version": "1.5.0",
            "layout": "IPY_MODEL_094ad72c71e046ff9fc13d49f4d9dd65",
            "_model_module": "@jupyter-widgets/controls",
            "icon": ""
          }
        },
        "bbec73c0ff01421bb61bf697a95cb9a4": {
          "model_module": "@jupyter-widgets/output",
          "model_name": "OutputModel",
          "model_module_version": "1.0.0",
          "state": {
            "_view_name": "OutputView",
            "msg_id": "",
            "_dom_classes": [],
            "_model_name": "OutputModel",
            "outputs": [
              {
                "output_type": "display_data",
                "data": {
                  "image/png": "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\n",
                  "text/plain": "<Figure size 432x288 with 1 Axes>"
                },
                "metadata": {}
              }
            ],
            "_view_module": "@jupyter-widgets/output",
            "_model_module_version": "1.0.0",
            "_view_count": null,
            "_view_module_version": "1.0.0",
            "layout": "IPY_MODEL_4b82d48a19a342fc85d0c83b73d93916",
            "_model_module": "@jupyter-widgets/output"
          }
        },
        "099c00f6d107455d86751efe38d2d43e": {
          "model_module": "@jupyter-widgets/controls",
          "model_name": "SliderStyleModel",
          "model_module_version": "1.5.0",
          "state": {
            "_view_name": "StyleView",
            "handle_color": null,
            "_model_name": "SliderStyleModel",
            "description_width": "",
            "_view_module": "@jupyter-widgets/base",
            "_model_module_version": "1.5.0",
            "_view_count": null,
            "_view_module_version": "1.2.0",
            "_model_module": "@jupyter-widgets/controls"
          }
        },
        "0efb5f2a86a24b4b8c8c3cafc2dbd53c": {
          "model_module": "@jupyter-widgets/base",
          "model_name": "LayoutModel",
          "model_module_version": "1.2.0",
          "state": {
            "_view_name": "LayoutView",
            "grid_template_rows": null,
            "right": null,
            "justify_content": null,
            "_view_module": "@jupyter-widgets/base",
            "overflow": null,
            "_model_module_version": "1.2.0",
            "_view_count": null,
            "flex_flow": null,
            "width": null,
            "min_width": null,
            "border": null,
            "align_items": null,
            "bottom": null,
            "_model_module": "@jupyter-widgets/base",
            "top": null,
            "grid_column": null,
            "overflow_y": null,
            "overflow_x": null,
            "grid_auto_flow": null,
            "grid_area": null,
            "grid_template_columns": null,
            "flex": null,
            "_model_name": "LayoutModel",
            "justify_items": null,
            "grid_row": null,
            "max_height": null,
            "align_content": null,
            "visibility": null,
            "align_self": null,
            "height": null,
            "min_height": null,
            "padding": null,
            "grid_auto_rows": null,
            "grid_gap": null,
            "max_width": null,
            "order": null,
            "_view_module_version": "1.2.0",
            "grid_template_areas": null,
            "object_position": null,
            "object_fit": null,
            "grid_auto_columns": null,
            "margin": null,
            "display": null,
            "left": null
          }
        },
        "09b0eeea57c64184bbfec95ca078c080": {
          "model_module": "@jupyter-widgets/controls",
          "model_name": "SliderStyleModel",
          "model_module_version": "1.5.0",
          "state": {
            "_view_name": "StyleView",
            "handle_color": null,
            "_model_name": "SliderStyleModel",
            "description_width": "",
            "_view_module": "@jupyter-widgets/base",
            "_model_module_version": "1.5.0",
            "_view_count": null,
            "_view_module_version": "1.2.0",
            "_model_module": "@jupyter-widgets/controls"
          }
        },
        "31392b8a30d0494c8e3b9fe39af8dc6b": {
          "model_module": "@jupyter-widgets/base",
          "model_name": "LayoutModel",
          "model_module_version": "1.2.0",
          "state": {
            "_view_name": "LayoutView",
            "grid_template_rows": null,
            "right": null,
            "justify_content": null,
            "_view_module": "@jupyter-widgets/base",
            "overflow": null,
            "_model_module_version": "1.2.0",
            "_view_count": null,
            "flex_flow": null,
            "width": null,
            "min_width": null,
            "border": null,
            "align_items": null,
            "bottom": null,
            "_model_module": "@jupyter-widgets/base",
            "top": null,
            "grid_column": null,
            "overflow_y": null,
            "overflow_x": null,
            "grid_auto_flow": null,
            "grid_area": null,
            "grid_template_columns": null,
            "flex": null,
            "_model_name": "LayoutModel",
            "justify_items": null,
            "grid_row": null,
            "max_height": null,
            "align_content": null,
            "visibility": null,
            "align_self": null,
            "height": null,
            "min_height": null,
            "padding": null,
            "grid_auto_rows": null,
            "grid_gap": null,
            "max_width": null,
            "order": null,
            "_view_module_version": "1.2.0",
            "grid_template_areas": null,
            "object_position": null,
            "object_fit": null,
            "grid_auto_columns": null,
            "margin": null,
            "display": null,
            "left": null
          }
        },
        "d4747f3f755c4696bcb8f49ef8816aad": {
          "model_module": "@jupyter-widgets/controls",
          "model_name": "ButtonStyleModel",
          "model_module_version": "1.5.0",
          "state": {
            "_view_name": "StyleView",
            "_model_name": "ButtonStyleModel",
            "_view_module": "@jupyter-widgets/base",
            "_model_module_version": "1.5.0",
            "_view_count": null,
            "button_color": null,
            "font_weight": "",
            "_view_module_version": "1.2.0",
            "_model_module": "@jupyter-widgets/controls"
          }
        },
        "094ad72c71e046ff9fc13d49f4d9dd65": {
          "model_module": "@jupyter-widgets/base",
          "model_name": "LayoutModel",
          "model_module_version": "1.2.0",
          "state": {
            "_view_name": "LayoutView",
            "grid_template_rows": null,
            "right": null,
            "justify_content": null,
            "_view_module": "@jupyter-widgets/base",
            "overflow": null,
            "_model_module_version": "1.2.0",
            "_view_count": null,
            "flex_flow": null,
            "width": null,
            "min_width": null,
            "border": null,
            "align_items": null,
            "bottom": null,
            "_model_module": "@jupyter-widgets/base",
            "top": null,
            "grid_column": null,
            "overflow_y": null,
            "overflow_x": null,
            "grid_auto_flow": null,
            "grid_area": null,
            "grid_template_columns": null,
            "flex": null,
            "_model_name": "LayoutModel",
            "justify_items": null,
            "grid_row": null,
            "max_height": null,
            "align_content": null,
            "visibility": null,
            "align_self": null,
            "height": null,
            "min_height": null,
            "padding": null,
            "grid_auto_rows": null,
            "grid_gap": null,
            "max_width": null,
            "order": null,
            "_view_module_version": "1.2.0",
            "grid_template_areas": null,
            "object_position": null,
            "object_fit": null,
            "grid_auto_columns": null,
            "margin": null,
            "display": null,
            "left": null
          }
        },
        "4b82d48a19a342fc85d0c83b73d93916": {
          "model_module": "@jupyter-widgets/base",
          "model_name": "LayoutModel",
          "model_module_version": "1.2.0",
          "state": {
            "_view_name": "LayoutView",
            "grid_template_rows": null,
            "right": null,
            "justify_content": null,
            "_view_module": "@jupyter-widgets/base",
            "overflow": null,
            "_model_module_version": "1.2.0",
            "_view_count": null,
            "flex_flow": null,
            "width": null,
            "min_width": null,
            "border": null,
            "align_items": null,
            "bottom": null,
            "_model_module": "@jupyter-widgets/base",
            "top": null,
            "grid_column": null,
            "overflow_y": null,
            "overflow_x": null,
            "grid_auto_flow": null,
            "grid_area": null,
            "grid_template_columns": null,
            "flex": null,
            "_model_name": "LayoutModel",
            "justify_items": null,
            "grid_row": null,
            "max_height": null,
            "align_content": null,
            "visibility": null,
            "align_self": null,
            "height": null,
            "min_height": null,
            "padding": null,
            "grid_auto_rows": null,
            "grid_gap": null,
            "max_width": null,
            "order": null,
            "_view_module_version": "1.2.0",
            "grid_template_areas": null,
            "object_position": null,
            "object_fit": null,
            "grid_auto_columns": null,
            "margin": null,
            "display": null,
            "left": null
          }
        },
        "e96ce4cf027e4affa388b00b0300bb51": {
          "model_module": "@jupyter-widgets/controls",
          "model_name": "VBoxModel",
          "model_module_version": "1.5.0",
          "state": {
            "_view_name": "VBoxView",
            "_dom_classes": [
              "widget-interact"
            ],
            "_model_name": "VBoxModel",
            "_view_module": "@jupyter-widgets/controls",
            "_model_module_version": "1.5.0",
            "_view_count": null,
            "_view_module_version": "1.5.0",
            "box_style": "",
            "layout": "IPY_MODEL_091da9a17e7e437e971143490e4bab44",
            "_model_module": "@jupyter-widgets/controls",
            "children": [
              "IPY_MODEL_ac7be1ff6d864d49a32614e9e76968d3",
              "IPY_MODEL_d0aa30086c9c4ec3b839c8b0aa2f9356",
              "IPY_MODEL_b2a24e93c0914feea2f747739b23c3e1",
              "IPY_MODEL_5b8b4e4c8c9d4e5aa5ef8c1b823f0482"
            ]
          }
        },
        "091da9a17e7e437e971143490e4bab44": {
          "model_module": "@jupyter-widgets/base",
          "model_name": "LayoutModel",
          "model_module_version": "1.2.0",
          "state": {
            "_view_name": "LayoutView",
            "grid_template_rows": null,
            "right": null,
            "justify_content": null,
            "_view_module": "@jupyter-widgets/base",
            "overflow": null,
            "_model_module_version": "1.2.0",
            "_view_count": null,
            "flex_flow": null,
            "width": null,
            "min_width": null,
            "border": null,
            "align_items": null,
            "bottom": null,
            "_model_module": "@jupyter-widgets/base",
            "top": null,
            "grid_column": null,
            "overflow_y": null,
            "overflow_x": null,
            "grid_auto_flow": null,
            "grid_area": null,
            "grid_template_columns": null,
            "flex": null,
            "_model_name": "LayoutModel",
            "justify_items": null,
            "grid_row": null,
            "max_height": null,
            "align_content": null,
            "visibility": null,
            "align_self": null,
            "height": null,
            "min_height": null,
            "padding": null,
            "grid_auto_rows": null,
            "grid_gap": null,
            "max_width": null,
            "order": null,
            "_view_module_version": "1.2.0",
            "grid_template_areas": null,
            "object_position": null,
            "object_fit": null,
            "grid_auto_columns": null,
            "margin": null,
            "display": null,
            "left": null
          }
        },
        "ac7be1ff6d864d49a32614e9e76968d3": {
          "model_module": "@jupyter-widgets/controls",
          "model_name": "IntSliderModel",
          "model_module_version": "1.5.0",
          "state": {
            "_view_name": "IntSliderView",
            "style": "IPY_MODEL_7dbc57d5e8ad44c383aa8458759c82cd",
            "_dom_classes": [],
            "description": "a",
            "step": 1,
            "_model_name": "IntSliderModel",
            "orientation": "horizontal",
            "max": 5,
            "_view_module": "@jupyter-widgets/controls",
            "_model_module_version": "1.5.0",
            "value": 0,
            "_view_count": null,
            "disabled": false,
            "_view_module_version": "1.5.0",
            "min": 0,
            "continuous_update": true,
            "readout_format": "d",
            "description_tooltip": null,
            "readout": true,
            "_model_module": "@jupyter-widgets/controls",
            "layout": "IPY_MODEL_1b08248f507c4023820eb1dcc1becb54"
          }
        },
        "d0aa30086c9c4ec3b839c8b0aa2f9356": {
          "model_module": "@jupyter-widgets/controls",
          "model_name": "IntSliderModel",
          "model_module_version": "1.5.0",
          "state": {
            "_view_name": "IntSliderView",
            "style": "IPY_MODEL_22e0e7e1d0354bddaf2a448751919c38",
            "_dom_classes": [],
            "description": "b",
            "step": 1,
            "_model_name": "IntSliderModel",
            "orientation": "horizontal",
            "max": 20,
            "_view_module": "@jupyter-widgets/controls",
            "_model_module_version": "1.5.0",
            "value": 10,
            "_view_count": null,
            "disabled": false,
            "_view_module_version": "1.5.0",
            "min": 5,
            "continuous_update": true,
            "readout_format": "d",
            "description_tooltip": null,
            "readout": true,
            "_model_module": "@jupyter-widgets/controls",
            "layout": "IPY_MODEL_ea09755fb2ad4a189dcb61b72dc13765"
          }
        },
        "b2a24e93c0914feea2f747739b23c3e1": {
          "model_module": "@jupyter-widgets/controls",
          "model_name": "ButtonModel",
          "model_module_version": "1.5.0",
          "state": {
            "_view_name": "ButtonView",
            "style": "IPY_MODEL_0028fc8dc011451b9cbe58b7a3c2ed98",
            "_dom_classes": [],
            "description": "Run Interact",
            "_model_name": "ButtonModel",
            "button_style": "",
            "_view_module": "@jupyter-widgets/controls",
            "_model_module_version": "1.5.0",
            "tooltip": "",
            "_view_count": null,
            "disabled": false,
            "_view_module_version": "1.5.0",
            "layout": "IPY_MODEL_d467b201006e42aaa7f842033186f37c",
            "_model_module": "@jupyter-widgets/controls",
            "icon": ""
          }
        },
        "5b8b4e4c8c9d4e5aa5ef8c1b823f0482": {
          "model_module": "@jupyter-widgets/output",
          "model_name": "OutputModel",
          "model_module_version": "1.0.0",
          "state": {
            "_view_name": "OutputView",
            "msg_id": "",
            "_dom_classes": [],
            "_model_name": "OutputModel",
            "outputs": [],
            "_view_module": "@jupyter-widgets/output",
            "_model_module_version": "1.0.0",
            "_view_count": null,
            "_view_module_version": "1.0.0",
            "layout": "IPY_MODEL_df49d105d7864a2285eef4602ed50eb0",
            "_model_module": "@jupyter-widgets/output"
          }
        },
        "7dbc57d5e8ad44c383aa8458759c82cd": {
          "model_module": "@jupyter-widgets/controls",
          "model_name": "SliderStyleModel",
          "model_module_version": "1.5.0",
          "state": {
            "_view_name": "StyleView",
            "handle_color": null,
            "_model_name": "SliderStyleModel",
            "description_width": "",
            "_view_module": "@jupyter-widgets/base",
            "_model_module_version": "1.5.0",
            "_view_count": null,
            "_view_module_version": "1.2.0",
            "_model_module": "@jupyter-widgets/controls"
          }
        },
        "1b08248f507c4023820eb1dcc1becb54": {
          "model_module": "@jupyter-widgets/base",
          "model_name": "LayoutModel",
          "model_module_version": "1.2.0",
          "state": {
            "_view_name": "LayoutView",
            "grid_template_rows": null,
            "right": null,
            "justify_content": null,
            "_view_module": "@jupyter-widgets/base",
            "overflow": null,
            "_model_module_version": "1.2.0",
            "_view_count": null,
            "flex_flow": null,
            "width": null,
            "min_width": null,
            "border": null,
            "align_items": null,
            "bottom": null,
            "_model_module": "@jupyter-widgets/base",
            "top": null,
            "grid_column": null,
            "overflow_y": null,
            "overflow_x": null,
            "grid_auto_flow": null,
            "grid_area": null,
            "grid_template_columns": null,
            "flex": null,
            "_model_name": "LayoutModel",
            "justify_items": null,
            "grid_row": null,
            "max_height": null,
            "align_content": null,
            "visibility": null,
            "align_self": null,
            "height": null,
            "min_height": null,
            "padding": null,
            "grid_auto_rows": null,
            "grid_gap": null,
            "max_width": null,
            "order": null,
            "_view_module_version": "1.2.0",
            "grid_template_areas": null,
            "object_position": null,
            "object_fit": null,
            "grid_auto_columns": null,
            "margin": null,
            "display": null,
            "left": null
          }
        },
        "22e0e7e1d0354bddaf2a448751919c38": {
          "model_module": "@jupyter-widgets/controls",
          "model_name": "SliderStyleModel",
          "model_module_version": "1.5.0",
          "state": {
            "_view_name": "StyleView",
            "handle_color": null,
            "_model_name": "SliderStyleModel",
            "description_width": "",
            "_view_module": "@jupyter-widgets/base",
            "_model_module_version": "1.5.0",
            "_view_count": null,
            "_view_module_version": "1.2.0",
            "_model_module": "@jupyter-widgets/controls"
          }
        },
        "ea09755fb2ad4a189dcb61b72dc13765": {
          "model_module": "@jupyter-widgets/base",
          "model_name": "LayoutModel",
          "model_module_version": "1.2.0",
          "state": {
            "_view_name": "LayoutView",
            "grid_template_rows": null,
            "right": null,
            "justify_content": null,
            "_view_module": "@jupyter-widgets/base",
            "overflow": null,
            "_model_module_version": "1.2.0",
            "_view_count": null,
            "flex_flow": null,
            "width": null,
            "min_width": null,
            "border": null,
            "align_items": null,
            "bottom": null,
            "_model_module": "@jupyter-widgets/base",
            "top": null,
            "grid_column": null,
            "overflow_y": null,
            "overflow_x": null,
            "grid_auto_flow": null,
            "grid_area": null,
            "grid_template_columns": null,
            "flex": null,
            "_model_name": "LayoutModel",
            "justify_items": null,
            "grid_row": null,
            "max_height": null,
            "align_content": null,
            "visibility": null,
            "align_self": null,
            "height": null,
            "min_height": null,
            "padding": null,
            "grid_auto_rows": null,
            "grid_gap": null,
            "max_width": null,
            "order": null,
            "_view_module_version": "1.2.0",
            "grid_template_areas": null,
            "object_position": null,
            "object_fit": null,
            "grid_auto_columns": null,
            "margin": null,
            "display": null,
            "left": null
          }
        },
        "0028fc8dc011451b9cbe58b7a3c2ed98": {
          "model_module": "@jupyter-widgets/controls",
          "model_name": "ButtonStyleModel",
          "model_module_version": "1.5.0",
          "state": {
            "_view_name": "StyleView",
            "_model_name": "ButtonStyleModel",
            "_view_module": "@jupyter-widgets/base",
            "_model_module_version": "1.5.0",
            "_view_count": null,
            "button_color": null,
            "font_weight": "",
            "_view_module_version": "1.2.0",
            "_model_module": "@jupyter-widgets/controls"
          }
        },
        "d467b201006e42aaa7f842033186f37c": {
          "model_module": "@jupyter-widgets/base",
          "model_name": "LayoutModel",
          "model_module_version": "1.2.0",
          "state": {
            "_view_name": "LayoutView",
            "grid_template_rows": null,
            "right": null,
            "justify_content": null,
            "_view_module": "@jupyter-widgets/base",
            "overflow": null,
            "_model_module_version": "1.2.0",
            "_view_count": null,
            "flex_flow": null,
            "width": null,
            "min_width": null,
            "border": null,
            "align_items": null,
            "bottom": null,
            "_model_module": "@jupyter-widgets/base",
            "top": null,
            "grid_column": null,
            "overflow_y": null,
            "overflow_x": null,
            "grid_auto_flow": null,
            "grid_area": null,
            "grid_template_columns": null,
            "flex": null,
            "_model_name": "LayoutModel",
            "justify_items": null,
            "grid_row": null,
            "max_height": null,
            "align_content": null,
            "visibility": null,
            "align_self": null,
            "height": null,
            "min_height": null,
            "padding": null,
            "grid_auto_rows": null,
            "grid_gap": null,
            "max_width": null,
            "order": null,
            "_view_module_version": "1.2.0",
            "grid_template_areas": null,
            "object_position": null,
            "object_fit": null,
            "grid_auto_columns": null,
            "margin": null,
            "display": null,
            "left": null
          }
        },
        "df49d105d7864a2285eef4602ed50eb0": {
          "model_module": "@jupyter-widgets/base",
          "model_name": "LayoutModel",
          "model_module_version": "1.2.0",
          "state": {
            "_view_name": "LayoutView",
            "grid_template_rows": null,
            "right": null,
            "justify_content": null,
            "_view_module": "@jupyter-widgets/base",
            "overflow": null,
            "_model_module_version": "1.2.0",
            "_view_count": null,
            "flex_flow": null,
            "width": null,
            "min_width": null,
            "border": null,
            "align_items": null,
            "bottom": null,
            "_model_module": "@jupyter-widgets/base",
            "top": null,
            "grid_column": null,
            "overflow_y": null,
            "overflow_x": null,
            "grid_auto_flow": null,
            "grid_area": null,
            "grid_template_columns": null,
            "flex": null,
            "_model_name": "LayoutModel",
            "justify_items": null,
            "grid_row": null,
            "max_height": null,
            "align_content": null,
            "visibility": null,
            "align_self": null,
            "height": null,
            "min_height": null,
            "padding": null,
            "grid_auto_rows": null,
            "grid_gap": null,
            "max_width": null,
            "order": null,
            "_view_module_version": "1.2.0",
            "grid_template_areas": null,
            "object_position": null,
            "object_fit": null,
            "grid_auto_columns": null,
            "margin": null,
            "display": null,
            "left": null
          }
        },
        "7242a5c557d64837bc58de7b673eda64": {
          "model_module": "@jupyter-widgets/controls",
          "model_name": "VBoxModel",
          "model_module_version": "1.5.0",
          "state": {
            "_view_name": "VBoxView",
            "_dom_classes": [
              "widget-interact"
            ],
            "_model_name": "VBoxModel",
            "_view_module": "@jupyter-widgets/controls",
            "_model_module_version": "1.5.0",
            "_view_count": null,
            "_view_module_version": "1.5.0",
            "box_style": "",
            "layout": "IPY_MODEL_e6e8c97e12f241e7837faa069ddb6720",
            "_model_module": "@jupyter-widgets/controls",
            "children": [
              "IPY_MODEL_8584d60bc1f145bc968cae58411417fb",
              "IPY_MODEL_535182c108e5458aa6f4c8fd3eeb52b8",
              "IPY_MODEL_844cb9708b994982b9f79192a53eb78c"
            ]
          }
        },
        "e6e8c97e12f241e7837faa069ddb6720": {
          "model_module": "@jupyter-widgets/base",
          "model_name": "LayoutModel",
          "model_module_version": "1.2.0",
          "state": {
            "_view_name": "LayoutView",
            "grid_template_rows": null,
            "right": null,
            "justify_content": null,
            "_view_module": "@jupyter-widgets/base",
            "overflow": null,
            "_model_module_version": "1.2.0",
            "_view_count": null,
            "flex_flow": null,
            "width": null,
            "min_width": null,
            "border": null,
            "align_items": null,
            "bottom": null,
            "_model_module": "@jupyter-widgets/base",
            "top": null,
            "grid_column": null,
            "overflow_y": null,
            "overflow_x": null,
            "grid_auto_flow": null,
            "grid_area": null,
            "grid_template_columns": null,
            "flex": null,
            "_model_name": "LayoutModel",
            "justify_items": null,
            "grid_row": null,
            "max_height": null,
            "align_content": null,
            "visibility": null,
            "align_self": null,
            "height": null,
            "min_height": null,
            "padding": null,
            "grid_auto_rows": null,
            "grid_gap": null,
            "max_width": null,
            "order": null,
            "_view_module_version": "1.2.0",
            "grid_template_areas": null,
            "object_position": null,
            "object_fit": null,
            "grid_auto_columns": null,
            "margin": null,
            "display": null,
            "left": null
          }
        },
        "8584d60bc1f145bc968cae58411417fb": {
          "model_module": "@jupyter-widgets/controls",
          "model_name": "IntSliderModel",
          "model_module_version": "1.5.0",
          "state": {
            "_view_name": "IntSliderView",
            "style": "IPY_MODEL_b590269dd0614aa7bdafccb65af60511",
            "_dom_classes": [],
            "description": "tempo",
            "step": 1,
            "_model_name": "IntSliderModel",
            "orientation": "horizontal",
            "max": 20,
            "_view_module": "@jupyter-widgets/controls",
            "_model_module_version": "1.5.0",
            "value": 10,
            "_view_count": null,
            "disabled": false,
            "_view_module_version": "1.5.0",
            "min": 1,
            "continuous_update": true,
            "readout_format": "d",
            "description_tooltip": null,
            "readout": true,
            "_model_module": "@jupyter-widgets/controls",
            "layout": "IPY_MODEL_1da88588c303429e89abf7bb6107e930"
          }
        },
        "535182c108e5458aa6f4c8fd3eeb52b8": {
          "model_module": "@jupyter-widgets/controls",
          "model_name": "ButtonModel",
          "model_module_version": "1.5.0",
          "state": {
            "_view_name": "ButtonView",
            "style": "IPY_MODEL_2eda987cd9a14845b0920f3a83f71979",
            "_dom_classes": [],
            "description": "Run Interact",
            "_model_name": "ButtonModel",
            "button_style": "",
            "_view_module": "@jupyter-widgets/controls",
            "_model_module_version": "1.5.0",
            "tooltip": "",
            "_view_count": null,
            "disabled": false,
            "_view_module_version": "1.5.0",
            "layout": "IPY_MODEL_fc5079ec31e34d93b1e69f82a7c9de03",
            "_model_module": "@jupyter-widgets/controls",
            "icon": ""
          }
        },
        "844cb9708b994982b9f79192a53eb78c": {
          "model_module": "@jupyter-widgets/output",
          "model_name": "OutputModel",
          "model_module_version": "1.0.0",
          "state": {
            "_view_name": "OutputView",
            "msg_id": "",
            "_dom_classes": [],
            "_model_name": "OutputModel",
            "outputs": [
              {
                "output_type": "display_data",
                "data": {
                  "image/png": "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\n",
                  "text/plain": "<Figure size 432x288 with 1 Axes>"
                },
                "metadata": {
                  "needs_background": "light"
                }
              }
            ],
            "_view_module": "@jupyter-widgets/output",
            "_model_module_version": "1.0.0",
            "_view_count": null,
            "_view_module_version": "1.0.0",
            "layout": "IPY_MODEL_e893641ee33548df9359bddb34c7a3ec",
            "_model_module": "@jupyter-widgets/output"
          }
        },
        "b590269dd0614aa7bdafccb65af60511": {
          "model_module": "@jupyter-widgets/controls",
          "model_name": "SliderStyleModel",
          "model_module_version": "1.5.0",
          "state": {
            "_view_name": "StyleView",
            "handle_color": null,
            "_model_name": "SliderStyleModel",
            "description_width": "",
            "_view_module": "@jupyter-widgets/base",
            "_model_module_version": "1.5.0",
            "_view_count": null,
            "_view_module_version": "1.2.0",
            "_model_module": "@jupyter-widgets/controls"
          }
        },
        "1da88588c303429e89abf7bb6107e930": {
          "model_module": "@jupyter-widgets/base",
          "model_name": "LayoutModel",
          "model_module_version": "1.2.0",
          "state": {
            "_view_name": "LayoutView",
            "grid_template_rows": null,
            "right": null,
            "justify_content": null,
            "_view_module": "@jupyter-widgets/base",
            "overflow": null,
            "_model_module_version": "1.2.0",
            "_view_count": null,
            "flex_flow": null,
            "width": null,
            "min_width": null,
            "border": null,
            "align_items": null,
            "bottom": null,
            "_model_module": "@jupyter-widgets/base",
            "top": null,
            "grid_column": null,
            "overflow_y": null,
            "overflow_x": null,
            "grid_auto_flow": null,
            "grid_area": null,
            "grid_template_columns": null,
            "flex": null,
            "_model_name": "LayoutModel",
            "justify_items": null,
            "grid_row": null,
            "max_height": null,
            "align_content": null,
            "visibility": null,
            "align_self": null,
            "height": null,
            "min_height": null,
            "padding": null,
            "grid_auto_rows": null,
            "grid_gap": null,
            "max_width": null,
            "order": null,
            "_view_module_version": "1.2.0",
            "grid_template_areas": null,
            "object_position": null,
            "object_fit": null,
            "grid_auto_columns": null,
            "margin": null,
            "display": null,
            "left": null
          }
        },
        "2eda987cd9a14845b0920f3a83f71979": {
          "model_module": "@jupyter-widgets/controls",
          "model_name": "ButtonStyleModel",
          "model_module_version": "1.5.0",
          "state": {
            "_view_name": "StyleView",
            "_model_name": "ButtonStyleModel",
            "_view_module": "@jupyter-widgets/base",
            "_model_module_version": "1.5.0",
            "_view_count": null,
            "button_color": null,
            "font_weight": "",
            "_view_module_version": "1.2.0",
            "_model_module": "@jupyter-widgets/controls"
          }
        },
        "fc5079ec31e34d93b1e69f82a7c9de03": {
          "model_module": "@jupyter-widgets/base",
          "model_name": "LayoutModel",
          "model_module_version": "1.2.0",
          "state": {
            "_view_name": "LayoutView",
            "grid_template_rows": null,
            "right": null,
            "justify_content": null,
            "_view_module": "@jupyter-widgets/base",
            "overflow": null,
            "_model_module_version": "1.2.0",
            "_view_count": null,
            "flex_flow": null,
            "width": null,
            "min_width": null,
            "border": null,
            "align_items": null,
            "bottom": null,
            "_model_module": "@jupyter-widgets/base",
            "top": null,
            "grid_column": null,
            "overflow_y": null,
            "overflow_x": null,
            "grid_auto_flow": null,
            "grid_area": null,
            "grid_template_columns": null,
            "flex": null,
            "_model_name": "LayoutModel",
            "justify_items": null,
            "grid_row": null,
            "max_height": null,
            "align_content": null,
            "visibility": null,
            "align_self": null,
            "height": null,
            "min_height": null,
            "padding": null,
            "grid_auto_rows": null,
            "grid_gap": null,
            "max_width": null,
            "order": null,
            "_view_module_version": "1.2.0",
            "grid_template_areas": null,
            "object_position": null,
            "object_fit": null,
            "grid_auto_columns": null,
            "margin": null,
            "display": null,
            "left": null
          }
        },
        "e893641ee33548df9359bddb34c7a3ec": {
          "model_module": "@jupyter-widgets/base",
          "model_name": "LayoutModel",
          "model_module_version": "1.2.0",
          "state": {
            "_view_name": "LayoutView",
            "grid_template_rows": null,
            "right": null,
            "justify_content": null,
            "_view_module": "@jupyter-widgets/base",
            "overflow": null,
            "_model_module_version": "1.2.0",
            "_view_count": null,
            "flex_flow": null,
            "width": null,
            "min_width": null,
            "border": null,
            "align_items": null,
            "bottom": null,
            "_model_module": "@jupyter-widgets/base",
            "top": null,
            "grid_column": null,
            "overflow_y": null,
            "overflow_x": null,
            "grid_auto_flow": null,
            "grid_area": null,
            "grid_template_columns": null,
            "flex": null,
            "_model_name": "LayoutModel",
            "justify_items": null,
            "grid_row": null,
            "max_height": null,
            "align_content": null,
            "visibility": null,
            "align_self": null,
            "height": null,
            "min_height": null,
            "padding": null,
            "grid_auto_rows": null,
            "grid_gap": null,
            "max_width": null,
            "order": null,
            "_view_module_version": "1.2.0",
            "grid_template_areas": null,
            "object_position": null,
            "object_fit": null,
            "grid_auto_columns": null,
            "margin": null,
            "display": null,
            "left": null
          }
        },
        "0c842089949c41fabd41b296d3d35002": {
          "model_module": "@jupyter-widgets/controls",
          "model_name": "VBoxModel",
          "model_module_version": "1.5.0",
          "state": {
            "_view_name": "VBoxView",
            "_dom_classes": [
              "widget-interact"
            ],
            "_model_name": "VBoxModel",
            "_view_module": "@jupyter-widgets/controls",
            "_model_module_version": "1.5.0",
            "_view_count": null,
            "_view_module_version": "1.5.0",
            "box_style": "",
            "layout": "IPY_MODEL_41ed63eb700a4ccab9ab2f2ce788a8d1",
            "_model_module": "@jupyter-widgets/controls",
            "children": [
              "IPY_MODEL_2ca4172ec3b14862a58469d9de23363e",
              "IPY_MODEL_a226edd6c4c149f58722b55697a11a67",
              "IPY_MODEL_d859a7cea3e4418ba95955a52b106169"
            ]
          }
        },
        "41ed63eb700a4ccab9ab2f2ce788a8d1": {
          "model_module": "@jupyter-widgets/base",
          "model_name": "LayoutModel",
          "model_module_version": "1.2.0",
          "state": {
            "_view_name": "LayoutView",
            "grid_template_rows": null,
            "right": null,
            "justify_content": null,
            "_view_module": "@jupyter-widgets/base",
            "overflow": null,
            "_model_module_version": "1.2.0",
            "_view_count": null,
            "flex_flow": null,
            "width": null,
            "min_width": null,
            "border": null,
            "align_items": null,
            "bottom": null,
            "_model_module": "@jupyter-widgets/base",
            "top": null,
            "grid_column": null,
            "overflow_y": null,
            "overflow_x": null,
            "grid_auto_flow": null,
            "grid_area": null,
            "grid_template_columns": null,
            "flex": null,
            "_model_name": "LayoutModel",
            "justify_items": null,
            "grid_row": null,
            "max_height": null,
            "align_content": null,
            "visibility": null,
            "align_self": null,
            "height": null,
            "min_height": null,
            "padding": null,
            "grid_auto_rows": null,
            "grid_gap": null,
            "max_width": null,
            "order": null,
            "_view_module_version": "1.2.0",
            "grid_template_areas": null,
            "object_position": null,
            "object_fit": null,
            "grid_auto_columns": null,
            "margin": null,
            "display": null,
            "left": null
          }
        },
        "2ca4172ec3b14862a58469d9de23363e": {
          "model_module": "@jupyter-widgets/controls",
          "model_name": "IntSliderModel",
          "model_module_version": "1.5.0",
          "state": {
            "_view_name": "IntSliderView",
            "style": "IPY_MODEL_f43e206debf24bdbab09c2977f23e39e",
            "_dom_classes": [],
            "description": "tempo",
            "step": 1,
            "_model_name": "IntSliderModel",
            "orientation": "horizontal",
            "max": 20,
            "_view_module": "@jupyter-widgets/controls",
            "_model_module_version": "1.5.0",
            "value": 10,
            "_view_count": null,
            "disabled": false,
            "_view_module_version": "1.5.0",
            "min": 1,
            "continuous_update": true,
            "readout_format": "d",
            "description_tooltip": null,
            "readout": true,
            "_model_module": "@jupyter-widgets/controls",
            "layout": "IPY_MODEL_257127809dd145efa000d37e52322f6f"
          }
        },
        "a226edd6c4c149f58722b55697a11a67": {
          "model_module": "@jupyter-widgets/controls",
          "model_name": "ButtonModel",
          "model_module_version": "1.5.0",
          "state": {
            "_view_name": "ButtonView",
            "style": "IPY_MODEL_3cc278f0eba7450c9b9f2378bad604ca",
            "_dom_classes": [],
            "description": "Run Interact",
            "_model_name": "ButtonModel",
            "button_style": "",
            "_view_module": "@jupyter-widgets/controls",
            "_model_module_version": "1.5.0",
            "tooltip": "",
            "_view_count": null,
            "disabled": false,
            "_view_module_version": "1.5.0",
            "layout": "IPY_MODEL_4b6ad4022ce24b1bb0804bcbb0509d01",
            "_model_module": "@jupyter-widgets/controls",
            "icon": ""
          }
        },
        "d859a7cea3e4418ba95955a52b106169": {
          "model_module": "@jupyter-widgets/output",
          "model_name": "OutputModel",
          "model_module_version": "1.0.0",
          "state": {
            "_view_name": "OutputView",
            "msg_id": "",
            "_dom_classes": [],
            "_model_name": "OutputModel",
            "outputs": [
              {
                "output_type": "display_data",
                "data": {
                  "image/png": "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\n",
                  "text/plain": "<Figure size 432x288 with 1 Axes>"
                },
                "metadata": {
                  "needs_background": "light"
                }
              }
            ],
            "_view_module": "@jupyter-widgets/output",
            "_model_module_version": "1.0.0",
            "_view_count": null,
            "_view_module_version": "1.0.0",
            "layout": "IPY_MODEL_0144acec6a9d44ffa600621ffacbabf8",
            "_model_module": "@jupyter-widgets/output"
          }
        },
        "f43e206debf24bdbab09c2977f23e39e": {
          "model_module": "@jupyter-widgets/controls",
          "model_name": "SliderStyleModel",
          "model_module_version": "1.5.0",
          "state": {
            "_view_name": "StyleView",
            "handle_color": null,
            "_model_name": "SliderStyleModel",
            "description_width": "",
            "_view_module": "@jupyter-widgets/base",
            "_model_module_version": "1.5.0",
            "_view_count": null,
            "_view_module_version": "1.2.0",
            "_model_module": "@jupyter-widgets/controls"
          }
        },
        "257127809dd145efa000d37e52322f6f": {
          "model_module": "@jupyter-widgets/base",
          "model_name": "LayoutModel",
          "model_module_version": "1.2.0",
          "state": {
            "_view_name": "LayoutView",
            "grid_template_rows": null,
            "right": null,
            "justify_content": null,
            "_view_module": "@jupyter-widgets/base",
            "overflow": null,
            "_model_module_version": "1.2.0",
            "_view_count": null,
            "flex_flow": null,
            "width": null,
            "min_width": null,
            "border": null,
            "align_items": null,
            "bottom": null,
            "_model_module": "@jupyter-widgets/base",
            "top": null,
            "grid_column": null,
            "overflow_y": null,
            "overflow_x": null,
            "grid_auto_flow": null,
            "grid_area": null,
            "grid_template_columns": null,
            "flex": null,
            "_model_name": "LayoutModel",
            "justify_items": null,
            "grid_row": null,
            "max_height": null,
            "align_content": null,
            "visibility": null,
            "align_self": null,
            "height": null,
            "min_height": null,
            "padding": null,
            "grid_auto_rows": null,
            "grid_gap": null,
            "max_width": null,
            "order": null,
            "_view_module_version": "1.2.0",
            "grid_template_areas": null,
            "object_position": null,
            "object_fit": null,
            "grid_auto_columns": null,
            "margin": null,
            "display": null,
            "left": null
          }
        },
        "3cc278f0eba7450c9b9f2378bad604ca": {
          "model_module": "@jupyter-widgets/controls",
          "model_name": "ButtonStyleModel",
          "model_module_version": "1.5.0",
          "state": {
            "_view_name": "StyleView",
            "_model_name": "ButtonStyleModel",
            "_view_module": "@jupyter-widgets/base",
            "_model_module_version": "1.5.0",
            "_view_count": null,
            "button_color": null,
            "font_weight": "",
            "_view_module_version": "1.2.0",
            "_model_module": "@jupyter-widgets/controls"
          }
        },
        "4b6ad4022ce24b1bb0804bcbb0509d01": {
          "model_module": "@jupyter-widgets/base",
          "model_name": "LayoutModel",
          "model_module_version": "1.2.0",
          "state": {
            "_view_name": "LayoutView",
            "grid_template_rows": null,
            "right": null,
            "justify_content": null,
            "_view_module": "@jupyter-widgets/base",
            "overflow": null,
            "_model_module_version": "1.2.0",
            "_view_count": null,
            "flex_flow": null,
            "width": null,
            "min_width": null,
            "border": null,
            "align_items": null,
            "bottom": null,
            "_model_module": "@jupyter-widgets/base",
            "top": null,
            "grid_column": null,
            "overflow_y": null,
            "overflow_x": null,
            "grid_auto_flow": null,
            "grid_area": null,
            "grid_template_columns": null,
            "flex": null,
            "_model_name": "LayoutModel",
            "justify_items": null,
            "grid_row": null,
            "max_height": null,
            "align_content": null,
            "visibility": null,
            "align_self": null,
            "height": null,
            "min_height": null,
            "padding": null,
            "grid_auto_rows": null,
            "grid_gap": null,
            "max_width": null,
            "order": null,
            "_view_module_version": "1.2.0",
            "grid_template_areas": null,
            "object_position": null,
            "object_fit": null,
            "grid_auto_columns": null,
            "margin": null,
            "display": null,
            "left": null
          }
        },
        "0144acec6a9d44ffa600621ffacbabf8": {
          "model_module": "@jupyter-widgets/base",
          "model_name": "LayoutModel",
          "model_module_version": "1.2.0",
          "state": {
            "_view_name": "LayoutView",
            "grid_template_rows": null,
            "right": null,
            "justify_content": null,
            "_view_module": "@jupyter-widgets/base",
            "overflow": null,
            "_model_module_version": "1.2.0",
            "_view_count": null,
            "flex_flow": null,
            "width": null,
            "min_width": null,
            "border": null,
            "align_items": null,
            "bottom": null,
            "_model_module": "@jupyter-widgets/base",
            "top": null,
            "grid_column": null,
            "overflow_y": null,
            "overflow_x": null,
            "grid_auto_flow": null,
            "grid_area": null,
            "grid_template_columns": null,
            "flex": null,
            "_model_name": "LayoutModel",
            "justify_items": null,
            "grid_row": null,
            "max_height": null,
            "align_content": null,
            "visibility": null,
            "align_self": null,
            "height": null,
            "min_height": null,
            "padding": null,
            "grid_auto_rows": null,
            "grid_gap": null,
            "max_width": null,
            "order": null,
            "_view_module_version": "1.2.0",
            "grid_template_areas": null,
            "object_position": null,
            "object_fit": null,
            "grid_auto_columns": null,
            "margin": null,
            "display": null,
            "left": null
          }
        },
        "76a09cd00f444cf39f08d8dfd164d3d4": {
          "model_module": "@jupyter-widgets/controls",
          "model_name": "VBoxModel",
          "model_module_version": "1.5.0",
          "state": {
            "_view_name": "VBoxView",
            "_dom_classes": [
              "widget-interact"
            ],
            "_model_name": "VBoxModel",
            "_view_module": "@jupyter-widgets/controls",
            "_model_module_version": "1.5.0",
            "_view_count": null,
            "_view_module_version": "1.5.0",
            "box_style": "",
            "layout": "IPY_MODEL_7be98f73229a41df95090c5dbf0fd8a2",
            "_model_module": "@jupyter-widgets/controls",
            "children": [
              "IPY_MODEL_4d7231f2a51745cf88b5435fcab71167",
              "IPY_MODEL_167619a127e84e788086cb24bdc5d6de",
              "IPY_MODEL_4f899610f26c4b80ab11d4519a14d289"
            ]
          }
        },
        "7be98f73229a41df95090c5dbf0fd8a2": {
          "model_module": "@jupyter-widgets/base",
          "model_name": "LayoutModel",
          "model_module_version": "1.2.0",
          "state": {
            "_view_name": "LayoutView",
            "grid_template_rows": null,
            "right": null,
            "justify_content": null,
            "_view_module": "@jupyter-widgets/base",
            "overflow": null,
            "_model_module_version": "1.2.0",
            "_view_count": null,
            "flex_flow": null,
            "width": null,
            "min_width": null,
            "border": null,
            "align_items": null,
            "bottom": null,
            "_model_module": "@jupyter-widgets/base",
            "top": null,
            "grid_column": null,
            "overflow_y": null,
            "overflow_x": null,
            "grid_auto_flow": null,
            "grid_area": null,
            "grid_template_columns": null,
            "flex": null,
            "_model_name": "LayoutModel",
            "justify_items": null,
            "grid_row": null,
            "max_height": null,
            "align_content": null,
            "visibility": null,
            "align_self": null,
            "height": null,
            "min_height": null,
            "padding": null,
            "grid_auto_rows": null,
            "grid_gap": null,
            "max_width": null,
            "order": null,
            "_view_module_version": "1.2.0",
            "grid_template_areas": null,
            "object_position": null,
            "object_fit": null,
            "grid_auto_columns": null,
            "margin": null,
            "display": null,
            "left": null
          }
        },
        "4d7231f2a51745cf88b5435fcab71167": {
          "model_module": "@jupyter-widgets/controls",
          "model_name": "IntSliderModel",
          "model_module_version": "1.5.0",
          "state": {
            "_view_name": "IntSliderView",
            "style": "IPY_MODEL_85596ee26417412a9cb2547e52557d16",
            "_dom_classes": [],
            "description": "tempo",
            "step": 1,
            "_model_name": "IntSliderModel",
            "orientation": "horizontal",
            "max": 20,
            "_view_module": "@jupyter-widgets/controls",
            "_model_module_version": "1.5.0",
            "value": 10,
            "_view_count": null,
            "disabled": false,
            "_view_module_version": "1.5.0",
            "min": 0,
            "continuous_update": true,
            "readout_format": "d",
            "description_tooltip": null,
            "readout": true,
            "_model_module": "@jupyter-widgets/controls",
            "layout": "IPY_MODEL_cb9231a67ea24220b6d8400dc082e2ac"
          }
        },
        "167619a127e84e788086cb24bdc5d6de": {
          "model_module": "@jupyter-widgets/controls",
          "model_name": "ButtonModel",
          "model_module_version": "1.5.0",
          "state": {
            "_view_name": "ButtonView",
            "style": "IPY_MODEL_cc8a648c73a84583892df021bce7bb93",
            "_dom_classes": [],
            "description": "Run Interact",
            "_model_name": "ButtonModel",
            "button_style": "",
            "_view_module": "@jupyter-widgets/controls",
            "_model_module_version": "1.5.0",
            "tooltip": "",
            "_view_count": null,
            "disabled": false,
            "_view_module_version": "1.5.0",
            "layout": "IPY_MODEL_e443cec7f67a4c999c03aefd54c8f023",
            "_model_module": "@jupyter-widgets/controls",
            "icon": ""
          }
        },
        "4f899610f26c4b80ab11d4519a14d289": {
          "model_module": "@jupyter-widgets/output",
          "model_name": "OutputModel",
          "model_module_version": "1.0.0",
          "state": {
            "_view_name": "OutputView",
            "msg_id": "",
            "_dom_classes": [],
            "_model_name": "OutputModel",
            "outputs": [
              {
                "output_type": "display_data",
                "data": {
                  "image/png": "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\n",
                  "text/plain": "<Figure size 432x288 with 1 Axes>"
                },
                "metadata": {
                  "needs_background": "light"
                }
              }
            ],
            "_view_module": "@jupyter-widgets/output",
            "_model_module_version": "1.0.0",
            "_view_count": null,
            "_view_module_version": "1.0.0",
            "layout": "IPY_MODEL_52c04201e768488baa90548ddc1dbf53",
            "_model_module": "@jupyter-widgets/output"
          }
        },
        "85596ee26417412a9cb2547e52557d16": {
          "model_module": "@jupyter-widgets/controls",
          "model_name": "SliderStyleModel",
          "model_module_version": "1.5.0",
          "state": {
            "_view_name": "StyleView",
            "handle_color": null,
            "_model_name": "SliderStyleModel",
            "description_width": "",
            "_view_module": "@jupyter-widgets/base",
            "_model_module_version": "1.5.0",
            "_view_count": null,
            "_view_module_version": "1.2.0",
            "_model_module": "@jupyter-widgets/controls"
          }
        },
        "cb9231a67ea24220b6d8400dc082e2ac": {
          "model_module": "@jupyter-widgets/base",
          "model_name": "LayoutModel",
          "model_module_version": "1.2.0",
          "state": {
            "_view_name": "LayoutView",
            "grid_template_rows": null,
            "right": null,
            "justify_content": null,
            "_view_module": "@jupyter-widgets/base",
            "overflow": null,
            "_model_module_version": "1.2.0",
            "_view_count": null,
            "flex_flow": null,
            "width": null,
            "min_width": null,
            "border": null,
            "align_items": null,
            "bottom": null,
            "_model_module": "@jupyter-widgets/base",
            "top": null,
            "grid_column": null,
            "overflow_y": null,
            "overflow_x": null,
            "grid_auto_flow": null,
            "grid_area": null,
            "grid_template_columns": null,
            "flex": null,
            "_model_name": "LayoutModel",
            "justify_items": null,
            "grid_row": null,
            "max_height": null,
            "align_content": null,
            "visibility": null,
            "align_self": null,
            "height": null,
            "min_height": null,
            "padding": null,
            "grid_auto_rows": null,
            "grid_gap": null,
            "max_width": null,
            "order": null,
            "_view_module_version": "1.2.0",
            "grid_template_areas": null,
            "object_position": null,
            "object_fit": null,
            "grid_auto_columns": null,
            "margin": null,
            "display": null,
            "left": null
          }
        },
        "cc8a648c73a84583892df021bce7bb93": {
          "model_module": "@jupyter-widgets/controls",
          "model_name": "ButtonStyleModel",
          "model_module_version": "1.5.0",
          "state": {
            "_view_name": "StyleView",
            "_model_name": "ButtonStyleModel",
            "_view_module": "@jupyter-widgets/base",
            "_model_module_version": "1.5.0",
            "_view_count": null,
            "button_color": null,
            "font_weight": "",
            "_view_module_version": "1.2.0",
            "_model_module": "@jupyter-widgets/controls"
          }
        },
        "e443cec7f67a4c999c03aefd54c8f023": {
          "model_module": "@jupyter-widgets/base",
          "model_name": "LayoutModel",
          "model_module_version": "1.2.0",
          "state": {
            "_view_name": "LayoutView",
            "grid_template_rows": null,
            "right": null,
            "justify_content": null,
            "_view_module": "@jupyter-widgets/base",
            "overflow": null,
            "_model_module_version": "1.2.0",
            "_view_count": null,
            "flex_flow": null,
            "width": null,
            "min_width": null,
            "border": null,
            "align_items": null,
            "bottom": null,
            "_model_module": "@jupyter-widgets/base",
            "top": null,
            "grid_column": null,
            "overflow_y": null,
            "overflow_x": null,
            "grid_auto_flow": null,
            "grid_area": null,
            "grid_template_columns": null,
            "flex": null,
            "_model_name": "LayoutModel",
            "justify_items": null,
            "grid_row": null,
            "max_height": null,
            "align_content": null,
            "visibility": null,
            "align_self": null,
            "height": null,
            "min_height": null,
            "padding": null,
            "grid_auto_rows": null,
            "grid_gap": null,
            "max_width": null,
            "order": null,
            "_view_module_version": "1.2.0",
            "grid_template_areas": null,
            "object_position": null,
            "object_fit": null,
            "grid_auto_columns": null,
            "margin": null,
            "display": null,
            "left": null
          }
        },
        "52c04201e768488baa90548ddc1dbf53": {
          "model_module": "@jupyter-widgets/base",
          "model_name": "LayoutModel",
          "model_module_version": "1.2.0",
          "state": {
            "_view_name": "LayoutView",
            "grid_template_rows": null,
            "right": null,
            "justify_content": null,
            "_view_module": "@jupyter-widgets/base",
            "overflow": null,
            "_model_module_version": "1.2.0",
            "_view_count": null,
            "flex_flow": null,
            "width": null,
            "min_width": null,
            "border": null,
            "align_items": null,
            "bottom": null,
            "_model_module": "@jupyter-widgets/base",
            "top": null,
            "grid_column": null,
            "overflow_y": null,
            "overflow_x": null,
            "grid_auto_flow": null,
            "grid_area": null,
            "grid_template_columns": null,
            "flex": null,
            "_model_name": "LayoutModel",
            "justify_items": null,
            "grid_row": null,
            "max_height": null,
            "align_content": null,
            "visibility": null,
            "align_self": null,
            "height": null,
            "min_height": null,
            "padding": null,
            "grid_auto_rows": null,
            "grid_gap": null,
            "max_width": null,
            "order": null,
            "_view_module_version": "1.2.0",
            "grid_template_areas": null,
            "object_position": null,
            "object_fit": null,
            "grid_auto_columns": null,
            "margin": null,
            "display": null,
            "left": null
          }
        }
      }
    }
  },
  "cells": [
    {
      "cell_type": "markdown",
      "metadata": {
        "id": "view-in-github",
        "colab_type": "text"
      },
      "source": [
        "<a href=\"https://colab.research.google.com/github/MontiMic/Tesi/blob/riordinato/Untitled1.ipynb\" target=\"_parent\"><img src=\"https://colab.research.google.com/assets/colab-badge.svg\" alt=\"Open In Colab\"/></a>"
      ]
    },
    {
      "cell_type": "markdown",
      "source": [
        "# Introduzione\n",
        "La seguente presentazione si propone di semplificare l'apprendimento di alcuni principi del calcolo probabilistico offrendo la possibilità di vedere applicare le leggi su grandi numeri e confrontando i risultati ottenuti con quelli attesi dalla teoria."
      ],
      "metadata": {
        "id": "yyLelI9l5lbc"
      }
    },
    {
      "cell_type": "markdown",
      "source": [
        "Di seguito includiamo le librerie che verranno utilizzate nel corso della presentazione:\n",
        "\n",
        "* **numpy** per la manipolazione dei dati\n",
        "\n",
        "* **interact** per rendere la presentazione interattiva offrendo la possibilità allo studente di scegliere gli input\n",
        "\n",
        "* **pyplot** per la rappresentazione grafica dei risultati"
      ],
      "metadata": {
        "id": "35yCw13F7Yam"
      }
    },
    {
      "cell_type": "code",
      "execution_count": 3,
      "metadata": {
        "id": "TAxUPZupC-qR"
      },
      "outputs": [],
      "source": [
        "import numpy as np\n",
        "from ipywidgets import interact, interact_manual\n",
        "from matplotlib import pyplot as plt\n",
        "import math\n",
        "import seaborn as sns\n",
        "import random"
      ]
    },
    {
      "cell_type": "markdown",
      "source": [
        "##Elementi di python"
      ],
      "metadata": {
        "id": "XN5Whz1Y9fiZ"
      }
    },
    {
      "cell_type": "markdown",
      "source": [
        "Questa sezione è rivolta unicamente a chi non avesse ancora mai visto il python, allo scopo di mostrare alcune pratiche peculiari a Python."
      ],
      "metadata": {
        "id": "yHNFMDrk9pHX"
      }
    },
    {
      "cell_type": "markdown",
      "source": [
        "La funzione np.zeros(n) restituisce un array di zeri lungo n"
      ],
      "metadata": {
        "id": "kXZd8nfHDkHj"
      }
    },
    {
      "cell_type": "code",
      "source": [
        "np.zeros(5)"
      ],
      "metadata": {
        "colab": {
          "base_uri": "https://localhost:8080/"
        },
        "id": "Pukdrzg7-ggY",
        "outputId": "67979f3c-2436-448f-9055-63a1526bb966"
      },
      "execution_count": null,
      "outputs": [
        {
          "output_type": "execute_result",
          "data": {
            "text/plain": [
              "array([0., 0., 0., 0., 0.])"
            ]
          },
          "metadata": {},
          "execution_count": 2
        }
      ]
    },
    {
      "cell_type": "markdown",
      "source": [
        "Specificando anche il type booleano facciamo una conversione: \n",
        "\n",
        "*  Gli zeri diventano False\n",
        "\n",
        "* I valori diversi da zero diventano True"
      ],
      "metadata": {
        "id": "VyLCyWeYDvuh"
      }
    },
    {
      "cell_type": "code",
      "source": [
        "esempio = np.zeros(10, dtype=np.bool)\n",
        "print(esempio)"
      ],
      "metadata": {
        "colab": {
          "base_uri": "https://localhost:8080/"
        },
        "id": "lO-15LDEDZEP",
        "outputId": "6850a7aa-5c58-4b1f-8767-6790e779a2fe"
      },
      "execution_count": null,
      "outputs": [
        {
          "output_type": "stream",
          "name": "stdout",
          "text": [
            "[False False False False False False False False False False]\n"
          ]
        }
      ]
    },
    {
      "cell_type": "markdown",
      "source": [
        "Useremo questo tipo di struttura dati per simulare praticamente tutto, dalla roulette (True = rosso, False = nero) ad un urna di palline (quando ci basteranno 2 soli colori delle palline)"
      ],
      "metadata": {
        "id": "t-fqP7KSEIUu"
      }
    },
    {
      "cell_type": "markdown",
      "source": [
        "Questa struttura dati ci offre inol"
      ],
      "metadata": {
        "id": "YS53XnBHNuxD"
      }
    },
    {
      "cell_type": "markdown",
      "source": [
        "Per modificare un array il python ci offre uno strumento molto potente: lo slicing. Questa funzionalità permette di intervenire su un qualunque sottoinsieme dell'array se usata correttamente. A noi basta sapere che in un caso come esempio[1:5:2], stiamo intervenendo sull'array esempio, prendendo gli elementi dalla posizione 1 (inclusa) alla posizione 5 (esclusa) con passo 2:"
      ],
      "metadata": {
        "id": "OEyj-K9iEeQa"
      }
    },
    {
      "cell_type": "code",
      "source": [
        "esempio = ['a', 'b', 'c', 'd', 'e']\n",
        "esempio[1:5:2]"
      ],
      "metadata": {
        "colab": {
          "base_uri": "https://localhost:8080/"
        },
        "id": "48oF9noGF3Np",
        "outputId": "90f2e369-57b5-46fd-d006-e5635def23c9"
      },
      "execution_count": null,
      "outputs": [
        {
          "output_type": "execute_result",
          "data": {
            "text/plain": [
              "['b', 'd']"
            ]
          },
          "metadata": {},
          "execution_count": 4
        }
      ]
    },
    {
      "cell_type": "markdown",
      "source": [
        "Non specificare il primo parametro significa partire dall'elemento 0, omettere il secondo significa procedere fino all'ultimo (compreso) e non specificare il passo significa passo 1: non saltare nessun elemento."
      ],
      "metadata": {
        "id": "Rm-4oAaOGvIL"
      }
    },
    {
      "cell_type": "markdown",
      "source": [
        "La funzione range(n) restituisce un iterabile lungo n. In python è generalmente usata nel ciclo for."
      ],
      "metadata": {
        "id": "b6PzabLwIH1d"
      }
    },
    {
      "cell_type": "code",
      "source": [
        "for i in range(5):\n",
        "  print(i)"
      ],
      "metadata": {
        "colab": {
          "base_uri": "https://localhost:8080/"
        },
        "id": "fdFx5oZPIaf5",
        "outputId": "401702ff-08ba-4190-8313-3423c782a517"
      },
      "execution_count": null,
      "outputs": [
        {
          "output_type": "stream",
          "name": "stdout",
          "text": [
            "0\n",
            "1\n",
            "2\n",
            "3\n",
            "4\n"
          ]
        }
      ]
    },
    {
      "cell_type": "markdown",
      "source": [
        "##Funzioni utili"
      ],
      "metadata": {
        "id": "UdZaaBfKzjzX"
      }
    },
    {
      "cell_type": "markdown",
      "source": [
        "Quelle che seguono sono funzioni utilizzate in più test del documento, per il corretto funzionamento dei test successivi è necessario eseguire queste celle una volta."
      ],
      "metadata": {
        "id": "iZFqSjhypj_Y"
      }
    },
    {
      "cell_type": "code",
      "source": [
        "#funzione che genera una roulette simulata da un array lungo 37 di cui 18 valori contano come \"vittoria\"\n",
        "def mk_roulette():\n",
        "  ruota = np.zeros(37, dtype=np.bool)\n",
        "  ruota[1::2] = True\n",
        "  return ruota"
      ],
      "metadata": {
        "id": "4LJOZHxd810N"
      },
      "execution_count": 2,
      "outputs": []
    },
    {
      "cell_type": "code",
      "source": [
        "#funzione che simula una singola partita alla roulette (1 o più puntate uguali) e, dato il portafogli di partenza, torno il nuovo conto\n",
        "def partita(ruota, giocate, puntata, portafogli):\n",
        "  while(giocate > 0):\n",
        "      giocate = giocate - 1\n",
        "      portafogli = portafogli - puntata #la puntata la considero sempre persa, in caso di vittoria vinco il doppio della puntata\n",
        "      if(ruota[np.random.randint(0, (37))]): #estraggo un elemento casuale della roulette e verifico se è rosso\n",
        "        portafogli = portafogli + (puntata * 2)\n",
        "  return portafogli  "
      ],
      "metadata": {
        "id": "fqGFfq_CT7Tv"
      },
      "execution_count": 3,
      "outputs": []
    },
    {
      "cell_type": "code",
      "source": [
        "#funzione che simula un dado ritornando un intero compreso tra 1 e 6\n",
        "def trow():\n",
        "  return np.random.randint(1, 7)"
      ],
      "metadata": {
        "id": "O7NiHEewS99d"
      },
      "execution_count": 4,
      "outputs": []
    },
    {
      "cell_type": "code",
      "source": [
        "#funzione che ritorna un'urna contenente palline di 2 colori in quanità scelta\n",
        "def mk_urna(bianche, rosse):\n",
        "  tot = bianche + rosse\n",
        "  urna = np.zeros((tot, 1), dtype=np.bool)\n",
        "  while(rosse > 0):\n",
        "    rnd = np.random.randint(0, (tot))\n",
        "    if (not urna[rnd]):\n",
        "      urna[rnd] = True\n",
        "      rosse = rosse - 1\n",
        "  return urna"
      ],
      "metadata": {
        "id": "R06bqIr8Ii4G"
      },
      "execution_count": 5,
      "outputs": []
    },
    {
      "cell_type": "markdown",
      "source": [
        "##Interpretazione dei risultati"
      ],
      "metadata": {
        "id": "EbFr-wXap_mS"
      }
    },
    {
      "cell_type": "markdown",
      "source": [
        "I test di questo documento hanno lo scopo di mostrare che le formule viste con la teoria del calcolo probabilistico hanno un riscontro nella realtà. \n",
        "Ogni test simulerà per un numero di volte a discrezione dello studente, lo scenario descritto dall'esempio in esame. Si noti che un numero più alto di ripetizioni porterà a risultati più precisi."
      ],
      "metadata": {
        "id": "Mp5-2IqZqDex"
      }
    },
    {
      "cell_type": "code",
      "source": [
        "def moneta(lanci):\n",
        "  results = []\n",
        "  for i in range(lanci): #lanciamo la moneta tante volte quante indicate dal parametro \"lanci\"\n",
        "    results.append(np.random.randint(2))\n",
        "  #grafico\n",
        "  labels = []\n",
        "  normalized = []\n",
        "  normalized.append(round(((results.count(0) / lanci) * 100), 2)) #conto le istanze dei risultati e le normalizzo\n",
        "  normalized.append(round(100 - sum(normalized), 2)) #per evitare che per errori di arrotondamento la somma dei risultati sia 99.9%, l'ultimo risultato lo calcolo come 100 - (la somma dei precedenti)\n",
        "  for i in range(len(normalized)):\n",
        "    labels.append(str(normalized[i]) + \"%\") # aggiungo le labels (i valori riportati all'esterno del grafico)\n",
        "  plt.pie(normalized, labels=labels)\n",
        "  legenda = [\"Testa\", \"Croce\"]\n",
        "  plt.legend(legenda,loc='upper center', bbox_to_anchor=(0.5, -0.05), fancybox=True, shadow=True, ncol=5)"
      ],
      "metadata": {
        "id": "pZxUQQ-_rGuz"
      },
      "execution_count": null,
      "outputs": []
    },
    {
      "cell_type": "code",
      "source": [
        "moneta(100)"
      ],
      "metadata": {
        "id": "7rynuIn1ubs4",
        "outputId": "10c7885e-eef8-434f-e248-1ded0c1b21be",
        "colab": {
          "base_uri": "https://localhost:8080/",
          "height": 282
        }
      },
      "execution_count": null,
      "outputs": [
        {
          "output_type": "display_data",
          "data": {
            "image/png": "[encoded data removed]",
            "text/plain": [
              "<Figure size 432x288 with 1 Axes>"
            ]
          },
          "metadata": {}
        }
      ]
    },
    {
      "cell_type": "code",
      "source": [
        "moneta(10_000)"
      ],
      "metadata": {
        "id": "E6dWQdxUud7o",
        "outputId": "5d5a1f34-8bf0-4024-e1d6-a5cb234c0ca1",
        "colab": {
          "base_uri": "https://localhost:8080/",
          "height": 282
        }
      },
      "execution_count": null,
      "outputs": [
        {
          "output_type": "display_data",
          "data": {
            "image/png": "[encoded data removed]",
            "text/plain": [
              "<Figure size 432x288 with 1 Axes>"
            ]
          },
          "metadata": {}
        }
      ]
    },
    {
      "cell_type": "code",
      "source": [
        "moneta(1_000_000)"
      ],
      "metadata": {
        "id": "uNmo8_dXugoY",
        "outputId": "c5a3de60-df70-49bc-b877-5fec74654cfa",
        "colab": {
          "base_uri": "https://localhost:8080/",
          "height": 282
        }
      },
      "execution_count": null,
      "outputs": [
        {
          "output_type": "display_data",
          "data": {
            "image/png": "[encoded data removed]",
            "text/plain": [
              "<Figure size 432x288 with 1 Axes>"
            ]
          },
          "metadata": {}
        }
      ]
    },
    {
      "cell_type": "markdown",
      "source": [
        "Per un buon equilibrio tra accuratezza dei risultati e tempo di esecuzione impostiamo il numero di ripetizioni a 100 000 con la variabile \"precisione\"."
      ],
      "metadata": {
        "id": "0_jUagMkw72N"
      }
    },
    {
      "cell_type": "code",
      "source": [
        "precisione = 100_000"
      ],
      "metadata": {
        "id": "7YqOeAMoxunS"
      },
      "execution_count": 4,
      "outputs": []
    },
    {
      "cell_type": "markdown",
      "source": [
        "Si lascia allo studente la possibilità di incrementare questa variabile se desiderasse dei risultati più precisi."
      ],
      "metadata": {
        "id": "uH7_BXdBxvvq"
      }
    },
    {
      "cell_type": "markdown",
      "source": [
        "# Variabili aleatorie discrete"
      ],
      "metadata": {
        "id": "gQTrf-PK7FxE"
      }
    },
    {
      "cell_type": "markdown",
      "source": [
        "Una variabile aleatoria _X_ si dice discreta se i valori che assume sono finiti oppure numerabili.\n",
        "\n",
        "Nel caso siano numerabili molto spesso potremo pensare che siano semplicmente i numeri interi, ma non vogliamo escludere anche casi in cui abbiamo dei valori non interi."
      ],
      "metadata": {
        "id": "f7tQYrZgLgm2"
      }
    },
    {
      "cell_type": "markdown",
      "source": [
        "##Esempio 1.1 \n",
        "Faccio 3 puntate sul rosso alla roulette puntando 10 euro per volta, qual è la probabilità di vincere più di un certo valore _X_?\n",
        "\n",
        "(Le vincite possibili sono valori finiti ed è quindi una variabile discreta)"
      ],
      "metadata": {
        "id": "wO2wYqZ-DSZF"
      }
    },
    {
      "cell_type": "code",
      "source": [
        "@interact_manual(vincita=(0, 30))\n",
        "def roulette(vincita=5):\n",
        "  giocate = 3\n",
        "  puntata = 10\n",
        "  ruota = mk_roulette()\n",
        "  count = 0\n",
        "  for i in range(precisione):\n",
        "    portafogli = giocate * puntata\n",
        "    portafogli = partita(ruota, giocate, puntata, portafogli) #il portafogli viene aggiornato dopo aver simulato una partita\n",
        "    if((portafogli - 30) >= vincita): #se ho finito le 3 puntate con una vincita maggiore o uguale a quella sperata la aggiungo al conteggio\n",
        "      count = count + 1\n",
        "  return round(count / precisione, 3)"
      ],
      "metadata": {
        "colab": {
          "base_uri": "https://localhost:8080/",
          "height": 81,
          "referenced_widgets": [
            "723a9f89daef49f186167039d39d7fe8",
            "1e20eaaa98064d1ea16477d5817607f2",
            "facb9735abe14dc288003f29da414376",
            "1c603d269ae34fd78c4fd38dc3f9cfae",
            "e6355b66c36c4843acd20bc6595dfad8",
            "b166e3b8721440b5ba9adbceff66e447",
            "061510947c07499ca83a675e3d8671a0",
            "f648a0d0d7e54d859677660d9c3d6047",
            "9d8484fbe4a54b2db2b3713deccfcefd",
            "703c1ea2e6154beb9df177a1ca0cdc51"
          ]
        },
        "id": "w2ugmhMy_cfa",
        "outputId": "2603ec20-f8c5-4f05-b363-39a570996e3e"
      },
      "execution_count": null,
      "outputs": [
        {
          "output_type": "display_data",
          "data": {
            "application/vnd.jupyter.widget-view+json": {
              "model_id": "723a9f89daef49f186167039d39d7fe8",
              "version_minor": 0,
              "version_major": 2
            },
            "text/plain": [
              "interactive(children=(IntSlider(value=5, description='vincita', max=30), Button(description='Run Interact', st…"
            ]
          },
          "metadata": {}
        }
      ]
    },
    {
      "cell_type": "markdown",
      "source": [
        "##Esempio 1.2\n",
        "Dati il numero di puntate ed i soldi scommessi ogni volta, quanto mi dovrei aspettare di aver vinto alla fine? (risultato in euro)"
      ],
      "metadata": {
        "id": "tTOcRD2kD_zf"
      }
    },
    {
      "cell_type": "code",
      "source": [
        "@interact_manual(giocate=(1, 10), puntata=(5, 100, 5))\n",
        "def roulette(giocate = 3, puntata = 10):\n",
        "  portafogli = giocate * puntata * precisione\n",
        "  ruota = mk_roulette()\n",
        "  for i in range(precisione):\n",
        "    portafogli = partita(ruota, giocate, puntata, portafogli)\n",
        "  portafogli = portafogli / precisione\n",
        "  return round(portafogli - (giocate * puntata), 2)"
      ],
      "metadata": {
        "colab": {
          "base_uri": "https://localhost:8080/",
          "height": 113,
          "referenced_widgets": [
            "92d3b71f3b4b467c99486b9ef1a0909e",
            "a4b663acd3044ee8a1264ee9a749b6c9",
            "cf51f36db7b24e70987164b0a143c17e",
            "0cc51f68bc7b488dab2bb8904870e84c",
            "bd8052916d4045bf82825409ea565da7",
            "f2408f90a8044475ad5851ed5e5f9e07",
            "eba8ecd69dab4ceeab3d2157e05f6033",
            "74fc06b7418048869b7e42a3925654de",
            "43b2e07aaaea4230a75b65540a1f8036",
            "b5c48745901f4c78bd43f7011b19412b",
            "617771b65ed94554806318943a1efc7f",
            "5180ea7cd12c49f6a75869e1cc4b6d41",
            "12c8f9e38ae9440ca9a2a9b5a7443713"
          ]
        },
        "id": "TR8QkEnHD-B2",
        "outputId": "51bc97bb-9b51-4964-d9ed-789ac832ee40"
      },
      "execution_count": null,
      "outputs": [
        {
          "output_type": "display_data",
          "data": {
            "application/vnd.jupyter.widget-view+json": {
              "model_id": "92d3b71f3b4b467c99486b9ef1a0909e",
              "version_minor": 0,
              "version_major": 2
            },
            "text/plain": [
              "interactive(children=(IntSlider(value=3, description='giocate', max=10, min=1), IntSlider(value=10, descriptio…"
            ]
          },
          "metadata": {}
        }
      ]
    },
    {
      "cell_type": "markdown",
      "source": [
        "# Distribuzione uniforme e non uniforme"
      ],
      "metadata": {
        "id": "qBnKgfwaLT9x"
      }
    },
    {
      "cell_type": "markdown",
      "source": [
        "Sia _A_ = {_x1_, . . . , _xn_}; una variabile _X_ che assume i valori in _A_ tutti con la stessa probabilità $\\frac{1}{n}$\n",
        "si dice _variabile uniforme_ su _A_. Scriviamo in questo caso _X_ ∼ _U_(_A_) oppure _X_ ∼ _U_(_x1_, . . . , _xn_).\n",
        "La densità è quindi:\n",
        "\n",
        "\\begin{equation}\n",
        "  px(h) =\n",
        "    \\begin{cases}\n",
        "           \\frac{1}{n} \\ se \\  h  \\ ∈ \\ ({x1}, {x2}, ..., {xn})\n",
        "          \\\\\n",
        "          0 \\ altrimenti\n",
        "        \\end{cases}\n",
        "\\end{equation}"
      ],
      "metadata": {
        "id": "GUQzPwZ8NK0Q"
      }
    },
    {
      "cell_type": "markdown",
      "source": [
        "##Esempio 2.1 \n",
        "Nel lancio di un dado sia Ω = {1, 2, 3, 4, 5, 6} l’insieme dei possibili risultati.\n",
        "Allora la funzione _X_(_n_) = n per ogni n ∈ Ω è una variabile aleatoria uniforme _X_ ∼ _U_(1, 2, 3, 4, 5, 6).\n"
      ],
      "metadata": {
        "id": "HJrqw0EbXj2l"
      }
    },
    {
      "cell_type": "code",
      "source": [
        "def dice():\n",
        "  results = []\n",
        "  for i in range(precisione):\n",
        "    results.append(trow()) #aggiungo il risultato del tiro alla lista dei risultati\n",
        "  #grafico\n",
        "  elem_count = []\n",
        "  labels = []\n",
        "  for i in range(len(set(results))): #conto le istanze di ogni risultato ottenuto ed aggiungo i totali a elem_count, poi lo metto a grafico\n",
        "    elem_count.append(results.count(i+1))\n",
        "    labels.append(str(i+1))\n",
        "  plt.bar(labels, elem_count)\n",
        "dice()"
      ],
      "metadata": {
        "colab": {
          "base_uri": "https://localhost:8080/",
          "height": 265
        },
        "id": "pO1ExmtATCeI",
        "outputId": "8fe72034-cebd-4ba4-cd2e-dbfdb2224fcd"
      },
      "execution_count": null,
      "outputs": [
        {
          "output_type": "display_data",
          "data": {
            "image/png": "[encoded data removed]",
            "text/plain": [
              "<Figure size 432x288 with 1 Axes>"
            ]
          },
          "metadata": {
            "needs_background": "light"
          }
        }
      ]
    },
    {
      "cell_type": "markdown",
      "source": [
        "##Esempio 2.2\n",
        "Se invece lanciassimo due dadi, la variabile _X_ che assume un valore corrispondente al numero di risultati pari ottenuti dal lancio sarebbe una _variabile non uniforme_ siccome la sua densità sarebbe:\n",
        "\n",
        "\\begin{equation}\n",
        "  py(h) =\n",
        "    \\begin{cases}\n",
        "          \\frac{1}{4} \\  h={0},{2}\n",
        "          \\\\\n",
        "          \\frac{1}{2} \\ h={1}\n",
        "          \\\\\n",
        "          0 \\ altrimenti\n",
        "        \\end{cases}\n",
        "\\end{equation}"
      ],
      "metadata": {
        "id": "BZUNA1OvaQp6"
      }
    },
    {
      "cell_type": "code",
      "source": [
        "def even_dices():\n",
        "  results = []\n",
        "  for i in range(precisione):\n",
        "    a, b = trow(), trow() #lancio due dadi, poi conterò quanti sono pari per aggiungere il risultato alla lista\n",
        "    results.append(2-((a % 2)+(b % 2))) #conto i dadi pari come due meno i dadi dispari (n%2 = 1 per n dispari, 0 altrimenti)\n",
        "  valori = []\n",
        "  normalized = []\n",
        "  for i in range(3): #conto le istanze dei risultati e le divido per il numero di risultati totale (normalizzo)\n",
        "    normalized.append(results.count(i) / len(results)) #len(results) torna la lunghezza della lista results\n",
        "    valori.append(\"k=\" + str(i))\n",
        "  plt.pie(normalized, labels=valori)\n",
        "even_dices()"
      ],
      "metadata": {
        "colab": {
          "base_uri": "https://localhost:8080/",
          "height": 248
        },
        "id": "Ly_UKZkxZr2J",
        "outputId": "e60fd351-9525-443f-96d6-87502a789b13"
      },
      "execution_count": null,
      "outputs": [
        {
          "output_type": "display_data",
          "data": {
            "image/png": "[encoded data removed]",
            "text/plain": [
              "<Figure size 432x288 with 1 Axes>"
            ]
          },
          "metadata": {}
        }
      ]
    },
    {
      "cell_type": "markdown",
      "source": [
        "#Densità binomiale"
      ],
      "metadata": {
        "id": "qimeQspadWgq"
      }
    },
    {
      "cell_type": "markdown",
      "source": [
        "Consideriamo un fenomeno aleatorio e un certo evento ad esso associato. Per semplicità diciamo che se l’evento si realizza otteniamo un “successo”, viceversa che abbiamo ottenuto un “insuccesso\".\n",
        "Uno schema successo-insuccesso consiste nel ripetere questo fenomeno un certo fissato numero di volte, dette anche prove o tentativi, in cui siamo interessati unicamente al numero di successi ottenuti\n",
        "nelle varie prove.\n",
        "Supponiamo ora che le prove siano indipendenti l’una dall’altra, cioè vengono effettuate tuttevnelle medesime condizioni, indipendentemente dal risultato delle prove precedenti: parliamo in questo caso di schema successo-insuccesso con ripetizione o a prove indipendenti. Consideriamo\n",
        "quindi la variabile X data dal numero di successi in n tentativi.\n",
        "Nel caso in cui le prove siano indipendenti l’una dall’altra, la probabilità di ottenere una certa prefissata sequenza di successi e insuccessi dipende solo dal numero di questi ultimi e non dall’ordine con cui vogliamo che si succedano. La probabilità di ottenere una sequenza fissata in cui abbiamo k successi e n − k insuccessi è data da\n",
        "$p^k(1-p)^{n-k}$, dove p è la probabilità che ogni singolo tentativo abbia successo. Siccome i modi in cui possiamo scegliere le k posizioni per i successi sono date da ${n\\choose k}$ otteniamo per la variabile X la densità data da\n",
        "\n",
        "\\begin{equation}\n",
        "  px(k) =\n",
        "    \\begin{cases}\n",
        "          {n\\choose k} p^k(1-p)^{n-k} \\ se \\ k=1,2,...,n\n",
        "          \\\\\n",
        "          0 \\ altrimenti\n",
        "        \\end{cases}\n",
        "\\end{equation}\n",
        "\n",
        "\n",
        "Scriveremo in questo caso _X_ ∼ _B_(_n_, _p_) e diciamo che _X_ è una variabile binomiale."
      ],
      "metadata": {
        "id": "OUh7jiOk7WSD"
      }
    },
    {
      "cell_type": "markdown",
      "source": [
        "##Esempio 3.1\n",
        "\n",
        "Supponiamo di andare al casinò con 15 Euro e puntiamo 3 volte 5 Euro alla roulette sul rosso. Consideriamo la variabile aleatoria X data dai soldi che abbiamo in tasca alla fine delle 3 puntate. La probabilità di ottenere un numero rosso è di $\\frac{18}{37}$ ad ogni tentativo.\n",
        "Determinare la densità di X.\n",
        "La variabile X può assumere i valori 30, 20, 10, 0 a seconda di quanti rossi sono usciti. Abbiamo:\n",
        "\n",
        "P(X = 30) = $(\\frac{18}{37})^3$ = 0,115\n",
        "\n",
        "P(X = 20) = ${3\\choose 1}(\\frac{18}{37})^2 · \\frac{19}{37}$= 0, 365\n",
        "\n",
        "P(X = 10) = ${3\\choose 2}(\\frac{18}{37}) · (\\frac{19}{37})^2$ = 0,385\n",
        "\n",
        "P(X = 0) = $(\\frac{19}{37})^3$ = 0,135\n"
      ],
      "metadata": {
        "id": "O8PjzahWhrRr"
      }
    },
    {
      "cell_type": "code",
      "source": [
        "@interact_manual(giocate=(1, 6), puntata=(5, 100, 5))\n",
        "def roulette(giocate = 3, puntata = 5):\n",
        "  ruota = mk_roulette()\n",
        "  results = []\n",
        "  for i in range(precisione):\n",
        "    portafogli = giocate * puntata\n",
        "    portafogli = partita(ruota, giocate, puntata, portafogli)\n",
        "    results.append(portafogli)\n",
        "  #grafico\n",
        "  normalized = []\n",
        "  valori = []\n",
        "  for i in range(giocate):\n",
        "    normalized.append(round(((results.count(puntata*2*i) / precisione) * 100), 2)) #conto le istanze dei risultati e le normalizzo\n",
        "  normalized.append(round(100 - sum(normalized), 2)) #per evitare che per errori di arrotondamento la somma dei risultati sia 99.9%, l'ultimo risultato lo calcolo come 100 - (la somma dei precedenti)\n",
        "  labels = []\n",
        "  for i in range(len(normalized)):\n",
        "    labels.append(str(normalized[i]) + \"%\") # aggiungo le labels (i valori riportati all'esterno del grafico)\n",
        "  plt.pie(normalized, labels=labels)\n",
        "  legenda = []\n",
        "  for i in range(len(normalized)):\n",
        "    legenda.append(str(puntata*2*i))\n",
        "  plt.legend(legenda,loc='upper center', bbox_to_anchor=(0.5, -0.05), fancybox=True, shadow=True, ncol=5)"
      ],
      "metadata": {
        "id": "QDB96jXivO40",
        "outputId": "50946fb3-bdb6-4acf-fcba-c159dfd6b398",
        "colab": {
          "base_uri": "https://localhost:8080/",
          "height": 113,
          "referenced_widgets": [
            "de351799ec3a4eef8684528ae2773644",
            "43ac04608ccc47308f4d4fb79a2a7e8f",
            "71528104c3db423d841544c4868f933a",
            "a3bfebac66ae4495bcaf30841985c744",
            "ad948f20cefe4ea8ae6164936d8e2a0f",
            "888803723169438692e051896eec79d1",
            "c59505632f014f36b6310f7da3de000f",
            "0a9b0fe50c5446acbe7f581a1b678fc4",
            "3054fceea16645aca1ef9cacd4baea6d",
            "2a1b46514d484a0f86b7545654d9ebcd",
            "a4dc83dbe9f24ee0a29138facb21ad69",
            "e0a85c4e9a6a48feb195a5d997f92292",
            "35ae260537494919be0f6c2399c695df"
          ]
        }
      },
      "execution_count": null,
      "outputs": [
        {
          "output_type": "display_data",
          "data": {
            "application/vnd.jupyter.widget-view+json": {
              "model_id": "de351799ec3a4eef8684528ae2773644",
              "version_minor": 0,
              "version_major": 2
            },
            "text/plain": [
              "interactive(children=(IntSlider(value=3, description='giocate', max=6, min=1), IntSlider(value=5, description=…"
            ]
          },
          "metadata": {}
        }
      ]
    },
    {
      "cell_type": "markdown",
      "source": [
        "# Densità ipergeometrica"
      ],
      "metadata": {
        "id": "9PjQr8MmCUYu"
      }
    },
    {
      "cell_type": "markdown",
      "source": [
        "\n",
        "Un altro tipo di schema successo-insuccesso è il cosiddetto schema successo-insuccesso _senza ripetizione_. In questo caso il fenomeno aleatorio consiste nell’estrazione di n palline, senza rimpiazzare di volta in volta la pallina estratta, da un'urna contenente b palline bianche e r palline rosse.\n",
        "Diciamo che la prova (estrazione) dà successo se viene estratta una pallina bianca e consideriamo la variabile X data dal numero di successi ottenuti, cioè dal numero di palline bianche estratte.\n",
        "\n",
        "\n",
        "Osserviamo che X può assumere tutti i valori tra max(0, n − r) e min(n, b): infatti se n > r siamo sicuri di pescare almeno n−r palline bianche e chiaramente il numero di bianche estratte non può superare nè il numero estrazioni nè il numero di palline bianche.\n",
        "\n",
        "Lo spazio Ω è dato da tutti i possibili sottoinsiemi di n oggetti (le palline estratte) scelti da un insieme di b + r oggetti (le palline\n",
        "disponibili), con probabilità uniforme. L’evento “X = k” è dato quindi da tutti i sottoinsiemi delle b + r palline costituiti da k palline bianche e n − k palline rosse. Le k bianche le posso scegliere in ${b\\choose k}$ modi. Le n − k rosse in ${r \\choose {n - k}}$ modi. Abbiamo quindi che la densità di X è data da\n",
        "\n",
        "\\begin{equation}\n",
        "  px(k) =\n",
        "    \\begin{cases}\n",
        "          \\frac{{b \\choose k} · {r \\choose n - k}}{b + r \\choose n} \\ se \\ k=max(0, n-r),...,min(n,b)\n",
        "          \\\\\n",
        "          0 \\ altrimenti\n",
        "        \\end{cases}\n",
        "\\end{equation}\n",
        "\n",
        "Scriviamo in questo caso X ∼ H(n; b, r) e diciamo che X è una variabile ipergeometrica."
      ],
      "metadata": {
        "id": "OnLdbdQjCbyl"
      }
    },
    {
      "cell_type": "markdown",
      "source": [
        "##Esempio 4.1\n",
        "Un’urna contiene 8 palline bianche e 2 rosse. Ne estraiamo 3 senza rimpiazzo.\n",
        "Qual è la probabilità di estrarne al più una rossa? In questo caso, a differenza del precedente abbiamo che la variabile X = numero di rosse estratte è una ipergeometrica X ∼ H(3; 2, 8) per\n",
        "cui\n",
        "\n",
        "P(_X_ ≤ 1) = P(_X_ = 0) + P(_X_ = 1) = $\\frac{{2 \\choose 0}·{8 \\choose 3}}{10 \\choose 3}$ + $\\frac{{2 \\choose 1}·{8 \\choose 2}}{10 \\choose 3}$ = $\\frac{14}{15}$ = 0.933"
      ],
      "metadata": {
        "id": "mqqc2UiZGaIY"
      }
    },
    {
      "cell_type": "code",
      "source": [
        "@interact_manual(estrazioni=(1, 10))\n",
        "def ipergeometrica(estrazioni=3):\n",
        "  bianche = 8\n",
        "  rosse = 2\n",
        "  urna = mk_urna(bianche, rosse)\n",
        "  results = 0\n",
        "  for i in range(precisione):\n",
        "    tmp = urna\n",
        "    count = 0\n",
        "    for i in range(estrazioni):\n",
        "      extr = np.random.randint(0, ((bianche + rosse)-i))\n",
        "      if(tmp[extr]):\n",
        "        count = count + 1\n",
        "      tmp = np.delete(tmp, extr)\n",
        "    if(count < 2):\n",
        "      results = results + 1  \n",
        "  return round(results / precisione, 3)"
      ],
      "metadata": {
        "id": "R0SjK_tkMtDv",
        "colab": {
          "base_uri": "https://localhost:8080/",
          "height": 81,
          "referenced_widgets": [
            "1a2c838645844ffdbc296876b5c4e430",
            "80f3cfe796114c68900755b89fe3f168",
            "d2b538c46ba2436ebea3d7d9ab2d5a37",
            "b9b0ed6b609341a684bf42ffa2f340eb",
            "5b9540b2752a4f1bbe59ce23030e4f1a",
            "e61e3e2c581d49cebdd9f7450ffe6482",
            "0fcbf72b69c54d28ad45c2a6c65830f2",
            "92be6476f814433fa4b04980ccc2f57b",
            "37e7c81e0b844924b162a487969960ee",
            "b83e25dc9f814ed988d3ec407e279c86"
          ]
        },
        "outputId": "748bd4aa-7583-49c6-8b5b-520b0e15141e"
      },
      "execution_count": null,
      "outputs": [
        {
          "output_type": "display_data",
          "data": {
            "application/vnd.jupyter.widget-view+json": {
              "model_id": "1a2c838645844ffdbc296876b5c4e430",
              "version_minor": 0,
              "version_major": 2
            },
            "text/plain": [
              "interactive(children=(IntSlider(value=3, description='estrazioni', max=10, min=1), Button(description='Run Int…"
            ]
          },
          "metadata": {}
        }
      ]
    },
    {
      "cell_type": "markdown",
      "source": [
        "#Densità geometrica - geometrica modificata"
      ],
      "metadata": {
        "id": "-GtoecXjUH1e"
      }
    },
    {
      "cell_type": "markdown",
      "source": [
        "In uno schema successo-insuccesso, anzichè al numero di successi ottenuti su n tentativi, potremmo essere interessati al numero di tentativi che devo effettuare prima di ottenere un successo."
      ],
      "metadata": {
        "id": "YBirGuNoUKbB"
      }
    },
    {
      "cell_type": "markdown",
      "source": [
        "##Esempio 5.1\n",
        "\n",
        "Consideriamo un’urna con 2 palline bianche e 3 rosse. Le estraggo senza\n",
        "rimpiazzo finchè non trovo una pallina rossa. Considero la variabile aleatoria X=numero di estrazioni per trovare una pallina rossa. X è una variabile finita in quanto assume solo i valori 1, 2, 3.\n",
        "La sua densità si determina facilmente ed è data da\n",
        "\n",
        "\\begin{equation}\n",
        "  px(k) =\n",
        "    \\begin{cases}\n",
        "          \\frac{6}{10} \\ se \\ k=1\n",
        "          \\\\\n",
        "          \\frac{3}{10} \\ se \\ k=2\n",
        "          \\\\\n",
        "          \\frac{1}{10} \\ se \\ k=3\n",
        "          \\\\\n",
        "          0 \\ altrimenti\n",
        "        \\end{cases}\n",
        "\\end{equation}\n",
        "\n"
      ],
      "metadata": {
        "id": "aXX1PJQLUX9Z"
      }
    },
    {
      "cell_type": "code",
      "source": [
        "@interact_manual(bianche=(1,5), rosse=(1, 5))\n",
        "def geometrica(bianche=2, rosse=3):\n",
        "  palle = mk_urna(bianche, rosse)\n",
        "  results = []\n",
        "  count=0\n",
        "  while(len(results) < precisione):\n",
        "    done = len(results)\n",
        "    tmp = palle\n",
        "    while(len(results) == done):\n",
        "      extr = np.random.randint(0, ((bianche+rosse)-count))\n",
        "      if(tmp[extr]):\n",
        "        results.append(count)\n",
        "        count=0\n",
        "      else:  \n",
        "        tmp = np.delete(tmp,extr)\n",
        "        count = count + 1\n",
        "  #grafico\n",
        "  labels = []\n",
        "  normalized = []\n",
        "  for i in range(len(set(results)) - 1): #len(set(n)) torna il numero di risultati distinti presenti in results\n",
        "    normalized.append(round(((results.count(i) / precisione) * 100), 2)) #conto le istanze dei risultati e le normalizzo\n",
        "  normalized.append(round(100 - sum(normalized), 2)) #per evitare che per errori di arrotondamento la somma dei risultati sia 99.9%, l'ultimo risultato lo calcolo come 100 - (la somma dei precedenti)\n",
        "  for i in range(len(normalized)):\n",
        "    labels.append(str(normalized[i]) + \"%\") # aggiungo le labels (i valori riportati all'esterno del grafico)\n",
        "  plt.pie(normalized, labels=labels)\n",
        "  legenda = []\n",
        "  for i in range(bianche + 1):\n",
        "    legenda.append(\"k=\"+str(i+1))\n",
        "  plt.legend(legenda,loc='upper center', bbox_to_anchor=(0.5, -0.05), fancybox=True, shadow=True, ncol=5)"
      ],
      "metadata": {
        "colab": {
          "base_uri": "https://localhost:8080/",
          "height": 378,
          "referenced_widgets": [
            "47c1cf0ca6c049868cd65bd0a8e7f6d8",
            "b53bdbba40ed4776a7ed0caec23224f2",
            "8a2fba7e07044feca90d7dca47de64f5",
            "4568196e2ff6479fb07cc468177855a8",
            "a889d460f57241f6a205df448254b402",
            "bbec73c0ff01421bb61bf697a95cb9a4",
            "099c00f6d107455d86751efe38d2d43e",
            "0efb5f2a86a24b4b8c8c3cafc2dbd53c",
            "09b0eeea57c64184bbfec95ca078c080",
            "31392b8a30d0494c8e3b9fe39af8dc6b",
            "d4747f3f755c4696bcb8f49ef8816aad",
            "094ad72c71e046ff9fc13d49f4d9dd65",
            "4b82d48a19a342fc85d0c83b73d93916"
          ]
        },
        "id": "5tLgoNi7f2YM",
        "outputId": "09a6fc25-af9f-4696-bd6f-264ef5a5b837"
      },
      "execution_count": 7,
      "outputs": [
        {
          "output_type": "display_data",
          "data": {
            "application/vnd.jupyter.widget-view+json": {
              "model_id": "47c1cf0ca6c049868cd65bd0a8e7f6d8",
              "version_minor": 0,
              "version_major": 2
            },
            "text/plain": [
              "interactive(children=(IntSlider(value=2, description='bianche', max=5, min=1), IntSlider(value=3, description=…"
            ]
          },
          "metadata": {}
        }
      ]
    },
    {
      "cell_type": "markdown",
      "source": [
        "Caso interessante:\n",
        "\n",
        "Nel caso di una sola pallina rossa ed _n_ palline bianche, non si ha un'estrazione in cui è più probabile trovare la rossa, hanno tutte probabilità $\\frac{1}{n+1}$ come si può verificare ri-lanciando l'esperimento precedente con una sola pallina rossa."
      ],
      "metadata": {
        "id": "Y5F358gdvcak"
      }
    },
    {
      "cell_type": "markdown",
      "source": [
        "##Esempio 5.2\n",
        "\n",
        "Ripetiamo l'esperimento precedente, ma questa volta rimpiazziamo la pallina ad ogni estrazione. La variabile X diventa numerabile e si ha\n",
        "\n",
        "\\begin{equation}\n",
        "  px(k) =\n",
        "    \\begin{cases}\n",
        "          (\\frac{2}{5})^{k-1}\\frac{3}{5} \\ se \\ k=1,2,3,...\n",
        "          \\\\\n",
        "          0 \\ altrimenti\n",
        "        \\end{cases}\n",
        "\\end{equation}\n",
        "\n",
        "Infatti richiedere X = k vuol dire aver ottenuto k − 1 insuccessi nei primi k − 1 tenativi (ognuno con probabilità $\\frac{2}{5}$) per poi finalmente ottenere un successo al k-esimo tentativo (con probabilità $\\frac{3}{5}$)"
      ],
      "metadata": {
        "id": "DPSi8KkVKH60"
      }
    },
    {
      "cell_type": "code",
      "source": [
        "@interact_manual(bianche=(1,5), rosse=(1, 5))\n",
        "def geometrica_mod(bianche=2, rosse=3):\n",
        "  palle = mk_urna(bianche, rosse)\n",
        "  results = []\n",
        "  count=0\n",
        "  while(len(results) < precisione):\n",
        "    done = len(results)\n",
        "    tmp = palle\n",
        "    while(len(results) == done):\n",
        "      extr = np.random.randint(0, (bianche+rosse))\n",
        "      if(tmp[extr]):\n",
        "        results.append(count)\n",
        "        count=0\n",
        "      else:  \n",
        "        count = count + 1\n",
        "  \n",
        "  #grafico risultati\n",
        "  labels = []\n",
        "  normalized = []\n",
        "  for i in range(len(set(results))): \n",
        "    normalized.append(round(((results.count(i) / precisione) * 100), 2))\n",
        "  for i in range(len(set(results))):\n",
        "    labels.append(str(i+1))\n",
        "  \n",
        "  #grafico teorico\n",
        "  teoria = []\n",
        "  for i in range(len(set(results))):\n",
        "    teoria.append(((bianche / (bianche + rosse))**(i)) * (rosse / (bianche + rosse)) * 100)\n",
        "\n",
        "  lab_arr = np.arange(len(labels))\n",
        "\n",
        "  w=0.4\n",
        "  plt.bar(lab_arr-(w/2), normalized, width=w)\n",
        "  plt.bar(lab_arr+(w/2), teoria, width=w)\n",
        "  plt.ylabel(\"Percentage\")\n",
        "  plt.xlabel(\"K\")\n",
        "  legenda = [\"Risultati ottenuti\", \"Risultati attesi\"]\n",
        "  plt.legend(legenda,loc='upper center', bbox_to_anchor=(0.5, -0.05), fancybox=True, shadow=True, ncol=5)"
      ],
      "metadata": {
        "colab": {
          "base_uri": "https://localhost:8080/",
          "height": 113,
          "referenced_widgets": [
            "30d15d2f34ba418686b7dca6a887169a",
            "586640b4686941d2a97de9d50e5f8c51",
            "a8e0ea56f80049999c1880b4f414fbbc",
            "325f79671f0a4d4286935185a6965f33",
            "1ba846c6cea749bb9e9664e1c14fc6b7",
            "2f344f4e115c49949a2df608aa774a0d",
            "f44a83da1ec34688864719b2e9abb64e",
            "d6a88013436648cfa9ff7c1396874a32",
            "92abb9dde0004643a1f270e1a321feb6",
            "8d8d0f3a6b134be8a5ff66d3a70cc923",
            "961ee05d68ea4380b6311c3428091cb0",
            "c0bc2cad1a5a447f834e1da1bfdff517",
            "96202b4089564b90be99854a9abf6f9c"
          ]
        },
        "id": "p-e8XTgnsSgC",
        "outputId": "cd134aac-b8f5-4499-ffa4-73ecd96b79d0"
      },
      "execution_count": null,
      "outputs": [
        {
          "output_type": "display_data",
          "data": {
            "application/vnd.jupyter.widget-view+json": {
              "model_id": "30d15d2f34ba418686b7dca6a887169a",
              "version_minor": 0,
              "version_major": 2
            },
            "text/plain": [
              "interactive(children=(IntSlider(value=2, description='bianche', max=5, min=1), IntSlider(value=3, description=…"
            ]
          },
          "metadata": {}
        }
      ]
    },
    {
      "cell_type": "markdown",
      "source": [
        "Quello appena visto è un esempio di _densità geometrica modificata_ che scriveremo come T ∼ Ḡ(_p_).\n",
        "\n",
        "Quando si parla di densità geometrica modificata? \n",
        "\n",
        "Si consideri uno schema successo-insuccesso con ripetizioni e prendiamo in esame la variabile T data dal tempo di primo successo. \n",
        "Se chiamiamo _Xi_ le variabili _B_(1, _p_) date da _Xi_ = 1 se l’i-esimo tentativo dà successo e _Xi_  = 0 altrimenti abbiamo come densità\n",
        "\n",
        "\\begin{equation}\n",
        "  px(k) =\n",
        "    \\begin{cases}\n",
        "          p(1-p)^{k-1} \\ se \\ k=1,2,3,...\n",
        "          \\\\\n",
        "          0 \\ altrimenti\n",
        "        \\end{cases}\n",
        "\\end{equation}"
      ],
      "metadata": {
        "id": "u9PHD5qa-xdK"
      }
    },
    {
      "cell_type": "markdown",
      "source": [
        "##Esempio 5.3\n",
        "\n",
        "Si lancino simultaneamente due dadi, uno rosso e uno blu. Ripetiamo questo\n",
        "esperimento finchè non otteniamo due 6. \n",
        "\n",
        "Poniamo X = primo lancio in cui il dado rosso ha dato 6,\n",
        "Y = primo lancio in cui il dado blu ha dato 6.\n",
        "\n",
        "\n",
        "Determinare inoltre la probabilità di ottenere 6 con il dado rosso prima di ottenere 6 con il dado blu.\n",
        "\n",
        "Abbiamo\n",
        "\n",
        "\\begin{equation}\n",
        "  1 = P(X < Y) + P(X > Y) + P(X = Y)\n",
        "\\end{equation}\n",
        "\n",
        "\\\\\n",
        "e chiaramente per simmetria del problema _P_(_X_ < _Y_) = _P_(_X_ > _Y_) da cui\n",
        "\n",
        "\\\\\n",
        "\n",
        "\\begin{equation}\n",
        "  P(X < Y)= \\frac {1-P(X = Y)}{2}\n",
        "\\end{equation}\n",
        "\n",
        "Ci basterà calcolare quindi _P_(_X_ =_Y_):\n",
        "\n",
        "\\\\\n",
        "\n",
        "\\begin{equation}\n",
        "  P(X = Y) = \\sum_{k=1}^\\infty P(X = Y = k) = \\sum_{k=1}^\\infty (\\frac{25}{36})^{k-1}·\\frac{1}{36} = \\frac{1}{1-\\frac{25}{36}}·\\frac{1}{36} = \\frac{1}{11}\n",
        "\\end{equation}\n",
        "\n",
        "\n",
        "dove abbiamo ancora utilizzato la somma di una serie geometrica, e quindi\n",
        "\n",
        "\\\\\n",
        "\n",
        "\\begin{equation}\n",
        "  P(X < Y) = \\frac{5}{11}\n",
        "\\end{equation}\n"
      ],
      "metadata": {
        "id": "yQRcoTTQmPxD"
      }
    },
    {
      "cell_type": "code",
      "source": [
        "def first_six():\n",
        "  num = 6\n",
        "  results = []\n",
        "  for i in range(precisione):\n",
        "    a, b = 0, 0\n",
        "    while a != num and b != num:\n",
        "      a, b = trow(), trow() \n",
        "      if a == num:\n",
        "        if b == num:\n",
        "          results.append(0)\n",
        "        else:\n",
        "          results.append(1)\n",
        "      if b == num:\n",
        "        results.append(2)  \n",
        "  #grafico\n",
        "  labels = []\n",
        "  normalized = []\n",
        "  myexplode = [0, 0.2, 0]\n",
        "  for i in range(len(set(results)) - 1): #len(set(n)) torna il numero di risultati distinti presenti in results\n",
        "    normalized.append(round(((results.count(i) / precisione) * 100), 2)) #conto le istanze dei risultati e le normalizzo\n",
        "  normalized.append(round(100 - sum(normalized), 2)) #per evitare che per errori di arrotondamento la somma dei risultati sia 99.9%, l'ultimo risultato lo calcolo come 100 - (la somma dei precedenti)\n",
        "  for i in range(len(normalized)):\n",
        "    labels.append(str(normalized[i]) + \"%\") # aggiungo le labels (i valori riportati all'esterno del grafico)\n",
        "\n",
        "  teoria = [1/11, 5/11, 5/11]\n",
        "  lab_teoria = [\"9.09%\", \"45.45%\", \"45.45%\"]\n",
        "\n",
        "  f, (ax1, ax2) = plt.subplots(1, 2)\n",
        "  ax1.pie(normalized, labels=labels,explode=myexplode, colors=[\"green\", \"red\", \"blue\"], shadow=True)\n",
        "  ax1.set_title(\"Risultati ottenuti\")\n",
        "  ax2.pie(teoria, labels=lab_teoria,explode=myexplode, colors=[\"green\", \"red\", \"blue\"], shadow=True)\n",
        "  ax2.set_title(\"Risultati attesi\")\n",
        "  \n",
        "  legenda = [\"X=Y\", \"X<Y\", \"X>Y\"]\n",
        "  ax1.legend(legenda,loc='upper left', bbox_to_anchor=(0.5, -0.05), fancybox=True, shadow=True, ncol=5)\n",
        "\n",
        "first_six()"
      ],
      "metadata": {
        "colab": {
          "base_uri": "https://localhost:8080/",
          "height": 230
        },
        "id": "6P-rc7pzfODB",
        "outputId": "26dbdb21-ec6a-47ba-a3c4-e34d4b017e39"
      },
      "execution_count": null,
      "outputs": [
        {
          "output_type": "display_data",
          "data": {
            "image/png": "[encoded data removed]",
            "text/plain": [
              "<Figure size 432x288 with 2 Axes>"
            ]
          },
          "metadata": {}
        }
      ]
    },
    {
      "cell_type": "markdown",
      "source": [
        "#Densità di Poisson"
      ],
      "metadata": {
        "id": "hPfoVQ4tzLLR"
      }
    },
    {
      "cell_type": "markdown",
      "source": [
        "Se consideriamo una variabile binomiale _X_ ∼ _B_(_n_, _p_) in cui il numero _n_ di tentativi è molto grande e il parametro _p_ molto piccolo fare i conti con la densità binomiale risulta essere computazionalmente dispendioso. \n",
        "\n",
        "Facciamo un esempio:"
      ],
      "metadata": {
        "id": "7WQ9L3IXzNQo"
      }
    },
    {
      "cell_type": "markdown",
      "source": [
        "##Esempio 6.1\n",
        "\n",
        "Supponiamo che in una città nascano 10 000 bambini ogni anno e che ci\n",
        "sia una malattia rara che colpisce un bambino su 2 mila. Qual è la probabilità che quest’anno nascano più di 5 bambini affetti da questa malattia? \n",
        "\n",
        "La variabile _X_ = ”numero di bambini nati con questa malattia quest’anno” è una variabile binomiale _X_ = _B_($10^4$, $\\frac{1}{2000}$). Tuttavia se\n",
        "proviamo ad effettuare il calcolo _P_(_X_ > 5), anche se abbiamo una formula esatta per effettuarlo, è inevitabilmente molto complesso.\n"
      ],
      "metadata": {
        "id": "VD0JenT7zaOx"
      }
    },
    {
      "cell_type": "markdown",
      "source": [
        "Per risolvere questo tipo di problema introduciamo la seguente\n",
        "\n",
        "\\\\\n",
        "\\begin{equation}\n",
        "  p(k) =\n",
        "    \\begin{cases}\n",
        "          e^{-λ} \\frac{λ^k}{k!} \\ se \\ k=0,1,2,...\n",
        "          \\\\\n",
        "          0 \\ altrimenti\n",
        "        \\end{cases}\n",
        "\\end{equation}\n",
        "\n",
        "\\\\\n",
        "\n",
        "dove λ è un parametro reale strettamente positivo."
      ],
      "metadata": {
        "id": "-07DvPlK0SRP"
      }
    },
    {
      "cell_type": "markdown",
      "source": [
        "Nel nostro esempio possiamo pensare alla variabile _X_ come ad una variabile di Poisson di parametro 5. \n",
        "\n",
        "Otteniamo:\n",
        "\n",
        "\\begin{equation}\n",
        "  P(X > 5) = 1 − P(X = 0) − P(X = 1) − P(X = 2) − P(X = 3) − P(X = 4) \n",
        "  \\\\\n",
        "  = 1 − e^{−5}(1 + 5 + \\frac{25}{2} + \\frac{125}{6} + \\frac{625}{24} + \\frac{3125}{120}) = 0, 384.\n",
        "\\end{equation}"
      ],
      "metadata": {
        "id": "fHA5WLXr2VKr"
      }
    },
    {
      "cell_type": "markdown",
      "source": [
        "Nella simulazione riportata sono simulati 100 anni, ripetendo l'esperimento si aggiungono i risultati dei test successivi e si può osservare come il grafico dei risultati ottenuti si avvicini a quello dei risultati attesi."
      ],
      "metadata": {
        "id": "aQ3YUomoewtG"
      }
    },
    {
      "cell_type": "code",
      "source": [
        "res_poisson = []"
      ],
      "metadata": {
        "id": "niF9fNy-AGHk"
      },
      "execution_count": null,
      "outputs": []
    },
    {
      "cell_type": "code",
      "source": [
        "def poisson():\n",
        "  bambini = 10_000\n",
        "  malattia = 2_000\n",
        "  for i in range(100):\n",
        "    count = 0\n",
        "    for i in range(bambini):\n",
        "      if np.random.randint(malattia) == 1:\n",
        "        count = count + 1\n",
        "    res_poisson.append(count)\n",
        "\n",
        "  #grafico risultati\n",
        "  labels = []\n",
        "  set_res = list(set(res_poisson))\n",
        "  normalized = []\n",
        "  for i in set_res: \n",
        "    normalized.append(round(((res_poisson.count(i) / len(res_poisson)) * 100), 2))\n",
        "    labels.append(str(i+1)) \n",
        " \n",
        "  #grafico teorico\n",
        "  teoria = []\n",
        "  lam = bambini / malattia\n",
        "  for i in set_res:\n",
        "    teoria.append((math.e**-lam)*((lam**i)/math.factorial(i)) * 100)\n",
        "\n",
        "  lab_arr = np.arange(len(labels))\n",
        "\n",
        "  w=0.4\n",
        "  plt.bar(lab_arr-(w/2), normalized, width=w)\n",
        "  plt.bar(lab_arr+(w/2), teoria, width=w)\n",
        "\n",
        "  legenda = [\"Risultati ottenuti\", \"Risultati attesi\"]\n",
        "  plt.legend(legenda,loc='upper center', bbox_to_anchor=(0.5, -0.05), fancybox=True, shadow=True, ncol=5)\n",
        "  print(\"Anni simulati: \" + str(len(res_poisson)))"
      ],
      "metadata": {
        "id": "L8XSvxDZMGZe"
      },
      "execution_count": null,
      "outputs": []
    },
    {
      "cell_type": "code",
      "source": [
        "poisson()"
      ],
      "metadata": {
        "id": "H4CjxxyZ7Rxc",
        "colab": {
          "base_uri": "https://localhost:8080/",
          "height": 299
        },
        "outputId": "850ea436-8b1f-49fa-bcc4-d5d1d8eb8853"
      },
      "execution_count": null,
      "outputs": [
        {
          "output_type": "stream",
          "name": "stdout",
          "text": [
            "Anni simulati: 100\n"
          ]
        },
        {
          "output_type": "display_data",
          "data": {
            "image/png": "[encoded data removed]",
            "text/plain": [
              "<Figure size 432x288 with 1 Axes>"
            ]
          },
          "metadata": {
            "needs_background": "light"
          }
        }
      ]
    },
    {
      "cell_type": "markdown",
      "source": [
        "#Densità continua uniforme"
      ],
      "metadata": {
        "id": "2HvnAmIq9-iV"
      }
    },
    {
      "cell_type": "markdown",
      "source": [
        "La variabile continua più semplice da studiare è quella che può assumere solo valori in un certo intervallo limitato e in modo ”uniforme”."
      ],
      "metadata": {
        "id": "q-CPgnYeAXnr"
      }
    },
    {
      "cell_type": "markdown",
      "source": [
        "## Esempio 7.1\n",
        "\n",
        "Un autobus passa da una fermata ogni 10 minuti. Noi arriviamo alla fermata in un momento casuale, chiamiamo T la variabile del tempo d'attesa che assume valori tra 0 e 10 minuti. Mediamente, quanto dovrò aspettare?\n",
        "\n",
        "Di seguito sono riportati i grafici della densità e di partizione di tale problema:"
      ],
      "metadata": {
        "id": "AFabxKb1Ar4F"
      }
    },
    {
      "cell_type": "code",
      "source": [
        "#funzione che calcola il valore di x in ogni punto (densità continua uniforme)\n",
        "def densita(x, a, b):\n",
        "  res = []\n",
        "  for i in x:\n",
        "    if i < a:\n",
        "      res.append(0)\n",
        "    elif i > b:\n",
        "      res.append(0)\n",
        "    else:\n",
        "      res.append(1 / (b - a))\n",
        "  return res"
      ],
      "metadata": {
        "id": "G_5JWNvfHgIA"
      },
      "execution_count": 16,
      "outputs": []
    },
    {
      "cell_type": "code",
      "source": [
        "@interact_manual(a=(0, 5), b=(5, 20))\n",
        "def dcu_plot(a = 0, b = 10):\n",
        "  results = []\n",
        "  for i in range(precisione):\n",
        "    results.append(random.uniform(a, b))\n",
        "  \n",
        "  x = np.linspace(a - 1, b + 1, 1000)\n",
        "\n",
        "  p1 = plt.figure(1)\n",
        "  ax = plt.axes()\n",
        "  ax.plot(x, densita(x, a, b))\n",
        "  ax.set_title(\"Densità\")\n",
        "  p1.show()\n",
        "  p2 = plt.figure(2)\n",
        "  sns.displot(results, kind=\"ecdf\").set(title=\"Partizione\")\n",
        "  p2.show() "
      ],
      "metadata": {
        "colab": {
          "base_uri": "https://localhost:8080/",
          "height": 113,
          "referenced_widgets": [
            "e96ce4cf027e4affa388b00b0300bb51",
            "091da9a17e7e437e971143490e4bab44",
            "ac7be1ff6d864d49a32614e9e76968d3",
            "d0aa30086c9c4ec3b839c8b0aa2f9356",
            "b2a24e93c0914feea2f747739b23c3e1",
            "5b8b4e4c8c9d4e5aa5ef8c1b823f0482",
            "7dbc57d5e8ad44c383aa8458759c82cd",
            "1b08248f507c4023820eb1dcc1becb54",
            "22e0e7e1d0354bddaf2a448751919c38",
            "ea09755fb2ad4a189dcb61b72dc13765",
            "0028fc8dc011451b9cbe58b7a3c2ed98",
            "d467b201006e42aaa7f842033186f37c",
            "df49d105d7864a2285eef4602ed50eb0"
          ]
        },
        "id": "v_fYQRbWCHfe",
        "outputId": "58ceb67f-ab52-4582-ad33-8252fbe5fe4e"
      },
      "execution_count": 17,
      "outputs": [
        {
          "output_type": "display_data",
          "data": {
            "application/vnd.jupyter.widget-view+json": {
              "model_id": "e96ce4cf027e4affa388b00b0300bb51",
              "version_minor": 0,
              "version_major": 2
            },
            "text/plain": [
              "interactive(children=(IntSlider(value=0, description='a', max=5), IntSlider(value=10, description='b', max=20,…"
            ]
          },
          "metadata": {}
        }
      ]
    },
    {
      "cell_type": "markdown",
      "source": [
        "Mentre"
      ],
      "metadata": {
        "id": "cbLvMf31FRj7"
      }
    },
    {
      "cell_type": "code",
      "source": [
        "@interact_manual(tempo=(1, 20))\n",
        "def cont_unif(tempo = 10):\n",
        "  results = []\n",
        "  for i in range(precisione):\n",
        "    results.append(random.uniform(0, tempo))\n",
        "  sns.ecdfplot(results) "
      ],
      "metadata": {
        "id": "lKTgaeCICydW",
        "outputId": "d49977d3-bf61-4f61-f66d-7c7c048ebe0e",
        "colab": {
          "base_uri": "https://localhost:8080/",
          "height": 333,
          "referenced_widgets": [
            "7242a5c557d64837bc58de7b673eda64",
            "e6e8c97e12f241e7837faa069ddb6720",
            "8584d60bc1f145bc968cae58411417fb",
            "535182c108e5458aa6f4c8fd3eeb52b8",
            "844cb9708b994982b9f79192a53eb78c",
            "b590269dd0614aa7bdafccb65af60511",
            "1da88588c303429e89abf7bb6107e930",
            "2eda987cd9a14845b0920f3a83f71979",
            "fc5079ec31e34d93b1e69f82a7c9de03",
            "e893641ee33548df9359bddb34c7a3ec"
          ]
        }
      },
      "execution_count": 15,
      "outputs": [
        {
          "output_type": "display_data",
          "data": {
            "application/vnd.jupyter.widget-view+json": {
              "model_id": "7242a5c557d64837bc58de7b673eda64",
              "version_minor": 0,
              "version_major": 2
            },
            "text/plain": [
              "interactive(children=(IntSlider(value=10, description='tempo', max=20, min=1), Button(description='Run Interac…"
            ]
          },
          "metadata": {}
        }
      ]
    },
    {
      "cell_type": "markdown",
      "source": [
        "Per quanto riguarda la soluzione il valore atteso invece ci basta sapere che il valore atteso di una variabile uniforme è il punto medio dell'intervallo: 5 minuti."
      ],
      "metadata": {
        "id": "CO8fDJK3MDBv"
      }
    },
    {
      "cell_type": "code",
      "source": [
        "@interact_manual(tempo=(1, 20))\n",
        "def E_unif(tempo = 10):\n",
        "  results = []\n",
        "  for i in range(precisione):\n",
        "    results.append(random.uniform(0, tempo))\n",
        "  return round(np.mean(results), 2)"
      ],
      "metadata": {
        "colab": {
          "base_uri": "https://localhost:8080/",
          "height": 81,
          "referenced_widgets": [
            "a4dd258189b9420ba0f926c3d2b2cb2a",
            "31f2233c022a44d9b09f6a2b3d5ddf07",
            "2a0cbbbccad9413382b64e30cf22af66",
            "77adf678eb3e4b6b83c9763e1a9d25b6",
            "dc9eca5a81d94d41a3258b95021e9eb8",
            "9392f7732dbb43c6a3b8fbd149a0266f",
            "a7f982a7236a46d4b7ca6885b8fc984a",
            "0f32df9a0c0b4e08bb5cb2af061afee6",
            "da88502ab5fd46118a2f6a200a79df3b",
            "3e9ac4122608400ebe4f9d9683e2b68f"
          ]
        },
        "id": "jG0a0YfTMiZi",
        "outputId": "6d76ef8a-9520-4785-8d74-33a6955b0694"
      },
      "execution_count": null,
      "outputs": [
        {
          "output_type": "display_data",
          "data": {
            "application/vnd.jupyter.widget-view+json": {
              "model_id": "a4dd258189b9420ba0f926c3d2b2cb2a",
              "version_minor": 0,
              "version_major": 2
            },
            "text/plain": [
              "interactive(children=(IntSlider(value=10, description='tempo', max=20, min=1), Button(description='Run Interac…"
            ]
          },
          "metadata": {}
        }
      ]
    },
    {
      "cell_type": "markdown",
      "source": [
        "La funzione kdeplot della libreria seaborn cerca di approssimare un modello partendo da un set di dati e passandole il nostro insieme di \"orari di arrivo dell'autobus\", questo è il modello che immagina:"
      ],
      "metadata": {
        "id": "YF0hdGTaEuUq"
      }
    },
    {
      "cell_type": "code",
      "source": [
        "@interact_manual(tempo=(1, 20))\n",
        "def cont_unif(tempo = 10):\n",
        "  results = []\n",
        "  for i in range(precisione):\n",
        "    results.append(random.uniform(0, tempo))\n",
        "  sns.kdeplot(results,shade=True) "
      ],
      "metadata": {
        "id": "0jzeXNlBHF0x",
        "colab": {
          "base_uri": "https://localhost:8080/",
          "height": 329,
          "referenced_widgets": [
            "0c842089949c41fabd41b296d3d35002",
            "41ed63eb700a4ccab9ab2f2ce788a8d1",
            "2ca4172ec3b14862a58469d9de23363e",
            "a226edd6c4c149f58722b55697a11a67",
            "d859a7cea3e4418ba95955a52b106169",
            "f43e206debf24bdbab09c2977f23e39e",
            "257127809dd145efa000d37e52322f6f",
            "3cc278f0eba7450c9b9f2378bad604ca",
            "4b6ad4022ce24b1bb0804bcbb0509d01",
            "0144acec6a9d44ffa600621ffacbabf8"
          ]
        },
        "outputId": "695ef748-02dc-45ac-e392-845a7b7ec729"
      },
      "execution_count": 8,
      "outputs": [
        {
          "output_type": "display_data",
          "data": {
            "application/vnd.jupyter.widget-view+json": {
              "model_id": "0c842089949c41fabd41b296d3d35002",
              "version_minor": 0,
              "version_major": 2
            },
            "text/plain": [
              "interactive(children=(IntSlider(value=10, description='tempo', max=20, min=1), Button(description='Run Interac…"
            ]
          },
          "metadata": {}
        }
      ]
    },
    {
      "cell_type": "code",
      "source": [
        "@interact_manual(tempo=(0, 20))\n",
        "def dcu_plot(tempo = 10):\n",
        "  points = 100\n",
        "  results = []\n",
        "  for i in range(precisione):\n",
        "    results.append(random.uniform(0, tempo))\n",
        "  \n",
        "  x = np.linspace(-1, tempo+1, points)\n",
        "\n",
        "  coord = []\n",
        "  for i in range(points):\n",
        "    count = 0\n",
        "    for item in results:\n",
        "      if (item > -1 + (((tempo+2)/points)*i) and item <= -1 + (((tempo+2)/points)*(i+1))):\n",
        "        count = count + 1\n",
        "    coord.append((count / precisione) * (points / (tempo + 2)) * 100)\n",
        "  \n",
        "  a = plt.figure(1)\n",
        "  ax = plt.axes()\n",
        "  ax.plot(x, coord)\n",
        "  ax.set_title(\"Densità\")\n",
        "  a.show()"
      ],
      "metadata": {
        "colab": {
          "base_uri": "https://localhost:8080/",
          "height": 345,
          "referenced_widgets": [
            "76a09cd00f444cf39f08d8dfd164d3d4",
            "7be98f73229a41df95090c5dbf0fd8a2",
            "4d7231f2a51745cf88b5435fcab71167",
            "167619a127e84e788086cb24bdc5d6de",
            "4f899610f26c4b80ab11d4519a14d289",
            "85596ee26417412a9cb2547e52557d16",
            "cb9231a67ea24220b6d8400dc082e2ac",
            "cc8a648c73a84583892df021bce7bb93",
            "e443cec7f67a4c999c03aefd54c8f023",
            "52c04201e768488baa90548ddc1dbf53"
          ]
        },
        "id": "E_CdpJ9ENKE3",
        "outputId": "3043c117-d058-415d-b213-d8c8f6b0c477"
      },
      "execution_count": 6,
      "outputs": [
        {
          "output_type": "display_data",
          "data": {
            "application/vnd.jupyter.widget-view+json": {
              "model_id": "76a09cd00f444cf39f08d8dfd164d3d4",
              "version_minor": 0,
              "version_major": 2
            },
            "text/plain": [
              "interactive(children=(IntSlider(value=10, description='tempo', max=20), Button(description='Run Interact', sty…"
            ]
          },
          "metadata": {}
        }
      ]
    },
    {
      "cell_type": "code",
      "source": [
        ""
      ],
      "metadata": {
        "id": "ASRqviTIbeDC"
      },
      "execution_count": null,
      "outputs": []
    }
  ]
}