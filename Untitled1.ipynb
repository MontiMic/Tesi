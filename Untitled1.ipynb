{
  "nbformat": 4,
  "nbformat_minor": 0,
  "metadata": {
    "colab": {
      "name": "Untitled1.ipynb",
      "provenance": [],
      "toc_visible": true,
      "collapsed_sections": [],
      "authorship_tag": "ABX9TyNW/2v0v/hXU6LF9ZcGtItP",
      "include_colab_link": true
    },
    "kernelspec": {
      "name": "python3",
      "display_name": "Python 3"
    },
    "language_info": {
      "name": "python"
    },
    "widgets": {
      "application/vnd.jupyter.widget-state+json": {
        "247c2a04903f41a6b29424e1be9dd605": {
          "model_module": "@jupyter-widgets/controls",
          "model_name": "VBoxModel",
          "model_module_version": "1.5.0",
          "state": {
            "_view_name": "VBoxView",
            "_dom_classes": [
              "widget-interact"
            ],
            "_model_name": "VBoxModel",
            "_view_module": "@jupyter-widgets/controls",
            "_model_module_version": "1.5.0",
            "_view_count": null,
            "_view_module_version": "1.5.0",
            "box_style": "",
            "layout": "IPY_MODEL_e6a1714b501e48439873c7a5a7b693fe",
            "_model_module": "@jupyter-widgets/controls",
            "children": [
              "IPY_MODEL_3c9cbd83a4d9417db73dce365da841a8",
              "IPY_MODEL_d2cf367098b04bd39635088f065cb1fe",
              "IPY_MODEL_aed70e712df0477a948f60efc650bf6c"
            ]
          }
        },
        "e6a1714b501e48439873c7a5a7b693fe": {
          "model_module": "@jupyter-widgets/base",
          "model_name": "LayoutModel",
          "model_module_version": "1.2.0",
          "state": {
            "_view_name": "LayoutView",
            "grid_template_rows": null,
            "right": null,
            "justify_content": null,
            "_view_module": "@jupyter-widgets/base",
            "overflow": null,
            "_model_module_version": "1.2.0",
            "_view_count": null,
            "flex_flow": null,
            "width": null,
            "min_width": null,
            "border": null,
            "align_items": null,
            "bottom": null,
            "_model_module": "@jupyter-widgets/base",
            "top": null,
            "grid_column": null,
            "overflow_y": null,
            "overflow_x": null,
            "grid_auto_flow": null,
            "grid_area": null,
            "grid_template_columns": null,
            "flex": null,
            "_model_name": "LayoutModel",
            "justify_items": null,
            "grid_row": null,
            "max_height": null,
            "align_content": null,
            "visibility": null,
            "align_self": null,
            "height": null,
            "min_height": null,
            "padding": null,
            "grid_auto_rows": null,
            "grid_gap": null,
            "max_width": null,
            "order": null,
            "_view_module_version": "1.2.0",
            "grid_template_areas": null,
            "object_position": null,
            "object_fit": null,
            "grid_auto_columns": null,
            "margin": null,
            "display": null,
            "left": null
          }
        },
        "3c9cbd83a4d9417db73dce365da841a8": {
          "model_module": "@jupyter-widgets/controls",
          "model_name": "IntSliderModel",
          "model_module_version": "1.5.0",
          "state": {
            "_view_name": "IntSliderView",
            "style": "IPY_MODEL_9758eb3f6b6942b6a6a913a0223b26fc",
            "_dom_classes": [],
            "description": "vincita",
            "step": 1,
            "_model_name": "IntSliderModel",
            "orientation": "horizontal",
            "max": 30,
            "_view_module": "@jupyter-widgets/controls",
            "_model_module_version": "1.5.0",
            "value": 5,
            "_view_count": null,
            "disabled": false,
            "_view_module_version": "1.5.0",
            "min": 0,
            "continuous_update": true,
            "readout_format": "d",
            "description_tooltip": null,
            "readout": true,
            "_model_module": "@jupyter-widgets/controls",
            "layout": "IPY_MODEL_0d0218c515f846898b7f60c9877a26de"
          }
        },
        "d2cf367098b04bd39635088f065cb1fe": {
          "model_module": "@jupyter-widgets/controls",
          "model_name": "ButtonModel",
          "model_module_version": "1.5.0",
          "state": {
            "_view_name": "ButtonView",
            "style": "IPY_MODEL_8982e91928564faab52a261e296d0b36",
            "_dom_classes": [],
            "description": "Run Interact",
            "_model_name": "ButtonModel",
            "button_style": "",
            "_view_module": "@jupyter-widgets/controls",
            "_model_module_version": "1.5.0",
            "tooltip": "",
            "_view_count": null,
            "disabled": false,
            "_view_module_version": "1.5.0",
            "layout": "IPY_MODEL_ed518c50cbad4e18b9079364b7857fe7",
            "_model_module": "@jupyter-widgets/controls",
            "icon": ""
          }
        },
        "aed70e712df0477a948f60efc650bf6c": {
          "model_module": "@jupyter-widgets/output",
          "model_name": "OutputModel",
          "model_module_version": "1.0.0",
          "state": {
            "_view_name": "OutputView",
            "msg_id": "",
            "_dom_classes": [],
            "_model_name": "OutputModel",
            "outputs": [
              {
                "output_type": "display_data",
                "data": {
                  "text/plain": "0.478"
                },
                "metadata": {}
              }
            ],
            "_view_module": "@jupyter-widgets/output",
            "_model_module_version": "1.0.0",
            "_view_count": null,
            "_view_module_version": "1.0.0",
            "layout": "IPY_MODEL_96607398cd294dd6973bcaa6cbd1e333",
            "_model_module": "@jupyter-widgets/output"
          }
        },
        "9758eb3f6b6942b6a6a913a0223b26fc": {
          "model_module": "@jupyter-widgets/controls",
          "model_name": "SliderStyleModel",
          "model_module_version": "1.5.0",
          "state": {
            "_view_name": "StyleView",
            "handle_color": null,
            "_model_name": "SliderStyleModel",
            "description_width": "",
            "_view_module": "@jupyter-widgets/base",
            "_model_module_version": "1.5.0",
            "_view_count": null,
            "_view_module_version": "1.2.0",
            "_model_module": "@jupyter-widgets/controls"
          }
        },
        "0d0218c515f846898b7f60c9877a26de": {
          "model_module": "@jupyter-widgets/base",
          "model_name": "LayoutModel",
          "model_module_version": "1.2.0",
          "state": {
            "_view_name": "LayoutView",
            "grid_template_rows": null,
            "right": null,
            "justify_content": null,
            "_view_module": "@jupyter-widgets/base",
            "overflow": null,
            "_model_module_version": "1.2.0",
            "_view_count": null,
            "flex_flow": null,
            "width": null,
            "min_width": null,
            "border": null,
            "align_items": null,
            "bottom": null,
            "_model_module": "@jupyter-widgets/base",
            "top": null,
            "grid_column": null,
            "overflow_y": null,
            "overflow_x": null,
            "grid_auto_flow": null,
            "grid_area": null,
            "grid_template_columns": null,
            "flex": null,
            "_model_name": "LayoutModel",
            "justify_items": null,
            "grid_row": null,
            "max_height": null,
            "align_content": null,
            "visibility": null,
            "align_self": null,
            "height": null,
            "min_height": null,
            "padding": null,
            "grid_auto_rows": null,
            "grid_gap": null,
            "max_width": null,
            "order": null,
            "_view_module_version": "1.2.0",
            "grid_template_areas": null,
            "object_position": null,
            "object_fit": null,
            "grid_auto_columns": null,
            "margin": null,
            "display": null,
            "left": null
          }
        },
        "8982e91928564faab52a261e296d0b36": {
          "model_module": "@jupyter-widgets/controls",
          "model_name": "ButtonStyleModel",
          "model_module_version": "1.5.0",
          "state": {
            "_view_name": "StyleView",
            "_model_name": "ButtonStyleModel",
            "_view_module": "@jupyter-widgets/base",
            "_model_module_version": "1.5.0",
            "_view_count": null,
            "button_color": null,
            "font_weight": "",
            "_view_module_version": "1.2.0",
            "_model_module": "@jupyter-widgets/controls"
          }
        },
        "ed518c50cbad4e18b9079364b7857fe7": {
          "model_module": "@jupyter-widgets/base",
          "model_name": "LayoutModel",
          "model_module_version": "1.2.0",
          "state": {
            "_view_name": "LayoutView",
            "grid_template_rows": null,
            "right": null,
            "justify_content": null,
            "_view_module": "@jupyter-widgets/base",
            "overflow": null,
            "_model_module_version": "1.2.0",
            "_view_count": null,
            "flex_flow": null,
            "width": null,
            "min_width": null,
            "border": null,
            "align_items": null,
            "bottom": null,
            "_model_module": "@jupyter-widgets/base",
            "top": null,
            "grid_column": null,
            "overflow_y": null,
            "overflow_x": null,
            "grid_auto_flow": null,
            "grid_area": null,
            "grid_template_columns": null,
            "flex": null,
            "_model_name": "LayoutModel",
            "justify_items": null,
            "grid_row": null,
            "max_height": null,
            "align_content": null,
            "visibility": null,
            "align_self": null,
            "height": null,
            "min_height": null,
            "padding": null,
            "grid_auto_rows": null,
            "grid_gap": null,
            "max_width": null,
            "order": null,
            "_view_module_version": "1.2.0",
            "grid_template_areas": null,
            "object_position": null,
            "object_fit": null,
            "grid_auto_columns": null,
            "margin": null,
            "display": null,
            "left": null
          }
        },
        "96607398cd294dd6973bcaa6cbd1e333": {
          "model_module": "@jupyter-widgets/base",
          "model_name": "LayoutModel",
          "model_module_version": "1.2.0",
          "state": {
            "_view_name": "LayoutView",
            "grid_template_rows": null,
            "right": null,
            "justify_content": null,
            "_view_module": "@jupyter-widgets/base",
            "overflow": null,
            "_model_module_version": "1.2.0",
            "_view_count": null,
            "flex_flow": null,
            "width": null,
            "min_width": null,
            "border": null,
            "align_items": null,
            "bottom": null,
            "_model_module": "@jupyter-widgets/base",
            "top": null,
            "grid_column": null,
            "overflow_y": null,
            "overflow_x": null,
            "grid_auto_flow": null,
            "grid_area": null,
            "grid_template_columns": null,
            "flex": null,
            "_model_name": "LayoutModel",
            "justify_items": null,
            "grid_row": null,
            "max_height": null,
            "align_content": null,
            "visibility": null,
            "align_self": null,
            "height": null,
            "min_height": null,
            "padding": null,
            "grid_auto_rows": null,
            "grid_gap": null,
            "max_width": null,
            "order": null,
            "_view_module_version": "1.2.0",
            "grid_template_areas": null,
            "object_position": null,
            "object_fit": null,
            "grid_auto_columns": null,
            "margin": null,
            "display": null,
            "left": null
          }
        },
        "3a90e80b23ea42cc8a848fd12dc192f5": {
          "model_module": "@jupyter-widgets/controls",
          "model_name": "VBoxModel",
          "model_module_version": "1.5.0",
          "state": {
            "_view_name": "VBoxView",
            "_dom_classes": [
              "widget-interact"
            ],
            "_model_name": "VBoxModel",
            "_view_module": "@jupyter-widgets/controls",
            "_model_module_version": "1.5.0",
            "_view_count": null,
            "_view_module_version": "1.5.0",
            "box_style": "",
            "layout": "IPY_MODEL_85425d1b84894b438dfee9dcd09b4b8c",
            "_model_module": "@jupyter-widgets/controls",
            "children": [
              "IPY_MODEL_990795103c12488f91cddfe5108b72f6",
              "IPY_MODEL_448e791196404c149016d6b60b59897e",
              "IPY_MODEL_570ce8a63d7d4384b085c8e63dc5dcc5",
              "IPY_MODEL_b721ef7134934b76b40415eddcef7384"
            ]
          }
        },
        "85425d1b84894b438dfee9dcd09b4b8c": {
          "model_module": "@jupyter-widgets/base",
          "model_name": "LayoutModel",
          "model_module_version": "1.2.0",
          "state": {
            "_view_name": "LayoutView",
            "grid_template_rows": null,
            "right": null,
            "justify_content": null,
            "_view_module": "@jupyter-widgets/base",
            "overflow": null,
            "_model_module_version": "1.2.0",
            "_view_count": null,
            "flex_flow": null,
            "width": null,
            "min_width": null,
            "border": null,
            "align_items": null,
            "bottom": null,
            "_model_module": "@jupyter-widgets/base",
            "top": null,
            "grid_column": null,
            "overflow_y": null,
            "overflow_x": null,
            "grid_auto_flow": null,
            "grid_area": null,
            "grid_template_columns": null,
            "flex": null,
            "_model_name": "LayoutModel",
            "justify_items": null,
            "grid_row": null,
            "max_height": null,
            "align_content": null,
            "visibility": null,
            "align_self": null,
            "height": null,
            "min_height": null,
            "padding": null,
            "grid_auto_rows": null,
            "grid_gap": null,
            "max_width": null,
            "order": null,
            "_view_module_version": "1.2.0",
            "grid_template_areas": null,
            "object_position": null,
            "object_fit": null,
            "grid_auto_columns": null,
            "margin": null,
            "display": null,
            "left": null
          }
        },
        "990795103c12488f91cddfe5108b72f6": {
          "model_module": "@jupyter-widgets/controls",
          "model_name": "IntSliderModel",
          "model_module_version": "1.5.0",
          "state": {
            "_view_name": "IntSliderView",
            "style": "IPY_MODEL_53f83c3975244ee4b3d427fc7d4bb7b5",
            "_dom_classes": [],
            "description": "giocate",
            "step": 1,
            "_model_name": "IntSliderModel",
            "orientation": "horizontal",
            "max": 10,
            "_view_module": "@jupyter-widgets/controls",
            "_model_module_version": "1.5.0",
            "value": 3,
            "_view_count": null,
            "disabled": false,
            "_view_module_version": "1.5.0",
            "min": 1,
            "continuous_update": true,
            "readout_format": "d",
            "description_tooltip": null,
            "readout": true,
            "_model_module": "@jupyter-widgets/controls",
            "layout": "IPY_MODEL_f89db45d07424192bbc687f58ca8e068"
          }
        },
        "448e791196404c149016d6b60b59897e": {
          "model_module": "@jupyter-widgets/controls",
          "model_name": "IntSliderModel",
          "model_module_version": "1.5.0",
          "state": {
            "_view_name": "IntSliderView",
            "style": "IPY_MODEL_8999351fbf3140fda05b988b155759f0",
            "_dom_classes": [],
            "description": "puntata",
            "step": 5,
            "_model_name": "IntSliderModel",
            "orientation": "horizontal",
            "max": 100,
            "_view_module": "@jupyter-widgets/controls",
            "_model_module_version": "1.5.0",
            "value": 10,
            "_view_count": null,
            "disabled": false,
            "_view_module_version": "1.5.0",
            "min": 5,
            "continuous_update": true,
            "readout_format": "d",
            "description_tooltip": null,
            "readout": true,
            "_model_module": "@jupyter-widgets/controls",
            "layout": "IPY_MODEL_2cf32e59b7f343a8b79b88dc5f7369a8"
          }
        },
        "570ce8a63d7d4384b085c8e63dc5dcc5": {
          "model_module": "@jupyter-widgets/controls",
          "model_name": "ButtonModel",
          "model_module_version": "1.5.0",
          "state": {
            "_view_name": "ButtonView",
            "style": "IPY_MODEL_4a083c0953dd4d9e83589181bdc87f04",
            "_dom_classes": [],
            "description": "Run Interact",
            "_model_name": "ButtonModel",
            "button_style": "",
            "_view_module": "@jupyter-widgets/controls",
            "_model_module_version": "1.5.0",
            "tooltip": "",
            "_view_count": null,
            "disabled": false,
            "_view_module_version": "1.5.0",
            "layout": "IPY_MODEL_c2cb086f48cc4578ab551cdb56340446",
            "_model_module": "@jupyter-widgets/controls",
            "icon": ""
          }
        },
        "b721ef7134934b76b40415eddcef7384": {
          "model_module": "@jupyter-widgets/output",
          "model_name": "OutputModel",
          "model_module_version": "1.0.0",
          "state": {
            "_view_name": "OutputView",
            "msg_id": "",
            "_dom_classes": [],
            "_model_name": "OutputModel",
            "outputs": [
              {
                "output_type": "display_data",
                "data": {
                  "text/plain": "-0.8"
                },
                "metadata": {}
              }
            ],
            "_view_module": "@jupyter-widgets/output",
            "_model_module_version": "1.0.0",
            "_view_count": null,
            "_view_module_version": "1.0.0",
            "layout": "IPY_MODEL_54dc6a11862d4e4cb92b8b8ed26e8b45",
            "_model_module": "@jupyter-widgets/output"
          }
        },
        "53f83c3975244ee4b3d427fc7d4bb7b5": {
          "model_module": "@jupyter-widgets/controls",
          "model_name": "SliderStyleModel",
          "model_module_version": "1.5.0",
          "state": {
            "_view_name": "StyleView",
            "handle_color": null,
            "_model_name": "SliderStyleModel",
            "description_width": "",
            "_view_module": "@jupyter-widgets/base",
            "_model_module_version": "1.5.0",
            "_view_count": null,
            "_view_module_version": "1.2.0",
            "_model_module": "@jupyter-widgets/controls"
          }
        },
        "f89db45d07424192bbc687f58ca8e068": {
          "model_module": "@jupyter-widgets/base",
          "model_name": "LayoutModel",
          "model_module_version": "1.2.0",
          "state": {
            "_view_name": "LayoutView",
            "grid_template_rows": null,
            "right": null,
            "justify_content": null,
            "_view_module": "@jupyter-widgets/base",
            "overflow": null,
            "_model_module_version": "1.2.0",
            "_view_count": null,
            "flex_flow": null,
            "width": null,
            "min_width": null,
            "border": null,
            "align_items": null,
            "bottom": null,
            "_model_module": "@jupyter-widgets/base",
            "top": null,
            "grid_column": null,
            "overflow_y": null,
            "overflow_x": null,
            "grid_auto_flow": null,
            "grid_area": null,
            "grid_template_columns": null,
            "flex": null,
            "_model_name": "LayoutModel",
            "justify_items": null,
            "grid_row": null,
            "max_height": null,
            "align_content": null,
            "visibility": null,
            "align_self": null,
            "height": null,
            "min_height": null,
            "padding": null,
            "grid_auto_rows": null,
            "grid_gap": null,
            "max_width": null,
            "order": null,
            "_view_module_version": "1.2.0",
            "grid_template_areas": null,
            "object_position": null,
            "object_fit": null,
            "grid_auto_columns": null,
            "margin": null,
            "display": null,
            "left": null
          }
        },
        "8999351fbf3140fda05b988b155759f0": {
          "model_module": "@jupyter-widgets/controls",
          "model_name": "SliderStyleModel",
          "model_module_version": "1.5.0",
          "state": {
            "_view_name": "StyleView",
            "handle_color": null,
            "_model_name": "SliderStyleModel",
            "description_width": "",
            "_view_module": "@jupyter-widgets/base",
            "_model_module_version": "1.5.0",
            "_view_count": null,
            "_view_module_version": "1.2.0",
            "_model_module": "@jupyter-widgets/controls"
          }
        },
        "2cf32e59b7f343a8b79b88dc5f7369a8": {
          "model_module": "@jupyter-widgets/base",
          "model_name": "LayoutModel",
          "model_module_version": "1.2.0",
          "state": {
            "_view_name": "LayoutView",
            "grid_template_rows": null,
            "right": null,
            "justify_content": null,
            "_view_module": "@jupyter-widgets/base",
            "overflow": null,
            "_model_module_version": "1.2.0",
            "_view_count": null,
            "flex_flow": null,
            "width": null,
            "min_width": null,
            "border": null,
            "align_items": null,
            "bottom": null,
            "_model_module": "@jupyter-widgets/base",
            "top": null,
            "grid_column": null,
            "overflow_y": null,
            "overflow_x": null,
            "grid_auto_flow": null,
            "grid_area": null,
            "grid_template_columns": null,
            "flex": null,
            "_model_name": "LayoutModel",
            "justify_items": null,
            "grid_row": null,
            "max_height": null,
            "align_content": null,
            "visibility": null,
            "align_self": null,
            "height": null,
            "min_height": null,
            "padding": null,
            "grid_auto_rows": null,
            "grid_gap": null,
            "max_width": null,
            "order": null,
            "_view_module_version": "1.2.0",
            "grid_template_areas": null,
            "object_position": null,
            "object_fit": null,
            "grid_auto_columns": null,
            "margin": null,
            "display": null,
            "left": null
          }
        },
        "4a083c0953dd4d9e83589181bdc87f04": {
          "model_module": "@jupyter-widgets/controls",
          "model_name": "ButtonStyleModel",
          "model_module_version": "1.5.0",
          "state": {
            "_view_name": "StyleView",
            "_model_name": "ButtonStyleModel",
            "_view_module": "@jupyter-widgets/base",
            "_model_module_version": "1.5.0",
            "_view_count": null,
            "button_color": null,
            "font_weight": "",
            "_view_module_version": "1.2.0",
            "_model_module": "@jupyter-widgets/controls"
          }
        },
        "c2cb086f48cc4578ab551cdb56340446": {
          "model_module": "@jupyter-widgets/base",
          "model_name": "LayoutModel",
          "model_module_version": "1.2.0",
          "state": {
            "_view_name": "LayoutView",
            "grid_template_rows": null,
            "right": null,
            "justify_content": null,
            "_view_module": "@jupyter-widgets/base",
            "overflow": null,
            "_model_module_version": "1.2.0",
            "_view_count": null,
            "flex_flow": null,
            "width": null,
            "min_width": null,
            "border": null,
            "align_items": null,
            "bottom": null,
            "_model_module": "@jupyter-widgets/base",
            "top": null,
            "grid_column": null,
            "overflow_y": null,
            "overflow_x": null,
            "grid_auto_flow": null,
            "grid_area": null,
            "grid_template_columns": null,
            "flex": null,
            "_model_name": "LayoutModel",
            "justify_items": null,
            "grid_row": null,
            "max_height": null,
            "align_content": null,
            "visibility": null,
            "align_self": null,
            "height": null,
            "min_height": null,
            "padding": null,
            "grid_auto_rows": null,
            "grid_gap": null,
            "max_width": null,
            "order": null,
            "_view_module_version": "1.2.0",
            "grid_template_areas": null,
            "object_position": null,
            "object_fit": null,
            "grid_auto_columns": null,
            "margin": null,
            "display": null,
            "left": null
          }
        },
        "54dc6a11862d4e4cb92b8b8ed26e8b45": {
          "model_module": "@jupyter-widgets/base",
          "model_name": "LayoutModel",
          "model_module_version": "1.2.0",
          "state": {
            "_view_name": "LayoutView",
            "grid_template_rows": null,
            "right": null,
            "justify_content": null,
            "_view_module": "@jupyter-widgets/base",
            "overflow": null,
            "_model_module_version": "1.2.0",
            "_view_count": null,
            "flex_flow": null,
            "width": null,
            "min_width": null,
            "border": null,
            "align_items": null,
            "bottom": null,
            "_model_module": "@jupyter-widgets/base",
            "top": null,
            "grid_column": null,
            "overflow_y": null,
            "overflow_x": null,
            "grid_auto_flow": null,
            "grid_area": null,
            "grid_template_columns": null,
            "flex": null,
            "_model_name": "LayoutModel",
            "justify_items": null,
            "grid_row": null,
            "max_height": null,
            "align_content": null,
            "visibility": null,
            "align_self": null,
            "height": null,
            "min_height": null,
            "padding": null,
            "grid_auto_rows": null,
            "grid_gap": null,
            "max_width": null,
            "order": null,
            "_view_module_version": "1.2.0",
            "grid_template_areas": null,
            "object_position": null,
            "object_fit": null,
            "grid_auto_columns": null,
            "margin": null,
            "display": null,
            "left": null
          }
        },
        "b1ab40ec477149d2b9f97c1cef26f57e": {
          "model_module": "@jupyter-widgets/controls",
          "model_name": "VBoxModel",
          "model_module_version": "1.5.0",
          "state": {
            "_view_name": "VBoxView",
            "_dom_classes": [
              "widget-interact"
            ],
            "_model_name": "VBoxModel",
            "_view_module": "@jupyter-widgets/controls",
            "_model_module_version": "1.5.0",
            "_view_count": null,
            "_view_module_version": "1.5.0",
            "box_style": "",
            "layout": "IPY_MODEL_dceee5ccc49041d5a63f1e7f4584da70",
            "_model_module": "@jupyter-widgets/controls",
            "children": [
              "IPY_MODEL_9e6fad0b6fb546c39072f2cc3bb41e67",
              "IPY_MODEL_7da7271a9731485f8dec2d7fc038d673",
              "IPY_MODEL_f93f57ab651b43bf9efb41fda67e788e",
              "IPY_MODEL_d4a85633302143e7a8e1a589272e5820"
            ]
          }
        },
        "dceee5ccc49041d5a63f1e7f4584da70": {
          "model_module": "@jupyter-widgets/base",
          "model_name": "LayoutModel",
          "model_module_version": "1.2.0",
          "state": {
            "_view_name": "LayoutView",
            "grid_template_rows": null,
            "right": null,
            "justify_content": null,
            "_view_module": "@jupyter-widgets/base",
            "overflow": null,
            "_model_module_version": "1.2.0",
            "_view_count": null,
            "flex_flow": null,
            "width": null,
            "min_width": null,
            "border": null,
            "align_items": null,
            "bottom": null,
            "_model_module": "@jupyter-widgets/base",
            "top": null,
            "grid_column": null,
            "overflow_y": null,
            "overflow_x": null,
            "grid_auto_flow": null,
            "grid_area": null,
            "grid_template_columns": null,
            "flex": null,
            "_model_name": "LayoutModel",
            "justify_items": null,
            "grid_row": null,
            "max_height": null,
            "align_content": null,
            "visibility": null,
            "align_self": null,
            "height": null,
            "min_height": null,
            "padding": null,
            "grid_auto_rows": null,
            "grid_gap": null,
            "max_width": null,
            "order": null,
            "_view_module_version": "1.2.0",
            "grid_template_areas": null,
            "object_position": null,
            "object_fit": null,
            "grid_auto_columns": null,
            "margin": null,
            "display": null,
            "left": null
          }
        },
        "9e6fad0b6fb546c39072f2cc3bb41e67": {
          "model_module": "@jupyter-widgets/controls",
          "model_name": "IntSliderModel",
          "model_module_version": "1.5.0",
          "state": {
            "_view_name": "IntSliderView",
            "style": "IPY_MODEL_cd662f78bce548a8b9a34abfcd5c0746",
            "_dom_classes": [],
            "description": "giocate",
            "step": 1,
            "_model_name": "IntSliderModel",
            "orientation": "horizontal",
            "max": 6,
            "_view_module": "@jupyter-widgets/controls",
            "_model_module_version": "1.5.0",
            "value": 3,
            "_view_count": null,
            "disabled": false,
            "_view_module_version": "1.5.0",
            "min": 1,
            "continuous_update": true,
            "readout_format": "d",
            "description_tooltip": null,
            "readout": true,
            "_model_module": "@jupyter-widgets/controls",
            "layout": "IPY_MODEL_b402668a357f4311be277e66c0ab50bb"
          }
        },
        "7da7271a9731485f8dec2d7fc038d673": {
          "model_module": "@jupyter-widgets/controls",
          "model_name": "IntSliderModel",
          "model_module_version": "1.5.0",
          "state": {
            "_view_name": "IntSliderView",
            "style": "IPY_MODEL_cc067b57793f4ca58bb9d3392e20f230",
            "_dom_classes": [],
            "description": "puntata",
            "step": 5,
            "_model_name": "IntSliderModel",
            "orientation": "horizontal",
            "max": 100,
            "_view_module": "@jupyter-widgets/controls",
            "_model_module_version": "1.5.0",
            "value": 5,
            "_view_count": null,
            "disabled": false,
            "_view_module_version": "1.5.0",
            "min": 5,
            "continuous_update": true,
            "readout_format": "d",
            "description_tooltip": null,
            "readout": true,
            "_model_module": "@jupyter-widgets/controls",
            "layout": "IPY_MODEL_98172b4b9e2f42909b385f7e44bd349f"
          }
        },
        "f93f57ab651b43bf9efb41fda67e788e": {
          "model_module": "@jupyter-widgets/controls",
          "model_name": "ButtonModel",
          "model_module_version": "1.5.0",
          "state": {
            "_view_name": "ButtonView",
            "style": "IPY_MODEL_81fcffb606f045ae9e9cd5b13220006e",
            "_dom_classes": [],
            "description": "Run Interact",
            "_model_name": "ButtonModel",
            "button_style": "",
            "_view_module": "@jupyter-widgets/controls",
            "_model_module_version": "1.5.0",
            "tooltip": "",
            "_view_count": null,
            "disabled": false,
            "_view_module_version": "1.5.0",
            "layout": "IPY_MODEL_0c83b578a5094af692d74e958f2550b2",
            "_model_module": "@jupyter-widgets/controls",
            "icon": ""
          }
        },
        "d4a85633302143e7a8e1a589272e5820": {
          "model_module": "@jupyter-widgets/output",
          "model_name": "OutputModel",
          "model_module_version": "1.0.0",
          "state": {
            "_view_name": "OutputView",
            "msg_id": "",
            "_dom_classes": [],
            "_model_name": "OutputModel",
            "outputs": [
              {
                "output_type": "display_data",
                "data": {
                  "image/png": "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\n",
                  "text/plain": "<Figure size 432x288 with 1 Axes>"
                },
                "metadata": {}
              }
            ],
            "_view_module": "@jupyter-widgets/output",
            "_model_module_version": "1.0.0",
            "_view_count": null,
            "_view_module_version": "1.0.0",
            "layout": "IPY_MODEL_78d2d466a3c4421faec490b12ab2f6a5",
            "_model_module": "@jupyter-widgets/output"
          }
        },
        "cd662f78bce548a8b9a34abfcd5c0746": {
          "model_module": "@jupyter-widgets/controls",
          "model_name": "SliderStyleModel",
          "model_module_version": "1.5.0",
          "state": {
            "_view_name": "StyleView",
            "handle_color": null,
            "_model_name": "SliderStyleModel",
            "description_width": "",
            "_view_module": "@jupyter-widgets/base",
            "_model_module_version": "1.5.0",
            "_view_count": null,
            "_view_module_version": "1.2.0",
            "_model_module": "@jupyter-widgets/controls"
          }
        },
        "b402668a357f4311be277e66c0ab50bb": {
          "model_module": "@jupyter-widgets/base",
          "model_name": "LayoutModel",
          "model_module_version": "1.2.0",
          "state": {
            "_view_name": "LayoutView",
            "grid_template_rows": null,
            "right": null,
            "justify_content": null,
            "_view_module": "@jupyter-widgets/base",
            "overflow": null,
            "_model_module_version": "1.2.0",
            "_view_count": null,
            "flex_flow": null,
            "width": null,
            "min_width": null,
            "border": null,
            "align_items": null,
            "bottom": null,
            "_model_module": "@jupyter-widgets/base",
            "top": null,
            "grid_column": null,
            "overflow_y": null,
            "overflow_x": null,
            "grid_auto_flow": null,
            "grid_area": null,
            "grid_template_columns": null,
            "flex": null,
            "_model_name": "LayoutModel",
            "justify_items": null,
            "grid_row": null,
            "max_height": null,
            "align_content": null,
            "visibility": null,
            "align_self": null,
            "height": null,
            "min_height": null,
            "padding": null,
            "grid_auto_rows": null,
            "grid_gap": null,
            "max_width": null,
            "order": null,
            "_view_module_version": "1.2.0",
            "grid_template_areas": null,
            "object_position": null,
            "object_fit": null,
            "grid_auto_columns": null,
            "margin": null,
            "display": null,
            "left": null
          }
        },
        "cc067b57793f4ca58bb9d3392e20f230": {
          "model_module": "@jupyter-widgets/controls",
          "model_name": "SliderStyleModel",
          "model_module_version": "1.5.0",
          "state": {
            "_view_name": "StyleView",
            "handle_color": null,
            "_model_name": "SliderStyleModel",
            "description_width": "",
            "_view_module": "@jupyter-widgets/base",
            "_model_module_version": "1.5.0",
            "_view_count": null,
            "_view_module_version": "1.2.0",
            "_model_module": "@jupyter-widgets/controls"
          }
        },
        "98172b4b9e2f42909b385f7e44bd349f": {
          "model_module": "@jupyter-widgets/base",
          "model_name": "LayoutModel",
          "model_module_version": "1.2.0",
          "state": {
            "_view_name": "LayoutView",
            "grid_template_rows": null,
            "right": null,
            "justify_content": null,
            "_view_module": "@jupyter-widgets/base",
            "overflow": null,
            "_model_module_version": "1.2.0",
            "_view_count": null,
            "flex_flow": null,
            "width": null,
            "min_width": null,
            "border": null,
            "align_items": null,
            "bottom": null,
            "_model_module": "@jupyter-widgets/base",
            "top": null,
            "grid_column": null,
            "overflow_y": null,
            "overflow_x": null,
            "grid_auto_flow": null,
            "grid_area": null,
            "grid_template_columns": null,
            "flex": null,
            "_model_name": "LayoutModel",
            "justify_items": null,
            "grid_row": null,
            "max_height": null,
            "align_content": null,
            "visibility": null,
            "align_self": null,
            "height": null,
            "min_height": null,
            "padding": null,
            "grid_auto_rows": null,
            "grid_gap": null,
            "max_width": null,
            "order": null,
            "_view_module_version": "1.2.0",
            "grid_template_areas": null,
            "object_position": null,
            "object_fit": null,
            "grid_auto_columns": null,
            "margin": null,
            "display": null,
            "left": null
          }
        },
        "81fcffb606f045ae9e9cd5b13220006e": {
          "model_module": "@jupyter-widgets/controls",
          "model_name": "ButtonStyleModel",
          "model_module_version": "1.5.0",
          "state": {
            "_view_name": "StyleView",
            "_model_name": "ButtonStyleModel",
            "_view_module": "@jupyter-widgets/base",
            "_model_module_version": "1.5.0",
            "_view_count": null,
            "button_color": null,
            "font_weight": "",
            "_view_module_version": "1.2.0",
            "_model_module": "@jupyter-widgets/controls"
          }
        },
        "0c83b578a5094af692d74e958f2550b2": {
          "model_module": "@jupyter-widgets/base",
          "model_name": "LayoutModel",
          "model_module_version": "1.2.0",
          "state": {
            "_view_name": "LayoutView",
            "grid_template_rows": null,
            "right": null,
            "justify_content": null,
            "_view_module": "@jupyter-widgets/base",
            "overflow": null,
            "_model_module_version": "1.2.0",
            "_view_count": null,
            "flex_flow": null,
            "width": null,
            "min_width": null,
            "border": null,
            "align_items": null,
            "bottom": null,
            "_model_module": "@jupyter-widgets/base",
            "top": null,
            "grid_column": null,
            "overflow_y": null,
            "overflow_x": null,
            "grid_auto_flow": null,
            "grid_area": null,
            "grid_template_columns": null,
            "flex": null,
            "_model_name": "LayoutModel",
            "justify_items": null,
            "grid_row": null,
            "max_height": null,
            "align_content": null,
            "visibility": null,
            "align_self": null,
            "height": null,
            "min_height": null,
            "padding": null,
            "grid_auto_rows": null,
            "grid_gap": null,
            "max_width": null,
            "order": null,
            "_view_module_version": "1.2.0",
            "grid_template_areas": null,
            "object_position": null,
            "object_fit": null,
            "grid_auto_columns": null,
            "margin": null,
            "display": null,
            "left": null
          }
        },
        "78d2d466a3c4421faec490b12ab2f6a5": {
          "model_module": "@jupyter-widgets/base",
          "model_name": "LayoutModel",
          "model_module_version": "1.2.0",
          "state": {
            "_view_name": "LayoutView",
            "grid_template_rows": null,
            "right": null,
            "justify_content": null,
            "_view_module": "@jupyter-widgets/base",
            "overflow": null,
            "_model_module_version": "1.2.0",
            "_view_count": null,
            "flex_flow": null,
            "width": null,
            "min_width": null,
            "border": null,
            "align_items": null,
            "bottom": null,
            "_model_module": "@jupyter-widgets/base",
            "top": null,
            "grid_column": null,
            "overflow_y": null,
            "overflow_x": null,
            "grid_auto_flow": null,
            "grid_area": null,
            "grid_template_columns": null,
            "flex": null,
            "_model_name": "LayoutModel",
            "justify_items": null,
            "grid_row": null,
            "max_height": null,
            "align_content": null,
            "visibility": null,
            "align_self": null,
            "height": null,
            "min_height": null,
            "padding": null,
            "grid_auto_rows": null,
            "grid_gap": null,
            "max_width": null,
            "order": null,
            "_view_module_version": "1.2.0",
            "grid_template_areas": null,
            "object_position": null,
            "object_fit": null,
            "grid_auto_columns": null,
            "margin": null,
            "display": null,
            "left": null
          }
        },
        "a15be47feea9446b9129ab0d5aa85066": {
          "model_module": "@jupyter-widgets/controls",
          "model_name": "VBoxModel",
          "model_module_version": "1.5.0",
          "state": {
            "_view_name": "VBoxView",
            "_dom_classes": [
              "widget-interact"
            ],
            "_model_name": "VBoxModel",
            "_view_module": "@jupyter-widgets/controls",
            "_model_module_version": "1.5.0",
            "_view_count": null,
            "_view_module_version": "1.5.0",
            "box_style": "",
            "layout": "IPY_MODEL_671ae869a83a49fb8926124938e8ffca",
            "_model_module": "@jupyter-widgets/controls",
            "children": [
              "IPY_MODEL_94055d01394f4bda84d3aa7ae3a35c5d",
              "IPY_MODEL_e6a4972996bf46a4bb00dba898c50c82",
              "IPY_MODEL_b921e68a89ae44e5bf259755ef82e10f"
            ]
          }
        },
        "671ae869a83a49fb8926124938e8ffca": {
          "model_module": "@jupyter-widgets/base",
          "model_name": "LayoutModel",
          "model_module_version": "1.2.0",
          "state": {
            "_view_name": "LayoutView",
            "grid_template_rows": null,
            "right": null,
            "justify_content": null,
            "_view_module": "@jupyter-widgets/base",
            "overflow": null,
            "_model_module_version": "1.2.0",
            "_view_count": null,
            "flex_flow": null,
            "width": null,
            "min_width": null,
            "border": null,
            "align_items": null,
            "bottom": null,
            "_model_module": "@jupyter-widgets/base",
            "top": null,
            "grid_column": null,
            "overflow_y": null,
            "overflow_x": null,
            "grid_auto_flow": null,
            "grid_area": null,
            "grid_template_columns": null,
            "flex": null,
            "_model_name": "LayoutModel",
            "justify_items": null,
            "grid_row": null,
            "max_height": null,
            "align_content": null,
            "visibility": null,
            "align_self": null,
            "height": null,
            "min_height": null,
            "padding": null,
            "grid_auto_rows": null,
            "grid_gap": null,
            "max_width": null,
            "order": null,
            "_view_module_version": "1.2.0",
            "grid_template_areas": null,
            "object_position": null,
            "object_fit": null,
            "grid_auto_columns": null,
            "margin": null,
            "display": null,
            "left": null
          }
        },
        "94055d01394f4bda84d3aa7ae3a35c5d": {
          "model_module": "@jupyter-widgets/controls",
          "model_name": "IntSliderModel",
          "model_module_version": "1.5.0",
          "state": {
            "_view_name": "IntSliderView",
            "style": "IPY_MODEL_947a17165f984cc2bc1146faf976199f",
            "_dom_classes": [],
            "description": "estrazioni",
            "step": 1,
            "_model_name": "IntSliderModel",
            "orientation": "horizontal",
            "max": 10,
            "_view_module": "@jupyter-widgets/controls",
            "_model_module_version": "1.5.0",
            "value": 3,
            "_view_count": null,
            "disabled": false,
            "_view_module_version": "1.5.0",
            "min": 1,
            "continuous_update": true,
            "readout_format": "d",
            "description_tooltip": null,
            "readout": true,
            "_model_module": "@jupyter-widgets/controls",
            "layout": "IPY_MODEL_0c5ce2b5e2e240f09c1b60546a8e355a"
          }
        },
        "e6a4972996bf46a4bb00dba898c50c82": {
          "model_module": "@jupyter-widgets/controls",
          "model_name": "ButtonModel",
          "model_module_version": "1.5.0",
          "state": {
            "_view_name": "ButtonView",
            "style": "IPY_MODEL_6aeca5e51ec3498b90dbd6e73951ca64",
            "_dom_classes": [],
            "description": "Run Interact",
            "_model_name": "ButtonModel",
            "button_style": "",
            "_view_module": "@jupyter-widgets/controls",
            "_model_module_version": "1.5.0",
            "tooltip": "",
            "_view_count": null,
            "disabled": false,
            "_view_module_version": "1.5.0",
            "layout": "IPY_MODEL_ab91bf0cffaf426794b682b08d0e7c8d",
            "_model_module": "@jupyter-widgets/controls",
            "icon": ""
          }
        },
        "b921e68a89ae44e5bf259755ef82e10f": {
          "model_module": "@jupyter-widgets/output",
          "model_name": "OutputModel",
          "model_module_version": "1.0.0",
          "state": {
            "_view_name": "OutputView",
            "msg_id": "",
            "_dom_classes": [],
            "_model_name": "OutputModel",
            "outputs": [
              {
                "output_type": "display_data",
                "data": {
                  "text/plain": "0.934"
                },
                "metadata": {}
              }
            ],
            "_view_module": "@jupyter-widgets/output",
            "_model_module_version": "1.0.0",
            "_view_count": null,
            "_view_module_version": "1.0.0",
            "layout": "IPY_MODEL_860ae991fc9841d3bd52a255fd30c4cb",
            "_model_module": "@jupyter-widgets/output"
          }
        },
        "947a17165f984cc2bc1146faf976199f": {
          "model_module": "@jupyter-widgets/controls",
          "model_name": "SliderStyleModel",
          "model_module_version": "1.5.0",
          "state": {
            "_view_name": "StyleView",
            "handle_color": null,
            "_model_name": "SliderStyleModel",
            "description_width": "",
            "_view_module": "@jupyter-widgets/base",
            "_model_module_version": "1.5.0",
            "_view_count": null,
            "_view_module_version": "1.2.0",
            "_model_module": "@jupyter-widgets/controls"
          }
        },
        "0c5ce2b5e2e240f09c1b60546a8e355a": {
          "model_module": "@jupyter-widgets/base",
          "model_name": "LayoutModel",
          "model_module_version": "1.2.0",
          "state": {
            "_view_name": "LayoutView",
            "grid_template_rows": null,
            "right": null,
            "justify_content": null,
            "_view_module": "@jupyter-widgets/base",
            "overflow": null,
            "_model_module_version": "1.2.0",
            "_view_count": null,
            "flex_flow": null,
            "width": null,
            "min_width": null,
            "border": null,
            "align_items": null,
            "bottom": null,
            "_model_module": "@jupyter-widgets/base",
            "top": null,
            "grid_column": null,
            "overflow_y": null,
            "overflow_x": null,
            "grid_auto_flow": null,
            "grid_area": null,
            "grid_template_columns": null,
            "flex": null,
            "_model_name": "LayoutModel",
            "justify_items": null,
            "grid_row": null,
            "max_height": null,
            "align_content": null,
            "visibility": null,
            "align_self": null,
            "height": null,
            "min_height": null,
            "padding": null,
            "grid_auto_rows": null,
            "grid_gap": null,
            "max_width": null,
            "order": null,
            "_view_module_version": "1.2.0",
            "grid_template_areas": null,
            "object_position": null,
            "object_fit": null,
            "grid_auto_columns": null,
            "margin": null,
            "display": null,
            "left": null
          }
        },
        "6aeca5e51ec3498b90dbd6e73951ca64": {
          "model_module": "@jupyter-widgets/controls",
          "model_name": "ButtonStyleModel",
          "model_module_version": "1.5.0",
          "state": {
            "_view_name": "StyleView",
            "_model_name": "ButtonStyleModel",
            "_view_module": "@jupyter-widgets/base",
            "_model_module_version": "1.5.0",
            "_view_count": null,
            "button_color": null,
            "font_weight": "",
            "_view_module_version": "1.2.0",
            "_model_module": "@jupyter-widgets/controls"
          }
        },
        "ab91bf0cffaf426794b682b08d0e7c8d": {
          "model_module": "@jupyter-widgets/base",
          "model_name": "LayoutModel",
          "model_module_version": "1.2.0",
          "state": {
            "_view_name": "LayoutView",
            "grid_template_rows": null,
            "right": null,
            "justify_content": null,
            "_view_module": "@jupyter-widgets/base",
            "overflow": null,
            "_model_module_version": "1.2.0",
            "_view_count": null,
            "flex_flow": null,
            "width": null,
            "min_width": null,
            "border": null,
            "align_items": null,
            "bottom": null,
            "_model_module": "@jupyter-widgets/base",
            "top": null,
            "grid_column": null,
            "overflow_y": null,
            "overflow_x": null,
            "grid_auto_flow": null,
            "grid_area": null,
            "grid_template_columns": null,
            "flex": null,
            "_model_name": "LayoutModel",
            "justify_items": null,
            "grid_row": null,
            "max_height": null,
            "align_content": null,
            "visibility": null,
            "align_self": null,
            "height": null,
            "min_height": null,
            "padding": null,
            "grid_auto_rows": null,
            "grid_gap": null,
            "max_width": null,
            "order": null,
            "_view_module_version": "1.2.0",
            "grid_template_areas": null,
            "object_position": null,
            "object_fit": null,
            "grid_auto_columns": null,
            "margin": null,
            "display": null,
            "left": null
          }
        },
        "860ae991fc9841d3bd52a255fd30c4cb": {
          "model_module": "@jupyter-widgets/base",
          "model_name": "LayoutModel",
          "model_module_version": "1.2.0",
          "state": {
            "_view_name": "LayoutView",
            "grid_template_rows": null,
            "right": null,
            "justify_content": null,
            "_view_module": "@jupyter-widgets/base",
            "overflow": null,
            "_model_module_version": "1.2.0",
            "_view_count": null,
            "flex_flow": null,
            "width": null,
            "min_width": null,
            "border": null,
            "align_items": null,
            "bottom": null,
            "_model_module": "@jupyter-widgets/base",
            "top": null,
            "grid_column": null,
            "overflow_y": null,
            "overflow_x": null,
            "grid_auto_flow": null,
            "grid_area": null,
            "grid_template_columns": null,
            "flex": null,
            "_model_name": "LayoutModel",
            "justify_items": null,
            "grid_row": null,
            "max_height": null,
            "align_content": null,
            "visibility": null,
            "align_self": null,
            "height": null,
            "min_height": null,
            "padding": null,
            "grid_auto_rows": null,
            "grid_gap": null,
            "max_width": null,
            "order": null,
            "_view_module_version": "1.2.0",
            "grid_template_areas": null,
            "object_position": null,
            "object_fit": null,
            "grid_auto_columns": null,
            "margin": null,
            "display": null,
            "left": null
          }
        },
        "c871d66ab125484788984a01c4555967": {
          "model_module": "@jupyter-widgets/controls",
          "model_name": "VBoxModel",
          "model_module_version": "1.5.0",
          "state": {
            "_view_name": "VBoxView",
            "_dom_classes": [
              "widget-interact"
            ],
            "_model_name": "VBoxModel",
            "_view_module": "@jupyter-widgets/controls",
            "_model_module_version": "1.5.0",
            "_view_count": null,
            "_view_module_version": "1.5.0",
            "box_style": "",
            "layout": "IPY_MODEL_7940cd623efc4360ad0ad52ce95a56b2",
            "_model_module": "@jupyter-widgets/controls",
            "children": [
              "IPY_MODEL_064595df4a174e85a2e45995d800f29b",
              "IPY_MODEL_6972e893151948ba8fd53d3a0c4c0261",
              "IPY_MODEL_d8229ceaca6e44a782af59125152f15b",
              "IPY_MODEL_810c0ffaf7b74221840f1138799294c1"
            ]
          }
        },
        "7940cd623efc4360ad0ad52ce95a56b2": {
          "model_module": "@jupyter-widgets/base",
          "model_name": "LayoutModel",
          "model_module_version": "1.2.0",
          "state": {
            "_view_name": "LayoutView",
            "grid_template_rows": null,
            "right": null,
            "justify_content": null,
            "_view_module": "@jupyter-widgets/base",
            "overflow": null,
            "_model_module_version": "1.2.0",
            "_view_count": null,
            "flex_flow": null,
            "width": null,
            "min_width": null,
            "border": null,
            "align_items": null,
            "bottom": null,
            "_model_module": "@jupyter-widgets/base",
            "top": null,
            "grid_column": null,
            "overflow_y": null,
            "overflow_x": null,
            "grid_auto_flow": null,
            "grid_area": null,
            "grid_template_columns": null,
            "flex": null,
            "_model_name": "LayoutModel",
            "justify_items": null,
            "grid_row": null,
            "max_height": null,
            "align_content": null,
            "visibility": null,
            "align_self": null,
            "height": null,
            "min_height": null,
            "padding": null,
            "grid_auto_rows": null,
            "grid_gap": null,
            "max_width": null,
            "order": null,
            "_view_module_version": "1.2.0",
            "grid_template_areas": null,
            "object_position": null,
            "object_fit": null,
            "grid_auto_columns": null,
            "margin": null,
            "display": null,
            "left": null
          }
        },
        "064595df4a174e85a2e45995d800f29b": {
          "model_module": "@jupyter-widgets/controls",
          "model_name": "IntSliderModel",
          "model_module_version": "1.5.0",
          "state": {
            "_view_name": "IntSliderView",
            "style": "IPY_MODEL_6b00d2e38c644e24b48a73d3635f9562",
            "_dom_classes": [],
            "description": "bianche",
            "step": 1,
            "_model_name": "IntSliderModel",
            "orientation": "horizontal",
            "max": 5,
            "_view_module": "@jupyter-widgets/controls",
            "_model_module_version": "1.5.0",
            "value": 2,
            "_view_count": null,
            "disabled": false,
            "_view_module_version": "1.5.0",
            "min": 1,
            "continuous_update": true,
            "readout_format": "d",
            "description_tooltip": null,
            "readout": true,
            "_model_module": "@jupyter-widgets/controls",
            "layout": "IPY_MODEL_ea890aadc12f432bb58d6938d962bba9"
          }
        },
        "6972e893151948ba8fd53d3a0c4c0261": {
          "model_module": "@jupyter-widgets/controls",
          "model_name": "IntSliderModel",
          "model_module_version": "1.5.0",
          "state": {
            "_view_name": "IntSliderView",
            "style": "IPY_MODEL_402a4246a43d436f88e3004b7ab0952f",
            "_dom_classes": [],
            "description": "rosse",
            "step": 1,
            "_model_name": "IntSliderModel",
            "orientation": "horizontal",
            "max": 5,
            "_view_module": "@jupyter-widgets/controls",
            "_model_module_version": "1.5.0",
            "value": 3,
            "_view_count": null,
            "disabled": false,
            "_view_module_version": "1.5.0",
            "min": 1,
            "continuous_update": true,
            "readout_format": "d",
            "description_tooltip": null,
            "readout": true,
            "_model_module": "@jupyter-widgets/controls",
            "layout": "IPY_MODEL_694a84dd7a6a466bb5b46a98ca909ac1"
          }
        },
        "d8229ceaca6e44a782af59125152f15b": {
          "model_module": "@jupyter-widgets/controls",
          "model_name": "ButtonModel",
          "model_module_version": "1.5.0",
          "state": {
            "_view_name": "ButtonView",
            "style": "IPY_MODEL_17e87d9c744b4031ac30be1537746721",
            "_dom_classes": [],
            "description": "Run Interact",
            "_model_name": "ButtonModel",
            "button_style": "",
            "_view_module": "@jupyter-widgets/controls",
            "_model_module_version": "1.5.0",
            "tooltip": "",
            "_view_count": null,
            "disabled": false,
            "_view_module_version": "1.5.0",
            "layout": "IPY_MODEL_386d656b307c4e43b89ff07b04a571d4",
            "_model_module": "@jupyter-widgets/controls",
            "icon": ""
          }
        },
        "810c0ffaf7b74221840f1138799294c1": {
          "model_module": "@jupyter-widgets/output",
          "model_name": "OutputModel",
          "model_module_version": "1.0.0",
          "state": {
            "_view_name": "OutputView",
            "msg_id": "",
            "_dom_classes": [],
            "_model_name": "OutputModel",
            "outputs": [
              {
                "output_type": "display_data",
                "data": {
                  "image/png": "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\n",
                  "text/plain": "<Figure size 432x288 with 1 Axes>"
                },
                "metadata": {}
              }
            ],
            "_view_module": "@jupyter-widgets/output",
            "_model_module_version": "1.0.0",
            "_view_count": null,
            "_view_module_version": "1.0.0",
            "layout": "IPY_MODEL_a15a37bcf4db491084ff121725d8a2c7",
            "_model_module": "@jupyter-widgets/output"
          }
        },
        "6b00d2e38c644e24b48a73d3635f9562": {
          "model_module": "@jupyter-widgets/controls",
          "model_name": "SliderStyleModel",
          "model_module_version": "1.5.0",
          "state": {
            "_view_name": "StyleView",
            "handle_color": null,
            "_model_name": "SliderStyleModel",
            "description_width": "",
            "_view_module": "@jupyter-widgets/base",
            "_model_module_version": "1.5.0",
            "_view_count": null,
            "_view_module_version": "1.2.0",
            "_model_module": "@jupyter-widgets/controls"
          }
        },
        "ea890aadc12f432bb58d6938d962bba9": {
          "model_module": "@jupyter-widgets/base",
          "model_name": "LayoutModel",
          "model_module_version": "1.2.0",
          "state": {
            "_view_name": "LayoutView",
            "grid_template_rows": null,
            "right": null,
            "justify_content": null,
            "_view_module": "@jupyter-widgets/base",
            "overflow": null,
            "_model_module_version": "1.2.0",
            "_view_count": null,
            "flex_flow": null,
            "width": null,
            "min_width": null,
            "border": null,
            "align_items": null,
            "bottom": null,
            "_model_module": "@jupyter-widgets/base",
            "top": null,
            "grid_column": null,
            "overflow_y": null,
            "overflow_x": null,
            "grid_auto_flow": null,
            "grid_area": null,
            "grid_template_columns": null,
            "flex": null,
            "_model_name": "LayoutModel",
            "justify_items": null,
            "grid_row": null,
            "max_height": null,
            "align_content": null,
            "visibility": null,
            "align_self": null,
            "height": null,
            "min_height": null,
            "padding": null,
            "grid_auto_rows": null,
            "grid_gap": null,
            "max_width": null,
            "order": null,
            "_view_module_version": "1.2.0",
            "grid_template_areas": null,
            "object_position": null,
            "object_fit": null,
            "grid_auto_columns": null,
            "margin": null,
            "display": null,
            "left": null
          }
        },
        "402a4246a43d436f88e3004b7ab0952f": {
          "model_module": "@jupyter-widgets/controls",
          "model_name": "SliderStyleModel",
          "model_module_version": "1.5.0",
          "state": {
            "_view_name": "StyleView",
            "handle_color": null,
            "_model_name": "SliderStyleModel",
            "description_width": "",
            "_view_module": "@jupyter-widgets/base",
            "_model_module_version": "1.5.0",
            "_view_count": null,
            "_view_module_version": "1.2.0",
            "_model_module": "@jupyter-widgets/controls"
          }
        },
        "694a84dd7a6a466bb5b46a98ca909ac1": {
          "model_module": "@jupyter-widgets/base",
          "model_name": "LayoutModel",
          "model_module_version": "1.2.0",
          "state": {
            "_view_name": "LayoutView",
            "grid_template_rows": null,
            "right": null,
            "justify_content": null,
            "_view_module": "@jupyter-widgets/base",
            "overflow": null,
            "_model_module_version": "1.2.0",
            "_view_count": null,
            "flex_flow": null,
            "width": null,
            "min_width": null,
            "border": null,
            "align_items": null,
            "bottom": null,
            "_model_module": "@jupyter-widgets/base",
            "top": null,
            "grid_column": null,
            "overflow_y": null,
            "overflow_x": null,
            "grid_auto_flow": null,
            "grid_area": null,
            "grid_template_columns": null,
            "flex": null,
            "_model_name": "LayoutModel",
            "justify_items": null,
            "grid_row": null,
            "max_height": null,
            "align_content": null,
            "visibility": null,
            "align_self": null,
            "height": null,
            "min_height": null,
            "padding": null,
            "grid_auto_rows": null,
            "grid_gap": null,
            "max_width": null,
            "order": null,
            "_view_module_version": "1.2.0",
            "grid_template_areas": null,
            "object_position": null,
            "object_fit": null,
            "grid_auto_columns": null,
            "margin": null,
            "display": null,
            "left": null
          }
        },
        "17e87d9c744b4031ac30be1537746721": {
          "model_module": "@jupyter-widgets/controls",
          "model_name": "ButtonStyleModel",
          "model_module_version": "1.5.0",
          "state": {
            "_view_name": "StyleView",
            "_model_name": "ButtonStyleModel",
            "_view_module": "@jupyter-widgets/base",
            "_model_module_version": "1.5.0",
            "_view_count": null,
            "button_color": null,
            "font_weight": "",
            "_view_module_version": "1.2.0",
            "_model_module": "@jupyter-widgets/controls"
          }
        },
        "386d656b307c4e43b89ff07b04a571d4": {
          "model_module": "@jupyter-widgets/base",
          "model_name": "LayoutModel",
          "model_module_version": "1.2.0",
          "state": {
            "_view_name": "LayoutView",
            "grid_template_rows": null,
            "right": null,
            "justify_content": null,
            "_view_module": "@jupyter-widgets/base",
            "overflow": null,
            "_model_module_version": "1.2.0",
            "_view_count": null,
            "flex_flow": null,
            "width": null,
            "min_width": null,
            "border": null,
            "align_items": null,
            "bottom": null,
            "_model_module": "@jupyter-widgets/base",
            "top": null,
            "grid_column": null,
            "overflow_y": null,
            "overflow_x": null,
            "grid_auto_flow": null,
            "grid_area": null,
            "grid_template_columns": null,
            "flex": null,
            "_model_name": "LayoutModel",
            "justify_items": null,
            "grid_row": null,
            "max_height": null,
            "align_content": null,
            "visibility": null,
            "align_self": null,
            "height": null,
            "min_height": null,
            "padding": null,
            "grid_auto_rows": null,
            "grid_gap": null,
            "max_width": null,
            "order": null,
            "_view_module_version": "1.2.0",
            "grid_template_areas": null,
            "object_position": null,
            "object_fit": null,
            "grid_auto_columns": null,
            "margin": null,
            "display": null,
            "left": null
          }
        },
        "a15a37bcf4db491084ff121725d8a2c7": {
          "model_module": "@jupyter-widgets/base",
          "model_name": "LayoutModel",
          "model_module_version": "1.2.0",
          "state": {
            "_view_name": "LayoutView",
            "grid_template_rows": null,
            "right": null,
            "justify_content": null,
            "_view_module": "@jupyter-widgets/base",
            "overflow": null,
            "_model_module_version": "1.2.0",
            "_view_count": null,
            "flex_flow": null,
            "width": null,
            "min_width": null,
            "border": null,
            "align_items": null,
            "bottom": null,
            "_model_module": "@jupyter-widgets/base",
            "top": null,
            "grid_column": null,
            "overflow_y": null,
            "overflow_x": null,
            "grid_auto_flow": null,
            "grid_area": null,
            "grid_template_columns": null,
            "flex": null,
            "_model_name": "LayoutModel",
            "justify_items": null,
            "grid_row": null,
            "max_height": null,
            "align_content": null,
            "visibility": null,
            "align_self": null,
            "height": null,
            "min_height": null,
            "padding": null,
            "grid_auto_rows": null,
            "grid_gap": null,
            "max_width": null,
            "order": null,
            "_view_module_version": "1.2.0",
            "grid_template_areas": null,
            "object_position": null,
            "object_fit": null,
            "grid_auto_columns": null,
            "margin": null,
            "display": null,
            "left": null
          }
        },
        "064271845a1b4740afbd653fdc92c52b": {
          "model_module": "@jupyter-widgets/controls",
          "model_name": "VBoxModel",
          "model_module_version": "1.5.0",
          "state": {
            "_view_name": "VBoxView",
            "_dom_classes": [
              "widget-interact"
            ],
            "_model_name": "VBoxModel",
            "_view_module": "@jupyter-widgets/controls",
            "_model_module_version": "1.5.0",
            "_view_count": null,
            "_view_module_version": "1.5.0",
            "box_style": "",
            "layout": "IPY_MODEL_5a2c2303cd7a42729c054dc920292ec5",
            "_model_module": "@jupyter-widgets/controls",
            "children": [
              "IPY_MODEL_03be4bc4b83745fda48668d01ec24e9c",
              "IPY_MODEL_c0391b6b770f400086b68b1e48335a32",
              "IPY_MODEL_56cfb450f2b0479ebafa75e0e808b5b5",
              "IPY_MODEL_52c88087e361489fab068bfe381a0469"
            ]
          }
        },
        "5a2c2303cd7a42729c054dc920292ec5": {
          "model_module": "@jupyter-widgets/base",
          "model_name": "LayoutModel",
          "model_module_version": "1.2.0",
          "state": {
            "_view_name": "LayoutView",
            "grid_template_rows": null,
            "right": null,
            "justify_content": null,
            "_view_module": "@jupyter-widgets/base",
            "overflow": null,
            "_model_module_version": "1.2.0",
            "_view_count": null,
            "flex_flow": null,
            "width": null,
            "min_width": null,
            "border": null,
            "align_items": null,
            "bottom": null,
            "_model_module": "@jupyter-widgets/base",
            "top": null,
            "grid_column": null,
            "overflow_y": null,
            "overflow_x": null,
            "grid_auto_flow": null,
            "grid_area": null,
            "grid_template_columns": null,
            "flex": null,
            "_model_name": "LayoutModel",
            "justify_items": null,
            "grid_row": null,
            "max_height": null,
            "align_content": null,
            "visibility": null,
            "align_self": null,
            "height": null,
            "min_height": null,
            "padding": null,
            "grid_auto_rows": null,
            "grid_gap": null,
            "max_width": null,
            "order": null,
            "_view_module_version": "1.2.0",
            "grid_template_areas": null,
            "object_position": null,
            "object_fit": null,
            "grid_auto_columns": null,
            "margin": null,
            "display": null,
            "left": null
          }
        },
        "03be4bc4b83745fda48668d01ec24e9c": {
          "model_module": "@jupyter-widgets/controls",
          "model_name": "IntSliderModel",
          "model_module_version": "1.5.0",
          "state": {
            "_view_name": "IntSliderView",
            "style": "IPY_MODEL_3413327d299941d98b13092e204d56b8",
            "_dom_classes": [],
            "description": "bianche",
            "step": 1,
            "_model_name": "IntSliderModel",
            "orientation": "horizontal",
            "max": 5,
            "_view_module": "@jupyter-widgets/controls",
            "_model_module_version": "1.5.0",
            "value": 2,
            "_view_count": null,
            "disabled": false,
            "_view_module_version": "1.5.0",
            "min": 1,
            "continuous_update": true,
            "readout_format": "d",
            "description_tooltip": null,
            "readout": true,
            "_model_module": "@jupyter-widgets/controls",
            "layout": "IPY_MODEL_8ff348f0499b4341b73bda9d2a4856fc"
          }
        },
        "c0391b6b770f400086b68b1e48335a32": {
          "model_module": "@jupyter-widgets/controls",
          "model_name": "IntSliderModel",
          "model_module_version": "1.5.0",
          "state": {
            "_view_name": "IntSliderView",
            "style": "IPY_MODEL_fe09d46841ea42a888fbbf96110ccb56",
            "_dom_classes": [],
            "description": "rosse",
            "step": 1,
            "_model_name": "IntSliderModel",
            "orientation": "horizontal",
            "max": 5,
            "_view_module": "@jupyter-widgets/controls",
            "_model_module_version": "1.5.0",
            "value": 3,
            "_view_count": null,
            "disabled": false,
            "_view_module_version": "1.5.0",
            "min": 1,
            "continuous_update": true,
            "readout_format": "d",
            "description_tooltip": null,
            "readout": true,
            "_model_module": "@jupyter-widgets/controls",
            "layout": "IPY_MODEL_9c1ca34d1e284a778cf37d05e49bec15"
          }
        },
        "56cfb450f2b0479ebafa75e0e808b5b5": {
          "model_module": "@jupyter-widgets/controls",
          "model_name": "ButtonModel",
          "model_module_version": "1.5.0",
          "state": {
            "_view_name": "ButtonView",
            "style": "IPY_MODEL_ac00db8250fc47c29c4109b7ba2c008a",
            "_dom_classes": [],
            "description": "Run Interact",
            "_model_name": "ButtonModel",
            "button_style": "",
            "_view_module": "@jupyter-widgets/controls",
            "_model_module_version": "1.5.0",
            "tooltip": "",
            "_view_count": null,
            "disabled": false,
            "_view_module_version": "1.5.0",
            "layout": "IPY_MODEL_24d0420d0e864f669680342d8be17ed3",
            "_model_module": "@jupyter-widgets/controls",
            "icon": ""
          }
        },
        "52c88087e361489fab068bfe381a0469": {
          "model_module": "@jupyter-widgets/output",
          "model_name": "OutputModel",
          "model_module_version": "1.0.0",
          "state": {
            "_view_name": "OutputView",
            "msg_id": "",
            "_dom_classes": [],
            "_model_name": "OutputModel",
            "outputs": [
              {
                "output_type": "display_data",
                "data": {
                  "image/png": "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\n",
                  "text/plain": "<Figure size 432x288 with 1 Axes>"
                },
                "metadata": {
                  "needs_background": "light"
                }
              }
            ],
            "_view_module": "@jupyter-widgets/output",
            "_model_module_version": "1.0.0",
            "_view_count": null,
            "_view_module_version": "1.0.0",
            "layout": "IPY_MODEL_617aeadaa72b475a863905480b1512ba",
            "_model_module": "@jupyter-widgets/output"
          }
        },
        "3413327d299941d98b13092e204d56b8": {
          "model_module": "@jupyter-widgets/controls",
          "model_name": "SliderStyleModel",
          "model_module_version": "1.5.0",
          "state": {
            "_view_name": "StyleView",
            "handle_color": null,
            "_model_name": "SliderStyleModel",
            "description_width": "",
            "_view_module": "@jupyter-widgets/base",
            "_model_module_version": "1.5.0",
            "_view_count": null,
            "_view_module_version": "1.2.0",
            "_model_module": "@jupyter-widgets/controls"
          }
        },
        "8ff348f0499b4341b73bda9d2a4856fc": {
          "model_module": "@jupyter-widgets/base",
          "model_name": "LayoutModel",
          "model_module_version": "1.2.0",
          "state": {
            "_view_name": "LayoutView",
            "grid_template_rows": null,
            "right": null,
            "justify_content": null,
            "_view_module": "@jupyter-widgets/base",
            "overflow": null,
            "_model_module_version": "1.2.0",
            "_view_count": null,
            "flex_flow": null,
            "width": null,
            "min_width": null,
            "border": null,
            "align_items": null,
            "bottom": null,
            "_model_module": "@jupyter-widgets/base",
            "top": null,
            "grid_column": null,
            "overflow_y": null,
            "overflow_x": null,
            "grid_auto_flow": null,
            "grid_area": null,
            "grid_template_columns": null,
            "flex": null,
            "_model_name": "LayoutModel",
            "justify_items": null,
            "grid_row": null,
            "max_height": null,
            "align_content": null,
            "visibility": null,
            "align_self": null,
            "height": null,
            "min_height": null,
            "padding": null,
            "grid_auto_rows": null,
            "grid_gap": null,
            "max_width": null,
            "order": null,
            "_view_module_version": "1.2.0",
            "grid_template_areas": null,
            "object_position": null,
            "object_fit": null,
            "grid_auto_columns": null,
            "margin": null,
            "display": null,
            "left": null
          }
        },
        "fe09d46841ea42a888fbbf96110ccb56": {
          "model_module": "@jupyter-widgets/controls",
          "model_name": "SliderStyleModel",
          "model_module_version": "1.5.0",
          "state": {
            "_view_name": "StyleView",
            "handle_color": null,
            "_model_name": "SliderStyleModel",
            "description_width": "",
            "_view_module": "@jupyter-widgets/base",
            "_model_module_version": "1.5.0",
            "_view_count": null,
            "_view_module_version": "1.2.0",
            "_model_module": "@jupyter-widgets/controls"
          }
        },
        "9c1ca34d1e284a778cf37d05e49bec15": {
          "model_module": "@jupyter-widgets/base",
          "model_name": "LayoutModel",
          "model_module_version": "1.2.0",
          "state": {
            "_view_name": "LayoutView",
            "grid_template_rows": null,
            "right": null,
            "justify_content": null,
            "_view_module": "@jupyter-widgets/base",
            "overflow": null,
            "_model_module_version": "1.2.0",
            "_view_count": null,
            "flex_flow": null,
            "width": null,
            "min_width": null,
            "border": null,
            "align_items": null,
            "bottom": null,
            "_model_module": "@jupyter-widgets/base",
            "top": null,
            "grid_column": null,
            "overflow_y": null,
            "overflow_x": null,
            "grid_auto_flow": null,
            "grid_area": null,
            "grid_template_columns": null,
            "flex": null,
            "_model_name": "LayoutModel",
            "justify_items": null,
            "grid_row": null,
            "max_height": null,
            "align_content": null,
            "visibility": null,
            "align_self": null,
            "height": null,
            "min_height": null,
            "padding": null,
            "grid_auto_rows": null,
            "grid_gap": null,
            "max_width": null,
            "order": null,
            "_view_module_version": "1.2.0",
            "grid_template_areas": null,
            "object_position": null,
            "object_fit": null,
            "grid_auto_columns": null,
            "margin": null,
            "display": null,
            "left": null
          }
        },
        "ac00db8250fc47c29c4109b7ba2c008a": {
          "model_module": "@jupyter-widgets/controls",
          "model_name": "ButtonStyleModel",
          "model_module_version": "1.5.0",
          "state": {
            "_view_name": "StyleView",
            "_model_name": "ButtonStyleModel",
            "_view_module": "@jupyter-widgets/base",
            "_model_module_version": "1.5.0",
            "_view_count": null,
            "button_color": null,
            "font_weight": "",
            "_view_module_version": "1.2.0",
            "_model_module": "@jupyter-widgets/controls"
          }
        },
        "24d0420d0e864f669680342d8be17ed3": {
          "model_module": "@jupyter-widgets/base",
          "model_name": "LayoutModel",
          "model_module_version": "1.2.0",
          "state": {
            "_view_name": "LayoutView",
            "grid_template_rows": null,
            "right": null,
            "justify_content": null,
            "_view_module": "@jupyter-widgets/base",
            "overflow": null,
            "_model_module_version": "1.2.0",
            "_view_count": null,
            "flex_flow": null,
            "width": null,
            "min_width": null,
            "border": null,
            "align_items": null,
            "bottom": null,
            "_model_module": "@jupyter-widgets/base",
            "top": null,
            "grid_column": null,
            "overflow_y": null,
            "overflow_x": null,
            "grid_auto_flow": null,
            "grid_area": null,
            "grid_template_columns": null,
            "flex": null,
            "_model_name": "LayoutModel",
            "justify_items": null,
            "grid_row": null,
            "max_height": null,
            "align_content": null,
            "visibility": null,
            "align_self": null,
            "height": null,
            "min_height": null,
            "padding": null,
            "grid_auto_rows": null,
            "grid_gap": null,
            "max_width": null,
            "order": null,
            "_view_module_version": "1.2.0",
            "grid_template_areas": null,
            "object_position": null,
            "object_fit": null,
            "grid_auto_columns": null,
            "margin": null,
            "display": null,
            "left": null
          }
        },
        "617aeadaa72b475a863905480b1512ba": {
          "model_module": "@jupyter-widgets/base",
          "model_name": "LayoutModel",
          "model_module_version": "1.2.0",
          "state": {
            "_view_name": "LayoutView",
            "grid_template_rows": null,
            "right": null,
            "justify_content": null,
            "_view_module": "@jupyter-widgets/base",
            "overflow": null,
            "_model_module_version": "1.2.0",
            "_view_count": null,
            "flex_flow": null,
            "width": null,
            "min_width": null,
            "border": null,
            "align_items": null,
            "bottom": null,
            "_model_module": "@jupyter-widgets/base",
            "top": null,
            "grid_column": null,
            "overflow_y": null,
            "overflow_x": null,
            "grid_auto_flow": null,
            "grid_area": null,
            "grid_template_columns": null,
            "flex": null,
            "_model_name": "LayoutModel",
            "justify_items": null,
            "grid_row": null,
            "max_height": null,
            "align_content": null,
            "visibility": null,
            "align_self": null,
            "height": null,
            "min_height": null,
            "padding": null,
            "grid_auto_rows": null,
            "grid_gap": null,
            "max_width": null,
            "order": null,
            "_view_module_version": "1.2.0",
            "grid_template_areas": null,
            "object_position": null,
            "object_fit": null,
            "grid_auto_columns": null,
            "margin": null,
            "display": null,
            "left": null
          }
        },
        "4a07fa59f2a24731a88b9c3f63c3bacb": {
          "model_module": "@jupyter-widgets/controls",
          "model_name": "VBoxModel",
          "model_module_version": "1.5.0",
          "state": {
            "_view_name": "VBoxView",
            "_dom_classes": [
              "widget-interact"
            ],
            "_model_name": "VBoxModel",
            "_view_module": "@jupyter-widgets/controls",
            "_model_module_version": "1.5.0",
            "_view_count": null,
            "_view_module_version": "1.5.0",
            "box_style": "",
            "layout": "IPY_MODEL_3e7f9a7d24f64a0bbbc2310e812845ff",
            "_model_module": "@jupyter-widgets/controls",
            "children": [
              "IPY_MODEL_d4b3c4262c12434da4aa9ed481a9deb7",
              "IPY_MODEL_9d1327e512c24ba3839dbe8a65e51e00",
              "IPY_MODEL_94922e7ad6614a92960ec3a4aa4598ea"
            ]
          }
        },
        "3e7f9a7d24f64a0bbbc2310e812845ff": {
          "model_module": "@jupyter-widgets/base",
          "model_name": "LayoutModel",
          "model_module_version": "1.2.0",
          "state": {
            "_view_name": "LayoutView",
            "grid_template_rows": null,
            "right": null,
            "justify_content": null,
            "_view_module": "@jupyter-widgets/base",
            "overflow": null,
            "_model_module_version": "1.2.0",
            "_view_count": null,
            "flex_flow": null,
            "width": null,
            "min_width": null,
            "border": null,
            "align_items": null,
            "bottom": null,
            "_model_module": "@jupyter-widgets/base",
            "top": null,
            "grid_column": null,
            "overflow_y": null,
            "overflow_x": null,
            "grid_auto_flow": null,
            "grid_area": null,
            "grid_template_columns": null,
            "flex": null,
            "_model_name": "LayoutModel",
            "justify_items": null,
            "grid_row": null,
            "max_height": null,
            "align_content": null,
            "visibility": null,
            "align_self": null,
            "height": null,
            "min_height": null,
            "padding": null,
            "grid_auto_rows": null,
            "grid_gap": null,
            "max_width": null,
            "order": null,
            "_view_module_version": "1.2.0",
            "grid_template_areas": null,
            "object_position": null,
            "object_fit": null,
            "grid_auto_columns": null,
            "margin": null,
            "display": null,
            "left": null
          }
        },
        "d4b3c4262c12434da4aa9ed481a9deb7": {
          "model_module": "@jupyter-widgets/controls",
          "model_name": "IntSliderModel",
          "model_module_version": "1.5.0",
          "state": {
            "_view_name": "IntSliderView",
            "style": "IPY_MODEL_e1293d11ae2a468786425388f0ac0162",
            "_dom_classes": [],
            "description": "tempo",
            "step": 1,
            "_model_name": "IntSliderModel",
            "orientation": "horizontal",
            "max": 20,
            "_view_module": "@jupyter-widgets/controls",
            "_model_module_version": "1.5.0",
            "value": 10,
            "_view_count": null,
            "disabled": false,
            "_view_module_version": "1.5.0",
            "min": 1,
            "continuous_update": true,
            "readout_format": "d",
            "description_tooltip": null,
            "readout": true,
            "_model_module": "@jupyter-widgets/controls",
            "layout": "IPY_MODEL_fa55437e20934479948ab223897b3018"
          }
        },
        "9d1327e512c24ba3839dbe8a65e51e00": {
          "model_module": "@jupyter-widgets/controls",
          "model_name": "ButtonModel",
          "model_module_version": "1.5.0",
          "state": {
            "_view_name": "ButtonView",
            "style": "IPY_MODEL_a324557da87e45b2bf005f5406d7bc00",
            "_dom_classes": [],
            "description": "Run Interact",
            "_model_name": "ButtonModel",
            "button_style": "",
            "_view_module": "@jupyter-widgets/controls",
            "_model_module_version": "1.5.0",
            "tooltip": "",
            "_view_count": null,
            "disabled": false,
            "_view_module_version": "1.5.0",
            "layout": "IPY_MODEL_6a8a0c841b1e458b9bd6877d9f9bfb10",
            "_model_module": "@jupyter-widgets/controls",
            "icon": ""
          }
        },
        "94922e7ad6614a92960ec3a4aa4598ea": {
          "model_module": "@jupyter-widgets/output",
          "model_name": "OutputModel",
          "model_module_version": "1.0.0",
          "state": {
            "_view_name": "OutputView",
            "msg_id": "",
            "_dom_classes": [],
            "_model_name": "OutputModel",
            "outputs": [
              {
                "output_type": "display_data",
                "data": {
                  "text/plain": "5.01"
                },
                "metadata": {}
              }
            ],
            "_view_module": "@jupyter-widgets/output",
            "_model_module_version": "1.0.0",
            "_view_count": null,
            "_view_module_version": "1.0.0",
            "layout": "IPY_MODEL_ec8bb72f7add44498c6e2809845001cf",
            "_model_module": "@jupyter-widgets/output"
          }
        },
        "e1293d11ae2a468786425388f0ac0162": {
          "model_module": "@jupyter-widgets/controls",
          "model_name": "SliderStyleModel",
          "model_module_version": "1.5.0",
          "state": {
            "_view_name": "StyleView",
            "handle_color": null,
            "_model_name": "SliderStyleModel",
            "description_width": "",
            "_view_module": "@jupyter-widgets/base",
            "_model_module_version": "1.5.0",
            "_view_count": null,
            "_view_module_version": "1.2.0",
            "_model_module": "@jupyter-widgets/controls"
          }
        },
        "fa55437e20934479948ab223897b3018": {
          "model_module": "@jupyter-widgets/base",
          "model_name": "LayoutModel",
          "model_module_version": "1.2.0",
          "state": {
            "_view_name": "LayoutView",
            "grid_template_rows": null,
            "right": null,
            "justify_content": null,
            "_view_module": "@jupyter-widgets/base",
            "overflow": null,
            "_model_module_version": "1.2.0",
            "_view_count": null,
            "flex_flow": null,
            "width": null,
            "min_width": null,
            "border": null,
            "align_items": null,
            "bottom": null,
            "_model_module": "@jupyter-widgets/base",
            "top": null,
            "grid_column": null,
            "overflow_y": null,
            "overflow_x": null,
            "grid_auto_flow": null,
            "grid_area": null,
            "grid_template_columns": null,
            "flex": null,
            "_model_name": "LayoutModel",
            "justify_items": null,
            "grid_row": null,
            "max_height": null,
            "align_content": null,
            "visibility": null,
            "align_self": null,
            "height": null,
            "min_height": null,
            "padding": null,
            "grid_auto_rows": null,
            "grid_gap": null,
            "max_width": null,
            "order": null,
            "_view_module_version": "1.2.0",
            "grid_template_areas": null,
            "object_position": null,
            "object_fit": null,
            "grid_auto_columns": null,
            "margin": null,
            "display": null,
            "left": null
          }
        },
        "a324557da87e45b2bf005f5406d7bc00": {
          "model_module": "@jupyter-widgets/controls",
          "model_name": "ButtonStyleModel",
          "model_module_version": "1.5.0",
          "state": {
            "_view_name": "StyleView",
            "_model_name": "ButtonStyleModel",
            "_view_module": "@jupyter-widgets/base",
            "_model_module_version": "1.5.0",
            "_view_count": null,
            "button_color": null,
            "font_weight": "",
            "_view_module_version": "1.2.0",
            "_model_module": "@jupyter-widgets/controls"
          }
        },
        "6a8a0c841b1e458b9bd6877d9f9bfb10": {
          "model_module": "@jupyter-widgets/base",
          "model_name": "LayoutModel",
          "model_module_version": "1.2.0",
          "state": {
            "_view_name": "LayoutView",
            "grid_template_rows": null,
            "right": null,
            "justify_content": null,
            "_view_module": "@jupyter-widgets/base",
            "overflow": null,
            "_model_module_version": "1.2.0",
            "_view_count": null,
            "flex_flow": null,
            "width": null,
            "min_width": null,
            "border": null,
            "align_items": null,
            "bottom": null,
            "_model_module": "@jupyter-widgets/base",
            "top": null,
            "grid_column": null,
            "overflow_y": null,
            "overflow_x": null,
            "grid_auto_flow": null,
            "grid_area": null,
            "grid_template_columns": null,
            "flex": null,
            "_model_name": "LayoutModel",
            "justify_items": null,
            "grid_row": null,
            "max_height": null,
            "align_content": null,
            "visibility": null,
            "align_self": null,
            "height": null,
            "min_height": null,
            "padding": null,
            "grid_auto_rows": null,
            "grid_gap": null,
            "max_width": null,
            "order": null,
            "_view_module_version": "1.2.0",
            "grid_template_areas": null,
            "object_position": null,
            "object_fit": null,
            "grid_auto_columns": null,
            "margin": null,
            "display": null,
            "left": null
          }
        },
        "ec8bb72f7add44498c6e2809845001cf": {
          "model_module": "@jupyter-widgets/base",
          "model_name": "LayoutModel",
          "model_module_version": "1.2.0",
          "state": {
            "_view_name": "LayoutView",
            "grid_template_rows": null,
            "right": null,
            "justify_content": null,
            "_view_module": "@jupyter-widgets/base",
            "overflow": null,
            "_model_module_version": "1.2.0",
            "_view_count": null,
            "flex_flow": null,
            "width": null,
            "min_width": null,
            "border": null,
            "align_items": null,
            "bottom": null,
            "_model_module": "@jupyter-widgets/base",
            "top": null,
            "grid_column": null,
            "overflow_y": null,
            "overflow_x": null,
            "grid_auto_flow": null,
            "grid_area": null,
            "grid_template_columns": null,
            "flex": null,
            "_model_name": "LayoutModel",
            "justify_items": null,
            "grid_row": null,
            "max_height": null,
            "align_content": null,
            "visibility": null,
            "align_self": null,
            "height": null,
            "min_height": null,
            "padding": null,
            "grid_auto_rows": null,
            "grid_gap": null,
            "max_width": null,
            "order": null,
            "_view_module_version": "1.2.0",
            "grid_template_areas": null,
            "object_position": null,
            "object_fit": null,
            "grid_auto_columns": null,
            "margin": null,
            "display": null,
            "left": null
          }
        },
        "99c4aba954344494b8ad12b31770ca1e": {
          "model_module": "@jupyter-widgets/controls",
          "model_name": "VBoxModel",
          "model_module_version": "1.5.0",
          "state": {
            "_view_name": "VBoxView",
            "_dom_classes": [
              "widget-interact"
            ],
            "_model_name": "VBoxModel",
            "_view_module": "@jupyter-widgets/controls",
            "_model_module_version": "1.5.0",
            "_view_count": null,
            "_view_module_version": "1.5.0",
            "box_style": "",
            "layout": "IPY_MODEL_a623b45dff9342789c29d48592976c38",
            "_model_module": "@jupyter-widgets/controls",
            "children": [
              "IPY_MODEL_22758f8d8dcd4621bb82adbfea35ef11",
              "IPY_MODEL_05a46dc4cc3346c3921f4bbb280527b0",
              "IPY_MODEL_7b991ed74e7140b6b8ce87326c9f8fad"
            ]
          }
        },
        "a623b45dff9342789c29d48592976c38": {
          "model_module": "@jupyter-widgets/base",
          "model_name": "LayoutModel",
          "model_module_version": "1.2.0",
          "state": {
            "_view_name": "LayoutView",
            "grid_template_rows": null,
            "right": null,
            "justify_content": null,
            "_view_module": "@jupyter-widgets/base",
            "overflow": null,
            "_model_module_version": "1.2.0",
            "_view_count": null,
            "flex_flow": null,
            "width": null,
            "min_width": null,
            "border": null,
            "align_items": null,
            "bottom": null,
            "_model_module": "@jupyter-widgets/base",
            "top": null,
            "grid_column": null,
            "overflow_y": null,
            "overflow_x": null,
            "grid_auto_flow": null,
            "grid_area": null,
            "grid_template_columns": null,
            "flex": null,
            "_model_name": "LayoutModel",
            "justify_items": null,
            "grid_row": null,
            "max_height": null,
            "align_content": null,
            "visibility": null,
            "align_self": null,
            "height": null,
            "min_height": null,
            "padding": null,
            "grid_auto_rows": null,
            "grid_gap": null,
            "max_width": null,
            "order": null,
            "_view_module_version": "1.2.0",
            "grid_template_areas": null,
            "object_position": null,
            "object_fit": null,
            "grid_auto_columns": null,
            "margin": null,
            "display": null,
            "left": null
          }
        },
        "22758f8d8dcd4621bb82adbfea35ef11": {
          "model_module": "@jupyter-widgets/controls",
          "model_name": "IntSliderModel",
          "model_module_version": "1.5.0",
          "state": {
            "_view_name": "IntSliderView",
            "style": "IPY_MODEL_27810e2c8568437d9fbd62a07d0125fd",
            "_dom_classes": [],
            "description": "ore",
            "step": 1,
            "_model_name": "IntSliderModel",
            "orientation": "horizontal",
            "max": 72,
            "_view_module": "@jupyter-widgets/controls",
            "_model_module_version": "1.5.0",
            "value": 3,
            "_view_count": null,
            "disabled": false,
            "_view_module_version": "1.5.0",
            "min": 0,
            "continuous_update": true,
            "readout_format": "d",
            "description_tooltip": null,
            "readout": true,
            "_model_module": "@jupyter-widgets/controls",
            "layout": "IPY_MODEL_20a958a4737d44bfb5aa1196b1294792"
          }
        },
        "05a46dc4cc3346c3921f4bbb280527b0": {
          "model_module": "@jupyter-widgets/controls",
          "model_name": "ButtonModel",
          "model_module_version": "1.5.0",
          "state": {
            "_view_name": "ButtonView",
            "style": "IPY_MODEL_5dec8493ad1348dd90ecc8b65916a1d8",
            "_dom_classes": [],
            "description": "Run Interact",
            "_model_name": "ButtonModel",
            "button_style": "",
            "_view_module": "@jupyter-widgets/controls",
            "_model_module_version": "1.5.0",
            "tooltip": "",
            "_view_count": null,
            "disabled": false,
            "_view_module_version": "1.5.0",
            "layout": "IPY_MODEL_a891a1eb04324f9685204b38c5dd1f63",
            "_model_module": "@jupyter-widgets/controls",
            "icon": ""
          }
        },
        "7b991ed74e7140b6b8ce87326c9f8fad": {
          "model_module": "@jupyter-widgets/output",
          "model_name": "OutputModel",
          "model_module_version": "1.0.0",
          "state": {
            "_view_name": "OutputView",
            "msg_id": "",
            "_dom_classes": [],
            "_model_name": "OutputModel",
            "outputs": [
              {
                "output_type": "stream",
                "name": "stdout",
                "text": [
                  "Risultati ottenuti: 0.117\n",
                  "Risultati attesi: 0.118\n"
                ]
              }
            ],
            "_view_module": "@jupyter-widgets/output",
            "_model_module_version": "1.0.0",
            "_view_count": null,
            "_view_module_version": "1.0.0",
            "layout": "IPY_MODEL_a89f2c1b247d442c8cc423ee240f9d58",
            "_model_module": "@jupyter-widgets/output"
          }
        },
        "27810e2c8568437d9fbd62a07d0125fd": {
          "model_module": "@jupyter-widgets/controls",
          "model_name": "SliderStyleModel",
          "model_module_version": "1.5.0",
          "state": {
            "_view_name": "StyleView",
            "handle_color": null,
            "_model_name": "SliderStyleModel",
            "description_width": "",
            "_view_module": "@jupyter-widgets/base",
            "_model_module_version": "1.5.0",
            "_view_count": null,
            "_view_module_version": "1.2.0",
            "_model_module": "@jupyter-widgets/controls"
          }
        },
        "20a958a4737d44bfb5aa1196b1294792": {
          "model_module": "@jupyter-widgets/base",
          "model_name": "LayoutModel",
          "model_module_version": "1.2.0",
          "state": {
            "_view_name": "LayoutView",
            "grid_template_rows": null,
            "right": null,
            "justify_content": null,
            "_view_module": "@jupyter-widgets/base",
            "overflow": null,
            "_model_module_version": "1.2.0",
            "_view_count": null,
            "flex_flow": null,
            "width": null,
            "min_width": null,
            "border": null,
            "align_items": null,
            "bottom": null,
            "_model_module": "@jupyter-widgets/base",
            "top": null,
            "grid_column": null,
            "overflow_y": null,
            "overflow_x": null,
            "grid_auto_flow": null,
            "grid_area": null,
            "grid_template_columns": null,
            "flex": null,
            "_model_name": "LayoutModel",
            "justify_items": null,
            "grid_row": null,
            "max_height": null,
            "align_content": null,
            "visibility": null,
            "align_self": null,
            "height": null,
            "min_height": null,
            "padding": null,
            "grid_auto_rows": null,
            "grid_gap": null,
            "max_width": null,
            "order": null,
            "_view_module_version": "1.2.0",
            "grid_template_areas": null,
            "object_position": null,
            "object_fit": null,
            "grid_auto_columns": null,
            "margin": null,
            "display": null,
            "left": null
          }
        },
        "5dec8493ad1348dd90ecc8b65916a1d8": {
          "model_module": "@jupyter-widgets/controls",
          "model_name": "ButtonStyleModel",
          "model_module_version": "1.5.0",
          "state": {
            "_view_name": "StyleView",
            "_model_name": "ButtonStyleModel",
            "_view_module": "@jupyter-widgets/base",
            "_model_module_version": "1.5.0",
            "_view_count": null,
            "button_color": null,
            "font_weight": "",
            "_view_module_version": "1.2.0",
            "_model_module": "@jupyter-widgets/controls"
          }
        },
        "a891a1eb04324f9685204b38c5dd1f63": {
          "model_module": "@jupyter-widgets/base",
          "model_name": "LayoutModel",
          "model_module_version": "1.2.0",
          "state": {
            "_view_name": "LayoutView",
            "grid_template_rows": null,
            "right": null,
            "justify_content": null,
            "_view_module": "@jupyter-widgets/base",
            "overflow": null,
            "_model_module_version": "1.2.0",
            "_view_count": null,
            "flex_flow": null,
            "width": null,
            "min_width": null,
            "border": null,
            "align_items": null,
            "bottom": null,
            "_model_module": "@jupyter-widgets/base",
            "top": null,
            "grid_column": null,
            "overflow_y": null,
            "overflow_x": null,
            "grid_auto_flow": null,
            "grid_area": null,
            "grid_template_columns": null,
            "flex": null,
            "_model_name": "LayoutModel",
            "justify_items": null,
            "grid_row": null,
            "max_height": null,
            "align_content": null,
            "visibility": null,
            "align_self": null,
            "height": null,
            "min_height": null,
            "padding": null,
            "grid_auto_rows": null,
            "grid_gap": null,
            "max_width": null,
            "order": null,
            "_view_module_version": "1.2.0",
            "grid_template_areas": null,
            "object_position": null,
            "object_fit": null,
            "grid_auto_columns": null,
            "margin": null,
            "display": null,
            "left": null
          }
        },
        "a89f2c1b247d442c8cc423ee240f9d58": {
          "model_module": "@jupyter-widgets/base",
          "model_name": "LayoutModel",
          "model_module_version": "1.2.0",
          "state": {
            "_view_name": "LayoutView",
            "grid_template_rows": null,
            "right": null,
            "justify_content": null,
            "_view_module": "@jupyter-widgets/base",
            "overflow": null,
            "_model_module_version": "1.2.0",
            "_view_count": null,
            "flex_flow": null,
            "width": null,
            "min_width": null,
            "border": null,
            "align_items": null,
            "bottom": null,
            "_model_module": "@jupyter-widgets/base",
            "top": null,
            "grid_column": null,
            "overflow_y": null,
            "overflow_x": null,
            "grid_auto_flow": null,
            "grid_area": null,
            "grid_template_columns": null,
            "flex": null,
            "_model_name": "LayoutModel",
            "justify_items": null,
            "grid_row": null,
            "max_height": null,
            "align_content": null,
            "visibility": null,
            "align_self": null,
            "height": null,
            "min_height": null,
            "padding": null,
            "grid_auto_rows": null,
            "grid_gap": null,
            "max_width": null,
            "order": null,
            "_view_module_version": "1.2.0",
            "grid_template_areas": null,
            "object_position": null,
            "object_fit": null,
            "grid_auto_columns": null,
            "margin": null,
            "display": null,
            "left": null
          }
        },
        "518f016a90134cf1bc9ab9df6db22193": {
          "model_module": "@jupyter-widgets/controls",
          "model_name": "VBoxModel",
          "model_module_version": "1.5.0",
          "state": {
            "_view_name": "VBoxView",
            "_dom_classes": [
              "widget-interact"
            ],
            "_model_name": "VBoxModel",
            "_view_module": "@jupyter-widgets/controls",
            "_model_module_version": "1.5.0",
            "_view_count": null,
            "_view_module_version": "1.5.0",
            "box_style": "",
            "layout": "IPY_MODEL_847aab0d1bdc469d9a5c9d84ff8685da",
            "_model_module": "@jupyter-widgets/controls",
            "children": [
              "IPY_MODEL_6161e9ba8f68495183de0b422fff8f04",
              "IPY_MODEL_269249fa81de48fd93d56bc507efa7ca",
              "IPY_MODEL_1405298bd3fc46b59c8a5208cd131a7d"
            ]
          }
        },
        "847aab0d1bdc469d9a5c9d84ff8685da": {
          "model_module": "@jupyter-widgets/base",
          "model_name": "LayoutModel",
          "model_module_version": "1.2.0",
          "state": {
            "_view_name": "LayoutView",
            "grid_template_rows": null,
            "right": null,
            "justify_content": null,
            "_view_module": "@jupyter-widgets/base",
            "overflow": null,
            "_model_module_version": "1.2.0",
            "_view_count": null,
            "flex_flow": null,
            "width": null,
            "min_width": null,
            "border": null,
            "align_items": null,
            "bottom": null,
            "_model_module": "@jupyter-widgets/base",
            "top": null,
            "grid_column": null,
            "overflow_y": null,
            "overflow_x": null,
            "grid_auto_flow": null,
            "grid_area": null,
            "grid_template_columns": null,
            "flex": null,
            "_model_name": "LayoutModel",
            "justify_items": null,
            "grid_row": null,
            "max_height": null,
            "align_content": null,
            "visibility": null,
            "align_self": null,
            "height": null,
            "min_height": null,
            "padding": null,
            "grid_auto_rows": null,
            "grid_gap": null,
            "max_width": null,
            "order": null,
            "_view_module_version": "1.2.0",
            "grid_template_areas": null,
            "object_position": null,
            "object_fit": null,
            "grid_auto_columns": null,
            "margin": null,
            "display": null,
            "left": null
          }
        },
        "6161e9ba8f68495183de0b422fff8f04": {
          "model_module": "@jupyter-widgets/controls",
          "model_name": "IntSliderModel",
          "model_module_version": "1.5.0",
          "state": {
            "_view_name": "IntSliderView",
            "style": "IPY_MODEL_e39cac62a1604ee08e8365a80b433256",
            "_dom_classes": [],
            "description": "tempo",
            "step": 1,
            "_model_name": "IntSliderModel",
            "orientation": "horizontal",
            "max": 20,
            "_view_module": "@jupyter-widgets/controls",
            "_model_module_version": "1.5.0",
            "value": 10,
            "_view_count": null,
            "disabled": false,
            "_view_module_version": "1.5.0",
            "min": 0,
            "continuous_update": true,
            "readout_format": "d",
            "description_tooltip": null,
            "readout": true,
            "_model_module": "@jupyter-widgets/controls",
            "layout": "IPY_MODEL_1b1542b392d74407ae3105adf61cbd9c"
          }
        },
        "269249fa81de48fd93d56bc507efa7ca": {
          "model_module": "@jupyter-widgets/controls",
          "model_name": "ButtonModel",
          "model_module_version": "1.5.0",
          "state": {
            "_view_name": "ButtonView",
            "style": "IPY_MODEL_126629142c6946618a2f22484f629324",
            "_dom_classes": [],
            "description": "Run Interact",
            "_model_name": "ButtonModel",
            "button_style": "",
            "_view_module": "@jupyter-widgets/controls",
            "_model_module_version": "1.5.0",
            "tooltip": "",
            "_view_count": null,
            "disabled": false,
            "_view_module_version": "1.5.0",
            "layout": "IPY_MODEL_15daf5f2e2214e84adb59fe7803052b8",
            "_model_module": "@jupyter-widgets/controls",
            "icon": ""
          }
        },
        "1405298bd3fc46b59c8a5208cd131a7d": {
          "model_module": "@jupyter-widgets/output",
          "model_name": "OutputModel",
          "model_module_version": "1.0.0",
          "state": {
            "_view_name": "OutputView",
            "msg_id": "",
            "_dom_classes": [],
            "_model_name": "OutputModel",
            "outputs": [
              {
                "output_type": "display_data",
                "data": {
                  "image/png": "iVBORw0KGgoAAAANSUhEUgAAAXAAAAEICAYAAABGaK+TAAAABHNCSVQICAgIfAhkiAAAAAlwSFlzAAALEgAACxIB0t1+/AAAADh0RVh0U29mdHdhcmUAbWF0cGxvdGxpYiB2ZXJzaW9uMy4yLjIsIGh0dHA6Ly9tYXRwbG90bGliLm9yZy+WH4yJAAAgAElEQVR4nO3deXhcd33v8fdXI8larc3yKluy4yXYIXESxQ1lT1nSsCRAgKSFm7bpDbT0Pl2gEC7tvbQUSvu0pL23vaUpSQktDxDCkrCVJQlLgIQowXFsB1u240WyLcnWYslarfneP+aMMyiSNZJm5swZfV7Po8cz55yZ89XR+KOffud3zs/cHRERiZ6isAsQEZH5UYCLiESUAlxEJKIU4CIiEaUAFxGJKAW4iEhEKcBFZmFmLzWzfbNs82Yze9TMYrmqS0QBLpFiZofNbMTMBs2s38x+YmbvNrOsfZbd/UfuvmVKDa+ass2XgR8Df5ytOkSmUoBLFL3B3auBZuDjwAeAu8ItCUjUMZ7NXyYiqfRBk8hy9wF3fwB4O3CLmV1iZkvM7O/M7KiZdZnZJ82sHMDMXmFmHWb2XjPrNrMTZvbbyfczs+vMbG/Quu80s/elvi54/B/AOuBrZjZkZu8Pln8R6AA+AnzfzLbl9GDIoqQAl8hz95+RCM+XkmiRbwa2AxuBNcD/Stl8JVATLL8V+GczqwvW3QW8K2jdXwI8NM2+3gkcJfFXQJW7/22w6lvAJmA58CTw2Ux+jyLTUYBLoTgO1AO3AX/s7r3uPgh8DLgpZbsJ4C/dfcLdvwkMAVtS1m01s6Xu3ufuT6a7c3e/290H3X0M+DBwmZnVLPzbEpmZAlwKxRqgGKgAnghOcPYD/wU0pmx32t3PpTwfBqqCx28BrgOOmNkPzOxF6ezYzGJm9nEzO2hmZ4DDwapl8/92RGanAJfIM7OrSAT4V4ERYJu71wZfNe5edeF3SHD3x939ehLdIF8F7p1p0ynPfwO4HngVie6ZlmRpc/pGROZIAS6RZWZLzez1wOeB/3T3p4B/A+4ws+XBNmvM7LVpvFepmf2mmdW4+wRwBojPsHkXsCHleTUwBpwm8RfAx+b9TYnMgQJcouhrZjYIHAM+BHwCSI4m+QBwAHg06M74Hs/1cc/mncDh4HXvBn5zhu3+GvizoJvmfcBngCNAJ7AXeHTu35LI3JkmdBARiSa1wEVEIkoBLiISUQpwEZGIUoCLiERUcS53tmzZMm9pacnlLkVEIu+JJ5445e6NU5fnNMBbWlpoa2vL5S5FRCLPzI5Mt1xdKCIiEaUAFxGJKAW4iEhEpR3gwR3Xfm5mXw+erzezx8zsgJl9wcxKs1emiIhMNZcW+B8Cz6Q8/xvgDnffCPSRuDm+iIjkSFoBbmZNwOuATwXPDbgGuC/Y5B7ghmwUKCIi00u3Bf4PwPt57vaaDUB/yo3xO0jcj/l5zOw2M2szs7aenp4FFSsiIs+ZNcCD+y13u/sT89mBu9/p7q3u3trY+Lxx6CKhcneO94/w8L5uPvWjQ+w5PhB2SSJpS+dCnhcDbzSz64AyYCnwj0CtmRUHrfAmEvdCFomMybjz1k/+hCeP9p9ftml5Fd/+o5dRVKTJdCT/zdoCd/cPunuTu7eQmBz2IXf/TeBh4MZgs1uA+7NWpUgW/OTgKZ482s9tL9vAve96ER970wtp7x7iO3u7wi5NJC0LGQf+AeBPzOwAiT7xuzJTkkhu3NvWQW1FCe99zWZ2rK/nba1NNDdU8P++fwBNdCJRMKcAd/fvu/vrg8eH3H2Hu29097e6+1h2ShTJvIHhCb695yQ3bF/DkuIYAMWxIt798ovY1THAIwdOhVyhyOx0JaYsSg881cn4uTg3Xtn0S8vffMUaVi4t458fPhBSZSLpU4DLonRvWwdbVy3lkjU1v7R8SXGM//6yDTx6qJcnjvSGVJ1IehTgsug8c+IMT3cO8NbWpmnX37xjLXUVJdz948O5LUxkjhTgsuh8sa2D0lgRN2yf9tozKkqLeemmRn5+pC/HlYnMjQJcFpXJuPPVnZ28eusK6ipnvv/aJWuWcnxglNNDOjcv+UsBLovKMyfO0Ht2nFdvXXHB7S5Znegb33P8TC7KEpkXBbgsKk8E3SJXra+/4HZbVy8FFOCS3xTgsqg8friXVTVlrKktv+B2tRWlNNWVs1v3RpE8pgCXRcPdaTvcR2vLhVvfSZesrmGvWuCSxxTgsmh09o9w8swoV7XUpbX9ttVLefbUWQZHJ7Jcmcj8KMBl0Wg7nOj/vrI5vQBPXuSjVrjkKwW4LBptR3qpWlLMxSuXprX9tjU6kSn5TQEui0bb4T6uaK4jlua9vpdXl9FYvUQnMiVvKcBlURgYmWBf1yCtaXafJF2yeil7OtUCl/ykAJdF4cmjfbhDa5onMJMuWVPDgZ4hRicms1SZyPwpwGVRaDvcS3GRsX1t7Zxet231Uibjzi9ODmapMpH5S2dS4zIz+5mZPWVme8zsL4LlnzazZ81sZ/C1PfvlisxP2+E+tq1eSkVpOtPAPmfb+Uvq1Q8u+SedT/MYcI27D5lZCfCImX0rWPen7n5f9soTWbjxc3F2HuvnHVc3z/m1TXXl1JSXsFv94JKHZg1wT0wOOBQ8LQm+NGGgRMahU0OMnYtzaVPN7BtPYWZsW72UvWqBSx5Kqw/czGJmthPoBr7r7o8Fqz5qZrvM7A4zWzLDa28zszYza+vp6clQ2SLp29+VaH9sWVk9r9dvXlFNe/eQJjqWvJNWgLv7pLtvB5qAHWZ2CfBB4GLgKqCexCz10732TndvdffWxsbGDJUtkr72rkFiRcb6ZZXzev2mFVUMj09yfGA0w5WJLMxcZ6XvBx4GrnX3E54wBvw7sCMbBYos1P6uQVoaKs7PPj9Xm5YnWu7tXRqJIvklnVEojWZWGzwuB14N/MLMVgXLDLgB2J3NQkXma3/XEJtXzK/7BGDT8ioADnQPzbKlSG6lMwplFXCPmcVIBP697v51M3vIzBoBA3YC785inSLzMjoxyZHTZ3nDZavn/R51laUsqyplv1rgkmfSGYWyC7h8muXXZKUikQw62DNE3GHziqoFvc/G5VW0qwUueUZXYkpBaw9GoCykCyX5+gNdGoki+UUBLgVtf9cgxUVGS8P8RqAkbVpexeDYObrOaJZ6yR8KcClo+7uGWL+sktLihX3UNyZHonSrH1zyhwJcClp79+CCu08gMRYcnuuSEckHCnApWCPjkxztHT4fvgvRUFlKXUWJWuCSVxTgUrAO9gzhvvATmJC4J8qm5dVqgUteUYBLwUqO217oEMKkjSuqdE8UySsKcClY+7uGKIkZzQscgZK0eXkVAyMT9AxpJIrkBwW4FKz2rkE2LKuiJJaZj/mmoCvmgLpRJE8owKVg7e8ezMgJzKTkPVF0RabkCwW4FKTh8XMc6x3JyAnMpMbqJSwtK9Y9USRvKMClID176iyQuIdJppgZm4LJHUTygQJcClJH3wiQmNMykzY2VnGoRwEu+UEBLgWpMwjwNbWZDfDmZRWcGhpnaOxcRt9XZD4U4FKQOvtHKCspor6yNKPv21yfGJJ45PTZjL6vyHwowKUgdfaNsKa2nMSEUZnT3FABwNHTwxl9X5H5SGdKtTIz+5mZPWVme8zsL4Ll683sMTM7YGZfMLPMNnVEFqCzf4Q1dRUZf99kgB9WgEseSKcFPgZc4+6XAduBa83sauBvgDvcfSPQB9yavTJF5uZ4/0jG+78BqstKaKgsVReK5IVZAzyYeT552r0k+HLgGuC+YPk9JCY2FgndyPgkp8+OZ3wESlJzQwVH1AKXPJBWH7iZxcxsJ9ANfBc4CPS7e/JUfAewZobX3mZmbWbW1tPTk4maRS6osz87I1CSWhoq1QKXvJBWgLv7pLtvB5qAHcDF6e7A3e9091Z3b21sbJxnmSLpOx/gWWqBr2uo4MSZUUYnJrPy/iLpmtMoFHfvBx4GXgTUmllyVvsmoDPDtYnMS7bGgCe1NFTiDh196kaRcKUzCqXRzGqDx+XAq4FnSAT5jcFmtwD3Z6tIkbno7B+muMhYsbQsK+9/fiTKKQW4hKt49k1YBdxjZjESgX+vu3/dzPYCnzezvwJ+DtyVxTpF0tbZN8LKmjJiRZkdA56UvL/4kV4FuIRr1gB3913A5dMsP0SiP1wkr3RmaQhhUl1FCdVlxTqRKaHTlZhScDr7RrJ2AhMSdyVsaajUxTwSOgW4FJSJyTgnz4zSlMUWOCRGohxVC1xCpgCXgnJyYJS4w+osB3hLQwUdfSNMTMazuh+RC1GAS0HJ9hjwpOaGSs7FnePB/kTCoACXgpLtMeBJzfWJoYS6pF7CpACXgpJsgWe9C2WZ7gsu4VOAS0Hp7BthWdUSykpiWd3P8uollJUUaSSKhEoBLgUlcR/w7La+ITGUsLm+Ul0oEioFuBSUzv6RrA8hTErcVlZdKBIeBbgUjHjcc9YCB1hXX8HR3mHcPSf7E5lKAS4F49TZMcbPxbM+AiVpVW05Y+fi9A1P5GR/IlMpwKVg5GoIYdLqmsTdDk8MaCy4hEMBLgWjIwjwpvrctcABTvSP5mR/IlMpwKVgnA/wLMxGPx21wCVsCnApGMf6hqmrKKFqSTq3uV+4ZVVLKIkZxwfUApdwKMClYHT0jbC2Pjetb4CiYNafE7ofioQknSnV1prZw2a218z2mNkfBss/bGadZrYz+Lou++WKzKyjd5imHA0hTFpVU6YWuIQmnRb4OeC97r4VuBp4j5ltDdbd4e7bg69vZq1KkVnE405H/whrc9T/nbSqplx94BKaWQPc3U+4+5PB40ESExqvyXZhInPRM5QYA57zFnhtGV0DY8TjuphHcm9OfeBm1kJifszHgkV/YGa7zOxuM6ub4TW3mVmbmbX19PQsqFiRmXT0Je5J0pTDPnCA1TXljE/GOX12PKf7FYE5BLiZVQFfAv7I3c8A/wJcBGwHTgB/P93r3P1Od29199bGxsYMlCzyfMd6E90Ya0PoAwcNJZRwpBXgZlZCIrw/6+5fBnD3LnefdPc48G9ohnoJ0fkWeI77wJP3HT+ui3kkBOmMQjHgLuAZd/9EyvJVKZu9Cdid+fJE0nOsNzf3AZ9qpVrgEqJ0rnh4MfBO4Gkz2xks+5/AzWa2HXDgMPCurFQokoaO/twPIQRoqCyltLiIExpKKCGYNcDd/RHAplmlYYOSN471jnDZ2tqc79fMEmPBdTGPhEBXYkrkTQazw4fRAofEicyTaoFLCBTgEnldZ0Y5F/ecX8STtLqmXF0oEgoFuETesd7kCJSQWuC1ZZw8M8qkLuaRHFOAS+QlbyObyxtZpVpZU85k3OkZHAtl/7J4KcAl8o71DWMGq2vLQtl/8r7gxzWUUHJMAS6R19E3worqMpYU53YMeNKqGs3MI+FQgEvkHQvhNrKpki1/XcwjuaYAl8jL9UQOU9WUl1BeEtNIFMk5BbhE2sRknBMD4Y0Bh+BintoytcAl5xTgEmknB0aJO6GNAU9aXVOuG1pJzinAJdLCHgOetLJGLXDJPQW4RNqx4DayYfaBQ+K2st2DiVmBRHJFAS6Rdqx3hFiRnZ9YISzrl1XgDkd7z4ZahywuCnCJtKO9w6yuLaM4Fu5HecOyKgAO9ijAJXcU4BJpx/qGWRdy9wnAhsZKAA4pwCWHFOASacd6h0MfgQJQXVZCY/USDvUMhV2KLCLpTKm21sweNrO9ZrbHzP4wWF5vZt81s/bg32lnpRfJlrNj5zg1NB76CcykDcsqOXRKLXDJnXRa4OeA97r7VuBq4D1mthW4HXjQ3TcBDwbPRXIm7LsQTrWhsUotcMmpWQPc3U+4+5PB40HgGWANcD1wT7DZPcAN2SpSZDpHgzHg+dAHDnBRYyV9wxP0nR0PuxRZJObUB25mLcDlwGPACnc/Eaw6CayY4TW3mVmbmbX19PQsoFSRX5a8iGdtyBfxJJ0/kXlKrXDJjbQD3MyqgC8Bf+TuZ1LXubuTmJ3+edz9TndvdffWxsbGBRUrkupo7zCVpTHqK0vDLgVIGUrYrX5wyY20AtzMSkiE92fd/cvB4i4zWxWsXwV0Z6dEkel19A2ztr4CMwu7FCBxOX9JzDioFrjkSDqjUAy4C3jG3T+RsuoB4Jbg8S3A/ZkvT2RmR3uH8+YEJkBxrIjmhkqNBZecSacF/mLgncA1ZrYz+LoO+DjwajNrB14VPBfJCXfnWO9IXowBT7VhWaVGokjOFM+2gbs/Asz0N+qvZbYckfScGhpnZGKSdfX5cQIzaUNjFQ/v6+bcZDz0y/ul8OkTJpGUL3chnGpDYyUTk86xPt1aVrJPAS6RdCzPxoAnXXT+nijqRpHsU4BLJD03kUN+BXhyKKFOZEouKMAlko72DtNYvYTy0ljYpfySuspS6ipKdDGP5IQCXCIpMQIlv05gJl3UWKX7gktOKMAlko725sd9wKezoVFjwSU3FOASOROTcU4MjOTdCJSkDY1VnBoa48zoRNilSIFTgEvkHO8fIe75N4QwqaUhUdfR08MhVyKFTgEukXOsNzHGOl+7UJK/WJK3uxXJFgW4RM7h04n+5XwN8OaGxFjwI2qBS5YpwCVyDnQPUVEaY1VNWdilTKtqSTENlaVqgUvWKcAlcg50D7FxeVXe3EZ2OmvrKzjaq5Eokl0KcImc9u5BNi6vCruMC2puqFAXimSdAlwi5czoBF1nxti0vDrsUi5oXX0Fx/tHmJiMh12KFDAFuETKge7EJeqb8rwFvq6+grhDp+5KKFmkAJdIOdAVBPiK/A7w5EgUnciUbEpnSrW7zazbzHanLPuwmXVOmaFHJOvauwdZUlyUd3chnCo5xPGIAlyyKJ0W+KeBa6dZfoe7bw++vpnZskSm1949xIbGKmJF+TsCBWB59RKWFBdx9LRGokj2zBrg7v5DoDcHtYjMqr1rKO/7vwGKiox19RXqQpGsWkgf+B+Y2a6gi6Vupo3M7DYzazOztp6engXsTha74fFzdPaPRCLAIdGNoqGEkk3zDfB/AS4CtgMngL+faUN3v9PdW929tbGxcZ67E4GD3YnuiHw/gZm0rqGCY73DuHvYpUiBmleAu3uXu0+6exz4N2BHZssSeb727kEANub5GPCkdfUVnB2f5PTZ8bBLkQI1rwA3s1UpT98E7J5pW5FMae8eoiRmNDfk9wiUpGSd6kaRbCmebQMz+xzwCmCZmXUA/xt4hZltBxw4DLwrizWKAIkTmC0NlZTEonH5wrr6xFjwY73DXNk842kikXmbNcDd/eZpFt+VhVpELuhA9yBbVy8Nu4y0NdWVY6YWuGRPNJoysuiNTkxytHc4Mv3fAGUlMVYuLdNQQskaBbhEwrOnzhL3/L8HylS6raxkkwJcIqG9Oxr3QJmqWRfzSBYpwCUS2rsGiRUZLcFNoqKiuaGCrjNjjE5Mhl2KFCAFuETCvpODtDRUUFYSC7uUOVkX/MI5rHuiSBYowCUS9ncNsmVldE5gJiX77PcHt8EVySQFuOS9kfFJjvQOs3lF9AJ8Q2MlsSKjvWsw7FKkACnAJe8d6B7CHbZEMMCXFMdYv6ySfScV4JJ5CnDJe/uC1uvmCHahQOIXz361wCULFOCS9/Z3DVJaXERzfTTugTLV5hXVHOkdZmRcI1EksxTgkvf2nRxkY2MVxRG5B8pUW1ZW4f7chMwimRLN/xGyqER1BEpS8uTrPnWjSIYpwCWvDQxPcGJgNNIB3txQSWlxkfrBJeMU4JLX9geTOERxBEpSrMjY2FilkSiScQpwyWvJ0IvqCJSkLSurNRZcMk4BLnltf9cgVUuKWV1TFnYpC7J5RTXHB0Y5MzoRdilSQGYN8GDW+W4z252yrN7Mvmtm7cG/mm5EsmLfyUE2r6jCzMIuZUG2rExcUq9WuGRSOi3wTwPXTll2O/Cgu28CHgyei2SUu0d+BErS+ZEoJzWUUDJn1gB39x8CvVMWXw/cEzy+B7ghw3WJ0DM0Rt/wRCTvgTLVmtpyKktjGokiGTXfPvAV7n4ieHwSWDHThmZ2m5m1mVlbT0/PPHcni9H+oLUa5REoSWbGphXVGokiGbXgk5ju7iRmp59p/Z3u3ururY2NjQvdnSwiUb8HylS6J4pk2nwDvMvMVgEE/3ZnriSRhL3Hz7CsqpRlVUvCLiUjNq+s5vTZcU4NjYVdihSI+Qb4A8AtweNbgPszU47Ic3Z3DnDJmpqwy8iYi4O/JH5xQq1wyYx0hhF+DvgpsMXMOszsVuDjwKvNrB14VfBcJGNGxidp7x7khQUU4JesTnwvT3X0h1yJFIri2TZw95tnWPVrGa5F5Ly9J84QdwqqBV5TUUJLQwW7FOCSIboSU/LS7s4BAC5tKpwAB7i0qZZdHQNhlyEFQgEueenpzgGWVZWycmm0L6Gf6tKmGk4MjNI9OBp2KVIAFOCSl5InMKN+Cf1Ul62tBWDXMbXCZeEU4JJ3Ricmae8eKqgTmEnbVi+lyFA/uGSEAlzyzt4TZ5iMe0GdwEyqKC1m84pqnlI/uGSAAlzyTvIEZiG2wCHRD76ro5/ERcwi86cAl7zzdMcADZWlrIr4PcBncmlTLX3DE3T0jYRdikScAlzyztMFegIz6bKmxIlMXdAjC6UAl7xSyCcwk7asrKY0VsRTxxTgsjAKcMkrhXwCM6m0uIgXrF6qE5myYApwySvnT2AW2BWYU21vqmF35wCTcZ3IlPlTgEte2Xmsn4bK0shPYjybS5tqGR6f5GCPpliT+VOAS95wd37UfooXXdRQsCcwk65sTswD/uMDp0KuRKJMAS5545kTg/QMjvGyzYU/c1PLskq2rKjmW0+fDLsUiTAFuOSNH7Yn5kx9+SIIcIDrXriKx4/00n1GN7aS+VGAS9744f4eLl5ZzYoCuwPhTF536Urc4b/2qBUu87OgADezw2b2tJntNLO2TBUli8/ZsXM8frh3UXSfJG1cXs2m5VV8Y9eJsEuRiMpEC/yV7r7d3Vsz8F6ySD166DQTk75ouk+SrnvhKn52uJeeQU10LHOnLhTJCz/c30N5SYzWlrqwS8mp1126St0oMm8LDXAHvmNmT5jZbdNtYGa3mVmbmbX19PQscHdSqH6wv4erN9SzpDgWdik5tWl5FRc1VvJNdaPIPCw0wF/i7lcAvw68x8xeNnUDd7/T3VvdvbWxcXH9eSzpOXp6mMOnhxdV/3eSmfG6F67isWdPc2pI3SgyNwsKcHfvDP7tBr4C7MhEUbK4/GCRDR+c6rpLVxF3+NbTaoXL3Mw7wM2s0syqk4+B1wC7M1WYLB4PPtNFU10565dVhl1KKC5euZStq5Zyb1tH2KVIxCykBb4CeMTMngJ+BnzD3f8rM2XJYtEzOMaP2k/xhstWF/zl8xfyttYmnu4cYO/xM2GXIhEy7wB390Puflnwtc3dP5rJwmRxeOCp40zGnTdfvibsUkJ1w+VrKI0VcW/bsbBLkQjRMEIJ1Zef7ODSpho2ragOu5RQ1VaU8pptK/jqzk7Gzk2GXY5EhAJcQvOLk2fYc/zMom99J739qrX0D0/wnT1dYZciEaEAl9B8+clOiouMN1y2OuxS8sKvXrSMNbXl6kaRtCnAJRTnJuN85eedvPLi5TRULQm7nLwQKzLecmUTjxw4RUffcNjlSAQowCUUPz54mp7BMd5yhbpPUr31yiYAPvWjZ0OuRKJAAS6h+OyjR6gpL+GVFy8Pu5S8sra+gpt3rOMzPz2sIYUyKwW45NwXHj/Kd/Z2cetL1i+6e5+k4/2v3UJtRSl/fv9u4pr0WC5AAS45tbtzgD+/fw8v3bSM97xyY9jl5KXailJuv/ZinjjSx31P6upMmZkCXHJmYGSC3//skzRUlvIPb99OrGjxXnk5mxuvbOLK5jo+/q1f0D88HnY5kqcU4JIT7s6ffvEpjveP8E+/cYVGnsyiqMj4yPWXMDAywfvv28WkulJkGgpwyYn7nujgO3u7uP3XL+bK5sU1acN8bV29lA9d9wK+s7eLj3x9L+4KcfllxWEXIIWvs3+Ev/zaXn5lfT2/8+L1YZcTKb/zkvV09I1w94+fpamunN996YawS5I8ogCXrIrHnQ/ct4u4O3/31ssoUr/3nP3Z617AyTMj/NU3nqG2opQbg7HiIupCkaz69E8O88iBU/zZ67eytr4i7HIiqajI+MTbtvOiDQ2874tP8ZGv72ViMh52WZIH1AKXjIvHnYf3dfOvPzjEzw738ootjdx01dqwy4q0spIYn7l1Bx/9xjPc9cizPN05wD/9xuUsry4LuzQJkeXyxEhra6u3tbXlbH+SW8f7R/jqzk6+9EQHB3vOsqa2nFtfsp6bd6yjvFQX7GTKV3/eye1f3kXMjFtfsp7ffdkGlpaVhF2WZJGZPeHurc9bvpAAN7NrgX8EYsCn3P3jF9peAV54JuPOQ7/o5p6fHObHB0/hDlc21/GOq9fx+ktXUxJTL102HOoZ4u+/s59vPH2CmvISbt6xjldsaeSKdXWUFuuYF5qMB7iZxYD9wKuBDuBx4GZ33zvTaxTg0ePujExM0nt2nN6z4/QNTzA8do7h8Um6Bkf5wuPHOHJ6mFU1ZbytdS1vunwNLYt0bssw7O4c4B++t5/v7+vhXNypLI1xRXMd21bXsHX1UjYsq6SmvISaihLKS2Kcm3TGzyX6z6vLinVSOSJmCvCF9IHvAA64+6FgB58HrgdmDPD5+r8PtvPAU8cz/bYFx0kErjvE3XEgZkZyqsnU5UVmFFniNROTcSbOOefiz50Ym4w7oxNxRiYuPDvMFetq+dPXbuG121aqtR2CS9bU8KlbrmJwdIKfHjzND9t7ePJIP3c9coiJyQs3zmJFRl1FCUvLSoi7cy7uxONOLGYUFxURKzIU75nzsTe/kKta6jP6ngsJ8DVA6p3nO4BfmbqRmd0G3Aawbt26ee2osXoJm1ZUzeu1i42ZnQ9ngHgQ2nhiNMN0y0uLiyiNFRGLPfcftsiM8tIYZSUxKkpj1FeUUldZSn1lCZVLiikviVG5pJhluqIyL1SXlfCabSt5zbaVAIyfi3OwZ4gjp4c5MzrBmZEJRsYnKSkuoiRWhLvTP++TdW4AAAaqSURBVDzB6bPjnBmdIGZGcZFRVGTE44kwT/2FLgtXXpL580BZH4Xi7ncCd0KiC2U+73HTjnXctGN+4S+yGJUWF/GCVUt5waqlYZciWbSQv3k7gdSxYU3BMhERyYGFBPjjwCYzW29mpcBNwAOZKUtERGYz7y4Udz9nZn8AfJvEMMK73X1PxioTEZELWlAfuLt/E/hmhmoREZE50LgvEZGIUoCLiESUAlxEJKIU4CIiEZXTuxGaWQ9wZJ4vXwacymA5maK65kZ1zY3qmpt8rQsWVluzuzdOXZjTAF8IM2ub7mYuYVNdc6O65kZ1zU2+1gXZqU1dKCIiEaUAFxGJqCgF+J1hFzAD1TU3qmtuVNfc5GtdkIXaItMHLiIivyxKLXAREUmhABcRiai8CnAze6uZ7TGzuJnNONzGzK41s31mdsDMbk9Zvt7MHguWfyG4zW0m6qo3s++aWXvwb90027zSzHamfI2a2Q3Buk+b2bMp67bnqq5gu8mUfT+QsjzM47XdzH4a/Lx3mdnbU9Zl9HjN9HlJWb8k+P4PBMejJWXdB4Pl+8zstQupYx51/YmZ7Q2Oz4Nm1pyybtqfaY7q+i0z60nZ/++mrLsl+Lm3m9ktOa7rjpSa9ptZf8q6bB6vu82s28x2z7DezOz/BHXvMrMrUtYt7Hgl5lDMjy/gBcAW4PtA6wzbxICDwAagFHgK2Bqsuxe4KXj8SeD3MlTX3wK3B49vB/5mlu3rgV6gInj+aeDGLByvtOoChmZYHtrxAjYDm4LHq4ETQG2mj9eFPi8p2/w+8Mng8U3AF4LHW4PtlwDrg/eJ5bCuV6Z8hn4vWdeFfqY5quu3gH+a5rX1wKHg37rgcV2u6pqy/f8gcYvrrB6v4L1fBlwB7J5h/XXAtwADrgYey9TxyqsWuLs/4+77Ztns/GTK7j4OfB643swMuAa4L9juHuCGDJV2ffB+6b7vjcC33H04Q/ufyVzrOi/s4+Xu+929PXh8HOgGnnelWQZM+3m5QL33Ab8WHJ/rgc+7+5i7PwscCN4vJ3W5+8Mpn6FHScx6lW3pHK+ZvBb4rrv3unsf8F3g2pDquhn4XIb2fUHu/kMSDbaZXA98xhMeBWrNbBUZOF55FeBpmm4y5TVAA9Dv7uemLM+EFe5+Inh8Elgxy/Y38fwPz0eDP5/uMLNMzQScbl1lZtZmZo8mu3XIo+NlZjtItKoOpizO1PGa6fMy7TbB8RggcXzSeW0260p1K4lWXNJ0P9Nc1vWW4Odzn5klp1bMi+MVdDWtBx5KWZyt45WOmWpf8PHK+qTGU5nZ94CV06z6kLvfn+t6ki5UV+oTd3czm3HsZfCb9YUkZipK+iCJICslMRb0A8Bf5rCuZnfvNLMNwENm9jSJkJq3DB+v/wBucffkNOjzPl6FyMzeAbQCL09Z/LyfqbsfnP4dMu5rwOfcfczM3kXir5drcrTvdNwE3OfukynLwjxeWZPzAHf3Vy3wLWaaTPk0iT9NioNW1JwmWb5QXWbWZWar3P1EEDjdF3irtwFfcfeJlPdOtkbHzOzfgfflsi537wz+PWRm3wcuB75EyMfLzJYC3yDxy/vRlPee9/GaRjqTbye36TCzYqCGxOcpmxN3p/XeZvYqEr8UX+7uY8nlM/xMMxFIs9bl7qdTnn6KxDmP5GtfMeW1389ATWnVleIm4D2pC7J4vNIxU+0LPl5R7EKZdjJlT5wVeJhE/zPALUCmWvQPBO+Xzvs+r+8tCLFkv/MNwLRnq7NRl5nVJbsgzGwZ8GJgb9jHK/jZfYVE3+B9U9Zl8nilM/l2ar03Ag8Fx+cB4CZLjFJZD2wCfraAWuZUl5ldDvwr8EZ3705ZPu3PNId1rUp5+kbgmeDxt4HXBPXVAa/hl/8SzWpdQW0Xkzgh+NOUZdk8Xul4APhvwWiUq4GBoJGy8OOVrTOz8/kC3kSiH2gM6AK+HSxfDXwzZbvrgP0kfoN+KGX5BhL/wQ4AXwSWZKiuBuBBoB34HlAfLG8FPpWyXQuJ36pFU17/EPA0iSD6T6AqV3UBvxrs+6ng31vz4XgB7wAmgJ0pX9uzcbym+7yQ6JJ5Y/C4LPj+DwTHY0PKaz8UvG4f8OsZ/rzPVtf3gv8HyePzwGw/0xzV9dfAnmD/DwMXp7z2d4LjeAD47VzWFTz/MPDxKa/L9vH6HIlRVBMk8utW4N3Au4P1BvxzUPfTpIywW+jx0qX0IiIRFcUuFBERQQEuIhJZCnARkYhSgIuIRJQCXEQkohTgIiIRpQAXEYmo/w9IBz4wp/M9uAAAAABJRU5ErkJggg==\n",
                  "text/plain": "<Figure size 432x288 with 1 Axes>"
                },
                "metadata": {
                  "needs_background": "light"
                }
              }
            ],
            "_view_module": "@jupyter-widgets/output",
            "_model_module_version": "1.0.0",
            "_view_count": null,
            "_view_module_version": "1.0.0",
            "layout": "IPY_MODEL_d9f3535bd9e4480889385f8561606b1d",
            "_model_module": "@jupyter-widgets/output"
          }
        },
        "e39cac62a1604ee08e8365a80b433256": {
          "model_module": "@jupyter-widgets/controls",
          "model_name": "SliderStyleModel",
          "model_module_version": "1.5.0",
          "state": {
            "_view_name": "StyleView",
            "handle_color": null,
            "_model_name": "SliderStyleModel",
            "description_width": "",
            "_view_module": "@jupyter-widgets/base",
            "_model_module_version": "1.5.0",
            "_view_count": null,
            "_view_module_version": "1.2.0",
            "_model_module": "@jupyter-widgets/controls"
          }
        },
        "1b1542b392d74407ae3105adf61cbd9c": {
          "model_module": "@jupyter-widgets/base",
          "model_name": "LayoutModel",
          "model_module_version": "1.2.0",
          "state": {
            "_view_name": "LayoutView",
            "grid_template_rows": null,
            "right": null,
            "justify_content": null,
            "_view_module": "@jupyter-widgets/base",
            "overflow": null,
            "_model_module_version": "1.2.0",
            "_view_count": null,
            "flex_flow": null,
            "width": null,
            "min_width": null,
            "border": null,
            "align_items": null,
            "bottom": null,
            "_model_module": "@jupyter-widgets/base",
            "top": null,
            "grid_column": null,
            "overflow_y": null,
            "overflow_x": null,
            "grid_auto_flow": null,
            "grid_area": null,
            "grid_template_columns": null,
            "flex": null,
            "_model_name": "LayoutModel",
            "justify_items": null,
            "grid_row": null,
            "max_height": null,
            "align_content": null,
            "visibility": null,
            "align_self": null,
            "height": null,
            "min_height": null,
            "padding": null,
            "grid_auto_rows": null,
            "grid_gap": null,
            "max_width": null,
            "order": null,
            "_view_module_version": "1.2.0",
            "grid_template_areas": null,
            "object_position": null,
            "object_fit": null,
            "grid_auto_columns": null,
            "margin": null,
            "display": null,
            "left": null
          }
        },
        "126629142c6946618a2f22484f629324": {
          "model_module": "@jupyter-widgets/controls",
          "model_name": "ButtonStyleModel",
          "model_module_version": "1.5.0",
          "state": {
            "_view_name": "StyleView",
            "_model_name": "ButtonStyleModel",
            "_view_module": "@jupyter-widgets/base",
            "_model_module_version": "1.5.0",
            "_view_count": null,
            "button_color": null,
            "font_weight": "",
            "_view_module_version": "1.2.0",
            "_model_module": "@jupyter-widgets/controls"
          }
        },
        "15daf5f2e2214e84adb59fe7803052b8": {
          "model_module": "@jupyter-widgets/base",
          "model_name": "LayoutModel",
          "model_module_version": "1.2.0",
          "state": {
            "_view_name": "LayoutView",
            "grid_template_rows": null,
            "right": null,
            "justify_content": null,
            "_view_module": "@jupyter-widgets/base",
            "overflow": null,
            "_model_module_version": "1.2.0",
            "_view_count": null,
            "flex_flow": null,
            "width": null,
            "min_width": null,
            "border": null,
            "align_items": null,
            "bottom": null,
            "_model_module": "@jupyter-widgets/base",
            "top": null,
            "grid_column": null,
            "overflow_y": null,
            "overflow_x": null,
            "grid_auto_flow": null,
            "grid_area": null,
            "grid_template_columns": null,
            "flex": null,
            "_model_name": "LayoutModel",
            "justify_items": null,
            "grid_row": null,
            "max_height": null,
            "align_content": null,
            "visibility": null,
            "align_self": null,
            "height": null,
            "min_height": null,
            "padding": null,
            "grid_auto_rows": null,
            "grid_gap": null,
            "max_width": null,
            "order": null,
            "_view_module_version": "1.2.0",
            "grid_template_areas": null,
            "object_position": null,
            "object_fit": null,
            "grid_auto_columns": null,
            "margin": null,
            "display": null,
            "left": null
          }
        },
        "d9f3535bd9e4480889385f8561606b1d": {
          "model_module": "@jupyter-widgets/base",
          "model_name": "LayoutModel",
          "model_module_version": "1.2.0",
          "state": {
            "_view_name": "LayoutView",
            "grid_template_rows": null,
            "right": null,
            "justify_content": null,
            "_view_module": "@jupyter-widgets/base",
            "overflow": null,
            "_model_module_version": "1.2.0",
            "_view_count": null,
            "flex_flow": null,
            "width": null,
            "min_width": null,
            "border": null,
            "align_items": null,
            "bottom": null,
            "_model_module": "@jupyter-widgets/base",
            "top": null,
            "grid_column": null,
            "overflow_y": null,
            "overflow_x": null,
            "grid_auto_flow": null,
            "grid_area": null,
            "grid_template_columns": null,
            "flex": null,
            "_model_name": "LayoutModel",
            "justify_items": null,
            "grid_row": null,
            "max_height": null,
            "align_content": null,
            "visibility": null,
            "align_self": null,
            "height": null,
            "min_height": null,
            "padding": null,
            "grid_auto_rows": null,
            "grid_gap": null,
            "max_width": null,
            "order": null,
            "_view_module_version": "1.2.0",
            "grid_template_areas": null,
            "object_position": null,
            "object_fit": null,
            "grid_auto_columns": null,
            "margin": null,
            "display": null,
            "left": null
          }
        }
      }
    }
  },
  "cells": [
    {
      "cell_type": "markdown",
      "metadata": {
        "id": "view-in-github",
        "colab_type": "text"
      },
      "source": [
        "<a href=\"https://colab.research.google.com/github/MontiMic/Tesi/blob/riordinato/Untitled1.ipynb\" target=\"_parent\"><img src=\"https://colab.research.google.com/assets/colab-badge.svg\" alt=\"Open In Colab\"/></a>"
      ]
    },
    {
      "cell_type": "markdown",
      "source": [
        "# Introduzione\n",
        "La seguente presentazione si propone di semplificare l'apprendimento di alcuni principi del calcolo probabilistico offrendo la possibilità di vedere applicare le leggi su grandi numeri e confrontando i risultati ottenuti con quelli attesi dalla teoria."
      ],
      "metadata": {
        "id": "yyLelI9l5lbc"
      }
    },
    {
      "cell_type": "markdown",
      "source": [
        "Di seguito includiamo le librerie che verranno utilizzate nel corso della presentazione:\n",
        "\n",
        "* **numpy** per la manipolazione dei dati\n",
        "\n",
        "* **interact** per rendere la presentazione interattiva offrendo la possibilità allo studente di scegliere gli input\n",
        "\n",
        "* **pyplot** per la rappresentazione grafica dei risultati"
      ],
      "metadata": {
        "id": "35yCw13F7Yam"
      }
    },
    {
      "cell_type": "code",
      "execution_count": 10,
      "metadata": {
        "id": "TAxUPZupC-qR"
      },
      "outputs": [],
      "source": [
        "import numpy as np\n",
        "from ipywidgets import interact, interact_manual\n",
        "from matplotlib import pyplot as plt\n",
        "import math\n",
        "import seaborn as sns\n",
        "import random"
      ]
    },
    {
      "cell_type": "markdown",
      "source": [
        "##Elementi di python"
      ],
      "metadata": {
        "id": "XN5Whz1Y9fiZ"
      }
    },
    {
      "cell_type": "markdown",
      "source": [
        "Questa sezione è rivolta unicamente a chi non avesse ancora mai visto il python, allo scopo di mostrare alcune pratiche peculiari a Python."
      ],
      "metadata": {
        "id": "yHNFMDrk9pHX"
      }
    },
    {
      "cell_type": "markdown",
      "source": [
        "La funzione np.zeros(n) restituisce un array di zeri lungo n"
      ],
      "metadata": {
        "id": "kXZd8nfHDkHj"
      }
    },
    {
      "cell_type": "code",
      "source": [
        "np.zeros(5)"
      ],
      "metadata": {
        "colab": {
          "base_uri": "https://localhost:8080/"
        },
        "id": "Pukdrzg7-ggY",
        "outputId": "74bed55a-d1cb-4953-d175-564075289ba8"
      },
      "execution_count": 11,
      "outputs": [
        {
          "output_type": "execute_result",
          "data": {
            "text/plain": [
              "array([0., 0., 0., 0., 0.])"
            ]
          },
          "metadata": {},
          "execution_count": 11
        }
      ]
    },
    {
      "cell_type": "markdown",
      "source": [
        "Specificando anche il type booleano facciamo una conversione: \n",
        "\n",
        "*  Gli zeri diventano False\n",
        "\n",
        "* I valori diversi da zero diventano True"
      ],
      "metadata": {
        "id": "VyLCyWeYDvuh"
      }
    },
    {
      "cell_type": "code",
      "source": [
        "esempio = np.zeros(10, dtype=np.bool)\n",
        "print(esempio)"
      ],
      "metadata": {
        "colab": {
          "base_uri": "https://localhost:8080/"
        },
        "id": "lO-15LDEDZEP",
        "outputId": "52baa050-4440-4f35-9882-7964400d1fd7"
      },
      "execution_count": 12,
      "outputs": [
        {
          "output_type": "stream",
          "name": "stdout",
          "text": [
            "[False False False False False False False False False False]\n"
          ]
        }
      ]
    },
    {
      "cell_type": "markdown",
      "source": [
        "Useremo questo tipo di struttura dati per simulare praticamente tutto, dalla roulette (True = rosso, False = nero) ad un urna di palline (quando ci basteranno 2 soli colori delle palline)"
      ],
      "metadata": {
        "id": "t-fqP7KSEIUu"
      }
    },
    {
      "cell_type": "markdown",
      "source": [
        "Questa struttura dati ci offre inol"
      ],
      "metadata": {
        "id": "YS53XnBHNuxD"
      }
    },
    {
      "cell_type": "markdown",
      "source": [
        "Per modificare un array il python ci offre uno strumento molto potente: lo slicing. Questa funzionalità permette di intervenire su un qualunque sottoinsieme dell'array se usata correttamente. A noi basta sapere che in un caso come esempio[1:5:2], stiamo intervenendo sull'array esempio, prendendo gli elementi dalla posizione 1 (inclusa) alla posizione 5 (esclusa) con passo 2:"
      ],
      "metadata": {
        "id": "OEyj-K9iEeQa"
      }
    },
    {
      "cell_type": "code",
      "source": [
        "esempio = ['a', 'b', 'c', 'd', 'e']\n",
        "esempio[1:5:2]"
      ],
      "metadata": {
        "colab": {
          "base_uri": "https://localhost:8080/"
        },
        "id": "48oF9noGF3Np",
        "outputId": "618bc70b-3df9-4777-bc82-9f54f6b8c394"
      },
      "execution_count": 13,
      "outputs": [
        {
          "output_type": "execute_result",
          "data": {
            "text/plain": [
              "['b', 'd']"
            ]
          },
          "metadata": {},
          "execution_count": 13
        }
      ]
    },
    {
      "cell_type": "markdown",
      "source": [
        "Non specificare il primo parametro significa partire dall'elemento 0, omettere il secondo significa procedere fino all'ultimo (compreso) e non specificare il passo significa passo 1: non saltare nessun elemento."
      ],
      "metadata": {
        "id": "Rm-4oAaOGvIL"
      }
    },
    {
      "cell_type": "markdown",
      "source": [
        "La funzione range(n) restituisce un iterabile lungo n. In python è generalmente usata nel ciclo for."
      ],
      "metadata": {
        "id": "b6PzabLwIH1d"
      }
    },
    {
      "cell_type": "code",
      "source": [
        "for i in range(5):\n",
        "  print(i)"
      ],
      "metadata": {
        "colab": {
          "base_uri": "https://localhost:8080/"
        },
        "id": "fdFx5oZPIaf5",
        "outputId": "7b3cc548-04a4-43f3-f2f4-1ad6a82f7908"
      },
      "execution_count": 14,
      "outputs": [
        {
          "output_type": "stream",
          "name": "stdout",
          "text": [
            "0\n",
            "1\n",
            "2\n",
            "3\n",
            "4\n"
          ]
        }
      ]
    },
    {
      "cell_type": "markdown",
      "source": [
        "##Funzioni utili"
      ],
      "metadata": {
        "id": "UdZaaBfKzjzX"
      }
    },
    {
      "cell_type": "markdown",
      "source": [
        "Quelle che seguono sono funzioni utilizzate in più test del documento, per il corretto funzionamento dei test successivi è necessario eseguire queste celle una volta."
      ],
      "metadata": {
        "id": "iZFqSjhypj_Y"
      }
    },
    {
      "cell_type": "code",
      "source": [
        "#funzione che genera una roulette simulata da un array lungo 37 di cui 18 valori contano come \"vittoria\"\n",
        "def mk_roulette():\n",
        "  ruota = np.zeros(37, dtype=np.bool)\n",
        "  ruota[1::2] = True\n",
        "  return ruota"
      ],
      "metadata": {
        "id": "4LJOZHxd810N"
      },
      "execution_count": 15,
      "outputs": []
    },
    {
      "cell_type": "code",
      "source": [
        "#funzione che simula una singola partita alla roulette (1 o più puntate uguali) e, dato il portafogli di partenza, torno il nuovo conto\n",
        "def partita(ruota, giocate, puntata, portafogli):\n",
        "  while(giocate > 0):\n",
        "      giocate = giocate - 1\n",
        "      portafogli = portafogli - puntata #la puntata la considero sempre persa, in caso di vittoria vinco il doppio della puntata\n",
        "      if(ruota[np.random.randint(0, (37))]): #estraggo un elemento casuale della roulette e verifico se è rosso\n",
        "        portafogli = portafogli + (puntata * 2)\n",
        "  return portafogli  "
      ],
      "metadata": {
        "id": "fqGFfq_CT7Tv"
      },
      "execution_count": 16,
      "outputs": []
    },
    {
      "cell_type": "code",
      "source": [
        "#funzione che simula un dado ritornando un intero compreso tra 1 e 6\n",
        "def trow():\n",
        "  return np.random.randint(1, 7)"
      ],
      "metadata": {
        "id": "O7NiHEewS99d"
      },
      "execution_count": 17,
      "outputs": []
    },
    {
      "cell_type": "code",
      "source": [
        "#funzione che ritorna un'urna contenente palline di 2 colori in quanità scelta\n",
        "def mk_urna(bianche, rosse):\n",
        "  tot = bianche + rosse\n",
        "  urna = np.zeros((tot, 1), dtype=np.bool)\n",
        "  while(rosse > 0):\n",
        "    rnd = np.random.randint(0, (tot))\n",
        "    if (not urna[rnd]):\n",
        "      urna[rnd] = True\n",
        "      rosse = rosse - 1\n",
        "  return urna"
      ],
      "metadata": {
        "id": "R06bqIr8Ii4G"
      },
      "execution_count": 18,
      "outputs": []
    },
    {
      "cell_type": "markdown",
      "source": [
        "##Interpretazione dei risultati"
      ],
      "metadata": {
        "id": "EbFr-wXap_mS"
      }
    },
    {
      "cell_type": "markdown",
      "source": [
        "I test di questo documento hanno lo scopo di mostrare che le formule viste con la teoria del calcolo probabilistico hanno un riscontro nella realtà. \n",
        "Ogni test simulerà per un numero di volte a discrezione dello studente, lo scenario descritto dall'esempio in esame. Si noti che un numero più alto di ripetizioni porterà a risultati più precisi."
      ],
      "metadata": {
        "id": "Mp5-2IqZqDex"
      }
    },
    {
      "cell_type": "code",
      "source": [
        "def moneta(lanci):\n",
        "  results = []\n",
        "  for i in range(lanci): #lanciamo la moneta tante volte quante indicate dal parametro \"lanci\"\n",
        "    results.append(np.random.randint(2))\n",
        "  #grafico\n",
        "  labels = []\n",
        "  normalized = []\n",
        "  normalized.append(round(((results.count(0) / lanci) * 100), 2)) #conto le istanze dei risultati e le normalizzo\n",
        "  normalized.append(round(100 - sum(normalized), 2)) #per evitare che per errori di arrotondamento la somma dei risultati sia 99.9%, l'ultimo risultato lo calcolo come 100 - (la somma dei precedenti)\n",
        "  for i in range(len(normalized)):\n",
        "    labels.append(str(normalized[i]) + \"%\") # aggiungo le labels (i valori riportati all'esterno del grafico)\n",
        "  plt.pie(normalized, labels=labels)\n",
        "  legenda = [\"Testa\", \"Croce\"]\n",
        "  plt.legend(legenda,loc='upper center', bbox_to_anchor=(0.5, -0.05), fancybox=True, shadow=True, ncol=5)"
      ],
      "metadata": {
        "id": "pZxUQQ-_rGuz"
      },
      "execution_count": 19,
      "outputs": []
    },
    {
      "cell_type": "code",
      "source": [
        "moneta(100)"
      ],
      "metadata": {
        "id": "7rynuIn1ubs4",
        "outputId": "2e94207c-f24e-45cf-8ff0-b88e5d3d8dce",
        "colab": {
          "base_uri": "https://localhost:8080/",
          "height": 282
        }
      },
      "execution_count": 20,
      "outputs": [
        {
          "output_type": "display_data",
          "data": {
            "image/png": "[encoded data removed]",
            "text/plain": [
              "<Figure size 432x288 with 1 Axes>"
            ]
          },
          "metadata": {}
        }
      ]
    },
    {
      "cell_type": "code",
      "source": [
        "moneta(10_000)"
      ],
      "metadata": {
        "id": "E6dWQdxUud7o",
        "outputId": "12163ed4-a91a-4c34-84fd-6ce5d1fdef09",
        "colab": {
          "base_uri": "https://localhost:8080/",
          "height": 282
        }
      },
      "execution_count": 21,
      "outputs": [
        {
          "output_type": "display_data",
          "data": {
            "image/png": "[encoded data removed]",
            "text/plain": [
              "<Figure size 432x288 with 1 Axes>"
            ]
          },
          "metadata": {}
        }
      ]
    },
    {
      "cell_type": "code",
      "source": [
        "moneta(1_000_000)"
      ],
      "metadata": {
        "id": "uNmo8_dXugoY",
        "outputId": "6cff301b-a1f0-46d5-e138-86f86c636101",
        "colab": {
          "base_uri": "https://localhost:8080/",
          "height": 282
        }
      },
      "execution_count": 22,
      "outputs": [
        {
          "output_type": "display_data",
          "data": {
            "image/png": "[encoded data removed]",
            "text/plain": [
              "<Figure size 432x288 with 1 Axes>"
            ]
          },
          "metadata": {}
        }
      ]
    },
    {
      "cell_type": "markdown",
      "source": [
        "Per un buon equilibrio tra accuratezza dei risultati e tempo di esecuzione impostiamo il numero di ripetizioni a 100 000 con la variabile \"precisione\"."
      ],
      "metadata": {
        "id": "0_jUagMkw72N"
      }
    },
    {
      "cell_type": "code",
      "source": [
        "precisione = 100_000"
      ],
      "metadata": {
        "id": "7YqOeAMoxunS"
      },
      "execution_count": 23,
      "outputs": []
    },
    {
      "cell_type": "markdown",
      "source": [
        "Si lascia allo studente la possibilità di incrementare questa variabile se desiderasse dei risultati più precisi."
      ],
      "metadata": {
        "id": "uH7_BXdBxvvq"
      }
    },
    {
      "cell_type": "markdown",
      "source": [
        "# Variabili aleatorie discrete"
      ],
      "metadata": {
        "id": "gQTrf-PK7FxE"
      }
    },
    {
      "cell_type": "markdown",
      "source": [
        "Una variabile aleatoria _X_ si dice discreta se i valori che assume sono finiti oppure numerabili.\n",
        "\n",
        "Nel caso siano numerabili molto spesso potremo pensare che siano semplicmente i numeri interi, ma non vogliamo escludere anche casi in cui abbiamo dei valori non interi."
      ],
      "metadata": {
        "id": "f7tQYrZgLgm2"
      }
    },
    {
      "cell_type": "markdown",
      "source": [
        "##Esempio 1.1 \n",
        "Faccio 3 puntate sul rosso alla roulette puntando 10 euro per volta, qual è la probabilità di vincere più di un certo valore _X_?\n",
        "\n",
        "(Le vincite possibili sono valori finiti ed è quindi una variabile discreta)"
      ],
      "metadata": {
        "id": "wO2wYqZ-DSZF"
      }
    },
    {
      "cell_type": "code",
      "source": [
        "@interact_manual(vincita=(0, 30))\n",
        "def roulette(vincita=5):\n",
        "  giocate = 3\n",
        "  puntata = 10\n",
        "  ruota = mk_roulette()\n",
        "  count = 0\n",
        "  for i in range(precisione):\n",
        "    portafogli = giocate * puntata\n",
        "    portafogli = partita(ruota, giocate, puntata, portafogli) #il portafogli viene aggiornato dopo aver simulato una partita\n",
        "    if((portafogli - 30) >= vincita): #se ho finito le 3 puntate con una vincita maggiore o uguale a quella sperata la aggiungo al conteggio\n",
        "      count = count + 1\n",
        "  return round(count / precisione, 3)"
      ],
      "metadata": {
        "colab": {
          "base_uri": "https://localhost:8080/",
          "height": 98,
          "referenced_widgets": [
            "247c2a04903f41a6b29424e1be9dd605",
            "e6a1714b501e48439873c7a5a7b693fe",
            "3c9cbd83a4d9417db73dce365da841a8",
            "d2cf367098b04bd39635088f065cb1fe",
            "aed70e712df0477a948f60efc650bf6c",
            "9758eb3f6b6942b6a6a913a0223b26fc",
            "0d0218c515f846898b7f60c9877a26de",
            "8982e91928564faab52a261e296d0b36",
            "ed518c50cbad4e18b9079364b7857fe7",
            "96607398cd294dd6973bcaa6cbd1e333"
          ]
        },
        "id": "w2ugmhMy_cfa",
        "outputId": "837831a1-4ac4-4098-a749-388785b5c406"
      },
      "execution_count": 24,
      "outputs": [
        {
          "output_type": "display_data",
          "data": {
            "application/vnd.jupyter.widget-view+json": {
              "model_id": "247c2a04903f41a6b29424e1be9dd605",
              "version_minor": 0,
              "version_major": 2
            },
            "text/plain": [
              "interactive(children=(IntSlider(value=5, description='vincita', max=30), Button(description='Run Interact', st…"
            ]
          },
          "metadata": {}
        }
      ]
    },
    {
      "cell_type": "markdown",
      "source": [
        "##Esempio 1.2\n",
        "Dati il numero di puntate ed i soldi scommessi ogni volta, quanto mi dovrei aspettare di aver vinto alla fine? (risultato in euro)"
      ],
      "metadata": {
        "id": "tTOcRD2kD_zf"
      }
    },
    {
      "cell_type": "code",
      "source": [
        "@interact_manual(giocate=(1, 10), puntata=(5, 100, 5))\n",
        "def roulette(giocate = 3, puntata = 10):\n",
        "  portafogli = giocate * puntata * precisione\n",
        "  ruota = mk_roulette()\n",
        "  for i in range(precisione):\n",
        "    portafogli = partita(ruota, giocate, puntata, portafogli)\n",
        "  portafogli = portafogli / precisione\n",
        "  return round(portafogli - (giocate * puntata), 2)"
      ],
      "metadata": {
        "colab": {
          "base_uri": "https://localhost:8080/",
          "height": 130,
          "referenced_widgets": [
            "3a90e80b23ea42cc8a848fd12dc192f5",
            "85425d1b84894b438dfee9dcd09b4b8c",
            "990795103c12488f91cddfe5108b72f6",
            "448e791196404c149016d6b60b59897e",
            "570ce8a63d7d4384b085c8e63dc5dcc5",
            "b721ef7134934b76b40415eddcef7384",
            "53f83c3975244ee4b3d427fc7d4bb7b5",
            "f89db45d07424192bbc687f58ca8e068",
            "8999351fbf3140fda05b988b155759f0",
            "2cf32e59b7f343a8b79b88dc5f7369a8",
            "4a083c0953dd4d9e83589181bdc87f04",
            "c2cb086f48cc4578ab551cdb56340446",
            "54dc6a11862d4e4cb92b8b8ed26e8b45"
          ]
        },
        "id": "TR8QkEnHD-B2",
        "outputId": "89a2d32f-e2ac-4496-a3cd-231fe3ede30c"
      },
      "execution_count": 25,
      "outputs": [
        {
          "output_type": "display_data",
          "data": {
            "application/vnd.jupyter.widget-view+json": {
              "model_id": "3a90e80b23ea42cc8a848fd12dc192f5",
              "version_minor": 0,
              "version_major": 2
            },
            "text/plain": [
              "interactive(children=(IntSlider(value=3, description='giocate', max=10, min=1), IntSlider(value=10, descriptio…"
            ]
          },
          "metadata": {}
        }
      ]
    },
    {
      "cell_type": "markdown",
      "source": [
        "# Distribuzione uniforme e non uniforme"
      ],
      "metadata": {
        "id": "qBnKgfwaLT9x"
      }
    },
    {
      "cell_type": "markdown",
      "source": [
        "Sia _A_ = {_x1_, . . . , _xn_}; una variabile _X_ che assume i valori in _A_ tutti con la stessa probabilità $\\frac{1}{n}$\n",
        "si dice _variabile uniforme_ su _A_. Scriviamo in questo caso _X_ ∼ _U_(_A_) oppure _X_ ∼ _U_(_x1_, . . . , _xn_).\n",
        "La densità è quindi:\n",
        "\n",
        "\\begin{equation}\n",
        "  px(h) =\n",
        "    \\begin{cases}\n",
        "           \\frac{1}{n} \\ se \\  h  \\ ∈ \\ ({x1}, {x2}, ..., {xn})\n",
        "          \\\\\n",
        "          0 \\ altrimenti\n",
        "        \\end{cases}\n",
        "\\end{equation}"
      ],
      "metadata": {
        "id": "GUQzPwZ8NK0Q"
      }
    },
    {
      "cell_type": "markdown",
      "source": [
        "##Esempio 2.1 \n",
        "Nel lancio di un dado sia Ω = {1, 2, 3, 4, 5, 6} l’insieme dei possibili risultati.\n",
        "Allora la funzione _X_(_n_) = n per ogni n ∈ Ω è una variabile aleatoria uniforme _X_ ∼ _U_(1, 2, 3, 4, 5, 6).\n"
      ],
      "metadata": {
        "id": "HJrqw0EbXj2l"
      }
    },
    {
      "cell_type": "code",
      "source": [
        "def dice():\n",
        "  results = []\n",
        "  for i in range(precisione):\n",
        "    results.append(trow()) #aggiungo il risultato del tiro alla lista dei risultati\n",
        "  #grafico\n",
        "  elem_count = []\n",
        "  labels = []\n",
        "  for i in range(len(set(results))): #conto le istanze di ogni risultato ottenuto ed aggiungo i totali a elem_count, poi lo metto a grafico\n",
        "    elem_count.append(results.count(i+1))\n",
        "    labels.append(str(i+1))\n",
        "  plt.bar(labels, elem_count)\n",
        "dice()"
      ],
      "metadata": {
        "colab": {
          "base_uri": "https://localhost:8080/",
          "height": 265
        },
        "id": "pO1ExmtATCeI",
        "outputId": "a4d54b92-f009-47d2-edd4-641ae629de97"
      },
      "execution_count": 26,
      "outputs": [
        {
          "output_type": "display_data",
          "data": {
            "image/png": "[encoded data removed]",
            "text/plain": [
              "<Figure size 432x288 with 1 Axes>"
            ]
          },
          "metadata": {
            "needs_background": "light"
          }
        }
      ]
    },
    {
      "cell_type": "markdown",
      "source": [
        "##Esempio 2.2\n",
        "Se invece lanciassimo due dadi, la variabile _X_ che assume un valore corrispondente al numero di risultati pari ottenuti dal lancio sarebbe una _variabile non uniforme_ siccome la sua densità sarebbe:\n",
        "\n",
        "\\begin{equation}\n",
        "  py(h) =\n",
        "    \\begin{cases}\n",
        "          \\frac{1}{4} \\  h={0},{2}\n",
        "          \\\\\n",
        "          \\frac{1}{2} \\ h={1}\n",
        "          \\\\\n",
        "          0 \\ altrimenti\n",
        "        \\end{cases}\n",
        "\\end{equation}"
      ],
      "metadata": {
        "id": "BZUNA1OvaQp6"
      }
    },
    {
      "cell_type": "code",
      "source": [
        "def even_dices():\n",
        "  results = []\n",
        "  for i in range(precisione):\n",
        "    a, b = trow(), trow() #lancio due dadi, poi conterò quanti sono pari per aggiungere il risultato alla lista\n",
        "    results.append(2-((a % 2)+(b % 2))) #conto i dadi pari come due meno i dadi dispari (n%2 = 1 per n dispari, 0 altrimenti)\n",
        "  valori = []\n",
        "  normalized = []\n",
        "  for i in range(3): #conto le istanze dei risultati e le divido per il numero di risultati totale (normalizzo)\n",
        "    normalized.append(results.count(i) / len(results)) #len(results) torna la lunghezza della lista results\n",
        "    valori.append(\"k=\" + str(i))\n",
        "  plt.pie(normalized, labels=valori)\n",
        "even_dices()"
      ],
      "metadata": {
        "colab": {
          "base_uri": "https://localhost:8080/",
          "height": 248
        },
        "id": "Ly_UKZkxZr2J",
        "outputId": "c8b2f6a0-37f7-4a10-bfef-14ab8233937b"
      },
      "execution_count": 27,
      "outputs": [
        {
          "output_type": "display_data",
          "data": {
            "image/png": "[encoded data removed]",
            "text/plain": [
              "<Figure size 432x288 with 1 Axes>"
            ]
          },
          "metadata": {}
        }
      ]
    },
    {
      "cell_type": "markdown",
      "source": [
        "#Densità binomiale"
      ],
      "metadata": {
        "id": "qimeQspadWgq"
      }
    },
    {
      "cell_type": "markdown",
      "source": [
        "Consideriamo un fenomeno aleatorio e un certo evento ad esso associato. Per semplicità diciamo che se l’evento si realizza otteniamo un “successo”, viceversa che abbiamo ottenuto un “insuccesso\".\n",
        "Uno schema successo-insuccesso consiste nel ripetere questo fenomeno un certo fissato numero di volte, dette anche prove o tentativi, in cui siamo interessati unicamente al numero di successi ottenuti\n",
        "nelle varie prove.\n",
        "Supponiamo ora che le prove siano indipendenti l’una dall’altra, cioè vengono effettuate tuttevnelle medesime condizioni, indipendentemente dal risultato delle prove precedenti: parliamo in questo caso di schema successo-insuccesso con ripetizione o a prove indipendenti. Consideriamo\n",
        "quindi la variabile X data dal numero di successi in n tentativi.\n",
        "Nel caso in cui le prove siano indipendenti l’una dall’altra, la probabilità di ottenere una certa prefissata sequenza di successi e insuccessi dipende solo dal numero di questi ultimi e non dall’ordine con cui vogliamo che si succedano. La probabilità di ottenere una sequenza fissata in cui abbiamo k successi e n − k insuccessi è data da\n",
        "$p^k(1-p)^{n-k}$, dove p è la probabilità che ogni singolo tentativo abbia successo. Siccome i modi in cui possiamo scegliere le k posizioni per i successi sono date da ${n\\choose k}$ otteniamo per la variabile X la densità data da\n",
        "\n",
        "\\begin{equation}\n",
        "  px(k) =\n",
        "    \\begin{cases}\n",
        "          {n\\choose k} p^k(1-p)^{n-k} \\ se \\ k=1,2,...,n\n",
        "          \\\\\n",
        "          0 \\ altrimenti\n",
        "        \\end{cases}\n",
        "\\end{equation}\n",
        "\n",
        "\n",
        "Scriveremo in questo caso _X_ ∼ _B_(_n_, _p_) e diciamo che _X_ è una variabile binomiale."
      ],
      "metadata": {
        "id": "OUh7jiOk7WSD"
      }
    },
    {
      "cell_type": "markdown",
      "source": [
        "##Esempio 3.1\n",
        "\n",
        "Supponiamo di andare al casinò con 15 Euro e puntiamo 3 volte 5 Euro alla roulette sul rosso. Consideriamo la variabile aleatoria X data dai soldi che abbiamo in tasca alla fine delle 3 puntate. La probabilità di ottenere un numero rosso è di $\\frac{18}{37}$ ad ogni tentativo.\n",
        "Determinare la densità di X.\n",
        "La variabile X può assumere i valori 30, 20, 10, 0 a seconda di quanti rossi sono usciti. Abbiamo:\n",
        "\n",
        "P(X = 30) = $(\\frac{18}{37})^3$ = 0,115\n",
        "\n",
        "P(X = 20) = ${3\\choose 1}(\\frac{18}{37})^2 · \\frac{19}{37}$= 0, 365\n",
        "\n",
        "P(X = 10) = ${3\\choose 2}(\\frac{18}{37}) · (\\frac{19}{37})^2$ = 0,385\n",
        "\n",
        "P(X = 0) = $(\\frac{19}{37})^3$ = 0,135\n"
      ],
      "metadata": {
        "id": "O8PjzahWhrRr"
      }
    },
    {
      "cell_type": "code",
      "source": [
        "@interact_manual(giocate=(1, 6), puntata=(5, 100, 5))\n",
        "def roulette(giocate = 3, puntata = 5):\n",
        "  ruota = mk_roulette()\n",
        "  results = []\n",
        "  for i in range(precisione):\n",
        "    portafogli = giocate * puntata\n",
        "    portafogli = partita(ruota, giocate, puntata, portafogli)\n",
        "    results.append(portafogli)\n",
        "  #grafico\n",
        "  normalized = []\n",
        "  valori = []\n",
        "  for i in range(giocate):\n",
        "    normalized.append(round(((results.count(puntata*2*i) / precisione) * 100), 2)) #conto le istanze dei risultati e le normalizzo\n",
        "  normalized.append(round(100 - sum(normalized), 2)) #per evitare che per errori di arrotondamento la somma dei risultati sia 99.9%, l'ultimo risultato lo calcolo come 100 - (la somma dei precedenti)\n",
        "  labels = []\n",
        "  for i in range(len(normalized)):\n",
        "    labels.append(str(normalized[i]) + \"%\") # aggiungo le labels (i valori riportati all'esterno del grafico)\n",
        "  plt.pie(normalized, labels=labels)\n",
        "  legenda = []\n",
        "  for i in range(len(normalized)):\n",
        "    legenda.append(str(puntata*2*i))\n",
        "  plt.legend(legenda,loc='upper center', bbox_to_anchor=(0.5, -0.05), fancybox=True, shadow=True, ncol=5)"
      ],
      "metadata": {
        "id": "QDB96jXivO40",
        "outputId": "0f885c72-d8cb-4960-e6d4-77a81624f47d",
        "colab": {
          "base_uri": "https://localhost:8080/",
          "height": 378,
          "referenced_widgets": [
            "b1ab40ec477149d2b9f97c1cef26f57e",
            "dceee5ccc49041d5a63f1e7f4584da70",
            "9e6fad0b6fb546c39072f2cc3bb41e67",
            "7da7271a9731485f8dec2d7fc038d673",
            "f93f57ab651b43bf9efb41fda67e788e",
            "d4a85633302143e7a8e1a589272e5820",
            "cd662f78bce548a8b9a34abfcd5c0746",
            "b402668a357f4311be277e66c0ab50bb",
            "cc067b57793f4ca58bb9d3392e20f230",
            "98172b4b9e2f42909b385f7e44bd349f",
            "81fcffb606f045ae9e9cd5b13220006e",
            "0c83b578a5094af692d74e958f2550b2",
            "78d2d466a3c4421faec490b12ab2f6a5"
          ]
        }
      },
      "execution_count": 28,
      "outputs": [
        {
          "output_type": "display_data",
          "data": {
            "application/vnd.jupyter.widget-view+json": {
              "model_id": "b1ab40ec477149d2b9f97c1cef26f57e",
              "version_minor": 0,
              "version_major": 2
            },
            "text/plain": [
              "interactive(children=(IntSlider(value=3, description='giocate', max=6, min=1), IntSlider(value=5, description=…"
            ]
          },
          "metadata": {}
        }
      ]
    },
    {
      "cell_type": "markdown",
      "source": [
        "# Densità ipergeometrica"
      ],
      "metadata": {
        "id": "9PjQr8MmCUYu"
      }
    },
    {
      "cell_type": "markdown",
      "source": [
        "\n",
        "Un altro tipo di schema successo-insuccesso è il cosiddetto schema successo-insuccesso _senza ripetizione_. In questo caso il fenomeno aleatorio consiste nell’estrazione di n palline, senza rimpiazzare di volta in volta la pallina estratta, da un'urna contenente b palline bianche e r palline rosse.\n",
        "Diciamo che la prova (estrazione) dà successo se viene estratta una pallina bianca e consideriamo la variabile X data dal numero di successi ottenuti, cioè dal numero di palline bianche estratte.\n",
        "\n",
        "\n",
        "Osserviamo che X può assumere tutti i valori tra max(0, n − r) e min(n, b): infatti se n > r siamo sicuri di pescare almeno n−r palline bianche e chiaramente il numero di bianche estratte non può superare nè il numero estrazioni nè il numero di palline bianche.\n",
        "\n",
        "Lo spazio Ω è dato da tutti i possibili sottoinsiemi di n oggetti (le palline estratte) scelti da un insieme di b + r oggetti (le palline\n",
        "disponibili), con probabilità uniforme. L’evento “X = k” è dato quindi da tutti i sottoinsiemi delle b + r palline costituiti da k palline bianche e n − k palline rosse. Le k bianche le posso scegliere in ${b\\choose k}$ modi. Le n − k rosse in ${r \\choose {n - k}}$ modi. Abbiamo quindi che la densità di X è data da\n",
        "\n",
        "\\begin{equation}\n",
        "  px(k) =\n",
        "    \\begin{cases}\n",
        "          \\frac{{b \\choose k} · {r \\choose n - k}}{b + r \\choose n} \\ se \\ k=max(0, n-r),...,min(n,b)\n",
        "          \\\\\n",
        "          0 \\ altrimenti\n",
        "        \\end{cases}\n",
        "\\end{equation}\n",
        "\n",
        "Scriviamo in questo caso X ∼ H(n; b, r) e diciamo che X è una variabile ipergeometrica."
      ],
      "metadata": {
        "id": "OnLdbdQjCbyl"
      }
    },
    {
      "cell_type": "markdown",
      "source": [
        "##Esempio 4.1\n",
        "Un’urna contiene 8 palline bianche e 2 rosse. Ne estraiamo 3 senza rimpiazzo.\n",
        "Qual è la probabilità di estrarne al più una rossa? In questo caso, a differenza del precedente abbiamo che la variabile X = numero di rosse estratte è una ipergeometrica X ∼ H(3; 2, 8) per\n",
        "cui\n",
        "\n",
        "P(_X_ ≤ 1) = P(_X_ = 0) + P(_X_ = 1) = $\\frac{{2 \\choose 0}·{8 \\choose 3}}{10 \\choose 3}$ + $\\frac{{2 \\choose 1}·{8 \\choose 2}}{10 \\choose 3}$ = $\\frac{14}{15}$ = 0.933"
      ],
      "metadata": {
        "id": "mqqc2UiZGaIY"
      }
    },
    {
      "cell_type": "code",
      "source": [
        "@interact_manual(estrazioni=(1, 10))\n",
        "def ipergeometrica(estrazioni=3):\n",
        "  bianche = 8\n",
        "  rosse = 2\n",
        "  urna = mk_urna(bianche, rosse)\n",
        "  results = 0\n",
        "  for i in range(precisione):\n",
        "    tmp = urna\n",
        "    count = 0\n",
        "    for i in range(estrazioni):\n",
        "      extr = np.random.randint(0, ((bianche + rosse)-i))\n",
        "      if(tmp[extr]):\n",
        "        count = count + 1\n",
        "      tmp = np.delete(tmp, extr)\n",
        "    if(count < 2):\n",
        "      results = results + 1  \n",
        "  return round(results / precisione, 3)"
      ],
      "metadata": {
        "id": "R0SjK_tkMtDv",
        "colab": {
          "base_uri": "https://localhost:8080/",
          "height": 98,
          "referenced_widgets": [
            "a15be47feea9446b9129ab0d5aa85066",
            "671ae869a83a49fb8926124938e8ffca",
            "94055d01394f4bda84d3aa7ae3a35c5d",
            "e6a4972996bf46a4bb00dba898c50c82",
            "b921e68a89ae44e5bf259755ef82e10f",
            "947a17165f984cc2bc1146faf976199f",
            "0c5ce2b5e2e240f09c1b60546a8e355a",
            "6aeca5e51ec3498b90dbd6e73951ca64",
            "ab91bf0cffaf426794b682b08d0e7c8d",
            "860ae991fc9841d3bd52a255fd30c4cb"
          ]
        },
        "outputId": "0f16260d-3cf3-47d6-e0a4-b6c83e4f6887"
      },
      "execution_count": 29,
      "outputs": [
        {
          "output_type": "display_data",
          "data": {
            "application/vnd.jupyter.widget-view+json": {
              "model_id": "a15be47feea9446b9129ab0d5aa85066",
              "version_minor": 0,
              "version_major": 2
            },
            "text/plain": [
              "interactive(children=(IntSlider(value=3, description='estrazioni', max=10, min=1), Button(description='Run Int…"
            ]
          },
          "metadata": {}
        }
      ]
    },
    {
      "cell_type": "markdown",
      "source": [
        "#Densità geometrica - geometrica modificata"
      ],
      "metadata": {
        "id": "-GtoecXjUH1e"
      }
    },
    {
      "cell_type": "markdown",
      "source": [
        "In uno schema successo-insuccesso, anzichè al numero di successi ottenuti su n tentativi, potremmo essere interessati al numero di tentativi che devo effettuare prima di ottenere un successo."
      ],
      "metadata": {
        "id": "YBirGuNoUKbB"
      }
    },
    {
      "cell_type": "markdown",
      "source": [
        "##Esempio 5.1\n",
        "\n",
        "Consideriamo un’urna con 2 palline bianche e 3 rosse. Le estraggo senza\n",
        "rimpiazzo finchè non trovo una pallina rossa. Considero la variabile aleatoria X=numero di estrazioni per trovare una pallina rossa. X è una variabile finita in quanto assume solo i valori 1, 2, 3.\n",
        "La sua densità si determina facilmente ed è data da\n",
        "\n",
        "\\begin{equation}\n",
        "  px(k) =\n",
        "    \\begin{cases}\n",
        "          \\frac{6}{10} \\ se \\ k=1\n",
        "          \\\\\n",
        "          \\frac{3}{10} \\ se \\ k=2\n",
        "          \\\\\n",
        "          \\frac{1}{10} \\ se \\ k=3\n",
        "          \\\\\n",
        "          0 \\ altrimenti\n",
        "        \\end{cases}\n",
        "\\end{equation}\n",
        "\n"
      ],
      "metadata": {
        "id": "aXX1PJQLUX9Z"
      }
    },
    {
      "cell_type": "code",
      "source": [
        "@interact_manual(bianche=(1,5), rosse=(1, 5))\n",
        "def geometrica(bianche=2, rosse=3):\n",
        "  palle = mk_urna(bianche, rosse)\n",
        "  results = []\n",
        "  count=0\n",
        "  while(len(results) < precisione):\n",
        "    done = len(results)\n",
        "    tmp = palle\n",
        "    while(len(results) == done):\n",
        "      extr = np.random.randint(0, ((bianche+rosse)-count))\n",
        "      if(tmp[extr]):\n",
        "        results.append(count)\n",
        "        count=0\n",
        "      else:  \n",
        "        tmp = np.delete(tmp,extr)\n",
        "        count = count + 1\n",
        "  #grafico\n",
        "  labels = []\n",
        "  normalized = []\n",
        "  for i in range(len(set(results)) - 1): #len(set(n)) torna il numero di risultati distinti presenti in results\n",
        "    normalized.append(round(((results.count(i) / precisione) * 100), 2)) #conto le istanze dei risultati e le normalizzo\n",
        "  normalized.append(round(100 - sum(normalized), 2)) #per evitare che per errori di arrotondamento la somma dei risultati sia 99.9%, l'ultimo risultato lo calcolo come 100 - (la somma dei precedenti)\n",
        "  for i in range(len(normalized)):\n",
        "    labels.append(str(normalized[i]) + \"%\") # aggiungo le labels (i valori riportati all'esterno del grafico)\n",
        "  plt.pie(normalized, labels=labels)\n",
        "  legenda = []\n",
        "  for i in range(bianche + 1):\n",
        "    legenda.append(\"k=\"+str(i+1))\n",
        "  plt.legend(legenda,loc='upper center', bbox_to_anchor=(0.5, -0.05), fancybox=True, shadow=True, ncol=5)"
      ],
      "metadata": {
        "colab": {
          "base_uri": "https://localhost:8080/",
          "height": 378,
          "referenced_widgets": [
            "c871d66ab125484788984a01c4555967",
            "7940cd623efc4360ad0ad52ce95a56b2",
            "064595df4a174e85a2e45995d800f29b",
            "6972e893151948ba8fd53d3a0c4c0261",
            "d8229ceaca6e44a782af59125152f15b",
            "810c0ffaf7b74221840f1138799294c1",
            "6b00d2e38c644e24b48a73d3635f9562",
            "ea890aadc12f432bb58d6938d962bba9",
            "402a4246a43d436f88e3004b7ab0952f",
            "694a84dd7a6a466bb5b46a98ca909ac1",
            "17e87d9c744b4031ac30be1537746721",
            "386d656b307c4e43b89ff07b04a571d4",
            "a15a37bcf4db491084ff121725d8a2c7"
          ]
        },
        "id": "5tLgoNi7f2YM",
        "outputId": "3057ed0b-b83b-4ba5-acff-7fb1a788c0b5"
      },
      "execution_count": 30,
      "outputs": [
        {
          "output_type": "display_data",
          "data": {
            "application/vnd.jupyter.widget-view+json": {
              "model_id": "c871d66ab125484788984a01c4555967",
              "version_minor": 0,
              "version_major": 2
            },
            "text/plain": [
              "interactive(children=(IntSlider(value=2, description='bianche', max=5, min=1), IntSlider(value=3, description=…"
            ]
          },
          "metadata": {}
        }
      ]
    },
    {
      "cell_type": "markdown",
      "source": [
        "Caso interessante:\n",
        "\n",
        "Nel caso di una sola pallina rossa ed _n_ palline bianche, non si ha un'estrazione in cui è più probabile trovare la rossa, hanno tutte probabilità $\\frac{1}{n+1}$ come si può verificare ri-lanciando l'esperimento precedente con una sola pallina rossa."
      ],
      "metadata": {
        "id": "Y5F358gdvcak"
      }
    },
    {
      "cell_type": "markdown",
      "source": [
        "##Esempio 5.2\n",
        "\n",
        "Ripetiamo l'esperimento precedente, ma questa volta rimpiazziamo la pallina ad ogni estrazione. La variabile X diventa numerabile e si ha\n",
        "\n",
        "\\begin{equation}\n",
        "  px(k) =\n",
        "    \\begin{cases}\n",
        "          (\\frac{2}{5})^{k-1}\\frac{3}{5} \\ se \\ k=1,2,3,...\n",
        "          \\\\\n",
        "          0 \\ altrimenti\n",
        "        \\end{cases}\n",
        "\\end{equation}\n",
        "\n",
        "Infatti richiedere X = k vuol dire aver ottenuto k − 1 insuccessi nei primi k − 1 tenativi (ognuno con probabilità $\\frac{2}{5}$) per poi finalmente ottenere un successo al k-esimo tentativo (con probabilità $\\frac{3}{5}$)"
      ],
      "metadata": {
        "id": "DPSi8KkVKH60"
      }
    },
    {
      "cell_type": "code",
      "source": [
        "@interact_manual(bianche=(1,5), rosse=(1, 5))\n",
        "def geometrica_mod(bianche=2, rosse=3):\n",
        "  palle = mk_urna(bianche, rosse)\n",
        "  results = []\n",
        "  count=0\n",
        "  while(len(results) < precisione):\n",
        "    done = len(results)\n",
        "    tmp = palle\n",
        "    while(len(results) == done):\n",
        "      extr = np.random.randint(0, (bianche+rosse))\n",
        "      if(tmp[extr]):\n",
        "        results.append(count)\n",
        "        count=0\n",
        "      else:  \n",
        "        count = count + 1\n",
        "  \n",
        "  #grafico risultati\n",
        "  labels = []\n",
        "  normalized = []\n",
        "  for i in range(len(set(results))): \n",
        "    normalized.append(round(((results.count(i) / precisione) * 100), 2))\n",
        "  for i in range(len(set(results))):\n",
        "    labels.append(str(i+1))\n",
        "  \n",
        "  #grafico teorico\n",
        "  teoria = []\n",
        "  for i in range(len(set(results))):\n",
        "    teoria.append(((bianche / (bianche + rosse))**(i)) * (rosse / (bianche + rosse)) * 100)\n",
        "\n",
        "  lab_arr = np.arange(len(labels))\n",
        "\n",
        "  w=0.4\n",
        "  plt.bar(lab_arr-(w/2), normalized, width=w)\n",
        "  plt.bar(lab_arr+(w/2), teoria, width=w)\n",
        "  plt.ylabel(\"Percentage\")\n",
        "  plt.xlabel(\"K\")\n",
        "  legenda = [\"Risultati ottenuti\", \"Risultati attesi\"]\n",
        "  plt.legend(legenda,loc='upper center', bbox_to_anchor=(0.5, -0.05), fancybox=True, shadow=True, ncol=5)"
      ],
      "metadata": {
        "colab": {
          "base_uri": "https://localhost:8080/",
          "height": 378,
          "referenced_widgets": [
            "064271845a1b4740afbd653fdc92c52b",
            "5a2c2303cd7a42729c054dc920292ec5",
            "03be4bc4b83745fda48668d01ec24e9c",
            "c0391b6b770f400086b68b1e48335a32",
            "56cfb450f2b0479ebafa75e0e808b5b5",
            "52c88087e361489fab068bfe381a0469",
            "3413327d299941d98b13092e204d56b8",
            "8ff348f0499b4341b73bda9d2a4856fc",
            "fe09d46841ea42a888fbbf96110ccb56",
            "9c1ca34d1e284a778cf37d05e49bec15",
            "ac00db8250fc47c29c4109b7ba2c008a",
            "24d0420d0e864f669680342d8be17ed3",
            "617aeadaa72b475a863905480b1512ba"
          ]
        },
        "id": "p-e8XTgnsSgC",
        "outputId": "028dcb32-08d7-448b-b4c0-5f0c6480c6f7"
      },
      "execution_count": 31,
      "outputs": [
        {
          "output_type": "display_data",
          "data": {
            "application/vnd.jupyter.widget-view+json": {
              "model_id": "064271845a1b4740afbd653fdc92c52b",
              "version_minor": 0,
              "version_major": 2
            },
            "text/plain": [
              "interactive(children=(IntSlider(value=2, description='bianche', max=5, min=1), IntSlider(value=3, description=…"
            ]
          },
          "metadata": {}
        }
      ]
    },
    {
      "cell_type": "markdown",
      "source": [
        "Quello appena visto è un esempio di _densità geometrica modificata_ che scriveremo come T ∼ Ḡ(_p_).\n",
        "\n",
        "Quando si parla di densità geometrica modificata? \n",
        "\n",
        "Si consideri uno schema successo-insuccesso con ripetizioni e prendiamo in esame la variabile T data dal tempo di primo successo. \n",
        "Se chiamiamo _Xi_ le variabili _B_(1, _p_) date da _Xi_ = 1 se l’i-esimo tentativo dà successo e _Xi_  = 0 altrimenti abbiamo come densità\n",
        "\n",
        "\\begin{equation}\n",
        "  px(k) =\n",
        "    \\begin{cases}\n",
        "          p(1-p)^{k-1} \\ se \\ k=1,2,3,...\n",
        "          \\\\\n",
        "          0 \\ altrimenti\n",
        "        \\end{cases}\n",
        "\\end{equation}"
      ],
      "metadata": {
        "id": "u9PHD5qa-xdK"
      }
    },
    {
      "cell_type": "markdown",
      "source": [
        "##Esempio 5.3\n",
        "\n",
        "Si lancino simultaneamente due dadi, uno rosso e uno blu. Ripetiamo questo\n",
        "esperimento finchè non otteniamo due 6. \n",
        "\n",
        "Poniamo X = primo lancio in cui il dado rosso ha dato 6,\n",
        "Y = primo lancio in cui il dado blu ha dato 6.\n",
        "\n",
        "\n",
        "Determinare inoltre la probabilità di ottenere 6 con il dado rosso prima di ottenere 6 con il dado blu.\n",
        "\n",
        "Abbiamo\n",
        "\n",
        "\\begin{equation}\n",
        "  1 = P(X < Y) + P(X > Y) + P(X = Y)\n",
        "\\end{equation}\n",
        "\n",
        "\\\\\n",
        "e chiaramente per simmetria del problema _P_(_X_ < _Y_) = _P_(_X_ > _Y_) da cui\n",
        "\n",
        "\\\\\n",
        "\n",
        "\\begin{equation}\n",
        "  P(X < Y)= \\frac {1-P(X = Y)}{2}\n",
        "\\end{equation}\n",
        "\n",
        "Ci basterà calcolare quindi _P_(_X_ =_Y_):\n",
        "\n",
        "\\\\\n",
        "\n",
        "\\begin{equation}\n",
        "  P(X = Y) = \\sum_{k=1}^\\infty P(X = Y = k) = \\sum_{k=1}^\\infty (\\frac{25}{36})^{k-1}·\\frac{1}{36} = \\frac{1}{1-\\frac{25}{36}}·\\frac{1}{36} = \\frac{1}{11}\n",
        "\\end{equation}\n",
        "\n",
        "\n",
        "dove abbiamo ancora utilizzato la somma di una serie geometrica, e quindi\n",
        "\n",
        "\\\\\n",
        "\n",
        "\\begin{equation}\n",
        "  P(X < Y) = \\frac{5}{11}\n",
        "\\end{equation}\n"
      ],
      "metadata": {
        "id": "yQRcoTTQmPxD"
      }
    },
    {
      "cell_type": "code",
      "source": [
        "def first_six():\n",
        "  num = 6\n",
        "  results = []\n",
        "  for i in range(precisione):\n",
        "    a, b = 0, 0\n",
        "    while a != num and b != num:\n",
        "      a, b = trow(), trow() \n",
        "      if a == num:\n",
        "        if b == num:\n",
        "          results.append(0)\n",
        "        else:\n",
        "          results.append(1)\n",
        "      if b == num:\n",
        "        results.append(2)  \n",
        "  #grafico\n",
        "  labels = []\n",
        "  normalized = []\n",
        "  myexplode = [0, 0.2, 0]\n",
        "  for i in range(len(set(results)) - 1): #len(set(n)) torna il numero di risultati distinti presenti in results\n",
        "    normalized.append(round(((results.count(i) / precisione) * 100), 2)) #conto le istanze dei risultati e le normalizzo\n",
        "  normalized.append(round(100 - sum(normalized), 2)) #per evitare che per errori di arrotondamento la somma dei risultati sia 99.9%, l'ultimo risultato lo calcolo come 100 - (la somma dei precedenti)\n",
        "  for i in range(len(normalized)):\n",
        "    labels.append(str(normalized[i]) + \"%\") # aggiungo le labels (i valori riportati all'esterno del grafico)\n",
        "\n",
        "  teoria = [1/11, 5/11, 5/11]\n",
        "  lab_teoria = [\"9.09%\", \"45.45%\", \"45.45%\"]\n",
        "\n",
        "  f, (ax1, ax2) = plt.subplots(1, 2)\n",
        "  ax1.pie(normalized, labels=labels,explode=myexplode, colors=[\"green\", \"red\", \"blue\"], shadow=True)\n",
        "  ax1.set_title(\"Risultati ottenuti\")\n",
        "  ax2.pie(teoria, labels=lab_teoria,explode=myexplode, colors=[\"green\", \"red\", \"blue\"], shadow=True)\n",
        "  ax2.set_title(\"Risultati attesi\")\n",
        "  \n",
        "  legenda = [\"X=Y\", \"X<Y\", \"X>Y\"]\n",
        "  ax1.legend(legenda,loc='upper left', bbox_to_anchor=(0.5, -0.05), fancybox=True, shadow=True, ncol=5)\n",
        "\n",
        "first_six()"
      ],
      "metadata": {
        "colab": {
          "base_uri": "https://localhost:8080/",
          "height": 230
        },
        "id": "6P-rc7pzfODB",
        "outputId": "083fcfac-eddd-46cf-8721-4892d2c5a135"
      },
      "execution_count": 32,
      "outputs": [
        {
          "output_type": "display_data",
          "data": {
            "image/png": "[encoded data removed]",
            "text/plain": [
              "<Figure size 432x288 with 2 Axes>"
            ]
          },
          "metadata": {}
        }
      ]
    },
    {
      "cell_type": "markdown",
      "source": [
        "#Densità di Poisson"
      ],
      "metadata": {
        "id": "hPfoVQ4tzLLR"
      }
    },
    {
      "cell_type": "markdown",
      "source": [
        "Se consideriamo una variabile binomiale _X_ ∼ _B_(_n_, _p_) in cui il numero _n_ di tentativi è molto grande e il parametro _p_ molto piccolo fare i conti con la densità binomiale risulta essere computazionalmente dispendioso. \n",
        "\n",
        "Facciamo un esempio:"
      ],
      "metadata": {
        "id": "7WQ9L3IXzNQo"
      }
    },
    {
      "cell_type": "markdown",
      "source": [
        "##Esempio 6.1\n",
        "\n",
        "Supponiamo che in una città nascano 10 000 bambini ogni anno e che ci\n",
        "sia una malattia rara che colpisce un bambino su 2 mila. Qual è la probabilità che quest’anno nascano più di 5 bambini affetti da questa malattia? \n",
        "\n",
        "La variabile _X_ = ”numero di bambini nati con questa malattia quest’anno” è una variabile binomiale _X_ = _B_($10^4$, $\\frac{1}{2000}$). Tuttavia se\n",
        "proviamo ad effettuare il calcolo _P_(_X_ > 5), anche se abbiamo una formula esatta per effettuarlo, è inevitabilmente molto complesso.\n"
      ],
      "metadata": {
        "id": "VD0JenT7zaOx"
      }
    },
    {
      "cell_type": "markdown",
      "source": [
        "Per risolvere questo tipo di problema introduciamo la seguente\n",
        "\n",
        "\\\\\n",
        "\\begin{equation}\n",
        "  p(k) =\n",
        "    \\begin{cases}\n",
        "          e^{-λ} \\frac{λ^k}{k!} \\ se \\ k=0,1,2,...\n",
        "          \\\\\n",
        "          0 \\ altrimenti\n",
        "        \\end{cases}\n",
        "\\end{equation}\n",
        "\n",
        "\\\\\n",
        "\n",
        "dove λ è un parametro reale strettamente positivo."
      ],
      "metadata": {
        "id": "-07DvPlK0SRP"
      }
    },
    {
      "cell_type": "markdown",
      "source": [
        "Nel nostro esempio possiamo pensare alla variabile _X_ come ad una variabile di Poisson di parametro 5. \n",
        "\n",
        "Otteniamo:\n",
        "\n",
        "\\begin{equation}\n",
        "  P(X > 5) = 1 − P(X = 0) − P(X = 1) − P(X = 2) − P(X = 3) − P(X = 4) \n",
        "  \\\\\n",
        "  = 1 − e^{−5}(1 + 5 + \\frac{25}{2} + \\frac{125}{6} + \\frac{625}{24} + \\frac{3125}{120}) = 0, 384.\n",
        "\\end{equation}"
      ],
      "metadata": {
        "id": "fHA5WLXr2VKr"
      }
    },
    {
      "cell_type": "markdown",
      "source": [
        "Nella simulazione riportata sono simulati 100 anni, ripetendo l'esperimento si aggiungono i risultati dei test successivi e si può osservare come il grafico dei risultati ottenuti si avvicini a quello dei risultati attesi."
      ],
      "metadata": {
        "id": "aQ3YUomoewtG"
      }
    },
    {
      "cell_type": "code",
      "source": [
        "res_poisson = []"
      ],
      "metadata": {
        "id": "niF9fNy-AGHk"
      },
      "execution_count": 33,
      "outputs": []
    },
    {
      "cell_type": "code",
      "source": [
        "def poisson():\n",
        "  bambini = 10_000\n",
        "  malattia = 2_000\n",
        "  for i in range(1000):\n",
        "    count = 0\n",
        "    for i in range(bambini):\n",
        "      if np.random.randint(malattia) == 1:\n",
        "        count = count + 1\n",
        "    res_poisson.append(count)\n",
        "\n",
        "  #grafico risultati\n",
        "  labels = []\n",
        "  set_res = list(set(res_poisson))\n",
        "  normalized = []\n",
        "  for i in set_res: \n",
        "    normalized.append(round(((res_poisson.count(i) / len(res_poisson)) * 100), 2))\n",
        "    labels.append(str(i+1)) \n",
        " \n",
        "  #grafico teorico\n",
        "  teoria = []\n",
        "  lam = bambini / malattia\n",
        "  for i in set_res:\n",
        "    teoria.append((math.e**-lam)*((lam**i)/math.factorial(i)) * 100)\n",
        "\n",
        "  lab_arr = np.arange(len(labels))\n",
        "\n",
        "  w=0.4\n",
        "  plt.bar(lab_arr-(w/2), normalized, width=w)\n",
        "  plt.bar(lab_arr+(w/2), teoria, width=w)\n",
        "\n",
        "  legenda = [\"Risultati ottenuti\", \"Risultati attesi\"]\n",
        "  plt.legend(legenda,loc='upper center', bbox_to_anchor=(0.5, -0.05), fancybox=True, shadow=True, ncol=5)\n",
        "  print(\"Anni simulati: \" + str(len(res_poisson)))"
      ],
      "metadata": {
        "id": "L8XSvxDZMGZe"
      },
      "execution_count": 43,
      "outputs": []
    },
    {
      "cell_type": "code",
      "source": [
        "poisson()"
      ],
      "metadata": {
        "id": "H4CjxxyZ7Rxc",
        "colab": {
          "base_uri": "https://localhost:8080/",
          "height": 299
        },
        "outputId": "7ce8727e-0c92-4952-8688-2dff1097a996"
      },
      "execution_count": 45,
      "outputs": [
        {
          "output_type": "stream",
          "name": "stdout",
          "text": [
            "Anni simulati: 2200\n"
          ]
        },
        {
          "output_type": "display_data",
          "data": {
            "image/png": "[encoded data removed]",
            "text/plain": [
              "<Figure size 432x288 with 1 Axes>"
            ]
          },
          "metadata": {
            "needs_background": "light"
          }
        }
      ]
    },
    {
      "cell_type": "markdown",
      "source": [
        "#Densità continua uniforme"
      ],
      "metadata": {
        "id": "2HvnAmIq9-iV"
      }
    },
    {
      "cell_type": "markdown",
      "source": [
        "La variabile continua più semplice da studiare è quella che può assumere solo valori in un certo intervallo limitato e in modo ”uniforme”."
      ],
      "metadata": {
        "id": "q-CPgnYeAXnr"
      }
    },
    {
      "cell_type": "markdown",
      "source": [
        "## Esempio 7.1\n",
        "\n",
        "Un autobus passa da una fermata ogni 10 minuti. Noi arriviamo alla fermata in un momento casuale, chiamiamo T la variabile del tempo d'attesa che assume valori tra 0 e 10 minuti. Mediamente, quanto dovrò aspettare?\n",
        "\n",
        "Iniziamo prendendo l'autobus un po' di volte tenendo uno storico dei tempi di attesa:"
      ],
      "metadata": {
        "id": "AFabxKb1Ar4F"
      }
    },
    {
      "cell_type": "code",
      "source": [
        "uniforme = []\n",
        "tempo = 10\n",
        "for i in range(precisione):\n",
        "  uniforme.append(random.uniform(0, tempo))"
      ],
      "metadata": {
        "id": "A4ckSSdzDloY"
      },
      "execution_count": 36,
      "outputs": []
    },
    {
      "cell_type": "code",
      "source": [
        "#funzione che calcola il valore di x in ogni punto (densità continua uniforme)\n",
        "def densita(x, a, b):\n",
        "  res = []\n",
        "  for i in x:\n",
        "    if i < a:\n",
        "      res.append(0)\n",
        "    elif i > b:\n",
        "      res.append(0)\n",
        "    else:\n",
        "      res.append(1 / (b - a))\n",
        "  return res"
      ],
      "metadata": {
        "id": "G_5JWNvfHgIA"
      },
      "execution_count": 37,
      "outputs": []
    },
    {
      "cell_type": "markdown",
      "source": [
        "E mettiamo a grafico i risultati ottenuti"
      ],
      "metadata": {
        "id": "LfkzQQAmE_XV"
      }
    },
    {
      "cell_type": "code",
      "source": [
        "def dcu_plot():\n",
        "  points = (tempo + 2) * 10\n",
        "  \n",
        "  x = np.linspace(-1, tempo+1, points)\n",
        "\n",
        "  coord = []\n",
        "  for i in range(points):\n",
        "    count = 0\n",
        "    for item in uniforme:\n",
        "      if (item > -1 + (((tempo+2)/points)*i) and item <= -1 + (((tempo+2)/points)*(i+1))):\n",
        "        count = count + 1\n",
        "    coord.append((count / precisione) * (points / (tempo + 2)))\n",
        "  \n",
        "  p1 = plt.figure(1)\n",
        "  ax = plt.axes()\n",
        "  ax.plot(x, densita(x, 0, tempo))\n",
        "  ax.set_title(\"Risultati attesi\")\n",
        "  p1.show()\n",
        "  p2 = plt.figure(2)\n",
        "  ax = plt.axes()\n",
        "  ax.plot(x, coord)\n",
        "  ax.set_title(\"Risultati ottenuti\")\n",
        "  p2.show() \n",
        "  p3 = plt.figure(2)\n",
        "  sns.displot(uniforme, kind=\"ecdf\").set(title=\"Partizione\")\n",
        "  p3.show() \n",
        "dcu_plot()"
      ],
      "metadata": {
        "colab": {
          "base_uri": "https://localhost:8080/",
          "height": 909
        },
        "id": "E_CdpJ9ENKE3",
        "outputId": "b11f8ca9-21d1-41ea-e5b9-06dfae499b3a"
      },
      "execution_count": 38,
      "outputs": [
        {
          "output_type": "display_data",
          "data": {
            "image/png": "[encoded data removed]",
            "text/plain": [
              "<Figure size 432x288 with 1 Axes>"
            ]
          },
          "metadata": {
            "needs_background": "light"
          }
        },
        {
          "output_type": "display_data",
          "data": {
            "image/png": "[encoded data removed]",
            "text/plain": [
              "<Figure size 432x288 with 1 Axes>"
            ]
          },
          "metadata": {
            "needs_background": "light"
          }
        },
        {
          "output_type": "display_data",
          "data": {
            "image/png": "[encoded data removed]",
            "text/plain": [
              "<Figure size 360x360 with 1 Axes>"
            ]
          },
          "metadata": {
            "needs_background": "light"
          }
        }
      ]
    },
    {
      "cell_type": "markdown",
      "source": [
        "Per quanto riguarda la soluzione il valore atteso invece ci basta sapere che il valore atteso di una variabile uniforme è il punto medio dell'intervallo: 5 minuti."
      ],
      "metadata": {
        "id": "CO8fDJK3MDBv"
      }
    },
    {
      "cell_type": "code",
      "source": [
        "@interact_manual(tempo=(1, 20))\n",
        "def E_unif(tempo = 10):\n",
        "  results = []\n",
        "  for i in range(precisione):\n",
        "    results.append(random.uniform(0, tempo))\n",
        "  return round(np.mean(results), 2)"
      ],
      "metadata": {
        "colab": {
          "base_uri": "https://localhost:8080/",
          "height": 98,
          "referenced_widgets": [
            "4a07fa59f2a24731a88b9c3f63c3bacb",
            "3e7f9a7d24f64a0bbbc2310e812845ff",
            "d4b3c4262c12434da4aa9ed481a9deb7",
            "9d1327e512c24ba3839dbe8a65e51e00",
            "94922e7ad6614a92960ec3a4aa4598ea",
            "e1293d11ae2a468786425388f0ac0162",
            "fa55437e20934479948ab223897b3018",
            "a324557da87e45b2bf005f5406d7bc00",
            "6a8a0c841b1e458b9bd6877d9f9bfb10",
            "ec8bb72f7add44498c6e2809845001cf"
          ]
        },
        "id": "jG0a0YfTMiZi",
        "outputId": "4805d610-144b-4829-efd3-b17bccbd97f5"
      },
      "execution_count": 39,
      "outputs": [
        {
          "output_type": "display_data",
          "data": {
            "application/vnd.jupyter.widget-view+json": {
              "model_id": "4a07fa59f2a24731a88b9c3f63c3bacb",
              "version_minor": 0,
              "version_major": 2
            },
            "text/plain": [
              "interactive(children=(IntSlider(value=10, description='tempo', max=20, min=1), Button(description='Run Interac…"
            ]
          },
          "metadata": {}
        }
      ]
    },
    {
      "cell_type": "markdown",
      "source": [
        "#Densità continua esponenziale"
      ],
      "metadata": {
        "id": "KzWvYabHHMQp"
      }
    },
    {
      "cell_type": "markdown",
      "source": [
        "Fissiamo un parametro _a_ e ricordiamo che una primitiva della funzione $e^{−at}$ è data da -$\\frac{1}{a}e^{−at}$ da cui abbiamo che:\n",
        "\n",
        "\\begin{equation}\n",
        "  \\int_{0}^{+ \\infty} e^{-at} \\,dt = \\frac{1}{a} \n",
        "\\end{equation}\n",
        "\n",
        "Proposizione:\n",
        "\n",
        "\\begin{equation}\n",
        "  f(s) =\n",
        "    \\begin{cases}\n",
        "          a e^{-as} \\ se \\ s \\geq 0\n",
        "          \\\\\n",
        "          0 \\ altrimenti\n",
        "        \\end{cases}\n",
        "\\end{equation}\n",
        "\n",
        "dove _a_ è un parametro positivo con densità continua astratta.\n",
        "\n",
        "Una variabile _X_ che ammette tale densità si dice esponenziale di parametro _a_ e scriveremo _X_ ∼ Exp(_a_). Lo stesso calcolo mostra che la funzione di ripartizione di una variabile _X_ ∼ Exp(_a_) è data da\n",
        "\n",
        "\\begin{equation}\n",
        "  Fx(t) =\n",
        "    \\begin{cases}\n",
        "          1-e^{-at} \\ se \\ t \\ge 0\n",
        "          \\\\\n",
        "          0 \\ \\ \\ \\ \\ \\ \\ \\ \\ \\ \\ \\ \\ se \\ t \\le 0\n",
        "        \\end{cases}\n",
        "\\end{equation}"
      ],
      "metadata": {
        "id": "kDn_33f8UA9S"
      }
    },
    {
      "cell_type": "markdown",
      "source": [
        "##Esempio 8.1\n",
        "\n",
        "Una particella radioattiva ha un tempo di dimezzamento di un giorno, qual è la probabilità che dopo 3 ore sia già decaduta?"
      ],
      "metadata": {
        "id": "vdltBTAzbjNQ"
      }
    },
    {
      "cell_type": "markdown",
      "source": [
        "Usando un cambio di variabile simuliamo un set di valori di una variabile esponenziale con _a_ = 1 "
      ],
      "metadata": {
        "id": "KXHsGg67--dB"
      }
    },
    {
      "cell_type": "code",
      "source": [
        "exp = []\n",
        "for i in range(precisione):\n",
        "    exp.append(-math.log(random.uniform(0, 1)))"
      ],
      "metadata": {
        "id": "MuCAPEta_0Qo"
      },
      "execution_count": 55,
      "outputs": []
    },
    {
      "cell_type": "markdown",
      "source": [
        "E ne grafichiamo la densità e la partizione "
      ],
      "metadata": {
        "id": "xP2yQ4p9ACry"
      }
    },
    {
      "cell_type": "code",
      "source": [
        "def exp():\n",
        "  points = 130\n",
        "  \n",
        "  x = np.linspace(-1, 12, points)\n",
        "\n",
        "  coord = []\n",
        "  for i in range(points):\n",
        "    count = 0\n",
        "    for item in exp:\n",
        "      if (item > -1 + (((13)/points)*i) and item <= -1 + (((13)/points)*(i+1))):\n",
        "        count = count + 1\n",
        "    coord.append((count / precisione) * (points / (13)))\n",
        "  \n",
        "  sns.displot(exp, kind=\"ecdf\")\n",
        "  plt.plot(x, coord)\n",
        "  plt.title(\"Densità e partizione della variabile in esame\")\n",
        "\n",
        "  legenda = [\"Funzione di partizione\", \"Densità\"]\n",
        "  plt.legend(legenda,loc='upper center', bbox_to_anchor=(0.5, -0.05), fancybox=True, shadow=True, ncol=5)\n",
        "\n",
        "exp()"
      ],
      "metadata": {
        "colab": {
          "base_uri": "https://localhost:8080/",
          "height": 403
        },
        "id": "o6Bmu5FDMOPV",
        "outputId": "b647a022-2422-45eb-f687-5b62d774d3d7"
      },
      "execution_count": 46,
      "outputs": [
        {
          "output_type": "display_data",
          "data": {
            "image/png": "[encoded data removed]",
            "text/plain": [
              "<Figure size 360x360 with 1 Axes>"
            ]
          },
          "metadata": {
            "needs_background": "light"
          }
        }
      ]
    },
    {
      "cell_type": "markdown",
      "source": [
        "Tornando alla domanda iniziale, contiamo quante volte abbiamo ottenuto un tempo minore di 3 ore e confrontiamolo coi risultati attesi dalla teoria."
      ],
      "metadata": {
        "id": "MrVxuxXhB-Dh"
      }
    },
    {
      "cell_type": "code",
      "source": [
        "@interact_manual(ore=(0, 72))\n",
        "def test(ore = 3):\n",
        "  count = 0\n",
        "  for item in exp:\n",
        "    if (item * 24) <= ore:\n",
        "      count = count + 1\n",
        "  print(\"Risultati ottenuti: \" + str(round(count / precisione, 3)))\n",
        "  res = 1 - (math.e**(-1 * (ore / 24)))\n",
        "  print(\"Risultati attesi: \" + str(round(res, 3)))"
      ],
      "metadata": {
        "colab": {
          "base_uri": "https://localhost:8080/",
          "height": 116,
          "referenced_widgets": [
            "99c4aba954344494b8ad12b31770ca1e",
            "a623b45dff9342789c29d48592976c38",
            "22758f8d8dcd4621bb82adbfea35ef11",
            "05a46dc4cc3346c3921f4bbb280527b0",
            "7b991ed74e7140b6b8ce87326c9f8fad",
            "27810e2c8568437d9fbd62a07d0125fd",
            "20a958a4737d44bfb5aa1196b1294792",
            "5dec8493ad1348dd90ecc8b65916a1d8",
            "a891a1eb04324f9685204b38c5dd1f63",
            "a89f2c1b247d442c8cc423ee240f9d58"
          ]
        },
        "id": "-nLD7XugV7iy",
        "outputId": "fe0d5409-d45c-446c-ac3e-e4b008c63c06"
      },
      "execution_count": 56,
      "outputs": [
        {
          "output_type": "display_data",
          "data": {
            "application/vnd.jupyter.widget-view+json": {
              "model_id": "99c4aba954344494b8ad12b31770ca1e",
              "version_minor": 0,
              "version_major": 2
            },
            "text/plain": [
              "interactive(children=(IntSlider(value=3, description='ore', max=72), Button(description='Run Interact', style=…"
            ]
          },
          "metadata": {}
        }
      ]
    },
    {
      "cell_type": "markdown",
      "source": [
        "#Densità continua normale"
      ],
      "metadata": {
        "id": "YEVrCLb-MTAW"
      }
    },
    {
      "cell_type": "markdown",
      "source": [
        "Passiamo ora a considerare quelle che sono probabilmente le variabili aleatorie continue più rilevanti.\n",
        "Si può dimostrare (e Gauss lo ha fatto per primo) che\n",
        "\n",
        "\\begin{equation}\n",
        "  \\int_{- \\infty}^{+ \\infty} e^{-{\\frac{x^2}{2}}} \\,dx = \\sqrt{2 \\pi} \n",
        "\\end{equation}\n",
        "\n",
        "Ne segue che la funzione\n",
        "\n",
        "\\begin{equation}\n",
        "  f(s)= \\frac{1}{\\sqrt{2 \\pi}}e^{-{\\frac{x^2}{2}}}\n",
        "\\end{equation}\n",
        "\n",
        "è una densità. Questa densità viene detta normale standard o gaussiana standard. "
      ],
      "metadata": {
        "id": "VLVgu8loMhhb"
      }
    },
    {
      "cell_type": "code",
      "source": [
        "@interact_manual(tempo=(0, 20))\n",
        "def dcu_plot(tempo = 10):\n",
        "  points = 100\n",
        "  results = []\n",
        "  mu, sigma = 0, 0.1 # mean and standard deviation\n",
        "  results = np.random.normal(mu, sigma, precisione)\n",
        "  \n",
        "  x = np.linspace(-1, 1, points)\n",
        "\n",
        "  coord = []\n",
        "  for i in range(points):\n",
        "    count = 0\n",
        "    for item in results:\n",
        "      if (item > -1 + (((2)/points)*i) and item <= -1 + (((2)/points)*(i+1))):\n",
        "        count = count + 1\n",
        "    coord.append((count / precisione) * (points / (2)) * 10)\n",
        "  \n",
        "  a = plt.figure(1)\n",
        "  ax = plt.axes()\n",
        "  ax.plot(x, coord)\n",
        "  ax.set_title(\"Densità\")\n",
        "  a.show()"
      ],
      "metadata": {
        "id": "wS27TfCcBMFV",
        "outputId": "fa12d57b-bf6e-4473-832b-f90bf8fcd979",
        "colab": {
          "base_uri": "https://localhost:8080/",
          "height": 345,
          "referenced_widgets": [
            "518f016a90134cf1bc9ab9df6db22193",
            "847aab0d1bdc469d9a5c9d84ff8685da",
            "6161e9ba8f68495183de0b422fff8f04",
            "269249fa81de48fd93d56bc507efa7ca",
            "1405298bd3fc46b59c8a5208cd131a7d",
            "e39cac62a1604ee08e8365a80b433256",
            "1b1542b392d74407ae3105adf61cbd9c",
            "126629142c6946618a2f22484f629324",
            "15daf5f2e2214e84adb59fe7803052b8",
            "d9f3535bd9e4480889385f8561606b1d"
          ]
        }
      },
      "execution_count": 65,
      "outputs": [
        {
          "output_type": "display_data",
          "data": {
            "application/vnd.jupyter.widget-view+json": {
              "model_id": "518f016a90134cf1bc9ab9df6db22193",
              "version_minor": 0,
              "version_major": 2
            },
            "text/plain": [
              "interactive(children=(IntSlider(value=10, description='tempo', max=20), Button(description='Run Interact', sty…"
            ]
          },
          "metadata": {}
        }
      ]
    },
    {
      "cell_type": "code",
      "source": [
        ""
      ],
      "metadata": {
        "id": "9eK-dNsZTJ3L"
      },
      "execution_count": 58,
      "outputs": []
    }
  ]
}