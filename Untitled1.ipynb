{
  "nbformat": 4,
  "nbformat_minor": 0,
  "metadata": {
    "colab": {
      "name": "Untitled1.ipynb",
      "provenance": [],
      "toc_visible": true,
      "collapsed_sections": [],
      "authorship_tag": "ABX9TyMwo+3Zy3nAnCDlckxI6NNF",
      "include_colab_link": true
    },
    "kernelspec": {
      "name": "python3",
      "display_name": "Python 3"
    },
    "language_info": {
      "name": "python"
    },
    "widgets": {
      "application/vnd.jupyter.widget-state+json": {
        "723a9f89daef49f186167039d39d7fe8": {
          "model_module": "@jupyter-widgets/controls",
          "model_name": "VBoxModel",
          "model_module_version": "1.5.0",
          "state": {
            "_view_name": "VBoxView",
            "_dom_classes": [
              "widget-interact"
            ],
            "_model_name": "VBoxModel",
            "_view_module": "@jupyter-widgets/controls",
            "_model_module_version": "1.5.0",
            "_view_count": null,
            "_view_module_version": "1.5.0",
            "box_style": "",
            "layout": "IPY_MODEL_1e20eaaa98064d1ea16477d5817607f2",
            "_model_module": "@jupyter-widgets/controls",
            "children": [
              "IPY_MODEL_facb9735abe14dc288003f29da414376",
              "IPY_MODEL_1c603d269ae34fd78c4fd38dc3f9cfae",
              "IPY_MODEL_e6355b66c36c4843acd20bc6595dfad8"
            ]
          }
        },
        "1e20eaaa98064d1ea16477d5817607f2": {
          "model_module": "@jupyter-widgets/base",
          "model_name": "LayoutModel",
          "model_module_version": "1.2.0",
          "state": {
            "_view_name": "LayoutView",
            "grid_template_rows": null,
            "right": null,
            "justify_content": null,
            "_view_module": "@jupyter-widgets/base",
            "overflow": null,
            "_model_module_version": "1.2.0",
            "_view_count": null,
            "flex_flow": null,
            "width": null,
            "min_width": null,
            "border": null,
            "align_items": null,
            "bottom": null,
            "_model_module": "@jupyter-widgets/base",
            "top": null,
            "grid_column": null,
            "overflow_y": null,
            "overflow_x": null,
            "grid_auto_flow": null,
            "grid_area": null,
            "grid_template_columns": null,
            "flex": null,
            "_model_name": "LayoutModel",
            "justify_items": null,
            "grid_row": null,
            "max_height": null,
            "align_content": null,
            "visibility": null,
            "align_self": null,
            "height": null,
            "min_height": null,
            "padding": null,
            "grid_auto_rows": null,
            "grid_gap": null,
            "max_width": null,
            "order": null,
            "_view_module_version": "1.2.0",
            "grid_template_areas": null,
            "object_position": null,
            "object_fit": null,
            "grid_auto_columns": null,
            "margin": null,
            "display": null,
            "left": null
          }
        },
        "facb9735abe14dc288003f29da414376": {
          "model_module": "@jupyter-widgets/controls",
          "model_name": "IntSliderModel",
          "model_module_version": "1.5.0",
          "state": {
            "_view_name": "IntSliderView",
            "style": "IPY_MODEL_b166e3b8721440b5ba9adbceff66e447",
            "_dom_classes": [],
            "description": "vincita",
            "step": 1,
            "_model_name": "IntSliderModel",
            "orientation": "horizontal",
            "max": 30,
            "_view_module": "@jupyter-widgets/controls",
            "_model_module_version": "1.5.0",
            "value": 5,
            "_view_count": null,
            "disabled": false,
            "_view_module_version": "1.5.0",
            "min": 0,
            "continuous_update": true,
            "readout_format": "d",
            "description_tooltip": null,
            "readout": true,
            "_model_module": "@jupyter-widgets/controls",
            "layout": "IPY_MODEL_061510947c07499ca83a675e3d8671a0"
          }
        },
        "1c603d269ae34fd78c4fd38dc3f9cfae": {
          "model_module": "@jupyter-widgets/controls",
          "model_name": "ButtonModel",
          "model_module_version": "1.5.0",
          "state": {
            "_view_name": "ButtonView",
            "style": "IPY_MODEL_f648a0d0d7e54d859677660d9c3d6047",
            "_dom_classes": [],
            "description": "Run Interact",
            "_model_name": "ButtonModel",
            "button_style": "",
            "_view_module": "@jupyter-widgets/controls",
            "_model_module_version": "1.5.0",
            "tooltip": "",
            "_view_count": null,
            "disabled": false,
            "_view_module_version": "1.5.0",
            "layout": "IPY_MODEL_9d8484fbe4a54b2db2b3713deccfcefd",
            "_model_module": "@jupyter-widgets/controls",
            "icon": ""
          }
        },
        "e6355b66c36c4843acd20bc6595dfad8": {
          "model_module": "@jupyter-widgets/output",
          "model_name": "OutputModel",
          "model_module_version": "1.0.0",
          "state": {
            "_view_name": "OutputView",
            "msg_id": "",
            "_dom_classes": [],
            "_model_name": "OutputModel",
            "outputs": [],
            "_view_module": "@jupyter-widgets/output",
            "_model_module_version": "1.0.0",
            "_view_count": null,
            "_view_module_version": "1.0.0",
            "layout": "IPY_MODEL_703c1ea2e6154beb9df177a1ca0cdc51",
            "_model_module": "@jupyter-widgets/output"
          }
        },
        "b166e3b8721440b5ba9adbceff66e447": {
          "model_module": "@jupyter-widgets/controls",
          "model_name": "SliderStyleModel",
          "model_module_version": "1.5.0",
          "state": {
            "_view_name": "StyleView",
            "handle_color": null,
            "_model_name": "SliderStyleModel",
            "description_width": "",
            "_view_module": "@jupyter-widgets/base",
            "_model_module_version": "1.5.0",
            "_view_count": null,
            "_view_module_version": "1.2.0",
            "_model_module": "@jupyter-widgets/controls"
          }
        },
        "061510947c07499ca83a675e3d8671a0": {
          "model_module": "@jupyter-widgets/base",
          "model_name": "LayoutModel",
          "model_module_version": "1.2.0",
          "state": {
            "_view_name": "LayoutView",
            "grid_template_rows": null,
            "right": null,
            "justify_content": null,
            "_view_module": "@jupyter-widgets/base",
            "overflow": null,
            "_model_module_version": "1.2.0",
            "_view_count": null,
            "flex_flow": null,
            "width": null,
            "min_width": null,
            "border": null,
            "align_items": null,
            "bottom": null,
            "_model_module": "@jupyter-widgets/base",
            "top": null,
            "grid_column": null,
            "overflow_y": null,
            "overflow_x": null,
            "grid_auto_flow": null,
            "grid_area": null,
            "grid_template_columns": null,
            "flex": null,
            "_model_name": "LayoutModel",
            "justify_items": null,
            "grid_row": null,
            "max_height": null,
            "align_content": null,
            "visibility": null,
            "align_self": null,
            "height": null,
            "min_height": null,
            "padding": null,
            "grid_auto_rows": null,
            "grid_gap": null,
            "max_width": null,
            "order": null,
            "_view_module_version": "1.2.0",
            "grid_template_areas": null,
            "object_position": null,
            "object_fit": null,
            "grid_auto_columns": null,
            "margin": null,
            "display": null,
            "left": null
          }
        },
        "f648a0d0d7e54d859677660d9c3d6047": {
          "model_module": "@jupyter-widgets/controls",
          "model_name": "ButtonStyleModel",
          "model_module_version": "1.5.0",
          "state": {
            "_view_name": "StyleView",
            "_model_name": "ButtonStyleModel",
            "_view_module": "@jupyter-widgets/base",
            "_model_module_version": "1.5.0",
            "_view_count": null,
            "button_color": null,
            "font_weight": "",
            "_view_module_version": "1.2.0",
            "_model_module": "@jupyter-widgets/controls"
          }
        },
        "9d8484fbe4a54b2db2b3713deccfcefd": {
          "model_module": "@jupyter-widgets/base",
          "model_name": "LayoutModel",
          "model_module_version": "1.2.0",
          "state": {
            "_view_name": "LayoutView",
            "grid_template_rows": null,
            "right": null,
            "justify_content": null,
            "_view_module": "@jupyter-widgets/base",
            "overflow": null,
            "_model_module_version": "1.2.0",
            "_view_count": null,
            "flex_flow": null,
            "width": null,
            "min_width": null,
            "border": null,
            "align_items": null,
            "bottom": null,
            "_model_module": "@jupyter-widgets/base",
            "top": null,
            "grid_column": null,
            "overflow_y": null,
            "overflow_x": null,
            "grid_auto_flow": null,
            "grid_area": null,
            "grid_template_columns": null,
            "flex": null,
            "_model_name": "LayoutModel",
            "justify_items": null,
            "grid_row": null,
            "max_height": null,
            "align_content": null,
            "visibility": null,
            "align_self": null,
            "height": null,
            "min_height": null,
            "padding": null,
            "grid_auto_rows": null,
            "grid_gap": null,
            "max_width": null,
            "order": null,
            "_view_module_version": "1.2.0",
            "grid_template_areas": null,
            "object_position": null,
            "object_fit": null,
            "grid_auto_columns": null,
            "margin": null,
            "display": null,
            "left": null
          }
        },
        "703c1ea2e6154beb9df177a1ca0cdc51": {
          "model_module": "@jupyter-widgets/base",
          "model_name": "LayoutModel",
          "model_module_version": "1.2.0",
          "state": {
            "_view_name": "LayoutView",
            "grid_template_rows": null,
            "right": null,
            "justify_content": null,
            "_view_module": "@jupyter-widgets/base",
            "overflow": null,
            "_model_module_version": "1.2.0",
            "_view_count": null,
            "flex_flow": null,
            "width": null,
            "min_width": null,
            "border": null,
            "align_items": null,
            "bottom": null,
            "_model_module": "@jupyter-widgets/base",
            "top": null,
            "grid_column": null,
            "overflow_y": null,
            "overflow_x": null,
            "grid_auto_flow": null,
            "grid_area": null,
            "grid_template_columns": null,
            "flex": null,
            "_model_name": "LayoutModel",
            "justify_items": null,
            "grid_row": null,
            "max_height": null,
            "align_content": null,
            "visibility": null,
            "align_self": null,
            "height": null,
            "min_height": null,
            "padding": null,
            "grid_auto_rows": null,
            "grid_gap": null,
            "max_width": null,
            "order": null,
            "_view_module_version": "1.2.0",
            "grid_template_areas": null,
            "object_position": null,
            "object_fit": null,
            "grid_auto_columns": null,
            "margin": null,
            "display": null,
            "left": null
          }
        },
        "92d3b71f3b4b467c99486b9ef1a0909e": {
          "model_module": "@jupyter-widgets/controls",
          "model_name": "VBoxModel",
          "model_module_version": "1.5.0",
          "state": {
            "_view_name": "VBoxView",
            "_dom_classes": [
              "widget-interact"
            ],
            "_model_name": "VBoxModel",
            "_view_module": "@jupyter-widgets/controls",
            "_model_module_version": "1.5.0",
            "_view_count": null,
            "_view_module_version": "1.5.0",
            "box_style": "",
            "layout": "IPY_MODEL_a4b663acd3044ee8a1264ee9a749b6c9",
            "_model_module": "@jupyter-widgets/controls",
            "children": [
              "IPY_MODEL_cf51f36db7b24e70987164b0a143c17e",
              "IPY_MODEL_0cc51f68bc7b488dab2bb8904870e84c",
              "IPY_MODEL_bd8052916d4045bf82825409ea565da7",
              "IPY_MODEL_f2408f90a8044475ad5851ed5e5f9e07"
            ]
          }
        },
        "a4b663acd3044ee8a1264ee9a749b6c9": {
          "model_module": "@jupyter-widgets/base",
          "model_name": "LayoutModel",
          "model_module_version": "1.2.0",
          "state": {
            "_view_name": "LayoutView",
            "grid_template_rows": null,
            "right": null,
            "justify_content": null,
            "_view_module": "@jupyter-widgets/base",
            "overflow": null,
            "_model_module_version": "1.2.0",
            "_view_count": null,
            "flex_flow": null,
            "width": null,
            "min_width": null,
            "border": null,
            "align_items": null,
            "bottom": null,
            "_model_module": "@jupyter-widgets/base",
            "top": null,
            "grid_column": null,
            "overflow_y": null,
            "overflow_x": null,
            "grid_auto_flow": null,
            "grid_area": null,
            "grid_template_columns": null,
            "flex": null,
            "_model_name": "LayoutModel",
            "justify_items": null,
            "grid_row": null,
            "max_height": null,
            "align_content": null,
            "visibility": null,
            "align_self": null,
            "height": null,
            "min_height": null,
            "padding": null,
            "grid_auto_rows": null,
            "grid_gap": null,
            "max_width": null,
            "order": null,
            "_view_module_version": "1.2.0",
            "grid_template_areas": null,
            "object_position": null,
            "object_fit": null,
            "grid_auto_columns": null,
            "margin": null,
            "display": null,
            "left": null
          }
        },
        "cf51f36db7b24e70987164b0a143c17e": {
          "model_module": "@jupyter-widgets/controls",
          "model_name": "IntSliderModel",
          "model_module_version": "1.5.0",
          "state": {
            "_view_name": "IntSliderView",
            "style": "IPY_MODEL_eba8ecd69dab4ceeab3d2157e05f6033",
            "_dom_classes": [],
            "description": "giocate",
            "step": 1,
            "_model_name": "IntSliderModel",
            "orientation": "horizontal",
            "max": 10,
            "_view_module": "@jupyter-widgets/controls",
            "_model_module_version": "1.5.0",
            "value": 3,
            "_view_count": null,
            "disabled": false,
            "_view_module_version": "1.5.0",
            "min": 1,
            "continuous_update": true,
            "readout_format": "d",
            "description_tooltip": null,
            "readout": true,
            "_model_module": "@jupyter-widgets/controls",
            "layout": "IPY_MODEL_74fc06b7418048869b7e42a3925654de"
          }
        },
        "0cc51f68bc7b488dab2bb8904870e84c": {
          "model_module": "@jupyter-widgets/controls",
          "model_name": "IntSliderModel",
          "model_module_version": "1.5.0",
          "state": {
            "_view_name": "IntSliderView",
            "style": "IPY_MODEL_43b2e07aaaea4230a75b65540a1f8036",
            "_dom_classes": [],
            "description": "puntata",
            "step": 5,
            "_model_name": "IntSliderModel",
            "orientation": "horizontal",
            "max": 100,
            "_view_module": "@jupyter-widgets/controls",
            "_model_module_version": "1.5.0",
            "value": 10,
            "_view_count": null,
            "disabled": false,
            "_view_module_version": "1.5.0",
            "min": 5,
            "continuous_update": true,
            "readout_format": "d",
            "description_tooltip": null,
            "readout": true,
            "_model_module": "@jupyter-widgets/controls",
            "layout": "IPY_MODEL_b5c48745901f4c78bd43f7011b19412b"
          }
        },
        "bd8052916d4045bf82825409ea565da7": {
          "model_module": "@jupyter-widgets/controls",
          "model_name": "ButtonModel",
          "model_module_version": "1.5.0",
          "state": {
            "_view_name": "ButtonView",
            "style": "IPY_MODEL_617771b65ed94554806318943a1efc7f",
            "_dom_classes": [],
            "description": "Run Interact",
            "_model_name": "ButtonModel",
            "button_style": "",
            "_view_module": "@jupyter-widgets/controls",
            "_model_module_version": "1.5.0",
            "tooltip": "",
            "_view_count": null,
            "disabled": false,
            "_view_module_version": "1.5.0",
            "layout": "IPY_MODEL_5180ea7cd12c49f6a75869e1cc4b6d41",
            "_model_module": "@jupyter-widgets/controls",
            "icon": ""
          }
        },
        "f2408f90a8044475ad5851ed5e5f9e07": {
          "model_module": "@jupyter-widgets/output",
          "model_name": "OutputModel",
          "model_module_version": "1.0.0",
          "state": {
            "_view_name": "OutputView",
            "msg_id": "",
            "_dom_classes": [],
            "_model_name": "OutputModel",
            "outputs": [],
            "_view_module": "@jupyter-widgets/output",
            "_model_module_version": "1.0.0",
            "_view_count": null,
            "_view_module_version": "1.0.0",
            "layout": "IPY_MODEL_12c8f9e38ae9440ca9a2a9b5a7443713",
            "_model_module": "@jupyter-widgets/output"
          }
        },
        "eba8ecd69dab4ceeab3d2157e05f6033": {
          "model_module": "@jupyter-widgets/controls",
          "model_name": "SliderStyleModel",
          "model_module_version": "1.5.0",
          "state": {
            "_view_name": "StyleView",
            "handle_color": null,
            "_model_name": "SliderStyleModel",
            "description_width": "",
            "_view_module": "@jupyter-widgets/base",
            "_model_module_version": "1.5.0",
            "_view_count": null,
            "_view_module_version": "1.2.0",
            "_model_module": "@jupyter-widgets/controls"
          }
        },
        "74fc06b7418048869b7e42a3925654de": {
          "model_module": "@jupyter-widgets/base",
          "model_name": "LayoutModel",
          "model_module_version": "1.2.0",
          "state": {
            "_view_name": "LayoutView",
            "grid_template_rows": null,
            "right": null,
            "justify_content": null,
            "_view_module": "@jupyter-widgets/base",
            "overflow": null,
            "_model_module_version": "1.2.0",
            "_view_count": null,
            "flex_flow": null,
            "width": null,
            "min_width": null,
            "border": null,
            "align_items": null,
            "bottom": null,
            "_model_module": "@jupyter-widgets/base",
            "top": null,
            "grid_column": null,
            "overflow_y": null,
            "overflow_x": null,
            "grid_auto_flow": null,
            "grid_area": null,
            "grid_template_columns": null,
            "flex": null,
            "_model_name": "LayoutModel",
            "justify_items": null,
            "grid_row": null,
            "max_height": null,
            "align_content": null,
            "visibility": null,
            "align_self": null,
            "height": null,
            "min_height": null,
            "padding": null,
            "grid_auto_rows": null,
            "grid_gap": null,
            "max_width": null,
            "order": null,
            "_view_module_version": "1.2.0",
            "grid_template_areas": null,
            "object_position": null,
            "object_fit": null,
            "grid_auto_columns": null,
            "margin": null,
            "display": null,
            "left": null
          }
        },
        "43b2e07aaaea4230a75b65540a1f8036": {
          "model_module": "@jupyter-widgets/controls",
          "model_name": "SliderStyleModel",
          "model_module_version": "1.5.0",
          "state": {
            "_view_name": "StyleView",
            "handle_color": null,
            "_model_name": "SliderStyleModel",
            "description_width": "",
            "_view_module": "@jupyter-widgets/base",
            "_model_module_version": "1.5.0",
            "_view_count": null,
            "_view_module_version": "1.2.0",
            "_model_module": "@jupyter-widgets/controls"
          }
        },
        "b5c48745901f4c78bd43f7011b19412b": {
          "model_module": "@jupyter-widgets/base",
          "model_name": "LayoutModel",
          "model_module_version": "1.2.0",
          "state": {
            "_view_name": "LayoutView",
            "grid_template_rows": null,
            "right": null,
            "justify_content": null,
            "_view_module": "@jupyter-widgets/base",
            "overflow": null,
            "_model_module_version": "1.2.0",
            "_view_count": null,
            "flex_flow": null,
            "width": null,
            "min_width": null,
            "border": null,
            "align_items": null,
            "bottom": null,
            "_model_module": "@jupyter-widgets/base",
            "top": null,
            "grid_column": null,
            "overflow_y": null,
            "overflow_x": null,
            "grid_auto_flow": null,
            "grid_area": null,
            "grid_template_columns": null,
            "flex": null,
            "_model_name": "LayoutModel",
            "justify_items": null,
            "grid_row": null,
            "max_height": null,
            "align_content": null,
            "visibility": null,
            "align_self": null,
            "height": null,
            "min_height": null,
            "padding": null,
            "grid_auto_rows": null,
            "grid_gap": null,
            "max_width": null,
            "order": null,
            "_view_module_version": "1.2.0",
            "grid_template_areas": null,
            "object_position": null,
            "object_fit": null,
            "grid_auto_columns": null,
            "margin": null,
            "display": null,
            "left": null
          }
        },
        "617771b65ed94554806318943a1efc7f": {
          "model_module": "@jupyter-widgets/controls",
          "model_name": "ButtonStyleModel",
          "model_module_version": "1.5.0",
          "state": {
            "_view_name": "StyleView",
            "_model_name": "ButtonStyleModel",
            "_view_module": "@jupyter-widgets/base",
            "_model_module_version": "1.5.0",
            "_view_count": null,
            "button_color": null,
            "font_weight": "",
            "_view_module_version": "1.2.0",
            "_model_module": "@jupyter-widgets/controls"
          }
        },
        "5180ea7cd12c49f6a75869e1cc4b6d41": {
          "model_module": "@jupyter-widgets/base",
          "model_name": "LayoutModel",
          "model_module_version": "1.2.0",
          "state": {
            "_view_name": "LayoutView",
            "grid_template_rows": null,
            "right": null,
            "justify_content": null,
            "_view_module": "@jupyter-widgets/base",
            "overflow": null,
            "_model_module_version": "1.2.0",
            "_view_count": null,
            "flex_flow": null,
            "width": null,
            "min_width": null,
            "border": null,
            "align_items": null,
            "bottom": null,
            "_model_module": "@jupyter-widgets/base",
            "top": null,
            "grid_column": null,
            "overflow_y": null,
            "overflow_x": null,
            "grid_auto_flow": null,
            "grid_area": null,
            "grid_template_columns": null,
            "flex": null,
            "_model_name": "LayoutModel",
            "justify_items": null,
            "grid_row": null,
            "max_height": null,
            "align_content": null,
            "visibility": null,
            "align_self": null,
            "height": null,
            "min_height": null,
            "padding": null,
            "grid_auto_rows": null,
            "grid_gap": null,
            "max_width": null,
            "order": null,
            "_view_module_version": "1.2.0",
            "grid_template_areas": null,
            "object_position": null,
            "object_fit": null,
            "grid_auto_columns": null,
            "margin": null,
            "display": null,
            "left": null
          }
        },
        "12c8f9e38ae9440ca9a2a9b5a7443713": {
          "model_module": "@jupyter-widgets/base",
          "model_name": "LayoutModel",
          "model_module_version": "1.2.0",
          "state": {
            "_view_name": "LayoutView",
            "grid_template_rows": null,
            "right": null,
            "justify_content": null,
            "_view_module": "@jupyter-widgets/base",
            "overflow": null,
            "_model_module_version": "1.2.0",
            "_view_count": null,
            "flex_flow": null,
            "width": null,
            "min_width": null,
            "border": null,
            "align_items": null,
            "bottom": null,
            "_model_module": "@jupyter-widgets/base",
            "top": null,
            "grid_column": null,
            "overflow_y": null,
            "overflow_x": null,
            "grid_auto_flow": null,
            "grid_area": null,
            "grid_template_columns": null,
            "flex": null,
            "_model_name": "LayoutModel",
            "justify_items": null,
            "grid_row": null,
            "max_height": null,
            "align_content": null,
            "visibility": null,
            "align_self": null,
            "height": null,
            "min_height": null,
            "padding": null,
            "grid_auto_rows": null,
            "grid_gap": null,
            "max_width": null,
            "order": null,
            "_view_module_version": "1.2.0",
            "grid_template_areas": null,
            "object_position": null,
            "object_fit": null,
            "grid_auto_columns": null,
            "margin": null,
            "display": null,
            "left": null
          }
        },
        "de351799ec3a4eef8684528ae2773644": {
          "model_module": "@jupyter-widgets/controls",
          "model_name": "VBoxModel",
          "model_module_version": "1.5.0",
          "state": {
            "_view_name": "VBoxView",
            "_dom_classes": [
              "widget-interact"
            ],
            "_model_name": "VBoxModel",
            "_view_module": "@jupyter-widgets/controls",
            "_model_module_version": "1.5.0",
            "_view_count": null,
            "_view_module_version": "1.5.0",
            "box_style": "",
            "layout": "IPY_MODEL_43ac04608ccc47308f4d4fb79a2a7e8f",
            "_model_module": "@jupyter-widgets/controls",
            "children": [
              "IPY_MODEL_71528104c3db423d841544c4868f933a",
              "IPY_MODEL_a3bfebac66ae4495bcaf30841985c744",
              "IPY_MODEL_ad948f20cefe4ea8ae6164936d8e2a0f",
              "IPY_MODEL_888803723169438692e051896eec79d1"
            ]
          }
        },
        "43ac04608ccc47308f4d4fb79a2a7e8f": {
          "model_module": "@jupyter-widgets/base",
          "model_name": "LayoutModel",
          "model_module_version": "1.2.0",
          "state": {
            "_view_name": "LayoutView",
            "grid_template_rows": null,
            "right": null,
            "justify_content": null,
            "_view_module": "@jupyter-widgets/base",
            "overflow": null,
            "_model_module_version": "1.2.0",
            "_view_count": null,
            "flex_flow": null,
            "width": null,
            "min_width": null,
            "border": null,
            "align_items": null,
            "bottom": null,
            "_model_module": "@jupyter-widgets/base",
            "top": null,
            "grid_column": null,
            "overflow_y": null,
            "overflow_x": null,
            "grid_auto_flow": null,
            "grid_area": null,
            "grid_template_columns": null,
            "flex": null,
            "_model_name": "LayoutModel",
            "justify_items": null,
            "grid_row": null,
            "max_height": null,
            "align_content": null,
            "visibility": null,
            "align_self": null,
            "height": null,
            "min_height": null,
            "padding": null,
            "grid_auto_rows": null,
            "grid_gap": null,
            "max_width": null,
            "order": null,
            "_view_module_version": "1.2.0",
            "grid_template_areas": null,
            "object_position": null,
            "object_fit": null,
            "grid_auto_columns": null,
            "margin": null,
            "display": null,
            "left": null
          }
        },
        "71528104c3db423d841544c4868f933a": {
          "model_module": "@jupyter-widgets/controls",
          "model_name": "IntSliderModel",
          "model_module_version": "1.5.0",
          "state": {
            "_view_name": "IntSliderView",
            "style": "IPY_MODEL_c59505632f014f36b6310f7da3de000f",
            "_dom_classes": [],
            "description": "giocate",
            "step": 1,
            "_model_name": "IntSliderModel",
            "orientation": "horizontal",
            "max": 6,
            "_view_module": "@jupyter-widgets/controls",
            "_model_module_version": "1.5.0",
            "value": 3,
            "_view_count": null,
            "disabled": false,
            "_view_module_version": "1.5.0",
            "min": 1,
            "continuous_update": true,
            "readout_format": "d",
            "description_tooltip": null,
            "readout": true,
            "_model_module": "@jupyter-widgets/controls",
            "layout": "IPY_MODEL_0a9b0fe50c5446acbe7f581a1b678fc4"
          }
        },
        "a3bfebac66ae4495bcaf30841985c744": {
          "model_module": "@jupyter-widgets/controls",
          "model_name": "IntSliderModel",
          "model_module_version": "1.5.0",
          "state": {
            "_view_name": "IntSliderView",
            "style": "IPY_MODEL_3054fceea16645aca1ef9cacd4baea6d",
            "_dom_classes": [],
            "description": "puntata",
            "step": 5,
            "_model_name": "IntSliderModel",
            "orientation": "horizontal",
            "max": 100,
            "_view_module": "@jupyter-widgets/controls",
            "_model_module_version": "1.5.0",
            "value": 5,
            "_view_count": null,
            "disabled": false,
            "_view_module_version": "1.5.0",
            "min": 5,
            "continuous_update": true,
            "readout_format": "d",
            "description_tooltip": null,
            "readout": true,
            "_model_module": "@jupyter-widgets/controls",
            "layout": "IPY_MODEL_2a1b46514d484a0f86b7545654d9ebcd"
          }
        },
        "ad948f20cefe4ea8ae6164936d8e2a0f": {
          "model_module": "@jupyter-widgets/controls",
          "model_name": "ButtonModel",
          "model_module_version": "1.5.0",
          "state": {
            "_view_name": "ButtonView",
            "style": "IPY_MODEL_a4dc83dbe9f24ee0a29138facb21ad69",
            "_dom_classes": [],
            "description": "Run Interact",
            "_model_name": "ButtonModel",
            "button_style": "",
            "_view_module": "@jupyter-widgets/controls",
            "_model_module_version": "1.5.0",
            "tooltip": "",
            "_view_count": null,
            "disabled": false,
            "_view_module_version": "1.5.0",
            "layout": "IPY_MODEL_e0a85c4e9a6a48feb195a5d997f92292",
            "_model_module": "@jupyter-widgets/controls",
            "icon": ""
          }
        },
        "888803723169438692e051896eec79d1": {
          "model_module": "@jupyter-widgets/output",
          "model_name": "OutputModel",
          "model_module_version": "1.0.0",
          "state": {
            "_view_name": "OutputView",
            "msg_id": "",
            "_dom_classes": [],
            "_model_name": "OutputModel",
            "outputs": [],
            "_view_module": "@jupyter-widgets/output",
            "_model_module_version": "1.0.0",
            "_view_count": null,
            "_view_module_version": "1.0.0",
            "layout": "IPY_MODEL_35ae260537494919be0f6c2399c695df",
            "_model_module": "@jupyter-widgets/output"
          }
        },
        "c59505632f014f36b6310f7da3de000f": {
          "model_module": "@jupyter-widgets/controls",
          "model_name": "SliderStyleModel",
          "model_module_version": "1.5.0",
          "state": {
            "_view_name": "StyleView",
            "handle_color": null,
            "_model_name": "SliderStyleModel",
            "description_width": "",
            "_view_module": "@jupyter-widgets/base",
            "_model_module_version": "1.5.0",
            "_view_count": null,
            "_view_module_version": "1.2.0",
            "_model_module": "@jupyter-widgets/controls"
          }
        },
        "0a9b0fe50c5446acbe7f581a1b678fc4": {
          "model_module": "@jupyter-widgets/base",
          "model_name": "LayoutModel",
          "model_module_version": "1.2.0",
          "state": {
            "_view_name": "LayoutView",
            "grid_template_rows": null,
            "right": null,
            "justify_content": null,
            "_view_module": "@jupyter-widgets/base",
            "overflow": null,
            "_model_module_version": "1.2.0",
            "_view_count": null,
            "flex_flow": null,
            "width": null,
            "min_width": null,
            "border": null,
            "align_items": null,
            "bottom": null,
            "_model_module": "@jupyter-widgets/base",
            "top": null,
            "grid_column": null,
            "overflow_y": null,
            "overflow_x": null,
            "grid_auto_flow": null,
            "grid_area": null,
            "grid_template_columns": null,
            "flex": null,
            "_model_name": "LayoutModel",
            "justify_items": null,
            "grid_row": null,
            "max_height": null,
            "align_content": null,
            "visibility": null,
            "align_self": null,
            "height": null,
            "min_height": null,
            "padding": null,
            "grid_auto_rows": null,
            "grid_gap": null,
            "max_width": null,
            "order": null,
            "_view_module_version": "1.2.0",
            "grid_template_areas": null,
            "object_position": null,
            "object_fit": null,
            "grid_auto_columns": null,
            "margin": null,
            "display": null,
            "left": null
          }
        },
        "3054fceea16645aca1ef9cacd4baea6d": {
          "model_module": "@jupyter-widgets/controls",
          "model_name": "SliderStyleModel",
          "model_module_version": "1.5.0",
          "state": {
            "_view_name": "StyleView",
            "handle_color": null,
            "_model_name": "SliderStyleModel",
            "description_width": "",
            "_view_module": "@jupyter-widgets/base",
            "_model_module_version": "1.5.0",
            "_view_count": null,
            "_view_module_version": "1.2.0",
            "_model_module": "@jupyter-widgets/controls"
          }
        },
        "2a1b46514d484a0f86b7545654d9ebcd": {
          "model_module": "@jupyter-widgets/base",
          "model_name": "LayoutModel",
          "model_module_version": "1.2.0",
          "state": {
            "_view_name": "LayoutView",
            "grid_template_rows": null,
            "right": null,
            "justify_content": null,
            "_view_module": "@jupyter-widgets/base",
            "overflow": null,
            "_model_module_version": "1.2.0",
            "_view_count": null,
            "flex_flow": null,
            "width": null,
            "min_width": null,
            "border": null,
            "align_items": null,
            "bottom": null,
            "_model_module": "@jupyter-widgets/base",
            "top": null,
            "grid_column": null,
            "overflow_y": null,
            "overflow_x": null,
            "grid_auto_flow": null,
            "grid_area": null,
            "grid_template_columns": null,
            "flex": null,
            "_model_name": "LayoutModel",
            "justify_items": null,
            "grid_row": null,
            "max_height": null,
            "align_content": null,
            "visibility": null,
            "align_self": null,
            "height": null,
            "min_height": null,
            "padding": null,
            "grid_auto_rows": null,
            "grid_gap": null,
            "max_width": null,
            "order": null,
            "_view_module_version": "1.2.0",
            "grid_template_areas": null,
            "object_position": null,
            "object_fit": null,
            "grid_auto_columns": null,
            "margin": null,
            "display": null,
            "left": null
          }
        },
        "a4dc83dbe9f24ee0a29138facb21ad69": {
          "model_module": "@jupyter-widgets/controls",
          "model_name": "ButtonStyleModel",
          "model_module_version": "1.5.0",
          "state": {
            "_view_name": "StyleView",
            "_model_name": "ButtonStyleModel",
            "_view_module": "@jupyter-widgets/base",
            "_model_module_version": "1.5.0",
            "_view_count": null,
            "button_color": null,
            "font_weight": "",
            "_view_module_version": "1.2.0",
            "_model_module": "@jupyter-widgets/controls"
          }
        },
        "e0a85c4e9a6a48feb195a5d997f92292": {
          "model_module": "@jupyter-widgets/base",
          "model_name": "LayoutModel",
          "model_module_version": "1.2.0",
          "state": {
            "_view_name": "LayoutView",
            "grid_template_rows": null,
            "right": null,
            "justify_content": null,
            "_view_module": "@jupyter-widgets/base",
            "overflow": null,
            "_model_module_version": "1.2.0",
            "_view_count": null,
            "flex_flow": null,
            "width": null,
            "min_width": null,
            "border": null,
            "align_items": null,
            "bottom": null,
            "_model_module": "@jupyter-widgets/base",
            "top": null,
            "grid_column": null,
            "overflow_y": null,
            "overflow_x": null,
            "grid_auto_flow": null,
            "grid_area": null,
            "grid_template_columns": null,
            "flex": null,
            "_model_name": "LayoutModel",
            "justify_items": null,
            "grid_row": null,
            "max_height": null,
            "align_content": null,
            "visibility": null,
            "align_self": null,
            "height": null,
            "min_height": null,
            "padding": null,
            "grid_auto_rows": null,
            "grid_gap": null,
            "max_width": null,
            "order": null,
            "_view_module_version": "1.2.0",
            "grid_template_areas": null,
            "object_position": null,
            "object_fit": null,
            "grid_auto_columns": null,
            "margin": null,
            "display": null,
            "left": null
          }
        },
        "35ae260537494919be0f6c2399c695df": {
          "model_module": "@jupyter-widgets/base",
          "model_name": "LayoutModel",
          "model_module_version": "1.2.0",
          "state": {
            "_view_name": "LayoutView",
            "grid_template_rows": null,
            "right": null,
            "justify_content": null,
            "_view_module": "@jupyter-widgets/base",
            "overflow": null,
            "_model_module_version": "1.2.0",
            "_view_count": null,
            "flex_flow": null,
            "width": null,
            "min_width": null,
            "border": null,
            "align_items": null,
            "bottom": null,
            "_model_module": "@jupyter-widgets/base",
            "top": null,
            "grid_column": null,
            "overflow_y": null,
            "overflow_x": null,
            "grid_auto_flow": null,
            "grid_area": null,
            "grid_template_columns": null,
            "flex": null,
            "_model_name": "LayoutModel",
            "justify_items": null,
            "grid_row": null,
            "max_height": null,
            "align_content": null,
            "visibility": null,
            "align_self": null,
            "height": null,
            "min_height": null,
            "padding": null,
            "grid_auto_rows": null,
            "grid_gap": null,
            "max_width": null,
            "order": null,
            "_view_module_version": "1.2.0",
            "grid_template_areas": null,
            "object_position": null,
            "object_fit": null,
            "grid_auto_columns": null,
            "margin": null,
            "display": null,
            "left": null
          }
        },
        "1a2c838645844ffdbc296876b5c4e430": {
          "model_module": "@jupyter-widgets/controls",
          "model_name": "VBoxModel",
          "model_module_version": "1.5.0",
          "state": {
            "_view_name": "VBoxView",
            "_dom_classes": [
              "widget-interact"
            ],
            "_model_name": "VBoxModel",
            "_view_module": "@jupyter-widgets/controls",
            "_model_module_version": "1.5.0",
            "_view_count": null,
            "_view_module_version": "1.5.0",
            "box_style": "",
            "layout": "IPY_MODEL_80f3cfe796114c68900755b89fe3f168",
            "_model_module": "@jupyter-widgets/controls",
            "children": [
              "IPY_MODEL_d2b538c46ba2436ebea3d7d9ab2d5a37",
              "IPY_MODEL_b9b0ed6b609341a684bf42ffa2f340eb",
              "IPY_MODEL_5b9540b2752a4f1bbe59ce23030e4f1a"
            ]
          }
        },
        "80f3cfe796114c68900755b89fe3f168": {
          "model_module": "@jupyter-widgets/base",
          "model_name": "LayoutModel",
          "model_module_version": "1.2.0",
          "state": {
            "_view_name": "LayoutView",
            "grid_template_rows": null,
            "right": null,
            "justify_content": null,
            "_view_module": "@jupyter-widgets/base",
            "overflow": null,
            "_model_module_version": "1.2.0",
            "_view_count": null,
            "flex_flow": null,
            "width": null,
            "min_width": null,
            "border": null,
            "align_items": null,
            "bottom": null,
            "_model_module": "@jupyter-widgets/base",
            "top": null,
            "grid_column": null,
            "overflow_y": null,
            "overflow_x": null,
            "grid_auto_flow": null,
            "grid_area": null,
            "grid_template_columns": null,
            "flex": null,
            "_model_name": "LayoutModel",
            "justify_items": null,
            "grid_row": null,
            "max_height": null,
            "align_content": null,
            "visibility": null,
            "align_self": null,
            "height": null,
            "min_height": null,
            "padding": null,
            "grid_auto_rows": null,
            "grid_gap": null,
            "max_width": null,
            "order": null,
            "_view_module_version": "1.2.0",
            "grid_template_areas": null,
            "object_position": null,
            "object_fit": null,
            "grid_auto_columns": null,
            "margin": null,
            "display": null,
            "left": null
          }
        },
        "d2b538c46ba2436ebea3d7d9ab2d5a37": {
          "model_module": "@jupyter-widgets/controls",
          "model_name": "IntSliderModel",
          "model_module_version": "1.5.0",
          "state": {
            "_view_name": "IntSliderView",
            "style": "IPY_MODEL_e61e3e2c581d49cebdd9f7450ffe6482",
            "_dom_classes": [],
            "description": "estrazioni",
            "step": 1,
            "_model_name": "IntSliderModel",
            "orientation": "horizontal",
            "max": 10,
            "_view_module": "@jupyter-widgets/controls",
            "_model_module_version": "1.5.0",
            "value": 3,
            "_view_count": null,
            "disabled": false,
            "_view_module_version": "1.5.0",
            "min": 1,
            "continuous_update": true,
            "readout_format": "d",
            "description_tooltip": null,
            "readout": true,
            "_model_module": "@jupyter-widgets/controls",
            "layout": "IPY_MODEL_0fcbf72b69c54d28ad45c2a6c65830f2"
          }
        },
        "b9b0ed6b609341a684bf42ffa2f340eb": {
          "model_module": "@jupyter-widgets/controls",
          "model_name": "ButtonModel",
          "model_module_version": "1.5.0",
          "state": {
            "_view_name": "ButtonView",
            "style": "IPY_MODEL_92be6476f814433fa4b04980ccc2f57b",
            "_dom_classes": [],
            "description": "Run Interact",
            "_model_name": "ButtonModel",
            "button_style": "",
            "_view_module": "@jupyter-widgets/controls",
            "_model_module_version": "1.5.0",
            "tooltip": "",
            "_view_count": null,
            "disabled": false,
            "_view_module_version": "1.5.0",
            "layout": "IPY_MODEL_37e7c81e0b844924b162a487969960ee",
            "_model_module": "@jupyter-widgets/controls",
            "icon": ""
          }
        },
        "5b9540b2752a4f1bbe59ce23030e4f1a": {
          "model_module": "@jupyter-widgets/output",
          "model_name": "OutputModel",
          "model_module_version": "1.0.0",
          "state": {
            "_view_name": "OutputView",
            "msg_id": "",
            "_dom_classes": [],
            "_model_name": "OutputModel",
            "outputs": [],
            "_view_module": "@jupyter-widgets/output",
            "_model_module_version": "1.0.0",
            "_view_count": null,
            "_view_module_version": "1.0.0",
            "layout": "IPY_MODEL_b83e25dc9f814ed988d3ec407e279c86",
            "_model_module": "@jupyter-widgets/output"
          }
        },
        "e61e3e2c581d49cebdd9f7450ffe6482": {
          "model_module": "@jupyter-widgets/controls",
          "model_name": "SliderStyleModel",
          "model_module_version": "1.5.0",
          "state": {
            "_view_name": "StyleView",
            "handle_color": null,
            "_model_name": "SliderStyleModel",
            "description_width": "",
            "_view_module": "@jupyter-widgets/base",
            "_model_module_version": "1.5.0",
            "_view_count": null,
            "_view_module_version": "1.2.0",
            "_model_module": "@jupyter-widgets/controls"
          }
        },
        "0fcbf72b69c54d28ad45c2a6c65830f2": {
          "model_module": "@jupyter-widgets/base",
          "model_name": "LayoutModel",
          "model_module_version": "1.2.0",
          "state": {
            "_view_name": "LayoutView",
            "grid_template_rows": null,
            "right": null,
            "justify_content": null,
            "_view_module": "@jupyter-widgets/base",
            "overflow": null,
            "_model_module_version": "1.2.0",
            "_view_count": null,
            "flex_flow": null,
            "width": null,
            "min_width": null,
            "border": null,
            "align_items": null,
            "bottom": null,
            "_model_module": "@jupyter-widgets/base",
            "top": null,
            "grid_column": null,
            "overflow_y": null,
            "overflow_x": null,
            "grid_auto_flow": null,
            "grid_area": null,
            "grid_template_columns": null,
            "flex": null,
            "_model_name": "LayoutModel",
            "justify_items": null,
            "grid_row": null,
            "max_height": null,
            "align_content": null,
            "visibility": null,
            "align_self": null,
            "height": null,
            "min_height": null,
            "padding": null,
            "grid_auto_rows": null,
            "grid_gap": null,
            "max_width": null,
            "order": null,
            "_view_module_version": "1.2.0",
            "grid_template_areas": null,
            "object_position": null,
            "object_fit": null,
            "grid_auto_columns": null,
            "margin": null,
            "display": null,
            "left": null
          }
        },
        "92be6476f814433fa4b04980ccc2f57b": {
          "model_module": "@jupyter-widgets/controls",
          "model_name": "ButtonStyleModel",
          "model_module_version": "1.5.0",
          "state": {
            "_view_name": "StyleView",
            "_model_name": "ButtonStyleModel",
            "_view_module": "@jupyter-widgets/base",
            "_model_module_version": "1.5.0",
            "_view_count": null,
            "button_color": null,
            "font_weight": "",
            "_view_module_version": "1.2.0",
            "_model_module": "@jupyter-widgets/controls"
          }
        },
        "37e7c81e0b844924b162a487969960ee": {
          "model_module": "@jupyter-widgets/base",
          "model_name": "LayoutModel",
          "model_module_version": "1.2.0",
          "state": {
            "_view_name": "LayoutView",
            "grid_template_rows": null,
            "right": null,
            "justify_content": null,
            "_view_module": "@jupyter-widgets/base",
            "overflow": null,
            "_model_module_version": "1.2.0",
            "_view_count": null,
            "flex_flow": null,
            "width": null,
            "min_width": null,
            "border": null,
            "align_items": null,
            "bottom": null,
            "_model_module": "@jupyter-widgets/base",
            "top": null,
            "grid_column": null,
            "overflow_y": null,
            "overflow_x": null,
            "grid_auto_flow": null,
            "grid_area": null,
            "grid_template_columns": null,
            "flex": null,
            "_model_name": "LayoutModel",
            "justify_items": null,
            "grid_row": null,
            "max_height": null,
            "align_content": null,
            "visibility": null,
            "align_self": null,
            "height": null,
            "min_height": null,
            "padding": null,
            "grid_auto_rows": null,
            "grid_gap": null,
            "max_width": null,
            "order": null,
            "_view_module_version": "1.2.0",
            "grid_template_areas": null,
            "object_position": null,
            "object_fit": null,
            "grid_auto_columns": null,
            "margin": null,
            "display": null,
            "left": null
          }
        },
        "b83e25dc9f814ed988d3ec407e279c86": {
          "model_module": "@jupyter-widgets/base",
          "model_name": "LayoutModel",
          "model_module_version": "1.2.0",
          "state": {
            "_view_name": "LayoutView",
            "grid_template_rows": null,
            "right": null,
            "justify_content": null,
            "_view_module": "@jupyter-widgets/base",
            "overflow": null,
            "_model_module_version": "1.2.0",
            "_view_count": null,
            "flex_flow": null,
            "width": null,
            "min_width": null,
            "border": null,
            "align_items": null,
            "bottom": null,
            "_model_module": "@jupyter-widgets/base",
            "top": null,
            "grid_column": null,
            "overflow_y": null,
            "overflow_x": null,
            "grid_auto_flow": null,
            "grid_area": null,
            "grid_template_columns": null,
            "flex": null,
            "_model_name": "LayoutModel",
            "justify_items": null,
            "grid_row": null,
            "max_height": null,
            "align_content": null,
            "visibility": null,
            "align_self": null,
            "height": null,
            "min_height": null,
            "padding": null,
            "grid_auto_rows": null,
            "grid_gap": null,
            "max_width": null,
            "order": null,
            "_view_module_version": "1.2.0",
            "grid_template_areas": null,
            "object_position": null,
            "object_fit": null,
            "grid_auto_columns": null,
            "margin": null,
            "display": null,
            "left": null
          }
        },
        "a51d5ccf8030479f953cc0ea7889ddcb": {
          "model_module": "@jupyter-widgets/controls",
          "model_name": "VBoxModel",
          "model_module_version": "1.5.0",
          "state": {
            "_view_name": "VBoxView",
            "_dom_classes": [
              "widget-interact"
            ],
            "_model_name": "VBoxModel",
            "_view_module": "@jupyter-widgets/controls",
            "_model_module_version": "1.5.0",
            "_view_count": null,
            "_view_module_version": "1.5.0",
            "box_style": "",
            "layout": "IPY_MODEL_47009d28e03f49b08124ed80af2fbfcc",
            "_model_module": "@jupyter-widgets/controls",
            "children": [
              "IPY_MODEL_dd66f806f59a484ab5fd61c35e78e462",
              "IPY_MODEL_19707d322fbe4d62ba13bf3d7a86a53c",
              "IPY_MODEL_1a4e73a951aa4e8fbe698c74d62655ac",
              "IPY_MODEL_12a61a7085874ced856d76091f66015d"
            ]
          }
        },
        "47009d28e03f49b08124ed80af2fbfcc": {
          "model_module": "@jupyter-widgets/base",
          "model_name": "LayoutModel",
          "model_module_version": "1.2.0",
          "state": {
            "_view_name": "LayoutView",
            "grid_template_rows": null,
            "right": null,
            "justify_content": null,
            "_view_module": "@jupyter-widgets/base",
            "overflow": null,
            "_model_module_version": "1.2.0",
            "_view_count": null,
            "flex_flow": null,
            "width": null,
            "min_width": null,
            "border": null,
            "align_items": null,
            "bottom": null,
            "_model_module": "@jupyter-widgets/base",
            "top": null,
            "grid_column": null,
            "overflow_y": null,
            "overflow_x": null,
            "grid_auto_flow": null,
            "grid_area": null,
            "grid_template_columns": null,
            "flex": null,
            "_model_name": "LayoutModel",
            "justify_items": null,
            "grid_row": null,
            "max_height": null,
            "align_content": null,
            "visibility": null,
            "align_self": null,
            "height": null,
            "min_height": null,
            "padding": null,
            "grid_auto_rows": null,
            "grid_gap": null,
            "max_width": null,
            "order": null,
            "_view_module_version": "1.2.0",
            "grid_template_areas": null,
            "object_position": null,
            "object_fit": null,
            "grid_auto_columns": null,
            "margin": null,
            "display": null,
            "left": null
          }
        },
        "dd66f806f59a484ab5fd61c35e78e462": {
          "model_module": "@jupyter-widgets/controls",
          "model_name": "IntSliderModel",
          "model_module_version": "1.5.0",
          "state": {
            "_view_name": "IntSliderView",
            "style": "IPY_MODEL_e362b3de1a4744a39d1a6edc3aaefc8e",
            "_dom_classes": [],
            "description": "bianche",
            "step": 1,
            "_model_name": "IntSliderModel",
            "orientation": "horizontal",
            "max": 5,
            "_view_module": "@jupyter-widgets/controls",
            "_model_module_version": "1.5.0",
            "value": 2,
            "_view_count": null,
            "disabled": false,
            "_view_module_version": "1.5.0",
            "min": 1,
            "continuous_update": true,
            "readout_format": "d",
            "description_tooltip": null,
            "readout": true,
            "_model_module": "@jupyter-widgets/controls",
            "layout": "IPY_MODEL_dae80701175f41889ab417a896edf9cf"
          }
        },
        "19707d322fbe4d62ba13bf3d7a86a53c": {
          "model_module": "@jupyter-widgets/controls",
          "model_name": "IntSliderModel",
          "model_module_version": "1.5.0",
          "state": {
            "_view_name": "IntSliderView",
            "style": "IPY_MODEL_12e1521f964a47cc85f667235f38890e",
            "_dom_classes": [],
            "description": "rosse",
            "step": 1,
            "_model_name": "IntSliderModel",
            "orientation": "horizontal",
            "max": 5,
            "_view_module": "@jupyter-widgets/controls",
            "_model_module_version": "1.5.0",
            "value": 3,
            "_view_count": null,
            "disabled": false,
            "_view_module_version": "1.5.0",
            "min": 1,
            "continuous_update": true,
            "readout_format": "d",
            "description_tooltip": null,
            "readout": true,
            "_model_module": "@jupyter-widgets/controls",
            "layout": "IPY_MODEL_ac7c8c7dc69f4b24984d0fa334b5c63c"
          }
        },
        "1a4e73a951aa4e8fbe698c74d62655ac": {
          "model_module": "@jupyter-widgets/controls",
          "model_name": "ButtonModel",
          "model_module_version": "1.5.0",
          "state": {
            "_view_name": "ButtonView",
            "style": "IPY_MODEL_1680761e4c6640ed820994e5e4c13204",
            "_dom_classes": [],
            "description": "Run Interact",
            "_model_name": "ButtonModel",
            "button_style": "",
            "_view_module": "@jupyter-widgets/controls",
            "_model_module_version": "1.5.0",
            "tooltip": "",
            "_view_count": null,
            "disabled": false,
            "_view_module_version": "1.5.0",
            "layout": "IPY_MODEL_7df94a7dbadc48d0a4d1ad643a61279f",
            "_model_module": "@jupyter-widgets/controls",
            "icon": ""
          }
        },
        "12a61a7085874ced856d76091f66015d": {
          "model_module": "@jupyter-widgets/output",
          "model_name": "OutputModel",
          "model_module_version": "1.0.0",
          "state": {
            "_view_name": "OutputView",
            "msg_id": "",
            "_dom_classes": [],
            "_model_name": "OutputModel",
            "outputs": [],
            "_view_module": "@jupyter-widgets/output",
            "_model_module_version": "1.0.0",
            "_view_count": null,
            "_view_module_version": "1.0.0",
            "layout": "IPY_MODEL_27854b10af864943a400c928da2c32f8",
            "_model_module": "@jupyter-widgets/output"
          }
        },
        "e362b3de1a4744a39d1a6edc3aaefc8e": {
          "model_module": "@jupyter-widgets/controls",
          "model_name": "SliderStyleModel",
          "model_module_version": "1.5.0",
          "state": {
            "_view_name": "StyleView",
            "handle_color": null,
            "_model_name": "SliderStyleModel",
            "description_width": "",
            "_view_module": "@jupyter-widgets/base",
            "_model_module_version": "1.5.0",
            "_view_count": null,
            "_view_module_version": "1.2.0",
            "_model_module": "@jupyter-widgets/controls"
          }
        },
        "dae80701175f41889ab417a896edf9cf": {
          "model_module": "@jupyter-widgets/base",
          "model_name": "LayoutModel",
          "model_module_version": "1.2.0",
          "state": {
            "_view_name": "LayoutView",
            "grid_template_rows": null,
            "right": null,
            "justify_content": null,
            "_view_module": "@jupyter-widgets/base",
            "overflow": null,
            "_model_module_version": "1.2.0",
            "_view_count": null,
            "flex_flow": null,
            "width": null,
            "min_width": null,
            "border": null,
            "align_items": null,
            "bottom": null,
            "_model_module": "@jupyter-widgets/base",
            "top": null,
            "grid_column": null,
            "overflow_y": null,
            "overflow_x": null,
            "grid_auto_flow": null,
            "grid_area": null,
            "grid_template_columns": null,
            "flex": null,
            "_model_name": "LayoutModel",
            "justify_items": null,
            "grid_row": null,
            "max_height": null,
            "align_content": null,
            "visibility": null,
            "align_self": null,
            "height": null,
            "min_height": null,
            "padding": null,
            "grid_auto_rows": null,
            "grid_gap": null,
            "max_width": null,
            "order": null,
            "_view_module_version": "1.2.0",
            "grid_template_areas": null,
            "object_position": null,
            "object_fit": null,
            "grid_auto_columns": null,
            "margin": null,
            "display": null,
            "left": null
          }
        },
        "12e1521f964a47cc85f667235f38890e": {
          "model_module": "@jupyter-widgets/controls",
          "model_name": "SliderStyleModel",
          "model_module_version": "1.5.0",
          "state": {
            "_view_name": "StyleView",
            "handle_color": null,
            "_model_name": "SliderStyleModel",
            "description_width": "",
            "_view_module": "@jupyter-widgets/base",
            "_model_module_version": "1.5.0",
            "_view_count": null,
            "_view_module_version": "1.2.0",
            "_model_module": "@jupyter-widgets/controls"
          }
        },
        "ac7c8c7dc69f4b24984d0fa334b5c63c": {
          "model_module": "@jupyter-widgets/base",
          "model_name": "LayoutModel",
          "model_module_version": "1.2.0",
          "state": {
            "_view_name": "LayoutView",
            "grid_template_rows": null,
            "right": null,
            "justify_content": null,
            "_view_module": "@jupyter-widgets/base",
            "overflow": null,
            "_model_module_version": "1.2.0",
            "_view_count": null,
            "flex_flow": null,
            "width": null,
            "min_width": null,
            "border": null,
            "align_items": null,
            "bottom": null,
            "_model_module": "@jupyter-widgets/base",
            "top": null,
            "grid_column": null,
            "overflow_y": null,
            "overflow_x": null,
            "grid_auto_flow": null,
            "grid_area": null,
            "grid_template_columns": null,
            "flex": null,
            "_model_name": "LayoutModel",
            "justify_items": null,
            "grid_row": null,
            "max_height": null,
            "align_content": null,
            "visibility": null,
            "align_self": null,
            "height": null,
            "min_height": null,
            "padding": null,
            "grid_auto_rows": null,
            "grid_gap": null,
            "max_width": null,
            "order": null,
            "_view_module_version": "1.2.0",
            "grid_template_areas": null,
            "object_position": null,
            "object_fit": null,
            "grid_auto_columns": null,
            "margin": null,
            "display": null,
            "left": null
          }
        },
        "1680761e4c6640ed820994e5e4c13204": {
          "model_module": "@jupyter-widgets/controls",
          "model_name": "ButtonStyleModel",
          "model_module_version": "1.5.0",
          "state": {
            "_view_name": "StyleView",
            "_model_name": "ButtonStyleModel",
            "_view_module": "@jupyter-widgets/base",
            "_model_module_version": "1.5.0",
            "_view_count": null,
            "button_color": null,
            "font_weight": "",
            "_view_module_version": "1.2.0",
            "_model_module": "@jupyter-widgets/controls"
          }
        },
        "7df94a7dbadc48d0a4d1ad643a61279f": {
          "model_module": "@jupyter-widgets/base",
          "model_name": "LayoutModel",
          "model_module_version": "1.2.0",
          "state": {
            "_view_name": "LayoutView",
            "grid_template_rows": null,
            "right": null,
            "justify_content": null,
            "_view_module": "@jupyter-widgets/base",
            "overflow": null,
            "_model_module_version": "1.2.0",
            "_view_count": null,
            "flex_flow": null,
            "width": null,
            "min_width": null,
            "border": null,
            "align_items": null,
            "bottom": null,
            "_model_module": "@jupyter-widgets/base",
            "top": null,
            "grid_column": null,
            "overflow_y": null,
            "overflow_x": null,
            "grid_auto_flow": null,
            "grid_area": null,
            "grid_template_columns": null,
            "flex": null,
            "_model_name": "LayoutModel",
            "justify_items": null,
            "grid_row": null,
            "max_height": null,
            "align_content": null,
            "visibility": null,
            "align_self": null,
            "height": null,
            "min_height": null,
            "padding": null,
            "grid_auto_rows": null,
            "grid_gap": null,
            "max_width": null,
            "order": null,
            "_view_module_version": "1.2.0",
            "grid_template_areas": null,
            "object_position": null,
            "object_fit": null,
            "grid_auto_columns": null,
            "margin": null,
            "display": null,
            "left": null
          }
        },
        "27854b10af864943a400c928da2c32f8": {
          "model_module": "@jupyter-widgets/base",
          "model_name": "LayoutModel",
          "model_module_version": "1.2.0",
          "state": {
            "_view_name": "LayoutView",
            "grid_template_rows": null,
            "right": null,
            "justify_content": null,
            "_view_module": "@jupyter-widgets/base",
            "overflow": null,
            "_model_module_version": "1.2.0",
            "_view_count": null,
            "flex_flow": null,
            "width": null,
            "min_width": null,
            "border": null,
            "align_items": null,
            "bottom": null,
            "_model_module": "@jupyter-widgets/base",
            "top": null,
            "grid_column": null,
            "overflow_y": null,
            "overflow_x": null,
            "grid_auto_flow": null,
            "grid_area": null,
            "grid_template_columns": null,
            "flex": null,
            "_model_name": "LayoutModel",
            "justify_items": null,
            "grid_row": null,
            "max_height": null,
            "align_content": null,
            "visibility": null,
            "align_self": null,
            "height": null,
            "min_height": null,
            "padding": null,
            "grid_auto_rows": null,
            "grid_gap": null,
            "max_width": null,
            "order": null,
            "_view_module_version": "1.2.0",
            "grid_template_areas": null,
            "object_position": null,
            "object_fit": null,
            "grid_auto_columns": null,
            "margin": null,
            "display": null,
            "left": null
          }
        },
        "30d15d2f34ba418686b7dca6a887169a": {
          "model_module": "@jupyter-widgets/controls",
          "model_name": "VBoxModel",
          "model_module_version": "1.5.0",
          "state": {
            "_view_name": "VBoxView",
            "_dom_classes": [
              "widget-interact"
            ],
            "_model_name": "VBoxModel",
            "_view_module": "@jupyter-widgets/controls",
            "_model_module_version": "1.5.0",
            "_view_count": null,
            "_view_module_version": "1.5.0",
            "box_style": "",
            "layout": "IPY_MODEL_586640b4686941d2a97de9d50e5f8c51",
            "_model_module": "@jupyter-widgets/controls",
            "children": [
              "IPY_MODEL_a8e0ea56f80049999c1880b4f414fbbc",
              "IPY_MODEL_325f79671f0a4d4286935185a6965f33",
              "IPY_MODEL_1ba846c6cea749bb9e9664e1c14fc6b7",
              "IPY_MODEL_2f344f4e115c49949a2df608aa774a0d"
            ]
          }
        },
        "586640b4686941d2a97de9d50e5f8c51": {
          "model_module": "@jupyter-widgets/base",
          "model_name": "LayoutModel",
          "model_module_version": "1.2.0",
          "state": {
            "_view_name": "LayoutView",
            "grid_template_rows": null,
            "right": null,
            "justify_content": null,
            "_view_module": "@jupyter-widgets/base",
            "overflow": null,
            "_model_module_version": "1.2.0",
            "_view_count": null,
            "flex_flow": null,
            "width": null,
            "min_width": null,
            "border": null,
            "align_items": null,
            "bottom": null,
            "_model_module": "@jupyter-widgets/base",
            "top": null,
            "grid_column": null,
            "overflow_y": null,
            "overflow_x": null,
            "grid_auto_flow": null,
            "grid_area": null,
            "grid_template_columns": null,
            "flex": null,
            "_model_name": "LayoutModel",
            "justify_items": null,
            "grid_row": null,
            "max_height": null,
            "align_content": null,
            "visibility": null,
            "align_self": null,
            "height": null,
            "min_height": null,
            "padding": null,
            "grid_auto_rows": null,
            "grid_gap": null,
            "max_width": null,
            "order": null,
            "_view_module_version": "1.2.0",
            "grid_template_areas": null,
            "object_position": null,
            "object_fit": null,
            "grid_auto_columns": null,
            "margin": null,
            "display": null,
            "left": null
          }
        },
        "a8e0ea56f80049999c1880b4f414fbbc": {
          "model_module": "@jupyter-widgets/controls",
          "model_name": "IntSliderModel",
          "model_module_version": "1.5.0",
          "state": {
            "_view_name": "IntSliderView",
            "style": "IPY_MODEL_f44a83da1ec34688864719b2e9abb64e",
            "_dom_classes": [],
            "description": "bianche",
            "step": 1,
            "_model_name": "IntSliderModel",
            "orientation": "horizontal",
            "max": 5,
            "_view_module": "@jupyter-widgets/controls",
            "_model_module_version": "1.5.0",
            "value": 2,
            "_view_count": null,
            "disabled": false,
            "_view_module_version": "1.5.0",
            "min": 1,
            "continuous_update": true,
            "readout_format": "d",
            "description_tooltip": null,
            "readout": true,
            "_model_module": "@jupyter-widgets/controls",
            "layout": "IPY_MODEL_d6a88013436648cfa9ff7c1396874a32"
          }
        },
        "325f79671f0a4d4286935185a6965f33": {
          "model_module": "@jupyter-widgets/controls",
          "model_name": "IntSliderModel",
          "model_module_version": "1.5.0",
          "state": {
            "_view_name": "IntSliderView",
            "style": "IPY_MODEL_92abb9dde0004643a1f270e1a321feb6",
            "_dom_classes": [],
            "description": "rosse",
            "step": 1,
            "_model_name": "IntSliderModel",
            "orientation": "horizontal",
            "max": 5,
            "_view_module": "@jupyter-widgets/controls",
            "_model_module_version": "1.5.0",
            "value": 3,
            "_view_count": null,
            "disabled": false,
            "_view_module_version": "1.5.0",
            "min": 1,
            "continuous_update": true,
            "readout_format": "d",
            "description_tooltip": null,
            "readout": true,
            "_model_module": "@jupyter-widgets/controls",
            "layout": "IPY_MODEL_8d8d0f3a6b134be8a5ff66d3a70cc923"
          }
        },
        "1ba846c6cea749bb9e9664e1c14fc6b7": {
          "model_module": "@jupyter-widgets/controls",
          "model_name": "ButtonModel",
          "model_module_version": "1.5.0",
          "state": {
            "_view_name": "ButtonView",
            "style": "IPY_MODEL_961ee05d68ea4380b6311c3428091cb0",
            "_dom_classes": [],
            "description": "Run Interact",
            "_model_name": "ButtonModel",
            "button_style": "",
            "_view_module": "@jupyter-widgets/controls",
            "_model_module_version": "1.5.0",
            "tooltip": "",
            "_view_count": null,
            "disabled": false,
            "_view_module_version": "1.5.0",
            "layout": "IPY_MODEL_c0bc2cad1a5a447f834e1da1bfdff517",
            "_model_module": "@jupyter-widgets/controls",
            "icon": ""
          }
        },
        "2f344f4e115c49949a2df608aa774a0d": {
          "model_module": "@jupyter-widgets/output",
          "model_name": "OutputModel",
          "model_module_version": "1.0.0",
          "state": {
            "_view_name": "OutputView",
            "msg_id": "",
            "_dom_classes": [],
            "_model_name": "OutputModel",
            "outputs": [],
            "_view_module": "@jupyter-widgets/output",
            "_model_module_version": "1.0.0",
            "_view_count": null,
            "_view_module_version": "1.0.0",
            "layout": "IPY_MODEL_96202b4089564b90be99854a9abf6f9c",
            "_model_module": "@jupyter-widgets/output"
          }
        },
        "f44a83da1ec34688864719b2e9abb64e": {
          "model_module": "@jupyter-widgets/controls",
          "model_name": "SliderStyleModel",
          "model_module_version": "1.5.0",
          "state": {
            "_view_name": "StyleView",
            "handle_color": null,
            "_model_name": "SliderStyleModel",
            "description_width": "",
            "_view_module": "@jupyter-widgets/base",
            "_model_module_version": "1.5.0",
            "_view_count": null,
            "_view_module_version": "1.2.0",
            "_model_module": "@jupyter-widgets/controls"
          }
        },
        "d6a88013436648cfa9ff7c1396874a32": {
          "model_module": "@jupyter-widgets/base",
          "model_name": "LayoutModel",
          "model_module_version": "1.2.0",
          "state": {
            "_view_name": "LayoutView",
            "grid_template_rows": null,
            "right": null,
            "justify_content": null,
            "_view_module": "@jupyter-widgets/base",
            "overflow": null,
            "_model_module_version": "1.2.0",
            "_view_count": null,
            "flex_flow": null,
            "width": null,
            "min_width": null,
            "border": null,
            "align_items": null,
            "bottom": null,
            "_model_module": "@jupyter-widgets/base",
            "top": null,
            "grid_column": null,
            "overflow_y": null,
            "overflow_x": null,
            "grid_auto_flow": null,
            "grid_area": null,
            "grid_template_columns": null,
            "flex": null,
            "_model_name": "LayoutModel",
            "justify_items": null,
            "grid_row": null,
            "max_height": null,
            "align_content": null,
            "visibility": null,
            "align_self": null,
            "height": null,
            "min_height": null,
            "padding": null,
            "grid_auto_rows": null,
            "grid_gap": null,
            "max_width": null,
            "order": null,
            "_view_module_version": "1.2.0",
            "grid_template_areas": null,
            "object_position": null,
            "object_fit": null,
            "grid_auto_columns": null,
            "margin": null,
            "display": null,
            "left": null
          }
        },
        "92abb9dde0004643a1f270e1a321feb6": {
          "model_module": "@jupyter-widgets/controls",
          "model_name": "SliderStyleModel",
          "model_module_version": "1.5.0",
          "state": {
            "_view_name": "StyleView",
            "handle_color": null,
            "_model_name": "SliderStyleModel",
            "description_width": "",
            "_view_module": "@jupyter-widgets/base",
            "_model_module_version": "1.5.0",
            "_view_count": null,
            "_view_module_version": "1.2.0",
            "_model_module": "@jupyter-widgets/controls"
          }
        },
        "8d8d0f3a6b134be8a5ff66d3a70cc923": {
          "model_module": "@jupyter-widgets/base",
          "model_name": "LayoutModel",
          "model_module_version": "1.2.0",
          "state": {
            "_view_name": "LayoutView",
            "grid_template_rows": null,
            "right": null,
            "justify_content": null,
            "_view_module": "@jupyter-widgets/base",
            "overflow": null,
            "_model_module_version": "1.2.0",
            "_view_count": null,
            "flex_flow": null,
            "width": null,
            "min_width": null,
            "border": null,
            "align_items": null,
            "bottom": null,
            "_model_module": "@jupyter-widgets/base",
            "top": null,
            "grid_column": null,
            "overflow_y": null,
            "overflow_x": null,
            "grid_auto_flow": null,
            "grid_area": null,
            "grid_template_columns": null,
            "flex": null,
            "_model_name": "LayoutModel",
            "justify_items": null,
            "grid_row": null,
            "max_height": null,
            "align_content": null,
            "visibility": null,
            "align_self": null,
            "height": null,
            "min_height": null,
            "padding": null,
            "grid_auto_rows": null,
            "grid_gap": null,
            "max_width": null,
            "order": null,
            "_view_module_version": "1.2.0",
            "grid_template_areas": null,
            "object_position": null,
            "object_fit": null,
            "grid_auto_columns": null,
            "margin": null,
            "display": null,
            "left": null
          }
        },
        "961ee05d68ea4380b6311c3428091cb0": {
          "model_module": "@jupyter-widgets/controls",
          "model_name": "ButtonStyleModel",
          "model_module_version": "1.5.0",
          "state": {
            "_view_name": "StyleView",
            "_model_name": "ButtonStyleModel",
            "_view_module": "@jupyter-widgets/base",
            "_model_module_version": "1.5.0",
            "_view_count": null,
            "button_color": null,
            "font_weight": "",
            "_view_module_version": "1.2.0",
            "_model_module": "@jupyter-widgets/controls"
          }
        },
        "c0bc2cad1a5a447f834e1da1bfdff517": {
          "model_module": "@jupyter-widgets/base",
          "model_name": "LayoutModel",
          "model_module_version": "1.2.0",
          "state": {
            "_view_name": "LayoutView",
            "grid_template_rows": null,
            "right": null,
            "justify_content": null,
            "_view_module": "@jupyter-widgets/base",
            "overflow": null,
            "_model_module_version": "1.2.0",
            "_view_count": null,
            "flex_flow": null,
            "width": null,
            "min_width": null,
            "border": null,
            "align_items": null,
            "bottom": null,
            "_model_module": "@jupyter-widgets/base",
            "top": null,
            "grid_column": null,
            "overflow_y": null,
            "overflow_x": null,
            "grid_auto_flow": null,
            "grid_area": null,
            "grid_template_columns": null,
            "flex": null,
            "_model_name": "LayoutModel",
            "justify_items": null,
            "grid_row": null,
            "max_height": null,
            "align_content": null,
            "visibility": null,
            "align_self": null,
            "height": null,
            "min_height": null,
            "padding": null,
            "grid_auto_rows": null,
            "grid_gap": null,
            "max_width": null,
            "order": null,
            "_view_module_version": "1.2.0",
            "grid_template_areas": null,
            "object_position": null,
            "object_fit": null,
            "grid_auto_columns": null,
            "margin": null,
            "display": null,
            "left": null
          }
        },
        "96202b4089564b90be99854a9abf6f9c": {
          "model_module": "@jupyter-widgets/base",
          "model_name": "LayoutModel",
          "model_module_version": "1.2.0",
          "state": {
            "_view_name": "LayoutView",
            "grid_template_rows": null,
            "right": null,
            "justify_content": null,
            "_view_module": "@jupyter-widgets/base",
            "overflow": null,
            "_model_module_version": "1.2.0",
            "_view_count": null,
            "flex_flow": null,
            "width": null,
            "min_width": null,
            "border": null,
            "align_items": null,
            "bottom": null,
            "_model_module": "@jupyter-widgets/base",
            "top": null,
            "grid_column": null,
            "overflow_y": null,
            "overflow_x": null,
            "grid_auto_flow": null,
            "grid_area": null,
            "grid_template_columns": null,
            "flex": null,
            "_model_name": "LayoutModel",
            "justify_items": null,
            "grid_row": null,
            "max_height": null,
            "align_content": null,
            "visibility": null,
            "align_self": null,
            "height": null,
            "min_height": null,
            "padding": null,
            "grid_auto_rows": null,
            "grid_gap": null,
            "max_width": null,
            "order": null,
            "_view_module_version": "1.2.0",
            "grid_template_areas": null,
            "object_position": null,
            "object_fit": null,
            "grid_auto_columns": null,
            "margin": null,
            "display": null,
            "left": null
          }
        },
        "56bae2992f5d43699f295878fce2458c": {
          "model_module": "@jupyter-widgets/controls",
          "model_name": "VBoxModel",
          "model_module_version": "1.5.0",
          "state": {
            "_view_name": "VBoxView",
            "_dom_classes": [
              "widget-interact"
            ],
            "_model_name": "VBoxModel",
            "_view_module": "@jupyter-widgets/controls",
            "_model_module_version": "1.5.0",
            "_view_count": null,
            "_view_module_version": "1.5.0",
            "box_style": "",
            "layout": "IPY_MODEL_b3015d2e5f494264b3894f7c5360b61b",
            "_model_module": "@jupyter-widgets/controls",
            "children": [
              "IPY_MODEL_d41fab86bc824d74bd5aa1bea827f766",
              "IPY_MODEL_663c0ffdeea545229974eceb8da79072",
              "IPY_MODEL_09822f3ed1f74906aa8f425dc81e1bd1",
              "IPY_MODEL_37f3819f9531401ea7de516e5fab474f"
            ]
          }
        },
        "b3015d2e5f494264b3894f7c5360b61b": {
          "model_module": "@jupyter-widgets/base",
          "model_name": "LayoutModel",
          "model_module_version": "1.2.0",
          "state": {
            "_view_name": "LayoutView",
            "grid_template_rows": null,
            "right": null,
            "justify_content": null,
            "_view_module": "@jupyter-widgets/base",
            "overflow": null,
            "_model_module_version": "1.2.0",
            "_view_count": null,
            "flex_flow": null,
            "width": null,
            "min_width": null,
            "border": null,
            "align_items": null,
            "bottom": null,
            "_model_module": "@jupyter-widgets/base",
            "top": null,
            "grid_column": null,
            "overflow_y": null,
            "overflow_x": null,
            "grid_auto_flow": null,
            "grid_area": null,
            "grid_template_columns": null,
            "flex": null,
            "_model_name": "LayoutModel",
            "justify_items": null,
            "grid_row": null,
            "max_height": null,
            "align_content": null,
            "visibility": null,
            "align_self": null,
            "height": null,
            "min_height": null,
            "padding": null,
            "grid_auto_rows": null,
            "grid_gap": null,
            "max_width": null,
            "order": null,
            "_view_module_version": "1.2.0",
            "grid_template_areas": null,
            "object_position": null,
            "object_fit": null,
            "grid_auto_columns": null,
            "margin": null,
            "display": null,
            "left": null
          }
        },
        "d41fab86bc824d74bd5aa1bea827f766": {
          "model_module": "@jupyter-widgets/controls",
          "model_name": "IntSliderModel",
          "model_module_version": "1.5.0",
          "state": {
            "_view_name": "IntSliderView",
            "style": "IPY_MODEL_b3cd9ba63be74b829a2cad83174c9512",
            "_dom_classes": [],
            "description": "a",
            "step": 1,
            "_model_name": "IntSliderModel",
            "orientation": "horizontal",
            "max": 5,
            "_view_module": "@jupyter-widgets/controls",
            "_model_module_version": "1.5.0",
            "value": 0,
            "_view_count": null,
            "disabled": false,
            "_view_module_version": "1.5.0",
            "min": 0,
            "continuous_update": true,
            "readout_format": "d",
            "description_tooltip": null,
            "readout": true,
            "_model_module": "@jupyter-widgets/controls",
            "layout": "IPY_MODEL_46a059fa773d45b3816cfd52d0e1430a"
          }
        },
        "663c0ffdeea545229974eceb8da79072": {
          "model_module": "@jupyter-widgets/controls",
          "model_name": "IntSliderModel",
          "model_module_version": "1.5.0",
          "state": {
            "_view_name": "IntSliderView",
            "style": "IPY_MODEL_37c746c98dc9490584ae95ceb1be0878",
            "_dom_classes": [],
            "description": "b",
            "step": 1,
            "_model_name": "IntSliderModel",
            "orientation": "horizontal",
            "max": 20,
            "_view_module": "@jupyter-widgets/controls",
            "_model_module_version": "1.5.0",
            "value": 10,
            "_view_count": null,
            "disabled": false,
            "_view_module_version": "1.5.0",
            "min": 5,
            "continuous_update": true,
            "readout_format": "d",
            "description_tooltip": null,
            "readout": true,
            "_model_module": "@jupyter-widgets/controls",
            "layout": "IPY_MODEL_2c79b81a0c3f4224802b15ea9d3444aa"
          }
        },
        "09822f3ed1f74906aa8f425dc81e1bd1": {
          "model_module": "@jupyter-widgets/controls",
          "model_name": "ButtonModel",
          "model_module_version": "1.5.0",
          "state": {
            "_view_name": "ButtonView",
            "style": "IPY_MODEL_b631ad0e4b454e9c89b44b84d413c240",
            "_dom_classes": [],
            "description": "Run Interact",
            "_model_name": "ButtonModel",
            "button_style": "",
            "_view_module": "@jupyter-widgets/controls",
            "_model_module_version": "1.5.0",
            "tooltip": "",
            "_view_count": null,
            "disabled": false,
            "_view_module_version": "1.5.0",
            "layout": "IPY_MODEL_00a55c4fec5549289a0ad7fd023466a9",
            "_model_module": "@jupyter-widgets/controls",
            "icon": ""
          }
        },
        "37f3819f9531401ea7de516e5fab474f": {
          "model_module": "@jupyter-widgets/output",
          "model_name": "OutputModel",
          "model_module_version": "1.0.0",
          "state": {
            "_view_name": "OutputView",
            "msg_id": "",
            "_dom_classes": [],
            "_model_name": "OutputModel",
            "outputs": [],
            "_view_module": "@jupyter-widgets/output",
            "_model_module_version": "1.0.0",
            "_view_count": null,
            "_view_module_version": "1.0.0",
            "layout": "IPY_MODEL_0ff8538409c44b4ea62d413d7350394b",
            "_model_module": "@jupyter-widgets/output"
          }
        },
        "b3cd9ba63be74b829a2cad83174c9512": {
          "model_module": "@jupyter-widgets/controls",
          "model_name": "SliderStyleModel",
          "model_module_version": "1.5.0",
          "state": {
            "_view_name": "StyleView",
            "handle_color": null,
            "_model_name": "SliderStyleModel",
            "description_width": "",
            "_view_module": "@jupyter-widgets/base",
            "_model_module_version": "1.5.0",
            "_view_count": null,
            "_view_module_version": "1.2.0",
            "_model_module": "@jupyter-widgets/controls"
          }
        },
        "46a059fa773d45b3816cfd52d0e1430a": {
          "model_module": "@jupyter-widgets/base",
          "model_name": "LayoutModel",
          "model_module_version": "1.2.0",
          "state": {
            "_view_name": "LayoutView",
            "grid_template_rows": null,
            "right": null,
            "justify_content": null,
            "_view_module": "@jupyter-widgets/base",
            "overflow": null,
            "_model_module_version": "1.2.0",
            "_view_count": null,
            "flex_flow": null,
            "width": null,
            "min_width": null,
            "border": null,
            "align_items": null,
            "bottom": null,
            "_model_module": "@jupyter-widgets/base",
            "top": null,
            "grid_column": null,
            "overflow_y": null,
            "overflow_x": null,
            "grid_auto_flow": null,
            "grid_area": null,
            "grid_template_columns": null,
            "flex": null,
            "_model_name": "LayoutModel",
            "justify_items": null,
            "grid_row": null,
            "max_height": null,
            "align_content": null,
            "visibility": null,
            "align_self": null,
            "height": null,
            "min_height": null,
            "padding": null,
            "grid_auto_rows": null,
            "grid_gap": null,
            "max_width": null,
            "order": null,
            "_view_module_version": "1.2.0",
            "grid_template_areas": null,
            "object_position": null,
            "object_fit": null,
            "grid_auto_columns": null,
            "margin": null,
            "display": null,
            "left": null
          }
        },
        "37c746c98dc9490584ae95ceb1be0878": {
          "model_module": "@jupyter-widgets/controls",
          "model_name": "SliderStyleModel",
          "model_module_version": "1.5.0",
          "state": {
            "_view_name": "StyleView",
            "handle_color": null,
            "_model_name": "SliderStyleModel",
            "description_width": "",
            "_view_module": "@jupyter-widgets/base",
            "_model_module_version": "1.5.0",
            "_view_count": null,
            "_view_module_version": "1.2.0",
            "_model_module": "@jupyter-widgets/controls"
          }
        },
        "2c79b81a0c3f4224802b15ea9d3444aa": {
          "model_module": "@jupyter-widgets/base",
          "model_name": "LayoutModel",
          "model_module_version": "1.2.0",
          "state": {
            "_view_name": "LayoutView",
            "grid_template_rows": null,
            "right": null,
            "justify_content": null,
            "_view_module": "@jupyter-widgets/base",
            "overflow": null,
            "_model_module_version": "1.2.0",
            "_view_count": null,
            "flex_flow": null,
            "width": null,
            "min_width": null,
            "border": null,
            "align_items": null,
            "bottom": null,
            "_model_module": "@jupyter-widgets/base",
            "top": null,
            "grid_column": null,
            "overflow_y": null,
            "overflow_x": null,
            "grid_auto_flow": null,
            "grid_area": null,
            "grid_template_columns": null,
            "flex": null,
            "_model_name": "LayoutModel",
            "justify_items": null,
            "grid_row": null,
            "max_height": null,
            "align_content": null,
            "visibility": null,
            "align_self": null,
            "height": null,
            "min_height": null,
            "padding": null,
            "grid_auto_rows": null,
            "grid_gap": null,
            "max_width": null,
            "order": null,
            "_view_module_version": "1.2.0",
            "grid_template_areas": null,
            "object_position": null,
            "object_fit": null,
            "grid_auto_columns": null,
            "margin": null,
            "display": null,
            "left": null
          }
        },
        "b631ad0e4b454e9c89b44b84d413c240": {
          "model_module": "@jupyter-widgets/controls",
          "model_name": "ButtonStyleModel",
          "model_module_version": "1.5.0",
          "state": {
            "_view_name": "StyleView",
            "_model_name": "ButtonStyleModel",
            "_view_module": "@jupyter-widgets/base",
            "_model_module_version": "1.5.0",
            "_view_count": null,
            "button_color": null,
            "font_weight": "",
            "_view_module_version": "1.2.0",
            "_model_module": "@jupyter-widgets/controls"
          }
        },
        "00a55c4fec5549289a0ad7fd023466a9": {
          "model_module": "@jupyter-widgets/base",
          "model_name": "LayoutModel",
          "model_module_version": "1.2.0",
          "state": {
            "_view_name": "LayoutView",
            "grid_template_rows": null,
            "right": null,
            "justify_content": null,
            "_view_module": "@jupyter-widgets/base",
            "overflow": null,
            "_model_module_version": "1.2.0",
            "_view_count": null,
            "flex_flow": null,
            "width": null,
            "min_width": null,
            "border": null,
            "align_items": null,
            "bottom": null,
            "_model_module": "@jupyter-widgets/base",
            "top": null,
            "grid_column": null,
            "overflow_y": null,
            "overflow_x": null,
            "grid_auto_flow": null,
            "grid_area": null,
            "grid_template_columns": null,
            "flex": null,
            "_model_name": "LayoutModel",
            "justify_items": null,
            "grid_row": null,
            "max_height": null,
            "align_content": null,
            "visibility": null,
            "align_self": null,
            "height": null,
            "min_height": null,
            "padding": null,
            "grid_auto_rows": null,
            "grid_gap": null,
            "max_width": null,
            "order": null,
            "_view_module_version": "1.2.0",
            "grid_template_areas": null,
            "object_position": null,
            "object_fit": null,
            "grid_auto_columns": null,
            "margin": null,
            "display": null,
            "left": null
          }
        },
        "0ff8538409c44b4ea62d413d7350394b": {
          "model_module": "@jupyter-widgets/base",
          "model_name": "LayoutModel",
          "model_module_version": "1.2.0",
          "state": {
            "_view_name": "LayoutView",
            "grid_template_rows": null,
            "right": null,
            "justify_content": null,
            "_view_module": "@jupyter-widgets/base",
            "overflow": null,
            "_model_module_version": "1.2.0",
            "_view_count": null,
            "flex_flow": null,
            "width": null,
            "min_width": null,
            "border": null,
            "align_items": null,
            "bottom": null,
            "_model_module": "@jupyter-widgets/base",
            "top": null,
            "grid_column": null,
            "overflow_y": null,
            "overflow_x": null,
            "grid_auto_flow": null,
            "grid_area": null,
            "grid_template_columns": null,
            "flex": null,
            "_model_name": "LayoutModel",
            "justify_items": null,
            "grid_row": null,
            "max_height": null,
            "align_content": null,
            "visibility": null,
            "align_self": null,
            "height": null,
            "min_height": null,
            "padding": null,
            "grid_auto_rows": null,
            "grid_gap": null,
            "max_width": null,
            "order": null,
            "_view_module_version": "1.2.0",
            "grid_template_areas": null,
            "object_position": null,
            "object_fit": null,
            "grid_auto_columns": null,
            "margin": null,
            "display": null,
            "left": null
          }
        },
        "a4dd258189b9420ba0f926c3d2b2cb2a": {
          "model_module": "@jupyter-widgets/controls",
          "model_name": "VBoxModel",
          "model_module_version": "1.5.0",
          "state": {
            "_view_name": "VBoxView",
            "_dom_classes": [
              "widget-interact"
            ],
            "_model_name": "VBoxModel",
            "_view_module": "@jupyter-widgets/controls",
            "_model_module_version": "1.5.0",
            "_view_count": null,
            "_view_module_version": "1.5.0",
            "box_style": "",
            "layout": "IPY_MODEL_31f2233c022a44d9b09f6a2b3d5ddf07",
            "_model_module": "@jupyter-widgets/controls",
            "children": [
              "IPY_MODEL_2a0cbbbccad9413382b64e30cf22af66",
              "IPY_MODEL_77adf678eb3e4b6b83c9763e1a9d25b6",
              "IPY_MODEL_dc9eca5a81d94d41a3258b95021e9eb8"
            ]
          }
        },
        "31f2233c022a44d9b09f6a2b3d5ddf07": {
          "model_module": "@jupyter-widgets/base",
          "model_name": "LayoutModel",
          "model_module_version": "1.2.0",
          "state": {
            "_view_name": "LayoutView",
            "grid_template_rows": null,
            "right": null,
            "justify_content": null,
            "_view_module": "@jupyter-widgets/base",
            "overflow": null,
            "_model_module_version": "1.2.0",
            "_view_count": null,
            "flex_flow": null,
            "width": null,
            "min_width": null,
            "border": null,
            "align_items": null,
            "bottom": null,
            "_model_module": "@jupyter-widgets/base",
            "top": null,
            "grid_column": null,
            "overflow_y": null,
            "overflow_x": null,
            "grid_auto_flow": null,
            "grid_area": null,
            "grid_template_columns": null,
            "flex": null,
            "_model_name": "LayoutModel",
            "justify_items": null,
            "grid_row": null,
            "max_height": null,
            "align_content": null,
            "visibility": null,
            "align_self": null,
            "height": null,
            "min_height": null,
            "padding": null,
            "grid_auto_rows": null,
            "grid_gap": null,
            "max_width": null,
            "order": null,
            "_view_module_version": "1.2.0",
            "grid_template_areas": null,
            "object_position": null,
            "object_fit": null,
            "grid_auto_columns": null,
            "margin": null,
            "display": null,
            "left": null
          }
        },
        "2a0cbbbccad9413382b64e30cf22af66": {
          "model_module": "@jupyter-widgets/controls",
          "model_name": "IntSliderModel",
          "model_module_version": "1.5.0",
          "state": {
            "_view_name": "IntSliderView",
            "style": "IPY_MODEL_9392f7732dbb43c6a3b8fbd149a0266f",
            "_dom_classes": [],
            "description": "tempo",
            "step": 1,
            "_model_name": "IntSliderModel",
            "orientation": "horizontal",
            "max": 20,
            "_view_module": "@jupyter-widgets/controls",
            "_model_module_version": "1.5.0",
            "value": 10,
            "_view_count": null,
            "disabled": false,
            "_view_module_version": "1.5.0",
            "min": 1,
            "continuous_update": true,
            "readout_format": "d",
            "description_tooltip": null,
            "readout": true,
            "_model_module": "@jupyter-widgets/controls",
            "layout": "IPY_MODEL_a7f982a7236a46d4b7ca6885b8fc984a"
          }
        },
        "77adf678eb3e4b6b83c9763e1a9d25b6": {
          "model_module": "@jupyter-widgets/controls",
          "model_name": "ButtonModel",
          "model_module_version": "1.5.0",
          "state": {
            "_view_name": "ButtonView",
            "style": "IPY_MODEL_0f32df9a0c0b4e08bb5cb2af061afee6",
            "_dom_classes": [],
            "description": "Run Interact",
            "_model_name": "ButtonModel",
            "button_style": "",
            "_view_module": "@jupyter-widgets/controls",
            "_model_module_version": "1.5.0",
            "tooltip": "",
            "_view_count": null,
            "disabled": false,
            "_view_module_version": "1.5.0",
            "layout": "IPY_MODEL_da88502ab5fd46118a2f6a200a79df3b",
            "_model_module": "@jupyter-widgets/controls",
            "icon": ""
          }
        },
        "dc9eca5a81d94d41a3258b95021e9eb8": {
          "model_module": "@jupyter-widgets/output",
          "model_name": "OutputModel",
          "model_module_version": "1.0.0",
          "state": {
            "_view_name": "OutputView",
            "msg_id": "",
            "_dom_classes": [],
            "_model_name": "OutputModel",
            "outputs": [],
            "_view_module": "@jupyter-widgets/output",
            "_model_module_version": "1.0.0",
            "_view_count": null,
            "_view_module_version": "1.0.0",
            "layout": "IPY_MODEL_3e9ac4122608400ebe4f9d9683e2b68f",
            "_model_module": "@jupyter-widgets/output"
          }
        },
        "9392f7732dbb43c6a3b8fbd149a0266f": {
          "model_module": "@jupyter-widgets/controls",
          "model_name": "SliderStyleModel",
          "model_module_version": "1.5.0",
          "state": {
            "_view_name": "StyleView",
            "handle_color": null,
            "_model_name": "SliderStyleModel",
            "description_width": "",
            "_view_module": "@jupyter-widgets/base",
            "_model_module_version": "1.5.0",
            "_view_count": null,
            "_view_module_version": "1.2.0",
            "_model_module": "@jupyter-widgets/controls"
          }
        },
        "a7f982a7236a46d4b7ca6885b8fc984a": {
          "model_module": "@jupyter-widgets/base",
          "model_name": "LayoutModel",
          "model_module_version": "1.2.0",
          "state": {
            "_view_name": "LayoutView",
            "grid_template_rows": null,
            "right": null,
            "justify_content": null,
            "_view_module": "@jupyter-widgets/base",
            "overflow": null,
            "_model_module_version": "1.2.0",
            "_view_count": null,
            "flex_flow": null,
            "width": null,
            "min_width": null,
            "border": null,
            "align_items": null,
            "bottom": null,
            "_model_module": "@jupyter-widgets/base",
            "top": null,
            "grid_column": null,
            "overflow_y": null,
            "overflow_x": null,
            "grid_auto_flow": null,
            "grid_area": null,
            "grid_template_columns": null,
            "flex": null,
            "_model_name": "LayoutModel",
            "justify_items": null,
            "grid_row": null,
            "max_height": null,
            "align_content": null,
            "visibility": null,
            "align_self": null,
            "height": null,
            "min_height": null,
            "padding": null,
            "grid_auto_rows": null,
            "grid_gap": null,
            "max_width": null,
            "order": null,
            "_view_module_version": "1.2.0",
            "grid_template_areas": null,
            "object_position": null,
            "object_fit": null,
            "grid_auto_columns": null,
            "margin": null,
            "display": null,
            "left": null
          }
        },
        "0f32df9a0c0b4e08bb5cb2af061afee6": {
          "model_module": "@jupyter-widgets/controls",
          "model_name": "ButtonStyleModel",
          "model_module_version": "1.5.0",
          "state": {
            "_view_name": "StyleView",
            "_model_name": "ButtonStyleModel",
            "_view_module": "@jupyter-widgets/base",
            "_model_module_version": "1.5.0",
            "_view_count": null,
            "button_color": null,
            "font_weight": "",
            "_view_module_version": "1.2.0",
            "_model_module": "@jupyter-widgets/controls"
          }
        },
        "da88502ab5fd46118a2f6a200a79df3b": {
          "model_module": "@jupyter-widgets/base",
          "model_name": "LayoutModel",
          "model_module_version": "1.2.0",
          "state": {
            "_view_name": "LayoutView",
            "grid_template_rows": null,
            "right": null,
            "justify_content": null,
            "_view_module": "@jupyter-widgets/base",
            "overflow": null,
            "_model_module_version": "1.2.0",
            "_view_count": null,
            "flex_flow": null,
            "width": null,
            "min_width": null,
            "border": null,
            "align_items": null,
            "bottom": null,
            "_model_module": "@jupyter-widgets/base",
            "top": null,
            "grid_column": null,
            "overflow_y": null,
            "overflow_x": null,
            "grid_auto_flow": null,
            "grid_area": null,
            "grid_template_columns": null,
            "flex": null,
            "_model_name": "LayoutModel",
            "justify_items": null,
            "grid_row": null,
            "max_height": null,
            "align_content": null,
            "visibility": null,
            "align_self": null,
            "height": null,
            "min_height": null,
            "padding": null,
            "grid_auto_rows": null,
            "grid_gap": null,
            "max_width": null,
            "order": null,
            "_view_module_version": "1.2.0",
            "grid_template_areas": null,
            "object_position": null,
            "object_fit": null,
            "grid_auto_columns": null,
            "margin": null,
            "display": null,
            "left": null
          }
        },
        "3e9ac4122608400ebe4f9d9683e2b68f": {
          "model_module": "@jupyter-widgets/base",
          "model_name": "LayoutModel",
          "model_module_version": "1.2.0",
          "state": {
            "_view_name": "LayoutView",
            "grid_template_rows": null,
            "right": null,
            "justify_content": null,
            "_view_module": "@jupyter-widgets/base",
            "overflow": null,
            "_model_module_version": "1.2.0",
            "_view_count": null,
            "flex_flow": null,
            "width": null,
            "min_width": null,
            "border": null,
            "align_items": null,
            "bottom": null,
            "_model_module": "@jupyter-widgets/base",
            "top": null,
            "grid_column": null,
            "overflow_y": null,
            "overflow_x": null,
            "grid_auto_flow": null,
            "grid_area": null,
            "grid_template_columns": null,
            "flex": null,
            "_model_name": "LayoutModel",
            "justify_items": null,
            "grid_row": null,
            "max_height": null,
            "align_content": null,
            "visibility": null,
            "align_self": null,
            "height": null,
            "min_height": null,
            "padding": null,
            "grid_auto_rows": null,
            "grid_gap": null,
            "max_width": null,
            "order": null,
            "_view_module_version": "1.2.0",
            "grid_template_areas": null,
            "object_position": null,
            "object_fit": null,
            "grid_auto_columns": null,
            "margin": null,
            "display": null,
            "left": null
          }
        },
        "9f02c1021e9d452aa9143795f40584d5": {
          "model_module": "@jupyter-widgets/controls",
          "model_name": "VBoxModel",
          "model_module_version": "1.5.0",
          "state": {
            "_view_name": "VBoxView",
            "_dom_classes": [
              "widget-interact"
            ],
            "_model_name": "VBoxModel",
            "_view_module": "@jupyter-widgets/controls",
            "_model_module_version": "1.5.0",
            "_view_count": null,
            "_view_module_version": "1.5.0",
            "box_style": "",
            "layout": "IPY_MODEL_df2d490040ce4ed6b40e5a45b73462f1",
            "_model_module": "@jupyter-widgets/controls",
            "children": [
              "IPY_MODEL_a63ba5f5840942f0be0d501fe757436e",
              "IPY_MODEL_8a8156a127b54f6a91e4530fa841a121",
              "IPY_MODEL_62e2b53fceae42718ddeaf6bd6d80902"
            ]
          }
        },
        "df2d490040ce4ed6b40e5a45b73462f1": {
          "model_module": "@jupyter-widgets/base",
          "model_name": "LayoutModel",
          "model_module_version": "1.2.0",
          "state": {
            "_view_name": "LayoutView",
            "grid_template_rows": null,
            "right": null,
            "justify_content": null,
            "_view_module": "@jupyter-widgets/base",
            "overflow": null,
            "_model_module_version": "1.2.0",
            "_view_count": null,
            "flex_flow": null,
            "width": null,
            "min_width": null,
            "border": null,
            "align_items": null,
            "bottom": null,
            "_model_module": "@jupyter-widgets/base",
            "top": null,
            "grid_column": null,
            "overflow_y": null,
            "overflow_x": null,
            "grid_auto_flow": null,
            "grid_area": null,
            "grid_template_columns": null,
            "flex": null,
            "_model_name": "LayoutModel",
            "justify_items": null,
            "grid_row": null,
            "max_height": null,
            "align_content": null,
            "visibility": null,
            "align_self": null,
            "height": null,
            "min_height": null,
            "padding": null,
            "grid_auto_rows": null,
            "grid_gap": null,
            "max_width": null,
            "order": null,
            "_view_module_version": "1.2.0",
            "grid_template_areas": null,
            "object_position": null,
            "object_fit": null,
            "grid_auto_columns": null,
            "margin": null,
            "display": null,
            "left": null
          }
        },
        "a63ba5f5840942f0be0d501fe757436e": {
          "model_module": "@jupyter-widgets/controls",
          "model_name": "IntSliderModel",
          "model_module_version": "1.5.0",
          "state": {
            "_view_name": "IntSliderView",
            "style": "IPY_MODEL_4a2881da809c4c0d86f88a200cfd5b69",
            "_dom_classes": [],
            "description": "tempo",
            "step": 1,
            "_model_name": "IntSliderModel",
            "orientation": "horizontal",
            "max": 20,
            "_view_module": "@jupyter-widgets/controls",
            "_model_module_version": "1.5.0",
            "value": 10,
            "_view_count": null,
            "disabled": false,
            "_view_module_version": "1.5.0",
            "min": 1,
            "continuous_update": true,
            "readout_format": "d",
            "description_tooltip": null,
            "readout": true,
            "_model_module": "@jupyter-widgets/controls",
            "layout": "IPY_MODEL_801b38d224fe453f8249e9799877b576"
          }
        },
        "8a8156a127b54f6a91e4530fa841a121": {
          "model_module": "@jupyter-widgets/controls",
          "model_name": "ButtonModel",
          "model_module_version": "1.5.0",
          "state": {
            "_view_name": "ButtonView",
            "style": "IPY_MODEL_e29fd30054e449acbe24c56ce492ac10",
            "_dom_classes": [],
            "description": "Run Interact",
            "_model_name": "ButtonModel",
            "button_style": "",
            "_view_module": "@jupyter-widgets/controls",
            "_model_module_version": "1.5.0",
            "tooltip": "",
            "_view_count": null,
            "disabled": false,
            "_view_module_version": "1.5.0",
            "layout": "IPY_MODEL_9557bf4fa9134d058898d3cb49ba5a40",
            "_model_module": "@jupyter-widgets/controls",
            "icon": ""
          }
        },
        "62e2b53fceae42718ddeaf6bd6d80902": {
          "model_module": "@jupyter-widgets/output",
          "model_name": "OutputModel",
          "model_module_version": "1.0.0",
          "state": {
            "_view_name": "OutputView",
            "msg_id": "",
            "_dom_classes": [],
            "_model_name": "OutputModel",
            "outputs": [],
            "_view_module": "@jupyter-widgets/output",
            "_model_module_version": "1.0.0",
            "_view_count": null,
            "_view_module_version": "1.0.0",
            "layout": "IPY_MODEL_385a36a027fa4f5e9d5d8c41f569ae7d",
            "_model_module": "@jupyter-widgets/output"
          }
        },
        "4a2881da809c4c0d86f88a200cfd5b69": {
          "model_module": "@jupyter-widgets/controls",
          "model_name": "SliderStyleModel",
          "model_module_version": "1.5.0",
          "state": {
            "_view_name": "StyleView",
            "handle_color": null,
            "_model_name": "SliderStyleModel",
            "description_width": "",
            "_view_module": "@jupyter-widgets/base",
            "_model_module_version": "1.5.0",
            "_view_count": null,
            "_view_module_version": "1.2.0",
            "_model_module": "@jupyter-widgets/controls"
          }
        },
        "801b38d224fe453f8249e9799877b576": {
          "model_module": "@jupyter-widgets/base",
          "model_name": "LayoutModel",
          "model_module_version": "1.2.0",
          "state": {
            "_view_name": "LayoutView",
            "grid_template_rows": null,
            "right": null,
            "justify_content": null,
            "_view_module": "@jupyter-widgets/base",
            "overflow": null,
            "_model_module_version": "1.2.0",
            "_view_count": null,
            "flex_flow": null,
            "width": null,
            "min_width": null,
            "border": null,
            "align_items": null,
            "bottom": null,
            "_model_module": "@jupyter-widgets/base",
            "top": null,
            "grid_column": null,
            "overflow_y": null,
            "overflow_x": null,
            "grid_auto_flow": null,
            "grid_area": null,
            "grid_template_columns": null,
            "flex": null,
            "_model_name": "LayoutModel",
            "justify_items": null,
            "grid_row": null,
            "max_height": null,
            "align_content": null,
            "visibility": null,
            "align_self": null,
            "height": null,
            "min_height": null,
            "padding": null,
            "grid_auto_rows": null,
            "grid_gap": null,
            "max_width": null,
            "order": null,
            "_view_module_version": "1.2.0",
            "grid_template_areas": null,
            "object_position": null,
            "object_fit": null,
            "grid_auto_columns": null,
            "margin": null,
            "display": null,
            "left": null
          }
        },
        "e29fd30054e449acbe24c56ce492ac10": {
          "model_module": "@jupyter-widgets/controls",
          "model_name": "ButtonStyleModel",
          "model_module_version": "1.5.0",
          "state": {
            "_view_name": "StyleView",
            "_model_name": "ButtonStyleModel",
            "_view_module": "@jupyter-widgets/base",
            "_model_module_version": "1.5.0",
            "_view_count": null,
            "button_color": null,
            "font_weight": "",
            "_view_module_version": "1.2.0",
            "_model_module": "@jupyter-widgets/controls"
          }
        },
        "9557bf4fa9134d058898d3cb49ba5a40": {
          "model_module": "@jupyter-widgets/base",
          "model_name": "LayoutModel",
          "model_module_version": "1.2.0",
          "state": {
            "_view_name": "LayoutView",
            "grid_template_rows": null,
            "right": null,
            "justify_content": null,
            "_view_module": "@jupyter-widgets/base",
            "overflow": null,
            "_model_module_version": "1.2.0",
            "_view_count": null,
            "flex_flow": null,
            "width": null,
            "min_width": null,
            "border": null,
            "align_items": null,
            "bottom": null,
            "_model_module": "@jupyter-widgets/base",
            "top": null,
            "grid_column": null,
            "overflow_y": null,
            "overflow_x": null,
            "grid_auto_flow": null,
            "grid_area": null,
            "grid_template_columns": null,
            "flex": null,
            "_model_name": "LayoutModel",
            "justify_items": null,
            "grid_row": null,
            "max_height": null,
            "align_content": null,
            "visibility": null,
            "align_self": null,
            "height": null,
            "min_height": null,
            "padding": null,
            "grid_auto_rows": null,
            "grid_gap": null,
            "max_width": null,
            "order": null,
            "_view_module_version": "1.2.0",
            "grid_template_areas": null,
            "object_position": null,
            "object_fit": null,
            "grid_auto_columns": null,
            "margin": null,
            "display": null,
            "left": null
          }
        },
        "385a36a027fa4f5e9d5d8c41f569ae7d": {
          "model_module": "@jupyter-widgets/base",
          "model_name": "LayoutModel",
          "model_module_version": "1.2.0",
          "state": {
            "_view_name": "LayoutView",
            "grid_template_rows": null,
            "right": null,
            "justify_content": null,
            "_view_module": "@jupyter-widgets/base",
            "overflow": null,
            "_model_module_version": "1.2.0",
            "_view_count": null,
            "flex_flow": null,
            "width": null,
            "min_width": null,
            "border": null,
            "align_items": null,
            "bottom": null,
            "_model_module": "@jupyter-widgets/base",
            "top": null,
            "grid_column": null,
            "overflow_y": null,
            "overflow_x": null,
            "grid_auto_flow": null,
            "grid_area": null,
            "grid_template_columns": null,
            "flex": null,
            "_model_name": "LayoutModel",
            "justify_items": null,
            "grid_row": null,
            "max_height": null,
            "align_content": null,
            "visibility": null,
            "align_self": null,
            "height": null,
            "min_height": null,
            "padding": null,
            "grid_auto_rows": null,
            "grid_gap": null,
            "max_width": null,
            "order": null,
            "_view_module_version": "1.2.0",
            "grid_template_areas": null,
            "object_position": null,
            "object_fit": null,
            "grid_auto_columns": null,
            "margin": null,
            "display": null,
            "left": null
          }
        },
        "641cd3f51aaf4cbb82f8c71920772317": {
          "model_module": "@jupyter-widgets/controls",
          "model_name": "VBoxModel",
          "model_module_version": "1.5.0",
          "state": {
            "_view_name": "VBoxView",
            "_dom_classes": [
              "widget-interact"
            ],
            "_model_name": "VBoxModel",
            "_view_module": "@jupyter-widgets/controls",
            "_model_module_version": "1.5.0",
            "_view_count": null,
            "_view_module_version": "1.5.0",
            "box_style": "",
            "layout": "IPY_MODEL_575130b6b05344e6934abea7c40b814a",
            "_model_module": "@jupyter-widgets/controls",
            "children": [
              "IPY_MODEL_3565be120fd24821954992afec37f091",
              "IPY_MODEL_5fa2b8183cfe4027a8b2b6b840c36ac2",
              "IPY_MODEL_4adde7ebc60d4de7ac2defd2cd631131"
            ]
          }
        },
        "575130b6b05344e6934abea7c40b814a": {
          "model_module": "@jupyter-widgets/base",
          "model_name": "LayoutModel",
          "model_module_version": "1.2.0",
          "state": {
            "_view_name": "LayoutView",
            "grid_template_rows": null,
            "right": null,
            "justify_content": null,
            "_view_module": "@jupyter-widgets/base",
            "overflow": null,
            "_model_module_version": "1.2.0",
            "_view_count": null,
            "flex_flow": null,
            "width": null,
            "min_width": null,
            "border": null,
            "align_items": null,
            "bottom": null,
            "_model_module": "@jupyter-widgets/base",
            "top": null,
            "grid_column": null,
            "overflow_y": null,
            "overflow_x": null,
            "grid_auto_flow": null,
            "grid_area": null,
            "grid_template_columns": null,
            "flex": null,
            "_model_name": "LayoutModel",
            "justify_items": null,
            "grid_row": null,
            "max_height": null,
            "align_content": null,
            "visibility": null,
            "align_self": null,
            "height": null,
            "min_height": null,
            "padding": null,
            "grid_auto_rows": null,
            "grid_gap": null,
            "max_width": null,
            "order": null,
            "_view_module_version": "1.2.0",
            "grid_template_areas": null,
            "object_position": null,
            "object_fit": null,
            "grid_auto_columns": null,
            "margin": null,
            "display": null,
            "left": null
          }
        },
        "3565be120fd24821954992afec37f091": {
          "model_module": "@jupyter-widgets/controls",
          "model_name": "IntSliderModel",
          "model_module_version": "1.5.0",
          "state": {
            "_view_name": "IntSliderView",
            "style": "IPY_MODEL_5ef25555f95d40bd83e5e6f74660397a",
            "_dom_classes": [],
            "description": "tempo",
            "step": 1,
            "_model_name": "IntSliderModel",
            "orientation": "horizontal",
            "max": 20,
            "_view_module": "@jupyter-widgets/controls",
            "_model_module_version": "1.5.0",
            "value": 10,
            "_view_count": null,
            "disabled": false,
            "_view_module_version": "1.5.0",
            "min": 1,
            "continuous_update": true,
            "readout_format": "d",
            "description_tooltip": null,
            "readout": true,
            "_model_module": "@jupyter-widgets/controls",
            "layout": "IPY_MODEL_b766b21bff874d1697ae2d799d51cdc5"
          }
        },
        "5fa2b8183cfe4027a8b2b6b840c36ac2": {
          "model_module": "@jupyter-widgets/controls",
          "model_name": "ButtonModel",
          "model_module_version": "1.5.0",
          "state": {
            "_view_name": "ButtonView",
            "style": "IPY_MODEL_3a42c0a3cbca4048a9d4ac08aa5d267f",
            "_dom_classes": [],
            "description": "Run Interact",
            "_model_name": "ButtonModel",
            "button_style": "",
            "_view_module": "@jupyter-widgets/controls",
            "_model_module_version": "1.5.0",
            "tooltip": "",
            "_view_count": null,
            "disabled": false,
            "_view_module_version": "1.5.0",
            "layout": "IPY_MODEL_aa0e686c4fa64b32942fc3e24fb79ee6",
            "_model_module": "@jupyter-widgets/controls",
            "icon": ""
          }
        },
        "4adde7ebc60d4de7ac2defd2cd631131": {
          "model_module": "@jupyter-widgets/output",
          "model_name": "OutputModel",
          "model_module_version": "1.0.0",
          "state": {
            "_view_name": "OutputView",
            "msg_id": "",
            "_dom_classes": [],
            "_model_name": "OutputModel",
            "outputs": [],
            "_view_module": "@jupyter-widgets/output",
            "_model_module_version": "1.0.0",
            "_view_count": null,
            "_view_module_version": "1.0.0",
            "layout": "IPY_MODEL_359a977db4704908a685df9dd6439979",
            "_model_module": "@jupyter-widgets/output"
          }
        },
        "5ef25555f95d40bd83e5e6f74660397a": {
          "model_module": "@jupyter-widgets/controls",
          "model_name": "SliderStyleModel",
          "model_module_version": "1.5.0",
          "state": {
            "_view_name": "StyleView",
            "handle_color": null,
            "_model_name": "SliderStyleModel",
            "description_width": "",
            "_view_module": "@jupyter-widgets/base",
            "_model_module_version": "1.5.0",
            "_view_count": null,
            "_view_module_version": "1.2.0",
            "_model_module": "@jupyter-widgets/controls"
          }
        },
        "b766b21bff874d1697ae2d799d51cdc5": {
          "model_module": "@jupyter-widgets/base",
          "model_name": "LayoutModel",
          "model_module_version": "1.2.0",
          "state": {
            "_view_name": "LayoutView",
            "grid_template_rows": null,
            "right": null,
            "justify_content": null,
            "_view_module": "@jupyter-widgets/base",
            "overflow": null,
            "_model_module_version": "1.2.0",
            "_view_count": null,
            "flex_flow": null,
            "width": null,
            "min_width": null,
            "border": null,
            "align_items": null,
            "bottom": null,
            "_model_module": "@jupyter-widgets/base",
            "top": null,
            "grid_column": null,
            "overflow_y": null,
            "overflow_x": null,
            "grid_auto_flow": null,
            "grid_area": null,
            "grid_template_columns": null,
            "flex": null,
            "_model_name": "LayoutModel",
            "justify_items": null,
            "grid_row": null,
            "max_height": null,
            "align_content": null,
            "visibility": null,
            "align_self": null,
            "height": null,
            "min_height": null,
            "padding": null,
            "grid_auto_rows": null,
            "grid_gap": null,
            "max_width": null,
            "order": null,
            "_view_module_version": "1.2.0",
            "grid_template_areas": null,
            "object_position": null,
            "object_fit": null,
            "grid_auto_columns": null,
            "margin": null,
            "display": null,
            "left": null
          }
        },
        "3a42c0a3cbca4048a9d4ac08aa5d267f": {
          "model_module": "@jupyter-widgets/controls",
          "model_name": "ButtonStyleModel",
          "model_module_version": "1.5.0",
          "state": {
            "_view_name": "StyleView",
            "_model_name": "ButtonStyleModel",
            "_view_module": "@jupyter-widgets/base",
            "_model_module_version": "1.5.0",
            "_view_count": null,
            "button_color": null,
            "font_weight": "",
            "_view_module_version": "1.2.0",
            "_model_module": "@jupyter-widgets/controls"
          }
        },
        "aa0e686c4fa64b32942fc3e24fb79ee6": {
          "model_module": "@jupyter-widgets/base",
          "model_name": "LayoutModel",
          "model_module_version": "1.2.0",
          "state": {
            "_view_name": "LayoutView",
            "grid_template_rows": null,
            "right": null,
            "justify_content": null,
            "_view_module": "@jupyter-widgets/base",
            "overflow": null,
            "_model_module_version": "1.2.0",
            "_view_count": null,
            "flex_flow": null,
            "width": null,
            "min_width": null,
            "border": null,
            "align_items": null,
            "bottom": null,
            "_model_module": "@jupyter-widgets/base",
            "top": null,
            "grid_column": null,
            "overflow_y": null,
            "overflow_x": null,
            "grid_auto_flow": null,
            "grid_area": null,
            "grid_template_columns": null,
            "flex": null,
            "_model_name": "LayoutModel",
            "justify_items": null,
            "grid_row": null,
            "max_height": null,
            "align_content": null,
            "visibility": null,
            "align_self": null,
            "height": null,
            "min_height": null,
            "padding": null,
            "grid_auto_rows": null,
            "grid_gap": null,
            "max_width": null,
            "order": null,
            "_view_module_version": "1.2.0",
            "grid_template_areas": null,
            "object_position": null,
            "object_fit": null,
            "grid_auto_columns": null,
            "margin": null,
            "display": null,
            "left": null
          }
        },
        "359a977db4704908a685df9dd6439979": {
          "model_module": "@jupyter-widgets/base",
          "model_name": "LayoutModel",
          "model_module_version": "1.2.0",
          "state": {
            "_view_name": "LayoutView",
            "grid_template_rows": null,
            "right": null,
            "justify_content": null,
            "_view_module": "@jupyter-widgets/base",
            "overflow": null,
            "_model_module_version": "1.2.0",
            "_view_count": null,
            "flex_flow": null,
            "width": null,
            "min_width": null,
            "border": null,
            "align_items": null,
            "bottom": null,
            "_model_module": "@jupyter-widgets/base",
            "top": null,
            "grid_column": null,
            "overflow_y": null,
            "overflow_x": null,
            "grid_auto_flow": null,
            "grid_area": null,
            "grid_template_columns": null,
            "flex": null,
            "_model_name": "LayoutModel",
            "justify_items": null,
            "grid_row": null,
            "max_height": null,
            "align_content": null,
            "visibility": null,
            "align_self": null,
            "height": null,
            "min_height": null,
            "padding": null,
            "grid_auto_rows": null,
            "grid_gap": null,
            "max_width": null,
            "order": null,
            "_view_module_version": "1.2.0",
            "grid_template_areas": null,
            "object_position": null,
            "object_fit": null,
            "grid_auto_columns": null,
            "margin": null,
            "display": null,
            "left": null
          }
        },
        "16fae8de184241e0bae2165f3055d7db": {
          "model_module": "@jupyter-widgets/controls",
          "model_name": "VBoxModel",
          "model_module_version": "1.5.0",
          "state": {
            "_view_name": "VBoxView",
            "_dom_classes": [
              "widget-interact"
            ],
            "_model_name": "VBoxModel",
            "_view_module": "@jupyter-widgets/controls",
            "_model_module_version": "1.5.0",
            "_view_count": null,
            "_view_module_version": "1.5.0",
            "box_style": "",
            "layout": "IPY_MODEL_9e2b314211df4c43bb427f787453b154",
            "_model_module": "@jupyter-widgets/controls",
            "children": [
              "IPY_MODEL_e4923a2fc893488abc41ca1dce4df270",
              "IPY_MODEL_f7405f07f6714149a94585b11f624892",
              "IPY_MODEL_a2d3a582b6fc49f29e1a98fc0c105c78"
            ]
          }
        },
        "9e2b314211df4c43bb427f787453b154": {
          "model_module": "@jupyter-widgets/base",
          "model_name": "LayoutModel",
          "model_module_version": "1.2.0",
          "state": {
            "_view_name": "LayoutView",
            "grid_template_rows": null,
            "right": null,
            "justify_content": null,
            "_view_module": "@jupyter-widgets/base",
            "overflow": null,
            "_model_module_version": "1.2.0",
            "_view_count": null,
            "flex_flow": null,
            "width": null,
            "min_width": null,
            "border": null,
            "align_items": null,
            "bottom": null,
            "_model_module": "@jupyter-widgets/base",
            "top": null,
            "grid_column": null,
            "overflow_y": null,
            "overflow_x": null,
            "grid_auto_flow": null,
            "grid_area": null,
            "grid_template_columns": null,
            "flex": null,
            "_model_name": "LayoutModel",
            "justify_items": null,
            "grid_row": null,
            "max_height": null,
            "align_content": null,
            "visibility": null,
            "align_self": null,
            "height": null,
            "min_height": null,
            "padding": null,
            "grid_auto_rows": null,
            "grid_gap": null,
            "max_width": null,
            "order": null,
            "_view_module_version": "1.2.0",
            "grid_template_areas": null,
            "object_position": null,
            "object_fit": null,
            "grid_auto_columns": null,
            "margin": null,
            "display": null,
            "left": null
          }
        },
        "e4923a2fc893488abc41ca1dce4df270": {
          "model_module": "@jupyter-widgets/controls",
          "model_name": "IntSliderModel",
          "model_module_version": "1.5.0",
          "state": {
            "_view_name": "IntSliderView",
            "style": "IPY_MODEL_32bd633474b840cf91cbb06bdb6490cb",
            "_dom_classes": [],
            "description": "tempo",
            "step": 1,
            "_model_name": "IntSliderModel",
            "orientation": "horizontal",
            "max": 20,
            "_view_module": "@jupyter-widgets/controls",
            "_model_module_version": "1.5.0",
            "value": 10,
            "_view_count": null,
            "disabled": false,
            "_view_module_version": "1.5.0",
            "min": 0,
            "continuous_update": true,
            "readout_format": "d",
            "description_tooltip": null,
            "readout": true,
            "_model_module": "@jupyter-widgets/controls",
            "layout": "IPY_MODEL_07864890f7aa412a93b87505117b2e40"
          }
        },
        "f7405f07f6714149a94585b11f624892": {
          "model_module": "@jupyter-widgets/controls",
          "model_name": "ButtonModel",
          "model_module_version": "1.5.0",
          "state": {
            "_view_name": "ButtonView",
            "style": "IPY_MODEL_e0e261f976e14818bbe382314def4210",
            "_dom_classes": [],
            "description": "Run Interact",
            "_model_name": "ButtonModel",
            "button_style": "",
            "_view_module": "@jupyter-widgets/controls",
            "_model_module_version": "1.5.0",
            "tooltip": "",
            "_view_count": null,
            "disabled": false,
            "_view_module_version": "1.5.0",
            "layout": "IPY_MODEL_62820faadc0446d3a46f905de6ca00ac",
            "_model_module": "@jupyter-widgets/controls",
            "icon": ""
          }
        },
        "a2d3a582b6fc49f29e1a98fc0c105c78": {
          "model_module": "@jupyter-widgets/output",
          "model_name": "OutputModel",
          "model_module_version": "1.0.0",
          "state": {
            "_view_name": "OutputView",
            "msg_id": "",
            "_dom_classes": [],
            "_model_name": "OutputModel",
            "outputs": [
              {
                "output_type": "display_data",
                "data": {
                  "image/png": "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\n",
                  "text/plain": "<Figure size 432x288 with 1 Axes>"
                },
                "metadata": {
                  "needs_background": "light"
                }
              }
            ],
            "_view_module": "@jupyter-widgets/output",
            "_model_module_version": "1.0.0",
            "_view_count": null,
            "_view_module_version": "1.0.0",
            "layout": "IPY_MODEL_53cc248d8bef44c5aba819062dd216c3",
            "_model_module": "@jupyter-widgets/output"
          }
        },
        "32bd633474b840cf91cbb06bdb6490cb": {
          "model_module": "@jupyter-widgets/controls",
          "model_name": "SliderStyleModel",
          "model_module_version": "1.5.0",
          "state": {
            "_view_name": "StyleView",
            "handle_color": null,
            "_model_name": "SliderStyleModel",
            "description_width": "",
            "_view_module": "@jupyter-widgets/base",
            "_model_module_version": "1.5.0",
            "_view_count": null,
            "_view_module_version": "1.2.0",
            "_model_module": "@jupyter-widgets/controls"
          }
        },
        "07864890f7aa412a93b87505117b2e40": {
          "model_module": "@jupyter-widgets/base",
          "model_name": "LayoutModel",
          "model_module_version": "1.2.0",
          "state": {
            "_view_name": "LayoutView",
            "grid_template_rows": null,
            "right": null,
            "justify_content": null,
            "_view_module": "@jupyter-widgets/base",
            "overflow": null,
            "_model_module_version": "1.2.0",
            "_view_count": null,
            "flex_flow": null,
            "width": null,
            "min_width": null,
            "border": null,
            "align_items": null,
            "bottom": null,
            "_model_module": "@jupyter-widgets/base",
            "top": null,
            "grid_column": null,
            "overflow_y": null,
            "overflow_x": null,
            "grid_auto_flow": null,
            "grid_area": null,
            "grid_template_columns": null,
            "flex": null,
            "_model_name": "LayoutModel",
            "justify_items": null,
            "grid_row": null,
            "max_height": null,
            "align_content": null,
            "visibility": null,
            "align_self": null,
            "height": null,
            "min_height": null,
            "padding": null,
            "grid_auto_rows": null,
            "grid_gap": null,
            "max_width": null,
            "order": null,
            "_view_module_version": "1.2.0",
            "grid_template_areas": null,
            "object_position": null,
            "object_fit": null,
            "grid_auto_columns": null,
            "margin": null,
            "display": null,
            "left": null
          }
        },
        "e0e261f976e14818bbe382314def4210": {
          "model_module": "@jupyter-widgets/controls",
          "model_name": "ButtonStyleModel",
          "model_module_version": "1.5.0",
          "state": {
            "_view_name": "StyleView",
            "_model_name": "ButtonStyleModel",
            "_view_module": "@jupyter-widgets/base",
            "_model_module_version": "1.5.0",
            "_view_count": null,
            "button_color": null,
            "font_weight": "",
            "_view_module_version": "1.2.0",
            "_model_module": "@jupyter-widgets/controls"
          }
        },
        "62820faadc0446d3a46f905de6ca00ac": {
          "model_module": "@jupyter-widgets/base",
          "model_name": "LayoutModel",
          "model_module_version": "1.2.0",
          "state": {
            "_view_name": "LayoutView",
            "grid_template_rows": null,
            "right": null,
            "justify_content": null,
            "_view_module": "@jupyter-widgets/base",
            "overflow": null,
            "_model_module_version": "1.2.0",
            "_view_count": null,
            "flex_flow": null,
            "width": null,
            "min_width": null,
            "border": null,
            "align_items": null,
            "bottom": null,
            "_model_module": "@jupyter-widgets/base",
            "top": null,
            "grid_column": null,
            "overflow_y": null,
            "overflow_x": null,
            "grid_auto_flow": null,
            "grid_area": null,
            "grid_template_columns": null,
            "flex": null,
            "_model_name": "LayoutModel",
            "justify_items": null,
            "grid_row": null,
            "max_height": null,
            "align_content": null,
            "visibility": null,
            "align_self": null,
            "height": null,
            "min_height": null,
            "padding": null,
            "grid_auto_rows": null,
            "grid_gap": null,
            "max_width": null,
            "order": null,
            "_view_module_version": "1.2.0",
            "grid_template_areas": null,
            "object_position": null,
            "object_fit": null,
            "grid_auto_columns": null,
            "margin": null,
            "display": null,
            "left": null
          }
        },
        "53cc248d8bef44c5aba819062dd216c3": {
          "model_module": "@jupyter-widgets/base",
          "model_name": "LayoutModel",
          "model_module_version": "1.2.0",
          "state": {
            "_view_name": "LayoutView",
            "grid_template_rows": null,
            "right": null,
            "justify_content": null,
            "_view_module": "@jupyter-widgets/base",
            "overflow": null,
            "_model_module_version": "1.2.0",
            "_view_count": null,
            "flex_flow": null,
            "width": null,
            "min_width": null,
            "border": null,
            "align_items": null,
            "bottom": null,
            "_model_module": "@jupyter-widgets/base",
            "top": null,
            "grid_column": null,
            "overflow_y": null,
            "overflow_x": null,
            "grid_auto_flow": null,
            "grid_area": null,
            "grid_template_columns": null,
            "flex": null,
            "_model_name": "LayoutModel",
            "justify_items": null,
            "grid_row": null,
            "max_height": null,
            "align_content": null,
            "visibility": null,
            "align_self": null,
            "height": null,
            "min_height": null,
            "padding": null,
            "grid_auto_rows": null,
            "grid_gap": null,
            "max_width": null,
            "order": null,
            "_view_module_version": "1.2.0",
            "grid_template_areas": null,
            "object_position": null,
            "object_fit": null,
            "grid_auto_columns": null,
            "margin": null,
            "display": null,
            "left": null
          }
        }
      }
    }
  },
  "cells": [
    {
      "cell_type": "markdown",
      "metadata": {
        "id": "view-in-github",
        "colab_type": "text"
      },
      "source": [
        "<a href=\"https://colab.research.google.com/github/MontiMic/Tesi/blob/riordinato/Untitled1.ipynb\" target=\"_parent\"><img src=\"https://colab.research.google.com/assets/colab-badge.svg\" alt=\"Open In Colab\"/></a>"
      ]
    },
    {
      "cell_type": "markdown",
      "source": [
        "# Introduzione\n",
        "La seguente presentazione si propone di semplificare l'apprendimento di alcuni principi del calcolo probabilistico offrendo la possibilità di vedere applicare le leggi su grandi numeri e confrontando i risultati ottenuti con quelli attesi dalla teoria."
      ],
      "metadata": {
        "id": "yyLelI9l5lbc"
      }
    },
    {
      "cell_type": "markdown",
      "source": [
        "Di seguito includiamo le librerie che verranno utilizzate nel corso della presentazione:\n",
        "\n",
        "* **numpy** per la manipolazione dei dati\n",
        "\n",
        "* **interact** per rendere la presentazione interattiva offrendo la possibilità allo studente di scegliere gli input\n",
        "\n",
        "* **pyplot** per la rappresentazione grafica dei risultati"
      ],
      "metadata": {
        "id": "35yCw13F7Yam"
      }
    },
    {
      "cell_type": "code",
      "execution_count": 1,
      "metadata": {
        "id": "TAxUPZupC-qR"
      },
      "outputs": [],
      "source": [
        "import numpy as np\n",
        "from ipywidgets import interact, interact_manual\n",
        "from matplotlib import pyplot as plt\n",
        "import math\n",
        "import seaborn as sns\n",
        "import random"
      ]
    },
    {
      "cell_type": "markdown",
      "source": [
        "##Elementi di python"
      ],
      "metadata": {
        "id": "XN5Whz1Y9fiZ"
      }
    },
    {
      "cell_type": "markdown",
      "source": [
        "Questa sezione è rivolta unicamente a chi non avesse ancora mai visto il python, allo scopo di mostrare alcune pratiche peculiari a Python."
      ],
      "metadata": {
        "id": "yHNFMDrk9pHX"
      }
    },
    {
      "cell_type": "markdown",
      "source": [
        "La funzione np.zeros(n) restituisce un array di zeri lungo n"
      ],
      "metadata": {
        "id": "kXZd8nfHDkHj"
      }
    },
    {
      "cell_type": "code",
      "source": [
        "np.zeros(5)"
      ],
      "metadata": {
        "colab": {
          "base_uri": "https://localhost:8080/"
        },
        "id": "Pukdrzg7-ggY",
        "outputId": "67979f3c-2436-448f-9055-63a1526bb966"
      },
      "execution_count": 2,
      "outputs": [
        {
          "output_type": "execute_result",
          "data": {
            "text/plain": [
              "array([0., 0., 0., 0., 0.])"
            ]
          },
          "metadata": {},
          "execution_count": 2
        }
      ]
    },
    {
      "cell_type": "markdown",
      "source": [
        "Specificando anche il type booleano facciamo una conversione: \n",
        "\n",
        "*  Gli zeri diventano False\n",
        "\n",
        "* I valori diversi da zero diventano True"
      ],
      "metadata": {
        "id": "VyLCyWeYDvuh"
      }
    },
    {
      "cell_type": "code",
      "source": [
        "esempio = np.zeros(10, dtype=np.bool)\n",
        "print(esempio)"
      ],
      "metadata": {
        "colab": {
          "base_uri": "https://localhost:8080/"
        },
        "id": "lO-15LDEDZEP",
        "outputId": "6850a7aa-5c58-4b1f-8767-6790e779a2fe"
      },
      "execution_count": 3,
      "outputs": [
        {
          "output_type": "stream",
          "name": "stdout",
          "text": [
            "[False False False False False False False False False False]\n"
          ]
        }
      ]
    },
    {
      "cell_type": "markdown",
      "source": [
        "Useremo questo tipo di struttura dati per simulare praticamente tutto, dalla roulette (True = rosso, False = nero) ad un urna di palline (quando ci basteranno 2 soli colori delle palline)"
      ],
      "metadata": {
        "id": "t-fqP7KSEIUu"
      }
    },
    {
      "cell_type": "markdown",
      "source": [
        "Questa struttura dati ci offre inol"
      ],
      "metadata": {
        "id": "YS53XnBHNuxD"
      }
    },
    {
      "cell_type": "markdown",
      "source": [
        "Per modificare un array il python ci offre uno strumento molto potente: lo slicing. Questa funzionalità permette di intervenire su un qualunque sottoinsieme dell'array se usata correttamente. A noi basta sapere che in un caso come esempio[1:5:2], stiamo intervenendo sull'array esempio, prendendo gli elementi dalla posizione 1 (inclusa) alla posizione 5 (esclusa) con passo 2:"
      ],
      "metadata": {
        "id": "OEyj-K9iEeQa"
      }
    },
    {
      "cell_type": "code",
      "source": [
        "esempio = ['a', 'b', 'c', 'd', 'e']\n",
        "esempio[1:5:2]"
      ],
      "metadata": {
        "colab": {
          "base_uri": "https://localhost:8080/"
        },
        "id": "48oF9noGF3Np",
        "outputId": "90f2e369-57b5-46fd-d006-e5635def23c9"
      },
      "execution_count": 4,
      "outputs": [
        {
          "output_type": "execute_result",
          "data": {
            "text/plain": [
              "['b', 'd']"
            ]
          },
          "metadata": {},
          "execution_count": 4
        }
      ]
    },
    {
      "cell_type": "markdown",
      "source": [
        "Non specificare il primo parametro significa partire dall'elemento 0, omettere il secondo significa procedere fino all'ultimo (compreso) e non specificare il passo significa passo 1: non saltare nessun elemento."
      ],
      "metadata": {
        "id": "Rm-4oAaOGvIL"
      }
    },
    {
      "cell_type": "markdown",
      "source": [
        "La funzione range(n) restituisce un iterabile lungo n. In python è generalmente usata nel ciclo for."
      ],
      "metadata": {
        "id": "b6PzabLwIH1d"
      }
    },
    {
      "cell_type": "code",
      "source": [
        "for i in range(5):\n",
        "  print(i)"
      ],
      "metadata": {
        "colab": {
          "base_uri": "https://localhost:8080/"
        },
        "id": "fdFx5oZPIaf5",
        "outputId": "401702ff-08ba-4190-8313-3423c782a517"
      },
      "execution_count": 5,
      "outputs": [
        {
          "output_type": "stream",
          "name": "stdout",
          "text": [
            "0\n",
            "1\n",
            "2\n",
            "3\n",
            "4\n"
          ]
        }
      ]
    },
    {
      "cell_type": "markdown",
      "source": [
        "##Funzioni utili"
      ],
      "metadata": {
        "id": "UdZaaBfKzjzX"
      }
    },
    {
      "cell_type": "markdown",
      "source": [
        "Quelle che seguono sono funzioni utilizzate in più test del documento, per il corretto funzionamento dei test successivi è necessario eseguire queste celle una volta."
      ],
      "metadata": {
        "id": "iZFqSjhypj_Y"
      }
    },
    {
      "cell_type": "code",
      "source": [
        "#funzione che genera una roulette simulata da un array lungo 37 di cui 18 valori contano come \"vittoria\"\n",
        "def mk_roulette():\n",
        "  ruota = np.zeros(37, dtype=np.bool)\n",
        "  ruota[1::2] = True\n",
        "  return ruota"
      ],
      "metadata": {
        "id": "4LJOZHxd810N"
      },
      "execution_count": 6,
      "outputs": []
    },
    {
      "cell_type": "code",
      "source": [
        "#funzione che simula una singola partita alla roulette (1 o più puntate uguali) e, dato il portafogli di partenza, torno il nuovo conto\n",
        "def partita(ruota, giocate, puntata, portafogli):\n",
        "  while(giocate > 0):\n",
        "      giocate = giocate - 1\n",
        "      portafogli = portafogli - puntata #la puntata la considero sempre persa, in caso di vittoria vinco il doppio della puntata\n",
        "      if(ruota[np.random.randint(0, (37))]): #estraggo un elemento casuale della roulette e verifico se è rosso\n",
        "        portafogli = portafogli + (puntata * 2)\n",
        "  return portafogli  "
      ],
      "metadata": {
        "id": "fqGFfq_CT7Tv"
      },
      "execution_count": 7,
      "outputs": []
    },
    {
      "cell_type": "code",
      "source": [
        "#funzione che simula un dado ritornando un intero compreso tra 1 e 6\n",
        "def trow():\n",
        "  return np.random.randint(1, 7)"
      ],
      "metadata": {
        "id": "O7NiHEewS99d"
      },
      "execution_count": 8,
      "outputs": []
    },
    {
      "cell_type": "code",
      "source": [
        "#funzione che ritorna un'urna contenente palline di 2 colori in quanità scelta\n",
        "def mk_urna(bianche, rosse):\n",
        "  tot = bianche + rosse\n",
        "  urna = np.zeros((tot, 1), dtype=np.bool)\n",
        "  while(rosse > 0):\n",
        "    rnd = np.random.randint(0, (tot))\n",
        "    if (not urna[rnd]):\n",
        "      urna[rnd] = True\n",
        "      rosse = rosse - 1\n",
        "  return urna"
      ],
      "metadata": {
        "id": "R06bqIr8Ii4G"
      },
      "execution_count": 9,
      "outputs": []
    },
    {
      "cell_type": "markdown",
      "source": [
        "##Interpretazione dei risultati"
      ],
      "metadata": {
        "id": "EbFr-wXap_mS"
      }
    },
    {
      "cell_type": "markdown",
      "source": [
        "I test di questo documento hanno lo scopo di mostrare che le formule viste con la teoria del calcolo probabilistico hanno un riscontro nella realtà. \n",
        "Ogni test simulerà per un numero di volte a discrezione dello studente, lo scenario descritto dall'esempio in esame. Si noti che un numero più alto di ripetizioni porterà a risultati più precisi."
      ],
      "metadata": {
        "id": "Mp5-2IqZqDex"
      }
    },
    {
      "cell_type": "code",
      "source": [
        "def moneta(lanci):\n",
        "  results = []\n",
        "  for i in range(lanci): #lanciamo la moneta tante volte quante indicate dal parametro \"lanci\"\n",
        "    results.append(np.random.randint(2))\n",
        "  #grafico\n",
        "  labels = []\n",
        "  normalized = []\n",
        "  normalized.append(round(((results.count(0) / lanci) * 100), 2)) #conto le istanze dei risultati e le normalizzo\n",
        "  normalized.append(round(100 - sum(normalized), 2)) #per evitare che per errori di arrotondamento la somma dei risultati sia 99.9%, l'ultimo risultato lo calcolo come 100 - (la somma dei precedenti)\n",
        "  for i in range(len(normalized)):\n",
        "    labels.append(str(normalized[i]) + \"%\") # aggiungo le labels (i valori riportati all'esterno del grafico)\n",
        "  plt.pie(normalized, labels=labels)\n",
        "  legenda = [\"Testa\", \"Croce\"]\n",
        "  plt.legend(legenda,loc='upper center', bbox_to_anchor=(0.5, -0.05), fancybox=True, shadow=True, ncol=5)"
      ],
      "metadata": {
        "id": "pZxUQQ-_rGuz"
      },
      "execution_count": 10,
      "outputs": []
    },
    {
      "cell_type": "code",
      "source": [
        "moneta(100)"
      ],
      "metadata": {
        "id": "7rynuIn1ubs4",
        "outputId": "10c7885e-eef8-434f-e248-1ded0c1b21be",
        "colab": {
          "base_uri": "https://localhost:8080/",
          "height": 282
        }
      },
      "execution_count": 11,
      "outputs": [
        {
          "output_type": "display_data",
          "data": {
            "image/png": "[encoded data removed]",
            "text/plain": [
              "<Figure size 432x288 with 1 Axes>"
            ]
          },
          "metadata": {}
        }
      ]
    },
    {
      "cell_type": "code",
      "source": [
        "moneta(10_000)"
      ],
      "metadata": {
        "id": "E6dWQdxUud7o",
        "outputId": "5d5a1f34-8bf0-4024-e1d6-a5cb234c0ca1",
        "colab": {
          "base_uri": "https://localhost:8080/",
          "height": 282
        }
      },
      "execution_count": 12,
      "outputs": [
        {
          "output_type": "display_data",
          "data": {
            "image/png": "[encoded data removed]",
            "text/plain": [
              "<Figure size 432x288 with 1 Axes>"
            ]
          },
          "metadata": {}
        }
      ]
    },
    {
      "cell_type": "code",
      "source": [
        "moneta(1_000_000)"
      ],
      "metadata": {
        "id": "uNmo8_dXugoY",
        "outputId": "c5a3de60-df70-49bc-b877-5fec74654cfa",
        "colab": {
          "base_uri": "https://localhost:8080/",
          "height": 282
        }
      },
      "execution_count": 13,
      "outputs": [
        {
          "output_type": "display_data",
          "data": {
            "image/png": "[encoded data removed]",
            "text/plain": [
              "<Figure size 432x288 with 1 Axes>"
            ]
          },
          "metadata": {}
        }
      ]
    },
    {
      "cell_type": "markdown",
      "source": [
        "Per un buon equilibrio tra accuratezza dei risultati e tempo di esecuzione impostiamo il numero di ripetizioni a 100 000 con la variabile \"precisione\"."
      ],
      "metadata": {
        "id": "0_jUagMkw72N"
      }
    },
    {
      "cell_type": "code",
      "source": [
        "precisione = 100_000"
      ],
      "metadata": {
        "id": "7YqOeAMoxunS"
      },
      "execution_count": 14,
      "outputs": []
    },
    {
      "cell_type": "markdown",
      "source": [
        "Si lascia allo studente la possibilità di incrementare questa variabile se desiderasse dei risultati più precisi."
      ],
      "metadata": {
        "id": "uH7_BXdBxvvq"
      }
    },
    {
      "cell_type": "markdown",
      "source": [
        "# Variabili aleatorie discrete"
      ],
      "metadata": {
        "id": "gQTrf-PK7FxE"
      }
    },
    {
      "cell_type": "markdown",
      "source": [
        "Una variabile aleatoria _X_ si dice discreta se i valori che assume sono finiti oppure numerabili.\n",
        "\n",
        "Nel caso siano numerabili molto spesso potremo pensare che siano semplicmente i numeri interi, ma non vogliamo escludere anche casi in cui abbiamo dei valori non interi."
      ],
      "metadata": {
        "id": "f7tQYrZgLgm2"
      }
    },
    {
      "cell_type": "markdown",
      "source": [
        "##Esempio 1.1 \n",
        "Faccio 3 puntate sul rosso alla roulette puntando 10 euro per volta, qual è la probabilità di vincere più di un certo valore _X_?\n",
        "\n",
        "(Le vincite possibili sono valori finiti ed è quindi una variabile discreta)"
      ],
      "metadata": {
        "id": "wO2wYqZ-DSZF"
      }
    },
    {
      "cell_type": "code",
      "source": [
        "@interact_manual(vincita=(0, 30))\n",
        "def roulette(vincita=5):\n",
        "  giocate = 3\n",
        "  puntata = 10\n",
        "  ruota = mk_roulette()\n",
        "  count = 0\n",
        "  for i in range(precisione):\n",
        "    portafogli = giocate * puntata\n",
        "    portafogli = partita(ruota, giocate, puntata, portafogli) #il portafogli viene aggiornato dopo aver simulato una partita\n",
        "    if((portafogli - 30) >= vincita): #se ho finito le 3 puntate con una vincita maggiore o uguale a quella sperata la aggiungo al conteggio\n",
        "      count = count + 1\n",
        "  return round(count / precisione, 3)"
      ],
      "metadata": {
        "colab": {
          "base_uri": "https://localhost:8080/",
          "height": 81,
          "referenced_widgets": [
            "723a9f89daef49f186167039d39d7fe8",
            "1e20eaaa98064d1ea16477d5817607f2",
            "facb9735abe14dc288003f29da414376",
            "1c603d269ae34fd78c4fd38dc3f9cfae",
            "e6355b66c36c4843acd20bc6595dfad8",
            "b166e3b8721440b5ba9adbceff66e447",
            "061510947c07499ca83a675e3d8671a0",
            "f648a0d0d7e54d859677660d9c3d6047",
            "9d8484fbe4a54b2db2b3713deccfcefd",
            "703c1ea2e6154beb9df177a1ca0cdc51"
          ]
        },
        "id": "w2ugmhMy_cfa",
        "outputId": "2603ec20-f8c5-4f05-b363-39a570996e3e"
      },
      "execution_count": 15,
      "outputs": [
        {
          "output_type": "display_data",
          "data": {
            "application/vnd.jupyter.widget-view+json": {
              "model_id": "723a9f89daef49f186167039d39d7fe8",
              "version_minor": 0,
              "version_major": 2
            },
            "text/plain": [
              "interactive(children=(IntSlider(value=5, description='vincita', max=30), Button(description='Run Interact', st…"
            ]
          },
          "metadata": {}
        }
      ]
    },
    {
      "cell_type": "markdown",
      "source": [
        "##Esempio 1.2\n",
        "Dati il numero di puntate ed i soldi scommessi ogni volta, quanto mi dovrei aspettare di aver vinto alla fine? (risultato in euro)"
      ],
      "metadata": {
        "id": "tTOcRD2kD_zf"
      }
    },
    {
      "cell_type": "code",
      "source": [
        "@interact_manual(giocate=(1, 10), puntata=(5, 100, 5))\n",
        "def roulette(giocate = 3, puntata = 10):\n",
        "  portafogli = giocate * puntata * precisione\n",
        "  ruota = mk_roulette()\n",
        "  for i in range(precisione):\n",
        "    portafogli = partita(ruota, giocate, puntata, portafogli)\n",
        "  portafogli = portafogli / precisione\n",
        "  return round(portafogli - (giocate * puntata), 2)"
      ],
      "metadata": {
        "colab": {
          "base_uri": "https://localhost:8080/",
          "height": 113,
          "referenced_widgets": [
            "92d3b71f3b4b467c99486b9ef1a0909e",
            "a4b663acd3044ee8a1264ee9a749b6c9",
            "cf51f36db7b24e70987164b0a143c17e",
            "0cc51f68bc7b488dab2bb8904870e84c",
            "bd8052916d4045bf82825409ea565da7",
            "f2408f90a8044475ad5851ed5e5f9e07",
            "eba8ecd69dab4ceeab3d2157e05f6033",
            "74fc06b7418048869b7e42a3925654de",
            "43b2e07aaaea4230a75b65540a1f8036",
            "b5c48745901f4c78bd43f7011b19412b",
            "617771b65ed94554806318943a1efc7f",
            "5180ea7cd12c49f6a75869e1cc4b6d41",
            "12c8f9e38ae9440ca9a2a9b5a7443713"
          ]
        },
        "id": "TR8QkEnHD-B2",
        "outputId": "51bc97bb-9b51-4964-d9ed-789ac832ee40"
      },
      "execution_count": 16,
      "outputs": [
        {
          "output_type": "display_data",
          "data": {
            "application/vnd.jupyter.widget-view+json": {
              "model_id": "92d3b71f3b4b467c99486b9ef1a0909e",
              "version_minor": 0,
              "version_major": 2
            },
            "text/plain": [
              "interactive(children=(IntSlider(value=3, description='giocate', max=10, min=1), IntSlider(value=10, descriptio…"
            ]
          },
          "metadata": {}
        }
      ]
    },
    {
      "cell_type": "markdown",
      "source": [
        "# Distribuzione uniforme e non uniforme"
      ],
      "metadata": {
        "id": "qBnKgfwaLT9x"
      }
    },
    {
      "cell_type": "markdown",
      "source": [
        "Sia _A_ = {_x1_, . . . , _xn_}; una variabile _X_ che assume i valori in _A_ tutti con la stessa probabilità $\\frac{1}{n}$\n",
        "si dice _variabile uniforme_ su _A_. Scriviamo in questo caso _X_ ∼ _U_(_A_) oppure _X_ ∼ _U_(_x1_, . . . , _xn_).\n",
        "La densità è quindi:\n",
        "\n",
        "\\begin{equation}\n",
        "  px(h) =\n",
        "    \\begin{cases}\n",
        "           \\frac{1}{n} \\ se \\  h  \\ ∈ \\ ({x1}, {x2}, ..., {xn})\n",
        "          \\\\\n",
        "          0 \\ altrimenti\n",
        "        \\end{cases}\n",
        "\\end{equation}"
      ],
      "metadata": {
        "id": "GUQzPwZ8NK0Q"
      }
    },
    {
      "cell_type": "markdown",
      "source": [
        "##Esempio 2.1 \n",
        "Nel lancio di un dado sia Ω = {1, 2, 3, 4, 5, 6} l’insieme dei possibili risultati.\n",
        "Allora la funzione _X_(_n_) = n per ogni n ∈ Ω è una variabile aleatoria uniforme _X_ ∼ _U_(1, 2, 3, 4, 5, 6).\n"
      ],
      "metadata": {
        "id": "HJrqw0EbXj2l"
      }
    },
    {
      "cell_type": "code",
      "source": [
        "def dice():\n",
        "  results = []\n",
        "  for i in range(precisione):\n",
        "    results.append(trow()) #aggiungo il risultato del tiro alla lista dei risultati\n",
        "  #grafico\n",
        "  elem_count = []\n",
        "  labels = []\n",
        "  for i in range(len(set(results))): #conto le istanze di ogni risultato ottenuto ed aggiungo i totali a elem_count, poi lo metto a grafico\n",
        "    elem_count.append(results.count(i+1))\n",
        "    labels.append(str(i+1))\n",
        "  plt.bar(labels, elem_count)\n",
        "dice()"
      ],
      "metadata": {
        "colab": {
          "base_uri": "https://localhost:8080/",
          "height": 265
        },
        "id": "pO1ExmtATCeI",
        "outputId": "8fe72034-cebd-4ba4-cd2e-dbfdb2224fcd"
      },
      "execution_count": 17,
      "outputs": [
        {
          "output_type": "display_data",
          "data": {
            "image/png": "[encoded data removed]",
            "text/plain": [
              "<Figure size 432x288 with 1 Axes>"
            ]
          },
          "metadata": {
            "needs_background": "light"
          }
        }
      ]
    },
    {
      "cell_type": "markdown",
      "source": [
        "##Esempio 2.2\n",
        "Se invece lanciassimo due dadi, la variabile _X_ che assume un valore corrispondente al numero di risultati pari ottenuti dal lancio sarebbe una _variabile non uniforme_ siccome la sua densità sarebbe:\n",
        "\n",
        "\\begin{equation}\n",
        "  py(h) =\n",
        "    \\begin{cases}\n",
        "          \\frac{1}{4} \\  h={0},{2}\n",
        "          \\\\\n",
        "          \\frac{1}{2} \\ h={1}\n",
        "          \\\\\n",
        "          0 \\ altrimenti\n",
        "        \\end{cases}\n",
        "\\end{equation}"
      ],
      "metadata": {
        "id": "BZUNA1OvaQp6"
      }
    },
    {
      "cell_type": "code",
      "source": [
        "def even_dices():\n",
        "  results = []\n",
        "  for i in range(precisione):\n",
        "    a, b = trow(), trow() #lancio due dadi, poi conterò quanti sono pari per aggiungere il risultato alla lista\n",
        "    results.append(2-((a % 2)+(b % 2))) #conto i dadi pari come due meno i dadi dispari (n%2 = 1 per n dispari, 0 altrimenti)\n",
        "  valori = []\n",
        "  normalized = []\n",
        "  for i in range(3): #conto le istanze dei risultati e le divido per il numero di risultati totale (normalizzo)\n",
        "    normalized.append(results.count(i) / len(results)) #len(results) torna la lunghezza della lista results\n",
        "    valori.append(\"k=\" + str(i))\n",
        "  plt.pie(normalized, labels=valori)\n",
        "even_dices()"
      ],
      "metadata": {
        "colab": {
          "base_uri": "https://localhost:8080/",
          "height": 248
        },
        "id": "Ly_UKZkxZr2J",
        "outputId": "e60fd351-9525-443f-96d6-87502a789b13"
      },
      "execution_count": 18,
      "outputs": [
        {
          "output_type": "display_data",
          "data": {
            "image/png": "[encoded data removed]",
            "text/plain": [
              "<Figure size 432x288 with 1 Axes>"
            ]
          },
          "metadata": {}
        }
      ]
    },
    {
      "cell_type": "markdown",
      "source": [
        "#Densità binomiale"
      ],
      "metadata": {
        "id": "qimeQspadWgq"
      }
    },
    {
      "cell_type": "markdown",
      "source": [
        "Consideriamo un fenomeno aleatorio e un certo evento ad esso associato. Per semplicità diciamo che se l’evento si realizza otteniamo un “successo”, viceversa che abbiamo ottenuto un “insuccesso\".\n",
        "Uno schema successo-insuccesso consiste nel ripetere questo fenomeno un certo fissato numero di volte, dette anche prove o tentativi, in cui siamo interessati unicamente al numero di successi ottenuti\n",
        "nelle varie prove.\n",
        "Supponiamo ora che le prove siano indipendenti l’una dall’altra, cioè vengono effettuate tuttevnelle medesime condizioni, indipendentemente dal risultato delle prove precedenti: parliamo in questo caso di schema successo-insuccesso con ripetizione o a prove indipendenti. Consideriamo\n",
        "quindi la variabile X data dal numero di successi in n tentativi.\n",
        "Nel caso in cui le prove siano indipendenti l’una dall’altra, la probabilità di ottenere una certa prefissata sequenza di successi e insuccessi dipende solo dal numero di questi ultimi e non dall’ordine con cui vogliamo che si succedano. La probabilità di ottenere una sequenza fissata in cui abbiamo k successi e n − k insuccessi è data da\n",
        "$p^k(1-p)^{n-k}$, dove p è la probabilità che ogni singolo tentativo abbia successo. Siccome i modi in cui possiamo scegliere le k posizioni per i successi sono date da ${n\\choose k}$ otteniamo per la variabile X la densità data da\n",
        "\n",
        "\\begin{equation}\n",
        "  px(k) =\n",
        "    \\begin{cases}\n",
        "          {n\\choose k} p^k(1-p)^{n-k} \\ se \\ k=1,2,...,n\n",
        "          \\\\\n",
        "          0 \\ altrimenti\n",
        "        \\end{cases}\n",
        "\\end{equation}\n",
        "\n",
        "\n",
        "Scriveremo in questo caso _X_ ∼ _B_(_n_, _p_) e diciamo che _X_ è una variabile binomiale."
      ],
      "metadata": {
        "id": "OUh7jiOk7WSD"
      }
    },
    {
      "cell_type": "markdown",
      "source": [
        "##Esempio 3.1\n",
        "\n",
        "Supponiamo di andare al casinò con 15 Euro e puntiamo 3 volte 5 Euro alla roulette sul rosso. Consideriamo la variabile aleatoria X data dai soldi che abbiamo in tasca alla fine delle 3 puntate. La probabilità di ottenere un numero rosso è di $\\frac{18}{37}$ ad ogni tentativo.\n",
        "Determinare la densità di X.\n",
        "La variabile X può assumere i valori 30, 20, 10, 0 a seconda di quanti rossi sono usciti. Abbiamo:\n",
        "\n",
        "P(X = 30) = $(\\frac{18}{37})^3$ = 0,115\n",
        "\n",
        "P(X = 20) = ${3\\choose 1}(\\frac{18}{37})^2 · \\frac{19}{37}$= 0, 365\n",
        "\n",
        "P(X = 10) = ${3\\choose 2}(\\frac{18}{37}) · (\\frac{19}{37})^2$ = 0,385\n",
        "\n",
        "P(X = 0) = $(\\frac{19}{37})^3$ = 0,135\n"
      ],
      "metadata": {
        "id": "O8PjzahWhrRr"
      }
    },
    {
      "cell_type": "code",
      "source": [
        "@interact_manual(giocate=(1, 6), puntata=(5, 100, 5))\n",
        "def roulette(giocate = 3, puntata = 5):\n",
        "  ruota = mk_roulette()\n",
        "  results = []\n",
        "  for i in range(precisione):\n",
        "    portafogli = giocate * puntata\n",
        "    portafogli = partita(ruota, giocate, puntata, portafogli)\n",
        "    results.append(portafogli)\n",
        "  #grafico\n",
        "  normalized = []\n",
        "  valori = []\n",
        "  for i in range(giocate):\n",
        "    normalized.append(round(((results.count(puntata*2*i) / precisione) * 100), 2)) #conto le istanze dei risultati e le normalizzo\n",
        "  normalized.append(round(100 - sum(normalized), 2)) #per evitare che per errori di arrotondamento la somma dei risultati sia 99.9%, l'ultimo risultato lo calcolo come 100 - (la somma dei precedenti)\n",
        "  labels = []\n",
        "  for i in range(len(normalized)):\n",
        "    labels.append(str(normalized[i]) + \"%\") # aggiungo le labels (i valori riportati all'esterno del grafico)\n",
        "  plt.pie(normalized, labels=labels)\n",
        "  legenda = []\n",
        "  for i in range(len(normalized)):\n",
        "    legenda.append(str(puntata*2*i))\n",
        "  plt.legend(legenda,loc='upper center', bbox_to_anchor=(0.5, -0.05), fancybox=True, shadow=True, ncol=5)"
      ],
      "metadata": {
        "id": "QDB96jXivO40",
        "outputId": "50946fb3-bdb6-4acf-fcba-c159dfd6b398",
        "colab": {
          "base_uri": "https://localhost:8080/",
          "height": 113,
          "referenced_widgets": [
            "de351799ec3a4eef8684528ae2773644",
            "43ac04608ccc47308f4d4fb79a2a7e8f",
            "71528104c3db423d841544c4868f933a",
            "a3bfebac66ae4495bcaf30841985c744",
            "ad948f20cefe4ea8ae6164936d8e2a0f",
            "888803723169438692e051896eec79d1",
            "c59505632f014f36b6310f7da3de000f",
            "0a9b0fe50c5446acbe7f581a1b678fc4",
            "3054fceea16645aca1ef9cacd4baea6d",
            "2a1b46514d484a0f86b7545654d9ebcd",
            "a4dc83dbe9f24ee0a29138facb21ad69",
            "e0a85c4e9a6a48feb195a5d997f92292",
            "35ae260537494919be0f6c2399c695df"
          ]
        }
      },
      "execution_count": 19,
      "outputs": [
        {
          "output_type": "display_data",
          "data": {
            "application/vnd.jupyter.widget-view+json": {
              "model_id": "de351799ec3a4eef8684528ae2773644",
              "version_minor": 0,
              "version_major": 2
            },
            "text/plain": [
              "interactive(children=(IntSlider(value=3, description='giocate', max=6, min=1), IntSlider(value=5, description=…"
            ]
          },
          "metadata": {}
        }
      ]
    },
    {
      "cell_type": "markdown",
      "source": [
        "# Densità ipergeometrica"
      ],
      "metadata": {
        "id": "9PjQr8MmCUYu"
      }
    },
    {
      "cell_type": "markdown",
      "source": [
        "\n",
        "Un altro tipo di schema successo-insuccesso è il cosiddetto schema successo-insuccesso _senza ripetizione_. In questo caso il fenomeno aleatorio consiste nell’estrazione di n palline, senza rimpiazzare di volta in volta la pallina estratta, da un'urna contenente b palline bianche e r palline rosse.\n",
        "Diciamo che la prova (estrazione) dà successo se viene estratta una pallina bianca e consideriamo la variabile X data dal numero di successi ottenuti, cioè dal numero di palline bianche estratte.\n",
        "\n",
        "\n",
        "Osserviamo che X può assumere tutti i valori tra max(0, n − r) e min(n, b): infatti se n > r siamo sicuri di pescare almeno n−r palline bianche e chiaramente il numero di bianche estratte non può superare nè il numero estrazioni nè il numero di palline bianche.\n",
        "\n",
        "Lo spazio Ω è dato da tutti i possibili sottoinsiemi di n oggetti (le palline estratte) scelti da un insieme di b + r oggetti (le palline\n",
        "disponibili), con probabilità uniforme. L’evento “X = k” è dato quindi da tutti i sottoinsiemi delle b + r palline costituiti da k palline bianche e n − k palline rosse. Le k bianche le posso scegliere in ${b\\choose k}$ modi. Le n − k rosse in ${r \\choose {n - k}}$ modi. Abbiamo quindi che la densità di X è data da\n",
        "\n",
        "\\begin{equation}\n",
        "  px(k) =\n",
        "    \\begin{cases}\n",
        "          \\frac{{b \\choose k} · {r \\choose n - k}}{b + r \\choose n} \\ se \\ k=max(0, n-r),...,min(n,b)\n",
        "          \\\\\n",
        "          0 \\ altrimenti\n",
        "        \\end{cases}\n",
        "\\end{equation}\n",
        "\n",
        "Scriviamo in questo caso X ∼ H(n; b, r) e diciamo che X è una variabile ipergeometrica."
      ],
      "metadata": {
        "id": "OnLdbdQjCbyl"
      }
    },
    {
      "cell_type": "markdown",
      "source": [
        "##Esempio 4.1\n",
        "Un’urna contiene 8 palline bianche e 2 rosse. Ne estraiamo 3 senza rimpiazzo.\n",
        "Qual è la probabilità di estrarne al più una rossa? In questo caso, a differenza del precedente abbiamo che la variabile X = numero di rosse estratte è una ipergeometrica X ∼ H(3; 2, 8) per\n",
        "cui\n",
        "\n",
        "P(_X_ ≤ 1) = P(_X_ = 0) + P(_X_ = 1) = $\\frac{{2 \\choose 0}·{8 \\choose 3}}{10 \\choose 3}$ + $\\frac{{2 \\choose 1}·{8 \\choose 2}}{10 \\choose 3}$ = $\\frac{14}{15}$ = 0.933"
      ],
      "metadata": {
        "id": "mqqc2UiZGaIY"
      }
    },
    {
      "cell_type": "code",
      "source": [
        "@interact_manual(estrazioni=(1, 10))\n",
        "def ipergeometrica(estrazioni=3):\n",
        "  bianche = 8\n",
        "  rosse = 2\n",
        "  urna = mk_urna(bianche, rosse)\n",
        "  results = 0\n",
        "  for i in range(precisione):\n",
        "    tmp = urna\n",
        "    count = 0\n",
        "    for i in range(estrazioni):\n",
        "      extr = np.random.randint(0, ((bianche + rosse)-i))\n",
        "      if(tmp[extr]):\n",
        "        count = count + 1\n",
        "      tmp = np.delete(tmp, extr)\n",
        "    if(count < 2):\n",
        "      results = results + 1  \n",
        "  return round(results / precisione, 3)"
      ],
      "metadata": {
        "id": "R0SjK_tkMtDv",
        "colab": {
          "base_uri": "https://localhost:8080/",
          "height": 81,
          "referenced_widgets": [
            "1a2c838645844ffdbc296876b5c4e430",
            "80f3cfe796114c68900755b89fe3f168",
            "d2b538c46ba2436ebea3d7d9ab2d5a37",
            "b9b0ed6b609341a684bf42ffa2f340eb",
            "5b9540b2752a4f1bbe59ce23030e4f1a",
            "e61e3e2c581d49cebdd9f7450ffe6482",
            "0fcbf72b69c54d28ad45c2a6c65830f2",
            "92be6476f814433fa4b04980ccc2f57b",
            "37e7c81e0b844924b162a487969960ee",
            "b83e25dc9f814ed988d3ec407e279c86"
          ]
        },
        "outputId": "748bd4aa-7583-49c6-8b5b-520b0e15141e"
      },
      "execution_count": 20,
      "outputs": [
        {
          "output_type": "display_data",
          "data": {
            "application/vnd.jupyter.widget-view+json": {
              "model_id": "1a2c838645844ffdbc296876b5c4e430",
              "version_minor": 0,
              "version_major": 2
            },
            "text/plain": [
              "interactive(children=(IntSlider(value=3, description='estrazioni', max=10, min=1), Button(description='Run Int…"
            ]
          },
          "metadata": {}
        }
      ]
    },
    {
      "cell_type": "markdown",
      "source": [
        "#Densità geometrica - geometrica modificata"
      ],
      "metadata": {
        "id": "-GtoecXjUH1e"
      }
    },
    {
      "cell_type": "markdown",
      "source": [
        "In uno schema successo-insuccesso, anzichè al numero di successi ottenuti su n tentativi, potremmo essere interessati al numero di tentativi che devo effettuare prima di ottenere un successo."
      ],
      "metadata": {
        "id": "YBirGuNoUKbB"
      }
    },
    {
      "cell_type": "markdown",
      "source": [
        "##Esempio 5.1\n",
        "\n",
        "Consideriamo un’urna con 2 palline bianche e 3 rosse. Le estraggo senza\n",
        "rimpiazzo finchè non trovo una pallina rossa. Considero la variabile aleatoria X=numero di estrazioni per trovare una pallina rossa. X è una variabile finita in quanto assume solo i valori 1, 2, 3.\n",
        "La sua densità si determina facilmente ed è data da\n",
        "\n",
        "\\begin{equation}\n",
        "  px(k) =\n",
        "    \\begin{cases}\n",
        "          \\frac{6}{10} \\ se \\ k=1\n",
        "          \\\\\n",
        "          \\frac{3}{10} \\ se \\ k=2\n",
        "          \\\\\n",
        "          \\frac{1}{10} \\ se \\ k=3\n",
        "          \\\\\n",
        "          0 \\ altrimenti\n",
        "        \\end{cases}\n",
        "\\end{equation}\n",
        "\n"
      ],
      "metadata": {
        "id": "aXX1PJQLUX9Z"
      }
    },
    {
      "cell_type": "code",
      "source": [
        "@interact_manual(bianche=(1,5), rosse=(1, 5))\n",
        "def geometrica(bianche=2, rosse=3):\n",
        "  palle = mk_urna(bianche, rosse)\n",
        "  results = []\n",
        "  count=0\n",
        "  while(len(results) < precisione):\n",
        "    done = len(results)\n",
        "    tmp = palle\n",
        "    while(len(results) == done):\n",
        "      extr = np.random.randint(0, ((bianche+rosse)-count))\n",
        "      if(tmp[extr]):\n",
        "        results.append(count)\n",
        "        count=0\n",
        "      else:  \n",
        "        tmp = np.delete(tmp,extr)\n",
        "        count = count + 1\n",
        "  #grafico\n",
        "  labels = []\n",
        "  normalized = []\n",
        "  for i in range(len(set(results)) - 1): #len(set(n)) torna il numero di risultati distinti presenti in results\n",
        "    normalized.append(round(((results.count(i) / precisione) * 100), 2)) #conto le istanze dei risultati e le normalizzo\n",
        "  normalized.append(round(100 - sum(normalized), 2)) #per evitare che per errori di arrotondamento la somma dei risultati sia 99.9%, l'ultimo risultato lo calcolo come 100 - (la somma dei precedenti)\n",
        "  for i in range(len(normalized)):\n",
        "    labels.append(str(normalized[i]) + \"%\") # aggiungo le labels (i valori riportati all'esterno del grafico)\n",
        "  plt.pie(normalized, labels=labels)\n",
        "  legenda = []\n",
        "  for i in range(bianche + 1):\n",
        "    legenda.append(\"k=\"+str(i+1))\n",
        "  plt.legend(legenda,loc='upper center', bbox_to_anchor=(0.5, -0.05), fancybox=True, shadow=True, ncol=5)"
      ],
      "metadata": {
        "colab": {
          "base_uri": "https://localhost:8080/",
          "height": 113,
          "referenced_widgets": [
            "a51d5ccf8030479f953cc0ea7889ddcb",
            "47009d28e03f49b08124ed80af2fbfcc",
            "dd66f806f59a484ab5fd61c35e78e462",
            "19707d322fbe4d62ba13bf3d7a86a53c",
            "1a4e73a951aa4e8fbe698c74d62655ac",
            "12a61a7085874ced856d76091f66015d",
            "e362b3de1a4744a39d1a6edc3aaefc8e",
            "dae80701175f41889ab417a896edf9cf",
            "12e1521f964a47cc85f667235f38890e",
            "ac7c8c7dc69f4b24984d0fa334b5c63c",
            "1680761e4c6640ed820994e5e4c13204",
            "7df94a7dbadc48d0a4d1ad643a61279f",
            "27854b10af864943a400c928da2c32f8"
          ]
        },
        "id": "5tLgoNi7f2YM",
        "outputId": "5da77939-fc7c-4b2f-b4b7-4690f43d2c32"
      },
      "execution_count": 21,
      "outputs": [
        {
          "output_type": "display_data",
          "data": {
            "application/vnd.jupyter.widget-view+json": {
              "model_id": "a51d5ccf8030479f953cc0ea7889ddcb",
              "version_minor": 0,
              "version_major": 2
            },
            "text/plain": [
              "interactive(children=(IntSlider(value=2, description='bianche', max=5, min=1), IntSlider(value=3, description=…"
            ]
          },
          "metadata": {}
        }
      ]
    },
    {
      "cell_type": "markdown",
      "source": [
        "##Esempio 5.2\n",
        "\n",
        "Ripetiamo l'esperimento precedente, ma questa volta rimpiazziamo la pallina ad ogni estrazione. La variabile X diventa numerabile e si ha\n",
        "\n",
        "\\begin{equation}\n",
        "  px(k) =\n",
        "    \\begin{cases}\n",
        "          (\\frac{2}{5})^{k-1}\\frac{3}{5} \\ se \\ k=1,2,3,...\n",
        "          \\\\\n",
        "          0 \\ altrimenti\n",
        "        \\end{cases}\n",
        "\\end{equation}\n",
        "\n",
        "Infatti richiedere X = k vuol dire aver ottenuto k − 1 insuccessi nei primi k − 1 tenativi (ognuno con probabilità $\\frac{2}{5}$) per poi finalmente ottenere un successo al k-esimo tentativo (con probabilità $\\frac{3}{5}$)"
      ],
      "metadata": {
        "id": "DPSi8KkVKH60"
      }
    },
    {
      "cell_type": "code",
      "source": [
        "@interact_manual(bianche=(1,5), rosse=(1, 5))\n",
        "def geometrica_mod(bianche=2, rosse=3):\n",
        "  palle = mk_urna(bianche, rosse)\n",
        "  results = []\n",
        "  count=0\n",
        "  while(len(results) < precisione):\n",
        "    done = len(results)\n",
        "    tmp = palle\n",
        "    while(len(results) == done):\n",
        "      extr = np.random.randint(0, (bianche+rosse))\n",
        "      if(tmp[extr]):\n",
        "        results.append(count)\n",
        "        count=0\n",
        "      else:  \n",
        "        count = count + 1\n",
        "  \n",
        "  #grafico risultati\n",
        "  labels = []\n",
        "  normalized = []\n",
        "  for i in range(len(set(results))): \n",
        "    normalized.append(round(((results.count(i) / precisione) * 100), 2))\n",
        "  for i in range(len(set(results))):\n",
        "    labels.append(str(i+1))\n",
        "  \n",
        "  #grafico teorico\n",
        "  teoria = []\n",
        "  for i in range(len(set(results))):\n",
        "    teoria.append(((bianche / (bianche + rosse))**(i)) * (rosse / (bianche + rosse)) * 100)\n",
        "\n",
        "  lab_arr = np.arange(len(labels))\n",
        "\n",
        "  w=0.4\n",
        "  plt.bar(lab_arr-(w/2), normalized, width=w)\n",
        "  plt.bar(lab_arr+(w/2), teoria, width=w)\n",
        "  plt.ylabel(\"Percentage\")\n",
        "  plt.xlabel(\"K\")\n",
        "  legenda = [\"Risultati ottenuti\", \"Risultati attesi\"]\n",
        "  plt.legend(legenda,loc='upper center', bbox_to_anchor=(0.5, -0.05), fancybox=True, shadow=True, ncol=5)"
      ],
      "metadata": {
        "colab": {
          "base_uri": "https://localhost:8080/",
          "height": 113,
          "referenced_widgets": [
            "30d15d2f34ba418686b7dca6a887169a",
            "586640b4686941d2a97de9d50e5f8c51",
            "a8e0ea56f80049999c1880b4f414fbbc",
            "325f79671f0a4d4286935185a6965f33",
            "1ba846c6cea749bb9e9664e1c14fc6b7",
            "2f344f4e115c49949a2df608aa774a0d",
            "f44a83da1ec34688864719b2e9abb64e",
            "d6a88013436648cfa9ff7c1396874a32",
            "92abb9dde0004643a1f270e1a321feb6",
            "8d8d0f3a6b134be8a5ff66d3a70cc923",
            "961ee05d68ea4380b6311c3428091cb0",
            "c0bc2cad1a5a447f834e1da1bfdff517",
            "96202b4089564b90be99854a9abf6f9c"
          ]
        },
        "id": "p-e8XTgnsSgC",
        "outputId": "cd134aac-b8f5-4499-ffa4-73ecd96b79d0"
      },
      "execution_count": 22,
      "outputs": [
        {
          "output_type": "display_data",
          "data": {
            "application/vnd.jupyter.widget-view+json": {
              "model_id": "30d15d2f34ba418686b7dca6a887169a",
              "version_minor": 0,
              "version_major": 2
            },
            "text/plain": [
              "interactive(children=(IntSlider(value=2, description='bianche', max=5, min=1), IntSlider(value=3, description=…"
            ]
          },
          "metadata": {}
        }
      ]
    },
    {
      "cell_type": "markdown",
      "source": [
        "Quello appena visto è un esempio di _densità geometrica modificata_ che scriveremo come T ∼ Ḡ(_p_).\n",
        "\n",
        "Quando si parla di densità geometrica modificata? \n",
        "\n",
        "Si consideri uno schema successo-insuccesso con ripetizioni e prendiamo in esame la variabile T data dal tempo di primo successo. \n",
        "Se chiamiamo _Xi_ le variabili _B_(1, _p_) date da _Xi_ = 1 se l’i-esimo tentativo dà successo e _Xi_  = 0 altrimenti abbiamo come densità\n",
        "\n",
        "\\begin{equation}\n",
        "  px(k) =\n",
        "    \\begin{cases}\n",
        "          p(1-p)^{k-1} \\ se \\ k=1,2,3,...\n",
        "          \\\\\n",
        "          0 \\ altrimenti\n",
        "        \\end{cases}\n",
        "\\end{equation}"
      ],
      "metadata": {
        "id": "u9PHD5qa-xdK"
      }
    },
    {
      "cell_type": "markdown",
      "source": [
        "##Esempio 5.3\n",
        "\n",
        "Si lancino simultaneamente due dadi, uno rosso e uno blu. Ripetiamo questo\n",
        "esperimento finchè non otteniamo due 6. \n",
        "\n",
        "Poniamo X = primo lancio in cui il dado rosso ha dato 6,\n",
        "Y = primo lancio in cui il dado blu ha dato 6.\n",
        "\n",
        "\n",
        "Determinare inoltre la probabilità di ottenere 6 con il dado rosso prima di ottenere 6 con il dado blu.\n",
        "\n",
        "Abbiamo\n",
        "\n",
        "\\begin{equation}\n",
        "  1 = P(X < Y) + P(X > Y) + P(X = Y)\n",
        "\\end{equation}\n",
        "\n",
        "\\\\\n",
        "e chiaramente per simmetria del problema _P_(_X_ < _Y_) = _P_(_X_ > _Y_) da cui\n",
        "\n",
        "\\\\\n",
        "\n",
        "\\begin{equation}\n",
        "  P(X < Y)= \\frac {1-P(X = Y)}{2}\n",
        "\\end{equation}\n",
        "\n",
        "Ci basterà calcolare quindi _P_(_X_ =_Y_):\n",
        "\n",
        "\\\\\n",
        "\n",
        "\\begin{equation}\n",
        "  P(X = Y) = \\sum_{k=1}^\\infty P(X = Y = k) = \\sum_{k=1}^\\infty (\\frac{25}{36})^{k-1}·\\frac{1}{36} = \\frac{1}{1-\\frac{25}{36}}·\\frac{1}{36} = \\frac{1}{11}\n",
        "\\end{equation}\n",
        "\n",
        "\n",
        "dove abbiamo ancora utilizzato la somma di una serie geometrica, e quindi\n",
        "\n",
        "\\\\\n",
        "\n",
        "\\begin{equation}\n",
        "  P(X < Y) = \\frac{5}{11}\n",
        "\\end{equation}\n"
      ],
      "metadata": {
        "id": "yQRcoTTQmPxD"
      }
    },
    {
      "cell_type": "code",
      "source": [
        "def first_six():\n",
        "  num = 6\n",
        "  results = []\n",
        "  for i in range(precisione):\n",
        "    a, b = 0, 0\n",
        "    while a != num and b != num:\n",
        "      a, b = trow(), trow() \n",
        "      if a == num:\n",
        "        if b == num:\n",
        "          results.append(0)\n",
        "        else:\n",
        "          results.append(1)\n",
        "      if b == num:\n",
        "        results.append(2)  \n",
        "  #grafico\n",
        "  labels = []\n",
        "  normalized = []\n",
        "  myexplode = [0, 0.2, 0]\n",
        "  for i in range(len(set(results)) - 1): #len(set(n)) torna il numero di risultati distinti presenti in results\n",
        "    normalized.append(round(((results.count(i) / precisione) * 100), 2)) #conto le istanze dei risultati e le normalizzo\n",
        "  normalized.append(round(100 - sum(normalized), 2)) #per evitare che per errori di arrotondamento la somma dei risultati sia 99.9%, l'ultimo risultato lo calcolo come 100 - (la somma dei precedenti)\n",
        "  for i in range(len(normalized)):\n",
        "    labels.append(str(normalized[i]) + \"%\") # aggiungo le labels (i valori riportati all'esterno del grafico)\n",
        "\n",
        "  teoria = [1/11, 5/11, 5/11]\n",
        "  lab_teoria = [\"9.09%\", \"45.45%\", \"45.45%\"]\n",
        "\n",
        "  f, (ax1, ax2) = plt.subplots(1, 2)\n",
        "  ax1.pie(normalized, labels=labels,explode=myexplode, colors=[\"green\", \"red\", \"blue\"], shadow=True)\n",
        "  ax1.set_title(\"Risultati ottenuti\")\n",
        "  ax2.pie(teoria, labels=lab_teoria,explode=myexplode, colors=[\"green\", \"red\", \"blue\"], shadow=True)\n",
        "  ax2.set_title(\"Risultati attesi\")\n",
        "  \n",
        "  legenda = [\"X=Y\", \"X<Y\", \"X>Y\"]\n",
        "  ax1.legend(legenda,loc='upper left', bbox_to_anchor=(0.5, -0.05), fancybox=True, shadow=True, ncol=5)\n",
        "\n",
        "first_six()"
      ],
      "metadata": {
        "colab": {
          "base_uri": "https://localhost:8080/",
          "height": 230
        },
        "id": "6P-rc7pzfODB",
        "outputId": "26dbdb21-ec6a-47ba-a3c4-e34d4b017e39"
      },
      "execution_count": 23,
      "outputs": [
        {
          "output_type": "display_data",
          "data": {
            "image/png": "[encoded data removed]",
            "text/plain": [
              "<Figure size 432x288 with 2 Axes>"
            ]
          },
          "metadata": {}
        }
      ]
    },
    {
      "cell_type": "markdown",
      "source": [
        "#Densità di Poisson"
      ],
      "metadata": {
        "id": "hPfoVQ4tzLLR"
      }
    },
    {
      "cell_type": "markdown",
      "source": [
        "Se consideriamo una variabile binomiale _X_ ∼ _B_(_n_, _p_) in cui il numero _n_ di tentativi è molto grande e il parametro _p_ molto piccolo fare i conti con la densità binomiale risulta essere computazionalmente dispendioso. \n",
        "\n",
        "Facciamo un esempio:"
      ],
      "metadata": {
        "id": "7WQ9L3IXzNQo"
      }
    },
    {
      "cell_type": "markdown",
      "source": [
        "##Esempio 6.1\n",
        "\n",
        "Supponiamo che in una città nascano 10 000 bambini ogni anno e che ci\n",
        "sia una malattia rara che colpisce un bambino su 2 mila. Qual è la probabilità che quest’anno nascano più di 5 bambini affetti da questa malattia? \n",
        "\n",
        "La variabile _X_ = ”numero di bambini nati con questa malattia quest’anno” è una variabile binomiale _X_ = _B_($10^4$, $\\frac{1}{2000}$). Tuttavia se\n",
        "proviamo ad effettuare il calcolo _P_(_X_ > 5), anche se abbiamo una formula esatta per effettuarlo, è inevitabilmente molto complesso.\n"
      ],
      "metadata": {
        "id": "VD0JenT7zaOx"
      }
    },
    {
      "cell_type": "markdown",
      "source": [
        "Per risolvere questo tipo di problema introduciamo la seguente\n",
        "\n",
        "\\\\\n",
        "\\begin{equation}\n",
        "  p(k) =\n",
        "    \\begin{cases}\n",
        "          e^{-λ} \\frac{λ^k}{k!} \\ se \\ k=0,1,2,...\n",
        "          \\\\\n",
        "          0 \\ altrimenti\n",
        "        \\end{cases}\n",
        "\\end{equation}\n",
        "\n",
        "\\\\\n",
        "\n",
        "dove λ è un parametro reale strettamente positivo."
      ],
      "metadata": {
        "id": "-07DvPlK0SRP"
      }
    },
    {
      "cell_type": "markdown",
      "source": [
        "Nel nostro esempio possiamo pensare alla variabile _X_ come ad una variabile di Poisson di parametro 5. \n",
        "\n",
        "Otteniamo:\n",
        "\n",
        "\\begin{equation}\n",
        "  P(X > 5) = 1 − P(X = 0) − P(X = 1) − P(X = 2) − P(X = 3) − P(X = 4) \n",
        "  \\\\\n",
        "  = 1 − e^{−5}(1 + 5 + \\frac{25}{2} + \\frac{125}{6} + \\frac{625}{24} + \\frac{3125}{120}) = 0, 384.\n",
        "\\end{equation}"
      ],
      "metadata": {
        "id": "fHA5WLXr2VKr"
      }
    },
    {
      "cell_type": "markdown",
      "source": [
        "Nella simulazione riportata sono simulati 100 anni, ripetendo l'esperimento si aggiungono i risultati dei test successivi e si può osservare come il grafico dei risultati ottenuti si avvicini a quello dei risultati attesi."
      ],
      "metadata": {
        "id": "aQ3YUomoewtG"
      }
    },
    {
      "cell_type": "code",
      "source": [
        "res_poisson = []"
      ],
      "metadata": {
        "id": "niF9fNy-AGHk"
      },
      "execution_count": 24,
      "outputs": []
    },
    {
      "cell_type": "code",
      "source": [
        "def poisson():\n",
        "  bambini = 10_000\n",
        "  malattia = 2_000\n",
        "  for i in range(100):\n",
        "    count = 0\n",
        "    for i in range(bambini):\n",
        "      if np.random.randint(malattia) == 1:\n",
        "        count = count + 1\n",
        "    res_poisson.append(count)\n",
        "\n",
        "  #grafico risultati\n",
        "  labels = []\n",
        "  set_res = list(set(res_poisson))\n",
        "  normalized = []\n",
        "  for i in set_res: \n",
        "    normalized.append(round(((res_poisson.count(i) / len(res_poisson)) * 100), 2))\n",
        "    labels.append(str(i+1)) \n",
        " \n",
        "  #grafico teorico\n",
        "  teoria = []\n",
        "  lam = bambini / malattia\n",
        "  for i in set_res:\n",
        "    teoria.append((math.e**-lam)*((lam**i)/math.factorial(i)) * 100)\n",
        "\n",
        "  lab_arr = np.arange(len(labels))\n",
        "\n",
        "  w=0.4\n",
        "  plt.bar(lab_arr-(w/2), normalized, width=w)\n",
        "  plt.bar(lab_arr+(w/2), teoria, width=w)\n",
        "\n",
        "  legenda = [\"Risultati ottenuti\", \"Risultati attesi\"]\n",
        "  plt.legend(legenda,loc='upper center', bbox_to_anchor=(0.5, -0.05), fancybox=True, shadow=True, ncol=5)\n",
        "  print(\"Anni simulati: \" + str(len(res_poisson)))"
      ],
      "metadata": {
        "id": "L8XSvxDZMGZe"
      },
      "execution_count": 25,
      "outputs": []
    },
    {
      "cell_type": "code",
      "source": [
        "poisson()"
      ],
      "metadata": {
        "id": "H4CjxxyZ7Rxc",
        "colab": {
          "base_uri": "https://localhost:8080/",
          "height": 299
        },
        "outputId": "850ea436-8b1f-49fa-bcc4-d5d1d8eb8853"
      },
      "execution_count": 26,
      "outputs": [
        {
          "output_type": "stream",
          "name": "stdout",
          "text": [
            "Anni simulati: 100\n"
          ]
        },
        {
          "output_type": "display_data",
          "data": {
            "image/png": "[encoded data removed]",
            "text/plain": [
              "<Figure size 432x288 with 1 Axes>"
            ]
          },
          "metadata": {
            "needs_background": "light"
          }
        }
      ]
    },
    {
      "cell_type": "markdown",
      "source": [
        "#Densità continua uniforme"
      ],
      "metadata": {
        "id": "2HvnAmIq9-iV"
      }
    },
    {
      "cell_type": "markdown",
      "source": [
        "La variabile continua più semplice da studiare è quella che può assumere solo valori in un certo intervallo limitato e in modo ”uniforme”."
      ],
      "metadata": {
        "id": "q-CPgnYeAXnr"
      }
    },
    {
      "cell_type": "markdown",
      "source": [
        "## Esempio 7.1\n",
        "\n",
        "Un autobus passa da una fermata ogni 10 minuti. Noi arriviamo alla fermata in un momento casuale, chiamiamo T la variabile del tempo d'attesa che assume valori tra 0 e 10 minuti. Mediamente, quanto dovrò aspettare?\n",
        "\n",
        "Di seguito sono riportati i grafici della densità e di partizione di tale problema:"
      ],
      "metadata": {
        "id": "AFabxKb1Ar4F"
      }
    },
    {
      "cell_type": "code",
      "source": [
        "#funzione che calcola il valore di x in ogni punto (densità continua uniforme)\n",
        "def densita(x, a, b):\n",
        "  res = []\n",
        "  for i in x:\n",
        "    if i < a:\n",
        "      res.append(0)\n",
        "    elif i > b:\n",
        "      res.append(0)\n",
        "    else:\n",
        "      res.append(1 / (b - a))\n",
        "  return res"
      ],
      "metadata": {
        "id": "G_5JWNvfHgIA"
      },
      "execution_count": 27,
      "outputs": []
    },
    {
      "cell_type": "code",
      "source": [
        "@interact_manual(a=(0, 5), b=(5, 20))\n",
        "def dcu_plot(a = 0, b = 10):\n",
        "  results = []\n",
        "  for i in range(precisione):\n",
        "    results.append(random.uniform(a, b))\n",
        "  \n",
        "  x = np.linspace(a - 1, b + 1, 1000)\n",
        "\n",
        "  p1 = plt.figure(1)\n",
        "  ax = plt.axes()\n",
        "  ax.plot(x, densita(x, a, b))\n",
        "  ax.set_title(\"Densità\")\n",
        "  p1.show()\n",
        "  p2 = plt.figure(2)\n",
        "  sns.displot(results, kind=\"ecdf\").set(title=\"Partizione\")\n",
        "  p2.show() "
      ],
      "metadata": {
        "colab": {
          "base_uri": "https://localhost:8080/",
          "height": 113,
          "referenced_widgets": [
            "56bae2992f5d43699f295878fce2458c",
            "b3015d2e5f494264b3894f7c5360b61b",
            "d41fab86bc824d74bd5aa1bea827f766",
            "663c0ffdeea545229974eceb8da79072",
            "09822f3ed1f74906aa8f425dc81e1bd1",
            "37f3819f9531401ea7de516e5fab474f",
            "b3cd9ba63be74b829a2cad83174c9512",
            "46a059fa773d45b3816cfd52d0e1430a",
            "37c746c98dc9490584ae95ceb1be0878",
            "2c79b81a0c3f4224802b15ea9d3444aa",
            "b631ad0e4b454e9c89b44b84d413c240",
            "00a55c4fec5549289a0ad7fd023466a9",
            "0ff8538409c44b4ea62d413d7350394b"
          ]
        },
        "id": "v_fYQRbWCHfe",
        "outputId": "b9b8c7a2-4d4a-4779-ff32-be58d8913fbc"
      },
      "execution_count": 28,
      "outputs": [
        {
          "output_type": "display_data",
          "data": {
            "application/vnd.jupyter.widget-view+json": {
              "model_id": "56bae2992f5d43699f295878fce2458c",
              "version_minor": 0,
              "version_major": 2
            },
            "text/plain": [
              "interactive(children=(IntSlider(value=0, description='a', max=5), IntSlider(value=10, description='b', max=20,…"
            ]
          },
          "metadata": {}
        }
      ]
    },
    {
      "cell_type": "markdown",
      "source": [
        "Per quanto riguarda la soluzione il valore atteso invece ci basta sapere che il valore atteso di una variabile uniforme è il punto medio dell'intervallo: 5 minuti."
      ],
      "metadata": {
        "id": "CO8fDJK3MDBv"
      }
    },
    {
      "cell_type": "code",
      "source": [
        "@interact_manual(tempo=(1, 20))\n",
        "def E_unif(tempo = 10):\n",
        "  results = []\n",
        "  for i in range(precisione):\n",
        "    results.append(random.uniform(0, tempo))\n",
        "  return round(np.mean(results), 2)"
      ],
      "metadata": {
        "colab": {
          "base_uri": "https://localhost:8080/",
          "height": 81,
          "referenced_widgets": [
            "a4dd258189b9420ba0f926c3d2b2cb2a",
            "31f2233c022a44d9b09f6a2b3d5ddf07",
            "2a0cbbbccad9413382b64e30cf22af66",
            "77adf678eb3e4b6b83c9763e1a9d25b6",
            "dc9eca5a81d94d41a3258b95021e9eb8",
            "9392f7732dbb43c6a3b8fbd149a0266f",
            "a7f982a7236a46d4b7ca6885b8fc984a",
            "0f32df9a0c0b4e08bb5cb2af061afee6",
            "da88502ab5fd46118a2f6a200a79df3b",
            "3e9ac4122608400ebe4f9d9683e2b68f"
          ]
        },
        "id": "jG0a0YfTMiZi",
        "outputId": "6d76ef8a-9520-4785-8d74-33a6955b0694"
      },
      "execution_count": 29,
      "outputs": [
        {
          "output_type": "display_data",
          "data": {
            "application/vnd.jupyter.widget-view+json": {
              "model_id": "a4dd258189b9420ba0f926c3d2b2cb2a",
              "version_minor": 0,
              "version_major": 2
            },
            "text/plain": [
              "interactive(children=(IntSlider(value=10, description='tempo', max=20, min=1), Button(description='Run Interac…"
            ]
          },
          "metadata": {}
        }
      ]
    },
    {
      "cell_type": "code",
      "source": [
        "@interact_manual(tempo=(1, 20))\n",
        "def cont_unif(tempo = 10):\n",
        "  results = []\n",
        "  for i in range(precisione):\n",
        "    results.append(random.uniform(0, tempo))\n",
        "  sns.kdeplot(results,shade=True) \n",
        "  "
      ],
      "metadata": {
        "id": "0jzeXNlBHF0x",
        "colab": {
          "base_uri": "https://localhost:8080/",
          "height": 81,
          "referenced_widgets": [
            "9f02c1021e9d452aa9143795f40584d5",
            "df2d490040ce4ed6b40e5a45b73462f1",
            "a63ba5f5840942f0be0d501fe757436e",
            "8a8156a127b54f6a91e4530fa841a121",
            "62e2b53fceae42718ddeaf6bd6d80902",
            "4a2881da809c4c0d86f88a200cfd5b69",
            "801b38d224fe453f8249e9799877b576",
            "e29fd30054e449acbe24c56ce492ac10",
            "9557bf4fa9134d058898d3cb49ba5a40",
            "385a36a027fa4f5e9d5d8c41f569ae7d"
          ]
        },
        "outputId": "626527d8-d99c-48dc-bddd-fb3139bfc56b"
      },
      "execution_count": 30,
      "outputs": [
        {
          "output_type": "display_data",
          "data": {
            "application/vnd.jupyter.widget-view+json": {
              "model_id": "9f02c1021e9d452aa9143795f40584d5",
              "version_minor": 0,
              "version_major": 2
            },
            "text/plain": [
              "interactive(children=(IntSlider(value=10, description='tempo', max=20, min=1), Button(description='Run Interac…"
            ]
          },
          "metadata": {}
        }
      ]
    },
    {
      "cell_type": "code",
      "source": [
        "@interact_manual(tempo=(1, 20))\n",
        "def cont_unif(tempo = 10):\n",
        "  results = []\n",
        "  for i in range(precisione):\n",
        "    results.append(random.uniform(0, tempo))\n",
        "  sns.displot(results, color=\"g\")"
      ],
      "metadata": {
        "colab": {
          "base_uri": "https://localhost:8080/",
          "height": 81,
          "referenced_widgets": [
            "641cd3f51aaf4cbb82f8c71920772317",
            "575130b6b05344e6934abea7c40b814a",
            "3565be120fd24821954992afec37f091",
            "5fa2b8183cfe4027a8b2b6b840c36ac2",
            "4adde7ebc60d4de7ac2defd2cd631131",
            "5ef25555f95d40bd83e5e6f74660397a",
            "b766b21bff874d1697ae2d799d51cdc5",
            "3a42c0a3cbca4048a9d4ac08aa5d267f",
            "aa0e686c4fa64b32942fc3e24fb79ee6",
            "359a977db4704908a685df9dd6439979"
          ]
        },
        "id": "__y9sIEV_oKM",
        "outputId": "d614bd29-93d4-4c1d-ec60-bd02261fdc30"
      },
      "execution_count": 31,
      "outputs": [
        {
          "output_type": "display_data",
          "data": {
            "application/vnd.jupyter.widget-view+json": {
              "model_id": "641cd3f51aaf4cbb82f8c71920772317",
              "version_minor": 0,
              "version_major": 2
            },
            "text/plain": [
              "interactive(children=(IntSlider(value=10, description='tempo', max=20, min=1), Button(description='Run Interac…"
            ]
          },
          "metadata": {}
        }
      ]
    },
    {
      "cell_type": "code",
      "source": [
        "#funzione che calcola il valore di x in ogni punto (densità continua uniforme)\n",
        "def densita_esp(x):\n",
        "  res = []\n",
        "  for i in x:\n",
        "    if i <= 0:\n",
        "      res.append(0)\n",
        "    else:\n",
        "      res.append(-math.log(i))\n",
        "  return res"
      ],
      "metadata": {
        "id": "Dop-HDg7JgeC"
      },
      "execution_count": 32,
      "outputs": []
    },
    {
      "cell_type": "code",
      "source": [
        "@interact_manual(tempo=(0, 20))\n",
        "def dcu_plot(tempo = 10):\n",
        "  points = 1200\n",
        "  results = []\n",
        "  for i in range(precisione):\n",
        "    results.append(random.uniform(0, tempo))\n",
        "  \n",
        "  x = np.linspace(-1, tempo+1, points)\n",
        "\n",
        "  coord = []\n",
        "  for i in range(points):\n",
        "    count = 0\n",
        "    for item in results:\n",
        "      if (item > -1 + (((tempo+2)/points)*i) and item <= -1 + (((tempo+2)/points)*(i+1))):\n",
        "        count = count + 1\n",
        "    coord.append((count / precisione) * 100)\n",
        "  \n",
        "  a = plt.figure(1)\n",
        "  ax = plt.axes()\n",
        "  ax.plot(x, coord)\n",
        "  ax.set_title(\"Densità\")\n",
        "  a.show()"
      ],
      "metadata": {
        "colab": {
          "base_uri": "https://localhost:8080/",
          "height": 345,
          "referenced_widgets": [
            "16fae8de184241e0bae2165f3055d7db",
            "9e2b314211df4c43bb427f787453b154",
            "e4923a2fc893488abc41ca1dce4df270",
            "f7405f07f6714149a94585b11f624892",
            "a2d3a582b6fc49f29e1a98fc0c105c78",
            "32bd633474b840cf91cbb06bdb6490cb",
            "07864890f7aa412a93b87505117b2e40",
            "e0e261f976e14818bbe382314def4210",
            "62820faadc0446d3a46f905de6ca00ac",
            "53cc248d8bef44c5aba819062dd216c3"
          ]
        },
        "id": "E_CdpJ9ENKE3",
        "outputId": "77d8cf29-2009-4bb3-c86f-6af18944e2b0"
      },
      "execution_count": 35,
      "outputs": [
        {
          "output_type": "display_data",
          "data": {
            "application/vnd.jupyter.widget-view+json": {
              "model_id": "16fae8de184241e0bae2165f3055d7db",
              "version_minor": 0,
              "version_major": 2
            },
            "text/plain": [
              "interactive(children=(IntSlider(value=10, description='tempo', max=20), Button(description='Run Interact', sty…"
            ]
          },
          "metadata": {}
        }
      ]
    },
    {
      "cell_type": "code",
      "source": [
        ""
      ],
      "metadata": {
        "id": "ASRqviTIbeDC"
      },
      "execution_count": 33,
      "outputs": []
    }
  ]
}