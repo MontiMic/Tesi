{
  "nbformat": 4,
  "nbformat_minor": 0,
  "metadata": {
    "colab": {
      "name": "Untitled1.ipynb",
      "provenance": [],
      "toc_visible": true,
      "collapsed_sections": [],
      "authorship_tag": "ABX9TyOXo4kZ6/3TSLYLweEQQxnh",
      "include_colab_link": true
    },
    "kernelspec": {
      "name": "python3",
      "display_name": "Python 3"
    },
    "language_info": {
      "name": "python"
    },
    "widgets": {
      "application/vnd.jupyter.widget-state+json": {
        "fc198a11876c4587b93aee53346ae657": {
          "model_module": "@jupyter-widgets/controls",
          "model_name": "VBoxModel",
          "model_module_version": "1.5.0",
          "state": {
            "_view_name": "VBoxView",
            "_dom_classes": [
              "widget-interact"
            ],
            "_model_name": "VBoxModel",
            "_view_module": "@jupyter-widgets/controls",
            "_model_module_version": "1.5.0",
            "_view_count": null,
            "_view_module_version": "1.5.0",
            "box_style": "",
            "layout": "IPY_MODEL_c54e770130b440df878d885aa944a0e9",
            "_model_module": "@jupyter-widgets/controls",
            "children": [
              "IPY_MODEL_f80be544086b4be18dd0474f5ea14e0e",
              "IPY_MODEL_a0a86a29eb12449cbb783b7a9c756ada",
              "IPY_MODEL_6dafd4adbde14a019a1447fedc97229f"
            ]
          }
        },
        "c54e770130b440df878d885aa944a0e9": {
          "model_module": "@jupyter-widgets/base",
          "model_name": "LayoutModel",
          "model_module_version": "1.2.0",
          "state": {
            "_view_name": "LayoutView",
            "grid_template_rows": null,
            "right": null,
            "justify_content": null,
            "_view_module": "@jupyter-widgets/base",
            "overflow": null,
            "_model_module_version": "1.2.0",
            "_view_count": null,
            "flex_flow": null,
            "width": null,
            "min_width": null,
            "border": null,
            "align_items": null,
            "bottom": null,
            "_model_module": "@jupyter-widgets/base",
            "top": null,
            "grid_column": null,
            "overflow_y": null,
            "overflow_x": null,
            "grid_auto_flow": null,
            "grid_area": null,
            "grid_template_columns": null,
            "flex": null,
            "_model_name": "LayoutModel",
            "justify_items": null,
            "grid_row": null,
            "max_height": null,
            "align_content": null,
            "visibility": null,
            "align_self": null,
            "height": null,
            "min_height": null,
            "padding": null,
            "grid_auto_rows": null,
            "grid_gap": null,
            "max_width": null,
            "order": null,
            "_view_module_version": "1.2.0",
            "grid_template_areas": null,
            "object_position": null,
            "object_fit": null,
            "grid_auto_columns": null,
            "margin": null,
            "display": null,
            "left": null
          }
        },
        "f80be544086b4be18dd0474f5ea14e0e": {
          "model_module": "@jupyter-widgets/controls",
          "model_name": "IntSliderModel",
          "model_module_version": "1.5.0",
          "state": {
            "_view_name": "IntSliderView",
            "style": "IPY_MODEL_f760ec5c97ae4cd1ac51da702c3addcb",
            "_dom_classes": [],
            "description": "vincita",
            "step": 1,
            "_model_name": "IntSliderModel",
            "orientation": "horizontal",
            "max": 30,
            "_view_module": "@jupyter-widgets/controls",
            "_model_module_version": "1.5.0",
            "value": 5,
            "_view_count": null,
            "disabled": false,
            "_view_module_version": "1.5.0",
            "min": 0,
            "continuous_update": true,
            "readout_format": "d",
            "description_tooltip": null,
            "readout": true,
            "_model_module": "@jupyter-widgets/controls",
            "layout": "IPY_MODEL_8023709604c84701ac99a2e84342748e"
          }
        },
        "a0a86a29eb12449cbb783b7a9c756ada": {
          "model_module": "@jupyter-widgets/controls",
          "model_name": "ButtonModel",
          "model_module_version": "1.5.0",
          "state": {
            "_view_name": "ButtonView",
            "style": "IPY_MODEL_a3591b8348f3422ca72792c7b68d70ef",
            "_dom_classes": [],
            "description": "Run Interact",
            "_model_name": "ButtonModel",
            "button_style": "",
            "_view_module": "@jupyter-widgets/controls",
            "_model_module_version": "1.5.0",
            "tooltip": "",
            "_view_count": null,
            "disabled": false,
            "_view_module_version": "1.5.0",
            "layout": "IPY_MODEL_f68f690aeeaa41b59623241311816ace",
            "_model_module": "@jupyter-widgets/controls",
            "icon": ""
          }
        },
        "6dafd4adbde14a019a1447fedc97229f": {
          "model_module": "@jupyter-widgets/output",
          "model_name": "OutputModel",
          "model_module_version": "1.0.0",
          "state": {
            "_view_name": "OutputView",
            "msg_id": "",
            "_dom_classes": [],
            "_model_name": "OutputModel",
            "outputs": [],
            "_view_module": "@jupyter-widgets/output",
            "_model_module_version": "1.0.0",
            "_view_count": null,
            "_view_module_version": "1.0.0",
            "layout": "IPY_MODEL_f777fde882cc4437a9cfed54b910637e",
            "_model_module": "@jupyter-widgets/output"
          }
        },
        "f760ec5c97ae4cd1ac51da702c3addcb": {
          "model_module": "@jupyter-widgets/controls",
          "model_name": "SliderStyleModel",
          "model_module_version": "1.5.0",
          "state": {
            "_view_name": "StyleView",
            "handle_color": null,
            "_model_name": "SliderStyleModel",
            "description_width": "",
            "_view_module": "@jupyter-widgets/base",
            "_model_module_version": "1.5.0",
            "_view_count": null,
            "_view_module_version": "1.2.0",
            "_model_module": "@jupyter-widgets/controls"
          }
        },
        "8023709604c84701ac99a2e84342748e": {
          "model_module": "@jupyter-widgets/base",
          "model_name": "LayoutModel",
          "model_module_version": "1.2.0",
          "state": {
            "_view_name": "LayoutView",
            "grid_template_rows": null,
            "right": null,
            "justify_content": null,
            "_view_module": "@jupyter-widgets/base",
            "overflow": null,
            "_model_module_version": "1.2.0",
            "_view_count": null,
            "flex_flow": null,
            "width": null,
            "min_width": null,
            "border": null,
            "align_items": null,
            "bottom": null,
            "_model_module": "@jupyter-widgets/base",
            "top": null,
            "grid_column": null,
            "overflow_y": null,
            "overflow_x": null,
            "grid_auto_flow": null,
            "grid_area": null,
            "grid_template_columns": null,
            "flex": null,
            "_model_name": "LayoutModel",
            "justify_items": null,
            "grid_row": null,
            "max_height": null,
            "align_content": null,
            "visibility": null,
            "align_self": null,
            "height": null,
            "min_height": null,
            "padding": null,
            "grid_auto_rows": null,
            "grid_gap": null,
            "max_width": null,
            "order": null,
            "_view_module_version": "1.2.0",
            "grid_template_areas": null,
            "object_position": null,
            "object_fit": null,
            "grid_auto_columns": null,
            "margin": null,
            "display": null,
            "left": null
          }
        },
        "a3591b8348f3422ca72792c7b68d70ef": {
          "model_module": "@jupyter-widgets/controls",
          "model_name": "ButtonStyleModel",
          "model_module_version": "1.5.0",
          "state": {
            "_view_name": "StyleView",
            "_model_name": "ButtonStyleModel",
            "_view_module": "@jupyter-widgets/base",
            "_model_module_version": "1.5.0",
            "_view_count": null,
            "button_color": null,
            "font_weight": "",
            "_view_module_version": "1.2.0",
            "_model_module": "@jupyter-widgets/controls"
          }
        },
        "f68f690aeeaa41b59623241311816ace": {
          "model_module": "@jupyter-widgets/base",
          "model_name": "LayoutModel",
          "model_module_version": "1.2.0",
          "state": {
            "_view_name": "LayoutView",
            "grid_template_rows": null,
            "right": null,
            "justify_content": null,
            "_view_module": "@jupyter-widgets/base",
            "overflow": null,
            "_model_module_version": "1.2.0",
            "_view_count": null,
            "flex_flow": null,
            "width": null,
            "min_width": null,
            "border": null,
            "align_items": null,
            "bottom": null,
            "_model_module": "@jupyter-widgets/base",
            "top": null,
            "grid_column": null,
            "overflow_y": null,
            "overflow_x": null,
            "grid_auto_flow": null,
            "grid_area": null,
            "grid_template_columns": null,
            "flex": null,
            "_model_name": "LayoutModel",
            "justify_items": null,
            "grid_row": null,
            "max_height": null,
            "align_content": null,
            "visibility": null,
            "align_self": null,
            "height": null,
            "min_height": null,
            "padding": null,
            "grid_auto_rows": null,
            "grid_gap": null,
            "max_width": null,
            "order": null,
            "_view_module_version": "1.2.0",
            "grid_template_areas": null,
            "object_position": null,
            "object_fit": null,
            "grid_auto_columns": null,
            "margin": null,
            "display": null,
            "left": null
          }
        },
        "f777fde882cc4437a9cfed54b910637e": {
          "model_module": "@jupyter-widgets/base",
          "model_name": "LayoutModel",
          "model_module_version": "1.2.0",
          "state": {
            "_view_name": "LayoutView",
            "grid_template_rows": null,
            "right": null,
            "justify_content": null,
            "_view_module": "@jupyter-widgets/base",
            "overflow": null,
            "_model_module_version": "1.2.0",
            "_view_count": null,
            "flex_flow": null,
            "width": null,
            "min_width": null,
            "border": null,
            "align_items": null,
            "bottom": null,
            "_model_module": "@jupyter-widgets/base",
            "top": null,
            "grid_column": null,
            "overflow_y": null,
            "overflow_x": null,
            "grid_auto_flow": null,
            "grid_area": null,
            "grid_template_columns": null,
            "flex": null,
            "_model_name": "LayoutModel",
            "justify_items": null,
            "grid_row": null,
            "max_height": null,
            "align_content": null,
            "visibility": null,
            "align_self": null,
            "height": null,
            "min_height": null,
            "padding": null,
            "grid_auto_rows": null,
            "grid_gap": null,
            "max_width": null,
            "order": null,
            "_view_module_version": "1.2.0",
            "grid_template_areas": null,
            "object_position": null,
            "object_fit": null,
            "grid_auto_columns": null,
            "margin": null,
            "display": null,
            "left": null
          }
        },
        "82205f60f88c464a94e9b8e92ca5bf86": {
          "model_module": "@jupyter-widgets/controls",
          "model_name": "VBoxModel",
          "model_module_version": "1.5.0",
          "state": {
            "_view_name": "VBoxView",
            "_dom_classes": [
              "widget-interact"
            ],
            "_model_name": "VBoxModel",
            "_view_module": "@jupyter-widgets/controls",
            "_model_module_version": "1.5.0",
            "_view_count": null,
            "_view_module_version": "1.5.0",
            "box_style": "",
            "layout": "IPY_MODEL_ba17a0c3fdf44f5da3e433de6869353a",
            "_model_module": "@jupyter-widgets/controls",
            "children": [
              "IPY_MODEL_f2770d9361a54eedacea2d607e77c605",
              "IPY_MODEL_a822f4c5c5df4f639f6b566499949da9",
              "IPY_MODEL_44829de9028d486d8107a06f1d0db0f1",
              "IPY_MODEL_847178f54b304877aca4665db2fc3f9d"
            ]
          }
        },
        "ba17a0c3fdf44f5da3e433de6869353a": {
          "model_module": "@jupyter-widgets/base",
          "model_name": "LayoutModel",
          "model_module_version": "1.2.0",
          "state": {
            "_view_name": "LayoutView",
            "grid_template_rows": null,
            "right": null,
            "justify_content": null,
            "_view_module": "@jupyter-widgets/base",
            "overflow": null,
            "_model_module_version": "1.2.0",
            "_view_count": null,
            "flex_flow": null,
            "width": null,
            "min_width": null,
            "border": null,
            "align_items": null,
            "bottom": null,
            "_model_module": "@jupyter-widgets/base",
            "top": null,
            "grid_column": null,
            "overflow_y": null,
            "overflow_x": null,
            "grid_auto_flow": null,
            "grid_area": null,
            "grid_template_columns": null,
            "flex": null,
            "_model_name": "LayoutModel",
            "justify_items": null,
            "grid_row": null,
            "max_height": null,
            "align_content": null,
            "visibility": null,
            "align_self": null,
            "height": null,
            "min_height": null,
            "padding": null,
            "grid_auto_rows": null,
            "grid_gap": null,
            "max_width": null,
            "order": null,
            "_view_module_version": "1.2.0",
            "grid_template_areas": null,
            "object_position": null,
            "object_fit": null,
            "grid_auto_columns": null,
            "margin": null,
            "display": null,
            "left": null
          }
        },
        "f2770d9361a54eedacea2d607e77c605": {
          "model_module": "@jupyter-widgets/controls",
          "model_name": "IntSliderModel",
          "model_module_version": "1.5.0",
          "state": {
            "_view_name": "IntSliderView",
            "style": "IPY_MODEL_4e44316e7df5439eb73affd79c4c2ebe",
            "_dom_classes": [],
            "description": "giocate",
            "step": 1,
            "_model_name": "IntSliderModel",
            "orientation": "horizontal",
            "max": 10,
            "_view_module": "@jupyter-widgets/controls",
            "_model_module_version": "1.5.0",
            "value": 3,
            "_view_count": null,
            "disabled": false,
            "_view_module_version": "1.5.0",
            "min": 1,
            "continuous_update": true,
            "readout_format": "d",
            "description_tooltip": null,
            "readout": true,
            "_model_module": "@jupyter-widgets/controls",
            "layout": "IPY_MODEL_bc98a9fbbfac48b2addd5fd3dd10783d"
          }
        },
        "a822f4c5c5df4f639f6b566499949da9": {
          "model_module": "@jupyter-widgets/controls",
          "model_name": "IntSliderModel",
          "model_module_version": "1.5.0",
          "state": {
            "_view_name": "IntSliderView",
            "style": "IPY_MODEL_0f16091e9b5844a59e4d61cf7356f839",
            "_dom_classes": [],
            "description": "puntata",
            "step": 5,
            "_model_name": "IntSliderModel",
            "orientation": "horizontal",
            "max": 100,
            "_view_module": "@jupyter-widgets/controls",
            "_model_module_version": "1.5.0",
            "value": 10,
            "_view_count": null,
            "disabled": false,
            "_view_module_version": "1.5.0",
            "min": 5,
            "continuous_update": true,
            "readout_format": "d",
            "description_tooltip": null,
            "readout": true,
            "_model_module": "@jupyter-widgets/controls",
            "layout": "IPY_MODEL_3cd19441632541f386c0341976c158d6"
          }
        },
        "44829de9028d486d8107a06f1d0db0f1": {
          "model_module": "@jupyter-widgets/controls",
          "model_name": "ButtonModel",
          "model_module_version": "1.5.0",
          "state": {
            "_view_name": "ButtonView",
            "style": "IPY_MODEL_9bb4b756dce84a7482b7ccde0714e68e",
            "_dom_classes": [],
            "description": "Run Interact",
            "_model_name": "ButtonModel",
            "button_style": "",
            "_view_module": "@jupyter-widgets/controls",
            "_model_module_version": "1.5.0",
            "tooltip": "",
            "_view_count": null,
            "disabled": false,
            "_view_module_version": "1.5.0",
            "layout": "IPY_MODEL_b869d61d087d4714b58e7da123dbf2ad",
            "_model_module": "@jupyter-widgets/controls",
            "icon": ""
          }
        },
        "847178f54b304877aca4665db2fc3f9d": {
          "model_module": "@jupyter-widgets/output",
          "model_name": "OutputModel",
          "model_module_version": "1.0.0",
          "state": {
            "_view_name": "OutputView",
            "msg_id": "",
            "_dom_classes": [],
            "_model_name": "OutputModel",
            "outputs": [],
            "_view_module": "@jupyter-widgets/output",
            "_model_module_version": "1.0.0",
            "_view_count": null,
            "_view_module_version": "1.0.0",
            "layout": "IPY_MODEL_c1bd3333f2f148eb8ea017e53fe08e92",
            "_model_module": "@jupyter-widgets/output"
          }
        },
        "4e44316e7df5439eb73affd79c4c2ebe": {
          "model_module": "@jupyter-widgets/controls",
          "model_name": "SliderStyleModel",
          "model_module_version": "1.5.0",
          "state": {
            "_view_name": "StyleView",
            "handle_color": null,
            "_model_name": "SliderStyleModel",
            "description_width": "",
            "_view_module": "@jupyter-widgets/base",
            "_model_module_version": "1.5.0",
            "_view_count": null,
            "_view_module_version": "1.2.0",
            "_model_module": "@jupyter-widgets/controls"
          }
        },
        "bc98a9fbbfac48b2addd5fd3dd10783d": {
          "model_module": "@jupyter-widgets/base",
          "model_name": "LayoutModel",
          "model_module_version": "1.2.0",
          "state": {
            "_view_name": "LayoutView",
            "grid_template_rows": null,
            "right": null,
            "justify_content": null,
            "_view_module": "@jupyter-widgets/base",
            "overflow": null,
            "_model_module_version": "1.2.0",
            "_view_count": null,
            "flex_flow": null,
            "width": null,
            "min_width": null,
            "border": null,
            "align_items": null,
            "bottom": null,
            "_model_module": "@jupyter-widgets/base",
            "top": null,
            "grid_column": null,
            "overflow_y": null,
            "overflow_x": null,
            "grid_auto_flow": null,
            "grid_area": null,
            "grid_template_columns": null,
            "flex": null,
            "_model_name": "LayoutModel",
            "justify_items": null,
            "grid_row": null,
            "max_height": null,
            "align_content": null,
            "visibility": null,
            "align_self": null,
            "height": null,
            "min_height": null,
            "padding": null,
            "grid_auto_rows": null,
            "grid_gap": null,
            "max_width": null,
            "order": null,
            "_view_module_version": "1.2.0",
            "grid_template_areas": null,
            "object_position": null,
            "object_fit": null,
            "grid_auto_columns": null,
            "margin": null,
            "display": null,
            "left": null
          }
        },
        "0f16091e9b5844a59e4d61cf7356f839": {
          "model_module": "@jupyter-widgets/controls",
          "model_name": "SliderStyleModel",
          "model_module_version": "1.5.0",
          "state": {
            "_view_name": "StyleView",
            "handle_color": null,
            "_model_name": "SliderStyleModel",
            "description_width": "",
            "_view_module": "@jupyter-widgets/base",
            "_model_module_version": "1.5.0",
            "_view_count": null,
            "_view_module_version": "1.2.0",
            "_model_module": "@jupyter-widgets/controls"
          }
        },
        "3cd19441632541f386c0341976c158d6": {
          "model_module": "@jupyter-widgets/base",
          "model_name": "LayoutModel",
          "model_module_version": "1.2.0",
          "state": {
            "_view_name": "LayoutView",
            "grid_template_rows": null,
            "right": null,
            "justify_content": null,
            "_view_module": "@jupyter-widgets/base",
            "overflow": null,
            "_model_module_version": "1.2.0",
            "_view_count": null,
            "flex_flow": null,
            "width": null,
            "min_width": null,
            "border": null,
            "align_items": null,
            "bottom": null,
            "_model_module": "@jupyter-widgets/base",
            "top": null,
            "grid_column": null,
            "overflow_y": null,
            "overflow_x": null,
            "grid_auto_flow": null,
            "grid_area": null,
            "grid_template_columns": null,
            "flex": null,
            "_model_name": "LayoutModel",
            "justify_items": null,
            "grid_row": null,
            "max_height": null,
            "align_content": null,
            "visibility": null,
            "align_self": null,
            "height": null,
            "min_height": null,
            "padding": null,
            "grid_auto_rows": null,
            "grid_gap": null,
            "max_width": null,
            "order": null,
            "_view_module_version": "1.2.0",
            "grid_template_areas": null,
            "object_position": null,
            "object_fit": null,
            "grid_auto_columns": null,
            "margin": null,
            "display": null,
            "left": null
          }
        },
        "9bb4b756dce84a7482b7ccde0714e68e": {
          "model_module": "@jupyter-widgets/controls",
          "model_name": "ButtonStyleModel",
          "model_module_version": "1.5.0",
          "state": {
            "_view_name": "StyleView",
            "_model_name": "ButtonStyleModel",
            "_view_module": "@jupyter-widgets/base",
            "_model_module_version": "1.5.0",
            "_view_count": null,
            "button_color": null,
            "font_weight": "",
            "_view_module_version": "1.2.0",
            "_model_module": "@jupyter-widgets/controls"
          }
        },
        "b869d61d087d4714b58e7da123dbf2ad": {
          "model_module": "@jupyter-widgets/base",
          "model_name": "LayoutModel",
          "model_module_version": "1.2.0",
          "state": {
            "_view_name": "LayoutView",
            "grid_template_rows": null,
            "right": null,
            "justify_content": null,
            "_view_module": "@jupyter-widgets/base",
            "overflow": null,
            "_model_module_version": "1.2.0",
            "_view_count": null,
            "flex_flow": null,
            "width": null,
            "min_width": null,
            "border": null,
            "align_items": null,
            "bottom": null,
            "_model_module": "@jupyter-widgets/base",
            "top": null,
            "grid_column": null,
            "overflow_y": null,
            "overflow_x": null,
            "grid_auto_flow": null,
            "grid_area": null,
            "grid_template_columns": null,
            "flex": null,
            "_model_name": "LayoutModel",
            "justify_items": null,
            "grid_row": null,
            "max_height": null,
            "align_content": null,
            "visibility": null,
            "align_self": null,
            "height": null,
            "min_height": null,
            "padding": null,
            "grid_auto_rows": null,
            "grid_gap": null,
            "max_width": null,
            "order": null,
            "_view_module_version": "1.2.0",
            "grid_template_areas": null,
            "object_position": null,
            "object_fit": null,
            "grid_auto_columns": null,
            "margin": null,
            "display": null,
            "left": null
          }
        },
        "c1bd3333f2f148eb8ea017e53fe08e92": {
          "model_module": "@jupyter-widgets/base",
          "model_name": "LayoutModel",
          "model_module_version": "1.2.0",
          "state": {
            "_view_name": "LayoutView",
            "grid_template_rows": null,
            "right": null,
            "justify_content": null,
            "_view_module": "@jupyter-widgets/base",
            "overflow": null,
            "_model_module_version": "1.2.0",
            "_view_count": null,
            "flex_flow": null,
            "width": null,
            "min_width": null,
            "border": null,
            "align_items": null,
            "bottom": null,
            "_model_module": "@jupyter-widgets/base",
            "top": null,
            "grid_column": null,
            "overflow_y": null,
            "overflow_x": null,
            "grid_auto_flow": null,
            "grid_area": null,
            "grid_template_columns": null,
            "flex": null,
            "_model_name": "LayoutModel",
            "justify_items": null,
            "grid_row": null,
            "max_height": null,
            "align_content": null,
            "visibility": null,
            "align_self": null,
            "height": null,
            "min_height": null,
            "padding": null,
            "grid_auto_rows": null,
            "grid_gap": null,
            "max_width": null,
            "order": null,
            "_view_module_version": "1.2.0",
            "grid_template_areas": null,
            "object_position": null,
            "object_fit": null,
            "grid_auto_columns": null,
            "margin": null,
            "display": null,
            "left": null
          }
        },
        "eab43a4519194f5e9872e5352499d197": {
          "model_module": "@jupyter-widgets/controls",
          "model_name": "VBoxModel",
          "model_module_version": "1.5.0",
          "state": {
            "_view_name": "VBoxView",
            "_dom_classes": [
              "widget-interact"
            ],
            "_model_name": "VBoxModel",
            "_view_module": "@jupyter-widgets/controls",
            "_model_module_version": "1.5.0",
            "_view_count": null,
            "_view_module_version": "1.5.0",
            "box_style": "",
            "layout": "IPY_MODEL_dca3b961c03d419cb270d718398acf33",
            "_model_module": "@jupyter-widgets/controls",
            "children": [
              "IPY_MODEL_b0425105786645f197ec648ec03d8871",
              "IPY_MODEL_fd19c3d5bbf54ce0a8964ff10703db4b",
              "IPY_MODEL_982eb7f9491c413db124aac90f64d70a",
              "IPY_MODEL_10605fc8cfa74ffa946b36bc3c68b07f"
            ]
          }
        },
        "dca3b961c03d419cb270d718398acf33": {
          "model_module": "@jupyter-widgets/base",
          "model_name": "LayoutModel",
          "model_module_version": "1.2.0",
          "state": {
            "_view_name": "LayoutView",
            "grid_template_rows": null,
            "right": null,
            "justify_content": null,
            "_view_module": "@jupyter-widgets/base",
            "overflow": null,
            "_model_module_version": "1.2.0",
            "_view_count": null,
            "flex_flow": null,
            "width": null,
            "min_width": null,
            "border": null,
            "align_items": null,
            "bottom": null,
            "_model_module": "@jupyter-widgets/base",
            "top": null,
            "grid_column": null,
            "overflow_y": null,
            "overflow_x": null,
            "grid_auto_flow": null,
            "grid_area": null,
            "grid_template_columns": null,
            "flex": null,
            "_model_name": "LayoutModel",
            "justify_items": null,
            "grid_row": null,
            "max_height": null,
            "align_content": null,
            "visibility": null,
            "align_self": null,
            "height": null,
            "min_height": null,
            "padding": null,
            "grid_auto_rows": null,
            "grid_gap": null,
            "max_width": null,
            "order": null,
            "_view_module_version": "1.2.0",
            "grid_template_areas": null,
            "object_position": null,
            "object_fit": null,
            "grid_auto_columns": null,
            "margin": null,
            "display": null,
            "left": null
          }
        },
        "b0425105786645f197ec648ec03d8871": {
          "model_module": "@jupyter-widgets/controls",
          "model_name": "IntSliderModel",
          "model_module_version": "1.5.0",
          "state": {
            "_view_name": "IntSliderView",
            "style": "IPY_MODEL_8f9d305c34c645208d61df12674db5d8",
            "_dom_classes": [],
            "description": "giocate",
            "step": 1,
            "_model_name": "IntSliderModel",
            "orientation": "horizontal",
            "max": 6,
            "_view_module": "@jupyter-widgets/controls",
            "_model_module_version": "1.5.0",
            "value": 3,
            "_view_count": null,
            "disabled": false,
            "_view_module_version": "1.5.0",
            "min": 1,
            "continuous_update": true,
            "readout_format": "d",
            "description_tooltip": null,
            "readout": true,
            "_model_module": "@jupyter-widgets/controls",
            "layout": "IPY_MODEL_064695e36db242ffa77e49ad442713a5"
          }
        },
        "fd19c3d5bbf54ce0a8964ff10703db4b": {
          "model_module": "@jupyter-widgets/controls",
          "model_name": "IntSliderModel",
          "model_module_version": "1.5.0",
          "state": {
            "_view_name": "IntSliderView",
            "style": "IPY_MODEL_7658680f8a0b4241bb53c8d8618ecb08",
            "_dom_classes": [],
            "description": "puntata",
            "step": 5,
            "_model_name": "IntSliderModel",
            "orientation": "horizontal",
            "max": 100,
            "_view_module": "@jupyter-widgets/controls",
            "_model_module_version": "1.5.0",
            "value": 5,
            "_view_count": null,
            "disabled": false,
            "_view_module_version": "1.5.0",
            "min": 5,
            "continuous_update": true,
            "readout_format": "d",
            "description_tooltip": null,
            "readout": true,
            "_model_module": "@jupyter-widgets/controls",
            "layout": "IPY_MODEL_8c286f89d6474f0180493390488aae82"
          }
        },
        "982eb7f9491c413db124aac90f64d70a": {
          "model_module": "@jupyter-widgets/controls",
          "model_name": "ButtonModel",
          "model_module_version": "1.5.0",
          "state": {
            "_view_name": "ButtonView",
            "style": "IPY_MODEL_31e557bcaf8b421fbc536b14c2e8ce5b",
            "_dom_classes": [],
            "description": "Run Interact",
            "_model_name": "ButtonModel",
            "button_style": "",
            "_view_module": "@jupyter-widgets/controls",
            "_model_module_version": "1.5.0",
            "tooltip": "",
            "_view_count": null,
            "disabled": false,
            "_view_module_version": "1.5.0",
            "layout": "IPY_MODEL_6c0820fee250498987ad42726d0b4aac",
            "_model_module": "@jupyter-widgets/controls",
            "icon": ""
          }
        },
        "10605fc8cfa74ffa946b36bc3c68b07f": {
          "model_module": "@jupyter-widgets/output",
          "model_name": "OutputModel",
          "model_module_version": "1.0.0",
          "state": {
            "_view_name": "OutputView",
            "msg_id": "",
            "_dom_classes": [],
            "_model_name": "OutputModel",
            "outputs": [],
            "_view_module": "@jupyter-widgets/output",
            "_model_module_version": "1.0.0",
            "_view_count": null,
            "_view_module_version": "1.0.0",
            "layout": "IPY_MODEL_ae580fafacf648319a414a9aa8878741",
            "_model_module": "@jupyter-widgets/output"
          }
        },
        "8f9d305c34c645208d61df12674db5d8": {
          "model_module": "@jupyter-widgets/controls",
          "model_name": "SliderStyleModel",
          "model_module_version": "1.5.0",
          "state": {
            "_view_name": "StyleView",
            "handle_color": null,
            "_model_name": "SliderStyleModel",
            "description_width": "",
            "_view_module": "@jupyter-widgets/base",
            "_model_module_version": "1.5.0",
            "_view_count": null,
            "_view_module_version": "1.2.0",
            "_model_module": "@jupyter-widgets/controls"
          }
        },
        "064695e36db242ffa77e49ad442713a5": {
          "model_module": "@jupyter-widgets/base",
          "model_name": "LayoutModel",
          "model_module_version": "1.2.0",
          "state": {
            "_view_name": "LayoutView",
            "grid_template_rows": null,
            "right": null,
            "justify_content": null,
            "_view_module": "@jupyter-widgets/base",
            "overflow": null,
            "_model_module_version": "1.2.0",
            "_view_count": null,
            "flex_flow": null,
            "width": null,
            "min_width": null,
            "border": null,
            "align_items": null,
            "bottom": null,
            "_model_module": "@jupyter-widgets/base",
            "top": null,
            "grid_column": null,
            "overflow_y": null,
            "overflow_x": null,
            "grid_auto_flow": null,
            "grid_area": null,
            "grid_template_columns": null,
            "flex": null,
            "_model_name": "LayoutModel",
            "justify_items": null,
            "grid_row": null,
            "max_height": null,
            "align_content": null,
            "visibility": null,
            "align_self": null,
            "height": null,
            "min_height": null,
            "padding": null,
            "grid_auto_rows": null,
            "grid_gap": null,
            "max_width": null,
            "order": null,
            "_view_module_version": "1.2.0",
            "grid_template_areas": null,
            "object_position": null,
            "object_fit": null,
            "grid_auto_columns": null,
            "margin": null,
            "display": null,
            "left": null
          }
        },
        "7658680f8a0b4241bb53c8d8618ecb08": {
          "model_module": "@jupyter-widgets/controls",
          "model_name": "SliderStyleModel",
          "model_module_version": "1.5.0",
          "state": {
            "_view_name": "StyleView",
            "handle_color": null,
            "_model_name": "SliderStyleModel",
            "description_width": "",
            "_view_module": "@jupyter-widgets/base",
            "_model_module_version": "1.5.0",
            "_view_count": null,
            "_view_module_version": "1.2.0",
            "_model_module": "@jupyter-widgets/controls"
          }
        },
        "8c286f89d6474f0180493390488aae82": {
          "model_module": "@jupyter-widgets/base",
          "model_name": "LayoutModel",
          "model_module_version": "1.2.0",
          "state": {
            "_view_name": "LayoutView",
            "grid_template_rows": null,
            "right": null,
            "justify_content": null,
            "_view_module": "@jupyter-widgets/base",
            "overflow": null,
            "_model_module_version": "1.2.0",
            "_view_count": null,
            "flex_flow": null,
            "width": null,
            "min_width": null,
            "border": null,
            "align_items": null,
            "bottom": null,
            "_model_module": "@jupyter-widgets/base",
            "top": null,
            "grid_column": null,
            "overflow_y": null,
            "overflow_x": null,
            "grid_auto_flow": null,
            "grid_area": null,
            "grid_template_columns": null,
            "flex": null,
            "_model_name": "LayoutModel",
            "justify_items": null,
            "grid_row": null,
            "max_height": null,
            "align_content": null,
            "visibility": null,
            "align_self": null,
            "height": null,
            "min_height": null,
            "padding": null,
            "grid_auto_rows": null,
            "grid_gap": null,
            "max_width": null,
            "order": null,
            "_view_module_version": "1.2.0",
            "grid_template_areas": null,
            "object_position": null,
            "object_fit": null,
            "grid_auto_columns": null,
            "margin": null,
            "display": null,
            "left": null
          }
        },
        "31e557bcaf8b421fbc536b14c2e8ce5b": {
          "model_module": "@jupyter-widgets/controls",
          "model_name": "ButtonStyleModel",
          "model_module_version": "1.5.0",
          "state": {
            "_view_name": "StyleView",
            "_model_name": "ButtonStyleModel",
            "_view_module": "@jupyter-widgets/base",
            "_model_module_version": "1.5.0",
            "_view_count": null,
            "button_color": null,
            "font_weight": "",
            "_view_module_version": "1.2.0",
            "_model_module": "@jupyter-widgets/controls"
          }
        },
        "6c0820fee250498987ad42726d0b4aac": {
          "model_module": "@jupyter-widgets/base",
          "model_name": "LayoutModel",
          "model_module_version": "1.2.0",
          "state": {
            "_view_name": "LayoutView",
            "grid_template_rows": null,
            "right": null,
            "justify_content": null,
            "_view_module": "@jupyter-widgets/base",
            "overflow": null,
            "_model_module_version": "1.2.0",
            "_view_count": null,
            "flex_flow": null,
            "width": null,
            "min_width": null,
            "border": null,
            "align_items": null,
            "bottom": null,
            "_model_module": "@jupyter-widgets/base",
            "top": null,
            "grid_column": null,
            "overflow_y": null,
            "overflow_x": null,
            "grid_auto_flow": null,
            "grid_area": null,
            "grid_template_columns": null,
            "flex": null,
            "_model_name": "LayoutModel",
            "justify_items": null,
            "grid_row": null,
            "max_height": null,
            "align_content": null,
            "visibility": null,
            "align_self": null,
            "height": null,
            "min_height": null,
            "padding": null,
            "grid_auto_rows": null,
            "grid_gap": null,
            "max_width": null,
            "order": null,
            "_view_module_version": "1.2.0",
            "grid_template_areas": null,
            "object_position": null,
            "object_fit": null,
            "grid_auto_columns": null,
            "margin": null,
            "display": null,
            "left": null
          }
        },
        "ae580fafacf648319a414a9aa8878741": {
          "model_module": "@jupyter-widgets/base",
          "model_name": "LayoutModel",
          "model_module_version": "1.2.0",
          "state": {
            "_view_name": "LayoutView",
            "grid_template_rows": null,
            "right": null,
            "justify_content": null,
            "_view_module": "@jupyter-widgets/base",
            "overflow": null,
            "_model_module_version": "1.2.0",
            "_view_count": null,
            "flex_flow": null,
            "width": null,
            "min_width": null,
            "border": null,
            "align_items": null,
            "bottom": null,
            "_model_module": "@jupyter-widgets/base",
            "top": null,
            "grid_column": null,
            "overflow_y": null,
            "overflow_x": null,
            "grid_auto_flow": null,
            "grid_area": null,
            "grid_template_columns": null,
            "flex": null,
            "_model_name": "LayoutModel",
            "justify_items": null,
            "grid_row": null,
            "max_height": null,
            "align_content": null,
            "visibility": null,
            "align_self": null,
            "height": null,
            "min_height": null,
            "padding": null,
            "grid_auto_rows": null,
            "grid_gap": null,
            "max_width": null,
            "order": null,
            "_view_module_version": "1.2.0",
            "grid_template_areas": null,
            "object_position": null,
            "object_fit": null,
            "grid_auto_columns": null,
            "margin": null,
            "display": null,
            "left": null
          }
        },
        "67c20b42f805402aa1f4f9481538ec68": {
          "model_module": "@jupyter-widgets/controls",
          "model_name": "VBoxModel",
          "model_module_version": "1.5.0",
          "state": {
            "_view_name": "VBoxView",
            "_dom_classes": [
              "widget-interact"
            ],
            "_model_name": "VBoxModel",
            "_view_module": "@jupyter-widgets/controls",
            "_model_module_version": "1.5.0",
            "_view_count": null,
            "_view_module_version": "1.5.0",
            "box_style": "",
            "layout": "IPY_MODEL_6bac51a009f6471397cb7493b0b60bff",
            "_model_module": "@jupyter-widgets/controls",
            "children": [
              "IPY_MODEL_e68a898d2dbc478c9b7c55c823a60a32",
              "IPY_MODEL_f8d7937a8de741afbd4e2072591542aa",
              "IPY_MODEL_4838e4660c1841a0bcf46f83e26767ad"
            ]
          }
        },
        "6bac51a009f6471397cb7493b0b60bff": {
          "model_module": "@jupyter-widgets/base",
          "model_name": "LayoutModel",
          "model_module_version": "1.2.0",
          "state": {
            "_view_name": "LayoutView",
            "grid_template_rows": null,
            "right": null,
            "justify_content": null,
            "_view_module": "@jupyter-widgets/base",
            "overflow": null,
            "_model_module_version": "1.2.0",
            "_view_count": null,
            "flex_flow": null,
            "width": null,
            "min_width": null,
            "border": null,
            "align_items": null,
            "bottom": null,
            "_model_module": "@jupyter-widgets/base",
            "top": null,
            "grid_column": null,
            "overflow_y": null,
            "overflow_x": null,
            "grid_auto_flow": null,
            "grid_area": null,
            "grid_template_columns": null,
            "flex": null,
            "_model_name": "LayoutModel",
            "justify_items": null,
            "grid_row": null,
            "max_height": null,
            "align_content": null,
            "visibility": null,
            "align_self": null,
            "height": null,
            "min_height": null,
            "padding": null,
            "grid_auto_rows": null,
            "grid_gap": null,
            "max_width": null,
            "order": null,
            "_view_module_version": "1.2.0",
            "grid_template_areas": null,
            "object_position": null,
            "object_fit": null,
            "grid_auto_columns": null,
            "margin": null,
            "display": null,
            "left": null
          }
        },
        "e68a898d2dbc478c9b7c55c823a60a32": {
          "model_module": "@jupyter-widgets/controls",
          "model_name": "IntSliderModel",
          "model_module_version": "1.5.0",
          "state": {
            "_view_name": "IntSliderView",
            "style": "IPY_MODEL_c7f107f75cca4301896842df21ba8663",
            "_dom_classes": [],
            "description": "estrazioni",
            "step": 1,
            "_model_name": "IntSliderModel",
            "orientation": "horizontal",
            "max": 10,
            "_view_module": "@jupyter-widgets/controls",
            "_model_module_version": "1.5.0",
            "value": 3,
            "_view_count": null,
            "disabled": false,
            "_view_module_version": "1.5.0",
            "min": 1,
            "continuous_update": true,
            "readout_format": "d",
            "description_tooltip": null,
            "readout": true,
            "_model_module": "@jupyter-widgets/controls",
            "layout": "IPY_MODEL_04abd5cd0b084ee7adc3ba3a149cbdcb"
          }
        },
        "f8d7937a8de741afbd4e2072591542aa": {
          "model_module": "@jupyter-widgets/controls",
          "model_name": "ButtonModel",
          "model_module_version": "1.5.0",
          "state": {
            "_view_name": "ButtonView",
            "style": "IPY_MODEL_43c4c51975df49a39289a5919a8f72d1",
            "_dom_classes": [],
            "description": "Run Interact",
            "_model_name": "ButtonModel",
            "button_style": "",
            "_view_module": "@jupyter-widgets/controls",
            "_model_module_version": "1.5.0",
            "tooltip": "",
            "_view_count": null,
            "disabled": false,
            "_view_module_version": "1.5.0",
            "layout": "IPY_MODEL_9bd28843cec045fe824450239de4bb7c",
            "_model_module": "@jupyter-widgets/controls",
            "icon": ""
          }
        },
        "4838e4660c1841a0bcf46f83e26767ad": {
          "model_module": "@jupyter-widgets/output",
          "model_name": "OutputModel",
          "model_module_version": "1.0.0",
          "state": {
            "_view_name": "OutputView",
            "msg_id": "",
            "_dom_classes": [],
            "_model_name": "OutputModel",
            "outputs": [],
            "_view_module": "@jupyter-widgets/output",
            "_model_module_version": "1.0.0",
            "_view_count": null,
            "_view_module_version": "1.0.0",
            "layout": "IPY_MODEL_921d60565e5b48d4acb2ceadf29d42b1",
            "_model_module": "@jupyter-widgets/output"
          }
        },
        "c7f107f75cca4301896842df21ba8663": {
          "model_module": "@jupyter-widgets/controls",
          "model_name": "SliderStyleModel",
          "model_module_version": "1.5.0",
          "state": {
            "_view_name": "StyleView",
            "handle_color": null,
            "_model_name": "SliderStyleModel",
            "description_width": "",
            "_view_module": "@jupyter-widgets/base",
            "_model_module_version": "1.5.0",
            "_view_count": null,
            "_view_module_version": "1.2.0",
            "_model_module": "@jupyter-widgets/controls"
          }
        },
        "04abd5cd0b084ee7adc3ba3a149cbdcb": {
          "model_module": "@jupyter-widgets/base",
          "model_name": "LayoutModel",
          "model_module_version": "1.2.0",
          "state": {
            "_view_name": "LayoutView",
            "grid_template_rows": null,
            "right": null,
            "justify_content": null,
            "_view_module": "@jupyter-widgets/base",
            "overflow": null,
            "_model_module_version": "1.2.0",
            "_view_count": null,
            "flex_flow": null,
            "width": null,
            "min_width": null,
            "border": null,
            "align_items": null,
            "bottom": null,
            "_model_module": "@jupyter-widgets/base",
            "top": null,
            "grid_column": null,
            "overflow_y": null,
            "overflow_x": null,
            "grid_auto_flow": null,
            "grid_area": null,
            "grid_template_columns": null,
            "flex": null,
            "_model_name": "LayoutModel",
            "justify_items": null,
            "grid_row": null,
            "max_height": null,
            "align_content": null,
            "visibility": null,
            "align_self": null,
            "height": null,
            "min_height": null,
            "padding": null,
            "grid_auto_rows": null,
            "grid_gap": null,
            "max_width": null,
            "order": null,
            "_view_module_version": "1.2.0",
            "grid_template_areas": null,
            "object_position": null,
            "object_fit": null,
            "grid_auto_columns": null,
            "margin": null,
            "display": null,
            "left": null
          }
        },
        "43c4c51975df49a39289a5919a8f72d1": {
          "model_module": "@jupyter-widgets/controls",
          "model_name": "ButtonStyleModel",
          "model_module_version": "1.5.0",
          "state": {
            "_view_name": "StyleView",
            "_model_name": "ButtonStyleModel",
            "_view_module": "@jupyter-widgets/base",
            "_model_module_version": "1.5.0",
            "_view_count": null,
            "button_color": null,
            "font_weight": "",
            "_view_module_version": "1.2.0",
            "_model_module": "@jupyter-widgets/controls"
          }
        },
        "9bd28843cec045fe824450239de4bb7c": {
          "model_module": "@jupyter-widgets/base",
          "model_name": "LayoutModel",
          "model_module_version": "1.2.0",
          "state": {
            "_view_name": "LayoutView",
            "grid_template_rows": null,
            "right": null,
            "justify_content": null,
            "_view_module": "@jupyter-widgets/base",
            "overflow": null,
            "_model_module_version": "1.2.0",
            "_view_count": null,
            "flex_flow": null,
            "width": null,
            "min_width": null,
            "border": null,
            "align_items": null,
            "bottom": null,
            "_model_module": "@jupyter-widgets/base",
            "top": null,
            "grid_column": null,
            "overflow_y": null,
            "overflow_x": null,
            "grid_auto_flow": null,
            "grid_area": null,
            "grid_template_columns": null,
            "flex": null,
            "_model_name": "LayoutModel",
            "justify_items": null,
            "grid_row": null,
            "max_height": null,
            "align_content": null,
            "visibility": null,
            "align_self": null,
            "height": null,
            "min_height": null,
            "padding": null,
            "grid_auto_rows": null,
            "grid_gap": null,
            "max_width": null,
            "order": null,
            "_view_module_version": "1.2.0",
            "grid_template_areas": null,
            "object_position": null,
            "object_fit": null,
            "grid_auto_columns": null,
            "margin": null,
            "display": null,
            "left": null
          }
        },
        "921d60565e5b48d4acb2ceadf29d42b1": {
          "model_module": "@jupyter-widgets/base",
          "model_name": "LayoutModel",
          "model_module_version": "1.2.0",
          "state": {
            "_view_name": "LayoutView",
            "grid_template_rows": null,
            "right": null,
            "justify_content": null,
            "_view_module": "@jupyter-widgets/base",
            "overflow": null,
            "_model_module_version": "1.2.0",
            "_view_count": null,
            "flex_flow": null,
            "width": null,
            "min_width": null,
            "border": null,
            "align_items": null,
            "bottom": null,
            "_model_module": "@jupyter-widgets/base",
            "top": null,
            "grid_column": null,
            "overflow_y": null,
            "overflow_x": null,
            "grid_auto_flow": null,
            "grid_area": null,
            "grid_template_columns": null,
            "flex": null,
            "_model_name": "LayoutModel",
            "justify_items": null,
            "grid_row": null,
            "max_height": null,
            "align_content": null,
            "visibility": null,
            "align_self": null,
            "height": null,
            "min_height": null,
            "padding": null,
            "grid_auto_rows": null,
            "grid_gap": null,
            "max_width": null,
            "order": null,
            "_view_module_version": "1.2.0",
            "grid_template_areas": null,
            "object_position": null,
            "object_fit": null,
            "grid_auto_columns": null,
            "margin": null,
            "display": null,
            "left": null
          }
        },
        "931c76020ed84c3b81208030fe3fa4f4": {
          "model_module": "@jupyter-widgets/controls",
          "model_name": "VBoxModel",
          "model_module_version": "1.5.0",
          "state": {
            "_view_name": "VBoxView",
            "_dom_classes": [
              "widget-interact"
            ],
            "_model_name": "VBoxModel",
            "_view_module": "@jupyter-widgets/controls",
            "_model_module_version": "1.5.0",
            "_view_count": null,
            "_view_module_version": "1.5.0",
            "box_style": "",
            "layout": "IPY_MODEL_6e2e71728e6c4007be5288d2b77d51d4",
            "_model_module": "@jupyter-widgets/controls",
            "children": [
              "IPY_MODEL_58601f33cc1f4812bfd8cbba29b77e29",
              "IPY_MODEL_3e6eac9dd53a461ba5a3af8f703d9143",
              "IPY_MODEL_56de7ce381d440aab049a8e72551a3a0",
              "IPY_MODEL_74df16fa24354437ab6e369a585f1392"
            ]
          }
        },
        "6e2e71728e6c4007be5288d2b77d51d4": {
          "model_module": "@jupyter-widgets/base",
          "model_name": "LayoutModel",
          "model_module_version": "1.2.0",
          "state": {
            "_view_name": "LayoutView",
            "grid_template_rows": null,
            "right": null,
            "justify_content": null,
            "_view_module": "@jupyter-widgets/base",
            "overflow": null,
            "_model_module_version": "1.2.0",
            "_view_count": null,
            "flex_flow": null,
            "width": null,
            "min_width": null,
            "border": null,
            "align_items": null,
            "bottom": null,
            "_model_module": "@jupyter-widgets/base",
            "top": null,
            "grid_column": null,
            "overflow_y": null,
            "overflow_x": null,
            "grid_auto_flow": null,
            "grid_area": null,
            "grid_template_columns": null,
            "flex": null,
            "_model_name": "LayoutModel",
            "justify_items": null,
            "grid_row": null,
            "max_height": null,
            "align_content": null,
            "visibility": null,
            "align_self": null,
            "height": null,
            "min_height": null,
            "padding": null,
            "grid_auto_rows": null,
            "grid_gap": null,
            "max_width": null,
            "order": null,
            "_view_module_version": "1.2.0",
            "grid_template_areas": null,
            "object_position": null,
            "object_fit": null,
            "grid_auto_columns": null,
            "margin": null,
            "display": null,
            "left": null
          }
        },
        "58601f33cc1f4812bfd8cbba29b77e29": {
          "model_module": "@jupyter-widgets/controls",
          "model_name": "IntSliderModel",
          "model_module_version": "1.5.0",
          "state": {
            "_view_name": "IntSliderView",
            "style": "IPY_MODEL_b5cb96dca38144baac26d64eebf33f9d",
            "_dom_classes": [],
            "description": "bianche",
            "step": 1,
            "_model_name": "IntSliderModel",
            "orientation": "horizontal",
            "max": 5,
            "_view_module": "@jupyter-widgets/controls",
            "_model_module_version": "1.5.0",
            "value": 3,
            "_view_count": null,
            "disabled": false,
            "_view_module_version": "1.5.0",
            "min": 1,
            "continuous_update": true,
            "readout_format": "d",
            "description_tooltip": null,
            "readout": true,
            "_model_module": "@jupyter-widgets/controls",
            "layout": "IPY_MODEL_0daedd6480ea44b2bcace10624a8506a"
          }
        },
        "3e6eac9dd53a461ba5a3af8f703d9143": {
          "model_module": "@jupyter-widgets/controls",
          "model_name": "IntSliderModel",
          "model_module_version": "1.5.0",
          "state": {
            "_view_name": "IntSliderView",
            "style": "IPY_MODEL_34e87ef58fe0400fa75f680a57368977",
            "_dom_classes": [],
            "description": "rosse",
            "step": 1,
            "_model_name": "IntSliderModel",
            "orientation": "horizontal",
            "max": 5,
            "_view_module": "@jupyter-widgets/controls",
            "_model_module_version": "1.5.0",
            "value": 4,
            "_view_count": null,
            "disabled": false,
            "_view_module_version": "1.5.0",
            "min": 1,
            "continuous_update": true,
            "readout_format": "d",
            "description_tooltip": null,
            "readout": true,
            "_model_module": "@jupyter-widgets/controls",
            "layout": "IPY_MODEL_69b9eea5ff4b43fab3079120c48ce677"
          }
        },
        "56de7ce381d440aab049a8e72551a3a0": {
          "model_module": "@jupyter-widgets/controls",
          "model_name": "ButtonModel",
          "model_module_version": "1.5.0",
          "state": {
            "_view_name": "ButtonView",
            "style": "IPY_MODEL_f6d0d882041543c198afa654b3d32dd2",
            "_dom_classes": [],
            "description": "Run Interact",
            "_model_name": "ButtonModel",
            "button_style": "",
            "_view_module": "@jupyter-widgets/controls",
            "_model_module_version": "1.5.0",
            "tooltip": "",
            "_view_count": null,
            "disabled": false,
            "_view_module_version": "1.5.0",
            "layout": "IPY_MODEL_6026b5c783054847b1fa874b2dc35d07",
            "_model_module": "@jupyter-widgets/controls",
            "icon": ""
          }
        },
        "74df16fa24354437ab6e369a585f1392": {
          "model_module": "@jupyter-widgets/output",
          "model_name": "OutputModel",
          "model_module_version": "1.0.0",
          "state": {
            "_view_name": "OutputView",
            "msg_id": "",
            "_dom_classes": [],
            "_model_name": "OutputModel",
            "outputs": [
              {
                "output_type": "display_data",
                "data": {
                  "image/png": "iVBORw0KGgoAAAANSUhEUgAAARQAAAEJCAYAAABVONg8AAAABHNCSVQICAgIfAhkiAAAAAlwSFlzAAALEgAACxIB0t1+/AAAADh0RVh0U29mdHdhcmUAbWF0cGxvdGxpYiB2ZXJzaW9uMy4yLjIsIGh0dHA6Ly9tYXRwbG90bGliLm9yZy+WH4yJAAAgAElEQVR4nO3deXhU5d3/8fd3spCESBBQthBHEEEUFXCriqKPVm0ktq6o7S/6yM+lda3WTl2ejrW26dO6dHGpS+tu3dCio3UHAa0IFR0UcMGIIQk7wxJCSOZ+/jiDhJhlJjkz98yZ7+u6chHOnJn5ZJh8uM8595wjxhiUUsoNPtsBlFLeoYWilHKNFopSyjVaKEop12ihKKVco4WilHKNFopSyjVaKEop12ihKKVco4WilHKNFopSyjVaKEop12ihKKVco4WilHKNFopSyjVaKEop12ihKKVco4WSRCJSLSJhEVkgIvNiy56M/X1B7PYFHdz3byKyUkQWtln+OxH5SEQebrXshyJyZXJ/GqW6lms7QBY4xhizevtfjDFnbf9eRG4FIh3c70HgL0Dr4igBxhtj9heR+0VkLPA5cD5wYhKyK5UQLRRLRESAM4Fj27vdGPO2iPjbLI4CebH7FgHbgGuAPxtjtiUvrVLx0U2e5DLAqyIyX0QubHPbRGCFMeazuB/MmI3AS8AHQB3O6OZQY8zzbgVWqidEz3qfPCIy1BizXER2B14DLjPGvB277W7gc2PMrZ3c3w+8aIzZr4Pb7wfuAsYD3wU+Msb82t2fQqn46QgliYwxy2N/rgSeAw4BEJFc4FTgye4+toiMAwRYApxhjDkTGCEiI3uaW6nu0kJJEhHpLSK7bP8eZwSx/YjNccBiY0xND57iZuBGIA/IiS2L4uxbUcoKLZTkGQjMFpEPgblAyBjzr9htU4AnWq8sIkNE5KVWf38CeBcYJSI1InJBq9u+D8wzxtQaY9YDC0QkDBQYYz5M7o+lVMd0H4pSyjU6QlFKuUbnoWQxfyBUCAyLfZW2+nM3dvxn03oI23Y4uwH4Ova1bPv31VXlG5MYW6Ux3eTxOH8g5ANGAwcDE4Dh7CiOfkl62gg7F832/UgfVVeV6wQ8D9NC8Rh/ILQLcCRwNHAYTokUWw21QyNOufwbmAXMrK4qX935XVQm0ULJcP5ASHAKpAKYBIxjx2HkdGeAj4GZwL+AV3QEk9m0UDKUPxAaB5wDnIWzCeMFa4FngcdxRi/65swwWigZxB8I7Q2cHfsaZTlOstXgzCR+vLqq/D+2w6j4aKGkOX8gtDvwI5zRyHjLcWxZgjMR8JHqqvKltsOojmmhpCl/IDQMuBa4ACi0HCddtABPA7+prioP2w6jvk0LJc34A6GRQABnVJJnOU66MsB04NfVVeXzbIdRO2ihpAl/IDQWuA44g8w5SpMOXsUpllm2gygtFOv8gdAhwPXAZJzTEajumYVTLK/aDpLNtFAsie1svR1nZ6tyzwzgouqq8k9tB8lGWigpFpuINhX4HbCr5ThetRX4DVBVXVXeZDtMNtFCSSF/IDQG+CvOzFaVfIuAC6urymfbDpIttFBSwB8IFQA34BwG1iM3qWWA+4Frq6vK19sO43VaKEnmD4SOA+4G9rKdJcutAK6srir/h+0gXqaFkiT+QKgXzk7XS2xnUTuZDpxXXVW+znYQL9JCSQJ/ILQnzozOCbazqHZVA6dXV5XPtx3Ea/QUkC7zB0KTgflomaQzPzDHHwjp6NFlOkJxSexwcBDn0hY6QS1zPIQzb2Wr7SBeoIXiAn8g1BvnjXma7SyqW94BTq2uKl9hO0im00LpIX8gVIazo+8A21lUjywDKqqryvW6Rj2ghdID/kBoX+ANnIt6qcy3GWekop8H6iYtlG7yB0L7AW/iXHJCeUcjcIqWSvfoUZ5uiJ1qQMvEmwqAf/oDoe/aDpKJtFASFCuTN9Ay8bLtpXK87SCZRgslAToyySoFwHQtlcRoocTJHwjtj1MmA2xnUSmjI5UEaaHEIVYmb6Blko0K0VKJmx7l6YI/ECrFmUq/u+0syqotwKTqqvK5toOkMx2hdCJ2HpPn0DJRzkjlWX8gpHOOOqGF0rl7gINsh1BpoxR42h8I6UmyOqCF0gF/IHQZUGk7h0o7E4HbbIdIV7oPpR3+QOho4HUg13YWlbbOq64qf8h2iHSjhdJG7BKg89G5JqpzjcCRepKmnekmTyutdsJqmaiuFADT/IGQvlda0ULZ2d3omdZU/MqAp/yBkF46NkYLJcYfCJUD59nOoTLOJOAq2yHShe5D4Zszrn2C8z+OUonaDOxbXVX+le0gtukIxfFrtExU9/UG7rIdIh1k/QjFHwhNAN4DdDtY9dRZ1VXlT9kOYVNWF0psZ9r7wDjbWZQn1AOjq6vKI7aD2JLtmzxXomWi3DMIqLIdwqasHaH4AyE/sBBn+1cptxicCW/v2A5iQzaPUO5Cy0S5T4B7s/UDhFlZKP5A6ATgJNs5lGftC2TlZU6zslCAm2wHUJ4X8AdChbZDpFrWFUpsRuyhtnMozxsMXGQ7RKplXaGgoxOVOj/PtlFKVhVKbHSiH/5TqTIIuNh2iFTKqkIBArYDqKzz02w64pM1heIPhL4DHGk7h8o6pcAU2yFSJWsKBbjWdgCVtX5mO0CqZMVMWX8gNBJYTHYVqEovJ1VXlf/Ldohky5ZfsPPJnp9VpacLbQdIhWz5JTvbdgCV9b7nD4RKbIdINs8Xij8QOhzw286hsl4v4FTbIZLN84UCnGM7gFIxnh8pe3qnrD8QygWWo9cmVumhBRhaXVW+wnaQZPH6COU4tExU+sgBzrQdIpm8Xijn2g6gVBue3gT37CZP7ENZK4Fi21mUamN4dVX5l7ZDJIOXRyiT0TJR6cmzO2e9XCjfsx1AqQ5U2A6QLF4ulCNsB1CqA+P8gVCB7RDJ4MlC8QdCuwN72c6hVAfygYNth0gGTxYKOjpR6e9w2wGSQQtFKTs8+R7VQlHKju/YDpAMnpuHEtvZFcHZTlUqnY2qrir/1HYIN3lxhHIwWiYqM3huJO3FQvHcP5LyLM/tmPVioRxiO4BScfLcfhQvFsqetgMoFafhtgO4zYuFMsx2AKXiVOgPhPrbDuEmTxWKPxAqAjz1D6Q8z1P/AXqqUPDYP47KCp56z2qhKGWXp96zXiuUMtsBlEqQFkoa89Q/jsoKnnrPeq1QdISiMo0WShrz1D+OygqltgO4yWuFMsB2AKUSNMh2ADd5rVD0Q4Eq03jqPeu1QsmzHUCpBOXaDuAmrxWKp9peZYfYJXM9wWuFoiMUlYk88771TDPGiO0AXtOfyOqqvPs/frFwQ2TrqtyC/app3qu+paj/xm39fc61elUP1fYeAJTbjuEKrxVKs+0AXjGUVXV/yLvn08N8iw4W4ejDtsmGSQeUrp5zoAwHyG02W4fX8+XYarN632WmpWylKSneQpkP+tnOnmn2iiyP2s7gFk+dU9YfCH2BB88xkUrDpfarO/LuXDZWvjxUZOd9Up/m5X152tBB/RHp09H9+0dM3ZhlZvnYr8ymkctN/m4RBua14BcdzXQmb5/Fizzxn6HXCmUxMMp2jky0v3zx2W15d60aIXWHinT8y/9Mce/3bhrQ7xBE4t68zGs2jSPq+HJsdXTNmGW0DFtlSnbZgl+grzvpM9s+ixd5ZlPda5s822wHyDSH+xZ+/Pu8v24ewpqDRRjZ1fqnb9p86Jyiwpmv9y46Ot7n2JYrBYuHsc/iYTv31ICIqdt3manZr9o0jKw1ebtFGJTbwh5ZNprZYjuAm7w2QpkJHGU7RyY4wTf3g1vy/sYA2TAu0fsaMMcPG/L+itxc18/fm7/NbNkxmjFm2Gr6FG9hT4ESt58rTdTss3hRlx8ZEZFhwMPAQMAA9xpj/thmnRLgUZzPtOUCfzDG/F1EjgFub7XqaGCKMeZ5EXkMGAu8aIy5LvY4NwALjTHPJ/rDeG2EUmM7QHoz5sycGe/fkPtoUR/ZknCRbCcg05bXjZpUVvrlNhFXz+HblCeFi8oYs6hs50HK7utN7ZhlpmZstWnYq9b0GrDhm9FMpk99WBPnes3A1caY/4jILsB8EXnNGPNJq3V+AnxijJksIrsBS0TkMWPMW8CBACLSD/gceFVE9ge2GGP2F5HXYoVUBBxqjPl1d34YLZQs4CPa8t85L793de7TuxVKkyujij5RU/J4bf3qM4YM2ojzBk+qlX1lyMq+MmTG/juW5W8zDSNrzZdjq83afZaZaOlq+hY34s+w0czqeFYyxtQBdbHvN4rIImAo0LpQDLCLOPu3ioG1fPvI5+nAy8aYBhHZBhSKiA9nLkwL8Cvgl939YbxWKF/bDpBO8mhuuix32tyLc14Yli8trl8DZnTTthE3rln375v773poIjtp3dKUJ0Uf7yH7frzHzssHrjM1Y5aZ2rHVZstetSa//wYG50YpS9PRzMpE7yAifmAc8F6bm/4CTAdqgV2As4wxbQ9JTwFuAzDGLBKRVcB/gEeAvQCfMeY/iWbazmuFoiMUoJCtDT/PfWLeD3NeH5kr0SOT+Vxnbtx02KzCgpkzEthJm2wrdpXSFbtK6VsH7FjWq8lsHllrqmOjGVO6hr69ndFMh4fAUySh96yIFAPPAlcaYza0ufkEYAFwLDACeE1EZm1fT0QG4+wveWX7HYwxV7Z67BeAi0TkeuAA4DVjzH2J5NNC8ZBd2By5Ke+hBd/3zdnXJyZlO6f/uHL1xOOGDZm3Kjf3oFQ9Z6K25kvvhX7Zd6G/1UJjzKB11IxZZpaPrTZb9qozBf03MDjHGc2kasS1PN4VRSQPp0weM8ZMa2eV84Eq4xxp+VxEvsTZATs3dvuZwHPGmG8dDRWRU4D5OJtKI4wxZ4rIK7F9MA3xZtRC8QBnevx9C4/z/WecCCkfKfjA99zyupGTykq/ahbZo+t7pAkRqe9HaX0/KX3zwB2LC5rMppHLY6OZrw2lq9m1aCt+cTYj3BZXocT2izwALDLG3NbBasuA/wJmichAnDlZS1vdfjbwi3YeOw+4Emf+/0icfTHgHL7PB7K2UFYATWTJp47bTI+fZDNLSdSUPFq7YuWUIQM3I9LbZpaeasyX4vCesl+49fErY8zgtSzb9ytTO/Yrs3V4nenVfyNDcqIM6+Fo5vM41zsC+BEQFpEFsWXXETvtqTHmHuBm4EERCeNk+rkxZjV8s99lGDCzncf+CfBQbEftR0BR7DFeMsasT+SH8dQ8FAB/IPQl4LedI5k6mx5v22N9it+t6t/Pc9fs7UjhVrNx5HJTvX+1WbfP10aGrKFv0Vb2FGfToStRoPc+ixc1JjtnqnixUN4Cu/9bJ0u80+Ntu2TgbjNnFxWmzU7alDPGDF3D17EjTY3D601Rv40MzolS2mY08/k+ixd1OTs5k3htkwdgHh4rlESnx9t254pVE/9r2ND5q3NzJtjOYoWILB9A2fIBUvba+B2LCxvNhlHLzVdjY6OZks0s3sdeyqTwYqG8azuAW3oyPd6m2E7a4ceUDf262ZkyroAtBdJnwQgZu2DEN4veDFvMkwxeLJR3bAfoGWPOyJn5/o25j/RoerxtfaPRXR+qW7Hy3MEDGxApsp0nTXV7Alm6SseZgz1SXVVeD3xpO0eifERbpuaE3lnU6/zPfp937yF9ZMt+tjP11P5bm0ZdvXb9gq7XzFrzbQdwmxdHKOCMUlz90FqyJHt6vG3nbdh4+Jyigpn/LszinbTtqw9XhuOe1JYpPDdCiUn7/SiFbG0I5j749qJe5625PPf5I/OlJXMmhCXonvpVR/ZrafHc8L6H3rAdIBm8PEJJS7amx9uUAznP1dTtcWzZ0JoWEU9derMHXul6lczj1RHKR8Am2yFa609k9X15t878qNf/59Sc2Uf7xGTVZVP7RaP9H6xbsQljPHWGsm4ywKu2QySD5ya2becPhN4EjrGdo830+Kw/2vFASZ85d/Tre4TtHJYtCFeGM/YIXme8OkIB+JfNJx8utV9Nz79+1uxeV/T/Ts6io7VMHBdENhxx0JbGt23nsMyTmzvg7UJ5kh2fmkyZ/eWLz17Pv/qdN/KvKd3f9+XEdPusTTq4r37l4SUtLdl8ONmTmzvg4U0eAH8gNAdIyaHYNtPjPXNZhGRZneNbddywodtaRIbYzpJim4F+4cpwk+0gyeDVozzbPUGSCyVTp8fbNqAlutv99Ss/OX/Q7v0QKbCdJ4Ve9mqZgLc3eQCexjnxrsuMOSNnxtyPel2w8K/5d4zTMumegxq3jvnJ+sg82zlS7EHbAZLJ05s8AP5A6DXgODceq9XZ4wcUStPebjymgh8NHvj2goJe2TAnpx4oDVeGk/CfXHrw+ggFnM2eHsmjuemnuU/NXtyrsuaGvMcO1zJx19/qVnynT0vLh7ZzpMCjXi4TyI5CmYZzWsiEZdP0eJvyIO/55XVDfM61Z7zs77YDJJvnN3kA/IHQ88Ap8a7fZnp8Vs1otem9gl4fTx20+16I9LKdJQneD1eGXb90a7rJhhEKxLkjLNunx9t2aOPWfS9av2Fu12tmpAdtB0gFrx823m468Bm0f/rENtPj9WP2Fl26PjLxncKCWeGCXhNtZ3HRZlzYl5cJsmKTB8AfCF0C3NV6WTqfPT6bNUHTpLLSJRtzfGNtZ3HJbeHK8NW2Q6RCtmzygDPkXAUwVpZ+9nr+NTo9Pk3lQ/5zy+t29xmzwnYWF2wF/mA7RKpkzQgF4IfXVf30d3n3nqXT4zPDnMKC8MUDdxuFSCYX/t3hyvCPbYdIlWwaofBo/m//PlTWjNIyyQxHbGkc+9+Rje/ZztEDzcDvbIdIpawqFIKRdcAfbcdQ8btq3fqJY7ZunWU7Rzc9Gq4Mf2U7RCplV6E4bgcitkOo+D1Su+KQ3tHox7ZzJCgK/NZ2iFTLvkIJRtajo5SMkg+9nqup6yfGrLKdJQFPhCvDn9oOkWrZVyiOW4Fa2yFU/Aa3tAz+y4pVtRizzXaWODQAv7AdwobsLJRgZANwhe0YKjFHbWk84EcbNqb9JVKA34crw1/bDmFDdhYKQDDyDPCi7RgqMdeuXX/UqK1Ns23n6MTXZNmRndayt1Acl+JMi1YZ5LG6+oOKotFPbOfowBXhynCnlwoRkb+JyEoRWdhq2Rki8rGIREXkoC7unyMiH4jIi62WPSYiS0RkYezx82LLT4s97iwR6R9bNkJEnuzZj9m+7C6UYOQrIGg7hkpML0PBtOV1fcWY1baztPFCuDL8XBzrPQic2GbZQuBUIJ4rAlwBLGqz7DFgNDAWKASmxpZfBhwM/BU4J7bs18ANcTxPwrK7UBx3ANl8BvaMNLS5ZcgdK1fXYEyz7SwxDTi/vF0yxrwNrG2zbJExZklX9xXnyovlwP1t7v+SiQHmAtuv0BgFegFFwDYRmQjUG2M+iydrorRQgpFm4CKcF15lkGMbthw4ZeOmdLnsbCBFk9juAK6lg/drbFPnR+y4LtVvgdeByTifeL4RuDlZ4bRQAIKRucDdtmOoxF2/Zt1RI5qa5liO8UK4MvznZD+JiJwMrDTGzO9ktbuAt40xswCMMa8ZYyYYYybjnGTsJWBvEXlGRO4TEVcvQKeFssN1wFLbIVTi/lG7YnxhNLrY0tPXAuen6LmOACpEpBr4B3CsiDy6/UYR+SWwG/DTtneMFcd5wJ3ATUAlMBs4182AWijbOXNTfoCzLawySIExhc8ury8WY9Z2vbarosC54crwmlQ8mTHmF8aYUmOMH5gCvGmM+SGAiEwFTgDONsa0tzn0M+BPxpkYWIhzVc0ouHuJXC2U1oKRj9ixd1xlkGHNzaW3rlxdjTGpPKv8b8OV4RmJ3klEngDeBUaJSI2IXCAiPxCRGuA7QEhEXomtO0REXorjYe8BBgLvisgCEfmfVs83BDjEGPN8bNGfgfeBi4HHE83fmaw6H0rcgiW3AVfZjqESF+zfb+azfYpTcRrPd4Cjw5XhdDnKlBZ0hNK+a4G3bIdQiQuuWXv0nk3bkn3kZxVwjpbJt+kIpSPBkt2A+cAw21FUYraINBxVNvTrRp9vVDIeHjg2XBn+dxIeO+PpCKUjwcgqnJmLjbajqMQUGlP0zPL6IjFmncsPvX0nrJZJB7RQOhOMzAOy5nygXrJHc/Ow/121ZqnLO2mvinNqfdbSQulKMPJ34H+6XE+lnRM3N0z4/qbNbn0y+Y5wZfhPLj2WZ2mhxCMYuRn9EGFGunn12qPLtm3r6TlUngWy4ro6PaU7ZRMRLAkCv7QdQyWmQWTzUWVDa7f6fO1eObILbwLl4cqw7kuLg45QEhGMBIFf2Y6hElNkTO+na+vzxZj1Cd41hJZJQrRQEhWM/BLnfBIqg+y5rXmP36xa8zntT0tvzzPAD7RMEqOF0h3ByI3ALbZjqMScvLnhoPLNDfFc4+cRYEq4MpwJJ8ROK7oPpSeCJbfgfEpZZQgD5nulQ96rycs9rINV7gF+HK4M6y9GN2ih9FSw5DKci4fl2I6i4rNZZNNRZaUrmnwyos1Nt4Yrw9dYCeURusnTU8HIn4HvAYnu8FOW9Dam+Mnaeh/GbL+C5DbgIi2TntNCcUMw8ipwGJCU83Qq9+21bdueN69euwRjVgLHhSvD99rO5AW6yeOmYMmuwMPAybajqLjMe3KX4lPPunp5Vl6UKxm0UNwWLBGcy1D+Ct2vks7uBq4iGNlqO4iXaKEkS7DkWJyzjO9uO4rayWbgIoKRx2wH8SLdh5IswcibwAHAU7ajqG/MBg7SMkkeHaGkQrCkHOfyBmW2o2SpdThn4XuAYETf8EmkhZIqwZLeOBdYuhzdt5JKj+PsK1lpO0g20EJJtWDJBOBeYLztKB63FPgxwcgrtoNkE92HkmrByHzgEJzza2y2nMaLmoEqYD8tk9TTEYpNwZIynLPB/T8gz3KaTGeAF4AbCEbCtsNkKy2UdOAUy7XABUCB5TSZJgo8DdyiRWKfFko6CZYMAq7BuaJbb8tp0t024FGgimDkU9thlEMLJR0FS/rjXLnwUqDEcpp00wg8APwvwcgy22HUzrRQ0lmwpAS4BDgf2NtyGtvqcT4ndTvBSL3tMKp9WiiZIlhyEHAOcBYwxHKaVFmPc8b5J4C3CEbiPX2jskQLJdMES3zAJJxyOQ3oazWP+xpwjtY8AbxMMNJkOY9KgBZKJguW5OOc3Ols4AQyd39LI/AGTon8k2Bkk+U8qpu0ULzCGbmMwxm9TAImkr4F0wC8C8wAZgJz9TQC3qCF4lXOeVlG48zKPQQ4GOfTz/kpTtICfAy8H/uaCywkGNEzynuQFko2cUYxg3A+9Tysna8yYCAgcT6iAVYBNcDXsa+aNn8u1/0g2UMLRe3M2S9Tws6l0tH363RTRbWmhaKUco1+2rgHRGSYiLwlIp+IyMcickVs+YEi8m8RWSAi80TkkA7uXyYir4rIothj+GPLLxWRz0XEiMiAVuufFnueWSLSP7ZshIg8mfyfVqk4GGP0q5tfwGBgfOz7XYBPgTHAq8BJseXfA2Z0cP8ZwPGx74uBotj34wA/UA0MaLN+EfBD4LLYsieAkbZfC/3SL2MMuUnuK08zxtQBdbHvN4rIImAozs7KPrHVSoDatvcVkTFArjHmtdj9v5l7YYz5ILZO27tFgV44pbJNRCYC9cYYvR6QSgtaKC6Jba6MA94DrgReEZE/4GxWHt7OXfYG1ovINGBP4HUgYIxp6eRpfhtbrxZnlPI0MMWlH0GpHtN9KC4QkWKcz5xcaYzZgPOBvquMMcNwPjX8QDt3y8WZfHYNzhyR4cB5nT2PMeY1Y8wEY8xk4BTgJWBvEXlGRO4TkSK3fialukMLpYdEJA+nTB4zxkyLLa4Etn//NM7EsrZqgAXGmKXGmGbgeeI8z2ysOM4D7gRuij3fbODcbv4YSrlCC6UHxNnJ8QCwyBhzW6ubaoGjY98fS/vXPH4f6Csiu7Va75M4n/pnwJ+MMduAQpx9NlGcfStKWaPzUHpARI4EZgFhnF9ogOuADcAfcTZrGoEfG2Pmi8hBwMXGmKmx+x8P3IozWWw+cKExpklELsc5JeQgYCXwUqv7DAHuM8aUx/5+BhDE+aj/940xq5L+gyvVAS0UpZRrdJNHKeUaLRSllGu0UJRSrtFCUUq5RgtFKeUaLRSllGu0UJRSrtFCUUq5RgtFKeUaLRSllGu0UJRSrtFCUUq5RgtFKeUaLRSllGu0UJRSrtFCUUq5RgtFKeUaLRSllGu0UJRSrtFCUUq5RgtFKeUaLRSllGu0UJRSrtFCUUq5RgtFKeUaLRSllGu0UJRSrsnt7Mb58+eX+ny+V6PR6GicC3orpbKX8fl8i6PR6HcnTJhQ094KnRaKz+d7ddCgQSMHDhwoPp8OZpTKZtFoVOrq6kYtW7bsvYqKivHTp09f0XadTlsiGo2OHjhwYK6WiVLK5/MxePBgX15e3hAgUFFR0e9b63TxGDoyUUp9w+fzISIAJcCIb92e8kRKKS8QIK/twk73obTlD4RcSwNQXVXe9TrV1Zx88sksXLgwoce+/vrrefjhh1m3bh2bNm3qbsSuBUtcfrxIl6t05zVpaGjgjDPO4IsvviAnJ4fJkydTVVXVk6TtGvvQWFcfL1wZ7nKd7r5HTjzxROrq6mhubmbixInceeed5OTkdDdqhxaN3sfVx9tn8aJOb+/u67FdRUUFS5cu7db9PTtCmTx5MnPnzrUdI61cc801LF68mA8++IA5c+bw8ssv245k1VNPPcWHH37IwoULWbVqFU8//bTtSNZNmzaN4uLibt8/owpl6dKljBs3jvfff7/LdQ877DAGDx6cglR2xfuaFBUVccwxxwCQn5/P+PHjqalp98hfRkvkPdKnTx8AmpubaWpq2r5vwFMSeT02bdrEbbfdxg033NDt50tok8emJUuWMGXKFB588EEKCgo48MAD211vxowZ9O3bN8Xp7Ojua7J+/XpeeOEFrrjiilRFTYnuvB4nnHACc+fO5aSTTuL0009PZdykS/T1uPHGG7n66qspKirq9nNmRKGsWrWKU045hWnTpjFmzBgAFixYYDmVXd19TZqbmzn77LO5/PLLGeiSSzoAAAJISURBVD58eLJjpkx3X49XXnmFxsZGzj33XN58802OP/74ZEdNiURfjwULFvDFF19w++23U11d3e3nzYhCKSkpoaysjNmzZzNmzBiWLFnCWWed1e662TJC6e5rcuGFFzJy5EiuvPLKVMZNup68RwoKCjjllFP45z//6ZlCSfT1ePfdd5k3bx5+v5/m5mZWrlzJpEmTmDFjRkLPmxGFkp+fz3PPPccJJ5xAcXEx55xzTtaPULrzmtxwww1EIhHuv//+FKVMnURfj02bNrFx40YGDx5Mc3MzoVCIiRMnpjBxciX6elxyySVccsklwI6jRImWCSRYKPEc5k2W3r178+KLL3L88cdTXFxMRUVFp+tfe+21PP744zQ0NFBaWsrUqVMJBoPuB4vjMG+yJPKa1NTUcMsttzB69GjGjx8PwKWXXsrUqVNdzRTPYd5kSeT12Lx5MxUVFWzdupVoNMoxxxzDxRdfnJRcXR3mTZZEf2fcIMaYDm+cP3++mTBhQtJDKKUyx/z587npppseBO6bPn36O61vy6jDxkqp9KaFopRyTVeFYqLRaEqCKKXSXzQapbPdJJ0Wis/nW1xfX9+ipaKUikaj1NXVRRsbG1cD7bZKp0d5otHod+vq6t6sra0d6cVpyUqp+BljaGxsXPvwww8/AgwANrRdp9NCmTBhQk1FRcUooBw4DWhJSlKlVCbZFZgBfOt4eKeHjberqKgQYBDQx+1kSqmM0wAsnz59+rf2hcRVKEopFQ89bKyUco0WilLKNVooSinX/B86PmXxMUbRaAAAAABJRU5ErkJggg==\n",
                  "text/plain": "<Figure size 432x288 with 1 Axes>"
                },
                "metadata": {}
              }
            ],
            "_view_module": "@jupyter-widgets/output",
            "_model_module_version": "1.0.0",
            "_view_count": null,
            "_view_module_version": "1.0.0",
            "layout": "IPY_MODEL_03e27546dd9b490ab3d680aceca5a1b2",
            "_model_module": "@jupyter-widgets/output"
          }
        },
        "b5cb96dca38144baac26d64eebf33f9d": {
          "model_module": "@jupyter-widgets/controls",
          "model_name": "SliderStyleModel",
          "model_module_version": "1.5.0",
          "state": {
            "_view_name": "StyleView",
            "handle_color": null,
            "_model_name": "SliderStyleModel",
            "description_width": "",
            "_view_module": "@jupyter-widgets/base",
            "_model_module_version": "1.5.0",
            "_view_count": null,
            "_view_module_version": "1.2.0",
            "_model_module": "@jupyter-widgets/controls"
          }
        },
        "0daedd6480ea44b2bcace10624a8506a": {
          "model_module": "@jupyter-widgets/base",
          "model_name": "LayoutModel",
          "model_module_version": "1.2.0",
          "state": {
            "_view_name": "LayoutView",
            "grid_template_rows": null,
            "right": null,
            "justify_content": null,
            "_view_module": "@jupyter-widgets/base",
            "overflow": null,
            "_model_module_version": "1.2.0",
            "_view_count": null,
            "flex_flow": null,
            "width": null,
            "min_width": null,
            "border": null,
            "align_items": null,
            "bottom": null,
            "_model_module": "@jupyter-widgets/base",
            "top": null,
            "grid_column": null,
            "overflow_y": null,
            "overflow_x": null,
            "grid_auto_flow": null,
            "grid_area": null,
            "grid_template_columns": null,
            "flex": null,
            "_model_name": "LayoutModel",
            "justify_items": null,
            "grid_row": null,
            "max_height": null,
            "align_content": null,
            "visibility": null,
            "align_self": null,
            "height": null,
            "min_height": null,
            "padding": null,
            "grid_auto_rows": null,
            "grid_gap": null,
            "max_width": null,
            "order": null,
            "_view_module_version": "1.2.0",
            "grid_template_areas": null,
            "object_position": null,
            "object_fit": null,
            "grid_auto_columns": null,
            "margin": null,
            "display": null,
            "left": null
          }
        },
        "34e87ef58fe0400fa75f680a57368977": {
          "model_module": "@jupyter-widgets/controls",
          "model_name": "SliderStyleModel",
          "model_module_version": "1.5.0",
          "state": {
            "_view_name": "StyleView",
            "handle_color": null,
            "_model_name": "SliderStyleModel",
            "description_width": "",
            "_view_module": "@jupyter-widgets/base",
            "_model_module_version": "1.5.0",
            "_view_count": null,
            "_view_module_version": "1.2.0",
            "_model_module": "@jupyter-widgets/controls"
          }
        },
        "69b9eea5ff4b43fab3079120c48ce677": {
          "model_module": "@jupyter-widgets/base",
          "model_name": "LayoutModel",
          "model_module_version": "1.2.0",
          "state": {
            "_view_name": "LayoutView",
            "grid_template_rows": null,
            "right": null,
            "justify_content": null,
            "_view_module": "@jupyter-widgets/base",
            "overflow": null,
            "_model_module_version": "1.2.0",
            "_view_count": null,
            "flex_flow": null,
            "width": null,
            "min_width": null,
            "border": null,
            "align_items": null,
            "bottom": null,
            "_model_module": "@jupyter-widgets/base",
            "top": null,
            "grid_column": null,
            "overflow_y": null,
            "overflow_x": null,
            "grid_auto_flow": null,
            "grid_area": null,
            "grid_template_columns": null,
            "flex": null,
            "_model_name": "LayoutModel",
            "justify_items": null,
            "grid_row": null,
            "max_height": null,
            "align_content": null,
            "visibility": null,
            "align_self": null,
            "height": null,
            "min_height": null,
            "padding": null,
            "grid_auto_rows": null,
            "grid_gap": null,
            "max_width": null,
            "order": null,
            "_view_module_version": "1.2.0",
            "grid_template_areas": null,
            "object_position": null,
            "object_fit": null,
            "grid_auto_columns": null,
            "margin": null,
            "display": null,
            "left": null
          }
        },
        "f6d0d882041543c198afa654b3d32dd2": {
          "model_module": "@jupyter-widgets/controls",
          "model_name": "ButtonStyleModel",
          "model_module_version": "1.5.0",
          "state": {
            "_view_name": "StyleView",
            "_model_name": "ButtonStyleModel",
            "_view_module": "@jupyter-widgets/base",
            "_model_module_version": "1.5.0",
            "_view_count": null,
            "button_color": null,
            "font_weight": "",
            "_view_module_version": "1.2.0",
            "_model_module": "@jupyter-widgets/controls"
          }
        },
        "6026b5c783054847b1fa874b2dc35d07": {
          "model_module": "@jupyter-widgets/base",
          "model_name": "LayoutModel",
          "model_module_version": "1.2.0",
          "state": {
            "_view_name": "LayoutView",
            "grid_template_rows": null,
            "right": null,
            "justify_content": null,
            "_view_module": "@jupyter-widgets/base",
            "overflow": null,
            "_model_module_version": "1.2.0",
            "_view_count": null,
            "flex_flow": null,
            "width": null,
            "min_width": null,
            "border": null,
            "align_items": null,
            "bottom": null,
            "_model_module": "@jupyter-widgets/base",
            "top": null,
            "grid_column": null,
            "overflow_y": null,
            "overflow_x": null,
            "grid_auto_flow": null,
            "grid_area": null,
            "grid_template_columns": null,
            "flex": null,
            "_model_name": "LayoutModel",
            "justify_items": null,
            "grid_row": null,
            "max_height": null,
            "align_content": null,
            "visibility": null,
            "align_self": null,
            "height": null,
            "min_height": null,
            "padding": null,
            "grid_auto_rows": null,
            "grid_gap": null,
            "max_width": null,
            "order": null,
            "_view_module_version": "1.2.0",
            "grid_template_areas": null,
            "object_position": null,
            "object_fit": null,
            "grid_auto_columns": null,
            "margin": null,
            "display": null,
            "left": null
          }
        },
        "03e27546dd9b490ab3d680aceca5a1b2": {
          "model_module": "@jupyter-widgets/base",
          "model_name": "LayoutModel",
          "model_module_version": "1.2.0",
          "state": {
            "_view_name": "LayoutView",
            "grid_template_rows": null,
            "right": null,
            "justify_content": null,
            "_view_module": "@jupyter-widgets/base",
            "overflow": null,
            "_model_module_version": "1.2.0",
            "_view_count": null,
            "flex_flow": null,
            "width": null,
            "min_width": null,
            "border": null,
            "align_items": null,
            "bottom": null,
            "_model_module": "@jupyter-widgets/base",
            "top": null,
            "grid_column": null,
            "overflow_y": null,
            "overflow_x": null,
            "grid_auto_flow": null,
            "grid_area": null,
            "grid_template_columns": null,
            "flex": null,
            "_model_name": "LayoutModel",
            "justify_items": null,
            "grid_row": null,
            "max_height": null,
            "align_content": null,
            "visibility": null,
            "align_self": null,
            "height": null,
            "min_height": null,
            "padding": null,
            "grid_auto_rows": null,
            "grid_gap": null,
            "max_width": null,
            "order": null,
            "_view_module_version": "1.2.0",
            "grid_template_areas": null,
            "object_position": null,
            "object_fit": null,
            "grid_auto_columns": null,
            "margin": null,
            "display": null,
            "left": null
          }
        },
        "bc0864570a9443fd8d32a68fe4eaf36f": {
          "model_module": "@jupyter-widgets/controls",
          "model_name": "VBoxModel",
          "model_module_version": "1.5.0",
          "state": {
            "_view_name": "VBoxView",
            "_dom_classes": [
              "widget-interact"
            ],
            "_model_name": "VBoxModel",
            "_view_module": "@jupyter-widgets/controls",
            "_model_module_version": "1.5.0",
            "_view_count": null,
            "_view_module_version": "1.5.0",
            "box_style": "",
            "layout": "IPY_MODEL_b81ebb31fe7a4505a49b204cc9bc858f",
            "_model_module": "@jupyter-widgets/controls",
            "children": [
              "IPY_MODEL_53bf31777a5b40d68ceb1bcf68a6c454",
              "IPY_MODEL_f5c3feac61794eecb501b480294bafab",
              "IPY_MODEL_50f67ecdde1c48c4855f0f0e2466d0e8",
              "IPY_MODEL_4bcfd25dcb6540508750f5a695cfa53a"
            ]
          }
        },
        "b81ebb31fe7a4505a49b204cc9bc858f": {
          "model_module": "@jupyter-widgets/base",
          "model_name": "LayoutModel",
          "model_module_version": "1.2.0",
          "state": {
            "_view_name": "LayoutView",
            "grid_template_rows": null,
            "right": null,
            "justify_content": null,
            "_view_module": "@jupyter-widgets/base",
            "overflow": null,
            "_model_module_version": "1.2.0",
            "_view_count": null,
            "flex_flow": null,
            "width": null,
            "min_width": null,
            "border": null,
            "align_items": null,
            "bottom": null,
            "_model_module": "@jupyter-widgets/base",
            "top": null,
            "grid_column": null,
            "overflow_y": null,
            "overflow_x": null,
            "grid_auto_flow": null,
            "grid_area": null,
            "grid_template_columns": null,
            "flex": null,
            "_model_name": "LayoutModel",
            "justify_items": null,
            "grid_row": null,
            "max_height": null,
            "align_content": null,
            "visibility": null,
            "align_self": null,
            "height": null,
            "min_height": null,
            "padding": null,
            "grid_auto_rows": null,
            "grid_gap": null,
            "max_width": null,
            "order": null,
            "_view_module_version": "1.2.0",
            "grid_template_areas": null,
            "object_position": null,
            "object_fit": null,
            "grid_auto_columns": null,
            "margin": null,
            "display": null,
            "left": null
          }
        },
        "53bf31777a5b40d68ceb1bcf68a6c454": {
          "model_module": "@jupyter-widgets/controls",
          "model_name": "IntSliderModel",
          "model_module_version": "1.5.0",
          "state": {
            "_view_name": "IntSliderView",
            "style": "IPY_MODEL_696d2d7528854e04a9c9e949239ccdda",
            "_dom_classes": [],
            "description": "bianche",
            "step": 1,
            "_model_name": "IntSliderModel",
            "orientation": "horizontal",
            "max": 5,
            "_view_module": "@jupyter-widgets/controls",
            "_model_module_version": "1.5.0",
            "value": 2,
            "_view_count": null,
            "disabled": false,
            "_view_module_version": "1.5.0",
            "min": 1,
            "continuous_update": true,
            "readout_format": "d",
            "description_tooltip": null,
            "readout": true,
            "_model_module": "@jupyter-widgets/controls",
            "layout": "IPY_MODEL_27583f84f9d84dbcbf46ee25a96bae94"
          }
        },
        "f5c3feac61794eecb501b480294bafab": {
          "model_module": "@jupyter-widgets/controls",
          "model_name": "IntSliderModel",
          "model_module_version": "1.5.0",
          "state": {
            "_view_name": "IntSliderView",
            "style": "IPY_MODEL_5cda169b41ca4be7ab023749bd09da90",
            "_dom_classes": [],
            "description": "rosse",
            "step": 1,
            "_model_name": "IntSliderModel",
            "orientation": "horizontal",
            "max": 5,
            "_view_module": "@jupyter-widgets/controls",
            "_model_module_version": "1.5.0",
            "value": 3,
            "_view_count": null,
            "disabled": false,
            "_view_module_version": "1.5.0",
            "min": 1,
            "continuous_update": true,
            "readout_format": "d",
            "description_tooltip": null,
            "readout": true,
            "_model_module": "@jupyter-widgets/controls",
            "layout": "IPY_MODEL_cbf10ae9e31b4167ba8e1542e3e5657e"
          }
        },
        "50f67ecdde1c48c4855f0f0e2466d0e8": {
          "model_module": "@jupyter-widgets/controls",
          "model_name": "ButtonModel",
          "model_module_version": "1.5.0",
          "state": {
            "_view_name": "ButtonView",
            "style": "IPY_MODEL_0ed5e53c9e5e4eb9bc8c20661e0f1c32",
            "_dom_classes": [],
            "description": "Run Interact",
            "_model_name": "ButtonModel",
            "button_style": "",
            "_view_module": "@jupyter-widgets/controls",
            "_model_module_version": "1.5.0",
            "tooltip": "",
            "_view_count": null,
            "disabled": false,
            "_view_module_version": "1.5.0",
            "layout": "IPY_MODEL_acdcd61debcb40fab430cd56df3ed2fd",
            "_model_module": "@jupyter-widgets/controls",
            "icon": ""
          }
        },
        "4bcfd25dcb6540508750f5a695cfa53a": {
          "model_module": "@jupyter-widgets/output",
          "model_name": "OutputModel",
          "model_module_version": "1.0.0",
          "state": {
            "_view_name": "OutputView",
            "msg_id": "",
            "_dom_classes": [],
            "_model_name": "OutputModel",
            "outputs": [
              {
                "output_type": "display_data",
                "data": {
                  "image/png": "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\n",
                  "text/plain": "<Figure size 432x288 with 1 Axes>"
                },
                "metadata": {
                  "needs_background": "light"
                }
              }
            ],
            "_view_module": "@jupyter-widgets/output",
            "_model_module_version": "1.0.0",
            "_view_count": null,
            "_view_module_version": "1.0.0",
            "layout": "IPY_MODEL_cc301070ece6415485e6dd85ee8c4eec",
            "_model_module": "@jupyter-widgets/output"
          }
        },
        "696d2d7528854e04a9c9e949239ccdda": {
          "model_module": "@jupyter-widgets/controls",
          "model_name": "SliderStyleModel",
          "model_module_version": "1.5.0",
          "state": {
            "_view_name": "StyleView",
            "handle_color": null,
            "_model_name": "SliderStyleModel",
            "description_width": "",
            "_view_module": "@jupyter-widgets/base",
            "_model_module_version": "1.5.0",
            "_view_count": null,
            "_view_module_version": "1.2.0",
            "_model_module": "@jupyter-widgets/controls"
          }
        },
        "27583f84f9d84dbcbf46ee25a96bae94": {
          "model_module": "@jupyter-widgets/base",
          "model_name": "LayoutModel",
          "model_module_version": "1.2.0",
          "state": {
            "_view_name": "LayoutView",
            "grid_template_rows": null,
            "right": null,
            "justify_content": null,
            "_view_module": "@jupyter-widgets/base",
            "overflow": null,
            "_model_module_version": "1.2.0",
            "_view_count": null,
            "flex_flow": null,
            "width": null,
            "min_width": null,
            "border": null,
            "align_items": null,
            "bottom": null,
            "_model_module": "@jupyter-widgets/base",
            "top": null,
            "grid_column": null,
            "overflow_y": null,
            "overflow_x": null,
            "grid_auto_flow": null,
            "grid_area": null,
            "grid_template_columns": null,
            "flex": null,
            "_model_name": "LayoutModel",
            "justify_items": null,
            "grid_row": null,
            "max_height": null,
            "align_content": null,
            "visibility": null,
            "align_self": null,
            "height": null,
            "min_height": null,
            "padding": null,
            "grid_auto_rows": null,
            "grid_gap": null,
            "max_width": null,
            "order": null,
            "_view_module_version": "1.2.0",
            "grid_template_areas": null,
            "object_position": null,
            "object_fit": null,
            "grid_auto_columns": null,
            "margin": null,
            "display": null,
            "left": null
          }
        },
        "5cda169b41ca4be7ab023749bd09da90": {
          "model_module": "@jupyter-widgets/controls",
          "model_name": "SliderStyleModel",
          "model_module_version": "1.5.0",
          "state": {
            "_view_name": "StyleView",
            "handle_color": null,
            "_model_name": "SliderStyleModel",
            "description_width": "",
            "_view_module": "@jupyter-widgets/base",
            "_model_module_version": "1.5.0",
            "_view_count": null,
            "_view_module_version": "1.2.0",
            "_model_module": "@jupyter-widgets/controls"
          }
        },
        "cbf10ae9e31b4167ba8e1542e3e5657e": {
          "model_module": "@jupyter-widgets/base",
          "model_name": "LayoutModel",
          "model_module_version": "1.2.0",
          "state": {
            "_view_name": "LayoutView",
            "grid_template_rows": null,
            "right": null,
            "justify_content": null,
            "_view_module": "@jupyter-widgets/base",
            "overflow": null,
            "_model_module_version": "1.2.0",
            "_view_count": null,
            "flex_flow": null,
            "width": null,
            "min_width": null,
            "border": null,
            "align_items": null,
            "bottom": null,
            "_model_module": "@jupyter-widgets/base",
            "top": null,
            "grid_column": null,
            "overflow_y": null,
            "overflow_x": null,
            "grid_auto_flow": null,
            "grid_area": null,
            "grid_template_columns": null,
            "flex": null,
            "_model_name": "LayoutModel",
            "justify_items": null,
            "grid_row": null,
            "max_height": null,
            "align_content": null,
            "visibility": null,
            "align_self": null,
            "height": null,
            "min_height": null,
            "padding": null,
            "grid_auto_rows": null,
            "grid_gap": null,
            "max_width": null,
            "order": null,
            "_view_module_version": "1.2.0",
            "grid_template_areas": null,
            "object_position": null,
            "object_fit": null,
            "grid_auto_columns": null,
            "margin": null,
            "display": null,
            "left": null
          }
        },
        "0ed5e53c9e5e4eb9bc8c20661e0f1c32": {
          "model_module": "@jupyter-widgets/controls",
          "model_name": "ButtonStyleModel",
          "model_module_version": "1.5.0",
          "state": {
            "_view_name": "StyleView",
            "_model_name": "ButtonStyleModel",
            "_view_module": "@jupyter-widgets/base",
            "_model_module_version": "1.5.0",
            "_view_count": null,
            "button_color": null,
            "font_weight": "",
            "_view_module_version": "1.2.0",
            "_model_module": "@jupyter-widgets/controls"
          }
        },
        "acdcd61debcb40fab430cd56df3ed2fd": {
          "model_module": "@jupyter-widgets/base",
          "model_name": "LayoutModel",
          "model_module_version": "1.2.0",
          "state": {
            "_view_name": "LayoutView",
            "grid_template_rows": null,
            "right": null,
            "justify_content": null,
            "_view_module": "@jupyter-widgets/base",
            "overflow": null,
            "_model_module_version": "1.2.0",
            "_view_count": null,
            "flex_flow": null,
            "width": null,
            "min_width": null,
            "border": null,
            "align_items": null,
            "bottom": null,
            "_model_module": "@jupyter-widgets/base",
            "top": null,
            "grid_column": null,
            "overflow_y": null,
            "overflow_x": null,
            "grid_auto_flow": null,
            "grid_area": null,
            "grid_template_columns": null,
            "flex": null,
            "_model_name": "LayoutModel",
            "justify_items": null,
            "grid_row": null,
            "max_height": null,
            "align_content": null,
            "visibility": null,
            "align_self": null,
            "height": null,
            "min_height": null,
            "padding": null,
            "grid_auto_rows": null,
            "grid_gap": null,
            "max_width": null,
            "order": null,
            "_view_module_version": "1.2.0",
            "grid_template_areas": null,
            "object_position": null,
            "object_fit": null,
            "grid_auto_columns": null,
            "margin": null,
            "display": null,
            "left": null
          }
        },
        "cc301070ece6415485e6dd85ee8c4eec": {
          "model_module": "@jupyter-widgets/base",
          "model_name": "LayoutModel",
          "model_module_version": "1.2.0",
          "state": {
            "_view_name": "LayoutView",
            "grid_template_rows": null,
            "right": null,
            "justify_content": null,
            "_view_module": "@jupyter-widgets/base",
            "overflow": null,
            "_model_module_version": "1.2.0",
            "_view_count": null,
            "flex_flow": null,
            "width": null,
            "min_width": null,
            "border": null,
            "align_items": null,
            "bottom": null,
            "_model_module": "@jupyter-widgets/base",
            "top": null,
            "grid_column": null,
            "overflow_y": null,
            "overflow_x": null,
            "grid_auto_flow": null,
            "grid_area": null,
            "grid_template_columns": null,
            "flex": null,
            "_model_name": "LayoutModel",
            "justify_items": null,
            "grid_row": null,
            "max_height": null,
            "align_content": null,
            "visibility": null,
            "align_self": null,
            "height": null,
            "min_height": null,
            "padding": null,
            "grid_auto_rows": null,
            "grid_gap": null,
            "max_width": null,
            "order": null,
            "_view_module_version": "1.2.0",
            "grid_template_areas": null,
            "object_position": null,
            "object_fit": null,
            "grid_auto_columns": null,
            "margin": null,
            "display": null,
            "left": null
          }
        },
        "719e534973fa4aaf8a4a56a2a716dacc": {
          "model_module": "@jupyter-widgets/controls",
          "model_name": "VBoxModel",
          "model_module_version": "1.5.0",
          "state": {
            "_view_name": "VBoxView",
            "_dom_classes": [
              "widget-interact"
            ],
            "_model_name": "VBoxModel",
            "_view_module": "@jupyter-widgets/controls",
            "_model_module_version": "1.5.0",
            "_view_count": null,
            "_view_module_version": "1.5.0",
            "box_style": "",
            "layout": "IPY_MODEL_9d1fe8e9f83f414083734c9a2f729785",
            "_model_module": "@jupyter-widgets/controls",
            "children": [
              "IPY_MODEL_ed1b4e83bfe745cc8355f17b7745a703",
              "IPY_MODEL_d0e2f6d067164447a137c50d080e9091",
              "IPY_MODEL_0c4c6931323a4f958f6eb7c40a2db0d7"
            ]
          }
        },
        "9d1fe8e9f83f414083734c9a2f729785": {
          "model_module": "@jupyter-widgets/base",
          "model_name": "LayoutModel",
          "model_module_version": "1.2.0",
          "state": {
            "_view_name": "LayoutView",
            "grid_template_rows": null,
            "right": null,
            "justify_content": null,
            "_view_module": "@jupyter-widgets/base",
            "overflow": null,
            "_model_module_version": "1.2.0",
            "_view_count": null,
            "flex_flow": null,
            "width": null,
            "min_width": null,
            "border": null,
            "align_items": null,
            "bottom": null,
            "_model_module": "@jupyter-widgets/base",
            "top": null,
            "grid_column": null,
            "overflow_y": null,
            "overflow_x": null,
            "grid_auto_flow": null,
            "grid_area": null,
            "grid_template_columns": null,
            "flex": null,
            "_model_name": "LayoutModel",
            "justify_items": null,
            "grid_row": null,
            "max_height": null,
            "align_content": null,
            "visibility": null,
            "align_self": null,
            "height": null,
            "min_height": null,
            "padding": null,
            "grid_auto_rows": null,
            "grid_gap": null,
            "max_width": null,
            "order": null,
            "_view_module_version": "1.2.0",
            "grid_template_areas": null,
            "object_position": null,
            "object_fit": null,
            "grid_auto_columns": null,
            "margin": null,
            "display": null,
            "left": null
          }
        },
        "ed1b4e83bfe745cc8355f17b7745a703": {
          "model_module": "@jupyter-widgets/controls",
          "model_name": "IntSliderModel",
          "model_module_version": "1.5.0",
          "state": {
            "_view_name": "IntSliderView",
            "style": "IPY_MODEL_4b32da800229429c8233bb5a03c26392",
            "_dom_classes": [],
            "description": "tempo",
            "step": 1,
            "_model_name": "IntSliderModel",
            "orientation": "horizontal",
            "max": 20,
            "_view_module": "@jupyter-widgets/controls",
            "_model_module_version": "1.5.0",
            "value": 10,
            "_view_count": null,
            "disabled": false,
            "_view_module_version": "1.5.0",
            "min": 1,
            "continuous_update": true,
            "readout_format": "d",
            "description_tooltip": null,
            "readout": true,
            "_model_module": "@jupyter-widgets/controls",
            "layout": "IPY_MODEL_68e583691b494cf9a7dcb5ca52147e01"
          }
        },
        "d0e2f6d067164447a137c50d080e9091": {
          "model_module": "@jupyter-widgets/controls",
          "model_name": "ButtonModel",
          "model_module_version": "1.5.0",
          "state": {
            "_view_name": "ButtonView",
            "style": "IPY_MODEL_14812740a9184ec78825c710cc178c74",
            "_dom_classes": [],
            "description": "Run Interact",
            "_model_name": "ButtonModel",
            "button_style": "",
            "_view_module": "@jupyter-widgets/controls",
            "_model_module_version": "1.5.0",
            "tooltip": "",
            "_view_count": null,
            "disabled": false,
            "_view_module_version": "1.5.0",
            "layout": "IPY_MODEL_568f36313c2d4ae8a8fbcf1b98565850",
            "_model_module": "@jupyter-widgets/controls",
            "icon": ""
          }
        },
        "0c4c6931323a4f958f6eb7c40a2db0d7": {
          "model_module": "@jupyter-widgets/output",
          "model_name": "OutputModel",
          "model_module_version": "1.0.0",
          "state": {
            "_view_name": "OutputView",
            "msg_id": "",
            "_dom_classes": [],
            "_model_name": "OutputModel",
            "outputs": [],
            "_view_module": "@jupyter-widgets/output",
            "_model_module_version": "1.0.0",
            "_view_count": null,
            "_view_module_version": "1.0.0",
            "layout": "IPY_MODEL_31e60f7caa494b8082b0aa61b548dc0a",
            "_model_module": "@jupyter-widgets/output"
          }
        },
        "4b32da800229429c8233bb5a03c26392": {
          "model_module": "@jupyter-widgets/controls",
          "model_name": "SliderStyleModel",
          "model_module_version": "1.5.0",
          "state": {
            "_view_name": "StyleView",
            "handle_color": null,
            "_model_name": "SliderStyleModel",
            "description_width": "",
            "_view_module": "@jupyter-widgets/base",
            "_model_module_version": "1.5.0",
            "_view_count": null,
            "_view_module_version": "1.2.0",
            "_model_module": "@jupyter-widgets/controls"
          }
        },
        "68e583691b494cf9a7dcb5ca52147e01": {
          "model_module": "@jupyter-widgets/base",
          "model_name": "LayoutModel",
          "model_module_version": "1.2.0",
          "state": {
            "_view_name": "LayoutView",
            "grid_template_rows": null,
            "right": null,
            "justify_content": null,
            "_view_module": "@jupyter-widgets/base",
            "overflow": null,
            "_model_module_version": "1.2.0",
            "_view_count": null,
            "flex_flow": null,
            "width": null,
            "min_width": null,
            "border": null,
            "align_items": null,
            "bottom": null,
            "_model_module": "@jupyter-widgets/base",
            "top": null,
            "grid_column": null,
            "overflow_y": null,
            "overflow_x": null,
            "grid_auto_flow": null,
            "grid_area": null,
            "grid_template_columns": null,
            "flex": null,
            "_model_name": "LayoutModel",
            "justify_items": null,
            "grid_row": null,
            "max_height": null,
            "align_content": null,
            "visibility": null,
            "align_self": null,
            "height": null,
            "min_height": null,
            "padding": null,
            "grid_auto_rows": null,
            "grid_gap": null,
            "max_width": null,
            "order": null,
            "_view_module_version": "1.2.0",
            "grid_template_areas": null,
            "object_position": null,
            "object_fit": null,
            "grid_auto_columns": null,
            "margin": null,
            "display": null,
            "left": null
          }
        },
        "14812740a9184ec78825c710cc178c74": {
          "model_module": "@jupyter-widgets/controls",
          "model_name": "ButtonStyleModel",
          "model_module_version": "1.5.0",
          "state": {
            "_view_name": "StyleView",
            "_model_name": "ButtonStyleModel",
            "_view_module": "@jupyter-widgets/base",
            "_model_module_version": "1.5.0",
            "_view_count": null,
            "button_color": null,
            "font_weight": "",
            "_view_module_version": "1.2.0",
            "_model_module": "@jupyter-widgets/controls"
          }
        },
        "568f36313c2d4ae8a8fbcf1b98565850": {
          "model_module": "@jupyter-widgets/base",
          "model_name": "LayoutModel",
          "model_module_version": "1.2.0",
          "state": {
            "_view_name": "LayoutView",
            "grid_template_rows": null,
            "right": null,
            "justify_content": null,
            "_view_module": "@jupyter-widgets/base",
            "overflow": null,
            "_model_module_version": "1.2.0",
            "_view_count": null,
            "flex_flow": null,
            "width": null,
            "min_width": null,
            "border": null,
            "align_items": null,
            "bottom": null,
            "_model_module": "@jupyter-widgets/base",
            "top": null,
            "grid_column": null,
            "overflow_y": null,
            "overflow_x": null,
            "grid_auto_flow": null,
            "grid_area": null,
            "grid_template_columns": null,
            "flex": null,
            "_model_name": "LayoutModel",
            "justify_items": null,
            "grid_row": null,
            "max_height": null,
            "align_content": null,
            "visibility": null,
            "align_self": null,
            "height": null,
            "min_height": null,
            "padding": null,
            "grid_auto_rows": null,
            "grid_gap": null,
            "max_width": null,
            "order": null,
            "_view_module_version": "1.2.0",
            "grid_template_areas": null,
            "object_position": null,
            "object_fit": null,
            "grid_auto_columns": null,
            "margin": null,
            "display": null,
            "left": null
          }
        },
        "31e60f7caa494b8082b0aa61b548dc0a": {
          "model_module": "@jupyter-widgets/base",
          "model_name": "LayoutModel",
          "model_module_version": "1.2.0",
          "state": {
            "_view_name": "LayoutView",
            "grid_template_rows": null,
            "right": null,
            "justify_content": null,
            "_view_module": "@jupyter-widgets/base",
            "overflow": null,
            "_model_module_version": "1.2.0",
            "_view_count": null,
            "flex_flow": null,
            "width": null,
            "min_width": null,
            "border": null,
            "align_items": null,
            "bottom": null,
            "_model_module": "@jupyter-widgets/base",
            "top": null,
            "grid_column": null,
            "overflow_y": null,
            "overflow_x": null,
            "grid_auto_flow": null,
            "grid_area": null,
            "grid_template_columns": null,
            "flex": null,
            "_model_name": "LayoutModel",
            "justify_items": null,
            "grid_row": null,
            "max_height": null,
            "align_content": null,
            "visibility": null,
            "align_self": null,
            "height": null,
            "min_height": null,
            "padding": null,
            "grid_auto_rows": null,
            "grid_gap": null,
            "max_width": null,
            "order": null,
            "_view_module_version": "1.2.0",
            "grid_template_areas": null,
            "object_position": null,
            "object_fit": null,
            "grid_auto_columns": null,
            "margin": null,
            "display": null,
            "left": null
          }
        },
        "8f77af4e54094811a3884b28da305f40": {
          "model_module": "@jupyter-widgets/controls",
          "model_name": "VBoxModel",
          "model_module_version": "1.5.0",
          "state": {
            "_view_name": "VBoxView",
            "_dom_classes": [
              "widget-interact"
            ],
            "_model_name": "VBoxModel",
            "_view_module": "@jupyter-widgets/controls",
            "_model_module_version": "1.5.0",
            "_view_count": null,
            "_view_module_version": "1.5.0",
            "box_style": "",
            "layout": "IPY_MODEL_f3c44a84cf2e47b09b052c24dc1f4d14",
            "_model_module": "@jupyter-widgets/controls",
            "children": [
              "IPY_MODEL_4f0636ec1e774961a82d583416d137b0",
              "IPY_MODEL_d85babffec2a4f93857b5ddebb102372",
              "IPY_MODEL_212ed544d012484ab515eb3379507690",
              "IPY_MODEL_ad8cb89872744934a52070e3cd58152e"
            ]
          }
        },
        "f3c44a84cf2e47b09b052c24dc1f4d14": {
          "model_module": "@jupyter-widgets/base",
          "model_name": "LayoutModel",
          "model_module_version": "1.2.0",
          "state": {
            "_view_name": "LayoutView",
            "grid_template_rows": null,
            "right": null,
            "justify_content": null,
            "_view_module": "@jupyter-widgets/base",
            "overflow": null,
            "_model_module_version": "1.2.0",
            "_view_count": null,
            "flex_flow": null,
            "width": null,
            "min_width": null,
            "border": null,
            "align_items": null,
            "bottom": null,
            "_model_module": "@jupyter-widgets/base",
            "top": null,
            "grid_column": null,
            "overflow_y": null,
            "overflow_x": null,
            "grid_auto_flow": null,
            "grid_area": null,
            "grid_template_columns": null,
            "flex": null,
            "_model_name": "LayoutModel",
            "justify_items": null,
            "grid_row": null,
            "max_height": null,
            "align_content": null,
            "visibility": null,
            "align_self": null,
            "height": null,
            "min_height": null,
            "padding": null,
            "grid_auto_rows": null,
            "grid_gap": null,
            "max_width": null,
            "order": null,
            "_view_module_version": "1.2.0",
            "grid_template_areas": null,
            "object_position": null,
            "object_fit": null,
            "grid_auto_columns": null,
            "margin": null,
            "display": null,
            "left": null
          }
        },
        "4f0636ec1e774961a82d583416d137b0": {
          "model_module": "@jupyter-widgets/controls",
          "model_name": "IntSliderModel",
          "model_module_version": "1.5.0",
          "state": {
            "_view_name": "IntSliderView",
            "style": "IPY_MODEL_18f8a377814a436ba99768911fc1e63e",
            "_dom_classes": [],
            "description": "a",
            "step": 1,
            "_model_name": "IntSliderModel",
            "orientation": "horizontal",
            "max": 10,
            "_view_module": "@jupyter-widgets/controls",
            "_model_module_version": "1.5.0",
            "value": 4,
            "_view_count": null,
            "disabled": false,
            "_view_module_version": "1.5.0",
            "min": 0,
            "continuous_update": true,
            "readout_format": "d",
            "description_tooltip": null,
            "readout": true,
            "_model_module": "@jupyter-widgets/controls",
            "layout": "IPY_MODEL_d2c1a6e75e424aacb75ff30eb6e653ee"
          }
        },
        "d85babffec2a4f93857b5ddebb102372": {
          "model_module": "@jupyter-widgets/controls",
          "model_name": "IntSliderModel",
          "model_module_version": "1.5.0",
          "state": {
            "_view_name": "IntSliderView",
            "style": "IPY_MODEL_a969c2e2f7e742278bccdc40b15c4e8b",
            "_dom_classes": [],
            "description": "b",
            "step": 1,
            "_model_name": "IntSliderModel",
            "orientation": "horizontal",
            "max": 10,
            "_view_module": "@jupyter-widgets/controls",
            "_model_module_version": "1.5.0",
            "value": 6,
            "_view_count": null,
            "disabled": false,
            "_view_module_version": "1.5.0",
            "min": 0,
            "continuous_update": true,
            "readout_format": "d",
            "description_tooltip": null,
            "readout": true,
            "_model_module": "@jupyter-widgets/controls",
            "layout": "IPY_MODEL_5d1a7f066c0a45338b242bd296564282"
          }
        },
        "212ed544d012484ab515eb3379507690": {
          "model_module": "@jupyter-widgets/controls",
          "model_name": "ButtonModel",
          "model_module_version": "1.5.0",
          "state": {
            "_view_name": "ButtonView",
            "style": "IPY_MODEL_800ce203e4e74e8db6479675c5f1d307",
            "_dom_classes": [],
            "description": "Run Interact",
            "_model_name": "ButtonModel",
            "button_style": "",
            "_view_module": "@jupyter-widgets/controls",
            "_model_module_version": "1.5.0",
            "tooltip": "",
            "_view_count": null,
            "disabled": false,
            "_view_module_version": "1.5.0",
            "layout": "IPY_MODEL_1ab0025602dc47c28506455aa136d2da",
            "_model_module": "@jupyter-widgets/controls",
            "icon": ""
          }
        },
        "ad8cb89872744934a52070e3cd58152e": {
          "model_module": "@jupyter-widgets/output",
          "model_name": "OutputModel",
          "model_module_version": "1.0.0",
          "state": {
            "_view_name": "OutputView",
            "msg_id": "",
            "_dom_classes": [],
            "_model_name": "OutputModel",
            "outputs": [],
            "_view_module": "@jupyter-widgets/output",
            "_model_module_version": "1.0.0",
            "_view_count": null,
            "_view_module_version": "1.0.0",
            "layout": "IPY_MODEL_d3f15dbaa72a4fc0972562f5db7fb14a",
            "_model_module": "@jupyter-widgets/output"
          }
        },
        "18f8a377814a436ba99768911fc1e63e": {
          "model_module": "@jupyter-widgets/controls",
          "model_name": "SliderStyleModel",
          "model_module_version": "1.5.0",
          "state": {
            "_view_name": "StyleView",
            "handle_color": null,
            "_model_name": "SliderStyleModel",
            "description_width": "",
            "_view_module": "@jupyter-widgets/base",
            "_model_module_version": "1.5.0",
            "_view_count": null,
            "_view_module_version": "1.2.0",
            "_model_module": "@jupyter-widgets/controls"
          }
        },
        "d2c1a6e75e424aacb75ff30eb6e653ee": {
          "model_module": "@jupyter-widgets/base",
          "model_name": "LayoutModel",
          "model_module_version": "1.2.0",
          "state": {
            "_view_name": "LayoutView",
            "grid_template_rows": null,
            "right": null,
            "justify_content": null,
            "_view_module": "@jupyter-widgets/base",
            "overflow": null,
            "_model_module_version": "1.2.0",
            "_view_count": null,
            "flex_flow": null,
            "width": null,
            "min_width": null,
            "border": null,
            "align_items": null,
            "bottom": null,
            "_model_module": "@jupyter-widgets/base",
            "top": null,
            "grid_column": null,
            "overflow_y": null,
            "overflow_x": null,
            "grid_auto_flow": null,
            "grid_area": null,
            "grid_template_columns": null,
            "flex": null,
            "_model_name": "LayoutModel",
            "justify_items": null,
            "grid_row": null,
            "max_height": null,
            "align_content": null,
            "visibility": null,
            "align_self": null,
            "height": null,
            "min_height": null,
            "padding": null,
            "grid_auto_rows": null,
            "grid_gap": null,
            "max_width": null,
            "order": null,
            "_view_module_version": "1.2.0",
            "grid_template_areas": null,
            "object_position": null,
            "object_fit": null,
            "grid_auto_columns": null,
            "margin": null,
            "display": null,
            "left": null
          }
        },
        "a969c2e2f7e742278bccdc40b15c4e8b": {
          "model_module": "@jupyter-widgets/controls",
          "model_name": "SliderStyleModel",
          "model_module_version": "1.5.0",
          "state": {
            "_view_name": "StyleView",
            "handle_color": null,
            "_model_name": "SliderStyleModel",
            "description_width": "",
            "_view_module": "@jupyter-widgets/base",
            "_model_module_version": "1.5.0",
            "_view_count": null,
            "_view_module_version": "1.2.0",
            "_model_module": "@jupyter-widgets/controls"
          }
        },
        "5d1a7f066c0a45338b242bd296564282": {
          "model_module": "@jupyter-widgets/base",
          "model_name": "LayoutModel",
          "model_module_version": "1.2.0",
          "state": {
            "_view_name": "LayoutView",
            "grid_template_rows": null,
            "right": null,
            "justify_content": null,
            "_view_module": "@jupyter-widgets/base",
            "overflow": null,
            "_model_module_version": "1.2.0",
            "_view_count": null,
            "flex_flow": null,
            "width": null,
            "min_width": null,
            "border": null,
            "align_items": null,
            "bottom": null,
            "_model_module": "@jupyter-widgets/base",
            "top": null,
            "grid_column": null,
            "overflow_y": null,
            "overflow_x": null,
            "grid_auto_flow": null,
            "grid_area": null,
            "grid_template_columns": null,
            "flex": null,
            "_model_name": "LayoutModel",
            "justify_items": null,
            "grid_row": null,
            "max_height": null,
            "align_content": null,
            "visibility": null,
            "align_self": null,
            "height": null,
            "min_height": null,
            "padding": null,
            "grid_auto_rows": null,
            "grid_gap": null,
            "max_width": null,
            "order": null,
            "_view_module_version": "1.2.0",
            "grid_template_areas": null,
            "object_position": null,
            "object_fit": null,
            "grid_auto_columns": null,
            "margin": null,
            "display": null,
            "left": null
          }
        },
        "800ce203e4e74e8db6479675c5f1d307": {
          "model_module": "@jupyter-widgets/controls",
          "model_name": "ButtonStyleModel",
          "model_module_version": "1.5.0",
          "state": {
            "_view_name": "StyleView",
            "_model_name": "ButtonStyleModel",
            "_view_module": "@jupyter-widgets/base",
            "_model_module_version": "1.5.0",
            "_view_count": null,
            "button_color": null,
            "font_weight": "",
            "_view_module_version": "1.2.0",
            "_model_module": "@jupyter-widgets/controls"
          }
        },
        "1ab0025602dc47c28506455aa136d2da": {
          "model_module": "@jupyter-widgets/base",
          "model_name": "LayoutModel",
          "model_module_version": "1.2.0",
          "state": {
            "_view_name": "LayoutView",
            "grid_template_rows": null,
            "right": null,
            "justify_content": null,
            "_view_module": "@jupyter-widgets/base",
            "overflow": null,
            "_model_module_version": "1.2.0",
            "_view_count": null,
            "flex_flow": null,
            "width": null,
            "min_width": null,
            "border": null,
            "align_items": null,
            "bottom": null,
            "_model_module": "@jupyter-widgets/base",
            "top": null,
            "grid_column": null,
            "overflow_y": null,
            "overflow_x": null,
            "grid_auto_flow": null,
            "grid_area": null,
            "grid_template_columns": null,
            "flex": null,
            "_model_name": "LayoutModel",
            "justify_items": null,
            "grid_row": null,
            "max_height": null,
            "align_content": null,
            "visibility": null,
            "align_self": null,
            "height": null,
            "min_height": null,
            "padding": null,
            "grid_auto_rows": null,
            "grid_gap": null,
            "max_width": null,
            "order": null,
            "_view_module_version": "1.2.0",
            "grid_template_areas": null,
            "object_position": null,
            "object_fit": null,
            "grid_auto_columns": null,
            "margin": null,
            "display": null,
            "left": null
          }
        },
        "d3f15dbaa72a4fc0972562f5db7fb14a": {
          "model_module": "@jupyter-widgets/base",
          "model_name": "LayoutModel",
          "model_module_version": "1.2.0",
          "state": {
            "_view_name": "LayoutView",
            "grid_template_rows": null,
            "right": null,
            "justify_content": null,
            "_view_module": "@jupyter-widgets/base",
            "overflow": null,
            "_model_module_version": "1.2.0",
            "_view_count": null,
            "flex_flow": null,
            "width": null,
            "min_width": null,
            "border": null,
            "align_items": null,
            "bottom": null,
            "_model_module": "@jupyter-widgets/base",
            "top": null,
            "grid_column": null,
            "overflow_y": null,
            "overflow_x": null,
            "grid_auto_flow": null,
            "grid_area": null,
            "grid_template_columns": null,
            "flex": null,
            "_model_name": "LayoutModel",
            "justify_items": null,
            "grid_row": null,
            "max_height": null,
            "align_content": null,
            "visibility": null,
            "align_self": null,
            "height": null,
            "min_height": null,
            "padding": null,
            "grid_auto_rows": null,
            "grid_gap": null,
            "max_width": null,
            "order": null,
            "_view_module_version": "1.2.0",
            "grid_template_areas": null,
            "object_position": null,
            "object_fit": null,
            "grid_auto_columns": null,
            "margin": null,
            "display": null,
            "left": null
          }
        },
        "cc010519c7ef49ce9b3629d15f475ecc": {
          "model_module": "@jupyter-widgets/controls",
          "model_name": "VBoxModel",
          "model_module_version": "1.5.0",
          "state": {
            "_view_name": "VBoxView",
            "_dom_classes": [
              "widget-interact"
            ],
            "_model_name": "VBoxModel",
            "_view_module": "@jupyter-widgets/controls",
            "_model_module_version": "1.5.0",
            "_view_count": null,
            "_view_module_version": "1.5.0",
            "box_style": "",
            "layout": "IPY_MODEL_76e994cc35db4b88955fb34e14b4aabf",
            "_model_module": "@jupyter-widgets/controls",
            "children": [
              "IPY_MODEL_1c4962f53fc746ce83ebd584ae41ed9c",
              "IPY_MODEL_9ffb4b4eeb394c3887774e090af96cc7",
              "IPY_MODEL_5b355d2acccf4f92a379581bfd83f367"
            ]
          }
        },
        "76e994cc35db4b88955fb34e14b4aabf": {
          "model_module": "@jupyter-widgets/base",
          "model_name": "LayoutModel",
          "model_module_version": "1.2.0",
          "state": {
            "_view_name": "LayoutView",
            "grid_template_rows": null,
            "right": null,
            "justify_content": null,
            "_view_module": "@jupyter-widgets/base",
            "overflow": null,
            "_model_module_version": "1.2.0",
            "_view_count": null,
            "flex_flow": null,
            "width": null,
            "min_width": null,
            "border": null,
            "align_items": null,
            "bottom": null,
            "_model_module": "@jupyter-widgets/base",
            "top": null,
            "grid_column": null,
            "overflow_y": null,
            "overflow_x": null,
            "grid_auto_flow": null,
            "grid_area": null,
            "grid_template_columns": null,
            "flex": null,
            "_model_name": "LayoutModel",
            "justify_items": null,
            "grid_row": null,
            "max_height": null,
            "align_content": null,
            "visibility": null,
            "align_self": null,
            "height": null,
            "min_height": null,
            "padding": null,
            "grid_auto_rows": null,
            "grid_gap": null,
            "max_width": null,
            "order": null,
            "_view_module_version": "1.2.0",
            "grid_template_areas": null,
            "object_position": null,
            "object_fit": null,
            "grid_auto_columns": null,
            "margin": null,
            "display": null,
            "left": null
          }
        },
        "1c4962f53fc746ce83ebd584ae41ed9c": {
          "model_module": "@jupyter-widgets/controls",
          "model_name": "IntSliderModel",
          "model_module_version": "1.5.0",
          "state": {
            "_view_name": "IntSliderView",
            "style": "IPY_MODEL_6d1a1cdddf8f486ca2583ee44a074fa5",
            "_dom_classes": [],
            "description": "ore",
            "step": 1,
            "_model_name": "IntSliderModel",
            "orientation": "horizontal",
            "max": 72,
            "_view_module": "@jupyter-widgets/controls",
            "_model_module_version": "1.5.0",
            "value": 3,
            "_view_count": null,
            "disabled": false,
            "_view_module_version": "1.5.0",
            "min": 0,
            "continuous_update": true,
            "readout_format": "d",
            "description_tooltip": null,
            "readout": true,
            "_model_module": "@jupyter-widgets/controls",
            "layout": "IPY_MODEL_a5f4089c93ac46f1b88426030b95052b"
          }
        },
        "9ffb4b4eeb394c3887774e090af96cc7": {
          "model_module": "@jupyter-widgets/controls",
          "model_name": "ButtonModel",
          "model_module_version": "1.5.0",
          "state": {
            "_view_name": "ButtonView",
            "style": "IPY_MODEL_73a1cbc1989c443a9760f3b1adb262ce",
            "_dom_classes": [],
            "description": "Run Interact",
            "_model_name": "ButtonModel",
            "button_style": "",
            "_view_module": "@jupyter-widgets/controls",
            "_model_module_version": "1.5.0",
            "tooltip": "",
            "_view_count": null,
            "disabled": false,
            "_view_module_version": "1.5.0",
            "layout": "IPY_MODEL_57302a0c8a6b40f59974ab1991c641bf",
            "_model_module": "@jupyter-widgets/controls",
            "icon": ""
          }
        },
        "5b355d2acccf4f92a379581bfd83f367": {
          "model_module": "@jupyter-widgets/output",
          "model_name": "OutputModel",
          "model_module_version": "1.0.0",
          "state": {
            "_view_name": "OutputView",
            "msg_id": "",
            "_dom_classes": [],
            "_model_name": "OutputModel",
            "outputs": [],
            "_view_module": "@jupyter-widgets/output",
            "_model_module_version": "1.0.0",
            "_view_count": null,
            "_view_module_version": "1.0.0",
            "layout": "IPY_MODEL_2c502571944548f9b849ff47eb8ef19e",
            "_model_module": "@jupyter-widgets/output"
          }
        },
        "6d1a1cdddf8f486ca2583ee44a074fa5": {
          "model_module": "@jupyter-widgets/controls",
          "model_name": "SliderStyleModel",
          "model_module_version": "1.5.0",
          "state": {
            "_view_name": "StyleView",
            "handle_color": null,
            "_model_name": "SliderStyleModel",
            "description_width": "",
            "_view_module": "@jupyter-widgets/base",
            "_model_module_version": "1.5.0",
            "_view_count": null,
            "_view_module_version": "1.2.0",
            "_model_module": "@jupyter-widgets/controls"
          }
        },
        "a5f4089c93ac46f1b88426030b95052b": {
          "model_module": "@jupyter-widgets/base",
          "model_name": "LayoutModel",
          "model_module_version": "1.2.0",
          "state": {
            "_view_name": "LayoutView",
            "grid_template_rows": null,
            "right": null,
            "justify_content": null,
            "_view_module": "@jupyter-widgets/base",
            "overflow": null,
            "_model_module_version": "1.2.0",
            "_view_count": null,
            "flex_flow": null,
            "width": null,
            "min_width": null,
            "border": null,
            "align_items": null,
            "bottom": null,
            "_model_module": "@jupyter-widgets/base",
            "top": null,
            "grid_column": null,
            "overflow_y": null,
            "overflow_x": null,
            "grid_auto_flow": null,
            "grid_area": null,
            "grid_template_columns": null,
            "flex": null,
            "_model_name": "LayoutModel",
            "justify_items": null,
            "grid_row": null,
            "max_height": null,
            "align_content": null,
            "visibility": null,
            "align_self": null,
            "height": null,
            "min_height": null,
            "padding": null,
            "grid_auto_rows": null,
            "grid_gap": null,
            "max_width": null,
            "order": null,
            "_view_module_version": "1.2.0",
            "grid_template_areas": null,
            "object_position": null,
            "object_fit": null,
            "grid_auto_columns": null,
            "margin": null,
            "display": null,
            "left": null
          }
        },
        "73a1cbc1989c443a9760f3b1adb262ce": {
          "model_module": "@jupyter-widgets/controls",
          "model_name": "ButtonStyleModel",
          "model_module_version": "1.5.0",
          "state": {
            "_view_name": "StyleView",
            "_model_name": "ButtonStyleModel",
            "_view_module": "@jupyter-widgets/base",
            "_model_module_version": "1.5.0",
            "_view_count": null,
            "button_color": null,
            "font_weight": "",
            "_view_module_version": "1.2.0",
            "_model_module": "@jupyter-widgets/controls"
          }
        },
        "57302a0c8a6b40f59974ab1991c641bf": {
          "model_module": "@jupyter-widgets/base",
          "model_name": "LayoutModel",
          "model_module_version": "1.2.0",
          "state": {
            "_view_name": "LayoutView",
            "grid_template_rows": null,
            "right": null,
            "justify_content": null,
            "_view_module": "@jupyter-widgets/base",
            "overflow": null,
            "_model_module_version": "1.2.0",
            "_view_count": null,
            "flex_flow": null,
            "width": null,
            "min_width": null,
            "border": null,
            "align_items": null,
            "bottom": null,
            "_model_module": "@jupyter-widgets/base",
            "top": null,
            "grid_column": null,
            "overflow_y": null,
            "overflow_x": null,
            "grid_auto_flow": null,
            "grid_area": null,
            "grid_template_columns": null,
            "flex": null,
            "_model_name": "LayoutModel",
            "justify_items": null,
            "grid_row": null,
            "max_height": null,
            "align_content": null,
            "visibility": null,
            "align_self": null,
            "height": null,
            "min_height": null,
            "padding": null,
            "grid_auto_rows": null,
            "grid_gap": null,
            "max_width": null,
            "order": null,
            "_view_module_version": "1.2.0",
            "grid_template_areas": null,
            "object_position": null,
            "object_fit": null,
            "grid_auto_columns": null,
            "margin": null,
            "display": null,
            "left": null
          }
        },
        "2c502571944548f9b849ff47eb8ef19e": {
          "model_module": "@jupyter-widgets/base",
          "model_name": "LayoutModel",
          "model_module_version": "1.2.0",
          "state": {
            "_view_name": "LayoutView",
            "grid_template_rows": null,
            "right": null,
            "justify_content": null,
            "_view_module": "@jupyter-widgets/base",
            "overflow": null,
            "_model_module_version": "1.2.0",
            "_view_count": null,
            "flex_flow": null,
            "width": null,
            "min_width": null,
            "border": null,
            "align_items": null,
            "bottom": null,
            "_model_module": "@jupyter-widgets/base",
            "top": null,
            "grid_column": null,
            "overflow_y": null,
            "overflow_x": null,
            "grid_auto_flow": null,
            "grid_area": null,
            "grid_template_columns": null,
            "flex": null,
            "_model_name": "LayoutModel",
            "justify_items": null,
            "grid_row": null,
            "max_height": null,
            "align_content": null,
            "visibility": null,
            "align_self": null,
            "height": null,
            "min_height": null,
            "padding": null,
            "grid_auto_rows": null,
            "grid_gap": null,
            "max_width": null,
            "order": null,
            "_view_module_version": "1.2.0",
            "grid_template_areas": null,
            "object_position": null,
            "object_fit": null,
            "grid_auto_columns": null,
            "margin": null,
            "display": null,
            "left": null
          }
        },
        "13870e3889514f36a482e6d0f6f1ae61": {
          "model_module": "@jupyter-widgets/controls",
          "model_name": "VBoxModel",
          "model_module_version": "1.5.0",
          "state": {
            "_view_name": "VBoxView",
            "_dom_classes": [
              "widget-interact"
            ],
            "_model_name": "VBoxModel",
            "_view_module": "@jupyter-widgets/controls",
            "_model_module_version": "1.5.0",
            "_view_count": null,
            "_view_module_version": "1.5.0",
            "box_style": "",
            "layout": "IPY_MODEL_2c85d5264f434cdfbf7d9980a536d014",
            "_model_module": "@jupyter-widgets/controls",
            "children": [
              "IPY_MODEL_eed4334dc31548fa87c813586b90748e",
              "IPY_MODEL_a26ecea9ec4b46fe88d2eb326b619769",
              "IPY_MODEL_86a78029e3b2491fa7376f49610711f2"
            ]
          }
        },
        "2c85d5264f434cdfbf7d9980a536d014": {
          "model_module": "@jupyter-widgets/base",
          "model_name": "LayoutModel",
          "model_module_version": "1.2.0",
          "state": {
            "_view_name": "LayoutView",
            "grid_template_rows": null,
            "right": null,
            "justify_content": null,
            "_view_module": "@jupyter-widgets/base",
            "overflow": null,
            "_model_module_version": "1.2.0",
            "_view_count": null,
            "flex_flow": null,
            "width": null,
            "min_width": null,
            "border": null,
            "align_items": null,
            "bottom": null,
            "_model_module": "@jupyter-widgets/base",
            "top": null,
            "grid_column": null,
            "overflow_y": null,
            "overflow_x": null,
            "grid_auto_flow": null,
            "grid_area": null,
            "grid_template_columns": null,
            "flex": null,
            "_model_name": "LayoutModel",
            "justify_items": null,
            "grid_row": null,
            "max_height": null,
            "align_content": null,
            "visibility": null,
            "align_self": null,
            "height": null,
            "min_height": null,
            "padding": null,
            "grid_auto_rows": null,
            "grid_gap": null,
            "max_width": null,
            "order": null,
            "_view_module_version": "1.2.0",
            "grid_template_areas": null,
            "object_position": null,
            "object_fit": null,
            "grid_auto_columns": null,
            "margin": null,
            "display": null,
            "left": null
          }
        },
        "eed4334dc31548fa87c813586b90748e": {
          "model_module": "@jupyter-widgets/controls",
          "model_name": "IntSliderModel",
          "model_module_version": "1.5.0",
          "state": {
            "_view_name": "IntSliderView",
            "style": "IPY_MODEL_037dc85bd7d3404bab74c4f82b1f5b84",
            "_dom_classes": [],
            "description": "λ",
            "step": 1,
            "_model_name": "IntSliderModel",
            "orientation": "horizontal",
            "max": 10,
            "_view_module": "@jupyter-widgets/controls",
            "_model_module_version": "1.5.0",
            "value": 2,
            "_view_count": null,
            "disabled": false,
            "_view_module_version": "1.5.0",
            "min": 2,
            "continuous_update": true,
            "readout_format": "d",
            "description_tooltip": null,
            "readout": true,
            "_model_module": "@jupyter-widgets/controls",
            "layout": "IPY_MODEL_558ea8a04e6a4650b6fdf906d416bb88"
          }
        },
        "a26ecea9ec4b46fe88d2eb326b619769": {
          "model_module": "@jupyter-widgets/controls",
          "model_name": "ButtonModel",
          "model_module_version": "1.5.0",
          "state": {
            "_view_name": "ButtonView",
            "style": "IPY_MODEL_f2d95c0d29854bc9995957e392cd956b",
            "_dom_classes": [],
            "description": "Run Interact",
            "_model_name": "ButtonModel",
            "button_style": "",
            "_view_module": "@jupyter-widgets/controls",
            "_model_module_version": "1.5.0",
            "tooltip": "",
            "_view_count": null,
            "disabled": false,
            "_view_module_version": "1.5.0",
            "layout": "IPY_MODEL_0c59de823bf2428888c0f87a6ed72954",
            "_model_module": "@jupyter-widgets/controls",
            "icon": ""
          }
        },
        "86a78029e3b2491fa7376f49610711f2": {
          "model_module": "@jupyter-widgets/output",
          "model_name": "OutputModel",
          "model_module_version": "1.0.0",
          "state": {
            "_view_name": "OutputView",
            "msg_id": "",
            "_dom_classes": [],
            "_model_name": "OutputModel",
            "outputs": [],
            "_view_module": "@jupyter-widgets/output",
            "_model_module_version": "1.0.0",
            "_view_count": null,
            "_view_module_version": "1.0.0",
            "layout": "IPY_MODEL_628356204aaa40eb8cd72aa9fbf486a9",
            "_model_module": "@jupyter-widgets/output"
          }
        },
        "037dc85bd7d3404bab74c4f82b1f5b84": {
          "model_module": "@jupyter-widgets/controls",
          "model_name": "SliderStyleModel",
          "model_module_version": "1.5.0",
          "state": {
            "_view_name": "StyleView",
            "handle_color": null,
            "_model_name": "SliderStyleModel",
            "description_width": "",
            "_view_module": "@jupyter-widgets/base",
            "_model_module_version": "1.5.0",
            "_view_count": null,
            "_view_module_version": "1.2.0",
            "_model_module": "@jupyter-widgets/controls"
          }
        },
        "558ea8a04e6a4650b6fdf906d416bb88": {
          "model_module": "@jupyter-widgets/base",
          "model_name": "LayoutModel",
          "model_module_version": "1.2.0",
          "state": {
            "_view_name": "LayoutView",
            "grid_template_rows": null,
            "right": null,
            "justify_content": null,
            "_view_module": "@jupyter-widgets/base",
            "overflow": null,
            "_model_module_version": "1.2.0",
            "_view_count": null,
            "flex_flow": null,
            "width": null,
            "min_width": null,
            "border": null,
            "align_items": null,
            "bottom": null,
            "_model_module": "@jupyter-widgets/base",
            "top": null,
            "grid_column": null,
            "overflow_y": null,
            "overflow_x": null,
            "grid_auto_flow": null,
            "grid_area": null,
            "grid_template_columns": null,
            "flex": null,
            "_model_name": "LayoutModel",
            "justify_items": null,
            "grid_row": null,
            "max_height": null,
            "align_content": null,
            "visibility": null,
            "align_self": null,
            "height": null,
            "min_height": null,
            "padding": null,
            "grid_auto_rows": null,
            "grid_gap": null,
            "max_width": null,
            "order": null,
            "_view_module_version": "1.2.0",
            "grid_template_areas": null,
            "object_position": null,
            "object_fit": null,
            "grid_auto_columns": null,
            "margin": null,
            "display": null,
            "left": null
          }
        },
        "f2d95c0d29854bc9995957e392cd956b": {
          "model_module": "@jupyter-widgets/controls",
          "model_name": "ButtonStyleModel",
          "model_module_version": "1.5.0",
          "state": {
            "_view_name": "StyleView",
            "_model_name": "ButtonStyleModel",
            "_view_module": "@jupyter-widgets/base",
            "_model_module_version": "1.5.0",
            "_view_count": null,
            "button_color": null,
            "font_weight": "",
            "_view_module_version": "1.2.0",
            "_model_module": "@jupyter-widgets/controls"
          }
        },
        "0c59de823bf2428888c0f87a6ed72954": {
          "model_module": "@jupyter-widgets/base",
          "model_name": "LayoutModel",
          "model_module_version": "1.2.0",
          "state": {
            "_view_name": "LayoutView",
            "grid_template_rows": null,
            "right": null,
            "justify_content": null,
            "_view_module": "@jupyter-widgets/base",
            "overflow": null,
            "_model_module_version": "1.2.0",
            "_view_count": null,
            "flex_flow": null,
            "width": null,
            "min_width": null,
            "border": null,
            "align_items": null,
            "bottom": null,
            "_model_module": "@jupyter-widgets/base",
            "top": null,
            "grid_column": null,
            "overflow_y": null,
            "overflow_x": null,
            "grid_auto_flow": null,
            "grid_area": null,
            "grid_template_columns": null,
            "flex": null,
            "_model_name": "LayoutModel",
            "justify_items": null,
            "grid_row": null,
            "max_height": null,
            "align_content": null,
            "visibility": null,
            "align_self": null,
            "height": null,
            "min_height": null,
            "padding": null,
            "grid_auto_rows": null,
            "grid_gap": null,
            "max_width": null,
            "order": null,
            "_view_module_version": "1.2.0",
            "grid_template_areas": null,
            "object_position": null,
            "object_fit": null,
            "grid_auto_columns": null,
            "margin": null,
            "display": null,
            "left": null
          }
        },
        "628356204aaa40eb8cd72aa9fbf486a9": {
          "model_module": "@jupyter-widgets/base",
          "model_name": "LayoutModel",
          "model_module_version": "1.2.0",
          "state": {
            "_view_name": "LayoutView",
            "grid_template_rows": null,
            "right": null,
            "justify_content": null,
            "_view_module": "@jupyter-widgets/base",
            "overflow": null,
            "_model_module_version": "1.2.0",
            "_view_count": null,
            "flex_flow": null,
            "width": null,
            "min_width": null,
            "border": null,
            "align_items": null,
            "bottom": null,
            "_model_module": "@jupyter-widgets/base",
            "top": null,
            "grid_column": null,
            "overflow_y": null,
            "overflow_x": null,
            "grid_auto_flow": null,
            "grid_area": null,
            "grid_template_columns": null,
            "flex": null,
            "_model_name": "LayoutModel",
            "justify_items": null,
            "grid_row": null,
            "max_height": null,
            "align_content": null,
            "visibility": null,
            "align_self": null,
            "height": null,
            "min_height": null,
            "padding": null,
            "grid_auto_rows": null,
            "grid_gap": null,
            "max_width": null,
            "order": null,
            "_view_module_version": "1.2.0",
            "grid_template_areas": null,
            "object_position": null,
            "object_fit": null,
            "grid_auto_columns": null,
            "margin": null,
            "display": null,
            "left": null
          }
        },
        "eb071237ce1a4007838402b318e954d7": {
          "model_module": "@jupyter-widgets/controls",
          "model_name": "VBoxModel",
          "model_module_version": "1.5.0",
          "state": {
            "_view_name": "VBoxView",
            "_dom_classes": [
              "widget-interact"
            ],
            "_model_name": "VBoxModel",
            "_view_module": "@jupyter-widgets/controls",
            "_model_module_version": "1.5.0",
            "_view_count": null,
            "_view_module_version": "1.5.0",
            "box_style": "",
            "layout": "IPY_MODEL_042d4b46b94041caa3e865541bd989f6",
            "_model_module": "@jupyter-widgets/controls",
            "children": [
              "IPY_MODEL_6d40ddf937e247bf88be3d378b558274",
              "IPY_MODEL_e49c103859a545dfb2a98a849e9ff456",
              "IPY_MODEL_86f9efff274e460ca8edd0f0a4d31af5",
              "IPY_MODEL_0c6ca578e93d4124871120f015e19d4a"
            ]
          }
        },
        "042d4b46b94041caa3e865541bd989f6": {
          "model_module": "@jupyter-widgets/base",
          "model_name": "LayoutModel",
          "model_module_version": "1.2.0",
          "state": {
            "_view_name": "LayoutView",
            "grid_template_rows": null,
            "right": null,
            "justify_content": null,
            "_view_module": "@jupyter-widgets/base",
            "overflow": null,
            "_model_module_version": "1.2.0",
            "_view_count": null,
            "flex_flow": null,
            "width": null,
            "min_width": null,
            "border": null,
            "align_items": null,
            "bottom": null,
            "_model_module": "@jupyter-widgets/base",
            "top": null,
            "grid_column": null,
            "overflow_y": null,
            "overflow_x": null,
            "grid_auto_flow": null,
            "grid_area": null,
            "grid_template_columns": null,
            "flex": null,
            "_model_name": "LayoutModel",
            "justify_items": null,
            "grid_row": null,
            "max_height": null,
            "align_content": null,
            "visibility": null,
            "align_self": null,
            "height": null,
            "min_height": null,
            "padding": null,
            "grid_auto_rows": null,
            "grid_gap": null,
            "max_width": null,
            "order": null,
            "_view_module_version": "1.2.0",
            "grid_template_areas": null,
            "object_position": null,
            "object_fit": null,
            "grid_auto_columns": null,
            "margin": null,
            "display": null,
            "left": null
          }
        },
        "6d40ddf937e247bf88be3d378b558274": {
          "model_module": "@jupyter-widgets/controls",
          "model_name": "IntSliderModel",
          "model_module_version": "1.5.0",
          "state": {
            "_view_name": "IntSliderView",
            "style": "IPY_MODEL_5b965adb09394e958c856a9273a4fe49",
            "_dom_classes": [],
            "description": "ore",
            "step": 1,
            "_model_name": "IntSliderModel",
            "orientation": "horizontal",
            "max": 72,
            "_view_module": "@jupyter-widgets/controls",
            "_model_module_version": "1.5.0",
            "value": 10,
            "_view_count": null,
            "disabled": false,
            "_view_module_version": "1.5.0",
            "min": 0,
            "continuous_update": true,
            "readout_format": "d",
            "description_tooltip": null,
            "readout": true,
            "_model_module": "@jupyter-widgets/controls",
            "layout": "IPY_MODEL_f4d9ac0efb4d4b86b1cd41aadcd74384"
          }
        },
        "e49c103859a545dfb2a98a849e9ff456": {
          "model_module": "@jupyter-widgets/controls",
          "model_name": "IntSliderModel",
          "model_module_version": "1.5.0",
          "state": {
            "_view_name": "IntSliderView",
            "style": "IPY_MODEL_adb8d2a1287c4ba59ef35c5076f9d8d0",
            "_dom_classes": [],
            "description": "λ",
            "step": 1,
            "_model_name": "IntSliderModel",
            "orientation": "horizontal",
            "max": 10,
            "_view_module": "@jupyter-widgets/controls",
            "_model_module_version": "1.5.0",
            "value": 2,
            "_view_count": null,
            "disabled": false,
            "_view_module_version": "1.5.0",
            "min": 2,
            "continuous_update": true,
            "readout_format": "d",
            "description_tooltip": null,
            "readout": true,
            "_model_module": "@jupyter-widgets/controls",
            "layout": "IPY_MODEL_a3d7bf408f004f889b480829073a2b09"
          }
        },
        "86f9efff274e460ca8edd0f0a4d31af5": {
          "model_module": "@jupyter-widgets/controls",
          "model_name": "ButtonModel",
          "model_module_version": "1.5.0",
          "state": {
            "_view_name": "ButtonView",
            "style": "IPY_MODEL_f8b7ba6fd0a34fe98e1484f9022f2d47",
            "_dom_classes": [],
            "description": "Run Interact",
            "_model_name": "ButtonModel",
            "button_style": "",
            "_view_module": "@jupyter-widgets/controls",
            "_model_module_version": "1.5.0",
            "tooltip": "",
            "_view_count": null,
            "disabled": false,
            "_view_module_version": "1.5.0",
            "layout": "IPY_MODEL_22673b598c5d4791a6ecdc6f800759f7",
            "_model_module": "@jupyter-widgets/controls",
            "icon": ""
          }
        },
        "0c6ca578e93d4124871120f015e19d4a": {
          "model_module": "@jupyter-widgets/output",
          "model_name": "OutputModel",
          "model_module_version": "1.0.0",
          "state": {
            "_view_name": "OutputView",
            "msg_id": "",
            "_dom_classes": [],
            "_model_name": "OutputModel",
            "outputs": [],
            "_view_module": "@jupyter-widgets/output",
            "_model_module_version": "1.0.0",
            "_view_count": null,
            "_view_module_version": "1.0.0",
            "layout": "IPY_MODEL_c8b789f867e045baa9c19844e789f93f",
            "_model_module": "@jupyter-widgets/output"
          }
        },
        "5b965adb09394e958c856a9273a4fe49": {
          "model_module": "@jupyter-widgets/controls",
          "model_name": "SliderStyleModel",
          "model_module_version": "1.5.0",
          "state": {
            "_view_name": "StyleView",
            "handle_color": null,
            "_model_name": "SliderStyleModel",
            "description_width": "",
            "_view_module": "@jupyter-widgets/base",
            "_model_module_version": "1.5.0",
            "_view_count": null,
            "_view_module_version": "1.2.0",
            "_model_module": "@jupyter-widgets/controls"
          }
        },
        "f4d9ac0efb4d4b86b1cd41aadcd74384": {
          "model_module": "@jupyter-widgets/base",
          "model_name": "LayoutModel",
          "model_module_version": "1.2.0",
          "state": {
            "_view_name": "LayoutView",
            "grid_template_rows": null,
            "right": null,
            "justify_content": null,
            "_view_module": "@jupyter-widgets/base",
            "overflow": null,
            "_model_module_version": "1.2.0",
            "_view_count": null,
            "flex_flow": null,
            "width": null,
            "min_width": null,
            "border": null,
            "align_items": null,
            "bottom": null,
            "_model_module": "@jupyter-widgets/base",
            "top": null,
            "grid_column": null,
            "overflow_y": null,
            "overflow_x": null,
            "grid_auto_flow": null,
            "grid_area": null,
            "grid_template_columns": null,
            "flex": null,
            "_model_name": "LayoutModel",
            "justify_items": null,
            "grid_row": null,
            "max_height": null,
            "align_content": null,
            "visibility": null,
            "align_self": null,
            "height": null,
            "min_height": null,
            "padding": null,
            "grid_auto_rows": null,
            "grid_gap": null,
            "max_width": null,
            "order": null,
            "_view_module_version": "1.2.0",
            "grid_template_areas": null,
            "object_position": null,
            "object_fit": null,
            "grid_auto_columns": null,
            "margin": null,
            "display": null,
            "left": null
          }
        },
        "adb8d2a1287c4ba59ef35c5076f9d8d0": {
          "model_module": "@jupyter-widgets/controls",
          "model_name": "SliderStyleModel",
          "model_module_version": "1.5.0",
          "state": {
            "_view_name": "StyleView",
            "handle_color": null,
            "_model_name": "SliderStyleModel",
            "description_width": "",
            "_view_module": "@jupyter-widgets/base",
            "_model_module_version": "1.5.0",
            "_view_count": null,
            "_view_module_version": "1.2.0",
            "_model_module": "@jupyter-widgets/controls"
          }
        },
        "a3d7bf408f004f889b480829073a2b09": {
          "model_module": "@jupyter-widgets/base",
          "model_name": "LayoutModel",
          "model_module_version": "1.2.0",
          "state": {
            "_view_name": "LayoutView",
            "grid_template_rows": null,
            "right": null,
            "justify_content": null,
            "_view_module": "@jupyter-widgets/base",
            "overflow": null,
            "_model_module_version": "1.2.0",
            "_view_count": null,
            "flex_flow": null,
            "width": null,
            "min_width": null,
            "border": null,
            "align_items": null,
            "bottom": null,
            "_model_module": "@jupyter-widgets/base",
            "top": null,
            "grid_column": null,
            "overflow_y": null,
            "overflow_x": null,
            "grid_auto_flow": null,
            "grid_area": null,
            "grid_template_columns": null,
            "flex": null,
            "_model_name": "LayoutModel",
            "justify_items": null,
            "grid_row": null,
            "max_height": null,
            "align_content": null,
            "visibility": null,
            "align_self": null,
            "height": null,
            "min_height": null,
            "padding": null,
            "grid_auto_rows": null,
            "grid_gap": null,
            "max_width": null,
            "order": null,
            "_view_module_version": "1.2.0",
            "grid_template_areas": null,
            "object_position": null,
            "object_fit": null,
            "grid_auto_columns": null,
            "margin": null,
            "display": null,
            "left": null
          }
        },
        "f8b7ba6fd0a34fe98e1484f9022f2d47": {
          "model_module": "@jupyter-widgets/controls",
          "model_name": "ButtonStyleModel",
          "model_module_version": "1.5.0",
          "state": {
            "_view_name": "StyleView",
            "_model_name": "ButtonStyleModel",
            "_view_module": "@jupyter-widgets/base",
            "_model_module_version": "1.5.0",
            "_view_count": null,
            "button_color": null,
            "font_weight": "",
            "_view_module_version": "1.2.0",
            "_model_module": "@jupyter-widgets/controls"
          }
        },
        "22673b598c5d4791a6ecdc6f800759f7": {
          "model_module": "@jupyter-widgets/base",
          "model_name": "LayoutModel",
          "model_module_version": "1.2.0",
          "state": {
            "_view_name": "LayoutView",
            "grid_template_rows": null,
            "right": null,
            "justify_content": null,
            "_view_module": "@jupyter-widgets/base",
            "overflow": null,
            "_model_module_version": "1.2.0",
            "_view_count": null,
            "flex_flow": null,
            "width": null,
            "min_width": null,
            "border": null,
            "align_items": null,
            "bottom": null,
            "_model_module": "@jupyter-widgets/base",
            "top": null,
            "grid_column": null,
            "overflow_y": null,
            "overflow_x": null,
            "grid_auto_flow": null,
            "grid_area": null,
            "grid_template_columns": null,
            "flex": null,
            "_model_name": "LayoutModel",
            "justify_items": null,
            "grid_row": null,
            "max_height": null,
            "align_content": null,
            "visibility": null,
            "align_self": null,
            "height": null,
            "min_height": null,
            "padding": null,
            "grid_auto_rows": null,
            "grid_gap": null,
            "max_width": null,
            "order": null,
            "_view_module_version": "1.2.0",
            "grid_template_areas": null,
            "object_position": null,
            "object_fit": null,
            "grid_auto_columns": null,
            "margin": null,
            "display": null,
            "left": null
          }
        },
        "c8b789f867e045baa9c19844e789f93f": {
          "model_module": "@jupyter-widgets/base",
          "model_name": "LayoutModel",
          "model_module_version": "1.2.0",
          "state": {
            "_view_name": "LayoutView",
            "grid_template_rows": null,
            "right": null,
            "justify_content": null,
            "_view_module": "@jupyter-widgets/base",
            "overflow": null,
            "_model_module_version": "1.2.0",
            "_view_count": null,
            "flex_flow": null,
            "width": null,
            "min_width": null,
            "border": null,
            "align_items": null,
            "bottom": null,
            "_model_module": "@jupyter-widgets/base",
            "top": null,
            "grid_column": null,
            "overflow_y": null,
            "overflow_x": null,
            "grid_auto_flow": null,
            "grid_area": null,
            "grid_template_columns": null,
            "flex": null,
            "_model_name": "LayoutModel",
            "justify_items": null,
            "grid_row": null,
            "max_height": null,
            "align_content": null,
            "visibility": null,
            "align_self": null,
            "height": null,
            "min_height": null,
            "padding": null,
            "grid_auto_rows": null,
            "grid_gap": null,
            "max_width": null,
            "order": null,
            "_view_module_version": "1.2.0",
            "grid_template_areas": null,
            "object_position": null,
            "object_fit": null,
            "grid_auto_columns": null,
            "margin": null,
            "display": null,
            "left": null
          }
        },
        "58f547af536b446ea3aaa434ea269b86": {
          "model_module": "@jupyter-widgets/controls",
          "model_name": "VBoxModel",
          "model_module_version": "1.5.0",
          "state": {
            "_view_name": "VBoxView",
            "_dom_classes": [
              "widget-interact"
            ],
            "_model_name": "VBoxModel",
            "_view_module": "@jupyter-widgets/controls",
            "_model_module_version": "1.5.0",
            "_view_count": null,
            "_view_module_version": "1.5.0",
            "box_style": "",
            "layout": "IPY_MODEL_b34eb7c798bd49678730c7dd96f6868c",
            "_model_module": "@jupyter-widgets/controls",
            "children": [
              "IPY_MODEL_ddfb675efab5435e9c9deeb8d66cd5d3",
              "IPY_MODEL_18c49e1750b14a368b9432b08ea0a028",
              "IPY_MODEL_0fcac33c4f7c46238c6eafc6b1e7b71a",
              "IPY_MODEL_0dfd399d15324723aa18650f2dc18a2e"
            ]
          }
        },
        "b34eb7c798bd49678730c7dd96f6868c": {
          "model_module": "@jupyter-widgets/base",
          "model_name": "LayoutModel",
          "model_module_version": "1.2.0",
          "state": {
            "_view_name": "LayoutView",
            "grid_template_rows": null,
            "right": null,
            "justify_content": null,
            "_view_module": "@jupyter-widgets/base",
            "overflow": null,
            "_model_module_version": "1.2.0",
            "_view_count": null,
            "flex_flow": null,
            "width": null,
            "min_width": null,
            "border": null,
            "align_items": null,
            "bottom": null,
            "_model_module": "@jupyter-widgets/base",
            "top": null,
            "grid_column": null,
            "overflow_y": null,
            "overflow_x": null,
            "grid_auto_flow": null,
            "grid_area": null,
            "grid_template_columns": null,
            "flex": null,
            "_model_name": "LayoutModel",
            "justify_items": null,
            "grid_row": null,
            "max_height": null,
            "align_content": null,
            "visibility": null,
            "align_self": null,
            "height": null,
            "min_height": null,
            "padding": null,
            "grid_auto_rows": null,
            "grid_gap": null,
            "max_width": null,
            "order": null,
            "_view_module_version": "1.2.0",
            "grid_template_areas": null,
            "object_position": null,
            "object_fit": null,
            "grid_auto_columns": null,
            "margin": null,
            "display": null,
            "left": null
          }
        },
        "ddfb675efab5435e9c9deeb8d66cd5d3": {
          "model_module": "@jupyter-widgets/controls",
          "model_name": "IntSliderModel",
          "model_module_version": "1.5.0",
          "state": {
            "_view_name": "IntSliderView",
            "style": "IPY_MODEL_8b9fc8ba3e174af689eb0b85d87e42e4",
            "_dom_classes": [],
            "description": "t1",
            "step": 1,
            "_model_name": "IntSliderModel",
            "orientation": "horizontal",
            "max": 96,
            "_view_module": "@jupyter-widgets/controls",
            "_model_module_version": "1.5.0",
            "value": 3,
            "_view_count": null,
            "disabled": false,
            "_view_module_version": "1.5.0",
            "min": 0,
            "continuous_update": true,
            "readout_format": "d",
            "description_tooltip": null,
            "readout": true,
            "_model_module": "@jupyter-widgets/controls",
            "layout": "IPY_MODEL_4789955e813d441db514793b9e9ba1ab"
          }
        },
        "18c49e1750b14a368b9432b08ea0a028": {
          "model_module": "@jupyter-widgets/controls",
          "model_name": "IntSliderModel",
          "model_module_version": "1.5.0",
          "state": {
            "_view_name": "IntSliderView",
            "style": "IPY_MODEL_d0df99d931174d37af52940766247fb1",
            "_dom_classes": [],
            "description": "t2",
            "step": 1,
            "_model_name": "IntSliderModel",
            "orientation": "horizontal",
            "max": 96,
            "_view_module": "@jupyter-widgets/controls",
            "_model_module_version": "1.5.0",
            "value": 10,
            "_view_count": null,
            "disabled": false,
            "_view_module_version": "1.5.0",
            "min": 0,
            "continuous_update": true,
            "readout_format": "d",
            "description_tooltip": null,
            "readout": true,
            "_model_module": "@jupyter-widgets/controls",
            "layout": "IPY_MODEL_d464c2f2ea404de38cdab53f3a1c7669"
          }
        },
        "0fcac33c4f7c46238c6eafc6b1e7b71a": {
          "model_module": "@jupyter-widgets/controls",
          "model_name": "ButtonModel",
          "model_module_version": "1.5.0",
          "state": {
            "_view_name": "ButtonView",
            "style": "IPY_MODEL_0b3f8cee39664d9b834fef90219d300f",
            "_dom_classes": [],
            "description": "Run Interact",
            "_model_name": "ButtonModel",
            "button_style": "",
            "_view_module": "@jupyter-widgets/controls",
            "_model_module_version": "1.5.0",
            "tooltip": "",
            "_view_count": null,
            "disabled": false,
            "_view_module_version": "1.5.0",
            "layout": "IPY_MODEL_71a14a2d7ba3468dabd9b9415543f56b",
            "_model_module": "@jupyter-widgets/controls",
            "icon": ""
          }
        },
        "0dfd399d15324723aa18650f2dc18a2e": {
          "model_module": "@jupyter-widgets/output",
          "model_name": "OutputModel",
          "model_module_version": "1.0.0",
          "state": {
            "_view_name": "OutputView",
            "msg_id": "",
            "_dom_classes": [],
            "_model_name": "OutputModel",
            "outputs": [],
            "_view_module": "@jupyter-widgets/output",
            "_model_module_version": "1.0.0",
            "_view_count": null,
            "_view_module_version": "1.0.0",
            "layout": "IPY_MODEL_d519cfdca6d643f5a802fbcb73d5c772",
            "_model_module": "@jupyter-widgets/output"
          }
        },
        "8b9fc8ba3e174af689eb0b85d87e42e4": {
          "model_module": "@jupyter-widgets/controls",
          "model_name": "SliderStyleModel",
          "model_module_version": "1.5.0",
          "state": {
            "_view_name": "StyleView",
            "handle_color": null,
            "_model_name": "SliderStyleModel",
            "description_width": "",
            "_view_module": "@jupyter-widgets/base",
            "_model_module_version": "1.5.0",
            "_view_count": null,
            "_view_module_version": "1.2.0",
            "_model_module": "@jupyter-widgets/controls"
          }
        },
        "4789955e813d441db514793b9e9ba1ab": {
          "model_module": "@jupyter-widgets/base",
          "model_name": "LayoutModel",
          "model_module_version": "1.2.0",
          "state": {
            "_view_name": "LayoutView",
            "grid_template_rows": null,
            "right": null,
            "justify_content": null,
            "_view_module": "@jupyter-widgets/base",
            "overflow": null,
            "_model_module_version": "1.2.0",
            "_view_count": null,
            "flex_flow": null,
            "width": null,
            "min_width": null,
            "border": null,
            "align_items": null,
            "bottom": null,
            "_model_module": "@jupyter-widgets/base",
            "top": null,
            "grid_column": null,
            "overflow_y": null,
            "overflow_x": null,
            "grid_auto_flow": null,
            "grid_area": null,
            "grid_template_columns": null,
            "flex": null,
            "_model_name": "LayoutModel",
            "justify_items": null,
            "grid_row": null,
            "max_height": null,
            "align_content": null,
            "visibility": null,
            "align_self": null,
            "height": null,
            "min_height": null,
            "padding": null,
            "grid_auto_rows": null,
            "grid_gap": null,
            "max_width": null,
            "order": null,
            "_view_module_version": "1.2.0",
            "grid_template_areas": null,
            "object_position": null,
            "object_fit": null,
            "grid_auto_columns": null,
            "margin": null,
            "display": null,
            "left": null
          }
        },
        "d0df99d931174d37af52940766247fb1": {
          "model_module": "@jupyter-widgets/controls",
          "model_name": "SliderStyleModel",
          "model_module_version": "1.5.0",
          "state": {
            "_view_name": "StyleView",
            "handle_color": null,
            "_model_name": "SliderStyleModel",
            "description_width": "",
            "_view_module": "@jupyter-widgets/base",
            "_model_module_version": "1.5.0",
            "_view_count": null,
            "_view_module_version": "1.2.0",
            "_model_module": "@jupyter-widgets/controls"
          }
        },
        "d464c2f2ea404de38cdab53f3a1c7669": {
          "model_module": "@jupyter-widgets/base",
          "model_name": "LayoutModel",
          "model_module_version": "1.2.0",
          "state": {
            "_view_name": "LayoutView",
            "grid_template_rows": null,
            "right": null,
            "justify_content": null,
            "_view_module": "@jupyter-widgets/base",
            "overflow": null,
            "_model_module_version": "1.2.0",
            "_view_count": null,
            "flex_flow": null,
            "width": null,
            "min_width": null,
            "border": null,
            "align_items": null,
            "bottom": null,
            "_model_module": "@jupyter-widgets/base",
            "top": null,
            "grid_column": null,
            "overflow_y": null,
            "overflow_x": null,
            "grid_auto_flow": null,
            "grid_area": null,
            "grid_template_columns": null,
            "flex": null,
            "_model_name": "LayoutModel",
            "justify_items": null,
            "grid_row": null,
            "max_height": null,
            "align_content": null,
            "visibility": null,
            "align_self": null,
            "height": null,
            "min_height": null,
            "padding": null,
            "grid_auto_rows": null,
            "grid_gap": null,
            "max_width": null,
            "order": null,
            "_view_module_version": "1.2.0",
            "grid_template_areas": null,
            "object_position": null,
            "object_fit": null,
            "grid_auto_columns": null,
            "margin": null,
            "display": null,
            "left": null
          }
        },
        "0b3f8cee39664d9b834fef90219d300f": {
          "model_module": "@jupyter-widgets/controls",
          "model_name": "ButtonStyleModel",
          "model_module_version": "1.5.0",
          "state": {
            "_view_name": "StyleView",
            "_model_name": "ButtonStyleModel",
            "_view_module": "@jupyter-widgets/base",
            "_model_module_version": "1.5.0",
            "_view_count": null,
            "button_color": null,
            "font_weight": "",
            "_view_module_version": "1.2.0",
            "_model_module": "@jupyter-widgets/controls"
          }
        },
        "71a14a2d7ba3468dabd9b9415543f56b": {
          "model_module": "@jupyter-widgets/base",
          "model_name": "LayoutModel",
          "model_module_version": "1.2.0",
          "state": {
            "_view_name": "LayoutView",
            "grid_template_rows": null,
            "right": null,
            "justify_content": null,
            "_view_module": "@jupyter-widgets/base",
            "overflow": null,
            "_model_module_version": "1.2.0",
            "_view_count": null,
            "flex_flow": null,
            "width": null,
            "min_width": null,
            "border": null,
            "align_items": null,
            "bottom": null,
            "_model_module": "@jupyter-widgets/base",
            "top": null,
            "grid_column": null,
            "overflow_y": null,
            "overflow_x": null,
            "grid_auto_flow": null,
            "grid_area": null,
            "grid_template_columns": null,
            "flex": null,
            "_model_name": "LayoutModel",
            "justify_items": null,
            "grid_row": null,
            "max_height": null,
            "align_content": null,
            "visibility": null,
            "align_self": null,
            "height": null,
            "min_height": null,
            "padding": null,
            "grid_auto_rows": null,
            "grid_gap": null,
            "max_width": null,
            "order": null,
            "_view_module_version": "1.2.0",
            "grid_template_areas": null,
            "object_position": null,
            "object_fit": null,
            "grid_auto_columns": null,
            "margin": null,
            "display": null,
            "left": null
          }
        },
        "d519cfdca6d643f5a802fbcb73d5c772": {
          "model_module": "@jupyter-widgets/base",
          "model_name": "LayoutModel",
          "model_module_version": "1.2.0",
          "state": {
            "_view_name": "LayoutView",
            "grid_template_rows": null,
            "right": null,
            "justify_content": null,
            "_view_module": "@jupyter-widgets/base",
            "overflow": null,
            "_model_module_version": "1.2.0",
            "_view_count": null,
            "flex_flow": null,
            "width": null,
            "min_width": null,
            "border": null,
            "align_items": null,
            "bottom": null,
            "_model_module": "@jupyter-widgets/base",
            "top": null,
            "grid_column": null,
            "overflow_y": null,
            "overflow_x": null,
            "grid_auto_flow": null,
            "grid_area": null,
            "grid_template_columns": null,
            "flex": null,
            "_model_name": "LayoutModel",
            "justify_items": null,
            "grid_row": null,
            "max_height": null,
            "align_content": null,
            "visibility": null,
            "align_self": null,
            "height": null,
            "min_height": null,
            "padding": null,
            "grid_auto_rows": null,
            "grid_gap": null,
            "max_width": null,
            "order": null,
            "_view_module_version": "1.2.0",
            "grid_template_areas": null,
            "object_position": null,
            "object_fit": null,
            "grid_auto_columns": null,
            "margin": null,
            "display": null,
            "left": null
          }
        },
        "18973cea8f26486da5305433a81b2619": {
          "model_module": "@jupyter-widgets/controls",
          "model_name": "VBoxModel",
          "model_module_version": "1.5.0",
          "state": {
            "_view_name": "VBoxView",
            "_dom_classes": [
              "widget-interact"
            ],
            "_model_name": "VBoxModel",
            "_view_module": "@jupyter-widgets/controls",
            "_model_module_version": "1.5.0",
            "_view_count": null,
            "_view_module_version": "1.5.0",
            "box_style": "",
            "layout": "IPY_MODEL_327bb01981e5424fb180313108c00d75",
            "_model_module": "@jupyter-widgets/controls",
            "children": [
              "IPY_MODEL_6b2ff61b9bc742e2b240a69c07b336a2",
              "IPY_MODEL_be254d4bc07f48da97cc7d105fb8790b",
              "IPY_MODEL_99fbf0e7eff14c4588ce3a55a9b01152"
            ]
          }
        },
        "327bb01981e5424fb180313108c00d75": {
          "model_module": "@jupyter-widgets/base",
          "model_name": "LayoutModel",
          "model_module_version": "1.2.0",
          "state": {
            "_view_name": "LayoutView",
            "grid_template_rows": null,
            "right": null,
            "justify_content": null,
            "_view_module": "@jupyter-widgets/base",
            "overflow": null,
            "_model_module_version": "1.2.0",
            "_view_count": null,
            "flex_flow": null,
            "width": null,
            "min_width": null,
            "border": null,
            "align_items": null,
            "bottom": null,
            "_model_module": "@jupyter-widgets/base",
            "top": null,
            "grid_column": null,
            "overflow_y": null,
            "overflow_x": null,
            "grid_auto_flow": null,
            "grid_area": null,
            "grid_template_columns": null,
            "flex": null,
            "_model_name": "LayoutModel",
            "justify_items": null,
            "grid_row": null,
            "max_height": null,
            "align_content": null,
            "visibility": null,
            "align_self": null,
            "height": null,
            "min_height": null,
            "padding": null,
            "grid_auto_rows": null,
            "grid_gap": null,
            "max_width": null,
            "order": null,
            "_view_module_version": "1.2.0",
            "grid_template_areas": null,
            "object_position": null,
            "object_fit": null,
            "grid_auto_columns": null,
            "margin": null,
            "display": null,
            "left": null
          }
        },
        "6b2ff61b9bc742e2b240a69c07b336a2": {
          "model_module": "@jupyter-widgets/controls",
          "model_name": "IntSliderModel",
          "model_module_version": "1.5.0",
          "state": {
            "_view_name": "IntSliderView",
            "style": "IPY_MODEL_bb7d5834636b4a50ad5ff623ca7f5af8",
            "_dom_classes": [],
            "description": "mean",
            "step": 1,
            "_model_name": "IntSliderModel",
            "orientation": "horizontal",
            "max": 5,
            "_view_module": "@jupyter-widgets/controls",
            "_model_module_version": "1.5.0",
            "value": 0,
            "_view_count": null,
            "disabled": false,
            "_view_module_version": "1.5.0",
            "min": -5,
            "continuous_update": true,
            "readout_format": "d",
            "description_tooltip": null,
            "readout": true,
            "_model_module": "@jupyter-widgets/controls",
            "layout": "IPY_MODEL_3f8422cbce414e83a8793cf08f41d2f7"
          }
        },
        "be254d4bc07f48da97cc7d105fb8790b": {
          "model_module": "@jupyter-widgets/controls",
          "model_name": "IntSliderModel",
          "model_module_version": "1.5.0",
          "state": {
            "_view_name": "IntSliderView",
            "style": "IPY_MODEL_e3ce20e223054b06831850a6c2532e63",
            "_dom_classes": [],
            "description": "std_dev",
            "step": 1,
            "_model_name": "IntSliderModel",
            "orientation": "horizontal",
            "max": 5,
            "_view_module": "@jupyter-widgets/controls",
            "_model_module_version": "1.5.0",
            "value": 1,
            "_view_count": null,
            "disabled": false,
            "_view_module_version": "1.5.0",
            "min": 1,
            "continuous_update": true,
            "readout_format": "d",
            "description_tooltip": null,
            "readout": true,
            "_model_module": "@jupyter-widgets/controls",
            "layout": "IPY_MODEL_1062e81b5da84b13804b568308cf935c"
          }
        },
        "99fbf0e7eff14c4588ce3a55a9b01152": {
          "model_module": "@jupyter-widgets/output",
          "model_name": "OutputModel",
          "model_module_version": "1.0.0",
          "state": {
            "_view_name": "OutputView",
            "msg_id": "",
            "_dom_classes": [],
            "_model_name": "OutputModel",
            "outputs": [
              {
                "output_type": "display_data",
                "data": {
                  "image/png": "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\n",
                  "text/plain": "<Figure size 432x288 with 1 Axes>"
                },
                "metadata": {
                  "needs_background": "light"
                }
              }
            ],
            "_view_module": "@jupyter-widgets/output",
            "_model_module_version": "1.0.0",
            "_view_count": null,
            "_view_module_version": "1.0.0",
            "layout": "IPY_MODEL_ab358f4e40ea4f269565ba85f482c68c",
            "_model_module": "@jupyter-widgets/output"
          }
        },
        "bb7d5834636b4a50ad5ff623ca7f5af8": {
          "model_module": "@jupyter-widgets/controls",
          "model_name": "SliderStyleModel",
          "model_module_version": "1.5.0",
          "state": {
            "_view_name": "StyleView",
            "handle_color": null,
            "_model_name": "SliderStyleModel",
            "description_width": "",
            "_view_module": "@jupyter-widgets/base",
            "_model_module_version": "1.5.0",
            "_view_count": null,
            "_view_module_version": "1.2.0",
            "_model_module": "@jupyter-widgets/controls"
          }
        },
        "3f8422cbce414e83a8793cf08f41d2f7": {
          "model_module": "@jupyter-widgets/base",
          "model_name": "LayoutModel",
          "model_module_version": "1.2.0",
          "state": {
            "_view_name": "LayoutView",
            "grid_template_rows": null,
            "right": null,
            "justify_content": null,
            "_view_module": "@jupyter-widgets/base",
            "overflow": null,
            "_model_module_version": "1.2.0",
            "_view_count": null,
            "flex_flow": null,
            "width": null,
            "min_width": null,
            "border": null,
            "align_items": null,
            "bottom": null,
            "_model_module": "@jupyter-widgets/base",
            "top": null,
            "grid_column": null,
            "overflow_y": null,
            "overflow_x": null,
            "grid_auto_flow": null,
            "grid_area": null,
            "grid_template_columns": null,
            "flex": null,
            "_model_name": "LayoutModel",
            "justify_items": null,
            "grid_row": null,
            "max_height": null,
            "align_content": null,
            "visibility": null,
            "align_self": null,
            "height": null,
            "min_height": null,
            "padding": null,
            "grid_auto_rows": null,
            "grid_gap": null,
            "max_width": null,
            "order": null,
            "_view_module_version": "1.2.0",
            "grid_template_areas": null,
            "object_position": null,
            "object_fit": null,
            "grid_auto_columns": null,
            "margin": null,
            "display": null,
            "left": null
          }
        },
        "e3ce20e223054b06831850a6c2532e63": {
          "model_module": "@jupyter-widgets/controls",
          "model_name": "SliderStyleModel",
          "model_module_version": "1.5.0",
          "state": {
            "_view_name": "StyleView",
            "handle_color": null,
            "_model_name": "SliderStyleModel",
            "description_width": "",
            "_view_module": "@jupyter-widgets/base",
            "_model_module_version": "1.5.0",
            "_view_count": null,
            "_view_module_version": "1.2.0",
            "_model_module": "@jupyter-widgets/controls"
          }
        },
        "1062e81b5da84b13804b568308cf935c": {
          "model_module": "@jupyter-widgets/base",
          "model_name": "LayoutModel",
          "model_module_version": "1.2.0",
          "state": {
            "_view_name": "LayoutView",
            "grid_template_rows": null,
            "right": null,
            "justify_content": null,
            "_view_module": "@jupyter-widgets/base",
            "overflow": null,
            "_model_module_version": "1.2.0",
            "_view_count": null,
            "flex_flow": null,
            "width": null,
            "min_width": null,
            "border": null,
            "align_items": null,
            "bottom": null,
            "_model_module": "@jupyter-widgets/base",
            "top": null,
            "grid_column": null,
            "overflow_y": null,
            "overflow_x": null,
            "grid_auto_flow": null,
            "grid_area": null,
            "grid_template_columns": null,
            "flex": null,
            "_model_name": "LayoutModel",
            "justify_items": null,
            "grid_row": null,
            "max_height": null,
            "align_content": null,
            "visibility": null,
            "align_self": null,
            "height": null,
            "min_height": null,
            "padding": null,
            "grid_auto_rows": null,
            "grid_gap": null,
            "max_width": null,
            "order": null,
            "_view_module_version": "1.2.0",
            "grid_template_areas": null,
            "object_position": null,
            "object_fit": null,
            "grid_auto_columns": null,
            "margin": null,
            "display": null,
            "left": null
          }
        },
        "ab358f4e40ea4f269565ba85f482c68c": {
          "model_module": "@jupyter-widgets/base",
          "model_name": "LayoutModel",
          "model_module_version": "1.2.0",
          "state": {
            "_view_name": "LayoutView",
            "grid_template_rows": null,
            "right": null,
            "justify_content": null,
            "_view_module": "@jupyter-widgets/base",
            "overflow": null,
            "_model_module_version": "1.2.0",
            "_view_count": null,
            "flex_flow": null,
            "width": null,
            "min_width": null,
            "border": null,
            "align_items": null,
            "bottom": null,
            "_model_module": "@jupyter-widgets/base",
            "top": null,
            "grid_column": null,
            "overflow_y": null,
            "overflow_x": null,
            "grid_auto_flow": null,
            "grid_area": null,
            "grid_template_columns": null,
            "flex": null,
            "_model_name": "LayoutModel",
            "justify_items": null,
            "grid_row": null,
            "max_height": null,
            "align_content": null,
            "visibility": null,
            "align_self": null,
            "height": null,
            "min_height": null,
            "padding": null,
            "grid_auto_rows": null,
            "grid_gap": null,
            "max_width": null,
            "order": null,
            "_view_module_version": "1.2.0",
            "grid_template_areas": null,
            "object_position": null,
            "object_fit": null,
            "grid_auto_columns": null,
            "margin": null,
            "display": null,
            "left": null
          }
        },
        "c6071c29e42a484e882e685a1b39b0ef": {
          "model_module": "@jupyter-widgets/controls",
          "model_name": "VBoxModel",
          "model_module_version": "1.5.0",
          "state": {
            "_view_name": "VBoxView",
            "_dom_classes": [
              "widget-interact"
            ],
            "_model_name": "VBoxModel",
            "_view_module": "@jupyter-widgets/controls",
            "_model_module_version": "1.5.0",
            "_view_count": null,
            "_view_module_version": "1.5.0",
            "box_style": "",
            "layout": "IPY_MODEL_c632a5ef352948cba6a9f7932e06db44",
            "_model_module": "@jupyter-widgets/controls",
            "children": [
              "IPY_MODEL_f1a65fb5c5154c2ba967b1ee0d316974",
              "IPY_MODEL_1853dc31fca1401f8dbd799fe30b9131",
              "IPY_MODEL_a096c444918c4161903aa48864263357"
            ]
          }
        },
        "c632a5ef352948cba6a9f7932e06db44": {
          "model_module": "@jupyter-widgets/base",
          "model_name": "LayoutModel",
          "model_module_version": "1.2.0",
          "state": {
            "_view_name": "LayoutView",
            "grid_template_rows": null,
            "right": null,
            "justify_content": null,
            "_view_module": "@jupyter-widgets/base",
            "overflow": null,
            "_model_module_version": "1.2.0",
            "_view_count": null,
            "flex_flow": null,
            "width": null,
            "min_width": null,
            "border": null,
            "align_items": null,
            "bottom": null,
            "_model_module": "@jupyter-widgets/base",
            "top": null,
            "grid_column": null,
            "overflow_y": null,
            "overflow_x": null,
            "grid_auto_flow": null,
            "grid_area": null,
            "grid_template_columns": null,
            "flex": null,
            "_model_name": "LayoutModel",
            "justify_items": null,
            "grid_row": null,
            "max_height": null,
            "align_content": null,
            "visibility": null,
            "align_self": null,
            "height": null,
            "min_height": null,
            "padding": null,
            "grid_auto_rows": null,
            "grid_gap": null,
            "max_width": null,
            "order": null,
            "_view_module_version": "1.2.0",
            "grid_template_areas": null,
            "object_position": null,
            "object_fit": null,
            "grid_auto_columns": null,
            "margin": null,
            "display": null,
            "left": null
          }
        },
        "f1a65fb5c5154c2ba967b1ee0d316974": {
          "model_module": "@jupyter-widgets/controls",
          "model_name": "IntSliderModel",
          "model_module_version": "1.5.0",
          "state": {
            "_view_name": "IntSliderView",
            "style": "IPY_MODEL_ca38e5000db645faa645ccc6ac3f7a4f",
            "_dom_classes": [],
            "description": "mean",
            "step": 1,
            "_model_name": "IntSliderModel",
            "orientation": "horizontal",
            "max": 5,
            "_view_module": "@jupyter-widgets/controls",
            "_model_module_version": "1.5.0",
            "value": 0,
            "_view_count": null,
            "disabled": false,
            "_view_module_version": "1.5.0",
            "min": -5,
            "continuous_update": true,
            "readout_format": "d",
            "description_tooltip": null,
            "readout": true,
            "_model_module": "@jupyter-widgets/controls",
            "layout": "IPY_MODEL_bff2bdb55a674fdab5b1c0d184a8e64e"
          }
        },
        "1853dc31fca1401f8dbd799fe30b9131": {
          "model_module": "@jupyter-widgets/controls",
          "model_name": "IntSliderModel",
          "model_module_version": "1.5.0",
          "state": {
            "_view_name": "IntSliderView",
            "style": "IPY_MODEL_09982aaad4bc4ce8905b49ef52b69df5",
            "_dom_classes": [],
            "description": "std_dev",
            "step": 1,
            "_model_name": "IntSliderModel",
            "orientation": "horizontal",
            "max": 5,
            "_view_module": "@jupyter-widgets/controls",
            "_model_module_version": "1.5.0",
            "value": 1,
            "_view_count": null,
            "disabled": false,
            "_view_module_version": "1.5.0",
            "min": 1,
            "continuous_update": true,
            "readout_format": "d",
            "description_tooltip": null,
            "readout": true,
            "_model_module": "@jupyter-widgets/controls",
            "layout": "IPY_MODEL_a0ce93b7044b40a3b5ebc8ae707e5d5f"
          }
        },
        "a096c444918c4161903aa48864263357": {
          "model_module": "@jupyter-widgets/output",
          "model_name": "OutputModel",
          "model_module_version": "1.0.0",
          "state": {
            "_view_name": "OutputView",
            "msg_id": "",
            "_dom_classes": [],
            "_model_name": "OutputModel",
            "outputs": [
              {
                "output_type": "display_data",
                "data": {
                  "image/png": "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\n",
                  "text/plain": "<Figure size 432x288 with 1 Axes>"
                },
                "metadata": {
                  "needs_background": "light"
                }
              }
            ],
            "_view_module": "@jupyter-widgets/output",
            "_model_module_version": "1.0.0",
            "_view_count": null,
            "_view_module_version": "1.0.0",
            "layout": "IPY_MODEL_971eff3fc5934fe79dc3be6c6d3704ea",
            "_model_module": "@jupyter-widgets/output"
          }
        },
        "ca38e5000db645faa645ccc6ac3f7a4f": {
          "model_module": "@jupyter-widgets/controls",
          "model_name": "SliderStyleModel",
          "model_module_version": "1.5.0",
          "state": {
            "_view_name": "StyleView",
            "handle_color": null,
            "_model_name": "SliderStyleModel",
            "description_width": "",
            "_view_module": "@jupyter-widgets/base",
            "_model_module_version": "1.5.0",
            "_view_count": null,
            "_view_module_version": "1.2.0",
            "_model_module": "@jupyter-widgets/controls"
          }
        },
        "bff2bdb55a674fdab5b1c0d184a8e64e": {
          "model_module": "@jupyter-widgets/base",
          "model_name": "LayoutModel",
          "model_module_version": "1.2.0",
          "state": {
            "_view_name": "LayoutView",
            "grid_template_rows": null,
            "right": null,
            "justify_content": null,
            "_view_module": "@jupyter-widgets/base",
            "overflow": null,
            "_model_module_version": "1.2.0",
            "_view_count": null,
            "flex_flow": null,
            "width": null,
            "min_width": null,
            "border": null,
            "align_items": null,
            "bottom": null,
            "_model_module": "@jupyter-widgets/base",
            "top": null,
            "grid_column": null,
            "overflow_y": null,
            "overflow_x": null,
            "grid_auto_flow": null,
            "grid_area": null,
            "grid_template_columns": null,
            "flex": null,
            "_model_name": "LayoutModel",
            "justify_items": null,
            "grid_row": null,
            "max_height": null,
            "align_content": null,
            "visibility": null,
            "align_self": null,
            "height": null,
            "min_height": null,
            "padding": null,
            "grid_auto_rows": null,
            "grid_gap": null,
            "max_width": null,
            "order": null,
            "_view_module_version": "1.2.0",
            "grid_template_areas": null,
            "object_position": null,
            "object_fit": null,
            "grid_auto_columns": null,
            "margin": null,
            "display": null,
            "left": null
          }
        },
        "09982aaad4bc4ce8905b49ef52b69df5": {
          "model_module": "@jupyter-widgets/controls",
          "model_name": "SliderStyleModel",
          "model_module_version": "1.5.0",
          "state": {
            "_view_name": "StyleView",
            "handle_color": null,
            "_model_name": "SliderStyleModel",
            "description_width": "",
            "_view_module": "@jupyter-widgets/base",
            "_model_module_version": "1.5.0",
            "_view_count": null,
            "_view_module_version": "1.2.0",
            "_model_module": "@jupyter-widgets/controls"
          }
        },
        "a0ce93b7044b40a3b5ebc8ae707e5d5f": {
          "model_module": "@jupyter-widgets/base",
          "model_name": "LayoutModel",
          "model_module_version": "1.2.0",
          "state": {
            "_view_name": "LayoutView",
            "grid_template_rows": null,
            "right": null,
            "justify_content": null,
            "_view_module": "@jupyter-widgets/base",
            "overflow": null,
            "_model_module_version": "1.2.0",
            "_view_count": null,
            "flex_flow": null,
            "width": null,
            "min_width": null,
            "border": null,
            "align_items": null,
            "bottom": null,
            "_model_module": "@jupyter-widgets/base",
            "top": null,
            "grid_column": null,
            "overflow_y": null,
            "overflow_x": null,
            "grid_auto_flow": null,
            "grid_area": null,
            "grid_template_columns": null,
            "flex": null,
            "_model_name": "LayoutModel",
            "justify_items": null,
            "grid_row": null,
            "max_height": null,
            "align_content": null,
            "visibility": null,
            "align_self": null,
            "height": null,
            "min_height": null,
            "padding": null,
            "grid_auto_rows": null,
            "grid_gap": null,
            "max_width": null,
            "order": null,
            "_view_module_version": "1.2.0",
            "grid_template_areas": null,
            "object_position": null,
            "object_fit": null,
            "grid_auto_columns": null,
            "margin": null,
            "display": null,
            "left": null
          }
        },
        "971eff3fc5934fe79dc3be6c6d3704ea": {
          "model_module": "@jupyter-widgets/base",
          "model_name": "LayoutModel",
          "model_module_version": "1.2.0",
          "state": {
            "_view_name": "LayoutView",
            "grid_template_rows": null,
            "right": null,
            "justify_content": null,
            "_view_module": "@jupyter-widgets/base",
            "overflow": null,
            "_model_module_version": "1.2.0",
            "_view_count": null,
            "flex_flow": null,
            "width": null,
            "min_width": null,
            "border": null,
            "align_items": null,
            "bottom": null,
            "_model_module": "@jupyter-widgets/base",
            "top": null,
            "grid_column": null,
            "overflow_y": null,
            "overflow_x": null,
            "grid_auto_flow": null,
            "grid_area": null,
            "grid_template_columns": null,
            "flex": null,
            "_model_name": "LayoutModel",
            "justify_items": null,
            "grid_row": null,
            "max_height": null,
            "align_content": null,
            "visibility": null,
            "align_self": null,
            "height": null,
            "min_height": null,
            "padding": null,
            "grid_auto_rows": null,
            "grid_gap": null,
            "max_width": null,
            "order": null,
            "_view_module_version": "1.2.0",
            "grid_template_areas": null,
            "object_position": null,
            "object_fit": null,
            "grid_auto_columns": null,
            "margin": null,
            "display": null,
            "left": null
          }
        },
        "8954fed624984e16bad281965a666960": {
          "model_module": "@jupyter-widgets/controls",
          "model_name": "VBoxModel",
          "model_module_version": "1.5.0",
          "state": {
            "_view_name": "VBoxView",
            "_dom_classes": [
              "widget-interact"
            ],
            "_model_name": "VBoxModel",
            "_view_module": "@jupyter-widgets/controls",
            "_model_module_version": "1.5.0",
            "_view_count": null,
            "_view_module_version": "1.5.0",
            "box_style": "",
            "layout": "IPY_MODEL_ecedae0ebb2c4e24b18bf47edfe9d7e9",
            "_model_module": "@jupyter-widgets/controls",
            "children": [
              "IPY_MODEL_084b9f04c9ab4adaae7cb979ce20c85b",
              "IPY_MODEL_62acd5d42f4943dcb58b7a2d0a5149a5",
              "IPY_MODEL_e6468461363b43e88e1727741d86285b"
            ]
          }
        },
        "ecedae0ebb2c4e24b18bf47edfe9d7e9": {
          "model_module": "@jupyter-widgets/base",
          "model_name": "LayoutModel",
          "model_module_version": "1.2.0",
          "state": {
            "_view_name": "LayoutView",
            "grid_template_rows": null,
            "right": null,
            "justify_content": null,
            "_view_module": "@jupyter-widgets/base",
            "overflow": null,
            "_model_module_version": "1.2.0",
            "_view_count": null,
            "flex_flow": null,
            "width": null,
            "min_width": null,
            "border": null,
            "align_items": null,
            "bottom": null,
            "_model_module": "@jupyter-widgets/base",
            "top": null,
            "grid_column": null,
            "overflow_y": null,
            "overflow_x": null,
            "grid_auto_flow": null,
            "grid_area": null,
            "grid_template_columns": null,
            "flex": null,
            "_model_name": "LayoutModel",
            "justify_items": null,
            "grid_row": null,
            "max_height": null,
            "align_content": null,
            "visibility": null,
            "align_self": null,
            "height": null,
            "min_height": null,
            "padding": null,
            "grid_auto_rows": null,
            "grid_gap": null,
            "max_width": null,
            "order": null,
            "_view_module_version": "1.2.0",
            "grid_template_areas": null,
            "object_position": null,
            "object_fit": null,
            "grid_auto_columns": null,
            "margin": null,
            "display": null,
            "left": null
          }
        },
        "084b9f04c9ab4adaae7cb979ce20c85b": {
          "model_module": "@jupyter-widgets/controls",
          "model_name": "FloatSliderModel",
          "model_module_version": "1.5.0",
          "state": {
            "_view_name": "FloatSliderView",
            "style": "IPY_MODEL_8eac6ac2503c4a638cce0b4b8ab17651",
            "_dom_classes": [],
            "description": "valore",
            "step": 0.1,
            "_model_name": "FloatSliderModel",
            "orientation": "horizontal",
            "max": 4,
            "_view_module": "@jupyter-widgets/controls",
            "_model_module_version": "1.5.0",
            "value": 1,
            "_view_count": null,
            "disabled": false,
            "_view_module_version": "1.5.0",
            "min": -4,
            "continuous_update": true,
            "readout_format": ".2f",
            "description_tooltip": null,
            "readout": true,
            "_model_module": "@jupyter-widgets/controls",
            "layout": "IPY_MODEL_0840016b1b6e4f06a97e23f3a2019d5c"
          }
        },
        "62acd5d42f4943dcb58b7a2d0a5149a5": {
          "model_module": "@jupyter-widgets/controls",
          "model_name": "ButtonModel",
          "model_module_version": "1.5.0",
          "state": {
            "_view_name": "ButtonView",
            "style": "IPY_MODEL_3f86480ba1ba4c06ad36dd6efbd1ec11",
            "_dom_classes": [],
            "description": "Run Interact",
            "_model_name": "ButtonModel",
            "button_style": "",
            "_view_module": "@jupyter-widgets/controls",
            "_model_module_version": "1.5.0",
            "tooltip": "",
            "_view_count": null,
            "disabled": false,
            "_view_module_version": "1.5.0",
            "layout": "IPY_MODEL_c1e98b32a3ed46f2b0df2eef51835d10",
            "_model_module": "@jupyter-widgets/controls",
            "icon": ""
          }
        },
        "e6468461363b43e88e1727741d86285b": {
          "model_module": "@jupyter-widgets/output",
          "model_name": "OutputModel",
          "model_module_version": "1.0.0",
          "state": {
            "_view_name": "OutputView",
            "msg_id": "",
            "_dom_classes": [],
            "_model_name": "OutputModel",
            "outputs": [],
            "_view_module": "@jupyter-widgets/output",
            "_model_module_version": "1.0.0",
            "_view_count": null,
            "_view_module_version": "1.0.0",
            "layout": "IPY_MODEL_ccfbd1ca56854823b8014009a606b7ec",
            "_model_module": "@jupyter-widgets/output"
          }
        },
        "8eac6ac2503c4a638cce0b4b8ab17651": {
          "model_module": "@jupyter-widgets/controls",
          "model_name": "SliderStyleModel",
          "model_module_version": "1.5.0",
          "state": {
            "_view_name": "StyleView",
            "handle_color": null,
            "_model_name": "SliderStyleModel",
            "description_width": "",
            "_view_module": "@jupyter-widgets/base",
            "_model_module_version": "1.5.0",
            "_view_count": null,
            "_view_module_version": "1.2.0",
            "_model_module": "@jupyter-widgets/controls"
          }
        },
        "0840016b1b6e4f06a97e23f3a2019d5c": {
          "model_module": "@jupyter-widgets/base",
          "model_name": "LayoutModel",
          "model_module_version": "1.2.0",
          "state": {
            "_view_name": "LayoutView",
            "grid_template_rows": null,
            "right": null,
            "justify_content": null,
            "_view_module": "@jupyter-widgets/base",
            "overflow": null,
            "_model_module_version": "1.2.0",
            "_view_count": null,
            "flex_flow": null,
            "width": null,
            "min_width": null,
            "border": null,
            "align_items": null,
            "bottom": null,
            "_model_module": "@jupyter-widgets/base",
            "top": null,
            "grid_column": null,
            "overflow_y": null,
            "overflow_x": null,
            "grid_auto_flow": null,
            "grid_area": null,
            "grid_template_columns": null,
            "flex": null,
            "_model_name": "LayoutModel",
            "justify_items": null,
            "grid_row": null,
            "max_height": null,
            "align_content": null,
            "visibility": null,
            "align_self": null,
            "height": null,
            "min_height": null,
            "padding": null,
            "grid_auto_rows": null,
            "grid_gap": null,
            "max_width": null,
            "order": null,
            "_view_module_version": "1.2.0",
            "grid_template_areas": null,
            "object_position": null,
            "object_fit": null,
            "grid_auto_columns": null,
            "margin": null,
            "display": null,
            "left": null
          }
        },
        "3f86480ba1ba4c06ad36dd6efbd1ec11": {
          "model_module": "@jupyter-widgets/controls",
          "model_name": "ButtonStyleModel",
          "model_module_version": "1.5.0",
          "state": {
            "_view_name": "StyleView",
            "_model_name": "ButtonStyleModel",
            "_view_module": "@jupyter-widgets/base",
            "_model_module_version": "1.5.0",
            "_view_count": null,
            "button_color": null,
            "font_weight": "",
            "_view_module_version": "1.2.0",
            "_model_module": "@jupyter-widgets/controls"
          }
        },
        "c1e98b32a3ed46f2b0df2eef51835d10": {
          "model_module": "@jupyter-widgets/base",
          "model_name": "LayoutModel",
          "model_module_version": "1.2.0",
          "state": {
            "_view_name": "LayoutView",
            "grid_template_rows": null,
            "right": null,
            "justify_content": null,
            "_view_module": "@jupyter-widgets/base",
            "overflow": null,
            "_model_module_version": "1.2.0",
            "_view_count": null,
            "flex_flow": null,
            "width": null,
            "min_width": null,
            "border": null,
            "align_items": null,
            "bottom": null,
            "_model_module": "@jupyter-widgets/base",
            "top": null,
            "grid_column": null,
            "overflow_y": null,
            "overflow_x": null,
            "grid_auto_flow": null,
            "grid_area": null,
            "grid_template_columns": null,
            "flex": null,
            "_model_name": "LayoutModel",
            "justify_items": null,
            "grid_row": null,
            "max_height": null,
            "align_content": null,
            "visibility": null,
            "align_self": null,
            "height": null,
            "min_height": null,
            "padding": null,
            "grid_auto_rows": null,
            "grid_gap": null,
            "max_width": null,
            "order": null,
            "_view_module_version": "1.2.0",
            "grid_template_areas": null,
            "object_position": null,
            "object_fit": null,
            "grid_auto_columns": null,
            "margin": null,
            "display": null,
            "left": null
          }
        },
        "ccfbd1ca56854823b8014009a606b7ec": {
          "model_module": "@jupyter-widgets/base",
          "model_name": "LayoutModel",
          "model_module_version": "1.2.0",
          "state": {
            "_view_name": "LayoutView",
            "grid_template_rows": null,
            "right": null,
            "justify_content": null,
            "_view_module": "@jupyter-widgets/base",
            "overflow": null,
            "_model_module_version": "1.2.0",
            "_view_count": null,
            "flex_flow": null,
            "width": null,
            "min_width": null,
            "border": null,
            "align_items": null,
            "bottom": null,
            "_model_module": "@jupyter-widgets/base",
            "top": null,
            "grid_column": null,
            "overflow_y": null,
            "overflow_x": null,
            "grid_auto_flow": null,
            "grid_area": null,
            "grid_template_columns": null,
            "flex": null,
            "_model_name": "LayoutModel",
            "justify_items": null,
            "grid_row": null,
            "max_height": null,
            "align_content": null,
            "visibility": null,
            "align_self": null,
            "height": null,
            "min_height": null,
            "padding": null,
            "grid_auto_rows": null,
            "grid_gap": null,
            "max_width": null,
            "order": null,
            "_view_module_version": "1.2.0",
            "grid_template_areas": null,
            "object_position": null,
            "object_fit": null,
            "grid_auto_columns": null,
            "margin": null,
            "display": null,
            "left": null
          }
        },
        "64299273401c46d4aec389be9e2f6135": {
          "model_module": "@jupyter-widgets/controls",
          "model_name": "VBoxModel",
          "model_module_version": "1.5.0",
          "state": {
            "_view_name": "VBoxView",
            "_dom_classes": [
              "widget-interact"
            ],
            "_model_name": "VBoxModel",
            "_view_module": "@jupyter-widgets/controls",
            "_model_module_version": "1.5.0",
            "_view_count": null,
            "_view_module_version": "1.5.0",
            "box_style": "",
            "layout": "IPY_MODEL_a50a02c3d8024604b989eaac8e88166a",
            "_model_module": "@jupyter-widgets/controls",
            "children": [
              "IPY_MODEL_3c261e4bc7c24999a3441aea2b22ea57",
              "IPY_MODEL_10c18799f9644a38829f9f4981251483",
              "IPY_MODEL_bdf3e58cf6a6430aa880f2a1f258c793"
            ]
          }
        },
        "a50a02c3d8024604b989eaac8e88166a": {
          "model_module": "@jupyter-widgets/base",
          "model_name": "LayoutModel",
          "model_module_version": "1.2.0",
          "state": {
            "_view_name": "LayoutView",
            "grid_template_rows": null,
            "right": null,
            "justify_content": null,
            "_view_module": "@jupyter-widgets/base",
            "overflow": null,
            "_model_module_version": "1.2.0",
            "_view_count": null,
            "flex_flow": null,
            "width": null,
            "min_width": null,
            "border": null,
            "align_items": null,
            "bottom": null,
            "_model_module": "@jupyter-widgets/base",
            "top": null,
            "grid_column": null,
            "overflow_y": null,
            "overflow_x": null,
            "grid_auto_flow": null,
            "grid_area": null,
            "grid_template_columns": null,
            "flex": null,
            "_model_name": "LayoutModel",
            "justify_items": null,
            "grid_row": null,
            "max_height": null,
            "align_content": null,
            "visibility": null,
            "align_self": null,
            "height": null,
            "min_height": null,
            "padding": null,
            "grid_auto_rows": null,
            "grid_gap": null,
            "max_width": null,
            "order": null,
            "_view_module_version": "1.2.0",
            "grid_template_areas": null,
            "object_position": null,
            "object_fit": null,
            "grid_auto_columns": null,
            "margin": null,
            "display": null,
            "left": null
          }
        },
        "3c261e4bc7c24999a3441aea2b22ea57": {
          "model_module": "@jupyter-widgets/controls",
          "model_name": "DropdownModel",
          "model_module_version": "1.5.0",
          "state": {
            "_options_labels": [
              "S",
              "M",
              "L",
              "XL"
            ],
            "_view_name": "DropdownView",
            "style": "IPY_MODEL_df2ba321f46841e99f447ae121bac771",
            "_dom_classes": [],
            "description": "taglia",
            "_model_name": "DropdownModel",
            "index": 2,
            "_view_module": "@jupyter-widgets/controls",
            "_model_module_version": "1.5.0",
            "_view_count": null,
            "disabled": false,
            "_view_module_version": "1.5.0",
            "description_tooltip": null,
            "_model_module": "@jupyter-widgets/controls",
            "layout": "IPY_MODEL_452677f55b1a4efd980e129aee850774"
          }
        },
        "10c18799f9644a38829f9f4981251483": {
          "model_module": "@jupyter-widgets/controls",
          "model_name": "ButtonModel",
          "model_module_version": "1.5.0",
          "state": {
            "_view_name": "ButtonView",
            "style": "IPY_MODEL_b5a89ed9640b45f58338edb3689a9abd",
            "_dom_classes": [],
            "description": "Run Interact",
            "_model_name": "ButtonModel",
            "button_style": "",
            "_view_module": "@jupyter-widgets/controls",
            "_model_module_version": "1.5.0",
            "tooltip": "",
            "_view_count": null,
            "disabled": false,
            "_view_module_version": "1.5.0",
            "layout": "IPY_MODEL_d7db474552154509905f4e643beb7276",
            "_model_module": "@jupyter-widgets/controls",
            "icon": ""
          }
        },
        "bdf3e58cf6a6430aa880f2a1f258c793": {
          "model_module": "@jupyter-widgets/output",
          "model_name": "OutputModel",
          "model_module_version": "1.0.0",
          "state": {
            "_view_name": "OutputView",
            "msg_id": "",
            "_dom_classes": [],
            "_model_name": "OutputModel",
            "outputs": [],
            "_view_module": "@jupyter-widgets/output",
            "_model_module_version": "1.0.0",
            "_view_count": null,
            "_view_module_version": "1.0.0",
            "layout": "IPY_MODEL_e58d674b25a54a5daa56c2e968e5357c",
            "_model_module": "@jupyter-widgets/output"
          }
        },
        "df2ba321f46841e99f447ae121bac771": {
          "model_module": "@jupyter-widgets/controls",
          "model_name": "DescriptionStyleModel",
          "model_module_version": "1.5.0",
          "state": {
            "_view_name": "StyleView",
            "_model_name": "DescriptionStyleModel",
            "description_width": "",
            "_view_module": "@jupyter-widgets/base",
            "_model_module_version": "1.5.0",
            "_view_count": null,
            "_view_module_version": "1.2.0",
            "_model_module": "@jupyter-widgets/controls"
          }
        },
        "452677f55b1a4efd980e129aee850774": {
          "model_module": "@jupyter-widgets/base",
          "model_name": "LayoutModel",
          "model_module_version": "1.2.0",
          "state": {
            "_view_name": "LayoutView",
            "grid_template_rows": null,
            "right": null,
            "justify_content": null,
            "_view_module": "@jupyter-widgets/base",
            "overflow": null,
            "_model_module_version": "1.2.0",
            "_view_count": null,
            "flex_flow": null,
            "width": null,
            "min_width": null,
            "border": null,
            "align_items": null,
            "bottom": null,
            "_model_module": "@jupyter-widgets/base",
            "top": null,
            "grid_column": null,
            "overflow_y": null,
            "overflow_x": null,
            "grid_auto_flow": null,
            "grid_area": null,
            "grid_template_columns": null,
            "flex": null,
            "_model_name": "LayoutModel",
            "justify_items": null,
            "grid_row": null,
            "max_height": null,
            "align_content": null,
            "visibility": null,
            "align_self": null,
            "height": null,
            "min_height": null,
            "padding": null,
            "grid_auto_rows": null,
            "grid_gap": null,
            "max_width": null,
            "order": null,
            "_view_module_version": "1.2.0",
            "grid_template_areas": null,
            "object_position": null,
            "object_fit": null,
            "grid_auto_columns": null,
            "margin": null,
            "display": null,
            "left": null
          }
        },
        "b5a89ed9640b45f58338edb3689a9abd": {
          "model_module": "@jupyter-widgets/controls",
          "model_name": "ButtonStyleModel",
          "model_module_version": "1.5.0",
          "state": {
            "_view_name": "StyleView",
            "_model_name": "ButtonStyleModel",
            "_view_module": "@jupyter-widgets/base",
            "_model_module_version": "1.5.0",
            "_view_count": null,
            "button_color": null,
            "font_weight": "",
            "_view_module_version": "1.2.0",
            "_model_module": "@jupyter-widgets/controls"
          }
        },
        "d7db474552154509905f4e643beb7276": {
          "model_module": "@jupyter-widgets/base",
          "model_name": "LayoutModel",
          "model_module_version": "1.2.0",
          "state": {
            "_view_name": "LayoutView",
            "grid_template_rows": null,
            "right": null,
            "justify_content": null,
            "_view_module": "@jupyter-widgets/base",
            "overflow": null,
            "_model_module_version": "1.2.0",
            "_view_count": null,
            "flex_flow": null,
            "width": null,
            "min_width": null,
            "border": null,
            "align_items": null,
            "bottom": null,
            "_model_module": "@jupyter-widgets/base",
            "top": null,
            "grid_column": null,
            "overflow_y": null,
            "overflow_x": null,
            "grid_auto_flow": null,
            "grid_area": null,
            "grid_template_columns": null,
            "flex": null,
            "_model_name": "LayoutModel",
            "justify_items": null,
            "grid_row": null,
            "max_height": null,
            "align_content": null,
            "visibility": null,
            "align_self": null,
            "height": null,
            "min_height": null,
            "padding": null,
            "grid_auto_rows": null,
            "grid_gap": null,
            "max_width": null,
            "order": null,
            "_view_module_version": "1.2.0",
            "grid_template_areas": null,
            "object_position": null,
            "object_fit": null,
            "grid_auto_columns": null,
            "margin": null,
            "display": null,
            "left": null
          }
        },
        "e58d674b25a54a5daa56c2e968e5357c": {
          "model_module": "@jupyter-widgets/base",
          "model_name": "LayoutModel",
          "model_module_version": "1.2.0",
          "state": {
            "_view_name": "LayoutView",
            "grid_template_rows": null,
            "right": null,
            "justify_content": null,
            "_view_module": "@jupyter-widgets/base",
            "overflow": null,
            "_model_module_version": "1.2.0",
            "_view_count": null,
            "flex_flow": null,
            "width": null,
            "min_width": null,
            "border": null,
            "align_items": null,
            "bottom": null,
            "_model_module": "@jupyter-widgets/base",
            "top": null,
            "grid_column": null,
            "overflow_y": null,
            "overflow_x": null,
            "grid_auto_flow": null,
            "grid_area": null,
            "grid_template_columns": null,
            "flex": null,
            "_model_name": "LayoutModel",
            "justify_items": null,
            "grid_row": null,
            "max_height": null,
            "align_content": null,
            "visibility": null,
            "align_self": null,
            "height": null,
            "min_height": null,
            "padding": null,
            "grid_auto_rows": null,
            "grid_gap": null,
            "max_width": null,
            "order": null,
            "_view_module_version": "1.2.0",
            "grid_template_areas": null,
            "object_position": null,
            "object_fit": null,
            "grid_auto_columns": null,
            "margin": null,
            "display": null,
            "left": null
          }
        }
      }
    }
  },
  "cells": [
    {
      "cell_type": "markdown",
      "metadata": {
        "id": "view-in-github",
        "colab_type": "text"
      },
      "source": [
        "<a href=\"https://colab.research.google.com/github/MontiMic/Tesi/blob/riordinato/Untitled1.ipynb\" target=\"_parent\"><img src=\"https://colab.research.google.com/assets/colab-badge.svg\" alt=\"Open In Colab\"/></a>"
      ]
    },
    {
      "cell_type": "markdown",
      "source": [
        "# Introduzione\n",
        "La seguente presentazione si propone di semplificare l'apprendimento di alcuni principi del calcolo probabilistico offrendo la possibilità di vedere applicare le leggi su grandi numeri e confrontando i risultati ottenuti con quelli attesi dalla teoria."
      ],
      "metadata": {
        "id": "yyLelI9l5lbc"
      }
    },
    {
      "cell_type": "markdown",
      "source": [
        "Di seguito includiamo le librerie che verranno utilizzate nel corso della presentazione:\n",
        "\n",
        "* **numpy** per la manipolazione dei dati\n",
        "\n",
        "* **interact** per rendere la presentazione interattiva offrendo la possibilità allo studente di scegliere gli input\n",
        "\n",
        "* **pyplot** per la rappresentazione grafica dei risultati"
      ],
      "metadata": {
        "id": "35yCw13F7Yam"
      }
    },
    {
      "cell_type": "code",
      "execution_count": 48,
      "metadata": {
        "id": "TAxUPZupC-qR"
      },
      "outputs": [],
      "source": [
        "import numpy as np\n",
        "from ipywidgets import interact, interact_manual\n",
        "from matplotlib import pyplot as plt\n",
        "import math\n",
        "import seaborn as sns\n",
        "import random\n",
        "import scipy.stats\n",
        "import pandas as pd"
      ]
    },
    {
      "cell_type": "markdown",
      "source": [
        "##Elementi di python"
      ],
      "metadata": {
        "id": "XN5Whz1Y9fiZ"
      }
    },
    {
      "cell_type": "markdown",
      "source": [
        "Questa sezione è rivolta unicamente a chi non avesse ancora mai visto il python, allo scopo di mostrare alcune pratiche peculiari a Python."
      ],
      "metadata": {
        "id": "yHNFMDrk9pHX"
      }
    },
    {
      "cell_type": "markdown",
      "source": [
        "La funzione np.zeros(n) restituisce un array di zeri lungo n"
      ],
      "metadata": {
        "id": "kXZd8nfHDkHj"
      }
    },
    {
      "cell_type": "code",
      "source": [
        "np.zeros(5)"
      ],
      "metadata": {
        "colab": {
          "base_uri": "https://localhost:8080/"
        },
        "id": "Pukdrzg7-ggY",
        "outputId": "ea2bc692-7b4a-47e7-9c38-9cbc07340356"
      },
      "execution_count": 49,
      "outputs": [
        {
          "output_type": "execute_result",
          "data": {
            "text/plain": [
              "array([0., 0., 0., 0., 0.])"
            ]
          },
          "metadata": {},
          "execution_count": 49
        }
      ]
    },
    {
      "cell_type": "markdown",
      "source": [
        "Specificando anche il type booleano facciamo una conversione: \n",
        "\n",
        "*  Gli zeri diventano False\n",
        "\n",
        "* I valori diversi da zero diventano True"
      ],
      "metadata": {
        "id": "VyLCyWeYDvuh"
      }
    },
    {
      "cell_type": "code",
      "source": [
        "esempio = np.zeros(10, dtype=np.bool_)\n",
        "print(esempio)"
      ],
      "metadata": {
        "colab": {
          "base_uri": "https://localhost:8080/"
        },
        "id": "lO-15LDEDZEP",
        "outputId": "c9370280-8199-43ec-a899-456ba1dba9ef"
      },
      "execution_count": 50,
      "outputs": [
        {
          "output_type": "stream",
          "name": "stdout",
          "text": [
            "[False False False False False False False False False False]\n"
          ]
        }
      ]
    },
    {
      "cell_type": "markdown",
      "source": [
        "Useremo questo tipo di struttura dati per simulare praticamente tutto, dalla roulette (True = rosso, False = nero) ad un urna di palline (quando ci basteranno 2 soli colori delle palline)"
      ],
      "metadata": {
        "id": "t-fqP7KSEIUu"
      }
    },
    {
      "cell_type": "markdown",
      "source": [
        "Per modificare un array il python ci offre uno strumento molto potente: lo slicing. Questa funzionalità permette di intervenire su un qualunque sottoinsieme dell'array se usata correttamente. A noi basta sapere che in un caso come esempio[1:5:2], stiamo intervenendo sull'array esempio, prendendo gli elementi dalla posizione 1 (inclusa) alla posizione 5 (esclusa) con passo 2:"
      ],
      "metadata": {
        "id": "OEyj-K9iEeQa"
      }
    },
    {
      "cell_type": "code",
      "source": [
        "esempio = ['a', 'b', 'c', 'd', 'e']\n",
        "esempio[1:5:2]"
      ],
      "metadata": {
        "colab": {
          "base_uri": "https://localhost:8080/"
        },
        "id": "48oF9noGF3Np",
        "outputId": "494a701a-0db6-4368-ff73-c53ba4542a87"
      },
      "execution_count": 51,
      "outputs": [
        {
          "output_type": "execute_result",
          "data": {
            "text/plain": [
              "['b', 'd']"
            ]
          },
          "metadata": {},
          "execution_count": 51
        }
      ]
    },
    {
      "cell_type": "markdown",
      "source": [
        "Non specificare il primo parametro significa partire dall'elemento 0, omettere il secondo significa procedere fino all'ultimo (compreso) e non specificare il passo significa passo 1: non saltare nessun elemento."
      ],
      "metadata": {
        "id": "Rm-4oAaOGvIL"
      }
    },
    {
      "cell_type": "markdown",
      "source": [
        "La funzione range(n) restituisce un iterabile lungo n. In python è generalmente usata nel ciclo for."
      ],
      "metadata": {
        "id": "b6PzabLwIH1d"
      }
    },
    {
      "cell_type": "code",
      "source": [
        "for i in range(5):\n",
        "  print(i)"
      ],
      "metadata": {
        "colab": {
          "base_uri": "https://localhost:8080/"
        },
        "id": "fdFx5oZPIaf5",
        "outputId": "81233db4-4d4e-480a-e073-9e5a2f98e3a0"
      },
      "execution_count": 52,
      "outputs": [
        {
          "output_type": "stream",
          "name": "stdout",
          "text": [
            "0\n",
            "1\n",
            "2\n",
            "3\n",
            "4\n"
          ]
        }
      ]
    },
    {
      "cell_type": "markdown",
      "source": [
        "##Funzioni utili"
      ],
      "metadata": {
        "id": "UdZaaBfKzjzX"
      }
    },
    {
      "cell_type": "markdown",
      "source": [
        "Quelle che seguono sono funzioni utilizzate in più test del documento, per il corretto funzionamento dei test successivi è necessario eseguire queste celle una volta."
      ],
      "metadata": {
        "id": "iZFqSjhypj_Y"
      }
    },
    {
      "cell_type": "code",
      "source": [
        "#funzione che genera una roulette simulata da un array lungo 37 di cui 18 valori contano come \"vittoria\"\n",
        "def mk_roulette():\n",
        "  ruota = np.zeros(37, dtype=np.bool_)\n",
        "  ruota[1::2] = True\n",
        "  return ruota"
      ],
      "metadata": {
        "id": "4LJOZHxd810N"
      },
      "execution_count": 53,
      "outputs": []
    },
    {
      "cell_type": "code",
      "source": [
        "#funzione che simula una singola partita alla roulette (1 o più puntate uguali) e, dato il portafogli di partenza, torno il nuovo conto\n",
        "def partita(ruota, giocate, puntata, portafogli):\n",
        "  while(giocate > 0):\n",
        "      giocate = giocate - 1\n",
        "      portafogli = portafogli - puntata #la puntata la considero sempre persa, in caso di vittoria vinco il doppio della puntata\n",
        "      if(ruota[np.random.randint(0, (37))]): #estraggo un elemento casuale della roulette e verifico se è rosso\n",
        "        portafogli = portafogli + (puntata * 2)\n",
        "  return portafogli  "
      ],
      "metadata": {
        "id": "fqGFfq_CT7Tv"
      },
      "execution_count": 54,
      "outputs": []
    },
    {
      "cell_type": "code",
      "source": [
        "#funzione che simula un dado ritornando un intero compreso tra 1 e 6\n",
        "def trow():\n",
        "  return np.random.randint(1, 7)"
      ],
      "metadata": {
        "id": "O7NiHEewS99d"
      },
      "execution_count": 55,
      "outputs": []
    },
    {
      "cell_type": "code",
      "source": [
        "#funzione che ritorna un'urna contenente palline di 2 colori in quanità scelta\n",
        "def mk_urna(bianche, rosse):\n",
        "  tot = bianche + rosse\n",
        "  urna = np.zeros(tot, dtype=np.bool_)\n",
        "  while(rosse > 0):\n",
        "    rnd = np.random.randint(0, (tot))\n",
        "    if (not urna[rnd]):\n",
        "      urna[rnd] = True\n",
        "      rosse = rosse - 1\n",
        "  return urna"
      ],
      "metadata": {
        "id": "R06bqIr8Ii4G"
      },
      "execution_count": 56,
      "outputs": []
    },
    {
      "cell_type": "markdown",
      "source": [
        "##Interpretazione dei risultati"
      ],
      "metadata": {
        "id": "EbFr-wXap_mS"
      }
    },
    {
      "cell_type": "markdown",
      "source": [
        "I test di questo documento hanno lo scopo di mostrare che le formule viste con la teoria del calcolo probabilistico hanno un riscontro nella realtà. \n",
        "Ogni test simulerà per un numero di volte a discrezione dello studente, lo scenario descritto dall'esempio in esame. Si noti che un numero più alto di ripetizioni porterà a risultati più precisi."
      ],
      "metadata": {
        "id": "Mp5-2IqZqDex"
      }
    },
    {
      "cell_type": "code",
      "source": [
        "def moneta(lanci):\n",
        "  results = []\n",
        "  for i in range(lanci): #lanciamo la moneta tante volte quante indicate dal parametro \"lanci\"\n",
        "    results.append(np.random.randint(2))\n",
        "  #grafico\n",
        "  labels = []\n",
        "  normalized = []\n",
        "  normalized.append(round(((results.count(0) / lanci) * 100), 2)) #conto le istanze dei risultati e le normalizzo\n",
        "  normalized.append(round(100 - sum(normalized), 2)) #per evitare che per errori di arrotondamento la somma dei risultati sia 99.9%, l'ultimo risultato lo calcolo come 100 - (la somma dei precedenti)\n",
        "  for i in range(len(normalized)):\n",
        "    labels.append(str(normalized[i]) + \"%\") # aggiungo le labels (i valori riportati all'esterno del grafico)\n",
        "  plt.pie(normalized, labels=labels)\n",
        "  legenda = [\"Testa\", \"Croce\"]\n",
        "  plt.legend(legenda,loc='upper center', bbox_to_anchor=(0.5, -0.05), fancybox=True, shadow=True, ncol=5)"
      ],
      "metadata": {
        "id": "pZxUQQ-_rGuz"
      },
      "execution_count": 57,
      "outputs": []
    },
    {
      "cell_type": "code",
      "source": [
        "moneta(100)"
      ],
      "metadata": {
        "id": "7rynuIn1ubs4",
        "outputId": "1fff6201-23a9-4cf7-f189-9eab2ad32a66",
        "colab": {
          "base_uri": "https://localhost:8080/",
          "height": 282
        }
      },
      "execution_count": 58,
      "outputs": [
        {
          "output_type": "display_data",
          "data": {
            "image/png": "[encoded data removed]",
            "text/plain": [
              "<Figure size 432x288 with 1 Axes>"
            ]
          },
          "metadata": {}
        }
      ]
    },
    {
      "cell_type": "code",
      "source": [
        "moneta(10_000)"
      ],
      "metadata": {
        "id": "E6dWQdxUud7o",
        "outputId": "793f6180-ba9a-43bb-b122-88b71ec2956d",
        "colab": {
          "base_uri": "https://localhost:8080/",
          "height": 282
        }
      },
      "execution_count": 59,
      "outputs": [
        {
          "output_type": "display_data",
          "data": {
            "image/png": "[encoded data removed]",
            "text/plain": [
              "<Figure size 432x288 with 1 Axes>"
            ]
          },
          "metadata": {}
        }
      ]
    },
    {
      "cell_type": "code",
      "source": [
        "moneta(1_000_000)"
      ],
      "metadata": {
        "id": "uNmo8_dXugoY",
        "outputId": "081f85b6-0624-4cc1-b855-19e1c9a9f0a7",
        "colab": {
          "base_uri": "https://localhost:8080/",
          "height": 282
        }
      },
      "execution_count": 60,
      "outputs": [
        {
          "output_type": "display_data",
          "data": {
            "image/png": "[encoded data removed]",
            "text/plain": [
              "<Figure size 432x288 with 1 Axes>"
            ]
          },
          "metadata": {}
        }
      ]
    },
    {
      "cell_type": "markdown",
      "source": [
        "Per un buon equilibrio tra accuratezza dei risultati e tempo di esecuzione impostiamo il numero di ripetizioni a 100 000 con la variabile \"precisione\"."
      ],
      "metadata": {
        "id": "0_jUagMkw72N"
      }
    },
    {
      "cell_type": "code",
      "source": [
        "precisione = 100_000"
      ],
      "metadata": {
        "id": "7YqOeAMoxunS"
      },
      "execution_count": 61,
      "outputs": []
    },
    {
      "cell_type": "markdown",
      "source": [
        "Si lascia allo studente la possibilità di incrementare questa variabile se desiderasse dei risultati più precisi."
      ],
      "metadata": {
        "id": "uH7_BXdBxvvq"
      }
    },
    {
      "cell_type": "markdown",
      "source": [
        "# Variabili aleatorie discrete"
      ],
      "metadata": {
        "id": "gQTrf-PK7FxE"
      }
    },
    {
      "cell_type": "markdown",
      "source": [
        "Una variabile aleatoria _X_ si dice discreta se i valori che assume sono finiti oppure numerabili.\n",
        "\n",
        "Nel caso siano numerabili molto spesso potremo pensare che siano semplicmente i numeri interi, ma non vogliamo escludere anche casi in cui abbiamo dei valori non interi."
      ],
      "metadata": {
        "id": "f7tQYrZgLgm2"
      }
    },
    {
      "cell_type": "markdown",
      "source": [
        "##Esempio 1.1 \n",
        "Faccio 3 puntate sul rosso alla roulette puntando 10 euro per volta, qual è la probabilità di vincere più di un certo valore _X_?\n",
        "\n",
        "(Le vincite possibili sono valori finiti ed è quindi una variabile discreta)"
      ],
      "metadata": {
        "id": "wO2wYqZ-DSZF"
      }
    },
    {
      "cell_type": "code",
      "source": [
        "@interact_manual(vincita=(0, 30))\n",
        "def es11(vincita=5):\n",
        "  giocate = 3\n",
        "  puntata = 10\n",
        "  ruota = mk_roulette()\n",
        "  count = 0\n",
        "  for i in range(precisione):\n",
        "    portafogli = giocate * puntata\n",
        "    portafogli = partita(ruota, giocate, puntata, portafogli) #il portafogli viene aggiornato dopo aver simulato una partita\n",
        "    if((portafogli - (giocate*puntata)) >= vincita): #se ho finito le 3 puntate con una vincita maggiore o uguale a quella sperata la aggiungo al conteggio\n",
        "      count = count + 1\n",
        "  return round(count / precisione, 3)"
      ],
      "metadata": {
        "colab": {
          "base_uri": "https://localhost:8080/",
          "height": 81,
          "referenced_widgets": [
            "fc198a11876c4587b93aee53346ae657",
            "c54e770130b440df878d885aa944a0e9",
            "f80be544086b4be18dd0474f5ea14e0e",
            "a0a86a29eb12449cbb783b7a9c756ada",
            "6dafd4adbde14a019a1447fedc97229f",
            "f760ec5c97ae4cd1ac51da702c3addcb",
            "8023709604c84701ac99a2e84342748e",
            "a3591b8348f3422ca72792c7b68d70ef",
            "f68f690aeeaa41b59623241311816ace",
            "f777fde882cc4437a9cfed54b910637e"
          ]
        },
        "id": "w2ugmhMy_cfa",
        "outputId": "77475755-de0f-4bf4-c226-3deecda2d21a"
      },
      "execution_count": 62,
      "outputs": [
        {
          "output_type": "display_data",
          "data": {
            "application/vnd.jupyter.widget-view+json": {
              "model_id": "fc198a11876c4587b93aee53346ae657",
              "version_minor": 0,
              "version_major": 2
            },
            "text/plain": [
              "interactive(children=(IntSlider(value=5, description='vincita', max=30), Button(description='Run Interact', st…"
            ]
          },
          "metadata": {}
        }
      ]
    },
    {
      "cell_type": "markdown",
      "source": [
        "##Esempio 1.2\n",
        "Dati il numero di puntate ed i soldi scommessi ogni volta, quanto mi dovrei aspettare di aver vinto alla fine? (risultato in euro)"
      ],
      "metadata": {
        "id": "tTOcRD2kD_zf"
      }
    },
    {
      "cell_type": "code",
      "source": [
        "@interact_manual(giocate=(1, 10), puntata=(5, 100, 5))\n",
        "def es12(giocate = 3, puntata = 10):\n",
        "  portafogli = giocate * puntata * precisione\n",
        "  ruota = mk_roulette()\n",
        "  for i in range(precisione):\n",
        "    portafogli = partita(ruota, giocate, puntata, portafogli)\n",
        "  portafogli = portafogli / precisione\n",
        "  return round(portafogli - (giocate * puntata), 2)"
      ],
      "metadata": {
        "colab": {
          "base_uri": "https://localhost:8080/",
          "height": 113,
          "referenced_widgets": [
            "82205f60f88c464a94e9b8e92ca5bf86",
            "ba17a0c3fdf44f5da3e433de6869353a",
            "f2770d9361a54eedacea2d607e77c605",
            "a822f4c5c5df4f639f6b566499949da9",
            "44829de9028d486d8107a06f1d0db0f1",
            "847178f54b304877aca4665db2fc3f9d",
            "4e44316e7df5439eb73affd79c4c2ebe",
            "bc98a9fbbfac48b2addd5fd3dd10783d",
            "0f16091e9b5844a59e4d61cf7356f839",
            "3cd19441632541f386c0341976c158d6",
            "9bb4b756dce84a7482b7ccde0714e68e",
            "b869d61d087d4714b58e7da123dbf2ad",
            "c1bd3333f2f148eb8ea017e53fe08e92"
          ]
        },
        "id": "TR8QkEnHD-B2",
        "outputId": "89aa2e27-dc84-4227-e23a-ac6cdf72affd"
      },
      "execution_count": 63,
      "outputs": [
        {
          "output_type": "display_data",
          "data": {
            "application/vnd.jupyter.widget-view+json": {
              "model_id": "82205f60f88c464a94e9b8e92ca5bf86",
              "version_minor": 0,
              "version_major": 2
            },
            "text/plain": [
              "interactive(children=(IntSlider(value=3, description='giocate', max=10, min=1), IntSlider(value=10, descriptio…"
            ]
          },
          "metadata": {}
        }
      ]
    },
    {
      "cell_type": "markdown",
      "source": [
        "# Distribuzione uniforme e non uniforme"
      ],
      "metadata": {
        "id": "qBnKgfwaLT9x"
      }
    },
    {
      "cell_type": "markdown",
      "source": [
        "Sia _A_ = {_x1_, . . . , _xn_}; una variabile _X_ che assume i valori in _A_ tutti con la stessa probabilità $\\frac{1}{n}$\n",
        "si dice _variabile uniforme_ su _A_. Scriviamo in questo caso _X_ ∼ _U_(_A_) oppure _X_ ∼ _U_(_x1_, . . . , _xn_).\n",
        "La densità è quindi:\n",
        "\n",
        "\\begin{equation}\n",
        "  px(h) =\n",
        "    \\begin{cases}\n",
        "           \\frac{1}{n} \\ se \\  h  \\ ∈ \\ ({x1}, {x2}, ..., {xn})\n",
        "          \\\\\n",
        "          0 \\ altrimenti\n",
        "        \\end{cases}\n",
        "\\end{equation}"
      ],
      "metadata": {
        "id": "GUQzPwZ8NK0Q"
      }
    },
    {
      "cell_type": "markdown",
      "source": [
        "##Esempio 2.1 \n",
        "Nel lancio di un dado sia Ω = {1, 2, 3, 4, 5, 6} l’insieme dei possibili risultati.\n",
        "Allora la funzione _X_(_n_) = n per ogni n ∈ Ω è una variabile aleatoria uniforme _X_ ∼ _U_(1, 2, 3, 4, 5, 6).\n"
      ],
      "metadata": {
        "id": "HJrqw0EbXj2l"
      }
    },
    {
      "cell_type": "code",
      "source": [
        "def es21():\n",
        "  results = []\n",
        "  for i in range(precisione):\n",
        "    results.append(trow()) #aggiungo il risultato del tiro alla lista dei risultati\n",
        "  #grafico\n",
        "  elem_count = []\n",
        "  labels = []\n",
        "  for i in range(len(set(results))): #conto le istanze di ogni risultato ottenuto ed aggiungo i totali a elem_count, poi lo metto a grafico\n",
        "    elem_count.append(results.count(i+1))\n",
        "    labels.append(str(i+1))\n",
        "  plt.bar(labels, elem_count)\n",
        "es21()"
      ],
      "metadata": {
        "colab": {
          "base_uri": "https://localhost:8080/",
          "height": 265
        },
        "id": "pO1ExmtATCeI",
        "outputId": "7ceee49b-5395-49bb-931c-01f996105b07"
      },
      "execution_count": 64,
      "outputs": [
        {
          "output_type": "display_data",
          "data": {
            "image/png": "[encoded data removed]",
            "text/plain": [
              "<Figure size 432x288 with 1 Axes>"
            ]
          },
          "metadata": {
            "needs_background": "light"
          }
        }
      ]
    },
    {
      "cell_type": "markdown",
      "source": [
        "##Esempio 2.2\n",
        "Se invece lanciassimo due dadi, la variabile _X_ che assume un valore corrispondente al numero di risultati pari ottenuti dal lancio sarebbe una _variabile non uniforme_ siccome la sua densità sarebbe:\n",
        "\n",
        "\\begin{equation}\n",
        "  py(h) =\n",
        "    \\begin{cases}\n",
        "          \\frac{1}{4} \\  h={0},{2}\n",
        "          \\\\\n",
        "          \\frac{1}{2} \\ h={1}\n",
        "          \\\\\n",
        "          0 \\ altrimenti\n",
        "        \\end{cases}\n",
        "\\end{equation}"
      ],
      "metadata": {
        "id": "BZUNA1OvaQp6"
      }
    },
    {
      "cell_type": "code",
      "source": [
        "def es22():\n",
        "  results = []\n",
        "  for i in range(precisione):\n",
        "    a, b = trow(), trow() #lancio due dadi, poi conterò quanti sono pari per aggiungere il risultato alla lista\n",
        "    results.append(2-((a % 2)+(b % 2))) #conto i dadi pari come due meno i dadi dispari (n%2 = 1 per n dispari, 0 altrimenti)\n",
        "  valori = []\n",
        "  normalized = []\n",
        "  for i in range(3): #conto le istanze dei risultati e le divido per il numero di risultati totale (normalizzo)\n",
        "    normalized.append(results.count(i) / len(results)) #len(results) torna la lunghezza della lista results\n",
        "    valori.append(\"k=\" + str(i))\n",
        "  plt.pie(normalized, labels=valori)\n",
        "es22()"
      ],
      "metadata": {
        "colab": {
          "base_uri": "https://localhost:8080/",
          "height": 248
        },
        "id": "Ly_UKZkxZr2J",
        "outputId": "1e8bf3f5-74a4-43a1-b2f8-c1e43bd8a8c9"
      },
      "execution_count": 65,
      "outputs": [
        {
          "output_type": "display_data",
          "data": {
            "image/png": "[encoded data removed]",
            "text/plain": [
              "<Figure size 432x288 with 1 Axes>"
            ]
          },
          "metadata": {}
        }
      ]
    },
    {
      "cell_type": "markdown",
      "source": [
        "#Densità binomiale"
      ],
      "metadata": {
        "id": "qimeQspadWgq"
      }
    },
    {
      "cell_type": "markdown",
      "source": [
        "Consideriamo un fenomeno aleatorio e un certo evento ad esso associato. Per semplicità diciamo che se l’evento si realizza otteniamo un “successo”, viceversa che abbiamo ottenuto un “insuccesso\".\n",
        "Uno schema successo-insuccesso consiste nel ripetere questo fenomeno un certo fissato numero di volte, dette anche prove o tentativi, in cui siamo interessati unicamente al numero di successi ottenuti\n",
        "nelle varie prove.\n",
        "Supponiamo ora che le prove siano indipendenti l’una dall’altra, cioè vengono effettuate tuttevnelle medesime condizioni, indipendentemente dal risultato delle prove precedenti: parliamo in questo caso di schema successo-insuccesso con ripetizione o a prove indipendenti. Consideriamo\n",
        "quindi la variabile X data dal numero di successi in n tentativi.\n",
        "Nel caso in cui le prove siano indipendenti l’una dall’altra, la probabilità di ottenere una certa prefissata sequenza di successi e insuccessi dipende solo dal numero di questi ultimi e non dall’ordine con cui vogliamo che si succedano. La probabilità di ottenere una sequenza fissata in cui abbiamo k successi e n − k insuccessi è data da\n",
        "$p^k(1-p)^{n-k}$, dove p è la probabilità che ogni singolo tentativo abbia successo. Siccome i modi in cui possiamo scegliere le k posizioni per i successi sono date da ${n\\choose k}$ otteniamo per la variabile X la densità data da\n",
        "\n",
        "\\begin{equation}\n",
        "  px(k) =\n",
        "    \\begin{cases}\n",
        "          {n\\choose k} p^k(1-p)^{n-k} \\ se \\ k=1,2,...,n\n",
        "          \\\\\n",
        "          0 \\ altrimenti\n",
        "        \\end{cases}\n",
        "\\end{equation}\n",
        "\n",
        "\n",
        "Scriveremo in questo caso _X_ ∼ _B_(_n_, _p_) e diciamo che _X_ è una variabile binomiale."
      ],
      "metadata": {
        "id": "OUh7jiOk7WSD"
      }
    },
    {
      "cell_type": "markdown",
      "source": [
        "##Esempio 3.1\n",
        "\n",
        "Supponiamo di andare al casinò con 15 Euro e puntiamo 3 volte 5 Euro alla roulette sul rosso. Consideriamo la variabile aleatoria X data dai soldi che abbiamo in tasca alla fine delle 3 puntate. La probabilità di ottenere un numero rosso è di $\\frac{18}{37}$ ad ogni tentativo.\n",
        "Determinare la densità di X.\n",
        "La variabile X può assumere i valori 30, 20, 10, 0 a seconda di quanti rossi sono usciti. Abbiamo:\n",
        "\n",
        "P(X = 30) = $(\\frac{18}{37})^3$ = 0,115\n",
        "\n",
        "P(X = 20) = ${3\\choose 1}(\\frac{18}{37})^2 · \\frac{19}{37}$= 0, 365\n",
        "\n",
        "P(X = 10) = ${3\\choose 2}(\\frac{18}{37}) · (\\frac{19}{37})^2$ = 0,385\n",
        "\n",
        "P(X = 0) = $(\\frac{19}{37})^3$ = 0,135\n"
      ],
      "metadata": {
        "id": "O8PjzahWhrRr"
      }
    },
    {
      "cell_type": "code",
      "source": [
        "@interact_manual(giocate=(1, 6), puntata=(5, 100, 5))\n",
        "def es31(giocate = 3, puntata = 5):\n",
        "  ruota = mk_roulette()\n",
        "  results = []\n",
        "  for i in range(precisione):\n",
        "    portafogli = giocate * puntata\n",
        "    portafogli = partita(ruota, giocate, puntata, portafogli)\n",
        "    results.append(portafogli)\n",
        "  #grafico\n",
        "  normalized = []\n",
        "  valori = []\n",
        "  for i in range(giocate):\n",
        "    normalized.append(round(((results.count(puntata*2*i) / precisione) * 100), 2)) #conto le istanze dei risultati e le normalizzo\n",
        "  normalized.append(round(100 - sum(normalized), 2)) #per evitare che per errori di arrotondamento la somma dei risultati sia 99.9%, l'ultimo risultato lo calcolo come 100 - (la somma dei precedenti)\n",
        "  labels = []\n",
        "  for i in range(len(normalized)):\n",
        "    labels.append(str(normalized[i]) + \"%\") # aggiungo le labels (i valori riportati all'esterno del grafico)\n",
        "  plt.pie(normalized, labels=labels)\n",
        "  legenda = []\n",
        "  for i in range(len(normalized)):\n",
        "    legenda.append(str(puntata*2*i))\n",
        "  plt.legend(legenda,loc='upper center', bbox_to_anchor=(0.5, -0.05), fancybox=True, shadow=True, ncol=5)"
      ],
      "metadata": {
        "id": "QDB96jXivO40",
        "outputId": "ca655707-a69a-4bad-97f7-b388b3d63d49",
        "colab": {
          "base_uri": "https://localhost:8080/",
          "height": 113,
          "referenced_widgets": [
            "eab43a4519194f5e9872e5352499d197",
            "dca3b961c03d419cb270d718398acf33",
            "b0425105786645f197ec648ec03d8871",
            "fd19c3d5bbf54ce0a8964ff10703db4b",
            "982eb7f9491c413db124aac90f64d70a",
            "10605fc8cfa74ffa946b36bc3c68b07f",
            "8f9d305c34c645208d61df12674db5d8",
            "064695e36db242ffa77e49ad442713a5",
            "7658680f8a0b4241bb53c8d8618ecb08",
            "8c286f89d6474f0180493390488aae82",
            "31e557bcaf8b421fbc536b14c2e8ce5b",
            "6c0820fee250498987ad42726d0b4aac",
            "ae580fafacf648319a414a9aa8878741"
          ]
        }
      },
      "execution_count": 66,
      "outputs": [
        {
          "output_type": "display_data",
          "data": {
            "application/vnd.jupyter.widget-view+json": {
              "model_id": "eab43a4519194f5e9872e5352499d197",
              "version_minor": 0,
              "version_major": 2
            },
            "text/plain": [
              "interactive(children=(IntSlider(value=3, description='giocate', max=6, min=1), IntSlider(value=5, description=…"
            ]
          },
          "metadata": {}
        }
      ]
    },
    {
      "cell_type": "markdown",
      "source": [
        "# Densità ipergeometrica"
      ],
      "metadata": {
        "id": "9PjQr8MmCUYu"
      }
    },
    {
      "cell_type": "markdown",
      "source": [
        "\n",
        "Un altro tipo di schema successo-insuccesso è il cosiddetto schema successo-insuccesso _senza ripetizione_. In questo caso il fenomeno aleatorio consiste nell’estrazione di n palline, senza rimpiazzare di volta in volta la pallina estratta, da un'urna contenente b palline bianche e r palline rosse.\n",
        "Diciamo che la prova (estrazione) dà successo se viene estratta una pallina bianca e consideriamo la variabile X data dal numero di successi ottenuti, cioè dal numero di palline bianche estratte.\n",
        "\n",
        "\n",
        "Osserviamo che X può assumere tutti i valori tra max(0, n − r) e min(n, b): infatti se n > r siamo sicuri di pescare almeno n−r palline bianche e chiaramente il numero di bianche estratte non può superare nè il numero estrazioni nè il numero di palline bianche.\n",
        "\n",
        "Lo spazio Ω è dato da tutti i possibili sottoinsiemi di n oggetti (le palline estratte) scelti da un insieme di b + r oggetti (le palline\n",
        "disponibili), con probabilità uniforme. L’evento “X = k” è dato quindi da tutti i sottoinsiemi delle b + r palline costituiti da k palline bianche e n − k palline rosse. Le k bianche le posso scegliere in ${b\\choose k}$ modi. Le n − k rosse in ${r \\choose {n - k}}$ modi. Abbiamo quindi che la densità di X è data da\n",
        "\n",
        "\\begin{equation}\n",
        "  px(k) =\n",
        "    \\begin{cases}\n",
        "          \\frac{{b \\choose k} · {r \\choose n - k}}{b + r \\choose n} \\ se \\ k=max(0, n-r),...,min(n,b)\n",
        "          \\\\\n",
        "          0 \\ altrimenti\n",
        "        \\end{cases}\n",
        "\\end{equation}\n",
        "\n",
        "Scriviamo in questo caso X ∼ H(n; b, r) e diciamo che X è una variabile ipergeometrica."
      ],
      "metadata": {
        "id": "OnLdbdQjCbyl"
      }
    },
    {
      "cell_type": "markdown",
      "source": [
        "##Esempio 4.1\n",
        "Un’urna contiene 8 palline bianche e 2 rosse. Ne estraiamo 3 senza rimpiazzo.\n",
        "Qual è la probabilità di estrarne al più una rossa? In questo caso, a differenza del precedente abbiamo che la variabile X = numero di rosse estratte è una ipergeometrica X ∼ H(3; 2, 8) per\n",
        "cui\n",
        "\n",
        "P(_X_ ≤ 1) = P(_X_ = 0) + P(_X_ = 1) = $\\frac{{2 \\choose 0}·{8 \\choose 3}}{10 \\choose 3}$ + $\\frac{{2 \\choose 1}·{8 \\choose 2}}{10 \\choose 3}$ = $\\frac{14}{15}$ = 0.933"
      ],
      "metadata": {
        "id": "mqqc2UiZGaIY"
      }
    },
    {
      "cell_type": "code",
      "source": [
        "@interact_manual(estrazioni=(1, 10))\n",
        "def es41(estrazioni=3):\n",
        "  bianche = 8\n",
        "  rosse = 2\n",
        "  urna = mk_urna(bianche, rosse)\n",
        "  results = 0\n",
        "  for i in range(precisione):\n",
        "    tmp = urna\n",
        "    for i in range(estrazioni):\n",
        "      tmp = np.delete(tmp, np.random.randint(0, ((bianche + rosse)-i)))\n",
        "    if(tmp.sum() > 0):\n",
        "      results = results + 1  \n",
        "  return round(results / precisione, 3)"
      ],
      "metadata": {
        "id": "R0SjK_tkMtDv",
        "colab": {
          "base_uri": "https://localhost:8080/",
          "height": 81,
          "referenced_widgets": [
            "67c20b42f805402aa1f4f9481538ec68",
            "6bac51a009f6471397cb7493b0b60bff",
            "e68a898d2dbc478c9b7c55c823a60a32",
            "f8d7937a8de741afbd4e2072591542aa",
            "4838e4660c1841a0bcf46f83e26767ad",
            "c7f107f75cca4301896842df21ba8663",
            "04abd5cd0b084ee7adc3ba3a149cbdcb",
            "43c4c51975df49a39289a5919a8f72d1",
            "9bd28843cec045fe824450239de4bb7c",
            "921d60565e5b48d4acb2ceadf29d42b1"
          ]
        },
        "outputId": "497051f1-b558-4083-ff31-fccd4ca49fb3"
      },
      "execution_count": 67,
      "outputs": [
        {
          "output_type": "display_data",
          "data": {
            "application/vnd.jupyter.widget-view+json": {
              "model_id": "67c20b42f805402aa1f4f9481538ec68",
              "version_minor": 0,
              "version_major": 2
            },
            "text/plain": [
              "interactive(children=(IntSlider(value=3, description='estrazioni', max=10, min=1), Button(description='Run Int…"
            ]
          },
          "metadata": {}
        }
      ]
    },
    {
      "cell_type": "markdown",
      "source": [
        "#Densità geometrica - geometrica modificata"
      ],
      "metadata": {
        "id": "-GtoecXjUH1e"
      }
    },
    {
      "cell_type": "markdown",
      "source": [
        "In uno schema successo-insuccesso, anzichè al numero di successi ottenuti su n tentativi, potremmo essere interessati al numero di tentativi che devo effettuare prima di ottenere un successo."
      ],
      "metadata": {
        "id": "YBirGuNoUKbB"
      }
    },
    {
      "cell_type": "markdown",
      "source": [
        "##Esempio 5.1\n",
        "\n",
        "Consideriamo un’urna con 2 palline bianche e 3 rosse. Le estraggo senza\n",
        "rimpiazzo finchè non trovo una pallina rossa. Considero la variabile aleatoria X=numero di estrazioni per trovare una pallina rossa. X è una variabile finita in quanto assume solo i valori 1, 2, 3.\n",
        "La sua densità si determina facilmente ed è data da\n",
        "\n",
        "\\begin{equation}\n",
        "  px(k) =\n",
        "    \\begin{cases}\n",
        "          \\frac{6}{10} \\ se \\ k=1\n",
        "          \\\\\n",
        "          \\frac{3}{10} \\ se \\ k=2\n",
        "          \\\\\n",
        "          \\frac{1}{10} \\ se \\ k=3\n",
        "          \\\\\n",
        "          0 \\ altrimenti\n",
        "        \\end{cases}\n",
        "\\end{equation}\n",
        "\n"
      ],
      "metadata": {
        "id": "aXX1PJQLUX9Z"
      }
    },
    {
      "cell_type": "code",
      "source": [
        "@interact_manual(bianche=(1,5), rosse=(1, 5))\n",
        "def es51(bianche=2, rosse=3):\n",
        "  palle = mk_urna(bianche, rosse)\n",
        "  results = []\n",
        "  count=0\n",
        "  while(len(results) < precisione):\n",
        "    done = len(results)\n",
        "    tmp = palle\n",
        "    while(len(results) == done):\n",
        "      extr = np.random.randint(0, ((bianche+rosse)-count))\n",
        "      if(tmp[extr]):\n",
        "        results.append(count)\n",
        "        count=0\n",
        "      else:  \n",
        "        tmp = np.delete(tmp,extr)\n",
        "        count = count + 1\n",
        "  #grafico\n",
        "  labels = []\n",
        "  normalized = []\n",
        "  for i in range(len(set(results)) - 1): #len(set(n)) torna il numero di risultati distinti presenti in results\n",
        "    normalized.append(round(((results.count(i) / precisione) * 100), 2)) #conto le istanze dei risultati e le normalizzo\n",
        "  normalized.append(round(100 - sum(normalized), 2)) #per evitare che per errori di arrotondamento la somma dei risultati sia 99.9%, l'ultimo risultato lo calcolo come 100 - (la somma dei precedenti)\n",
        "  for i in range(len(normalized)):\n",
        "    labels.append(str(normalized[i]) + \"%\") # aggiungo le labels (i valori riportati all'esterno del grafico)\n",
        "  plt.pie(normalized, labels=labels)\n",
        "  legenda = []\n",
        "  for i in range(bianche + 1):\n",
        "    legenda.append(\"k=\"+str(i+1))\n",
        "  plt.legend(legenda,loc='upper center', bbox_to_anchor=(0.5, -0.05), fancybox=True, shadow=True, ncol=5)"
      ],
      "metadata": {
        "colab": {
          "base_uri": "https://localhost:8080/",
          "height": 378,
          "referenced_widgets": [
            "931c76020ed84c3b81208030fe3fa4f4",
            "6e2e71728e6c4007be5288d2b77d51d4",
            "58601f33cc1f4812bfd8cbba29b77e29",
            "3e6eac9dd53a461ba5a3af8f703d9143",
            "56de7ce381d440aab049a8e72551a3a0",
            "74df16fa24354437ab6e369a585f1392",
            "b5cb96dca38144baac26d64eebf33f9d",
            "0daedd6480ea44b2bcace10624a8506a",
            "34e87ef58fe0400fa75f680a57368977",
            "69b9eea5ff4b43fab3079120c48ce677",
            "f6d0d882041543c198afa654b3d32dd2",
            "6026b5c783054847b1fa874b2dc35d07",
            "03e27546dd9b490ab3d680aceca5a1b2"
          ]
        },
        "id": "5tLgoNi7f2YM",
        "outputId": "3bb00219-0d69-4d15-a63d-13db3e1427a0"
      },
      "execution_count": 98,
      "outputs": [
        {
          "output_type": "display_data",
          "data": {
            "application/vnd.jupyter.widget-view+json": {
              "model_id": "931c76020ed84c3b81208030fe3fa4f4",
              "version_minor": 0,
              "version_major": 2
            },
            "text/plain": [
              "interactive(children=(IntSlider(value=2, description='bianche', max=5, min=1), IntSlider(value=3, description=…"
            ]
          },
          "metadata": {}
        }
      ]
    },
    {
      "cell_type": "markdown",
      "source": [
        "Caso interessante:\n",
        "\n",
        "Nel caso di una sola pallina rossa ed _n_ palline bianche, non si ha un'estrazione in cui è più probabile trovare la rossa, hanno tutte probabilità $\\frac{1}{n+1}$ come si può verificare ri-lanciando l'esperimento precedente con una sola pallina rossa."
      ],
      "metadata": {
        "id": "Y5F358gdvcak"
      }
    },
    {
      "cell_type": "markdown",
      "source": [
        "##Esempio 5.2\n",
        "\n",
        "Ripetiamo l'esperimento precedente, ma questa volta rimpiazziamo la pallina ad ogni estrazione. La variabile X diventa numerabile e si ha\n",
        "\n",
        "\\begin{equation}\n",
        "  px(k) =\n",
        "    \\begin{cases}\n",
        "          (\\frac{2}{5})^{k-1}\\frac{3}{5} \\ se \\ k=1,2,3,...\n",
        "          \\\\\n",
        "          0 \\ altrimenti\n",
        "        \\end{cases}\n",
        "\\end{equation}\n",
        "\n",
        "Infatti richiedere X = k vuol dire aver ottenuto k − 1 insuccessi nei primi k − 1 tenativi (ognuno con probabilità $\\frac{2}{5}$) per poi finalmente ottenere un successo al k-esimo tentativo (con probabilità $\\frac{3}{5}$)"
      ],
      "metadata": {
        "id": "DPSi8KkVKH60"
      }
    },
    {
      "cell_type": "code",
      "source": [
        "@interact_manual(bianche=(1,5), rosse=(1, 5))\n",
        "def es52(bianche=2, rosse=3):\n",
        "  palle = mk_urna(bianche, rosse)\n",
        "  results = []\n",
        "  count=0\n",
        "  while(len(results) < precisione):\n",
        "    done = len(results)\n",
        "    tmp = palle\n",
        "    while(len(results) == done):\n",
        "      extr = np.random.randint(0, (bianche+rosse))\n",
        "      if(tmp[extr]):\n",
        "        results.append(count)\n",
        "        count=0\n",
        "      else:  \n",
        "        count = count + 1\n",
        "  \n",
        "  #grafico risultati\n",
        "  labels = []\n",
        "  normalized = []\n",
        "  for i in range(len(set(results))): \n",
        "    normalized.append(round(((results.count(i) / precisione) * 100), 2))\n",
        "  for i in range(len(set(results))):\n",
        "    labels.append(str(i+1))\n",
        "  \n",
        "  #grafico teorico\n",
        "  teoria = []\n",
        "  for i in range(len(set(results))):\n",
        "    teoria.append(((bianche / (bianche + rosse))**(i)) * (rosse / (bianche + rosse)) * 100)\n",
        "\n",
        "  lab_arr = np.arange(len(labels))\n",
        "\n",
        "  w=0.4\n",
        "  plt.bar(lab_arr-(w/2), normalized, width=w)\n",
        "  plt.bar(lab_arr+(w/2), teoria, width=w)\n",
        "  plt.ylabel(\"Percentage\")\n",
        "  plt.xlabel(\"K\")\n",
        "  legenda = [\"Risultati ottenuti\", \"Risultati attesi\"]\n",
        "  plt.legend(legenda,loc='upper center', bbox_to_anchor=(0.5, -0.05), fancybox=True, shadow=True, ncol=5)"
      ],
      "metadata": {
        "colab": {
          "base_uri": "https://localhost:8080/",
          "height": 378,
          "referenced_widgets": [
            "bc0864570a9443fd8d32a68fe4eaf36f",
            "b81ebb31fe7a4505a49b204cc9bc858f",
            "53bf31777a5b40d68ceb1bcf68a6c454",
            "f5c3feac61794eecb501b480294bafab",
            "50f67ecdde1c48c4855f0f0e2466d0e8",
            "4bcfd25dcb6540508750f5a695cfa53a",
            "696d2d7528854e04a9c9e949239ccdda",
            "27583f84f9d84dbcbf46ee25a96bae94",
            "5cda169b41ca4be7ab023749bd09da90",
            "cbf10ae9e31b4167ba8e1542e3e5657e",
            "0ed5e53c9e5e4eb9bc8c20661e0f1c32",
            "acdcd61debcb40fab430cd56df3ed2fd",
            "cc301070ece6415485e6dd85ee8c4eec"
          ]
        },
        "id": "p-e8XTgnsSgC",
        "outputId": "339b7d9c-9788-4086-9044-6bd851afe729"
      },
      "execution_count": 70,
      "outputs": [
        {
          "output_type": "display_data",
          "data": {
            "application/vnd.jupyter.widget-view+json": {
              "model_id": "bc0864570a9443fd8d32a68fe4eaf36f",
              "version_minor": 0,
              "version_major": 2
            },
            "text/plain": [
              "interactive(children=(IntSlider(value=2, description='bianche', max=5, min=1), IntSlider(value=3, description=…"
            ]
          },
          "metadata": {}
        }
      ]
    },
    {
      "cell_type": "markdown",
      "source": [
        "Quello appena visto è un esempio di _densità geometrica modificata_ che scriveremo come T ∼ Ḡ(_p_).\n",
        "\n",
        "Quando si parla di densità geometrica modificata? \n",
        "\n",
        "Si consideri uno schema successo-insuccesso con ripetizioni e prendiamo in esame la variabile T data dal tempo di primo successo. \n",
        "Se chiamiamo _Xi_ le variabili _B_(1, _p_) date da _Xi_ = 1 se l’i-esimo tentativo dà successo e _Xi_  = 0 altrimenti abbiamo come densità\n",
        "\n",
        "\\begin{equation}\n",
        "  px(k) =\n",
        "    \\begin{cases}\n",
        "          p(1-p)^{k-1} \\ se \\ k=1,2,3,...\n",
        "          \\\\\n",
        "          0 \\ altrimenti\n",
        "        \\end{cases}\n",
        "\\end{equation}\n",
        "\n",
        "La geometrica standard equivale invece alla modificata a cui viene applicato uno shift di 1. Più precisamente, una variabile geometrica standard la\n",
        "possiamo vedere come il numero di insuccessi ottenuti in uno schema successo-insuccesso prima di ottenere un successo. In particolare abbiamo che la densità è data da\n",
        "\n",
        "\\begin{equation}\n",
        "  p(k) =\n",
        "    \\begin{cases}\n",
        "          p(1-p)^{k} \\ se \\ k=1,2,3,...\n",
        "          \\\\\n",
        "          0 \\ altrimenti\n",
        "        \\end{cases}\n",
        "\\end{equation}"
      ],
      "metadata": {
        "id": "u9PHD5qa-xdK"
      }
    },
    {
      "cell_type": "markdown",
      "source": [
        "##Esempio 5.3\n",
        "\n",
        "Si lancino simultaneamente due dadi, uno rosso e uno blu. Ripetiamo questo\n",
        "esperimento finchè non otteniamo due 6. \n",
        "\n",
        "Poniamo X = primo lancio in cui il dado rosso ha dato 6,\n",
        "Y = primo lancio in cui il dado blu ha dato 6.\n",
        "\n",
        "\n",
        "Determinare inoltre la probabilità di ottenere 6 con il dado rosso prima di ottenere 6 con il dado blu.\n",
        "\n",
        "Abbiamo\n",
        "\n",
        "\\begin{equation}\n",
        "  1 = P(X < Y) + P(X > Y) + P(X = Y)\n",
        "\\end{equation}\n",
        "\n",
        "\\\\\n",
        "e chiaramente per simmetria del problema _P_(_X_ < _Y_) = _P_(_X_ > _Y_) da cui\n",
        "\n",
        "\\\\\n",
        "\n",
        "\\begin{equation}\n",
        "  P(X < Y)= \\frac {1-P(X = Y)}{2}\n",
        "\\end{equation}\n",
        "\n",
        "Ci basterà calcolare quindi _P_(_X_ =_Y_):\n",
        "\n",
        "\\\\\n",
        "\n",
        "\\begin{equation}\n",
        "  P(X = Y) = \\sum_{k=1}^\\infty P(X = Y = k) = \\sum_{k=1}^\\infty (\\frac{25}{36})^{k-1}·\\frac{1}{36} = \\frac{1}{1-\\frac{25}{36}}·\\frac{1}{36} = \\frac{1}{11}\n",
        "\\end{equation}\n",
        "\n",
        "\n",
        "dove abbiamo ancora utilizzato la somma di una serie geometrica, e quindi\n",
        "\n",
        "\\\\\n",
        "\n",
        "\\begin{equation}\n",
        "  P(X < Y) = \\frac{5}{11}\n",
        "\\end{equation}\n"
      ],
      "metadata": {
        "id": "yQRcoTTQmPxD"
      }
    },
    {
      "cell_type": "code",
      "source": [
        "def es53():\n",
        "  num = 6\n",
        "  results = []\n",
        "  for i in range(precisione):\n",
        "    a, b = 0, 0\n",
        "    while a != num and b != num:\n",
        "      a, b = trow(), trow() \n",
        "      if a == num:\n",
        "        if b == num:\n",
        "          results.append(0)\n",
        "        else:\n",
        "          results.append(1)\n",
        "      if b == num:\n",
        "        results.append(2)  \n",
        "  #grafico\n",
        "  labels = []\n",
        "  normalized = []\n",
        "  myexplode = [0, 0.2, 0]\n",
        "  for i in range(len(set(results)) - 1): #len(set(n)) torna il numero di risultati distinti presenti in results\n",
        "    normalized.append(round(((results.count(i) / precisione) * 100), 2)) #conto le istanze dei risultati e le normalizzo\n",
        "  normalized.append(round(100 - sum(normalized), 2)) #per evitare che per errori di arrotondamento la somma dei risultati sia 99.9%, l'ultimo risultato lo calcolo come 100 - (la somma dei precedenti)\n",
        "  for i in range(len(normalized)):\n",
        "    labels.append(str(normalized[i]) + \"%\") # aggiungo le labels (i valori riportati all'esterno del grafico)\n",
        "\n",
        "  teoria = [1/11, 5/11, 5/11]\n",
        "  lab_teoria = [\"9.09%\", \"45.45%\", \"45.45%\"]\n",
        "\n",
        "  f, (ax1, ax2) = plt.subplots(1, 2)\n",
        "  ax1.pie(normalized, labels=labels,explode=myexplode, colors=[\"green\", \"red\", \"blue\"], shadow=True)\n",
        "  ax1.set_title(\"Risultati ottenuti\")\n",
        "  ax2.pie(teoria, labels=lab_teoria,explode=myexplode, colors=[\"green\", \"red\", \"blue\"], shadow=True)\n",
        "  ax2.set_title(\"Risultati attesi\")\n",
        "  \n",
        "  legenda = [\"X=Y\", \"X<Y\", \"X>Y\"]\n",
        "  ax1.legend(legenda,loc='upper left', bbox_to_anchor=(0.5, -0.05), fancybox=True, shadow=True, ncol=5)\n",
        "\n",
        "es53()"
      ],
      "metadata": {
        "colab": {
          "base_uri": "https://localhost:8080/",
          "height": 230
        },
        "id": "6P-rc7pzfODB",
        "outputId": "1fee5eac-8cfd-46c2-832e-ae3676719346"
      },
      "execution_count": 71,
      "outputs": [
        {
          "output_type": "display_data",
          "data": {
            "image/png": "[encoded data removed]",
            "text/plain": [
              "<Figure size 432x288 with 2 Axes>"
            ]
          },
          "metadata": {}
        }
      ]
    },
    {
      "cell_type": "markdown",
      "source": [
        "#Densità di Poisson"
      ],
      "metadata": {
        "id": "hPfoVQ4tzLLR"
      }
    },
    {
      "cell_type": "markdown",
      "source": [
        "Se consideriamo una variabile binomiale _X_ ∼ _B_(_n_, _p_) in cui il numero _n_ di tentativi è molto grande e il parametro _p_ molto piccolo fare i conti con la densità binomiale risulta essere computazionalmente dispendioso. \n",
        "\n",
        "Facciamo un esempio:"
      ],
      "metadata": {
        "id": "7WQ9L3IXzNQo"
      }
    },
    {
      "cell_type": "markdown",
      "source": [
        "##Esempio 6.1\n",
        "\n",
        "Supponiamo che in una città nascano 10 000 bambini ogni anno e che ci\n",
        "sia una malattia rara che colpisce un bambino su 2 mila. Qual è la probabilità che quest’anno nascano più di 5 bambini affetti da questa malattia? \n",
        "\n",
        "La variabile _X_ = ”numero di bambini nati con questa malattia quest’anno” è una variabile binomiale _X_ = _B_($10^4$, $\\frac{1}{2000}$). Tuttavia se\n",
        "proviamo ad effettuare il calcolo _P_(_X_ > 5), anche se abbiamo una formula esatta per effettuarlo, è inevitabilmente molto complesso.\n"
      ],
      "metadata": {
        "id": "VD0JenT7zaOx"
      }
    },
    {
      "cell_type": "markdown",
      "source": [
        "Per risolvere questo tipo di problema introduciamo la seguente\n",
        "\n",
        "\\\\\n",
        "\\begin{equation}\n",
        "  p(k) =\n",
        "    \\begin{cases}\n",
        "          e^{-λ} \\frac{λ^k}{k!} \\ se \\ k=0,1,2,...\n",
        "          \\\\\n",
        "          0 \\ altrimenti\n",
        "        \\end{cases}\n",
        "\\end{equation}\n",
        "\n",
        "\\\\\n",
        "\n",
        "dove λ è un parametro reale strettamente positivo."
      ],
      "metadata": {
        "id": "-07DvPlK0SRP"
      }
    },
    {
      "cell_type": "markdown",
      "source": [
        "Nel nostro esempio possiamo pensare alla variabile _X_ come ad una variabile di Poisson di parametro 5. \n",
        "\n",
        "Otteniamo:\n",
        "\n",
        "\\begin{equation}\n",
        "  P(X > 5) = 1 − P(X = 0) − P(X = 1) − P(X = 2) − P(X = 3) − P(X = 4) \n",
        "  \\\\\n",
        "  = 1 − e^{−5}(1 + 5 + \\frac{25}{2} + \\frac{125}{6} + \\frac{625}{24} + \\frac{3125}{120}) = 0, 384.\n",
        "\\end{equation}"
      ],
      "metadata": {
        "id": "fHA5WLXr2VKr"
      }
    },
    {
      "cell_type": "markdown",
      "source": [
        "Nella simulazione riportata sono simulati 100 anni, ripetendo l'esperimento si aggiungono i risultati dei test successivi e si può osservare come il grafico dei risultati ottenuti si avvicini a quello dei risultati attesi."
      ],
      "metadata": {
        "id": "aQ3YUomoewtG"
      }
    },
    {
      "cell_type": "code",
      "source": [
        "res_poisson = []"
      ],
      "metadata": {
        "id": "niF9fNy-AGHk"
      },
      "execution_count": 72,
      "outputs": []
    },
    {
      "cell_type": "code",
      "source": [
        "def es61():\n",
        "  bambini = 10_000\n",
        "  malattia = 2_000\n",
        "  for i in range(100):\n",
        "    count = 0\n",
        "    for i in range(bambini):\n",
        "      if np.random.randint(malattia) == 1:\n",
        "        count = count + 1\n",
        "    res_poisson.append(count)\n",
        "\n",
        "  #grafico risultati\n",
        "  labels = []\n",
        "  set_res = list(set(res_poisson))\n",
        "  normalized = []\n",
        "  for i in set_res: \n",
        "    normalized.append(round(((res_poisson.count(i) / len(res_poisson)) * 100), 2))\n",
        "    labels.append(str(i+1)) \n",
        " \n",
        "  #grafico teorico\n",
        "  teoria = []\n",
        "  lam = bambini / malattia\n",
        "  for i in set_res:\n",
        "    teoria.append((math.e**-lam)*((lam**i)/math.factorial(i)) * 100)\n",
        "\n",
        "  lab_arr = np.arange(len(labels))\n",
        "\n",
        "  w=0.4\n",
        "  plt.bar(lab_arr-(w/2), normalized, width=w)\n",
        "  plt.bar(lab_arr+(w/2), teoria, width=w)\n",
        "\n",
        "  legenda = [\"Risultati ottenuti\", \"Risultati attesi\"]\n",
        "  plt.legend(legenda,loc='upper center', bbox_to_anchor=(0.5, -0.05), fancybox=True, shadow=True, ncol=5)\n",
        "  print(\"Anni simulati: \" + str(len(res_poisson)))"
      ],
      "metadata": {
        "id": "L8XSvxDZMGZe"
      },
      "execution_count": 73,
      "outputs": []
    },
    {
      "cell_type": "code",
      "source": [
        "es61()"
      ],
      "metadata": {
        "id": "H4CjxxyZ7Rxc",
        "colab": {
          "base_uri": "https://localhost:8080/",
          "height": 299
        },
        "outputId": "65ba621b-2676-443c-b65a-f7c7f92ef374"
      },
      "execution_count": 74,
      "outputs": [
        {
          "output_type": "stream",
          "name": "stdout",
          "text": [
            "Anni simulati: 100\n"
          ]
        },
        {
          "output_type": "display_data",
          "data": {
            "image/png": "[encoded data removed]",
            "text/plain": [
              "<Figure size 432x288 with 1 Axes>"
            ]
          },
          "metadata": {
            "needs_background": "light"
          }
        }
      ]
    },
    {
      "cell_type": "markdown",
      "source": [
        "#Densità continua uniforme"
      ],
      "metadata": {
        "id": "2HvnAmIq9-iV"
      }
    },
    {
      "cell_type": "markdown",
      "source": [
        "La variabile continua più semplice da studiare è quella che può assumere solo valori in un certo intervallo limitato e in modo ”uniforme”."
      ],
      "metadata": {
        "id": "q-CPgnYeAXnr"
      }
    },
    {
      "cell_type": "markdown",
      "source": [
        "## Esempio 7.1\n",
        "\n",
        "Un autobus passa da una fermata ogni 10 minuti. Noi arriviamo alla fermata in un momento casuale, chiamiamo T la variabile del tempo d'attesa che assume valori tra 0 e 10 minuti. Mediamente, quanto dovrò aspettare?\n",
        "\n",
        "Iniziamo prendendo l'autobus un po' di volte tenendo uno storico dei tempi di attesa:"
      ],
      "metadata": {
        "id": "AFabxKb1Ar4F"
      }
    },
    {
      "cell_type": "code",
      "source": [
        "uniforme = []\n",
        "tempo = 10\n",
        "for i in range(precisione):\n",
        "  uniforme.append(random.uniform(0, tempo))"
      ],
      "metadata": {
        "id": "A4ckSSdzDloY"
      },
      "execution_count": 75,
      "outputs": []
    },
    {
      "cell_type": "code",
      "source": [
        "#funzione che calcola il valore di x in ogni punto (densità continua uniforme)\n",
        "def densita(x, a, b):\n",
        "  res = []\n",
        "  for i in x:\n",
        "    if i < a:\n",
        "      res.append(0)\n",
        "    elif i > b:\n",
        "      res.append(0)\n",
        "    else:\n",
        "      res.append(1 / (b - a))\n",
        "  return res"
      ],
      "metadata": {
        "id": "G_5JWNvfHgIA"
      },
      "execution_count": 76,
      "outputs": []
    },
    {
      "cell_type": "markdown",
      "source": [
        "E mettiamo a grafico i risultati ottenuti"
      ],
      "metadata": {
        "id": "LfkzQQAmE_XV"
      }
    },
    {
      "cell_type": "code",
      "source": [
        "def es71():\n",
        "  points = (tempo + 2) * 10\n",
        "  \n",
        "  x = np.linspace(-1, tempo+1, points)\n",
        "\n",
        "  coord = []\n",
        "  for i in range(points):\n",
        "    count = 0\n",
        "    for item in uniforme:\n",
        "      if (item > -1 + (((tempo+2)/points)*i) and item <= -1 + (((tempo+2)/points)*(i+1))):\n",
        "        count = count + 1\n",
        "    coord.append((count / precisione) * (points / (tempo + 2)))\n",
        "  \n",
        "  p1 = plt.figure(1)\n",
        "  ax = plt.axes()\n",
        "  ax.plot(x, densita(x, 0, tempo))\n",
        "  ax.set_title(\"Risultati attesi\")\n",
        "  p1.show()\n",
        "  p2 = plt.figure(2)\n",
        "  ax = plt.axes()\n",
        "  ax.plot(x, coord)\n",
        "  ax.set_title(\"Risultati ottenuti\")\n",
        "  p2.show() \n",
        "  p3 = plt.figure(2)\n",
        "  sns.displot(uniforme, kind=\"ecdf\").set(title=\"Ripartizione\")\n",
        "  p3.show() \n",
        "es71()"
      ],
      "metadata": {
        "colab": {
          "base_uri": "https://localhost:8080/",
          "height": 909
        },
        "id": "E_CdpJ9ENKE3",
        "outputId": "3d99dedc-1c72-499c-d024-cd7d39e74828"
      },
      "execution_count": 77,
      "outputs": [
        {
          "output_type": "display_data",
          "data": {
            "image/png": "[encoded data removed]",
            "text/plain": [
              "<Figure size 432x288 with 1 Axes>"
            ]
          },
          "metadata": {
            "needs_background": "light"
          }
        },
        {
          "output_type": "display_data",
          "data": {
            "image/png": "[encoded data removed]",
            "text/plain": [
              "<Figure size 432x288 with 1 Axes>"
            ]
          },
          "metadata": {
            "needs_background": "light"
          }
        },
        {
          "output_type": "display_data",
          "data": {
            "image/png": "[encoded data removed]",
            "text/plain": [
              "<Figure size 360x360 with 1 Axes>"
            ]
          },
          "metadata": {
            "needs_background": "light"
          }
        }
      ]
    },
    {
      "cell_type": "markdown",
      "source": [
        "Per quanto riguarda la soluzione il valore atteso invece ci basta sapere che il valore atteso di una variabile uniforme è il punto medio dell'intervallo: 5 minuti."
      ],
      "metadata": {
        "id": "CO8fDJK3MDBv"
      }
    },
    {
      "cell_type": "code",
      "source": [
        "@interact_manual(tempo=(1, 20))\n",
        "def es71(tempo = 10):\n",
        "  results = []\n",
        "  for i in range(precisione):\n",
        "    results.append(random.uniform(0, tempo))\n",
        "  return round(np.mean(results), 2)"
      ],
      "metadata": {
        "colab": {
          "base_uri": "https://localhost:8080/",
          "height": 81,
          "referenced_widgets": [
            "719e534973fa4aaf8a4a56a2a716dacc",
            "9d1fe8e9f83f414083734c9a2f729785",
            "ed1b4e83bfe745cc8355f17b7745a703",
            "d0e2f6d067164447a137c50d080e9091",
            "0c4c6931323a4f958f6eb7c40a2db0d7",
            "4b32da800229429c8233bb5a03c26392",
            "68e583691b494cf9a7dcb5ca52147e01",
            "14812740a9184ec78825c710cc178c74",
            "568f36313c2d4ae8a8fbcf1b98565850",
            "31e60f7caa494b8082b0aa61b548dc0a"
          ]
        },
        "id": "jG0a0YfTMiZi",
        "outputId": "e798707d-f433-4a46-ab9e-08d81aafb0ba"
      },
      "execution_count": 78,
      "outputs": [
        {
          "output_type": "display_data",
          "data": {
            "application/vnd.jupyter.widget-view+json": {
              "model_id": "719e534973fa4aaf8a4a56a2a716dacc",
              "version_minor": 0,
              "version_major": 2
            },
            "text/plain": [
              "interactive(children=(IntSlider(value=10, description='tempo', max=20, min=1), Button(description='Run Interac…"
            ]
          },
          "metadata": {}
        }
      ]
    },
    {
      "cell_type": "markdown",
      "source": [
        "##Esercizio 7.2"
      ],
      "metadata": {
        "id": "suJKbVomvlw2"
      }
    },
    {
      "cell_type": "markdown",
      "source": [
        "Continuiamo con l'esempio del bus ma questa volta ci interessa sapere la probabilità che arrivi in un certo intervallo di tempo"
      ],
      "metadata": {
        "id": "Fr271Olzv2DY"
      }
    },
    {
      "cell_type": "code",
      "source": [
        "@interact_manual(a=(0, 10), b=(0, 10))\n",
        "def es72(a = 4, b = 6):\n",
        "  if a > b:\n",
        "    return (\"Intervallo non valido\")\n",
        "\n",
        "  unif1 = [x for x in uniforme if x >= a and x <= b]\n",
        "  \n",
        "  points = (tempo + 2) * 10\n",
        "\n",
        "  x = np.linspace(-1, tempo+1, points)\n",
        "\n",
        "  coord = []\n",
        "  for i in range(points):\n",
        "    count = 0\n",
        "    for item in uniforme:\n",
        "      if (item > -1 + (((tempo+2)/points)*i) and item <= -1 + (((tempo+2)/points)*(i+1))):\n",
        "        count = count + 1\n",
        "    coord.append((count / precisione) * (points / (tempo + 2)))\n",
        "\n",
        "  coord2 = []\n",
        "  for i in range(points):\n",
        "    count = 0\n",
        "    for item in unif1:\n",
        "      if (item > -1 + (((tempo+2)/points)*i) and item <= -1 + (((tempo+2)/points)*(i+1))):\n",
        "        count = count + 1\n",
        "    coord2.append((count / precisione) * (points / (tempo + 2)))\n",
        "\n",
        "  plt.plot(x, coord)\n",
        "  plt.fill_betweenx(coord2, x, alpha=0.30)\n",
        "  \n",
        "  ris1 = round((b-a) / tempo, 3)\n",
        "  print(\"Risultati attesi: \" + str(ris1))\n",
        "  ris2 = round(len(unif1) / precisione, 3)\n",
        "  print(\"Risultati ottenuti: \" + str(ris2))"
      ],
      "metadata": {
        "id": "0Gfo7zOovTuG",
        "outputId": "10d4b108-0b6d-411a-809e-66abb3622bf1",
        "colab": {
          "base_uri": "https://localhost:8080/",
          "height": 113,
          "referenced_widgets": [
            "8f77af4e54094811a3884b28da305f40",
            "f3c44a84cf2e47b09b052c24dc1f4d14",
            "4f0636ec1e774961a82d583416d137b0",
            "d85babffec2a4f93857b5ddebb102372",
            "212ed544d012484ab515eb3379507690",
            "ad8cb89872744934a52070e3cd58152e",
            "18f8a377814a436ba99768911fc1e63e",
            "d2c1a6e75e424aacb75ff30eb6e653ee",
            "a969c2e2f7e742278bccdc40b15c4e8b",
            "5d1a7f066c0a45338b242bd296564282",
            "800ce203e4e74e8db6479675c5f1d307",
            "1ab0025602dc47c28506455aa136d2da",
            "d3f15dbaa72a4fc0972562f5db7fb14a"
          ]
        }
      },
      "execution_count": 79,
      "outputs": [
        {
          "output_type": "display_data",
          "data": {
            "application/vnd.jupyter.widget-view+json": {
              "model_id": "8f77af4e54094811a3884b28da305f40",
              "version_minor": 0,
              "version_major": 2
            },
            "text/plain": [
              "interactive(children=(IntSlider(value=4, description='a', max=10), IntSlider(value=6, description='b', max=10)…"
            ]
          },
          "metadata": {}
        }
      ]
    },
    {
      "cell_type": "markdown",
      "source": [
        "#Densità continua esponenziale"
      ],
      "metadata": {
        "id": "KzWvYabHHMQp"
      }
    },
    {
      "cell_type": "markdown",
      "source": [
        "Fissiamo un parametro _λ_ e ricordiamo che una primitiva della funzione $e^{−λt}$ è data da -$\\frac{1}{λ}e^{−λt}$ da cui abbiamo che:\n",
        "\n",
        "\\begin{equation}\n",
        "  \\int_{0}^{+ \\infty} e^{-λt} \\,dt = \\frac{1}{λ} \n",
        "\\end{equation}\n",
        "\n",
        "Proposizione:\n",
        "\n",
        "\\begin{equation}\n",
        "  f(s) =\n",
        "    \\begin{cases}\n",
        "          λ e^{-λs} \\ se \\ s \\geq 0\n",
        "          \\\\\n",
        "          0 \\ altrimenti\n",
        "        \\end{cases}\n",
        "\\end{equation}\n",
        "\n",
        "dove _λ_ è un parametro positivo con densità continua astratta.\n",
        "\n",
        "Una variabile _X_ che ammette tale densità si dice esponenziale di parametro _λ_ e scriveremo _X_ ∼ Exp(_λ_). Lo stesso calcolo mostra che la funzione di ripartizione di una variabile _X_ ∼ Exp(_λ_) è data da\n",
        "\n",
        "\\begin{equation}\n",
        "  Fx(t) =\n",
        "    \\begin{cases}\n",
        "          1-e^{-λt} \\ se \\ t \\ge 0\n",
        "          \\\\\n",
        "          0 \\ \\ \\ \\ \\ \\ \\ \\ \\ \\ \\ \\ \\ se \\ t \\le 0\n",
        "        \\end{cases}\n",
        "\\end{equation}"
      ],
      "metadata": {
        "id": "kDn_33f8UA9S"
      }
    },
    {
      "cell_type": "markdown",
      "source": [
        "##Esempio 8.1\n",
        "\n",
        "Il decadimento di una particella radioattiva segue una legge esponenziale di parametro λ = 1 (in giorni).\n",
        "\n",
        "Qual è la probabilità che dopo 3 ore sia già decaduta?"
      ],
      "metadata": {
        "id": "vdltBTAzbjNQ"
      }
    },
    {
      "cell_type": "markdown",
      "source": [
        "Usando un cambio di variabile simuliamo un set di valori di una variabile esponenziale con parametro _λ_ = 1 "
      ],
      "metadata": {
        "id": "KXHsGg67--dB"
      }
    },
    {
      "cell_type": "code",
      "source": [
        "exp = []\n",
        "for i in range(precisione):\n",
        "  exp.append(-math.log(random.uniform(0, 1)))"
      ],
      "metadata": {
        "id": "GrAEx7n-2V-2"
      },
      "execution_count": 80,
      "outputs": []
    },
    {
      "cell_type": "markdown",
      "source": [
        "E ne grafichiamo la densità e la partizione "
      ],
      "metadata": {
        "id": "xP2yQ4p9ACry"
      }
    },
    {
      "cell_type": "code",
      "source": [
        "def exp_plot():\n",
        "  points = 130\n",
        "  space = 6\n",
        "\n",
        "  x = np.linspace(-1, space - 1, points)\n",
        "\n",
        "  coord = []\n",
        "  for i in range(points):\n",
        "    count = 0\n",
        "    for item in exp:\n",
        "      if (item > -1 + (((space)/points)*i) and item <= -1 + (((space)/points)*(i+1))):\n",
        "        count = count + 1\n",
        "    coord.append((count / precisione) * (points / (space)))\n",
        "  \n",
        "  sns.displot(exp, kind=\"ecdf\")\n",
        "  plt.plot(x, coord)\n",
        "  plt.xlim(-1, 4)\n",
        "  plt.title(\"Densità e ripartizione della variabile in esame\")\n",
        "\n",
        "  legenda = [\"Funzione di ripartizione\", \"Densità\"]\n",
        "  plt.legend(legenda,loc='upper center', bbox_to_anchor=(0.5, -0.05), fancybox=True, shadow=True, ncol=5)\n",
        "\n",
        "exp_plot()"
      ],
      "metadata": {
        "colab": {
          "base_uri": "https://localhost:8080/",
          "height": 403
        },
        "id": "o6Bmu5FDMOPV",
        "outputId": "a7db2a07-bdeb-4f90-aea0-06d30a088a34"
      },
      "execution_count": 81,
      "outputs": [
        {
          "output_type": "display_data",
          "data": {
            "image/png": "[encoded data removed]",
            "text/plain": [
              "<Figure size 360x360 with 1 Axes>"
            ]
          },
          "metadata": {
            "needs_background": "light"
          }
        }
      ]
    },
    {
      "cell_type": "markdown",
      "source": [
        "Tornando alla domanda iniziale, contiamo quante volte abbiamo ottenuto un tempo minore di 3 ore e confrontiamolo coi risultati attesi dalla teoria."
      ],
      "metadata": {
        "id": "MrVxuxXhB-Dh"
      }
    },
    {
      "cell_type": "code",
      "source": [
        "@interact_manual(ore=(0, 72))\n",
        "def es81(ore = 3):\n",
        "  count = 0\n",
        "  for item in exp:\n",
        "    if (item * 24) <= ore:\n",
        "      count = count + 1\n",
        "  print(\"Risultati ottenuti: \" + str(round(count / precisione, 3)))\n",
        "  res = 1 - (math.e**(-1 * (ore / 24)))\n",
        "  print(\"Risultati attesi: \" + str(round(res, 3)))"
      ],
      "metadata": {
        "colab": {
          "base_uri": "https://localhost:8080/",
          "height": 81,
          "referenced_widgets": [
            "cc010519c7ef49ce9b3629d15f475ecc",
            "76e994cc35db4b88955fb34e14b4aabf",
            "1c4962f53fc746ce83ebd584ae41ed9c",
            "9ffb4b4eeb394c3887774e090af96cc7",
            "5b355d2acccf4f92a379581bfd83f367",
            "6d1a1cdddf8f486ca2583ee44a074fa5",
            "a5f4089c93ac46f1b88426030b95052b",
            "73a1cbc1989c443a9760f3b1adb262ce",
            "57302a0c8a6b40f59974ab1991c641bf",
            "2c502571944548f9b849ff47eb8ef19e"
          ]
        },
        "id": "-nLD7XugV7iy",
        "outputId": "859ec8ab-95d3-4f1b-f042-fa20d3f7a34d"
      },
      "execution_count": 82,
      "outputs": [
        {
          "output_type": "display_data",
          "data": {
            "application/vnd.jupyter.widget-view+json": {
              "model_id": "cc010519c7ef49ce9b3629d15f475ecc",
              "version_minor": 0,
              "version_major": 2
            },
            "text/plain": [
              "interactive(children=(IntSlider(value=3, description='ore', max=72), Button(description='Run Interact', style=…"
            ]
          },
          "metadata": {}
        }
      ]
    },
    {
      "cell_type": "markdown",
      "source": [
        "Fin'ora abbiamo visto variabili esponenziali aventi _λ_ = 1, il caso base. Vediamo ora lo stesso esempio ma questa volta il tempo di decadimento della particella è segue una legge esponenziale di parametro _λ_ ≠ 1.\n",
        "\n",
        "Iniziamo vedendone il grafico della densità:"
      ],
      "metadata": {
        "id": "z8484TUNFyqT"
      }
    },
    {
      "cell_type": "code",
      "source": [
        "@interact_manual(λ=(2, 10))\n",
        "def exp_test(λ=2):\n",
        "  lamb = λ\n",
        "\n",
        "  test = []\n",
        "  for i in range(precisione):\n",
        "    test.append((-1/(lamb))*math.log(random.uniform(0, 1)))\n",
        "\n",
        "  b = max(test)/3\n",
        "  a = -b/10\n",
        "  points = 100\n",
        "  x = np.linspace(a, b, points)\n",
        "\n",
        "  coord = []\n",
        "  for i in range(points):\n",
        "    count = 0\n",
        "    for item in test:\n",
        "      if (item > a + (((abs(a) + b)/points)*i)) and (item <= a + (((abs(a) + b)/points)*(i+1))):\n",
        "        count = count + 1\n",
        "    coord.append((count / precisione) * (points / (abs(a) + b)))\n",
        "\n",
        "  plt.plot(x, coord)"
      ],
      "metadata": {
        "colab": {
          "base_uri": "https://localhost:8080/",
          "height": 81,
          "referenced_widgets": [
            "13870e3889514f36a482e6d0f6f1ae61",
            "2c85d5264f434cdfbf7d9980a536d014",
            "eed4334dc31548fa87c813586b90748e",
            "a26ecea9ec4b46fe88d2eb326b619769",
            "86a78029e3b2491fa7376f49610711f2",
            "037dc85bd7d3404bab74c4f82b1f5b84",
            "558ea8a04e6a4650b6fdf906d416bb88",
            "f2d95c0d29854bc9995957e392cd956b",
            "0c59de823bf2428888c0f87a6ed72954",
            "628356204aaa40eb8cd72aa9fbf486a9"
          ]
        },
        "id": "irnlB3MXGPPl",
        "outputId": "ecb06a81-e1c3-4398-eb92-b86fa280e0f0"
      },
      "execution_count": 83,
      "outputs": [
        {
          "output_type": "display_data",
          "data": {
            "application/vnd.jupyter.widget-view+json": {
              "model_id": "13870e3889514f36a482e6d0f6f1ae61",
              "version_minor": 0,
              "version_major": 2
            },
            "text/plain": [
              "interactive(children=(IntSlider(value=2, description='λ', max=10, min=2), Button(description='Run Interact', s…"
            ]
          },
          "metadata": {}
        }
      ]
    },
    {
      "cell_type": "markdown",
      "source": [
        "E confrontiamo i risultati che abbiamo ottenuto con quelli attesi dalla teoria:"
      ],
      "metadata": {
        "id": "ySU20jIY7tkY"
      }
    },
    {
      "cell_type": "code",
      "source": [
        "@interact_manual(ore=(0, 72), λ=(2, 10))\n",
        "def exp_particella(ore = 10, λ = 2):\n",
        "  test = []\n",
        "  for i in range(precisione):\n",
        "    test.append((-1/λ)*math.log(random.uniform(0, 1)))\n",
        "  count = 0\n",
        "  for item in test:\n",
        "    if (item * 24) <= ore:\n",
        "      count = count + 1\n",
        "  print(\"Risultati ottenuti: \" + str(round(count / precisione, 3)))\n",
        "  res = 1 - (math.e**(-(λ * (ore / 24))))\n",
        "  print(\"Risultati attesi: \" + str(round(res, 3)))"
      ],
      "metadata": {
        "colab": {
          "base_uri": "https://localhost:8080/",
          "height": 113,
          "referenced_widgets": [
            "eb071237ce1a4007838402b318e954d7",
            "042d4b46b94041caa3e865541bd989f6",
            "6d40ddf937e247bf88be3d378b558274",
            "e49c103859a545dfb2a98a849e9ff456",
            "86f9efff274e460ca8edd0f0a4d31af5",
            "0c6ca578e93d4124871120f015e19d4a",
            "5b965adb09394e958c856a9273a4fe49",
            "f4d9ac0efb4d4b86b1cd41aadcd74384",
            "adb8d2a1287c4ba59ef35c5076f9d8d0",
            "a3d7bf408f004f889b480829073a2b09",
            "f8b7ba6fd0a34fe98e1484f9022f2d47",
            "22673b598c5d4791a6ecdc6f800759f7",
            "c8b789f867e045baa9c19844e789f93f"
          ]
        },
        "id": "lew-nKK9KlQ0",
        "outputId": "0d020f9f-a030-4213-dbba-8e7477bea3ac"
      },
      "execution_count": 84,
      "outputs": [
        {
          "output_type": "display_data",
          "data": {
            "application/vnd.jupyter.widget-view+json": {
              "model_id": "eb071237ce1a4007838402b318e954d7",
              "version_minor": 0,
              "version_major": 2
            },
            "text/plain": [
              "interactive(children=(IntSlider(value=10, description='ore', max=72), IntSlider(value=2, description='λ', max=…"
            ]
          },
          "metadata": {}
        }
      ]
    },
    {
      "cell_type": "markdown",
      "source": [
        "## Esercizio 8.2"
      ],
      "metadata": {
        "id": "QdEbzDc5JVI8"
      }
    },
    {
      "cell_type": "markdown",
      "source": [
        "Continuiamo con l'esempio della particella ma questa volta ci interessa sapere la probabilità decada in un certo intervallo di tempo"
      ],
      "metadata": {
        "id": "sxmUgXSeJcYJ"
      }
    },
    {
      "cell_type": "code",
      "source": [
        "@interact_manual(t1=(0, 96), t2=(0, 96))\n",
        "def es82(t1=3, t2=10):\n",
        "  if t1 > t2:\n",
        "    return (\"Intervallo non valido\")\n",
        "  \n",
        "  points = 325\n",
        "  tempo = 4.5\n",
        "  a = -0.5\n",
        "\n",
        "  x = np.linspace(a, tempo + a, points)\n",
        "  \n",
        "  exp1 = []\n",
        "  for i in range(precisione):\n",
        "    exp1.append(-math.log(random.uniform(0, 1)))\n",
        "\n",
        "  exp2 = [x for x in exp1 if x >= t1/24 and x <= t2/24]\n",
        "\n",
        "  coord = [0]\n",
        "  for i in range(points-1):\n",
        "    count = 0\n",
        "    for item in exp1:\n",
        "      if (item > a + (((tempo)/(points-1))*i) and item <= a + (((tempo)/(points-1))*(i+1))):\n",
        "        count = count + 1\n",
        "    coord.append((count / precisione) * ((points-1) / (tempo)))\n",
        "  \n",
        "  y = np.minimum(bounds(x, t1/24, t2/24), coord)\n",
        "  \n",
        "  ris1 = round((1 - (math.e**(-(t2 / 24)))) - (1 - (math.e**(-(t1 / 24)))), 3)\n",
        "  print(\"Risultati attesi: \" + str(ris1))\n",
        "  ris2 = round(len(exp2) / precisione, 3)\n",
        "  print(\"Risultati ottenuti: \" + str(ris2))\n",
        "\n",
        "  plt.plot(x, coord)\n",
        "  plt.fill_between(x, y, alpha=0.30)"
      ],
      "metadata": {
        "colab": {
          "base_uri": "https://localhost:8080/",
          "height": 113,
          "referenced_widgets": [
            "58f547af536b446ea3aaa434ea269b86",
            "b34eb7c798bd49678730c7dd96f6868c",
            "ddfb675efab5435e9c9deeb8d66cd5d3",
            "18c49e1750b14a368b9432b08ea0a028",
            "0fcac33c4f7c46238c6eafc6b1e7b71a",
            "0dfd399d15324723aa18650f2dc18a2e",
            "8b9fc8ba3e174af689eb0b85d87e42e4",
            "4789955e813d441db514793b9e9ba1ab",
            "d0df99d931174d37af52940766247fb1",
            "d464c2f2ea404de38cdab53f3a1c7669",
            "0b3f8cee39664d9b834fef90219d300f",
            "71a14a2d7ba3468dabd9b9415543f56b",
            "d519cfdca6d643f5a802fbcb73d5c772"
          ]
        },
        "id": "9jzvi4tr12nU",
        "outputId": "d088eaae-d344-4e47-80d6-9e4997c6a444"
      },
      "execution_count": 85,
      "outputs": [
        {
          "output_type": "display_data",
          "data": {
            "application/vnd.jupyter.widget-view+json": {
              "model_id": "58f547af536b446ea3aaa434ea269b86",
              "version_minor": 0,
              "version_major": 2
            },
            "text/plain": [
              "interactive(children=(IntSlider(value=3, description='t1', max=96), IntSlider(value=10, description='t2', max=…"
            ]
          },
          "metadata": {}
        }
      ]
    },
    {
      "cell_type": "markdown",
      "source": [
        "#Densità continua normale"
      ],
      "metadata": {
        "id": "YEVrCLb-MTAW"
      }
    },
    {
      "cell_type": "markdown",
      "source": [
        "Passiamo ora a considerare quelle che sono probabilmente le variabili aleatorie continue più rilevanti.\n",
        "Si può dimostrare (e Gauss lo ha fatto per primo) che\n",
        "\n",
        "\\begin{equation}\n",
        "  \\int_{- \\infty}^{+ \\infty} e^{-{\\frac{x^2}{2}}} \\,dx = \\sqrt{2 \\pi} \n",
        "\\end{equation}\n",
        "\n",
        "Ne segue che la funzione\n",
        "\n",
        "\\begin{equation}\n",
        "  f(s)= \\frac{1}{\\sqrt{2 \\pi}}e^{-{\\frac{x^2}{2}}}\n",
        "\\end{equation}\n",
        "\n",
        "è una densità. Questa densità viene detta normale standard o gaussiana standard e se una variabile _X_ che ammette questa densità scriveremo\n",
        "\n",
        "\\begin{equation} \n",
        "  X ∼ N(0, 1)\n",
        "\\end{equation}"
      ],
      "metadata": {
        "id": "VLVgu8loMhhb"
      }
    },
    {
      "cell_type": "markdown",
      "source": [
        "Il primo parametro è la media, ovvero il valore medio della distribuzione. Il secondo è la deviazione standard.\n",
        "\n",
        "Di seguito vediamo i grafici della funzione di ripartizione e della densità di una normale al variare di media e deviazione standard:"
      ],
      "metadata": {
        "id": "G54eY3HAS3AM"
      }
    },
    {
      "cell_type": "code",
      "source": [
        "@interact(mean=(-5, 5), std_dev=(1, 5))\n",
        "def std_norm(mean = 0, std_dev = 1):\n",
        "  a = -10\n",
        "  x = np.linspace(a, abs(a), 100)\n",
        "  dnd = []\n",
        "  for i in x:\n",
        "    dnd.append(scipy.stats.norm(mean, std_dev).pdf(i))\n",
        "  plt.plot(x, dnd)\n",
        "  legenda = [\"Densità\"]\n",
        "  plt.legend(legenda,loc='upper center', bbox_to_anchor=(0.5, -0.05), fancybox=True, shadow=True, ncol=5)"
      ],
      "metadata": {
        "id": "9eK-dNsZTJ3L",
        "colab": {
          "base_uri": "https://localhost:8080/",
          "height": 346,
          "referenced_widgets": [
            "18973cea8f26486da5305433a81b2619",
            "327bb01981e5424fb180313108c00d75",
            "6b2ff61b9bc742e2b240a69c07b336a2",
            "be254d4bc07f48da97cc7d105fb8790b",
            "99fbf0e7eff14c4588ce3a55a9b01152",
            "bb7d5834636b4a50ad5ff623ca7f5af8",
            "3f8422cbce414e83a8793cf08f41d2f7",
            "e3ce20e223054b06831850a6c2532e63",
            "1062e81b5da84b13804b568308cf935c",
            "ab358f4e40ea4f269565ba85f482c68c"
          ]
        },
        "outputId": "638091ac-a491-4cdd-aab5-84bb2c5bab01"
      },
      "execution_count": 86,
      "outputs": [
        {
          "output_type": "display_data",
          "data": {
            "application/vnd.jupyter.widget-view+json": {
              "model_id": "18973cea8f26486da5305433a81b2619",
              "version_minor": 0,
              "version_major": 2
            },
            "text/plain": [
              "interactive(children=(IntSlider(value=0, description='mean', max=5, min=-5), IntSlider(value=1, description='s…"
            ]
          },
          "metadata": {}
        }
      ]
    },
    {
      "cell_type": "code",
      "source": [
        "@interact(mean=(-5, 5), std_dev=(1, 5))\n",
        "def std_norm(mean = 0, std_dev = 1):\n",
        "  a = -10\n",
        "  x = np.linspace(a, abs(a), 100)\n",
        "  pnd = []\n",
        "  for i in x:\n",
        "    pnd.append(scipy.stats.norm(mean, std_dev).cdf(i))\n",
        "  plt.plot(x, pnd)\n",
        "  legenda = [\"Funzione di ripartizione\"]\n",
        "  plt.legend(legenda,loc='upper center', bbox_to_anchor=(0.5, -0.05), fancybox=True, shadow=True, ncol=5)"
      ],
      "metadata": {
        "colab": {
          "base_uri": "https://localhost:8080/",
          "height": 346,
          "referenced_widgets": [
            "c6071c29e42a484e882e685a1b39b0ef",
            "c632a5ef352948cba6a9f7932e06db44",
            "f1a65fb5c5154c2ba967b1ee0d316974",
            "1853dc31fca1401f8dbd799fe30b9131",
            "a096c444918c4161903aa48864263357",
            "ca38e5000db645faa645ccc6ac3f7a4f",
            "bff2bdb55a674fdab5b1c0d184a8e64e",
            "09982aaad4bc4ce8905b49ef52b69df5",
            "a0ce93b7044b40a3b5ebc8ae707e5d5f",
            "971eff3fc5934fe79dc3be6c6d3704ea"
          ]
        },
        "id": "vZtFsBexR7UQ",
        "outputId": "02544f00-d7d3-44fa-8a38-00adf1ee38e1"
      },
      "execution_count": 87,
      "outputs": [
        {
          "output_type": "display_data",
          "data": {
            "application/vnd.jupyter.widget-view+json": {
              "model_id": "c6071c29e42a484e882e685a1b39b0ef",
              "version_minor": 0,
              "version_major": 2
            },
            "text/plain": [
              "interactive(children=(IntSlider(value=0, description='mean', max=5, min=-5), IntSlider(value=1, description='s…"
            ]
          },
          "metadata": {}
        }
      ]
    },
    {
      "cell_type": "markdown",
      "source": [
        "## Esempio 9.1"
      ],
      "metadata": {
        "id": "0WalWbwgLNDx"
      }
    },
    {
      "cell_type": "markdown",
      "source": [
        "Sia _X_ una variabile continua normale standard, determinare la probabilità che _X_ assuma un valore minore di 1."
      ],
      "metadata": {
        "id": "NLO8PiezLS_N"
      }
    },
    {
      "cell_type": "code",
      "source": [
        "def bounds(x, a, b):\n",
        "  res = []\n",
        "  for i in x:\n",
        "    if i < a:\n",
        "      res.append(0)\n",
        "    elif i > b:\n",
        "      res.append(0)\n",
        "    else:\n",
        "      res.append(1)\n",
        "  return res"
      ],
      "metadata": {
        "id": "Iiln3yhVXChT"
      },
      "execution_count": 88,
      "outputs": []
    },
    {
      "cell_type": "code",
      "source": [
        "@interact_manual(valore=(-4, 4, 0.1))\n",
        "def es91(valore = 1):\n",
        "  a = -4\n",
        "  points = 401\n",
        "\n",
        "  x = np.linspace(a, abs(a), points)\n",
        "\n",
        "  nd1 = []\n",
        "  for i in range(precisione):\n",
        "    nd1.append(np.random.normal(0, 1))\n",
        "\n",
        "  nd2 = [x for x in nd1 if x <= valore]\n",
        "\n",
        "  coord = [0]\n",
        "  for i in range(points - 1):\n",
        "    count = 0\n",
        "    for item in nd1:\n",
        "      if (item > a + (((-2*a)/points)*i)) and (item <= a + (((-2*a)/points)*(i+1))):\n",
        "        count = count + 1\n",
        "    coord.append((count / precisione) * (points / (-2*a)))\n",
        "  \n",
        "  y = np.minimum(bounds(x, -5, valore), coord)\n",
        "\n",
        "  ris1 = round(scipy.stats.norm(0, 1).cdf(valore), 3)\n",
        "  print(\"Risultati attesi: \" + str(ris1))\n",
        "  ris2 = round(len(nd2) / precisione, 3)\n",
        "  print(\"Risultati ottenuti: \" + str(ris2))\n",
        "\n",
        "  plt.fill_between(x, y, alpha=0.30)\n",
        "  plt.plot(x, coord)"
      ],
      "metadata": {
        "id": "0YLBeVSIL9qG",
        "outputId": "45a05daa-a937-4844-9aea-e9fd11c60a54",
        "colab": {
          "base_uri": "https://localhost:8080/",
          "height": 81,
          "referenced_widgets": [
            "8954fed624984e16bad281965a666960",
            "ecedae0ebb2c4e24b18bf47edfe9d7e9",
            "084b9f04c9ab4adaae7cb979ce20c85b",
            "62acd5d42f4943dcb58b7a2d0a5149a5",
            "e6468461363b43e88e1727741d86285b",
            "8eac6ac2503c4a638cce0b4b8ab17651",
            "0840016b1b6e4f06a97e23f3a2019d5c",
            "3f86480ba1ba4c06ad36dd6efbd1ec11",
            "c1e98b32a3ed46f2b0df2eef51835d10",
            "ccfbd1ca56854823b8014009a606b7ec"
          ]
        }
      },
      "execution_count": 89,
      "outputs": [
        {
          "output_type": "display_data",
          "data": {
            "application/vnd.jupyter.widget-view+json": {
              "model_id": "8954fed624984e16bad281965a666960",
              "version_minor": 0,
              "version_major": 2
            },
            "text/plain": [
              "interactive(children=(FloatSlider(value=1.0, description='valore', max=4.0, min=-4.0), Button(description='Run…"
            ]
          },
          "metadata": {}
        }
      ]
    },
    {
      "cell_type": "markdown",
      "source": [
        "## Esempio 9.2"
      ],
      "metadata": {
        "id": "twGutUTVPnRX"
      }
    },
    {
      "cell_type": "markdown",
      "source": [
        "Uno studio su 100 000 diciottenni (reclutati dalle scuole e dal Maternal and Child Health Centres ad Hong Kong) ha mostrato che l'altezza di un'adulto ha una densità normale _N_ (172, 5).\n",
        "\n",
        " Una divisa per reclute è disponibile in 4 taglie:\n",
        " \n",
        "Taglia   | Altezza \n",
        "---------|------------------\n",
        "S        | h < 164\n",
        "M        | 164 < h < 172\n",
        "L        | 172 < h < 180\n",
        "XL       | h > 180\n",
        "\n",
        "Dovendo vestire 500 nuove reclute quante divise di ogni taglia comprereste?"
      ],
      "metadata": {
        "id": "edGsbSkpyUup"
      }
    },
    {
      "cell_type": "markdown",
      "source": [
        "Per validare i risultati che calcolati con le formule, li confronteremo con le altezze di 20 000 adulti che hanno partecipato all'esperimento ma le cui altezze non sono state usate per per definire la distribuzione, ma lasciate per validarla."
      ],
      "metadata": {
        "id": "V-0c_kiN1WlJ"
      }
    },
    {
      "cell_type": "code",
      "source": [
        "data_url = \"https://raw.githubusercontent.com/MontiMic/Tesi/riordinato/train.csv\" #importo il dataset\n",
        "data = pd.read_csv(data_url, sep=',', dtype={})\n",
        "lab = [\"id\", \"height\", \"weight\"]\n",
        "data.columns = [i for i in lab]\n",
        "data = data.drop(['id', 'weight'], axis=1) #scarto i dati riguardanti l'id ed il peso dei soggetti, non ci servono\n",
        "height = []\n",
        "for i in data[\"height\"]: #converto le altezze da pollici in centimetri\n",
        "  height.append(i*2.54)"
      ],
      "metadata": {
        "id": "wEK2CHWylV7L"
      },
      "execution_count": 90,
      "outputs": []
    },
    {
      "cell_type": "code",
      "source": [
        "x = np.linspace(151, 190, 40)\n",
        "coord = []\n",
        "for i in range(40):\n",
        "  count = 0\n",
        "  for item in height:\n",
        "    if (item > (151 + i) and item <= (151 + i + 1)):\n",
        "      count = count + 1\n",
        "  coord.append(count / len(height))\n",
        "dnd = []\n",
        "for i in x:\n",
        "  dnd.append(scipy.stats.norm(172, 5).pdf(i))\n",
        "plt.plot(x, dnd)\n",
        "plt.plot(x, coord)\n",
        "legenda = [\"Distribuzione teorica\", \"Distribuzione del campione\"]\n",
        "plt.legend(legenda,loc='upper center', bbox_to_anchor=(0.5, -0.05), fancybox=True, shadow=True, ncol=5)\n",
        "plt.show()"
      ],
      "metadata": {
        "colab": {
          "base_uri": "https://localhost:8080/",
          "height": 282
        },
        "id": "1j7e4b-jbImS",
        "outputId": "b669b6c5-2094-4039-9b8b-c31fb775106f"
      },
      "execution_count": 91,
      "outputs": [
        {
          "output_type": "display_data",
          "data": {
            "image/png": "[encoded data removed]",
            "text/plain": [
              "<Figure size 432x288 with 1 Axes>"
            ]
          },
          "metadata": {
            "needs_background": "light"
          }
        }
      ]
    },
    {
      "cell_type": "code",
      "source": [
        "@interact_manual(taglia=[\"S\", \"M\", \"L\", \"XL\"])\n",
        "def es92(taglia = \"L\"):\n",
        "  a, b = 0, 0\n",
        "  #purtroppo questa versione di python non supporta gli switch case (nè il match case)\n",
        "  if taglia == \"S\":\n",
        "    a, b = 150, 164\n",
        "  elif taglia == \"M\":\n",
        "    a, b = 164, 172\n",
        "  elif taglia == \"L\":\n",
        "    a, b = 172, 180 \n",
        "  elif taglia == \"XL\":\n",
        "    a, b = 180, 191\n",
        "  \n",
        "  cm = 500\n",
        "  x = np.linspace(151, 200, cm)\n",
        "  \n",
        "  nd1 = []\n",
        "  for i in range(cm):\n",
        "    count = 0\n",
        "    for item in height:\n",
        "      if (item > (151 + i/10) and item <= (151 + i/10 + 1)):\n",
        "        count = count + 1\n",
        "    nd1.append(count / len(height))\n",
        "\n",
        "  nd2 = [x for x in height if x > a and x <= b]\n",
        "  \n",
        "  ris1 = round(scipy.stats.norm(172, 5).cdf(b) - scipy.stats.norm(172, 5).cdf(a), 3)\n",
        "  print(\"Risultati attesi: \" + str(ris1))\n",
        "  ris2 = round(len(nd2) / len(height), 3)\n",
        "  print(\"Risultati ottenuti: \" + str(ris2))\n",
        "\n",
        "  y = np.minimum(bounds(x, a, b), nd1)\n",
        "\n",
        "  plt.plot(x, nd1)\n",
        "  #plt.plot(x, bounds(x, a, b))\n",
        "  #plt.plot(x, y)\n",
        "  plt.fill_between(x, y, alpha=0.30)\n",
        "  plt.xlim(150, 200)"
      ],
      "metadata": {
        "colab": {
          "base_uri": "https://localhost:8080/",
          "height": 81,
          "referenced_widgets": [
            "64299273401c46d4aec389be9e2f6135",
            "a50a02c3d8024604b989eaac8e88166a",
            "3c261e4bc7c24999a3441aea2b22ea57",
            "10c18799f9644a38829f9f4981251483",
            "bdf3e58cf6a6430aa880f2a1f258c793",
            "df2ba321f46841e99f447ae121bac771",
            "452677f55b1a4efd980e129aee850774",
            "b5a89ed9640b45f58338edb3689a9abd",
            "d7db474552154509905f4e643beb7276",
            "e58d674b25a54a5daa56c2e968e5357c"
          ]
        },
        "id": "j13iOPty-8h8",
        "outputId": "f1d54631-2fd0-4c23-c33b-08bb67747f23"
      },
      "execution_count": 92,
      "outputs": [
        {
          "output_type": "display_data",
          "data": {
            "application/vnd.jupyter.widget-view+json": {
              "model_id": "64299273401c46d4aec389be9e2f6135",
              "version_minor": 0,
              "version_major": 2
            },
            "text/plain": [
              "interactive(children=(Dropdown(description='taglia', index=2, options=('S', 'M', 'L', 'XL'), value='L'), Butto…"
            ]
          },
          "metadata": {}
        }
      ]
    }
  ]
}