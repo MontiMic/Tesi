{
  "nbformat": 4,
  "nbformat_minor": 0,
  "metadata": {
    "colab": {
      "name": "Untitled1.ipynb",
      "provenance": [],
      "toc_visible": true,
      "collapsed_sections": [],
      "authorship_tag": "ABX9TyO+ywE3NZF6hzdu/IYH1qMe",
      "include_colab_link": true
    },
    "kernelspec": {
      "name": "python3",
      "display_name": "Python 3"
    },
    "language_info": {
      "name": "python"
    },
    "widgets": {
      "application/vnd.jupyter.widget-state+json": {
        "8d69f28b5e684d0b8b57672e6e01eae5": {
          "model_module": "@jupyter-widgets/controls",
          "model_name": "VBoxModel",
          "model_module_version": "1.5.0",
          "state": {
            "_view_name": "VBoxView",
            "_dom_classes": [
              "widget-interact"
            ],
            "_model_name": "VBoxModel",
            "_view_module": "@jupyter-widgets/controls",
            "_model_module_version": "1.5.0",
            "_view_count": null,
            "_view_module_version": "1.5.0",
            "box_style": "",
            "layout": "IPY_MODEL_895cabdd84214ddd8b990378139e1f34",
            "_model_module": "@jupyter-widgets/controls",
            "children": [
              "IPY_MODEL_3002b9f872bf497b8975cae2c47dd3a7",
              "IPY_MODEL_eb677b4d61a8492782c4cd1f7cfa3f74",
              "IPY_MODEL_3653c95ade9f4485962bd82cb4c9c5d4"
            ]
          }
        },
        "895cabdd84214ddd8b990378139e1f34": {
          "model_module": "@jupyter-widgets/base",
          "model_name": "LayoutModel",
          "model_module_version": "1.2.0",
          "state": {
            "_view_name": "LayoutView",
            "grid_template_rows": null,
            "right": null,
            "justify_content": null,
            "_view_module": "@jupyter-widgets/base",
            "overflow": null,
            "_model_module_version": "1.2.0",
            "_view_count": null,
            "flex_flow": null,
            "width": null,
            "min_width": null,
            "border": null,
            "align_items": null,
            "bottom": null,
            "_model_module": "@jupyter-widgets/base",
            "top": null,
            "grid_column": null,
            "overflow_y": null,
            "overflow_x": null,
            "grid_auto_flow": null,
            "grid_area": null,
            "grid_template_columns": null,
            "flex": null,
            "_model_name": "LayoutModel",
            "justify_items": null,
            "grid_row": null,
            "max_height": null,
            "align_content": null,
            "visibility": null,
            "align_self": null,
            "height": null,
            "min_height": null,
            "padding": null,
            "grid_auto_rows": null,
            "grid_gap": null,
            "max_width": null,
            "order": null,
            "_view_module_version": "1.2.0",
            "grid_template_areas": null,
            "object_position": null,
            "object_fit": null,
            "grid_auto_columns": null,
            "margin": null,
            "display": null,
            "left": null
          }
        },
        "3002b9f872bf497b8975cae2c47dd3a7": {
          "model_module": "@jupyter-widgets/controls",
          "model_name": "IntSliderModel",
          "model_module_version": "1.5.0",
          "state": {
            "_view_name": "IntSliderView",
            "style": "IPY_MODEL_39bece2d6d274cac960a8a2b5549ec86",
            "_dom_classes": [],
            "description": "vincita",
            "step": 1,
            "_model_name": "IntSliderModel",
            "orientation": "horizontal",
            "max": 30,
            "_view_module": "@jupyter-widgets/controls",
            "_model_module_version": "1.5.0",
            "value": 5,
            "_view_count": null,
            "disabled": false,
            "_view_module_version": "1.5.0",
            "min": 0,
            "continuous_update": true,
            "readout_format": "d",
            "description_tooltip": null,
            "readout": true,
            "_model_module": "@jupyter-widgets/controls",
            "layout": "IPY_MODEL_a9cdf551aa3d4c29bfab95d2290334e7"
          }
        },
        "eb677b4d61a8492782c4cd1f7cfa3f74": {
          "model_module": "@jupyter-widgets/controls",
          "model_name": "ButtonModel",
          "model_module_version": "1.5.0",
          "state": {
            "_view_name": "ButtonView",
            "style": "IPY_MODEL_72a9e7ffb44f48f2b130fd3b07e62ed7",
            "_dom_classes": [],
            "description": "Run Interact",
            "_model_name": "ButtonModel",
            "button_style": "",
            "_view_module": "@jupyter-widgets/controls",
            "_model_module_version": "1.5.0",
            "tooltip": "",
            "_view_count": null,
            "disabled": false,
            "_view_module_version": "1.5.0",
            "layout": "IPY_MODEL_a984f9b3e51b474daf3669a9b8e73b84",
            "_model_module": "@jupyter-widgets/controls",
            "icon": ""
          }
        },
        "3653c95ade9f4485962bd82cb4c9c5d4": {
          "model_module": "@jupyter-widgets/output",
          "model_name": "OutputModel",
          "model_module_version": "1.0.0",
          "state": {
            "_view_name": "OutputView",
            "msg_id": "",
            "_dom_classes": [],
            "_model_name": "OutputModel",
            "outputs": [],
            "_view_module": "@jupyter-widgets/output",
            "_model_module_version": "1.0.0",
            "_view_count": null,
            "_view_module_version": "1.0.0",
            "layout": "IPY_MODEL_12e186fbc8f94f4c82bd745ae43f1b87",
            "_model_module": "@jupyter-widgets/output"
          }
        },
        "39bece2d6d274cac960a8a2b5549ec86": {
          "model_module": "@jupyter-widgets/controls",
          "model_name": "SliderStyleModel",
          "model_module_version": "1.5.0",
          "state": {
            "_view_name": "StyleView",
            "handle_color": null,
            "_model_name": "SliderStyleModel",
            "description_width": "",
            "_view_module": "@jupyter-widgets/base",
            "_model_module_version": "1.5.0",
            "_view_count": null,
            "_view_module_version": "1.2.0",
            "_model_module": "@jupyter-widgets/controls"
          }
        },
        "a9cdf551aa3d4c29bfab95d2290334e7": {
          "model_module": "@jupyter-widgets/base",
          "model_name": "LayoutModel",
          "model_module_version": "1.2.0",
          "state": {
            "_view_name": "LayoutView",
            "grid_template_rows": null,
            "right": null,
            "justify_content": null,
            "_view_module": "@jupyter-widgets/base",
            "overflow": null,
            "_model_module_version": "1.2.0",
            "_view_count": null,
            "flex_flow": null,
            "width": null,
            "min_width": null,
            "border": null,
            "align_items": null,
            "bottom": null,
            "_model_module": "@jupyter-widgets/base",
            "top": null,
            "grid_column": null,
            "overflow_y": null,
            "overflow_x": null,
            "grid_auto_flow": null,
            "grid_area": null,
            "grid_template_columns": null,
            "flex": null,
            "_model_name": "LayoutModel",
            "justify_items": null,
            "grid_row": null,
            "max_height": null,
            "align_content": null,
            "visibility": null,
            "align_self": null,
            "height": null,
            "min_height": null,
            "padding": null,
            "grid_auto_rows": null,
            "grid_gap": null,
            "max_width": null,
            "order": null,
            "_view_module_version": "1.2.0",
            "grid_template_areas": null,
            "object_position": null,
            "object_fit": null,
            "grid_auto_columns": null,
            "margin": null,
            "display": null,
            "left": null
          }
        },
        "72a9e7ffb44f48f2b130fd3b07e62ed7": {
          "model_module": "@jupyter-widgets/controls",
          "model_name": "ButtonStyleModel",
          "model_module_version": "1.5.0",
          "state": {
            "_view_name": "StyleView",
            "_model_name": "ButtonStyleModel",
            "_view_module": "@jupyter-widgets/base",
            "_model_module_version": "1.5.0",
            "_view_count": null,
            "button_color": null,
            "font_weight": "",
            "_view_module_version": "1.2.0",
            "_model_module": "@jupyter-widgets/controls"
          }
        },
        "a984f9b3e51b474daf3669a9b8e73b84": {
          "model_module": "@jupyter-widgets/base",
          "model_name": "LayoutModel",
          "model_module_version": "1.2.0",
          "state": {
            "_view_name": "LayoutView",
            "grid_template_rows": null,
            "right": null,
            "justify_content": null,
            "_view_module": "@jupyter-widgets/base",
            "overflow": null,
            "_model_module_version": "1.2.0",
            "_view_count": null,
            "flex_flow": null,
            "width": null,
            "min_width": null,
            "border": null,
            "align_items": null,
            "bottom": null,
            "_model_module": "@jupyter-widgets/base",
            "top": null,
            "grid_column": null,
            "overflow_y": null,
            "overflow_x": null,
            "grid_auto_flow": null,
            "grid_area": null,
            "grid_template_columns": null,
            "flex": null,
            "_model_name": "LayoutModel",
            "justify_items": null,
            "grid_row": null,
            "max_height": null,
            "align_content": null,
            "visibility": null,
            "align_self": null,
            "height": null,
            "min_height": null,
            "padding": null,
            "grid_auto_rows": null,
            "grid_gap": null,
            "max_width": null,
            "order": null,
            "_view_module_version": "1.2.0",
            "grid_template_areas": null,
            "object_position": null,
            "object_fit": null,
            "grid_auto_columns": null,
            "margin": null,
            "display": null,
            "left": null
          }
        },
        "12e186fbc8f94f4c82bd745ae43f1b87": {
          "model_module": "@jupyter-widgets/base",
          "model_name": "LayoutModel",
          "model_module_version": "1.2.0",
          "state": {
            "_view_name": "LayoutView",
            "grid_template_rows": null,
            "right": null,
            "justify_content": null,
            "_view_module": "@jupyter-widgets/base",
            "overflow": null,
            "_model_module_version": "1.2.0",
            "_view_count": null,
            "flex_flow": null,
            "width": null,
            "min_width": null,
            "border": null,
            "align_items": null,
            "bottom": null,
            "_model_module": "@jupyter-widgets/base",
            "top": null,
            "grid_column": null,
            "overflow_y": null,
            "overflow_x": null,
            "grid_auto_flow": null,
            "grid_area": null,
            "grid_template_columns": null,
            "flex": null,
            "_model_name": "LayoutModel",
            "justify_items": null,
            "grid_row": null,
            "max_height": null,
            "align_content": null,
            "visibility": null,
            "align_self": null,
            "height": null,
            "min_height": null,
            "padding": null,
            "grid_auto_rows": null,
            "grid_gap": null,
            "max_width": null,
            "order": null,
            "_view_module_version": "1.2.0",
            "grid_template_areas": null,
            "object_position": null,
            "object_fit": null,
            "grid_auto_columns": null,
            "margin": null,
            "display": null,
            "left": null
          }
        },
        "b2e043d91a9b4dca90e634ea2e50721c": {
          "model_module": "@jupyter-widgets/controls",
          "model_name": "VBoxModel",
          "model_module_version": "1.5.0",
          "state": {
            "_view_name": "VBoxView",
            "_dom_classes": [
              "widget-interact"
            ],
            "_model_name": "VBoxModel",
            "_view_module": "@jupyter-widgets/controls",
            "_model_module_version": "1.5.0",
            "_view_count": null,
            "_view_module_version": "1.5.0",
            "box_style": "",
            "layout": "IPY_MODEL_e065e762b2c942118b717a892d5098f4",
            "_model_module": "@jupyter-widgets/controls",
            "children": [
              "IPY_MODEL_eefc524ed6ba42f68ac54616315561bf",
              "IPY_MODEL_6ef1408f3a534477b8720379fad4478f",
              "IPY_MODEL_9ce6c286223d412d90e764bac223ca6a",
              "IPY_MODEL_73eb422d1089492c912ca576f98c49d4"
            ]
          }
        },
        "e065e762b2c942118b717a892d5098f4": {
          "model_module": "@jupyter-widgets/base",
          "model_name": "LayoutModel",
          "model_module_version": "1.2.0",
          "state": {
            "_view_name": "LayoutView",
            "grid_template_rows": null,
            "right": null,
            "justify_content": null,
            "_view_module": "@jupyter-widgets/base",
            "overflow": null,
            "_model_module_version": "1.2.0",
            "_view_count": null,
            "flex_flow": null,
            "width": null,
            "min_width": null,
            "border": null,
            "align_items": null,
            "bottom": null,
            "_model_module": "@jupyter-widgets/base",
            "top": null,
            "grid_column": null,
            "overflow_y": null,
            "overflow_x": null,
            "grid_auto_flow": null,
            "grid_area": null,
            "grid_template_columns": null,
            "flex": null,
            "_model_name": "LayoutModel",
            "justify_items": null,
            "grid_row": null,
            "max_height": null,
            "align_content": null,
            "visibility": null,
            "align_self": null,
            "height": null,
            "min_height": null,
            "padding": null,
            "grid_auto_rows": null,
            "grid_gap": null,
            "max_width": null,
            "order": null,
            "_view_module_version": "1.2.0",
            "grid_template_areas": null,
            "object_position": null,
            "object_fit": null,
            "grid_auto_columns": null,
            "margin": null,
            "display": null,
            "left": null
          }
        },
        "eefc524ed6ba42f68ac54616315561bf": {
          "model_module": "@jupyter-widgets/controls",
          "model_name": "IntSliderModel",
          "model_module_version": "1.5.0",
          "state": {
            "_view_name": "IntSliderView",
            "style": "IPY_MODEL_382cb5d17f6641549baa2363e66ff776",
            "_dom_classes": [],
            "description": "giocate",
            "step": 1,
            "_model_name": "IntSliderModel",
            "orientation": "horizontal",
            "max": 10,
            "_view_module": "@jupyter-widgets/controls",
            "_model_module_version": "1.5.0",
            "value": 3,
            "_view_count": null,
            "disabled": false,
            "_view_module_version": "1.5.0",
            "min": 1,
            "continuous_update": true,
            "readout_format": "d",
            "description_tooltip": null,
            "readout": true,
            "_model_module": "@jupyter-widgets/controls",
            "layout": "IPY_MODEL_77febadf16a04c55956f6050ebdf4e97"
          }
        },
        "6ef1408f3a534477b8720379fad4478f": {
          "model_module": "@jupyter-widgets/controls",
          "model_name": "IntSliderModel",
          "model_module_version": "1.5.0",
          "state": {
            "_view_name": "IntSliderView",
            "style": "IPY_MODEL_39a58a3dca814a61b2b21216bdd14b10",
            "_dom_classes": [],
            "description": "puntata",
            "step": 5,
            "_model_name": "IntSliderModel",
            "orientation": "horizontal",
            "max": 100,
            "_view_module": "@jupyter-widgets/controls",
            "_model_module_version": "1.5.0",
            "value": 10,
            "_view_count": null,
            "disabled": false,
            "_view_module_version": "1.5.0",
            "min": 5,
            "continuous_update": true,
            "readout_format": "d",
            "description_tooltip": null,
            "readout": true,
            "_model_module": "@jupyter-widgets/controls",
            "layout": "IPY_MODEL_18888b62b7c34a518bfe3251138c1354"
          }
        },
        "9ce6c286223d412d90e764bac223ca6a": {
          "model_module": "@jupyter-widgets/controls",
          "model_name": "ButtonModel",
          "model_module_version": "1.5.0",
          "state": {
            "_view_name": "ButtonView",
            "style": "IPY_MODEL_43f6eb3781644bd485c90c68972e35be",
            "_dom_classes": [],
            "description": "Run Interact",
            "_model_name": "ButtonModel",
            "button_style": "",
            "_view_module": "@jupyter-widgets/controls",
            "_model_module_version": "1.5.0",
            "tooltip": "",
            "_view_count": null,
            "disabled": false,
            "_view_module_version": "1.5.0",
            "layout": "IPY_MODEL_dc71ef721f674a0c82f8c5210ee67bb5",
            "_model_module": "@jupyter-widgets/controls",
            "icon": ""
          }
        },
        "73eb422d1089492c912ca576f98c49d4": {
          "model_module": "@jupyter-widgets/output",
          "model_name": "OutputModel",
          "model_module_version": "1.0.0",
          "state": {
            "_view_name": "OutputView",
            "msg_id": "",
            "_dom_classes": [],
            "_model_name": "OutputModel",
            "outputs": [],
            "_view_module": "@jupyter-widgets/output",
            "_model_module_version": "1.0.0",
            "_view_count": null,
            "_view_module_version": "1.0.0",
            "layout": "IPY_MODEL_c2ce6afc95704012b1f2ffd1db383b06",
            "_model_module": "@jupyter-widgets/output"
          }
        },
        "382cb5d17f6641549baa2363e66ff776": {
          "model_module": "@jupyter-widgets/controls",
          "model_name": "SliderStyleModel",
          "model_module_version": "1.5.0",
          "state": {
            "_view_name": "StyleView",
            "handle_color": null,
            "_model_name": "SliderStyleModel",
            "description_width": "",
            "_view_module": "@jupyter-widgets/base",
            "_model_module_version": "1.5.0",
            "_view_count": null,
            "_view_module_version": "1.2.0",
            "_model_module": "@jupyter-widgets/controls"
          }
        },
        "77febadf16a04c55956f6050ebdf4e97": {
          "model_module": "@jupyter-widgets/base",
          "model_name": "LayoutModel",
          "model_module_version": "1.2.0",
          "state": {
            "_view_name": "LayoutView",
            "grid_template_rows": null,
            "right": null,
            "justify_content": null,
            "_view_module": "@jupyter-widgets/base",
            "overflow": null,
            "_model_module_version": "1.2.0",
            "_view_count": null,
            "flex_flow": null,
            "width": null,
            "min_width": null,
            "border": null,
            "align_items": null,
            "bottom": null,
            "_model_module": "@jupyter-widgets/base",
            "top": null,
            "grid_column": null,
            "overflow_y": null,
            "overflow_x": null,
            "grid_auto_flow": null,
            "grid_area": null,
            "grid_template_columns": null,
            "flex": null,
            "_model_name": "LayoutModel",
            "justify_items": null,
            "grid_row": null,
            "max_height": null,
            "align_content": null,
            "visibility": null,
            "align_self": null,
            "height": null,
            "min_height": null,
            "padding": null,
            "grid_auto_rows": null,
            "grid_gap": null,
            "max_width": null,
            "order": null,
            "_view_module_version": "1.2.0",
            "grid_template_areas": null,
            "object_position": null,
            "object_fit": null,
            "grid_auto_columns": null,
            "margin": null,
            "display": null,
            "left": null
          }
        },
        "39a58a3dca814a61b2b21216bdd14b10": {
          "model_module": "@jupyter-widgets/controls",
          "model_name": "SliderStyleModel",
          "model_module_version": "1.5.0",
          "state": {
            "_view_name": "StyleView",
            "handle_color": null,
            "_model_name": "SliderStyleModel",
            "description_width": "",
            "_view_module": "@jupyter-widgets/base",
            "_model_module_version": "1.5.0",
            "_view_count": null,
            "_view_module_version": "1.2.0",
            "_model_module": "@jupyter-widgets/controls"
          }
        },
        "18888b62b7c34a518bfe3251138c1354": {
          "model_module": "@jupyter-widgets/base",
          "model_name": "LayoutModel",
          "model_module_version": "1.2.0",
          "state": {
            "_view_name": "LayoutView",
            "grid_template_rows": null,
            "right": null,
            "justify_content": null,
            "_view_module": "@jupyter-widgets/base",
            "overflow": null,
            "_model_module_version": "1.2.0",
            "_view_count": null,
            "flex_flow": null,
            "width": null,
            "min_width": null,
            "border": null,
            "align_items": null,
            "bottom": null,
            "_model_module": "@jupyter-widgets/base",
            "top": null,
            "grid_column": null,
            "overflow_y": null,
            "overflow_x": null,
            "grid_auto_flow": null,
            "grid_area": null,
            "grid_template_columns": null,
            "flex": null,
            "_model_name": "LayoutModel",
            "justify_items": null,
            "grid_row": null,
            "max_height": null,
            "align_content": null,
            "visibility": null,
            "align_self": null,
            "height": null,
            "min_height": null,
            "padding": null,
            "grid_auto_rows": null,
            "grid_gap": null,
            "max_width": null,
            "order": null,
            "_view_module_version": "1.2.0",
            "grid_template_areas": null,
            "object_position": null,
            "object_fit": null,
            "grid_auto_columns": null,
            "margin": null,
            "display": null,
            "left": null
          }
        },
        "43f6eb3781644bd485c90c68972e35be": {
          "model_module": "@jupyter-widgets/controls",
          "model_name": "ButtonStyleModel",
          "model_module_version": "1.5.0",
          "state": {
            "_view_name": "StyleView",
            "_model_name": "ButtonStyleModel",
            "_view_module": "@jupyter-widgets/base",
            "_model_module_version": "1.5.0",
            "_view_count": null,
            "button_color": null,
            "font_weight": "",
            "_view_module_version": "1.2.0",
            "_model_module": "@jupyter-widgets/controls"
          }
        },
        "dc71ef721f674a0c82f8c5210ee67bb5": {
          "model_module": "@jupyter-widgets/base",
          "model_name": "LayoutModel",
          "model_module_version": "1.2.0",
          "state": {
            "_view_name": "LayoutView",
            "grid_template_rows": null,
            "right": null,
            "justify_content": null,
            "_view_module": "@jupyter-widgets/base",
            "overflow": null,
            "_model_module_version": "1.2.0",
            "_view_count": null,
            "flex_flow": null,
            "width": null,
            "min_width": null,
            "border": null,
            "align_items": null,
            "bottom": null,
            "_model_module": "@jupyter-widgets/base",
            "top": null,
            "grid_column": null,
            "overflow_y": null,
            "overflow_x": null,
            "grid_auto_flow": null,
            "grid_area": null,
            "grid_template_columns": null,
            "flex": null,
            "_model_name": "LayoutModel",
            "justify_items": null,
            "grid_row": null,
            "max_height": null,
            "align_content": null,
            "visibility": null,
            "align_self": null,
            "height": null,
            "min_height": null,
            "padding": null,
            "grid_auto_rows": null,
            "grid_gap": null,
            "max_width": null,
            "order": null,
            "_view_module_version": "1.2.0",
            "grid_template_areas": null,
            "object_position": null,
            "object_fit": null,
            "grid_auto_columns": null,
            "margin": null,
            "display": null,
            "left": null
          }
        },
        "c2ce6afc95704012b1f2ffd1db383b06": {
          "model_module": "@jupyter-widgets/base",
          "model_name": "LayoutModel",
          "model_module_version": "1.2.0",
          "state": {
            "_view_name": "LayoutView",
            "grid_template_rows": null,
            "right": null,
            "justify_content": null,
            "_view_module": "@jupyter-widgets/base",
            "overflow": null,
            "_model_module_version": "1.2.0",
            "_view_count": null,
            "flex_flow": null,
            "width": null,
            "min_width": null,
            "border": null,
            "align_items": null,
            "bottom": null,
            "_model_module": "@jupyter-widgets/base",
            "top": null,
            "grid_column": null,
            "overflow_y": null,
            "overflow_x": null,
            "grid_auto_flow": null,
            "grid_area": null,
            "grid_template_columns": null,
            "flex": null,
            "_model_name": "LayoutModel",
            "justify_items": null,
            "grid_row": null,
            "max_height": null,
            "align_content": null,
            "visibility": null,
            "align_self": null,
            "height": null,
            "min_height": null,
            "padding": null,
            "grid_auto_rows": null,
            "grid_gap": null,
            "max_width": null,
            "order": null,
            "_view_module_version": "1.2.0",
            "grid_template_areas": null,
            "object_position": null,
            "object_fit": null,
            "grid_auto_columns": null,
            "margin": null,
            "display": null,
            "left": null
          }
        },
        "e406a79f24184f4a942998a5d5674f05": {
          "model_module": "@jupyter-widgets/controls",
          "model_name": "VBoxModel",
          "model_module_version": "1.5.0",
          "state": {
            "_view_name": "VBoxView",
            "_dom_classes": [
              "widget-interact"
            ],
            "_model_name": "VBoxModel",
            "_view_module": "@jupyter-widgets/controls",
            "_model_module_version": "1.5.0",
            "_view_count": null,
            "_view_module_version": "1.5.0",
            "box_style": "",
            "layout": "IPY_MODEL_557cdbb031a14ff7ab4ca061b1cd4a34",
            "_model_module": "@jupyter-widgets/controls",
            "children": [
              "IPY_MODEL_0be5a8350d4548d0baa182a4b0cb5d44",
              "IPY_MODEL_d0d0d23dcb1e4ecb9e46b6051fd87299",
              "IPY_MODEL_070b4eff45ee42ce9afe0d39cc63d3e1",
              "IPY_MODEL_3b5a517a50ed4b6f96cc8b97075fb147"
            ]
          }
        },
        "557cdbb031a14ff7ab4ca061b1cd4a34": {
          "model_module": "@jupyter-widgets/base",
          "model_name": "LayoutModel",
          "model_module_version": "1.2.0",
          "state": {
            "_view_name": "LayoutView",
            "grid_template_rows": null,
            "right": null,
            "justify_content": null,
            "_view_module": "@jupyter-widgets/base",
            "overflow": null,
            "_model_module_version": "1.2.0",
            "_view_count": null,
            "flex_flow": null,
            "width": null,
            "min_width": null,
            "border": null,
            "align_items": null,
            "bottom": null,
            "_model_module": "@jupyter-widgets/base",
            "top": null,
            "grid_column": null,
            "overflow_y": null,
            "overflow_x": null,
            "grid_auto_flow": null,
            "grid_area": null,
            "grid_template_columns": null,
            "flex": null,
            "_model_name": "LayoutModel",
            "justify_items": null,
            "grid_row": null,
            "max_height": null,
            "align_content": null,
            "visibility": null,
            "align_self": null,
            "height": null,
            "min_height": null,
            "padding": null,
            "grid_auto_rows": null,
            "grid_gap": null,
            "max_width": null,
            "order": null,
            "_view_module_version": "1.2.0",
            "grid_template_areas": null,
            "object_position": null,
            "object_fit": null,
            "grid_auto_columns": null,
            "margin": null,
            "display": null,
            "left": null
          }
        },
        "0be5a8350d4548d0baa182a4b0cb5d44": {
          "model_module": "@jupyter-widgets/controls",
          "model_name": "IntSliderModel",
          "model_module_version": "1.5.0",
          "state": {
            "_view_name": "IntSliderView",
            "style": "IPY_MODEL_890538a4056d417baea36b737961c787",
            "_dom_classes": [],
            "description": "giocate",
            "step": 1,
            "_model_name": "IntSliderModel",
            "orientation": "horizontal",
            "max": 6,
            "_view_module": "@jupyter-widgets/controls",
            "_model_module_version": "1.5.0",
            "value": 3,
            "_view_count": null,
            "disabled": false,
            "_view_module_version": "1.5.0",
            "min": 1,
            "continuous_update": true,
            "readout_format": "d",
            "description_tooltip": null,
            "readout": true,
            "_model_module": "@jupyter-widgets/controls",
            "layout": "IPY_MODEL_287df417c74f4b1b9fc0cd9be9a5e60e"
          }
        },
        "d0d0d23dcb1e4ecb9e46b6051fd87299": {
          "model_module": "@jupyter-widgets/controls",
          "model_name": "IntSliderModel",
          "model_module_version": "1.5.0",
          "state": {
            "_view_name": "IntSliderView",
            "style": "IPY_MODEL_bee65555ac5e4af8bab3a151bd8d6f9c",
            "_dom_classes": [],
            "description": "puntata",
            "step": 5,
            "_model_name": "IntSliderModel",
            "orientation": "horizontal",
            "max": 100,
            "_view_module": "@jupyter-widgets/controls",
            "_model_module_version": "1.5.0",
            "value": 5,
            "_view_count": null,
            "disabled": false,
            "_view_module_version": "1.5.0",
            "min": 5,
            "continuous_update": true,
            "readout_format": "d",
            "description_tooltip": null,
            "readout": true,
            "_model_module": "@jupyter-widgets/controls",
            "layout": "IPY_MODEL_bce3e965a147451cb7755ed17c80edde"
          }
        },
        "070b4eff45ee42ce9afe0d39cc63d3e1": {
          "model_module": "@jupyter-widgets/controls",
          "model_name": "ButtonModel",
          "model_module_version": "1.5.0",
          "state": {
            "_view_name": "ButtonView",
            "style": "IPY_MODEL_5669d83a5e834a239cf2e5dda2b2ec38",
            "_dom_classes": [],
            "description": "Run Interact",
            "_model_name": "ButtonModel",
            "button_style": "",
            "_view_module": "@jupyter-widgets/controls",
            "_model_module_version": "1.5.0",
            "tooltip": "",
            "_view_count": null,
            "disabled": false,
            "_view_module_version": "1.5.0",
            "layout": "IPY_MODEL_28d323c138454c45b0ce7cdb9e5f3ee6",
            "_model_module": "@jupyter-widgets/controls",
            "icon": ""
          }
        },
        "3b5a517a50ed4b6f96cc8b97075fb147": {
          "model_module": "@jupyter-widgets/output",
          "model_name": "OutputModel",
          "model_module_version": "1.0.0",
          "state": {
            "_view_name": "OutputView",
            "msg_id": "",
            "_dom_classes": [],
            "_model_name": "OutputModel",
            "outputs": [
              {
                "output_type": "display_data",
                "data": {
                  "image/png": "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\n",
                  "text/plain": "<Figure size 432x288 with 1 Axes>"
                },
                "metadata": {}
              }
            ],
            "_view_module": "@jupyter-widgets/output",
            "_model_module_version": "1.0.0",
            "_view_count": null,
            "_view_module_version": "1.0.0",
            "layout": "IPY_MODEL_2a1acfb993494ac5b6de61b155dfa646",
            "_model_module": "@jupyter-widgets/output"
          }
        },
        "890538a4056d417baea36b737961c787": {
          "model_module": "@jupyter-widgets/controls",
          "model_name": "SliderStyleModel",
          "model_module_version": "1.5.0",
          "state": {
            "_view_name": "StyleView",
            "handle_color": null,
            "_model_name": "SliderStyleModel",
            "description_width": "",
            "_view_module": "@jupyter-widgets/base",
            "_model_module_version": "1.5.0",
            "_view_count": null,
            "_view_module_version": "1.2.0",
            "_model_module": "@jupyter-widgets/controls"
          }
        },
        "287df417c74f4b1b9fc0cd9be9a5e60e": {
          "model_module": "@jupyter-widgets/base",
          "model_name": "LayoutModel",
          "model_module_version": "1.2.0",
          "state": {
            "_view_name": "LayoutView",
            "grid_template_rows": null,
            "right": null,
            "justify_content": null,
            "_view_module": "@jupyter-widgets/base",
            "overflow": null,
            "_model_module_version": "1.2.0",
            "_view_count": null,
            "flex_flow": null,
            "width": null,
            "min_width": null,
            "border": null,
            "align_items": null,
            "bottom": null,
            "_model_module": "@jupyter-widgets/base",
            "top": null,
            "grid_column": null,
            "overflow_y": null,
            "overflow_x": null,
            "grid_auto_flow": null,
            "grid_area": null,
            "grid_template_columns": null,
            "flex": null,
            "_model_name": "LayoutModel",
            "justify_items": null,
            "grid_row": null,
            "max_height": null,
            "align_content": null,
            "visibility": null,
            "align_self": null,
            "height": null,
            "min_height": null,
            "padding": null,
            "grid_auto_rows": null,
            "grid_gap": null,
            "max_width": null,
            "order": null,
            "_view_module_version": "1.2.0",
            "grid_template_areas": null,
            "object_position": null,
            "object_fit": null,
            "grid_auto_columns": null,
            "margin": null,
            "display": null,
            "left": null
          }
        },
        "bee65555ac5e4af8bab3a151bd8d6f9c": {
          "model_module": "@jupyter-widgets/controls",
          "model_name": "SliderStyleModel",
          "model_module_version": "1.5.0",
          "state": {
            "_view_name": "StyleView",
            "handle_color": null,
            "_model_name": "SliderStyleModel",
            "description_width": "",
            "_view_module": "@jupyter-widgets/base",
            "_model_module_version": "1.5.0",
            "_view_count": null,
            "_view_module_version": "1.2.0",
            "_model_module": "@jupyter-widgets/controls"
          }
        },
        "bce3e965a147451cb7755ed17c80edde": {
          "model_module": "@jupyter-widgets/base",
          "model_name": "LayoutModel",
          "model_module_version": "1.2.0",
          "state": {
            "_view_name": "LayoutView",
            "grid_template_rows": null,
            "right": null,
            "justify_content": null,
            "_view_module": "@jupyter-widgets/base",
            "overflow": null,
            "_model_module_version": "1.2.0",
            "_view_count": null,
            "flex_flow": null,
            "width": null,
            "min_width": null,
            "border": null,
            "align_items": null,
            "bottom": null,
            "_model_module": "@jupyter-widgets/base",
            "top": null,
            "grid_column": null,
            "overflow_y": null,
            "overflow_x": null,
            "grid_auto_flow": null,
            "grid_area": null,
            "grid_template_columns": null,
            "flex": null,
            "_model_name": "LayoutModel",
            "justify_items": null,
            "grid_row": null,
            "max_height": null,
            "align_content": null,
            "visibility": null,
            "align_self": null,
            "height": null,
            "min_height": null,
            "padding": null,
            "grid_auto_rows": null,
            "grid_gap": null,
            "max_width": null,
            "order": null,
            "_view_module_version": "1.2.0",
            "grid_template_areas": null,
            "object_position": null,
            "object_fit": null,
            "grid_auto_columns": null,
            "margin": null,
            "display": null,
            "left": null
          }
        },
        "5669d83a5e834a239cf2e5dda2b2ec38": {
          "model_module": "@jupyter-widgets/controls",
          "model_name": "ButtonStyleModel",
          "model_module_version": "1.5.0",
          "state": {
            "_view_name": "StyleView",
            "_model_name": "ButtonStyleModel",
            "_view_module": "@jupyter-widgets/base",
            "_model_module_version": "1.5.0",
            "_view_count": null,
            "button_color": null,
            "font_weight": "",
            "_view_module_version": "1.2.0",
            "_model_module": "@jupyter-widgets/controls"
          }
        },
        "28d323c138454c45b0ce7cdb9e5f3ee6": {
          "model_module": "@jupyter-widgets/base",
          "model_name": "LayoutModel",
          "model_module_version": "1.2.0",
          "state": {
            "_view_name": "LayoutView",
            "grid_template_rows": null,
            "right": null,
            "justify_content": null,
            "_view_module": "@jupyter-widgets/base",
            "overflow": null,
            "_model_module_version": "1.2.0",
            "_view_count": null,
            "flex_flow": null,
            "width": null,
            "min_width": null,
            "border": null,
            "align_items": null,
            "bottom": null,
            "_model_module": "@jupyter-widgets/base",
            "top": null,
            "grid_column": null,
            "overflow_y": null,
            "overflow_x": null,
            "grid_auto_flow": null,
            "grid_area": null,
            "grid_template_columns": null,
            "flex": null,
            "_model_name": "LayoutModel",
            "justify_items": null,
            "grid_row": null,
            "max_height": null,
            "align_content": null,
            "visibility": null,
            "align_self": null,
            "height": null,
            "min_height": null,
            "padding": null,
            "grid_auto_rows": null,
            "grid_gap": null,
            "max_width": null,
            "order": null,
            "_view_module_version": "1.2.0",
            "grid_template_areas": null,
            "object_position": null,
            "object_fit": null,
            "grid_auto_columns": null,
            "margin": null,
            "display": null,
            "left": null
          }
        },
        "2a1acfb993494ac5b6de61b155dfa646": {
          "model_module": "@jupyter-widgets/base",
          "model_name": "LayoutModel",
          "model_module_version": "1.2.0",
          "state": {
            "_view_name": "LayoutView",
            "grid_template_rows": null,
            "right": null,
            "justify_content": null,
            "_view_module": "@jupyter-widgets/base",
            "overflow": null,
            "_model_module_version": "1.2.0",
            "_view_count": null,
            "flex_flow": null,
            "width": null,
            "min_width": null,
            "border": null,
            "align_items": null,
            "bottom": null,
            "_model_module": "@jupyter-widgets/base",
            "top": null,
            "grid_column": null,
            "overflow_y": null,
            "overflow_x": null,
            "grid_auto_flow": null,
            "grid_area": null,
            "grid_template_columns": null,
            "flex": null,
            "_model_name": "LayoutModel",
            "justify_items": null,
            "grid_row": null,
            "max_height": null,
            "align_content": null,
            "visibility": null,
            "align_self": null,
            "height": null,
            "min_height": null,
            "padding": null,
            "grid_auto_rows": null,
            "grid_gap": null,
            "max_width": null,
            "order": null,
            "_view_module_version": "1.2.0",
            "grid_template_areas": null,
            "object_position": null,
            "object_fit": null,
            "grid_auto_columns": null,
            "margin": null,
            "display": null,
            "left": null
          }
        },
        "cd7535b76a55496db84c3f3638c0612a": {
          "model_module": "@jupyter-widgets/controls",
          "model_name": "VBoxModel",
          "model_module_version": "1.5.0",
          "state": {
            "_view_name": "VBoxView",
            "_dom_classes": [
              "widget-interact"
            ],
            "_model_name": "VBoxModel",
            "_view_module": "@jupyter-widgets/controls",
            "_model_module_version": "1.5.0",
            "_view_count": null,
            "_view_module_version": "1.5.0",
            "box_style": "",
            "layout": "IPY_MODEL_2d9aec1574824cc093d50c655d8015eb",
            "_model_module": "@jupyter-widgets/controls",
            "children": [
              "IPY_MODEL_62d0c1afafc04b41a3b33aaecb3066aa",
              "IPY_MODEL_3de624c280a249269f5be62ebd829d12",
              "IPY_MODEL_8fb79486ad5340fbbbf3ffb3eaa457ed"
            ]
          }
        },
        "2d9aec1574824cc093d50c655d8015eb": {
          "model_module": "@jupyter-widgets/base",
          "model_name": "LayoutModel",
          "model_module_version": "1.2.0",
          "state": {
            "_view_name": "LayoutView",
            "grid_template_rows": null,
            "right": null,
            "justify_content": null,
            "_view_module": "@jupyter-widgets/base",
            "overflow": null,
            "_model_module_version": "1.2.0",
            "_view_count": null,
            "flex_flow": null,
            "width": null,
            "min_width": null,
            "border": null,
            "align_items": null,
            "bottom": null,
            "_model_module": "@jupyter-widgets/base",
            "top": null,
            "grid_column": null,
            "overflow_y": null,
            "overflow_x": null,
            "grid_auto_flow": null,
            "grid_area": null,
            "grid_template_columns": null,
            "flex": null,
            "_model_name": "LayoutModel",
            "justify_items": null,
            "grid_row": null,
            "max_height": null,
            "align_content": null,
            "visibility": null,
            "align_self": null,
            "height": null,
            "min_height": null,
            "padding": null,
            "grid_auto_rows": null,
            "grid_gap": null,
            "max_width": null,
            "order": null,
            "_view_module_version": "1.2.0",
            "grid_template_areas": null,
            "object_position": null,
            "object_fit": null,
            "grid_auto_columns": null,
            "margin": null,
            "display": null,
            "left": null
          }
        },
        "62d0c1afafc04b41a3b33aaecb3066aa": {
          "model_module": "@jupyter-widgets/controls",
          "model_name": "IntSliderModel",
          "model_module_version": "1.5.0",
          "state": {
            "_view_name": "IntSliderView",
            "style": "IPY_MODEL_771685e482f94855a401b1d6005d91ff",
            "_dom_classes": [],
            "description": "estrazioni",
            "step": 1,
            "_model_name": "IntSliderModel",
            "orientation": "horizontal",
            "max": 10,
            "_view_module": "@jupyter-widgets/controls",
            "_model_module_version": "1.5.0",
            "value": 3,
            "_view_count": null,
            "disabled": false,
            "_view_module_version": "1.5.0",
            "min": 1,
            "continuous_update": true,
            "readout_format": "d",
            "description_tooltip": null,
            "readout": true,
            "_model_module": "@jupyter-widgets/controls",
            "layout": "IPY_MODEL_e21159ba9ea14621bed0b9e37dc0f9bd"
          }
        },
        "3de624c280a249269f5be62ebd829d12": {
          "model_module": "@jupyter-widgets/controls",
          "model_name": "ButtonModel",
          "model_module_version": "1.5.0",
          "state": {
            "_view_name": "ButtonView",
            "style": "IPY_MODEL_966e03c4224b4a8aaa1925462b7079ae",
            "_dom_classes": [],
            "description": "Run Interact",
            "_model_name": "ButtonModel",
            "button_style": "",
            "_view_module": "@jupyter-widgets/controls",
            "_model_module_version": "1.5.0",
            "tooltip": "",
            "_view_count": null,
            "disabled": false,
            "_view_module_version": "1.5.0",
            "layout": "IPY_MODEL_77ecc8ee6ec946f9b8e26261aa5a5a6a",
            "_model_module": "@jupyter-widgets/controls",
            "icon": ""
          }
        },
        "8fb79486ad5340fbbbf3ffb3eaa457ed": {
          "model_module": "@jupyter-widgets/output",
          "model_name": "OutputModel",
          "model_module_version": "1.0.0",
          "state": {
            "_view_name": "OutputView",
            "msg_id": "",
            "_dom_classes": [],
            "_model_name": "OutputModel",
            "outputs": [],
            "_view_module": "@jupyter-widgets/output",
            "_model_module_version": "1.0.0",
            "_view_count": null,
            "_view_module_version": "1.0.0",
            "layout": "IPY_MODEL_5fc8e9a4114c4c27ac0c6861981763b7",
            "_model_module": "@jupyter-widgets/output"
          }
        },
        "771685e482f94855a401b1d6005d91ff": {
          "model_module": "@jupyter-widgets/controls",
          "model_name": "SliderStyleModel",
          "model_module_version": "1.5.0",
          "state": {
            "_view_name": "StyleView",
            "handle_color": null,
            "_model_name": "SliderStyleModel",
            "description_width": "",
            "_view_module": "@jupyter-widgets/base",
            "_model_module_version": "1.5.0",
            "_view_count": null,
            "_view_module_version": "1.2.0",
            "_model_module": "@jupyter-widgets/controls"
          }
        },
        "e21159ba9ea14621bed0b9e37dc0f9bd": {
          "model_module": "@jupyter-widgets/base",
          "model_name": "LayoutModel",
          "model_module_version": "1.2.0",
          "state": {
            "_view_name": "LayoutView",
            "grid_template_rows": null,
            "right": null,
            "justify_content": null,
            "_view_module": "@jupyter-widgets/base",
            "overflow": null,
            "_model_module_version": "1.2.0",
            "_view_count": null,
            "flex_flow": null,
            "width": null,
            "min_width": null,
            "border": null,
            "align_items": null,
            "bottom": null,
            "_model_module": "@jupyter-widgets/base",
            "top": null,
            "grid_column": null,
            "overflow_y": null,
            "overflow_x": null,
            "grid_auto_flow": null,
            "grid_area": null,
            "grid_template_columns": null,
            "flex": null,
            "_model_name": "LayoutModel",
            "justify_items": null,
            "grid_row": null,
            "max_height": null,
            "align_content": null,
            "visibility": null,
            "align_self": null,
            "height": null,
            "min_height": null,
            "padding": null,
            "grid_auto_rows": null,
            "grid_gap": null,
            "max_width": null,
            "order": null,
            "_view_module_version": "1.2.0",
            "grid_template_areas": null,
            "object_position": null,
            "object_fit": null,
            "grid_auto_columns": null,
            "margin": null,
            "display": null,
            "left": null
          }
        },
        "966e03c4224b4a8aaa1925462b7079ae": {
          "model_module": "@jupyter-widgets/controls",
          "model_name": "ButtonStyleModel",
          "model_module_version": "1.5.0",
          "state": {
            "_view_name": "StyleView",
            "_model_name": "ButtonStyleModel",
            "_view_module": "@jupyter-widgets/base",
            "_model_module_version": "1.5.0",
            "_view_count": null,
            "button_color": null,
            "font_weight": "",
            "_view_module_version": "1.2.0",
            "_model_module": "@jupyter-widgets/controls"
          }
        },
        "77ecc8ee6ec946f9b8e26261aa5a5a6a": {
          "model_module": "@jupyter-widgets/base",
          "model_name": "LayoutModel",
          "model_module_version": "1.2.0",
          "state": {
            "_view_name": "LayoutView",
            "grid_template_rows": null,
            "right": null,
            "justify_content": null,
            "_view_module": "@jupyter-widgets/base",
            "overflow": null,
            "_model_module_version": "1.2.0",
            "_view_count": null,
            "flex_flow": null,
            "width": null,
            "min_width": null,
            "border": null,
            "align_items": null,
            "bottom": null,
            "_model_module": "@jupyter-widgets/base",
            "top": null,
            "grid_column": null,
            "overflow_y": null,
            "overflow_x": null,
            "grid_auto_flow": null,
            "grid_area": null,
            "grid_template_columns": null,
            "flex": null,
            "_model_name": "LayoutModel",
            "justify_items": null,
            "grid_row": null,
            "max_height": null,
            "align_content": null,
            "visibility": null,
            "align_self": null,
            "height": null,
            "min_height": null,
            "padding": null,
            "grid_auto_rows": null,
            "grid_gap": null,
            "max_width": null,
            "order": null,
            "_view_module_version": "1.2.0",
            "grid_template_areas": null,
            "object_position": null,
            "object_fit": null,
            "grid_auto_columns": null,
            "margin": null,
            "display": null,
            "left": null
          }
        },
        "5fc8e9a4114c4c27ac0c6861981763b7": {
          "model_module": "@jupyter-widgets/base",
          "model_name": "LayoutModel",
          "model_module_version": "1.2.0",
          "state": {
            "_view_name": "LayoutView",
            "grid_template_rows": null,
            "right": null,
            "justify_content": null,
            "_view_module": "@jupyter-widgets/base",
            "overflow": null,
            "_model_module_version": "1.2.0",
            "_view_count": null,
            "flex_flow": null,
            "width": null,
            "min_width": null,
            "border": null,
            "align_items": null,
            "bottom": null,
            "_model_module": "@jupyter-widgets/base",
            "top": null,
            "grid_column": null,
            "overflow_y": null,
            "overflow_x": null,
            "grid_auto_flow": null,
            "grid_area": null,
            "grid_template_columns": null,
            "flex": null,
            "_model_name": "LayoutModel",
            "justify_items": null,
            "grid_row": null,
            "max_height": null,
            "align_content": null,
            "visibility": null,
            "align_self": null,
            "height": null,
            "min_height": null,
            "padding": null,
            "grid_auto_rows": null,
            "grid_gap": null,
            "max_width": null,
            "order": null,
            "_view_module_version": "1.2.0",
            "grid_template_areas": null,
            "object_position": null,
            "object_fit": null,
            "grid_auto_columns": null,
            "margin": null,
            "display": null,
            "left": null
          }
        },
        "965dc22a08ba4aebaaf138ecd0568ea4": {
          "model_module": "@jupyter-widgets/controls",
          "model_name": "VBoxModel",
          "model_module_version": "1.5.0",
          "state": {
            "_view_name": "VBoxView",
            "_dom_classes": [
              "widget-interact"
            ],
            "_model_name": "VBoxModel",
            "_view_module": "@jupyter-widgets/controls",
            "_model_module_version": "1.5.0",
            "_view_count": null,
            "_view_module_version": "1.5.0",
            "box_style": "",
            "layout": "IPY_MODEL_46730afe9aec417c9c84c820410e4a81",
            "_model_module": "@jupyter-widgets/controls",
            "children": [
              "IPY_MODEL_ff8303890580485c92c05bae39d3dded",
              "IPY_MODEL_b8ac9ef7a608471d952b9704f7aab556",
              "IPY_MODEL_80c041bba5c445bb9a890d14703c9ab6",
              "IPY_MODEL_69cc476b22ab4fe4886d5c28cd29e307"
            ]
          }
        },
        "46730afe9aec417c9c84c820410e4a81": {
          "model_module": "@jupyter-widgets/base",
          "model_name": "LayoutModel",
          "model_module_version": "1.2.0",
          "state": {
            "_view_name": "LayoutView",
            "grid_template_rows": null,
            "right": null,
            "justify_content": null,
            "_view_module": "@jupyter-widgets/base",
            "overflow": null,
            "_model_module_version": "1.2.0",
            "_view_count": null,
            "flex_flow": null,
            "width": null,
            "min_width": null,
            "border": null,
            "align_items": null,
            "bottom": null,
            "_model_module": "@jupyter-widgets/base",
            "top": null,
            "grid_column": null,
            "overflow_y": null,
            "overflow_x": null,
            "grid_auto_flow": null,
            "grid_area": null,
            "grid_template_columns": null,
            "flex": null,
            "_model_name": "LayoutModel",
            "justify_items": null,
            "grid_row": null,
            "max_height": null,
            "align_content": null,
            "visibility": null,
            "align_self": null,
            "height": null,
            "min_height": null,
            "padding": null,
            "grid_auto_rows": null,
            "grid_gap": null,
            "max_width": null,
            "order": null,
            "_view_module_version": "1.2.0",
            "grid_template_areas": null,
            "object_position": null,
            "object_fit": null,
            "grid_auto_columns": null,
            "margin": null,
            "display": null,
            "left": null
          }
        },
        "ff8303890580485c92c05bae39d3dded": {
          "model_module": "@jupyter-widgets/controls",
          "model_name": "IntSliderModel",
          "model_module_version": "1.5.0",
          "state": {
            "_view_name": "IntSliderView",
            "style": "IPY_MODEL_eb569db96b9b4d03800f283b26244fa6",
            "_dom_classes": [],
            "description": "bianche",
            "step": 1,
            "_model_name": "IntSliderModel",
            "orientation": "horizontal",
            "max": 5,
            "_view_module": "@jupyter-widgets/controls",
            "_model_module_version": "1.5.0",
            "value": 2,
            "_view_count": null,
            "disabled": false,
            "_view_module_version": "1.5.0",
            "min": 1,
            "continuous_update": true,
            "readout_format": "d",
            "description_tooltip": null,
            "readout": true,
            "_model_module": "@jupyter-widgets/controls",
            "layout": "IPY_MODEL_b4a601b746a64092b59640bb2cf499c6"
          }
        },
        "b8ac9ef7a608471d952b9704f7aab556": {
          "model_module": "@jupyter-widgets/controls",
          "model_name": "IntSliderModel",
          "model_module_version": "1.5.0",
          "state": {
            "_view_name": "IntSliderView",
            "style": "IPY_MODEL_76f47e9dce87486e8dbc3bfc6d4f61ca",
            "_dom_classes": [],
            "description": "rosse",
            "step": 1,
            "_model_name": "IntSliderModel",
            "orientation": "horizontal",
            "max": 5,
            "_view_module": "@jupyter-widgets/controls",
            "_model_module_version": "1.5.0",
            "value": 3,
            "_view_count": null,
            "disabled": false,
            "_view_module_version": "1.5.0",
            "min": 1,
            "continuous_update": true,
            "readout_format": "d",
            "description_tooltip": null,
            "readout": true,
            "_model_module": "@jupyter-widgets/controls",
            "layout": "IPY_MODEL_f276f401c6a9451c89dbf85c0f041a68"
          }
        },
        "80c041bba5c445bb9a890d14703c9ab6": {
          "model_module": "@jupyter-widgets/controls",
          "model_name": "ButtonModel",
          "model_module_version": "1.5.0",
          "state": {
            "_view_name": "ButtonView",
            "style": "IPY_MODEL_62b1a2f21dd3430bb7ed2cbcc646f90c",
            "_dom_classes": [],
            "description": "Run Interact",
            "_model_name": "ButtonModel",
            "button_style": "",
            "_view_module": "@jupyter-widgets/controls",
            "_model_module_version": "1.5.0",
            "tooltip": "",
            "_view_count": null,
            "disabled": false,
            "_view_module_version": "1.5.0",
            "layout": "IPY_MODEL_5763ab362e2247e79225922fc943c3bf",
            "_model_module": "@jupyter-widgets/controls",
            "icon": ""
          }
        },
        "69cc476b22ab4fe4886d5c28cd29e307": {
          "model_module": "@jupyter-widgets/output",
          "model_name": "OutputModel",
          "model_module_version": "1.0.0",
          "state": {
            "_view_name": "OutputView",
            "msg_id": "",
            "_dom_classes": [],
            "_model_name": "OutputModel",
            "outputs": [
              {
                "output_type": "display_data",
                "data": {
                  "image/png": "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\n",
                  "text/plain": "<Figure size 432x288 with 1 Axes>"
                },
                "metadata": {}
              }
            ],
            "_view_module": "@jupyter-widgets/output",
            "_model_module_version": "1.0.0",
            "_view_count": null,
            "_view_module_version": "1.0.0",
            "layout": "IPY_MODEL_c5ba15930d1f497e98c52f300726a6c4",
            "_model_module": "@jupyter-widgets/output"
          }
        },
        "eb569db96b9b4d03800f283b26244fa6": {
          "model_module": "@jupyter-widgets/controls",
          "model_name": "SliderStyleModel",
          "model_module_version": "1.5.0",
          "state": {
            "_view_name": "StyleView",
            "handle_color": null,
            "_model_name": "SliderStyleModel",
            "description_width": "",
            "_view_module": "@jupyter-widgets/base",
            "_model_module_version": "1.5.0",
            "_view_count": null,
            "_view_module_version": "1.2.0",
            "_model_module": "@jupyter-widgets/controls"
          }
        },
        "b4a601b746a64092b59640bb2cf499c6": {
          "model_module": "@jupyter-widgets/base",
          "model_name": "LayoutModel",
          "model_module_version": "1.2.0",
          "state": {
            "_view_name": "LayoutView",
            "grid_template_rows": null,
            "right": null,
            "justify_content": null,
            "_view_module": "@jupyter-widgets/base",
            "overflow": null,
            "_model_module_version": "1.2.0",
            "_view_count": null,
            "flex_flow": null,
            "width": null,
            "min_width": null,
            "border": null,
            "align_items": null,
            "bottom": null,
            "_model_module": "@jupyter-widgets/base",
            "top": null,
            "grid_column": null,
            "overflow_y": null,
            "overflow_x": null,
            "grid_auto_flow": null,
            "grid_area": null,
            "grid_template_columns": null,
            "flex": null,
            "_model_name": "LayoutModel",
            "justify_items": null,
            "grid_row": null,
            "max_height": null,
            "align_content": null,
            "visibility": null,
            "align_self": null,
            "height": null,
            "min_height": null,
            "padding": null,
            "grid_auto_rows": null,
            "grid_gap": null,
            "max_width": null,
            "order": null,
            "_view_module_version": "1.2.0",
            "grid_template_areas": null,
            "object_position": null,
            "object_fit": null,
            "grid_auto_columns": null,
            "margin": null,
            "display": null,
            "left": null
          }
        },
        "76f47e9dce87486e8dbc3bfc6d4f61ca": {
          "model_module": "@jupyter-widgets/controls",
          "model_name": "SliderStyleModel",
          "model_module_version": "1.5.0",
          "state": {
            "_view_name": "StyleView",
            "handle_color": null,
            "_model_name": "SliderStyleModel",
            "description_width": "",
            "_view_module": "@jupyter-widgets/base",
            "_model_module_version": "1.5.0",
            "_view_count": null,
            "_view_module_version": "1.2.0",
            "_model_module": "@jupyter-widgets/controls"
          }
        },
        "f276f401c6a9451c89dbf85c0f041a68": {
          "model_module": "@jupyter-widgets/base",
          "model_name": "LayoutModel",
          "model_module_version": "1.2.0",
          "state": {
            "_view_name": "LayoutView",
            "grid_template_rows": null,
            "right": null,
            "justify_content": null,
            "_view_module": "@jupyter-widgets/base",
            "overflow": null,
            "_model_module_version": "1.2.0",
            "_view_count": null,
            "flex_flow": null,
            "width": null,
            "min_width": null,
            "border": null,
            "align_items": null,
            "bottom": null,
            "_model_module": "@jupyter-widgets/base",
            "top": null,
            "grid_column": null,
            "overflow_y": null,
            "overflow_x": null,
            "grid_auto_flow": null,
            "grid_area": null,
            "grid_template_columns": null,
            "flex": null,
            "_model_name": "LayoutModel",
            "justify_items": null,
            "grid_row": null,
            "max_height": null,
            "align_content": null,
            "visibility": null,
            "align_self": null,
            "height": null,
            "min_height": null,
            "padding": null,
            "grid_auto_rows": null,
            "grid_gap": null,
            "max_width": null,
            "order": null,
            "_view_module_version": "1.2.0",
            "grid_template_areas": null,
            "object_position": null,
            "object_fit": null,
            "grid_auto_columns": null,
            "margin": null,
            "display": null,
            "left": null
          }
        },
        "62b1a2f21dd3430bb7ed2cbcc646f90c": {
          "model_module": "@jupyter-widgets/controls",
          "model_name": "ButtonStyleModel",
          "model_module_version": "1.5.0",
          "state": {
            "_view_name": "StyleView",
            "_model_name": "ButtonStyleModel",
            "_view_module": "@jupyter-widgets/base",
            "_model_module_version": "1.5.0",
            "_view_count": null,
            "button_color": null,
            "font_weight": "",
            "_view_module_version": "1.2.0",
            "_model_module": "@jupyter-widgets/controls"
          }
        },
        "5763ab362e2247e79225922fc943c3bf": {
          "model_module": "@jupyter-widgets/base",
          "model_name": "LayoutModel",
          "model_module_version": "1.2.0",
          "state": {
            "_view_name": "LayoutView",
            "grid_template_rows": null,
            "right": null,
            "justify_content": null,
            "_view_module": "@jupyter-widgets/base",
            "overflow": null,
            "_model_module_version": "1.2.0",
            "_view_count": null,
            "flex_flow": null,
            "width": null,
            "min_width": null,
            "border": null,
            "align_items": null,
            "bottom": null,
            "_model_module": "@jupyter-widgets/base",
            "top": null,
            "grid_column": null,
            "overflow_y": null,
            "overflow_x": null,
            "grid_auto_flow": null,
            "grid_area": null,
            "grid_template_columns": null,
            "flex": null,
            "_model_name": "LayoutModel",
            "justify_items": null,
            "grid_row": null,
            "max_height": null,
            "align_content": null,
            "visibility": null,
            "align_self": null,
            "height": null,
            "min_height": null,
            "padding": null,
            "grid_auto_rows": null,
            "grid_gap": null,
            "max_width": null,
            "order": null,
            "_view_module_version": "1.2.0",
            "grid_template_areas": null,
            "object_position": null,
            "object_fit": null,
            "grid_auto_columns": null,
            "margin": null,
            "display": null,
            "left": null
          }
        },
        "c5ba15930d1f497e98c52f300726a6c4": {
          "model_module": "@jupyter-widgets/base",
          "model_name": "LayoutModel",
          "model_module_version": "1.2.0",
          "state": {
            "_view_name": "LayoutView",
            "grid_template_rows": null,
            "right": null,
            "justify_content": null,
            "_view_module": "@jupyter-widgets/base",
            "overflow": null,
            "_model_module_version": "1.2.0",
            "_view_count": null,
            "flex_flow": null,
            "width": null,
            "min_width": null,
            "border": null,
            "align_items": null,
            "bottom": null,
            "_model_module": "@jupyter-widgets/base",
            "top": null,
            "grid_column": null,
            "overflow_y": null,
            "overflow_x": null,
            "grid_auto_flow": null,
            "grid_area": null,
            "grid_template_columns": null,
            "flex": null,
            "_model_name": "LayoutModel",
            "justify_items": null,
            "grid_row": null,
            "max_height": null,
            "align_content": null,
            "visibility": null,
            "align_self": null,
            "height": null,
            "min_height": null,
            "padding": null,
            "grid_auto_rows": null,
            "grid_gap": null,
            "max_width": null,
            "order": null,
            "_view_module_version": "1.2.0",
            "grid_template_areas": null,
            "object_position": null,
            "object_fit": null,
            "grid_auto_columns": null,
            "margin": null,
            "display": null,
            "left": null
          }
        }
      }
    }
  },
  "cells": [
    {
      "cell_type": "markdown",
      "metadata": {
        "id": "view-in-github",
        "colab_type": "text"
      },
      "source": [
        "<a href=\"https://colab.research.google.com/github/MontiMic/Tesi/blob/riordinato/Untitled1.ipynb\" target=\"_parent\"><img src=\"https://colab.research.google.com/assets/colab-badge.svg\" alt=\"Open In Colab\"/></a>"
      ]
    },
    {
      "cell_type": "markdown",
      "source": [
        "# Introduzione\n",
        "La seguente presentazione si propone di semplificare l'apprendimento di alcuni principi del calcolo probabilistico offrendo la possibilità di vedere applicare le leggi su grandi numeri e confrontando i risultati ottenuti con quelli attesi dalla teoria."
      ],
      "metadata": {
        "id": "yyLelI9l5lbc"
      }
    },
    {
      "cell_type": "markdown",
      "source": [
        "Di seguito includiamo le librerie che verranno utilizzate nel corso della presentazione:\n",
        "\n",
        "* **numpy** per la manipolazione dei dati\n",
        "\n",
        "* **interact** per rendere la presentazione interattiva offrendo la possibilità allo studente di scegliere gli input\n",
        "\n",
        "* **pyplot** per la rappresentazione grafica dei risultati"
      ],
      "metadata": {
        "id": "35yCw13F7Yam"
      }
    },
    {
      "cell_type": "code",
      "execution_count": 33,
      "metadata": {
        "id": "TAxUPZupC-qR"
      },
      "outputs": [],
      "source": [
        "import numpy as np\n",
        "from ipywidgets import interact, interact_manual\n",
        "from matplotlib import pyplot as plt"
      ]
    },
    {
      "cell_type": "markdown",
      "source": [
        "Con la variabile \"precisione\" regoliamo il numero di volte che gli esperimenti vengono ripetuti. \n",
        "\n",
        "Un numero più alto di ripetizioni comporta un miglioramento nell'accuratezza dei risultati a discapito del tempo di esecuzione.\n",
        "\n",
        "Il valore scelto come default è 100 000 col quale otteniamo risultati apprezzabili in pochi secondi. Per risultati più precisi è possibile incrementare questa variabile ma è sconsigliabile superare il milione (valore che garantisce risultati molto precisi ma che, negli esperimenti più complessi, comporta un tempo di esecuzione che supera il minuto)."
      ],
      "metadata": {
        "id": "LqpjPIbx8a4s"
      }
    },
    {
      "cell_type": "code",
      "source": [
        "precisione = 100_000"
      ],
      "metadata": {
        "id": "m6MqT7A-7Tj3"
      },
      "execution_count": 34,
      "outputs": []
    },
    {
      "cell_type": "markdown",
      "source": [
        "#Elementi di python"
      ],
      "metadata": {
        "id": "XN5Whz1Y9fiZ"
      }
    },
    {
      "cell_type": "markdown",
      "source": [
        "Questa sezione è rivolta unicamente a chi non avesse ancora mai visto il python, allo scopo di esplicitare alcuni passaggi peculiari a python."
      ],
      "metadata": {
        "id": "yHNFMDrk9pHX"
      }
    },
    {
      "cell_type": "markdown",
      "source": [
        "La funzione np.zeros(n) restituisce un array di zeri lungo n"
      ],
      "metadata": {
        "id": "kXZd8nfHDkHj"
      }
    },
    {
      "cell_type": "code",
      "source": [
        "np.zeros(5)"
      ],
      "metadata": {
        "colab": {
          "base_uri": "https://localhost:8080/"
        },
        "id": "Pukdrzg7-ggY",
        "outputId": "b4e5bb27-dd68-4bfa-8a00-5a3df3c73a25"
      },
      "execution_count": 35,
      "outputs": [
        {
          "output_type": "execute_result",
          "data": {
            "text/plain": [
              "array([0., 0., 0., 0., 0.])"
            ]
          },
          "metadata": {},
          "execution_count": 35
        }
      ]
    },
    {
      "cell_type": "markdown",
      "source": [
        "Specificando anche il type booleano facciamo una conversione: \n",
        "\n",
        "*  Gli zeri diventano False\n",
        "\n",
        "* I valori diversi da zero diventano True"
      ],
      "metadata": {
        "id": "VyLCyWeYDvuh"
      }
    },
    {
      "cell_type": "code",
      "source": [
        "esempio = np.zeros(10, dtype=np.bool)\n",
        "print(esempio)"
      ],
      "metadata": {
        "colab": {
          "base_uri": "https://localhost:8080/"
        },
        "id": "lO-15LDEDZEP",
        "outputId": "4253ecd0-2c37-4626-b610-9c2fcf88442e"
      },
      "execution_count": 36,
      "outputs": [
        {
          "output_type": "stream",
          "name": "stdout",
          "text": [
            "[False False False False False False False False False False]\n"
          ]
        }
      ]
    },
    {
      "cell_type": "markdown",
      "source": [
        "Useremo questo tipo di struttura dati per simulare praticamente tutto, dalla roulette (True = rosso, False = nero) ad un urna di palline (quando ci basteranno 2 soli colori delle palline)"
      ],
      "metadata": {
        "id": "t-fqP7KSEIUu"
      }
    },
    {
      "cell_type": "markdown",
      "source": [
        "Questa struttura dati ci offre inol"
      ],
      "metadata": {
        "id": "YS53XnBHNuxD"
      }
    },
    {
      "cell_type": "markdown",
      "source": [
        "Per modificare un array il python ci offre uno strumento molto potente: lo slicing. Questa funzionalità permette di intervenire su un qualunque sottoinsieme dell'array se usata correttamente. A noi basta sapere che in un caso come esempio[1:5:2], stiamo intervenendo sull'array esempio, prendendo gli elementi dalla posizione 1 (inclusa) alla posizione 5 (esclusa) con passo 2:"
      ],
      "metadata": {
        "id": "OEyj-K9iEeQa"
      }
    },
    {
      "cell_type": "code",
      "source": [
        "esempio = ['a', 'b', 'c', 'd', 'e']\n",
        "esempio[1:5:2]"
      ],
      "metadata": {
        "colab": {
          "base_uri": "https://localhost:8080/"
        },
        "id": "48oF9noGF3Np",
        "outputId": "6a890b7c-4ff9-4063-84c5-6112ccca99ff"
      },
      "execution_count": 37,
      "outputs": [
        {
          "output_type": "execute_result",
          "data": {
            "text/plain": [
              "['b', 'd']"
            ]
          },
          "metadata": {},
          "execution_count": 37
        }
      ]
    },
    {
      "cell_type": "markdown",
      "source": [
        "Non specificare il primo parametro significa partire dall'elemento 0, omettere il secondo significa procedere fino all'ultimo (compreso) e non specificare il passo significa passo 1: non saltare nessun elemento."
      ],
      "metadata": {
        "id": "Rm-4oAaOGvIL"
      }
    },
    {
      "cell_type": "markdown",
      "source": [
        "La funzione range(n) restituisce un iterabile lungo n. In python è generalmente usata nel ciclo for."
      ],
      "metadata": {
        "id": "b6PzabLwIH1d"
      }
    },
    {
      "cell_type": "code",
      "source": [
        "for i in range(5):\n",
        "  print(i)"
      ],
      "metadata": {
        "colab": {
          "base_uri": "https://localhost:8080/"
        },
        "id": "fdFx5oZPIaf5",
        "outputId": "aebc10ea-9396-46e0-d789-b287e1f67247"
      },
      "execution_count": 38,
      "outputs": [
        {
          "output_type": "stream",
          "name": "stdout",
          "text": [
            "0\n",
            "1\n",
            "2\n",
            "3\n",
            "4\n"
          ]
        }
      ]
    },
    {
      "cell_type": "markdown",
      "source": [
        "#Rappresentazione dei risultati"
      ],
      "metadata": {
        "id": "z-dDljl2lV1_"
      }
    },
    {
      "cell_type": "code",
      "source": [
        "def pie(results):\n",
        "  labels = []\n",
        "  normalized = []\n",
        "  for i in range(len(set(results)) - 1): #len(set(n)) torna il numero di risultati distinti presenti in results\n",
        "    normalized.append(round(((results.count(i) / precisione) * 100), 2)) #conto le istanze dei risultati e le normalizzo\n",
        "  normalized.append(round(100 - sum(normalized), 2)) #per evitare che per errori di arrotondamento la somma dei risultati sia 99.9%, l'ultimo risultato lo calcolo come 100 - (la somma dei precedenti)\n",
        "  for i in range(len(normalized)):\n",
        "    labels.append(str(normalized[i]) + \"%\") # aggiungo le labels (i valori riportati all'esterno del grafico)\n",
        "  plt.pie(normalized, labels=labels)"
      ],
      "metadata": {
        "id": "vdGyyuzPlaDc"
      },
      "execution_count": 39,
      "outputs": []
    },
    {
      "cell_type": "code",
      "source": [
        "def norm_pie(normalized):\n",
        "  labels = []\n",
        "  for i in range(len(normalized)):\n",
        "    labels.append(str(normalized[i]) + \"%\") # aggiungo le labels (i valori riportati all'esterno del grafico)\n",
        "  plt.pie(normalized, labels=labels)"
      ],
      "metadata": {
        "id": "7K77TIqrqn3X"
      },
      "execution_count": 40,
      "outputs": []
    },
    {
      "cell_type": "code",
      "source": [
        "def bar(results):\n",
        "  elem_count = []\n",
        "  labels = []\n",
        "  for i in range(len(set(results))): #conto le istanze di ogni risultato ottenuto ed aggiungo i totali a elem_count, poi lo metto a grafico\n",
        "    elem_count.append(results.count(i+1))\n",
        "    labels.append(str(i+1))\n",
        "  plt.bar(labels, elem_count)"
      ],
      "metadata": {
        "id": "ZFa9U7A-lf-v"
      },
      "execution_count": 41,
      "outputs": []
    },
    {
      "cell_type": "markdown",
      "source": [
        "# Variabili aleatorie discrete"
      ],
      "metadata": {
        "id": "gQTrf-PK7FxE"
      }
    },
    {
      "cell_type": "markdown",
      "source": [
        "Una variabile aleatoria X si dice discreta se i valori che assume sono finiti oppure numerabili.\n",
        "\n",
        "Nel caso siano numerabili molto spesso potremo pensare che siano semplicmente i numeri interi, ma non vogliamo escludere anche casi in cui abbiamo dei valori non interi."
      ],
      "metadata": {
        "id": "f7tQYrZgLgm2"
      }
    },
    {
      "cell_type": "markdown",
      "source": [
        "##Esempio 1.1 \n",
        "Faccio 3 puntate sul rosso alla roulette puntando 10 euro per volta, qual è la probabilità di vincere più di un certo valore X?\n",
        "\n",
        "(Le vincite possibili sono valori finiti ed è quindi una variabile discreta)"
      ],
      "metadata": {
        "id": "wO2wYqZ-DSZF"
      }
    },
    {
      "cell_type": "code",
      "source": [
        "#funzione che genera una roulette simulata da un array lungo 37 di cui 18 valori contano come \"vittoria\"\n",
        "def mk_roulette():\n",
        "  ruota = np.zeros(37, dtype=np.bool)\n",
        "  ruota[1::2] = True\n",
        "  return ruota"
      ],
      "metadata": {
        "id": "4LJOZHxd810N"
      },
      "execution_count": 42,
      "outputs": []
    },
    {
      "cell_type": "code",
      "source": [
        "#simulo una singola partita alla roulette (1 o più puntate uguali) e, dato il portafogli di partenza, torno il nuovo conto\n",
        "def partita(ruota, giocate, puntata, portafogli):\n",
        "  while(giocate > 0):\n",
        "      giocate = giocate - 1\n",
        "      portafogli = portafogli - puntata #la puntata la considero sempre persa, in caso di vittoria vinco il doppio della puntata\n",
        "      if(ruota[np.random.randint(0, (37))]): #estraggo un elemento casuale della roulette e verifico se è rosso\n",
        "        portafogli = portafogli + (puntata * 2)\n",
        "  return portafogli  "
      ],
      "metadata": {
        "id": "fqGFfq_CT7Tv"
      },
      "execution_count": 43,
      "outputs": []
    },
    {
      "cell_type": "code",
      "source": [
        "@interact_manual(vincita=(0, 30))\n",
        "def roulette(vincita=5):\n",
        "  giocate = 3\n",
        "  puntata = 10\n",
        "  ruota = mk_roulette()\n",
        "  count = 0\n",
        "  for i in range(precisione):\n",
        "    portafogli = giocate * puntata\n",
        "    portafogli = partita(ruota, giocate, puntata, portafogli) #il portafogli viene aggiornato dopo aver simulato una partita\n",
        "    if((portafogli - 30) >= vincita): #se ho finito le 3 puntate con una vincita maggiore o uguale a quella sperata la aggiungo al conteggio\n",
        "      count = count + 1\n",
        "  return round(count / precisione, 3)"
      ],
      "metadata": {
        "colab": {
          "base_uri": "https://localhost:8080/",
          "height": 81,
          "referenced_widgets": [
            "8d69f28b5e684d0b8b57672e6e01eae5",
            "895cabdd84214ddd8b990378139e1f34",
            "3002b9f872bf497b8975cae2c47dd3a7",
            "eb677b4d61a8492782c4cd1f7cfa3f74",
            "3653c95ade9f4485962bd82cb4c9c5d4",
            "39bece2d6d274cac960a8a2b5549ec86",
            "a9cdf551aa3d4c29bfab95d2290334e7",
            "72a9e7ffb44f48f2b130fd3b07e62ed7",
            "a984f9b3e51b474daf3669a9b8e73b84",
            "12e186fbc8f94f4c82bd745ae43f1b87"
          ]
        },
        "id": "w2ugmhMy_cfa",
        "outputId": "fb4fe625-1f1c-4141-ba37-1d809ce2c9a9"
      },
      "execution_count": 44,
      "outputs": [
        {
          "output_type": "display_data",
          "data": {
            "application/vnd.jupyter.widget-view+json": {
              "model_id": "8d69f28b5e684d0b8b57672e6e01eae5",
              "version_minor": 0,
              "version_major": 2
            },
            "text/plain": [
              "interactive(children=(IntSlider(value=5, description='vincita', max=30), Button(description='Run Interact', st…"
            ]
          },
          "metadata": {}
        }
      ]
    },
    {
      "cell_type": "markdown",
      "source": [
        "##Esempio 1.2\n",
        "Dati il numero di puntate ed i soldi scommessi ogni volta, quanto mi dovrei aspettare di aver vinto alla fine? (risultato in euro)"
      ],
      "metadata": {
        "id": "tTOcRD2kD_zf"
      }
    },
    {
      "cell_type": "code",
      "source": [
        "@interact_manual(giocate=(1, 10), puntata=(5, 100, 5))\n",
        "def roulette(giocate = 3, puntata = 10):\n",
        "  portafogli = giocate * puntata * precisione\n",
        "  ruota = mk_roulette()\n",
        "  for i in range(precisione):\n",
        "    portafogli = partita(ruota, giocate, puntata, portafogli)\n",
        "  portafogli = portafogli / precisione\n",
        "  return round(portafogli - (giocate * puntata), 2)"
      ],
      "metadata": {
        "colab": {
          "base_uri": "https://localhost:8080/",
          "height": 113,
          "referenced_widgets": [
            "b2e043d91a9b4dca90e634ea2e50721c",
            "e065e762b2c942118b717a892d5098f4",
            "eefc524ed6ba42f68ac54616315561bf",
            "6ef1408f3a534477b8720379fad4478f",
            "9ce6c286223d412d90e764bac223ca6a",
            "73eb422d1089492c912ca576f98c49d4",
            "382cb5d17f6641549baa2363e66ff776",
            "77febadf16a04c55956f6050ebdf4e97",
            "39a58a3dca814a61b2b21216bdd14b10",
            "18888b62b7c34a518bfe3251138c1354",
            "43f6eb3781644bd485c90c68972e35be",
            "dc71ef721f674a0c82f8c5210ee67bb5",
            "c2ce6afc95704012b1f2ffd1db383b06"
          ]
        },
        "id": "TR8QkEnHD-B2",
        "outputId": "810e8f43-2250-4f6d-fe4b-fed15cde683a"
      },
      "execution_count": 45,
      "outputs": [
        {
          "output_type": "display_data",
          "data": {
            "application/vnd.jupyter.widget-view+json": {
              "model_id": "b2e043d91a9b4dca90e634ea2e50721c",
              "version_minor": 0,
              "version_major": 2
            },
            "text/plain": [
              "interactive(children=(IntSlider(value=3, description='giocate', max=10, min=1), IntSlider(value=10, descriptio…"
            ]
          },
          "metadata": {}
        }
      ]
    },
    {
      "cell_type": "markdown",
      "source": [
        "# Distribuzione uniforme e non uniforme"
      ],
      "metadata": {
        "id": "qBnKgfwaLT9x"
      }
    },
    {
      "cell_type": "markdown",
      "source": [
        "Sia A = {x1, . . . , xn}; una variabile X che assume i valori in A tutti con la stessa probabilità $\\frac{1}{n}$\n",
        "si dice _variabile uniforme_ su A. Scriviamo in questo caso X ∼ U(A) oppure X ∼ U(x1, . . . , xn).\n",
        "La densità è quindi:\n",
        "\n",
        "\\begin{equation}\n",
        "  px(h) =\n",
        "    \\begin{cases}\n",
        "           \\frac{1}{n} \\ se \\  h  \\ ∈ \\ ({x1}, {x2}, ..., {xn})\n",
        "          \\\\\n",
        "          0 \\ altrimenti\n",
        "        \\end{cases}\n",
        "\\end{equation}"
      ],
      "metadata": {
        "id": "GUQzPwZ8NK0Q"
      }
    },
    {
      "cell_type": "markdown",
      "source": [
        "##Esempio 2.1 \n",
        "Nel lancio di un dado sia Ω = {1, 2, 3, 4, 5, 6} l’insieme dei possibili risultati.\n",
        "Allora la funzione X(n) = n per ogni n ∈ Ω è una variabile aleatoria uniforme X ∼ U(1, 2, 3, 4, 5, 6).\n"
      ],
      "metadata": {
        "id": "HJrqw0EbXj2l"
      }
    },
    {
      "cell_type": "code",
      "source": [
        "#ritorna un intero compreso tra 1 e 6\n",
        "def trow():\n",
        "  return np.random.randint(1, 7)"
      ],
      "metadata": {
        "id": "O7NiHEewS99d"
      },
      "execution_count": 46,
      "outputs": []
    },
    {
      "cell_type": "code",
      "source": [
        "def dice():\n",
        "  results = []\n",
        "  for i in range(precisione):\n",
        "    results.append(trow()) #aggiungo il risultato del tiro alla lista dei risultati\n",
        "  bar(results)\n",
        "dice()"
      ],
      "metadata": {
        "colab": {
          "base_uri": "https://localhost:8080/",
          "height": 265
        },
        "id": "pO1ExmtATCeI",
        "outputId": "f4925bd5-603e-4942-fdfc-b699e170063d"
      },
      "execution_count": 47,
      "outputs": [
        {
          "output_type": "display_data",
          "data": {
            "image/png": "[encoded data removed]",
            "text/plain": [
              "<Figure size 432x288 with 1 Axes>"
            ]
          },
          "metadata": {
            "needs_background": "light"
          }
        }
      ]
    },
    {
      "cell_type": "markdown",
      "source": [
        "##Esempio 2.2\n",
        "Se invece lanciassimo due dadi, la variabile X che assume un valore corrispondente al numero di risultati pari ottenuti dal lancio sarebbe una _variabile non uniforme_ siccome la sua densità sarebbe:\n",
        "\n",
        "\\begin{equation}\n",
        "  py(h) =\n",
        "    \\begin{cases}\n",
        "          \\frac{1}{4} \\  h={0},{2}\n",
        "          \\\\\n",
        "          \\frac{1}{2} \\ h={1}\n",
        "          \\\\\n",
        "          0 \\ altrimenti\n",
        "        \\end{cases}\n",
        "\\end{equation}"
      ],
      "metadata": {
        "id": "BZUNA1OvaQp6"
      }
    },
    {
      "cell_type": "code",
      "source": [
        "def even_dices():\n",
        "  results = []\n",
        "  for i in range(precisione):\n",
        "    a, b = trow(), trow() #lancio due dadi, poi conterò quanti sono pari per aggiungere il risultato alla lista\n",
        "    results.append(2-((a % 2)+(b % 2))) #conto i dadi pari come due meno i dadi dispari (n%2 = 1 per n dispari, 0 altrimenti)\n",
        "  valori = []\n",
        "  normalized = []\n",
        "  for i in range(3): #conto le istanze dei risultati e le divido per il numero di risultati totale (normalizzo)\n",
        "    normalized.append(results.count(i) / len(results)) #len(results) torna la lunghezza della lista results\n",
        "    valori.append(\"k=\" + str(i))\n",
        "  plt.pie(normalized, labels=valori)\n",
        "even_dices()"
      ],
      "metadata": {
        "colab": {
          "base_uri": "https://localhost:8080/",
          "height": 248
        },
        "id": "Ly_UKZkxZr2J",
        "outputId": "84c3d345-f8d5-4397-c34a-ed6858b2fd15"
      },
      "execution_count": 48,
      "outputs": [
        {
          "output_type": "display_data",
          "data": {
            "image/png": "[encoded data removed]",
            "text/plain": [
              "<Figure size 432x288 with 1 Axes>"
            ]
          },
          "metadata": {}
        }
      ]
    },
    {
      "cell_type": "markdown",
      "source": [
        "#Densità binomiale"
      ],
      "metadata": {
        "id": "qimeQspadWgq"
      }
    },
    {
      "cell_type": "markdown",
      "source": [
        "Consideriamo un fenomeno aleatorio e un certo evento ad esso associato. Per semplicità diciamo che se l’evento si realizza otteniamo un “successo”, viceversa che abbiamo ottenuto un “insuccesso\".\n",
        "Uno schema successo-insuccesso consiste nel ripetere questo fenomeno un certo fissato numero di volte, dette anche prove o tentativi, in cui siamo interessati unicamente al numero di successi ottenuti\n",
        "nelle varie prove.\n",
        "Supponiamo ora che le prove siano indipendenti l’una dall’altra, cioè vengono effettuate tuttevnelle medesime condizioni, indipendentemente dal risultato delle prove precedenti: parliamo in questo caso di schema successo-insuccesso con ripetizione o a prove indipendenti. Consideriamo\n",
        "quindi la variabile X data dal numero di successi in n tentativi.\n",
        "Nel caso in cui le prove siano indipendenti l’una dall’altra, la probabilità di ottenere una certa prefissata sequenza di successi e insuccessi dipende solo dal numero di questi ultimi e non dall’ordine con cui vogliamo che si succedano. La probabilità di ottenere una sequenza fissata in cui abbiamo k successi e n − k insuccessi è data da\n",
        "$p^k(1-p)^{n-k}$, dove p è la probabilità che ogni singolo tentativo abbia successo. Siccome i modi in cui possiamo scegliere le k posizioni per i successi sono date da ${n\\choose k}$ otteniamo per la variabile X la densità data da\n",
        "\n",
        "\\begin{equation}\n",
        "  px(k) =\n",
        "    \\begin{cases}\n",
        "          {n\\choose k} p^k(1-p)^{n-k} \\ se \\ k=1,2,...,n\n",
        "          \\\\\n",
        "          0 \\ altrimenti\n",
        "        \\end{cases}\n",
        "\\end{equation}\n",
        "\n",
        "\n",
        "Scriveremo in questo caso X ∼ B(n, p) e diciamo che X è una variabile binomiale."
      ],
      "metadata": {
        "id": "OUh7jiOk7WSD"
      }
    },
    {
      "cell_type": "markdown",
      "source": [
        "##Esempio 3.1\n",
        "\n",
        "Supponiamo di andare al casinò con 15 Euro e puntiamo 3 volte 5 Euro alla roulette sul rosso. Consideriamo la variabile aleatoria X data dai soldi che abbiamo in tasca alla fine delle 3 puntate. La probabilità di ottenere un numero rosso è di $\\frac{18}{37}$ ad ogni tentativo.\n",
        "Determinare la densità di X.\n",
        "La variabile X può assumere i valori 30, 20, 10, 0 a seconda di quanti rossi sono usciti. Abbiamo:\n",
        "\n",
        "P(X = 30) = $(\\frac{18}{37})^3$ = 0,115\n",
        "\n",
        "P(X = 20) = ${3\\choose 1}(\\frac{18}{37})^2 · \\frac{19}{37}$= 0, 365\n",
        "\n",
        "P(X = 10) = ${3\\choose 2}(\\frac{18}{37}) · (\\frac{19}{37})^2$ = 0,385\n",
        "\n",
        "P(X = 0) = $(\\frac{19}{37})^3$ = 0,135\n"
      ],
      "metadata": {
        "id": "O8PjzahWhrRr"
      }
    },
    {
      "cell_type": "code",
      "source": [
        "@interact_manual(giocate=(1, 6), puntata=(5, 100, 5))\n",
        "def roulette(giocate = 3, puntata = 5):\n",
        "  ruota = mk_roulette()\n",
        "  results = []\n",
        "  for i in range(precisione):\n",
        "    portafogli = giocate * puntata\n",
        "    portafogli = partita(ruota, giocate, puntata, portafogli)\n",
        "    results.append(portafogli)\n",
        "  normalized = []\n",
        "  valori = []\n",
        "  for i in range(giocate):\n",
        "    normalized.append(round(((results.count(puntata*2*i) / precisione) * 100), 2)) #conto le istanze dei risultati e le normalizzo\n",
        "  normalized.append(round(100 - sum(normalized), 2)) #per evitare che per errori di arrotondamento la somma dei risultati sia 99.9%, l'ultimo risultato lo calcolo come 100 - (la somma dei precedenti)\n",
        "  norm_pie(normalized)\n",
        "  legenda = []\n",
        "  for i in range(len(normalized)):\n",
        "    legenda.append(str(puntata*2*i))\n",
        "  plt.legend(legenda,loc='upper center', bbox_to_anchor=(0.5, -0.05), fancybox=True, shadow=True, ncol=5)"
      ],
      "metadata": {
        "id": "QDB96jXivO40",
        "outputId": "1940de97-cb31-4d2f-cfd4-6935055502df",
        "colab": {
          "base_uri": "https://localhost:8080/",
          "height": 378,
          "referenced_widgets": [
            "e406a79f24184f4a942998a5d5674f05",
            "557cdbb031a14ff7ab4ca061b1cd4a34",
            "0be5a8350d4548d0baa182a4b0cb5d44",
            "d0d0d23dcb1e4ecb9e46b6051fd87299",
            "070b4eff45ee42ce9afe0d39cc63d3e1",
            "3b5a517a50ed4b6f96cc8b97075fb147",
            "890538a4056d417baea36b737961c787",
            "287df417c74f4b1b9fc0cd9be9a5e60e",
            "bee65555ac5e4af8bab3a151bd8d6f9c",
            "bce3e965a147451cb7755ed17c80edde",
            "5669d83a5e834a239cf2e5dda2b2ec38",
            "28d323c138454c45b0ce7cdb9e5f3ee6",
            "2a1acfb993494ac5b6de61b155dfa646"
          ]
        }
      },
      "execution_count": 49,
      "outputs": [
        {
          "output_type": "display_data",
          "data": {
            "application/vnd.jupyter.widget-view+json": {
              "model_id": "e406a79f24184f4a942998a5d5674f05",
              "version_minor": 0,
              "version_major": 2
            },
            "text/plain": [
              "interactive(children=(IntSlider(value=3, description='giocate', max=6, min=1), IntSlider(value=5, description=…"
            ]
          },
          "metadata": {}
        }
      ]
    },
    {
      "cell_type": "markdown",
      "source": [
        "# Densità ipergeometrica"
      ],
      "metadata": {
        "id": "9PjQr8MmCUYu"
      }
    },
    {
      "cell_type": "markdown",
      "source": [
        "\n",
        "Un altro tipo di schema successo-insuccesso è il cosiddetto schema successo-insuccesso _senza ripetizione_. In questo caso il fenomeno aleatorio consiste nell’estrazione di n palline, senza rimpiazzare di volta in volta la pallina estratta, da un'urna contenente b palline bianche e r palline rosse.\n",
        "Diciamo che la prova (estrazione) dà successo se viene estratta una pallina bianca e consideriamo la variabile X data dal numero di successi ottenuti, cioè dal numero di palline bianche estratte.\n",
        "\n",
        "\n",
        "Osserviamo che X può assumere tutti i valori tra max(0, n − r) e min(n, b): infatti se n > r siamo sicuri di pescare almeno n−r palline bianche e chiaramente il numero di bianche estratte non può superare nè il numero estrazioni nè il numero di palline bianche.\n",
        "\n",
        "Lo spazio Ω è dato da tutti i possibili sottoinsiemi di n oggetti (le palline estratte) scelti da un insieme di b + r oggetti (le palline\n",
        "disponibili), con probabilità uniforme. L’evento “X = k” è dato quindi da tutti i sottoinsiemi delle b + r palline costituiti da k palline bianche e n − k palline rosse. Le k bianche le posso scegliere in ${b\\choose k}$ modi. Le n − k rosse in ${r \\choose {n - k}}$ modi. Abbiamo quindi che la densità di X è data da\n",
        "\n",
        "\\begin{equation}\n",
        "  px(k) =\n",
        "    \\begin{cases}\n",
        "          \\frac{{b \\choose k} · {r \\choose n - k}}{b + r \\choose n} \\ se \\ k=max(0, n-r),...,min(n,b)\n",
        "          \\\\\n",
        "          0 \\ altrimenti\n",
        "        \\end{cases}\n",
        "\\end{equation}\n",
        "\n",
        "Scriviamo in questo caso X ∼ H(n; b, r) e diciamo che X è una variabile ipergeometrica."
      ],
      "metadata": {
        "id": "OnLdbdQjCbyl"
      }
    },
    {
      "cell_type": "markdown",
      "source": [
        "##Esempio 4.1\n",
        "Un’urna contiene 8 palline bianche e 2 rosse. Ne estraiamo 3 senza rimpiazzo.\n",
        "Qual è la probabilità di estrarne al più una rossa? In questo caso, a differenza del precedente abbiamo che la variabile X = numero di rosse estratte è una ipergeometrica X ∼ H(3; 2, 8) per\n",
        "cui\n",
        "\n",
        "P(X ≤ 1) = P(X = 0) + P(X = 1) = $\\frac{{2 \\choose 0}·{8 \\choose 3}}{10 \\choose 3}$ + $\\frac{{2 \\choose 1}·{8 \\choose 2}}{10 \\choose 3}$ = $\\frac{14}{15}$ = 0.933"
      ],
      "metadata": {
        "id": "mqqc2UiZGaIY"
      }
    },
    {
      "cell_type": "code",
      "source": [
        "#funzione che ritorna un'urna contenente \n",
        "def mk_urna(bianche, rosse):\n",
        "  tot = bianche + rosse\n",
        "  urna = np.zeros((tot, 1), dtype=np.bool)\n",
        "  while(rosse > 0):\n",
        "    rnd = np.random.randint(0, (tot))\n",
        "    if (not urna[rnd]):\n",
        "      urna[rnd] = True\n",
        "      rosse = rosse - 1\n",
        "  return urna"
      ],
      "metadata": {
        "id": "R06bqIr8Ii4G"
      },
      "execution_count": 50,
      "outputs": []
    },
    {
      "cell_type": "code",
      "source": [
        "@interact_manual(estrazioni=(1, 10))\n",
        "def prova(estrazioni=3):\n",
        "  bianche = 8\n",
        "  rosse = 2\n",
        "  urna = mk_urna(bianche, rosse)\n",
        "  results = 0\n",
        "  for i in range(precisione):\n",
        "    tmp = urna\n",
        "    count = 0\n",
        "    for i in range(estrazioni):\n",
        "      extr = np.random.randint(0, ((bianche + rosse)-i))\n",
        "      if(tmp[extr]):\n",
        "        count = count + 1\n",
        "      tmp = np.delete(tmp, extr)\n",
        "    if(count < 2):\n",
        "      results = results + 1  \n",
        "  return results / precisione"
      ],
      "metadata": {
        "id": "R0SjK_tkMtDv",
        "colab": {
          "base_uri": "https://localhost:8080/",
          "height": 81,
          "referenced_widgets": [
            "cd7535b76a55496db84c3f3638c0612a",
            "2d9aec1574824cc093d50c655d8015eb",
            "62d0c1afafc04b41a3b33aaecb3066aa",
            "3de624c280a249269f5be62ebd829d12",
            "8fb79486ad5340fbbbf3ffb3eaa457ed",
            "771685e482f94855a401b1d6005d91ff",
            "e21159ba9ea14621bed0b9e37dc0f9bd",
            "966e03c4224b4a8aaa1925462b7079ae",
            "77ecc8ee6ec946f9b8e26261aa5a5a6a",
            "5fc8e9a4114c4c27ac0c6861981763b7"
          ]
        },
        "outputId": "73807708-ead7-49d2-a5f1-e1d3494b1394"
      },
      "execution_count": 51,
      "outputs": [
        {
          "output_type": "display_data",
          "data": {
            "application/vnd.jupyter.widget-view+json": {
              "model_id": "cd7535b76a55496db84c3f3638c0612a",
              "version_minor": 0,
              "version_major": 2
            },
            "text/plain": [
              "interactive(children=(IntSlider(value=3, description='estrazioni', max=10, min=1), Button(description='Run Int…"
            ]
          },
          "metadata": {}
        }
      ]
    },
    {
      "cell_type": "markdown",
      "source": [
        "#Densità geometrica"
      ],
      "metadata": {
        "id": "-GtoecXjUH1e"
      }
    },
    {
      "cell_type": "markdown",
      "source": [
        "In uno schema successo-insuccesso, anzichè al numero di successi ottenuti su n tentativi, potremmo essere interessati al numero di tentativi che devo effettuare prima di ottenere un successo."
      ],
      "metadata": {
        "id": "YBirGuNoUKbB"
      }
    },
    {
      "cell_type": "markdown",
      "source": [
        "##Esempio 5.1\n",
        "\n",
        "Consideriamo un’urna con 2 palline bianche e 3 rosse. Le estraggo senza\n",
        "rimpiazzo finchè non trovo una pallina rossa. Considero la variabile aleatoria X=numero di estrazioni per trovare una pallina rossa. X è una variabile finita in quanto assume solo i valori 1, 2, 3.\n",
        "La sua densità si determina facilmente ed è data da\n",
        "\n",
        "\\begin{equation}\n",
        "  px(k) =\n",
        "    \\begin{cases}\n",
        "          \\frac{6}{10} \\ se \\ k=1\n",
        "          \\\\\n",
        "          \\frac{3}{10} \\ se \\ k=2\n",
        "          \\\\\n",
        "          \\frac{1}{10} \\ se \\ k=3\n",
        "          \\\\\n",
        "          0 \\ altrimenti\n",
        "        \\end{cases}\n",
        "\\end{equation}\n",
        "\n"
      ],
      "metadata": {
        "id": "aXX1PJQLUX9Z"
      }
    },
    {
      "cell_type": "code",
      "source": [
        "@interact_manual(bianche=(1,5), rosse=(1, 5))\n",
        "def prova(bianche=2, rosse=3):\n",
        "  palle = mk_urna(bianche, rosse)\n",
        "  results = []\n",
        "  count=0\n",
        "  while(len(results) < precisione):\n",
        "    done = len(results)\n",
        "    tmp = palle\n",
        "    while(len(results) == done):\n",
        "      extr = np.random.randint(0, ((bianche+rosse)-count))\n",
        "      if(tmp[extr]):\n",
        "        results.append(count)\n",
        "        count=0\n",
        "      else:  \n",
        "        tmp = np.delete(tmp,extr)\n",
        "        count = count + 1\n",
        "  pie(results)\n",
        "  legenda = []\n",
        "  for i in range(bianche + 1):\n",
        "    legenda.append(\"k=\"+str(i+1))\n",
        "  plt.legend(legenda,loc='upper center', bbox_to_anchor=(0.5, -0.05), fancybox=True, shadow=True, ncol=5)"
      ],
      "metadata": {
        "colab": {
          "base_uri": "https://localhost:8080/",
          "height": 378,
          "referenced_widgets": [
            "965dc22a08ba4aebaaf138ecd0568ea4",
            "46730afe9aec417c9c84c820410e4a81",
            "ff8303890580485c92c05bae39d3dded",
            "b8ac9ef7a608471d952b9704f7aab556",
            "80c041bba5c445bb9a890d14703c9ab6",
            "69cc476b22ab4fe4886d5c28cd29e307",
            "eb569db96b9b4d03800f283b26244fa6",
            "b4a601b746a64092b59640bb2cf499c6",
            "76f47e9dce87486e8dbc3bfc6d4f61ca",
            "f276f401c6a9451c89dbf85c0f041a68",
            "62b1a2f21dd3430bb7ed2cbcc646f90c",
            "5763ab362e2247e79225922fc943c3bf",
            "c5ba15930d1f497e98c52f300726a6c4"
          ]
        },
        "id": "5tLgoNi7f2YM",
        "outputId": "bfe8869d-1a62-45c5-d6e6-a6ce72083c5f"
      },
      "execution_count": 52,
      "outputs": [
        {
          "output_type": "display_data",
          "data": {
            "application/vnd.jupyter.widget-view+json": {
              "model_id": "965dc22a08ba4aebaaf138ecd0568ea4",
              "version_minor": 0,
              "version_major": 2
            },
            "text/plain": [
              "interactive(children=(IntSlider(value=2, description='bianche', max=5, min=1), IntSlider(value=3, description=…"
            ]
          },
          "metadata": {}
        }
      ]
    },
    {
      "cell_type": "code",
      "source": [
        ""
      ],
      "metadata": {
        "id": "brXrWGO0hwig"
      },
      "execution_count": null,
      "outputs": []
    }
  ]
}