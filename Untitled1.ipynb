{
  "nbformat": 4,
  "nbformat_minor": 0,
  "metadata": {
    "colab": {
      "name": "Untitled1.ipynb",
      "provenance": [],
      "toc_visible": true,
      "collapsed_sections": [],
      "authorship_tag": "ABX9TyPWGkDGR3XT121Pwy0VBXUQ",
      "include_colab_link": true
    },
    "kernelspec": {
      "name": "python3",
      "display_name": "Python 3"
    },
    "language_info": {
      "name": "python"
    },
    "widgets": {
      "application/vnd.jupyter.widget-state+json": {
        "642a1c28e058417d9d97653fe402de06": {
          "model_module": "@jupyter-widgets/controls",
          "model_name": "VBoxModel",
          "model_module_version": "1.5.0",
          "state": {
            "_view_name": "VBoxView",
            "_dom_classes": [
              "widget-interact"
            ],
            "_model_name": "VBoxModel",
            "_view_module": "@jupyter-widgets/controls",
            "_model_module_version": "1.5.0",
            "_view_count": null,
            "_view_module_version": "1.5.0",
            "box_style": "",
            "layout": "IPY_MODEL_5cb94f50f0b94ea79f10b909657d758a",
            "_model_module": "@jupyter-widgets/controls",
            "children": [
              "IPY_MODEL_65274582808448a9b48dbe17ef03d47a",
              "IPY_MODEL_0fb0e29ee4fc492c8590b0fe4063c1f6",
              "IPY_MODEL_274d4a59422a41bc81de602579898653"
            ]
          }
        },
        "5cb94f50f0b94ea79f10b909657d758a": {
          "model_module": "@jupyter-widgets/base",
          "model_name": "LayoutModel",
          "model_module_version": "1.2.0",
          "state": {
            "_view_name": "LayoutView",
            "grid_template_rows": null,
            "right": null,
            "justify_content": null,
            "_view_module": "@jupyter-widgets/base",
            "overflow": null,
            "_model_module_version": "1.2.0",
            "_view_count": null,
            "flex_flow": null,
            "width": null,
            "min_width": null,
            "border": null,
            "align_items": null,
            "bottom": null,
            "_model_module": "@jupyter-widgets/base",
            "top": null,
            "grid_column": null,
            "overflow_y": null,
            "overflow_x": null,
            "grid_auto_flow": null,
            "grid_area": null,
            "grid_template_columns": null,
            "flex": null,
            "_model_name": "LayoutModel",
            "justify_items": null,
            "grid_row": null,
            "max_height": null,
            "align_content": null,
            "visibility": null,
            "align_self": null,
            "height": null,
            "min_height": null,
            "padding": null,
            "grid_auto_rows": null,
            "grid_gap": null,
            "max_width": null,
            "order": null,
            "_view_module_version": "1.2.0",
            "grid_template_areas": null,
            "object_position": null,
            "object_fit": null,
            "grid_auto_columns": null,
            "margin": null,
            "display": null,
            "left": null
          }
        },
        "65274582808448a9b48dbe17ef03d47a": {
          "model_module": "@jupyter-widgets/controls",
          "model_name": "IntSliderModel",
          "model_module_version": "1.5.0",
          "state": {
            "_view_name": "IntSliderView",
            "style": "IPY_MODEL_deb23917f4ba4699a9f59959e5393997",
            "_dom_classes": [],
            "description": "vincita",
            "step": 1,
            "_model_name": "IntSliderModel",
            "orientation": "horizontal",
            "max": 30,
            "_view_module": "@jupyter-widgets/controls",
            "_model_module_version": "1.5.0",
            "value": 0,
            "_view_count": null,
            "disabled": false,
            "_view_module_version": "1.5.0",
            "min": 0,
            "continuous_update": true,
            "readout_format": "d",
            "description_tooltip": null,
            "readout": true,
            "_model_module": "@jupyter-widgets/controls",
            "layout": "IPY_MODEL_76fc7190e8dc46a6b0ac2de7b59a67ca"
          }
        },
        "0fb0e29ee4fc492c8590b0fe4063c1f6": {
          "model_module": "@jupyter-widgets/controls",
          "model_name": "ButtonModel",
          "model_module_version": "1.5.0",
          "state": {
            "_view_name": "ButtonView",
            "style": "IPY_MODEL_ececae0a6c514e2a837601a8d61d8784",
            "_dom_classes": [],
            "description": "Run Interact",
            "_model_name": "ButtonModel",
            "button_style": "",
            "_view_module": "@jupyter-widgets/controls",
            "_model_module_version": "1.5.0",
            "tooltip": "",
            "_view_count": null,
            "disabled": false,
            "_view_module_version": "1.5.0",
            "layout": "IPY_MODEL_077ae70f34cb46698f5f72063e1d5ce1",
            "_model_module": "@jupyter-widgets/controls",
            "icon": ""
          }
        },
        "274d4a59422a41bc81de602579898653": {
          "model_module": "@jupyter-widgets/output",
          "model_name": "OutputModel",
          "model_module_version": "1.0.0",
          "state": {
            "_view_name": "OutputView",
            "msg_id": "",
            "_dom_classes": [],
            "_model_name": "OutputModel",
            "outputs": [
              {
                "output_type": "display_data",
                "data": {
                  "text/plain": "47.856"
                },
                "metadata": {}
              }
            ],
            "_view_module": "@jupyter-widgets/output",
            "_model_module_version": "1.0.0",
            "_view_count": null,
            "_view_module_version": "1.0.0",
            "layout": "IPY_MODEL_f923c679742e4704b70e30c47dc28b50",
            "_model_module": "@jupyter-widgets/output"
          }
        },
        "deb23917f4ba4699a9f59959e5393997": {
          "model_module": "@jupyter-widgets/controls",
          "model_name": "SliderStyleModel",
          "model_module_version": "1.5.0",
          "state": {
            "_view_name": "StyleView",
            "handle_color": null,
            "_model_name": "SliderStyleModel",
            "description_width": "",
            "_view_module": "@jupyter-widgets/base",
            "_model_module_version": "1.5.0",
            "_view_count": null,
            "_view_module_version": "1.2.0",
            "_model_module": "@jupyter-widgets/controls"
          }
        },
        "76fc7190e8dc46a6b0ac2de7b59a67ca": {
          "model_module": "@jupyter-widgets/base",
          "model_name": "LayoutModel",
          "model_module_version": "1.2.0",
          "state": {
            "_view_name": "LayoutView",
            "grid_template_rows": null,
            "right": null,
            "justify_content": null,
            "_view_module": "@jupyter-widgets/base",
            "overflow": null,
            "_model_module_version": "1.2.0",
            "_view_count": null,
            "flex_flow": null,
            "width": null,
            "min_width": null,
            "border": null,
            "align_items": null,
            "bottom": null,
            "_model_module": "@jupyter-widgets/base",
            "top": null,
            "grid_column": null,
            "overflow_y": null,
            "overflow_x": null,
            "grid_auto_flow": null,
            "grid_area": null,
            "grid_template_columns": null,
            "flex": null,
            "_model_name": "LayoutModel",
            "justify_items": null,
            "grid_row": null,
            "max_height": null,
            "align_content": null,
            "visibility": null,
            "align_self": null,
            "height": null,
            "min_height": null,
            "padding": null,
            "grid_auto_rows": null,
            "grid_gap": null,
            "max_width": null,
            "order": null,
            "_view_module_version": "1.2.0",
            "grid_template_areas": null,
            "object_position": null,
            "object_fit": null,
            "grid_auto_columns": null,
            "margin": null,
            "display": null,
            "left": null
          }
        },
        "ececae0a6c514e2a837601a8d61d8784": {
          "model_module": "@jupyter-widgets/controls",
          "model_name": "ButtonStyleModel",
          "model_module_version": "1.5.0",
          "state": {
            "_view_name": "StyleView",
            "_model_name": "ButtonStyleModel",
            "_view_module": "@jupyter-widgets/base",
            "_model_module_version": "1.5.0",
            "_view_count": null,
            "button_color": null,
            "font_weight": "",
            "_view_module_version": "1.2.0",
            "_model_module": "@jupyter-widgets/controls"
          }
        },
        "077ae70f34cb46698f5f72063e1d5ce1": {
          "model_module": "@jupyter-widgets/base",
          "model_name": "LayoutModel",
          "model_module_version": "1.2.0",
          "state": {
            "_view_name": "LayoutView",
            "grid_template_rows": null,
            "right": null,
            "justify_content": null,
            "_view_module": "@jupyter-widgets/base",
            "overflow": null,
            "_model_module_version": "1.2.0",
            "_view_count": null,
            "flex_flow": null,
            "width": null,
            "min_width": null,
            "border": null,
            "align_items": null,
            "bottom": null,
            "_model_module": "@jupyter-widgets/base",
            "top": null,
            "grid_column": null,
            "overflow_y": null,
            "overflow_x": null,
            "grid_auto_flow": null,
            "grid_area": null,
            "grid_template_columns": null,
            "flex": null,
            "_model_name": "LayoutModel",
            "justify_items": null,
            "grid_row": null,
            "max_height": null,
            "align_content": null,
            "visibility": null,
            "align_self": null,
            "height": null,
            "min_height": null,
            "padding": null,
            "grid_auto_rows": null,
            "grid_gap": null,
            "max_width": null,
            "order": null,
            "_view_module_version": "1.2.0",
            "grid_template_areas": null,
            "object_position": null,
            "object_fit": null,
            "grid_auto_columns": null,
            "margin": null,
            "display": null,
            "left": null
          }
        },
        "f923c679742e4704b70e30c47dc28b50": {
          "model_module": "@jupyter-widgets/base",
          "model_name": "LayoutModel",
          "model_module_version": "1.2.0",
          "state": {
            "_view_name": "LayoutView",
            "grid_template_rows": null,
            "right": null,
            "justify_content": null,
            "_view_module": "@jupyter-widgets/base",
            "overflow": null,
            "_model_module_version": "1.2.0",
            "_view_count": null,
            "flex_flow": null,
            "width": null,
            "min_width": null,
            "border": null,
            "align_items": null,
            "bottom": null,
            "_model_module": "@jupyter-widgets/base",
            "top": null,
            "grid_column": null,
            "overflow_y": null,
            "overflow_x": null,
            "grid_auto_flow": null,
            "grid_area": null,
            "grid_template_columns": null,
            "flex": null,
            "_model_name": "LayoutModel",
            "justify_items": null,
            "grid_row": null,
            "max_height": null,
            "align_content": null,
            "visibility": null,
            "align_self": null,
            "height": null,
            "min_height": null,
            "padding": null,
            "grid_auto_rows": null,
            "grid_gap": null,
            "max_width": null,
            "order": null,
            "_view_module_version": "1.2.0",
            "grid_template_areas": null,
            "object_position": null,
            "object_fit": null,
            "grid_auto_columns": null,
            "margin": null,
            "display": null,
            "left": null
          }
        },
        "ceb63e8e897d417189d1e54902b7cbc7": {
          "model_module": "@jupyter-widgets/controls",
          "model_name": "VBoxModel",
          "model_module_version": "1.5.0",
          "state": {
            "_view_name": "VBoxView",
            "_dom_classes": [
              "widget-interact"
            ],
            "_model_name": "VBoxModel",
            "_view_module": "@jupyter-widgets/controls",
            "_model_module_version": "1.5.0",
            "_view_count": null,
            "_view_module_version": "1.5.0",
            "box_style": "",
            "layout": "IPY_MODEL_d6d3b2b526f3467cbef560055bd2a689",
            "_model_module": "@jupyter-widgets/controls",
            "children": [
              "IPY_MODEL_eb61ac4af2a84dc98d7655c463c3ca9f",
              "IPY_MODEL_9e66f5c9411e45f0aa1447bf5bfc7c86",
              "IPY_MODEL_e5a1720b31694f8bb1c85f6d4914d3d7",
              "IPY_MODEL_7d856b93a00b4d3c99e622b4a174aa2d"
            ]
          }
        },
        "d6d3b2b526f3467cbef560055bd2a689": {
          "model_module": "@jupyter-widgets/base",
          "model_name": "LayoutModel",
          "model_module_version": "1.2.0",
          "state": {
            "_view_name": "LayoutView",
            "grid_template_rows": null,
            "right": null,
            "justify_content": null,
            "_view_module": "@jupyter-widgets/base",
            "overflow": null,
            "_model_module_version": "1.2.0",
            "_view_count": null,
            "flex_flow": null,
            "width": null,
            "min_width": null,
            "border": null,
            "align_items": null,
            "bottom": null,
            "_model_module": "@jupyter-widgets/base",
            "top": null,
            "grid_column": null,
            "overflow_y": null,
            "overflow_x": null,
            "grid_auto_flow": null,
            "grid_area": null,
            "grid_template_columns": null,
            "flex": null,
            "_model_name": "LayoutModel",
            "justify_items": null,
            "grid_row": null,
            "max_height": null,
            "align_content": null,
            "visibility": null,
            "align_self": null,
            "height": null,
            "min_height": null,
            "padding": null,
            "grid_auto_rows": null,
            "grid_gap": null,
            "max_width": null,
            "order": null,
            "_view_module_version": "1.2.0",
            "grid_template_areas": null,
            "object_position": null,
            "object_fit": null,
            "grid_auto_columns": null,
            "margin": null,
            "display": null,
            "left": null
          }
        },
        "eb61ac4af2a84dc98d7655c463c3ca9f": {
          "model_module": "@jupyter-widgets/controls",
          "model_name": "IntSliderModel",
          "model_module_version": "1.5.0",
          "state": {
            "_view_name": "IntSliderView",
            "style": "IPY_MODEL_3a556d509713472b90644a9989c1ab9c",
            "_dom_classes": [],
            "description": "giocate",
            "step": 1,
            "_model_name": "IntSliderModel",
            "orientation": "horizontal",
            "max": 10,
            "_view_module": "@jupyter-widgets/controls",
            "_model_module_version": "1.5.0",
            "value": 3,
            "_view_count": null,
            "disabled": false,
            "_view_module_version": "1.5.0",
            "min": 1,
            "continuous_update": true,
            "readout_format": "d",
            "description_tooltip": null,
            "readout": true,
            "_model_module": "@jupyter-widgets/controls",
            "layout": "IPY_MODEL_58114b63625c442885b670c8e2ae0c29"
          }
        },
        "9e66f5c9411e45f0aa1447bf5bfc7c86": {
          "model_module": "@jupyter-widgets/controls",
          "model_name": "IntSliderModel",
          "model_module_version": "1.5.0",
          "state": {
            "_view_name": "IntSliderView",
            "style": "IPY_MODEL_d1badff2876149d98eaf647c64ca622b",
            "_dom_classes": [],
            "description": "puntata",
            "step": 5,
            "_model_name": "IntSliderModel",
            "orientation": "horizontal",
            "max": 100,
            "_view_module": "@jupyter-widgets/controls",
            "_model_module_version": "1.5.0",
            "value": 10,
            "_view_count": null,
            "disabled": false,
            "_view_module_version": "1.5.0",
            "min": 5,
            "continuous_update": true,
            "readout_format": "d",
            "description_tooltip": null,
            "readout": true,
            "_model_module": "@jupyter-widgets/controls",
            "layout": "IPY_MODEL_85de916f48e444bfbc69c158d4d0d9a7"
          }
        },
        "e5a1720b31694f8bb1c85f6d4914d3d7": {
          "model_module": "@jupyter-widgets/controls",
          "model_name": "ButtonModel",
          "model_module_version": "1.5.0",
          "state": {
            "_view_name": "ButtonView",
            "style": "IPY_MODEL_d1d5e446991642ac8db9589e6f555224",
            "_dom_classes": [],
            "description": "Run Interact",
            "_model_name": "ButtonModel",
            "button_style": "",
            "_view_module": "@jupyter-widgets/controls",
            "_model_module_version": "1.5.0",
            "tooltip": "",
            "_view_count": null,
            "disabled": false,
            "_view_module_version": "1.5.0",
            "layout": "IPY_MODEL_e70a7c7242a9479da74f40158797c352",
            "_model_module": "@jupyter-widgets/controls",
            "icon": ""
          }
        },
        "7d856b93a00b4d3c99e622b4a174aa2d": {
          "model_module": "@jupyter-widgets/output",
          "model_name": "OutputModel",
          "model_module_version": "1.0.0",
          "state": {
            "_view_name": "OutputView",
            "msg_id": "",
            "_dom_classes": [],
            "_model_name": "OutputModel",
            "outputs": [
              {
                "output_type": "display_data",
                "data": {
                  "text/plain": "-0.88"
                },
                "metadata": {}
              }
            ],
            "_view_module": "@jupyter-widgets/output",
            "_model_module_version": "1.0.0",
            "_view_count": null,
            "_view_module_version": "1.0.0",
            "layout": "IPY_MODEL_67bfc6ddd2a04796871c95cdced7c225",
            "_model_module": "@jupyter-widgets/output"
          }
        },
        "3a556d509713472b90644a9989c1ab9c": {
          "model_module": "@jupyter-widgets/controls",
          "model_name": "SliderStyleModel",
          "model_module_version": "1.5.0",
          "state": {
            "_view_name": "StyleView",
            "handle_color": null,
            "_model_name": "SliderStyleModel",
            "description_width": "",
            "_view_module": "@jupyter-widgets/base",
            "_model_module_version": "1.5.0",
            "_view_count": null,
            "_view_module_version": "1.2.0",
            "_model_module": "@jupyter-widgets/controls"
          }
        },
        "58114b63625c442885b670c8e2ae0c29": {
          "model_module": "@jupyter-widgets/base",
          "model_name": "LayoutModel",
          "model_module_version": "1.2.0",
          "state": {
            "_view_name": "LayoutView",
            "grid_template_rows": null,
            "right": null,
            "justify_content": null,
            "_view_module": "@jupyter-widgets/base",
            "overflow": null,
            "_model_module_version": "1.2.0",
            "_view_count": null,
            "flex_flow": null,
            "width": null,
            "min_width": null,
            "border": null,
            "align_items": null,
            "bottom": null,
            "_model_module": "@jupyter-widgets/base",
            "top": null,
            "grid_column": null,
            "overflow_y": null,
            "overflow_x": null,
            "grid_auto_flow": null,
            "grid_area": null,
            "grid_template_columns": null,
            "flex": null,
            "_model_name": "LayoutModel",
            "justify_items": null,
            "grid_row": null,
            "max_height": null,
            "align_content": null,
            "visibility": null,
            "align_self": null,
            "height": null,
            "min_height": null,
            "padding": null,
            "grid_auto_rows": null,
            "grid_gap": null,
            "max_width": null,
            "order": null,
            "_view_module_version": "1.2.0",
            "grid_template_areas": null,
            "object_position": null,
            "object_fit": null,
            "grid_auto_columns": null,
            "margin": null,
            "display": null,
            "left": null
          }
        },
        "d1badff2876149d98eaf647c64ca622b": {
          "model_module": "@jupyter-widgets/controls",
          "model_name": "SliderStyleModel",
          "model_module_version": "1.5.0",
          "state": {
            "_view_name": "StyleView",
            "handle_color": null,
            "_model_name": "SliderStyleModel",
            "description_width": "",
            "_view_module": "@jupyter-widgets/base",
            "_model_module_version": "1.5.0",
            "_view_count": null,
            "_view_module_version": "1.2.0",
            "_model_module": "@jupyter-widgets/controls"
          }
        },
        "85de916f48e444bfbc69c158d4d0d9a7": {
          "model_module": "@jupyter-widgets/base",
          "model_name": "LayoutModel",
          "model_module_version": "1.2.0",
          "state": {
            "_view_name": "LayoutView",
            "grid_template_rows": null,
            "right": null,
            "justify_content": null,
            "_view_module": "@jupyter-widgets/base",
            "overflow": null,
            "_model_module_version": "1.2.0",
            "_view_count": null,
            "flex_flow": null,
            "width": null,
            "min_width": null,
            "border": null,
            "align_items": null,
            "bottom": null,
            "_model_module": "@jupyter-widgets/base",
            "top": null,
            "grid_column": null,
            "overflow_y": null,
            "overflow_x": null,
            "grid_auto_flow": null,
            "grid_area": null,
            "grid_template_columns": null,
            "flex": null,
            "_model_name": "LayoutModel",
            "justify_items": null,
            "grid_row": null,
            "max_height": null,
            "align_content": null,
            "visibility": null,
            "align_self": null,
            "height": null,
            "min_height": null,
            "padding": null,
            "grid_auto_rows": null,
            "grid_gap": null,
            "max_width": null,
            "order": null,
            "_view_module_version": "1.2.0",
            "grid_template_areas": null,
            "object_position": null,
            "object_fit": null,
            "grid_auto_columns": null,
            "margin": null,
            "display": null,
            "left": null
          }
        },
        "d1d5e446991642ac8db9589e6f555224": {
          "model_module": "@jupyter-widgets/controls",
          "model_name": "ButtonStyleModel",
          "model_module_version": "1.5.0",
          "state": {
            "_view_name": "StyleView",
            "_model_name": "ButtonStyleModel",
            "_view_module": "@jupyter-widgets/base",
            "_model_module_version": "1.5.0",
            "_view_count": null,
            "button_color": null,
            "font_weight": "",
            "_view_module_version": "1.2.0",
            "_model_module": "@jupyter-widgets/controls"
          }
        },
        "e70a7c7242a9479da74f40158797c352": {
          "model_module": "@jupyter-widgets/base",
          "model_name": "LayoutModel",
          "model_module_version": "1.2.0",
          "state": {
            "_view_name": "LayoutView",
            "grid_template_rows": null,
            "right": null,
            "justify_content": null,
            "_view_module": "@jupyter-widgets/base",
            "overflow": null,
            "_model_module_version": "1.2.0",
            "_view_count": null,
            "flex_flow": null,
            "width": null,
            "min_width": null,
            "border": null,
            "align_items": null,
            "bottom": null,
            "_model_module": "@jupyter-widgets/base",
            "top": null,
            "grid_column": null,
            "overflow_y": null,
            "overflow_x": null,
            "grid_auto_flow": null,
            "grid_area": null,
            "grid_template_columns": null,
            "flex": null,
            "_model_name": "LayoutModel",
            "justify_items": null,
            "grid_row": null,
            "max_height": null,
            "align_content": null,
            "visibility": null,
            "align_self": null,
            "height": null,
            "min_height": null,
            "padding": null,
            "grid_auto_rows": null,
            "grid_gap": null,
            "max_width": null,
            "order": null,
            "_view_module_version": "1.2.0",
            "grid_template_areas": null,
            "object_position": null,
            "object_fit": null,
            "grid_auto_columns": null,
            "margin": null,
            "display": null,
            "left": null
          }
        },
        "67bfc6ddd2a04796871c95cdced7c225": {
          "model_module": "@jupyter-widgets/base",
          "model_name": "LayoutModel",
          "model_module_version": "1.2.0",
          "state": {
            "_view_name": "LayoutView",
            "grid_template_rows": null,
            "right": null,
            "justify_content": null,
            "_view_module": "@jupyter-widgets/base",
            "overflow": null,
            "_model_module_version": "1.2.0",
            "_view_count": null,
            "flex_flow": null,
            "width": null,
            "min_width": null,
            "border": null,
            "align_items": null,
            "bottom": null,
            "_model_module": "@jupyter-widgets/base",
            "top": null,
            "grid_column": null,
            "overflow_y": null,
            "overflow_x": null,
            "grid_auto_flow": null,
            "grid_area": null,
            "grid_template_columns": null,
            "flex": null,
            "_model_name": "LayoutModel",
            "justify_items": null,
            "grid_row": null,
            "max_height": null,
            "align_content": null,
            "visibility": null,
            "align_self": null,
            "height": null,
            "min_height": null,
            "padding": null,
            "grid_auto_rows": null,
            "grid_gap": null,
            "max_width": null,
            "order": null,
            "_view_module_version": "1.2.0",
            "grid_template_areas": null,
            "object_position": null,
            "object_fit": null,
            "grid_auto_columns": null,
            "margin": null,
            "display": null,
            "left": null
          }
        },
        "33aaba900a5343b9a65d4c1533fd59cb": {
          "model_module": "@jupyter-widgets/controls",
          "model_name": "VBoxModel",
          "model_module_version": "1.5.0",
          "state": {
            "_view_name": "VBoxView",
            "_dom_classes": [
              "widget-interact"
            ],
            "_model_name": "VBoxModel",
            "_view_module": "@jupyter-widgets/controls",
            "_model_module_version": "1.5.0",
            "_view_count": null,
            "_view_module_version": "1.5.0",
            "box_style": "",
            "layout": "IPY_MODEL_a3707720ec554b33b9586320784e8df3",
            "_model_module": "@jupyter-widgets/controls",
            "children": [
              "IPY_MODEL_35056a371ad34ebb8fb6b80590a292f9",
              "IPY_MODEL_f7305df1dd50497db1af9fb040e45c97",
              "IPY_MODEL_ad01cc2b98774753bb5a570e987ab6df",
              "IPY_MODEL_bcec06d581354124a3036d6cc4c2fdbb"
            ]
          }
        },
        "a3707720ec554b33b9586320784e8df3": {
          "model_module": "@jupyter-widgets/base",
          "model_name": "LayoutModel",
          "model_module_version": "1.2.0",
          "state": {
            "_view_name": "LayoutView",
            "grid_template_rows": null,
            "right": null,
            "justify_content": null,
            "_view_module": "@jupyter-widgets/base",
            "overflow": null,
            "_model_module_version": "1.2.0",
            "_view_count": null,
            "flex_flow": null,
            "width": null,
            "min_width": null,
            "border": null,
            "align_items": null,
            "bottom": null,
            "_model_module": "@jupyter-widgets/base",
            "top": null,
            "grid_column": null,
            "overflow_y": null,
            "overflow_x": null,
            "grid_auto_flow": null,
            "grid_area": null,
            "grid_template_columns": null,
            "flex": null,
            "_model_name": "LayoutModel",
            "justify_items": null,
            "grid_row": null,
            "max_height": null,
            "align_content": null,
            "visibility": null,
            "align_self": null,
            "height": null,
            "min_height": null,
            "padding": null,
            "grid_auto_rows": null,
            "grid_gap": null,
            "max_width": null,
            "order": null,
            "_view_module_version": "1.2.0",
            "grid_template_areas": null,
            "object_position": null,
            "object_fit": null,
            "grid_auto_columns": null,
            "margin": null,
            "display": null,
            "left": null
          }
        },
        "35056a371ad34ebb8fb6b80590a292f9": {
          "model_module": "@jupyter-widgets/controls",
          "model_name": "IntSliderModel",
          "model_module_version": "1.5.0",
          "state": {
            "_view_name": "IntSliderView",
            "style": "IPY_MODEL_c51189dab2714b459031422c5061b38b",
            "_dom_classes": [],
            "description": "giocate",
            "step": 1,
            "_model_name": "IntSliderModel",
            "orientation": "horizontal",
            "max": 6,
            "_view_module": "@jupyter-widgets/controls",
            "_model_module_version": "1.5.0",
            "value": 3,
            "_view_count": null,
            "disabled": false,
            "_view_module_version": "1.5.0",
            "min": 1,
            "continuous_update": true,
            "readout_format": "d",
            "description_tooltip": null,
            "readout": true,
            "_model_module": "@jupyter-widgets/controls",
            "layout": "IPY_MODEL_c5ccf70ed4d64a2094e5fc8aa599d6ed"
          }
        },
        "f7305df1dd50497db1af9fb040e45c97": {
          "model_module": "@jupyter-widgets/controls",
          "model_name": "IntSliderModel",
          "model_module_version": "1.5.0",
          "state": {
            "_view_name": "IntSliderView",
            "style": "IPY_MODEL_3396993d18904ea2944dd9d84cf9a761",
            "_dom_classes": [],
            "description": "puntata",
            "step": 5,
            "_model_name": "IntSliderModel",
            "orientation": "horizontal",
            "max": 100,
            "_view_module": "@jupyter-widgets/controls",
            "_model_module_version": "1.5.0",
            "value": 5,
            "_view_count": null,
            "disabled": false,
            "_view_module_version": "1.5.0",
            "min": 5,
            "continuous_update": true,
            "readout_format": "d",
            "description_tooltip": null,
            "readout": true,
            "_model_module": "@jupyter-widgets/controls",
            "layout": "IPY_MODEL_4ac80df7afee4e1daca49e93238b6f14"
          }
        },
        "ad01cc2b98774753bb5a570e987ab6df": {
          "model_module": "@jupyter-widgets/controls",
          "model_name": "ButtonModel",
          "model_module_version": "1.5.0",
          "state": {
            "_view_name": "ButtonView",
            "style": "IPY_MODEL_293f2fcbd9674eb7a7f0a90c18955cf5",
            "_dom_classes": [],
            "description": "Run Interact",
            "_model_name": "ButtonModel",
            "button_style": "",
            "_view_module": "@jupyter-widgets/controls",
            "_model_module_version": "1.5.0",
            "tooltip": "",
            "_view_count": null,
            "disabled": false,
            "_view_module_version": "1.5.0",
            "layout": "IPY_MODEL_1f30bcf04edd49eaac44563cb565fb31",
            "_model_module": "@jupyter-widgets/controls",
            "icon": ""
          }
        },
        "bcec06d581354124a3036d6cc4c2fdbb": {
          "model_module": "@jupyter-widgets/output",
          "model_name": "OutputModel",
          "model_module_version": "1.0.0",
          "state": {
            "_view_name": "OutputView",
            "msg_id": "",
            "_dom_classes": [],
            "_model_name": "OutputModel",
            "outputs": [
              {
                "output_type": "display_data",
                "data": {
                  "image/png": "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\n",
                  "text/plain": "<Figure size 432x288 with 1 Axes>"
                },
                "metadata": {}
              }
            ],
            "_view_module": "@jupyter-widgets/output",
            "_model_module_version": "1.0.0",
            "_view_count": null,
            "_view_module_version": "1.0.0",
            "layout": "IPY_MODEL_201241f1001e45e8b553f329f8fc0309",
            "_model_module": "@jupyter-widgets/output"
          }
        },
        "c51189dab2714b459031422c5061b38b": {
          "model_module": "@jupyter-widgets/controls",
          "model_name": "SliderStyleModel",
          "model_module_version": "1.5.0",
          "state": {
            "_view_name": "StyleView",
            "handle_color": null,
            "_model_name": "SliderStyleModel",
            "description_width": "",
            "_view_module": "@jupyter-widgets/base",
            "_model_module_version": "1.5.0",
            "_view_count": null,
            "_view_module_version": "1.2.0",
            "_model_module": "@jupyter-widgets/controls"
          }
        },
        "c5ccf70ed4d64a2094e5fc8aa599d6ed": {
          "model_module": "@jupyter-widgets/base",
          "model_name": "LayoutModel",
          "model_module_version": "1.2.0",
          "state": {
            "_view_name": "LayoutView",
            "grid_template_rows": null,
            "right": null,
            "justify_content": null,
            "_view_module": "@jupyter-widgets/base",
            "overflow": null,
            "_model_module_version": "1.2.0",
            "_view_count": null,
            "flex_flow": null,
            "width": null,
            "min_width": null,
            "border": null,
            "align_items": null,
            "bottom": null,
            "_model_module": "@jupyter-widgets/base",
            "top": null,
            "grid_column": null,
            "overflow_y": null,
            "overflow_x": null,
            "grid_auto_flow": null,
            "grid_area": null,
            "grid_template_columns": null,
            "flex": null,
            "_model_name": "LayoutModel",
            "justify_items": null,
            "grid_row": null,
            "max_height": null,
            "align_content": null,
            "visibility": null,
            "align_self": null,
            "height": null,
            "min_height": null,
            "padding": null,
            "grid_auto_rows": null,
            "grid_gap": null,
            "max_width": null,
            "order": null,
            "_view_module_version": "1.2.0",
            "grid_template_areas": null,
            "object_position": null,
            "object_fit": null,
            "grid_auto_columns": null,
            "margin": null,
            "display": null,
            "left": null
          }
        },
        "3396993d18904ea2944dd9d84cf9a761": {
          "model_module": "@jupyter-widgets/controls",
          "model_name": "SliderStyleModel",
          "model_module_version": "1.5.0",
          "state": {
            "_view_name": "StyleView",
            "handle_color": null,
            "_model_name": "SliderStyleModel",
            "description_width": "",
            "_view_module": "@jupyter-widgets/base",
            "_model_module_version": "1.5.0",
            "_view_count": null,
            "_view_module_version": "1.2.0",
            "_model_module": "@jupyter-widgets/controls"
          }
        },
        "4ac80df7afee4e1daca49e93238b6f14": {
          "model_module": "@jupyter-widgets/base",
          "model_name": "LayoutModel",
          "model_module_version": "1.2.0",
          "state": {
            "_view_name": "LayoutView",
            "grid_template_rows": null,
            "right": null,
            "justify_content": null,
            "_view_module": "@jupyter-widgets/base",
            "overflow": null,
            "_model_module_version": "1.2.0",
            "_view_count": null,
            "flex_flow": null,
            "width": null,
            "min_width": null,
            "border": null,
            "align_items": null,
            "bottom": null,
            "_model_module": "@jupyter-widgets/base",
            "top": null,
            "grid_column": null,
            "overflow_y": null,
            "overflow_x": null,
            "grid_auto_flow": null,
            "grid_area": null,
            "grid_template_columns": null,
            "flex": null,
            "_model_name": "LayoutModel",
            "justify_items": null,
            "grid_row": null,
            "max_height": null,
            "align_content": null,
            "visibility": null,
            "align_self": null,
            "height": null,
            "min_height": null,
            "padding": null,
            "grid_auto_rows": null,
            "grid_gap": null,
            "max_width": null,
            "order": null,
            "_view_module_version": "1.2.0",
            "grid_template_areas": null,
            "object_position": null,
            "object_fit": null,
            "grid_auto_columns": null,
            "margin": null,
            "display": null,
            "left": null
          }
        },
        "293f2fcbd9674eb7a7f0a90c18955cf5": {
          "model_module": "@jupyter-widgets/controls",
          "model_name": "ButtonStyleModel",
          "model_module_version": "1.5.0",
          "state": {
            "_view_name": "StyleView",
            "_model_name": "ButtonStyleModel",
            "_view_module": "@jupyter-widgets/base",
            "_model_module_version": "1.5.0",
            "_view_count": null,
            "button_color": null,
            "font_weight": "",
            "_view_module_version": "1.2.0",
            "_model_module": "@jupyter-widgets/controls"
          }
        },
        "1f30bcf04edd49eaac44563cb565fb31": {
          "model_module": "@jupyter-widgets/base",
          "model_name": "LayoutModel",
          "model_module_version": "1.2.0",
          "state": {
            "_view_name": "LayoutView",
            "grid_template_rows": null,
            "right": null,
            "justify_content": null,
            "_view_module": "@jupyter-widgets/base",
            "overflow": null,
            "_model_module_version": "1.2.0",
            "_view_count": null,
            "flex_flow": null,
            "width": null,
            "min_width": null,
            "border": null,
            "align_items": null,
            "bottom": null,
            "_model_module": "@jupyter-widgets/base",
            "top": null,
            "grid_column": null,
            "overflow_y": null,
            "overflow_x": null,
            "grid_auto_flow": null,
            "grid_area": null,
            "grid_template_columns": null,
            "flex": null,
            "_model_name": "LayoutModel",
            "justify_items": null,
            "grid_row": null,
            "max_height": null,
            "align_content": null,
            "visibility": null,
            "align_self": null,
            "height": null,
            "min_height": null,
            "padding": null,
            "grid_auto_rows": null,
            "grid_gap": null,
            "max_width": null,
            "order": null,
            "_view_module_version": "1.2.0",
            "grid_template_areas": null,
            "object_position": null,
            "object_fit": null,
            "grid_auto_columns": null,
            "margin": null,
            "display": null,
            "left": null
          }
        },
        "201241f1001e45e8b553f329f8fc0309": {
          "model_module": "@jupyter-widgets/base",
          "model_name": "LayoutModel",
          "model_module_version": "1.2.0",
          "state": {
            "_view_name": "LayoutView",
            "grid_template_rows": null,
            "right": null,
            "justify_content": null,
            "_view_module": "@jupyter-widgets/base",
            "overflow": null,
            "_model_module_version": "1.2.0",
            "_view_count": null,
            "flex_flow": null,
            "width": null,
            "min_width": null,
            "border": null,
            "align_items": null,
            "bottom": null,
            "_model_module": "@jupyter-widgets/base",
            "top": null,
            "grid_column": null,
            "overflow_y": null,
            "overflow_x": null,
            "grid_auto_flow": null,
            "grid_area": null,
            "grid_template_columns": null,
            "flex": null,
            "_model_name": "LayoutModel",
            "justify_items": null,
            "grid_row": null,
            "max_height": null,
            "align_content": null,
            "visibility": null,
            "align_self": null,
            "height": null,
            "min_height": null,
            "padding": null,
            "grid_auto_rows": null,
            "grid_gap": null,
            "max_width": null,
            "order": null,
            "_view_module_version": "1.2.0",
            "grid_template_areas": null,
            "object_position": null,
            "object_fit": null,
            "grid_auto_columns": null,
            "margin": null,
            "display": null,
            "left": null
          }
        },
        "fc97658300c74055aedc4c289e82473c": {
          "model_module": "@jupyter-widgets/controls",
          "model_name": "VBoxModel",
          "model_module_version": "1.5.0",
          "state": {
            "_view_name": "VBoxView",
            "_dom_classes": [
              "widget-interact"
            ],
            "_model_name": "VBoxModel",
            "_view_module": "@jupyter-widgets/controls",
            "_model_module_version": "1.5.0",
            "_view_count": null,
            "_view_module_version": "1.5.0",
            "box_style": "",
            "layout": "IPY_MODEL_a753a5d8d7884e2587cc299c80e7a87e",
            "_model_module": "@jupyter-widgets/controls",
            "children": [
              "IPY_MODEL_d4475edf3d7d439eab3184d91ac8b173",
              "IPY_MODEL_346a23bb167741599ef44595c4ff4218",
              "IPY_MODEL_12a9ce5106df4c1086506292afc75903"
            ]
          }
        },
        "a753a5d8d7884e2587cc299c80e7a87e": {
          "model_module": "@jupyter-widgets/base",
          "model_name": "LayoutModel",
          "model_module_version": "1.2.0",
          "state": {
            "_view_name": "LayoutView",
            "grid_template_rows": null,
            "right": null,
            "justify_content": null,
            "_view_module": "@jupyter-widgets/base",
            "overflow": null,
            "_model_module_version": "1.2.0",
            "_view_count": null,
            "flex_flow": null,
            "width": null,
            "min_width": null,
            "border": null,
            "align_items": null,
            "bottom": null,
            "_model_module": "@jupyter-widgets/base",
            "top": null,
            "grid_column": null,
            "overflow_y": null,
            "overflow_x": null,
            "grid_auto_flow": null,
            "grid_area": null,
            "grid_template_columns": null,
            "flex": null,
            "_model_name": "LayoutModel",
            "justify_items": null,
            "grid_row": null,
            "max_height": null,
            "align_content": null,
            "visibility": null,
            "align_self": null,
            "height": null,
            "min_height": null,
            "padding": null,
            "grid_auto_rows": null,
            "grid_gap": null,
            "max_width": null,
            "order": null,
            "_view_module_version": "1.2.0",
            "grid_template_areas": null,
            "object_position": null,
            "object_fit": null,
            "grid_auto_columns": null,
            "margin": null,
            "display": null,
            "left": null
          }
        },
        "d4475edf3d7d439eab3184d91ac8b173": {
          "model_module": "@jupyter-widgets/controls",
          "model_name": "IntSliderModel",
          "model_module_version": "1.5.0",
          "state": {
            "_view_name": "IntSliderView",
            "style": "IPY_MODEL_396ac4cf4072460589f7fd4432427918",
            "_dom_classes": [],
            "description": "estrazioni",
            "step": 1,
            "_model_name": "IntSliderModel",
            "orientation": "horizontal",
            "max": 10,
            "_view_module": "@jupyter-widgets/controls",
            "_model_module_version": "1.5.0",
            "value": 3,
            "_view_count": null,
            "disabled": false,
            "_view_module_version": "1.5.0",
            "min": 1,
            "continuous_update": true,
            "readout_format": "d",
            "description_tooltip": null,
            "readout": true,
            "_model_module": "@jupyter-widgets/controls",
            "layout": "IPY_MODEL_22de8cf8c1ec482a849402da3ca4869a"
          }
        },
        "346a23bb167741599ef44595c4ff4218": {
          "model_module": "@jupyter-widgets/controls",
          "model_name": "ButtonModel",
          "model_module_version": "1.5.0",
          "state": {
            "_view_name": "ButtonView",
            "style": "IPY_MODEL_571c93c92c564d5cb275658fc4f5440f",
            "_dom_classes": [],
            "description": "Run Interact",
            "_model_name": "ButtonModel",
            "button_style": "",
            "_view_module": "@jupyter-widgets/controls",
            "_model_module_version": "1.5.0",
            "tooltip": "",
            "_view_count": null,
            "disabled": false,
            "_view_module_version": "1.5.0",
            "layout": "IPY_MODEL_0049d04348db453f9d4943d4adac9bbf",
            "_model_module": "@jupyter-widgets/controls",
            "icon": ""
          }
        },
        "12a9ce5106df4c1086506292afc75903": {
          "model_module": "@jupyter-widgets/output",
          "model_name": "OutputModel",
          "model_module_version": "1.0.0",
          "state": {
            "_view_name": "OutputView",
            "msg_id": "",
            "_dom_classes": [],
            "_model_name": "OutputModel",
            "outputs": [
              {
                "output_type": "display_data",
                "data": {
                  "text/plain": "0.93265"
                },
                "metadata": {}
              }
            ],
            "_view_module": "@jupyter-widgets/output",
            "_model_module_version": "1.0.0",
            "_view_count": null,
            "_view_module_version": "1.0.0",
            "layout": "IPY_MODEL_6ba725ac97634f34b7efa9bf76c8376a",
            "_model_module": "@jupyter-widgets/output"
          }
        },
        "396ac4cf4072460589f7fd4432427918": {
          "model_module": "@jupyter-widgets/controls",
          "model_name": "SliderStyleModel",
          "model_module_version": "1.5.0",
          "state": {
            "_view_name": "StyleView",
            "handle_color": null,
            "_model_name": "SliderStyleModel",
            "description_width": "",
            "_view_module": "@jupyter-widgets/base",
            "_model_module_version": "1.5.0",
            "_view_count": null,
            "_view_module_version": "1.2.0",
            "_model_module": "@jupyter-widgets/controls"
          }
        },
        "22de8cf8c1ec482a849402da3ca4869a": {
          "model_module": "@jupyter-widgets/base",
          "model_name": "LayoutModel",
          "model_module_version": "1.2.0",
          "state": {
            "_view_name": "LayoutView",
            "grid_template_rows": null,
            "right": null,
            "justify_content": null,
            "_view_module": "@jupyter-widgets/base",
            "overflow": null,
            "_model_module_version": "1.2.0",
            "_view_count": null,
            "flex_flow": null,
            "width": null,
            "min_width": null,
            "border": null,
            "align_items": null,
            "bottom": null,
            "_model_module": "@jupyter-widgets/base",
            "top": null,
            "grid_column": null,
            "overflow_y": null,
            "overflow_x": null,
            "grid_auto_flow": null,
            "grid_area": null,
            "grid_template_columns": null,
            "flex": null,
            "_model_name": "LayoutModel",
            "justify_items": null,
            "grid_row": null,
            "max_height": null,
            "align_content": null,
            "visibility": null,
            "align_self": null,
            "height": null,
            "min_height": null,
            "padding": null,
            "grid_auto_rows": null,
            "grid_gap": null,
            "max_width": null,
            "order": null,
            "_view_module_version": "1.2.0",
            "grid_template_areas": null,
            "object_position": null,
            "object_fit": null,
            "grid_auto_columns": null,
            "margin": null,
            "display": null,
            "left": null
          }
        },
        "571c93c92c564d5cb275658fc4f5440f": {
          "model_module": "@jupyter-widgets/controls",
          "model_name": "ButtonStyleModel",
          "model_module_version": "1.5.0",
          "state": {
            "_view_name": "StyleView",
            "_model_name": "ButtonStyleModel",
            "_view_module": "@jupyter-widgets/base",
            "_model_module_version": "1.5.0",
            "_view_count": null,
            "button_color": null,
            "font_weight": "",
            "_view_module_version": "1.2.0",
            "_model_module": "@jupyter-widgets/controls"
          }
        },
        "0049d04348db453f9d4943d4adac9bbf": {
          "model_module": "@jupyter-widgets/base",
          "model_name": "LayoutModel",
          "model_module_version": "1.2.0",
          "state": {
            "_view_name": "LayoutView",
            "grid_template_rows": null,
            "right": null,
            "justify_content": null,
            "_view_module": "@jupyter-widgets/base",
            "overflow": null,
            "_model_module_version": "1.2.0",
            "_view_count": null,
            "flex_flow": null,
            "width": null,
            "min_width": null,
            "border": null,
            "align_items": null,
            "bottom": null,
            "_model_module": "@jupyter-widgets/base",
            "top": null,
            "grid_column": null,
            "overflow_y": null,
            "overflow_x": null,
            "grid_auto_flow": null,
            "grid_area": null,
            "grid_template_columns": null,
            "flex": null,
            "_model_name": "LayoutModel",
            "justify_items": null,
            "grid_row": null,
            "max_height": null,
            "align_content": null,
            "visibility": null,
            "align_self": null,
            "height": null,
            "min_height": null,
            "padding": null,
            "grid_auto_rows": null,
            "grid_gap": null,
            "max_width": null,
            "order": null,
            "_view_module_version": "1.2.0",
            "grid_template_areas": null,
            "object_position": null,
            "object_fit": null,
            "grid_auto_columns": null,
            "margin": null,
            "display": null,
            "left": null
          }
        },
        "6ba725ac97634f34b7efa9bf76c8376a": {
          "model_module": "@jupyter-widgets/base",
          "model_name": "LayoutModel",
          "model_module_version": "1.2.0",
          "state": {
            "_view_name": "LayoutView",
            "grid_template_rows": null,
            "right": null,
            "justify_content": null,
            "_view_module": "@jupyter-widgets/base",
            "overflow": null,
            "_model_module_version": "1.2.0",
            "_view_count": null,
            "flex_flow": null,
            "width": null,
            "min_width": null,
            "border": null,
            "align_items": null,
            "bottom": null,
            "_model_module": "@jupyter-widgets/base",
            "top": null,
            "grid_column": null,
            "overflow_y": null,
            "overflow_x": null,
            "grid_auto_flow": null,
            "grid_area": null,
            "grid_template_columns": null,
            "flex": null,
            "_model_name": "LayoutModel",
            "justify_items": null,
            "grid_row": null,
            "max_height": null,
            "align_content": null,
            "visibility": null,
            "align_self": null,
            "height": null,
            "min_height": null,
            "padding": null,
            "grid_auto_rows": null,
            "grid_gap": null,
            "max_width": null,
            "order": null,
            "_view_module_version": "1.2.0",
            "grid_template_areas": null,
            "object_position": null,
            "object_fit": null,
            "grid_auto_columns": null,
            "margin": null,
            "display": null,
            "left": null
          }
        },
        "b269d43f3290429db710c98cf2de2e2e": {
          "model_module": "@jupyter-widgets/controls",
          "model_name": "VBoxModel",
          "model_module_version": "1.5.0",
          "state": {
            "_view_name": "VBoxView",
            "_dom_classes": [
              "widget-interact"
            ],
            "_model_name": "VBoxModel",
            "_view_module": "@jupyter-widgets/controls",
            "_model_module_version": "1.5.0",
            "_view_count": null,
            "_view_module_version": "1.5.0",
            "box_style": "",
            "layout": "IPY_MODEL_30fbee7b688b46309bdb821e078c89b9",
            "_model_module": "@jupyter-widgets/controls",
            "children": [
              "IPY_MODEL_2278d054d17146dba9662d7cd11cb1a4",
              "IPY_MODEL_b3d11d9ea6334991a9c9f9e831521cd8",
              "IPY_MODEL_6c050fb3123b4dad9f85e9096ff3a8ca",
              "IPY_MODEL_dfbeb527927e405ea007c80c5827c453"
            ]
          }
        },
        "30fbee7b688b46309bdb821e078c89b9": {
          "model_module": "@jupyter-widgets/base",
          "model_name": "LayoutModel",
          "model_module_version": "1.2.0",
          "state": {
            "_view_name": "LayoutView",
            "grid_template_rows": null,
            "right": null,
            "justify_content": null,
            "_view_module": "@jupyter-widgets/base",
            "overflow": null,
            "_model_module_version": "1.2.0",
            "_view_count": null,
            "flex_flow": null,
            "width": null,
            "min_width": null,
            "border": null,
            "align_items": null,
            "bottom": null,
            "_model_module": "@jupyter-widgets/base",
            "top": null,
            "grid_column": null,
            "overflow_y": null,
            "overflow_x": null,
            "grid_auto_flow": null,
            "grid_area": null,
            "grid_template_columns": null,
            "flex": null,
            "_model_name": "LayoutModel",
            "justify_items": null,
            "grid_row": null,
            "max_height": null,
            "align_content": null,
            "visibility": null,
            "align_self": null,
            "height": null,
            "min_height": null,
            "padding": null,
            "grid_auto_rows": null,
            "grid_gap": null,
            "max_width": null,
            "order": null,
            "_view_module_version": "1.2.0",
            "grid_template_areas": null,
            "object_position": null,
            "object_fit": null,
            "grid_auto_columns": null,
            "margin": null,
            "display": null,
            "left": null
          }
        },
        "2278d054d17146dba9662d7cd11cb1a4": {
          "model_module": "@jupyter-widgets/controls",
          "model_name": "IntSliderModel",
          "model_module_version": "1.5.0",
          "state": {
            "_view_name": "IntSliderView",
            "style": "IPY_MODEL_17865be8f09b485a8ba812080222efaf",
            "_dom_classes": [],
            "description": "bianche",
            "step": 1,
            "_model_name": "IntSliderModel",
            "orientation": "horizontal",
            "max": 5,
            "_view_module": "@jupyter-widgets/controls",
            "_model_module_version": "1.5.0",
            "value": 3,
            "_view_count": null,
            "disabled": false,
            "_view_module_version": "1.5.0",
            "min": 1,
            "continuous_update": true,
            "readout_format": "d",
            "description_tooltip": null,
            "readout": true,
            "_model_module": "@jupyter-widgets/controls",
            "layout": "IPY_MODEL_dba10763e6604889b9b143cbb22f2ff0"
          }
        },
        "b3d11d9ea6334991a9c9f9e831521cd8": {
          "model_module": "@jupyter-widgets/controls",
          "model_name": "IntSliderModel",
          "model_module_version": "1.5.0",
          "state": {
            "_view_name": "IntSliderView",
            "style": "IPY_MODEL_8c96b53cb51240c4ae04572a4400aac5",
            "_dom_classes": [],
            "description": "rosse",
            "step": 1,
            "_model_name": "IntSliderModel",
            "orientation": "horizontal",
            "max": 5,
            "_view_module": "@jupyter-widgets/controls",
            "_model_module_version": "1.5.0",
            "value": 4,
            "_view_count": null,
            "disabled": false,
            "_view_module_version": "1.5.0",
            "min": 1,
            "continuous_update": true,
            "readout_format": "d",
            "description_tooltip": null,
            "readout": true,
            "_model_module": "@jupyter-widgets/controls",
            "layout": "IPY_MODEL_f049a3b8b5464b8ba87a67b2f06a3663"
          }
        },
        "6c050fb3123b4dad9f85e9096ff3a8ca": {
          "model_module": "@jupyter-widgets/controls",
          "model_name": "ButtonModel",
          "model_module_version": "1.5.0",
          "state": {
            "_view_name": "ButtonView",
            "style": "IPY_MODEL_2dbe1965e23c4267b9aa802d8833f13b",
            "_dom_classes": [],
            "description": "Run Interact",
            "_model_name": "ButtonModel",
            "button_style": "",
            "_view_module": "@jupyter-widgets/controls",
            "_model_module_version": "1.5.0",
            "tooltip": "",
            "_view_count": null,
            "disabled": false,
            "_view_module_version": "1.5.0",
            "layout": "IPY_MODEL_bbdbead51a914ee5a2dbb09222349d2d",
            "_model_module": "@jupyter-widgets/controls",
            "icon": ""
          }
        },
        "dfbeb527927e405ea007c80c5827c453": {
          "model_module": "@jupyter-widgets/output",
          "model_name": "OutputModel",
          "model_module_version": "1.0.0",
          "state": {
            "_view_name": "OutputView",
            "msg_id": "",
            "_dom_classes": [],
            "_model_name": "OutputModel",
            "outputs": [
              {
                "output_type": "display_data",
                "data": {
                  "image/png": "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\n",
                  "text/plain": "<Figure size 432x288 with 1 Axes>"
                },
                "metadata": {}
              }
            ],
            "_view_module": "@jupyter-widgets/output",
            "_model_module_version": "1.0.0",
            "_view_count": null,
            "_view_module_version": "1.0.0",
            "layout": "IPY_MODEL_a04be8c8ea234ea5962ad1b5dff76960",
            "_model_module": "@jupyter-widgets/output"
          }
        },
        "17865be8f09b485a8ba812080222efaf": {
          "model_module": "@jupyter-widgets/controls",
          "model_name": "SliderStyleModel",
          "model_module_version": "1.5.0",
          "state": {
            "_view_name": "StyleView",
            "handle_color": null,
            "_model_name": "SliderStyleModel",
            "description_width": "",
            "_view_module": "@jupyter-widgets/base",
            "_model_module_version": "1.5.0",
            "_view_count": null,
            "_view_module_version": "1.2.0",
            "_model_module": "@jupyter-widgets/controls"
          }
        },
        "dba10763e6604889b9b143cbb22f2ff0": {
          "model_module": "@jupyter-widgets/base",
          "model_name": "LayoutModel",
          "model_module_version": "1.2.0",
          "state": {
            "_view_name": "LayoutView",
            "grid_template_rows": null,
            "right": null,
            "justify_content": null,
            "_view_module": "@jupyter-widgets/base",
            "overflow": null,
            "_model_module_version": "1.2.0",
            "_view_count": null,
            "flex_flow": null,
            "width": null,
            "min_width": null,
            "border": null,
            "align_items": null,
            "bottom": null,
            "_model_module": "@jupyter-widgets/base",
            "top": null,
            "grid_column": null,
            "overflow_y": null,
            "overflow_x": null,
            "grid_auto_flow": null,
            "grid_area": null,
            "grid_template_columns": null,
            "flex": null,
            "_model_name": "LayoutModel",
            "justify_items": null,
            "grid_row": null,
            "max_height": null,
            "align_content": null,
            "visibility": null,
            "align_self": null,
            "height": null,
            "min_height": null,
            "padding": null,
            "grid_auto_rows": null,
            "grid_gap": null,
            "max_width": null,
            "order": null,
            "_view_module_version": "1.2.0",
            "grid_template_areas": null,
            "object_position": null,
            "object_fit": null,
            "grid_auto_columns": null,
            "margin": null,
            "display": null,
            "left": null
          }
        },
        "8c96b53cb51240c4ae04572a4400aac5": {
          "model_module": "@jupyter-widgets/controls",
          "model_name": "SliderStyleModel",
          "model_module_version": "1.5.0",
          "state": {
            "_view_name": "StyleView",
            "handle_color": null,
            "_model_name": "SliderStyleModel",
            "description_width": "",
            "_view_module": "@jupyter-widgets/base",
            "_model_module_version": "1.5.0",
            "_view_count": null,
            "_view_module_version": "1.2.0",
            "_model_module": "@jupyter-widgets/controls"
          }
        },
        "f049a3b8b5464b8ba87a67b2f06a3663": {
          "model_module": "@jupyter-widgets/base",
          "model_name": "LayoutModel",
          "model_module_version": "1.2.0",
          "state": {
            "_view_name": "LayoutView",
            "grid_template_rows": null,
            "right": null,
            "justify_content": null,
            "_view_module": "@jupyter-widgets/base",
            "overflow": null,
            "_model_module_version": "1.2.0",
            "_view_count": null,
            "flex_flow": null,
            "width": null,
            "min_width": null,
            "border": null,
            "align_items": null,
            "bottom": null,
            "_model_module": "@jupyter-widgets/base",
            "top": null,
            "grid_column": null,
            "overflow_y": null,
            "overflow_x": null,
            "grid_auto_flow": null,
            "grid_area": null,
            "grid_template_columns": null,
            "flex": null,
            "_model_name": "LayoutModel",
            "justify_items": null,
            "grid_row": null,
            "max_height": null,
            "align_content": null,
            "visibility": null,
            "align_self": null,
            "height": null,
            "min_height": null,
            "padding": null,
            "grid_auto_rows": null,
            "grid_gap": null,
            "max_width": null,
            "order": null,
            "_view_module_version": "1.2.0",
            "grid_template_areas": null,
            "object_position": null,
            "object_fit": null,
            "grid_auto_columns": null,
            "margin": null,
            "display": null,
            "left": null
          }
        },
        "2dbe1965e23c4267b9aa802d8833f13b": {
          "model_module": "@jupyter-widgets/controls",
          "model_name": "ButtonStyleModel",
          "model_module_version": "1.5.0",
          "state": {
            "_view_name": "StyleView",
            "_model_name": "ButtonStyleModel",
            "_view_module": "@jupyter-widgets/base",
            "_model_module_version": "1.5.0",
            "_view_count": null,
            "button_color": null,
            "font_weight": "",
            "_view_module_version": "1.2.0",
            "_model_module": "@jupyter-widgets/controls"
          }
        },
        "bbdbead51a914ee5a2dbb09222349d2d": {
          "model_module": "@jupyter-widgets/base",
          "model_name": "LayoutModel",
          "model_module_version": "1.2.0",
          "state": {
            "_view_name": "LayoutView",
            "grid_template_rows": null,
            "right": null,
            "justify_content": null,
            "_view_module": "@jupyter-widgets/base",
            "overflow": null,
            "_model_module_version": "1.2.0",
            "_view_count": null,
            "flex_flow": null,
            "width": null,
            "min_width": null,
            "border": null,
            "align_items": null,
            "bottom": null,
            "_model_module": "@jupyter-widgets/base",
            "top": null,
            "grid_column": null,
            "overflow_y": null,
            "overflow_x": null,
            "grid_auto_flow": null,
            "grid_area": null,
            "grid_template_columns": null,
            "flex": null,
            "_model_name": "LayoutModel",
            "justify_items": null,
            "grid_row": null,
            "max_height": null,
            "align_content": null,
            "visibility": null,
            "align_self": null,
            "height": null,
            "min_height": null,
            "padding": null,
            "grid_auto_rows": null,
            "grid_gap": null,
            "max_width": null,
            "order": null,
            "_view_module_version": "1.2.0",
            "grid_template_areas": null,
            "object_position": null,
            "object_fit": null,
            "grid_auto_columns": null,
            "margin": null,
            "display": null,
            "left": null
          }
        },
        "a04be8c8ea234ea5962ad1b5dff76960": {
          "model_module": "@jupyter-widgets/base",
          "model_name": "LayoutModel",
          "model_module_version": "1.2.0",
          "state": {
            "_view_name": "LayoutView",
            "grid_template_rows": null,
            "right": null,
            "justify_content": null,
            "_view_module": "@jupyter-widgets/base",
            "overflow": null,
            "_model_module_version": "1.2.0",
            "_view_count": null,
            "flex_flow": null,
            "width": null,
            "min_width": null,
            "border": null,
            "align_items": null,
            "bottom": null,
            "_model_module": "@jupyter-widgets/base",
            "top": null,
            "grid_column": null,
            "overflow_y": null,
            "overflow_x": null,
            "grid_auto_flow": null,
            "grid_area": null,
            "grid_template_columns": null,
            "flex": null,
            "_model_name": "LayoutModel",
            "justify_items": null,
            "grid_row": null,
            "max_height": null,
            "align_content": null,
            "visibility": null,
            "align_self": null,
            "height": null,
            "min_height": null,
            "padding": null,
            "grid_auto_rows": null,
            "grid_gap": null,
            "max_width": null,
            "order": null,
            "_view_module_version": "1.2.0",
            "grid_template_areas": null,
            "object_position": null,
            "object_fit": null,
            "grid_auto_columns": null,
            "margin": null,
            "display": null,
            "left": null
          }
        }
      }
    }
  },
  "cells": [
    {
      "cell_type": "markdown",
      "metadata": {
        "id": "view-in-github",
        "colab_type": "text"
      },
      "source": [
        "<a href=\"https://colab.research.google.com/github/MontiMic/Tesi/blob/riordinato/Untitled1.ipynb\" target=\"_parent\"><img src=\"https://colab.research.google.com/assets/colab-badge.svg\" alt=\"Open In Colab\"/></a>"
      ]
    },
    {
      "cell_type": "markdown",
      "source": [
        "# Introduzione\n",
        "La seguente presentazione si propone di semplificare l'apprendimento di alcuni principi del calcolo probabilistico offrendo la possibilità di vedere applicare le leggi su grandi numeri e confrontando i risultati ottenuti con quelli attesi dalla teoria."
      ],
      "metadata": {
        "id": "yyLelI9l5lbc"
      }
    },
    {
      "cell_type": "markdown",
      "source": [
        "Di seguito includiamo le librerie che verranno utilizzate nel corso della presentazione:\n",
        "\n",
        "* **numpy** per la manipolazione dei dati\n",
        "\n",
        "* **interact** per rendere la presentazione interattiva offrendo la possibilità allo studente di scegliere gli input\n",
        "\n",
        "* **pyplot** per la rappresentazione grafica dei risultati"
      ],
      "metadata": {
        "id": "35yCw13F7Yam"
      }
    },
    {
      "cell_type": "code",
      "execution_count": 3,
      "metadata": {
        "id": "TAxUPZupC-qR"
      },
      "outputs": [],
      "source": [
        "import numpy as np\n",
        "from ipywidgets import interact, interact_manual\n",
        "from matplotlib import pyplot as plt"
      ]
    },
    {
      "cell_type": "markdown",
      "source": [
        "Con la variabile \"precisione\" regoliamo il numero di volte che gli esperimenti vengono ripetuti. \n",
        "\n",
        "Un numero più alto di ripetizioni comporta un miglioramento nell'accuratezza dei risultati a discapito del tempo di esecuzione.\n",
        "\n",
        "Il valore scelto come default è 100 000 col quale otteniamo risultati apprezzabili in pochi secondi. Per risultati più precisi è possibile incrementare questa variabile ma è sconsigliabile superare il milione (valore che garantisce risultati molto precisi ma che, negli esperimenti più complessi, comporta un tempo di esecuzione che supera il minuto)."
      ],
      "metadata": {
        "id": "LqpjPIbx8a4s"
      }
    },
    {
      "cell_type": "code",
      "source": [
        "precisione = 100_000"
      ],
      "metadata": {
        "id": "m6MqT7A-7Tj3"
      },
      "execution_count": 12,
      "outputs": []
    },
    {
      "cell_type": "markdown",
      "source": [
        "#Elementi di python"
      ],
      "metadata": {
        "id": "XN5Whz1Y9fiZ"
      }
    },
    {
      "cell_type": "markdown",
      "source": [
        "Questa sezione è rivolta unicamente a chi non avesse ancora mai visto il python, allo scopo di esplicitare alcuni passaggi peculiari a python."
      ],
      "metadata": {
        "id": "yHNFMDrk9pHX"
      }
    },
    {
      "cell_type": "markdown",
      "source": [
        "La funzione np.zeros(n) restituisce un array di zeri lungo n"
      ],
      "metadata": {
        "id": "kXZd8nfHDkHj"
      }
    },
    {
      "cell_type": "code",
      "source": [
        "np.zeros(5)"
      ],
      "metadata": {
        "colab": {
          "base_uri": "https://localhost:8080/"
        },
        "id": "Pukdrzg7-ggY",
        "outputId": "4fea4b36-23fe-436c-e610-444d4d759303"
      },
      "execution_count": 31,
      "outputs": [
        {
          "output_type": "execute_result",
          "data": {
            "text/plain": [
              "array([0., 0., 0., 0., 0.])"
            ]
          },
          "metadata": {},
          "execution_count": 31
        }
      ]
    },
    {
      "cell_type": "markdown",
      "source": [
        "Specificando anche il type booleano facciamo una conversione: \n",
        "\n",
        "*  Gli zeri diventano False\n",
        "\n",
        "* I valori diversi da zero diventano True"
      ],
      "metadata": {
        "id": "VyLCyWeYDvuh"
      }
    },
    {
      "cell_type": "code",
      "source": [
        "esempio = np.zeros(10, dtype=np.bool)\n",
        "print(esempio)"
      ],
      "metadata": {
        "colab": {
          "base_uri": "https://localhost:8080/"
        },
        "id": "lO-15LDEDZEP",
        "outputId": "62d2bfe2-783d-4a45-b64e-d7e823b168e1"
      },
      "execution_count": 32,
      "outputs": [
        {
          "output_type": "stream",
          "name": "stdout",
          "text": [
            "[False False False False False False False False False False]\n"
          ]
        }
      ]
    },
    {
      "cell_type": "markdown",
      "source": [
        "Useremo questo tipo di struttura dati per simulare praticamente tutto, dalla roulette (True = rosso, False = nero) ad un urna di palline (quando ci basteranno 2 soli colori delle palline)"
      ],
      "metadata": {
        "id": "t-fqP7KSEIUu"
      }
    },
    {
      "cell_type": "markdown",
      "source": [
        "Questa struttura dati ci offre inol"
      ],
      "metadata": {
        "id": "YS53XnBHNuxD"
      }
    },
    {
      "cell_type": "markdown",
      "source": [
        "Per modificare un array il python ci offre uno strumento molto potente: lo slicing. Questa funzionalità permette di intervenire su un qualunque sottoinsieme dell'array se usata correttamente. A noi basta sapere che in un caso come esempio[1:5:2], stiamo intervenendo sull'array esempio, prendendo gli elementi dalla posizione 1 (inclusa) alla posizione 5 (esclusa) con passo 2:"
      ],
      "metadata": {
        "id": "OEyj-K9iEeQa"
      }
    },
    {
      "cell_type": "code",
      "source": [
        "esempio = ['a', 'b', 'c', 'd', 'e']\n",
        "esempio[1:5:2]"
      ],
      "metadata": {
        "colab": {
          "base_uri": "https://localhost:8080/"
        },
        "id": "48oF9noGF3Np",
        "outputId": "fe475992-9013-484a-f159-c7b2bb083124"
      },
      "execution_count": 38,
      "outputs": [
        {
          "output_type": "execute_result",
          "data": {
            "text/plain": [
              "['b', 'd']"
            ]
          },
          "metadata": {},
          "execution_count": 38
        }
      ]
    },
    {
      "cell_type": "markdown",
      "source": [
        "Non specificare il primo parametro significa partire dall'elemento 0, omettere il secondo significa procedere fino all'ultimo (compreso) e non specificare il passo significa passo 1: non saltare nessun elemento."
      ],
      "metadata": {
        "id": "Rm-4oAaOGvIL"
      }
    },
    {
      "cell_type": "markdown",
      "source": [
        "La funzione range(n) restituisce un iterabile lungo n. In python è generalmente usata nel ciclo for."
      ],
      "metadata": {
        "id": "b6PzabLwIH1d"
      }
    },
    {
      "cell_type": "code",
      "source": [
        "for i in range(5):\n",
        "  print(i)"
      ],
      "metadata": {
        "colab": {
          "base_uri": "https://localhost:8080/"
        },
        "id": "fdFx5oZPIaf5",
        "outputId": "c12df608-b423-48bc-e5ec-a9e2a53a269a"
      },
      "execution_count": 28,
      "outputs": [
        {
          "output_type": "stream",
          "name": "stdout",
          "text": [
            "0\n",
            "1\n",
            "2\n",
            "3\n",
            "4\n"
          ]
        }
      ]
    },
    {
      "cell_type": "markdown",
      "source": [
        "# Variabili aleatorie discrete"
      ],
      "metadata": {
        "id": "gQTrf-PK7FxE"
      }
    },
    {
      "cell_type": "markdown",
      "source": [
        "Una variabile aleatoria X si dice discreta se i valori che assume sono finiti oppure numerabili.\n",
        "\n",
        "Nel caso siano numerabili molto spesso potremo pensare che siano semplicmente i numeri interi, ma non vogliamo escludere anche casi in cui abbiamo dei valori non interi."
      ],
      "metadata": {
        "id": "f7tQYrZgLgm2"
      }
    },
    {
      "cell_type": "markdown",
      "source": [
        "##Esempio 1.1 \n",
        "Faccio 3 puntate sul rosso alla roulette puntando 10 euro per volta, qual è la probabilità di vincere più di un certo valore X?\n",
        "\n",
        "(Le vincite possibili sono valori finiti ed è quindi una variabile discreta)"
      ],
      "metadata": {
        "id": "wO2wYqZ-DSZF"
      }
    },
    {
      "cell_type": "code",
      "source": [
        "#funzione che genera una roulette simulata da un array lungo 37 di cui 18 valori contano come \"vittoria\"\n",
        "def mk_roulette():\n",
        "  ruota = np.zeros(37, dtype=np.bool)\n",
        "  ruota[1::2] = True\n",
        "  return ruota"
      ],
      "metadata": {
        "id": "4LJOZHxd810N"
      },
      "execution_count": 47,
      "outputs": []
    },
    {
      "cell_type": "code",
      "source": [
        "#simulo una singola partita alla roulette (1 o più puntate uguali) e, dato il portafogli di partenza, torno il nuovo conto\n",
        "def partita(ruota, giocate, puntata, portafogli):\n",
        "  while(giocate > 0):\n",
        "      giocate = giocate - 1\n",
        "      portafogli = portafogli - puntata #la puntata la considero sempre persa, in caso di vittoria vinco il doppio della puntata\n",
        "      if(ruota[np.random.randint(0, (37))]): #estraggo un elemento casuale della roulette e verifico se è rosso\n",
        "        portafogli = portafogli + (puntata * 2)\n",
        "  return portafogli  "
      ],
      "metadata": {
        "id": "fqGFfq_CT7Tv"
      },
      "execution_count": 48,
      "outputs": []
    },
    {
      "cell_type": "code",
      "source": [
        "@interact_manual(vincita=(0, 30))\n",
        "def roulette(vincita=0):\n",
        "  giocate = 3\n",
        "  puntata = 10\n",
        "  ruota = mk_roulette()\n",
        "  count = 0\n",
        "  for i in range(precisione):\n",
        "    portafogli = giocate * puntata\n",
        "    portafogli = partita(ruota, giocate, puntata, portafogli) #il portafogli viene aggiornato dopo aver simulato una partita\n",
        "    if((portafogli - 30) >= vincita): #se ho finito le 3 puntate con una vincita maggiore o uguale a quella sperata la aggiungo al conteggio\n",
        "      count = count + 1\n",
        "  return count / precisione "
      ],
      "metadata": {
        "colab": {
          "base_uri": "https://localhost:8080/",
          "height": 98,
          "referenced_widgets": [
            "642a1c28e058417d9d97653fe402de06",
            "5cb94f50f0b94ea79f10b909657d758a",
            "65274582808448a9b48dbe17ef03d47a",
            "0fb0e29ee4fc492c8590b0fe4063c1f6",
            "274d4a59422a41bc81de602579898653",
            "deb23917f4ba4699a9f59959e5393997",
            "76fc7190e8dc46a6b0ac2de7b59a67ca",
            "ececae0a6c514e2a837601a8d61d8784",
            "077ae70f34cb46698f5f72063e1d5ce1",
            "f923c679742e4704b70e30c47dc28b50"
          ]
        },
        "id": "w2ugmhMy_cfa",
        "outputId": "99c2cd4e-bdeb-47b3-ab88-54c4030beb2d"
      },
      "execution_count": 49,
      "outputs": [
        {
          "output_type": "display_data",
          "data": {
            "application/vnd.jupyter.widget-view+json": {
              "model_id": "642a1c28e058417d9d97653fe402de06",
              "version_minor": 0,
              "version_major": 2
            },
            "text/plain": [
              "interactive(children=(IntSlider(value=0, description='vincita', max=30), Button(description='Run Interact', st…"
            ]
          },
          "metadata": {}
        }
      ]
    },
    {
      "cell_type": "markdown",
      "source": [
        "##Esempio 1.2\n",
        "Dati il numero di puntate ed i soldi scommessi ogni volta, quanto mi dovrei aspettare di aver vinto alla fine? (risultato in euro)"
      ],
      "metadata": {
        "id": "tTOcRD2kD_zf"
      }
    },
    {
      "cell_type": "code",
      "source": [
        "@interact_manual(giocate=(1, 10), puntata=(5, 100, 5))\n",
        "def roulette(giocate = 3, puntata = 10):\n",
        "  portafogli = giocate * puntata * precisione\n",
        "  ruota = mk_roulette()\n",
        "  for i in range(precisione):\n",
        "    portafogli = partita(ruota, giocate, puntata, portafogli)\n",
        "  portafogli = portafogli / precisione\n",
        "  return round(portafogli - (giocate * puntata), 2)"
      ],
      "metadata": {
        "colab": {
          "base_uri": "https://localhost:8080/",
          "height": 130,
          "referenced_widgets": [
            "ceb63e8e897d417189d1e54902b7cbc7",
            "d6d3b2b526f3467cbef560055bd2a689",
            "eb61ac4af2a84dc98d7655c463c3ca9f",
            "9e66f5c9411e45f0aa1447bf5bfc7c86",
            "e5a1720b31694f8bb1c85f6d4914d3d7",
            "7d856b93a00b4d3c99e622b4a174aa2d",
            "3a556d509713472b90644a9989c1ab9c",
            "58114b63625c442885b670c8e2ae0c29",
            "d1badff2876149d98eaf647c64ca622b",
            "85de916f48e444bfbc69c158d4d0d9a7",
            "d1d5e446991642ac8db9589e6f555224",
            "e70a7c7242a9479da74f40158797c352",
            "67bfc6ddd2a04796871c95cdced7c225"
          ]
        },
        "id": "TR8QkEnHD-B2",
        "outputId": "bc2293f3-b6a7-4429-cbc1-0b25da327557"
      },
      "execution_count": 50,
      "outputs": [
        {
          "output_type": "display_data",
          "data": {
            "application/vnd.jupyter.widget-view+json": {
              "model_id": "ceb63e8e897d417189d1e54902b7cbc7",
              "version_minor": 0,
              "version_major": 2
            },
            "text/plain": [
              "interactive(children=(IntSlider(value=3, description='giocate', max=10, min=1), IntSlider(value=10, descriptio…"
            ]
          },
          "metadata": {}
        }
      ]
    },
    {
      "cell_type": "markdown",
      "source": [
        "# Distribuzione uniforme e non uniforme"
      ],
      "metadata": {
        "id": "qBnKgfwaLT9x"
      }
    },
    {
      "cell_type": "markdown",
      "source": [
        "Sia A = {x1, . . . , xn}; una variabile X che assume i valori in A tutti con la stessa probabilità $\\frac{1}{n}$\n",
        "si dice _variabile uniforme_ su A. Scriviamo in questo caso X ∼ U(A) oppure X ∼ U(x1, . . . , xn).\n",
        "La densità è quindi:\n",
        "\n",
        "\\begin{equation}\n",
        "  px(h) =\n",
        "    \\begin{cases}\n",
        "          1/n \\ se \\  h  \\ ∈ \\ ({x1}, {x2}, ..., {xn})\n",
        "          \\\\\n",
        "          0 \\ altrimenti\n",
        "        \\end{cases}\n",
        "\\end{equation}"
      ],
      "metadata": {
        "id": "GUQzPwZ8NK0Q"
      }
    },
    {
      "cell_type": "markdown",
      "source": [
        "##Esempio 2.1 \n",
        "Nel lancio di un dado sia Ω = {1, 2, 3, 4, 5, 6} l’insieme dei possibili risultati.\n",
        "Allora la funzione X(n) = n per ogni n ∈ Ω è una variabile aleatoria uniforme X ∼ U(1, 2, 3, 4, 5, 6).\n"
      ],
      "metadata": {
        "id": "HJrqw0EbXj2l"
      }
    },
    {
      "cell_type": "code",
      "source": [
        "#ritorna un intero compreso tra 1 e 6\n",
        "def trow():\n",
        "  return np.random.randint(1, 7)"
      ],
      "metadata": {
        "id": "O7NiHEewS99d"
      },
      "execution_count": null,
      "outputs": []
    },
    {
      "cell_type": "code",
      "source": [
        "def dice():\n",
        "  results = []\n",
        "  for i in range(precisione):\n",
        "    results.append(trow()) #aggiungo il risultato del tiro alla lista dei risultati\n",
        "  elem_count = []\n",
        "  for i in range(6): #conto le istanze di ogni risultato ottenuto ed aggiungo i totali a elem_count, poi lo metto a grafico\n",
        "    elem_count.append(results.count(i+1))\n",
        "  plt.bar(range(1, 7), elem_count)\n",
        "  plt.title(\"Numero di volte ottenuto ciascun risultato\")\n",
        "dice()"
      ],
      "metadata": {
        "colab": {
          "base_uri": "https://localhost:8080/",
          "height": 281
        },
        "id": "pO1ExmtATCeI",
        "outputId": "c8fb0214-9b22-4a66-cdd0-7486362fb4d7"
      },
      "execution_count": null,
      "outputs": [
        {
          "output_type": "display_data",
          "data": {
            "image/png": "[encoded data removed]",
            "text/plain": [
              "<Figure size 432x288 with 1 Axes>"
            ]
          },
          "metadata": {
            "needs_background": "light"
          }
        }
      ]
    },
    {
      "cell_type": "markdown",
      "source": [
        "##Esempio 2.2\n",
        "Se invece lanciassimo due dadi, la variabile X che assume un valore corrispondente al numero di risultati pari ottenuti dal lancio sarebbe una _variabile non uniforme_ siccome la sua densità sarebbe:\n",
        "\n",
        "\\begin{equation}\n",
        "  py(h) =\n",
        "    \\begin{cases}\n",
        "          1/4 \\  h={0},{2}\n",
        "          \\\\\n",
        "          1/2 \\ h={1}\n",
        "          \\\\\n",
        "          0 \\ altrimenti\n",
        "        \\end{cases}\n",
        "\\end{equation}"
      ],
      "metadata": {
        "id": "BZUNA1OvaQp6"
      }
    },
    {
      "cell_type": "code",
      "source": [
        "def even_dices():\n",
        "  results = []\n",
        "  for i in range(precisione):\n",
        "    a, b = trow(), trow() #lancio due dadi, poi conterò quanti sono pari per aggiungere il risultato alla lista\n",
        "    results.append(2-((a % 2)+(b % 2))) #conto i dadi pari come due meno i dadi dispari (n%2 = 1 per n dispari, 0 altrimenti)\n",
        "  valori = []\n",
        "  normalized = []\n",
        "  for i in range(3): #conto le istanze dei risultati e le divido per il numero di risultati totale (normalizzo)\n",
        "    normalized.append(results.count(i) / len(results)) #len(results) torna la lunghezza della lista results\n",
        "    valori.append(str(i))\n",
        "  plt.pie(normalized, labels=valori)\n",
        "even_dices()"
      ],
      "metadata": {
        "colab": {
          "base_uri": "https://localhost:8080/",
          "height": 248
        },
        "id": "Ly_UKZkxZr2J",
        "outputId": "081a2995-7302-484e-a3cf-6142522532d1"
      },
      "execution_count": null,
      "outputs": [
        {
          "output_type": "display_data",
          "data": {
            "image/png": "[encoded data removed]",
            "text/plain": [
              "<Figure size 432x288 with 1 Axes>"
            ]
          },
          "metadata": {}
        }
      ]
    },
    {
      "cell_type": "markdown",
      "source": [
        "#Densità binomiale"
      ],
      "metadata": {
        "id": "qimeQspadWgq"
      }
    },
    {
      "cell_type": "markdown",
      "source": [
        "Consideriamo un fenomeno aleatorio e un certo evento ad esso associato. Per semplicità diciamo che se l’evento si realizza otteniamo un “successo”, viceversa che abbiamo ottenuto un “insuccesso\".\n",
        "Uno schema successo-insuccesso consiste nel ripetere questo fenomeno un certo fissato numero di volte, dette anche prove o tentativi, in cui siamo interessati unicamente al numero di successi ottenuti\n",
        "nelle varie prove.\n",
        "Supponiamo ora che le prove siano indipendenti l’una dall’altra, cioè vengono effettuate tuttevnelle medesime condizioni, indipendentemente dal risultato delle prove precedenti: parliamo in questo caso di schema successo-insuccesso con ripetizione o a prove indipendenti. Consideriamo\n",
        "quindi la variabile X data dal numero di successi in n tentativi.\n",
        "Nel caso in cui le prove siano indipendenti l’una dall’altra, la probabilità di ottenere una certa prefissata sequenza di successi e insuccessi dipende solo dal numero di questi ultimi e non dall’ordine con cui vogliamo che si succedano. La probabilità di ottenere una sequenza fissata in cui abbiamo k successi e n − k insuccessi è data da\n",
        "$p^k(1-p)^{n-k}$, dove p è la probabilità che ogni singolo tentativo abbia successo. Siccome i modi in cui possiamo scegliere le k posizioni per i successi sono date da ${n\\choose k}$ otteniamo per la variabile X la densità data da\n",
        "\n",
        "\\begin{equation}\n",
        "  px(k) =\n",
        "    \\begin{cases}\n",
        "          {n\\choose k} p^k(1-p)^{n-k} \\ se \\ k=1,2,...,n\n",
        "          \\\\\n",
        "          0 \\ altrimenti\n",
        "        \\end{cases}\n",
        "\\end{equation}\n",
        "\n",
        "\n",
        "Scriveremo in questo caso X ∼ B(n, p) e diciamo che X è una variabile binomiale."
      ],
      "metadata": {
        "id": "OUh7jiOk7WSD"
      }
    },
    {
      "cell_type": "markdown",
      "source": [
        "##Esempio 3.1\n",
        "\n",
        "Supponiamo di andare al casinò con 15 Euro e puntiamo 3 volte 5 Euro alla roulette sul rosso. Consideriamo la variabile aleatoria X data dai soldi che abbiamo in tasca alla fine delle 3 puntate. La probabilità di ottenere un numero rosso è di $\\frac{18}{37}$ ad ogni tentativo.\n",
        "Determinare la densità di X.\n",
        "La variabile X può assumere i valori 30, 20, 10, 0 a seconda di quanti rossi sono usciti. Abbiamo:\n",
        "\n",
        "P(X = 30) = $(\\frac{18}{37})^3$ = 0,115\n",
        "\n",
        "P(X = 20) = ${3\\choose 1}(\\frac{18}{37})^2 · \\frac{19}{37}$= 0, 365\n",
        "\n",
        "P(X = 10) = ${3\\choose 2}(\\frac{18}{37}) · (\\frac{19}{37})^2$ = 0,385\n",
        "\n",
        "P(X = 0) = $(\\frac{19}{37})^3$ = 0,135\n"
      ],
      "metadata": {
        "id": "O8PjzahWhrRr"
      }
    },
    {
      "cell_type": "code",
      "source": [
        "@interact_manual(giocate=(1, 6), puntata=(5, 100, 5))\n",
        "def roulette(giocate = 3, puntata = 5):\n",
        "  ruota = mk_roulette()\n",
        "  results = []\n",
        "  for i in range(precisione):\n",
        "    portafogli = giocate * puntata\n",
        "    portafogli = partita(ruota, giocate, puntata, portafogli)\n",
        "    results.append(portafogli)\n",
        "  normalized = []\n",
        "  valori = []\n",
        "  for i in range(giocate):\n",
        "    normalized.append(round(((results.count(puntata*2*i) / precisione) * 100), 2))\n",
        "  normalized.append(round(100 - sum(normalized), 2))\n",
        "  legenda = []\n",
        "  for i in range(len(normalized)):\n",
        "    valori.append(str(normalized[i]) + \"%\")\n",
        "    legenda.append(str(puntata*2*i))\n",
        "  plt.pie(normalized, labels=valori)\n",
        "  plt.legend(legenda,loc='upper center', bbox_to_anchor=(0.5, -0.05),\n",
        "          fancybox=True, shadow=True, ncol=5)"
      ],
      "metadata": {
        "colab": {
          "base_uri": "https://localhost:8080/",
          "height": 378,
          "referenced_widgets": [
            "33aaba900a5343b9a65d4c1533fd59cb",
            "a3707720ec554b33b9586320784e8df3",
            "35056a371ad34ebb8fb6b80590a292f9",
            "f7305df1dd50497db1af9fb040e45c97",
            "ad01cc2b98774753bb5a570e987ab6df",
            "bcec06d581354124a3036d6cc4c2fdbb",
            "c51189dab2714b459031422c5061b38b",
            "c5ccf70ed4d64a2094e5fc8aa599d6ed",
            "3396993d18904ea2944dd9d84cf9a761",
            "4ac80df7afee4e1daca49e93238b6f14",
            "293f2fcbd9674eb7a7f0a90c18955cf5",
            "1f30bcf04edd49eaac44563cb565fb31",
            "201241f1001e45e8b553f329f8fc0309"
          ]
        },
        "id": "goQLULHOEVdX",
        "outputId": "4722a434-97b0-4642-845b-55ba516ef776"
      },
      "execution_count": 51,
      "outputs": [
        {
          "output_type": "display_data",
          "data": {
            "application/vnd.jupyter.widget-view+json": {
              "model_id": "33aaba900a5343b9a65d4c1533fd59cb",
              "version_minor": 0,
              "version_major": 2
            },
            "text/plain": [
              "interactive(children=(IntSlider(value=3, description='giocate', max=6, min=1), IntSlider(value=5, description=…"
            ]
          },
          "metadata": {}
        }
      ]
    },
    {
      "cell_type": "markdown",
      "source": [
        "# Densità ipergeometrica"
      ],
      "metadata": {
        "id": "9PjQr8MmCUYu"
      }
    },
    {
      "cell_type": "markdown",
      "source": [
        "\n",
        "Un altro tipo di schema successo-insuccesso è il cosiddetto schema successo-insuccesso _senza ripetizione_. In questo caso il fenomeno aleatorio consiste nell’estrazione di n palline, senza rimpiazzare di volta in volta la pallina estratta, da un'urna contenente b palline bianche e r palline rosse.\n",
        "Diciamo che la prova (estrazione) dà successo se viene estratta una pallina bianca e consideriamo la variabile X data dal numero di successi ottenuti, cioè dal numero di palline bianche estratte.\n",
        "\n",
        "\n",
        "Osserviamo che X può assumere tutti i valori tra max(0, n − r) e min(n, b): infatti se n > r siamo sicuri di pescare almeno n−r palline bianche e chiaramente il numero di bianche estratte non può superare nè il numero estrazioni nè il numero di palline bianche.\n",
        "\n",
        "Lo spazio Ω è dato da tutti i possibili sottoinsiemi di n oggetti (le palline estratte) scelti da un insieme di b + r oggetti (le palline\n",
        "disponibili), con probabilità uniforme. L’evento “X = k” è dato quindi da tutti i sottoinsiemi delle b + r palline costituiti da k palline bianche e n − k palline rosse. Le k bianche le posso scegliere in ${b\\choose k}$ modi. Le n − k rosse in ${r \\choose {n - k}}$ modi. Abbiamo quindi che la densità di X è data da\n",
        "\n",
        "\\begin{equation}\n",
        "  px(k) =\n",
        "    \\begin{cases}\n",
        "          \\frac{{b \\choose k} · {r \\choose n - k}}{b + r \\choose n} \\ se \\ k=max(0, n-r),...,min(n,b)\n",
        "          \\\\\n",
        "          0 \\ altrimenti\n",
        "        \\end{cases}\n",
        "\\end{equation}\n",
        "\n",
        "Scriviamo in questo caso X ∼ H(n; b, r) e diciamo che X è una variabile ipergeometrica."
      ],
      "metadata": {
        "id": "OnLdbdQjCbyl"
      }
    },
    {
      "cell_type": "markdown",
      "source": [
        "#Esempio 4.1\n",
        "Un’urna contiene 8 palline bianche e 2 rosse. Ne estraiamo 3 senza rimpiazzo.\n",
        "Qual è la probabilità di estrarne al più una rossa? In questo caso, a differenza del precedente abbiamo che la variabile X = numero di rosse estratte è una ipergeometrica X ∼ H(3; 2, 8) per\n",
        "cui\n",
        "\n",
        "P(X ≤ 1) = P(X = 0) + P(X = 1) = $\\frac{{2 \\choose 0}·{8 \\choose 3}}{10 \\choose 3}$ + $\\frac{{2 \\choose 1}·{8 \\choose 2}}{10 \\choose 3}$ = $\\frac{14}{15}$ = 0.933"
      ],
      "metadata": {
        "id": "mqqc2UiZGaIY"
      }
    },
    {
      "cell_type": "code",
      "source": [
        "#funzione che ritorna un'urna contenente \n",
        "def mk_urna(bianche, rosse):\n",
        "  tot = bianche + rosse\n",
        "  urna = np.zeros((tot, 1), dtype=np.bool)\n",
        "  while(rosse > 0):\n",
        "    rnd = np.random.randint(0, (tot))\n",
        "    if (not urna[rnd]):\n",
        "      urna[rnd] = True\n",
        "      rosse = rosse - 1\n",
        "  return urna"
      ],
      "metadata": {
        "id": "R06bqIr8Ii4G"
      },
      "execution_count": 10,
      "outputs": []
    },
    {
      "cell_type": "code",
      "source": [
        "@interact_manual(estrazioni=(1, 10))\n",
        "def prova(estrazioni=3):\n",
        "  bianche = 8\n",
        "  rosse = 2\n",
        "  urna = mk_urna(bianche, rosse)\n",
        "  results = 0\n",
        "  for i in range(precisione):\n",
        "    tmp = urna\n",
        "    count = 0\n",
        "    for i in range(estrazioni):\n",
        "      extr = np.random.randint(0, ((bianche + rosse)-i))\n",
        "      if(tmp[extr]):\n",
        "        count = count + 1\n",
        "      tmp = np.delete(tmp, extr)\n",
        "    if(count < 2):\n",
        "      results = results + 1  \n",
        "  return results / precisione"
      ],
      "metadata": {
        "id": "R0SjK_tkMtDv",
        "colab": {
          "base_uri": "https://localhost:8080/",
          "height": 98,
          "referenced_widgets": [
            "fc97658300c74055aedc4c289e82473c",
            "a753a5d8d7884e2587cc299c80e7a87e",
            "d4475edf3d7d439eab3184d91ac8b173",
            "346a23bb167741599ef44595c4ff4218",
            "12a9ce5106df4c1086506292afc75903",
            "396ac4cf4072460589f7fd4432427918",
            "22de8cf8c1ec482a849402da3ca4869a",
            "571c93c92c564d5cb275658fc4f5440f",
            "0049d04348db453f9d4943d4adac9bbf",
            "6ba725ac97634f34b7efa9bf76c8376a"
          ]
        },
        "outputId": "ef90effc-32f2-4a54-9efe-d87043110495"
      },
      "execution_count": 11,
      "outputs": [
        {
          "output_type": "display_data",
          "data": {
            "application/vnd.jupyter.widget-view+json": {
              "model_id": "fc97658300c74055aedc4c289e82473c",
              "version_minor": 0,
              "version_major": 2
            },
            "text/plain": [
              "interactive(children=(IntSlider(value=3, description='estrazioni', max=10, min=1), Button(description='Run Int…"
            ]
          },
          "metadata": {}
        }
      ]
    },
    {
      "cell_type": "markdown",
      "source": [
        "#Densità geometrica"
      ],
      "metadata": {
        "id": "-GtoecXjUH1e"
      }
    },
    {
      "cell_type": "markdown",
      "source": [
        "In uno schema successo-insuccesso, anzichè al numero di successi ottenuti su n tentativi, potremmo essere interessati al numero di tentativi che devo effettuare prima di ottenere un successo."
      ],
      "metadata": {
        "id": "YBirGuNoUKbB"
      }
    },
    {
      "cell_type": "markdown",
      "source": [
        "##Esempio 5.1\n",
        "\n",
        "Consideriamo un’urna con 2 palline bianche e 3 rosse. Le estraggo senza\n",
        "rimpiazzo finchè non trovo una pallina rossa. Considero la variabile aleatoria X=numero di estrazioni per trovare una pallina rossa. X è una variabile finita in quanto assume solo i valori 1, 2, 3.\n",
        "La sua densità si determina facilmente ed è data da\n",
        "\n",
        "\\begin{equation}\n",
        "  px(k) =\n",
        "    \\begin{cases}\n",
        "          \\frac{6}{10} \\ se \\ k=1\n",
        "          \\\\\n",
        "          \\frac{3}{10} \\ se \\ k=2\n",
        "          \\\\\n",
        "          \\frac{1}{10} \\ se \\ k=3\n",
        "          \\\\\n",
        "          0 \\ altrimenti\n",
        "        \\end{cases}\n",
        "\\end{equation}\n",
        "\n"
      ],
      "metadata": {
        "id": "aXX1PJQLUX9Z"
      }
    },
    {
      "cell_type": "code",
      "source": [
        "@interact_manual(bianche=(1,5), rosse=(1, 5))\n",
        "def prova(bianche=2, rosse=3):\n",
        "  palle = mk_urna(bianche, rosse)\n",
        "  results = []\n",
        "  count=0\n",
        "  while(len(results) < precisione):\n",
        "    done = len(results)\n",
        "    tmp = palle\n",
        "    while(len(results) == done):\n",
        "      extr = np.random.randint(0, ((bianche+rosse)-count))\n",
        "      if(tmp[extr]):\n",
        "        results.append(count)\n",
        "        count=0\n",
        "      else:\n",
        "        tmp = np.delete(tmp,extr)\n",
        "        count = count + 1\n",
        "  normalized = []\n",
        "  for i in range(1, bianche + 1):\n",
        "    normalized.append(round(((results.count(i-1) / precisione) * 100), 2))\n",
        "  normalized.append(round(100 - sum(normalized), 2))\n",
        "  valori = []\n",
        "  legenda = []\n",
        "  for i in range(len(normalized)):\n",
        "    valori.append(str(normalized[i]) + \"%\")\n",
        "    legenda.append(str(i + 1))\n",
        "  plt.pie(normalized, labels=valori)\n",
        "  plt.legend(legenda,loc='upper center', bbox_to_anchor=(0.5, -0.05),\n",
        "          fancybox=True, shadow=True, ncol=5)"
      ],
      "metadata": {
        "colab": {
          "base_uri": "https://localhost:8080/",
          "height": 378,
          "referenced_widgets": [
            "b269d43f3290429db710c98cf2de2e2e",
            "30fbee7b688b46309bdb821e078c89b9",
            "2278d054d17146dba9662d7cd11cb1a4",
            "b3d11d9ea6334991a9c9f9e831521cd8",
            "6c050fb3123b4dad9f85e9096ff3a8ca",
            "dfbeb527927e405ea007c80c5827c453",
            "17865be8f09b485a8ba812080222efaf",
            "dba10763e6604889b9b143cbb22f2ff0",
            "8c96b53cb51240c4ae04572a4400aac5",
            "f049a3b8b5464b8ba87a67b2f06a3663",
            "2dbe1965e23c4267b9aa802d8833f13b",
            "bbdbead51a914ee5a2dbb09222349d2d",
            "a04be8c8ea234ea5962ad1b5dff76960"
          ]
        },
        "id": "R1K7mcScJAJs",
        "outputId": "08f7f959-5d03-41cb-bf1a-51b581585432"
      },
      "execution_count": 18,
      "outputs": [
        {
          "output_type": "display_data",
          "data": {
            "application/vnd.jupyter.widget-view+json": {
              "model_id": "b269d43f3290429db710c98cf2de2e2e",
              "version_minor": 0,
              "version_major": 2
            },
            "text/plain": [
              "interactive(children=(IntSlider(value=2, description='bianche', max=5, min=1), IntSlider(value=3, description=…"
            ]
          },
          "metadata": {}
        }
      ]
    },
    {
      "cell_type": "code",
      "source": [
        ""
      ],
      "metadata": {
        "id": "5AVSJvp3XYQz"
      },
      "execution_count": null,
      "outputs": []
    }
  ]
}