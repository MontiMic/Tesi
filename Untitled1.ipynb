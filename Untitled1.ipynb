{
  "nbformat": 4,
  "nbformat_minor": 0,
  "metadata": {
    "colab": {
      "name": "Untitled1.ipynb",
      "provenance": [],
      "toc_visible": true,
      "collapsed_sections": [],
      "authorship_tag": "ABX9TyN0i0od2g8Jnq5c2/u0DXs3",
      "include_colab_link": true
    },
    "kernelspec": {
      "name": "python3",
      "display_name": "Python 3"
    },
    "language_info": {
      "name": "python"
    },
    "widgets": {
      "application/vnd.jupyter.widget-state+json": {
        "2e1978d7638849d1aa77f86242786443": {
          "model_module": "@jupyter-widgets/controls",
          "model_name": "VBoxModel",
          "model_module_version": "1.5.0",
          "state": {
            "_view_name": "VBoxView",
            "_dom_classes": [
              "widget-interact"
            ],
            "_model_name": "VBoxModel",
            "_view_module": "@jupyter-widgets/controls",
            "_model_module_version": "1.5.0",
            "_view_count": null,
            "_view_module_version": "1.5.0",
            "box_style": "",
            "layout": "IPY_MODEL_28941255396b48e68538355c3525f0df",
            "_model_module": "@jupyter-widgets/controls",
            "children": [
              "IPY_MODEL_167d4eaa5c134a16900cd85280082cef",
              "IPY_MODEL_4f9bcb995acf4c7981da284c15123a91",
              "IPY_MODEL_c2d9c180d9944ebaa1feab112dc96b6e"
            ]
          }
        },
        "28941255396b48e68538355c3525f0df": {
          "model_module": "@jupyter-widgets/base",
          "model_name": "LayoutModel",
          "model_module_version": "1.2.0",
          "state": {
            "_view_name": "LayoutView",
            "grid_template_rows": null,
            "right": null,
            "justify_content": null,
            "_view_module": "@jupyter-widgets/base",
            "overflow": null,
            "_model_module_version": "1.2.0",
            "_view_count": null,
            "flex_flow": null,
            "width": null,
            "min_width": null,
            "border": null,
            "align_items": null,
            "bottom": null,
            "_model_module": "@jupyter-widgets/base",
            "top": null,
            "grid_column": null,
            "overflow_y": null,
            "overflow_x": null,
            "grid_auto_flow": null,
            "grid_area": null,
            "grid_template_columns": null,
            "flex": null,
            "_model_name": "LayoutModel",
            "justify_items": null,
            "grid_row": null,
            "max_height": null,
            "align_content": null,
            "visibility": null,
            "align_self": null,
            "height": null,
            "min_height": null,
            "padding": null,
            "grid_auto_rows": null,
            "grid_gap": null,
            "max_width": null,
            "order": null,
            "_view_module_version": "1.2.0",
            "grid_template_areas": null,
            "object_position": null,
            "object_fit": null,
            "grid_auto_columns": null,
            "margin": null,
            "display": null,
            "left": null
          }
        },
        "167d4eaa5c134a16900cd85280082cef": {
          "model_module": "@jupyter-widgets/controls",
          "model_name": "IntSliderModel",
          "model_module_version": "1.5.0",
          "state": {
            "_view_name": "IntSliderView",
            "style": "IPY_MODEL_bf7ca2fd465744369df06223bb41614f",
            "_dom_classes": [],
            "description": "vincita",
            "step": 1,
            "_model_name": "IntSliderModel",
            "orientation": "horizontal",
            "max": 30,
            "_view_module": "@jupyter-widgets/controls",
            "_model_module_version": "1.5.0",
            "value": 5,
            "_view_count": null,
            "disabled": false,
            "_view_module_version": "1.5.0",
            "min": 0,
            "continuous_update": true,
            "readout_format": "d",
            "description_tooltip": null,
            "readout": true,
            "_model_module": "@jupyter-widgets/controls",
            "layout": "IPY_MODEL_f4dce39c95ca4eacb0304d0d7e201876"
          }
        },
        "4f9bcb995acf4c7981da284c15123a91": {
          "model_module": "@jupyter-widgets/controls",
          "model_name": "ButtonModel",
          "model_module_version": "1.5.0",
          "state": {
            "_view_name": "ButtonView",
            "style": "IPY_MODEL_96c169b82f0640f4b9ffcf64270fa427",
            "_dom_classes": [],
            "description": "Run Interact",
            "_model_name": "ButtonModel",
            "button_style": "",
            "_view_module": "@jupyter-widgets/controls",
            "_model_module_version": "1.5.0",
            "tooltip": "",
            "_view_count": null,
            "disabled": false,
            "_view_module_version": "1.5.0",
            "layout": "IPY_MODEL_429eaf29a22245fca0b0fdeba02f2914",
            "_model_module": "@jupyter-widgets/controls",
            "icon": ""
          }
        },
        "c2d9c180d9944ebaa1feab112dc96b6e": {
          "model_module": "@jupyter-widgets/output",
          "model_name": "OutputModel",
          "model_module_version": "1.0.0",
          "state": {
            "_view_name": "OutputView",
            "msg_id": "",
            "_dom_classes": [],
            "_model_name": "OutputModel",
            "outputs": [],
            "_view_module": "@jupyter-widgets/output",
            "_model_module_version": "1.0.0",
            "_view_count": null,
            "_view_module_version": "1.0.0",
            "layout": "IPY_MODEL_2b6f5c0cbc8e4b25a915144e4b231dce",
            "_model_module": "@jupyter-widgets/output"
          }
        },
        "bf7ca2fd465744369df06223bb41614f": {
          "model_module": "@jupyter-widgets/controls",
          "model_name": "SliderStyleModel",
          "model_module_version": "1.5.0",
          "state": {
            "_view_name": "StyleView",
            "handle_color": null,
            "_model_name": "SliderStyleModel",
            "description_width": "",
            "_view_module": "@jupyter-widgets/base",
            "_model_module_version": "1.5.0",
            "_view_count": null,
            "_view_module_version": "1.2.0",
            "_model_module": "@jupyter-widgets/controls"
          }
        },
        "f4dce39c95ca4eacb0304d0d7e201876": {
          "model_module": "@jupyter-widgets/base",
          "model_name": "LayoutModel",
          "model_module_version": "1.2.0",
          "state": {
            "_view_name": "LayoutView",
            "grid_template_rows": null,
            "right": null,
            "justify_content": null,
            "_view_module": "@jupyter-widgets/base",
            "overflow": null,
            "_model_module_version": "1.2.0",
            "_view_count": null,
            "flex_flow": null,
            "width": null,
            "min_width": null,
            "border": null,
            "align_items": null,
            "bottom": null,
            "_model_module": "@jupyter-widgets/base",
            "top": null,
            "grid_column": null,
            "overflow_y": null,
            "overflow_x": null,
            "grid_auto_flow": null,
            "grid_area": null,
            "grid_template_columns": null,
            "flex": null,
            "_model_name": "LayoutModel",
            "justify_items": null,
            "grid_row": null,
            "max_height": null,
            "align_content": null,
            "visibility": null,
            "align_self": null,
            "height": null,
            "min_height": null,
            "padding": null,
            "grid_auto_rows": null,
            "grid_gap": null,
            "max_width": null,
            "order": null,
            "_view_module_version": "1.2.0",
            "grid_template_areas": null,
            "object_position": null,
            "object_fit": null,
            "grid_auto_columns": null,
            "margin": null,
            "display": null,
            "left": null
          }
        },
        "96c169b82f0640f4b9ffcf64270fa427": {
          "model_module": "@jupyter-widgets/controls",
          "model_name": "ButtonStyleModel",
          "model_module_version": "1.5.0",
          "state": {
            "_view_name": "StyleView",
            "_model_name": "ButtonStyleModel",
            "_view_module": "@jupyter-widgets/base",
            "_model_module_version": "1.5.0",
            "_view_count": null,
            "button_color": null,
            "font_weight": "",
            "_view_module_version": "1.2.0",
            "_model_module": "@jupyter-widgets/controls"
          }
        },
        "429eaf29a22245fca0b0fdeba02f2914": {
          "model_module": "@jupyter-widgets/base",
          "model_name": "LayoutModel",
          "model_module_version": "1.2.0",
          "state": {
            "_view_name": "LayoutView",
            "grid_template_rows": null,
            "right": null,
            "justify_content": null,
            "_view_module": "@jupyter-widgets/base",
            "overflow": null,
            "_model_module_version": "1.2.0",
            "_view_count": null,
            "flex_flow": null,
            "width": null,
            "min_width": null,
            "border": null,
            "align_items": null,
            "bottom": null,
            "_model_module": "@jupyter-widgets/base",
            "top": null,
            "grid_column": null,
            "overflow_y": null,
            "overflow_x": null,
            "grid_auto_flow": null,
            "grid_area": null,
            "grid_template_columns": null,
            "flex": null,
            "_model_name": "LayoutModel",
            "justify_items": null,
            "grid_row": null,
            "max_height": null,
            "align_content": null,
            "visibility": null,
            "align_self": null,
            "height": null,
            "min_height": null,
            "padding": null,
            "grid_auto_rows": null,
            "grid_gap": null,
            "max_width": null,
            "order": null,
            "_view_module_version": "1.2.0",
            "grid_template_areas": null,
            "object_position": null,
            "object_fit": null,
            "grid_auto_columns": null,
            "margin": null,
            "display": null,
            "left": null
          }
        },
        "2b6f5c0cbc8e4b25a915144e4b231dce": {
          "model_module": "@jupyter-widgets/base",
          "model_name": "LayoutModel",
          "model_module_version": "1.2.0",
          "state": {
            "_view_name": "LayoutView",
            "grid_template_rows": null,
            "right": null,
            "justify_content": null,
            "_view_module": "@jupyter-widgets/base",
            "overflow": null,
            "_model_module_version": "1.2.0",
            "_view_count": null,
            "flex_flow": null,
            "width": null,
            "min_width": null,
            "border": null,
            "align_items": null,
            "bottom": null,
            "_model_module": "@jupyter-widgets/base",
            "top": null,
            "grid_column": null,
            "overflow_y": null,
            "overflow_x": null,
            "grid_auto_flow": null,
            "grid_area": null,
            "grid_template_columns": null,
            "flex": null,
            "_model_name": "LayoutModel",
            "justify_items": null,
            "grid_row": null,
            "max_height": null,
            "align_content": null,
            "visibility": null,
            "align_self": null,
            "height": null,
            "min_height": null,
            "padding": null,
            "grid_auto_rows": null,
            "grid_gap": null,
            "max_width": null,
            "order": null,
            "_view_module_version": "1.2.0",
            "grid_template_areas": null,
            "object_position": null,
            "object_fit": null,
            "grid_auto_columns": null,
            "margin": null,
            "display": null,
            "left": null
          }
        },
        "747ec6497f9743bbb010475b861d8f49": {
          "model_module": "@jupyter-widgets/controls",
          "model_name": "VBoxModel",
          "model_module_version": "1.5.0",
          "state": {
            "_view_name": "VBoxView",
            "_dom_classes": [
              "widget-interact"
            ],
            "_model_name": "VBoxModel",
            "_view_module": "@jupyter-widgets/controls",
            "_model_module_version": "1.5.0",
            "_view_count": null,
            "_view_module_version": "1.5.0",
            "box_style": "",
            "layout": "IPY_MODEL_a5276d37aec34f069f13859319584287",
            "_model_module": "@jupyter-widgets/controls",
            "children": [
              "IPY_MODEL_1833ce5f4d444917b036cd8a661d3b92",
              "IPY_MODEL_6a14cf3461344a0ab897c4ea77b84e2e",
              "IPY_MODEL_7780536708e14e7ca2153dea6ff2d621",
              "IPY_MODEL_8ce4c1d541db441585044317dcf5bdad"
            ]
          }
        },
        "a5276d37aec34f069f13859319584287": {
          "model_module": "@jupyter-widgets/base",
          "model_name": "LayoutModel",
          "model_module_version": "1.2.0",
          "state": {
            "_view_name": "LayoutView",
            "grid_template_rows": null,
            "right": null,
            "justify_content": null,
            "_view_module": "@jupyter-widgets/base",
            "overflow": null,
            "_model_module_version": "1.2.0",
            "_view_count": null,
            "flex_flow": null,
            "width": null,
            "min_width": null,
            "border": null,
            "align_items": null,
            "bottom": null,
            "_model_module": "@jupyter-widgets/base",
            "top": null,
            "grid_column": null,
            "overflow_y": null,
            "overflow_x": null,
            "grid_auto_flow": null,
            "grid_area": null,
            "grid_template_columns": null,
            "flex": null,
            "_model_name": "LayoutModel",
            "justify_items": null,
            "grid_row": null,
            "max_height": null,
            "align_content": null,
            "visibility": null,
            "align_self": null,
            "height": null,
            "min_height": null,
            "padding": null,
            "grid_auto_rows": null,
            "grid_gap": null,
            "max_width": null,
            "order": null,
            "_view_module_version": "1.2.0",
            "grid_template_areas": null,
            "object_position": null,
            "object_fit": null,
            "grid_auto_columns": null,
            "margin": null,
            "display": null,
            "left": null
          }
        },
        "1833ce5f4d444917b036cd8a661d3b92": {
          "model_module": "@jupyter-widgets/controls",
          "model_name": "IntSliderModel",
          "model_module_version": "1.5.0",
          "state": {
            "_view_name": "IntSliderView",
            "style": "IPY_MODEL_0f6bf43ab764458eb746c84afc8333b7",
            "_dom_classes": [],
            "description": "giocate",
            "step": 1,
            "_model_name": "IntSliderModel",
            "orientation": "horizontal",
            "max": 10,
            "_view_module": "@jupyter-widgets/controls",
            "_model_module_version": "1.5.0",
            "value": 3,
            "_view_count": null,
            "disabled": false,
            "_view_module_version": "1.5.0",
            "min": 1,
            "continuous_update": true,
            "readout_format": "d",
            "description_tooltip": null,
            "readout": true,
            "_model_module": "@jupyter-widgets/controls",
            "layout": "IPY_MODEL_779f3c7d9e4d4e6dbd8e1b7848604876"
          }
        },
        "6a14cf3461344a0ab897c4ea77b84e2e": {
          "model_module": "@jupyter-widgets/controls",
          "model_name": "IntSliderModel",
          "model_module_version": "1.5.0",
          "state": {
            "_view_name": "IntSliderView",
            "style": "IPY_MODEL_1199365768ed4aa283d1db28008aa4a4",
            "_dom_classes": [],
            "description": "puntata",
            "step": 5,
            "_model_name": "IntSliderModel",
            "orientation": "horizontal",
            "max": 100,
            "_view_module": "@jupyter-widgets/controls",
            "_model_module_version": "1.5.0",
            "value": 10,
            "_view_count": null,
            "disabled": false,
            "_view_module_version": "1.5.0",
            "min": 5,
            "continuous_update": true,
            "readout_format": "d",
            "description_tooltip": null,
            "readout": true,
            "_model_module": "@jupyter-widgets/controls",
            "layout": "IPY_MODEL_3e0d19113dc541eaa4e2f00404121d72"
          }
        },
        "7780536708e14e7ca2153dea6ff2d621": {
          "model_module": "@jupyter-widgets/controls",
          "model_name": "ButtonModel",
          "model_module_version": "1.5.0",
          "state": {
            "_view_name": "ButtonView",
            "style": "IPY_MODEL_06a1c24f9df74d538f8bd17be9796951",
            "_dom_classes": [],
            "description": "Run Interact",
            "_model_name": "ButtonModel",
            "button_style": "",
            "_view_module": "@jupyter-widgets/controls",
            "_model_module_version": "1.5.0",
            "tooltip": "",
            "_view_count": null,
            "disabled": false,
            "_view_module_version": "1.5.0",
            "layout": "IPY_MODEL_d8898cf6a623472cbb1dedbe1fd8d820",
            "_model_module": "@jupyter-widgets/controls",
            "icon": ""
          }
        },
        "8ce4c1d541db441585044317dcf5bdad": {
          "model_module": "@jupyter-widgets/output",
          "model_name": "OutputModel",
          "model_module_version": "1.0.0",
          "state": {
            "_view_name": "OutputView",
            "msg_id": "",
            "_dom_classes": [],
            "_model_name": "OutputModel",
            "outputs": [],
            "_view_module": "@jupyter-widgets/output",
            "_model_module_version": "1.0.0",
            "_view_count": null,
            "_view_module_version": "1.0.0",
            "layout": "IPY_MODEL_97a1ff1b7e09488c99348e3afa9b2de5",
            "_model_module": "@jupyter-widgets/output"
          }
        },
        "0f6bf43ab764458eb746c84afc8333b7": {
          "model_module": "@jupyter-widgets/controls",
          "model_name": "SliderStyleModel",
          "model_module_version": "1.5.0",
          "state": {
            "_view_name": "StyleView",
            "handle_color": null,
            "_model_name": "SliderStyleModel",
            "description_width": "",
            "_view_module": "@jupyter-widgets/base",
            "_model_module_version": "1.5.0",
            "_view_count": null,
            "_view_module_version": "1.2.0",
            "_model_module": "@jupyter-widgets/controls"
          }
        },
        "779f3c7d9e4d4e6dbd8e1b7848604876": {
          "model_module": "@jupyter-widgets/base",
          "model_name": "LayoutModel",
          "model_module_version": "1.2.0",
          "state": {
            "_view_name": "LayoutView",
            "grid_template_rows": null,
            "right": null,
            "justify_content": null,
            "_view_module": "@jupyter-widgets/base",
            "overflow": null,
            "_model_module_version": "1.2.0",
            "_view_count": null,
            "flex_flow": null,
            "width": null,
            "min_width": null,
            "border": null,
            "align_items": null,
            "bottom": null,
            "_model_module": "@jupyter-widgets/base",
            "top": null,
            "grid_column": null,
            "overflow_y": null,
            "overflow_x": null,
            "grid_auto_flow": null,
            "grid_area": null,
            "grid_template_columns": null,
            "flex": null,
            "_model_name": "LayoutModel",
            "justify_items": null,
            "grid_row": null,
            "max_height": null,
            "align_content": null,
            "visibility": null,
            "align_self": null,
            "height": null,
            "min_height": null,
            "padding": null,
            "grid_auto_rows": null,
            "grid_gap": null,
            "max_width": null,
            "order": null,
            "_view_module_version": "1.2.0",
            "grid_template_areas": null,
            "object_position": null,
            "object_fit": null,
            "grid_auto_columns": null,
            "margin": null,
            "display": null,
            "left": null
          }
        },
        "1199365768ed4aa283d1db28008aa4a4": {
          "model_module": "@jupyter-widgets/controls",
          "model_name": "SliderStyleModel",
          "model_module_version": "1.5.0",
          "state": {
            "_view_name": "StyleView",
            "handle_color": null,
            "_model_name": "SliderStyleModel",
            "description_width": "",
            "_view_module": "@jupyter-widgets/base",
            "_model_module_version": "1.5.0",
            "_view_count": null,
            "_view_module_version": "1.2.0",
            "_model_module": "@jupyter-widgets/controls"
          }
        },
        "3e0d19113dc541eaa4e2f00404121d72": {
          "model_module": "@jupyter-widgets/base",
          "model_name": "LayoutModel",
          "model_module_version": "1.2.0",
          "state": {
            "_view_name": "LayoutView",
            "grid_template_rows": null,
            "right": null,
            "justify_content": null,
            "_view_module": "@jupyter-widgets/base",
            "overflow": null,
            "_model_module_version": "1.2.0",
            "_view_count": null,
            "flex_flow": null,
            "width": null,
            "min_width": null,
            "border": null,
            "align_items": null,
            "bottom": null,
            "_model_module": "@jupyter-widgets/base",
            "top": null,
            "grid_column": null,
            "overflow_y": null,
            "overflow_x": null,
            "grid_auto_flow": null,
            "grid_area": null,
            "grid_template_columns": null,
            "flex": null,
            "_model_name": "LayoutModel",
            "justify_items": null,
            "grid_row": null,
            "max_height": null,
            "align_content": null,
            "visibility": null,
            "align_self": null,
            "height": null,
            "min_height": null,
            "padding": null,
            "grid_auto_rows": null,
            "grid_gap": null,
            "max_width": null,
            "order": null,
            "_view_module_version": "1.2.0",
            "grid_template_areas": null,
            "object_position": null,
            "object_fit": null,
            "grid_auto_columns": null,
            "margin": null,
            "display": null,
            "left": null
          }
        },
        "06a1c24f9df74d538f8bd17be9796951": {
          "model_module": "@jupyter-widgets/controls",
          "model_name": "ButtonStyleModel",
          "model_module_version": "1.5.0",
          "state": {
            "_view_name": "StyleView",
            "_model_name": "ButtonStyleModel",
            "_view_module": "@jupyter-widgets/base",
            "_model_module_version": "1.5.0",
            "_view_count": null,
            "button_color": null,
            "font_weight": "",
            "_view_module_version": "1.2.0",
            "_model_module": "@jupyter-widgets/controls"
          }
        },
        "d8898cf6a623472cbb1dedbe1fd8d820": {
          "model_module": "@jupyter-widgets/base",
          "model_name": "LayoutModel",
          "model_module_version": "1.2.0",
          "state": {
            "_view_name": "LayoutView",
            "grid_template_rows": null,
            "right": null,
            "justify_content": null,
            "_view_module": "@jupyter-widgets/base",
            "overflow": null,
            "_model_module_version": "1.2.0",
            "_view_count": null,
            "flex_flow": null,
            "width": null,
            "min_width": null,
            "border": null,
            "align_items": null,
            "bottom": null,
            "_model_module": "@jupyter-widgets/base",
            "top": null,
            "grid_column": null,
            "overflow_y": null,
            "overflow_x": null,
            "grid_auto_flow": null,
            "grid_area": null,
            "grid_template_columns": null,
            "flex": null,
            "_model_name": "LayoutModel",
            "justify_items": null,
            "grid_row": null,
            "max_height": null,
            "align_content": null,
            "visibility": null,
            "align_self": null,
            "height": null,
            "min_height": null,
            "padding": null,
            "grid_auto_rows": null,
            "grid_gap": null,
            "max_width": null,
            "order": null,
            "_view_module_version": "1.2.0",
            "grid_template_areas": null,
            "object_position": null,
            "object_fit": null,
            "grid_auto_columns": null,
            "margin": null,
            "display": null,
            "left": null
          }
        },
        "97a1ff1b7e09488c99348e3afa9b2de5": {
          "model_module": "@jupyter-widgets/base",
          "model_name": "LayoutModel",
          "model_module_version": "1.2.0",
          "state": {
            "_view_name": "LayoutView",
            "grid_template_rows": null,
            "right": null,
            "justify_content": null,
            "_view_module": "@jupyter-widgets/base",
            "overflow": null,
            "_model_module_version": "1.2.0",
            "_view_count": null,
            "flex_flow": null,
            "width": null,
            "min_width": null,
            "border": null,
            "align_items": null,
            "bottom": null,
            "_model_module": "@jupyter-widgets/base",
            "top": null,
            "grid_column": null,
            "overflow_y": null,
            "overflow_x": null,
            "grid_auto_flow": null,
            "grid_area": null,
            "grid_template_columns": null,
            "flex": null,
            "_model_name": "LayoutModel",
            "justify_items": null,
            "grid_row": null,
            "max_height": null,
            "align_content": null,
            "visibility": null,
            "align_self": null,
            "height": null,
            "min_height": null,
            "padding": null,
            "grid_auto_rows": null,
            "grid_gap": null,
            "max_width": null,
            "order": null,
            "_view_module_version": "1.2.0",
            "grid_template_areas": null,
            "object_position": null,
            "object_fit": null,
            "grid_auto_columns": null,
            "margin": null,
            "display": null,
            "left": null
          }
        },
        "f28525146c5c4351885d1865c7cbc7a8": {
          "model_module": "@jupyter-widgets/controls",
          "model_name": "VBoxModel",
          "model_module_version": "1.5.0",
          "state": {
            "_view_name": "VBoxView",
            "_dom_classes": [
              "widget-interact"
            ],
            "_model_name": "VBoxModel",
            "_view_module": "@jupyter-widgets/controls",
            "_model_module_version": "1.5.0",
            "_view_count": null,
            "_view_module_version": "1.5.0",
            "box_style": "",
            "layout": "IPY_MODEL_f8e7fd0b2acf4d9993ee8e947963232d",
            "_model_module": "@jupyter-widgets/controls",
            "children": [
              "IPY_MODEL_7e742d10cc714984acba8bc51682fc41",
              "IPY_MODEL_dbaf73c498a44963985941a5b2102edc",
              "IPY_MODEL_843ab66c8ca2498b8bbec71cae74692a",
              "IPY_MODEL_081c9cf44443471faee81cd902d87881"
            ]
          }
        },
        "f8e7fd0b2acf4d9993ee8e947963232d": {
          "model_module": "@jupyter-widgets/base",
          "model_name": "LayoutModel",
          "model_module_version": "1.2.0",
          "state": {
            "_view_name": "LayoutView",
            "grid_template_rows": null,
            "right": null,
            "justify_content": null,
            "_view_module": "@jupyter-widgets/base",
            "overflow": null,
            "_model_module_version": "1.2.0",
            "_view_count": null,
            "flex_flow": null,
            "width": null,
            "min_width": null,
            "border": null,
            "align_items": null,
            "bottom": null,
            "_model_module": "@jupyter-widgets/base",
            "top": null,
            "grid_column": null,
            "overflow_y": null,
            "overflow_x": null,
            "grid_auto_flow": null,
            "grid_area": null,
            "grid_template_columns": null,
            "flex": null,
            "_model_name": "LayoutModel",
            "justify_items": null,
            "grid_row": null,
            "max_height": null,
            "align_content": null,
            "visibility": null,
            "align_self": null,
            "height": null,
            "min_height": null,
            "padding": null,
            "grid_auto_rows": null,
            "grid_gap": null,
            "max_width": null,
            "order": null,
            "_view_module_version": "1.2.0",
            "grid_template_areas": null,
            "object_position": null,
            "object_fit": null,
            "grid_auto_columns": null,
            "margin": null,
            "display": null,
            "left": null
          }
        },
        "7e742d10cc714984acba8bc51682fc41": {
          "model_module": "@jupyter-widgets/controls",
          "model_name": "IntSliderModel",
          "model_module_version": "1.5.0",
          "state": {
            "_view_name": "IntSliderView",
            "style": "IPY_MODEL_4d449f353af546a280f169ed4abd4ea1",
            "_dom_classes": [],
            "description": "giocate",
            "step": 1,
            "_model_name": "IntSliderModel",
            "orientation": "horizontal",
            "max": 6,
            "_view_module": "@jupyter-widgets/controls",
            "_model_module_version": "1.5.0",
            "value": 3,
            "_view_count": null,
            "disabled": false,
            "_view_module_version": "1.5.0",
            "min": 1,
            "continuous_update": true,
            "readout_format": "d",
            "description_tooltip": null,
            "readout": true,
            "_model_module": "@jupyter-widgets/controls",
            "layout": "IPY_MODEL_746fc3a4927244af8387c81587bd4234"
          }
        },
        "dbaf73c498a44963985941a5b2102edc": {
          "model_module": "@jupyter-widgets/controls",
          "model_name": "IntSliderModel",
          "model_module_version": "1.5.0",
          "state": {
            "_view_name": "IntSliderView",
            "style": "IPY_MODEL_0474ca2331264ce981ad9719010b4d6e",
            "_dom_classes": [],
            "description": "puntata",
            "step": 5,
            "_model_name": "IntSliderModel",
            "orientation": "horizontal",
            "max": 100,
            "_view_module": "@jupyter-widgets/controls",
            "_model_module_version": "1.5.0",
            "value": 5,
            "_view_count": null,
            "disabled": false,
            "_view_module_version": "1.5.0",
            "min": 5,
            "continuous_update": true,
            "readout_format": "d",
            "description_tooltip": null,
            "readout": true,
            "_model_module": "@jupyter-widgets/controls",
            "layout": "IPY_MODEL_bb70593ccc9846fcbd64ad8f589dcf8f"
          }
        },
        "843ab66c8ca2498b8bbec71cae74692a": {
          "model_module": "@jupyter-widgets/controls",
          "model_name": "ButtonModel",
          "model_module_version": "1.5.0",
          "state": {
            "_view_name": "ButtonView",
            "style": "IPY_MODEL_fb8be47602224979a4b94ed851c198a2",
            "_dom_classes": [],
            "description": "Run Interact",
            "_model_name": "ButtonModel",
            "button_style": "",
            "_view_module": "@jupyter-widgets/controls",
            "_model_module_version": "1.5.0",
            "tooltip": "",
            "_view_count": null,
            "disabled": false,
            "_view_module_version": "1.5.0",
            "layout": "IPY_MODEL_5ad4073b4a9041e3821615717adfdf8d",
            "_model_module": "@jupyter-widgets/controls",
            "icon": ""
          }
        },
        "081c9cf44443471faee81cd902d87881": {
          "model_module": "@jupyter-widgets/output",
          "model_name": "OutputModel",
          "model_module_version": "1.0.0",
          "state": {
            "_view_name": "OutputView",
            "msg_id": "",
            "_dom_classes": [],
            "_model_name": "OutputModel",
            "outputs": [],
            "_view_module": "@jupyter-widgets/output",
            "_model_module_version": "1.0.0",
            "_view_count": null,
            "_view_module_version": "1.0.0",
            "layout": "IPY_MODEL_15fbc1c23ae74c3aae23322ea201ac10",
            "_model_module": "@jupyter-widgets/output"
          }
        },
        "4d449f353af546a280f169ed4abd4ea1": {
          "model_module": "@jupyter-widgets/controls",
          "model_name": "SliderStyleModel",
          "model_module_version": "1.5.0",
          "state": {
            "_view_name": "StyleView",
            "handle_color": null,
            "_model_name": "SliderStyleModel",
            "description_width": "",
            "_view_module": "@jupyter-widgets/base",
            "_model_module_version": "1.5.0",
            "_view_count": null,
            "_view_module_version": "1.2.0",
            "_model_module": "@jupyter-widgets/controls"
          }
        },
        "746fc3a4927244af8387c81587bd4234": {
          "model_module": "@jupyter-widgets/base",
          "model_name": "LayoutModel",
          "model_module_version": "1.2.0",
          "state": {
            "_view_name": "LayoutView",
            "grid_template_rows": null,
            "right": null,
            "justify_content": null,
            "_view_module": "@jupyter-widgets/base",
            "overflow": null,
            "_model_module_version": "1.2.0",
            "_view_count": null,
            "flex_flow": null,
            "width": null,
            "min_width": null,
            "border": null,
            "align_items": null,
            "bottom": null,
            "_model_module": "@jupyter-widgets/base",
            "top": null,
            "grid_column": null,
            "overflow_y": null,
            "overflow_x": null,
            "grid_auto_flow": null,
            "grid_area": null,
            "grid_template_columns": null,
            "flex": null,
            "_model_name": "LayoutModel",
            "justify_items": null,
            "grid_row": null,
            "max_height": null,
            "align_content": null,
            "visibility": null,
            "align_self": null,
            "height": null,
            "min_height": null,
            "padding": null,
            "grid_auto_rows": null,
            "grid_gap": null,
            "max_width": null,
            "order": null,
            "_view_module_version": "1.2.0",
            "grid_template_areas": null,
            "object_position": null,
            "object_fit": null,
            "grid_auto_columns": null,
            "margin": null,
            "display": null,
            "left": null
          }
        },
        "0474ca2331264ce981ad9719010b4d6e": {
          "model_module": "@jupyter-widgets/controls",
          "model_name": "SliderStyleModel",
          "model_module_version": "1.5.0",
          "state": {
            "_view_name": "StyleView",
            "handle_color": null,
            "_model_name": "SliderStyleModel",
            "description_width": "",
            "_view_module": "@jupyter-widgets/base",
            "_model_module_version": "1.5.0",
            "_view_count": null,
            "_view_module_version": "1.2.0",
            "_model_module": "@jupyter-widgets/controls"
          }
        },
        "bb70593ccc9846fcbd64ad8f589dcf8f": {
          "model_module": "@jupyter-widgets/base",
          "model_name": "LayoutModel",
          "model_module_version": "1.2.0",
          "state": {
            "_view_name": "LayoutView",
            "grid_template_rows": null,
            "right": null,
            "justify_content": null,
            "_view_module": "@jupyter-widgets/base",
            "overflow": null,
            "_model_module_version": "1.2.0",
            "_view_count": null,
            "flex_flow": null,
            "width": null,
            "min_width": null,
            "border": null,
            "align_items": null,
            "bottom": null,
            "_model_module": "@jupyter-widgets/base",
            "top": null,
            "grid_column": null,
            "overflow_y": null,
            "overflow_x": null,
            "grid_auto_flow": null,
            "grid_area": null,
            "grid_template_columns": null,
            "flex": null,
            "_model_name": "LayoutModel",
            "justify_items": null,
            "grid_row": null,
            "max_height": null,
            "align_content": null,
            "visibility": null,
            "align_self": null,
            "height": null,
            "min_height": null,
            "padding": null,
            "grid_auto_rows": null,
            "grid_gap": null,
            "max_width": null,
            "order": null,
            "_view_module_version": "1.2.0",
            "grid_template_areas": null,
            "object_position": null,
            "object_fit": null,
            "grid_auto_columns": null,
            "margin": null,
            "display": null,
            "left": null
          }
        },
        "fb8be47602224979a4b94ed851c198a2": {
          "model_module": "@jupyter-widgets/controls",
          "model_name": "ButtonStyleModel",
          "model_module_version": "1.5.0",
          "state": {
            "_view_name": "StyleView",
            "_model_name": "ButtonStyleModel",
            "_view_module": "@jupyter-widgets/base",
            "_model_module_version": "1.5.0",
            "_view_count": null,
            "button_color": null,
            "font_weight": "",
            "_view_module_version": "1.2.0",
            "_model_module": "@jupyter-widgets/controls"
          }
        },
        "5ad4073b4a9041e3821615717adfdf8d": {
          "model_module": "@jupyter-widgets/base",
          "model_name": "LayoutModel",
          "model_module_version": "1.2.0",
          "state": {
            "_view_name": "LayoutView",
            "grid_template_rows": null,
            "right": null,
            "justify_content": null,
            "_view_module": "@jupyter-widgets/base",
            "overflow": null,
            "_model_module_version": "1.2.0",
            "_view_count": null,
            "flex_flow": null,
            "width": null,
            "min_width": null,
            "border": null,
            "align_items": null,
            "bottom": null,
            "_model_module": "@jupyter-widgets/base",
            "top": null,
            "grid_column": null,
            "overflow_y": null,
            "overflow_x": null,
            "grid_auto_flow": null,
            "grid_area": null,
            "grid_template_columns": null,
            "flex": null,
            "_model_name": "LayoutModel",
            "justify_items": null,
            "grid_row": null,
            "max_height": null,
            "align_content": null,
            "visibility": null,
            "align_self": null,
            "height": null,
            "min_height": null,
            "padding": null,
            "grid_auto_rows": null,
            "grid_gap": null,
            "max_width": null,
            "order": null,
            "_view_module_version": "1.2.0",
            "grid_template_areas": null,
            "object_position": null,
            "object_fit": null,
            "grid_auto_columns": null,
            "margin": null,
            "display": null,
            "left": null
          }
        },
        "15fbc1c23ae74c3aae23322ea201ac10": {
          "model_module": "@jupyter-widgets/base",
          "model_name": "LayoutModel",
          "model_module_version": "1.2.0",
          "state": {
            "_view_name": "LayoutView",
            "grid_template_rows": null,
            "right": null,
            "justify_content": null,
            "_view_module": "@jupyter-widgets/base",
            "overflow": null,
            "_model_module_version": "1.2.0",
            "_view_count": null,
            "flex_flow": null,
            "width": null,
            "min_width": null,
            "border": null,
            "align_items": null,
            "bottom": null,
            "_model_module": "@jupyter-widgets/base",
            "top": null,
            "grid_column": null,
            "overflow_y": null,
            "overflow_x": null,
            "grid_auto_flow": null,
            "grid_area": null,
            "grid_template_columns": null,
            "flex": null,
            "_model_name": "LayoutModel",
            "justify_items": null,
            "grid_row": null,
            "max_height": null,
            "align_content": null,
            "visibility": null,
            "align_self": null,
            "height": null,
            "min_height": null,
            "padding": null,
            "grid_auto_rows": null,
            "grid_gap": null,
            "max_width": null,
            "order": null,
            "_view_module_version": "1.2.0",
            "grid_template_areas": null,
            "object_position": null,
            "object_fit": null,
            "grid_auto_columns": null,
            "margin": null,
            "display": null,
            "left": null
          }
        },
        "16945a768cef4d968d1f901ee13b44a4": {
          "model_module": "@jupyter-widgets/controls",
          "model_name": "VBoxModel",
          "model_module_version": "1.5.0",
          "state": {
            "_view_name": "VBoxView",
            "_dom_classes": [
              "widget-interact"
            ],
            "_model_name": "VBoxModel",
            "_view_module": "@jupyter-widgets/controls",
            "_model_module_version": "1.5.0",
            "_view_count": null,
            "_view_module_version": "1.5.0",
            "box_style": "",
            "layout": "IPY_MODEL_343da836b392470194632069de2b1cec",
            "_model_module": "@jupyter-widgets/controls",
            "children": [
              "IPY_MODEL_9443a8a5a43946798a388ce9379ff589",
              "IPY_MODEL_df7846326b1a41aa9185b6a1d2fc067b",
              "IPY_MODEL_fc538d88a21844cb8c7b5d95dbe0c137"
            ]
          }
        },
        "343da836b392470194632069de2b1cec": {
          "model_module": "@jupyter-widgets/base",
          "model_name": "LayoutModel",
          "model_module_version": "1.2.0",
          "state": {
            "_view_name": "LayoutView",
            "grid_template_rows": null,
            "right": null,
            "justify_content": null,
            "_view_module": "@jupyter-widgets/base",
            "overflow": null,
            "_model_module_version": "1.2.0",
            "_view_count": null,
            "flex_flow": null,
            "width": null,
            "min_width": null,
            "border": null,
            "align_items": null,
            "bottom": null,
            "_model_module": "@jupyter-widgets/base",
            "top": null,
            "grid_column": null,
            "overflow_y": null,
            "overflow_x": null,
            "grid_auto_flow": null,
            "grid_area": null,
            "grid_template_columns": null,
            "flex": null,
            "_model_name": "LayoutModel",
            "justify_items": null,
            "grid_row": null,
            "max_height": null,
            "align_content": null,
            "visibility": null,
            "align_self": null,
            "height": null,
            "min_height": null,
            "padding": null,
            "grid_auto_rows": null,
            "grid_gap": null,
            "max_width": null,
            "order": null,
            "_view_module_version": "1.2.0",
            "grid_template_areas": null,
            "object_position": null,
            "object_fit": null,
            "grid_auto_columns": null,
            "margin": null,
            "display": null,
            "left": null
          }
        },
        "9443a8a5a43946798a388ce9379ff589": {
          "model_module": "@jupyter-widgets/controls",
          "model_name": "IntSliderModel",
          "model_module_version": "1.5.0",
          "state": {
            "_view_name": "IntSliderView",
            "style": "IPY_MODEL_275a75b566f7434ca00a612ded2e5fe0",
            "_dom_classes": [],
            "description": "estrazioni",
            "step": 1,
            "_model_name": "IntSliderModel",
            "orientation": "horizontal",
            "max": 10,
            "_view_module": "@jupyter-widgets/controls",
            "_model_module_version": "1.5.0",
            "value": 3,
            "_view_count": null,
            "disabled": false,
            "_view_module_version": "1.5.0",
            "min": 1,
            "continuous_update": true,
            "readout_format": "d",
            "description_tooltip": null,
            "readout": true,
            "_model_module": "@jupyter-widgets/controls",
            "layout": "IPY_MODEL_b426b54dc6cb44da87b9c1c0728fedf3"
          }
        },
        "df7846326b1a41aa9185b6a1d2fc067b": {
          "model_module": "@jupyter-widgets/controls",
          "model_name": "ButtonModel",
          "model_module_version": "1.5.0",
          "state": {
            "_view_name": "ButtonView",
            "style": "IPY_MODEL_5045c9ebe796488e9f9c2a53804f0827",
            "_dom_classes": [],
            "description": "Run Interact",
            "_model_name": "ButtonModel",
            "button_style": "",
            "_view_module": "@jupyter-widgets/controls",
            "_model_module_version": "1.5.0",
            "tooltip": "",
            "_view_count": null,
            "disabled": false,
            "_view_module_version": "1.5.0",
            "layout": "IPY_MODEL_948bb0974a3c477e844488f8eebd24ee",
            "_model_module": "@jupyter-widgets/controls",
            "icon": ""
          }
        },
        "fc538d88a21844cb8c7b5d95dbe0c137": {
          "model_module": "@jupyter-widgets/output",
          "model_name": "OutputModel",
          "model_module_version": "1.0.0",
          "state": {
            "_view_name": "OutputView",
            "msg_id": "",
            "_dom_classes": [],
            "_model_name": "OutputModel",
            "outputs": [],
            "_view_module": "@jupyter-widgets/output",
            "_model_module_version": "1.0.0",
            "_view_count": null,
            "_view_module_version": "1.0.0",
            "layout": "IPY_MODEL_8162d836e6134a14aacca9bcf788afda",
            "_model_module": "@jupyter-widgets/output"
          }
        },
        "275a75b566f7434ca00a612ded2e5fe0": {
          "model_module": "@jupyter-widgets/controls",
          "model_name": "SliderStyleModel",
          "model_module_version": "1.5.0",
          "state": {
            "_view_name": "StyleView",
            "handle_color": null,
            "_model_name": "SliderStyleModel",
            "description_width": "",
            "_view_module": "@jupyter-widgets/base",
            "_model_module_version": "1.5.0",
            "_view_count": null,
            "_view_module_version": "1.2.0",
            "_model_module": "@jupyter-widgets/controls"
          }
        },
        "b426b54dc6cb44da87b9c1c0728fedf3": {
          "model_module": "@jupyter-widgets/base",
          "model_name": "LayoutModel",
          "model_module_version": "1.2.0",
          "state": {
            "_view_name": "LayoutView",
            "grid_template_rows": null,
            "right": null,
            "justify_content": null,
            "_view_module": "@jupyter-widgets/base",
            "overflow": null,
            "_model_module_version": "1.2.0",
            "_view_count": null,
            "flex_flow": null,
            "width": null,
            "min_width": null,
            "border": null,
            "align_items": null,
            "bottom": null,
            "_model_module": "@jupyter-widgets/base",
            "top": null,
            "grid_column": null,
            "overflow_y": null,
            "overflow_x": null,
            "grid_auto_flow": null,
            "grid_area": null,
            "grid_template_columns": null,
            "flex": null,
            "_model_name": "LayoutModel",
            "justify_items": null,
            "grid_row": null,
            "max_height": null,
            "align_content": null,
            "visibility": null,
            "align_self": null,
            "height": null,
            "min_height": null,
            "padding": null,
            "grid_auto_rows": null,
            "grid_gap": null,
            "max_width": null,
            "order": null,
            "_view_module_version": "1.2.0",
            "grid_template_areas": null,
            "object_position": null,
            "object_fit": null,
            "grid_auto_columns": null,
            "margin": null,
            "display": null,
            "left": null
          }
        },
        "5045c9ebe796488e9f9c2a53804f0827": {
          "model_module": "@jupyter-widgets/controls",
          "model_name": "ButtonStyleModel",
          "model_module_version": "1.5.0",
          "state": {
            "_view_name": "StyleView",
            "_model_name": "ButtonStyleModel",
            "_view_module": "@jupyter-widgets/base",
            "_model_module_version": "1.5.0",
            "_view_count": null,
            "button_color": null,
            "font_weight": "",
            "_view_module_version": "1.2.0",
            "_model_module": "@jupyter-widgets/controls"
          }
        },
        "948bb0974a3c477e844488f8eebd24ee": {
          "model_module": "@jupyter-widgets/base",
          "model_name": "LayoutModel",
          "model_module_version": "1.2.0",
          "state": {
            "_view_name": "LayoutView",
            "grid_template_rows": null,
            "right": null,
            "justify_content": null,
            "_view_module": "@jupyter-widgets/base",
            "overflow": null,
            "_model_module_version": "1.2.0",
            "_view_count": null,
            "flex_flow": null,
            "width": null,
            "min_width": null,
            "border": null,
            "align_items": null,
            "bottom": null,
            "_model_module": "@jupyter-widgets/base",
            "top": null,
            "grid_column": null,
            "overflow_y": null,
            "overflow_x": null,
            "grid_auto_flow": null,
            "grid_area": null,
            "grid_template_columns": null,
            "flex": null,
            "_model_name": "LayoutModel",
            "justify_items": null,
            "grid_row": null,
            "max_height": null,
            "align_content": null,
            "visibility": null,
            "align_self": null,
            "height": null,
            "min_height": null,
            "padding": null,
            "grid_auto_rows": null,
            "grid_gap": null,
            "max_width": null,
            "order": null,
            "_view_module_version": "1.2.0",
            "grid_template_areas": null,
            "object_position": null,
            "object_fit": null,
            "grid_auto_columns": null,
            "margin": null,
            "display": null,
            "left": null
          }
        },
        "8162d836e6134a14aacca9bcf788afda": {
          "model_module": "@jupyter-widgets/base",
          "model_name": "LayoutModel",
          "model_module_version": "1.2.0",
          "state": {
            "_view_name": "LayoutView",
            "grid_template_rows": null,
            "right": null,
            "justify_content": null,
            "_view_module": "@jupyter-widgets/base",
            "overflow": null,
            "_model_module_version": "1.2.0",
            "_view_count": null,
            "flex_flow": null,
            "width": null,
            "min_width": null,
            "border": null,
            "align_items": null,
            "bottom": null,
            "_model_module": "@jupyter-widgets/base",
            "top": null,
            "grid_column": null,
            "overflow_y": null,
            "overflow_x": null,
            "grid_auto_flow": null,
            "grid_area": null,
            "grid_template_columns": null,
            "flex": null,
            "_model_name": "LayoutModel",
            "justify_items": null,
            "grid_row": null,
            "max_height": null,
            "align_content": null,
            "visibility": null,
            "align_self": null,
            "height": null,
            "min_height": null,
            "padding": null,
            "grid_auto_rows": null,
            "grid_gap": null,
            "max_width": null,
            "order": null,
            "_view_module_version": "1.2.0",
            "grid_template_areas": null,
            "object_position": null,
            "object_fit": null,
            "grid_auto_columns": null,
            "margin": null,
            "display": null,
            "left": null
          }
        },
        "d233100deeb545b79d882f01207f71b6": {
          "model_module": "@jupyter-widgets/controls",
          "model_name": "VBoxModel",
          "model_module_version": "1.5.0",
          "state": {
            "_view_name": "VBoxView",
            "_dom_classes": [
              "widget-interact"
            ],
            "_model_name": "VBoxModel",
            "_view_module": "@jupyter-widgets/controls",
            "_model_module_version": "1.5.0",
            "_view_count": null,
            "_view_module_version": "1.5.0",
            "box_style": "",
            "layout": "IPY_MODEL_1951f032a7204023aeb6d9d5edd47cf5",
            "_model_module": "@jupyter-widgets/controls",
            "children": [
              "IPY_MODEL_3578499015c3475c930ee839b07071c7",
              "IPY_MODEL_ba573aecf9e24f91bee4e65904d564d0",
              "IPY_MODEL_4e525581f9ab43219798cddda8d524e5",
              "IPY_MODEL_06c62468f352427299e603c255133042"
            ]
          }
        },
        "1951f032a7204023aeb6d9d5edd47cf5": {
          "model_module": "@jupyter-widgets/base",
          "model_name": "LayoutModel",
          "model_module_version": "1.2.0",
          "state": {
            "_view_name": "LayoutView",
            "grid_template_rows": null,
            "right": null,
            "justify_content": null,
            "_view_module": "@jupyter-widgets/base",
            "overflow": null,
            "_model_module_version": "1.2.0",
            "_view_count": null,
            "flex_flow": null,
            "width": null,
            "min_width": null,
            "border": null,
            "align_items": null,
            "bottom": null,
            "_model_module": "@jupyter-widgets/base",
            "top": null,
            "grid_column": null,
            "overflow_y": null,
            "overflow_x": null,
            "grid_auto_flow": null,
            "grid_area": null,
            "grid_template_columns": null,
            "flex": null,
            "_model_name": "LayoutModel",
            "justify_items": null,
            "grid_row": null,
            "max_height": null,
            "align_content": null,
            "visibility": null,
            "align_self": null,
            "height": null,
            "min_height": null,
            "padding": null,
            "grid_auto_rows": null,
            "grid_gap": null,
            "max_width": null,
            "order": null,
            "_view_module_version": "1.2.0",
            "grid_template_areas": null,
            "object_position": null,
            "object_fit": null,
            "grid_auto_columns": null,
            "margin": null,
            "display": null,
            "left": null
          }
        },
        "3578499015c3475c930ee839b07071c7": {
          "model_module": "@jupyter-widgets/controls",
          "model_name": "IntSliderModel",
          "model_module_version": "1.5.0",
          "state": {
            "_view_name": "IntSliderView",
            "style": "IPY_MODEL_aeb581452d714ed9ac6d12a957a81753",
            "_dom_classes": [],
            "description": "bianche",
            "step": 1,
            "_model_name": "IntSliderModel",
            "orientation": "horizontal",
            "max": 5,
            "_view_module": "@jupyter-widgets/controls",
            "_model_module_version": "1.5.0",
            "value": 2,
            "_view_count": null,
            "disabled": false,
            "_view_module_version": "1.5.0",
            "min": 1,
            "continuous_update": true,
            "readout_format": "d",
            "description_tooltip": null,
            "readout": true,
            "_model_module": "@jupyter-widgets/controls",
            "layout": "IPY_MODEL_0304ff73629041659bfb8a8a1795ce1e"
          }
        },
        "ba573aecf9e24f91bee4e65904d564d0": {
          "model_module": "@jupyter-widgets/controls",
          "model_name": "IntSliderModel",
          "model_module_version": "1.5.0",
          "state": {
            "_view_name": "IntSliderView",
            "style": "IPY_MODEL_0aa1a02c94ef411f8dca8efa8e35f602",
            "_dom_classes": [],
            "description": "rosse",
            "step": 1,
            "_model_name": "IntSliderModel",
            "orientation": "horizontal",
            "max": 5,
            "_view_module": "@jupyter-widgets/controls",
            "_model_module_version": "1.5.0",
            "value": 3,
            "_view_count": null,
            "disabled": false,
            "_view_module_version": "1.5.0",
            "min": 1,
            "continuous_update": true,
            "readout_format": "d",
            "description_tooltip": null,
            "readout": true,
            "_model_module": "@jupyter-widgets/controls",
            "layout": "IPY_MODEL_4481b1b07fe648ea8332b71aef86d5fe"
          }
        },
        "4e525581f9ab43219798cddda8d524e5": {
          "model_module": "@jupyter-widgets/controls",
          "model_name": "ButtonModel",
          "model_module_version": "1.5.0",
          "state": {
            "_view_name": "ButtonView",
            "style": "IPY_MODEL_723e2f20ca054729b72c4efd3ef2ac7d",
            "_dom_classes": [],
            "description": "Run Interact",
            "_model_name": "ButtonModel",
            "button_style": "",
            "_view_module": "@jupyter-widgets/controls",
            "_model_module_version": "1.5.0",
            "tooltip": "",
            "_view_count": null,
            "disabled": false,
            "_view_module_version": "1.5.0",
            "layout": "IPY_MODEL_c074c36ef0d64c0e8e091be81e9c3a94",
            "_model_module": "@jupyter-widgets/controls",
            "icon": ""
          }
        },
        "06c62468f352427299e603c255133042": {
          "model_module": "@jupyter-widgets/output",
          "model_name": "OutputModel",
          "model_module_version": "1.0.0",
          "state": {
            "_view_name": "OutputView",
            "msg_id": "",
            "_dom_classes": [],
            "_model_name": "OutputModel",
            "outputs": [],
            "_view_module": "@jupyter-widgets/output",
            "_model_module_version": "1.0.0",
            "_view_count": null,
            "_view_module_version": "1.0.0",
            "layout": "IPY_MODEL_d235c48a77f94c32b89cdfdb44085d68",
            "_model_module": "@jupyter-widgets/output"
          }
        },
        "aeb581452d714ed9ac6d12a957a81753": {
          "model_module": "@jupyter-widgets/controls",
          "model_name": "SliderStyleModel",
          "model_module_version": "1.5.0",
          "state": {
            "_view_name": "StyleView",
            "handle_color": null,
            "_model_name": "SliderStyleModel",
            "description_width": "",
            "_view_module": "@jupyter-widgets/base",
            "_model_module_version": "1.5.0",
            "_view_count": null,
            "_view_module_version": "1.2.0",
            "_model_module": "@jupyter-widgets/controls"
          }
        },
        "0304ff73629041659bfb8a8a1795ce1e": {
          "model_module": "@jupyter-widgets/base",
          "model_name": "LayoutModel",
          "model_module_version": "1.2.0",
          "state": {
            "_view_name": "LayoutView",
            "grid_template_rows": null,
            "right": null,
            "justify_content": null,
            "_view_module": "@jupyter-widgets/base",
            "overflow": null,
            "_model_module_version": "1.2.0",
            "_view_count": null,
            "flex_flow": null,
            "width": null,
            "min_width": null,
            "border": null,
            "align_items": null,
            "bottom": null,
            "_model_module": "@jupyter-widgets/base",
            "top": null,
            "grid_column": null,
            "overflow_y": null,
            "overflow_x": null,
            "grid_auto_flow": null,
            "grid_area": null,
            "grid_template_columns": null,
            "flex": null,
            "_model_name": "LayoutModel",
            "justify_items": null,
            "grid_row": null,
            "max_height": null,
            "align_content": null,
            "visibility": null,
            "align_self": null,
            "height": null,
            "min_height": null,
            "padding": null,
            "grid_auto_rows": null,
            "grid_gap": null,
            "max_width": null,
            "order": null,
            "_view_module_version": "1.2.0",
            "grid_template_areas": null,
            "object_position": null,
            "object_fit": null,
            "grid_auto_columns": null,
            "margin": null,
            "display": null,
            "left": null
          }
        },
        "0aa1a02c94ef411f8dca8efa8e35f602": {
          "model_module": "@jupyter-widgets/controls",
          "model_name": "SliderStyleModel",
          "model_module_version": "1.5.0",
          "state": {
            "_view_name": "StyleView",
            "handle_color": null,
            "_model_name": "SliderStyleModel",
            "description_width": "",
            "_view_module": "@jupyter-widgets/base",
            "_model_module_version": "1.5.0",
            "_view_count": null,
            "_view_module_version": "1.2.0",
            "_model_module": "@jupyter-widgets/controls"
          }
        },
        "4481b1b07fe648ea8332b71aef86d5fe": {
          "model_module": "@jupyter-widgets/base",
          "model_name": "LayoutModel",
          "model_module_version": "1.2.0",
          "state": {
            "_view_name": "LayoutView",
            "grid_template_rows": null,
            "right": null,
            "justify_content": null,
            "_view_module": "@jupyter-widgets/base",
            "overflow": null,
            "_model_module_version": "1.2.0",
            "_view_count": null,
            "flex_flow": null,
            "width": null,
            "min_width": null,
            "border": null,
            "align_items": null,
            "bottom": null,
            "_model_module": "@jupyter-widgets/base",
            "top": null,
            "grid_column": null,
            "overflow_y": null,
            "overflow_x": null,
            "grid_auto_flow": null,
            "grid_area": null,
            "grid_template_columns": null,
            "flex": null,
            "_model_name": "LayoutModel",
            "justify_items": null,
            "grid_row": null,
            "max_height": null,
            "align_content": null,
            "visibility": null,
            "align_self": null,
            "height": null,
            "min_height": null,
            "padding": null,
            "grid_auto_rows": null,
            "grid_gap": null,
            "max_width": null,
            "order": null,
            "_view_module_version": "1.2.0",
            "grid_template_areas": null,
            "object_position": null,
            "object_fit": null,
            "grid_auto_columns": null,
            "margin": null,
            "display": null,
            "left": null
          }
        },
        "723e2f20ca054729b72c4efd3ef2ac7d": {
          "model_module": "@jupyter-widgets/controls",
          "model_name": "ButtonStyleModel",
          "model_module_version": "1.5.0",
          "state": {
            "_view_name": "StyleView",
            "_model_name": "ButtonStyleModel",
            "_view_module": "@jupyter-widgets/base",
            "_model_module_version": "1.5.0",
            "_view_count": null,
            "button_color": null,
            "font_weight": "",
            "_view_module_version": "1.2.0",
            "_model_module": "@jupyter-widgets/controls"
          }
        },
        "c074c36ef0d64c0e8e091be81e9c3a94": {
          "model_module": "@jupyter-widgets/base",
          "model_name": "LayoutModel",
          "model_module_version": "1.2.0",
          "state": {
            "_view_name": "LayoutView",
            "grid_template_rows": null,
            "right": null,
            "justify_content": null,
            "_view_module": "@jupyter-widgets/base",
            "overflow": null,
            "_model_module_version": "1.2.0",
            "_view_count": null,
            "flex_flow": null,
            "width": null,
            "min_width": null,
            "border": null,
            "align_items": null,
            "bottom": null,
            "_model_module": "@jupyter-widgets/base",
            "top": null,
            "grid_column": null,
            "overflow_y": null,
            "overflow_x": null,
            "grid_auto_flow": null,
            "grid_area": null,
            "grid_template_columns": null,
            "flex": null,
            "_model_name": "LayoutModel",
            "justify_items": null,
            "grid_row": null,
            "max_height": null,
            "align_content": null,
            "visibility": null,
            "align_self": null,
            "height": null,
            "min_height": null,
            "padding": null,
            "grid_auto_rows": null,
            "grid_gap": null,
            "max_width": null,
            "order": null,
            "_view_module_version": "1.2.0",
            "grid_template_areas": null,
            "object_position": null,
            "object_fit": null,
            "grid_auto_columns": null,
            "margin": null,
            "display": null,
            "left": null
          }
        },
        "d235c48a77f94c32b89cdfdb44085d68": {
          "model_module": "@jupyter-widgets/base",
          "model_name": "LayoutModel",
          "model_module_version": "1.2.0",
          "state": {
            "_view_name": "LayoutView",
            "grid_template_rows": null,
            "right": null,
            "justify_content": null,
            "_view_module": "@jupyter-widgets/base",
            "overflow": null,
            "_model_module_version": "1.2.0",
            "_view_count": null,
            "flex_flow": null,
            "width": null,
            "min_width": null,
            "border": null,
            "align_items": null,
            "bottom": null,
            "_model_module": "@jupyter-widgets/base",
            "top": null,
            "grid_column": null,
            "overflow_y": null,
            "overflow_x": null,
            "grid_auto_flow": null,
            "grid_area": null,
            "grid_template_columns": null,
            "flex": null,
            "_model_name": "LayoutModel",
            "justify_items": null,
            "grid_row": null,
            "max_height": null,
            "align_content": null,
            "visibility": null,
            "align_self": null,
            "height": null,
            "min_height": null,
            "padding": null,
            "grid_auto_rows": null,
            "grid_gap": null,
            "max_width": null,
            "order": null,
            "_view_module_version": "1.2.0",
            "grid_template_areas": null,
            "object_position": null,
            "object_fit": null,
            "grid_auto_columns": null,
            "margin": null,
            "display": null,
            "left": null
          }
        },
        "d5e063fd0a8a4a3ca5ea624b59f16296": {
          "model_module": "@jupyter-widgets/controls",
          "model_name": "VBoxModel",
          "model_module_version": "1.5.0",
          "state": {
            "_view_name": "VBoxView",
            "_dom_classes": [
              "widget-interact"
            ],
            "_model_name": "VBoxModel",
            "_view_module": "@jupyter-widgets/controls",
            "_model_module_version": "1.5.0",
            "_view_count": null,
            "_view_module_version": "1.5.0",
            "box_style": "",
            "layout": "IPY_MODEL_8b9a00f498094e6e8f1e62c538397ce7",
            "_model_module": "@jupyter-widgets/controls",
            "children": [
              "IPY_MODEL_4701ad5be1154cc99718c4a7ed350d3a",
              "IPY_MODEL_e5ed9076bf394002855fdb29965a6e28",
              "IPY_MODEL_a68f097c421441edb343b26ad96e2ff7",
              "IPY_MODEL_3cf1d883cc62424eb69b086424511140"
            ]
          }
        },
        "8b9a00f498094e6e8f1e62c538397ce7": {
          "model_module": "@jupyter-widgets/base",
          "model_name": "LayoutModel",
          "model_module_version": "1.2.0",
          "state": {
            "_view_name": "LayoutView",
            "grid_template_rows": null,
            "right": null,
            "justify_content": null,
            "_view_module": "@jupyter-widgets/base",
            "overflow": null,
            "_model_module_version": "1.2.0",
            "_view_count": null,
            "flex_flow": null,
            "width": null,
            "min_width": null,
            "border": null,
            "align_items": null,
            "bottom": null,
            "_model_module": "@jupyter-widgets/base",
            "top": null,
            "grid_column": null,
            "overflow_y": null,
            "overflow_x": null,
            "grid_auto_flow": null,
            "grid_area": null,
            "grid_template_columns": null,
            "flex": null,
            "_model_name": "LayoutModel",
            "justify_items": null,
            "grid_row": null,
            "max_height": null,
            "align_content": null,
            "visibility": null,
            "align_self": null,
            "height": null,
            "min_height": null,
            "padding": null,
            "grid_auto_rows": null,
            "grid_gap": null,
            "max_width": null,
            "order": null,
            "_view_module_version": "1.2.0",
            "grid_template_areas": null,
            "object_position": null,
            "object_fit": null,
            "grid_auto_columns": null,
            "margin": null,
            "display": null,
            "left": null
          }
        },
        "4701ad5be1154cc99718c4a7ed350d3a": {
          "model_module": "@jupyter-widgets/controls",
          "model_name": "IntSliderModel",
          "model_module_version": "1.5.0",
          "state": {
            "_view_name": "IntSliderView",
            "style": "IPY_MODEL_92edd5f3750540e4a0218cf26043400d",
            "_dom_classes": [],
            "description": "bianche",
            "step": 1,
            "_model_name": "IntSliderModel",
            "orientation": "horizontal",
            "max": 5,
            "_view_module": "@jupyter-widgets/controls",
            "_model_module_version": "1.5.0",
            "value": 2,
            "_view_count": null,
            "disabled": false,
            "_view_module_version": "1.5.0",
            "min": 1,
            "continuous_update": true,
            "readout_format": "d",
            "description_tooltip": null,
            "readout": true,
            "_model_module": "@jupyter-widgets/controls",
            "layout": "IPY_MODEL_f9cfbc5d54494907859744c393f8837c"
          }
        },
        "e5ed9076bf394002855fdb29965a6e28": {
          "model_module": "@jupyter-widgets/controls",
          "model_name": "IntSliderModel",
          "model_module_version": "1.5.0",
          "state": {
            "_view_name": "IntSliderView",
            "style": "IPY_MODEL_d76e15bf55f145cf889861284d7ecf0a",
            "_dom_classes": [],
            "description": "rosse",
            "step": 1,
            "_model_name": "IntSliderModel",
            "orientation": "horizontal",
            "max": 5,
            "_view_module": "@jupyter-widgets/controls",
            "_model_module_version": "1.5.0",
            "value": 3,
            "_view_count": null,
            "disabled": false,
            "_view_module_version": "1.5.0",
            "min": 1,
            "continuous_update": true,
            "readout_format": "d",
            "description_tooltip": null,
            "readout": true,
            "_model_module": "@jupyter-widgets/controls",
            "layout": "IPY_MODEL_de7a35c53ce34ff9843138269fd5d964"
          }
        },
        "a68f097c421441edb343b26ad96e2ff7": {
          "model_module": "@jupyter-widgets/controls",
          "model_name": "ButtonModel",
          "model_module_version": "1.5.0",
          "state": {
            "_view_name": "ButtonView",
            "style": "IPY_MODEL_2f74881172a04d41afca58b7dbdf04c3",
            "_dom_classes": [],
            "description": "Run Interact",
            "_model_name": "ButtonModel",
            "button_style": "",
            "_view_module": "@jupyter-widgets/controls",
            "_model_module_version": "1.5.0",
            "tooltip": "",
            "_view_count": null,
            "disabled": false,
            "_view_module_version": "1.5.0",
            "layout": "IPY_MODEL_e280734f98a849a2bb9ce0afbbe939ca",
            "_model_module": "@jupyter-widgets/controls",
            "icon": ""
          }
        },
        "3cf1d883cc62424eb69b086424511140": {
          "model_module": "@jupyter-widgets/output",
          "model_name": "OutputModel",
          "model_module_version": "1.0.0",
          "state": {
            "_view_name": "OutputView",
            "msg_id": "",
            "_dom_classes": [],
            "_model_name": "OutputModel",
            "outputs": [],
            "_view_module": "@jupyter-widgets/output",
            "_model_module_version": "1.0.0",
            "_view_count": null,
            "_view_module_version": "1.0.0",
            "layout": "IPY_MODEL_cde867fde2564d088074f673cbb18d4a",
            "_model_module": "@jupyter-widgets/output"
          }
        },
        "92edd5f3750540e4a0218cf26043400d": {
          "model_module": "@jupyter-widgets/controls",
          "model_name": "SliderStyleModel",
          "model_module_version": "1.5.0",
          "state": {
            "_view_name": "StyleView",
            "handle_color": null,
            "_model_name": "SliderStyleModel",
            "description_width": "",
            "_view_module": "@jupyter-widgets/base",
            "_model_module_version": "1.5.0",
            "_view_count": null,
            "_view_module_version": "1.2.0",
            "_model_module": "@jupyter-widgets/controls"
          }
        },
        "f9cfbc5d54494907859744c393f8837c": {
          "model_module": "@jupyter-widgets/base",
          "model_name": "LayoutModel",
          "model_module_version": "1.2.0",
          "state": {
            "_view_name": "LayoutView",
            "grid_template_rows": null,
            "right": null,
            "justify_content": null,
            "_view_module": "@jupyter-widgets/base",
            "overflow": null,
            "_model_module_version": "1.2.0",
            "_view_count": null,
            "flex_flow": null,
            "width": null,
            "min_width": null,
            "border": null,
            "align_items": null,
            "bottom": null,
            "_model_module": "@jupyter-widgets/base",
            "top": null,
            "grid_column": null,
            "overflow_y": null,
            "overflow_x": null,
            "grid_auto_flow": null,
            "grid_area": null,
            "grid_template_columns": null,
            "flex": null,
            "_model_name": "LayoutModel",
            "justify_items": null,
            "grid_row": null,
            "max_height": null,
            "align_content": null,
            "visibility": null,
            "align_self": null,
            "height": null,
            "min_height": null,
            "padding": null,
            "grid_auto_rows": null,
            "grid_gap": null,
            "max_width": null,
            "order": null,
            "_view_module_version": "1.2.0",
            "grid_template_areas": null,
            "object_position": null,
            "object_fit": null,
            "grid_auto_columns": null,
            "margin": null,
            "display": null,
            "left": null
          }
        },
        "d76e15bf55f145cf889861284d7ecf0a": {
          "model_module": "@jupyter-widgets/controls",
          "model_name": "SliderStyleModel",
          "model_module_version": "1.5.0",
          "state": {
            "_view_name": "StyleView",
            "handle_color": null,
            "_model_name": "SliderStyleModel",
            "description_width": "",
            "_view_module": "@jupyter-widgets/base",
            "_model_module_version": "1.5.0",
            "_view_count": null,
            "_view_module_version": "1.2.0",
            "_model_module": "@jupyter-widgets/controls"
          }
        },
        "de7a35c53ce34ff9843138269fd5d964": {
          "model_module": "@jupyter-widgets/base",
          "model_name": "LayoutModel",
          "model_module_version": "1.2.0",
          "state": {
            "_view_name": "LayoutView",
            "grid_template_rows": null,
            "right": null,
            "justify_content": null,
            "_view_module": "@jupyter-widgets/base",
            "overflow": null,
            "_model_module_version": "1.2.0",
            "_view_count": null,
            "flex_flow": null,
            "width": null,
            "min_width": null,
            "border": null,
            "align_items": null,
            "bottom": null,
            "_model_module": "@jupyter-widgets/base",
            "top": null,
            "grid_column": null,
            "overflow_y": null,
            "overflow_x": null,
            "grid_auto_flow": null,
            "grid_area": null,
            "grid_template_columns": null,
            "flex": null,
            "_model_name": "LayoutModel",
            "justify_items": null,
            "grid_row": null,
            "max_height": null,
            "align_content": null,
            "visibility": null,
            "align_self": null,
            "height": null,
            "min_height": null,
            "padding": null,
            "grid_auto_rows": null,
            "grid_gap": null,
            "max_width": null,
            "order": null,
            "_view_module_version": "1.2.0",
            "grid_template_areas": null,
            "object_position": null,
            "object_fit": null,
            "grid_auto_columns": null,
            "margin": null,
            "display": null,
            "left": null
          }
        },
        "2f74881172a04d41afca58b7dbdf04c3": {
          "model_module": "@jupyter-widgets/controls",
          "model_name": "ButtonStyleModel",
          "model_module_version": "1.5.0",
          "state": {
            "_view_name": "StyleView",
            "_model_name": "ButtonStyleModel",
            "_view_module": "@jupyter-widgets/base",
            "_model_module_version": "1.5.0",
            "_view_count": null,
            "button_color": null,
            "font_weight": "",
            "_view_module_version": "1.2.0",
            "_model_module": "@jupyter-widgets/controls"
          }
        },
        "e280734f98a849a2bb9ce0afbbe939ca": {
          "model_module": "@jupyter-widgets/base",
          "model_name": "LayoutModel",
          "model_module_version": "1.2.0",
          "state": {
            "_view_name": "LayoutView",
            "grid_template_rows": null,
            "right": null,
            "justify_content": null,
            "_view_module": "@jupyter-widgets/base",
            "overflow": null,
            "_model_module_version": "1.2.0",
            "_view_count": null,
            "flex_flow": null,
            "width": null,
            "min_width": null,
            "border": null,
            "align_items": null,
            "bottom": null,
            "_model_module": "@jupyter-widgets/base",
            "top": null,
            "grid_column": null,
            "overflow_y": null,
            "overflow_x": null,
            "grid_auto_flow": null,
            "grid_area": null,
            "grid_template_columns": null,
            "flex": null,
            "_model_name": "LayoutModel",
            "justify_items": null,
            "grid_row": null,
            "max_height": null,
            "align_content": null,
            "visibility": null,
            "align_self": null,
            "height": null,
            "min_height": null,
            "padding": null,
            "grid_auto_rows": null,
            "grid_gap": null,
            "max_width": null,
            "order": null,
            "_view_module_version": "1.2.0",
            "grid_template_areas": null,
            "object_position": null,
            "object_fit": null,
            "grid_auto_columns": null,
            "margin": null,
            "display": null,
            "left": null
          }
        },
        "cde867fde2564d088074f673cbb18d4a": {
          "model_module": "@jupyter-widgets/base",
          "model_name": "LayoutModel",
          "model_module_version": "1.2.0",
          "state": {
            "_view_name": "LayoutView",
            "grid_template_rows": null,
            "right": null,
            "justify_content": null,
            "_view_module": "@jupyter-widgets/base",
            "overflow": null,
            "_model_module_version": "1.2.0",
            "_view_count": null,
            "flex_flow": null,
            "width": null,
            "min_width": null,
            "border": null,
            "align_items": null,
            "bottom": null,
            "_model_module": "@jupyter-widgets/base",
            "top": null,
            "grid_column": null,
            "overflow_y": null,
            "overflow_x": null,
            "grid_auto_flow": null,
            "grid_area": null,
            "grid_template_columns": null,
            "flex": null,
            "_model_name": "LayoutModel",
            "justify_items": null,
            "grid_row": null,
            "max_height": null,
            "align_content": null,
            "visibility": null,
            "align_self": null,
            "height": null,
            "min_height": null,
            "padding": null,
            "grid_auto_rows": null,
            "grid_gap": null,
            "max_width": null,
            "order": null,
            "_view_module_version": "1.2.0",
            "grid_template_areas": null,
            "object_position": null,
            "object_fit": null,
            "grid_auto_columns": null,
            "margin": null,
            "display": null,
            "left": null
          }
        },
        "9d0be0790e7c4a2ca730d8bb9dd109dd": {
          "model_module": "@jupyter-widgets/controls",
          "model_name": "VBoxModel",
          "model_module_version": "1.5.0",
          "state": {
            "_view_name": "VBoxView",
            "_dom_classes": [
              "widget-interact"
            ],
            "_model_name": "VBoxModel",
            "_view_module": "@jupyter-widgets/controls",
            "_model_module_version": "1.5.0",
            "_view_count": null,
            "_view_module_version": "1.5.0",
            "box_style": "",
            "layout": "IPY_MODEL_8e9003118f5040a2be6460bd503f5bfe",
            "_model_module": "@jupyter-widgets/controls",
            "children": [
              "IPY_MODEL_1b9d7548717b44a69b1635488c7b0c34",
              "IPY_MODEL_2bec28ac9d024a7fa9c30b3ab23af7bd",
              "IPY_MODEL_e5df5a6d3573427f897dc7092533cbfe"
            ]
          }
        },
        "8e9003118f5040a2be6460bd503f5bfe": {
          "model_module": "@jupyter-widgets/base",
          "model_name": "LayoutModel",
          "model_module_version": "1.2.0",
          "state": {
            "_view_name": "LayoutView",
            "grid_template_rows": null,
            "right": null,
            "justify_content": null,
            "_view_module": "@jupyter-widgets/base",
            "overflow": null,
            "_model_module_version": "1.2.0",
            "_view_count": null,
            "flex_flow": null,
            "width": null,
            "min_width": null,
            "border": null,
            "align_items": null,
            "bottom": null,
            "_model_module": "@jupyter-widgets/base",
            "top": null,
            "grid_column": null,
            "overflow_y": null,
            "overflow_x": null,
            "grid_auto_flow": null,
            "grid_area": null,
            "grid_template_columns": null,
            "flex": null,
            "_model_name": "LayoutModel",
            "justify_items": null,
            "grid_row": null,
            "max_height": null,
            "align_content": null,
            "visibility": null,
            "align_self": null,
            "height": null,
            "min_height": null,
            "padding": null,
            "grid_auto_rows": null,
            "grid_gap": null,
            "max_width": null,
            "order": null,
            "_view_module_version": "1.2.0",
            "grid_template_areas": null,
            "object_position": null,
            "object_fit": null,
            "grid_auto_columns": null,
            "margin": null,
            "display": null,
            "left": null
          }
        },
        "1b9d7548717b44a69b1635488c7b0c34": {
          "model_module": "@jupyter-widgets/controls",
          "model_name": "IntSliderModel",
          "model_module_version": "1.5.0",
          "state": {
            "_view_name": "IntSliderView",
            "style": "IPY_MODEL_93735a0c0ce84f32a511e0971500d4ac",
            "_dom_classes": [],
            "description": "tempo",
            "step": 1,
            "_model_name": "IntSliderModel",
            "orientation": "horizontal",
            "max": 20,
            "_view_module": "@jupyter-widgets/controls",
            "_model_module_version": "1.5.0",
            "value": 10,
            "_view_count": null,
            "disabled": false,
            "_view_module_version": "1.5.0",
            "min": 1,
            "continuous_update": true,
            "readout_format": "d",
            "description_tooltip": null,
            "readout": true,
            "_model_module": "@jupyter-widgets/controls",
            "layout": "IPY_MODEL_cc53b20c7191494a984514efbb6dd97d"
          }
        },
        "2bec28ac9d024a7fa9c30b3ab23af7bd": {
          "model_module": "@jupyter-widgets/controls",
          "model_name": "ButtonModel",
          "model_module_version": "1.5.0",
          "state": {
            "_view_name": "ButtonView",
            "style": "IPY_MODEL_73f8ea44a048445bad5c43a6fc07a4b1",
            "_dom_classes": [],
            "description": "Run Interact",
            "_model_name": "ButtonModel",
            "button_style": "",
            "_view_module": "@jupyter-widgets/controls",
            "_model_module_version": "1.5.0",
            "tooltip": "",
            "_view_count": null,
            "disabled": false,
            "_view_module_version": "1.5.0",
            "layout": "IPY_MODEL_eda39477336e4f299fb3b3bf971270fc",
            "_model_module": "@jupyter-widgets/controls",
            "icon": ""
          }
        },
        "e5df5a6d3573427f897dc7092533cbfe": {
          "model_module": "@jupyter-widgets/output",
          "model_name": "OutputModel",
          "model_module_version": "1.0.0",
          "state": {
            "_view_name": "OutputView",
            "msg_id": "",
            "_dom_classes": [],
            "_model_name": "OutputModel",
            "outputs": [],
            "_view_module": "@jupyter-widgets/output",
            "_model_module_version": "1.0.0",
            "_view_count": null,
            "_view_module_version": "1.0.0",
            "layout": "IPY_MODEL_5b7dfa204c62429b8d36f22ac4bdb8c7",
            "_model_module": "@jupyter-widgets/output"
          }
        },
        "93735a0c0ce84f32a511e0971500d4ac": {
          "model_module": "@jupyter-widgets/controls",
          "model_name": "SliderStyleModel",
          "model_module_version": "1.5.0",
          "state": {
            "_view_name": "StyleView",
            "handle_color": null,
            "_model_name": "SliderStyleModel",
            "description_width": "",
            "_view_module": "@jupyter-widgets/base",
            "_model_module_version": "1.5.0",
            "_view_count": null,
            "_view_module_version": "1.2.0",
            "_model_module": "@jupyter-widgets/controls"
          }
        },
        "cc53b20c7191494a984514efbb6dd97d": {
          "model_module": "@jupyter-widgets/base",
          "model_name": "LayoutModel",
          "model_module_version": "1.2.0",
          "state": {
            "_view_name": "LayoutView",
            "grid_template_rows": null,
            "right": null,
            "justify_content": null,
            "_view_module": "@jupyter-widgets/base",
            "overflow": null,
            "_model_module_version": "1.2.0",
            "_view_count": null,
            "flex_flow": null,
            "width": null,
            "min_width": null,
            "border": null,
            "align_items": null,
            "bottom": null,
            "_model_module": "@jupyter-widgets/base",
            "top": null,
            "grid_column": null,
            "overflow_y": null,
            "overflow_x": null,
            "grid_auto_flow": null,
            "grid_area": null,
            "grid_template_columns": null,
            "flex": null,
            "_model_name": "LayoutModel",
            "justify_items": null,
            "grid_row": null,
            "max_height": null,
            "align_content": null,
            "visibility": null,
            "align_self": null,
            "height": null,
            "min_height": null,
            "padding": null,
            "grid_auto_rows": null,
            "grid_gap": null,
            "max_width": null,
            "order": null,
            "_view_module_version": "1.2.0",
            "grid_template_areas": null,
            "object_position": null,
            "object_fit": null,
            "grid_auto_columns": null,
            "margin": null,
            "display": null,
            "left": null
          }
        },
        "73f8ea44a048445bad5c43a6fc07a4b1": {
          "model_module": "@jupyter-widgets/controls",
          "model_name": "ButtonStyleModel",
          "model_module_version": "1.5.0",
          "state": {
            "_view_name": "StyleView",
            "_model_name": "ButtonStyleModel",
            "_view_module": "@jupyter-widgets/base",
            "_model_module_version": "1.5.0",
            "_view_count": null,
            "button_color": null,
            "font_weight": "",
            "_view_module_version": "1.2.0",
            "_model_module": "@jupyter-widgets/controls"
          }
        },
        "eda39477336e4f299fb3b3bf971270fc": {
          "model_module": "@jupyter-widgets/base",
          "model_name": "LayoutModel",
          "model_module_version": "1.2.0",
          "state": {
            "_view_name": "LayoutView",
            "grid_template_rows": null,
            "right": null,
            "justify_content": null,
            "_view_module": "@jupyter-widgets/base",
            "overflow": null,
            "_model_module_version": "1.2.0",
            "_view_count": null,
            "flex_flow": null,
            "width": null,
            "min_width": null,
            "border": null,
            "align_items": null,
            "bottom": null,
            "_model_module": "@jupyter-widgets/base",
            "top": null,
            "grid_column": null,
            "overflow_y": null,
            "overflow_x": null,
            "grid_auto_flow": null,
            "grid_area": null,
            "grid_template_columns": null,
            "flex": null,
            "_model_name": "LayoutModel",
            "justify_items": null,
            "grid_row": null,
            "max_height": null,
            "align_content": null,
            "visibility": null,
            "align_self": null,
            "height": null,
            "min_height": null,
            "padding": null,
            "grid_auto_rows": null,
            "grid_gap": null,
            "max_width": null,
            "order": null,
            "_view_module_version": "1.2.0",
            "grid_template_areas": null,
            "object_position": null,
            "object_fit": null,
            "grid_auto_columns": null,
            "margin": null,
            "display": null,
            "left": null
          }
        },
        "5b7dfa204c62429b8d36f22ac4bdb8c7": {
          "model_module": "@jupyter-widgets/base",
          "model_name": "LayoutModel",
          "model_module_version": "1.2.0",
          "state": {
            "_view_name": "LayoutView",
            "grid_template_rows": null,
            "right": null,
            "justify_content": null,
            "_view_module": "@jupyter-widgets/base",
            "overflow": null,
            "_model_module_version": "1.2.0",
            "_view_count": null,
            "flex_flow": null,
            "width": null,
            "min_width": null,
            "border": null,
            "align_items": null,
            "bottom": null,
            "_model_module": "@jupyter-widgets/base",
            "top": null,
            "grid_column": null,
            "overflow_y": null,
            "overflow_x": null,
            "grid_auto_flow": null,
            "grid_area": null,
            "grid_template_columns": null,
            "flex": null,
            "_model_name": "LayoutModel",
            "justify_items": null,
            "grid_row": null,
            "max_height": null,
            "align_content": null,
            "visibility": null,
            "align_self": null,
            "height": null,
            "min_height": null,
            "padding": null,
            "grid_auto_rows": null,
            "grid_gap": null,
            "max_width": null,
            "order": null,
            "_view_module_version": "1.2.0",
            "grid_template_areas": null,
            "object_position": null,
            "object_fit": null,
            "grid_auto_columns": null,
            "margin": null,
            "display": null,
            "left": null
          }
        },
        "66de83a352a54cc0b2fcb8a2e7bf98a2": {
          "model_module": "@jupyter-widgets/controls",
          "model_name": "VBoxModel",
          "model_module_version": "1.5.0",
          "state": {
            "_view_name": "VBoxView",
            "_dom_classes": [
              "widget-interact"
            ],
            "_model_name": "VBoxModel",
            "_view_module": "@jupyter-widgets/controls",
            "_model_module_version": "1.5.0",
            "_view_count": null,
            "_view_module_version": "1.5.0",
            "box_style": "",
            "layout": "IPY_MODEL_d53fef826b8944a68488880f2dc44666",
            "_model_module": "@jupyter-widgets/controls",
            "children": [
              "IPY_MODEL_ce160265aac148a3841a9943e6a3ca1c",
              "IPY_MODEL_a765091632a045ec85683db6e0692e6c",
              "IPY_MODEL_d59d05ecfc074e49bd54668fde928b8f",
              "IPY_MODEL_7a696a312c8b42249b152c5d59a2e2f6"
            ]
          }
        },
        "d53fef826b8944a68488880f2dc44666": {
          "model_module": "@jupyter-widgets/base",
          "model_name": "LayoutModel",
          "model_module_version": "1.2.0",
          "state": {
            "_view_name": "LayoutView",
            "grid_template_rows": null,
            "right": null,
            "justify_content": null,
            "_view_module": "@jupyter-widgets/base",
            "overflow": null,
            "_model_module_version": "1.2.0",
            "_view_count": null,
            "flex_flow": null,
            "width": null,
            "min_width": null,
            "border": null,
            "align_items": null,
            "bottom": null,
            "_model_module": "@jupyter-widgets/base",
            "top": null,
            "grid_column": null,
            "overflow_y": null,
            "overflow_x": null,
            "grid_auto_flow": null,
            "grid_area": null,
            "grid_template_columns": null,
            "flex": null,
            "_model_name": "LayoutModel",
            "justify_items": null,
            "grid_row": null,
            "max_height": null,
            "align_content": null,
            "visibility": null,
            "align_self": null,
            "height": null,
            "min_height": null,
            "padding": null,
            "grid_auto_rows": null,
            "grid_gap": null,
            "max_width": null,
            "order": null,
            "_view_module_version": "1.2.0",
            "grid_template_areas": null,
            "object_position": null,
            "object_fit": null,
            "grid_auto_columns": null,
            "margin": null,
            "display": null,
            "left": null
          }
        },
        "ce160265aac148a3841a9943e6a3ca1c": {
          "model_module": "@jupyter-widgets/controls",
          "model_name": "IntSliderModel",
          "model_module_version": "1.5.0",
          "state": {
            "_view_name": "IntSliderView",
            "style": "IPY_MODEL_9cab1a28dfd7494ba665f26785e8f7e8",
            "_dom_classes": [],
            "description": "a",
            "step": 1,
            "_model_name": "IntSliderModel",
            "orientation": "horizontal",
            "max": 10,
            "_view_module": "@jupyter-widgets/controls",
            "_model_module_version": "1.5.0",
            "value": 4,
            "_view_count": null,
            "disabled": false,
            "_view_module_version": "1.5.0",
            "min": 0,
            "continuous_update": true,
            "readout_format": "d",
            "description_tooltip": null,
            "readout": true,
            "_model_module": "@jupyter-widgets/controls",
            "layout": "IPY_MODEL_8e28499def844d6f998ab4f8d3c1d3a8"
          }
        },
        "a765091632a045ec85683db6e0692e6c": {
          "model_module": "@jupyter-widgets/controls",
          "model_name": "IntSliderModel",
          "model_module_version": "1.5.0",
          "state": {
            "_view_name": "IntSliderView",
            "style": "IPY_MODEL_f5f7b5f83bae4763b1936516c56e57f6",
            "_dom_classes": [],
            "description": "b",
            "step": 1,
            "_model_name": "IntSliderModel",
            "orientation": "horizontal",
            "max": 10,
            "_view_module": "@jupyter-widgets/controls",
            "_model_module_version": "1.5.0",
            "value": 6,
            "_view_count": null,
            "disabled": false,
            "_view_module_version": "1.5.0",
            "min": 0,
            "continuous_update": true,
            "readout_format": "d",
            "description_tooltip": null,
            "readout": true,
            "_model_module": "@jupyter-widgets/controls",
            "layout": "IPY_MODEL_d80fb5c699ee4b1697ee4d04794f3943"
          }
        },
        "d59d05ecfc074e49bd54668fde928b8f": {
          "model_module": "@jupyter-widgets/controls",
          "model_name": "ButtonModel",
          "model_module_version": "1.5.0",
          "state": {
            "_view_name": "ButtonView",
            "style": "IPY_MODEL_5123c8a265df4c03aca43fdb5460b05a",
            "_dom_classes": [],
            "description": "Run Interact",
            "_model_name": "ButtonModel",
            "button_style": "",
            "_view_module": "@jupyter-widgets/controls",
            "_model_module_version": "1.5.0",
            "tooltip": "",
            "_view_count": null,
            "disabled": false,
            "_view_module_version": "1.5.0",
            "layout": "IPY_MODEL_c58195d1bc7a4525b43825b05e87753a",
            "_model_module": "@jupyter-widgets/controls",
            "icon": ""
          }
        },
        "7a696a312c8b42249b152c5d59a2e2f6": {
          "model_module": "@jupyter-widgets/output",
          "model_name": "OutputModel",
          "model_module_version": "1.0.0",
          "state": {
            "_view_name": "OutputView",
            "msg_id": "",
            "_dom_classes": [],
            "_model_name": "OutputModel",
            "outputs": [],
            "_view_module": "@jupyter-widgets/output",
            "_model_module_version": "1.0.0",
            "_view_count": null,
            "_view_module_version": "1.0.0",
            "layout": "IPY_MODEL_f3d5e416593d4d4281a6d4f88366766d",
            "_model_module": "@jupyter-widgets/output"
          }
        },
        "9cab1a28dfd7494ba665f26785e8f7e8": {
          "model_module": "@jupyter-widgets/controls",
          "model_name": "SliderStyleModel",
          "model_module_version": "1.5.0",
          "state": {
            "_view_name": "StyleView",
            "handle_color": null,
            "_model_name": "SliderStyleModel",
            "description_width": "",
            "_view_module": "@jupyter-widgets/base",
            "_model_module_version": "1.5.0",
            "_view_count": null,
            "_view_module_version": "1.2.0",
            "_model_module": "@jupyter-widgets/controls"
          }
        },
        "8e28499def844d6f998ab4f8d3c1d3a8": {
          "model_module": "@jupyter-widgets/base",
          "model_name": "LayoutModel",
          "model_module_version": "1.2.0",
          "state": {
            "_view_name": "LayoutView",
            "grid_template_rows": null,
            "right": null,
            "justify_content": null,
            "_view_module": "@jupyter-widgets/base",
            "overflow": null,
            "_model_module_version": "1.2.0",
            "_view_count": null,
            "flex_flow": null,
            "width": null,
            "min_width": null,
            "border": null,
            "align_items": null,
            "bottom": null,
            "_model_module": "@jupyter-widgets/base",
            "top": null,
            "grid_column": null,
            "overflow_y": null,
            "overflow_x": null,
            "grid_auto_flow": null,
            "grid_area": null,
            "grid_template_columns": null,
            "flex": null,
            "_model_name": "LayoutModel",
            "justify_items": null,
            "grid_row": null,
            "max_height": null,
            "align_content": null,
            "visibility": null,
            "align_self": null,
            "height": null,
            "min_height": null,
            "padding": null,
            "grid_auto_rows": null,
            "grid_gap": null,
            "max_width": null,
            "order": null,
            "_view_module_version": "1.2.0",
            "grid_template_areas": null,
            "object_position": null,
            "object_fit": null,
            "grid_auto_columns": null,
            "margin": null,
            "display": null,
            "left": null
          }
        },
        "f5f7b5f83bae4763b1936516c56e57f6": {
          "model_module": "@jupyter-widgets/controls",
          "model_name": "SliderStyleModel",
          "model_module_version": "1.5.0",
          "state": {
            "_view_name": "StyleView",
            "handle_color": null,
            "_model_name": "SliderStyleModel",
            "description_width": "",
            "_view_module": "@jupyter-widgets/base",
            "_model_module_version": "1.5.0",
            "_view_count": null,
            "_view_module_version": "1.2.0",
            "_model_module": "@jupyter-widgets/controls"
          }
        },
        "d80fb5c699ee4b1697ee4d04794f3943": {
          "model_module": "@jupyter-widgets/base",
          "model_name": "LayoutModel",
          "model_module_version": "1.2.0",
          "state": {
            "_view_name": "LayoutView",
            "grid_template_rows": null,
            "right": null,
            "justify_content": null,
            "_view_module": "@jupyter-widgets/base",
            "overflow": null,
            "_model_module_version": "1.2.0",
            "_view_count": null,
            "flex_flow": null,
            "width": null,
            "min_width": null,
            "border": null,
            "align_items": null,
            "bottom": null,
            "_model_module": "@jupyter-widgets/base",
            "top": null,
            "grid_column": null,
            "overflow_y": null,
            "overflow_x": null,
            "grid_auto_flow": null,
            "grid_area": null,
            "grid_template_columns": null,
            "flex": null,
            "_model_name": "LayoutModel",
            "justify_items": null,
            "grid_row": null,
            "max_height": null,
            "align_content": null,
            "visibility": null,
            "align_self": null,
            "height": null,
            "min_height": null,
            "padding": null,
            "grid_auto_rows": null,
            "grid_gap": null,
            "max_width": null,
            "order": null,
            "_view_module_version": "1.2.0",
            "grid_template_areas": null,
            "object_position": null,
            "object_fit": null,
            "grid_auto_columns": null,
            "margin": null,
            "display": null,
            "left": null
          }
        },
        "5123c8a265df4c03aca43fdb5460b05a": {
          "model_module": "@jupyter-widgets/controls",
          "model_name": "ButtonStyleModel",
          "model_module_version": "1.5.0",
          "state": {
            "_view_name": "StyleView",
            "_model_name": "ButtonStyleModel",
            "_view_module": "@jupyter-widgets/base",
            "_model_module_version": "1.5.0",
            "_view_count": null,
            "button_color": null,
            "font_weight": "",
            "_view_module_version": "1.2.0",
            "_model_module": "@jupyter-widgets/controls"
          }
        },
        "c58195d1bc7a4525b43825b05e87753a": {
          "model_module": "@jupyter-widgets/base",
          "model_name": "LayoutModel",
          "model_module_version": "1.2.0",
          "state": {
            "_view_name": "LayoutView",
            "grid_template_rows": null,
            "right": null,
            "justify_content": null,
            "_view_module": "@jupyter-widgets/base",
            "overflow": null,
            "_model_module_version": "1.2.0",
            "_view_count": null,
            "flex_flow": null,
            "width": null,
            "min_width": null,
            "border": null,
            "align_items": null,
            "bottom": null,
            "_model_module": "@jupyter-widgets/base",
            "top": null,
            "grid_column": null,
            "overflow_y": null,
            "overflow_x": null,
            "grid_auto_flow": null,
            "grid_area": null,
            "grid_template_columns": null,
            "flex": null,
            "_model_name": "LayoutModel",
            "justify_items": null,
            "grid_row": null,
            "max_height": null,
            "align_content": null,
            "visibility": null,
            "align_self": null,
            "height": null,
            "min_height": null,
            "padding": null,
            "grid_auto_rows": null,
            "grid_gap": null,
            "max_width": null,
            "order": null,
            "_view_module_version": "1.2.0",
            "grid_template_areas": null,
            "object_position": null,
            "object_fit": null,
            "grid_auto_columns": null,
            "margin": null,
            "display": null,
            "left": null
          }
        },
        "f3d5e416593d4d4281a6d4f88366766d": {
          "model_module": "@jupyter-widgets/base",
          "model_name": "LayoutModel",
          "model_module_version": "1.2.0",
          "state": {
            "_view_name": "LayoutView",
            "grid_template_rows": null,
            "right": null,
            "justify_content": null,
            "_view_module": "@jupyter-widgets/base",
            "overflow": null,
            "_model_module_version": "1.2.0",
            "_view_count": null,
            "flex_flow": null,
            "width": null,
            "min_width": null,
            "border": null,
            "align_items": null,
            "bottom": null,
            "_model_module": "@jupyter-widgets/base",
            "top": null,
            "grid_column": null,
            "overflow_y": null,
            "overflow_x": null,
            "grid_auto_flow": null,
            "grid_area": null,
            "grid_template_columns": null,
            "flex": null,
            "_model_name": "LayoutModel",
            "justify_items": null,
            "grid_row": null,
            "max_height": null,
            "align_content": null,
            "visibility": null,
            "align_self": null,
            "height": null,
            "min_height": null,
            "padding": null,
            "grid_auto_rows": null,
            "grid_gap": null,
            "max_width": null,
            "order": null,
            "_view_module_version": "1.2.0",
            "grid_template_areas": null,
            "object_position": null,
            "object_fit": null,
            "grid_auto_columns": null,
            "margin": null,
            "display": null,
            "left": null
          }
        },
        "d80f062038d74e9cb2e4e4e2aa53fe35": {
          "model_module": "@jupyter-widgets/controls",
          "model_name": "VBoxModel",
          "model_module_version": "1.5.0",
          "state": {
            "_view_name": "VBoxView",
            "_dom_classes": [
              "widget-interact"
            ],
            "_model_name": "VBoxModel",
            "_view_module": "@jupyter-widgets/controls",
            "_model_module_version": "1.5.0",
            "_view_count": null,
            "_view_module_version": "1.5.0",
            "box_style": "",
            "layout": "IPY_MODEL_f798a8e6564f493590ae0af015fab3a6",
            "_model_module": "@jupyter-widgets/controls",
            "children": [
              "IPY_MODEL_eacb9c04febe4496991b1312d11b53d4",
              "IPY_MODEL_7dda3bc3efdd4613b9be1fa8e988b12a",
              "IPY_MODEL_d7fc15f25d134b23ba6242d376b57f90"
            ]
          }
        },
        "f798a8e6564f493590ae0af015fab3a6": {
          "model_module": "@jupyter-widgets/base",
          "model_name": "LayoutModel",
          "model_module_version": "1.2.0",
          "state": {
            "_view_name": "LayoutView",
            "grid_template_rows": null,
            "right": null,
            "justify_content": null,
            "_view_module": "@jupyter-widgets/base",
            "overflow": null,
            "_model_module_version": "1.2.0",
            "_view_count": null,
            "flex_flow": null,
            "width": null,
            "min_width": null,
            "border": null,
            "align_items": null,
            "bottom": null,
            "_model_module": "@jupyter-widgets/base",
            "top": null,
            "grid_column": null,
            "overflow_y": null,
            "overflow_x": null,
            "grid_auto_flow": null,
            "grid_area": null,
            "grid_template_columns": null,
            "flex": null,
            "_model_name": "LayoutModel",
            "justify_items": null,
            "grid_row": null,
            "max_height": null,
            "align_content": null,
            "visibility": null,
            "align_self": null,
            "height": null,
            "min_height": null,
            "padding": null,
            "grid_auto_rows": null,
            "grid_gap": null,
            "max_width": null,
            "order": null,
            "_view_module_version": "1.2.0",
            "grid_template_areas": null,
            "object_position": null,
            "object_fit": null,
            "grid_auto_columns": null,
            "margin": null,
            "display": null,
            "left": null
          }
        },
        "eacb9c04febe4496991b1312d11b53d4": {
          "model_module": "@jupyter-widgets/controls",
          "model_name": "IntSliderModel",
          "model_module_version": "1.5.0",
          "state": {
            "_view_name": "IntSliderView",
            "style": "IPY_MODEL_82ab412793d646b795a4f6ab97e10198",
            "_dom_classes": [],
            "description": "ore",
            "step": 1,
            "_model_name": "IntSliderModel",
            "orientation": "horizontal",
            "max": 72,
            "_view_module": "@jupyter-widgets/controls",
            "_model_module_version": "1.5.0",
            "value": 3,
            "_view_count": null,
            "disabled": false,
            "_view_module_version": "1.5.0",
            "min": 0,
            "continuous_update": true,
            "readout_format": "d",
            "description_tooltip": null,
            "readout": true,
            "_model_module": "@jupyter-widgets/controls",
            "layout": "IPY_MODEL_1c963b159a9b42c398a4cdb36b956f0c"
          }
        },
        "7dda3bc3efdd4613b9be1fa8e988b12a": {
          "model_module": "@jupyter-widgets/controls",
          "model_name": "ButtonModel",
          "model_module_version": "1.5.0",
          "state": {
            "_view_name": "ButtonView",
            "style": "IPY_MODEL_bbbf98603479499d8ce742707970515d",
            "_dom_classes": [],
            "description": "Run Interact",
            "_model_name": "ButtonModel",
            "button_style": "",
            "_view_module": "@jupyter-widgets/controls",
            "_model_module_version": "1.5.0",
            "tooltip": "",
            "_view_count": null,
            "disabled": false,
            "_view_module_version": "1.5.0",
            "layout": "IPY_MODEL_2ceb3991de1d4a9584f90fc3ee278640",
            "_model_module": "@jupyter-widgets/controls",
            "icon": ""
          }
        },
        "d7fc15f25d134b23ba6242d376b57f90": {
          "model_module": "@jupyter-widgets/output",
          "model_name": "OutputModel",
          "model_module_version": "1.0.0",
          "state": {
            "_view_name": "OutputView",
            "msg_id": "",
            "_dom_classes": [],
            "_model_name": "OutputModel",
            "outputs": [],
            "_view_module": "@jupyter-widgets/output",
            "_model_module_version": "1.0.0",
            "_view_count": null,
            "_view_module_version": "1.0.0",
            "layout": "IPY_MODEL_cd06e721bf1b4f90ae09a7e93b72d441",
            "_model_module": "@jupyter-widgets/output"
          }
        },
        "82ab412793d646b795a4f6ab97e10198": {
          "model_module": "@jupyter-widgets/controls",
          "model_name": "SliderStyleModel",
          "model_module_version": "1.5.0",
          "state": {
            "_view_name": "StyleView",
            "handle_color": null,
            "_model_name": "SliderStyleModel",
            "description_width": "",
            "_view_module": "@jupyter-widgets/base",
            "_model_module_version": "1.5.0",
            "_view_count": null,
            "_view_module_version": "1.2.0",
            "_model_module": "@jupyter-widgets/controls"
          }
        },
        "1c963b159a9b42c398a4cdb36b956f0c": {
          "model_module": "@jupyter-widgets/base",
          "model_name": "LayoutModel",
          "model_module_version": "1.2.0",
          "state": {
            "_view_name": "LayoutView",
            "grid_template_rows": null,
            "right": null,
            "justify_content": null,
            "_view_module": "@jupyter-widgets/base",
            "overflow": null,
            "_model_module_version": "1.2.0",
            "_view_count": null,
            "flex_flow": null,
            "width": null,
            "min_width": null,
            "border": null,
            "align_items": null,
            "bottom": null,
            "_model_module": "@jupyter-widgets/base",
            "top": null,
            "grid_column": null,
            "overflow_y": null,
            "overflow_x": null,
            "grid_auto_flow": null,
            "grid_area": null,
            "grid_template_columns": null,
            "flex": null,
            "_model_name": "LayoutModel",
            "justify_items": null,
            "grid_row": null,
            "max_height": null,
            "align_content": null,
            "visibility": null,
            "align_self": null,
            "height": null,
            "min_height": null,
            "padding": null,
            "grid_auto_rows": null,
            "grid_gap": null,
            "max_width": null,
            "order": null,
            "_view_module_version": "1.2.0",
            "grid_template_areas": null,
            "object_position": null,
            "object_fit": null,
            "grid_auto_columns": null,
            "margin": null,
            "display": null,
            "left": null
          }
        },
        "bbbf98603479499d8ce742707970515d": {
          "model_module": "@jupyter-widgets/controls",
          "model_name": "ButtonStyleModel",
          "model_module_version": "1.5.0",
          "state": {
            "_view_name": "StyleView",
            "_model_name": "ButtonStyleModel",
            "_view_module": "@jupyter-widgets/base",
            "_model_module_version": "1.5.0",
            "_view_count": null,
            "button_color": null,
            "font_weight": "",
            "_view_module_version": "1.2.0",
            "_model_module": "@jupyter-widgets/controls"
          }
        },
        "2ceb3991de1d4a9584f90fc3ee278640": {
          "model_module": "@jupyter-widgets/base",
          "model_name": "LayoutModel",
          "model_module_version": "1.2.0",
          "state": {
            "_view_name": "LayoutView",
            "grid_template_rows": null,
            "right": null,
            "justify_content": null,
            "_view_module": "@jupyter-widgets/base",
            "overflow": null,
            "_model_module_version": "1.2.0",
            "_view_count": null,
            "flex_flow": null,
            "width": null,
            "min_width": null,
            "border": null,
            "align_items": null,
            "bottom": null,
            "_model_module": "@jupyter-widgets/base",
            "top": null,
            "grid_column": null,
            "overflow_y": null,
            "overflow_x": null,
            "grid_auto_flow": null,
            "grid_area": null,
            "grid_template_columns": null,
            "flex": null,
            "_model_name": "LayoutModel",
            "justify_items": null,
            "grid_row": null,
            "max_height": null,
            "align_content": null,
            "visibility": null,
            "align_self": null,
            "height": null,
            "min_height": null,
            "padding": null,
            "grid_auto_rows": null,
            "grid_gap": null,
            "max_width": null,
            "order": null,
            "_view_module_version": "1.2.0",
            "grid_template_areas": null,
            "object_position": null,
            "object_fit": null,
            "grid_auto_columns": null,
            "margin": null,
            "display": null,
            "left": null
          }
        },
        "cd06e721bf1b4f90ae09a7e93b72d441": {
          "model_module": "@jupyter-widgets/base",
          "model_name": "LayoutModel",
          "model_module_version": "1.2.0",
          "state": {
            "_view_name": "LayoutView",
            "grid_template_rows": null,
            "right": null,
            "justify_content": null,
            "_view_module": "@jupyter-widgets/base",
            "overflow": null,
            "_model_module_version": "1.2.0",
            "_view_count": null,
            "flex_flow": null,
            "width": null,
            "min_width": null,
            "border": null,
            "align_items": null,
            "bottom": null,
            "_model_module": "@jupyter-widgets/base",
            "top": null,
            "grid_column": null,
            "overflow_y": null,
            "overflow_x": null,
            "grid_auto_flow": null,
            "grid_area": null,
            "grid_template_columns": null,
            "flex": null,
            "_model_name": "LayoutModel",
            "justify_items": null,
            "grid_row": null,
            "max_height": null,
            "align_content": null,
            "visibility": null,
            "align_self": null,
            "height": null,
            "min_height": null,
            "padding": null,
            "grid_auto_rows": null,
            "grid_gap": null,
            "max_width": null,
            "order": null,
            "_view_module_version": "1.2.0",
            "grid_template_areas": null,
            "object_position": null,
            "object_fit": null,
            "grid_auto_columns": null,
            "margin": null,
            "display": null,
            "left": null
          }
        },
        "86eedd4842bc4c9fb7a2e5986d0b5a48": {
          "model_module": "@jupyter-widgets/controls",
          "model_name": "VBoxModel",
          "model_module_version": "1.5.0",
          "state": {
            "_view_name": "VBoxView",
            "_dom_classes": [
              "widget-interact"
            ],
            "_model_name": "VBoxModel",
            "_view_module": "@jupyter-widgets/controls",
            "_model_module_version": "1.5.0",
            "_view_count": null,
            "_view_module_version": "1.5.0",
            "box_style": "",
            "layout": "IPY_MODEL_955eb0b921af48028ed4390cff9ddc27",
            "_model_module": "@jupyter-widgets/controls",
            "children": [
              "IPY_MODEL_a04a8b2cedf74283871bd1a907bb10cc",
              "IPY_MODEL_5437a3d504b749db9ea0cc17630ae730",
              "IPY_MODEL_25b84e65851a46d1b0c2cf9a0042863e"
            ]
          }
        },
        "955eb0b921af48028ed4390cff9ddc27": {
          "model_module": "@jupyter-widgets/base",
          "model_name": "LayoutModel",
          "model_module_version": "1.2.0",
          "state": {
            "_view_name": "LayoutView",
            "grid_template_rows": null,
            "right": null,
            "justify_content": null,
            "_view_module": "@jupyter-widgets/base",
            "overflow": null,
            "_model_module_version": "1.2.0",
            "_view_count": null,
            "flex_flow": null,
            "width": null,
            "min_width": null,
            "border": null,
            "align_items": null,
            "bottom": null,
            "_model_module": "@jupyter-widgets/base",
            "top": null,
            "grid_column": null,
            "overflow_y": null,
            "overflow_x": null,
            "grid_auto_flow": null,
            "grid_area": null,
            "grid_template_columns": null,
            "flex": null,
            "_model_name": "LayoutModel",
            "justify_items": null,
            "grid_row": null,
            "max_height": null,
            "align_content": null,
            "visibility": null,
            "align_self": null,
            "height": null,
            "min_height": null,
            "padding": null,
            "grid_auto_rows": null,
            "grid_gap": null,
            "max_width": null,
            "order": null,
            "_view_module_version": "1.2.0",
            "grid_template_areas": null,
            "object_position": null,
            "object_fit": null,
            "grid_auto_columns": null,
            "margin": null,
            "display": null,
            "left": null
          }
        },
        "a04a8b2cedf74283871bd1a907bb10cc": {
          "model_module": "@jupyter-widgets/controls",
          "model_name": "IntSliderModel",
          "model_module_version": "1.5.0",
          "state": {
            "_view_name": "IntSliderView",
            "style": "IPY_MODEL_d0066a8604ab41099f5a3ae752fa56d8",
            "_dom_classes": [],
            "description": "λ",
            "step": 1,
            "_model_name": "IntSliderModel",
            "orientation": "horizontal",
            "max": 10,
            "_view_module": "@jupyter-widgets/controls",
            "_model_module_version": "1.5.0",
            "value": 2,
            "_view_count": null,
            "disabled": false,
            "_view_module_version": "1.5.0",
            "min": 2,
            "continuous_update": true,
            "readout_format": "d",
            "description_tooltip": null,
            "readout": true,
            "_model_module": "@jupyter-widgets/controls",
            "layout": "IPY_MODEL_76a129a2d5b94aa89fac9ae575caf7c3"
          }
        },
        "5437a3d504b749db9ea0cc17630ae730": {
          "model_module": "@jupyter-widgets/controls",
          "model_name": "ButtonModel",
          "model_module_version": "1.5.0",
          "state": {
            "_view_name": "ButtonView",
            "style": "IPY_MODEL_ca663603818f4b758835a0f06ab223a8",
            "_dom_classes": [],
            "description": "Run Interact",
            "_model_name": "ButtonModel",
            "button_style": "",
            "_view_module": "@jupyter-widgets/controls",
            "_model_module_version": "1.5.0",
            "tooltip": "",
            "_view_count": null,
            "disabled": false,
            "_view_module_version": "1.5.0",
            "layout": "IPY_MODEL_b3330d5a27934985b3a40dcc401dc51a",
            "_model_module": "@jupyter-widgets/controls",
            "icon": ""
          }
        },
        "25b84e65851a46d1b0c2cf9a0042863e": {
          "model_module": "@jupyter-widgets/output",
          "model_name": "OutputModel",
          "model_module_version": "1.0.0",
          "state": {
            "_view_name": "OutputView",
            "msg_id": "",
            "_dom_classes": [],
            "_model_name": "OutputModel",
            "outputs": [],
            "_view_module": "@jupyter-widgets/output",
            "_model_module_version": "1.0.0",
            "_view_count": null,
            "_view_module_version": "1.0.0",
            "layout": "IPY_MODEL_25ec1b84c58949fa9bb10893b179ade8",
            "_model_module": "@jupyter-widgets/output"
          }
        },
        "d0066a8604ab41099f5a3ae752fa56d8": {
          "model_module": "@jupyter-widgets/controls",
          "model_name": "SliderStyleModel",
          "model_module_version": "1.5.0",
          "state": {
            "_view_name": "StyleView",
            "handle_color": null,
            "_model_name": "SliderStyleModel",
            "description_width": "",
            "_view_module": "@jupyter-widgets/base",
            "_model_module_version": "1.5.0",
            "_view_count": null,
            "_view_module_version": "1.2.0",
            "_model_module": "@jupyter-widgets/controls"
          }
        },
        "76a129a2d5b94aa89fac9ae575caf7c3": {
          "model_module": "@jupyter-widgets/base",
          "model_name": "LayoutModel",
          "model_module_version": "1.2.0",
          "state": {
            "_view_name": "LayoutView",
            "grid_template_rows": null,
            "right": null,
            "justify_content": null,
            "_view_module": "@jupyter-widgets/base",
            "overflow": null,
            "_model_module_version": "1.2.0",
            "_view_count": null,
            "flex_flow": null,
            "width": null,
            "min_width": null,
            "border": null,
            "align_items": null,
            "bottom": null,
            "_model_module": "@jupyter-widgets/base",
            "top": null,
            "grid_column": null,
            "overflow_y": null,
            "overflow_x": null,
            "grid_auto_flow": null,
            "grid_area": null,
            "grid_template_columns": null,
            "flex": null,
            "_model_name": "LayoutModel",
            "justify_items": null,
            "grid_row": null,
            "max_height": null,
            "align_content": null,
            "visibility": null,
            "align_self": null,
            "height": null,
            "min_height": null,
            "padding": null,
            "grid_auto_rows": null,
            "grid_gap": null,
            "max_width": null,
            "order": null,
            "_view_module_version": "1.2.0",
            "grid_template_areas": null,
            "object_position": null,
            "object_fit": null,
            "grid_auto_columns": null,
            "margin": null,
            "display": null,
            "left": null
          }
        },
        "ca663603818f4b758835a0f06ab223a8": {
          "model_module": "@jupyter-widgets/controls",
          "model_name": "ButtonStyleModel",
          "model_module_version": "1.5.0",
          "state": {
            "_view_name": "StyleView",
            "_model_name": "ButtonStyleModel",
            "_view_module": "@jupyter-widgets/base",
            "_model_module_version": "1.5.0",
            "_view_count": null,
            "button_color": null,
            "font_weight": "",
            "_view_module_version": "1.2.0",
            "_model_module": "@jupyter-widgets/controls"
          }
        },
        "b3330d5a27934985b3a40dcc401dc51a": {
          "model_module": "@jupyter-widgets/base",
          "model_name": "LayoutModel",
          "model_module_version": "1.2.0",
          "state": {
            "_view_name": "LayoutView",
            "grid_template_rows": null,
            "right": null,
            "justify_content": null,
            "_view_module": "@jupyter-widgets/base",
            "overflow": null,
            "_model_module_version": "1.2.0",
            "_view_count": null,
            "flex_flow": null,
            "width": null,
            "min_width": null,
            "border": null,
            "align_items": null,
            "bottom": null,
            "_model_module": "@jupyter-widgets/base",
            "top": null,
            "grid_column": null,
            "overflow_y": null,
            "overflow_x": null,
            "grid_auto_flow": null,
            "grid_area": null,
            "grid_template_columns": null,
            "flex": null,
            "_model_name": "LayoutModel",
            "justify_items": null,
            "grid_row": null,
            "max_height": null,
            "align_content": null,
            "visibility": null,
            "align_self": null,
            "height": null,
            "min_height": null,
            "padding": null,
            "grid_auto_rows": null,
            "grid_gap": null,
            "max_width": null,
            "order": null,
            "_view_module_version": "1.2.0",
            "grid_template_areas": null,
            "object_position": null,
            "object_fit": null,
            "grid_auto_columns": null,
            "margin": null,
            "display": null,
            "left": null
          }
        },
        "25ec1b84c58949fa9bb10893b179ade8": {
          "model_module": "@jupyter-widgets/base",
          "model_name": "LayoutModel",
          "model_module_version": "1.2.0",
          "state": {
            "_view_name": "LayoutView",
            "grid_template_rows": null,
            "right": null,
            "justify_content": null,
            "_view_module": "@jupyter-widgets/base",
            "overflow": null,
            "_model_module_version": "1.2.0",
            "_view_count": null,
            "flex_flow": null,
            "width": null,
            "min_width": null,
            "border": null,
            "align_items": null,
            "bottom": null,
            "_model_module": "@jupyter-widgets/base",
            "top": null,
            "grid_column": null,
            "overflow_y": null,
            "overflow_x": null,
            "grid_auto_flow": null,
            "grid_area": null,
            "grid_template_columns": null,
            "flex": null,
            "_model_name": "LayoutModel",
            "justify_items": null,
            "grid_row": null,
            "max_height": null,
            "align_content": null,
            "visibility": null,
            "align_self": null,
            "height": null,
            "min_height": null,
            "padding": null,
            "grid_auto_rows": null,
            "grid_gap": null,
            "max_width": null,
            "order": null,
            "_view_module_version": "1.2.0",
            "grid_template_areas": null,
            "object_position": null,
            "object_fit": null,
            "grid_auto_columns": null,
            "margin": null,
            "display": null,
            "left": null
          }
        },
        "78b34d84340b4204968088f4817f47b1": {
          "model_module": "@jupyter-widgets/controls",
          "model_name": "VBoxModel",
          "model_module_version": "1.5.0",
          "state": {
            "_view_name": "VBoxView",
            "_dom_classes": [
              "widget-interact"
            ],
            "_model_name": "VBoxModel",
            "_view_module": "@jupyter-widgets/controls",
            "_model_module_version": "1.5.0",
            "_view_count": null,
            "_view_module_version": "1.5.0",
            "box_style": "",
            "layout": "IPY_MODEL_3e2fbb56544641b9b5a990cb53efad3e",
            "_model_module": "@jupyter-widgets/controls",
            "children": [
              "IPY_MODEL_34edd0c1f8a64c25b12debaa088de958",
              "IPY_MODEL_f60621e47b734727b905463606c19533",
              "IPY_MODEL_46b321f0d7fb47a39874d8f61dbae5ea",
              "IPY_MODEL_1920a34b284148aba1a5b62cbc1ff674"
            ]
          }
        },
        "3e2fbb56544641b9b5a990cb53efad3e": {
          "model_module": "@jupyter-widgets/base",
          "model_name": "LayoutModel",
          "model_module_version": "1.2.0",
          "state": {
            "_view_name": "LayoutView",
            "grid_template_rows": null,
            "right": null,
            "justify_content": null,
            "_view_module": "@jupyter-widgets/base",
            "overflow": null,
            "_model_module_version": "1.2.0",
            "_view_count": null,
            "flex_flow": null,
            "width": null,
            "min_width": null,
            "border": null,
            "align_items": null,
            "bottom": null,
            "_model_module": "@jupyter-widgets/base",
            "top": null,
            "grid_column": null,
            "overflow_y": null,
            "overflow_x": null,
            "grid_auto_flow": null,
            "grid_area": null,
            "grid_template_columns": null,
            "flex": null,
            "_model_name": "LayoutModel",
            "justify_items": null,
            "grid_row": null,
            "max_height": null,
            "align_content": null,
            "visibility": null,
            "align_self": null,
            "height": null,
            "min_height": null,
            "padding": null,
            "grid_auto_rows": null,
            "grid_gap": null,
            "max_width": null,
            "order": null,
            "_view_module_version": "1.2.0",
            "grid_template_areas": null,
            "object_position": null,
            "object_fit": null,
            "grid_auto_columns": null,
            "margin": null,
            "display": null,
            "left": null
          }
        },
        "34edd0c1f8a64c25b12debaa088de958": {
          "model_module": "@jupyter-widgets/controls",
          "model_name": "IntSliderModel",
          "model_module_version": "1.5.0",
          "state": {
            "_view_name": "IntSliderView",
            "style": "IPY_MODEL_39e1dbeafbae431aab360347a97d6d46",
            "_dom_classes": [],
            "description": "ore",
            "step": 1,
            "_model_name": "IntSliderModel",
            "orientation": "horizontal",
            "max": 72,
            "_view_module": "@jupyter-widgets/controls",
            "_model_module_version": "1.5.0",
            "value": 10,
            "_view_count": null,
            "disabled": false,
            "_view_module_version": "1.5.0",
            "min": 0,
            "continuous_update": true,
            "readout_format": "d",
            "description_tooltip": null,
            "readout": true,
            "_model_module": "@jupyter-widgets/controls",
            "layout": "IPY_MODEL_f2fee4f6609142ddb664ec97218734e4"
          }
        },
        "f60621e47b734727b905463606c19533": {
          "model_module": "@jupyter-widgets/controls",
          "model_name": "IntSliderModel",
          "model_module_version": "1.5.0",
          "state": {
            "_view_name": "IntSliderView",
            "style": "IPY_MODEL_08ca73a1af574163b043bd5990ffb195",
            "_dom_classes": [],
            "description": "λ",
            "step": 1,
            "_model_name": "IntSliderModel",
            "orientation": "horizontal",
            "max": 10,
            "_view_module": "@jupyter-widgets/controls",
            "_model_module_version": "1.5.0",
            "value": 2,
            "_view_count": null,
            "disabled": false,
            "_view_module_version": "1.5.0",
            "min": 2,
            "continuous_update": true,
            "readout_format": "d",
            "description_tooltip": null,
            "readout": true,
            "_model_module": "@jupyter-widgets/controls",
            "layout": "IPY_MODEL_f05db182807548e1a1752173b677e762"
          }
        },
        "46b321f0d7fb47a39874d8f61dbae5ea": {
          "model_module": "@jupyter-widgets/controls",
          "model_name": "ButtonModel",
          "model_module_version": "1.5.0",
          "state": {
            "_view_name": "ButtonView",
            "style": "IPY_MODEL_efaba3bfa66d4d6886f9ed2c81789a6a",
            "_dom_classes": [],
            "description": "Run Interact",
            "_model_name": "ButtonModel",
            "button_style": "",
            "_view_module": "@jupyter-widgets/controls",
            "_model_module_version": "1.5.0",
            "tooltip": "",
            "_view_count": null,
            "disabled": false,
            "_view_module_version": "1.5.0",
            "layout": "IPY_MODEL_d16bb6d17c4e47e68563dcba64d3078c",
            "_model_module": "@jupyter-widgets/controls",
            "icon": ""
          }
        },
        "1920a34b284148aba1a5b62cbc1ff674": {
          "model_module": "@jupyter-widgets/output",
          "model_name": "OutputModel",
          "model_module_version": "1.0.0",
          "state": {
            "_view_name": "OutputView",
            "msg_id": "",
            "_dom_classes": [],
            "_model_name": "OutputModel",
            "outputs": [],
            "_view_module": "@jupyter-widgets/output",
            "_model_module_version": "1.0.0",
            "_view_count": null,
            "_view_module_version": "1.0.0",
            "layout": "IPY_MODEL_8d41b25aec2b4f9d81a271a396572d2a",
            "_model_module": "@jupyter-widgets/output"
          }
        },
        "39e1dbeafbae431aab360347a97d6d46": {
          "model_module": "@jupyter-widgets/controls",
          "model_name": "SliderStyleModel",
          "model_module_version": "1.5.0",
          "state": {
            "_view_name": "StyleView",
            "handle_color": null,
            "_model_name": "SliderStyleModel",
            "description_width": "",
            "_view_module": "@jupyter-widgets/base",
            "_model_module_version": "1.5.0",
            "_view_count": null,
            "_view_module_version": "1.2.0",
            "_model_module": "@jupyter-widgets/controls"
          }
        },
        "f2fee4f6609142ddb664ec97218734e4": {
          "model_module": "@jupyter-widgets/base",
          "model_name": "LayoutModel",
          "model_module_version": "1.2.0",
          "state": {
            "_view_name": "LayoutView",
            "grid_template_rows": null,
            "right": null,
            "justify_content": null,
            "_view_module": "@jupyter-widgets/base",
            "overflow": null,
            "_model_module_version": "1.2.0",
            "_view_count": null,
            "flex_flow": null,
            "width": null,
            "min_width": null,
            "border": null,
            "align_items": null,
            "bottom": null,
            "_model_module": "@jupyter-widgets/base",
            "top": null,
            "grid_column": null,
            "overflow_y": null,
            "overflow_x": null,
            "grid_auto_flow": null,
            "grid_area": null,
            "grid_template_columns": null,
            "flex": null,
            "_model_name": "LayoutModel",
            "justify_items": null,
            "grid_row": null,
            "max_height": null,
            "align_content": null,
            "visibility": null,
            "align_self": null,
            "height": null,
            "min_height": null,
            "padding": null,
            "grid_auto_rows": null,
            "grid_gap": null,
            "max_width": null,
            "order": null,
            "_view_module_version": "1.2.0",
            "grid_template_areas": null,
            "object_position": null,
            "object_fit": null,
            "grid_auto_columns": null,
            "margin": null,
            "display": null,
            "left": null
          }
        },
        "08ca73a1af574163b043bd5990ffb195": {
          "model_module": "@jupyter-widgets/controls",
          "model_name": "SliderStyleModel",
          "model_module_version": "1.5.0",
          "state": {
            "_view_name": "StyleView",
            "handle_color": null,
            "_model_name": "SliderStyleModel",
            "description_width": "",
            "_view_module": "@jupyter-widgets/base",
            "_model_module_version": "1.5.0",
            "_view_count": null,
            "_view_module_version": "1.2.0",
            "_model_module": "@jupyter-widgets/controls"
          }
        },
        "f05db182807548e1a1752173b677e762": {
          "model_module": "@jupyter-widgets/base",
          "model_name": "LayoutModel",
          "model_module_version": "1.2.0",
          "state": {
            "_view_name": "LayoutView",
            "grid_template_rows": null,
            "right": null,
            "justify_content": null,
            "_view_module": "@jupyter-widgets/base",
            "overflow": null,
            "_model_module_version": "1.2.0",
            "_view_count": null,
            "flex_flow": null,
            "width": null,
            "min_width": null,
            "border": null,
            "align_items": null,
            "bottom": null,
            "_model_module": "@jupyter-widgets/base",
            "top": null,
            "grid_column": null,
            "overflow_y": null,
            "overflow_x": null,
            "grid_auto_flow": null,
            "grid_area": null,
            "grid_template_columns": null,
            "flex": null,
            "_model_name": "LayoutModel",
            "justify_items": null,
            "grid_row": null,
            "max_height": null,
            "align_content": null,
            "visibility": null,
            "align_self": null,
            "height": null,
            "min_height": null,
            "padding": null,
            "grid_auto_rows": null,
            "grid_gap": null,
            "max_width": null,
            "order": null,
            "_view_module_version": "1.2.0",
            "grid_template_areas": null,
            "object_position": null,
            "object_fit": null,
            "grid_auto_columns": null,
            "margin": null,
            "display": null,
            "left": null
          }
        },
        "efaba3bfa66d4d6886f9ed2c81789a6a": {
          "model_module": "@jupyter-widgets/controls",
          "model_name": "ButtonStyleModel",
          "model_module_version": "1.5.0",
          "state": {
            "_view_name": "StyleView",
            "_model_name": "ButtonStyleModel",
            "_view_module": "@jupyter-widgets/base",
            "_model_module_version": "1.5.0",
            "_view_count": null,
            "button_color": null,
            "font_weight": "",
            "_view_module_version": "1.2.0",
            "_model_module": "@jupyter-widgets/controls"
          }
        },
        "d16bb6d17c4e47e68563dcba64d3078c": {
          "model_module": "@jupyter-widgets/base",
          "model_name": "LayoutModel",
          "model_module_version": "1.2.0",
          "state": {
            "_view_name": "LayoutView",
            "grid_template_rows": null,
            "right": null,
            "justify_content": null,
            "_view_module": "@jupyter-widgets/base",
            "overflow": null,
            "_model_module_version": "1.2.0",
            "_view_count": null,
            "flex_flow": null,
            "width": null,
            "min_width": null,
            "border": null,
            "align_items": null,
            "bottom": null,
            "_model_module": "@jupyter-widgets/base",
            "top": null,
            "grid_column": null,
            "overflow_y": null,
            "overflow_x": null,
            "grid_auto_flow": null,
            "grid_area": null,
            "grid_template_columns": null,
            "flex": null,
            "_model_name": "LayoutModel",
            "justify_items": null,
            "grid_row": null,
            "max_height": null,
            "align_content": null,
            "visibility": null,
            "align_self": null,
            "height": null,
            "min_height": null,
            "padding": null,
            "grid_auto_rows": null,
            "grid_gap": null,
            "max_width": null,
            "order": null,
            "_view_module_version": "1.2.0",
            "grid_template_areas": null,
            "object_position": null,
            "object_fit": null,
            "grid_auto_columns": null,
            "margin": null,
            "display": null,
            "left": null
          }
        },
        "8d41b25aec2b4f9d81a271a396572d2a": {
          "model_module": "@jupyter-widgets/base",
          "model_name": "LayoutModel",
          "model_module_version": "1.2.0",
          "state": {
            "_view_name": "LayoutView",
            "grid_template_rows": null,
            "right": null,
            "justify_content": null,
            "_view_module": "@jupyter-widgets/base",
            "overflow": null,
            "_model_module_version": "1.2.0",
            "_view_count": null,
            "flex_flow": null,
            "width": null,
            "min_width": null,
            "border": null,
            "align_items": null,
            "bottom": null,
            "_model_module": "@jupyter-widgets/base",
            "top": null,
            "grid_column": null,
            "overflow_y": null,
            "overflow_x": null,
            "grid_auto_flow": null,
            "grid_area": null,
            "grid_template_columns": null,
            "flex": null,
            "_model_name": "LayoutModel",
            "justify_items": null,
            "grid_row": null,
            "max_height": null,
            "align_content": null,
            "visibility": null,
            "align_self": null,
            "height": null,
            "min_height": null,
            "padding": null,
            "grid_auto_rows": null,
            "grid_gap": null,
            "max_width": null,
            "order": null,
            "_view_module_version": "1.2.0",
            "grid_template_areas": null,
            "object_position": null,
            "object_fit": null,
            "grid_auto_columns": null,
            "margin": null,
            "display": null,
            "left": null
          }
        },
        "2e847b4cd3134920b2fcc67088bca2e2": {
          "model_module": "@jupyter-widgets/controls",
          "model_name": "VBoxModel",
          "model_module_version": "1.5.0",
          "state": {
            "_view_name": "VBoxView",
            "_dom_classes": [
              "widget-interact"
            ],
            "_model_name": "VBoxModel",
            "_view_module": "@jupyter-widgets/controls",
            "_model_module_version": "1.5.0",
            "_view_count": null,
            "_view_module_version": "1.5.0",
            "box_style": "",
            "layout": "IPY_MODEL_ab1d70f3fc514623b55a34af60e37d5f",
            "_model_module": "@jupyter-widgets/controls",
            "children": [
              "IPY_MODEL_5e53c104a91548c087782de6db4a27cf",
              "IPY_MODEL_0ddec0746de64199b4774775818b7fc4",
              "IPY_MODEL_8b26b21788004b0eac896c0d838a853d",
              "IPY_MODEL_efa8c00cce044af48388d7e76cb22eec"
            ]
          }
        },
        "ab1d70f3fc514623b55a34af60e37d5f": {
          "model_module": "@jupyter-widgets/base",
          "model_name": "LayoutModel",
          "model_module_version": "1.2.0",
          "state": {
            "_view_name": "LayoutView",
            "grid_template_rows": null,
            "right": null,
            "justify_content": null,
            "_view_module": "@jupyter-widgets/base",
            "overflow": null,
            "_model_module_version": "1.2.0",
            "_view_count": null,
            "flex_flow": null,
            "width": null,
            "min_width": null,
            "border": null,
            "align_items": null,
            "bottom": null,
            "_model_module": "@jupyter-widgets/base",
            "top": null,
            "grid_column": null,
            "overflow_y": null,
            "overflow_x": null,
            "grid_auto_flow": null,
            "grid_area": null,
            "grid_template_columns": null,
            "flex": null,
            "_model_name": "LayoutModel",
            "justify_items": null,
            "grid_row": null,
            "max_height": null,
            "align_content": null,
            "visibility": null,
            "align_self": null,
            "height": null,
            "min_height": null,
            "padding": null,
            "grid_auto_rows": null,
            "grid_gap": null,
            "max_width": null,
            "order": null,
            "_view_module_version": "1.2.0",
            "grid_template_areas": null,
            "object_position": null,
            "object_fit": null,
            "grid_auto_columns": null,
            "margin": null,
            "display": null,
            "left": null
          }
        },
        "5e53c104a91548c087782de6db4a27cf": {
          "model_module": "@jupyter-widgets/controls",
          "model_name": "IntSliderModel",
          "model_module_version": "1.5.0",
          "state": {
            "_view_name": "IntSliderView",
            "style": "IPY_MODEL_0388b994a546410ba234827049ec9ac1",
            "_dom_classes": [],
            "description": "t1",
            "step": 1,
            "_model_name": "IntSliderModel",
            "orientation": "horizontal",
            "max": 96,
            "_view_module": "@jupyter-widgets/controls",
            "_model_module_version": "1.5.0",
            "value": 3,
            "_view_count": null,
            "disabled": false,
            "_view_module_version": "1.5.0",
            "min": 0,
            "continuous_update": true,
            "readout_format": "d",
            "description_tooltip": null,
            "readout": true,
            "_model_module": "@jupyter-widgets/controls",
            "layout": "IPY_MODEL_40ef736cad934f0ab31a3249731163a2"
          }
        },
        "0ddec0746de64199b4774775818b7fc4": {
          "model_module": "@jupyter-widgets/controls",
          "model_name": "IntSliderModel",
          "model_module_version": "1.5.0",
          "state": {
            "_view_name": "IntSliderView",
            "style": "IPY_MODEL_9a3b7cf8ee594b8aa34629942a877db7",
            "_dom_classes": [],
            "description": "t2",
            "step": 1,
            "_model_name": "IntSliderModel",
            "orientation": "horizontal",
            "max": 96,
            "_view_module": "@jupyter-widgets/controls",
            "_model_module_version": "1.5.0",
            "value": 10,
            "_view_count": null,
            "disabled": false,
            "_view_module_version": "1.5.0",
            "min": 0,
            "continuous_update": true,
            "readout_format": "d",
            "description_tooltip": null,
            "readout": true,
            "_model_module": "@jupyter-widgets/controls",
            "layout": "IPY_MODEL_8dfea3de15f3480baff7000fae026633"
          }
        },
        "8b26b21788004b0eac896c0d838a853d": {
          "model_module": "@jupyter-widgets/controls",
          "model_name": "ButtonModel",
          "model_module_version": "1.5.0",
          "state": {
            "_view_name": "ButtonView",
            "style": "IPY_MODEL_4991c2f54cd94d34807ac761e609d290",
            "_dom_classes": [],
            "description": "Run Interact",
            "_model_name": "ButtonModel",
            "button_style": "",
            "_view_module": "@jupyter-widgets/controls",
            "_model_module_version": "1.5.0",
            "tooltip": "",
            "_view_count": null,
            "disabled": false,
            "_view_module_version": "1.5.0",
            "layout": "IPY_MODEL_d03c7e0e1773469f9c89a4efedfc745f",
            "_model_module": "@jupyter-widgets/controls",
            "icon": ""
          }
        },
        "efa8c00cce044af48388d7e76cb22eec": {
          "model_module": "@jupyter-widgets/output",
          "model_name": "OutputModel",
          "model_module_version": "1.0.0",
          "state": {
            "_view_name": "OutputView",
            "msg_id": "",
            "_dom_classes": [],
            "_model_name": "OutputModel",
            "outputs": [
              {
                "output_type": "stream",
                "name": "stdout",
                "text": [
                  "Risultati attesi: 0.223\n",
                  "Risultati ottenuti: 0.223\n"
                ]
              },
              {
                "output_type": "display_data",
                "data": {
                  "image/png": "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\n",
                  "text/plain": "<Figure size 432x288 with 1 Axes>"
                },
                "metadata": {
                  "needs_background": "light"
                }
              }
            ],
            "_view_module": "@jupyter-widgets/output",
            "_model_module_version": "1.0.0",
            "_view_count": null,
            "_view_module_version": "1.0.0",
            "layout": "IPY_MODEL_d523a0d398cf4bc6a73d2bd2f4a2cc25",
            "_model_module": "@jupyter-widgets/output"
          }
        },
        "0388b994a546410ba234827049ec9ac1": {
          "model_module": "@jupyter-widgets/controls",
          "model_name": "SliderStyleModel",
          "model_module_version": "1.5.0",
          "state": {
            "_view_name": "StyleView",
            "handle_color": null,
            "_model_name": "SliderStyleModel",
            "description_width": "",
            "_view_module": "@jupyter-widgets/base",
            "_model_module_version": "1.5.0",
            "_view_count": null,
            "_view_module_version": "1.2.0",
            "_model_module": "@jupyter-widgets/controls"
          }
        },
        "40ef736cad934f0ab31a3249731163a2": {
          "model_module": "@jupyter-widgets/base",
          "model_name": "LayoutModel",
          "model_module_version": "1.2.0",
          "state": {
            "_view_name": "LayoutView",
            "grid_template_rows": null,
            "right": null,
            "justify_content": null,
            "_view_module": "@jupyter-widgets/base",
            "overflow": null,
            "_model_module_version": "1.2.0",
            "_view_count": null,
            "flex_flow": null,
            "width": null,
            "min_width": null,
            "border": null,
            "align_items": null,
            "bottom": null,
            "_model_module": "@jupyter-widgets/base",
            "top": null,
            "grid_column": null,
            "overflow_y": null,
            "overflow_x": null,
            "grid_auto_flow": null,
            "grid_area": null,
            "grid_template_columns": null,
            "flex": null,
            "_model_name": "LayoutModel",
            "justify_items": null,
            "grid_row": null,
            "max_height": null,
            "align_content": null,
            "visibility": null,
            "align_self": null,
            "height": null,
            "min_height": null,
            "padding": null,
            "grid_auto_rows": null,
            "grid_gap": null,
            "max_width": null,
            "order": null,
            "_view_module_version": "1.2.0",
            "grid_template_areas": null,
            "object_position": null,
            "object_fit": null,
            "grid_auto_columns": null,
            "margin": null,
            "display": null,
            "left": null
          }
        },
        "9a3b7cf8ee594b8aa34629942a877db7": {
          "model_module": "@jupyter-widgets/controls",
          "model_name": "SliderStyleModel",
          "model_module_version": "1.5.0",
          "state": {
            "_view_name": "StyleView",
            "handle_color": null,
            "_model_name": "SliderStyleModel",
            "description_width": "",
            "_view_module": "@jupyter-widgets/base",
            "_model_module_version": "1.5.0",
            "_view_count": null,
            "_view_module_version": "1.2.0",
            "_model_module": "@jupyter-widgets/controls"
          }
        },
        "8dfea3de15f3480baff7000fae026633": {
          "model_module": "@jupyter-widgets/base",
          "model_name": "LayoutModel",
          "model_module_version": "1.2.0",
          "state": {
            "_view_name": "LayoutView",
            "grid_template_rows": null,
            "right": null,
            "justify_content": null,
            "_view_module": "@jupyter-widgets/base",
            "overflow": null,
            "_model_module_version": "1.2.0",
            "_view_count": null,
            "flex_flow": null,
            "width": null,
            "min_width": null,
            "border": null,
            "align_items": null,
            "bottom": null,
            "_model_module": "@jupyter-widgets/base",
            "top": null,
            "grid_column": null,
            "overflow_y": null,
            "overflow_x": null,
            "grid_auto_flow": null,
            "grid_area": null,
            "grid_template_columns": null,
            "flex": null,
            "_model_name": "LayoutModel",
            "justify_items": null,
            "grid_row": null,
            "max_height": null,
            "align_content": null,
            "visibility": null,
            "align_self": null,
            "height": null,
            "min_height": null,
            "padding": null,
            "grid_auto_rows": null,
            "grid_gap": null,
            "max_width": null,
            "order": null,
            "_view_module_version": "1.2.0",
            "grid_template_areas": null,
            "object_position": null,
            "object_fit": null,
            "grid_auto_columns": null,
            "margin": null,
            "display": null,
            "left": null
          }
        },
        "4991c2f54cd94d34807ac761e609d290": {
          "model_module": "@jupyter-widgets/controls",
          "model_name": "ButtonStyleModel",
          "model_module_version": "1.5.0",
          "state": {
            "_view_name": "StyleView",
            "_model_name": "ButtonStyleModel",
            "_view_module": "@jupyter-widgets/base",
            "_model_module_version": "1.5.0",
            "_view_count": null,
            "button_color": null,
            "font_weight": "",
            "_view_module_version": "1.2.0",
            "_model_module": "@jupyter-widgets/controls"
          }
        },
        "d03c7e0e1773469f9c89a4efedfc745f": {
          "model_module": "@jupyter-widgets/base",
          "model_name": "LayoutModel",
          "model_module_version": "1.2.0",
          "state": {
            "_view_name": "LayoutView",
            "grid_template_rows": null,
            "right": null,
            "justify_content": null,
            "_view_module": "@jupyter-widgets/base",
            "overflow": null,
            "_model_module_version": "1.2.0",
            "_view_count": null,
            "flex_flow": null,
            "width": null,
            "min_width": null,
            "border": null,
            "align_items": null,
            "bottom": null,
            "_model_module": "@jupyter-widgets/base",
            "top": null,
            "grid_column": null,
            "overflow_y": null,
            "overflow_x": null,
            "grid_auto_flow": null,
            "grid_area": null,
            "grid_template_columns": null,
            "flex": null,
            "_model_name": "LayoutModel",
            "justify_items": null,
            "grid_row": null,
            "max_height": null,
            "align_content": null,
            "visibility": null,
            "align_self": null,
            "height": null,
            "min_height": null,
            "padding": null,
            "grid_auto_rows": null,
            "grid_gap": null,
            "max_width": null,
            "order": null,
            "_view_module_version": "1.2.0",
            "grid_template_areas": null,
            "object_position": null,
            "object_fit": null,
            "grid_auto_columns": null,
            "margin": null,
            "display": null,
            "left": null
          }
        },
        "d523a0d398cf4bc6a73d2bd2f4a2cc25": {
          "model_module": "@jupyter-widgets/base",
          "model_name": "LayoutModel",
          "model_module_version": "1.2.0",
          "state": {
            "_view_name": "LayoutView",
            "grid_template_rows": null,
            "right": null,
            "justify_content": null,
            "_view_module": "@jupyter-widgets/base",
            "overflow": null,
            "_model_module_version": "1.2.0",
            "_view_count": null,
            "flex_flow": null,
            "width": null,
            "min_width": null,
            "border": null,
            "align_items": null,
            "bottom": null,
            "_model_module": "@jupyter-widgets/base",
            "top": null,
            "grid_column": null,
            "overflow_y": null,
            "overflow_x": null,
            "grid_auto_flow": null,
            "grid_area": null,
            "grid_template_columns": null,
            "flex": null,
            "_model_name": "LayoutModel",
            "justify_items": null,
            "grid_row": null,
            "max_height": null,
            "align_content": null,
            "visibility": null,
            "align_self": null,
            "height": null,
            "min_height": null,
            "padding": null,
            "grid_auto_rows": null,
            "grid_gap": null,
            "max_width": null,
            "order": null,
            "_view_module_version": "1.2.0",
            "grid_template_areas": null,
            "object_position": null,
            "object_fit": null,
            "grid_auto_columns": null,
            "margin": null,
            "display": null,
            "left": null
          }
        },
        "a1ded04ca37249e98193da7f98421a56": {
          "model_module": "@jupyter-widgets/controls",
          "model_name": "VBoxModel",
          "model_module_version": "1.5.0",
          "state": {
            "_view_name": "VBoxView",
            "_dom_classes": [
              "widget-interact"
            ],
            "_model_name": "VBoxModel",
            "_view_module": "@jupyter-widgets/controls",
            "_model_module_version": "1.5.0",
            "_view_count": null,
            "_view_module_version": "1.5.0",
            "box_style": "",
            "layout": "IPY_MODEL_17aaa404e0e6412cb2fdb88105cebc01",
            "_model_module": "@jupyter-widgets/controls",
            "children": [
              "IPY_MODEL_9601a0171d9a4f34b9f8277f326ae078",
              "IPY_MODEL_9afe0720294147c1b47d9abedcfe63c9",
              "IPY_MODEL_79238a36465b4c81bd287e7f9a727b14"
            ]
          }
        },
        "17aaa404e0e6412cb2fdb88105cebc01": {
          "model_module": "@jupyter-widgets/base",
          "model_name": "LayoutModel",
          "model_module_version": "1.2.0",
          "state": {
            "_view_name": "LayoutView",
            "grid_template_rows": null,
            "right": null,
            "justify_content": null,
            "_view_module": "@jupyter-widgets/base",
            "overflow": null,
            "_model_module_version": "1.2.0",
            "_view_count": null,
            "flex_flow": null,
            "width": null,
            "min_width": null,
            "border": null,
            "align_items": null,
            "bottom": null,
            "_model_module": "@jupyter-widgets/base",
            "top": null,
            "grid_column": null,
            "overflow_y": null,
            "overflow_x": null,
            "grid_auto_flow": null,
            "grid_area": null,
            "grid_template_columns": null,
            "flex": null,
            "_model_name": "LayoutModel",
            "justify_items": null,
            "grid_row": null,
            "max_height": null,
            "align_content": null,
            "visibility": null,
            "align_self": null,
            "height": null,
            "min_height": null,
            "padding": null,
            "grid_auto_rows": null,
            "grid_gap": null,
            "max_width": null,
            "order": null,
            "_view_module_version": "1.2.0",
            "grid_template_areas": null,
            "object_position": null,
            "object_fit": null,
            "grid_auto_columns": null,
            "margin": null,
            "display": null,
            "left": null
          }
        },
        "9601a0171d9a4f34b9f8277f326ae078": {
          "model_module": "@jupyter-widgets/controls",
          "model_name": "IntSliderModel",
          "model_module_version": "1.5.0",
          "state": {
            "_view_name": "IntSliderView",
            "style": "IPY_MODEL_9d3f28565c1c4571af008ee156ad9a2c",
            "_dom_classes": [],
            "description": "mean",
            "step": 1,
            "_model_name": "IntSliderModel",
            "orientation": "horizontal",
            "max": 5,
            "_view_module": "@jupyter-widgets/controls",
            "_model_module_version": "1.5.0",
            "value": 0,
            "_view_count": null,
            "disabled": false,
            "_view_module_version": "1.5.0",
            "min": -5,
            "continuous_update": true,
            "readout_format": "d",
            "description_tooltip": null,
            "readout": true,
            "_model_module": "@jupyter-widgets/controls",
            "layout": "IPY_MODEL_d31440de02b04bbba5f83495edd8aac0"
          }
        },
        "9afe0720294147c1b47d9abedcfe63c9": {
          "model_module": "@jupyter-widgets/controls",
          "model_name": "IntSliderModel",
          "model_module_version": "1.5.0",
          "state": {
            "_view_name": "IntSliderView",
            "style": "IPY_MODEL_6359c8a708254c3ab24fbabfddb2922a",
            "_dom_classes": [],
            "description": "std_dev",
            "step": 1,
            "_model_name": "IntSliderModel",
            "orientation": "horizontal",
            "max": 5,
            "_view_module": "@jupyter-widgets/controls",
            "_model_module_version": "1.5.0",
            "value": 1,
            "_view_count": null,
            "disabled": false,
            "_view_module_version": "1.5.0",
            "min": 1,
            "continuous_update": true,
            "readout_format": "d",
            "description_tooltip": null,
            "readout": true,
            "_model_module": "@jupyter-widgets/controls",
            "layout": "IPY_MODEL_10c5d86bcd32445f8ab1d6c06d364946"
          }
        },
        "79238a36465b4c81bd287e7f9a727b14": {
          "model_module": "@jupyter-widgets/output",
          "model_name": "OutputModel",
          "model_module_version": "1.0.0",
          "state": {
            "_view_name": "OutputView",
            "msg_id": "",
            "_dom_classes": [],
            "_model_name": "OutputModel",
            "outputs": [
              {
                "output_type": "display_data",
                "data": {
                  "image/png": "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\n",
                  "text/plain": "<Figure size 432x288 with 1 Axes>"
                },
                "metadata": {
                  "needs_background": "light"
                }
              }
            ],
            "_view_module": "@jupyter-widgets/output",
            "_model_module_version": "1.0.0",
            "_view_count": null,
            "_view_module_version": "1.0.0",
            "layout": "IPY_MODEL_3114bccd89eb42719fbca0db8c4c1d98",
            "_model_module": "@jupyter-widgets/output"
          }
        },
        "9d3f28565c1c4571af008ee156ad9a2c": {
          "model_module": "@jupyter-widgets/controls",
          "model_name": "SliderStyleModel",
          "model_module_version": "1.5.0",
          "state": {
            "_view_name": "StyleView",
            "handle_color": null,
            "_model_name": "SliderStyleModel",
            "description_width": "",
            "_view_module": "@jupyter-widgets/base",
            "_model_module_version": "1.5.0",
            "_view_count": null,
            "_view_module_version": "1.2.0",
            "_model_module": "@jupyter-widgets/controls"
          }
        },
        "d31440de02b04bbba5f83495edd8aac0": {
          "model_module": "@jupyter-widgets/base",
          "model_name": "LayoutModel",
          "model_module_version": "1.2.0",
          "state": {
            "_view_name": "LayoutView",
            "grid_template_rows": null,
            "right": null,
            "justify_content": null,
            "_view_module": "@jupyter-widgets/base",
            "overflow": null,
            "_model_module_version": "1.2.0",
            "_view_count": null,
            "flex_flow": null,
            "width": null,
            "min_width": null,
            "border": null,
            "align_items": null,
            "bottom": null,
            "_model_module": "@jupyter-widgets/base",
            "top": null,
            "grid_column": null,
            "overflow_y": null,
            "overflow_x": null,
            "grid_auto_flow": null,
            "grid_area": null,
            "grid_template_columns": null,
            "flex": null,
            "_model_name": "LayoutModel",
            "justify_items": null,
            "grid_row": null,
            "max_height": null,
            "align_content": null,
            "visibility": null,
            "align_self": null,
            "height": null,
            "min_height": null,
            "padding": null,
            "grid_auto_rows": null,
            "grid_gap": null,
            "max_width": null,
            "order": null,
            "_view_module_version": "1.2.0",
            "grid_template_areas": null,
            "object_position": null,
            "object_fit": null,
            "grid_auto_columns": null,
            "margin": null,
            "display": null,
            "left": null
          }
        },
        "6359c8a708254c3ab24fbabfddb2922a": {
          "model_module": "@jupyter-widgets/controls",
          "model_name": "SliderStyleModel",
          "model_module_version": "1.5.0",
          "state": {
            "_view_name": "StyleView",
            "handle_color": null,
            "_model_name": "SliderStyleModel",
            "description_width": "",
            "_view_module": "@jupyter-widgets/base",
            "_model_module_version": "1.5.0",
            "_view_count": null,
            "_view_module_version": "1.2.0",
            "_model_module": "@jupyter-widgets/controls"
          }
        },
        "10c5d86bcd32445f8ab1d6c06d364946": {
          "model_module": "@jupyter-widgets/base",
          "model_name": "LayoutModel",
          "model_module_version": "1.2.0",
          "state": {
            "_view_name": "LayoutView",
            "grid_template_rows": null,
            "right": null,
            "justify_content": null,
            "_view_module": "@jupyter-widgets/base",
            "overflow": null,
            "_model_module_version": "1.2.0",
            "_view_count": null,
            "flex_flow": null,
            "width": null,
            "min_width": null,
            "border": null,
            "align_items": null,
            "bottom": null,
            "_model_module": "@jupyter-widgets/base",
            "top": null,
            "grid_column": null,
            "overflow_y": null,
            "overflow_x": null,
            "grid_auto_flow": null,
            "grid_area": null,
            "grid_template_columns": null,
            "flex": null,
            "_model_name": "LayoutModel",
            "justify_items": null,
            "grid_row": null,
            "max_height": null,
            "align_content": null,
            "visibility": null,
            "align_self": null,
            "height": null,
            "min_height": null,
            "padding": null,
            "grid_auto_rows": null,
            "grid_gap": null,
            "max_width": null,
            "order": null,
            "_view_module_version": "1.2.0",
            "grid_template_areas": null,
            "object_position": null,
            "object_fit": null,
            "grid_auto_columns": null,
            "margin": null,
            "display": null,
            "left": null
          }
        },
        "3114bccd89eb42719fbca0db8c4c1d98": {
          "model_module": "@jupyter-widgets/base",
          "model_name": "LayoutModel",
          "model_module_version": "1.2.0",
          "state": {
            "_view_name": "LayoutView",
            "grid_template_rows": null,
            "right": null,
            "justify_content": null,
            "_view_module": "@jupyter-widgets/base",
            "overflow": null,
            "_model_module_version": "1.2.0",
            "_view_count": null,
            "flex_flow": null,
            "width": null,
            "min_width": null,
            "border": null,
            "align_items": null,
            "bottom": null,
            "_model_module": "@jupyter-widgets/base",
            "top": null,
            "grid_column": null,
            "overflow_y": null,
            "overflow_x": null,
            "grid_auto_flow": null,
            "grid_area": null,
            "grid_template_columns": null,
            "flex": null,
            "_model_name": "LayoutModel",
            "justify_items": null,
            "grid_row": null,
            "max_height": null,
            "align_content": null,
            "visibility": null,
            "align_self": null,
            "height": null,
            "min_height": null,
            "padding": null,
            "grid_auto_rows": null,
            "grid_gap": null,
            "max_width": null,
            "order": null,
            "_view_module_version": "1.2.0",
            "grid_template_areas": null,
            "object_position": null,
            "object_fit": null,
            "grid_auto_columns": null,
            "margin": null,
            "display": null,
            "left": null
          }
        },
        "2a2add971c064652b2be8a93db37b024": {
          "model_module": "@jupyter-widgets/controls",
          "model_name": "VBoxModel",
          "model_module_version": "1.5.0",
          "state": {
            "_view_name": "VBoxView",
            "_dom_classes": [
              "widget-interact"
            ],
            "_model_name": "VBoxModel",
            "_view_module": "@jupyter-widgets/controls",
            "_model_module_version": "1.5.0",
            "_view_count": null,
            "_view_module_version": "1.5.0",
            "box_style": "",
            "layout": "IPY_MODEL_ee1d4c51e1fe42a2bcfbbab8d7b75121",
            "_model_module": "@jupyter-widgets/controls",
            "children": [
              "IPY_MODEL_e85deb8607a744ffae29d01feeb9d888",
              "IPY_MODEL_67b101eb7cab4f49a43d61fe0bca9a29",
              "IPY_MODEL_855606f5856b480e8d12e8b79d7bb80b"
            ]
          }
        },
        "ee1d4c51e1fe42a2bcfbbab8d7b75121": {
          "model_module": "@jupyter-widgets/base",
          "model_name": "LayoutModel",
          "model_module_version": "1.2.0",
          "state": {
            "_view_name": "LayoutView",
            "grid_template_rows": null,
            "right": null,
            "justify_content": null,
            "_view_module": "@jupyter-widgets/base",
            "overflow": null,
            "_model_module_version": "1.2.0",
            "_view_count": null,
            "flex_flow": null,
            "width": null,
            "min_width": null,
            "border": null,
            "align_items": null,
            "bottom": null,
            "_model_module": "@jupyter-widgets/base",
            "top": null,
            "grid_column": null,
            "overflow_y": null,
            "overflow_x": null,
            "grid_auto_flow": null,
            "grid_area": null,
            "grid_template_columns": null,
            "flex": null,
            "_model_name": "LayoutModel",
            "justify_items": null,
            "grid_row": null,
            "max_height": null,
            "align_content": null,
            "visibility": null,
            "align_self": null,
            "height": null,
            "min_height": null,
            "padding": null,
            "grid_auto_rows": null,
            "grid_gap": null,
            "max_width": null,
            "order": null,
            "_view_module_version": "1.2.0",
            "grid_template_areas": null,
            "object_position": null,
            "object_fit": null,
            "grid_auto_columns": null,
            "margin": null,
            "display": null,
            "left": null
          }
        },
        "e85deb8607a744ffae29d01feeb9d888": {
          "model_module": "@jupyter-widgets/controls",
          "model_name": "IntSliderModel",
          "model_module_version": "1.5.0",
          "state": {
            "_view_name": "IntSliderView",
            "style": "IPY_MODEL_73f8f862b5d8404ea312c565e3d65d04",
            "_dom_classes": [],
            "description": "mean",
            "step": 1,
            "_model_name": "IntSliderModel",
            "orientation": "horizontal",
            "max": 5,
            "_view_module": "@jupyter-widgets/controls",
            "_model_module_version": "1.5.0",
            "value": 0,
            "_view_count": null,
            "disabled": false,
            "_view_module_version": "1.5.0",
            "min": -5,
            "continuous_update": true,
            "readout_format": "d",
            "description_tooltip": null,
            "readout": true,
            "_model_module": "@jupyter-widgets/controls",
            "layout": "IPY_MODEL_f84f6192f93445d7852e31b8842cb94f"
          }
        },
        "67b101eb7cab4f49a43d61fe0bca9a29": {
          "model_module": "@jupyter-widgets/controls",
          "model_name": "IntSliderModel",
          "model_module_version": "1.5.0",
          "state": {
            "_view_name": "IntSliderView",
            "style": "IPY_MODEL_a770d96421124b6f84f52b6e2d383a39",
            "_dom_classes": [],
            "description": "std_dev",
            "step": 1,
            "_model_name": "IntSliderModel",
            "orientation": "horizontal",
            "max": 5,
            "_view_module": "@jupyter-widgets/controls",
            "_model_module_version": "1.5.0",
            "value": 1,
            "_view_count": null,
            "disabled": false,
            "_view_module_version": "1.5.0",
            "min": 1,
            "continuous_update": true,
            "readout_format": "d",
            "description_tooltip": null,
            "readout": true,
            "_model_module": "@jupyter-widgets/controls",
            "layout": "IPY_MODEL_0e21aa50fe244a5ca64db3f522f76316"
          }
        },
        "855606f5856b480e8d12e8b79d7bb80b": {
          "model_module": "@jupyter-widgets/output",
          "model_name": "OutputModel",
          "model_module_version": "1.0.0",
          "state": {
            "_view_name": "OutputView",
            "msg_id": "",
            "_dom_classes": [],
            "_model_name": "OutputModel",
            "outputs": [
              {
                "output_type": "display_data",
                "data": {
                  "image/png": "iVBORw0KGgoAAAANSUhEUgAAAXQAAAEJCAYAAACE39xMAAAABHNCSVQICAgIfAhkiAAAAAlwSFlzAAALEgAACxIB0t1+/AAAADh0RVh0U29mdHdhcmUAbWF0cGxvdGxpYiB2ZXJzaW9uMy4yLjIsIGh0dHA6Ly9tYXRwbG90bGliLm9yZy+WH4yJAAAgAElEQVR4nO3de3hU9b3v8fd3EhLuF0m4X4KIXIKCEJUqXquClkJ11xa7e7buXfUo2upu6X7c26Oi7X7Oae3pObsVtVovR+u9Wo0tVq0bi5eCJBgg4SIBAyThnhAScs/8zh8zsIeQkAnMzJrL5/U8eZhZ6zdrvrNm5cMvv3Uz5xwiIpL4fF4XICIikaFAFxFJEgp0EZEkoUAXEUkSCnQRkSSR7tUbZ2VluZycHK/eXkQkIRUWFu53zmV3NM+zQM/JyaGgoMCrtxcRSUhmtr2zeRpyERFJEgp0EZEkoUAXEUkSCnQRkSShQBcRSRJdBrqZPW1me82suJP5Zma/MrNSM1tnZjMiX6aIiHQlnB76s8DcE8y/GpgQ/LkVeOzUyxIRke7q8jh059wKM8s5QZMFwHMucB3elWY20MyGO+d2RahGETmBNr+jtrGFuqZW6ppaOdzURnOrn+Y2Py2tflr9jja/o805nHM4B/7gvw4IvYS2LqYdGzPGDOKMIX0jvtxInFg0EtgZ8rw8OO24QDezWwn04hkzZkwE3lokNTjn2Lb/MMUVNWzZU8eWvbWUVzewr7aJA4ebafMrihPJT78xNW4DPWzOuSeAJwDy8vK0BYqcQJvf8eHmvfxl4x5WfLGfioMNAKT5jJzBvRlzWm+mjhhAdr9MBvXJoF/PdPpmptMrI43MdB+Z6T56pPlI8xnpPh9pPjAzfGYYYAaGYXbs+7Z/LpE3sHdGVJYbiUCvAEaHPB8VnCYiJ6GuqZXXCnby7KdlbD9QT7/MdC44YzCLLhvPzLGDGJfVh8z0NK/LlDgUiUDPB+40s5eB84EajZ+LnJw/rqvkvjeLqa5vYcaYgfzLnElclTuUHmk6wli61mWgm9lLwKVAlpmVAw8APQCcc48Dy4BrgFKgHvjHaBUrkqyqDjdz31vF/GndLqaNGsBTN+UyY8wgr8uSBBPOUS43dDHfAXdErCKRFPPFnlq++9tVVNc38+M5E/nvF59OunrkchI8u3yuiMDm3bV858mVpPmMN++4kNwRA7wuSRKYAl3EI0fCPD3NeOmWWZyeHfnD2CS1KNBFPFBeXX80zF++9SuMy+rjdUmSBDRQJxJjbX7HD19ZS1OrnxdvmaUwl4hRD10kxh7/61Y+K6vil9+axngNs0gEqYcuEkNFOw/yf97/gq9PG8G154z0uhxJMgp0kRipb27l7pc/Z2j/nvz0G1MxnWMvEaYhF5EYeeaTMsoO1PPSLbMY0KuH1+VIElIPXSQGaupbePyvW7li8lC+Mn6w1+VIklKgi8TAb1Zspa6plR9ddabXpUgSU6CLRNne2kae+aSM+dNGMHl4f6/LkSSmQBeJskeXb6W5zc8/X6HeuUSXAl0kiioONvDCqu18K280OTqBSKJMgS4SRb9buZ02v+POy8/wuhRJAQp0kShpbvXzWsFOLp80lJEDe3ldjqQABbpIlLy/YQ/765r5+/N1Q3SJDQW6SJS8+Nl2Rg7sxcVnZntdiqQIBbpIFJTtP8wnpQdYeO5o0nw6xV9iQ4EuEgUvfbaDNJ/xrXNHe12KpBAFukiENbW28VphOVdMHsLQ/j29LkdSiAJdJMI+2LiXqsPNfOf8sV6XIilGgS4SYX9av4usvhnMPiPL61IkxSjQRSKosaWN5Zv2cuWUYdoZKjGnQBeJoI+37Ke+uY2rpw7zuhRJQQp0kQj6c8lu+vdMZ9bpuua5xJ4CXSRCWtr8vL9hD1dMHkpGun61JPa01YlEyKptVdQ0tDBHwy3iEQW6SIT8uWQXvXqkcfEEneov3lCgi0SA3+94t2QPl03KpldGmtflSIpSoItEwJod1eyrbWJOroZbxDsKdJEI+GDTXtJ9xmWThnhdiqSwsALdzOaa2WYzKzWzezqYP8bMlpvZ52a2zsyuiXypIvHr4y37OWfMQPr37OF1KZLCugx0M0sDlgJXA1OAG8xsSrtm/wN41Tl3DrAQeDTShYrEq+rDzRRX1jD7DO0MFW+F00M/Dyh1zm1zzjUDLwML2rVxQP/g4wFAZeRKFIlvn249gHMwe4JOJhJvhRPoI4GdIc/Lg9NCLQG+a2blwDLg+x0tyMxuNbMCMyvYt2/fSZQrEn8+Lt1P38x0po0a6HUpkuIitVP0BuBZ59wo4BrgeTM7btnOuSecc3nOubzsbP15Ksnh49J9zDp9MOlpOsZAvBXOFlgBhN52ZVRwWqjvAa8COOf+BvQEdO1QSXo7DtSzs6qBiyZocxfvhRPoq4EJZjbOzDII7PTMb9dmB/BVADObTCDQNaYiSe+j0sBmfqGufS5xoMtAd861AncC7wIbCRzNUmJmD5nZ/GCzHwG3mNla4CXgJueci1bRIvHik9L9DB/Qk/HZfbwuRYT0cBo555YR2NkZOu3+kMcbgAsjW5pIfGvzOz4pPcCVU4ZipptZiPe0F0fkJJVU1lDT0KLxc4kbCnSRk/Rx6X4ALhivQJf4oEAXOUmrv6zijCF9ye6X6XUpIoACXeSk+P2Owu3V5I0d5HUpIkcp0EVOwpa9dRxqbCUv5zSvSxE5SoEuchIKtlcBqIcucUWBLnISCsqqyeqbydjBvb0uReQoBbrISSjYXkXe2EE6/lziigJdpJv2HGpkZ1UDeTkabpH4okAX6aaCsmoA7RCVuKNAF+mmgu1V9OzhI3dE/64bi8SQAl2kmwrKqpk+eiA9dP1ziTPaIkW64XBTKxt2HSJvrIZbJP4o0EW6oWjnQdr8TjtEJS4p0EW6oaCsGjOYoROKJA4p0EW64fOd1UwY0pf+PXt4XYrIcRToImFyzrGuvIbpowd6XYpIhxToImEqr26g6nAzZ49SoEt8UqCLhKlo50EA9dAlbinQRcK0rvwgGek+Jg7r53UpIh1SoIuEae3OGqaO6K8TiiRuacsUCUNrm5/1FTUaP5e4pkAXCcOWvXU0tLRp/FzimgJdJAzrygM7RKcp0CWOKdBFwlC0s4b+PdPJ0R2KJI4p0EXCsHbnQaaNHqg7FElcU6CLdKGxpY3Ne2qZph2iEucU6CJdKKmsoc3vNH4ucU+BLtKFop01AEwbNcDjSkROTIEu0oV15QcZ1r8nQ/r39LoUkRMKK9DNbK6ZbTazUjO7p5M23zKzDWZWYmYvRrZMEe8ETihS71ziX3pXDcwsDVgKXAmUA6vNLN85tyGkzQTgX4ELnXPVZjYkWgWLxFJdUytf7j/MN6aP9LoUkS6F00M/Dyh1zm1zzjUDLwML2rW5BVjqnKsGcM7tjWyZIt7YUHkI52DqyP5elyLSpXACfSSwM+R5eXBaqDOBM83sEzNbaWZzO1qQmd1qZgVmVrBv376Tq1gkhoorAjtEp47UkIvEv0jtFE0HJgCXAjcAT5rZccd4OeeecM7lOefysrOzI/TWItFTXFHDkH6ZDOmnHaIS/8IJ9ApgdMjzUcFpocqBfOdci3PuS+ALAgEvktCKK2s4S71zSRDhBPpqYIKZjTOzDGAhkN+uzZsEeueYWRaBIZhtEaxTJObqm1sp3VtHrgJdEkSXge6cawXuBN4FNgKvOudKzOwhM5sfbPYucMDMNgDLgR875w5Eq2iRWNi4qxa/Qz10SRhdHrYI4JxbBixrN+3+kMcO+GHwRyQp/NcOUR3hIolBZ4qKdKK4ooasvhkM0xmikiAU6CKdWF9RQ+6IAbpkriQMBbpIBxpb2tiyt07j55JQFOgiHdi0u5Y2v9P4uSQUBbpIB47sEM0doR66JA4FukgHiitqGNi7B6MG9fK6FJGwKdBFOlBcWcNU7RCVBKNAF2mnudXPF7vryNX4uSQYBbpIO1v21tLc5tf4uSQcBbpIOyWVhwCYOkI9dEksCnSRdkoqauiTkUbO4D5elyLSLQp0kXZKKg8xZUR/fD7tEJXEokAXCdHmd2zYdUjj55KQFOgiIcoOHKa+uY1cjZ9LAlKgi4TQGaKSyBToIiE2VB4iI83HhKF9vS5FpNsU6CIhiitrmDisHz3S9KshiUdbrUiQc46SykO6wqIkLAW6SFDFwQYO1rcwRePnkqAU6CJBR84Q1REukqgU6CJBJRU1+AwmD1OgS2JSoIsElVQeYnx2X3plpHldishJUaCLBBVX1jBV9xCVBKZAFwH21jay51CTAl0SmgJdBCip0CVzJfEp0EWA9UdO+VcPXRKYAl2EwDVcTs/qQ9/MdK9LETlpCnQRAoGu8XNJdAp0SXkH6pqorGnUKf+S8BTokvKKj9xDVD10SXAKdEl5uga6JIuwAt3M5prZZjMrNbN7TtDu78zMmVle5EoUia7iihrGDu7NgF49vC5F5JR0GehmlgYsBa4GpgA3mNmUDtr1A+4CVkW6SJFo0hmikizC6aGfB5Q657Y555qBl4EFHbT7CfAzoDGC9YlE1cH6ZnZWNTBVwy2SBMIJ9JHAzpDn5cFpR5nZDGC0c+5PJ1qQmd1qZgVmVrBv375uFysSaUcumXuWeuiSBE55p6iZ+YBfAj/qqq1z7gnnXJ5zLi87O/tU31rklB09Q1Sn/EsSCCfQK4DRIc9HBacd0Q+YCnxoZmXALCBfO0YlEayvqGHUoF4M6pPhdSkipyycQF8NTDCzcWaWASwE8o/MdM7VOOeynHM5zrkcYCUw3zlXEJWKRSKopKJG4+eSNLoMdOdcK3An8C6wEXjVOVdiZg+Z2fxoFygSLQfrmyk7UM/ZoxXokhzCuhKRc24ZsKzdtPs7aXvpqZclEn3rygPj59NHDfS4EpHI0JmikrLW7jwIwNRR6qFLclCgS8paW17D+Ow+9O+pM0QlOSjQJSU55yjaeZBpozXcIslDgS4paVdNI/vrmpim8XNJIgp0SUnrygPj5+qhSzJRoEtKKtpZQ480Y/Lwfl6XIhIxCnRJSevKDzJleH8y09O8LkUkYhToknL8fse68hrO1vi5JBkFuqScbfvrqGtq1fi5JB0FuqSctTuDZ4jqlH9JMgp0STlryw/SNzOd07P6el2KSEQp0CXlrN15kLNGDsDnM69LEYkoBbqklMaWNjbuqtX4uSQlBbqklPUVNTS3+ckbO8jrUkQiToEuKWV1WRUAMxXokoQU6JJSCsuqGZ/dR7eck6SkQJeU4fc7CrZXc27OaV6XIhIVCnRJGVv31VHT0KLhFklaCnRJGavLqgHUQ5ekpUCXlFGwvYqsvhmMHdzb61JEokKBLimjcHs1M8cOwkwnFElyUqBLSthb28j2A/UabpGkpkCXlFAYHD/XDlFJZgp0SQmry6rp2cNH7ghdYVGSlwJdUkLh9iqmjRpIRro2eUle2rol6R1uaqW48hB5ORpukeSmQJek99mXVbT5HReMz/K6FJGoUqBL0vtoy34y033aISpJT4EuSe+T0v2cN+40evZI87oUkahSoEtS23uokc17apl9hoZbJPmFFehmNtfMNptZqZnd08H8H5rZBjNbZ2YfmNnYyJcq0n2fbN0PwIUKdEkBXQa6maUBS4GrgSnADWY2pV2zz4E859zZwO+Bn0e6UJGT8dGW/ZzWJ4Mpw/t7XYpI1IXTQz8PKHXObXPONQMvAwtCGzjnljvn6oNPVwKjIlumSPc55/h4y34uGD9YN4SWlBBOoI8EdoY8Lw9O68z3gHdOpSiRSCjdW8fe2iYumqDhFkkN6ZFcmJl9F8gDLulk/q3ArQBjxoyJ5FuLHOejLRo/l9QSTg+9Ahgd8nxUcNoxzOwK4F5gvnOuqaMFOeeecM7lOefysrOzT6ZekbB9UrqfcVl9GDVI1z+X1BBOoK8GJpjZODPLABYC+aENzOwc4DcEwnxv5MsU6Z6WNj8rtx3gwjMGe12KSMx0GejOuVbgTuBdYCPwqnOuxMweMrP5wWYPA32B18ysyMzyO1mcSEys2lbF4eY2Lp6gvwQldYQ1hu6cWwYsazft/pDHV0S4LpFT8ueSXfTqkcbFZyrQJXXoTFFJOn6/492SPVw2KVun+0tKUaBL0lmzo5p9tU3MnTrc61JEYkqBLknnz8W7yUjzcdlEDbdIalGgS1JxzvFO8W5mT8iiX88eXpcjElMKdEkqJZWHqDjYwNzcYV6XIhJzCnRJKn8u3k2az7hiylCvSxGJOQW6JJV3indx/rjTOK1PhteliMScAl2SxubdtWzdd5g5Gm6RFKVAl6Tx0mc7yEjzMe9sHa4oqUmBLkmhsaWNN9aUM2fqMAb3zfS6HBFPKNAlKfxx3S4ONbbynfN0WWZJXQp0SQovrtrO6dl9mHX6aV6XIuIZBbokvE27D7Fmx0G+c94YzHSrOUldCnRJeC+u2kFGuo+/m6Fb2UpqU6BLQqtvbuUPayq4ZuowBunYc0lxCnRJaC99tpPaplb+ftZYr0sR8ZwCXRJWXVMrjy4v5cIzBnNujnaGiijQJWE98/GXHDjczOKrJnpdikhcUKBLQjpY38wTK7Zx5ZShnDNmkNfliMQFBbokpMf/uo265lZ+dNWZXpciEjcU6JJw9h5q5NlPv2TBtBFMGtbf63JE4oYCXRKKc4573liP38E/X6neuUgoBboklN+t3M5/btrLv109ibGD+3hdjkhcUaBLwijdW8tP/7SRS87M5sYLcrwuRyTuKNAlITS1tvGDl4rom5nOw9efrWu2iHQg3esCRLrS2ubnR6+uZcOuQ/z2H/IY0q+n1yWJxCUFusS11jY/d71SxJ/W7eLfrpmkmz+LnIACXeJWS5ufu18u4k/rd3HvNZO55eLTvS5JJK4p0CUufbn/MD9+bS0F26v5H1+bzM0XKcxFuqJAl7ji9zueX7md//nORjLSfPzHwuksmD7S67JEEoICXeJCY0sb+UWVPP3Jl2zaXcslZ2bzs787m2EDtANUJFxhBbqZzQX+A0gDfuuc+1/t5mcCzwEzgQPAt51zZZEtVZJNQ3Mbq748wIov9pO/toL9dc1MGtaP//vt6SyYPkKHJop0U5eBbmZpwFLgSqAcWG1m+c65DSHNvgdUO+fOMLOFwM+Ab0ejYEksza1+qg43s7e2kb2HmtheVc+WPbV8saeW4spDNLf6yUz3cdGEbP7xwhwuGD9YQS5yksLpoZ8HlDrntgGY2cvAAiA00BcAS4KPfw88YmbmnHMRrBWAd9bv4tWCnZFerAChX1boN+eOTnNH5/mdo83vjv7b5nc0tfppbvPT1OKnoaWNusZWmtv8x73PaX0ymDCkL/9t1lguPjOb88edRs8eadH7YCIpIpxAHwmEJmg5cH5nbZxzrWZWAwwG9oc2MrNbgVsBxowZc1IFN7S0ceBw80m9Vrp2TN84pKdsIZN8ZvgMDCPd56NnD8NnRka6j4x0H5lpPnpnptE3swd9M9MY1CeD7L6ZDOnfk1GDepHVNzOWH0kkZcR0p6hz7gngCYC8vLyT6r1fN2MU1+nu7iIixwnnWi4VwOiQ56OC0zpsY2bpwAACO0dFRCRGwgn01cAEMxtnZhnAQiC/XZt84Mbg428C/xmN8XMREelcl0MuwTHxO4F3CRy2+LRzrsTMHgIKnHP5wFPA82ZWClQRCH0REYmhsMbQnXPLgGXtpt0f8rgRuD6ypYmISHfoeugiIklCgS4ikiQU6CIiSUKBLiKSJMyrowvNbB+w/SRfnkW7s1DjhOrqHtXVffFam+rqnlOpa6xzLrujGZ4F+qkwswLnXJ7XdbSnurpHdXVfvNamuronWnVpyEVEJEko0EVEkkSiBvoTXhfQCdXVPaqr++K1NtXVPVGpKyHH0EVE5HiJ2kMXEZF2FOgiIkkibgPdzK43sxIz85tZXrt5/2pmpWa22czmdPL6cWa2KtjuleClfyNd4ytmVhT8KTOzok7alZnZ+mC7gkjX0cH7LTGzipDarumk3dzgOiw1s3tiUNfDZrbJzNaZ2R/MbGAn7WKyvrr6/GaWGfyOS4PbUk60agl5z9FmttzMNgS3/7s6aHOpmdWEfL/3d7SsKNR2wu/FAn4VXF/rzGxGDGqaGLIeiszskJnd3a5NzNaXmT1tZnvNrDhk2mlm9r6ZbQn+O6iT194YbLPFzG7sqE2XnHNx+QNMBiYCHwJ5IdOnAGuBTGAcsBVI6+D1rwILg48fB26Pcr3/G7i/k3llQFYM190SYHEXbdKC6+50ICO4TqdEua6rgPTg458BP/NqfYXz+YFFwOPBxwuBV2Lw3Q0HZgQf9wO+6KCuS4E/xmp7Cvd7Aa4B3iFwx8JZwKoY15cG7CZw4o0n6wu4GJgBFIdM+zlwT/DxPR1t98BpwLbgv4OCjwd19/3jtofunNvonNvcwawFwMvOuSbn3JdAKYEbWR9lgdvGX07ghtUA/w/4RrRqDb7ft4CXovUeUXD05t/OuWbgyM2/o8Y5955zrjX4dCWBu195JZzPv4DAtgOBbemrwe86apxzu5xza4KPa4GNBO7ZmwgWAM+5gJXAQDMbHsP3/yqw1Tl3smegnzLn3AoC94QIFboddZZFc4D3nXNVzrlq4H1gbnffP24D/QQ6uml1+w1+MHAwJDw6ahNJFwF7nHNbOpnvgPfMrDB4o+xYuDP4Z+/TnfyJF856jKZ/ItCb60gs1lc4n/+Ym58DR25+HhPBIZ5zgFUdzP6Kma01s3fMLDdGJXX1vXi9TS2k806VF+vriKHOuV3Bx7uBoR20ici6i+lNotszs78AwzqYda9z7q1Y19ORMGu8gRP3zmc75yrMbAjwvpltCv5PHpW6gMeAnxD4BfwJgeGgfzqV94tEXUfWl5ndC7QCL3SymIivr0RjZn2B14G7nXOH2s1eQ2BYoS64f+RNYEIMyorb7yW4j2w+8K8dzPZqfR3HOefMLGrHinsa6M65K07iZeHctPoAgT/30oM9q47aRKRGC9wU+zpg5gmWURH8d6+Z/YHAn/un9IsQ7rozsyeBP3YwK5z1GPG6zOwmYB7wVRccPOxgGRFfXx3ozs3Pyy2GNz83sx4EwvwF59wb7eeHBrxzbpmZPWpmWc65qF6EKozvJSrbVJiuBtY45/a0n+HV+gqxx8yGO+d2BYeg9nbQpoLAWP8RowjsP+yWRBxyyQcWBo9AGEfgf9rPQhsEg2I5gRtWQ+AG1tHq8V8BbHLOlXc008z6mFm/I48J7Bgs7qhtpLQbt7y2k/cL5+bfka5rLvAvwHznXH0nbWK1vuLy5ufBMfqngI3OuV920mbYkbF8MzuPwO9xVP+jCfN7yQf+IXi0yyygJmSoIdo6/SvZi/XVTuh21FkWvQtcZWaDgkOkVwWndU8s9vyezA+BICoHmoA9wLsh8+4lcITCZuDqkOnLgBHBx6cTCPpS4DUgM0p1Pgvc1m7aCGBZSB1rgz8lBIYeor3ungfWA+uCG9Pw9nUFn19D4CiKrTGqq5TAOGFR8Ofx9nXFcn119PmBhwj8hwPQM7jtlAa3pdNjsI5mExgqWxeynq4BbjuynQF3BtfNWgI7ly+IQV0dfi/t6jJgaXB9rifk6LQo19aHQEAPCJnmyfoi8J/KLqAlmF/fI7Df5QNgC/AX4LRg2zzgtyGv/afgtlYK/OPJvL9O/U8BhYWFo3w+33t+v38SgV86kUhxPp9vk9/vv2rmzJkd/pUqsePpGLrEhs/ne2/YsGEThg4daj5fIo6ySbzy+/22a9euiTt27Fg5f/78s/Lz86u9rimV6bc7Bfj9/klDhw5NV5hLpPl8PoYPH+7r0aPHSOBf5s+f38frmlKZfsNTg3rmEjU+n4/gPschHHuUi8SYfstFJFIc0MPrIlKZAl1iIi0tjenTpx/9KSsri9iyr7nmGg4ePBix5XUlJyeH/fsDhzBfcMEFYb0mkjW++eabbNiw4ejz+++/n7/85S+dtu9qviQP7RSVmOjVqxdFRR1ejPKULVu2LCrLDcenn356wvlHDieLVI2tra28+eabzJs3jylTpgDw0EMPnfA1Xc2X5KFATzEPvl3Chsr2Z5Kfmikj+vPA17t/eYycnBwKCgrIysqioKCAxYsX8+GHH7JkyRJ27NjBtm3b2LFjB3fffTc/+MEPePzxx3n88ccBqKmpIScnh+XLlx+znF/+8pc8/fTTANx8883cfffdlJWVcfXVVzN79mw+/fRTRo4cyVtvvUWvXr3YunUrd9xxB/v27aN37948+eSTTJo06Zg6Dxw4wA033EBFRQVf+cpXCD3Ut2/fvtTV1R3TvqysjDlz5nD++edTWFjIsmXLuOSSSygoKKCuro65c+cyc+ZM1qxZQ25uLs899xy9e/fmoYce4u2336ahoYELLriA3/zmN5gZl156KdOnT+fjjz/m2muvJT8/n7/+9a/89Kc/5fXXX+cnP/kJ8+bNIycnh5tvvhmAtrY2iouLcc5x0003MW/ePL75zW/ywQcfsHjxYlpbWzn33HN57LHHyMzMJCcnhxtvvJG3336blpYWXnvtNSZNmsThw4f5/ve/T3FxMS0tLSxZsoQFC6J6DTc5BRpykZhoaGg4Otxy7bXXdtl+06ZNvPvuu3z22Wc8+OCDtLS0cNttt1FUVMTq1asZNWoUP/zhD495TWFhIc888wyrVq1i5cqVPPnkk3z++ecAbNmyhTvuuIOSkhIGDhzI66+/DsCtt97Kr3/9awoLC/nFL37BokWLjqvlwQcfZPbs2ZSUlHDttdeyY8eOLuvfsmULixYtoqSkhLFjxx4zb/PmzSxatIiNGzfSv39/Hn30UQDuvPNOVq9eTXFxMQ0NDfzxj/91xYbm5mYKCgq49957mT9/Pg8//DBFRUWMHz/+aJu8vDyKioooKipi7ty5LF68+Jj3bWxs5KabbuKVV15h/fr1tLa28thjjx2dn5WVxZo1a7j99tv5xS9+AcC///u/c/nll/PZZ5+xfPlyfvzjH3P48OEuP794Qz30FHMyPelI6O6Qy9e+9jUyMzPJzMxkyJAh7Nmzh1GjAlfbveuuu7j88sv5+te/fsxrjvRg+/QJHDl33XXX8Qmy0s0AAAPRSURBVNFHHzF//nzGjRvH9OnTAZg5cyZlZWXU1dXx6aefcv311x9dRlNT03G1rFixgjfeeONoXYMGdXh/gmOMHTuWWbNmdThv9OjRXHjhhQB897vf5Ve/+hWLFy9m+fLl/PznP6e+vp6qqipyc3OPfsZvf/vbXb7nEa+88gpr1qzhvffeO2b65s2bGTduHGeeeSYAN954I0uXLuXuuwP3g7juuuuAwPo58nnfe+898vPzjwZ8Y2MjO3bsYPLkyWHXI7GjQBfPpKen4/f7gUBQhMrMzDz6OC0tjdbWwJWQn332WbZv384jjzzSrfdqv7yGhgb8fj8DBw6Mytj+kf9UOtL+kupmRmNjI4sWLaKgoIDRo0ezZMmSY9bJiZYXqri4mCVLlrBixQrS0tK6VfORdRS6vp1zvP7660ycOLFbyxJvaMhFPJOTk0NhYSHA0SGQEzkyLPK73/2Ojo6rv+iii3jzzTepr6/n8OHD/OEPf+Ciiy7qdHn9+/dn3LhxvPbaa0AgvNauXXtcu4svvpgXX3wRgHfeeYfq6lM7GXLHjh387W9/A+DFF19k9uzZR8M7KyuLuro6fv/733f6+n79+lFbW3vc9IMHD3LDDTfw3HPPkZ2dfdz8iRMnUlZWRmlpKQDPP/88l1xyyQlrnTNnDr/+9a+P7jc4MoQl8UmBLp554IEHuOuuu8jLywurN/nII49QVVXFZZddxvTp04/uADxixowZ3HTTTZx33nmcf/753HzzzZxzzjknXOYLL7zAU089xbRp08jNzeWtt46/EN4DDzzAihUryM3N5Y033mDMmDHd+6DtTJw4kaVLlzJ58mSqq6u5/fbbGThwILfccgtTp05lzpw5nHvuuZ2+fuHChTz88MOcc845bN269ej0t956i+3bt3PLLbcc3V8RqmfPnjzzzDNcf/31nHXWWfh8Pm677bYT1nrffffR0tLC2WefTW5uLvfdd98pfXaJLl2cKwUUFha6mTM7vVy7xFBZWRnz5s2juDiqV1COucLCQh588MGngP/Iz89f73U9qUo9dBGRJKFAF4mhnJycpOudS/xQoKcGd+RoEpFI8/v9aOg2PijQU4DP59u0e/fuNoW6RJrf72fXrl3+xsbG/ejmKZ7TcegpwO/3X1VZWflhZWXl+PbHQIucCuccjY2NVc8999wLwEAgsteVkG5RoKeAmTNnls+fP/9MAjfSvRJo9bgkST4DgLeBrq+LIFGjwxZTyPz5830Ebsisu8pIpNUBlfn5+QoUDynQRUSShHaKiogkCQW6iEiSUKCLiCSJ/w8D7kW+K4pD3AAAAABJRU5ErkJggg==\n",
                  "text/plain": "<Figure size 432x288 with 1 Axes>"
                },
                "metadata": {
                  "needs_background": "light"
                }
              }
            ],
            "_view_module": "@jupyter-widgets/output",
            "_model_module_version": "1.0.0",
            "_view_count": null,
            "_view_module_version": "1.0.0",
            "layout": "IPY_MODEL_7b7e37955b4c4f818f06490d19bf4cb2",
            "_model_module": "@jupyter-widgets/output"
          }
        },
        "73f8f862b5d8404ea312c565e3d65d04": {
          "model_module": "@jupyter-widgets/controls",
          "model_name": "SliderStyleModel",
          "model_module_version": "1.5.0",
          "state": {
            "_view_name": "StyleView",
            "handle_color": null,
            "_model_name": "SliderStyleModel",
            "description_width": "",
            "_view_module": "@jupyter-widgets/base",
            "_model_module_version": "1.5.0",
            "_view_count": null,
            "_view_module_version": "1.2.0",
            "_model_module": "@jupyter-widgets/controls"
          }
        },
        "f84f6192f93445d7852e31b8842cb94f": {
          "model_module": "@jupyter-widgets/base",
          "model_name": "LayoutModel",
          "model_module_version": "1.2.0",
          "state": {
            "_view_name": "LayoutView",
            "grid_template_rows": null,
            "right": null,
            "justify_content": null,
            "_view_module": "@jupyter-widgets/base",
            "overflow": null,
            "_model_module_version": "1.2.0",
            "_view_count": null,
            "flex_flow": null,
            "width": null,
            "min_width": null,
            "border": null,
            "align_items": null,
            "bottom": null,
            "_model_module": "@jupyter-widgets/base",
            "top": null,
            "grid_column": null,
            "overflow_y": null,
            "overflow_x": null,
            "grid_auto_flow": null,
            "grid_area": null,
            "grid_template_columns": null,
            "flex": null,
            "_model_name": "LayoutModel",
            "justify_items": null,
            "grid_row": null,
            "max_height": null,
            "align_content": null,
            "visibility": null,
            "align_self": null,
            "height": null,
            "min_height": null,
            "padding": null,
            "grid_auto_rows": null,
            "grid_gap": null,
            "max_width": null,
            "order": null,
            "_view_module_version": "1.2.0",
            "grid_template_areas": null,
            "object_position": null,
            "object_fit": null,
            "grid_auto_columns": null,
            "margin": null,
            "display": null,
            "left": null
          }
        },
        "a770d96421124b6f84f52b6e2d383a39": {
          "model_module": "@jupyter-widgets/controls",
          "model_name": "SliderStyleModel",
          "model_module_version": "1.5.0",
          "state": {
            "_view_name": "StyleView",
            "handle_color": null,
            "_model_name": "SliderStyleModel",
            "description_width": "",
            "_view_module": "@jupyter-widgets/base",
            "_model_module_version": "1.5.0",
            "_view_count": null,
            "_view_module_version": "1.2.0",
            "_model_module": "@jupyter-widgets/controls"
          }
        },
        "0e21aa50fe244a5ca64db3f522f76316": {
          "model_module": "@jupyter-widgets/base",
          "model_name": "LayoutModel",
          "model_module_version": "1.2.0",
          "state": {
            "_view_name": "LayoutView",
            "grid_template_rows": null,
            "right": null,
            "justify_content": null,
            "_view_module": "@jupyter-widgets/base",
            "overflow": null,
            "_model_module_version": "1.2.0",
            "_view_count": null,
            "flex_flow": null,
            "width": null,
            "min_width": null,
            "border": null,
            "align_items": null,
            "bottom": null,
            "_model_module": "@jupyter-widgets/base",
            "top": null,
            "grid_column": null,
            "overflow_y": null,
            "overflow_x": null,
            "grid_auto_flow": null,
            "grid_area": null,
            "grid_template_columns": null,
            "flex": null,
            "_model_name": "LayoutModel",
            "justify_items": null,
            "grid_row": null,
            "max_height": null,
            "align_content": null,
            "visibility": null,
            "align_self": null,
            "height": null,
            "min_height": null,
            "padding": null,
            "grid_auto_rows": null,
            "grid_gap": null,
            "max_width": null,
            "order": null,
            "_view_module_version": "1.2.0",
            "grid_template_areas": null,
            "object_position": null,
            "object_fit": null,
            "grid_auto_columns": null,
            "margin": null,
            "display": null,
            "left": null
          }
        },
        "7b7e37955b4c4f818f06490d19bf4cb2": {
          "model_module": "@jupyter-widgets/base",
          "model_name": "LayoutModel",
          "model_module_version": "1.2.0",
          "state": {
            "_view_name": "LayoutView",
            "grid_template_rows": null,
            "right": null,
            "justify_content": null,
            "_view_module": "@jupyter-widgets/base",
            "overflow": null,
            "_model_module_version": "1.2.0",
            "_view_count": null,
            "flex_flow": null,
            "width": null,
            "min_width": null,
            "border": null,
            "align_items": null,
            "bottom": null,
            "_model_module": "@jupyter-widgets/base",
            "top": null,
            "grid_column": null,
            "overflow_y": null,
            "overflow_x": null,
            "grid_auto_flow": null,
            "grid_area": null,
            "grid_template_columns": null,
            "flex": null,
            "_model_name": "LayoutModel",
            "justify_items": null,
            "grid_row": null,
            "max_height": null,
            "align_content": null,
            "visibility": null,
            "align_self": null,
            "height": null,
            "min_height": null,
            "padding": null,
            "grid_auto_rows": null,
            "grid_gap": null,
            "max_width": null,
            "order": null,
            "_view_module_version": "1.2.0",
            "grid_template_areas": null,
            "object_position": null,
            "object_fit": null,
            "grid_auto_columns": null,
            "margin": null,
            "display": null,
            "left": null
          }
        },
        "537e798185344c6186f29f160a988f9e": {
          "model_module": "@jupyter-widgets/controls",
          "model_name": "VBoxModel",
          "model_module_version": "1.5.0",
          "state": {
            "_view_name": "VBoxView",
            "_dom_classes": [
              "widget-interact"
            ],
            "_model_name": "VBoxModel",
            "_view_module": "@jupyter-widgets/controls",
            "_model_module_version": "1.5.0",
            "_view_count": null,
            "_view_module_version": "1.5.0",
            "box_style": "",
            "layout": "IPY_MODEL_ac61eb2720d94af5998767d83eed8072",
            "_model_module": "@jupyter-widgets/controls",
            "children": [
              "IPY_MODEL_99cddea6eaaf4fb5b1d58b80d1f01c75",
              "IPY_MODEL_b11052f5b88845aaab11c913f652c2a1",
              "IPY_MODEL_bb7153943308417899d168d877417d3a"
            ]
          }
        },
        "ac61eb2720d94af5998767d83eed8072": {
          "model_module": "@jupyter-widgets/base",
          "model_name": "LayoutModel",
          "model_module_version": "1.2.0",
          "state": {
            "_view_name": "LayoutView",
            "grid_template_rows": null,
            "right": null,
            "justify_content": null,
            "_view_module": "@jupyter-widgets/base",
            "overflow": null,
            "_model_module_version": "1.2.0",
            "_view_count": null,
            "flex_flow": null,
            "width": null,
            "min_width": null,
            "border": null,
            "align_items": null,
            "bottom": null,
            "_model_module": "@jupyter-widgets/base",
            "top": null,
            "grid_column": null,
            "overflow_y": null,
            "overflow_x": null,
            "grid_auto_flow": null,
            "grid_area": null,
            "grid_template_columns": null,
            "flex": null,
            "_model_name": "LayoutModel",
            "justify_items": null,
            "grid_row": null,
            "max_height": null,
            "align_content": null,
            "visibility": null,
            "align_self": null,
            "height": null,
            "min_height": null,
            "padding": null,
            "grid_auto_rows": null,
            "grid_gap": null,
            "max_width": null,
            "order": null,
            "_view_module_version": "1.2.0",
            "grid_template_areas": null,
            "object_position": null,
            "object_fit": null,
            "grid_auto_columns": null,
            "margin": null,
            "display": null,
            "left": null
          }
        },
        "99cddea6eaaf4fb5b1d58b80d1f01c75": {
          "model_module": "@jupyter-widgets/controls",
          "model_name": "FloatSliderModel",
          "model_module_version": "1.5.0",
          "state": {
            "_view_name": "FloatSliderView",
            "style": "IPY_MODEL_a9ed79db917b4aa3abc405e9146fdb2f",
            "_dom_classes": [],
            "description": "valore",
            "step": 0.1,
            "_model_name": "FloatSliderModel",
            "orientation": "horizontal",
            "max": 4,
            "_view_module": "@jupyter-widgets/controls",
            "_model_module_version": "1.5.0",
            "value": -2,
            "_view_count": null,
            "disabled": false,
            "_view_module_version": "1.5.0",
            "min": -4,
            "continuous_update": true,
            "readout_format": ".2f",
            "description_tooltip": null,
            "readout": true,
            "_model_module": "@jupyter-widgets/controls",
            "layout": "IPY_MODEL_4c0f71e0335a4fe3942a88cd4ba77a5c"
          }
        },
        "b11052f5b88845aaab11c913f652c2a1": {
          "model_module": "@jupyter-widgets/controls",
          "model_name": "ButtonModel",
          "model_module_version": "1.5.0",
          "state": {
            "_view_name": "ButtonView",
            "style": "IPY_MODEL_e9d0c3527fb5456ea487ca57b333a053",
            "_dom_classes": [],
            "description": "Run Interact",
            "_model_name": "ButtonModel",
            "button_style": "",
            "_view_module": "@jupyter-widgets/controls",
            "_model_module_version": "1.5.0",
            "tooltip": "",
            "_view_count": null,
            "disabled": false,
            "_view_module_version": "1.5.0",
            "layout": "IPY_MODEL_ad8d58898ac9496eb321a9ec6c31f2d9",
            "_model_module": "@jupyter-widgets/controls",
            "icon": ""
          }
        },
        "bb7153943308417899d168d877417d3a": {
          "model_module": "@jupyter-widgets/output",
          "model_name": "OutputModel",
          "model_module_version": "1.0.0",
          "state": {
            "_view_name": "OutputView",
            "msg_id": "",
            "_dom_classes": [],
            "_model_name": "OutputModel",
            "outputs": [
              {
                "output_type": "stream",
                "name": "stdout",
                "text": [
                  "Risultati attesi: 0.023\n",
                  "Risultati ottenuti: 0.023\n"
                ]
              },
              {
                "output_type": "display_data",
                "data": {
                  "image/png": "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\n",
                  "text/plain": "<Figure size 432x288 with 1 Axes>"
                },
                "metadata": {
                  "needs_background": "light"
                }
              }
            ],
            "_view_module": "@jupyter-widgets/output",
            "_model_module_version": "1.0.0",
            "_view_count": null,
            "_view_module_version": "1.0.0",
            "layout": "IPY_MODEL_1a47d1f629af48f4ae0245bba56bbdab",
            "_model_module": "@jupyter-widgets/output"
          }
        },
        "a9ed79db917b4aa3abc405e9146fdb2f": {
          "model_module": "@jupyter-widgets/controls",
          "model_name": "SliderStyleModel",
          "model_module_version": "1.5.0",
          "state": {
            "_view_name": "StyleView",
            "handle_color": null,
            "_model_name": "SliderStyleModel",
            "description_width": "",
            "_view_module": "@jupyter-widgets/base",
            "_model_module_version": "1.5.0",
            "_view_count": null,
            "_view_module_version": "1.2.0",
            "_model_module": "@jupyter-widgets/controls"
          }
        },
        "4c0f71e0335a4fe3942a88cd4ba77a5c": {
          "model_module": "@jupyter-widgets/base",
          "model_name": "LayoutModel",
          "model_module_version": "1.2.0",
          "state": {
            "_view_name": "LayoutView",
            "grid_template_rows": null,
            "right": null,
            "justify_content": null,
            "_view_module": "@jupyter-widgets/base",
            "overflow": null,
            "_model_module_version": "1.2.0",
            "_view_count": null,
            "flex_flow": null,
            "width": null,
            "min_width": null,
            "border": null,
            "align_items": null,
            "bottom": null,
            "_model_module": "@jupyter-widgets/base",
            "top": null,
            "grid_column": null,
            "overflow_y": null,
            "overflow_x": null,
            "grid_auto_flow": null,
            "grid_area": null,
            "grid_template_columns": null,
            "flex": null,
            "_model_name": "LayoutModel",
            "justify_items": null,
            "grid_row": null,
            "max_height": null,
            "align_content": null,
            "visibility": null,
            "align_self": null,
            "height": null,
            "min_height": null,
            "padding": null,
            "grid_auto_rows": null,
            "grid_gap": null,
            "max_width": null,
            "order": null,
            "_view_module_version": "1.2.0",
            "grid_template_areas": null,
            "object_position": null,
            "object_fit": null,
            "grid_auto_columns": null,
            "margin": null,
            "display": null,
            "left": null
          }
        },
        "e9d0c3527fb5456ea487ca57b333a053": {
          "model_module": "@jupyter-widgets/controls",
          "model_name": "ButtonStyleModel",
          "model_module_version": "1.5.0",
          "state": {
            "_view_name": "StyleView",
            "_model_name": "ButtonStyleModel",
            "_view_module": "@jupyter-widgets/base",
            "_model_module_version": "1.5.0",
            "_view_count": null,
            "button_color": null,
            "font_weight": "",
            "_view_module_version": "1.2.0",
            "_model_module": "@jupyter-widgets/controls"
          }
        },
        "ad8d58898ac9496eb321a9ec6c31f2d9": {
          "model_module": "@jupyter-widgets/base",
          "model_name": "LayoutModel",
          "model_module_version": "1.2.0",
          "state": {
            "_view_name": "LayoutView",
            "grid_template_rows": null,
            "right": null,
            "justify_content": null,
            "_view_module": "@jupyter-widgets/base",
            "overflow": null,
            "_model_module_version": "1.2.0",
            "_view_count": null,
            "flex_flow": null,
            "width": null,
            "min_width": null,
            "border": null,
            "align_items": null,
            "bottom": null,
            "_model_module": "@jupyter-widgets/base",
            "top": null,
            "grid_column": null,
            "overflow_y": null,
            "overflow_x": null,
            "grid_auto_flow": null,
            "grid_area": null,
            "grid_template_columns": null,
            "flex": null,
            "_model_name": "LayoutModel",
            "justify_items": null,
            "grid_row": null,
            "max_height": null,
            "align_content": null,
            "visibility": null,
            "align_self": null,
            "height": null,
            "min_height": null,
            "padding": null,
            "grid_auto_rows": null,
            "grid_gap": null,
            "max_width": null,
            "order": null,
            "_view_module_version": "1.2.0",
            "grid_template_areas": null,
            "object_position": null,
            "object_fit": null,
            "grid_auto_columns": null,
            "margin": null,
            "display": null,
            "left": null
          }
        },
        "1a47d1f629af48f4ae0245bba56bbdab": {
          "model_module": "@jupyter-widgets/base",
          "model_name": "LayoutModel",
          "model_module_version": "1.2.0",
          "state": {
            "_view_name": "LayoutView",
            "grid_template_rows": null,
            "right": null,
            "justify_content": null,
            "_view_module": "@jupyter-widgets/base",
            "overflow": null,
            "_model_module_version": "1.2.0",
            "_view_count": null,
            "flex_flow": null,
            "width": null,
            "min_width": null,
            "border": null,
            "align_items": null,
            "bottom": null,
            "_model_module": "@jupyter-widgets/base",
            "top": null,
            "grid_column": null,
            "overflow_y": null,
            "overflow_x": null,
            "grid_auto_flow": null,
            "grid_area": null,
            "grid_template_columns": null,
            "flex": null,
            "_model_name": "LayoutModel",
            "justify_items": null,
            "grid_row": null,
            "max_height": null,
            "align_content": null,
            "visibility": null,
            "align_self": null,
            "height": null,
            "min_height": null,
            "padding": null,
            "grid_auto_rows": null,
            "grid_gap": null,
            "max_width": null,
            "order": null,
            "_view_module_version": "1.2.0",
            "grid_template_areas": null,
            "object_position": null,
            "object_fit": null,
            "grid_auto_columns": null,
            "margin": null,
            "display": null,
            "left": null
          }
        },
        "dd9c1f029caf4d30bd6a2a0a705bf344": {
          "model_module": "@jupyter-widgets/controls",
          "model_name": "VBoxModel",
          "model_module_version": "1.5.0",
          "state": {
            "_view_name": "VBoxView",
            "_dom_classes": [
              "widget-interact"
            ],
            "_model_name": "VBoxModel",
            "_view_module": "@jupyter-widgets/controls",
            "_model_module_version": "1.5.0",
            "_view_count": null,
            "_view_module_version": "1.5.0",
            "box_style": "",
            "layout": "IPY_MODEL_a27e343d5a194886a9315a3c577c9f82",
            "_model_module": "@jupyter-widgets/controls",
            "children": [
              "IPY_MODEL_0aab0400f20e4b1e93da7bba9d751155",
              "IPY_MODEL_8c28130af8a544aeb9488dd26a3979f1",
              "IPY_MODEL_adbab1238ad34a69b64b0b97b8191ecf"
            ]
          }
        },
        "a27e343d5a194886a9315a3c577c9f82": {
          "model_module": "@jupyter-widgets/base",
          "model_name": "LayoutModel",
          "model_module_version": "1.2.0",
          "state": {
            "_view_name": "LayoutView",
            "grid_template_rows": null,
            "right": null,
            "justify_content": null,
            "_view_module": "@jupyter-widgets/base",
            "overflow": null,
            "_model_module_version": "1.2.0",
            "_view_count": null,
            "flex_flow": null,
            "width": null,
            "min_width": null,
            "border": null,
            "align_items": null,
            "bottom": null,
            "_model_module": "@jupyter-widgets/base",
            "top": null,
            "grid_column": null,
            "overflow_y": null,
            "overflow_x": null,
            "grid_auto_flow": null,
            "grid_area": null,
            "grid_template_columns": null,
            "flex": null,
            "_model_name": "LayoutModel",
            "justify_items": null,
            "grid_row": null,
            "max_height": null,
            "align_content": null,
            "visibility": null,
            "align_self": null,
            "height": null,
            "min_height": null,
            "padding": null,
            "grid_auto_rows": null,
            "grid_gap": null,
            "max_width": null,
            "order": null,
            "_view_module_version": "1.2.0",
            "grid_template_areas": null,
            "object_position": null,
            "object_fit": null,
            "grid_auto_columns": null,
            "margin": null,
            "display": null,
            "left": null
          }
        },
        "0aab0400f20e4b1e93da7bba9d751155": {
          "model_module": "@jupyter-widgets/controls",
          "model_name": "DropdownModel",
          "model_module_version": "1.5.0",
          "state": {
            "_options_labels": [
              "S",
              "M",
              "L",
              "XL"
            ],
            "_view_name": "DropdownView",
            "style": "IPY_MODEL_bec6218561874910bb31c9da4d641741",
            "_dom_classes": [],
            "description": "taglia",
            "_model_name": "DropdownModel",
            "index": 2,
            "_view_module": "@jupyter-widgets/controls",
            "_model_module_version": "1.5.0",
            "_view_count": null,
            "disabled": false,
            "_view_module_version": "1.5.0",
            "description_tooltip": null,
            "_model_module": "@jupyter-widgets/controls",
            "layout": "IPY_MODEL_8899fee09e1a4514bc51960ef76e6f64"
          }
        },
        "8c28130af8a544aeb9488dd26a3979f1": {
          "model_module": "@jupyter-widgets/controls",
          "model_name": "ButtonModel",
          "model_module_version": "1.5.0",
          "state": {
            "_view_name": "ButtonView",
            "style": "IPY_MODEL_945a04d933c242dcaa39c811ae2b5ab2",
            "_dom_classes": [],
            "description": "Run Interact",
            "_model_name": "ButtonModel",
            "button_style": "",
            "_view_module": "@jupyter-widgets/controls",
            "_model_module_version": "1.5.0",
            "tooltip": "",
            "_view_count": null,
            "disabled": false,
            "_view_module_version": "1.5.0",
            "layout": "IPY_MODEL_3fd1cbc5d2754ad88abec6dad86df7a0",
            "_model_module": "@jupyter-widgets/controls",
            "icon": ""
          }
        },
        "adbab1238ad34a69b64b0b97b8191ecf": {
          "model_module": "@jupyter-widgets/output",
          "model_name": "OutputModel",
          "model_module_version": "1.0.0",
          "state": {
            "_view_name": "OutputView",
            "msg_id": "",
            "_dom_classes": [],
            "_model_name": "OutputModel",
            "outputs": [],
            "_view_module": "@jupyter-widgets/output",
            "_model_module_version": "1.0.0",
            "_view_count": null,
            "_view_module_version": "1.0.0",
            "layout": "IPY_MODEL_69c42a5f11484db6bfd13868f7fa2bd8",
            "_model_module": "@jupyter-widgets/output"
          }
        },
        "bec6218561874910bb31c9da4d641741": {
          "model_module": "@jupyter-widgets/controls",
          "model_name": "DescriptionStyleModel",
          "model_module_version": "1.5.0",
          "state": {
            "_view_name": "StyleView",
            "_model_name": "DescriptionStyleModel",
            "description_width": "",
            "_view_module": "@jupyter-widgets/base",
            "_model_module_version": "1.5.0",
            "_view_count": null,
            "_view_module_version": "1.2.0",
            "_model_module": "@jupyter-widgets/controls"
          }
        },
        "8899fee09e1a4514bc51960ef76e6f64": {
          "model_module": "@jupyter-widgets/base",
          "model_name": "LayoutModel",
          "model_module_version": "1.2.0",
          "state": {
            "_view_name": "LayoutView",
            "grid_template_rows": null,
            "right": null,
            "justify_content": null,
            "_view_module": "@jupyter-widgets/base",
            "overflow": null,
            "_model_module_version": "1.2.0",
            "_view_count": null,
            "flex_flow": null,
            "width": null,
            "min_width": null,
            "border": null,
            "align_items": null,
            "bottom": null,
            "_model_module": "@jupyter-widgets/base",
            "top": null,
            "grid_column": null,
            "overflow_y": null,
            "overflow_x": null,
            "grid_auto_flow": null,
            "grid_area": null,
            "grid_template_columns": null,
            "flex": null,
            "_model_name": "LayoutModel",
            "justify_items": null,
            "grid_row": null,
            "max_height": null,
            "align_content": null,
            "visibility": null,
            "align_self": null,
            "height": null,
            "min_height": null,
            "padding": null,
            "grid_auto_rows": null,
            "grid_gap": null,
            "max_width": null,
            "order": null,
            "_view_module_version": "1.2.0",
            "grid_template_areas": null,
            "object_position": null,
            "object_fit": null,
            "grid_auto_columns": null,
            "margin": null,
            "display": null,
            "left": null
          }
        },
        "945a04d933c242dcaa39c811ae2b5ab2": {
          "model_module": "@jupyter-widgets/controls",
          "model_name": "ButtonStyleModel",
          "model_module_version": "1.5.0",
          "state": {
            "_view_name": "StyleView",
            "_model_name": "ButtonStyleModel",
            "_view_module": "@jupyter-widgets/base",
            "_model_module_version": "1.5.0",
            "_view_count": null,
            "button_color": null,
            "font_weight": "",
            "_view_module_version": "1.2.0",
            "_model_module": "@jupyter-widgets/controls"
          }
        },
        "3fd1cbc5d2754ad88abec6dad86df7a0": {
          "model_module": "@jupyter-widgets/base",
          "model_name": "LayoutModel",
          "model_module_version": "1.2.0",
          "state": {
            "_view_name": "LayoutView",
            "grid_template_rows": null,
            "right": null,
            "justify_content": null,
            "_view_module": "@jupyter-widgets/base",
            "overflow": null,
            "_model_module_version": "1.2.0",
            "_view_count": null,
            "flex_flow": null,
            "width": null,
            "min_width": null,
            "border": null,
            "align_items": null,
            "bottom": null,
            "_model_module": "@jupyter-widgets/base",
            "top": null,
            "grid_column": null,
            "overflow_y": null,
            "overflow_x": null,
            "grid_auto_flow": null,
            "grid_area": null,
            "grid_template_columns": null,
            "flex": null,
            "_model_name": "LayoutModel",
            "justify_items": null,
            "grid_row": null,
            "max_height": null,
            "align_content": null,
            "visibility": null,
            "align_self": null,
            "height": null,
            "min_height": null,
            "padding": null,
            "grid_auto_rows": null,
            "grid_gap": null,
            "max_width": null,
            "order": null,
            "_view_module_version": "1.2.0",
            "grid_template_areas": null,
            "object_position": null,
            "object_fit": null,
            "grid_auto_columns": null,
            "margin": null,
            "display": null,
            "left": null
          }
        },
        "69c42a5f11484db6bfd13868f7fa2bd8": {
          "model_module": "@jupyter-widgets/base",
          "model_name": "LayoutModel",
          "model_module_version": "1.2.0",
          "state": {
            "_view_name": "LayoutView",
            "grid_template_rows": null,
            "right": null,
            "justify_content": null,
            "_view_module": "@jupyter-widgets/base",
            "overflow": null,
            "_model_module_version": "1.2.0",
            "_view_count": null,
            "flex_flow": null,
            "width": null,
            "min_width": null,
            "border": null,
            "align_items": null,
            "bottom": null,
            "_model_module": "@jupyter-widgets/base",
            "top": null,
            "grid_column": null,
            "overflow_y": null,
            "overflow_x": null,
            "grid_auto_flow": null,
            "grid_area": null,
            "grid_template_columns": null,
            "flex": null,
            "_model_name": "LayoutModel",
            "justify_items": null,
            "grid_row": null,
            "max_height": null,
            "align_content": null,
            "visibility": null,
            "align_self": null,
            "height": null,
            "min_height": null,
            "padding": null,
            "grid_auto_rows": null,
            "grid_gap": null,
            "max_width": null,
            "order": null,
            "_view_module_version": "1.2.0",
            "grid_template_areas": null,
            "object_position": null,
            "object_fit": null,
            "grid_auto_columns": null,
            "margin": null,
            "display": null,
            "left": null
          }
        }
      }
    }
  },
  "cells": [
    {
      "cell_type": "markdown",
      "metadata": {
        "id": "view-in-github",
        "colab_type": "text"
      },
      "source": [
        "<a href=\"https://colab.research.google.com/github/MontiMic/Tesi/blob/riordinato/Untitled1.ipynb\" target=\"_parent\"><img src=\"https://colab.research.google.com/assets/colab-badge.svg\" alt=\"Open In Colab\"/></a>"
      ]
    },
    {
      "cell_type": "markdown",
      "source": [
        "# Introduzione\n",
        "La seguente presentazione si propone di semplificare l'apprendimento di alcuni principi del calcolo probabilistico offrendo la possibilità di vedere applicare le leggi su grandi numeri e confrontando i risultati ottenuti con quelli attesi dalla teoria."
      ],
      "metadata": {
        "id": "yyLelI9l5lbc"
      }
    },
    {
      "cell_type": "markdown",
      "source": [
        "Di seguito includiamo le librerie che verranno utilizzate nel corso della presentazione:\n",
        "\n",
        "* **numpy** per la manipolazione dei dati\n",
        "\n",
        "* **interact** per rendere la presentazione interattiva offrendo la possibilità allo studente di scegliere gli input\n",
        "\n",
        "* **pyplot** per la rappresentazione grafica dei risultati"
      ],
      "metadata": {
        "id": "35yCw13F7Yam"
      }
    },
    {
      "cell_type": "code",
      "execution_count": 202,
      "metadata": {
        "id": "TAxUPZupC-qR"
      },
      "outputs": [],
      "source": [
        "import numpy as np\n",
        "from ipywidgets import interact, interact_manual\n",
        "from matplotlib import pyplot as plt\n",
        "import math\n",
        "import seaborn as sns\n",
        "import random\n",
        "import scipy.stats\n",
        "import pandas as pd"
      ]
    },
    {
      "cell_type": "markdown",
      "source": [
        "##Elementi di python"
      ],
      "metadata": {
        "id": "XN5Whz1Y9fiZ"
      }
    },
    {
      "cell_type": "markdown",
      "source": [
        "Questa sezione è rivolta unicamente a chi non avesse ancora mai visto il python, allo scopo di mostrare alcune pratiche peculiari a Python."
      ],
      "metadata": {
        "id": "yHNFMDrk9pHX"
      }
    },
    {
      "cell_type": "markdown",
      "source": [
        "La funzione np.zeros(n) restituisce un array di zeri lungo n"
      ],
      "metadata": {
        "id": "kXZd8nfHDkHj"
      }
    },
    {
      "cell_type": "code",
      "source": [
        "np.zeros(5)"
      ],
      "metadata": {
        "colab": {
          "base_uri": "https://localhost:8080/"
        },
        "id": "Pukdrzg7-ggY",
        "outputId": "968cbcd8-0716-4e0d-ebe0-c432f82c6bb6"
      },
      "execution_count": 203,
      "outputs": [
        {
          "output_type": "execute_result",
          "data": {
            "text/plain": [
              "array([0., 0., 0., 0., 0.])"
            ]
          },
          "metadata": {},
          "execution_count": 203
        }
      ]
    },
    {
      "cell_type": "markdown",
      "source": [
        "Specificando anche il type booleano facciamo una conversione: \n",
        "\n",
        "*  Gli zeri diventano False\n",
        "\n",
        "* I valori diversi da zero diventano True"
      ],
      "metadata": {
        "id": "VyLCyWeYDvuh"
      }
    },
    {
      "cell_type": "code",
      "source": [
        "esempio = np.zeros(10, dtype=np.bool)\n",
        "print(esempio)"
      ],
      "metadata": {
        "colab": {
          "base_uri": "https://localhost:8080/"
        },
        "id": "lO-15LDEDZEP",
        "outputId": "f8ec847a-e6b2-4b2a-a302-128a7ed48529"
      },
      "execution_count": 204,
      "outputs": [
        {
          "output_type": "stream",
          "name": "stdout",
          "text": [
            "[False False False False False False False False False False]\n"
          ]
        },
        {
          "output_type": "stream",
          "name": "stderr",
          "text": [
            "/usr/local/lib/python3.7/dist-packages/ipykernel_launcher.py:1: DeprecationWarning: `np.bool` is a deprecated alias for the builtin `bool`. To silence this warning, use `bool` by itself. Doing this will not modify any behavior and is safe. If you specifically wanted the numpy scalar type, use `np.bool_` here.\n",
            "Deprecated in NumPy 1.20; for more details and guidance: https://numpy.org/devdocs/release/1.20.0-notes.html#deprecations\n",
            "  \"\"\"Entry point for launching an IPython kernel.\n"
          ]
        }
      ]
    },
    {
      "cell_type": "markdown",
      "source": [
        "Useremo questo tipo di struttura dati per simulare praticamente tutto, dalla roulette (True = rosso, False = nero) ad un urna di palline (quando ci basteranno 2 soli colori delle palline)"
      ],
      "metadata": {
        "id": "t-fqP7KSEIUu"
      }
    },
    {
      "cell_type": "markdown",
      "source": [
        "Questa struttura dati ci offre inol"
      ],
      "metadata": {
        "id": "YS53XnBHNuxD"
      }
    },
    {
      "cell_type": "markdown",
      "source": [
        "Per modificare un array il python ci offre uno strumento molto potente: lo slicing. Questa funzionalità permette di intervenire su un qualunque sottoinsieme dell'array se usata correttamente. A noi basta sapere che in un caso come esempio[1:5:2], stiamo intervenendo sull'array esempio, prendendo gli elementi dalla posizione 1 (inclusa) alla posizione 5 (esclusa) con passo 2:"
      ],
      "metadata": {
        "id": "OEyj-K9iEeQa"
      }
    },
    {
      "cell_type": "code",
      "source": [
        "esempio = ['a', 'b', 'c', 'd', 'e']\n",
        "esempio[1:5:2]"
      ],
      "metadata": {
        "colab": {
          "base_uri": "https://localhost:8080/"
        },
        "id": "48oF9noGF3Np",
        "outputId": "dd7238a3-ba61-4430-f270-53ee13fe5631"
      },
      "execution_count": 205,
      "outputs": [
        {
          "output_type": "execute_result",
          "data": {
            "text/plain": [
              "['b', 'd']"
            ]
          },
          "metadata": {},
          "execution_count": 205
        }
      ]
    },
    {
      "cell_type": "markdown",
      "source": [
        "Non specificare il primo parametro significa partire dall'elemento 0, omettere il secondo significa procedere fino all'ultimo (compreso) e non specificare il passo significa passo 1: non saltare nessun elemento."
      ],
      "metadata": {
        "id": "Rm-4oAaOGvIL"
      }
    },
    {
      "cell_type": "markdown",
      "source": [
        "La funzione range(n) restituisce un iterabile lungo n. In python è generalmente usata nel ciclo for."
      ],
      "metadata": {
        "id": "b6PzabLwIH1d"
      }
    },
    {
      "cell_type": "code",
      "source": [
        "for i in range(5):\n",
        "  print(i)"
      ],
      "metadata": {
        "colab": {
          "base_uri": "https://localhost:8080/"
        },
        "id": "fdFx5oZPIaf5",
        "outputId": "bb890528-13d1-45ad-8cc7-f56d5cd3396d"
      },
      "execution_count": 206,
      "outputs": [
        {
          "output_type": "stream",
          "name": "stdout",
          "text": [
            "0\n",
            "1\n",
            "2\n",
            "3\n",
            "4\n"
          ]
        }
      ]
    },
    {
      "cell_type": "markdown",
      "source": [
        "##Funzioni utili"
      ],
      "metadata": {
        "id": "UdZaaBfKzjzX"
      }
    },
    {
      "cell_type": "markdown",
      "source": [
        "Quelle che seguono sono funzioni utilizzate in più test del documento, per il corretto funzionamento dei test successivi è necessario eseguire queste celle una volta."
      ],
      "metadata": {
        "id": "iZFqSjhypj_Y"
      }
    },
    {
      "cell_type": "code",
      "source": [
        "#funzione che genera una roulette simulata da un array lungo 37 di cui 18 valori contano come \"vittoria\"\n",
        "def mk_roulette():\n",
        "  ruota = np.zeros(37, dtype=np.bool)\n",
        "  ruota[1::2] = True\n",
        "  return ruota"
      ],
      "metadata": {
        "id": "4LJOZHxd810N"
      },
      "execution_count": 207,
      "outputs": []
    },
    {
      "cell_type": "code",
      "source": [
        "#funzione che simula una singola partita alla roulette (1 o più puntate uguali) e, dato il portafogli di partenza, torno il nuovo conto\n",
        "def partita(ruota, giocate, puntata, portafogli):\n",
        "  while(giocate > 0):\n",
        "      giocate = giocate - 1\n",
        "      portafogli = portafogli - puntata #la puntata la considero sempre persa, in caso di vittoria vinco il doppio della puntata\n",
        "      if(ruota[np.random.randint(0, (37))]): #estraggo un elemento casuale della roulette e verifico se è rosso\n",
        "        portafogli = portafogli + (puntata * 2)\n",
        "  return portafogli  "
      ],
      "metadata": {
        "id": "fqGFfq_CT7Tv"
      },
      "execution_count": 208,
      "outputs": []
    },
    {
      "cell_type": "code",
      "source": [
        "#funzione che simula un dado ritornando un intero compreso tra 1 e 6\n",
        "def trow():\n",
        "  return np.random.randint(1, 7)"
      ],
      "metadata": {
        "id": "O7NiHEewS99d"
      },
      "execution_count": 209,
      "outputs": []
    },
    {
      "cell_type": "code",
      "source": [
        "#funzione che ritorna un'urna contenente palline di 2 colori in quanità scelta\n",
        "def mk_urna(bianche, rosse):\n",
        "  tot = bianche + rosse\n",
        "  urna = np.zeros((tot, 1), dtype=np.bool)\n",
        "  while(rosse > 0):\n",
        "    rnd = np.random.randint(0, (tot))\n",
        "    if (not urna[rnd]):\n",
        "      urna[rnd] = True\n",
        "      rosse = rosse - 1\n",
        "  return urna"
      ],
      "metadata": {
        "id": "R06bqIr8Ii4G"
      },
      "execution_count": 210,
      "outputs": []
    },
    {
      "cell_type": "markdown",
      "source": [
        "##Interpretazione dei risultati"
      ],
      "metadata": {
        "id": "EbFr-wXap_mS"
      }
    },
    {
      "cell_type": "markdown",
      "source": [
        "I test di questo documento hanno lo scopo di mostrare che le formule viste con la teoria del calcolo probabilistico hanno un riscontro nella realtà. \n",
        "Ogni test simulerà per un numero di volte a discrezione dello studente, lo scenario descritto dall'esempio in esame. Si noti che un numero più alto di ripetizioni porterà a risultati più precisi."
      ],
      "metadata": {
        "id": "Mp5-2IqZqDex"
      }
    },
    {
      "cell_type": "code",
      "source": [
        "def moneta(lanci):\n",
        "  results = []\n",
        "  for i in range(lanci): #lanciamo la moneta tante volte quante indicate dal parametro \"lanci\"\n",
        "    results.append(np.random.randint(2))\n",
        "  #grafico\n",
        "  labels = []\n",
        "  normalized = []\n",
        "  normalized.append(round(((results.count(0) / lanci) * 100), 2)) #conto le istanze dei risultati e le normalizzo\n",
        "  normalized.append(round(100 - sum(normalized), 2)) #per evitare che per errori di arrotondamento la somma dei risultati sia 99.9%, l'ultimo risultato lo calcolo come 100 - (la somma dei precedenti)\n",
        "  for i in range(len(normalized)):\n",
        "    labels.append(str(normalized[i]) + \"%\") # aggiungo le labels (i valori riportati all'esterno del grafico)\n",
        "  plt.pie(normalized, labels=labels)\n",
        "  legenda = [\"Testa\", \"Croce\"]\n",
        "  plt.legend(legenda,loc='upper center', bbox_to_anchor=(0.5, -0.05), fancybox=True, shadow=True, ncol=5)"
      ],
      "metadata": {
        "id": "pZxUQQ-_rGuz"
      },
      "execution_count": 211,
      "outputs": []
    },
    {
      "cell_type": "code",
      "source": [
        "moneta(100)"
      ],
      "metadata": {
        "id": "7rynuIn1ubs4",
        "outputId": "9ec7d2ef-c301-4b87-d9dd-a2345c2dc729",
        "colab": {
          "base_uri": "https://localhost:8080/",
          "height": 282
        }
      },
      "execution_count": 212,
      "outputs": [
        {
          "output_type": "display_data",
          "data": {
            "image/png": "[encoded data removed]",
            "text/plain": [
              "<Figure size 432x288 with 1 Axes>"
            ]
          },
          "metadata": {}
        }
      ]
    },
    {
      "cell_type": "code",
      "source": [
        "moneta(10_000)"
      ],
      "metadata": {
        "id": "E6dWQdxUud7o",
        "outputId": "07042567-bea5-4efb-b9e7-ea0d6376ef2d",
        "colab": {
          "base_uri": "https://localhost:8080/",
          "height": 282
        }
      },
      "execution_count": 213,
      "outputs": [
        {
          "output_type": "display_data",
          "data": {
            "image/png": "[encoded data removed]",
            "text/plain": [
              "<Figure size 432x288 with 1 Axes>"
            ]
          },
          "metadata": {}
        }
      ]
    },
    {
      "cell_type": "code",
      "source": [
        "moneta(1_000_000)"
      ],
      "metadata": {
        "id": "uNmo8_dXugoY",
        "outputId": "264594b6-8e44-43a1-a628-dbb158a72f29",
        "colab": {
          "base_uri": "https://localhost:8080/",
          "height": 282
        }
      },
      "execution_count": 214,
      "outputs": [
        {
          "output_type": "display_data",
          "data": {
            "image/png": "[encoded data removed]",
            "text/plain": [
              "<Figure size 432x288 with 1 Axes>"
            ]
          },
          "metadata": {}
        }
      ]
    },
    {
      "cell_type": "markdown",
      "source": [
        "Per un buon equilibrio tra accuratezza dei risultati e tempo di esecuzione impostiamo il numero di ripetizioni a 100 000 con la variabile \"precisione\"."
      ],
      "metadata": {
        "id": "0_jUagMkw72N"
      }
    },
    {
      "cell_type": "code",
      "source": [
        "precisione = 100_000"
      ],
      "metadata": {
        "id": "7YqOeAMoxunS"
      },
      "execution_count": 215,
      "outputs": []
    },
    {
      "cell_type": "markdown",
      "source": [
        "Si lascia allo studente la possibilità di incrementare questa variabile se desiderasse dei risultati più precisi."
      ],
      "metadata": {
        "id": "uH7_BXdBxvvq"
      }
    },
    {
      "cell_type": "markdown",
      "source": [
        "# Variabili aleatorie discrete"
      ],
      "metadata": {
        "id": "gQTrf-PK7FxE"
      }
    },
    {
      "cell_type": "markdown",
      "source": [
        "Una variabile aleatoria _X_ si dice discreta se i valori che assume sono finiti oppure numerabili.\n",
        "\n",
        "Nel caso siano numerabili molto spesso potremo pensare che siano semplicmente i numeri interi, ma non vogliamo escludere anche casi in cui abbiamo dei valori non interi."
      ],
      "metadata": {
        "id": "f7tQYrZgLgm2"
      }
    },
    {
      "cell_type": "markdown",
      "source": [
        "##Esempio 1.1 \n",
        "Faccio 3 puntate sul rosso alla roulette puntando 10 euro per volta, qual è la probabilità di vincere più di un certo valore _X_?\n",
        "\n",
        "(Le vincite possibili sono valori finiti ed è quindi una variabile discreta)"
      ],
      "metadata": {
        "id": "wO2wYqZ-DSZF"
      }
    },
    {
      "cell_type": "code",
      "source": [
        "@interact_manual(vincita=(0, 30))\n",
        "def es11(vincita=5):\n",
        "  giocate = 3\n",
        "  puntata = 10\n",
        "  ruota = mk_roulette()\n",
        "  count = 0\n",
        "  for i in range(precisione):\n",
        "    portafogli = giocate * puntata\n",
        "    portafogli = partita(ruota, giocate, puntata, portafogli) #il portafogli viene aggiornato dopo aver simulato una partita\n",
        "    if((portafogli - 30) >= vincita): #se ho finito le 3 puntate con una vincita maggiore o uguale a quella sperata la aggiungo al conteggio\n",
        "      count = count + 1\n",
        "  return round(count / precisione, 3)"
      ],
      "metadata": {
        "colab": {
          "base_uri": "https://localhost:8080/",
          "height": 81,
          "referenced_widgets": [
            "2e1978d7638849d1aa77f86242786443",
            "28941255396b48e68538355c3525f0df",
            "167d4eaa5c134a16900cd85280082cef",
            "4f9bcb995acf4c7981da284c15123a91",
            "c2d9c180d9944ebaa1feab112dc96b6e",
            "bf7ca2fd465744369df06223bb41614f",
            "f4dce39c95ca4eacb0304d0d7e201876",
            "96c169b82f0640f4b9ffcf64270fa427",
            "429eaf29a22245fca0b0fdeba02f2914",
            "2b6f5c0cbc8e4b25a915144e4b231dce"
          ]
        },
        "id": "w2ugmhMy_cfa",
        "outputId": "2de65946-3548-46bb-ab4e-830390bd84c9"
      },
      "execution_count": 216,
      "outputs": [
        {
          "output_type": "display_data",
          "data": {
            "application/vnd.jupyter.widget-view+json": {
              "model_id": "2e1978d7638849d1aa77f86242786443",
              "version_minor": 0,
              "version_major": 2
            },
            "text/plain": [
              "interactive(children=(IntSlider(value=5, description='vincita', max=30), Button(description='Run Interact', st…"
            ]
          },
          "metadata": {}
        }
      ]
    },
    {
      "cell_type": "markdown",
      "source": [
        "##Esempio 1.2\n",
        "Dati il numero di puntate ed i soldi scommessi ogni volta, quanto mi dovrei aspettare di aver vinto alla fine? (risultato in euro)"
      ],
      "metadata": {
        "id": "tTOcRD2kD_zf"
      }
    },
    {
      "cell_type": "code",
      "source": [
        "@interact_manual(giocate=(1, 10), puntata=(5, 100, 5))\n",
        "def es12(giocate = 3, puntata = 10):\n",
        "  portafogli = giocate * puntata * precisione\n",
        "  ruota = mk_roulette()\n",
        "  for i in range(precisione):\n",
        "    portafogli = partita(ruota, giocate, puntata, portafogli)\n",
        "  portafogli = portafogli / precisione\n",
        "  return round(portafogli - (giocate * puntata), 2)"
      ],
      "metadata": {
        "colab": {
          "base_uri": "https://localhost:8080/",
          "height": 113,
          "referenced_widgets": [
            "747ec6497f9743bbb010475b861d8f49",
            "a5276d37aec34f069f13859319584287",
            "1833ce5f4d444917b036cd8a661d3b92",
            "6a14cf3461344a0ab897c4ea77b84e2e",
            "7780536708e14e7ca2153dea6ff2d621",
            "8ce4c1d541db441585044317dcf5bdad",
            "0f6bf43ab764458eb746c84afc8333b7",
            "779f3c7d9e4d4e6dbd8e1b7848604876",
            "1199365768ed4aa283d1db28008aa4a4",
            "3e0d19113dc541eaa4e2f00404121d72",
            "06a1c24f9df74d538f8bd17be9796951",
            "d8898cf6a623472cbb1dedbe1fd8d820",
            "97a1ff1b7e09488c99348e3afa9b2de5"
          ]
        },
        "id": "TR8QkEnHD-B2",
        "outputId": "284a04f9-bc88-4805-9964-5b995911fc67"
      },
      "execution_count": 217,
      "outputs": [
        {
          "output_type": "display_data",
          "data": {
            "application/vnd.jupyter.widget-view+json": {
              "model_id": "747ec6497f9743bbb010475b861d8f49",
              "version_minor": 0,
              "version_major": 2
            },
            "text/plain": [
              "interactive(children=(IntSlider(value=3, description='giocate', max=10, min=1), IntSlider(value=10, descriptio…"
            ]
          },
          "metadata": {}
        }
      ]
    },
    {
      "cell_type": "markdown",
      "source": [
        "# Distribuzione uniforme e non uniforme"
      ],
      "metadata": {
        "id": "qBnKgfwaLT9x"
      }
    },
    {
      "cell_type": "markdown",
      "source": [
        "Sia _A_ = {_x1_, . . . , _xn_}; una variabile _X_ che assume i valori in _A_ tutti con la stessa probabilità $\\frac{1}{n}$\n",
        "si dice _variabile uniforme_ su _A_. Scriviamo in questo caso _X_ ∼ _U_(_A_) oppure _X_ ∼ _U_(_x1_, . . . , _xn_).\n",
        "La densità è quindi:\n",
        "\n",
        "\\begin{equation}\n",
        "  px(h) =\n",
        "    \\begin{cases}\n",
        "           \\frac{1}{n} \\ se \\  h  \\ ∈ \\ ({x1}, {x2}, ..., {xn})\n",
        "          \\\\\n",
        "          0 \\ altrimenti\n",
        "        \\end{cases}\n",
        "\\end{equation}"
      ],
      "metadata": {
        "id": "GUQzPwZ8NK0Q"
      }
    },
    {
      "cell_type": "markdown",
      "source": [
        "##Esempio 2.1 \n",
        "Nel lancio di un dado sia Ω = {1, 2, 3, 4, 5, 6} l’insieme dei possibili risultati.\n",
        "Allora la funzione _X_(_n_) = n per ogni n ∈ Ω è una variabile aleatoria uniforme _X_ ∼ _U_(1, 2, 3, 4, 5, 6).\n"
      ],
      "metadata": {
        "id": "HJrqw0EbXj2l"
      }
    },
    {
      "cell_type": "code",
      "source": [
        "def es21():\n",
        "  results = []\n",
        "  for i in range(precisione):\n",
        "    results.append(trow()) #aggiungo il risultato del tiro alla lista dei risultati\n",
        "  #grafico\n",
        "  elem_count = []\n",
        "  labels = []\n",
        "  for i in range(len(set(results))): #conto le istanze di ogni risultato ottenuto ed aggiungo i totali a elem_count, poi lo metto a grafico\n",
        "    elem_count.append(results.count(i+1))\n",
        "    labels.append(str(i+1))\n",
        "  plt.bar(labels, elem_count)\n",
        "es21()"
      ],
      "metadata": {
        "colab": {
          "base_uri": "https://localhost:8080/",
          "height": 265
        },
        "id": "pO1ExmtATCeI",
        "outputId": "66125792-4944-4257-87e4-4719f2a4c0cf"
      },
      "execution_count": 218,
      "outputs": [
        {
          "output_type": "display_data",
          "data": {
            "image/png": "[encoded data removed]",
            "text/plain": [
              "<Figure size 432x288 with 1 Axes>"
            ]
          },
          "metadata": {
            "needs_background": "light"
          }
        }
      ]
    },
    {
      "cell_type": "markdown",
      "source": [
        "##Esempio 2.2\n",
        "Se invece lanciassimo due dadi, la variabile _X_ che assume un valore corrispondente al numero di risultati pari ottenuti dal lancio sarebbe una _variabile non uniforme_ siccome la sua densità sarebbe:\n",
        "\n",
        "\\begin{equation}\n",
        "  py(h) =\n",
        "    \\begin{cases}\n",
        "          \\frac{1}{4} \\  h={0},{2}\n",
        "          \\\\\n",
        "          \\frac{1}{2} \\ h={1}\n",
        "          \\\\\n",
        "          0 \\ altrimenti\n",
        "        \\end{cases}\n",
        "\\end{equation}"
      ],
      "metadata": {
        "id": "BZUNA1OvaQp6"
      }
    },
    {
      "cell_type": "code",
      "source": [
        "def es22():\n",
        "  results = []\n",
        "  for i in range(precisione):\n",
        "    a, b = trow(), trow() #lancio due dadi, poi conterò quanti sono pari per aggiungere il risultato alla lista\n",
        "    results.append(2-((a % 2)+(b % 2))) #conto i dadi pari come due meno i dadi dispari (n%2 = 1 per n dispari, 0 altrimenti)\n",
        "  valori = []\n",
        "  normalized = []\n",
        "  for i in range(3): #conto le istanze dei risultati e le divido per il numero di risultati totale (normalizzo)\n",
        "    normalized.append(results.count(i) / len(results)) #len(results) torna la lunghezza della lista results\n",
        "    valori.append(\"k=\" + str(i))\n",
        "  plt.pie(normalized, labels=valori)\n",
        "even_dices()"
      ],
      "metadata": {
        "colab": {
          "base_uri": "https://localhost:8080/",
          "height": 248
        },
        "id": "Ly_UKZkxZr2J",
        "outputId": "789d7dd6-22a4-4e7d-b1a0-4c33378c8ee0"
      },
      "execution_count": 219,
      "outputs": [
        {
          "output_type": "display_data",
          "data": {
            "image/png": "[encoded data removed]",
            "text/plain": [
              "<Figure size 432x288 with 1 Axes>"
            ]
          },
          "metadata": {}
        }
      ]
    },
    {
      "cell_type": "markdown",
      "source": [
        "#Densità binomiale"
      ],
      "metadata": {
        "id": "qimeQspadWgq"
      }
    },
    {
      "cell_type": "markdown",
      "source": [
        "Consideriamo un fenomeno aleatorio e un certo evento ad esso associato. Per semplicità diciamo che se l’evento si realizza otteniamo un “successo”, viceversa che abbiamo ottenuto un “insuccesso\".\n",
        "Uno schema successo-insuccesso consiste nel ripetere questo fenomeno un certo fissato numero di volte, dette anche prove o tentativi, in cui siamo interessati unicamente al numero di successi ottenuti\n",
        "nelle varie prove.\n",
        "Supponiamo ora che le prove siano indipendenti l’una dall’altra, cioè vengono effettuate tuttevnelle medesime condizioni, indipendentemente dal risultato delle prove precedenti: parliamo in questo caso di schema successo-insuccesso con ripetizione o a prove indipendenti. Consideriamo\n",
        "quindi la variabile X data dal numero di successi in n tentativi.\n",
        "Nel caso in cui le prove siano indipendenti l’una dall’altra, la probabilità di ottenere una certa prefissata sequenza di successi e insuccessi dipende solo dal numero di questi ultimi e non dall’ordine con cui vogliamo che si succedano. La probabilità di ottenere una sequenza fissata in cui abbiamo k successi e n − k insuccessi è data da\n",
        "$p^k(1-p)^{n-k}$, dove p è la probabilità che ogni singolo tentativo abbia successo. Siccome i modi in cui possiamo scegliere le k posizioni per i successi sono date da ${n\\choose k}$ otteniamo per la variabile X la densità data da\n",
        "\n",
        "\\begin{equation}\n",
        "  px(k) =\n",
        "    \\begin{cases}\n",
        "          {n\\choose k} p^k(1-p)^{n-k} \\ se \\ k=1,2,...,n\n",
        "          \\\\\n",
        "          0 \\ altrimenti\n",
        "        \\end{cases}\n",
        "\\end{equation}\n",
        "\n",
        "\n",
        "Scriveremo in questo caso _X_ ∼ _B_(_n_, _p_) e diciamo che _X_ è una variabile binomiale."
      ],
      "metadata": {
        "id": "OUh7jiOk7WSD"
      }
    },
    {
      "cell_type": "markdown",
      "source": [
        "##Esempio 3.1\n",
        "\n",
        "Supponiamo di andare al casinò con 15 Euro e puntiamo 3 volte 5 Euro alla roulette sul rosso. Consideriamo la variabile aleatoria X data dai soldi che abbiamo in tasca alla fine delle 3 puntate. La probabilità di ottenere un numero rosso è di $\\frac{18}{37}$ ad ogni tentativo.\n",
        "Determinare la densità di X.\n",
        "La variabile X può assumere i valori 30, 20, 10, 0 a seconda di quanti rossi sono usciti. Abbiamo:\n",
        "\n",
        "P(X = 30) = $(\\frac{18}{37})^3$ = 0,115\n",
        "\n",
        "P(X = 20) = ${3\\choose 1}(\\frac{18}{37})^2 · \\frac{19}{37}$= 0, 365\n",
        "\n",
        "P(X = 10) = ${3\\choose 2}(\\frac{18}{37}) · (\\frac{19}{37})^2$ = 0,385\n",
        "\n",
        "P(X = 0) = $(\\frac{19}{37})^3$ = 0,135\n"
      ],
      "metadata": {
        "id": "O8PjzahWhrRr"
      }
    },
    {
      "cell_type": "code",
      "source": [
        "@interact_manual(giocate=(1, 6), puntata=(5, 100, 5))\n",
        "def es31(giocate = 3, puntata = 5):\n",
        "  ruota = mk_roulette()\n",
        "  results = []\n",
        "  for i in range(precisione):\n",
        "    portafogli = giocate * puntata\n",
        "    portafogli = partita(ruota, giocate, puntata, portafogli)\n",
        "    results.append(portafogli)\n",
        "  #grafico\n",
        "  normalized = []\n",
        "  valori = []\n",
        "  for i in range(giocate):\n",
        "    normalized.append(round(((results.count(puntata*2*i) / precisione) * 100), 2)) #conto le istanze dei risultati e le normalizzo\n",
        "  normalized.append(round(100 - sum(normalized), 2)) #per evitare che per errori di arrotondamento la somma dei risultati sia 99.9%, l'ultimo risultato lo calcolo come 100 - (la somma dei precedenti)\n",
        "  labels = []\n",
        "  for i in range(len(normalized)):\n",
        "    labels.append(str(normalized[i]) + \"%\") # aggiungo le labels (i valori riportati all'esterno del grafico)\n",
        "  plt.pie(normalized, labels=labels)\n",
        "  legenda = []\n",
        "  for i in range(len(normalized)):\n",
        "    legenda.append(str(puntata*2*i))\n",
        "  plt.legend(legenda,loc='upper center', bbox_to_anchor=(0.5, -0.05), fancybox=True, shadow=True, ncol=5)"
      ],
      "metadata": {
        "id": "QDB96jXivO40",
        "outputId": "eda26378-1509-4095-a3c9-7a4392fb8907",
        "colab": {
          "base_uri": "https://localhost:8080/",
          "height": 113,
          "referenced_widgets": [
            "f28525146c5c4351885d1865c7cbc7a8",
            "f8e7fd0b2acf4d9993ee8e947963232d",
            "7e742d10cc714984acba8bc51682fc41",
            "dbaf73c498a44963985941a5b2102edc",
            "843ab66c8ca2498b8bbec71cae74692a",
            "081c9cf44443471faee81cd902d87881",
            "4d449f353af546a280f169ed4abd4ea1",
            "746fc3a4927244af8387c81587bd4234",
            "0474ca2331264ce981ad9719010b4d6e",
            "bb70593ccc9846fcbd64ad8f589dcf8f",
            "fb8be47602224979a4b94ed851c198a2",
            "5ad4073b4a9041e3821615717adfdf8d",
            "15fbc1c23ae74c3aae23322ea201ac10"
          ]
        }
      },
      "execution_count": 220,
      "outputs": [
        {
          "output_type": "display_data",
          "data": {
            "application/vnd.jupyter.widget-view+json": {
              "model_id": "f28525146c5c4351885d1865c7cbc7a8",
              "version_minor": 0,
              "version_major": 2
            },
            "text/plain": [
              "interactive(children=(IntSlider(value=3, description='giocate', max=6, min=1), IntSlider(value=5, description=…"
            ]
          },
          "metadata": {}
        }
      ]
    },
    {
      "cell_type": "markdown",
      "source": [
        "# Densità ipergeometrica"
      ],
      "metadata": {
        "id": "9PjQr8MmCUYu"
      }
    },
    {
      "cell_type": "markdown",
      "source": [
        "\n",
        "Un altro tipo di schema successo-insuccesso è il cosiddetto schema successo-insuccesso _senza ripetizione_. In questo caso il fenomeno aleatorio consiste nell’estrazione di n palline, senza rimpiazzare di volta in volta la pallina estratta, da un'urna contenente b palline bianche e r palline rosse.\n",
        "Diciamo che la prova (estrazione) dà successo se viene estratta una pallina bianca e consideriamo la variabile X data dal numero di successi ottenuti, cioè dal numero di palline bianche estratte.\n",
        "\n",
        "\n",
        "Osserviamo che X può assumere tutti i valori tra max(0, n − r) e min(n, b): infatti se n > r siamo sicuri di pescare almeno n−r palline bianche e chiaramente il numero di bianche estratte non può superare nè il numero estrazioni nè il numero di palline bianche.\n",
        "\n",
        "Lo spazio Ω è dato da tutti i possibili sottoinsiemi di n oggetti (le palline estratte) scelti da un insieme di b + r oggetti (le palline\n",
        "disponibili), con probabilità uniforme. L’evento “X = k” è dato quindi da tutti i sottoinsiemi delle b + r palline costituiti da k palline bianche e n − k palline rosse. Le k bianche le posso scegliere in ${b\\choose k}$ modi. Le n − k rosse in ${r \\choose {n - k}}$ modi. Abbiamo quindi che la densità di X è data da\n",
        "\n",
        "\\begin{equation}\n",
        "  px(k) =\n",
        "    \\begin{cases}\n",
        "          \\frac{{b \\choose k} · {r \\choose n - k}}{b + r \\choose n} \\ se \\ k=max(0, n-r),...,min(n,b)\n",
        "          \\\\\n",
        "          0 \\ altrimenti\n",
        "        \\end{cases}\n",
        "\\end{equation}\n",
        "\n",
        "Scriviamo in questo caso X ∼ H(n; b, r) e diciamo che X è una variabile ipergeometrica."
      ],
      "metadata": {
        "id": "OnLdbdQjCbyl"
      }
    },
    {
      "cell_type": "markdown",
      "source": [
        "##Esempio 4.1\n",
        "Un’urna contiene 8 palline bianche e 2 rosse. Ne estraiamo 3 senza rimpiazzo.\n",
        "Qual è la probabilità di estrarne al più una rossa? In questo caso, a differenza del precedente abbiamo che la variabile X = numero di rosse estratte è una ipergeometrica X ∼ H(3; 2, 8) per\n",
        "cui\n",
        "\n",
        "P(_X_ ≤ 1) = P(_X_ = 0) + P(_X_ = 1) = $\\frac{{2 \\choose 0}·{8 \\choose 3}}{10 \\choose 3}$ + $\\frac{{2 \\choose 1}·{8 \\choose 2}}{10 \\choose 3}$ = $\\frac{14}{15}$ = 0.933"
      ],
      "metadata": {
        "id": "mqqc2UiZGaIY"
      }
    },
    {
      "cell_type": "code",
      "source": [
        "@interact_manual(estrazioni=(1, 10))\n",
        "def es41(estrazioni=3):\n",
        "  bianche = 8\n",
        "  rosse = 2\n",
        "  urna = mk_urna(bianche, rosse)\n",
        "  results = 0\n",
        "  for i in range(precisione):\n",
        "    tmp = urna\n",
        "    count = 0\n",
        "    for i in range(estrazioni):\n",
        "      extr = np.random.randint(0, ((bianche + rosse)-i))\n",
        "      if(tmp[extr]):\n",
        "        count = count + 1\n",
        "      tmp = np.delete(tmp, extr)\n",
        "    if(count < 2):\n",
        "      results = results + 1  \n",
        "  return round(results / precisione, 3)"
      ],
      "metadata": {
        "id": "R0SjK_tkMtDv",
        "colab": {
          "base_uri": "https://localhost:8080/",
          "height": 81,
          "referenced_widgets": [
            "16945a768cef4d968d1f901ee13b44a4",
            "343da836b392470194632069de2b1cec",
            "9443a8a5a43946798a388ce9379ff589",
            "df7846326b1a41aa9185b6a1d2fc067b",
            "fc538d88a21844cb8c7b5d95dbe0c137",
            "275a75b566f7434ca00a612ded2e5fe0",
            "b426b54dc6cb44da87b9c1c0728fedf3",
            "5045c9ebe796488e9f9c2a53804f0827",
            "948bb0974a3c477e844488f8eebd24ee",
            "8162d836e6134a14aacca9bcf788afda"
          ]
        },
        "outputId": "75321aba-96c9-4d0f-b43c-dd2582705e67"
      },
      "execution_count": 221,
      "outputs": [
        {
          "output_type": "display_data",
          "data": {
            "application/vnd.jupyter.widget-view+json": {
              "model_id": "16945a768cef4d968d1f901ee13b44a4",
              "version_minor": 0,
              "version_major": 2
            },
            "text/plain": [
              "interactive(children=(IntSlider(value=3, description='estrazioni', max=10, min=1), Button(description='Run Int…"
            ]
          },
          "metadata": {}
        }
      ]
    },
    {
      "cell_type": "markdown",
      "source": [
        "#Densità geometrica - geometrica modificata"
      ],
      "metadata": {
        "id": "-GtoecXjUH1e"
      }
    },
    {
      "cell_type": "markdown",
      "source": [
        "In uno schema successo-insuccesso, anzichè al numero di successi ottenuti su n tentativi, potremmo essere interessati al numero di tentativi che devo effettuare prima di ottenere un successo."
      ],
      "metadata": {
        "id": "YBirGuNoUKbB"
      }
    },
    {
      "cell_type": "markdown",
      "source": [
        "##Esempio 5.1\n",
        "\n",
        "Consideriamo un’urna con 2 palline bianche e 3 rosse. Le estraggo senza\n",
        "rimpiazzo finchè non trovo una pallina rossa. Considero la variabile aleatoria X=numero di estrazioni per trovare una pallina rossa. X è una variabile finita in quanto assume solo i valori 1, 2, 3.\n",
        "La sua densità si determina facilmente ed è data da\n",
        "\n",
        "\\begin{equation}\n",
        "  px(k) =\n",
        "    \\begin{cases}\n",
        "          \\frac{6}{10} \\ se \\ k=1\n",
        "          \\\\\n",
        "          \\frac{3}{10} \\ se \\ k=2\n",
        "          \\\\\n",
        "          \\frac{1}{10} \\ se \\ k=3\n",
        "          \\\\\n",
        "          0 \\ altrimenti\n",
        "        \\end{cases}\n",
        "\\end{equation}\n",
        "\n"
      ],
      "metadata": {
        "id": "aXX1PJQLUX9Z"
      }
    },
    {
      "cell_type": "code",
      "source": [
        "@interact_manual(bianche=(1,5), rosse=(1, 5))\n",
        "def es51(bianche=2, rosse=3):\n",
        "  palle = mk_urna(bianche, rosse)\n",
        "  results = []\n",
        "  count=0\n",
        "  while(len(results) < precisione):\n",
        "    done = len(results)\n",
        "    tmp = palle\n",
        "    while(len(results) == done):\n",
        "      extr = np.random.randint(0, ((bianche+rosse)-count))\n",
        "      if(tmp[extr]):\n",
        "        results.append(count)\n",
        "        count=0\n",
        "      else:  \n",
        "        tmp = np.delete(tmp,extr)\n",
        "        count = count + 1\n",
        "  #grafico\n",
        "  labels = []\n",
        "  normalized = []\n",
        "  for i in range(len(set(results)) - 1): #len(set(n)) torna il numero di risultati distinti presenti in results\n",
        "    normalized.append(round(((results.count(i) / precisione) * 100), 2)) #conto le istanze dei risultati e le normalizzo\n",
        "  normalized.append(round(100 - sum(normalized), 2)) #per evitare che per errori di arrotondamento la somma dei risultati sia 99.9%, l'ultimo risultato lo calcolo come 100 - (la somma dei precedenti)\n",
        "  for i in range(len(normalized)):\n",
        "    labels.append(str(normalized[i]) + \"%\") # aggiungo le labels (i valori riportati all'esterno del grafico)\n",
        "  plt.pie(normalized, labels=labels)\n",
        "  legenda = []\n",
        "  for i in range(bianche + 1):\n",
        "    legenda.append(\"k=\"+str(i+1))\n",
        "  plt.legend(legenda,loc='upper center', bbox_to_anchor=(0.5, -0.05), fancybox=True, shadow=True, ncol=5)"
      ],
      "metadata": {
        "colab": {
          "base_uri": "https://localhost:8080/",
          "height": 113,
          "referenced_widgets": [
            "d233100deeb545b79d882f01207f71b6",
            "1951f032a7204023aeb6d9d5edd47cf5",
            "3578499015c3475c930ee839b07071c7",
            "ba573aecf9e24f91bee4e65904d564d0",
            "4e525581f9ab43219798cddda8d524e5",
            "06c62468f352427299e603c255133042",
            "aeb581452d714ed9ac6d12a957a81753",
            "0304ff73629041659bfb8a8a1795ce1e",
            "0aa1a02c94ef411f8dca8efa8e35f602",
            "4481b1b07fe648ea8332b71aef86d5fe",
            "723e2f20ca054729b72c4efd3ef2ac7d",
            "c074c36ef0d64c0e8e091be81e9c3a94",
            "d235c48a77f94c32b89cdfdb44085d68"
          ]
        },
        "id": "5tLgoNi7f2YM",
        "outputId": "af48a55d-e227-48f9-e871-86ffb2556eff"
      },
      "execution_count": 222,
      "outputs": [
        {
          "output_type": "display_data",
          "data": {
            "application/vnd.jupyter.widget-view+json": {
              "model_id": "d233100deeb545b79d882f01207f71b6",
              "version_minor": 0,
              "version_major": 2
            },
            "text/plain": [
              "interactive(children=(IntSlider(value=2, description='bianche', max=5, min=1), IntSlider(value=3, description=…"
            ]
          },
          "metadata": {}
        }
      ]
    },
    {
      "cell_type": "markdown",
      "source": [
        "Caso interessante:\n",
        "\n",
        "Nel caso di una sola pallina rossa ed _n_ palline bianche, non si ha un'estrazione in cui è più probabile trovare la rossa, hanno tutte probabilità $\\frac{1}{n+1}$ come si può verificare ri-lanciando l'esperimento precedente con una sola pallina rossa."
      ],
      "metadata": {
        "id": "Y5F358gdvcak"
      }
    },
    {
      "cell_type": "markdown",
      "source": [
        "##Esempio 5.2\n",
        "\n",
        "Ripetiamo l'esperimento precedente, ma questa volta rimpiazziamo la pallina ad ogni estrazione. La variabile X diventa numerabile e si ha\n",
        "\n",
        "\\begin{equation}\n",
        "  px(k) =\n",
        "    \\begin{cases}\n",
        "          (\\frac{2}{5})^{k-1}\\frac{3}{5} \\ se \\ k=1,2,3,...\n",
        "          \\\\\n",
        "          0 \\ altrimenti\n",
        "        \\end{cases}\n",
        "\\end{equation}\n",
        "\n",
        "Infatti richiedere X = k vuol dire aver ottenuto k − 1 insuccessi nei primi k − 1 tenativi (ognuno con probabilità $\\frac{2}{5}$) per poi finalmente ottenere un successo al k-esimo tentativo (con probabilità $\\frac{3}{5}$)"
      ],
      "metadata": {
        "id": "DPSi8KkVKH60"
      }
    },
    {
      "cell_type": "code",
      "source": [
        "@interact_manual(bianche=(1,5), rosse=(1, 5))\n",
        "def es52(bianche=2, rosse=3):\n",
        "  palle = mk_urna(bianche, rosse)\n",
        "  results = []\n",
        "  count=0\n",
        "  while(len(results) < precisione):\n",
        "    done = len(results)\n",
        "    tmp = palle\n",
        "    while(len(results) == done):\n",
        "      extr = np.random.randint(0, (bianche+rosse))\n",
        "      if(tmp[extr]):\n",
        "        results.append(count)\n",
        "        count=0\n",
        "      else:  \n",
        "        count = count + 1\n",
        "  \n",
        "  #grafico risultati\n",
        "  labels = []\n",
        "  normalized = []\n",
        "  for i in range(len(set(results))): \n",
        "    normalized.append(round(((results.count(i) / precisione) * 100), 2))\n",
        "  for i in range(len(set(results))):\n",
        "    labels.append(str(i+1))\n",
        "  \n",
        "  #grafico teorico\n",
        "  teoria = []\n",
        "  for i in range(len(set(results))):\n",
        "    teoria.append(((bianche / (bianche + rosse))**(i)) * (rosse / (bianche + rosse)) * 100)\n",
        "\n",
        "  lab_arr = np.arange(len(labels))\n",
        "\n",
        "  w=0.4\n",
        "  plt.bar(lab_arr-(w/2), normalized, width=w)\n",
        "  plt.bar(lab_arr+(w/2), teoria, width=w)\n",
        "  plt.ylabel(\"Percentage\")\n",
        "  plt.xlabel(\"K\")\n",
        "  legenda = [\"Risultati ottenuti\", \"Risultati attesi\"]\n",
        "  plt.legend(legenda,loc='upper center', bbox_to_anchor=(0.5, -0.05), fancybox=True, shadow=True, ncol=5)"
      ],
      "metadata": {
        "colab": {
          "base_uri": "https://localhost:8080/",
          "height": 113,
          "referenced_widgets": [
            "d5e063fd0a8a4a3ca5ea624b59f16296",
            "8b9a00f498094e6e8f1e62c538397ce7",
            "4701ad5be1154cc99718c4a7ed350d3a",
            "e5ed9076bf394002855fdb29965a6e28",
            "a68f097c421441edb343b26ad96e2ff7",
            "3cf1d883cc62424eb69b086424511140",
            "92edd5f3750540e4a0218cf26043400d",
            "f9cfbc5d54494907859744c393f8837c",
            "d76e15bf55f145cf889861284d7ecf0a",
            "de7a35c53ce34ff9843138269fd5d964",
            "2f74881172a04d41afca58b7dbdf04c3",
            "e280734f98a849a2bb9ce0afbbe939ca",
            "cde867fde2564d088074f673cbb18d4a"
          ]
        },
        "id": "p-e8XTgnsSgC",
        "outputId": "034dea39-f9b0-4ee1-be0c-28b265ec47d0"
      },
      "execution_count": 223,
      "outputs": [
        {
          "output_type": "display_data",
          "data": {
            "application/vnd.jupyter.widget-view+json": {
              "model_id": "d5e063fd0a8a4a3ca5ea624b59f16296",
              "version_minor": 0,
              "version_major": 2
            },
            "text/plain": [
              "interactive(children=(IntSlider(value=2, description='bianche', max=5, min=1), IntSlider(value=3, description=…"
            ]
          },
          "metadata": {}
        }
      ]
    },
    {
      "cell_type": "markdown",
      "source": [
        "Quello appena visto è un esempio di _densità geometrica modificata_ che scriveremo come T ∼ Ḡ(_p_).\n",
        "\n",
        "Quando si parla di densità geometrica modificata? \n",
        "\n",
        "Si consideri uno schema successo-insuccesso con ripetizioni e prendiamo in esame la variabile T data dal tempo di primo successo. \n",
        "Se chiamiamo _Xi_ le variabili _B_(1, _p_) date da _Xi_ = 1 se l’i-esimo tentativo dà successo e _Xi_  = 0 altrimenti abbiamo come densità\n",
        "\n",
        "\\begin{equation}\n",
        "  px(k) =\n",
        "    \\begin{cases}\n",
        "          p(1-p)^{k-1} \\ se \\ k=1,2,3,...\n",
        "          \\\\\n",
        "          0 \\ altrimenti\n",
        "        \\end{cases}\n",
        "\\end{equation}"
      ],
      "metadata": {
        "id": "u9PHD5qa-xdK"
      }
    },
    {
      "cell_type": "markdown",
      "source": [
        "##Esempio 5.3\n",
        "\n",
        "Si lancino simultaneamente due dadi, uno rosso e uno blu. Ripetiamo questo\n",
        "esperimento finchè non otteniamo due 6. \n",
        "\n",
        "Poniamo X = primo lancio in cui il dado rosso ha dato 6,\n",
        "Y = primo lancio in cui il dado blu ha dato 6.\n",
        "\n",
        "\n",
        "Determinare inoltre la probabilità di ottenere 6 con il dado rosso prima di ottenere 6 con il dado blu.\n",
        "\n",
        "Abbiamo\n",
        "\n",
        "\\begin{equation}\n",
        "  1 = P(X < Y) + P(X > Y) + P(X = Y)\n",
        "\\end{equation}\n",
        "\n",
        "\\\\\n",
        "e chiaramente per simmetria del problema _P_(_X_ < _Y_) = _P_(_X_ > _Y_) da cui\n",
        "\n",
        "\\\\\n",
        "\n",
        "\\begin{equation}\n",
        "  P(X < Y)= \\frac {1-P(X = Y)}{2}\n",
        "\\end{equation}\n",
        "\n",
        "Ci basterà calcolare quindi _P_(_X_ =_Y_):\n",
        "\n",
        "\\\\\n",
        "\n",
        "\\begin{equation}\n",
        "  P(X = Y) = \\sum_{k=1}^\\infty P(X = Y = k) = \\sum_{k=1}^\\infty (\\frac{25}{36})^{k-1}·\\frac{1}{36} = \\frac{1}{1-\\frac{25}{36}}·\\frac{1}{36} = \\frac{1}{11}\n",
        "\\end{equation}\n",
        "\n",
        "\n",
        "dove abbiamo ancora utilizzato la somma di una serie geometrica, e quindi\n",
        "\n",
        "\\\\\n",
        "\n",
        "\\begin{equation}\n",
        "  P(X < Y) = \\frac{5}{11}\n",
        "\\end{equation}\n"
      ],
      "metadata": {
        "id": "yQRcoTTQmPxD"
      }
    },
    {
      "cell_type": "code",
      "source": [
        "def es53():\n",
        "  num = 6\n",
        "  results = []\n",
        "  for i in range(precisione):\n",
        "    a, b = 0, 0\n",
        "    while a != num and b != num:\n",
        "      a, b = trow(), trow() \n",
        "      if a == num:\n",
        "        if b == num:\n",
        "          results.append(0)\n",
        "        else:\n",
        "          results.append(1)\n",
        "      if b == num:\n",
        "        results.append(2)  \n",
        "  #grafico\n",
        "  labels = []\n",
        "  normalized = []\n",
        "  myexplode = [0, 0.2, 0]\n",
        "  for i in range(len(set(results)) - 1): #len(set(n)) torna il numero di risultati distinti presenti in results\n",
        "    normalized.append(round(((results.count(i) / precisione) * 100), 2)) #conto le istanze dei risultati e le normalizzo\n",
        "  normalized.append(round(100 - sum(normalized), 2)) #per evitare che per errori di arrotondamento la somma dei risultati sia 99.9%, l'ultimo risultato lo calcolo come 100 - (la somma dei precedenti)\n",
        "  for i in range(len(normalized)):\n",
        "    labels.append(str(normalized[i]) + \"%\") # aggiungo le labels (i valori riportati all'esterno del grafico)\n",
        "\n",
        "  teoria = [1/11, 5/11, 5/11]\n",
        "  lab_teoria = [\"9.09%\", \"45.45%\", \"45.45%\"]\n",
        "\n",
        "  f, (ax1, ax2) = plt.subplots(1, 2)\n",
        "  ax1.pie(normalized, labels=labels,explode=myexplode, colors=[\"green\", \"red\", \"blue\"], shadow=True)\n",
        "  ax1.set_title(\"Risultati ottenuti\")\n",
        "  ax2.pie(teoria, labels=lab_teoria,explode=myexplode, colors=[\"green\", \"red\", \"blue\"], shadow=True)\n",
        "  ax2.set_title(\"Risultati attesi\")\n",
        "  \n",
        "  legenda = [\"X=Y\", \"X<Y\", \"X>Y\"]\n",
        "  ax1.legend(legenda,loc='upper left', bbox_to_anchor=(0.5, -0.05), fancybox=True, shadow=True, ncol=5)\n",
        "\n",
        "es53()"
      ],
      "metadata": {
        "colab": {
          "base_uri": "https://localhost:8080/",
          "height": 230
        },
        "id": "6P-rc7pzfODB",
        "outputId": "a00b898f-9a0c-4ad5-cfcb-080d9fb9e1f8"
      },
      "execution_count": 224,
      "outputs": [
        {
          "output_type": "display_data",
          "data": {
            "image/png": "[encoded data removed]",
            "text/plain": [
              "<Figure size 432x288 with 2 Axes>"
            ]
          },
          "metadata": {}
        }
      ]
    },
    {
      "cell_type": "markdown",
      "source": [
        "#Densità di Poisson"
      ],
      "metadata": {
        "id": "hPfoVQ4tzLLR"
      }
    },
    {
      "cell_type": "markdown",
      "source": [
        "Se consideriamo una variabile binomiale _X_ ∼ _B_(_n_, _p_) in cui il numero _n_ di tentativi è molto grande e il parametro _p_ molto piccolo fare i conti con la densità binomiale risulta essere computazionalmente dispendioso. \n",
        "\n",
        "Facciamo un esempio:"
      ],
      "metadata": {
        "id": "7WQ9L3IXzNQo"
      }
    },
    {
      "cell_type": "markdown",
      "source": [
        "##Esempio 6.1\n",
        "\n",
        "Supponiamo che in una città nascano 10 000 bambini ogni anno e che ci\n",
        "sia una malattia rara che colpisce un bambino su 2 mila. Qual è la probabilità che quest’anno nascano più di 5 bambini affetti da questa malattia? \n",
        "\n",
        "La variabile _X_ = ”numero di bambini nati con questa malattia quest’anno” è una variabile binomiale _X_ = _B_($10^4$, $\\frac{1}{2000}$). Tuttavia se\n",
        "proviamo ad effettuare il calcolo _P_(_X_ > 5), anche se abbiamo una formula esatta per effettuarlo, è inevitabilmente molto complesso.\n"
      ],
      "metadata": {
        "id": "VD0JenT7zaOx"
      }
    },
    {
      "cell_type": "markdown",
      "source": [
        "Per risolvere questo tipo di problema introduciamo la seguente\n",
        "\n",
        "\\\\\n",
        "\\begin{equation}\n",
        "  p(k) =\n",
        "    \\begin{cases}\n",
        "          e^{-λ} \\frac{λ^k}{k!} \\ se \\ k=0,1,2,...\n",
        "          \\\\\n",
        "          0 \\ altrimenti\n",
        "        \\end{cases}\n",
        "\\end{equation}\n",
        "\n",
        "\\\\\n",
        "\n",
        "dove λ è un parametro reale strettamente positivo."
      ],
      "metadata": {
        "id": "-07DvPlK0SRP"
      }
    },
    {
      "cell_type": "markdown",
      "source": [
        "Nel nostro esempio possiamo pensare alla variabile _X_ come ad una variabile di Poisson di parametro 5. \n",
        "\n",
        "Otteniamo:\n",
        "\n",
        "\\begin{equation}\n",
        "  P(X > 5) = 1 − P(X = 0) − P(X = 1) − P(X = 2) − P(X = 3) − P(X = 4) \n",
        "  \\\\\n",
        "  = 1 − e^{−5}(1 + 5 + \\frac{25}{2} + \\frac{125}{6} + \\frac{625}{24} + \\frac{3125}{120}) = 0, 384.\n",
        "\\end{equation}"
      ],
      "metadata": {
        "id": "fHA5WLXr2VKr"
      }
    },
    {
      "cell_type": "markdown",
      "source": [
        "Nella simulazione riportata sono simulati 100 anni, ripetendo l'esperimento si aggiungono i risultati dei test successivi e si può osservare come il grafico dei risultati ottenuti si avvicini a quello dei risultati attesi."
      ],
      "metadata": {
        "id": "aQ3YUomoewtG"
      }
    },
    {
      "cell_type": "code",
      "source": [
        "res_poisson = []"
      ],
      "metadata": {
        "id": "niF9fNy-AGHk"
      },
      "execution_count": 225,
      "outputs": []
    },
    {
      "cell_type": "code",
      "source": [
        "def es61():\n",
        "  bambini = 10_000\n",
        "  malattia = 2_000\n",
        "  for i in range(100):\n",
        "    count = 0\n",
        "    for i in range(bambini):\n",
        "      if np.random.randint(malattia) == 1:\n",
        "        count = count + 1\n",
        "    res_poisson.append(count)\n",
        "\n",
        "  #grafico risultati\n",
        "  labels = []\n",
        "  set_res = list(set(res_poisson))\n",
        "  normalized = []\n",
        "  for i in set_res: \n",
        "    normalized.append(round(((res_poisson.count(i) / len(res_poisson)) * 100), 2))\n",
        "    labels.append(str(i+1)) \n",
        " \n",
        "  #grafico teorico\n",
        "  teoria = []\n",
        "  lam = bambini / malattia\n",
        "  for i in set_res:\n",
        "    teoria.append((math.e**-lam)*((lam**i)/math.factorial(i)) * 100)\n",
        "\n",
        "  lab_arr = np.arange(len(labels))\n",
        "\n",
        "  w=0.4\n",
        "  plt.bar(lab_arr-(w/2), normalized, width=w)\n",
        "  plt.bar(lab_arr+(w/2), teoria, width=w)\n",
        "\n",
        "  legenda = [\"Risultati ottenuti\", \"Risultati attesi\"]\n",
        "  plt.legend(legenda,loc='upper center', bbox_to_anchor=(0.5, -0.05), fancybox=True, shadow=True, ncol=5)\n",
        "  print(\"Anni simulati: \" + str(len(res_poisson)))"
      ],
      "metadata": {
        "id": "L8XSvxDZMGZe"
      },
      "execution_count": 226,
      "outputs": []
    },
    {
      "cell_type": "code",
      "source": [
        "poisson()"
      ],
      "metadata": {
        "id": "H4CjxxyZ7Rxc",
        "colab": {
          "base_uri": "https://localhost:8080/",
          "height": 299
        },
        "outputId": "efe33625-3bb4-4c97-a598-de7f2baba8a4"
      },
      "execution_count": 227,
      "outputs": [
        {
          "output_type": "stream",
          "name": "stdout",
          "text": [
            "Anni simulati: 100\n"
          ]
        },
        {
          "output_type": "display_data",
          "data": {
            "image/png": "[encoded data removed]",
            "text/plain": [
              "<Figure size 432x288 with 1 Axes>"
            ]
          },
          "metadata": {
            "needs_background": "light"
          }
        }
      ]
    },
    {
      "cell_type": "markdown",
      "source": [
        "#Densità continua uniforme"
      ],
      "metadata": {
        "id": "2HvnAmIq9-iV"
      }
    },
    {
      "cell_type": "markdown",
      "source": [
        "La variabile continua più semplice da studiare è quella che può assumere solo valori in un certo intervallo limitato e in modo ”uniforme”."
      ],
      "metadata": {
        "id": "q-CPgnYeAXnr"
      }
    },
    {
      "cell_type": "markdown",
      "source": [
        "## Esempio 7.1\n",
        "\n",
        "Un autobus passa da una fermata ogni 10 minuti. Noi arriviamo alla fermata in un momento casuale, chiamiamo T la variabile del tempo d'attesa che assume valori tra 0 e 10 minuti. Mediamente, quanto dovrò aspettare?\n",
        "\n",
        "Iniziamo prendendo l'autobus un po' di volte tenendo uno storico dei tempi di attesa:"
      ],
      "metadata": {
        "id": "AFabxKb1Ar4F"
      }
    },
    {
      "cell_type": "code",
      "source": [
        "uniforme = []\n",
        "tempo = 10\n",
        "for i in range(precisione):\n",
        "  uniforme.append(random.uniform(0, tempo))"
      ],
      "metadata": {
        "id": "A4ckSSdzDloY"
      },
      "execution_count": 228,
      "outputs": []
    },
    {
      "cell_type": "code",
      "source": [
        "#funzione che calcola il valore di x in ogni punto (densità continua uniforme)\n",
        "def densita(x, a, b):\n",
        "  res = []\n",
        "  for i in x:\n",
        "    if i < a:\n",
        "      res.append(0)\n",
        "    elif i > b:\n",
        "      res.append(0)\n",
        "    else:\n",
        "      res.append(1 / (b - a))\n",
        "  return res"
      ],
      "metadata": {
        "id": "G_5JWNvfHgIA"
      },
      "execution_count": 229,
      "outputs": []
    },
    {
      "cell_type": "markdown",
      "source": [
        "E mettiamo a grafico i risultati ottenuti"
      ],
      "metadata": {
        "id": "LfkzQQAmE_XV"
      }
    },
    {
      "cell_type": "code",
      "source": [
        "def es71():\n",
        "  points = (tempo + 2) * 10\n",
        "  \n",
        "  x = np.linspace(-1, tempo+1, points)\n",
        "\n",
        "  coord = []\n",
        "  for i in range(points):\n",
        "    count = 0\n",
        "    for item in uniforme:\n",
        "      if (item > -1 + (((tempo+2)/points)*i) and item <= -1 + (((tempo+2)/points)*(i+1))):\n",
        "        count = count + 1\n",
        "    coord.append((count / precisione) * (points / (tempo + 2)))\n",
        "  \n",
        "  p1 = plt.figure(1)\n",
        "  ax = plt.axes()\n",
        "  ax.plot(x, densita(x, 0, tempo))\n",
        "  ax.set_title(\"Risultati attesi\")\n",
        "  p1.show()\n",
        "  p2 = plt.figure(2)\n",
        "  ax = plt.axes()\n",
        "  ax.plot(x, coord)\n",
        "  ax.set_title(\"Risultati ottenuti\")\n",
        "  p2.show() \n",
        "  p3 = plt.figure(2)\n",
        "  sns.displot(uniforme, kind=\"ecdf\").set(title=\"Ripartizione\")\n",
        "  p3.show() \n",
        "es71()"
      ],
      "metadata": {
        "colab": {
          "base_uri": "https://localhost:8080/",
          "height": 909
        },
        "id": "E_CdpJ9ENKE3",
        "outputId": "74eed917-1233-4fb1-8a58-937d12fe0ac5"
      },
      "execution_count": 230,
      "outputs": [
        {
          "output_type": "display_data",
          "data": {
            "image/png": "[encoded data removed]",
            "text/plain": [
              "<Figure size 432x288 with 1 Axes>"
            ]
          },
          "metadata": {
            "needs_background": "light"
          }
        },
        {
          "output_type": "display_data",
          "data": {
            "image/png": "[encoded data removed]",
            "text/plain": [
              "<Figure size 432x288 with 1 Axes>"
            ]
          },
          "metadata": {
            "needs_background": "light"
          }
        },
        {
          "output_type": "display_data",
          "data": {
            "image/png": "[encoded data removed]",
            "text/plain": [
              "<Figure size 360x360 with 1 Axes>"
            ]
          },
          "metadata": {
            "needs_background": "light"
          }
        }
      ]
    },
    {
      "cell_type": "markdown",
      "source": [
        "Per quanto riguarda la soluzione il valore atteso invece ci basta sapere che il valore atteso di una variabile uniforme è il punto medio dell'intervallo: 5 minuti."
      ],
      "metadata": {
        "id": "CO8fDJK3MDBv"
      }
    },
    {
      "cell_type": "code",
      "source": [
        "@interact_manual(tempo=(1, 20))\n",
        "def es71(tempo = 10):\n",
        "  results = []\n",
        "  for i in range(precisione):\n",
        "    results.append(random.uniform(0, tempo))\n",
        "  return round(np.mean(results), 2)"
      ],
      "metadata": {
        "colab": {
          "base_uri": "https://localhost:8080/",
          "height": 81,
          "referenced_widgets": [
            "9d0be0790e7c4a2ca730d8bb9dd109dd",
            "8e9003118f5040a2be6460bd503f5bfe",
            "1b9d7548717b44a69b1635488c7b0c34",
            "2bec28ac9d024a7fa9c30b3ab23af7bd",
            "e5df5a6d3573427f897dc7092533cbfe",
            "93735a0c0ce84f32a511e0971500d4ac",
            "cc53b20c7191494a984514efbb6dd97d",
            "73f8ea44a048445bad5c43a6fc07a4b1",
            "eda39477336e4f299fb3b3bf971270fc",
            "5b7dfa204c62429b8d36f22ac4bdb8c7"
          ]
        },
        "id": "jG0a0YfTMiZi",
        "outputId": "27666c24-e3a9-4423-95c0-e528039e2f8f"
      },
      "execution_count": 231,
      "outputs": [
        {
          "output_type": "display_data",
          "data": {
            "application/vnd.jupyter.widget-view+json": {
              "model_id": "9d0be0790e7c4a2ca730d8bb9dd109dd",
              "version_minor": 0,
              "version_major": 2
            },
            "text/plain": [
              "interactive(children=(IntSlider(value=10, description='tempo', max=20, min=1), Button(description='Run Interac…"
            ]
          },
          "metadata": {}
        }
      ]
    },
    {
      "cell_type": "markdown",
      "source": [
        "##Esercizio 7.2"
      ],
      "metadata": {
        "id": "suJKbVomvlw2"
      }
    },
    {
      "cell_type": "markdown",
      "source": [
        "Continuiamo con l'esempio del bus ma questa volta ci interessa sapere la probabilità che arrivi in un certo intervallo di tempo"
      ],
      "metadata": {
        "id": "Fr271Olzv2DY"
      }
    },
    {
      "cell_type": "code",
      "source": [
        "@interact_manual(a=(0, 10), b=(0, 10))\n",
        "def es72(a = 4, b = 6):\n",
        "  if a > b:\n",
        "    return (\"Intervallo non valido\")\n",
        "\n",
        "  unif1 = [x for x in uniforme if x >= a and x <= b]\n",
        "  \n",
        "  points = (tempo + 2) * 10\n",
        "\n",
        "  x = np.linspace(-1, tempo+1, points)\n",
        "\n",
        "  coord = []\n",
        "  for i in range(points):\n",
        "    count = 0\n",
        "    for item in uniforme:\n",
        "      if (item > -1 + (((tempo+2)/points)*i) and item <= -1 + (((tempo+2)/points)*(i+1))):\n",
        "        count = count + 1\n",
        "    coord.append((count / precisione) * (points / (tempo + 2)))\n",
        "\n",
        "  coord2 = []\n",
        "  for i in range(points):\n",
        "    count = 0\n",
        "    for item in unif1:\n",
        "      if (item > -1 + (((tempo+2)/points)*i) and item <= -1 + (((tempo+2)/points)*(i+1))):\n",
        "        count = count + 1\n",
        "    coord2.append((count / precisione) * (points / (tempo + 2)))\n",
        "\n",
        "  plt.plot(x, coord)\n",
        "  plt.fill_betweenx(coord2, x, alpha=0.30)\n",
        "  \n",
        "  ris1 = round((b-a) / tempo, 3)\n",
        "  print(\"Risultati attesi: \" + str(ris1))\n",
        "  ris2 = round(len(unif1) / precisione, 3)\n",
        "  print(\"Risultati ottenuti: \" + str(ris2))"
      ],
      "metadata": {
        "id": "0Gfo7zOovTuG",
        "outputId": "41221034-3815-41cc-b190-1c282884cedc",
        "colab": {
          "base_uri": "https://localhost:8080/",
          "height": 113,
          "referenced_widgets": [
            "66de83a352a54cc0b2fcb8a2e7bf98a2",
            "d53fef826b8944a68488880f2dc44666",
            "ce160265aac148a3841a9943e6a3ca1c",
            "a765091632a045ec85683db6e0692e6c",
            "d59d05ecfc074e49bd54668fde928b8f",
            "7a696a312c8b42249b152c5d59a2e2f6",
            "9cab1a28dfd7494ba665f26785e8f7e8",
            "8e28499def844d6f998ab4f8d3c1d3a8",
            "f5f7b5f83bae4763b1936516c56e57f6",
            "d80fb5c699ee4b1697ee4d04794f3943",
            "5123c8a265df4c03aca43fdb5460b05a",
            "c58195d1bc7a4525b43825b05e87753a",
            "f3d5e416593d4d4281a6d4f88366766d"
          ]
        }
      },
      "execution_count": 232,
      "outputs": [
        {
          "output_type": "display_data",
          "data": {
            "application/vnd.jupyter.widget-view+json": {
              "model_id": "66de83a352a54cc0b2fcb8a2e7bf98a2",
              "version_minor": 0,
              "version_major": 2
            },
            "text/plain": [
              "interactive(children=(IntSlider(value=4, description='a', max=10), IntSlider(value=6, description='b', max=10)…"
            ]
          },
          "metadata": {}
        }
      ]
    },
    {
      "cell_type": "markdown",
      "source": [
        "#Densità continua esponenziale"
      ],
      "metadata": {
        "id": "KzWvYabHHMQp"
      }
    },
    {
      "cell_type": "markdown",
      "source": [
        "Fissiamo un parametro _λ_ e ricordiamo che una primitiva della funzione $e^{−λt}$ è data da -$\\frac{1}{λ}e^{−λt}$ da cui abbiamo che:\n",
        "\n",
        "\\begin{equation}\n",
        "  \\int_{0}^{+ \\infty} e^{-λt} \\,dt = \\frac{1}{λ} \n",
        "\\end{equation}\n",
        "\n",
        "Proposizione:\n",
        "\n",
        "\\begin{equation}\n",
        "  f(s) =\n",
        "    \\begin{cases}\n",
        "          λ e^{-λs} \\ se \\ s \\geq 0\n",
        "          \\\\\n",
        "          0 \\ altrimenti\n",
        "        \\end{cases}\n",
        "\\end{equation}\n",
        "\n",
        "dove _λ_ è un parametro positivo con densità continua astratta.\n",
        "\n",
        "Una variabile _X_ che ammette tale densità si dice esponenziale di parametro _λ_ e scriveremo _X_ ∼ Exp(_λ_). Lo stesso calcolo mostra che la funzione di ripartizione di una variabile _X_ ∼ Exp(_λ_) è data da\n",
        "\n",
        "\\begin{equation}\n",
        "  Fx(t) =\n",
        "    \\begin{cases}\n",
        "          1-e^{-λt} \\ se \\ t \\ge 0\n",
        "          \\\\\n",
        "          0 \\ \\ \\ \\ \\ \\ \\ \\ \\ \\ \\ \\ \\ se \\ t \\le 0\n",
        "        \\end{cases}\n",
        "\\end{equation}"
      ],
      "metadata": {
        "id": "kDn_33f8UA9S"
      }
    },
    {
      "cell_type": "markdown",
      "source": [
        "##Esempio 8.1\n",
        "\n",
        "Il decadimento di una particella radioattiva segue una legge esponenziale di parametro λ = 1 (in giorni).\n",
        "\n",
        "Qual è la probabilità che dopo 3 ore sia già decaduta?"
      ],
      "metadata": {
        "id": "vdltBTAzbjNQ"
      }
    },
    {
      "cell_type": "markdown",
      "source": [
        "Usando un cambio di variabile simuliamo un set di valori di una variabile esponenziale con parametro _λ_ = 1 "
      ],
      "metadata": {
        "id": "KXHsGg67--dB"
      }
    },
    {
      "cell_type": "code",
      "source": [
        "exp = []\n",
        "for i in range(precisione):\n",
        "  exp.append(-math.log(random.uniform(0, 1)))"
      ],
      "metadata": {
        "id": "GrAEx7n-2V-2"
      },
      "execution_count": 233,
      "outputs": []
    },
    {
      "cell_type": "markdown",
      "source": [
        "E ne grafichiamo la densità e la partizione "
      ],
      "metadata": {
        "id": "xP2yQ4p9ACry"
      }
    },
    {
      "cell_type": "code",
      "source": [
        "def exp_plot():\n",
        "  points = 130\n",
        "  space = 6\n",
        "\n",
        "  x = np.linspace(-1, space - 1, points)\n",
        "\n",
        "  coord = []\n",
        "  for i in range(points):\n",
        "    count = 0\n",
        "    for item in exp:\n",
        "      if (item > -1 + (((space)/points)*i) and item <= -1 + (((space)/points)*(i+1))):\n",
        "        count = count + 1\n",
        "    coord.append((count / precisione) * (points / (space)))\n",
        "  \n",
        "  sns.displot(exp, kind=\"ecdf\")\n",
        "  plt.plot(x, coord)\n",
        "  plt.xlim(-1, 4)\n",
        "  plt.title(\"Densità e ripartizione della variabile in esame\")\n",
        "\n",
        "  legenda = [\"Funzione di ripartizione\", \"Densità\"]\n",
        "  plt.legend(legenda,loc='upper center', bbox_to_anchor=(0.5, -0.05), fancybox=True, shadow=True, ncol=5)\n",
        "\n",
        "exp_plot()"
      ],
      "metadata": {
        "colab": {
          "base_uri": "https://localhost:8080/",
          "height": 403
        },
        "id": "o6Bmu5FDMOPV",
        "outputId": "70639eb0-d1ac-4be3-8d8a-4c4c7a827393"
      },
      "execution_count": 234,
      "outputs": [
        {
          "output_type": "display_data",
          "data": {
            "image/png": "[encoded data removed]",
            "text/plain": [
              "<Figure size 360x360 with 1 Axes>"
            ]
          },
          "metadata": {
            "needs_background": "light"
          }
        }
      ]
    },
    {
      "cell_type": "markdown",
      "source": [
        "Tornando alla domanda iniziale, contiamo quante volte abbiamo ottenuto un tempo minore di 3 ore e confrontiamolo coi risultati attesi dalla teoria."
      ],
      "metadata": {
        "id": "MrVxuxXhB-Dh"
      }
    },
    {
      "cell_type": "code",
      "source": [
        "@interact_manual(ore=(0, 72))\n",
        "def es81(ore = 3):\n",
        "  count = 0\n",
        "  for item in exp:\n",
        "    if (item * 24) <= ore:\n",
        "      count = count + 1\n",
        "  print(\"Risultati ottenuti: \" + str(round(count / precisione, 3)))\n",
        "  res = 1 - (math.e**(-1 * (ore / 24)))\n",
        "  print(\"Risultati attesi: \" + str(round(res, 3)))"
      ],
      "metadata": {
        "colab": {
          "base_uri": "https://localhost:8080/",
          "height": 81,
          "referenced_widgets": [
            "d80f062038d74e9cb2e4e4e2aa53fe35",
            "f798a8e6564f493590ae0af015fab3a6",
            "eacb9c04febe4496991b1312d11b53d4",
            "7dda3bc3efdd4613b9be1fa8e988b12a",
            "d7fc15f25d134b23ba6242d376b57f90",
            "82ab412793d646b795a4f6ab97e10198",
            "1c963b159a9b42c398a4cdb36b956f0c",
            "bbbf98603479499d8ce742707970515d",
            "2ceb3991de1d4a9584f90fc3ee278640",
            "cd06e721bf1b4f90ae09a7e93b72d441"
          ]
        },
        "id": "-nLD7XugV7iy",
        "outputId": "ebc80f20-8b38-4079-dc17-085c7408b470"
      },
      "execution_count": 235,
      "outputs": [
        {
          "output_type": "display_data",
          "data": {
            "application/vnd.jupyter.widget-view+json": {
              "model_id": "d80f062038d74e9cb2e4e4e2aa53fe35",
              "version_minor": 0,
              "version_major": 2
            },
            "text/plain": [
              "interactive(children=(IntSlider(value=3, description='ore', max=72), Button(description='Run Interact', style=…"
            ]
          },
          "metadata": {}
        }
      ]
    },
    {
      "cell_type": "markdown",
      "source": [
        "Fin'ora abbiamo visto variabili esponenziali aventi _λ_ = 1, il caso base. Vediamo ora lo stesso esempio ma questa volta il tempo di decadimento della particella è segue una legge esponenziale di parametro _λ_ ≠ 1.\n",
        "\n",
        "Iniziamo vedendone il grafico della densità:"
      ],
      "metadata": {
        "id": "z8484TUNFyqT"
      }
    },
    {
      "cell_type": "code",
      "source": [
        "@interact_manual(λ=(2, 10))\n",
        "def exp_test(λ=2):\n",
        "  lamb = λ\n",
        "\n",
        "  test = []\n",
        "  for i in range(precisione):\n",
        "    test.append((-1/(lamb))*math.log(random.uniform(0, 1)))\n",
        "\n",
        "  b = max(test)/3\n",
        "  a = -b/10\n",
        "  points = 100\n",
        "  x = np.linspace(a, b, points)\n",
        "\n",
        "  coord = []\n",
        "  for i in range(points):\n",
        "    count = 0\n",
        "    for item in test:\n",
        "      if (item > a + (((abs(a) + b)/points)*i)) and (item <= a + (((abs(a) + b)/points)*(i+1))):\n",
        "        count = count + 1\n",
        "    coord.append((count / precisione) * (points / (abs(a) + b)))\n",
        "\n",
        "  plt.plot(x, coord)"
      ],
      "metadata": {
        "colab": {
          "base_uri": "https://localhost:8080/",
          "height": 81,
          "referenced_widgets": [
            "86eedd4842bc4c9fb7a2e5986d0b5a48",
            "955eb0b921af48028ed4390cff9ddc27",
            "a04a8b2cedf74283871bd1a907bb10cc",
            "5437a3d504b749db9ea0cc17630ae730",
            "25b84e65851a46d1b0c2cf9a0042863e",
            "d0066a8604ab41099f5a3ae752fa56d8",
            "76a129a2d5b94aa89fac9ae575caf7c3",
            "ca663603818f4b758835a0f06ab223a8",
            "b3330d5a27934985b3a40dcc401dc51a",
            "25ec1b84c58949fa9bb10893b179ade8"
          ]
        },
        "id": "irnlB3MXGPPl",
        "outputId": "61fe2c50-45ee-46b9-8599-755796aaaf8a"
      },
      "execution_count": 236,
      "outputs": [
        {
          "output_type": "display_data",
          "data": {
            "application/vnd.jupyter.widget-view+json": {
              "model_id": "86eedd4842bc4c9fb7a2e5986d0b5a48",
              "version_minor": 0,
              "version_major": 2
            },
            "text/plain": [
              "interactive(children=(IntSlider(value=2, description='λ', max=10, min=2), Button(description='Run Interact', s…"
            ]
          },
          "metadata": {}
        }
      ]
    },
    {
      "cell_type": "markdown",
      "source": [
        "E confrontiamo i risultati che abbiamo ottenuto con quelli attesi dalla teoria:"
      ],
      "metadata": {
        "id": "ySU20jIY7tkY"
      }
    },
    {
      "cell_type": "code",
      "source": [
        "@interact_manual(ore=(0, 72), λ=(2, 10))\n",
        "def exp_particella(ore = 10, λ = 2):\n",
        "  test = []\n",
        "  for i in range(precisione):\n",
        "    test.append((-1/λ)*math.log(random.uniform(0, 1)))\n",
        "  count = 0\n",
        "  for item in test:\n",
        "    if (item * 24) <= ore:\n",
        "      count = count + 1\n",
        "  print(\"Risultati ottenuti: \" + str(round(count / precisione, 3)))\n",
        "  res = 1 - (math.e**(-(λ * (ore / 24))))\n",
        "  print(\"Risultati attesi: \" + str(round(res, 3)))"
      ],
      "metadata": {
        "colab": {
          "base_uri": "https://localhost:8080/",
          "height": 52,
          "referenced_widgets": [
            "78b34d84340b4204968088f4817f47b1",
            "3e2fbb56544641b9b5a990cb53efad3e",
            "34edd0c1f8a64c25b12debaa088de958",
            "f60621e47b734727b905463606c19533",
            "46b321f0d7fb47a39874d8f61dbae5ea",
            "1920a34b284148aba1a5b62cbc1ff674",
            "39e1dbeafbae431aab360347a97d6d46",
            "f2fee4f6609142ddb664ec97218734e4",
            "08ca73a1af574163b043bd5990ffb195",
            "f05db182807548e1a1752173b677e762",
            "efaba3bfa66d4d6886f9ed2c81789a6a",
            "d16bb6d17c4e47e68563dcba64d3078c",
            "8d41b25aec2b4f9d81a271a396572d2a"
          ]
        },
        "id": "lew-nKK9KlQ0",
        "outputId": "10870623-95f6-4425-efc4-863cad864cbb"
      },
      "execution_count": 237,
      "outputs": [
        {
          "output_type": "stream",
          "name": "stdout",
          "text": [
            "Risultati ottenuti: 0.566\n",
            "Risultati attesi: 0.565\n"
          ]
        }
      ]
    },
    {
      "cell_type": "markdown",
      "source": [
        "## Esercizio 8.2"
      ],
      "metadata": {
        "id": "QdEbzDc5JVI8"
      }
    },
    {
      "cell_type": "markdown",
      "source": [
        "Continuiamo con l'esempio della particella ma questa volta ci interessa sapere la probabilità decada in un certo intervallo di tempo"
      ],
      "metadata": {
        "id": "sxmUgXSeJcYJ"
      }
    },
    {
      "cell_type": "code",
      "source": [
        "@interact_manual(t1=(0, 96), t2=(0, 96))\n",
        "def es82(t1=3, t2=10):\n",
        "  if t1 > t2:\n",
        "    return (\"Intervallo non valido\")\n",
        "  \n",
        "  points = 325\n",
        "  tempo = 4.5\n",
        "  a = -0.5\n",
        "\n",
        "  x = np.linspace(a, tempo + a, points)\n",
        "  \n",
        "  exp1 = []\n",
        "  for i in range(precisione):\n",
        "    exp1.append(-math.log(random.uniform(0, 1)))\n",
        "\n",
        "  exp2 = [x for x in exp1 if x >= t1/24 and x <= t2/24]\n",
        "\n",
        "  coord = [0]\n",
        "  for i in range(points-1):\n",
        "    count = 0\n",
        "    for item in exp1:\n",
        "      if (item > a + (((tempo)/(points-1))*i) and item <= a + (((tempo)/(points-1))*(i+1))):\n",
        "        count = count + 1\n",
        "    coord.append((count / precisione) * ((points-1) / (tempo)))\n",
        "  \n",
        "  y = np.minimum(bounds(x, t1/24, t2/24), coord)\n",
        "  \n",
        "  ris1 = round((1 - (math.e**(-(t2 / 24)))) - (1 - (math.e**(-(t1 / 24)))), 3)\n",
        "  print(\"Risultati attesi: \" + str(ris1))\n",
        "  ris2 = round(len(exp2) / precisione, 3)\n",
        "  print(\"Risultati ottenuti: \" + str(ris2))\n",
        "\n",
        "  plt.plot(x, coord)\n",
        "  plt.fill_between(x, y, alpha=0.30)"
      ],
      "metadata": {
        "colab": {
          "base_uri": "https://localhost:8080/",
          "height": 396,
          "referenced_widgets": [
            "2e847b4cd3134920b2fcc67088bca2e2",
            "ab1d70f3fc514623b55a34af60e37d5f",
            "5e53c104a91548c087782de6db4a27cf",
            "0ddec0746de64199b4774775818b7fc4",
            "8b26b21788004b0eac896c0d838a853d",
            "efa8c00cce044af48388d7e76cb22eec",
            "0388b994a546410ba234827049ec9ac1",
            "40ef736cad934f0ab31a3249731163a2",
            "9a3b7cf8ee594b8aa34629942a877db7",
            "8dfea3de15f3480baff7000fae026633",
            "4991c2f54cd94d34807ac761e609d290",
            "d03c7e0e1773469f9c89a4efedfc745f",
            "d523a0d398cf4bc6a73d2bd2f4a2cc25"
          ]
        },
        "id": "9jzvi4tr12nU",
        "outputId": "fc05dec8-b42d-4962-bab1-f5353ed00264"
      },
      "execution_count": 260,
      "outputs": [
        {
          "output_type": "display_data",
          "data": {
            "application/vnd.jupyter.widget-view+json": {
              "model_id": "2e847b4cd3134920b2fcc67088bca2e2",
              "version_minor": 0,
              "version_major": 2
            },
            "text/plain": [
              "interactive(children=(IntSlider(value=3, description='t1', max=96), IntSlider(value=10, description='t2', max=…"
            ]
          },
          "metadata": {}
        }
      ]
    },
    {
      "cell_type": "markdown",
      "source": [
        "#Densità continua normale"
      ],
      "metadata": {
        "id": "YEVrCLb-MTAW"
      }
    },
    {
      "cell_type": "markdown",
      "source": [
        "Passiamo ora a considerare quelle che sono probabilmente le variabili aleatorie continue più rilevanti.\n",
        "Si può dimostrare (e Gauss lo ha fatto per primo) che\n",
        "\n",
        "\\begin{equation}\n",
        "  \\int_{- \\infty}^{+ \\infty} e^{-{\\frac{x^2}{2}}} \\,dx = \\sqrt{2 \\pi} \n",
        "\\end{equation}\n",
        "\n",
        "Ne segue che la funzione\n",
        "\n",
        "\\begin{equation}\n",
        "  f(s)= \\frac{1}{\\sqrt{2 \\pi}}e^{-{\\frac{x^2}{2}}}\n",
        "\\end{equation}\n",
        "\n",
        "è una densità. Questa densità viene detta normale standard o gaussiana standard e se una variabile _X_ che ammette questa densità scriveremo\n",
        "\n",
        "\\begin{equation} \n",
        "  X ∼ N(0, 1)\n",
        "\\end{equation}"
      ],
      "metadata": {
        "id": "VLVgu8loMhhb"
      }
    },
    {
      "cell_type": "markdown",
      "source": [
        "Il primo parametro è la media, ovvero il valore medio della distribuzione. Il secondo è la deviazione standard.\n",
        "\n",
        "Di seguito vediamo i grafici della funzione di ripartizione e della densità di una normale al variare di media e deviazione standard:"
      ],
      "metadata": {
        "id": "G54eY3HAS3AM"
      }
    },
    {
      "cell_type": "code",
      "source": [
        "@interact(mean=(-5, 5), std_dev=(1, 5))\n",
        "def std_norm(mean = 0, std_dev = 1):\n",
        "  a = -10\n",
        "  x = np.linspace(a, abs(a), 100)\n",
        "  dnd = []\n",
        "  for i in x:\n",
        "    dnd.append(scipy.stats.norm(mean, std_dev).pdf(i))\n",
        "  plt.plot(x, dnd)\n",
        "  legenda = [\"Densità\"]\n",
        "  plt.legend(legenda,loc='upper center', bbox_to_anchor=(0.5, -0.05), fancybox=True, shadow=True, ncol=5)"
      ],
      "metadata": {
        "id": "9eK-dNsZTJ3L",
        "colab": {
          "base_uri": "https://localhost:8080/",
          "height": 346,
          "referenced_widgets": [
            "a1ded04ca37249e98193da7f98421a56",
            "17aaa404e0e6412cb2fdb88105cebc01",
            "9601a0171d9a4f34b9f8277f326ae078",
            "9afe0720294147c1b47d9abedcfe63c9",
            "79238a36465b4c81bd287e7f9a727b14",
            "9d3f28565c1c4571af008ee156ad9a2c",
            "d31440de02b04bbba5f83495edd8aac0",
            "6359c8a708254c3ab24fbabfddb2922a",
            "10c5d86bcd32445f8ab1d6c06d364946",
            "3114bccd89eb42719fbca0db8c4c1d98"
          ]
        },
        "outputId": "6327dd37-78bd-484d-92c6-1fa3e3a26dee"
      },
      "execution_count": 239,
      "outputs": [
        {
          "output_type": "display_data",
          "data": {
            "application/vnd.jupyter.widget-view+json": {
              "model_id": "a1ded04ca37249e98193da7f98421a56",
              "version_minor": 0,
              "version_major": 2
            },
            "text/plain": [
              "interactive(children=(IntSlider(value=0, description='mean', max=5, min=-5), IntSlider(value=1, description='s…"
            ]
          },
          "metadata": {}
        }
      ]
    },
    {
      "cell_type": "code",
      "source": [
        "@interact(mean=(-5, 5), std_dev=(1, 5))\n",
        "def std_norm(mean = 0, std_dev = 1):\n",
        "  a = -10\n",
        "  x = np.linspace(a, abs(a), 100)\n",
        "  pnd = []\n",
        "  for i in x:\n",
        "    pnd.append(scipy.stats.norm(mean, std_dev).cdf(i))\n",
        "  plt.plot(x, pnd)\n",
        "  legenda = [\"Funzione di ripartizione\"]\n",
        "  plt.legend(legenda,loc='upper center', bbox_to_anchor=(0.5, -0.05), fancybox=True, shadow=True, ncol=5)"
      ],
      "metadata": {
        "colab": {
          "base_uri": "https://localhost:8080/",
          "height": 346,
          "referenced_widgets": [
            "2a2add971c064652b2be8a93db37b024",
            "ee1d4c51e1fe42a2bcfbbab8d7b75121",
            "e85deb8607a744ffae29d01feeb9d888",
            "67b101eb7cab4f49a43d61fe0bca9a29",
            "855606f5856b480e8d12e8b79d7bb80b",
            "73f8f862b5d8404ea312c565e3d65d04",
            "f84f6192f93445d7852e31b8842cb94f",
            "a770d96421124b6f84f52b6e2d383a39",
            "0e21aa50fe244a5ca64db3f522f76316",
            "7b7e37955b4c4f818f06490d19bf4cb2"
          ]
        },
        "id": "vZtFsBexR7UQ",
        "outputId": "2afb54a0-68ba-4244-b866-ef81565534b9"
      },
      "execution_count": 240,
      "outputs": [
        {
          "output_type": "display_data",
          "data": {
            "application/vnd.jupyter.widget-view+json": {
              "model_id": "2a2add971c064652b2be8a93db37b024",
              "version_minor": 0,
              "version_major": 2
            },
            "text/plain": [
              "interactive(children=(IntSlider(value=0, description='mean', max=5, min=-5), IntSlider(value=1, description='s…"
            ]
          },
          "metadata": {}
        }
      ]
    },
    {
      "cell_type": "markdown",
      "source": [
        "## Esempio 9.1"
      ],
      "metadata": {
        "id": "0WalWbwgLNDx"
      }
    },
    {
      "cell_type": "markdown",
      "source": [
        "Sia _X_ una variabile continua normale standard, determinare la probabilità che _X_ assuma un valore minore di 1."
      ],
      "metadata": {
        "id": "NLO8PiezLS_N"
      }
    },
    {
      "cell_type": "code",
      "source": [
        "def bounds(x, a, b):\n",
        "  res = []\n",
        "  for i in x:\n",
        "    if i < a:\n",
        "      res.append(0)\n",
        "    elif i > b:\n",
        "      res.append(0)\n",
        "    else:\n",
        "      res.append(1)\n",
        "  return res"
      ],
      "metadata": {
        "id": "Iiln3yhVXChT"
      },
      "execution_count": 271,
      "outputs": []
    },
    {
      "cell_type": "code",
      "source": [
        "@interact_manual(valore=(-4, 4, 0.1))\n",
        "def es91(valore = 1):\n",
        "  a = -4\n",
        "  points = 401\n",
        "\n",
        "  x = np.linspace(a, abs(a), points)\n",
        "\n",
        "  nd1 = []\n",
        "  for i in range(precisione):\n",
        "    nd1.append(np.random.normal(0, 1))\n",
        "\n",
        "  nd2 = [x for x in nd1 if x <= valore]\n",
        "\n",
        "  coord = [0]\n",
        "  for i in range(points - 1):\n",
        "    count = 0\n",
        "    for item in nd1:\n",
        "      if (item > a + (((-2*a)/points)*i)) and (item <= a + (((-2*a)/points)*(i+1))):\n",
        "        count = count + 1\n",
        "    coord.append((count / precisione) * (points / (-2*a)))\n",
        "  \n",
        "  y = np.minimum(bounds(x, -5, valore), coord)\n",
        "\n",
        "  ris1 = round(scipy.stats.norm(0, 1).cdf(valore), 3)\n",
        "  print(\"Risultati attesi: \" + str(ris1))\n",
        "  ris2 = round(len(nd2) / precisione, 3)\n",
        "  print(\"Risultati ottenuti: \" + str(ris2))\n",
        "\n",
        "  plt.fill_between(x, y, alpha=0.30)\n",
        "  plt.plot(x, coord)"
      ],
      "metadata": {
        "id": "0YLBeVSIL9qG",
        "outputId": "49cffa07-532b-486c-8e51-9273b5206de2",
        "colab": {
          "base_uri": "https://localhost:8080/",
          "height": 364,
          "referenced_widgets": [
            "537e798185344c6186f29f160a988f9e",
            "ac61eb2720d94af5998767d83eed8072",
            "99cddea6eaaf4fb5b1d58b80d1f01c75",
            "b11052f5b88845aaab11c913f652c2a1",
            "bb7153943308417899d168d877417d3a",
            "a9ed79db917b4aa3abc405e9146fdb2f",
            "4c0f71e0335a4fe3942a88cd4ba77a5c",
            "e9d0c3527fb5456ea487ca57b333a053",
            "ad8d58898ac9496eb321a9ec6c31f2d9",
            "1a47d1f629af48f4ae0245bba56bbdab"
          ]
        }
      },
      "execution_count": 272,
      "outputs": [
        {
          "output_type": "display_data",
          "data": {
            "application/vnd.jupyter.widget-view+json": {
              "model_id": "537e798185344c6186f29f160a988f9e",
              "version_minor": 0,
              "version_major": 2
            },
            "text/plain": [
              "interactive(children=(FloatSlider(value=1.0, description='valore', max=4.0, min=-4.0), Button(description='Run…"
            ]
          },
          "metadata": {}
        }
      ]
    },
    {
      "cell_type": "markdown",
      "source": [
        "## Esempio 9.2"
      ],
      "metadata": {
        "id": "twGutUTVPnRX"
      }
    },
    {
      "cell_type": "markdown",
      "source": [
        "Uno studio su 100 000 diciottenni (reclutati dalle scuole e dal Maternal and Child Health Centres ad Hong Kong) ha mostrato che l'altezza di un'adulto ha una densità normale _N_ (172, 5).\n",
        "\n",
        " Una divisa per reclute è disponibile in 4 taglie:\n",
        " \n",
        "Taglia   | Altezza \n",
        "---------|------------------\n",
        "S        | h < 164\n",
        "M        | 164 < h < 172\n",
        "L        | 172 < h < 180\n",
        "XL       | h > 180\n",
        "\n",
        "Dovendo vestire 500 nuove reclute quante divise di ogni taglia comprereste?"
      ],
      "metadata": {
        "id": "edGsbSkpyUup"
      }
    },
    {
      "cell_type": "markdown",
      "source": [
        "Per validare i risultati che calcolati con le formule, li confronteremo con le altezze di 20 000 adulti che hanno partecipato all'esperimento ma le cui altezze non sono state usate per per definire la distribuzione, ma lasciate per validarla."
      ],
      "metadata": {
        "id": "V-0c_kiN1WlJ"
      }
    },
    {
      "cell_type": "code",
      "source": [
        "data_url = \"https://raw.githubusercontent.com/MontiMic/Tesi/riordinato/train.csv\" #importo il dataset\n",
        "data = pd.read_csv(data_url, sep=',', dtype={})\n",
        "lab = [\"id\", \"height\", \"weight\"]\n",
        "data.columns = [i for i in lab]\n",
        "data = data.drop(['id', 'weight'], axis=1) #scarto i dati riguardanti l'id ed il peso dei soggetti, non ci servono\n",
        "height = []\n",
        "for i in data[\"height\"]: #converto le altezze da pollici in centimetri\n",
        "  height.append(i*2.54)"
      ],
      "metadata": {
        "id": "wEK2CHWylV7L"
      },
      "execution_count": 241,
      "outputs": []
    },
    {
      "cell_type": "code",
      "source": [
        "x = np.linspace(151, 190, 40)\n",
        "coord = []\n",
        "for i in range(40):\n",
        "  count = 0\n",
        "  for item in height:\n",
        "    if (item > (151 + i) and item <= (151 + i + 1)):\n",
        "      count = count + 1\n",
        "  coord.append(count / len(height))\n",
        "dnd = []\n",
        "for i in x:\n",
        "  dnd.append(scipy.stats.norm(172, 5).pdf(i))\n",
        "plt.plot(x, dnd)\n",
        "plt.plot(x, coord)\n",
        "legenda = [\"Distribuzione teorica\", \"Distribuzione del campione\"]\n",
        "plt.legend(legenda,loc='upper center', bbox_to_anchor=(0.5, -0.05), fancybox=True, shadow=True, ncol=5)\n",
        "plt.show()"
      ],
      "metadata": {
        "colab": {
          "base_uri": "https://localhost:8080/",
          "height": 282
        },
        "id": "1j7e4b-jbImS",
        "outputId": "2e2e2175-d6c6-4ccf-a058-d3fe3d37c10c"
      },
      "execution_count": 242,
      "outputs": [
        {
          "output_type": "display_data",
          "data": {
            "image/png": "[encoded data removed]",
            "text/plain": [
              "<Figure size 432x288 with 1 Axes>"
            ]
          },
          "metadata": {
            "needs_background": "light"
          }
        }
      ]
    },
    {
      "cell_type": "code",
      "source": [
        "@interact_manual(taglia=[\"S\", \"M\", \"L\", \"XL\"])\n",
        "def es92(taglia = \"L\"):\n",
        "  a, b = 0, 0\n",
        "  #purtroppo questa versione di python non supporta gli switch case (nè il match case)\n",
        "  if taglia == \"S\":\n",
        "    a, b = 150, 164\n",
        "  elif taglia == \"M\":\n",
        "    a, b = 164, 172\n",
        "  elif taglia == \"L\":\n",
        "    a, b = 172, 180 \n",
        "  elif taglia == \"XL\":\n",
        "    a, b = 180, 191\n",
        "  \n",
        "  cm = 500\n",
        "  x = np.linspace(151, 200, cm)\n",
        "  \n",
        "  nd1 = []\n",
        "  for i in range(cm):\n",
        "    count = 0\n",
        "    for item in height:\n",
        "      if (item > (151 + i/10) and item <= (151 + i/10 + 1)):\n",
        "        count = count + 1\n",
        "    nd1.append(count / len(height))\n",
        "\n",
        "  nd2 = [x for x in height if x > a and x <= b]\n",
        "  \n",
        "  ris1 = round(scipy.stats.norm(172, 5).cdf(b) - scipy.stats.norm(172, 5).cdf(a), 3)\n",
        "  print(\"Risultati attesi: \" + str(ris1))\n",
        "  ris2 = round(len(nd2) / len(height), 3)\n",
        "  print(\"Risultati ottenuti: \" + str(ris2))\n",
        "\n",
        "  y = np.minimum(bounds(x, a, b), nd1)\n",
        "\n",
        "  plt.plot(x, nd1)\n",
        "  plt.fill_between(x, y, alpha=0.30)\n",
        "  plt.xlim(150, 200)"
      ],
      "metadata": {
        "colab": {
          "base_uri": "https://localhost:8080/",
          "height": 81,
          "referenced_widgets": [
            "dd9c1f029caf4d30bd6a2a0a705bf344",
            "a27e343d5a194886a9315a3c577c9f82",
            "0aab0400f20e4b1e93da7bba9d751155",
            "8c28130af8a544aeb9488dd26a3979f1",
            "adbab1238ad34a69b64b0b97b8191ecf",
            "bec6218561874910bb31c9da4d641741",
            "8899fee09e1a4514bc51960ef76e6f64",
            "945a04d933c242dcaa39c811ae2b5ab2",
            "3fd1cbc5d2754ad88abec6dad86df7a0",
            "69c42a5f11484db6bfd13868f7fa2bd8"
          ]
        },
        "id": "j13iOPty-8h8",
        "outputId": "b0efd6f8-aef7-46f6-81e2-9ac8c0b140e5"
      },
      "execution_count": 244,
      "outputs": [
        {
          "output_type": "display_data",
          "data": {
            "application/vnd.jupyter.widget-view+json": {
              "model_id": "dd9c1f029caf4d30bd6a2a0a705bf344",
              "version_minor": 0,
              "version_major": 2
            },
            "text/plain": [
              "interactive(children=(Dropdown(description='taglia', index=2, options=('S', 'M', 'L', 'XL'), value='L'), Butto…"
            ]
          },
          "metadata": {}
        }
      ]
    },
    {
      "cell_type": "code",
      "source": [
        ""
      ],
      "metadata": {
        "id": "EpWJQo1sYtBM"
      },
      "execution_count": 244,
      "outputs": []
    }
  ]
}