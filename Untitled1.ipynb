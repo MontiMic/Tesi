{
  "nbformat": 4,
  "nbformat_minor": 0,
  "metadata": {
    "colab": {
      "name": "Untitled1.ipynb",
      "provenance": [],
      "toc_visible": true,
      "collapsed_sections": [],
      "authorship_tag": "ABX9TyN9IEjX1pOVg2Zmv+TT8rIa",
      "include_colab_link": true
    },
    "kernelspec": {
      "name": "python3",
      "display_name": "Python 3"
    },
    "language_info": {
      "name": "python"
    },
    "widgets": {
      "application/vnd.jupyter.widget-state+json": {
        "a46984ae687b483387bf464b05dfc888": {
          "model_module": "@jupyter-widgets/controls",
          "model_name": "VBoxModel",
          "model_module_version": "1.5.0",
          "state": {
            "_view_name": "VBoxView",
            "_dom_classes": [
              "widget-interact"
            ],
            "_model_name": "VBoxModel",
            "_view_module": "@jupyter-widgets/controls",
            "_model_module_version": "1.5.0",
            "_view_count": null,
            "_view_module_version": "1.5.0",
            "box_style": "",
            "layout": "IPY_MODEL_b3a8e3aba57243e8ac7e9ac7ae76be54",
            "_model_module": "@jupyter-widgets/controls",
            "children": [
              "IPY_MODEL_52f6e43ad5f245f287a666df53e8e26f",
              "IPY_MODEL_422997252168401bbbcdfba1f861d217",
              "IPY_MODEL_02d866f438be4b00938c7a283dbdf359"
            ]
          }
        },
        "b3a8e3aba57243e8ac7e9ac7ae76be54": {
          "model_module": "@jupyter-widgets/base",
          "model_name": "LayoutModel",
          "model_module_version": "1.2.0",
          "state": {
            "_view_name": "LayoutView",
            "grid_template_rows": null,
            "right": null,
            "justify_content": null,
            "_view_module": "@jupyter-widgets/base",
            "overflow": null,
            "_model_module_version": "1.2.0",
            "_view_count": null,
            "flex_flow": null,
            "width": null,
            "min_width": null,
            "border": null,
            "align_items": null,
            "bottom": null,
            "_model_module": "@jupyter-widgets/base",
            "top": null,
            "grid_column": null,
            "overflow_y": null,
            "overflow_x": null,
            "grid_auto_flow": null,
            "grid_area": null,
            "grid_template_columns": null,
            "flex": null,
            "_model_name": "LayoutModel",
            "justify_items": null,
            "grid_row": null,
            "max_height": null,
            "align_content": null,
            "visibility": null,
            "align_self": null,
            "height": null,
            "min_height": null,
            "padding": null,
            "grid_auto_rows": null,
            "grid_gap": null,
            "max_width": null,
            "order": null,
            "_view_module_version": "1.2.0",
            "grid_template_areas": null,
            "object_position": null,
            "object_fit": null,
            "grid_auto_columns": null,
            "margin": null,
            "display": null,
            "left": null
          }
        },
        "52f6e43ad5f245f287a666df53e8e26f": {
          "model_module": "@jupyter-widgets/controls",
          "model_name": "IntSliderModel",
          "model_module_version": "1.5.0",
          "state": {
            "_view_name": "IntSliderView",
            "style": "IPY_MODEL_e46bf8a2a19b47d6b2434217f1d77762",
            "_dom_classes": [],
            "description": "vincita",
            "step": 1,
            "_model_name": "IntSliderModel",
            "orientation": "horizontal",
            "max": 30,
            "_view_module": "@jupyter-widgets/controls",
            "_model_module_version": "1.5.0",
            "value": 5,
            "_view_count": null,
            "disabled": false,
            "_view_module_version": "1.5.0",
            "min": 0,
            "continuous_update": true,
            "readout_format": "d",
            "description_tooltip": null,
            "readout": true,
            "_model_module": "@jupyter-widgets/controls",
            "layout": "IPY_MODEL_8f6ba593cf3f47d3bf5c157dbc1221af"
          }
        },
        "422997252168401bbbcdfba1f861d217": {
          "model_module": "@jupyter-widgets/controls",
          "model_name": "ButtonModel",
          "model_module_version": "1.5.0",
          "state": {
            "_view_name": "ButtonView",
            "style": "IPY_MODEL_c28b2159afb4435baa164457aa736e3f",
            "_dom_classes": [],
            "description": "Run Interact",
            "_model_name": "ButtonModel",
            "button_style": "",
            "_view_module": "@jupyter-widgets/controls",
            "_model_module_version": "1.5.0",
            "tooltip": "",
            "_view_count": null,
            "disabled": false,
            "_view_module_version": "1.5.0",
            "layout": "IPY_MODEL_98a67ecbad1443f4a37bd31a6ac35e72",
            "_model_module": "@jupyter-widgets/controls",
            "icon": ""
          }
        },
        "02d866f438be4b00938c7a283dbdf359": {
          "model_module": "@jupyter-widgets/output",
          "model_name": "OutputModel",
          "model_module_version": "1.0.0",
          "state": {
            "_view_name": "OutputView",
            "msg_id": "",
            "_dom_classes": [],
            "_model_name": "OutputModel",
            "outputs": [],
            "_view_module": "@jupyter-widgets/output",
            "_model_module_version": "1.0.0",
            "_view_count": null,
            "_view_module_version": "1.0.0",
            "layout": "IPY_MODEL_f9891dfafc7f42b1bca686155903281e",
            "_model_module": "@jupyter-widgets/output"
          }
        },
        "e46bf8a2a19b47d6b2434217f1d77762": {
          "model_module": "@jupyter-widgets/controls",
          "model_name": "SliderStyleModel",
          "model_module_version": "1.5.0",
          "state": {
            "_view_name": "StyleView",
            "handle_color": null,
            "_model_name": "SliderStyleModel",
            "description_width": "",
            "_view_module": "@jupyter-widgets/base",
            "_model_module_version": "1.5.0",
            "_view_count": null,
            "_view_module_version": "1.2.0",
            "_model_module": "@jupyter-widgets/controls"
          }
        },
        "8f6ba593cf3f47d3bf5c157dbc1221af": {
          "model_module": "@jupyter-widgets/base",
          "model_name": "LayoutModel",
          "model_module_version": "1.2.0",
          "state": {
            "_view_name": "LayoutView",
            "grid_template_rows": null,
            "right": null,
            "justify_content": null,
            "_view_module": "@jupyter-widgets/base",
            "overflow": null,
            "_model_module_version": "1.2.0",
            "_view_count": null,
            "flex_flow": null,
            "width": null,
            "min_width": null,
            "border": null,
            "align_items": null,
            "bottom": null,
            "_model_module": "@jupyter-widgets/base",
            "top": null,
            "grid_column": null,
            "overflow_y": null,
            "overflow_x": null,
            "grid_auto_flow": null,
            "grid_area": null,
            "grid_template_columns": null,
            "flex": null,
            "_model_name": "LayoutModel",
            "justify_items": null,
            "grid_row": null,
            "max_height": null,
            "align_content": null,
            "visibility": null,
            "align_self": null,
            "height": null,
            "min_height": null,
            "padding": null,
            "grid_auto_rows": null,
            "grid_gap": null,
            "max_width": null,
            "order": null,
            "_view_module_version": "1.2.0",
            "grid_template_areas": null,
            "object_position": null,
            "object_fit": null,
            "grid_auto_columns": null,
            "margin": null,
            "display": null,
            "left": null
          }
        },
        "c28b2159afb4435baa164457aa736e3f": {
          "model_module": "@jupyter-widgets/controls",
          "model_name": "ButtonStyleModel",
          "model_module_version": "1.5.0",
          "state": {
            "_view_name": "StyleView",
            "_model_name": "ButtonStyleModel",
            "_view_module": "@jupyter-widgets/base",
            "_model_module_version": "1.5.0",
            "_view_count": null,
            "button_color": null,
            "font_weight": "",
            "_view_module_version": "1.2.0",
            "_model_module": "@jupyter-widgets/controls"
          }
        },
        "98a67ecbad1443f4a37bd31a6ac35e72": {
          "model_module": "@jupyter-widgets/base",
          "model_name": "LayoutModel",
          "model_module_version": "1.2.0",
          "state": {
            "_view_name": "LayoutView",
            "grid_template_rows": null,
            "right": null,
            "justify_content": null,
            "_view_module": "@jupyter-widgets/base",
            "overflow": null,
            "_model_module_version": "1.2.0",
            "_view_count": null,
            "flex_flow": null,
            "width": null,
            "min_width": null,
            "border": null,
            "align_items": null,
            "bottom": null,
            "_model_module": "@jupyter-widgets/base",
            "top": null,
            "grid_column": null,
            "overflow_y": null,
            "overflow_x": null,
            "grid_auto_flow": null,
            "grid_area": null,
            "grid_template_columns": null,
            "flex": null,
            "_model_name": "LayoutModel",
            "justify_items": null,
            "grid_row": null,
            "max_height": null,
            "align_content": null,
            "visibility": null,
            "align_self": null,
            "height": null,
            "min_height": null,
            "padding": null,
            "grid_auto_rows": null,
            "grid_gap": null,
            "max_width": null,
            "order": null,
            "_view_module_version": "1.2.0",
            "grid_template_areas": null,
            "object_position": null,
            "object_fit": null,
            "grid_auto_columns": null,
            "margin": null,
            "display": null,
            "left": null
          }
        },
        "f9891dfafc7f42b1bca686155903281e": {
          "model_module": "@jupyter-widgets/base",
          "model_name": "LayoutModel",
          "model_module_version": "1.2.0",
          "state": {
            "_view_name": "LayoutView",
            "grid_template_rows": null,
            "right": null,
            "justify_content": null,
            "_view_module": "@jupyter-widgets/base",
            "overflow": null,
            "_model_module_version": "1.2.0",
            "_view_count": null,
            "flex_flow": null,
            "width": null,
            "min_width": null,
            "border": null,
            "align_items": null,
            "bottom": null,
            "_model_module": "@jupyter-widgets/base",
            "top": null,
            "grid_column": null,
            "overflow_y": null,
            "overflow_x": null,
            "grid_auto_flow": null,
            "grid_area": null,
            "grid_template_columns": null,
            "flex": null,
            "_model_name": "LayoutModel",
            "justify_items": null,
            "grid_row": null,
            "max_height": null,
            "align_content": null,
            "visibility": null,
            "align_self": null,
            "height": null,
            "min_height": null,
            "padding": null,
            "grid_auto_rows": null,
            "grid_gap": null,
            "max_width": null,
            "order": null,
            "_view_module_version": "1.2.0",
            "grid_template_areas": null,
            "object_position": null,
            "object_fit": null,
            "grid_auto_columns": null,
            "margin": null,
            "display": null,
            "left": null
          }
        },
        "be56a8c2a40c44a5aed67cd3365e5700": {
          "model_module": "@jupyter-widgets/controls",
          "model_name": "VBoxModel",
          "model_module_version": "1.5.0",
          "state": {
            "_view_name": "VBoxView",
            "_dom_classes": [
              "widget-interact"
            ],
            "_model_name": "VBoxModel",
            "_view_module": "@jupyter-widgets/controls",
            "_model_module_version": "1.5.0",
            "_view_count": null,
            "_view_module_version": "1.5.0",
            "box_style": "",
            "layout": "IPY_MODEL_9189f70405c94b9280c97f1297e1d560",
            "_model_module": "@jupyter-widgets/controls",
            "children": [
              "IPY_MODEL_37adfd04e309406089d2aa0c5a896633",
              "IPY_MODEL_49f78eb783f8489a9913cdf4edd93003",
              "IPY_MODEL_68a8c96a73b14029b4d46fc791f0d2cf",
              "IPY_MODEL_30e592a6024344428ab7d8baaeae6f1c"
            ]
          }
        },
        "9189f70405c94b9280c97f1297e1d560": {
          "model_module": "@jupyter-widgets/base",
          "model_name": "LayoutModel",
          "model_module_version": "1.2.0",
          "state": {
            "_view_name": "LayoutView",
            "grid_template_rows": null,
            "right": null,
            "justify_content": null,
            "_view_module": "@jupyter-widgets/base",
            "overflow": null,
            "_model_module_version": "1.2.0",
            "_view_count": null,
            "flex_flow": null,
            "width": null,
            "min_width": null,
            "border": null,
            "align_items": null,
            "bottom": null,
            "_model_module": "@jupyter-widgets/base",
            "top": null,
            "grid_column": null,
            "overflow_y": null,
            "overflow_x": null,
            "grid_auto_flow": null,
            "grid_area": null,
            "grid_template_columns": null,
            "flex": null,
            "_model_name": "LayoutModel",
            "justify_items": null,
            "grid_row": null,
            "max_height": null,
            "align_content": null,
            "visibility": null,
            "align_self": null,
            "height": null,
            "min_height": null,
            "padding": null,
            "grid_auto_rows": null,
            "grid_gap": null,
            "max_width": null,
            "order": null,
            "_view_module_version": "1.2.0",
            "grid_template_areas": null,
            "object_position": null,
            "object_fit": null,
            "grid_auto_columns": null,
            "margin": null,
            "display": null,
            "left": null
          }
        },
        "37adfd04e309406089d2aa0c5a896633": {
          "model_module": "@jupyter-widgets/controls",
          "model_name": "IntSliderModel",
          "model_module_version": "1.5.0",
          "state": {
            "_view_name": "IntSliderView",
            "style": "IPY_MODEL_7696daa5eb7146529cf3f053749cb3cc",
            "_dom_classes": [],
            "description": "giocate",
            "step": 1,
            "_model_name": "IntSliderModel",
            "orientation": "horizontal",
            "max": 10,
            "_view_module": "@jupyter-widgets/controls",
            "_model_module_version": "1.5.0",
            "value": 3,
            "_view_count": null,
            "disabled": false,
            "_view_module_version": "1.5.0",
            "min": 1,
            "continuous_update": true,
            "readout_format": "d",
            "description_tooltip": null,
            "readout": true,
            "_model_module": "@jupyter-widgets/controls",
            "layout": "IPY_MODEL_01aa49ce89fd4e399d2461e36c563c22"
          }
        },
        "49f78eb783f8489a9913cdf4edd93003": {
          "model_module": "@jupyter-widgets/controls",
          "model_name": "IntSliderModel",
          "model_module_version": "1.5.0",
          "state": {
            "_view_name": "IntSliderView",
            "style": "IPY_MODEL_048b4dfc25a44fb68b628a0742076b44",
            "_dom_classes": [],
            "description": "puntata",
            "step": 5,
            "_model_name": "IntSliderModel",
            "orientation": "horizontal",
            "max": 100,
            "_view_module": "@jupyter-widgets/controls",
            "_model_module_version": "1.5.0",
            "value": 10,
            "_view_count": null,
            "disabled": false,
            "_view_module_version": "1.5.0",
            "min": 5,
            "continuous_update": true,
            "readout_format": "d",
            "description_tooltip": null,
            "readout": true,
            "_model_module": "@jupyter-widgets/controls",
            "layout": "IPY_MODEL_bd3f9284f88d4e12bfd0a574ac4b3331"
          }
        },
        "68a8c96a73b14029b4d46fc791f0d2cf": {
          "model_module": "@jupyter-widgets/controls",
          "model_name": "ButtonModel",
          "model_module_version": "1.5.0",
          "state": {
            "_view_name": "ButtonView",
            "style": "IPY_MODEL_61ae4efa3c6a4d21a01a02bd5f303bc0",
            "_dom_classes": [],
            "description": "Run Interact",
            "_model_name": "ButtonModel",
            "button_style": "",
            "_view_module": "@jupyter-widgets/controls",
            "_model_module_version": "1.5.0",
            "tooltip": "",
            "_view_count": null,
            "disabled": false,
            "_view_module_version": "1.5.0",
            "layout": "IPY_MODEL_58abf12b4a164c96a1fbb4817f55839b",
            "_model_module": "@jupyter-widgets/controls",
            "icon": ""
          }
        },
        "30e592a6024344428ab7d8baaeae6f1c": {
          "model_module": "@jupyter-widgets/output",
          "model_name": "OutputModel",
          "model_module_version": "1.0.0",
          "state": {
            "_view_name": "OutputView",
            "msg_id": "",
            "_dom_classes": [],
            "_model_name": "OutputModel",
            "outputs": [],
            "_view_module": "@jupyter-widgets/output",
            "_model_module_version": "1.0.0",
            "_view_count": null,
            "_view_module_version": "1.0.0",
            "layout": "IPY_MODEL_e1eac7ce2ed74278871888b9d4b5bce2",
            "_model_module": "@jupyter-widgets/output"
          }
        },
        "7696daa5eb7146529cf3f053749cb3cc": {
          "model_module": "@jupyter-widgets/controls",
          "model_name": "SliderStyleModel",
          "model_module_version": "1.5.0",
          "state": {
            "_view_name": "StyleView",
            "handle_color": null,
            "_model_name": "SliderStyleModel",
            "description_width": "",
            "_view_module": "@jupyter-widgets/base",
            "_model_module_version": "1.5.0",
            "_view_count": null,
            "_view_module_version": "1.2.0",
            "_model_module": "@jupyter-widgets/controls"
          }
        },
        "01aa49ce89fd4e399d2461e36c563c22": {
          "model_module": "@jupyter-widgets/base",
          "model_name": "LayoutModel",
          "model_module_version": "1.2.0",
          "state": {
            "_view_name": "LayoutView",
            "grid_template_rows": null,
            "right": null,
            "justify_content": null,
            "_view_module": "@jupyter-widgets/base",
            "overflow": null,
            "_model_module_version": "1.2.0",
            "_view_count": null,
            "flex_flow": null,
            "width": null,
            "min_width": null,
            "border": null,
            "align_items": null,
            "bottom": null,
            "_model_module": "@jupyter-widgets/base",
            "top": null,
            "grid_column": null,
            "overflow_y": null,
            "overflow_x": null,
            "grid_auto_flow": null,
            "grid_area": null,
            "grid_template_columns": null,
            "flex": null,
            "_model_name": "LayoutModel",
            "justify_items": null,
            "grid_row": null,
            "max_height": null,
            "align_content": null,
            "visibility": null,
            "align_self": null,
            "height": null,
            "min_height": null,
            "padding": null,
            "grid_auto_rows": null,
            "grid_gap": null,
            "max_width": null,
            "order": null,
            "_view_module_version": "1.2.0",
            "grid_template_areas": null,
            "object_position": null,
            "object_fit": null,
            "grid_auto_columns": null,
            "margin": null,
            "display": null,
            "left": null
          }
        },
        "048b4dfc25a44fb68b628a0742076b44": {
          "model_module": "@jupyter-widgets/controls",
          "model_name": "SliderStyleModel",
          "model_module_version": "1.5.0",
          "state": {
            "_view_name": "StyleView",
            "handle_color": null,
            "_model_name": "SliderStyleModel",
            "description_width": "",
            "_view_module": "@jupyter-widgets/base",
            "_model_module_version": "1.5.0",
            "_view_count": null,
            "_view_module_version": "1.2.0",
            "_model_module": "@jupyter-widgets/controls"
          }
        },
        "bd3f9284f88d4e12bfd0a574ac4b3331": {
          "model_module": "@jupyter-widgets/base",
          "model_name": "LayoutModel",
          "model_module_version": "1.2.0",
          "state": {
            "_view_name": "LayoutView",
            "grid_template_rows": null,
            "right": null,
            "justify_content": null,
            "_view_module": "@jupyter-widgets/base",
            "overflow": null,
            "_model_module_version": "1.2.0",
            "_view_count": null,
            "flex_flow": null,
            "width": null,
            "min_width": null,
            "border": null,
            "align_items": null,
            "bottom": null,
            "_model_module": "@jupyter-widgets/base",
            "top": null,
            "grid_column": null,
            "overflow_y": null,
            "overflow_x": null,
            "grid_auto_flow": null,
            "grid_area": null,
            "grid_template_columns": null,
            "flex": null,
            "_model_name": "LayoutModel",
            "justify_items": null,
            "grid_row": null,
            "max_height": null,
            "align_content": null,
            "visibility": null,
            "align_self": null,
            "height": null,
            "min_height": null,
            "padding": null,
            "grid_auto_rows": null,
            "grid_gap": null,
            "max_width": null,
            "order": null,
            "_view_module_version": "1.2.0",
            "grid_template_areas": null,
            "object_position": null,
            "object_fit": null,
            "grid_auto_columns": null,
            "margin": null,
            "display": null,
            "left": null
          }
        },
        "61ae4efa3c6a4d21a01a02bd5f303bc0": {
          "model_module": "@jupyter-widgets/controls",
          "model_name": "ButtonStyleModel",
          "model_module_version": "1.5.0",
          "state": {
            "_view_name": "StyleView",
            "_model_name": "ButtonStyleModel",
            "_view_module": "@jupyter-widgets/base",
            "_model_module_version": "1.5.0",
            "_view_count": null,
            "button_color": null,
            "font_weight": "",
            "_view_module_version": "1.2.0",
            "_model_module": "@jupyter-widgets/controls"
          }
        },
        "58abf12b4a164c96a1fbb4817f55839b": {
          "model_module": "@jupyter-widgets/base",
          "model_name": "LayoutModel",
          "model_module_version": "1.2.0",
          "state": {
            "_view_name": "LayoutView",
            "grid_template_rows": null,
            "right": null,
            "justify_content": null,
            "_view_module": "@jupyter-widgets/base",
            "overflow": null,
            "_model_module_version": "1.2.0",
            "_view_count": null,
            "flex_flow": null,
            "width": null,
            "min_width": null,
            "border": null,
            "align_items": null,
            "bottom": null,
            "_model_module": "@jupyter-widgets/base",
            "top": null,
            "grid_column": null,
            "overflow_y": null,
            "overflow_x": null,
            "grid_auto_flow": null,
            "grid_area": null,
            "grid_template_columns": null,
            "flex": null,
            "_model_name": "LayoutModel",
            "justify_items": null,
            "grid_row": null,
            "max_height": null,
            "align_content": null,
            "visibility": null,
            "align_self": null,
            "height": null,
            "min_height": null,
            "padding": null,
            "grid_auto_rows": null,
            "grid_gap": null,
            "max_width": null,
            "order": null,
            "_view_module_version": "1.2.0",
            "grid_template_areas": null,
            "object_position": null,
            "object_fit": null,
            "grid_auto_columns": null,
            "margin": null,
            "display": null,
            "left": null
          }
        },
        "e1eac7ce2ed74278871888b9d4b5bce2": {
          "model_module": "@jupyter-widgets/base",
          "model_name": "LayoutModel",
          "model_module_version": "1.2.0",
          "state": {
            "_view_name": "LayoutView",
            "grid_template_rows": null,
            "right": null,
            "justify_content": null,
            "_view_module": "@jupyter-widgets/base",
            "overflow": null,
            "_model_module_version": "1.2.0",
            "_view_count": null,
            "flex_flow": null,
            "width": null,
            "min_width": null,
            "border": null,
            "align_items": null,
            "bottom": null,
            "_model_module": "@jupyter-widgets/base",
            "top": null,
            "grid_column": null,
            "overflow_y": null,
            "overflow_x": null,
            "grid_auto_flow": null,
            "grid_area": null,
            "grid_template_columns": null,
            "flex": null,
            "_model_name": "LayoutModel",
            "justify_items": null,
            "grid_row": null,
            "max_height": null,
            "align_content": null,
            "visibility": null,
            "align_self": null,
            "height": null,
            "min_height": null,
            "padding": null,
            "grid_auto_rows": null,
            "grid_gap": null,
            "max_width": null,
            "order": null,
            "_view_module_version": "1.2.0",
            "grid_template_areas": null,
            "object_position": null,
            "object_fit": null,
            "grid_auto_columns": null,
            "margin": null,
            "display": null,
            "left": null
          }
        },
        "f7c61be5f1ed4f81aae0b52ec61f2c97": {
          "model_module": "@jupyter-widgets/controls",
          "model_name": "VBoxModel",
          "model_module_version": "1.5.0",
          "state": {
            "_view_name": "VBoxView",
            "_dom_classes": [
              "widget-interact"
            ],
            "_model_name": "VBoxModel",
            "_view_module": "@jupyter-widgets/controls",
            "_model_module_version": "1.5.0",
            "_view_count": null,
            "_view_module_version": "1.5.0",
            "box_style": "",
            "layout": "IPY_MODEL_1a8a4d70597f4f1faca56c654a3c7667",
            "_model_module": "@jupyter-widgets/controls",
            "children": [
              "IPY_MODEL_9190b24b57904c44894051068a880efd",
              "IPY_MODEL_613a0ce0513a4124b7c445607dcff127",
              "IPY_MODEL_4ed5f814ef164a90a97dd6ebf640e191",
              "IPY_MODEL_89ae83735e7d4cdf8f590004466cf374"
            ]
          }
        },
        "1a8a4d70597f4f1faca56c654a3c7667": {
          "model_module": "@jupyter-widgets/base",
          "model_name": "LayoutModel",
          "model_module_version": "1.2.0",
          "state": {
            "_view_name": "LayoutView",
            "grid_template_rows": null,
            "right": null,
            "justify_content": null,
            "_view_module": "@jupyter-widgets/base",
            "overflow": null,
            "_model_module_version": "1.2.0",
            "_view_count": null,
            "flex_flow": null,
            "width": null,
            "min_width": null,
            "border": null,
            "align_items": null,
            "bottom": null,
            "_model_module": "@jupyter-widgets/base",
            "top": null,
            "grid_column": null,
            "overflow_y": null,
            "overflow_x": null,
            "grid_auto_flow": null,
            "grid_area": null,
            "grid_template_columns": null,
            "flex": null,
            "_model_name": "LayoutModel",
            "justify_items": null,
            "grid_row": null,
            "max_height": null,
            "align_content": null,
            "visibility": null,
            "align_self": null,
            "height": null,
            "min_height": null,
            "padding": null,
            "grid_auto_rows": null,
            "grid_gap": null,
            "max_width": null,
            "order": null,
            "_view_module_version": "1.2.0",
            "grid_template_areas": null,
            "object_position": null,
            "object_fit": null,
            "grid_auto_columns": null,
            "margin": null,
            "display": null,
            "left": null
          }
        },
        "9190b24b57904c44894051068a880efd": {
          "model_module": "@jupyter-widgets/controls",
          "model_name": "IntSliderModel",
          "model_module_version": "1.5.0",
          "state": {
            "_view_name": "IntSliderView",
            "style": "IPY_MODEL_bef7eef59cee4663a2f91d1dd61f9124",
            "_dom_classes": [],
            "description": "giocate",
            "step": 1,
            "_model_name": "IntSliderModel",
            "orientation": "horizontal",
            "max": 6,
            "_view_module": "@jupyter-widgets/controls",
            "_model_module_version": "1.5.0",
            "value": 3,
            "_view_count": null,
            "disabled": false,
            "_view_module_version": "1.5.0",
            "min": 1,
            "continuous_update": true,
            "readout_format": "d",
            "description_tooltip": null,
            "readout": true,
            "_model_module": "@jupyter-widgets/controls",
            "layout": "IPY_MODEL_2d28bc6e890949eda19306102ba7cea9"
          }
        },
        "613a0ce0513a4124b7c445607dcff127": {
          "model_module": "@jupyter-widgets/controls",
          "model_name": "IntSliderModel",
          "model_module_version": "1.5.0",
          "state": {
            "_view_name": "IntSliderView",
            "style": "IPY_MODEL_b339591c51b946b19642968d15db2abc",
            "_dom_classes": [],
            "description": "puntata",
            "step": 5,
            "_model_name": "IntSliderModel",
            "orientation": "horizontal",
            "max": 100,
            "_view_module": "@jupyter-widgets/controls",
            "_model_module_version": "1.5.0",
            "value": 5,
            "_view_count": null,
            "disabled": false,
            "_view_module_version": "1.5.0",
            "min": 5,
            "continuous_update": true,
            "readout_format": "d",
            "description_tooltip": null,
            "readout": true,
            "_model_module": "@jupyter-widgets/controls",
            "layout": "IPY_MODEL_6754e2668be6468497bdbfdc8715065b"
          }
        },
        "4ed5f814ef164a90a97dd6ebf640e191": {
          "model_module": "@jupyter-widgets/controls",
          "model_name": "ButtonModel",
          "model_module_version": "1.5.0",
          "state": {
            "_view_name": "ButtonView",
            "style": "IPY_MODEL_6f401dfefaba4d08942d0a03ac01e615",
            "_dom_classes": [],
            "description": "Run Interact",
            "_model_name": "ButtonModel",
            "button_style": "",
            "_view_module": "@jupyter-widgets/controls",
            "_model_module_version": "1.5.0",
            "tooltip": "",
            "_view_count": null,
            "disabled": false,
            "_view_module_version": "1.5.0",
            "layout": "IPY_MODEL_034d470bede541bf88879f906be74b30",
            "_model_module": "@jupyter-widgets/controls",
            "icon": ""
          }
        },
        "89ae83735e7d4cdf8f590004466cf374": {
          "model_module": "@jupyter-widgets/output",
          "model_name": "OutputModel",
          "model_module_version": "1.0.0",
          "state": {
            "_view_name": "OutputView",
            "msg_id": "",
            "_dom_classes": [],
            "_model_name": "OutputModel",
            "outputs": [],
            "_view_module": "@jupyter-widgets/output",
            "_model_module_version": "1.0.0",
            "_view_count": null,
            "_view_module_version": "1.0.0",
            "layout": "IPY_MODEL_352d9a5b9ff24d4bb160430b520c7814",
            "_model_module": "@jupyter-widgets/output"
          }
        },
        "bef7eef59cee4663a2f91d1dd61f9124": {
          "model_module": "@jupyter-widgets/controls",
          "model_name": "SliderStyleModel",
          "model_module_version": "1.5.0",
          "state": {
            "_view_name": "StyleView",
            "handle_color": null,
            "_model_name": "SliderStyleModel",
            "description_width": "",
            "_view_module": "@jupyter-widgets/base",
            "_model_module_version": "1.5.0",
            "_view_count": null,
            "_view_module_version": "1.2.0",
            "_model_module": "@jupyter-widgets/controls"
          }
        },
        "2d28bc6e890949eda19306102ba7cea9": {
          "model_module": "@jupyter-widgets/base",
          "model_name": "LayoutModel",
          "model_module_version": "1.2.0",
          "state": {
            "_view_name": "LayoutView",
            "grid_template_rows": null,
            "right": null,
            "justify_content": null,
            "_view_module": "@jupyter-widgets/base",
            "overflow": null,
            "_model_module_version": "1.2.0",
            "_view_count": null,
            "flex_flow": null,
            "width": null,
            "min_width": null,
            "border": null,
            "align_items": null,
            "bottom": null,
            "_model_module": "@jupyter-widgets/base",
            "top": null,
            "grid_column": null,
            "overflow_y": null,
            "overflow_x": null,
            "grid_auto_flow": null,
            "grid_area": null,
            "grid_template_columns": null,
            "flex": null,
            "_model_name": "LayoutModel",
            "justify_items": null,
            "grid_row": null,
            "max_height": null,
            "align_content": null,
            "visibility": null,
            "align_self": null,
            "height": null,
            "min_height": null,
            "padding": null,
            "grid_auto_rows": null,
            "grid_gap": null,
            "max_width": null,
            "order": null,
            "_view_module_version": "1.2.0",
            "grid_template_areas": null,
            "object_position": null,
            "object_fit": null,
            "grid_auto_columns": null,
            "margin": null,
            "display": null,
            "left": null
          }
        },
        "b339591c51b946b19642968d15db2abc": {
          "model_module": "@jupyter-widgets/controls",
          "model_name": "SliderStyleModel",
          "model_module_version": "1.5.0",
          "state": {
            "_view_name": "StyleView",
            "handle_color": null,
            "_model_name": "SliderStyleModel",
            "description_width": "",
            "_view_module": "@jupyter-widgets/base",
            "_model_module_version": "1.5.0",
            "_view_count": null,
            "_view_module_version": "1.2.0",
            "_model_module": "@jupyter-widgets/controls"
          }
        },
        "6754e2668be6468497bdbfdc8715065b": {
          "model_module": "@jupyter-widgets/base",
          "model_name": "LayoutModel",
          "model_module_version": "1.2.0",
          "state": {
            "_view_name": "LayoutView",
            "grid_template_rows": null,
            "right": null,
            "justify_content": null,
            "_view_module": "@jupyter-widgets/base",
            "overflow": null,
            "_model_module_version": "1.2.0",
            "_view_count": null,
            "flex_flow": null,
            "width": null,
            "min_width": null,
            "border": null,
            "align_items": null,
            "bottom": null,
            "_model_module": "@jupyter-widgets/base",
            "top": null,
            "grid_column": null,
            "overflow_y": null,
            "overflow_x": null,
            "grid_auto_flow": null,
            "grid_area": null,
            "grid_template_columns": null,
            "flex": null,
            "_model_name": "LayoutModel",
            "justify_items": null,
            "grid_row": null,
            "max_height": null,
            "align_content": null,
            "visibility": null,
            "align_self": null,
            "height": null,
            "min_height": null,
            "padding": null,
            "grid_auto_rows": null,
            "grid_gap": null,
            "max_width": null,
            "order": null,
            "_view_module_version": "1.2.0",
            "grid_template_areas": null,
            "object_position": null,
            "object_fit": null,
            "grid_auto_columns": null,
            "margin": null,
            "display": null,
            "left": null
          }
        },
        "6f401dfefaba4d08942d0a03ac01e615": {
          "model_module": "@jupyter-widgets/controls",
          "model_name": "ButtonStyleModel",
          "model_module_version": "1.5.0",
          "state": {
            "_view_name": "StyleView",
            "_model_name": "ButtonStyleModel",
            "_view_module": "@jupyter-widgets/base",
            "_model_module_version": "1.5.0",
            "_view_count": null,
            "button_color": null,
            "font_weight": "",
            "_view_module_version": "1.2.0",
            "_model_module": "@jupyter-widgets/controls"
          }
        },
        "034d470bede541bf88879f906be74b30": {
          "model_module": "@jupyter-widgets/base",
          "model_name": "LayoutModel",
          "model_module_version": "1.2.0",
          "state": {
            "_view_name": "LayoutView",
            "grid_template_rows": null,
            "right": null,
            "justify_content": null,
            "_view_module": "@jupyter-widgets/base",
            "overflow": null,
            "_model_module_version": "1.2.0",
            "_view_count": null,
            "flex_flow": null,
            "width": null,
            "min_width": null,
            "border": null,
            "align_items": null,
            "bottom": null,
            "_model_module": "@jupyter-widgets/base",
            "top": null,
            "grid_column": null,
            "overflow_y": null,
            "overflow_x": null,
            "grid_auto_flow": null,
            "grid_area": null,
            "grid_template_columns": null,
            "flex": null,
            "_model_name": "LayoutModel",
            "justify_items": null,
            "grid_row": null,
            "max_height": null,
            "align_content": null,
            "visibility": null,
            "align_self": null,
            "height": null,
            "min_height": null,
            "padding": null,
            "grid_auto_rows": null,
            "grid_gap": null,
            "max_width": null,
            "order": null,
            "_view_module_version": "1.2.0",
            "grid_template_areas": null,
            "object_position": null,
            "object_fit": null,
            "grid_auto_columns": null,
            "margin": null,
            "display": null,
            "left": null
          }
        },
        "352d9a5b9ff24d4bb160430b520c7814": {
          "model_module": "@jupyter-widgets/base",
          "model_name": "LayoutModel",
          "model_module_version": "1.2.0",
          "state": {
            "_view_name": "LayoutView",
            "grid_template_rows": null,
            "right": null,
            "justify_content": null,
            "_view_module": "@jupyter-widgets/base",
            "overflow": null,
            "_model_module_version": "1.2.0",
            "_view_count": null,
            "flex_flow": null,
            "width": null,
            "min_width": null,
            "border": null,
            "align_items": null,
            "bottom": null,
            "_model_module": "@jupyter-widgets/base",
            "top": null,
            "grid_column": null,
            "overflow_y": null,
            "overflow_x": null,
            "grid_auto_flow": null,
            "grid_area": null,
            "grid_template_columns": null,
            "flex": null,
            "_model_name": "LayoutModel",
            "justify_items": null,
            "grid_row": null,
            "max_height": null,
            "align_content": null,
            "visibility": null,
            "align_self": null,
            "height": null,
            "min_height": null,
            "padding": null,
            "grid_auto_rows": null,
            "grid_gap": null,
            "max_width": null,
            "order": null,
            "_view_module_version": "1.2.0",
            "grid_template_areas": null,
            "object_position": null,
            "object_fit": null,
            "grid_auto_columns": null,
            "margin": null,
            "display": null,
            "left": null
          }
        },
        "2c39cbd1b1b64a49ba043acdca4dc3db": {
          "model_module": "@jupyter-widgets/controls",
          "model_name": "VBoxModel",
          "model_module_version": "1.5.0",
          "state": {
            "_view_name": "VBoxView",
            "_dom_classes": [
              "widget-interact"
            ],
            "_model_name": "VBoxModel",
            "_view_module": "@jupyter-widgets/controls",
            "_model_module_version": "1.5.0",
            "_view_count": null,
            "_view_module_version": "1.5.0",
            "box_style": "",
            "layout": "IPY_MODEL_eb4d77a5390640f7910458bf3a3ec1e2",
            "_model_module": "@jupyter-widgets/controls",
            "children": [
              "IPY_MODEL_69c91e5ec7b541afb4f7cc8f7568cd96",
              "IPY_MODEL_a66a1e6834c5409586c030aa095065ac",
              "IPY_MODEL_fefbdbf53f05404b9b0066fd3d01b412"
            ]
          }
        },
        "eb4d77a5390640f7910458bf3a3ec1e2": {
          "model_module": "@jupyter-widgets/base",
          "model_name": "LayoutModel",
          "model_module_version": "1.2.0",
          "state": {
            "_view_name": "LayoutView",
            "grid_template_rows": null,
            "right": null,
            "justify_content": null,
            "_view_module": "@jupyter-widgets/base",
            "overflow": null,
            "_model_module_version": "1.2.0",
            "_view_count": null,
            "flex_flow": null,
            "width": null,
            "min_width": null,
            "border": null,
            "align_items": null,
            "bottom": null,
            "_model_module": "@jupyter-widgets/base",
            "top": null,
            "grid_column": null,
            "overflow_y": null,
            "overflow_x": null,
            "grid_auto_flow": null,
            "grid_area": null,
            "grid_template_columns": null,
            "flex": null,
            "_model_name": "LayoutModel",
            "justify_items": null,
            "grid_row": null,
            "max_height": null,
            "align_content": null,
            "visibility": null,
            "align_self": null,
            "height": null,
            "min_height": null,
            "padding": null,
            "grid_auto_rows": null,
            "grid_gap": null,
            "max_width": null,
            "order": null,
            "_view_module_version": "1.2.0",
            "grid_template_areas": null,
            "object_position": null,
            "object_fit": null,
            "grid_auto_columns": null,
            "margin": null,
            "display": null,
            "left": null
          }
        },
        "69c91e5ec7b541afb4f7cc8f7568cd96": {
          "model_module": "@jupyter-widgets/controls",
          "model_name": "IntSliderModel",
          "model_module_version": "1.5.0",
          "state": {
            "_view_name": "IntSliderView",
            "style": "IPY_MODEL_12fa364201d6497f9ae27ef5c63f4223",
            "_dom_classes": [],
            "description": "estrazioni",
            "step": 1,
            "_model_name": "IntSliderModel",
            "orientation": "horizontal",
            "max": 10,
            "_view_module": "@jupyter-widgets/controls",
            "_model_module_version": "1.5.0",
            "value": 3,
            "_view_count": null,
            "disabled": false,
            "_view_module_version": "1.5.0",
            "min": 1,
            "continuous_update": true,
            "readout_format": "d",
            "description_tooltip": null,
            "readout": true,
            "_model_module": "@jupyter-widgets/controls",
            "layout": "IPY_MODEL_6a7a112b044846399e8dce335ac9d182"
          }
        },
        "a66a1e6834c5409586c030aa095065ac": {
          "model_module": "@jupyter-widgets/controls",
          "model_name": "ButtonModel",
          "model_module_version": "1.5.0",
          "state": {
            "_view_name": "ButtonView",
            "style": "IPY_MODEL_12fcd22cfbb44ce38ee83fce1f27c4ba",
            "_dom_classes": [],
            "description": "Run Interact",
            "_model_name": "ButtonModel",
            "button_style": "",
            "_view_module": "@jupyter-widgets/controls",
            "_model_module_version": "1.5.0",
            "tooltip": "",
            "_view_count": null,
            "disabled": false,
            "_view_module_version": "1.5.0",
            "layout": "IPY_MODEL_09e86d64e1244fb8b99fcf71f2b4f153",
            "_model_module": "@jupyter-widgets/controls",
            "icon": ""
          }
        },
        "fefbdbf53f05404b9b0066fd3d01b412": {
          "model_module": "@jupyter-widgets/output",
          "model_name": "OutputModel",
          "model_module_version": "1.0.0",
          "state": {
            "_view_name": "OutputView",
            "msg_id": "",
            "_dom_classes": [],
            "_model_name": "OutputModel",
            "outputs": [],
            "_view_module": "@jupyter-widgets/output",
            "_model_module_version": "1.0.0",
            "_view_count": null,
            "_view_module_version": "1.0.0",
            "layout": "IPY_MODEL_1fdddc2da7d4449cba7a590efb8fbd08",
            "_model_module": "@jupyter-widgets/output"
          }
        },
        "12fa364201d6497f9ae27ef5c63f4223": {
          "model_module": "@jupyter-widgets/controls",
          "model_name": "SliderStyleModel",
          "model_module_version": "1.5.0",
          "state": {
            "_view_name": "StyleView",
            "handle_color": null,
            "_model_name": "SliderStyleModel",
            "description_width": "",
            "_view_module": "@jupyter-widgets/base",
            "_model_module_version": "1.5.0",
            "_view_count": null,
            "_view_module_version": "1.2.0",
            "_model_module": "@jupyter-widgets/controls"
          }
        },
        "6a7a112b044846399e8dce335ac9d182": {
          "model_module": "@jupyter-widgets/base",
          "model_name": "LayoutModel",
          "model_module_version": "1.2.0",
          "state": {
            "_view_name": "LayoutView",
            "grid_template_rows": null,
            "right": null,
            "justify_content": null,
            "_view_module": "@jupyter-widgets/base",
            "overflow": null,
            "_model_module_version": "1.2.0",
            "_view_count": null,
            "flex_flow": null,
            "width": null,
            "min_width": null,
            "border": null,
            "align_items": null,
            "bottom": null,
            "_model_module": "@jupyter-widgets/base",
            "top": null,
            "grid_column": null,
            "overflow_y": null,
            "overflow_x": null,
            "grid_auto_flow": null,
            "grid_area": null,
            "grid_template_columns": null,
            "flex": null,
            "_model_name": "LayoutModel",
            "justify_items": null,
            "grid_row": null,
            "max_height": null,
            "align_content": null,
            "visibility": null,
            "align_self": null,
            "height": null,
            "min_height": null,
            "padding": null,
            "grid_auto_rows": null,
            "grid_gap": null,
            "max_width": null,
            "order": null,
            "_view_module_version": "1.2.0",
            "grid_template_areas": null,
            "object_position": null,
            "object_fit": null,
            "grid_auto_columns": null,
            "margin": null,
            "display": null,
            "left": null
          }
        },
        "12fcd22cfbb44ce38ee83fce1f27c4ba": {
          "model_module": "@jupyter-widgets/controls",
          "model_name": "ButtonStyleModel",
          "model_module_version": "1.5.0",
          "state": {
            "_view_name": "StyleView",
            "_model_name": "ButtonStyleModel",
            "_view_module": "@jupyter-widgets/base",
            "_model_module_version": "1.5.0",
            "_view_count": null,
            "button_color": null,
            "font_weight": "",
            "_view_module_version": "1.2.0",
            "_model_module": "@jupyter-widgets/controls"
          }
        },
        "09e86d64e1244fb8b99fcf71f2b4f153": {
          "model_module": "@jupyter-widgets/base",
          "model_name": "LayoutModel",
          "model_module_version": "1.2.0",
          "state": {
            "_view_name": "LayoutView",
            "grid_template_rows": null,
            "right": null,
            "justify_content": null,
            "_view_module": "@jupyter-widgets/base",
            "overflow": null,
            "_model_module_version": "1.2.0",
            "_view_count": null,
            "flex_flow": null,
            "width": null,
            "min_width": null,
            "border": null,
            "align_items": null,
            "bottom": null,
            "_model_module": "@jupyter-widgets/base",
            "top": null,
            "grid_column": null,
            "overflow_y": null,
            "overflow_x": null,
            "grid_auto_flow": null,
            "grid_area": null,
            "grid_template_columns": null,
            "flex": null,
            "_model_name": "LayoutModel",
            "justify_items": null,
            "grid_row": null,
            "max_height": null,
            "align_content": null,
            "visibility": null,
            "align_self": null,
            "height": null,
            "min_height": null,
            "padding": null,
            "grid_auto_rows": null,
            "grid_gap": null,
            "max_width": null,
            "order": null,
            "_view_module_version": "1.2.0",
            "grid_template_areas": null,
            "object_position": null,
            "object_fit": null,
            "grid_auto_columns": null,
            "margin": null,
            "display": null,
            "left": null
          }
        },
        "1fdddc2da7d4449cba7a590efb8fbd08": {
          "model_module": "@jupyter-widgets/base",
          "model_name": "LayoutModel",
          "model_module_version": "1.2.0",
          "state": {
            "_view_name": "LayoutView",
            "grid_template_rows": null,
            "right": null,
            "justify_content": null,
            "_view_module": "@jupyter-widgets/base",
            "overflow": null,
            "_model_module_version": "1.2.0",
            "_view_count": null,
            "flex_flow": null,
            "width": null,
            "min_width": null,
            "border": null,
            "align_items": null,
            "bottom": null,
            "_model_module": "@jupyter-widgets/base",
            "top": null,
            "grid_column": null,
            "overflow_y": null,
            "overflow_x": null,
            "grid_auto_flow": null,
            "grid_area": null,
            "grid_template_columns": null,
            "flex": null,
            "_model_name": "LayoutModel",
            "justify_items": null,
            "grid_row": null,
            "max_height": null,
            "align_content": null,
            "visibility": null,
            "align_self": null,
            "height": null,
            "min_height": null,
            "padding": null,
            "grid_auto_rows": null,
            "grid_gap": null,
            "max_width": null,
            "order": null,
            "_view_module_version": "1.2.0",
            "grid_template_areas": null,
            "object_position": null,
            "object_fit": null,
            "grid_auto_columns": null,
            "margin": null,
            "display": null,
            "left": null
          }
        },
        "e1ea5e4e3c7c416a9b9faa319b7b0e00": {
          "model_module": "@jupyter-widgets/controls",
          "model_name": "VBoxModel",
          "model_module_version": "1.5.0",
          "state": {
            "_view_name": "VBoxView",
            "_dom_classes": [
              "widget-interact"
            ],
            "_model_name": "VBoxModel",
            "_view_module": "@jupyter-widgets/controls",
            "_model_module_version": "1.5.0",
            "_view_count": null,
            "_view_module_version": "1.5.0",
            "box_style": "",
            "layout": "IPY_MODEL_63a49cdf9dd24f0eba2e70973cbf186b",
            "_model_module": "@jupyter-widgets/controls",
            "children": [
              "IPY_MODEL_7058f98a098d4c0c9c8e3b7d2eeec7a7",
              "IPY_MODEL_854d5064341646e88a239feacf7926bf",
              "IPY_MODEL_29f938ffdcee4aaaadf1c19eaba29ee5",
              "IPY_MODEL_1ce5a895cd4b4f5db4af32f10b82b741"
            ]
          }
        },
        "63a49cdf9dd24f0eba2e70973cbf186b": {
          "model_module": "@jupyter-widgets/base",
          "model_name": "LayoutModel",
          "model_module_version": "1.2.0",
          "state": {
            "_view_name": "LayoutView",
            "grid_template_rows": null,
            "right": null,
            "justify_content": null,
            "_view_module": "@jupyter-widgets/base",
            "overflow": null,
            "_model_module_version": "1.2.0",
            "_view_count": null,
            "flex_flow": null,
            "width": null,
            "min_width": null,
            "border": null,
            "align_items": null,
            "bottom": null,
            "_model_module": "@jupyter-widgets/base",
            "top": null,
            "grid_column": null,
            "overflow_y": null,
            "overflow_x": null,
            "grid_auto_flow": null,
            "grid_area": null,
            "grid_template_columns": null,
            "flex": null,
            "_model_name": "LayoutModel",
            "justify_items": null,
            "grid_row": null,
            "max_height": null,
            "align_content": null,
            "visibility": null,
            "align_self": null,
            "height": null,
            "min_height": null,
            "padding": null,
            "grid_auto_rows": null,
            "grid_gap": null,
            "max_width": null,
            "order": null,
            "_view_module_version": "1.2.0",
            "grid_template_areas": null,
            "object_position": null,
            "object_fit": null,
            "grid_auto_columns": null,
            "margin": null,
            "display": null,
            "left": null
          }
        },
        "7058f98a098d4c0c9c8e3b7d2eeec7a7": {
          "model_module": "@jupyter-widgets/controls",
          "model_name": "IntSliderModel",
          "model_module_version": "1.5.0",
          "state": {
            "_view_name": "IntSliderView",
            "style": "IPY_MODEL_4c03722da86e4c719550d7e5588b1acb",
            "_dom_classes": [],
            "description": "bianche",
            "step": 1,
            "_model_name": "IntSliderModel",
            "orientation": "horizontal",
            "max": 5,
            "_view_module": "@jupyter-widgets/controls",
            "_model_module_version": "1.5.0",
            "value": 2,
            "_view_count": null,
            "disabled": false,
            "_view_module_version": "1.5.0",
            "min": 1,
            "continuous_update": true,
            "readout_format": "d",
            "description_tooltip": null,
            "readout": true,
            "_model_module": "@jupyter-widgets/controls",
            "layout": "IPY_MODEL_9327020a0d0d42b5bb46d26b7893b0c6"
          }
        },
        "854d5064341646e88a239feacf7926bf": {
          "model_module": "@jupyter-widgets/controls",
          "model_name": "IntSliderModel",
          "model_module_version": "1.5.0",
          "state": {
            "_view_name": "IntSliderView",
            "style": "IPY_MODEL_9c55573fa77f499891508c83aea20eae",
            "_dom_classes": [],
            "description": "rosse",
            "step": 1,
            "_model_name": "IntSliderModel",
            "orientation": "horizontal",
            "max": 5,
            "_view_module": "@jupyter-widgets/controls",
            "_model_module_version": "1.5.0",
            "value": 3,
            "_view_count": null,
            "disabled": false,
            "_view_module_version": "1.5.0",
            "min": 1,
            "continuous_update": true,
            "readout_format": "d",
            "description_tooltip": null,
            "readout": true,
            "_model_module": "@jupyter-widgets/controls",
            "layout": "IPY_MODEL_912ae4092c154085ba36add3f490a310"
          }
        },
        "29f938ffdcee4aaaadf1c19eaba29ee5": {
          "model_module": "@jupyter-widgets/controls",
          "model_name": "ButtonModel",
          "model_module_version": "1.5.0",
          "state": {
            "_view_name": "ButtonView",
            "style": "IPY_MODEL_6fa0bde5e71441f9887da2c372922c98",
            "_dom_classes": [],
            "description": "Run Interact",
            "_model_name": "ButtonModel",
            "button_style": "",
            "_view_module": "@jupyter-widgets/controls",
            "_model_module_version": "1.5.0",
            "tooltip": "",
            "_view_count": null,
            "disabled": false,
            "_view_module_version": "1.5.0",
            "layout": "IPY_MODEL_8b79a6a6bdec45b3ad9d549be172f1ab",
            "_model_module": "@jupyter-widgets/controls",
            "icon": ""
          }
        },
        "1ce5a895cd4b4f5db4af32f10b82b741": {
          "model_module": "@jupyter-widgets/output",
          "model_name": "OutputModel",
          "model_module_version": "1.0.0",
          "state": {
            "_view_name": "OutputView",
            "msg_id": "",
            "_dom_classes": [],
            "_model_name": "OutputModel",
            "outputs": [],
            "_view_module": "@jupyter-widgets/output",
            "_model_module_version": "1.0.0",
            "_view_count": null,
            "_view_module_version": "1.0.0",
            "layout": "IPY_MODEL_ba47d03f573d4510991a76dbca71d9f9",
            "_model_module": "@jupyter-widgets/output"
          }
        },
        "4c03722da86e4c719550d7e5588b1acb": {
          "model_module": "@jupyter-widgets/controls",
          "model_name": "SliderStyleModel",
          "model_module_version": "1.5.0",
          "state": {
            "_view_name": "StyleView",
            "handle_color": null,
            "_model_name": "SliderStyleModel",
            "description_width": "",
            "_view_module": "@jupyter-widgets/base",
            "_model_module_version": "1.5.0",
            "_view_count": null,
            "_view_module_version": "1.2.0",
            "_model_module": "@jupyter-widgets/controls"
          }
        },
        "9327020a0d0d42b5bb46d26b7893b0c6": {
          "model_module": "@jupyter-widgets/base",
          "model_name": "LayoutModel",
          "model_module_version": "1.2.0",
          "state": {
            "_view_name": "LayoutView",
            "grid_template_rows": null,
            "right": null,
            "justify_content": null,
            "_view_module": "@jupyter-widgets/base",
            "overflow": null,
            "_model_module_version": "1.2.0",
            "_view_count": null,
            "flex_flow": null,
            "width": null,
            "min_width": null,
            "border": null,
            "align_items": null,
            "bottom": null,
            "_model_module": "@jupyter-widgets/base",
            "top": null,
            "grid_column": null,
            "overflow_y": null,
            "overflow_x": null,
            "grid_auto_flow": null,
            "grid_area": null,
            "grid_template_columns": null,
            "flex": null,
            "_model_name": "LayoutModel",
            "justify_items": null,
            "grid_row": null,
            "max_height": null,
            "align_content": null,
            "visibility": null,
            "align_self": null,
            "height": null,
            "min_height": null,
            "padding": null,
            "grid_auto_rows": null,
            "grid_gap": null,
            "max_width": null,
            "order": null,
            "_view_module_version": "1.2.0",
            "grid_template_areas": null,
            "object_position": null,
            "object_fit": null,
            "grid_auto_columns": null,
            "margin": null,
            "display": null,
            "left": null
          }
        },
        "9c55573fa77f499891508c83aea20eae": {
          "model_module": "@jupyter-widgets/controls",
          "model_name": "SliderStyleModel",
          "model_module_version": "1.5.0",
          "state": {
            "_view_name": "StyleView",
            "handle_color": null,
            "_model_name": "SliderStyleModel",
            "description_width": "",
            "_view_module": "@jupyter-widgets/base",
            "_model_module_version": "1.5.0",
            "_view_count": null,
            "_view_module_version": "1.2.0",
            "_model_module": "@jupyter-widgets/controls"
          }
        },
        "912ae4092c154085ba36add3f490a310": {
          "model_module": "@jupyter-widgets/base",
          "model_name": "LayoutModel",
          "model_module_version": "1.2.0",
          "state": {
            "_view_name": "LayoutView",
            "grid_template_rows": null,
            "right": null,
            "justify_content": null,
            "_view_module": "@jupyter-widgets/base",
            "overflow": null,
            "_model_module_version": "1.2.0",
            "_view_count": null,
            "flex_flow": null,
            "width": null,
            "min_width": null,
            "border": null,
            "align_items": null,
            "bottom": null,
            "_model_module": "@jupyter-widgets/base",
            "top": null,
            "grid_column": null,
            "overflow_y": null,
            "overflow_x": null,
            "grid_auto_flow": null,
            "grid_area": null,
            "grid_template_columns": null,
            "flex": null,
            "_model_name": "LayoutModel",
            "justify_items": null,
            "grid_row": null,
            "max_height": null,
            "align_content": null,
            "visibility": null,
            "align_self": null,
            "height": null,
            "min_height": null,
            "padding": null,
            "grid_auto_rows": null,
            "grid_gap": null,
            "max_width": null,
            "order": null,
            "_view_module_version": "1.2.0",
            "grid_template_areas": null,
            "object_position": null,
            "object_fit": null,
            "grid_auto_columns": null,
            "margin": null,
            "display": null,
            "left": null
          }
        },
        "6fa0bde5e71441f9887da2c372922c98": {
          "model_module": "@jupyter-widgets/controls",
          "model_name": "ButtonStyleModel",
          "model_module_version": "1.5.0",
          "state": {
            "_view_name": "StyleView",
            "_model_name": "ButtonStyleModel",
            "_view_module": "@jupyter-widgets/base",
            "_model_module_version": "1.5.0",
            "_view_count": null,
            "button_color": null,
            "font_weight": "",
            "_view_module_version": "1.2.0",
            "_model_module": "@jupyter-widgets/controls"
          }
        },
        "8b79a6a6bdec45b3ad9d549be172f1ab": {
          "model_module": "@jupyter-widgets/base",
          "model_name": "LayoutModel",
          "model_module_version": "1.2.0",
          "state": {
            "_view_name": "LayoutView",
            "grid_template_rows": null,
            "right": null,
            "justify_content": null,
            "_view_module": "@jupyter-widgets/base",
            "overflow": null,
            "_model_module_version": "1.2.0",
            "_view_count": null,
            "flex_flow": null,
            "width": null,
            "min_width": null,
            "border": null,
            "align_items": null,
            "bottom": null,
            "_model_module": "@jupyter-widgets/base",
            "top": null,
            "grid_column": null,
            "overflow_y": null,
            "overflow_x": null,
            "grid_auto_flow": null,
            "grid_area": null,
            "grid_template_columns": null,
            "flex": null,
            "_model_name": "LayoutModel",
            "justify_items": null,
            "grid_row": null,
            "max_height": null,
            "align_content": null,
            "visibility": null,
            "align_self": null,
            "height": null,
            "min_height": null,
            "padding": null,
            "grid_auto_rows": null,
            "grid_gap": null,
            "max_width": null,
            "order": null,
            "_view_module_version": "1.2.0",
            "grid_template_areas": null,
            "object_position": null,
            "object_fit": null,
            "grid_auto_columns": null,
            "margin": null,
            "display": null,
            "left": null
          }
        },
        "ba47d03f573d4510991a76dbca71d9f9": {
          "model_module": "@jupyter-widgets/base",
          "model_name": "LayoutModel",
          "model_module_version": "1.2.0",
          "state": {
            "_view_name": "LayoutView",
            "grid_template_rows": null,
            "right": null,
            "justify_content": null,
            "_view_module": "@jupyter-widgets/base",
            "overflow": null,
            "_model_module_version": "1.2.0",
            "_view_count": null,
            "flex_flow": null,
            "width": null,
            "min_width": null,
            "border": null,
            "align_items": null,
            "bottom": null,
            "_model_module": "@jupyter-widgets/base",
            "top": null,
            "grid_column": null,
            "overflow_y": null,
            "overflow_x": null,
            "grid_auto_flow": null,
            "grid_area": null,
            "grid_template_columns": null,
            "flex": null,
            "_model_name": "LayoutModel",
            "justify_items": null,
            "grid_row": null,
            "max_height": null,
            "align_content": null,
            "visibility": null,
            "align_self": null,
            "height": null,
            "min_height": null,
            "padding": null,
            "grid_auto_rows": null,
            "grid_gap": null,
            "max_width": null,
            "order": null,
            "_view_module_version": "1.2.0",
            "grid_template_areas": null,
            "object_position": null,
            "object_fit": null,
            "grid_auto_columns": null,
            "margin": null,
            "display": null,
            "left": null
          }
        },
        "71a6781bcad043c3a5c1df082606e5dc": {
          "model_module": "@jupyter-widgets/controls",
          "model_name": "VBoxModel",
          "model_module_version": "1.5.0",
          "state": {
            "_view_name": "VBoxView",
            "_dom_classes": [
              "widget-interact"
            ],
            "_model_name": "VBoxModel",
            "_view_module": "@jupyter-widgets/controls",
            "_model_module_version": "1.5.0",
            "_view_count": null,
            "_view_module_version": "1.5.0",
            "box_style": "",
            "layout": "IPY_MODEL_4b55dcc3bdc64f0b85fff02f47549d33",
            "_model_module": "@jupyter-widgets/controls",
            "children": [
              "IPY_MODEL_8c77175112f040b3af0566fc1a84f323",
              "IPY_MODEL_eba598e317c94a65acf54b48c0ed0055",
              "IPY_MODEL_50d62fb2abfe4ae1baae0efc08f867f1",
              "IPY_MODEL_ab24ce929e9b43b8b58b93022faa4401"
            ]
          }
        },
        "4b55dcc3bdc64f0b85fff02f47549d33": {
          "model_module": "@jupyter-widgets/base",
          "model_name": "LayoutModel",
          "model_module_version": "1.2.0",
          "state": {
            "_view_name": "LayoutView",
            "grid_template_rows": null,
            "right": null,
            "justify_content": null,
            "_view_module": "@jupyter-widgets/base",
            "overflow": null,
            "_model_module_version": "1.2.0",
            "_view_count": null,
            "flex_flow": null,
            "width": null,
            "min_width": null,
            "border": null,
            "align_items": null,
            "bottom": null,
            "_model_module": "@jupyter-widgets/base",
            "top": null,
            "grid_column": null,
            "overflow_y": null,
            "overflow_x": null,
            "grid_auto_flow": null,
            "grid_area": null,
            "grid_template_columns": null,
            "flex": null,
            "_model_name": "LayoutModel",
            "justify_items": null,
            "grid_row": null,
            "max_height": null,
            "align_content": null,
            "visibility": null,
            "align_self": null,
            "height": null,
            "min_height": null,
            "padding": null,
            "grid_auto_rows": null,
            "grid_gap": null,
            "max_width": null,
            "order": null,
            "_view_module_version": "1.2.0",
            "grid_template_areas": null,
            "object_position": null,
            "object_fit": null,
            "grid_auto_columns": null,
            "margin": null,
            "display": null,
            "left": null
          }
        },
        "8c77175112f040b3af0566fc1a84f323": {
          "model_module": "@jupyter-widgets/controls",
          "model_name": "IntSliderModel",
          "model_module_version": "1.5.0",
          "state": {
            "_view_name": "IntSliderView",
            "style": "IPY_MODEL_71a727f9c9334a5a9e235630323be1a5",
            "_dom_classes": [],
            "description": "bianche",
            "step": 1,
            "_model_name": "IntSliderModel",
            "orientation": "horizontal",
            "max": 5,
            "_view_module": "@jupyter-widgets/controls",
            "_model_module_version": "1.5.0",
            "value": 2,
            "_view_count": null,
            "disabled": false,
            "_view_module_version": "1.5.0",
            "min": 1,
            "continuous_update": true,
            "readout_format": "d",
            "description_tooltip": null,
            "readout": true,
            "_model_module": "@jupyter-widgets/controls",
            "layout": "IPY_MODEL_79c5a770d471469eba06e871d454497e"
          }
        },
        "eba598e317c94a65acf54b48c0ed0055": {
          "model_module": "@jupyter-widgets/controls",
          "model_name": "IntSliderModel",
          "model_module_version": "1.5.0",
          "state": {
            "_view_name": "IntSliderView",
            "style": "IPY_MODEL_47025a100c5848b0a77aed2390cdb959",
            "_dom_classes": [],
            "description": "rosse",
            "step": 1,
            "_model_name": "IntSliderModel",
            "orientation": "horizontal",
            "max": 5,
            "_view_module": "@jupyter-widgets/controls",
            "_model_module_version": "1.5.0",
            "value": 3,
            "_view_count": null,
            "disabled": false,
            "_view_module_version": "1.5.0",
            "min": 1,
            "continuous_update": true,
            "readout_format": "d",
            "description_tooltip": null,
            "readout": true,
            "_model_module": "@jupyter-widgets/controls",
            "layout": "IPY_MODEL_fba299e40d314b0eb666260759f566dc"
          }
        },
        "50d62fb2abfe4ae1baae0efc08f867f1": {
          "model_module": "@jupyter-widgets/controls",
          "model_name": "ButtonModel",
          "model_module_version": "1.5.0",
          "state": {
            "_view_name": "ButtonView",
            "style": "IPY_MODEL_a8a3b4b3679c45f69426bd65867de1c1",
            "_dom_classes": [],
            "description": "Run Interact",
            "_model_name": "ButtonModel",
            "button_style": "",
            "_view_module": "@jupyter-widgets/controls",
            "_model_module_version": "1.5.0",
            "tooltip": "",
            "_view_count": null,
            "disabled": false,
            "_view_module_version": "1.5.0",
            "layout": "IPY_MODEL_962f6eb0570b4cd982ca956274dc4956",
            "_model_module": "@jupyter-widgets/controls",
            "icon": ""
          }
        },
        "ab24ce929e9b43b8b58b93022faa4401": {
          "model_module": "@jupyter-widgets/output",
          "model_name": "OutputModel",
          "model_module_version": "1.0.0",
          "state": {
            "_view_name": "OutputView",
            "msg_id": "",
            "_dom_classes": [],
            "_model_name": "OutputModel",
            "outputs": [],
            "_view_module": "@jupyter-widgets/output",
            "_model_module_version": "1.0.0",
            "_view_count": null,
            "_view_module_version": "1.0.0",
            "layout": "IPY_MODEL_f0cad909e49d485bb0d610ea1f52ed3f",
            "_model_module": "@jupyter-widgets/output"
          }
        },
        "71a727f9c9334a5a9e235630323be1a5": {
          "model_module": "@jupyter-widgets/controls",
          "model_name": "SliderStyleModel",
          "model_module_version": "1.5.0",
          "state": {
            "_view_name": "StyleView",
            "handle_color": null,
            "_model_name": "SliderStyleModel",
            "description_width": "",
            "_view_module": "@jupyter-widgets/base",
            "_model_module_version": "1.5.0",
            "_view_count": null,
            "_view_module_version": "1.2.0",
            "_model_module": "@jupyter-widgets/controls"
          }
        },
        "79c5a770d471469eba06e871d454497e": {
          "model_module": "@jupyter-widgets/base",
          "model_name": "LayoutModel",
          "model_module_version": "1.2.0",
          "state": {
            "_view_name": "LayoutView",
            "grid_template_rows": null,
            "right": null,
            "justify_content": null,
            "_view_module": "@jupyter-widgets/base",
            "overflow": null,
            "_model_module_version": "1.2.0",
            "_view_count": null,
            "flex_flow": null,
            "width": null,
            "min_width": null,
            "border": null,
            "align_items": null,
            "bottom": null,
            "_model_module": "@jupyter-widgets/base",
            "top": null,
            "grid_column": null,
            "overflow_y": null,
            "overflow_x": null,
            "grid_auto_flow": null,
            "grid_area": null,
            "grid_template_columns": null,
            "flex": null,
            "_model_name": "LayoutModel",
            "justify_items": null,
            "grid_row": null,
            "max_height": null,
            "align_content": null,
            "visibility": null,
            "align_self": null,
            "height": null,
            "min_height": null,
            "padding": null,
            "grid_auto_rows": null,
            "grid_gap": null,
            "max_width": null,
            "order": null,
            "_view_module_version": "1.2.0",
            "grid_template_areas": null,
            "object_position": null,
            "object_fit": null,
            "grid_auto_columns": null,
            "margin": null,
            "display": null,
            "left": null
          }
        },
        "47025a100c5848b0a77aed2390cdb959": {
          "model_module": "@jupyter-widgets/controls",
          "model_name": "SliderStyleModel",
          "model_module_version": "1.5.0",
          "state": {
            "_view_name": "StyleView",
            "handle_color": null,
            "_model_name": "SliderStyleModel",
            "description_width": "",
            "_view_module": "@jupyter-widgets/base",
            "_model_module_version": "1.5.0",
            "_view_count": null,
            "_view_module_version": "1.2.0",
            "_model_module": "@jupyter-widgets/controls"
          }
        },
        "fba299e40d314b0eb666260759f566dc": {
          "model_module": "@jupyter-widgets/base",
          "model_name": "LayoutModel",
          "model_module_version": "1.2.0",
          "state": {
            "_view_name": "LayoutView",
            "grid_template_rows": null,
            "right": null,
            "justify_content": null,
            "_view_module": "@jupyter-widgets/base",
            "overflow": null,
            "_model_module_version": "1.2.0",
            "_view_count": null,
            "flex_flow": null,
            "width": null,
            "min_width": null,
            "border": null,
            "align_items": null,
            "bottom": null,
            "_model_module": "@jupyter-widgets/base",
            "top": null,
            "grid_column": null,
            "overflow_y": null,
            "overflow_x": null,
            "grid_auto_flow": null,
            "grid_area": null,
            "grid_template_columns": null,
            "flex": null,
            "_model_name": "LayoutModel",
            "justify_items": null,
            "grid_row": null,
            "max_height": null,
            "align_content": null,
            "visibility": null,
            "align_self": null,
            "height": null,
            "min_height": null,
            "padding": null,
            "grid_auto_rows": null,
            "grid_gap": null,
            "max_width": null,
            "order": null,
            "_view_module_version": "1.2.0",
            "grid_template_areas": null,
            "object_position": null,
            "object_fit": null,
            "grid_auto_columns": null,
            "margin": null,
            "display": null,
            "left": null
          }
        },
        "a8a3b4b3679c45f69426bd65867de1c1": {
          "model_module": "@jupyter-widgets/controls",
          "model_name": "ButtonStyleModel",
          "model_module_version": "1.5.0",
          "state": {
            "_view_name": "StyleView",
            "_model_name": "ButtonStyleModel",
            "_view_module": "@jupyter-widgets/base",
            "_model_module_version": "1.5.0",
            "_view_count": null,
            "button_color": null,
            "font_weight": "",
            "_view_module_version": "1.2.0",
            "_model_module": "@jupyter-widgets/controls"
          }
        },
        "962f6eb0570b4cd982ca956274dc4956": {
          "model_module": "@jupyter-widgets/base",
          "model_name": "LayoutModel",
          "model_module_version": "1.2.0",
          "state": {
            "_view_name": "LayoutView",
            "grid_template_rows": null,
            "right": null,
            "justify_content": null,
            "_view_module": "@jupyter-widgets/base",
            "overflow": null,
            "_model_module_version": "1.2.0",
            "_view_count": null,
            "flex_flow": null,
            "width": null,
            "min_width": null,
            "border": null,
            "align_items": null,
            "bottom": null,
            "_model_module": "@jupyter-widgets/base",
            "top": null,
            "grid_column": null,
            "overflow_y": null,
            "overflow_x": null,
            "grid_auto_flow": null,
            "grid_area": null,
            "grid_template_columns": null,
            "flex": null,
            "_model_name": "LayoutModel",
            "justify_items": null,
            "grid_row": null,
            "max_height": null,
            "align_content": null,
            "visibility": null,
            "align_self": null,
            "height": null,
            "min_height": null,
            "padding": null,
            "grid_auto_rows": null,
            "grid_gap": null,
            "max_width": null,
            "order": null,
            "_view_module_version": "1.2.0",
            "grid_template_areas": null,
            "object_position": null,
            "object_fit": null,
            "grid_auto_columns": null,
            "margin": null,
            "display": null,
            "left": null
          }
        },
        "f0cad909e49d485bb0d610ea1f52ed3f": {
          "model_module": "@jupyter-widgets/base",
          "model_name": "LayoutModel",
          "model_module_version": "1.2.0",
          "state": {
            "_view_name": "LayoutView",
            "grid_template_rows": null,
            "right": null,
            "justify_content": null,
            "_view_module": "@jupyter-widgets/base",
            "overflow": null,
            "_model_module_version": "1.2.0",
            "_view_count": null,
            "flex_flow": null,
            "width": null,
            "min_width": null,
            "border": null,
            "align_items": null,
            "bottom": null,
            "_model_module": "@jupyter-widgets/base",
            "top": null,
            "grid_column": null,
            "overflow_y": null,
            "overflow_x": null,
            "grid_auto_flow": null,
            "grid_area": null,
            "grid_template_columns": null,
            "flex": null,
            "_model_name": "LayoutModel",
            "justify_items": null,
            "grid_row": null,
            "max_height": null,
            "align_content": null,
            "visibility": null,
            "align_self": null,
            "height": null,
            "min_height": null,
            "padding": null,
            "grid_auto_rows": null,
            "grid_gap": null,
            "max_width": null,
            "order": null,
            "_view_module_version": "1.2.0",
            "grid_template_areas": null,
            "object_position": null,
            "object_fit": null,
            "grid_auto_columns": null,
            "margin": null,
            "display": null,
            "left": null
          }
        },
        "7d12969d7b3f4d93807778cce119529c": {
          "model_module": "@jupyter-widgets/controls",
          "model_name": "VBoxModel",
          "model_module_version": "1.5.0",
          "state": {
            "_view_name": "VBoxView",
            "_dom_classes": [
              "widget-interact"
            ],
            "_model_name": "VBoxModel",
            "_view_module": "@jupyter-widgets/controls",
            "_model_module_version": "1.5.0",
            "_view_count": null,
            "_view_module_version": "1.5.0",
            "box_style": "",
            "layout": "IPY_MODEL_81867238509e409cb576d17c64460754",
            "_model_module": "@jupyter-widgets/controls",
            "children": [
              "IPY_MODEL_d56ed250ca334f6ebe385a1f8e577f2a",
              "IPY_MODEL_af5e756aed0e4facb08bf4d09c841c0a",
              "IPY_MODEL_c791147fd7964a969820c26c102bfbca"
            ]
          }
        },
        "81867238509e409cb576d17c64460754": {
          "model_module": "@jupyter-widgets/base",
          "model_name": "LayoutModel",
          "model_module_version": "1.2.0",
          "state": {
            "_view_name": "LayoutView",
            "grid_template_rows": null,
            "right": null,
            "justify_content": null,
            "_view_module": "@jupyter-widgets/base",
            "overflow": null,
            "_model_module_version": "1.2.0",
            "_view_count": null,
            "flex_flow": null,
            "width": null,
            "min_width": null,
            "border": null,
            "align_items": null,
            "bottom": null,
            "_model_module": "@jupyter-widgets/base",
            "top": null,
            "grid_column": null,
            "overflow_y": null,
            "overflow_x": null,
            "grid_auto_flow": null,
            "grid_area": null,
            "grid_template_columns": null,
            "flex": null,
            "_model_name": "LayoutModel",
            "justify_items": null,
            "grid_row": null,
            "max_height": null,
            "align_content": null,
            "visibility": null,
            "align_self": null,
            "height": null,
            "min_height": null,
            "padding": null,
            "grid_auto_rows": null,
            "grid_gap": null,
            "max_width": null,
            "order": null,
            "_view_module_version": "1.2.0",
            "grid_template_areas": null,
            "object_position": null,
            "object_fit": null,
            "grid_auto_columns": null,
            "margin": null,
            "display": null,
            "left": null
          }
        },
        "d56ed250ca334f6ebe385a1f8e577f2a": {
          "model_module": "@jupyter-widgets/controls",
          "model_name": "IntSliderModel",
          "model_module_version": "1.5.0",
          "state": {
            "_view_name": "IntSliderView",
            "style": "IPY_MODEL_4ff15400c769460c936d940960bec69f",
            "_dom_classes": [],
            "description": "tempo",
            "step": 1,
            "_model_name": "IntSliderModel",
            "orientation": "horizontal",
            "max": 20,
            "_view_module": "@jupyter-widgets/controls",
            "_model_module_version": "1.5.0",
            "value": 10,
            "_view_count": null,
            "disabled": false,
            "_view_module_version": "1.5.0",
            "min": 1,
            "continuous_update": true,
            "readout_format": "d",
            "description_tooltip": null,
            "readout": true,
            "_model_module": "@jupyter-widgets/controls",
            "layout": "IPY_MODEL_e7459a4d53024de39c294432fcd2ff1f"
          }
        },
        "af5e756aed0e4facb08bf4d09c841c0a": {
          "model_module": "@jupyter-widgets/controls",
          "model_name": "ButtonModel",
          "model_module_version": "1.5.0",
          "state": {
            "_view_name": "ButtonView",
            "style": "IPY_MODEL_83be48063d0945aeb8252c32a9cab2c7",
            "_dom_classes": [],
            "description": "Run Interact",
            "_model_name": "ButtonModel",
            "button_style": "",
            "_view_module": "@jupyter-widgets/controls",
            "_model_module_version": "1.5.0",
            "tooltip": "",
            "_view_count": null,
            "disabled": false,
            "_view_module_version": "1.5.0",
            "layout": "IPY_MODEL_515eb3b703e9406997a3694b16e812ee",
            "_model_module": "@jupyter-widgets/controls",
            "icon": ""
          }
        },
        "c791147fd7964a969820c26c102bfbca": {
          "model_module": "@jupyter-widgets/output",
          "model_name": "OutputModel",
          "model_module_version": "1.0.0",
          "state": {
            "_view_name": "OutputView",
            "msg_id": "",
            "_dom_classes": [],
            "_model_name": "OutputModel",
            "outputs": [],
            "_view_module": "@jupyter-widgets/output",
            "_model_module_version": "1.0.0",
            "_view_count": null,
            "_view_module_version": "1.0.0",
            "layout": "IPY_MODEL_6ace9aaff94d446fa1d35d991ce0cbf7",
            "_model_module": "@jupyter-widgets/output"
          }
        },
        "4ff15400c769460c936d940960bec69f": {
          "model_module": "@jupyter-widgets/controls",
          "model_name": "SliderStyleModel",
          "model_module_version": "1.5.0",
          "state": {
            "_view_name": "StyleView",
            "handle_color": null,
            "_model_name": "SliderStyleModel",
            "description_width": "",
            "_view_module": "@jupyter-widgets/base",
            "_model_module_version": "1.5.0",
            "_view_count": null,
            "_view_module_version": "1.2.0",
            "_model_module": "@jupyter-widgets/controls"
          }
        },
        "e7459a4d53024de39c294432fcd2ff1f": {
          "model_module": "@jupyter-widgets/base",
          "model_name": "LayoutModel",
          "model_module_version": "1.2.0",
          "state": {
            "_view_name": "LayoutView",
            "grid_template_rows": null,
            "right": null,
            "justify_content": null,
            "_view_module": "@jupyter-widgets/base",
            "overflow": null,
            "_model_module_version": "1.2.0",
            "_view_count": null,
            "flex_flow": null,
            "width": null,
            "min_width": null,
            "border": null,
            "align_items": null,
            "bottom": null,
            "_model_module": "@jupyter-widgets/base",
            "top": null,
            "grid_column": null,
            "overflow_y": null,
            "overflow_x": null,
            "grid_auto_flow": null,
            "grid_area": null,
            "grid_template_columns": null,
            "flex": null,
            "_model_name": "LayoutModel",
            "justify_items": null,
            "grid_row": null,
            "max_height": null,
            "align_content": null,
            "visibility": null,
            "align_self": null,
            "height": null,
            "min_height": null,
            "padding": null,
            "grid_auto_rows": null,
            "grid_gap": null,
            "max_width": null,
            "order": null,
            "_view_module_version": "1.2.0",
            "grid_template_areas": null,
            "object_position": null,
            "object_fit": null,
            "grid_auto_columns": null,
            "margin": null,
            "display": null,
            "left": null
          }
        },
        "83be48063d0945aeb8252c32a9cab2c7": {
          "model_module": "@jupyter-widgets/controls",
          "model_name": "ButtonStyleModel",
          "model_module_version": "1.5.0",
          "state": {
            "_view_name": "StyleView",
            "_model_name": "ButtonStyleModel",
            "_view_module": "@jupyter-widgets/base",
            "_model_module_version": "1.5.0",
            "_view_count": null,
            "button_color": null,
            "font_weight": "",
            "_view_module_version": "1.2.0",
            "_model_module": "@jupyter-widgets/controls"
          }
        },
        "515eb3b703e9406997a3694b16e812ee": {
          "model_module": "@jupyter-widgets/base",
          "model_name": "LayoutModel",
          "model_module_version": "1.2.0",
          "state": {
            "_view_name": "LayoutView",
            "grid_template_rows": null,
            "right": null,
            "justify_content": null,
            "_view_module": "@jupyter-widgets/base",
            "overflow": null,
            "_model_module_version": "1.2.0",
            "_view_count": null,
            "flex_flow": null,
            "width": null,
            "min_width": null,
            "border": null,
            "align_items": null,
            "bottom": null,
            "_model_module": "@jupyter-widgets/base",
            "top": null,
            "grid_column": null,
            "overflow_y": null,
            "overflow_x": null,
            "grid_auto_flow": null,
            "grid_area": null,
            "grid_template_columns": null,
            "flex": null,
            "_model_name": "LayoutModel",
            "justify_items": null,
            "grid_row": null,
            "max_height": null,
            "align_content": null,
            "visibility": null,
            "align_self": null,
            "height": null,
            "min_height": null,
            "padding": null,
            "grid_auto_rows": null,
            "grid_gap": null,
            "max_width": null,
            "order": null,
            "_view_module_version": "1.2.0",
            "grid_template_areas": null,
            "object_position": null,
            "object_fit": null,
            "grid_auto_columns": null,
            "margin": null,
            "display": null,
            "left": null
          }
        },
        "6ace9aaff94d446fa1d35d991ce0cbf7": {
          "model_module": "@jupyter-widgets/base",
          "model_name": "LayoutModel",
          "model_module_version": "1.2.0",
          "state": {
            "_view_name": "LayoutView",
            "grid_template_rows": null,
            "right": null,
            "justify_content": null,
            "_view_module": "@jupyter-widgets/base",
            "overflow": null,
            "_model_module_version": "1.2.0",
            "_view_count": null,
            "flex_flow": null,
            "width": null,
            "min_width": null,
            "border": null,
            "align_items": null,
            "bottom": null,
            "_model_module": "@jupyter-widgets/base",
            "top": null,
            "grid_column": null,
            "overflow_y": null,
            "overflow_x": null,
            "grid_auto_flow": null,
            "grid_area": null,
            "grid_template_columns": null,
            "flex": null,
            "_model_name": "LayoutModel",
            "justify_items": null,
            "grid_row": null,
            "max_height": null,
            "align_content": null,
            "visibility": null,
            "align_self": null,
            "height": null,
            "min_height": null,
            "padding": null,
            "grid_auto_rows": null,
            "grid_gap": null,
            "max_width": null,
            "order": null,
            "_view_module_version": "1.2.0",
            "grid_template_areas": null,
            "object_position": null,
            "object_fit": null,
            "grid_auto_columns": null,
            "margin": null,
            "display": null,
            "left": null
          }
        },
        "d9d052170dbf482399cb0ac3b490ec74": {
          "model_module": "@jupyter-widgets/controls",
          "model_name": "VBoxModel",
          "model_module_version": "1.5.0",
          "state": {
            "_view_name": "VBoxView",
            "_dom_classes": [
              "widget-interact"
            ],
            "_model_name": "VBoxModel",
            "_view_module": "@jupyter-widgets/controls",
            "_model_module_version": "1.5.0",
            "_view_count": null,
            "_view_module_version": "1.5.0",
            "box_style": "",
            "layout": "IPY_MODEL_cfa244e81b0448d399ae19f98160ee10",
            "_model_module": "@jupyter-widgets/controls",
            "children": [
              "IPY_MODEL_1024edd4c56248358596fd7b3a92a92f",
              "IPY_MODEL_fb8fca60892047f89946d8092369e1c4",
              "IPY_MODEL_7043a2cd2d924899a7543fd776d52386",
              "IPY_MODEL_b9d0e11896c342869ffcd658da85fc2c"
            ]
          }
        },
        "cfa244e81b0448d399ae19f98160ee10": {
          "model_module": "@jupyter-widgets/base",
          "model_name": "LayoutModel",
          "model_module_version": "1.2.0",
          "state": {
            "_view_name": "LayoutView",
            "grid_template_rows": null,
            "right": null,
            "justify_content": null,
            "_view_module": "@jupyter-widgets/base",
            "overflow": null,
            "_model_module_version": "1.2.0",
            "_view_count": null,
            "flex_flow": null,
            "width": null,
            "min_width": null,
            "border": null,
            "align_items": null,
            "bottom": null,
            "_model_module": "@jupyter-widgets/base",
            "top": null,
            "grid_column": null,
            "overflow_y": null,
            "overflow_x": null,
            "grid_auto_flow": null,
            "grid_area": null,
            "grid_template_columns": null,
            "flex": null,
            "_model_name": "LayoutModel",
            "justify_items": null,
            "grid_row": null,
            "max_height": null,
            "align_content": null,
            "visibility": null,
            "align_self": null,
            "height": null,
            "min_height": null,
            "padding": null,
            "grid_auto_rows": null,
            "grid_gap": null,
            "max_width": null,
            "order": null,
            "_view_module_version": "1.2.0",
            "grid_template_areas": null,
            "object_position": null,
            "object_fit": null,
            "grid_auto_columns": null,
            "margin": null,
            "display": null,
            "left": null
          }
        },
        "1024edd4c56248358596fd7b3a92a92f": {
          "model_module": "@jupyter-widgets/controls",
          "model_name": "IntSliderModel",
          "model_module_version": "1.5.0",
          "state": {
            "_view_name": "IntSliderView",
            "style": "IPY_MODEL_4fb59cc2b263447c8d1b24962643c80f",
            "_dom_classes": [],
            "description": "a",
            "step": 1,
            "_model_name": "IntSliderModel",
            "orientation": "horizontal",
            "max": 10,
            "_view_module": "@jupyter-widgets/controls",
            "_model_module_version": "1.5.0",
            "value": 4,
            "_view_count": null,
            "disabled": false,
            "_view_module_version": "1.5.0",
            "min": 0,
            "continuous_update": true,
            "readout_format": "d",
            "description_tooltip": null,
            "readout": true,
            "_model_module": "@jupyter-widgets/controls",
            "layout": "IPY_MODEL_0d7c4638b8794951baf701509fc48932"
          }
        },
        "fb8fca60892047f89946d8092369e1c4": {
          "model_module": "@jupyter-widgets/controls",
          "model_name": "IntSliderModel",
          "model_module_version": "1.5.0",
          "state": {
            "_view_name": "IntSliderView",
            "style": "IPY_MODEL_d936977962d34fbf80010c1cb564fa89",
            "_dom_classes": [],
            "description": "b",
            "step": 1,
            "_model_name": "IntSliderModel",
            "orientation": "horizontal",
            "max": 10,
            "_view_module": "@jupyter-widgets/controls",
            "_model_module_version": "1.5.0",
            "value": 6,
            "_view_count": null,
            "disabled": false,
            "_view_module_version": "1.5.0",
            "min": 0,
            "continuous_update": true,
            "readout_format": "d",
            "description_tooltip": null,
            "readout": true,
            "_model_module": "@jupyter-widgets/controls",
            "layout": "IPY_MODEL_efcc34e2516d4f8e931002dd7ba8cb2f"
          }
        },
        "7043a2cd2d924899a7543fd776d52386": {
          "model_module": "@jupyter-widgets/controls",
          "model_name": "ButtonModel",
          "model_module_version": "1.5.0",
          "state": {
            "_view_name": "ButtonView",
            "style": "IPY_MODEL_d8cbf6633fc54ce4bac53c6c83416827",
            "_dom_classes": [],
            "description": "Run Interact",
            "_model_name": "ButtonModel",
            "button_style": "",
            "_view_module": "@jupyter-widgets/controls",
            "_model_module_version": "1.5.0",
            "tooltip": "",
            "_view_count": null,
            "disabled": false,
            "_view_module_version": "1.5.0",
            "layout": "IPY_MODEL_cc40d1e67ec14c03a44e6dbb60c40dd7",
            "_model_module": "@jupyter-widgets/controls",
            "icon": ""
          }
        },
        "b9d0e11896c342869ffcd658da85fc2c": {
          "model_module": "@jupyter-widgets/output",
          "model_name": "OutputModel",
          "model_module_version": "1.0.0",
          "state": {
            "_view_name": "OutputView",
            "msg_id": "",
            "_dom_classes": [],
            "_model_name": "OutputModel",
            "outputs": [],
            "_view_module": "@jupyter-widgets/output",
            "_model_module_version": "1.0.0",
            "_view_count": null,
            "_view_module_version": "1.0.0",
            "layout": "IPY_MODEL_38082d0dd7f844829d2138fcd570bc8f",
            "_model_module": "@jupyter-widgets/output"
          }
        },
        "4fb59cc2b263447c8d1b24962643c80f": {
          "model_module": "@jupyter-widgets/controls",
          "model_name": "SliderStyleModel",
          "model_module_version": "1.5.0",
          "state": {
            "_view_name": "StyleView",
            "handle_color": null,
            "_model_name": "SliderStyleModel",
            "description_width": "",
            "_view_module": "@jupyter-widgets/base",
            "_model_module_version": "1.5.0",
            "_view_count": null,
            "_view_module_version": "1.2.0",
            "_model_module": "@jupyter-widgets/controls"
          }
        },
        "0d7c4638b8794951baf701509fc48932": {
          "model_module": "@jupyter-widgets/base",
          "model_name": "LayoutModel",
          "model_module_version": "1.2.0",
          "state": {
            "_view_name": "LayoutView",
            "grid_template_rows": null,
            "right": null,
            "justify_content": null,
            "_view_module": "@jupyter-widgets/base",
            "overflow": null,
            "_model_module_version": "1.2.0",
            "_view_count": null,
            "flex_flow": null,
            "width": null,
            "min_width": null,
            "border": null,
            "align_items": null,
            "bottom": null,
            "_model_module": "@jupyter-widgets/base",
            "top": null,
            "grid_column": null,
            "overflow_y": null,
            "overflow_x": null,
            "grid_auto_flow": null,
            "grid_area": null,
            "grid_template_columns": null,
            "flex": null,
            "_model_name": "LayoutModel",
            "justify_items": null,
            "grid_row": null,
            "max_height": null,
            "align_content": null,
            "visibility": null,
            "align_self": null,
            "height": null,
            "min_height": null,
            "padding": null,
            "grid_auto_rows": null,
            "grid_gap": null,
            "max_width": null,
            "order": null,
            "_view_module_version": "1.2.0",
            "grid_template_areas": null,
            "object_position": null,
            "object_fit": null,
            "grid_auto_columns": null,
            "margin": null,
            "display": null,
            "left": null
          }
        },
        "d936977962d34fbf80010c1cb564fa89": {
          "model_module": "@jupyter-widgets/controls",
          "model_name": "SliderStyleModel",
          "model_module_version": "1.5.0",
          "state": {
            "_view_name": "StyleView",
            "handle_color": null,
            "_model_name": "SliderStyleModel",
            "description_width": "",
            "_view_module": "@jupyter-widgets/base",
            "_model_module_version": "1.5.0",
            "_view_count": null,
            "_view_module_version": "1.2.0",
            "_model_module": "@jupyter-widgets/controls"
          }
        },
        "efcc34e2516d4f8e931002dd7ba8cb2f": {
          "model_module": "@jupyter-widgets/base",
          "model_name": "LayoutModel",
          "model_module_version": "1.2.0",
          "state": {
            "_view_name": "LayoutView",
            "grid_template_rows": null,
            "right": null,
            "justify_content": null,
            "_view_module": "@jupyter-widgets/base",
            "overflow": null,
            "_model_module_version": "1.2.0",
            "_view_count": null,
            "flex_flow": null,
            "width": null,
            "min_width": null,
            "border": null,
            "align_items": null,
            "bottom": null,
            "_model_module": "@jupyter-widgets/base",
            "top": null,
            "grid_column": null,
            "overflow_y": null,
            "overflow_x": null,
            "grid_auto_flow": null,
            "grid_area": null,
            "grid_template_columns": null,
            "flex": null,
            "_model_name": "LayoutModel",
            "justify_items": null,
            "grid_row": null,
            "max_height": null,
            "align_content": null,
            "visibility": null,
            "align_self": null,
            "height": null,
            "min_height": null,
            "padding": null,
            "grid_auto_rows": null,
            "grid_gap": null,
            "max_width": null,
            "order": null,
            "_view_module_version": "1.2.0",
            "grid_template_areas": null,
            "object_position": null,
            "object_fit": null,
            "grid_auto_columns": null,
            "margin": null,
            "display": null,
            "left": null
          }
        },
        "d8cbf6633fc54ce4bac53c6c83416827": {
          "model_module": "@jupyter-widgets/controls",
          "model_name": "ButtonStyleModel",
          "model_module_version": "1.5.0",
          "state": {
            "_view_name": "StyleView",
            "_model_name": "ButtonStyleModel",
            "_view_module": "@jupyter-widgets/base",
            "_model_module_version": "1.5.0",
            "_view_count": null,
            "button_color": null,
            "font_weight": "",
            "_view_module_version": "1.2.0",
            "_model_module": "@jupyter-widgets/controls"
          }
        },
        "cc40d1e67ec14c03a44e6dbb60c40dd7": {
          "model_module": "@jupyter-widgets/base",
          "model_name": "LayoutModel",
          "model_module_version": "1.2.0",
          "state": {
            "_view_name": "LayoutView",
            "grid_template_rows": null,
            "right": null,
            "justify_content": null,
            "_view_module": "@jupyter-widgets/base",
            "overflow": null,
            "_model_module_version": "1.2.0",
            "_view_count": null,
            "flex_flow": null,
            "width": null,
            "min_width": null,
            "border": null,
            "align_items": null,
            "bottom": null,
            "_model_module": "@jupyter-widgets/base",
            "top": null,
            "grid_column": null,
            "overflow_y": null,
            "overflow_x": null,
            "grid_auto_flow": null,
            "grid_area": null,
            "grid_template_columns": null,
            "flex": null,
            "_model_name": "LayoutModel",
            "justify_items": null,
            "grid_row": null,
            "max_height": null,
            "align_content": null,
            "visibility": null,
            "align_self": null,
            "height": null,
            "min_height": null,
            "padding": null,
            "grid_auto_rows": null,
            "grid_gap": null,
            "max_width": null,
            "order": null,
            "_view_module_version": "1.2.0",
            "grid_template_areas": null,
            "object_position": null,
            "object_fit": null,
            "grid_auto_columns": null,
            "margin": null,
            "display": null,
            "left": null
          }
        },
        "38082d0dd7f844829d2138fcd570bc8f": {
          "model_module": "@jupyter-widgets/base",
          "model_name": "LayoutModel",
          "model_module_version": "1.2.0",
          "state": {
            "_view_name": "LayoutView",
            "grid_template_rows": null,
            "right": null,
            "justify_content": null,
            "_view_module": "@jupyter-widgets/base",
            "overflow": null,
            "_model_module_version": "1.2.0",
            "_view_count": null,
            "flex_flow": null,
            "width": null,
            "min_width": null,
            "border": null,
            "align_items": null,
            "bottom": null,
            "_model_module": "@jupyter-widgets/base",
            "top": null,
            "grid_column": null,
            "overflow_y": null,
            "overflow_x": null,
            "grid_auto_flow": null,
            "grid_area": null,
            "grid_template_columns": null,
            "flex": null,
            "_model_name": "LayoutModel",
            "justify_items": null,
            "grid_row": null,
            "max_height": null,
            "align_content": null,
            "visibility": null,
            "align_self": null,
            "height": null,
            "min_height": null,
            "padding": null,
            "grid_auto_rows": null,
            "grid_gap": null,
            "max_width": null,
            "order": null,
            "_view_module_version": "1.2.0",
            "grid_template_areas": null,
            "object_position": null,
            "object_fit": null,
            "grid_auto_columns": null,
            "margin": null,
            "display": null,
            "left": null
          }
        },
        "8ac7b36664804a099ec2510ca46aa30a": {
          "model_module": "@jupyter-widgets/controls",
          "model_name": "VBoxModel",
          "model_module_version": "1.5.0",
          "state": {
            "_view_name": "VBoxView",
            "_dom_classes": [
              "widget-interact"
            ],
            "_model_name": "VBoxModel",
            "_view_module": "@jupyter-widgets/controls",
            "_model_module_version": "1.5.0",
            "_view_count": null,
            "_view_module_version": "1.5.0",
            "box_style": "",
            "layout": "IPY_MODEL_c497bd6228bd4efa91ab9979b09eac27",
            "_model_module": "@jupyter-widgets/controls",
            "children": [
              "IPY_MODEL_80f4e888cb6e4645b3aeca45d545578b",
              "IPY_MODEL_cb2ff0a3490d402db2a0611b9f53b7c6",
              "IPY_MODEL_c028e540602b4fd3ac7170c5467fec8b"
            ]
          }
        },
        "c497bd6228bd4efa91ab9979b09eac27": {
          "model_module": "@jupyter-widgets/base",
          "model_name": "LayoutModel",
          "model_module_version": "1.2.0",
          "state": {
            "_view_name": "LayoutView",
            "grid_template_rows": null,
            "right": null,
            "justify_content": null,
            "_view_module": "@jupyter-widgets/base",
            "overflow": null,
            "_model_module_version": "1.2.0",
            "_view_count": null,
            "flex_flow": null,
            "width": null,
            "min_width": null,
            "border": null,
            "align_items": null,
            "bottom": null,
            "_model_module": "@jupyter-widgets/base",
            "top": null,
            "grid_column": null,
            "overflow_y": null,
            "overflow_x": null,
            "grid_auto_flow": null,
            "grid_area": null,
            "grid_template_columns": null,
            "flex": null,
            "_model_name": "LayoutModel",
            "justify_items": null,
            "grid_row": null,
            "max_height": null,
            "align_content": null,
            "visibility": null,
            "align_self": null,
            "height": null,
            "min_height": null,
            "padding": null,
            "grid_auto_rows": null,
            "grid_gap": null,
            "max_width": null,
            "order": null,
            "_view_module_version": "1.2.0",
            "grid_template_areas": null,
            "object_position": null,
            "object_fit": null,
            "grid_auto_columns": null,
            "margin": null,
            "display": null,
            "left": null
          }
        },
        "80f4e888cb6e4645b3aeca45d545578b": {
          "model_module": "@jupyter-widgets/controls",
          "model_name": "IntSliderModel",
          "model_module_version": "1.5.0",
          "state": {
            "_view_name": "IntSliderView",
            "style": "IPY_MODEL_e46463527ed045a5baeb689a51236c32",
            "_dom_classes": [],
            "description": "ore",
            "step": 1,
            "_model_name": "IntSliderModel",
            "orientation": "horizontal",
            "max": 72,
            "_view_module": "@jupyter-widgets/controls",
            "_model_module_version": "1.5.0",
            "value": 3,
            "_view_count": null,
            "disabled": false,
            "_view_module_version": "1.5.0",
            "min": 0,
            "continuous_update": true,
            "readout_format": "d",
            "description_tooltip": null,
            "readout": true,
            "_model_module": "@jupyter-widgets/controls",
            "layout": "IPY_MODEL_1fcbe10b0bfb4a6eab899b91662a21cd"
          }
        },
        "cb2ff0a3490d402db2a0611b9f53b7c6": {
          "model_module": "@jupyter-widgets/controls",
          "model_name": "ButtonModel",
          "model_module_version": "1.5.0",
          "state": {
            "_view_name": "ButtonView",
            "style": "IPY_MODEL_828a52751d2a4664a5ce5cc0270f773c",
            "_dom_classes": [],
            "description": "Run Interact",
            "_model_name": "ButtonModel",
            "button_style": "",
            "_view_module": "@jupyter-widgets/controls",
            "_model_module_version": "1.5.0",
            "tooltip": "",
            "_view_count": null,
            "disabled": false,
            "_view_module_version": "1.5.0",
            "layout": "IPY_MODEL_024675bb28494288a3328d301b8ecd0a",
            "_model_module": "@jupyter-widgets/controls",
            "icon": ""
          }
        },
        "c028e540602b4fd3ac7170c5467fec8b": {
          "model_module": "@jupyter-widgets/output",
          "model_name": "OutputModel",
          "model_module_version": "1.0.0",
          "state": {
            "_view_name": "OutputView",
            "msg_id": "",
            "_dom_classes": [],
            "_model_name": "OutputModel",
            "outputs": [],
            "_view_module": "@jupyter-widgets/output",
            "_model_module_version": "1.0.0",
            "_view_count": null,
            "_view_module_version": "1.0.0",
            "layout": "IPY_MODEL_012f5c484df849cd93e65e2b2b7074af",
            "_model_module": "@jupyter-widgets/output"
          }
        },
        "e46463527ed045a5baeb689a51236c32": {
          "model_module": "@jupyter-widgets/controls",
          "model_name": "SliderStyleModel",
          "model_module_version": "1.5.0",
          "state": {
            "_view_name": "StyleView",
            "handle_color": null,
            "_model_name": "SliderStyleModel",
            "description_width": "",
            "_view_module": "@jupyter-widgets/base",
            "_model_module_version": "1.5.0",
            "_view_count": null,
            "_view_module_version": "1.2.0",
            "_model_module": "@jupyter-widgets/controls"
          }
        },
        "1fcbe10b0bfb4a6eab899b91662a21cd": {
          "model_module": "@jupyter-widgets/base",
          "model_name": "LayoutModel",
          "model_module_version": "1.2.0",
          "state": {
            "_view_name": "LayoutView",
            "grid_template_rows": null,
            "right": null,
            "justify_content": null,
            "_view_module": "@jupyter-widgets/base",
            "overflow": null,
            "_model_module_version": "1.2.0",
            "_view_count": null,
            "flex_flow": null,
            "width": null,
            "min_width": null,
            "border": null,
            "align_items": null,
            "bottom": null,
            "_model_module": "@jupyter-widgets/base",
            "top": null,
            "grid_column": null,
            "overflow_y": null,
            "overflow_x": null,
            "grid_auto_flow": null,
            "grid_area": null,
            "grid_template_columns": null,
            "flex": null,
            "_model_name": "LayoutModel",
            "justify_items": null,
            "grid_row": null,
            "max_height": null,
            "align_content": null,
            "visibility": null,
            "align_self": null,
            "height": null,
            "min_height": null,
            "padding": null,
            "grid_auto_rows": null,
            "grid_gap": null,
            "max_width": null,
            "order": null,
            "_view_module_version": "1.2.0",
            "grid_template_areas": null,
            "object_position": null,
            "object_fit": null,
            "grid_auto_columns": null,
            "margin": null,
            "display": null,
            "left": null
          }
        },
        "828a52751d2a4664a5ce5cc0270f773c": {
          "model_module": "@jupyter-widgets/controls",
          "model_name": "ButtonStyleModel",
          "model_module_version": "1.5.0",
          "state": {
            "_view_name": "StyleView",
            "_model_name": "ButtonStyleModel",
            "_view_module": "@jupyter-widgets/base",
            "_model_module_version": "1.5.0",
            "_view_count": null,
            "button_color": null,
            "font_weight": "",
            "_view_module_version": "1.2.0",
            "_model_module": "@jupyter-widgets/controls"
          }
        },
        "024675bb28494288a3328d301b8ecd0a": {
          "model_module": "@jupyter-widgets/base",
          "model_name": "LayoutModel",
          "model_module_version": "1.2.0",
          "state": {
            "_view_name": "LayoutView",
            "grid_template_rows": null,
            "right": null,
            "justify_content": null,
            "_view_module": "@jupyter-widgets/base",
            "overflow": null,
            "_model_module_version": "1.2.0",
            "_view_count": null,
            "flex_flow": null,
            "width": null,
            "min_width": null,
            "border": null,
            "align_items": null,
            "bottom": null,
            "_model_module": "@jupyter-widgets/base",
            "top": null,
            "grid_column": null,
            "overflow_y": null,
            "overflow_x": null,
            "grid_auto_flow": null,
            "grid_area": null,
            "grid_template_columns": null,
            "flex": null,
            "_model_name": "LayoutModel",
            "justify_items": null,
            "grid_row": null,
            "max_height": null,
            "align_content": null,
            "visibility": null,
            "align_self": null,
            "height": null,
            "min_height": null,
            "padding": null,
            "grid_auto_rows": null,
            "grid_gap": null,
            "max_width": null,
            "order": null,
            "_view_module_version": "1.2.0",
            "grid_template_areas": null,
            "object_position": null,
            "object_fit": null,
            "grid_auto_columns": null,
            "margin": null,
            "display": null,
            "left": null
          }
        },
        "012f5c484df849cd93e65e2b2b7074af": {
          "model_module": "@jupyter-widgets/base",
          "model_name": "LayoutModel",
          "model_module_version": "1.2.0",
          "state": {
            "_view_name": "LayoutView",
            "grid_template_rows": null,
            "right": null,
            "justify_content": null,
            "_view_module": "@jupyter-widgets/base",
            "overflow": null,
            "_model_module_version": "1.2.0",
            "_view_count": null,
            "flex_flow": null,
            "width": null,
            "min_width": null,
            "border": null,
            "align_items": null,
            "bottom": null,
            "_model_module": "@jupyter-widgets/base",
            "top": null,
            "grid_column": null,
            "overflow_y": null,
            "overflow_x": null,
            "grid_auto_flow": null,
            "grid_area": null,
            "grid_template_columns": null,
            "flex": null,
            "_model_name": "LayoutModel",
            "justify_items": null,
            "grid_row": null,
            "max_height": null,
            "align_content": null,
            "visibility": null,
            "align_self": null,
            "height": null,
            "min_height": null,
            "padding": null,
            "grid_auto_rows": null,
            "grid_gap": null,
            "max_width": null,
            "order": null,
            "_view_module_version": "1.2.0",
            "grid_template_areas": null,
            "object_position": null,
            "object_fit": null,
            "grid_auto_columns": null,
            "margin": null,
            "display": null,
            "left": null
          }
        },
        "619bc90f8c414dc0905939879da7c4b9": {
          "model_module": "@jupyter-widgets/controls",
          "model_name": "VBoxModel",
          "model_module_version": "1.5.0",
          "state": {
            "_view_name": "VBoxView",
            "_dom_classes": [
              "widget-interact"
            ],
            "_model_name": "VBoxModel",
            "_view_module": "@jupyter-widgets/controls",
            "_model_module_version": "1.5.0",
            "_view_count": null,
            "_view_module_version": "1.5.0",
            "box_style": "",
            "layout": "IPY_MODEL_ac8fb8b1ecb4493899a588c213f90785",
            "_model_module": "@jupyter-widgets/controls",
            "children": [
              "IPY_MODEL_28073a85969f4c26bf368700c483086e",
              "IPY_MODEL_840a1f0135cb44288b58d9ac1cc3eb95",
              "IPY_MODEL_2ad3b1b7b5544417ad9bafdf6c73d90a"
            ]
          }
        },
        "ac8fb8b1ecb4493899a588c213f90785": {
          "model_module": "@jupyter-widgets/base",
          "model_name": "LayoutModel",
          "model_module_version": "1.2.0",
          "state": {
            "_view_name": "LayoutView",
            "grid_template_rows": null,
            "right": null,
            "justify_content": null,
            "_view_module": "@jupyter-widgets/base",
            "overflow": null,
            "_model_module_version": "1.2.0",
            "_view_count": null,
            "flex_flow": null,
            "width": null,
            "min_width": null,
            "border": null,
            "align_items": null,
            "bottom": null,
            "_model_module": "@jupyter-widgets/base",
            "top": null,
            "grid_column": null,
            "overflow_y": null,
            "overflow_x": null,
            "grid_auto_flow": null,
            "grid_area": null,
            "grid_template_columns": null,
            "flex": null,
            "_model_name": "LayoutModel",
            "justify_items": null,
            "grid_row": null,
            "max_height": null,
            "align_content": null,
            "visibility": null,
            "align_self": null,
            "height": null,
            "min_height": null,
            "padding": null,
            "grid_auto_rows": null,
            "grid_gap": null,
            "max_width": null,
            "order": null,
            "_view_module_version": "1.2.0",
            "grid_template_areas": null,
            "object_position": null,
            "object_fit": null,
            "grid_auto_columns": null,
            "margin": null,
            "display": null,
            "left": null
          }
        },
        "28073a85969f4c26bf368700c483086e": {
          "model_module": "@jupyter-widgets/controls",
          "model_name": "IntSliderModel",
          "model_module_version": "1.5.0",
          "state": {
            "_view_name": "IntSliderView",
            "style": "IPY_MODEL_ee8ce9b56ca84360b6f55c6503221845",
            "_dom_classes": [],
            "description": "λ",
            "step": 1,
            "_model_name": "IntSliderModel",
            "orientation": "horizontal",
            "max": 10,
            "_view_module": "@jupyter-widgets/controls",
            "_model_module_version": "1.5.0",
            "value": 2,
            "_view_count": null,
            "disabled": false,
            "_view_module_version": "1.5.0",
            "min": 2,
            "continuous_update": true,
            "readout_format": "d",
            "description_tooltip": null,
            "readout": true,
            "_model_module": "@jupyter-widgets/controls",
            "layout": "IPY_MODEL_baf1f2cd78da4ab891ed5c17b661b179"
          }
        },
        "840a1f0135cb44288b58d9ac1cc3eb95": {
          "model_module": "@jupyter-widgets/controls",
          "model_name": "ButtonModel",
          "model_module_version": "1.5.0",
          "state": {
            "_view_name": "ButtonView",
            "style": "IPY_MODEL_350e537280724fa6bc77cf4df8709454",
            "_dom_classes": [],
            "description": "Run Interact",
            "_model_name": "ButtonModel",
            "button_style": "",
            "_view_module": "@jupyter-widgets/controls",
            "_model_module_version": "1.5.0",
            "tooltip": "",
            "_view_count": null,
            "disabled": false,
            "_view_module_version": "1.5.0",
            "layout": "IPY_MODEL_41bfc7494ee5449488dd815bccbbe4eb",
            "_model_module": "@jupyter-widgets/controls",
            "icon": ""
          }
        },
        "2ad3b1b7b5544417ad9bafdf6c73d90a": {
          "model_module": "@jupyter-widgets/output",
          "model_name": "OutputModel",
          "model_module_version": "1.0.0",
          "state": {
            "_view_name": "OutputView",
            "msg_id": "",
            "_dom_classes": [],
            "_model_name": "OutputModel",
            "outputs": [],
            "_view_module": "@jupyter-widgets/output",
            "_model_module_version": "1.0.0",
            "_view_count": null,
            "_view_module_version": "1.0.0",
            "layout": "IPY_MODEL_03c0624e9e9140d7ac01ba87e15a3ac8",
            "_model_module": "@jupyter-widgets/output"
          }
        },
        "ee8ce9b56ca84360b6f55c6503221845": {
          "model_module": "@jupyter-widgets/controls",
          "model_name": "SliderStyleModel",
          "model_module_version": "1.5.0",
          "state": {
            "_view_name": "StyleView",
            "handle_color": null,
            "_model_name": "SliderStyleModel",
            "description_width": "",
            "_view_module": "@jupyter-widgets/base",
            "_model_module_version": "1.5.0",
            "_view_count": null,
            "_view_module_version": "1.2.0",
            "_model_module": "@jupyter-widgets/controls"
          }
        },
        "baf1f2cd78da4ab891ed5c17b661b179": {
          "model_module": "@jupyter-widgets/base",
          "model_name": "LayoutModel",
          "model_module_version": "1.2.0",
          "state": {
            "_view_name": "LayoutView",
            "grid_template_rows": null,
            "right": null,
            "justify_content": null,
            "_view_module": "@jupyter-widgets/base",
            "overflow": null,
            "_model_module_version": "1.2.0",
            "_view_count": null,
            "flex_flow": null,
            "width": null,
            "min_width": null,
            "border": null,
            "align_items": null,
            "bottom": null,
            "_model_module": "@jupyter-widgets/base",
            "top": null,
            "grid_column": null,
            "overflow_y": null,
            "overflow_x": null,
            "grid_auto_flow": null,
            "grid_area": null,
            "grid_template_columns": null,
            "flex": null,
            "_model_name": "LayoutModel",
            "justify_items": null,
            "grid_row": null,
            "max_height": null,
            "align_content": null,
            "visibility": null,
            "align_self": null,
            "height": null,
            "min_height": null,
            "padding": null,
            "grid_auto_rows": null,
            "grid_gap": null,
            "max_width": null,
            "order": null,
            "_view_module_version": "1.2.0",
            "grid_template_areas": null,
            "object_position": null,
            "object_fit": null,
            "grid_auto_columns": null,
            "margin": null,
            "display": null,
            "left": null
          }
        },
        "350e537280724fa6bc77cf4df8709454": {
          "model_module": "@jupyter-widgets/controls",
          "model_name": "ButtonStyleModel",
          "model_module_version": "1.5.0",
          "state": {
            "_view_name": "StyleView",
            "_model_name": "ButtonStyleModel",
            "_view_module": "@jupyter-widgets/base",
            "_model_module_version": "1.5.0",
            "_view_count": null,
            "button_color": null,
            "font_weight": "",
            "_view_module_version": "1.2.0",
            "_model_module": "@jupyter-widgets/controls"
          }
        },
        "41bfc7494ee5449488dd815bccbbe4eb": {
          "model_module": "@jupyter-widgets/base",
          "model_name": "LayoutModel",
          "model_module_version": "1.2.0",
          "state": {
            "_view_name": "LayoutView",
            "grid_template_rows": null,
            "right": null,
            "justify_content": null,
            "_view_module": "@jupyter-widgets/base",
            "overflow": null,
            "_model_module_version": "1.2.0",
            "_view_count": null,
            "flex_flow": null,
            "width": null,
            "min_width": null,
            "border": null,
            "align_items": null,
            "bottom": null,
            "_model_module": "@jupyter-widgets/base",
            "top": null,
            "grid_column": null,
            "overflow_y": null,
            "overflow_x": null,
            "grid_auto_flow": null,
            "grid_area": null,
            "grid_template_columns": null,
            "flex": null,
            "_model_name": "LayoutModel",
            "justify_items": null,
            "grid_row": null,
            "max_height": null,
            "align_content": null,
            "visibility": null,
            "align_self": null,
            "height": null,
            "min_height": null,
            "padding": null,
            "grid_auto_rows": null,
            "grid_gap": null,
            "max_width": null,
            "order": null,
            "_view_module_version": "1.2.0",
            "grid_template_areas": null,
            "object_position": null,
            "object_fit": null,
            "grid_auto_columns": null,
            "margin": null,
            "display": null,
            "left": null
          }
        },
        "03c0624e9e9140d7ac01ba87e15a3ac8": {
          "model_module": "@jupyter-widgets/base",
          "model_name": "LayoutModel",
          "model_module_version": "1.2.0",
          "state": {
            "_view_name": "LayoutView",
            "grid_template_rows": null,
            "right": null,
            "justify_content": null,
            "_view_module": "@jupyter-widgets/base",
            "overflow": null,
            "_model_module_version": "1.2.0",
            "_view_count": null,
            "flex_flow": null,
            "width": null,
            "min_width": null,
            "border": null,
            "align_items": null,
            "bottom": null,
            "_model_module": "@jupyter-widgets/base",
            "top": null,
            "grid_column": null,
            "overflow_y": null,
            "overflow_x": null,
            "grid_auto_flow": null,
            "grid_area": null,
            "grid_template_columns": null,
            "flex": null,
            "_model_name": "LayoutModel",
            "justify_items": null,
            "grid_row": null,
            "max_height": null,
            "align_content": null,
            "visibility": null,
            "align_self": null,
            "height": null,
            "min_height": null,
            "padding": null,
            "grid_auto_rows": null,
            "grid_gap": null,
            "max_width": null,
            "order": null,
            "_view_module_version": "1.2.0",
            "grid_template_areas": null,
            "object_position": null,
            "object_fit": null,
            "grid_auto_columns": null,
            "margin": null,
            "display": null,
            "left": null
          }
        },
        "f65218c8a1db45e490e8d5a354e9c79e": {
          "model_module": "@jupyter-widgets/controls",
          "model_name": "VBoxModel",
          "model_module_version": "1.5.0",
          "state": {
            "_view_name": "VBoxView",
            "_dom_classes": [
              "widget-interact"
            ],
            "_model_name": "VBoxModel",
            "_view_module": "@jupyter-widgets/controls",
            "_model_module_version": "1.5.0",
            "_view_count": null,
            "_view_module_version": "1.5.0",
            "box_style": "",
            "layout": "IPY_MODEL_a404e69a3aa243508f6bec4413f98ba8",
            "_model_module": "@jupyter-widgets/controls",
            "children": [
              "IPY_MODEL_e18f890fa97c4daf890c566e292dae1e",
              "IPY_MODEL_6aa6784941f24f7fa86e701821f42bf2",
              "IPY_MODEL_ef60e9b75cd04c33892dfb9ad92e02fa",
              "IPY_MODEL_d87e8b482a274d1fb33beca556868618"
            ]
          }
        },
        "a404e69a3aa243508f6bec4413f98ba8": {
          "model_module": "@jupyter-widgets/base",
          "model_name": "LayoutModel",
          "model_module_version": "1.2.0",
          "state": {
            "_view_name": "LayoutView",
            "grid_template_rows": null,
            "right": null,
            "justify_content": null,
            "_view_module": "@jupyter-widgets/base",
            "overflow": null,
            "_model_module_version": "1.2.0",
            "_view_count": null,
            "flex_flow": null,
            "width": null,
            "min_width": null,
            "border": null,
            "align_items": null,
            "bottom": null,
            "_model_module": "@jupyter-widgets/base",
            "top": null,
            "grid_column": null,
            "overflow_y": null,
            "overflow_x": null,
            "grid_auto_flow": null,
            "grid_area": null,
            "grid_template_columns": null,
            "flex": null,
            "_model_name": "LayoutModel",
            "justify_items": null,
            "grid_row": null,
            "max_height": null,
            "align_content": null,
            "visibility": null,
            "align_self": null,
            "height": null,
            "min_height": null,
            "padding": null,
            "grid_auto_rows": null,
            "grid_gap": null,
            "max_width": null,
            "order": null,
            "_view_module_version": "1.2.0",
            "grid_template_areas": null,
            "object_position": null,
            "object_fit": null,
            "grid_auto_columns": null,
            "margin": null,
            "display": null,
            "left": null
          }
        },
        "e18f890fa97c4daf890c566e292dae1e": {
          "model_module": "@jupyter-widgets/controls",
          "model_name": "IntSliderModel",
          "model_module_version": "1.5.0",
          "state": {
            "_view_name": "IntSliderView",
            "style": "IPY_MODEL_64321f04c3f94426a4a6952c76ca8e3c",
            "_dom_classes": [],
            "description": "ore",
            "step": 1,
            "_model_name": "IntSliderModel",
            "orientation": "horizontal",
            "max": 72,
            "_view_module": "@jupyter-widgets/controls",
            "_model_module_version": "1.5.0",
            "value": 10,
            "_view_count": null,
            "disabled": false,
            "_view_module_version": "1.5.0",
            "min": 0,
            "continuous_update": true,
            "readout_format": "d",
            "description_tooltip": null,
            "readout": true,
            "_model_module": "@jupyter-widgets/controls",
            "layout": "IPY_MODEL_4e1bddb886184c78994a7242ac6e7d42"
          }
        },
        "6aa6784941f24f7fa86e701821f42bf2": {
          "model_module": "@jupyter-widgets/controls",
          "model_name": "IntSliderModel",
          "model_module_version": "1.5.0",
          "state": {
            "_view_name": "IntSliderView",
            "style": "IPY_MODEL_e7dbb803a7d142b6aecffb30b77e8ffb",
            "_dom_classes": [],
            "description": "λ",
            "step": 1,
            "_model_name": "IntSliderModel",
            "orientation": "horizontal",
            "max": 10,
            "_view_module": "@jupyter-widgets/controls",
            "_model_module_version": "1.5.0",
            "value": 2,
            "_view_count": null,
            "disabled": false,
            "_view_module_version": "1.5.0",
            "min": 2,
            "continuous_update": true,
            "readout_format": "d",
            "description_tooltip": null,
            "readout": true,
            "_model_module": "@jupyter-widgets/controls",
            "layout": "IPY_MODEL_cc121300d23d4591ab9002a8b1ccaa26"
          }
        },
        "ef60e9b75cd04c33892dfb9ad92e02fa": {
          "model_module": "@jupyter-widgets/controls",
          "model_name": "ButtonModel",
          "model_module_version": "1.5.0",
          "state": {
            "_view_name": "ButtonView",
            "style": "IPY_MODEL_df5d0b71f03447ea943aa3af9c0f0ff7",
            "_dom_classes": [],
            "description": "Run Interact",
            "_model_name": "ButtonModel",
            "button_style": "",
            "_view_module": "@jupyter-widgets/controls",
            "_model_module_version": "1.5.0",
            "tooltip": "",
            "_view_count": null,
            "disabled": false,
            "_view_module_version": "1.5.0",
            "layout": "IPY_MODEL_82301c2909a846b5838dd9a184c28842",
            "_model_module": "@jupyter-widgets/controls",
            "icon": ""
          }
        },
        "d87e8b482a274d1fb33beca556868618": {
          "model_module": "@jupyter-widgets/output",
          "model_name": "OutputModel",
          "model_module_version": "1.0.0",
          "state": {
            "_view_name": "OutputView",
            "msg_id": "",
            "_dom_classes": [],
            "_model_name": "OutputModel",
            "outputs": [],
            "_view_module": "@jupyter-widgets/output",
            "_model_module_version": "1.0.0",
            "_view_count": null,
            "_view_module_version": "1.0.0",
            "layout": "IPY_MODEL_816365a3e75748b49abc7d518ebb0211",
            "_model_module": "@jupyter-widgets/output"
          }
        },
        "64321f04c3f94426a4a6952c76ca8e3c": {
          "model_module": "@jupyter-widgets/controls",
          "model_name": "SliderStyleModel",
          "model_module_version": "1.5.0",
          "state": {
            "_view_name": "StyleView",
            "handle_color": null,
            "_model_name": "SliderStyleModel",
            "description_width": "",
            "_view_module": "@jupyter-widgets/base",
            "_model_module_version": "1.5.0",
            "_view_count": null,
            "_view_module_version": "1.2.0",
            "_model_module": "@jupyter-widgets/controls"
          }
        },
        "4e1bddb886184c78994a7242ac6e7d42": {
          "model_module": "@jupyter-widgets/base",
          "model_name": "LayoutModel",
          "model_module_version": "1.2.0",
          "state": {
            "_view_name": "LayoutView",
            "grid_template_rows": null,
            "right": null,
            "justify_content": null,
            "_view_module": "@jupyter-widgets/base",
            "overflow": null,
            "_model_module_version": "1.2.0",
            "_view_count": null,
            "flex_flow": null,
            "width": null,
            "min_width": null,
            "border": null,
            "align_items": null,
            "bottom": null,
            "_model_module": "@jupyter-widgets/base",
            "top": null,
            "grid_column": null,
            "overflow_y": null,
            "overflow_x": null,
            "grid_auto_flow": null,
            "grid_area": null,
            "grid_template_columns": null,
            "flex": null,
            "_model_name": "LayoutModel",
            "justify_items": null,
            "grid_row": null,
            "max_height": null,
            "align_content": null,
            "visibility": null,
            "align_self": null,
            "height": null,
            "min_height": null,
            "padding": null,
            "grid_auto_rows": null,
            "grid_gap": null,
            "max_width": null,
            "order": null,
            "_view_module_version": "1.2.0",
            "grid_template_areas": null,
            "object_position": null,
            "object_fit": null,
            "grid_auto_columns": null,
            "margin": null,
            "display": null,
            "left": null
          }
        },
        "e7dbb803a7d142b6aecffb30b77e8ffb": {
          "model_module": "@jupyter-widgets/controls",
          "model_name": "SliderStyleModel",
          "model_module_version": "1.5.0",
          "state": {
            "_view_name": "StyleView",
            "handle_color": null,
            "_model_name": "SliderStyleModel",
            "description_width": "",
            "_view_module": "@jupyter-widgets/base",
            "_model_module_version": "1.5.0",
            "_view_count": null,
            "_view_module_version": "1.2.0",
            "_model_module": "@jupyter-widgets/controls"
          }
        },
        "cc121300d23d4591ab9002a8b1ccaa26": {
          "model_module": "@jupyter-widgets/base",
          "model_name": "LayoutModel",
          "model_module_version": "1.2.0",
          "state": {
            "_view_name": "LayoutView",
            "grid_template_rows": null,
            "right": null,
            "justify_content": null,
            "_view_module": "@jupyter-widgets/base",
            "overflow": null,
            "_model_module_version": "1.2.0",
            "_view_count": null,
            "flex_flow": null,
            "width": null,
            "min_width": null,
            "border": null,
            "align_items": null,
            "bottom": null,
            "_model_module": "@jupyter-widgets/base",
            "top": null,
            "grid_column": null,
            "overflow_y": null,
            "overflow_x": null,
            "grid_auto_flow": null,
            "grid_area": null,
            "grid_template_columns": null,
            "flex": null,
            "_model_name": "LayoutModel",
            "justify_items": null,
            "grid_row": null,
            "max_height": null,
            "align_content": null,
            "visibility": null,
            "align_self": null,
            "height": null,
            "min_height": null,
            "padding": null,
            "grid_auto_rows": null,
            "grid_gap": null,
            "max_width": null,
            "order": null,
            "_view_module_version": "1.2.0",
            "grid_template_areas": null,
            "object_position": null,
            "object_fit": null,
            "grid_auto_columns": null,
            "margin": null,
            "display": null,
            "left": null
          }
        },
        "df5d0b71f03447ea943aa3af9c0f0ff7": {
          "model_module": "@jupyter-widgets/controls",
          "model_name": "ButtonStyleModel",
          "model_module_version": "1.5.0",
          "state": {
            "_view_name": "StyleView",
            "_model_name": "ButtonStyleModel",
            "_view_module": "@jupyter-widgets/base",
            "_model_module_version": "1.5.0",
            "_view_count": null,
            "button_color": null,
            "font_weight": "",
            "_view_module_version": "1.2.0",
            "_model_module": "@jupyter-widgets/controls"
          }
        },
        "82301c2909a846b5838dd9a184c28842": {
          "model_module": "@jupyter-widgets/base",
          "model_name": "LayoutModel",
          "model_module_version": "1.2.0",
          "state": {
            "_view_name": "LayoutView",
            "grid_template_rows": null,
            "right": null,
            "justify_content": null,
            "_view_module": "@jupyter-widgets/base",
            "overflow": null,
            "_model_module_version": "1.2.0",
            "_view_count": null,
            "flex_flow": null,
            "width": null,
            "min_width": null,
            "border": null,
            "align_items": null,
            "bottom": null,
            "_model_module": "@jupyter-widgets/base",
            "top": null,
            "grid_column": null,
            "overflow_y": null,
            "overflow_x": null,
            "grid_auto_flow": null,
            "grid_area": null,
            "grid_template_columns": null,
            "flex": null,
            "_model_name": "LayoutModel",
            "justify_items": null,
            "grid_row": null,
            "max_height": null,
            "align_content": null,
            "visibility": null,
            "align_self": null,
            "height": null,
            "min_height": null,
            "padding": null,
            "grid_auto_rows": null,
            "grid_gap": null,
            "max_width": null,
            "order": null,
            "_view_module_version": "1.2.0",
            "grid_template_areas": null,
            "object_position": null,
            "object_fit": null,
            "grid_auto_columns": null,
            "margin": null,
            "display": null,
            "left": null
          }
        },
        "816365a3e75748b49abc7d518ebb0211": {
          "model_module": "@jupyter-widgets/base",
          "model_name": "LayoutModel",
          "model_module_version": "1.2.0",
          "state": {
            "_view_name": "LayoutView",
            "grid_template_rows": null,
            "right": null,
            "justify_content": null,
            "_view_module": "@jupyter-widgets/base",
            "overflow": null,
            "_model_module_version": "1.2.0",
            "_view_count": null,
            "flex_flow": null,
            "width": null,
            "min_width": null,
            "border": null,
            "align_items": null,
            "bottom": null,
            "_model_module": "@jupyter-widgets/base",
            "top": null,
            "grid_column": null,
            "overflow_y": null,
            "overflow_x": null,
            "grid_auto_flow": null,
            "grid_area": null,
            "grid_template_columns": null,
            "flex": null,
            "_model_name": "LayoutModel",
            "justify_items": null,
            "grid_row": null,
            "max_height": null,
            "align_content": null,
            "visibility": null,
            "align_self": null,
            "height": null,
            "min_height": null,
            "padding": null,
            "grid_auto_rows": null,
            "grid_gap": null,
            "max_width": null,
            "order": null,
            "_view_module_version": "1.2.0",
            "grid_template_areas": null,
            "object_position": null,
            "object_fit": null,
            "grid_auto_columns": null,
            "margin": null,
            "display": null,
            "left": null
          }
        },
        "d20a0940ffbe4dff9b9e35969c2b0b94": {
          "model_module": "@jupyter-widgets/controls",
          "model_name": "VBoxModel",
          "model_module_version": "1.5.0",
          "state": {
            "_view_name": "VBoxView",
            "_dom_classes": [
              "widget-interact"
            ],
            "_model_name": "VBoxModel",
            "_view_module": "@jupyter-widgets/controls",
            "_model_module_version": "1.5.0",
            "_view_count": null,
            "_view_module_version": "1.5.0",
            "box_style": "",
            "layout": "IPY_MODEL_1fb97b3149c842cdbdddbf6f8b0897c9",
            "_model_module": "@jupyter-widgets/controls",
            "children": [
              "IPY_MODEL_d8f21d0f69254f5284fa51c728ed1b02",
              "IPY_MODEL_fe5b4b5fea794949aba5165978eaf217",
              "IPY_MODEL_3a8130f49ebe4a21b6d6867de795f6ff",
              "IPY_MODEL_f63ee0a5ec5744638e521ebfbfdda1f7"
            ]
          }
        },
        "1fb97b3149c842cdbdddbf6f8b0897c9": {
          "model_module": "@jupyter-widgets/base",
          "model_name": "LayoutModel",
          "model_module_version": "1.2.0",
          "state": {
            "_view_name": "LayoutView",
            "grid_template_rows": null,
            "right": null,
            "justify_content": null,
            "_view_module": "@jupyter-widgets/base",
            "overflow": null,
            "_model_module_version": "1.2.0",
            "_view_count": null,
            "flex_flow": null,
            "width": null,
            "min_width": null,
            "border": null,
            "align_items": null,
            "bottom": null,
            "_model_module": "@jupyter-widgets/base",
            "top": null,
            "grid_column": null,
            "overflow_y": null,
            "overflow_x": null,
            "grid_auto_flow": null,
            "grid_area": null,
            "grid_template_columns": null,
            "flex": null,
            "_model_name": "LayoutModel",
            "justify_items": null,
            "grid_row": null,
            "max_height": null,
            "align_content": null,
            "visibility": null,
            "align_self": null,
            "height": null,
            "min_height": null,
            "padding": null,
            "grid_auto_rows": null,
            "grid_gap": null,
            "max_width": null,
            "order": null,
            "_view_module_version": "1.2.0",
            "grid_template_areas": null,
            "object_position": null,
            "object_fit": null,
            "grid_auto_columns": null,
            "margin": null,
            "display": null,
            "left": null
          }
        },
        "d8f21d0f69254f5284fa51c728ed1b02": {
          "model_module": "@jupyter-widgets/controls",
          "model_name": "IntSliderModel",
          "model_module_version": "1.5.0",
          "state": {
            "_view_name": "IntSliderView",
            "style": "IPY_MODEL_60b0ce86b75347c995c712aa6e02d738",
            "_dom_classes": [],
            "description": "t1",
            "step": 1,
            "_model_name": "IntSliderModel",
            "orientation": "horizontal",
            "max": 96,
            "_view_module": "@jupyter-widgets/controls",
            "_model_module_version": "1.5.0",
            "value": 3,
            "_view_count": null,
            "disabled": false,
            "_view_module_version": "1.5.0",
            "min": 0,
            "continuous_update": true,
            "readout_format": "d",
            "description_tooltip": null,
            "readout": true,
            "_model_module": "@jupyter-widgets/controls",
            "layout": "IPY_MODEL_b9a448d067774c79a95fae1826b14318"
          }
        },
        "fe5b4b5fea794949aba5165978eaf217": {
          "model_module": "@jupyter-widgets/controls",
          "model_name": "IntSliderModel",
          "model_module_version": "1.5.0",
          "state": {
            "_view_name": "IntSliderView",
            "style": "IPY_MODEL_2f367bec66c14f9e9aa6aba8d83031f4",
            "_dom_classes": [],
            "description": "t2",
            "step": 1,
            "_model_name": "IntSliderModel",
            "orientation": "horizontal",
            "max": 96,
            "_view_module": "@jupyter-widgets/controls",
            "_model_module_version": "1.5.0",
            "value": 10,
            "_view_count": null,
            "disabled": false,
            "_view_module_version": "1.5.0",
            "min": 0,
            "continuous_update": true,
            "readout_format": "d",
            "description_tooltip": null,
            "readout": true,
            "_model_module": "@jupyter-widgets/controls",
            "layout": "IPY_MODEL_e321a8b147914ce8ab899a6737b1c232"
          }
        },
        "3a8130f49ebe4a21b6d6867de795f6ff": {
          "model_module": "@jupyter-widgets/controls",
          "model_name": "ButtonModel",
          "model_module_version": "1.5.0",
          "state": {
            "_view_name": "ButtonView",
            "style": "IPY_MODEL_3701054943ec4f9c977eb12b6764b150",
            "_dom_classes": [],
            "description": "Run Interact",
            "_model_name": "ButtonModel",
            "button_style": "",
            "_view_module": "@jupyter-widgets/controls",
            "_model_module_version": "1.5.0",
            "tooltip": "",
            "_view_count": null,
            "disabled": false,
            "_view_module_version": "1.5.0",
            "layout": "IPY_MODEL_188c8de83a87436cbccf66a515d93f4e",
            "_model_module": "@jupyter-widgets/controls",
            "icon": ""
          }
        },
        "f63ee0a5ec5744638e521ebfbfdda1f7": {
          "model_module": "@jupyter-widgets/output",
          "model_name": "OutputModel",
          "model_module_version": "1.0.0",
          "state": {
            "_view_name": "OutputView",
            "msg_id": "",
            "_dom_classes": [],
            "_model_name": "OutputModel",
            "outputs": [],
            "_view_module": "@jupyter-widgets/output",
            "_model_module_version": "1.0.0",
            "_view_count": null,
            "_view_module_version": "1.0.0",
            "layout": "IPY_MODEL_1f79b7942a414f0f8b16b44013a4363d",
            "_model_module": "@jupyter-widgets/output"
          }
        },
        "60b0ce86b75347c995c712aa6e02d738": {
          "model_module": "@jupyter-widgets/controls",
          "model_name": "SliderStyleModel",
          "model_module_version": "1.5.0",
          "state": {
            "_view_name": "StyleView",
            "handle_color": null,
            "_model_name": "SliderStyleModel",
            "description_width": "",
            "_view_module": "@jupyter-widgets/base",
            "_model_module_version": "1.5.0",
            "_view_count": null,
            "_view_module_version": "1.2.0",
            "_model_module": "@jupyter-widgets/controls"
          }
        },
        "b9a448d067774c79a95fae1826b14318": {
          "model_module": "@jupyter-widgets/base",
          "model_name": "LayoutModel",
          "model_module_version": "1.2.0",
          "state": {
            "_view_name": "LayoutView",
            "grid_template_rows": null,
            "right": null,
            "justify_content": null,
            "_view_module": "@jupyter-widgets/base",
            "overflow": null,
            "_model_module_version": "1.2.0",
            "_view_count": null,
            "flex_flow": null,
            "width": null,
            "min_width": null,
            "border": null,
            "align_items": null,
            "bottom": null,
            "_model_module": "@jupyter-widgets/base",
            "top": null,
            "grid_column": null,
            "overflow_y": null,
            "overflow_x": null,
            "grid_auto_flow": null,
            "grid_area": null,
            "grid_template_columns": null,
            "flex": null,
            "_model_name": "LayoutModel",
            "justify_items": null,
            "grid_row": null,
            "max_height": null,
            "align_content": null,
            "visibility": null,
            "align_self": null,
            "height": null,
            "min_height": null,
            "padding": null,
            "grid_auto_rows": null,
            "grid_gap": null,
            "max_width": null,
            "order": null,
            "_view_module_version": "1.2.0",
            "grid_template_areas": null,
            "object_position": null,
            "object_fit": null,
            "grid_auto_columns": null,
            "margin": null,
            "display": null,
            "left": null
          }
        },
        "2f367bec66c14f9e9aa6aba8d83031f4": {
          "model_module": "@jupyter-widgets/controls",
          "model_name": "SliderStyleModel",
          "model_module_version": "1.5.0",
          "state": {
            "_view_name": "StyleView",
            "handle_color": null,
            "_model_name": "SliderStyleModel",
            "description_width": "",
            "_view_module": "@jupyter-widgets/base",
            "_model_module_version": "1.5.0",
            "_view_count": null,
            "_view_module_version": "1.2.0",
            "_model_module": "@jupyter-widgets/controls"
          }
        },
        "e321a8b147914ce8ab899a6737b1c232": {
          "model_module": "@jupyter-widgets/base",
          "model_name": "LayoutModel",
          "model_module_version": "1.2.0",
          "state": {
            "_view_name": "LayoutView",
            "grid_template_rows": null,
            "right": null,
            "justify_content": null,
            "_view_module": "@jupyter-widgets/base",
            "overflow": null,
            "_model_module_version": "1.2.0",
            "_view_count": null,
            "flex_flow": null,
            "width": null,
            "min_width": null,
            "border": null,
            "align_items": null,
            "bottom": null,
            "_model_module": "@jupyter-widgets/base",
            "top": null,
            "grid_column": null,
            "overflow_y": null,
            "overflow_x": null,
            "grid_auto_flow": null,
            "grid_area": null,
            "grid_template_columns": null,
            "flex": null,
            "_model_name": "LayoutModel",
            "justify_items": null,
            "grid_row": null,
            "max_height": null,
            "align_content": null,
            "visibility": null,
            "align_self": null,
            "height": null,
            "min_height": null,
            "padding": null,
            "grid_auto_rows": null,
            "grid_gap": null,
            "max_width": null,
            "order": null,
            "_view_module_version": "1.2.0",
            "grid_template_areas": null,
            "object_position": null,
            "object_fit": null,
            "grid_auto_columns": null,
            "margin": null,
            "display": null,
            "left": null
          }
        },
        "3701054943ec4f9c977eb12b6764b150": {
          "model_module": "@jupyter-widgets/controls",
          "model_name": "ButtonStyleModel",
          "model_module_version": "1.5.0",
          "state": {
            "_view_name": "StyleView",
            "_model_name": "ButtonStyleModel",
            "_view_module": "@jupyter-widgets/base",
            "_model_module_version": "1.5.0",
            "_view_count": null,
            "button_color": null,
            "font_weight": "",
            "_view_module_version": "1.2.0",
            "_model_module": "@jupyter-widgets/controls"
          }
        },
        "188c8de83a87436cbccf66a515d93f4e": {
          "model_module": "@jupyter-widgets/base",
          "model_name": "LayoutModel",
          "model_module_version": "1.2.0",
          "state": {
            "_view_name": "LayoutView",
            "grid_template_rows": null,
            "right": null,
            "justify_content": null,
            "_view_module": "@jupyter-widgets/base",
            "overflow": null,
            "_model_module_version": "1.2.0",
            "_view_count": null,
            "flex_flow": null,
            "width": null,
            "min_width": null,
            "border": null,
            "align_items": null,
            "bottom": null,
            "_model_module": "@jupyter-widgets/base",
            "top": null,
            "grid_column": null,
            "overflow_y": null,
            "overflow_x": null,
            "grid_auto_flow": null,
            "grid_area": null,
            "grid_template_columns": null,
            "flex": null,
            "_model_name": "LayoutModel",
            "justify_items": null,
            "grid_row": null,
            "max_height": null,
            "align_content": null,
            "visibility": null,
            "align_self": null,
            "height": null,
            "min_height": null,
            "padding": null,
            "grid_auto_rows": null,
            "grid_gap": null,
            "max_width": null,
            "order": null,
            "_view_module_version": "1.2.0",
            "grid_template_areas": null,
            "object_position": null,
            "object_fit": null,
            "grid_auto_columns": null,
            "margin": null,
            "display": null,
            "left": null
          }
        },
        "1f79b7942a414f0f8b16b44013a4363d": {
          "model_module": "@jupyter-widgets/base",
          "model_name": "LayoutModel",
          "model_module_version": "1.2.0",
          "state": {
            "_view_name": "LayoutView",
            "grid_template_rows": null,
            "right": null,
            "justify_content": null,
            "_view_module": "@jupyter-widgets/base",
            "overflow": null,
            "_model_module_version": "1.2.0",
            "_view_count": null,
            "flex_flow": null,
            "width": null,
            "min_width": null,
            "border": null,
            "align_items": null,
            "bottom": null,
            "_model_module": "@jupyter-widgets/base",
            "top": null,
            "grid_column": null,
            "overflow_y": null,
            "overflow_x": null,
            "grid_auto_flow": null,
            "grid_area": null,
            "grid_template_columns": null,
            "flex": null,
            "_model_name": "LayoutModel",
            "justify_items": null,
            "grid_row": null,
            "max_height": null,
            "align_content": null,
            "visibility": null,
            "align_self": null,
            "height": null,
            "min_height": null,
            "padding": null,
            "grid_auto_rows": null,
            "grid_gap": null,
            "max_width": null,
            "order": null,
            "_view_module_version": "1.2.0",
            "grid_template_areas": null,
            "object_position": null,
            "object_fit": null,
            "grid_auto_columns": null,
            "margin": null,
            "display": null,
            "left": null
          }
        },
        "afdfcb99da164af492148657781f0f7f": {
          "model_module": "@jupyter-widgets/controls",
          "model_name": "VBoxModel",
          "model_module_version": "1.5.0",
          "state": {
            "_view_name": "VBoxView",
            "_dom_classes": [
              "widget-interact"
            ],
            "_model_name": "VBoxModel",
            "_view_module": "@jupyter-widgets/controls",
            "_model_module_version": "1.5.0",
            "_view_count": null,
            "_view_module_version": "1.5.0",
            "box_style": "",
            "layout": "IPY_MODEL_1bf9b93f1142466aa66c504b63fd23a8",
            "_model_module": "@jupyter-widgets/controls",
            "children": [
              "IPY_MODEL_e34b6e8c098d4236b8de5b1575dea80c",
              "IPY_MODEL_76087fce932d49a5960692bf2ff56df7",
              "IPY_MODEL_0d6ad6bc431944bcbe04b40580838b4b"
            ]
          }
        },
        "1bf9b93f1142466aa66c504b63fd23a8": {
          "model_module": "@jupyter-widgets/base",
          "model_name": "LayoutModel",
          "model_module_version": "1.2.0",
          "state": {
            "_view_name": "LayoutView",
            "grid_template_rows": null,
            "right": null,
            "justify_content": null,
            "_view_module": "@jupyter-widgets/base",
            "overflow": null,
            "_model_module_version": "1.2.0",
            "_view_count": null,
            "flex_flow": null,
            "width": null,
            "min_width": null,
            "border": null,
            "align_items": null,
            "bottom": null,
            "_model_module": "@jupyter-widgets/base",
            "top": null,
            "grid_column": null,
            "overflow_y": null,
            "overflow_x": null,
            "grid_auto_flow": null,
            "grid_area": null,
            "grid_template_columns": null,
            "flex": null,
            "_model_name": "LayoutModel",
            "justify_items": null,
            "grid_row": null,
            "max_height": null,
            "align_content": null,
            "visibility": null,
            "align_self": null,
            "height": null,
            "min_height": null,
            "padding": null,
            "grid_auto_rows": null,
            "grid_gap": null,
            "max_width": null,
            "order": null,
            "_view_module_version": "1.2.0",
            "grid_template_areas": null,
            "object_position": null,
            "object_fit": null,
            "grid_auto_columns": null,
            "margin": null,
            "display": null,
            "left": null
          }
        },
        "e34b6e8c098d4236b8de5b1575dea80c": {
          "model_module": "@jupyter-widgets/controls",
          "model_name": "IntSliderModel",
          "model_module_version": "1.5.0",
          "state": {
            "_view_name": "IntSliderView",
            "style": "IPY_MODEL_f4b2612e483b474b83495b8bab4eef60",
            "_dom_classes": [],
            "description": "mean",
            "step": 1,
            "_model_name": "IntSliderModel",
            "orientation": "horizontal",
            "max": 5,
            "_view_module": "@jupyter-widgets/controls",
            "_model_module_version": "1.5.0",
            "value": 0,
            "_view_count": null,
            "disabled": false,
            "_view_module_version": "1.5.0",
            "min": -5,
            "continuous_update": true,
            "readout_format": "d",
            "description_tooltip": null,
            "readout": true,
            "_model_module": "@jupyter-widgets/controls",
            "layout": "IPY_MODEL_89aa8ba0f87f430d9822466893190a65"
          }
        },
        "76087fce932d49a5960692bf2ff56df7": {
          "model_module": "@jupyter-widgets/controls",
          "model_name": "IntSliderModel",
          "model_module_version": "1.5.0",
          "state": {
            "_view_name": "IntSliderView",
            "style": "IPY_MODEL_6b1828a061544d849be1c4633e711162",
            "_dom_classes": [],
            "description": "std_dev",
            "step": 1,
            "_model_name": "IntSliderModel",
            "orientation": "horizontal",
            "max": 5,
            "_view_module": "@jupyter-widgets/controls",
            "_model_module_version": "1.5.0",
            "value": 1,
            "_view_count": null,
            "disabled": false,
            "_view_module_version": "1.5.0",
            "min": 1,
            "continuous_update": true,
            "readout_format": "d",
            "description_tooltip": null,
            "readout": true,
            "_model_module": "@jupyter-widgets/controls",
            "layout": "IPY_MODEL_bbdbca6f28b943159536037dcc66a9ea"
          }
        },
        "0d6ad6bc431944bcbe04b40580838b4b": {
          "model_module": "@jupyter-widgets/output",
          "model_name": "OutputModel",
          "model_module_version": "1.0.0",
          "state": {
            "_view_name": "OutputView",
            "msg_id": "",
            "_dom_classes": [],
            "_model_name": "OutputModel",
            "outputs": [
              {
                "output_type": "display_data",
                "data": {
                  "image/png": "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\n",
                  "text/plain": "<Figure size 432x288 with 1 Axes>"
                },
                "metadata": {
                  "needs_background": "light"
                }
              }
            ],
            "_view_module": "@jupyter-widgets/output",
            "_model_module_version": "1.0.0",
            "_view_count": null,
            "_view_module_version": "1.0.0",
            "layout": "IPY_MODEL_985fe8ccf31a4738972ba78f7197d010",
            "_model_module": "@jupyter-widgets/output"
          }
        },
        "f4b2612e483b474b83495b8bab4eef60": {
          "model_module": "@jupyter-widgets/controls",
          "model_name": "SliderStyleModel",
          "model_module_version": "1.5.0",
          "state": {
            "_view_name": "StyleView",
            "handle_color": null,
            "_model_name": "SliderStyleModel",
            "description_width": "",
            "_view_module": "@jupyter-widgets/base",
            "_model_module_version": "1.5.0",
            "_view_count": null,
            "_view_module_version": "1.2.0",
            "_model_module": "@jupyter-widgets/controls"
          }
        },
        "89aa8ba0f87f430d9822466893190a65": {
          "model_module": "@jupyter-widgets/base",
          "model_name": "LayoutModel",
          "model_module_version": "1.2.0",
          "state": {
            "_view_name": "LayoutView",
            "grid_template_rows": null,
            "right": null,
            "justify_content": null,
            "_view_module": "@jupyter-widgets/base",
            "overflow": null,
            "_model_module_version": "1.2.0",
            "_view_count": null,
            "flex_flow": null,
            "width": null,
            "min_width": null,
            "border": null,
            "align_items": null,
            "bottom": null,
            "_model_module": "@jupyter-widgets/base",
            "top": null,
            "grid_column": null,
            "overflow_y": null,
            "overflow_x": null,
            "grid_auto_flow": null,
            "grid_area": null,
            "grid_template_columns": null,
            "flex": null,
            "_model_name": "LayoutModel",
            "justify_items": null,
            "grid_row": null,
            "max_height": null,
            "align_content": null,
            "visibility": null,
            "align_self": null,
            "height": null,
            "min_height": null,
            "padding": null,
            "grid_auto_rows": null,
            "grid_gap": null,
            "max_width": null,
            "order": null,
            "_view_module_version": "1.2.0",
            "grid_template_areas": null,
            "object_position": null,
            "object_fit": null,
            "grid_auto_columns": null,
            "margin": null,
            "display": null,
            "left": null
          }
        },
        "6b1828a061544d849be1c4633e711162": {
          "model_module": "@jupyter-widgets/controls",
          "model_name": "SliderStyleModel",
          "model_module_version": "1.5.0",
          "state": {
            "_view_name": "StyleView",
            "handle_color": null,
            "_model_name": "SliderStyleModel",
            "description_width": "",
            "_view_module": "@jupyter-widgets/base",
            "_model_module_version": "1.5.0",
            "_view_count": null,
            "_view_module_version": "1.2.0",
            "_model_module": "@jupyter-widgets/controls"
          }
        },
        "bbdbca6f28b943159536037dcc66a9ea": {
          "model_module": "@jupyter-widgets/base",
          "model_name": "LayoutModel",
          "model_module_version": "1.2.0",
          "state": {
            "_view_name": "LayoutView",
            "grid_template_rows": null,
            "right": null,
            "justify_content": null,
            "_view_module": "@jupyter-widgets/base",
            "overflow": null,
            "_model_module_version": "1.2.0",
            "_view_count": null,
            "flex_flow": null,
            "width": null,
            "min_width": null,
            "border": null,
            "align_items": null,
            "bottom": null,
            "_model_module": "@jupyter-widgets/base",
            "top": null,
            "grid_column": null,
            "overflow_y": null,
            "overflow_x": null,
            "grid_auto_flow": null,
            "grid_area": null,
            "grid_template_columns": null,
            "flex": null,
            "_model_name": "LayoutModel",
            "justify_items": null,
            "grid_row": null,
            "max_height": null,
            "align_content": null,
            "visibility": null,
            "align_self": null,
            "height": null,
            "min_height": null,
            "padding": null,
            "grid_auto_rows": null,
            "grid_gap": null,
            "max_width": null,
            "order": null,
            "_view_module_version": "1.2.0",
            "grid_template_areas": null,
            "object_position": null,
            "object_fit": null,
            "grid_auto_columns": null,
            "margin": null,
            "display": null,
            "left": null
          }
        },
        "985fe8ccf31a4738972ba78f7197d010": {
          "model_module": "@jupyter-widgets/base",
          "model_name": "LayoutModel",
          "model_module_version": "1.2.0",
          "state": {
            "_view_name": "LayoutView",
            "grid_template_rows": null,
            "right": null,
            "justify_content": null,
            "_view_module": "@jupyter-widgets/base",
            "overflow": null,
            "_model_module_version": "1.2.0",
            "_view_count": null,
            "flex_flow": null,
            "width": null,
            "min_width": null,
            "border": null,
            "align_items": null,
            "bottom": null,
            "_model_module": "@jupyter-widgets/base",
            "top": null,
            "grid_column": null,
            "overflow_y": null,
            "overflow_x": null,
            "grid_auto_flow": null,
            "grid_area": null,
            "grid_template_columns": null,
            "flex": null,
            "_model_name": "LayoutModel",
            "justify_items": null,
            "grid_row": null,
            "max_height": null,
            "align_content": null,
            "visibility": null,
            "align_self": null,
            "height": null,
            "min_height": null,
            "padding": null,
            "grid_auto_rows": null,
            "grid_gap": null,
            "max_width": null,
            "order": null,
            "_view_module_version": "1.2.0",
            "grid_template_areas": null,
            "object_position": null,
            "object_fit": null,
            "grid_auto_columns": null,
            "margin": null,
            "display": null,
            "left": null
          }
        },
        "a27c8d5b3f194c8891f9bfa05ee4af93": {
          "model_module": "@jupyter-widgets/controls",
          "model_name": "VBoxModel",
          "model_module_version": "1.5.0",
          "state": {
            "_view_name": "VBoxView",
            "_dom_classes": [
              "widget-interact"
            ],
            "_model_name": "VBoxModel",
            "_view_module": "@jupyter-widgets/controls",
            "_model_module_version": "1.5.0",
            "_view_count": null,
            "_view_module_version": "1.5.0",
            "box_style": "",
            "layout": "IPY_MODEL_342809f6b9474905ae0f3bdf165f283b",
            "_model_module": "@jupyter-widgets/controls",
            "children": [
              "IPY_MODEL_0fd4e096bd524cbdbc452f4e78bf3324",
              "IPY_MODEL_1e0152e90cef4a65bd77172f19c6009e",
              "IPY_MODEL_42e4a073f99a4fd2ba81f3459ff67d8f"
            ]
          }
        },
        "342809f6b9474905ae0f3bdf165f283b": {
          "model_module": "@jupyter-widgets/base",
          "model_name": "LayoutModel",
          "model_module_version": "1.2.0",
          "state": {
            "_view_name": "LayoutView",
            "grid_template_rows": null,
            "right": null,
            "justify_content": null,
            "_view_module": "@jupyter-widgets/base",
            "overflow": null,
            "_model_module_version": "1.2.0",
            "_view_count": null,
            "flex_flow": null,
            "width": null,
            "min_width": null,
            "border": null,
            "align_items": null,
            "bottom": null,
            "_model_module": "@jupyter-widgets/base",
            "top": null,
            "grid_column": null,
            "overflow_y": null,
            "overflow_x": null,
            "grid_auto_flow": null,
            "grid_area": null,
            "grid_template_columns": null,
            "flex": null,
            "_model_name": "LayoutModel",
            "justify_items": null,
            "grid_row": null,
            "max_height": null,
            "align_content": null,
            "visibility": null,
            "align_self": null,
            "height": null,
            "min_height": null,
            "padding": null,
            "grid_auto_rows": null,
            "grid_gap": null,
            "max_width": null,
            "order": null,
            "_view_module_version": "1.2.0",
            "grid_template_areas": null,
            "object_position": null,
            "object_fit": null,
            "grid_auto_columns": null,
            "margin": null,
            "display": null,
            "left": null
          }
        },
        "0fd4e096bd524cbdbc452f4e78bf3324": {
          "model_module": "@jupyter-widgets/controls",
          "model_name": "IntSliderModel",
          "model_module_version": "1.5.0",
          "state": {
            "_view_name": "IntSliderView",
            "style": "IPY_MODEL_b779874a0bf94414a23fc5ae70b7f321",
            "_dom_classes": [],
            "description": "mean",
            "step": 1,
            "_model_name": "IntSliderModel",
            "orientation": "horizontal",
            "max": 5,
            "_view_module": "@jupyter-widgets/controls",
            "_model_module_version": "1.5.0",
            "value": 0,
            "_view_count": null,
            "disabled": false,
            "_view_module_version": "1.5.0",
            "min": -5,
            "continuous_update": true,
            "readout_format": "d",
            "description_tooltip": null,
            "readout": true,
            "_model_module": "@jupyter-widgets/controls",
            "layout": "IPY_MODEL_0f883bfe9a604c899d0dbc2bcd81d10e"
          }
        },
        "1e0152e90cef4a65bd77172f19c6009e": {
          "model_module": "@jupyter-widgets/controls",
          "model_name": "IntSliderModel",
          "model_module_version": "1.5.0",
          "state": {
            "_view_name": "IntSliderView",
            "style": "IPY_MODEL_cb9e62ee160b49cbbf02687767b2584b",
            "_dom_classes": [],
            "description": "std_dev",
            "step": 1,
            "_model_name": "IntSliderModel",
            "orientation": "horizontal",
            "max": 5,
            "_view_module": "@jupyter-widgets/controls",
            "_model_module_version": "1.5.0",
            "value": 1,
            "_view_count": null,
            "disabled": false,
            "_view_module_version": "1.5.0",
            "min": 1,
            "continuous_update": true,
            "readout_format": "d",
            "description_tooltip": null,
            "readout": true,
            "_model_module": "@jupyter-widgets/controls",
            "layout": "IPY_MODEL_e4fdba1cbb6c45f080117d416cd94d02"
          }
        },
        "42e4a073f99a4fd2ba81f3459ff67d8f": {
          "model_module": "@jupyter-widgets/output",
          "model_name": "OutputModel",
          "model_module_version": "1.0.0",
          "state": {
            "_view_name": "OutputView",
            "msg_id": "",
            "_dom_classes": [],
            "_model_name": "OutputModel",
            "outputs": [
              {
                "output_type": "display_data",
                "data": {
                  "image/png": "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\n",
                  "text/plain": "<Figure size 432x288 with 1 Axes>"
                },
                "metadata": {
                  "needs_background": "light"
                }
              }
            ],
            "_view_module": "@jupyter-widgets/output",
            "_model_module_version": "1.0.0",
            "_view_count": null,
            "_view_module_version": "1.0.0",
            "layout": "IPY_MODEL_885c7c2f327d4ae396f3addaf88ad4f8",
            "_model_module": "@jupyter-widgets/output"
          }
        },
        "b779874a0bf94414a23fc5ae70b7f321": {
          "model_module": "@jupyter-widgets/controls",
          "model_name": "SliderStyleModel",
          "model_module_version": "1.5.0",
          "state": {
            "_view_name": "StyleView",
            "handle_color": null,
            "_model_name": "SliderStyleModel",
            "description_width": "",
            "_view_module": "@jupyter-widgets/base",
            "_model_module_version": "1.5.0",
            "_view_count": null,
            "_view_module_version": "1.2.0",
            "_model_module": "@jupyter-widgets/controls"
          }
        },
        "0f883bfe9a604c899d0dbc2bcd81d10e": {
          "model_module": "@jupyter-widgets/base",
          "model_name": "LayoutModel",
          "model_module_version": "1.2.0",
          "state": {
            "_view_name": "LayoutView",
            "grid_template_rows": null,
            "right": null,
            "justify_content": null,
            "_view_module": "@jupyter-widgets/base",
            "overflow": null,
            "_model_module_version": "1.2.0",
            "_view_count": null,
            "flex_flow": null,
            "width": null,
            "min_width": null,
            "border": null,
            "align_items": null,
            "bottom": null,
            "_model_module": "@jupyter-widgets/base",
            "top": null,
            "grid_column": null,
            "overflow_y": null,
            "overflow_x": null,
            "grid_auto_flow": null,
            "grid_area": null,
            "grid_template_columns": null,
            "flex": null,
            "_model_name": "LayoutModel",
            "justify_items": null,
            "grid_row": null,
            "max_height": null,
            "align_content": null,
            "visibility": null,
            "align_self": null,
            "height": null,
            "min_height": null,
            "padding": null,
            "grid_auto_rows": null,
            "grid_gap": null,
            "max_width": null,
            "order": null,
            "_view_module_version": "1.2.0",
            "grid_template_areas": null,
            "object_position": null,
            "object_fit": null,
            "grid_auto_columns": null,
            "margin": null,
            "display": null,
            "left": null
          }
        },
        "cb9e62ee160b49cbbf02687767b2584b": {
          "model_module": "@jupyter-widgets/controls",
          "model_name": "SliderStyleModel",
          "model_module_version": "1.5.0",
          "state": {
            "_view_name": "StyleView",
            "handle_color": null,
            "_model_name": "SliderStyleModel",
            "description_width": "",
            "_view_module": "@jupyter-widgets/base",
            "_model_module_version": "1.5.0",
            "_view_count": null,
            "_view_module_version": "1.2.0",
            "_model_module": "@jupyter-widgets/controls"
          }
        },
        "e4fdba1cbb6c45f080117d416cd94d02": {
          "model_module": "@jupyter-widgets/base",
          "model_name": "LayoutModel",
          "model_module_version": "1.2.0",
          "state": {
            "_view_name": "LayoutView",
            "grid_template_rows": null,
            "right": null,
            "justify_content": null,
            "_view_module": "@jupyter-widgets/base",
            "overflow": null,
            "_model_module_version": "1.2.0",
            "_view_count": null,
            "flex_flow": null,
            "width": null,
            "min_width": null,
            "border": null,
            "align_items": null,
            "bottom": null,
            "_model_module": "@jupyter-widgets/base",
            "top": null,
            "grid_column": null,
            "overflow_y": null,
            "overflow_x": null,
            "grid_auto_flow": null,
            "grid_area": null,
            "grid_template_columns": null,
            "flex": null,
            "_model_name": "LayoutModel",
            "justify_items": null,
            "grid_row": null,
            "max_height": null,
            "align_content": null,
            "visibility": null,
            "align_self": null,
            "height": null,
            "min_height": null,
            "padding": null,
            "grid_auto_rows": null,
            "grid_gap": null,
            "max_width": null,
            "order": null,
            "_view_module_version": "1.2.0",
            "grid_template_areas": null,
            "object_position": null,
            "object_fit": null,
            "grid_auto_columns": null,
            "margin": null,
            "display": null,
            "left": null
          }
        },
        "885c7c2f327d4ae396f3addaf88ad4f8": {
          "model_module": "@jupyter-widgets/base",
          "model_name": "LayoutModel",
          "model_module_version": "1.2.0",
          "state": {
            "_view_name": "LayoutView",
            "grid_template_rows": null,
            "right": null,
            "justify_content": null,
            "_view_module": "@jupyter-widgets/base",
            "overflow": null,
            "_model_module_version": "1.2.0",
            "_view_count": null,
            "flex_flow": null,
            "width": null,
            "min_width": null,
            "border": null,
            "align_items": null,
            "bottom": null,
            "_model_module": "@jupyter-widgets/base",
            "top": null,
            "grid_column": null,
            "overflow_y": null,
            "overflow_x": null,
            "grid_auto_flow": null,
            "grid_area": null,
            "grid_template_columns": null,
            "flex": null,
            "_model_name": "LayoutModel",
            "justify_items": null,
            "grid_row": null,
            "max_height": null,
            "align_content": null,
            "visibility": null,
            "align_self": null,
            "height": null,
            "min_height": null,
            "padding": null,
            "grid_auto_rows": null,
            "grid_gap": null,
            "max_width": null,
            "order": null,
            "_view_module_version": "1.2.0",
            "grid_template_areas": null,
            "object_position": null,
            "object_fit": null,
            "grid_auto_columns": null,
            "margin": null,
            "display": null,
            "left": null
          }
        },
        "4f834d35d4f24854be1c9e5ed672fbcc": {
          "model_module": "@jupyter-widgets/controls",
          "model_name": "VBoxModel",
          "model_module_version": "1.5.0",
          "state": {
            "_view_name": "VBoxView",
            "_dom_classes": [
              "widget-interact"
            ],
            "_model_name": "VBoxModel",
            "_view_module": "@jupyter-widgets/controls",
            "_model_module_version": "1.5.0",
            "_view_count": null,
            "_view_module_version": "1.5.0",
            "box_style": "",
            "layout": "IPY_MODEL_df5b47812e6043b0af51c4b556c5189d",
            "_model_module": "@jupyter-widgets/controls",
            "children": [
              "IPY_MODEL_1b5a56823eeb455a9fbe6d640be2d2a6",
              "IPY_MODEL_eacfe0211e8040a4b404d333cc7d21f5",
              "IPY_MODEL_a3b65b103f864da3bc3081c318f9eb0f"
            ]
          }
        },
        "df5b47812e6043b0af51c4b556c5189d": {
          "model_module": "@jupyter-widgets/base",
          "model_name": "LayoutModel",
          "model_module_version": "1.2.0",
          "state": {
            "_view_name": "LayoutView",
            "grid_template_rows": null,
            "right": null,
            "justify_content": null,
            "_view_module": "@jupyter-widgets/base",
            "overflow": null,
            "_model_module_version": "1.2.0",
            "_view_count": null,
            "flex_flow": null,
            "width": null,
            "min_width": null,
            "border": null,
            "align_items": null,
            "bottom": null,
            "_model_module": "@jupyter-widgets/base",
            "top": null,
            "grid_column": null,
            "overflow_y": null,
            "overflow_x": null,
            "grid_auto_flow": null,
            "grid_area": null,
            "grid_template_columns": null,
            "flex": null,
            "_model_name": "LayoutModel",
            "justify_items": null,
            "grid_row": null,
            "max_height": null,
            "align_content": null,
            "visibility": null,
            "align_self": null,
            "height": null,
            "min_height": null,
            "padding": null,
            "grid_auto_rows": null,
            "grid_gap": null,
            "max_width": null,
            "order": null,
            "_view_module_version": "1.2.0",
            "grid_template_areas": null,
            "object_position": null,
            "object_fit": null,
            "grid_auto_columns": null,
            "margin": null,
            "display": null,
            "left": null
          }
        },
        "1b5a56823eeb455a9fbe6d640be2d2a6": {
          "model_module": "@jupyter-widgets/controls",
          "model_name": "FloatSliderModel",
          "model_module_version": "1.5.0",
          "state": {
            "_view_name": "FloatSliderView",
            "style": "IPY_MODEL_9e047f4768194228a816b788ba009671",
            "_dom_classes": [],
            "description": "valore",
            "step": 0.1,
            "_model_name": "FloatSliderModel",
            "orientation": "horizontal",
            "max": 4,
            "_view_module": "@jupyter-widgets/controls",
            "_model_module_version": "1.5.0",
            "value": 1,
            "_view_count": null,
            "disabled": false,
            "_view_module_version": "1.5.0",
            "min": -4,
            "continuous_update": true,
            "readout_format": ".2f",
            "description_tooltip": null,
            "readout": true,
            "_model_module": "@jupyter-widgets/controls",
            "layout": "IPY_MODEL_f28201fb077549f58f57297f4ab5c89a"
          }
        },
        "eacfe0211e8040a4b404d333cc7d21f5": {
          "model_module": "@jupyter-widgets/controls",
          "model_name": "ButtonModel",
          "model_module_version": "1.5.0",
          "state": {
            "_view_name": "ButtonView",
            "style": "IPY_MODEL_6fd596cbd96b4b38b8c09f6a8dd1b0af",
            "_dom_classes": [],
            "description": "Run Interact",
            "_model_name": "ButtonModel",
            "button_style": "",
            "_view_module": "@jupyter-widgets/controls",
            "_model_module_version": "1.5.0",
            "tooltip": "",
            "_view_count": null,
            "disabled": false,
            "_view_module_version": "1.5.0",
            "layout": "IPY_MODEL_ee30164cc54c4eabb65bd10efaaa2988",
            "_model_module": "@jupyter-widgets/controls",
            "icon": ""
          }
        },
        "a3b65b103f864da3bc3081c318f9eb0f": {
          "model_module": "@jupyter-widgets/output",
          "model_name": "OutputModel",
          "model_module_version": "1.0.0",
          "state": {
            "_view_name": "OutputView",
            "msg_id": "",
            "_dom_classes": [],
            "_model_name": "OutputModel",
            "outputs": [],
            "_view_module": "@jupyter-widgets/output",
            "_model_module_version": "1.0.0",
            "_view_count": null,
            "_view_module_version": "1.0.0",
            "layout": "IPY_MODEL_28237704eae74e38b9a1ad72190cb2d5",
            "_model_module": "@jupyter-widgets/output"
          }
        },
        "9e047f4768194228a816b788ba009671": {
          "model_module": "@jupyter-widgets/controls",
          "model_name": "SliderStyleModel",
          "model_module_version": "1.5.0",
          "state": {
            "_view_name": "StyleView",
            "handle_color": null,
            "_model_name": "SliderStyleModel",
            "description_width": "",
            "_view_module": "@jupyter-widgets/base",
            "_model_module_version": "1.5.0",
            "_view_count": null,
            "_view_module_version": "1.2.0",
            "_model_module": "@jupyter-widgets/controls"
          }
        },
        "f28201fb077549f58f57297f4ab5c89a": {
          "model_module": "@jupyter-widgets/base",
          "model_name": "LayoutModel",
          "model_module_version": "1.2.0",
          "state": {
            "_view_name": "LayoutView",
            "grid_template_rows": null,
            "right": null,
            "justify_content": null,
            "_view_module": "@jupyter-widgets/base",
            "overflow": null,
            "_model_module_version": "1.2.0",
            "_view_count": null,
            "flex_flow": null,
            "width": null,
            "min_width": null,
            "border": null,
            "align_items": null,
            "bottom": null,
            "_model_module": "@jupyter-widgets/base",
            "top": null,
            "grid_column": null,
            "overflow_y": null,
            "overflow_x": null,
            "grid_auto_flow": null,
            "grid_area": null,
            "grid_template_columns": null,
            "flex": null,
            "_model_name": "LayoutModel",
            "justify_items": null,
            "grid_row": null,
            "max_height": null,
            "align_content": null,
            "visibility": null,
            "align_self": null,
            "height": null,
            "min_height": null,
            "padding": null,
            "grid_auto_rows": null,
            "grid_gap": null,
            "max_width": null,
            "order": null,
            "_view_module_version": "1.2.0",
            "grid_template_areas": null,
            "object_position": null,
            "object_fit": null,
            "grid_auto_columns": null,
            "margin": null,
            "display": null,
            "left": null
          }
        },
        "6fd596cbd96b4b38b8c09f6a8dd1b0af": {
          "model_module": "@jupyter-widgets/controls",
          "model_name": "ButtonStyleModel",
          "model_module_version": "1.5.0",
          "state": {
            "_view_name": "StyleView",
            "_model_name": "ButtonStyleModel",
            "_view_module": "@jupyter-widgets/base",
            "_model_module_version": "1.5.0",
            "_view_count": null,
            "button_color": null,
            "font_weight": "",
            "_view_module_version": "1.2.0",
            "_model_module": "@jupyter-widgets/controls"
          }
        },
        "ee30164cc54c4eabb65bd10efaaa2988": {
          "model_module": "@jupyter-widgets/base",
          "model_name": "LayoutModel",
          "model_module_version": "1.2.0",
          "state": {
            "_view_name": "LayoutView",
            "grid_template_rows": null,
            "right": null,
            "justify_content": null,
            "_view_module": "@jupyter-widgets/base",
            "overflow": null,
            "_model_module_version": "1.2.0",
            "_view_count": null,
            "flex_flow": null,
            "width": null,
            "min_width": null,
            "border": null,
            "align_items": null,
            "bottom": null,
            "_model_module": "@jupyter-widgets/base",
            "top": null,
            "grid_column": null,
            "overflow_y": null,
            "overflow_x": null,
            "grid_auto_flow": null,
            "grid_area": null,
            "grid_template_columns": null,
            "flex": null,
            "_model_name": "LayoutModel",
            "justify_items": null,
            "grid_row": null,
            "max_height": null,
            "align_content": null,
            "visibility": null,
            "align_self": null,
            "height": null,
            "min_height": null,
            "padding": null,
            "grid_auto_rows": null,
            "grid_gap": null,
            "max_width": null,
            "order": null,
            "_view_module_version": "1.2.0",
            "grid_template_areas": null,
            "object_position": null,
            "object_fit": null,
            "grid_auto_columns": null,
            "margin": null,
            "display": null,
            "left": null
          }
        },
        "28237704eae74e38b9a1ad72190cb2d5": {
          "model_module": "@jupyter-widgets/base",
          "model_name": "LayoutModel",
          "model_module_version": "1.2.0",
          "state": {
            "_view_name": "LayoutView",
            "grid_template_rows": null,
            "right": null,
            "justify_content": null,
            "_view_module": "@jupyter-widgets/base",
            "overflow": null,
            "_model_module_version": "1.2.0",
            "_view_count": null,
            "flex_flow": null,
            "width": null,
            "min_width": null,
            "border": null,
            "align_items": null,
            "bottom": null,
            "_model_module": "@jupyter-widgets/base",
            "top": null,
            "grid_column": null,
            "overflow_y": null,
            "overflow_x": null,
            "grid_auto_flow": null,
            "grid_area": null,
            "grid_template_columns": null,
            "flex": null,
            "_model_name": "LayoutModel",
            "justify_items": null,
            "grid_row": null,
            "max_height": null,
            "align_content": null,
            "visibility": null,
            "align_self": null,
            "height": null,
            "min_height": null,
            "padding": null,
            "grid_auto_rows": null,
            "grid_gap": null,
            "max_width": null,
            "order": null,
            "_view_module_version": "1.2.0",
            "grid_template_areas": null,
            "object_position": null,
            "object_fit": null,
            "grid_auto_columns": null,
            "margin": null,
            "display": null,
            "left": null
          }
        },
        "3d2afb9d67b54e9ebcd650b7b63a06cc": {
          "model_module": "@jupyter-widgets/controls",
          "model_name": "VBoxModel",
          "model_module_version": "1.5.0",
          "state": {
            "_view_name": "VBoxView",
            "_dom_classes": [
              "widget-interact"
            ],
            "_model_name": "VBoxModel",
            "_view_module": "@jupyter-widgets/controls",
            "_model_module_version": "1.5.0",
            "_view_count": null,
            "_view_module_version": "1.5.0",
            "box_style": "",
            "layout": "IPY_MODEL_c1a9c2f8b73f4142a6dbe191f58edd48",
            "_model_module": "@jupyter-widgets/controls",
            "children": [
              "IPY_MODEL_499d28208e6e497e89513aed669ee716",
              "IPY_MODEL_d090b6f540014003a8ed76bc7e11a224",
              "IPY_MODEL_388b5a2e1b774154ae12b78067b4277b"
            ]
          }
        },
        "c1a9c2f8b73f4142a6dbe191f58edd48": {
          "model_module": "@jupyter-widgets/base",
          "model_name": "LayoutModel",
          "model_module_version": "1.2.0",
          "state": {
            "_view_name": "LayoutView",
            "grid_template_rows": null,
            "right": null,
            "justify_content": null,
            "_view_module": "@jupyter-widgets/base",
            "overflow": null,
            "_model_module_version": "1.2.0",
            "_view_count": null,
            "flex_flow": null,
            "width": null,
            "min_width": null,
            "border": null,
            "align_items": null,
            "bottom": null,
            "_model_module": "@jupyter-widgets/base",
            "top": null,
            "grid_column": null,
            "overflow_y": null,
            "overflow_x": null,
            "grid_auto_flow": null,
            "grid_area": null,
            "grid_template_columns": null,
            "flex": null,
            "_model_name": "LayoutModel",
            "justify_items": null,
            "grid_row": null,
            "max_height": null,
            "align_content": null,
            "visibility": null,
            "align_self": null,
            "height": null,
            "min_height": null,
            "padding": null,
            "grid_auto_rows": null,
            "grid_gap": null,
            "max_width": null,
            "order": null,
            "_view_module_version": "1.2.0",
            "grid_template_areas": null,
            "object_position": null,
            "object_fit": null,
            "grid_auto_columns": null,
            "margin": null,
            "display": null,
            "left": null
          }
        },
        "499d28208e6e497e89513aed669ee716": {
          "model_module": "@jupyter-widgets/controls",
          "model_name": "DropdownModel",
          "model_module_version": "1.5.0",
          "state": {
            "_options_labels": [
              "S",
              "M",
              "L",
              "XL"
            ],
            "_view_name": "DropdownView",
            "style": "IPY_MODEL_5583acedc1284198905044aa70998ce3",
            "_dom_classes": [],
            "description": "taglia",
            "_model_name": "DropdownModel",
            "index": 2,
            "_view_module": "@jupyter-widgets/controls",
            "_model_module_version": "1.5.0",
            "_view_count": null,
            "disabled": false,
            "_view_module_version": "1.5.0",
            "description_tooltip": null,
            "_model_module": "@jupyter-widgets/controls",
            "layout": "IPY_MODEL_e0c952c540dc443d9b2709690948215a"
          }
        },
        "d090b6f540014003a8ed76bc7e11a224": {
          "model_module": "@jupyter-widgets/controls",
          "model_name": "ButtonModel",
          "model_module_version": "1.5.0",
          "state": {
            "_view_name": "ButtonView",
            "style": "IPY_MODEL_41707b01fccd46dba293918ea93d5c01",
            "_dom_classes": [],
            "description": "Run Interact",
            "_model_name": "ButtonModel",
            "button_style": "",
            "_view_module": "@jupyter-widgets/controls",
            "_model_module_version": "1.5.0",
            "tooltip": "",
            "_view_count": null,
            "disabled": false,
            "_view_module_version": "1.5.0",
            "layout": "IPY_MODEL_b2c42e435cae4397afddeb45da485da2",
            "_model_module": "@jupyter-widgets/controls",
            "icon": ""
          }
        },
        "388b5a2e1b774154ae12b78067b4277b": {
          "model_module": "@jupyter-widgets/output",
          "model_name": "OutputModel",
          "model_module_version": "1.0.0",
          "state": {
            "_view_name": "OutputView",
            "msg_id": "",
            "_dom_classes": [],
            "_model_name": "OutputModel",
            "outputs": [
              {
                "output_type": "stream",
                "name": "stdout",
                "text": [
                  "Risultati attesi: 0.445\n",
                  "Risultati ottenuti: 0.493\n"
                ]
              },
              {
                "output_type": "display_data",
                "data": {
                  "image/png": "iVBORw0KGgoAAAANSUhEUgAAAYMAAAD4CAYAAAAO9oqkAAAABHNCSVQICAgIfAhkiAAAAAlwSFlzAAALEgAACxIB0t1+/AAAADh0RVh0U29mdHdhcmUAbWF0cGxvdGxpYiB2ZXJzaW9uMy4yLjIsIGh0dHA6Ly9tYXRwbG90bGliLm9yZy+WH4yJAAAgAElEQVR4nO3dd3xc1Zn/8c8zozrq3bIkW7ItF9kYMMamORQTWgAnBLIkG+CXZQMpbGCzJEs22YSw+8uGhITNblgSNiShhNBSMMTBQEw1jnuVbdmyLVvV6r1rzv4xV7Ysy7bKaO6dmef9evml0Z07mkfXo/nOPeeec8QYg1JKqfDmsrsApZRS9tMwUEoppWGglFJKw0AppRQaBkoppYAIuwsYLj093eTn59tdhlJKBZXNmzfXG2Myxvt4x4VBfn4+mzZtsrsMpZQKKiJyeCKP12YipZRSGgZKKaU0DJRSSqFhoJRSCg0DpZRSaBgopZRCw0AppRQaBiqEvFFcQ1l9xxn36+kf4NAo9lMqnDhu0JlS41FS08Zdz2wmKzGaV758CV5jiI10kxIXddK+T7x7kB+9uY+lBal8Zuk0VpyTY0PFSjmLhoEKCc+tP0xMpIuOngEu+I+/ADA7K56X7r6IJE/kCfsWV7UCsP5QI+sPNTIvO5HZWQkBr1kpJ9FmIhUS9te2My87kV997nwWTUsmxRPJvqPtnP3QGxxp6Dxh37q2HuKjI/j61XOIcAnPbyi3qWqlnEPDQIWE8qZOclM8nJ+fyu+/dDFvfvXSY/e9Xlx9wr6lde2cNz2F2VkJzMyIY3t5c6DLVcpxNAxU0Gnr7uNbf9xJVXMXAP0DXqqbu8lLiT22T3p8NC/dfQHZSTGs2VMLwIG6du56ehMtXX1MSYwBICMhhsON2pmslIaBCjpr9tby7F+PcNH31/Dzdw9Q09pNv9eQl+o5Yb+CjHhmZyWw92gbAL94/yBv7D4KwKJpyQBkJERT395LZ29/YH8JpRxmVGEgIteISImIlIrIAyPcHy0iL1j3rxeRfGt7pIg8JSI7RWSPiHzDv+WrcLT5cNOx2099WHasTyB3yJnBoCmJMTR39lHe2Mn28hYAPrt0Gmnx0QBkWF+PNHae9FilwskZw0BE3MBjwLVAEfBpESkattudQJMxZhbwKPCwtf0WINoYcxZwHnD3YFAoNV4by5pYVpjOf/7NOVS1dPPE+wcBmDsl8aR9pyT5moOuevQ9dle3cuW8TC6bk3ns/sxEXxhsKms66bFKhZPRnBksAUqNMQeNMb3A88CKYfusAJ6ybr8MLBcRAQwQJyIRQCzQC7T6pXIVlnr7vew/2sZZOUlcs2AK6fFRvFNSR05yLBkJ0SftP9g30NU3AMCyWScuBDUtxcOszHi+t2oPHT3aVKTC12jCIAcYeu1dhbVtxH2MMf1AC5CGLxg6gGrgCPCIMaZxgjWrMHagrp1+r2HOlARiIt3ce+VsAGZkxJ20rzGQFh9FhEsA+NpVc8gZ1pTkcgk3nZtDZ+8Ab5fUTv4voJRDTfagsyXAADAVSAHeF5G3jDEHh+4kIncBdwFMmzZtkktSwWyf1Rk82CT02aXTSIiOYEFO0oj7u0T47o3zWVtaz6zM+BH3mZURT1JsJKt2VnP9wqmTU7hSDjeaM4NKIG/I97nWthH3sZqEkoAG4DPA68aYPmNMLbAWWDz8CYwxTxhjFhtjFmdkjHs9ZxUG9lS3EeESCtJ9ZwIiwsfPzTnlGz1AVmIMNy3KxW2dIQzncgnn5iWzZm8tXb0Dk1K3Uk43mjDYCBSKSIGIRAG3AiuH7bMSuMO6fTOwxhhj8DUNXQEgInHABcBefxSuwk/fgJft5c3MmZJAVMSZX7oGM+qfvWhaCt19XtYdrJ9IiUoFrTP+RVl9APcAq4E9wIvGmGIReUhEbrR2exJIE5FS4KvA4OWnjwHxIlKML1R+ZYzZ4e9fQoW+Aa/h+v/6gHUHG1iYm+z3nz89zTdGYf/Rdr//bKWCwaj6DIwxq4BVw7Z9e8jtbnyXkQ5/XPtI25Uaq1U7qymx+gsKT9MkNF5x0REkxkRQ1qCjkVV40llLleO1dPbx3Vd3k5/m4ZOLcrl5ce6kPE9mYgwH6zQMVHjSMFCO94sPDlLf3sOvP3fJKa8a8ofMhGj212ozkQpPOjeRcrzXdlRz2ZyMsQfB6PuPAd/UFHVtPfT2e8f2QKVCgIaBcjSv11DZ1MWcKZO/+ExSrG8RnPr2nkl/LqWcRsNAOVp9Rw+9A15ykk+ehM7fEq0wqGvTMFDhR8NAOVplk2/NgvGEwRhbiY6dGWgYqHCkYaAcraq5G4CpATgzOBYG2kykwpCGgXK0ymbfOgOBCIOEGN/Fdb9Zf5j+Ae1EVuFFw0A52sG6DtLioo59ap9MkW7fn8OuylZ+t6Vi0p9PKSfRMFCOVlrbzsxxjjg2Y+00AG5YmA1wbHlMpcKFDjpTjmWMYX9tOx+z3qADYcU5ObT39LN2fz39A14i3Pp5SYUHfaUrx6pv76Wlq29S5iI6nRnp8XT3ezlUr1NTqPChYaAca3+tb2K6061VMBnyUn2d1burdYVWFT40DJRjHbDmCSrMHN/o47GsZzDUlKQYIt1CcZWGgQofGgbKsfbXthMfHUFW4skL3U+mCJeLqcmxFFe1BPR5lbKThoFypPaeft7bV8fMzHhERl6ucjLlpXjYXdWKGc8lSUoFIQ0D5Ug/XVPKkcZObrtgui3PPy3VQ1NnHzWt3bY8v1KBpmGgHKdvwMvvt1Rwxdwsbj5v/AvZTORD/awMX6f1I6tLxv9DlAoiGgbKcR5/5wC1bT387QXTbKthWpqHy+dk8MetVXT3DdhWh1KBomGgHOcPWytZVpjO5XMyba2jKDuRAWP0ElMVFjQMlKN09Q5Q1tDBomkpE/5ZE+36nZ4WB8CuSr2qSIU+DQPlGJ29/Sx4cDXGwNwArGx2JimeSBJjIthRoWGgQp+GgXKMtaUNDHh9n+cDsczlmYgI01I97NQwUGFAw0A5xnv76gD4wqUzybeaaOw2PS2O0tp27URWIU/DQDnGpsNNLCtM54Fr5+JyBX6g2Uimp3kYMEb7DVTI0zBQtjrc0ME9z23hN+sPc6C2naLsRL/9bH+MHp6dmYAAH5TWT7wgpRxMw0DZ6ldry3htRzXf/MMuege8jugrGCo+JoL89DjW7K21uxSlJpWGgbLNgyuL+fWHZSdsc1oYACwtSGVHRQuf/cV6unq170CFJg0DZQtjDK/tqALguc8vJSMhmuVzM5mT5bwwuHR2BjERLj4orWfrkSa7y1FqUuiyl8oWFU1d1Lf38m8r5nPRzHQ2fvNKvz+HvyYcjXS7+Nb1RXzrj7t04joVsvTMQNnif98/CMCSgjSbKxmdlNhIAKpbNAxUaNIwUAHX3tPP0+sOc+v5eY7sIxhJdKSbuCg3R/XMQIUoDQMVcGXWQvOXzcmwuZKxSfFEUaNnBipEaRiogCtr8IXBdIeMMh6tJE+kNhOpkKVhoAJu8MzAKVNOjFZuSiy7q1rZWNZodylK+Z2GgQq4kqPtTEmMITbKPanP4+/liz86LwuXC2752TpKa9v8+8OVspmGgQqoyuYuXt9VzfJ59i5cMx7Jnij+6aNzAPjLHh2RrEKLhoEKqJ+uKUUQvnz5LLtLGZdZmfHkpsTyTkmd3aUo5VcaBipgjjR08tKmcj69JI+pybF2lzNuhZnx7Kps8ctEeEo5xajCQESuEZESESkVkQdGuD9aRF6w7l8vIvlD7lsoIutEpFhEdopIjP/KV8Hkl2sP4XIJXwrSs4JBOcmxtPX0U6VXFqkQcsYwEBE38BhwLVAEfFpEiobtdifQZIyZBTwKPGw9NgJ4FviCMWY+cBnQ57fqVVDZcqSJJfmpZCUG5vOAmfAqyCPLsc5qSmpaJ+XnK2WH0ZwZLAFKjTEHjTG9wPPAimH7rACesm6/DCwXEQGuAnYYY7YDGGMajDE67WMY6h/wsremjaKp/luvwC45Kb4w2FSmk9ap0DGaMMgByod8X2FtG3EfY0w/0AKkAbMBIyKrRWSLiHx9pCcQkbtEZJOIbKqr0465UHSwvoPefi/zsoNj+onT8URFcO60ZH79YRktnXqiq0LDZHcgRwCXAH9rff2EiCwfvpMx5gljzGJjzOKMjOCaokCNzuCykfOnJtlciX9cMSeTzt4BdupymCpEjCYMKoG8Id/nWttG3MfqJ0gCGvCdRbxnjKk3xnQCq4BFEy1aBZ/t5c3ERbmZmREfsOeczIt9BvsNtpVrU5EKDaMJg41AoYgUiEgUcCuwctg+K4E7rNs3A2uM77q71cBZIuKxQuJSYLd/SlfBZFtFC2flJuF2yEL3E5VoTWn9yBv7+NEbJTZXo9TEnTEMrD6Ae/C9se8BXjTGFIvIQyJyo7Xbk0CaiJQCXwUesB7bBPwYX6BsA7YYY/7k/19DOVlP/wB7qlo5Oy/Z7lL8KsXjC4T/XlNKXVuPzdUoNTGjWunMGLMKXxPP0G3fHnK7G7jlFI99Ft/lpSpM7a1uo3fAyzm5gQ2DyR4Sdv9Vc9hZ2cLzG8vZVdXC5XOCb4oNpQbpCGQ16bZXNAOE3JlBVmIMF830rdT2lee2cqSh0+aKlBo/DQM16XZUtJAeH0V2UugNPvdE+U6u23r6eeztUpurUWr8NAzUpNt3tI25UxLxjUMMPYNnB70DXpsrUWr8NAzUpPJ6DfuPtjM7K/gHm53K5y7KZ3ZWvDYTqaCmYaAmVUVTF119A8zOCtz4gkGBmlVURMhMiKGssSMgz6fUZNAwUJNqsPN4bnbwz0l0OhkJ0TS099LR0293KUqNi4aBmlRv760lxRPJWTmhMQ3FqUyxZmI9WKdnByo4aRioSWOM4b399XxkdoYtI48DufTM1GRfGOw7qmsjq+CkYaAmTV1bD/XtPZwbYuMLRpKZEEOES9hXq2GggpOGgZo0e2p8b4yh3l8A4HYJ2UkxlNRoGKjgpGGgJs2eat9KYPOmhH4YAExPi2NbebOujayCkoaBmhS1bd387N0DzJ2SQJI1oVugBfo9eVZGPM2dfRzQTmQVhDQM1KT4YH89zZ19PPzJhXaXEjCzrLEUHx6ot7kSpcZOw0BNip2VLcRGupkfAmsej1ZWQjR5KbG8sLH8zDsr5TAaBmpS7KpsoWhqIhHu8HmJiQgXz0qnuKqVQ/XaVKSCS/j8paqAKq1tZ84Uu+cjCnxH7uDgug9KtalIBRcNA+V3Pf0DNHX2HRuVG04yE6JJi4vivX11dpei1JhoGCi/G1wCMjMh2uZKAk9EODsvmXdL6mjt7rO7HKVGTcNA+d3RVl8YZIXhmQHA0oJUege8vL231u5SlBo1DQPld3Vt3YBvJk872TX2qyAtjugIF1uPNNtTgFLjoGGg/K52sJkoMfyaiQBcLmF6moft5RoGKnhoGCi/q23twSWQFheeYQCQnxZHcVUr3X0Ddpei1KhoGCi/21/bxrRUjy3TVg9l5wxBRdmJ9A54mfuvr7O3ptXGSpQaHQ0D5Xc7K1pYmBv601afzrwhM7Wu0Y5kFQQ0DJRf1bX1UNXSzcLc0F7Z7EzcLuGb180DfM1mSjmdhoHyq12VLQAhv8zlaBSkx5GXEsuRxk67S1HqjDQMlF/tqGhBBOZrGACQHh+tYaCCgoaB8qudlc3MzIgnPjrC7lJsG2cwVHp8NBWNnbrgjXI8DQPlN16vYeuR5rDvLxgqMzGa7n4vNa3ddpei1GlpGCi/KTnaRkNHLxfNTLe7FMfITvJNyVFa225zJUqdnoaB8pvBSygvnpVmcyU+xtaRBj7ZSbGAhoFyPg0D5RdNHb387J0DLCtMP/YGqCAxJoK4KLeGgXI8DQPlF2/tOUpbTz9fu3qO3aU4iogwNTmWvdVtdpei1GlpGCi/eLuklqzEaB1fMILpaR6Kq1voH/DaXYpSp6RhoCastq2bt/bUcvX8KYjYOx/RUE65mnN6ahzdfV4O1Om6yMq5NAzUhD277jB9A14+d3GB3aU40oyMOABe21FlcyVKnZqGgZoQr9fwuy2VLCvMoCA9zu5yHCkrMYbz81P4xfsH6e3XpiLlTBoGakL217ZT2dzFDQuz7S7lJE5pJgI4b3oKXX1e9lTrdNbKmUYVBiJyjYiUiEipiDwwwv3RIvKCdf96Eckfdv80EWkXkfv9U7Zyioom37w7szLjba7E2Wak+47PNl39TDnUGcNARNzAY8C1QBHwaREpGrbbnUCTMWYW8Cjw8LD7fwz8eeLlKqepau4CICdZxxacToonkmRPpC6FqRxrNGcGS4BSY8xBY0wv8DywYtg+K4CnrNsvA8vFuqxERD4OHAKK/VOycpKK5i6i3C7S48N3icvREBHyUjzs1mYi5VCjCYMcoHzI9xXWthH3Mcb0Ay1AmojEA/8MfPd0TyAid4nIJhHZVFdXN9ralQNUNXeTnRyDy+YlLoNBbkospbXt2omsHGmyO5AfBB41xpx2LL4x5gljzGJjzOKMjIxJLkn505GGDqY6dPoJJ8xNNFRuSiz9XsOBOp2aQjnPaMKgEsgb8n2utW3EfUQkAkgCGoClwA9EpAy4D/gXEblngjUrh9hd1cr2ihYumumMiemcbkZ6PAL8fkuF3aUodZLRhMFGoFBECkQkCrgVWDlsn5XAHdbtm4E1xmeZMSbfGJMP/CfwPWPMT/1Uu7JRS1cff//URhJjIrjtwul2lxMUMhKiWVKQyrN/PYzX66yzFqXOGAZWH8A9wGpgD/CiMaZYRB4SkRut3Z7E10dQCnwVOOnyUxVa/rClgqqWbn5xx/kke6LsLmdEThpnMGhWZjxdfV5q23rsLkWpE4xqbUJjzCpg1bBt3x5yuxu45Qw/48Fx1KccyBjDbzeUszA3iSUFqXaXE1QyrKuuyps6mWItfKOUE+gIZDVmW440U3K0jc8smWZ3KUEnPcEKg8ZOmytR6kQaBmrM/ryzmqgIFzecPdXuUoJOWlwUApQ3dtldilIn0DBQY/ZBaT3n56cQFz2qVkY1RKTbRWpcFIfq9fJS5SwaBmpMGjt62VvTpoveT0BeiocdlS12l6HUCTQM1JiU1PiWb1yYqyuajVd+uodDdR20dffZXYpSx2gYqDEprfWFQWFmgs2VBK/8tDgMUFyl8xQp59AwUGOyv7adhOgIshKdPzGdE8cZgG+xG4AjekWRchANAzUme6pbmZUV76i1joNNiicS4fj030o5gYaBGrXW7j62HmlmaYHORTQREW4XyZ5IDQPlKBoGatRe3V5Fv9ewfF6m3aUEvdS4KCqbNAyUc2gYqFFpaO/hu6/uZvH0FBZNS7G7nFFx2hTWQ6V4oqho7qK5s5eDOqW1cgANAzUq7++vp7ffy79eX4RbF7KZsOykGCoau/joo+9xxY/epaOn3+6SVJjTMFBn1NM/wMubK0jxRLIgR8cX+MOCnCQGjKHOmr303ue30tmrgaDso2GgzuiPWyv5oLSez39kRlCdFTj10lKAgrQ40uKiSIuL4uzcJN7aU8v3Vu2xuywVxnRyGXVGJTXteKLcfPHSmXaXEjJcLuHBG+YTHeHC5RKeXlfGixsr+NbHioiJdNtdngpDemagzuhgfTsF6XE6tsDPYqPcuKwzrXPykukd8PL6rhqbq1LhSsNAndHBug4K0uPsLiOkzc5KwO0S7nthG9vKm+0uR4UhDQN1Wi1dfVQ0dTIjI97uUkJaTKSbe68oRIDH3ym1uxwVhjQM1Gn9au0hvAaunp9ldylj5uD+4xEVTU3kqqIs/rKnlpZOndFUBZaGgTolYwy/21LBR2ZnMH+qXlIaCIvzU+n3Gj7xP2t17IEKKA0DdUp7a9oob+ziugVT7C4lbOSneSjKTuRgfQdv7NbOZBU4GgbqlN7fXwfAFXODcy4i4+SBBqcgItx3ZSGpcVGs2qlhoAJHw0Cd0sayJvLTPGRa8++rwHCJMHdKgl5VpAJKw0CNqKd/gM2Hm1icn2p3KWEpKzGGurYe7TdQAaNhoEb04zf20djRy41nT7W7lLCUleBbSe5wg66GpgJDw0CdxBjDK9uquKooi4/MzrC7nHELvh6D4zITfE1zZQ0dNleiwoWGgTrJ3po2alq7g7bjOBRkJkbjEli5vSooO8JV8NEwUCcwxvD1l3fgiXJrGNgoJtLNdQuyeX1XDSVH2+wuR4UBDQN1goaOXnZWtnDv8kK9ishmi/N9K8qV1GgYqMmnYaBOUFbva6OenZVgcyUqKzEGl8D+o7osppp8GgbqBIesMMgPgVlKg72pPdLtIisxRpuJVEBoGKgTHG7oxO0SclNi7S5FATMz4nl/Xx3VLV12l6JCnIaBOsH2imamp3qIdOtLwwmuX5hNn9fw67VldpeiQpz+xatjKpu7+KC0nusXZttdip8EeTsRkB4fzfzsRFZur8LrDf7fRzmXhoE65k87qjAGblmcZ3cpaoilBalUt3Sz6XCT3aWoEKZhoI55c/dRirITyUv12F2KGuLsvGSi3C5e2VZpdykqhGkYKAB2V7WysayJ687StQucJibSzVk5SazZW6ujkdWk0TBQAPzv+wdJiI7gtgvy7S7Fb0LpfXPulASqW7o50qgT16nJMaowEJFrRKREREpF5IER7o8WkRes+9eLSL61/aMisllEdlpfr/Bv+cofuvsGeHP3UT62MJskT6Td5agRzJniGwT41p5amytRoeqMYSAibuAx4FqgCPi0iBQN2+1OoMkYMwt4FHjY2l4P3GCMOQu4A3jGX4Ur/3lrz1Hae/q59qxQuYoo9GQnxTA7K57H3i6lp3/A7nJUCBrNmcESoNQYc9AY0ws8D6wYts8K4Cnr9svAchERY8xWY0yVtb0YiBWRaH8UrvyjvLGTH7xeQkF6HJfMSre7HHUKIsIVczJp7OhlX41OT6H8bzRhkAOUD/m+wto24j7GmH6gBUgbts8ngS3GmJ7hTyAid4nIJhHZVFdXN9ra1QR19Q7wvVV7KG/q5Ds3FOF2id0l+VUIdRkAHLvKa09Nq82VqFAUEYgnEZH5+JqOrhrpfmPME8ATAIsXLw61v2FHMsaw9Htv0drdz03n5nDZHJ2u2uky4qOJjnCxp1rDQPnfaM4MKoGho5ByrW0j7iMiEUAS0GB9nwv8AbjdGHNgogUr/yhr6KS127e+7qLpKTZXo0bDZc0Ztba0ngEdjaz8bDRhsBEoFJECEYkCbgVWDttnJb4OYoCbgTXGGCMiycCfgAeMMWv9VbSauPUHGwC4dHYGN56j6xwHi+Vzs9h3tJ2fvaufq5R/nTEMrD6Ae4DVwB7gRWNMsYg8JCI3Wrs9CaSJSCnwVWDw8tN7gFnAt0Vkm/VP2yNs1trdx8/ePUBOciy//tz5JMaE5uWkoTTOYND5+SlcM38Kj7xRQm1bt93lqBAyqj4DY8wqYNWwbd8ecrsbuGWEx/078O8TrFH5kTGG/1i1lyONnbx494WIhFancagTET7/kRm8XlzDhkONXL9Qz+qUf+gI5DDS3tPPbU9u4LcbjnDnJQUszk+1uyQ1DkXZCXii3Kw/2Gh3KSqEaBiEkdW7avigtJ4vXTaTb1w7z+5yJl2ozuMT4XaxrDCdlduraO3us7scFSI0DMLE3ppW/uml7WQmRHP/VXNwhdiYgnBiDNxzeSEtXX28vKnC7nJUiNAwCBOPrC4B4KZFuRoEQc5gOCs3iSJr0Rul/EHDIAyU1rbzdkkdd186gweunWt3OWqCBlu/Pn7uVLaVN1NS02ZvQSokaBiEgfte2EpybCS3X5hvdykBFZo9Bsfdcl4eMZEunl5XZncpKgRoGIS4iqZOdlW28sXLZpKTHGt3OcoPvNapQUpcFFfPn8KqndX0D3htrkoFOw2DENY/4OX5Db45Bi+fq2P9QsXQi6SuXZBNU2cf7+7TCR7VxGgYhLDbf7mBn75dypXzMpmRHmd3OcpPhjZ/XT43g+lpHu5/aTtPvHdA1zpQ46ZhEKKqW7r48EADS/JT+cmt54blSOMQHWZwwviJ6Ag3P7z5bJo6+/jeqr28sk2vLlLjo2EQolbvqgHg+588i7jogMxUrgJkeMYtKUjltX+4BICtR5oDX5AKCRoGIerPu2qYnRXPjIx4u0tRfjbSGc+CnCSWFaaz9UhTyI68VpNLwyAE1bf3sLGskWsW6JrGoehUb/bLCtPZW9PGt/64iz69ukiNkbYfhJjefi8/fnMfXgPXzJ9idzm2MiE60uBUH/z//pIZNHb4pievbunmyTsWh2VfkRofPTMIMU+vK+O59UdIi4tiXnaC3eWoSXCqiHO5hAeuncvXr5nDmr21bCxrCmhdKrhpGISYdQd8K5g9/tnz9FNhiDpTn8DnLiog2RPJD1fv1eUx1ahpGISQQ/Ud/GVvLZ9anMuSAl2rIERbic74a8VGufnXjxWxsayJcx56g1e2DV+yXKmTaRiEiNbuPj7183UALJ+XZXM1ajKN5mKhT56Xy73LC2nr7ufRN/fpFUbqjDQMQsRTa8uoa+vhxbsv5Oow7zgOdaPtGP/Hj87mkVvOpqyhU/sP1BlpGISA9p5+nt9YziWz0rV5KByM4UP+dWdNIT46ghc2lk9ePSokaBiEgK/8dis1rd3cfekMu0tRATCWPmFPVAQfP3cqr26voryxc/KKUkFPwyCIdfb28/g7B1izt5b7r5rDssIMu0tylFBtJR/r+Il7Li/E5YLH3z0wSRWpUKBhEKR2V7Vy8ffX8PDre1lWmM7/uyjf7pJUgIy1L3hKUgzXLcjm1e1VdPfprKZqZBoGQehAXTu3/3IDXgO/++JFPHPnUmKj3HaXpQJkPGc8nzo/j7bufl7apH0HamQaBkGmrq2H25/cQH17D5+9YBrnTU+xuyTHCtWrKcdzmejSglSW5Kfyozf3sfWIXlmkTqZhEER2VbZw2Q/fprK5i+/eOJ/7rpxtd0nKBuMJORHhh7csJCbCzScf/5C399b6vzAV1DQMgkRbdx93P7OZpNhIXvrChdxxUT6Rbv3vC0fjPeOZnhbH6/ctY2pyLJ/79UZ+tfaQfwtTQU3fTYKAMYbvvFJMdUsX//2ZRZyfr2MJwtlEZtON18QAAArzSURBVGNN9kTx289fQFSEi5c3V/ixKhXsNAyCwH++tZ/fb63kH64o1D6CMQi3KaxHKy/Vw9eumkNxVSv3v7Qdr05mp9D1DBzv9V3V/OQv+7nlvFzuu7LQ7nKUA/jjrfv2i6ZT1tDBb9YfobS2nUduOZtZmboqXjjTMwMHe2ZdGV9+bitF2Yn8x01n6ZTUChjf1UTDRUe4+fePL+ChFfM50tjJip9+wJ92VPuhOhWsNAwcant5M99ZWczSglR+ftt5RGhnsbL4q1FHRLj9wnz+9JVLmDMlgS8/t4UVj63l6XVlVDZ3caShU9dDCCPaTORAxhh+sHovSbGR/Py280iIibS7pKAUuuMM/PvzspNief6uC/n/f9rNcxuOsL28mW+/UgzA9DQPj31mEQtykvz7pMpxNAwcprGjl8feLmVtaQP/tmK+BoE6yWSsTRAV4eK7KxZw75WzeW1HFSU1beSmeHh6XRk3/c+HvjOHy2dyzYJsvz+3cgYNA4foH/DyL3/YyYubfJf73XbBdD57wXSbq1JONJknPKlxUdx+Yf6x769fmM2zfz3MOyV1fOHZLVwzfwqfWTqNi2el43ZpH1Yo0TAIoNq2bpJjo9hY1si7++p4p6SWaakeQNhwqIHW7n5uOjeHWxbnccGMVO0wViMKZPNXXqqHb1w3j/uvnsMT7x3kJ3/Zz+vFNUS4hNsunM6/XDdPBz+GCA2DAKht6+ahV3fz2o5qRHx/zBEuYemMVPYdbcdgWD4viyvnZfGxhXoa7i8h2mVgy/iJSLeLL18+i7+7uIDXi6t5f389v1pbxhvFR/nODUVcpavrBT0Ng0m2q7KFLzy7mfr2Hm67YDqeKDdzpiTw0aIs7Q9Q42Jnx3hslJtPnJvLJ87N5boF2fzozX3c9cxmblqUw3dumE9SrL6mg9WowkBErgF+AriBXxhjvj/s/mjgaeA8oAH4G2NMmXXfN4A7gQHgK8aY1X6r3sG8XsMPVpfws3cPkB4fxYt3X8jC3GS7y1IhwClXSV1ZlMVHZmfw0zX7eeydA3xY2sDdl85gRkY8aXFRzMqMp7yxk4aOXgC6egfYXd1KsieSc/KSmT81iQGvwSVok6gDnDEMRMQNPAZ8FKgANorISmPM7iG73Qk0GWNmicitwMPA34hIEXArMB+YCrwlIrONMQFfYcMYQ1tP/7Gh97FRbqIjTl4DwBhDa1c/BsOA17C3po3O3gFS4yJJ9kTRP2DYcKiBmtZupibHUtnUdcK12BkJ0WyvaOGD/XU0dfZx6/l5fO3qOaTFRwfsd1U+k3HVjRM4aZqNqAgXX71qDsvnZfHPv9vBd1/dfeYHWZJiI2np6iPFE8nFs9K5dHYGyZ4o3C7IT4tjelocbpcw4DW0dfeN+DM8URFERWifhT+M5sxgCVBqjDkIICLPAyuAof/rK4AHrdsvAz8VX9SvAJ43xvQAh0Sk1Pp568Za6D+/vIMtY5yHvaffS317DwBeY+ju8x67zyUQE+kLg6gIF+nx0XT1DlDX3kNvv3fEnzeSCJcQ4fZ9qhnwGvoGDOnx0SwrzOCCGWl8ekmefuqxSZTbhYhz3jj9xeXA19PZecn8+d5lVDZ3se9oG40dfVQ3d5GTEsuUxBgQX93zshNp7epjdXENB+o6yEyIpqKpi3f31fHasBHQkW4h0u2ib8BL38DI/48RLiEv1UOEXtk0YaMJgxxg6PJIFcDSU+1jjOkXkRYgzdr+12GPzRn+BCJyF3AXwLRp00YuIiWWtp6RPx2citvlIjMhmsHXSXp89LFPEU0dvXRZSwB29A7Q3NlLdISbjIRoMhOij102Nz3NQ0Z8DPXtPTR09BLpFqanxVGYGU99ew+5KZ5j+w54DRVNneSleHDpi9N2F81Kt7uEsCIi5KZ4yE3xnHa/pNhI/n7ZjBO2eb2GA3Xt9PR76en3cqCunYN1HQx4vcf+jkfKwPr2HsoaOkP2LHAs3prg4x3RgWyMeQJ4AmDx4sUj/q9+ZbnzJmmLiz7x8LldvqBQSo2NyyUUZiUc+15n5x27xz87scePprGtEsgb8n2utW3EfUQkAkjC15E8mscqpZSy2WjCYCNQKCIFIhKFr0N45bB9VgJ3WLdvBtYY33nbSuBWEYkWkQKgENjgn9KVUkr5yxmbiaw+gHuA1fguLf2lMaZYRB4CNhljVgJPAs9YHcSN+AIDa78X8XU29wNftuNKIqWUUqcnTut4Wbx4sdm0aZPdZSilVFARkc3GmMXjfbxeoKuUUkrDQCmllIaBUkopNAyUUkrhwA5kEWkDSuyuwyHSgXq7i3AIPRbH6bE4To/FcXOMMQln3m1kjhiBPEzJRHrEQ4mIbNJj4aPH4jg9FsfpsThORCZ0GaY2EymllNIwUEop5cwweMLuAhxEj8VxeiyO02NxnB6L4yZ0LBzXgayUUirwnHhmoJRSKsA0DJRSSgU+DETklyJSKyK7hmx7UEQqRWSb9e+6Ifd9Q0RKRaRERK4OdL2TaaRjYW3/BxHZKyLFIvKDIdvD6liIyAtDXhNlIrJtyH3hdizOEZG/Wsdik4gssbaLiPyXdSx2iMgi+yr3v1Mci7NFZJ2I7BSRV0Ukcch9Ifm6EJE8EXlbRHZb7wv3WttTReRNEdlvfU2xto/9dWGMCeg/4CPAImDXkG0PAvePsG8RsB2IBgqAA4A70DUH+Fhcjm8Fu2jr+8xwPRbD7v8R8O1wPRbAG8C11u3rgHeG3P4zIMAFwHq76w/AsdgIXGrd/jvg30L9dQFkA4us2wnAPuv3/QHwgLX9AeDh8b4uAn5mYIx5D9+aB6OxAnjeGNNjjDkElAJLJq24ADvFsfgi8H1jTI+1T621PRyPBeD7lAN8CvittSkcj4UBBj8BJwFV1u0VwNPG569AsohkB6bSyXeKYzEbeM+6/SbwSet2yL4ujDHVxpgt1u02YA++9eRXAE9Zuz0FfNy6PebXhZP6DO6xTmd+OXiqg++XLR+yT4W1LZTNBpaJyHoReVdEzre2h+OxGLQMOGqM2W99H47H4j7ghyJSDjwCfMPaHo7Hohjfmx3ALRxfWjcsjoWI5APnAuuBLGNMtXVXDZBl3R7zsXBKGDwOzATOAarxNQmEqwggFd+p3deAF61PxuHs0xw/KwhXXwT+0RiTB/wjvtUFw9XfAV8Skc34mkx6ba4nYEQkHvgdcJ8xpnXofcbXPjTusQKOCANjzFFjzIAxxgv8L8dP7So5nvoAuda2UFYB/N46vdsAePFNxhWOxwIRiQBuAl4Ysjkcj8UdwO+t2y8Rxn8jxpi9xpirjDHn4fuQcMC6K6SPhYhE4guC3xhjBl8LRwebf6yvg83KYz4WjgiDYW1ZnwAGrxxYCdwqItEiUgAUAhsCXV+A/RFfJzIiMhuIwjcrYzgeC4Argb3GmIoh28LxWFQBl1q3rwAGm8xWArdbV49cALQMaTYISSKSaX11Ad8CfmbdFbKvC6t14ElgjzHmx0PuWonvgwLW11eGbB/b68KGXvHf4msK6sP3KfhO4BlgJ7DD+iWyh+z/TXzJX4J1NUWo/DvFsYgCnsUXiFuAK8L1WFjbfw18YYT9w+pYAJcAm/FdLbMeOM/aV4DHrGOxE1hsd/0BOBb34ruaZh/wfayZFEL5dWH9/xvrPXKb9e86IA34C74PB28BqeN9Xeh0FEoppZzRTKSUUspeGgZKKaU0DJRSSmkYKKWUQsNAKaUUGgZKKaXQMFBKKQX8H1i1KSLoM7ZOAAAAAElFTkSuQmCC\n",
                  "text/plain": "<Figure size 432x288 with 1 Axes>"
                },
                "metadata": {
                  "needs_background": "light"
                }
              }
            ],
            "_view_module": "@jupyter-widgets/output",
            "_model_module_version": "1.0.0",
            "_view_count": null,
            "_view_module_version": "1.0.0",
            "layout": "IPY_MODEL_d0e375e6c27e4286bc3a3cc6dd40dd74",
            "_model_module": "@jupyter-widgets/output"
          }
        },
        "5583acedc1284198905044aa70998ce3": {
          "model_module": "@jupyter-widgets/controls",
          "model_name": "DescriptionStyleModel",
          "model_module_version": "1.5.0",
          "state": {
            "_view_name": "StyleView",
            "_model_name": "DescriptionStyleModel",
            "description_width": "",
            "_view_module": "@jupyter-widgets/base",
            "_model_module_version": "1.5.0",
            "_view_count": null,
            "_view_module_version": "1.2.0",
            "_model_module": "@jupyter-widgets/controls"
          }
        },
        "e0c952c540dc443d9b2709690948215a": {
          "model_module": "@jupyter-widgets/base",
          "model_name": "LayoutModel",
          "model_module_version": "1.2.0",
          "state": {
            "_view_name": "LayoutView",
            "grid_template_rows": null,
            "right": null,
            "justify_content": null,
            "_view_module": "@jupyter-widgets/base",
            "overflow": null,
            "_model_module_version": "1.2.0",
            "_view_count": null,
            "flex_flow": null,
            "width": null,
            "min_width": null,
            "border": null,
            "align_items": null,
            "bottom": null,
            "_model_module": "@jupyter-widgets/base",
            "top": null,
            "grid_column": null,
            "overflow_y": null,
            "overflow_x": null,
            "grid_auto_flow": null,
            "grid_area": null,
            "grid_template_columns": null,
            "flex": null,
            "_model_name": "LayoutModel",
            "justify_items": null,
            "grid_row": null,
            "max_height": null,
            "align_content": null,
            "visibility": null,
            "align_self": null,
            "height": null,
            "min_height": null,
            "padding": null,
            "grid_auto_rows": null,
            "grid_gap": null,
            "max_width": null,
            "order": null,
            "_view_module_version": "1.2.0",
            "grid_template_areas": null,
            "object_position": null,
            "object_fit": null,
            "grid_auto_columns": null,
            "margin": null,
            "display": null,
            "left": null
          }
        },
        "41707b01fccd46dba293918ea93d5c01": {
          "model_module": "@jupyter-widgets/controls",
          "model_name": "ButtonStyleModel",
          "model_module_version": "1.5.0",
          "state": {
            "_view_name": "StyleView",
            "_model_name": "ButtonStyleModel",
            "_view_module": "@jupyter-widgets/base",
            "_model_module_version": "1.5.0",
            "_view_count": null,
            "button_color": null,
            "font_weight": "",
            "_view_module_version": "1.2.0",
            "_model_module": "@jupyter-widgets/controls"
          }
        },
        "b2c42e435cae4397afddeb45da485da2": {
          "model_module": "@jupyter-widgets/base",
          "model_name": "LayoutModel",
          "model_module_version": "1.2.0",
          "state": {
            "_view_name": "LayoutView",
            "grid_template_rows": null,
            "right": null,
            "justify_content": null,
            "_view_module": "@jupyter-widgets/base",
            "overflow": null,
            "_model_module_version": "1.2.0",
            "_view_count": null,
            "flex_flow": null,
            "width": null,
            "min_width": null,
            "border": null,
            "align_items": null,
            "bottom": null,
            "_model_module": "@jupyter-widgets/base",
            "top": null,
            "grid_column": null,
            "overflow_y": null,
            "overflow_x": null,
            "grid_auto_flow": null,
            "grid_area": null,
            "grid_template_columns": null,
            "flex": null,
            "_model_name": "LayoutModel",
            "justify_items": null,
            "grid_row": null,
            "max_height": null,
            "align_content": null,
            "visibility": null,
            "align_self": null,
            "height": null,
            "min_height": null,
            "padding": null,
            "grid_auto_rows": null,
            "grid_gap": null,
            "max_width": null,
            "order": null,
            "_view_module_version": "1.2.0",
            "grid_template_areas": null,
            "object_position": null,
            "object_fit": null,
            "grid_auto_columns": null,
            "margin": null,
            "display": null,
            "left": null
          }
        },
        "d0e375e6c27e4286bc3a3cc6dd40dd74": {
          "model_module": "@jupyter-widgets/base",
          "model_name": "LayoutModel",
          "model_module_version": "1.2.0",
          "state": {
            "_view_name": "LayoutView",
            "grid_template_rows": null,
            "right": null,
            "justify_content": null,
            "_view_module": "@jupyter-widgets/base",
            "overflow": null,
            "_model_module_version": "1.2.0",
            "_view_count": null,
            "flex_flow": null,
            "width": null,
            "min_width": null,
            "border": null,
            "align_items": null,
            "bottom": null,
            "_model_module": "@jupyter-widgets/base",
            "top": null,
            "grid_column": null,
            "overflow_y": null,
            "overflow_x": null,
            "grid_auto_flow": null,
            "grid_area": null,
            "grid_template_columns": null,
            "flex": null,
            "_model_name": "LayoutModel",
            "justify_items": null,
            "grid_row": null,
            "max_height": null,
            "align_content": null,
            "visibility": null,
            "align_self": null,
            "height": null,
            "min_height": null,
            "padding": null,
            "grid_auto_rows": null,
            "grid_gap": null,
            "max_width": null,
            "order": null,
            "_view_module_version": "1.2.0",
            "grid_template_areas": null,
            "object_position": null,
            "object_fit": null,
            "grid_auto_columns": null,
            "margin": null,
            "display": null,
            "left": null
          }
        }
      }
    }
  },
  "cells": [
    {
      "cell_type": "markdown",
      "metadata": {
        "id": "view-in-github",
        "colab_type": "text"
      },
      "source": [
        "<a href=\"https://colab.research.google.com/github/MontiMic/Tesi/blob/riordinato/Untitled1.ipynb\" target=\"_parent\"><img src=\"https://colab.research.google.com/assets/colab-badge.svg\" alt=\"Open In Colab\"/></a>"
      ]
    },
    {
      "cell_type": "markdown",
      "source": [
        "# Introduzione\n",
        "La seguente presentazione si propone di semplificare l'apprendimento di alcuni principi del calcolo probabilistico offrendo la possibilità di vedere applicare le leggi su grandi numeri e confrontando i risultati ottenuti con quelli attesi dalla teoria."
      ],
      "metadata": {
        "id": "yyLelI9l5lbc"
      }
    },
    {
      "cell_type": "markdown",
      "source": [
        "Di seguito includiamo le librerie che verranno utilizzate nel corso della presentazione:\n",
        "\n",
        "* **numpy** per la manipolazione dei dati\n",
        "\n",
        "* **interact** per rendere la presentazione interattiva offrendo la possibilità allo studente di scegliere gli input\n",
        "\n",
        "* **pyplot** per la rappresentazione grafica dei risultati"
      ],
      "metadata": {
        "id": "35yCw13F7Yam"
      }
    },
    {
      "cell_type": "code",
      "execution_count": 1,
      "metadata": {
        "id": "TAxUPZupC-qR"
      },
      "outputs": [],
      "source": [
        "import numpy as np\n",
        "from ipywidgets import interact, interact_manual\n",
        "from matplotlib import pyplot as plt\n",
        "import math\n",
        "import seaborn as sns\n",
        "import random\n",
        "import scipy.stats\n",
        "import pandas as pd"
      ]
    },
    {
      "cell_type": "markdown",
      "source": [
        "##Elementi di python"
      ],
      "metadata": {
        "id": "XN5Whz1Y9fiZ"
      }
    },
    {
      "cell_type": "markdown",
      "source": [
        "Questa sezione è rivolta unicamente a chi non avesse ancora mai visto il python, allo scopo di mostrare alcune pratiche peculiari a Python."
      ],
      "metadata": {
        "id": "yHNFMDrk9pHX"
      }
    },
    {
      "cell_type": "markdown",
      "source": [
        "La funzione np.zeros(n) restituisce un array di zeri lungo n"
      ],
      "metadata": {
        "id": "kXZd8nfHDkHj"
      }
    },
    {
      "cell_type": "code",
      "source": [
        "np.zeros(5)"
      ],
      "metadata": {
        "colab": {
          "base_uri": "https://localhost:8080/"
        },
        "id": "Pukdrzg7-ggY",
        "outputId": "05da38c4-b835-459c-8a29-c0fb56297869"
      },
      "execution_count": 2,
      "outputs": [
        {
          "output_type": "execute_result",
          "data": {
            "text/plain": [
              "array([0., 0., 0., 0., 0.])"
            ]
          },
          "metadata": {},
          "execution_count": 2
        }
      ]
    },
    {
      "cell_type": "markdown",
      "source": [
        "Specificando anche il type booleano facciamo una conversione: \n",
        "\n",
        "*  Gli zeri diventano False\n",
        "\n",
        "* I valori diversi da zero diventano True"
      ],
      "metadata": {
        "id": "VyLCyWeYDvuh"
      }
    },
    {
      "cell_type": "code",
      "source": [
        "esempio = np.zeros(10, dtype=np.bool_)\n",
        "print(esempio)"
      ],
      "metadata": {
        "colab": {
          "base_uri": "https://localhost:8080/"
        },
        "id": "lO-15LDEDZEP",
        "outputId": "63103562-d9f1-40c6-a8ee-6fa54e0bfae0"
      },
      "execution_count": 3,
      "outputs": [
        {
          "output_type": "stream",
          "name": "stdout",
          "text": [
            "[False False False False False False False False False False]\n"
          ]
        }
      ]
    },
    {
      "cell_type": "markdown",
      "source": [
        "Useremo questo tipo di struttura dati per simulare praticamente tutto, dalla roulette (True = rosso, False = nero) ad un urna di palline (quando ci basteranno 2 soli colori delle palline)"
      ],
      "metadata": {
        "id": "t-fqP7KSEIUu"
      }
    },
    {
      "cell_type": "markdown",
      "source": [
        "Per modificare un array il python ci offre uno strumento molto potente: lo slicing. Questa funzionalità permette di intervenire su un qualunque sottoinsieme dell'array se usata correttamente. A noi basta sapere che in un caso come esempio[1:5:2], stiamo intervenendo sull'array esempio, prendendo gli elementi dalla posizione 1 (inclusa) alla posizione 5 (esclusa) con passo 2:"
      ],
      "metadata": {
        "id": "OEyj-K9iEeQa"
      }
    },
    {
      "cell_type": "code",
      "source": [
        "esempio = ['a', 'b', 'c', 'd', 'e']\n",
        "esempio[1:5:2]"
      ],
      "metadata": {
        "colab": {
          "base_uri": "https://localhost:8080/"
        },
        "id": "48oF9noGF3Np",
        "outputId": "82154645-d3ae-4fee-a491-b2358f3a0950"
      },
      "execution_count": 4,
      "outputs": [
        {
          "output_type": "execute_result",
          "data": {
            "text/plain": [
              "['b', 'd']"
            ]
          },
          "metadata": {},
          "execution_count": 4
        }
      ]
    },
    {
      "cell_type": "markdown",
      "source": [
        "Non specificare il primo parametro significa partire dall'elemento 0, omettere il secondo significa procedere fino all'ultimo (compreso) e non specificare il passo significa passo 1: non saltare nessun elemento."
      ],
      "metadata": {
        "id": "Rm-4oAaOGvIL"
      }
    },
    {
      "cell_type": "markdown",
      "source": [
        "La funzione range(n) restituisce un iterabile lungo n. In python è generalmente usata nel ciclo for."
      ],
      "metadata": {
        "id": "b6PzabLwIH1d"
      }
    },
    {
      "cell_type": "code",
      "source": [
        "for i in range(5):\n",
        "  print(i)"
      ],
      "metadata": {
        "colab": {
          "base_uri": "https://localhost:8080/"
        },
        "id": "fdFx5oZPIaf5",
        "outputId": "df8ac07a-f55d-404f-fbba-05ce29467ac5"
      },
      "execution_count": 5,
      "outputs": [
        {
          "output_type": "stream",
          "name": "stdout",
          "text": [
            "0\n",
            "1\n",
            "2\n",
            "3\n",
            "4\n"
          ]
        }
      ]
    },
    {
      "cell_type": "markdown",
      "source": [
        "##Funzioni utili"
      ],
      "metadata": {
        "id": "UdZaaBfKzjzX"
      }
    },
    {
      "cell_type": "markdown",
      "source": [
        "Quelle che seguono sono funzioni utilizzate in più test del documento, per il corretto funzionamento dei test successivi è necessario eseguire queste celle una volta."
      ],
      "metadata": {
        "id": "iZFqSjhypj_Y"
      }
    },
    {
      "cell_type": "code",
      "source": [
        "#funzione che genera una roulette simulata da un array lungo 37 di cui 18 valori contano come \"vittoria\"\n",
        "def mk_roulette():\n",
        "  ruota = np.zeros(37, dtype=np.bool_)\n",
        "  ruota[1::2] = True\n",
        "  return ruota"
      ],
      "metadata": {
        "id": "4LJOZHxd810N"
      },
      "execution_count": 6,
      "outputs": []
    },
    {
      "cell_type": "code",
      "source": [
        "#funzione che simula una singola partita alla roulette (1 o più puntate uguali) e, dato il portafogli di partenza, torno il nuovo conto\n",
        "def partita(ruota, giocate, puntata, portafogli):\n",
        "  while(giocate > 0):\n",
        "      giocate = giocate - 1\n",
        "      portafogli = portafogli - puntata #la puntata la considero sempre persa, in caso di vittoria vinco il doppio della puntata\n",
        "      if(ruota[np.random.randint(0, (37))]): #estraggo un elemento casuale della roulette e verifico se è rosso\n",
        "        portafogli = portafogli + (puntata * 2)\n",
        "  return portafogli  "
      ],
      "metadata": {
        "id": "fqGFfq_CT7Tv"
      },
      "execution_count": 7,
      "outputs": []
    },
    {
      "cell_type": "code",
      "source": [
        "#funzione che simula un dado ritornando un intero compreso tra 1 e 6\n",
        "def trow():\n",
        "  return np.random.randint(1, 7)"
      ],
      "metadata": {
        "id": "O7NiHEewS99d"
      },
      "execution_count": 8,
      "outputs": []
    },
    {
      "cell_type": "code",
      "source": [
        "#funzione che ritorna un'urna contenente palline di 2 colori in quanità scelta\n",
        "def mk_urna(bianche, rosse):\n",
        "  tot = bianche + rosse\n",
        "  urna = np.zeros((tot, 1), dtype=np.bool_)\n",
        "  while(rosse > 0):\n",
        "    rnd = np.random.randint(0, (tot))\n",
        "    if (not urna[rnd]):\n",
        "      urna[rnd] = True\n",
        "      rosse = rosse - 1\n",
        "  return urna"
      ],
      "metadata": {
        "id": "R06bqIr8Ii4G"
      },
      "execution_count": 9,
      "outputs": []
    },
    {
      "cell_type": "markdown",
      "source": [
        "##Interpretazione dei risultati"
      ],
      "metadata": {
        "id": "EbFr-wXap_mS"
      }
    },
    {
      "cell_type": "markdown",
      "source": [
        "I test di questo documento hanno lo scopo di mostrare che le formule viste con la teoria del calcolo probabilistico hanno un riscontro nella realtà. \n",
        "Ogni test simulerà per un numero di volte a discrezione dello studente, lo scenario descritto dall'esempio in esame. Si noti che un numero più alto di ripetizioni porterà a risultati più precisi."
      ],
      "metadata": {
        "id": "Mp5-2IqZqDex"
      }
    },
    {
      "cell_type": "code",
      "source": [
        "def moneta(lanci):\n",
        "  results = []\n",
        "  for i in range(lanci): #lanciamo la moneta tante volte quante indicate dal parametro \"lanci\"\n",
        "    results.append(np.random.randint(2))\n",
        "  #grafico\n",
        "  labels = []\n",
        "  normalized = []\n",
        "  normalized.append(round(((results.count(0) / lanci) * 100), 2)) #conto le istanze dei risultati e le normalizzo\n",
        "  normalized.append(round(100 - sum(normalized), 2)) #per evitare che per errori di arrotondamento la somma dei risultati sia 99.9%, l'ultimo risultato lo calcolo come 100 - (la somma dei precedenti)\n",
        "  for i in range(len(normalized)):\n",
        "    labels.append(str(normalized[i]) + \"%\") # aggiungo le labels (i valori riportati all'esterno del grafico)\n",
        "  plt.pie(normalized, labels=labels)\n",
        "  legenda = [\"Testa\", \"Croce\"]\n",
        "  plt.legend(legenda,loc='upper center', bbox_to_anchor=(0.5, -0.05), fancybox=True, shadow=True, ncol=5)"
      ],
      "metadata": {
        "id": "pZxUQQ-_rGuz"
      },
      "execution_count": 10,
      "outputs": []
    },
    {
      "cell_type": "code",
      "source": [
        "moneta(100)"
      ],
      "metadata": {
        "id": "7rynuIn1ubs4",
        "outputId": "19d51740-ddb9-4511-a1f0-5e729cdd7e7e",
        "colab": {
          "base_uri": "https://localhost:8080/",
          "height": 282
        }
      },
      "execution_count": 11,
      "outputs": [
        {
          "output_type": "display_data",
          "data": {
            "image/png": "[encoded data removed]",
            "text/plain": [
              "<Figure size 432x288 with 1 Axes>"
            ]
          },
          "metadata": {}
        }
      ]
    },
    {
      "cell_type": "code",
      "source": [
        "moneta(10_000)"
      ],
      "metadata": {
        "id": "E6dWQdxUud7o",
        "outputId": "4bb06f82-d924-44cb-8623-a21867923ff2",
        "colab": {
          "base_uri": "https://localhost:8080/",
          "height": 282
        }
      },
      "execution_count": 12,
      "outputs": [
        {
          "output_type": "display_data",
          "data": {
            "image/png": "[encoded data removed]",
            "text/plain": [
              "<Figure size 432x288 with 1 Axes>"
            ]
          },
          "metadata": {}
        }
      ]
    },
    {
      "cell_type": "code",
      "source": [
        "moneta(1_000_000)"
      ],
      "metadata": {
        "id": "uNmo8_dXugoY",
        "outputId": "77b264d6-ed9b-4810-9889-7fc6b5a500eb",
        "colab": {
          "base_uri": "https://localhost:8080/",
          "height": 282
        }
      },
      "execution_count": 13,
      "outputs": [
        {
          "output_type": "display_data",
          "data": {
            "image/png": "[encoded data removed]",
            "text/plain": [
              "<Figure size 432x288 with 1 Axes>"
            ]
          },
          "metadata": {}
        }
      ]
    },
    {
      "cell_type": "markdown",
      "source": [
        "Per un buon equilibrio tra accuratezza dei risultati e tempo di esecuzione impostiamo il numero di ripetizioni a 100 000 con la variabile \"precisione\"."
      ],
      "metadata": {
        "id": "0_jUagMkw72N"
      }
    },
    {
      "cell_type": "code",
      "source": [
        "precisione = 100_000"
      ],
      "metadata": {
        "id": "7YqOeAMoxunS"
      },
      "execution_count": 14,
      "outputs": []
    },
    {
      "cell_type": "markdown",
      "source": [
        "Si lascia allo studente la possibilità di incrementare questa variabile se desiderasse dei risultati più precisi."
      ],
      "metadata": {
        "id": "uH7_BXdBxvvq"
      }
    },
    {
      "cell_type": "markdown",
      "source": [
        "# Variabili aleatorie discrete"
      ],
      "metadata": {
        "id": "gQTrf-PK7FxE"
      }
    },
    {
      "cell_type": "markdown",
      "source": [
        "Una variabile aleatoria _X_ si dice discreta se i valori che assume sono finiti oppure numerabili.\n",
        "\n",
        "Nel caso siano numerabili molto spesso potremo pensare che siano semplicmente i numeri interi, ma non vogliamo escludere anche casi in cui abbiamo dei valori non interi."
      ],
      "metadata": {
        "id": "f7tQYrZgLgm2"
      }
    },
    {
      "cell_type": "markdown",
      "source": [
        "##Esempio 1.1 \n",
        "Faccio 3 puntate sul rosso alla roulette puntando 10 euro per volta, qual è la probabilità di vincere più di un certo valore _X_?\n",
        "\n",
        "(Le vincite possibili sono valori finiti ed è quindi una variabile discreta)"
      ],
      "metadata": {
        "id": "wO2wYqZ-DSZF"
      }
    },
    {
      "cell_type": "code",
      "source": [
        "@interact_manual(vincita=(0, 30))\n",
        "def es11(vincita=5):\n",
        "  giocate = 3\n",
        "  puntata = 10\n",
        "  ruota = mk_roulette()\n",
        "  count = 0\n",
        "  for i in range(precisione):\n",
        "    portafogli = giocate * puntata\n",
        "    portafogli = partita(ruota, giocate, puntata, portafogli) #il portafogli viene aggiornato dopo aver simulato una partita\n",
        "    if((portafogli - 30) >= vincita): #se ho finito le 3 puntate con una vincita maggiore o uguale a quella sperata la aggiungo al conteggio\n",
        "      count = count + 1\n",
        "  return round(count / precisione, 3)"
      ],
      "metadata": {
        "colab": {
          "base_uri": "https://localhost:8080/",
          "height": 81,
          "referenced_widgets": [
            "a46984ae687b483387bf464b05dfc888",
            "b3a8e3aba57243e8ac7e9ac7ae76be54",
            "52f6e43ad5f245f287a666df53e8e26f",
            "422997252168401bbbcdfba1f861d217",
            "02d866f438be4b00938c7a283dbdf359",
            "e46bf8a2a19b47d6b2434217f1d77762",
            "8f6ba593cf3f47d3bf5c157dbc1221af",
            "c28b2159afb4435baa164457aa736e3f",
            "98a67ecbad1443f4a37bd31a6ac35e72",
            "f9891dfafc7f42b1bca686155903281e"
          ]
        },
        "id": "w2ugmhMy_cfa",
        "outputId": "ec6e5add-d434-48f9-da91-4596a36db0f8"
      },
      "execution_count": 15,
      "outputs": [
        {
          "output_type": "display_data",
          "data": {
            "application/vnd.jupyter.widget-view+json": {
              "model_id": "a46984ae687b483387bf464b05dfc888",
              "version_minor": 0,
              "version_major": 2
            },
            "text/plain": [
              "interactive(children=(IntSlider(value=5, description='vincita', max=30), Button(description='Run Interact', st…"
            ]
          },
          "metadata": {}
        }
      ]
    },
    {
      "cell_type": "markdown",
      "source": [
        "##Esempio 1.2\n",
        "Dati il numero di puntate ed i soldi scommessi ogni volta, quanto mi dovrei aspettare di aver vinto alla fine? (risultato in euro)"
      ],
      "metadata": {
        "id": "tTOcRD2kD_zf"
      }
    },
    {
      "cell_type": "code",
      "source": [
        "@interact_manual(giocate=(1, 10), puntata=(5, 100, 5))\n",
        "def es12(giocate = 3, puntata = 10):\n",
        "  portafogli = giocate * puntata * precisione\n",
        "  ruota = mk_roulette()\n",
        "  for i in range(precisione):\n",
        "    portafogli = partita(ruota, giocate, puntata, portafogli)\n",
        "  portafogli = portafogli / precisione\n",
        "  return round(portafogli - (giocate * puntata), 2)"
      ],
      "metadata": {
        "colab": {
          "base_uri": "https://localhost:8080/",
          "height": 113,
          "referenced_widgets": [
            "be56a8c2a40c44a5aed67cd3365e5700",
            "9189f70405c94b9280c97f1297e1d560",
            "37adfd04e309406089d2aa0c5a896633",
            "49f78eb783f8489a9913cdf4edd93003",
            "68a8c96a73b14029b4d46fc791f0d2cf",
            "30e592a6024344428ab7d8baaeae6f1c",
            "7696daa5eb7146529cf3f053749cb3cc",
            "01aa49ce89fd4e399d2461e36c563c22",
            "048b4dfc25a44fb68b628a0742076b44",
            "bd3f9284f88d4e12bfd0a574ac4b3331",
            "61ae4efa3c6a4d21a01a02bd5f303bc0",
            "58abf12b4a164c96a1fbb4817f55839b",
            "e1eac7ce2ed74278871888b9d4b5bce2"
          ]
        },
        "id": "TR8QkEnHD-B2",
        "outputId": "7cb2c39d-72e5-481c-f4ec-db9548a779ff"
      },
      "execution_count": 16,
      "outputs": [
        {
          "output_type": "display_data",
          "data": {
            "application/vnd.jupyter.widget-view+json": {
              "model_id": "be56a8c2a40c44a5aed67cd3365e5700",
              "version_minor": 0,
              "version_major": 2
            },
            "text/plain": [
              "interactive(children=(IntSlider(value=3, description='giocate', max=10, min=1), IntSlider(value=10, descriptio…"
            ]
          },
          "metadata": {}
        }
      ]
    },
    {
      "cell_type": "markdown",
      "source": [
        "# Distribuzione uniforme e non uniforme"
      ],
      "metadata": {
        "id": "qBnKgfwaLT9x"
      }
    },
    {
      "cell_type": "markdown",
      "source": [
        "Sia _A_ = {_x1_, . . . , _xn_}; una variabile _X_ che assume i valori in _A_ tutti con la stessa probabilità $\\frac{1}{n}$\n",
        "si dice _variabile uniforme_ su _A_. Scriviamo in questo caso _X_ ∼ _U_(_A_) oppure _X_ ∼ _U_(_x1_, . . . , _xn_).\n",
        "La densità è quindi:\n",
        "\n",
        "\\begin{equation}\n",
        "  px(h) =\n",
        "    \\begin{cases}\n",
        "           \\frac{1}{n} \\ se \\  h  \\ ∈ \\ ({x1}, {x2}, ..., {xn})\n",
        "          \\\\\n",
        "          0 \\ altrimenti\n",
        "        \\end{cases}\n",
        "\\end{equation}"
      ],
      "metadata": {
        "id": "GUQzPwZ8NK0Q"
      }
    },
    {
      "cell_type": "markdown",
      "source": [
        "##Esempio 2.1 \n",
        "Nel lancio di un dado sia Ω = {1, 2, 3, 4, 5, 6} l’insieme dei possibili risultati.\n",
        "Allora la funzione _X_(_n_) = n per ogni n ∈ Ω è una variabile aleatoria uniforme _X_ ∼ _U_(1, 2, 3, 4, 5, 6).\n"
      ],
      "metadata": {
        "id": "HJrqw0EbXj2l"
      }
    },
    {
      "cell_type": "code",
      "source": [
        "def es21():\n",
        "  results = []\n",
        "  for i in range(precisione):\n",
        "    results.append(trow()) #aggiungo il risultato del tiro alla lista dei risultati\n",
        "  #grafico\n",
        "  elem_count = []\n",
        "  labels = []\n",
        "  for i in range(len(set(results))): #conto le istanze di ogni risultato ottenuto ed aggiungo i totali a elem_count, poi lo metto a grafico\n",
        "    elem_count.append(results.count(i+1))\n",
        "    labels.append(str(i+1))\n",
        "  plt.bar(labels, elem_count)\n",
        "es21()"
      ],
      "metadata": {
        "colab": {
          "base_uri": "https://localhost:8080/",
          "height": 265
        },
        "id": "pO1ExmtATCeI",
        "outputId": "a67e1327-bf1c-4b5a-dd98-bb7ffe8fc6d1"
      },
      "execution_count": 17,
      "outputs": [
        {
          "output_type": "display_data",
          "data": {
            "image/png": "[encoded data removed]",
            "text/plain": [
              "<Figure size 432x288 with 1 Axes>"
            ]
          },
          "metadata": {
            "needs_background": "light"
          }
        }
      ]
    },
    {
      "cell_type": "markdown",
      "source": [
        "##Esempio 2.2\n",
        "Se invece lanciassimo due dadi, la variabile _X_ che assume un valore corrispondente al numero di risultati pari ottenuti dal lancio sarebbe una _variabile non uniforme_ siccome la sua densità sarebbe:\n",
        "\n",
        "\\begin{equation}\n",
        "  py(h) =\n",
        "    \\begin{cases}\n",
        "          \\frac{1}{4} \\  h={0},{2}\n",
        "          \\\\\n",
        "          \\frac{1}{2} \\ h={1}\n",
        "          \\\\\n",
        "          0 \\ altrimenti\n",
        "        \\end{cases}\n",
        "\\end{equation}"
      ],
      "metadata": {
        "id": "BZUNA1OvaQp6"
      }
    },
    {
      "cell_type": "code",
      "source": [
        "def es22():\n",
        "  results = []\n",
        "  for i in range(precisione):\n",
        "    a, b = trow(), trow() #lancio due dadi, poi conterò quanti sono pari per aggiungere il risultato alla lista\n",
        "    results.append(2-((a % 2)+(b % 2))) #conto i dadi pari come due meno i dadi dispari (n%2 = 1 per n dispari, 0 altrimenti)\n",
        "  valori = []\n",
        "  normalized = []\n",
        "  for i in range(3): #conto le istanze dei risultati e le divido per il numero di risultati totale (normalizzo)\n",
        "    normalized.append(results.count(i) / len(results)) #len(results) torna la lunghezza della lista results\n",
        "    valori.append(\"k=\" + str(i))\n",
        "  plt.pie(normalized, labels=valori)\n",
        "es22()"
      ],
      "metadata": {
        "colab": {
          "base_uri": "https://localhost:8080/",
          "height": 248
        },
        "id": "Ly_UKZkxZr2J",
        "outputId": "6f50a913-9014-4130-b566-92bde0817ea4"
      },
      "execution_count": 18,
      "outputs": [
        {
          "output_type": "display_data",
          "data": {
            "image/png": "[encoded data removed]",
            "text/plain": [
              "<Figure size 432x288 with 1 Axes>"
            ]
          },
          "metadata": {}
        }
      ]
    },
    {
      "cell_type": "markdown",
      "source": [
        "#Densità binomiale"
      ],
      "metadata": {
        "id": "qimeQspadWgq"
      }
    },
    {
      "cell_type": "markdown",
      "source": [
        "Consideriamo un fenomeno aleatorio e un certo evento ad esso associato. Per semplicità diciamo che se l’evento si realizza otteniamo un “successo”, viceversa che abbiamo ottenuto un “insuccesso\".\n",
        "Uno schema successo-insuccesso consiste nel ripetere questo fenomeno un certo fissato numero di volte, dette anche prove o tentativi, in cui siamo interessati unicamente al numero di successi ottenuti\n",
        "nelle varie prove.\n",
        "Supponiamo ora che le prove siano indipendenti l’una dall’altra, cioè vengono effettuate tuttevnelle medesime condizioni, indipendentemente dal risultato delle prove precedenti: parliamo in questo caso di schema successo-insuccesso con ripetizione o a prove indipendenti. Consideriamo\n",
        "quindi la variabile X data dal numero di successi in n tentativi.\n",
        "Nel caso in cui le prove siano indipendenti l’una dall’altra, la probabilità di ottenere una certa prefissata sequenza di successi e insuccessi dipende solo dal numero di questi ultimi e non dall’ordine con cui vogliamo che si succedano. La probabilità di ottenere una sequenza fissata in cui abbiamo k successi e n − k insuccessi è data da\n",
        "$p^k(1-p)^{n-k}$, dove p è la probabilità che ogni singolo tentativo abbia successo. Siccome i modi in cui possiamo scegliere le k posizioni per i successi sono date da ${n\\choose k}$ otteniamo per la variabile X la densità data da\n",
        "\n",
        "\\begin{equation}\n",
        "  px(k) =\n",
        "    \\begin{cases}\n",
        "          {n\\choose k} p^k(1-p)^{n-k} \\ se \\ k=1,2,...,n\n",
        "          \\\\\n",
        "          0 \\ altrimenti\n",
        "        \\end{cases}\n",
        "\\end{equation}\n",
        "\n",
        "\n",
        "Scriveremo in questo caso _X_ ∼ _B_(_n_, _p_) e diciamo che _X_ è una variabile binomiale."
      ],
      "metadata": {
        "id": "OUh7jiOk7WSD"
      }
    },
    {
      "cell_type": "markdown",
      "source": [
        "##Esempio 3.1\n",
        "\n",
        "Supponiamo di andare al casinò con 15 Euro e puntiamo 3 volte 5 Euro alla roulette sul rosso. Consideriamo la variabile aleatoria X data dai soldi che abbiamo in tasca alla fine delle 3 puntate. La probabilità di ottenere un numero rosso è di $\\frac{18}{37}$ ad ogni tentativo.\n",
        "Determinare la densità di X.\n",
        "La variabile X può assumere i valori 30, 20, 10, 0 a seconda di quanti rossi sono usciti. Abbiamo:\n",
        "\n",
        "P(X = 30) = $(\\frac{18}{37})^3$ = 0,115\n",
        "\n",
        "P(X = 20) = ${3\\choose 1}(\\frac{18}{37})^2 · \\frac{19}{37}$= 0, 365\n",
        "\n",
        "P(X = 10) = ${3\\choose 2}(\\frac{18}{37}) · (\\frac{19}{37})^2$ = 0,385\n",
        "\n",
        "P(X = 0) = $(\\frac{19}{37})^3$ = 0,135\n"
      ],
      "metadata": {
        "id": "O8PjzahWhrRr"
      }
    },
    {
      "cell_type": "code",
      "source": [
        "@interact_manual(giocate=(1, 6), puntata=(5, 100, 5))\n",
        "def es31(giocate = 3, puntata = 5):\n",
        "  ruota = mk_roulette()\n",
        "  results = []\n",
        "  for i in range(precisione):\n",
        "    portafogli = giocate * puntata\n",
        "    portafogli = partita(ruota, giocate, puntata, portafogli)\n",
        "    results.append(portafogli)\n",
        "  #grafico\n",
        "  normalized = []\n",
        "  valori = []\n",
        "  for i in range(giocate):\n",
        "    normalized.append(round(((results.count(puntata*2*i) / precisione) * 100), 2)) #conto le istanze dei risultati e le normalizzo\n",
        "  normalized.append(round(100 - sum(normalized), 2)) #per evitare che per errori di arrotondamento la somma dei risultati sia 99.9%, l'ultimo risultato lo calcolo come 100 - (la somma dei precedenti)\n",
        "  labels = []\n",
        "  for i in range(len(normalized)):\n",
        "    labels.append(str(normalized[i]) + \"%\") # aggiungo le labels (i valori riportati all'esterno del grafico)\n",
        "  plt.pie(normalized, labels=labels)\n",
        "  legenda = []\n",
        "  for i in range(len(normalized)):\n",
        "    legenda.append(str(puntata*2*i))\n",
        "  plt.legend(legenda,loc='upper center', bbox_to_anchor=(0.5, -0.05), fancybox=True, shadow=True, ncol=5)"
      ],
      "metadata": {
        "id": "QDB96jXivO40",
        "outputId": "7c60bee5-4fd8-4fc2-85ad-dbe02146b758",
        "colab": {
          "base_uri": "https://localhost:8080/",
          "height": 113,
          "referenced_widgets": [
            "f7c61be5f1ed4f81aae0b52ec61f2c97",
            "1a8a4d70597f4f1faca56c654a3c7667",
            "9190b24b57904c44894051068a880efd",
            "613a0ce0513a4124b7c445607dcff127",
            "4ed5f814ef164a90a97dd6ebf640e191",
            "89ae83735e7d4cdf8f590004466cf374",
            "bef7eef59cee4663a2f91d1dd61f9124",
            "2d28bc6e890949eda19306102ba7cea9",
            "b339591c51b946b19642968d15db2abc",
            "6754e2668be6468497bdbfdc8715065b",
            "6f401dfefaba4d08942d0a03ac01e615",
            "034d470bede541bf88879f906be74b30",
            "352d9a5b9ff24d4bb160430b520c7814"
          ]
        }
      },
      "execution_count": 19,
      "outputs": [
        {
          "output_type": "display_data",
          "data": {
            "application/vnd.jupyter.widget-view+json": {
              "model_id": "f7c61be5f1ed4f81aae0b52ec61f2c97",
              "version_minor": 0,
              "version_major": 2
            },
            "text/plain": [
              "interactive(children=(IntSlider(value=3, description='giocate', max=6, min=1), IntSlider(value=5, description=…"
            ]
          },
          "metadata": {}
        }
      ]
    },
    {
      "cell_type": "markdown",
      "source": [
        "# Densità ipergeometrica"
      ],
      "metadata": {
        "id": "9PjQr8MmCUYu"
      }
    },
    {
      "cell_type": "markdown",
      "source": [
        "\n",
        "Un altro tipo di schema successo-insuccesso è il cosiddetto schema successo-insuccesso _senza ripetizione_. In questo caso il fenomeno aleatorio consiste nell’estrazione di n palline, senza rimpiazzare di volta in volta la pallina estratta, da un'urna contenente b palline bianche e r palline rosse.\n",
        "Diciamo che la prova (estrazione) dà successo se viene estratta una pallina bianca e consideriamo la variabile X data dal numero di successi ottenuti, cioè dal numero di palline bianche estratte.\n",
        "\n",
        "\n",
        "Osserviamo che X può assumere tutti i valori tra max(0, n − r) e min(n, b): infatti se n > r siamo sicuri di pescare almeno n−r palline bianche e chiaramente il numero di bianche estratte non può superare nè il numero estrazioni nè il numero di palline bianche.\n",
        "\n",
        "Lo spazio Ω è dato da tutti i possibili sottoinsiemi di n oggetti (le palline estratte) scelti da un insieme di b + r oggetti (le palline\n",
        "disponibili), con probabilità uniforme. L’evento “X = k” è dato quindi da tutti i sottoinsiemi delle b + r palline costituiti da k palline bianche e n − k palline rosse. Le k bianche le posso scegliere in ${b\\choose k}$ modi. Le n − k rosse in ${r \\choose {n - k}}$ modi. Abbiamo quindi che la densità di X è data da\n",
        "\n",
        "\\begin{equation}\n",
        "  px(k) =\n",
        "    \\begin{cases}\n",
        "          \\frac{{b \\choose k} · {r \\choose n - k}}{b + r \\choose n} \\ se \\ k=max(0, n-r),...,min(n,b)\n",
        "          \\\\\n",
        "          0 \\ altrimenti\n",
        "        \\end{cases}\n",
        "\\end{equation}\n",
        "\n",
        "Scriviamo in questo caso X ∼ H(n; b, r) e diciamo che X è una variabile ipergeometrica."
      ],
      "metadata": {
        "id": "OnLdbdQjCbyl"
      }
    },
    {
      "cell_type": "markdown",
      "source": [
        "##Esempio 4.1\n",
        "Un’urna contiene 8 palline bianche e 2 rosse. Ne estraiamo 3 senza rimpiazzo.\n",
        "Qual è la probabilità di estrarne al più una rossa? In questo caso, a differenza del precedente abbiamo che la variabile X = numero di rosse estratte è una ipergeometrica X ∼ H(3; 2, 8) per\n",
        "cui\n",
        "\n",
        "P(_X_ ≤ 1) = P(_X_ = 0) + P(_X_ = 1) = $\\frac{{2 \\choose 0}·{8 \\choose 3}}{10 \\choose 3}$ + $\\frac{{2 \\choose 1}·{8 \\choose 2}}{10 \\choose 3}$ = $\\frac{14}{15}$ = 0.933"
      ],
      "metadata": {
        "id": "mqqc2UiZGaIY"
      }
    },
    {
      "cell_type": "code",
      "source": [
        "@interact_manual(estrazioni=(1, 10))\n",
        "def es41(estrazioni=3):\n",
        "  bianche = 8\n",
        "  rosse = 2\n",
        "  urna = mk_urna(bianche, rosse)\n",
        "  results = 0\n",
        "  for i in range(precisione):\n",
        "    tmp = urna\n",
        "    count = 0\n",
        "    for i in range(estrazioni):\n",
        "      extr = np.random.randint(0, ((bianche + rosse)-i))\n",
        "      if(tmp[extr]):\n",
        "        count = count + 1\n",
        "      tmp = np.delete(tmp, extr)\n",
        "    if(count < 2):\n",
        "      results = results + 1  \n",
        "  return round(results / precisione, 3)"
      ],
      "metadata": {
        "id": "R0SjK_tkMtDv",
        "colab": {
          "base_uri": "https://localhost:8080/",
          "height": 81,
          "referenced_widgets": [
            "2c39cbd1b1b64a49ba043acdca4dc3db",
            "eb4d77a5390640f7910458bf3a3ec1e2",
            "69c91e5ec7b541afb4f7cc8f7568cd96",
            "a66a1e6834c5409586c030aa095065ac",
            "fefbdbf53f05404b9b0066fd3d01b412",
            "12fa364201d6497f9ae27ef5c63f4223",
            "6a7a112b044846399e8dce335ac9d182",
            "12fcd22cfbb44ce38ee83fce1f27c4ba",
            "09e86d64e1244fb8b99fcf71f2b4f153",
            "1fdddc2da7d4449cba7a590efb8fbd08"
          ]
        },
        "outputId": "30fdab84-e7e0-4f31-924a-6005fb3b9f67"
      },
      "execution_count": 20,
      "outputs": [
        {
          "output_type": "display_data",
          "data": {
            "application/vnd.jupyter.widget-view+json": {
              "model_id": "2c39cbd1b1b64a49ba043acdca4dc3db",
              "version_minor": 0,
              "version_major": 2
            },
            "text/plain": [
              "interactive(children=(IntSlider(value=3, description='estrazioni', max=10, min=1), Button(description='Run Int…"
            ]
          },
          "metadata": {}
        }
      ]
    },
    {
      "cell_type": "markdown",
      "source": [
        "#Densità geometrica - geometrica modificata"
      ],
      "metadata": {
        "id": "-GtoecXjUH1e"
      }
    },
    {
      "cell_type": "markdown",
      "source": [
        "In uno schema successo-insuccesso, anzichè al numero di successi ottenuti su n tentativi, potremmo essere interessati al numero di tentativi che devo effettuare prima di ottenere un successo."
      ],
      "metadata": {
        "id": "YBirGuNoUKbB"
      }
    },
    {
      "cell_type": "markdown",
      "source": [
        "##Esempio 5.1\n",
        "\n",
        "Consideriamo un’urna con 2 palline bianche e 3 rosse. Le estraggo senza\n",
        "rimpiazzo finchè non trovo una pallina rossa. Considero la variabile aleatoria X=numero di estrazioni per trovare una pallina rossa. X è una variabile finita in quanto assume solo i valori 1, 2, 3.\n",
        "La sua densità si determina facilmente ed è data da\n",
        "\n",
        "\\begin{equation}\n",
        "  px(k) =\n",
        "    \\begin{cases}\n",
        "          \\frac{6}{10} \\ se \\ k=1\n",
        "          \\\\\n",
        "          \\frac{3}{10} \\ se \\ k=2\n",
        "          \\\\\n",
        "          \\frac{1}{10} \\ se \\ k=3\n",
        "          \\\\\n",
        "          0 \\ altrimenti\n",
        "        \\end{cases}\n",
        "\\end{equation}\n",
        "\n"
      ],
      "metadata": {
        "id": "aXX1PJQLUX9Z"
      }
    },
    {
      "cell_type": "code",
      "source": [
        "@interact_manual(bianche=(1,5), rosse=(1, 5))\n",
        "def es51(bianche=2, rosse=3):\n",
        "  palle = mk_urna(bianche, rosse)\n",
        "  results = []\n",
        "  count=0\n",
        "  while(len(results) < precisione):\n",
        "    done = len(results)\n",
        "    tmp = palle\n",
        "    while(len(results) == done):\n",
        "      extr = np.random.randint(0, ((bianche+rosse)-count))\n",
        "      if(tmp[extr]):\n",
        "        results.append(count)\n",
        "        count=0\n",
        "      else:  \n",
        "        tmp = np.delete(tmp,extr)\n",
        "        count = count + 1\n",
        "  #grafico\n",
        "  labels = []\n",
        "  normalized = []\n",
        "  for i in range(len(set(results)) - 1): #len(set(n)) torna il numero di risultati distinti presenti in results\n",
        "    normalized.append(round(((results.count(i) / precisione) * 100), 2)) #conto le istanze dei risultati e le normalizzo\n",
        "  normalized.append(round(100 - sum(normalized), 2)) #per evitare che per errori di arrotondamento la somma dei risultati sia 99.9%, l'ultimo risultato lo calcolo come 100 - (la somma dei precedenti)\n",
        "  for i in range(len(normalized)):\n",
        "    labels.append(str(normalized[i]) + \"%\") # aggiungo le labels (i valori riportati all'esterno del grafico)\n",
        "  plt.pie(normalized, labels=labels)\n",
        "  legenda = []\n",
        "  for i in range(bianche + 1):\n",
        "    legenda.append(\"k=\"+str(i+1))\n",
        "  plt.legend(legenda,loc='upper center', bbox_to_anchor=(0.5, -0.05), fancybox=True, shadow=True, ncol=5)"
      ],
      "metadata": {
        "colab": {
          "base_uri": "https://localhost:8080/",
          "height": 113,
          "referenced_widgets": [
            "e1ea5e4e3c7c416a9b9faa319b7b0e00",
            "63a49cdf9dd24f0eba2e70973cbf186b",
            "7058f98a098d4c0c9c8e3b7d2eeec7a7",
            "854d5064341646e88a239feacf7926bf",
            "29f938ffdcee4aaaadf1c19eaba29ee5",
            "1ce5a895cd4b4f5db4af32f10b82b741",
            "4c03722da86e4c719550d7e5588b1acb",
            "9327020a0d0d42b5bb46d26b7893b0c6",
            "9c55573fa77f499891508c83aea20eae",
            "912ae4092c154085ba36add3f490a310",
            "6fa0bde5e71441f9887da2c372922c98",
            "8b79a6a6bdec45b3ad9d549be172f1ab",
            "ba47d03f573d4510991a76dbca71d9f9"
          ]
        },
        "id": "5tLgoNi7f2YM",
        "outputId": "44ebf314-56b3-454a-bba3-1fc04df560b9"
      },
      "execution_count": 21,
      "outputs": [
        {
          "output_type": "display_data",
          "data": {
            "application/vnd.jupyter.widget-view+json": {
              "model_id": "e1ea5e4e3c7c416a9b9faa319b7b0e00",
              "version_minor": 0,
              "version_major": 2
            },
            "text/plain": [
              "interactive(children=(IntSlider(value=2, description='bianche', max=5, min=1), IntSlider(value=3, description=…"
            ]
          },
          "metadata": {}
        }
      ]
    },
    {
      "cell_type": "markdown",
      "source": [
        "Caso interessante:\n",
        "\n",
        "Nel caso di una sola pallina rossa ed _n_ palline bianche, non si ha un'estrazione in cui è più probabile trovare la rossa, hanno tutte probabilità $\\frac{1}{n+1}$ come si può verificare ri-lanciando l'esperimento precedente con una sola pallina rossa."
      ],
      "metadata": {
        "id": "Y5F358gdvcak"
      }
    },
    {
      "cell_type": "markdown",
      "source": [
        "##Esempio 5.2\n",
        "\n",
        "Ripetiamo l'esperimento precedente, ma questa volta rimpiazziamo la pallina ad ogni estrazione. La variabile X diventa numerabile e si ha\n",
        "\n",
        "\\begin{equation}\n",
        "  px(k) =\n",
        "    \\begin{cases}\n",
        "          (\\frac{2}{5})^{k-1}\\frac{3}{5} \\ se \\ k=1,2,3,...\n",
        "          \\\\\n",
        "          0 \\ altrimenti\n",
        "        \\end{cases}\n",
        "\\end{equation}\n",
        "\n",
        "Infatti richiedere X = k vuol dire aver ottenuto k − 1 insuccessi nei primi k − 1 tenativi (ognuno con probabilità $\\frac{2}{5}$) per poi finalmente ottenere un successo al k-esimo tentativo (con probabilità $\\frac{3}{5}$)"
      ],
      "metadata": {
        "id": "DPSi8KkVKH60"
      }
    },
    {
      "cell_type": "code",
      "source": [
        "@interact_manual(bianche=(1,5), rosse=(1, 5))\n",
        "def es52(bianche=2, rosse=3):\n",
        "  palle = mk_urna(bianche, rosse)\n",
        "  results = []\n",
        "  count=0\n",
        "  while(len(results) < precisione):\n",
        "    done = len(results)\n",
        "    tmp = palle\n",
        "    while(len(results) == done):\n",
        "      extr = np.random.randint(0, (bianche+rosse))\n",
        "      if(tmp[extr]):\n",
        "        results.append(count)\n",
        "        count=0\n",
        "      else:  \n",
        "        count = count + 1\n",
        "  \n",
        "  #grafico risultati\n",
        "  labels = []\n",
        "  normalized = []\n",
        "  for i in range(len(set(results))): \n",
        "    normalized.append(round(((results.count(i) / precisione) * 100), 2))\n",
        "  for i in range(len(set(results))):\n",
        "    labels.append(str(i+1))\n",
        "  \n",
        "  #grafico teorico\n",
        "  teoria = []\n",
        "  for i in range(len(set(results))):\n",
        "    teoria.append(((bianche / (bianche + rosse))**(i)) * (rosse / (bianche + rosse)) * 100)\n",
        "\n",
        "  lab_arr = np.arange(len(labels))\n",
        "\n",
        "  w=0.4\n",
        "  plt.bar(lab_arr-(w/2), normalized, width=w)\n",
        "  plt.bar(lab_arr+(w/2), teoria, width=w)\n",
        "  plt.ylabel(\"Percentage\")\n",
        "  plt.xlabel(\"K\")\n",
        "  legenda = [\"Risultati ottenuti\", \"Risultati attesi\"]\n",
        "  plt.legend(legenda,loc='upper center', bbox_to_anchor=(0.5, -0.05), fancybox=True, shadow=True, ncol=5)"
      ],
      "metadata": {
        "colab": {
          "base_uri": "https://localhost:8080/",
          "height": 113,
          "referenced_widgets": [
            "71a6781bcad043c3a5c1df082606e5dc",
            "4b55dcc3bdc64f0b85fff02f47549d33",
            "8c77175112f040b3af0566fc1a84f323",
            "eba598e317c94a65acf54b48c0ed0055",
            "50d62fb2abfe4ae1baae0efc08f867f1",
            "ab24ce929e9b43b8b58b93022faa4401",
            "71a727f9c9334a5a9e235630323be1a5",
            "79c5a770d471469eba06e871d454497e",
            "47025a100c5848b0a77aed2390cdb959",
            "fba299e40d314b0eb666260759f566dc",
            "a8a3b4b3679c45f69426bd65867de1c1",
            "962f6eb0570b4cd982ca956274dc4956",
            "f0cad909e49d485bb0d610ea1f52ed3f"
          ]
        },
        "id": "p-e8XTgnsSgC",
        "outputId": "e1f317f3-6705-499e-dfd8-d75028aa7358"
      },
      "execution_count": 22,
      "outputs": [
        {
          "output_type": "display_data",
          "data": {
            "application/vnd.jupyter.widget-view+json": {
              "model_id": "71a6781bcad043c3a5c1df082606e5dc",
              "version_minor": 0,
              "version_major": 2
            },
            "text/plain": [
              "interactive(children=(IntSlider(value=2, description='bianche', max=5, min=1), IntSlider(value=3, description=…"
            ]
          },
          "metadata": {}
        }
      ]
    },
    {
      "cell_type": "markdown",
      "source": [
        "Quello appena visto è un esempio di _densità geometrica modificata_ che scriveremo come T ∼ Ḡ(_p_).\n",
        "\n",
        "Quando si parla di densità geometrica modificata? \n",
        "\n",
        "Si consideri uno schema successo-insuccesso con ripetizioni e prendiamo in esame la variabile T data dal tempo di primo successo. \n",
        "Se chiamiamo _Xi_ le variabili _B_(1, _p_) date da _Xi_ = 1 se l’i-esimo tentativo dà successo e _Xi_  = 0 altrimenti abbiamo come densità\n",
        "\n",
        "\\begin{equation}\n",
        "  px(k) =\n",
        "    \\begin{cases}\n",
        "          p(1-p)^{k-1} \\ se \\ k=1,2,3,...\n",
        "          \\\\\n",
        "          0 \\ altrimenti\n",
        "        \\end{cases}\n",
        "\\end{equation}"
      ],
      "metadata": {
        "id": "u9PHD5qa-xdK"
      }
    },
    {
      "cell_type": "markdown",
      "source": [
        "##Esempio 5.3\n",
        "\n",
        "Si lancino simultaneamente due dadi, uno rosso e uno blu. Ripetiamo questo\n",
        "esperimento finchè non otteniamo due 6. \n",
        "\n",
        "Poniamo X = primo lancio in cui il dado rosso ha dato 6,\n",
        "Y = primo lancio in cui il dado blu ha dato 6.\n",
        "\n",
        "\n",
        "Determinare inoltre la probabilità di ottenere 6 con il dado rosso prima di ottenere 6 con il dado blu.\n",
        "\n",
        "Abbiamo\n",
        "\n",
        "\\begin{equation}\n",
        "  1 = P(X < Y) + P(X > Y) + P(X = Y)\n",
        "\\end{equation}\n",
        "\n",
        "\\\\\n",
        "e chiaramente per simmetria del problema _P_(_X_ < _Y_) = _P_(_X_ > _Y_) da cui\n",
        "\n",
        "\\\\\n",
        "\n",
        "\\begin{equation}\n",
        "  P(X < Y)= \\frac {1-P(X = Y)}{2}\n",
        "\\end{equation}\n",
        "\n",
        "Ci basterà calcolare quindi _P_(_X_ =_Y_):\n",
        "\n",
        "\\\\\n",
        "\n",
        "\\begin{equation}\n",
        "  P(X = Y) = \\sum_{k=1}^\\infty P(X = Y = k) = \\sum_{k=1}^\\infty (\\frac{25}{36})^{k-1}·\\frac{1}{36} = \\frac{1}{1-\\frac{25}{36}}·\\frac{1}{36} = \\frac{1}{11}\n",
        "\\end{equation}\n",
        "\n",
        "\n",
        "dove abbiamo ancora utilizzato la somma di una serie geometrica, e quindi\n",
        "\n",
        "\\\\\n",
        "\n",
        "\\begin{equation}\n",
        "  P(X < Y) = \\frac{5}{11}\n",
        "\\end{equation}\n"
      ],
      "metadata": {
        "id": "yQRcoTTQmPxD"
      }
    },
    {
      "cell_type": "code",
      "source": [
        "def es53():\n",
        "  num = 6\n",
        "  results = []\n",
        "  for i in range(precisione):\n",
        "    a, b = 0, 0\n",
        "    while a != num and b != num:\n",
        "      a, b = trow(), trow() \n",
        "      if a == num:\n",
        "        if b == num:\n",
        "          results.append(0)\n",
        "        else:\n",
        "          results.append(1)\n",
        "      if b == num:\n",
        "        results.append(2)  \n",
        "  #grafico\n",
        "  labels = []\n",
        "  normalized = []\n",
        "  myexplode = [0, 0.2, 0]\n",
        "  for i in range(len(set(results)) - 1): #len(set(n)) torna il numero di risultati distinti presenti in results\n",
        "    normalized.append(round(((results.count(i) / precisione) * 100), 2)) #conto le istanze dei risultati e le normalizzo\n",
        "  normalized.append(round(100 - sum(normalized), 2)) #per evitare che per errori di arrotondamento la somma dei risultati sia 99.9%, l'ultimo risultato lo calcolo come 100 - (la somma dei precedenti)\n",
        "  for i in range(len(normalized)):\n",
        "    labels.append(str(normalized[i]) + \"%\") # aggiungo le labels (i valori riportati all'esterno del grafico)\n",
        "\n",
        "  teoria = [1/11, 5/11, 5/11]\n",
        "  lab_teoria = [\"9.09%\", \"45.45%\", \"45.45%\"]\n",
        "\n",
        "  f, (ax1, ax2) = plt.subplots(1, 2)\n",
        "  ax1.pie(normalized, labels=labels,explode=myexplode, colors=[\"green\", \"red\", \"blue\"], shadow=True)\n",
        "  ax1.set_title(\"Risultati ottenuti\")\n",
        "  ax2.pie(teoria, labels=lab_teoria,explode=myexplode, colors=[\"green\", \"red\", \"blue\"], shadow=True)\n",
        "  ax2.set_title(\"Risultati attesi\")\n",
        "  \n",
        "  legenda = [\"X=Y\", \"X<Y\", \"X>Y\"]\n",
        "  ax1.legend(legenda,loc='upper left', bbox_to_anchor=(0.5, -0.05), fancybox=True, shadow=True, ncol=5)\n",
        "\n",
        "es53()"
      ],
      "metadata": {
        "colab": {
          "base_uri": "https://localhost:8080/",
          "height": 230
        },
        "id": "6P-rc7pzfODB",
        "outputId": "2938cfcd-5325-4555-c80e-7116e7483033"
      },
      "execution_count": 23,
      "outputs": [
        {
          "output_type": "display_data",
          "data": {
            "image/png": "[encoded data removed]",
            "text/plain": [
              "<Figure size 432x288 with 2 Axes>"
            ]
          },
          "metadata": {}
        }
      ]
    },
    {
      "cell_type": "markdown",
      "source": [
        "#Densità di Poisson"
      ],
      "metadata": {
        "id": "hPfoVQ4tzLLR"
      }
    },
    {
      "cell_type": "markdown",
      "source": [
        "Se consideriamo una variabile binomiale _X_ ∼ _B_(_n_, _p_) in cui il numero _n_ di tentativi è molto grande e il parametro _p_ molto piccolo fare i conti con la densità binomiale risulta essere computazionalmente dispendioso. \n",
        "\n",
        "Facciamo un esempio:"
      ],
      "metadata": {
        "id": "7WQ9L3IXzNQo"
      }
    },
    {
      "cell_type": "markdown",
      "source": [
        "##Esempio 6.1\n",
        "\n",
        "Supponiamo che in una città nascano 10 000 bambini ogni anno e che ci\n",
        "sia una malattia rara che colpisce un bambino su 2 mila. Qual è la probabilità che quest’anno nascano più di 5 bambini affetti da questa malattia? \n",
        "\n",
        "La variabile _X_ = ”numero di bambini nati con questa malattia quest’anno” è una variabile binomiale _X_ = _B_($10^4$, $\\frac{1}{2000}$). Tuttavia se\n",
        "proviamo ad effettuare il calcolo _P_(_X_ > 5), anche se abbiamo una formula esatta per effettuarlo, è inevitabilmente molto complesso.\n"
      ],
      "metadata": {
        "id": "VD0JenT7zaOx"
      }
    },
    {
      "cell_type": "markdown",
      "source": [
        "Per risolvere questo tipo di problema introduciamo la seguente\n",
        "\n",
        "\\\\\n",
        "\\begin{equation}\n",
        "  p(k) =\n",
        "    \\begin{cases}\n",
        "          e^{-λ} \\frac{λ^k}{k!} \\ se \\ k=0,1,2,...\n",
        "          \\\\\n",
        "          0 \\ altrimenti\n",
        "        \\end{cases}\n",
        "\\end{equation}\n",
        "\n",
        "\\\\\n",
        "\n",
        "dove λ è un parametro reale strettamente positivo."
      ],
      "metadata": {
        "id": "-07DvPlK0SRP"
      }
    },
    {
      "cell_type": "markdown",
      "source": [
        "Nel nostro esempio possiamo pensare alla variabile _X_ come ad una variabile di Poisson di parametro 5. \n",
        "\n",
        "Otteniamo:\n",
        "\n",
        "\\begin{equation}\n",
        "  P(X > 5) = 1 − P(X = 0) − P(X = 1) − P(X = 2) − P(X = 3) − P(X = 4) \n",
        "  \\\\\n",
        "  = 1 − e^{−5}(1 + 5 + \\frac{25}{2} + \\frac{125}{6} + \\frac{625}{24} + \\frac{3125}{120}) = 0, 384.\n",
        "\\end{equation}"
      ],
      "metadata": {
        "id": "fHA5WLXr2VKr"
      }
    },
    {
      "cell_type": "markdown",
      "source": [
        "Nella simulazione riportata sono simulati 100 anni, ripetendo l'esperimento si aggiungono i risultati dei test successivi e si può osservare come il grafico dei risultati ottenuti si avvicini a quello dei risultati attesi."
      ],
      "metadata": {
        "id": "aQ3YUomoewtG"
      }
    },
    {
      "cell_type": "code",
      "source": [
        "res_poisson = []"
      ],
      "metadata": {
        "id": "niF9fNy-AGHk"
      },
      "execution_count": 24,
      "outputs": []
    },
    {
      "cell_type": "code",
      "source": [
        "def es61():\n",
        "  bambini = 10_000\n",
        "  malattia = 2_000\n",
        "  for i in range(100):\n",
        "    count = 0\n",
        "    for i in range(bambini):\n",
        "      if np.random.randint(malattia) == 1:\n",
        "        count = count + 1\n",
        "    res_poisson.append(count)\n",
        "\n",
        "  #grafico risultati\n",
        "  labels = []\n",
        "  set_res = list(set(res_poisson))\n",
        "  normalized = []\n",
        "  for i in set_res: \n",
        "    normalized.append(round(((res_poisson.count(i) / len(res_poisson)) * 100), 2))\n",
        "    labels.append(str(i+1)) \n",
        " \n",
        "  #grafico teorico\n",
        "  teoria = []\n",
        "  lam = bambini / malattia\n",
        "  for i in set_res:\n",
        "    teoria.append((math.e**-lam)*((lam**i)/math.factorial(i)) * 100)\n",
        "\n",
        "  lab_arr = np.arange(len(labels))\n",
        "\n",
        "  w=0.4\n",
        "  plt.bar(lab_arr-(w/2), normalized, width=w)\n",
        "  plt.bar(lab_arr+(w/2), teoria, width=w)\n",
        "\n",
        "  legenda = [\"Risultati ottenuti\", \"Risultati attesi\"]\n",
        "  plt.legend(legenda,loc='upper center', bbox_to_anchor=(0.5, -0.05), fancybox=True, shadow=True, ncol=5)\n",
        "  print(\"Anni simulati: \" + str(len(res_poisson)))"
      ],
      "metadata": {
        "id": "L8XSvxDZMGZe"
      },
      "execution_count": 25,
      "outputs": []
    },
    {
      "cell_type": "code",
      "source": [
        "es61()"
      ],
      "metadata": {
        "id": "H4CjxxyZ7Rxc",
        "colab": {
          "base_uri": "https://localhost:8080/",
          "height": 299
        },
        "outputId": "30024cd9-e8c8-4eb5-e742-cf49eeaa78d1"
      },
      "execution_count": 26,
      "outputs": [
        {
          "output_type": "stream",
          "name": "stdout",
          "text": [
            "Anni simulati: 100\n"
          ]
        },
        {
          "output_type": "display_data",
          "data": {
            "image/png": "[encoded data removed]",
            "text/plain": [
              "<Figure size 432x288 with 1 Axes>"
            ]
          },
          "metadata": {
            "needs_background": "light"
          }
        }
      ]
    },
    {
      "cell_type": "markdown",
      "source": [
        "#Densità continua uniforme"
      ],
      "metadata": {
        "id": "2HvnAmIq9-iV"
      }
    },
    {
      "cell_type": "markdown",
      "source": [
        "La variabile continua più semplice da studiare è quella che può assumere solo valori in un certo intervallo limitato e in modo ”uniforme”."
      ],
      "metadata": {
        "id": "q-CPgnYeAXnr"
      }
    },
    {
      "cell_type": "markdown",
      "source": [
        "## Esempio 7.1\n",
        "\n",
        "Un autobus passa da una fermata ogni 10 minuti. Noi arriviamo alla fermata in un momento casuale, chiamiamo T la variabile del tempo d'attesa che assume valori tra 0 e 10 minuti. Mediamente, quanto dovrò aspettare?\n",
        "\n",
        "Iniziamo prendendo l'autobus un po' di volte tenendo uno storico dei tempi di attesa:"
      ],
      "metadata": {
        "id": "AFabxKb1Ar4F"
      }
    },
    {
      "cell_type": "code",
      "source": [
        "uniforme = []\n",
        "tempo = 10\n",
        "for i in range(precisione):\n",
        "  uniforme.append(random.uniform(0, tempo))"
      ],
      "metadata": {
        "id": "A4ckSSdzDloY"
      },
      "execution_count": 27,
      "outputs": []
    },
    {
      "cell_type": "code",
      "source": [
        "#funzione che calcola il valore di x in ogni punto (densità continua uniforme)\n",
        "def densita(x, a, b):\n",
        "  res = []\n",
        "  for i in x:\n",
        "    if i < a:\n",
        "      res.append(0)\n",
        "    elif i > b:\n",
        "      res.append(0)\n",
        "    else:\n",
        "      res.append(1 / (b - a))\n",
        "  return res"
      ],
      "metadata": {
        "id": "G_5JWNvfHgIA"
      },
      "execution_count": 28,
      "outputs": []
    },
    {
      "cell_type": "markdown",
      "source": [
        "E mettiamo a grafico i risultati ottenuti"
      ],
      "metadata": {
        "id": "LfkzQQAmE_XV"
      }
    },
    {
      "cell_type": "code",
      "source": [
        "def es71():\n",
        "  points = (tempo + 2) * 10\n",
        "  \n",
        "  x = np.linspace(-1, tempo+1, points)\n",
        "\n",
        "  coord = []\n",
        "  for i in range(points):\n",
        "    count = 0\n",
        "    for item in uniforme:\n",
        "      if (item > -1 + (((tempo+2)/points)*i) and item <= -1 + (((tempo+2)/points)*(i+1))):\n",
        "        count = count + 1\n",
        "    coord.append((count / precisione) * (points / (tempo + 2)))\n",
        "  \n",
        "  p1 = plt.figure(1)\n",
        "  ax = plt.axes()\n",
        "  ax.plot(x, densita(x, 0, tempo))\n",
        "  ax.set_title(\"Risultati attesi\")\n",
        "  p1.show()\n",
        "  p2 = plt.figure(2)\n",
        "  ax = plt.axes()\n",
        "  ax.plot(x, coord)\n",
        "  ax.set_title(\"Risultati ottenuti\")\n",
        "  p2.show() \n",
        "  p3 = plt.figure(2)\n",
        "  sns.displot(uniforme, kind=\"ecdf\").set(title=\"Ripartizione\")\n",
        "  p3.show() \n",
        "es71()"
      ],
      "metadata": {
        "colab": {
          "base_uri": "https://localhost:8080/",
          "height": 909
        },
        "id": "E_CdpJ9ENKE3",
        "outputId": "e8bab3f0-6b28-42f7-c3c7-2676cda2d09d"
      },
      "execution_count": 29,
      "outputs": [
        {
          "output_type": "display_data",
          "data": {
            "image/png": "[encoded data removed]",
            "text/plain": [
              "<Figure size 432x288 with 1 Axes>"
            ]
          },
          "metadata": {
            "needs_background": "light"
          }
        },
        {
          "output_type": "display_data",
          "data": {
            "image/png": "[encoded data removed]",
            "text/plain": [
              "<Figure size 432x288 with 1 Axes>"
            ]
          },
          "metadata": {
            "needs_background": "light"
          }
        },
        {
          "output_type": "display_data",
          "data": {
            "image/png": "[encoded data removed]",
            "text/plain": [
              "<Figure size 360x360 with 1 Axes>"
            ]
          },
          "metadata": {
            "needs_background": "light"
          }
        }
      ]
    },
    {
      "cell_type": "markdown",
      "source": [
        "Per quanto riguarda la soluzione il valore atteso invece ci basta sapere che il valore atteso di una variabile uniforme è il punto medio dell'intervallo: 5 minuti."
      ],
      "metadata": {
        "id": "CO8fDJK3MDBv"
      }
    },
    {
      "cell_type": "code",
      "source": [
        "@interact_manual(tempo=(1, 20))\n",
        "def es71(tempo = 10):\n",
        "  results = []\n",
        "  for i in range(precisione):\n",
        "    results.append(random.uniform(0, tempo))\n",
        "  return round(np.mean(results), 2)"
      ],
      "metadata": {
        "colab": {
          "base_uri": "https://localhost:8080/",
          "height": 81,
          "referenced_widgets": [
            "7d12969d7b3f4d93807778cce119529c",
            "81867238509e409cb576d17c64460754",
            "d56ed250ca334f6ebe385a1f8e577f2a",
            "af5e756aed0e4facb08bf4d09c841c0a",
            "c791147fd7964a969820c26c102bfbca",
            "4ff15400c769460c936d940960bec69f",
            "e7459a4d53024de39c294432fcd2ff1f",
            "83be48063d0945aeb8252c32a9cab2c7",
            "515eb3b703e9406997a3694b16e812ee",
            "6ace9aaff94d446fa1d35d991ce0cbf7"
          ]
        },
        "id": "jG0a0YfTMiZi",
        "outputId": "0342fe84-731e-4880-eecc-db0eac6a5a11"
      },
      "execution_count": 30,
      "outputs": [
        {
          "output_type": "display_data",
          "data": {
            "application/vnd.jupyter.widget-view+json": {
              "model_id": "7d12969d7b3f4d93807778cce119529c",
              "version_minor": 0,
              "version_major": 2
            },
            "text/plain": [
              "interactive(children=(IntSlider(value=10, description='tempo', max=20, min=1), Button(description='Run Interac…"
            ]
          },
          "metadata": {}
        }
      ]
    },
    {
      "cell_type": "markdown",
      "source": [
        "##Esercizio 7.2"
      ],
      "metadata": {
        "id": "suJKbVomvlw2"
      }
    },
    {
      "cell_type": "markdown",
      "source": [
        "Continuiamo con l'esempio del bus ma questa volta ci interessa sapere la probabilità che arrivi in un certo intervallo di tempo"
      ],
      "metadata": {
        "id": "Fr271Olzv2DY"
      }
    },
    {
      "cell_type": "code",
      "source": [
        "@interact_manual(a=(0, 10), b=(0, 10))\n",
        "def es72(a = 4, b = 6):\n",
        "  if a > b:\n",
        "    return (\"Intervallo non valido\")\n",
        "\n",
        "  unif1 = [x for x in uniforme if x >= a and x <= b]\n",
        "  \n",
        "  points = (tempo + 2) * 10\n",
        "\n",
        "  x = np.linspace(-1, tempo+1, points)\n",
        "\n",
        "  coord = []\n",
        "  for i in range(points):\n",
        "    count = 0\n",
        "    for item in uniforme:\n",
        "      if (item > -1 + (((tempo+2)/points)*i) and item <= -1 + (((tempo+2)/points)*(i+1))):\n",
        "        count = count + 1\n",
        "    coord.append((count / precisione) * (points / (tempo + 2)))\n",
        "\n",
        "  coord2 = []\n",
        "  for i in range(points):\n",
        "    count = 0\n",
        "    for item in unif1:\n",
        "      if (item > -1 + (((tempo+2)/points)*i) and item <= -1 + (((tempo+2)/points)*(i+1))):\n",
        "        count = count + 1\n",
        "    coord2.append((count / precisione) * (points / (tempo + 2)))\n",
        "\n",
        "  plt.plot(x, coord)\n",
        "  plt.fill_betweenx(coord2, x, alpha=0.30)\n",
        "  \n",
        "  ris1 = round((b-a) / tempo, 3)\n",
        "  print(\"Risultati attesi: \" + str(ris1))\n",
        "  ris2 = round(len(unif1) / precisione, 3)\n",
        "  print(\"Risultati ottenuti: \" + str(ris2))"
      ],
      "metadata": {
        "id": "0Gfo7zOovTuG",
        "outputId": "456d8c8d-1c18-4433-e566-3ca00785985a",
        "colab": {
          "base_uri": "https://localhost:8080/",
          "height": 113,
          "referenced_widgets": [
            "d9d052170dbf482399cb0ac3b490ec74",
            "cfa244e81b0448d399ae19f98160ee10",
            "1024edd4c56248358596fd7b3a92a92f",
            "fb8fca60892047f89946d8092369e1c4",
            "7043a2cd2d924899a7543fd776d52386",
            "b9d0e11896c342869ffcd658da85fc2c",
            "4fb59cc2b263447c8d1b24962643c80f",
            "0d7c4638b8794951baf701509fc48932",
            "d936977962d34fbf80010c1cb564fa89",
            "efcc34e2516d4f8e931002dd7ba8cb2f",
            "d8cbf6633fc54ce4bac53c6c83416827",
            "cc40d1e67ec14c03a44e6dbb60c40dd7",
            "38082d0dd7f844829d2138fcd570bc8f"
          ]
        }
      },
      "execution_count": 31,
      "outputs": [
        {
          "output_type": "display_data",
          "data": {
            "application/vnd.jupyter.widget-view+json": {
              "model_id": "d9d052170dbf482399cb0ac3b490ec74",
              "version_minor": 0,
              "version_major": 2
            },
            "text/plain": [
              "interactive(children=(IntSlider(value=4, description='a', max=10), IntSlider(value=6, description='b', max=10)…"
            ]
          },
          "metadata": {}
        }
      ]
    },
    {
      "cell_type": "markdown",
      "source": [
        "#Densità continua esponenziale"
      ],
      "metadata": {
        "id": "KzWvYabHHMQp"
      }
    },
    {
      "cell_type": "markdown",
      "source": [
        "Fissiamo un parametro _λ_ e ricordiamo che una primitiva della funzione $e^{−λt}$ è data da -$\\frac{1}{λ}e^{−λt}$ da cui abbiamo che:\n",
        "\n",
        "\\begin{equation}\n",
        "  \\int_{0}^{+ \\infty} e^{-λt} \\,dt = \\frac{1}{λ} \n",
        "\\end{equation}\n",
        "\n",
        "Proposizione:\n",
        "\n",
        "\\begin{equation}\n",
        "  f(s) =\n",
        "    \\begin{cases}\n",
        "          λ e^{-λs} \\ se \\ s \\geq 0\n",
        "          \\\\\n",
        "          0 \\ altrimenti\n",
        "        \\end{cases}\n",
        "\\end{equation}\n",
        "\n",
        "dove _λ_ è un parametro positivo con densità continua astratta.\n",
        "\n",
        "Una variabile _X_ che ammette tale densità si dice esponenziale di parametro _λ_ e scriveremo _X_ ∼ Exp(_λ_). Lo stesso calcolo mostra che la funzione di ripartizione di una variabile _X_ ∼ Exp(_λ_) è data da\n",
        "\n",
        "\\begin{equation}\n",
        "  Fx(t) =\n",
        "    \\begin{cases}\n",
        "          1-e^{-λt} \\ se \\ t \\ge 0\n",
        "          \\\\\n",
        "          0 \\ \\ \\ \\ \\ \\ \\ \\ \\ \\ \\ \\ \\ se \\ t \\le 0\n",
        "        \\end{cases}\n",
        "\\end{equation}"
      ],
      "metadata": {
        "id": "kDn_33f8UA9S"
      }
    },
    {
      "cell_type": "markdown",
      "source": [
        "##Esempio 8.1\n",
        "\n",
        "Il decadimento di una particella radioattiva segue una legge esponenziale di parametro λ = 1 (in giorni).\n",
        "\n",
        "Qual è la probabilità che dopo 3 ore sia già decaduta?"
      ],
      "metadata": {
        "id": "vdltBTAzbjNQ"
      }
    },
    {
      "cell_type": "markdown",
      "source": [
        "Usando un cambio di variabile simuliamo un set di valori di una variabile esponenziale con parametro _λ_ = 1 "
      ],
      "metadata": {
        "id": "KXHsGg67--dB"
      }
    },
    {
      "cell_type": "code",
      "source": [
        "exp = []\n",
        "for i in range(precisione):\n",
        "  exp.append(-math.log(random.uniform(0, 1)))"
      ],
      "metadata": {
        "id": "GrAEx7n-2V-2"
      },
      "execution_count": 32,
      "outputs": []
    },
    {
      "cell_type": "markdown",
      "source": [
        "E ne grafichiamo la densità e la partizione "
      ],
      "metadata": {
        "id": "xP2yQ4p9ACry"
      }
    },
    {
      "cell_type": "code",
      "source": [
        "def exp_plot():\n",
        "  points = 130\n",
        "  space = 6\n",
        "\n",
        "  x = np.linspace(-1, space - 1, points)\n",
        "\n",
        "  coord = []\n",
        "  for i in range(points):\n",
        "    count = 0\n",
        "    for item in exp:\n",
        "      if (item > -1 + (((space)/points)*i) and item <= -1 + (((space)/points)*(i+1))):\n",
        "        count = count + 1\n",
        "    coord.append((count / precisione) * (points / (space)))\n",
        "  \n",
        "  sns.displot(exp, kind=\"ecdf\")\n",
        "  plt.plot(x, coord)\n",
        "  plt.xlim(-1, 4)\n",
        "  plt.title(\"Densità e ripartizione della variabile in esame\")\n",
        "\n",
        "  legenda = [\"Funzione di ripartizione\", \"Densità\"]\n",
        "  plt.legend(legenda,loc='upper center', bbox_to_anchor=(0.5, -0.05), fancybox=True, shadow=True, ncol=5)\n",
        "\n",
        "exp_plot()"
      ],
      "metadata": {
        "colab": {
          "base_uri": "https://localhost:8080/",
          "height": 403
        },
        "id": "o6Bmu5FDMOPV",
        "outputId": "83f3776f-54c2-4b88-96e3-09649ef3f805"
      },
      "execution_count": 33,
      "outputs": [
        {
          "output_type": "display_data",
          "data": {
            "image/png": "[encoded data removed]",
            "text/plain": [
              "<Figure size 360x360 with 1 Axes>"
            ]
          },
          "metadata": {
            "needs_background": "light"
          }
        }
      ]
    },
    {
      "cell_type": "markdown",
      "source": [
        "Tornando alla domanda iniziale, contiamo quante volte abbiamo ottenuto un tempo minore di 3 ore e confrontiamolo coi risultati attesi dalla teoria."
      ],
      "metadata": {
        "id": "MrVxuxXhB-Dh"
      }
    },
    {
      "cell_type": "code",
      "source": [
        "@interact_manual(ore=(0, 72))\n",
        "def es81(ore = 3):\n",
        "  count = 0\n",
        "  for item in exp:\n",
        "    if (item * 24) <= ore:\n",
        "      count = count + 1\n",
        "  print(\"Risultati ottenuti: \" + str(round(count / precisione, 3)))\n",
        "  res = 1 - (math.e**(-1 * (ore / 24)))\n",
        "  print(\"Risultati attesi: \" + str(round(res, 3)))"
      ],
      "metadata": {
        "colab": {
          "base_uri": "https://localhost:8080/",
          "height": 81,
          "referenced_widgets": [
            "8ac7b36664804a099ec2510ca46aa30a",
            "c497bd6228bd4efa91ab9979b09eac27",
            "80f4e888cb6e4645b3aeca45d545578b",
            "cb2ff0a3490d402db2a0611b9f53b7c6",
            "c028e540602b4fd3ac7170c5467fec8b",
            "e46463527ed045a5baeb689a51236c32",
            "1fcbe10b0bfb4a6eab899b91662a21cd",
            "828a52751d2a4664a5ce5cc0270f773c",
            "024675bb28494288a3328d301b8ecd0a",
            "012f5c484df849cd93e65e2b2b7074af"
          ]
        },
        "id": "-nLD7XugV7iy",
        "outputId": "c1730faf-b48a-41c4-e9a2-0e9a3959f4c4"
      },
      "execution_count": 34,
      "outputs": [
        {
          "output_type": "display_data",
          "data": {
            "application/vnd.jupyter.widget-view+json": {
              "model_id": "8ac7b36664804a099ec2510ca46aa30a",
              "version_minor": 0,
              "version_major": 2
            },
            "text/plain": [
              "interactive(children=(IntSlider(value=3, description='ore', max=72), Button(description='Run Interact', style=…"
            ]
          },
          "metadata": {}
        }
      ]
    },
    {
      "cell_type": "markdown",
      "source": [
        "Fin'ora abbiamo visto variabili esponenziali aventi _λ_ = 1, il caso base. Vediamo ora lo stesso esempio ma questa volta il tempo di decadimento della particella è segue una legge esponenziale di parametro _λ_ ≠ 1.\n",
        "\n",
        "Iniziamo vedendone il grafico della densità:"
      ],
      "metadata": {
        "id": "z8484TUNFyqT"
      }
    },
    {
      "cell_type": "code",
      "source": [
        "@interact_manual(λ=(2, 10))\n",
        "def exp_test(λ=2):\n",
        "  lamb = λ\n",
        "\n",
        "  test = []\n",
        "  for i in range(precisione):\n",
        "    test.append((-1/(lamb))*math.log(random.uniform(0, 1)))\n",
        "\n",
        "  b = max(test)/3\n",
        "  a = -b/10\n",
        "  points = 100\n",
        "  x = np.linspace(a, b, points)\n",
        "\n",
        "  coord = []\n",
        "  for i in range(points):\n",
        "    count = 0\n",
        "    for item in test:\n",
        "      if (item > a + (((abs(a) + b)/points)*i)) and (item <= a + (((abs(a) + b)/points)*(i+1))):\n",
        "        count = count + 1\n",
        "    coord.append((count / precisione) * (points / (abs(a) + b)))\n",
        "\n",
        "  plt.plot(x, coord)"
      ],
      "metadata": {
        "colab": {
          "base_uri": "https://localhost:8080/",
          "height": 81,
          "referenced_widgets": [
            "619bc90f8c414dc0905939879da7c4b9",
            "ac8fb8b1ecb4493899a588c213f90785",
            "28073a85969f4c26bf368700c483086e",
            "840a1f0135cb44288b58d9ac1cc3eb95",
            "2ad3b1b7b5544417ad9bafdf6c73d90a",
            "ee8ce9b56ca84360b6f55c6503221845",
            "baf1f2cd78da4ab891ed5c17b661b179",
            "350e537280724fa6bc77cf4df8709454",
            "41bfc7494ee5449488dd815bccbbe4eb",
            "03c0624e9e9140d7ac01ba87e15a3ac8"
          ]
        },
        "id": "irnlB3MXGPPl",
        "outputId": "9517d457-312b-4976-b678-e8691eb9f2f3"
      },
      "execution_count": 35,
      "outputs": [
        {
          "output_type": "display_data",
          "data": {
            "application/vnd.jupyter.widget-view+json": {
              "model_id": "619bc90f8c414dc0905939879da7c4b9",
              "version_minor": 0,
              "version_major": 2
            },
            "text/plain": [
              "interactive(children=(IntSlider(value=2, description='λ', max=10, min=2), Button(description='Run Interact', s…"
            ]
          },
          "metadata": {}
        }
      ]
    },
    {
      "cell_type": "markdown",
      "source": [
        "E confrontiamo i risultati che abbiamo ottenuto con quelli attesi dalla teoria:"
      ],
      "metadata": {
        "id": "ySU20jIY7tkY"
      }
    },
    {
      "cell_type": "code",
      "source": [
        "@interact_manual(ore=(0, 72), λ=(2, 10))\n",
        "def exp_particella(ore = 10, λ = 2):\n",
        "  test = []\n",
        "  for i in range(precisione):\n",
        "    test.append((-1/λ)*math.log(random.uniform(0, 1)))\n",
        "  count = 0\n",
        "  for item in test:\n",
        "    if (item * 24) <= ore:\n",
        "      count = count + 1\n",
        "  print(\"Risultati ottenuti: \" + str(round(count / precisione, 3)))\n",
        "  res = 1 - (math.e**(-(λ * (ore / 24))))\n",
        "  print(\"Risultati attesi: \" + str(round(res, 3)))"
      ],
      "metadata": {
        "colab": {
          "base_uri": "https://localhost:8080/",
          "height": 113,
          "referenced_widgets": [
            "f65218c8a1db45e490e8d5a354e9c79e",
            "a404e69a3aa243508f6bec4413f98ba8",
            "e18f890fa97c4daf890c566e292dae1e",
            "6aa6784941f24f7fa86e701821f42bf2",
            "ef60e9b75cd04c33892dfb9ad92e02fa",
            "d87e8b482a274d1fb33beca556868618",
            "64321f04c3f94426a4a6952c76ca8e3c",
            "4e1bddb886184c78994a7242ac6e7d42",
            "e7dbb803a7d142b6aecffb30b77e8ffb",
            "cc121300d23d4591ab9002a8b1ccaa26",
            "df5d0b71f03447ea943aa3af9c0f0ff7",
            "82301c2909a846b5838dd9a184c28842",
            "816365a3e75748b49abc7d518ebb0211"
          ]
        },
        "id": "lew-nKK9KlQ0",
        "outputId": "1a9be2b3-d5b2-4a3e-914a-1f2fba10a52d"
      },
      "execution_count": 36,
      "outputs": [
        {
          "output_type": "display_data",
          "data": {
            "application/vnd.jupyter.widget-view+json": {
              "model_id": "f65218c8a1db45e490e8d5a354e9c79e",
              "version_minor": 0,
              "version_major": 2
            },
            "text/plain": [
              "interactive(children=(IntSlider(value=10, description='ore', max=72), IntSlider(value=2, description='λ', max=…"
            ]
          },
          "metadata": {}
        }
      ]
    },
    {
      "cell_type": "markdown",
      "source": [
        "## Esercizio 8.2"
      ],
      "metadata": {
        "id": "QdEbzDc5JVI8"
      }
    },
    {
      "cell_type": "markdown",
      "source": [
        "Continuiamo con l'esempio della particella ma questa volta ci interessa sapere la probabilità decada in un certo intervallo di tempo"
      ],
      "metadata": {
        "id": "sxmUgXSeJcYJ"
      }
    },
    {
      "cell_type": "code",
      "source": [
        "@interact_manual(t1=(0, 96), t2=(0, 96))\n",
        "def es82(t1=3, t2=10):\n",
        "  if t1 > t2:\n",
        "    return (\"Intervallo non valido\")\n",
        "  \n",
        "  points = 325\n",
        "  tempo = 4.5\n",
        "  a = -0.5\n",
        "\n",
        "  x = np.linspace(a, tempo + a, points)\n",
        "  \n",
        "  exp1 = []\n",
        "  for i in range(precisione):\n",
        "    exp1.append(-math.log(random.uniform(0, 1)))\n",
        "\n",
        "  exp2 = [x for x in exp1 if x >= t1/24 and x <= t2/24]\n",
        "\n",
        "  coord = [0]\n",
        "  for i in range(points-1):\n",
        "    count = 0\n",
        "    for item in exp1:\n",
        "      if (item > a + (((tempo)/(points-1))*i) and item <= a + (((tempo)/(points-1))*(i+1))):\n",
        "        count = count + 1\n",
        "    coord.append((count / precisione) * ((points-1) / (tempo)))\n",
        "  \n",
        "  y = np.minimum(bounds(x, t1/24, t2/24), coord)\n",
        "  \n",
        "  ris1 = round((1 - (math.e**(-(t2 / 24)))) - (1 - (math.e**(-(t1 / 24)))), 3)\n",
        "  print(\"Risultati attesi: \" + str(ris1))\n",
        "  ris2 = round(len(exp2) / precisione, 3)\n",
        "  print(\"Risultati ottenuti: \" + str(ris2))\n",
        "\n",
        "  plt.plot(x, coord)\n",
        "  plt.fill_between(x, y, alpha=0.30)"
      ],
      "metadata": {
        "colab": {
          "base_uri": "https://localhost:8080/",
          "height": 113,
          "referenced_widgets": [
            "d20a0940ffbe4dff9b9e35969c2b0b94",
            "1fb97b3149c842cdbdddbf6f8b0897c9",
            "d8f21d0f69254f5284fa51c728ed1b02",
            "fe5b4b5fea794949aba5165978eaf217",
            "3a8130f49ebe4a21b6d6867de795f6ff",
            "f63ee0a5ec5744638e521ebfbfdda1f7",
            "60b0ce86b75347c995c712aa6e02d738",
            "b9a448d067774c79a95fae1826b14318",
            "2f367bec66c14f9e9aa6aba8d83031f4",
            "e321a8b147914ce8ab899a6737b1c232",
            "3701054943ec4f9c977eb12b6764b150",
            "188c8de83a87436cbccf66a515d93f4e",
            "1f79b7942a414f0f8b16b44013a4363d"
          ]
        },
        "id": "9jzvi4tr12nU",
        "outputId": "d6c12472-039c-4673-c7ef-ae6d016d03b9"
      },
      "execution_count": 37,
      "outputs": [
        {
          "output_type": "display_data",
          "data": {
            "application/vnd.jupyter.widget-view+json": {
              "model_id": "d20a0940ffbe4dff9b9e35969c2b0b94",
              "version_minor": 0,
              "version_major": 2
            },
            "text/plain": [
              "interactive(children=(IntSlider(value=3, description='t1', max=96), IntSlider(value=10, description='t2', max=…"
            ]
          },
          "metadata": {}
        }
      ]
    },
    {
      "cell_type": "markdown",
      "source": [
        "#Densità continua normale"
      ],
      "metadata": {
        "id": "YEVrCLb-MTAW"
      }
    },
    {
      "cell_type": "markdown",
      "source": [
        "Passiamo ora a considerare quelle che sono probabilmente le variabili aleatorie continue più rilevanti.\n",
        "Si può dimostrare (e Gauss lo ha fatto per primo) che\n",
        "\n",
        "\\begin{equation}\n",
        "  \\int_{- \\infty}^{+ \\infty} e^{-{\\frac{x^2}{2}}} \\,dx = \\sqrt{2 \\pi} \n",
        "\\end{equation}\n",
        "\n",
        "Ne segue che la funzione\n",
        "\n",
        "\\begin{equation}\n",
        "  f(s)= \\frac{1}{\\sqrt{2 \\pi}}e^{-{\\frac{x^2}{2}}}\n",
        "\\end{equation}\n",
        "\n",
        "è una densità. Questa densità viene detta normale standard o gaussiana standard e se una variabile _X_ che ammette questa densità scriveremo\n",
        "\n",
        "\\begin{equation} \n",
        "  X ∼ N(0, 1)\n",
        "\\end{equation}"
      ],
      "metadata": {
        "id": "VLVgu8loMhhb"
      }
    },
    {
      "cell_type": "markdown",
      "source": [
        "Il primo parametro è la media, ovvero il valore medio della distribuzione. Il secondo è la deviazione standard.\n",
        "\n",
        "Di seguito vediamo i grafici della funzione di ripartizione e della densità di una normale al variare di media e deviazione standard:"
      ],
      "metadata": {
        "id": "G54eY3HAS3AM"
      }
    },
    {
      "cell_type": "code",
      "source": [
        "@interact(mean=(-5, 5), std_dev=(1, 5))\n",
        "def std_norm(mean = 0, std_dev = 1):\n",
        "  a = -10\n",
        "  x = np.linspace(a, abs(a), 100)\n",
        "  dnd = []\n",
        "  for i in x:\n",
        "    dnd.append(scipy.stats.norm(mean, std_dev).pdf(i))\n",
        "  plt.plot(x, dnd)\n",
        "  legenda = [\"Densità\"]\n",
        "  plt.legend(legenda,loc='upper center', bbox_to_anchor=(0.5, -0.05), fancybox=True, shadow=True, ncol=5)"
      ],
      "metadata": {
        "id": "9eK-dNsZTJ3L",
        "colab": {
          "base_uri": "https://localhost:8080/",
          "height": 346,
          "referenced_widgets": [
            "afdfcb99da164af492148657781f0f7f",
            "1bf9b93f1142466aa66c504b63fd23a8",
            "e34b6e8c098d4236b8de5b1575dea80c",
            "76087fce932d49a5960692bf2ff56df7",
            "0d6ad6bc431944bcbe04b40580838b4b",
            "f4b2612e483b474b83495b8bab4eef60",
            "89aa8ba0f87f430d9822466893190a65",
            "6b1828a061544d849be1c4633e711162",
            "bbdbca6f28b943159536037dcc66a9ea",
            "985fe8ccf31a4738972ba78f7197d010"
          ]
        },
        "outputId": "5ec46fee-a37f-4193-8ea0-1891928ab7e5"
      },
      "execution_count": 38,
      "outputs": [
        {
          "output_type": "display_data",
          "data": {
            "application/vnd.jupyter.widget-view+json": {
              "model_id": "afdfcb99da164af492148657781f0f7f",
              "version_minor": 0,
              "version_major": 2
            },
            "text/plain": [
              "interactive(children=(IntSlider(value=0, description='mean', max=5, min=-5), IntSlider(value=1, description='s…"
            ]
          },
          "metadata": {}
        }
      ]
    },
    {
      "cell_type": "code",
      "source": [
        "@interact(mean=(-5, 5), std_dev=(1, 5))\n",
        "def std_norm(mean = 0, std_dev = 1):\n",
        "  a = -10\n",
        "  x = np.linspace(a, abs(a), 100)\n",
        "  pnd = []\n",
        "  for i in x:\n",
        "    pnd.append(scipy.stats.norm(mean, std_dev).cdf(i))\n",
        "  plt.plot(x, pnd)\n",
        "  legenda = [\"Funzione di ripartizione\"]\n",
        "  plt.legend(legenda,loc='upper center', bbox_to_anchor=(0.5, -0.05), fancybox=True, shadow=True, ncol=5)"
      ],
      "metadata": {
        "colab": {
          "base_uri": "https://localhost:8080/",
          "height": 346,
          "referenced_widgets": [
            "a27c8d5b3f194c8891f9bfa05ee4af93",
            "342809f6b9474905ae0f3bdf165f283b",
            "0fd4e096bd524cbdbc452f4e78bf3324",
            "1e0152e90cef4a65bd77172f19c6009e",
            "42e4a073f99a4fd2ba81f3459ff67d8f",
            "b779874a0bf94414a23fc5ae70b7f321",
            "0f883bfe9a604c899d0dbc2bcd81d10e",
            "cb9e62ee160b49cbbf02687767b2584b",
            "e4fdba1cbb6c45f080117d416cd94d02",
            "885c7c2f327d4ae396f3addaf88ad4f8"
          ]
        },
        "id": "vZtFsBexR7UQ",
        "outputId": "8cf94e13-f64d-4e8e-ea2d-b006b621786c"
      },
      "execution_count": 39,
      "outputs": [
        {
          "output_type": "display_data",
          "data": {
            "application/vnd.jupyter.widget-view+json": {
              "model_id": "a27c8d5b3f194c8891f9bfa05ee4af93",
              "version_minor": 0,
              "version_major": 2
            },
            "text/plain": [
              "interactive(children=(IntSlider(value=0, description='mean', max=5, min=-5), IntSlider(value=1, description='s…"
            ]
          },
          "metadata": {}
        }
      ]
    },
    {
      "cell_type": "markdown",
      "source": [
        "## Esempio 9.1"
      ],
      "metadata": {
        "id": "0WalWbwgLNDx"
      }
    },
    {
      "cell_type": "markdown",
      "source": [
        "Sia _X_ una variabile continua normale standard, determinare la probabilità che _X_ assuma un valore minore di 1."
      ],
      "metadata": {
        "id": "NLO8PiezLS_N"
      }
    },
    {
      "cell_type": "code",
      "source": [
        "def bounds(x, a, b):\n",
        "  res = []\n",
        "  for i in x:\n",
        "    if i < a:\n",
        "      res.append(0)\n",
        "    elif i > b:\n",
        "      res.append(0)\n",
        "    else:\n",
        "      res.append(1)\n",
        "  return res"
      ],
      "metadata": {
        "id": "Iiln3yhVXChT"
      },
      "execution_count": 40,
      "outputs": []
    },
    {
      "cell_type": "code",
      "source": [
        "@interact_manual(valore=(-4, 4, 0.1))\n",
        "def es91(valore = 1):\n",
        "  a = -4\n",
        "  points = 401\n",
        "\n",
        "  x = np.linspace(a, abs(a), points)\n",
        "\n",
        "  nd1 = []\n",
        "  for i in range(precisione):\n",
        "    nd1.append(np.random.normal(0, 1))\n",
        "\n",
        "  nd2 = [x for x in nd1 if x <= valore]\n",
        "\n",
        "  coord = [0]\n",
        "  for i in range(points - 1):\n",
        "    count = 0\n",
        "    for item in nd1:\n",
        "      if (item > a + (((-2*a)/points)*i)) and (item <= a + (((-2*a)/points)*(i+1))):\n",
        "        count = count + 1\n",
        "    coord.append((count / precisione) * (points / (-2*a)))\n",
        "  \n",
        "  y = np.minimum(bounds(x, -5, valore), coord)\n",
        "\n",
        "  ris1 = round(scipy.stats.norm(0, 1).cdf(valore), 3)\n",
        "  print(\"Risultati attesi: \" + str(ris1))\n",
        "  ris2 = round(len(nd2) / precisione, 3)\n",
        "  print(\"Risultati ottenuti: \" + str(ris2))\n",
        "\n",
        "  plt.fill_between(x, y, alpha=0.30)\n",
        "  plt.plot(x, coord)"
      ],
      "metadata": {
        "id": "0YLBeVSIL9qG",
        "outputId": "f4087539-38bf-4cf9-a282-fd353ba11c19",
        "colab": {
          "base_uri": "https://localhost:8080/",
          "height": 81,
          "referenced_widgets": [
            "4f834d35d4f24854be1c9e5ed672fbcc",
            "df5b47812e6043b0af51c4b556c5189d",
            "1b5a56823eeb455a9fbe6d640be2d2a6",
            "eacfe0211e8040a4b404d333cc7d21f5",
            "a3b65b103f864da3bc3081c318f9eb0f",
            "9e047f4768194228a816b788ba009671",
            "f28201fb077549f58f57297f4ab5c89a",
            "6fd596cbd96b4b38b8c09f6a8dd1b0af",
            "ee30164cc54c4eabb65bd10efaaa2988",
            "28237704eae74e38b9a1ad72190cb2d5"
          ]
        }
      },
      "execution_count": 41,
      "outputs": [
        {
          "output_type": "display_data",
          "data": {
            "application/vnd.jupyter.widget-view+json": {
              "model_id": "4f834d35d4f24854be1c9e5ed672fbcc",
              "version_minor": 0,
              "version_major": 2
            },
            "text/plain": [
              "interactive(children=(FloatSlider(value=1.0, description='valore', max=4.0, min=-4.0), Button(description='Run…"
            ]
          },
          "metadata": {}
        }
      ]
    },
    {
      "cell_type": "markdown",
      "source": [
        "## Esempio 9.2"
      ],
      "metadata": {
        "id": "twGutUTVPnRX"
      }
    },
    {
      "cell_type": "markdown",
      "source": [
        "Uno studio su 100 000 diciottenni (reclutati dalle scuole e dal Maternal and Child Health Centres ad Hong Kong) ha mostrato che l'altezza di un'adulto ha una densità normale _N_ (172, 5).\n",
        "\n",
        " Una divisa per reclute è disponibile in 4 taglie:\n",
        " \n",
        "Taglia   | Altezza \n",
        "---------|------------------\n",
        "S        | h < 164\n",
        "M        | 164 < h < 172\n",
        "L        | 172 < h < 180\n",
        "XL       | h > 180\n",
        "\n",
        "Dovendo vestire 500 nuove reclute quante divise di ogni taglia comprereste?"
      ],
      "metadata": {
        "id": "edGsbSkpyUup"
      }
    },
    {
      "cell_type": "markdown",
      "source": [
        "Per validare i risultati che calcolati con le formule, li confronteremo con le altezze di 20 000 adulti che hanno partecipato all'esperimento ma le cui altezze non sono state usate per per definire la distribuzione, ma lasciate per validarla."
      ],
      "metadata": {
        "id": "V-0c_kiN1WlJ"
      }
    },
    {
      "cell_type": "code",
      "source": [
        "data_url = \"https://raw.githubusercontent.com/MontiMic/Tesi/riordinato/train.csv\" #importo il dataset\n",
        "data = pd.read_csv(data_url, sep=',', dtype={})\n",
        "lab = [\"id\", \"height\", \"weight\"]\n",
        "data.columns = [i for i in lab]\n",
        "data = data.drop(['id', 'weight'], axis=1) #scarto i dati riguardanti l'id ed il peso dei soggetti, non ci servono\n",
        "height = []\n",
        "for i in data[\"height\"]: #converto le altezze da pollici in centimetri\n",
        "  height.append(i*2.54)"
      ],
      "metadata": {
        "id": "wEK2CHWylV7L"
      },
      "execution_count": 42,
      "outputs": []
    },
    {
      "cell_type": "code",
      "source": [
        "x = np.linspace(151, 190, 40)\n",
        "coord = []\n",
        "for i in range(40):\n",
        "  count = 0\n",
        "  for item in height:\n",
        "    if (item > (151 + i) and item <= (151 + i + 1)):\n",
        "      count = count + 1\n",
        "  coord.append(count / len(height))\n",
        "dnd = []\n",
        "for i in x:\n",
        "  dnd.append(scipy.stats.norm(172, 5).pdf(i))\n",
        "plt.plot(x, dnd)\n",
        "plt.plot(x, coord)\n",
        "legenda = [\"Distribuzione teorica\", \"Distribuzione del campione\"]\n",
        "plt.legend(legenda,loc='upper center', bbox_to_anchor=(0.5, -0.05), fancybox=True, shadow=True, ncol=5)\n",
        "plt.show()"
      ],
      "metadata": {
        "colab": {
          "base_uri": "https://localhost:8080/",
          "height": 282
        },
        "id": "1j7e4b-jbImS",
        "outputId": "70b84fd5-d832-4841-cdd7-e31eb58f33d1"
      },
      "execution_count": 43,
      "outputs": [
        {
          "output_type": "display_data",
          "data": {
            "image/png": "[encoded data removed]",
            "text/plain": [
              "<Figure size 432x288 with 1 Axes>"
            ]
          },
          "metadata": {
            "needs_background": "light"
          }
        }
      ]
    },
    {
      "cell_type": "code",
      "source": [
        "@interact_manual(taglia=[\"S\", \"M\", \"L\", \"XL\"])\n",
        "def es92(taglia = \"L\"):\n",
        "  a, b = 0, 0\n",
        "  #purtroppo questa versione di python non supporta gli switch case (nè il match case)\n",
        "  if taglia == \"S\":\n",
        "    a, b = 150, 164\n",
        "  elif taglia == \"M\":\n",
        "    a, b = 164, 172\n",
        "  elif taglia == \"L\":\n",
        "    a, b = 172, 180 \n",
        "  elif taglia == \"XL\":\n",
        "    a, b = 180, 191\n",
        "  \n",
        "  cm = 500\n",
        "  x = np.linspace(151, 200, cm)\n",
        "  \n",
        "  nd1 = []\n",
        "  for i in range(cm):\n",
        "    count = 0\n",
        "    for item in height:\n",
        "      if (item > (151 + i/10) and item <= (151 + i/10 + 1)):\n",
        "        count = count + 1\n",
        "    nd1.append(count / len(height))\n",
        "\n",
        "  nd2 = [x for x in height if x > a and x <= b]\n",
        "  \n",
        "  ris1 = round(scipy.stats.norm(172, 5).cdf(b) - scipy.stats.norm(172, 5).cdf(a), 3)\n",
        "  print(\"Risultati attesi: \" + str(ris1))\n",
        "  ris2 = round(len(nd2) / len(height), 3)\n",
        "  print(\"Risultati ottenuti: \" + str(ris2))\n",
        "\n",
        "  y = np.minimum(bounds(x, a, b), nd1)\n",
        "\n",
        "  plt.plot(x, nd1)\n",
        "  #plt.plot(x, bounds(x, a, b))\n",
        "  #plt.plot(x, y)\n",
        "  plt.fill_between(x, y, alpha=0.30)\n",
        "  plt.xlim(150, 200)"
      ],
      "metadata": {
        "colab": {
          "base_uri": "https://localhost:8080/",
          "height": 364,
          "referenced_widgets": [
            "3d2afb9d67b54e9ebcd650b7b63a06cc",
            "c1a9c2f8b73f4142a6dbe191f58edd48",
            "499d28208e6e497e89513aed669ee716",
            "d090b6f540014003a8ed76bc7e11a224",
            "388b5a2e1b774154ae12b78067b4277b",
            "5583acedc1284198905044aa70998ce3",
            "e0c952c540dc443d9b2709690948215a",
            "41707b01fccd46dba293918ea93d5c01",
            "b2c42e435cae4397afddeb45da485da2",
            "d0e375e6c27e4286bc3a3cc6dd40dd74"
          ]
        },
        "id": "j13iOPty-8h8",
        "outputId": "fd793114-7864-4d31-b474-d52cdd000dfd"
      },
      "execution_count": 47,
      "outputs": [
        {
          "output_type": "display_data",
          "data": {
            "application/vnd.jupyter.widget-view+json": {
              "model_id": "3d2afb9d67b54e9ebcd650b7b63a06cc",
              "version_minor": 0,
              "version_major": 2
            },
            "text/plain": [
              "interactive(children=(Dropdown(description='taglia', index=2, options=('S', 'M', 'L', 'XL'), value='L'), Butto…"
            ]
          },
          "metadata": {}
        }
      ]
    },
    {
      "cell_type": "code",
      "source": [
        ""
      ],
      "metadata": {
        "id": "dRod9NewTrtR"
      },
      "execution_count": null,
      "outputs": []
    }
  ]
}