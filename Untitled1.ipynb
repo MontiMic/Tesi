{
  "nbformat": 4,
  "nbformat_minor": 0,
  "metadata": {
    "colab": {
      "name": "Untitled1.ipynb",
      "provenance": [],
      "toc_visible": true,
      "collapsed_sections": [],
      "authorship_tag": "ABX9TyP6HCbJcJC5Q8WuLVhd9yfq",
      "include_colab_link": true
    },
    "kernelspec": {
      "name": "python3",
      "display_name": "Python 3"
    },
    "language_info": {
      "name": "python"
    },
    "widgets": {
      "application/vnd.jupyter.widget-state+json": {
        "cf21774c350a476aa2db5ebc76b459ba": {
          "model_module": "@jupyter-widgets/controls",
          "model_name": "VBoxModel",
          "model_module_version": "1.5.0",
          "state": {
            "_view_name": "VBoxView",
            "_dom_classes": [
              "widget-interact"
            ],
            "_model_name": "VBoxModel",
            "_view_module": "@jupyter-widgets/controls",
            "_model_module_version": "1.5.0",
            "_view_count": null,
            "_view_module_version": "1.5.0",
            "box_style": "",
            "layout": "IPY_MODEL_aaaae5ff97184c688d294fd685bc5677",
            "_model_module": "@jupyter-widgets/controls",
            "children": [
              "IPY_MODEL_e3dc66b1768842d2bb3aa03bc35cc0fd",
              "IPY_MODEL_c73236bd027645f4808aa7c58a68a9d5",
              "IPY_MODEL_c0566d89eda64723a3ed48d048b6f3e3"
            ]
          }
        },
        "aaaae5ff97184c688d294fd685bc5677": {
          "model_module": "@jupyter-widgets/base",
          "model_name": "LayoutModel",
          "model_module_version": "1.2.0",
          "state": {
            "_view_name": "LayoutView",
            "grid_template_rows": null,
            "right": null,
            "justify_content": null,
            "_view_module": "@jupyter-widgets/base",
            "overflow": null,
            "_model_module_version": "1.2.0",
            "_view_count": null,
            "flex_flow": null,
            "width": null,
            "min_width": null,
            "border": null,
            "align_items": null,
            "bottom": null,
            "_model_module": "@jupyter-widgets/base",
            "top": null,
            "grid_column": null,
            "overflow_y": null,
            "overflow_x": null,
            "grid_auto_flow": null,
            "grid_area": null,
            "grid_template_columns": null,
            "flex": null,
            "_model_name": "LayoutModel",
            "justify_items": null,
            "grid_row": null,
            "max_height": null,
            "align_content": null,
            "visibility": null,
            "align_self": null,
            "height": null,
            "min_height": null,
            "padding": null,
            "grid_auto_rows": null,
            "grid_gap": null,
            "max_width": null,
            "order": null,
            "_view_module_version": "1.2.0",
            "grid_template_areas": null,
            "object_position": null,
            "object_fit": null,
            "grid_auto_columns": null,
            "margin": null,
            "display": null,
            "left": null
          }
        },
        "e3dc66b1768842d2bb3aa03bc35cc0fd": {
          "model_module": "@jupyter-widgets/controls",
          "model_name": "IntSliderModel",
          "model_module_version": "1.5.0",
          "state": {
            "_view_name": "IntSliderView",
            "style": "IPY_MODEL_8c90f56ac1a04256a74d90768a5142db",
            "_dom_classes": [],
            "description": "vincita",
            "step": 1,
            "_model_name": "IntSliderModel",
            "orientation": "horizontal",
            "max": 30,
            "_view_module": "@jupyter-widgets/controls",
            "_model_module_version": "1.5.0",
            "value": 5,
            "_view_count": null,
            "disabled": false,
            "_view_module_version": "1.5.0",
            "min": 0,
            "continuous_update": true,
            "readout_format": "d",
            "description_tooltip": null,
            "readout": true,
            "_model_module": "@jupyter-widgets/controls",
            "layout": "IPY_MODEL_069d286f0b864c25a49ee98b30cdb951"
          }
        },
        "c73236bd027645f4808aa7c58a68a9d5": {
          "model_module": "@jupyter-widgets/controls",
          "model_name": "ButtonModel",
          "model_module_version": "1.5.0",
          "state": {
            "_view_name": "ButtonView",
            "style": "IPY_MODEL_750b094c35a249339a310f0c17b8fceb",
            "_dom_classes": [],
            "description": "Run Interact",
            "_model_name": "ButtonModel",
            "button_style": "",
            "_view_module": "@jupyter-widgets/controls",
            "_model_module_version": "1.5.0",
            "tooltip": "",
            "_view_count": null,
            "disabled": false,
            "_view_module_version": "1.5.0",
            "layout": "IPY_MODEL_ef18555fd4b14019a79c4d4940137d63",
            "_model_module": "@jupyter-widgets/controls",
            "icon": ""
          }
        },
        "c0566d89eda64723a3ed48d048b6f3e3": {
          "model_module": "@jupyter-widgets/output",
          "model_name": "OutputModel",
          "model_module_version": "1.0.0",
          "state": {
            "_view_name": "OutputView",
            "msg_id": "",
            "_dom_classes": [],
            "_model_name": "OutputModel",
            "outputs": [],
            "_view_module": "@jupyter-widgets/output",
            "_model_module_version": "1.0.0",
            "_view_count": null,
            "_view_module_version": "1.0.0",
            "layout": "IPY_MODEL_b9c750a4ea5a46c4b90e748b03133e46",
            "_model_module": "@jupyter-widgets/output"
          }
        },
        "8c90f56ac1a04256a74d90768a5142db": {
          "model_module": "@jupyter-widgets/controls",
          "model_name": "SliderStyleModel",
          "model_module_version": "1.5.0",
          "state": {
            "_view_name": "StyleView",
            "handle_color": null,
            "_model_name": "SliderStyleModel",
            "description_width": "",
            "_view_module": "@jupyter-widgets/base",
            "_model_module_version": "1.5.0",
            "_view_count": null,
            "_view_module_version": "1.2.0",
            "_model_module": "@jupyter-widgets/controls"
          }
        },
        "069d286f0b864c25a49ee98b30cdb951": {
          "model_module": "@jupyter-widgets/base",
          "model_name": "LayoutModel",
          "model_module_version": "1.2.0",
          "state": {
            "_view_name": "LayoutView",
            "grid_template_rows": null,
            "right": null,
            "justify_content": null,
            "_view_module": "@jupyter-widgets/base",
            "overflow": null,
            "_model_module_version": "1.2.0",
            "_view_count": null,
            "flex_flow": null,
            "width": null,
            "min_width": null,
            "border": null,
            "align_items": null,
            "bottom": null,
            "_model_module": "@jupyter-widgets/base",
            "top": null,
            "grid_column": null,
            "overflow_y": null,
            "overflow_x": null,
            "grid_auto_flow": null,
            "grid_area": null,
            "grid_template_columns": null,
            "flex": null,
            "_model_name": "LayoutModel",
            "justify_items": null,
            "grid_row": null,
            "max_height": null,
            "align_content": null,
            "visibility": null,
            "align_self": null,
            "height": null,
            "min_height": null,
            "padding": null,
            "grid_auto_rows": null,
            "grid_gap": null,
            "max_width": null,
            "order": null,
            "_view_module_version": "1.2.0",
            "grid_template_areas": null,
            "object_position": null,
            "object_fit": null,
            "grid_auto_columns": null,
            "margin": null,
            "display": null,
            "left": null
          }
        },
        "750b094c35a249339a310f0c17b8fceb": {
          "model_module": "@jupyter-widgets/controls",
          "model_name": "ButtonStyleModel",
          "model_module_version": "1.5.0",
          "state": {
            "_view_name": "StyleView",
            "_model_name": "ButtonStyleModel",
            "_view_module": "@jupyter-widgets/base",
            "_model_module_version": "1.5.0",
            "_view_count": null,
            "button_color": null,
            "font_weight": "",
            "_view_module_version": "1.2.0",
            "_model_module": "@jupyter-widgets/controls"
          }
        },
        "ef18555fd4b14019a79c4d4940137d63": {
          "model_module": "@jupyter-widgets/base",
          "model_name": "LayoutModel",
          "model_module_version": "1.2.0",
          "state": {
            "_view_name": "LayoutView",
            "grid_template_rows": null,
            "right": null,
            "justify_content": null,
            "_view_module": "@jupyter-widgets/base",
            "overflow": null,
            "_model_module_version": "1.2.0",
            "_view_count": null,
            "flex_flow": null,
            "width": null,
            "min_width": null,
            "border": null,
            "align_items": null,
            "bottom": null,
            "_model_module": "@jupyter-widgets/base",
            "top": null,
            "grid_column": null,
            "overflow_y": null,
            "overflow_x": null,
            "grid_auto_flow": null,
            "grid_area": null,
            "grid_template_columns": null,
            "flex": null,
            "_model_name": "LayoutModel",
            "justify_items": null,
            "grid_row": null,
            "max_height": null,
            "align_content": null,
            "visibility": null,
            "align_self": null,
            "height": null,
            "min_height": null,
            "padding": null,
            "grid_auto_rows": null,
            "grid_gap": null,
            "max_width": null,
            "order": null,
            "_view_module_version": "1.2.0",
            "grid_template_areas": null,
            "object_position": null,
            "object_fit": null,
            "grid_auto_columns": null,
            "margin": null,
            "display": null,
            "left": null
          }
        },
        "b9c750a4ea5a46c4b90e748b03133e46": {
          "model_module": "@jupyter-widgets/base",
          "model_name": "LayoutModel",
          "model_module_version": "1.2.0",
          "state": {
            "_view_name": "LayoutView",
            "grid_template_rows": null,
            "right": null,
            "justify_content": null,
            "_view_module": "@jupyter-widgets/base",
            "overflow": null,
            "_model_module_version": "1.2.0",
            "_view_count": null,
            "flex_flow": null,
            "width": null,
            "min_width": null,
            "border": null,
            "align_items": null,
            "bottom": null,
            "_model_module": "@jupyter-widgets/base",
            "top": null,
            "grid_column": null,
            "overflow_y": null,
            "overflow_x": null,
            "grid_auto_flow": null,
            "grid_area": null,
            "grid_template_columns": null,
            "flex": null,
            "_model_name": "LayoutModel",
            "justify_items": null,
            "grid_row": null,
            "max_height": null,
            "align_content": null,
            "visibility": null,
            "align_self": null,
            "height": null,
            "min_height": null,
            "padding": null,
            "grid_auto_rows": null,
            "grid_gap": null,
            "max_width": null,
            "order": null,
            "_view_module_version": "1.2.0",
            "grid_template_areas": null,
            "object_position": null,
            "object_fit": null,
            "grid_auto_columns": null,
            "margin": null,
            "display": null,
            "left": null
          }
        },
        "55209b43be0c4784a96adee14acade08": {
          "model_module": "@jupyter-widgets/controls",
          "model_name": "VBoxModel",
          "model_module_version": "1.5.0",
          "state": {
            "_view_name": "VBoxView",
            "_dom_classes": [
              "widget-interact"
            ],
            "_model_name": "VBoxModel",
            "_view_module": "@jupyter-widgets/controls",
            "_model_module_version": "1.5.0",
            "_view_count": null,
            "_view_module_version": "1.5.0",
            "box_style": "",
            "layout": "IPY_MODEL_bc73e34ddae743e9a93774594365ef40",
            "_model_module": "@jupyter-widgets/controls",
            "children": [
              "IPY_MODEL_54ea807e174047a4bf074df69daa1a4f",
              "IPY_MODEL_85f8fcffed224e37b72d434fd6ef0582",
              "IPY_MODEL_a7f0848a74414f83929b10454d0e7fc8",
              "IPY_MODEL_f17703deb7c5492caf894dc5bfa73996"
            ]
          }
        },
        "bc73e34ddae743e9a93774594365ef40": {
          "model_module": "@jupyter-widgets/base",
          "model_name": "LayoutModel",
          "model_module_version": "1.2.0",
          "state": {
            "_view_name": "LayoutView",
            "grid_template_rows": null,
            "right": null,
            "justify_content": null,
            "_view_module": "@jupyter-widgets/base",
            "overflow": null,
            "_model_module_version": "1.2.0",
            "_view_count": null,
            "flex_flow": null,
            "width": null,
            "min_width": null,
            "border": null,
            "align_items": null,
            "bottom": null,
            "_model_module": "@jupyter-widgets/base",
            "top": null,
            "grid_column": null,
            "overflow_y": null,
            "overflow_x": null,
            "grid_auto_flow": null,
            "grid_area": null,
            "grid_template_columns": null,
            "flex": null,
            "_model_name": "LayoutModel",
            "justify_items": null,
            "grid_row": null,
            "max_height": null,
            "align_content": null,
            "visibility": null,
            "align_self": null,
            "height": null,
            "min_height": null,
            "padding": null,
            "grid_auto_rows": null,
            "grid_gap": null,
            "max_width": null,
            "order": null,
            "_view_module_version": "1.2.0",
            "grid_template_areas": null,
            "object_position": null,
            "object_fit": null,
            "grid_auto_columns": null,
            "margin": null,
            "display": null,
            "left": null
          }
        },
        "54ea807e174047a4bf074df69daa1a4f": {
          "model_module": "@jupyter-widgets/controls",
          "model_name": "IntSliderModel",
          "model_module_version": "1.5.0",
          "state": {
            "_view_name": "IntSliderView",
            "style": "IPY_MODEL_46a2807e4782442186e96cc2ff2c729f",
            "_dom_classes": [],
            "description": "giocate",
            "step": 1,
            "_model_name": "IntSliderModel",
            "orientation": "horizontal",
            "max": 10,
            "_view_module": "@jupyter-widgets/controls",
            "_model_module_version": "1.5.0",
            "value": 3,
            "_view_count": null,
            "disabled": false,
            "_view_module_version": "1.5.0",
            "min": 1,
            "continuous_update": true,
            "readout_format": "d",
            "description_tooltip": null,
            "readout": true,
            "_model_module": "@jupyter-widgets/controls",
            "layout": "IPY_MODEL_57b34406a15744af8281350d45d6fc14"
          }
        },
        "85f8fcffed224e37b72d434fd6ef0582": {
          "model_module": "@jupyter-widgets/controls",
          "model_name": "IntSliderModel",
          "model_module_version": "1.5.0",
          "state": {
            "_view_name": "IntSliderView",
            "style": "IPY_MODEL_866e48ff68114a469dd16948536eafd3",
            "_dom_classes": [],
            "description": "puntata",
            "step": 5,
            "_model_name": "IntSliderModel",
            "orientation": "horizontal",
            "max": 100,
            "_view_module": "@jupyter-widgets/controls",
            "_model_module_version": "1.5.0",
            "value": 10,
            "_view_count": null,
            "disabled": false,
            "_view_module_version": "1.5.0",
            "min": 5,
            "continuous_update": true,
            "readout_format": "d",
            "description_tooltip": null,
            "readout": true,
            "_model_module": "@jupyter-widgets/controls",
            "layout": "IPY_MODEL_5bcb8d9d73f7404183416cb83a9ba020"
          }
        },
        "a7f0848a74414f83929b10454d0e7fc8": {
          "model_module": "@jupyter-widgets/controls",
          "model_name": "ButtonModel",
          "model_module_version": "1.5.0",
          "state": {
            "_view_name": "ButtonView",
            "style": "IPY_MODEL_11cf8db53baf497fae28bde8c073d376",
            "_dom_classes": [],
            "description": "Run Interact",
            "_model_name": "ButtonModel",
            "button_style": "",
            "_view_module": "@jupyter-widgets/controls",
            "_model_module_version": "1.5.0",
            "tooltip": "",
            "_view_count": null,
            "disabled": false,
            "_view_module_version": "1.5.0",
            "layout": "IPY_MODEL_7f81500905dc4aec9740fd07b9023a74",
            "_model_module": "@jupyter-widgets/controls",
            "icon": ""
          }
        },
        "f17703deb7c5492caf894dc5bfa73996": {
          "model_module": "@jupyter-widgets/output",
          "model_name": "OutputModel",
          "model_module_version": "1.0.0",
          "state": {
            "_view_name": "OutputView",
            "msg_id": "",
            "_dom_classes": [],
            "_model_name": "OutputModel",
            "outputs": [],
            "_view_module": "@jupyter-widgets/output",
            "_model_module_version": "1.0.0",
            "_view_count": null,
            "_view_module_version": "1.0.0",
            "layout": "IPY_MODEL_96ae9c6394264a79a70b21714f4a9920",
            "_model_module": "@jupyter-widgets/output"
          }
        },
        "46a2807e4782442186e96cc2ff2c729f": {
          "model_module": "@jupyter-widgets/controls",
          "model_name": "SliderStyleModel",
          "model_module_version": "1.5.0",
          "state": {
            "_view_name": "StyleView",
            "handle_color": null,
            "_model_name": "SliderStyleModel",
            "description_width": "",
            "_view_module": "@jupyter-widgets/base",
            "_model_module_version": "1.5.0",
            "_view_count": null,
            "_view_module_version": "1.2.0",
            "_model_module": "@jupyter-widgets/controls"
          }
        },
        "57b34406a15744af8281350d45d6fc14": {
          "model_module": "@jupyter-widgets/base",
          "model_name": "LayoutModel",
          "model_module_version": "1.2.0",
          "state": {
            "_view_name": "LayoutView",
            "grid_template_rows": null,
            "right": null,
            "justify_content": null,
            "_view_module": "@jupyter-widgets/base",
            "overflow": null,
            "_model_module_version": "1.2.0",
            "_view_count": null,
            "flex_flow": null,
            "width": null,
            "min_width": null,
            "border": null,
            "align_items": null,
            "bottom": null,
            "_model_module": "@jupyter-widgets/base",
            "top": null,
            "grid_column": null,
            "overflow_y": null,
            "overflow_x": null,
            "grid_auto_flow": null,
            "grid_area": null,
            "grid_template_columns": null,
            "flex": null,
            "_model_name": "LayoutModel",
            "justify_items": null,
            "grid_row": null,
            "max_height": null,
            "align_content": null,
            "visibility": null,
            "align_self": null,
            "height": null,
            "min_height": null,
            "padding": null,
            "grid_auto_rows": null,
            "grid_gap": null,
            "max_width": null,
            "order": null,
            "_view_module_version": "1.2.0",
            "grid_template_areas": null,
            "object_position": null,
            "object_fit": null,
            "grid_auto_columns": null,
            "margin": null,
            "display": null,
            "left": null
          }
        },
        "866e48ff68114a469dd16948536eafd3": {
          "model_module": "@jupyter-widgets/controls",
          "model_name": "SliderStyleModel",
          "model_module_version": "1.5.0",
          "state": {
            "_view_name": "StyleView",
            "handle_color": null,
            "_model_name": "SliderStyleModel",
            "description_width": "",
            "_view_module": "@jupyter-widgets/base",
            "_model_module_version": "1.5.0",
            "_view_count": null,
            "_view_module_version": "1.2.0",
            "_model_module": "@jupyter-widgets/controls"
          }
        },
        "5bcb8d9d73f7404183416cb83a9ba020": {
          "model_module": "@jupyter-widgets/base",
          "model_name": "LayoutModel",
          "model_module_version": "1.2.0",
          "state": {
            "_view_name": "LayoutView",
            "grid_template_rows": null,
            "right": null,
            "justify_content": null,
            "_view_module": "@jupyter-widgets/base",
            "overflow": null,
            "_model_module_version": "1.2.0",
            "_view_count": null,
            "flex_flow": null,
            "width": null,
            "min_width": null,
            "border": null,
            "align_items": null,
            "bottom": null,
            "_model_module": "@jupyter-widgets/base",
            "top": null,
            "grid_column": null,
            "overflow_y": null,
            "overflow_x": null,
            "grid_auto_flow": null,
            "grid_area": null,
            "grid_template_columns": null,
            "flex": null,
            "_model_name": "LayoutModel",
            "justify_items": null,
            "grid_row": null,
            "max_height": null,
            "align_content": null,
            "visibility": null,
            "align_self": null,
            "height": null,
            "min_height": null,
            "padding": null,
            "grid_auto_rows": null,
            "grid_gap": null,
            "max_width": null,
            "order": null,
            "_view_module_version": "1.2.0",
            "grid_template_areas": null,
            "object_position": null,
            "object_fit": null,
            "grid_auto_columns": null,
            "margin": null,
            "display": null,
            "left": null
          }
        },
        "11cf8db53baf497fae28bde8c073d376": {
          "model_module": "@jupyter-widgets/controls",
          "model_name": "ButtonStyleModel",
          "model_module_version": "1.5.0",
          "state": {
            "_view_name": "StyleView",
            "_model_name": "ButtonStyleModel",
            "_view_module": "@jupyter-widgets/base",
            "_model_module_version": "1.5.0",
            "_view_count": null,
            "button_color": null,
            "font_weight": "",
            "_view_module_version": "1.2.0",
            "_model_module": "@jupyter-widgets/controls"
          }
        },
        "7f81500905dc4aec9740fd07b9023a74": {
          "model_module": "@jupyter-widgets/base",
          "model_name": "LayoutModel",
          "model_module_version": "1.2.0",
          "state": {
            "_view_name": "LayoutView",
            "grid_template_rows": null,
            "right": null,
            "justify_content": null,
            "_view_module": "@jupyter-widgets/base",
            "overflow": null,
            "_model_module_version": "1.2.0",
            "_view_count": null,
            "flex_flow": null,
            "width": null,
            "min_width": null,
            "border": null,
            "align_items": null,
            "bottom": null,
            "_model_module": "@jupyter-widgets/base",
            "top": null,
            "grid_column": null,
            "overflow_y": null,
            "overflow_x": null,
            "grid_auto_flow": null,
            "grid_area": null,
            "grid_template_columns": null,
            "flex": null,
            "_model_name": "LayoutModel",
            "justify_items": null,
            "grid_row": null,
            "max_height": null,
            "align_content": null,
            "visibility": null,
            "align_self": null,
            "height": null,
            "min_height": null,
            "padding": null,
            "grid_auto_rows": null,
            "grid_gap": null,
            "max_width": null,
            "order": null,
            "_view_module_version": "1.2.0",
            "grid_template_areas": null,
            "object_position": null,
            "object_fit": null,
            "grid_auto_columns": null,
            "margin": null,
            "display": null,
            "left": null
          }
        },
        "96ae9c6394264a79a70b21714f4a9920": {
          "model_module": "@jupyter-widgets/base",
          "model_name": "LayoutModel",
          "model_module_version": "1.2.0",
          "state": {
            "_view_name": "LayoutView",
            "grid_template_rows": null,
            "right": null,
            "justify_content": null,
            "_view_module": "@jupyter-widgets/base",
            "overflow": null,
            "_model_module_version": "1.2.0",
            "_view_count": null,
            "flex_flow": null,
            "width": null,
            "min_width": null,
            "border": null,
            "align_items": null,
            "bottom": null,
            "_model_module": "@jupyter-widgets/base",
            "top": null,
            "grid_column": null,
            "overflow_y": null,
            "overflow_x": null,
            "grid_auto_flow": null,
            "grid_area": null,
            "grid_template_columns": null,
            "flex": null,
            "_model_name": "LayoutModel",
            "justify_items": null,
            "grid_row": null,
            "max_height": null,
            "align_content": null,
            "visibility": null,
            "align_self": null,
            "height": null,
            "min_height": null,
            "padding": null,
            "grid_auto_rows": null,
            "grid_gap": null,
            "max_width": null,
            "order": null,
            "_view_module_version": "1.2.0",
            "grid_template_areas": null,
            "object_position": null,
            "object_fit": null,
            "grid_auto_columns": null,
            "margin": null,
            "display": null,
            "left": null
          }
        },
        "631b43261a94463d89558ab368c94de3": {
          "model_module": "@jupyter-widgets/controls",
          "model_name": "VBoxModel",
          "model_module_version": "1.5.0",
          "state": {
            "_view_name": "VBoxView",
            "_dom_classes": [
              "widget-interact"
            ],
            "_model_name": "VBoxModel",
            "_view_module": "@jupyter-widgets/controls",
            "_model_module_version": "1.5.0",
            "_view_count": null,
            "_view_module_version": "1.5.0",
            "box_style": "",
            "layout": "IPY_MODEL_ce439b3daa2847038f023ab175b290a2",
            "_model_module": "@jupyter-widgets/controls",
            "children": [
              "IPY_MODEL_76b65a608a20492999208ed83bb81bdf",
              "IPY_MODEL_c1402de1d0314e08b890a10483595187",
              "IPY_MODEL_3307fcc76b9d4e87a65bdd2f63dc9ff6",
              "IPY_MODEL_6148b91358f24feba4594619531b4f67"
            ]
          }
        },
        "ce439b3daa2847038f023ab175b290a2": {
          "model_module": "@jupyter-widgets/base",
          "model_name": "LayoutModel",
          "model_module_version": "1.2.0",
          "state": {
            "_view_name": "LayoutView",
            "grid_template_rows": null,
            "right": null,
            "justify_content": null,
            "_view_module": "@jupyter-widgets/base",
            "overflow": null,
            "_model_module_version": "1.2.0",
            "_view_count": null,
            "flex_flow": null,
            "width": null,
            "min_width": null,
            "border": null,
            "align_items": null,
            "bottom": null,
            "_model_module": "@jupyter-widgets/base",
            "top": null,
            "grid_column": null,
            "overflow_y": null,
            "overflow_x": null,
            "grid_auto_flow": null,
            "grid_area": null,
            "grid_template_columns": null,
            "flex": null,
            "_model_name": "LayoutModel",
            "justify_items": null,
            "grid_row": null,
            "max_height": null,
            "align_content": null,
            "visibility": null,
            "align_self": null,
            "height": null,
            "min_height": null,
            "padding": null,
            "grid_auto_rows": null,
            "grid_gap": null,
            "max_width": null,
            "order": null,
            "_view_module_version": "1.2.0",
            "grid_template_areas": null,
            "object_position": null,
            "object_fit": null,
            "grid_auto_columns": null,
            "margin": null,
            "display": null,
            "left": null
          }
        },
        "76b65a608a20492999208ed83bb81bdf": {
          "model_module": "@jupyter-widgets/controls",
          "model_name": "IntSliderModel",
          "model_module_version": "1.5.0",
          "state": {
            "_view_name": "IntSliderView",
            "style": "IPY_MODEL_f5c74b856f27411996f292243cccb88e",
            "_dom_classes": [],
            "description": "giocate",
            "step": 1,
            "_model_name": "IntSliderModel",
            "orientation": "horizontal",
            "max": 6,
            "_view_module": "@jupyter-widgets/controls",
            "_model_module_version": "1.5.0",
            "value": 3,
            "_view_count": null,
            "disabled": false,
            "_view_module_version": "1.5.0",
            "min": 1,
            "continuous_update": true,
            "readout_format": "d",
            "description_tooltip": null,
            "readout": true,
            "_model_module": "@jupyter-widgets/controls",
            "layout": "IPY_MODEL_61b2041ec3e04bfb97b6c4049dd04f53"
          }
        },
        "c1402de1d0314e08b890a10483595187": {
          "model_module": "@jupyter-widgets/controls",
          "model_name": "IntSliderModel",
          "model_module_version": "1.5.0",
          "state": {
            "_view_name": "IntSliderView",
            "style": "IPY_MODEL_b750fd4b26f04172b162b1606bb54b98",
            "_dom_classes": [],
            "description": "puntata",
            "step": 5,
            "_model_name": "IntSliderModel",
            "orientation": "horizontal",
            "max": 100,
            "_view_module": "@jupyter-widgets/controls",
            "_model_module_version": "1.5.0",
            "value": 5,
            "_view_count": null,
            "disabled": false,
            "_view_module_version": "1.5.0",
            "min": 5,
            "continuous_update": true,
            "readout_format": "d",
            "description_tooltip": null,
            "readout": true,
            "_model_module": "@jupyter-widgets/controls",
            "layout": "IPY_MODEL_c2132949e9b2432bad7545330d9e6133"
          }
        },
        "3307fcc76b9d4e87a65bdd2f63dc9ff6": {
          "model_module": "@jupyter-widgets/controls",
          "model_name": "ButtonModel",
          "model_module_version": "1.5.0",
          "state": {
            "_view_name": "ButtonView",
            "style": "IPY_MODEL_d6a319d6bc03464a959eff61cfecf334",
            "_dom_classes": [],
            "description": "Run Interact",
            "_model_name": "ButtonModel",
            "button_style": "",
            "_view_module": "@jupyter-widgets/controls",
            "_model_module_version": "1.5.0",
            "tooltip": "",
            "_view_count": null,
            "disabled": false,
            "_view_module_version": "1.5.0",
            "layout": "IPY_MODEL_f8d3604e960c4658bba1f240a892ccf2",
            "_model_module": "@jupyter-widgets/controls",
            "icon": ""
          }
        },
        "6148b91358f24feba4594619531b4f67": {
          "model_module": "@jupyter-widgets/output",
          "model_name": "OutputModel",
          "model_module_version": "1.0.0",
          "state": {
            "_view_name": "OutputView",
            "msg_id": "",
            "_dom_classes": [],
            "_model_name": "OutputModel",
            "outputs": [],
            "_view_module": "@jupyter-widgets/output",
            "_model_module_version": "1.0.0",
            "_view_count": null,
            "_view_module_version": "1.0.0",
            "layout": "IPY_MODEL_8f7ad2b42d694ffeaa6356e99553e431",
            "_model_module": "@jupyter-widgets/output"
          }
        },
        "f5c74b856f27411996f292243cccb88e": {
          "model_module": "@jupyter-widgets/controls",
          "model_name": "SliderStyleModel",
          "model_module_version": "1.5.0",
          "state": {
            "_view_name": "StyleView",
            "handle_color": null,
            "_model_name": "SliderStyleModel",
            "description_width": "",
            "_view_module": "@jupyter-widgets/base",
            "_model_module_version": "1.5.0",
            "_view_count": null,
            "_view_module_version": "1.2.0",
            "_model_module": "@jupyter-widgets/controls"
          }
        },
        "61b2041ec3e04bfb97b6c4049dd04f53": {
          "model_module": "@jupyter-widgets/base",
          "model_name": "LayoutModel",
          "model_module_version": "1.2.0",
          "state": {
            "_view_name": "LayoutView",
            "grid_template_rows": null,
            "right": null,
            "justify_content": null,
            "_view_module": "@jupyter-widgets/base",
            "overflow": null,
            "_model_module_version": "1.2.0",
            "_view_count": null,
            "flex_flow": null,
            "width": null,
            "min_width": null,
            "border": null,
            "align_items": null,
            "bottom": null,
            "_model_module": "@jupyter-widgets/base",
            "top": null,
            "grid_column": null,
            "overflow_y": null,
            "overflow_x": null,
            "grid_auto_flow": null,
            "grid_area": null,
            "grid_template_columns": null,
            "flex": null,
            "_model_name": "LayoutModel",
            "justify_items": null,
            "grid_row": null,
            "max_height": null,
            "align_content": null,
            "visibility": null,
            "align_self": null,
            "height": null,
            "min_height": null,
            "padding": null,
            "grid_auto_rows": null,
            "grid_gap": null,
            "max_width": null,
            "order": null,
            "_view_module_version": "1.2.0",
            "grid_template_areas": null,
            "object_position": null,
            "object_fit": null,
            "grid_auto_columns": null,
            "margin": null,
            "display": null,
            "left": null
          }
        },
        "b750fd4b26f04172b162b1606bb54b98": {
          "model_module": "@jupyter-widgets/controls",
          "model_name": "SliderStyleModel",
          "model_module_version": "1.5.0",
          "state": {
            "_view_name": "StyleView",
            "handle_color": null,
            "_model_name": "SliderStyleModel",
            "description_width": "",
            "_view_module": "@jupyter-widgets/base",
            "_model_module_version": "1.5.0",
            "_view_count": null,
            "_view_module_version": "1.2.0",
            "_model_module": "@jupyter-widgets/controls"
          }
        },
        "c2132949e9b2432bad7545330d9e6133": {
          "model_module": "@jupyter-widgets/base",
          "model_name": "LayoutModel",
          "model_module_version": "1.2.0",
          "state": {
            "_view_name": "LayoutView",
            "grid_template_rows": null,
            "right": null,
            "justify_content": null,
            "_view_module": "@jupyter-widgets/base",
            "overflow": null,
            "_model_module_version": "1.2.0",
            "_view_count": null,
            "flex_flow": null,
            "width": null,
            "min_width": null,
            "border": null,
            "align_items": null,
            "bottom": null,
            "_model_module": "@jupyter-widgets/base",
            "top": null,
            "grid_column": null,
            "overflow_y": null,
            "overflow_x": null,
            "grid_auto_flow": null,
            "grid_area": null,
            "grid_template_columns": null,
            "flex": null,
            "_model_name": "LayoutModel",
            "justify_items": null,
            "grid_row": null,
            "max_height": null,
            "align_content": null,
            "visibility": null,
            "align_self": null,
            "height": null,
            "min_height": null,
            "padding": null,
            "grid_auto_rows": null,
            "grid_gap": null,
            "max_width": null,
            "order": null,
            "_view_module_version": "1.2.0",
            "grid_template_areas": null,
            "object_position": null,
            "object_fit": null,
            "grid_auto_columns": null,
            "margin": null,
            "display": null,
            "left": null
          }
        },
        "d6a319d6bc03464a959eff61cfecf334": {
          "model_module": "@jupyter-widgets/controls",
          "model_name": "ButtonStyleModel",
          "model_module_version": "1.5.0",
          "state": {
            "_view_name": "StyleView",
            "_model_name": "ButtonStyleModel",
            "_view_module": "@jupyter-widgets/base",
            "_model_module_version": "1.5.0",
            "_view_count": null,
            "button_color": null,
            "font_weight": "",
            "_view_module_version": "1.2.0",
            "_model_module": "@jupyter-widgets/controls"
          }
        },
        "f8d3604e960c4658bba1f240a892ccf2": {
          "model_module": "@jupyter-widgets/base",
          "model_name": "LayoutModel",
          "model_module_version": "1.2.0",
          "state": {
            "_view_name": "LayoutView",
            "grid_template_rows": null,
            "right": null,
            "justify_content": null,
            "_view_module": "@jupyter-widgets/base",
            "overflow": null,
            "_model_module_version": "1.2.0",
            "_view_count": null,
            "flex_flow": null,
            "width": null,
            "min_width": null,
            "border": null,
            "align_items": null,
            "bottom": null,
            "_model_module": "@jupyter-widgets/base",
            "top": null,
            "grid_column": null,
            "overflow_y": null,
            "overflow_x": null,
            "grid_auto_flow": null,
            "grid_area": null,
            "grid_template_columns": null,
            "flex": null,
            "_model_name": "LayoutModel",
            "justify_items": null,
            "grid_row": null,
            "max_height": null,
            "align_content": null,
            "visibility": null,
            "align_self": null,
            "height": null,
            "min_height": null,
            "padding": null,
            "grid_auto_rows": null,
            "grid_gap": null,
            "max_width": null,
            "order": null,
            "_view_module_version": "1.2.0",
            "grid_template_areas": null,
            "object_position": null,
            "object_fit": null,
            "grid_auto_columns": null,
            "margin": null,
            "display": null,
            "left": null
          }
        },
        "8f7ad2b42d694ffeaa6356e99553e431": {
          "model_module": "@jupyter-widgets/base",
          "model_name": "LayoutModel",
          "model_module_version": "1.2.0",
          "state": {
            "_view_name": "LayoutView",
            "grid_template_rows": null,
            "right": null,
            "justify_content": null,
            "_view_module": "@jupyter-widgets/base",
            "overflow": null,
            "_model_module_version": "1.2.0",
            "_view_count": null,
            "flex_flow": null,
            "width": null,
            "min_width": null,
            "border": null,
            "align_items": null,
            "bottom": null,
            "_model_module": "@jupyter-widgets/base",
            "top": null,
            "grid_column": null,
            "overflow_y": null,
            "overflow_x": null,
            "grid_auto_flow": null,
            "grid_area": null,
            "grid_template_columns": null,
            "flex": null,
            "_model_name": "LayoutModel",
            "justify_items": null,
            "grid_row": null,
            "max_height": null,
            "align_content": null,
            "visibility": null,
            "align_self": null,
            "height": null,
            "min_height": null,
            "padding": null,
            "grid_auto_rows": null,
            "grid_gap": null,
            "max_width": null,
            "order": null,
            "_view_module_version": "1.2.0",
            "grid_template_areas": null,
            "object_position": null,
            "object_fit": null,
            "grid_auto_columns": null,
            "margin": null,
            "display": null,
            "left": null
          }
        },
        "81a27c3194604ecd8ea6d5473e62cdd3": {
          "model_module": "@jupyter-widgets/controls",
          "model_name": "VBoxModel",
          "model_module_version": "1.5.0",
          "state": {
            "_view_name": "VBoxView",
            "_dom_classes": [
              "widget-interact"
            ],
            "_model_name": "VBoxModel",
            "_view_module": "@jupyter-widgets/controls",
            "_model_module_version": "1.5.0",
            "_view_count": null,
            "_view_module_version": "1.5.0",
            "box_style": "",
            "layout": "IPY_MODEL_acf24df08a66470fad84e130bf791236",
            "_model_module": "@jupyter-widgets/controls",
            "children": [
              "IPY_MODEL_e5489c2c866044f48691c2e63c1d448a",
              "IPY_MODEL_b3b3ba44cd3243559911904e3f0aeee8",
              "IPY_MODEL_1cb3043361b143f6976786100a584f12"
            ]
          }
        },
        "acf24df08a66470fad84e130bf791236": {
          "model_module": "@jupyter-widgets/base",
          "model_name": "LayoutModel",
          "model_module_version": "1.2.0",
          "state": {
            "_view_name": "LayoutView",
            "grid_template_rows": null,
            "right": null,
            "justify_content": null,
            "_view_module": "@jupyter-widgets/base",
            "overflow": null,
            "_model_module_version": "1.2.0",
            "_view_count": null,
            "flex_flow": null,
            "width": null,
            "min_width": null,
            "border": null,
            "align_items": null,
            "bottom": null,
            "_model_module": "@jupyter-widgets/base",
            "top": null,
            "grid_column": null,
            "overflow_y": null,
            "overflow_x": null,
            "grid_auto_flow": null,
            "grid_area": null,
            "grid_template_columns": null,
            "flex": null,
            "_model_name": "LayoutModel",
            "justify_items": null,
            "grid_row": null,
            "max_height": null,
            "align_content": null,
            "visibility": null,
            "align_self": null,
            "height": null,
            "min_height": null,
            "padding": null,
            "grid_auto_rows": null,
            "grid_gap": null,
            "max_width": null,
            "order": null,
            "_view_module_version": "1.2.0",
            "grid_template_areas": null,
            "object_position": null,
            "object_fit": null,
            "grid_auto_columns": null,
            "margin": null,
            "display": null,
            "left": null
          }
        },
        "e5489c2c866044f48691c2e63c1d448a": {
          "model_module": "@jupyter-widgets/controls",
          "model_name": "IntSliderModel",
          "model_module_version": "1.5.0",
          "state": {
            "_view_name": "IntSliderView",
            "style": "IPY_MODEL_fb7bf43091684a4e9f822fcbad1f9bcd",
            "_dom_classes": [],
            "description": "estrazioni",
            "step": 1,
            "_model_name": "IntSliderModel",
            "orientation": "horizontal",
            "max": 10,
            "_view_module": "@jupyter-widgets/controls",
            "_model_module_version": "1.5.0",
            "value": 3,
            "_view_count": null,
            "disabled": false,
            "_view_module_version": "1.5.0",
            "min": 1,
            "continuous_update": true,
            "readout_format": "d",
            "description_tooltip": null,
            "readout": true,
            "_model_module": "@jupyter-widgets/controls",
            "layout": "IPY_MODEL_73474db6cb9349a8bd8b2ec199ff5beb"
          }
        },
        "b3b3ba44cd3243559911904e3f0aeee8": {
          "model_module": "@jupyter-widgets/controls",
          "model_name": "ButtonModel",
          "model_module_version": "1.5.0",
          "state": {
            "_view_name": "ButtonView",
            "style": "IPY_MODEL_39698fb6543b44828dca67a6cf831f70",
            "_dom_classes": [],
            "description": "Run Interact",
            "_model_name": "ButtonModel",
            "button_style": "",
            "_view_module": "@jupyter-widgets/controls",
            "_model_module_version": "1.5.0",
            "tooltip": "",
            "_view_count": null,
            "disabled": false,
            "_view_module_version": "1.5.0",
            "layout": "IPY_MODEL_64c0bf648696416e9a6344463fac912c",
            "_model_module": "@jupyter-widgets/controls",
            "icon": ""
          }
        },
        "1cb3043361b143f6976786100a584f12": {
          "model_module": "@jupyter-widgets/output",
          "model_name": "OutputModel",
          "model_module_version": "1.0.0",
          "state": {
            "_view_name": "OutputView",
            "msg_id": "",
            "_dom_classes": [],
            "_model_name": "OutputModel",
            "outputs": [],
            "_view_module": "@jupyter-widgets/output",
            "_model_module_version": "1.0.0",
            "_view_count": null,
            "_view_module_version": "1.0.0",
            "layout": "IPY_MODEL_88f333ce2fab46e28433120d629ec1a0",
            "_model_module": "@jupyter-widgets/output"
          }
        },
        "fb7bf43091684a4e9f822fcbad1f9bcd": {
          "model_module": "@jupyter-widgets/controls",
          "model_name": "SliderStyleModel",
          "model_module_version": "1.5.0",
          "state": {
            "_view_name": "StyleView",
            "handle_color": null,
            "_model_name": "SliderStyleModel",
            "description_width": "",
            "_view_module": "@jupyter-widgets/base",
            "_model_module_version": "1.5.0",
            "_view_count": null,
            "_view_module_version": "1.2.0",
            "_model_module": "@jupyter-widgets/controls"
          }
        },
        "73474db6cb9349a8bd8b2ec199ff5beb": {
          "model_module": "@jupyter-widgets/base",
          "model_name": "LayoutModel",
          "model_module_version": "1.2.0",
          "state": {
            "_view_name": "LayoutView",
            "grid_template_rows": null,
            "right": null,
            "justify_content": null,
            "_view_module": "@jupyter-widgets/base",
            "overflow": null,
            "_model_module_version": "1.2.0",
            "_view_count": null,
            "flex_flow": null,
            "width": null,
            "min_width": null,
            "border": null,
            "align_items": null,
            "bottom": null,
            "_model_module": "@jupyter-widgets/base",
            "top": null,
            "grid_column": null,
            "overflow_y": null,
            "overflow_x": null,
            "grid_auto_flow": null,
            "grid_area": null,
            "grid_template_columns": null,
            "flex": null,
            "_model_name": "LayoutModel",
            "justify_items": null,
            "grid_row": null,
            "max_height": null,
            "align_content": null,
            "visibility": null,
            "align_self": null,
            "height": null,
            "min_height": null,
            "padding": null,
            "grid_auto_rows": null,
            "grid_gap": null,
            "max_width": null,
            "order": null,
            "_view_module_version": "1.2.0",
            "grid_template_areas": null,
            "object_position": null,
            "object_fit": null,
            "grid_auto_columns": null,
            "margin": null,
            "display": null,
            "left": null
          }
        },
        "39698fb6543b44828dca67a6cf831f70": {
          "model_module": "@jupyter-widgets/controls",
          "model_name": "ButtonStyleModel",
          "model_module_version": "1.5.0",
          "state": {
            "_view_name": "StyleView",
            "_model_name": "ButtonStyleModel",
            "_view_module": "@jupyter-widgets/base",
            "_model_module_version": "1.5.0",
            "_view_count": null,
            "button_color": null,
            "font_weight": "",
            "_view_module_version": "1.2.0",
            "_model_module": "@jupyter-widgets/controls"
          }
        },
        "64c0bf648696416e9a6344463fac912c": {
          "model_module": "@jupyter-widgets/base",
          "model_name": "LayoutModel",
          "model_module_version": "1.2.0",
          "state": {
            "_view_name": "LayoutView",
            "grid_template_rows": null,
            "right": null,
            "justify_content": null,
            "_view_module": "@jupyter-widgets/base",
            "overflow": null,
            "_model_module_version": "1.2.0",
            "_view_count": null,
            "flex_flow": null,
            "width": null,
            "min_width": null,
            "border": null,
            "align_items": null,
            "bottom": null,
            "_model_module": "@jupyter-widgets/base",
            "top": null,
            "grid_column": null,
            "overflow_y": null,
            "overflow_x": null,
            "grid_auto_flow": null,
            "grid_area": null,
            "grid_template_columns": null,
            "flex": null,
            "_model_name": "LayoutModel",
            "justify_items": null,
            "grid_row": null,
            "max_height": null,
            "align_content": null,
            "visibility": null,
            "align_self": null,
            "height": null,
            "min_height": null,
            "padding": null,
            "grid_auto_rows": null,
            "grid_gap": null,
            "max_width": null,
            "order": null,
            "_view_module_version": "1.2.0",
            "grid_template_areas": null,
            "object_position": null,
            "object_fit": null,
            "grid_auto_columns": null,
            "margin": null,
            "display": null,
            "left": null
          }
        },
        "88f333ce2fab46e28433120d629ec1a0": {
          "model_module": "@jupyter-widgets/base",
          "model_name": "LayoutModel",
          "model_module_version": "1.2.0",
          "state": {
            "_view_name": "LayoutView",
            "grid_template_rows": null,
            "right": null,
            "justify_content": null,
            "_view_module": "@jupyter-widgets/base",
            "overflow": null,
            "_model_module_version": "1.2.0",
            "_view_count": null,
            "flex_flow": null,
            "width": null,
            "min_width": null,
            "border": null,
            "align_items": null,
            "bottom": null,
            "_model_module": "@jupyter-widgets/base",
            "top": null,
            "grid_column": null,
            "overflow_y": null,
            "overflow_x": null,
            "grid_auto_flow": null,
            "grid_area": null,
            "grid_template_columns": null,
            "flex": null,
            "_model_name": "LayoutModel",
            "justify_items": null,
            "grid_row": null,
            "max_height": null,
            "align_content": null,
            "visibility": null,
            "align_self": null,
            "height": null,
            "min_height": null,
            "padding": null,
            "grid_auto_rows": null,
            "grid_gap": null,
            "max_width": null,
            "order": null,
            "_view_module_version": "1.2.0",
            "grid_template_areas": null,
            "object_position": null,
            "object_fit": null,
            "grid_auto_columns": null,
            "margin": null,
            "display": null,
            "left": null
          }
        },
        "bc85f1ed70944525a07a1d351d71e142": {
          "model_module": "@jupyter-widgets/controls",
          "model_name": "VBoxModel",
          "model_module_version": "1.5.0",
          "state": {
            "_view_name": "VBoxView",
            "_dom_classes": [
              "widget-interact"
            ],
            "_model_name": "VBoxModel",
            "_view_module": "@jupyter-widgets/controls",
            "_model_module_version": "1.5.0",
            "_view_count": null,
            "_view_module_version": "1.5.0",
            "box_style": "",
            "layout": "IPY_MODEL_38efd26e7eb34eaa856795e2b686c7eb",
            "_model_module": "@jupyter-widgets/controls",
            "children": [
              "IPY_MODEL_225a5f838fc948deb727c1b73c46410b",
              "IPY_MODEL_76a4798a65954420a7b45d0cf12a57f3",
              "IPY_MODEL_a6b38a82f81944ed9ba85af078d5ee26",
              "IPY_MODEL_e8ccbfcfa3894f4982943c6ce99d4dc2"
            ]
          }
        },
        "38efd26e7eb34eaa856795e2b686c7eb": {
          "model_module": "@jupyter-widgets/base",
          "model_name": "LayoutModel",
          "model_module_version": "1.2.0",
          "state": {
            "_view_name": "LayoutView",
            "grid_template_rows": null,
            "right": null,
            "justify_content": null,
            "_view_module": "@jupyter-widgets/base",
            "overflow": null,
            "_model_module_version": "1.2.0",
            "_view_count": null,
            "flex_flow": null,
            "width": null,
            "min_width": null,
            "border": null,
            "align_items": null,
            "bottom": null,
            "_model_module": "@jupyter-widgets/base",
            "top": null,
            "grid_column": null,
            "overflow_y": null,
            "overflow_x": null,
            "grid_auto_flow": null,
            "grid_area": null,
            "grid_template_columns": null,
            "flex": null,
            "_model_name": "LayoutModel",
            "justify_items": null,
            "grid_row": null,
            "max_height": null,
            "align_content": null,
            "visibility": null,
            "align_self": null,
            "height": null,
            "min_height": null,
            "padding": null,
            "grid_auto_rows": null,
            "grid_gap": null,
            "max_width": null,
            "order": null,
            "_view_module_version": "1.2.0",
            "grid_template_areas": null,
            "object_position": null,
            "object_fit": null,
            "grid_auto_columns": null,
            "margin": null,
            "display": null,
            "left": null
          }
        },
        "225a5f838fc948deb727c1b73c46410b": {
          "model_module": "@jupyter-widgets/controls",
          "model_name": "IntSliderModel",
          "model_module_version": "1.5.0",
          "state": {
            "_view_name": "IntSliderView",
            "style": "IPY_MODEL_41921098c2fe4dd196cf05d7fd270f05",
            "_dom_classes": [],
            "description": "bianche",
            "step": 1,
            "_model_name": "IntSliderModel",
            "orientation": "horizontal",
            "max": 5,
            "_view_module": "@jupyter-widgets/controls",
            "_model_module_version": "1.5.0",
            "value": 2,
            "_view_count": null,
            "disabled": false,
            "_view_module_version": "1.5.0",
            "min": 1,
            "continuous_update": true,
            "readout_format": "d",
            "description_tooltip": null,
            "readout": true,
            "_model_module": "@jupyter-widgets/controls",
            "layout": "IPY_MODEL_dc7b920ca8ff4ca18d2ad3204d9b4f1a"
          }
        },
        "76a4798a65954420a7b45d0cf12a57f3": {
          "model_module": "@jupyter-widgets/controls",
          "model_name": "IntSliderModel",
          "model_module_version": "1.5.0",
          "state": {
            "_view_name": "IntSliderView",
            "style": "IPY_MODEL_dab445aac99a4fbbb34693a6fe1dadef",
            "_dom_classes": [],
            "description": "rosse",
            "step": 1,
            "_model_name": "IntSliderModel",
            "orientation": "horizontal",
            "max": 5,
            "_view_module": "@jupyter-widgets/controls",
            "_model_module_version": "1.5.0",
            "value": 3,
            "_view_count": null,
            "disabled": false,
            "_view_module_version": "1.5.0",
            "min": 1,
            "continuous_update": true,
            "readout_format": "d",
            "description_tooltip": null,
            "readout": true,
            "_model_module": "@jupyter-widgets/controls",
            "layout": "IPY_MODEL_779dad85f2f44fdf8da3efa13739f4e7"
          }
        },
        "a6b38a82f81944ed9ba85af078d5ee26": {
          "model_module": "@jupyter-widgets/controls",
          "model_name": "ButtonModel",
          "model_module_version": "1.5.0",
          "state": {
            "_view_name": "ButtonView",
            "style": "IPY_MODEL_58f10d0fb6fc441095c85dce7e849b92",
            "_dom_classes": [],
            "description": "Run Interact",
            "_model_name": "ButtonModel",
            "button_style": "",
            "_view_module": "@jupyter-widgets/controls",
            "_model_module_version": "1.5.0",
            "tooltip": "",
            "_view_count": null,
            "disabled": false,
            "_view_module_version": "1.5.0",
            "layout": "IPY_MODEL_e7b74e4488ec42b2a58ed82e42bf0e8f",
            "_model_module": "@jupyter-widgets/controls",
            "icon": ""
          }
        },
        "e8ccbfcfa3894f4982943c6ce99d4dc2": {
          "model_module": "@jupyter-widgets/output",
          "model_name": "OutputModel",
          "model_module_version": "1.0.0",
          "state": {
            "_view_name": "OutputView",
            "msg_id": "",
            "_dom_classes": [],
            "_model_name": "OutputModel",
            "outputs": [],
            "_view_module": "@jupyter-widgets/output",
            "_model_module_version": "1.0.0",
            "_view_count": null,
            "_view_module_version": "1.0.0",
            "layout": "IPY_MODEL_a0318e8167d844f28c11b093fa8f4725",
            "_model_module": "@jupyter-widgets/output"
          }
        },
        "41921098c2fe4dd196cf05d7fd270f05": {
          "model_module": "@jupyter-widgets/controls",
          "model_name": "SliderStyleModel",
          "model_module_version": "1.5.0",
          "state": {
            "_view_name": "StyleView",
            "handle_color": null,
            "_model_name": "SliderStyleModel",
            "description_width": "",
            "_view_module": "@jupyter-widgets/base",
            "_model_module_version": "1.5.0",
            "_view_count": null,
            "_view_module_version": "1.2.0",
            "_model_module": "@jupyter-widgets/controls"
          }
        },
        "dc7b920ca8ff4ca18d2ad3204d9b4f1a": {
          "model_module": "@jupyter-widgets/base",
          "model_name": "LayoutModel",
          "model_module_version": "1.2.0",
          "state": {
            "_view_name": "LayoutView",
            "grid_template_rows": null,
            "right": null,
            "justify_content": null,
            "_view_module": "@jupyter-widgets/base",
            "overflow": null,
            "_model_module_version": "1.2.0",
            "_view_count": null,
            "flex_flow": null,
            "width": null,
            "min_width": null,
            "border": null,
            "align_items": null,
            "bottom": null,
            "_model_module": "@jupyter-widgets/base",
            "top": null,
            "grid_column": null,
            "overflow_y": null,
            "overflow_x": null,
            "grid_auto_flow": null,
            "grid_area": null,
            "grid_template_columns": null,
            "flex": null,
            "_model_name": "LayoutModel",
            "justify_items": null,
            "grid_row": null,
            "max_height": null,
            "align_content": null,
            "visibility": null,
            "align_self": null,
            "height": null,
            "min_height": null,
            "padding": null,
            "grid_auto_rows": null,
            "grid_gap": null,
            "max_width": null,
            "order": null,
            "_view_module_version": "1.2.0",
            "grid_template_areas": null,
            "object_position": null,
            "object_fit": null,
            "grid_auto_columns": null,
            "margin": null,
            "display": null,
            "left": null
          }
        },
        "dab445aac99a4fbbb34693a6fe1dadef": {
          "model_module": "@jupyter-widgets/controls",
          "model_name": "SliderStyleModel",
          "model_module_version": "1.5.0",
          "state": {
            "_view_name": "StyleView",
            "handle_color": null,
            "_model_name": "SliderStyleModel",
            "description_width": "",
            "_view_module": "@jupyter-widgets/base",
            "_model_module_version": "1.5.0",
            "_view_count": null,
            "_view_module_version": "1.2.0",
            "_model_module": "@jupyter-widgets/controls"
          }
        },
        "779dad85f2f44fdf8da3efa13739f4e7": {
          "model_module": "@jupyter-widgets/base",
          "model_name": "LayoutModel",
          "model_module_version": "1.2.0",
          "state": {
            "_view_name": "LayoutView",
            "grid_template_rows": null,
            "right": null,
            "justify_content": null,
            "_view_module": "@jupyter-widgets/base",
            "overflow": null,
            "_model_module_version": "1.2.0",
            "_view_count": null,
            "flex_flow": null,
            "width": null,
            "min_width": null,
            "border": null,
            "align_items": null,
            "bottom": null,
            "_model_module": "@jupyter-widgets/base",
            "top": null,
            "grid_column": null,
            "overflow_y": null,
            "overflow_x": null,
            "grid_auto_flow": null,
            "grid_area": null,
            "grid_template_columns": null,
            "flex": null,
            "_model_name": "LayoutModel",
            "justify_items": null,
            "grid_row": null,
            "max_height": null,
            "align_content": null,
            "visibility": null,
            "align_self": null,
            "height": null,
            "min_height": null,
            "padding": null,
            "grid_auto_rows": null,
            "grid_gap": null,
            "max_width": null,
            "order": null,
            "_view_module_version": "1.2.0",
            "grid_template_areas": null,
            "object_position": null,
            "object_fit": null,
            "grid_auto_columns": null,
            "margin": null,
            "display": null,
            "left": null
          }
        },
        "58f10d0fb6fc441095c85dce7e849b92": {
          "model_module": "@jupyter-widgets/controls",
          "model_name": "ButtonStyleModel",
          "model_module_version": "1.5.0",
          "state": {
            "_view_name": "StyleView",
            "_model_name": "ButtonStyleModel",
            "_view_module": "@jupyter-widgets/base",
            "_model_module_version": "1.5.0",
            "_view_count": null,
            "button_color": null,
            "font_weight": "",
            "_view_module_version": "1.2.0",
            "_model_module": "@jupyter-widgets/controls"
          }
        },
        "e7b74e4488ec42b2a58ed82e42bf0e8f": {
          "model_module": "@jupyter-widgets/base",
          "model_name": "LayoutModel",
          "model_module_version": "1.2.0",
          "state": {
            "_view_name": "LayoutView",
            "grid_template_rows": null,
            "right": null,
            "justify_content": null,
            "_view_module": "@jupyter-widgets/base",
            "overflow": null,
            "_model_module_version": "1.2.0",
            "_view_count": null,
            "flex_flow": null,
            "width": null,
            "min_width": null,
            "border": null,
            "align_items": null,
            "bottom": null,
            "_model_module": "@jupyter-widgets/base",
            "top": null,
            "grid_column": null,
            "overflow_y": null,
            "overflow_x": null,
            "grid_auto_flow": null,
            "grid_area": null,
            "grid_template_columns": null,
            "flex": null,
            "_model_name": "LayoutModel",
            "justify_items": null,
            "grid_row": null,
            "max_height": null,
            "align_content": null,
            "visibility": null,
            "align_self": null,
            "height": null,
            "min_height": null,
            "padding": null,
            "grid_auto_rows": null,
            "grid_gap": null,
            "max_width": null,
            "order": null,
            "_view_module_version": "1.2.0",
            "grid_template_areas": null,
            "object_position": null,
            "object_fit": null,
            "grid_auto_columns": null,
            "margin": null,
            "display": null,
            "left": null
          }
        },
        "a0318e8167d844f28c11b093fa8f4725": {
          "model_module": "@jupyter-widgets/base",
          "model_name": "LayoutModel",
          "model_module_version": "1.2.0",
          "state": {
            "_view_name": "LayoutView",
            "grid_template_rows": null,
            "right": null,
            "justify_content": null,
            "_view_module": "@jupyter-widgets/base",
            "overflow": null,
            "_model_module_version": "1.2.0",
            "_view_count": null,
            "flex_flow": null,
            "width": null,
            "min_width": null,
            "border": null,
            "align_items": null,
            "bottom": null,
            "_model_module": "@jupyter-widgets/base",
            "top": null,
            "grid_column": null,
            "overflow_y": null,
            "overflow_x": null,
            "grid_auto_flow": null,
            "grid_area": null,
            "grid_template_columns": null,
            "flex": null,
            "_model_name": "LayoutModel",
            "justify_items": null,
            "grid_row": null,
            "max_height": null,
            "align_content": null,
            "visibility": null,
            "align_self": null,
            "height": null,
            "min_height": null,
            "padding": null,
            "grid_auto_rows": null,
            "grid_gap": null,
            "max_width": null,
            "order": null,
            "_view_module_version": "1.2.0",
            "grid_template_areas": null,
            "object_position": null,
            "object_fit": null,
            "grid_auto_columns": null,
            "margin": null,
            "display": null,
            "left": null
          }
        },
        "9f194c75ac21431881610b9536699174": {
          "model_module": "@jupyter-widgets/controls",
          "model_name": "VBoxModel",
          "model_module_version": "1.5.0",
          "state": {
            "_view_name": "VBoxView",
            "_dom_classes": [
              "widget-interact"
            ],
            "_model_name": "VBoxModel",
            "_view_module": "@jupyter-widgets/controls",
            "_model_module_version": "1.5.0",
            "_view_count": null,
            "_view_module_version": "1.5.0",
            "box_style": "",
            "layout": "IPY_MODEL_4a19d77fd0da4868b7306b1a8f6f8b0f",
            "_model_module": "@jupyter-widgets/controls",
            "children": [
              "IPY_MODEL_3639e1bb0a8b4c3a823a34dee996c212",
              "IPY_MODEL_67be52e89a9e4382bc3dfc0670fd5064",
              "IPY_MODEL_a58f4b4410fd4543b2ee831034b99f66",
              "IPY_MODEL_ee315db5cc8a4fbbadc6b23bc275fc38"
            ]
          }
        },
        "4a19d77fd0da4868b7306b1a8f6f8b0f": {
          "model_module": "@jupyter-widgets/base",
          "model_name": "LayoutModel",
          "model_module_version": "1.2.0",
          "state": {
            "_view_name": "LayoutView",
            "grid_template_rows": null,
            "right": null,
            "justify_content": null,
            "_view_module": "@jupyter-widgets/base",
            "overflow": null,
            "_model_module_version": "1.2.0",
            "_view_count": null,
            "flex_flow": null,
            "width": null,
            "min_width": null,
            "border": null,
            "align_items": null,
            "bottom": null,
            "_model_module": "@jupyter-widgets/base",
            "top": null,
            "grid_column": null,
            "overflow_y": null,
            "overflow_x": null,
            "grid_auto_flow": null,
            "grid_area": null,
            "grid_template_columns": null,
            "flex": null,
            "_model_name": "LayoutModel",
            "justify_items": null,
            "grid_row": null,
            "max_height": null,
            "align_content": null,
            "visibility": null,
            "align_self": null,
            "height": null,
            "min_height": null,
            "padding": null,
            "grid_auto_rows": null,
            "grid_gap": null,
            "max_width": null,
            "order": null,
            "_view_module_version": "1.2.0",
            "grid_template_areas": null,
            "object_position": null,
            "object_fit": null,
            "grid_auto_columns": null,
            "margin": null,
            "display": null,
            "left": null
          }
        },
        "3639e1bb0a8b4c3a823a34dee996c212": {
          "model_module": "@jupyter-widgets/controls",
          "model_name": "IntSliderModel",
          "model_module_version": "1.5.0",
          "state": {
            "_view_name": "IntSliderView",
            "style": "IPY_MODEL_7533932590604b6a98628b2db3c45e8b",
            "_dom_classes": [],
            "description": "bianche",
            "step": 1,
            "_model_name": "IntSliderModel",
            "orientation": "horizontal",
            "max": 5,
            "_view_module": "@jupyter-widgets/controls",
            "_model_module_version": "1.5.0",
            "value": 2,
            "_view_count": null,
            "disabled": false,
            "_view_module_version": "1.5.0",
            "min": 1,
            "continuous_update": true,
            "readout_format": "d",
            "description_tooltip": null,
            "readout": true,
            "_model_module": "@jupyter-widgets/controls",
            "layout": "IPY_MODEL_f765cea56b1d4b2bbabc65c6f048e682"
          }
        },
        "67be52e89a9e4382bc3dfc0670fd5064": {
          "model_module": "@jupyter-widgets/controls",
          "model_name": "IntSliderModel",
          "model_module_version": "1.5.0",
          "state": {
            "_view_name": "IntSliderView",
            "style": "IPY_MODEL_52840325a5d448d784421ededbfcffb7",
            "_dom_classes": [],
            "description": "rosse",
            "step": 1,
            "_model_name": "IntSliderModel",
            "orientation": "horizontal",
            "max": 5,
            "_view_module": "@jupyter-widgets/controls",
            "_model_module_version": "1.5.0",
            "value": 3,
            "_view_count": null,
            "disabled": false,
            "_view_module_version": "1.5.0",
            "min": 1,
            "continuous_update": true,
            "readout_format": "d",
            "description_tooltip": null,
            "readout": true,
            "_model_module": "@jupyter-widgets/controls",
            "layout": "IPY_MODEL_a8bd170b425044cbb538ab9c5fc4106b"
          }
        },
        "a58f4b4410fd4543b2ee831034b99f66": {
          "model_module": "@jupyter-widgets/controls",
          "model_name": "ButtonModel",
          "model_module_version": "1.5.0",
          "state": {
            "_view_name": "ButtonView",
            "style": "IPY_MODEL_d24f858aa53f4013b184fbedbf65553e",
            "_dom_classes": [],
            "description": "Run Interact",
            "_model_name": "ButtonModel",
            "button_style": "",
            "_view_module": "@jupyter-widgets/controls",
            "_model_module_version": "1.5.0",
            "tooltip": "",
            "_view_count": null,
            "disabled": false,
            "_view_module_version": "1.5.0",
            "layout": "IPY_MODEL_f2fa5a0ad1454408bde05a6a01e35ffe",
            "_model_module": "@jupyter-widgets/controls",
            "icon": ""
          }
        },
        "ee315db5cc8a4fbbadc6b23bc275fc38": {
          "model_module": "@jupyter-widgets/output",
          "model_name": "OutputModel",
          "model_module_version": "1.0.0",
          "state": {
            "_view_name": "OutputView",
            "msg_id": "",
            "_dom_classes": [],
            "_model_name": "OutputModel",
            "outputs": [],
            "_view_module": "@jupyter-widgets/output",
            "_model_module_version": "1.0.0",
            "_view_count": null,
            "_view_module_version": "1.0.0",
            "layout": "IPY_MODEL_2dedeb4a68994ea1aa902a667f934793",
            "_model_module": "@jupyter-widgets/output"
          }
        },
        "7533932590604b6a98628b2db3c45e8b": {
          "model_module": "@jupyter-widgets/controls",
          "model_name": "SliderStyleModel",
          "model_module_version": "1.5.0",
          "state": {
            "_view_name": "StyleView",
            "handle_color": null,
            "_model_name": "SliderStyleModel",
            "description_width": "",
            "_view_module": "@jupyter-widgets/base",
            "_model_module_version": "1.5.0",
            "_view_count": null,
            "_view_module_version": "1.2.0",
            "_model_module": "@jupyter-widgets/controls"
          }
        },
        "f765cea56b1d4b2bbabc65c6f048e682": {
          "model_module": "@jupyter-widgets/base",
          "model_name": "LayoutModel",
          "model_module_version": "1.2.0",
          "state": {
            "_view_name": "LayoutView",
            "grid_template_rows": null,
            "right": null,
            "justify_content": null,
            "_view_module": "@jupyter-widgets/base",
            "overflow": null,
            "_model_module_version": "1.2.0",
            "_view_count": null,
            "flex_flow": null,
            "width": null,
            "min_width": null,
            "border": null,
            "align_items": null,
            "bottom": null,
            "_model_module": "@jupyter-widgets/base",
            "top": null,
            "grid_column": null,
            "overflow_y": null,
            "overflow_x": null,
            "grid_auto_flow": null,
            "grid_area": null,
            "grid_template_columns": null,
            "flex": null,
            "_model_name": "LayoutModel",
            "justify_items": null,
            "grid_row": null,
            "max_height": null,
            "align_content": null,
            "visibility": null,
            "align_self": null,
            "height": null,
            "min_height": null,
            "padding": null,
            "grid_auto_rows": null,
            "grid_gap": null,
            "max_width": null,
            "order": null,
            "_view_module_version": "1.2.0",
            "grid_template_areas": null,
            "object_position": null,
            "object_fit": null,
            "grid_auto_columns": null,
            "margin": null,
            "display": null,
            "left": null
          }
        },
        "52840325a5d448d784421ededbfcffb7": {
          "model_module": "@jupyter-widgets/controls",
          "model_name": "SliderStyleModel",
          "model_module_version": "1.5.0",
          "state": {
            "_view_name": "StyleView",
            "handle_color": null,
            "_model_name": "SliderStyleModel",
            "description_width": "",
            "_view_module": "@jupyter-widgets/base",
            "_model_module_version": "1.5.0",
            "_view_count": null,
            "_view_module_version": "1.2.0",
            "_model_module": "@jupyter-widgets/controls"
          }
        },
        "a8bd170b425044cbb538ab9c5fc4106b": {
          "model_module": "@jupyter-widgets/base",
          "model_name": "LayoutModel",
          "model_module_version": "1.2.0",
          "state": {
            "_view_name": "LayoutView",
            "grid_template_rows": null,
            "right": null,
            "justify_content": null,
            "_view_module": "@jupyter-widgets/base",
            "overflow": null,
            "_model_module_version": "1.2.0",
            "_view_count": null,
            "flex_flow": null,
            "width": null,
            "min_width": null,
            "border": null,
            "align_items": null,
            "bottom": null,
            "_model_module": "@jupyter-widgets/base",
            "top": null,
            "grid_column": null,
            "overflow_y": null,
            "overflow_x": null,
            "grid_auto_flow": null,
            "grid_area": null,
            "grid_template_columns": null,
            "flex": null,
            "_model_name": "LayoutModel",
            "justify_items": null,
            "grid_row": null,
            "max_height": null,
            "align_content": null,
            "visibility": null,
            "align_self": null,
            "height": null,
            "min_height": null,
            "padding": null,
            "grid_auto_rows": null,
            "grid_gap": null,
            "max_width": null,
            "order": null,
            "_view_module_version": "1.2.0",
            "grid_template_areas": null,
            "object_position": null,
            "object_fit": null,
            "grid_auto_columns": null,
            "margin": null,
            "display": null,
            "left": null
          }
        },
        "d24f858aa53f4013b184fbedbf65553e": {
          "model_module": "@jupyter-widgets/controls",
          "model_name": "ButtonStyleModel",
          "model_module_version": "1.5.0",
          "state": {
            "_view_name": "StyleView",
            "_model_name": "ButtonStyleModel",
            "_view_module": "@jupyter-widgets/base",
            "_model_module_version": "1.5.0",
            "_view_count": null,
            "button_color": null,
            "font_weight": "",
            "_view_module_version": "1.2.0",
            "_model_module": "@jupyter-widgets/controls"
          }
        },
        "f2fa5a0ad1454408bde05a6a01e35ffe": {
          "model_module": "@jupyter-widgets/base",
          "model_name": "LayoutModel",
          "model_module_version": "1.2.0",
          "state": {
            "_view_name": "LayoutView",
            "grid_template_rows": null,
            "right": null,
            "justify_content": null,
            "_view_module": "@jupyter-widgets/base",
            "overflow": null,
            "_model_module_version": "1.2.0",
            "_view_count": null,
            "flex_flow": null,
            "width": null,
            "min_width": null,
            "border": null,
            "align_items": null,
            "bottom": null,
            "_model_module": "@jupyter-widgets/base",
            "top": null,
            "grid_column": null,
            "overflow_y": null,
            "overflow_x": null,
            "grid_auto_flow": null,
            "grid_area": null,
            "grid_template_columns": null,
            "flex": null,
            "_model_name": "LayoutModel",
            "justify_items": null,
            "grid_row": null,
            "max_height": null,
            "align_content": null,
            "visibility": null,
            "align_self": null,
            "height": null,
            "min_height": null,
            "padding": null,
            "grid_auto_rows": null,
            "grid_gap": null,
            "max_width": null,
            "order": null,
            "_view_module_version": "1.2.0",
            "grid_template_areas": null,
            "object_position": null,
            "object_fit": null,
            "grid_auto_columns": null,
            "margin": null,
            "display": null,
            "left": null
          }
        },
        "2dedeb4a68994ea1aa902a667f934793": {
          "model_module": "@jupyter-widgets/base",
          "model_name": "LayoutModel",
          "model_module_version": "1.2.0",
          "state": {
            "_view_name": "LayoutView",
            "grid_template_rows": null,
            "right": null,
            "justify_content": null,
            "_view_module": "@jupyter-widgets/base",
            "overflow": null,
            "_model_module_version": "1.2.0",
            "_view_count": null,
            "flex_flow": null,
            "width": null,
            "min_width": null,
            "border": null,
            "align_items": null,
            "bottom": null,
            "_model_module": "@jupyter-widgets/base",
            "top": null,
            "grid_column": null,
            "overflow_y": null,
            "overflow_x": null,
            "grid_auto_flow": null,
            "grid_area": null,
            "grid_template_columns": null,
            "flex": null,
            "_model_name": "LayoutModel",
            "justify_items": null,
            "grid_row": null,
            "max_height": null,
            "align_content": null,
            "visibility": null,
            "align_self": null,
            "height": null,
            "min_height": null,
            "padding": null,
            "grid_auto_rows": null,
            "grid_gap": null,
            "max_width": null,
            "order": null,
            "_view_module_version": "1.2.0",
            "grid_template_areas": null,
            "object_position": null,
            "object_fit": null,
            "grid_auto_columns": null,
            "margin": null,
            "display": null,
            "left": null
          }
        },
        "a2218095719f46b59fc1a87f2ffea09d": {
          "model_module": "@jupyter-widgets/controls",
          "model_name": "VBoxModel",
          "model_module_version": "1.5.0",
          "state": {
            "_view_name": "VBoxView",
            "_dom_classes": [
              "widget-interact"
            ],
            "_model_name": "VBoxModel",
            "_view_module": "@jupyter-widgets/controls",
            "_model_module_version": "1.5.0",
            "_view_count": null,
            "_view_module_version": "1.5.0",
            "box_style": "",
            "layout": "IPY_MODEL_acaf9f1dde764dc39e15ef12d9a23941",
            "_model_module": "@jupyter-widgets/controls",
            "children": [
              "IPY_MODEL_fcc048fa66d841b29cc767f8e9ab4195",
              "IPY_MODEL_3bb07692e4dc451cb7be5bff8e5d4f7f",
              "IPY_MODEL_e635d4cafa444163a7587efc4f19a7f8"
            ]
          }
        },
        "acaf9f1dde764dc39e15ef12d9a23941": {
          "model_module": "@jupyter-widgets/base",
          "model_name": "LayoutModel",
          "model_module_version": "1.2.0",
          "state": {
            "_view_name": "LayoutView",
            "grid_template_rows": null,
            "right": null,
            "justify_content": null,
            "_view_module": "@jupyter-widgets/base",
            "overflow": null,
            "_model_module_version": "1.2.0",
            "_view_count": null,
            "flex_flow": null,
            "width": null,
            "min_width": null,
            "border": null,
            "align_items": null,
            "bottom": null,
            "_model_module": "@jupyter-widgets/base",
            "top": null,
            "grid_column": null,
            "overflow_y": null,
            "overflow_x": null,
            "grid_auto_flow": null,
            "grid_area": null,
            "grid_template_columns": null,
            "flex": null,
            "_model_name": "LayoutModel",
            "justify_items": null,
            "grid_row": null,
            "max_height": null,
            "align_content": null,
            "visibility": null,
            "align_self": null,
            "height": null,
            "min_height": null,
            "padding": null,
            "grid_auto_rows": null,
            "grid_gap": null,
            "max_width": null,
            "order": null,
            "_view_module_version": "1.2.0",
            "grid_template_areas": null,
            "object_position": null,
            "object_fit": null,
            "grid_auto_columns": null,
            "margin": null,
            "display": null,
            "left": null
          }
        },
        "fcc048fa66d841b29cc767f8e9ab4195": {
          "model_module": "@jupyter-widgets/controls",
          "model_name": "IntSliderModel",
          "model_module_version": "1.5.0",
          "state": {
            "_view_name": "IntSliderView",
            "style": "IPY_MODEL_22e7f7e1ba0747b98ff05ba979a665f9",
            "_dom_classes": [],
            "description": "tempo",
            "step": 1,
            "_model_name": "IntSliderModel",
            "orientation": "horizontal",
            "max": 20,
            "_view_module": "@jupyter-widgets/controls",
            "_model_module_version": "1.5.0",
            "value": 10,
            "_view_count": null,
            "disabled": false,
            "_view_module_version": "1.5.0",
            "min": 1,
            "continuous_update": true,
            "readout_format": "d",
            "description_tooltip": null,
            "readout": true,
            "_model_module": "@jupyter-widgets/controls",
            "layout": "IPY_MODEL_33975d38e424420681ba35c899aed964"
          }
        },
        "3bb07692e4dc451cb7be5bff8e5d4f7f": {
          "model_module": "@jupyter-widgets/controls",
          "model_name": "ButtonModel",
          "model_module_version": "1.5.0",
          "state": {
            "_view_name": "ButtonView",
            "style": "IPY_MODEL_414784296012482e8fe2991c82a7c5c2",
            "_dom_classes": [],
            "description": "Run Interact",
            "_model_name": "ButtonModel",
            "button_style": "",
            "_view_module": "@jupyter-widgets/controls",
            "_model_module_version": "1.5.0",
            "tooltip": "",
            "_view_count": null,
            "disabled": false,
            "_view_module_version": "1.5.0",
            "layout": "IPY_MODEL_f4b2daf6f95b4b8b95281642fab29194",
            "_model_module": "@jupyter-widgets/controls",
            "icon": ""
          }
        },
        "e635d4cafa444163a7587efc4f19a7f8": {
          "model_module": "@jupyter-widgets/output",
          "model_name": "OutputModel",
          "model_module_version": "1.0.0",
          "state": {
            "_view_name": "OutputView",
            "msg_id": "",
            "_dom_classes": [],
            "_model_name": "OutputModel",
            "outputs": [
              {
                "output_type": "display_data",
                "data": {
                  "image/png": "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\n",
                  "text/plain": "<Figure size 432x288 with 1 Axes>"
                },
                "metadata": {
                  "needs_background": "light"
                }
              },
              {
                "output_type": "display_data",
                "data": {
                  "text/plain": "<Figure size 432x288 with 0 Axes>"
                },
                "metadata": {}
              },
              {
                "output_type": "display_data",
                "data": {
                  "image/png": "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\n",
                  "text/plain": "<Figure size 360x360 with 1 Axes>"
                },
                "metadata": {
                  "needs_background": "light"
                }
              }
            ],
            "_view_module": "@jupyter-widgets/output",
            "_model_module_version": "1.0.0",
            "_view_count": null,
            "_view_module_version": "1.0.0",
            "layout": "IPY_MODEL_194d26b0593f4285a223de46765b1775",
            "_model_module": "@jupyter-widgets/output"
          }
        },
        "22e7f7e1ba0747b98ff05ba979a665f9": {
          "model_module": "@jupyter-widgets/controls",
          "model_name": "SliderStyleModel",
          "model_module_version": "1.5.0",
          "state": {
            "_view_name": "StyleView",
            "handle_color": null,
            "_model_name": "SliderStyleModel",
            "description_width": "",
            "_view_module": "@jupyter-widgets/base",
            "_model_module_version": "1.5.0",
            "_view_count": null,
            "_view_module_version": "1.2.0",
            "_model_module": "@jupyter-widgets/controls"
          }
        },
        "33975d38e424420681ba35c899aed964": {
          "model_module": "@jupyter-widgets/base",
          "model_name": "LayoutModel",
          "model_module_version": "1.2.0",
          "state": {
            "_view_name": "LayoutView",
            "grid_template_rows": null,
            "right": null,
            "justify_content": null,
            "_view_module": "@jupyter-widgets/base",
            "overflow": null,
            "_model_module_version": "1.2.0",
            "_view_count": null,
            "flex_flow": null,
            "width": null,
            "min_width": null,
            "border": null,
            "align_items": null,
            "bottom": null,
            "_model_module": "@jupyter-widgets/base",
            "top": null,
            "grid_column": null,
            "overflow_y": null,
            "overflow_x": null,
            "grid_auto_flow": null,
            "grid_area": null,
            "grid_template_columns": null,
            "flex": null,
            "_model_name": "LayoutModel",
            "justify_items": null,
            "grid_row": null,
            "max_height": null,
            "align_content": null,
            "visibility": null,
            "align_self": null,
            "height": null,
            "min_height": null,
            "padding": null,
            "grid_auto_rows": null,
            "grid_gap": null,
            "max_width": null,
            "order": null,
            "_view_module_version": "1.2.0",
            "grid_template_areas": null,
            "object_position": null,
            "object_fit": null,
            "grid_auto_columns": null,
            "margin": null,
            "display": null,
            "left": null
          }
        },
        "414784296012482e8fe2991c82a7c5c2": {
          "model_module": "@jupyter-widgets/controls",
          "model_name": "ButtonStyleModel",
          "model_module_version": "1.5.0",
          "state": {
            "_view_name": "StyleView",
            "_model_name": "ButtonStyleModel",
            "_view_module": "@jupyter-widgets/base",
            "_model_module_version": "1.5.0",
            "_view_count": null,
            "button_color": null,
            "font_weight": "",
            "_view_module_version": "1.2.0",
            "_model_module": "@jupyter-widgets/controls"
          }
        },
        "f4b2daf6f95b4b8b95281642fab29194": {
          "model_module": "@jupyter-widgets/base",
          "model_name": "LayoutModel",
          "model_module_version": "1.2.0",
          "state": {
            "_view_name": "LayoutView",
            "grid_template_rows": null,
            "right": null,
            "justify_content": null,
            "_view_module": "@jupyter-widgets/base",
            "overflow": null,
            "_model_module_version": "1.2.0",
            "_view_count": null,
            "flex_flow": null,
            "width": null,
            "min_width": null,
            "border": null,
            "align_items": null,
            "bottom": null,
            "_model_module": "@jupyter-widgets/base",
            "top": null,
            "grid_column": null,
            "overflow_y": null,
            "overflow_x": null,
            "grid_auto_flow": null,
            "grid_area": null,
            "grid_template_columns": null,
            "flex": null,
            "_model_name": "LayoutModel",
            "justify_items": null,
            "grid_row": null,
            "max_height": null,
            "align_content": null,
            "visibility": null,
            "align_self": null,
            "height": null,
            "min_height": null,
            "padding": null,
            "grid_auto_rows": null,
            "grid_gap": null,
            "max_width": null,
            "order": null,
            "_view_module_version": "1.2.0",
            "grid_template_areas": null,
            "object_position": null,
            "object_fit": null,
            "grid_auto_columns": null,
            "margin": null,
            "display": null,
            "left": null
          }
        },
        "194d26b0593f4285a223de46765b1775": {
          "model_module": "@jupyter-widgets/base",
          "model_name": "LayoutModel",
          "model_module_version": "1.2.0",
          "state": {
            "_view_name": "LayoutView",
            "grid_template_rows": null,
            "right": null,
            "justify_content": null,
            "_view_module": "@jupyter-widgets/base",
            "overflow": null,
            "_model_module_version": "1.2.0",
            "_view_count": null,
            "flex_flow": null,
            "width": null,
            "min_width": null,
            "border": null,
            "align_items": null,
            "bottom": null,
            "_model_module": "@jupyter-widgets/base",
            "top": null,
            "grid_column": null,
            "overflow_y": null,
            "overflow_x": null,
            "grid_auto_flow": null,
            "grid_area": null,
            "grid_template_columns": null,
            "flex": null,
            "_model_name": "LayoutModel",
            "justify_items": null,
            "grid_row": null,
            "max_height": null,
            "align_content": null,
            "visibility": null,
            "align_self": null,
            "height": null,
            "min_height": null,
            "padding": null,
            "grid_auto_rows": null,
            "grid_gap": null,
            "max_width": null,
            "order": null,
            "_view_module_version": "1.2.0",
            "grid_template_areas": null,
            "object_position": null,
            "object_fit": null,
            "grid_auto_columns": null,
            "margin": null,
            "display": null,
            "left": null
          }
        },
        "d8cf1693281a4f8a8d1a504e56eae295": {
          "model_module": "@jupyter-widgets/controls",
          "model_name": "VBoxModel",
          "model_module_version": "1.5.0",
          "state": {
            "_view_name": "VBoxView",
            "_dom_classes": [
              "widget-interact"
            ],
            "_model_name": "VBoxModel",
            "_view_module": "@jupyter-widgets/controls",
            "_model_module_version": "1.5.0",
            "_view_count": null,
            "_view_module_version": "1.5.0",
            "box_style": "",
            "layout": "IPY_MODEL_571a770ee6724e23a986a7d14077df92",
            "_model_module": "@jupyter-widgets/controls",
            "children": [
              "IPY_MODEL_e5c17fb3964a4d048c1af3c522695676",
              "IPY_MODEL_a158023706674731af9449506d0dd606",
              "IPY_MODEL_760ccb8f48b6480fabd04beb1d0f011f"
            ]
          }
        },
        "571a770ee6724e23a986a7d14077df92": {
          "model_module": "@jupyter-widgets/base",
          "model_name": "LayoutModel",
          "model_module_version": "1.2.0",
          "state": {
            "_view_name": "LayoutView",
            "grid_template_rows": null,
            "right": null,
            "justify_content": null,
            "_view_module": "@jupyter-widgets/base",
            "overflow": null,
            "_model_module_version": "1.2.0",
            "_view_count": null,
            "flex_flow": null,
            "width": null,
            "min_width": null,
            "border": null,
            "align_items": null,
            "bottom": null,
            "_model_module": "@jupyter-widgets/base",
            "top": null,
            "grid_column": null,
            "overflow_y": null,
            "overflow_x": null,
            "grid_auto_flow": null,
            "grid_area": null,
            "grid_template_columns": null,
            "flex": null,
            "_model_name": "LayoutModel",
            "justify_items": null,
            "grid_row": null,
            "max_height": null,
            "align_content": null,
            "visibility": null,
            "align_self": null,
            "height": null,
            "min_height": null,
            "padding": null,
            "grid_auto_rows": null,
            "grid_gap": null,
            "max_width": null,
            "order": null,
            "_view_module_version": "1.2.0",
            "grid_template_areas": null,
            "object_position": null,
            "object_fit": null,
            "grid_auto_columns": null,
            "margin": null,
            "display": null,
            "left": null
          }
        },
        "e5c17fb3964a4d048c1af3c522695676": {
          "model_module": "@jupyter-widgets/controls",
          "model_name": "IntSliderModel",
          "model_module_version": "1.5.0",
          "state": {
            "_view_name": "IntSliderView",
            "style": "IPY_MODEL_b3de6d222b4a456e8cb06fd27a100dea",
            "_dom_classes": [],
            "description": "tempo",
            "step": 1,
            "_model_name": "IntSliderModel",
            "orientation": "horizontal",
            "max": 20,
            "_view_module": "@jupyter-widgets/controls",
            "_model_module_version": "1.5.0",
            "value": 10,
            "_view_count": null,
            "disabled": false,
            "_view_module_version": "1.5.0",
            "min": 1,
            "continuous_update": true,
            "readout_format": "d",
            "description_tooltip": null,
            "readout": true,
            "_model_module": "@jupyter-widgets/controls",
            "layout": "IPY_MODEL_6e1b138c51fb4f79b6e55611f156875d"
          }
        },
        "a158023706674731af9449506d0dd606": {
          "model_module": "@jupyter-widgets/controls",
          "model_name": "ButtonModel",
          "model_module_version": "1.5.0",
          "state": {
            "_view_name": "ButtonView",
            "style": "IPY_MODEL_63fdc42371394ee488e8135535f5ffcc",
            "_dom_classes": [],
            "description": "Run Interact",
            "_model_name": "ButtonModel",
            "button_style": "",
            "_view_module": "@jupyter-widgets/controls",
            "_model_module_version": "1.5.0",
            "tooltip": "",
            "_view_count": null,
            "disabled": false,
            "_view_module_version": "1.5.0",
            "layout": "IPY_MODEL_e1a3a6bcb1fb431e933f1d7b3d8f20d9",
            "_model_module": "@jupyter-widgets/controls",
            "icon": ""
          }
        },
        "760ccb8f48b6480fabd04beb1d0f011f": {
          "model_module": "@jupyter-widgets/output",
          "model_name": "OutputModel",
          "model_module_version": "1.0.0",
          "state": {
            "_view_name": "OutputView",
            "msg_id": "",
            "_dom_classes": [],
            "_model_name": "OutputModel",
            "outputs": [
              {
                "output_type": "display_data",
                "data": {
                  "text/plain": "5.0"
                },
                "metadata": {}
              }
            ],
            "_view_module": "@jupyter-widgets/output",
            "_model_module_version": "1.0.0",
            "_view_count": null,
            "_view_module_version": "1.0.0",
            "layout": "IPY_MODEL_7e9ce6eff83b4ee18f4da808b79a4ce5",
            "_model_module": "@jupyter-widgets/output"
          }
        },
        "b3de6d222b4a456e8cb06fd27a100dea": {
          "model_module": "@jupyter-widgets/controls",
          "model_name": "SliderStyleModel",
          "model_module_version": "1.5.0",
          "state": {
            "_view_name": "StyleView",
            "handle_color": null,
            "_model_name": "SliderStyleModel",
            "description_width": "",
            "_view_module": "@jupyter-widgets/base",
            "_model_module_version": "1.5.0",
            "_view_count": null,
            "_view_module_version": "1.2.0",
            "_model_module": "@jupyter-widgets/controls"
          }
        },
        "6e1b138c51fb4f79b6e55611f156875d": {
          "model_module": "@jupyter-widgets/base",
          "model_name": "LayoutModel",
          "model_module_version": "1.2.0",
          "state": {
            "_view_name": "LayoutView",
            "grid_template_rows": null,
            "right": null,
            "justify_content": null,
            "_view_module": "@jupyter-widgets/base",
            "overflow": null,
            "_model_module_version": "1.2.0",
            "_view_count": null,
            "flex_flow": null,
            "width": null,
            "min_width": null,
            "border": null,
            "align_items": null,
            "bottom": null,
            "_model_module": "@jupyter-widgets/base",
            "top": null,
            "grid_column": null,
            "overflow_y": null,
            "overflow_x": null,
            "grid_auto_flow": null,
            "grid_area": null,
            "grid_template_columns": null,
            "flex": null,
            "_model_name": "LayoutModel",
            "justify_items": null,
            "grid_row": null,
            "max_height": null,
            "align_content": null,
            "visibility": null,
            "align_self": null,
            "height": null,
            "min_height": null,
            "padding": null,
            "grid_auto_rows": null,
            "grid_gap": null,
            "max_width": null,
            "order": null,
            "_view_module_version": "1.2.0",
            "grid_template_areas": null,
            "object_position": null,
            "object_fit": null,
            "grid_auto_columns": null,
            "margin": null,
            "display": null,
            "left": null
          }
        },
        "63fdc42371394ee488e8135535f5ffcc": {
          "model_module": "@jupyter-widgets/controls",
          "model_name": "ButtonStyleModel",
          "model_module_version": "1.5.0",
          "state": {
            "_view_name": "StyleView",
            "_model_name": "ButtonStyleModel",
            "_view_module": "@jupyter-widgets/base",
            "_model_module_version": "1.5.0",
            "_view_count": null,
            "button_color": null,
            "font_weight": "",
            "_view_module_version": "1.2.0",
            "_model_module": "@jupyter-widgets/controls"
          }
        },
        "e1a3a6bcb1fb431e933f1d7b3d8f20d9": {
          "model_module": "@jupyter-widgets/base",
          "model_name": "LayoutModel",
          "model_module_version": "1.2.0",
          "state": {
            "_view_name": "LayoutView",
            "grid_template_rows": null,
            "right": null,
            "justify_content": null,
            "_view_module": "@jupyter-widgets/base",
            "overflow": null,
            "_model_module_version": "1.2.0",
            "_view_count": null,
            "flex_flow": null,
            "width": null,
            "min_width": null,
            "border": null,
            "align_items": null,
            "bottom": null,
            "_model_module": "@jupyter-widgets/base",
            "top": null,
            "grid_column": null,
            "overflow_y": null,
            "overflow_x": null,
            "grid_auto_flow": null,
            "grid_area": null,
            "grid_template_columns": null,
            "flex": null,
            "_model_name": "LayoutModel",
            "justify_items": null,
            "grid_row": null,
            "max_height": null,
            "align_content": null,
            "visibility": null,
            "align_self": null,
            "height": null,
            "min_height": null,
            "padding": null,
            "grid_auto_rows": null,
            "grid_gap": null,
            "max_width": null,
            "order": null,
            "_view_module_version": "1.2.0",
            "grid_template_areas": null,
            "object_position": null,
            "object_fit": null,
            "grid_auto_columns": null,
            "margin": null,
            "display": null,
            "left": null
          }
        },
        "7e9ce6eff83b4ee18f4da808b79a4ce5": {
          "model_module": "@jupyter-widgets/base",
          "model_name": "LayoutModel",
          "model_module_version": "1.2.0",
          "state": {
            "_view_name": "LayoutView",
            "grid_template_rows": null,
            "right": null,
            "justify_content": null,
            "_view_module": "@jupyter-widgets/base",
            "overflow": null,
            "_model_module_version": "1.2.0",
            "_view_count": null,
            "flex_flow": null,
            "width": null,
            "min_width": null,
            "border": null,
            "align_items": null,
            "bottom": null,
            "_model_module": "@jupyter-widgets/base",
            "top": null,
            "grid_column": null,
            "overflow_y": null,
            "overflow_x": null,
            "grid_auto_flow": null,
            "grid_area": null,
            "grid_template_columns": null,
            "flex": null,
            "_model_name": "LayoutModel",
            "justify_items": null,
            "grid_row": null,
            "max_height": null,
            "align_content": null,
            "visibility": null,
            "align_self": null,
            "height": null,
            "min_height": null,
            "padding": null,
            "grid_auto_rows": null,
            "grid_gap": null,
            "max_width": null,
            "order": null,
            "_view_module_version": "1.2.0",
            "grid_template_areas": null,
            "object_position": null,
            "object_fit": null,
            "grid_auto_columns": null,
            "margin": null,
            "display": null,
            "left": null
          }
        },
        "a6e6bff357684a9dbbfb0868963bf48a": {
          "model_module": "@jupyter-widgets/controls",
          "model_name": "VBoxModel",
          "model_module_version": "1.5.0",
          "state": {
            "_view_name": "VBoxView",
            "_dom_classes": [
              "widget-interact"
            ],
            "_model_name": "VBoxModel",
            "_view_module": "@jupyter-widgets/controls",
            "_model_module_version": "1.5.0",
            "_view_count": null,
            "_view_module_version": "1.5.0",
            "box_style": "",
            "layout": "IPY_MODEL_f7f63172205b44d0b616670a0cbb73ea",
            "_model_module": "@jupyter-widgets/controls",
            "children": [
              "IPY_MODEL_f75501d9b7ae41e19c79dd41c31baac0",
              "IPY_MODEL_74b6665ead06494f8ac5cbdb3366fa00",
              "IPY_MODEL_fc2a27b464d44253a7ba437517930e02"
            ]
          }
        },
        "f7f63172205b44d0b616670a0cbb73ea": {
          "model_module": "@jupyter-widgets/base",
          "model_name": "LayoutModel",
          "model_module_version": "1.2.0",
          "state": {
            "_view_name": "LayoutView",
            "grid_template_rows": null,
            "right": null,
            "justify_content": null,
            "_view_module": "@jupyter-widgets/base",
            "overflow": null,
            "_model_module_version": "1.2.0",
            "_view_count": null,
            "flex_flow": null,
            "width": null,
            "min_width": null,
            "border": null,
            "align_items": null,
            "bottom": null,
            "_model_module": "@jupyter-widgets/base",
            "top": null,
            "grid_column": null,
            "overflow_y": null,
            "overflow_x": null,
            "grid_auto_flow": null,
            "grid_area": null,
            "grid_template_columns": null,
            "flex": null,
            "_model_name": "LayoutModel",
            "justify_items": null,
            "grid_row": null,
            "max_height": null,
            "align_content": null,
            "visibility": null,
            "align_self": null,
            "height": null,
            "min_height": null,
            "padding": null,
            "grid_auto_rows": null,
            "grid_gap": null,
            "max_width": null,
            "order": null,
            "_view_module_version": "1.2.0",
            "grid_template_areas": null,
            "object_position": null,
            "object_fit": null,
            "grid_auto_columns": null,
            "margin": null,
            "display": null,
            "left": null
          }
        },
        "f75501d9b7ae41e19c79dd41c31baac0": {
          "model_module": "@jupyter-widgets/controls",
          "model_name": "IntSliderModel",
          "model_module_version": "1.5.0",
          "state": {
            "_view_name": "IntSliderView",
            "style": "IPY_MODEL_847f68a9f63a48a9a4e648895de414d5",
            "_dom_classes": [],
            "description": "tempo",
            "step": 1,
            "_model_name": "IntSliderModel",
            "orientation": "horizontal",
            "max": 20,
            "_view_module": "@jupyter-widgets/controls",
            "_model_module_version": "1.5.0",
            "value": 10,
            "_view_count": null,
            "disabled": false,
            "_view_module_version": "1.5.0",
            "min": 1,
            "continuous_update": true,
            "readout_format": "d",
            "description_tooltip": null,
            "readout": true,
            "_model_module": "@jupyter-widgets/controls",
            "layout": "IPY_MODEL_f07bd8fe01f74e0e80a2d5ae430b8e66"
          }
        },
        "74b6665ead06494f8ac5cbdb3366fa00": {
          "model_module": "@jupyter-widgets/controls",
          "model_name": "ButtonModel",
          "model_module_version": "1.5.0",
          "state": {
            "_view_name": "ButtonView",
            "style": "IPY_MODEL_9b651c5bc6ee4bc3897454b5417bf074",
            "_dom_classes": [],
            "description": "Run Interact",
            "_model_name": "ButtonModel",
            "button_style": "",
            "_view_module": "@jupyter-widgets/controls",
            "_model_module_version": "1.5.0",
            "tooltip": "",
            "_view_count": null,
            "disabled": false,
            "_view_module_version": "1.5.0",
            "layout": "IPY_MODEL_cd6b91330a6f40f2bee80841e0f09ce5",
            "_model_module": "@jupyter-widgets/controls",
            "icon": ""
          }
        },
        "fc2a27b464d44253a7ba437517930e02": {
          "model_module": "@jupyter-widgets/output",
          "model_name": "OutputModel",
          "model_module_version": "1.0.0",
          "state": {
            "_view_name": "OutputView",
            "msg_id": "",
            "_dom_classes": [],
            "_model_name": "OutputModel",
            "outputs": [
              {
                "output_type": "display_data",
                "data": {
                  "image/png": "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\n",
                  "text/plain": "<Figure size 432x288 with 1 Axes>"
                },
                "metadata": {
                  "needs_background": "light"
                }
              }
            ],
            "_view_module": "@jupyter-widgets/output",
            "_model_module_version": "1.0.0",
            "_view_count": null,
            "_view_module_version": "1.0.0",
            "layout": "IPY_MODEL_fec22295aac34773a0de8867c9c02aa5",
            "_model_module": "@jupyter-widgets/output"
          }
        },
        "847f68a9f63a48a9a4e648895de414d5": {
          "model_module": "@jupyter-widgets/controls",
          "model_name": "SliderStyleModel",
          "model_module_version": "1.5.0",
          "state": {
            "_view_name": "StyleView",
            "handle_color": null,
            "_model_name": "SliderStyleModel",
            "description_width": "",
            "_view_module": "@jupyter-widgets/base",
            "_model_module_version": "1.5.0",
            "_view_count": null,
            "_view_module_version": "1.2.0",
            "_model_module": "@jupyter-widgets/controls"
          }
        },
        "f07bd8fe01f74e0e80a2d5ae430b8e66": {
          "model_module": "@jupyter-widgets/base",
          "model_name": "LayoutModel",
          "model_module_version": "1.2.0",
          "state": {
            "_view_name": "LayoutView",
            "grid_template_rows": null,
            "right": null,
            "justify_content": null,
            "_view_module": "@jupyter-widgets/base",
            "overflow": null,
            "_model_module_version": "1.2.0",
            "_view_count": null,
            "flex_flow": null,
            "width": null,
            "min_width": null,
            "border": null,
            "align_items": null,
            "bottom": null,
            "_model_module": "@jupyter-widgets/base",
            "top": null,
            "grid_column": null,
            "overflow_y": null,
            "overflow_x": null,
            "grid_auto_flow": null,
            "grid_area": null,
            "grid_template_columns": null,
            "flex": null,
            "_model_name": "LayoutModel",
            "justify_items": null,
            "grid_row": null,
            "max_height": null,
            "align_content": null,
            "visibility": null,
            "align_self": null,
            "height": null,
            "min_height": null,
            "padding": null,
            "grid_auto_rows": null,
            "grid_gap": null,
            "max_width": null,
            "order": null,
            "_view_module_version": "1.2.0",
            "grid_template_areas": null,
            "object_position": null,
            "object_fit": null,
            "grid_auto_columns": null,
            "margin": null,
            "display": null,
            "left": null
          }
        },
        "9b651c5bc6ee4bc3897454b5417bf074": {
          "model_module": "@jupyter-widgets/controls",
          "model_name": "ButtonStyleModel",
          "model_module_version": "1.5.0",
          "state": {
            "_view_name": "StyleView",
            "_model_name": "ButtonStyleModel",
            "_view_module": "@jupyter-widgets/base",
            "_model_module_version": "1.5.0",
            "_view_count": null,
            "button_color": null,
            "font_weight": "",
            "_view_module_version": "1.2.0",
            "_model_module": "@jupyter-widgets/controls"
          }
        },
        "cd6b91330a6f40f2bee80841e0f09ce5": {
          "model_module": "@jupyter-widgets/base",
          "model_name": "LayoutModel",
          "model_module_version": "1.2.0",
          "state": {
            "_view_name": "LayoutView",
            "grid_template_rows": null,
            "right": null,
            "justify_content": null,
            "_view_module": "@jupyter-widgets/base",
            "overflow": null,
            "_model_module_version": "1.2.0",
            "_view_count": null,
            "flex_flow": null,
            "width": null,
            "min_width": null,
            "border": null,
            "align_items": null,
            "bottom": null,
            "_model_module": "@jupyter-widgets/base",
            "top": null,
            "grid_column": null,
            "overflow_y": null,
            "overflow_x": null,
            "grid_auto_flow": null,
            "grid_area": null,
            "grid_template_columns": null,
            "flex": null,
            "_model_name": "LayoutModel",
            "justify_items": null,
            "grid_row": null,
            "max_height": null,
            "align_content": null,
            "visibility": null,
            "align_self": null,
            "height": null,
            "min_height": null,
            "padding": null,
            "grid_auto_rows": null,
            "grid_gap": null,
            "max_width": null,
            "order": null,
            "_view_module_version": "1.2.0",
            "grid_template_areas": null,
            "object_position": null,
            "object_fit": null,
            "grid_auto_columns": null,
            "margin": null,
            "display": null,
            "left": null
          }
        },
        "fec22295aac34773a0de8867c9c02aa5": {
          "model_module": "@jupyter-widgets/base",
          "model_name": "LayoutModel",
          "model_module_version": "1.2.0",
          "state": {
            "_view_name": "LayoutView",
            "grid_template_rows": null,
            "right": null,
            "justify_content": null,
            "_view_module": "@jupyter-widgets/base",
            "overflow": null,
            "_model_module_version": "1.2.0",
            "_view_count": null,
            "flex_flow": null,
            "width": null,
            "min_width": null,
            "border": null,
            "align_items": null,
            "bottom": null,
            "_model_module": "@jupyter-widgets/base",
            "top": null,
            "grid_column": null,
            "overflow_y": null,
            "overflow_x": null,
            "grid_auto_flow": null,
            "grid_area": null,
            "grid_template_columns": null,
            "flex": null,
            "_model_name": "LayoutModel",
            "justify_items": null,
            "grid_row": null,
            "max_height": null,
            "align_content": null,
            "visibility": null,
            "align_self": null,
            "height": null,
            "min_height": null,
            "padding": null,
            "grid_auto_rows": null,
            "grid_gap": null,
            "max_width": null,
            "order": null,
            "_view_module_version": "1.2.0",
            "grid_template_areas": null,
            "object_position": null,
            "object_fit": null,
            "grid_auto_columns": null,
            "margin": null,
            "display": null,
            "left": null
          }
        },
        "1f1deda3420941b7a34e31d43312cdab": {
          "model_module": "@jupyter-widgets/controls",
          "model_name": "VBoxModel",
          "model_module_version": "1.5.0",
          "state": {
            "_view_name": "VBoxView",
            "_dom_classes": [
              "widget-interact"
            ],
            "_model_name": "VBoxModel",
            "_view_module": "@jupyter-widgets/controls",
            "_model_module_version": "1.5.0",
            "_view_count": null,
            "_view_module_version": "1.5.0",
            "box_style": "",
            "layout": "IPY_MODEL_e01e3c5cdbd64ba0a16b6a996c2f0fc3",
            "_model_module": "@jupyter-widgets/controls",
            "children": [
              "IPY_MODEL_1c0b2a550a6e44c0812b846352f02269",
              "IPY_MODEL_ed129afde1e04afe9ee2cc767e8c3161",
              "IPY_MODEL_9027cf23a9d04e989e52d10ab751e040"
            ]
          }
        },
        "e01e3c5cdbd64ba0a16b6a996c2f0fc3": {
          "model_module": "@jupyter-widgets/base",
          "model_name": "LayoutModel",
          "model_module_version": "1.2.0",
          "state": {
            "_view_name": "LayoutView",
            "grid_template_rows": null,
            "right": null,
            "justify_content": null,
            "_view_module": "@jupyter-widgets/base",
            "overflow": null,
            "_model_module_version": "1.2.0",
            "_view_count": null,
            "flex_flow": null,
            "width": null,
            "min_width": null,
            "border": null,
            "align_items": null,
            "bottom": null,
            "_model_module": "@jupyter-widgets/base",
            "top": null,
            "grid_column": null,
            "overflow_y": null,
            "overflow_x": null,
            "grid_auto_flow": null,
            "grid_area": null,
            "grid_template_columns": null,
            "flex": null,
            "_model_name": "LayoutModel",
            "justify_items": null,
            "grid_row": null,
            "max_height": null,
            "align_content": null,
            "visibility": null,
            "align_self": null,
            "height": null,
            "min_height": null,
            "padding": null,
            "grid_auto_rows": null,
            "grid_gap": null,
            "max_width": null,
            "order": null,
            "_view_module_version": "1.2.0",
            "grid_template_areas": null,
            "object_position": null,
            "object_fit": null,
            "grid_auto_columns": null,
            "margin": null,
            "display": null,
            "left": null
          }
        },
        "1c0b2a550a6e44c0812b846352f02269": {
          "model_module": "@jupyter-widgets/controls",
          "model_name": "IntSliderModel",
          "model_module_version": "1.5.0",
          "state": {
            "_view_name": "IntSliderView",
            "style": "IPY_MODEL_b5c815d6b9d54df38c275754f47b15ce",
            "_dom_classes": [],
            "description": "tempo",
            "step": 1,
            "_model_name": "IntSliderModel",
            "orientation": "horizontal",
            "max": 20,
            "_view_module": "@jupyter-widgets/controls",
            "_model_module_version": "1.5.0",
            "value": 10,
            "_view_count": null,
            "disabled": false,
            "_view_module_version": "1.5.0",
            "min": 1,
            "continuous_update": true,
            "readout_format": "d",
            "description_tooltip": null,
            "readout": true,
            "_model_module": "@jupyter-widgets/controls",
            "layout": "IPY_MODEL_54be7cafeeca4932ab107cf63d5bd9d5"
          }
        },
        "ed129afde1e04afe9ee2cc767e8c3161": {
          "model_module": "@jupyter-widgets/controls",
          "model_name": "ButtonModel",
          "model_module_version": "1.5.0",
          "state": {
            "_view_name": "ButtonView",
            "style": "IPY_MODEL_05ffd0ce42be4ed0826b771d8425d136",
            "_dom_classes": [],
            "description": "Run Interact",
            "_model_name": "ButtonModel",
            "button_style": "",
            "_view_module": "@jupyter-widgets/controls",
            "_model_module_version": "1.5.0",
            "tooltip": "",
            "_view_count": null,
            "disabled": false,
            "_view_module_version": "1.5.0",
            "layout": "IPY_MODEL_93cec40b3ff24e6bb0f9f6db6d01672e",
            "_model_module": "@jupyter-widgets/controls",
            "icon": ""
          }
        },
        "9027cf23a9d04e989e52d10ab751e040": {
          "model_module": "@jupyter-widgets/output",
          "model_name": "OutputModel",
          "model_module_version": "1.0.0",
          "state": {
            "_view_name": "OutputView",
            "msg_id": "",
            "_dom_classes": [],
            "_model_name": "OutputModel",
            "outputs": [
              {
                "output_type": "display_data",
                "data": {
                  "image/png": "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\n",
                  "text/plain": "<Figure size 360x360 with 1 Axes>"
                },
                "metadata": {
                  "needs_background": "light"
                }
              }
            ],
            "_view_module": "@jupyter-widgets/output",
            "_model_module_version": "1.0.0",
            "_view_count": null,
            "_view_module_version": "1.0.0",
            "layout": "IPY_MODEL_77fa879ba02d4622af2568c87dbc3724",
            "_model_module": "@jupyter-widgets/output"
          }
        },
        "b5c815d6b9d54df38c275754f47b15ce": {
          "model_module": "@jupyter-widgets/controls",
          "model_name": "SliderStyleModel",
          "model_module_version": "1.5.0",
          "state": {
            "_view_name": "StyleView",
            "handle_color": null,
            "_model_name": "SliderStyleModel",
            "description_width": "",
            "_view_module": "@jupyter-widgets/base",
            "_model_module_version": "1.5.0",
            "_view_count": null,
            "_view_module_version": "1.2.0",
            "_model_module": "@jupyter-widgets/controls"
          }
        },
        "54be7cafeeca4932ab107cf63d5bd9d5": {
          "model_module": "@jupyter-widgets/base",
          "model_name": "LayoutModel",
          "model_module_version": "1.2.0",
          "state": {
            "_view_name": "LayoutView",
            "grid_template_rows": null,
            "right": null,
            "justify_content": null,
            "_view_module": "@jupyter-widgets/base",
            "overflow": null,
            "_model_module_version": "1.2.0",
            "_view_count": null,
            "flex_flow": null,
            "width": null,
            "min_width": null,
            "border": null,
            "align_items": null,
            "bottom": null,
            "_model_module": "@jupyter-widgets/base",
            "top": null,
            "grid_column": null,
            "overflow_y": null,
            "overflow_x": null,
            "grid_auto_flow": null,
            "grid_area": null,
            "grid_template_columns": null,
            "flex": null,
            "_model_name": "LayoutModel",
            "justify_items": null,
            "grid_row": null,
            "max_height": null,
            "align_content": null,
            "visibility": null,
            "align_self": null,
            "height": null,
            "min_height": null,
            "padding": null,
            "grid_auto_rows": null,
            "grid_gap": null,
            "max_width": null,
            "order": null,
            "_view_module_version": "1.2.0",
            "grid_template_areas": null,
            "object_position": null,
            "object_fit": null,
            "grid_auto_columns": null,
            "margin": null,
            "display": null,
            "left": null
          }
        },
        "05ffd0ce42be4ed0826b771d8425d136": {
          "model_module": "@jupyter-widgets/controls",
          "model_name": "ButtonStyleModel",
          "model_module_version": "1.5.0",
          "state": {
            "_view_name": "StyleView",
            "_model_name": "ButtonStyleModel",
            "_view_module": "@jupyter-widgets/base",
            "_model_module_version": "1.5.0",
            "_view_count": null,
            "button_color": null,
            "font_weight": "",
            "_view_module_version": "1.2.0",
            "_model_module": "@jupyter-widgets/controls"
          }
        },
        "93cec40b3ff24e6bb0f9f6db6d01672e": {
          "model_module": "@jupyter-widgets/base",
          "model_name": "LayoutModel",
          "model_module_version": "1.2.0",
          "state": {
            "_view_name": "LayoutView",
            "grid_template_rows": null,
            "right": null,
            "justify_content": null,
            "_view_module": "@jupyter-widgets/base",
            "overflow": null,
            "_model_module_version": "1.2.0",
            "_view_count": null,
            "flex_flow": null,
            "width": null,
            "min_width": null,
            "border": null,
            "align_items": null,
            "bottom": null,
            "_model_module": "@jupyter-widgets/base",
            "top": null,
            "grid_column": null,
            "overflow_y": null,
            "overflow_x": null,
            "grid_auto_flow": null,
            "grid_area": null,
            "grid_template_columns": null,
            "flex": null,
            "_model_name": "LayoutModel",
            "justify_items": null,
            "grid_row": null,
            "max_height": null,
            "align_content": null,
            "visibility": null,
            "align_self": null,
            "height": null,
            "min_height": null,
            "padding": null,
            "grid_auto_rows": null,
            "grid_gap": null,
            "max_width": null,
            "order": null,
            "_view_module_version": "1.2.0",
            "grid_template_areas": null,
            "object_position": null,
            "object_fit": null,
            "grid_auto_columns": null,
            "margin": null,
            "display": null,
            "left": null
          }
        },
        "77fa879ba02d4622af2568c87dbc3724": {
          "model_module": "@jupyter-widgets/base",
          "model_name": "LayoutModel",
          "model_module_version": "1.2.0",
          "state": {
            "_view_name": "LayoutView",
            "grid_template_rows": null,
            "right": null,
            "justify_content": null,
            "_view_module": "@jupyter-widgets/base",
            "overflow": null,
            "_model_module_version": "1.2.0",
            "_view_count": null,
            "flex_flow": null,
            "width": null,
            "min_width": null,
            "border": null,
            "align_items": null,
            "bottom": null,
            "_model_module": "@jupyter-widgets/base",
            "top": null,
            "grid_column": null,
            "overflow_y": null,
            "overflow_x": null,
            "grid_auto_flow": null,
            "grid_area": null,
            "grid_template_columns": null,
            "flex": null,
            "_model_name": "LayoutModel",
            "justify_items": null,
            "grid_row": null,
            "max_height": null,
            "align_content": null,
            "visibility": null,
            "align_self": null,
            "height": null,
            "min_height": null,
            "padding": null,
            "grid_auto_rows": null,
            "grid_gap": null,
            "max_width": null,
            "order": null,
            "_view_module_version": "1.2.0",
            "grid_template_areas": null,
            "object_position": null,
            "object_fit": null,
            "grid_auto_columns": null,
            "margin": null,
            "display": null,
            "left": null
          }
        },
        "d9d5383bafc340bea4bf2d9337095ad1": {
          "model_module": "@jupyter-widgets/controls",
          "model_name": "VBoxModel",
          "model_module_version": "1.5.0",
          "state": {
            "_view_name": "VBoxView",
            "_dom_classes": [
              "widget-interact"
            ],
            "_model_name": "VBoxModel",
            "_view_module": "@jupyter-widgets/controls",
            "_model_module_version": "1.5.0",
            "_view_count": null,
            "_view_module_version": "1.5.0",
            "box_style": "",
            "layout": "IPY_MODEL_36e9769ec60f4787ab397ca9cc50d610",
            "_model_module": "@jupyter-widgets/controls",
            "children": [
              "IPY_MODEL_86cb8f014a6a4d3dac707dac95058049",
              "IPY_MODEL_51c43ab1eba648dea683c3f19867c2cc",
              "IPY_MODEL_c84e8729db644a05aeddb60121589121"
            ]
          }
        },
        "36e9769ec60f4787ab397ca9cc50d610": {
          "model_module": "@jupyter-widgets/base",
          "model_name": "LayoutModel",
          "model_module_version": "1.2.0",
          "state": {
            "_view_name": "LayoutView",
            "grid_template_rows": null,
            "right": null,
            "justify_content": null,
            "_view_module": "@jupyter-widgets/base",
            "overflow": null,
            "_model_module_version": "1.2.0",
            "_view_count": null,
            "flex_flow": null,
            "width": null,
            "min_width": null,
            "border": null,
            "align_items": null,
            "bottom": null,
            "_model_module": "@jupyter-widgets/base",
            "top": null,
            "grid_column": null,
            "overflow_y": null,
            "overflow_x": null,
            "grid_auto_flow": null,
            "grid_area": null,
            "grid_template_columns": null,
            "flex": null,
            "_model_name": "LayoutModel",
            "justify_items": null,
            "grid_row": null,
            "max_height": null,
            "align_content": null,
            "visibility": null,
            "align_self": null,
            "height": null,
            "min_height": null,
            "padding": null,
            "grid_auto_rows": null,
            "grid_gap": null,
            "max_width": null,
            "order": null,
            "_view_module_version": "1.2.0",
            "grid_template_areas": null,
            "object_position": null,
            "object_fit": null,
            "grid_auto_columns": null,
            "margin": null,
            "display": null,
            "left": null
          }
        },
        "86cb8f014a6a4d3dac707dac95058049": {
          "model_module": "@jupyter-widgets/controls",
          "model_name": "IntSliderModel",
          "model_module_version": "1.5.0",
          "state": {
            "_view_name": "IntSliderView",
            "style": "IPY_MODEL_5435bea6eec54380b9016ebf3bc87091",
            "_dom_classes": [],
            "description": "tempo",
            "step": 1,
            "_model_name": "IntSliderModel",
            "orientation": "horizontal",
            "max": 20,
            "_view_module": "@jupyter-widgets/controls",
            "_model_module_version": "1.5.0",
            "value": 10,
            "_view_count": null,
            "disabled": false,
            "_view_module_version": "1.5.0",
            "min": 1,
            "continuous_update": true,
            "readout_format": "d",
            "description_tooltip": null,
            "readout": true,
            "_model_module": "@jupyter-widgets/controls",
            "layout": "IPY_MODEL_c4372b17a79e42ee930b3fb610e8593e"
          }
        },
        "51c43ab1eba648dea683c3f19867c2cc": {
          "model_module": "@jupyter-widgets/controls",
          "model_name": "ButtonModel",
          "model_module_version": "1.5.0",
          "state": {
            "_view_name": "ButtonView",
            "style": "IPY_MODEL_2a19cbda628c45eb8e2d321b1a0a6206",
            "_dom_classes": [],
            "description": "Run Interact",
            "_model_name": "ButtonModel",
            "button_style": "",
            "_view_module": "@jupyter-widgets/controls",
            "_model_module_version": "1.5.0",
            "tooltip": "",
            "_view_count": null,
            "disabled": false,
            "_view_module_version": "1.5.0",
            "layout": "IPY_MODEL_599865dc020c498eaa838450b2599a14",
            "_model_module": "@jupyter-widgets/controls",
            "icon": ""
          }
        },
        "c84e8729db644a05aeddb60121589121": {
          "model_module": "@jupyter-widgets/output",
          "model_name": "OutputModel",
          "model_module_version": "1.0.0",
          "state": {
            "_view_name": "OutputView",
            "msg_id": "",
            "_dom_classes": [],
            "_model_name": "OutputModel",
            "outputs": [
              {
                "output_type": "display_data",
                "data": {
                  "image/png": "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\n",
                  "text/plain": "<Figure size 432x288 with 1 Axes>"
                },
                "metadata": {
                  "needs_background": "light"
                }
              }
            ],
            "_view_module": "@jupyter-widgets/output",
            "_model_module_version": "1.0.0",
            "_view_count": null,
            "_view_module_version": "1.0.0",
            "layout": "IPY_MODEL_fab6f4433b8948f187c5913d553f9626",
            "_model_module": "@jupyter-widgets/output"
          }
        },
        "5435bea6eec54380b9016ebf3bc87091": {
          "model_module": "@jupyter-widgets/controls",
          "model_name": "SliderStyleModel",
          "model_module_version": "1.5.0",
          "state": {
            "_view_name": "StyleView",
            "handle_color": null,
            "_model_name": "SliderStyleModel",
            "description_width": "",
            "_view_module": "@jupyter-widgets/base",
            "_model_module_version": "1.5.0",
            "_view_count": null,
            "_view_module_version": "1.2.0",
            "_model_module": "@jupyter-widgets/controls"
          }
        },
        "c4372b17a79e42ee930b3fb610e8593e": {
          "model_module": "@jupyter-widgets/base",
          "model_name": "LayoutModel",
          "model_module_version": "1.2.0",
          "state": {
            "_view_name": "LayoutView",
            "grid_template_rows": null,
            "right": null,
            "justify_content": null,
            "_view_module": "@jupyter-widgets/base",
            "overflow": null,
            "_model_module_version": "1.2.0",
            "_view_count": null,
            "flex_flow": null,
            "width": null,
            "min_width": null,
            "border": null,
            "align_items": null,
            "bottom": null,
            "_model_module": "@jupyter-widgets/base",
            "top": null,
            "grid_column": null,
            "overflow_y": null,
            "overflow_x": null,
            "grid_auto_flow": null,
            "grid_area": null,
            "grid_template_columns": null,
            "flex": null,
            "_model_name": "LayoutModel",
            "justify_items": null,
            "grid_row": null,
            "max_height": null,
            "align_content": null,
            "visibility": null,
            "align_self": null,
            "height": null,
            "min_height": null,
            "padding": null,
            "grid_auto_rows": null,
            "grid_gap": null,
            "max_width": null,
            "order": null,
            "_view_module_version": "1.2.0",
            "grid_template_areas": null,
            "object_position": null,
            "object_fit": null,
            "grid_auto_columns": null,
            "margin": null,
            "display": null,
            "left": null
          }
        },
        "2a19cbda628c45eb8e2d321b1a0a6206": {
          "model_module": "@jupyter-widgets/controls",
          "model_name": "ButtonStyleModel",
          "model_module_version": "1.5.0",
          "state": {
            "_view_name": "StyleView",
            "_model_name": "ButtonStyleModel",
            "_view_module": "@jupyter-widgets/base",
            "_model_module_version": "1.5.0",
            "_view_count": null,
            "button_color": null,
            "font_weight": "",
            "_view_module_version": "1.2.0",
            "_model_module": "@jupyter-widgets/controls"
          }
        },
        "599865dc020c498eaa838450b2599a14": {
          "model_module": "@jupyter-widgets/base",
          "model_name": "LayoutModel",
          "model_module_version": "1.2.0",
          "state": {
            "_view_name": "LayoutView",
            "grid_template_rows": null,
            "right": null,
            "justify_content": null,
            "_view_module": "@jupyter-widgets/base",
            "overflow": null,
            "_model_module_version": "1.2.0",
            "_view_count": null,
            "flex_flow": null,
            "width": null,
            "min_width": null,
            "border": null,
            "align_items": null,
            "bottom": null,
            "_model_module": "@jupyter-widgets/base",
            "top": null,
            "grid_column": null,
            "overflow_y": null,
            "overflow_x": null,
            "grid_auto_flow": null,
            "grid_area": null,
            "grid_template_columns": null,
            "flex": null,
            "_model_name": "LayoutModel",
            "justify_items": null,
            "grid_row": null,
            "max_height": null,
            "align_content": null,
            "visibility": null,
            "align_self": null,
            "height": null,
            "min_height": null,
            "padding": null,
            "grid_auto_rows": null,
            "grid_gap": null,
            "max_width": null,
            "order": null,
            "_view_module_version": "1.2.0",
            "grid_template_areas": null,
            "object_position": null,
            "object_fit": null,
            "grid_auto_columns": null,
            "margin": null,
            "display": null,
            "left": null
          }
        },
        "fab6f4433b8948f187c5913d553f9626": {
          "model_module": "@jupyter-widgets/base",
          "model_name": "LayoutModel",
          "model_module_version": "1.2.0",
          "state": {
            "_view_name": "LayoutView",
            "grid_template_rows": null,
            "right": null,
            "justify_content": null,
            "_view_module": "@jupyter-widgets/base",
            "overflow": null,
            "_model_module_version": "1.2.0",
            "_view_count": null,
            "flex_flow": null,
            "width": null,
            "min_width": null,
            "border": null,
            "align_items": null,
            "bottom": null,
            "_model_module": "@jupyter-widgets/base",
            "top": null,
            "grid_column": null,
            "overflow_y": null,
            "overflow_x": null,
            "grid_auto_flow": null,
            "grid_area": null,
            "grid_template_columns": null,
            "flex": null,
            "_model_name": "LayoutModel",
            "justify_items": null,
            "grid_row": null,
            "max_height": null,
            "align_content": null,
            "visibility": null,
            "align_self": null,
            "height": null,
            "min_height": null,
            "padding": null,
            "grid_auto_rows": null,
            "grid_gap": null,
            "max_width": null,
            "order": null,
            "_view_module_version": "1.2.0",
            "grid_template_areas": null,
            "object_position": null,
            "object_fit": null,
            "grid_auto_columns": null,
            "margin": null,
            "display": null,
            "left": null
          }
        }
      }
    }
  },
  "cells": [
    {
      "cell_type": "markdown",
      "metadata": {
        "id": "view-in-github",
        "colab_type": "text"
      },
      "source": [
        "<a href=\"https://colab.research.google.com/github/MontiMic/Tesi/blob/riordinato/Untitled1.ipynb\" target=\"_parent\"><img src=\"https://colab.research.google.com/assets/colab-badge.svg\" alt=\"Open In Colab\"/></a>"
      ]
    },
    {
      "cell_type": "markdown",
      "source": [
        "# Introduzione\n",
        "La seguente presentazione si propone di semplificare l'apprendimento di alcuni principi del calcolo probabilistico offrendo la possibilità di vedere applicare le leggi su grandi numeri e confrontando i risultati ottenuti con quelli attesi dalla teoria."
      ],
      "metadata": {
        "id": "yyLelI9l5lbc"
      }
    },
    {
      "cell_type": "markdown",
      "source": [
        "Di seguito includiamo le librerie che verranno utilizzate nel corso della presentazione:\n",
        "\n",
        "* **numpy** per la manipolazione dei dati\n",
        "\n",
        "* **interact** per rendere la presentazione interattiva offrendo la possibilità allo studente di scegliere gli input\n",
        "\n",
        "* **pyplot** per la rappresentazione grafica dei risultati"
      ],
      "metadata": {
        "id": "35yCw13F7Yam"
      }
    },
    {
      "cell_type": "code",
      "execution_count": 26,
      "metadata": {
        "id": "TAxUPZupC-qR"
      },
      "outputs": [],
      "source": [
        "import numpy as np\n",
        "from ipywidgets import interact, interact_manual\n",
        "from matplotlib import pyplot as plt\n",
        "import math\n",
        "import seaborn as sns\n",
        "import random"
      ]
    },
    {
      "cell_type": "markdown",
      "source": [
        "##Elementi di python"
      ],
      "metadata": {
        "id": "XN5Whz1Y9fiZ"
      }
    },
    {
      "cell_type": "markdown",
      "source": [
        "Questa sezione è rivolta unicamente a chi non avesse ancora mai visto il python, allo scopo di mostrare alcune pratiche peculiari a Python."
      ],
      "metadata": {
        "id": "yHNFMDrk9pHX"
      }
    },
    {
      "cell_type": "markdown",
      "source": [
        "La funzione np.zeros(n) restituisce un array di zeri lungo n"
      ],
      "metadata": {
        "id": "kXZd8nfHDkHj"
      }
    },
    {
      "cell_type": "code",
      "source": [
        "np.zeros(5)"
      ],
      "metadata": {
        "colab": {
          "base_uri": "https://localhost:8080/"
        },
        "id": "Pukdrzg7-ggY",
        "outputId": "f208c924-ae01-4eb4-db8b-8acdd37c8a41"
      },
      "execution_count": null,
      "outputs": [
        {
          "output_type": "execute_result",
          "data": {
            "text/plain": [
              "array([0., 0., 0., 0., 0.])"
            ]
          },
          "metadata": {},
          "execution_count": 170
        }
      ]
    },
    {
      "cell_type": "markdown",
      "source": [
        "Specificando anche il type booleano facciamo una conversione: \n",
        "\n",
        "*  Gli zeri diventano False\n",
        "\n",
        "* I valori diversi da zero diventano True"
      ],
      "metadata": {
        "id": "VyLCyWeYDvuh"
      }
    },
    {
      "cell_type": "code",
      "source": [
        "esempio = np.zeros(10, dtype=np.bool)\n",
        "print(esempio)"
      ],
      "metadata": {
        "colab": {
          "base_uri": "https://localhost:8080/"
        },
        "id": "lO-15LDEDZEP",
        "outputId": "edf281f7-e14e-4bb1-db54-220f7faf28a6"
      },
      "execution_count": null,
      "outputs": [
        {
          "output_type": "stream",
          "name": "stdout",
          "text": [
            "[False False False False False False False False False False]\n"
          ]
        }
      ]
    },
    {
      "cell_type": "markdown",
      "source": [
        "Useremo questo tipo di struttura dati per simulare praticamente tutto, dalla roulette (True = rosso, False = nero) ad un urna di palline (quando ci basteranno 2 soli colori delle palline)"
      ],
      "metadata": {
        "id": "t-fqP7KSEIUu"
      }
    },
    {
      "cell_type": "markdown",
      "source": [
        "Questa struttura dati ci offre inol"
      ],
      "metadata": {
        "id": "YS53XnBHNuxD"
      }
    },
    {
      "cell_type": "markdown",
      "source": [
        "Per modificare un array il python ci offre uno strumento molto potente: lo slicing. Questa funzionalità permette di intervenire su un qualunque sottoinsieme dell'array se usata correttamente. A noi basta sapere che in un caso come esempio[1:5:2], stiamo intervenendo sull'array esempio, prendendo gli elementi dalla posizione 1 (inclusa) alla posizione 5 (esclusa) con passo 2:"
      ],
      "metadata": {
        "id": "OEyj-K9iEeQa"
      }
    },
    {
      "cell_type": "code",
      "source": [
        "esempio = ['a', 'b', 'c', 'd', 'e']\n",
        "esempio[1:5:2]"
      ],
      "metadata": {
        "colab": {
          "base_uri": "https://localhost:8080/"
        },
        "id": "48oF9noGF3Np",
        "outputId": "17682c17-9d21-4676-9020-255d455806cc"
      },
      "execution_count": null,
      "outputs": [
        {
          "output_type": "execute_result",
          "data": {
            "text/plain": [
              "['b', 'd']"
            ]
          },
          "metadata": {},
          "execution_count": 172
        }
      ]
    },
    {
      "cell_type": "markdown",
      "source": [
        "Non specificare il primo parametro significa partire dall'elemento 0, omettere il secondo significa procedere fino all'ultimo (compreso) e non specificare il passo significa passo 1: non saltare nessun elemento."
      ],
      "metadata": {
        "id": "Rm-4oAaOGvIL"
      }
    },
    {
      "cell_type": "markdown",
      "source": [
        "La funzione range(n) restituisce un iterabile lungo n. In python è generalmente usata nel ciclo for."
      ],
      "metadata": {
        "id": "b6PzabLwIH1d"
      }
    },
    {
      "cell_type": "code",
      "source": [
        "for i in range(5):\n",
        "  print(i)"
      ],
      "metadata": {
        "colab": {
          "base_uri": "https://localhost:8080/"
        },
        "id": "fdFx5oZPIaf5",
        "outputId": "a152933e-b3c3-43c6-b832-41c71d0bd939"
      },
      "execution_count": null,
      "outputs": [
        {
          "output_type": "stream",
          "name": "stdout",
          "text": [
            "0\n",
            "1\n",
            "2\n",
            "3\n",
            "4\n"
          ]
        }
      ]
    },
    {
      "cell_type": "markdown",
      "source": [
        "##Funzioni utili"
      ],
      "metadata": {
        "id": "UdZaaBfKzjzX"
      }
    },
    {
      "cell_type": "markdown",
      "source": [
        "Quelle che seguono sono funzioni utilizzate in più test del documento, per il corretto funzionamento dei test successivi è necessario eseguire queste celle una volta."
      ],
      "metadata": {
        "id": "iZFqSjhypj_Y"
      }
    },
    {
      "cell_type": "code",
      "source": [
        "#funzione che genera una roulette simulata da un array lungo 37 di cui 18 valori contano come \"vittoria\"\n",
        "def mk_roulette():\n",
        "  ruota = np.zeros(37, dtype=np.bool)\n",
        "  ruota[1::2] = True\n",
        "  return ruota"
      ],
      "metadata": {
        "id": "4LJOZHxd810N"
      },
      "execution_count": null,
      "outputs": []
    },
    {
      "cell_type": "code",
      "source": [
        "#funzione che simula una singola partita alla roulette (1 o più puntate uguali) e, dato il portafogli di partenza, torno il nuovo conto\n",
        "def partita(ruota, giocate, puntata, portafogli):\n",
        "  while(giocate > 0):\n",
        "      giocate = giocate - 1\n",
        "      portafogli = portafogli - puntata #la puntata la considero sempre persa, in caso di vittoria vinco il doppio della puntata\n",
        "      if(ruota[np.random.randint(0, (37))]): #estraggo un elemento casuale della roulette e verifico se è rosso\n",
        "        portafogli = portafogli + (puntata * 2)\n",
        "  return portafogli  "
      ],
      "metadata": {
        "id": "fqGFfq_CT7Tv"
      },
      "execution_count": null,
      "outputs": []
    },
    {
      "cell_type": "code",
      "source": [
        "#funzione che simula un dado ritornando un intero compreso tra 1 e 6\n",
        "def trow():\n",
        "  return np.random.randint(1, 7)"
      ],
      "metadata": {
        "id": "O7NiHEewS99d"
      },
      "execution_count": null,
      "outputs": []
    },
    {
      "cell_type": "code",
      "source": [
        "#funzione che ritorna un'urna contenente palline di 2 colori in quanità scelta\n",
        "def mk_urna(bianche, rosse):\n",
        "  tot = bianche + rosse\n",
        "  urna = np.zeros((tot, 1), dtype=np.bool)\n",
        "  while(rosse > 0):\n",
        "    rnd = np.random.randint(0, (tot))\n",
        "    if (not urna[rnd]):\n",
        "      urna[rnd] = True\n",
        "      rosse = rosse - 1\n",
        "  return urna"
      ],
      "metadata": {
        "id": "R06bqIr8Ii4G"
      },
      "execution_count": null,
      "outputs": []
    },
    {
      "cell_type": "markdown",
      "source": [
        "##Interpretazione dei risultati"
      ],
      "metadata": {
        "id": "EbFr-wXap_mS"
      }
    },
    {
      "cell_type": "markdown",
      "source": [
        "I test di questo documento hanno lo scopo di mostrare che le formule viste con la teoria del calcolo probabilistico hanno un riscontro nella realtà. \n",
        "Ogni test simulerà per un numero di volte a discrezione dello studente, lo scenario descritto dall'esempio in esame. Si noti che un numero più alto di ripetizioni porterà a risultati più precisi."
      ],
      "metadata": {
        "id": "Mp5-2IqZqDex"
      }
    },
    {
      "cell_type": "code",
      "source": [
        "def moneta(lanci):\n",
        "  results = []\n",
        "  for i in range(lanci): #lanciamo la moneta tante volte quante indicate dal parametro \"lanci\"\n",
        "    results.append(np.random.randint(2))\n",
        "  #grafico\n",
        "  labels = []\n",
        "  normalized = []\n",
        "  normalized.append(round(((results.count(0) / lanci) * 100), 2)) #conto le istanze dei risultati e le normalizzo\n",
        "  normalized.append(round(100 - sum(normalized), 2)) #per evitare che per errori di arrotondamento la somma dei risultati sia 99.9%, l'ultimo risultato lo calcolo come 100 - (la somma dei precedenti)\n",
        "  for i in range(len(normalized)):\n",
        "    labels.append(str(normalized[i]) + \"%\") # aggiungo le labels (i valori riportati all'esterno del grafico)\n",
        "  plt.pie(normalized, labels=labels)\n",
        "  legenda = [\"Testa\", \"Croce\"]\n",
        "  plt.legend(legenda,loc='upper center', bbox_to_anchor=(0.5, -0.05), fancybox=True, shadow=True, ncol=5)"
      ],
      "metadata": {
        "id": "pZxUQQ-_rGuz"
      },
      "execution_count": null,
      "outputs": []
    },
    {
      "cell_type": "code",
      "source": [
        "moneta(100)"
      ],
      "metadata": {
        "id": "7rynuIn1ubs4",
        "outputId": "22175c6d-6b15-4147-8a1d-1a9d1e91305e",
        "colab": {
          "base_uri": "https://localhost:8080/",
          "height": 282
        }
      },
      "execution_count": null,
      "outputs": [
        {
          "output_type": "display_data",
          "data": {
            "image/png": "[encoded data removed]",
            "text/plain": [
              "<Figure size 432x288 with 1 Axes>"
            ]
          },
          "metadata": {}
        }
      ]
    },
    {
      "cell_type": "code",
      "source": [
        "moneta(10_000)"
      ],
      "metadata": {
        "id": "E6dWQdxUud7o",
        "outputId": "e6ec2588-f9d4-4e2a-e1e3-bcf3c51219cf",
        "colab": {
          "base_uri": "https://localhost:8080/",
          "height": 282
        }
      },
      "execution_count": null,
      "outputs": [
        {
          "output_type": "display_data",
          "data": {
            "image/png": "[encoded data removed]",
            "text/plain": [
              "<Figure size 432x288 with 1 Axes>"
            ]
          },
          "metadata": {}
        }
      ]
    },
    {
      "cell_type": "code",
      "source": [
        "moneta(1_000_000)"
      ],
      "metadata": {
        "id": "uNmo8_dXugoY",
        "outputId": "d387300d-3b99-45a9-bce6-18643c22b68a",
        "colab": {
          "base_uri": "https://localhost:8080/",
          "height": 282
        }
      },
      "execution_count": null,
      "outputs": [
        {
          "output_type": "display_data",
          "data": {
            "image/png": "[encoded data removed]",
            "text/plain": [
              "<Figure size 432x288 with 1 Axes>"
            ]
          },
          "metadata": {}
        }
      ]
    },
    {
      "cell_type": "markdown",
      "source": [
        "Per un buon equilibrio tra accuratezza dei risultati e tempo di esecuzione impostiamo il numero di ripetizioni a 100 000 con la variabile \"precisione\"."
      ],
      "metadata": {
        "id": "0_jUagMkw72N"
      }
    },
    {
      "cell_type": "code",
      "source": [
        "precisione = 100_000"
      ],
      "metadata": {
        "id": "7YqOeAMoxunS"
      },
      "execution_count": 3,
      "outputs": []
    },
    {
      "cell_type": "markdown",
      "source": [
        "Si lascia allo studente la possibilità di incrementare questa variabile se desiderasse dei risultati più precisi."
      ],
      "metadata": {
        "id": "uH7_BXdBxvvq"
      }
    },
    {
      "cell_type": "markdown",
      "source": [
        "# Variabili aleatorie discrete"
      ],
      "metadata": {
        "id": "gQTrf-PK7FxE"
      }
    },
    {
      "cell_type": "markdown",
      "source": [
        "Una variabile aleatoria _X_ si dice discreta se i valori che assume sono finiti oppure numerabili.\n",
        "\n",
        "Nel caso siano numerabili molto spesso potremo pensare che siano semplicmente i numeri interi, ma non vogliamo escludere anche casi in cui abbiamo dei valori non interi."
      ],
      "metadata": {
        "id": "f7tQYrZgLgm2"
      }
    },
    {
      "cell_type": "markdown",
      "source": [
        "##Esempio 1.1 \n",
        "Faccio 3 puntate sul rosso alla roulette puntando 10 euro per volta, qual è la probabilità di vincere più di un certo valore _X_?\n",
        "\n",
        "(Le vincite possibili sono valori finiti ed è quindi una variabile discreta)"
      ],
      "metadata": {
        "id": "wO2wYqZ-DSZF"
      }
    },
    {
      "cell_type": "code",
      "source": [
        "@interact_manual(vincita=(0, 30))\n",
        "def roulette(vincita=5):\n",
        "  giocate = 3\n",
        "  puntata = 10\n",
        "  ruota = mk_roulette()\n",
        "  count = 0\n",
        "  for i in range(precisione):\n",
        "    portafogli = giocate * puntata\n",
        "    portafogli = partita(ruota, giocate, puntata, portafogli) #il portafogli viene aggiornato dopo aver simulato una partita\n",
        "    if((portafogli - 30) >= vincita): #se ho finito le 3 puntate con una vincita maggiore o uguale a quella sperata la aggiungo al conteggio\n",
        "      count = count + 1\n",
        "  return round(count / precisione, 3)"
      ],
      "metadata": {
        "colab": {
          "base_uri": "https://localhost:8080/",
          "height": 81,
          "referenced_widgets": [
            "cf21774c350a476aa2db5ebc76b459ba",
            "aaaae5ff97184c688d294fd685bc5677",
            "e3dc66b1768842d2bb3aa03bc35cc0fd",
            "c73236bd027645f4808aa7c58a68a9d5",
            "c0566d89eda64723a3ed48d048b6f3e3",
            "8c90f56ac1a04256a74d90768a5142db",
            "069d286f0b864c25a49ee98b30cdb951",
            "750b094c35a249339a310f0c17b8fceb",
            "ef18555fd4b14019a79c4d4940137d63",
            "b9c750a4ea5a46c4b90e748b03133e46"
          ]
        },
        "id": "w2ugmhMy_cfa",
        "outputId": "cfa85f2d-9fdb-4fbb-b82f-9f267b4b09b0"
      },
      "execution_count": null,
      "outputs": [
        {
          "output_type": "display_data",
          "data": {
            "application/vnd.jupyter.widget-view+json": {
              "model_id": "cf21774c350a476aa2db5ebc76b459ba",
              "version_minor": 0,
              "version_major": 2
            },
            "text/plain": [
              "interactive(children=(IntSlider(value=5, description='vincita', max=30), Button(description='Run Interact', st…"
            ]
          },
          "metadata": {}
        }
      ]
    },
    {
      "cell_type": "markdown",
      "source": [
        "##Esempio 1.2\n",
        "Dati il numero di puntate ed i soldi scommessi ogni volta, quanto mi dovrei aspettare di aver vinto alla fine? (risultato in euro)"
      ],
      "metadata": {
        "id": "tTOcRD2kD_zf"
      }
    },
    {
      "cell_type": "code",
      "source": [
        "@interact_manual(giocate=(1, 10), puntata=(5, 100, 5))\n",
        "def roulette(giocate = 3, puntata = 10):\n",
        "  portafogli = giocate * puntata * precisione\n",
        "  ruota = mk_roulette()\n",
        "  for i in range(precisione):\n",
        "    portafogli = partita(ruota, giocate, puntata, portafogli)\n",
        "  portafogli = portafogli / precisione\n",
        "  return round(portafogli - (giocate * puntata), 2)"
      ],
      "metadata": {
        "colab": {
          "base_uri": "https://localhost:8080/",
          "height": 113,
          "referenced_widgets": [
            "55209b43be0c4784a96adee14acade08",
            "bc73e34ddae743e9a93774594365ef40",
            "54ea807e174047a4bf074df69daa1a4f",
            "85f8fcffed224e37b72d434fd6ef0582",
            "a7f0848a74414f83929b10454d0e7fc8",
            "f17703deb7c5492caf894dc5bfa73996",
            "46a2807e4782442186e96cc2ff2c729f",
            "57b34406a15744af8281350d45d6fc14",
            "866e48ff68114a469dd16948536eafd3",
            "5bcb8d9d73f7404183416cb83a9ba020",
            "11cf8db53baf497fae28bde8c073d376",
            "7f81500905dc4aec9740fd07b9023a74",
            "96ae9c6394264a79a70b21714f4a9920"
          ]
        },
        "id": "TR8QkEnHD-B2",
        "outputId": "90782af4-4a0f-425e-fd6a-f738c67320bc"
      },
      "execution_count": null,
      "outputs": [
        {
          "output_type": "display_data",
          "data": {
            "application/vnd.jupyter.widget-view+json": {
              "model_id": "55209b43be0c4784a96adee14acade08",
              "version_minor": 0,
              "version_major": 2
            },
            "text/plain": [
              "interactive(children=(IntSlider(value=3, description='giocate', max=10, min=1), IntSlider(value=10, descriptio…"
            ]
          },
          "metadata": {}
        }
      ]
    },
    {
      "cell_type": "markdown",
      "source": [
        "# Distribuzione uniforme e non uniforme"
      ],
      "metadata": {
        "id": "qBnKgfwaLT9x"
      }
    },
    {
      "cell_type": "markdown",
      "source": [
        "Sia _A_ = {_x1_, . . . , _xn_}; una variabile _X_ che assume i valori in _A_ tutti con la stessa probabilità $\\frac{1}{n}$\n",
        "si dice _variabile uniforme_ su _A_. Scriviamo in questo caso _X_ ∼ _U_(_A_) oppure _X_ ∼ _U_(_x1_, . . . , _xn_).\n",
        "La densità è quindi:\n",
        "\n",
        "\\begin{equation}\n",
        "  px(h) =\n",
        "    \\begin{cases}\n",
        "           \\frac{1}{n} \\ se \\  h  \\ ∈ \\ ({x1}, {x2}, ..., {xn})\n",
        "          \\\\\n",
        "          0 \\ altrimenti\n",
        "        \\end{cases}\n",
        "\\end{equation}"
      ],
      "metadata": {
        "id": "GUQzPwZ8NK0Q"
      }
    },
    {
      "cell_type": "markdown",
      "source": [
        "##Esempio 2.1 \n",
        "Nel lancio di un dado sia Ω = {1, 2, 3, 4, 5, 6} l’insieme dei possibili risultati.\n",
        "Allora la funzione _X_(_n_) = n per ogni n ∈ Ω è una variabile aleatoria uniforme _X_ ∼ _U_(1, 2, 3, 4, 5, 6).\n"
      ],
      "metadata": {
        "id": "HJrqw0EbXj2l"
      }
    },
    {
      "cell_type": "code",
      "source": [
        "def dice():\n",
        "  results = []\n",
        "  for i in range(precisione):\n",
        "    results.append(trow()) #aggiungo il risultato del tiro alla lista dei risultati\n",
        "  #grafico\n",
        "  elem_count = []\n",
        "  labels = []\n",
        "  for i in range(len(set(results))): #conto le istanze di ogni risultato ottenuto ed aggiungo i totali a elem_count, poi lo metto a grafico\n",
        "    elem_count.append(results.count(i+1))\n",
        "    labels.append(str(i+1))\n",
        "  plt.bar(labels, elem_count)\n",
        "dice()"
      ],
      "metadata": {
        "colab": {
          "base_uri": "https://localhost:8080/",
          "height": 264
        },
        "id": "pO1ExmtATCeI",
        "outputId": "ca58def4-8619-46d5-dd58-7156dc0adec8"
      },
      "execution_count": null,
      "outputs": [
        {
          "output_type": "display_data",
          "data": {
            "image/png": "[encoded data removed]",
            "text/plain": [
              "<Figure size 432x288 with 1 Axes>"
            ]
          },
          "metadata": {
            "needs_background": "light"
          }
        }
      ]
    },
    {
      "cell_type": "markdown",
      "source": [
        "##Esempio 2.2\n",
        "Se invece lanciassimo due dadi, la variabile _X_ che assume un valore corrispondente al numero di risultati pari ottenuti dal lancio sarebbe una _variabile non uniforme_ siccome la sua densità sarebbe:\n",
        "\n",
        "\\begin{equation}\n",
        "  py(h) =\n",
        "    \\begin{cases}\n",
        "          \\frac{1}{4} \\  h={0},{2}\n",
        "          \\\\\n",
        "          \\frac{1}{2} \\ h={1}\n",
        "          \\\\\n",
        "          0 \\ altrimenti\n",
        "        \\end{cases}\n",
        "\\end{equation}"
      ],
      "metadata": {
        "id": "BZUNA1OvaQp6"
      }
    },
    {
      "cell_type": "code",
      "source": [
        "def even_dices():\n",
        "  results = []\n",
        "  for i in range(precisione):\n",
        "    a, b = trow(), trow() #lancio due dadi, poi conterò quanti sono pari per aggiungere il risultato alla lista\n",
        "    results.append(2-((a % 2)+(b % 2))) #conto i dadi pari come due meno i dadi dispari (n%2 = 1 per n dispari, 0 altrimenti)\n",
        "  valori = []\n",
        "  normalized = []\n",
        "  for i in range(3): #conto le istanze dei risultati e le divido per il numero di risultati totale (normalizzo)\n",
        "    normalized.append(results.count(i) / len(results)) #len(results) torna la lunghezza della lista results\n",
        "    valori.append(\"k=\" + str(i))\n",
        "  plt.pie(normalized, labels=valori)\n",
        "even_dices()"
      ],
      "metadata": {
        "colab": {
          "base_uri": "https://localhost:8080/",
          "height": 247
        },
        "id": "Ly_UKZkxZr2J",
        "outputId": "63059631-fd84-441a-b191-096ba75e0405"
      },
      "execution_count": null,
      "outputs": [
        {
          "output_type": "display_data",
          "data": {
            "image/png": "[encoded data removed]",
            "text/plain": [
              "<Figure size 432x288 with 1 Axes>"
            ]
          },
          "metadata": {}
        }
      ]
    },
    {
      "cell_type": "markdown",
      "source": [
        "#Densità binomiale"
      ],
      "metadata": {
        "id": "qimeQspadWgq"
      }
    },
    {
      "cell_type": "markdown",
      "source": [
        "Consideriamo un fenomeno aleatorio e un certo evento ad esso associato. Per semplicità diciamo che se l’evento si realizza otteniamo un “successo”, viceversa che abbiamo ottenuto un “insuccesso\".\n",
        "Uno schema successo-insuccesso consiste nel ripetere questo fenomeno un certo fissato numero di volte, dette anche prove o tentativi, in cui siamo interessati unicamente al numero di successi ottenuti\n",
        "nelle varie prove.\n",
        "Supponiamo ora che le prove siano indipendenti l’una dall’altra, cioè vengono effettuate tuttevnelle medesime condizioni, indipendentemente dal risultato delle prove precedenti: parliamo in questo caso di schema successo-insuccesso con ripetizione o a prove indipendenti. Consideriamo\n",
        "quindi la variabile X data dal numero di successi in n tentativi.\n",
        "Nel caso in cui le prove siano indipendenti l’una dall’altra, la probabilità di ottenere una certa prefissata sequenza di successi e insuccessi dipende solo dal numero di questi ultimi e non dall’ordine con cui vogliamo che si succedano. La probabilità di ottenere una sequenza fissata in cui abbiamo k successi e n − k insuccessi è data da\n",
        "$p^k(1-p)^{n-k}$, dove p è la probabilità che ogni singolo tentativo abbia successo. Siccome i modi in cui possiamo scegliere le k posizioni per i successi sono date da ${n\\choose k}$ otteniamo per la variabile X la densità data da\n",
        "\n",
        "\\begin{equation}\n",
        "  px(k) =\n",
        "    \\begin{cases}\n",
        "          {n\\choose k} p^k(1-p)^{n-k} \\ se \\ k=1,2,...,n\n",
        "          \\\\\n",
        "          0 \\ altrimenti\n",
        "        \\end{cases}\n",
        "\\end{equation}\n",
        "\n",
        "\n",
        "Scriveremo in questo caso _X_ ∼ _B_(_n_, _p_) e diciamo che _X_ è una variabile binomiale."
      ],
      "metadata": {
        "id": "OUh7jiOk7WSD"
      }
    },
    {
      "cell_type": "markdown",
      "source": [
        "##Esempio 3.1\n",
        "\n",
        "Supponiamo di andare al casinò con 15 Euro e puntiamo 3 volte 5 Euro alla roulette sul rosso. Consideriamo la variabile aleatoria X data dai soldi che abbiamo in tasca alla fine delle 3 puntate. La probabilità di ottenere un numero rosso è di $\\frac{18}{37}$ ad ogni tentativo.\n",
        "Determinare la densità di X.\n",
        "La variabile X può assumere i valori 30, 20, 10, 0 a seconda di quanti rossi sono usciti. Abbiamo:\n",
        "\n",
        "P(X = 30) = $(\\frac{18}{37})^3$ = 0,115\n",
        "\n",
        "P(X = 20) = ${3\\choose 1}(\\frac{18}{37})^2 · \\frac{19}{37}$= 0, 365\n",
        "\n",
        "P(X = 10) = ${3\\choose 2}(\\frac{18}{37}) · (\\frac{19}{37})^2$ = 0,385\n",
        "\n",
        "P(X = 0) = $(\\frac{19}{37})^3$ = 0,135\n"
      ],
      "metadata": {
        "id": "O8PjzahWhrRr"
      }
    },
    {
      "cell_type": "code",
      "source": [
        "@interact_manual(giocate=(1, 6), puntata=(5, 100, 5))\n",
        "def roulette(giocate = 3, puntata = 5):\n",
        "  ruota = mk_roulette()\n",
        "  results = []\n",
        "  for i in range(precisione):\n",
        "    portafogli = giocate * puntata\n",
        "    portafogli = partita(ruota, giocate, puntata, portafogli)\n",
        "    results.append(portafogli)\n",
        "  #grafico\n",
        "  normalized = []\n",
        "  valori = []\n",
        "  for i in range(giocate):\n",
        "    normalized.append(round(((results.count(puntata*2*i) / precisione) * 100), 2)) #conto le istanze dei risultati e le normalizzo\n",
        "  normalized.append(round(100 - sum(normalized), 2)) #per evitare che per errori di arrotondamento la somma dei risultati sia 99.9%, l'ultimo risultato lo calcolo come 100 - (la somma dei precedenti)\n",
        "  labels = []\n",
        "  for i in range(len(normalized)):\n",
        "    labels.append(str(normalized[i]) + \"%\") # aggiungo le labels (i valori riportati all'esterno del grafico)\n",
        "  plt.pie(normalized, labels=labels)\n",
        "  legenda = []\n",
        "  for i in range(len(normalized)):\n",
        "    legenda.append(str(puntata*2*i))\n",
        "  plt.legend(legenda,loc='upper center', bbox_to_anchor=(0.5, -0.05), fancybox=True, shadow=True, ncol=5)"
      ],
      "metadata": {
        "id": "QDB96jXivO40",
        "outputId": "cfcdfd0f-ea22-4579-955e-a8f9c92cc557",
        "colab": {
          "base_uri": "https://localhost:8080/",
          "height": 113,
          "referenced_widgets": [
            "631b43261a94463d89558ab368c94de3",
            "ce439b3daa2847038f023ab175b290a2",
            "76b65a608a20492999208ed83bb81bdf",
            "c1402de1d0314e08b890a10483595187",
            "3307fcc76b9d4e87a65bdd2f63dc9ff6",
            "6148b91358f24feba4594619531b4f67",
            "f5c74b856f27411996f292243cccb88e",
            "61b2041ec3e04bfb97b6c4049dd04f53",
            "b750fd4b26f04172b162b1606bb54b98",
            "c2132949e9b2432bad7545330d9e6133",
            "d6a319d6bc03464a959eff61cfecf334",
            "f8d3604e960c4658bba1f240a892ccf2",
            "8f7ad2b42d694ffeaa6356e99553e431"
          ]
        }
      },
      "execution_count": null,
      "outputs": [
        {
          "output_type": "display_data",
          "data": {
            "application/vnd.jupyter.widget-view+json": {
              "model_id": "631b43261a94463d89558ab368c94de3",
              "version_minor": 0,
              "version_major": 2
            },
            "text/plain": [
              "interactive(children=(IntSlider(value=3, description='giocate', max=6, min=1), IntSlider(value=5, description=…"
            ]
          },
          "metadata": {}
        }
      ]
    },
    {
      "cell_type": "markdown",
      "source": [
        "# Densità ipergeometrica"
      ],
      "metadata": {
        "id": "9PjQr8MmCUYu"
      }
    },
    {
      "cell_type": "markdown",
      "source": [
        "\n",
        "Un altro tipo di schema successo-insuccesso è il cosiddetto schema successo-insuccesso _senza ripetizione_. In questo caso il fenomeno aleatorio consiste nell’estrazione di n palline, senza rimpiazzare di volta in volta la pallina estratta, da un'urna contenente b palline bianche e r palline rosse.\n",
        "Diciamo che la prova (estrazione) dà successo se viene estratta una pallina bianca e consideriamo la variabile X data dal numero di successi ottenuti, cioè dal numero di palline bianche estratte.\n",
        "\n",
        "\n",
        "Osserviamo che X può assumere tutti i valori tra max(0, n − r) e min(n, b): infatti se n > r siamo sicuri di pescare almeno n−r palline bianche e chiaramente il numero di bianche estratte non può superare nè il numero estrazioni nè il numero di palline bianche.\n",
        "\n",
        "Lo spazio Ω è dato da tutti i possibili sottoinsiemi di n oggetti (le palline estratte) scelti da un insieme di b + r oggetti (le palline\n",
        "disponibili), con probabilità uniforme. L’evento “X = k” è dato quindi da tutti i sottoinsiemi delle b + r palline costituiti da k palline bianche e n − k palline rosse. Le k bianche le posso scegliere in ${b\\choose k}$ modi. Le n − k rosse in ${r \\choose {n - k}}$ modi. Abbiamo quindi che la densità di X è data da\n",
        "\n",
        "\\begin{equation}\n",
        "  px(k) =\n",
        "    \\begin{cases}\n",
        "          \\frac{{b \\choose k} · {r \\choose n - k}}{b + r \\choose n} \\ se \\ k=max(0, n-r),...,min(n,b)\n",
        "          \\\\\n",
        "          0 \\ altrimenti\n",
        "        \\end{cases}\n",
        "\\end{equation}\n",
        "\n",
        "Scriviamo in questo caso X ∼ H(n; b, r) e diciamo che X è una variabile ipergeometrica."
      ],
      "metadata": {
        "id": "OnLdbdQjCbyl"
      }
    },
    {
      "cell_type": "markdown",
      "source": [
        "##Esempio 4.1\n",
        "Un’urna contiene 8 palline bianche e 2 rosse. Ne estraiamo 3 senza rimpiazzo.\n",
        "Qual è la probabilità di estrarne al più una rossa? In questo caso, a differenza del precedente abbiamo che la variabile X = numero di rosse estratte è una ipergeometrica X ∼ H(3; 2, 8) per\n",
        "cui\n",
        "\n",
        "P(_X_ ≤ 1) = P(_X_ = 0) + P(_X_ = 1) = $\\frac{{2 \\choose 0}·{8 \\choose 3}}{10 \\choose 3}$ + $\\frac{{2 \\choose 1}·{8 \\choose 2}}{10 \\choose 3}$ = $\\frac{14}{15}$ = 0.933"
      ],
      "metadata": {
        "id": "mqqc2UiZGaIY"
      }
    },
    {
      "cell_type": "code",
      "source": [
        "@interact_manual(estrazioni=(1, 10))\n",
        "def ipergeometrica(estrazioni=3):\n",
        "  bianche = 8\n",
        "  rosse = 2\n",
        "  urna = mk_urna(bianche, rosse)\n",
        "  results = 0\n",
        "  for i in range(precisione):\n",
        "    tmp = urna\n",
        "    count = 0\n",
        "    for i in range(estrazioni):\n",
        "      extr = np.random.randint(0, ((bianche + rosse)-i))\n",
        "      if(tmp[extr]):\n",
        "        count = count + 1\n",
        "      tmp = np.delete(tmp, extr)\n",
        "    if(count < 2):\n",
        "      results = results + 1  \n",
        "  return round(results / precisione, 3)"
      ],
      "metadata": {
        "id": "R0SjK_tkMtDv",
        "colab": {
          "base_uri": "https://localhost:8080/",
          "height": 81,
          "referenced_widgets": [
            "81a27c3194604ecd8ea6d5473e62cdd3",
            "acf24df08a66470fad84e130bf791236",
            "e5489c2c866044f48691c2e63c1d448a",
            "b3b3ba44cd3243559911904e3f0aeee8",
            "1cb3043361b143f6976786100a584f12",
            "fb7bf43091684a4e9f822fcbad1f9bcd",
            "73474db6cb9349a8bd8b2ec199ff5beb",
            "39698fb6543b44828dca67a6cf831f70",
            "64c0bf648696416e9a6344463fac912c",
            "88f333ce2fab46e28433120d629ec1a0"
          ]
        },
        "outputId": "ef75a011-fc2c-4779-e53c-3c51600329bc"
      },
      "execution_count": null,
      "outputs": [
        {
          "output_type": "display_data",
          "data": {
            "application/vnd.jupyter.widget-view+json": {
              "model_id": "81a27c3194604ecd8ea6d5473e62cdd3",
              "version_minor": 0,
              "version_major": 2
            },
            "text/plain": [
              "interactive(children=(IntSlider(value=3, description='estrazioni', max=10, min=1), Button(description='Run Int…"
            ]
          },
          "metadata": {}
        }
      ]
    },
    {
      "cell_type": "markdown",
      "source": [
        "#Densità geometrica - geometrica modificata"
      ],
      "metadata": {
        "id": "-GtoecXjUH1e"
      }
    },
    {
      "cell_type": "markdown",
      "source": [
        "In uno schema successo-insuccesso, anzichè al numero di successi ottenuti su n tentativi, potremmo essere interessati al numero di tentativi che devo effettuare prima di ottenere un successo."
      ],
      "metadata": {
        "id": "YBirGuNoUKbB"
      }
    },
    {
      "cell_type": "markdown",
      "source": [
        "##Esempio 5.1\n",
        "\n",
        "Consideriamo un’urna con 2 palline bianche e 3 rosse. Le estraggo senza\n",
        "rimpiazzo finchè non trovo una pallina rossa. Considero la variabile aleatoria X=numero di estrazioni per trovare una pallina rossa. X è una variabile finita in quanto assume solo i valori 1, 2, 3.\n",
        "La sua densità si determina facilmente ed è data da\n",
        "\n",
        "\\begin{equation}\n",
        "  px(k) =\n",
        "    \\begin{cases}\n",
        "          \\frac{6}{10} \\ se \\ k=1\n",
        "          \\\\\n",
        "          \\frac{3}{10} \\ se \\ k=2\n",
        "          \\\\\n",
        "          \\frac{1}{10} \\ se \\ k=3\n",
        "          \\\\\n",
        "          0 \\ altrimenti\n",
        "        \\end{cases}\n",
        "\\end{equation}\n",
        "\n"
      ],
      "metadata": {
        "id": "aXX1PJQLUX9Z"
      }
    },
    {
      "cell_type": "code",
      "source": [
        "@interact_manual(bianche=(1,5), rosse=(1, 5))\n",
        "def geometrica(bianche=2, rosse=3):\n",
        "  palle = mk_urna(bianche, rosse)\n",
        "  results = []\n",
        "  count=0\n",
        "  while(len(results) < precisione):\n",
        "    done = len(results)\n",
        "    tmp = palle\n",
        "    while(len(results) == done):\n",
        "      extr = np.random.randint(0, ((bianche+rosse)-count))\n",
        "      if(tmp[extr]):\n",
        "        results.append(count)\n",
        "        count=0\n",
        "      else:  \n",
        "        tmp = np.delete(tmp,extr)\n",
        "        count = count + 1\n",
        "  #grafico\n",
        "  labels = []\n",
        "  normalized = []\n",
        "  for i in range(len(set(results)) - 1): #len(set(n)) torna il numero di risultati distinti presenti in results\n",
        "    normalized.append(round(((results.count(i) / precisione) * 100), 2)) #conto le istanze dei risultati e le normalizzo\n",
        "  normalized.append(round(100 - sum(normalized), 2)) #per evitare che per errori di arrotondamento la somma dei risultati sia 99.9%, l'ultimo risultato lo calcolo come 100 - (la somma dei precedenti)\n",
        "  for i in range(len(normalized)):\n",
        "    labels.append(str(normalized[i]) + \"%\") # aggiungo le labels (i valori riportati all'esterno del grafico)\n",
        "  plt.pie(normalized, labels=labels)\n",
        "  legenda = []\n",
        "  for i in range(bianche + 1):\n",
        "    legenda.append(\"k=\"+str(i+1))\n",
        "  plt.legend(legenda,loc='upper center', bbox_to_anchor=(0.5, -0.05), fancybox=True, shadow=True, ncol=5)"
      ],
      "metadata": {
        "colab": {
          "base_uri": "https://localhost:8080/",
          "height": 113,
          "referenced_widgets": [
            "bc85f1ed70944525a07a1d351d71e142",
            "38efd26e7eb34eaa856795e2b686c7eb",
            "225a5f838fc948deb727c1b73c46410b",
            "76a4798a65954420a7b45d0cf12a57f3",
            "a6b38a82f81944ed9ba85af078d5ee26",
            "e8ccbfcfa3894f4982943c6ce99d4dc2",
            "41921098c2fe4dd196cf05d7fd270f05",
            "dc7b920ca8ff4ca18d2ad3204d9b4f1a",
            "dab445aac99a4fbbb34693a6fe1dadef",
            "779dad85f2f44fdf8da3efa13739f4e7",
            "58f10d0fb6fc441095c85dce7e849b92",
            "e7b74e4488ec42b2a58ed82e42bf0e8f",
            "a0318e8167d844f28c11b093fa8f4725"
          ]
        },
        "id": "5tLgoNi7f2YM",
        "outputId": "5ab50157-5a81-4e72-f570-c25ae64f17d5"
      },
      "execution_count": null,
      "outputs": [
        {
          "output_type": "display_data",
          "data": {
            "application/vnd.jupyter.widget-view+json": {
              "model_id": "bc85f1ed70944525a07a1d351d71e142",
              "version_minor": 0,
              "version_major": 2
            },
            "text/plain": [
              "interactive(children=(IntSlider(value=2, description='bianche', max=5, min=1), IntSlider(value=3, description=…"
            ]
          },
          "metadata": {}
        }
      ]
    },
    {
      "cell_type": "markdown",
      "source": [
        "##Esempio 5.2\n",
        "\n",
        "Ripetiamo l'esperimento precedente, ma questa volta rimpiazziamo la pallina ad ogni estrazione. La variabile X diventa numerabile e si ha\n",
        "\n",
        "\\begin{equation}\n",
        "  px(k) =\n",
        "    \\begin{cases}\n",
        "          (\\frac{2}{5})^{k-1}\\frac{3}{5} \\ se \\ k=1,2,3,...\n",
        "          \\\\\n",
        "          0 \\ altrimenti\n",
        "        \\end{cases}\n",
        "\\end{equation}\n",
        "\n",
        "Infatti richiedere X = k vuol dire aver ottenuto k − 1 insuccessi nei primi k − 1 tenativi (ognuno con probabilità $\\frac{2}{5}$) per poi finalmente ottenere un successo al k-esimo tentativo (con probabilità $\\frac{3}{5}$)"
      ],
      "metadata": {
        "id": "DPSi8KkVKH60"
      }
    },
    {
      "cell_type": "code",
      "source": [
        "@interact_manual(bianche=(1,5), rosse=(1, 5))\n",
        "def geometrica_mod(bianche=2, rosse=3):\n",
        "  palle = mk_urna(bianche, rosse)\n",
        "  results = []\n",
        "  count=0\n",
        "  while(len(results) < precisione):\n",
        "    done = len(results)\n",
        "    tmp = palle\n",
        "    while(len(results) == done):\n",
        "      extr = np.random.randint(0, (bianche+rosse))\n",
        "      if(tmp[extr]):\n",
        "        results.append(count)\n",
        "        count=0\n",
        "      else:  \n",
        "        count = count + 1\n",
        "  \n",
        "  #grafico risultati\n",
        "  labels = []\n",
        "  normalized = []\n",
        "  for i in range(len(set(results))): \n",
        "    normalized.append(round(((results.count(i) / precisione) * 100), 2))\n",
        "  for i in range(len(set(results))):\n",
        "    labels.append(str(i+1))\n",
        "  \n",
        "  #grafico teorico\n",
        "  teoria = []\n",
        "  for i in range(len(set(results))):\n",
        "    teoria.append(((bianche / (bianche + rosse))**(i)) * (rosse / (bianche + rosse)) * 100)\n",
        "\n",
        "  lab_arr = np.arange(len(labels))\n",
        "\n",
        "  w=0.4\n",
        "  plt.bar(lab_arr-(w/2), normalized, width=w)\n",
        "  plt.bar(lab_arr+(w/2), teoria, width=w)\n",
        "  plt.ylabel(\"Percentage\")\n",
        "  plt.xlabel(\"K\")\n",
        "  legenda = [\"Risultati ottenuti\", \"Risultati attesi\"]\n",
        "  plt.legend(legenda,loc='upper center', bbox_to_anchor=(0.5, -0.05), fancybox=True, shadow=True, ncol=5)"
      ],
      "metadata": {
        "colab": {
          "base_uri": "https://localhost:8080/",
          "height": 113,
          "referenced_widgets": [
            "9f194c75ac21431881610b9536699174",
            "4a19d77fd0da4868b7306b1a8f6f8b0f",
            "3639e1bb0a8b4c3a823a34dee996c212",
            "67be52e89a9e4382bc3dfc0670fd5064",
            "a58f4b4410fd4543b2ee831034b99f66",
            "ee315db5cc8a4fbbadc6b23bc275fc38",
            "7533932590604b6a98628b2db3c45e8b",
            "f765cea56b1d4b2bbabc65c6f048e682",
            "52840325a5d448d784421ededbfcffb7",
            "a8bd170b425044cbb538ab9c5fc4106b",
            "d24f858aa53f4013b184fbedbf65553e",
            "f2fa5a0ad1454408bde05a6a01e35ffe",
            "2dedeb4a68994ea1aa902a667f934793"
          ]
        },
        "id": "p-e8XTgnsSgC",
        "outputId": "ecbefab6-7d0f-44db-bc26-32cbed31d539"
      },
      "execution_count": null,
      "outputs": [
        {
          "output_type": "display_data",
          "data": {
            "application/vnd.jupyter.widget-view+json": {
              "model_id": "9f194c75ac21431881610b9536699174",
              "version_minor": 0,
              "version_major": 2
            },
            "text/plain": [
              "interactive(children=(IntSlider(value=2, description='bianche', max=5, min=1), IntSlider(value=3, description=…"
            ]
          },
          "metadata": {}
        }
      ]
    },
    {
      "cell_type": "markdown",
      "source": [
        "Quello appena visto è un esempio di _densità geometrica modificata_ che scriveremo come T ∼ Ḡ(_p_).\n",
        "\n",
        "Quando si parla di densità geometrica modificata? \n",
        "\n",
        "Si consideri uno schema successo-insuccesso con ripetizioni e prendiamo in esame la variabile T data dal tempo di primo successo. \n",
        "Se chiamiamo _Xi_ le variabili _B_(1, _p_) date da _Xi_ = 1 se l’i-esimo tentativo dà successo e _Xi_  = 0 altrimenti abbiamo come densità\n",
        "\n",
        "\\begin{equation}\n",
        "  px(k) =\n",
        "    \\begin{cases}\n",
        "          p(1-p)^{k-1} \\ se \\ k=1,2,3,...\n",
        "          \\\\\n",
        "          0 \\ altrimenti\n",
        "        \\end{cases}\n",
        "\\end{equation}"
      ],
      "metadata": {
        "id": "u9PHD5qa-xdK"
      }
    },
    {
      "cell_type": "markdown",
      "source": [
        "##Esempio 5.3\n",
        "\n",
        "Si lancino simultaneamente due dadi, uno rosso e uno blu. Ripetiamo questo\n",
        "esperimento finchè non otteniamo due 6. \n",
        "\n",
        "Poniamo X = primo lancio in cui il dado rosso ha dato 6,\n",
        "Y = primo lancio in cui il dado blu ha dato 6.\n",
        "\n",
        "\n",
        "Determinare inoltre la probabilità di ottenere 6 con il dado rosso prima di ottenere 6 con il dado blu.\n",
        "\n",
        "Abbiamo\n",
        "\n",
        "\\begin{equation}\n",
        "  1 = P(X < Y) + P(X > Y) + P(X = Y)\n",
        "\\end{equation}\n",
        "\n",
        "\\\\\n",
        "e chiaramente per simmetria del problema _P_(_X_ < _Y_) = _P_(_X_ > _Y_) da cui\n",
        "\n",
        "\\\\\n",
        "\n",
        "\\begin{equation}\n",
        "  P(X < Y)= \\frac {1-P(X = Y)}{2}\n",
        "\\end{equation}\n",
        "\n",
        "Ci basterà calcolare quindi _P_(_X_ =_Y_):\n",
        "\n",
        "\\\\\n",
        "\n",
        "\\begin{equation}\n",
        "  P(X = Y) = \\sum_{k=1}^\\infty P(X = Y = k) = \\sum_{k=1}^\\infty (\\frac{25}{36})^{k-1}·\\frac{1}{36} = \\frac{1}{1-\\frac{25}{36}}·\\frac{1}{36} = \\frac{1}{11}\n",
        "\\end{equation}\n",
        "\n",
        "\n",
        "dove abbiamo ancora utilizzato la somma di una serie geometrica, e quindi\n",
        "\n",
        "\\\\\n",
        "\n",
        "\\begin{equation}\n",
        "  P(X < Y) = \\frac{5}{11}\n",
        "\\end{equation}\n"
      ],
      "metadata": {
        "id": "yQRcoTTQmPxD"
      }
    },
    {
      "cell_type": "code",
      "source": [
        "def first_six():\n",
        "  num = 6\n",
        "  results = []\n",
        "  for i in range(precisione):\n",
        "    a, b = 0, 0\n",
        "    while a != num and b != num:\n",
        "      a, b = trow(), trow() \n",
        "      if a == num:\n",
        "        if b == num:\n",
        "          results.append(0)\n",
        "        else:\n",
        "          results.append(1)\n",
        "      if b == num:\n",
        "        results.append(2)  \n",
        "  #grafico\n",
        "  labels = []\n",
        "  normalized = []\n",
        "  myexplode = [0, 0.2, 0]\n",
        "  for i in range(len(set(results)) - 1): #len(set(n)) torna il numero di risultati distinti presenti in results\n",
        "    normalized.append(round(((results.count(i) / precisione) * 100), 2)) #conto le istanze dei risultati e le normalizzo\n",
        "  normalized.append(round(100 - sum(normalized), 2)) #per evitare che per errori di arrotondamento la somma dei risultati sia 99.9%, l'ultimo risultato lo calcolo come 100 - (la somma dei precedenti)\n",
        "  for i in range(len(normalized)):\n",
        "    labels.append(str(normalized[i]) + \"%\") # aggiungo le labels (i valori riportati all'esterno del grafico)\n",
        "\n",
        "  teoria = [1/11, 5/11, 5/11]\n",
        "  lab_teoria = [\"9.09%\", \"45.45%\", \"45.45%\"]\n",
        "\n",
        "  f, (ax1, ax2) = plt.subplots(1, 2)\n",
        "  ax1.pie(normalized, labels=labels,explode=myexplode, colors=[\"green\", \"red\", \"blue\"], shadow=True)\n",
        "  ax1.set_title(\"Risultati ottenuti\")\n",
        "  ax2.pie(teoria, labels=lab_teoria,explode=myexplode, colors=[\"green\", \"red\", \"blue\"], shadow=True)\n",
        "  ax2.set_title(\"Risultati attesi\")\n",
        "  \n",
        "  legenda = [\"X=Y\", \"X<Y\", \"X>Y\"]\n",
        "  ax1.legend(legenda,loc='upper left', bbox_to_anchor=(0.5, -0.05), fancybox=True, shadow=True, ncol=5)\n",
        "\n",
        "first_six()"
      ],
      "metadata": {
        "colab": {
          "base_uri": "https://localhost:8080/",
          "height": 230
        },
        "id": "6P-rc7pzfODB",
        "outputId": "58a9c509-14f0-436f-fcbd-561f256f0ccf"
      },
      "execution_count": null,
      "outputs": [
        {
          "output_type": "display_data",
          "data": {
            "image/png": "[encoded data removed]",
            "text/plain": [
              "<Figure size 432x288 with 2 Axes>"
            ]
          },
          "metadata": {}
        }
      ]
    },
    {
      "cell_type": "markdown",
      "source": [
        "#Densità di Poisson"
      ],
      "metadata": {
        "id": "hPfoVQ4tzLLR"
      }
    },
    {
      "cell_type": "markdown",
      "source": [
        "Se consideriamo una variabile binomiale _X_ ∼ _B_(_n_, _p_) in cui il numero _n_ di tentativi è molto grande e il parametro _p_ molto piccolo fare i conti con la densità binomiale risulta essere computazionalmente dispendioso. \n",
        "\n",
        "Facciamo un esempio:"
      ],
      "metadata": {
        "id": "7WQ9L3IXzNQo"
      }
    },
    {
      "cell_type": "markdown",
      "source": [
        "##Esempio 6.1\n",
        "\n",
        "Supponiamo che in una città nascano 10 000 bambini ogni anno e che ci\n",
        "sia una malattia rara che colpisce un bambino su 2 mila. Qual è la probabilità che quest’anno nascano più di 5 bambini affetti da questa malattia? \n",
        "\n",
        "La variabile _X_ = ”numero di bambini nati con questa malattia quest’anno” è una variabile binomiale _X_ = _B_($10^4$, $\\frac{1}{2000}$). Tuttavia se\n",
        "proviamo ad effettuare il calcolo _P_(_X_ > 5), anche se abbiamo una formula esatta per effettuarlo, è inevitabilmente molto complesso.\n"
      ],
      "metadata": {
        "id": "VD0JenT7zaOx"
      }
    },
    {
      "cell_type": "markdown",
      "source": [
        "Per risolvere questo tipo di problema introduciamo la seguente\n",
        "\n",
        "\\\\\n",
        "\\begin{equation}\n",
        "  p(k) =\n",
        "    \\begin{cases}\n",
        "          e^{-λ} \\frac{λ^k}{k!} \\ se \\ k=0,1,2,...\n",
        "          \\\\\n",
        "          0 \\ altrimenti\n",
        "        \\end{cases}\n",
        "\\end{equation}\n",
        "\n",
        "\\\\\n",
        "\n",
        "dove λ è un parametro reale strettamente positivo."
      ],
      "metadata": {
        "id": "-07DvPlK0SRP"
      }
    },
    {
      "cell_type": "markdown",
      "source": [
        "Nel nostro esempio possiamo pensare alla variabile _X_ come ad una variabile di Poisson di parametro 5. \n",
        "\n",
        "Otteniamo:\n",
        "\n",
        "\\begin{equation}\n",
        "  P(X > 5) = 1 − P(X = 0) − P(X = 1) − P(X = 2) − P(X = 3) − P(X = 4) \n",
        "  \\\\\n",
        "  = 1 − e^{−5}(1 + 5 + \\frac{25}{2} + \\frac{125}{6} + \\frac{625}{24} + \\frac{3125}{120}) = 0, 384.\n",
        "\\end{equation}"
      ],
      "metadata": {
        "id": "fHA5WLXr2VKr"
      }
    },
    {
      "cell_type": "markdown",
      "source": [
        "Nella simulazione riportata sono simulati 100 anni, ripetendo l'esperimento si aggiungono i risultati dei test successivi e si può osservare come il grafico dei risultati ottenuti si avvicini a quello dei risultati attesi."
      ],
      "metadata": {
        "id": "aQ3YUomoewtG"
      }
    },
    {
      "cell_type": "code",
      "source": [
        "res_poisson = []"
      ],
      "metadata": {
        "id": "niF9fNy-AGHk"
      },
      "execution_count": 1,
      "outputs": []
    },
    {
      "cell_type": "code",
      "source": [
        "def poisson():\n",
        "  bambini = 10_000\n",
        "  malattia = 2_000\n",
        "  for i in range(1000):\n",
        "    count = 0\n",
        "    for i in range(bambini):\n",
        "      if np.random.randint(malattia) == 1:\n",
        "        count = count + 1\n",
        "    res_poisson.append(count)\n",
        "\n",
        "  #grafico risultati\n",
        "  labels = []\n",
        "  set_res = list(set(res_poisson))\n",
        "  normalized = []\n",
        "  for i in set_res: \n",
        "    normalized.append(round(((res_poisson.count(i) / len(res_poisson)) * 100), 2))\n",
        "    labels.append(str(i+1)) \n",
        " \n",
        "  #grafico teorico\n",
        "  teoria = []\n",
        "  lam = bambini / malattia\n",
        "  for i in set_res:\n",
        "    teoria.append((math.e**-lam)*((lam**i)/math.factorial(i)) * 100)\n",
        "\n",
        "  lab_arr = np.arange(len(labels))\n",
        "\n",
        "  w=0.4\n",
        "  plt.bar(lab_arr-(w/2), normalized, width=w)\n",
        "  plt.bar(lab_arr+(w/2), teoria, width=w)\n",
        "\n",
        "  legenda = [\"Risultati ottenuti\", \"Risultati attesi\"]\n",
        "  plt.legend(legenda,loc='upper center', bbox_to_anchor=(0.5, -0.05), fancybox=True, shadow=True, ncol=5)\n",
        "  print(\"Anni simulati: \" + str(len(res_poisson)))"
      ],
      "metadata": {
        "id": "L8XSvxDZMGZe"
      },
      "execution_count": 9,
      "outputs": []
    },
    {
      "cell_type": "code",
      "source": [
        "poisson()"
      ],
      "metadata": {
        "id": "H4CjxxyZ7Rxc",
        "colab": {
          "base_uri": "https://localhost:8080/",
          "height": 299
        },
        "outputId": "f67e0124-1c44-4205-e2c6-b6583d36d386"
      },
      "execution_count": 10,
      "outputs": [
        {
          "output_type": "stream",
          "name": "stdout",
          "text": [
            "Anni simulati: 1300\n"
          ]
        },
        {
          "output_type": "display_data",
          "data": {
            "image/png": "[encoded data removed]",
            "text/plain": [
              "<Figure size 432x288 with 1 Axes>"
            ]
          },
          "metadata": {
            "needs_background": "light"
          }
        }
      ]
    },
    {
      "cell_type": "markdown",
      "source": [
        "#Densità continua uniforme"
      ],
      "metadata": {
        "id": "2HvnAmIq9-iV"
      }
    },
    {
      "cell_type": "markdown",
      "source": [
        "La variabile continua più semplice da studiare è quella che può assumere solo valori in un certo intervallo limitato e in modo ”uniforme”."
      ],
      "metadata": {
        "id": "q-CPgnYeAXnr"
      }
    },
    {
      "cell_type": "markdown",
      "source": [
        "## Esempio 7.1\n",
        "\n",
        "Un autobus passa da una fermata ogni 10 minuti. Noi arriviamo alla fermata in un momento casuale, chiamiamo T la variabile del tempo d'attesa che assume valori tra 0 e 10 minuti. Mediamente, quanto dovrò aspettare?\n",
        "\n",
        "Di seguito sono riportati i grafici della densità e di partizione di tale problema:"
      ],
      "metadata": {
        "id": "AFabxKb1Ar4F"
      }
    },
    {
      "cell_type": "code",
      "source": [
        "#funzione che calcola il valore di x in ogni punto (densità continua uniforme)\n",
        "def densita(x, b):\n",
        "  res = []\n",
        "  for i in x:\n",
        "    if i < 0:\n",
        "      res.append(0)\n",
        "    elif i > b:\n",
        "      res.append(0)\n",
        "    else:\n",
        "      res.append(1 / b)\n",
        "  return res"
      ],
      "metadata": {
        "id": "G_5JWNvfHgIA"
      },
      "execution_count": 9,
      "outputs": []
    },
    {
      "cell_type": "code",
      "source": [
        "@interact_manual(tempo=(1, 20))\n",
        "def dcu_plot(tempo = 10):\n",
        "  results = []\n",
        "  for i in range(precisione):\n",
        "    results.append(random.uniform(0, tempo))\n",
        "  \n",
        "  x = np.linspace(-1, tempo + 1, 1000)\n",
        "\n",
        "  a = plt.figure(1)\n",
        "  ax = plt.axes()\n",
        "  ax.plot(x, densita(x, tempo))\n",
        "  ax.set_title(\"Densità\")\n",
        "  a.show()\n",
        "  b = plt.figure(2)\n",
        "  sns.displot(results, kind=\"ecdf\").set(title=\"Partizione\")\n",
        "  b.show() "
      ],
      "metadata": {
        "id": "v_fYQRbWCHfe",
        "outputId": "a1dd3293-fe15-4183-c8f3-ab2f53a91900",
        "colab": {
          "base_uri": "https://localhost:8080/",
          "height": 726,
          "referenced_widgets": [
            "a2218095719f46b59fc1a87f2ffea09d",
            "acaf9f1dde764dc39e15ef12d9a23941",
            "fcc048fa66d841b29cc767f8e9ab4195",
            "3bb07692e4dc451cb7be5bff8e5d4f7f",
            "e635d4cafa444163a7587efc4f19a7f8",
            "22e7f7e1ba0747b98ff05ba979a665f9",
            "33975d38e424420681ba35c899aed964",
            "414784296012482e8fe2991c82a7c5c2",
            "f4b2daf6f95b4b8b95281642fab29194",
            "194d26b0593f4285a223de46765b1775"
          ]
        }
      },
      "execution_count": 16,
      "outputs": [
        {
          "output_type": "display_data",
          "data": {
            "application/vnd.jupyter.widget-view+json": {
              "model_id": "a2218095719f46b59fc1a87f2ffea09d",
              "version_minor": 0,
              "version_major": 2
            },
            "text/plain": [
              "interactive(children=(IntSlider(value=10, description='tempo', max=20, min=1), Button(description='Run Interac…"
            ]
          },
          "metadata": {}
        }
      ]
    },
    {
      "cell_type": "markdown",
      "source": [
        "Per quanto riguarda la soluzione il valore atteso invece ci basta sapere che il valore atteso di una variabile uniforme è il punto medio dell'intervallo: 5 minuti."
      ],
      "metadata": {
        "id": "CO8fDJK3MDBv"
      }
    },
    {
      "cell_type": "code",
      "source": [
        "@interact_manual(tempo=(1, 20))\n",
        "def E_unif(tempo = 10):\n",
        "  results = []\n",
        "  for i in range(precisione):\n",
        "    results.append(random.uniform(0, tempo))\n",
        "  return round(np.mean(results), 2)"
      ],
      "metadata": {
        "id": "jG0a0YfTMiZi",
        "outputId": "e5ce249d-b733-4539-d5ce-d7874402e785",
        "colab": {
          "base_uri": "https://localhost:8080/",
          "height": 98,
          "referenced_widgets": [
            "d8cf1693281a4f8a8d1a504e56eae295",
            "571a770ee6724e23a986a7d14077df92",
            "e5c17fb3964a4d048c1af3c522695676",
            "a158023706674731af9449506d0dd606",
            "760ccb8f48b6480fabd04beb1d0f011f",
            "b3de6d222b4a456e8cb06fd27a100dea",
            "6e1b138c51fb4f79b6e55611f156875d",
            "63fdc42371394ee488e8135535f5ffcc",
            "e1a3a6bcb1fb431e933f1d7b3d8f20d9",
            "7e9ce6eff83b4ee18f4da808b79a4ce5"
          ]
        }
      },
      "execution_count": 18,
      "outputs": [
        {
          "output_type": "display_data",
          "data": {
            "application/vnd.jupyter.widget-view+json": {
              "model_id": "d8cf1693281a4f8a8d1a504e56eae295",
              "version_minor": 0,
              "version_major": 2
            },
            "text/plain": [
              "interactive(children=(IntSlider(value=10, description='tempo', max=20, min=1), Button(description='Run Interac…"
            ]
          },
          "metadata": {}
        }
      ]
    },
    {
      "cell_type": "code",
      "source": [
        "@interact_manual(tempo=(1, 20))\n",
        "def cont_unif(tempo = 10):\n",
        "  results = []\n",
        "  for i in range(precisione):\n",
        "    results.append(random.uniform(0, tempo))\n",
        "  sns.kdeplot(results,shade=True) \n",
        "  "
      ],
      "metadata": {
        "id": "0jzeXNlBHF0x",
        "colab": {
          "base_uri": "https://localhost:8080/",
          "height": 329,
          "referenced_widgets": [
            "a6e6bff357684a9dbbfb0868963bf48a",
            "f7f63172205b44d0b616670a0cbb73ea",
            "f75501d9b7ae41e19c79dd41c31baac0",
            "74b6665ead06494f8ac5cbdb3366fa00",
            "fc2a27b464d44253a7ba437517930e02",
            "847f68a9f63a48a9a4e648895de414d5",
            "f07bd8fe01f74e0e80a2d5ae430b8e66",
            "9b651c5bc6ee4bc3897454b5417bf074",
            "cd6b91330a6f40f2bee80841e0f09ce5",
            "fec22295aac34773a0de8867c9c02aa5"
          ]
        },
        "outputId": "b3db60f6-b46a-4616-f080-2216b2caf555"
      },
      "execution_count": 8,
      "outputs": [
        {
          "output_type": "display_data",
          "data": {
            "application/vnd.jupyter.widget-view+json": {
              "model_id": "a6e6bff357684a9dbbfb0868963bf48a",
              "version_minor": 0,
              "version_major": 2
            },
            "text/plain": [
              "interactive(children=(IntSlider(value=10, description='tempo', max=20, min=1), Button(description='Run Interac…"
            ]
          },
          "metadata": {}
        }
      ]
    },
    {
      "cell_type": "code",
      "source": [
        "@interact_manual(tempo=(1, 20))\n",
        "def cont_unif(tempo = 10):\n",
        "  results = []\n",
        "  for i in range(precisione):\n",
        "    results.append(random.uniform(0, tempo))\n",
        "  sns.displot(results, color=\"g\")"
      ],
      "metadata": {
        "colab": {
          "base_uri": "https://localhost:8080/",
          "height": 433,
          "referenced_widgets": [
            "1f1deda3420941b7a34e31d43312cdab",
            "e01e3c5cdbd64ba0a16b6a996c2f0fc3",
            "1c0b2a550a6e44c0812b846352f02269",
            "ed129afde1e04afe9ee2cc767e8c3161",
            "9027cf23a9d04e989e52d10ab751e040",
            "b5c815d6b9d54df38c275754f47b15ce",
            "54be7cafeeca4932ab107cf63d5bd9d5",
            "05ffd0ce42be4ed0826b771d8425d136",
            "93cec40b3ff24e6bb0f9f6db6d01672e",
            "77fa879ba02d4622af2568c87dbc3724"
          ]
        },
        "id": "__y9sIEV_oKM",
        "outputId": "710ca012-af0c-46b8-a651-4a1b7b273c8b"
      },
      "execution_count": 19,
      "outputs": [
        {
          "output_type": "display_data",
          "data": {
            "application/vnd.jupyter.widget-view+json": {
              "model_id": "1f1deda3420941b7a34e31d43312cdab",
              "version_minor": 0,
              "version_major": 2
            },
            "text/plain": [
              "interactive(children=(IntSlider(value=10, description='tempo', max=20, min=1), Button(description='Run Interac…"
            ]
          },
          "metadata": {}
        }
      ]
    },
    {
      "cell_type": "code",
      "source": [
        "#funzione che calcola il valore di x in ogni punto (densità continua uniforme)\n",
        "def densita_esp(x):\n",
        "  res = []\n",
        "  for i in x:\n",
        "    if i <= 0:\n",
        "      res.append(0)\n",
        "    else:\n",
        "      res.append(-math.log(i))\n",
        "  return res"
      ],
      "metadata": {
        "id": "Dop-HDg7JgeC"
      },
      "execution_count": 29,
      "outputs": []
    },
    {
      "cell_type": "code",
      "source": [
        "@interact_manual(tempo=(1, 20))\n",
        "def prova(tempo = 10):\n",
        "  x = np.linspace(-1, tempo + 1, 1000)\n",
        "\n",
        "  a = plt.figure(1)\n",
        "  ax = plt.axes()\n",
        "  ax.plot(x, densita_esp(densita(x, tempo)))\n",
        "  ax.set_title(\"Densità\")\n",
        "  a.show()"
      ],
      "metadata": {
        "id": "K8a9JIMgat-7",
        "outputId": "c32653ed-0c6f-436d-b55d-9d5127374dcf",
        "colab": {
          "base_uri": "https://localhost:8080/",
          "height": 345,
          "referenced_widgets": [
            "d9d5383bafc340bea4bf2d9337095ad1",
            "36e9769ec60f4787ab397ca9cc50d610",
            "86cb8f014a6a4d3dac707dac95058049",
            "51c43ab1eba648dea683c3f19867c2cc",
            "c84e8729db644a05aeddb60121589121",
            "5435bea6eec54380b9016ebf3bc87091",
            "c4372b17a79e42ee930b3fb610e8593e",
            "2a19cbda628c45eb8e2d321b1a0a6206",
            "599865dc020c498eaa838450b2599a14",
            "fab6f4433b8948f187c5913d553f9626"
          ]
        }
      },
      "execution_count": 30,
      "outputs": [
        {
          "output_type": "display_data",
          "data": {
            "application/vnd.jupyter.widget-view+json": {
              "model_id": "d9d5383bafc340bea4bf2d9337095ad1",
              "version_minor": 0,
              "version_major": 2
            },
            "text/plain": [
              "interactive(children=(IntSlider(value=10, description='tempo', max=20, min=1), Button(description='Run Interac…"
            ]
          },
          "metadata": {}
        }
      ]
    },
    {
      "cell_type": "code",
      "source": [
        ""
      ],
      "metadata": {
        "id": "HT_pigJia7mR"
      },
      "execution_count": null,
      "outputs": []
    }
  ]
}