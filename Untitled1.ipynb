{
  "nbformat": 4,
  "nbformat_minor": 0,
  "metadata": {
    "colab": {
      "name": "Untitled1.ipynb",
      "provenance": [],
      "toc_visible": true,
      "authorship_tag": "ABX9TyPQP30TNuvIJmqQVceLp9u5",
      "include_colab_link": true
    },
    "kernelspec": {
      "name": "python3",
      "display_name": "Python 3"
    },
    "language_info": {
      "name": "python"
    },
    "widgets": {
      "application/vnd.jupyter.widget-state+json": {
        "be46fb10c2fb42de92674b2d1bfc1e8c": {
          "model_module": "@jupyter-widgets/controls",
          "model_name": "VBoxModel",
          "model_module_version": "1.5.0",
          "state": {
            "_view_name": "VBoxView",
            "_dom_classes": [
              "widget-interact"
            ],
            "_model_name": "VBoxModel",
            "_view_module": "@jupyter-widgets/controls",
            "_model_module_version": "1.5.0",
            "_view_count": null,
            "_view_module_version": "1.5.0",
            "box_style": "",
            "layout": "IPY_MODEL_b004d5e2699e4f19a7ffedc9e9c2c3fa",
            "_model_module": "@jupyter-widgets/controls",
            "children": [
              "IPY_MODEL_4a712bb54cda4598a4185b21e96a44e1",
              "IPY_MODEL_91fe1c2088f94eaa9cde4ad7441aab2a",
              "IPY_MODEL_59931ed145ab4cca9b09f62d0770ad41"
            ]
          }
        },
        "b004d5e2699e4f19a7ffedc9e9c2c3fa": {
          "model_module": "@jupyter-widgets/base",
          "model_name": "LayoutModel",
          "model_module_version": "1.2.0",
          "state": {
            "_view_name": "LayoutView",
            "grid_template_rows": null,
            "right": null,
            "justify_content": null,
            "_view_module": "@jupyter-widgets/base",
            "overflow": null,
            "_model_module_version": "1.2.0",
            "_view_count": null,
            "flex_flow": null,
            "width": null,
            "min_width": null,
            "border": null,
            "align_items": null,
            "bottom": null,
            "_model_module": "@jupyter-widgets/base",
            "top": null,
            "grid_column": null,
            "overflow_y": null,
            "overflow_x": null,
            "grid_auto_flow": null,
            "grid_area": null,
            "grid_template_columns": null,
            "flex": null,
            "_model_name": "LayoutModel",
            "justify_items": null,
            "grid_row": null,
            "max_height": null,
            "align_content": null,
            "visibility": null,
            "align_self": null,
            "height": null,
            "min_height": null,
            "padding": null,
            "grid_auto_rows": null,
            "grid_gap": null,
            "max_width": null,
            "order": null,
            "_view_module_version": "1.2.0",
            "grid_template_areas": null,
            "object_position": null,
            "object_fit": null,
            "grid_auto_columns": null,
            "margin": null,
            "display": null,
            "left": null
          }
        },
        "4a712bb54cda4598a4185b21e96a44e1": {
          "model_module": "@jupyter-widgets/controls",
          "model_name": "IntSliderModel",
          "model_module_version": "1.5.0",
          "state": {
            "_view_name": "IntSliderView",
            "style": "IPY_MODEL_0f08ad834ffb4c1c91d23a7f4c999017",
            "_dom_classes": [],
            "description": "vincita",
            "step": 1,
            "_model_name": "IntSliderModel",
            "orientation": "horizontal",
            "max": 30,
            "_view_module": "@jupyter-widgets/controls",
            "_model_module_version": "1.5.0",
            "value": 0,
            "_view_count": null,
            "disabled": false,
            "_view_module_version": "1.5.0",
            "min": 0,
            "continuous_update": true,
            "readout_format": "d",
            "description_tooltip": null,
            "readout": true,
            "_model_module": "@jupyter-widgets/controls",
            "layout": "IPY_MODEL_ee3934712a4146459c9c8f07680d717a"
          }
        },
        "91fe1c2088f94eaa9cde4ad7441aab2a": {
          "model_module": "@jupyter-widgets/controls",
          "model_name": "ButtonModel",
          "model_module_version": "1.5.0",
          "state": {
            "_view_name": "ButtonView",
            "style": "IPY_MODEL_782be281cd384344967a0c67204b7afb",
            "_dom_classes": [],
            "description": "Run Interact",
            "_model_name": "ButtonModel",
            "button_style": "",
            "_view_module": "@jupyter-widgets/controls",
            "_model_module_version": "1.5.0",
            "tooltip": "",
            "_view_count": null,
            "disabled": false,
            "_view_module_version": "1.5.0",
            "layout": "IPY_MODEL_195f99c5166649d090921a8f6dc3b377",
            "_model_module": "@jupyter-widgets/controls",
            "icon": ""
          }
        },
        "59931ed145ab4cca9b09f62d0770ad41": {
          "model_module": "@jupyter-widgets/output",
          "model_name": "OutputModel",
          "model_module_version": "1.0.0",
          "state": {
            "_view_name": "OutputView",
            "msg_id": "",
            "_dom_classes": [],
            "_model_name": "OutputModel",
            "outputs": [
              {
                "output_type": "display_data",
                "data": {
                  "text/plain": "48.085"
                },
                "metadata": {}
              }
            ],
            "_view_module": "@jupyter-widgets/output",
            "_model_module_version": "1.0.0",
            "_view_count": null,
            "_view_module_version": "1.0.0",
            "layout": "IPY_MODEL_3b62ab618cde418da58a5b9cf69eb699",
            "_model_module": "@jupyter-widgets/output"
          }
        },
        "0f08ad834ffb4c1c91d23a7f4c999017": {
          "model_module": "@jupyter-widgets/controls",
          "model_name": "SliderStyleModel",
          "model_module_version": "1.5.0",
          "state": {
            "_view_name": "StyleView",
            "handle_color": null,
            "_model_name": "SliderStyleModel",
            "description_width": "",
            "_view_module": "@jupyter-widgets/base",
            "_model_module_version": "1.5.0",
            "_view_count": null,
            "_view_module_version": "1.2.0",
            "_model_module": "@jupyter-widgets/controls"
          }
        },
        "ee3934712a4146459c9c8f07680d717a": {
          "model_module": "@jupyter-widgets/base",
          "model_name": "LayoutModel",
          "model_module_version": "1.2.0",
          "state": {
            "_view_name": "LayoutView",
            "grid_template_rows": null,
            "right": null,
            "justify_content": null,
            "_view_module": "@jupyter-widgets/base",
            "overflow": null,
            "_model_module_version": "1.2.0",
            "_view_count": null,
            "flex_flow": null,
            "width": null,
            "min_width": null,
            "border": null,
            "align_items": null,
            "bottom": null,
            "_model_module": "@jupyter-widgets/base",
            "top": null,
            "grid_column": null,
            "overflow_y": null,
            "overflow_x": null,
            "grid_auto_flow": null,
            "grid_area": null,
            "grid_template_columns": null,
            "flex": null,
            "_model_name": "LayoutModel",
            "justify_items": null,
            "grid_row": null,
            "max_height": null,
            "align_content": null,
            "visibility": null,
            "align_self": null,
            "height": null,
            "min_height": null,
            "padding": null,
            "grid_auto_rows": null,
            "grid_gap": null,
            "max_width": null,
            "order": null,
            "_view_module_version": "1.2.0",
            "grid_template_areas": null,
            "object_position": null,
            "object_fit": null,
            "grid_auto_columns": null,
            "margin": null,
            "display": null,
            "left": null
          }
        },
        "782be281cd384344967a0c67204b7afb": {
          "model_module": "@jupyter-widgets/controls",
          "model_name": "ButtonStyleModel",
          "model_module_version": "1.5.0",
          "state": {
            "_view_name": "StyleView",
            "_model_name": "ButtonStyleModel",
            "_view_module": "@jupyter-widgets/base",
            "_model_module_version": "1.5.0",
            "_view_count": null,
            "button_color": null,
            "font_weight": "",
            "_view_module_version": "1.2.0",
            "_model_module": "@jupyter-widgets/controls"
          }
        },
        "195f99c5166649d090921a8f6dc3b377": {
          "model_module": "@jupyter-widgets/base",
          "model_name": "LayoutModel",
          "model_module_version": "1.2.0",
          "state": {
            "_view_name": "LayoutView",
            "grid_template_rows": null,
            "right": null,
            "justify_content": null,
            "_view_module": "@jupyter-widgets/base",
            "overflow": null,
            "_model_module_version": "1.2.0",
            "_view_count": null,
            "flex_flow": null,
            "width": null,
            "min_width": null,
            "border": null,
            "align_items": null,
            "bottom": null,
            "_model_module": "@jupyter-widgets/base",
            "top": null,
            "grid_column": null,
            "overflow_y": null,
            "overflow_x": null,
            "grid_auto_flow": null,
            "grid_area": null,
            "grid_template_columns": null,
            "flex": null,
            "_model_name": "LayoutModel",
            "justify_items": null,
            "grid_row": null,
            "max_height": null,
            "align_content": null,
            "visibility": null,
            "align_self": null,
            "height": null,
            "min_height": null,
            "padding": null,
            "grid_auto_rows": null,
            "grid_gap": null,
            "max_width": null,
            "order": null,
            "_view_module_version": "1.2.0",
            "grid_template_areas": null,
            "object_position": null,
            "object_fit": null,
            "grid_auto_columns": null,
            "margin": null,
            "display": null,
            "left": null
          }
        },
        "3b62ab618cde418da58a5b9cf69eb699": {
          "model_module": "@jupyter-widgets/base",
          "model_name": "LayoutModel",
          "model_module_version": "1.2.0",
          "state": {
            "_view_name": "LayoutView",
            "grid_template_rows": null,
            "right": null,
            "justify_content": null,
            "_view_module": "@jupyter-widgets/base",
            "overflow": null,
            "_model_module_version": "1.2.0",
            "_view_count": null,
            "flex_flow": null,
            "width": null,
            "min_width": null,
            "border": null,
            "align_items": null,
            "bottom": null,
            "_model_module": "@jupyter-widgets/base",
            "top": null,
            "grid_column": null,
            "overflow_y": null,
            "overflow_x": null,
            "grid_auto_flow": null,
            "grid_area": null,
            "grid_template_columns": null,
            "flex": null,
            "_model_name": "LayoutModel",
            "justify_items": null,
            "grid_row": null,
            "max_height": null,
            "align_content": null,
            "visibility": null,
            "align_self": null,
            "height": null,
            "min_height": null,
            "padding": null,
            "grid_auto_rows": null,
            "grid_gap": null,
            "max_width": null,
            "order": null,
            "_view_module_version": "1.2.0",
            "grid_template_areas": null,
            "object_position": null,
            "object_fit": null,
            "grid_auto_columns": null,
            "margin": null,
            "display": null,
            "left": null
          }
        },
        "8b81fbedfc3e4d87bc25b13d589811b5": {
          "model_module": "@jupyter-widgets/controls",
          "model_name": "VBoxModel",
          "model_module_version": "1.5.0",
          "state": {
            "_view_name": "VBoxView",
            "_dom_classes": [
              "widget-interact"
            ],
            "_model_name": "VBoxModel",
            "_view_module": "@jupyter-widgets/controls",
            "_model_module_version": "1.5.0",
            "_view_count": null,
            "_view_module_version": "1.5.0",
            "box_style": "",
            "layout": "IPY_MODEL_fed8adae7a4045a2b235bb2bd7f5a87d",
            "_model_module": "@jupyter-widgets/controls",
            "children": [
              "IPY_MODEL_cb1a9202720b4e0895fca8dab4ae1e4d",
              "IPY_MODEL_4ecb28c09eb74ca5b5aa6d05e7d3cdbc",
              "IPY_MODEL_506b996ffb474db488cea48787afffff",
              "IPY_MODEL_dfe578ddc87d4280a0ac42abefecddbe"
            ]
          }
        },
        "fed8adae7a4045a2b235bb2bd7f5a87d": {
          "model_module": "@jupyter-widgets/base",
          "model_name": "LayoutModel",
          "model_module_version": "1.2.0",
          "state": {
            "_view_name": "LayoutView",
            "grid_template_rows": null,
            "right": null,
            "justify_content": null,
            "_view_module": "@jupyter-widgets/base",
            "overflow": null,
            "_model_module_version": "1.2.0",
            "_view_count": null,
            "flex_flow": null,
            "width": null,
            "min_width": null,
            "border": null,
            "align_items": null,
            "bottom": null,
            "_model_module": "@jupyter-widgets/base",
            "top": null,
            "grid_column": null,
            "overflow_y": null,
            "overflow_x": null,
            "grid_auto_flow": null,
            "grid_area": null,
            "grid_template_columns": null,
            "flex": null,
            "_model_name": "LayoutModel",
            "justify_items": null,
            "grid_row": null,
            "max_height": null,
            "align_content": null,
            "visibility": null,
            "align_self": null,
            "height": null,
            "min_height": null,
            "padding": null,
            "grid_auto_rows": null,
            "grid_gap": null,
            "max_width": null,
            "order": null,
            "_view_module_version": "1.2.0",
            "grid_template_areas": null,
            "object_position": null,
            "object_fit": null,
            "grid_auto_columns": null,
            "margin": null,
            "display": null,
            "left": null
          }
        },
        "cb1a9202720b4e0895fca8dab4ae1e4d": {
          "model_module": "@jupyter-widgets/controls",
          "model_name": "IntSliderModel",
          "model_module_version": "1.5.0",
          "state": {
            "_view_name": "IntSliderView",
            "style": "IPY_MODEL_15e0118906614f2a898c666af9c2dfa0",
            "_dom_classes": [],
            "description": "giocate",
            "step": 1,
            "_model_name": "IntSliderModel",
            "orientation": "horizontal",
            "max": 10,
            "_view_module": "@jupyter-widgets/controls",
            "_model_module_version": "1.5.0",
            "value": 3,
            "_view_count": null,
            "disabled": false,
            "_view_module_version": "1.5.0",
            "min": 1,
            "continuous_update": true,
            "readout_format": "d",
            "description_tooltip": null,
            "readout": true,
            "_model_module": "@jupyter-widgets/controls",
            "layout": "IPY_MODEL_5bc924d36f644e6eadb90074297448c5"
          }
        },
        "4ecb28c09eb74ca5b5aa6d05e7d3cdbc": {
          "model_module": "@jupyter-widgets/controls",
          "model_name": "IntSliderModel",
          "model_module_version": "1.5.0",
          "state": {
            "_view_name": "IntSliderView",
            "style": "IPY_MODEL_5b30f9af68224dcf9f798909f8586cab",
            "_dom_classes": [],
            "description": "puntata",
            "step": 5,
            "_model_name": "IntSliderModel",
            "orientation": "horizontal",
            "max": 100,
            "_view_module": "@jupyter-widgets/controls",
            "_model_module_version": "1.5.0",
            "value": 10,
            "_view_count": null,
            "disabled": false,
            "_view_module_version": "1.5.0",
            "min": 5,
            "continuous_update": true,
            "readout_format": "d",
            "description_tooltip": null,
            "readout": true,
            "_model_module": "@jupyter-widgets/controls",
            "layout": "IPY_MODEL_7ee59282b751416e8a168c95ae3e6caa"
          }
        },
        "506b996ffb474db488cea48787afffff": {
          "model_module": "@jupyter-widgets/controls",
          "model_name": "ButtonModel",
          "model_module_version": "1.5.0",
          "state": {
            "_view_name": "ButtonView",
            "style": "IPY_MODEL_cf4752f7453f4d0bb32851e16c2d59b4",
            "_dom_classes": [],
            "description": "Run Interact",
            "_model_name": "ButtonModel",
            "button_style": "",
            "_view_module": "@jupyter-widgets/controls",
            "_model_module_version": "1.5.0",
            "tooltip": "",
            "_view_count": null,
            "disabled": false,
            "_view_module_version": "1.5.0",
            "layout": "IPY_MODEL_003751b9731547e69ac2a60821fa6bd8",
            "_model_module": "@jupyter-widgets/controls",
            "icon": ""
          }
        },
        "dfe578ddc87d4280a0ac42abefecddbe": {
          "model_module": "@jupyter-widgets/output",
          "model_name": "OutputModel",
          "model_module_version": "1.0.0",
          "state": {
            "_view_name": "OutputView",
            "msg_id": "",
            "_dom_classes": [],
            "_model_name": "OutputModel",
            "outputs": [
              {
                "output_type": "display_data",
                "data": {
                  "text/plain": "-0.69"
                },
                "metadata": {}
              }
            ],
            "_view_module": "@jupyter-widgets/output",
            "_model_module_version": "1.0.0",
            "_view_count": null,
            "_view_module_version": "1.0.0",
            "layout": "IPY_MODEL_d279ce3132514361bcc593f01fd7faaf",
            "_model_module": "@jupyter-widgets/output"
          }
        },
        "15e0118906614f2a898c666af9c2dfa0": {
          "model_module": "@jupyter-widgets/controls",
          "model_name": "SliderStyleModel",
          "model_module_version": "1.5.0",
          "state": {
            "_view_name": "StyleView",
            "handle_color": null,
            "_model_name": "SliderStyleModel",
            "description_width": "",
            "_view_module": "@jupyter-widgets/base",
            "_model_module_version": "1.5.0",
            "_view_count": null,
            "_view_module_version": "1.2.0",
            "_model_module": "@jupyter-widgets/controls"
          }
        },
        "5bc924d36f644e6eadb90074297448c5": {
          "model_module": "@jupyter-widgets/base",
          "model_name": "LayoutModel",
          "model_module_version": "1.2.0",
          "state": {
            "_view_name": "LayoutView",
            "grid_template_rows": null,
            "right": null,
            "justify_content": null,
            "_view_module": "@jupyter-widgets/base",
            "overflow": null,
            "_model_module_version": "1.2.0",
            "_view_count": null,
            "flex_flow": null,
            "width": null,
            "min_width": null,
            "border": null,
            "align_items": null,
            "bottom": null,
            "_model_module": "@jupyter-widgets/base",
            "top": null,
            "grid_column": null,
            "overflow_y": null,
            "overflow_x": null,
            "grid_auto_flow": null,
            "grid_area": null,
            "grid_template_columns": null,
            "flex": null,
            "_model_name": "LayoutModel",
            "justify_items": null,
            "grid_row": null,
            "max_height": null,
            "align_content": null,
            "visibility": null,
            "align_self": null,
            "height": null,
            "min_height": null,
            "padding": null,
            "grid_auto_rows": null,
            "grid_gap": null,
            "max_width": null,
            "order": null,
            "_view_module_version": "1.2.0",
            "grid_template_areas": null,
            "object_position": null,
            "object_fit": null,
            "grid_auto_columns": null,
            "margin": null,
            "display": null,
            "left": null
          }
        },
        "5b30f9af68224dcf9f798909f8586cab": {
          "model_module": "@jupyter-widgets/controls",
          "model_name": "SliderStyleModel",
          "model_module_version": "1.5.0",
          "state": {
            "_view_name": "StyleView",
            "handle_color": null,
            "_model_name": "SliderStyleModel",
            "description_width": "",
            "_view_module": "@jupyter-widgets/base",
            "_model_module_version": "1.5.0",
            "_view_count": null,
            "_view_module_version": "1.2.0",
            "_model_module": "@jupyter-widgets/controls"
          }
        },
        "7ee59282b751416e8a168c95ae3e6caa": {
          "model_module": "@jupyter-widgets/base",
          "model_name": "LayoutModel",
          "model_module_version": "1.2.0",
          "state": {
            "_view_name": "LayoutView",
            "grid_template_rows": null,
            "right": null,
            "justify_content": null,
            "_view_module": "@jupyter-widgets/base",
            "overflow": null,
            "_model_module_version": "1.2.0",
            "_view_count": null,
            "flex_flow": null,
            "width": null,
            "min_width": null,
            "border": null,
            "align_items": null,
            "bottom": null,
            "_model_module": "@jupyter-widgets/base",
            "top": null,
            "grid_column": null,
            "overflow_y": null,
            "overflow_x": null,
            "grid_auto_flow": null,
            "grid_area": null,
            "grid_template_columns": null,
            "flex": null,
            "_model_name": "LayoutModel",
            "justify_items": null,
            "grid_row": null,
            "max_height": null,
            "align_content": null,
            "visibility": null,
            "align_self": null,
            "height": null,
            "min_height": null,
            "padding": null,
            "grid_auto_rows": null,
            "grid_gap": null,
            "max_width": null,
            "order": null,
            "_view_module_version": "1.2.0",
            "grid_template_areas": null,
            "object_position": null,
            "object_fit": null,
            "grid_auto_columns": null,
            "margin": null,
            "display": null,
            "left": null
          }
        },
        "cf4752f7453f4d0bb32851e16c2d59b4": {
          "model_module": "@jupyter-widgets/controls",
          "model_name": "ButtonStyleModel",
          "model_module_version": "1.5.0",
          "state": {
            "_view_name": "StyleView",
            "_model_name": "ButtonStyleModel",
            "_view_module": "@jupyter-widgets/base",
            "_model_module_version": "1.5.0",
            "_view_count": null,
            "button_color": null,
            "font_weight": "",
            "_view_module_version": "1.2.0",
            "_model_module": "@jupyter-widgets/controls"
          }
        },
        "003751b9731547e69ac2a60821fa6bd8": {
          "model_module": "@jupyter-widgets/base",
          "model_name": "LayoutModel",
          "model_module_version": "1.2.0",
          "state": {
            "_view_name": "LayoutView",
            "grid_template_rows": null,
            "right": null,
            "justify_content": null,
            "_view_module": "@jupyter-widgets/base",
            "overflow": null,
            "_model_module_version": "1.2.0",
            "_view_count": null,
            "flex_flow": null,
            "width": null,
            "min_width": null,
            "border": null,
            "align_items": null,
            "bottom": null,
            "_model_module": "@jupyter-widgets/base",
            "top": null,
            "grid_column": null,
            "overflow_y": null,
            "overflow_x": null,
            "grid_auto_flow": null,
            "grid_area": null,
            "grid_template_columns": null,
            "flex": null,
            "_model_name": "LayoutModel",
            "justify_items": null,
            "grid_row": null,
            "max_height": null,
            "align_content": null,
            "visibility": null,
            "align_self": null,
            "height": null,
            "min_height": null,
            "padding": null,
            "grid_auto_rows": null,
            "grid_gap": null,
            "max_width": null,
            "order": null,
            "_view_module_version": "1.2.0",
            "grid_template_areas": null,
            "object_position": null,
            "object_fit": null,
            "grid_auto_columns": null,
            "margin": null,
            "display": null,
            "left": null
          }
        },
        "d279ce3132514361bcc593f01fd7faaf": {
          "model_module": "@jupyter-widgets/base",
          "model_name": "LayoutModel",
          "model_module_version": "1.2.0",
          "state": {
            "_view_name": "LayoutView",
            "grid_template_rows": null,
            "right": null,
            "justify_content": null,
            "_view_module": "@jupyter-widgets/base",
            "overflow": null,
            "_model_module_version": "1.2.0",
            "_view_count": null,
            "flex_flow": null,
            "width": null,
            "min_width": null,
            "border": null,
            "align_items": null,
            "bottom": null,
            "_model_module": "@jupyter-widgets/base",
            "top": null,
            "grid_column": null,
            "overflow_y": null,
            "overflow_x": null,
            "grid_auto_flow": null,
            "grid_area": null,
            "grid_template_columns": null,
            "flex": null,
            "_model_name": "LayoutModel",
            "justify_items": null,
            "grid_row": null,
            "max_height": null,
            "align_content": null,
            "visibility": null,
            "align_self": null,
            "height": null,
            "min_height": null,
            "padding": null,
            "grid_auto_rows": null,
            "grid_gap": null,
            "max_width": null,
            "order": null,
            "_view_module_version": "1.2.0",
            "grid_template_areas": null,
            "object_position": null,
            "object_fit": null,
            "grid_auto_columns": null,
            "margin": null,
            "display": null,
            "left": null
          }
        },
        "a969dd860f3a497dabd38b81735eb0b9": {
          "model_module": "@jupyter-widgets/controls",
          "model_name": "VBoxModel",
          "model_module_version": "1.5.0",
          "state": {
            "_view_name": "VBoxView",
            "_dom_classes": [
              "widget-interact"
            ],
            "_model_name": "VBoxModel",
            "_view_module": "@jupyter-widgets/controls",
            "_model_module_version": "1.5.0",
            "_view_count": null,
            "_view_module_version": "1.5.0",
            "box_style": "",
            "layout": "IPY_MODEL_ea444896b42e46b8b19fd7a96900f53a",
            "_model_module": "@jupyter-widgets/controls",
            "children": [
              "IPY_MODEL_34be3f92820d446f91aea50f532f512b",
              "IPY_MODEL_4734fcc8d2084e55b320e0ce9701c743",
              "IPY_MODEL_e476b7cdf7b64adeb11dad1c9979cd23",
              "IPY_MODEL_afc32933d2b945b6b5cfbd45eca100d0"
            ]
          }
        },
        "ea444896b42e46b8b19fd7a96900f53a": {
          "model_module": "@jupyter-widgets/base",
          "model_name": "LayoutModel",
          "model_module_version": "1.2.0",
          "state": {
            "_view_name": "LayoutView",
            "grid_template_rows": null,
            "right": null,
            "justify_content": null,
            "_view_module": "@jupyter-widgets/base",
            "overflow": null,
            "_model_module_version": "1.2.0",
            "_view_count": null,
            "flex_flow": null,
            "width": null,
            "min_width": null,
            "border": null,
            "align_items": null,
            "bottom": null,
            "_model_module": "@jupyter-widgets/base",
            "top": null,
            "grid_column": null,
            "overflow_y": null,
            "overflow_x": null,
            "grid_auto_flow": null,
            "grid_area": null,
            "grid_template_columns": null,
            "flex": null,
            "_model_name": "LayoutModel",
            "justify_items": null,
            "grid_row": null,
            "max_height": null,
            "align_content": null,
            "visibility": null,
            "align_self": null,
            "height": null,
            "min_height": null,
            "padding": null,
            "grid_auto_rows": null,
            "grid_gap": null,
            "max_width": null,
            "order": null,
            "_view_module_version": "1.2.0",
            "grid_template_areas": null,
            "object_position": null,
            "object_fit": null,
            "grid_auto_columns": null,
            "margin": null,
            "display": null,
            "left": null
          }
        },
        "34be3f92820d446f91aea50f532f512b": {
          "model_module": "@jupyter-widgets/controls",
          "model_name": "IntSliderModel",
          "model_module_version": "1.5.0",
          "state": {
            "_view_name": "IntSliderView",
            "style": "IPY_MODEL_42f9e752358946bebf2d8d440018d22e",
            "_dom_classes": [],
            "description": "giocate",
            "step": 1,
            "_model_name": "IntSliderModel",
            "orientation": "horizontal",
            "max": 6,
            "_view_module": "@jupyter-widgets/controls",
            "_model_module_version": "1.5.0",
            "value": 3,
            "_view_count": null,
            "disabled": false,
            "_view_module_version": "1.5.0",
            "min": 1,
            "continuous_update": true,
            "readout_format": "d",
            "description_tooltip": null,
            "readout": true,
            "_model_module": "@jupyter-widgets/controls",
            "layout": "IPY_MODEL_61d14b6e5e914a72be8742285e1bb0e3"
          }
        },
        "4734fcc8d2084e55b320e0ce9701c743": {
          "model_module": "@jupyter-widgets/controls",
          "model_name": "IntSliderModel",
          "model_module_version": "1.5.0",
          "state": {
            "_view_name": "IntSliderView",
            "style": "IPY_MODEL_50f17ce273614cacb7aa887f377dd6e6",
            "_dom_classes": [],
            "description": "puntata",
            "step": 5,
            "_model_name": "IntSliderModel",
            "orientation": "horizontal",
            "max": 100,
            "_view_module": "@jupyter-widgets/controls",
            "_model_module_version": "1.5.0",
            "value": 10,
            "_view_count": null,
            "disabled": false,
            "_view_module_version": "1.5.0",
            "min": 5,
            "continuous_update": true,
            "readout_format": "d",
            "description_tooltip": null,
            "readout": true,
            "_model_module": "@jupyter-widgets/controls",
            "layout": "IPY_MODEL_247f2442f1ef4ebeb4b9116b248220a2"
          }
        },
        "e476b7cdf7b64adeb11dad1c9979cd23": {
          "model_module": "@jupyter-widgets/controls",
          "model_name": "ButtonModel",
          "model_module_version": "1.5.0",
          "state": {
            "_view_name": "ButtonView",
            "style": "IPY_MODEL_3251be6565ce4be7af9a8e94309799ae",
            "_dom_classes": [],
            "description": "Run Interact",
            "_model_name": "ButtonModel",
            "button_style": "",
            "_view_module": "@jupyter-widgets/controls",
            "_model_module_version": "1.5.0",
            "tooltip": "",
            "_view_count": null,
            "disabled": false,
            "_view_module_version": "1.5.0",
            "layout": "IPY_MODEL_c5645862bb26473ca61411557206cddb",
            "_model_module": "@jupyter-widgets/controls",
            "icon": ""
          }
        },
        "afc32933d2b945b6b5cfbd45eca100d0": {
          "model_module": "@jupyter-widgets/output",
          "model_name": "OutputModel",
          "model_module_version": "1.0.0",
          "state": {
            "_view_name": "OutputView",
            "msg_id": "",
            "_dom_classes": [],
            "_model_name": "OutputModel",
            "outputs": [
              {
                "output_type": "display_data",
                "data": {
                  "image/png": "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\n",
                  "text/plain": "<Figure size 432x288 with 1 Axes>"
                },
                "metadata": {}
              }
            ],
            "_view_module": "@jupyter-widgets/output",
            "_model_module_version": "1.0.0",
            "_view_count": null,
            "_view_module_version": "1.0.0",
            "layout": "IPY_MODEL_0c546d75203643749642a732aa24ee83",
            "_model_module": "@jupyter-widgets/output"
          }
        },
        "42f9e752358946bebf2d8d440018d22e": {
          "model_module": "@jupyter-widgets/controls",
          "model_name": "SliderStyleModel",
          "model_module_version": "1.5.0",
          "state": {
            "_view_name": "StyleView",
            "handle_color": null,
            "_model_name": "SliderStyleModel",
            "description_width": "",
            "_view_module": "@jupyter-widgets/base",
            "_model_module_version": "1.5.0",
            "_view_count": null,
            "_view_module_version": "1.2.0",
            "_model_module": "@jupyter-widgets/controls"
          }
        },
        "61d14b6e5e914a72be8742285e1bb0e3": {
          "model_module": "@jupyter-widgets/base",
          "model_name": "LayoutModel",
          "model_module_version": "1.2.0",
          "state": {
            "_view_name": "LayoutView",
            "grid_template_rows": null,
            "right": null,
            "justify_content": null,
            "_view_module": "@jupyter-widgets/base",
            "overflow": null,
            "_model_module_version": "1.2.0",
            "_view_count": null,
            "flex_flow": null,
            "width": null,
            "min_width": null,
            "border": null,
            "align_items": null,
            "bottom": null,
            "_model_module": "@jupyter-widgets/base",
            "top": null,
            "grid_column": null,
            "overflow_y": null,
            "overflow_x": null,
            "grid_auto_flow": null,
            "grid_area": null,
            "grid_template_columns": null,
            "flex": null,
            "_model_name": "LayoutModel",
            "justify_items": null,
            "grid_row": null,
            "max_height": null,
            "align_content": null,
            "visibility": null,
            "align_self": null,
            "height": null,
            "min_height": null,
            "padding": null,
            "grid_auto_rows": null,
            "grid_gap": null,
            "max_width": null,
            "order": null,
            "_view_module_version": "1.2.0",
            "grid_template_areas": null,
            "object_position": null,
            "object_fit": null,
            "grid_auto_columns": null,
            "margin": null,
            "display": null,
            "left": null
          }
        },
        "50f17ce273614cacb7aa887f377dd6e6": {
          "model_module": "@jupyter-widgets/controls",
          "model_name": "SliderStyleModel",
          "model_module_version": "1.5.0",
          "state": {
            "_view_name": "StyleView",
            "handle_color": null,
            "_model_name": "SliderStyleModel",
            "description_width": "",
            "_view_module": "@jupyter-widgets/base",
            "_model_module_version": "1.5.0",
            "_view_count": null,
            "_view_module_version": "1.2.0",
            "_model_module": "@jupyter-widgets/controls"
          }
        },
        "247f2442f1ef4ebeb4b9116b248220a2": {
          "model_module": "@jupyter-widgets/base",
          "model_name": "LayoutModel",
          "model_module_version": "1.2.0",
          "state": {
            "_view_name": "LayoutView",
            "grid_template_rows": null,
            "right": null,
            "justify_content": null,
            "_view_module": "@jupyter-widgets/base",
            "overflow": null,
            "_model_module_version": "1.2.0",
            "_view_count": null,
            "flex_flow": null,
            "width": null,
            "min_width": null,
            "border": null,
            "align_items": null,
            "bottom": null,
            "_model_module": "@jupyter-widgets/base",
            "top": null,
            "grid_column": null,
            "overflow_y": null,
            "overflow_x": null,
            "grid_auto_flow": null,
            "grid_area": null,
            "grid_template_columns": null,
            "flex": null,
            "_model_name": "LayoutModel",
            "justify_items": null,
            "grid_row": null,
            "max_height": null,
            "align_content": null,
            "visibility": null,
            "align_self": null,
            "height": null,
            "min_height": null,
            "padding": null,
            "grid_auto_rows": null,
            "grid_gap": null,
            "max_width": null,
            "order": null,
            "_view_module_version": "1.2.0",
            "grid_template_areas": null,
            "object_position": null,
            "object_fit": null,
            "grid_auto_columns": null,
            "margin": null,
            "display": null,
            "left": null
          }
        },
        "3251be6565ce4be7af9a8e94309799ae": {
          "model_module": "@jupyter-widgets/controls",
          "model_name": "ButtonStyleModel",
          "model_module_version": "1.5.0",
          "state": {
            "_view_name": "StyleView",
            "_model_name": "ButtonStyleModel",
            "_view_module": "@jupyter-widgets/base",
            "_model_module_version": "1.5.0",
            "_view_count": null,
            "button_color": null,
            "font_weight": "",
            "_view_module_version": "1.2.0",
            "_model_module": "@jupyter-widgets/controls"
          }
        },
        "c5645862bb26473ca61411557206cddb": {
          "model_module": "@jupyter-widgets/base",
          "model_name": "LayoutModel",
          "model_module_version": "1.2.0",
          "state": {
            "_view_name": "LayoutView",
            "grid_template_rows": null,
            "right": null,
            "justify_content": null,
            "_view_module": "@jupyter-widgets/base",
            "overflow": null,
            "_model_module_version": "1.2.0",
            "_view_count": null,
            "flex_flow": null,
            "width": null,
            "min_width": null,
            "border": null,
            "align_items": null,
            "bottom": null,
            "_model_module": "@jupyter-widgets/base",
            "top": null,
            "grid_column": null,
            "overflow_y": null,
            "overflow_x": null,
            "grid_auto_flow": null,
            "grid_area": null,
            "grid_template_columns": null,
            "flex": null,
            "_model_name": "LayoutModel",
            "justify_items": null,
            "grid_row": null,
            "max_height": null,
            "align_content": null,
            "visibility": null,
            "align_self": null,
            "height": null,
            "min_height": null,
            "padding": null,
            "grid_auto_rows": null,
            "grid_gap": null,
            "max_width": null,
            "order": null,
            "_view_module_version": "1.2.0",
            "grid_template_areas": null,
            "object_position": null,
            "object_fit": null,
            "grid_auto_columns": null,
            "margin": null,
            "display": null,
            "left": null
          }
        },
        "0c546d75203643749642a732aa24ee83": {
          "model_module": "@jupyter-widgets/base",
          "model_name": "LayoutModel",
          "model_module_version": "1.2.0",
          "state": {
            "_view_name": "LayoutView",
            "grid_template_rows": null,
            "right": null,
            "justify_content": null,
            "_view_module": "@jupyter-widgets/base",
            "overflow": null,
            "_model_module_version": "1.2.0",
            "_view_count": null,
            "flex_flow": null,
            "width": null,
            "min_width": null,
            "border": null,
            "align_items": null,
            "bottom": null,
            "_model_module": "@jupyter-widgets/base",
            "top": null,
            "grid_column": null,
            "overflow_y": null,
            "overflow_x": null,
            "grid_auto_flow": null,
            "grid_area": null,
            "grid_template_columns": null,
            "flex": null,
            "_model_name": "LayoutModel",
            "justify_items": null,
            "grid_row": null,
            "max_height": null,
            "align_content": null,
            "visibility": null,
            "align_self": null,
            "height": null,
            "min_height": null,
            "padding": null,
            "grid_auto_rows": null,
            "grid_gap": null,
            "max_width": null,
            "order": null,
            "_view_module_version": "1.2.0",
            "grid_template_areas": null,
            "object_position": null,
            "object_fit": null,
            "grid_auto_columns": null,
            "margin": null,
            "display": null,
            "left": null
          }
        }
      }
    }
  },
  "cells": [
    {
      "cell_type": "markdown",
      "metadata": {
        "id": "view-in-github",
        "colab_type": "text"
      },
      "source": [
        "<a href=\"https://colab.research.google.com/github/MontiMic/Tesi/blob/riordinato/Untitled1.ipynb\" target=\"_parent\"><img src=\"https://colab.research.google.com/assets/colab-badge.svg\" alt=\"Open In Colab\"/></a>"
      ]
    },
    {
      "cell_type": "markdown",
      "source": [
        "# Introduzione\n",
        "La seguente presentazione si propone di semplificare l'apprendimento di alcuni principi del calcolo probabilistico offrendo la possibilità di vedere applicare le leggi su grandi numeri e confrontando i risultati ottenuti con quelli attesi dalla teoria."
      ],
      "metadata": {
        "id": "yyLelI9l5lbc"
      }
    },
    {
      "cell_type": "markdown",
      "source": [
        "Di seguito includiamo le librerie che verranno utilizzate nel corso della presentazione:\n",
        "\n",
        "* **numpy** per la manipolazione dei dati\n",
        "\n",
        "* **interact** per rendere la presentazione interattiva offrendo la possibilità allo studente di scegliere gli input\n",
        "\n",
        "* **pyplot** per la rappresentazione grafica dei risultati"
      ],
      "metadata": {
        "id": "35yCw13F7Yam"
      }
    },
    {
      "cell_type": "code",
      "execution_count": null,
      "metadata": {
        "id": "TAxUPZupC-qR"
      },
      "outputs": [],
      "source": [
        "import numpy as np\n",
        "from ipywidgets import interact, interact_manual\n",
        "from matplotlib import pyplot as plt"
      ]
    },
    {
      "cell_type": "markdown",
      "source": [
        "Con la variabile \"precisione\" regoliamo il numero di volte che gli esperimenti vengono ripetuti. \n",
        "\n",
        "Un numero più alto di ripetizioni comporta un miglioramento nell'accuratezza dei risultati a discapito del tempo di esecuzione.\n",
        "\n",
        "Il valore scelto come default è 100 000 col quale otteniamo risultati apprezzabili in pochi secondi. Per risultati più precisi è possibile incrementare questa variabile ma è sconsigliabile superare il milione (valore che garantisce risultati molto precisi ma che, negli esperimenti più complessi, comporta un tempo di esecuzione che supera il minuto)."
      ],
      "metadata": {
        "id": "LqpjPIbx8a4s"
      }
    },
    {
      "cell_type": "code",
      "source": [
        "precisione = 100_000"
      ],
      "metadata": {
        "id": "m6MqT7A-7Tj3"
      },
      "execution_count": null,
      "outputs": []
    },
    {
      "cell_type": "markdown",
      "source": [
        "# Variabili aleatorie discrete"
      ],
      "metadata": {
        "id": "gQTrf-PK7FxE"
      }
    },
    {
      "cell_type": "markdown",
      "source": [
        "Una variabile aleatoria X si dice discreta se i valori che assume sono finiti oppure numerabili.\n",
        "\n",
        "Nel caso siano numerabili molto spesso potremo pensare che siano semplicmente i numeri interi, ma non vogliamo escludere anche casi in cui abbiamo dei valori non interi."
      ],
      "metadata": {
        "id": "f7tQYrZgLgm2"
      }
    },
    {
      "cell_type": "markdown",
      "source": [
        "Esempio: Faccio 3 puntate alla roulette puntando 10 euro per volta, qual è la probabilità di vincere più di un certo valore X?\n",
        "\n",
        "(Le vincite possibili sono valori finiti ed è quindi una variabile discreta)"
      ],
      "metadata": {
        "id": "wO2wYqZ-DSZF"
      }
    },
    {
      "cell_type": "code",
      "source": [
        "@interact_manual(vincita=(0, 30))\n",
        "def roulette(vincita=0):\n",
        "  giocate = 3\n",
        "  puntata = 10\n",
        "  ruota = np.zeros((37, 1), dtype=np.bool)\n",
        "  ruota[1::2] = True\n",
        "  count = 0\n",
        "  for i in range(precisione):\n",
        "    portafogli = giocate * puntata\n",
        "    tentativi = giocate\n",
        "    while(tentativi > 0):\n",
        "      tentativi = tentativi - 1\n",
        "      portafogli = portafogli - puntata\n",
        "      if(ruota[np.random.randint(0, (37))]):\n",
        "        portafogli = portafogli + (puntata * 2)\n",
        "    if((portafogli - 30) >= vincita):\n",
        "      count = count + 1\n",
        "  return (count * 100) / precisione"
      ],
      "metadata": {
        "colab": {
          "base_uri": "https://localhost:8080/",
          "height": 98,
          "referenced_widgets": [
            "be46fb10c2fb42de92674b2d1bfc1e8c",
            "b004d5e2699e4f19a7ffedc9e9c2c3fa",
            "4a712bb54cda4598a4185b21e96a44e1",
            "91fe1c2088f94eaa9cde4ad7441aab2a",
            "59931ed145ab4cca9b09f62d0770ad41",
            "0f08ad834ffb4c1c91d23a7f4c999017",
            "ee3934712a4146459c9c8f07680d717a",
            "782be281cd384344967a0c67204b7afb",
            "195f99c5166649d090921a8f6dc3b377",
            "3b62ab618cde418da58a5b9cf69eb699"
          ]
        },
        "id": "w2ugmhMy_cfa",
        "outputId": "e43814bd-e3ba-4f07-961e-392d40c62554"
      },
      "execution_count": null,
      "outputs": [
        {
          "output_type": "display_data",
          "data": {
            "application/vnd.jupyter.widget-view+json": {
              "model_id": "be46fb10c2fb42de92674b2d1bfc1e8c",
              "version_minor": 0,
              "version_major": 2
            },
            "text/plain": [
              "interactive(children=(IntSlider(value=0, description='vincita', max=30), Button(description='Run Interact', st…"
            ]
          },
          "metadata": {}
        }
      ]
    },
    {
      "cell_type": "markdown",
      "source": [
        "Dati il numero di puntate ed i soldi scommessi ogni volta, quanto mi dovrei aspettare di aver vinto alla fine? (risultato in euro)"
      ],
      "metadata": {
        "id": "tTOcRD2kD_zf"
      }
    },
    {
      "cell_type": "code",
      "source": [
        "@interact_manual(giocate=(1, 10), puntata=(5, 100, 5))\n",
        "def roulette(giocate = 3, puntata = 10):\n",
        "  portafogli = giocate * puntata * precisione\n",
        "  ruota = np.zeros((37, 1), dtype=np.bool)\n",
        "  ruota[1::2] = True\n",
        "  for i in range(precisione):\n",
        "    tentativi = giocate\n",
        "    while(tentativi > 0):\n",
        "      tentativi = tentativi - 1\n",
        "      portafogli = portafogli - puntata\n",
        "      if(ruota[np.random.randint(0, (37))]):\n",
        "        portafogli = portafogli + (puntata * 2)\n",
        "  portafogli = portafogli / precisione\n",
        "  return round(portafogli - (giocate * puntata), 2)"
      ],
      "metadata": {
        "colab": {
          "base_uri": "https://localhost:8080/",
          "height": 130,
          "referenced_widgets": [
            "8b81fbedfc3e4d87bc25b13d589811b5",
            "fed8adae7a4045a2b235bb2bd7f5a87d",
            "cb1a9202720b4e0895fca8dab4ae1e4d",
            "4ecb28c09eb74ca5b5aa6d05e7d3cdbc",
            "506b996ffb474db488cea48787afffff",
            "dfe578ddc87d4280a0ac42abefecddbe",
            "15e0118906614f2a898c666af9c2dfa0",
            "5bc924d36f644e6eadb90074297448c5",
            "5b30f9af68224dcf9f798909f8586cab",
            "7ee59282b751416e8a168c95ae3e6caa",
            "cf4752f7453f4d0bb32851e16c2d59b4",
            "003751b9731547e69ac2a60821fa6bd8",
            "d279ce3132514361bcc593f01fd7faaf"
          ]
        },
        "id": "TR8QkEnHD-B2",
        "outputId": "55e23c0c-5da8-4fd0-a023-95ce8a943902"
      },
      "execution_count": null,
      "outputs": [
        {
          "output_type": "display_data",
          "data": {
            "application/vnd.jupyter.widget-view+json": {
              "model_id": "8b81fbedfc3e4d87bc25b13d589811b5",
              "version_minor": 0,
              "version_major": 2
            },
            "text/plain": [
              "interactive(children=(IntSlider(value=3, description='giocate', max=10, min=1), IntSlider(value=10, descriptio…"
            ]
          },
          "metadata": {}
        }
      ]
    },
    {
      "cell_type": "markdown",
      "source": [
        "# Distribuzione uniforme e non uniforme"
      ],
      "metadata": {
        "id": "qBnKgfwaLT9x"
      }
    },
    {
      "cell_type": "markdown",
      "source": [
        "Sia A = {x1, . . . , xn}; una variabile X che assume i valori in A tutti con la stessa probabilità $\\frac{1}{n}$\n",
        "si dice _variabile uniforme_ su A. Scriviamo in questo caso X ∼ U(A) oppure X ∼ U(x1, . . . , xn).\n",
        "La densità è quindi:\n",
        "\n",
        "\\begin{equation}\n",
        "  px(h) =\n",
        "    \\begin{cases}\n",
        "          1/n \\ se \\  h  \\ ∈ \\ ({x1}, {x2}, ..., {xn})\n",
        "          \\\\\n",
        "          0 \\ altrimenti\n",
        "        \\end{cases}\n",
        "\\end{equation}"
      ],
      "metadata": {
        "id": "GUQzPwZ8NK0Q"
      }
    },
    {
      "cell_type": "markdown",
      "source": [
        "Esempio: Nel lancio di un dado sia Ω = {1, 2, 3, 4, 5, 6} l’insieme dei possibili risultati.\n",
        "Allora la funzione X(n) = n per ogni n ∈ Ω è una variabile aleatoria uniforme X ∼ U(1, 2, 3, 4, 5, 6).\n"
      ],
      "metadata": {
        "id": "HJrqw0EbXj2l"
      }
    },
    {
      "cell_type": "code",
      "source": [
        "def trow():\n",
        "  return np.random.randint(1, 7)"
      ],
      "metadata": {
        "id": "O7NiHEewS99d"
      },
      "execution_count": null,
      "outputs": []
    },
    {
      "cell_type": "code",
      "source": [
        "def dice():\n",
        "  results = []\n",
        "  for i in range(precisione):\n",
        "    results.append(trow())\n",
        "  elem_count = []\n",
        "  for i in range(6):\n",
        "    elem_count.append(results.count(i+1))\n",
        "  plt.bar(range(1, 7), elem_count)\n",
        "  plt.title(\"Numero di volte ottenuto ciascun risultato\")\n",
        "dice()"
      ],
      "metadata": {
        "colab": {
          "base_uri": "https://localhost:8080/",
          "height": 281
        },
        "id": "pO1ExmtATCeI",
        "outputId": "c8fb0214-9b22-4a66-cdd0-7486362fb4d7"
      },
      "execution_count": null,
      "outputs": [
        {
          "output_type": "display_data",
          "data": {
            "image/png": "[encoded data removed]",
            "text/plain": [
              "<Figure size 432x288 with 1 Axes>"
            ]
          },
          "metadata": {
            "needs_background": "light"
          }
        }
      ]
    },
    {
      "cell_type": "markdown",
      "source": [
        "Se invece lanciassimo due dadi, la variabile X che assume un valore corrispondente al numero di risultati pari ottenuti dal lancio sarebbe una _variabile non uniforme_ siccome la sua densità sarebbe:\n",
        "\n",
        "\\begin{equation}\n",
        "  py(h) =\n",
        "    \\begin{cases}\n",
        "          1/4 \\  h={0},{2}\n",
        "          \\\\\n",
        "          1/2 \\ h={1}\n",
        "          \\\\\n",
        "          0 \\ altrimenti\n",
        "        \\end{cases}\n",
        "\\end{equation}"
      ],
      "metadata": {
        "id": "BZUNA1OvaQp6"
      }
    },
    {
      "cell_type": "code",
      "source": [
        "def even_dices():\n",
        "  results = []\n",
        "  for i in range(precisione):\n",
        "    a, b = trow(), trow()\n",
        "    results.append(2-((a % 2)+(b % 2)))\n",
        "  valori = []\n",
        "  normalized = []\n",
        "  for i in range(3):\n",
        "    normalized.append(results.count(i) / len(results))\n",
        "    valori.append(str(i))\n",
        "  plt.pie(normalized, labels=valori)\n",
        "even_dices()"
      ],
      "metadata": {
        "colab": {
          "base_uri": "https://localhost:8080/",
          "height": 248
        },
        "id": "Ly_UKZkxZr2J",
        "outputId": "081a2995-7302-484e-a3cf-6142522532d1"
      },
      "execution_count": null,
      "outputs": [
        {
          "output_type": "display_data",
          "data": {
            "image/png": "[encoded data removed]",
            "text/plain": [
              "<Figure size 432x288 with 1 Axes>"
            ]
          },
          "metadata": {}
        }
      ]
    },
    {
      "cell_type": "markdown",
      "source": [
        "#Variabile binomiale"
      ],
      "metadata": {
        "id": "qimeQspadWgq"
      }
    },
    {
      "cell_type": "markdown",
      "source": [
        "Cominciamo con un esempio:\n",
        "\n",
        "Supponiamo di andare al casinò con 15 Euro e puntiamo 3 volte 5 Euro alla roulette sul rosso. Consideriamo la variabile aleatoria X data dai soldi che abbiamo in tasca alla fine delle 3 puntate. La probabilità di ottenere un numero rosso è di $\\frac{18}{37}$ ad ogni tentativo.\n",
        "Determinare la densità di X.\n",
        "La variabile X può assumere i valori 30, 20, 10, 0 a seconda di quanti rossi sono usciti. Abbiamo:\n",
        "\n",
        "P(X = 30) = $(\\frac{18}{37})^3$ = 0,115\n",
        "\n",
        "P(X = 20) = $(\\frac{18}{37})^2 · \\frac{19}{37}$= 0, 365\n",
        "\n",
        "P(X = 10) = $(\\frac{18}{37}) · (\\frac{19}{37})^2$ = 0,385\n",
        "\n",
        "P(X = 0) = $(\\frac{19}{37})^3$ = 0,135\n"
      ],
      "metadata": {
        "id": "O8PjzahWhrRr"
      }
    },
    {
      "cell_type": "markdown",
      "source": [
        "Distribuzione delle vincite"
      ],
      "metadata": {
        "id": "WX6TgcWREZMY"
      }
    },
    {
      "cell_type": "code",
      "source": [
        "@interact_manual(giocate=(1, 6), puntata=(5, 100, 5))\n",
        "def roulette(giocate = 3, puntata = 10):\n",
        "  ruota = np.zeros((37, 1), dtype=np.bool)\n",
        "  ruota[1::2] = True\n",
        "  results = []\n",
        "  for i in range(precisione):\n",
        "    portafogli = giocate * puntata\n",
        "    tentativi = giocate\n",
        "    while(tentativi > 0):\n",
        "      tentativi = tentativi - 1\n",
        "      portafogli = portafogli - puntata\n",
        "      if(ruota[np.random.randint(0, (37))]):\n",
        "        portafogli = portafogli + (puntata * 2)\n",
        "    results.append(portafogli)\n",
        "  normalized = []\n",
        "  valori = []\n",
        "  for i in range(giocate):\n",
        "    normalized.append(round(((results.count(puntata*2*i) / precisione) * 100), 2))\n",
        "  normalized.append(round(100 - sum(normalized), 2))\n",
        "  legenda = []\n",
        "  for i in range(len(normalized)):\n",
        "    valori.append(str(normalized[i]) + \"%\")\n",
        "    legenda.append(str(puntata*2*i))\n",
        "  plt.pie(normalized, labels=valori)\n",
        "  plt.legend(legenda,loc='upper center', bbox_to_anchor=(0.5, -0.05),\n",
        "          fancybox=True, shadow=True, ncol=5)"
      ],
      "metadata": {
        "colab": {
          "base_uri": "https://localhost:8080/",
          "height": 378,
          "referenced_widgets": [
            "a969dd860f3a497dabd38b81735eb0b9",
            "ea444896b42e46b8b19fd7a96900f53a",
            "34be3f92820d446f91aea50f532f512b",
            "4734fcc8d2084e55b320e0ce9701c743",
            "e476b7cdf7b64adeb11dad1c9979cd23",
            "afc32933d2b945b6b5cfbd45eca100d0",
            "42f9e752358946bebf2d8d440018d22e",
            "61d14b6e5e914a72be8742285e1bb0e3",
            "50f17ce273614cacb7aa887f377dd6e6",
            "247f2442f1ef4ebeb4b9116b248220a2",
            "3251be6565ce4be7af9a8e94309799ae",
            "c5645862bb26473ca61411557206cddb",
            "0c546d75203643749642a732aa24ee83"
          ]
        },
        "id": "goQLULHOEVdX",
        "outputId": "5774529b-49a5-4256-8d62-a27336b5a881"
      },
      "execution_count": null,
      "outputs": [
        {
          "output_type": "display_data",
          "data": {
            "application/vnd.jupyter.widget-view+json": {
              "model_id": "a969dd860f3a497dabd38b81735eb0b9",
              "version_minor": 0,
              "version_major": 2
            },
            "text/plain": [
              "interactive(children=(IntSlider(value=3, description='giocate', max=6, min=1), IntSlider(value=10, description…"
            ]
          },
          "metadata": {}
        }
      ]
    },
    {
      "cell_type": "code",
      "source": [
        ""
      ],
      "metadata": {
        "id": "R0SjK_tkMtDv"
      },
      "execution_count": null,
      "outputs": []
    }
  ]
}