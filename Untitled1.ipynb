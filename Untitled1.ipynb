{
  "nbformat": 4,
  "nbformat_minor": 0,
  "metadata": {
    "colab": {
      "name": "Untitled1.ipynb",
      "provenance": [],
      "toc_visible": true,
      "collapsed_sections": [],
      "authorship_tag": "ABX9TyOHv3m4h7Vw0ZMT3ssv2Kkz",
      "include_colab_link": true
    },
    "kernelspec": {
      "name": "python3",
      "display_name": "Python 3"
    },
    "language_info": {
      "name": "python"
    },
    "widgets": {
      "application/vnd.jupyter.widget-state+json": {
        "04a7ac97fcb04f1c8b5b4bd3f9e8070a": {
          "model_module": "@jupyter-widgets/controls",
          "model_name": "VBoxModel",
          "model_module_version": "1.5.0",
          "state": {
            "_view_name": "VBoxView",
            "_dom_classes": [
              "widget-interact"
            ],
            "_model_name": "VBoxModel",
            "_view_module": "@jupyter-widgets/controls",
            "_model_module_version": "1.5.0",
            "_view_count": null,
            "_view_module_version": "1.5.0",
            "box_style": "",
            "layout": "IPY_MODEL_e6158fb0cea5482693b0597d6fe31c27",
            "_model_module": "@jupyter-widgets/controls",
            "children": [
              "IPY_MODEL_2a155cce9ac1461084450cd4fcef5827",
              "IPY_MODEL_9d37c7e283d64c2b8f5c7a538f19bc58",
              "IPY_MODEL_0e69be86b629474f97353dd40033e28b"
            ]
          }
        },
        "e6158fb0cea5482693b0597d6fe31c27": {
          "model_module": "@jupyter-widgets/base",
          "model_name": "LayoutModel",
          "model_module_version": "1.2.0",
          "state": {
            "_view_name": "LayoutView",
            "grid_template_rows": null,
            "right": null,
            "justify_content": null,
            "_view_module": "@jupyter-widgets/base",
            "overflow": null,
            "_model_module_version": "1.2.0",
            "_view_count": null,
            "flex_flow": null,
            "width": null,
            "min_width": null,
            "border": null,
            "align_items": null,
            "bottom": null,
            "_model_module": "@jupyter-widgets/base",
            "top": null,
            "grid_column": null,
            "overflow_y": null,
            "overflow_x": null,
            "grid_auto_flow": null,
            "grid_area": null,
            "grid_template_columns": null,
            "flex": null,
            "_model_name": "LayoutModel",
            "justify_items": null,
            "grid_row": null,
            "max_height": null,
            "align_content": null,
            "visibility": null,
            "align_self": null,
            "height": null,
            "min_height": null,
            "padding": null,
            "grid_auto_rows": null,
            "grid_gap": null,
            "max_width": null,
            "order": null,
            "_view_module_version": "1.2.0",
            "grid_template_areas": null,
            "object_position": null,
            "object_fit": null,
            "grid_auto_columns": null,
            "margin": null,
            "display": null,
            "left": null
          }
        },
        "2a155cce9ac1461084450cd4fcef5827": {
          "model_module": "@jupyter-widgets/controls",
          "model_name": "IntSliderModel",
          "model_module_version": "1.5.0",
          "state": {
            "_view_name": "IntSliderView",
            "style": "IPY_MODEL_6d472a1b05134a98bf40b5f58b73d795",
            "_dom_classes": [],
            "description": "vincita",
            "step": 1,
            "_model_name": "IntSliderModel",
            "orientation": "horizontal",
            "max": 30,
            "_view_module": "@jupyter-widgets/controls",
            "_model_module_version": "1.5.0",
            "value": 5,
            "_view_count": null,
            "disabled": false,
            "_view_module_version": "1.5.0",
            "min": 0,
            "continuous_update": true,
            "readout_format": "d",
            "description_tooltip": null,
            "readout": true,
            "_model_module": "@jupyter-widgets/controls",
            "layout": "IPY_MODEL_a25f696da2004076a3a4a1c2898228d7"
          }
        },
        "9d37c7e283d64c2b8f5c7a538f19bc58": {
          "model_module": "@jupyter-widgets/controls",
          "model_name": "ButtonModel",
          "model_module_version": "1.5.0",
          "state": {
            "_view_name": "ButtonView",
            "style": "IPY_MODEL_83713fa07c824116803640b483168356",
            "_dom_classes": [],
            "description": "Run Interact",
            "_model_name": "ButtonModel",
            "button_style": "",
            "_view_module": "@jupyter-widgets/controls",
            "_model_module_version": "1.5.0",
            "tooltip": "",
            "_view_count": null,
            "disabled": false,
            "_view_module_version": "1.5.0",
            "layout": "IPY_MODEL_139c35ef71704ba09f12f81faccbf80b",
            "_model_module": "@jupyter-widgets/controls",
            "icon": ""
          }
        },
        "0e69be86b629474f97353dd40033e28b": {
          "model_module": "@jupyter-widgets/output",
          "model_name": "OutputModel",
          "model_module_version": "1.0.0",
          "state": {
            "_view_name": "OutputView",
            "msg_id": "",
            "_dom_classes": [],
            "_model_name": "OutputModel",
            "outputs": [],
            "_view_module": "@jupyter-widgets/output",
            "_model_module_version": "1.0.0",
            "_view_count": null,
            "_view_module_version": "1.0.0",
            "layout": "IPY_MODEL_d87fa32f1bda446e83ba039e0b2eb9c3",
            "_model_module": "@jupyter-widgets/output"
          }
        },
        "6d472a1b05134a98bf40b5f58b73d795": {
          "model_module": "@jupyter-widgets/controls",
          "model_name": "SliderStyleModel",
          "model_module_version": "1.5.0",
          "state": {
            "_view_name": "StyleView",
            "handle_color": null,
            "_model_name": "SliderStyleModel",
            "description_width": "",
            "_view_module": "@jupyter-widgets/base",
            "_model_module_version": "1.5.0",
            "_view_count": null,
            "_view_module_version": "1.2.0",
            "_model_module": "@jupyter-widgets/controls"
          }
        },
        "a25f696da2004076a3a4a1c2898228d7": {
          "model_module": "@jupyter-widgets/base",
          "model_name": "LayoutModel",
          "model_module_version": "1.2.0",
          "state": {
            "_view_name": "LayoutView",
            "grid_template_rows": null,
            "right": null,
            "justify_content": null,
            "_view_module": "@jupyter-widgets/base",
            "overflow": null,
            "_model_module_version": "1.2.0",
            "_view_count": null,
            "flex_flow": null,
            "width": null,
            "min_width": null,
            "border": null,
            "align_items": null,
            "bottom": null,
            "_model_module": "@jupyter-widgets/base",
            "top": null,
            "grid_column": null,
            "overflow_y": null,
            "overflow_x": null,
            "grid_auto_flow": null,
            "grid_area": null,
            "grid_template_columns": null,
            "flex": null,
            "_model_name": "LayoutModel",
            "justify_items": null,
            "grid_row": null,
            "max_height": null,
            "align_content": null,
            "visibility": null,
            "align_self": null,
            "height": null,
            "min_height": null,
            "padding": null,
            "grid_auto_rows": null,
            "grid_gap": null,
            "max_width": null,
            "order": null,
            "_view_module_version": "1.2.0",
            "grid_template_areas": null,
            "object_position": null,
            "object_fit": null,
            "grid_auto_columns": null,
            "margin": null,
            "display": null,
            "left": null
          }
        },
        "83713fa07c824116803640b483168356": {
          "model_module": "@jupyter-widgets/controls",
          "model_name": "ButtonStyleModel",
          "model_module_version": "1.5.0",
          "state": {
            "_view_name": "StyleView",
            "_model_name": "ButtonStyleModel",
            "_view_module": "@jupyter-widgets/base",
            "_model_module_version": "1.5.0",
            "_view_count": null,
            "button_color": null,
            "font_weight": "",
            "_view_module_version": "1.2.0",
            "_model_module": "@jupyter-widgets/controls"
          }
        },
        "139c35ef71704ba09f12f81faccbf80b": {
          "model_module": "@jupyter-widgets/base",
          "model_name": "LayoutModel",
          "model_module_version": "1.2.0",
          "state": {
            "_view_name": "LayoutView",
            "grid_template_rows": null,
            "right": null,
            "justify_content": null,
            "_view_module": "@jupyter-widgets/base",
            "overflow": null,
            "_model_module_version": "1.2.0",
            "_view_count": null,
            "flex_flow": null,
            "width": null,
            "min_width": null,
            "border": null,
            "align_items": null,
            "bottom": null,
            "_model_module": "@jupyter-widgets/base",
            "top": null,
            "grid_column": null,
            "overflow_y": null,
            "overflow_x": null,
            "grid_auto_flow": null,
            "grid_area": null,
            "grid_template_columns": null,
            "flex": null,
            "_model_name": "LayoutModel",
            "justify_items": null,
            "grid_row": null,
            "max_height": null,
            "align_content": null,
            "visibility": null,
            "align_self": null,
            "height": null,
            "min_height": null,
            "padding": null,
            "grid_auto_rows": null,
            "grid_gap": null,
            "max_width": null,
            "order": null,
            "_view_module_version": "1.2.0",
            "grid_template_areas": null,
            "object_position": null,
            "object_fit": null,
            "grid_auto_columns": null,
            "margin": null,
            "display": null,
            "left": null
          }
        },
        "d87fa32f1bda446e83ba039e0b2eb9c3": {
          "model_module": "@jupyter-widgets/base",
          "model_name": "LayoutModel",
          "model_module_version": "1.2.0",
          "state": {
            "_view_name": "LayoutView",
            "grid_template_rows": null,
            "right": null,
            "justify_content": null,
            "_view_module": "@jupyter-widgets/base",
            "overflow": null,
            "_model_module_version": "1.2.0",
            "_view_count": null,
            "flex_flow": null,
            "width": null,
            "min_width": null,
            "border": null,
            "align_items": null,
            "bottom": null,
            "_model_module": "@jupyter-widgets/base",
            "top": null,
            "grid_column": null,
            "overflow_y": null,
            "overflow_x": null,
            "grid_auto_flow": null,
            "grid_area": null,
            "grid_template_columns": null,
            "flex": null,
            "_model_name": "LayoutModel",
            "justify_items": null,
            "grid_row": null,
            "max_height": null,
            "align_content": null,
            "visibility": null,
            "align_self": null,
            "height": null,
            "min_height": null,
            "padding": null,
            "grid_auto_rows": null,
            "grid_gap": null,
            "max_width": null,
            "order": null,
            "_view_module_version": "1.2.0",
            "grid_template_areas": null,
            "object_position": null,
            "object_fit": null,
            "grid_auto_columns": null,
            "margin": null,
            "display": null,
            "left": null
          }
        },
        "29db9fada3714673b87e74d9294a08a1": {
          "model_module": "@jupyter-widgets/controls",
          "model_name": "VBoxModel",
          "model_module_version": "1.5.0",
          "state": {
            "_view_name": "VBoxView",
            "_dom_classes": [
              "widget-interact"
            ],
            "_model_name": "VBoxModel",
            "_view_module": "@jupyter-widgets/controls",
            "_model_module_version": "1.5.0",
            "_view_count": null,
            "_view_module_version": "1.5.0",
            "box_style": "",
            "layout": "IPY_MODEL_80fc74105a854759ba9360c773311405",
            "_model_module": "@jupyter-widgets/controls",
            "children": [
              "IPY_MODEL_5c77f60697a241a59befac0dee4f5a84",
              "IPY_MODEL_5acb0a09e6294071a5029ae962831942",
              "IPY_MODEL_6359582d821f4dd4a6db6f0d81804565",
              "IPY_MODEL_ace2f6f1cb634416889b02dee1b7eb94"
            ]
          }
        },
        "80fc74105a854759ba9360c773311405": {
          "model_module": "@jupyter-widgets/base",
          "model_name": "LayoutModel",
          "model_module_version": "1.2.0",
          "state": {
            "_view_name": "LayoutView",
            "grid_template_rows": null,
            "right": null,
            "justify_content": null,
            "_view_module": "@jupyter-widgets/base",
            "overflow": null,
            "_model_module_version": "1.2.0",
            "_view_count": null,
            "flex_flow": null,
            "width": null,
            "min_width": null,
            "border": null,
            "align_items": null,
            "bottom": null,
            "_model_module": "@jupyter-widgets/base",
            "top": null,
            "grid_column": null,
            "overflow_y": null,
            "overflow_x": null,
            "grid_auto_flow": null,
            "grid_area": null,
            "grid_template_columns": null,
            "flex": null,
            "_model_name": "LayoutModel",
            "justify_items": null,
            "grid_row": null,
            "max_height": null,
            "align_content": null,
            "visibility": null,
            "align_self": null,
            "height": null,
            "min_height": null,
            "padding": null,
            "grid_auto_rows": null,
            "grid_gap": null,
            "max_width": null,
            "order": null,
            "_view_module_version": "1.2.0",
            "grid_template_areas": null,
            "object_position": null,
            "object_fit": null,
            "grid_auto_columns": null,
            "margin": null,
            "display": null,
            "left": null
          }
        },
        "5c77f60697a241a59befac0dee4f5a84": {
          "model_module": "@jupyter-widgets/controls",
          "model_name": "IntSliderModel",
          "model_module_version": "1.5.0",
          "state": {
            "_view_name": "IntSliderView",
            "style": "IPY_MODEL_20205042f3b44a2898f08ba088b47b9d",
            "_dom_classes": [],
            "description": "giocate",
            "step": 1,
            "_model_name": "IntSliderModel",
            "orientation": "horizontal",
            "max": 10,
            "_view_module": "@jupyter-widgets/controls",
            "_model_module_version": "1.5.0",
            "value": 3,
            "_view_count": null,
            "disabled": false,
            "_view_module_version": "1.5.0",
            "min": 1,
            "continuous_update": true,
            "readout_format": "d",
            "description_tooltip": null,
            "readout": true,
            "_model_module": "@jupyter-widgets/controls",
            "layout": "IPY_MODEL_54fe8ab3a95948f49a17602a03db729c"
          }
        },
        "5acb0a09e6294071a5029ae962831942": {
          "model_module": "@jupyter-widgets/controls",
          "model_name": "IntSliderModel",
          "model_module_version": "1.5.0",
          "state": {
            "_view_name": "IntSliderView",
            "style": "IPY_MODEL_f94d035eb8d4493a8f269517285db3b3",
            "_dom_classes": [],
            "description": "puntata",
            "step": 5,
            "_model_name": "IntSliderModel",
            "orientation": "horizontal",
            "max": 100,
            "_view_module": "@jupyter-widgets/controls",
            "_model_module_version": "1.5.0",
            "value": 10,
            "_view_count": null,
            "disabled": false,
            "_view_module_version": "1.5.0",
            "min": 5,
            "continuous_update": true,
            "readout_format": "d",
            "description_tooltip": null,
            "readout": true,
            "_model_module": "@jupyter-widgets/controls",
            "layout": "IPY_MODEL_309ac70117ec4a1eab20971b28d242b8"
          }
        },
        "6359582d821f4dd4a6db6f0d81804565": {
          "model_module": "@jupyter-widgets/controls",
          "model_name": "ButtonModel",
          "model_module_version": "1.5.0",
          "state": {
            "_view_name": "ButtonView",
            "style": "IPY_MODEL_e21dbe868588495982e7e00cc9377ec4",
            "_dom_classes": [],
            "description": "Run Interact",
            "_model_name": "ButtonModel",
            "button_style": "",
            "_view_module": "@jupyter-widgets/controls",
            "_model_module_version": "1.5.0",
            "tooltip": "",
            "_view_count": null,
            "disabled": false,
            "_view_module_version": "1.5.0",
            "layout": "IPY_MODEL_0eaa992b9a8249d6881cce7f07792314",
            "_model_module": "@jupyter-widgets/controls",
            "icon": ""
          }
        },
        "ace2f6f1cb634416889b02dee1b7eb94": {
          "model_module": "@jupyter-widgets/output",
          "model_name": "OutputModel",
          "model_module_version": "1.0.0",
          "state": {
            "_view_name": "OutputView",
            "msg_id": "",
            "_dom_classes": [],
            "_model_name": "OutputModel",
            "outputs": [],
            "_view_module": "@jupyter-widgets/output",
            "_model_module_version": "1.0.0",
            "_view_count": null,
            "_view_module_version": "1.0.0",
            "layout": "IPY_MODEL_967314bcc248457eb49b64682acd5369",
            "_model_module": "@jupyter-widgets/output"
          }
        },
        "20205042f3b44a2898f08ba088b47b9d": {
          "model_module": "@jupyter-widgets/controls",
          "model_name": "SliderStyleModel",
          "model_module_version": "1.5.0",
          "state": {
            "_view_name": "StyleView",
            "handle_color": null,
            "_model_name": "SliderStyleModel",
            "description_width": "",
            "_view_module": "@jupyter-widgets/base",
            "_model_module_version": "1.5.0",
            "_view_count": null,
            "_view_module_version": "1.2.0",
            "_model_module": "@jupyter-widgets/controls"
          }
        },
        "54fe8ab3a95948f49a17602a03db729c": {
          "model_module": "@jupyter-widgets/base",
          "model_name": "LayoutModel",
          "model_module_version": "1.2.0",
          "state": {
            "_view_name": "LayoutView",
            "grid_template_rows": null,
            "right": null,
            "justify_content": null,
            "_view_module": "@jupyter-widgets/base",
            "overflow": null,
            "_model_module_version": "1.2.0",
            "_view_count": null,
            "flex_flow": null,
            "width": null,
            "min_width": null,
            "border": null,
            "align_items": null,
            "bottom": null,
            "_model_module": "@jupyter-widgets/base",
            "top": null,
            "grid_column": null,
            "overflow_y": null,
            "overflow_x": null,
            "grid_auto_flow": null,
            "grid_area": null,
            "grid_template_columns": null,
            "flex": null,
            "_model_name": "LayoutModel",
            "justify_items": null,
            "grid_row": null,
            "max_height": null,
            "align_content": null,
            "visibility": null,
            "align_self": null,
            "height": null,
            "min_height": null,
            "padding": null,
            "grid_auto_rows": null,
            "grid_gap": null,
            "max_width": null,
            "order": null,
            "_view_module_version": "1.2.0",
            "grid_template_areas": null,
            "object_position": null,
            "object_fit": null,
            "grid_auto_columns": null,
            "margin": null,
            "display": null,
            "left": null
          }
        },
        "f94d035eb8d4493a8f269517285db3b3": {
          "model_module": "@jupyter-widgets/controls",
          "model_name": "SliderStyleModel",
          "model_module_version": "1.5.0",
          "state": {
            "_view_name": "StyleView",
            "handle_color": null,
            "_model_name": "SliderStyleModel",
            "description_width": "",
            "_view_module": "@jupyter-widgets/base",
            "_model_module_version": "1.5.0",
            "_view_count": null,
            "_view_module_version": "1.2.0",
            "_model_module": "@jupyter-widgets/controls"
          }
        },
        "309ac70117ec4a1eab20971b28d242b8": {
          "model_module": "@jupyter-widgets/base",
          "model_name": "LayoutModel",
          "model_module_version": "1.2.0",
          "state": {
            "_view_name": "LayoutView",
            "grid_template_rows": null,
            "right": null,
            "justify_content": null,
            "_view_module": "@jupyter-widgets/base",
            "overflow": null,
            "_model_module_version": "1.2.0",
            "_view_count": null,
            "flex_flow": null,
            "width": null,
            "min_width": null,
            "border": null,
            "align_items": null,
            "bottom": null,
            "_model_module": "@jupyter-widgets/base",
            "top": null,
            "grid_column": null,
            "overflow_y": null,
            "overflow_x": null,
            "grid_auto_flow": null,
            "grid_area": null,
            "grid_template_columns": null,
            "flex": null,
            "_model_name": "LayoutModel",
            "justify_items": null,
            "grid_row": null,
            "max_height": null,
            "align_content": null,
            "visibility": null,
            "align_self": null,
            "height": null,
            "min_height": null,
            "padding": null,
            "grid_auto_rows": null,
            "grid_gap": null,
            "max_width": null,
            "order": null,
            "_view_module_version": "1.2.0",
            "grid_template_areas": null,
            "object_position": null,
            "object_fit": null,
            "grid_auto_columns": null,
            "margin": null,
            "display": null,
            "left": null
          }
        },
        "e21dbe868588495982e7e00cc9377ec4": {
          "model_module": "@jupyter-widgets/controls",
          "model_name": "ButtonStyleModel",
          "model_module_version": "1.5.0",
          "state": {
            "_view_name": "StyleView",
            "_model_name": "ButtonStyleModel",
            "_view_module": "@jupyter-widgets/base",
            "_model_module_version": "1.5.0",
            "_view_count": null,
            "button_color": null,
            "font_weight": "",
            "_view_module_version": "1.2.0",
            "_model_module": "@jupyter-widgets/controls"
          }
        },
        "0eaa992b9a8249d6881cce7f07792314": {
          "model_module": "@jupyter-widgets/base",
          "model_name": "LayoutModel",
          "model_module_version": "1.2.0",
          "state": {
            "_view_name": "LayoutView",
            "grid_template_rows": null,
            "right": null,
            "justify_content": null,
            "_view_module": "@jupyter-widgets/base",
            "overflow": null,
            "_model_module_version": "1.2.0",
            "_view_count": null,
            "flex_flow": null,
            "width": null,
            "min_width": null,
            "border": null,
            "align_items": null,
            "bottom": null,
            "_model_module": "@jupyter-widgets/base",
            "top": null,
            "grid_column": null,
            "overflow_y": null,
            "overflow_x": null,
            "grid_auto_flow": null,
            "grid_area": null,
            "grid_template_columns": null,
            "flex": null,
            "_model_name": "LayoutModel",
            "justify_items": null,
            "grid_row": null,
            "max_height": null,
            "align_content": null,
            "visibility": null,
            "align_self": null,
            "height": null,
            "min_height": null,
            "padding": null,
            "grid_auto_rows": null,
            "grid_gap": null,
            "max_width": null,
            "order": null,
            "_view_module_version": "1.2.0",
            "grid_template_areas": null,
            "object_position": null,
            "object_fit": null,
            "grid_auto_columns": null,
            "margin": null,
            "display": null,
            "left": null
          }
        },
        "967314bcc248457eb49b64682acd5369": {
          "model_module": "@jupyter-widgets/base",
          "model_name": "LayoutModel",
          "model_module_version": "1.2.0",
          "state": {
            "_view_name": "LayoutView",
            "grid_template_rows": null,
            "right": null,
            "justify_content": null,
            "_view_module": "@jupyter-widgets/base",
            "overflow": null,
            "_model_module_version": "1.2.0",
            "_view_count": null,
            "flex_flow": null,
            "width": null,
            "min_width": null,
            "border": null,
            "align_items": null,
            "bottom": null,
            "_model_module": "@jupyter-widgets/base",
            "top": null,
            "grid_column": null,
            "overflow_y": null,
            "overflow_x": null,
            "grid_auto_flow": null,
            "grid_area": null,
            "grid_template_columns": null,
            "flex": null,
            "_model_name": "LayoutModel",
            "justify_items": null,
            "grid_row": null,
            "max_height": null,
            "align_content": null,
            "visibility": null,
            "align_self": null,
            "height": null,
            "min_height": null,
            "padding": null,
            "grid_auto_rows": null,
            "grid_gap": null,
            "max_width": null,
            "order": null,
            "_view_module_version": "1.2.0",
            "grid_template_areas": null,
            "object_position": null,
            "object_fit": null,
            "grid_auto_columns": null,
            "margin": null,
            "display": null,
            "left": null
          }
        },
        "b59616ac73044db8ab9d82e35c92a195": {
          "model_module": "@jupyter-widgets/controls",
          "model_name": "VBoxModel",
          "model_module_version": "1.5.0",
          "state": {
            "_view_name": "VBoxView",
            "_dom_classes": [
              "widget-interact"
            ],
            "_model_name": "VBoxModel",
            "_view_module": "@jupyter-widgets/controls",
            "_model_module_version": "1.5.0",
            "_view_count": null,
            "_view_module_version": "1.5.0",
            "box_style": "",
            "layout": "IPY_MODEL_5a3ae4d2d7b24fe9a95d84120d685c92",
            "_model_module": "@jupyter-widgets/controls",
            "children": [
              "IPY_MODEL_1ad205d3a2c14449a9eedd0a6ede721c",
              "IPY_MODEL_a40cc9ed51964131a1f0303d93aa88a6",
              "IPY_MODEL_208c30ac4b3e4c588ac834b5dad2b9b4",
              "IPY_MODEL_1262d0bbc7524e388a1da063a2514f2a"
            ]
          }
        },
        "5a3ae4d2d7b24fe9a95d84120d685c92": {
          "model_module": "@jupyter-widgets/base",
          "model_name": "LayoutModel",
          "model_module_version": "1.2.0",
          "state": {
            "_view_name": "LayoutView",
            "grid_template_rows": null,
            "right": null,
            "justify_content": null,
            "_view_module": "@jupyter-widgets/base",
            "overflow": null,
            "_model_module_version": "1.2.0",
            "_view_count": null,
            "flex_flow": null,
            "width": null,
            "min_width": null,
            "border": null,
            "align_items": null,
            "bottom": null,
            "_model_module": "@jupyter-widgets/base",
            "top": null,
            "grid_column": null,
            "overflow_y": null,
            "overflow_x": null,
            "grid_auto_flow": null,
            "grid_area": null,
            "grid_template_columns": null,
            "flex": null,
            "_model_name": "LayoutModel",
            "justify_items": null,
            "grid_row": null,
            "max_height": null,
            "align_content": null,
            "visibility": null,
            "align_self": null,
            "height": null,
            "min_height": null,
            "padding": null,
            "grid_auto_rows": null,
            "grid_gap": null,
            "max_width": null,
            "order": null,
            "_view_module_version": "1.2.0",
            "grid_template_areas": null,
            "object_position": null,
            "object_fit": null,
            "grid_auto_columns": null,
            "margin": null,
            "display": null,
            "left": null
          }
        },
        "1ad205d3a2c14449a9eedd0a6ede721c": {
          "model_module": "@jupyter-widgets/controls",
          "model_name": "IntSliderModel",
          "model_module_version": "1.5.0",
          "state": {
            "_view_name": "IntSliderView",
            "style": "IPY_MODEL_1e4c293ecba0488b95bf319018b40c91",
            "_dom_classes": [],
            "description": "giocate",
            "step": 1,
            "_model_name": "IntSliderModel",
            "orientation": "horizontal",
            "max": 6,
            "_view_module": "@jupyter-widgets/controls",
            "_model_module_version": "1.5.0",
            "value": 3,
            "_view_count": null,
            "disabled": false,
            "_view_module_version": "1.5.0",
            "min": 1,
            "continuous_update": true,
            "readout_format": "d",
            "description_tooltip": null,
            "readout": true,
            "_model_module": "@jupyter-widgets/controls",
            "layout": "IPY_MODEL_a96d3f1753004f9eafe33ed3d1484ee3"
          }
        },
        "a40cc9ed51964131a1f0303d93aa88a6": {
          "model_module": "@jupyter-widgets/controls",
          "model_name": "IntSliderModel",
          "model_module_version": "1.5.0",
          "state": {
            "_view_name": "IntSliderView",
            "style": "IPY_MODEL_634582dbfb204d538c8130ac0d373c02",
            "_dom_classes": [],
            "description": "puntata",
            "step": 5,
            "_model_name": "IntSliderModel",
            "orientation": "horizontal",
            "max": 100,
            "_view_module": "@jupyter-widgets/controls",
            "_model_module_version": "1.5.0",
            "value": 5,
            "_view_count": null,
            "disabled": false,
            "_view_module_version": "1.5.0",
            "min": 5,
            "continuous_update": true,
            "readout_format": "d",
            "description_tooltip": null,
            "readout": true,
            "_model_module": "@jupyter-widgets/controls",
            "layout": "IPY_MODEL_f7f8bd1c9064436db86e9544391ae91b"
          }
        },
        "208c30ac4b3e4c588ac834b5dad2b9b4": {
          "model_module": "@jupyter-widgets/controls",
          "model_name": "ButtonModel",
          "model_module_version": "1.5.0",
          "state": {
            "_view_name": "ButtonView",
            "style": "IPY_MODEL_470cfee9a25c4e5ea062b2de5e624ae8",
            "_dom_classes": [],
            "description": "Run Interact",
            "_model_name": "ButtonModel",
            "button_style": "",
            "_view_module": "@jupyter-widgets/controls",
            "_model_module_version": "1.5.0",
            "tooltip": "",
            "_view_count": null,
            "disabled": false,
            "_view_module_version": "1.5.0",
            "layout": "IPY_MODEL_18a47c655e9d44748049da5480e3b059",
            "_model_module": "@jupyter-widgets/controls",
            "icon": ""
          }
        },
        "1262d0bbc7524e388a1da063a2514f2a": {
          "model_module": "@jupyter-widgets/output",
          "model_name": "OutputModel",
          "model_module_version": "1.0.0",
          "state": {
            "_view_name": "OutputView",
            "msg_id": "",
            "_dom_classes": [],
            "_model_name": "OutputModel",
            "outputs": [],
            "_view_module": "@jupyter-widgets/output",
            "_model_module_version": "1.0.0",
            "_view_count": null,
            "_view_module_version": "1.0.0",
            "layout": "IPY_MODEL_0e83147453f1443482afd914b411eb36",
            "_model_module": "@jupyter-widgets/output"
          }
        },
        "1e4c293ecba0488b95bf319018b40c91": {
          "model_module": "@jupyter-widgets/controls",
          "model_name": "SliderStyleModel",
          "model_module_version": "1.5.0",
          "state": {
            "_view_name": "StyleView",
            "handle_color": null,
            "_model_name": "SliderStyleModel",
            "description_width": "",
            "_view_module": "@jupyter-widgets/base",
            "_model_module_version": "1.5.0",
            "_view_count": null,
            "_view_module_version": "1.2.0",
            "_model_module": "@jupyter-widgets/controls"
          }
        },
        "a96d3f1753004f9eafe33ed3d1484ee3": {
          "model_module": "@jupyter-widgets/base",
          "model_name": "LayoutModel",
          "model_module_version": "1.2.0",
          "state": {
            "_view_name": "LayoutView",
            "grid_template_rows": null,
            "right": null,
            "justify_content": null,
            "_view_module": "@jupyter-widgets/base",
            "overflow": null,
            "_model_module_version": "1.2.0",
            "_view_count": null,
            "flex_flow": null,
            "width": null,
            "min_width": null,
            "border": null,
            "align_items": null,
            "bottom": null,
            "_model_module": "@jupyter-widgets/base",
            "top": null,
            "grid_column": null,
            "overflow_y": null,
            "overflow_x": null,
            "grid_auto_flow": null,
            "grid_area": null,
            "grid_template_columns": null,
            "flex": null,
            "_model_name": "LayoutModel",
            "justify_items": null,
            "grid_row": null,
            "max_height": null,
            "align_content": null,
            "visibility": null,
            "align_self": null,
            "height": null,
            "min_height": null,
            "padding": null,
            "grid_auto_rows": null,
            "grid_gap": null,
            "max_width": null,
            "order": null,
            "_view_module_version": "1.2.0",
            "grid_template_areas": null,
            "object_position": null,
            "object_fit": null,
            "grid_auto_columns": null,
            "margin": null,
            "display": null,
            "left": null
          }
        },
        "634582dbfb204d538c8130ac0d373c02": {
          "model_module": "@jupyter-widgets/controls",
          "model_name": "SliderStyleModel",
          "model_module_version": "1.5.0",
          "state": {
            "_view_name": "StyleView",
            "handle_color": null,
            "_model_name": "SliderStyleModel",
            "description_width": "",
            "_view_module": "@jupyter-widgets/base",
            "_model_module_version": "1.5.0",
            "_view_count": null,
            "_view_module_version": "1.2.0",
            "_model_module": "@jupyter-widgets/controls"
          }
        },
        "f7f8bd1c9064436db86e9544391ae91b": {
          "model_module": "@jupyter-widgets/base",
          "model_name": "LayoutModel",
          "model_module_version": "1.2.0",
          "state": {
            "_view_name": "LayoutView",
            "grid_template_rows": null,
            "right": null,
            "justify_content": null,
            "_view_module": "@jupyter-widgets/base",
            "overflow": null,
            "_model_module_version": "1.2.0",
            "_view_count": null,
            "flex_flow": null,
            "width": null,
            "min_width": null,
            "border": null,
            "align_items": null,
            "bottom": null,
            "_model_module": "@jupyter-widgets/base",
            "top": null,
            "grid_column": null,
            "overflow_y": null,
            "overflow_x": null,
            "grid_auto_flow": null,
            "grid_area": null,
            "grid_template_columns": null,
            "flex": null,
            "_model_name": "LayoutModel",
            "justify_items": null,
            "grid_row": null,
            "max_height": null,
            "align_content": null,
            "visibility": null,
            "align_self": null,
            "height": null,
            "min_height": null,
            "padding": null,
            "grid_auto_rows": null,
            "grid_gap": null,
            "max_width": null,
            "order": null,
            "_view_module_version": "1.2.0",
            "grid_template_areas": null,
            "object_position": null,
            "object_fit": null,
            "grid_auto_columns": null,
            "margin": null,
            "display": null,
            "left": null
          }
        },
        "470cfee9a25c4e5ea062b2de5e624ae8": {
          "model_module": "@jupyter-widgets/controls",
          "model_name": "ButtonStyleModel",
          "model_module_version": "1.5.0",
          "state": {
            "_view_name": "StyleView",
            "_model_name": "ButtonStyleModel",
            "_view_module": "@jupyter-widgets/base",
            "_model_module_version": "1.5.0",
            "_view_count": null,
            "button_color": null,
            "font_weight": "",
            "_view_module_version": "1.2.0",
            "_model_module": "@jupyter-widgets/controls"
          }
        },
        "18a47c655e9d44748049da5480e3b059": {
          "model_module": "@jupyter-widgets/base",
          "model_name": "LayoutModel",
          "model_module_version": "1.2.0",
          "state": {
            "_view_name": "LayoutView",
            "grid_template_rows": null,
            "right": null,
            "justify_content": null,
            "_view_module": "@jupyter-widgets/base",
            "overflow": null,
            "_model_module_version": "1.2.0",
            "_view_count": null,
            "flex_flow": null,
            "width": null,
            "min_width": null,
            "border": null,
            "align_items": null,
            "bottom": null,
            "_model_module": "@jupyter-widgets/base",
            "top": null,
            "grid_column": null,
            "overflow_y": null,
            "overflow_x": null,
            "grid_auto_flow": null,
            "grid_area": null,
            "grid_template_columns": null,
            "flex": null,
            "_model_name": "LayoutModel",
            "justify_items": null,
            "grid_row": null,
            "max_height": null,
            "align_content": null,
            "visibility": null,
            "align_self": null,
            "height": null,
            "min_height": null,
            "padding": null,
            "grid_auto_rows": null,
            "grid_gap": null,
            "max_width": null,
            "order": null,
            "_view_module_version": "1.2.0",
            "grid_template_areas": null,
            "object_position": null,
            "object_fit": null,
            "grid_auto_columns": null,
            "margin": null,
            "display": null,
            "left": null
          }
        },
        "0e83147453f1443482afd914b411eb36": {
          "model_module": "@jupyter-widgets/base",
          "model_name": "LayoutModel",
          "model_module_version": "1.2.0",
          "state": {
            "_view_name": "LayoutView",
            "grid_template_rows": null,
            "right": null,
            "justify_content": null,
            "_view_module": "@jupyter-widgets/base",
            "overflow": null,
            "_model_module_version": "1.2.0",
            "_view_count": null,
            "flex_flow": null,
            "width": null,
            "min_width": null,
            "border": null,
            "align_items": null,
            "bottom": null,
            "_model_module": "@jupyter-widgets/base",
            "top": null,
            "grid_column": null,
            "overflow_y": null,
            "overflow_x": null,
            "grid_auto_flow": null,
            "grid_area": null,
            "grid_template_columns": null,
            "flex": null,
            "_model_name": "LayoutModel",
            "justify_items": null,
            "grid_row": null,
            "max_height": null,
            "align_content": null,
            "visibility": null,
            "align_self": null,
            "height": null,
            "min_height": null,
            "padding": null,
            "grid_auto_rows": null,
            "grid_gap": null,
            "max_width": null,
            "order": null,
            "_view_module_version": "1.2.0",
            "grid_template_areas": null,
            "object_position": null,
            "object_fit": null,
            "grid_auto_columns": null,
            "margin": null,
            "display": null,
            "left": null
          }
        },
        "e6222ce9ddfa44f1b53136cfc64b7090": {
          "model_module": "@jupyter-widgets/controls",
          "model_name": "VBoxModel",
          "model_module_version": "1.5.0",
          "state": {
            "_view_name": "VBoxView",
            "_dom_classes": [
              "widget-interact"
            ],
            "_model_name": "VBoxModel",
            "_view_module": "@jupyter-widgets/controls",
            "_model_module_version": "1.5.0",
            "_view_count": null,
            "_view_module_version": "1.5.0",
            "box_style": "",
            "layout": "IPY_MODEL_123b689be40a491b872e393f41baac53",
            "_model_module": "@jupyter-widgets/controls",
            "children": [
              "IPY_MODEL_5b4af11dfa6946dc8e7f4c9566cbed06",
              "IPY_MODEL_8fa25b60b4cb4c15ae998e93ec5fcdad",
              "IPY_MODEL_4fde227b001a4554b9df6b027964b367"
            ]
          }
        },
        "123b689be40a491b872e393f41baac53": {
          "model_module": "@jupyter-widgets/base",
          "model_name": "LayoutModel",
          "model_module_version": "1.2.0",
          "state": {
            "_view_name": "LayoutView",
            "grid_template_rows": null,
            "right": null,
            "justify_content": null,
            "_view_module": "@jupyter-widgets/base",
            "overflow": null,
            "_model_module_version": "1.2.0",
            "_view_count": null,
            "flex_flow": null,
            "width": null,
            "min_width": null,
            "border": null,
            "align_items": null,
            "bottom": null,
            "_model_module": "@jupyter-widgets/base",
            "top": null,
            "grid_column": null,
            "overflow_y": null,
            "overflow_x": null,
            "grid_auto_flow": null,
            "grid_area": null,
            "grid_template_columns": null,
            "flex": null,
            "_model_name": "LayoutModel",
            "justify_items": null,
            "grid_row": null,
            "max_height": null,
            "align_content": null,
            "visibility": null,
            "align_self": null,
            "height": null,
            "min_height": null,
            "padding": null,
            "grid_auto_rows": null,
            "grid_gap": null,
            "max_width": null,
            "order": null,
            "_view_module_version": "1.2.0",
            "grid_template_areas": null,
            "object_position": null,
            "object_fit": null,
            "grid_auto_columns": null,
            "margin": null,
            "display": null,
            "left": null
          }
        },
        "5b4af11dfa6946dc8e7f4c9566cbed06": {
          "model_module": "@jupyter-widgets/controls",
          "model_name": "IntSliderModel",
          "model_module_version": "1.5.0",
          "state": {
            "_view_name": "IntSliderView",
            "style": "IPY_MODEL_b06c3bafc31842d5ae84d37156aa5765",
            "_dom_classes": [],
            "description": "estrazioni",
            "step": 1,
            "_model_name": "IntSliderModel",
            "orientation": "horizontal",
            "max": 10,
            "_view_module": "@jupyter-widgets/controls",
            "_model_module_version": "1.5.0",
            "value": 3,
            "_view_count": null,
            "disabled": false,
            "_view_module_version": "1.5.0",
            "min": 1,
            "continuous_update": true,
            "readout_format": "d",
            "description_tooltip": null,
            "readout": true,
            "_model_module": "@jupyter-widgets/controls",
            "layout": "IPY_MODEL_b8b5b15f3a0847b38cedfad302ce0004"
          }
        },
        "8fa25b60b4cb4c15ae998e93ec5fcdad": {
          "model_module": "@jupyter-widgets/controls",
          "model_name": "ButtonModel",
          "model_module_version": "1.5.0",
          "state": {
            "_view_name": "ButtonView",
            "style": "IPY_MODEL_dc52408092124d5f92cee796b0bdc570",
            "_dom_classes": [],
            "description": "Run Interact",
            "_model_name": "ButtonModel",
            "button_style": "",
            "_view_module": "@jupyter-widgets/controls",
            "_model_module_version": "1.5.0",
            "tooltip": "",
            "_view_count": null,
            "disabled": false,
            "_view_module_version": "1.5.0",
            "layout": "IPY_MODEL_db195f6ac32a4cd5846aad71be326221",
            "_model_module": "@jupyter-widgets/controls",
            "icon": ""
          }
        },
        "4fde227b001a4554b9df6b027964b367": {
          "model_module": "@jupyter-widgets/output",
          "model_name": "OutputModel",
          "model_module_version": "1.0.0",
          "state": {
            "_view_name": "OutputView",
            "msg_id": "",
            "_dom_classes": [],
            "_model_name": "OutputModel",
            "outputs": [],
            "_view_module": "@jupyter-widgets/output",
            "_model_module_version": "1.0.0",
            "_view_count": null,
            "_view_module_version": "1.0.0",
            "layout": "IPY_MODEL_afb713f06d9646b0ba1a185e85a1c8e3",
            "_model_module": "@jupyter-widgets/output"
          }
        },
        "b06c3bafc31842d5ae84d37156aa5765": {
          "model_module": "@jupyter-widgets/controls",
          "model_name": "SliderStyleModel",
          "model_module_version": "1.5.0",
          "state": {
            "_view_name": "StyleView",
            "handle_color": null,
            "_model_name": "SliderStyleModel",
            "description_width": "",
            "_view_module": "@jupyter-widgets/base",
            "_model_module_version": "1.5.0",
            "_view_count": null,
            "_view_module_version": "1.2.0",
            "_model_module": "@jupyter-widgets/controls"
          }
        },
        "b8b5b15f3a0847b38cedfad302ce0004": {
          "model_module": "@jupyter-widgets/base",
          "model_name": "LayoutModel",
          "model_module_version": "1.2.0",
          "state": {
            "_view_name": "LayoutView",
            "grid_template_rows": null,
            "right": null,
            "justify_content": null,
            "_view_module": "@jupyter-widgets/base",
            "overflow": null,
            "_model_module_version": "1.2.0",
            "_view_count": null,
            "flex_flow": null,
            "width": null,
            "min_width": null,
            "border": null,
            "align_items": null,
            "bottom": null,
            "_model_module": "@jupyter-widgets/base",
            "top": null,
            "grid_column": null,
            "overflow_y": null,
            "overflow_x": null,
            "grid_auto_flow": null,
            "grid_area": null,
            "grid_template_columns": null,
            "flex": null,
            "_model_name": "LayoutModel",
            "justify_items": null,
            "grid_row": null,
            "max_height": null,
            "align_content": null,
            "visibility": null,
            "align_self": null,
            "height": null,
            "min_height": null,
            "padding": null,
            "grid_auto_rows": null,
            "grid_gap": null,
            "max_width": null,
            "order": null,
            "_view_module_version": "1.2.0",
            "grid_template_areas": null,
            "object_position": null,
            "object_fit": null,
            "grid_auto_columns": null,
            "margin": null,
            "display": null,
            "left": null
          }
        },
        "dc52408092124d5f92cee796b0bdc570": {
          "model_module": "@jupyter-widgets/controls",
          "model_name": "ButtonStyleModel",
          "model_module_version": "1.5.0",
          "state": {
            "_view_name": "StyleView",
            "_model_name": "ButtonStyleModel",
            "_view_module": "@jupyter-widgets/base",
            "_model_module_version": "1.5.0",
            "_view_count": null,
            "button_color": null,
            "font_weight": "",
            "_view_module_version": "1.2.0",
            "_model_module": "@jupyter-widgets/controls"
          }
        },
        "db195f6ac32a4cd5846aad71be326221": {
          "model_module": "@jupyter-widgets/base",
          "model_name": "LayoutModel",
          "model_module_version": "1.2.0",
          "state": {
            "_view_name": "LayoutView",
            "grid_template_rows": null,
            "right": null,
            "justify_content": null,
            "_view_module": "@jupyter-widgets/base",
            "overflow": null,
            "_model_module_version": "1.2.0",
            "_view_count": null,
            "flex_flow": null,
            "width": null,
            "min_width": null,
            "border": null,
            "align_items": null,
            "bottom": null,
            "_model_module": "@jupyter-widgets/base",
            "top": null,
            "grid_column": null,
            "overflow_y": null,
            "overflow_x": null,
            "grid_auto_flow": null,
            "grid_area": null,
            "grid_template_columns": null,
            "flex": null,
            "_model_name": "LayoutModel",
            "justify_items": null,
            "grid_row": null,
            "max_height": null,
            "align_content": null,
            "visibility": null,
            "align_self": null,
            "height": null,
            "min_height": null,
            "padding": null,
            "grid_auto_rows": null,
            "grid_gap": null,
            "max_width": null,
            "order": null,
            "_view_module_version": "1.2.0",
            "grid_template_areas": null,
            "object_position": null,
            "object_fit": null,
            "grid_auto_columns": null,
            "margin": null,
            "display": null,
            "left": null
          }
        },
        "afb713f06d9646b0ba1a185e85a1c8e3": {
          "model_module": "@jupyter-widgets/base",
          "model_name": "LayoutModel",
          "model_module_version": "1.2.0",
          "state": {
            "_view_name": "LayoutView",
            "grid_template_rows": null,
            "right": null,
            "justify_content": null,
            "_view_module": "@jupyter-widgets/base",
            "overflow": null,
            "_model_module_version": "1.2.0",
            "_view_count": null,
            "flex_flow": null,
            "width": null,
            "min_width": null,
            "border": null,
            "align_items": null,
            "bottom": null,
            "_model_module": "@jupyter-widgets/base",
            "top": null,
            "grid_column": null,
            "overflow_y": null,
            "overflow_x": null,
            "grid_auto_flow": null,
            "grid_area": null,
            "grid_template_columns": null,
            "flex": null,
            "_model_name": "LayoutModel",
            "justify_items": null,
            "grid_row": null,
            "max_height": null,
            "align_content": null,
            "visibility": null,
            "align_self": null,
            "height": null,
            "min_height": null,
            "padding": null,
            "grid_auto_rows": null,
            "grid_gap": null,
            "max_width": null,
            "order": null,
            "_view_module_version": "1.2.0",
            "grid_template_areas": null,
            "object_position": null,
            "object_fit": null,
            "grid_auto_columns": null,
            "margin": null,
            "display": null,
            "left": null
          }
        },
        "05e87feca2a946f98020b3353fc1d94d": {
          "model_module": "@jupyter-widgets/controls",
          "model_name": "VBoxModel",
          "model_module_version": "1.5.0",
          "state": {
            "_view_name": "VBoxView",
            "_dom_classes": [
              "widget-interact"
            ],
            "_model_name": "VBoxModel",
            "_view_module": "@jupyter-widgets/controls",
            "_model_module_version": "1.5.0",
            "_view_count": null,
            "_view_module_version": "1.5.0",
            "box_style": "",
            "layout": "IPY_MODEL_c70363147a9742da8e35de1aec463b82",
            "_model_module": "@jupyter-widgets/controls",
            "children": [
              "IPY_MODEL_9ca82f5560f74c77a2c397bee160cfce",
              "IPY_MODEL_e0e27737c9ac4daeb1d8107186d21e51",
              "IPY_MODEL_029a8e57f119413797074935b1bbab8c",
              "IPY_MODEL_61085c0bf43a4980b06f2e4372fb552c"
            ]
          }
        },
        "c70363147a9742da8e35de1aec463b82": {
          "model_module": "@jupyter-widgets/base",
          "model_name": "LayoutModel",
          "model_module_version": "1.2.0",
          "state": {
            "_view_name": "LayoutView",
            "grid_template_rows": null,
            "right": null,
            "justify_content": null,
            "_view_module": "@jupyter-widgets/base",
            "overflow": null,
            "_model_module_version": "1.2.0",
            "_view_count": null,
            "flex_flow": null,
            "width": null,
            "min_width": null,
            "border": null,
            "align_items": null,
            "bottom": null,
            "_model_module": "@jupyter-widgets/base",
            "top": null,
            "grid_column": null,
            "overflow_y": null,
            "overflow_x": null,
            "grid_auto_flow": null,
            "grid_area": null,
            "grid_template_columns": null,
            "flex": null,
            "_model_name": "LayoutModel",
            "justify_items": null,
            "grid_row": null,
            "max_height": null,
            "align_content": null,
            "visibility": null,
            "align_self": null,
            "height": null,
            "min_height": null,
            "padding": null,
            "grid_auto_rows": null,
            "grid_gap": null,
            "max_width": null,
            "order": null,
            "_view_module_version": "1.2.0",
            "grid_template_areas": null,
            "object_position": null,
            "object_fit": null,
            "grid_auto_columns": null,
            "margin": null,
            "display": null,
            "left": null
          }
        },
        "9ca82f5560f74c77a2c397bee160cfce": {
          "model_module": "@jupyter-widgets/controls",
          "model_name": "IntSliderModel",
          "model_module_version": "1.5.0",
          "state": {
            "_view_name": "IntSliderView",
            "style": "IPY_MODEL_a877199466504d91b003f9918a02b497",
            "_dom_classes": [],
            "description": "bianche",
            "step": 1,
            "_model_name": "IntSliderModel",
            "orientation": "horizontal",
            "max": 5,
            "_view_module": "@jupyter-widgets/controls",
            "_model_module_version": "1.5.0",
            "value": 2,
            "_view_count": null,
            "disabled": false,
            "_view_module_version": "1.5.0",
            "min": 1,
            "continuous_update": true,
            "readout_format": "d",
            "description_tooltip": null,
            "readout": true,
            "_model_module": "@jupyter-widgets/controls",
            "layout": "IPY_MODEL_da12def721bc4de8b33620bd715d7b5f"
          }
        },
        "e0e27737c9ac4daeb1d8107186d21e51": {
          "model_module": "@jupyter-widgets/controls",
          "model_name": "IntSliderModel",
          "model_module_version": "1.5.0",
          "state": {
            "_view_name": "IntSliderView",
            "style": "IPY_MODEL_261e5083850546bf8faea0f5c921d2f7",
            "_dom_classes": [],
            "description": "rosse",
            "step": 1,
            "_model_name": "IntSliderModel",
            "orientation": "horizontal",
            "max": 5,
            "_view_module": "@jupyter-widgets/controls",
            "_model_module_version": "1.5.0",
            "value": 3,
            "_view_count": null,
            "disabled": false,
            "_view_module_version": "1.5.0",
            "min": 1,
            "continuous_update": true,
            "readout_format": "d",
            "description_tooltip": null,
            "readout": true,
            "_model_module": "@jupyter-widgets/controls",
            "layout": "IPY_MODEL_3caa3d74b7ff4673be5769ae01d93cfd"
          }
        },
        "029a8e57f119413797074935b1bbab8c": {
          "model_module": "@jupyter-widgets/controls",
          "model_name": "ButtonModel",
          "model_module_version": "1.5.0",
          "state": {
            "_view_name": "ButtonView",
            "style": "IPY_MODEL_e8f328353f9b4613b7b66aa5ce4a6232",
            "_dom_classes": [],
            "description": "Run Interact",
            "_model_name": "ButtonModel",
            "button_style": "",
            "_view_module": "@jupyter-widgets/controls",
            "_model_module_version": "1.5.0",
            "tooltip": "",
            "_view_count": null,
            "disabled": false,
            "_view_module_version": "1.5.0",
            "layout": "IPY_MODEL_d84940373a664bb8ab162d2815e152f6",
            "_model_module": "@jupyter-widgets/controls",
            "icon": ""
          }
        },
        "61085c0bf43a4980b06f2e4372fb552c": {
          "model_module": "@jupyter-widgets/output",
          "model_name": "OutputModel",
          "model_module_version": "1.0.0",
          "state": {
            "_view_name": "OutputView",
            "msg_id": "",
            "_dom_classes": [],
            "_model_name": "OutputModel",
            "outputs": [],
            "_view_module": "@jupyter-widgets/output",
            "_model_module_version": "1.0.0",
            "_view_count": null,
            "_view_module_version": "1.0.0",
            "layout": "IPY_MODEL_044cf90995494b359a9db84008fbb15c",
            "_model_module": "@jupyter-widgets/output"
          }
        },
        "a877199466504d91b003f9918a02b497": {
          "model_module": "@jupyter-widgets/controls",
          "model_name": "SliderStyleModel",
          "model_module_version": "1.5.0",
          "state": {
            "_view_name": "StyleView",
            "handle_color": null,
            "_model_name": "SliderStyleModel",
            "description_width": "",
            "_view_module": "@jupyter-widgets/base",
            "_model_module_version": "1.5.0",
            "_view_count": null,
            "_view_module_version": "1.2.0",
            "_model_module": "@jupyter-widgets/controls"
          }
        },
        "da12def721bc4de8b33620bd715d7b5f": {
          "model_module": "@jupyter-widgets/base",
          "model_name": "LayoutModel",
          "model_module_version": "1.2.0",
          "state": {
            "_view_name": "LayoutView",
            "grid_template_rows": null,
            "right": null,
            "justify_content": null,
            "_view_module": "@jupyter-widgets/base",
            "overflow": null,
            "_model_module_version": "1.2.0",
            "_view_count": null,
            "flex_flow": null,
            "width": null,
            "min_width": null,
            "border": null,
            "align_items": null,
            "bottom": null,
            "_model_module": "@jupyter-widgets/base",
            "top": null,
            "grid_column": null,
            "overflow_y": null,
            "overflow_x": null,
            "grid_auto_flow": null,
            "grid_area": null,
            "grid_template_columns": null,
            "flex": null,
            "_model_name": "LayoutModel",
            "justify_items": null,
            "grid_row": null,
            "max_height": null,
            "align_content": null,
            "visibility": null,
            "align_self": null,
            "height": null,
            "min_height": null,
            "padding": null,
            "grid_auto_rows": null,
            "grid_gap": null,
            "max_width": null,
            "order": null,
            "_view_module_version": "1.2.0",
            "grid_template_areas": null,
            "object_position": null,
            "object_fit": null,
            "grid_auto_columns": null,
            "margin": null,
            "display": null,
            "left": null
          }
        },
        "261e5083850546bf8faea0f5c921d2f7": {
          "model_module": "@jupyter-widgets/controls",
          "model_name": "SliderStyleModel",
          "model_module_version": "1.5.0",
          "state": {
            "_view_name": "StyleView",
            "handle_color": null,
            "_model_name": "SliderStyleModel",
            "description_width": "",
            "_view_module": "@jupyter-widgets/base",
            "_model_module_version": "1.5.0",
            "_view_count": null,
            "_view_module_version": "1.2.0",
            "_model_module": "@jupyter-widgets/controls"
          }
        },
        "3caa3d74b7ff4673be5769ae01d93cfd": {
          "model_module": "@jupyter-widgets/base",
          "model_name": "LayoutModel",
          "model_module_version": "1.2.0",
          "state": {
            "_view_name": "LayoutView",
            "grid_template_rows": null,
            "right": null,
            "justify_content": null,
            "_view_module": "@jupyter-widgets/base",
            "overflow": null,
            "_model_module_version": "1.2.0",
            "_view_count": null,
            "flex_flow": null,
            "width": null,
            "min_width": null,
            "border": null,
            "align_items": null,
            "bottom": null,
            "_model_module": "@jupyter-widgets/base",
            "top": null,
            "grid_column": null,
            "overflow_y": null,
            "overflow_x": null,
            "grid_auto_flow": null,
            "grid_area": null,
            "grid_template_columns": null,
            "flex": null,
            "_model_name": "LayoutModel",
            "justify_items": null,
            "grid_row": null,
            "max_height": null,
            "align_content": null,
            "visibility": null,
            "align_self": null,
            "height": null,
            "min_height": null,
            "padding": null,
            "grid_auto_rows": null,
            "grid_gap": null,
            "max_width": null,
            "order": null,
            "_view_module_version": "1.2.0",
            "grid_template_areas": null,
            "object_position": null,
            "object_fit": null,
            "grid_auto_columns": null,
            "margin": null,
            "display": null,
            "left": null
          }
        },
        "e8f328353f9b4613b7b66aa5ce4a6232": {
          "model_module": "@jupyter-widgets/controls",
          "model_name": "ButtonStyleModel",
          "model_module_version": "1.5.0",
          "state": {
            "_view_name": "StyleView",
            "_model_name": "ButtonStyleModel",
            "_view_module": "@jupyter-widgets/base",
            "_model_module_version": "1.5.0",
            "_view_count": null,
            "button_color": null,
            "font_weight": "",
            "_view_module_version": "1.2.0",
            "_model_module": "@jupyter-widgets/controls"
          }
        },
        "d84940373a664bb8ab162d2815e152f6": {
          "model_module": "@jupyter-widgets/base",
          "model_name": "LayoutModel",
          "model_module_version": "1.2.0",
          "state": {
            "_view_name": "LayoutView",
            "grid_template_rows": null,
            "right": null,
            "justify_content": null,
            "_view_module": "@jupyter-widgets/base",
            "overflow": null,
            "_model_module_version": "1.2.0",
            "_view_count": null,
            "flex_flow": null,
            "width": null,
            "min_width": null,
            "border": null,
            "align_items": null,
            "bottom": null,
            "_model_module": "@jupyter-widgets/base",
            "top": null,
            "grid_column": null,
            "overflow_y": null,
            "overflow_x": null,
            "grid_auto_flow": null,
            "grid_area": null,
            "grid_template_columns": null,
            "flex": null,
            "_model_name": "LayoutModel",
            "justify_items": null,
            "grid_row": null,
            "max_height": null,
            "align_content": null,
            "visibility": null,
            "align_self": null,
            "height": null,
            "min_height": null,
            "padding": null,
            "grid_auto_rows": null,
            "grid_gap": null,
            "max_width": null,
            "order": null,
            "_view_module_version": "1.2.0",
            "grid_template_areas": null,
            "object_position": null,
            "object_fit": null,
            "grid_auto_columns": null,
            "margin": null,
            "display": null,
            "left": null
          }
        },
        "044cf90995494b359a9db84008fbb15c": {
          "model_module": "@jupyter-widgets/base",
          "model_name": "LayoutModel",
          "model_module_version": "1.2.0",
          "state": {
            "_view_name": "LayoutView",
            "grid_template_rows": null,
            "right": null,
            "justify_content": null,
            "_view_module": "@jupyter-widgets/base",
            "overflow": null,
            "_model_module_version": "1.2.0",
            "_view_count": null,
            "flex_flow": null,
            "width": null,
            "min_width": null,
            "border": null,
            "align_items": null,
            "bottom": null,
            "_model_module": "@jupyter-widgets/base",
            "top": null,
            "grid_column": null,
            "overflow_y": null,
            "overflow_x": null,
            "grid_auto_flow": null,
            "grid_area": null,
            "grid_template_columns": null,
            "flex": null,
            "_model_name": "LayoutModel",
            "justify_items": null,
            "grid_row": null,
            "max_height": null,
            "align_content": null,
            "visibility": null,
            "align_self": null,
            "height": null,
            "min_height": null,
            "padding": null,
            "grid_auto_rows": null,
            "grid_gap": null,
            "max_width": null,
            "order": null,
            "_view_module_version": "1.2.0",
            "grid_template_areas": null,
            "object_position": null,
            "object_fit": null,
            "grid_auto_columns": null,
            "margin": null,
            "display": null,
            "left": null
          }
        },
        "efdc725cde4f485cb63341dc124c58b1": {
          "model_module": "@jupyter-widgets/controls",
          "model_name": "VBoxModel",
          "model_module_version": "1.5.0",
          "state": {
            "_view_name": "VBoxView",
            "_dom_classes": [
              "widget-interact"
            ],
            "_model_name": "VBoxModel",
            "_view_module": "@jupyter-widgets/controls",
            "_model_module_version": "1.5.0",
            "_view_count": null,
            "_view_module_version": "1.5.0",
            "box_style": "",
            "layout": "IPY_MODEL_fab80d9546eb4973b039c9dc8cf35056",
            "_model_module": "@jupyter-widgets/controls",
            "children": [
              "IPY_MODEL_44fc886d1d53488094c27ef2e520f94c",
              "IPY_MODEL_1685af1936334bc8980dbdde813300d9",
              "IPY_MODEL_505d650da13e41e2890541b8df171e58",
              "IPY_MODEL_e59fa372cc5c40cc8f24e16010c9cb9b"
            ]
          }
        },
        "fab80d9546eb4973b039c9dc8cf35056": {
          "model_module": "@jupyter-widgets/base",
          "model_name": "LayoutModel",
          "model_module_version": "1.2.0",
          "state": {
            "_view_name": "LayoutView",
            "grid_template_rows": null,
            "right": null,
            "justify_content": null,
            "_view_module": "@jupyter-widgets/base",
            "overflow": null,
            "_model_module_version": "1.2.0",
            "_view_count": null,
            "flex_flow": null,
            "width": null,
            "min_width": null,
            "border": null,
            "align_items": null,
            "bottom": null,
            "_model_module": "@jupyter-widgets/base",
            "top": null,
            "grid_column": null,
            "overflow_y": null,
            "overflow_x": null,
            "grid_auto_flow": null,
            "grid_area": null,
            "grid_template_columns": null,
            "flex": null,
            "_model_name": "LayoutModel",
            "justify_items": null,
            "grid_row": null,
            "max_height": null,
            "align_content": null,
            "visibility": null,
            "align_self": null,
            "height": null,
            "min_height": null,
            "padding": null,
            "grid_auto_rows": null,
            "grid_gap": null,
            "max_width": null,
            "order": null,
            "_view_module_version": "1.2.0",
            "grid_template_areas": null,
            "object_position": null,
            "object_fit": null,
            "grid_auto_columns": null,
            "margin": null,
            "display": null,
            "left": null
          }
        },
        "44fc886d1d53488094c27ef2e520f94c": {
          "model_module": "@jupyter-widgets/controls",
          "model_name": "IntSliderModel",
          "model_module_version": "1.5.0",
          "state": {
            "_view_name": "IntSliderView",
            "style": "IPY_MODEL_bf623faf99064b60930b04b9841cbdb0",
            "_dom_classes": [],
            "description": "bianche",
            "step": 1,
            "_model_name": "IntSliderModel",
            "orientation": "horizontal",
            "max": 5,
            "_view_module": "@jupyter-widgets/controls",
            "_model_module_version": "1.5.0",
            "value": 2,
            "_view_count": null,
            "disabled": false,
            "_view_module_version": "1.5.0",
            "min": 1,
            "continuous_update": true,
            "readout_format": "d",
            "description_tooltip": null,
            "readout": true,
            "_model_module": "@jupyter-widgets/controls",
            "layout": "IPY_MODEL_f9fd1a737c5a4953b612f9763276116c"
          }
        },
        "1685af1936334bc8980dbdde813300d9": {
          "model_module": "@jupyter-widgets/controls",
          "model_name": "IntSliderModel",
          "model_module_version": "1.5.0",
          "state": {
            "_view_name": "IntSliderView",
            "style": "IPY_MODEL_5c1da07c95e04ff5b76216e9e91404bd",
            "_dom_classes": [],
            "description": "rosse",
            "step": 1,
            "_model_name": "IntSliderModel",
            "orientation": "horizontal",
            "max": 5,
            "_view_module": "@jupyter-widgets/controls",
            "_model_module_version": "1.5.0",
            "value": 3,
            "_view_count": null,
            "disabled": false,
            "_view_module_version": "1.5.0",
            "min": 1,
            "continuous_update": true,
            "readout_format": "d",
            "description_tooltip": null,
            "readout": true,
            "_model_module": "@jupyter-widgets/controls",
            "layout": "IPY_MODEL_a573b32889f94750a0f412c0509d0383"
          }
        },
        "505d650da13e41e2890541b8df171e58": {
          "model_module": "@jupyter-widgets/controls",
          "model_name": "ButtonModel",
          "model_module_version": "1.5.0",
          "state": {
            "_view_name": "ButtonView",
            "style": "IPY_MODEL_86acfa9644994b438746e382d28f10ba",
            "_dom_classes": [],
            "description": "Run Interact",
            "_model_name": "ButtonModel",
            "button_style": "",
            "_view_module": "@jupyter-widgets/controls",
            "_model_module_version": "1.5.0",
            "tooltip": "",
            "_view_count": null,
            "disabled": false,
            "_view_module_version": "1.5.0",
            "layout": "IPY_MODEL_7efe210d0c9644b18dca2555e7b16a88",
            "_model_module": "@jupyter-widgets/controls",
            "icon": ""
          }
        },
        "e59fa372cc5c40cc8f24e16010c9cb9b": {
          "model_module": "@jupyter-widgets/output",
          "model_name": "OutputModel",
          "model_module_version": "1.0.0",
          "state": {
            "_view_name": "OutputView",
            "msg_id": "",
            "_dom_classes": [],
            "_model_name": "OutputModel",
            "outputs": [],
            "_view_module": "@jupyter-widgets/output",
            "_model_module_version": "1.0.0",
            "_view_count": null,
            "_view_module_version": "1.0.0",
            "layout": "IPY_MODEL_7d76a3cf16134e00a08004fbd3439c10",
            "_model_module": "@jupyter-widgets/output"
          }
        },
        "bf623faf99064b60930b04b9841cbdb0": {
          "model_module": "@jupyter-widgets/controls",
          "model_name": "SliderStyleModel",
          "model_module_version": "1.5.0",
          "state": {
            "_view_name": "StyleView",
            "handle_color": null,
            "_model_name": "SliderStyleModel",
            "description_width": "",
            "_view_module": "@jupyter-widgets/base",
            "_model_module_version": "1.5.0",
            "_view_count": null,
            "_view_module_version": "1.2.0",
            "_model_module": "@jupyter-widgets/controls"
          }
        },
        "f9fd1a737c5a4953b612f9763276116c": {
          "model_module": "@jupyter-widgets/base",
          "model_name": "LayoutModel",
          "model_module_version": "1.2.0",
          "state": {
            "_view_name": "LayoutView",
            "grid_template_rows": null,
            "right": null,
            "justify_content": null,
            "_view_module": "@jupyter-widgets/base",
            "overflow": null,
            "_model_module_version": "1.2.0",
            "_view_count": null,
            "flex_flow": null,
            "width": null,
            "min_width": null,
            "border": null,
            "align_items": null,
            "bottom": null,
            "_model_module": "@jupyter-widgets/base",
            "top": null,
            "grid_column": null,
            "overflow_y": null,
            "overflow_x": null,
            "grid_auto_flow": null,
            "grid_area": null,
            "grid_template_columns": null,
            "flex": null,
            "_model_name": "LayoutModel",
            "justify_items": null,
            "grid_row": null,
            "max_height": null,
            "align_content": null,
            "visibility": null,
            "align_self": null,
            "height": null,
            "min_height": null,
            "padding": null,
            "grid_auto_rows": null,
            "grid_gap": null,
            "max_width": null,
            "order": null,
            "_view_module_version": "1.2.0",
            "grid_template_areas": null,
            "object_position": null,
            "object_fit": null,
            "grid_auto_columns": null,
            "margin": null,
            "display": null,
            "left": null
          }
        },
        "5c1da07c95e04ff5b76216e9e91404bd": {
          "model_module": "@jupyter-widgets/controls",
          "model_name": "SliderStyleModel",
          "model_module_version": "1.5.0",
          "state": {
            "_view_name": "StyleView",
            "handle_color": null,
            "_model_name": "SliderStyleModel",
            "description_width": "",
            "_view_module": "@jupyter-widgets/base",
            "_model_module_version": "1.5.0",
            "_view_count": null,
            "_view_module_version": "1.2.0",
            "_model_module": "@jupyter-widgets/controls"
          }
        },
        "a573b32889f94750a0f412c0509d0383": {
          "model_module": "@jupyter-widgets/base",
          "model_name": "LayoutModel",
          "model_module_version": "1.2.0",
          "state": {
            "_view_name": "LayoutView",
            "grid_template_rows": null,
            "right": null,
            "justify_content": null,
            "_view_module": "@jupyter-widgets/base",
            "overflow": null,
            "_model_module_version": "1.2.0",
            "_view_count": null,
            "flex_flow": null,
            "width": null,
            "min_width": null,
            "border": null,
            "align_items": null,
            "bottom": null,
            "_model_module": "@jupyter-widgets/base",
            "top": null,
            "grid_column": null,
            "overflow_y": null,
            "overflow_x": null,
            "grid_auto_flow": null,
            "grid_area": null,
            "grid_template_columns": null,
            "flex": null,
            "_model_name": "LayoutModel",
            "justify_items": null,
            "grid_row": null,
            "max_height": null,
            "align_content": null,
            "visibility": null,
            "align_self": null,
            "height": null,
            "min_height": null,
            "padding": null,
            "grid_auto_rows": null,
            "grid_gap": null,
            "max_width": null,
            "order": null,
            "_view_module_version": "1.2.0",
            "grid_template_areas": null,
            "object_position": null,
            "object_fit": null,
            "grid_auto_columns": null,
            "margin": null,
            "display": null,
            "left": null
          }
        },
        "86acfa9644994b438746e382d28f10ba": {
          "model_module": "@jupyter-widgets/controls",
          "model_name": "ButtonStyleModel",
          "model_module_version": "1.5.0",
          "state": {
            "_view_name": "StyleView",
            "_model_name": "ButtonStyleModel",
            "_view_module": "@jupyter-widgets/base",
            "_model_module_version": "1.5.0",
            "_view_count": null,
            "button_color": null,
            "font_weight": "",
            "_view_module_version": "1.2.0",
            "_model_module": "@jupyter-widgets/controls"
          }
        },
        "7efe210d0c9644b18dca2555e7b16a88": {
          "model_module": "@jupyter-widgets/base",
          "model_name": "LayoutModel",
          "model_module_version": "1.2.0",
          "state": {
            "_view_name": "LayoutView",
            "grid_template_rows": null,
            "right": null,
            "justify_content": null,
            "_view_module": "@jupyter-widgets/base",
            "overflow": null,
            "_model_module_version": "1.2.0",
            "_view_count": null,
            "flex_flow": null,
            "width": null,
            "min_width": null,
            "border": null,
            "align_items": null,
            "bottom": null,
            "_model_module": "@jupyter-widgets/base",
            "top": null,
            "grid_column": null,
            "overflow_y": null,
            "overflow_x": null,
            "grid_auto_flow": null,
            "grid_area": null,
            "grid_template_columns": null,
            "flex": null,
            "_model_name": "LayoutModel",
            "justify_items": null,
            "grid_row": null,
            "max_height": null,
            "align_content": null,
            "visibility": null,
            "align_self": null,
            "height": null,
            "min_height": null,
            "padding": null,
            "grid_auto_rows": null,
            "grid_gap": null,
            "max_width": null,
            "order": null,
            "_view_module_version": "1.2.0",
            "grid_template_areas": null,
            "object_position": null,
            "object_fit": null,
            "grid_auto_columns": null,
            "margin": null,
            "display": null,
            "left": null
          }
        },
        "7d76a3cf16134e00a08004fbd3439c10": {
          "model_module": "@jupyter-widgets/base",
          "model_name": "LayoutModel",
          "model_module_version": "1.2.0",
          "state": {
            "_view_name": "LayoutView",
            "grid_template_rows": null,
            "right": null,
            "justify_content": null,
            "_view_module": "@jupyter-widgets/base",
            "overflow": null,
            "_model_module_version": "1.2.0",
            "_view_count": null,
            "flex_flow": null,
            "width": null,
            "min_width": null,
            "border": null,
            "align_items": null,
            "bottom": null,
            "_model_module": "@jupyter-widgets/base",
            "top": null,
            "grid_column": null,
            "overflow_y": null,
            "overflow_x": null,
            "grid_auto_flow": null,
            "grid_area": null,
            "grid_template_columns": null,
            "flex": null,
            "_model_name": "LayoutModel",
            "justify_items": null,
            "grid_row": null,
            "max_height": null,
            "align_content": null,
            "visibility": null,
            "align_self": null,
            "height": null,
            "min_height": null,
            "padding": null,
            "grid_auto_rows": null,
            "grid_gap": null,
            "max_width": null,
            "order": null,
            "_view_module_version": "1.2.0",
            "grid_template_areas": null,
            "object_position": null,
            "object_fit": null,
            "grid_auto_columns": null,
            "margin": null,
            "display": null,
            "left": null
          }
        },
        "138e8dd206424aad9df323ec6d3bee0d": {
          "model_module": "@jupyter-widgets/controls",
          "model_name": "VBoxModel",
          "model_module_version": "1.5.0",
          "state": {
            "_view_name": "VBoxView",
            "_dom_classes": [
              "widget-interact"
            ],
            "_model_name": "VBoxModel",
            "_view_module": "@jupyter-widgets/controls",
            "_model_module_version": "1.5.0",
            "_view_count": null,
            "_view_module_version": "1.5.0",
            "box_style": "",
            "layout": "IPY_MODEL_40d910d8ed214be0b2447434e6ebea9f",
            "_model_module": "@jupyter-widgets/controls",
            "children": [
              "IPY_MODEL_e4fd98d637ac424882775e35321d595a",
              "IPY_MODEL_481653db0dee423a8a26abefda5a5233",
              "IPY_MODEL_b6029a7f6dbf4444ada1a20c92b79a51"
            ]
          }
        },
        "40d910d8ed214be0b2447434e6ebea9f": {
          "model_module": "@jupyter-widgets/base",
          "model_name": "LayoutModel",
          "model_module_version": "1.2.0",
          "state": {
            "_view_name": "LayoutView",
            "grid_template_rows": null,
            "right": null,
            "justify_content": null,
            "_view_module": "@jupyter-widgets/base",
            "overflow": null,
            "_model_module_version": "1.2.0",
            "_view_count": null,
            "flex_flow": null,
            "width": null,
            "min_width": null,
            "border": null,
            "align_items": null,
            "bottom": null,
            "_model_module": "@jupyter-widgets/base",
            "top": null,
            "grid_column": null,
            "overflow_y": null,
            "overflow_x": null,
            "grid_auto_flow": null,
            "grid_area": null,
            "grid_template_columns": null,
            "flex": null,
            "_model_name": "LayoutModel",
            "justify_items": null,
            "grid_row": null,
            "max_height": null,
            "align_content": null,
            "visibility": null,
            "align_self": null,
            "height": null,
            "min_height": null,
            "padding": null,
            "grid_auto_rows": null,
            "grid_gap": null,
            "max_width": null,
            "order": null,
            "_view_module_version": "1.2.0",
            "grid_template_areas": null,
            "object_position": null,
            "object_fit": null,
            "grid_auto_columns": null,
            "margin": null,
            "display": null,
            "left": null
          }
        },
        "e4fd98d637ac424882775e35321d595a": {
          "model_module": "@jupyter-widgets/controls",
          "model_name": "IntSliderModel",
          "model_module_version": "1.5.0",
          "state": {
            "_view_name": "IntSliderView",
            "style": "IPY_MODEL_6fd182f4428e4373b7103cb6deba5afd",
            "_dom_classes": [],
            "description": "tempo",
            "step": 1,
            "_model_name": "IntSliderModel",
            "orientation": "horizontal",
            "max": 20,
            "_view_module": "@jupyter-widgets/controls",
            "_model_module_version": "1.5.0",
            "value": 10,
            "_view_count": null,
            "disabled": false,
            "_view_module_version": "1.5.0",
            "min": 1,
            "continuous_update": true,
            "readout_format": "d",
            "description_tooltip": null,
            "readout": true,
            "_model_module": "@jupyter-widgets/controls",
            "layout": "IPY_MODEL_efc9148954284d51b4eb6aa8fbecd98a"
          }
        },
        "481653db0dee423a8a26abefda5a5233": {
          "model_module": "@jupyter-widgets/controls",
          "model_name": "ButtonModel",
          "model_module_version": "1.5.0",
          "state": {
            "_view_name": "ButtonView",
            "style": "IPY_MODEL_155cb63c96284b7b85e55a092a13df96",
            "_dom_classes": [],
            "description": "Run Interact",
            "_model_name": "ButtonModel",
            "button_style": "",
            "_view_module": "@jupyter-widgets/controls",
            "_model_module_version": "1.5.0",
            "tooltip": "",
            "_view_count": null,
            "disabled": false,
            "_view_module_version": "1.5.0",
            "layout": "IPY_MODEL_adbf6a0d0b43434aa8d9e71680f8d71c",
            "_model_module": "@jupyter-widgets/controls",
            "icon": ""
          }
        },
        "b6029a7f6dbf4444ada1a20c92b79a51": {
          "model_module": "@jupyter-widgets/output",
          "model_name": "OutputModel",
          "model_module_version": "1.0.0",
          "state": {
            "_view_name": "OutputView",
            "msg_id": "",
            "_dom_classes": [],
            "_model_name": "OutputModel",
            "outputs": [],
            "_view_module": "@jupyter-widgets/output",
            "_model_module_version": "1.0.0",
            "_view_count": null,
            "_view_module_version": "1.0.0",
            "layout": "IPY_MODEL_ff13f0ff8eaf47328b4d25f86430d06b",
            "_model_module": "@jupyter-widgets/output"
          }
        },
        "6fd182f4428e4373b7103cb6deba5afd": {
          "model_module": "@jupyter-widgets/controls",
          "model_name": "SliderStyleModel",
          "model_module_version": "1.5.0",
          "state": {
            "_view_name": "StyleView",
            "handle_color": null,
            "_model_name": "SliderStyleModel",
            "description_width": "",
            "_view_module": "@jupyter-widgets/base",
            "_model_module_version": "1.5.0",
            "_view_count": null,
            "_view_module_version": "1.2.0",
            "_model_module": "@jupyter-widgets/controls"
          }
        },
        "efc9148954284d51b4eb6aa8fbecd98a": {
          "model_module": "@jupyter-widgets/base",
          "model_name": "LayoutModel",
          "model_module_version": "1.2.0",
          "state": {
            "_view_name": "LayoutView",
            "grid_template_rows": null,
            "right": null,
            "justify_content": null,
            "_view_module": "@jupyter-widgets/base",
            "overflow": null,
            "_model_module_version": "1.2.0",
            "_view_count": null,
            "flex_flow": null,
            "width": null,
            "min_width": null,
            "border": null,
            "align_items": null,
            "bottom": null,
            "_model_module": "@jupyter-widgets/base",
            "top": null,
            "grid_column": null,
            "overflow_y": null,
            "overflow_x": null,
            "grid_auto_flow": null,
            "grid_area": null,
            "grid_template_columns": null,
            "flex": null,
            "_model_name": "LayoutModel",
            "justify_items": null,
            "grid_row": null,
            "max_height": null,
            "align_content": null,
            "visibility": null,
            "align_self": null,
            "height": null,
            "min_height": null,
            "padding": null,
            "grid_auto_rows": null,
            "grid_gap": null,
            "max_width": null,
            "order": null,
            "_view_module_version": "1.2.0",
            "grid_template_areas": null,
            "object_position": null,
            "object_fit": null,
            "grid_auto_columns": null,
            "margin": null,
            "display": null,
            "left": null
          }
        },
        "155cb63c96284b7b85e55a092a13df96": {
          "model_module": "@jupyter-widgets/controls",
          "model_name": "ButtonStyleModel",
          "model_module_version": "1.5.0",
          "state": {
            "_view_name": "StyleView",
            "_model_name": "ButtonStyleModel",
            "_view_module": "@jupyter-widgets/base",
            "_model_module_version": "1.5.0",
            "_view_count": null,
            "button_color": null,
            "font_weight": "",
            "_view_module_version": "1.2.0",
            "_model_module": "@jupyter-widgets/controls"
          }
        },
        "adbf6a0d0b43434aa8d9e71680f8d71c": {
          "model_module": "@jupyter-widgets/base",
          "model_name": "LayoutModel",
          "model_module_version": "1.2.0",
          "state": {
            "_view_name": "LayoutView",
            "grid_template_rows": null,
            "right": null,
            "justify_content": null,
            "_view_module": "@jupyter-widgets/base",
            "overflow": null,
            "_model_module_version": "1.2.0",
            "_view_count": null,
            "flex_flow": null,
            "width": null,
            "min_width": null,
            "border": null,
            "align_items": null,
            "bottom": null,
            "_model_module": "@jupyter-widgets/base",
            "top": null,
            "grid_column": null,
            "overflow_y": null,
            "overflow_x": null,
            "grid_auto_flow": null,
            "grid_area": null,
            "grid_template_columns": null,
            "flex": null,
            "_model_name": "LayoutModel",
            "justify_items": null,
            "grid_row": null,
            "max_height": null,
            "align_content": null,
            "visibility": null,
            "align_self": null,
            "height": null,
            "min_height": null,
            "padding": null,
            "grid_auto_rows": null,
            "grid_gap": null,
            "max_width": null,
            "order": null,
            "_view_module_version": "1.2.0",
            "grid_template_areas": null,
            "object_position": null,
            "object_fit": null,
            "grid_auto_columns": null,
            "margin": null,
            "display": null,
            "left": null
          }
        },
        "ff13f0ff8eaf47328b4d25f86430d06b": {
          "model_module": "@jupyter-widgets/base",
          "model_name": "LayoutModel",
          "model_module_version": "1.2.0",
          "state": {
            "_view_name": "LayoutView",
            "grid_template_rows": null,
            "right": null,
            "justify_content": null,
            "_view_module": "@jupyter-widgets/base",
            "overflow": null,
            "_model_module_version": "1.2.0",
            "_view_count": null,
            "flex_flow": null,
            "width": null,
            "min_width": null,
            "border": null,
            "align_items": null,
            "bottom": null,
            "_model_module": "@jupyter-widgets/base",
            "top": null,
            "grid_column": null,
            "overflow_y": null,
            "overflow_x": null,
            "grid_auto_flow": null,
            "grid_area": null,
            "grid_template_columns": null,
            "flex": null,
            "_model_name": "LayoutModel",
            "justify_items": null,
            "grid_row": null,
            "max_height": null,
            "align_content": null,
            "visibility": null,
            "align_self": null,
            "height": null,
            "min_height": null,
            "padding": null,
            "grid_auto_rows": null,
            "grid_gap": null,
            "max_width": null,
            "order": null,
            "_view_module_version": "1.2.0",
            "grid_template_areas": null,
            "object_position": null,
            "object_fit": null,
            "grid_auto_columns": null,
            "margin": null,
            "display": null,
            "left": null
          }
        },
        "03b7ffa1e7e24a14a9ceda3af6baf8c2": {
          "model_module": "@jupyter-widgets/controls",
          "model_name": "VBoxModel",
          "model_module_version": "1.5.0",
          "state": {
            "_view_name": "VBoxView",
            "_dom_classes": [
              "widget-interact"
            ],
            "_model_name": "VBoxModel",
            "_view_module": "@jupyter-widgets/controls",
            "_model_module_version": "1.5.0",
            "_view_count": null,
            "_view_module_version": "1.5.0",
            "box_style": "",
            "layout": "IPY_MODEL_bbeacbee11b749ffb25828add370b236",
            "_model_module": "@jupyter-widgets/controls",
            "children": [
              "IPY_MODEL_940606c87a3a4b4bb64667fe8e15373f",
              "IPY_MODEL_30aafdd088144796b6dcc9cd3199c276",
              "IPY_MODEL_6e795b9df36c404691cb7be2985a3837",
              "IPY_MODEL_31724f3f58dd4613a0cce038f1686bff"
            ]
          }
        },
        "bbeacbee11b749ffb25828add370b236": {
          "model_module": "@jupyter-widgets/base",
          "model_name": "LayoutModel",
          "model_module_version": "1.2.0",
          "state": {
            "_view_name": "LayoutView",
            "grid_template_rows": null,
            "right": null,
            "justify_content": null,
            "_view_module": "@jupyter-widgets/base",
            "overflow": null,
            "_model_module_version": "1.2.0",
            "_view_count": null,
            "flex_flow": null,
            "width": null,
            "min_width": null,
            "border": null,
            "align_items": null,
            "bottom": null,
            "_model_module": "@jupyter-widgets/base",
            "top": null,
            "grid_column": null,
            "overflow_y": null,
            "overflow_x": null,
            "grid_auto_flow": null,
            "grid_area": null,
            "grid_template_columns": null,
            "flex": null,
            "_model_name": "LayoutModel",
            "justify_items": null,
            "grid_row": null,
            "max_height": null,
            "align_content": null,
            "visibility": null,
            "align_self": null,
            "height": null,
            "min_height": null,
            "padding": null,
            "grid_auto_rows": null,
            "grid_gap": null,
            "max_width": null,
            "order": null,
            "_view_module_version": "1.2.0",
            "grid_template_areas": null,
            "object_position": null,
            "object_fit": null,
            "grid_auto_columns": null,
            "margin": null,
            "display": null,
            "left": null
          }
        },
        "940606c87a3a4b4bb64667fe8e15373f": {
          "model_module": "@jupyter-widgets/controls",
          "model_name": "IntSliderModel",
          "model_module_version": "1.5.0",
          "state": {
            "_view_name": "IntSliderView",
            "style": "IPY_MODEL_c44d73daed984aa2a94d205f77ca252d",
            "_dom_classes": [],
            "description": "a",
            "step": 1,
            "_model_name": "IntSliderModel",
            "orientation": "horizontal",
            "max": 10,
            "_view_module": "@jupyter-widgets/controls",
            "_model_module_version": "1.5.0",
            "value": 4,
            "_view_count": null,
            "disabled": false,
            "_view_module_version": "1.5.0",
            "min": 0,
            "continuous_update": true,
            "readout_format": "d",
            "description_tooltip": null,
            "readout": true,
            "_model_module": "@jupyter-widgets/controls",
            "layout": "IPY_MODEL_3f922cf3e44b40138a7d7406217d1f05"
          }
        },
        "30aafdd088144796b6dcc9cd3199c276": {
          "model_module": "@jupyter-widgets/controls",
          "model_name": "IntSliderModel",
          "model_module_version": "1.5.0",
          "state": {
            "_view_name": "IntSliderView",
            "style": "IPY_MODEL_7347341cb672461e8531478dff938f19",
            "_dom_classes": [],
            "description": "b",
            "step": 1,
            "_model_name": "IntSliderModel",
            "orientation": "horizontal",
            "max": 10,
            "_view_module": "@jupyter-widgets/controls",
            "_model_module_version": "1.5.0",
            "value": 6,
            "_view_count": null,
            "disabled": false,
            "_view_module_version": "1.5.0",
            "min": 0,
            "continuous_update": true,
            "readout_format": "d",
            "description_tooltip": null,
            "readout": true,
            "_model_module": "@jupyter-widgets/controls",
            "layout": "IPY_MODEL_751375eaac844e18bcfdb430da887b08"
          }
        },
        "6e795b9df36c404691cb7be2985a3837": {
          "model_module": "@jupyter-widgets/controls",
          "model_name": "ButtonModel",
          "model_module_version": "1.5.0",
          "state": {
            "_view_name": "ButtonView",
            "style": "IPY_MODEL_2bd77ad4270e4f438e1b0b04c350eda0",
            "_dom_classes": [],
            "description": "Run Interact",
            "_model_name": "ButtonModel",
            "button_style": "",
            "_view_module": "@jupyter-widgets/controls",
            "_model_module_version": "1.5.0",
            "tooltip": "",
            "_view_count": null,
            "disabled": false,
            "_view_module_version": "1.5.0",
            "layout": "IPY_MODEL_27d78abb88aa4c53b1a0ad880a25161b",
            "_model_module": "@jupyter-widgets/controls",
            "icon": ""
          }
        },
        "31724f3f58dd4613a0cce038f1686bff": {
          "model_module": "@jupyter-widgets/output",
          "model_name": "OutputModel",
          "model_module_version": "1.0.0",
          "state": {
            "_view_name": "OutputView",
            "msg_id": "",
            "_dom_classes": [],
            "_model_name": "OutputModel",
            "outputs": [],
            "_view_module": "@jupyter-widgets/output",
            "_model_module_version": "1.0.0",
            "_view_count": null,
            "_view_module_version": "1.0.0",
            "layout": "IPY_MODEL_091c3f920494414681ccd69d8e9408b7",
            "_model_module": "@jupyter-widgets/output"
          }
        },
        "c44d73daed984aa2a94d205f77ca252d": {
          "model_module": "@jupyter-widgets/controls",
          "model_name": "SliderStyleModel",
          "model_module_version": "1.5.0",
          "state": {
            "_view_name": "StyleView",
            "handle_color": null,
            "_model_name": "SliderStyleModel",
            "description_width": "",
            "_view_module": "@jupyter-widgets/base",
            "_model_module_version": "1.5.0",
            "_view_count": null,
            "_view_module_version": "1.2.0",
            "_model_module": "@jupyter-widgets/controls"
          }
        },
        "3f922cf3e44b40138a7d7406217d1f05": {
          "model_module": "@jupyter-widgets/base",
          "model_name": "LayoutModel",
          "model_module_version": "1.2.0",
          "state": {
            "_view_name": "LayoutView",
            "grid_template_rows": null,
            "right": null,
            "justify_content": null,
            "_view_module": "@jupyter-widgets/base",
            "overflow": null,
            "_model_module_version": "1.2.0",
            "_view_count": null,
            "flex_flow": null,
            "width": null,
            "min_width": null,
            "border": null,
            "align_items": null,
            "bottom": null,
            "_model_module": "@jupyter-widgets/base",
            "top": null,
            "grid_column": null,
            "overflow_y": null,
            "overflow_x": null,
            "grid_auto_flow": null,
            "grid_area": null,
            "grid_template_columns": null,
            "flex": null,
            "_model_name": "LayoutModel",
            "justify_items": null,
            "grid_row": null,
            "max_height": null,
            "align_content": null,
            "visibility": null,
            "align_self": null,
            "height": null,
            "min_height": null,
            "padding": null,
            "grid_auto_rows": null,
            "grid_gap": null,
            "max_width": null,
            "order": null,
            "_view_module_version": "1.2.0",
            "grid_template_areas": null,
            "object_position": null,
            "object_fit": null,
            "grid_auto_columns": null,
            "margin": null,
            "display": null,
            "left": null
          }
        },
        "7347341cb672461e8531478dff938f19": {
          "model_module": "@jupyter-widgets/controls",
          "model_name": "SliderStyleModel",
          "model_module_version": "1.5.0",
          "state": {
            "_view_name": "StyleView",
            "handle_color": null,
            "_model_name": "SliderStyleModel",
            "description_width": "",
            "_view_module": "@jupyter-widgets/base",
            "_model_module_version": "1.5.0",
            "_view_count": null,
            "_view_module_version": "1.2.0",
            "_model_module": "@jupyter-widgets/controls"
          }
        },
        "751375eaac844e18bcfdb430da887b08": {
          "model_module": "@jupyter-widgets/base",
          "model_name": "LayoutModel",
          "model_module_version": "1.2.0",
          "state": {
            "_view_name": "LayoutView",
            "grid_template_rows": null,
            "right": null,
            "justify_content": null,
            "_view_module": "@jupyter-widgets/base",
            "overflow": null,
            "_model_module_version": "1.2.0",
            "_view_count": null,
            "flex_flow": null,
            "width": null,
            "min_width": null,
            "border": null,
            "align_items": null,
            "bottom": null,
            "_model_module": "@jupyter-widgets/base",
            "top": null,
            "grid_column": null,
            "overflow_y": null,
            "overflow_x": null,
            "grid_auto_flow": null,
            "grid_area": null,
            "grid_template_columns": null,
            "flex": null,
            "_model_name": "LayoutModel",
            "justify_items": null,
            "grid_row": null,
            "max_height": null,
            "align_content": null,
            "visibility": null,
            "align_self": null,
            "height": null,
            "min_height": null,
            "padding": null,
            "grid_auto_rows": null,
            "grid_gap": null,
            "max_width": null,
            "order": null,
            "_view_module_version": "1.2.0",
            "grid_template_areas": null,
            "object_position": null,
            "object_fit": null,
            "grid_auto_columns": null,
            "margin": null,
            "display": null,
            "left": null
          }
        },
        "2bd77ad4270e4f438e1b0b04c350eda0": {
          "model_module": "@jupyter-widgets/controls",
          "model_name": "ButtonStyleModel",
          "model_module_version": "1.5.0",
          "state": {
            "_view_name": "StyleView",
            "_model_name": "ButtonStyleModel",
            "_view_module": "@jupyter-widgets/base",
            "_model_module_version": "1.5.0",
            "_view_count": null,
            "button_color": null,
            "font_weight": "",
            "_view_module_version": "1.2.0",
            "_model_module": "@jupyter-widgets/controls"
          }
        },
        "27d78abb88aa4c53b1a0ad880a25161b": {
          "model_module": "@jupyter-widgets/base",
          "model_name": "LayoutModel",
          "model_module_version": "1.2.0",
          "state": {
            "_view_name": "LayoutView",
            "grid_template_rows": null,
            "right": null,
            "justify_content": null,
            "_view_module": "@jupyter-widgets/base",
            "overflow": null,
            "_model_module_version": "1.2.0",
            "_view_count": null,
            "flex_flow": null,
            "width": null,
            "min_width": null,
            "border": null,
            "align_items": null,
            "bottom": null,
            "_model_module": "@jupyter-widgets/base",
            "top": null,
            "grid_column": null,
            "overflow_y": null,
            "overflow_x": null,
            "grid_auto_flow": null,
            "grid_area": null,
            "grid_template_columns": null,
            "flex": null,
            "_model_name": "LayoutModel",
            "justify_items": null,
            "grid_row": null,
            "max_height": null,
            "align_content": null,
            "visibility": null,
            "align_self": null,
            "height": null,
            "min_height": null,
            "padding": null,
            "grid_auto_rows": null,
            "grid_gap": null,
            "max_width": null,
            "order": null,
            "_view_module_version": "1.2.0",
            "grid_template_areas": null,
            "object_position": null,
            "object_fit": null,
            "grid_auto_columns": null,
            "margin": null,
            "display": null,
            "left": null
          }
        },
        "091c3f920494414681ccd69d8e9408b7": {
          "model_module": "@jupyter-widgets/base",
          "model_name": "LayoutModel",
          "model_module_version": "1.2.0",
          "state": {
            "_view_name": "LayoutView",
            "grid_template_rows": null,
            "right": null,
            "justify_content": null,
            "_view_module": "@jupyter-widgets/base",
            "overflow": null,
            "_model_module_version": "1.2.0",
            "_view_count": null,
            "flex_flow": null,
            "width": null,
            "min_width": null,
            "border": null,
            "align_items": null,
            "bottom": null,
            "_model_module": "@jupyter-widgets/base",
            "top": null,
            "grid_column": null,
            "overflow_y": null,
            "overflow_x": null,
            "grid_auto_flow": null,
            "grid_area": null,
            "grid_template_columns": null,
            "flex": null,
            "_model_name": "LayoutModel",
            "justify_items": null,
            "grid_row": null,
            "max_height": null,
            "align_content": null,
            "visibility": null,
            "align_self": null,
            "height": null,
            "min_height": null,
            "padding": null,
            "grid_auto_rows": null,
            "grid_gap": null,
            "max_width": null,
            "order": null,
            "_view_module_version": "1.2.0",
            "grid_template_areas": null,
            "object_position": null,
            "object_fit": null,
            "grid_auto_columns": null,
            "margin": null,
            "display": null,
            "left": null
          }
        },
        "5a54d8f4433c4147a7bb771eb901b9ab": {
          "model_module": "@jupyter-widgets/controls",
          "model_name": "VBoxModel",
          "model_module_version": "1.5.0",
          "state": {
            "_view_name": "VBoxView",
            "_dom_classes": [
              "widget-interact"
            ],
            "_model_name": "VBoxModel",
            "_view_module": "@jupyter-widgets/controls",
            "_model_module_version": "1.5.0",
            "_view_count": null,
            "_view_module_version": "1.5.0",
            "box_style": "",
            "layout": "IPY_MODEL_4d75e5ef4f4a4679a7f977cb38185e0a",
            "_model_module": "@jupyter-widgets/controls",
            "children": [
              "IPY_MODEL_8df5fc3665fc4ca99d9f9c74d5076d7d",
              "IPY_MODEL_5983d281a869452aa9a25485a5f19e19",
              "IPY_MODEL_a7583d4b7bd04e989291fdf453604791"
            ]
          }
        },
        "4d75e5ef4f4a4679a7f977cb38185e0a": {
          "model_module": "@jupyter-widgets/base",
          "model_name": "LayoutModel",
          "model_module_version": "1.2.0",
          "state": {
            "_view_name": "LayoutView",
            "grid_template_rows": null,
            "right": null,
            "justify_content": null,
            "_view_module": "@jupyter-widgets/base",
            "overflow": null,
            "_model_module_version": "1.2.0",
            "_view_count": null,
            "flex_flow": null,
            "width": null,
            "min_width": null,
            "border": null,
            "align_items": null,
            "bottom": null,
            "_model_module": "@jupyter-widgets/base",
            "top": null,
            "grid_column": null,
            "overflow_y": null,
            "overflow_x": null,
            "grid_auto_flow": null,
            "grid_area": null,
            "grid_template_columns": null,
            "flex": null,
            "_model_name": "LayoutModel",
            "justify_items": null,
            "grid_row": null,
            "max_height": null,
            "align_content": null,
            "visibility": null,
            "align_self": null,
            "height": null,
            "min_height": null,
            "padding": null,
            "grid_auto_rows": null,
            "grid_gap": null,
            "max_width": null,
            "order": null,
            "_view_module_version": "1.2.0",
            "grid_template_areas": null,
            "object_position": null,
            "object_fit": null,
            "grid_auto_columns": null,
            "margin": null,
            "display": null,
            "left": null
          }
        },
        "8df5fc3665fc4ca99d9f9c74d5076d7d": {
          "model_module": "@jupyter-widgets/controls",
          "model_name": "IntSliderModel",
          "model_module_version": "1.5.0",
          "state": {
            "_view_name": "IntSliderView",
            "style": "IPY_MODEL_2b0302ebd56a498e84e4c8a0f90e1958",
            "_dom_classes": [],
            "description": "ore",
            "step": 1,
            "_model_name": "IntSliderModel",
            "orientation": "horizontal",
            "max": 72,
            "_view_module": "@jupyter-widgets/controls",
            "_model_module_version": "1.5.0",
            "value": 3,
            "_view_count": null,
            "disabled": false,
            "_view_module_version": "1.5.0",
            "min": 0,
            "continuous_update": true,
            "readout_format": "d",
            "description_tooltip": null,
            "readout": true,
            "_model_module": "@jupyter-widgets/controls",
            "layout": "IPY_MODEL_bf357f8f04ad452d9d40beef229bb247"
          }
        },
        "5983d281a869452aa9a25485a5f19e19": {
          "model_module": "@jupyter-widgets/controls",
          "model_name": "ButtonModel",
          "model_module_version": "1.5.0",
          "state": {
            "_view_name": "ButtonView",
            "style": "IPY_MODEL_8da4833d23164ad2ac125c5e97025911",
            "_dom_classes": [],
            "description": "Run Interact",
            "_model_name": "ButtonModel",
            "button_style": "",
            "_view_module": "@jupyter-widgets/controls",
            "_model_module_version": "1.5.0",
            "tooltip": "",
            "_view_count": null,
            "disabled": false,
            "_view_module_version": "1.5.0",
            "layout": "IPY_MODEL_0dda835c51f44848b75bdf60493465e2",
            "_model_module": "@jupyter-widgets/controls",
            "icon": ""
          }
        },
        "a7583d4b7bd04e989291fdf453604791": {
          "model_module": "@jupyter-widgets/output",
          "model_name": "OutputModel",
          "model_module_version": "1.0.0",
          "state": {
            "_view_name": "OutputView",
            "msg_id": "",
            "_dom_classes": [],
            "_model_name": "OutputModel",
            "outputs": [],
            "_view_module": "@jupyter-widgets/output",
            "_model_module_version": "1.0.0",
            "_view_count": null,
            "_view_module_version": "1.0.0",
            "layout": "IPY_MODEL_abfa0a22f5af447e9f27164e74b36241",
            "_model_module": "@jupyter-widgets/output"
          }
        },
        "2b0302ebd56a498e84e4c8a0f90e1958": {
          "model_module": "@jupyter-widgets/controls",
          "model_name": "SliderStyleModel",
          "model_module_version": "1.5.0",
          "state": {
            "_view_name": "StyleView",
            "handle_color": null,
            "_model_name": "SliderStyleModel",
            "description_width": "",
            "_view_module": "@jupyter-widgets/base",
            "_model_module_version": "1.5.0",
            "_view_count": null,
            "_view_module_version": "1.2.0",
            "_model_module": "@jupyter-widgets/controls"
          }
        },
        "bf357f8f04ad452d9d40beef229bb247": {
          "model_module": "@jupyter-widgets/base",
          "model_name": "LayoutModel",
          "model_module_version": "1.2.0",
          "state": {
            "_view_name": "LayoutView",
            "grid_template_rows": null,
            "right": null,
            "justify_content": null,
            "_view_module": "@jupyter-widgets/base",
            "overflow": null,
            "_model_module_version": "1.2.0",
            "_view_count": null,
            "flex_flow": null,
            "width": null,
            "min_width": null,
            "border": null,
            "align_items": null,
            "bottom": null,
            "_model_module": "@jupyter-widgets/base",
            "top": null,
            "grid_column": null,
            "overflow_y": null,
            "overflow_x": null,
            "grid_auto_flow": null,
            "grid_area": null,
            "grid_template_columns": null,
            "flex": null,
            "_model_name": "LayoutModel",
            "justify_items": null,
            "grid_row": null,
            "max_height": null,
            "align_content": null,
            "visibility": null,
            "align_self": null,
            "height": null,
            "min_height": null,
            "padding": null,
            "grid_auto_rows": null,
            "grid_gap": null,
            "max_width": null,
            "order": null,
            "_view_module_version": "1.2.0",
            "grid_template_areas": null,
            "object_position": null,
            "object_fit": null,
            "grid_auto_columns": null,
            "margin": null,
            "display": null,
            "left": null
          }
        },
        "8da4833d23164ad2ac125c5e97025911": {
          "model_module": "@jupyter-widgets/controls",
          "model_name": "ButtonStyleModel",
          "model_module_version": "1.5.0",
          "state": {
            "_view_name": "StyleView",
            "_model_name": "ButtonStyleModel",
            "_view_module": "@jupyter-widgets/base",
            "_model_module_version": "1.5.0",
            "_view_count": null,
            "button_color": null,
            "font_weight": "",
            "_view_module_version": "1.2.0",
            "_model_module": "@jupyter-widgets/controls"
          }
        },
        "0dda835c51f44848b75bdf60493465e2": {
          "model_module": "@jupyter-widgets/base",
          "model_name": "LayoutModel",
          "model_module_version": "1.2.0",
          "state": {
            "_view_name": "LayoutView",
            "grid_template_rows": null,
            "right": null,
            "justify_content": null,
            "_view_module": "@jupyter-widgets/base",
            "overflow": null,
            "_model_module_version": "1.2.0",
            "_view_count": null,
            "flex_flow": null,
            "width": null,
            "min_width": null,
            "border": null,
            "align_items": null,
            "bottom": null,
            "_model_module": "@jupyter-widgets/base",
            "top": null,
            "grid_column": null,
            "overflow_y": null,
            "overflow_x": null,
            "grid_auto_flow": null,
            "grid_area": null,
            "grid_template_columns": null,
            "flex": null,
            "_model_name": "LayoutModel",
            "justify_items": null,
            "grid_row": null,
            "max_height": null,
            "align_content": null,
            "visibility": null,
            "align_self": null,
            "height": null,
            "min_height": null,
            "padding": null,
            "grid_auto_rows": null,
            "grid_gap": null,
            "max_width": null,
            "order": null,
            "_view_module_version": "1.2.0",
            "grid_template_areas": null,
            "object_position": null,
            "object_fit": null,
            "grid_auto_columns": null,
            "margin": null,
            "display": null,
            "left": null
          }
        },
        "abfa0a22f5af447e9f27164e74b36241": {
          "model_module": "@jupyter-widgets/base",
          "model_name": "LayoutModel",
          "model_module_version": "1.2.0",
          "state": {
            "_view_name": "LayoutView",
            "grid_template_rows": null,
            "right": null,
            "justify_content": null,
            "_view_module": "@jupyter-widgets/base",
            "overflow": null,
            "_model_module_version": "1.2.0",
            "_view_count": null,
            "flex_flow": null,
            "width": null,
            "min_width": null,
            "border": null,
            "align_items": null,
            "bottom": null,
            "_model_module": "@jupyter-widgets/base",
            "top": null,
            "grid_column": null,
            "overflow_y": null,
            "overflow_x": null,
            "grid_auto_flow": null,
            "grid_area": null,
            "grid_template_columns": null,
            "flex": null,
            "_model_name": "LayoutModel",
            "justify_items": null,
            "grid_row": null,
            "max_height": null,
            "align_content": null,
            "visibility": null,
            "align_self": null,
            "height": null,
            "min_height": null,
            "padding": null,
            "grid_auto_rows": null,
            "grid_gap": null,
            "max_width": null,
            "order": null,
            "_view_module_version": "1.2.0",
            "grid_template_areas": null,
            "object_position": null,
            "object_fit": null,
            "grid_auto_columns": null,
            "margin": null,
            "display": null,
            "left": null
          }
        },
        "6d96a933f96e4568a3d43f95761189aa": {
          "model_module": "@jupyter-widgets/controls",
          "model_name": "VBoxModel",
          "model_module_version": "1.5.0",
          "state": {
            "_view_name": "VBoxView",
            "_dom_classes": [
              "widget-interact"
            ],
            "_model_name": "VBoxModel",
            "_view_module": "@jupyter-widgets/controls",
            "_model_module_version": "1.5.0",
            "_view_count": null,
            "_view_module_version": "1.5.0",
            "box_style": "",
            "layout": "IPY_MODEL_886b90c894d541af89efb70eeb2a5386",
            "_model_module": "@jupyter-widgets/controls",
            "children": [
              "IPY_MODEL_ba733fec8997451a86e0579529271acd",
              "IPY_MODEL_a2beacaa08214ffbb00ca7bd47b62356",
              "IPY_MODEL_a4ac1c389e7748a9a7f1cc4999868be7"
            ]
          }
        },
        "886b90c894d541af89efb70eeb2a5386": {
          "model_module": "@jupyter-widgets/base",
          "model_name": "LayoutModel",
          "model_module_version": "1.2.0",
          "state": {
            "_view_name": "LayoutView",
            "grid_template_rows": null,
            "right": null,
            "justify_content": null,
            "_view_module": "@jupyter-widgets/base",
            "overflow": null,
            "_model_module_version": "1.2.0",
            "_view_count": null,
            "flex_flow": null,
            "width": null,
            "min_width": null,
            "border": null,
            "align_items": null,
            "bottom": null,
            "_model_module": "@jupyter-widgets/base",
            "top": null,
            "grid_column": null,
            "overflow_y": null,
            "overflow_x": null,
            "grid_auto_flow": null,
            "grid_area": null,
            "grid_template_columns": null,
            "flex": null,
            "_model_name": "LayoutModel",
            "justify_items": null,
            "grid_row": null,
            "max_height": null,
            "align_content": null,
            "visibility": null,
            "align_self": null,
            "height": null,
            "min_height": null,
            "padding": null,
            "grid_auto_rows": null,
            "grid_gap": null,
            "max_width": null,
            "order": null,
            "_view_module_version": "1.2.0",
            "grid_template_areas": null,
            "object_position": null,
            "object_fit": null,
            "grid_auto_columns": null,
            "margin": null,
            "display": null,
            "left": null
          }
        },
        "ba733fec8997451a86e0579529271acd": {
          "model_module": "@jupyter-widgets/controls",
          "model_name": "IntSliderModel",
          "model_module_version": "1.5.0",
          "state": {
            "_view_name": "IntSliderView",
            "style": "IPY_MODEL_0eb501166b5148edbe56d62d4001a34a",
            "_dom_classes": [],
            "description": "λ",
            "step": 1,
            "_model_name": "IntSliderModel",
            "orientation": "horizontal",
            "max": 10,
            "_view_module": "@jupyter-widgets/controls",
            "_model_module_version": "1.5.0",
            "value": 2,
            "_view_count": null,
            "disabled": false,
            "_view_module_version": "1.5.0",
            "min": 2,
            "continuous_update": true,
            "readout_format": "d",
            "description_tooltip": null,
            "readout": true,
            "_model_module": "@jupyter-widgets/controls",
            "layout": "IPY_MODEL_3ee8aeabb96f41b7b3d27d0d9d594dbe"
          }
        },
        "a2beacaa08214ffbb00ca7bd47b62356": {
          "model_module": "@jupyter-widgets/controls",
          "model_name": "ButtonModel",
          "model_module_version": "1.5.0",
          "state": {
            "_view_name": "ButtonView",
            "style": "IPY_MODEL_9e6c4d343f664feca527a212624f370e",
            "_dom_classes": [],
            "description": "Run Interact",
            "_model_name": "ButtonModel",
            "button_style": "",
            "_view_module": "@jupyter-widgets/controls",
            "_model_module_version": "1.5.0",
            "tooltip": "",
            "_view_count": null,
            "disabled": false,
            "_view_module_version": "1.5.0",
            "layout": "IPY_MODEL_eaa3a23638424c6ba3e9ca9403852e67",
            "_model_module": "@jupyter-widgets/controls",
            "icon": ""
          }
        },
        "a4ac1c389e7748a9a7f1cc4999868be7": {
          "model_module": "@jupyter-widgets/output",
          "model_name": "OutputModel",
          "model_module_version": "1.0.0",
          "state": {
            "_view_name": "OutputView",
            "msg_id": "",
            "_dom_classes": [],
            "_model_name": "OutputModel",
            "outputs": [
              {
                "output_type": "display_data",
                "data": {
                  "image/png": "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\n",
                  "text/plain": "<Figure size 432x288 with 1 Axes>"
                },
                "metadata": {
                  "needs_background": "light"
                }
              }
            ],
            "_view_module": "@jupyter-widgets/output",
            "_model_module_version": "1.0.0",
            "_view_count": null,
            "_view_module_version": "1.0.0",
            "layout": "IPY_MODEL_d121406209a14c8cb4779e349ebc31ea",
            "_model_module": "@jupyter-widgets/output"
          }
        },
        "0eb501166b5148edbe56d62d4001a34a": {
          "model_module": "@jupyter-widgets/controls",
          "model_name": "SliderStyleModel",
          "model_module_version": "1.5.0",
          "state": {
            "_view_name": "StyleView",
            "handle_color": null,
            "_model_name": "SliderStyleModel",
            "description_width": "",
            "_view_module": "@jupyter-widgets/base",
            "_model_module_version": "1.5.0",
            "_view_count": null,
            "_view_module_version": "1.2.0",
            "_model_module": "@jupyter-widgets/controls"
          }
        },
        "3ee8aeabb96f41b7b3d27d0d9d594dbe": {
          "model_module": "@jupyter-widgets/base",
          "model_name": "LayoutModel",
          "model_module_version": "1.2.0",
          "state": {
            "_view_name": "LayoutView",
            "grid_template_rows": null,
            "right": null,
            "justify_content": null,
            "_view_module": "@jupyter-widgets/base",
            "overflow": null,
            "_model_module_version": "1.2.0",
            "_view_count": null,
            "flex_flow": null,
            "width": null,
            "min_width": null,
            "border": null,
            "align_items": null,
            "bottom": null,
            "_model_module": "@jupyter-widgets/base",
            "top": null,
            "grid_column": null,
            "overflow_y": null,
            "overflow_x": null,
            "grid_auto_flow": null,
            "grid_area": null,
            "grid_template_columns": null,
            "flex": null,
            "_model_name": "LayoutModel",
            "justify_items": null,
            "grid_row": null,
            "max_height": null,
            "align_content": null,
            "visibility": null,
            "align_self": null,
            "height": null,
            "min_height": null,
            "padding": null,
            "grid_auto_rows": null,
            "grid_gap": null,
            "max_width": null,
            "order": null,
            "_view_module_version": "1.2.0",
            "grid_template_areas": null,
            "object_position": null,
            "object_fit": null,
            "grid_auto_columns": null,
            "margin": null,
            "display": null,
            "left": null
          }
        },
        "9e6c4d343f664feca527a212624f370e": {
          "model_module": "@jupyter-widgets/controls",
          "model_name": "ButtonStyleModel",
          "model_module_version": "1.5.0",
          "state": {
            "_view_name": "StyleView",
            "_model_name": "ButtonStyleModel",
            "_view_module": "@jupyter-widgets/base",
            "_model_module_version": "1.5.0",
            "_view_count": null,
            "button_color": null,
            "font_weight": "",
            "_view_module_version": "1.2.0",
            "_model_module": "@jupyter-widgets/controls"
          }
        },
        "eaa3a23638424c6ba3e9ca9403852e67": {
          "model_module": "@jupyter-widgets/base",
          "model_name": "LayoutModel",
          "model_module_version": "1.2.0",
          "state": {
            "_view_name": "LayoutView",
            "grid_template_rows": null,
            "right": null,
            "justify_content": null,
            "_view_module": "@jupyter-widgets/base",
            "overflow": null,
            "_model_module_version": "1.2.0",
            "_view_count": null,
            "flex_flow": null,
            "width": null,
            "min_width": null,
            "border": null,
            "align_items": null,
            "bottom": null,
            "_model_module": "@jupyter-widgets/base",
            "top": null,
            "grid_column": null,
            "overflow_y": null,
            "overflow_x": null,
            "grid_auto_flow": null,
            "grid_area": null,
            "grid_template_columns": null,
            "flex": null,
            "_model_name": "LayoutModel",
            "justify_items": null,
            "grid_row": null,
            "max_height": null,
            "align_content": null,
            "visibility": null,
            "align_self": null,
            "height": null,
            "min_height": null,
            "padding": null,
            "grid_auto_rows": null,
            "grid_gap": null,
            "max_width": null,
            "order": null,
            "_view_module_version": "1.2.0",
            "grid_template_areas": null,
            "object_position": null,
            "object_fit": null,
            "grid_auto_columns": null,
            "margin": null,
            "display": null,
            "left": null
          }
        },
        "d121406209a14c8cb4779e349ebc31ea": {
          "model_module": "@jupyter-widgets/base",
          "model_name": "LayoutModel",
          "model_module_version": "1.2.0",
          "state": {
            "_view_name": "LayoutView",
            "grid_template_rows": null,
            "right": null,
            "justify_content": null,
            "_view_module": "@jupyter-widgets/base",
            "overflow": null,
            "_model_module_version": "1.2.0",
            "_view_count": null,
            "flex_flow": null,
            "width": null,
            "min_width": null,
            "border": null,
            "align_items": null,
            "bottom": null,
            "_model_module": "@jupyter-widgets/base",
            "top": null,
            "grid_column": null,
            "overflow_y": null,
            "overflow_x": null,
            "grid_auto_flow": null,
            "grid_area": null,
            "grid_template_columns": null,
            "flex": null,
            "_model_name": "LayoutModel",
            "justify_items": null,
            "grid_row": null,
            "max_height": null,
            "align_content": null,
            "visibility": null,
            "align_self": null,
            "height": null,
            "min_height": null,
            "padding": null,
            "grid_auto_rows": null,
            "grid_gap": null,
            "max_width": null,
            "order": null,
            "_view_module_version": "1.2.0",
            "grid_template_areas": null,
            "object_position": null,
            "object_fit": null,
            "grid_auto_columns": null,
            "margin": null,
            "display": null,
            "left": null
          }
        },
        "5ade0cb51b8548f5bd367d25181bcd63": {
          "model_module": "@jupyter-widgets/controls",
          "model_name": "VBoxModel",
          "model_module_version": "1.5.0",
          "state": {
            "_view_name": "VBoxView",
            "_dom_classes": [
              "widget-interact"
            ],
            "_model_name": "VBoxModel",
            "_view_module": "@jupyter-widgets/controls",
            "_model_module_version": "1.5.0",
            "_view_count": null,
            "_view_module_version": "1.5.0",
            "box_style": "",
            "layout": "IPY_MODEL_5d9e0271f8914e5cabfa9d737cf59c6c",
            "_model_module": "@jupyter-widgets/controls",
            "children": [
              "IPY_MODEL_3e232d1c20784362961ebd4faf4a710f",
              "IPY_MODEL_153fd2d90c1f4ef7934032a623b3a162",
              "IPY_MODEL_86fcbca4ec6040a9bafe004e59e47bce",
              "IPY_MODEL_14396a8f50064f579735a21ed49415bf"
            ]
          }
        },
        "5d9e0271f8914e5cabfa9d737cf59c6c": {
          "model_module": "@jupyter-widgets/base",
          "model_name": "LayoutModel",
          "model_module_version": "1.2.0",
          "state": {
            "_view_name": "LayoutView",
            "grid_template_rows": null,
            "right": null,
            "justify_content": null,
            "_view_module": "@jupyter-widgets/base",
            "overflow": null,
            "_model_module_version": "1.2.0",
            "_view_count": null,
            "flex_flow": null,
            "width": null,
            "min_width": null,
            "border": null,
            "align_items": null,
            "bottom": null,
            "_model_module": "@jupyter-widgets/base",
            "top": null,
            "grid_column": null,
            "overflow_y": null,
            "overflow_x": null,
            "grid_auto_flow": null,
            "grid_area": null,
            "grid_template_columns": null,
            "flex": null,
            "_model_name": "LayoutModel",
            "justify_items": null,
            "grid_row": null,
            "max_height": null,
            "align_content": null,
            "visibility": null,
            "align_self": null,
            "height": null,
            "min_height": null,
            "padding": null,
            "grid_auto_rows": null,
            "grid_gap": null,
            "max_width": null,
            "order": null,
            "_view_module_version": "1.2.0",
            "grid_template_areas": null,
            "object_position": null,
            "object_fit": null,
            "grid_auto_columns": null,
            "margin": null,
            "display": null,
            "left": null
          }
        },
        "3e232d1c20784362961ebd4faf4a710f": {
          "model_module": "@jupyter-widgets/controls",
          "model_name": "IntSliderModel",
          "model_module_version": "1.5.0",
          "state": {
            "_view_name": "IntSliderView",
            "style": "IPY_MODEL_a4fc5ff902e64d2f8facf9b931e2b238",
            "_dom_classes": [],
            "description": "ore",
            "step": 1,
            "_model_name": "IntSliderModel",
            "orientation": "horizontal",
            "max": 72,
            "_view_module": "@jupyter-widgets/controls",
            "_model_module_version": "1.5.0",
            "value": 10,
            "_view_count": null,
            "disabled": false,
            "_view_module_version": "1.5.0",
            "min": 0,
            "continuous_update": true,
            "readout_format": "d",
            "description_tooltip": null,
            "readout": true,
            "_model_module": "@jupyter-widgets/controls",
            "layout": "IPY_MODEL_84cec1419c4749ac864cbf9dace1162c"
          }
        },
        "153fd2d90c1f4ef7934032a623b3a162": {
          "model_module": "@jupyter-widgets/controls",
          "model_name": "IntSliderModel",
          "model_module_version": "1.5.0",
          "state": {
            "_view_name": "IntSliderView",
            "style": "IPY_MODEL_71cac5af299341bd849018cd7fbd65e2",
            "_dom_classes": [],
            "description": "λ",
            "step": 1,
            "_model_name": "IntSliderModel",
            "orientation": "horizontal",
            "max": 10,
            "_view_module": "@jupyter-widgets/controls",
            "_model_module_version": "1.5.0",
            "value": 2,
            "_view_count": null,
            "disabled": false,
            "_view_module_version": "1.5.0",
            "min": 2,
            "continuous_update": true,
            "readout_format": "d",
            "description_tooltip": null,
            "readout": true,
            "_model_module": "@jupyter-widgets/controls",
            "layout": "IPY_MODEL_7f49f09b18b846eca0cf67b1e9bccb45"
          }
        },
        "86fcbca4ec6040a9bafe004e59e47bce": {
          "model_module": "@jupyter-widgets/controls",
          "model_name": "ButtonModel",
          "model_module_version": "1.5.0",
          "state": {
            "_view_name": "ButtonView",
            "style": "IPY_MODEL_2d04c411fa2a4127af944edb6c03963f",
            "_dom_classes": [],
            "description": "Run Interact",
            "_model_name": "ButtonModel",
            "button_style": "",
            "_view_module": "@jupyter-widgets/controls",
            "_model_module_version": "1.5.0",
            "tooltip": "",
            "_view_count": null,
            "disabled": false,
            "_view_module_version": "1.5.0",
            "layout": "IPY_MODEL_69dd53240c2a4ee7b41b03e93c4f66d4",
            "_model_module": "@jupyter-widgets/controls",
            "icon": ""
          }
        },
        "14396a8f50064f579735a21ed49415bf": {
          "model_module": "@jupyter-widgets/output",
          "model_name": "OutputModel",
          "model_module_version": "1.0.0",
          "state": {
            "_view_name": "OutputView",
            "msg_id": "",
            "_dom_classes": [],
            "_model_name": "OutputModel",
            "outputs": [],
            "_view_module": "@jupyter-widgets/output",
            "_model_module_version": "1.0.0",
            "_view_count": null,
            "_view_module_version": "1.0.0",
            "layout": "IPY_MODEL_f410daf922d74f0a9c51f64bb4e74af3",
            "_model_module": "@jupyter-widgets/output"
          }
        },
        "a4fc5ff902e64d2f8facf9b931e2b238": {
          "model_module": "@jupyter-widgets/controls",
          "model_name": "SliderStyleModel",
          "model_module_version": "1.5.0",
          "state": {
            "_view_name": "StyleView",
            "handle_color": null,
            "_model_name": "SliderStyleModel",
            "description_width": "",
            "_view_module": "@jupyter-widgets/base",
            "_model_module_version": "1.5.0",
            "_view_count": null,
            "_view_module_version": "1.2.0",
            "_model_module": "@jupyter-widgets/controls"
          }
        },
        "84cec1419c4749ac864cbf9dace1162c": {
          "model_module": "@jupyter-widgets/base",
          "model_name": "LayoutModel",
          "model_module_version": "1.2.0",
          "state": {
            "_view_name": "LayoutView",
            "grid_template_rows": null,
            "right": null,
            "justify_content": null,
            "_view_module": "@jupyter-widgets/base",
            "overflow": null,
            "_model_module_version": "1.2.0",
            "_view_count": null,
            "flex_flow": null,
            "width": null,
            "min_width": null,
            "border": null,
            "align_items": null,
            "bottom": null,
            "_model_module": "@jupyter-widgets/base",
            "top": null,
            "grid_column": null,
            "overflow_y": null,
            "overflow_x": null,
            "grid_auto_flow": null,
            "grid_area": null,
            "grid_template_columns": null,
            "flex": null,
            "_model_name": "LayoutModel",
            "justify_items": null,
            "grid_row": null,
            "max_height": null,
            "align_content": null,
            "visibility": null,
            "align_self": null,
            "height": null,
            "min_height": null,
            "padding": null,
            "grid_auto_rows": null,
            "grid_gap": null,
            "max_width": null,
            "order": null,
            "_view_module_version": "1.2.0",
            "grid_template_areas": null,
            "object_position": null,
            "object_fit": null,
            "grid_auto_columns": null,
            "margin": null,
            "display": null,
            "left": null
          }
        },
        "71cac5af299341bd849018cd7fbd65e2": {
          "model_module": "@jupyter-widgets/controls",
          "model_name": "SliderStyleModel",
          "model_module_version": "1.5.0",
          "state": {
            "_view_name": "StyleView",
            "handle_color": null,
            "_model_name": "SliderStyleModel",
            "description_width": "",
            "_view_module": "@jupyter-widgets/base",
            "_model_module_version": "1.5.0",
            "_view_count": null,
            "_view_module_version": "1.2.0",
            "_model_module": "@jupyter-widgets/controls"
          }
        },
        "7f49f09b18b846eca0cf67b1e9bccb45": {
          "model_module": "@jupyter-widgets/base",
          "model_name": "LayoutModel",
          "model_module_version": "1.2.0",
          "state": {
            "_view_name": "LayoutView",
            "grid_template_rows": null,
            "right": null,
            "justify_content": null,
            "_view_module": "@jupyter-widgets/base",
            "overflow": null,
            "_model_module_version": "1.2.0",
            "_view_count": null,
            "flex_flow": null,
            "width": null,
            "min_width": null,
            "border": null,
            "align_items": null,
            "bottom": null,
            "_model_module": "@jupyter-widgets/base",
            "top": null,
            "grid_column": null,
            "overflow_y": null,
            "overflow_x": null,
            "grid_auto_flow": null,
            "grid_area": null,
            "grid_template_columns": null,
            "flex": null,
            "_model_name": "LayoutModel",
            "justify_items": null,
            "grid_row": null,
            "max_height": null,
            "align_content": null,
            "visibility": null,
            "align_self": null,
            "height": null,
            "min_height": null,
            "padding": null,
            "grid_auto_rows": null,
            "grid_gap": null,
            "max_width": null,
            "order": null,
            "_view_module_version": "1.2.0",
            "grid_template_areas": null,
            "object_position": null,
            "object_fit": null,
            "grid_auto_columns": null,
            "margin": null,
            "display": null,
            "left": null
          }
        },
        "2d04c411fa2a4127af944edb6c03963f": {
          "model_module": "@jupyter-widgets/controls",
          "model_name": "ButtonStyleModel",
          "model_module_version": "1.5.0",
          "state": {
            "_view_name": "StyleView",
            "_model_name": "ButtonStyleModel",
            "_view_module": "@jupyter-widgets/base",
            "_model_module_version": "1.5.0",
            "_view_count": null,
            "button_color": null,
            "font_weight": "",
            "_view_module_version": "1.2.0",
            "_model_module": "@jupyter-widgets/controls"
          }
        },
        "69dd53240c2a4ee7b41b03e93c4f66d4": {
          "model_module": "@jupyter-widgets/base",
          "model_name": "LayoutModel",
          "model_module_version": "1.2.0",
          "state": {
            "_view_name": "LayoutView",
            "grid_template_rows": null,
            "right": null,
            "justify_content": null,
            "_view_module": "@jupyter-widgets/base",
            "overflow": null,
            "_model_module_version": "1.2.0",
            "_view_count": null,
            "flex_flow": null,
            "width": null,
            "min_width": null,
            "border": null,
            "align_items": null,
            "bottom": null,
            "_model_module": "@jupyter-widgets/base",
            "top": null,
            "grid_column": null,
            "overflow_y": null,
            "overflow_x": null,
            "grid_auto_flow": null,
            "grid_area": null,
            "grid_template_columns": null,
            "flex": null,
            "_model_name": "LayoutModel",
            "justify_items": null,
            "grid_row": null,
            "max_height": null,
            "align_content": null,
            "visibility": null,
            "align_self": null,
            "height": null,
            "min_height": null,
            "padding": null,
            "grid_auto_rows": null,
            "grid_gap": null,
            "max_width": null,
            "order": null,
            "_view_module_version": "1.2.0",
            "grid_template_areas": null,
            "object_position": null,
            "object_fit": null,
            "grid_auto_columns": null,
            "margin": null,
            "display": null,
            "left": null
          }
        },
        "f410daf922d74f0a9c51f64bb4e74af3": {
          "model_module": "@jupyter-widgets/base",
          "model_name": "LayoutModel",
          "model_module_version": "1.2.0",
          "state": {
            "_view_name": "LayoutView",
            "grid_template_rows": null,
            "right": null,
            "justify_content": null,
            "_view_module": "@jupyter-widgets/base",
            "overflow": null,
            "_model_module_version": "1.2.0",
            "_view_count": null,
            "flex_flow": null,
            "width": null,
            "min_width": null,
            "border": null,
            "align_items": null,
            "bottom": null,
            "_model_module": "@jupyter-widgets/base",
            "top": null,
            "grid_column": null,
            "overflow_y": null,
            "overflow_x": null,
            "grid_auto_flow": null,
            "grid_area": null,
            "grid_template_columns": null,
            "flex": null,
            "_model_name": "LayoutModel",
            "justify_items": null,
            "grid_row": null,
            "max_height": null,
            "align_content": null,
            "visibility": null,
            "align_self": null,
            "height": null,
            "min_height": null,
            "padding": null,
            "grid_auto_rows": null,
            "grid_gap": null,
            "max_width": null,
            "order": null,
            "_view_module_version": "1.2.0",
            "grid_template_areas": null,
            "object_position": null,
            "object_fit": null,
            "grid_auto_columns": null,
            "margin": null,
            "display": null,
            "left": null
          }
        },
        "d5cb2602df7c415d918472872b345e15": {
          "model_module": "@jupyter-widgets/controls",
          "model_name": "VBoxModel",
          "model_module_version": "1.5.0",
          "state": {
            "_view_name": "VBoxView",
            "_dom_classes": [
              "widget-interact"
            ],
            "_model_name": "VBoxModel",
            "_view_module": "@jupyter-widgets/controls",
            "_model_module_version": "1.5.0",
            "_view_count": null,
            "_view_module_version": "1.5.0",
            "box_style": "",
            "layout": "IPY_MODEL_b9c8fad34f7b41da9ba66c4d08e9fef1",
            "_model_module": "@jupyter-widgets/controls",
            "children": [
              "IPY_MODEL_3a88111b91c640faa08e821769f72b46",
              "IPY_MODEL_1cecc9d8ad7148b1bbf1de814c17bad1",
              "IPY_MODEL_b7ace5b9298a4215892588cd23255c00",
              "IPY_MODEL_2d2afff0bd6e4a2ab078d950f798fef8"
            ]
          }
        },
        "b9c8fad34f7b41da9ba66c4d08e9fef1": {
          "model_module": "@jupyter-widgets/base",
          "model_name": "LayoutModel",
          "model_module_version": "1.2.0",
          "state": {
            "_view_name": "LayoutView",
            "grid_template_rows": null,
            "right": null,
            "justify_content": null,
            "_view_module": "@jupyter-widgets/base",
            "overflow": null,
            "_model_module_version": "1.2.0",
            "_view_count": null,
            "flex_flow": null,
            "width": null,
            "min_width": null,
            "border": null,
            "align_items": null,
            "bottom": null,
            "_model_module": "@jupyter-widgets/base",
            "top": null,
            "grid_column": null,
            "overflow_y": null,
            "overflow_x": null,
            "grid_auto_flow": null,
            "grid_area": null,
            "grid_template_columns": null,
            "flex": null,
            "_model_name": "LayoutModel",
            "justify_items": null,
            "grid_row": null,
            "max_height": null,
            "align_content": null,
            "visibility": null,
            "align_self": null,
            "height": null,
            "min_height": null,
            "padding": null,
            "grid_auto_rows": null,
            "grid_gap": null,
            "max_width": null,
            "order": null,
            "_view_module_version": "1.2.0",
            "grid_template_areas": null,
            "object_position": null,
            "object_fit": null,
            "grid_auto_columns": null,
            "margin": null,
            "display": null,
            "left": null
          }
        },
        "3a88111b91c640faa08e821769f72b46": {
          "model_module": "@jupyter-widgets/controls",
          "model_name": "IntSliderModel",
          "model_module_version": "1.5.0",
          "state": {
            "_view_name": "IntSliderView",
            "style": "IPY_MODEL_499c0f71bed842a898d6e93b4dc1c90d",
            "_dom_classes": [],
            "description": "t1",
            "step": 1,
            "_model_name": "IntSliderModel",
            "orientation": "horizontal",
            "max": 96,
            "_view_module": "@jupyter-widgets/controls",
            "_model_module_version": "1.5.0",
            "value": 3,
            "_view_count": null,
            "disabled": false,
            "_view_module_version": "1.5.0",
            "min": 0,
            "continuous_update": true,
            "readout_format": "d",
            "description_tooltip": null,
            "readout": true,
            "_model_module": "@jupyter-widgets/controls",
            "layout": "IPY_MODEL_a0042e0cc1f74525a4cf0646afaf960a"
          }
        },
        "1cecc9d8ad7148b1bbf1de814c17bad1": {
          "model_module": "@jupyter-widgets/controls",
          "model_name": "IntSliderModel",
          "model_module_version": "1.5.0",
          "state": {
            "_view_name": "IntSliderView",
            "style": "IPY_MODEL_bca8c3c5ef5e415aaccb32ff1912e67e",
            "_dom_classes": [],
            "description": "t2",
            "step": 1,
            "_model_name": "IntSliderModel",
            "orientation": "horizontal",
            "max": 96,
            "_view_module": "@jupyter-widgets/controls",
            "_model_module_version": "1.5.0",
            "value": 10,
            "_view_count": null,
            "disabled": false,
            "_view_module_version": "1.5.0",
            "min": 0,
            "continuous_update": true,
            "readout_format": "d",
            "description_tooltip": null,
            "readout": true,
            "_model_module": "@jupyter-widgets/controls",
            "layout": "IPY_MODEL_a01f636f7ae54e35b6158979042214e8"
          }
        },
        "b7ace5b9298a4215892588cd23255c00": {
          "model_module": "@jupyter-widgets/controls",
          "model_name": "ButtonModel",
          "model_module_version": "1.5.0",
          "state": {
            "_view_name": "ButtonView",
            "style": "IPY_MODEL_805a1429a4334922ade8cfe00be3f4cf",
            "_dom_classes": [],
            "description": "Run Interact",
            "_model_name": "ButtonModel",
            "button_style": "",
            "_view_module": "@jupyter-widgets/controls",
            "_model_module_version": "1.5.0",
            "tooltip": "",
            "_view_count": null,
            "disabled": false,
            "_view_module_version": "1.5.0",
            "layout": "IPY_MODEL_26741b9e3ffd4ca1afbf8e24962e4828",
            "_model_module": "@jupyter-widgets/controls",
            "icon": ""
          }
        },
        "2d2afff0bd6e4a2ab078d950f798fef8": {
          "model_module": "@jupyter-widgets/output",
          "model_name": "OutputModel",
          "model_module_version": "1.0.0",
          "state": {
            "_view_name": "OutputView",
            "msg_id": "",
            "_dom_classes": [],
            "_model_name": "OutputModel",
            "outputs": [
              {
                "output_type": "stream",
                "name": "stdout",
                "text": [
                  "Risultati attesi: 0.223\n",
                  "Risultati ottenuti: 0.224\n"
                ]
              },
              {
                "output_type": "display_data",
                "data": {
                  "image/png": "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\n",
                  "text/plain": "<Figure size 432x288 with 1 Axes>"
                },
                "metadata": {
                  "needs_background": "light"
                }
              }
            ],
            "_view_module": "@jupyter-widgets/output",
            "_model_module_version": "1.0.0",
            "_view_count": null,
            "_view_module_version": "1.0.0",
            "layout": "IPY_MODEL_f13a00777ebd4bd6a1e0efd344441fdc",
            "_model_module": "@jupyter-widgets/output"
          }
        },
        "499c0f71bed842a898d6e93b4dc1c90d": {
          "model_module": "@jupyter-widgets/controls",
          "model_name": "SliderStyleModel",
          "model_module_version": "1.5.0",
          "state": {
            "_view_name": "StyleView",
            "handle_color": null,
            "_model_name": "SliderStyleModel",
            "description_width": "",
            "_view_module": "@jupyter-widgets/base",
            "_model_module_version": "1.5.0",
            "_view_count": null,
            "_view_module_version": "1.2.0",
            "_model_module": "@jupyter-widgets/controls"
          }
        },
        "a0042e0cc1f74525a4cf0646afaf960a": {
          "model_module": "@jupyter-widgets/base",
          "model_name": "LayoutModel",
          "model_module_version": "1.2.0",
          "state": {
            "_view_name": "LayoutView",
            "grid_template_rows": null,
            "right": null,
            "justify_content": null,
            "_view_module": "@jupyter-widgets/base",
            "overflow": null,
            "_model_module_version": "1.2.0",
            "_view_count": null,
            "flex_flow": null,
            "width": null,
            "min_width": null,
            "border": null,
            "align_items": null,
            "bottom": null,
            "_model_module": "@jupyter-widgets/base",
            "top": null,
            "grid_column": null,
            "overflow_y": null,
            "overflow_x": null,
            "grid_auto_flow": null,
            "grid_area": null,
            "grid_template_columns": null,
            "flex": null,
            "_model_name": "LayoutModel",
            "justify_items": null,
            "grid_row": null,
            "max_height": null,
            "align_content": null,
            "visibility": null,
            "align_self": null,
            "height": null,
            "min_height": null,
            "padding": null,
            "grid_auto_rows": null,
            "grid_gap": null,
            "max_width": null,
            "order": null,
            "_view_module_version": "1.2.0",
            "grid_template_areas": null,
            "object_position": null,
            "object_fit": null,
            "grid_auto_columns": null,
            "margin": null,
            "display": null,
            "left": null
          }
        },
        "bca8c3c5ef5e415aaccb32ff1912e67e": {
          "model_module": "@jupyter-widgets/controls",
          "model_name": "SliderStyleModel",
          "model_module_version": "1.5.0",
          "state": {
            "_view_name": "StyleView",
            "handle_color": null,
            "_model_name": "SliderStyleModel",
            "description_width": "",
            "_view_module": "@jupyter-widgets/base",
            "_model_module_version": "1.5.0",
            "_view_count": null,
            "_view_module_version": "1.2.0",
            "_model_module": "@jupyter-widgets/controls"
          }
        },
        "a01f636f7ae54e35b6158979042214e8": {
          "model_module": "@jupyter-widgets/base",
          "model_name": "LayoutModel",
          "model_module_version": "1.2.0",
          "state": {
            "_view_name": "LayoutView",
            "grid_template_rows": null,
            "right": null,
            "justify_content": null,
            "_view_module": "@jupyter-widgets/base",
            "overflow": null,
            "_model_module_version": "1.2.0",
            "_view_count": null,
            "flex_flow": null,
            "width": null,
            "min_width": null,
            "border": null,
            "align_items": null,
            "bottom": null,
            "_model_module": "@jupyter-widgets/base",
            "top": null,
            "grid_column": null,
            "overflow_y": null,
            "overflow_x": null,
            "grid_auto_flow": null,
            "grid_area": null,
            "grid_template_columns": null,
            "flex": null,
            "_model_name": "LayoutModel",
            "justify_items": null,
            "grid_row": null,
            "max_height": null,
            "align_content": null,
            "visibility": null,
            "align_self": null,
            "height": null,
            "min_height": null,
            "padding": null,
            "grid_auto_rows": null,
            "grid_gap": null,
            "max_width": null,
            "order": null,
            "_view_module_version": "1.2.0",
            "grid_template_areas": null,
            "object_position": null,
            "object_fit": null,
            "grid_auto_columns": null,
            "margin": null,
            "display": null,
            "left": null
          }
        },
        "805a1429a4334922ade8cfe00be3f4cf": {
          "model_module": "@jupyter-widgets/controls",
          "model_name": "ButtonStyleModel",
          "model_module_version": "1.5.0",
          "state": {
            "_view_name": "StyleView",
            "_model_name": "ButtonStyleModel",
            "_view_module": "@jupyter-widgets/base",
            "_model_module_version": "1.5.0",
            "_view_count": null,
            "button_color": null,
            "font_weight": "",
            "_view_module_version": "1.2.0",
            "_model_module": "@jupyter-widgets/controls"
          }
        },
        "26741b9e3ffd4ca1afbf8e24962e4828": {
          "model_module": "@jupyter-widgets/base",
          "model_name": "LayoutModel",
          "model_module_version": "1.2.0",
          "state": {
            "_view_name": "LayoutView",
            "grid_template_rows": null,
            "right": null,
            "justify_content": null,
            "_view_module": "@jupyter-widgets/base",
            "overflow": null,
            "_model_module_version": "1.2.0",
            "_view_count": null,
            "flex_flow": null,
            "width": null,
            "min_width": null,
            "border": null,
            "align_items": null,
            "bottom": null,
            "_model_module": "@jupyter-widgets/base",
            "top": null,
            "grid_column": null,
            "overflow_y": null,
            "overflow_x": null,
            "grid_auto_flow": null,
            "grid_area": null,
            "grid_template_columns": null,
            "flex": null,
            "_model_name": "LayoutModel",
            "justify_items": null,
            "grid_row": null,
            "max_height": null,
            "align_content": null,
            "visibility": null,
            "align_self": null,
            "height": null,
            "min_height": null,
            "padding": null,
            "grid_auto_rows": null,
            "grid_gap": null,
            "max_width": null,
            "order": null,
            "_view_module_version": "1.2.0",
            "grid_template_areas": null,
            "object_position": null,
            "object_fit": null,
            "grid_auto_columns": null,
            "margin": null,
            "display": null,
            "left": null
          }
        },
        "f13a00777ebd4bd6a1e0efd344441fdc": {
          "model_module": "@jupyter-widgets/base",
          "model_name": "LayoutModel",
          "model_module_version": "1.2.0",
          "state": {
            "_view_name": "LayoutView",
            "grid_template_rows": null,
            "right": null,
            "justify_content": null,
            "_view_module": "@jupyter-widgets/base",
            "overflow": null,
            "_model_module_version": "1.2.0",
            "_view_count": null,
            "flex_flow": null,
            "width": null,
            "min_width": null,
            "border": null,
            "align_items": null,
            "bottom": null,
            "_model_module": "@jupyter-widgets/base",
            "top": null,
            "grid_column": null,
            "overflow_y": null,
            "overflow_x": null,
            "grid_auto_flow": null,
            "grid_area": null,
            "grid_template_columns": null,
            "flex": null,
            "_model_name": "LayoutModel",
            "justify_items": null,
            "grid_row": null,
            "max_height": null,
            "align_content": null,
            "visibility": null,
            "align_self": null,
            "height": null,
            "min_height": null,
            "padding": null,
            "grid_auto_rows": null,
            "grid_gap": null,
            "max_width": null,
            "order": null,
            "_view_module_version": "1.2.0",
            "grid_template_areas": null,
            "object_position": null,
            "object_fit": null,
            "grid_auto_columns": null,
            "margin": null,
            "display": null,
            "left": null
          }
        },
        "15ade483d90d487b89a3fe996afec976": {
          "model_module": "@jupyter-widgets/controls",
          "model_name": "VBoxModel",
          "model_module_version": "1.5.0",
          "state": {
            "_view_name": "VBoxView",
            "_dom_classes": [
              "widget-interact"
            ],
            "_model_name": "VBoxModel",
            "_view_module": "@jupyter-widgets/controls",
            "_model_module_version": "1.5.0",
            "_view_count": null,
            "_view_module_version": "1.5.0",
            "box_style": "",
            "layout": "IPY_MODEL_6cf372c19b694802b107d5ef098ab45d",
            "_model_module": "@jupyter-widgets/controls",
            "children": [
              "IPY_MODEL_086e08a2228040b79d6b14759b2c38a2",
              "IPY_MODEL_a943460f0ec24579bb50b7116efb572b",
              "IPY_MODEL_0bad40afc1f240978cb1776d25b87788"
            ]
          }
        },
        "6cf372c19b694802b107d5ef098ab45d": {
          "model_module": "@jupyter-widgets/base",
          "model_name": "LayoutModel",
          "model_module_version": "1.2.0",
          "state": {
            "_view_name": "LayoutView",
            "grid_template_rows": null,
            "right": null,
            "justify_content": null,
            "_view_module": "@jupyter-widgets/base",
            "overflow": null,
            "_model_module_version": "1.2.0",
            "_view_count": null,
            "flex_flow": null,
            "width": null,
            "min_width": null,
            "border": null,
            "align_items": null,
            "bottom": null,
            "_model_module": "@jupyter-widgets/base",
            "top": null,
            "grid_column": null,
            "overflow_y": null,
            "overflow_x": null,
            "grid_auto_flow": null,
            "grid_area": null,
            "grid_template_columns": null,
            "flex": null,
            "_model_name": "LayoutModel",
            "justify_items": null,
            "grid_row": null,
            "max_height": null,
            "align_content": null,
            "visibility": null,
            "align_self": null,
            "height": null,
            "min_height": null,
            "padding": null,
            "grid_auto_rows": null,
            "grid_gap": null,
            "max_width": null,
            "order": null,
            "_view_module_version": "1.2.0",
            "grid_template_areas": null,
            "object_position": null,
            "object_fit": null,
            "grid_auto_columns": null,
            "margin": null,
            "display": null,
            "left": null
          }
        },
        "086e08a2228040b79d6b14759b2c38a2": {
          "model_module": "@jupyter-widgets/controls",
          "model_name": "IntSliderModel",
          "model_module_version": "1.5.0",
          "state": {
            "_view_name": "IntSliderView",
            "style": "IPY_MODEL_f865a874452f487d9b233fc679bc09fa",
            "_dom_classes": [],
            "description": "tempo",
            "step": 1,
            "_model_name": "IntSliderModel",
            "orientation": "horizontal",
            "max": 20,
            "_view_module": "@jupyter-widgets/controls",
            "_model_module_version": "1.5.0",
            "value": 10,
            "_view_count": null,
            "disabled": false,
            "_view_module_version": "1.5.0",
            "min": 0,
            "continuous_update": true,
            "readout_format": "d",
            "description_tooltip": null,
            "readout": true,
            "_model_module": "@jupyter-widgets/controls",
            "layout": "IPY_MODEL_b48d936f120042f5abd9ba7d810dc50d"
          }
        },
        "a943460f0ec24579bb50b7116efb572b": {
          "model_module": "@jupyter-widgets/controls",
          "model_name": "ButtonModel",
          "model_module_version": "1.5.0",
          "state": {
            "_view_name": "ButtonView",
            "style": "IPY_MODEL_67bbad45bc944f1f8526499cf62706e3",
            "_dom_classes": [],
            "description": "Run Interact",
            "_model_name": "ButtonModel",
            "button_style": "",
            "_view_module": "@jupyter-widgets/controls",
            "_model_module_version": "1.5.0",
            "tooltip": "",
            "_view_count": null,
            "disabled": false,
            "_view_module_version": "1.5.0",
            "layout": "IPY_MODEL_8444d29c3f124b4195d0d4dfb4a1de41",
            "_model_module": "@jupyter-widgets/controls",
            "icon": ""
          }
        },
        "0bad40afc1f240978cb1776d25b87788": {
          "model_module": "@jupyter-widgets/output",
          "model_name": "OutputModel",
          "model_module_version": "1.0.0",
          "state": {
            "_view_name": "OutputView",
            "msg_id": "",
            "_dom_classes": [],
            "_model_name": "OutputModel",
            "outputs": [],
            "_view_module": "@jupyter-widgets/output",
            "_model_module_version": "1.0.0",
            "_view_count": null,
            "_view_module_version": "1.0.0",
            "layout": "IPY_MODEL_140183fa23734e38b9b5f858b48ef5f9",
            "_model_module": "@jupyter-widgets/output"
          }
        },
        "f865a874452f487d9b233fc679bc09fa": {
          "model_module": "@jupyter-widgets/controls",
          "model_name": "SliderStyleModel",
          "model_module_version": "1.5.0",
          "state": {
            "_view_name": "StyleView",
            "handle_color": null,
            "_model_name": "SliderStyleModel",
            "description_width": "",
            "_view_module": "@jupyter-widgets/base",
            "_model_module_version": "1.5.0",
            "_view_count": null,
            "_view_module_version": "1.2.0",
            "_model_module": "@jupyter-widgets/controls"
          }
        },
        "b48d936f120042f5abd9ba7d810dc50d": {
          "model_module": "@jupyter-widgets/base",
          "model_name": "LayoutModel",
          "model_module_version": "1.2.0",
          "state": {
            "_view_name": "LayoutView",
            "grid_template_rows": null,
            "right": null,
            "justify_content": null,
            "_view_module": "@jupyter-widgets/base",
            "overflow": null,
            "_model_module_version": "1.2.0",
            "_view_count": null,
            "flex_flow": null,
            "width": null,
            "min_width": null,
            "border": null,
            "align_items": null,
            "bottom": null,
            "_model_module": "@jupyter-widgets/base",
            "top": null,
            "grid_column": null,
            "overflow_y": null,
            "overflow_x": null,
            "grid_auto_flow": null,
            "grid_area": null,
            "grid_template_columns": null,
            "flex": null,
            "_model_name": "LayoutModel",
            "justify_items": null,
            "grid_row": null,
            "max_height": null,
            "align_content": null,
            "visibility": null,
            "align_self": null,
            "height": null,
            "min_height": null,
            "padding": null,
            "grid_auto_rows": null,
            "grid_gap": null,
            "max_width": null,
            "order": null,
            "_view_module_version": "1.2.0",
            "grid_template_areas": null,
            "object_position": null,
            "object_fit": null,
            "grid_auto_columns": null,
            "margin": null,
            "display": null,
            "left": null
          }
        },
        "67bbad45bc944f1f8526499cf62706e3": {
          "model_module": "@jupyter-widgets/controls",
          "model_name": "ButtonStyleModel",
          "model_module_version": "1.5.0",
          "state": {
            "_view_name": "StyleView",
            "_model_name": "ButtonStyleModel",
            "_view_module": "@jupyter-widgets/base",
            "_model_module_version": "1.5.0",
            "_view_count": null,
            "button_color": null,
            "font_weight": "",
            "_view_module_version": "1.2.0",
            "_model_module": "@jupyter-widgets/controls"
          }
        },
        "8444d29c3f124b4195d0d4dfb4a1de41": {
          "model_module": "@jupyter-widgets/base",
          "model_name": "LayoutModel",
          "model_module_version": "1.2.0",
          "state": {
            "_view_name": "LayoutView",
            "grid_template_rows": null,
            "right": null,
            "justify_content": null,
            "_view_module": "@jupyter-widgets/base",
            "overflow": null,
            "_model_module_version": "1.2.0",
            "_view_count": null,
            "flex_flow": null,
            "width": null,
            "min_width": null,
            "border": null,
            "align_items": null,
            "bottom": null,
            "_model_module": "@jupyter-widgets/base",
            "top": null,
            "grid_column": null,
            "overflow_y": null,
            "overflow_x": null,
            "grid_auto_flow": null,
            "grid_area": null,
            "grid_template_columns": null,
            "flex": null,
            "_model_name": "LayoutModel",
            "justify_items": null,
            "grid_row": null,
            "max_height": null,
            "align_content": null,
            "visibility": null,
            "align_self": null,
            "height": null,
            "min_height": null,
            "padding": null,
            "grid_auto_rows": null,
            "grid_gap": null,
            "max_width": null,
            "order": null,
            "_view_module_version": "1.2.0",
            "grid_template_areas": null,
            "object_position": null,
            "object_fit": null,
            "grid_auto_columns": null,
            "margin": null,
            "display": null,
            "left": null
          }
        },
        "140183fa23734e38b9b5f858b48ef5f9": {
          "model_module": "@jupyter-widgets/base",
          "model_name": "LayoutModel",
          "model_module_version": "1.2.0",
          "state": {
            "_view_name": "LayoutView",
            "grid_template_rows": null,
            "right": null,
            "justify_content": null,
            "_view_module": "@jupyter-widgets/base",
            "overflow": null,
            "_model_module_version": "1.2.0",
            "_view_count": null,
            "flex_flow": null,
            "width": null,
            "min_width": null,
            "border": null,
            "align_items": null,
            "bottom": null,
            "_model_module": "@jupyter-widgets/base",
            "top": null,
            "grid_column": null,
            "overflow_y": null,
            "overflow_x": null,
            "grid_auto_flow": null,
            "grid_area": null,
            "grid_template_columns": null,
            "flex": null,
            "_model_name": "LayoutModel",
            "justify_items": null,
            "grid_row": null,
            "max_height": null,
            "align_content": null,
            "visibility": null,
            "align_self": null,
            "height": null,
            "min_height": null,
            "padding": null,
            "grid_auto_rows": null,
            "grid_gap": null,
            "max_width": null,
            "order": null,
            "_view_module_version": "1.2.0",
            "grid_template_areas": null,
            "object_position": null,
            "object_fit": null,
            "grid_auto_columns": null,
            "margin": null,
            "display": null,
            "left": null
          }
        }
      }
    }
  },
  "cells": [
    {
      "cell_type": "markdown",
      "metadata": {
        "id": "view-in-github",
        "colab_type": "text"
      },
      "source": [
        "<a href=\"https://colab.research.google.com/github/MontiMic/Tesi/blob/riordinato/Untitled1.ipynb\" target=\"_parent\"><img src=\"https://colab.research.google.com/assets/colab-badge.svg\" alt=\"Open In Colab\"/></a>"
      ]
    },
    {
      "cell_type": "markdown",
      "source": [
        "# Introduzione\n",
        "La seguente presentazione si propone di semplificare l'apprendimento di alcuni principi del calcolo probabilistico offrendo la possibilità di vedere applicare le leggi su grandi numeri e confrontando i risultati ottenuti con quelli attesi dalla teoria."
      ],
      "metadata": {
        "id": "yyLelI9l5lbc"
      }
    },
    {
      "cell_type": "markdown",
      "source": [
        "Di seguito includiamo le librerie che verranno utilizzate nel corso della presentazione:\n",
        "\n",
        "* **numpy** per la manipolazione dei dati\n",
        "\n",
        "* **interact** per rendere la presentazione interattiva offrendo la possibilità allo studente di scegliere gli input\n",
        "\n",
        "* **pyplot** per la rappresentazione grafica dei risultati"
      ],
      "metadata": {
        "id": "35yCw13F7Yam"
      }
    },
    {
      "cell_type": "code",
      "execution_count": 2,
      "metadata": {
        "id": "TAxUPZupC-qR"
      },
      "outputs": [],
      "source": [
        "import numpy as np\n",
        "from ipywidgets import interact, interact_manual\n",
        "from matplotlib import pyplot as plt\n",
        "import math\n",
        "import seaborn as sns\n",
        "import random"
      ]
    },
    {
      "cell_type": "markdown",
      "source": [
        "##Elementi di python"
      ],
      "metadata": {
        "id": "XN5Whz1Y9fiZ"
      }
    },
    {
      "cell_type": "markdown",
      "source": [
        "Questa sezione è rivolta unicamente a chi non avesse ancora mai visto il python, allo scopo di mostrare alcune pratiche peculiari a Python."
      ],
      "metadata": {
        "id": "yHNFMDrk9pHX"
      }
    },
    {
      "cell_type": "markdown",
      "source": [
        "La funzione np.zeros(n) restituisce un array di zeri lungo n"
      ],
      "metadata": {
        "id": "kXZd8nfHDkHj"
      }
    },
    {
      "cell_type": "code",
      "source": [
        "np.zeros(5)"
      ],
      "metadata": {
        "colab": {
          "base_uri": "https://localhost:8080/"
        },
        "id": "Pukdrzg7-ggY",
        "outputId": "acb207ae-b73a-47c6-b69b-3e23f3af6349"
      },
      "execution_count": 3,
      "outputs": [
        {
          "output_type": "execute_result",
          "data": {
            "text/plain": [
              "array([0., 0., 0., 0., 0.])"
            ]
          },
          "metadata": {},
          "execution_count": 3
        }
      ]
    },
    {
      "cell_type": "markdown",
      "source": [
        "Specificando anche il type booleano facciamo una conversione: \n",
        "\n",
        "*  Gli zeri diventano False\n",
        "\n",
        "* I valori diversi da zero diventano True"
      ],
      "metadata": {
        "id": "VyLCyWeYDvuh"
      }
    },
    {
      "cell_type": "code",
      "source": [
        "esempio = np.zeros(10, dtype=np.bool)\n",
        "print(esempio)"
      ],
      "metadata": {
        "colab": {
          "base_uri": "https://localhost:8080/"
        },
        "id": "lO-15LDEDZEP",
        "outputId": "26a82e1b-33ac-45ed-e05b-e371ff25e188"
      },
      "execution_count": 4,
      "outputs": [
        {
          "output_type": "stream",
          "name": "stdout",
          "text": [
            "[False False False False False False False False False False]\n"
          ]
        },
        {
          "output_type": "stream",
          "name": "stderr",
          "text": [
            "/usr/local/lib/python3.7/dist-packages/ipykernel_launcher.py:1: DeprecationWarning: `np.bool` is a deprecated alias for the builtin `bool`. To silence this warning, use `bool` by itself. Doing this will not modify any behavior and is safe. If you specifically wanted the numpy scalar type, use `np.bool_` here.\n",
            "Deprecated in NumPy 1.20; for more details and guidance: https://numpy.org/devdocs/release/1.20.0-notes.html#deprecations\n",
            "  \"\"\"Entry point for launching an IPython kernel.\n"
          ]
        }
      ]
    },
    {
      "cell_type": "markdown",
      "source": [
        "Useremo questo tipo di struttura dati per simulare praticamente tutto, dalla roulette (True = rosso, False = nero) ad un urna di palline (quando ci basteranno 2 soli colori delle palline)"
      ],
      "metadata": {
        "id": "t-fqP7KSEIUu"
      }
    },
    {
      "cell_type": "markdown",
      "source": [
        "Questa struttura dati ci offre inol"
      ],
      "metadata": {
        "id": "YS53XnBHNuxD"
      }
    },
    {
      "cell_type": "markdown",
      "source": [
        "Per modificare un array il python ci offre uno strumento molto potente: lo slicing. Questa funzionalità permette di intervenire su un qualunque sottoinsieme dell'array se usata correttamente. A noi basta sapere che in un caso come esempio[1:5:2], stiamo intervenendo sull'array esempio, prendendo gli elementi dalla posizione 1 (inclusa) alla posizione 5 (esclusa) con passo 2:"
      ],
      "metadata": {
        "id": "OEyj-K9iEeQa"
      }
    },
    {
      "cell_type": "code",
      "source": [
        "esempio = ['a', 'b', 'c', 'd', 'e']\n",
        "esempio[1:5:2]"
      ],
      "metadata": {
        "colab": {
          "base_uri": "https://localhost:8080/"
        },
        "id": "48oF9noGF3Np",
        "outputId": "bace308f-448e-4c4f-a59a-09cbe5ae2084"
      },
      "execution_count": 5,
      "outputs": [
        {
          "output_type": "execute_result",
          "data": {
            "text/plain": [
              "['b', 'd']"
            ]
          },
          "metadata": {},
          "execution_count": 5
        }
      ]
    },
    {
      "cell_type": "markdown",
      "source": [
        "Non specificare il primo parametro significa partire dall'elemento 0, omettere il secondo significa procedere fino all'ultimo (compreso) e non specificare il passo significa passo 1: non saltare nessun elemento."
      ],
      "metadata": {
        "id": "Rm-4oAaOGvIL"
      }
    },
    {
      "cell_type": "markdown",
      "source": [
        "La funzione range(n) restituisce un iterabile lungo n. In python è generalmente usata nel ciclo for."
      ],
      "metadata": {
        "id": "b6PzabLwIH1d"
      }
    },
    {
      "cell_type": "code",
      "source": [
        "for i in range(5):\n",
        "  print(i)"
      ],
      "metadata": {
        "colab": {
          "base_uri": "https://localhost:8080/"
        },
        "id": "fdFx5oZPIaf5",
        "outputId": "527f2c57-c40c-4179-aab5-5aaeca16e205"
      },
      "execution_count": 6,
      "outputs": [
        {
          "output_type": "stream",
          "name": "stdout",
          "text": [
            "0\n",
            "1\n",
            "2\n",
            "3\n",
            "4\n"
          ]
        }
      ]
    },
    {
      "cell_type": "markdown",
      "source": [
        "##Funzioni utili"
      ],
      "metadata": {
        "id": "UdZaaBfKzjzX"
      }
    },
    {
      "cell_type": "markdown",
      "source": [
        "Quelle che seguono sono funzioni utilizzate in più test del documento, per il corretto funzionamento dei test successivi è necessario eseguire queste celle una volta."
      ],
      "metadata": {
        "id": "iZFqSjhypj_Y"
      }
    },
    {
      "cell_type": "code",
      "source": [
        "#funzione che genera una roulette simulata da un array lungo 37 di cui 18 valori contano come \"vittoria\"\n",
        "def mk_roulette():\n",
        "  ruota = np.zeros(37, dtype=np.bool)\n",
        "  ruota[1::2] = True\n",
        "  return ruota"
      ],
      "metadata": {
        "id": "4LJOZHxd810N"
      },
      "execution_count": 7,
      "outputs": []
    },
    {
      "cell_type": "code",
      "source": [
        "#funzione che simula una singola partita alla roulette (1 o più puntate uguali) e, dato il portafogli di partenza, torno il nuovo conto\n",
        "def partita(ruota, giocate, puntata, portafogli):\n",
        "  while(giocate > 0):\n",
        "      giocate = giocate - 1\n",
        "      portafogli = portafogli - puntata #la puntata la considero sempre persa, in caso di vittoria vinco il doppio della puntata\n",
        "      if(ruota[np.random.randint(0, (37))]): #estraggo un elemento casuale della roulette e verifico se è rosso\n",
        "        portafogli = portafogli + (puntata * 2)\n",
        "  return portafogli  "
      ],
      "metadata": {
        "id": "fqGFfq_CT7Tv"
      },
      "execution_count": 8,
      "outputs": []
    },
    {
      "cell_type": "code",
      "source": [
        "#funzione che simula un dado ritornando un intero compreso tra 1 e 6\n",
        "def trow():\n",
        "  return np.random.randint(1, 7)"
      ],
      "metadata": {
        "id": "O7NiHEewS99d"
      },
      "execution_count": 9,
      "outputs": []
    },
    {
      "cell_type": "code",
      "source": [
        "#funzione che ritorna un'urna contenente palline di 2 colori in quanità scelta\n",
        "def mk_urna(bianche, rosse):\n",
        "  tot = bianche + rosse\n",
        "  urna = np.zeros((tot, 1), dtype=np.bool)\n",
        "  while(rosse > 0):\n",
        "    rnd = np.random.randint(0, (tot))\n",
        "    if (not urna[rnd]):\n",
        "      urna[rnd] = True\n",
        "      rosse = rosse - 1\n",
        "  return urna"
      ],
      "metadata": {
        "id": "R06bqIr8Ii4G"
      },
      "execution_count": 10,
      "outputs": []
    },
    {
      "cell_type": "markdown",
      "source": [
        "##Interpretazione dei risultati"
      ],
      "metadata": {
        "id": "EbFr-wXap_mS"
      }
    },
    {
      "cell_type": "markdown",
      "source": [
        "I test di questo documento hanno lo scopo di mostrare che le formule viste con la teoria del calcolo probabilistico hanno un riscontro nella realtà. \n",
        "Ogni test simulerà per un numero di volte a discrezione dello studente, lo scenario descritto dall'esempio in esame. Si noti che un numero più alto di ripetizioni porterà a risultati più precisi."
      ],
      "metadata": {
        "id": "Mp5-2IqZqDex"
      }
    },
    {
      "cell_type": "code",
      "source": [
        "def moneta(lanci):\n",
        "  results = []\n",
        "  for i in range(lanci): #lanciamo la moneta tante volte quante indicate dal parametro \"lanci\"\n",
        "    results.append(np.random.randint(2))\n",
        "  #grafico\n",
        "  labels = []\n",
        "  normalized = []\n",
        "  normalized.append(round(((results.count(0) / lanci) * 100), 2)) #conto le istanze dei risultati e le normalizzo\n",
        "  normalized.append(round(100 - sum(normalized), 2)) #per evitare che per errori di arrotondamento la somma dei risultati sia 99.9%, l'ultimo risultato lo calcolo come 100 - (la somma dei precedenti)\n",
        "  for i in range(len(normalized)):\n",
        "    labels.append(str(normalized[i]) + \"%\") # aggiungo le labels (i valori riportati all'esterno del grafico)\n",
        "  plt.pie(normalized, labels=labels)\n",
        "  legenda = [\"Testa\", \"Croce\"]\n",
        "  plt.legend(legenda,loc='upper center', bbox_to_anchor=(0.5, -0.05), fancybox=True, shadow=True, ncol=5)"
      ],
      "metadata": {
        "id": "pZxUQQ-_rGuz"
      },
      "execution_count": 11,
      "outputs": []
    },
    {
      "cell_type": "code",
      "source": [
        "moneta(100)"
      ],
      "metadata": {
        "id": "7rynuIn1ubs4",
        "outputId": "fe64c750-5caf-4803-e8d4-7efbf45732a3",
        "colab": {
          "base_uri": "https://localhost:8080/",
          "height": 282
        }
      },
      "execution_count": 12,
      "outputs": [
        {
          "output_type": "display_data",
          "data": {
            "image/png": "[encoded data removed]",
            "text/plain": [
              "<Figure size 432x288 with 1 Axes>"
            ]
          },
          "metadata": {}
        }
      ]
    },
    {
      "cell_type": "code",
      "source": [
        "moneta(10_000)"
      ],
      "metadata": {
        "id": "E6dWQdxUud7o",
        "outputId": "86d811f0-4235-4d08-d3ca-9f72c3098815",
        "colab": {
          "base_uri": "https://localhost:8080/",
          "height": 282
        }
      },
      "execution_count": 13,
      "outputs": [
        {
          "output_type": "display_data",
          "data": {
            "image/png": "[encoded data removed]",
            "text/plain": [
              "<Figure size 432x288 with 1 Axes>"
            ]
          },
          "metadata": {}
        }
      ]
    },
    {
      "cell_type": "code",
      "source": [
        "moneta(1_000_000)"
      ],
      "metadata": {
        "id": "uNmo8_dXugoY",
        "outputId": "441bf8a6-c6d5-49cf-d116-00e0e1073494",
        "colab": {
          "base_uri": "https://localhost:8080/",
          "height": 282
        }
      },
      "execution_count": 14,
      "outputs": [
        {
          "output_type": "display_data",
          "data": {
            "image/png": "[encoded data removed]",
            "text/plain": [
              "<Figure size 432x288 with 1 Axes>"
            ]
          },
          "metadata": {}
        }
      ]
    },
    {
      "cell_type": "markdown",
      "source": [
        "Per un buon equilibrio tra accuratezza dei risultati e tempo di esecuzione impostiamo il numero di ripetizioni a 100 000 con la variabile \"precisione\"."
      ],
      "metadata": {
        "id": "0_jUagMkw72N"
      }
    },
    {
      "cell_type": "code",
      "source": [
        "precisione = 100_000"
      ],
      "metadata": {
        "id": "7YqOeAMoxunS"
      },
      "execution_count": 15,
      "outputs": []
    },
    {
      "cell_type": "markdown",
      "source": [
        "Si lascia allo studente la possibilità di incrementare questa variabile se desiderasse dei risultati più precisi."
      ],
      "metadata": {
        "id": "uH7_BXdBxvvq"
      }
    },
    {
      "cell_type": "markdown",
      "source": [
        "# Variabili aleatorie discrete"
      ],
      "metadata": {
        "id": "gQTrf-PK7FxE"
      }
    },
    {
      "cell_type": "markdown",
      "source": [
        "Una variabile aleatoria _X_ si dice discreta se i valori che assume sono finiti oppure numerabili.\n",
        "\n",
        "Nel caso siano numerabili molto spesso potremo pensare che siano semplicmente i numeri interi, ma non vogliamo escludere anche casi in cui abbiamo dei valori non interi."
      ],
      "metadata": {
        "id": "f7tQYrZgLgm2"
      }
    },
    {
      "cell_type": "markdown",
      "source": [
        "##Esempio 1.1 \n",
        "Faccio 3 puntate sul rosso alla roulette puntando 10 euro per volta, qual è la probabilità di vincere più di un certo valore _X_?\n",
        "\n",
        "(Le vincite possibili sono valori finiti ed è quindi una variabile discreta)"
      ],
      "metadata": {
        "id": "wO2wYqZ-DSZF"
      }
    },
    {
      "cell_type": "code",
      "source": [
        "@interact_manual(vincita=(0, 30))\n",
        "def roulette(vincita=5):\n",
        "  giocate = 3\n",
        "  puntata = 10\n",
        "  ruota = mk_roulette()\n",
        "  count = 0\n",
        "  for i in range(precisione):\n",
        "    portafogli = giocate * puntata\n",
        "    portafogli = partita(ruota, giocate, puntata, portafogli) #il portafogli viene aggiornato dopo aver simulato una partita\n",
        "    if((portafogli - 30) >= vincita): #se ho finito le 3 puntate con una vincita maggiore o uguale a quella sperata la aggiungo al conteggio\n",
        "      count = count + 1\n",
        "  return round(count / precisione, 3)"
      ],
      "metadata": {
        "colab": {
          "base_uri": "https://localhost:8080/",
          "height": 81,
          "referenced_widgets": [
            "04a7ac97fcb04f1c8b5b4bd3f9e8070a",
            "e6158fb0cea5482693b0597d6fe31c27",
            "2a155cce9ac1461084450cd4fcef5827",
            "9d37c7e283d64c2b8f5c7a538f19bc58",
            "0e69be86b629474f97353dd40033e28b",
            "6d472a1b05134a98bf40b5f58b73d795",
            "a25f696da2004076a3a4a1c2898228d7",
            "83713fa07c824116803640b483168356",
            "139c35ef71704ba09f12f81faccbf80b",
            "d87fa32f1bda446e83ba039e0b2eb9c3"
          ]
        },
        "id": "w2ugmhMy_cfa",
        "outputId": "e8212442-32dc-4f2a-d9fd-9f9377574d1c"
      },
      "execution_count": 16,
      "outputs": [
        {
          "output_type": "display_data",
          "data": {
            "application/vnd.jupyter.widget-view+json": {
              "model_id": "04a7ac97fcb04f1c8b5b4bd3f9e8070a",
              "version_minor": 0,
              "version_major": 2
            },
            "text/plain": [
              "interactive(children=(IntSlider(value=5, description='vincita', max=30), Button(description='Run Interact', st…"
            ]
          },
          "metadata": {}
        }
      ]
    },
    {
      "cell_type": "markdown",
      "source": [
        "##Esempio 1.2\n",
        "Dati il numero di puntate ed i soldi scommessi ogni volta, quanto mi dovrei aspettare di aver vinto alla fine? (risultato in euro)"
      ],
      "metadata": {
        "id": "tTOcRD2kD_zf"
      }
    },
    {
      "cell_type": "code",
      "source": [
        "@interact_manual(giocate=(1, 10), puntata=(5, 100, 5))\n",
        "def roulette(giocate = 3, puntata = 10):\n",
        "  portafogli = giocate * puntata * precisione\n",
        "  ruota = mk_roulette()\n",
        "  for i in range(precisione):\n",
        "    portafogli = partita(ruota, giocate, puntata, portafogli)\n",
        "  portafogli = portafogli / precisione\n",
        "  return round(portafogli - (giocate * puntata), 2)"
      ],
      "metadata": {
        "colab": {
          "base_uri": "https://localhost:8080/",
          "height": 113,
          "referenced_widgets": [
            "29db9fada3714673b87e74d9294a08a1",
            "80fc74105a854759ba9360c773311405",
            "5c77f60697a241a59befac0dee4f5a84",
            "5acb0a09e6294071a5029ae962831942",
            "6359582d821f4dd4a6db6f0d81804565",
            "ace2f6f1cb634416889b02dee1b7eb94",
            "20205042f3b44a2898f08ba088b47b9d",
            "54fe8ab3a95948f49a17602a03db729c",
            "f94d035eb8d4493a8f269517285db3b3",
            "309ac70117ec4a1eab20971b28d242b8",
            "e21dbe868588495982e7e00cc9377ec4",
            "0eaa992b9a8249d6881cce7f07792314",
            "967314bcc248457eb49b64682acd5369"
          ]
        },
        "id": "TR8QkEnHD-B2",
        "outputId": "d18c7639-9c95-44bf-a8b2-3cbc35928438"
      },
      "execution_count": 17,
      "outputs": [
        {
          "output_type": "display_data",
          "data": {
            "application/vnd.jupyter.widget-view+json": {
              "model_id": "29db9fada3714673b87e74d9294a08a1",
              "version_minor": 0,
              "version_major": 2
            },
            "text/plain": [
              "interactive(children=(IntSlider(value=3, description='giocate', max=10, min=1), IntSlider(value=10, descriptio…"
            ]
          },
          "metadata": {}
        }
      ]
    },
    {
      "cell_type": "markdown",
      "source": [
        "# Distribuzione uniforme e non uniforme"
      ],
      "metadata": {
        "id": "qBnKgfwaLT9x"
      }
    },
    {
      "cell_type": "markdown",
      "source": [
        "Sia _A_ = {_x1_, . . . , _xn_}; una variabile _X_ che assume i valori in _A_ tutti con la stessa probabilità $\\frac{1}{n}$\n",
        "si dice _variabile uniforme_ su _A_. Scriviamo in questo caso _X_ ∼ _U_(_A_) oppure _X_ ∼ _U_(_x1_, . . . , _xn_).\n",
        "La densità è quindi:\n",
        "\n",
        "\\begin{equation}\n",
        "  px(h) =\n",
        "    \\begin{cases}\n",
        "           \\frac{1}{n} \\ se \\  h  \\ ∈ \\ ({x1}, {x2}, ..., {xn})\n",
        "          \\\\\n",
        "          0 \\ altrimenti\n",
        "        \\end{cases}\n",
        "\\end{equation}"
      ],
      "metadata": {
        "id": "GUQzPwZ8NK0Q"
      }
    },
    {
      "cell_type": "markdown",
      "source": [
        "##Esempio 2.1 \n",
        "Nel lancio di un dado sia Ω = {1, 2, 3, 4, 5, 6} l’insieme dei possibili risultati.\n",
        "Allora la funzione _X_(_n_) = n per ogni n ∈ Ω è una variabile aleatoria uniforme _X_ ∼ _U_(1, 2, 3, 4, 5, 6).\n"
      ],
      "metadata": {
        "id": "HJrqw0EbXj2l"
      }
    },
    {
      "cell_type": "code",
      "source": [
        "def dice():\n",
        "  results = []\n",
        "  for i in range(precisione):\n",
        "    results.append(trow()) #aggiungo il risultato del tiro alla lista dei risultati\n",
        "  #grafico\n",
        "  elem_count = []\n",
        "  labels = []\n",
        "  for i in range(len(set(results))): #conto le istanze di ogni risultato ottenuto ed aggiungo i totali a elem_count, poi lo metto a grafico\n",
        "    elem_count.append(results.count(i+1))\n",
        "    labels.append(str(i+1))\n",
        "  plt.bar(labels, elem_count)\n",
        "dice()"
      ],
      "metadata": {
        "colab": {
          "base_uri": "https://localhost:8080/",
          "height": 265
        },
        "id": "pO1ExmtATCeI",
        "outputId": "d5a0b797-b049-4449-b7e9-53576f57d8e0"
      },
      "execution_count": 18,
      "outputs": [
        {
          "output_type": "display_data",
          "data": {
            "image/png": "[encoded data removed]",
            "text/plain": [
              "<Figure size 432x288 with 1 Axes>"
            ]
          },
          "metadata": {
            "needs_background": "light"
          }
        }
      ]
    },
    {
      "cell_type": "markdown",
      "source": [
        "##Esempio 2.2\n",
        "Se invece lanciassimo due dadi, la variabile _X_ che assume un valore corrispondente al numero di risultati pari ottenuti dal lancio sarebbe una _variabile non uniforme_ siccome la sua densità sarebbe:\n",
        "\n",
        "\\begin{equation}\n",
        "  py(h) =\n",
        "    \\begin{cases}\n",
        "          \\frac{1}{4} \\  h={0},{2}\n",
        "          \\\\\n",
        "          \\frac{1}{2} \\ h={1}\n",
        "          \\\\\n",
        "          0 \\ altrimenti\n",
        "        \\end{cases}\n",
        "\\end{equation}"
      ],
      "metadata": {
        "id": "BZUNA1OvaQp6"
      }
    },
    {
      "cell_type": "code",
      "source": [
        "def even_dices():\n",
        "  results = []\n",
        "  for i in range(precisione):\n",
        "    a, b = trow(), trow() #lancio due dadi, poi conterò quanti sono pari per aggiungere il risultato alla lista\n",
        "    results.append(2-((a % 2)+(b % 2))) #conto i dadi pari come due meno i dadi dispari (n%2 = 1 per n dispari, 0 altrimenti)\n",
        "  valori = []\n",
        "  normalized = []\n",
        "  for i in range(3): #conto le istanze dei risultati e le divido per il numero di risultati totale (normalizzo)\n",
        "    normalized.append(results.count(i) / len(results)) #len(results) torna la lunghezza della lista results\n",
        "    valori.append(\"k=\" + str(i))\n",
        "  plt.pie(normalized, labels=valori)\n",
        "even_dices()"
      ],
      "metadata": {
        "colab": {
          "base_uri": "https://localhost:8080/",
          "height": 248
        },
        "id": "Ly_UKZkxZr2J",
        "outputId": "e0cad427-dd2b-4c60-d9f6-bf78408be491"
      },
      "execution_count": 19,
      "outputs": [
        {
          "output_type": "display_data",
          "data": {
            "image/png": "[encoded data removed]",
            "text/plain": [
              "<Figure size 432x288 with 1 Axes>"
            ]
          },
          "metadata": {}
        }
      ]
    },
    {
      "cell_type": "markdown",
      "source": [
        "#Densità binomiale"
      ],
      "metadata": {
        "id": "qimeQspadWgq"
      }
    },
    {
      "cell_type": "markdown",
      "source": [
        "Consideriamo un fenomeno aleatorio e un certo evento ad esso associato. Per semplicità diciamo che se l’evento si realizza otteniamo un “successo”, viceversa che abbiamo ottenuto un “insuccesso\".\n",
        "Uno schema successo-insuccesso consiste nel ripetere questo fenomeno un certo fissato numero di volte, dette anche prove o tentativi, in cui siamo interessati unicamente al numero di successi ottenuti\n",
        "nelle varie prove.\n",
        "Supponiamo ora che le prove siano indipendenti l’una dall’altra, cioè vengono effettuate tuttevnelle medesime condizioni, indipendentemente dal risultato delle prove precedenti: parliamo in questo caso di schema successo-insuccesso con ripetizione o a prove indipendenti. Consideriamo\n",
        "quindi la variabile X data dal numero di successi in n tentativi.\n",
        "Nel caso in cui le prove siano indipendenti l’una dall’altra, la probabilità di ottenere una certa prefissata sequenza di successi e insuccessi dipende solo dal numero di questi ultimi e non dall’ordine con cui vogliamo che si succedano. La probabilità di ottenere una sequenza fissata in cui abbiamo k successi e n − k insuccessi è data da\n",
        "$p^k(1-p)^{n-k}$, dove p è la probabilità che ogni singolo tentativo abbia successo. Siccome i modi in cui possiamo scegliere le k posizioni per i successi sono date da ${n\\choose k}$ otteniamo per la variabile X la densità data da\n",
        "\n",
        "\\begin{equation}\n",
        "  px(k) =\n",
        "    \\begin{cases}\n",
        "          {n\\choose k} p^k(1-p)^{n-k} \\ se \\ k=1,2,...,n\n",
        "          \\\\\n",
        "          0 \\ altrimenti\n",
        "        \\end{cases}\n",
        "\\end{equation}\n",
        "\n",
        "\n",
        "Scriveremo in questo caso _X_ ∼ _B_(_n_, _p_) e diciamo che _X_ è una variabile binomiale."
      ],
      "metadata": {
        "id": "OUh7jiOk7WSD"
      }
    },
    {
      "cell_type": "markdown",
      "source": [
        "##Esempio 3.1\n",
        "\n",
        "Supponiamo di andare al casinò con 15 Euro e puntiamo 3 volte 5 Euro alla roulette sul rosso. Consideriamo la variabile aleatoria X data dai soldi che abbiamo in tasca alla fine delle 3 puntate. La probabilità di ottenere un numero rosso è di $\\frac{18}{37}$ ad ogni tentativo.\n",
        "Determinare la densità di X.\n",
        "La variabile X può assumere i valori 30, 20, 10, 0 a seconda di quanti rossi sono usciti. Abbiamo:\n",
        "\n",
        "P(X = 30) = $(\\frac{18}{37})^3$ = 0,115\n",
        "\n",
        "P(X = 20) = ${3\\choose 1}(\\frac{18}{37})^2 · \\frac{19}{37}$= 0, 365\n",
        "\n",
        "P(X = 10) = ${3\\choose 2}(\\frac{18}{37}) · (\\frac{19}{37})^2$ = 0,385\n",
        "\n",
        "P(X = 0) = $(\\frac{19}{37})^3$ = 0,135\n"
      ],
      "metadata": {
        "id": "O8PjzahWhrRr"
      }
    },
    {
      "cell_type": "code",
      "source": [
        "@interact_manual(giocate=(1, 6), puntata=(5, 100, 5))\n",
        "def roulette(giocate = 3, puntata = 5):\n",
        "  ruota = mk_roulette()\n",
        "  results = []\n",
        "  for i in range(precisione):\n",
        "    portafogli = giocate * puntata\n",
        "    portafogli = partita(ruota, giocate, puntata, portafogli)\n",
        "    results.append(portafogli)\n",
        "  #grafico\n",
        "  normalized = []\n",
        "  valori = []\n",
        "  for i in range(giocate):\n",
        "    normalized.append(round(((results.count(puntata*2*i) / precisione) * 100), 2)) #conto le istanze dei risultati e le normalizzo\n",
        "  normalized.append(round(100 - sum(normalized), 2)) #per evitare che per errori di arrotondamento la somma dei risultati sia 99.9%, l'ultimo risultato lo calcolo come 100 - (la somma dei precedenti)\n",
        "  labels = []\n",
        "  for i in range(len(normalized)):\n",
        "    labels.append(str(normalized[i]) + \"%\") # aggiungo le labels (i valori riportati all'esterno del grafico)\n",
        "  plt.pie(normalized, labels=labels)\n",
        "  legenda = []\n",
        "  for i in range(len(normalized)):\n",
        "    legenda.append(str(puntata*2*i))\n",
        "  plt.legend(legenda,loc='upper center', bbox_to_anchor=(0.5, -0.05), fancybox=True, shadow=True, ncol=5)"
      ],
      "metadata": {
        "id": "QDB96jXivO40",
        "outputId": "3b30cf84-298d-4ad9-ea9e-30dbfae8b2e0",
        "colab": {
          "base_uri": "https://localhost:8080/",
          "height": 113,
          "referenced_widgets": [
            "b59616ac73044db8ab9d82e35c92a195",
            "5a3ae4d2d7b24fe9a95d84120d685c92",
            "1ad205d3a2c14449a9eedd0a6ede721c",
            "a40cc9ed51964131a1f0303d93aa88a6",
            "208c30ac4b3e4c588ac834b5dad2b9b4",
            "1262d0bbc7524e388a1da063a2514f2a",
            "1e4c293ecba0488b95bf319018b40c91",
            "a96d3f1753004f9eafe33ed3d1484ee3",
            "634582dbfb204d538c8130ac0d373c02",
            "f7f8bd1c9064436db86e9544391ae91b",
            "470cfee9a25c4e5ea062b2de5e624ae8",
            "18a47c655e9d44748049da5480e3b059",
            "0e83147453f1443482afd914b411eb36"
          ]
        }
      },
      "execution_count": 20,
      "outputs": [
        {
          "output_type": "display_data",
          "data": {
            "application/vnd.jupyter.widget-view+json": {
              "model_id": "b59616ac73044db8ab9d82e35c92a195",
              "version_minor": 0,
              "version_major": 2
            },
            "text/plain": [
              "interactive(children=(IntSlider(value=3, description='giocate', max=6, min=1), IntSlider(value=5, description=…"
            ]
          },
          "metadata": {}
        }
      ]
    },
    {
      "cell_type": "markdown",
      "source": [
        "# Densità ipergeometrica"
      ],
      "metadata": {
        "id": "9PjQr8MmCUYu"
      }
    },
    {
      "cell_type": "markdown",
      "source": [
        "\n",
        "Un altro tipo di schema successo-insuccesso è il cosiddetto schema successo-insuccesso _senza ripetizione_. In questo caso il fenomeno aleatorio consiste nell’estrazione di n palline, senza rimpiazzare di volta in volta la pallina estratta, da un'urna contenente b palline bianche e r palline rosse.\n",
        "Diciamo che la prova (estrazione) dà successo se viene estratta una pallina bianca e consideriamo la variabile X data dal numero di successi ottenuti, cioè dal numero di palline bianche estratte.\n",
        "\n",
        "\n",
        "Osserviamo che X può assumere tutti i valori tra max(0, n − r) e min(n, b): infatti se n > r siamo sicuri di pescare almeno n−r palline bianche e chiaramente il numero di bianche estratte non può superare nè il numero estrazioni nè il numero di palline bianche.\n",
        "\n",
        "Lo spazio Ω è dato da tutti i possibili sottoinsiemi di n oggetti (le palline estratte) scelti da un insieme di b + r oggetti (le palline\n",
        "disponibili), con probabilità uniforme. L’evento “X = k” è dato quindi da tutti i sottoinsiemi delle b + r palline costituiti da k palline bianche e n − k palline rosse. Le k bianche le posso scegliere in ${b\\choose k}$ modi. Le n − k rosse in ${r \\choose {n - k}}$ modi. Abbiamo quindi che la densità di X è data da\n",
        "\n",
        "\\begin{equation}\n",
        "  px(k) =\n",
        "    \\begin{cases}\n",
        "          \\frac{{b \\choose k} · {r \\choose n - k}}{b + r \\choose n} \\ se \\ k=max(0, n-r),...,min(n,b)\n",
        "          \\\\\n",
        "          0 \\ altrimenti\n",
        "        \\end{cases}\n",
        "\\end{equation}\n",
        "\n",
        "Scriviamo in questo caso X ∼ H(n; b, r) e diciamo che X è una variabile ipergeometrica."
      ],
      "metadata": {
        "id": "OnLdbdQjCbyl"
      }
    },
    {
      "cell_type": "markdown",
      "source": [
        "##Esempio 4.1\n",
        "Un’urna contiene 8 palline bianche e 2 rosse. Ne estraiamo 3 senza rimpiazzo.\n",
        "Qual è la probabilità di estrarne al più una rossa? In questo caso, a differenza del precedente abbiamo che la variabile X = numero di rosse estratte è una ipergeometrica X ∼ H(3; 2, 8) per\n",
        "cui\n",
        "\n",
        "P(_X_ ≤ 1) = P(_X_ = 0) + P(_X_ = 1) = $\\frac{{2 \\choose 0}·{8 \\choose 3}}{10 \\choose 3}$ + $\\frac{{2 \\choose 1}·{8 \\choose 2}}{10 \\choose 3}$ = $\\frac{14}{15}$ = 0.933"
      ],
      "metadata": {
        "id": "mqqc2UiZGaIY"
      }
    },
    {
      "cell_type": "code",
      "source": [
        "@interact_manual(estrazioni=(1, 10))\n",
        "def ipergeometrica(estrazioni=3):\n",
        "  bianche = 8\n",
        "  rosse = 2\n",
        "  urna = mk_urna(bianche, rosse)\n",
        "  results = 0\n",
        "  for i in range(precisione):\n",
        "    tmp = urna\n",
        "    count = 0\n",
        "    for i in range(estrazioni):\n",
        "      extr = np.random.randint(0, ((bianche + rosse)-i))\n",
        "      if(tmp[extr]):\n",
        "        count = count + 1\n",
        "      tmp = np.delete(tmp, extr)\n",
        "    if(count < 2):\n",
        "      results = results + 1  \n",
        "  return round(results / precisione, 3)"
      ],
      "metadata": {
        "id": "R0SjK_tkMtDv",
        "colab": {
          "base_uri": "https://localhost:8080/",
          "height": 81,
          "referenced_widgets": [
            "e6222ce9ddfa44f1b53136cfc64b7090",
            "123b689be40a491b872e393f41baac53",
            "5b4af11dfa6946dc8e7f4c9566cbed06",
            "8fa25b60b4cb4c15ae998e93ec5fcdad",
            "4fde227b001a4554b9df6b027964b367",
            "b06c3bafc31842d5ae84d37156aa5765",
            "b8b5b15f3a0847b38cedfad302ce0004",
            "dc52408092124d5f92cee796b0bdc570",
            "db195f6ac32a4cd5846aad71be326221",
            "afb713f06d9646b0ba1a185e85a1c8e3"
          ]
        },
        "outputId": "2f8b7808-5771-44b0-b100-99ead7e078e2"
      },
      "execution_count": 21,
      "outputs": [
        {
          "output_type": "display_data",
          "data": {
            "application/vnd.jupyter.widget-view+json": {
              "model_id": "e6222ce9ddfa44f1b53136cfc64b7090",
              "version_minor": 0,
              "version_major": 2
            },
            "text/plain": [
              "interactive(children=(IntSlider(value=3, description='estrazioni', max=10, min=1), Button(description='Run Int…"
            ]
          },
          "metadata": {}
        }
      ]
    },
    {
      "cell_type": "markdown",
      "source": [
        "#Densità geometrica - geometrica modificata"
      ],
      "metadata": {
        "id": "-GtoecXjUH1e"
      }
    },
    {
      "cell_type": "markdown",
      "source": [
        "In uno schema successo-insuccesso, anzichè al numero di successi ottenuti su n tentativi, potremmo essere interessati al numero di tentativi che devo effettuare prima di ottenere un successo."
      ],
      "metadata": {
        "id": "YBirGuNoUKbB"
      }
    },
    {
      "cell_type": "markdown",
      "source": [
        "##Esempio 5.1\n",
        "\n",
        "Consideriamo un’urna con 2 palline bianche e 3 rosse. Le estraggo senza\n",
        "rimpiazzo finchè non trovo una pallina rossa. Considero la variabile aleatoria X=numero di estrazioni per trovare una pallina rossa. X è una variabile finita in quanto assume solo i valori 1, 2, 3.\n",
        "La sua densità si determina facilmente ed è data da\n",
        "\n",
        "\\begin{equation}\n",
        "  px(k) =\n",
        "    \\begin{cases}\n",
        "          \\frac{6}{10} \\ se \\ k=1\n",
        "          \\\\\n",
        "          \\frac{3}{10} \\ se \\ k=2\n",
        "          \\\\\n",
        "          \\frac{1}{10} \\ se \\ k=3\n",
        "          \\\\\n",
        "          0 \\ altrimenti\n",
        "        \\end{cases}\n",
        "\\end{equation}\n",
        "\n"
      ],
      "metadata": {
        "id": "aXX1PJQLUX9Z"
      }
    },
    {
      "cell_type": "code",
      "source": [
        "@interact_manual(bianche=(1,5), rosse=(1, 5))\n",
        "def geometrica(bianche=2, rosse=3):\n",
        "  palle = mk_urna(bianche, rosse)\n",
        "  results = []\n",
        "  count=0\n",
        "  while(len(results) < precisione):\n",
        "    done = len(results)\n",
        "    tmp = palle\n",
        "    while(len(results) == done):\n",
        "      extr = np.random.randint(0, ((bianche+rosse)-count))\n",
        "      if(tmp[extr]):\n",
        "        results.append(count)\n",
        "        count=0\n",
        "      else:  \n",
        "        tmp = np.delete(tmp,extr)\n",
        "        count = count + 1\n",
        "  #grafico\n",
        "  labels = []\n",
        "  normalized = []\n",
        "  for i in range(len(set(results)) - 1): #len(set(n)) torna il numero di risultati distinti presenti in results\n",
        "    normalized.append(round(((results.count(i) / precisione) * 100), 2)) #conto le istanze dei risultati e le normalizzo\n",
        "  normalized.append(round(100 - sum(normalized), 2)) #per evitare che per errori di arrotondamento la somma dei risultati sia 99.9%, l'ultimo risultato lo calcolo come 100 - (la somma dei precedenti)\n",
        "  for i in range(len(normalized)):\n",
        "    labels.append(str(normalized[i]) + \"%\") # aggiungo le labels (i valori riportati all'esterno del grafico)\n",
        "  plt.pie(normalized, labels=labels)\n",
        "  legenda = []\n",
        "  for i in range(bianche + 1):\n",
        "    legenda.append(\"k=\"+str(i+1))\n",
        "  plt.legend(legenda,loc='upper center', bbox_to_anchor=(0.5, -0.05), fancybox=True, shadow=True, ncol=5)"
      ],
      "metadata": {
        "colab": {
          "base_uri": "https://localhost:8080/",
          "height": 113,
          "referenced_widgets": [
            "05e87feca2a946f98020b3353fc1d94d",
            "c70363147a9742da8e35de1aec463b82",
            "9ca82f5560f74c77a2c397bee160cfce",
            "e0e27737c9ac4daeb1d8107186d21e51",
            "029a8e57f119413797074935b1bbab8c",
            "61085c0bf43a4980b06f2e4372fb552c",
            "a877199466504d91b003f9918a02b497",
            "da12def721bc4de8b33620bd715d7b5f",
            "261e5083850546bf8faea0f5c921d2f7",
            "3caa3d74b7ff4673be5769ae01d93cfd",
            "e8f328353f9b4613b7b66aa5ce4a6232",
            "d84940373a664bb8ab162d2815e152f6",
            "044cf90995494b359a9db84008fbb15c"
          ]
        },
        "id": "5tLgoNi7f2YM",
        "outputId": "dd0298a3-6d50-437c-8193-ac1ce0873b33"
      },
      "execution_count": 22,
      "outputs": [
        {
          "output_type": "display_data",
          "data": {
            "application/vnd.jupyter.widget-view+json": {
              "model_id": "05e87feca2a946f98020b3353fc1d94d",
              "version_minor": 0,
              "version_major": 2
            },
            "text/plain": [
              "interactive(children=(IntSlider(value=2, description='bianche', max=5, min=1), IntSlider(value=3, description=…"
            ]
          },
          "metadata": {}
        }
      ]
    },
    {
      "cell_type": "markdown",
      "source": [
        "Caso interessante:\n",
        "\n",
        "Nel caso di una sola pallina rossa ed _n_ palline bianche, non si ha un'estrazione in cui è più probabile trovare la rossa, hanno tutte probabilità $\\frac{1}{n+1}$ come si può verificare ri-lanciando l'esperimento precedente con una sola pallina rossa."
      ],
      "metadata": {
        "id": "Y5F358gdvcak"
      }
    },
    {
      "cell_type": "markdown",
      "source": [
        "##Esempio 5.2\n",
        "\n",
        "Ripetiamo l'esperimento precedente, ma questa volta rimpiazziamo la pallina ad ogni estrazione. La variabile X diventa numerabile e si ha\n",
        "\n",
        "\\begin{equation}\n",
        "  px(k) =\n",
        "    \\begin{cases}\n",
        "          (\\frac{2}{5})^{k-1}\\frac{3}{5} \\ se \\ k=1,2,3,...\n",
        "          \\\\\n",
        "          0 \\ altrimenti\n",
        "        \\end{cases}\n",
        "\\end{equation}\n",
        "\n",
        "Infatti richiedere X = k vuol dire aver ottenuto k − 1 insuccessi nei primi k − 1 tenativi (ognuno con probabilità $\\frac{2}{5}$) per poi finalmente ottenere un successo al k-esimo tentativo (con probabilità $\\frac{3}{5}$)"
      ],
      "metadata": {
        "id": "DPSi8KkVKH60"
      }
    },
    {
      "cell_type": "code",
      "source": [
        "@interact_manual(bianche=(1,5), rosse=(1, 5))\n",
        "def geometrica_mod(bianche=2, rosse=3):\n",
        "  palle = mk_urna(bianche, rosse)\n",
        "  results = []\n",
        "  count=0\n",
        "  while(len(results) < precisione):\n",
        "    done = len(results)\n",
        "    tmp = palle\n",
        "    while(len(results) == done):\n",
        "      extr = np.random.randint(0, (bianche+rosse))\n",
        "      if(tmp[extr]):\n",
        "        results.append(count)\n",
        "        count=0\n",
        "      else:  \n",
        "        count = count + 1\n",
        "  \n",
        "  #grafico risultati\n",
        "  labels = []\n",
        "  normalized = []\n",
        "  for i in range(len(set(results))): \n",
        "    normalized.append(round(((results.count(i) / precisione) * 100), 2))\n",
        "  for i in range(len(set(results))):\n",
        "    labels.append(str(i+1))\n",
        "  \n",
        "  #grafico teorico\n",
        "  teoria = []\n",
        "  for i in range(len(set(results))):\n",
        "    teoria.append(((bianche / (bianche + rosse))**(i)) * (rosse / (bianche + rosse)) * 100)\n",
        "\n",
        "  lab_arr = np.arange(len(labels))\n",
        "\n",
        "  w=0.4\n",
        "  plt.bar(lab_arr-(w/2), normalized, width=w)\n",
        "  plt.bar(lab_arr+(w/2), teoria, width=w)\n",
        "  plt.ylabel(\"Percentage\")\n",
        "  plt.xlabel(\"K\")\n",
        "  legenda = [\"Risultati ottenuti\", \"Risultati attesi\"]\n",
        "  plt.legend(legenda,loc='upper center', bbox_to_anchor=(0.5, -0.05), fancybox=True, shadow=True, ncol=5)"
      ],
      "metadata": {
        "colab": {
          "base_uri": "https://localhost:8080/",
          "height": 113,
          "referenced_widgets": [
            "efdc725cde4f485cb63341dc124c58b1",
            "fab80d9546eb4973b039c9dc8cf35056",
            "44fc886d1d53488094c27ef2e520f94c",
            "1685af1936334bc8980dbdde813300d9",
            "505d650da13e41e2890541b8df171e58",
            "e59fa372cc5c40cc8f24e16010c9cb9b",
            "bf623faf99064b60930b04b9841cbdb0",
            "f9fd1a737c5a4953b612f9763276116c",
            "5c1da07c95e04ff5b76216e9e91404bd",
            "a573b32889f94750a0f412c0509d0383",
            "86acfa9644994b438746e382d28f10ba",
            "7efe210d0c9644b18dca2555e7b16a88",
            "7d76a3cf16134e00a08004fbd3439c10"
          ]
        },
        "id": "p-e8XTgnsSgC",
        "outputId": "8f969f79-329f-4de3-e4c0-eeb7c8ae853d"
      },
      "execution_count": 23,
      "outputs": [
        {
          "output_type": "display_data",
          "data": {
            "application/vnd.jupyter.widget-view+json": {
              "model_id": "efdc725cde4f485cb63341dc124c58b1",
              "version_minor": 0,
              "version_major": 2
            },
            "text/plain": [
              "interactive(children=(IntSlider(value=2, description='bianche', max=5, min=1), IntSlider(value=3, description=…"
            ]
          },
          "metadata": {}
        }
      ]
    },
    {
      "cell_type": "markdown",
      "source": [
        "Quello appena visto è un esempio di _densità geometrica modificata_ che scriveremo come T ∼ Ḡ(_p_).\n",
        "\n",
        "Quando si parla di densità geometrica modificata? \n",
        "\n",
        "Si consideri uno schema successo-insuccesso con ripetizioni e prendiamo in esame la variabile T data dal tempo di primo successo. \n",
        "Se chiamiamo _Xi_ le variabili _B_(1, _p_) date da _Xi_ = 1 se l’i-esimo tentativo dà successo e _Xi_  = 0 altrimenti abbiamo come densità\n",
        "\n",
        "\\begin{equation}\n",
        "  px(k) =\n",
        "    \\begin{cases}\n",
        "          p(1-p)^{k-1} \\ se \\ k=1,2,3,...\n",
        "          \\\\\n",
        "          0 \\ altrimenti\n",
        "        \\end{cases}\n",
        "\\end{equation}"
      ],
      "metadata": {
        "id": "u9PHD5qa-xdK"
      }
    },
    {
      "cell_type": "markdown",
      "source": [
        "##Esempio 5.3\n",
        "\n",
        "Si lancino simultaneamente due dadi, uno rosso e uno blu. Ripetiamo questo\n",
        "esperimento finchè non otteniamo due 6. \n",
        "\n",
        "Poniamo X = primo lancio in cui il dado rosso ha dato 6,\n",
        "Y = primo lancio in cui il dado blu ha dato 6.\n",
        "\n",
        "\n",
        "Determinare inoltre la probabilità di ottenere 6 con il dado rosso prima di ottenere 6 con il dado blu.\n",
        "\n",
        "Abbiamo\n",
        "\n",
        "\\begin{equation}\n",
        "  1 = P(X < Y) + P(X > Y) + P(X = Y)\n",
        "\\end{equation}\n",
        "\n",
        "\\\\\n",
        "e chiaramente per simmetria del problema _P_(_X_ < _Y_) = _P_(_X_ > _Y_) da cui\n",
        "\n",
        "\\\\\n",
        "\n",
        "\\begin{equation}\n",
        "  P(X < Y)= \\frac {1-P(X = Y)}{2}\n",
        "\\end{equation}\n",
        "\n",
        "Ci basterà calcolare quindi _P_(_X_ =_Y_):\n",
        "\n",
        "\\\\\n",
        "\n",
        "\\begin{equation}\n",
        "  P(X = Y) = \\sum_{k=1}^\\infty P(X = Y = k) = \\sum_{k=1}^\\infty (\\frac{25}{36})^{k-1}·\\frac{1}{36} = \\frac{1}{1-\\frac{25}{36}}·\\frac{1}{36} = \\frac{1}{11}\n",
        "\\end{equation}\n",
        "\n",
        "\n",
        "dove abbiamo ancora utilizzato la somma di una serie geometrica, e quindi\n",
        "\n",
        "\\\\\n",
        "\n",
        "\\begin{equation}\n",
        "  P(X < Y) = \\frac{5}{11}\n",
        "\\end{equation}\n"
      ],
      "metadata": {
        "id": "yQRcoTTQmPxD"
      }
    },
    {
      "cell_type": "code",
      "source": [
        "def first_six():\n",
        "  num = 6\n",
        "  results = []\n",
        "  for i in range(precisione):\n",
        "    a, b = 0, 0\n",
        "    while a != num and b != num:\n",
        "      a, b = trow(), trow() \n",
        "      if a == num:\n",
        "        if b == num:\n",
        "          results.append(0)\n",
        "        else:\n",
        "          results.append(1)\n",
        "      if b == num:\n",
        "        results.append(2)  \n",
        "  #grafico\n",
        "  labels = []\n",
        "  normalized = []\n",
        "  myexplode = [0, 0.2, 0]\n",
        "  for i in range(len(set(results)) - 1): #len(set(n)) torna il numero di risultati distinti presenti in results\n",
        "    normalized.append(round(((results.count(i) / precisione) * 100), 2)) #conto le istanze dei risultati e le normalizzo\n",
        "  normalized.append(round(100 - sum(normalized), 2)) #per evitare che per errori di arrotondamento la somma dei risultati sia 99.9%, l'ultimo risultato lo calcolo come 100 - (la somma dei precedenti)\n",
        "  for i in range(len(normalized)):\n",
        "    labels.append(str(normalized[i]) + \"%\") # aggiungo le labels (i valori riportati all'esterno del grafico)\n",
        "\n",
        "  teoria = [1/11, 5/11, 5/11]\n",
        "  lab_teoria = [\"9.09%\", \"45.45%\", \"45.45%\"]\n",
        "\n",
        "  f, (ax1, ax2) = plt.subplots(1, 2)\n",
        "  ax1.pie(normalized, labels=labels,explode=myexplode, colors=[\"green\", \"red\", \"blue\"], shadow=True)\n",
        "  ax1.set_title(\"Risultati ottenuti\")\n",
        "  ax2.pie(teoria, labels=lab_teoria,explode=myexplode, colors=[\"green\", \"red\", \"blue\"], shadow=True)\n",
        "  ax2.set_title(\"Risultati attesi\")\n",
        "  \n",
        "  legenda = [\"X=Y\", \"X<Y\", \"X>Y\"]\n",
        "  ax1.legend(legenda,loc='upper left', bbox_to_anchor=(0.5, -0.05), fancybox=True, shadow=True, ncol=5)\n",
        "\n",
        "first_six()"
      ],
      "metadata": {
        "colab": {
          "base_uri": "https://localhost:8080/",
          "height": 230
        },
        "id": "6P-rc7pzfODB",
        "outputId": "867343ef-8043-4913-a3e4-0588f1425fe2"
      },
      "execution_count": 24,
      "outputs": [
        {
          "output_type": "display_data",
          "data": {
            "image/png": "[encoded data removed]",
            "text/plain": [
              "<Figure size 432x288 with 2 Axes>"
            ]
          },
          "metadata": {}
        }
      ]
    },
    {
      "cell_type": "markdown",
      "source": [
        "#Densità di Poisson"
      ],
      "metadata": {
        "id": "hPfoVQ4tzLLR"
      }
    },
    {
      "cell_type": "markdown",
      "source": [
        "Se consideriamo una variabile binomiale _X_ ∼ _B_(_n_, _p_) in cui il numero _n_ di tentativi è molto grande e il parametro _p_ molto piccolo fare i conti con la densità binomiale risulta essere computazionalmente dispendioso. \n",
        "\n",
        "Facciamo un esempio:"
      ],
      "metadata": {
        "id": "7WQ9L3IXzNQo"
      }
    },
    {
      "cell_type": "markdown",
      "source": [
        "##Esempio 6.1\n",
        "\n",
        "Supponiamo che in una città nascano 10 000 bambini ogni anno e che ci\n",
        "sia una malattia rara che colpisce un bambino su 2 mila. Qual è la probabilità che quest’anno nascano più di 5 bambini affetti da questa malattia? \n",
        "\n",
        "La variabile _X_ = ”numero di bambini nati con questa malattia quest’anno” è una variabile binomiale _X_ = _B_($10^4$, $\\frac{1}{2000}$). Tuttavia se\n",
        "proviamo ad effettuare il calcolo _P_(_X_ > 5), anche se abbiamo una formula esatta per effettuarlo, è inevitabilmente molto complesso.\n"
      ],
      "metadata": {
        "id": "VD0JenT7zaOx"
      }
    },
    {
      "cell_type": "markdown",
      "source": [
        "Per risolvere questo tipo di problema introduciamo la seguente\n",
        "\n",
        "\\\\\n",
        "\\begin{equation}\n",
        "  p(k) =\n",
        "    \\begin{cases}\n",
        "          e^{-λ} \\frac{λ^k}{k!} \\ se \\ k=0,1,2,...\n",
        "          \\\\\n",
        "          0 \\ altrimenti\n",
        "        \\end{cases}\n",
        "\\end{equation}\n",
        "\n",
        "\\\\\n",
        "\n",
        "dove λ è un parametro reale strettamente positivo."
      ],
      "metadata": {
        "id": "-07DvPlK0SRP"
      }
    },
    {
      "cell_type": "markdown",
      "source": [
        "Nel nostro esempio possiamo pensare alla variabile _X_ come ad una variabile di Poisson di parametro 5. \n",
        "\n",
        "Otteniamo:\n",
        "\n",
        "\\begin{equation}\n",
        "  P(X > 5) = 1 − P(X = 0) − P(X = 1) − P(X = 2) − P(X = 3) − P(X = 4) \n",
        "  \\\\\n",
        "  = 1 − e^{−5}(1 + 5 + \\frac{25}{2} + \\frac{125}{6} + \\frac{625}{24} + \\frac{3125}{120}) = 0, 384.\n",
        "\\end{equation}"
      ],
      "metadata": {
        "id": "fHA5WLXr2VKr"
      }
    },
    {
      "cell_type": "markdown",
      "source": [
        "Nella simulazione riportata sono simulati 100 anni, ripetendo l'esperimento si aggiungono i risultati dei test successivi e si può osservare come il grafico dei risultati ottenuti si avvicini a quello dei risultati attesi."
      ],
      "metadata": {
        "id": "aQ3YUomoewtG"
      }
    },
    {
      "cell_type": "code",
      "source": [
        "res_poisson = []"
      ],
      "metadata": {
        "id": "niF9fNy-AGHk"
      },
      "execution_count": 25,
      "outputs": []
    },
    {
      "cell_type": "code",
      "source": [
        "def poisson():\n",
        "  bambini = 10_000\n",
        "  malattia = 2_000\n",
        "  for i in range(100):\n",
        "    count = 0\n",
        "    for i in range(bambini):\n",
        "      if np.random.randint(malattia) == 1:\n",
        "        count = count + 1\n",
        "    res_poisson.append(count)\n",
        "\n",
        "  #grafico risultati\n",
        "  labels = []\n",
        "  set_res = list(set(res_poisson))\n",
        "  normalized = []\n",
        "  for i in set_res: \n",
        "    normalized.append(round(((res_poisson.count(i) / len(res_poisson)) * 100), 2))\n",
        "    labels.append(str(i+1)) \n",
        " \n",
        "  #grafico teorico\n",
        "  teoria = []\n",
        "  lam = bambini / malattia\n",
        "  for i in set_res:\n",
        "    teoria.append((math.e**-lam)*((lam**i)/math.factorial(i)) * 100)\n",
        "\n",
        "  lab_arr = np.arange(len(labels))\n",
        "\n",
        "  w=0.4\n",
        "  plt.bar(lab_arr-(w/2), normalized, width=w)\n",
        "  plt.bar(lab_arr+(w/2), teoria, width=w)\n",
        "\n",
        "  legenda = [\"Risultati ottenuti\", \"Risultati attesi\"]\n",
        "  plt.legend(legenda,loc='upper center', bbox_to_anchor=(0.5, -0.05), fancybox=True, shadow=True, ncol=5)\n",
        "  print(\"Anni simulati: \" + str(len(res_poisson)))"
      ],
      "metadata": {
        "id": "L8XSvxDZMGZe"
      },
      "execution_count": 26,
      "outputs": []
    },
    {
      "cell_type": "code",
      "source": [
        "poisson()"
      ],
      "metadata": {
        "id": "H4CjxxyZ7Rxc",
        "colab": {
          "base_uri": "https://localhost:8080/",
          "height": 299
        },
        "outputId": "5729d1c0-0aa2-42fa-cd65-c96e2efff260"
      },
      "execution_count": 27,
      "outputs": [
        {
          "output_type": "stream",
          "name": "stdout",
          "text": [
            "Anni simulati: 100\n"
          ]
        },
        {
          "output_type": "display_data",
          "data": {
            "image/png": "[encoded data removed]",
            "text/plain": [
              "<Figure size 432x288 with 1 Axes>"
            ]
          },
          "metadata": {
            "needs_background": "light"
          }
        }
      ]
    },
    {
      "cell_type": "markdown",
      "source": [
        "#Densità continua uniforme"
      ],
      "metadata": {
        "id": "2HvnAmIq9-iV"
      }
    },
    {
      "cell_type": "markdown",
      "source": [
        "La variabile continua più semplice da studiare è quella che può assumere solo valori in un certo intervallo limitato e in modo ”uniforme”."
      ],
      "metadata": {
        "id": "q-CPgnYeAXnr"
      }
    },
    {
      "cell_type": "markdown",
      "source": [
        "## Esempio 7.1\n",
        "\n",
        "Un autobus passa da una fermata ogni 10 minuti. Noi arriviamo alla fermata in un momento casuale, chiamiamo T la variabile del tempo d'attesa che assume valori tra 0 e 10 minuti. Mediamente, quanto dovrò aspettare?\n",
        "\n",
        "Iniziamo prendendo l'autobus un po' di volte tenendo uno storico dei tempi di attesa:"
      ],
      "metadata": {
        "id": "AFabxKb1Ar4F"
      }
    },
    {
      "cell_type": "code",
      "source": [
        "uniforme = []\n",
        "tempo = 10\n",
        "for i in range(precisione):\n",
        "  uniforme.append(random.uniform(0, tempo))"
      ],
      "metadata": {
        "id": "A4ckSSdzDloY"
      },
      "execution_count": 28,
      "outputs": []
    },
    {
      "cell_type": "code",
      "source": [
        "#funzione che calcola il valore di x in ogni punto (densità continua uniforme)\n",
        "def densita(x, a, b):\n",
        "  res = []\n",
        "  for i in x:\n",
        "    if i < a:\n",
        "      res.append(0)\n",
        "    elif i > b:\n",
        "      res.append(0)\n",
        "    else:\n",
        "      res.append(1 / (b - a))\n",
        "  return res"
      ],
      "metadata": {
        "id": "G_5JWNvfHgIA"
      },
      "execution_count": 29,
      "outputs": []
    },
    {
      "cell_type": "markdown",
      "source": [
        "E mettiamo a grafico i risultati ottenuti"
      ],
      "metadata": {
        "id": "LfkzQQAmE_XV"
      }
    },
    {
      "cell_type": "code",
      "source": [
        "def dcu_plot():\n",
        "  points = (tempo + 2) * 10\n",
        "  \n",
        "  x = np.linspace(-1, tempo+1, points)\n",
        "\n",
        "  coord = []\n",
        "  for i in range(points):\n",
        "    count = 0\n",
        "    for item in uniforme:\n",
        "      if (item > -1 + (((tempo+2)/points)*i) and item <= -1 + (((tempo+2)/points)*(i+1))):\n",
        "        count = count + 1\n",
        "    coord.append((count / precisione) * (points / (tempo + 2)))\n",
        "  \n",
        "  p1 = plt.figure(1)\n",
        "  ax = plt.axes()\n",
        "  ax.plot(x, densita(x, 0, tempo))\n",
        "  ax.set_title(\"Risultati attesi\")\n",
        "  p1.show()\n",
        "  p2 = plt.figure(2)\n",
        "  ax = plt.axes()\n",
        "  ax.plot(x, coord)\n",
        "  ax.set_title(\"Risultati ottenuti\")\n",
        "  p2.show() \n",
        "  p3 = plt.figure(2)\n",
        "  sns.displot(uniforme, kind=\"ecdf\").set(title=\"Ripartizione\")\n",
        "  p3.show() \n",
        "dcu_plot()"
      ],
      "metadata": {
        "colab": {
          "base_uri": "https://localhost:8080/",
          "height": 909
        },
        "id": "E_CdpJ9ENKE3",
        "outputId": "5cbd3498-6f31-435d-d7b2-962ce62e2cce"
      },
      "execution_count": 30,
      "outputs": [
        {
          "output_type": "display_data",
          "data": {
            "image/png": "[encoded data removed]",
            "text/plain": [
              "<Figure size 432x288 with 1 Axes>"
            ]
          },
          "metadata": {
            "needs_background": "light"
          }
        },
        {
          "output_type": "display_data",
          "data": {
            "image/png": "[encoded data removed]",
            "text/plain": [
              "<Figure size 432x288 with 1 Axes>"
            ]
          },
          "metadata": {
            "needs_background": "light"
          }
        },
        {
          "output_type": "display_data",
          "data": {
            "image/png": "[encoded data removed]",
            "text/plain": [
              "<Figure size 360x360 with 1 Axes>"
            ]
          },
          "metadata": {
            "needs_background": "light"
          }
        }
      ]
    },
    {
      "cell_type": "markdown",
      "source": [
        "Per quanto riguarda la soluzione il valore atteso invece ci basta sapere che il valore atteso di una variabile uniforme è il punto medio dell'intervallo: 5 minuti."
      ],
      "metadata": {
        "id": "CO8fDJK3MDBv"
      }
    },
    {
      "cell_type": "code",
      "source": [
        "@interact_manual(tempo=(1, 20))\n",
        "def es71(tempo = 10):\n",
        "  results = []\n",
        "  for i in range(precisione):\n",
        "    results.append(random.uniform(0, tempo))\n",
        "  return round(np.mean(results), 2)"
      ],
      "metadata": {
        "colab": {
          "base_uri": "https://localhost:8080/",
          "height": 81,
          "referenced_widgets": [
            "138e8dd206424aad9df323ec6d3bee0d",
            "40d910d8ed214be0b2447434e6ebea9f",
            "e4fd98d637ac424882775e35321d595a",
            "481653db0dee423a8a26abefda5a5233",
            "b6029a7f6dbf4444ada1a20c92b79a51",
            "6fd182f4428e4373b7103cb6deba5afd",
            "efc9148954284d51b4eb6aa8fbecd98a",
            "155cb63c96284b7b85e55a092a13df96",
            "adbf6a0d0b43434aa8d9e71680f8d71c",
            "ff13f0ff8eaf47328b4d25f86430d06b"
          ]
        },
        "id": "jG0a0YfTMiZi",
        "outputId": "afe35635-a2f5-4ed3-b09f-e999dbae9870"
      },
      "execution_count": 31,
      "outputs": [
        {
          "output_type": "display_data",
          "data": {
            "application/vnd.jupyter.widget-view+json": {
              "model_id": "138e8dd206424aad9df323ec6d3bee0d",
              "version_minor": 0,
              "version_major": 2
            },
            "text/plain": [
              "interactive(children=(IntSlider(value=10, description='tempo', max=20, min=1), Button(description='Run Interac…"
            ]
          },
          "metadata": {}
        }
      ]
    },
    {
      "cell_type": "markdown",
      "source": [
        "##Esercizio 7.2"
      ],
      "metadata": {
        "id": "suJKbVomvlw2"
      }
    },
    {
      "cell_type": "markdown",
      "source": [
        "Continuiamo con l'esempio del bus ma questa volta ci interessa sapere la probabilità che arrivi in un certo intervallo di tempo"
      ],
      "metadata": {
        "id": "Fr271Olzv2DY"
      }
    },
    {
      "cell_type": "code",
      "source": [
        "@interact_manual(a=(0, 10), b=(0, 10))\n",
        "def es72(a = 4, b = 6):\n",
        "  if a > b:\n",
        "    return (\"Intervallo non valido\")\n",
        "\n",
        "  unif1 = [x for x in uniforme if x >= a and x <= b]\n",
        "  \n",
        "  points = (tempo + 2) * 10\n",
        "\n",
        "  x = np.linspace(-1, tempo+1, points)\n",
        "\n",
        "  coord = []\n",
        "  for i in range(points):\n",
        "    count = 0\n",
        "    for item in uniforme:\n",
        "      if (item > -1 + (((tempo+2)/points)*i) and item <= -1 + (((tempo+2)/points)*(i+1))):\n",
        "        count = count + 1\n",
        "    coord.append((count / precisione) * (points / (tempo + 2)))\n",
        "\n",
        "  coord2 = []\n",
        "  for i in range(points):\n",
        "    count = 0\n",
        "    for item in unif1:\n",
        "      if (item > -1 + (((tempo+2)/points)*i) and item <= -1 + (((tempo+2)/points)*(i+1))):\n",
        "        count = count + 1\n",
        "    coord2.append((count / precisione) * (points / (tempo + 2)))\n",
        "\n",
        "  plt.plot(x, coord)\n",
        "  plt.fill_betweenx(coord2, x, alpha=0.30)\n",
        "  \n",
        "  ris1 = round((b-a) / tempo, 3)\n",
        "  print(\"Risultati attesi: \" + str(ris1))\n",
        "  ris2 = round(len(unif1) / precisione, 3)\n",
        "  print(\"Risultati ottenuti: \" + str(ris2))"
      ],
      "metadata": {
        "id": "0Gfo7zOovTuG",
        "outputId": "03d84687-e78d-4a3f-9454-7a118ef229b3",
        "colab": {
          "base_uri": "https://localhost:8080/",
          "height": 113,
          "referenced_widgets": [
            "03b7ffa1e7e24a14a9ceda3af6baf8c2",
            "bbeacbee11b749ffb25828add370b236",
            "940606c87a3a4b4bb64667fe8e15373f",
            "30aafdd088144796b6dcc9cd3199c276",
            "6e795b9df36c404691cb7be2985a3837",
            "31724f3f58dd4613a0cce038f1686bff",
            "c44d73daed984aa2a94d205f77ca252d",
            "3f922cf3e44b40138a7d7406217d1f05",
            "7347341cb672461e8531478dff938f19",
            "751375eaac844e18bcfdb430da887b08",
            "2bd77ad4270e4f438e1b0b04c350eda0",
            "27d78abb88aa4c53b1a0ad880a25161b",
            "091c3f920494414681ccd69d8e9408b7"
          ]
        }
      },
      "execution_count": 94,
      "outputs": [
        {
          "output_type": "display_data",
          "data": {
            "application/vnd.jupyter.widget-view+json": {
              "model_id": "03b7ffa1e7e24a14a9ceda3af6baf8c2",
              "version_minor": 0,
              "version_major": 2
            },
            "text/plain": [
              "interactive(children=(IntSlider(value=4, description='a', max=10), IntSlider(value=6, description='b', max=10)…"
            ]
          },
          "metadata": {}
        }
      ]
    },
    {
      "cell_type": "markdown",
      "source": [
        "#Densità continua esponenziale"
      ],
      "metadata": {
        "id": "KzWvYabHHMQp"
      }
    },
    {
      "cell_type": "markdown",
      "source": [
        "Fissiamo un parametro _λ_ e ricordiamo che una primitiva della funzione $e^{−λt}$ è data da -$\\frac{1}{λ}e^{−λt}$ da cui abbiamo che:\n",
        "\n",
        "\\begin{equation}\n",
        "  \\int_{0}^{+ \\infty} e^{-λt} \\,dt = \\frac{1}{λ} \n",
        "\\end{equation}\n",
        "\n",
        "Proposizione:\n",
        "\n",
        "\\begin{equation}\n",
        "  f(s) =\n",
        "    \\begin{cases}\n",
        "          λ e^{-λs} \\ se \\ s \\geq 0\n",
        "          \\\\\n",
        "          0 \\ altrimenti\n",
        "        \\end{cases}\n",
        "\\end{equation}\n",
        "\n",
        "dove _λ_ è un parametro positivo con densità continua astratta.\n",
        "\n",
        "Una variabile _X_ che ammette tale densità si dice esponenziale di parametro _λ_ e scriveremo _X_ ∼ Exp(_λ_). Lo stesso calcolo mostra che la funzione di ripartizione di una variabile _X_ ∼ Exp(_λ_) è data da\n",
        "\n",
        "\\begin{equation}\n",
        "  Fx(t) =\n",
        "    \\begin{cases}\n",
        "          1-e^{-λt} \\ se \\ t \\ge 0\n",
        "          \\\\\n",
        "          0 \\ \\ \\ \\ \\ \\ \\ \\ \\ \\ \\ \\ \\ se \\ t \\le 0\n",
        "        \\end{cases}\n",
        "\\end{equation}"
      ],
      "metadata": {
        "id": "kDn_33f8UA9S"
      }
    },
    {
      "cell_type": "markdown",
      "source": [
        "##Esempio 8.1\n",
        "\n",
        "Il decadimento di una particella radioattiva segue una legge esponenziale di parametro λ = 1 (in giorni).\n",
        "\n",
        "Qual è la probabilità che dopo 3 ore sia già decaduta?"
      ],
      "metadata": {
        "id": "vdltBTAzbjNQ"
      }
    },
    {
      "cell_type": "markdown",
      "source": [
        "Usando un cambio di variabile simuliamo un set di valori di una variabile esponenziale con parametro _λ_ = 1 "
      ],
      "metadata": {
        "id": "KXHsGg67--dB"
      }
    },
    {
      "cell_type": "code",
      "source": [
        "exp = []\n",
        "for i in range(precisione):\n",
        "  exp.append(-math.log(random.uniform(0, 1)))"
      ],
      "metadata": {
        "id": "GrAEx7n-2V-2"
      },
      "execution_count": 83,
      "outputs": []
    },
    {
      "cell_type": "markdown",
      "source": [
        "E ne grafichiamo la densità e la partizione "
      ],
      "metadata": {
        "id": "xP2yQ4p9ACry"
      }
    },
    {
      "cell_type": "code",
      "source": [
        "def exp_plot():\n",
        "  points = 130\n",
        "  space = 6\n",
        "\n",
        "  x = np.linspace(-1, space - 1, points)\n",
        "\n",
        "  coord = []\n",
        "  for i in range(points):\n",
        "    count = 0\n",
        "    for item in exp:\n",
        "      if (item > -1 + (((space)/points)*i) and item <= -1 + (((space)/points)*(i+1))):\n",
        "        count = count + 1\n",
        "    coord.append((count / precisione) * (points / (space)))\n",
        "  \n",
        "  sns.displot(exp, kind=\"ecdf\")\n",
        "  plt.plot(x, coord)\n",
        "  plt.xlim(-1, 4)\n",
        "  plt.title(\"Densità e ripartizione della variabile in esame\")\n",
        "\n",
        "  legenda = [\"Funzione di ripartizione\", \"Densità\"]\n",
        "  plt.legend(legenda,loc='upper center', bbox_to_anchor=(0.5, -0.05), fancybox=True, shadow=True, ncol=5)\n",
        "\n",
        "exp_plot()"
      ],
      "metadata": {
        "colab": {
          "base_uri": "https://localhost:8080/",
          "height": 403
        },
        "id": "o6Bmu5FDMOPV",
        "outputId": "6bd0beb8-1e2c-457a-be3a-912fbb288ede"
      },
      "execution_count": 53,
      "outputs": [
        {
          "output_type": "display_data",
          "data": {
            "image/png": "[encoded data removed]",
            "text/plain": [
              "<Figure size 360x360 with 1 Axes>"
            ]
          },
          "metadata": {
            "needs_background": "light"
          }
        }
      ]
    },
    {
      "cell_type": "markdown",
      "source": [
        "Tornando alla domanda iniziale, contiamo quante volte abbiamo ottenuto un tempo minore di 3 ore e confrontiamolo coi risultati attesi dalla teoria."
      ],
      "metadata": {
        "id": "MrVxuxXhB-Dh"
      }
    },
    {
      "cell_type": "code",
      "source": [
        "@interact_manual(ore=(0, 72))\n",
        "def exp_particella(ore = 3):\n",
        "  count = 0\n",
        "  for item in exp:\n",
        "    if (item * 24) <= ore:\n",
        "      count = count + 1\n",
        "  print(\"Risultati ottenuti: \" + str(round(count / precisione, 3)))\n",
        "  res = 1 - (math.e**(-1 * (ore / 24)))\n",
        "  print(\"Risultati attesi: \" + str(round(res, 3)))"
      ],
      "metadata": {
        "colab": {
          "base_uri": "https://localhost:8080/",
          "height": 81,
          "referenced_widgets": [
            "5a54d8f4433c4147a7bb771eb901b9ab",
            "4d75e5ef4f4a4679a7f977cb38185e0a",
            "8df5fc3665fc4ca99d9f9c74d5076d7d",
            "5983d281a869452aa9a25485a5f19e19",
            "a7583d4b7bd04e989291fdf453604791",
            "2b0302ebd56a498e84e4c8a0f90e1958",
            "bf357f8f04ad452d9d40beef229bb247",
            "8da4833d23164ad2ac125c5e97025911",
            "0dda835c51f44848b75bdf60493465e2",
            "abfa0a22f5af447e9f27164e74b36241"
          ]
        },
        "id": "-nLD7XugV7iy",
        "outputId": "35344710-a096-40b1-811b-31b476f66079"
      },
      "execution_count": 35,
      "outputs": [
        {
          "output_type": "display_data",
          "data": {
            "application/vnd.jupyter.widget-view+json": {
              "model_id": "5a54d8f4433c4147a7bb771eb901b9ab",
              "version_minor": 0,
              "version_major": 2
            },
            "text/plain": [
              "interactive(children=(IntSlider(value=3, description='ore', max=72), Button(description='Run Interact', style=…"
            ]
          },
          "metadata": {}
        }
      ]
    },
    {
      "cell_type": "markdown",
      "source": [
        "Fin'ora abbiamo visto variabili esponenziali aventi _λ_ = 1, il caso base. Vediamo ora lo stesso esempio ma questa volta il tempo di decadimento della particella è segue una legge esponenziale di parametro _λ_ ≠ 1.\n",
        "\n",
        "Iniziamo vedendone il grafico della densità:"
      ],
      "metadata": {
        "id": "z8484TUNFyqT"
      }
    },
    {
      "cell_type": "code",
      "source": [
        "@interact_manual(λ=(2, 10))\n",
        "def exp_test(λ=2):\n",
        "  lamb = λ\n",
        "\n",
        "  test = []\n",
        "  for i in range(precisione):\n",
        "    test.append((-1/(lamb))*math.log(random.uniform(0, 1)))\n",
        "\n",
        "  b = max(test)/3\n",
        "  a = -b/10\n",
        "  points = 100\n",
        "  x = np.linspace(a, b, points)\n",
        "\n",
        "  coord = []\n",
        "  for i in range(points):\n",
        "    count = 0\n",
        "    for item in test:\n",
        "      if (item > a + (((abs(a) + b)/points)*i)) and (item <= a + (((abs(a) + b)/points)*(i+1))):\n",
        "        count = count + 1\n",
        "    coord.append((count / precisione) * (points / (abs(a) + b)))\n",
        "\n",
        "  plt.plot(x, coord)"
      ],
      "metadata": {
        "colab": {
          "base_uri": "https://localhost:8080/",
          "height": 331,
          "referenced_widgets": [
            "6d96a933f96e4568a3d43f95761189aa",
            "886b90c894d541af89efb70eeb2a5386",
            "ba733fec8997451a86e0579529271acd",
            "a2beacaa08214ffbb00ca7bd47b62356",
            "a4ac1c389e7748a9a7f1cc4999868be7",
            "0eb501166b5148edbe56d62d4001a34a",
            "3ee8aeabb96f41b7b3d27d0d9d594dbe",
            "9e6c4d343f664feca527a212624f370e",
            "eaa3a23638424c6ba3e9ca9403852e67",
            "d121406209a14c8cb4779e349ebc31ea"
          ]
        },
        "id": "irnlB3MXGPPl",
        "outputId": "734ce809-6c52-4492-824c-e4d06aff60b6"
      },
      "execution_count": 55,
      "outputs": [
        {
          "output_type": "display_data",
          "data": {
            "application/vnd.jupyter.widget-view+json": {
              "model_id": "6d96a933f96e4568a3d43f95761189aa",
              "version_minor": 0,
              "version_major": 2
            },
            "text/plain": [
              "interactive(children=(IntSlider(value=2, description='λ', max=10, min=2), Button(description='Run Interact', s…"
            ]
          },
          "metadata": {}
        }
      ]
    },
    {
      "cell_type": "markdown",
      "source": [
        "E confrontiamo i risultati che abbiamo ottenuto con quelli attesi dalla teoria:"
      ],
      "metadata": {
        "id": "ySU20jIY7tkY"
      }
    },
    {
      "cell_type": "code",
      "source": [
        "@interact_manual(ore=(0, 72), λ=(2, 10))\n",
        "def exp_particella(ore = 10, λ = 2):\n",
        "  test = []\n",
        "  for i in range(precisione):\n",
        "    test.append((-1/λ)*math.log(random.uniform(0, 1)))\n",
        "  count = 0\n",
        "  for item in test:\n",
        "    if (item * 24) <= ore:\n",
        "      count = count + 1\n",
        "  print(\"Risultati ottenuti: \" + str(round(count / precisione, 3)))\n",
        "  res = 1 - (math.e**(-(λ * (ore / 24))))\n",
        "  print(\"Risultati attesi: \" + str(round(res, 3)))"
      ],
      "metadata": {
        "colab": {
          "base_uri": "https://localhost:8080/",
          "height": 113,
          "referenced_widgets": [
            "5ade0cb51b8548f5bd367d25181bcd63",
            "5d9e0271f8914e5cabfa9d737cf59c6c",
            "3e232d1c20784362961ebd4faf4a710f",
            "153fd2d90c1f4ef7934032a623b3a162",
            "86fcbca4ec6040a9bafe004e59e47bce",
            "14396a8f50064f579735a21ed49415bf",
            "a4fc5ff902e64d2f8facf9b931e2b238",
            "84cec1419c4749ac864cbf9dace1162c",
            "71cac5af299341bd849018cd7fbd65e2",
            "7f49f09b18b846eca0cf67b1e9bccb45",
            "2d04c411fa2a4127af944edb6c03963f",
            "69dd53240c2a4ee7b41b03e93c4f66d4",
            "f410daf922d74f0a9c51f64bb4e74af3"
          ]
        },
        "id": "lew-nKK9KlQ0",
        "outputId": "1704e4eb-0696-4df5-a6db-97a77414d0b7"
      },
      "execution_count": 37,
      "outputs": [
        {
          "output_type": "display_data",
          "data": {
            "application/vnd.jupyter.widget-view+json": {
              "model_id": "5ade0cb51b8548f5bd367d25181bcd63",
              "version_minor": 0,
              "version_major": 2
            },
            "text/plain": [
              "interactive(children=(IntSlider(value=10, description='ore', max=72), IntSlider(value=2, description='λ', max=…"
            ]
          },
          "metadata": {}
        }
      ]
    },
    {
      "cell_type": "markdown",
      "source": [
        "## Esercizio 8.2"
      ],
      "metadata": {
        "id": "QdEbzDc5JVI8"
      }
    },
    {
      "cell_type": "markdown",
      "source": [
        "Continuiamo con l'esempio della particella ma questa volta ci interessa sapere la probabilità decada in un certo intervallo di tempo"
      ],
      "metadata": {
        "id": "sxmUgXSeJcYJ"
      }
    },
    {
      "cell_type": "code",
      "source": [
        "@interact_manual(t1=(0, 96), t2=(0, 96))\n",
        "def es82(t1=3, t2=10):\n",
        "  if t1 > t2:\n",
        "    return (\"Intervallo non valido\")\n",
        "  \n",
        "  points = 109\n",
        "  tempo = 4.5\n",
        "  a = -0.5\n",
        "\n",
        "  x = np.linspace(a, tempo + a, points)\n",
        "  x2 = np.linspace(0, tempo + a, )\n",
        "  \n",
        "  exp1 = []\n",
        "  for i in range(precisione):\n",
        "    exp1.append(-math.log(random.uniform(0, 1)))\n",
        "\n",
        "  exp2 = [x for x in exp1 if x >= t1/24 and x <= t2/24]\n",
        "\n",
        "  coord = [0]\n",
        "  for i in range(points-1):\n",
        "    count = 0\n",
        "    for item in exp1:\n",
        "      if (item > a + (((tempo)/(points-1))*i) and item <= a + (((tempo)/(points-1))*(i+1))):\n",
        "        count = count + 1\n",
        "    coord.append((count / precisione) * ((points-1) / (tempo)))\n",
        "\n",
        "  coord2 = [0]\n",
        "  for i in range(points-1):\n",
        "    count = 0\n",
        "    for item in exp2:\n",
        "      if (item > a + (((tempo)/(points-1))*i) and item <= a + (((tempo)/(points-1))*(i+1))):\n",
        "        count = count + 1\n",
        "    coord2.append((count / precisione) * ((points-1) / (tempo)))\n",
        "  \n",
        "  #coord.append(coord[len(coord)-1])\n",
        "  #coord2.append(coord2[len(coord2)-1])\n",
        "  ris1 = round((1 - (math.e**(-(t2 / 24)))) - (1 - (math.e**(-(t1 / 24)))), 3)\n",
        "  print(\"Risultati attesi: \" + str(ris1))\n",
        "  ris2 = round(len(exp2) / precisione, 3)\n",
        "  print(\"Risultati ottenuti: \" + str(ris2))\n",
        "\n",
        "  plt.plot(x, coord)\n",
        "  plt.fill_betweenx(coord2, x, alpha=0.30)"
      ],
      "metadata": {
        "colab": {
          "base_uri": "https://localhost:8080/",
          "height": 396,
          "referenced_widgets": [
            "d5cb2602df7c415d918472872b345e15",
            "b9c8fad34f7b41da9ba66c4d08e9fef1",
            "3a88111b91c640faa08e821769f72b46",
            "1cecc9d8ad7148b1bbf1de814c17bad1",
            "b7ace5b9298a4215892588cd23255c00",
            "2d2afff0bd6e4a2ab078d950f798fef8",
            "499c0f71bed842a898d6e93b4dc1c90d",
            "a0042e0cc1f74525a4cf0646afaf960a",
            "bca8c3c5ef5e415aaccb32ff1912e67e",
            "a01f636f7ae54e35b6158979042214e8",
            "805a1429a4334922ade8cfe00be3f4cf",
            "26741b9e3ffd4ca1afbf8e24962e4828",
            "f13a00777ebd4bd6a1e0efd344441fdc"
          ]
        },
        "id": "xDhKFMmyJUly",
        "outputId": "5b0b2362-1d4f-4bab-c149-e3687743e895"
      },
      "execution_count": 97,
      "outputs": [
        {
          "output_type": "display_data",
          "data": {
            "application/vnd.jupyter.widget-view+json": {
              "model_id": "d5cb2602df7c415d918472872b345e15",
              "version_minor": 0,
              "version_major": 2
            },
            "text/plain": [
              "interactive(children=(IntSlider(value=3, description='t1', max=96), IntSlider(value=10, description='t2', max=…"
            ]
          },
          "metadata": {}
        }
      ]
    },
    {
      "cell_type": "markdown",
      "source": [
        "#Densità continua normale"
      ],
      "metadata": {
        "id": "YEVrCLb-MTAW"
      }
    },
    {
      "cell_type": "markdown",
      "source": [
        "Passiamo ora a considerare quelle che sono probabilmente le variabili aleatorie continue più rilevanti.\n",
        "Si può dimostrare (e Gauss lo ha fatto per primo) che\n",
        "\n",
        "\\begin{equation}\n",
        "  \\int_{- \\infty}^{+ \\infty} e^{-{\\frac{x^2}{2}}} \\,dx = \\sqrt{2 \\pi} \n",
        "\\end{equation}\n",
        "\n",
        "Ne segue che la funzione\n",
        "\n",
        "\\begin{equation}\n",
        "  f(s)= \\frac{1}{\\sqrt{2 \\pi}}e^{-{\\frac{x^2}{2}}}\n",
        "\\end{equation}\n",
        "\n",
        "è una densità. Questa densità viene detta normale standard o gaussiana standard. "
      ],
      "metadata": {
        "id": "VLVgu8loMhhb"
      }
    },
    {
      "cell_type": "code",
      "source": [
        "@interact_manual(tempo=(0, 20))\n",
        "def dcu_plot(tempo = 10):\n",
        "  points = 100\n",
        "  results = []\n",
        "  mu, sigma = 0, 0.1 # mean and standard deviation\n",
        "  results = np.random.normal(mu, sigma, precisione)\n",
        "  \n",
        "  x = np.linspace(-1, 1, points)\n",
        "\n",
        "  coord = []\n",
        "  for i in range(points):\n",
        "    count = 0\n",
        "    for item in results:\n",
        "      if (item > -1 + (((2)/points)*i) and item <= -1 + (((2)/points)*(i+1))):\n",
        "        count = count + 1\n",
        "    coord.append((count / precisione) * (points / (2)) * 10)\n",
        "  \n",
        "  a = plt.figure(1)\n",
        "  ax = plt.axes()\n",
        "  ax.plot(x, coord)\n",
        "  ax.set_title(\"Densità\")\n",
        "  a.show()"
      ],
      "metadata": {
        "colab": {
          "base_uri": "https://localhost:8080/",
          "height": 81,
          "referenced_widgets": [
            "15ade483d90d487b89a3fe996afec976",
            "6cf372c19b694802b107d5ef098ab45d",
            "086e08a2228040b79d6b14759b2c38a2",
            "a943460f0ec24579bb50b7116efb572b",
            "0bad40afc1f240978cb1776d25b87788",
            "f865a874452f487d9b233fc679bc09fa",
            "b48d936f120042f5abd9ba7d810dc50d",
            "67bbad45bc944f1f8526499cf62706e3",
            "8444d29c3f124b4195d0d4dfb4a1de41",
            "140183fa23734e38b9b5f858b48ef5f9"
          ]
        },
        "id": "wS27TfCcBMFV",
        "outputId": "c03f5fd1-a7c6-4664-e775-001257d1e771"
      },
      "execution_count": 38,
      "outputs": [
        {
          "output_type": "display_data",
          "data": {
            "application/vnd.jupyter.widget-view+json": {
              "model_id": "15ade483d90d487b89a3fe996afec976",
              "version_minor": 0,
              "version_major": 2
            },
            "text/plain": [
              "interactive(children=(IntSlider(value=10, description='tempo', max=20), Button(description='Run Interact', sty…"
            ]
          },
          "metadata": {}
        }
      ]
    },
    {
      "cell_type": "code",
      "source": [
        ""
      ],
      "metadata": {
        "id": "9eK-dNsZTJ3L"
      },
      "execution_count": 38,
      "outputs": []
    }
  ]
}