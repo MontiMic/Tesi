{
  "nbformat": 4,
  "nbformat_minor": 0,
  "metadata": {
    "colab": {
      "name": "Untitled1.ipynb",
      "provenance": [],
      "toc_visible": true,
      "collapsed_sections": [],
      "authorship_tag": "ABX9TyMhJholrTg48DSV0souxilW",
      "include_colab_link": true
    },
    "kernelspec": {
      "name": "python3",
      "display_name": "Python 3"
    },
    "language_info": {
      "name": "python"
    },
    "widgets": {
      "application/vnd.jupyter.widget-state+json": {
        "cf21774c350a476aa2db5ebc76b459ba": {
          "model_module": "@jupyter-widgets/controls",
          "model_name": "VBoxModel",
          "model_module_version": "1.5.0",
          "state": {
            "_view_name": "VBoxView",
            "_dom_classes": [
              "widget-interact"
            ],
            "_model_name": "VBoxModel",
            "_view_module": "@jupyter-widgets/controls",
            "_model_module_version": "1.5.0",
            "_view_count": null,
            "_view_module_version": "1.5.0",
            "box_style": "",
            "layout": "IPY_MODEL_aaaae5ff97184c688d294fd685bc5677",
            "_model_module": "@jupyter-widgets/controls",
            "children": [
              "IPY_MODEL_e3dc66b1768842d2bb3aa03bc35cc0fd",
              "IPY_MODEL_c73236bd027645f4808aa7c58a68a9d5",
              "IPY_MODEL_c0566d89eda64723a3ed48d048b6f3e3"
            ]
          }
        },
        "aaaae5ff97184c688d294fd685bc5677": {
          "model_module": "@jupyter-widgets/base",
          "model_name": "LayoutModel",
          "model_module_version": "1.2.0",
          "state": {
            "_view_name": "LayoutView",
            "grid_template_rows": null,
            "right": null,
            "justify_content": null,
            "_view_module": "@jupyter-widgets/base",
            "overflow": null,
            "_model_module_version": "1.2.0",
            "_view_count": null,
            "flex_flow": null,
            "width": null,
            "min_width": null,
            "border": null,
            "align_items": null,
            "bottom": null,
            "_model_module": "@jupyter-widgets/base",
            "top": null,
            "grid_column": null,
            "overflow_y": null,
            "overflow_x": null,
            "grid_auto_flow": null,
            "grid_area": null,
            "grid_template_columns": null,
            "flex": null,
            "_model_name": "LayoutModel",
            "justify_items": null,
            "grid_row": null,
            "max_height": null,
            "align_content": null,
            "visibility": null,
            "align_self": null,
            "height": null,
            "min_height": null,
            "padding": null,
            "grid_auto_rows": null,
            "grid_gap": null,
            "max_width": null,
            "order": null,
            "_view_module_version": "1.2.0",
            "grid_template_areas": null,
            "object_position": null,
            "object_fit": null,
            "grid_auto_columns": null,
            "margin": null,
            "display": null,
            "left": null
          }
        },
        "e3dc66b1768842d2bb3aa03bc35cc0fd": {
          "model_module": "@jupyter-widgets/controls",
          "model_name": "IntSliderModel",
          "model_module_version": "1.5.0",
          "state": {
            "_view_name": "IntSliderView",
            "style": "IPY_MODEL_8c90f56ac1a04256a74d90768a5142db",
            "_dom_classes": [],
            "description": "vincita",
            "step": 1,
            "_model_name": "IntSliderModel",
            "orientation": "horizontal",
            "max": 30,
            "_view_module": "@jupyter-widgets/controls",
            "_model_module_version": "1.5.0",
            "value": 5,
            "_view_count": null,
            "disabled": false,
            "_view_module_version": "1.5.0",
            "min": 0,
            "continuous_update": true,
            "readout_format": "d",
            "description_tooltip": null,
            "readout": true,
            "_model_module": "@jupyter-widgets/controls",
            "layout": "IPY_MODEL_069d286f0b864c25a49ee98b30cdb951"
          }
        },
        "c73236bd027645f4808aa7c58a68a9d5": {
          "model_module": "@jupyter-widgets/controls",
          "model_name": "ButtonModel",
          "model_module_version": "1.5.0",
          "state": {
            "_view_name": "ButtonView",
            "style": "IPY_MODEL_750b094c35a249339a310f0c17b8fceb",
            "_dom_classes": [],
            "description": "Run Interact",
            "_model_name": "ButtonModel",
            "button_style": "",
            "_view_module": "@jupyter-widgets/controls",
            "_model_module_version": "1.5.0",
            "tooltip": "",
            "_view_count": null,
            "disabled": false,
            "_view_module_version": "1.5.0",
            "layout": "IPY_MODEL_ef18555fd4b14019a79c4d4940137d63",
            "_model_module": "@jupyter-widgets/controls",
            "icon": ""
          }
        },
        "c0566d89eda64723a3ed48d048b6f3e3": {
          "model_module": "@jupyter-widgets/output",
          "model_name": "OutputModel",
          "model_module_version": "1.0.0",
          "state": {
            "_view_name": "OutputView",
            "msg_id": "",
            "_dom_classes": [],
            "_model_name": "OutputModel",
            "outputs": [],
            "_view_module": "@jupyter-widgets/output",
            "_model_module_version": "1.0.0",
            "_view_count": null,
            "_view_module_version": "1.0.0",
            "layout": "IPY_MODEL_b9c750a4ea5a46c4b90e748b03133e46",
            "_model_module": "@jupyter-widgets/output"
          }
        },
        "8c90f56ac1a04256a74d90768a5142db": {
          "model_module": "@jupyter-widgets/controls",
          "model_name": "SliderStyleModel",
          "model_module_version": "1.5.0",
          "state": {
            "_view_name": "StyleView",
            "handle_color": null,
            "_model_name": "SliderStyleModel",
            "description_width": "",
            "_view_module": "@jupyter-widgets/base",
            "_model_module_version": "1.5.0",
            "_view_count": null,
            "_view_module_version": "1.2.0",
            "_model_module": "@jupyter-widgets/controls"
          }
        },
        "069d286f0b864c25a49ee98b30cdb951": {
          "model_module": "@jupyter-widgets/base",
          "model_name": "LayoutModel",
          "model_module_version": "1.2.0",
          "state": {
            "_view_name": "LayoutView",
            "grid_template_rows": null,
            "right": null,
            "justify_content": null,
            "_view_module": "@jupyter-widgets/base",
            "overflow": null,
            "_model_module_version": "1.2.0",
            "_view_count": null,
            "flex_flow": null,
            "width": null,
            "min_width": null,
            "border": null,
            "align_items": null,
            "bottom": null,
            "_model_module": "@jupyter-widgets/base",
            "top": null,
            "grid_column": null,
            "overflow_y": null,
            "overflow_x": null,
            "grid_auto_flow": null,
            "grid_area": null,
            "grid_template_columns": null,
            "flex": null,
            "_model_name": "LayoutModel",
            "justify_items": null,
            "grid_row": null,
            "max_height": null,
            "align_content": null,
            "visibility": null,
            "align_self": null,
            "height": null,
            "min_height": null,
            "padding": null,
            "grid_auto_rows": null,
            "grid_gap": null,
            "max_width": null,
            "order": null,
            "_view_module_version": "1.2.0",
            "grid_template_areas": null,
            "object_position": null,
            "object_fit": null,
            "grid_auto_columns": null,
            "margin": null,
            "display": null,
            "left": null
          }
        },
        "750b094c35a249339a310f0c17b8fceb": {
          "model_module": "@jupyter-widgets/controls",
          "model_name": "ButtonStyleModel",
          "model_module_version": "1.5.0",
          "state": {
            "_view_name": "StyleView",
            "_model_name": "ButtonStyleModel",
            "_view_module": "@jupyter-widgets/base",
            "_model_module_version": "1.5.0",
            "_view_count": null,
            "button_color": null,
            "font_weight": "",
            "_view_module_version": "1.2.0",
            "_model_module": "@jupyter-widgets/controls"
          }
        },
        "ef18555fd4b14019a79c4d4940137d63": {
          "model_module": "@jupyter-widgets/base",
          "model_name": "LayoutModel",
          "model_module_version": "1.2.0",
          "state": {
            "_view_name": "LayoutView",
            "grid_template_rows": null,
            "right": null,
            "justify_content": null,
            "_view_module": "@jupyter-widgets/base",
            "overflow": null,
            "_model_module_version": "1.2.0",
            "_view_count": null,
            "flex_flow": null,
            "width": null,
            "min_width": null,
            "border": null,
            "align_items": null,
            "bottom": null,
            "_model_module": "@jupyter-widgets/base",
            "top": null,
            "grid_column": null,
            "overflow_y": null,
            "overflow_x": null,
            "grid_auto_flow": null,
            "grid_area": null,
            "grid_template_columns": null,
            "flex": null,
            "_model_name": "LayoutModel",
            "justify_items": null,
            "grid_row": null,
            "max_height": null,
            "align_content": null,
            "visibility": null,
            "align_self": null,
            "height": null,
            "min_height": null,
            "padding": null,
            "grid_auto_rows": null,
            "grid_gap": null,
            "max_width": null,
            "order": null,
            "_view_module_version": "1.2.0",
            "grid_template_areas": null,
            "object_position": null,
            "object_fit": null,
            "grid_auto_columns": null,
            "margin": null,
            "display": null,
            "left": null
          }
        },
        "b9c750a4ea5a46c4b90e748b03133e46": {
          "model_module": "@jupyter-widgets/base",
          "model_name": "LayoutModel",
          "model_module_version": "1.2.0",
          "state": {
            "_view_name": "LayoutView",
            "grid_template_rows": null,
            "right": null,
            "justify_content": null,
            "_view_module": "@jupyter-widgets/base",
            "overflow": null,
            "_model_module_version": "1.2.0",
            "_view_count": null,
            "flex_flow": null,
            "width": null,
            "min_width": null,
            "border": null,
            "align_items": null,
            "bottom": null,
            "_model_module": "@jupyter-widgets/base",
            "top": null,
            "grid_column": null,
            "overflow_y": null,
            "overflow_x": null,
            "grid_auto_flow": null,
            "grid_area": null,
            "grid_template_columns": null,
            "flex": null,
            "_model_name": "LayoutModel",
            "justify_items": null,
            "grid_row": null,
            "max_height": null,
            "align_content": null,
            "visibility": null,
            "align_self": null,
            "height": null,
            "min_height": null,
            "padding": null,
            "grid_auto_rows": null,
            "grid_gap": null,
            "max_width": null,
            "order": null,
            "_view_module_version": "1.2.0",
            "grid_template_areas": null,
            "object_position": null,
            "object_fit": null,
            "grid_auto_columns": null,
            "margin": null,
            "display": null,
            "left": null
          }
        },
        "55209b43be0c4784a96adee14acade08": {
          "model_module": "@jupyter-widgets/controls",
          "model_name": "VBoxModel",
          "model_module_version": "1.5.0",
          "state": {
            "_view_name": "VBoxView",
            "_dom_classes": [
              "widget-interact"
            ],
            "_model_name": "VBoxModel",
            "_view_module": "@jupyter-widgets/controls",
            "_model_module_version": "1.5.0",
            "_view_count": null,
            "_view_module_version": "1.5.0",
            "box_style": "",
            "layout": "IPY_MODEL_bc73e34ddae743e9a93774594365ef40",
            "_model_module": "@jupyter-widgets/controls",
            "children": [
              "IPY_MODEL_54ea807e174047a4bf074df69daa1a4f",
              "IPY_MODEL_85f8fcffed224e37b72d434fd6ef0582",
              "IPY_MODEL_a7f0848a74414f83929b10454d0e7fc8",
              "IPY_MODEL_f17703deb7c5492caf894dc5bfa73996"
            ]
          }
        },
        "bc73e34ddae743e9a93774594365ef40": {
          "model_module": "@jupyter-widgets/base",
          "model_name": "LayoutModel",
          "model_module_version": "1.2.0",
          "state": {
            "_view_name": "LayoutView",
            "grid_template_rows": null,
            "right": null,
            "justify_content": null,
            "_view_module": "@jupyter-widgets/base",
            "overflow": null,
            "_model_module_version": "1.2.0",
            "_view_count": null,
            "flex_flow": null,
            "width": null,
            "min_width": null,
            "border": null,
            "align_items": null,
            "bottom": null,
            "_model_module": "@jupyter-widgets/base",
            "top": null,
            "grid_column": null,
            "overflow_y": null,
            "overflow_x": null,
            "grid_auto_flow": null,
            "grid_area": null,
            "grid_template_columns": null,
            "flex": null,
            "_model_name": "LayoutModel",
            "justify_items": null,
            "grid_row": null,
            "max_height": null,
            "align_content": null,
            "visibility": null,
            "align_self": null,
            "height": null,
            "min_height": null,
            "padding": null,
            "grid_auto_rows": null,
            "grid_gap": null,
            "max_width": null,
            "order": null,
            "_view_module_version": "1.2.0",
            "grid_template_areas": null,
            "object_position": null,
            "object_fit": null,
            "grid_auto_columns": null,
            "margin": null,
            "display": null,
            "left": null
          }
        },
        "54ea807e174047a4bf074df69daa1a4f": {
          "model_module": "@jupyter-widgets/controls",
          "model_name": "IntSliderModel",
          "model_module_version": "1.5.0",
          "state": {
            "_view_name": "IntSliderView",
            "style": "IPY_MODEL_46a2807e4782442186e96cc2ff2c729f",
            "_dom_classes": [],
            "description": "giocate",
            "step": 1,
            "_model_name": "IntSliderModel",
            "orientation": "horizontal",
            "max": 10,
            "_view_module": "@jupyter-widgets/controls",
            "_model_module_version": "1.5.0",
            "value": 3,
            "_view_count": null,
            "disabled": false,
            "_view_module_version": "1.5.0",
            "min": 1,
            "continuous_update": true,
            "readout_format": "d",
            "description_tooltip": null,
            "readout": true,
            "_model_module": "@jupyter-widgets/controls",
            "layout": "IPY_MODEL_57b34406a15744af8281350d45d6fc14"
          }
        },
        "85f8fcffed224e37b72d434fd6ef0582": {
          "model_module": "@jupyter-widgets/controls",
          "model_name": "IntSliderModel",
          "model_module_version": "1.5.0",
          "state": {
            "_view_name": "IntSliderView",
            "style": "IPY_MODEL_866e48ff68114a469dd16948536eafd3",
            "_dom_classes": [],
            "description": "puntata",
            "step": 5,
            "_model_name": "IntSliderModel",
            "orientation": "horizontal",
            "max": 100,
            "_view_module": "@jupyter-widgets/controls",
            "_model_module_version": "1.5.0",
            "value": 10,
            "_view_count": null,
            "disabled": false,
            "_view_module_version": "1.5.0",
            "min": 5,
            "continuous_update": true,
            "readout_format": "d",
            "description_tooltip": null,
            "readout": true,
            "_model_module": "@jupyter-widgets/controls",
            "layout": "IPY_MODEL_5bcb8d9d73f7404183416cb83a9ba020"
          }
        },
        "a7f0848a74414f83929b10454d0e7fc8": {
          "model_module": "@jupyter-widgets/controls",
          "model_name": "ButtonModel",
          "model_module_version": "1.5.0",
          "state": {
            "_view_name": "ButtonView",
            "style": "IPY_MODEL_11cf8db53baf497fae28bde8c073d376",
            "_dom_classes": [],
            "description": "Run Interact",
            "_model_name": "ButtonModel",
            "button_style": "",
            "_view_module": "@jupyter-widgets/controls",
            "_model_module_version": "1.5.0",
            "tooltip": "",
            "_view_count": null,
            "disabled": false,
            "_view_module_version": "1.5.0",
            "layout": "IPY_MODEL_7f81500905dc4aec9740fd07b9023a74",
            "_model_module": "@jupyter-widgets/controls",
            "icon": ""
          }
        },
        "f17703deb7c5492caf894dc5bfa73996": {
          "model_module": "@jupyter-widgets/output",
          "model_name": "OutputModel",
          "model_module_version": "1.0.0",
          "state": {
            "_view_name": "OutputView",
            "msg_id": "",
            "_dom_classes": [],
            "_model_name": "OutputModel",
            "outputs": [],
            "_view_module": "@jupyter-widgets/output",
            "_model_module_version": "1.0.0",
            "_view_count": null,
            "_view_module_version": "1.0.0",
            "layout": "IPY_MODEL_96ae9c6394264a79a70b21714f4a9920",
            "_model_module": "@jupyter-widgets/output"
          }
        },
        "46a2807e4782442186e96cc2ff2c729f": {
          "model_module": "@jupyter-widgets/controls",
          "model_name": "SliderStyleModel",
          "model_module_version": "1.5.0",
          "state": {
            "_view_name": "StyleView",
            "handle_color": null,
            "_model_name": "SliderStyleModel",
            "description_width": "",
            "_view_module": "@jupyter-widgets/base",
            "_model_module_version": "1.5.0",
            "_view_count": null,
            "_view_module_version": "1.2.0",
            "_model_module": "@jupyter-widgets/controls"
          }
        },
        "57b34406a15744af8281350d45d6fc14": {
          "model_module": "@jupyter-widgets/base",
          "model_name": "LayoutModel",
          "model_module_version": "1.2.0",
          "state": {
            "_view_name": "LayoutView",
            "grid_template_rows": null,
            "right": null,
            "justify_content": null,
            "_view_module": "@jupyter-widgets/base",
            "overflow": null,
            "_model_module_version": "1.2.0",
            "_view_count": null,
            "flex_flow": null,
            "width": null,
            "min_width": null,
            "border": null,
            "align_items": null,
            "bottom": null,
            "_model_module": "@jupyter-widgets/base",
            "top": null,
            "grid_column": null,
            "overflow_y": null,
            "overflow_x": null,
            "grid_auto_flow": null,
            "grid_area": null,
            "grid_template_columns": null,
            "flex": null,
            "_model_name": "LayoutModel",
            "justify_items": null,
            "grid_row": null,
            "max_height": null,
            "align_content": null,
            "visibility": null,
            "align_self": null,
            "height": null,
            "min_height": null,
            "padding": null,
            "grid_auto_rows": null,
            "grid_gap": null,
            "max_width": null,
            "order": null,
            "_view_module_version": "1.2.0",
            "grid_template_areas": null,
            "object_position": null,
            "object_fit": null,
            "grid_auto_columns": null,
            "margin": null,
            "display": null,
            "left": null
          }
        },
        "866e48ff68114a469dd16948536eafd3": {
          "model_module": "@jupyter-widgets/controls",
          "model_name": "SliderStyleModel",
          "model_module_version": "1.5.0",
          "state": {
            "_view_name": "StyleView",
            "handle_color": null,
            "_model_name": "SliderStyleModel",
            "description_width": "",
            "_view_module": "@jupyter-widgets/base",
            "_model_module_version": "1.5.0",
            "_view_count": null,
            "_view_module_version": "1.2.0",
            "_model_module": "@jupyter-widgets/controls"
          }
        },
        "5bcb8d9d73f7404183416cb83a9ba020": {
          "model_module": "@jupyter-widgets/base",
          "model_name": "LayoutModel",
          "model_module_version": "1.2.0",
          "state": {
            "_view_name": "LayoutView",
            "grid_template_rows": null,
            "right": null,
            "justify_content": null,
            "_view_module": "@jupyter-widgets/base",
            "overflow": null,
            "_model_module_version": "1.2.0",
            "_view_count": null,
            "flex_flow": null,
            "width": null,
            "min_width": null,
            "border": null,
            "align_items": null,
            "bottom": null,
            "_model_module": "@jupyter-widgets/base",
            "top": null,
            "grid_column": null,
            "overflow_y": null,
            "overflow_x": null,
            "grid_auto_flow": null,
            "grid_area": null,
            "grid_template_columns": null,
            "flex": null,
            "_model_name": "LayoutModel",
            "justify_items": null,
            "grid_row": null,
            "max_height": null,
            "align_content": null,
            "visibility": null,
            "align_self": null,
            "height": null,
            "min_height": null,
            "padding": null,
            "grid_auto_rows": null,
            "grid_gap": null,
            "max_width": null,
            "order": null,
            "_view_module_version": "1.2.0",
            "grid_template_areas": null,
            "object_position": null,
            "object_fit": null,
            "grid_auto_columns": null,
            "margin": null,
            "display": null,
            "left": null
          }
        },
        "11cf8db53baf497fae28bde8c073d376": {
          "model_module": "@jupyter-widgets/controls",
          "model_name": "ButtonStyleModel",
          "model_module_version": "1.5.0",
          "state": {
            "_view_name": "StyleView",
            "_model_name": "ButtonStyleModel",
            "_view_module": "@jupyter-widgets/base",
            "_model_module_version": "1.5.0",
            "_view_count": null,
            "button_color": null,
            "font_weight": "",
            "_view_module_version": "1.2.0",
            "_model_module": "@jupyter-widgets/controls"
          }
        },
        "7f81500905dc4aec9740fd07b9023a74": {
          "model_module": "@jupyter-widgets/base",
          "model_name": "LayoutModel",
          "model_module_version": "1.2.0",
          "state": {
            "_view_name": "LayoutView",
            "grid_template_rows": null,
            "right": null,
            "justify_content": null,
            "_view_module": "@jupyter-widgets/base",
            "overflow": null,
            "_model_module_version": "1.2.0",
            "_view_count": null,
            "flex_flow": null,
            "width": null,
            "min_width": null,
            "border": null,
            "align_items": null,
            "bottom": null,
            "_model_module": "@jupyter-widgets/base",
            "top": null,
            "grid_column": null,
            "overflow_y": null,
            "overflow_x": null,
            "grid_auto_flow": null,
            "grid_area": null,
            "grid_template_columns": null,
            "flex": null,
            "_model_name": "LayoutModel",
            "justify_items": null,
            "grid_row": null,
            "max_height": null,
            "align_content": null,
            "visibility": null,
            "align_self": null,
            "height": null,
            "min_height": null,
            "padding": null,
            "grid_auto_rows": null,
            "grid_gap": null,
            "max_width": null,
            "order": null,
            "_view_module_version": "1.2.0",
            "grid_template_areas": null,
            "object_position": null,
            "object_fit": null,
            "grid_auto_columns": null,
            "margin": null,
            "display": null,
            "left": null
          }
        },
        "96ae9c6394264a79a70b21714f4a9920": {
          "model_module": "@jupyter-widgets/base",
          "model_name": "LayoutModel",
          "model_module_version": "1.2.0",
          "state": {
            "_view_name": "LayoutView",
            "grid_template_rows": null,
            "right": null,
            "justify_content": null,
            "_view_module": "@jupyter-widgets/base",
            "overflow": null,
            "_model_module_version": "1.2.0",
            "_view_count": null,
            "flex_flow": null,
            "width": null,
            "min_width": null,
            "border": null,
            "align_items": null,
            "bottom": null,
            "_model_module": "@jupyter-widgets/base",
            "top": null,
            "grid_column": null,
            "overflow_y": null,
            "overflow_x": null,
            "grid_auto_flow": null,
            "grid_area": null,
            "grid_template_columns": null,
            "flex": null,
            "_model_name": "LayoutModel",
            "justify_items": null,
            "grid_row": null,
            "max_height": null,
            "align_content": null,
            "visibility": null,
            "align_self": null,
            "height": null,
            "min_height": null,
            "padding": null,
            "grid_auto_rows": null,
            "grid_gap": null,
            "max_width": null,
            "order": null,
            "_view_module_version": "1.2.0",
            "grid_template_areas": null,
            "object_position": null,
            "object_fit": null,
            "grid_auto_columns": null,
            "margin": null,
            "display": null,
            "left": null
          }
        },
        "631b43261a94463d89558ab368c94de3": {
          "model_module": "@jupyter-widgets/controls",
          "model_name": "VBoxModel",
          "model_module_version": "1.5.0",
          "state": {
            "_view_name": "VBoxView",
            "_dom_classes": [
              "widget-interact"
            ],
            "_model_name": "VBoxModel",
            "_view_module": "@jupyter-widgets/controls",
            "_model_module_version": "1.5.0",
            "_view_count": null,
            "_view_module_version": "1.5.0",
            "box_style": "",
            "layout": "IPY_MODEL_ce439b3daa2847038f023ab175b290a2",
            "_model_module": "@jupyter-widgets/controls",
            "children": [
              "IPY_MODEL_76b65a608a20492999208ed83bb81bdf",
              "IPY_MODEL_c1402de1d0314e08b890a10483595187",
              "IPY_MODEL_3307fcc76b9d4e87a65bdd2f63dc9ff6",
              "IPY_MODEL_6148b91358f24feba4594619531b4f67"
            ]
          }
        },
        "ce439b3daa2847038f023ab175b290a2": {
          "model_module": "@jupyter-widgets/base",
          "model_name": "LayoutModel",
          "model_module_version": "1.2.0",
          "state": {
            "_view_name": "LayoutView",
            "grid_template_rows": null,
            "right": null,
            "justify_content": null,
            "_view_module": "@jupyter-widgets/base",
            "overflow": null,
            "_model_module_version": "1.2.0",
            "_view_count": null,
            "flex_flow": null,
            "width": null,
            "min_width": null,
            "border": null,
            "align_items": null,
            "bottom": null,
            "_model_module": "@jupyter-widgets/base",
            "top": null,
            "grid_column": null,
            "overflow_y": null,
            "overflow_x": null,
            "grid_auto_flow": null,
            "grid_area": null,
            "grid_template_columns": null,
            "flex": null,
            "_model_name": "LayoutModel",
            "justify_items": null,
            "grid_row": null,
            "max_height": null,
            "align_content": null,
            "visibility": null,
            "align_self": null,
            "height": null,
            "min_height": null,
            "padding": null,
            "grid_auto_rows": null,
            "grid_gap": null,
            "max_width": null,
            "order": null,
            "_view_module_version": "1.2.0",
            "grid_template_areas": null,
            "object_position": null,
            "object_fit": null,
            "grid_auto_columns": null,
            "margin": null,
            "display": null,
            "left": null
          }
        },
        "76b65a608a20492999208ed83bb81bdf": {
          "model_module": "@jupyter-widgets/controls",
          "model_name": "IntSliderModel",
          "model_module_version": "1.5.0",
          "state": {
            "_view_name": "IntSliderView",
            "style": "IPY_MODEL_f5c74b856f27411996f292243cccb88e",
            "_dom_classes": [],
            "description": "giocate",
            "step": 1,
            "_model_name": "IntSliderModel",
            "orientation": "horizontal",
            "max": 6,
            "_view_module": "@jupyter-widgets/controls",
            "_model_module_version": "1.5.0",
            "value": 3,
            "_view_count": null,
            "disabled": false,
            "_view_module_version": "1.5.0",
            "min": 1,
            "continuous_update": true,
            "readout_format": "d",
            "description_tooltip": null,
            "readout": true,
            "_model_module": "@jupyter-widgets/controls",
            "layout": "IPY_MODEL_61b2041ec3e04bfb97b6c4049dd04f53"
          }
        },
        "c1402de1d0314e08b890a10483595187": {
          "model_module": "@jupyter-widgets/controls",
          "model_name": "IntSliderModel",
          "model_module_version": "1.5.0",
          "state": {
            "_view_name": "IntSliderView",
            "style": "IPY_MODEL_b750fd4b26f04172b162b1606bb54b98",
            "_dom_classes": [],
            "description": "puntata",
            "step": 5,
            "_model_name": "IntSliderModel",
            "orientation": "horizontal",
            "max": 100,
            "_view_module": "@jupyter-widgets/controls",
            "_model_module_version": "1.5.0",
            "value": 5,
            "_view_count": null,
            "disabled": false,
            "_view_module_version": "1.5.0",
            "min": 5,
            "continuous_update": true,
            "readout_format": "d",
            "description_tooltip": null,
            "readout": true,
            "_model_module": "@jupyter-widgets/controls",
            "layout": "IPY_MODEL_c2132949e9b2432bad7545330d9e6133"
          }
        },
        "3307fcc76b9d4e87a65bdd2f63dc9ff6": {
          "model_module": "@jupyter-widgets/controls",
          "model_name": "ButtonModel",
          "model_module_version": "1.5.0",
          "state": {
            "_view_name": "ButtonView",
            "style": "IPY_MODEL_d6a319d6bc03464a959eff61cfecf334",
            "_dom_classes": [],
            "description": "Run Interact",
            "_model_name": "ButtonModel",
            "button_style": "",
            "_view_module": "@jupyter-widgets/controls",
            "_model_module_version": "1.5.0",
            "tooltip": "",
            "_view_count": null,
            "disabled": false,
            "_view_module_version": "1.5.0",
            "layout": "IPY_MODEL_f8d3604e960c4658bba1f240a892ccf2",
            "_model_module": "@jupyter-widgets/controls",
            "icon": ""
          }
        },
        "6148b91358f24feba4594619531b4f67": {
          "model_module": "@jupyter-widgets/output",
          "model_name": "OutputModel",
          "model_module_version": "1.0.0",
          "state": {
            "_view_name": "OutputView",
            "msg_id": "",
            "_dom_classes": [],
            "_model_name": "OutputModel",
            "outputs": [],
            "_view_module": "@jupyter-widgets/output",
            "_model_module_version": "1.0.0",
            "_view_count": null,
            "_view_module_version": "1.0.0",
            "layout": "IPY_MODEL_8f7ad2b42d694ffeaa6356e99553e431",
            "_model_module": "@jupyter-widgets/output"
          }
        },
        "f5c74b856f27411996f292243cccb88e": {
          "model_module": "@jupyter-widgets/controls",
          "model_name": "SliderStyleModel",
          "model_module_version": "1.5.0",
          "state": {
            "_view_name": "StyleView",
            "handle_color": null,
            "_model_name": "SliderStyleModel",
            "description_width": "",
            "_view_module": "@jupyter-widgets/base",
            "_model_module_version": "1.5.0",
            "_view_count": null,
            "_view_module_version": "1.2.0",
            "_model_module": "@jupyter-widgets/controls"
          }
        },
        "61b2041ec3e04bfb97b6c4049dd04f53": {
          "model_module": "@jupyter-widgets/base",
          "model_name": "LayoutModel",
          "model_module_version": "1.2.0",
          "state": {
            "_view_name": "LayoutView",
            "grid_template_rows": null,
            "right": null,
            "justify_content": null,
            "_view_module": "@jupyter-widgets/base",
            "overflow": null,
            "_model_module_version": "1.2.0",
            "_view_count": null,
            "flex_flow": null,
            "width": null,
            "min_width": null,
            "border": null,
            "align_items": null,
            "bottom": null,
            "_model_module": "@jupyter-widgets/base",
            "top": null,
            "grid_column": null,
            "overflow_y": null,
            "overflow_x": null,
            "grid_auto_flow": null,
            "grid_area": null,
            "grid_template_columns": null,
            "flex": null,
            "_model_name": "LayoutModel",
            "justify_items": null,
            "grid_row": null,
            "max_height": null,
            "align_content": null,
            "visibility": null,
            "align_self": null,
            "height": null,
            "min_height": null,
            "padding": null,
            "grid_auto_rows": null,
            "grid_gap": null,
            "max_width": null,
            "order": null,
            "_view_module_version": "1.2.0",
            "grid_template_areas": null,
            "object_position": null,
            "object_fit": null,
            "grid_auto_columns": null,
            "margin": null,
            "display": null,
            "left": null
          }
        },
        "b750fd4b26f04172b162b1606bb54b98": {
          "model_module": "@jupyter-widgets/controls",
          "model_name": "SliderStyleModel",
          "model_module_version": "1.5.0",
          "state": {
            "_view_name": "StyleView",
            "handle_color": null,
            "_model_name": "SliderStyleModel",
            "description_width": "",
            "_view_module": "@jupyter-widgets/base",
            "_model_module_version": "1.5.0",
            "_view_count": null,
            "_view_module_version": "1.2.0",
            "_model_module": "@jupyter-widgets/controls"
          }
        },
        "c2132949e9b2432bad7545330d9e6133": {
          "model_module": "@jupyter-widgets/base",
          "model_name": "LayoutModel",
          "model_module_version": "1.2.0",
          "state": {
            "_view_name": "LayoutView",
            "grid_template_rows": null,
            "right": null,
            "justify_content": null,
            "_view_module": "@jupyter-widgets/base",
            "overflow": null,
            "_model_module_version": "1.2.0",
            "_view_count": null,
            "flex_flow": null,
            "width": null,
            "min_width": null,
            "border": null,
            "align_items": null,
            "bottom": null,
            "_model_module": "@jupyter-widgets/base",
            "top": null,
            "grid_column": null,
            "overflow_y": null,
            "overflow_x": null,
            "grid_auto_flow": null,
            "grid_area": null,
            "grid_template_columns": null,
            "flex": null,
            "_model_name": "LayoutModel",
            "justify_items": null,
            "grid_row": null,
            "max_height": null,
            "align_content": null,
            "visibility": null,
            "align_self": null,
            "height": null,
            "min_height": null,
            "padding": null,
            "grid_auto_rows": null,
            "grid_gap": null,
            "max_width": null,
            "order": null,
            "_view_module_version": "1.2.0",
            "grid_template_areas": null,
            "object_position": null,
            "object_fit": null,
            "grid_auto_columns": null,
            "margin": null,
            "display": null,
            "left": null
          }
        },
        "d6a319d6bc03464a959eff61cfecf334": {
          "model_module": "@jupyter-widgets/controls",
          "model_name": "ButtonStyleModel",
          "model_module_version": "1.5.0",
          "state": {
            "_view_name": "StyleView",
            "_model_name": "ButtonStyleModel",
            "_view_module": "@jupyter-widgets/base",
            "_model_module_version": "1.5.0",
            "_view_count": null,
            "button_color": null,
            "font_weight": "",
            "_view_module_version": "1.2.0",
            "_model_module": "@jupyter-widgets/controls"
          }
        },
        "f8d3604e960c4658bba1f240a892ccf2": {
          "model_module": "@jupyter-widgets/base",
          "model_name": "LayoutModel",
          "model_module_version": "1.2.0",
          "state": {
            "_view_name": "LayoutView",
            "grid_template_rows": null,
            "right": null,
            "justify_content": null,
            "_view_module": "@jupyter-widgets/base",
            "overflow": null,
            "_model_module_version": "1.2.0",
            "_view_count": null,
            "flex_flow": null,
            "width": null,
            "min_width": null,
            "border": null,
            "align_items": null,
            "bottom": null,
            "_model_module": "@jupyter-widgets/base",
            "top": null,
            "grid_column": null,
            "overflow_y": null,
            "overflow_x": null,
            "grid_auto_flow": null,
            "grid_area": null,
            "grid_template_columns": null,
            "flex": null,
            "_model_name": "LayoutModel",
            "justify_items": null,
            "grid_row": null,
            "max_height": null,
            "align_content": null,
            "visibility": null,
            "align_self": null,
            "height": null,
            "min_height": null,
            "padding": null,
            "grid_auto_rows": null,
            "grid_gap": null,
            "max_width": null,
            "order": null,
            "_view_module_version": "1.2.0",
            "grid_template_areas": null,
            "object_position": null,
            "object_fit": null,
            "grid_auto_columns": null,
            "margin": null,
            "display": null,
            "left": null
          }
        },
        "8f7ad2b42d694ffeaa6356e99553e431": {
          "model_module": "@jupyter-widgets/base",
          "model_name": "LayoutModel",
          "model_module_version": "1.2.0",
          "state": {
            "_view_name": "LayoutView",
            "grid_template_rows": null,
            "right": null,
            "justify_content": null,
            "_view_module": "@jupyter-widgets/base",
            "overflow": null,
            "_model_module_version": "1.2.0",
            "_view_count": null,
            "flex_flow": null,
            "width": null,
            "min_width": null,
            "border": null,
            "align_items": null,
            "bottom": null,
            "_model_module": "@jupyter-widgets/base",
            "top": null,
            "grid_column": null,
            "overflow_y": null,
            "overflow_x": null,
            "grid_auto_flow": null,
            "grid_area": null,
            "grid_template_columns": null,
            "flex": null,
            "_model_name": "LayoutModel",
            "justify_items": null,
            "grid_row": null,
            "max_height": null,
            "align_content": null,
            "visibility": null,
            "align_self": null,
            "height": null,
            "min_height": null,
            "padding": null,
            "grid_auto_rows": null,
            "grid_gap": null,
            "max_width": null,
            "order": null,
            "_view_module_version": "1.2.0",
            "grid_template_areas": null,
            "object_position": null,
            "object_fit": null,
            "grid_auto_columns": null,
            "margin": null,
            "display": null,
            "left": null
          }
        },
        "81a27c3194604ecd8ea6d5473e62cdd3": {
          "model_module": "@jupyter-widgets/controls",
          "model_name": "VBoxModel",
          "model_module_version": "1.5.0",
          "state": {
            "_view_name": "VBoxView",
            "_dom_classes": [
              "widget-interact"
            ],
            "_model_name": "VBoxModel",
            "_view_module": "@jupyter-widgets/controls",
            "_model_module_version": "1.5.0",
            "_view_count": null,
            "_view_module_version": "1.5.0",
            "box_style": "",
            "layout": "IPY_MODEL_acf24df08a66470fad84e130bf791236",
            "_model_module": "@jupyter-widgets/controls",
            "children": [
              "IPY_MODEL_e5489c2c866044f48691c2e63c1d448a",
              "IPY_MODEL_b3b3ba44cd3243559911904e3f0aeee8",
              "IPY_MODEL_1cb3043361b143f6976786100a584f12"
            ]
          }
        },
        "acf24df08a66470fad84e130bf791236": {
          "model_module": "@jupyter-widgets/base",
          "model_name": "LayoutModel",
          "model_module_version": "1.2.0",
          "state": {
            "_view_name": "LayoutView",
            "grid_template_rows": null,
            "right": null,
            "justify_content": null,
            "_view_module": "@jupyter-widgets/base",
            "overflow": null,
            "_model_module_version": "1.2.0",
            "_view_count": null,
            "flex_flow": null,
            "width": null,
            "min_width": null,
            "border": null,
            "align_items": null,
            "bottom": null,
            "_model_module": "@jupyter-widgets/base",
            "top": null,
            "grid_column": null,
            "overflow_y": null,
            "overflow_x": null,
            "grid_auto_flow": null,
            "grid_area": null,
            "grid_template_columns": null,
            "flex": null,
            "_model_name": "LayoutModel",
            "justify_items": null,
            "grid_row": null,
            "max_height": null,
            "align_content": null,
            "visibility": null,
            "align_self": null,
            "height": null,
            "min_height": null,
            "padding": null,
            "grid_auto_rows": null,
            "grid_gap": null,
            "max_width": null,
            "order": null,
            "_view_module_version": "1.2.0",
            "grid_template_areas": null,
            "object_position": null,
            "object_fit": null,
            "grid_auto_columns": null,
            "margin": null,
            "display": null,
            "left": null
          }
        },
        "e5489c2c866044f48691c2e63c1d448a": {
          "model_module": "@jupyter-widgets/controls",
          "model_name": "IntSliderModel",
          "model_module_version": "1.5.0",
          "state": {
            "_view_name": "IntSliderView",
            "style": "IPY_MODEL_fb7bf43091684a4e9f822fcbad1f9bcd",
            "_dom_classes": [],
            "description": "estrazioni",
            "step": 1,
            "_model_name": "IntSliderModel",
            "orientation": "horizontal",
            "max": 10,
            "_view_module": "@jupyter-widgets/controls",
            "_model_module_version": "1.5.0",
            "value": 3,
            "_view_count": null,
            "disabled": false,
            "_view_module_version": "1.5.0",
            "min": 1,
            "continuous_update": true,
            "readout_format": "d",
            "description_tooltip": null,
            "readout": true,
            "_model_module": "@jupyter-widgets/controls",
            "layout": "IPY_MODEL_73474db6cb9349a8bd8b2ec199ff5beb"
          }
        },
        "b3b3ba44cd3243559911904e3f0aeee8": {
          "model_module": "@jupyter-widgets/controls",
          "model_name": "ButtonModel",
          "model_module_version": "1.5.0",
          "state": {
            "_view_name": "ButtonView",
            "style": "IPY_MODEL_39698fb6543b44828dca67a6cf831f70",
            "_dom_classes": [],
            "description": "Run Interact",
            "_model_name": "ButtonModel",
            "button_style": "",
            "_view_module": "@jupyter-widgets/controls",
            "_model_module_version": "1.5.0",
            "tooltip": "",
            "_view_count": null,
            "disabled": false,
            "_view_module_version": "1.5.0",
            "layout": "IPY_MODEL_64c0bf648696416e9a6344463fac912c",
            "_model_module": "@jupyter-widgets/controls",
            "icon": ""
          }
        },
        "1cb3043361b143f6976786100a584f12": {
          "model_module": "@jupyter-widgets/output",
          "model_name": "OutputModel",
          "model_module_version": "1.0.0",
          "state": {
            "_view_name": "OutputView",
            "msg_id": "",
            "_dom_classes": [],
            "_model_name": "OutputModel",
            "outputs": [],
            "_view_module": "@jupyter-widgets/output",
            "_model_module_version": "1.0.0",
            "_view_count": null,
            "_view_module_version": "1.0.0",
            "layout": "IPY_MODEL_88f333ce2fab46e28433120d629ec1a0",
            "_model_module": "@jupyter-widgets/output"
          }
        },
        "fb7bf43091684a4e9f822fcbad1f9bcd": {
          "model_module": "@jupyter-widgets/controls",
          "model_name": "SliderStyleModel",
          "model_module_version": "1.5.0",
          "state": {
            "_view_name": "StyleView",
            "handle_color": null,
            "_model_name": "SliderStyleModel",
            "description_width": "",
            "_view_module": "@jupyter-widgets/base",
            "_model_module_version": "1.5.0",
            "_view_count": null,
            "_view_module_version": "1.2.0",
            "_model_module": "@jupyter-widgets/controls"
          }
        },
        "73474db6cb9349a8bd8b2ec199ff5beb": {
          "model_module": "@jupyter-widgets/base",
          "model_name": "LayoutModel",
          "model_module_version": "1.2.0",
          "state": {
            "_view_name": "LayoutView",
            "grid_template_rows": null,
            "right": null,
            "justify_content": null,
            "_view_module": "@jupyter-widgets/base",
            "overflow": null,
            "_model_module_version": "1.2.0",
            "_view_count": null,
            "flex_flow": null,
            "width": null,
            "min_width": null,
            "border": null,
            "align_items": null,
            "bottom": null,
            "_model_module": "@jupyter-widgets/base",
            "top": null,
            "grid_column": null,
            "overflow_y": null,
            "overflow_x": null,
            "grid_auto_flow": null,
            "grid_area": null,
            "grid_template_columns": null,
            "flex": null,
            "_model_name": "LayoutModel",
            "justify_items": null,
            "grid_row": null,
            "max_height": null,
            "align_content": null,
            "visibility": null,
            "align_self": null,
            "height": null,
            "min_height": null,
            "padding": null,
            "grid_auto_rows": null,
            "grid_gap": null,
            "max_width": null,
            "order": null,
            "_view_module_version": "1.2.0",
            "grid_template_areas": null,
            "object_position": null,
            "object_fit": null,
            "grid_auto_columns": null,
            "margin": null,
            "display": null,
            "left": null
          }
        },
        "39698fb6543b44828dca67a6cf831f70": {
          "model_module": "@jupyter-widgets/controls",
          "model_name": "ButtonStyleModel",
          "model_module_version": "1.5.0",
          "state": {
            "_view_name": "StyleView",
            "_model_name": "ButtonStyleModel",
            "_view_module": "@jupyter-widgets/base",
            "_model_module_version": "1.5.0",
            "_view_count": null,
            "button_color": null,
            "font_weight": "",
            "_view_module_version": "1.2.0",
            "_model_module": "@jupyter-widgets/controls"
          }
        },
        "64c0bf648696416e9a6344463fac912c": {
          "model_module": "@jupyter-widgets/base",
          "model_name": "LayoutModel",
          "model_module_version": "1.2.0",
          "state": {
            "_view_name": "LayoutView",
            "grid_template_rows": null,
            "right": null,
            "justify_content": null,
            "_view_module": "@jupyter-widgets/base",
            "overflow": null,
            "_model_module_version": "1.2.0",
            "_view_count": null,
            "flex_flow": null,
            "width": null,
            "min_width": null,
            "border": null,
            "align_items": null,
            "bottom": null,
            "_model_module": "@jupyter-widgets/base",
            "top": null,
            "grid_column": null,
            "overflow_y": null,
            "overflow_x": null,
            "grid_auto_flow": null,
            "grid_area": null,
            "grid_template_columns": null,
            "flex": null,
            "_model_name": "LayoutModel",
            "justify_items": null,
            "grid_row": null,
            "max_height": null,
            "align_content": null,
            "visibility": null,
            "align_self": null,
            "height": null,
            "min_height": null,
            "padding": null,
            "grid_auto_rows": null,
            "grid_gap": null,
            "max_width": null,
            "order": null,
            "_view_module_version": "1.2.0",
            "grid_template_areas": null,
            "object_position": null,
            "object_fit": null,
            "grid_auto_columns": null,
            "margin": null,
            "display": null,
            "left": null
          }
        },
        "88f333ce2fab46e28433120d629ec1a0": {
          "model_module": "@jupyter-widgets/base",
          "model_name": "LayoutModel",
          "model_module_version": "1.2.0",
          "state": {
            "_view_name": "LayoutView",
            "grid_template_rows": null,
            "right": null,
            "justify_content": null,
            "_view_module": "@jupyter-widgets/base",
            "overflow": null,
            "_model_module_version": "1.2.0",
            "_view_count": null,
            "flex_flow": null,
            "width": null,
            "min_width": null,
            "border": null,
            "align_items": null,
            "bottom": null,
            "_model_module": "@jupyter-widgets/base",
            "top": null,
            "grid_column": null,
            "overflow_y": null,
            "overflow_x": null,
            "grid_auto_flow": null,
            "grid_area": null,
            "grid_template_columns": null,
            "flex": null,
            "_model_name": "LayoutModel",
            "justify_items": null,
            "grid_row": null,
            "max_height": null,
            "align_content": null,
            "visibility": null,
            "align_self": null,
            "height": null,
            "min_height": null,
            "padding": null,
            "grid_auto_rows": null,
            "grid_gap": null,
            "max_width": null,
            "order": null,
            "_view_module_version": "1.2.0",
            "grid_template_areas": null,
            "object_position": null,
            "object_fit": null,
            "grid_auto_columns": null,
            "margin": null,
            "display": null,
            "left": null
          }
        },
        "bc85f1ed70944525a07a1d351d71e142": {
          "model_module": "@jupyter-widgets/controls",
          "model_name": "VBoxModel",
          "model_module_version": "1.5.0",
          "state": {
            "_view_name": "VBoxView",
            "_dom_classes": [
              "widget-interact"
            ],
            "_model_name": "VBoxModel",
            "_view_module": "@jupyter-widgets/controls",
            "_model_module_version": "1.5.0",
            "_view_count": null,
            "_view_module_version": "1.5.0",
            "box_style": "",
            "layout": "IPY_MODEL_38efd26e7eb34eaa856795e2b686c7eb",
            "_model_module": "@jupyter-widgets/controls",
            "children": [
              "IPY_MODEL_225a5f838fc948deb727c1b73c46410b",
              "IPY_MODEL_76a4798a65954420a7b45d0cf12a57f3",
              "IPY_MODEL_a6b38a82f81944ed9ba85af078d5ee26",
              "IPY_MODEL_e8ccbfcfa3894f4982943c6ce99d4dc2"
            ]
          }
        },
        "38efd26e7eb34eaa856795e2b686c7eb": {
          "model_module": "@jupyter-widgets/base",
          "model_name": "LayoutModel",
          "model_module_version": "1.2.0",
          "state": {
            "_view_name": "LayoutView",
            "grid_template_rows": null,
            "right": null,
            "justify_content": null,
            "_view_module": "@jupyter-widgets/base",
            "overflow": null,
            "_model_module_version": "1.2.0",
            "_view_count": null,
            "flex_flow": null,
            "width": null,
            "min_width": null,
            "border": null,
            "align_items": null,
            "bottom": null,
            "_model_module": "@jupyter-widgets/base",
            "top": null,
            "grid_column": null,
            "overflow_y": null,
            "overflow_x": null,
            "grid_auto_flow": null,
            "grid_area": null,
            "grid_template_columns": null,
            "flex": null,
            "_model_name": "LayoutModel",
            "justify_items": null,
            "grid_row": null,
            "max_height": null,
            "align_content": null,
            "visibility": null,
            "align_self": null,
            "height": null,
            "min_height": null,
            "padding": null,
            "grid_auto_rows": null,
            "grid_gap": null,
            "max_width": null,
            "order": null,
            "_view_module_version": "1.2.0",
            "grid_template_areas": null,
            "object_position": null,
            "object_fit": null,
            "grid_auto_columns": null,
            "margin": null,
            "display": null,
            "left": null
          }
        },
        "225a5f838fc948deb727c1b73c46410b": {
          "model_module": "@jupyter-widgets/controls",
          "model_name": "IntSliderModel",
          "model_module_version": "1.5.0",
          "state": {
            "_view_name": "IntSliderView",
            "style": "IPY_MODEL_41921098c2fe4dd196cf05d7fd270f05",
            "_dom_classes": [],
            "description": "bianche",
            "step": 1,
            "_model_name": "IntSliderModel",
            "orientation": "horizontal",
            "max": 5,
            "_view_module": "@jupyter-widgets/controls",
            "_model_module_version": "1.5.0",
            "value": 2,
            "_view_count": null,
            "disabled": false,
            "_view_module_version": "1.5.0",
            "min": 1,
            "continuous_update": true,
            "readout_format": "d",
            "description_tooltip": null,
            "readout": true,
            "_model_module": "@jupyter-widgets/controls",
            "layout": "IPY_MODEL_dc7b920ca8ff4ca18d2ad3204d9b4f1a"
          }
        },
        "76a4798a65954420a7b45d0cf12a57f3": {
          "model_module": "@jupyter-widgets/controls",
          "model_name": "IntSliderModel",
          "model_module_version": "1.5.0",
          "state": {
            "_view_name": "IntSliderView",
            "style": "IPY_MODEL_dab445aac99a4fbbb34693a6fe1dadef",
            "_dom_classes": [],
            "description": "rosse",
            "step": 1,
            "_model_name": "IntSliderModel",
            "orientation": "horizontal",
            "max": 5,
            "_view_module": "@jupyter-widgets/controls",
            "_model_module_version": "1.5.0",
            "value": 3,
            "_view_count": null,
            "disabled": false,
            "_view_module_version": "1.5.0",
            "min": 1,
            "continuous_update": true,
            "readout_format": "d",
            "description_tooltip": null,
            "readout": true,
            "_model_module": "@jupyter-widgets/controls",
            "layout": "IPY_MODEL_779dad85f2f44fdf8da3efa13739f4e7"
          }
        },
        "a6b38a82f81944ed9ba85af078d5ee26": {
          "model_module": "@jupyter-widgets/controls",
          "model_name": "ButtonModel",
          "model_module_version": "1.5.0",
          "state": {
            "_view_name": "ButtonView",
            "style": "IPY_MODEL_58f10d0fb6fc441095c85dce7e849b92",
            "_dom_classes": [],
            "description": "Run Interact",
            "_model_name": "ButtonModel",
            "button_style": "",
            "_view_module": "@jupyter-widgets/controls",
            "_model_module_version": "1.5.0",
            "tooltip": "",
            "_view_count": null,
            "disabled": false,
            "_view_module_version": "1.5.0",
            "layout": "IPY_MODEL_e7b74e4488ec42b2a58ed82e42bf0e8f",
            "_model_module": "@jupyter-widgets/controls",
            "icon": ""
          }
        },
        "e8ccbfcfa3894f4982943c6ce99d4dc2": {
          "model_module": "@jupyter-widgets/output",
          "model_name": "OutputModel",
          "model_module_version": "1.0.0",
          "state": {
            "_view_name": "OutputView",
            "msg_id": "",
            "_dom_classes": [],
            "_model_name": "OutputModel",
            "outputs": [],
            "_view_module": "@jupyter-widgets/output",
            "_model_module_version": "1.0.0",
            "_view_count": null,
            "_view_module_version": "1.0.0",
            "layout": "IPY_MODEL_a0318e8167d844f28c11b093fa8f4725",
            "_model_module": "@jupyter-widgets/output"
          }
        },
        "41921098c2fe4dd196cf05d7fd270f05": {
          "model_module": "@jupyter-widgets/controls",
          "model_name": "SliderStyleModel",
          "model_module_version": "1.5.0",
          "state": {
            "_view_name": "StyleView",
            "handle_color": null,
            "_model_name": "SliderStyleModel",
            "description_width": "",
            "_view_module": "@jupyter-widgets/base",
            "_model_module_version": "1.5.0",
            "_view_count": null,
            "_view_module_version": "1.2.0",
            "_model_module": "@jupyter-widgets/controls"
          }
        },
        "dc7b920ca8ff4ca18d2ad3204d9b4f1a": {
          "model_module": "@jupyter-widgets/base",
          "model_name": "LayoutModel",
          "model_module_version": "1.2.0",
          "state": {
            "_view_name": "LayoutView",
            "grid_template_rows": null,
            "right": null,
            "justify_content": null,
            "_view_module": "@jupyter-widgets/base",
            "overflow": null,
            "_model_module_version": "1.2.0",
            "_view_count": null,
            "flex_flow": null,
            "width": null,
            "min_width": null,
            "border": null,
            "align_items": null,
            "bottom": null,
            "_model_module": "@jupyter-widgets/base",
            "top": null,
            "grid_column": null,
            "overflow_y": null,
            "overflow_x": null,
            "grid_auto_flow": null,
            "grid_area": null,
            "grid_template_columns": null,
            "flex": null,
            "_model_name": "LayoutModel",
            "justify_items": null,
            "grid_row": null,
            "max_height": null,
            "align_content": null,
            "visibility": null,
            "align_self": null,
            "height": null,
            "min_height": null,
            "padding": null,
            "grid_auto_rows": null,
            "grid_gap": null,
            "max_width": null,
            "order": null,
            "_view_module_version": "1.2.0",
            "grid_template_areas": null,
            "object_position": null,
            "object_fit": null,
            "grid_auto_columns": null,
            "margin": null,
            "display": null,
            "left": null
          }
        },
        "dab445aac99a4fbbb34693a6fe1dadef": {
          "model_module": "@jupyter-widgets/controls",
          "model_name": "SliderStyleModel",
          "model_module_version": "1.5.0",
          "state": {
            "_view_name": "StyleView",
            "handle_color": null,
            "_model_name": "SliderStyleModel",
            "description_width": "",
            "_view_module": "@jupyter-widgets/base",
            "_model_module_version": "1.5.0",
            "_view_count": null,
            "_view_module_version": "1.2.0",
            "_model_module": "@jupyter-widgets/controls"
          }
        },
        "779dad85f2f44fdf8da3efa13739f4e7": {
          "model_module": "@jupyter-widgets/base",
          "model_name": "LayoutModel",
          "model_module_version": "1.2.0",
          "state": {
            "_view_name": "LayoutView",
            "grid_template_rows": null,
            "right": null,
            "justify_content": null,
            "_view_module": "@jupyter-widgets/base",
            "overflow": null,
            "_model_module_version": "1.2.0",
            "_view_count": null,
            "flex_flow": null,
            "width": null,
            "min_width": null,
            "border": null,
            "align_items": null,
            "bottom": null,
            "_model_module": "@jupyter-widgets/base",
            "top": null,
            "grid_column": null,
            "overflow_y": null,
            "overflow_x": null,
            "grid_auto_flow": null,
            "grid_area": null,
            "grid_template_columns": null,
            "flex": null,
            "_model_name": "LayoutModel",
            "justify_items": null,
            "grid_row": null,
            "max_height": null,
            "align_content": null,
            "visibility": null,
            "align_self": null,
            "height": null,
            "min_height": null,
            "padding": null,
            "grid_auto_rows": null,
            "grid_gap": null,
            "max_width": null,
            "order": null,
            "_view_module_version": "1.2.0",
            "grid_template_areas": null,
            "object_position": null,
            "object_fit": null,
            "grid_auto_columns": null,
            "margin": null,
            "display": null,
            "left": null
          }
        },
        "58f10d0fb6fc441095c85dce7e849b92": {
          "model_module": "@jupyter-widgets/controls",
          "model_name": "ButtonStyleModel",
          "model_module_version": "1.5.0",
          "state": {
            "_view_name": "StyleView",
            "_model_name": "ButtonStyleModel",
            "_view_module": "@jupyter-widgets/base",
            "_model_module_version": "1.5.0",
            "_view_count": null,
            "button_color": null,
            "font_weight": "",
            "_view_module_version": "1.2.0",
            "_model_module": "@jupyter-widgets/controls"
          }
        },
        "e7b74e4488ec42b2a58ed82e42bf0e8f": {
          "model_module": "@jupyter-widgets/base",
          "model_name": "LayoutModel",
          "model_module_version": "1.2.0",
          "state": {
            "_view_name": "LayoutView",
            "grid_template_rows": null,
            "right": null,
            "justify_content": null,
            "_view_module": "@jupyter-widgets/base",
            "overflow": null,
            "_model_module_version": "1.2.0",
            "_view_count": null,
            "flex_flow": null,
            "width": null,
            "min_width": null,
            "border": null,
            "align_items": null,
            "bottom": null,
            "_model_module": "@jupyter-widgets/base",
            "top": null,
            "grid_column": null,
            "overflow_y": null,
            "overflow_x": null,
            "grid_auto_flow": null,
            "grid_area": null,
            "grid_template_columns": null,
            "flex": null,
            "_model_name": "LayoutModel",
            "justify_items": null,
            "grid_row": null,
            "max_height": null,
            "align_content": null,
            "visibility": null,
            "align_self": null,
            "height": null,
            "min_height": null,
            "padding": null,
            "grid_auto_rows": null,
            "grid_gap": null,
            "max_width": null,
            "order": null,
            "_view_module_version": "1.2.0",
            "grid_template_areas": null,
            "object_position": null,
            "object_fit": null,
            "grid_auto_columns": null,
            "margin": null,
            "display": null,
            "left": null
          }
        },
        "a0318e8167d844f28c11b093fa8f4725": {
          "model_module": "@jupyter-widgets/base",
          "model_name": "LayoutModel",
          "model_module_version": "1.2.0",
          "state": {
            "_view_name": "LayoutView",
            "grid_template_rows": null,
            "right": null,
            "justify_content": null,
            "_view_module": "@jupyter-widgets/base",
            "overflow": null,
            "_model_module_version": "1.2.0",
            "_view_count": null,
            "flex_flow": null,
            "width": null,
            "min_width": null,
            "border": null,
            "align_items": null,
            "bottom": null,
            "_model_module": "@jupyter-widgets/base",
            "top": null,
            "grid_column": null,
            "overflow_y": null,
            "overflow_x": null,
            "grid_auto_flow": null,
            "grid_area": null,
            "grid_template_columns": null,
            "flex": null,
            "_model_name": "LayoutModel",
            "justify_items": null,
            "grid_row": null,
            "max_height": null,
            "align_content": null,
            "visibility": null,
            "align_self": null,
            "height": null,
            "min_height": null,
            "padding": null,
            "grid_auto_rows": null,
            "grid_gap": null,
            "max_width": null,
            "order": null,
            "_view_module_version": "1.2.0",
            "grid_template_areas": null,
            "object_position": null,
            "object_fit": null,
            "grid_auto_columns": null,
            "margin": null,
            "display": null,
            "left": null
          }
        },
        "9f194c75ac21431881610b9536699174": {
          "model_module": "@jupyter-widgets/controls",
          "model_name": "VBoxModel",
          "model_module_version": "1.5.0",
          "state": {
            "_view_name": "VBoxView",
            "_dom_classes": [
              "widget-interact"
            ],
            "_model_name": "VBoxModel",
            "_view_module": "@jupyter-widgets/controls",
            "_model_module_version": "1.5.0",
            "_view_count": null,
            "_view_module_version": "1.5.0",
            "box_style": "",
            "layout": "IPY_MODEL_4a19d77fd0da4868b7306b1a8f6f8b0f",
            "_model_module": "@jupyter-widgets/controls",
            "children": [
              "IPY_MODEL_3639e1bb0a8b4c3a823a34dee996c212",
              "IPY_MODEL_67be52e89a9e4382bc3dfc0670fd5064",
              "IPY_MODEL_a58f4b4410fd4543b2ee831034b99f66",
              "IPY_MODEL_ee315db5cc8a4fbbadc6b23bc275fc38"
            ]
          }
        },
        "4a19d77fd0da4868b7306b1a8f6f8b0f": {
          "model_module": "@jupyter-widgets/base",
          "model_name": "LayoutModel",
          "model_module_version": "1.2.0",
          "state": {
            "_view_name": "LayoutView",
            "grid_template_rows": null,
            "right": null,
            "justify_content": null,
            "_view_module": "@jupyter-widgets/base",
            "overflow": null,
            "_model_module_version": "1.2.0",
            "_view_count": null,
            "flex_flow": null,
            "width": null,
            "min_width": null,
            "border": null,
            "align_items": null,
            "bottom": null,
            "_model_module": "@jupyter-widgets/base",
            "top": null,
            "grid_column": null,
            "overflow_y": null,
            "overflow_x": null,
            "grid_auto_flow": null,
            "grid_area": null,
            "grid_template_columns": null,
            "flex": null,
            "_model_name": "LayoutModel",
            "justify_items": null,
            "grid_row": null,
            "max_height": null,
            "align_content": null,
            "visibility": null,
            "align_self": null,
            "height": null,
            "min_height": null,
            "padding": null,
            "grid_auto_rows": null,
            "grid_gap": null,
            "max_width": null,
            "order": null,
            "_view_module_version": "1.2.0",
            "grid_template_areas": null,
            "object_position": null,
            "object_fit": null,
            "grid_auto_columns": null,
            "margin": null,
            "display": null,
            "left": null
          }
        },
        "3639e1bb0a8b4c3a823a34dee996c212": {
          "model_module": "@jupyter-widgets/controls",
          "model_name": "IntSliderModel",
          "model_module_version": "1.5.0",
          "state": {
            "_view_name": "IntSliderView",
            "style": "IPY_MODEL_7533932590604b6a98628b2db3c45e8b",
            "_dom_classes": [],
            "description": "bianche",
            "step": 1,
            "_model_name": "IntSliderModel",
            "orientation": "horizontal",
            "max": 5,
            "_view_module": "@jupyter-widgets/controls",
            "_model_module_version": "1.5.0",
            "value": 2,
            "_view_count": null,
            "disabled": false,
            "_view_module_version": "1.5.0",
            "min": 1,
            "continuous_update": true,
            "readout_format": "d",
            "description_tooltip": null,
            "readout": true,
            "_model_module": "@jupyter-widgets/controls",
            "layout": "IPY_MODEL_f765cea56b1d4b2bbabc65c6f048e682"
          }
        },
        "67be52e89a9e4382bc3dfc0670fd5064": {
          "model_module": "@jupyter-widgets/controls",
          "model_name": "IntSliderModel",
          "model_module_version": "1.5.0",
          "state": {
            "_view_name": "IntSliderView",
            "style": "IPY_MODEL_52840325a5d448d784421ededbfcffb7",
            "_dom_classes": [],
            "description": "rosse",
            "step": 1,
            "_model_name": "IntSliderModel",
            "orientation": "horizontal",
            "max": 5,
            "_view_module": "@jupyter-widgets/controls",
            "_model_module_version": "1.5.0",
            "value": 3,
            "_view_count": null,
            "disabled": false,
            "_view_module_version": "1.5.0",
            "min": 1,
            "continuous_update": true,
            "readout_format": "d",
            "description_tooltip": null,
            "readout": true,
            "_model_module": "@jupyter-widgets/controls",
            "layout": "IPY_MODEL_a8bd170b425044cbb538ab9c5fc4106b"
          }
        },
        "a58f4b4410fd4543b2ee831034b99f66": {
          "model_module": "@jupyter-widgets/controls",
          "model_name": "ButtonModel",
          "model_module_version": "1.5.0",
          "state": {
            "_view_name": "ButtonView",
            "style": "IPY_MODEL_d24f858aa53f4013b184fbedbf65553e",
            "_dom_classes": [],
            "description": "Run Interact",
            "_model_name": "ButtonModel",
            "button_style": "",
            "_view_module": "@jupyter-widgets/controls",
            "_model_module_version": "1.5.0",
            "tooltip": "",
            "_view_count": null,
            "disabled": false,
            "_view_module_version": "1.5.0",
            "layout": "IPY_MODEL_f2fa5a0ad1454408bde05a6a01e35ffe",
            "_model_module": "@jupyter-widgets/controls",
            "icon": ""
          }
        },
        "ee315db5cc8a4fbbadc6b23bc275fc38": {
          "model_module": "@jupyter-widgets/output",
          "model_name": "OutputModel",
          "model_module_version": "1.0.0",
          "state": {
            "_view_name": "OutputView",
            "msg_id": "",
            "_dom_classes": [],
            "_model_name": "OutputModel",
            "outputs": [],
            "_view_module": "@jupyter-widgets/output",
            "_model_module_version": "1.0.0",
            "_view_count": null,
            "_view_module_version": "1.0.0",
            "layout": "IPY_MODEL_2dedeb4a68994ea1aa902a667f934793",
            "_model_module": "@jupyter-widgets/output"
          }
        },
        "7533932590604b6a98628b2db3c45e8b": {
          "model_module": "@jupyter-widgets/controls",
          "model_name": "SliderStyleModel",
          "model_module_version": "1.5.0",
          "state": {
            "_view_name": "StyleView",
            "handle_color": null,
            "_model_name": "SliderStyleModel",
            "description_width": "",
            "_view_module": "@jupyter-widgets/base",
            "_model_module_version": "1.5.0",
            "_view_count": null,
            "_view_module_version": "1.2.0",
            "_model_module": "@jupyter-widgets/controls"
          }
        },
        "f765cea56b1d4b2bbabc65c6f048e682": {
          "model_module": "@jupyter-widgets/base",
          "model_name": "LayoutModel",
          "model_module_version": "1.2.0",
          "state": {
            "_view_name": "LayoutView",
            "grid_template_rows": null,
            "right": null,
            "justify_content": null,
            "_view_module": "@jupyter-widgets/base",
            "overflow": null,
            "_model_module_version": "1.2.0",
            "_view_count": null,
            "flex_flow": null,
            "width": null,
            "min_width": null,
            "border": null,
            "align_items": null,
            "bottom": null,
            "_model_module": "@jupyter-widgets/base",
            "top": null,
            "grid_column": null,
            "overflow_y": null,
            "overflow_x": null,
            "grid_auto_flow": null,
            "grid_area": null,
            "grid_template_columns": null,
            "flex": null,
            "_model_name": "LayoutModel",
            "justify_items": null,
            "grid_row": null,
            "max_height": null,
            "align_content": null,
            "visibility": null,
            "align_self": null,
            "height": null,
            "min_height": null,
            "padding": null,
            "grid_auto_rows": null,
            "grid_gap": null,
            "max_width": null,
            "order": null,
            "_view_module_version": "1.2.0",
            "grid_template_areas": null,
            "object_position": null,
            "object_fit": null,
            "grid_auto_columns": null,
            "margin": null,
            "display": null,
            "left": null
          }
        },
        "52840325a5d448d784421ededbfcffb7": {
          "model_module": "@jupyter-widgets/controls",
          "model_name": "SliderStyleModel",
          "model_module_version": "1.5.0",
          "state": {
            "_view_name": "StyleView",
            "handle_color": null,
            "_model_name": "SliderStyleModel",
            "description_width": "",
            "_view_module": "@jupyter-widgets/base",
            "_model_module_version": "1.5.0",
            "_view_count": null,
            "_view_module_version": "1.2.0",
            "_model_module": "@jupyter-widgets/controls"
          }
        },
        "a8bd170b425044cbb538ab9c5fc4106b": {
          "model_module": "@jupyter-widgets/base",
          "model_name": "LayoutModel",
          "model_module_version": "1.2.0",
          "state": {
            "_view_name": "LayoutView",
            "grid_template_rows": null,
            "right": null,
            "justify_content": null,
            "_view_module": "@jupyter-widgets/base",
            "overflow": null,
            "_model_module_version": "1.2.0",
            "_view_count": null,
            "flex_flow": null,
            "width": null,
            "min_width": null,
            "border": null,
            "align_items": null,
            "bottom": null,
            "_model_module": "@jupyter-widgets/base",
            "top": null,
            "grid_column": null,
            "overflow_y": null,
            "overflow_x": null,
            "grid_auto_flow": null,
            "grid_area": null,
            "grid_template_columns": null,
            "flex": null,
            "_model_name": "LayoutModel",
            "justify_items": null,
            "grid_row": null,
            "max_height": null,
            "align_content": null,
            "visibility": null,
            "align_self": null,
            "height": null,
            "min_height": null,
            "padding": null,
            "grid_auto_rows": null,
            "grid_gap": null,
            "max_width": null,
            "order": null,
            "_view_module_version": "1.2.0",
            "grid_template_areas": null,
            "object_position": null,
            "object_fit": null,
            "grid_auto_columns": null,
            "margin": null,
            "display": null,
            "left": null
          }
        },
        "d24f858aa53f4013b184fbedbf65553e": {
          "model_module": "@jupyter-widgets/controls",
          "model_name": "ButtonStyleModel",
          "model_module_version": "1.5.0",
          "state": {
            "_view_name": "StyleView",
            "_model_name": "ButtonStyleModel",
            "_view_module": "@jupyter-widgets/base",
            "_model_module_version": "1.5.0",
            "_view_count": null,
            "button_color": null,
            "font_weight": "",
            "_view_module_version": "1.2.0",
            "_model_module": "@jupyter-widgets/controls"
          }
        },
        "f2fa5a0ad1454408bde05a6a01e35ffe": {
          "model_module": "@jupyter-widgets/base",
          "model_name": "LayoutModel",
          "model_module_version": "1.2.0",
          "state": {
            "_view_name": "LayoutView",
            "grid_template_rows": null,
            "right": null,
            "justify_content": null,
            "_view_module": "@jupyter-widgets/base",
            "overflow": null,
            "_model_module_version": "1.2.0",
            "_view_count": null,
            "flex_flow": null,
            "width": null,
            "min_width": null,
            "border": null,
            "align_items": null,
            "bottom": null,
            "_model_module": "@jupyter-widgets/base",
            "top": null,
            "grid_column": null,
            "overflow_y": null,
            "overflow_x": null,
            "grid_auto_flow": null,
            "grid_area": null,
            "grid_template_columns": null,
            "flex": null,
            "_model_name": "LayoutModel",
            "justify_items": null,
            "grid_row": null,
            "max_height": null,
            "align_content": null,
            "visibility": null,
            "align_self": null,
            "height": null,
            "min_height": null,
            "padding": null,
            "grid_auto_rows": null,
            "grid_gap": null,
            "max_width": null,
            "order": null,
            "_view_module_version": "1.2.0",
            "grid_template_areas": null,
            "object_position": null,
            "object_fit": null,
            "grid_auto_columns": null,
            "margin": null,
            "display": null,
            "left": null
          }
        },
        "2dedeb4a68994ea1aa902a667f934793": {
          "model_module": "@jupyter-widgets/base",
          "model_name": "LayoutModel",
          "model_module_version": "1.2.0",
          "state": {
            "_view_name": "LayoutView",
            "grid_template_rows": null,
            "right": null,
            "justify_content": null,
            "_view_module": "@jupyter-widgets/base",
            "overflow": null,
            "_model_module_version": "1.2.0",
            "_view_count": null,
            "flex_flow": null,
            "width": null,
            "min_width": null,
            "border": null,
            "align_items": null,
            "bottom": null,
            "_model_module": "@jupyter-widgets/base",
            "top": null,
            "grid_column": null,
            "overflow_y": null,
            "overflow_x": null,
            "grid_auto_flow": null,
            "grid_area": null,
            "grid_template_columns": null,
            "flex": null,
            "_model_name": "LayoutModel",
            "justify_items": null,
            "grid_row": null,
            "max_height": null,
            "align_content": null,
            "visibility": null,
            "align_self": null,
            "height": null,
            "min_height": null,
            "padding": null,
            "grid_auto_rows": null,
            "grid_gap": null,
            "max_width": null,
            "order": null,
            "_view_module_version": "1.2.0",
            "grid_template_areas": null,
            "object_position": null,
            "object_fit": null,
            "grid_auto_columns": null,
            "margin": null,
            "display": null,
            "left": null
          }
        },
        "49083a9a29264094899f2cf36db3e26e": {
          "model_module": "@jupyter-widgets/controls",
          "model_name": "VBoxModel",
          "model_module_version": "1.5.0",
          "state": {
            "_view_name": "VBoxView",
            "_dom_classes": [
              "widget-interact"
            ],
            "_model_name": "VBoxModel",
            "_view_module": "@jupyter-widgets/controls",
            "_model_module_version": "1.5.0",
            "_view_count": null,
            "_view_module_version": "1.5.0",
            "box_style": "",
            "layout": "IPY_MODEL_287d1560fc7646f7b796a2eb87723b18",
            "_model_module": "@jupyter-widgets/controls",
            "children": [
              "IPY_MODEL_c9392fbec6ae46ed995ddca627d756c5",
              "IPY_MODEL_63e1ec08449e40358ec1ecdce6377db8",
              "IPY_MODEL_659208e71a5b420a904d8904e11e187e",
              "IPY_MODEL_b7e2b31954c54d43a1cf6bf9408c7a81"
            ]
          }
        },
        "287d1560fc7646f7b796a2eb87723b18": {
          "model_module": "@jupyter-widgets/base",
          "model_name": "LayoutModel",
          "model_module_version": "1.2.0",
          "state": {
            "_view_name": "LayoutView",
            "grid_template_rows": null,
            "right": null,
            "justify_content": null,
            "_view_module": "@jupyter-widgets/base",
            "overflow": null,
            "_model_module_version": "1.2.0",
            "_view_count": null,
            "flex_flow": null,
            "width": null,
            "min_width": null,
            "border": null,
            "align_items": null,
            "bottom": null,
            "_model_module": "@jupyter-widgets/base",
            "top": null,
            "grid_column": null,
            "overflow_y": null,
            "overflow_x": null,
            "grid_auto_flow": null,
            "grid_area": null,
            "grid_template_columns": null,
            "flex": null,
            "_model_name": "LayoutModel",
            "justify_items": null,
            "grid_row": null,
            "max_height": null,
            "align_content": null,
            "visibility": null,
            "align_self": null,
            "height": null,
            "min_height": null,
            "padding": null,
            "grid_auto_rows": null,
            "grid_gap": null,
            "max_width": null,
            "order": null,
            "_view_module_version": "1.2.0",
            "grid_template_areas": null,
            "object_position": null,
            "object_fit": null,
            "grid_auto_columns": null,
            "margin": null,
            "display": null,
            "left": null
          }
        },
        "c9392fbec6ae46ed995ddca627d756c5": {
          "model_module": "@jupyter-widgets/controls",
          "model_name": "IntSliderModel",
          "model_module_version": "1.5.0",
          "state": {
            "_view_name": "IntSliderView",
            "style": "IPY_MODEL_e05218ba37a544a7a77cb574bd6b3174",
            "_dom_classes": [],
            "description": "a",
            "step": 1,
            "_model_name": "IntSliderModel",
            "orientation": "horizontal",
            "max": 5,
            "_view_module": "@jupyter-widgets/controls",
            "_model_module_version": "1.5.0",
            "value": 3,
            "_view_count": null,
            "disabled": false,
            "_view_module_version": "1.5.0",
            "min": 0,
            "continuous_update": true,
            "readout_format": "d",
            "description_tooltip": null,
            "readout": true,
            "_model_module": "@jupyter-widgets/controls",
            "layout": "IPY_MODEL_0f67dbdade58456db2815633a3037358"
          }
        },
        "63e1ec08449e40358ec1ecdce6377db8": {
          "model_module": "@jupyter-widgets/controls",
          "model_name": "IntSliderModel",
          "model_module_version": "1.5.0",
          "state": {
            "_view_name": "IntSliderView",
            "style": "IPY_MODEL_2a592b1322bc43aab412aa6d2d5de392",
            "_dom_classes": [],
            "description": "b",
            "step": 1,
            "_model_name": "IntSliderModel",
            "orientation": "horizontal",
            "max": 20,
            "_view_module": "@jupyter-widgets/controls",
            "_model_module_version": "1.5.0",
            "value": 15,
            "_view_count": null,
            "disabled": false,
            "_view_module_version": "1.5.0",
            "min": 5,
            "continuous_update": true,
            "readout_format": "d",
            "description_tooltip": null,
            "readout": true,
            "_model_module": "@jupyter-widgets/controls",
            "layout": "IPY_MODEL_067ea1440c8b4439bbbf062ee299a119"
          }
        },
        "659208e71a5b420a904d8904e11e187e": {
          "model_module": "@jupyter-widgets/controls",
          "model_name": "ButtonModel",
          "model_module_version": "1.5.0",
          "state": {
            "_view_name": "ButtonView",
            "style": "IPY_MODEL_e4701aeb097947aaae334e6a45d83894",
            "_dom_classes": [],
            "description": "Run Interact",
            "_model_name": "ButtonModel",
            "button_style": "",
            "_view_module": "@jupyter-widgets/controls",
            "_model_module_version": "1.5.0",
            "tooltip": "",
            "_view_count": null,
            "disabled": false,
            "_view_module_version": "1.5.0",
            "layout": "IPY_MODEL_ac8692ce8e2c48438c68a19697f02ab8",
            "_model_module": "@jupyter-widgets/controls",
            "icon": ""
          }
        },
        "b7e2b31954c54d43a1cf6bf9408c7a81": {
          "model_module": "@jupyter-widgets/output",
          "model_name": "OutputModel",
          "model_module_version": "1.0.0",
          "state": {
            "_view_name": "OutputView",
            "msg_id": "",
            "_dom_classes": [],
            "_model_name": "OutputModel",
            "outputs": [
              {
                "output_type": "display_data",
                "data": {
                  "image/png": "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\n",
                  "text/plain": "<Figure size 432x288 with 1 Axes>"
                },
                "metadata": {
                  "needs_background": "light"
                }
              },
              {
                "output_type": "display_data",
                "data": {
                  "text/plain": "<Figure size 432x288 with 0 Axes>"
                },
                "metadata": {}
              },
              {
                "output_type": "display_data",
                "data": {
                  "image/png": "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\n",
                  "text/plain": "<Figure size 360x360 with 1 Axes>"
                },
                "metadata": {
                  "needs_background": "light"
                }
              }
            ],
            "_view_module": "@jupyter-widgets/output",
            "_model_module_version": "1.0.0",
            "_view_count": null,
            "_view_module_version": "1.0.0",
            "layout": "IPY_MODEL_5ca679b0581c445e995b1f452ec89e33",
            "_model_module": "@jupyter-widgets/output"
          }
        },
        "e05218ba37a544a7a77cb574bd6b3174": {
          "model_module": "@jupyter-widgets/controls",
          "model_name": "SliderStyleModel",
          "model_module_version": "1.5.0",
          "state": {
            "_view_name": "StyleView",
            "handle_color": null,
            "_model_name": "SliderStyleModel",
            "description_width": "",
            "_view_module": "@jupyter-widgets/base",
            "_model_module_version": "1.5.0",
            "_view_count": null,
            "_view_module_version": "1.2.0",
            "_model_module": "@jupyter-widgets/controls"
          }
        },
        "0f67dbdade58456db2815633a3037358": {
          "model_module": "@jupyter-widgets/base",
          "model_name": "LayoutModel",
          "model_module_version": "1.2.0",
          "state": {
            "_view_name": "LayoutView",
            "grid_template_rows": null,
            "right": null,
            "justify_content": null,
            "_view_module": "@jupyter-widgets/base",
            "overflow": null,
            "_model_module_version": "1.2.0",
            "_view_count": null,
            "flex_flow": null,
            "width": null,
            "min_width": null,
            "border": null,
            "align_items": null,
            "bottom": null,
            "_model_module": "@jupyter-widgets/base",
            "top": null,
            "grid_column": null,
            "overflow_y": null,
            "overflow_x": null,
            "grid_auto_flow": null,
            "grid_area": null,
            "grid_template_columns": null,
            "flex": null,
            "_model_name": "LayoutModel",
            "justify_items": null,
            "grid_row": null,
            "max_height": null,
            "align_content": null,
            "visibility": null,
            "align_self": null,
            "height": null,
            "min_height": null,
            "padding": null,
            "grid_auto_rows": null,
            "grid_gap": null,
            "max_width": null,
            "order": null,
            "_view_module_version": "1.2.0",
            "grid_template_areas": null,
            "object_position": null,
            "object_fit": null,
            "grid_auto_columns": null,
            "margin": null,
            "display": null,
            "left": null
          }
        },
        "2a592b1322bc43aab412aa6d2d5de392": {
          "model_module": "@jupyter-widgets/controls",
          "model_name": "SliderStyleModel",
          "model_module_version": "1.5.0",
          "state": {
            "_view_name": "StyleView",
            "handle_color": null,
            "_model_name": "SliderStyleModel",
            "description_width": "",
            "_view_module": "@jupyter-widgets/base",
            "_model_module_version": "1.5.0",
            "_view_count": null,
            "_view_module_version": "1.2.0",
            "_model_module": "@jupyter-widgets/controls"
          }
        },
        "067ea1440c8b4439bbbf062ee299a119": {
          "model_module": "@jupyter-widgets/base",
          "model_name": "LayoutModel",
          "model_module_version": "1.2.0",
          "state": {
            "_view_name": "LayoutView",
            "grid_template_rows": null,
            "right": null,
            "justify_content": null,
            "_view_module": "@jupyter-widgets/base",
            "overflow": null,
            "_model_module_version": "1.2.0",
            "_view_count": null,
            "flex_flow": null,
            "width": null,
            "min_width": null,
            "border": null,
            "align_items": null,
            "bottom": null,
            "_model_module": "@jupyter-widgets/base",
            "top": null,
            "grid_column": null,
            "overflow_y": null,
            "overflow_x": null,
            "grid_auto_flow": null,
            "grid_area": null,
            "grid_template_columns": null,
            "flex": null,
            "_model_name": "LayoutModel",
            "justify_items": null,
            "grid_row": null,
            "max_height": null,
            "align_content": null,
            "visibility": null,
            "align_self": null,
            "height": null,
            "min_height": null,
            "padding": null,
            "grid_auto_rows": null,
            "grid_gap": null,
            "max_width": null,
            "order": null,
            "_view_module_version": "1.2.0",
            "grid_template_areas": null,
            "object_position": null,
            "object_fit": null,
            "grid_auto_columns": null,
            "margin": null,
            "display": null,
            "left": null
          }
        },
        "e4701aeb097947aaae334e6a45d83894": {
          "model_module": "@jupyter-widgets/controls",
          "model_name": "ButtonStyleModel",
          "model_module_version": "1.5.0",
          "state": {
            "_view_name": "StyleView",
            "_model_name": "ButtonStyleModel",
            "_view_module": "@jupyter-widgets/base",
            "_model_module_version": "1.5.0",
            "_view_count": null,
            "button_color": null,
            "font_weight": "",
            "_view_module_version": "1.2.0",
            "_model_module": "@jupyter-widgets/controls"
          }
        },
        "ac8692ce8e2c48438c68a19697f02ab8": {
          "model_module": "@jupyter-widgets/base",
          "model_name": "LayoutModel",
          "model_module_version": "1.2.0",
          "state": {
            "_view_name": "LayoutView",
            "grid_template_rows": null,
            "right": null,
            "justify_content": null,
            "_view_module": "@jupyter-widgets/base",
            "overflow": null,
            "_model_module_version": "1.2.0",
            "_view_count": null,
            "flex_flow": null,
            "width": null,
            "min_width": null,
            "border": null,
            "align_items": null,
            "bottom": null,
            "_model_module": "@jupyter-widgets/base",
            "top": null,
            "grid_column": null,
            "overflow_y": null,
            "overflow_x": null,
            "grid_auto_flow": null,
            "grid_area": null,
            "grid_template_columns": null,
            "flex": null,
            "_model_name": "LayoutModel",
            "justify_items": null,
            "grid_row": null,
            "max_height": null,
            "align_content": null,
            "visibility": null,
            "align_self": null,
            "height": null,
            "min_height": null,
            "padding": null,
            "grid_auto_rows": null,
            "grid_gap": null,
            "max_width": null,
            "order": null,
            "_view_module_version": "1.2.0",
            "grid_template_areas": null,
            "object_position": null,
            "object_fit": null,
            "grid_auto_columns": null,
            "margin": null,
            "display": null,
            "left": null
          }
        },
        "5ca679b0581c445e995b1f452ec89e33": {
          "model_module": "@jupyter-widgets/base",
          "model_name": "LayoutModel",
          "model_module_version": "1.2.0",
          "state": {
            "_view_name": "LayoutView",
            "grid_template_rows": null,
            "right": null,
            "justify_content": null,
            "_view_module": "@jupyter-widgets/base",
            "overflow": null,
            "_model_module_version": "1.2.0",
            "_view_count": null,
            "flex_flow": null,
            "width": null,
            "min_width": null,
            "border": null,
            "align_items": null,
            "bottom": null,
            "_model_module": "@jupyter-widgets/base",
            "top": null,
            "grid_column": null,
            "overflow_y": null,
            "overflow_x": null,
            "grid_auto_flow": null,
            "grid_area": null,
            "grid_template_columns": null,
            "flex": null,
            "_model_name": "LayoutModel",
            "justify_items": null,
            "grid_row": null,
            "max_height": null,
            "align_content": null,
            "visibility": null,
            "align_self": null,
            "height": null,
            "min_height": null,
            "padding": null,
            "grid_auto_rows": null,
            "grid_gap": null,
            "max_width": null,
            "order": null,
            "_view_module_version": "1.2.0",
            "grid_template_areas": null,
            "object_position": null,
            "object_fit": null,
            "grid_auto_columns": null,
            "margin": null,
            "display": null,
            "left": null
          }
        },
        "d8cf1693281a4f8a8d1a504e56eae295": {
          "model_module": "@jupyter-widgets/controls",
          "model_name": "VBoxModel",
          "model_module_version": "1.5.0",
          "state": {
            "_view_name": "VBoxView",
            "_dom_classes": [
              "widget-interact"
            ],
            "_model_name": "VBoxModel",
            "_view_module": "@jupyter-widgets/controls",
            "_model_module_version": "1.5.0",
            "_view_count": null,
            "_view_module_version": "1.5.0",
            "box_style": "",
            "layout": "IPY_MODEL_571a770ee6724e23a986a7d14077df92",
            "_model_module": "@jupyter-widgets/controls",
            "children": [
              "IPY_MODEL_e5c17fb3964a4d048c1af3c522695676",
              "IPY_MODEL_a158023706674731af9449506d0dd606",
              "IPY_MODEL_760ccb8f48b6480fabd04beb1d0f011f"
            ]
          }
        },
        "571a770ee6724e23a986a7d14077df92": {
          "model_module": "@jupyter-widgets/base",
          "model_name": "LayoutModel",
          "model_module_version": "1.2.0",
          "state": {
            "_view_name": "LayoutView",
            "grid_template_rows": null,
            "right": null,
            "justify_content": null,
            "_view_module": "@jupyter-widgets/base",
            "overflow": null,
            "_model_module_version": "1.2.0",
            "_view_count": null,
            "flex_flow": null,
            "width": null,
            "min_width": null,
            "border": null,
            "align_items": null,
            "bottom": null,
            "_model_module": "@jupyter-widgets/base",
            "top": null,
            "grid_column": null,
            "overflow_y": null,
            "overflow_x": null,
            "grid_auto_flow": null,
            "grid_area": null,
            "grid_template_columns": null,
            "flex": null,
            "_model_name": "LayoutModel",
            "justify_items": null,
            "grid_row": null,
            "max_height": null,
            "align_content": null,
            "visibility": null,
            "align_self": null,
            "height": null,
            "min_height": null,
            "padding": null,
            "grid_auto_rows": null,
            "grid_gap": null,
            "max_width": null,
            "order": null,
            "_view_module_version": "1.2.0",
            "grid_template_areas": null,
            "object_position": null,
            "object_fit": null,
            "grid_auto_columns": null,
            "margin": null,
            "display": null,
            "left": null
          }
        },
        "e5c17fb3964a4d048c1af3c522695676": {
          "model_module": "@jupyter-widgets/controls",
          "model_name": "IntSliderModel",
          "model_module_version": "1.5.0",
          "state": {
            "_view_name": "IntSliderView",
            "style": "IPY_MODEL_b3de6d222b4a456e8cb06fd27a100dea",
            "_dom_classes": [],
            "description": "tempo",
            "step": 1,
            "_model_name": "IntSliderModel",
            "orientation": "horizontal",
            "max": 20,
            "_view_module": "@jupyter-widgets/controls",
            "_model_module_version": "1.5.0",
            "value": 10,
            "_view_count": null,
            "disabled": false,
            "_view_module_version": "1.5.0",
            "min": 1,
            "continuous_update": true,
            "readout_format": "d",
            "description_tooltip": null,
            "readout": true,
            "_model_module": "@jupyter-widgets/controls",
            "layout": "IPY_MODEL_6e1b138c51fb4f79b6e55611f156875d"
          }
        },
        "a158023706674731af9449506d0dd606": {
          "model_module": "@jupyter-widgets/controls",
          "model_name": "ButtonModel",
          "model_module_version": "1.5.0",
          "state": {
            "_view_name": "ButtonView",
            "style": "IPY_MODEL_63fdc42371394ee488e8135535f5ffcc",
            "_dom_classes": [],
            "description": "Run Interact",
            "_model_name": "ButtonModel",
            "button_style": "",
            "_view_module": "@jupyter-widgets/controls",
            "_model_module_version": "1.5.0",
            "tooltip": "",
            "_view_count": null,
            "disabled": false,
            "_view_module_version": "1.5.0",
            "layout": "IPY_MODEL_e1a3a6bcb1fb431e933f1d7b3d8f20d9",
            "_model_module": "@jupyter-widgets/controls",
            "icon": ""
          }
        },
        "760ccb8f48b6480fabd04beb1d0f011f": {
          "model_module": "@jupyter-widgets/output",
          "model_name": "OutputModel",
          "model_module_version": "1.0.0",
          "state": {
            "_view_name": "OutputView",
            "msg_id": "",
            "_dom_classes": [],
            "_model_name": "OutputModel",
            "outputs": [
              {
                "output_type": "display_data",
                "data": {
                  "text/plain": "5.0"
                },
                "metadata": {}
              }
            ],
            "_view_module": "@jupyter-widgets/output",
            "_model_module_version": "1.0.0",
            "_view_count": null,
            "_view_module_version": "1.0.0",
            "layout": "IPY_MODEL_7e9ce6eff83b4ee18f4da808b79a4ce5",
            "_model_module": "@jupyter-widgets/output"
          }
        },
        "b3de6d222b4a456e8cb06fd27a100dea": {
          "model_module": "@jupyter-widgets/controls",
          "model_name": "SliderStyleModel",
          "model_module_version": "1.5.0",
          "state": {
            "_view_name": "StyleView",
            "handle_color": null,
            "_model_name": "SliderStyleModel",
            "description_width": "",
            "_view_module": "@jupyter-widgets/base",
            "_model_module_version": "1.5.0",
            "_view_count": null,
            "_view_module_version": "1.2.0",
            "_model_module": "@jupyter-widgets/controls"
          }
        },
        "6e1b138c51fb4f79b6e55611f156875d": {
          "model_module": "@jupyter-widgets/base",
          "model_name": "LayoutModel",
          "model_module_version": "1.2.0",
          "state": {
            "_view_name": "LayoutView",
            "grid_template_rows": null,
            "right": null,
            "justify_content": null,
            "_view_module": "@jupyter-widgets/base",
            "overflow": null,
            "_model_module_version": "1.2.0",
            "_view_count": null,
            "flex_flow": null,
            "width": null,
            "min_width": null,
            "border": null,
            "align_items": null,
            "bottom": null,
            "_model_module": "@jupyter-widgets/base",
            "top": null,
            "grid_column": null,
            "overflow_y": null,
            "overflow_x": null,
            "grid_auto_flow": null,
            "grid_area": null,
            "grid_template_columns": null,
            "flex": null,
            "_model_name": "LayoutModel",
            "justify_items": null,
            "grid_row": null,
            "max_height": null,
            "align_content": null,
            "visibility": null,
            "align_self": null,
            "height": null,
            "min_height": null,
            "padding": null,
            "grid_auto_rows": null,
            "grid_gap": null,
            "max_width": null,
            "order": null,
            "_view_module_version": "1.2.0",
            "grid_template_areas": null,
            "object_position": null,
            "object_fit": null,
            "grid_auto_columns": null,
            "margin": null,
            "display": null,
            "left": null
          }
        },
        "63fdc42371394ee488e8135535f5ffcc": {
          "model_module": "@jupyter-widgets/controls",
          "model_name": "ButtonStyleModel",
          "model_module_version": "1.5.0",
          "state": {
            "_view_name": "StyleView",
            "_model_name": "ButtonStyleModel",
            "_view_module": "@jupyter-widgets/base",
            "_model_module_version": "1.5.0",
            "_view_count": null,
            "button_color": null,
            "font_weight": "",
            "_view_module_version": "1.2.0",
            "_model_module": "@jupyter-widgets/controls"
          }
        },
        "e1a3a6bcb1fb431e933f1d7b3d8f20d9": {
          "model_module": "@jupyter-widgets/base",
          "model_name": "LayoutModel",
          "model_module_version": "1.2.0",
          "state": {
            "_view_name": "LayoutView",
            "grid_template_rows": null,
            "right": null,
            "justify_content": null,
            "_view_module": "@jupyter-widgets/base",
            "overflow": null,
            "_model_module_version": "1.2.0",
            "_view_count": null,
            "flex_flow": null,
            "width": null,
            "min_width": null,
            "border": null,
            "align_items": null,
            "bottom": null,
            "_model_module": "@jupyter-widgets/base",
            "top": null,
            "grid_column": null,
            "overflow_y": null,
            "overflow_x": null,
            "grid_auto_flow": null,
            "grid_area": null,
            "grid_template_columns": null,
            "flex": null,
            "_model_name": "LayoutModel",
            "justify_items": null,
            "grid_row": null,
            "max_height": null,
            "align_content": null,
            "visibility": null,
            "align_self": null,
            "height": null,
            "min_height": null,
            "padding": null,
            "grid_auto_rows": null,
            "grid_gap": null,
            "max_width": null,
            "order": null,
            "_view_module_version": "1.2.0",
            "grid_template_areas": null,
            "object_position": null,
            "object_fit": null,
            "grid_auto_columns": null,
            "margin": null,
            "display": null,
            "left": null
          }
        },
        "7e9ce6eff83b4ee18f4da808b79a4ce5": {
          "model_module": "@jupyter-widgets/base",
          "model_name": "LayoutModel",
          "model_module_version": "1.2.0",
          "state": {
            "_view_name": "LayoutView",
            "grid_template_rows": null,
            "right": null,
            "justify_content": null,
            "_view_module": "@jupyter-widgets/base",
            "overflow": null,
            "_model_module_version": "1.2.0",
            "_view_count": null,
            "flex_flow": null,
            "width": null,
            "min_width": null,
            "border": null,
            "align_items": null,
            "bottom": null,
            "_model_module": "@jupyter-widgets/base",
            "top": null,
            "grid_column": null,
            "overflow_y": null,
            "overflow_x": null,
            "grid_auto_flow": null,
            "grid_area": null,
            "grid_template_columns": null,
            "flex": null,
            "_model_name": "LayoutModel",
            "justify_items": null,
            "grid_row": null,
            "max_height": null,
            "align_content": null,
            "visibility": null,
            "align_self": null,
            "height": null,
            "min_height": null,
            "padding": null,
            "grid_auto_rows": null,
            "grid_gap": null,
            "max_width": null,
            "order": null,
            "_view_module_version": "1.2.0",
            "grid_template_areas": null,
            "object_position": null,
            "object_fit": null,
            "grid_auto_columns": null,
            "margin": null,
            "display": null,
            "left": null
          }
        },
        "a6e6bff357684a9dbbfb0868963bf48a": {
          "model_module": "@jupyter-widgets/controls",
          "model_name": "VBoxModel",
          "model_module_version": "1.5.0",
          "state": {
            "_view_name": "VBoxView",
            "_dom_classes": [
              "widget-interact"
            ],
            "_model_name": "VBoxModel",
            "_view_module": "@jupyter-widgets/controls",
            "_model_module_version": "1.5.0",
            "_view_count": null,
            "_view_module_version": "1.5.0",
            "box_style": "",
            "layout": "IPY_MODEL_f7f63172205b44d0b616670a0cbb73ea",
            "_model_module": "@jupyter-widgets/controls",
            "children": [
              "IPY_MODEL_f75501d9b7ae41e19c79dd41c31baac0",
              "IPY_MODEL_74b6665ead06494f8ac5cbdb3366fa00",
              "IPY_MODEL_fc2a27b464d44253a7ba437517930e02"
            ]
          }
        },
        "f7f63172205b44d0b616670a0cbb73ea": {
          "model_module": "@jupyter-widgets/base",
          "model_name": "LayoutModel",
          "model_module_version": "1.2.0",
          "state": {
            "_view_name": "LayoutView",
            "grid_template_rows": null,
            "right": null,
            "justify_content": null,
            "_view_module": "@jupyter-widgets/base",
            "overflow": null,
            "_model_module_version": "1.2.0",
            "_view_count": null,
            "flex_flow": null,
            "width": null,
            "min_width": null,
            "border": null,
            "align_items": null,
            "bottom": null,
            "_model_module": "@jupyter-widgets/base",
            "top": null,
            "grid_column": null,
            "overflow_y": null,
            "overflow_x": null,
            "grid_auto_flow": null,
            "grid_area": null,
            "grid_template_columns": null,
            "flex": null,
            "_model_name": "LayoutModel",
            "justify_items": null,
            "grid_row": null,
            "max_height": null,
            "align_content": null,
            "visibility": null,
            "align_self": null,
            "height": null,
            "min_height": null,
            "padding": null,
            "grid_auto_rows": null,
            "grid_gap": null,
            "max_width": null,
            "order": null,
            "_view_module_version": "1.2.0",
            "grid_template_areas": null,
            "object_position": null,
            "object_fit": null,
            "grid_auto_columns": null,
            "margin": null,
            "display": null,
            "left": null
          }
        },
        "f75501d9b7ae41e19c79dd41c31baac0": {
          "model_module": "@jupyter-widgets/controls",
          "model_name": "IntSliderModel",
          "model_module_version": "1.5.0",
          "state": {
            "_view_name": "IntSliderView",
            "style": "IPY_MODEL_847f68a9f63a48a9a4e648895de414d5",
            "_dom_classes": [],
            "description": "tempo",
            "step": 1,
            "_model_name": "IntSliderModel",
            "orientation": "horizontal",
            "max": 20,
            "_view_module": "@jupyter-widgets/controls",
            "_model_module_version": "1.5.0",
            "value": 10,
            "_view_count": null,
            "disabled": false,
            "_view_module_version": "1.5.0",
            "min": 1,
            "continuous_update": true,
            "readout_format": "d",
            "description_tooltip": null,
            "readout": true,
            "_model_module": "@jupyter-widgets/controls",
            "layout": "IPY_MODEL_f07bd8fe01f74e0e80a2d5ae430b8e66"
          }
        },
        "74b6665ead06494f8ac5cbdb3366fa00": {
          "model_module": "@jupyter-widgets/controls",
          "model_name": "ButtonModel",
          "model_module_version": "1.5.0",
          "state": {
            "_view_name": "ButtonView",
            "style": "IPY_MODEL_9b651c5bc6ee4bc3897454b5417bf074",
            "_dom_classes": [],
            "description": "Run Interact",
            "_model_name": "ButtonModel",
            "button_style": "",
            "_view_module": "@jupyter-widgets/controls",
            "_model_module_version": "1.5.0",
            "tooltip": "",
            "_view_count": null,
            "disabled": false,
            "_view_module_version": "1.5.0",
            "layout": "IPY_MODEL_cd6b91330a6f40f2bee80841e0f09ce5",
            "_model_module": "@jupyter-widgets/controls",
            "icon": ""
          }
        },
        "fc2a27b464d44253a7ba437517930e02": {
          "model_module": "@jupyter-widgets/output",
          "model_name": "OutputModel",
          "model_module_version": "1.0.0",
          "state": {
            "_view_name": "OutputView",
            "msg_id": "",
            "_dom_classes": [],
            "_model_name": "OutputModel",
            "outputs": [
              {
                "output_type": "display_data",
                "data": {
                  "image/png": "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\n",
                  "text/plain": "<Figure size 432x288 with 1 Axes>"
                },
                "metadata": {
                  "needs_background": "light"
                }
              }
            ],
            "_view_module": "@jupyter-widgets/output",
            "_model_module_version": "1.0.0",
            "_view_count": null,
            "_view_module_version": "1.0.0",
            "layout": "IPY_MODEL_fec22295aac34773a0de8867c9c02aa5",
            "_model_module": "@jupyter-widgets/output"
          }
        },
        "847f68a9f63a48a9a4e648895de414d5": {
          "model_module": "@jupyter-widgets/controls",
          "model_name": "SliderStyleModel",
          "model_module_version": "1.5.0",
          "state": {
            "_view_name": "StyleView",
            "handle_color": null,
            "_model_name": "SliderStyleModel",
            "description_width": "",
            "_view_module": "@jupyter-widgets/base",
            "_model_module_version": "1.5.0",
            "_view_count": null,
            "_view_module_version": "1.2.0",
            "_model_module": "@jupyter-widgets/controls"
          }
        },
        "f07bd8fe01f74e0e80a2d5ae430b8e66": {
          "model_module": "@jupyter-widgets/base",
          "model_name": "LayoutModel",
          "model_module_version": "1.2.0",
          "state": {
            "_view_name": "LayoutView",
            "grid_template_rows": null,
            "right": null,
            "justify_content": null,
            "_view_module": "@jupyter-widgets/base",
            "overflow": null,
            "_model_module_version": "1.2.0",
            "_view_count": null,
            "flex_flow": null,
            "width": null,
            "min_width": null,
            "border": null,
            "align_items": null,
            "bottom": null,
            "_model_module": "@jupyter-widgets/base",
            "top": null,
            "grid_column": null,
            "overflow_y": null,
            "overflow_x": null,
            "grid_auto_flow": null,
            "grid_area": null,
            "grid_template_columns": null,
            "flex": null,
            "_model_name": "LayoutModel",
            "justify_items": null,
            "grid_row": null,
            "max_height": null,
            "align_content": null,
            "visibility": null,
            "align_self": null,
            "height": null,
            "min_height": null,
            "padding": null,
            "grid_auto_rows": null,
            "grid_gap": null,
            "max_width": null,
            "order": null,
            "_view_module_version": "1.2.0",
            "grid_template_areas": null,
            "object_position": null,
            "object_fit": null,
            "grid_auto_columns": null,
            "margin": null,
            "display": null,
            "left": null
          }
        },
        "9b651c5bc6ee4bc3897454b5417bf074": {
          "model_module": "@jupyter-widgets/controls",
          "model_name": "ButtonStyleModel",
          "model_module_version": "1.5.0",
          "state": {
            "_view_name": "StyleView",
            "_model_name": "ButtonStyleModel",
            "_view_module": "@jupyter-widgets/base",
            "_model_module_version": "1.5.0",
            "_view_count": null,
            "button_color": null,
            "font_weight": "",
            "_view_module_version": "1.2.0",
            "_model_module": "@jupyter-widgets/controls"
          }
        },
        "cd6b91330a6f40f2bee80841e0f09ce5": {
          "model_module": "@jupyter-widgets/base",
          "model_name": "LayoutModel",
          "model_module_version": "1.2.0",
          "state": {
            "_view_name": "LayoutView",
            "grid_template_rows": null,
            "right": null,
            "justify_content": null,
            "_view_module": "@jupyter-widgets/base",
            "overflow": null,
            "_model_module_version": "1.2.0",
            "_view_count": null,
            "flex_flow": null,
            "width": null,
            "min_width": null,
            "border": null,
            "align_items": null,
            "bottom": null,
            "_model_module": "@jupyter-widgets/base",
            "top": null,
            "grid_column": null,
            "overflow_y": null,
            "overflow_x": null,
            "grid_auto_flow": null,
            "grid_area": null,
            "grid_template_columns": null,
            "flex": null,
            "_model_name": "LayoutModel",
            "justify_items": null,
            "grid_row": null,
            "max_height": null,
            "align_content": null,
            "visibility": null,
            "align_self": null,
            "height": null,
            "min_height": null,
            "padding": null,
            "grid_auto_rows": null,
            "grid_gap": null,
            "max_width": null,
            "order": null,
            "_view_module_version": "1.2.0",
            "grid_template_areas": null,
            "object_position": null,
            "object_fit": null,
            "grid_auto_columns": null,
            "margin": null,
            "display": null,
            "left": null
          }
        },
        "fec22295aac34773a0de8867c9c02aa5": {
          "model_module": "@jupyter-widgets/base",
          "model_name": "LayoutModel",
          "model_module_version": "1.2.0",
          "state": {
            "_view_name": "LayoutView",
            "grid_template_rows": null,
            "right": null,
            "justify_content": null,
            "_view_module": "@jupyter-widgets/base",
            "overflow": null,
            "_model_module_version": "1.2.0",
            "_view_count": null,
            "flex_flow": null,
            "width": null,
            "min_width": null,
            "border": null,
            "align_items": null,
            "bottom": null,
            "_model_module": "@jupyter-widgets/base",
            "top": null,
            "grid_column": null,
            "overflow_y": null,
            "overflow_x": null,
            "grid_auto_flow": null,
            "grid_area": null,
            "grid_template_columns": null,
            "flex": null,
            "_model_name": "LayoutModel",
            "justify_items": null,
            "grid_row": null,
            "max_height": null,
            "align_content": null,
            "visibility": null,
            "align_self": null,
            "height": null,
            "min_height": null,
            "padding": null,
            "grid_auto_rows": null,
            "grid_gap": null,
            "max_width": null,
            "order": null,
            "_view_module_version": "1.2.0",
            "grid_template_areas": null,
            "object_position": null,
            "object_fit": null,
            "grid_auto_columns": null,
            "margin": null,
            "display": null,
            "left": null
          }
        },
        "1f1deda3420941b7a34e31d43312cdab": {
          "model_module": "@jupyter-widgets/controls",
          "model_name": "VBoxModel",
          "model_module_version": "1.5.0",
          "state": {
            "_view_name": "VBoxView",
            "_dom_classes": [
              "widget-interact"
            ],
            "_model_name": "VBoxModel",
            "_view_module": "@jupyter-widgets/controls",
            "_model_module_version": "1.5.0",
            "_view_count": null,
            "_view_module_version": "1.5.0",
            "box_style": "",
            "layout": "IPY_MODEL_e01e3c5cdbd64ba0a16b6a996c2f0fc3",
            "_model_module": "@jupyter-widgets/controls",
            "children": [
              "IPY_MODEL_1c0b2a550a6e44c0812b846352f02269",
              "IPY_MODEL_ed129afde1e04afe9ee2cc767e8c3161",
              "IPY_MODEL_9027cf23a9d04e989e52d10ab751e040"
            ]
          }
        },
        "e01e3c5cdbd64ba0a16b6a996c2f0fc3": {
          "model_module": "@jupyter-widgets/base",
          "model_name": "LayoutModel",
          "model_module_version": "1.2.0",
          "state": {
            "_view_name": "LayoutView",
            "grid_template_rows": null,
            "right": null,
            "justify_content": null,
            "_view_module": "@jupyter-widgets/base",
            "overflow": null,
            "_model_module_version": "1.2.0",
            "_view_count": null,
            "flex_flow": null,
            "width": null,
            "min_width": null,
            "border": null,
            "align_items": null,
            "bottom": null,
            "_model_module": "@jupyter-widgets/base",
            "top": null,
            "grid_column": null,
            "overflow_y": null,
            "overflow_x": null,
            "grid_auto_flow": null,
            "grid_area": null,
            "grid_template_columns": null,
            "flex": null,
            "_model_name": "LayoutModel",
            "justify_items": null,
            "grid_row": null,
            "max_height": null,
            "align_content": null,
            "visibility": null,
            "align_self": null,
            "height": null,
            "min_height": null,
            "padding": null,
            "grid_auto_rows": null,
            "grid_gap": null,
            "max_width": null,
            "order": null,
            "_view_module_version": "1.2.0",
            "grid_template_areas": null,
            "object_position": null,
            "object_fit": null,
            "grid_auto_columns": null,
            "margin": null,
            "display": null,
            "left": null
          }
        },
        "1c0b2a550a6e44c0812b846352f02269": {
          "model_module": "@jupyter-widgets/controls",
          "model_name": "IntSliderModel",
          "model_module_version": "1.5.0",
          "state": {
            "_view_name": "IntSliderView",
            "style": "IPY_MODEL_b5c815d6b9d54df38c275754f47b15ce",
            "_dom_classes": [],
            "description": "tempo",
            "step": 1,
            "_model_name": "IntSliderModel",
            "orientation": "horizontal",
            "max": 20,
            "_view_module": "@jupyter-widgets/controls",
            "_model_module_version": "1.5.0",
            "value": 10,
            "_view_count": null,
            "disabled": false,
            "_view_module_version": "1.5.0",
            "min": 1,
            "continuous_update": true,
            "readout_format": "d",
            "description_tooltip": null,
            "readout": true,
            "_model_module": "@jupyter-widgets/controls",
            "layout": "IPY_MODEL_54be7cafeeca4932ab107cf63d5bd9d5"
          }
        },
        "ed129afde1e04afe9ee2cc767e8c3161": {
          "model_module": "@jupyter-widgets/controls",
          "model_name": "ButtonModel",
          "model_module_version": "1.5.0",
          "state": {
            "_view_name": "ButtonView",
            "style": "IPY_MODEL_05ffd0ce42be4ed0826b771d8425d136",
            "_dom_classes": [],
            "description": "Run Interact",
            "_model_name": "ButtonModel",
            "button_style": "",
            "_view_module": "@jupyter-widgets/controls",
            "_model_module_version": "1.5.0",
            "tooltip": "",
            "_view_count": null,
            "disabled": false,
            "_view_module_version": "1.5.0",
            "layout": "IPY_MODEL_93cec40b3ff24e6bb0f9f6db6d01672e",
            "_model_module": "@jupyter-widgets/controls",
            "icon": ""
          }
        },
        "9027cf23a9d04e989e52d10ab751e040": {
          "model_module": "@jupyter-widgets/output",
          "model_name": "OutputModel",
          "model_module_version": "1.0.0",
          "state": {
            "_view_name": "OutputView",
            "msg_id": "",
            "_dom_classes": [],
            "_model_name": "OutputModel",
            "outputs": [
              {
                "output_type": "display_data",
                "data": {
                  "image/png": "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\n",
                  "text/plain": "<Figure size 360x360 with 1 Axes>"
                },
                "metadata": {
                  "needs_background": "light"
                }
              }
            ],
            "_view_module": "@jupyter-widgets/output",
            "_model_module_version": "1.0.0",
            "_view_count": null,
            "_view_module_version": "1.0.0",
            "layout": "IPY_MODEL_77fa879ba02d4622af2568c87dbc3724",
            "_model_module": "@jupyter-widgets/output"
          }
        },
        "b5c815d6b9d54df38c275754f47b15ce": {
          "model_module": "@jupyter-widgets/controls",
          "model_name": "SliderStyleModel",
          "model_module_version": "1.5.0",
          "state": {
            "_view_name": "StyleView",
            "handle_color": null,
            "_model_name": "SliderStyleModel",
            "description_width": "",
            "_view_module": "@jupyter-widgets/base",
            "_model_module_version": "1.5.0",
            "_view_count": null,
            "_view_module_version": "1.2.0",
            "_model_module": "@jupyter-widgets/controls"
          }
        },
        "54be7cafeeca4932ab107cf63d5bd9d5": {
          "model_module": "@jupyter-widgets/base",
          "model_name": "LayoutModel",
          "model_module_version": "1.2.0",
          "state": {
            "_view_name": "LayoutView",
            "grid_template_rows": null,
            "right": null,
            "justify_content": null,
            "_view_module": "@jupyter-widgets/base",
            "overflow": null,
            "_model_module_version": "1.2.0",
            "_view_count": null,
            "flex_flow": null,
            "width": null,
            "min_width": null,
            "border": null,
            "align_items": null,
            "bottom": null,
            "_model_module": "@jupyter-widgets/base",
            "top": null,
            "grid_column": null,
            "overflow_y": null,
            "overflow_x": null,
            "grid_auto_flow": null,
            "grid_area": null,
            "grid_template_columns": null,
            "flex": null,
            "_model_name": "LayoutModel",
            "justify_items": null,
            "grid_row": null,
            "max_height": null,
            "align_content": null,
            "visibility": null,
            "align_self": null,
            "height": null,
            "min_height": null,
            "padding": null,
            "grid_auto_rows": null,
            "grid_gap": null,
            "max_width": null,
            "order": null,
            "_view_module_version": "1.2.0",
            "grid_template_areas": null,
            "object_position": null,
            "object_fit": null,
            "grid_auto_columns": null,
            "margin": null,
            "display": null,
            "left": null
          }
        },
        "05ffd0ce42be4ed0826b771d8425d136": {
          "model_module": "@jupyter-widgets/controls",
          "model_name": "ButtonStyleModel",
          "model_module_version": "1.5.0",
          "state": {
            "_view_name": "StyleView",
            "_model_name": "ButtonStyleModel",
            "_view_module": "@jupyter-widgets/base",
            "_model_module_version": "1.5.0",
            "_view_count": null,
            "button_color": null,
            "font_weight": "",
            "_view_module_version": "1.2.0",
            "_model_module": "@jupyter-widgets/controls"
          }
        },
        "93cec40b3ff24e6bb0f9f6db6d01672e": {
          "model_module": "@jupyter-widgets/base",
          "model_name": "LayoutModel",
          "model_module_version": "1.2.0",
          "state": {
            "_view_name": "LayoutView",
            "grid_template_rows": null,
            "right": null,
            "justify_content": null,
            "_view_module": "@jupyter-widgets/base",
            "overflow": null,
            "_model_module_version": "1.2.0",
            "_view_count": null,
            "flex_flow": null,
            "width": null,
            "min_width": null,
            "border": null,
            "align_items": null,
            "bottom": null,
            "_model_module": "@jupyter-widgets/base",
            "top": null,
            "grid_column": null,
            "overflow_y": null,
            "overflow_x": null,
            "grid_auto_flow": null,
            "grid_area": null,
            "grid_template_columns": null,
            "flex": null,
            "_model_name": "LayoutModel",
            "justify_items": null,
            "grid_row": null,
            "max_height": null,
            "align_content": null,
            "visibility": null,
            "align_self": null,
            "height": null,
            "min_height": null,
            "padding": null,
            "grid_auto_rows": null,
            "grid_gap": null,
            "max_width": null,
            "order": null,
            "_view_module_version": "1.2.0",
            "grid_template_areas": null,
            "object_position": null,
            "object_fit": null,
            "grid_auto_columns": null,
            "margin": null,
            "display": null,
            "left": null
          }
        },
        "77fa879ba02d4622af2568c87dbc3724": {
          "model_module": "@jupyter-widgets/base",
          "model_name": "LayoutModel",
          "model_module_version": "1.2.0",
          "state": {
            "_view_name": "LayoutView",
            "grid_template_rows": null,
            "right": null,
            "justify_content": null,
            "_view_module": "@jupyter-widgets/base",
            "overflow": null,
            "_model_module_version": "1.2.0",
            "_view_count": null,
            "flex_flow": null,
            "width": null,
            "min_width": null,
            "border": null,
            "align_items": null,
            "bottom": null,
            "_model_module": "@jupyter-widgets/base",
            "top": null,
            "grid_column": null,
            "overflow_y": null,
            "overflow_x": null,
            "grid_auto_flow": null,
            "grid_area": null,
            "grid_template_columns": null,
            "flex": null,
            "_model_name": "LayoutModel",
            "justify_items": null,
            "grid_row": null,
            "max_height": null,
            "align_content": null,
            "visibility": null,
            "align_self": null,
            "height": null,
            "min_height": null,
            "padding": null,
            "grid_auto_rows": null,
            "grid_gap": null,
            "max_width": null,
            "order": null,
            "_view_module_version": "1.2.0",
            "grid_template_areas": null,
            "object_position": null,
            "object_fit": null,
            "grid_auto_columns": null,
            "margin": null,
            "display": null,
            "left": null
          }
        },
        "d9d5383bafc340bea4bf2d9337095ad1": {
          "model_module": "@jupyter-widgets/controls",
          "model_name": "VBoxModel",
          "model_module_version": "1.5.0",
          "state": {
            "_view_name": "VBoxView",
            "_dom_classes": [
              "widget-interact"
            ],
            "_model_name": "VBoxModel",
            "_view_module": "@jupyter-widgets/controls",
            "_model_module_version": "1.5.0",
            "_view_count": null,
            "_view_module_version": "1.5.0",
            "box_style": "",
            "layout": "IPY_MODEL_36e9769ec60f4787ab397ca9cc50d610",
            "_model_module": "@jupyter-widgets/controls",
            "children": [
              "IPY_MODEL_86cb8f014a6a4d3dac707dac95058049",
              "IPY_MODEL_51c43ab1eba648dea683c3f19867c2cc",
              "IPY_MODEL_c84e8729db644a05aeddb60121589121"
            ]
          }
        },
        "36e9769ec60f4787ab397ca9cc50d610": {
          "model_module": "@jupyter-widgets/base",
          "model_name": "LayoutModel",
          "model_module_version": "1.2.0",
          "state": {
            "_view_name": "LayoutView",
            "grid_template_rows": null,
            "right": null,
            "justify_content": null,
            "_view_module": "@jupyter-widgets/base",
            "overflow": null,
            "_model_module_version": "1.2.0",
            "_view_count": null,
            "flex_flow": null,
            "width": null,
            "min_width": null,
            "border": null,
            "align_items": null,
            "bottom": null,
            "_model_module": "@jupyter-widgets/base",
            "top": null,
            "grid_column": null,
            "overflow_y": null,
            "overflow_x": null,
            "grid_auto_flow": null,
            "grid_area": null,
            "grid_template_columns": null,
            "flex": null,
            "_model_name": "LayoutModel",
            "justify_items": null,
            "grid_row": null,
            "max_height": null,
            "align_content": null,
            "visibility": null,
            "align_self": null,
            "height": null,
            "min_height": null,
            "padding": null,
            "grid_auto_rows": null,
            "grid_gap": null,
            "max_width": null,
            "order": null,
            "_view_module_version": "1.2.0",
            "grid_template_areas": null,
            "object_position": null,
            "object_fit": null,
            "grid_auto_columns": null,
            "margin": null,
            "display": null,
            "left": null
          }
        },
        "86cb8f014a6a4d3dac707dac95058049": {
          "model_module": "@jupyter-widgets/controls",
          "model_name": "IntSliderModel",
          "model_module_version": "1.5.0",
          "state": {
            "_view_name": "IntSliderView",
            "style": "IPY_MODEL_5435bea6eec54380b9016ebf3bc87091",
            "_dom_classes": [],
            "description": "tempo",
            "step": 1,
            "_model_name": "IntSliderModel",
            "orientation": "horizontal",
            "max": 20,
            "_view_module": "@jupyter-widgets/controls",
            "_model_module_version": "1.5.0",
            "value": 10,
            "_view_count": null,
            "disabled": false,
            "_view_module_version": "1.5.0",
            "min": 1,
            "continuous_update": true,
            "readout_format": "d",
            "description_tooltip": null,
            "readout": true,
            "_model_module": "@jupyter-widgets/controls",
            "layout": "IPY_MODEL_c4372b17a79e42ee930b3fb610e8593e"
          }
        },
        "51c43ab1eba648dea683c3f19867c2cc": {
          "model_module": "@jupyter-widgets/controls",
          "model_name": "ButtonModel",
          "model_module_version": "1.5.0",
          "state": {
            "_view_name": "ButtonView",
            "style": "IPY_MODEL_2a19cbda628c45eb8e2d321b1a0a6206",
            "_dom_classes": [],
            "description": "Run Interact",
            "_model_name": "ButtonModel",
            "button_style": "",
            "_view_module": "@jupyter-widgets/controls",
            "_model_module_version": "1.5.0",
            "tooltip": "",
            "_view_count": null,
            "disabled": false,
            "_view_module_version": "1.5.0",
            "layout": "IPY_MODEL_599865dc020c498eaa838450b2599a14",
            "_model_module": "@jupyter-widgets/controls",
            "icon": ""
          }
        },
        "c84e8729db644a05aeddb60121589121": {
          "model_module": "@jupyter-widgets/output",
          "model_name": "OutputModel",
          "model_module_version": "1.0.0",
          "state": {
            "_view_name": "OutputView",
            "msg_id": "",
            "_dom_classes": [],
            "_model_name": "OutputModel",
            "outputs": [
              {
                "output_type": "display_data",
                "data": {
                  "image/png": "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\n",
                  "text/plain": "<Figure size 432x288 with 1 Axes>"
                },
                "metadata": {
                  "needs_background": "light"
                }
              }
            ],
            "_view_module": "@jupyter-widgets/output",
            "_model_module_version": "1.0.0",
            "_view_count": null,
            "_view_module_version": "1.0.0",
            "layout": "IPY_MODEL_fab6f4433b8948f187c5913d553f9626",
            "_model_module": "@jupyter-widgets/output"
          }
        },
        "5435bea6eec54380b9016ebf3bc87091": {
          "model_module": "@jupyter-widgets/controls",
          "model_name": "SliderStyleModel",
          "model_module_version": "1.5.0",
          "state": {
            "_view_name": "StyleView",
            "handle_color": null,
            "_model_name": "SliderStyleModel",
            "description_width": "",
            "_view_module": "@jupyter-widgets/base",
            "_model_module_version": "1.5.0",
            "_view_count": null,
            "_view_module_version": "1.2.0",
            "_model_module": "@jupyter-widgets/controls"
          }
        },
        "c4372b17a79e42ee930b3fb610e8593e": {
          "model_module": "@jupyter-widgets/base",
          "model_name": "LayoutModel",
          "model_module_version": "1.2.0",
          "state": {
            "_view_name": "LayoutView",
            "grid_template_rows": null,
            "right": null,
            "justify_content": null,
            "_view_module": "@jupyter-widgets/base",
            "overflow": null,
            "_model_module_version": "1.2.0",
            "_view_count": null,
            "flex_flow": null,
            "width": null,
            "min_width": null,
            "border": null,
            "align_items": null,
            "bottom": null,
            "_model_module": "@jupyter-widgets/base",
            "top": null,
            "grid_column": null,
            "overflow_y": null,
            "overflow_x": null,
            "grid_auto_flow": null,
            "grid_area": null,
            "grid_template_columns": null,
            "flex": null,
            "_model_name": "LayoutModel",
            "justify_items": null,
            "grid_row": null,
            "max_height": null,
            "align_content": null,
            "visibility": null,
            "align_self": null,
            "height": null,
            "min_height": null,
            "padding": null,
            "grid_auto_rows": null,
            "grid_gap": null,
            "max_width": null,
            "order": null,
            "_view_module_version": "1.2.0",
            "grid_template_areas": null,
            "object_position": null,
            "object_fit": null,
            "grid_auto_columns": null,
            "margin": null,
            "display": null,
            "left": null
          }
        },
        "2a19cbda628c45eb8e2d321b1a0a6206": {
          "model_module": "@jupyter-widgets/controls",
          "model_name": "ButtonStyleModel",
          "model_module_version": "1.5.0",
          "state": {
            "_view_name": "StyleView",
            "_model_name": "ButtonStyleModel",
            "_view_module": "@jupyter-widgets/base",
            "_model_module_version": "1.5.0",
            "_view_count": null,
            "button_color": null,
            "font_weight": "",
            "_view_module_version": "1.2.0",
            "_model_module": "@jupyter-widgets/controls"
          }
        },
        "599865dc020c498eaa838450b2599a14": {
          "model_module": "@jupyter-widgets/base",
          "model_name": "LayoutModel",
          "model_module_version": "1.2.0",
          "state": {
            "_view_name": "LayoutView",
            "grid_template_rows": null,
            "right": null,
            "justify_content": null,
            "_view_module": "@jupyter-widgets/base",
            "overflow": null,
            "_model_module_version": "1.2.0",
            "_view_count": null,
            "flex_flow": null,
            "width": null,
            "min_width": null,
            "border": null,
            "align_items": null,
            "bottom": null,
            "_model_module": "@jupyter-widgets/base",
            "top": null,
            "grid_column": null,
            "overflow_y": null,
            "overflow_x": null,
            "grid_auto_flow": null,
            "grid_area": null,
            "grid_template_columns": null,
            "flex": null,
            "_model_name": "LayoutModel",
            "justify_items": null,
            "grid_row": null,
            "max_height": null,
            "align_content": null,
            "visibility": null,
            "align_self": null,
            "height": null,
            "min_height": null,
            "padding": null,
            "grid_auto_rows": null,
            "grid_gap": null,
            "max_width": null,
            "order": null,
            "_view_module_version": "1.2.0",
            "grid_template_areas": null,
            "object_position": null,
            "object_fit": null,
            "grid_auto_columns": null,
            "margin": null,
            "display": null,
            "left": null
          }
        },
        "fab6f4433b8948f187c5913d553f9626": {
          "model_module": "@jupyter-widgets/base",
          "model_name": "LayoutModel",
          "model_module_version": "1.2.0",
          "state": {
            "_view_name": "LayoutView",
            "grid_template_rows": null,
            "right": null,
            "justify_content": null,
            "_view_module": "@jupyter-widgets/base",
            "overflow": null,
            "_model_module_version": "1.2.0",
            "_view_count": null,
            "flex_flow": null,
            "width": null,
            "min_width": null,
            "border": null,
            "align_items": null,
            "bottom": null,
            "_model_module": "@jupyter-widgets/base",
            "top": null,
            "grid_column": null,
            "overflow_y": null,
            "overflow_x": null,
            "grid_auto_flow": null,
            "grid_area": null,
            "grid_template_columns": null,
            "flex": null,
            "_model_name": "LayoutModel",
            "justify_items": null,
            "grid_row": null,
            "max_height": null,
            "align_content": null,
            "visibility": null,
            "align_self": null,
            "height": null,
            "min_height": null,
            "padding": null,
            "grid_auto_rows": null,
            "grid_gap": null,
            "max_width": null,
            "order": null,
            "_view_module_version": "1.2.0",
            "grid_template_areas": null,
            "object_position": null,
            "object_fit": null,
            "grid_auto_columns": null,
            "margin": null,
            "display": null,
            "left": null
          }
        },
        "247bd1906c174ff4a4a9d5ae143988ad": {
          "model_module": "@jupyter-widgets/controls",
          "model_name": "VBoxModel",
          "model_module_version": "1.5.0",
          "state": {
            "_view_name": "VBoxView",
            "_dom_classes": [
              "widget-interact"
            ],
            "_model_name": "VBoxModel",
            "_view_module": "@jupyter-widgets/controls",
            "_model_module_version": "1.5.0",
            "_view_count": null,
            "_view_module_version": "1.5.0",
            "box_style": "",
            "layout": "IPY_MODEL_1510ab1f09054c2b85d5fb8d90078459",
            "_model_module": "@jupyter-widgets/controls",
            "children": [
              "IPY_MODEL_9b41790281094da9918227bd5fd79ae0",
              "IPY_MODEL_d694f90ab45f423f8660af5172004d82",
              "IPY_MODEL_0a9cd853c0654bbaba60c48f160972a8"
            ]
          }
        },
        "1510ab1f09054c2b85d5fb8d90078459": {
          "model_module": "@jupyter-widgets/base",
          "model_name": "LayoutModel",
          "model_module_version": "1.2.0",
          "state": {
            "_view_name": "LayoutView",
            "grid_template_rows": null,
            "right": null,
            "justify_content": null,
            "_view_module": "@jupyter-widgets/base",
            "overflow": null,
            "_model_module_version": "1.2.0",
            "_view_count": null,
            "flex_flow": null,
            "width": null,
            "min_width": null,
            "border": null,
            "align_items": null,
            "bottom": null,
            "_model_module": "@jupyter-widgets/base",
            "top": null,
            "grid_column": null,
            "overflow_y": null,
            "overflow_x": null,
            "grid_auto_flow": null,
            "grid_area": null,
            "grid_template_columns": null,
            "flex": null,
            "_model_name": "LayoutModel",
            "justify_items": null,
            "grid_row": null,
            "max_height": null,
            "align_content": null,
            "visibility": null,
            "align_self": null,
            "height": null,
            "min_height": null,
            "padding": null,
            "grid_auto_rows": null,
            "grid_gap": null,
            "max_width": null,
            "order": null,
            "_view_module_version": "1.2.0",
            "grid_template_areas": null,
            "object_position": null,
            "object_fit": null,
            "grid_auto_columns": null,
            "margin": null,
            "display": null,
            "left": null
          }
        },
        "9b41790281094da9918227bd5fd79ae0": {
          "model_module": "@jupyter-widgets/controls",
          "model_name": "IntSliderModel",
          "model_module_version": "1.5.0",
          "state": {
            "_view_name": "IntSliderView",
            "style": "IPY_MODEL_fec2967dbdae4175abd005e6140c3025",
            "_dom_classes": [],
            "description": "tempo",
            "step": 1,
            "_model_name": "IntSliderModel",
            "orientation": "horizontal",
            "max": 20,
            "_view_module": "@jupyter-widgets/controls",
            "_model_module_version": "1.5.0",
            "value": 20,
            "_view_count": null,
            "disabled": false,
            "_view_module_version": "1.5.0",
            "min": 0,
            "continuous_update": true,
            "readout_format": "d",
            "description_tooltip": null,
            "readout": true,
            "_model_module": "@jupyter-widgets/controls",
            "layout": "IPY_MODEL_ed40b3b610c244e7b67ce9b3b8316eb7"
          }
        },
        "d694f90ab45f423f8660af5172004d82": {
          "model_module": "@jupyter-widgets/controls",
          "model_name": "ButtonModel",
          "model_module_version": "1.5.0",
          "state": {
            "_view_name": "ButtonView",
            "style": "IPY_MODEL_ef2cc43455b94adba339edf453764db0",
            "_dom_classes": [],
            "description": "Run Interact",
            "_model_name": "ButtonModel",
            "button_style": "",
            "_view_module": "@jupyter-widgets/controls",
            "_model_module_version": "1.5.0",
            "tooltip": "",
            "_view_count": null,
            "disabled": false,
            "_view_module_version": "1.5.0",
            "layout": "IPY_MODEL_a3149c47d6cb4edba6dfd96b9840c6d0",
            "_model_module": "@jupyter-widgets/controls",
            "icon": ""
          }
        },
        "0a9cd853c0654bbaba60c48f160972a8": {
          "model_module": "@jupyter-widgets/output",
          "model_name": "OutputModel",
          "model_module_version": "1.0.0",
          "state": {
            "_view_name": "OutputView",
            "msg_id": "",
            "_dom_classes": [],
            "_model_name": "OutputModel",
            "outputs": [
              {
                "output_type": "display_data",
                "data": {
                  "image/png": "iVBORw0KGgoAAAANSUhEUgAAAXoAAAEICAYAAABRSj9aAAAABHNCSVQICAgIfAhkiAAAAAlwSFlzAAALEgAACxIB0t1+/AAAADh0RVh0U29mdHdhcmUAbWF0cGxvdGxpYiB2ZXJzaW9uMy4yLjIsIGh0dHA6Ly9tYXRwbG90bGliLm9yZy+WH4yJAAAgAElEQVR4nO3dd3xUVfr48c+ThITei0gLSFEQQQzFXRFQxL7o2lBXseuu7q66Flb9KmtZxcZvXcvaC/bVLaywYAGRVQQCCkiTgFSR3mtCzu+PuXdyZ+ZOMklukjMzz/v14sXkzp2ZM/feee65zzn3HDHGoJRSKnVl1HQBlFJKVS0N9EopleI00CulVIrTQK+UUilOA71SSqU4DfRKKZXiNNArFRARGSgiS8tY55ci8rWIZFZXuZTSQK9SkoisFJF9IrJLRLaLyFcicoOIVNkxb4yZbozpFlWGoVHr/AP4ErilqsqhVDQN9CqVnW2MaQB0AB4B7gRertkiAaFyHKzKk45SXnqgqZRnjNlhjBkPXASMFJGjRSRHRB4XkdUiskFE/iYidQBEZLCIrBWRP4jIRhFZLyJXuu8nImeIyCLnamGdiNzmfZ3zeBzQHviPiOwWkTuc5X8H1gIPAJ+LSI9q3RgqLWmgV2nDGDOLUJAdSKiG3xXoDXQG2gD3elY/DGjkLL8aeEZEmjjPvQxc71wtHA1M8fmsy4DVhK4q6htjHnWe+i/QBWgJzAXeCvI7KuVHA71KNz8CTYHrgFuMMVuNMbuAPwMjPOsVAvcbYwqNMROB3UA3z3PdRaShMWabMWZuoh9ujHnFGLPLGHMAGA30EpFGlf9aSsWngV6lmzZAFlAXmOM01G4HJgEtPOttMcYUef7eC9R3Hp8HnAGsEpFpInJ8Ih8sIpki8oiILBeRncBK56nmFf86SpVNA71KGyLSl1Cg/xewD+hhjGns/GtkjKlf+juEGGNmG2OGE0q//At4P96qUX9fAgwHhhJKC+W6RSvXF1GqnDTQq5QnIg1F5CzgXeBNY8w84EVgrIi0dNZpIyKnJvBe2SJyqYg0MsYUAjuB4jirbwA6ef5uABwAthC6ovhzhb+UUuWggV6lsv+IyC5gDXA38CTg9p65EygAvnbSKJ9SkoMvy2XASud1NwCXxlnvYeAeJz10G/AGsApYBywCvi7/V1Kq/EQnHlFKqdSmNXqllEpxGuiVUirFaaBXSqkUp4FeKaVSXFZNFyBa8+bNTW5ubk0XQymlksqcOXM2G2Na+D1nXaDPzc0lPz+/pouhlFJJRURWxXtOUzdKKZXiNNArpVSK00CvlFIpTgO9UkqlOA30SimV4jTQK6VUitNAr5RSKU4DfRXYtucgE+avr+liKKUUoIG+Stz49lxufHsu63fsq+miKKWUBvqqsHrrXgAKi3Ssf6VUzUso0IvIaSKyVEQKRGSUz/MnishcESkSkfOjnhspIsucfyODKrjN3LlcRGcCVWnOGMPUJRspLi670rNp1wHmrdleDaVKP2UGehHJBJ4BTge6AxeLSPeo1VYDVwBvR722KXAf0B/oB9wnIk0qX2y7ubN2aaBX6W7igp+48rXZvD5jZZnrnvXX6Qx/5ssqL1M6SqRG3w8oMMasMMYcJDTB8nDvCsaYlcaY+cROknwq8IkxZqsxZhvwCXBaAOW2mlt30Vka09uarXvZe7CopotRozbu2g+UpDNLs2HngaouTtpKJNC3ITS5smutsywRCb1WRK4TkXwRyd+0aVOCb20vN8AXa6SvsOJiw3uzV3Og6FBNF6XcThgzheMf/oyBj07lildnB/7+xpik2S4ZzmVtIqmbirp+XD65oyZU6j1+2LyHad8nf+yJx4rGWGPMC8aYPGNMXosWvsMpJxXj1OkPFRuMMbw1cxU79xfWcKmSy4QF67nzwwU8PaWgpotSbmu37WP9jlBNdtYPWwN//7dnrabbPZOSoldXRoYT6D1x/rnPl/O/ZZsD+4zJCzdU+j2GPP45I1+ZFUBp7JRIoF8HtPP83dZZlojKvDZpFXtq9N+u2c7d//yOP/5jQc0WKsls3xc6MW7Zc7DaPnPpT7vIHTWBgo27y/W6Z6YW0PehT6uoVLHGf/sjEKqFVpXXv1pJt3v+G25vqignznPI8z5jJi3hVy/PjPuayn6mipVIoJ8NdBGRjiKSDYwAxif4/pOBYSLSxGmEHeYsS2nucXqoGIqcqP+TU8OrLnNXbwvnR2vK3f9cwOSFP8Us37GvkKenLCv9ct7ZiBnV2KD9n3mhADrpu/Ld7PbY5KVs2lV9+WU3HVKV8fC+8Qs5UFSM3y7atOsAz32+PKGAXFLWxAt7qArTPBD6LeaOmsAXCaZqduwtZOaKLVVapqpWZqA3xhQBNxEK0IuB940xC0XkfhH5BYCI9BWRtcAFwPMistB57VbgAUIni9nA/c6ypLRu+z5mryy7+O5BfajYUCsztIkLD0W3U/u7flw+ExeUHWi+Wb2NZRt2xX3+l89+xVlP/S/898Zd+9l9ILJh8OGJiyud2yzNWzNXc/24OTHLH/hoEY9//D1TlmwML9t38BBjJi1hf+Ehtu05yOdLQz9C9//qEK59JrarfAWVi/6qYDPfrdvB/sLYXHxmOB1imLdmO+/MWh3IZ+4+UMSYSUs4WFSyAfyC7p0fzmfMpCXMW7ujzPfMdAJ9eYJ3UQW34YXPzyjz97lh535mrAiljd78Ou6ETBGueWM2F73wNQ98tIgft+9jque4TRYJTSVojJkITIxadq/n8WxCaRm/174CvFKJMtaIokPFjJm0hOsHHUHz+jkADH5sKoWHDCsfObPU17qH6aFiEz7QvT8eP2MmLeFAYTGTF25g8sINpX5G4aFizn32K+rUymTxA6exdtteLn7xa9697njaNK4TXm+jp5bZ76HP6NCsLtNuH0LBxt10aFaX579YUVJOJ3hs3n2Ab1Zv55TurSI+s7jYIAJSyT6j/5n3Ixt27g9/D9fzXyznuc+X06xeNhMXrGfu6lB/6rXb9rFtz0Ga1Muu1Ocmws0nH6pgVTl31ARaNcwpc70d+wrZc6CIwz37yssYwyUvhVIbA7s0Z9zV/SOel/AJyYS7I17cr32Fyuz11ynLeH7aiohjyO1QsGzDLk4Z+wXjru7HHqfCsPdA4j2KyhO7x37yPRfktaNzy/qJv4hQe8gdH8xn6m2D467T/8+fecqUWKFmr9wGwMv/+4GX//cDAF+NOsl3/xUeKubsv/6PP55xFIO62tPeaEVjrE2+W7eDmSu2MO37Tbw4/Qfu/fd34ecKDyV2YIRr9MZQWBwKZgfLqCY+9/lyXvnyh4Tef/f+0A9sn1Pbe3/2GtZs3cd7s9fw1sxV7DtYUgu8+58LuPq1UM+PVVv28tCERQx9chp3edoMjrhrIguc2tlVr83m2jfyY2r/ne6ayFWvVa4HyZKfdvLbd75huk9DnFvmomLDsg2ROXJ3G67asodtVZizz/CclHftL+TOD+azebd/Suar5Zt5afqKmOWJdBEcNnYaP3tkSvjv4mITcaOQt/brt638UjdFlbkMcT/XOb69XULdskxdGqrFTl2yieysUNjYsGs/K+O0Ezw6aQl3fjCfOatCQbI8VzrPf7GCy0rJ4W/fe5AP56z1fW7HvkIKNu7m7/lryB01gbXb4nfrPFRsOFRsGD1+Ydx1/jHX/3NufHuub7puw879LPlpV8TvywbWTQ5e0876ayjd8fxlxwFw0GcYg9xRE5h518m0alg7vKy42PD1ii3079Qsokbv/lDKqtGXh7cmnDtqAucfF7qYeuqzZUCoFux6a2bkZf2L00Mnk79H/VDmrt5Gz7aNwg18i37cyUfzf2T02T3CNd2pSzex50ARxz34CU9f3IehUbX+svx3QWy+3uVup6wMgaiLBnfbDXrscwDm3TeMRnVqleuzl23YRdN62dTNzmL+2u30bt+YnKzMiHXcq5q/TVvO36YtB+C9/DURV1c79hWyfsc+LnkxFIga1C7/T8g9GRx932T+evGxrNi8hwc+WgTA9DuGcL/z2OtgUTFFxcXUzc4K1+i9NdKd+4toWspVz7INuxj39Sou7d+B5vWzaVY/h537C2mQkxW+SqvlBPCI1I3zGW5Qa9Egh9VbQ8fILe/NA4jYPl8VbKZ2dibPfr484vP9as9//McCzj22Db3bNQ6fPLzf12vHvkIa1alFwcZdDH3yCwB6tGnIkYc1jFhv656DDH1yWvjv8fN+5DeDO7NjXyENo/ZVsYE5q7bx2lcrw8uMMRFXrbe+Py+m3ADfrN7OQxMW8f9GHBux3NZ2ZA30QI97J3HNwE4sXr8z5rl4mYr/LdvMeceVZKuenlrAk598z68HH8H2vaEeI8XGhGtaxoQO1pysDGrXyqRg424WrNvOucf6Zrz4dNGGuIG0MKp2FJ3HXr+9/N3u7hu/kHN6twnH2OvH5bNtbyGXH58bcQm9fNNu9hcWM/bT78sd6P/inIhc3m3rBpQHJyymXnZkAD5QVMzz00oCx+L1OxnQqVnM+y/ftBsBOrUIlXf9jn18ungjlw3owCljv6B5/Ww27w5dEbRuVJvpdwxhxootzF+7gxenr+C6EzuVWv7v1u0IVwRcd36YeM2tYONunp5Ssg12Hyji8Y+X0u2wBuFlnyzawCeLIrsL3vj2XL5bt4NVW/ay8pEzS/qmew6DP09czOlHH0b9nCz6+2ybU8aGguMbM1bRqXk93rq2P8c/PIVe7Rrz7xt/DkB2Zmygd2vie50rrh+37wu3O7kmfbeeG96cy0uX53HNG/m+393vYvidWat5Z9ZqLhvQgQfOOTriuQxPK/ycVds477mvGNKtBVM9x/rW3WVf3T06aSmL1+/iP/N+jDkpT/t+E9cOjNznh4oNWZmJpSeruM04UGkf6IuLDXsOHooJQmWdmaNrKPPXhi69n/PUZA4Vm3BQNsbQ608fc+RhDXj8gl7hgBEv0F/zRj7jru7HwC4tWLd9H4c3qo2IUHiomEnfRdaMc6JqQ/t8GvAS8dpXK9nppIUyM0LvuX7HPpp5aoruHY7uj/2Jj5fy1ykFzLrrZFo2rM3BomKenlrADYNKD5quPQeKeOGLFRzwBJc9ByPLf/IT0yL+3rrnIAvW7uDXb83hhcvy6H54w4j13BrmNa/ns/DHnQxzTkibPYFh/Y79PPHJ9xH7KzPOWf3f365jeO82MUG+vP7w/rcxDZjGwOotJekFv0ZL75DXO/cXhgO998rugzlr+cC5Svv8tsF0aFaXC/42g8Z1s2lcN/LqZ8XmPTw/LZR28qaM3Fq1tzY+delGBndtGb4yHPf1Ks7s2Tri/W54cy5A3CAPpefD562NHd/Gmxb51inj1KgKza4E2wjc3lS79seuH91JoqjYkJUZ2g+fLS69f35mdXYJq6S0D/Ru/rc0BRt30TAqVRB92Podx8XFJTV6t8a65KddCQeMy16exe9O6sxTUwq487QjGdajVUzQg1BvIK+9BysW6Md++n34sZubvuzlyJtIbnr7GwBqObWevzo3NPX782cseeA03pm1mqc+WxZOI5Xmhjfn0i+3KbNWbg2/XyJ+89bc8OMznpoe03Dd877JEUEgXtrsuaj0Qjwzf9jKngOVvxM1Oj0BsCjqKrKsHicfzlkbDk7e7eA1+PHPyyyLN10RLp9z8vaW4Zb35pHXIXJ4qoq0x5eWo9+xr9C3+/FlL8+kd7vGcXv37DlQVO6usNGi287cE+24GSsZ/Z/YFJpXhs+GSLR3XXVL+0Afr9vXh04jzObdB8I5Qa87PpjPkG4teeXLH1j4407fPrkjX51F39ymQPxGukPFhk9LqTk85QTSMZOWhHOjZfFrwAuaMfD3/DURywY9NpURfcvX+2OW0x0u0YbuRETX9GYk2Ac6XpCdtnQTb8+seBfG3FETePWKvjFtAr5lKCNQ/KmM4FMR+wsPsX1vYdyBx/KdBlXXRxWYVMfdv34Bf9WWvQx4+LOY5dOXbS71WN5fWJzwyTr+e0SewJ+ZWhDTvhCPm8H61zfrGNq9FfVzsthfqIHeSvECjJsn3VJKHrCsuyELDxm+Wl56kNlXeMi3r7mfd2atKXulapK/altMANiw84Bv3+QfNu/h1QR7FFWFOz6Yn9B6j01e6rs8+oqpIsbP+zGh3O8Xy6p/vJWvlm/mqtfip12C8O2a0LFS0a6rfvYXHmJZOe9ijvZxVHtIokEeQqmbRT/u5Ob3vuXsXofz53OP5oynpleqPFUl7btXlnUjR1WPPrgrxcbA8Ruy4JxnvuSNGYndnFIR//7W/lE1tu89SFECVy1un+3q9PDEJVX+GZt3H2THvsJAB/rbH8DAbpWZ8vOdWWvCV9kFG3cHkt6rKmkf6Mu6VN6cQMt+ZVT30Ag1Yce+qj2Z/f7db6v0/YMwdekmerRpWPaKNaCyteJEPfjRIv7tjNMThCAHRqsot4vp4vU7I4Zitm0uirRP3VT0duugnPvsVzX6+ar6/Pub4IJcMvr7nLUx929URllp0erg7eF24fMzarAkpdMafYCNgMko/56hNV2EQEyvgdx2ef20s2qv3o5t37hK318lLw30CXSvDEp2pn2b2x3HJ9lFdwNNdUd6brJyNauXGvuyNL8aUPkxfYLw6pV9S33ettSNfZGnmsVL3dxz5lG+P6bKKGu8m/K4+4yjKv0et5/aDYChR5XvDlcbHNO2EVf8LLfCr3/vugG+y8v6gTbICS7b2a9j01LLUpoDPvcG9Hfer7oNPaolT1zQi8uP7xCx/JNbTizztUe1Ll+7hV8X1ZFRn1sdBls0YFki0j7Qx7vBYVDXFow6/ciY5T/vHHl7+cAuzaukXGWJHl2yItyhBl4amRde9sgve/LGVf0q/d4Vdcdp3RJaT6jcBBUdmtXzXV6nVmQg6dmmUcTfhzWqTVDevLo/3/3pVHq1q3jKxXtb/9UndEz4dXkdmiQ00mYiXhrZl/OOaxvTo6Z2rbLvGyjvWEHRwy8AcUcBLU37pnVjlj12/jEx+z8e73g4z13aJ+Z5v3LWJLtKUwPida/MzsrwPQhfvaIkCNbPyeL+4UfHrONn6YORc6J3b92Qawd25IkLevGP3/yMHx4+gwGdQjUyt6ZdmkTH4yhNa88P5KK8dlzxs1xG9GtPn6g7IcvrtmFdY5Z9OeqkmGV+V0zRP8APbjje9zPaNKkTc3dyedTN8f9BR2/VX/Q6POLvnFrB/WSyszKon5MVM4SF12tX9uXTWwfFfb5h7ZI7tjMyJKYC8JcRvX1f9+C5R/PWNf19n6uo6J9Snagxi1o0iD2xlPco9ju5VySo+t0t3aphbU4/+rCIZWce0zpmvWh+J5qOcSoSNSXtA328G6ZaN6pDn/ZNGHtRr4jl3tvYM4SYAbi8ZvzxJE4/+jBGn93dd6TEu8/sznnHtaVP+yaICMc5Aba42NCtVSgIRo9T4vI7uHscXnIZ3K9jU8ac19P3tR/++nieuKBXeAwYgDHnH8PoX/QAoHYpgScRfumwZlEjK9bLzuSFy/Ji1uvfsRkdmpUE+7xc/3TEmPOOSXikQL8TSt04NbdrT+zELUNLTlTe4HRmz9bhMYCC5K0dtm1SJyI9VKdWpu+47O4r6udkUT8nizN6hgLUn8+N3OfDe7fx/cwGtWuRVcp3OauUALfykTPDaSevq0/oSLumJUGvrue38fltgxl/089jv4cn0j90btmVJr+Kmd/QEn7qe7ar30nHb+yax8/vFbMsWt1SYoAt0j7Q+x04k24eSHZWBiISd9AxCNWg6paSs23dqA7P/eo4rvh57CW1X8rIDSJFxYbJt5zIykfOZPLNJXlO7wh/WT4H5YTfDWTpg6dx/aBOvDQyL27Z+7RvwnnHtY07iUhWnJPI707q7Ls+EDlZhc82ja61PnXxsbRvFll7v2VoV1o0yOGj354QsfztayNrnsd1aEKD2rXCk7BHi86jX+Wz/aO/4y/7tOHjW07k5qFd+f3QLuHlQ7u34ulLjuXjW07k6UuO9d3uiYhOAcUz/Y4hLPjTqTRxTvBuiil627tpEhGYf98wnr00NKy2d8ygly6PPZG6mtXLJrd5/FpnvEk/ois+Xke0qM/0O0qu3GpnZTL55hOZ8LsTyG1er9RhlN31yypHsQm1aXivEKMDfb+OTSOubNx0jHfX3X5qt5gJSowh5hIjOvj3atsopqdadIoq0RNPdbKvRNXML9An+mPOEIlbM/TjzaH61XqzPFPEubxj3l82INTo1LZJHd9gDKHGqj+efhQNa9ciOyvDNw+b6CxRfXNLUjgPnnM0tw7rxke/PYFf9Dqc7q0b8t/fDwzXJC/p3z48qqHfpWz0Z0bnyC/KaxcOsNE/lJ8d0ZyL8to5r6sbrrW6myl6d10S1TPjwr7teOSX/lc3Jd+1KV1bxdb8szKEs445nK6tGiAicUe4LE2HZnUTnvvW3U7PX5bHeX3ahvff9YOOiFjPvRIVkYghfb2BqbRhpMvKn8f7nm7l4cFz4te+X7+qHxfltSMjQ+h2WAN6HB46yfn1OhOEjs4Jp5ZPgIw+yRcbQ/9OzSIqFu7cBG7N+rHzj+HFy/N49cq+vH5Vv3C7zy/7hMq+YPQwTuzaIvy5Lr+KQ1aG8MZV/Xj1ir7Mvnso711/fLin2s1Du9C5Zf2I471lgxyOaFG/UmnFqpD2gd7due9cOyA8MUFpl7ReGRKq1Uef4ZvXz4m4/Hf931ndmX7HEADf2o37Iy3tJq4Fo4fx6a2DEr5cnHnXUH54+IyE1vX65v9O4a1rSnqDuGU7uk0jnrr4WCb+fiBHtW5IuyZ1w88/fcmxvHFVPy7q267U937q4mNjamr3n9Mj/LiWz/b/0/AevHPtAKbdPiQ8fru7lbyX5Ff8LDcmTQRl59bjBeLo4OS9u/Vdp7fMrLtO5uyoXL7rwXOOZtrtQ3jsglBN+AVnQptoL16eF9EI3q9jU564sFc48Efvb/eKMLrcieSrvSm+aG4vmLIaSf1Oiq5BXVsw5vxjYpZ7T/adWpQE2Yedk7C311Dz+qF92CKq+6/fEAruFVyPwxuy8pEzw5WIId1aMqhrC678eUdWPnIm/3dWd+b+3yk0qO2fDjUmdOLxysgQTuzagiFHtqRFg5yIE+TNQ7vy6a2DyMwQXrkij9+e1JlZdw8lK0Mq1VGgKqT9nbFutPDOh5roONPuSI3RfdFLuwmpXdO6PHreMQw5smXMc+7n+l1lHO9MJuE9SPPvGUreg5+Gyx9PReZ5jZ6jNd42cX94mSKIhH4UXs3qZfPbqLSDXyD2BtQMn8+qXSuT44+I7PHk/paOP6IZkxeGBqeKd9lc0V4Q0WX54+lH8eqXKwEY0KlZeIjksRf2YvTZ3TnuwciB7n7lXIV1bdUgvO5dZxxJl5aRgbKsXlTR+9CtDEQPlevup9xmsb1KAM49tg1jL/JvoG3ftC7vXjeAH7fvo3PL+uFhel+9si9N6maHp7D0ih7COFF7PePCeLej65+/+TnfrNmOiPCXEb15cfoKvlu30zfQu+nTskaOzMyQUtNHlQnNJx3ZipOODO1Dkcq9V1VI+0Dv7hChJFjGCwruj+jR84+hbnZmxAQMn946KGIKs9JcGKfG614uRwf67x883TfQViSNUF5f3D6EN2as5KjD/GuBxZ4TpZ9hPVqF2yjcsef9RAeyXu0ah9M18YU+/MSuLejcsj7PTF1OdmYGZx5zOE9PKQhPogJlb6vcBHtJxDuRZGVm0LhuKIiU9j0BrjvxiLjPleaVK/JoWi+Ha17P56YhRzD6P4uoHXWlUiszg2cv7RNu2Pe6bECHiPaHaDlZGTSqUytmmsYh3WIrJQDLHjrdd0z20vxlRG9+/+63HNm6AT/t3B/3uGnXtC7tnB5Yw3u3oVZmBr95a67vDX7dWjWgXdM6vt2hy9KyQQ4bnUlOvCeRG4ccUWr7XGksu1cK0EAfJlJy0Rav9jrHqalf6BOAOresz0uX57G3grM7Qcll89FRg1/FCy7e2mZZB9fU2wYze+XWcKolUe2b1eWes7rHfd5tZIyeu/OO07rx6KSleG88vvvMo7jl/W8T6jfuTm9XGvd3KUg44GRnZdCmcR3mjz6V3FETwuv6BZQRfdvRrmldhh7VKmI6v4rKzJBwmqzjHydW+v2iuTXG/HuGUlxs2LjrQPiKweuMnv49ZqKn6/P63cldOL9P+QJbRa6Shvduw1GtG5IhwudLp9G/Y+y0h35OP/ownrywF2cdE5siq5OdGdEIXB6f3DqIC/82g6UbdoEpOU46NK0Xt0E6EZZlbjTQe3eIW6uMV8twa2zxlHcO1WgndGkengYuIeU4mDo2rxfT+BSE4b0Pp3e7xjE9OC7p155J3/3Eb4aU1F57tWvMlD8MjlivVcOcuJOylMV4ribcE05vz0lk3NX9wukGv/TVI+fF5pErqyJpsorIyBDuOK38NdhofxnRm+nLNnPrKbFtSlXFze9/cfsQ2jaJbbj367IsIuHG1CA1qlOL207txrVv5HNU64ZMWFC5GasAENHUjW3cxliR0GXc1j0Hy305GqTSurxF87ZZ1lSZRcS3zI3rZjP+phN8XhFpwu8GssozZ2p5hPcdMKzHYXw16qSIHhADu5S0F1T39qmXnRkz921NmXb7YN8hEyBUw47X176qRXevBZh337Bqn4v1lO6tYtoIKqOyd21XBQ304ct/eO3KfkxdujGmwWbi7wZGjDVtiwa1a3H3GUfx0MTF1g2ilKjm9XMqPLCaiWofKO1W+MMaBjd0QSLy7zklbj//6hZvuIeynNmzdYUnmq+o6PaB6ub+jCqz72z8LaZ9oHeJhMYxubhf7Oh43Q9vSPdSuqTVpBH92vHQxMU1XYwaUdKQXvYvq2fbRvzjNz+jbeM67D5Q9qxhbZvUYfte/wlTXruyb5lj3kTf/p+MnvEZwyXVuXfMxuuCmQgL47wGejvqXBXnXuYmEuxSjfF2mUpAn/ahnij+fUgiTbt9SNzL78FxeqGo5Pf7oV3IbVYvZsyb8rIsc6OB3pQ3WlimJtsTapo3Rx+00Ak0fbdtusrJyozb/TlRImJN2s6ld7n3zxEAABHeSURBVMY6/ydrvHQDfc+2iY2lkkoGODeRlXaXplLVzcZQklCNXkROA/4CZAIvGWMeiXo+B3gDOA7YAlxkjFkpIrWAl4A+zme9YYx5OMDyB8bGnZOI7KwMPrjheLqkYbC74Li2DOraImI8IJU+MjMk7jDjNUkkCVM3IpIJPAOcAqwFZovIeGPMIs9qVwPbjDGdRWQEMAa4CLgAyDHG9BSRusAiEXnHGLMy6C9SYZbtkIqIN5RvqhMRDfJpbMaok9ixz7/BvKbZFugTSd30AwqMMSuMMQeBd4HhUesMB153Hn8AnCyhO0cMUE9EsoA6wEFgZyAlD0hJP/pkrdMrlZ5aNqxt5ZWskJw5+jbAGs/fa51lvusYY4qAHUAzQkF/D7AeWA08boyJGQRERK4TkXwRyd+0aVO5v0RlePvRK6VUpVkYTKq6MbYfcAg4HOgI/EFEOkWvZIx5wRiTZ4zJa9GiZibd1Qq9UioIoTtja7oUkRIJ9OsAb3+jts4y33WcNE0jQo2ylwCTjDGFxpiNwJdA/GlvaoBtO0QplfxsCyuJBPrZQBcR6Sgi2cAIYHzUOuOBkc7j84EpJtRBfTVwEoCI1AMGAEuCKHhQynN3pVJKlSXcOmmRMgO9k3O/CZgMLAbeN8YsFJH7ReQXzmovA81EpAC4FRjlLH8GqC8iCwmdMF41xswP+ktUhnvDlKZulFJBsLExNqF+9MaYicDEqGX3eh7vJ9SVMvp1u/2WK6VUqrKx0qh3xjr/27hzlFLJyba2Pw30lu0QpVRys3HO2LQP9IQHxtIqvVKq8gSxbuKRtA/00ZNXKKVUZdgYS9I+0Lts3DlKqeRkV31eA711O0Qplfwsy9xooC8Z60ar9EqpygtNPGIXDfToDVNKqeDYGErSPtC7bNw5SqkkZVnuJu0DvWX7QymV5LQfvYX0zlilVJCSdZjilFZyY4NGeqVU5dk4W13aB3qXhftGKZWkbBu9UgO9UkoFSFM3FtI5Y5VSQRLRQG+dkn70GuqVUkGwL5akfaB32bdrlFLJyrIKvQZ6Hb1SKRWkUOrGrlCvgd6u/aGUSnI21hk10Dv/66BmSqkg2JgdSPtA77Jx5yilkpNtmYK0D/S25dKUUslNEL1hyjZ27Q6lVLLTfvQ20l43SqkA2RhL0j7Q6w1TSqmgWVah10Dv0jCvlAqCINa1/aV9oLdsfyilkp1OPGIfnXhEKRUkG0OJBvrw6JU27h6lVFKyrEqf9oHepTV6pVQQRMS2OJ9YoBeR00RkqYgUiMgon+dzROQ95/mZIpLree4YEZkhIgtFZIGI1A6u+JVn240NSqnkFpp4xK64UmagF5FM4BngdKA7cLGIdI9a7WpgmzGmMzAWGOO8Ngt4E7jBGNMDGAwUBlb6AOjEI0qpINmYHUikRt8PKDDGrDDGHATeBYZHrTMceN15/AFwsoQ6pg8D5htj5gEYY7YYYw4FU/RghM+7Fu4cpVRysqs+n1igbwOs8fy91lnmu44xpgjYATQDugJGRCaLyFwRucPvA0TkOhHJF5H8TZs2lfc7BEIbY5VSQUjHOWOzgBOAS53/zxWRk6NXMsa8YIzJM8bktWjRooqLFPPhgJ2XW0qp5BNqjLUr0icS6NcB7Tx/t3WW+a7j5OUbAVsI1f6/MMZsNsbsBSYCfSpb6CDZtTuUUsnOxjpjIoF+NtBFRDqKSDYwAhgftc54YKTz+Hxgigk1O08GeopIXecEMAhYFEzRg6GNsUqpoNmWuskqawVjTJGI3EQoaGcCrxhjForI/UC+MWY88DIwTkQKgK2ETgYYY7aJyJOEThYGmGiMmVBF36VSdFAzpVQgLBymuMxAD2CMmUgo7eJddq/n8X7ggjivfZNQF0sruf1dNcwrpYJgY8eOtL8z1rITr1IqydmYHNBArxOPKKUClnR3xqa68OiVFl5uKaWSj2BfpiDtA32YxnmlVAB0zlgL2XaJpZRKbjZmB9I+0Ls0R6+UCkoy3hmb0vSGKaVUkDR1YzG9YUopFQTROWPtY9slllIq2dlXadRAr6kbpVTANHVjmXA/eo30SqkAhGKJXZE+7QO9y8YuUUqp5JOOE49YT4dAUEoFycZYooHesksspVTysy2qaKC3bY8opZKaINbdcZ/2gd5l4+WWUir5aD96i2ljrFIqCDZGkrQP9LZdYimlkp9tYUUDvfa6UUoFSERz9NbSOK+UCopdYV4DvefOWA31SqnKszGUaKC37dSrlEpqgn3dbjTQO3vEwpOwUipJWRbnNdBrY6xSKkihiUfsCvVpH+hdmqNXSgXBxkiS9oHervOuUirZ6Z2xNrLsEksplfxsCytpH+gNmp9XSgVHRKwbFTftAz3YmVNTSiUnG+NJQoFeRE4TkaUiUiAio3yezxGR95znZ4pIbtTz7UVkt4jcFkyxg2OMNsQqpQIkSZi6EZFM4BngdKA7cLGIdI9a7WpgmzGmMzAWGBP1/JPAfytf3ODZdomllEp+tkWVRGr0/YACY8wKY8xB4F1geNQ6w4HXnccfACeLU00WkXOAH4CFwRQ5WMbYeamllEpOyXpnbBtgjefvtc4y33WMMUXADqCZiNQH7gT+VPmiVh3N3CilgmJjPKnqxtjRwFhjzO7SVhKR60QkX0TyN23aVMVFimTQSUeUUsER7EsJZyWwzjqgnefvts4yv3XWikgW0AjYAvQHzheRR4HGQLGI7DfGPO19sTHmBeAFgLy8vGrdQrY1miilkp9tcSWRQD8b6CIiHQkF9BHAJVHrjAdGAjOA84EpJjTYw0B3BREZDeyODvI1zaBJeqVUcGy8M7bMQG+MKRKRm4DJQCbwijFmoYjcD+QbY8YDLwPjRKQA2EroZJA0NM4rpYJiYyo4kRo9xpiJwMSoZfd6Hu8HLijjPUZXoHxVz9jZeKKUSk46eqWF7NodSqlUYFtc0UBvjJWXWkqp5CTY1xib9oEeNHWjlAqQhQEl7QO93hmrlAqSjfFEAz06qJlSKng2NchqoLdnXyilUoBbb7Qptmigx1h5qaWUSk42du5I+0AP2JlUU0olpXCNvmaLESHtA702xiqlqoLm6JVSKkW5FUd7wrwG+tANU9rrRikVEBvDSdoHerBzxyilkpNbcbQoc6OBPjTxiFJKBcumyUc00NuzL5RSKcSm2KKBHs3RK6WCY2M4SftAD5q6UUoFR2+YspDRiUeUUlVAUzcWsWhfKKVSQMmdsfZEFw30BjR5o5QKio3RJO0DPWjqRikVHB290ko6eqVSKngWxXkN9NoYq5QKktvrRgc1s4hF+0IplQJsrDhqoMdY2e9VKZXcbKpDpn2gBzvPwEqp5GZTtiDtA71OPKKUCpJYOMWUBvqaLoBSKqXYWHHUQG/QQc2UUoHRO2OVUipNaI7eIqFhimu6FEqpVJG0c8aKyGkislRECkRklM/zOSLynvP8TBHJdZafIiJzRGSB8/9JwRY/ADbtDaVU0rMxFVxmoBeRTOAZ4HSgO3CxiHSPWu1qYJsxpjMwFhjjLN8MnG2M6QmMBMYFVfCgGLR7pVIqOCVj3dhTi0ykRt8PKDDGrDDGHATeBYZHrTMceN15/AFwsoiIMeYbY8yPzvKFQB0RyQmi4EHSG6aUUkGzJ8wnFujbAGs8f691lvmuY4wpAnYAzaLWOQ+Ya4w5EP0BInKdiOSLSP6mTZsSLXsgjNEcvVIqOOEcvUWRvloaY0WkB6F0zvV+zxtjXjDG5Blj8lq0aFEdRSr57Gr9NKVUyrOw5phIoF8HtPP83dZZ5ruOiGQBjYAtzt9tgX8Clxtjlle2wEHTO2OVUkEq6XVjTzUykUA/G+giIh1FJBsYAYyPWmc8ocZWgPOBKcYYIyKNgQnAKGPMl0EVOmg2tpIrpZKcPXG+7EDv5NxvAiYDi4H3jTELReR+EfmFs9rLQDMRKQBuBdwumDcBnYF7ReRb51/LwL9FJRi0Rq+UCo6FQ92QlchKxpiJwMSoZfd6Hu8HLvB53YPAg5UsY5UymrtRSgXIxl58emdsTRdAKZVSdM5YS9l3/lVKJbtka4xNbTp6pVIqQGnbj95moakElVIqGDbWGzXQW3TWVUolP7cx1qbQooHe2HkGVkolt2Qb1Czl2dgdSimVpLTXjX104hGlVJBsDCca6C066yqlkp+Nvfg00Nd0AZRSKcmmSmTaB3qw8wyslEpOyTp6ZUrToW6UUkGysd6Y9oFekzdKqSDpWDcW0n70SqmqYFGc10APGuiVUsEJ3xlrUZU+7QN9aOIRjfRKqWDYWHHUQG/0himlVPDsqc9roLdqZyilkp/bXduizI0GetDulUqpqmBPpE/7QG8MdibVlFJJycZoooEeO3eMUio5aT96C9nUBUoplfx04hFLaeZGKRU0m+qQGujR1I1SKjg2VhzTPtCHhkCwcM8opZKSjl5pIZt2hlIq+WljrIV0mGKlVFXQQG8ZzdwopYJjX0BJ+0AfqtHbt2OUUskpnLqxKC2sgR7N3SilghNujLUnzicW6EXkNBFZKiIFIjLK5/kcEXnPeX6miOR6nvujs3ypiJwaXNGDYdPOUEqpqlBmoBeRTOAZ4HSgO3CxiHSPWu1qYJsxpjMwFhjjvLY7MALoAZwGPOu8n1W0Qq+UCoqN3bWzElinH1BgjFkBICLvAsOBRZ51hgOjnccfAE9L6NsOB941xhwAfhCRAuf9ZgRT/BJLftrJb9/+ptyvW7NtL73bNQ66OEqpNOWG+V+/NYfaWeWr1w7u1oK7z4yuR1deIoG+DbDG8/daoH+8dYwxRSKyA2jmLP866rVtoj9ARK4DrgNo3759omWPUDsrky6t6pf7dV1a1eeMnq0r9JlKKRXt2PaN+WWfNuwvPFTu17ZqWLsKSpRYoK9yxpgXgBcA8vLyKpQ1z21ej2cvPS7QcimlVHk1q5/Dkxf2ruliREikMXYd0M7zd1tnme86IpIFNAK2JPhapZRSVSiRQD8b6CIiHUUkm1Dj6viodcYDI53H5wNTTGj83/HACKdXTkegCzArmKIrpZRKRJmpGyfnfhMwGcgEXjHGLBSR+4F8Y8x44GVgnNPYupXQyQBnvfcJNdwWATcaY8qfuFJKKVVhYtvEG3l5eSY/P7+mi6GUUklFROYYY/L8nkv7O2OVUirVaaBXSqkUp4FeKaVSnAZ6pZRKcdY1xorIJmBVNX9sc2BzNX9mMtDtEku3SSzdJrFqYpt0MMa08HvCukBfE0QkP15rdTrT7RJLt0ks3SaxbNsmmrpRSqkUp4FeKaVSnAb6kBdqugCW0u0SS7dJLN0msazaJpqjV0qpFKc1eqWUSnEa6JVSKsWlfaAva+LzdCQiK0VkgYh8KyJpO8KciLwiIhtF5DvPsqYi8omILHP+b1KTZaxucbbJaBFZ5xwv34rIGTVZxuomIu1EZKqILBKRhSLye2e5NcdKWgf6BCc+T1dDjDG9beoLXANeIzSpvdco4DNjTBfgM+fvdPIasdsEYKxzvPQ2xkys5jLVtCLgD8aY7sAA4EYnjlhzrKR1oMcz8bkx5iDgTnyuFMaYLwjNr+A1HHjdefw6cE61FqqGxdkmac0Ys94YM9d5vAtYTGhubGuOlXQP9H4Tn8dMXp6GDPCxiMxxJm5XJVoZY9Y7j38CWtVkYSxyk4jMd1I7aZXO8hKRXOBYYCYWHSvpHuiVvxOMMX0IpbRuFJETa7pANnKmy9T+yfAccATQG1gPPFGzxakZIlIf+BC42Riz0/tcTR8r6R7odfJyH8aYdc7/G4F/EkpxqZANItIawPl/Yw2Xp8YZYzYYYw4ZY4qBF0nD40VEahEK8m8ZY/7hLLbmWEn3QJ/IxOdpRUTqiUgD9zEwDPiu9FellfHASOfxSODfNVgWK7jBzHEuaXa8iIgQmjd7sTHmSc9T1hwraX9nrNMV7P9RMvH5QzVcpBolIp0I1eIhNHn82+m6TUTkHWAwoSFnNwD3Af8C3gfaExpO+0JjTNo0TsbZJoMJpW0MsBK43pObTnkicgIwHVgAFDuL7yKUp7fiWEn7QK+UUqku3VM3SimV8jTQK6VUitNAr5RSKU4DvVJKpTgN9EopleI00CulVIrTQK+UUinu/wP9M0zKcGS9oQAAAABJRU5ErkJggg==\n",
                  "text/plain": "<Figure size 432x288 with 1 Axes>"
                },
                "metadata": {
                  "needs_background": "light"
                }
              }
            ],
            "_view_module": "@jupyter-widgets/output",
            "_model_module_version": "1.0.0",
            "_view_count": null,
            "_view_module_version": "1.0.0",
            "layout": "IPY_MODEL_3a706f0dcada4527b769c772f331b498",
            "_model_module": "@jupyter-widgets/output"
          }
        },
        "fec2967dbdae4175abd005e6140c3025": {
          "model_module": "@jupyter-widgets/controls",
          "model_name": "SliderStyleModel",
          "model_module_version": "1.5.0",
          "state": {
            "_view_name": "StyleView",
            "handle_color": null,
            "_model_name": "SliderStyleModel",
            "description_width": "",
            "_view_module": "@jupyter-widgets/base",
            "_model_module_version": "1.5.0",
            "_view_count": null,
            "_view_module_version": "1.2.0",
            "_model_module": "@jupyter-widgets/controls"
          }
        },
        "ed40b3b610c244e7b67ce9b3b8316eb7": {
          "model_module": "@jupyter-widgets/base",
          "model_name": "LayoutModel",
          "model_module_version": "1.2.0",
          "state": {
            "_view_name": "LayoutView",
            "grid_template_rows": null,
            "right": null,
            "justify_content": null,
            "_view_module": "@jupyter-widgets/base",
            "overflow": null,
            "_model_module_version": "1.2.0",
            "_view_count": null,
            "flex_flow": null,
            "width": null,
            "min_width": null,
            "border": null,
            "align_items": null,
            "bottom": null,
            "_model_module": "@jupyter-widgets/base",
            "top": null,
            "grid_column": null,
            "overflow_y": null,
            "overflow_x": null,
            "grid_auto_flow": null,
            "grid_area": null,
            "grid_template_columns": null,
            "flex": null,
            "_model_name": "LayoutModel",
            "justify_items": null,
            "grid_row": null,
            "max_height": null,
            "align_content": null,
            "visibility": null,
            "align_self": null,
            "height": null,
            "min_height": null,
            "padding": null,
            "grid_auto_rows": null,
            "grid_gap": null,
            "max_width": null,
            "order": null,
            "_view_module_version": "1.2.0",
            "grid_template_areas": null,
            "object_position": null,
            "object_fit": null,
            "grid_auto_columns": null,
            "margin": null,
            "display": null,
            "left": null
          }
        },
        "ef2cc43455b94adba339edf453764db0": {
          "model_module": "@jupyter-widgets/controls",
          "model_name": "ButtonStyleModel",
          "model_module_version": "1.5.0",
          "state": {
            "_view_name": "StyleView",
            "_model_name": "ButtonStyleModel",
            "_view_module": "@jupyter-widgets/base",
            "_model_module_version": "1.5.0",
            "_view_count": null,
            "button_color": null,
            "font_weight": "",
            "_view_module_version": "1.2.0",
            "_model_module": "@jupyter-widgets/controls"
          }
        },
        "a3149c47d6cb4edba6dfd96b9840c6d0": {
          "model_module": "@jupyter-widgets/base",
          "model_name": "LayoutModel",
          "model_module_version": "1.2.0",
          "state": {
            "_view_name": "LayoutView",
            "grid_template_rows": null,
            "right": null,
            "justify_content": null,
            "_view_module": "@jupyter-widgets/base",
            "overflow": null,
            "_model_module_version": "1.2.0",
            "_view_count": null,
            "flex_flow": null,
            "width": null,
            "min_width": null,
            "border": null,
            "align_items": null,
            "bottom": null,
            "_model_module": "@jupyter-widgets/base",
            "top": null,
            "grid_column": null,
            "overflow_y": null,
            "overflow_x": null,
            "grid_auto_flow": null,
            "grid_area": null,
            "grid_template_columns": null,
            "flex": null,
            "_model_name": "LayoutModel",
            "justify_items": null,
            "grid_row": null,
            "max_height": null,
            "align_content": null,
            "visibility": null,
            "align_self": null,
            "height": null,
            "min_height": null,
            "padding": null,
            "grid_auto_rows": null,
            "grid_gap": null,
            "max_width": null,
            "order": null,
            "_view_module_version": "1.2.0",
            "grid_template_areas": null,
            "object_position": null,
            "object_fit": null,
            "grid_auto_columns": null,
            "margin": null,
            "display": null,
            "left": null
          }
        },
        "3a706f0dcada4527b769c772f331b498": {
          "model_module": "@jupyter-widgets/base",
          "model_name": "LayoutModel",
          "model_module_version": "1.2.0",
          "state": {
            "_view_name": "LayoutView",
            "grid_template_rows": null,
            "right": null,
            "justify_content": null,
            "_view_module": "@jupyter-widgets/base",
            "overflow": null,
            "_model_module_version": "1.2.0",
            "_view_count": null,
            "flex_flow": null,
            "width": null,
            "min_width": null,
            "border": null,
            "align_items": null,
            "bottom": null,
            "_model_module": "@jupyter-widgets/base",
            "top": null,
            "grid_column": null,
            "overflow_y": null,
            "overflow_x": null,
            "grid_auto_flow": null,
            "grid_area": null,
            "grid_template_columns": null,
            "flex": null,
            "_model_name": "LayoutModel",
            "justify_items": null,
            "grid_row": null,
            "max_height": null,
            "align_content": null,
            "visibility": null,
            "align_self": null,
            "height": null,
            "min_height": null,
            "padding": null,
            "grid_auto_rows": null,
            "grid_gap": null,
            "max_width": null,
            "order": null,
            "_view_module_version": "1.2.0",
            "grid_template_areas": null,
            "object_position": null,
            "object_fit": null,
            "grid_auto_columns": null,
            "margin": null,
            "display": null,
            "left": null
          }
        }
      }
    }
  },
  "cells": [
    {
      "cell_type": "markdown",
      "metadata": {
        "id": "view-in-github",
        "colab_type": "text"
      },
      "source": [
        "<a href=\"https://colab.research.google.com/github/MontiMic/Tesi/blob/riordinato/Untitled1.ipynb\" target=\"_parent\"><img src=\"https://colab.research.google.com/assets/colab-badge.svg\" alt=\"Open In Colab\"/></a>"
      ]
    },
    {
      "cell_type": "markdown",
      "source": [
        "# Introduzione\n",
        "La seguente presentazione si propone di semplificare l'apprendimento di alcuni principi del calcolo probabilistico offrendo la possibilità di vedere applicare le leggi su grandi numeri e confrontando i risultati ottenuti con quelli attesi dalla teoria."
      ],
      "metadata": {
        "id": "yyLelI9l5lbc"
      }
    },
    {
      "cell_type": "markdown",
      "source": [
        "Di seguito includiamo le librerie che verranno utilizzate nel corso della presentazione:\n",
        "\n",
        "* **numpy** per la manipolazione dei dati\n",
        "\n",
        "* **interact** per rendere la presentazione interattiva offrendo la possibilità allo studente di scegliere gli input\n",
        "\n",
        "* **pyplot** per la rappresentazione grafica dei risultati"
      ],
      "metadata": {
        "id": "35yCw13F7Yam"
      }
    },
    {
      "cell_type": "code",
      "execution_count": 55,
      "metadata": {
        "id": "TAxUPZupC-qR"
      },
      "outputs": [],
      "source": [
        "import numpy as np\n",
        "from ipywidgets import interact, interact_manual\n",
        "from matplotlib import pyplot as plt\n",
        "import math\n",
        "import seaborn as sns\n",
        "import random"
      ]
    },
    {
      "cell_type": "markdown",
      "source": [
        "##Elementi di python"
      ],
      "metadata": {
        "id": "XN5Whz1Y9fiZ"
      }
    },
    {
      "cell_type": "markdown",
      "source": [
        "Questa sezione è rivolta unicamente a chi non avesse ancora mai visto il python, allo scopo di mostrare alcune pratiche peculiari a Python."
      ],
      "metadata": {
        "id": "yHNFMDrk9pHX"
      }
    },
    {
      "cell_type": "markdown",
      "source": [
        "La funzione np.zeros(n) restituisce un array di zeri lungo n"
      ],
      "metadata": {
        "id": "kXZd8nfHDkHj"
      }
    },
    {
      "cell_type": "code",
      "source": [
        "np.zeros(5)"
      ],
      "metadata": {
        "colab": {
          "base_uri": "https://localhost:8080/"
        },
        "id": "Pukdrzg7-ggY",
        "outputId": "f208c924-ae01-4eb4-db8b-8acdd37c8a41"
      },
      "execution_count": null,
      "outputs": [
        {
          "output_type": "execute_result",
          "data": {
            "text/plain": [
              "array([0., 0., 0., 0., 0.])"
            ]
          },
          "metadata": {},
          "execution_count": 170
        }
      ]
    },
    {
      "cell_type": "markdown",
      "source": [
        "Specificando anche il type booleano facciamo una conversione: \n",
        "\n",
        "*  Gli zeri diventano False\n",
        "\n",
        "* I valori diversi da zero diventano True"
      ],
      "metadata": {
        "id": "VyLCyWeYDvuh"
      }
    },
    {
      "cell_type": "code",
      "source": [
        "esempio = np.zeros(10, dtype=np.bool)\n",
        "print(esempio)"
      ],
      "metadata": {
        "colab": {
          "base_uri": "https://localhost:8080/"
        },
        "id": "lO-15LDEDZEP",
        "outputId": "edf281f7-e14e-4bb1-db54-220f7faf28a6"
      },
      "execution_count": null,
      "outputs": [
        {
          "output_type": "stream",
          "name": "stdout",
          "text": [
            "[False False False False False False False False False False]\n"
          ]
        }
      ]
    },
    {
      "cell_type": "markdown",
      "source": [
        "Useremo questo tipo di struttura dati per simulare praticamente tutto, dalla roulette (True = rosso, False = nero) ad un urna di palline (quando ci basteranno 2 soli colori delle palline)"
      ],
      "metadata": {
        "id": "t-fqP7KSEIUu"
      }
    },
    {
      "cell_type": "markdown",
      "source": [
        "Questa struttura dati ci offre inol"
      ],
      "metadata": {
        "id": "YS53XnBHNuxD"
      }
    },
    {
      "cell_type": "markdown",
      "source": [
        "Per modificare un array il python ci offre uno strumento molto potente: lo slicing. Questa funzionalità permette di intervenire su un qualunque sottoinsieme dell'array se usata correttamente. A noi basta sapere che in un caso come esempio[1:5:2], stiamo intervenendo sull'array esempio, prendendo gli elementi dalla posizione 1 (inclusa) alla posizione 5 (esclusa) con passo 2:"
      ],
      "metadata": {
        "id": "OEyj-K9iEeQa"
      }
    },
    {
      "cell_type": "code",
      "source": [
        "esempio = ['a', 'b', 'c', 'd', 'e']\n",
        "esempio[1:5:2]"
      ],
      "metadata": {
        "colab": {
          "base_uri": "https://localhost:8080/"
        },
        "id": "48oF9noGF3Np",
        "outputId": "17682c17-9d21-4676-9020-255d455806cc"
      },
      "execution_count": null,
      "outputs": [
        {
          "output_type": "execute_result",
          "data": {
            "text/plain": [
              "['b', 'd']"
            ]
          },
          "metadata": {},
          "execution_count": 172
        }
      ]
    },
    {
      "cell_type": "markdown",
      "source": [
        "Non specificare il primo parametro significa partire dall'elemento 0, omettere il secondo significa procedere fino all'ultimo (compreso) e non specificare il passo significa passo 1: non saltare nessun elemento."
      ],
      "metadata": {
        "id": "Rm-4oAaOGvIL"
      }
    },
    {
      "cell_type": "markdown",
      "source": [
        "La funzione range(n) restituisce un iterabile lungo n. In python è generalmente usata nel ciclo for."
      ],
      "metadata": {
        "id": "b6PzabLwIH1d"
      }
    },
    {
      "cell_type": "code",
      "source": [
        "for i in range(5):\n",
        "  print(i)"
      ],
      "metadata": {
        "colab": {
          "base_uri": "https://localhost:8080/"
        },
        "id": "fdFx5oZPIaf5",
        "outputId": "a152933e-b3c3-43c6-b832-41c71d0bd939"
      },
      "execution_count": null,
      "outputs": [
        {
          "output_type": "stream",
          "name": "stdout",
          "text": [
            "0\n",
            "1\n",
            "2\n",
            "3\n",
            "4\n"
          ]
        }
      ]
    },
    {
      "cell_type": "markdown",
      "source": [
        "##Funzioni utili"
      ],
      "metadata": {
        "id": "UdZaaBfKzjzX"
      }
    },
    {
      "cell_type": "markdown",
      "source": [
        "Quelle che seguono sono funzioni utilizzate in più test del documento, per il corretto funzionamento dei test successivi è necessario eseguire queste celle una volta."
      ],
      "metadata": {
        "id": "iZFqSjhypj_Y"
      }
    },
    {
      "cell_type": "code",
      "source": [
        "#funzione che genera una roulette simulata da un array lungo 37 di cui 18 valori contano come \"vittoria\"\n",
        "def mk_roulette():\n",
        "  ruota = np.zeros(37, dtype=np.bool)\n",
        "  ruota[1::2] = True\n",
        "  return ruota"
      ],
      "metadata": {
        "id": "4LJOZHxd810N"
      },
      "execution_count": null,
      "outputs": []
    },
    {
      "cell_type": "code",
      "source": [
        "#funzione che simula una singola partita alla roulette (1 o più puntate uguali) e, dato il portafogli di partenza, torno il nuovo conto\n",
        "def partita(ruota, giocate, puntata, portafogli):\n",
        "  while(giocate > 0):\n",
        "      giocate = giocate - 1\n",
        "      portafogli = portafogli - puntata #la puntata la considero sempre persa, in caso di vittoria vinco il doppio della puntata\n",
        "      if(ruota[np.random.randint(0, (37))]): #estraggo un elemento casuale della roulette e verifico se è rosso\n",
        "        portafogli = portafogli + (puntata * 2)\n",
        "  return portafogli  "
      ],
      "metadata": {
        "id": "fqGFfq_CT7Tv"
      },
      "execution_count": null,
      "outputs": []
    },
    {
      "cell_type": "code",
      "source": [
        "#funzione che simula un dado ritornando un intero compreso tra 1 e 6\n",
        "def trow():\n",
        "  return np.random.randint(1, 7)"
      ],
      "metadata": {
        "id": "O7NiHEewS99d"
      },
      "execution_count": null,
      "outputs": []
    },
    {
      "cell_type": "code",
      "source": [
        "#funzione che ritorna un'urna contenente palline di 2 colori in quanità scelta\n",
        "def mk_urna(bianche, rosse):\n",
        "  tot = bianche + rosse\n",
        "  urna = np.zeros((tot, 1), dtype=np.bool)\n",
        "  while(rosse > 0):\n",
        "    rnd = np.random.randint(0, (tot))\n",
        "    if (not urna[rnd]):\n",
        "      urna[rnd] = True\n",
        "      rosse = rosse - 1\n",
        "  return urna"
      ],
      "metadata": {
        "id": "R06bqIr8Ii4G"
      },
      "execution_count": null,
      "outputs": []
    },
    {
      "cell_type": "markdown",
      "source": [
        "##Interpretazione dei risultati"
      ],
      "metadata": {
        "id": "EbFr-wXap_mS"
      }
    },
    {
      "cell_type": "markdown",
      "source": [
        "I test di questo documento hanno lo scopo di mostrare che le formule viste con la teoria del calcolo probabilistico hanno un riscontro nella realtà. \n",
        "Ogni test simulerà per un numero di volte a discrezione dello studente, lo scenario descritto dall'esempio in esame. Si noti che un numero più alto di ripetizioni porterà a risultati più precisi."
      ],
      "metadata": {
        "id": "Mp5-2IqZqDex"
      }
    },
    {
      "cell_type": "code",
      "source": [
        "def moneta(lanci):\n",
        "  results = []\n",
        "  for i in range(lanci): #lanciamo la moneta tante volte quante indicate dal parametro \"lanci\"\n",
        "    results.append(np.random.randint(2))\n",
        "  #grafico\n",
        "  labels = []\n",
        "  normalized = []\n",
        "  normalized.append(round(((results.count(0) / lanci) * 100), 2)) #conto le istanze dei risultati e le normalizzo\n",
        "  normalized.append(round(100 - sum(normalized), 2)) #per evitare che per errori di arrotondamento la somma dei risultati sia 99.9%, l'ultimo risultato lo calcolo come 100 - (la somma dei precedenti)\n",
        "  for i in range(len(normalized)):\n",
        "    labels.append(str(normalized[i]) + \"%\") # aggiungo le labels (i valori riportati all'esterno del grafico)\n",
        "  plt.pie(normalized, labels=labels)\n",
        "  legenda = [\"Testa\", \"Croce\"]\n",
        "  plt.legend(legenda,loc='upper center', bbox_to_anchor=(0.5, -0.05), fancybox=True, shadow=True, ncol=5)"
      ],
      "metadata": {
        "id": "pZxUQQ-_rGuz"
      },
      "execution_count": null,
      "outputs": []
    },
    {
      "cell_type": "code",
      "source": [
        "moneta(100)"
      ],
      "metadata": {
        "id": "7rynuIn1ubs4",
        "outputId": "22175c6d-6b15-4147-8a1d-1a9d1e91305e",
        "colab": {
          "base_uri": "https://localhost:8080/",
          "height": 282
        }
      },
      "execution_count": null,
      "outputs": [
        {
          "output_type": "display_data",
          "data": {
            "image/png": "[encoded data removed]",
            "text/plain": [
              "<Figure size 432x288 with 1 Axes>"
            ]
          },
          "metadata": {}
        }
      ]
    },
    {
      "cell_type": "code",
      "source": [
        "moneta(10_000)"
      ],
      "metadata": {
        "id": "E6dWQdxUud7o",
        "outputId": "e6ec2588-f9d4-4e2a-e1e3-bcf3c51219cf",
        "colab": {
          "base_uri": "https://localhost:8080/",
          "height": 282
        }
      },
      "execution_count": null,
      "outputs": [
        {
          "output_type": "display_data",
          "data": {
            "image/png": "[encoded data removed]",
            "text/plain": [
              "<Figure size 432x288 with 1 Axes>"
            ]
          },
          "metadata": {}
        }
      ]
    },
    {
      "cell_type": "code",
      "source": [
        "moneta(1_000_000)"
      ],
      "metadata": {
        "id": "uNmo8_dXugoY",
        "outputId": "d387300d-3b99-45a9-bce6-18643c22b68a",
        "colab": {
          "base_uri": "https://localhost:8080/",
          "height": 282
        }
      },
      "execution_count": null,
      "outputs": [
        {
          "output_type": "display_data",
          "data": {
            "image/png": "[encoded data removed]",
            "text/plain": [
              "<Figure size 432x288 with 1 Axes>"
            ]
          },
          "metadata": {}
        }
      ]
    },
    {
      "cell_type": "markdown",
      "source": [
        "Per un buon equilibrio tra accuratezza dei risultati e tempo di esecuzione impostiamo il numero di ripetizioni a 100 000 con la variabile \"precisione\"."
      ],
      "metadata": {
        "id": "0_jUagMkw72N"
      }
    },
    {
      "cell_type": "code",
      "source": [
        "precisione = 100_000"
      ],
      "metadata": {
        "id": "7YqOeAMoxunS"
      },
      "execution_count": 4,
      "outputs": []
    },
    {
      "cell_type": "markdown",
      "source": [
        "Si lascia allo studente la possibilità di incrementare questa variabile se desiderasse dei risultati più precisi."
      ],
      "metadata": {
        "id": "uH7_BXdBxvvq"
      }
    },
    {
      "cell_type": "markdown",
      "source": [
        "# Variabili aleatorie discrete"
      ],
      "metadata": {
        "id": "gQTrf-PK7FxE"
      }
    },
    {
      "cell_type": "markdown",
      "source": [
        "Una variabile aleatoria _X_ si dice discreta se i valori che assume sono finiti oppure numerabili.\n",
        "\n",
        "Nel caso siano numerabili molto spesso potremo pensare che siano semplicmente i numeri interi, ma non vogliamo escludere anche casi in cui abbiamo dei valori non interi."
      ],
      "metadata": {
        "id": "f7tQYrZgLgm2"
      }
    },
    {
      "cell_type": "markdown",
      "source": [
        "##Esempio 1.1 \n",
        "Faccio 3 puntate sul rosso alla roulette puntando 10 euro per volta, qual è la probabilità di vincere più di un certo valore _X_?\n",
        "\n",
        "(Le vincite possibili sono valori finiti ed è quindi una variabile discreta)"
      ],
      "metadata": {
        "id": "wO2wYqZ-DSZF"
      }
    },
    {
      "cell_type": "code",
      "source": [
        "@interact_manual(vincita=(0, 30))\n",
        "def roulette(vincita=5):\n",
        "  giocate = 3\n",
        "  puntata = 10\n",
        "  ruota = mk_roulette()\n",
        "  count = 0\n",
        "  for i in range(precisione):\n",
        "    portafogli = giocate * puntata\n",
        "    portafogli = partita(ruota, giocate, puntata, portafogli) #il portafogli viene aggiornato dopo aver simulato una partita\n",
        "    if((portafogli - 30) >= vincita): #se ho finito le 3 puntate con una vincita maggiore o uguale a quella sperata la aggiungo al conteggio\n",
        "      count = count + 1\n",
        "  return round(count / precisione, 3)"
      ],
      "metadata": {
        "colab": {
          "base_uri": "https://localhost:8080/",
          "height": 81,
          "referenced_widgets": [
            "cf21774c350a476aa2db5ebc76b459ba",
            "aaaae5ff97184c688d294fd685bc5677",
            "e3dc66b1768842d2bb3aa03bc35cc0fd",
            "c73236bd027645f4808aa7c58a68a9d5",
            "c0566d89eda64723a3ed48d048b6f3e3",
            "8c90f56ac1a04256a74d90768a5142db",
            "069d286f0b864c25a49ee98b30cdb951",
            "750b094c35a249339a310f0c17b8fceb",
            "ef18555fd4b14019a79c4d4940137d63",
            "b9c750a4ea5a46c4b90e748b03133e46"
          ]
        },
        "id": "w2ugmhMy_cfa",
        "outputId": "cfa85f2d-9fdb-4fbb-b82f-9f267b4b09b0"
      },
      "execution_count": null,
      "outputs": [
        {
          "output_type": "display_data",
          "data": {
            "application/vnd.jupyter.widget-view+json": {
              "model_id": "cf21774c350a476aa2db5ebc76b459ba",
              "version_minor": 0,
              "version_major": 2
            },
            "text/plain": [
              "interactive(children=(IntSlider(value=5, description='vincita', max=30), Button(description='Run Interact', st…"
            ]
          },
          "metadata": {}
        }
      ]
    },
    {
      "cell_type": "markdown",
      "source": [
        "##Esempio 1.2\n",
        "Dati il numero di puntate ed i soldi scommessi ogni volta, quanto mi dovrei aspettare di aver vinto alla fine? (risultato in euro)"
      ],
      "metadata": {
        "id": "tTOcRD2kD_zf"
      }
    },
    {
      "cell_type": "code",
      "source": [
        "@interact_manual(giocate=(1, 10), puntata=(5, 100, 5))\n",
        "def roulette(giocate = 3, puntata = 10):\n",
        "  portafogli = giocate * puntata * precisione\n",
        "  ruota = mk_roulette()\n",
        "  for i in range(precisione):\n",
        "    portafogli = partita(ruota, giocate, puntata, portafogli)\n",
        "  portafogli = portafogli / precisione\n",
        "  return round(portafogli - (giocate * puntata), 2)"
      ],
      "metadata": {
        "colab": {
          "base_uri": "https://localhost:8080/",
          "height": 113,
          "referenced_widgets": [
            "55209b43be0c4784a96adee14acade08",
            "bc73e34ddae743e9a93774594365ef40",
            "54ea807e174047a4bf074df69daa1a4f",
            "85f8fcffed224e37b72d434fd6ef0582",
            "a7f0848a74414f83929b10454d0e7fc8",
            "f17703deb7c5492caf894dc5bfa73996",
            "46a2807e4782442186e96cc2ff2c729f",
            "57b34406a15744af8281350d45d6fc14",
            "866e48ff68114a469dd16948536eafd3",
            "5bcb8d9d73f7404183416cb83a9ba020",
            "11cf8db53baf497fae28bde8c073d376",
            "7f81500905dc4aec9740fd07b9023a74",
            "96ae9c6394264a79a70b21714f4a9920"
          ]
        },
        "id": "TR8QkEnHD-B2",
        "outputId": "90782af4-4a0f-425e-fd6a-f738c67320bc"
      },
      "execution_count": null,
      "outputs": [
        {
          "output_type": "display_data",
          "data": {
            "application/vnd.jupyter.widget-view+json": {
              "model_id": "55209b43be0c4784a96adee14acade08",
              "version_minor": 0,
              "version_major": 2
            },
            "text/plain": [
              "interactive(children=(IntSlider(value=3, description='giocate', max=10, min=1), IntSlider(value=10, descriptio…"
            ]
          },
          "metadata": {}
        }
      ]
    },
    {
      "cell_type": "markdown",
      "source": [
        "# Distribuzione uniforme e non uniforme"
      ],
      "metadata": {
        "id": "qBnKgfwaLT9x"
      }
    },
    {
      "cell_type": "markdown",
      "source": [
        "Sia _A_ = {_x1_, . . . , _xn_}; una variabile _X_ che assume i valori in _A_ tutti con la stessa probabilità $\\frac{1}{n}$\n",
        "si dice _variabile uniforme_ su _A_. Scriviamo in questo caso _X_ ∼ _U_(_A_) oppure _X_ ∼ _U_(_x1_, . . . , _xn_).\n",
        "La densità è quindi:\n",
        "\n",
        "\\begin{equation}\n",
        "  px(h) =\n",
        "    \\begin{cases}\n",
        "           \\frac{1}{n} \\ se \\  h  \\ ∈ \\ ({x1}, {x2}, ..., {xn})\n",
        "          \\\\\n",
        "          0 \\ altrimenti\n",
        "        \\end{cases}\n",
        "\\end{equation}"
      ],
      "metadata": {
        "id": "GUQzPwZ8NK0Q"
      }
    },
    {
      "cell_type": "markdown",
      "source": [
        "##Esempio 2.1 \n",
        "Nel lancio di un dado sia Ω = {1, 2, 3, 4, 5, 6} l’insieme dei possibili risultati.\n",
        "Allora la funzione _X_(_n_) = n per ogni n ∈ Ω è una variabile aleatoria uniforme _X_ ∼ _U_(1, 2, 3, 4, 5, 6).\n"
      ],
      "metadata": {
        "id": "HJrqw0EbXj2l"
      }
    },
    {
      "cell_type": "code",
      "source": [
        "def dice():\n",
        "  results = []\n",
        "  for i in range(precisione):\n",
        "    results.append(trow()) #aggiungo il risultato del tiro alla lista dei risultati\n",
        "  #grafico\n",
        "  elem_count = []\n",
        "  labels = []\n",
        "  for i in range(len(set(results))): #conto le istanze di ogni risultato ottenuto ed aggiungo i totali a elem_count, poi lo metto a grafico\n",
        "    elem_count.append(results.count(i+1))\n",
        "    labels.append(str(i+1))\n",
        "  plt.bar(labels, elem_count)\n",
        "dice()"
      ],
      "metadata": {
        "colab": {
          "base_uri": "https://localhost:8080/",
          "height": 264
        },
        "id": "pO1ExmtATCeI",
        "outputId": "ca58def4-8619-46d5-dd58-7156dc0adec8"
      },
      "execution_count": null,
      "outputs": [
        {
          "output_type": "display_data",
          "data": {
            "image/png": "[encoded data removed]",
            "text/plain": [
              "<Figure size 432x288 with 1 Axes>"
            ]
          },
          "metadata": {
            "needs_background": "light"
          }
        }
      ]
    },
    {
      "cell_type": "markdown",
      "source": [
        "##Esempio 2.2\n",
        "Se invece lanciassimo due dadi, la variabile _X_ che assume un valore corrispondente al numero di risultati pari ottenuti dal lancio sarebbe una _variabile non uniforme_ siccome la sua densità sarebbe:\n",
        "\n",
        "\\begin{equation}\n",
        "  py(h) =\n",
        "    \\begin{cases}\n",
        "          \\frac{1}{4} \\  h={0},{2}\n",
        "          \\\\\n",
        "          \\frac{1}{2} \\ h={1}\n",
        "          \\\\\n",
        "          0 \\ altrimenti\n",
        "        \\end{cases}\n",
        "\\end{equation}"
      ],
      "metadata": {
        "id": "BZUNA1OvaQp6"
      }
    },
    {
      "cell_type": "code",
      "source": [
        "def even_dices():\n",
        "  results = []\n",
        "  for i in range(precisione):\n",
        "    a, b = trow(), trow() #lancio due dadi, poi conterò quanti sono pari per aggiungere il risultato alla lista\n",
        "    results.append(2-((a % 2)+(b % 2))) #conto i dadi pari come due meno i dadi dispari (n%2 = 1 per n dispari, 0 altrimenti)\n",
        "  valori = []\n",
        "  normalized = []\n",
        "  for i in range(3): #conto le istanze dei risultati e le divido per il numero di risultati totale (normalizzo)\n",
        "    normalized.append(results.count(i) / len(results)) #len(results) torna la lunghezza della lista results\n",
        "    valori.append(\"k=\" + str(i))\n",
        "  plt.pie(normalized, labels=valori)\n",
        "even_dices()"
      ],
      "metadata": {
        "colab": {
          "base_uri": "https://localhost:8080/",
          "height": 247
        },
        "id": "Ly_UKZkxZr2J",
        "outputId": "63059631-fd84-441a-b191-096ba75e0405"
      },
      "execution_count": null,
      "outputs": [
        {
          "output_type": "display_data",
          "data": {
            "image/png": "[encoded data removed]",
            "text/plain": [
              "<Figure size 432x288 with 1 Axes>"
            ]
          },
          "metadata": {}
        }
      ]
    },
    {
      "cell_type": "markdown",
      "source": [
        "#Densità binomiale"
      ],
      "metadata": {
        "id": "qimeQspadWgq"
      }
    },
    {
      "cell_type": "markdown",
      "source": [
        "Consideriamo un fenomeno aleatorio e un certo evento ad esso associato. Per semplicità diciamo che se l’evento si realizza otteniamo un “successo”, viceversa che abbiamo ottenuto un “insuccesso\".\n",
        "Uno schema successo-insuccesso consiste nel ripetere questo fenomeno un certo fissato numero di volte, dette anche prove o tentativi, in cui siamo interessati unicamente al numero di successi ottenuti\n",
        "nelle varie prove.\n",
        "Supponiamo ora che le prove siano indipendenti l’una dall’altra, cioè vengono effettuate tuttevnelle medesime condizioni, indipendentemente dal risultato delle prove precedenti: parliamo in questo caso di schema successo-insuccesso con ripetizione o a prove indipendenti. Consideriamo\n",
        "quindi la variabile X data dal numero di successi in n tentativi.\n",
        "Nel caso in cui le prove siano indipendenti l’una dall’altra, la probabilità di ottenere una certa prefissata sequenza di successi e insuccessi dipende solo dal numero di questi ultimi e non dall’ordine con cui vogliamo che si succedano. La probabilità di ottenere una sequenza fissata in cui abbiamo k successi e n − k insuccessi è data da\n",
        "$p^k(1-p)^{n-k}$, dove p è la probabilità che ogni singolo tentativo abbia successo. Siccome i modi in cui possiamo scegliere le k posizioni per i successi sono date da ${n\\choose k}$ otteniamo per la variabile X la densità data da\n",
        "\n",
        "\\begin{equation}\n",
        "  px(k) =\n",
        "    \\begin{cases}\n",
        "          {n\\choose k} p^k(1-p)^{n-k} \\ se \\ k=1,2,...,n\n",
        "          \\\\\n",
        "          0 \\ altrimenti\n",
        "        \\end{cases}\n",
        "\\end{equation}\n",
        "\n",
        "\n",
        "Scriveremo in questo caso _X_ ∼ _B_(_n_, _p_) e diciamo che _X_ è una variabile binomiale."
      ],
      "metadata": {
        "id": "OUh7jiOk7WSD"
      }
    },
    {
      "cell_type": "markdown",
      "source": [
        "##Esempio 3.1\n",
        "\n",
        "Supponiamo di andare al casinò con 15 Euro e puntiamo 3 volte 5 Euro alla roulette sul rosso. Consideriamo la variabile aleatoria X data dai soldi che abbiamo in tasca alla fine delle 3 puntate. La probabilità di ottenere un numero rosso è di $\\frac{18}{37}$ ad ogni tentativo.\n",
        "Determinare la densità di X.\n",
        "La variabile X può assumere i valori 30, 20, 10, 0 a seconda di quanti rossi sono usciti. Abbiamo:\n",
        "\n",
        "P(X = 30) = $(\\frac{18}{37})^3$ = 0,115\n",
        "\n",
        "P(X = 20) = ${3\\choose 1}(\\frac{18}{37})^2 · \\frac{19}{37}$= 0, 365\n",
        "\n",
        "P(X = 10) = ${3\\choose 2}(\\frac{18}{37}) · (\\frac{19}{37})^2$ = 0,385\n",
        "\n",
        "P(X = 0) = $(\\frac{19}{37})^3$ = 0,135\n"
      ],
      "metadata": {
        "id": "O8PjzahWhrRr"
      }
    },
    {
      "cell_type": "code",
      "source": [
        "@interact_manual(giocate=(1, 6), puntata=(5, 100, 5))\n",
        "def roulette(giocate = 3, puntata = 5):\n",
        "  ruota = mk_roulette()\n",
        "  results = []\n",
        "  for i in range(precisione):\n",
        "    portafogli = giocate * puntata\n",
        "    portafogli = partita(ruota, giocate, puntata, portafogli)\n",
        "    results.append(portafogli)\n",
        "  #grafico\n",
        "  normalized = []\n",
        "  valori = []\n",
        "  for i in range(giocate):\n",
        "    normalized.append(round(((results.count(puntata*2*i) / precisione) * 100), 2)) #conto le istanze dei risultati e le normalizzo\n",
        "  normalized.append(round(100 - sum(normalized), 2)) #per evitare che per errori di arrotondamento la somma dei risultati sia 99.9%, l'ultimo risultato lo calcolo come 100 - (la somma dei precedenti)\n",
        "  labels = []\n",
        "  for i in range(len(normalized)):\n",
        "    labels.append(str(normalized[i]) + \"%\") # aggiungo le labels (i valori riportati all'esterno del grafico)\n",
        "  plt.pie(normalized, labels=labels)\n",
        "  legenda = []\n",
        "  for i in range(len(normalized)):\n",
        "    legenda.append(str(puntata*2*i))\n",
        "  plt.legend(legenda,loc='upper center', bbox_to_anchor=(0.5, -0.05), fancybox=True, shadow=True, ncol=5)"
      ],
      "metadata": {
        "id": "QDB96jXivO40",
        "outputId": "cfcdfd0f-ea22-4579-955e-a8f9c92cc557",
        "colab": {
          "base_uri": "https://localhost:8080/",
          "height": 113,
          "referenced_widgets": [
            "631b43261a94463d89558ab368c94de3",
            "ce439b3daa2847038f023ab175b290a2",
            "76b65a608a20492999208ed83bb81bdf",
            "c1402de1d0314e08b890a10483595187",
            "3307fcc76b9d4e87a65bdd2f63dc9ff6",
            "6148b91358f24feba4594619531b4f67",
            "f5c74b856f27411996f292243cccb88e",
            "61b2041ec3e04bfb97b6c4049dd04f53",
            "b750fd4b26f04172b162b1606bb54b98",
            "c2132949e9b2432bad7545330d9e6133",
            "d6a319d6bc03464a959eff61cfecf334",
            "f8d3604e960c4658bba1f240a892ccf2",
            "8f7ad2b42d694ffeaa6356e99553e431"
          ]
        }
      },
      "execution_count": null,
      "outputs": [
        {
          "output_type": "display_data",
          "data": {
            "application/vnd.jupyter.widget-view+json": {
              "model_id": "631b43261a94463d89558ab368c94de3",
              "version_minor": 0,
              "version_major": 2
            },
            "text/plain": [
              "interactive(children=(IntSlider(value=3, description='giocate', max=6, min=1), IntSlider(value=5, description=…"
            ]
          },
          "metadata": {}
        }
      ]
    },
    {
      "cell_type": "markdown",
      "source": [
        "# Densità ipergeometrica"
      ],
      "metadata": {
        "id": "9PjQr8MmCUYu"
      }
    },
    {
      "cell_type": "markdown",
      "source": [
        "\n",
        "Un altro tipo di schema successo-insuccesso è il cosiddetto schema successo-insuccesso _senza ripetizione_. In questo caso il fenomeno aleatorio consiste nell’estrazione di n palline, senza rimpiazzare di volta in volta la pallina estratta, da un'urna contenente b palline bianche e r palline rosse.\n",
        "Diciamo che la prova (estrazione) dà successo se viene estratta una pallina bianca e consideriamo la variabile X data dal numero di successi ottenuti, cioè dal numero di palline bianche estratte.\n",
        "\n",
        "\n",
        "Osserviamo che X può assumere tutti i valori tra max(0, n − r) e min(n, b): infatti se n > r siamo sicuri di pescare almeno n−r palline bianche e chiaramente il numero di bianche estratte non può superare nè il numero estrazioni nè il numero di palline bianche.\n",
        "\n",
        "Lo spazio Ω è dato da tutti i possibili sottoinsiemi di n oggetti (le palline estratte) scelti da un insieme di b + r oggetti (le palline\n",
        "disponibili), con probabilità uniforme. L’evento “X = k” è dato quindi da tutti i sottoinsiemi delle b + r palline costituiti da k palline bianche e n − k palline rosse. Le k bianche le posso scegliere in ${b\\choose k}$ modi. Le n − k rosse in ${r \\choose {n - k}}$ modi. Abbiamo quindi che la densità di X è data da\n",
        "\n",
        "\\begin{equation}\n",
        "  px(k) =\n",
        "    \\begin{cases}\n",
        "          \\frac{{b \\choose k} · {r \\choose n - k}}{b + r \\choose n} \\ se \\ k=max(0, n-r),...,min(n,b)\n",
        "          \\\\\n",
        "          0 \\ altrimenti\n",
        "        \\end{cases}\n",
        "\\end{equation}\n",
        "\n",
        "Scriviamo in questo caso X ∼ H(n; b, r) e diciamo che X è una variabile ipergeometrica."
      ],
      "metadata": {
        "id": "OnLdbdQjCbyl"
      }
    },
    {
      "cell_type": "markdown",
      "source": [
        "##Esempio 4.1\n",
        "Un’urna contiene 8 palline bianche e 2 rosse. Ne estraiamo 3 senza rimpiazzo.\n",
        "Qual è la probabilità di estrarne al più una rossa? In questo caso, a differenza del precedente abbiamo che la variabile X = numero di rosse estratte è una ipergeometrica X ∼ H(3; 2, 8) per\n",
        "cui\n",
        "\n",
        "P(_X_ ≤ 1) = P(_X_ = 0) + P(_X_ = 1) = $\\frac{{2 \\choose 0}·{8 \\choose 3}}{10 \\choose 3}$ + $\\frac{{2 \\choose 1}·{8 \\choose 2}}{10 \\choose 3}$ = $\\frac{14}{15}$ = 0.933"
      ],
      "metadata": {
        "id": "mqqc2UiZGaIY"
      }
    },
    {
      "cell_type": "code",
      "source": [
        "@interact_manual(estrazioni=(1, 10))\n",
        "def ipergeometrica(estrazioni=3):\n",
        "  bianche = 8\n",
        "  rosse = 2\n",
        "  urna = mk_urna(bianche, rosse)\n",
        "  results = 0\n",
        "  for i in range(precisione):\n",
        "    tmp = urna\n",
        "    count = 0\n",
        "    for i in range(estrazioni):\n",
        "      extr = np.random.randint(0, ((bianche + rosse)-i))\n",
        "      if(tmp[extr]):\n",
        "        count = count + 1\n",
        "      tmp = np.delete(tmp, extr)\n",
        "    if(count < 2):\n",
        "      results = results + 1  \n",
        "  return round(results / precisione, 3)"
      ],
      "metadata": {
        "id": "R0SjK_tkMtDv",
        "colab": {
          "base_uri": "https://localhost:8080/",
          "height": 81,
          "referenced_widgets": [
            "81a27c3194604ecd8ea6d5473e62cdd3",
            "acf24df08a66470fad84e130bf791236",
            "e5489c2c866044f48691c2e63c1d448a",
            "b3b3ba44cd3243559911904e3f0aeee8",
            "1cb3043361b143f6976786100a584f12",
            "fb7bf43091684a4e9f822fcbad1f9bcd",
            "73474db6cb9349a8bd8b2ec199ff5beb",
            "39698fb6543b44828dca67a6cf831f70",
            "64c0bf648696416e9a6344463fac912c",
            "88f333ce2fab46e28433120d629ec1a0"
          ]
        },
        "outputId": "ef75a011-fc2c-4779-e53c-3c51600329bc"
      },
      "execution_count": null,
      "outputs": [
        {
          "output_type": "display_data",
          "data": {
            "application/vnd.jupyter.widget-view+json": {
              "model_id": "81a27c3194604ecd8ea6d5473e62cdd3",
              "version_minor": 0,
              "version_major": 2
            },
            "text/plain": [
              "interactive(children=(IntSlider(value=3, description='estrazioni', max=10, min=1), Button(description='Run Int…"
            ]
          },
          "metadata": {}
        }
      ]
    },
    {
      "cell_type": "markdown",
      "source": [
        "#Densità geometrica - geometrica modificata"
      ],
      "metadata": {
        "id": "-GtoecXjUH1e"
      }
    },
    {
      "cell_type": "markdown",
      "source": [
        "In uno schema successo-insuccesso, anzichè al numero di successi ottenuti su n tentativi, potremmo essere interessati al numero di tentativi che devo effettuare prima di ottenere un successo."
      ],
      "metadata": {
        "id": "YBirGuNoUKbB"
      }
    },
    {
      "cell_type": "markdown",
      "source": [
        "##Esempio 5.1\n",
        "\n",
        "Consideriamo un’urna con 2 palline bianche e 3 rosse. Le estraggo senza\n",
        "rimpiazzo finchè non trovo una pallina rossa. Considero la variabile aleatoria X=numero di estrazioni per trovare una pallina rossa. X è una variabile finita in quanto assume solo i valori 1, 2, 3.\n",
        "La sua densità si determina facilmente ed è data da\n",
        "\n",
        "\\begin{equation}\n",
        "  px(k) =\n",
        "    \\begin{cases}\n",
        "          \\frac{6}{10} \\ se \\ k=1\n",
        "          \\\\\n",
        "          \\frac{3}{10} \\ se \\ k=2\n",
        "          \\\\\n",
        "          \\frac{1}{10} \\ se \\ k=3\n",
        "          \\\\\n",
        "          0 \\ altrimenti\n",
        "        \\end{cases}\n",
        "\\end{equation}\n",
        "\n"
      ],
      "metadata": {
        "id": "aXX1PJQLUX9Z"
      }
    },
    {
      "cell_type": "code",
      "source": [
        "@interact_manual(bianche=(1,5), rosse=(1, 5))\n",
        "def geometrica(bianche=2, rosse=3):\n",
        "  palle = mk_urna(bianche, rosse)\n",
        "  results = []\n",
        "  count=0\n",
        "  while(len(results) < precisione):\n",
        "    done = len(results)\n",
        "    tmp = palle\n",
        "    while(len(results) == done):\n",
        "      extr = np.random.randint(0, ((bianche+rosse)-count))\n",
        "      if(tmp[extr]):\n",
        "        results.append(count)\n",
        "        count=0\n",
        "      else:  \n",
        "        tmp = np.delete(tmp,extr)\n",
        "        count = count + 1\n",
        "  #grafico\n",
        "  labels = []\n",
        "  normalized = []\n",
        "  for i in range(len(set(results)) - 1): #len(set(n)) torna il numero di risultati distinti presenti in results\n",
        "    normalized.append(round(((results.count(i) / precisione) * 100), 2)) #conto le istanze dei risultati e le normalizzo\n",
        "  normalized.append(round(100 - sum(normalized), 2)) #per evitare che per errori di arrotondamento la somma dei risultati sia 99.9%, l'ultimo risultato lo calcolo come 100 - (la somma dei precedenti)\n",
        "  for i in range(len(normalized)):\n",
        "    labels.append(str(normalized[i]) + \"%\") # aggiungo le labels (i valori riportati all'esterno del grafico)\n",
        "  plt.pie(normalized, labels=labels)\n",
        "  legenda = []\n",
        "  for i in range(bianche + 1):\n",
        "    legenda.append(\"k=\"+str(i+1))\n",
        "  plt.legend(legenda,loc='upper center', bbox_to_anchor=(0.5, -0.05), fancybox=True, shadow=True, ncol=5)"
      ],
      "metadata": {
        "colab": {
          "base_uri": "https://localhost:8080/",
          "height": 113,
          "referenced_widgets": [
            "bc85f1ed70944525a07a1d351d71e142",
            "38efd26e7eb34eaa856795e2b686c7eb",
            "225a5f838fc948deb727c1b73c46410b",
            "76a4798a65954420a7b45d0cf12a57f3",
            "a6b38a82f81944ed9ba85af078d5ee26",
            "e8ccbfcfa3894f4982943c6ce99d4dc2",
            "41921098c2fe4dd196cf05d7fd270f05",
            "dc7b920ca8ff4ca18d2ad3204d9b4f1a",
            "dab445aac99a4fbbb34693a6fe1dadef",
            "779dad85f2f44fdf8da3efa13739f4e7",
            "58f10d0fb6fc441095c85dce7e849b92",
            "e7b74e4488ec42b2a58ed82e42bf0e8f",
            "a0318e8167d844f28c11b093fa8f4725"
          ]
        },
        "id": "5tLgoNi7f2YM",
        "outputId": "5ab50157-5a81-4e72-f570-c25ae64f17d5"
      },
      "execution_count": null,
      "outputs": [
        {
          "output_type": "display_data",
          "data": {
            "application/vnd.jupyter.widget-view+json": {
              "model_id": "bc85f1ed70944525a07a1d351d71e142",
              "version_minor": 0,
              "version_major": 2
            },
            "text/plain": [
              "interactive(children=(IntSlider(value=2, description='bianche', max=5, min=1), IntSlider(value=3, description=…"
            ]
          },
          "metadata": {}
        }
      ]
    },
    {
      "cell_type": "markdown",
      "source": [
        "##Esempio 5.2\n",
        "\n",
        "Ripetiamo l'esperimento precedente, ma questa volta rimpiazziamo la pallina ad ogni estrazione. La variabile X diventa numerabile e si ha\n",
        "\n",
        "\\begin{equation}\n",
        "  px(k) =\n",
        "    \\begin{cases}\n",
        "          (\\frac{2}{5})^{k-1}\\frac{3}{5} \\ se \\ k=1,2,3,...\n",
        "          \\\\\n",
        "          0 \\ altrimenti\n",
        "        \\end{cases}\n",
        "\\end{equation}\n",
        "\n",
        "Infatti richiedere X = k vuol dire aver ottenuto k − 1 insuccessi nei primi k − 1 tenativi (ognuno con probabilità $\\frac{2}{5}$) per poi finalmente ottenere un successo al k-esimo tentativo (con probabilità $\\frac{3}{5}$)"
      ],
      "metadata": {
        "id": "DPSi8KkVKH60"
      }
    },
    {
      "cell_type": "code",
      "source": [
        "@interact_manual(bianche=(1,5), rosse=(1, 5))\n",
        "def geometrica_mod(bianche=2, rosse=3):\n",
        "  palle = mk_urna(bianche, rosse)\n",
        "  results = []\n",
        "  count=0\n",
        "  while(len(results) < precisione):\n",
        "    done = len(results)\n",
        "    tmp = palle\n",
        "    while(len(results) == done):\n",
        "      extr = np.random.randint(0, (bianche+rosse))\n",
        "      if(tmp[extr]):\n",
        "        results.append(count)\n",
        "        count=0\n",
        "      else:  \n",
        "        count = count + 1\n",
        "  \n",
        "  #grafico risultati\n",
        "  labels = []\n",
        "  normalized = []\n",
        "  for i in range(len(set(results))): \n",
        "    normalized.append(round(((results.count(i) / precisione) * 100), 2))\n",
        "  for i in range(len(set(results))):\n",
        "    labels.append(str(i+1))\n",
        "  \n",
        "  #grafico teorico\n",
        "  teoria = []\n",
        "  for i in range(len(set(results))):\n",
        "    teoria.append(((bianche / (bianche + rosse))**(i)) * (rosse / (bianche + rosse)) * 100)\n",
        "\n",
        "  lab_arr = np.arange(len(labels))\n",
        "\n",
        "  w=0.4\n",
        "  plt.bar(lab_arr-(w/2), normalized, width=w)\n",
        "  plt.bar(lab_arr+(w/2), teoria, width=w)\n",
        "  plt.ylabel(\"Percentage\")\n",
        "  plt.xlabel(\"K\")\n",
        "  legenda = [\"Risultati ottenuti\", \"Risultati attesi\"]\n",
        "  plt.legend(legenda,loc='upper center', bbox_to_anchor=(0.5, -0.05), fancybox=True, shadow=True, ncol=5)"
      ],
      "metadata": {
        "colab": {
          "base_uri": "https://localhost:8080/",
          "height": 113,
          "referenced_widgets": [
            "9f194c75ac21431881610b9536699174",
            "4a19d77fd0da4868b7306b1a8f6f8b0f",
            "3639e1bb0a8b4c3a823a34dee996c212",
            "67be52e89a9e4382bc3dfc0670fd5064",
            "a58f4b4410fd4543b2ee831034b99f66",
            "ee315db5cc8a4fbbadc6b23bc275fc38",
            "7533932590604b6a98628b2db3c45e8b",
            "f765cea56b1d4b2bbabc65c6f048e682",
            "52840325a5d448d784421ededbfcffb7",
            "a8bd170b425044cbb538ab9c5fc4106b",
            "d24f858aa53f4013b184fbedbf65553e",
            "f2fa5a0ad1454408bde05a6a01e35ffe",
            "2dedeb4a68994ea1aa902a667f934793"
          ]
        },
        "id": "p-e8XTgnsSgC",
        "outputId": "ecbefab6-7d0f-44db-bc26-32cbed31d539"
      },
      "execution_count": null,
      "outputs": [
        {
          "output_type": "display_data",
          "data": {
            "application/vnd.jupyter.widget-view+json": {
              "model_id": "9f194c75ac21431881610b9536699174",
              "version_minor": 0,
              "version_major": 2
            },
            "text/plain": [
              "interactive(children=(IntSlider(value=2, description='bianche', max=5, min=1), IntSlider(value=3, description=…"
            ]
          },
          "metadata": {}
        }
      ]
    },
    {
      "cell_type": "markdown",
      "source": [
        "Quello appena visto è un esempio di _densità geometrica modificata_ che scriveremo come T ∼ Ḡ(_p_).\n",
        "\n",
        "Quando si parla di densità geometrica modificata? \n",
        "\n",
        "Si consideri uno schema successo-insuccesso con ripetizioni e prendiamo in esame la variabile T data dal tempo di primo successo. \n",
        "Se chiamiamo _Xi_ le variabili _B_(1, _p_) date da _Xi_ = 1 se l’i-esimo tentativo dà successo e _Xi_  = 0 altrimenti abbiamo come densità\n",
        "\n",
        "\\begin{equation}\n",
        "  px(k) =\n",
        "    \\begin{cases}\n",
        "          p(1-p)^{k-1} \\ se \\ k=1,2,3,...\n",
        "          \\\\\n",
        "          0 \\ altrimenti\n",
        "        \\end{cases}\n",
        "\\end{equation}"
      ],
      "metadata": {
        "id": "u9PHD5qa-xdK"
      }
    },
    {
      "cell_type": "markdown",
      "source": [
        "##Esempio 5.3\n",
        "\n",
        "Si lancino simultaneamente due dadi, uno rosso e uno blu. Ripetiamo questo\n",
        "esperimento finchè non otteniamo due 6. \n",
        "\n",
        "Poniamo X = primo lancio in cui il dado rosso ha dato 6,\n",
        "Y = primo lancio in cui il dado blu ha dato 6.\n",
        "\n",
        "\n",
        "Determinare inoltre la probabilità di ottenere 6 con il dado rosso prima di ottenere 6 con il dado blu.\n",
        "\n",
        "Abbiamo\n",
        "\n",
        "\\begin{equation}\n",
        "  1 = P(X < Y) + P(X > Y) + P(X = Y)\n",
        "\\end{equation}\n",
        "\n",
        "\\\\\n",
        "e chiaramente per simmetria del problema _P_(_X_ < _Y_) = _P_(_X_ > _Y_) da cui\n",
        "\n",
        "\\\\\n",
        "\n",
        "\\begin{equation}\n",
        "  P(X < Y)= \\frac {1-P(X = Y)}{2}\n",
        "\\end{equation}\n",
        "\n",
        "Ci basterà calcolare quindi _P_(_X_ =_Y_):\n",
        "\n",
        "\\\\\n",
        "\n",
        "\\begin{equation}\n",
        "  P(X = Y) = \\sum_{k=1}^\\infty P(X = Y = k) = \\sum_{k=1}^\\infty (\\frac{25}{36})^{k-1}·\\frac{1}{36} = \\frac{1}{1-\\frac{25}{36}}·\\frac{1}{36} = \\frac{1}{11}\n",
        "\\end{equation}\n",
        "\n",
        "\n",
        "dove abbiamo ancora utilizzato la somma di una serie geometrica, e quindi\n",
        "\n",
        "\\\\\n",
        "\n",
        "\\begin{equation}\n",
        "  P(X < Y) = \\frac{5}{11}\n",
        "\\end{equation}\n"
      ],
      "metadata": {
        "id": "yQRcoTTQmPxD"
      }
    },
    {
      "cell_type": "code",
      "source": [
        "def first_six():\n",
        "  num = 6\n",
        "  results = []\n",
        "  for i in range(precisione):\n",
        "    a, b = 0, 0\n",
        "    while a != num and b != num:\n",
        "      a, b = trow(), trow() \n",
        "      if a == num:\n",
        "        if b == num:\n",
        "          results.append(0)\n",
        "        else:\n",
        "          results.append(1)\n",
        "      if b == num:\n",
        "        results.append(2)  \n",
        "  #grafico\n",
        "  labels = []\n",
        "  normalized = []\n",
        "  myexplode = [0, 0.2, 0]\n",
        "  for i in range(len(set(results)) - 1): #len(set(n)) torna il numero di risultati distinti presenti in results\n",
        "    normalized.append(round(((results.count(i) / precisione) * 100), 2)) #conto le istanze dei risultati e le normalizzo\n",
        "  normalized.append(round(100 - sum(normalized), 2)) #per evitare che per errori di arrotondamento la somma dei risultati sia 99.9%, l'ultimo risultato lo calcolo come 100 - (la somma dei precedenti)\n",
        "  for i in range(len(normalized)):\n",
        "    labels.append(str(normalized[i]) + \"%\") # aggiungo le labels (i valori riportati all'esterno del grafico)\n",
        "\n",
        "  teoria = [1/11, 5/11, 5/11]\n",
        "  lab_teoria = [\"9.09%\", \"45.45%\", \"45.45%\"]\n",
        "\n",
        "  f, (ax1, ax2) = plt.subplots(1, 2)\n",
        "  ax1.pie(normalized, labels=labels,explode=myexplode, colors=[\"green\", \"red\", \"blue\"], shadow=True)\n",
        "  ax1.set_title(\"Risultati ottenuti\")\n",
        "  ax2.pie(teoria, labels=lab_teoria,explode=myexplode, colors=[\"green\", \"red\", \"blue\"], shadow=True)\n",
        "  ax2.set_title(\"Risultati attesi\")\n",
        "  \n",
        "  legenda = [\"X=Y\", \"X<Y\", \"X>Y\"]\n",
        "  ax1.legend(legenda,loc='upper left', bbox_to_anchor=(0.5, -0.05), fancybox=True, shadow=True, ncol=5)\n",
        "\n",
        "first_six()"
      ],
      "metadata": {
        "colab": {
          "base_uri": "https://localhost:8080/",
          "height": 230
        },
        "id": "6P-rc7pzfODB",
        "outputId": "58a9c509-14f0-436f-fcbd-561f256f0ccf"
      },
      "execution_count": null,
      "outputs": [
        {
          "output_type": "display_data",
          "data": {
            "image/png": "[encoded data removed]",
            "text/plain": [
              "<Figure size 432x288 with 2 Axes>"
            ]
          },
          "metadata": {}
        }
      ]
    },
    {
      "cell_type": "markdown",
      "source": [
        "#Densità di Poisson"
      ],
      "metadata": {
        "id": "hPfoVQ4tzLLR"
      }
    },
    {
      "cell_type": "markdown",
      "source": [
        "Se consideriamo una variabile binomiale _X_ ∼ _B_(_n_, _p_) in cui il numero _n_ di tentativi è molto grande e il parametro _p_ molto piccolo fare i conti con la densità binomiale risulta essere computazionalmente dispendioso. \n",
        "\n",
        "Facciamo un esempio:"
      ],
      "metadata": {
        "id": "7WQ9L3IXzNQo"
      }
    },
    {
      "cell_type": "markdown",
      "source": [
        "##Esempio 6.1\n",
        "\n",
        "Supponiamo che in una città nascano 10 000 bambini ogni anno e che ci\n",
        "sia una malattia rara che colpisce un bambino su 2 mila. Qual è la probabilità che quest’anno nascano più di 5 bambini affetti da questa malattia? \n",
        "\n",
        "La variabile _X_ = ”numero di bambini nati con questa malattia quest’anno” è una variabile binomiale _X_ = _B_($10^4$, $\\frac{1}{2000}$). Tuttavia se\n",
        "proviamo ad effettuare il calcolo _P_(_X_ > 5), anche se abbiamo una formula esatta per effettuarlo, è inevitabilmente molto complesso.\n"
      ],
      "metadata": {
        "id": "VD0JenT7zaOx"
      }
    },
    {
      "cell_type": "markdown",
      "source": [
        "Per risolvere questo tipo di problema introduciamo la seguente\n",
        "\n",
        "\\\\\n",
        "\\begin{equation}\n",
        "  p(k) =\n",
        "    \\begin{cases}\n",
        "          e^{-λ} \\frac{λ^k}{k!} \\ se \\ k=0,1,2,...\n",
        "          \\\\\n",
        "          0 \\ altrimenti\n",
        "        \\end{cases}\n",
        "\\end{equation}\n",
        "\n",
        "\\\\\n",
        "\n",
        "dove λ è un parametro reale strettamente positivo."
      ],
      "metadata": {
        "id": "-07DvPlK0SRP"
      }
    },
    {
      "cell_type": "markdown",
      "source": [
        "Nel nostro esempio possiamo pensare alla variabile _X_ come ad una variabile di Poisson di parametro 5. \n",
        "\n",
        "Otteniamo:\n",
        "\n",
        "\\begin{equation}\n",
        "  P(X > 5) = 1 − P(X = 0) − P(X = 1) − P(X = 2) − P(X = 3) − P(X = 4) \n",
        "  \\\\\n",
        "  = 1 − e^{−5}(1 + 5 + \\frac{25}{2} + \\frac{125}{6} + \\frac{625}{24} + \\frac{3125}{120}) = 0, 384.\n",
        "\\end{equation}"
      ],
      "metadata": {
        "id": "fHA5WLXr2VKr"
      }
    },
    {
      "cell_type": "markdown",
      "source": [
        "Nella simulazione riportata sono simulati 100 anni, ripetendo l'esperimento si aggiungono i risultati dei test successivi e si può osservare come il grafico dei risultati ottenuti si avvicini a quello dei risultati attesi."
      ],
      "metadata": {
        "id": "aQ3YUomoewtG"
      }
    },
    {
      "cell_type": "code",
      "source": [
        "res_poisson = []"
      ],
      "metadata": {
        "id": "niF9fNy-AGHk"
      },
      "execution_count": 1,
      "outputs": []
    },
    {
      "cell_type": "code",
      "source": [
        "def poisson():\n",
        "  bambini = 10_000\n",
        "  malattia = 2_000\n",
        "  for i in range(1000):\n",
        "    count = 0\n",
        "    for i in range(bambini):\n",
        "      if np.random.randint(malattia) == 1:\n",
        "        count = count + 1\n",
        "    res_poisson.append(count)\n",
        "\n",
        "  #grafico risultati\n",
        "  labels = []\n",
        "  set_res = list(set(res_poisson))\n",
        "  normalized = []\n",
        "  for i in set_res: \n",
        "    normalized.append(round(((res_poisson.count(i) / len(res_poisson)) * 100), 2))\n",
        "    labels.append(str(i+1)) \n",
        " \n",
        "  #grafico teorico\n",
        "  teoria = []\n",
        "  lam = bambini / malattia\n",
        "  for i in set_res:\n",
        "    teoria.append((math.e**-lam)*((lam**i)/math.factorial(i)) * 100)\n",
        "\n",
        "  lab_arr = np.arange(len(labels))\n",
        "\n",
        "  w=0.4\n",
        "  plt.bar(lab_arr-(w/2), normalized, width=w)\n",
        "  plt.bar(lab_arr+(w/2), teoria, width=w)\n",
        "\n",
        "  legenda = [\"Risultati ottenuti\", \"Risultati attesi\"]\n",
        "  plt.legend(legenda,loc='upper center', bbox_to_anchor=(0.5, -0.05), fancybox=True, shadow=True, ncol=5)\n",
        "  print(\"Anni simulati: \" + str(len(res_poisson)))"
      ],
      "metadata": {
        "id": "L8XSvxDZMGZe"
      },
      "execution_count": 9,
      "outputs": []
    },
    {
      "cell_type": "code",
      "source": [
        "poisson()"
      ],
      "metadata": {
        "id": "H4CjxxyZ7Rxc",
        "colab": {
          "base_uri": "https://localhost:8080/",
          "height": 299
        },
        "outputId": "f67e0124-1c44-4205-e2c6-b6583d36d386"
      },
      "execution_count": 10,
      "outputs": [
        {
          "output_type": "stream",
          "name": "stdout",
          "text": [
            "Anni simulati: 1300\n"
          ]
        },
        {
          "output_type": "display_data",
          "data": {
            "image/png": "[encoded data removed]",
            "text/plain": [
              "<Figure size 432x288 with 1 Axes>"
            ]
          },
          "metadata": {
            "needs_background": "light"
          }
        }
      ]
    },
    {
      "cell_type": "markdown",
      "source": [
        "#Densità continua uniforme"
      ],
      "metadata": {
        "id": "2HvnAmIq9-iV"
      }
    },
    {
      "cell_type": "markdown",
      "source": [
        "La variabile continua più semplice da studiare è quella che può assumere solo valori in un certo intervallo limitato e in modo ”uniforme”."
      ],
      "metadata": {
        "id": "q-CPgnYeAXnr"
      }
    },
    {
      "cell_type": "markdown",
      "source": [
        "## Esempio 7.1\n",
        "\n",
        "Un autobus passa da una fermata ogni 10 minuti. Noi arriviamo alla fermata in un momento casuale, chiamiamo T la variabile del tempo d'attesa che assume valori tra 0 e 10 minuti. Mediamente, quanto dovrò aspettare?\n",
        "\n",
        "Di seguito sono riportati i grafici della densità e di partizione di tale problema:"
      ],
      "metadata": {
        "id": "AFabxKb1Ar4F"
      }
    },
    {
      "cell_type": "code",
      "source": [
        "#funzione che calcola il valore di x in ogni punto (densità continua uniforme)\n",
        "def densita(x, a, b):\n",
        "  res = []\n",
        "  for i in x:\n",
        "    if i < a:\n",
        "      res.append(0)\n",
        "    elif i > b:\n",
        "      res.append(0)\n",
        "    else:\n",
        "      res.append(1 / (b - a))\n",
        "  return res"
      ],
      "metadata": {
        "id": "G_5JWNvfHgIA"
      },
      "execution_count": 1,
      "outputs": []
    },
    {
      "cell_type": "code",
      "source": [
        "@interact_manual(a=(0, 5), b=(5, 20))\n",
        "def dcu_plot(a = 0, b = 10):\n",
        "  results = []\n",
        "  for i in range(precisione):\n",
        "    results.append(random.uniform(a, b))\n",
        "  \n",
        "  x = np.linspace(a - 1, b + 1, 1000)\n",
        "\n",
        "  p1 = plt.figure(1)\n",
        "  ax = plt.axes()\n",
        "  ax.plot(x, densita(x, a, b))\n",
        "  ax.set_title(\"Densità\")\n",
        "  p1.show()\n",
        "  p2 = plt.figure(2)\n",
        "  sns.displot(results, kind=\"ecdf\").set(title=\"Partizione\")\n",
        "  p2.show() "
      ],
      "metadata": {
        "colab": {
          "base_uri": "https://localhost:8080/",
          "height": 758,
          "referenced_widgets": [
            "49083a9a29264094899f2cf36db3e26e",
            "287d1560fc7646f7b796a2eb87723b18",
            "c9392fbec6ae46ed995ddca627d756c5",
            "63e1ec08449e40358ec1ecdce6377db8",
            "659208e71a5b420a904d8904e11e187e",
            "b7e2b31954c54d43a1cf6bf9408c7a81",
            "e05218ba37a544a7a77cb574bd6b3174",
            "0f67dbdade58456db2815633a3037358",
            "2a592b1322bc43aab412aa6d2d5de392",
            "067ea1440c8b4439bbbf062ee299a119",
            "e4701aeb097947aaae334e6a45d83894",
            "ac8692ce8e2c48438c68a19697f02ab8",
            "5ca679b0581c445e995b1f452ec89e33"
          ]
        },
        "id": "v_fYQRbWCHfe",
        "outputId": "2f462229-a7a2-4a8b-a7b1-cab1fab7d8b5"
      },
      "execution_count": 6,
      "outputs": [
        {
          "output_type": "display_data",
          "data": {
            "application/vnd.jupyter.widget-view+json": {
              "model_id": "49083a9a29264094899f2cf36db3e26e",
              "version_minor": 0,
              "version_major": 2
            },
            "text/plain": [
              "interactive(children=(IntSlider(value=0, description='a', max=5), IntSlider(value=10, description='b', max=20,…"
            ]
          },
          "metadata": {}
        }
      ]
    },
    {
      "cell_type": "markdown",
      "source": [
        "Per quanto riguarda la soluzione il valore atteso invece ci basta sapere che il valore atteso di una variabile uniforme è il punto medio dell'intervallo: 5 minuti."
      ],
      "metadata": {
        "id": "CO8fDJK3MDBv"
      }
    },
    {
      "cell_type": "code",
      "source": [
        "@interact_manual(tempo=(1, 20))\n",
        "def E_unif(tempo = 10):\n",
        "  results = []\n",
        "  for i in range(precisione):\n",
        "    results.append(random.uniform(0, tempo))\n",
        "  return round(np.mean(results), 2)"
      ],
      "metadata": {
        "colab": {
          "base_uri": "https://localhost:8080/",
          "height": 98,
          "referenced_widgets": [
            "d8cf1693281a4f8a8d1a504e56eae295",
            "571a770ee6724e23a986a7d14077df92",
            "e5c17fb3964a4d048c1af3c522695676",
            "a158023706674731af9449506d0dd606",
            "760ccb8f48b6480fabd04beb1d0f011f",
            "b3de6d222b4a456e8cb06fd27a100dea",
            "6e1b138c51fb4f79b6e55611f156875d",
            "63fdc42371394ee488e8135535f5ffcc",
            "e1a3a6bcb1fb431e933f1d7b3d8f20d9",
            "7e9ce6eff83b4ee18f4da808b79a4ce5"
          ]
        },
        "id": "jG0a0YfTMiZi",
        "outputId": "e5ce249d-b733-4539-d5ce-d7874402e785"
      },
      "execution_count": 18,
      "outputs": [
        {
          "output_type": "display_data",
          "data": {
            "application/vnd.jupyter.widget-view+json": {
              "model_id": "d8cf1693281a4f8a8d1a504e56eae295",
              "version_minor": 0,
              "version_major": 2
            },
            "text/plain": [
              "interactive(children=(IntSlider(value=10, description='tempo', max=20, min=1), Button(description='Run Interac…"
            ]
          },
          "metadata": {}
        }
      ]
    },
    {
      "cell_type": "code",
      "source": [
        "@interact_manual(tempo=(1, 20))\n",
        "def cont_unif(tempo = 10):\n",
        "  results = []\n",
        "  for i in range(precisione):\n",
        "    results.append(random.uniform(0, tempo))\n",
        "  sns.kdeplot(results,shade=True) \n",
        "  "
      ],
      "metadata": {
        "id": "0jzeXNlBHF0x",
        "colab": {
          "base_uri": "https://localhost:8080/",
          "height": 329,
          "referenced_widgets": [
            "a6e6bff357684a9dbbfb0868963bf48a",
            "f7f63172205b44d0b616670a0cbb73ea",
            "f75501d9b7ae41e19c79dd41c31baac0",
            "74b6665ead06494f8ac5cbdb3366fa00",
            "fc2a27b464d44253a7ba437517930e02",
            "847f68a9f63a48a9a4e648895de414d5",
            "f07bd8fe01f74e0e80a2d5ae430b8e66",
            "9b651c5bc6ee4bc3897454b5417bf074",
            "cd6b91330a6f40f2bee80841e0f09ce5",
            "fec22295aac34773a0de8867c9c02aa5"
          ]
        },
        "outputId": "b3db60f6-b46a-4616-f080-2216b2caf555"
      },
      "execution_count": 8,
      "outputs": [
        {
          "output_type": "display_data",
          "data": {
            "application/vnd.jupyter.widget-view+json": {
              "model_id": "a6e6bff357684a9dbbfb0868963bf48a",
              "version_minor": 0,
              "version_major": 2
            },
            "text/plain": [
              "interactive(children=(IntSlider(value=10, description='tempo', max=20, min=1), Button(description='Run Interac…"
            ]
          },
          "metadata": {}
        }
      ]
    },
    {
      "cell_type": "code",
      "source": [
        "@interact_manual(tempo=(1, 20))\n",
        "def cont_unif(tempo = 10):\n",
        "  results = []\n",
        "  for i in range(precisione):\n",
        "    results.append(random.uniform(0, tempo))\n",
        "  sns.displot(results, color=\"g\")"
      ],
      "metadata": {
        "colab": {
          "base_uri": "https://localhost:8080/",
          "height": 433,
          "referenced_widgets": [
            "1f1deda3420941b7a34e31d43312cdab",
            "e01e3c5cdbd64ba0a16b6a996c2f0fc3",
            "1c0b2a550a6e44c0812b846352f02269",
            "ed129afde1e04afe9ee2cc767e8c3161",
            "9027cf23a9d04e989e52d10ab751e040",
            "b5c815d6b9d54df38c275754f47b15ce",
            "54be7cafeeca4932ab107cf63d5bd9d5",
            "05ffd0ce42be4ed0826b771d8425d136",
            "93cec40b3ff24e6bb0f9f6db6d01672e",
            "77fa879ba02d4622af2568c87dbc3724"
          ]
        },
        "id": "__y9sIEV_oKM",
        "outputId": "710ca012-af0c-46b8-a651-4a1b7b273c8b"
      },
      "execution_count": 19,
      "outputs": [
        {
          "output_type": "display_data",
          "data": {
            "application/vnd.jupyter.widget-view+json": {
              "model_id": "1f1deda3420941b7a34e31d43312cdab",
              "version_minor": 0,
              "version_major": 2
            },
            "text/plain": [
              "interactive(children=(IntSlider(value=10, description='tempo', max=20, min=1), Button(description='Run Interac…"
            ]
          },
          "metadata": {}
        }
      ]
    },
    {
      "cell_type": "code",
      "source": [
        "#funzione che calcola il valore di x in ogni punto (densità continua uniforme)\n",
        "def densita_esp(x):\n",
        "  res = []\n",
        "  for i in x:\n",
        "    if i <= 0:\n",
        "      res.append(0)\n",
        "    else:\n",
        "      res.append(-math.log(i))\n",
        "  return res"
      ],
      "metadata": {
        "id": "Dop-HDg7JgeC"
      },
      "execution_count": 29,
      "outputs": []
    },
    {
      "cell_type": "code",
      "source": [
        "@interact_manual(tempo=(1, 20))\n",
        "def prova(tempo = 10):\n",
        "  x = np.linspace(-1, tempo + 1, 1000)\n",
        "\n",
        "  a = plt.figure(1)\n",
        "  ax = plt.axes()\n",
        "  ax.plot(x, densita_esp(densita(x, tempo)))\n",
        "  ax.set_title(\"Densità\")\n",
        "  a.show()"
      ],
      "metadata": {
        "colab": {
          "base_uri": "https://localhost:8080/",
          "height": 345,
          "referenced_widgets": [
            "d9d5383bafc340bea4bf2d9337095ad1",
            "36e9769ec60f4787ab397ca9cc50d610",
            "86cb8f014a6a4d3dac707dac95058049",
            "51c43ab1eba648dea683c3f19867c2cc",
            "c84e8729db644a05aeddb60121589121",
            "5435bea6eec54380b9016ebf3bc87091",
            "c4372b17a79e42ee930b3fb610e8593e",
            "2a19cbda628c45eb8e2d321b1a0a6206",
            "599865dc020c498eaa838450b2599a14",
            "fab6f4433b8948f187c5913d553f9626"
          ]
        },
        "id": "K8a9JIMgat-7",
        "outputId": "c32653ed-0c6f-436d-b55d-9d5127374dcf"
      },
      "execution_count": 30,
      "outputs": [
        {
          "output_type": "display_data",
          "data": {
            "application/vnd.jupyter.widget-view+json": {
              "model_id": "d9d5383bafc340bea4bf2d9337095ad1",
              "version_minor": 0,
              "version_major": 2
            },
            "text/plain": [
              "interactive(children=(IntSlider(value=10, description='tempo', max=20, min=1), Button(description='Run Interac…"
            ]
          },
          "metadata": {}
        }
      ]
    },
    {
      "cell_type": "code",
      "source": [
        "precisione = 1_000_000"
      ],
      "metadata": {
        "id": "oalUm5J7V6CX"
      },
      "execution_count": 56,
      "outputs": []
    },
    {
      "cell_type": "code",
      "source": [
        "@interact_manual(tempo=(0, 20))\n",
        "def dcu_plot(tempo = 10):\n",
        "  points = 1200\n",
        "  results = []\n",
        "  for i in range(precisione):\n",
        "    results.append(random.uniform(0, tempo))\n",
        "  \n",
        "  x = np.linspace(-1, tempo+1, points)\n",
        "\n",
        "  coord = []\n",
        "  for i in range(points):\n",
        "    count = 0\n",
        "    for item in results:\n",
        "      if (item > -1 + (((tempo+2)/points)*i) and item <= -1 + (((tempo+2)/points)*(i+1))):\n",
        "        count = count + 1\n",
        "    coord.append((count / precisione) * 100)\n",
        "  \n",
        "  a = plt.figure(1)\n",
        "  ax = plt.axes()\n",
        "  ax.plot(x, coord)\n",
        "  ax.set_title(\"Densità\")\n",
        "  a.show()"
      ],
      "metadata": {
        "id": "E_CdpJ9ENKE3",
        "outputId": "ba3be32b-f51e-44b0-c692-cbbc44f62341",
        "colab": {
          "base_uri": "https://localhost:8080/",
          "height": 345,
          "referenced_widgets": [
            "247bd1906c174ff4a4a9d5ae143988ad",
            "1510ab1f09054c2b85d5fb8d90078459",
            "9b41790281094da9918227bd5fd79ae0",
            "d694f90ab45f423f8660af5172004d82",
            "0a9cd853c0654bbaba60c48f160972a8",
            "fec2967dbdae4175abd005e6140c3025",
            "ed40b3b610c244e7b67ce9b3b8316eb7",
            "ef2cc43455b94adba339edf453764db0",
            "a3149c47d6cb4edba6dfd96b9840c6d0",
            "3a706f0dcada4527b769c772f331b498"
          ]
        }
      },
      "execution_count": 57,
      "outputs": [
        {
          "output_type": "display_data",
          "data": {
            "application/vnd.jupyter.widget-view+json": {
              "model_id": "247bd1906c174ff4a4a9d5ae143988ad",
              "version_minor": 0,
              "version_major": 2
            },
            "text/plain": [
              "interactive(children=(IntSlider(value=10, description='tempo', max=20), Button(description='Run Interact', sty…"
            ]
          },
          "metadata": {}
        }
      ]
    },
    {
      "cell_type": "code",
      "source": [
        ""
      ],
      "metadata": {
        "id": "ASRqviTIbeDC"
      },
      "execution_count": null,
      "outputs": []
    }
  ]
}