{
  "nbformat": 4,
  "nbformat_minor": 0,
  "metadata": {
    "colab": {
      "name": "Untitled1.ipynb",
      "provenance": [],
      "toc_visible": true,
      "collapsed_sections": [],
      "authorship_tag": "ABX9TyMN4PI8GwEAIw7QZx7BXXPo",
      "include_colab_link": true
    },
    "kernelspec": {
      "name": "python3",
      "display_name": "Python 3"
    },
    "language_info": {
      "name": "python"
    },
    "widgets": {
      "application/vnd.jupyter.widget-state+json": {
        "a3110f81b03048a485df569fac9341ac": {
          "model_module": "@jupyter-widgets/controls",
          "model_name": "VBoxModel",
          "model_module_version": "1.5.0",
          "state": {
            "_view_name": "VBoxView",
            "_dom_classes": [
              "widget-interact"
            ],
            "_model_name": "VBoxModel",
            "_view_module": "@jupyter-widgets/controls",
            "_model_module_version": "1.5.0",
            "_view_count": null,
            "_view_module_version": "1.5.0",
            "box_style": "",
            "layout": "IPY_MODEL_1cb663aeed2043fcbfcf19456ae319f9",
            "_model_module": "@jupyter-widgets/controls",
            "children": [
              "IPY_MODEL_60060b76b23b4a36afe34841a02d5349",
              "IPY_MODEL_dbdd468b870a4e9b9faf658f5ade5524",
              "IPY_MODEL_6d2efaa178ad424ca4d24a3f3ec2f270"
            ]
          }
        },
        "1cb663aeed2043fcbfcf19456ae319f9": {
          "model_module": "@jupyter-widgets/base",
          "model_name": "LayoutModel",
          "model_module_version": "1.2.0",
          "state": {
            "_view_name": "LayoutView",
            "grid_template_rows": null,
            "right": null,
            "justify_content": null,
            "_view_module": "@jupyter-widgets/base",
            "overflow": null,
            "_model_module_version": "1.2.0",
            "_view_count": null,
            "flex_flow": null,
            "width": null,
            "min_width": null,
            "border": null,
            "align_items": null,
            "bottom": null,
            "_model_module": "@jupyter-widgets/base",
            "top": null,
            "grid_column": null,
            "overflow_y": null,
            "overflow_x": null,
            "grid_auto_flow": null,
            "grid_area": null,
            "grid_template_columns": null,
            "flex": null,
            "_model_name": "LayoutModel",
            "justify_items": null,
            "grid_row": null,
            "max_height": null,
            "align_content": null,
            "visibility": null,
            "align_self": null,
            "height": null,
            "min_height": null,
            "padding": null,
            "grid_auto_rows": null,
            "grid_gap": null,
            "max_width": null,
            "order": null,
            "_view_module_version": "1.2.0",
            "grid_template_areas": null,
            "object_position": null,
            "object_fit": null,
            "grid_auto_columns": null,
            "margin": null,
            "display": null,
            "left": null
          }
        },
        "60060b76b23b4a36afe34841a02d5349": {
          "model_module": "@jupyter-widgets/controls",
          "model_name": "IntSliderModel",
          "model_module_version": "1.5.0",
          "state": {
            "_view_name": "IntSliderView",
            "style": "IPY_MODEL_a37a94b921734214a69fe798e42e34ce",
            "_dom_classes": [],
            "description": "vincita",
            "step": 1,
            "_model_name": "IntSliderModel",
            "orientation": "horizontal",
            "max": 30,
            "_view_module": "@jupyter-widgets/controls",
            "_model_module_version": "1.5.0",
            "value": 5,
            "_view_count": null,
            "disabled": false,
            "_view_module_version": "1.5.0",
            "min": 0,
            "continuous_update": true,
            "readout_format": "d",
            "description_tooltip": null,
            "readout": true,
            "_model_module": "@jupyter-widgets/controls",
            "layout": "IPY_MODEL_b2b70daa8e454e1faa16c4c79f55f0dc"
          }
        },
        "dbdd468b870a4e9b9faf658f5ade5524": {
          "model_module": "@jupyter-widgets/controls",
          "model_name": "ButtonModel",
          "model_module_version": "1.5.0",
          "state": {
            "_view_name": "ButtonView",
            "style": "IPY_MODEL_c9c4e35d262041ceb358d663b25d4ff7",
            "_dom_classes": [],
            "description": "Run Interact",
            "_model_name": "ButtonModel",
            "button_style": "",
            "_view_module": "@jupyter-widgets/controls",
            "_model_module_version": "1.5.0",
            "tooltip": "",
            "_view_count": null,
            "disabled": false,
            "_view_module_version": "1.5.0",
            "layout": "IPY_MODEL_03efed34bd7549c9b8799c34ba50491e",
            "_model_module": "@jupyter-widgets/controls",
            "icon": ""
          }
        },
        "6d2efaa178ad424ca4d24a3f3ec2f270": {
          "model_module": "@jupyter-widgets/output",
          "model_name": "OutputModel",
          "model_module_version": "1.0.0",
          "state": {
            "_view_name": "OutputView",
            "msg_id": "",
            "_dom_classes": [],
            "_model_name": "OutputModel",
            "outputs": [],
            "_view_module": "@jupyter-widgets/output",
            "_model_module_version": "1.0.0",
            "_view_count": null,
            "_view_module_version": "1.0.0",
            "layout": "IPY_MODEL_cad64126732a4981be69e5c4359bba0e",
            "_model_module": "@jupyter-widgets/output"
          }
        },
        "a37a94b921734214a69fe798e42e34ce": {
          "model_module": "@jupyter-widgets/controls",
          "model_name": "SliderStyleModel",
          "model_module_version": "1.5.0",
          "state": {
            "_view_name": "StyleView",
            "handle_color": null,
            "_model_name": "SliderStyleModel",
            "description_width": "",
            "_view_module": "@jupyter-widgets/base",
            "_model_module_version": "1.5.0",
            "_view_count": null,
            "_view_module_version": "1.2.0",
            "_model_module": "@jupyter-widgets/controls"
          }
        },
        "b2b70daa8e454e1faa16c4c79f55f0dc": {
          "model_module": "@jupyter-widgets/base",
          "model_name": "LayoutModel",
          "model_module_version": "1.2.0",
          "state": {
            "_view_name": "LayoutView",
            "grid_template_rows": null,
            "right": null,
            "justify_content": null,
            "_view_module": "@jupyter-widgets/base",
            "overflow": null,
            "_model_module_version": "1.2.0",
            "_view_count": null,
            "flex_flow": null,
            "width": null,
            "min_width": null,
            "border": null,
            "align_items": null,
            "bottom": null,
            "_model_module": "@jupyter-widgets/base",
            "top": null,
            "grid_column": null,
            "overflow_y": null,
            "overflow_x": null,
            "grid_auto_flow": null,
            "grid_area": null,
            "grid_template_columns": null,
            "flex": null,
            "_model_name": "LayoutModel",
            "justify_items": null,
            "grid_row": null,
            "max_height": null,
            "align_content": null,
            "visibility": null,
            "align_self": null,
            "height": null,
            "min_height": null,
            "padding": null,
            "grid_auto_rows": null,
            "grid_gap": null,
            "max_width": null,
            "order": null,
            "_view_module_version": "1.2.0",
            "grid_template_areas": null,
            "object_position": null,
            "object_fit": null,
            "grid_auto_columns": null,
            "margin": null,
            "display": null,
            "left": null
          }
        },
        "c9c4e35d262041ceb358d663b25d4ff7": {
          "model_module": "@jupyter-widgets/controls",
          "model_name": "ButtonStyleModel",
          "model_module_version": "1.5.0",
          "state": {
            "_view_name": "StyleView",
            "_model_name": "ButtonStyleModel",
            "_view_module": "@jupyter-widgets/base",
            "_model_module_version": "1.5.0",
            "_view_count": null,
            "button_color": null,
            "font_weight": "",
            "_view_module_version": "1.2.0",
            "_model_module": "@jupyter-widgets/controls"
          }
        },
        "03efed34bd7549c9b8799c34ba50491e": {
          "model_module": "@jupyter-widgets/base",
          "model_name": "LayoutModel",
          "model_module_version": "1.2.0",
          "state": {
            "_view_name": "LayoutView",
            "grid_template_rows": null,
            "right": null,
            "justify_content": null,
            "_view_module": "@jupyter-widgets/base",
            "overflow": null,
            "_model_module_version": "1.2.0",
            "_view_count": null,
            "flex_flow": null,
            "width": null,
            "min_width": null,
            "border": null,
            "align_items": null,
            "bottom": null,
            "_model_module": "@jupyter-widgets/base",
            "top": null,
            "grid_column": null,
            "overflow_y": null,
            "overflow_x": null,
            "grid_auto_flow": null,
            "grid_area": null,
            "grid_template_columns": null,
            "flex": null,
            "_model_name": "LayoutModel",
            "justify_items": null,
            "grid_row": null,
            "max_height": null,
            "align_content": null,
            "visibility": null,
            "align_self": null,
            "height": null,
            "min_height": null,
            "padding": null,
            "grid_auto_rows": null,
            "grid_gap": null,
            "max_width": null,
            "order": null,
            "_view_module_version": "1.2.0",
            "grid_template_areas": null,
            "object_position": null,
            "object_fit": null,
            "grid_auto_columns": null,
            "margin": null,
            "display": null,
            "left": null
          }
        },
        "cad64126732a4981be69e5c4359bba0e": {
          "model_module": "@jupyter-widgets/base",
          "model_name": "LayoutModel",
          "model_module_version": "1.2.0",
          "state": {
            "_view_name": "LayoutView",
            "grid_template_rows": null,
            "right": null,
            "justify_content": null,
            "_view_module": "@jupyter-widgets/base",
            "overflow": null,
            "_model_module_version": "1.2.0",
            "_view_count": null,
            "flex_flow": null,
            "width": null,
            "min_width": null,
            "border": null,
            "align_items": null,
            "bottom": null,
            "_model_module": "@jupyter-widgets/base",
            "top": null,
            "grid_column": null,
            "overflow_y": null,
            "overflow_x": null,
            "grid_auto_flow": null,
            "grid_area": null,
            "grid_template_columns": null,
            "flex": null,
            "_model_name": "LayoutModel",
            "justify_items": null,
            "grid_row": null,
            "max_height": null,
            "align_content": null,
            "visibility": null,
            "align_self": null,
            "height": null,
            "min_height": null,
            "padding": null,
            "grid_auto_rows": null,
            "grid_gap": null,
            "max_width": null,
            "order": null,
            "_view_module_version": "1.2.0",
            "grid_template_areas": null,
            "object_position": null,
            "object_fit": null,
            "grid_auto_columns": null,
            "margin": null,
            "display": null,
            "left": null
          }
        },
        "b8d4e44c5e7545c38cc3d77466802a7d": {
          "model_module": "@jupyter-widgets/controls",
          "model_name": "VBoxModel",
          "model_module_version": "1.5.0",
          "state": {
            "_view_name": "VBoxView",
            "_dom_classes": [
              "widget-interact"
            ],
            "_model_name": "VBoxModel",
            "_view_module": "@jupyter-widgets/controls",
            "_model_module_version": "1.5.0",
            "_view_count": null,
            "_view_module_version": "1.5.0",
            "box_style": "",
            "layout": "IPY_MODEL_b9f7d651343043969859dc6718628e6e",
            "_model_module": "@jupyter-widgets/controls",
            "children": [
              "IPY_MODEL_efecf47e19c54decb1873fd6d3f2a8f8",
              "IPY_MODEL_e95e66a10d2245988e16b6ceb4121cd0",
              "IPY_MODEL_b331219d424448699aa7b621a3b5a8dc",
              "IPY_MODEL_e87a3dd1f6fe41808bce0a423b31a336"
            ]
          }
        },
        "b9f7d651343043969859dc6718628e6e": {
          "model_module": "@jupyter-widgets/base",
          "model_name": "LayoutModel",
          "model_module_version": "1.2.0",
          "state": {
            "_view_name": "LayoutView",
            "grid_template_rows": null,
            "right": null,
            "justify_content": null,
            "_view_module": "@jupyter-widgets/base",
            "overflow": null,
            "_model_module_version": "1.2.0",
            "_view_count": null,
            "flex_flow": null,
            "width": null,
            "min_width": null,
            "border": null,
            "align_items": null,
            "bottom": null,
            "_model_module": "@jupyter-widgets/base",
            "top": null,
            "grid_column": null,
            "overflow_y": null,
            "overflow_x": null,
            "grid_auto_flow": null,
            "grid_area": null,
            "grid_template_columns": null,
            "flex": null,
            "_model_name": "LayoutModel",
            "justify_items": null,
            "grid_row": null,
            "max_height": null,
            "align_content": null,
            "visibility": null,
            "align_self": null,
            "height": null,
            "min_height": null,
            "padding": null,
            "grid_auto_rows": null,
            "grid_gap": null,
            "max_width": null,
            "order": null,
            "_view_module_version": "1.2.0",
            "grid_template_areas": null,
            "object_position": null,
            "object_fit": null,
            "grid_auto_columns": null,
            "margin": null,
            "display": null,
            "left": null
          }
        },
        "efecf47e19c54decb1873fd6d3f2a8f8": {
          "model_module": "@jupyter-widgets/controls",
          "model_name": "IntSliderModel",
          "model_module_version": "1.5.0",
          "state": {
            "_view_name": "IntSliderView",
            "style": "IPY_MODEL_839ffe3625ef476ba06853d1baf7b6ca",
            "_dom_classes": [],
            "description": "giocate",
            "step": 1,
            "_model_name": "IntSliderModel",
            "orientation": "horizontal",
            "max": 10,
            "_view_module": "@jupyter-widgets/controls",
            "_model_module_version": "1.5.0",
            "value": 3,
            "_view_count": null,
            "disabled": false,
            "_view_module_version": "1.5.0",
            "min": 1,
            "continuous_update": true,
            "readout_format": "d",
            "description_tooltip": null,
            "readout": true,
            "_model_module": "@jupyter-widgets/controls",
            "layout": "IPY_MODEL_1fb029fd33a54d14b346075bf170b7ea"
          }
        },
        "e95e66a10d2245988e16b6ceb4121cd0": {
          "model_module": "@jupyter-widgets/controls",
          "model_name": "IntSliderModel",
          "model_module_version": "1.5.0",
          "state": {
            "_view_name": "IntSliderView",
            "style": "IPY_MODEL_594c243c67254f58bfbaf7112eb67fb7",
            "_dom_classes": [],
            "description": "puntata",
            "step": 5,
            "_model_name": "IntSliderModel",
            "orientation": "horizontal",
            "max": 100,
            "_view_module": "@jupyter-widgets/controls",
            "_model_module_version": "1.5.0",
            "value": 10,
            "_view_count": null,
            "disabled": false,
            "_view_module_version": "1.5.0",
            "min": 5,
            "continuous_update": true,
            "readout_format": "d",
            "description_tooltip": null,
            "readout": true,
            "_model_module": "@jupyter-widgets/controls",
            "layout": "IPY_MODEL_f13f088f4617450ea7b7991e731094ab"
          }
        },
        "b331219d424448699aa7b621a3b5a8dc": {
          "model_module": "@jupyter-widgets/controls",
          "model_name": "ButtonModel",
          "model_module_version": "1.5.0",
          "state": {
            "_view_name": "ButtonView",
            "style": "IPY_MODEL_23cf020c199945efa1b5ac52ba818c96",
            "_dom_classes": [],
            "description": "Run Interact",
            "_model_name": "ButtonModel",
            "button_style": "",
            "_view_module": "@jupyter-widgets/controls",
            "_model_module_version": "1.5.0",
            "tooltip": "",
            "_view_count": null,
            "disabled": false,
            "_view_module_version": "1.5.0",
            "layout": "IPY_MODEL_2acba47b6ff8418eb770dd82a0c70815",
            "_model_module": "@jupyter-widgets/controls",
            "icon": ""
          }
        },
        "e87a3dd1f6fe41808bce0a423b31a336": {
          "model_module": "@jupyter-widgets/output",
          "model_name": "OutputModel",
          "model_module_version": "1.0.0",
          "state": {
            "_view_name": "OutputView",
            "msg_id": "",
            "_dom_classes": [],
            "_model_name": "OutputModel",
            "outputs": [],
            "_view_module": "@jupyter-widgets/output",
            "_model_module_version": "1.0.0",
            "_view_count": null,
            "_view_module_version": "1.0.0",
            "layout": "IPY_MODEL_4d20cfc18ff741a58b24855a2f59dcfa",
            "_model_module": "@jupyter-widgets/output"
          }
        },
        "839ffe3625ef476ba06853d1baf7b6ca": {
          "model_module": "@jupyter-widgets/controls",
          "model_name": "SliderStyleModel",
          "model_module_version": "1.5.0",
          "state": {
            "_view_name": "StyleView",
            "handle_color": null,
            "_model_name": "SliderStyleModel",
            "description_width": "",
            "_view_module": "@jupyter-widgets/base",
            "_model_module_version": "1.5.0",
            "_view_count": null,
            "_view_module_version": "1.2.0",
            "_model_module": "@jupyter-widgets/controls"
          }
        },
        "1fb029fd33a54d14b346075bf170b7ea": {
          "model_module": "@jupyter-widgets/base",
          "model_name": "LayoutModel",
          "model_module_version": "1.2.0",
          "state": {
            "_view_name": "LayoutView",
            "grid_template_rows": null,
            "right": null,
            "justify_content": null,
            "_view_module": "@jupyter-widgets/base",
            "overflow": null,
            "_model_module_version": "1.2.0",
            "_view_count": null,
            "flex_flow": null,
            "width": null,
            "min_width": null,
            "border": null,
            "align_items": null,
            "bottom": null,
            "_model_module": "@jupyter-widgets/base",
            "top": null,
            "grid_column": null,
            "overflow_y": null,
            "overflow_x": null,
            "grid_auto_flow": null,
            "grid_area": null,
            "grid_template_columns": null,
            "flex": null,
            "_model_name": "LayoutModel",
            "justify_items": null,
            "grid_row": null,
            "max_height": null,
            "align_content": null,
            "visibility": null,
            "align_self": null,
            "height": null,
            "min_height": null,
            "padding": null,
            "grid_auto_rows": null,
            "grid_gap": null,
            "max_width": null,
            "order": null,
            "_view_module_version": "1.2.0",
            "grid_template_areas": null,
            "object_position": null,
            "object_fit": null,
            "grid_auto_columns": null,
            "margin": null,
            "display": null,
            "left": null
          }
        },
        "594c243c67254f58bfbaf7112eb67fb7": {
          "model_module": "@jupyter-widgets/controls",
          "model_name": "SliderStyleModel",
          "model_module_version": "1.5.0",
          "state": {
            "_view_name": "StyleView",
            "handle_color": null,
            "_model_name": "SliderStyleModel",
            "description_width": "",
            "_view_module": "@jupyter-widgets/base",
            "_model_module_version": "1.5.0",
            "_view_count": null,
            "_view_module_version": "1.2.0",
            "_model_module": "@jupyter-widgets/controls"
          }
        },
        "f13f088f4617450ea7b7991e731094ab": {
          "model_module": "@jupyter-widgets/base",
          "model_name": "LayoutModel",
          "model_module_version": "1.2.0",
          "state": {
            "_view_name": "LayoutView",
            "grid_template_rows": null,
            "right": null,
            "justify_content": null,
            "_view_module": "@jupyter-widgets/base",
            "overflow": null,
            "_model_module_version": "1.2.0",
            "_view_count": null,
            "flex_flow": null,
            "width": null,
            "min_width": null,
            "border": null,
            "align_items": null,
            "bottom": null,
            "_model_module": "@jupyter-widgets/base",
            "top": null,
            "grid_column": null,
            "overflow_y": null,
            "overflow_x": null,
            "grid_auto_flow": null,
            "grid_area": null,
            "grid_template_columns": null,
            "flex": null,
            "_model_name": "LayoutModel",
            "justify_items": null,
            "grid_row": null,
            "max_height": null,
            "align_content": null,
            "visibility": null,
            "align_self": null,
            "height": null,
            "min_height": null,
            "padding": null,
            "grid_auto_rows": null,
            "grid_gap": null,
            "max_width": null,
            "order": null,
            "_view_module_version": "1.2.0",
            "grid_template_areas": null,
            "object_position": null,
            "object_fit": null,
            "grid_auto_columns": null,
            "margin": null,
            "display": null,
            "left": null
          }
        },
        "23cf020c199945efa1b5ac52ba818c96": {
          "model_module": "@jupyter-widgets/controls",
          "model_name": "ButtonStyleModel",
          "model_module_version": "1.5.0",
          "state": {
            "_view_name": "StyleView",
            "_model_name": "ButtonStyleModel",
            "_view_module": "@jupyter-widgets/base",
            "_model_module_version": "1.5.0",
            "_view_count": null,
            "button_color": null,
            "font_weight": "",
            "_view_module_version": "1.2.0",
            "_model_module": "@jupyter-widgets/controls"
          }
        },
        "2acba47b6ff8418eb770dd82a0c70815": {
          "model_module": "@jupyter-widgets/base",
          "model_name": "LayoutModel",
          "model_module_version": "1.2.0",
          "state": {
            "_view_name": "LayoutView",
            "grid_template_rows": null,
            "right": null,
            "justify_content": null,
            "_view_module": "@jupyter-widgets/base",
            "overflow": null,
            "_model_module_version": "1.2.0",
            "_view_count": null,
            "flex_flow": null,
            "width": null,
            "min_width": null,
            "border": null,
            "align_items": null,
            "bottom": null,
            "_model_module": "@jupyter-widgets/base",
            "top": null,
            "grid_column": null,
            "overflow_y": null,
            "overflow_x": null,
            "grid_auto_flow": null,
            "grid_area": null,
            "grid_template_columns": null,
            "flex": null,
            "_model_name": "LayoutModel",
            "justify_items": null,
            "grid_row": null,
            "max_height": null,
            "align_content": null,
            "visibility": null,
            "align_self": null,
            "height": null,
            "min_height": null,
            "padding": null,
            "grid_auto_rows": null,
            "grid_gap": null,
            "max_width": null,
            "order": null,
            "_view_module_version": "1.2.0",
            "grid_template_areas": null,
            "object_position": null,
            "object_fit": null,
            "grid_auto_columns": null,
            "margin": null,
            "display": null,
            "left": null
          }
        },
        "4d20cfc18ff741a58b24855a2f59dcfa": {
          "model_module": "@jupyter-widgets/base",
          "model_name": "LayoutModel",
          "model_module_version": "1.2.0",
          "state": {
            "_view_name": "LayoutView",
            "grid_template_rows": null,
            "right": null,
            "justify_content": null,
            "_view_module": "@jupyter-widgets/base",
            "overflow": null,
            "_model_module_version": "1.2.0",
            "_view_count": null,
            "flex_flow": null,
            "width": null,
            "min_width": null,
            "border": null,
            "align_items": null,
            "bottom": null,
            "_model_module": "@jupyter-widgets/base",
            "top": null,
            "grid_column": null,
            "overflow_y": null,
            "overflow_x": null,
            "grid_auto_flow": null,
            "grid_area": null,
            "grid_template_columns": null,
            "flex": null,
            "_model_name": "LayoutModel",
            "justify_items": null,
            "grid_row": null,
            "max_height": null,
            "align_content": null,
            "visibility": null,
            "align_self": null,
            "height": null,
            "min_height": null,
            "padding": null,
            "grid_auto_rows": null,
            "grid_gap": null,
            "max_width": null,
            "order": null,
            "_view_module_version": "1.2.0",
            "grid_template_areas": null,
            "object_position": null,
            "object_fit": null,
            "grid_auto_columns": null,
            "margin": null,
            "display": null,
            "left": null
          }
        },
        "ae05162bd61543c1827fe2a3053566e0": {
          "model_module": "@jupyter-widgets/controls",
          "model_name": "VBoxModel",
          "model_module_version": "1.5.0",
          "state": {
            "_view_name": "VBoxView",
            "_dom_classes": [
              "widget-interact"
            ],
            "_model_name": "VBoxModel",
            "_view_module": "@jupyter-widgets/controls",
            "_model_module_version": "1.5.0",
            "_view_count": null,
            "_view_module_version": "1.5.0",
            "box_style": "",
            "layout": "IPY_MODEL_7804a771625f49bb8f0b94da0dbf306f",
            "_model_module": "@jupyter-widgets/controls",
            "children": [
              "IPY_MODEL_71387736025d4fc9a47832936cae705c",
              "IPY_MODEL_d4b7c8f185f8437ba9531b9fc2b21562",
              "IPY_MODEL_0442332d36664fbf88f6ca4c2bafdf7b",
              "IPY_MODEL_f525792169bd4466b0327bd41e14e3fe"
            ]
          }
        },
        "7804a771625f49bb8f0b94da0dbf306f": {
          "model_module": "@jupyter-widgets/base",
          "model_name": "LayoutModel",
          "model_module_version": "1.2.0",
          "state": {
            "_view_name": "LayoutView",
            "grid_template_rows": null,
            "right": null,
            "justify_content": null,
            "_view_module": "@jupyter-widgets/base",
            "overflow": null,
            "_model_module_version": "1.2.0",
            "_view_count": null,
            "flex_flow": null,
            "width": null,
            "min_width": null,
            "border": null,
            "align_items": null,
            "bottom": null,
            "_model_module": "@jupyter-widgets/base",
            "top": null,
            "grid_column": null,
            "overflow_y": null,
            "overflow_x": null,
            "grid_auto_flow": null,
            "grid_area": null,
            "grid_template_columns": null,
            "flex": null,
            "_model_name": "LayoutModel",
            "justify_items": null,
            "grid_row": null,
            "max_height": null,
            "align_content": null,
            "visibility": null,
            "align_self": null,
            "height": null,
            "min_height": null,
            "padding": null,
            "grid_auto_rows": null,
            "grid_gap": null,
            "max_width": null,
            "order": null,
            "_view_module_version": "1.2.0",
            "grid_template_areas": null,
            "object_position": null,
            "object_fit": null,
            "grid_auto_columns": null,
            "margin": null,
            "display": null,
            "left": null
          }
        },
        "71387736025d4fc9a47832936cae705c": {
          "model_module": "@jupyter-widgets/controls",
          "model_name": "IntSliderModel",
          "model_module_version": "1.5.0",
          "state": {
            "_view_name": "IntSliderView",
            "style": "IPY_MODEL_9086454daa2c44dd97f60059e30a7da5",
            "_dom_classes": [],
            "description": "giocate",
            "step": 1,
            "_model_name": "IntSliderModel",
            "orientation": "horizontal",
            "max": 6,
            "_view_module": "@jupyter-widgets/controls",
            "_model_module_version": "1.5.0",
            "value": 3,
            "_view_count": null,
            "disabled": false,
            "_view_module_version": "1.5.0",
            "min": 1,
            "continuous_update": true,
            "readout_format": "d",
            "description_tooltip": null,
            "readout": true,
            "_model_module": "@jupyter-widgets/controls",
            "layout": "IPY_MODEL_f6aba3b1488746c3acbe6fddd9d3340a"
          }
        },
        "d4b7c8f185f8437ba9531b9fc2b21562": {
          "model_module": "@jupyter-widgets/controls",
          "model_name": "IntSliderModel",
          "model_module_version": "1.5.0",
          "state": {
            "_view_name": "IntSliderView",
            "style": "IPY_MODEL_d738e3492a4343b9b5230a9997f3ba63",
            "_dom_classes": [],
            "description": "puntata",
            "step": 5,
            "_model_name": "IntSliderModel",
            "orientation": "horizontal",
            "max": 100,
            "_view_module": "@jupyter-widgets/controls",
            "_model_module_version": "1.5.0",
            "value": 5,
            "_view_count": null,
            "disabled": false,
            "_view_module_version": "1.5.0",
            "min": 5,
            "continuous_update": true,
            "readout_format": "d",
            "description_tooltip": null,
            "readout": true,
            "_model_module": "@jupyter-widgets/controls",
            "layout": "IPY_MODEL_050a330154ba40c79d155c1a660c3b36"
          }
        },
        "0442332d36664fbf88f6ca4c2bafdf7b": {
          "model_module": "@jupyter-widgets/controls",
          "model_name": "ButtonModel",
          "model_module_version": "1.5.0",
          "state": {
            "_view_name": "ButtonView",
            "style": "IPY_MODEL_88a0bedc3f304b47b0d1ac126b2c0761",
            "_dom_classes": [],
            "description": "Run Interact",
            "_model_name": "ButtonModel",
            "button_style": "",
            "_view_module": "@jupyter-widgets/controls",
            "_model_module_version": "1.5.0",
            "tooltip": "",
            "_view_count": null,
            "disabled": false,
            "_view_module_version": "1.5.0",
            "layout": "IPY_MODEL_7c196c33e0d643319717d47143196620",
            "_model_module": "@jupyter-widgets/controls",
            "icon": ""
          }
        },
        "f525792169bd4466b0327bd41e14e3fe": {
          "model_module": "@jupyter-widgets/output",
          "model_name": "OutputModel",
          "model_module_version": "1.0.0",
          "state": {
            "_view_name": "OutputView",
            "msg_id": "",
            "_dom_classes": [],
            "_model_name": "OutputModel",
            "outputs": [],
            "_view_module": "@jupyter-widgets/output",
            "_model_module_version": "1.0.0",
            "_view_count": null,
            "_view_module_version": "1.0.0",
            "layout": "IPY_MODEL_98b1f60d2df546e7bda2a05237666bd4",
            "_model_module": "@jupyter-widgets/output"
          }
        },
        "9086454daa2c44dd97f60059e30a7da5": {
          "model_module": "@jupyter-widgets/controls",
          "model_name": "SliderStyleModel",
          "model_module_version": "1.5.0",
          "state": {
            "_view_name": "StyleView",
            "handle_color": null,
            "_model_name": "SliderStyleModel",
            "description_width": "",
            "_view_module": "@jupyter-widgets/base",
            "_model_module_version": "1.5.0",
            "_view_count": null,
            "_view_module_version": "1.2.0",
            "_model_module": "@jupyter-widgets/controls"
          }
        },
        "f6aba3b1488746c3acbe6fddd9d3340a": {
          "model_module": "@jupyter-widgets/base",
          "model_name": "LayoutModel",
          "model_module_version": "1.2.0",
          "state": {
            "_view_name": "LayoutView",
            "grid_template_rows": null,
            "right": null,
            "justify_content": null,
            "_view_module": "@jupyter-widgets/base",
            "overflow": null,
            "_model_module_version": "1.2.0",
            "_view_count": null,
            "flex_flow": null,
            "width": null,
            "min_width": null,
            "border": null,
            "align_items": null,
            "bottom": null,
            "_model_module": "@jupyter-widgets/base",
            "top": null,
            "grid_column": null,
            "overflow_y": null,
            "overflow_x": null,
            "grid_auto_flow": null,
            "grid_area": null,
            "grid_template_columns": null,
            "flex": null,
            "_model_name": "LayoutModel",
            "justify_items": null,
            "grid_row": null,
            "max_height": null,
            "align_content": null,
            "visibility": null,
            "align_self": null,
            "height": null,
            "min_height": null,
            "padding": null,
            "grid_auto_rows": null,
            "grid_gap": null,
            "max_width": null,
            "order": null,
            "_view_module_version": "1.2.0",
            "grid_template_areas": null,
            "object_position": null,
            "object_fit": null,
            "grid_auto_columns": null,
            "margin": null,
            "display": null,
            "left": null
          }
        },
        "d738e3492a4343b9b5230a9997f3ba63": {
          "model_module": "@jupyter-widgets/controls",
          "model_name": "SliderStyleModel",
          "model_module_version": "1.5.0",
          "state": {
            "_view_name": "StyleView",
            "handle_color": null,
            "_model_name": "SliderStyleModel",
            "description_width": "",
            "_view_module": "@jupyter-widgets/base",
            "_model_module_version": "1.5.0",
            "_view_count": null,
            "_view_module_version": "1.2.0",
            "_model_module": "@jupyter-widgets/controls"
          }
        },
        "050a330154ba40c79d155c1a660c3b36": {
          "model_module": "@jupyter-widgets/base",
          "model_name": "LayoutModel",
          "model_module_version": "1.2.0",
          "state": {
            "_view_name": "LayoutView",
            "grid_template_rows": null,
            "right": null,
            "justify_content": null,
            "_view_module": "@jupyter-widgets/base",
            "overflow": null,
            "_model_module_version": "1.2.0",
            "_view_count": null,
            "flex_flow": null,
            "width": null,
            "min_width": null,
            "border": null,
            "align_items": null,
            "bottom": null,
            "_model_module": "@jupyter-widgets/base",
            "top": null,
            "grid_column": null,
            "overflow_y": null,
            "overflow_x": null,
            "grid_auto_flow": null,
            "grid_area": null,
            "grid_template_columns": null,
            "flex": null,
            "_model_name": "LayoutModel",
            "justify_items": null,
            "grid_row": null,
            "max_height": null,
            "align_content": null,
            "visibility": null,
            "align_self": null,
            "height": null,
            "min_height": null,
            "padding": null,
            "grid_auto_rows": null,
            "grid_gap": null,
            "max_width": null,
            "order": null,
            "_view_module_version": "1.2.0",
            "grid_template_areas": null,
            "object_position": null,
            "object_fit": null,
            "grid_auto_columns": null,
            "margin": null,
            "display": null,
            "left": null
          }
        },
        "88a0bedc3f304b47b0d1ac126b2c0761": {
          "model_module": "@jupyter-widgets/controls",
          "model_name": "ButtonStyleModel",
          "model_module_version": "1.5.0",
          "state": {
            "_view_name": "StyleView",
            "_model_name": "ButtonStyleModel",
            "_view_module": "@jupyter-widgets/base",
            "_model_module_version": "1.5.0",
            "_view_count": null,
            "button_color": null,
            "font_weight": "",
            "_view_module_version": "1.2.0",
            "_model_module": "@jupyter-widgets/controls"
          }
        },
        "7c196c33e0d643319717d47143196620": {
          "model_module": "@jupyter-widgets/base",
          "model_name": "LayoutModel",
          "model_module_version": "1.2.0",
          "state": {
            "_view_name": "LayoutView",
            "grid_template_rows": null,
            "right": null,
            "justify_content": null,
            "_view_module": "@jupyter-widgets/base",
            "overflow": null,
            "_model_module_version": "1.2.0",
            "_view_count": null,
            "flex_flow": null,
            "width": null,
            "min_width": null,
            "border": null,
            "align_items": null,
            "bottom": null,
            "_model_module": "@jupyter-widgets/base",
            "top": null,
            "grid_column": null,
            "overflow_y": null,
            "overflow_x": null,
            "grid_auto_flow": null,
            "grid_area": null,
            "grid_template_columns": null,
            "flex": null,
            "_model_name": "LayoutModel",
            "justify_items": null,
            "grid_row": null,
            "max_height": null,
            "align_content": null,
            "visibility": null,
            "align_self": null,
            "height": null,
            "min_height": null,
            "padding": null,
            "grid_auto_rows": null,
            "grid_gap": null,
            "max_width": null,
            "order": null,
            "_view_module_version": "1.2.0",
            "grid_template_areas": null,
            "object_position": null,
            "object_fit": null,
            "grid_auto_columns": null,
            "margin": null,
            "display": null,
            "left": null
          }
        },
        "98b1f60d2df546e7bda2a05237666bd4": {
          "model_module": "@jupyter-widgets/base",
          "model_name": "LayoutModel",
          "model_module_version": "1.2.0",
          "state": {
            "_view_name": "LayoutView",
            "grid_template_rows": null,
            "right": null,
            "justify_content": null,
            "_view_module": "@jupyter-widgets/base",
            "overflow": null,
            "_model_module_version": "1.2.0",
            "_view_count": null,
            "flex_flow": null,
            "width": null,
            "min_width": null,
            "border": null,
            "align_items": null,
            "bottom": null,
            "_model_module": "@jupyter-widgets/base",
            "top": null,
            "grid_column": null,
            "overflow_y": null,
            "overflow_x": null,
            "grid_auto_flow": null,
            "grid_area": null,
            "grid_template_columns": null,
            "flex": null,
            "_model_name": "LayoutModel",
            "justify_items": null,
            "grid_row": null,
            "max_height": null,
            "align_content": null,
            "visibility": null,
            "align_self": null,
            "height": null,
            "min_height": null,
            "padding": null,
            "grid_auto_rows": null,
            "grid_gap": null,
            "max_width": null,
            "order": null,
            "_view_module_version": "1.2.0",
            "grid_template_areas": null,
            "object_position": null,
            "object_fit": null,
            "grid_auto_columns": null,
            "margin": null,
            "display": null,
            "left": null
          }
        },
        "f46702f58163403eb8931983f2d2f34a": {
          "model_module": "@jupyter-widgets/controls",
          "model_name": "VBoxModel",
          "model_module_version": "1.5.0",
          "state": {
            "_view_name": "VBoxView",
            "_dom_classes": [
              "widget-interact"
            ],
            "_model_name": "VBoxModel",
            "_view_module": "@jupyter-widgets/controls",
            "_model_module_version": "1.5.0",
            "_view_count": null,
            "_view_module_version": "1.5.0",
            "box_style": "",
            "layout": "IPY_MODEL_3de4b37942634da2a5734c4976ef3a68",
            "_model_module": "@jupyter-widgets/controls",
            "children": [
              "IPY_MODEL_0fce210f55d24e6ab9126fd24ca66205",
              "IPY_MODEL_fdb3c0fafddf4ab8a97236cf0c06d3ef",
              "IPY_MODEL_3d8db68ee8e94a4c8a875bbc4001c1c9"
            ]
          }
        },
        "3de4b37942634da2a5734c4976ef3a68": {
          "model_module": "@jupyter-widgets/base",
          "model_name": "LayoutModel",
          "model_module_version": "1.2.0",
          "state": {
            "_view_name": "LayoutView",
            "grid_template_rows": null,
            "right": null,
            "justify_content": null,
            "_view_module": "@jupyter-widgets/base",
            "overflow": null,
            "_model_module_version": "1.2.0",
            "_view_count": null,
            "flex_flow": null,
            "width": null,
            "min_width": null,
            "border": null,
            "align_items": null,
            "bottom": null,
            "_model_module": "@jupyter-widgets/base",
            "top": null,
            "grid_column": null,
            "overflow_y": null,
            "overflow_x": null,
            "grid_auto_flow": null,
            "grid_area": null,
            "grid_template_columns": null,
            "flex": null,
            "_model_name": "LayoutModel",
            "justify_items": null,
            "grid_row": null,
            "max_height": null,
            "align_content": null,
            "visibility": null,
            "align_self": null,
            "height": null,
            "min_height": null,
            "padding": null,
            "grid_auto_rows": null,
            "grid_gap": null,
            "max_width": null,
            "order": null,
            "_view_module_version": "1.2.0",
            "grid_template_areas": null,
            "object_position": null,
            "object_fit": null,
            "grid_auto_columns": null,
            "margin": null,
            "display": null,
            "left": null
          }
        },
        "0fce210f55d24e6ab9126fd24ca66205": {
          "model_module": "@jupyter-widgets/controls",
          "model_name": "IntSliderModel",
          "model_module_version": "1.5.0",
          "state": {
            "_view_name": "IntSliderView",
            "style": "IPY_MODEL_f88615e4170b4c9cb5703441e7f6e1f7",
            "_dom_classes": [],
            "description": "estrazioni",
            "step": 1,
            "_model_name": "IntSliderModel",
            "orientation": "horizontal",
            "max": 10,
            "_view_module": "@jupyter-widgets/controls",
            "_model_module_version": "1.5.0",
            "value": 3,
            "_view_count": null,
            "disabled": false,
            "_view_module_version": "1.5.0",
            "min": 1,
            "continuous_update": true,
            "readout_format": "d",
            "description_tooltip": null,
            "readout": true,
            "_model_module": "@jupyter-widgets/controls",
            "layout": "IPY_MODEL_739424a0f13f4f79b844f54004e97d72"
          }
        },
        "fdb3c0fafddf4ab8a97236cf0c06d3ef": {
          "model_module": "@jupyter-widgets/controls",
          "model_name": "ButtonModel",
          "model_module_version": "1.5.0",
          "state": {
            "_view_name": "ButtonView",
            "style": "IPY_MODEL_60308b062f58408696411bc5e66b323c",
            "_dom_classes": [],
            "description": "Run Interact",
            "_model_name": "ButtonModel",
            "button_style": "",
            "_view_module": "@jupyter-widgets/controls",
            "_model_module_version": "1.5.0",
            "tooltip": "",
            "_view_count": null,
            "disabled": false,
            "_view_module_version": "1.5.0",
            "layout": "IPY_MODEL_98635ad3843040ae89c2403187914909",
            "_model_module": "@jupyter-widgets/controls",
            "icon": ""
          }
        },
        "3d8db68ee8e94a4c8a875bbc4001c1c9": {
          "model_module": "@jupyter-widgets/output",
          "model_name": "OutputModel",
          "model_module_version": "1.0.0",
          "state": {
            "_view_name": "OutputView",
            "msg_id": "",
            "_dom_classes": [],
            "_model_name": "OutputModel",
            "outputs": [],
            "_view_module": "@jupyter-widgets/output",
            "_model_module_version": "1.0.0",
            "_view_count": null,
            "_view_module_version": "1.0.0",
            "layout": "IPY_MODEL_7a56f4e98d024be996b3bb81b16283e8",
            "_model_module": "@jupyter-widgets/output"
          }
        },
        "f88615e4170b4c9cb5703441e7f6e1f7": {
          "model_module": "@jupyter-widgets/controls",
          "model_name": "SliderStyleModel",
          "model_module_version": "1.5.0",
          "state": {
            "_view_name": "StyleView",
            "handle_color": null,
            "_model_name": "SliderStyleModel",
            "description_width": "",
            "_view_module": "@jupyter-widgets/base",
            "_model_module_version": "1.5.0",
            "_view_count": null,
            "_view_module_version": "1.2.0",
            "_model_module": "@jupyter-widgets/controls"
          }
        },
        "739424a0f13f4f79b844f54004e97d72": {
          "model_module": "@jupyter-widgets/base",
          "model_name": "LayoutModel",
          "model_module_version": "1.2.0",
          "state": {
            "_view_name": "LayoutView",
            "grid_template_rows": null,
            "right": null,
            "justify_content": null,
            "_view_module": "@jupyter-widgets/base",
            "overflow": null,
            "_model_module_version": "1.2.0",
            "_view_count": null,
            "flex_flow": null,
            "width": null,
            "min_width": null,
            "border": null,
            "align_items": null,
            "bottom": null,
            "_model_module": "@jupyter-widgets/base",
            "top": null,
            "grid_column": null,
            "overflow_y": null,
            "overflow_x": null,
            "grid_auto_flow": null,
            "grid_area": null,
            "grid_template_columns": null,
            "flex": null,
            "_model_name": "LayoutModel",
            "justify_items": null,
            "grid_row": null,
            "max_height": null,
            "align_content": null,
            "visibility": null,
            "align_self": null,
            "height": null,
            "min_height": null,
            "padding": null,
            "grid_auto_rows": null,
            "grid_gap": null,
            "max_width": null,
            "order": null,
            "_view_module_version": "1.2.0",
            "grid_template_areas": null,
            "object_position": null,
            "object_fit": null,
            "grid_auto_columns": null,
            "margin": null,
            "display": null,
            "left": null
          }
        },
        "60308b062f58408696411bc5e66b323c": {
          "model_module": "@jupyter-widgets/controls",
          "model_name": "ButtonStyleModel",
          "model_module_version": "1.5.0",
          "state": {
            "_view_name": "StyleView",
            "_model_name": "ButtonStyleModel",
            "_view_module": "@jupyter-widgets/base",
            "_model_module_version": "1.5.0",
            "_view_count": null,
            "button_color": null,
            "font_weight": "",
            "_view_module_version": "1.2.0",
            "_model_module": "@jupyter-widgets/controls"
          }
        },
        "98635ad3843040ae89c2403187914909": {
          "model_module": "@jupyter-widgets/base",
          "model_name": "LayoutModel",
          "model_module_version": "1.2.0",
          "state": {
            "_view_name": "LayoutView",
            "grid_template_rows": null,
            "right": null,
            "justify_content": null,
            "_view_module": "@jupyter-widgets/base",
            "overflow": null,
            "_model_module_version": "1.2.0",
            "_view_count": null,
            "flex_flow": null,
            "width": null,
            "min_width": null,
            "border": null,
            "align_items": null,
            "bottom": null,
            "_model_module": "@jupyter-widgets/base",
            "top": null,
            "grid_column": null,
            "overflow_y": null,
            "overflow_x": null,
            "grid_auto_flow": null,
            "grid_area": null,
            "grid_template_columns": null,
            "flex": null,
            "_model_name": "LayoutModel",
            "justify_items": null,
            "grid_row": null,
            "max_height": null,
            "align_content": null,
            "visibility": null,
            "align_self": null,
            "height": null,
            "min_height": null,
            "padding": null,
            "grid_auto_rows": null,
            "grid_gap": null,
            "max_width": null,
            "order": null,
            "_view_module_version": "1.2.0",
            "grid_template_areas": null,
            "object_position": null,
            "object_fit": null,
            "grid_auto_columns": null,
            "margin": null,
            "display": null,
            "left": null
          }
        },
        "7a56f4e98d024be996b3bb81b16283e8": {
          "model_module": "@jupyter-widgets/base",
          "model_name": "LayoutModel",
          "model_module_version": "1.2.0",
          "state": {
            "_view_name": "LayoutView",
            "grid_template_rows": null,
            "right": null,
            "justify_content": null,
            "_view_module": "@jupyter-widgets/base",
            "overflow": null,
            "_model_module_version": "1.2.0",
            "_view_count": null,
            "flex_flow": null,
            "width": null,
            "min_width": null,
            "border": null,
            "align_items": null,
            "bottom": null,
            "_model_module": "@jupyter-widgets/base",
            "top": null,
            "grid_column": null,
            "overflow_y": null,
            "overflow_x": null,
            "grid_auto_flow": null,
            "grid_area": null,
            "grid_template_columns": null,
            "flex": null,
            "_model_name": "LayoutModel",
            "justify_items": null,
            "grid_row": null,
            "max_height": null,
            "align_content": null,
            "visibility": null,
            "align_self": null,
            "height": null,
            "min_height": null,
            "padding": null,
            "grid_auto_rows": null,
            "grid_gap": null,
            "max_width": null,
            "order": null,
            "_view_module_version": "1.2.0",
            "grid_template_areas": null,
            "object_position": null,
            "object_fit": null,
            "grid_auto_columns": null,
            "margin": null,
            "display": null,
            "left": null
          }
        },
        "1d5fff611fdf423b82d3ba3515c212b4": {
          "model_module": "@jupyter-widgets/controls",
          "model_name": "VBoxModel",
          "model_module_version": "1.5.0",
          "state": {
            "_view_name": "VBoxView",
            "_dom_classes": [
              "widget-interact"
            ],
            "_model_name": "VBoxModel",
            "_view_module": "@jupyter-widgets/controls",
            "_model_module_version": "1.5.0",
            "_view_count": null,
            "_view_module_version": "1.5.0",
            "box_style": "",
            "layout": "IPY_MODEL_12ccf2bec29f48bd9e3c2987b03bc4c8",
            "_model_module": "@jupyter-widgets/controls",
            "children": [
              "IPY_MODEL_2ecc4589da27480d8dff6409dc960c7d",
              "IPY_MODEL_497d1b6d54af4e20aba90ac7d2982ae1",
              "IPY_MODEL_baf3c24857394f978aa99a283d7b9a3a",
              "IPY_MODEL_5a07455bfce2421bb5cc834525d01e89"
            ]
          }
        },
        "12ccf2bec29f48bd9e3c2987b03bc4c8": {
          "model_module": "@jupyter-widgets/base",
          "model_name": "LayoutModel",
          "model_module_version": "1.2.0",
          "state": {
            "_view_name": "LayoutView",
            "grid_template_rows": null,
            "right": null,
            "justify_content": null,
            "_view_module": "@jupyter-widgets/base",
            "overflow": null,
            "_model_module_version": "1.2.0",
            "_view_count": null,
            "flex_flow": null,
            "width": null,
            "min_width": null,
            "border": null,
            "align_items": null,
            "bottom": null,
            "_model_module": "@jupyter-widgets/base",
            "top": null,
            "grid_column": null,
            "overflow_y": null,
            "overflow_x": null,
            "grid_auto_flow": null,
            "grid_area": null,
            "grid_template_columns": null,
            "flex": null,
            "_model_name": "LayoutModel",
            "justify_items": null,
            "grid_row": null,
            "max_height": null,
            "align_content": null,
            "visibility": null,
            "align_self": null,
            "height": null,
            "min_height": null,
            "padding": null,
            "grid_auto_rows": null,
            "grid_gap": null,
            "max_width": null,
            "order": null,
            "_view_module_version": "1.2.0",
            "grid_template_areas": null,
            "object_position": null,
            "object_fit": null,
            "grid_auto_columns": null,
            "margin": null,
            "display": null,
            "left": null
          }
        },
        "2ecc4589da27480d8dff6409dc960c7d": {
          "model_module": "@jupyter-widgets/controls",
          "model_name": "IntSliderModel",
          "model_module_version": "1.5.0",
          "state": {
            "_view_name": "IntSliderView",
            "style": "IPY_MODEL_9708451a9d6c4468be5a1e3c8d529648",
            "_dom_classes": [],
            "description": "bianche",
            "step": 1,
            "_model_name": "IntSliderModel",
            "orientation": "horizontal",
            "max": 5,
            "_view_module": "@jupyter-widgets/controls",
            "_model_module_version": "1.5.0",
            "value": 2,
            "_view_count": null,
            "disabled": false,
            "_view_module_version": "1.5.0",
            "min": 1,
            "continuous_update": true,
            "readout_format": "d",
            "description_tooltip": null,
            "readout": true,
            "_model_module": "@jupyter-widgets/controls",
            "layout": "IPY_MODEL_0b56c96ef8824c2d9c0e34ed08d15ae7"
          }
        },
        "497d1b6d54af4e20aba90ac7d2982ae1": {
          "model_module": "@jupyter-widgets/controls",
          "model_name": "IntSliderModel",
          "model_module_version": "1.5.0",
          "state": {
            "_view_name": "IntSliderView",
            "style": "IPY_MODEL_7284d58288a44e91b47b488893d35ee2",
            "_dom_classes": [],
            "description": "rosse",
            "step": 1,
            "_model_name": "IntSliderModel",
            "orientation": "horizontal",
            "max": 5,
            "_view_module": "@jupyter-widgets/controls",
            "_model_module_version": "1.5.0",
            "value": 3,
            "_view_count": null,
            "disabled": false,
            "_view_module_version": "1.5.0",
            "min": 1,
            "continuous_update": true,
            "readout_format": "d",
            "description_tooltip": null,
            "readout": true,
            "_model_module": "@jupyter-widgets/controls",
            "layout": "IPY_MODEL_b85fee060e674cf09bcba525c93e8658"
          }
        },
        "baf3c24857394f978aa99a283d7b9a3a": {
          "model_module": "@jupyter-widgets/controls",
          "model_name": "ButtonModel",
          "model_module_version": "1.5.0",
          "state": {
            "_view_name": "ButtonView",
            "style": "IPY_MODEL_6af1af6854054bf4a62cf501592b2cfc",
            "_dom_classes": [],
            "description": "Run Interact",
            "_model_name": "ButtonModel",
            "button_style": "",
            "_view_module": "@jupyter-widgets/controls",
            "_model_module_version": "1.5.0",
            "tooltip": "",
            "_view_count": null,
            "disabled": false,
            "_view_module_version": "1.5.0",
            "layout": "IPY_MODEL_4daf4f256ce84959a6bdc6578803f8e9",
            "_model_module": "@jupyter-widgets/controls",
            "icon": ""
          }
        },
        "5a07455bfce2421bb5cc834525d01e89": {
          "model_module": "@jupyter-widgets/output",
          "model_name": "OutputModel",
          "model_module_version": "1.0.0",
          "state": {
            "_view_name": "OutputView",
            "msg_id": "",
            "_dom_classes": [],
            "_model_name": "OutputModel",
            "outputs": [],
            "_view_module": "@jupyter-widgets/output",
            "_model_module_version": "1.0.0",
            "_view_count": null,
            "_view_module_version": "1.0.0",
            "layout": "IPY_MODEL_8ef198052dbe4cf2be45b83ce033ef05",
            "_model_module": "@jupyter-widgets/output"
          }
        },
        "9708451a9d6c4468be5a1e3c8d529648": {
          "model_module": "@jupyter-widgets/controls",
          "model_name": "SliderStyleModel",
          "model_module_version": "1.5.0",
          "state": {
            "_view_name": "StyleView",
            "handle_color": null,
            "_model_name": "SliderStyleModel",
            "description_width": "",
            "_view_module": "@jupyter-widgets/base",
            "_model_module_version": "1.5.0",
            "_view_count": null,
            "_view_module_version": "1.2.0",
            "_model_module": "@jupyter-widgets/controls"
          }
        },
        "0b56c96ef8824c2d9c0e34ed08d15ae7": {
          "model_module": "@jupyter-widgets/base",
          "model_name": "LayoutModel",
          "model_module_version": "1.2.0",
          "state": {
            "_view_name": "LayoutView",
            "grid_template_rows": null,
            "right": null,
            "justify_content": null,
            "_view_module": "@jupyter-widgets/base",
            "overflow": null,
            "_model_module_version": "1.2.0",
            "_view_count": null,
            "flex_flow": null,
            "width": null,
            "min_width": null,
            "border": null,
            "align_items": null,
            "bottom": null,
            "_model_module": "@jupyter-widgets/base",
            "top": null,
            "grid_column": null,
            "overflow_y": null,
            "overflow_x": null,
            "grid_auto_flow": null,
            "grid_area": null,
            "grid_template_columns": null,
            "flex": null,
            "_model_name": "LayoutModel",
            "justify_items": null,
            "grid_row": null,
            "max_height": null,
            "align_content": null,
            "visibility": null,
            "align_self": null,
            "height": null,
            "min_height": null,
            "padding": null,
            "grid_auto_rows": null,
            "grid_gap": null,
            "max_width": null,
            "order": null,
            "_view_module_version": "1.2.0",
            "grid_template_areas": null,
            "object_position": null,
            "object_fit": null,
            "grid_auto_columns": null,
            "margin": null,
            "display": null,
            "left": null
          }
        },
        "7284d58288a44e91b47b488893d35ee2": {
          "model_module": "@jupyter-widgets/controls",
          "model_name": "SliderStyleModel",
          "model_module_version": "1.5.0",
          "state": {
            "_view_name": "StyleView",
            "handle_color": null,
            "_model_name": "SliderStyleModel",
            "description_width": "",
            "_view_module": "@jupyter-widgets/base",
            "_model_module_version": "1.5.0",
            "_view_count": null,
            "_view_module_version": "1.2.0",
            "_model_module": "@jupyter-widgets/controls"
          }
        },
        "b85fee060e674cf09bcba525c93e8658": {
          "model_module": "@jupyter-widgets/base",
          "model_name": "LayoutModel",
          "model_module_version": "1.2.0",
          "state": {
            "_view_name": "LayoutView",
            "grid_template_rows": null,
            "right": null,
            "justify_content": null,
            "_view_module": "@jupyter-widgets/base",
            "overflow": null,
            "_model_module_version": "1.2.0",
            "_view_count": null,
            "flex_flow": null,
            "width": null,
            "min_width": null,
            "border": null,
            "align_items": null,
            "bottom": null,
            "_model_module": "@jupyter-widgets/base",
            "top": null,
            "grid_column": null,
            "overflow_y": null,
            "overflow_x": null,
            "grid_auto_flow": null,
            "grid_area": null,
            "grid_template_columns": null,
            "flex": null,
            "_model_name": "LayoutModel",
            "justify_items": null,
            "grid_row": null,
            "max_height": null,
            "align_content": null,
            "visibility": null,
            "align_self": null,
            "height": null,
            "min_height": null,
            "padding": null,
            "grid_auto_rows": null,
            "grid_gap": null,
            "max_width": null,
            "order": null,
            "_view_module_version": "1.2.0",
            "grid_template_areas": null,
            "object_position": null,
            "object_fit": null,
            "grid_auto_columns": null,
            "margin": null,
            "display": null,
            "left": null
          }
        },
        "6af1af6854054bf4a62cf501592b2cfc": {
          "model_module": "@jupyter-widgets/controls",
          "model_name": "ButtonStyleModel",
          "model_module_version": "1.5.0",
          "state": {
            "_view_name": "StyleView",
            "_model_name": "ButtonStyleModel",
            "_view_module": "@jupyter-widgets/base",
            "_model_module_version": "1.5.0",
            "_view_count": null,
            "button_color": null,
            "font_weight": "",
            "_view_module_version": "1.2.0",
            "_model_module": "@jupyter-widgets/controls"
          }
        },
        "4daf4f256ce84959a6bdc6578803f8e9": {
          "model_module": "@jupyter-widgets/base",
          "model_name": "LayoutModel",
          "model_module_version": "1.2.0",
          "state": {
            "_view_name": "LayoutView",
            "grid_template_rows": null,
            "right": null,
            "justify_content": null,
            "_view_module": "@jupyter-widgets/base",
            "overflow": null,
            "_model_module_version": "1.2.0",
            "_view_count": null,
            "flex_flow": null,
            "width": null,
            "min_width": null,
            "border": null,
            "align_items": null,
            "bottom": null,
            "_model_module": "@jupyter-widgets/base",
            "top": null,
            "grid_column": null,
            "overflow_y": null,
            "overflow_x": null,
            "grid_auto_flow": null,
            "grid_area": null,
            "grid_template_columns": null,
            "flex": null,
            "_model_name": "LayoutModel",
            "justify_items": null,
            "grid_row": null,
            "max_height": null,
            "align_content": null,
            "visibility": null,
            "align_self": null,
            "height": null,
            "min_height": null,
            "padding": null,
            "grid_auto_rows": null,
            "grid_gap": null,
            "max_width": null,
            "order": null,
            "_view_module_version": "1.2.0",
            "grid_template_areas": null,
            "object_position": null,
            "object_fit": null,
            "grid_auto_columns": null,
            "margin": null,
            "display": null,
            "left": null
          }
        },
        "8ef198052dbe4cf2be45b83ce033ef05": {
          "model_module": "@jupyter-widgets/base",
          "model_name": "LayoutModel",
          "model_module_version": "1.2.0",
          "state": {
            "_view_name": "LayoutView",
            "grid_template_rows": null,
            "right": null,
            "justify_content": null,
            "_view_module": "@jupyter-widgets/base",
            "overflow": null,
            "_model_module_version": "1.2.0",
            "_view_count": null,
            "flex_flow": null,
            "width": null,
            "min_width": null,
            "border": null,
            "align_items": null,
            "bottom": null,
            "_model_module": "@jupyter-widgets/base",
            "top": null,
            "grid_column": null,
            "overflow_y": null,
            "overflow_x": null,
            "grid_auto_flow": null,
            "grid_area": null,
            "grid_template_columns": null,
            "flex": null,
            "_model_name": "LayoutModel",
            "justify_items": null,
            "grid_row": null,
            "max_height": null,
            "align_content": null,
            "visibility": null,
            "align_self": null,
            "height": null,
            "min_height": null,
            "padding": null,
            "grid_auto_rows": null,
            "grid_gap": null,
            "max_width": null,
            "order": null,
            "_view_module_version": "1.2.0",
            "grid_template_areas": null,
            "object_position": null,
            "object_fit": null,
            "grid_auto_columns": null,
            "margin": null,
            "display": null,
            "left": null
          }
        },
        "6b0d08f9a4ea4d8fa54852bdcf90bffb": {
          "model_module": "@jupyter-widgets/controls",
          "model_name": "VBoxModel",
          "model_module_version": "1.5.0",
          "state": {
            "_view_name": "VBoxView",
            "_dom_classes": [
              "widget-interact"
            ],
            "_model_name": "VBoxModel",
            "_view_module": "@jupyter-widgets/controls",
            "_model_module_version": "1.5.0",
            "_view_count": null,
            "_view_module_version": "1.5.0",
            "box_style": "",
            "layout": "IPY_MODEL_ba95d4762d424e1bac1a9465444b99bf",
            "_model_module": "@jupyter-widgets/controls",
            "children": [
              "IPY_MODEL_dbb589eadc34411d98cf8444c0efda5b",
              "IPY_MODEL_88176b47de6145489b66a6d7cd0d17f8",
              "IPY_MODEL_abc6fefbadfd45868010c1c92e5b8280",
              "IPY_MODEL_2d2cb09f6ff6485ab63320dbb85be9e4"
            ]
          }
        },
        "ba95d4762d424e1bac1a9465444b99bf": {
          "model_module": "@jupyter-widgets/base",
          "model_name": "LayoutModel",
          "model_module_version": "1.2.0",
          "state": {
            "_view_name": "LayoutView",
            "grid_template_rows": null,
            "right": null,
            "justify_content": null,
            "_view_module": "@jupyter-widgets/base",
            "overflow": null,
            "_model_module_version": "1.2.0",
            "_view_count": null,
            "flex_flow": null,
            "width": null,
            "min_width": null,
            "border": null,
            "align_items": null,
            "bottom": null,
            "_model_module": "@jupyter-widgets/base",
            "top": null,
            "grid_column": null,
            "overflow_y": null,
            "overflow_x": null,
            "grid_auto_flow": null,
            "grid_area": null,
            "grid_template_columns": null,
            "flex": null,
            "_model_name": "LayoutModel",
            "justify_items": null,
            "grid_row": null,
            "max_height": null,
            "align_content": null,
            "visibility": null,
            "align_self": null,
            "height": null,
            "min_height": null,
            "padding": null,
            "grid_auto_rows": null,
            "grid_gap": null,
            "max_width": null,
            "order": null,
            "_view_module_version": "1.2.0",
            "grid_template_areas": null,
            "object_position": null,
            "object_fit": null,
            "grid_auto_columns": null,
            "margin": null,
            "display": null,
            "left": null
          }
        },
        "dbb589eadc34411d98cf8444c0efda5b": {
          "model_module": "@jupyter-widgets/controls",
          "model_name": "IntSliderModel",
          "model_module_version": "1.5.0",
          "state": {
            "_view_name": "IntSliderView",
            "style": "IPY_MODEL_bb277536cfbd46c98f02c13aada3afab",
            "_dom_classes": [],
            "description": "bianche",
            "step": 1,
            "_model_name": "IntSliderModel",
            "orientation": "horizontal",
            "max": 5,
            "_view_module": "@jupyter-widgets/controls",
            "_model_module_version": "1.5.0",
            "value": 2,
            "_view_count": null,
            "disabled": false,
            "_view_module_version": "1.5.0",
            "min": 1,
            "continuous_update": true,
            "readout_format": "d",
            "description_tooltip": null,
            "readout": true,
            "_model_module": "@jupyter-widgets/controls",
            "layout": "IPY_MODEL_43b3dd2ef38141849a161cf4c6a2d642"
          }
        },
        "88176b47de6145489b66a6d7cd0d17f8": {
          "model_module": "@jupyter-widgets/controls",
          "model_name": "IntSliderModel",
          "model_module_version": "1.5.0",
          "state": {
            "_view_name": "IntSliderView",
            "style": "IPY_MODEL_6258338c33554870ac5d2df88e4d21f6",
            "_dom_classes": [],
            "description": "rosse",
            "step": 1,
            "_model_name": "IntSliderModel",
            "orientation": "horizontal",
            "max": 5,
            "_view_module": "@jupyter-widgets/controls",
            "_model_module_version": "1.5.0",
            "value": 3,
            "_view_count": null,
            "disabled": false,
            "_view_module_version": "1.5.0",
            "min": 1,
            "continuous_update": true,
            "readout_format": "d",
            "description_tooltip": null,
            "readout": true,
            "_model_module": "@jupyter-widgets/controls",
            "layout": "IPY_MODEL_5bfe07c1ee06471787f7834b893c4cfa"
          }
        },
        "abc6fefbadfd45868010c1c92e5b8280": {
          "model_module": "@jupyter-widgets/controls",
          "model_name": "ButtonModel",
          "model_module_version": "1.5.0",
          "state": {
            "_view_name": "ButtonView",
            "style": "IPY_MODEL_df235c1e287f4da1b071d4bc33dcf4eb",
            "_dom_classes": [],
            "description": "Run Interact",
            "_model_name": "ButtonModel",
            "button_style": "",
            "_view_module": "@jupyter-widgets/controls",
            "_model_module_version": "1.5.0",
            "tooltip": "",
            "_view_count": null,
            "disabled": false,
            "_view_module_version": "1.5.0",
            "layout": "IPY_MODEL_f1c89055c6a54ad29f569f142ce56b2b",
            "_model_module": "@jupyter-widgets/controls",
            "icon": ""
          }
        },
        "2d2cb09f6ff6485ab63320dbb85be9e4": {
          "model_module": "@jupyter-widgets/output",
          "model_name": "OutputModel",
          "model_module_version": "1.0.0",
          "state": {
            "_view_name": "OutputView",
            "msg_id": "",
            "_dom_classes": [],
            "_model_name": "OutputModel",
            "outputs": [],
            "_view_module": "@jupyter-widgets/output",
            "_model_module_version": "1.0.0",
            "_view_count": null,
            "_view_module_version": "1.0.0",
            "layout": "IPY_MODEL_7139864d37ce4a9ba9c4e02fa51406ab",
            "_model_module": "@jupyter-widgets/output"
          }
        },
        "bb277536cfbd46c98f02c13aada3afab": {
          "model_module": "@jupyter-widgets/controls",
          "model_name": "SliderStyleModel",
          "model_module_version": "1.5.0",
          "state": {
            "_view_name": "StyleView",
            "handle_color": null,
            "_model_name": "SliderStyleModel",
            "description_width": "",
            "_view_module": "@jupyter-widgets/base",
            "_model_module_version": "1.5.0",
            "_view_count": null,
            "_view_module_version": "1.2.0",
            "_model_module": "@jupyter-widgets/controls"
          }
        },
        "43b3dd2ef38141849a161cf4c6a2d642": {
          "model_module": "@jupyter-widgets/base",
          "model_name": "LayoutModel",
          "model_module_version": "1.2.0",
          "state": {
            "_view_name": "LayoutView",
            "grid_template_rows": null,
            "right": null,
            "justify_content": null,
            "_view_module": "@jupyter-widgets/base",
            "overflow": null,
            "_model_module_version": "1.2.0",
            "_view_count": null,
            "flex_flow": null,
            "width": null,
            "min_width": null,
            "border": null,
            "align_items": null,
            "bottom": null,
            "_model_module": "@jupyter-widgets/base",
            "top": null,
            "grid_column": null,
            "overflow_y": null,
            "overflow_x": null,
            "grid_auto_flow": null,
            "grid_area": null,
            "grid_template_columns": null,
            "flex": null,
            "_model_name": "LayoutModel",
            "justify_items": null,
            "grid_row": null,
            "max_height": null,
            "align_content": null,
            "visibility": null,
            "align_self": null,
            "height": null,
            "min_height": null,
            "padding": null,
            "grid_auto_rows": null,
            "grid_gap": null,
            "max_width": null,
            "order": null,
            "_view_module_version": "1.2.0",
            "grid_template_areas": null,
            "object_position": null,
            "object_fit": null,
            "grid_auto_columns": null,
            "margin": null,
            "display": null,
            "left": null
          }
        },
        "6258338c33554870ac5d2df88e4d21f6": {
          "model_module": "@jupyter-widgets/controls",
          "model_name": "SliderStyleModel",
          "model_module_version": "1.5.0",
          "state": {
            "_view_name": "StyleView",
            "handle_color": null,
            "_model_name": "SliderStyleModel",
            "description_width": "",
            "_view_module": "@jupyter-widgets/base",
            "_model_module_version": "1.5.0",
            "_view_count": null,
            "_view_module_version": "1.2.0",
            "_model_module": "@jupyter-widgets/controls"
          }
        },
        "5bfe07c1ee06471787f7834b893c4cfa": {
          "model_module": "@jupyter-widgets/base",
          "model_name": "LayoutModel",
          "model_module_version": "1.2.0",
          "state": {
            "_view_name": "LayoutView",
            "grid_template_rows": null,
            "right": null,
            "justify_content": null,
            "_view_module": "@jupyter-widgets/base",
            "overflow": null,
            "_model_module_version": "1.2.0",
            "_view_count": null,
            "flex_flow": null,
            "width": null,
            "min_width": null,
            "border": null,
            "align_items": null,
            "bottom": null,
            "_model_module": "@jupyter-widgets/base",
            "top": null,
            "grid_column": null,
            "overflow_y": null,
            "overflow_x": null,
            "grid_auto_flow": null,
            "grid_area": null,
            "grid_template_columns": null,
            "flex": null,
            "_model_name": "LayoutModel",
            "justify_items": null,
            "grid_row": null,
            "max_height": null,
            "align_content": null,
            "visibility": null,
            "align_self": null,
            "height": null,
            "min_height": null,
            "padding": null,
            "grid_auto_rows": null,
            "grid_gap": null,
            "max_width": null,
            "order": null,
            "_view_module_version": "1.2.0",
            "grid_template_areas": null,
            "object_position": null,
            "object_fit": null,
            "grid_auto_columns": null,
            "margin": null,
            "display": null,
            "left": null
          }
        },
        "df235c1e287f4da1b071d4bc33dcf4eb": {
          "model_module": "@jupyter-widgets/controls",
          "model_name": "ButtonStyleModel",
          "model_module_version": "1.5.0",
          "state": {
            "_view_name": "StyleView",
            "_model_name": "ButtonStyleModel",
            "_view_module": "@jupyter-widgets/base",
            "_model_module_version": "1.5.0",
            "_view_count": null,
            "button_color": null,
            "font_weight": "",
            "_view_module_version": "1.2.0",
            "_model_module": "@jupyter-widgets/controls"
          }
        },
        "f1c89055c6a54ad29f569f142ce56b2b": {
          "model_module": "@jupyter-widgets/base",
          "model_name": "LayoutModel",
          "model_module_version": "1.2.0",
          "state": {
            "_view_name": "LayoutView",
            "grid_template_rows": null,
            "right": null,
            "justify_content": null,
            "_view_module": "@jupyter-widgets/base",
            "overflow": null,
            "_model_module_version": "1.2.0",
            "_view_count": null,
            "flex_flow": null,
            "width": null,
            "min_width": null,
            "border": null,
            "align_items": null,
            "bottom": null,
            "_model_module": "@jupyter-widgets/base",
            "top": null,
            "grid_column": null,
            "overflow_y": null,
            "overflow_x": null,
            "grid_auto_flow": null,
            "grid_area": null,
            "grid_template_columns": null,
            "flex": null,
            "_model_name": "LayoutModel",
            "justify_items": null,
            "grid_row": null,
            "max_height": null,
            "align_content": null,
            "visibility": null,
            "align_self": null,
            "height": null,
            "min_height": null,
            "padding": null,
            "grid_auto_rows": null,
            "grid_gap": null,
            "max_width": null,
            "order": null,
            "_view_module_version": "1.2.0",
            "grid_template_areas": null,
            "object_position": null,
            "object_fit": null,
            "grid_auto_columns": null,
            "margin": null,
            "display": null,
            "left": null
          }
        },
        "7139864d37ce4a9ba9c4e02fa51406ab": {
          "model_module": "@jupyter-widgets/base",
          "model_name": "LayoutModel",
          "model_module_version": "1.2.0",
          "state": {
            "_view_name": "LayoutView",
            "grid_template_rows": null,
            "right": null,
            "justify_content": null,
            "_view_module": "@jupyter-widgets/base",
            "overflow": null,
            "_model_module_version": "1.2.0",
            "_view_count": null,
            "flex_flow": null,
            "width": null,
            "min_width": null,
            "border": null,
            "align_items": null,
            "bottom": null,
            "_model_module": "@jupyter-widgets/base",
            "top": null,
            "grid_column": null,
            "overflow_y": null,
            "overflow_x": null,
            "grid_auto_flow": null,
            "grid_area": null,
            "grid_template_columns": null,
            "flex": null,
            "_model_name": "LayoutModel",
            "justify_items": null,
            "grid_row": null,
            "max_height": null,
            "align_content": null,
            "visibility": null,
            "align_self": null,
            "height": null,
            "min_height": null,
            "padding": null,
            "grid_auto_rows": null,
            "grid_gap": null,
            "max_width": null,
            "order": null,
            "_view_module_version": "1.2.0",
            "grid_template_areas": null,
            "object_position": null,
            "object_fit": null,
            "grid_auto_columns": null,
            "margin": null,
            "display": null,
            "left": null
          }
        },
        "167335a17ec4459a95d655f39f58e0a1": {
          "model_module": "@jupyter-widgets/controls",
          "model_name": "VBoxModel",
          "model_module_version": "1.5.0",
          "state": {
            "_view_name": "VBoxView",
            "_dom_classes": [
              "widget-interact"
            ],
            "_model_name": "VBoxModel",
            "_view_module": "@jupyter-widgets/controls",
            "_model_module_version": "1.5.0",
            "_view_count": null,
            "_view_module_version": "1.5.0",
            "box_style": "",
            "layout": "IPY_MODEL_c9a17395f5794d2f9a729fa2ddba6eef",
            "_model_module": "@jupyter-widgets/controls",
            "children": [
              "IPY_MODEL_a4fe0b78ed4d4962ae0c99cfcf74a8c5",
              "IPY_MODEL_2dd7f5060c0c4ea1b5d1d6c229373cf8",
              "IPY_MODEL_e4a1dceb562e40108513f116e53f4a5e"
            ]
          }
        },
        "c9a17395f5794d2f9a729fa2ddba6eef": {
          "model_module": "@jupyter-widgets/base",
          "model_name": "LayoutModel",
          "model_module_version": "1.2.0",
          "state": {
            "_view_name": "LayoutView",
            "grid_template_rows": null,
            "right": null,
            "justify_content": null,
            "_view_module": "@jupyter-widgets/base",
            "overflow": null,
            "_model_module_version": "1.2.0",
            "_view_count": null,
            "flex_flow": null,
            "width": null,
            "min_width": null,
            "border": null,
            "align_items": null,
            "bottom": null,
            "_model_module": "@jupyter-widgets/base",
            "top": null,
            "grid_column": null,
            "overflow_y": null,
            "overflow_x": null,
            "grid_auto_flow": null,
            "grid_area": null,
            "grid_template_columns": null,
            "flex": null,
            "_model_name": "LayoutModel",
            "justify_items": null,
            "grid_row": null,
            "max_height": null,
            "align_content": null,
            "visibility": null,
            "align_self": null,
            "height": null,
            "min_height": null,
            "padding": null,
            "grid_auto_rows": null,
            "grid_gap": null,
            "max_width": null,
            "order": null,
            "_view_module_version": "1.2.0",
            "grid_template_areas": null,
            "object_position": null,
            "object_fit": null,
            "grid_auto_columns": null,
            "margin": null,
            "display": null,
            "left": null
          }
        },
        "a4fe0b78ed4d4962ae0c99cfcf74a8c5": {
          "model_module": "@jupyter-widgets/controls",
          "model_name": "IntSliderModel",
          "model_module_version": "1.5.0",
          "state": {
            "_view_name": "IntSliderView",
            "style": "IPY_MODEL_28120a21717f4652b6d6a89995761389",
            "_dom_classes": [],
            "description": "tempo",
            "step": 1,
            "_model_name": "IntSliderModel",
            "orientation": "horizontal",
            "max": 20,
            "_view_module": "@jupyter-widgets/controls",
            "_model_module_version": "1.5.0",
            "value": 10,
            "_view_count": null,
            "disabled": false,
            "_view_module_version": "1.5.0",
            "min": 1,
            "continuous_update": true,
            "readout_format": "d",
            "description_tooltip": null,
            "readout": true,
            "_model_module": "@jupyter-widgets/controls",
            "layout": "IPY_MODEL_4b98873fd5ab43f49d636c4d328fa9db"
          }
        },
        "2dd7f5060c0c4ea1b5d1d6c229373cf8": {
          "model_module": "@jupyter-widgets/controls",
          "model_name": "ButtonModel",
          "model_module_version": "1.5.0",
          "state": {
            "_view_name": "ButtonView",
            "style": "IPY_MODEL_a86665e8141e4d2ba3e3f9b0faec6e35",
            "_dom_classes": [],
            "description": "Run Interact",
            "_model_name": "ButtonModel",
            "button_style": "",
            "_view_module": "@jupyter-widgets/controls",
            "_model_module_version": "1.5.0",
            "tooltip": "",
            "_view_count": null,
            "disabled": false,
            "_view_module_version": "1.5.0",
            "layout": "IPY_MODEL_fb3eeb0e61ed423f949930f9703410d2",
            "_model_module": "@jupyter-widgets/controls",
            "icon": ""
          }
        },
        "e4a1dceb562e40108513f116e53f4a5e": {
          "model_module": "@jupyter-widgets/output",
          "model_name": "OutputModel",
          "model_module_version": "1.0.0",
          "state": {
            "_view_name": "OutputView",
            "msg_id": "",
            "_dom_classes": [],
            "_model_name": "OutputModel",
            "outputs": [],
            "_view_module": "@jupyter-widgets/output",
            "_model_module_version": "1.0.0",
            "_view_count": null,
            "_view_module_version": "1.0.0",
            "layout": "IPY_MODEL_341e2a43d7644b9a9f6401821aeb77d4",
            "_model_module": "@jupyter-widgets/output"
          }
        },
        "28120a21717f4652b6d6a89995761389": {
          "model_module": "@jupyter-widgets/controls",
          "model_name": "SliderStyleModel",
          "model_module_version": "1.5.0",
          "state": {
            "_view_name": "StyleView",
            "handle_color": null,
            "_model_name": "SliderStyleModel",
            "description_width": "",
            "_view_module": "@jupyter-widgets/base",
            "_model_module_version": "1.5.0",
            "_view_count": null,
            "_view_module_version": "1.2.0",
            "_model_module": "@jupyter-widgets/controls"
          }
        },
        "4b98873fd5ab43f49d636c4d328fa9db": {
          "model_module": "@jupyter-widgets/base",
          "model_name": "LayoutModel",
          "model_module_version": "1.2.0",
          "state": {
            "_view_name": "LayoutView",
            "grid_template_rows": null,
            "right": null,
            "justify_content": null,
            "_view_module": "@jupyter-widgets/base",
            "overflow": null,
            "_model_module_version": "1.2.0",
            "_view_count": null,
            "flex_flow": null,
            "width": null,
            "min_width": null,
            "border": null,
            "align_items": null,
            "bottom": null,
            "_model_module": "@jupyter-widgets/base",
            "top": null,
            "grid_column": null,
            "overflow_y": null,
            "overflow_x": null,
            "grid_auto_flow": null,
            "grid_area": null,
            "grid_template_columns": null,
            "flex": null,
            "_model_name": "LayoutModel",
            "justify_items": null,
            "grid_row": null,
            "max_height": null,
            "align_content": null,
            "visibility": null,
            "align_self": null,
            "height": null,
            "min_height": null,
            "padding": null,
            "grid_auto_rows": null,
            "grid_gap": null,
            "max_width": null,
            "order": null,
            "_view_module_version": "1.2.0",
            "grid_template_areas": null,
            "object_position": null,
            "object_fit": null,
            "grid_auto_columns": null,
            "margin": null,
            "display": null,
            "left": null
          }
        },
        "a86665e8141e4d2ba3e3f9b0faec6e35": {
          "model_module": "@jupyter-widgets/controls",
          "model_name": "ButtonStyleModel",
          "model_module_version": "1.5.0",
          "state": {
            "_view_name": "StyleView",
            "_model_name": "ButtonStyleModel",
            "_view_module": "@jupyter-widgets/base",
            "_model_module_version": "1.5.0",
            "_view_count": null,
            "button_color": null,
            "font_weight": "",
            "_view_module_version": "1.2.0",
            "_model_module": "@jupyter-widgets/controls"
          }
        },
        "fb3eeb0e61ed423f949930f9703410d2": {
          "model_module": "@jupyter-widgets/base",
          "model_name": "LayoutModel",
          "model_module_version": "1.2.0",
          "state": {
            "_view_name": "LayoutView",
            "grid_template_rows": null,
            "right": null,
            "justify_content": null,
            "_view_module": "@jupyter-widgets/base",
            "overflow": null,
            "_model_module_version": "1.2.0",
            "_view_count": null,
            "flex_flow": null,
            "width": null,
            "min_width": null,
            "border": null,
            "align_items": null,
            "bottom": null,
            "_model_module": "@jupyter-widgets/base",
            "top": null,
            "grid_column": null,
            "overflow_y": null,
            "overflow_x": null,
            "grid_auto_flow": null,
            "grid_area": null,
            "grid_template_columns": null,
            "flex": null,
            "_model_name": "LayoutModel",
            "justify_items": null,
            "grid_row": null,
            "max_height": null,
            "align_content": null,
            "visibility": null,
            "align_self": null,
            "height": null,
            "min_height": null,
            "padding": null,
            "grid_auto_rows": null,
            "grid_gap": null,
            "max_width": null,
            "order": null,
            "_view_module_version": "1.2.0",
            "grid_template_areas": null,
            "object_position": null,
            "object_fit": null,
            "grid_auto_columns": null,
            "margin": null,
            "display": null,
            "left": null
          }
        },
        "341e2a43d7644b9a9f6401821aeb77d4": {
          "model_module": "@jupyter-widgets/base",
          "model_name": "LayoutModel",
          "model_module_version": "1.2.0",
          "state": {
            "_view_name": "LayoutView",
            "grid_template_rows": null,
            "right": null,
            "justify_content": null,
            "_view_module": "@jupyter-widgets/base",
            "overflow": null,
            "_model_module_version": "1.2.0",
            "_view_count": null,
            "flex_flow": null,
            "width": null,
            "min_width": null,
            "border": null,
            "align_items": null,
            "bottom": null,
            "_model_module": "@jupyter-widgets/base",
            "top": null,
            "grid_column": null,
            "overflow_y": null,
            "overflow_x": null,
            "grid_auto_flow": null,
            "grid_area": null,
            "grid_template_columns": null,
            "flex": null,
            "_model_name": "LayoutModel",
            "justify_items": null,
            "grid_row": null,
            "max_height": null,
            "align_content": null,
            "visibility": null,
            "align_self": null,
            "height": null,
            "min_height": null,
            "padding": null,
            "grid_auto_rows": null,
            "grid_gap": null,
            "max_width": null,
            "order": null,
            "_view_module_version": "1.2.0",
            "grid_template_areas": null,
            "object_position": null,
            "object_fit": null,
            "grid_auto_columns": null,
            "margin": null,
            "display": null,
            "left": null
          }
        },
        "9b252ed6e19243f8ad8698eb1b462028": {
          "model_module": "@jupyter-widgets/controls",
          "model_name": "VBoxModel",
          "model_module_version": "1.5.0",
          "state": {
            "_view_name": "VBoxView",
            "_dom_classes": [
              "widget-interact"
            ],
            "_model_name": "VBoxModel",
            "_view_module": "@jupyter-widgets/controls",
            "_model_module_version": "1.5.0",
            "_view_count": null,
            "_view_module_version": "1.5.0",
            "box_style": "",
            "layout": "IPY_MODEL_1cd889f2811d425ea53dc4676f90e389",
            "_model_module": "@jupyter-widgets/controls",
            "children": [
              "IPY_MODEL_09cdedb1f0ae407fac0ed282e9efe2bc",
              "IPY_MODEL_ca26cf11556d4afab29a322f32f36d79",
              "IPY_MODEL_ec6ca07204114a2cabe59a614bd4342f",
              "IPY_MODEL_bfe1e4d0db994b339b20b9cc4482e142"
            ]
          }
        },
        "1cd889f2811d425ea53dc4676f90e389": {
          "model_module": "@jupyter-widgets/base",
          "model_name": "LayoutModel",
          "model_module_version": "1.2.0",
          "state": {
            "_view_name": "LayoutView",
            "grid_template_rows": null,
            "right": null,
            "justify_content": null,
            "_view_module": "@jupyter-widgets/base",
            "overflow": null,
            "_model_module_version": "1.2.0",
            "_view_count": null,
            "flex_flow": null,
            "width": null,
            "min_width": null,
            "border": null,
            "align_items": null,
            "bottom": null,
            "_model_module": "@jupyter-widgets/base",
            "top": null,
            "grid_column": null,
            "overflow_y": null,
            "overflow_x": null,
            "grid_auto_flow": null,
            "grid_area": null,
            "grid_template_columns": null,
            "flex": null,
            "_model_name": "LayoutModel",
            "justify_items": null,
            "grid_row": null,
            "max_height": null,
            "align_content": null,
            "visibility": null,
            "align_self": null,
            "height": null,
            "min_height": null,
            "padding": null,
            "grid_auto_rows": null,
            "grid_gap": null,
            "max_width": null,
            "order": null,
            "_view_module_version": "1.2.0",
            "grid_template_areas": null,
            "object_position": null,
            "object_fit": null,
            "grid_auto_columns": null,
            "margin": null,
            "display": null,
            "left": null
          }
        },
        "09cdedb1f0ae407fac0ed282e9efe2bc": {
          "model_module": "@jupyter-widgets/controls",
          "model_name": "IntSliderModel",
          "model_module_version": "1.5.0",
          "state": {
            "_view_name": "IntSliderView",
            "style": "IPY_MODEL_8555392251ce43b7be8c30f17c9c4dba",
            "_dom_classes": [],
            "description": "a",
            "step": 1,
            "_model_name": "IntSliderModel",
            "orientation": "horizontal",
            "max": 10,
            "_view_module": "@jupyter-widgets/controls",
            "_model_module_version": "1.5.0",
            "value": 1,
            "_view_count": null,
            "disabled": false,
            "_view_module_version": "1.5.0",
            "min": 0,
            "continuous_update": true,
            "readout_format": "d",
            "description_tooltip": null,
            "readout": true,
            "_model_module": "@jupyter-widgets/controls",
            "layout": "IPY_MODEL_6ef9efc959c84ce589852b11a712b8f5"
          }
        },
        "ca26cf11556d4afab29a322f32f36d79": {
          "model_module": "@jupyter-widgets/controls",
          "model_name": "IntSliderModel",
          "model_module_version": "1.5.0",
          "state": {
            "_view_name": "IntSliderView",
            "style": "IPY_MODEL_c89fe5bfd5be4d1e90df705bf11d6f72",
            "_dom_classes": [],
            "description": "b",
            "step": 1,
            "_model_name": "IntSliderModel",
            "orientation": "horizontal",
            "max": 10,
            "_view_module": "@jupyter-widgets/controls",
            "_model_module_version": "1.5.0",
            "value": 6,
            "_view_count": null,
            "disabled": false,
            "_view_module_version": "1.5.0",
            "min": 0,
            "continuous_update": true,
            "readout_format": "d",
            "description_tooltip": null,
            "readout": true,
            "_model_module": "@jupyter-widgets/controls",
            "layout": "IPY_MODEL_42a9c904ea16449b8a8b0a372bf098f4"
          }
        },
        "ec6ca07204114a2cabe59a614bd4342f": {
          "model_module": "@jupyter-widgets/controls",
          "model_name": "ButtonModel",
          "model_module_version": "1.5.0",
          "state": {
            "_view_name": "ButtonView",
            "style": "IPY_MODEL_76da4e5a45f64ef9aa947405e72e2f7a",
            "_dom_classes": [],
            "description": "Run Interact",
            "_model_name": "ButtonModel",
            "button_style": "",
            "_view_module": "@jupyter-widgets/controls",
            "_model_module_version": "1.5.0",
            "tooltip": "",
            "_view_count": null,
            "disabled": false,
            "_view_module_version": "1.5.0",
            "layout": "IPY_MODEL_1d7544f0bcea4846abbcffbc28ac0dbf",
            "_model_module": "@jupyter-widgets/controls",
            "icon": ""
          }
        },
        "bfe1e4d0db994b339b20b9cc4482e142": {
          "model_module": "@jupyter-widgets/output",
          "model_name": "OutputModel",
          "model_module_version": "1.0.0",
          "state": {
            "_view_name": "OutputView",
            "msg_id": "",
            "_dom_classes": [],
            "_model_name": "OutputModel",
            "outputs": [
              {
                "output_type": "stream",
                "name": "stdout",
                "text": [
                  "Risultati attesi: 0.5\n",
                  "Risultati ottenuti: 0.502\n"
                ]
              },
              {
                "output_type": "display_data",
                "data": {
                  "image/png": "iVBORw0KGgoAAAANSUhEUgAAAXoAAAD4CAYAAADiry33AAAABHNCSVQICAgIfAhkiAAAAAlwSFlzAAALEgAACxIB0t1+/AAAADh0RVh0U29mdHdhcmUAbWF0cGxvdGxpYiB2ZXJzaW9uMy4yLjIsIGh0dHA6Ly9tYXRwbG90bGliLm9yZy+WH4yJAAAgAElEQVR4nO3deXwc1ZXo8d/pbu2yNku2NtuS9x2Dhc0W1gBmNZNAAmQhM7xHJgmZvJfJJEDyIGHyMmEggUwgeSEsIQk7A8EhBkPYvGCMhRe8Y1mWrcWyJVmSLVmy1N33/dGLtdotW12q6j7fz8cfS93V3bdVVadOnXtvlRhjUEopFbtcI90ApZRS0aWBXimlYpwGeqWUinEa6JVSKsZpoFdKqRjnGekG9JWbm2tKSkpGuhlKKeUoH3/8caMxJm+g52wX6EtKSigvLx/pZiillKOIyJ7BntPSjVJKxTgN9EopFeM00CulVIzTQK+UUjFOA71SSsU4DfRKKRXjNNArpVSM00AfI7q8fp79aC/dPv9IN0UpZTMa6GPE29v2c+fLm3hzy/6RbopSymY00MeILXWHAFhZ0TDCLVFK2Y0G+hixta4VgPc/bUDvGqaU6kkDfYzYXHeIBLdQ19JJVdORkW6OUspGNNDHgMa2oxw4fJTzJucCsGKnc8o3xhgqDhzWsxBlOx9WNtHYdnSkmzEsNNDHgG37AvX5+ROyyUtPYsXOxhFuUeR+t7ySz/5yOasrm0a6KXHnkXcrWPzwypFuhi11+/x85fE1PLZi90g3ZVhooLdAfWsnrR3dUXv/UEdscXYqMwsz+KCi0RHDLN/aup/7Xt8OwLZ9h0e4NbHJ7x/8TGn93mY21bbidcC2YrX61k66fYbq5tgog2qgt8DNv/+QLz+2Jmo71Na6Q4xOSyQ9ycPMggzau3xsrG6JymcNl+31h/jOc+uZMDqVtCQ3uxraRrpJMWd7/SFm3P0G2+sPDfh8XUsnfgMHDsdGeaKvHfWHWfzwShpO4vvVtXT0+t/pNNBHWU3zESob29lU28qTq6oiek1nt4+Lf/Eer2/aF9HyW+paGZedCsD0/FG4BJbbvHzzby9+QqLHxbcumkxBZjK7DoxcoG9qO8plD77PI+9WnPJ7vbV1/7Ceva2pbOKZNXtP6rWf1LRy1OvnrUHmVuxr7ej1/3B66oMqbvh/H0Sl76X9qJfqgyfOtJdu2sfGmlbe2BzZftRTXehv09I55NfakQb6KFtTeRAIBOBfvLWDPU3tJ3zNlrpDVDa08/za6gGfr2xo499e3EjbUS8dXT52N7YzLicFgLQkD6W5aby/48DwfYlhtquhjU21rVw+M5/s1ETyM1JGLKP3+w3/+/kNfLq/jQeW7WD5pyffkb2nqZ3/+cfykw7MfRljuPvVLdyzZDPtR71Dfn1NcyBYrazof9Dv6PLRfCRwQNrXOvzBbMXOBtZWNVPZeOLtfageeHMHV/5qBUe6jv83+XhPMwDLTmISYV0wwO8/3OmIMuiJaKCPsjW7m8hMSeDxr52Jx+Xirlc2nTDL2VwbGBO/alcjbQPs4C+vq+XFj2v42dJtbK8/hN/A+JzU8PNzi7PYWNNKfRR24OHw2sZ9CHBmSTYAYzOSaGzrimo/xmB+t7yS5Tsb+UJZMYVZKfyv5zdw4NDJ/d3WVgUCy6f7h6e/YUN1Czv2H6bbZ1iz+/id1XUtHTywbAe+HjX5mmB9ed3e5n5Bsa5HFn+i7aT9qJdXN9Qet97fV2iI76oBDjKnauXORg4f9fLW1sEDuNfnZ/3eZhLcwoeVTbQeGdq2FTpIGgP7T3J7sBMN9FH2YeVBFpTmUJSVwvcXTWNVRRMf7T543Ndsqm1FgG6fYcUAGebaqoMI8MyavTy6vBKAcT0C/RnjswB4c2v9sH2PSPn9Bq/Pj9fnHzAwGGN4dWMtU/NHkZWaCEBBZuBspNLirH7d3mYeWLaDsgnZXDpjLF8/fyLtR718+9n1HOoc+kEnlEHuqB+eQP/82mpSEtwkeVwnHEn16PJKHn63otdn1zR3kOhx0e0z/ba5nrXnuhOUJ55aXcV3ntvAG1uObU/7D3XynefWD3hQ9PkNe4OBfuUwlxAb246yM1jme3VD3aDLba8/THuXjy+fNQGv3/DOjqFl9T3/PtE447GaBvoh2t3YzocRDgWsa+lg78EjnDVxNADXnV6ESwY+le5pc20rZSXZpCd5+mUtR70+NlS3cMHUPAoyk3l9cz2piW5GpyWGlynITKEwM5nXNx3bMV8sr+bWp9ayqaY10q96XF1ePz/56xZ+tnQbz6zZy1MfVPFPf1jLzHveYPIPX2fyD1/ngvvf5WB7V6/Xbdt3mMqGdhaU5IQfy89MBqCyYfhP84/njx9UkZLo5qtnT0BEKMxK4ctnTWBt1UEu+cX7Q67tfrwnEEx3NbT1yqxPRttRL0s21nHNaQUsKM05bqD3+vy89kkg6FU2HjtY1jZ3cMn0MSS6Xf0Cbqj2nJropv7Q8Wv0oesn/fqdivDZ6M9f386rG+r47fu7+i1f19JBl89PepKH1buahnUQQuiAtaA0h+WfNvTbvkLKqwLL3XpeKWNGJQ35GlB1LR1MyksL/+x0GuiH6DfvVvCPT64dsKTSV+h0e2FpIKhlJCcwtzjruKeznd0+dh5oY2ZhBnOKMnl7+4FeO8rm2kMc9fqZUZDBP55bgktgXHYKItLrfc4Yn82a3U0cbO/iYHsXP/nrVt7edoBrH17Jv76w8ZQngvx9236eXFXF4yt3c9crm7hnyRY21bZyVulorptXyNVzC6ht6eDX7+zs9bq/flKHS46ddQDkpificYmldXpjDKsrm5hRMIrURE/48bMnjuauK2aQkuDmn/+8jl++9WlE79fa0c3O/W3kpidy1OsPl01O1msb6zjS5ePGBeM5f0oeFQfaBu00XbWrica2QMDbHTxYdvv87GvtYMqYdMpKsvslF7UtHYjAnKLM42b0+w91sqG6hZkFGWzbd4i3tx1gQ3ULr6yvJSPZw3MfVfcLtlXBfqh/OL2Iw0e9fFI7eHKxqaaVax9eOehZUPXBI+F5IhCYxJSa6Ob/XDUTr9/wt0EGLJTvaaYgM5ni7FQumzWW93Y00NntG7QdPRljqGvpoGxCYL890RmPE0QU6EVkkYjsEJEKEbljgOfPF5F1IuIVkev7PHeLiOwM/rtluBo+Uo56/XR0+/jbJ4OfNoasqTxIRrKHGQUZ4cfOnTyajTWtHB6kNLB13yF8fsO0sRnMG5dFa0c35cGSABzLVCaPSWdibjpfP38S151e1O99zhifjd/A37fu5+F3KjjS5eXOK6Zz2ayxvLqhlit/tSJcahhM9cEjPL5yN99+dj3XPbKqV0fyy+tqyEpN4JGbT+e+z83hP/5hDj+7bjZfPmsCV88t5Lp5RZw7KZc/rd4TPo03xrBkQx0zCzIYlZwQfi+Py0XeqCRLA31V0xH2HzrKtLGj+j1XkpvGXVdOZ/74bB5dvouWIwNnjT2t39uMAT4zJQ+AT/dH9l2MMeyo7z8z+Lm11Uwdm87p47I4b0poxvPACcKrG2oZlewhb1RSuPOzvjUwdLI4O5VzJ+eyvf5wr2GG+1o7yEtPYlxO6nFr9G8GzygfuOE0xuWk8Ot3dvLT17aSm57EU/+0gI5uH3/4oKrXa6qCbbhpwXgAVh3nbOTPH+7hk5pWbn1qLU19kg9jDN94+mNufPTDcGf0msqDzJ+QzeyiDKaOTefV9bUDvu/He5opC541XjYzn45uX8RlpEMdXtq7fEwZm05mSkJ8ZPQi4gYeAa4AZgI3icjMPovtBb4GPNPntTnAPcBCYAFwj4hkn3qzR07olPyF8poTLvthZRMLSnNwu45l2+dOysXnP1YzbT3Sze3PrGN3cOcIdcROzU9nVmEGHpf0Kt+srWomPyOZzJRAoJw/IZspY/oHq3E5KeSmJ/LH1VX8cXUV507KZVJeOjfMH8ddV87AAF/83WoeW1HJUW//TOdwZzef+80H/PtrW/mgopEtda386u1Adn6wvYv3djSwoCQHj8vF6PQk8kYl9TurWDyvEJdLeODN7fj9hqfX7KW2pYMzS3P6fV5+RjK7TqF003bUGw4wkQiV36bnZwz4vMfl4prTCujs9vN0BKNo1u1pxiVw7qRAmW7ngcjq9O992sDlDy3nB//9CV6fH2MMj62oZEN1CzeeOR4RYXr+KHLTkwYMVB1dPpZtrufK2QVMGzsqHOhDE32Ks1PCl8b4YNex1+9r7aQwK1DiO3C4c9Dyyptb6inNTWNGwSi+eeFkNta0Ur6nme9dNpXTx2dz6cyxPPVBVa9RQbsbj5CS4GZGwShmFWawYpAz2G6fn2Vb6zltXBYNh4/yjafX0eU91o41uw+yufYQrR3dPPvRXg62d7Fj/2HOmjgaEWHxvCLK9zT3G2pZ29LBvtZOyiYEQs1ZE0czKtnDsi2R9VnVBgN7UVYKBZnJURl+arVIMvoFQIUxptIY0wU8ByzuuYAxpsoY8wnQd2u5HHjLGHPQGNMMvAUsGoZ2j5hQoP94TzMVxxn7Xd8auLhYqD4fcsaEbJI8LlZVBALN46t289on+/ivYBDdVNNKTloiY9KTSE5wM71gFMu21OPzG/x+w9qqg0wek37CdooIp4/PZnPdIVwuYfG8wvBz43NS+dGVM5hVmMFP/7aNs//jHe5ftr1XRvXrdypobDvKDy6fxn2fn8sFU/N4dX0de5uO8LdP6vD6DWf3+W59ZaUmcumMsSzZuI+rfr2CH/1lMxNz05g/vv+xPj8zmarG9iHVc/1+wy/f+pTLHnyfOfcs48IH3uPtbZHVYlfvCoyGGpuRNOgyxdmpzC7M4MlVu8On/Wsqm8K1+J4+3tNMcXYqWamJ5KQlsjPCjP7DyiaEQOLwjafX8aO/bOanf9vGoln53LwwkBGLCOdPyWVlRWO/Du63t++nvcvH4nmFlOamUdnQhjEmPGqkODuV2UWZZKYk9CoZ1rZ0UJiVTH5myqCTplo7ulm9q4nLZo1FRPj8GcUUZaUwoyCDG8rGAfDNCyeFA3FIVVM7E0anIiKcNzmX9XubBxweuqbyIC1HuvnmhZP4z+vn8tHug9yzZHP4+cdX7iY7NYH5E7L5/YrK8DWczpoYSBSuPS2wTS/Z2PvsOnTWOz8Y6BM9Lj4zJZdVFY29zpz+Y+k2vvi71f3OpkIZfGFWCkVZKXFTuikCeg7orgk+FomIXisit4lIuYiUNzTY+4JcXr9hbEYSbpfw4se9x7nvP9TJvzy7nkUPLefqX68AYGFp72CYnOCmrCSbD3Y1cqizmz+s2k2i28VfN9ZR19LBptpWZhdlhrPjcyflUtPcwZOrdrOroY3Wju6IAj0Qzmg+O2NMeIRLSFqSh9svmsx3PzuV8dmp/ObdXSx+ZBVVje1UHGjj8ZW7OXdyLlOCpY1Fs/JxueC371fw8rpairNTeo30GcyiWflkpiRQ39rJP51bwh1XTCc5wd1vufyMZLx+Q3VzB/taO7jiV8uPOx7d5zd8/78/4b/e3olbhGtOK6QwK5kfvrJ50LJYSKg+P23sqH5nIX1dPiufxrYu/rK+lt8vr+TGRz/kq49/1CvL8/r8rNvbwuS8wHopyEiOeIjluj3NlOamcfOC8by1dT9Pr9nLP18wid986Yxef6fzpuRysL2Lrft6z3J9dUMdYzOSWDhxNBPz0jjc6aWpvYua5g5cEjiAul3C2RNH88GupvD339fSSWFmCgVZgY7wgbLW93YcwOs3XDYzHwgEzJe+cTZ/unVB+Cz19PHZLCzN4c8f7gm/rqqxndLctHC7u32GH76yiW89vY5vP7uejq7AQXPp5n2kJrq5YGoei+cV8a2LJvHsR9U899Feqhrb+fu2/Xxp4QS+c8kU9h86ys9f305ygos5RYH+nXE5qSwszeHF8upewbq8qpn0JA/T84+d6Z41cTR1rZ09hk0almysC5819BQaelqYFfj71MVARu858SLRZ4x5FHgUoKyszNaXMfQbw5hRycwpyuLldbX822XT8LhdvLF5H3e8vInObh+fmZLH3OJMSnLTmF3UvzRwzqRc7l+2gwff+pRDnV5+95X5fPPpdfz2vV3sPNDGJTPGENpuyyZk82FxJvcv2xGupU6JMNBPykvnXy+dOujyIsLMwgxmFmZQ2djGf71dwfX/7wOKs1NJ8rj4XI/af1ZqIudNzuXF8hq8fsP1ZxRH1IaURDf3XjuLRI+LBPfgeUVo5M2uA228tK6GbfsOc9crm/D6/Xz17BIqDhzmj6v3kJzgZt64LP6+bT8vr6vl2tMKw5ndrMIMfv76du5ftoN7F88e9LMqG9tpOHyURbPyT9j+6fmjGJ+Tyj1LtnDU62ducSbb6w/zo79s5rGvliEibK8/TEe3j0ljAsGtMCuFFTsb8PsNLtfgB5Jun59NNa2cNyWXi6ePITc9ken5GVw5t6DfsudNyUUkUEqZXZQJwIHDnby34wBfO6cEt0vCwbWyoZ2a5iPkZyST6An8zReU5vDGlnrqWjpISXDT0e2jIFiagIGHEL65ZT95o5I4fdyxjvPQUNierpxTwD1LtlDV2E5xdgp7Dx7h8tmBv+2ZJTlkpybw2if7KM5OoarpCDmpCdx9zSyWba7n4uljwge07146jU21h7j71S0snJiDxyV89ewJ5I1KYlZhBlvqDnHe5NzwdwK4oWwc33txI+V7mjmzJCd8ED99fBaeHttbKOFaXdnEuJxUdjW0h7/zC+XVzCnODC9bGxyWOjotkYLMFFqOdHOky9ur095pIml5LTCux+/FwcciUQtc2Oe170X4WlvyBnfeL5QV8/dt+7noF+/R0eWjsa2LOUWZPHTjPCblHT8Qnzs5EOifXFXFRdPyuHxWPlfNKeDPa/ZgDMwuzMQQiPQiwlfPLuGeJVt4bOVuMlMSGDNq8HJDXz07go9nYm46P1g0jYf+vjNYHx5HRkpCr2UWzcpn+c5GBFg4sX+dfTBpSSfezPIzAgHnyQ92s6qiiWvmFlB9sIO7X93C65vq+bCyiQSPKzBOP1i+WHxaIdecdqwkNSkvnUtmjOFPq/dQmJXCvpYOqpqO8Lkzirj2tMJw9n6sPt+/b6MvEeGqOQX89v1dXDknn+vmFfHW1v28+HENSzfVc9XcAtaGOshDGX1WMp1ePzXNHYwfPfhZz/Z9h+n0+pmYG3jd3OIsLpyWN+CyY0Ylc9G0MTzzUTW3XzyFRI+L5z+qpttnwp2eofepbGijprmD4uxjn70g2C/Ss/RXmJkcDtx9p/rvbTrC37ft54ay4uMerAAumBpo8/KdDVwwNQ+v31A6OnDQSU5ws/rOS/C4BI/bxb+/tpXHV+4mOdFNU3sXV845dlBzu4RffXEeV/96JSt2NvK5M4oYE9wuvnnhZL71zLrwCLaQK+fkc8+rm3lhbTVnluTw2if7qDjQxm2fmdhruSlj0slJS2RN5UG+UDYuXMaaPyGbVzfU8sOrZoQPOLUtHRRmJuNyCUVZgb9PXUtnxGfSdhRJoF8LTBGRUgKB+0bg5gjffxnwsx4dsJcBdw65lTbi9xs8LuGi6WO4YX4x7V1eMlMSmTwmna+cNaFXtjGY2YUZjErycPiol9svngLAbedPDNcaZxdl9hqHnZmSwE0LxvH7FbuZnJd+wnLDySrITOEHi6azsbqF86f2Dzij05O4YnY+hzu9ZPcpBZ2qtCRPsI7cRGFmMlcFA8CjKypZX93Motn5XDZzLCkJbqqbO/D6/QN2Ql83r4gN1S38/PXtJHlcpCd7eP/TBv6wqorvL5rOwtIcVu9qIjs18gPm/AnZPPSFeaQnB3aXz84Yy9qqg/zoL5t45N0Ktu47xNiMJHKCcxlCweHT/YePG+jX7Q2MegqN1wY43unsLeeUcMsTH7F00z6unlvAMx/t5TNTcpkYPMAUZaeQ6Haxu7Gd2uaOXkFxRkEG6UkePtp9MJyZFmalkJHsITXR3SujN8Zw95LNeFzC7RdNOeHfpyQ3jZLRqby3oyE8Q7sk99h36lmC+rfLp7GqopHfvV9JcoKr34EtOy2R331lPj9esoVvXjg5/Pii2fncu3gWV88t7LV8aqKHa04rZMnGOu68cgY/f307Mwsy+Pz83mecLpewoCQnPOR5ZUUj43JS+O6lU/nSY2tYtqWexfMCZ7B1LR0UBtfhsTOejtgO9MYYr4jcTiBou4EnjDFbROReoNwYs0REzgReAbKBa0TkJ8aYWcaYgyLy7wQOFgD3GmOOPy3U5rx+P26XkOB2cf8Np53Ue3jcLv7hjCKa2rvCHUazizI5b3Iu2+sPhU9xe1pQkkNrR/eAwW045aQlctH0MYM+f928SLtnhm5sRhKtHd3cvHB8+LT7GxdMwus3vco+pT2CSF/JCW7uWDSd9qO+8E76QWUTr6yv5abff0hhVjKtHd3MLswc0gEzFOQhkHnecnYJD/79U7x+P587vYiFpTnh9wt97s4DbXx25thB33P93mayUhPCBwiA410d4zOTc5mYm8YfPqgiOSEQnH987axe7ZowOpUd+w+zr7WD4uyUXs/Nn5DN2qqDTAueyRRkJSMi/UaWvLG5nvd2NPCjq2aES2oncsHUPF4orwl3lJbkDnyAS05w89CN87j24VVcPH3MgOWQ2UWZvPSNc3o95nYFzmwHckNZMc+treaWJz6itqWD+2+Y22ukW8hZEwPlqz1N7Xy4q4mrTyvk7ImjKcpK4aWPa3oE+s7wkNbCcEbv7Dp9REUnY8xSYGmfx+7u8fNaAmWZgV77BPDEKbTRVvx+BtyIhmqgGvJDN86jqa0LEek3EkBEwp1iseqS6WOZW5TVa8ijiJDgHtrfOys1kawecea8ybmcOSGbddUtrNndRH1rJ6f3mLB1MsblpPLLL8wb8LnURA/ZqQnsPEGH7Md7mpmYm9brgGOOk9O7XMIt5wTKeD9buo3CzGQu6XNQnpiXxsqdjeEx9D0tKM3h/mU72Fp3iES3i9y0wBlNQWZKOKNvO+rlJ3/dyoyCDL52Tslx29/ThdPG8NTqPbxYXkNaopu89MHPlqbnZ/CXb55L3hBKkMdzxvhsJualsam2lUtnjuWcSbkDLrcwOErs0eWVHD7q5bzJubhcwg1lxfzq7Z3UNB9hbEYy+w93hgN8fmYyIs6fNOXc3oUR4vX7SUqIzp8tNz2J3OAOYuse6SgJnd1EQ1KCm7MnjubsiaNP2Ek6HAozU9hc18oHFY3sbmpnc+0hNuxtpqWjm6f/x0IyUhKobu7oNyrrRFf1/fz8Yu5ftoO9B4/wvcum9upwBCjNTQ9frbFnRg+BjlGA1zfXkx+sQUPgDCQ0Geu371VQf6iT33z5jH7vfTwLJ+aQ6HGx80AbswozTni2NLMwsr6jSIgIX144gfve2M6dV0wfdLlpY0eRlZrAC+XViMA5wTkP188v5tfvVPCLNz/lu5dOxRgoCo5GSnC7GDMqyfFj6fUSCEPk8xtcUaqR96S3UI2eaAd5gMLsFD7d38bNj63hh69sZsmGWlwiHO708vU/fRzuDOxZn49EepKHL545jiSPiy+eOb7f8xN7vF/fjH5ucSaJHhetHd0UZh0ryRQEJ00dONzJH1ZVcfXcAs4YYK7D8aQmesJ9AiXHKa1Fy9fOKWHNXZeE+ysGEqrTd/sMswszyQ6WzIqzU7n9osm8sr6W3y0PXLunqMcpYUGm88fSa0Y/RD4T6IyNPo30TrZoVj5FWSmMTktkzKhAR62IsLXuEA+9/Sl3vbwpWFPvHRQjOcB/f9E0vnZOyYClj4nBIBsaQ99TcoKbecVZfFR1kMIewyQLsgKTpv7v37ZxpNvHdy45cQfsQC6YmseKnY3hETdWcrmk31yRgSycOJo3t+7n3Mm9yzvfvngyy3c28OcPA3M3eh4Ii7JS2DbIXbqcQjP6IfL6on/aD5rRO11mSgLnTc5lRkEGo9OPXR5iZmEG180ror3Lx7jslH6jtI5Xow9J8rgHnawWymh7jqHv6czSQKZe0COQhQ4Ir26o49rTCsOT5Ibq4uljcLsk4iG9I+Hi6WNIS3SzaHbv/i6P28VDX5xHWmJghFCoRg+BM566lo6o3C3LKprRD5HfoozeuZuUOpHQENXQXcF6OtVYkp2aQGZKQr+yTciC0tE88u6uXoEslN27BP7lJLN5CBxk3vveheHhpXZUmpvGlnsHvgrLhNFp/OIL81ixs6HXkND8zGQ6u/0c6vSGrzHlNBroh8hrQUceaEYfy0SEL545bsDn/Ke44kWEGxeMGzTYnjUxh388t4TPzjg27LMgKxmXwOJ5RSec7HcikVwWw84Wzc7vl+2Hgn7PC645jQb6IQpNmIr652ikVyfpzitmDPpcksfNPdfM6vVYRnICf/ynhb0uA6COCe3vp3ozmZGkgX6IvH6DW0fdqCgZqVgSmiCk+gudwXv9zs3otTN2iPx+MywTppQakB7gbScWMnoN9EPk9Rs8Q5ypeTK0dBOfIhl1o6zlDmf0zl03GuiHyG+smTCl4pMe3+3H4wqEyb43fXESDfRD5LWoM1Z3+Pikq91+NKOPQz6rJkzpLh+XnDwpJ1ZpjT4OWXUJBN3f45OudvtxuzWjjzuWTZiK+icoO9IDvP2EhlP7dHhl/LBqwpSewscnLdnZT2h/9/qcu2400A+RZROmov4Jyo70+G4/oc5Yn4NXjgb6IQgNr3K7ov9nc/A2pU6Brnf7Cc2b0c7YOOENB3orPs25G5U6eVq6sZ9QYqedsXEiNFtVM3oVLbre7Sc8vFJr9PEhdETX69GraNH1bj+hmfCa0ceJUI1Or0evokVHW9mP1ujjjM/KjF53+Likq91+3HqZ4vgSWtE6YUqp+BFK7Jx8RVkN9EMQOqDrJRBUtOh6tx+3TpiKL6GM3poJU87dqNTJ0/VuP6HLFGuNPk6EMnpL7jDl3G1KnQIHx5KYFRpNHfOjbkRkkYjsEJEKEbljgOeTROT54PNrRKQk+HiCiDwlIptEZJuI3Dm8zbdWOKPXGr2KEu2Et5+4yOhFxA08AlwBzARuEpGZfRa7FWg2xkwGHhsNbq4AABTCSURBVATuCz5+A5BkjJkDzAe+HjoIONGxCVN6K0EVHbrW7SdebjyyAKgwxlQaY7qA54DFfZZZDDwV/Pkl4BIREQLbbZqIeIAUoAs4NCwtHwHHLoGgtxJU0aHHd/sJj7qJ8UBfBFT3+L0m+NiAyxhjvEArMJpA0G8H9gF7gQeMMQf7foCI3CYi5SJS3tDQMOQvYRWfhYFed/h4pSvebuIloz8VCwAfUAiUAv8qIhP7LmSMedQYU2aMKcvLy4tyk06elROmtHQTn3S128+xWwnG9oSpWmBcj9+Lg48NuEywTJMJNAE3A28YY7qNMQeAVUDZqTZ6pFh5CQQVnzTO20+8ZPRrgSkiUioiicCNwJI+yywBbgn+fD3wjgkMH9gLXAwgImnAWcD24Wj4SLD2EghR/whlQ7re7UdEcEmMj7oJ1txvB5YB24AXjDFbROReEbk2uNjjwGgRqQC+C4SGYD4CpIvIFgIHjCeNMZ8M95ewSrgzVidMqSjR9W5PHpfL0Rm9J5KFjDFLgaV9Hru7x8+dBIZS9n1d20CPO5VfO2NVlDm4DBzT3C6J+VE3KsjK4ZUa6JWyD49LHJ3Ra6AfAp9FE6Z0dmT80tFW9uR2S2zX6NUxoVuJRT/QR/XtlVJDFMjonVtX00A/BJZl9FF9d2VnepC3J5doRh83rJoZq6Wb+KWjbuzJ4xK9Hn28sGocvXM3J3Wq9BhvT1qjjyPHMvro/tl0Z49fuurtyeNyhUu3TqSBfgh8Fk2Y0tP3+KVlO3ty6/DK+BEO9G4ddaOiQ1e9PXlcEh5150Qa6IfAyksgqPikB3l7colm9HHDuglTUX17ZWNaurEnj1ti/jLFKsjns+aesVqjV8petEYfR0IlOs3oVbQ4OJbENI9LHH15Cg30QxA6ddOZsSpatHRjT26dMBU/gpWb6E+Y0p09bumatyePy6UTpuJFKKN3RX0cvYpXeoy3J5fW6OOHdRl9VN9e2Zh2xNuTx6WXQIgbPr8fEQtuDu7c7UmdKl33tqSjbuKIzxi9X6yKKl3z9hTI6HUcfVzw+o3eRlBFla57e3Jr6SZ++HwWBfqof4KyKz2bsyet0ccRn7Eqo3fuBqVOjYNjSUzTUTdxxGdV6Sbqn6DsSg/y9qQZfRzx+U3Uh1YCjp5qrU6Nrnl7crtcmtHHC5/fRH2ylIpzzo0lMU0z+jhiVUavCX380s5Ye9JRN3HE5zdRv7sUaKCPZ7ru7SkuMnoRWSQiO0SkQkTuGOD5JBF5Pvj8GhEp6fHcXBFZLSJbRGSTiCQPX/OtpROmVLRpoLcnt1vwxvKEKRFxA48AVwAzgZtEZGafxW4Fmo0xk4EHgfuCr/UAfwb+2RgzC7gQ6B621ltMJ0wpK+jIG/txS+xn9AuACmNMpTGmC3gOWNxnmcXAU8GfXwIuEREBLgM+McZsBDDGNBljfMPTdOv5dXilsoDGefvxxME4+iKgusfvNcHHBlzGGOMFWoHRwFTAiMgyEVknIt8f6ANE5DYRKReR8oaGhqF+B8sEMvrod2toRhffdO3bj9vlwphAsudE0Y5aHuA84EvB//9BRC7pu5Ax5lFjTJkxpiwvLy/KTTp5gQlT0f8cjfPxTQ/09uMJDsJwalYfSdiqBcb1+L04+NiAywTr8plAE4Hsf7kxptEYcwRYCpxxqo0eKT6LMnoV35wZSmJbqGTr1MmMkUSttcAUESkVkUTgRmBJn2WWALcEf74eeMcE0pJlwBwRSQ0eAC4Atg5P063n8xssGF2pGX2c0/VvP6H5M07N6D0nWsAY4xWR2wkEbTfwhDFmi4jcC5QbY5YAjwN/EpEK4CCBgwHGmGYR+SWBg4UBlhpj/hal7xJ1gQlTFtToNaeLa07NGmNZaEa8z6E3CD9hoAcwxiwlUHbp+djdPX7uBG4Y5LV/JjDE0vF8foMVlRvdz5Wyl2M1emeOpdeC8xD4jFUZvYpneqC3n1CN3qlj6TXQD4F1E6acuTGp4aGlO/txeo1eA/0Q6IQpZQU9zttPaLSdZvRxQC+BoKygq99+PFq6iR9+vzUXNdNdPb5p6c5+XFq6iR9ev18vU6yiTle//WhGH0d8FmX0ztyU1HDRA739uF06vDJuBIZXakavoktLN/ajGX0c8flMuFYXTTq8Til70XH0ccSqjN6hZ4dqmDg0lsQ0jw6vjB+BSyBYMepGxTMt3dhPaEK8jrqJA4GLmlmQ0euOHtd07duPZvRxxKoJUyq+6XHeftw6jj5+WDVhSnf0+Kad8fZzbNSNMzvQNNAPgddvrJkwpTt6fNPVbzvhjN6h16PXQD8EfqMZvYo+Xf32E7oevVP7zzTQD4HXos5YZ25Karg4NJbENL1McZzw+w3GYM2EKd3T45qW7uwnfCtBDfSxzRcMvprRq2hzaCyJaaHhlVqjj3GhI7k1GX3UP0IpNQShQRia0ce40Aq2IqPXnD6++R0aTGKZ1ujjRGgFu3TUjVJxJ3xRM4funBroI+S3MKN35qakhotDY0lMC0+Y8umEqZgWyujd7uj/yXRHj2866sZ+9FaCcSI0UcKaCVPO3JjU8NDVbz9645E44dXSjbKIrn/70YuaxQm/Dq9UFtEzOvuJi8sUi8giEdkhIhUicscAzyeJyPPB59eISEmf58eLSJuIfG94mm09azN6Z25Manjo2ref0G4fsxm9iLiBR4ArgJnATSIys89itwLNxpjJwIPAfX2e/yXw+qk3d+SELk9qyR2mnLktqWGiCb39iAgelzh2jkMkGf0CoMIYU2mM6QKeAxb3WWYx8FTw55eAS0QCvZYich2wG9gyPE0eGaFRVVqjV9GmpRt7crkkdjN6oAio7vF7TfCxAZcxxniBVmC0iKQDPwB+cupNHVneUEavE6ZUlOnqtyePS/TGI4P4MfCgMabteAuJyG0iUi4i5Q0NDVFu0snxW5rR664ez/RAb09uB2f0ngiWqQXG9fi9OPjYQMvUiIgHyASagIXA9SLyn0AW4BeRTmPMwz1fbIx5FHgUoKyszJZ/yVBGb8U9Y3VHj296oLenQEbvzHUTSaBfC0wRkVICAf1G4OY+yywBbgFWA9cD75hAofEzoQVE5MdAW98g7xThCVMWBHqn3sVGDQ9d/fbkdrliN6M3xnhF5HZgGeAGnjDGbBGRe4FyY8wS4HHgTyJSARwkcDCIKaHrUFtz9UoVzzTQ25OTR91EktFjjFkKLO3z2N09fu4EbjjBe/z4JNpnG6Gr1umEKRVtWrqxJyfX6HVmbISsvB697ujxTQ/09uR2cI1eA32E9A5TSsU3j2b0sc/SjN6Z25IaJrr+7cmt4+hjn1V3mNJZkUpHXdmT2yV6c/BYF77DlDvagT6qb68cQDcBe/K4tUYf88J3mLLgEggqvulZnT25XS69Z2yss2rClJ62K90C7MktMX49enVswlS0A70zNyM1nPRYb08el0tr9LHOZ1FGrzu50sO9Pek4+jhwbHhldP9kOllK6cHenjxuCV/c0Gk00Efo2ISp6H6O7uRKNwF70ow+DliV0SulB3t78rhER93EOp9Fwysduh2pYaQjr+zJJTphKuaFA320J0zpibtStqQTpuKAVROmNJlTmtHbk9vl0kAf66yaMOXMzUgNK90IbEmvXhkHLJswpdlc3NMtwJ501E0cCN9hKsqXunHmZqSGkx7r7cnJNwfXQB8hn9+PxyWI1uhVlGmHvD25tHQT+3x+a+4upfu40oO9PXn0xiOxL5TRR5tmc0q3AHvSm4PHAZ/fmmvRazantEPenrRGHwd8fn/UJ0uBZnNKtwG7crtcmtHHOp8xFmX0ztyQ1PDRbcCeNKOPAz6/ifoYetBsTim7cgUDvRMPxBroI+T1WRPodfq7cujAjpgXGozhxKReA32EfMaaQK8UaPnGjkL7vxNvPqKBPkJWlW60dqNAR1/ZUSijd2KdPqJALyKLRGSHiFSIyB0DPJ8kIs8Hn18jIiXBxy8VkY9FZFPw/4uHt/nWsSrQO3AbUlGgm4H9HMvonbd2ThjoRcQNPAJcAcwEbhKRmX0WuxVoNsZMBh4E7gs+3ghcY4yZA9wC/Gm4Gm41n99YMmFKKdDSjR2FM3oH3nwkkox+AVBhjKk0xnQBzwGL+yyzGHgq+PNLwCUiIsaY9caYuuDjW4AUEUkajoZbzec3uCwYXqmdsQo0o7cjtzsQLp14O8FIAn0RUN3j95rgYwMuY4zxAq3A6D7LfB5YZ4w52vcDROQ2ESkXkfKGhoZI224pn9/g0QlTyiIOjCUxLzSPJmZr9KdKRGYRKOd8faDnjTGPGmPKjDFleXl5VjRpyHTClLKSXvPIfjyxXKMHaoFxPX4vDj424DIi4gEygabg78XAK8BXjTG7TrXBI8WyCVPO24ZUFOh2YD/uGK/RrwWmiEipiCQCNwJL+iyzhEBnK8D1wDvGGCMiWcDfgDuMMauGq9EjwbLhlUopWwqVbmNyHH2w5n47sAzYBrxgjNkiIveKyLXBxR4HRotIBfBdIDQE83ZgMnC3iGwI/hsz7N/CAl7N6JWFdDuwH7eDx9F7IlnIGLMUWNrnsbt7/NwJ3DDA634K/PQU22gLPr8hISH6XRpam1Wg24EdxXqNXhEq3VgQ6J23DakocGAsiXkuHXUT+3x+gwWjKzWPU4COvrKjUI1eA30Msy6jd95GpIafbgX2E9r/tXQTw6y6BILzNiEVDXq8t5+Yv6iZsu4yxbqDK0CP+DaklymOA9aNo9c9XOmoGzvSjD4O6MxYZSXdDuzHpYE+9uk9Y5WVdDuwH83o40BgeKVm9MoaOvrKfmL6xiMqwOs3uC25TLHzNiI1/HQrsB9PcHilZvQxzOf3W5LRO7BDX0WB3oDGfjSjjwN69UplKefFkph3rEbvvGxMA32ErLs5uO7hSuO8HYUz+hi9Hr0iMGFKbw6urKLHe/sJBXonJmMa6COkpRtlJe2Utx+9THEc0NKNspJuBvbj5BuPaKCPgDEGv0FnxirL6GZgP6HhlVqjj1GhI7glE6ai/gnKCXTClP249Xr0sS1Uk7NkwpTu4Ao9s7MjrdHHuFDdXDN6ZRUN9PYTupWgE/vRNNBHIJzRa41eqbjl0XH0sc3nsy7Qa06vwJlZY6xzuQQRnRkbs3zBnc6SWwnq/q3Qw71deVyiNfpYFepld+n16JVFtFPentwu0VE3sSq0YjWjV1bRzcCePC6XZvSxKjyO3hX9P5dmcgr0gG9XLtFx9DHrWKCP/mc5bxNS0aFbgh153K7YDfQiskhEdohIhYjcMcDzSSLyfPD5NSJS0uO5O4OP7xCRy4ev6dbxWprRR/0jlAPodmBP7ljtjBURN/AIcAUwE7hJRGb2WexWoNkYMxl4ELgv+NqZwI3ALGAR8Jvg+zmKtROmnLcRqeGnW4E9eVziyOGVngiWWQBUGGMqAUTkOWAxsLXHMouBHwd/fgl4WEQk+PhzxpijwG4RqQi+3+rhaf4x2+sP8e1n1g/32wJw1BtYsVaUbjwuFwke3c3jnV4R257cLuH1zfWs39sSlfe/cFoeP7yqbx596iIJ9EVAdY/fa4CFgy1jjPGKSCswOvj4h31eW9T3A0TkNuA2gPHjx0fa9l6SPW6mjE0/qddGoqwkm7KSnKi9f8iC0uh/hlLq5Hz9/ImsrmyK2vuPzUiOyvtGEuijzhjzKPAoQFlZ2UmlsyW5afzmS/OHtV1KKdXTV84u4Stnl4x0M4YskmJELTCux+/FwccGXEZEPEAm0BTha5VSSkVRJIF+LTBFREpFJJFA5+qSPsssAW4J/nw98I4JDAhfAtwYHJVTCkwBPhqepiullIrECUs3wZr77cAywA08YYzZIiL3AuXGmCXA48Cfgp2tBwkcDAgu9wKBjlsv8C1jjC9K30UppdQAxG4zMcvKykx5eflIN0MppRxFRD42xpQN9JzOjFVKqRingV4ppWKcBnqllIpxGuiVUirG2a4zVkQagD0j3Y4TyAUaR7oRwyRWvkusfA/Q72JXdv8uE4wxeQM9YbtA7wQiUj5Y77bTxMp3iZXvAfpd7MrJ30VLN0opFeM00CulVIzTQH9yHh3pBgyjWPkusfI9QL+LXTn2u2iNXimlYpxm9EopFeM00CulVIzTQD8EJ7pJulOIyDgReVdEtorIFhH5zki36VSJiFtE1ovIayPdllMhIlki8pKIbBeRbSJy9ki36WSIyP8OblubReRZEYnOrZOiQESeEJEDIrK5x2M5IvKWiOwM/p89km0cKg30EYrwJulO4QX+1RgzEzgL+JaDv0vId4BtI92IYfAr4A1jzHTgNBz4nUSkCPgXoMwYM5vA5c1vHNlWDckfgEV9HrsDeNsYMwV4O/i7Y2igj1z4JunGmC4gdJN0xzHG7DPGrAv+fJhAMOl3L1+nEJFi4CrgsZFuy6kQkUzgfAL3d8AY02WMic5dqKPPA6QE7ziXCtSNcHsiZoxZTuC+Gj0tBp4K/vwUcJ2ljTpFGugjN9BN0h0bHENEpAQ4HVgzsi05JQ8B3wf8I92QU1QKNABPBstQj4lI2kg3aqiMMbXAA8BeYB/Qaox5c2RbdcrGGmP2BX+uB8aOZGOGSgN9HBORdOC/gf9ljDk00u05GSJyNXDAGPPxSLdlGHiAM4DfGmNOB9pxWIkAIFi/XkzgwFUIpInIl0e2VcMneJtUR41L10AfuZi60bmIJBAI8k8bY14e6facgnOBa0WkikA57WIR+fPINumk1QA1xpjQ2dVLBAK/03wW2G2MaTDGdAMvA+eMcJtO1X4RKQAI/n9ghNszJBroIxfJTdIdQUSEQB14mzHmlyPdnlNhjLnTGFNsjCkhsE7eMcY4Mns0xtQD1SIyLfjQJQTut+w0e4GzRCQ1uK1dggM7lftYAtwS/PkW4NURbMuQnfDm4CpgsJukj3CzTta5wFeATSKyIfjYXcaYpSPYJhXwbeDpYDJRCfzjCLdnyIwxa0TkJWAdgRFe63HQ5QNE5FngQiBXRGqAe4CfAy+IyK0ELqP+hZFr4dDpJRCUUirGaelGKaVinAZ6pZSKcRrolVIqxmmgV0qpGKeBXimlYpwGeqWUinEa6JVSKsb9f2gPlLaWZlOrAAAAAElFTkSuQmCC\n",
                  "text/plain": "<Figure size 432x288 with 1 Axes>"
                },
                "metadata": {
                  "needs_background": "light"
                }
              }
            ],
            "_view_module": "@jupyter-widgets/output",
            "_model_module_version": "1.0.0",
            "_view_count": null,
            "_view_module_version": "1.0.0",
            "layout": "IPY_MODEL_cb511e278790422b9a3a7c85ec3fac84",
            "_model_module": "@jupyter-widgets/output"
          }
        },
        "8555392251ce43b7be8c30f17c9c4dba": {
          "model_module": "@jupyter-widgets/controls",
          "model_name": "SliderStyleModel",
          "model_module_version": "1.5.0",
          "state": {
            "_view_name": "StyleView",
            "handle_color": null,
            "_model_name": "SliderStyleModel",
            "description_width": "",
            "_view_module": "@jupyter-widgets/base",
            "_model_module_version": "1.5.0",
            "_view_count": null,
            "_view_module_version": "1.2.0",
            "_model_module": "@jupyter-widgets/controls"
          }
        },
        "6ef9efc959c84ce589852b11a712b8f5": {
          "model_module": "@jupyter-widgets/base",
          "model_name": "LayoutModel",
          "model_module_version": "1.2.0",
          "state": {
            "_view_name": "LayoutView",
            "grid_template_rows": null,
            "right": null,
            "justify_content": null,
            "_view_module": "@jupyter-widgets/base",
            "overflow": null,
            "_model_module_version": "1.2.0",
            "_view_count": null,
            "flex_flow": null,
            "width": null,
            "min_width": null,
            "border": null,
            "align_items": null,
            "bottom": null,
            "_model_module": "@jupyter-widgets/base",
            "top": null,
            "grid_column": null,
            "overflow_y": null,
            "overflow_x": null,
            "grid_auto_flow": null,
            "grid_area": null,
            "grid_template_columns": null,
            "flex": null,
            "_model_name": "LayoutModel",
            "justify_items": null,
            "grid_row": null,
            "max_height": null,
            "align_content": null,
            "visibility": null,
            "align_self": null,
            "height": null,
            "min_height": null,
            "padding": null,
            "grid_auto_rows": null,
            "grid_gap": null,
            "max_width": null,
            "order": null,
            "_view_module_version": "1.2.0",
            "grid_template_areas": null,
            "object_position": null,
            "object_fit": null,
            "grid_auto_columns": null,
            "margin": null,
            "display": null,
            "left": null
          }
        },
        "c89fe5bfd5be4d1e90df705bf11d6f72": {
          "model_module": "@jupyter-widgets/controls",
          "model_name": "SliderStyleModel",
          "model_module_version": "1.5.0",
          "state": {
            "_view_name": "StyleView",
            "handle_color": null,
            "_model_name": "SliderStyleModel",
            "description_width": "",
            "_view_module": "@jupyter-widgets/base",
            "_model_module_version": "1.5.0",
            "_view_count": null,
            "_view_module_version": "1.2.0",
            "_model_module": "@jupyter-widgets/controls"
          }
        },
        "42a9c904ea16449b8a8b0a372bf098f4": {
          "model_module": "@jupyter-widgets/base",
          "model_name": "LayoutModel",
          "model_module_version": "1.2.0",
          "state": {
            "_view_name": "LayoutView",
            "grid_template_rows": null,
            "right": null,
            "justify_content": null,
            "_view_module": "@jupyter-widgets/base",
            "overflow": null,
            "_model_module_version": "1.2.0",
            "_view_count": null,
            "flex_flow": null,
            "width": null,
            "min_width": null,
            "border": null,
            "align_items": null,
            "bottom": null,
            "_model_module": "@jupyter-widgets/base",
            "top": null,
            "grid_column": null,
            "overflow_y": null,
            "overflow_x": null,
            "grid_auto_flow": null,
            "grid_area": null,
            "grid_template_columns": null,
            "flex": null,
            "_model_name": "LayoutModel",
            "justify_items": null,
            "grid_row": null,
            "max_height": null,
            "align_content": null,
            "visibility": null,
            "align_self": null,
            "height": null,
            "min_height": null,
            "padding": null,
            "grid_auto_rows": null,
            "grid_gap": null,
            "max_width": null,
            "order": null,
            "_view_module_version": "1.2.0",
            "grid_template_areas": null,
            "object_position": null,
            "object_fit": null,
            "grid_auto_columns": null,
            "margin": null,
            "display": null,
            "left": null
          }
        },
        "76da4e5a45f64ef9aa947405e72e2f7a": {
          "model_module": "@jupyter-widgets/controls",
          "model_name": "ButtonStyleModel",
          "model_module_version": "1.5.0",
          "state": {
            "_view_name": "StyleView",
            "_model_name": "ButtonStyleModel",
            "_view_module": "@jupyter-widgets/base",
            "_model_module_version": "1.5.0",
            "_view_count": null,
            "button_color": null,
            "font_weight": "",
            "_view_module_version": "1.2.0",
            "_model_module": "@jupyter-widgets/controls"
          }
        },
        "1d7544f0bcea4846abbcffbc28ac0dbf": {
          "model_module": "@jupyter-widgets/base",
          "model_name": "LayoutModel",
          "model_module_version": "1.2.0",
          "state": {
            "_view_name": "LayoutView",
            "grid_template_rows": null,
            "right": null,
            "justify_content": null,
            "_view_module": "@jupyter-widgets/base",
            "overflow": null,
            "_model_module_version": "1.2.0",
            "_view_count": null,
            "flex_flow": null,
            "width": null,
            "min_width": null,
            "border": null,
            "align_items": null,
            "bottom": null,
            "_model_module": "@jupyter-widgets/base",
            "top": null,
            "grid_column": null,
            "overflow_y": null,
            "overflow_x": null,
            "grid_auto_flow": null,
            "grid_area": null,
            "grid_template_columns": null,
            "flex": null,
            "_model_name": "LayoutModel",
            "justify_items": null,
            "grid_row": null,
            "max_height": null,
            "align_content": null,
            "visibility": null,
            "align_self": null,
            "height": null,
            "min_height": null,
            "padding": null,
            "grid_auto_rows": null,
            "grid_gap": null,
            "max_width": null,
            "order": null,
            "_view_module_version": "1.2.0",
            "grid_template_areas": null,
            "object_position": null,
            "object_fit": null,
            "grid_auto_columns": null,
            "margin": null,
            "display": null,
            "left": null
          }
        },
        "cb511e278790422b9a3a7c85ec3fac84": {
          "model_module": "@jupyter-widgets/base",
          "model_name": "LayoutModel",
          "model_module_version": "1.2.0",
          "state": {
            "_view_name": "LayoutView",
            "grid_template_rows": null,
            "right": null,
            "justify_content": null,
            "_view_module": "@jupyter-widgets/base",
            "overflow": null,
            "_model_module_version": "1.2.0",
            "_view_count": null,
            "flex_flow": null,
            "width": null,
            "min_width": null,
            "border": null,
            "align_items": null,
            "bottom": null,
            "_model_module": "@jupyter-widgets/base",
            "top": null,
            "grid_column": null,
            "overflow_y": null,
            "overflow_x": null,
            "grid_auto_flow": null,
            "grid_area": null,
            "grid_template_columns": null,
            "flex": null,
            "_model_name": "LayoutModel",
            "justify_items": null,
            "grid_row": null,
            "max_height": null,
            "align_content": null,
            "visibility": null,
            "align_self": null,
            "height": null,
            "min_height": null,
            "padding": null,
            "grid_auto_rows": null,
            "grid_gap": null,
            "max_width": null,
            "order": null,
            "_view_module_version": "1.2.0",
            "grid_template_areas": null,
            "object_position": null,
            "object_fit": null,
            "grid_auto_columns": null,
            "margin": null,
            "display": null,
            "left": null
          }
        },
        "9e84be6140914d488d15a54124003858": {
          "model_module": "@jupyter-widgets/controls",
          "model_name": "VBoxModel",
          "model_module_version": "1.5.0",
          "state": {
            "_view_name": "VBoxView",
            "_dom_classes": [
              "widget-interact"
            ],
            "_model_name": "VBoxModel",
            "_view_module": "@jupyter-widgets/controls",
            "_model_module_version": "1.5.0",
            "_view_count": null,
            "_view_module_version": "1.5.0",
            "box_style": "",
            "layout": "IPY_MODEL_584723eb16384620bb0a012c454b99f6",
            "_model_module": "@jupyter-widgets/controls",
            "children": [
              "IPY_MODEL_905b60539f92425dab85c7f7a160beda",
              "IPY_MODEL_dd051739de044e8c84c9d65f8c686552",
              "IPY_MODEL_d374aef1105c4115b79251c706aed7b2"
            ]
          }
        },
        "584723eb16384620bb0a012c454b99f6": {
          "model_module": "@jupyter-widgets/base",
          "model_name": "LayoutModel",
          "model_module_version": "1.2.0",
          "state": {
            "_view_name": "LayoutView",
            "grid_template_rows": null,
            "right": null,
            "justify_content": null,
            "_view_module": "@jupyter-widgets/base",
            "overflow": null,
            "_model_module_version": "1.2.0",
            "_view_count": null,
            "flex_flow": null,
            "width": null,
            "min_width": null,
            "border": null,
            "align_items": null,
            "bottom": null,
            "_model_module": "@jupyter-widgets/base",
            "top": null,
            "grid_column": null,
            "overflow_y": null,
            "overflow_x": null,
            "grid_auto_flow": null,
            "grid_area": null,
            "grid_template_columns": null,
            "flex": null,
            "_model_name": "LayoutModel",
            "justify_items": null,
            "grid_row": null,
            "max_height": null,
            "align_content": null,
            "visibility": null,
            "align_self": null,
            "height": null,
            "min_height": null,
            "padding": null,
            "grid_auto_rows": null,
            "grid_gap": null,
            "max_width": null,
            "order": null,
            "_view_module_version": "1.2.0",
            "grid_template_areas": null,
            "object_position": null,
            "object_fit": null,
            "grid_auto_columns": null,
            "margin": null,
            "display": null,
            "left": null
          }
        },
        "905b60539f92425dab85c7f7a160beda": {
          "model_module": "@jupyter-widgets/controls",
          "model_name": "IntSliderModel",
          "model_module_version": "1.5.0",
          "state": {
            "_view_name": "IntSliderView",
            "style": "IPY_MODEL_d83d5fcd952e4a2998d2340c7879c07f",
            "_dom_classes": [],
            "description": "ore",
            "step": 1,
            "_model_name": "IntSliderModel",
            "orientation": "horizontal",
            "max": 72,
            "_view_module": "@jupyter-widgets/controls",
            "_model_module_version": "1.5.0",
            "value": 3,
            "_view_count": null,
            "disabled": false,
            "_view_module_version": "1.5.0",
            "min": 0,
            "continuous_update": true,
            "readout_format": "d",
            "description_tooltip": null,
            "readout": true,
            "_model_module": "@jupyter-widgets/controls",
            "layout": "IPY_MODEL_d63fbf0f2a0b4aafaefc8de661de9e38"
          }
        },
        "dd051739de044e8c84c9d65f8c686552": {
          "model_module": "@jupyter-widgets/controls",
          "model_name": "ButtonModel",
          "model_module_version": "1.5.0",
          "state": {
            "_view_name": "ButtonView",
            "style": "IPY_MODEL_7d448954167d4dd89d595fb4b7bd12b7",
            "_dom_classes": [],
            "description": "Run Interact",
            "_model_name": "ButtonModel",
            "button_style": "",
            "_view_module": "@jupyter-widgets/controls",
            "_model_module_version": "1.5.0",
            "tooltip": "",
            "_view_count": null,
            "disabled": false,
            "_view_module_version": "1.5.0",
            "layout": "IPY_MODEL_bb209226b4234071970d76c807994cf6",
            "_model_module": "@jupyter-widgets/controls",
            "icon": ""
          }
        },
        "d374aef1105c4115b79251c706aed7b2": {
          "model_module": "@jupyter-widgets/output",
          "model_name": "OutputModel",
          "model_module_version": "1.0.0",
          "state": {
            "_view_name": "OutputView",
            "msg_id": "",
            "_dom_classes": [],
            "_model_name": "OutputModel",
            "outputs": [],
            "_view_module": "@jupyter-widgets/output",
            "_model_module_version": "1.0.0",
            "_view_count": null,
            "_view_module_version": "1.0.0",
            "layout": "IPY_MODEL_e3d3ef2e0a5c4ce7a3cf18a68a4d2f70",
            "_model_module": "@jupyter-widgets/output"
          }
        },
        "d83d5fcd952e4a2998d2340c7879c07f": {
          "model_module": "@jupyter-widgets/controls",
          "model_name": "SliderStyleModel",
          "model_module_version": "1.5.0",
          "state": {
            "_view_name": "StyleView",
            "handle_color": null,
            "_model_name": "SliderStyleModel",
            "description_width": "",
            "_view_module": "@jupyter-widgets/base",
            "_model_module_version": "1.5.0",
            "_view_count": null,
            "_view_module_version": "1.2.0",
            "_model_module": "@jupyter-widgets/controls"
          }
        },
        "d63fbf0f2a0b4aafaefc8de661de9e38": {
          "model_module": "@jupyter-widgets/base",
          "model_name": "LayoutModel",
          "model_module_version": "1.2.0",
          "state": {
            "_view_name": "LayoutView",
            "grid_template_rows": null,
            "right": null,
            "justify_content": null,
            "_view_module": "@jupyter-widgets/base",
            "overflow": null,
            "_model_module_version": "1.2.0",
            "_view_count": null,
            "flex_flow": null,
            "width": null,
            "min_width": null,
            "border": null,
            "align_items": null,
            "bottom": null,
            "_model_module": "@jupyter-widgets/base",
            "top": null,
            "grid_column": null,
            "overflow_y": null,
            "overflow_x": null,
            "grid_auto_flow": null,
            "grid_area": null,
            "grid_template_columns": null,
            "flex": null,
            "_model_name": "LayoutModel",
            "justify_items": null,
            "grid_row": null,
            "max_height": null,
            "align_content": null,
            "visibility": null,
            "align_self": null,
            "height": null,
            "min_height": null,
            "padding": null,
            "grid_auto_rows": null,
            "grid_gap": null,
            "max_width": null,
            "order": null,
            "_view_module_version": "1.2.0",
            "grid_template_areas": null,
            "object_position": null,
            "object_fit": null,
            "grid_auto_columns": null,
            "margin": null,
            "display": null,
            "left": null
          }
        },
        "7d448954167d4dd89d595fb4b7bd12b7": {
          "model_module": "@jupyter-widgets/controls",
          "model_name": "ButtonStyleModel",
          "model_module_version": "1.5.0",
          "state": {
            "_view_name": "StyleView",
            "_model_name": "ButtonStyleModel",
            "_view_module": "@jupyter-widgets/base",
            "_model_module_version": "1.5.0",
            "_view_count": null,
            "button_color": null,
            "font_weight": "",
            "_view_module_version": "1.2.0",
            "_model_module": "@jupyter-widgets/controls"
          }
        },
        "bb209226b4234071970d76c807994cf6": {
          "model_module": "@jupyter-widgets/base",
          "model_name": "LayoutModel",
          "model_module_version": "1.2.0",
          "state": {
            "_view_name": "LayoutView",
            "grid_template_rows": null,
            "right": null,
            "justify_content": null,
            "_view_module": "@jupyter-widgets/base",
            "overflow": null,
            "_model_module_version": "1.2.0",
            "_view_count": null,
            "flex_flow": null,
            "width": null,
            "min_width": null,
            "border": null,
            "align_items": null,
            "bottom": null,
            "_model_module": "@jupyter-widgets/base",
            "top": null,
            "grid_column": null,
            "overflow_y": null,
            "overflow_x": null,
            "grid_auto_flow": null,
            "grid_area": null,
            "grid_template_columns": null,
            "flex": null,
            "_model_name": "LayoutModel",
            "justify_items": null,
            "grid_row": null,
            "max_height": null,
            "align_content": null,
            "visibility": null,
            "align_self": null,
            "height": null,
            "min_height": null,
            "padding": null,
            "grid_auto_rows": null,
            "grid_gap": null,
            "max_width": null,
            "order": null,
            "_view_module_version": "1.2.0",
            "grid_template_areas": null,
            "object_position": null,
            "object_fit": null,
            "grid_auto_columns": null,
            "margin": null,
            "display": null,
            "left": null
          }
        },
        "e3d3ef2e0a5c4ce7a3cf18a68a4d2f70": {
          "model_module": "@jupyter-widgets/base",
          "model_name": "LayoutModel",
          "model_module_version": "1.2.0",
          "state": {
            "_view_name": "LayoutView",
            "grid_template_rows": null,
            "right": null,
            "justify_content": null,
            "_view_module": "@jupyter-widgets/base",
            "overflow": null,
            "_model_module_version": "1.2.0",
            "_view_count": null,
            "flex_flow": null,
            "width": null,
            "min_width": null,
            "border": null,
            "align_items": null,
            "bottom": null,
            "_model_module": "@jupyter-widgets/base",
            "top": null,
            "grid_column": null,
            "overflow_y": null,
            "overflow_x": null,
            "grid_auto_flow": null,
            "grid_area": null,
            "grid_template_columns": null,
            "flex": null,
            "_model_name": "LayoutModel",
            "justify_items": null,
            "grid_row": null,
            "max_height": null,
            "align_content": null,
            "visibility": null,
            "align_self": null,
            "height": null,
            "min_height": null,
            "padding": null,
            "grid_auto_rows": null,
            "grid_gap": null,
            "max_width": null,
            "order": null,
            "_view_module_version": "1.2.0",
            "grid_template_areas": null,
            "object_position": null,
            "object_fit": null,
            "grid_auto_columns": null,
            "margin": null,
            "display": null,
            "left": null
          }
        },
        "f3095408622042a6a876f63720efa038": {
          "model_module": "@jupyter-widgets/controls",
          "model_name": "VBoxModel",
          "model_module_version": "1.5.0",
          "state": {
            "_view_name": "VBoxView",
            "_dom_classes": [
              "widget-interact"
            ],
            "_model_name": "VBoxModel",
            "_view_module": "@jupyter-widgets/controls",
            "_model_module_version": "1.5.0",
            "_view_count": null,
            "_view_module_version": "1.5.0",
            "box_style": "",
            "layout": "IPY_MODEL_391ef8e1525347268bc84b42db68758b",
            "_model_module": "@jupyter-widgets/controls",
            "children": [
              "IPY_MODEL_3ff8e77084314fe4b3a93b115ac875be",
              "IPY_MODEL_02d1fa9ea86447d3b1cb346f546d6bdb",
              "IPY_MODEL_8315df813bc24bff801ae54a8dab8d4c"
            ]
          }
        },
        "391ef8e1525347268bc84b42db68758b": {
          "model_module": "@jupyter-widgets/base",
          "model_name": "LayoutModel",
          "model_module_version": "1.2.0",
          "state": {
            "_view_name": "LayoutView",
            "grid_template_rows": null,
            "right": null,
            "justify_content": null,
            "_view_module": "@jupyter-widgets/base",
            "overflow": null,
            "_model_module_version": "1.2.0",
            "_view_count": null,
            "flex_flow": null,
            "width": null,
            "min_width": null,
            "border": null,
            "align_items": null,
            "bottom": null,
            "_model_module": "@jupyter-widgets/base",
            "top": null,
            "grid_column": null,
            "overflow_y": null,
            "overflow_x": null,
            "grid_auto_flow": null,
            "grid_area": null,
            "grid_template_columns": null,
            "flex": null,
            "_model_name": "LayoutModel",
            "justify_items": null,
            "grid_row": null,
            "max_height": null,
            "align_content": null,
            "visibility": null,
            "align_self": null,
            "height": null,
            "min_height": null,
            "padding": null,
            "grid_auto_rows": null,
            "grid_gap": null,
            "max_width": null,
            "order": null,
            "_view_module_version": "1.2.0",
            "grid_template_areas": null,
            "object_position": null,
            "object_fit": null,
            "grid_auto_columns": null,
            "margin": null,
            "display": null,
            "left": null
          }
        },
        "3ff8e77084314fe4b3a93b115ac875be": {
          "model_module": "@jupyter-widgets/controls",
          "model_name": "IntSliderModel",
          "model_module_version": "1.5.0",
          "state": {
            "_view_name": "IntSliderView",
            "style": "IPY_MODEL_c4479a5a0db247908ce7f98c8ba4c2f3",
            "_dom_classes": [],
            "description": "λ",
            "step": 1,
            "_model_name": "IntSliderModel",
            "orientation": "horizontal",
            "max": 10,
            "_view_module": "@jupyter-widgets/controls",
            "_model_module_version": "1.5.0",
            "value": 2,
            "_view_count": null,
            "disabled": false,
            "_view_module_version": "1.5.0",
            "min": 2,
            "continuous_update": true,
            "readout_format": "d",
            "description_tooltip": null,
            "readout": true,
            "_model_module": "@jupyter-widgets/controls",
            "layout": "IPY_MODEL_43d5719e22cc4cc1893e65305d56209a"
          }
        },
        "02d1fa9ea86447d3b1cb346f546d6bdb": {
          "model_module": "@jupyter-widgets/controls",
          "model_name": "ButtonModel",
          "model_module_version": "1.5.0",
          "state": {
            "_view_name": "ButtonView",
            "style": "IPY_MODEL_561ba20b59a043ada4df707290c9d382",
            "_dom_classes": [],
            "description": "Run Interact",
            "_model_name": "ButtonModel",
            "button_style": "",
            "_view_module": "@jupyter-widgets/controls",
            "_model_module_version": "1.5.0",
            "tooltip": "",
            "_view_count": null,
            "disabled": false,
            "_view_module_version": "1.5.0",
            "layout": "IPY_MODEL_eb5bb109a02b45789152ae470c8c6c8d",
            "_model_module": "@jupyter-widgets/controls",
            "icon": ""
          }
        },
        "8315df813bc24bff801ae54a8dab8d4c": {
          "model_module": "@jupyter-widgets/output",
          "model_name": "OutputModel",
          "model_module_version": "1.0.0",
          "state": {
            "_view_name": "OutputView",
            "msg_id": "",
            "_dom_classes": [],
            "_model_name": "OutputModel",
            "outputs": [],
            "_view_module": "@jupyter-widgets/output",
            "_model_module_version": "1.0.0",
            "_view_count": null,
            "_view_module_version": "1.0.0",
            "layout": "IPY_MODEL_b705ba5fc0cc48cabc6829e6042c41e9",
            "_model_module": "@jupyter-widgets/output"
          }
        },
        "c4479a5a0db247908ce7f98c8ba4c2f3": {
          "model_module": "@jupyter-widgets/controls",
          "model_name": "SliderStyleModel",
          "model_module_version": "1.5.0",
          "state": {
            "_view_name": "StyleView",
            "handle_color": null,
            "_model_name": "SliderStyleModel",
            "description_width": "",
            "_view_module": "@jupyter-widgets/base",
            "_model_module_version": "1.5.0",
            "_view_count": null,
            "_view_module_version": "1.2.0",
            "_model_module": "@jupyter-widgets/controls"
          }
        },
        "43d5719e22cc4cc1893e65305d56209a": {
          "model_module": "@jupyter-widgets/base",
          "model_name": "LayoutModel",
          "model_module_version": "1.2.0",
          "state": {
            "_view_name": "LayoutView",
            "grid_template_rows": null,
            "right": null,
            "justify_content": null,
            "_view_module": "@jupyter-widgets/base",
            "overflow": null,
            "_model_module_version": "1.2.0",
            "_view_count": null,
            "flex_flow": null,
            "width": null,
            "min_width": null,
            "border": null,
            "align_items": null,
            "bottom": null,
            "_model_module": "@jupyter-widgets/base",
            "top": null,
            "grid_column": null,
            "overflow_y": null,
            "overflow_x": null,
            "grid_auto_flow": null,
            "grid_area": null,
            "grid_template_columns": null,
            "flex": null,
            "_model_name": "LayoutModel",
            "justify_items": null,
            "grid_row": null,
            "max_height": null,
            "align_content": null,
            "visibility": null,
            "align_self": null,
            "height": null,
            "min_height": null,
            "padding": null,
            "grid_auto_rows": null,
            "grid_gap": null,
            "max_width": null,
            "order": null,
            "_view_module_version": "1.2.0",
            "grid_template_areas": null,
            "object_position": null,
            "object_fit": null,
            "grid_auto_columns": null,
            "margin": null,
            "display": null,
            "left": null
          }
        },
        "561ba20b59a043ada4df707290c9d382": {
          "model_module": "@jupyter-widgets/controls",
          "model_name": "ButtonStyleModel",
          "model_module_version": "1.5.0",
          "state": {
            "_view_name": "StyleView",
            "_model_name": "ButtonStyleModel",
            "_view_module": "@jupyter-widgets/base",
            "_model_module_version": "1.5.0",
            "_view_count": null,
            "button_color": null,
            "font_weight": "",
            "_view_module_version": "1.2.0",
            "_model_module": "@jupyter-widgets/controls"
          }
        },
        "eb5bb109a02b45789152ae470c8c6c8d": {
          "model_module": "@jupyter-widgets/base",
          "model_name": "LayoutModel",
          "model_module_version": "1.2.0",
          "state": {
            "_view_name": "LayoutView",
            "grid_template_rows": null,
            "right": null,
            "justify_content": null,
            "_view_module": "@jupyter-widgets/base",
            "overflow": null,
            "_model_module_version": "1.2.0",
            "_view_count": null,
            "flex_flow": null,
            "width": null,
            "min_width": null,
            "border": null,
            "align_items": null,
            "bottom": null,
            "_model_module": "@jupyter-widgets/base",
            "top": null,
            "grid_column": null,
            "overflow_y": null,
            "overflow_x": null,
            "grid_auto_flow": null,
            "grid_area": null,
            "grid_template_columns": null,
            "flex": null,
            "_model_name": "LayoutModel",
            "justify_items": null,
            "grid_row": null,
            "max_height": null,
            "align_content": null,
            "visibility": null,
            "align_self": null,
            "height": null,
            "min_height": null,
            "padding": null,
            "grid_auto_rows": null,
            "grid_gap": null,
            "max_width": null,
            "order": null,
            "_view_module_version": "1.2.0",
            "grid_template_areas": null,
            "object_position": null,
            "object_fit": null,
            "grid_auto_columns": null,
            "margin": null,
            "display": null,
            "left": null
          }
        },
        "b705ba5fc0cc48cabc6829e6042c41e9": {
          "model_module": "@jupyter-widgets/base",
          "model_name": "LayoutModel",
          "model_module_version": "1.2.0",
          "state": {
            "_view_name": "LayoutView",
            "grid_template_rows": null,
            "right": null,
            "justify_content": null,
            "_view_module": "@jupyter-widgets/base",
            "overflow": null,
            "_model_module_version": "1.2.0",
            "_view_count": null,
            "flex_flow": null,
            "width": null,
            "min_width": null,
            "border": null,
            "align_items": null,
            "bottom": null,
            "_model_module": "@jupyter-widgets/base",
            "top": null,
            "grid_column": null,
            "overflow_y": null,
            "overflow_x": null,
            "grid_auto_flow": null,
            "grid_area": null,
            "grid_template_columns": null,
            "flex": null,
            "_model_name": "LayoutModel",
            "justify_items": null,
            "grid_row": null,
            "max_height": null,
            "align_content": null,
            "visibility": null,
            "align_self": null,
            "height": null,
            "min_height": null,
            "padding": null,
            "grid_auto_rows": null,
            "grid_gap": null,
            "max_width": null,
            "order": null,
            "_view_module_version": "1.2.0",
            "grid_template_areas": null,
            "object_position": null,
            "object_fit": null,
            "grid_auto_columns": null,
            "margin": null,
            "display": null,
            "left": null
          }
        },
        "16b0c381564f487d987502abb8233338": {
          "model_module": "@jupyter-widgets/controls",
          "model_name": "VBoxModel",
          "model_module_version": "1.5.0",
          "state": {
            "_view_name": "VBoxView",
            "_dom_classes": [
              "widget-interact"
            ],
            "_model_name": "VBoxModel",
            "_view_module": "@jupyter-widgets/controls",
            "_model_module_version": "1.5.0",
            "_view_count": null,
            "_view_module_version": "1.5.0",
            "box_style": "",
            "layout": "IPY_MODEL_9bc738acc2fb499cb132a2cb8ac7f55e",
            "_model_module": "@jupyter-widgets/controls",
            "children": [
              "IPY_MODEL_b0232184d00d4dfea8937aa89bb94af8",
              "IPY_MODEL_19c32bcff8654ab5871e0f8fb40c28c1",
              "IPY_MODEL_7f4ac908556d4968a2bfe13e668b2de1",
              "IPY_MODEL_ce237cbf194f4983a6a202db4ba8765a"
            ]
          }
        },
        "9bc738acc2fb499cb132a2cb8ac7f55e": {
          "model_module": "@jupyter-widgets/base",
          "model_name": "LayoutModel",
          "model_module_version": "1.2.0",
          "state": {
            "_view_name": "LayoutView",
            "grid_template_rows": null,
            "right": null,
            "justify_content": null,
            "_view_module": "@jupyter-widgets/base",
            "overflow": null,
            "_model_module_version": "1.2.0",
            "_view_count": null,
            "flex_flow": null,
            "width": null,
            "min_width": null,
            "border": null,
            "align_items": null,
            "bottom": null,
            "_model_module": "@jupyter-widgets/base",
            "top": null,
            "grid_column": null,
            "overflow_y": null,
            "overflow_x": null,
            "grid_auto_flow": null,
            "grid_area": null,
            "grid_template_columns": null,
            "flex": null,
            "_model_name": "LayoutModel",
            "justify_items": null,
            "grid_row": null,
            "max_height": null,
            "align_content": null,
            "visibility": null,
            "align_self": null,
            "height": null,
            "min_height": null,
            "padding": null,
            "grid_auto_rows": null,
            "grid_gap": null,
            "max_width": null,
            "order": null,
            "_view_module_version": "1.2.0",
            "grid_template_areas": null,
            "object_position": null,
            "object_fit": null,
            "grid_auto_columns": null,
            "margin": null,
            "display": null,
            "left": null
          }
        },
        "b0232184d00d4dfea8937aa89bb94af8": {
          "model_module": "@jupyter-widgets/controls",
          "model_name": "IntSliderModel",
          "model_module_version": "1.5.0",
          "state": {
            "_view_name": "IntSliderView",
            "style": "IPY_MODEL_73f1c1e079664cf19cdfed67d4b282f2",
            "_dom_classes": [],
            "description": "ore",
            "step": 1,
            "_model_name": "IntSliderModel",
            "orientation": "horizontal",
            "max": 72,
            "_view_module": "@jupyter-widgets/controls",
            "_model_module_version": "1.5.0",
            "value": 10,
            "_view_count": null,
            "disabled": false,
            "_view_module_version": "1.5.0",
            "min": 0,
            "continuous_update": true,
            "readout_format": "d",
            "description_tooltip": null,
            "readout": true,
            "_model_module": "@jupyter-widgets/controls",
            "layout": "IPY_MODEL_56da43f0cb904244b5eb2f1b9948411d"
          }
        },
        "19c32bcff8654ab5871e0f8fb40c28c1": {
          "model_module": "@jupyter-widgets/controls",
          "model_name": "IntSliderModel",
          "model_module_version": "1.5.0",
          "state": {
            "_view_name": "IntSliderView",
            "style": "IPY_MODEL_128d7486d21445ab9c65d3ac98abdca5",
            "_dom_classes": [],
            "description": "λ",
            "step": 1,
            "_model_name": "IntSliderModel",
            "orientation": "horizontal",
            "max": 10,
            "_view_module": "@jupyter-widgets/controls",
            "_model_module_version": "1.5.0",
            "value": 2,
            "_view_count": null,
            "disabled": false,
            "_view_module_version": "1.5.0",
            "min": 2,
            "continuous_update": true,
            "readout_format": "d",
            "description_tooltip": null,
            "readout": true,
            "_model_module": "@jupyter-widgets/controls",
            "layout": "IPY_MODEL_52316147c32345479d4acfcb599b6a8f"
          }
        },
        "7f4ac908556d4968a2bfe13e668b2de1": {
          "model_module": "@jupyter-widgets/controls",
          "model_name": "ButtonModel",
          "model_module_version": "1.5.0",
          "state": {
            "_view_name": "ButtonView",
            "style": "IPY_MODEL_d32f41f9a1794734b339cc651551b82c",
            "_dom_classes": [],
            "description": "Run Interact",
            "_model_name": "ButtonModel",
            "button_style": "",
            "_view_module": "@jupyter-widgets/controls",
            "_model_module_version": "1.5.0",
            "tooltip": "",
            "_view_count": null,
            "disabled": false,
            "_view_module_version": "1.5.0",
            "layout": "IPY_MODEL_9ff4748e2ed14bd4b39a243f648bdd16",
            "_model_module": "@jupyter-widgets/controls",
            "icon": ""
          }
        },
        "ce237cbf194f4983a6a202db4ba8765a": {
          "model_module": "@jupyter-widgets/output",
          "model_name": "OutputModel",
          "model_module_version": "1.0.0",
          "state": {
            "_view_name": "OutputView",
            "msg_id": "",
            "_dom_classes": [],
            "_model_name": "OutputModel",
            "outputs": [],
            "_view_module": "@jupyter-widgets/output",
            "_model_module_version": "1.0.0",
            "_view_count": null,
            "_view_module_version": "1.0.0",
            "layout": "IPY_MODEL_9f7d21572abe4553bdfefeda6c02b46d",
            "_model_module": "@jupyter-widgets/output"
          }
        },
        "73f1c1e079664cf19cdfed67d4b282f2": {
          "model_module": "@jupyter-widgets/controls",
          "model_name": "SliderStyleModel",
          "model_module_version": "1.5.0",
          "state": {
            "_view_name": "StyleView",
            "handle_color": null,
            "_model_name": "SliderStyleModel",
            "description_width": "",
            "_view_module": "@jupyter-widgets/base",
            "_model_module_version": "1.5.0",
            "_view_count": null,
            "_view_module_version": "1.2.0",
            "_model_module": "@jupyter-widgets/controls"
          }
        },
        "56da43f0cb904244b5eb2f1b9948411d": {
          "model_module": "@jupyter-widgets/base",
          "model_name": "LayoutModel",
          "model_module_version": "1.2.0",
          "state": {
            "_view_name": "LayoutView",
            "grid_template_rows": null,
            "right": null,
            "justify_content": null,
            "_view_module": "@jupyter-widgets/base",
            "overflow": null,
            "_model_module_version": "1.2.0",
            "_view_count": null,
            "flex_flow": null,
            "width": null,
            "min_width": null,
            "border": null,
            "align_items": null,
            "bottom": null,
            "_model_module": "@jupyter-widgets/base",
            "top": null,
            "grid_column": null,
            "overflow_y": null,
            "overflow_x": null,
            "grid_auto_flow": null,
            "grid_area": null,
            "grid_template_columns": null,
            "flex": null,
            "_model_name": "LayoutModel",
            "justify_items": null,
            "grid_row": null,
            "max_height": null,
            "align_content": null,
            "visibility": null,
            "align_self": null,
            "height": null,
            "min_height": null,
            "padding": null,
            "grid_auto_rows": null,
            "grid_gap": null,
            "max_width": null,
            "order": null,
            "_view_module_version": "1.2.0",
            "grid_template_areas": null,
            "object_position": null,
            "object_fit": null,
            "grid_auto_columns": null,
            "margin": null,
            "display": null,
            "left": null
          }
        },
        "128d7486d21445ab9c65d3ac98abdca5": {
          "model_module": "@jupyter-widgets/controls",
          "model_name": "SliderStyleModel",
          "model_module_version": "1.5.0",
          "state": {
            "_view_name": "StyleView",
            "handle_color": null,
            "_model_name": "SliderStyleModel",
            "description_width": "",
            "_view_module": "@jupyter-widgets/base",
            "_model_module_version": "1.5.0",
            "_view_count": null,
            "_view_module_version": "1.2.0",
            "_model_module": "@jupyter-widgets/controls"
          }
        },
        "52316147c32345479d4acfcb599b6a8f": {
          "model_module": "@jupyter-widgets/base",
          "model_name": "LayoutModel",
          "model_module_version": "1.2.0",
          "state": {
            "_view_name": "LayoutView",
            "grid_template_rows": null,
            "right": null,
            "justify_content": null,
            "_view_module": "@jupyter-widgets/base",
            "overflow": null,
            "_model_module_version": "1.2.0",
            "_view_count": null,
            "flex_flow": null,
            "width": null,
            "min_width": null,
            "border": null,
            "align_items": null,
            "bottom": null,
            "_model_module": "@jupyter-widgets/base",
            "top": null,
            "grid_column": null,
            "overflow_y": null,
            "overflow_x": null,
            "grid_auto_flow": null,
            "grid_area": null,
            "grid_template_columns": null,
            "flex": null,
            "_model_name": "LayoutModel",
            "justify_items": null,
            "grid_row": null,
            "max_height": null,
            "align_content": null,
            "visibility": null,
            "align_self": null,
            "height": null,
            "min_height": null,
            "padding": null,
            "grid_auto_rows": null,
            "grid_gap": null,
            "max_width": null,
            "order": null,
            "_view_module_version": "1.2.0",
            "grid_template_areas": null,
            "object_position": null,
            "object_fit": null,
            "grid_auto_columns": null,
            "margin": null,
            "display": null,
            "left": null
          }
        },
        "d32f41f9a1794734b339cc651551b82c": {
          "model_module": "@jupyter-widgets/controls",
          "model_name": "ButtonStyleModel",
          "model_module_version": "1.5.0",
          "state": {
            "_view_name": "StyleView",
            "_model_name": "ButtonStyleModel",
            "_view_module": "@jupyter-widgets/base",
            "_model_module_version": "1.5.0",
            "_view_count": null,
            "button_color": null,
            "font_weight": "",
            "_view_module_version": "1.2.0",
            "_model_module": "@jupyter-widgets/controls"
          }
        },
        "9ff4748e2ed14bd4b39a243f648bdd16": {
          "model_module": "@jupyter-widgets/base",
          "model_name": "LayoutModel",
          "model_module_version": "1.2.0",
          "state": {
            "_view_name": "LayoutView",
            "grid_template_rows": null,
            "right": null,
            "justify_content": null,
            "_view_module": "@jupyter-widgets/base",
            "overflow": null,
            "_model_module_version": "1.2.0",
            "_view_count": null,
            "flex_flow": null,
            "width": null,
            "min_width": null,
            "border": null,
            "align_items": null,
            "bottom": null,
            "_model_module": "@jupyter-widgets/base",
            "top": null,
            "grid_column": null,
            "overflow_y": null,
            "overflow_x": null,
            "grid_auto_flow": null,
            "grid_area": null,
            "grid_template_columns": null,
            "flex": null,
            "_model_name": "LayoutModel",
            "justify_items": null,
            "grid_row": null,
            "max_height": null,
            "align_content": null,
            "visibility": null,
            "align_self": null,
            "height": null,
            "min_height": null,
            "padding": null,
            "grid_auto_rows": null,
            "grid_gap": null,
            "max_width": null,
            "order": null,
            "_view_module_version": "1.2.0",
            "grid_template_areas": null,
            "object_position": null,
            "object_fit": null,
            "grid_auto_columns": null,
            "margin": null,
            "display": null,
            "left": null
          }
        },
        "9f7d21572abe4553bdfefeda6c02b46d": {
          "model_module": "@jupyter-widgets/base",
          "model_name": "LayoutModel",
          "model_module_version": "1.2.0",
          "state": {
            "_view_name": "LayoutView",
            "grid_template_rows": null,
            "right": null,
            "justify_content": null,
            "_view_module": "@jupyter-widgets/base",
            "overflow": null,
            "_model_module_version": "1.2.0",
            "_view_count": null,
            "flex_flow": null,
            "width": null,
            "min_width": null,
            "border": null,
            "align_items": null,
            "bottom": null,
            "_model_module": "@jupyter-widgets/base",
            "top": null,
            "grid_column": null,
            "overflow_y": null,
            "overflow_x": null,
            "grid_auto_flow": null,
            "grid_area": null,
            "grid_template_columns": null,
            "flex": null,
            "_model_name": "LayoutModel",
            "justify_items": null,
            "grid_row": null,
            "max_height": null,
            "align_content": null,
            "visibility": null,
            "align_self": null,
            "height": null,
            "min_height": null,
            "padding": null,
            "grid_auto_rows": null,
            "grid_gap": null,
            "max_width": null,
            "order": null,
            "_view_module_version": "1.2.0",
            "grid_template_areas": null,
            "object_position": null,
            "object_fit": null,
            "grid_auto_columns": null,
            "margin": null,
            "display": null,
            "left": null
          }
        },
        "8ce833661d6e4b53abe6d2b01605e4a3": {
          "model_module": "@jupyter-widgets/controls",
          "model_name": "VBoxModel",
          "model_module_version": "1.5.0",
          "state": {
            "_view_name": "VBoxView",
            "_dom_classes": [
              "widget-interact"
            ],
            "_model_name": "VBoxModel",
            "_view_module": "@jupyter-widgets/controls",
            "_model_module_version": "1.5.0",
            "_view_count": null,
            "_view_module_version": "1.5.0",
            "box_style": "",
            "layout": "IPY_MODEL_b616a5fd68ff43da955b66390b071ee3",
            "_model_module": "@jupyter-widgets/controls",
            "children": [
              "IPY_MODEL_32087c47ac444a14b486bb79aa5935e6",
              "IPY_MODEL_3eef4c4ea72749e5be11cc6b2b85099c",
              "IPY_MODEL_b752a9aab11d4203972e2cc1092453a5",
              "IPY_MODEL_eb48b3d8b15e4b418fd95e34fdff49ee"
            ]
          }
        },
        "b616a5fd68ff43da955b66390b071ee3": {
          "model_module": "@jupyter-widgets/base",
          "model_name": "LayoutModel",
          "model_module_version": "1.2.0",
          "state": {
            "_view_name": "LayoutView",
            "grid_template_rows": null,
            "right": null,
            "justify_content": null,
            "_view_module": "@jupyter-widgets/base",
            "overflow": null,
            "_model_module_version": "1.2.0",
            "_view_count": null,
            "flex_flow": null,
            "width": null,
            "min_width": null,
            "border": null,
            "align_items": null,
            "bottom": null,
            "_model_module": "@jupyter-widgets/base",
            "top": null,
            "grid_column": null,
            "overflow_y": null,
            "overflow_x": null,
            "grid_auto_flow": null,
            "grid_area": null,
            "grid_template_columns": null,
            "flex": null,
            "_model_name": "LayoutModel",
            "justify_items": null,
            "grid_row": null,
            "max_height": null,
            "align_content": null,
            "visibility": null,
            "align_self": null,
            "height": null,
            "min_height": null,
            "padding": null,
            "grid_auto_rows": null,
            "grid_gap": null,
            "max_width": null,
            "order": null,
            "_view_module_version": "1.2.0",
            "grid_template_areas": null,
            "object_position": null,
            "object_fit": null,
            "grid_auto_columns": null,
            "margin": null,
            "display": null,
            "left": null
          }
        },
        "32087c47ac444a14b486bb79aa5935e6": {
          "model_module": "@jupyter-widgets/controls",
          "model_name": "IntSliderModel",
          "model_module_version": "1.5.0",
          "state": {
            "_view_name": "IntSliderView",
            "style": "IPY_MODEL_1a2027ce0d7449b0a2b993f902be351a",
            "_dom_classes": [],
            "description": "t1",
            "step": 1,
            "_model_name": "IntSliderModel",
            "orientation": "horizontal",
            "max": 96,
            "_view_module": "@jupyter-widgets/controls",
            "_model_module_version": "1.5.0",
            "value": 30,
            "_view_count": null,
            "disabled": false,
            "_view_module_version": "1.5.0",
            "min": 0,
            "continuous_update": true,
            "readout_format": "d",
            "description_tooltip": null,
            "readout": true,
            "_model_module": "@jupyter-widgets/controls",
            "layout": "IPY_MODEL_ac3a53038afc49cc8d69ea9b0150dd36"
          }
        },
        "3eef4c4ea72749e5be11cc6b2b85099c": {
          "model_module": "@jupyter-widgets/controls",
          "model_name": "IntSliderModel",
          "model_module_version": "1.5.0",
          "state": {
            "_view_name": "IntSliderView",
            "style": "IPY_MODEL_dde3e4a5ab704b5b8d0255eb60582fa3",
            "_dom_classes": [],
            "description": "t2",
            "step": 1,
            "_model_name": "IntSliderModel",
            "orientation": "horizontal",
            "max": 96,
            "_view_module": "@jupyter-widgets/controls",
            "_model_module_version": "1.5.0",
            "value": 64,
            "_view_count": null,
            "disabled": false,
            "_view_module_version": "1.5.0",
            "min": 0,
            "continuous_update": true,
            "readout_format": "d",
            "description_tooltip": null,
            "readout": true,
            "_model_module": "@jupyter-widgets/controls",
            "layout": "IPY_MODEL_382b3ef2583e44cda56e772537204f9c"
          }
        },
        "b752a9aab11d4203972e2cc1092453a5": {
          "model_module": "@jupyter-widgets/controls",
          "model_name": "ButtonModel",
          "model_module_version": "1.5.0",
          "state": {
            "_view_name": "ButtonView",
            "style": "IPY_MODEL_2790a6b22a40441b893eb0ecb0f0a77e",
            "_dom_classes": [],
            "description": "Run Interact",
            "_model_name": "ButtonModel",
            "button_style": "",
            "_view_module": "@jupyter-widgets/controls",
            "_model_module_version": "1.5.0",
            "tooltip": "",
            "_view_count": null,
            "disabled": false,
            "_view_module_version": "1.5.0",
            "layout": "IPY_MODEL_38526623ce7e43a5ada16cb2c2b43264",
            "_model_module": "@jupyter-widgets/controls",
            "icon": ""
          }
        },
        "eb48b3d8b15e4b418fd95e34fdff49ee": {
          "model_module": "@jupyter-widgets/output",
          "model_name": "OutputModel",
          "model_module_version": "1.0.0",
          "state": {
            "_view_name": "OutputView",
            "msg_id": "",
            "_dom_classes": [],
            "_model_name": "OutputModel",
            "outputs": [
              {
                "output_type": "stream",
                "name": "stdout",
                "text": [
                  "Risultati attesi: 0.217\n",
                  "Risultati ottenuti: 0.218\n"
                ]
              },
              {
                "output_type": "display_data",
                "data": {
                  "image/png": "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\n",
                  "text/plain": "<Figure size 432x288 with 1 Axes>"
                },
                "metadata": {
                  "needs_background": "light"
                }
              }
            ],
            "_view_module": "@jupyter-widgets/output",
            "_model_module_version": "1.0.0",
            "_view_count": null,
            "_view_module_version": "1.0.0",
            "layout": "IPY_MODEL_18c385980f704c79a552e63d258aa1f6",
            "_model_module": "@jupyter-widgets/output"
          }
        },
        "1a2027ce0d7449b0a2b993f902be351a": {
          "model_module": "@jupyter-widgets/controls",
          "model_name": "SliderStyleModel",
          "model_module_version": "1.5.0",
          "state": {
            "_view_name": "StyleView",
            "handle_color": null,
            "_model_name": "SliderStyleModel",
            "description_width": "",
            "_view_module": "@jupyter-widgets/base",
            "_model_module_version": "1.5.0",
            "_view_count": null,
            "_view_module_version": "1.2.0",
            "_model_module": "@jupyter-widgets/controls"
          }
        },
        "ac3a53038afc49cc8d69ea9b0150dd36": {
          "model_module": "@jupyter-widgets/base",
          "model_name": "LayoutModel",
          "model_module_version": "1.2.0",
          "state": {
            "_view_name": "LayoutView",
            "grid_template_rows": null,
            "right": null,
            "justify_content": null,
            "_view_module": "@jupyter-widgets/base",
            "overflow": null,
            "_model_module_version": "1.2.0",
            "_view_count": null,
            "flex_flow": null,
            "width": null,
            "min_width": null,
            "border": null,
            "align_items": null,
            "bottom": null,
            "_model_module": "@jupyter-widgets/base",
            "top": null,
            "grid_column": null,
            "overflow_y": null,
            "overflow_x": null,
            "grid_auto_flow": null,
            "grid_area": null,
            "grid_template_columns": null,
            "flex": null,
            "_model_name": "LayoutModel",
            "justify_items": null,
            "grid_row": null,
            "max_height": null,
            "align_content": null,
            "visibility": null,
            "align_self": null,
            "height": null,
            "min_height": null,
            "padding": null,
            "grid_auto_rows": null,
            "grid_gap": null,
            "max_width": null,
            "order": null,
            "_view_module_version": "1.2.0",
            "grid_template_areas": null,
            "object_position": null,
            "object_fit": null,
            "grid_auto_columns": null,
            "margin": null,
            "display": null,
            "left": null
          }
        },
        "dde3e4a5ab704b5b8d0255eb60582fa3": {
          "model_module": "@jupyter-widgets/controls",
          "model_name": "SliderStyleModel",
          "model_module_version": "1.5.0",
          "state": {
            "_view_name": "StyleView",
            "handle_color": null,
            "_model_name": "SliderStyleModel",
            "description_width": "",
            "_view_module": "@jupyter-widgets/base",
            "_model_module_version": "1.5.0",
            "_view_count": null,
            "_view_module_version": "1.2.0",
            "_model_module": "@jupyter-widgets/controls"
          }
        },
        "382b3ef2583e44cda56e772537204f9c": {
          "model_module": "@jupyter-widgets/base",
          "model_name": "LayoutModel",
          "model_module_version": "1.2.0",
          "state": {
            "_view_name": "LayoutView",
            "grid_template_rows": null,
            "right": null,
            "justify_content": null,
            "_view_module": "@jupyter-widgets/base",
            "overflow": null,
            "_model_module_version": "1.2.0",
            "_view_count": null,
            "flex_flow": null,
            "width": null,
            "min_width": null,
            "border": null,
            "align_items": null,
            "bottom": null,
            "_model_module": "@jupyter-widgets/base",
            "top": null,
            "grid_column": null,
            "overflow_y": null,
            "overflow_x": null,
            "grid_auto_flow": null,
            "grid_area": null,
            "grid_template_columns": null,
            "flex": null,
            "_model_name": "LayoutModel",
            "justify_items": null,
            "grid_row": null,
            "max_height": null,
            "align_content": null,
            "visibility": null,
            "align_self": null,
            "height": null,
            "min_height": null,
            "padding": null,
            "grid_auto_rows": null,
            "grid_gap": null,
            "max_width": null,
            "order": null,
            "_view_module_version": "1.2.0",
            "grid_template_areas": null,
            "object_position": null,
            "object_fit": null,
            "grid_auto_columns": null,
            "margin": null,
            "display": null,
            "left": null
          }
        },
        "2790a6b22a40441b893eb0ecb0f0a77e": {
          "model_module": "@jupyter-widgets/controls",
          "model_name": "ButtonStyleModel",
          "model_module_version": "1.5.0",
          "state": {
            "_view_name": "StyleView",
            "_model_name": "ButtonStyleModel",
            "_view_module": "@jupyter-widgets/base",
            "_model_module_version": "1.5.0",
            "_view_count": null,
            "button_color": null,
            "font_weight": "",
            "_view_module_version": "1.2.0",
            "_model_module": "@jupyter-widgets/controls"
          }
        },
        "38526623ce7e43a5ada16cb2c2b43264": {
          "model_module": "@jupyter-widgets/base",
          "model_name": "LayoutModel",
          "model_module_version": "1.2.0",
          "state": {
            "_view_name": "LayoutView",
            "grid_template_rows": null,
            "right": null,
            "justify_content": null,
            "_view_module": "@jupyter-widgets/base",
            "overflow": null,
            "_model_module_version": "1.2.0",
            "_view_count": null,
            "flex_flow": null,
            "width": null,
            "min_width": null,
            "border": null,
            "align_items": null,
            "bottom": null,
            "_model_module": "@jupyter-widgets/base",
            "top": null,
            "grid_column": null,
            "overflow_y": null,
            "overflow_x": null,
            "grid_auto_flow": null,
            "grid_area": null,
            "grid_template_columns": null,
            "flex": null,
            "_model_name": "LayoutModel",
            "justify_items": null,
            "grid_row": null,
            "max_height": null,
            "align_content": null,
            "visibility": null,
            "align_self": null,
            "height": null,
            "min_height": null,
            "padding": null,
            "grid_auto_rows": null,
            "grid_gap": null,
            "max_width": null,
            "order": null,
            "_view_module_version": "1.2.0",
            "grid_template_areas": null,
            "object_position": null,
            "object_fit": null,
            "grid_auto_columns": null,
            "margin": null,
            "display": null,
            "left": null
          }
        },
        "18c385980f704c79a552e63d258aa1f6": {
          "model_module": "@jupyter-widgets/base",
          "model_name": "LayoutModel",
          "model_module_version": "1.2.0",
          "state": {
            "_view_name": "LayoutView",
            "grid_template_rows": null,
            "right": null,
            "justify_content": null,
            "_view_module": "@jupyter-widgets/base",
            "overflow": null,
            "_model_module_version": "1.2.0",
            "_view_count": null,
            "flex_flow": null,
            "width": null,
            "min_width": null,
            "border": null,
            "align_items": null,
            "bottom": null,
            "_model_module": "@jupyter-widgets/base",
            "top": null,
            "grid_column": null,
            "overflow_y": null,
            "overflow_x": null,
            "grid_auto_flow": null,
            "grid_area": null,
            "grid_template_columns": null,
            "flex": null,
            "_model_name": "LayoutModel",
            "justify_items": null,
            "grid_row": null,
            "max_height": null,
            "align_content": null,
            "visibility": null,
            "align_self": null,
            "height": null,
            "min_height": null,
            "padding": null,
            "grid_auto_rows": null,
            "grid_gap": null,
            "max_width": null,
            "order": null,
            "_view_module_version": "1.2.0",
            "grid_template_areas": null,
            "object_position": null,
            "object_fit": null,
            "grid_auto_columns": null,
            "margin": null,
            "display": null,
            "left": null
          }
        },
        "6082e7c36c5b432f90a0974dd3bfd35c": {
          "model_module": "@jupyter-widgets/controls",
          "model_name": "VBoxModel",
          "model_module_version": "1.5.0",
          "state": {
            "_view_name": "VBoxView",
            "_dom_classes": [
              "widget-interact"
            ],
            "_model_name": "VBoxModel",
            "_view_module": "@jupyter-widgets/controls",
            "_model_module_version": "1.5.0",
            "_view_count": null,
            "_view_module_version": "1.5.0",
            "box_style": "",
            "layout": "IPY_MODEL_fea1899080464268972c42b3167ec2ac",
            "_model_module": "@jupyter-widgets/controls",
            "children": [
              "IPY_MODEL_af117fa17a674a778aeb84d45789062e",
              "IPY_MODEL_79e31f8b56254b9bb681dbcf5851545c",
              "IPY_MODEL_3940dd111592490585b4e306091b2949"
            ]
          }
        },
        "fea1899080464268972c42b3167ec2ac": {
          "model_module": "@jupyter-widgets/base",
          "model_name": "LayoutModel",
          "model_module_version": "1.2.0",
          "state": {
            "_view_name": "LayoutView",
            "grid_template_rows": null,
            "right": null,
            "justify_content": null,
            "_view_module": "@jupyter-widgets/base",
            "overflow": null,
            "_model_module_version": "1.2.0",
            "_view_count": null,
            "flex_flow": null,
            "width": null,
            "min_width": null,
            "border": null,
            "align_items": null,
            "bottom": null,
            "_model_module": "@jupyter-widgets/base",
            "top": null,
            "grid_column": null,
            "overflow_y": null,
            "overflow_x": null,
            "grid_auto_flow": null,
            "grid_area": null,
            "grid_template_columns": null,
            "flex": null,
            "_model_name": "LayoutModel",
            "justify_items": null,
            "grid_row": null,
            "max_height": null,
            "align_content": null,
            "visibility": null,
            "align_self": null,
            "height": null,
            "min_height": null,
            "padding": null,
            "grid_auto_rows": null,
            "grid_gap": null,
            "max_width": null,
            "order": null,
            "_view_module_version": "1.2.0",
            "grid_template_areas": null,
            "object_position": null,
            "object_fit": null,
            "grid_auto_columns": null,
            "margin": null,
            "display": null,
            "left": null
          }
        },
        "af117fa17a674a778aeb84d45789062e": {
          "model_module": "@jupyter-widgets/controls",
          "model_name": "IntSliderModel",
          "model_module_version": "1.5.0",
          "state": {
            "_view_name": "IntSliderView",
            "style": "IPY_MODEL_3dceda09e136418d9cbd2a2ebd831480",
            "_dom_classes": [],
            "description": "mean",
            "step": 1,
            "_model_name": "IntSliderModel",
            "orientation": "horizontal",
            "max": 5,
            "_view_module": "@jupyter-widgets/controls",
            "_model_module_version": "1.5.0",
            "value": 0,
            "_view_count": null,
            "disabled": false,
            "_view_module_version": "1.5.0",
            "min": -5,
            "continuous_update": true,
            "readout_format": "d",
            "description_tooltip": null,
            "readout": true,
            "_model_module": "@jupyter-widgets/controls",
            "layout": "IPY_MODEL_54aa74d433404af8b78b39236fe3480d"
          }
        },
        "79e31f8b56254b9bb681dbcf5851545c": {
          "model_module": "@jupyter-widgets/controls",
          "model_name": "IntSliderModel",
          "model_module_version": "1.5.0",
          "state": {
            "_view_name": "IntSliderView",
            "style": "IPY_MODEL_803dc2c41c3f4e88b9d1e588ed14ed7d",
            "_dom_classes": [],
            "description": "std_dev",
            "step": 1,
            "_model_name": "IntSliderModel",
            "orientation": "horizontal",
            "max": 5,
            "_view_module": "@jupyter-widgets/controls",
            "_model_module_version": "1.5.0",
            "value": 3,
            "_view_count": null,
            "disabled": false,
            "_view_module_version": "1.5.0",
            "min": 1,
            "continuous_update": true,
            "readout_format": "d",
            "description_tooltip": null,
            "readout": true,
            "_model_module": "@jupyter-widgets/controls",
            "layout": "IPY_MODEL_ab4b2652f1d24787bdad697992427020"
          }
        },
        "3940dd111592490585b4e306091b2949": {
          "model_module": "@jupyter-widgets/output",
          "model_name": "OutputModel",
          "model_module_version": "1.0.0",
          "state": {
            "_view_name": "OutputView",
            "msg_id": "",
            "_dom_classes": [],
            "_model_name": "OutputModel",
            "outputs": [
              {
                "output_type": "display_data",
                "data": {
                  "image/png": "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\n",
                  "text/plain": "<Figure size 432x288 with 1 Axes>"
                },
                "metadata": {
                  "needs_background": "light"
                }
              }
            ],
            "_view_module": "@jupyter-widgets/output",
            "_model_module_version": "1.0.0",
            "_view_count": null,
            "_view_module_version": "1.0.0",
            "layout": "IPY_MODEL_157c486ecfae4e1caf95c6c310852087",
            "_model_module": "@jupyter-widgets/output"
          }
        },
        "3dceda09e136418d9cbd2a2ebd831480": {
          "model_module": "@jupyter-widgets/controls",
          "model_name": "SliderStyleModel",
          "model_module_version": "1.5.0",
          "state": {
            "_view_name": "StyleView",
            "handle_color": null,
            "_model_name": "SliderStyleModel",
            "description_width": "",
            "_view_module": "@jupyter-widgets/base",
            "_model_module_version": "1.5.0",
            "_view_count": null,
            "_view_module_version": "1.2.0",
            "_model_module": "@jupyter-widgets/controls"
          }
        },
        "54aa74d433404af8b78b39236fe3480d": {
          "model_module": "@jupyter-widgets/base",
          "model_name": "LayoutModel",
          "model_module_version": "1.2.0",
          "state": {
            "_view_name": "LayoutView",
            "grid_template_rows": null,
            "right": null,
            "justify_content": null,
            "_view_module": "@jupyter-widgets/base",
            "overflow": null,
            "_model_module_version": "1.2.0",
            "_view_count": null,
            "flex_flow": null,
            "width": null,
            "min_width": null,
            "border": null,
            "align_items": null,
            "bottom": null,
            "_model_module": "@jupyter-widgets/base",
            "top": null,
            "grid_column": null,
            "overflow_y": null,
            "overflow_x": null,
            "grid_auto_flow": null,
            "grid_area": null,
            "grid_template_columns": null,
            "flex": null,
            "_model_name": "LayoutModel",
            "justify_items": null,
            "grid_row": null,
            "max_height": null,
            "align_content": null,
            "visibility": null,
            "align_self": null,
            "height": null,
            "min_height": null,
            "padding": null,
            "grid_auto_rows": null,
            "grid_gap": null,
            "max_width": null,
            "order": null,
            "_view_module_version": "1.2.0",
            "grid_template_areas": null,
            "object_position": null,
            "object_fit": null,
            "grid_auto_columns": null,
            "margin": null,
            "display": null,
            "left": null
          }
        },
        "803dc2c41c3f4e88b9d1e588ed14ed7d": {
          "model_module": "@jupyter-widgets/controls",
          "model_name": "SliderStyleModel",
          "model_module_version": "1.5.0",
          "state": {
            "_view_name": "StyleView",
            "handle_color": null,
            "_model_name": "SliderStyleModel",
            "description_width": "",
            "_view_module": "@jupyter-widgets/base",
            "_model_module_version": "1.5.0",
            "_view_count": null,
            "_view_module_version": "1.2.0",
            "_model_module": "@jupyter-widgets/controls"
          }
        },
        "ab4b2652f1d24787bdad697992427020": {
          "model_module": "@jupyter-widgets/base",
          "model_name": "LayoutModel",
          "model_module_version": "1.2.0",
          "state": {
            "_view_name": "LayoutView",
            "grid_template_rows": null,
            "right": null,
            "justify_content": null,
            "_view_module": "@jupyter-widgets/base",
            "overflow": null,
            "_model_module_version": "1.2.0",
            "_view_count": null,
            "flex_flow": null,
            "width": null,
            "min_width": null,
            "border": null,
            "align_items": null,
            "bottom": null,
            "_model_module": "@jupyter-widgets/base",
            "top": null,
            "grid_column": null,
            "overflow_y": null,
            "overflow_x": null,
            "grid_auto_flow": null,
            "grid_area": null,
            "grid_template_columns": null,
            "flex": null,
            "_model_name": "LayoutModel",
            "justify_items": null,
            "grid_row": null,
            "max_height": null,
            "align_content": null,
            "visibility": null,
            "align_self": null,
            "height": null,
            "min_height": null,
            "padding": null,
            "grid_auto_rows": null,
            "grid_gap": null,
            "max_width": null,
            "order": null,
            "_view_module_version": "1.2.0",
            "grid_template_areas": null,
            "object_position": null,
            "object_fit": null,
            "grid_auto_columns": null,
            "margin": null,
            "display": null,
            "left": null
          }
        },
        "157c486ecfae4e1caf95c6c310852087": {
          "model_module": "@jupyter-widgets/base",
          "model_name": "LayoutModel",
          "model_module_version": "1.2.0",
          "state": {
            "_view_name": "LayoutView",
            "grid_template_rows": null,
            "right": null,
            "justify_content": null,
            "_view_module": "@jupyter-widgets/base",
            "overflow": null,
            "_model_module_version": "1.2.0",
            "_view_count": null,
            "flex_flow": null,
            "width": null,
            "min_width": null,
            "border": null,
            "align_items": null,
            "bottom": null,
            "_model_module": "@jupyter-widgets/base",
            "top": null,
            "grid_column": null,
            "overflow_y": null,
            "overflow_x": null,
            "grid_auto_flow": null,
            "grid_area": null,
            "grid_template_columns": null,
            "flex": null,
            "_model_name": "LayoutModel",
            "justify_items": null,
            "grid_row": null,
            "max_height": null,
            "align_content": null,
            "visibility": null,
            "align_self": null,
            "height": null,
            "min_height": null,
            "padding": null,
            "grid_auto_rows": null,
            "grid_gap": null,
            "max_width": null,
            "order": null,
            "_view_module_version": "1.2.0",
            "grid_template_areas": null,
            "object_position": null,
            "object_fit": null,
            "grid_auto_columns": null,
            "margin": null,
            "display": null,
            "left": null
          }
        },
        "72ed7b4aa30043f5b93e658aa101dffb": {
          "model_module": "@jupyter-widgets/controls",
          "model_name": "VBoxModel",
          "model_module_version": "1.5.0",
          "state": {
            "_view_name": "VBoxView",
            "_dom_classes": [
              "widget-interact"
            ],
            "_model_name": "VBoxModel",
            "_view_module": "@jupyter-widgets/controls",
            "_model_module_version": "1.5.0",
            "_view_count": null,
            "_view_module_version": "1.5.0",
            "box_style": "",
            "layout": "IPY_MODEL_b812b4edf160406485442d7b0df9b721",
            "_model_module": "@jupyter-widgets/controls",
            "children": [
              "IPY_MODEL_7680cd7e1a224f619c5dac80a51de6a2",
              "IPY_MODEL_d51a9b0b5eb84398b9957b83d5aca42b",
              "IPY_MODEL_2822aa54d17849ca8630a602c6690eb5"
            ]
          }
        },
        "b812b4edf160406485442d7b0df9b721": {
          "model_module": "@jupyter-widgets/base",
          "model_name": "LayoutModel",
          "model_module_version": "1.2.0",
          "state": {
            "_view_name": "LayoutView",
            "grid_template_rows": null,
            "right": null,
            "justify_content": null,
            "_view_module": "@jupyter-widgets/base",
            "overflow": null,
            "_model_module_version": "1.2.0",
            "_view_count": null,
            "flex_flow": null,
            "width": null,
            "min_width": null,
            "border": null,
            "align_items": null,
            "bottom": null,
            "_model_module": "@jupyter-widgets/base",
            "top": null,
            "grid_column": null,
            "overflow_y": null,
            "overflow_x": null,
            "grid_auto_flow": null,
            "grid_area": null,
            "grid_template_columns": null,
            "flex": null,
            "_model_name": "LayoutModel",
            "justify_items": null,
            "grid_row": null,
            "max_height": null,
            "align_content": null,
            "visibility": null,
            "align_self": null,
            "height": null,
            "min_height": null,
            "padding": null,
            "grid_auto_rows": null,
            "grid_gap": null,
            "max_width": null,
            "order": null,
            "_view_module_version": "1.2.0",
            "grid_template_areas": null,
            "object_position": null,
            "object_fit": null,
            "grid_auto_columns": null,
            "margin": null,
            "display": null,
            "left": null
          }
        },
        "7680cd7e1a224f619c5dac80a51de6a2": {
          "model_module": "@jupyter-widgets/controls",
          "model_name": "IntSliderModel",
          "model_module_version": "1.5.0",
          "state": {
            "_view_name": "IntSliderView",
            "style": "IPY_MODEL_d88cf7d42d8145c5ae8de7f703d9dbb3",
            "_dom_classes": [],
            "description": "mean",
            "step": 1,
            "_model_name": "IntSliderModel",
            "orientation": "horizontal",
            "max": 5,
            "_view_module": "@jupyter-widgets/controls",
            "_model_module_version": "1.5.0",
            "value": -2,
            "_view_count": null,
            "disabled": false,
            "_view_module_version": "1.5.0",
            "min": -5,
            "continuous_update": true,
            "readout_format": "d",
            "description_tooltip": null,
            "readout": true,
            "_model_module": "@jupyter-widgets/controls",
            "layout": "IPY_MODEL_e53644090de944ea9bb95397767c7afb"
          }
        },
        "d51a9b0b5eb84398b9957b83d5aca42b": {
          "model_module": "@jupyter-widgets/controls",
          "model_name": "IntSliderModel",
          "model_module_version": "1.5.0",
          "state": {
            "_view_name": "IntSliderView",
            "style": "IPY_MODEL_5779cb90cf734ea2b599bcf0b6f4d0a7",
            "_dom_classes": [],
            "description": "std_dev",
            "step": 1,
            "_model_name": "IntSliderModel",
            "orientation": "horizontal",
            "max": 5,
            "_view_module": "@jupyter-widgets/controls",
            "_model_module_version": "1.5.0",
            "value": 3,
            "_view_count": null,
            "disabled": false,
            "_view_module_version": "1.5.0",
            "min": 1,
            "continuous_update": true,
            "readout_format": "d",
            "description_tooltip": null,
            "readout": true,
            "_model_module": "@jupyter-widgets/controls",
            "layout": "IPY_MODEL_cfc91dc06de24a2eb1af6b53fd15639d"
          }
        },
        "2822aa54d17849ca8630a602c6690eb5": {
          "model_module": "@jupyter-widgets/output",
          "model_name": "OutputModel",
          "model_module_version": "1.0.0",
          "state": {
            "_view_name": "OutputView",
            "msg_id": "",
            "_dom_classes": [],
            "_model_name": "OutputModel",
            "outputs": [
              {
                "output_type": "display_data",
                "data": {
                  "image/png": "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\n",
                  "text/plain": "<Figure size 432x288 with 1 Axes>"
                },
                "metadata": {
                  "needs_background": "light"
                }
              }
            ],
            "_view_module": "@jupyter-widgets/output",
            "_model_module_version": "1.0.0",
            "_view_count": null,
            "_view_module_version": "1.0.0",
            "layout": "IPY_MODEL_d9f3816318bd4ae896d2c00371dad99a",
            "_model_module": "@jupyter-widgets/output"
          }
        },
        "d88cf7d42d8145c5ae8de7f703d9dbb3": {
          "model_module": "@jupyter-widgets/controls",
          "model_name": "SliderStyleModel",
          "model_module_version": "1.5.0",
          "state": {
            "_view_name": "StyleView",
            "handle_color": null,
            "_model_name": "SliderStyleModel",
            "description_width": "",
            "_view_module": "@jupyter-widgets/base",
            "_model_module_version": "1.5.0",
            "_view_count": null,
            "_view_module_version": "1.2.0",
            "_model_module": "@jupyter-widgets/controls"
          }
        },
        "e53644090de944ea9bb95397767c7afb": {
          "model_module": "@jupyter-widgets/base",
          "model_name": "LayoutModel",
          "model_module_version": "1.2.0",
          "state": {
            "_view_name": "LayoutView",
            "grid_template_rows": null,
            "right": null,
            "justify_content": null,
            "_view_module": "@jupyter-widgets/base",
            "overflow": null,
            "_model_module_version": "1.2.0",
            "_view_count": null,
            "flex_flow": null,
            "width": null,
            "min_width": null,
            "border": null,
            "align_items": null,
            "bottom": null,
            "_model_module": "@jupyter-widgets/base",
            "top": null,
            "grid_column": null,
            "overflow_y": null,
            "overflow_x": null,
            "grid_auto_flow": null,
            "grid_area": null,
            "grid_template_columns": null,
            "flex": null,
            "_model_name": "LayoutModel",
            "justify_items": null,
            "grid_row": null,
            "max_height": null,
            "align_content": null,
            "visibility": null,
            "align_self": null,
            "height": null,
            "min_height": null,
            "padding": null,
            "grid_auto_rows": null,
            "grid_gap": null,
            "max_width": null,
            "order": null,
            "_view_module_version": "1.2.0",
            "grid_template_areas": null,
            "object_position": null,
            "object_fit": null,
            "grid_auto_columns": null,
            "margin": null,
            "display": null,
            "left": null
          }
        },
        "5779cb90cf734ea2b599bcf0b6f4d0a7": {
          "model_module": "@jupyter-widgets/controls",
          "model_name": "SliderStyleModel",
          "model_module_version": "1.5.0",
          "state": {
            "_view_name": "StyleView",
            "handle_color": null,
            "_model_name": "SliderStyleModel",
            "description_width": "",
            "_view_module": "@jupyter-widgets/base",
            "_model_module_version": "1.5.0",
            "_view_count": null,
            "_view_module_version": "1.2.0",
            "_model_module": "@jupyter-widgets/controls"
          }
        },
        "cfc91dc06de24a2eb1af6b53fd15639d": {
          "model_module": "@jupyter-widgets/base",
          "model_name": "LayoutModel",
          "model_module_version": "1.2.0",
          "state": {
            "_view_name": "LayoutView",
            "grid_template_rows": null,
            "right": null,
            "justify_content": null,
            "_view_module": "@jupyter-widgets/base",
            "overflow": null,
            "_model_module_version": "1.2.0",
            "_view_count": null,
            "flex_flow": null,
            "width": null,
            "min_width": null,
            "border": null,
            "align_items": null,
            "bottom": null,
            "_model_module": "@jupyter-widgets/base",
            "top": null,
            "grid_column": null,
            "overflow_y": null,
            "overflow_x": null,
            "grid_auto_flow": null,
            "grid_area": null,
            "grid_template_columns": null,
            "flex": null,
            "_model_name": "LayoutModel",
            "justify_items": null,
            "grid_row": null,
            "max_height": null,
            "align_content": null,
            "visibility": null,
            "align_self": null,
            "height": null,
            "min_height": null,
            "padding": null,
            "grid_auto_rows": null,
            "grid_gap": null,
            "max_width": null,
            "order": null,
            "_view_module_version": "1.2.0",
            "grid_template_areas": null,
            "object_position": null,
            "object_fit": null,
            "grid_auto_columns": null,
            "margin": null,
            "display": null,
            "left": null
          }
        },
        "d9f3816318bd4ae896d2c00371dad99a": {
          "model_module": "@jupyter-widgets/base",
          "model_name": "LayoutModel",
          "model_module_version": "1.2.0",
          "state": {
            "_view_name": "LayoutView",
            "grid_template_rows": null,
            "right": null,
            "justify_content": null,
            "_view_module": "@jupyter-widgets/base",
            "overflow": null,
            "_model_module_version": "1.2.0",
            "_view_count": null,
            "flex_flow": null,
            "width": null,
            "min_width": null,
            "border": null,
            "align_items": null,
            "bottom": null,
            "_model_module": "@jupyter-widgets/base",
            "top": null,
            "grid_column": null,
            "overflow_y": null,
            "overflow_x": null,
            "grid_auto_flow": null,
            "grid_area": null,
            "grid_template_columns": null,
            "flex": null,
            "_model_name": "LayoutModel",
            "justify_items": null,
            "grid_row": null,
            "max_height": null,
            "align_content": null,
            "visibility": null,
            "align_self": null,
            "height": null,
            "min_height": null,
            "padding": null,
            "grid_auto_rows": null,
            "grid_gap": null,
            "max_width": null,
            "order": null,
            "_view_module_version": "1.2.0",
            "grid_template_areas": null,
            "object_position": null,
            "object_fit": null,
            "grid_auto_columns": null,
            "margin": null,
            "display": null,
            "left": null
          }
        },
        "b7239cf89df040ddbc323155c894e4ea": {
          "model_module": "@jupyter-widgets/controls",
          "model_name": "VBoxModel",
          "model_module_version": "1.5.0",
          "state": {
            "_view_name": "VBoxView",
            "_dom_classes": [
              "widget-interact"
            ],
            "_model_name": "VBoxModel",
            "_view_module": "@jupyter-widgets/controls",
            "_model_module_version": "1.5.0",
            "_view_count": null,
            "_view_module_version": "1.5.0",
            "box_style": "",
            "layout": "IPY_MODEL_0cae2947206e40ca8aeadcf18bdc7617",
            "_model_module": "@jupyter-widgets/controls",
            "children": [
              "IPY_MODEL_4acaf1e6cf534944b4899f1438f1c75b",
              "IPY_MODEL_6a4155b4c86f4b8e8addf1e8d614061f",
              "IPY_MODEL_ba466eec586d4d42a25c5120ab05d7da"
            ]
          }
        },
        "0cae2947206e40ca8aeadcf18bdc7617": {
          "model_module": "@jupyter-widgets/base",
          "model_name": "LayoutModel",
          "model_module_version": "1.2.0",
          "state": {
            "_view_name": "LayoutView",
            "grid_template_rows": null,
            "right": null,
            "justify_content": null,
            "_view_module": "@jupyter-widgets/base",
            "overflow": null,
            "_model_module_version": "1.2.0",
            "_view_count": null,
            "flex_flow": null,
            "width": null,
            "min_width": null,
            "border": null,
            "align_items": null,
            "bottom": null,
            "_model_module": "@jupyter-widgets/base",
            "top": null,
            "grid_column": null,
            "overflow_y": null,
            "overflow_x": null,
            "grid_auto_flow": null,
            "grid_area": null,
            "grid_template_columns": null,
            "flex": null,
            "_model_name": "LayoutModel",
            "justify_items": null,
            "grid_row": null,
            "max_height": null,
            "align_content": null,
            "visibility": null,
            "align_self": null,
            "height": null,
            "min_height": null,
            "padding": null,
            "grid_auto_rows": null,
            "grid_gap": null,
            "max_width": null,
            "order": null,
            "_view_module_version": "1.2.0",
            "grid_template_areas": null,
            "object_position": null,
            "object_fit": null,
            "grid_auto_columns": null,
            "margin": null,
            "display": null,
            "left": null
          }
        },
        "4acaf1e6cf534944b4899f1438f1c75b": {
          "model_module": "@jupyter-widgets/controls",
          "model_name": "DropdownModel",
          "model_module_version": "1.5.0",
          "state": {
            "_options_labels": [
              "S",
              "M",
              "L",
              "XL"
            ],
            "_view_name": "DropdownView",
            "style": "IPY_MODEL_b055072c3d3b492a980eecc40de1da57",
            "_dom_classes": [],
            "description": "taglia",
            "_model_name": "DropdownModel",
            "index": 2,
            "_view_module": "@jupyter-widgets/controls",
            "_model_module_version": "1.5.0",
            "_view_count": null,
            "disabled": false,
            "_view_module_version": "1.5.0",
            "description_tooltip": null,
            "_model_module": "@jupyter-widgets/controls",
            "layout": "IPY_MODEL_599dc3182a0241938d41ad5e4db40943"
          }
        },
        "6a4155b4c86f4b8e8addf1e8d614061f": {
          "model_module": "@jupyter-widgets/controls",
          "model_name": "ButtonModel",
          "model_module_version": "1.5.0",
          "state": {
            "_view_name": "ButtonView",
            "style": "IPY_MODEL_1cbc3eb915a8479dbd2956ee897ac528",
            "_dom_classes": [],
            "description": "Run Interact",
            "_model_name": "ButtonModel",
            "button_style": "",
            "_view_module": "@jupyter-widgets/controls",
            "_model_module_version": "1.5.0",
            "tooltip": "",
            "_view_count": null,
            "disabled": false,
            "_view_module_version": "1.5.0",
            "layout": "IPY_MODEL_af5b816bc28145588564e2adb5d498e1",
            "_model_module": "@jupyter-widgets/controls",
            "icon": ""
          }
        },
        "ba466eec586d4d42a25c5120ab05d7da": {
          "model_module": "@jupyter-widgets/output",
          "model_name": "OutputModel",
          "model_module_version": "1.0.0",
          "state": {
            "_view_name": "OutputView",
            "msg_id": "",
            "_dom_classes": [],
            "_model_name": "OutputModel",
            "outputs": [
              {
                "output_type": "stream",
                "name": "stdout",
                "text": [
                  "Risultati attesi: 0.445\n",
                  "Risultati ottenuti: 0.493\n"
                ]
              },
              {
                "output_type": "display_data",
                "data": {
                  "image/png": "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\n",
                  "text/plain": "<Figure size 432x288 with 1 Axes>"
                },
                "metadata": {
                  "needs_background": "light"
                }
              }
            ],
            "_view_module": "@jupyter-widgets/output",
            "_model_module_version": "1.0.0",
            "_view_count": null,
            "_view_module_version": "1.0.0",
            "layout": "IPY_MODEL_9f1666401bbf492b992fef32118ed131",
            "_model_module": "@jupyter-widgets/output"
          }
        },
        "b055072c3d3b492a980eecc40de1da57": {
          "model_module": "@jupyter-widgets/controls",
          "model_name": "DescriptionStyleModel",
          "model_module_version": "1.5.0",
          "state": {
            "_view_name": "StyleView",
            "_model_name": "DescriptionStyleModel",
            "description_width": "",
            "_view_module": "@jupyter-widgets/base",
            "_model_module_version": "1.5.0",
            "_view_count": null,
            "_view_module_version": "1.2.0",
            "_model_module": "@jupyter-widgets/controls"
          }
        },
        "599dc3182a0241938d41ad5e4db40943": {
          "model_module": "@jupyter-widgets/base",
          "model_name": "LayoutModel",
          "model_module_version": "1.2.0",
          "state": {
            "_view_name": "LayoutView",
            "grid_template_rows": null,
            "right": null,
            "justify_content": null,
            "_view_module": "@jupyter-widgets/base",
            "overflow": null,
            "_model_module_version": "1.2.0",
            "_view_count": null,
            "flex_flow": null,
            "width": null,
            "min_width": null,
            "border": null,
            "align_items": null,
            "bottom": null,
            "_model_module": "@jupyter-widgets/base",
            "top": null,
            "grid_column": null,
            "overflow_y": null,
            "overflow_x": null,
            "grid_auto_flow": null,
            "grid_area": null,
            "grid_template_columns": null,
            "flex": null,
            "_model_name": "LayoutModel",
            "justify_items": null,
            "grid_row": null,
            "max_height": null,
            "align_content": null,
            "visibility": null,
            "align_self": null,
            "height": null,
            "min_height": null,
            "padding": null,
            "grid_auto_rows": null,
            "grid_gap": null,
            "max_width": null,
            "order": null,
            "_view_module_version": "1.2.0",
            "grid_template_areas": null,
            "object_position": null,
            "object_fit": null,
            "grid_auto_columns": null,
            "margin": null,
            "display": null,
            "left": null
          }
        },
        "1cbc3eb915a8479dbd2956ee897ac528": {
          "model_module": "@jupyter-widgets/controls",
          "model_name": "ButtonStyleModel",
          "model_module_version": "1.5.0",
          "state": {
            "_view_name": "StyleView",
            "_model_name": "ButtonStyleModel",
            "_view_module": "@jupyter-widgets/base",
            "_model_module_version": "1.5.0",
            "_view_count": null,
            "button_color": null,
            "font_weight": "",
            "_view_module_version": "1.2.0",
            "_model_module": "@jupyter-widgets/controls"
          }
        },
        "af5b816bc28145588564e2adb5d498e1": {
          "model_module": "@jupyter-widgets/base",
          "model_name": "LayoutModel",
          "model_module_version": "1.2.0",
          "state": {
            "_view_name": "LayoutView",
            "grid_template_rows": null,
            "right": null,
            "justify_content": null,
            "_view_module": "@jupyter-widgets/base",
            "overflow": null,
            "_model_module_version": "1.2.0",
            "_view_count": null,
            "flex_flow": null,
            "width": null,
            "min_width": null,
            "border": null,
            "align_items": null,
            "bottom": null,
            "_model_module": "@jupyter-widgets/base",
            "top": null,
            "grid_column": null,
            "overflow_y": null,
            "overflow_x": null,
            "grid_auto_flow": null,
            "grid_area": null,
            "grid_template_columns": null,
            "flex": null,
            "_model_name": "LayoutModel",
            "justify_items": null,
            "grid_row": null,
            "max_height": null,
            "align_content": null,
            "visibility": null,
            "align_self": null,
            "height": null,
            "min_height": null,
            "padding": null,
            "grid_auto_rows": null,
            "grid_gap": null,
            "max_width": null,
            "order": null,
            "_view_module_version": "1.2.0",
            "grid_template_areas": null,
            "object_position": null,
            "object_fit": null,
            "grid_auto_columns": null,
            "margin": null,
            "display": null,
            "left": null
          }
        },
        "9f1666401bbf492b992fef32118ed131": {
          "model_module": "@jupyter-widgets/base",
          "model_name": "LayoutModel",
          "model_module_version": "1.2.0",
          "state": {
            "_view_name": "LayoutView",
            "grid_template_rows": null,
            "right": null,
            "justify_content": null,
            "_view_module": "@jupyter-widgets/base",
            "overflow": null,
            "_model_module_version": "1.2.0",
            "_view_count": null,
            "flex_flow": null,
            "width": null,
            "min_width": null,
            "border": null,
            "align_items": null,
            "bottom": null,
            "_model_module": "@jupyter-widgets/base",
            "top": null,
            "grid_column": null,
            "overflow_y": null,
            "overflow_x": null,
            "grid_auto_flow": null,
            "grid_area": null,
            "grid_template_columns": null,
            "flex": null,
            "_model_name": "LayoutModel",
            "justify_items": null,
            "grid_row": null,
            "max_height": null,
            "align_content": null,
            "visibility": null,
            "align_self": null,
            "height": null,
            "min_height": null,
            "padding": null,
            "grid_auto_rows": null,
            "grid_gap": null,
            "max_width": null,
            "order": null,
            "_view_module_version": "1.2.0",
            "grid_template_areas": null,
            "object_position": null,
            "object_fit": null,
            "grid_auto_columns": null,
            "margin": null,
            "display": null,
            "left": null
          }
        }
      }
    }
  },
  "cells": [
    {
      "cell_type": "markdown",
      "metadata": {
        "id": "view-in-github",
        "colab_type": "text"
      },
      "source": [
        "<a href=\"https://colab.research.google.com/github/MontiMic/Tesi/blob/riordinato/Untitled1.ipynb\" target=\"_parent\"><img src=\"https://colab.research.google.com/assets/colab-badge.svg\" alt=\"Open In Colab\"/></a>"
      ]
    },
    {
      "cell_type": "markdown",
      "source": [
        "# Introduzione\n",
        "La seguente presentazione si propone di semplificare l'apprendimento di alcuni principi del calcolo probabilistico offrendo la possibilità di vedere applicare le leggi su grandi numeri e confrontando i risultati ottenuti con quelli attesi dalla teoria."
      ],
      "metadata": {
        "id": "yyLelI9l5lbc"
      }
    },
    {
      "cell_type": "markdown",
      "source": [
        "Di seguito includiamo le librerie che verranno utilizzate nel corso della presentazione:\n",
        "\n",
        "* **numpy** per la manipolazione dei dati\n",
        "\n",
        "* **interact** per rendere la presentazione interattiva offrendo la possibilità allo studente di scegliere gli input\n",
        "\n",
        "* **pyplot** per la rappresentazione grafica dei risultati"
      ],
      "metadata": {
        "id": "35yCw13F7Yam"
      }
    },
    {
      "cell_type": "code",
      "execution_count": 2,
      "metadata": {
        "id": "TAxUPZupC-qR"
      },
      "outputs": [],
      "source": [
        "import numpy as np\n",
        "from ipywidgets import interact, interact_manual\n",
        "from matplotlib import pyplot as plt\n",
        "import math\n",
        "import seaborn as sns\n",
        "import random\n",
        "import scipy.stats\n",
        "import pandas as pd"
      ]
    },
    {
      "cell_type": "markdown",
      "source": [
        "##Elementi di python"
      ],
      "metadata": {
        "id": "XN5Whz1Y9fiZ"
      }
    },
    {
      "cell_type": "markdown",
      "source": [
        "Questa sezione è rivolta unicamente a chi non avesse ancora mai visto il python, allo scopo di mostrare alcune pratiche peculiari a Python."
      ],
      "metadata": {
        "id": "yHNFMDrk9pHX"
      }
    },
    {
      "cell_type": "markdown",
      "source": [
        "La funzione np.zeros(n) restituisce un array di zeri lungo n"
      ],
      "metadata": {
        "id": "kXZd8nfHDkHj"
      }
    },
    {
      "cell_type": "code",
      "source": [
        "np.zeros(5)"
      ],
      "metadata": {
        "colab": {
          "base_uri": "https://localhost:8080/"
        },
        "id": "Pukdrzg7-ggY",
        "outputId": "736aa0b2-430c-456e-d18c-b4a03d902260"
      },
      "execution_count": 2,
      "outputs": [
        {
          "output_type": "execute_result",
          "data": {
            "text/plain": [
              "array([0., 0., 0., 0., 0.])"
            ]
          },
          "metadata": {},
          "execution_count": 2
        }
      ]
    },
    {
      "cell_type": "markdown",
      "source": [
        "Specificando anche il type booleano facciamo una conversione: \n",
        "\n",
        "*  Gli zeri diventano False\n",
        "\n",
        "* I valori diversi da zero diventano True"
      ],
      "metadata": {
        "id": "VyLCyWeYDvuh"
      }
    },
    {
      "cell_type": "code",
      "source": [
        "esempio = np.zeros(10, dtype=np.bool)\n",
        "print(esempio)"
      ],
      "metadata": {
        "colab": {
          "base_uri": "https://localhost:8080/"
        },
        "id": "lO-15LDEDZEP",
        "outputId": "2aa91fc3-5ad1-4994-9caf-77aa1e398128"
      },
      "execution_count": 3,
      "outputs": [
        {
          "output_type": "stream",
          "name": "stdout",
          "text": [
            "[False False False False False False False False False False]\n"
          ]
        },
        {
          "output_type": "stream",
          "name": "stderr",
          "text": [
            "/usr/local/lib/python3.7/dist-packages/ipykernel_launcher.py:1: DeprecationWarning: `np.bool` is a deprecated alias for the builtin `bool`. To silence this warning, use `bool` by itself. Doing this will not modify any behavior and is safe. If you specifically wanted the numpy scalar type, use `np.bool_` here.\n",
            "Deprecated in NumPy 1.20; for more details and guidance: https://numpy.org/devdocs/release/1.20.0-notes.html#deprecations\n",
            "  \"\"\"Entry point for launching an IPython kernel.\n"
          ]
        }
      ]
    },
    {
      "cell_type": "markdown",
      "source": [
        "Useremo questo tipo di struttura dati per simulare praticamente tutto, dalla roulette (True = rosso, False = nero) ad un urna di palline (quando ci basteranno 2 soli colori delle palline)"
      ],
      "metadata": {
        "id": "t-fqP7KSEIUu"
      }
    },
    {
      "cell_type": "markdown",
      "source": [
        "Questa struttura dati ci offre inol"
      ],
      "metadata": {
        "id": "YS53XnBHNuxD"
      }
    },
    {
      "cell_type": "markdown",
      "source": [
        "Per modificare un array il python ci offre uno strumento molto potente: lo slicing. Questa funzionalità permette di intervenire su un qualunque sottoinsieme dell'array se usata correttamente. A noi basta sapere che in un caso come esempio[1:5:2], stiamo intervenendo sull'array esempio, prendendo gli elementi dalla posizione 1 (inclusa) alla posizione 5 (esclusa) con passo 2:"
      ],
      "metadata": {
        "id": "OEyj-K9iEeQa"
      }
    },
    {
      "cell_type": "code",
      "source": [
        "esempio = ['a', 'b', 'c', 'd', 'e']\n",
        "esempio[1:5:2]"
      ],
      "metadata": {
        "colab": {
          "base_uri": "https://localhost:8080/"
        },
        "id": "48oF9noGF3Np",
        "outputId": "f461da4b-a995-4ebc-bf12-9b21c954be08"
      },
      "execution_count": 4,
      "outputs": [
        {
          "output_type": "execute_result",
          "data": {
            "text/plain": [
              "['b', 'd']"
            ]
          },
          "metadata": {},
          "execution_count": 4
        }
      ]
    },
    {
      "cell_type": "markdown",
      "source": [
        "Non specificare il primo parametro significa partire dall'elemento 0, omettere il secondo significa procedere fino all'ultimo (compreso) e non specificare il passo significa passo 1: non saltare nessun elemento."
      ],
      "metadata": {
        "id": "Rm-4oAaOGvIL"
      }
    },
    {
      "cell_type": "markdown",
      "source": [
        "La funzione range(n) restituisce un iterabile lungo n. In python è generalmente usata nel ciclo for."
      ],
      "metadata": {
        "id": "b6PzabLwIH1d"
      }
    },
    {
      "cell_type": "code",
      "source": [
        "for i in range(5):\n",
        "  print(i)"
      ],
      "metadata": {
        "colab": {
          "base_uri": "https://localhost:8080/"
        },
        "id": "fdFx5oZPIaf5",
        "outputId": "389f009e-71ff-4093-be3e-5fee563189cd"
      },
      "execution_count": 5,
      "outputs": [
        {
          "output_type": "stream",
          "name": "stdout",
          "text": [
            "0\n",
            "1\n",
            "2\n",
            "3\n",
            "4\n"
          ]
        }
      ]
    },
    {
      "cell_type": "markdown",
      "source": [
        "##Funzioni utili"
      ],
      "metadata": {
        "id": "UdZaaBfKzjzX"
      }
    },
    {
      "cell_type": "markdown",
      "source": [
        "Quelle che seguono sono funzioni utilizzate in più test del documento, per il corretto funzionamento dei test successivi è necessario eseguire queste celle una volta."
      ],
      "metadata": {
        "id": "iZFqSjhypj_Y"
      }
    },
    {
      "cell_type": "code",
      "source": [
        "#funzione che genera una roulette simulata da un array lungo 37 di cui 18 valori contano come \"vittoria\"\n",
        "def mk_roulette():\n",
        "  ruota = np.zeros(37, dtype=np.bool)\n",
        "  ruota[1::2] = True\n",
        "  return ruota"
      ],
      "metadata": {
        "id": "4LJOZHxd810N"
      },
      "execution_count": 6,
      "outputs": []
    },
    {
      "cell_type": "code",
      "source": [
        "#funzione che simula una singola partita alla roulette (1 o più puntate uguali) e, dato il portafogli di partenza, torno il nuovo conto\n",
        "def partita(ruota, giocate, puntata, portafogli):\n",
        "  while(giocate > 0):\n",
        "      giocate = giocate - 1\n",
        "      portafogli = portafogli - puntata #la puntata la considero sempre persa, in caso di vittoria vinco il doppio della puntata\n",
        "      if(ruota[np.random.randint(0, (37))]): #estraggo un elemento casuale della roulette e verifico se è rosso\n",
        "        portafogli = portafogli + (puntata * 2)\n",
        "  return portafogli  "
      ],
      "metadata": {
        "id": "fqGFfq_CT7Tv"
      },
      "execution_count": 7,
      "outputs": []
    },
    {
      "cell_type": "code",
      "source": [
        "#funzione che simula un dado ritornando un intero compreso tra 1 e 6\n",
        "def trow():\n",
        "  return np.random.randint(1, 7)"
      ],
      "metadata": {
        "id": "O7NiHEewS99d"
      },
      "execution_count": 8,
      "outputs": []
    },
    {
      "cell_type": "code",
      "source": [
        "#funzione che ritorna un'urna contenente palline di 2 colori in quanità scelta\n",
        "def mk_urna(bianche, rosse):\n",
        "  tot = bianche + rosse\n",
        "  urna = np.zeros((tot, 1), dtype=np.bool)\n",
        "  while(rosse > 0):\n",
        "    rnd = np.random.randint(0, (tot))\n",
        "    if (not urna[rnd]):\n",
        "      urna[rnd] = True\n",
        "      rosse = rosse - 1\n",
        "  return urna"
      ],
      "metadata": {
        "id": "R06bqIr8Ii4G"
      },
      "execution_count": 9,
      "outputs": []
    },
    {
      "cell_type": "markdown",
      "source": [
        "##Interpretazione dei risultati"
      ],
      "metadata": {
        "id": "EbFr-wXap_mS"
      }
    },
    {
      "cell_type": "markdown",
      "source": [
        "I test di questo documento hanno lo scopo di mostrare che le formule viste con la teoria del calcolo probabilistico hanno un riscontro nella realtà. \n",
        "Ogni test simulerà per un numero di volte a discrezione dello studente, lo scenario descritto dall'esempio in esame. Si noti che un numero più alto di ripetizioni porterà a risultati più precisi."
      ],
      "metadata": {
        "id": "Mp5-2IqZqDex"
      }
    },
    {
      "cell_type": "code",
      "source": [
        "def moneta(lanci):\n",
        "  results = []\n",
        "  for i in range(lanci): #lanciamo la moneta tante volte quante indicate dal parametro \"lanci\"\n",
        "    results.append(np.random.randint(2))\n",
        "  #grafico\n",
        "  labels = []\n",
        "  normalized = []\n",
        "  normalized.append(round(((results.count(0) / lanci) * 100), 2)) #conto le istanze dei risultati e le normalizzo\n",
        "  normalized.append(round(100 - sum(normalized), 2)) #per evitare che per errori di arrotondamento la somma dei risultati sia 99.9%, l'ultimo risultato lo calcolo come 100 - (la somma dei precedenti)\n",
        "  for i in range(len(normalized)):\n",
        "    labels.append(str(normalized[i]) + \"%\") # aggiungo le labels (i valori riportati all'esterno del grafico)\n",
        "  plt.pie(normalized, labels=labels)\n",
        "  legenda = [\"Testa\", \"Croce\"]\n",
        "  plt.legend(legenda,loc='upper center', bbox_to_anchor=(0.5, -0.05), fancybox=True, shadow=True, ncol=5)"
      ],
      "metadata": {
        "id": "pZxUQQ-_rGuz"
      },
      "execution_count": 10,
      "outputs": []
    },
    {
      "cell_type": "code",
      "source": [
        "moneta(100)"
      ],
      "metadata": {
        "id": "7rynuIn1ubs4",
        "outputId": "578b2e16-6a7d-4245-92bc-fcddfa773ca3",
        "colab": {
          "base_uri": "https://localhost:8080/",
          "height": 282
        }
      },
      "execution_count": 11,
      "outputs": [
        {
          "output_type": "display_data",
          "data": {
            "image/png": "[encoded data removed]",
            "text/plain": [
              "<Figure size 432x288 with 1 Axes>"
            ]
          },
          "metadata": {}
        }
      ]
    },
    {
      "cell_type": "code",
      "source": [
        "moneta(10_000)"
      ],
      "metadata": {
        "id": "E6dWQdxUud7o",
        "outputId": "42d2fd71-eacb-49b4-986f-a47e4d70a518",
        "colab": {
          "base_uri": "https://localhost:8080/",
          "height": 282
        }
      },
      "execution_count": 12,
      "outputs": [
        {
          "output_type": "display_data",
          "data": {
            "image/png": "[encoded data removed]",
            "text/plain": [
              "<Figure size 432x288 with 1 Axes>"
            ]
          },
          "metadata": {}
        }
      ]
    },
    {
      "cell_type": "code",
      "source": [
        "moneta(1_000_000)"
      ],
      "metadata": {
        "id": "uNmo8_dXugoY",
        "outputId": "31f0dafd-ef38-4044-f7fa-4468fffdbc65",
        "colab": {
          "base_uri": "https://localhost:8080/",
          "height": 282
        }
      },
      "execution_count": 13,
      "outputs": [
        {
          "output_type": "display_data",
          "data": {
            "image/png": "[encoded data removed]",
            "text/plain": [
              "<Figure size 432x288 with 1 Axes>"
            ]
          },
          "metadata": {}
        }
      ]
    },
    {
      "cell_type": "markdown",
      "source": [
        "Per un buon equilibrio tra accuratezza dei risultati e tempo di esecuzione impostiamo il numero di ripetizioni a 100 000 con la variabile \"precisione\"."
      ],
      "metadata": {
        "id": "0_jUagMkw72N"
      }
    },
    {
      "cell_type": "code",
      "source": [
        "precisione = 100_000"
      ],
      "metadata": {
        "id": "7YqOeAMoxunS"
      },
      "execution_count": 3,
      "outputs": []
    },
    {
      "cell_type": "markdown",
      "source": [
        "Si lascia allo studente la possibilità di incrementare questa variabile se desiderasse dei risultati più precisi."
      ],
      "metadata": {
        "id": "uH7_BXdBxvvq"
      }
    },
    {
      "cell_type": "markdown",
      "source": [
        "# Variabili aleatorie discrete"
      ],
      "metadata": {
        "id": "gQTrf-PK7FxE"
      }
    },
    {
      "cell_type": "markdown",
      "source": [
        "Una variabile aleatoria _X_ si dice discreta se i valori che assume sono finiti oppure numerabili.\n",
        "\n",
        "Nel caso siano numerabili molto spesso potremo pensare che siano semplicmente i numeri interi, ma non vogliamo escludere anche casi in cui abbiamo dei valori non interi."
      ],
      "metadata": {
        "id": "f7tQYrZgLgm2"
      }
    },
    {
      "cell_type": "markdown",
      "source": [
        "##Esempio 1.1 \n",
        "Faccio 3 puntate sul rosso alla roulette puntando 10 euro per volta, qual è la probabilità di vincere più di un certo valore _X_?\n",
        "\n",
        "(Le vincite possibili sono valori finiti ed è quindi una variabile discreta)"
      ],
      "metadata": {
        "id": "wO2wYqZ-DSZF"
      }
    },
    {
      "cell_type": "code",
      "source": [
        "@interact_manual(vincita=(0, 30))\n",
        "def roulette(vincita=5):\n",
        "  giocate = 3\n",
        "  puntata = 10\n",
        "  ruota = mk_roulette()\n",
        "  count = 0\n",
        "  for i in range(precisione):\n",
        "    portafogli = giocate * puntata\n",
        "    portafogli = partita(ruota, giocate, puntata, portafogli) #il portafogli viene aggiornato dopo aver simulato una partita\n",
        "    if((portafogli - 30) >= vincita): #se ho finito le 3 puntate con una vincita maggiore o uguale a quella sperata la aggiungo al conteggio\n",
        "      count = count + 1\n",
        "  return round(count / precisione, 3)"
      ],
      "metadata": {
        "colab": {
          "base_uri": "https://localhost:8080/",
          "height": 0,
          "referenced_widgets": [
            "a3110f81b03048a485df569fac9341ac",
            "1cb663aeed2043fcbfcf19456ae319f9",
            "60060b76b23b4a36afe34841a02d5349",
            "dbdd468b870a4e9b9faf658f5ade5524",
            "6d2efaa178ad424ca4d24a3f3ec2f270",
            "a37a94b921734214a69fe798e42e34ce",
            "b2b70daa8e454e1faa16c4c79f55f0dc",
            "c9c4e35d262041ceb358d663b25d4ff7",
            "03efed34bd7549c9b8799c34ba50491e",
            "cad64126732a4981be69e5c4359bba0e"
          ]
        },
        "id": "w2ugmhMy_cfa",
        "outputId": "5685ae72-897f-406f-e09a-d8d440e1841c"
      },
      "execution_count": 15,
      "outputs": [
        {
          "output_type": "display_data",
          "data": {
            "application/vnd.jupyter.widget-view+json": {
              "model_id": "a3110f81b03048a485df569fac9341ac",
              "version_minor": 0,
              "version_major": 2
            },
            "text/plain": [
              "interactive(children=(IntSlider(value=5, description='vincita', max=30), Button(description='Run Interact', st…"
            ]
          },
          "metadata": {}
        }
      ]
    },
    {
      "cell_type": "markdown",
      "source": [
        "##Esempio 1.2\n",
        "Dati il numero di puntate ed i soldi scommessi ogni volta, quanto mi dovrei aspettare di aver vinto alla fine? (risultato in euro)"
      ],
      "metadata": {
        "id": "tTOcRD2kD_zf"
      }
    },
    {
      "cell_type": "code",
      "source": [
        "@interact_manual(giocate=(1, 10), puntata=(5, 100, 5))\n",
        "def roulette(giocate = 3, puntata = 10):\n",
        "  portafogli = giocate * puntata * precisione\n",
        "  ruota = mk_roulette()\n",
        "  for i in range(precisione):\n",
        "    portafogli = partita(ruota, giocate, puntata, portafogli)\n",
        "  portafogli = portafogli / precisione\n",
        "  return round(portafogli - (giocate * puntata), 2)"
      ],
      "metadata": {
        "colab": {
          "base_uri": "https://localhost:8080/",
          "height": 0,
          "referenced_widgets": [
            "b8d4e44c5e7545c38cc3d77466802a7d",
            "b9f7d651343043969859dc6718628e6e",
            "efecf47e19c54decb1873fd6d3f2a8f8",
            "e95e66a10d2245988e16b6ceb4121cd0",
            "b331219d424448699aa7b621a3b5a8dc",
            "e87a3dd1f6fe41808bce0a423b31a336",
            "839ffe3625ef476ba06853d1baf7b6ca",
            "1fb029fd33a54d14b346075bf170b7ea",
            "594c243c67254f58bfbaf7112eb67fb7",
            "f13f088f4617450ea7b7991e731094ab",
            "23cf020c199945efa1b5ac52ba818c96",
            "2acba47b6ff8418eb770dd82a0c70815",
            "4d20cfc18ff741a58b24855a2f59dcfa"
          ]
        },
        "id": "TR8QkEnHD-B2",
        "outputId": "7f27364a-c009-4df5-9abd-40dc3d0989a5"
      },
      "execution_count": 16,
      "outputs": [
        {
          "output_type": "display_data",
          "data": {
            "application/vnd.jupyter.widget-view+json": {
              "model_id": "b8d4e44c5e7545c38cc3d77466802a7d",
              "version_minor": 0,
              "version_major": 2
            },
            "text/plain": [
              "interactive(children=(IntSlider(value=3, description='giocate', max=10, min=1), IntSlider(value=10, descriptio…"
            ]
          },
          "metadata": {}
        }
      ]
    },
    {
      "cell_type": "markdown",
      "source": [
        "# Distribuzione uniforme e non uniforme"
      ],
      "metadata": {
        "id": "qBnKgfwaLT9x"
      }
    },
    {
      "cell_type": "markdown",
      "source": [
        "Sia _A_ = {_x1_, . . . , _xn_}; una variabile _X_ che assume i valori in _A_ tutti con la stessa probabilità $\\frac{1}{n}$\n",
        "si dice _variabile uniforme_ su _A_. Scriviamo in questo caso _X_ ∼ _U_(_A_) oppure _X_ ∼ _U_(_x1_, . . . , _xn_).\n",
        "La densità è quindi:\n",
        "\n",
        "\\begin{equation}\n",
        "  px(h) =\n",
        "    \\begin{cases}\n",
        "           \\frac{1}{n} \\ se \\  h  \\ ∈ \\ ({x1}, {x2}, ..., {xn})\n",
        "          \\\\\n",
        "          0 \\ altrimenti\n",
        "        \\end{cases}\n",
        "\\end{equation}"
      ],
      "metadata": {
        "id": "GUQzPwZ8NK0Q"
      }
    },
    {
      "cell_type": "markdown",
      "source": [
        "##Esempio 2.1 \n",
        "Nel lancio di un dado sia Ω = {1, 2, 3, 4, 5, 6} l’insieme dei possibili risultati.\n",
        "Allora la funzione _X_(_n_) = n per ogni n ∈ Ω è una variabile aleatoria uniforme _X_ ∼ _U_(1, 2, 3, 4, 5, 6).\n"
      ],
      "metadata": {
        "id": "HJrqw0EbXj2l"
      }
    },
    {
      "cell_type": "code",
      "source": [
        "def dice():\n",
        "  results = []\n",
        "  for i in range(precisione):\n",
        "    results.append(trow()) #aggiungo il risultato del tiro alla lista dei risultati\n",
        "  #grafico\n",
        "  elem_count = []\n",
        "  labels = []\n",
        "  for i in range(len(set(results))): #conto le istanze di ogni risultato ottenuto ed aggiungo i totali a elem_count, poi lo metto a grafico\n",
        "    elem_count.append(results.count(i+1))\n",
        "    labels.append(str(i+1))\n",
        "  plt.bar(labels, elem_count)\n",
        "dice()"
      ],
      "metadata": {
        "colab": {
          "base_uri": "https://localhost:8080/",
          "height": 0
        },
        "id": "pO1ExmtATCeI",
        "outputId": "0045c34e-7597-487a-d03c-6b7f8c3fcb66"
      },
      "execution_count": 17,
      "outputs": [
        {
          "output_type": "display_data",
          "data": {
            "image/png": "[encoded data removed]",
            "text/plain": [
              "<Figure size 432x288 with 1 Axes>"
            ]
          },
          "metadata": {
            "needs_background": "light"
          }
        }
      ]
    },
    {
      "cell_type": "markdown",
      "source": [
        "##Esempio 2.2\n",
        "Se invece lanciassimo due dadi, la variabile _X_ che assume un valore corrispondente al numero di risultati pari ottenuti dal lancio sarebbe una _variabile non uniforme_ siccome la sua densità sarebbe:\n",
        "\n",
        "\\begin{equation}\n",
        "  py(h) =\n",
        "    \\begin{cases}\n",
        "          \\frac{1}{4} \\  h={0},{2}\n",
        "          \\\\\n",
        "          \\frac{1}{2} \\ h={1}\n",
        "          \\\\\n",
        "          0 \\ altrimenti\n",
        "        \\end{cases}\n",
        "\\end{equation}"
      ],
      "metadata": {
        "id": "BZUNA1OvaQp6"
      }
    },
    {
      "cell_type": "code",
      "source": [
        "def even_dices():\n",
        "  results = []\n",
        "  for i in range(precisione):\n",
        "    a, b = trow(), trow() #lancio due dadi, poi conterò quanti sono pari per aggiungere il risultato alla lista\n",
        "    results.append(2-((a % 2)+(b % 2))) #conto i dadi pari come due meno i dadi dispari (n%2 = 1 per n dispari, 0 altrimenti)\n",
        "  valori = []\n",
        "  normalized = []\n",
        "  for i in range(3): #conto le istanze dei risultati e le divido per il numero di risultati totale (normalizzo)\n",
        "    normalized.append(results.count(i) / len(results)) #len(results) torna la lunghezza della lista results\n",
        "    valori.append(\"k=\" + str(i))\n",
        "  plt.pie(normalized, labels=valori)\n",
        "even_dices()"
      ],
      "metadata": {
        "colab": {
          "base_uri": "https://localhost:8080/",
          "height": 0
        },
        "id": "Ly_UKZkxZr2J",
        "outputId": "3ef29120-ba99-40f0-de56-ba956d2756cb"
      },
      "execution_count": 18,
      "outputs": [
        {
          "output_type": "display_data",
          "data": {
            "image/png": "[encoded data removed]",
            "text/plain": [
              "<Figure size 432x288 with 1 Axes>"
            ]
          },
          "metadata": {}
        }
      ]
    },
    {
      "cell_type": "markdown",
      "source": [
        "#Densità binomiale"
      ],
      "metadata": {
        "id": "qimeQspadWgq"
      }
    },
    {
      "cell_type": "markdown",
      "source": [
        "Consideriamo un fenomeno aleatorio e un certo evento ad esso associato. Per semplicità diciamo che se l’evento si realizza otteniamo un “successo”, viceversa che abbiamo ottenuto un “insuccesso\".\n",
        "Uno schema successo-insuccesso consiste nel ripetere questo fenomeno un certo fissato numero di volte, dette anche prove o tentativi, in cui siamo interessati unicamente al numero di successi ottenuti\n",
        "nelle varie prove.\n",
        "Supponiamo ora che le prove siano indipendenti l’una dall’altra, cioè vengono effettuate tuttevnelle medesime condizioni, indipendentemente dal risultato delle prove precedenti: parliamo in questo caso di schema successo-insuccesso con ripetizione o a prove indipendenti. Consideriamo\n",
        "quindi la variabile X data dal numero di successi in n tentativi.\n",
        "Nel caso in cui le prove siano indipendenti l’una dall’altra, la probabilità di ottenere una certa prefissata sequenza di successi e insuccessi dipende solo dal numero di questi ultimi e non dall’ordine con cui vogliamo che si succedano. La probabilità di ottenere una sequenza fissata in cui abbiamo k successi e n − k insuccessi è data da\n",
        "$p^k(1-p)^{n-k}$, dove p è la probabilità che ogni singolo tentativo abbia successo. Siccome i modi in cui possiamo scegliere le k posizioni per i successi sono date da ${n\\choose k}$ otteniamo per la variabile X la densità data da\n",
        "\n",
        "\\begin{equation}\n",
        "  px(k) =\n",
        "    \\begin{cases}\n",
        "          {n\\choose k} p^k(1-p)^{n-k} \\ se \\ k=1,2,...,n\n",
        "          \\\\\n",
        "          0 \\ altrimenti\n",
        "        \\end{cases}\n",
        "\\end{equation}\n",
        "\n",
        "\n",
        "Scriveremo in questo caso _X_ ∼ _B_(_n_, _p_) e diciamo che _X_ è una variabile binomiale."
      ],
      "metadata": {
        "id": "OUh7jiOk7WSD"
      }
    },
    {
      "cell_type": "markdown",
      "source": [
        "##Esempio 3.1\n",
        "\n",
        "Supponiamo di andare al casinò con 15 Euro e puntiamo 3 volte 5 Euro alla roulette sul rosso. Consideriamo la variabile aleatoria X data dai soldi che abbiamo in tasca alla fine delle 3 puntate. La probabilità di ottenere un numero rosso è di $\\frac{18}{37}$ ad ogni tentativo.\n",
        "Determinare la densità di X.\n",
        "La variabile X può assumere i valori 30, 20, 10, 0 a seconda di quanti rossi sono usciti. Abbiamo:\n",
        "\n",
        "P(X = 30) = $(\\frac{18}{37})^3$ = 0,115\n",
        "\n",
        "P(X = 20) = ${3\\choose 1}(\\frac{18}{37})^2 · \\frac{19}{37}$= 0, 365\n",
        "\n",
        "P(X = 10) = ${3\\choose 2}(\\frac{18}{37}) · (\\frac{19}{37})^2$ = 0,385\n",
        "\n",
        "P(X = 0) = $(\\frac{19}{37})^3$ = 0,135\n"
      ],
      "metadata": {
        "id": "O8PjzahWhrRr"
      }
    },
    {
      "cell_type": "code",
      "source": [
        "@interact_manual(giocate=(1, 6), puntata=(5, 100, 5))\n",
        "def roulette(giocate = 3, puntata = 5):\n",
        "  ruota = mk_roulette()\n",
        "  results = []\n",
        "  for i in range(precisione):\n",
        "    portafogli = giocate * puntata\n",
        "    portafogli = partita(ruota, giocate, puntata, portafogli)\n",
        "    results.append(portafogli)\n",
        "  #grafico\n",
        "  normalized = []\n",
        "  valori = []\n",
        "  for i in range(giocate):\n",
        "    normalized.append(round(((results.count(puntata*2*i) / precisione) * 100), 2)) #conto le istanze dei risultati e le normalizzo\n",
        "  normalized.append(round(100 - sum(normalized), 2)) #per evitare che per errori di arrotondamento la somma dei risultati sia 99.9%, l'ultimo risultato lo calcolo come 100 - (la somma dei precedenti)\n",
        "  labels = []\n",
        "  for i in range(len(normalized)):\n",
        "    labels.append(str(normalized[i]) + \"%\") # aggiungo le labels (i valori riportati all'esterno del grafico)\n",
        "  plt.pie(normalized, labels=labels)\n",
        "  legenda = []\n",
        "  for i in range(len(normalized)):\n",
        "    legenda.append(str(puntata*2*i))\n",
        "  plt.legend(legenda,loc='upper center', bbox_to_anchor=(0.5, -0.05), fancybox=True, shadow=True, ncol=5)"
      ],
      "metadata": {
        "id": "QDB96jXivO40",
        "outputId": "a2d561be-fd41-4c57-e75e-20133470234c",
        "colab": {
          "base_uri": "https://localhost:8080/",
          "height": 0,
          "referenced_widgets": [
            "ae05162bd61543c1827fe2a3053566e0",
            "7804a771625f49bb8f0b94da0dbf306f",
            "71387736025d4fc9a47832936cae705c",
            "d4b7c8f185f8437ba9531b9fc2b21562",
            "0442332d36664fbf88f6ca4c2bafdf7b",
            "f525792169bd4466b0327bd41e14e3fe",
            "9086454daa2c44dd97f60059e30a7da5",
            "f6aba3b1488746c3acbe6fddd9d3340a",
            "d738e3492a4343b9b5230a9997f3ba63",
            "050a330154ba40c79d155c1a660c3b36",
            "88a0bedc3f304b47b0d1ac126b2c0761",
            "7c196c33e0d643319717d47143196620",
            "98b1f60d2df546e7bda2a05237666bd4"
          ]
        }
      },
      "execution_count": 19,
      "outputs": [
        {
          "output_type": "display_data",
          "data": {
            "application/vnd.jupyter.widget-view+json": {
              "model_id": "ae05162bd61543c1827fe2a3053566e0",
              "version_minor": 0,
              "version_major": 2
            },
            "text/plain": [
              "interactive(children=(IntSlider(value=3, description='giocate', max=6, min=1), IntSlider(value=5, description=…"
            ]
          },
          "metadata": {}
        }
      ]
    },
    {
      "cell_type": "markdown",
      "source": [
        "# Densità ipergeometrica"
      ],
      "metadata": {
        "id": "9PjQr8MmCUYu"
      }
    },
    {
      "cell_type": "markdown",
      "source": [
        "\n",
        "Un altro tipo di schema successo-insuccesso è il cosiddetto schema successo-insuccesso _senza ripetizione_. In questo caso il fenomeno aleatorio consiste nell’estrazione di n palline, senza rimpiazzare di volta in volta la pallina estratta, da un'urna contenente b palline bianche e r palline rosse.\n",
        "Diciamo che la prova (estrazione) dà successo se viene estratta una pallina bianca e consideriamo la variabile X data dal numero di successi ottenuti, cioè dal numero di palline bianche estratte.\n",
        "\n",
        "\n",
        "Osserviamo che X può assumere tutti i valori tra max(0, n − r) e min(n, b): infatti se n > r siamo sicuri di pescare almeno n−r palline bianche e chiaramente il numero di bianche estratte non può superare nè il numero estrazioni nè il numero di palline bianche.\n",
        "\n",
        "Lo spazio Ω è dato da tutti i possibili sottoinsiemi di n oggetti (le palline estratte) scelti da un insieme di b + r oggetti (le palline\n",
        "disponibili), con probabilità uniforme. L’evento “X = k” è dato quindi da tutti i sottoinsiemi delle b + r palline costituiti da k palline bianche e n − k palline rosse. Le k bianche le posso scegliere in ${b\\choose k}$ modi. Le n − k rosse in ${r \\choose {n - k}}$ modi. Abbiamo quindi che la densità di X è data da\n",
        "\n",
        "\\begin{equation}\n",
        "  px(k) =\n",
        "    \\begin{cases}\n",
        "          \\frac{{b \\choose k} · {r \\choose n - k}}{b + r \\choose n} \\ se \\ k=max(0, n-r),...,min(n,b)\n",
        "          \\\\\n",
        "          0 \\ altrimenti\n",
        "        \\end{cases}\n",
        "\\end{equation}\n",
        "\n",
        "Scriviamo in questo caso X ∼ H(n; b, r) e diciamo che X è una variabile ipergeometrica."
      ],
      "metadata": {
        "id": "OnLdbdQjCbyl"
      }
    },
    {
      "cell_type": "markdown",
      "source": [
        "##Esempio 4.1\n",
        "Un’urna contiene 8 palline bianche e 2 rosse. Ne estraiamo 3 senza rimpiazzo.\n",
        "Qual è la probabilità di estrarne al più una rossa? In questo caso, a differenza del precedente abbiamo che la variabile X = numero di rosse estratte è una ipergeometrica X ∼ H(3; 2, 8) per\n",
        "cui\n",
        "\n",
        "P(_X_ ≤ 1) = P(_X_ = 0) + P(_X_ = 1) = $\\frac{{2 \\choose 0}·{8 \\choose 3}}{10 \\choose 3}$ + $\\frac{{2 \\choose 1}·{8 \\choose 2}}{10 \\choose 3}$ = $\\frac{14}{15}$ = 0.933"
      ],
      "metadata": {
        "id": "mqqc2UiZGaIY"
      }
    },
    {
      "cell_type": "code",
      "source": [
        "@interact_manual(estrazioni=(1, 10))\n",
        "def ipergeometrica(estrazioni=3):\n",
        "  bianche = 8\n",
        "  rosse = 2\n",
        "  urna = mk_urna(bianche, rosse)\n",
        "  results = 0\n",
        "  for i in range(precisione):\n",
        "    tmp = urna\n",
        "    count = 0\n",
        "    for i in range(estrazioni):\n",
        "      extr = np.random.randint(0, ((bianche + rosse)-i))\n",
        "      if(tmp[extr]):\n",
        "        count = count + 1\n",
        "      tmp = np.delete(tmp, extr)\n",
        "    if(count < 2):\n",
        "      results = results + 1  \n",
        "  return round(results / precisione, 3)"
      ],
      "metadata": {
        "id": "R0SjK_tkMtDv",
        "colab": {
          "base_uri": "https://localhost:8080/",
          "height": 0,
          "referenced_widgets": [
            "f46702f58163403eb8931983f2d2f34a",
            "3de4b37942634da2a5734c4976ef3a68",
            "0fce210f55d24e6ab9126fd24ca66205",
            "fdb3c0fafddf4ab8a97236cf0c06d3ef",
            "3d8db68ee8e94a4c8a875bbc4001c1c9",
            "f88615e4170b4c9cb5703441e7f6e1f7",
            "739424a0f13f4f79b844f54004e97d72",
            "60308b062f58408696411bc5e66b323c",
            "98635ad3843040ae89c2403187914909",
            "7a56f4e98d024be996b3bb81b16283e8"
          ]
        },
        "outputId": "b804030e-73c5-4e3d-9dd7-00607f5284df"
      },
      "execution_count": 20,
      "outputs": [
        {
          "output_type": "display_data",
          "data": {
            "application/vnd.jupyter.widget-view+json": {
              "model_id": "f46702f58163403eb8931983f2d2f34a",
              "version_minor": 0,
              "version_major": 2
            },
            "text/plain": [
              "interactive(children=(IntSlider(value=3, description='estrazioni', max=10, min=1), Button(description='Run Int…"
            ]
          },
          "metadata": {}
        }
      ]
    },
    {
      "cell_type": "markdown",
      "source": [
        "#Densità geometrica - geometrica modificata"
      ],
      "metadata": {
        "id": "-GtoecXjUH1e"
      }
    },
    {
      "cell_type": "markdown",
      "source": [
        "In uno schema successo-insuccesso, anzichè al numero di successi ottenuti su n tentativi, potremmo essere interessati al numero di tentativi che devo effettuare prima di ottenere un successo."
      ],
      "metadata": {
        "id": "YBirGuNoUKbB"
      }
    },
    {
      "cell_type": "markdown",
      "source": [
        "##Esempio 5.1\n",
        "\n",
        "Consideriamo un’urna con 2 palline bianche e 3 rosse. Le estraggo senza\n",
        "rimpiazzo finchè non trovo una pallina rossa. Considero la variabile aleatoria X=numero di estrazioni per trovare una pallina rossa. X è una variabile finita in quanto assume solo i valori 1, 2, 3.\n",
        "La sua densità si determina facilmente ed è data da\n",
        "\n",
        "\\begin{equation}\n",
        "  px(k) =\n",
        "    \\begin{cases}\n",
        "          \\frac{6}{10} \\ se \\ k=1\n",
        "          \\\\\n",
        "          \\frac{3}{10} \\ se \\ k=2\n",
        "          \\\\\n",
        "          \\frac{1}{10} \\ se \\ k=3\n",
        "          \\\\\n",
        "          0 \\ altrimenti\n",
        "        \\end{cases}\n",
        "\\end{equation}\n",
        "\n"
      ],
      "metadata": {
        "id": "aXX1PJQLUX9Z"
      }
    },
    {
      "cell_type": "code",
      "source": [
        "@interact_manual(bianche=(1,5), rosse=(1, 5))\n",
        "def geometrica(bianche=2, rosse=3):\n",
        "  palle = mk_urna(bianche, rosse)\n",
        "  results = []\n",
        "  count=0\n",
        "  while(len(results) < precisione):\n",
        "    done = len(results)\n",
        "    tmp = palle\n",
        "    while(len(results) == done):\n",
        "      extr = np.random.randint(0, ((bianche+rosse)-count))\n",
        "      if(tmp[extr]):\n",
        "        results.append(count)\n",
        "        count=0\n",
        "      else:  \n",
        "        tmp = np.delete(tmp,extr)\n",
        "        count = count + 1\n",
        "  #grafico\n",
        "  labels = []\n",
        "  normalized = []\n",
        "  for i in range(len(set(results)) - 1): #len(set(n)) torna il numero di risultati distinti presenti in results\n",
        "    normalized.append(round(((results.count(i) / precisione) * 100), 2)) #conto le istanze dei risultati e le normalizzo\n",
        "  normalized.append(round(100 - sum(normalized), 2)) #per evitare che per errori di arrotondamento la somma dei risultati sia 99.9%, l'ultimo risultato lo calcolo come 100 - (la somma dei precedenti)\n",
        "  for i in range(len(normalized)):\n",
        "    labels.append(str(normalized[i]) + \"%\") # aggiungo le labels (i valori riportati all'esterno del grafico)\n",
        "  plt.pie(normalized, labels=labels)\n",
        "  legenda = []\n",
        "  for i in range(bianche + 1):\n",
        "    legenda.append(\"k=\"+str(i+1))\n",
        "  plt.legend(legenda,loc='upper center', bbox_to_anchor=(0.5, -0.05), fancybox=True, shadow=True, ncol=5)"
      ],
      "metadata": {
        "colab": {
          "base_uri": "https://localhost:8080/",
          "height": 0,
          "referenced_widgets": [
            "1d5fff611fdf423b82d3ba3515c212b4",
            "12ccf2bec29f48bd9e3c2987b03bc4c8",
            "2ecc4589da27480d8dff6409dc960c7d",
            "497d1b6d54af4e20aba90ac7d2982ae1",
            "baf3c24857394f978aa99a283d7b9a3a",
            "5a07455bfce2421bb5cc834525d01e89",
            "9708451a9d6c4468be5a1e3c8d529648",
            "0b56c96ef8824c2d9c0e34ed08d15ae7",
            "7284d58288a44e91b47b488893d35ee2",
            "b85fee060e674cf09bcba525c93e8658",
            "6af1af6854054bf4a62cf501592b2cfc",
            "4daf4f256ce84959a6bdc6578803f8e9",
            "8ef198052dbe4cf2be45b83ce033ef05"
          ]
        },
        "id": "5tLgoNi7f2YM",
        "outputId": "47c7e316-0d8f-46d6-9db3-c5a3ac179a14"
      },
      "execution_count": 21,
      "outputs": [
        {
          "output_type": "display_data",
          "data": {
            "application/vnd.jupyter.widget-view+json": {
              "model_id": "1d5fff611fdf423b82d3ba3515c212b4",
              "version_minor": 0,
              "version_major": 2
            },
            "text/plain": [
              "interactive(children=(IntSlider(value=2, description='bianche', max=5, min=1), IntSlider(value=3, description=…"
            ]
          },
          "metadata": {}
        }
      ]
    },
    {
      "cell_type": "markdown",
      "source": [
        "Caso interessante:\n",
        "\n",
        "Nel caso di una sola pallina rossa ed _n_ palline bianche, non si ha un'estrazione in cui è più probabile trovare la rossa, hanno tutte probabilità $\\frac{1}{n+1}$ come si può verificare ri-lanciando l'esperimento precedente con una sola pallina rossa."
      ],
      "metadata": {
        "id": "Y5F358gdvcak"
      }
    },
    {
      "cell_type": "markdown",
      "source": [
        "##Esempio 5.2\n",
        "\n",
        "Ripetiamo l'esperimento precedente, ma questa volta rimpiazziamo la pallina ad ogni estrazione. La variabile X diventa numerabile e si ha\n",
        "\n",
        "\\begin{equation}\n",
        "  px(k) =\n",
        "    \\begin{cases}\n",
        "          (\\frac{2}{5})^{k-1}\\frac{3}{5} \\ se \\ k=1,2,3,...\n",
        "          \\\\\n",
        "          0 \\ altrimenti\n",
        "        \\end{cases}\n",
        "\\end{equation}\n",
        "\n",
        "Infatti richiedere X = k vuol dire aver ottenuto k − 1 insuccessi nei primi k − 1 tenativi (ognuno con probabilità $\\frac{2}{5}$) per poi finalmente ottenere un successo al k-esimo tentativo (con probabilità $\\frac{3}{5}$)"
      ],
      "metadata": {
        "id": "DPSi8KkVKH60"
      }
    },
    {
      "cell_type": "code",
      "source": [
        "@interact_manual(bianche=(1,5), rosse=(1, 5))\n",
        "def geometrica_mod(bianche=2, rosse=3):\n",
        "  palle = mk_urna(bianche, rosse)\n",
        "  results = []\n",
        "  count=0\n",
        "  while(len(results) < precisione):\n",
        "    done = len(results)\n",
        "    tmp = palle\n",
        "    while(len(results) == done):\n",
        "      extr = np.random.randint(0, (bianche+rosse))\n",
        "      if(tmp[extr]):\n",
        "        results.append(count)\n",
        "        count=0\n",
        "      else:  \n",
        "        count = count + 1\n",
        "  \n",
        "  #grafico risultati\n",
        "  labels = []\n",
        "  normalized = []\n",
        "  for i in range(len(set(results))): \n",
        "    normalized.append(round(((results.count(i) / precisione) * 100), 2))\n",
        "  for i in range(len(set(results))):\n",
        "    labels.append(str(i+1))\n",
        "  \n",
        "  #grafico teorico\n",
        "  teoria = []\n",
        "  for i in range(len(set(results))):\n",
        "    teoria.append(((bianche / (bianche + rosse))**(i)) * (rosse / (bianche + rosse)) * 100)\n",
        "\n",
        "  lab_arr = np.arange(len(labels))\n",
        "\n",
        "  w=0.4\n",
        "  plt.bar(lab_arr-(w/2), normalized, width=w)\n",
        "  plt.bar(lab_arr+(w/2), teoria, width=w)\n",
        "  plt.ylabel(\"Percentage\")\n",
        "  plt.xlabel(\"K\")\n",
        "  legenda = [\"Risultati ottenuti\", \"Risultati attesi\"]\n",
        "  plt.legend(legenda,loc='upper center', bbox_to_anchor=(0.5, -0.05), fancybox=True, shadow=True, ncol=5)"
      ],
      "metadata": {
        "colab": {
          "base_uri": "https://localhost:8080/",
          "height": 0,
          "referenced_widgets": [
            "6b0d08f9a4ea4d8fa54852bdcf90bffb",
            "ba95d4762d424e1bac1a9465444b99bf",
            "dbb589eadc34411d98cf8444c0efda5b",
            "88176b47de6145489b66a6d7cd0d17f8",
            "abc6fefbadfd45868010c1c92e5b8280",
            "2d2cb09f6ff6485ab63320dbb85be9e4",
            "bb277536cfbd46c98f02c13aada3afab",
            "43b3dd2ef38141849a161cf4c6a2d642",
            "6258338c33554870ac5d2df88e4d21f6",
            "5bfe07c1ee06471787f7834b893c4cfa",
            "df235c1e287f4da1b071d4bc33dcf4eb",
            "f1c89055c6a54ad29f569f142ce56b2b",
            "7139864d37ce4a9ba9c4e02fa51406ab"
          ]
        },
        "id": "p-e8XTgnsSgC",
        "outputId": "e4509915-4d76-46eb-9d2c-ebaec91e6e29"
      },
      "execution_count": 22,
      "outputs": [
        {
          "output_type": "display_data",
          "data": {
            "application/vnd.jupyter.widget-view+json": {
              "model_id": "6b0d08f9a4ea4d8fa54852bdcf90bffb",
              "version_minor": 0,
              "version_major": 2
            },
            "text/plain": [
              "interactive(children=(IntSlider(value=2, description='bianche', max=5, min=1), IntSlider(value=3, description=…"
            ]
          },
          "metadata": {}
        }
      ]
    },
    {
      "cell_type": "markdown",
      "source": [
        "Quello appena visto è un esempio di _densità geometrica modificata_ che scriveremo come T ∼ Ḡ(_p_).\n",
        "\n",
        "Quando si parla di densità geometrica modificata? \n",
        "\n",
        "Si consideri uno schema successo-insuccesso con ripetizioni e prendiamo in esame la variabile T data dal tempo di primo successo. \n",
        "Se chiamiamo _Xi_ le variabili _B_(1, _p_) date da _Xi_ = 1 se l’i-esimo tentativo dà successo e _Xi_  = 0 altrimenti abbiamo come densità\n",
        "\n",
        "\\begin{equation}\n",
        "  px(k) =\n",
        "    \\begin{cases}\n",
        "          p(1-p)^{k-1} \\ se \\ k=1,2,3,...\n",
        "          \\\\\n",
        "          0 \\ altrimenti\n",
        "        \\end{cases}\n",
        "\\end{equation}"
      ],
      "metadata": {
        "id": "u9PHD5qa-xdK"
      }
    },
    {
      "cell_type": "markdown",
      "source": [
        "##Esempio 5.3\n",
        "\n",
        "Si lancino simultaneamente due dadi, uno rosso e uno blu. Ripetiamo questo\n",
        "esperimento finchè non otteniamo due 6. \n",
        "\n",
        "Poniamo X = primo lancio in cui il dado rosso ha dato 6,\n",
        "Y = primo lancio in cui il dado blu ha dato 6.\n",
        "\n",
        "\n",
        "Determinare inoltre la probabilità di ottenere 6 con il dado rosso prima di ottenere 6 con il dado blu.\n",
        "\n",
        "Abbiamo\n",
        "\n",
        "\\begin{equation}\n",
        "  1 = P(X < Y) + P(X > Y) + P(X = Y)\n",
        "\\end{equation}\n",
        "\n",
        "\\\\\n",
        "e chiaramente per simmetria del problema _P_(_X_ < _Y_) = _P_(_X_ > _Y_) da cui\n",
        "\n",
        "\\\\\n",
        "\n",
        "\\begin{equation}\n",
        "  P(X < Y)= \\frac {1-P(X = Y)}{2}\n",
        "\\end{equation}\n",
        "\n",
        "Ci basterà calcolare quindi _P_(_X_ =_Y_):\n",
        "\n",
        "\\\\\n",
        "\n",
        "\\begin{equation}\n",
        "  P(X = Y) = \\sum_{k=1}^\\infty P(X = Y = k) = \\sum_{k=1}^\\infty (\\frac{25}{36})^{k-1}·\\frac{1}{36} = \\frac{1}{1-\\frac{25}{36}}·\\frac{1}{36} = \\frac{1}{11}\n",
        "\\end{equation}\n",
        "\n",
        "\n",
        "dove abbiamo ancora utilizzato la somma di una serie geometrica, e quindi\n",
        "\n",
        "\\\\\n",
        "\n",
        "\\begin{equation}\n",
        "  P(X < Y) = \\frac{5}{11}\n",
        "\\end{equation}\n"
      ],
      "metadata": {
        "id": "yQRcoTTQmPxD"
      }
    },
    {
      "cell_type": "code",
      "source": [
        "def first_six():\n",
        "  num = 6\n",
        "  results = []\n",
        "  for i in range(precisione):\n",
        "    a, b = 0, 0\n",
        "    while a != num and b != num:\n",
        "      a, b = trow(), trow() \n",
        "      if a == num:\n",
        "        if b == num:\n",
        "          results.append(0)\n",
        "        else:\n",
        "          results.append(1)\n",
        "      if b == num:\n",
        "        results.append(2)  \n",
        "  #grafico\n",
        "  labels = []\n",
        "  normalized = []\n",
        "  myexplode = [0, 0.2, 0]\n",
        "  for i in range(len(set(results)) - 1): #len(set(n)) torna il numero di risultati distinti presenti in results\n",
        "    normalized.append(round(((results.count(i) / precisione) * 100), 2)) #conto le istanze dei risultati e le normalizzo\n",
        "  normalized.append(round(100 - sum(normalized), 2)) #per evitare che per errori di arrotondamento la somma dei risultati sia 99.9%, l'ultimo risultato lo calcolo come 100 - (la somma dei precedenti)\n",
        "  for i in range(len(normalized)):\n",
        "    labels.append(str(normalized[i]) + \"%\") # aggiungo le labels (i valori riportati all'esterno del grafico)\n",
        "\n",
        "  teoria = [1/11, 5/11, 5/11]\n",
        "  lab_teoria = [\"9.09%\", \"45.45%\", \"45.45%\"]\n",
        "\n",
        "  f, (ax1, ax2) = plt.subplots(1, 2)\n",
        "  ax1.pie(normalized, labels=labels,explode=myexplode, colors=[\"green\", \"red\", \"blue\"], shadow=True)\n",
        "  ax1.set_title(\"Risultati ottenuti\")\n",
        "  ax2.pie(teoria, labels=lab_teoria,explode=myexplode, colors=[\"green\", \"red\", \"blue\"], shadow=True)\n",
        "  ax2.set_title(\"Risultati attesi\")\n",
        "  \n",
        "  legenda = [\"X=Y\", \"X<Y\", \"X>Y\"]\n",
        "  ax1.legend(legenda,loc='upper left', bbox_to_anchor=(0.5, -0.05), fancybox=True, shadow=True, ncol=5)\n",
        "\n",
        "first_six()"
      ],
      "metadata": {
        "colab": {
          "base_uri": "https://localhost:8080/",
          "height": 0
        },
        "id": "6P-rc7pzfODB",
        "outputId": "59c9885a-01eb-4f2b-d821-72f88b36af6a"
      },
      "execution_count": 23,
      "outputs": [
        {
          "output_type": "display_data",
          "data": {
            "image/png": "[encoded data removed]",
            "text/plain": [
              "<Figure size 432x288 with 2 Axes>"
            ]
          },
          "metadata": {}
        }
      ]
    },
    {
      "cell_type": "markdown",
      "source": [
        "#Densità di Poisson"
      ],
      "metadata": {
        "id": "hPfoVQ4tzLLR"
      }
    },
    {
      "cell_type": "markdown",
      "source": [
        "Se consideriamo una variabile binomiale _X_ ∼ _B_(_n_, _p_) in cui il numero _n_ di tentativi è molto grande e il parametro _p_ molto piccolo fare i conti con la densità binomiale risulta essere computazionalmente dispendioso. \n",
        "\n",
        "Facciamo un esempio:"
      ],
      "metadata": {
        "id": "7WQ9L3IXzNQo"
      }
    },
    {
      "cell_type": "markdown",
      "source": [
        "##Esempio 6.1\n",
        "\n",
        "Supponiamo che in una città nascano 10 000 bambini ogni anno e che ci\n",
        "sia una malattia rara che colpisce un bambino su 2 mila. Qual è la probabilità che quest’anno nascano più di 5 bambini affetti da questa malattia? \n",
        "\n",
        "La variabile _X_ = ”numero di bambini nati con questa malattia quest’anno” è una variabile binomiale _X_ = _B_($10^4$, $\\frac{1}{2000}$). Tuttavia se\n",
        "proviamo ad effettuare il calcolo _P_(_X_ > 5), anche se abbiamo una formula esatta per effettuarlo, è inevitabilmente molto complesso.\n"
      ],
      "metadata": {
        "id": "VD0JenT7zaOx"
      }
    },
    {
      "cell_type": "markdown",
      "source": [
        "Per risolvere questo tipo di problema introduciamo la seguente\n",
        "\n",
        "\\\\\n",
        "\\begin{equation}\n",
        "  p(k) =\n",
        "    \\begin{cases}\n",
        "          e^{-λ} \\frac{λ^k}{k!} \\ se \\ k=0,1,2,...\n",
        "          \\\\\n",
        "          0 \\ altrimenti\n",
        "        \\end{cases}\n",
        "\\end{equation}\n",
        "\n",
        "\\\\\n",
        "\n",
        "dove λ è un parametro reale strettamente positivo."
      ],
      "metadata": {
        "id": "-07DvPlK0SRP"
      }
    },
    {
      "cell_type": "markdown",
      "source": [
        "Nel nostro esempio possiamo pensare alla variabile _X_ come ad una variabile di Poisson di parametro 5. \n",
        "\n",
        "Otteniamo:\n",
        "\n",
        "\\begin{equation}\n",
        "  P(X > 5) = 1 − P(X = 0) − P(X = 1) − P(X = 2) − P(X = 3) − P(X = 4) \n",
        "  \\\\\n",
        "  = 1 − e^{−5}(1 + 5 + \\frac{25}{2} + \\frac{125}{6} + \\frac{625}{24} + \\frac{3125}{120}) = 0, 384.\n",
        "\\end{equation}"
      ],
      "metadata": {
        "id": "fHA5WLXr2VKr"
      }
    },
    {
      "cell_type": "markdown",
      "source": [
        "Nella simulazione riportata sono simulati 100 anni, ripetendo l'esperimento si aggiungono i risultati dei test successivi e si può osservare come il grafico dei risultati ottenuti si avvicini a quello dei risultati attesi."
      ],
      "metadata": {
        "id": "aQ3YUomoewtG"
      }
    },
    {
      "cell_type": "code",
      "source": [
        "res_poisson = []"
      ],
      "metadata": {
        "id": "niF9fNy-AGHk"
      },
      "execution_count": 24,
      "outputs": []
    },
    {
      "cell_type": "code",
      "source": [
        "def poisson():\n",
        "  bambini = 10_000\n",
        "  malattia = 2_000\n",
        "  for i in range(100):\n",
        "    count = 0\n",
        "    for i in range(bambini):\n",
        "      if np.random.randint(malattia) == 1:\n",
        "        count = count + 1\n",
        "    res_poisson.append(count)\n",
        "\n",
        "  #grafico risultati\n",
        "  labels = []\n",
        "  set_res = list(set(res_poisson))\n",
        "  normalized = []\n",
        "  for i in set_res: \n",
        "    normalized.append(round(((res_poisson.count(i) / len(res_poisson)) * 100), 2))\n",
        "    labels.append(str(i+1)) \n",
        " \n",
        "  #grafico teorico\n",
        "  teoria = []\n",
        "  lam = bambini / malattia\n",
        "  for i in set_res:\n",
        "    teoria.append((math.e**-lam)*((lam**i)/math.factorial(i)) * 100)\n",
        "\n",
        "  lab_arr = np.arange(len(labels))\n",
        "\n",
        "  w=0.4\n",
        "  plt.bar(lab_arr-(w/2), normalized, width=w)\n",
        "  plt.bar(lab_arr+(w/2), teoria, width=w)\n",
        "\n",
        "  legenda = [\"Risultati ottenuti\", \"Risultati attesi\"]\n",
        "  plt.legend(legenda,loc='upper center', bbox_to_anchor=(0.5, -0.05), fancybox=True, shadow=True, ncol=5)\n",
        "  print(\"Anni simulati: \" + str(len(res_poisson)))"
      ],
      "metadata": {
        "id": "L8XSvxDZMGZe"
      },
      "execution_count": 25,
      "outputs": []
    },
    {
      "cell_type": "code",
      "source": [
        "poisson()"
      ],
      "metadata": {
        "id": "H4CjxxyZ7Rxc",
        "colab": {
          "base_uri": "https://localhost:8080/",
          "height": 0
        },
        "outputId": "34074b79-9bd0-4a49-9dea-d70d3fb146b5"
      },
      "execution_count": 26,
      "outputs": [
        {
          "output_type": "stream",
          "name": "stdout",
          "text": [
            "Anni simulati: 100\n"
          ]
        },
        {
          "output_type": "display_data",
          "data": {
            "image/png": "[encoded data removed]",
            "text/plain": [
              "<Figure size 432x288 with 1 Axes>"
            ]
          },
          "metadata": {
            "needs_background": "light"
          }
        }
      ]
    },
    {
      "cell_type": "markdown",
      "source": [
        "#Densità continua uniforme"
      ],
      "metadata": {
        "id": "2HvnAmIq9-iV"
      }
    },
    {
      "cell_type": "markdown",
      "source": [
        "La variabile continua più semplice da studiare è quella che può assumere solo valori in un certo intervallo limitato e in modo ”uniforme”."
      ],
      "metadata": {
        "id": "q-CPgnYeAXnr"
      }
    },
    {
      "cell_type": "markdown",
      "source": [
        "## Esempio 7.1\n",
        "\n",
        "Un autobus passa da una fermata ogni 10 minuti. Noi arriviamo alla fermata in un momento casuale, chiamiamo T la variabile del tempo d'attesa che assume valori tra 0 e 10 minuti. Mediamente, quanto dovrò aspettare?\n",
        "\n",
        "Iniziamo prendendo l'autobus un po' di volte tenendo uno storico dei tempi di attesa:"
      ],
      "metadata": {
        "id": "AFabxKb1Ar4F"
      }
    },
    {
      "cell_type": "code",
      "source": [
        "uniforme = []\n",
        "tempo = 10\n",
        "for i in range(precisione):\n",
        "  uniforme.append(random.uniform(0, tempo))"
      ],
      "metadata": {
        "id": "A4ckSSdzDloY"
      },
      "execution_count": 108,
      "outputs": []
    },
    {
      "cell_type": "code",
      "source": [
        "#funzione che calcola il valore di x in ogni punto (densità continua uniforme)\n",
        "def densita(x, a, b):\n",
        "  res = []\n",
        "  for i in x:\n",
        "    if i < a:\n",
        "      res.append(0)\n",
        "    elif i > b:\n",
        "      res.append(0)\n",
        "    else:\n",
        "      res.append(1 / (b - a))\n",
        "  return res"
      ],
      "metadata": {
        "id": "G_5JWNvfHgIA"
      },
      "execution_count": 109,
      "outputs": []
    },
    {
      "cell_type": "markdown",
      "source": [
        "E mettiamo a grafico i risultati ottenuti"
      ],
      "metadata": {
        "id": "LfkzQQAmE_XV"
      }
    },
    {
      "cell_type": "code",
      "source": [
        "def dcu_plot():\n",
        "  points = (tempo + 2) * 10\n",
        "  \n",
        "  x = np.linspace(-1, tempo+1, points)\n",
        "\n",
        "  coord = []\n",
        "  for i in range(points):\n",
        "    count = 0\n",
        "    for item in uniforme:\n",
        "      if (item > -1 + (((tempo+2)/points)*i) and item <= -1 + (((tempo+2)/points)*(i+1))):\n",
        "        count = count + 1\n",
        "    coord.append((count / precisione) * (points / (tempo + 2)))\n",
        "  \n",
        "  p1 = plt.figure(1)\n",
        "  ax = plt.axes()\n",
        "  ax.plot(x, densita(x, 0, tempo))\n",
        "  ax.set_title(\"Risultati attesi\")\n",
        "  p1.show()\n",
        "  p2 = plt.figure(2)\n",
        "  ax = plt.axes()\n",
        "  ax.plot(x, coord)\n",
        "  ax.set_title(\"Risultati ottenuti\")\n",
        "  p2.show() \n",
        "  p3 = plt.figure(2)\n",
        "  sns.displot(uniforme, kind=\"ecdf\").set(title=\"Ripartizione\")\n",
        "  p3.show() \n",
        "dcu_plot()"
      ],
      "metadata": {
        "colab": {
          "base_uri": "https://localhost:8080/",
          "height": 909
        },
        "id": "E_CdpJ9ENKE3",
        "outputId": "82dc9c30-b099-434d-8fd0-60df3c69eca0"
      },
      "execution_count": 110,
      "outputs": [
        {
          "output_type": "display_data",
          "data": {
            "image/png": "[encoded data removed]",
            "text/plain": [
              "<Figure size 432x288 with 1 Axes>"
            ]
          },
          "metadata": {
            "needs_background": "light"
          }
        },
        {
          "output_type": "display_data",
          "data": {
            "image/png": "[encoded data removed]",
            "text/plain": [
              "<Figure size 432x288 with 1 Axes>"
            ]
          },
          "metadata": {
            "needs_background": "light"
          }
        },
        {
          "output_type": "display_data",
          "data": {
            "image/png": "[encoded data removed]",
            "text/plain": [
              "<Figure size 360x360 with 1 Axes>"
            ]
          },
          "metadata": {
            "needs_background": "light"
          }
        }
      ]
    },
    {
      "cell_type": "markdown",
      "source": [
        "Per quanto riguarda la soluzione il valore atteso invece ci basta sapere che il valore atteso di una variabile uniforme è il punto medio dell'intervallo: 5 minuti."
      ],
      "metadata": {
        "id": "CO8fDJK3MDBv"
      }
    },
    {
      "cell_type": "code",
      "source": [
        "@interact_manual(tempo=(1, 20))\n",
        "def es71(tempo = 10):\n",
        "  results = []\n",
        "  for i in range(precisione):\n",
        "    results.append(random.uniform(0, tempo))\n",
        "  return round(np.mean(results), 2)"
      ],
      "metadata": {
        "colab": {
          "base_uri": "https://localhost:8080/",
          "height": 81,
          "referenced_widgets": [
            "167335a17ec4459a95d655f39f58e0a1",
            "c9a17395f5794d2f9a729fa2ddba6eef",
            "a4fe0b78ed4d4962ae0c99cfcf74a8c5",
            "2dd7f5060c0c4ea1b5d1d6c229373cf8",
            "e4a1dceb562e40108513f116e53f4a5e",
            "28120a21717f4652b6d6a89995761389",
            "4b98873fd5ab43f49d636c4d328fa9db",
            "a86665e8141e4d2ba3e3f9b0faec6e35",
            "fb3eeb0e61ed423f949930f9703410d2",
            "341e2a43d7644b9a9f6401821aeb77d4"
          ]
        },
        "id": "jG0a0YfTMiZi",
        "outputId": "2105270c-f642-4970-d2b7-bca50cc9d24f"
      },
      "execution_count": 30,
      "outputs": [
        {
          "output_type": "display_data",
          "data": {
            "application/vnd.jupyter.widget-view+json": {
              "model_id": "167335a17ec4459a95d655f39f58e0a1",
              "version_minor": 0,
              "version_major": 2
            },
            "text/plain": [
              "interactive(children=(IntSlider(value=10, description='tempo', max=20, min=1), Button(description='Run Interac…"
            ]
          },
          "metadata": {}
        }
      ]
    },
    {
      "cell_type": "markdown",
      "source": [
        "##Esercizio 7.2"
      ],
      "metadata": {
        "id": "suJKbVomvlw2"
      }
    },
    {
      "cell_type": "markdown",
      "source": [
        "Continuiamo con l'esempio del bus ma questa volta ci interessa sapere la probabilità che arrivi in un certo intervallo di tempo"
      ],
      "metadata": {
        "id": "Fr271Olzv2DY"
      }
    },
    {
      "cell_type": "code",
      "source": [
        "@interact_manual(a=(0, 10), b=(0, 10))\n",
        "def es72(a = 4, b = 6):\n",
        "  if a > b:\n",
        "    return (\"Intervallo non valido\")\n",
        "\n",
        "  unif1 = [x for x in uniforme if x >= a and x <= b]\n",
        "  \n",
        "  points = (tempo + 2) * 10\n",
        "\n",
        "  x = np.linspace(-1, tempo+1, points)\n",
        "\n",
        "  coord = []\n",
        "  for i in range(points):\n",
        "    count = 0\n",
        "    for item in uniforme:\n",
        "      if (item > -1 + (((tempo+2)/points)*i) and item <= -1 + (((tempo+2)/points)*(i+1))):\n",
        "        count = count + 1\n",
        "    coord.append((count / precisione) * (points / (tempo + 2)))\n",
        "\n",
        "  coord2 = []\n",
        "  for i in range(points):\n",
        "    count = 0\n",
        "    for item in unif1:\n",
        "      if (item > -1 + (((tempo+2)/points)*i) and item <= -1 + (((tempo+2)/points)*(i+1))):\n",
        "        count = count + 1\n",
        "    coord2.append((count / precisione) * (points / (tempo + 2)))\n",
        "\n",
        "  plt.plot(x, coord)\n",
        "  plt.fill_betweenx(coord2, x, alpha=0.30)\n",
        "  \n",
        "  ris1 = round((b-a) / tempo, 3)\n",
        "  print(\"Risultati attesi: \" + str(ris1))\n",
        "  ris2 = round(len(unif1) / precisione, 3)\n",
        "  print(\"Risultati ottenuti: \" + str(ris2))"
      ],
      "metadata": {
        "id": "0Gfo7zOovTuG",
        "outputId": "a474093e-f0f0-4e3d-fd39-2fcafcc34726",
        "colab": {
          "base_uri": "https://localhost:8080/",
          "height": 396,
          "referenced_widgets": [
            "9b252ed6e19243f8ad8698eb1b462028",
            "1cd889f2811d425ea53dc4676f90e389",
            "09cdedb1f0ae407fac0ed282e9efe2bc",
            "ca26cf11556d4afab29a322f32f36d79",
            "ec6ca07204114a2cabe59a614bd4342f",
            "bfe1e4d0db994b339b20b9cc4482e142",
            "8555392251ce43b7be8c30f17c9c4dba",
            "6ef9efc959c84ce589852b11a712b8f5",
            "c89fe5bfd5be4d1e90df705bf11d6f72",
            "42a9c904ea16449b8a8b0a372bf098f4",
            "76da4e5a45f64ef9aa947405e72e2f7a",
            "1d7544f0bcea4846abbcffbc28ac0dbf",
            "cb511e278790422b9a3a7c85ec3fac84"
          ]
        }
      },
      "execution_count": 144,
      "outputs": [
        {
          "output_type": "display_data",
          "data": {
            "application/vnd.jupyter.widget-view+json": {
              "model_id": "9b252ed6e19243f8ad8698eb1b462028",
              "version_minor": 0,
              "version_major": 2
            },
            "text/plain": [
              "interactive(children=(IntSlider(value=4, description='a', max=10), IntSlider(value=6, description='b', max=10)…"
            ]
          },
          "metadata": {}
        }
      ]
    },
    {
      "cell_type": "markdown",
      "source": [
        "#Densità continua esponenziale"
      ],
      "metadata": {
        "id": "KzWvYabHHMQp"
      }
    },
    {
      "cell_type": "markdown",
      "source": [
        "Fissiamo un parametro _λ_ e ricordiamo che una primitiva della funzione $e^{−λt}$ è data da -$\\frac{1}{λ}e^{−λt}$ da cui abbiamo che:\n",
        "\n",
        "\\begin{equation}\n",
        "  \\int_{0}^{+ \\infty} e^{-λt} \\,dt = \\frac{1}{λ} \n",
        "\\end{equation}\n",
        "\n",
        "Proposizione:\n",
        "\n",
        "\\begin{equation}\n",
        "  f(s) =\n",
        "    \\begin{cases}\n",
        "          λ e^{-λs} \\ se \\ s \\geq 0\n",
        "          \\\\\n",
        "          0 \\ altrimenti\n",
        "        \\end{cases}\n",
        "\\end{equation}\n",
        "\n",
        "dove _λ_ è un parametro positivo con densità continua astratta.\n",
        "\n",
        "Una variabile _X_ che ammette tale densità si dice esponenziale di parametro _λ_ e scriveremo _X_ ∼ Exp(_λ_). Lo stesso calcolo mostra che la funzione di ripartizione di una variabile _X_ ∼ Exp(_λ_) è data da\n",
        "\n",
        "\\begin{equation}\n",
        "  Fx(t) =\n",
        "    \\begin{cases}\n",
        "          1-e^{-λt} \\ se \\ t \\ge 0\n",
        "          \\\\\n",
        "          0 \\ \\ \\ \\ \\ \\ \\ \\ \\ \\ \\ \\ \\ se \\ t \\le 0\n",
        "        \\end{cases}\n",
        "\\end{equation}"
      ],
      "metadata": {
        "id": "kDn_33f8UA9S"
      }
    },
    {
      "cell_type": "markdown",
      "source": [
        "##Esempio 8.1\n",
        "\n",
        "Il decadimento di una particella radioattiva segue una legge esponenziale di parametro λ = 1 (in giorni).\n",
        "\n",
        "Qual è la probabilità che dopo 3 ore sia già decaduta?"
      ],
      "metadata": {
        "id": "vdltBTAzbjNQ"
      }
    },
    {
      "cell_type": "markdown",
      "source": [
        "Usando un cambio di variabile simuliamo un set di valori di una variabile esponenziale con parametro _λ_ = 1 "
      ],
      "metadata": {
        "id": "KXHsGg67--dB"
      }
    },
    {
      "cell_type": "code",
      "source": [
        "exp = []\n",
        "for i in range(precisione):\n",
        "  exp.append(-math.log(random.uniform(0, 1)))"
      ],
      "metadata": {
        "id": "GrAEx7n-2V-2"
      },
      "execution_count": 32,
      "outputs": []
    },
    {
      "cell_type": "markdown",
      "source": [
        "E ne grafichiamo la densità e la partizione "
      ],
      "metadata": {
        "id": "xP2yQ4p9ACry"
      }
    },
    {
      "cell_type": "code",
      "source": [
        "def exp_plot():\n",
        "  points = 130\n",
        "  space = 6\n",
        "\n",
        "  x = np.linspace(-1, space - 1, points)\n",
        "\n",
        "  coord = []\n",
        "  for i in range(points):\n",
        "    count = 0\n",
        "    for item in exp:\n",
        "      if (item > -1 + (((space)/points)*i) and item <= -1 + (((space)/points)*(i+1))):\n",
        "        count = count + 1\n",
        "    coord.append((count / precisione) * (points / (space)))\n",
        "  \n",
        "  sns.displot(exp, kind=\"ecdf\")\n",
        "  plt.plot(x, coord)\n",
        "  plt.xlim(-1, 4)\n",
        "  plt.title(\"Densità e ripartizione della variabile in esame\")\n",
        "\n",
        "  legenda = [\"Funzione di ripartizione\", \"Densità\"]\n",
        "  plt.legend(legenda,loc='upper center', bbox_to_anchor=(0.5, -0.05), fancybox=True, shadow=True, ncol=5)\n",
        "\n",
        "exp_plot()"
      ],
      "metadata": {
        "colab": {
          "base_uri": "https://localhost:8080/",
          "height": 403
        },
        "id": "o6Bmu5FDMOPV",
        "outputId": "538f68d2-5d4b-4752-a52d-d1ed8769df1f"
      },
      "execution_count": 33,
      "outputs": [
        {
          "output_type": "display_data",
          "data": {
            "image/png": "[encoded data removed]",
            "text/plain": [
              "<Figure size 360x360 with 1 Axes>"
            ]
          },
          "metadata": {
            "needs_background": "light"
          }
        }
      ]
    },
    {
      "cell_type": "markdown",
      "source": [
        "Tornando alla domanda iniziale, contiamo quante volte abbiamo ottenuto un tempo minore di 3 ore e confrontiamolo coi risultati attesi dalla teoria."
      ],
      "metadata": {
        "id": "MrVxuxXhB-Dh"
      }
    },
    {
      "cell_type": "code",
      "source": [
        "@interact_manual(ore=(0, 72))\n",
        "def exp_particella(ore = 3):\n",
        "  count = 0\n",
        "  for item in exp:\n",
        "    if (item * 24) <= ore:\n",
        "      count = count + 1\n",
        "  print(\"Risultati ottenuti: \" + str(round(count / precisione, 3)))\n",
        "  res = 1 - (math.e**(-1 * (ore / 24)))\n",
        "  print(\"Risultati attesi: \" + str(round(res, 3)))"
      ],
      "metadata": {
        "colab": {
          "base_uri": "https://localhost:8080/",
          "height": 81,
          "referenced_widgets": [
            "9e84be6140914d488d15a54124003858",
            "584723eb16384620bb0a012c454b99f6",
            "905b60539f92425dab85c7f7a160beda",
            "dd051739de044e8c84c9d65f8c686552",
            "d374aef1105c4115b79251c706aed7b2",
            "d83d5fcd952e4a2998d2340c7879c07f",
            "d63fbf0f2a0b4aafaefc8de661de9e38",
            "7d448954167d4dd89d595fb4b7bd12b7",
            "bb209226b4234071970d76c807994cf6",
            "e3d3ef2e0a5c4ce7a3cf18a68a4d2f70"
          ]
        },
        "id": "-nLD7XugV7iy",
        "outputId": "22ccee0c-47c4-405e-f1fe-d6ff9e8f32c7"
      },
      "execution_count": 143,
      "outputs": [
        {
          "output_type": "display_data",
          "data": {
            "application/vnd.jupyter.widget-view+json": {
              "model_id": "9e84be6140914d488d15a54124003858",
              "version_minor": 0,
              "version_major": 2
            },
            "text/plain": [
              "interactive(children=(IntSlider(value=3, description='ore', max=72), Button(description='Run Interact', style=…"
            ]
          },
          "metadata": {}
        }
      ]
    },
    {
      "cell_type": "markdown",
      "source": [
        "Fin'ora abbiamo visto variabili esponenziali aventi _λ_ = 1, il caso base. Vediamo ora lo stesso esempio ma questa volta il tempo di decadimento della particella è segue una legge esponenziale di parametro _λ_ ≠ 1.\n",
        "\n",
        "Iniziamo vedendone il grafico della densità:"
      ],
      "metadata": {
        "id": "z8484TUNFyqT"
      }
    },
    {
      "cell_type": "code",
      "source": [
        "@interact_manual(λ=(2, 10))\n",
        "def exp_test(λ=2):\n",
        "  lamb = λ\n",
        "\n",
        "  test = []\n",
        "  for i in range(precisione):\n",
        "    test.append((-1/(lamb))*math.log(random.uniform(0, 1)))\n",
        "\n",
        "  b = max(test)/3\n",
        "  a = -b/10\n",
        "  points = 100\n",
        "  x = np.linspace(a, b, points)\n",
        "\n",
        "  coord = []\n",
        "  for i in range(points):\n",
        "    count = 0\n",
        "    for item in test:\n",
        "      if (item > a + (((abs(a) + b)/points)*i)) and (item <= a + (((abs(a) + b)/points)*(i+1))):\n",
        "        count = count + 1\n",
        "    coord.append((count / precisione) * (points / (abs(a) + b)))\n",
        "\n",
        "  plt.plot(x, coord)"
      ],
      "metadata": {
        "colab": {
          "base_uri": "https://localhost:8080/",
          "height": 81,
          "referenced_widgets": [
            "f3095408622042a6a876f63720efa038",
            "391ef8e1525347268bc84b42db68758b",
            "3ff8e77084314fe4b3a93b115ac875be",
            "02d1fa9ea86447d3b1cb346f546d6bdb",
            "8315df813bc24bff801ae54a8dab8d4c",
            "c4479a5a0db247908ce7f98c8ba4c2f3",
            "43d5719e22cc4cc1893e65305d56209a",
            "561ba20b59a043ada4df707290c9d382",
            "eb5bb109a02b45789152ae470c8c6c8d",
            "b705ba5fc0cc48cabc6829e6042c41e9"
          ]
        },
        "id": "irnlB3MXGPPl",
        "outputId": "ee5530b6-3f7f-49a4-93a5-1c3c9a232a1b"
      },
      "execution_count": 35,
      "outputs": [
        {
          "output_type": "display_data",
          "data": {
            "application/vnd.jupyter.widget-view+json": {
              "model_id": "f3095408622042a6a876f63720efa038",
              "version_minor": 0,
              "version_major": 2
            },
            "text/plain": [
              "interactive(children=(IntSlider(value=2, description='λ', max=10, min=2), Button(description='Run Interact', s…"
            ]
          },
          "metadata": {}
        }
      ]
    },
    {
      "cell_type": "markdown",
      "source": [
        "E confrontiamo i risultati che abbiamo ottenuto con quelli attesi dalla teoria:"
      ],
      "metadata": {
        "id": "ySU20jIY7tkY"
      }
    },
    {
      "cell_type": "code",
      "source": [
        "@interact_manual(ore=(0, 72), λ=(2, 10))\n",
        "def exp_particella(ore = 10, λ = 2):\n",
        "  test = []\n",
        "  for i in range(precisione):\n",
        "    test.append((-1/λ)*math.log(random.uniform(0, 1)))\n",
        "  count = 0\n",
        "  for item in test:\n",
        "    if (item * 24) <= ore:\n",
        "      count = count + 1\n",
        "  print(\"Risultati ottenuti: \" + str(round(count / precisione, 3)))\n",
        "  res = 1 - (math.e**(-(λ * (ore / 24))))\n",
        "  print(\"Risultati attesi: \" + str(round(res, 3)))"
      ],
      "metadata": {
        "colab": {
          "base_uri": "https://localhost:8080/",
          "height": 113,
          "referenced_widgets": [
            "16b0c381564f487d987502abb8233338",
            "9bc738acc2fb499cb132a2cb8ac7f55e",
            "b0232184d00d4dfea8937aa89bb94af8",
            "19c32bcff8654ab5871e0f8fb40c28c1",
            "7f4ac908556d4968a2bfe13e668b2de1",
            "ce237cbf194f4983a6a202db4ba8765a",
            "73f1c1e079664cf19cdfed67d4b282f2",
            "56da43f0cb904244b5eb2f1b9948411d",
            "128d7486d21445ab9c65d3ac98abdca5",
            "52316147c32345479d4acfcb599b6a8f",
            "d32f41f9a1794734b339cc651551b82c",
            "9ff4748e2ed14bd4b39a243f648bdd16",
            "9f7d21572abe4553bdfefeda6c02b46d"
          ]
        },
        "id": "lew-nKK9KlQ0",
        "outputId": "25986760-31ae-417b-856c-b37b03073252"
      },
      "execution_count": 36,
      "outputs": [
        {
          "output_type": "display_data",
          "data": {
            "application/vnd.jupyter.widget-view+json": {
              "model_id": "16b0c381564f487d987502abb8233338",
              "version_minor": 0,
              "version_major": 2
            },
            "text/plain": [
              "interactive(children=(IntSlider(value=10, description='ore', max=72), IntSlider(value=2, description='λ', max=…"
            ]
          },
          "metadata": {}
        }
      ]
    },
    {
      "cell_type": "markdown",
      "source": [
        "## Esercizio 8.2"
      ],
      "metadata": {
        "id": "QdEbzDc5JVI8"
      }
    },
    {
      "cell_type": "markdown",
      "source": [
        "Continuiamo con l'esempio della particella ma questa volta ci interessa sapere la probabilità decada in un certo intervallo di tempo"
      ],
      "metadata": {
        "id": "sxmUgXSeJcYJ"
      }
    },
    {
      "cell_type": "code",
      "source": [
        "@interact_manual(t1=(0, 96), t2=(0, 96))\n",
        "def es82(t1=3, t2=10):\n",
        "  if t1 > t2:\n",
        "    return (\"Intervallo non valido\")\n",
        "  \n",
        "  points = 325\n",
        "  tempo = 4.5\n",
        "  a = -0.5\n",
        "\n",
        "  x = np.linspace(a, tempo + a, points)\n",
        "  \n",
        "  exp1 = []\n",
        "  for i in range(precisione):\n",
        "    exp1.append(-math.log(random.uniform(0, 1)))\n",
        "\n",
        "  exp2 = [x for x in exp1 if x >= t1/24 and x <= t2/24]\n",
        "\n",
        "  coord = [0]\n",
        "  for i in range(points-1):\n",
        "    count = 0\n",
        "    for item in exp1:\n",
        "      if (item > a + (((tempo)/(points-1))*i) and item <= a + (((tempo)/(points-1))*(i+1))):\n",
        "        count = count + 1\n",
        "    coord.append((count / precisione) * ((points-1) / (tempo)))\n",
        "  \n",
        "  y = np.minimum(test(x, t1/24, t2/24), coord)\n",
        "  \n",
        "  ris1 = round((1 - (math.e**(-(t2 / 24)))) - (1 - (math.e**(-(t1 / 24)))), 3)\n",
        "  print(\"Risultati attesi: \" + str(ris1))\n",
        "  ris2 = round(len(exp2) / precisione, 3)\n",
        "  print(\"Risultati ottenuti: \" + str(ris2))\n",
        "\n",
        "  plt.plot(x, coord)\n",
        "  plt.fill_between(x, y, alpha=0.30)"
      ],
      "metadata": {
        "id": "9jzvi4tr12nU",
        "outputId": "8d512f4c-b9c7-4f39-db19-3bd11ff77209",
        "colab": {
          "base_uri": "https://localhost:8080/",
          "height": 396,
          "referenced_widgets": [
            "8ce833661d6e4b53abe6d2b01605e4a3",
            "b616a5fd68ff43da955b66390b071ee3",
            "32087c47ac444a14b486bb79aa5935e6",
            "3eef4c4ea72749e5be11cc6b2b85099c",
            "b752a9aab11d4203972e2cc1092453a5",
            "eb48b3d8b15e4b418fd95e34fdff49ee",
            "1a2027ce0d7449b0a2b993f902be351a",
            "ac3a53038afc49cc8d69ea9b0150dd36",
            "dde3e4a5ab704b5b8d0255eb60582fa3",
            "382b3ef2583e44cda56e772537204f9c",
            "2790a6b22a40441b893eb0ecb0f0a77e",
            "38526623ce7e43a5ada16cb2c2b43264",
            "18c385980f704c79a552e63d258aa1f6"
          ]
        }
      },
      "execution_count": 152,
      "outputs": [
        {
          "output_type": "display_data",
          "data": {
            "application/vnd.jupyter.widget-view+json": {
              "model_id": "8ce833661d6e4b53abe6d2b01605e4a3",
              "version_minor": 0,
              "version_major": 2
            },
            "text/plain": [
              "interactive(children=(IntSlider(value=3, description='t1', max=96), IntSlider(value=10, description='t2', max=…"
            ]
          },
          "metadata": {}
        }
      ]
    },
    {
      "cell_type": "markdown",
      "source": [
        "#Densità continua normale"
      ],
      "metadata": {
        "id": "YEVrCLb-MTAW"
      }
    },
    {
      "cell_type": "markdown",
      "source": [
        "Passiamo ora a considerare quelle che sono probabilmente le variabili aleatorie continue più rilevanti.\n",
        "Si può dimostrare (e Gauss lo ha fatto per primo) che\n",
        "\n",
        "\\begin{equation}\n",
        "  \\int_{- \\infty}^{+ \\infty} e^{-{\\frac{x^2}{2}}} \\,dx = \\sqrt{2 \\pi} \n",
        "\\end{equation}\n",
        "\n",
        "Ne segue che la funzione\n",
        "\n",
        "\\begin{equation}\n",
        "  f(s)= \\frac{1}{\\sqrt{2 \\pi}}e^{-{\\frac{x^2}{2}}}\n",
        "\\end{equation}\n",
        "\n",
        "è una densità. Questa densità viene detta normale standard o gaussiana standard e se una variabile _X_ che ammette questa densità scriveremo\n",
        "\n",
        "\\begin{equation} \n",
        "  X ∼ N(0, 1)\n",
        "\\end{equation}"
      ],
      "metadata": {
        "id": "VLVgu8loMhhb"
      }
    },
    {
      "cell_type": "markdown",
      "source": [
        "Il primo parametro è la media, ovvero il valore medio della distribuzione. Il secondo è la deviazione standard.\n",
        "\n",
        "Di seguito vediamo i grafici della funzione di ripartizione e della densità di una normale al variare di media e deviazione standard:"
      ],
      "metadata": {
        "id": "G54eY3HAS3AM"
      }
    },
    {
      "cell_type": "code",
      "source": [
        "@interact(mean=(-5, 5), std_dev=(1, 5))\n",
        "def std_norm(mean = 0, std_dev = 1):\n",
        "  a = -10\n",
        "  x = np.linspace(a, abs(a), 100)\n",
        "  dnd = []\n",
        "  for i in x:\n",
        "    dnd.append(scipy.stats.norm(mean, std_dev).pdf(i))\n",
        "  plt.plot(x, dnd)\n",
        "  legenda = [\"Densità\"]\n",
        "  plt.legend(legenda,loc='upper center', bbox_to_anchor=(0.5, -0.05), fancybox=True, shadow=True, ncol=5)"
      ],
      "metadata": {
        "id": "9eK-dNsZTJ3L",
        "outputId": "645e3435-24ab-4912-d180-94c40f563cca",
        "colab": {
          "base_uri": "https://localhost:8080/",
          "height": 346,
          "referenced_widgets": [
            "6082e7c36c5b432f90a0974dd3bfd35c",
            "fea1899080464268972c42b3167ec2ac",
            "af117fa17a674a778aeb84d45789062e",
            "79e31f8b56254b9bb681dbcf5851545c",
            "3940dd111592490585b4e306091b2949",
            "3dceda09e136418d9cbd2a2ebd831480",
            "54aa74d433404af8b78b39236fe3480d",
            "803dc2c41c3f4e88b9d1e588ed14ed7d",
            "ab4b2652f1d24787bdad697992427020",
            "157c486ecfae4e1caf95c6c310852087"
          ]
        }
      },
      "execution_count": 17,
      "outputs": [
        {
          "output_type": "display_data",
          "data": {
            "application/vnd.jupyter.widget-view+json": {
              "model_id": "6082e7c36c5b432f90a0974dd3bfd35c",
              "version_minor": 0,
              "version_major": 2
            },
            "text/plain": [
              "interactive(children=(IntSlider(value=0, description='mean', max=5, min=-5), IntSlider(value=1, description='s…"
            ]
          },
          "metadata": {}
        }
      ]
    },
    {
      "cell_type": "code",
      "source": [
        "@interact(mean=(-5, 5), std_dev=(1, 5))\n",
        "def std_norm(mean = 0, std_dev = 1):\n",
        "  a = -10\n",
        "  x = np.linspace(a, abs(a), 100)\n",
        "  pnd = []\n",
        "  for i in x:\n",
        "    pnd.append(scipy.stats.norm(mean, std_dev).cdf(i))\n",
        "  plt.plot(x, pnd)\n",
        "  legenda = [\"Funzione di ripartizione\"]\n",
        "  plt.legend(legenda,loc='upper center', bbox_to_anchor=(0.5, -0.05), fancybox=True, shadow=True, ncol=5)"
      ],
      "metadata": {
        "id": "vZtFsBexR7UQ",
        "outputId": "f8fced46-e85b-4fd3-d41b-be49a44cc9d6",
        "colab": {
          "base_uri": "https://localhost:8080/",
          "height": 346,
          "referenced_widgets": [
            "72ed7b4aa30043f5b93e658aa101dffb",
            "b812b4edf160406485442d7b0df9b721",
            "7680cd7e1a224f619c5dac80a51de6a2",
            "d51a9b0b5eb84398b9957b83d5aca42b",
            "2822aa54d17849ca8630a602c6690eb5",
            "d88cf7d42d8145c5ae8de7f703d9dbb3",
            "e53644090de944ea9bb95397767c7afb",
            "5779cb90cf734ea2b599bcf0b6f4d0a7",
            "cfc91dc06de24a2eb1af6b53fd15639d",
            "d9f3816318bd4ae896d2c00371dad99a"
          ]
        }
      },
      "execution_count": 19,
      "outputs": [
        {
          "output_type": "display_data",
          "data": {
            "application/vnd.jupyter.widget-view+json": {
              "model_id": "72ed7b4aa30043f5b93e658aa101dffb",
              "version_minor": 0,
              "version_major": 2
            },
            "text/plain": [
              "interactive(children=(IntSlider(value=0, description='mean', max=5, min=-5), IntSlider(value=1, description='s…"
            ]
          },
          "metadata": {}
        }
      ]
    },
    {
      "cell_type": "markdown",
      "source": [
        "## Esempio 9.1"
      ],
      "metadata": {
        "id": "twGutUTVPnRX"
      }
    },
    {
      "cell_type": "markdown",
      "source": [
        "Uno studio 100 000 diciottenni (reclutati dalle scuole e dal Maternal and Child Health Centres ad Hong Kong) ha mostrato che l'altezza di un'adulto ha una densità normale _N_ (172, 5).\n",
        "\n",
        " Una divisa per reclute è disponibile in 4 taglie:\n",
        " \n",
        "Taglia   | Altezza \n",
        "---------|------------------\n",
        "S        | h < 164\n",
        "M        | 164 < h < 172\n",
        "L        | 172 < h < 180\n",
        "XL       | h > 180\n",
        "\n",
        "Dovendo vestire 500 nuove reclute quante divise di ogni taglia comprereste?"
      ],
      "metadata": {
        "id": "edGsbSkpyUup"
      }
    },
    {
      "cell_type": "markdown",
      "source": [
        "Per validare i risultati che calcolati con le formule, li confronteremo con le altezze di 20 000 adulti che hanno partecipato all'esperimento ma le cui altezze non sono state usate per per definire la distribuzione, ma lasciate per validarla."
      ],
      "metadata": {
        "id": "V-0c_kiN1WlJ"
      }
    },
    {
      "cell_type": "code",
      "source": [
        "data_url = \"https://raw.githubusercontent.com/MontiMic/Tesi/riordinato/train.csv\" #importo il dataset\n",
        "data = pd.read_csv(data_url, sep=',', dtype={})\n",
        "lab = [\"id\", \"height\", \"weight\"]\n",
        "data.columns = [i for i in lab]\n",
        "data = data.drop(['id', 'weight'], axis=1) #scarto i dati riguardanti l'id ed il peso dei soggetti, non ci servono\n",
        "height = []\n",
        "for i in data[\"height\"]: #converto le altezze da pollici in centimetri\n",
        "  height.append(i*2.54)"
      ],
      "metadata": {
        "id": "wEK2CHWylV7L"
      },
      "execution_count": 38,
      "outputs": []
    },
    {
      "cell_type": "code",
      "source": [
        "x = np.linspace(151, 190, 40)\n",
        "coord = []\n",
        "for i in range(40):\n",
        "  count = 0\n",
        "  for item in height:\n",
        "    if (item > (151 + i) and item <= (151 + i + 1)):\n",
        "      count = count + 1\n",
        "  coord.append(count / len(height))\n",
        "dnd = []\n",
        "for i in x:\n",
        "  dnd.append(scipy.stats.norm(172, 5).pdf(i))\n",
        "plt.plot(x, dnd)\n",
        "plt.plot(x, coord)\n",
        "legenda = [\"Distribuzione teorica\", \"Distribuzione del campione\"]\n",
        "plt.legend(legenda,loc='upper center', bbox_to_anchor=(0.5, -0.05), fancybox=True, shadow=True, ncol=5)\n"
      ],
      "metadata": {
        "id": "1j7e4b-jbImS",
        "outputId": "870222c3-6e29-458d-fb7b-095667b6481e",
        "colab": {
          "base_uri": "https://localhost:8080/",
          "height": 299
        }
      },
      "execution_count": 95,
      "outputs": [
        {
          "output_type": "execute_result",
          "data": {
            "text/plain": [
              "<matplotlib.legend.Legend at 0x7f787504f490>"
            ]
          },
          "metadata": {},
          "execution_count": 95
        },
        {
          "output_type": "display_data",
          "data": {
            "image/png": "[encoded data removed]",
            "text/plain": [
              "<Figure size 432x288 with 1 Axes>"
            ]
          },
          "metadata": {
            "needs_background": "light"
          }
        }
      ]
    },
    {
      "cell_type": "code",
      "source": [
        "def test(x, a, b):\n",
        "  res = []\n",
        "  for i in x:\n",
        "    if i < a:\n",
        "      res.append(0)\n",
        "    elif i > b:\n",
        "      res.append(0)\n",
        "    else:\n",
        "      res.append(1)\n",
        "  return res"
      ],
      "metadata": {
        "id": "Iiln3yhVXChT"
      },
      "execution_count": 145,
      "outputs": []
    },
    {
      "cell_type": "code",
      "source": [
        "@interact_manual(taglia=[\"S\", \"M\", \"L\", \"XL\"])\n",
        "def es82(taglia = \"L\"):\n",
        "  a, b = 0, 0\n",
        "  #purtroppo questa versione di python non supporta gli switch case (nè il match case)\n",
        "  if taglia == \"S\":\n",
        "    a, b = 150, 164\n",
        "  elif taglia == \"M\":\n",
        "    a, b = 164, 172\n",
        "  elif taglia == \"L\":\n",
        "    a, b = 172, 180 \n",
        "  elif taglia == \"XL\":\n",
        "    a, b = 180, 191\n",
        "  \n",
        "  cm = 500\n",
        "  x = np.linspace(151, 200, cm)\n",
        "  \n",
        "  nd1 = []\n",
        "  for i in range(cm):\n",
        "    count = 0\n",
        "    for item in height:\n",
        "      if (item > (151 + i/10) and item <= (151 + i/10 + 1)):\n",
        "        count = count + 1\n",
        "    nd1.append(count / len(height))\n",
        "\n",
        "  nd2 = [x for x in height if x > a and x <= b]\n",
        "  \n",
        "  ris1 = round(scipy.stats.norm(172, 5).cdf(b) - scipy.stats.norm(172, 5).cdf(a), 3)\n",
        "  print(\"Risultati attesi: \" + str(ris1))\n",
        "  ris2 = round(len(nd2) / len(height), 3)\n",
        "  print(\"Risultati ottenuti: \" + str(ris2))\n",
        "\n",
        "  y = np.minimum(test(x, a, b), nd1)\n",
        "\n",
        "  plt.plot(x, nd1)\n",
        "  plt.fill_between(x, y, alpha=0.30)\n",
        "  plt.xlim(150, 200)"
      ],
      "metadata": {
        "id": "j13iOPty-8h8",
        "outputId": "344d7845-39df-4a1f-a451-b5e24d4e117a",
        "colab": {
          "base_uri": "https://localhost:8080/",
          "height": 364,
          "referenced_widgets": [
            "b7239cf89df040ddbc323155c894e4ea",
            "0cae2947206e40ca8aeadcf18bdc7617",
            "4acaf1e6cf534944b4899f1438f1c75b",
            "6a4155b4c86f4b8e8addf1e8d614061f",
            "ba466eec586d4d42a25c5120ab05d7da",
            "b055072c3d3b492a980eecc40de1da57",
            "599dc3182a0241938d41ad5e4db40943",
            "1cbc3eb915a8479dbd2956ee897ac528",
            "af5b816bc28145588564e2adb5d498e1",
            "9f1666401bbf492b992fef32118ed131"
          ]
        }
      },
      "execution_count": 146,
      "outputs": [
        {
          "output_type": "display_data",
          "data": {
            "application/vnd.jupyter.widget-view+json": {
              "model_id": "b7239cf89df040ddbc323155c894e4ea",
              "version_minor": 0,
              "version_major": 2
            },
            "text/plain": [
              "interactive(children=(Dropdown(description='taglia', index=2, options=('S', 'M', 'L', 'XL'), value='L'), Butto…"
            ]
          },
          "metadata": {}
        }
      ]
    },
    {
      "cell_type": "code",
      "source": [
        ""
      ],
      "metadata": {
        "id": "EpWJQo1sYtBM"
      },
      "execution_count": null,
      "outputs": []
    }
  ]
}