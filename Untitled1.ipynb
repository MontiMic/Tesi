{
  "nbformat": 4,
  "nbformat_minor": 0,
  "metadata": {
    "colab": {
      "name": "Untitled1.ipynb",
      "provenance": [],
      "toc_visible": true,
      "collapsed_sections": [],
      "authorship_tag": "ABX9TyP2vaAk992foFDZGJ2futJO",
      "include_colab_link": true
    },
    "kernelspec": {
      "name": "python3",
      "display_name": "Python 3"
    },
    "language_info": {
      "name": "python"
    },
    "widgets": {
      "application/vnd.jupyter.widget-state+json": {
        "aead205d04f5467696c8a07ee121a4a3": {
          "model_module": "@jupyter-widgets/controls",
          "model_name": "VBoxModel",
          "model_module_version": "1.5.0",
          "state": {
            "_view_name": "VBoxView",
            "_dom_classes": [
              "widget-interact"
            ],
            "_model_name": "VBoxModel",
            "_view_module": "@jupyter-widgets/controls",
            "_model_module_version": "1.5.0",
            "_view_count": null,
            "_view_module_version": "1.5.0",
            "box_style": "",
            "layout": "IPY_MODEL_bbc4fb87ed92450d9d9d86a3ab600781",
            "_model_module": "@jupyter-widgets/controls",
            "children": [
              "IPY_MODEL_384b5aee95cf4118bc2b7a4d0b04eeb3",
              "IPY_MODEL_a082883926f74c29a57fd777c9820a6a",
              "IPY_MODEL_bddb99dc5e8b48f7b72548c40d8f4e0b"
            ]
          }
        },
        "bbc4fb87ed92450d9d9d86a3ab600781": {
          "model_module": "@jupyter-widgets/base",
          "model_name": "LayoutModel",
          "model_module_version": "1.2.0",
          "state": {
            "_view_name": "LayoutView",
            "grid_template_rows": null,
            "right": null,
            "justify_content": null,
            "_view_module": "@jupyter-widgets/base",
            "overflow": null,
            "_model_module_version": "1.2.0",
            "_view_count": null,
            "flex_flow": null,
            "width": null,
            "min_width": null,
            "border": null,
            "align_items": null,
            "bottom": null,
            "_model_module": "@jupyter-widgets/base",
            "top": null,
            "grid_column": null,
            "overflow_y": null,
            "overflow_x": null,
            "grid_auto_flow": null,
            "grid_area": null,
            "grid_template_columns": null,
            "flex": null,
            "_model_name": "LayoutModel",
            "justify_items": null,
            "grid_row": null,
            "max_height": null,
            "align_content": null,
            "visibility": null,
            "align_self": null,
            "height": null,
            "min_height": null,
            "padding": null,
            "grid_auto_rows": null,
            "grid_gap": null,
            "max_width": null,
            "order": null,
            "_view_module_version": "1.2.0",
            "grid_template_areas": null,
            "object_position": null,
            "object_fit": null,
            "grid_auto_columns": null,
            "margin": null,
            "display": null,
            "left": null
          }
        },
        "384b5aee95cf4118bc2b7a4d0b04eeb3": {
          "model_module": "@jupyter-widgets/controls",
          "model_name": "IntSliderModel",
          "model_module_version": "1.5.0",
          "state": {
            "_view_name": "IntSliderView",
            "style": "IPY_MODEL_250804f5152f4be69a37697fb8a92bc7",
            "_dom_classes": [],
            "description": "vincita",
            "step": 1,
            "_model_name": "IntSliderModel",
            "orientation": "horizontal",
            "max": 30,
            "_view_module": "@jupyter-widgets/controls",
            "_model_module_version": "1.5.0",
            "value": 5,
            "_view_count": null,
            "disabled": false,
            "_view_module_version": "1.5.0",
            "min": 0,
            "continuous_update": true,
            "readout_format": "d",
            "description_tooltip": null,
            "readout": true,
            "_model_module": "@jupyter-widgets/controls",
            "layout": "IPY_MODEL_0a7a3419d4494f38ab432fd29f5e2a9b"
          }
        },
        "a082883926f74c29a57fd777c9820a6a": {
          "model_module": "@jupyter-widgets/controls",
          "model_name": "ButtonModel",
          "model_module_version": "1.5.0",
          "state": {
            "_view_name": "ButtonView",
            "style": "IPY_MODEL_c4addf6bf84648d8bce042a8b255f5bd",
            "_dom_classes": [],
            "description": "Run Interact",
            "_model_name": "ButtonModel",
            "button_style": "",
            "_view_module": "@jupyter-widgets/controls",
            "_model_module_version": "1.5.0",
            "tooltip": "",
            "_view_count": null,
            "disabled": false,
            "_view_module_version": "1.5.0",
            "layout": "IPY_MODEL_01fec9e81296438a91c68e43a1ca53b5",
            "_model_module": "@jupyter-widgets/controls",
            "icon": ""
          }
        },
        "bddb99dc5e8b48f7b72548c40d8f4e0b": {
          "model_module": "@jupyter-widgets/output",
          "model_name": "OutputModel",
          "model_module_version": "1.0.0",
          "state": {
            "_view_name": "OutputView",
            "msg_id": "",
            "_dom_classes": [],
            "_model_name": "OutputModel",
            "outputs": [],
            "_view_module": "@jupyter-widgets/output",
            "_model_module_version": "1.0.0",
            "_view_count": null,
            "_view_module_version": "1.0.0",
            "layout": "IPY_MODEL_adf9d537a0434e38af6bea28c94864a7",
            "_model_module": "@jupyter-widgets/output"
          }
        },
        "250804f5152f4be69a37697fb8a92bc7": {
          "model_module": "@jupyter-widgets/controls",
          "model_name": "SliderStyleModel",
          "model_module_version": "1.5.0",
          "state": {
            "_view_name": "StyleView",
            "handle_color": null,
            "_model_name": "SliderStyleModel",
            "description_width": "",
            "_view_module": "@jupyter-widgets/base",
            "_model_module_version": "1.5.0",
            "_view_count": null,
            "_view_module_version": "1.2.0",
            "_model_module": "@jupyter-widgets/controls"
          }
        },
        "0a7a3419d4494f38ab432fd29f5e2a9b": {
          "model_module": "@jupyter-widgets/base",
          "model_name": "LayoutModel",
          "model_module_version": "1.2.0",
          "state": {
            "_view_name": "LayoutView",
            "grid_template_rows": null,
            "right": null,
            "justify_content": null,
            "_view_module": "@jupyter-widgets/base",
            "overflow": null,
            "_model_module_version": "1.2.0",
            "_view_count": null,
            "flex_flow": null,
            "width": null,
            "min_width": null,
            "border": null,
            "align_items": null,
            "bottom": null,
            "_model_module": "@jupyter-widgets/base",
            "top": null,
            "grid_column": null,
            "overflow_y": null,
            "overflow_x": null,
            "grid_auto_flow": null,
            "grid_area": null,
            "grid_template_columns": null,
            "flex": null,
            "_model_name": "LayoutModel",
            "justify_items": null,
            "grid_row": null,
            "max_height": null,
            "align_content": null,
            "visibility": null,
            "align_self": null,
            "height": null,
            "min_height": null,
            "padding": null,
            "grid_auto_rows": null,
            "grid_gap": null,
            "max_width": null,
            "order": null,
            "_view_module_version": "1.2.0",
            "grid_template_areas": null,
            "object_position": null,
            "object_fit": null,
            "grid_auto_columns": null,
            "margin": null,
            "display": null,
            "left": null
          }
        },
        "c4addf6bf84648d8bce042a8b255f5bd": {
          "model_module": "@jupyter-widgets/controls",
          "model_name": "ButtonStyleModel",
          "model_module_version": "1.5.0",
          "state": {
            "_view_name": "StyleView",
            "_model_name": "ButtonStyleModel",
            "_view_module": "@jupyter-widgets/base",
            "_model_module_version": "1.5.0",
            "_view_count": null,
            "button_color": null,
            "font_weight": "",
            "_view_module_version": "1.2.0",
            "_model_module": "@jupyter-widgets/controls"
          }
        },
        "01fec9e81296438a91c68e43a1ca53b5": {
          "model_module": "@jupyter-widgets/base",
          "model_name": "LayoutModel",
          "model_module_version": "1.2.0",
          "state": {
            "_view_name": "LayoutView",
            "grid_template_rows": null,
            "right": null,
            "justify_content": null,
            "_view_module": "@jupyter-widgets/base",
            "overflow": null,
            "_model_module_version": "1.2.0",
            "_view_count": null,
            "flex_flow": null,
            "width": null,
            "min_width": null,
            "border": null,
            "align_items": null,
            "bottom": null,
            "_model_module": "@jupyter-widgets/base",
            "top": null,
            "grid_column": null,
            "overflow_y": null,
            "overflow_x": null,
            "grid_auto_flow": null,
            "grid_area": null,
            "grid_template_columns": null,
            "flex": null,
            "_model_name": "LayoutModel",
            "justify_items": null,
            "grid_row": null,
            "max_height": null,
            "align_content": null,
            "visibility": null,
            "align_self": null,
            "height": null,
            "min_height": null,
            "padding": null,
            "grid_auto_rows": null,
            "grid_gap": null,
            "max_width": null,
            "order": null,
            "_view_module_version": "1.2.0",
            "grid_template_areas": null,
            "object_position": null,
            "object_fit": null,
            "grid_auto_columns": null,
            "margin": null,
            "display": null,
            "left": null
          }
        },
        "adf9d537a0434e38af6bea28c94864a7": {
          "model_module": "@jupyter-widgets/base",
          "model_name": "LayoutModel",
          "model_module_version": "1.2.0",
          "state": {
            "_view_name": "LayoutView",
            "grid_template_rows": null,
            "right": null,
            "justify_content": null,
            "_view_module": "@jupyter-widgets/base",
            "overflow": null,
            "_model_module_version": "1.2.0",
            "_view_count": null,
            "flex_flow": null,
            "width": null,
            "min_width": null,
            "border": null,
            "align_items": null,
            "bottom": null,
            "_model_module": "@jupyter-widgets/base",
            "top": null,
            "grid_column": null,
            "overflow_y": null,
            "overflow_x": null,
            "grid_auto_flow": null,
            "grid_area": null,
            "grid_template_columns": null,
            "flex": null,
            "_model_name": "LayoutModel",
            "justify_items": null,
            "grid_row": null,
            "max_height": null,
            "align_content": null,
            "visibility": null,
            "align_self": null,
            "height": null,
            "min_height": null,
            "padding": null,
            "grid_auto_rows": null,
            "grid_gap": null,
            "max_width": null,
            "order": null,
            "_view_module_version": "1.2.0",
            "grid_template_areas": null,
            "object_position": null,
            "object_fit": null,
            "grid_auto_columns": null,
            "margin": null,
            "display": null,
            "left": null
          }
        },
        "b285214d924446028278864b984521bb": {
          "model_module": "@jupyter-widgets/controls",
          "model_name": "VBoxModel",
          "model_module_version": "1.5.0",
          "state": {
            "_view_name": "VBoxView",
            "_dom_classes": [
              "widget-interact"
            ],
            "_model_name": "VBoxModel",
            "_view_module": "@jupyter-widgets/controls",
            "_model_module_version": "1.5.0",
            "_view_count": null,
            "_view_module_version": "1.5.0",
            "box_style": "",
            "layout": "IPY_MODEL_1097c3bd79474da48af2ae578a3e577a",
            "_model_module": "@jupyter-widgets/controls",
            "children": [
              "IPY_MODEL_08c2c9fab1ac447fbc3cedcb8e62abfc",
              "IPY_MODEL_54f06028e655477a8f5d505ac9825c50",
              "IPY_MODEL_4ac30c00c16445248afb9a0d2863477c",
              "IPY_MODEL_f47d5832598d4dfab96ddaa0c34a804e"
            ]
          }
        },
        "1097c3bd79474da48af2ae578a3e577a": {
          "model_module": "@jupyter-widgets/base",
          "model_name": "LayoutModel",
          "model_module_version": "1.2.0",
          "state": {
            "_view_name": "LayoutView",
            "grid_template_rows": null,
            "right": null,
            "justify_content": null,
            "_view_module": "@jupyter-widgets/base",
            "overflow": null,
            "_model_module_version": "1.2.0",
            "_view_count": null,
            "flex_flow": null,
            "width": null,
            "min_width": null,
            "border": null,
            "align_items": null,
            "bottom": null,
            "_model_module": "@jupyter-widgets/base",
            "top": null,
            "grid_column": null,
            "overflow_y": null,
            "overflow_x": null,
            "grid_auto_flow": null,
            "grid_area": null,
            "grid_template_columns": null,
            "flex": null,
            "_model_name": "LayoutModel",
            "justify_items": null,
            "grid_row": null,
            "max_height": null,
            "align_content": null,
            "visibility": null,
            "align_self": null,
            "height": null,
            "min_height": null,
            "padding": null,
            "grid_auto_rows": null,
            "grid_gap": null,
            "max_width": null,
            "order": null,
            "_view_module_version": "1.2.0",
            "grid_template_areas": null,
            "object_position": null,
            "object_fit": null,
            "grid_auto_columns": null,
            "margin": null,
            "display": null,
            "left": null
          }
        },
        "08c2c9fab1ac447fbc3cedcb8e62abfc": {
          "model_module": "@jupyter-widgets/controls",
          "model_name": "IntSliderModel",
          "model_module_version": "1.5.0",
          "state": {
            "_view_name": "IntSliderView",
            "style": "IPY_MODEL_a291bee7c3ec4744a263566dfb4caa2b",
            "_dom_classes": [],
            "description": "giocate",
            "step": 1,
            "_model_name": "IntSliderModel",
            "orientation": "horizontal",
            "max": 10,
            "_view_module": "@jupyter-widgets/controls",
            "_model_module_version": "1.5.0",
            "value": 3,
            "_view_count": null,
            "disabled": false,
            "_view_module_version": "1.5.0",
            "min": 1,
            "continuous_update": true,
            "readout_format": "d",
            "description_tooltip": null,
            "readout": true,
            "_model_module": "@jupyter-widgets/controls",
            "layout": "IPY_MODEL_4de1d97905874e56a4d3a968a94c0a25"
          }
        },
        "54f06028e655477a8f5d505ac9825c50": {
          "model_module": "@jupyter-widgets/controls",
          "model_name": "IntSliderModel",
          "model_module_version": "1.5.0",
          "state": {
            "_view_name": "IntSliderView",
            "style": "IPY_MODEL_fe108da400fe41848e312669e48e21f3",
            "_dom_classes": [],
            "description": "puntata",
            "step": 5,
            "_model_name": "IntSliderModel",
            "orientation": "horizontal",
            "max": 100,
            "_view_module": "@jupyter-widgets/controls",
            "_model_module_version": "1.5.0",
            "value": 10,
            "_view_count": null,
            "disabled": false,
            "_view_module_version": "1.5.0",
            "min": 5,
            "continuous_update": true,
            "readout_format": "d",
            "description_tooltip": null,
            "readout": true,
            "_model_module": "@jupyter-widgets/controls",
            "layout": "IPY_MODEL_f499750d74c84074938f2e9070fc9194"
          }
        },
        "4ac30c00c16445248afb9a0d2863477c": {
          "model_module": "@jupyter-widgets/controls",
          "model_name": "ButtonModel",
          "model_module_version": "1.5.0",
          "state": {
            "_view_name": "ButtonView",
            "style": "IPY_MODEL_c384ba2d2864416d848d97dfc41938bd",
            "_dom_classes": [],
            "description": "Run Interact",
            "_model_name": "ButtonModel",
            "button_style": "",
            "_view_module": "@jupyter-widgets/controls",
            "_model_module_version": "1.5.0",
            "tooltip": "",
            "_view_count": null,
            "disabled": false,
            "_view_module_version": "1.5.0",
            "layout": "IPY_MODEL_e8031f49529341ec8c85cb4992c3cd77",
            "_model_module": "@jupyter-widgets/controls",
            "icon": ""
          }
        },
        "f47d5832598d4dfab96ddaa0c34a804e": {
          "model_module": "@jupyter-widgets/output",
          "model_name": "OutputModel",
          "model_module_version": "1.0.0",
          "state": {
            "_view_name": "OutputView",
            "msg_id": "",
            "_dom_classes": [],
            "_model_name": "OutputModel",
            "outputs": [],
            "_view_module": "@jupyter-widgets/output",
            "_model_module_version": "1.0.0",
            "_view_count": null,
            "_view_module_version": "1.0.0",
            "layout": "IPY_MODEL_fc9ab0cd481542259b939a3b8c3e764e",
            "_model_module": "@jupyter-widgets/output"
          }
        },
        "a291bee7c3ec4744a263566dfb4caa2b": {
          "model_module": "@jupyter-widgets/controls",
          "model_name": "SliderStyleModel",
          "model_module_version": "1.5.0",
          "state": {
            "_view_name": "StyleView",
            "handle_color": null,
            "_model_name": "SliderStyleModel",
            "description_width": "",
            "_view_module": "@jupyter-widgets/base",
            "_model_module_version": "1.5.0",
            "_view_count": null,
            "_view_module_version": "1.2.0",
            "_model_module": "@jupyter-widgets/controls"
          }
        },
        "4de1d97905874e56a4d3a968a94c0a25": {
          "model_module": "@jupyter-widgets/base",
          "model_name": "LayoutModel",
          "model_module_version": "1.2.0",
          "state": {
            "_view_name": "LayoutView",
            "grid_template_rows": null,
            "right": null,
            "justify_content": null,
            "_view_module": "@jupyter-widgets/base",
            "overflow": null,
            "_model_module_version": "1.2.0",
            "_view_count": null,
            "flex_flow": null,
            "width": null,
            "min_width": null,
            "border": null,
            "align_items": null,
            "bottom": null,
            "_model_module": "@jupyter-widgets/base",
            "top": null,
            "grid_column": null,
            "overflow_y": null,
            "overflow_x": null,
            "grid_auto_flow": null,
            "grid_area": null,
            "grid_template_columns": null,
            "flex": null,
            "_model_name": "LayoutModel",
            "justify_items": null,
            "grid_row": null,
            "max_height": null,
            "align_content": null,
            "visibility": null,
            "align_self": null,
            "height": null,
            "min_height": null,
            "padding": null,
            "grid_auto_rows": null,
            "grid_gap": null,
            "max_width": null,
            "order": null,
            "_view_module_version": "1.2.0",
            "grid_template_areas": null,
            "object_position": null,
            "object_fit": null,
            "grid_auto_columns": null,
            "margin": null,
            "display": null,
            "left": null
          }
        },
        "fe108da400fe41848e312669e48e21f3": {
          "model_module": "@jupyter-widgets/controls",
          "model_name": "SliderStyleModel",
          "model_module_version": "1.5.0",
          "state": {
            "_view_name": "StyleView",
            "handle_color": null,
            "_model_name": "SliderStyleModel",
            "description_width": "",
            "_view_module": "@jupyter-widgets/base",
            "_model_module_version": "1.5.0",
            "_view_count": null,
            "_view_module_version": "1.2.0",
            "_model_module": "@jupyter-widgets/controls"
          }
        },
        "f499750d74c84074938f2e9070fc9194": {
          "model_module": "@jupyter-widgets/base",
          "model_name": "LayoutModel",
          "model_module_version": "1.2.0",
          "state": {
            "_view_name": "LayoutView",
            "grid_template_rows": null,
            "right": null,
            "justify_content": null,
            "_view_module": "@jupyter-widgets/base",
            "overflow": null,
            "_model_module_version": "1.2.0",
            "_view_count": null,
            "flex_flow": null,
            "width": null,
            "min_width": null,
            "border": null,
            "align_items": null,
            "bottom": null,
            "_model_module": "@jupyter-widgets/base",
            "top": null,
            "grid_column": null,
            "overflow_y": null,
            "overflow_x": null,
            "grid_auto_flow": null,
            "grid_area": null,
            "grid_template_columns": null,
            "flex": null,
            "_model_name": "LayoutModel",
            "justify_items": null,
            "grid_row": null,
            "max_height": null,
            "align_content": null,
            "visibility": null,
            "align_self": null,
            "height": null,
            "min_height": null,
            "padding": null,
            "grid_auto_rows": null,
            "grid_gap": null,
            "max_width": null,
            "order": null,
            "_view_module_version": "1.2.0",
            "grid_template_areas": null,
            "object_position": null,
            "object_fit": null,
            "grid_auto_columns": null,
            "margin": null,
            "display": null,
            "left": null
          }
        },
        "c384ba2d2864416d848d97dfc41938bd": {
          "model_module": "@jupyter-widgets/controls",
          "model_name": "ButtonStyleModel",
          "model_module_version": "1.5.0",
          "state": {
            "_view_name": "StyleView",
            "_model_name": "ButtonStyleModel",
            "_view_module": "@jupyter-widgets/base",
            "_model_module_version": "1.5.0",
            "_view_count": null,
            "button_color": null,
            "font_weight": "",
            "_view_module_version": "1.2.0",
            "_model_module": "@jupyter-widgets/controls"
          }
        },
        "e8031f49529341ec8c85cb4992c3cd77": {
          "model_module": "@jupyter-widgets/base",
          "model_name": "LayoutModel",
          "model_module_version": "1.2.0",
          "state": {
            "_view_name": "LayoutView",
            "grid_template_rows": null,
            "right": null,
            "justify_content": null,
            "_view_module": "@jupyter-widgets/base",
            "overflow": null,
            "_model_module_version": "1.2.0",
            "_view_count": null,
            "flex_flow": null,
            "width": null,
            "min_width": null,
            "border": null,
            "align_items": null,
            "bottom": null,
            "_model_module": "@jupyter-widgets/base",
            "top": null,
            "grid_column": null,
            "overflow_y": null,
            "overflow_x": null,
            "grid_auto_flow": null,
            "grid_area": null,
            "grid_template_columns": null,
            "flex": null,
            "_model_name": "LayoutModel",
            "justify_items": null,
            "grid_row": null,
            "max_height": null,
            "align_content": null,
            "visibility": null,
            "align_self": null,
            "height": null,
            "min_height": null,
            "padding": null,
            "grid_auto_rows": null,
            "grid_gap": null,
            "max_width": null,
            "order": null,
            "_view_module_version": "1.2.0",
            "grid_template_areas": null,
            "object_position": null,
            "object_fit": null,
            "grid_auto_columns": null,
            "margin": null,
            "display": null,
            "left": null
          }
        },
        "fc9ab0cd481542259b939a3b8c3e764e": {
          "model_module": "@jupyter-widgets/base",
          "model_name": "LayoutModel",
          "model_module_version": "1.2.0",
          "state": {
            "_view_name": "LayoutView",
            "grid_template_rows": null,
            "right": null,
            "justify_content": null,
            "_view_module": "@jupyter-widgets/base",
            "overflow": null,
            "_model_module_version": "1.2.0",
            "_view_count": null,
            "flex_flow": null,
            "width": null,
            "min_width": null,
            "border": null,
            "align_items": null,
            "bottom": null,
            "_model_module": "@jupyter-widgets/base",
            "top": null,
            "grid_column": null,
            "overflow_y": null,
            "overflow_x": null,
            "grid_auto_flow": null,
            "grid_area": null,
            "grid_template_columns": null,
            "flex": null,
            "_model_name": "LayoutModel",
            "justify_items": null,
            "grid_row": null,
            "max_height": null,
            "align_content": null,
            "visibility": null,
            "align_self": null,
            "height": null,
            "min_height": null,
            "padding": null,
            "grid_auto_rows": null,
            "grid_gap": null,
            "max_width": null,
            "order": null,
            "_view_module_version": "1.2.0",
            "grid_template_areas": null,
            "object_position": null,
            "object_fit": null,
            "grid_auto_columns": null,
            "margin": null,
            "display": null,
            "left": null
          }
        },
        "77c7d5c8a80946728961d2371032c7e2": {
          "model_module": "@jupyter-widgets/controls",
          "model_name": "VBoxModel",
          "model_module_version": "1.5.0",
          "state": {
            "_view_name": "VBoxView",
            "_dom_classes": [
              "widget-interact"
            ],
            "_model_name": "VBoxModel",
            "_view_module": "@jupyter-widgets/controls",
            "_model_module_version": "1.5.0",
            "_view_count": null,
            "_view_module_version": "1.5.0",
            "box_style": "",
            "layout": "IPY_MODEL_d8138ef670224fb892f55acc5636a100",
            "_model_module": "@jupyter-widgets/controls",
            "children": [
              "IPY_MODEL_809901421d2345529b6ee18b1dd9aa0e",
              "IPY_MODEL_f860192ab04c4ffd999f8901b0c9f60d",
              "IPY_MODEL_ea50cea0e28b437caa3d611d77674fac",
              "IPY_MODEL_eb370c40aca5464297b00bf975bcc9c3"
            ]
          }
        },
        "d8138ef670224fb892f55acc5636a100": {
          "model_module": "@jupyter-widgets/base",
          "model_name": "LayoutModel",
          "model_module_version": "1.2.0",
          "state": {
            "_view_name": "LayoutView",
            "grid_template_rows": null,
            "right": null,
            "justify_content": null,
            "_view_module": "@jupyter-widgets/base",
            "overflow": null,
            "_model_module_version": "1.2.0",
            "_view_count": null,
            "flex_flow": null,
            "width": null,
            "min_width": null,
            "border": null,
            "align_items": null,
            "bottom": null,
            "_model_module": "@jupyter-widgets/base",
            "top": null,
            "grid_column": null,
            "overflow_y": null,
            "overflow_x": null,
            "grid_auto_flow": null,
            "grid_area": null,
            "grid_template_columns": null,
            "flex": null,
            "_model_name": "LayoutModel",
            "justify_items": null,
            "grid_row": null,
            "max_height": null,
            "align_content": null,
            "visibility": null,
            "align_self": null,
            "height": null,
            "min_height": null,
            "padding": null,
            "grid_auto_rows": null,
            "grid_gap": null,
            "max_width": null,
            "order": null,
            "_view_module_version": "1.2.0",
            "grid_template_areas": null,
            "object_position": null,
            "object_fit": null,
            "grid_auto_columns": null,
            "margin": null,
            "display": null,
            "left": null
          }
        },
        "809901421d2345529b6ee18b1dd9aa0e": {
          "model_module": "@jupyter-widgets/controls",
          "model_name": "IntSliderModel",
          "model_module_version": "1.5.0",
          "state": {
            "_view_name": "IntSliderView",
            "style": "IPY_MODEL_e8dca66dc083434c9b5f42a8c4b1affd",
            "_dom_classes": [],
            "description": "giocate",
            "step": 1,
            "_model_name": "IntSliderModel",
            "orientation": "horizontal",
            "max": 6,
            "_view_module": "@jupyter-widgets/controls",
            "_model_module_version": "1.5.0",
            "value": 3,
            "_view_count": null,
            "disabled": false,
            "_view_module_version": "1.5.0",
            "min": 1,
            "continuous_update": true,
            "readout_format": "d",
            "description_tooltip": null,
            "readout": true,
            "_model_module": "@jupyter-widgets/controls",
            "layout": "IPY_MODEL_94aaffbea1f44ccd869017c2ae6e568f"
          }
        },
        "f860192ab04c4ffd999f8901b0c9f60d": {
          "model_module": "@jupyter-widgets/controls",
          "model_name": "IntSliderModel",
          "model_module_version": "1.5.0",
          "state": {
            "_view_name": "IntSliderView",
            "style": "IPY_MODEL_888095d3db1e4b5e95c6ddc911f3f149",
            "_dom_classes": [],
            "description": "puntata",
            "step": 5,
            "_model_name": "IntSliderModel",
            "orientation": "horizontal",
            "max": 100,
            "_view_module": "@jupyter-widgets/controls",
            "_model_module_version": "1.5.0",
            "value": 5,
            "_view_count": null,
            "disabled": false,
            "_view_module_version": "1.5.0",
            "min": 5,
            "continuous_update": true,
            "readout_format": "d",
            "description_tooltip": null,
            "readout": true,
            "_model_module": "@jupyter-widgets/controls",
            "layout": "IPY_MODEL_8b572fb50c364f0d8b4d5dd403bf2c91"
          }
        },
        "ea50cea0e28b437caa3d611d77674fac": {
          "model_module": "@jupyter-widgets/controls",
          "model_name": "ButtonModel",
          "model_module_version": "1.5.0",
          "state": {
            "_view_name": "ButtonView",
            "style": "IPY_MODEL_959dac1459784a8684d4b5e08a4d8b81",
            "_dom_classes": [],
            "description": "Run Interact",
            "_model_name": "ButtonModel",
            "button_style": "",
            "_view_module": "@jupyter-widgets/controls",
            "_model_module_version": "1.5.0",
            "tooltip": "",
            "_view_count": null,
            "disabled": false,
            "_view_module_version": "1.5.0",
            "layout": "IPY_MODEL_1170ff00a56140a08b9208684d132472",
            "_model_module": "@jupyter-widgets/controls",
            "icon": ""
          }
        },
        "eb370c40aca5464297b00bf975bcc9c3": {
          "model_module": "@jupyter-widgets/output",
          "model_name": "OutputModel",
          "model_module_version": "1.0.0",
          "state": {
            "_view_name": "OutputView",
            "msg_id": "",
            "_dom_classes": [],
            "_model_name": "OutputModel",
            "outputs": [],
            "_view_module": "@jupyter-widgets/output",
            "_model_module_version": "1.0.0",
            "_view_count": null,
            "_view_module_version": "1.0.0",
            "layout": "IPY_MODEL_b89172a4f7274b4085a335d4d4dbb41c",
            "_model_module": "@jupyter-widgets/output"
          }
        },
        "e8dca66dc083434c9b5f42a8c4b1affd": {
          "model_module": "@jupyter-widgets/controls",
          "model_name": "SliderStyleModel",
          "model_module_version": "1.5.0",
          "state": {
            "_view_name": "StyleView",
            "handle_color": null,
            "_model_name": "SliderStyleModel",
            "description_width": "",
            "_view_module": "@jupyter-widgets/base",
            "_model_module_version": "1.5.0",
            "_view_count": null,
            "_view_module_version": "1.2.0",
            "_model_module": "@jupyter-widgets/controls"
          }
        },
        "94aaffbea1f44ccd869017c2ae6e568f": {
          "model_module": "@jupyter-widgets/base",
          "model_name": "LayoutModel",
          "model_module_version": "1.2.0",
          "state": {
            "_view_name": "LayoutView",
            "grid_template_rows": null,
            "right": null,
            "justify_content": null,
            "_view_module": "@jupyter-widgets/base",
            "overflow": null,
            "_model_module_version": "1.2.0",
            "_view_count": null,
            "flex_flow": null,
            "width": null,
            "min_width": null,
            "border": null,
            "align_items": null,
            "bottom": null,
            "_model_module": "@jupyter-widgets/base",
            "top": null,
            "grid_column": null,
            "overflow_y": null,
            "overflow_x": null,
            "grid_auto_flow": null,
            "grid_area": null,
            "grid_template_columns": null,
            "flex": null,
            "_model_name": "LayoutModel",
            "justify_items": null,
            "grid_row": null,
            "max_height": null,
            "align_content": null,
            "visibility": null,
            "align_self": null,
            "height": null,
            "min_height": null,
            "padding": null,
            "grid_auto_rows": null,
            "grid_gap": null,
            "max_width": null,
            "order": null,
            "_view_module_version": "1.2.0",
            "grid_template_areas": null,
            "object_position": null,
            "object_fit": null,
            "grid_auto_columns": null,
            "margin": null,
            "display": null,
            "left": null
          }
        },
        "888095d3db1e4b5e95c6ddc911f3f149": {
          "model_module": "@jupyter-widgets/controls",
          "model_name": "SliderStyleModel",
          "model_module_version": "1.5.0",
          "state": {
            "_view_name": "StyleView",
            "handle_color": null,
            "_model_name": "SliderStyleModel",
            "description_width": "",
            "_view_module": "@jupyter-widgets/base",
            "_model_module_version": "1.5.0",
            "_view_count": null,
            "_view_module_version": "1.2.0",
            "_model_module": "@jupyter-widgets/controls"
          }
        },
        "8b572fb50c364f0d8b4d5dd403bf2c91": {
          "model_module": "@jupyter-widgets/base",
          "model_name": "LayoutModel",
          "model_module_version": "1.2.0",
          "state": {
            "_view_name": "LayoutView",
            "grid_template_rows": null,
            "right": null,
            "justify_content": null,
            "_view_module": "@jupyter-widgets/base",
            "overflow": null,
            "_model_module_version": "1.2.0",
            "_view_count": null,
            "flex_flow": null,
            "width": null,
            "min_width": null,
            "border": null,
            "align_items": null,
            "bottom": null,
            "_model_module": "@jupyter-widgets/base",
            "top": null,
            "grid_column": null,
            "overflow_y": null,
            "overflow_x": null,
            "grid_auto_flow": null,
            "grid_area": null,
            "grid_template_columns": null,
            "flex": null,
            "_model_name": "LayoutModel",
            "justify_items": null,
            "grid_row": null,
            "max_height": null,
            "align_content": null,
            "visibility": null,
            "align_self": null,
            "height": null,
            "min_height": null,
            "padding": null,
            "grid_auto_rows": null,
            "grid_gap": null,
            "max_width": null,
            "order": null,
            "_view_module_version": "1.2.0",
            "grid_template_areas": null,
            "object_position": null,
            "object_fit": null,
            "grid_auto_columns": null,
            "margin": null,
            "display": null,
            "left": null
          }
        },
        "959dac1459784a8684d4b5e08a4d8b81": {
          "model_module": "@jupyter-widgets/controls",
          "model_name": "ButtonStyleModel",
          "model_module_version": "1.5.0",
          "state": {
            "_view_name": "StyleView",
            "_model_name": "ButtonStyleModel",
            "_view_module": "@jupyter-widgets/base",
            "_model_module_version": "1.5.0",
            "_view_count": null,
            "button_color": null,
            "font_weight": "",
            "_view_module_version": "1.2.0",
            "_model_module": "@jupyter-widgets/controls"
          }
        },
        "1170ff00a56140a08b9208684d132472": {
          "model_module": "@jupyter-widgets/base",
          "model_name": "LayoutModel",
          "model_module_version": "1.2.0",
          "state": {
            "_view_name": "LayoutView",
            "grid_template_rows": null,
            "right": null,
            "justify_content": null,
            "_view_module": "@jupyter-widgets/base",
            "overflow": null,
            "_model_module_version": "1.2.0",
            "_view_count": null,
            "flex_flow": null,
            "width": null,
            "min_width": null,
            "border": null,
            "align_items": null,
            "bottom": null,
            "_model_module": "@jupyter-widgets/base",
            "top": null,
            "grid_column": null,
            "overflow_y": null,
            "overflow_x": null,
            "grid_auto_flow": null,
            "grid_area": null,
            "grid_template_columns": null,
            "flex": null,
            "_model_name": "LayoutModel",
            "justify_items": null,
            "grid_row": null,
            "max_height": null,
            "align_content": null,
            "visibility": null,
            "align_self": null,
            "height": null,
            "min_height": null,
            "padding": null,
            "grid_auto_rows": null,
            "grid_gap": null,
            "max_width": null,
            "order": null,
            "_view_module_version": "1.2.0",
            "grid_template_areas": null,
            "object_position": null,
            "object_fit": null,
            "grid_auto_columns": null,
            "margin": null,
            "display": null,
            "left": null
          }
        },
        "b89172a4f7274b4085a335d4d4dbb41c": {
          "model_module": "@jupyter-widgets/base",
          "model_name": "LayoutModel",
          "model_module_version": "1.2.0",
          "state": {
            "_view_name": "LayoutView",
            "grid_template_rows": null,
            "right": null,
            "justify_content": null,
            "_view_module": "@jupyter-widgets/base",
            "overflow": null,
            "_model_module_version": "1.2.0",
            "_view_count": null,
            "flex_flow": null,
            "width": null,
            "min_width": null,
            "border": null,
            "align_items": null,
            "bottom": null,
            "_model_module": "@jupyter-widgets/base",
            "top": null,
            "grid_column": null,
            "overflow_y": null,
            "overflow_x": null,
            "grid_auto_flow": null,
            "grid_area": null,
            "grid_template_columns": null,
            "flex": null,
            "_model_name": "LayoutModel",
            "justify_items": null,
            "grid_row": null,
            "max_height": null,
            "align_content": null,
            "visibility": null,
            "align_self": null,
            "height": null,
            "min_height": null,
            "padding": null,
            "grid_auto_rows": null,
            "grid_gap": null,
            "max_width": null,
            "order": null,
            "_view_module_version": "1.2.0",
            "grid_template_areas": null,
            "object_position": null,
            "object_fit": null,
            "grid_auto_columns": null,
            "margin": null,
            "display": null,
            "left": null
          }
        },
        "9778b27f4f3f4fefaadc888ac4bab1bf": {
          "model_module": "@jupyter-widgets/controls",
          "model_name": "VBoxModel",
          "model_module_version": "1.5.0",
          "state": {
            "_view_name": "VBoxView",
            "_dom_classes": [
              "widget-interact"
            ],
            "_model_name": "VBoxModel",
            "_view_module": "@jupyter-widgets/controls",
            "_model_module_version": "1.5.0",
            "_view_count": null,
            "_view_module_version": "1.5.0",
            "box_style": "",
            "layout": "IPY_MODEL_ffbb58f46b4b43ca8f0a4ddca7723fc2",
            "_model_module": "@jupyter-widgets/controls",
            "children": [
              "IPY_MODEL_a0d501fe18ba4dd988856be4ae146dda",
              "IPY_MODEL_891113759c8040918f1dc7a1fa67e895",
              "IPY_MODEL_530328ea5b4d400cb1eb8149a1f53f70"
            ]
          }
        },
        "ffbb58f46b4b43ca8f0a4ddca7723fc2": {
          "model_module": "@jupyter-widgets/base",
          "model_name": "LayoutModel",
          "model_module_version": "1.2.0",
          "state": {
            "_view_name": "LayoutView",
            "grid_template_rows": null,
            "right": null,
            "justify_content": null,
            "_view_module": "@jupyter-widgets/base",
            "overflow": null,
            "_model_module_version": "1.2.0",
            "_view_count": null,
            "flex_flow": null,
            "width": null,
            "min_width": null,
            "border": null,
            "align_items": null,
            "bottom": null,
            "_model_module": "@jupyter-widgets/base",
            "top": null,
            "grid_column": null,
            "overflow_y": null,
            "overflow_x": null,
            "grid_auto_flow": null,
            "grid_area": null,
            "grid_template_columns": null,
            "flex": null,
            "_model_name": "LayoutModel",
            "justify_items": null,
            "grid_row": null,
            "max_height": null,
            "align_content": null,
            "visibility": null,
            "align_self": null,
            "height": null,
            "min_height": null,
            "padding": null,
            "grid_auto_rows": null,
            "grid_gap": null,
            "max_width": null,
            "order": null,
            "_view_module_version": "1.2.0",
            "grid_template_areas": null,
            "object_position": null,
            "object_fit": null,
            "grid_auto_columns": null,
            "margin": null,
            "display": null,
            "left": null
          }
        },
        "a0d501fe18ba4dd988856be4ae146dda": {
          "model_module": "@jupyter-widgets/controls",
          "model_name": "IntSliderModel",
          "model_module_version": "1.5.0",
          "state": {
            "_view_name": "IntSliderView",
            "style": "IPY_MODEL_6f83eaecb89840868df0073be18605c2",
            "_dom_classes": [],
            "description": "estrazioni",
            "step": 1,
            "_model_name": "IntSliderModel",
            "orientation": "horizontal",
            "max": 10,
            "_view_module": "@jupyter-widgets/controls",
            "_model_module_version": "1.5.0",
            "value": 3,
            "_view_count": null,
            "disabled": false,
            "_view_module_version": "1.5.0",
            "min": 1,
            "continuous_update": true,
            "readout_format": "d",
            "description_tooltip": null,
            "readout": true,
            "_model_module": "@jupyter-widgets/controls",
            "layout": "IPY_MODEL_976bbc9f046f47b999de02fde9d03ac0"
          }
        },
        "891113759c8040918f1dc7a1fa67e895": {
          "model_module": "@jupyter-widgets/controls",
          "model_name": "ButtonModel",
          "model_module_version": "1.5.0",
          "state": {
            "_view_name": "ButtonView",
            "style": "IPY_MODEL_2e9515daaf2b45138c95bcc9d6c5e63c",
            "_dom_classes": [],
            "description": "Run Interact",
            "_model_name": "ButtonModel",
            "button_style": "",
            "_view_module": "@jupyter-widgets/controls",
            "_model_module_version": "1.5.0",
            "tooltip": "",
            "_view_count": null,
            "disabled": false,
            "_view_module_version": "1.5.0",
            "layout": "IPY_MODEL_71b4185849fc46c39bbc6387ec51d88d",
            "_model_module": "@jupyter-widgets/controls",
            "icon": ""
          }
        },
        "530328ea5b4d400cb1eb8149a1f53f70": {
          "model_module": "@jupyter-widgets/output",
          "model_name": "OutputModel",
          "model_module_version": "1.0.0",
          "state": {
            "_view_name": "OutputView",
            "msg_id": "",
            "_dom_classes": [],
            "_model_name": "OutputModel",
            "outputs": [
              {
                "output_type": "display_data",
                "data": {
                  "text/plain": "0.934"
                },
                "metadata": {}
              }
            ],
            "_view_module": "@jupyter-widgets/output",
            "_model_module_version": "1.0.0",
            "_view_count": null,
            "_view_module_version": "1.0.0",
            "layout": "IPY_MODEL_a1a56feaeb0047e9afc3744d2413f461",
            "_model_module": "@jupyter-widgets/output"
          }
        },
        "6f83eaecb89840868df0073be18605c2": {
          "model_module": "@jupyter-widgets/controls",
          "model_name": "SliderStyleModel",
          "model_module_version": "1.5.0",
          "state": {
            "_view_name": "StyleView",
            "handle_color": null,
            "_model_name": "SliderStyleModel",
            "description_width": "",
            "_view_module": "@jupyter-widgets/base",
            "_model_module_version": "1.5.0",
            "_view_count": null,
            "_view_module_version": "1.2.0",
            "_model_module": "@jupyter-widgets/controls"
          }
        },
        "976bbc9f046f47b999de02fde9d03ac0": {
          "model_module": "@jupyter-widgets/base",
          "model_name": "LayoutModel",
          "model_module_version": "1.2.0",
          "state": {
            "_view_name": "LayoutView",
            "grid_template_rows": null,
            "right": null,
            "justify_content": null,
            "_view_module": "@jupyter-widgets/base",
            "overflow": null,
            "_model_module_version": "1.2.0",
            "_view_count": null,
            "flex_flow": null,
            "width": null,
            "min_width": null,
            "border": null,
            "align_items": null,
            "bottom": null,
            "_model_module": "@jupyter-widgets/base",
            "top": null,
            "grid_column": null,
            "overflow_y": null,
            "overflow_x": null,
            "grid_auto_flow": null,
            "grid_area": null,
            "grid_template_columns": null,
            "flex": null,
            "_model_name": "LayoutModel",
            "justify_items": null,
            "grid_row": null,
            "max_height": null,
            "align_content": null,
            "visibility": null,
            "align_self": null,
            "height": null,
            "min_height": null,
            "padding": null,
            "grid_auto_rows": null,
            "grid_gap": null,
            "max_width": null,
            "order": null,
            "_view_module_version": "1.2.0",
            "grid_template_areas": null,
            "object_position": null,
            "object_fit": null,
            "grid_auto_columns": null,
            "margin": null,
            "display": null,
            "left": null
          }
        },
        "2e9515daaf2b45138c95bcc9d6c5e63c": {
          "model_module": "@jupyter-widgets/controls",
          "model_name": "ButtonStyleModel",
          "model_module_version": "1.5.0",
          "state": {
            "_view_name": "StyleView",
            "_model_name": "ButtonStyleModel",
            "_view_module": "@jupyter-widgets/base",
            "_model_module_version": "1.5.0",
            "_view_count": null,
            "button_color": null,
            "font_weight": "",
            "_view_module_version": "1.2.0",
            "_model_module": "@jupyter-widgets/controls"
          }
        },
        "71b4185849fc46c39bbc6387ec51d88d": {
          "model_module": "@jupyter-widgets/base",
          "model_name": "LayoutModel",
          "model_module_version": "1.2.0",
          "state": {
            "_view_name": "LayoutView",
            "grid_template_rows": null,
            "right": null,
            "justify_content": null,
            "_view_module": "@jupyter-widgets/base",
            "overflow": null,
            "_model_module_version": "1.2.0",
            "_view_count": null,
            "flex_flow": null,
            "width": null,
            "min_width": null,
            "border": null,
            "align_items": null,
            "bottom": null,
            "_model_module": "@jupyter-widgets/base",
            "top": null,
            "grid_column": null,
            "overflow_y": null,
            "overflow_x": null,
            "grid_auto_flow": null,
            "grid_area": null,
            "grid_template_columns": null,
            "flex": null,
            "_model_name": "LayoutModel",
            "justify_items": null,
            "grid_row": null,
            "max_height": null,
            "align_content": null,
            "visibility": null,
            "align_self": null,
            "height": null,
            "min_height": null,
            "padding": null,
            "grid_auto_rows": null,
            "grid_gap": null,
            "max_width": null,
            "order": null,
            "_view_module_version": "1.2.0",
            "grid_template_areas": null,
            "object_position": null,
            "object_fit": null,
            "grid_auto_columns": null,
            "margin": null,
            "display": null,
            "left": null
          }
        },
        "a1a56feaeb0047e9afc3744d2413f461": {
          "model_module": "@jupyter-widgets/base",
          "model_name": "LayoutModel",
          "model_module_version": "1.2.0",
          "state": {
            "_view_name": "LayoutView",
            "grid_template_rows": null,
            "right": null,
            "justify_content": null,
            "_view_module": "@jupyter-widgets/base",
            "overflow": null,
            "_model_module_version": "1.2.0",
            "_view_count": null,
            "flex_flow": null,
            "width": null,
            "min_width": null,
            "border": null,
            "align_items": null,
            "bottom": null,
            "_model_module": "@jupyter-widgets/base",
            "top": null,
            "grid_column": null,
            "overflow_y": null,
            "overflow_x": null,
            "grid_auto_flow": null,
            "grid_area": null,
            "grid_template_columns": null,
            "flex": null,
            "_model_name": "LayoutModel",
            "justify_items": null,
            "grid_row": null,
            "max_height": null,
            "align_content": null,
            "visibility": null,
            "align_self": null,
            "height": null,
            "min_height": null,
            "padding": null,
            "grid_auto_rows": null,
            "grid_gap": null,
            "max_width": null,
            "order": null,
            "_view_module_version": "1.2.0",
            "grid_template_areas": null,
            "object_position": null,
            "object_fit": null,
            "grid_auto_columns": null,
            "margin": null,
            "display": null,
            "left": null
          }
        },
        "8ea420308cde4e7eb5b756b768521446": {
          "model_module": "@jupyter-widgets/controls",
          "model_name": "VBoxModel",
          "model_module_version": "1.5.0",
          "state": {
            "_view_name": "VBoxView",
            "_dom_classes": [
              "widget-interact"
            ],
            "_model_name": "VBoxModel",
            "_view_module": "@jupyter-widgets/controls",
            "_model_module_version": "1.5.0",
            "_view_count": null,
            "_view_module_version": "1.5.0",
            "box_style": "",
            "layout": "IPY_MODEL_a498b64faa154f2987fe7df6f53cb147",
            "_model_module": "@jupyter-widgets/controls",
            "children": [
              "IPY_MODEL_04b080a2abbd4dcf890c9290a4bfd7e0",
              "IPY_MODEL_e496dc3723874e1faf45ee6d7c0a6fde",
              "IPY_MODEL_cc5577bced1b4d868d1e19b5ee75806a",
              "IPY_MODEL_9fcd4b4644d9410ca574d6890c6c3a6b"
            ]
          }
        },
        "a498b64faa154f2987fe7df6f53cb147": {
          "model_module": "@jupyter-widgets/base",
          "model_name": "LayoutModel",
          "model_module_version": "1.2.0",
          "state": {
            "_view_name": "LayoutView",
            "grid_template_rows": null,
            "right": null,
            "justify_content": null,
            "_view_module": "@jupyter-widgets/base",
            "overflow": null,
            "_model_module_version": "1.2.0",
            "_view_count": null,
            "flex_flow": null,
            "width": null,
            "min_width": null,
            "border": null,
            "align_items": null,
            "bottom": null,
            "_model_module": "@jupyter-widgets/base",
            "top": null,
            "grid_column": null,
            "overflow_y": null,
            "overflow_x": null,
            "grid_auto_flow": null,
            "grid_area": null,
            "grid_template_columns": null,
            "flex": null,
            "_model_name": "LayoutModel",
            "justify_items": null,
            "grid_row": null,
            "max_height": null,
            "align_content": null,
            "visibility": null,
            "align_self": null,
            "height": null,
            "min_height": null,
            "padding": null,
            "grid_auto_rows": null,
            "grid_gap": null,
            "max_width": null,
            "order": null,
            "_view_module_version": "1.2.0",
            "grid_template_areas": null,
            "object_position": null,
            "object_fit": null,
            "grid_auto_columns": null,
            "margin": null,
            "display": null,
            "left": null
          }
        },
        "04b080a2abbd4dcf890c9290a4bfd7e0": {
          "model_module": "@jupyter-widgets/controls",
          "model_name": "IntSliderModel",
          "model_module_version": "1.5.0",
          "state": {
            "_view_name": "IntSliderView",
            "style": "IPY_MODEL_1a9759d65780495785ff43c26c4621cd",
            "_dom_classes": [],
            "description": "bianche",
            "step": 1,
            "_model_name": "IntSliderModel",
            "orientation": "horizontal",
            "max": 5,
            "_view_module": "@jupyter-widgets/controls",
            "_model_module_version": "1.5.0",
            "value": 2,
            "_view_count": null,
            "disabled": false,
            "_view_module_version": "1.5.0",
            "min": 1,
            "continuous_update": true,
            "readout_format": "d",
            "description_tooltip": null,
            "readout": true,
            "_model_module": "@jupyter-widgets/controls",
            "layout": "IPY_MODEL_e5e0c70b9e7a44ccb0726f495a6f345e"
          }
        },
        "e496dc3723874e1faf45ee6d7c0a6fde": {
          "model_module": "@jupyter-widgets/controls",
          "model_name": "IntSliderModel",
          "model_module_version": "1.5.0",
          "state": {
            "_view_name": "IntSliderView",
            "style": "IPY_MODEL_aa5cef13a32f4f37822c5c21da116b52",
            "_dom_classes": [],
            "description": "rosse",
            "step": 1,
            "_model_name": "IntSliderModel",
            "orientation": "horizontal",
            "max": 5,
            "_view_module": "@jupyter-widgets/controls",
            "_model_module_version": "1.5.0",
            "value": 3,
            "_view_count": null,
            "disabled": false,
            "_view_module_version": "1.5.0",
            "min": 1,
            "continuous_update": true,
            "readout_format": "d",
            "description_tooltip": null,
            "readout": true,
            "_model_module": "@jupyter-widgets/controls",
            "layout": "IPY_MODEL_1f67a77843e24e1c9674a773591ae940"
          }
        },
        "cc5577bced1b4d868d1e19b5ee75806a": {
          "model_module": "@jupyter-widgets/controls",
          "model_name": "ButtonModel",
          "model_module_version": "1.5.0",
          "state": {
            "_view_name": "ButtonView",
            "style": "IPY_MODEL_aca9d240cebf44f5999fb4b95f151c2e",
            "_dom_classes": [],
            "description": "Run Interact",
            "_model_name": "ButtonModel",
            "button_style": "",
            "_view_module": "@jupyter-widgets/controls",
            "_model_module_version": "1.5.0",
            "tooltip": "",
            "_view_count": null,
            "disabled": false,
            "_view_module_version": "1.5.0",
            "layout": "IPY_MODEL_32c7d6dca3044470b36dc38ed80e6272",
            "_model_module": "@jupyter-widgets/controls",
            "icon": ""
          }
        },
        "9fcd4b4644d9410ca574d6890c6c3a6b": {
          "model_module": "@jupyter-widgets/output",
          "model_name": "OutputModel",
          "model_module_version": "1.0.0",
          "state": {
            "_view_name": "OutputView",
            "msg_id": "",
            "_dom_classes": [],
            "_model_name": "OutputModel",
            "outputs": [
              {
                "output_type": "display_data",
                "data": {
                  "image/png": "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\n",
                  "text/plain": "<Figure size 432x288 with 1 Axes>"
                },
                "metadata": {}
              }
            ],
            "_view_module": "@jupyter-widgets/output",
            "_model_module_version": "1.0.0",
            "_view_count": null,
            "_view_module_version": "1.0.0",
            "layout": "IPY_MODEL_0ee01306eaef4d9a80d83252343c685f",
            "_model_module": "@jupyter-widgets/output"
          }
        },
        "1a9759d65780495785ff43c26c4621cd": {
          "model_module": "@jupyter-widgets/controls",
          "model_name": "SliderStyleModel",
          "model_module_version": "1.5.0",
          "state": {
            "_view_name": "StyleView",
            "handle_color": null,
            "_model_name": "SliderStyleModel",
            "description_width": "",
            "_view_module": "@jupyter-widgets/base",
            "_model_module_version": "1.5.0",
            "_view_count": null,
            "_view_module_version": "1.2.0",
            "_model_module": "@jupyter-widgets/controls"
          }
        },
        "e5e0c70b9e7a44ccb0726f495a6f345e": {
          "model_module": "@jupyter-widgets/base",
          "model_name": "LayoutModel",
          "model_module_version": "1.2.0",
          "state": {
            "_view_name": "LayoutView",
            "grid_template_rows": null,
            "right": null,
            "justify_content": null,
            "_view_module": "@jupyter-widgets/base",
            "overflow": null,
            "_model_module_version": "1.2.0",
            "_view_count": null,
            "flex_flow": null,
            "width": null,
            "min_width": null,
            "border": null,
            "align_items": null,
            "bottom": null,
            "_model_module": "@jupyter-widgets/base",
            "top": null,
            "grid_column": null,
            "overflow_y": null,
            "overflow_x": null,
            "grid_auto_flow": null,
            "grid_area": null,
            "grid_template_columns": null,
            "flex": null,
            "_model_name": "LayoutModel",
            "justify_items": null,
            "grid_row": null,
            "max_height": null,
            "align_content": null,
            "visibility": null,
            "align_self": null,
            "height": null,
            "min_height": null,
            "padding": null,
            "grid_auto_rows": null,
            "grid_gap": null,
            "max_width": null,
            "order": null,
            "_view_module_version": "1.2.0",
            "grid_template_areas": null,
            "object_position": null,
            "object_fit": null,
            "grid_auto_columns": null,
            "margin": null,
            "display": null,
            "left": null
          }
        },
        "aa5cef13a32f4f37822c5c21da116b52": {
          "model_module": "@jupyter-widgets/controls",
          "model_name": "SliderStyleModel",
          "model_module_version": "1.5.0",
          "state": {
            "_view_name": "StyleView",
            "handle_color": null,
            "_model_name": "SliderStyleModel",
            "description_width": "",
            "_view_module": "@jupyter-widgets/base",
            "_model_module_version": "1.5.0",
            "_view_count": null,
            "_view_module_version": "1.2.0",
            "_model_module": "@jupyter-widgets/controls"
          }
        },
        "1f67a77843e24e1c9674a773591ae940": {
          "model_module": "@jupyter-widgets/base",
          "model_name": "LayoutModel",
          "model_module_version": "1.2.0",
          "state": {
            "_view_name": "LayoutView",
            "grid_template_rows": null,
            "right": null,
            "justify_content": null,
            "_view_module": "@jupyter-widgets/base",
            "overflow": null,
            "_model_module_version": "1.2.0",
            "_view_count": null,
            "flex_flow": null,
            "width": null,
            "min_width": null,
            "border": null,
            "align_items": null,
            "bottom": null,
            "_model_module": "@jupyter-widgets/base",
            "top": null,
            "grid_column": null,
            "overflow_y": null,
            "overflow_x": null,
            "grid_auto_flow": null,
            "grid_area": null,
            "grid_template_columns": null,
            "flex": null,
            "_model_name": "LayoutModel",
            "justify_items": null,
            "grid_row": null,
            "max_height": null,
            "align_content": null,
            "visibility": null,
            "align_self": null,
            "height": null,
            "min_height": null,
            "padding": null,
            "grid_auto_rows": null,
            "grid_gap": null,
            "max_width": null,
            "order": null,
            "_view_module_version": "1.2.0",
            "grid_template_areas": null,
            "object_position": null,
            "object_fit": null,
            "grid_auto_columns": null,
            "margin": null,
            "display": null,
            "left": null
          }
        },
        "aca9d240cebf44f5999fb4b95f151c2e": {
          "model_module": "@jupyter-widgets/controls",
          "model_name": "ButtonStyleModel",
          "model_module_version": "1.5.0",
          "state": {
            "_view_name": "StyleView",
            "_model_name": "ButtonStyleModel",
            "_view_module": "@jupyter-widgets/base",
            "_model_module_version": "1.5.0",
            "_view_count": null,
            "button_color": null,
            "font_weight": "",
            "_view_module_version": "1.2.0",
            "_model_module": "@jupyter-widgets/controls"
          }
        },
        "32c7d6dca3044470b36dc38ed80e6272": {
          "model_module": "@jupyter-widgets/base",
          "model_name": "LayoutModel",
          "model_module_version": "1.2.0",
          "state": {
            "_view_name": "LayoutView",
            "grid_template_rows": null,
            "right": null,
            "justify_content": null,
            "_view_module": "@jupyter-widgets/base",
            "overflow": null,
            "_model_module_version": "1.2.0",
            "_view_count": null,
            "flex_flow": null,
            "width": null,
            "min_width": null,
            "border": null,
            "align_items": null,
            "bottom": null,
            "_model_module": "@jupyter-widgets/base",
            "top": null,
            "grid_column": null,
            "overflow_y": null,
            "overflow_x": null,
            "grid_auto_flow": null,
            "grid_area": null,
            "grid_template_columns": null,
            "flex": null,
            "_model_name": "LayoutModel",
            "justify_items": null,
            "grid_row": null,
            "max_height": null,
            "align_content": null,
            "visibility": null,
            "align_self": null,
            "height": null,
            "min_height": null,
            "padding": null,
            "grid_auto_rows": null,
            "grid_gap": null,
            "max_width": null,
            "order": null,
            "_view_module_version": "1.2.0",
            "grid_template_areas": null,
            "object_position": null,
            "object_fit": null,
            "grid_auto_columns": null,
            "margin": null,
            "display": null,
            "left": null
          }
        },
        "0ee01306eaef4d9a80d83252343c685f": {
          "model_module": "@jupyter-widgets/base",
          "model_name": "LayoutModel",
          "model_module_version": "1.2.0",
          "state": {
            "_view_name": "LayoutView",
            "grid_template_rows": null,
            "right": null,
            "justify_content": null,
            "_view_module": "@jupyter-widgets/base",
            "overflow": null,
            "_model_module_version": "1.2.0",
            "_view_count": null,
            "flex_flow": null,
            "width": null,
            "min_width": null,
            "border": null,
            "align_items": null,
            "bottom": null,
            "_model_module": "@jupyter-widgets/base",
            "top": null,
            "grid_column": null,
            "overflow_y": null,
            "overflow_x": null,
            "grid_auto_flow": null,
            "grid_area": null,
            "grid_template_columns": null,
            "flex": null,
            "_model_name": "LayoutModel",
            "justify_items": null,
            "grid_row": null,
            "max_height": null,
            "align_content": null,
            "visibility": null,
            "align_self": null,
            "height": null,
            "min_height": null,
            "padding": null,
            "grid_auto_rows": null,
            "grid_gap": null,
            "max_width": null,
            "order": null,
            "_view_module_version": "1.2.0",
            "grid_template_areas": null,
            "object_position": null,
            "object_fit": null,
            "grid_auto_columns": null,
            "margin": null,
            "display": null,
            "left": null
          }
        },
        "42a409c76aa540489ba60084c67aa52c": {
          "model_module": "@jupyter-widgets/controls",
          "model_name": "VBoxModel",
          "model_module_version": "1.5.0",
          "state": {
            "_view_name": "VBoxView",
            "_dom_classes": [
              "widget-interact"
            ],
            "_model_name": "VBoxModel",
            "_view_module": "@jupyter-widgets/controls",
            "_model_module_version": "1.5.0",
            "_view_count": null,
            "_view_module_version": "1.5.0",
            "box_style": "",
            "layout": "IPY_MODEL_48ec58848d0b454c9f72a0c2738c1dd8",
            "_model_module": "@jupyter-widgets/controls",
            "children": [
              "IPY_MODEL_1cefe16539a2496d88871910cc21903b",
              "IPY_MODEL_c81891726c734f0f8dc6ef5b0bad89ce",
              "IPY_MODEL_65412102b7034be7b64aa90db2e1ae56",
              "IPY_MODEL_9cdb2603034c41bc916b069f523307be"
            ]
          }
        },
        "48ec58848d0b454c9f72a0c2738c1dd8": {
          "model_module": "@jupyter-widgets/base",
          "model_name": "LayoutModel",
          "model_module_version": "1.2.0",
          "state": {
            "_view_name": "LayoutView",
            "grid_template_rows": null,
            "right": null,
            "justify_content": null,
            "_view_module": "@jupyter-widgets/base",
            "overflow": null,
            "_model_module_version": "1.2.0",
            "_view_count": null,
            "flex_flow": null,
            "width": null,
            "min_width": null,
            "border": null,
            "align_items": null,
            "bottom": null,
            "_model_module": "@jupyter-widgets/base",
            "top": null,
            "grid_column": null,
            "overflow_y": null,
            "overflow_x": null,
            "grid_auto_flow": null,
            "grid_area": null,
            "grid_template_columns": null,
            "flex": null,
            "_model_name": "LayoutModel",
            "justify_items": null,
            "grid_row": null,
            "max_height": null,
            "align_content": null,
            "visibility": null,
            "align_self": null,
            "height": null,
            "min_height": null,
            "padding": null,
            "grid_auto_rows": null,
            "grid_gap": null,
            "max_width": null,
            "order": null,
            "_view_module_version": "1.2.0",
            "grid_template_areas": null,
            "object_position": null,
            "object_fit": null,
            "grid_auto_columns": null,
            "margin": null,
            "display": null,
            "left": null
          }
        },
        "1cefe16539a2496d88871910cc21903b": {
          "model_module": "@jupyter-widgets/controls",
          "model_name": "IntSliderModel",
          "model_module_version": "1.5.0",
          "state": {
            "_view_name": "IntSliderView",
            "style": "IPY_MODEL_0fe982cbfe3043c7abf9bb10ef6ae8c8",
            "_dom_classes": [],
            "description": "bianche",
            "step": 1,
            "_model_name": "IntSliderModel",
            "orientation": "horizontal",
            "max": 5,
            "_view_module": "@jupyter-widgets/controls",
            "_model_module_version": "1.5.0",
            "value": 2,
            "_view_count": null,
            "disabled": false,
            "_view_module_version": "1.5.0",
            "min": 1,
            "continuous_update": true,
            "readout_format": "d",
            "description_tooltip": null,
            "readout": true,
            "_model_module": "@jupyter-widgets/controls",
            "layout": "IPY_MODEL_ff6bac87f09d45aca556b50c19ddaedc"
          }
        },
        "c81891726c734f0f8dc6ef5b0bad89ce": {
          "model_module": "@jupyter-widgets/controls",
          "model_name": "IntSliderModel",
          "model_module_version": "1.5.0",
          "state": {
            "_view_name": "IntSliderView",
            "style": "IPY_MODEL_afab767f7362428bba6c76ef238d8b49",
            "_dom_classes": [],
            "description": "rosse",
            "step": 1,
            "_model_name": "IntSliderModel",
            "orientation": "horizontal",
            "max": 5,
            "_view_module": "@jupyter-widgets/controls",
            "_model_module_version": "1.5.0",
            "value": 3,
            "_view_count": null,
            "disabled": false,
            "_view_module_version": "1.5.0",
            "min": 1,
            "continuous_update": true,
            "readout_format": "d",
            "description_tooltip": null,
            "readout": true,
            "_model_module": "@jupyter-widgets/controls",
            "layout": "IPY_MODEL_6cb577db8e6a4163aab6550c182fe329"
          }
        },
        "65412102b7034be7b64aa90db2e1ae56": {
          "model_module": "@jupyter-widgets/controls",
          "model_name": "ButtonModel",
          "model_module_version": "1.5.0",
          "state": {
            "_view_name": "ButtonView",
            "style": "IPY_MODEL_df107d7033594cd99e7141cc3a6824d8",
            "_dom_classes": [],
            "description": "Run Interact",
            "_model_name": "ButtonModel",
            "button_style": "",
            "_view_module": "@jupyter-widgets/controls",
            "_model_module_version": "1.5.0",
            "tooltip": "",
            "_view_count": null,
            "disabled": false,
            "_view_module_version": "1.5.0",
            "layout": "IPY_MODEL_4c2f385f297543e39d34f496261efa2f",
            "_model_module": "@jupyter-widgets/controls",
            "icon": ""
          }
        },
        "9cdb2603034c41bc916b069f523307be": {
          "model_module": "@jupyter-widgets/output",
          "model_name": "OutputModel",
          "model_module_version": "1.0.0",
          "state": {
            "_view_name": "OutputView",
            "msg_id": "",
            "_dom_classes": [],
            "_model_name": "OutputModel",
            "outputs": [
              {
                "output_type": "display_data",
                "data": {
                  "image/png": "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\n",
                  "text/plain": "<Figure size 432x288 with 1 Axes>"
                },
                "metadata": {
                  "needs_background": "light"
                }
              }
            ],
            "_view_module": "@jupyter-widgets/output",
            "_model_module_version": "1.0.0",
            "_view_count": null,
            "_view_module_version": "1.0.0",
            "layout": "IPY_MODEL_b8571cef630e4426a12a5d82a6050de7",
            "_model_module": "@jupyter-widgets/output"
          }
        },
        "0fe982cbfe3043c7abf9bb10ef6ae8c8": {
          "model_module": "@jupyter-widgets/controls",
          "model_name": "SliderStyleModel",
          "model_module_version": "1.5.0",
          "state": {
            "_view_name": "StyleView",
            "handle_color": null,
            "_model_name": "SliderStyleModel",
            "description_width": "",
            "_view_module": "@jupyter-widgets/base",
            "_model_module_version": "1.5.0",
            "_view_count": null,
            "_view_module_version": "1.2.0",
            "_model_module": "@jupyter-widgets/controls"
          }
        },
        "ff6bac87f09d45aca556b50c19ddaedc": {
          "model_module": "@jupyter-widgets/base",
          "model_name": "LayoutModel",
          "model_module_version": "1.2.0",
          "state": {
            "_view_name": "LayoutView",
            "grid_template_rows": null,
            "right": null,
            "justify_content": null,
            "_view_module": "@jupyter-widgets/base",
            "overflow": null,
            "_model_module_version": "1.2.0",
            "_view_count": null,
            "flex_flow": null,
            "width": null,
            "min_width": null,
            "border": null,
            "align_items": null,
            "bottom": null,
            "_model_module": "@jupyter-widgets/base",
            "top": null,
            "grid_column": null,
            "overflow_y": null,
            "overflow_x": null,
            "grid_auto_flow": null,
            "grid_area": null,
            "grid_template_columns": null,
            "flex": null,
            "_model_name": "LayoutModel",
            "justify_items": null,
            "grid_row": null,
            "max_height": null,
            "align_content": null,
            "visibility": null,
            "align_self": null,
            "height": null,
            "min_height": null,
            "padding": null,
            "grid_auto_rows": null,
            "grid_gap": null,
            "max_width": null,
            "order": null,
            "_view_module_version": "1.2.0",
            "grid_template_areas": null,
            "object_position": null,
            "object_fit": null,
            "grid_auto_columns": null,
            "margin": null,
            "display": null,
            "left": null
          }
        },
        "afab767f7362428bba6c76ef238d8b49": {
          "model_module": "@jupyter-widgets/controls",
          "model_name": "SliderStyleModel",
          "model_module_version": "1.5.0",
          "state": {
            "_view_name": "StyleView",
            "handle_color": null,
            "_model_name": "SliderStyleModel",
            "description_width": "",
            "_view_module": "@jupyter-widgets/base",
            "_model_module_version": "1.5.0",
            "_view_count": null,
            "_view_module_version": "1.2.0",
            "_model_module": "@jupyter-widgets/controls"
          }
        },
        "6cb577db8e6a4163aab6550c182fe329": {
          "model_module": "@jupyter-widgets/base",
          "model_name": "LayoutModel",
          "model_module_version": "1.2.0",
          "state": {
            "_view_name": "LayoutView",
            "grid_template_rows": null,
            "right": null,
            "justify_content": null,
            "_view_module": "@jupyter-widgets/base",
            "overflow": null,
            "_model_module_version": "1.2.0",
            "_view_count": null,
            "flex_flow": null,
            "width": null,
            "min_width": null,
            "border": null,
            "align_items": null,
            "bottom": null,
            "_model_module": "@jupyter-widgets/base",
            "top": null,
            "grid_column": null,
            "overflow_y": null,
            "overflow_x": null,
            "grid_auto_flow": null,
            "grid_area": null,
            "grid_template_columns": null,
            "flex": null,
            "_model_name": "LayoutModel",
            "justify_items": null,
            "grid_row": null,
            "max_height": null,
            "align_content": null,
            "visibility": null,
            "align_self": null,
            "height": null,
            "min_height": null,
            "padding": null,
            "grid_auto_rows": null,
            "grid_gap": null,
            "max_width": null,
            "order": null,
            "_view_module_version": "1.2.0",
            "grid_template_areas": null,
            "object_position": null,
            "object_fit": null,
            "grid_auto_columns": null,
            "margin": null,
            "display": null,
            "left": null
          }
        },
        "df107d7033594cd99e7141cc3a6824d8": {
          "model_module": "@jupyter-widgets/controls",
          "model_name": "ButtonStyleModel",
          "model_module_version": "1.5.0",
          "state": {
            "_view_name": "StyleView",
            "_model_name": "ButtonStyleModel",
            "_view_module": "@jupyter-widgets/base",
            "_model_module_version": "1.5.0",
            "_view_count": null,
            "button_color": null,
            "font_weight": "",
            "_view_module_version": "1.2.0",
            "_model_module": "@jupyter-widgets/controls"
          }
        },
        "4c2f385f297543e39d34f496261efa2f": {
          "model_module": "@jupyter-widgets/base",
          "model_name": "LayoutModel",
          "model_module_version": "1.2.0",
          "state": {
            "_view_name": "LayoutView",
            "grid_template_rows": null,
            "right": null,
            "justify_content": null,
            "_view_module": "@jupyter-widgets/base",
            "overflow": null,
            "_model_module_version": "1.2.0",
            "_view_count": null,
            "flex_flow": null,
            "width": null,
            "min_width": null,
            "border": null,
            "align_items": null,
            "bottom": null,
            "_model_module": "@jupyter-widgets/base",
            "top": null,
            "grid_column": null,
            "overflow_y": null,
            "overflow_x": null,
            "grid_auto_flow": null,
            "grid_area": null,
            "grid_template_columns": null,
            "flex": null,
            "_model_name": "LayoutModel",
            "justify_items": null,
            "grid_row": null,
            "max_height": null,
            "align_content": null,
            "visibility": null,
            "align_self": null,
            "height": null,
            "min_height": null,
            "padding": null,
            "grid_auto_rows": null,
            "grid_gap": null,
            "max_width": null,
            "order": null,
            "_view_module_version": "1.2.0",
            "grid_template_areas": null,
            "object_position": null,
            "object_fit": null,
            "grid_auto_columns": null,
            "margin": null,
            "display": null,
            "left": null
          }
        },
        "b8571cef630e4426a12a5d82a6050de7": {
          "model_module": "@jupyter-widgets/base",
          "model_name": "LayoutModel",
          "model_module_version": "1.2.0",
          "state": {
            "_view_name": "LayoutView",
            "grid_template_rows": null,
            "right": null,
            "justify_content": null,
            "_view_module": "@jupyter-widgets/base",
            "overflow": null,
            "_model_module_version": "1.2.0",
            "_view_count": null,
            "flex_flow": null,
            "width": null,
            "min_width": null,
            "border": null,
            "align_items": null,
            "bottom": null,
            "_model_module": "@jupyter-widgets/base",
            "top": null,
            "grid_column": null,
            "overflow_y": null,
            "overflow_x": null,
            "grid_auto_flow": null,
            "grid_area": null,
            "grid_template_columns": null,
            "flex": null,
            "_model_name": "LayoutModel",
            "justify_items": null,
            "grid_row": null,
            "max_height": null,
            "align_content": null,
            "visibility": null,
            "align_self": null,
            "height": null,
            "min_height": null,
            "padding": null,
            "grid_auto_rows": null,
            "grid_gap": null,
            "max_width": null,
            "order": null,
            "_view_module_version": "1.2.0",
            "grid_template_areas": null,
            "object_position": null,
            "object_fit": null,
            "grid_auto_columns": null,
            "margin": null,
            "display": null,
            "left": null
          }
        }
      }
    }
  },
  "cells": [
    {
      "cell_type": "markdown",
      "metadata": {
        "id": "view-in-github",
        "colab_type": "text"
      },
      "source": [
        "<a href=\"https://colab.research.google.com/github/MontiMic/Tesi/blob/riordinato/Untitled1.ipynb\" target=\"_parent\"><img src=\"https://colab.research.google.com/assets/colab-badge.svg\" alt=\"Open In Colab\"/></a>"
      ]
    },
    {
      "cell_type": "markdown",
      "source": [
        "# Introduzione\n",
        "La seguente presentazione si propone di semplificare l'apprendimento di alcuni principi del calcolo probabilistico offrendo la possibilità di vedere applicare le leggi su grandi numeri e confrontando i risultati ottenuti con quelli attesi dalla teoria."
      ],
      "metadata": {
        "id": "yyLelI9l5lbc"
      }
    },
    {
      "cell_type": "markdown",
      "source": [
        "Di seguito includiamo le librerie che verranno utilizzate nel corso della presentazione:\n",
        "\n",
        "* **numpy** per la manipolazione dei dati\n",
        "\n",
        "* **interact** per rendere la presentazione interattiva offrendo la possibilità allo studente di scegliere gli input\n",
        "\n",
        "* **pyplot** per la rappresentazione grafica dei risultati"
      ],
      "metadata": {
        "id": "35yCw13F7Yam"
      }
    },
    {
      "cell_type": "code",
      "execution_count": 99,
      "metadata": {
        "id": "TAxUPZupC-qR"
      },
      "outputs": [],
      "source": [
        "import numpy as np\n",
        "from ipywidgets import interact, interact_manual\n",
        "from matplotlib import pyplot as plt\n",
        "import math"
      ]
    },
    {
      "cell_type": "markdown",
      "source": [
        "##Elementi di python"
      ],
      "metadata": {
        "id": "XN5Whz1Y9fiZ"
      }
    },
    {
      "cell_type": "markdown",
      "source": [
        "Questa sezione è rivolta unicamente a chi non avesse ancora mai visto il python, allo scopo di mostrare alcune pratiche peculiari a Python."
      ],
      "metadata": {
        "id": "yHNFMDrk9pHX"
      }
    },
    {
      "cell_type": "markdown",
      "source": [
        "La funzione np.zeros(n) restituisce un array di zeri lungo n"
      ],
      "metadata": {
        "id": "kXZd8nfHDkHj"
      }
    },
    {
      "cell_type": "code",
      "source": [
        "np.zeros(5)"
      ],
      "metadata": {
        "colab": {
          "base_uri": "https://localhost:8080/"
        },
        "id": "Pukdrzg7-ggY",
        "outputId": "3e5ec7bb-bb62-42b9-a6a4-ee3c57c5b494"
      },
      "execution_count": 100,
      "outputs": [
        {
          "output_type": "execute_result",
          "data": {
            "text/plain": [
              "array([0., 0., 0., 0., 0.])"
            ]
          },
          "metadata": {},
          "execution_count": 100
        }
      ]
    },
    {
      "cell_type": "markdown",
      "source": [
        "Specificando anche il type booleano facciamo una conversione: \n",
        "\n",
        "*  Gli zeri diventano False\n",
        "\n",
        "* I valori diversi da zero diventano True"
      ],
      "metadata": {
        "id": "VyLCyWeYDvuh"
      }
    },
    {
      "cell_type": "code",
      "source": [
        "esempio = np.zeros(10, dtype=np.bool)\n",
        "print(esempio)"
      ],
      "metadata": {
        "colab": {
          "base_uri": "https://localhost:8080/"
        },
        "id": "lO-15LDEDZEP",
        "outputId": "a07e289e-68a4-411c-9e25-95bebae9d668"
      },
      "execution_count": 101,
      "outputs": [
        {
          "output_type": "stream",
          "name": "stdout",
          "text": [
            "[False False False False False False False False False False]\n"
          ]
        }
      ]
    },
    {
      "cell_type": "markdown",
      "source": [
        "Useremo questo tipo di struttura dati per simulare praticamente tutto, dalla roulette (True = rosso, False = nero) ad un urna di palline (quando ci basteranno 2 soli colori delle palline)"
      ],
      "metadata": {
        "id": "t-fqP7KSEIUu"
      }
    },
    {
      "cell_type": "markdown",
      "source": [
        "Questa struttura dati ci offre inol"
      ],
      "metadata": {
        "id": "YS53XnBHNuxD"
      }
    },
    {
      "cell_type": "markdown",
      "source": [
        "Per modificare un array il python ci offre uno strumento molto potente: lo slicing. Questa funzionalità permette di intervenire su un qualunque sottoinsieme dell'array se usata correttamente. A noi basta sapere che in un caso come esempio[1:5:2], stiamo intervenendo sull'array esempio, prendendo gli elementi dalla posizione 1 (inclusa) alla posizione 5 (esclusa) con passo 2:"
      ],
      "metadata": {
        "id": "OEyj-K9iEeQa"
      }
    },
    {
      "cell_type": "code",
      "source": [
        "esempio = ['a', 'b', 'c', 'd', 'e']\n",
        "esempio[1:5:2]"
      ],
      "metadata": {
        "colab": {
          "base_uri": "https://localhost:8080/"
        },
        "id": "48oF9noGF3Np",
        "outputId": "1b0d8aa2-719e-4bc7-d90a-8d94ed20a413"
      },
      "execution_count": 102,
      "outputs": [
        {
          "output_type": "execute_result",
          "data": {
            "text/plain": [
              "['b', 'd']"
            ]
          },
          "metadata": {},
          "execution_count": 102
        }
      ]
    },
    {
      "cell_type": "markdown",
      "source": [
        "Non specificare il primo parametro significa partire dall'elemento 0, omettere il secondo significa procedere fino all'ultimo (compreso) e non specificare il passo significa passo 1: non saltare nessun elemento."
      ],
      "metadata": {
        "id": "Rm-4oAaOGvIL"
      }
    },
    {
      "cell_type": "markdown",
      "source": [
        "La funzione range(n) restituisce un iterabile lungo n. In python è generalmente usata nel ciclo for."
      ],
      "metadata": {
        "id": "b6PzabLwIH1d"
      }
    },
    {
      "cell_type": "code",
      "source": [
        "for i in range(5):\n",
        "  print(i)"
      ],
      "metadata": {
        "colab": {
          "base_uri": "https://localhost:8080/"
        },
        "id": "fdFx5oZPIaf5",
        "outputId": "62147a86-9fd8-4b89-d05b-8a64fcc785f8"
      },
      "execution_count": 103,
      "outputs": [
        {
          "output_type": "stream",
          "name": "stdout",
          "text": [
            "0\n",
            "1\n",
            "2\n",
            "3\n",
            "4\n"
          ]
        }
      ]
    },
    {
      "cell_type": "markdown",
      "source": [
        "##Funzioni utili"
      ],
      "metadata": {
        "id": "UdZaaBfKzjzX"
      }
    },
    {
      "cell_type": "markdown",
      "source": [
        "Quelle che seguono sono funzioni utilizzate in più test del documento, per il corretto funzionamento dei test successivi è necessario eseguire queste celle una volta."
      ],
      "metadata": {
        "id": "iZFqSjhypj_Y"
      }
    },
    {
      "cell_type": "code",
      "source": [
        "#funzione che genera una roulette simulata da un array lungo 37 di cui 18 valori contano come \"vittoria\"\n",
        "def mk_roulette():\n",
        "  ruota = np.zeros(37, dtype=np.bool)\n",
        "  ruota[1::2] = True\n",
        "  return ruota"
      ],
      "metadata": {
        "id": "4LJOZHxd810N"
      },
      "execution_count": 104,
      "outputs": []
    },
    {
      "cell_type": "code",
      "source": [
        "#funzione che simula una singola partita alla roulette (1 o più puntate uguali) e, dato il portafogli di partenza, torno il nuovo conto\n",
        "def partita(ruota, giocate, puntata, portafogli):\n",
        "  while(giocate > 0):\n",
        "      giocate = giocate - 1\n",
        "      portafogli = portafogli - puntata #la puntata la considero sempre persa, in caso di vittoria vinco il doppio della puntata\n",
        "      if(ruota[np.random.randint(0, (37))]): #estraggo un elemento casuale della roulette e verifico se è rosso\n",
        "        portafogli = portafogli + (puntata * 2)\n",
        "  return portafogli  "
      ],
      "metadata": {
        "id": "fqGFfq_CT7Tv"
      },
      "execution_count": 105,
      "outputs": []
    },
    {
      "cell_type": "code",
      "source": [
        "#funzione che simula un dado ritornando un intero compreso tra 1 e 6\n",
        "def trow():\n",
        "  return np.random.randint(1, 7)"
      ],
      "metadata": {
        "id": "O7NiHEewS99d"
      },
      "execution_count": 106,
      "outputs": []
    },
    {
      "cell_type": "code",
      "source": [
        "#funzione che ritorna un'urna contenente palline di 2 colori in quanità scelta\n",
        "def mk_urna(bianche, rosse):\n",
        "  tot = bianche + rosse\n",
        "  urna = np.zeros((tot, 1), dtype=np.bool)\n",
        "  while(rosse > 0):\n",
        "    rnd = np.random.randint(0, (tot))\n",
        "    if (not urna[rnd]):\n",
        "      urna[rnd] = True\n",
        "      rosse = rosse - 1\n",
        "  return urna"
      ],
      "metadata": {
        "id": "R06bqIr8Ii4G"
      },
      "execution_count": 107,
      "outputs": []
    },
    {
      "cell_type": "markdown",
      "source": [
        "##Interpretazione dei risultati"
      ],
      "metadata": {
        "id": "EbFr-wXap_mS"
      }
    },
    {
      "cell_type": "markdown",
      "source": [
        "I test di questo documento hanno lo scopo di mostrare che le formule viste con la teoria del calcolo probabilistico hanno un riscontro nella realtà. \n",
        "Ogni test simulerà per un numero di volte a discrezione dello studente, lo scenario descritto dall'esempio in esame. Si noti che un numero più alto di ripetizioni porterà a risultati più precisi."
      ],
      "metadata": {
        "id": "Mp5-2IqZqDex"
      }
    },
    {
      "cell_type": "code",
      "source": [
        "def moneta(lanci):\n",
        "  results = []\n",
        "  for i in range(lanci): #lanciamo la moneta tante volte quante indicate dal parametro \"lanci\"\n",
        "    results.append(np.random.randint(2))\n",
        "  #grafico\n",
        "  labels = []\n",
        "  normalized = []\n",
        "  normalized.append(round(((results.count(0) / lanci) * 100), 2)) #conto le istanze dei risultati e le normalizzo\n",
        "  normalized.append(round(100 - sum(normalized), 2)) #per evitare che per errori di arrotondamento la somma dei risultati sia 99.9%, l'ultimo risultato lo calcolo come 100 - (la somma dei precedenti)\n",
        "  for i in range(len(normalized)):\n",
        "    labels.append(str(normalized[i]) + \"%\") # aggiungo le labels (i valori riportati all'esterno del grafico)\n",
        "  plt.pie(normalized, labels=labels)\n",
        "  legenda = [\"Testa\", \"Croce\"]\n",
        "  plt.legend(legenda,loc='upper center', bbox_to_anchor=(0.5, -0.05), fancybox=True, shadow=True, ncol=5)"
      ],
      "metadata": {
        "id": "pZxUQQ-_rGuz"
      },
      "execution_count": 108,
      "outputs": []
    },
    {
      "cell_type": "code",
      "source": [
        "moneta(100)"
      ],
      "metadata": {
        "id": "7rynuIn1ubs4",
        "outputId": "58d91a07-0167-4f5d-8695-5d616300c077",
        "colab": {
          "base_uri": "https://localhost:8080/",
          "height": 282
        }
      },
      "execution_count": 109,
      "outputs": [
        {
          "output_type": "display_data",
          "data": {
            "image/png": "[encoded data removed]",
            "text/plain": [
              "<Figure size 432x288 with 1 Axes>"
            ]
          },
          "metadata": {}
        }
      ]
    },
    {
      "cell_type": "code",
      "source": [
        "moneta(10_000)"
      ],
      "metadata": {
        "id": "E6dWQdxUud7o",
        "outputId": "da6ea383-7a5c-4e1e-e81f-ee49dd36902b",
        "colab": {
          "base_uri": "https://localhost:8080/",
          "height": 282
        }
      },
      "execution_count": 110,
      "outputs": [
        {
          "output_type": "display_data",
          "data": {
            "image/png": "[encoded data removed]",
            "text/plain": [
              "<Figure size 432x288 with 1 Axes>"
            ]
          },
          "metadata": {}
        }
      ]
    },
    {
      "cell_type": "code",
      "source": [
        "moneta(1_000_000)"
      ],
      "metadata": {
        "id": "uNmo8_dXugoY",
        "outputId": "539ce4d6-5d7b-4353-ae6e-f65e360f59b6",
        "colab": {
          "base_uri": "https://localhost:8080/",
          "height": 282
        }
      },
      "execution_count": 111,
      "outputs": [
        {
          "output_type": "display_data",
          "data": {
            "image/png": "[encoded data removed]",
            "text/plain": [
              "<Figure size 432x288 with 1 Axes>"
            ]
          },
          "metadata": {}
        }
      ]
    },
    {
      "cell_type": "markdown",
      "source": [
        "Per un buon equilibrio tra accuratezza dei risultati e tempo di esecuzione impostiamo il numero di ripetizioni a 100 000 con la variabile \"precisione\"."
      ],
      "metadata": {
        "id": "0_jUagMkw72N"
      }
    },
    {
      "cell_type": "code",
      "source": [
        "precisione = 100_000"
      ],
      "metadata": {
        "id": "7YqOeAMoxunS"
      },
      "execution_count": 112,
      "outputs": []
    },
    {
      "cell_type": "markdown",
      "source": [
        "Si lascia allo studente la possibilità di incrementare questa variabile se desiderasse dei risultati più precisi."
      ],
      "metadata": {
        "id": "uH7_BXdBxvvq"
      }
    },
    {
      "cell_type": "markdown",
      "source": [
        "# Variabili aleatorie discrete"
      ],
      "metadata": {
        "id": "gQTrf-PK7FxE"
      }
    },
    {
      "cell_type": "markdown",
      "source": [
        "Una variabile aleatoria _X_ si dice discreta se i valori che assume sono finiti oppure numerabili.\n",
        "\n",
        "Nel caso siano numerabili molto spesso potremo pensare che siano semplicmente i numeri interi, ma non vogliamo escludere anche casi in cui abbiamo dei valori non interi."
      ],
      "metadata": {
        "id": "f7tQYrZgLgm2"
      }
    },
    {
      "cell_type": "markdown",
      "source": [
        "##Esempio 1.1 \n",
        "Faccio 3 puntate sul rosso alla roulette puntando 10 euro per volta, qual è la probabilità di vincere più di un certo valore _X_?\n",
        "\n",
        "(Le vincite possibili sono valori finiti ed è quindi una variabile discreta)"
      ],
      "metadata": {
        "id": "wO2wYqZ-DSZF"
      }
    },
    {
      "cell_type": "code",
      "source": [
        "@interact_manual(vincita=(0, 30))\n",
        "def roulette(vincita=5):\n",
        "  giocate = 3\n",
        "  puntata = 10\n",
        "  ruota = mk_roulette()\n",
        "  count = 0\n",
        "  for i in range(precisione):\n",
        "    portafogli = giocate * puntata\n",
        "    portafogli = partita(ruota, giocate, puntata, portafogli) #il portafogli viene aggiornato dopo aver simulato una partita\n",
        "    if((portafogli - 30) >= vincita): #se ho finito le 3 puntate con una vincita maggiore o uguale a quella sperata la aggiungo al conteggio\n",
        "      count = count + 1\n",
        "  return round(count / precisione, 3)"
      ],
      "metadata": {
        "colab": {
          "base_uri": "https://localhost:8080/",
          "height": 81,
          "referenced_widgets": [
            "aead205d04f5467696c8a07ee121a4a3",
            "bbc4fb87ed92450d9d9d86a3ab600781",
            "384b5aee95cf4118bc2b7a4d0b04eeb3",
            "a082883926f74c29a57fd777c9820a6a",
            "bddb99dc5e8b48f7b72548c40d8f4e0b",
            "250804f5152f4be69a37697fb8a92bc7",
            "0a7a3419d4494f38ab432fd29f5e2a9b",
            "c4addf6bf84648d8bce042a8b255f5bd",
            "01fec9e81296438a91c68e43a1ca53b5",
            "adf9d537a0434e38af6bea28c94864a7"
          ]
        },
        "id": "w2ugmhMy_cfa",
        "outputId": "ea8e350b-17e0-4244-ac73-5c0c40a43aa3"
      },
      "execution_count": 113,
      "outputs": [
        {
          "output_type": "display_data",
          "data": {
            "application/vnd.jupyter.widget-view+json": {
              "model_id": "aead205d04f5467696c8a07ee121a4a3",
              "version_minor": 0,
              "version_major": 2
            },
            "text/plain": [
              "interactive(children=(IntSlider(value=5, description='vincita', max=30), Button(description='Run Interact', st…"
            ]
          },
          "metadata": {}
        }
      ]
    },
    {
      "cell_type": "markdown",
      "source": [
        "##Esempio 1.2\n",
        "Dati il numero di puntate ed i soldi scommessi ogni volta, quanto mi dovrei aspettare di aver vinto alla fine? (risultato in euro)"
      ],
      "metadata": {
        "id": "tTOcRD2kD_zf"
      }
    },
    {
      "cell_type": "code",
      "source": [
        "@interact_manual(giocate=(1, 10), puntata=(5, 100, 5))\n",
        "def roulette(giocate = 3, puntata = 10):\n",
        "  portafogli = giocate * puntata * precisione\n",
        "  ruota = mk_roulette()\n",
        "  for i in range(precisione):\n",
        "    portafogli = partita(ruota, giocate, puntata, portafogli)\n",
        "  portafogli = portafogli / precisione\n",
        "  return round(portafogli - (giocate * puntata), 2)"
      ],
      "metadata": {
        "colab": {
          "base_uri": "https://localhost:8080/",
          "height": 113,
          "referenced_widgets": [
            "b285214d924446028278864b984521bb",
            "1097c3bd79474da48af2ae578a3e577a",
            "08c2c9fab1ac447fbc3cedcb8e62abfc",
            "54f06028e655477a8f5d505ac9825c50",
            "4ac30c00c16445248afb9a0d2863477c",
            "f47d5832598d4dfab96ddaa0c34a804e",
            "a291bee7c3ec4744a263566dfb4caa2b",
            "4de1d97905874e56a4d3a968a94c0a25",
            "fe108da400fe41848e312669e48e21f3",
            "f499750d74c84074938f2e9070fc9194",
            "c384ba2d2864416d848d97dfc41938bd",
            "e8031f49529341ec8c85cb4992c3cd77",
            "fc9ab0cd481542259b939a3b8c3e764e"
          ]
        },
        "id": "TR8QkEnHD-B2",
        "outputId": "9753f851-81fa-4f97-cf7f-54ac080782da"
      },
      "execution_count": 114,
      "outputs": [
        {
          "output_type": "display_data",
          "data": {
            "application/vnd.jupyter.widget-view+json": {
              "model_id": "b285214d924446028278864b984521bb",
              "version_minor": 0,
              "version_major": 2
            },
            "text/plain": [
              "interactive(children=(IntSlider(value=3, description='giocate', max=10, min=1), IntSlider(value=10, descriptio…"
            ]
          },
          "metadata": {}
        }
      ]
    },
    {
      "cell_type": "markdown",
      "source": [
        "# Distribuzione uniforme e non uniforme"
      ],
      "metadata": {
        "id": "qBnKgfwaLT9x"
      }
    },
    {
      "cell_type": "markdown",
      "source": [
        "Sia _A_ = {_x1_, . . . , _xn_}; una variabile _X_ che assume i valori in _A_ tutti con la stessa probabilità $\\frac{1}{n}$\n",
        "si dice _variabile uniforme_ su _A_. Scriviamo in questo caso _X_ ∼ _U_(_A_) oppure _X_ ∼ _U_(_x1_, . . . , _xn_).\n",
        "La densità è quindi:\n",
        "\n",
        "\\begin{equation}\n",
        "  px(h) =\n",
        "    \\begin{cases}\n",
        "           \\frac{1}{n} \\ se \\  h  \\ ∈ \\ ({x1}, {x2}, ..., {xn})\n",
        "          \\\\\n",
        "          0 \\ altrimenti\n",
        "        \\end{cases}\n",
        "\\end{equation}"
      ],
      "metadata": {
        "id": "GUQzPwZ8NK0Q"
      }
    },
    {
      "cell_type": "markdown",
      "source": [
        "##Esempio 2.1 \n",
        "Nel lancio di un dado sia Ω = {1, 2, 3, 4, 5, 6} l’insieme dei possibili risultati.\n",
        "Allora la funzione _X_(_n_) = n per ogni n ∈ Ω è una variabile aleatoria uniforme _X_ ∼ _U_(1, 2, 3, 4, 5, 6).\n"
      ],
      "metadata": {
        "id": "HJrqw0EbXj2l"
      }
    },
    {
      "cell_type": "code",
      "source": [
        "def dice():\n",
        "  results = []\n",
        "  for i in range(precisione):\n",
        "    results.append(trow()) #aggiungo il risultato del tiro alla lista dei risultati\n",
        "  #grafico\n",
        "  elem_count = []\n",
        "  labels = []\n",
        "  for i in range(len(set(results))): #conto le istanze di ogni risultato ottenuto ed aggiungo i totali a elem_count, poi lo metto a grafico\n",
        "    elem_count.append(results.count(i+1))\n",
        "    labels.append(str(i+1))\n",
        "  plt.bar(labels, elem_count)\n",
        "dice()"
      ],
      "metadata": {
        "colab": {
          "base_uri": "https://localhost:8080/",
          "height": 264
        },
        "id": "pO1ExmtATCeI",
        "outputId": "07338935-2ebe-413d-b4f9-3e7174a651b1"
      },
      "execution_count": 115,
      "outputs": [
        {
          "output_type": "display_data",
          "data": {
            "image/png": "[encoded data removed]",
            "text/plain": [
              "<Figure size 432x288 with 1 Axes>"
            ]
          },
          "metadata": {
            "needs_background": "light"
          }
        }
      ]
    },
    {
      "cell_type": "markdown",
      "source": [
        "##Esempio 2.2\n",
        "Se invece lanciassimo due dadi, la variabile _X_ che assume un valore corrispondente al numero di risultati pari ottenuti dal lancio sarebbe una _variabile non uniforme_ siccome la sua densità sarebbe:\n",
        "\n",
        "\\begin{equation}\n",
        "  py(h) =\n",
        "    \\begin{cases}\n",
        "          \\frac{1}{4} \\  h={0},{2}\n",
        "          \\\\\n",
        "          \\frac{1}{2} \\ h={1}\n",
        "          \\\\\n",
        "          0 \\ altrimenti\n",
        "        \\end{cases}\n",
        "\\end{equation}"
      ],
      "metadata": {
        "id": "BZUNA1OvaQp6"
      }
    },
    {
      "cell_type": "code",
      "source": [
        "def even_dices():\n",
        "  results = []\n",
        "  for i in range(precisione):\n",
        "    a, b = trow(), trow() #lancio due dadi, poi conterò quanti sono pari per aggiungere il risultato alla lista\n",
        "    results.append(2-((a % 2)+(b % 2))) #conto i dadi pari come due meno i dadi dispari (n%2 = 1 per n dispari, 0 altrimenti)\n",
        "  valori = []\n",
        "  normalized = []\n",
        "  for i in range(3): #conto le istanze dei risultati e le divido per il numero di risultati totale (normalizzo)\n",
        "    normalized.append(results.count(i) / len(results)) #len(results) torna la lunghezza della lista results\n",
        "    valori.append(\"k=\" + str(i))\n",
        "  plt.pie(normalized, labels=valori)\n",
        "even_dices()"
      ],
      "metadata": {
        "colab": {
          "base_uri": "https://localhost:8080/",
          "height": 247
        },
        "id": "Ly_UKZkxZr2J",
        "outputId": "732b2813-67d6-40cf-e2b4-8fcb20c762b8"
      },
      "execution_count": 116,
      "outputs": [
        {
          "output_type": "display_data",
          "data": {
            "image/png": "[encoded data removed]",
            "text/plain": [
              "<Figure size 432x288 with 1 Axes>"
            ]
          },
          "metadata": {}
        }
      ]
    },
    {
      "cell_type": "markdown",
      "source": [
        "#Densità binomiale"
      ],
      "metadata": {
        "id": "qimeQspadWgq"
      }
    },
    {
      "cell_type": "markdown",
      "source": [
        "Consideriamo un fenomeno aleatorio e un certo evento ad esso associato. Per semplicità diciamo che se l’evento si realizza otteniamo un “successo”, viceversa che abbiamo ottenuto un “insuccesso\".\n",
        "Uno schema successo-insuccesso consiste nel ripetere questo fenomeno un certo fissato numero di volte, dette anche prove o tentativi, in cui siamo interessati unicamente al numero di successi ottenuti\n",
        "nelle varie prove.\n",
        "Supponiamo ora che le prove siano indipendenti l’una dall’altra, cioè vengono effettuate tuttevnelle medesime condizioni, indipendentemente dal risultato delle prove precedenti: parliamo in questo caso di schema successo-insuccesso con ripetizione o a prove indipendenti. Consideriamo\n",
        "quindi la variabile X data dal numero di successi in n tentativi.\n",
        "Nel caso in cui le prove siano indipendenti l’una dall’altra, la probabilità di ottenere una certa prefissata sequenza di successi e insuccessi dipende solo dal numero di questi ultimi e non dall’ordine con cui vogliamo che si succedano. La probabilità di ottenere una sequenza fissata in cui abbiamo k successi e n − k insuccessi è data da\n",
        "$p^k(1-p)^{n-k}$, dove p è la probabilità che ogni singolo tentativo abbia successo. Siccome i modi in cui possiamo scegliere le k posizioni per i successi sono date da ${n\\choose k}$ otteniamo per la variabile X la densità data da\n",
        "\n",
        "\\begin{equation}\n",
        "  px(k) =\n",
        "    \\begin{cases}\n",
        "          {n\\choose k} p^k(1-p)^{n-k} \\ se \\ k=1,2,...,n\n",
        "          \\\\\n",
        "          0 \\ altrimenti\n",
        "        \\end{cases}\n",
        "\\end{equation}\n",
        "\n",
        "\n",
        "Scriveremo in questo caso _X_ ∼ _B_(_n_, _p_) e diciamo che _X_ è una variabile binomiale."
      ],
      "metadata": {
        "id": "OUh7jiOk7WSD"
      }
    },
    {
      "cell_type": "markdown",
      "source": [
        "##Esempio 3.1\n",
        "\n",
        "Supponiamo di andare al casinò con 15 Euro e puntiamo 3 volte 5 Euro alla roulette sul rosso. Consideriamo la variabile aleatoria X data dai soldi che abbiamo in tasca alla fine delle 3 puntate. La probabilità di ottenere un numero rosso è di $\\frac{18}{37}$ ad ogni tentativo.\n",
        "Determinare la densità di X.\n",
        "La variabile X può assumere i valori 30, 20, 10, 0 a seconda di quanti rossi sono usciti. Abbiamo:\n",
        "\n",
        "P(X = 30) = $(\\frac{18}{37})^3$ = 0,115\n",
        "\n",
        "P(X = 20) = ${3\\choose 1}(\\frac{18}{37})^2 · \\frac{19}{37}$= 0, 365\n",
        "\n",
        "P(X = 10) = ${3\\choose 2}(\\frac{18}{37}) · (\\frac{19}{37})^2$ = 0,385\n",
        "\n",
        "P(X = 0) = $(\\frac{19}{37})^3$ = 0,135\n"
      ],
      "metadata": {
        "id": "O8PjzahWhrRr"
      }
    },
    {
      "cell_type": "code",
      "source": [
        "@interact_manual(giocate=(1, 6), puntata=(5, 100, 5))\n",
        "def roulette(giocate = 3, puntata = 5):\n",
        "  ruota = mk_roulette()\n",
        "  results = []\n",
        "  for i in range(precisione):\n",
        "    portafogli = giocate * puntata\n",
        "    portafogli = partita(ruota, giocate, puntata, portafogli)\n",
        "    results.append(portafogli)\n",
        "  #grafico\n",
        "  normalized = []\n",
        "  valori = []\n",
        "  for i in range(giocate):\n",
        "    normalized.append(round(((results.count(puntata*2*i) / precisione) * 100), 2)) #conto le istanze dei risultati e le normalizzo\n",
        "  normalized.append(round(100 - sum(normalized), 2)) #per evitare che per errori di arrotondamento la somma dei risultati sia 99.9%, l'ultimo risultato lo calcolo come 100 - (la somma dei precedenti)\n",
        "  labels = []\n",
        "  for i in range(len(normalized)):\n",
        "    labels.append(str(normalized[i]) + \"%\") # aggiungo le labels (i valori riportati all'esterno del grafico)\n",
        "  plt.pie(normalized, labels=labels)\n",
        "  legenda = []\n",
        "  for i in range(len(normalized)):\n",
        "    legenda.append(str(puntata*2*i))\n",
        "  plt.legend(legenda,loc='upper center', bbox_to_anchor=(0.5, -0.05), fancybox=True, shadow=True, ncol=5)"
      ],
      "metadata": {
        "id": "QDB96jXivO40",
        "outputId": "b024c890-e967-4f47-b905-f8a9e73f0b01",
        "colab": {
          "base_uri": "https://localhost:8080/",
          "height": 113,
          "referenced_widgets": [
            "77c7d5c8a80946728961d2371032c7e2",
            "d8138ef670224fb892f55acc5636a100",
            "809901421d2345529b6ee18b1dd9aa0e",
            "f860192ab04c4ffd999f8901b0c9f60d",
            "ea50cea0e28b437caa3d611d77674fac",
            "eb370c40aca5464297b00bf975bcc9c3",
            "e8dca66dc083434c9b5f42a8c4b1affd",
            "94aaffbea1f44ccd869017c2ae6e568f",
            "888095d3db1e4b5e95c6ddc911f3f149",
            "8b572fb50c364f0d8b4d5dd403bf2c91",
            "959dac1459784a8684d4b5e08a4d8b81",
            "1170ff00a56140a08b9208684d132472",
            "b89172a4f7274b4085a335d4d4dbb41c"
          ]
        }
      },
      "execution_count": 117,
      "outputs": [
        {
          "output_type": "display_data",
          "data": {
            "application/vnd.jupyter.widget-view+json": {
              "model_id": "77c7d5c8a80946728961d2371032c7e2",
              "version_minor": 0,
              "version_major": 2
            },
            "text/plain": [
              "interactive(children=(IntSlider(value=3, description='giocate', max=6, min=1), IntSlider(value=5, description=…"
            ]
          },
          "metadata": {}
        }
      ]
    },
    {
      "cell_type": "markdown",
      "source": [
        "# Densità ipergeometrica"
      ],
      "metadata": {
        "id": "9PjQr8MmCUYu"
      }
    },
    {
      "cell_type": "markdown",
      "source": [
        "\n",
        "Un altro tipo di schema successo-insuccesso è il cosiddetto schema successo-insuccesso _senza ripetizione_. In questo caso il fenomeno aleatorio consiste nell’estrazione di n palline, senza rimpiazzare di volta in volta la pallina estratta, da un'urna contenente b palline bianche e r palline rosse.\n",
        "Diciamo che la prova (estrazione) dà successo se viene estratta una pallina bianca e consideriamo la variabile X data dal numero di successi ottenuti, cioè dal numero di palline bianche estratte.\n",
        "\n",
        "\n",
        "Osserviamo che X può assumere tutti i valori tra max(0, n − r) e min(n, b): infatti se n > r siamo sicuri di pescare almeno n−r palline bianche e chiaramente il numero di bianche estratte non può superare nè il numero estrazioni nè il numero di palline bianche.\n",
        "\n",
        "Lo spazio Ω è dato da tutti i possibili sottoinsiemi di n oggetti (le palline estratte) scelti da un insieme di b + r oggetti (le palline\n",
        "disponibili), con probabilità uniforme. L’evento “X = k” è dato quindi da tutti i sottoinsiemi delle b + r palline costituiti da k palline bianche e n − k palline rosse. Le k bianche le posso scegliere in ${b\\choose k}$ modi. Le n − k rosse in ${r \\choose {n - k}}$ modi. Abbiamo quindi che la densità di X è data da\n",
        "\n",
        "\\begin{equation}\n",
        "  px(k) =\n",
        "    \\begin{cases}\n",
        "          \\frac{{b \\choose k} · {r \\choose n - k}}{b + r \\choose n} \\ se \\ k=max(0, n-r),...,min(n,b)\n",
        "          \\\\\n",
        "          0 \\ altrimenti\n",
        "        \\end{cases}\n",
        "\\end{equation}\n",
        "\n",
        "Scriviamo in questo caso X ∼ H(n; b, r) e diciamo che X è una variabile ipergeometrica."
      ],
      "metadata": {
        "id": "OnLdbdQjCbyl"
      }
    },
    {
      "cell_type": "markdown",
      "source": [
        "##Esempio 4.1\n",
        "Un’urna contiene 8 palline bianche e 2 rosse. Ne estraiamo 3 senza rimpiazzo.\n",
        "Qual è la probabilità di estrarne al più una rossa? In questo caso, a differenza del precedente abbiamo che la variabile X = numero di rosse estratte è una ipergeometrica X ∼ H(3; 2, 8) per\n",
        "cui\n",
        "\n",
        "P(_X_ ≤ 1) = P(_X_ = 0) + P(_X_ = 1) = $\\frac{{2 \\choose 0}·{8 \\choose 3}}{10 \\choose 3}$ + $\\frac{{2 \\choose 1}·{8 \\choose 2}}{10 \\choose 3}$ = $\\frac{14}{15}$ = 0.933"
      ],
      "metadata": {
        "id": "mqqc2UiZGaIY"
      }
    },
    {
      "cell_type": "code",
      "source": [
        "@interact_manual(estrazioni=(1, 10))\n",
        "def ipergeometrica(estrazioni=3):\n",
        "  bianche = 8\n",
        "  rosse = 2\n",
        "  urna = mk_urna(bianche, rosse)\n",
        "  results = 0\n",
        "  for i in range(precisione):\n",
        "    tmp = urna\n",
        "    count = 0\n",
        "    for i in range(estrazioni):\n",
        "      extr = np.random.randint(0, ((bianche + rosse)-i))\n",
        "      if(tmp[extr]):\n",
        "        count = count + 1\n",
        "      tmp = np.delete(tmp, extr)\n",
        "    if(count < 2):\n",
        "      results = results + 1  \n",
        "  return round(results / precisione, 3)"
      ],
      "metadata": {
        "id": "R0SjK_tkMtDv",
        "colab": {
          "base_uri": "https://localhost:8080/",
          "height": 98,
          "referenced_widgets": [
            "9778b27f4f3f4fefaadc888ac4bab1bf",
            "ffbb58f46b4b43ca8f0a4ddca7723fc2",
            "a0d501fe18ba4dd988856be4ae146dda",
            "891113759c8040918f1dc7a1fa67e895",
            "530328ea5b4d400cb1eb8149a1f53f70",
            "6f83eaecb89840868df0073be18605c2",
            "976bbc9f046f47b999de02fde9d03ac0",
            "2e9515daaf2b45138c95bcc9d6c5e63c",
            "71b4185849fc46c39bbc6387ec51d88d",
            "a1a56feaeb0047e9afc3744d2413f461"
          ]
        },
        "outputId": "eff96c02-2d9e-420f-c1dc-e922dc9b990d"
      },
      "execution_count": 118,
      "outputs": [
        {
          "output_type": "display_data",
          "data": {
            "application/vnd.jupyter.widget-view+json": {
              "model_id": "9778b27f4f3f4fefaadc888ac4bab1bf",
              "version_minor": 0,
              "version_major": 2
            },
            "text/plain": [
              "interactive(children=(IntSlider(value=3, description='estrazioni', max=10, min=1), Button(description='Run Int…"
            ]
          },
          "metadata": {}
        }
      ]
    },
    {
      "cell_type": "markdown",
      "source": [
        "#Densità geometrica - geometrica modificata"
      ],
      "metadata": {
        "id": "-GtoecXjUH1e"
      }
    },
    {
      "cell_type": "markdown",
      "source": [
        "In uno schema successo-insuccesso, anzichè al numero di successi ottenuti su n tentativi, potremmo essere interessati al numero di tentativi che devo effettuare prima di ottenere un successo."
      ],
      "metadata": {
        "id": "YBirGuNoUKbB"
      }
    },
    {
      "cell_type": "markdown",
      "source": [
        "##Esempio 5.1\n",
        "\n",
        "Consideriamo un’urna con 2 palline bianche e 3 rosse. Le estraggo senza\n",
        "rimpiazzo finchè non trovo una pallina rossa. Considero la variabile aleatoria X=numero di estrazioni per trovare una pallina rossa. X è una variabile finita in quanto assume solo i valori 1, 2, 3.\n",
        "La sua densità si determina facilmente ed è data da\n",
        "\n",
        "\\begin{equation}\n",
        "  px(k) =\n",
        "    \\begin{cases}\n",
        "          \\frac{6}{10} \\ se \\ k=1\n",
        "          \\\\\n",
        "          \\frac{3}{10} \\ se \\ k=2\n",
        "          \\\\\n",
        "          \\frac{1}{10} \\ se \\ k=3\n",
        "          \\\\\n",
        "          0 \\ altrimenti\n",
        "        \\end{cases}\n",
        "\\end{equation}\n",
        "\n"
      ],
      "metadata": {
        "id": "aXX1PJQLUX9Z"
      }
    },
    {
      "cell_type": "code",
      "source": [
        "@interact_manual(bianche=(1,5), rosse=(1, 5))\n",
        "def geometrica(bianche=2, rosse=3):\n",
        "  palle = mk_urna(bianche, rosse)\n",
        "  results = []\n",
        "  count=0\n",
        "  while(len(results) < precisione):\n",
        "    done = len(results)\n",
        "    tmp = palle\n",
        "    while(len(results) == done):\n",
        "      extr = np.random.randint(0, ((bianche+rosse)-count))\n",
        "      if(tmp[extr]):\n",
        "        results.append(count)\n",
        "        count=0\n",
        "      else:  \n",
        "        tmp = np.delete(tmp,extr)\n",
        "        count = count + 1\n",
        "  #grafico\n",
        "  labels = []\n",
        "  normalized = []\n",
        "  for i in range(len(set(results)) - 1): #len(set(n)) torna il numero di risultati distinti presenti in results\n",
        "    normalized.append(round(((results.count(i) / precisione) * 100), 2)) #conto le istanze dei risultati e le normalizzo\n",
        "  normalized.append(round(100 - sum(normalized), 2)) #per evitare che per errori di arrotondamento la somma dei risultati sia 99.9%, l'ultimo risultato lo calcolo come 100 - (la somma dei precedenti)\n",
        "  for i in range(len(normalized)):\n",
        "    labels.append(str(normalized[i]) + \"%\") # aggiungo le labels (i valori riportati all'esterno del grafico)\n",
        "  plt.pie(normalized, labels=labels)\n",
        "  legenda = []\n",
        "  for i in range(bianche + 1):\n",
        "    legenda.append(\"k=\"+str(i+1))\n",
        "  plt.legend(legenda,loc='upper center', bbox_to_anchor=(0.5, -0.05), fancybox=True, shadow=True, ncol=5)"
      ],
      "metadata": {
        "colab": {
          "base_uri": "https://localhost:8080/",
          "height": 377,
          "referenced_widgets": [
            "8ea420308cde4e7eb5b756b768521446",
            "a498b64faa154f2987fe7df6f53cb147",
            "04b080a2abbd4dcf890c9290a4bfd7e0",
            "e496dc3723874e1faf45ee6d7c0a6fde",
            "cc5577bced1b4d868d1e19b5ee75806a",
            "9fcd4b4644d9410ca574d6890c6c3a6b",
            "1a9759d65780495785ff43c26c4621cd",
            "e5e0c70b9e7a44ccb0726f495a6f345e",
            "aa5cef13a32f4f37822c5c21da116b52",
            "1f67a77843e24e1c9674a773591ae940",
            "aca9d240cebf44f5999fb4b95f151c2e",
            "32c7d6dca3044470b36dc38ed80e6272",
            "0ee01306eaef4d9a80d83252343c685f"
          ]
        },
        "id": "5tLgoNi7f2YM",
        "outputId": "e656a350-e4c4-4652-d847-8e27d9bc8fe7"
      },
      "execution_count": 119,
      "outputs": [
        {
          "output_type": "display_data",
          "data": {
            "application/vnd.jupyter.widget-view+json": {
              "model_id": "8ea420308cde4e7eb5b756b768521446",
              "version_minor": 0,
              "version_major": 2
            },
            "text/plain": [
              "interactive(children=(IntSlider(value=2, description='bianche', max=5, min=1), IntSlider(value=3, description=…"
            ]
          },
          "metadata": {}
        }
      ]
    },
    {
      "cell_type": "markdown",
      "source": [
        "##Esempio 5.2\n",
        "\n",
        "Ripetiamo l'esperimento precedente, ma questa volta rimpiazziamo la pallina ad ogni estrazione. La variabile X diventa numerabile e si ha\n",
        "\n",
        "\\begin{equation}\n",
        "  px(k) =\n",
        "    \\begin{cases}\n",
        "          (\\frac{2}{5})^{k-1}\\frac{3}{5} \\ se \\ k=1,2,3,...\n",
        "          \\\\\n",
        "          0 \\ altrimenti\n",
        "        \\end{cases}\n",
        "\\end{equation}\n",
        "\n",
        "Infatti richiedere X = k vuol dire aver ottenuto k − 1 insuccessi nei primi k − 1 tenativi (ognuno con probabilità $\\frac{2}{5}$) per poi finalmente ottenere un successo al k-esimo tentativo (con probabilità $\\frac{3}{5}$)"
      ],
      "metadata": {
        "id": "DPSi8KkVKH60"
      }
    },
    {
      "cell_type": "code",
      "source": [
        "@interact_manual(bianche=(1,5), rosse=(1, 5))\n",
        "def geometrica_mod(bianche=2, rosse=3):\n",
        "  palle = mk_urna(bianche, rosse)\n",
        "  results = []\n",
        "  count=0\n",
        "  while(len(results) < precisione):\n",
        "    done = len(results)\n",
        "    tmp = palle\n",
        "    while(len(results) == done):\n",
        "      extr = np.random.randint(0, (bianche+rosse))\n",
        "      if(tmp[extr]):\n",
        "        results.append(count)\n",
        "        count=0\n",
        "      else:  \n",
        "        count = count + 1\n",
        "  \n",
        "  #grafico risultati\n",
        "  labels = []\n",
        "  normalized = []\n",
        "  for i in range(len(set(results))): \n",
        "    normalized.append(round(((results.count(i) / precisione) * 100), 2))\n",
        "  for i in range(len(set(results))):\n",
        "    labels.append(str(i+1))\n",
        "  \n",
        "  #grafico teorico\n",
        "  teoria = []\n",
        "  for i in range(len(set(results))):\n",
        "    teoria.append(((bianche / (bianche + rosse))**(i)) * (rosse / (bianche + rosse)) * 100)\n",
        "\n",
        "  lab_arr = np.arange(len(labels))\n",
        "\n",
        "  w=0.4\n",
        "  plt.bar(lab_arr-(w/2), normalized, width=w)\n",
        "  plt.bar(lab_arr+(w/2), teoria, width=w)\n",
        "  plt.ylabel(\"Percentage\")\n",
        "  plt.xlabel(\"K\")\n",
        "  legenda = [\"Risultati ottenuti\", \"Risultati attesi\"]\n",
        "  plt.legend(legenda,loc='upper center', bbox_to_anchor=(0.5, -0.05), fancybox=True, shadow=True, ncol=5)"
      ],
      "metadata": {
        "colab": {
          "base_uri": "https://localhost:8080/",
          "height": 377,
          "referenced_widgets": [
            "42a409c76aa540489ba60084c67aa52c",
            "48ec58848d0b454c9f72a0c2738c1dd8",
            "1cefe16539a2496d88871910cc21903b",
            "c81891726c734f0f8dc6ef5b0bad89ce",
            "65412102b7034be7b64aa90db2e1ae56",
            "9cdb2603034c41bc916b069f523307be",
            "0fe982cbfe3043c7abf9bb10ef6ae8c8",
            "ff6bac87f09d45aca556b50c19ddaedc",
            "afab767f7362428bba6c76ef238d8b49",
            "6cb577db8e6a4163aab6550c182fe329",
            "df107d7033594cd99e7141cc3a6824d8",
            "4c2f385f297543e39d34f496261efa2f",
            "b8571cef630e4426a12a5d82a6050de7"
          ]
        },
        "id": "p-e8XTgnsSgC",
        "outputId": "b3b88f15-2083-4b25-b704-85f5d7a4f10e"
      },
      "execution_count": 120,
      "outputs": [
        {
          "output_type": "display_data",
          "data": {
            "application/vnd.jupyter.widget-view+json": {
              "model_id": "42a409c76aa540489ba60084c67aa52c",
              "version_minor": 0,
              "version_major": 2
            },
            "text/plain": [
              "interactive(children=(IntSlider(value=2, description='bianche', max=5, min=1), IntSlider(value=3, description=…"
            ]
          },
          "metadata": {}
        }
      ]
    },
    {
      "cell_type": "markdown",
      "source": [
        "Quello appena visto è un esempio di _densità geometrica modificata_ che scriveremo come T ∼ Ḡ(_p_).\n",
        "\n",
        "Quando si parla di densità geometrica modificata? \n",
        "\n",
        "Si consideri uno schema successo-insuccesso con ripetizioni e prendiamo in esame la variabile T data dal tempo di primo successo. \n",
        "Se chiamiamo _Xi_ le variabili _B_(1, _p_) date da _Xi_ = 1 se l’i-esimo tentativo dà successo e _Xi_  = 0 altrimenti abbiamo come densità\n",
        "\n",
        "\\begin{equation}\n",
        "  px(k) =\n",
        "    \\begin{cases}\n",
        "          p(1-p)^{k-1} \\ se \\ k=1,2,3,...\n",
        "          \\\\\n",
        "          0 \\ altrimenti\n",
        "        \\end{cases}\n",
        "\\end{equation}"
      ],
      "metadata": {
        "id": "u9PHD5qa-xdK"
      }
    },
    {
      "cell_type": "markdown",
      "source": [
        "##Esempio 5.3\n",
        "\n",
        "Si lancino simultaneamente due dadi, uno rosso e uno blu. Ripetiamo questo\n",
        "esperimento finchè non otteniamo due 6. \n",
        "\n",
        "Poniamo X = primo lancio in cui il dado rosso ha dato 6,\n",
        "Y = primo lancio in cui il dado blu ha dato 6.\n",
        "\n",
        "\n",
        "Determinare inoltre la probabilità di ottenere 6 con il dado rosso prima di ottenere 6 con il dado blu.\n",
        "\n",
        "Abbiamo\n",
        "\n",
        "\\begin{equation}\n",
        "  1 = P(X < Y) + P(X > Y) + P(X = Y)\n",
        "\\end{equation}\n",
        "\n",
        "\\\\\n",
        "e chiaramente per simmetria del problema _P_(_X_ < _Y_) = _P_(_X_ > _Y_) da cui\n",
        "\n",
        "\\\\\n",
        "\n",
        "\\begin{equation}\n",
        "  P(X < Y)= \\frac {1-P(X = Y)}{2}\n",
        "\\end{equation}\n",
        "\n",
        "Ci basterà calcolare quindi _P_(_X_ =_Y_):\n",
        "\n",
        "\\\\\n",
        "\n",
        "\\begin{equation}\n",
        "  P(X = Y) = \\sum_{k=1}^\\infty P(X = Y = k) = \\sum_{k=1}^\\infty (\\frac{25}{36})^{k-1}·\\frac{1}{36} = \\frac{1}{1-\\frac{25}{36}}·\\frac{1}{36} = \\frac{1}{11}\n",
        "\\end{equation}\n",
        "\n",
        "\n",
        "dove abbiamo ancora utilizzato la somma di una serie geometrica, e quindi\n",
        "\n",
        "\\\\\n",
        "\n",
        "\\begin{equation}\n",
        "  P(X < Y) = \\frac{5}{11}\n",
        "\\end{equation}\n"
      ],
      "metadata": {
        "id": "yQRcoTTQmPxD"
      }
    },
    {
      "cell_type": "code",
      "source": [
        "def first_six():\n",
        "  num = 6\n",
        "  results = []\n",
        "  for i in range(precisione):\n",
        "    a, b = 0, 0\n",
        "    while a != num and b != num:\n",
        "      a, b = trow(), trow() \n",
        "      if a == num:\n",
        "        if b == num:\n",
        "          results.append(0)\n",
        "        else:\n",
        "          results.append(1)\n",
        "      if b == num:\n",
        "        results.append(2)  \n",
        "  #grafico\n",
        "  labels = []\n",
        "  normalized = []\n",
        "  myexplode = [0, 0.2, 0]\n",
        "  for i in range(len(set(results)) - 1): #len(set(n)) torna il numero di risultati distinti presenti in results\n",
        "    normalized.append(round(((results.count(i) / precisione) * 100), 2)) #conto le istanze dei risultati e le normalizzo\n",
        "  normalized.append(round(100 - sum(normalized), 2)) #per evitare che per errori di arrotondamento la somma dei risultati sia 99.9%, l'ultimo risultato lo calcolo come 100 - (la somma dei precedenti)\n",
        "  for i in range(len(normalized)):\n",
        "    labels.append(str(normalized[i]) + \"%\") # aggiungo le labels (i valori riportati all'esterno del grafico)\n",
        "\n",
        "  teoria = [1/11, 5/11, 5/11]\n",
        "  lab_teoria = [\"9.09%\", \"45.45%\", \"45.45%\"]\n",
        "\n",
        "  f, (ax1, ax2) = plt.subplots(1, 2)\n",
        "  ax1.pie(normalized, labels=labels,explode=myexplode, colors=[\"green\", \"red\", \"blue\"], shadow=True)\n",
        "  ax1.set_title(\"Risultati ottenuti\")\n",
        "  ax2.pie(teoria, labels=lab_teoria,explode=myexplode, colors=[\"green\", \"red\", \"blue\"], shadow=True)\n",
        "  ax2.set_title(\"Risultati attesi\")\n",
        "  \n",
        "  legenda = [\"X=Y\", \"X<Y\", \"X>Y\"]\n",
        "  ax1.legend(legenda,loc='upper left', bbox_to_anchor=(0.5, -0.05), fancybox=True, shadow=True, ncol=5)\n",
        "\n",
        "first_six()"
      ],
      "metadata": {
        "colab": {
          "base_uri": "https://localhost:8080/",
          "height": 230
        },
        "id": "6P-rc7pzfODB",
        "outputId": "99503bbf-9651-4dd2-85a2-f81d1b44230e"
      },
      "execution_count": 121,
      "outputs": [
        {
          "output_type": "display_data",
          "data": {
            "image/png": "[encoded data removed]",
            "text/plain": [
              "<Figure size 432x288 with 2 Axes>"
            ]
          },
          "metadata": {}
        }
      ]
    },
    {
      "cell_type": "markdown",
      "source": [
        "#Densità di Poisson"
      ],
      "metadata": {
        "id": "hPfoVQ4tzLLR"
      }
    },
    {
      "cell_type": "markdown",
      "source": [
        "Se consideriamo una variabile binomiale _X_ ∼ _B_(_n_, _p_) in cui il numero _n_ di tentativi è molto grande e il parametro _p_ molto piccolo fare i conti con la densità binomiale risulta essere computazionalmente dispendioso. \n",
        "\n",
        "Facciamo un esempio:"
      ],
      "metadata": {
        "id": "7WQ9L3IXzNQo"
      }
    },
    {
      "cell_type": "markdown",
      "source": [
        "##Esempio 6.1\n",
        "\n",
        "Supponiamo che in una città nascano 10 000 bambini ogni anno e che ci\n",
        "sia una malattia rara che colpisce un bambino su 2 mila. Qual è la probabilità che quest’anno nascano più di 5 bambini affetti da questa malattia? \n",
        "\n",
        "La variabile _X_ = ”numero di bambini nati con questa malattia quest’anno” è una variabile binomiale _X_ = _B_($10^4$, $\\frac{1}{2000}$). Tuttavia se\n",
        "proviamo ad effettuare il calcolo _P_(_X_ > 5), anche se abbiamo una formula esatta per effettuarlo, è inevitabilmente molto complesso.\n"
      ],
      "metadata": {
        "id": "VD0JenT7zaOx"
      }
    },
    {
      "cell_type": "markdown",
      "source": [
        "Per risolvere questo tipo di problema introduciamo la seguente\n",
        "\n",
        "\\\\\n",
        "\\begin{equation}\n",
        "  p(k) =\n",
        "    \\begin{cases}\n",
        "          e^{-λ} \\frac{λ^k}{k!} \\ se \\ k=0,1,2,...\n",
        "          \\\\\n",
        "          0 \\ altrimenti\n",
        "        \\end{cases}\n",
        "\\end{equation}\n",
        "\n",
        "\\\\\n",
        "\n",
        "dove λ è un parametro reale strettamente positivo."
      ],
      "metadata": {
        "id": "-07DvPlK0SRP"
      }
    },
    {
      "cell_type": "markdown",
      "source": [
        "Nel nostro esempio possiamo pensare alla variabile _X_ come ad una variabile di Poisson di parametro 5. \n",
        "\n",
        "Otteniamo:\n",
        "\n",
        "\\begin{equation}\n",
        "  P(X > 5) = 1 − P(X = 0) − P(X = 1) − P(X = 2) − P(X = 3) − P(X = 4) \n",
        "  \\\\\n",
        "  = 1 − e^{−5}(1 + 5 + \\frac{25}{2} + \\frac{125}{6} + \\frac{625}{24} + \\frac{3125}{120}) = 0, 384.\n",
        "\\end{equation}"
      ],
      "metadata": {
        "id": "fHA5WLXr2VKr"
      }
    },
    {
      "cell_type": "markdown",
      "source": [
        "Nella simulazione riportata sono simulati 100 anni, ripetendo l'esperimento si aggiungono i risultati dei test successivi e si può osservare come il grafico dei risultati ottenuti si avvicini a quello dei risultati attesi."
      ],
      "metadata": {
        "id": "aQ3YUomoewtG"
      }
    },
    {
      "cell_type": "code",
      "source": [
        "res_poisson = []"
      ],
      "metadata": {
        "id": "niF9fNy-AGHk"
      },
      "execution_count": 122,
      "outputs": []
    },
    {
      "cell_type": "code",
      "source": [
        "def poisson():\n",
        "  bambini = 10_000\n",
        "  malattia = 2_000\n",
        "  for i in range(100):\n",
        "    count = 0\n",
        "    for i in range(bambini):\n",
        "      if np.random.randint(malattia) == 1:\n",
        "        count = count + 1\n",
        "    res_poisson.append(count)\n",
        "\n",
        "  #grafico risultati\n",
        "  labels = []\n",
        "  set_res = list(set(res_poisson))\n",
        "  normalized = []\n",
        "  for i in set_res: \n",
        "    normalized.append(round(((res_poisson.count(i) / len(res_poisson)) * 100), 2))\n",
        "    labels.append(str(i+1)) \n",
        " \n",
        "  #grafico teorico\n",
        "  teoria = []\n",
        "  lam = bambini / malattia\n",
        "  for i in set_res:\n",
        "    teoria.append((math.e**-lam)*((lam**i)/math.factorial(i)) * 100)\n",
        "\n",
        "  lab_arr = np.arange(len(labels))\n",
        "\n",
        "  w=0.4\n",
        "  plt.bar(lab_arr-(w/2), normalized, width=w)\n",
        "  plt.bar(lab_arr+(w/2), teoria, width=w)\n",
        "\n",
        "  legenda = [\"Risultati ottenuti\", \"Risultati attesi\"]\n",
        "  plt.legend(legenda,loc='upper center', bbox_to_anchor=(0.5, -0.05), fancybox=True, shadow=True, ncol=5)"
      ],
      "metadata": {
        "id": "L8XSvxDZMGZe"
      },
      "execution_count": 123,
      "outputs": []
    },
    {
      "cell_type": "code",
      "source": [
        "poisson()"
      ],
      "metadata": {
        "id": "H4CjxxyZ7Rxc",
        "colab": {
          "base_uri": "https://localhost:8080/",
          "height": 282
        },
        "outputId": "2dbb509f-58d2-42aa-ab16-375f7280e43e"
      },
      "execution_count": 124,
      "outputs": [
        {
          "output_type": "display_data",
          "data": {
            "image/png": "[encoded data removed]",
            "text/plain": [
              "<Figure size 432x288 with 1 Axes>"
            ]
          },
          "metadata": {
            "needs_background": "light"
          }
        }
      ]
    },
    {
      "cell_type": "code",
      "source": [
        "len(res_poisson)"
      ],
      "metadata": {
        "colab": {
          "base_uri": "https://localhost:8080/"
        },
        "id": "WFP4i9XAAbIz",
        "outputId": "e344bdc2-8761-4833-a054-b8fda7df0e71"
      },
      "execution_count": 125,
      "outputs": [
        {
          "output_type": "execute_result",
          "data": {
            "text/plain": [
              "100"
            ]
          },
          "metadata": {},
          "execution_count": 125
        }
      ]
    },
    {
      "cell_type": "code",
      "source": [
        ""
      ],
      "metadata": {
        "id": "3lC2LQIQT8Zr"
      },
      "execution_count": 125,
      "outputs": []
    }
  ]
}